{
 "cells": [
  {
   "cell_type": "code",
   "execution_count": 2,
   "id": "56b80a69-62e5-4c75-9944-067d4b5b7c8b",
   "metadata": {},
   "outputs": [],
   "source": [
    "import pandas as pd"
   ]
  },
  {
   "cell_type": "code",
   "execution_count": 10,
   "id": "72d0b265-3227-4ab4-83b4-79a1b41ca0a9",
   "metadata": {},
   "outputs": [],
   "source": [
    "pd.options.display.max_columns = 100\n",
    "pd.options.display.max_rows = 1000\n",
    "pd.set_option(\"display.max_colwidth\", None)"
   ]
  },
  {
   "cell_type": "code",
   "execution_count": 11,
   "id": "c69b18c8-9155-487e-ad65-3b6af0a49a20",
   "metadata": {},
   "outputs": [],
   "source": [
    "df = pd.read_csv('output/stiles.csv')"
   ]
  },
  {
   "cell_type": "code",
   "execution_count": 15,
   "id": "bcb62b1c-9c07-4162-9b7c-51031a6fae68",
   "metadata": {},
   "outputs": [
    {
     "data": {
      "text/plain": [
       "4377    https://twitter.com/stiles/status/955597623896850432\n",
       "4380    https://twitter.com/stiles/status/955594325622059008\n",
       "Name: url, dtype: object"
      ]
     },
     "execution_count": 15,
     "metadata": {},
     "output_type": "execute_result"
    }
   ],
   "source": [
    "df[df['content'].str.contains('debelius')]['url']"
   ]
  },
  {
   "cell_type": "code",
   "execution_count": null,
   "id": "5fb586d2-a5e7-4c7e-9d5a-4a5204e60bc5",
   "metadata": {},
   "outputs": [],
   "source": []
  }
 ],
 "metadata": {
  "kernelspec": {
   "display_name": "Python 3",
   "language": "python",
   "name": "python3"
  },
  "language_info": {
   "codemirror_mode": {
    "name": "ipython",
    "version": 3
   },
   "file_extension": ".py",
   "mimetype": "text/x-python",
   "name": "python",
   "nbconvert_exporter": "python",
   "pygments_lexer": "ipython3",
   "version": "3.8.8"
  }
 },
 "nbformat": 4,
 "nbformat_minor": 5
}
