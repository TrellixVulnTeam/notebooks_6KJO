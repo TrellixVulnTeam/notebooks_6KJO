{
 "cells": [
  {
   "cell_type": "markdown",
   "id": "3c4025f4-d5cb-4548-bb4a-056cb2b06294",
   "metadata": {},
   "source": [
    "# Ballon d'or nominees\n",
    "#### for card practice"
   ]
  },
  {
   "cell_type": "markdown",
   "id": "0835f65a-e4d4-4a4c-9a9a-388ecdc88b92",
   "metadata": {
    "tags": []
   },
   "source": [
    "### Import Python tools and Jupyter configuration"
   ]
  },
  {
   "cell_type": "code",
   "execution_count": 1,
   "id": "92a430bc-7c09-4efb-a3ec-2893eb1cdf75",
   "metadata": {},
   "outputs": [],
   "source": [
    "%load_ext lab_black"
   ]
  },
  {
   "cell_type": "code",
   "execution_count": 2,
   "id": "7e8af962-ec10-4227-b13e-f4c547a0ddc6",
   "metadata": {},
   "outputs": [],
   "source": [
    "import pandas as pd\n",
    "import requests\n",
    "import pageviewapi\n",
    "import datetime as dt\n",
    "from bs4 import BeautifulSoup\n",
    "import altair as alt"
   ]
  },
  {
   "cell_type": "code",
   "execution_count": 3,
   "id": "39dccd05-a116-4af2-a078-1dc2f29cc8bb",
   "metadata": {},
   "outputs": [],
   "source": [
    "pd.options.display.max_columns = 100\n",
    "pd.options.display.max_rows = 1000\n",
    "pd.options.display.max_colwidth = None"
   ]
  },
  {
   "cell_type": "markdown",
   "id": "3a74e483-93b7-47e7-9d62-3e7b846cbc3f",
   "metadata": {},
   "source": [
    "---"
   ]
  },
  {
   "cell_type": "markdown",
   "id": "b85a1cc4-c530-451c-8f49-34f623ed9554",
   "metadata": {},
   "source": [
    "### First, get a list of all nominees and their wiki article links"
   ]
  },
  {
   "cell_type": "code",
   "execution_count": null,
   "id": "2f9a33e3-66f6-4458-bdf5-a21c2377fbcc",
   "metadata": {},
   "outputs": [],
   "source": [
    "from urllib.request import urlopen\n",
    "from bs4 import BeautifulSoup\n",
    "\n",
    "html = urlopen(\"https://en.wikipedia.org/wiki/2021_Ballon_d%27Or\")"
   ]
  },
  {
   "cell_type": "code",
   "execution_count": null,
   "id": "ad01e2a0-46c7-442d-af05-95b2083f20bc",
   "metadata": {},
   "outputs": [],
   "source": [
    "soup = BeautifulSoup(html, \"html.parser\")"
   ]
  },
  {
   "cell_type": "code",
   "execution_count": 7,
   "id": "8fe448fd-8b0d-4cbd-a41d-d44d17ed5ec0",
   "metadata": {},
   "outputs": [],
   "source": [
    "table = soup.find_all(\"tbody\")[1]"
   ]
  },
  {
   "cell_type": "code",
   "execution_count": 8,
   "id": "9dc692ad-9245-46dc-9a73-245fac11cb1a",
   "metadata": {},
   "outputs": [],
   "source": [
    "names = []\n",
    "countries = []\n",
    "clubs = []\n",
    "pages = []\n",
    "wiki_links = []\n",
    "images = []"
   ]
  },
  {
   "cell_type": "code",
   "execution_count": 9,
   "id": "9088d372-ef04-4ed4-9fd9-072efb7d7cba",
   "metadata": {},
   "outputs": [],
   "source": [
    "for row in table.find_all(\"tr\"):\n",
    "    links = row.find_all(\"a\")\n",
    "    cells = row.find_all(\"td\")\n",
    "    for link in links:\n",
    "        countries.append(links[0].get(\"title\"))\n",
    "        names.append(links[1].text.strip())\n",
    "        clubs.append(links[3].get(\"title\"))\n",
    "        pages.append(links[1].get(\"href\"))"
   ]
  },
  {
   "cell_type": "markdown",
   "id": "a906eeec-a317-412f-b357-4d544e889db2",
   "metadata": {},
   "source": [
    "#### Then get links to wikipedia pages and thumbnails (not quite the raw image pattern...)"
   ]
  },
  {
   "cell_type": "code",
   "execution_count": 10,
   "id": "d36424a7-349d-401a-9a23-9f2f3d517959",
   "metadata": {},
   "outputs": [],
   "source": [
    "for page in pages:\n",
    "    wiki_links.append(\"https://en.wikipedia.org/\" + str(page))"
   ]
  },
  {
   "cell_type": "code",
   "execution_count": null,
   "id": "7d838891-8552-4d1f-8b82-1a3b52f4ed50",
   "metadata": {},
   "outputs": [],
   "source": [
    "img_links = []\n",
    "final_images = []\n",
    "for wiki in wiki_links:\n",
    "    pages = requests.get(str(wiki))\n",
    "    soup = BeautifulSoup(pages.text, \"html.parser\")\n",
    "    for image in soup.find_all(\"td\", {\"class\": \"infobox-image\"}):\n",
    "        links = image.find_all(\"a\")\n",
    "        img_links.append(\"https://en.wikipedia.org/\" + str(links[0].get(\"href\")))\n",
    "        "
   ]
  },
  {
   "cell_type": "code",
   "execution_count": null,
   "id": "950c6e0b-1f52-4003-bdc3-7579651e25cf",
   "metadata": {},
   "outputs": [],
   "source": [
    "for link in img_links:\n",
    "            img_page = requests.get(str(link))\n",
    "            soup = BeautifulSoup(img_page.text, \"html.parser\")\n",
    "            uploads = soup.find_all(\"a\")\n",
    "            final_images.append(uploads[9].get(\"href\"))"
   ]
  },
  {
   "cell_type": "code",
   "execution_count": null,
   "id": "3b8d5db1-755e-4fec-a814-1453839a121c",
   "metadata": {},
   "outputs": [],
   "source": []
  },
  {
   "cell_type": "code",
   "execution_count": null,
   "id": "2abf2bd1-556b-410c-ac7d-9cadbd06a814",
   "metadata": {},
   "outputs": [],
   "source": [
    "for source in images:\n",
    "    img_page = requests.get(\n",
    "        \"https://en.wikipedia.org//wiki/File:AlexiaPutellas-UEFAChampionsLeaguefinal.jpg\"\n",
    "    )\n",
    "    soup = BeautifulSoup(img_page.text, \"html.parser\")\n",
    "    uploads = soup.find_all(\"a\")\n",
    "    final_images.append(uploads[9].get(\"href\"))"
   ]
  },
  {
   "cell_type": "markdown",
   "id": "d3016071-f9b3-4873-b331-0329a81b1914",
   "metadata": {},
   "source": [
    "### Put all that info in a dataframe"
   ]
  },
  {
   "cell_type": "code",
   "execution_count": null,
   "id": "bc172a07-94db-4a77-9f73-5f9bcdfb22dc",
   "metadata": {},
   "outputs": [],
   "source": [
    "df = pd.DataFrame(\n",
    "    {\n",
    "        \"name\": names,\n",
    "        \"country\": countries,\n",
    "        \"club\": clubs,\n",
    "        \"wikipages\": wiki_links,\n",
    "        \"image\": final_images,\n",
    "    }\n",
    ").drop_duplicates()"
   ]
  },
  {
   "cell_type": "code",
   "execution_count": null,
   "id": "bf7965c7-38ef-4769-9464-51f339f0baa1",
   "metadata": {},
   "outputs": [],
   "source": [
    "df[\"class\"] = df[\"country\"].str.lower()"
   ]
  },
  {
   "cell_type": "markdown",
   "id": "fab0d702-6fa1-4a7d-af5e-f788105b83cf",
   "metadata": {
    "tags": []
   },
   "source": [
    "### Finally, put it in the google sheet for the rig"
   ]
  },
  {
   "cell_type": "code",
   "execution_count": null,
   "id": "d2af4ea1-4c86-4a86-aad0-2bfa9028ab93",
   "metadata": {
    "tags": []
   },
   "outputs": [],
   "source": [
    "from oauth2client.service_account import ServiceAccountCredentials\n",
    "import gspread"
   ]
  },
  {
   "cell_type": "code",
   "execution_count": null,
   "id": "bf9e9e82-1b2f-4315-ba47-83499cb52e5c",
   "metadata": {},
   "outputs": [],
   "source": [
    "from df2gspread import df2gspread as d2g"
   ]
  },
  {
   "cell_type": "code",
   "execution_count": null,
   "id": "08d4762e-1bd6-4f4c-a20a-df97d9e6ff86",
   "metadata": {},
   "outputs": [],
   "source": [
    "scope = [\"https://spreadsheets.google.com/feeds\"]\n",
    "credentials = ServiceAccountCredentials.from_json_keyfile_name(\n",
    "    \"jupyter-integration.json\", scope\n",
    ")\n",
    "gc = gspread.authorize(credentials)"
   ]
  },
  {
   "cell_type": "code",
   "execution_count": null,
   "id": "fdad1cf2-17ed-4b10-8644-1bdc3acdec91",
   "metadata": {},
   "outputs": [],
   "source": [
    "spreadsheet_key = \"1UeaZYxhc8WD-U0_G8T9xLgQ6MCDIJe6uW9Xg9rrYOWA\""
   ]
  },
  {
   "cell_type": "code",
   "execution_count": null,
   "id": "15036ca9-fd2b-473f-bae3-a5a880691f47",
   "metadata": {},
   "outputs": [],
   "source": [
    "wks_name = \"data_ballon\"\n",
    "d2g.upload(\n",
    "    df,\n",
    "    spreadsheet_key,\n",
    "    wks_name,\n",
    "    credentials=credentials,\n",
    "    row_names=False,\n",
    ")"
   ]
  },
  {
   "cell_type": "code",
   "execution_count": 1,
   "id": "72d35545-75ba-4f0f-b396-4f6eb013a7be",
   "metadata": {},
   "outputs": [],
   "source": [
    "import us"
   ]
  },
  {
   "cell_type": "code",
   "execution_count": null,
   "id": "d4a59f55-bc64-41d2-a00d-d89473ae957c",
   "metadata": {},
   "outputs": [],
   "source": []
  }
 ],
 "metadata": {
  "kernelspec": {
   "display_name": "Python 3 (ipykernel)",
   "language": "python",
   "name": "python3"
  },
  "language_info": {
   "codemirror_mode": {
    "name": "ipython",
    "version": 3
   },
   "file_extension": ".py",
   "mimetype": "text/x-python",
   "name": "python",
   "nbconvert_exporter": "python",
   "pygments_lexer": "ipython3",
   "version": "3.9.13"
  }
 },
 "nbformat": 4,
 "nbformat_minor": 5
}
