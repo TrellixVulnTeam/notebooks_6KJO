{
 "cells": [
  {
   "cell_type": "markdown",
   "id": "a9dbb76b-8966-4f0b-92e8-95d41c2e65ce",
   "metadata": {},
   "source": [
    "### nwsl/us soccer financials over time\n",
    "### nwsl ownership/leadership demographics -- mostly men + investigation who are these people?\n",
    "### success of the nwsl compared to past leagues (fan records etc), compared to the mls\n",
    "### nationality of ballon d'or or fifa player of the year winners\n",
    "\n",
    "### could also do basics of the investigation with cards & highlights of the report\n",
    "\n",
    "### cba or attendance data\n",
    "\n",
    "### topline leadership data from wikipedia"
   ]
  },
  {
   "cell_type": "markdown",
   "id": "76ab1588-1ab9-49b3-8b69-1897945a8c50",
   "metadata": {},
   "source": [
    "### setup"
   ]
  },
  {
   "cell_type": "markdown",
   "id": "87c0749b-bf61-4261-8515-89a8cddb277e",
   "metadata": {
    "tags": []
   },
   "source": [
    "### Import Python tools and Jupyter configuration"
   ]
  },
  {
   "cell_type": "code",
   "execution_count": 1,
   "id": "231882d1-1998-40d5-b5a6-018455598be9",
   "metadata": {},
   "outputs": [],
   "source": [
    "%load_ext lab_black"
   ]
  },
  {
   "cell_type": "code",
   "execution_count": 2,
   "id": "56fe0009-5968-4f6c-bde5-4f2701905483",
   "metadata": {},
   "outputs": [],
   "source": [
    "import pandas as pd\n",
    "import requests\n",
    "import pageviewapi\n",
    "import datetime as dt\n",
    "from bs4 import BeautifulSoup\n",
    "import altair as alt"
   ]
  },
  {
   "cell_type": "code",
   "execution_count": 3,
   "id": "57accc31-c6aa-4831-a609-52a7822a54f0",
   "metadata": {},
   "outputs": [],
   "source": [
    "pd.options.display.max_columns = 100\n",
    "pd.options.display.max_rows = 1000\n",
    "pd.options.display.max_colwidth = None"
   ]
  },
  {
   "cell_type": "markdown",
   "id": "dd9ba99f-0029-4eb9-858e-160132877239",
   "metadata": {},
   "source": [
    "---"
   ]
  },
  {
   "cell_type": "markdown",
   "id": "06635285-86fe-4602-9738-6b016b5f9563",
   "metadata": {},
   "source": [
    "### get team links"
   ]
  },
  {
   "cell_type": "code",
   "execution_count": 7,
   "id": "6edaaf5d-dc8a-4f93-b568-4f600a6791ae",
   "metadata": {},
   "outputs": [],
   "source": [
    "from urllib.request import urlopen\n",
    "from bs4 import BeautifulSoup\n",
    "\n",
    "\n",
    "html = urlopen(\"https://en.wikipedia.org/wiki/National_Women%27s_Soccer_League\")"
   ]
  },
  {
   "cell_type": "code",
   "execution_count": 8,
   "id": "f474fd59-82c6-4b2f-9144-4ba657f40611",
   "metadata": {},
   "outputs": [],
   "source": [
    "soup = BeautifulSoup(html, \"html.parser\")\n",
    "table = soup.find_all(\"tbody\")[1]"
   ]
  },
  {
   "cell_type": "code",
   "execution_count": 21,
   "id": "7ef8de9b-fa7c-44b7-b41b-d7aa593b779b",
   "metadata": {},
   "outputs": [],
   "source": [
    "pages = []\n",
    "for row in table.find_all(\"tr\"):\n",
    "    links.append(row.find_all(\"a\"))\n",
    "    for link in links[1:]:\n",
    "        pages.append(link[0].get(\"href\"))"
   ]
  },
  {
   "cell_type": "code",
   "execution_count": 23,
   "id": "2752c9b8-0314-4925-9f0c-e17da7d4f424",
   "metadata": {},
   "outputs": [],
   "source": [
    "pages = pages[0:11]"
   ]
  },
  {
   "cell_type": "code",
   "execution_count": 25,
   "id": "914a91d3-26d5-4a9d-8087-330ffe813a55",
   "metadata": {},
   "outputs": [],
   "source": [
    "links = []\n",
    "for page in pages:\n",
    "    link.append(\"https://en.wikipedia.org/\" + str(page))"
   ]
  },
  {
   "cell_type": "code",
   "execution_count": null,
   "id": "2b190601-7609-4ecc-b337-af022771ca7c",
   "metadata": {},
   "outputs": [],
   "source": []
  }
 ],
 "metadata": {
  "kernelspec": {
   "display_name": "Python 3 (ipykernel)",
   "language": "python",
   "name": "python3"
  },
  "language_info": {
   "codemirror_mode": {
    "name": "ipython",
    "version": 3
   },
   "file_extension": ".py",
   "mimetype": "text/x-python",
   "name": "python",
   "nbconvert_exporter": "python",
   "pygments_lexer": "ipython3",
   "version": "3.9.13"
  }
 },
 "nbformat": 4,
 "nbformat_minor": 5
}
