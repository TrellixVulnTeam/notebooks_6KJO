{
 "cells": [
  {
   "cell_type": "markdown",
   "id": "84250da9-1e5f-468f-b977-310d9d616300",
   "metadata": {
    "tags": []
   },
   "source": [
    "# Makeover Monday: Bike crashes in London"
   ]
  },
  {
   "cell_type": "markdown",
   "id": "9a86ff1e-0214-47e9-98ef-0817c97bf93f",
   "metadata": {
    "tags": []
   },
   "source": [
    "### Import Python tools and Jupyter configuration"
   ]
  },
  {
   "cell_type": "code",
   "execution_count": 1,
   "id": "4fa9a2b9-dfab-4f6e-b639-ade5fdcaa558",
   "metadata": {},
   "outputs": [],
   "source": [
    "%load_ext lab_black"
   ]
  },
  {
   "cell_type": "code",
   "execution_count": 21,
   "id": "9221efe2-cea3-4005-902f-391705860989",
   "metadata": {},
   "outputs": [],
   "source": [
    "import pandas as pd\n",
    "import geopandas as gpd\n",
    "import altair as alt\n",
    "from vega_datasets import data\n",
    "import altair_latimes as lat\n",
    "import datetime as dt"
   ]
  },
  {
   "cell_type": "code",
   "execution_count": 22,
   "id": "80ed8536-5805-4451-9f0c-0e064486ea7e",
   "metadata": {},
   "outputs": [
    {
     "data": {
      "text/plain": [
       "DataTransformerRegistry.enable('default')"
      ]
     },
     "execution_count": 22,
     "metadata": {},
     "output_type": "execute_result"
    }
   ],
   "source": [
    "pd.options.display.max_columns = 100\n",
    "pd.options.display.max_rows = 100\n",
    "pd.options.display.max_colwidth = None\n",
    "alt.data_transformers.disable_max_rows()"
   ]
  },
  {
   "cell_type": "markdown",
   "id": "c800f098-ceb2-42e1-9484-578f7fda3114",
   "metadata": {},
   "source": [
    "---"
   ]
  },
  {
   "cell_type": "code",
   "execution_count": 23,
   "id": "9b77ef03-73bc-4318-92ec-8cc820f5e5e7",
   "metadata": {},
   "outputs": [],
   "source": [
    "boroughs = alt.topo_feature(data.londonBoroughs.url, \"boroughs\")\n",
    "centroids = data.londonCentroids.url"
   ]
  },
  {
   "cell_type": "code",
   "execution_count": 24,
   "id": "67b09483-9800-4e6e-a5f8-fe1cf42447bf",
   "metadata": {},
   "outputs": [],
   "source": [
    "background = (\n",
    "    alt.Chart(boroughs)\n",
    "    .mark_geoshape(stroke=\"white\", strokeWidth=1)\n",
    "    .encode(\n",
    "        color=alt.value(\"#eee\"),\n",
    "    )\n",
    "    .properties(width=700, height=500)\n",
    ")"
   ]
  },
  {
   "cell_type": "code",
   "execution_count": 25,
   "id": "b14d8da1-f782-4464-b31f-60e57a75bc87",
   "metadata": {},
   "outputs": [],
   "source": [
    "labels = (\n",
    "    alt.Chart(centroids)\n",
    "    .mark_text()\n",
    "    .encode(\n",
    "        longitude=\"cx:Q\",\n",
    "        latitude=\"cy:Q\",\n",
    "        text=\"bLabel:N\",\n",
    "        size=alt.value(8),\n",
    "        opacity=alt.value(0.6),\n",
    "    )\n",
    "    .transform_calculate(\n",
    "        \"bLabel\",\n",
    "        \"indexof (datum.name,' ') > 0  ? substring(datum.name,0,indexof(datum.name, ' ')) : datum.name\",\n",
    "    )\n",
    ")"
   ]
  },
  {
   "cell_type": "code",
   "execution_count": 26,
   "id": "2ffba5eb-8f7a-4814-9b83-d4d43a691dca",
   "metadata": {},
   "outputs": [
    {
     "data": {
      "text/html": [
       "\n",
       "<div id=\"altair-viz-caf48c432ca3424e93489e540f41b0e6\"></div>\n",
       "<script type=\"text/javascript\">\n",
       "  (function(spec, embedOpt){\n",
       "    let outputDiv = document.currentScript.previousElementSibling;\n",
       "    if (outputDiv.id !== \"altair-viz-caf48c432ca3424e93489e540f41b0e6\") {\n",
       "      outputDiv = document.getElementById(\"altair-viz-caf48c432ca3424e93489e540f41b0e6\");\n",
       "    }\n",
       "    const paths = {\n",
       "      \"vega\": \"https://cdn.jsdelivr.net/npm//vega@5?noext\",\n",
       "      \"vega-lib\": \"https://cdn.jsdelivr.net/npm//vega-lib?noext\",\n",
       "      \"vega-lite\": \"https://cdn.jsdelivr.net/npm//vega-lite@4.8.1?noext\",\n",
       "      \"vega-embed\": \"https://cdn.jsdelivr.net/npm//vega-embed@6?noext\",\n",
       "    };\n",
       "\n",
       "    function loadScript(lib) {\n",
       "      return new Promise(function(resolve, reject) {\n",
       "        var s = document.createElement('script');\n",
       "        s.src = paths[lib];\n",
       "        s.async = true;\n",
       "        s.onload = () => resolve(paths[lib]);\n",
       "        s.onerror = () => reject(`Error loading script: ${paths[lib]}`);\n",
       "        document.getElementsByTagName(\"head\")[0].appendChild(s);\n",
       "      });\n",
       "    }\n",
       "\n",
       "    function showError(err) {\n",
       "      outputDiv.innerHTML = `<div class=\"error\" style=\"color:red;\">${err}</div>`;\n",
       "      throw err;\n",
       "    }\n",
       "\n",
       "    function displayChart(vegaEmbed) {\n",
       "      vegaEmbed(outputDiv, spec, embedOpt)\n",
       "        .catch(err => showError(`Javascript Error: ${err.message}<br>This usually means there's a typo in your chart specification. See the javascript console for the full traceback.`));\n",
       "    }\n",
       "\n",
       "    if(typeof define === \"function\" && define.amd) {\n",
       "      requirejs.config({paths});\n",
       "      require([\"vega-embed\"], displayChart, err => showError(`Error loading script: ${err.message}`));\n",
       "    } else if (typeof vegaEmbed === \"function\") {\n",
       "      displayChart(vegaEmbed);\n",
       "    } else {\n",
       "      loadScript(\"vega\")\n",
       "        .then(() => loadScript(\"vega-lite\"))\n",
       "        .then(() => loadScript(\"vega-embed\"))\n",
       "        .catch(showError)\n",
       "        .then(() => displayChart(vegaEmbed));\n",
       "    }\n",
       "  })({\"config\": {\"view\": {\"continuousWidth\": 400, \"continuousHeight\": 300}}, \"layer\": [{\"data\": {\"url\": \"https://cdn.jsdelivr.net/npm/vega-datasets@v1.29.0/data/londonBoroughs.json\", \"format\": {\"feature\": \"boroughs\", \"type\": \"topojson\"}}, \"mark\": {\"type\": \"geoshape\", \"stroke\": \"white\", \"strokeWidth\": 1}, \"encoding\": {\"color\": {\"value\": \"#eee\"}}, \"height\": 500, \"width\": 700}, {\"data\": {\"url\": \"https://cdn.jsdelivr.net/npm/vega-datasets@v1.29.0/data/londonCentroids.json\"}, \"mark\": \"text\", \"encoding\": {\"latitude\": {\"field\": \"cy\", \"type\": \"quantitative\"}, \"longitude\": {\"field\": \"cx\", \"type\": \"quantitative\"}, \"opacity\": {\"value\": 0.6}, \"size\": {\"value\": 8}, \"text\": {\"type\": \"nominal\", \"field\": \"bLabel\"}}, \"transform\": [{\"calculate\": \"indexof (datum.name,' ') > 0  ? substring(datum.name,0,indexof(datum.name, ' ')) : datum.name\", \"as\": \"bLabel\"}]}], \"$schema\": \"https://vega.github.io/schema/vega-lite/v4.8.1.json\"}, {\"mode\": \"vega-lite\"});\n",
       "</script>"
      ],
      "text/plain": [
       "alt.LayerChart(...)"
      ]
     },
     "execution_count": 26,
     "metadata": {},
     "output_type": "execute_result"
    }
   ],
   "source": [
    "background + labels"
   ]
  },
  {
   "cell_type": "code",
   "execution_count": null,
   "id": "4b6069ad-da43-43e3-b26d-e61bcdc2dd6a",
   "metadata": {},
   "outputs": [],
   "source": []
  }
 ],
 "metadata": {
  "kernelspec": {
   "display_name": "Python 3 (ipykernel)",
   "language": "python",
   "name": "python3"
  },
  "language_info": {
   "codemirror_mode": {
    "name": "ipython",
    "version": 3
   },
   "file_extension": ".py",
   "mimetype": "text/x-python",
   "name": "python",
   "nbconvert_exporter": "python",
   "pygments_lexer": "ipython3",
   "version": "3.8.11"
  }
 },
 "nbformat": 4,
 "nbformat_minor": 5
}
