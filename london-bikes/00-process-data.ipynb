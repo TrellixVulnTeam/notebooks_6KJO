{
 "cells": [
  {
   "cell_type": "markdown",
   "id": "0700b3e9-6257-457f-897f-9810f44fcbdb",
   "metadata": {
    "tags": []
   },
   "source": [
    "# Makeover Monday: Bike crashes in London"
   ]
  },
  {
   "cell_type": "markdown",
   "id": "9be9476c-edc8-4e4d-9e21-e3a11e68aa94",
   "metadata": {},
   "source": [
    "### Import Python tools and Jupyter configuration"
   ]
  },
  {
   "cell_type": "code",
   "execution_count": 1,
   "id": "76f69f57-2337-4bc0-9899-b5689d007349",
   "metadata": {},
   "outputs": [],
   "source": [
    "%load_ext lab_black"
   ]
  },
  {
   "cell_type": "code",
   "execution_count": 2,
   "id": "6e9aa07b-10b8-485d-a903-56c7b17cdcde",
   "metadata": {},
   "outputs": [
    {
     "name": "stderr",
     "output_type": "stream",
     "text": [
      "/Users/mhustiles/.local/share/virtualenvs/notebooks-xu8v5Vvv/lib/python3.8/site-packages/geopandas/_compat.py:106: UserWarning: The Shapely GEOS version (3.8.0-CAPI-1.13.1 ) is incompatible with the GEOS version PyGEOS was compiled with (3.9.1-CAPI-1.14.2). Conversions between both will be slow.\n",
      "  warnings.warn(\n"
     ]
    }
   ],
   "source": [
    "import pandas as pd\n",
    "import geopandas as gpd\n",
    "import altair as alt\n",
    "import altair_latimes as lat\n",
    "import datetime as dt"
   ]
  },
  {
   "cell_type": "code",
   "execution_count": 3,
   "id": "56be2d49-7a31-4f84-9ce2-0dc899c91a29",
   "metadata": {},
   "outputs": [
    {
     "data": {
      "text/plain": [
       "DataTransformerRegistry.enable('default')"
      ]
     },
     "execution_count": 3,
     "metadata": {},
     "output_type": "execute_result"
    }
   ],
   "source": [
    "pd.options.display.max_columns = 100\n",
    "pd.options.display.max_rows = 100\n",
    "pd.options.display.max_colwidth = None\n",
    "alt.data_transformers.disable_max_rows()"
   ]
  },
  {
   "cell_type": "code",
   "execution_count": 4,
   "id": "9b9ef8d0-2da9-4912-9d29-aa0d83495935",
   "metadata": {},
   "outputs": [],
   "source": [
    "today = dt.datetime.today().strftime(\"%Y-%m-%d\")"
   ]
  },
  {
   "cell_type": "markdown",
   "id": "bb26b87e-c94a-4b08-9e9e-a4f1a0afa055",
   "metadata": {},
   "source": [
    "---"
   ]
  },
  {
   "cell_type": "code",
   "execution_count": 5,
   "id": "5feb6404-2480-4cb2-8b1d-5b5179420260",
   "metadata": {},
   "outputs": [],
   "source": [
    "# https://data.world/makeovermonday/2021w31/workspace/file?filename=Bike+Collisions.xlsx\n",
    "src = pd.read_excel(\"https://query.data.world/s/tfaspfre5yetduocupcyfbhdawcv6y\")"
   ]
  },
  {
   "cell_type": "code",
   "execution_count": 6,
   "id": "fdc41aed-9ed3-4b26-b0b6-18cc528c8ad9",
   "metadata": {},
   "outputs": [],
   "source": [
    "src.columns = src.columns.str.lower().str.replace(\" \", \"\", regex=False)"
   ]
  },
  {
   "cell_type": "markdown",
   "id": "6078c8a9-0bba-4f4c-a06f-a5cfc82aeaf2",
   "metadata": {},
   "source": [
    "### Dates"
   ]
  },
  {
   "cell_type": "code",
   "execution_count": 7,
   "id": "a5250d3c-2ecb-4e1c-97a8-eaaa47c260ca",
   "metadata": {},
   "outputs": [],
   "source": [
    "src[\"year\"] = src[\"date\"].dt.year.astype(str)\n",
    "src[\"weekday\"] = src[\"date\"].dt.day_name()\n",
    "src[\"monthname\"] = src[\"date\"].dt.month_name()\n",
    "src[\"monthyear\"] = src[\"date\"].dt.strftime(\"%m-%Y\")"
   ]
  },
  {
   "cell_type": "markdown",
   "id": "7798d401-f135-4add-831c-1bf47bfab57a",
   "metadata": {},
   "source": [
    "### Times"
   ]
  },
  {
   "cell_type": "code",
   "execution_count": 8,
   "id": "afae4a7c-5a8a-4762-bfe2-95aa96f23349",
   "metadata": {},
   "outputs": [],
   "source": [
    "src[\"date_clean\"] = [d.date() for d in src[\"date\"]]"
   ]
  },
  {
   "cell_type": "code",
   "execution_count": 9,
   "id": "e0db9edb-016c-46a4-8ce1-6a191632a044",
   "metadata": {},
   "outputs": [],
   "source": [
    "src[\"hour\"] = pd.to_datetime(src[\"date\"]).dt.hour"
   ]
  },
  {
   "cell_type": "markdown",
   "id": "fe205547-f11e-4894-a0e4-5ecae0a682d0",
   "metadata": {},
   "source": [
    "### Categorize the time of the incident"
   ]
  },
  {
   "cell_type": "code",
   "execution_count": 10,
   "id": "c7dde9b7-dd9e-402e-b8a9-c44ddbb57cc8",
   "metadata": {},
   "outputs": [],
   "source": [
    "def categorize_hours(h):\n",
    "    if (h > 4) and (h <= 8):\n",
    "        return \"5-8am\"\n",
    "    elif (h > 8) and (h <= 12):\n",
    "        return \"9-noon\"\n",
    "    elif (h > 12) and (h <= 16):\n",
    "        return \"1-4pm\"\n",
    "    elif (h > 16) and (h <= 20):\n",
    "        return \"5-8pm\"\n",
    "    elif (h > 20) and (h <= 24):\n",
    "        return \"9-midnight\"\n",
    "    elif h <= 4:\n",
    "        return \"1-4am\""
   ]
  },
  {
   "cell_type": "code",
   "execution_count": 11,
   "id": "0d35b9a2-6929-4233-880c-a13c92cd3be5",
   "metadata": {},
   "outputs": [],
   "source": [
    "src[\"time_period\"] = src[\"hour\"].apply(categorize_hours)"
   ]
  },
  {
   "cell_type": "markdown",
   "id": "c68cad49-1de9-40b9-b307-07f3ca299ea7",
   "metadata": {},
   "source": [
    "### Just solo cyclist incidents"
   ]
  },
  {
   "cell_type": "code",
   "execution_count": 12,
   "id": "f4ea5d62-ae12-43cc-83b9-c8fe80aa2082",
   "metadata": {},
   "outputs": [],
   "source": [
    "src = src[src[\"casualties\"] == \"Cyclist\"]"
   ]
  },
  {
   "cell_type": "markdown",
   "id": "5d78fac1-2cf9-4d89-bdb3-73f050e1aef7",
   "metadata": {
    "tags": []
   },
   "source": [
    "### Clean up"
   ]
  },
  {
   "cell_type": "code",
   "execution_count": 13,
   "id": "907ce3f0-5251-44de-b8e9-acbe3001c959",
   "metadata": {},
   "outputs": [],
   "source": [
    "src.drop([\"url\", \"apiurl\", \"date\", \"casualties\"], inplace=True, axis=1)"
   ]
  },
  {
   "cell_type": "code",
   "execution_count": 14,
   "id": "e66ece0c-c55b-4905-855b-3475b1d6ed2e",
   "metadata": {},
   "outputs": [],
   "source": [
    "src.rename(columns={\"date_clean\": \"date\"}, inplace=True)"
   ]
  },
  {
   "cell_type": "markdown",
   "id": "173354b0-fb0b-4ca9-bbd1-751a17909ee7",
   "metadata": {},
   "source": [
    "---"
   ]
  },
  {
   "cell_type": "code",
   "execution_count": 15,
   "id": "d6ca1ebc-4337-4dfc-b1d7-007a58cde06d",
   "metadata": {},
   "outputs": [],
   "source": [
    "df = src.copy()"
   ]
  },
  {
   "cell_type": "code",
   "execution_count": 16,
   "id": "bd979094-06b8-4032-ae62-4fb49f65b1bc",
   "metadata": {},
   "outputs": [
    {
     "data": {
      "text/plain": [
       "slight     51707\n",
       "serious     7396\n",
       "fatal        188\n",
       "Name: severity, dtype: int64"
      ]
     },
     "execution_count": 16,
     "metadata": {},
     "output_type": "execute_result"
    }
   ],
   "source": [
    "df.severity.value_counts()"
   ]
  },
  {
   "cell_type": "markdown",
   "id": "cbc84016-0914-4252-a676-dce6374eae36",
   "metadata": {},
   "source": [
    "### Convert to geodataframe with lat/lon"
   ]
  },
  {
   "cell_type": "code",
   "execution_count": 17,
   "id": "5dfc4225-bdff-4e7c-8a7a-90c017a41072",
   "metadata": {},
   "outputs": [],
   "source": [
    "df_geo = gpd.GeoDataFrame(\n",
    "    df, geometry=gpd.points_from_xy(df.longitude, df.latitude), crs=4326\n",
    ")"
   ]
  },
  {
   "cell_type": "code",
   "execution_count": 18,
   "id": "d1b6ea6c-d50e-40f2-9526-af3ee416f814",
   "metadata": {},
   "outputs": [],
   "source": [
    "df_geo = df_geo.to_crs(27700)"
   ]
  },
  {
   "cell_type": "markdown",
   "id": "af1cb071-41ab-4326-b38a-ee8a212bbf19",
   "metadata": {},
   "source": [
    "---"
   ]
  },
  {
   "cell_type": "markdown",
   "id": "00a06657-a6aa-4f1d-9bde-6df616452e47",
   "metadata": {},
   "source": [
    "### Years"
   ]
  },
  {
   "cell_type": "code",
   "execution_count": 19,
   "id": "3dad69c9-0d64-4459-bfb7-9449074df7c2",
   "metadata": {},
   "outputs": [],
   "source": [
    "years = df.groupby([\"year\"]).agg({\"numberofcasualties\": \"sum\"}).reset_index()"
   ]
  },
  {
   "cell_type": "markdown",
   "id": "7a2f15aa-30ac-4e27-b077-00361e4c6e19",
   "metadata": {},
   "source": [
    "### Wards"
   ]
  },
  {
   "cell_type": "code",
   "execution_count": 20,
   "id": "0e5fb16a-4304-4dcf-a612-df2587f78eb5",
   "metadata": {},
   "outputs": [],
   "source": [
    "wards = df.groupby([\"ward\", \"year\"]).agg({\"numberofcasualties\": \"sum\"}).reset_index()"
   ]
  },
  {
   "cell_type": "markdown",
   "id": "2de25e82-5990-4062-936e-e72ec6b50d41",
   "metadata": {},
   "source": [
    "### Boroughs"
   ]
  },
  {
   "cell_type": "code",
   "execution_count": 21,
   "id": "e4cfb8a2-d292-43e8-af3b-1ad5db31a445",
   "metadata": {},
   "outputs": [],
   "source": [
    "boroughs = (\n",
    "    df.groupby([\"borough\", \"year\"]).agg({\"numberofcasualties\": \"sum\"}).reset_index()\n",
    ")"
   ]
  },
  {
   "cell_type": "markdown",
   "id": "5f11b4a8-fe8a-4aa3-8b15-61adc91ce689",
   "metadata": {},
   "source": [
    "---"
   ]
  },
  {
   "cell_type": "markdown",
   "id": "f914eaa8-d30d-4c9f-af33-77f21e7bb79b",
   "metadata": {},
   "source": [
    "## Geography"
   ]
  },
  {
   "cell_type": "code",
   "execution_count": 22,
   "id": "83688f6e-821b-4627-8bb5-df847e8963f6",
   "metadata": {},
   "outputs": [],
   "source": [
    "# via https://data.london.gov.uk/dataset/statistical-gis-boundary-files-london &\n",
    "# https://data.london.gov.uk/dataset/inner-and-outer-london-boundaries-london-plan-consultation-2009"
   ]
  },
  {
   "cell_type": "markdown",
   "id": "25154682-e4eb-4ec6-a53b-5181d4d1d099",
   "metadata": {},
   "source": [
    "### Wards"
   ]
  },
  {
   "cell_type": "code",
   "execution_count": 23,
   "id": "0800d2ce-1fd6-453d-94c1-0a11f2f24c62",
   "metadata": {},
   "outputs": [],
   "source": [
    "wards_geo = gpd.read_file(\n",
    "    \"data/raw/London-wards-2018/London-wards-2018_ESRI/London_Ward.shp\", crs=4326\n",
    ")"
   ]
  },
  {
   "cell_type": "code",
   "execution_count": 24,
   "id": "e55bf76e-fe97-4a91-bf77-e038fbf09980",
   "metadata": {},
   "outputs": [],
   "source": [
    "wards_geo.crs = \"epsg:27700\""
   ]
  },
  {
   "cell_type": "code",
   "execution_count": 25,
   "id": "3f6ba99d-cf0b-466a-ad22-f6f3576d6a77",
   "metadata": {},
   "outputs": [],
   "source": [
    "wards_geo.columns = wards_geo.columns.str.lower()"
   ]
  },
  {
   "cell_type": "markdown",
   "id": "ccb5f4aa-52ef-426a-b1d8-b2e60a7f8077",
   "metadata": {},
   "source": [
    "### Boroughs"
   ]
  },
  {
   "cell_type": "code",
   "execution_count": 26,
   "id": "cf3b20a8-84d7-400a-97fe-03e5cea7d967",
   "metadata": {},
   "outputs": [],
   "source": [
    "boroughs_geo = gpd.read_file(\n",
    "    \"data/raw/statistical-gis-boundaries-london/ESRI/London_Borough_Excluding_MHW.shp\"\n",
    ")"
   ]
  },
  {
   "cell_type": "code",
   "execution_count": 27,
   "id": "1f5962f3-351d-46f3-ad1b-9ac637888055",
   "metadata": {},
   "outputs": [],
   "source": [
    "boroughs_geo.crs = \"epsg:27700\""
   ]
  },
  {
   "cell_type": "code",
   "execution_count": 28,
   "id": "f93b72ed-5e62-4e38-9f62-aadb91a277e8",
   "metadata": {},
   "outputs": [],
   "source": [
    "boroughs_geo.columns = boroughs_geo.columns.str.lower()"
   ]
  },
  {
   "cell_type": "markdown",
   "id": "81da3fdb-4084-4317-8995-c7dc7fb95ac4",
   "metadata": {},
   "source": [
    "### London city boundary"
   ]
  },
  {
   "cell_type": "code",
   "execution_count": 29,
   "id": "61e2d36f-39f7-4619-9de0-788538286533",
   "metadata": {},
   "outputs": [],
   "source": [
    "london_boundaries_geo = gpd.read_file(\n",
    "    \"data/raw/inner-outer-london-shp/lp-consultation-oct-2009-inner-outer-london.shp\"\n",
    ")"
   ]
  },
  {
   "cell_type": "code",
   "execution_count": 30,
   "id": "479c2011-bed5-4c1c-8b0a-861418b6740d",
   "metadata": {},
   "outputs": [],
   "source": [
    "london_boundaries_geo.columns = london_boundaries_geo.columns.str.lower()"
   ]
  },
  {
   "cell_type": "code",
   "execution_count": 31,
   "id": "381091e6-5846-4524-ba81-1f1d3442451d",
   "metadata": {},
   "outputs": [],
   "source": [
    "london_boundaries_geo.crs = \"epsg:27700\""
   ]
  },
  {
   "cell_type": "markdown",
   "id": "ab0eff66-8b30-4bbf-9263-cc1e01470207",
   "metadata": {},
   "source": [
    "### Dissolve the inner and outer boundaries"
   ]
  },
  {
   "cell_type": "code",
   "execution_count": 32,
   "id": "c0ebff0f-afb8-4f70-b77f-6036da25625c",
   "metadata": {},
   "outputs": [],
   "source": [
    "london_geo = london_boundaries_geo.dissolve(by=\"source\")"
   ]
  },
  {
   "cell_type": "markdown",
   "id": "3630a05b-cfc7-4e73-9a8a-95ed7b8dd8bb",
   "metadata": {},
   "source": [
    "### Inner vs. Outer"
   ]
  },
  {
   "cell_type": "code",
   "execution_count": 33,
   "id": "6ef579f8-4402-44de-8c12-5b467c3ecd4a",
   "metadata": {},
   "outputs": [],
   "source": [
    "inner = london_boundaries_geo[london_boundaries_geo[\"boundary\"] == \"Inner London\"]"
   ]
  },
  {
   "cell_type": "code",
   "execution_count": 34,
   "id": "4daf2322-6487-45fb-a538-5bee05230fe2",
   "metadata": {},
   "outputs": [],
   "source": [
    "outer = london_boundaries_geo[london_boundaries_geo[\"boundary\"] == \"Outer London\"]"
   ]
  },
  {
   "cell_type": "markdown",
   "id": "9f29b011-377c-4936-a4fc-2a58194cfeb0",
   "metadata": {},
   "source": [
    "### Half-mile hex grid"
   ]
  },
  {
   "cell_type": "code",
   "execution_count": 35,
   "id": "601cbce5-43f6-45b6-8b50-f3ab3ee8ef62",
   "metadata": {},
   "outputs": [],
   "source": [
    "hex_halfmile = gpd.read_file(\"data/processed/london-halfmile.geojson\")"
   ]
  },
  {
   "cell_type": "markdown",
   "id": "9d60776f-fd2b-4099-9681-7e9247edf9c1",
   "metadata": {},
   "source": [
    "---"
   ]
  },
  {
   "cell_type": "markdown",
   "id": "0d852d83-f3ef-4ba1-a18f-5e10091499b1",
   "metadata": {},
   "source": [
    "### Aggregate the collisions by hex bin"
   ]
  },
  {
   "cell_type": "code",
   "execution_count": 36,
   "id": "92992553-209b-42c0-ab95-da81845b7977",
   "metadata": {},
   "outputs": [],
   "source": [
    "merged = gpd.sjoin(df_geo, hex_halfmile, op=\"within\")"
   ]
  },
  {
   "cell_type": "code",
   "execution_count": 37,
   "id": "bf5e4ed4-0a2c-4e1a-8b8c-23f1d6cd6b51",
   "metadata": {},
   "outputs": [],
   "source": [
    "merged_hex_geo = (\n",
    "    merged.groupby([\"id\"])\n",
    "    .agg({\"accidentindex\": \"count\"})\n",
    "    .reset_index()\n",
    "    .rename(columns={\"accidentindex\": \"count\"})\n",
    ")"
   ]
  },
  {
   "cell_type": "code",
   "execution_count": 38,
   "id": "5bb94c00-9124-4197-9338-4a19efcd9762",
   "metadata": {},
   "outputs": [
    {
     "data": {
      "text/html": [
       "<div>\n",
       "<style scoped>\n",
       "    .dataframe tbody tr th:only-of-type {\n",
       "        vertical-align: middle;\n",
       "    }\n",
       "\n",
       "    .dataframe tbody tr th {\n",
       "        vertical-align: top;\n",
       "    }\n",
       "\n",
       "    .dataframe thead th {\n",
       "        text-align: right;\n",
       "    }\n",
       "</style>\n",
       "<table border=\"1\" class=\"dataframe\">\n",
       "  <thead>\n",
       "    <tr style=\"text-align: right;\">\n",
       "      <th></th>\n",
       "      <th>id</th>\n",
       "      <th>count</th>\n",
       "    </tr>\n",
       "  </thead>\n",
       "  <tbody>\n",
       "    <tr>\n",
       "      <th>1297</th>\n",
       "      <td>2362</td>\n",
       "      <td>414</td>\n",
       "    </tr>\n",
       "    <tr>\n",
       "      <th>1247</th>\n",
       "      <td>2305</td>\n",
       "      <td>408</td>\n",
       "    </tr>\n",
       "    <tr>\n",
       "      <th>1250</th>\n",
       "      <td>2308</td>\n",
       "      <td>373</td>\n",
       "    </tr>\n",
       "    <tr>\n",
       "      <th>1343</th>\n",
       "      <td>2417</td>\n",
       "      <td>333</td>\n",
       "    </tr>\n",
       "    <tr>\n",
       "      <th>1201</th>\n",
       "      <td>2252</td>\n",
       "      <td>329</td>\n",
       "    </tr>\n",
       "  </tbody>\n",
       "</table>\n",
       "</div>"
      ],
      "text/plain": [
       "        id  count\n",
       "1297  2362    414\n",
       "1247  2305    408\n",
       "1250  2308    373\n",
       "1343  2417    333\n",
       "1201  2252    329"
      ]
     },
     "execution_count": 38,
     "metadata": {},
     "output_type": "execute_result"
    }
   ],
   "source": [
    "merged_hex_geo.sort_values(\"count\", ascending=False).head()"
   ]
  },
  {
   "cell_type": "code",
   "execution_count": 39,
   "id": "0327c6d5-d3d1-4822-8baf-98cca9457523",
   "metadata": {},
   "outputs": [],
   "source": [
    "hex_map_counts = gpd.GeoDataFrame(merged_hex_geo.merge(hex_halfmile, on=\"id\"))"
   ]
  },
  {
   "cell_type": "markdown",
   "id": "f5c19e6b-1607-4077-b839-ca24dd2f771d",
   "metadata": {},
   "source": [
    "---"
   ]
  },
  {
   "cell_type": "markdown",
   "id": "7fa5150d-8ace-4fc3-ac97-eab241a244fc",
   "metadata": {},
   "source": [
    "## Exports"
   ]
  },
  {
   "cell_type": "markdown",
   "id": "fdb13608-b277-4f6f-af3f-155608aacbfc",
   "metadata": {},
   "source": [
    "### London boundaries"
   ]
  },
  {
   "cell_type": "code",
   "execution_count": 40,
   "id": "c47670eb-49f5-462d-9c6a-cf76f98ffcb3",
   "metadata": {},
   "outputs": [],
   "source": [
    "london_geo.to_file(\"data/processed/london_boundary_dissolved.geojson\", driver=\"GeoJSON\")"
   ]
  },
  {
   "cell_type": "markdown",
   "id": "33633015-0e9c-4c5b-8a60-86951876355f",
   "metadata": {},
   "source": [
    "### Hex bins with counts"
   ]
  },
  {
   "cell_type": "code",
   "execution_count": 41,
   "id": "43adde7b-a39a-4d1e-a039-9dc415bad598",
   "metadata": {},
   "outputs": [],
   "source": [
    "hex_map_counts.to_file(\"data/processed/hex_map_counts.geojson\", driver=\"GeoJSON\")"
   ]
  },
  {
   "cell_type": "markdown",
   "id": "8a0fced8-120a-4c28-84dd-212021d8f667",
   "metadata": {},
   "source": [
    "### Inner London boundary file"
   ]
  },
  {
   "cell_type": "code",
   "execution_count": 42,
   "id": "9713f283-335c-43fe-8265-ea4dc0080136",
   "metadata": {},
   "outputs": [],
   "source": [
    "inner.to_file(\"data/processed/inner_london.geojson\", driver=\"GeoJSON\")"
   ]
  },
  {
   "cell_type": "markdown",
   "id": "06843d04-5d41-469f-922d-7426e97628dd",
   "metadata": {},
   "source": [
    "### All the collisions"
   ]
  },
  {
   "cell_type": "code",
   "execution_count": 43,
   "id": "e522db0a-661e-40f4-b10d-6d5ed90f345f",
   "metadata": {},
   "outputs": [],
   "source": [
    "df.to_csv(\"data/processed/bike-collisions.csv\", index=False)"
   ]
  }
 ],
 "metadata": {
  "kernelspec": {
   "display_name": "Python 3 (ipykernel)",
   "language": "python",
   "name": "python3"
  },
  "language_info": {
   "codemirror_mode": {
    "name": "ipython",
    "version": 3
   },
   "file_extension": ".py",
   "mimetype": "text/x-python",
   "name": "python",
   "nbconvert_exporter": "python",
   "pygments_lexer": "ipython3",
   "version": "3.8.11"
  }
 },
 "nbformat": 4,
 "nbformat_minor": 5
}
