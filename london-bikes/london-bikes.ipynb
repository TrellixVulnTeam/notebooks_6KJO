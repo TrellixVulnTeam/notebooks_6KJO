{
 "cells": [
  {
   "cell_type": "markdown",
   "id": "0700b3e9-6257-457f-897f-9810f44fcbdb",
   "metadata": {
    "tags": []
   },
   "source": [
    "# Makeover Monday: Bike crashes in London"
   ]
  },
  {
   "cell_type": "markdown",
   "id": "9be9476c-edc8-4e4d-9e21-e3a11e68aa94",
   "metadata": {},
   "source": [
    "### Import Python tools and Jupyter configuration"
   ]
  },
  {
   "cell_type": "code",
   "execution_count": 23,
   "id": "76f69f57-2337-4bc0-9899-b5689d007349",
   "metadata": {},
   "outputs": [
    {
     "name": "stdout",
     "output_type": "stream",
     "text": [
      "The lab_black extension is already loaded. To reload it, use:\n",
      "  %reload_ext lab_black\n"
     ]
    }
   ],
   "source": [
    "%load_ext lab_black"
   ]
  },
  {
   "cell_type": "code",
   "execution_count": 24,
   "id": "6e9aa07b-10b8-485d-a903-56c7b17cdcde",
   "metadata": {},
   "outputs": [],
   "source": [
    "import pandas as pd\n",
    "import geopandas as gpd\n",
    "import altair as alt\n",
    "import altair_latimes as lat\n",
    "import datetime as dt"
   ]
  },
  {
   "cell_type": "code",
   "execution_count": 25,
   "id": "56be2d49-7a31-4f84-9ce2-0dc899c91a29",
   "metadata": {},
   "outputs": [],
   "source": [
    "pd.options.display.max_columns = 100\n",
    "pd.options.display.max_rows = 100\n",
    "pd.options.display.max_colwidth = None"
   ]
  },
  {
   "cell_type": "code",
   "execution_count": 26,
   "id": "9b9ef8d0-2da9-4912-9d29-aa0d83495935",
   "metadata": {},
   "outputs": [],
   "source": [
    "today = dt.datetime.today().strftime(\"%Y-%m-%d\")"
   ]
  },
  {
   "cell_type": "markdown",
   "id": "bb26b87e-c94a-4b08-9e9e-a4f1a0afa055",
   "metadata": {},
   "source": [
    "---"
   ]
  },
  {
   "cell_type": "code",
   "execution_count": null,
   "id": "5feb6404-2480-4cb2-8b1d-5b5179420260",
   "metadata": {},
   "outputs": [],
   "source": [
    "# https://data.world/makeovermonday/2021w31/workspace/file?filename=Bike+Collisions.xlsx\n",
    "src = pd.read_excel(\"https://query.data.world/s/tfaspfre5yetduocupcyfbhdawcv6y\")"
   ]
  },
  {
   "cell_type": "code",
   "execution_count": null,
   "id": "fdc41aed-9ed3-4b26-b0b6-18cc528c8ad9",
   "metadata": {},
   "outputs": [],
   "source": [
    "src.columns = src.columns.str.lower().str.replace(\" \", \"\", regex=False)"
   ]
  },
  {
   "cell_type": "markdown",
   "id": "6078c8a9-0bba-4f4c-a06f-a5cfc82aeaf2",
   "metadata": {},
   "source": [
    "### Dates"
   ]
  },
  {
   "cell_type": "code",
   "execution_count": null,
   "id": "a5250d3c-2ecb-4e1c-97a8-eaaa47c260ca",
   "metadata": {},
   "outputs": [],
   "source": [
    "src[\"year\"] = src[\"date\"].dt.year.astype(str)\n",
    "src[\"weekday\"] = src[\"date\"].dt.day_name()\n",
    "src[\"monthname\"] = src[\"date\"].dt.month_name()\n",
    "src[\"monthday\"] = src[\"date\"].dt.strftime(\"%m-%d\")\n",
    "src[\"monthyear\"] = src[\"date\"].dt.strftime(\"%m-%Y\")"
   ]
  },
  {
   "cell_type": "markdown",
   "id": "7798d401-f135-4add-831c-1bf47bfab57a",
   "metadata": {},
   "source": [
    "### Times"
   ]
  },
  {
   "cell_type": "code",
   "execution_count": null,
   "id": "afae4a7c-5a8a-4762-bfe2-95aa96f23349",
   "metadata": {},
   "outputs": [],
   "source": [
    "src[\"date_clean\"] = [d.date() for d in src[\"date\"]]"
   ]
  },
  {
   "cell_type": "code",
   "execution_count": null,
   "id": "e0db9edb-016c-46a4-8ce1-6a191632a044",
   "metadata": {},
   "outputs": [],
   "source": [
    "src[\"hour\"] = pd.to_datetime(src[\"date\"]).dt.hour"
   ]
  },
  {
   "cell_type": "markdown",
   "id": "fe205547-f11e-4894-a0e4-5ecae0a682d0",
   "metadata": {},
   "source": [
    "### Categorize the time of the incident"
   ]
  },
  {
   "cell_type": "code",
   "execution_count": null,
   "id": "c7dde9b7-dd9e-402e-b8a9-c44ddbb57cc8",
   "metadata": {},
   "outputs": [],
   "source": [
    "def categorize_hours(h):\n",
    "    if (h > 4) and (h <= 8):\n",
    "        return \"5-8am\"\n",
    "    elif (h > 8) and (h <= 12):\n",
    "        return \"9-noon\"\n",
    "    elif (h > 12) and (h <= 16):\n",
    "        return \"1-4pm\"\n",
    "    elif (h > 16) and (h <= 20):\n",
    "        return \"5-8pm\"\n",
    "    elif (h > 20) and (h <= 24):\n",
    "        return \"9-midnight\"\n",
    "    elif h <= 4:\n",
    "        return \"1-4am\""
   ]
  },
  {
   "cell_type": "code",
   "execution_count": null,
   "id": "32db9dfa-36c8-4d0c-82ed-75f3bbf2d9b0",
   "metadata": {},
   "outputs": [],
   "source": [
    "src[\"time_period\"] = src[\"hour\"].apply(categorize_hours)"
   ]
  },
  {
   "cell_type": "markdown",
   "id": "173354b0-fb0b-4ca9-bbd1-751a17909ee7",
   "metadata": {},
   "source": [
    "---"
   ]
  },
  {
   "cell_type": "code",
   "execution_count": null,
   "id": "b814adab-a483-4ef7-89c3-e92432321bf7",
   "metadata": {},
   "outputs": [],
   "source": [
    "df = src.copy()"
   ]
  },
  {
   "cell_type": "code",
   "execution_count": null,
   "id": "361fcf38-b203-4dee-afd5-3e10c9862c9e",
   "metadata": {},
   "outputs": [],
   "source": [
    "df.head()"
   ]
  },
  {
   "cell_type": "markdown",
   "id": "5f11b4a8-fe8a-4aa3-8b15-61adc91ce689",
   "metadata": {},
   "source": [
    "---"
   ]
  },
  {
   "cell_type": "markdown",
   "id": "f914eaa8-d30d-4c9f-af33-77f21e7bb79b",
   "metadata": {},
   "source": [
    "### Geography"
   ]
  },
  {
   "cell_type": "code",
   "execution_count": null,
   "id": "83688f6e-821b-4627-8bb5-df847e8963f6",
   "metadata": {},
   "outputs": [],
   "source": [
    "# via https://data.london.gov.uk/dataset/statistical-gis-boundary-files-london"
   ]
  },
  {
   "cell_type": "code",
   "execution_count": null,
   "id": "0e63dcc6-5db0-46a3-b18b-b0bcc5744b9d",
   "metadata": {},
   "outputs": [],
   "source": [
    "wards = gpd.read_file(\n",
    "    \"data/raw/London-wards-2018/London-wards-2018_ESRI/London_Ward.shp\"\n",
    ")"
   ]
  },
  {
   "cell_type": "code",
   "execution_count": null,
   "id": "c725268c-f330-4d43-8769-41580635c1c7",
   "metadata": {},
   "outputs": [],
   "source": [
    "wards.plot()"
   ]
  },
  {
   "cell_type": "code",
   "execution_count": null,
   "id": "488fccf7-6c4d-449f-a6aa-e2daff7191fc",
   "metadata": {},
   "outputs": [],
   "source": [
    "boroughs = gpd.read_file(\n",
    "    \"data/raw/statistical-gis-boundaries-london/ESRI/London_Borough_Excluding_MHW.shp\"\n",
    ")"
   ]
  },
  {
   "cell_type": "code",
   "execution_count": null,
   "id": "5e97e8de-817e-46ee-8aba-133b9b10603e",
   "metadata": {},
   "outputs": [],
   "source": [
    "boroughs.plot()"
   ]
  }
 ],
 "metadata": {
  "kernelspec": {
   "display_name": "Python 3 (ipykernel)",
   "language": "python",
   "name": "python3"
  },
  "language_info": {
   "codemirror_mode": {
    "name": "ipython",
    "version": 3
   },
   "file_extension": ".py",
   "mimetype": "text/x-python",
   "name": "python",
   "nbconvert_exporter": "python",
   "pygments_lexer": "ipython3",
   "version": "3.8.11"
  }
 },
 "nbformat": 4,
 "nbformat_minor": 5
}
