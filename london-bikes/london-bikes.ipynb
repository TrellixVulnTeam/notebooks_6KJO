{
 "cells": [
  {
   "cell_type": "markdown",
   "id": "0700b3e9-6257-457f-897f-9810f44fcbdb",
   "metadata": {
    "tags": []
   },
   "source": [
    "# Makeover Monday: Bike crashes in London"
   ]
  },
  {
   "cell_type": "markdown",
   "id": "9be9476c-edc8-4e4d-9e21-e3a11e68aa94",
   "metadata": {},
   "source": [
    "### Import Python tools and Jupyter configuration"
   ]
  },
  {
   "cell_type": "code",
   "execution_count": 23,
   "id": "76f69f57-2337-4bc0-9899-b5689d007349",
   "metadata": {},
   "outputs": [
    {
     "name": "stdout",
     "output_type": "stream",
     "text": [
      "The lab_black extension is already loaded. To reload it, use:\n",
      "  %reload_ext lab_black\n"
     ]
    }
   ],
   "source": [
    "%load_ext lab_black"
   ]
  },
  {
   "cell_type": "code",
   "execution_count": 24,
   "id": "6e9aa07b-10b8-485d-a903-56c7b17cdcde",
   "metadata": {},
   "outputs": [],
   "source": [
    "import pandas as pd\n",
    "import geopandas as gpd\n",
    "import altair as alt\n",
    "import altair_latimes as lat\n",
    "import datetime as dt"
   ]
  },
  {
   "cell_type": "code",
   "execution_count": 25,
   "id": "56be2d49-7a31-4f84-9ce2-0dc899c91a29",
   "metadata": {},
   "outputs": [],
   "source": [
    "pd.options.display.max_columns = 100\n",
    "pd.options.display.max_rows = 100\n",
    "pd.options.display.max_colwidth = None"
   ]
  },
  {
   "cell_type": "code",
   "execution_count": 26,
   "id": "9b9ef8d0-2da9-4912-9d29-aa0d83495935",
   "metadata": {},
   "outputs": [],
   "source": [
    "today = dt.datetime.today().strftime(\"%Y-%m-%d\")"
   ]
  },
  {
   "cell_type": "markdown",
   "id": "bb26b87e-c94a-4b08-9e9e-a4f1a0afa055",
   "metadata": {},
   "source": [
    "---"
   ]
  },
  {
   "cell_type": "code",
   "execution_count": 27,
   "id": "5feb6404-2480-4cb2-8b1d-5b5179420260",
   "metadata": {},
   "outputs": [],
   "source": [
    "# https://data.world/makeovermonday/2021w31/workspace/file?filename=Bike+Collisions.xlsx\n",
    "src = pd.read_excel(\"https://query.data.world/s/tfaspfre5yetduocupcyfbhdawcv6y\")"
   ]
  },
  {
   "cell_type": "code",
   "execution_count": 28,
   "id": "fdc41aed-9ed3-4b26-b0b6-18cc528c8ad9",
   "metadata": {},
   "outputs": [],
   "source": [
    "src.columns = src.columns.str.lower().str.replace(\" \", \"\", regex=False)"
   ]
  },
  {
   "cell_type": "markdown",
   "id": "6078c8a9-0bba-4f4c-a06f-a5cfc82aeaf2",
   "metadata": {},
   "source": [
    "### Dates"
   ]
  },
  {
   "cell_type": "code",
   "execution_count": 29,
   "id": "a5250d3c-2ecb-4e1c-97a8-eaaa47c260ca",
   "metadata": {},
   "outputs": [],
   "source": [
    "src[\"year\"] = src[\"date\"].dt.year.astype(str)\n",
    "src[\"weekday\"] = src[\"date\"].dt.day_name()\n",
    "src[\"monthname\"] = src[\"date\"].dt.month_name()\n",
    "src[\"monthday\"] = src[\"date\"].dt.strftime(\"%m-%d\")\n",
    "src[\"monthyear\"] = src[\"date\"].dt.strftime(\"%m-%Y\")"
   ]
  },
  {
   "cell_type": "markdown",
   "id": "7798d401-f135-4add-831c-1bf47bfab57a",
   "metadata": {},
   "source": [
    "### Times"
   ]
  },
  {
   "cell_type": "code",
   "execution_count": 30,
   "id": "afae4a7c-5a8a-4762-bfe2-95aa96f23349",
   "metadata": {},
   "outputs": [],
   "source": [
    "src[\"date_clean\"] = [d.date() for d in src[\"date\"]]"
   ]
  },
  {
   "cell_type": "code",
   "execution_count": 31,
   "id": "e0db9edb-016c-46a4-8ce1-6a191632a044",
   "metadata": {},
   "outputs": [],
   "source": [
    "src[\"hour\"] = pd.to_datetime(src[\"date\"]).dt.hour"
   ]
  },
  {
   "cell_type": "markdown",
   "id": "fe205547-f11e-4894-a0e4-5ecae0a682d0",
   "metadata": {},
   "source": [
    "### Categorize the time of the incident"
   ]
  },
  {
   "cell_type": "code",
   "execution_count": 32,
   "id": "c7dde9b7-dd9e-402e-b8a9-c44ddbb57cc8",
   "metadata": {},
   "outputs": [],
   "source": [
    "def categorize_hours(h):\n",
    "    if (h > 4) and (h <= 8):\n",
    "        return \"5-8am\"\n",
    "    elif (h > 8) and (h <= 12):\n",
    "        return \"9-noon\"\n",
    "    elif (h > 12) and (h <= 16):\n",
    "        return \"1-4pm\"\n",
    "    elif (h > 16) and (h <= 20):\n",
    "        return \"5-8pm\"\n",
    "    elif (h > 20) and (h <= 24):\n",
    "        return \"9-midnight\"\n",
    "    elif h <= 4:\n",
    "        return \"1-4am\""
   ]
  },
  {
   "cell_type": "code",
   "execution_count": 33,
   "id": "32db9dfa-36c8-4d0c-82ed-75f3bbf2d9b0",
   "metadata": {},
   "outputs": [],
   "source": [
    "src[\"time_period\"] = src[\"hour\"].apply(categorize_hours)"
   ]
  },
  {
   "cell_type": "markdown",
   "id": "173354b0-fb0b-4ca9-bbd1-751a17909ee7",
   "metadata": {},
   "source": [
    "---"
   ]
  },
  {
   "cell_type": "code",
   "execution_count": 34,
   "id": "b814adab-a483-4ef7-89c3-e92432321bf7",
   "metadata": {},
   "outputs": [],
   "source": [
    "df = src.copy()"
   ]
  },
  {
   "cell_type": "code",
   "execution_count": 42,
   "id": "dfa8992e-34f6-4cec-9bba-d67802fd6541",
   "metadata": {},
   "outputs": [
    {
     "data": {
      "text/html": [
       "<div>\n",
       "<style scoped>\n",
       "    .dataframe tbody tr th:only-of-type {\n",
       "        vertical-align: middle;\n",
       "    }\n",
       "\n",
       "    .dataframe tbody tr th {\n",
       "        vertical-align: top;\n",
       "    }\n",
       "\n",
       "    .dataframe thead th {\n",
       "        text-align: right;\n",
       "    }\n",
       "</style>\n",
       "<table border=\"1\" class=\"dataframe\">\n",
       "  <thead>\n",
       "    <tr style=\"text-align: right;\">\n",
       "      <th></th>\n",
       "      <th>accidentindex</th>\n",
       "      <th>date</th>\n",
       "      <th>borough</th>\n",
       "      <th>ward</th>\n",
       "      <th>latitude</th>\n",
       "      <th>longitude</th>\n",
       "      <th>casualties</th>\n",
       "      <th>severity</th>\n",
       "      <th>url</th>\n",
       "      <th>apiurl</th>\n",
       "      <th>numberofcasualties</th>\n",
       "      <th>numberofvehicles</th>\n",
       "      <th>year</th>\n",
       "      <th>weekday</th>\n",
       "      <th>monthname</th>\n",
       "      <th>monthday</th>\n",
       "      <th>monthyear</th>\n",
       "      <th>date_clean</th>\n",
       "      <th>hour</th>\n",
       "      <th>time_period</th>\n",
       "    </tr>\n",
       "  </thead>\n",
       "  <tbody>\n",
       "    <tr>\n",
       "      <th>0</th>\n",
       "      <td>2019010161545</td>\n",
       "      <td>2019-02-04 19:55:00</td>\n",
       "      <td>Hounslow</td>\n",
       "      <td>Heston Central</td>\n",
       "      <td>51.475300</td>\n",
       "      <td>-0.375342</td>\n",
       "      <td>Cyclist</td>\n",
       "      <td>fatal</td>\n",
       "      <td>https://www.cyclestreets.net/collisions/reports/2019010161545/</td>\n",
       "      <td>https://api.cyclestreets.net/v2/collisions.location?id=2019010161545</td>\n",
       "      <td>1</td>\n",
       "      <td>2</td>\n",
       "      <td>2019</td>\n",
       "      <td>Monday</td>\n",
       "      <td>February</td>\n",
       "      <td>02-04</td>\n",
       "      <td>02-2019</td>\n",
       "      <td>2019-02-04</td>\n",
       "      <td>19</td>\n",
       "      <td>5-8pm</td>\n",
       "    </tr>\n",
       "    <tr>\n",
       "      <th>1</th>\n",
       "      <td>2019010191515</td>\n",
       "      <td>2019-07-04 15:09:00</td>\n",
       "      <td>Lambeth</td>\n",
       "      <td>Clapham Town</td>\n",
       "      <td>51.468211</td>\n",
       "      <td>-0.144234</td>\n",
       "      <td>Cyclist</td>\n",
       "      <td>fatal</td>\n",
       "      <td>https://www.cyclestreets.net/collisions/reports/2019010191515/</td>\n",
       "      <td>https://api.cyclestreets.net/v2/collisions.location?id=2019010191515</td>\n",
       "      <td>1</td>\n",
       "      <td>2</td>\n",
       "      <td>2019</td>\n",
       "      <td>Thursday</td>\n",
       "      <td>July</td>\n",
       "      <td>07-04</td>\n",
       "      <td>07-2019</td>\n",
       "      <td>2019-07-04</td>\n",
       "      <td>15</td>\n",
       "      <td>1-4pm</td>\n",
       "    </tr>\n",
       "    <tr>\n",
       "      <th>2</th>\n",
       "      <td>2019010209381</td>\n",
       "      <td>2019-10-03 17:05:00</td>\n",
       "      <td>Hillingdon</td>\n",
       "      <td>Northwood</td>\n",
       "      <td>51.612605</td>\n",
       "      <td>-0.434904</td>\n",
       "      <td>Pedestrian,Cyclist</td>\n",
       "      <td>fatal</td>\n",
       "      <td>https://www.cyclestreets.net/collisions/reports/2019010209381/</td>\n",
       "      <td>https://api.cyclestreets.net/v2/collisions.location?id=2019010209381</td>\n",
       "      <td>2</td>\n",
       "      <td>1</td>\n",
       "      <td>2019</td>\n",
       "      <td>Thursday</td>\n",
       "      <td>October</td>\n",
       "      <td>10-03</td>\n",
       "      <td>10-2019</td>\n",
       "      <td>2019-10-03</td>\n",
       "      <td>17</td>\n",
       "      <td>5-8pm</td>\n",
       "    </tr>\n",
       "    <tr>\n",
       "      <th>3</th>\n",
       "      <td>2019010214996</td>\n",
       "      <td>2019-10-30 06:39:00</td>\n",
       "      <td>Lewisham</td>\n",
       "      <td>Rushey Green</td>\n",
       "      <td>51.444015</td>\n",
       "      <td>-0.026135</td>\n",
       "      <td>Cyclist</td>\n",
       "      <td>fatal</td>\n",
       "      <td>https://www.cyclestreets.net/collisions/reports/2019010214996/</td>\n",
       "      <td>https://api.cyclestreets.net/v2/collisions.location?id=2019010214996</td>\n",
       "      <td>1</td>\n",
       "      <td>2</td>\n",
       "      <td>2019</td>\n",
       "      <td>Wednesday</td>\n",
       "      <td>October</td>\n",
       "      <td>10-30</td>\n",
       "      <td>10-2019</td>\n",
       "      <td>2019-10-30</td>\n",
       "      <td>6</td>\n",
       "      <td>5-8am</td>\n",
       "    </tr>\n",
       "    <tr>\n",
       "      <th>4</th>\n",
       "      <td>2019010254652</td>\n",
       "      <td>2019-02-09 08:40:00</td>\n",
       "      <td>Camden</td>\n",
       "      <td>West Hampstead</td>\n",
       "      <td>51.550844</td>\n",
       "      <td>-0.191400</td>\n",
       "      <td>Cyclist</td>\n",
       "      <td>fatal</td>\n",
       "      <td>https://www.cyclestreets.net/collisions/reports/2019010254652/</td>\n",
       "      <td>https://api.cyclestreets.net/v2/collisions.location?id=2019010254652</td>\n",
       "      <td>1</td>\n",
       "      <td>1</td>\n",
       "      <td>2019</td>\n",
       "      <td>Saturday</td>\n",
       "      <td>February</td>\n",
       "      <td>02-09</td>\n",
       "      <td>02-2019</td>\n",
       "      <td>2019-02-09</td>\n",
       "      <td>8</td>\n",
       "      <td>5-8am</td>\n",
       "    </tr>\n",
       "  </tbody>\n",
       "</table>\n",
       "</div>"
      ],
      "text/plain": [
       "   accidentindex                date     borough            ward   latitude  \\\n",
       "0  2019010161545 2019-02-04 19:55:00    Hounslow  Heston Central  51.475300   \n",
       "1  2019010191515 2019-07-04 15:09:00     Lambeth    Clapham Town  51.468211   \n",
       "2  2019010209381 2019-10-03 17:05:00  Hillingdon       Northwood  51.612605   \n",
       "3  2019010214996 2019-10-30 06:39:00    Lewisham    Rushey Green  51.444015   \n",
       "4  2019010254652 2019-02-09 08:40:00      Camden  West Hampstead  51.550844   \n",
       "\n",
       "   longitude          casualties severity  \\\n",
       "0  -0.375342             Cyclist    fatal   \n",
       "1  -0.144234             Cyclist    fatal   \n",
       "2  -0.434904  Pedestrian,Cyclist    fatal   \n",
       "3  -0.026135             Cyclist    fatal   \n",
       "4  -0.191400             Cyclist    fatal   \n",
       "\n",
       "                                                              url  \\\n",
       "0  https://www.cyclestreets.net/collisions/reports/2019010161545/   \n",
       "1  https://www.cyclestreets.net/collisions/reports/2019010191515/   \n",
       "2  https://www.cyclestreets.net/collisions/reports/2019010209381/   \n",
       "3  https://www.cyclestreets.net/collisions/reports/2019010214996/   \n",
       "4  https://www.cyclestreets.net/collisions/reports/2019010254652/   \n",
       "\n",
       "                                                                 apiurl  \\\n",
       "0  https://api.cyclestreets.net/v2/collisions.location?id=2019010161545   \n",
       "1  https://api.cyclestreets.net/v2/collisions.location?id=2019010191515   \n",
       "2  https://api.cyclestreets.net/v2/collisions.location?id=2019010209381   \n",
       "3  https://api.cyclestreets.net/v2/collisions.location?id=2019010214996   \n",
       "4  https://api.cyclestreets.net/v2/collisions.location?id=2019010254652   \n",
       "\n",
       "   numberofcasualties  numberofvehicles  year    weekday monthname monthday  \\\n",
       "0                   1                 2  2019     Monday  February    02-04   \n",
       "1                   1                 2  2019   Thursday      July    07-04   \n",
       "2                   2                 1  2019   Thursday   October    10-03   \n",
       "3                   1                 2  2019  Wednesday   October    10-30   \n",
       "4                   1                 1  2019   Saturday  February    02-09   \n",
       "\n",
       "  monthyear  date_clean  hour time_period  \n",
       "0   02-2019  2019-02-04    19       5-8pm  \n",
       "1   07-2019  2019-07-04    15       1-4pm  \n",
       "2   10-2019  2019-10-03    17       5-8pm  \n",
       "3   10-2019  2019-10-30     6       5-8am  \n",
       "4   02-2019  2019-02-09     8       5-8am  "
      ]
     },
     "execution_count": 42,
     "metadata": {},
     "output_type": "execute_result"
    }
   ],
   "source": [
    "df.head()"
   ]
  },
  {
   "cell_type": "markdown",
   "id": "af1cb071-41ab-4326-b38a-ee8a212bbf19",
   "metadata": {},
   "source": [
    "---"
   ]
  },
  {
   "cell_type": "markdown",
   "id": "00a06657-a6aa-4f1d-9bde-6df616452e47",
   "metadata": {},
   "source": [
    "### Wards"
   ]
  },
  {
   "cell_type": "code",
   "execution_count": 45,
   "id": "949d5460-a4c4-4412-ae8d-5b5aabb6af1b",
   "metadata": {},
   "outputs": [],
   "source": [
    "wards = df.groupby([\"ward\", \"year\"]).agg({\"numberofcasualties\": \"sum\"}).reset_index()"
   ]
  },
  {
   "cell_type": "code",
   "execution_count": 46,
   "id": "8cba9ddd-b690-4ef1-8d34-ad487159c9d4",
   "metadata": {},
   "outputs": [
    {
     "data": {
      "text/html": [
       "<div>\n",
       "<style scoped>\n",
       "    .dataframe tbody tr th:only-of-type {\n",
       "        vertical-align: middle;\n",
       "    }\n",
       "\n",
       "    .dataframe tbody tr th {\n",
       "        vertical-align: top;\n",
       "    }\n",
       "\n",
       "    .dataframe thead th {\n",
       "        text-align: right;\n",
       "    }\n",
       "</style>\n",
       "<table border=\"1\" class=\"dataframe\">\n",
       "  <thead>\n",
       "    <tr style=\"text-align: right;\">\n",
       "      <th></th>\n",
       "      <th>ward</th>\n",
       "      <th>year</th>\n",
       "      <th>numberofcasualties</th>\n",
       "    </tr>\n",
       "  </thead>\n",
       "  <tbody>\n",
       "    <tr>\n",
       "      <th>0</th>\n",
       "      <td>Abbey</td>\n",
       "      <td>2005</td>\n",
       "      <td>11</td>\n",
       "    </tr>\n",
       "    <tr>\n",
       "      <th>1</th>\n",
       "      <td>Abbey</td>\n",
       "      <td>2006</td>\n",
       "      <td>6</td>\n",
       "    </tr>\n",
       "    <tr>\n",
       "      <th>2</th>\n",
       "      <td>Abbey</td>\n",
       "      <td>2007</td>\n",
       "      <td>7</td>\n",
       "    </tr>\n",
       "    <tr>\n",
       "      <th>3</th>\n",
       "      <td>Abbey</td>\n",
       "      <td>2008</td>\n",
       "      <td>10</td>\n",
       "    </tr>\n",
       "    <tr>\n",
       "      <th>4</th>\n",
       "      <td>Abbey</td>\n",
       "      <td>2009</td>\n",
       "      <td>9</td>\n",
       "    </tr>\n",
       "    <tr>\n",
       "      <th>...</th>\n",
       "      <td>...</td>\n",
       "      <td>...</td>\n",
       "      <td>...</td>\n",
       "    </tr>\n",
       "    <tr>\n",
       "      <th>8699</th>\n",
       "      <td>Yiewsley</td>\n",
       "      <td>2015</td>\n",
       "      <td>6</td>\n",
       "    </tr>\n",
       "    <tr>\n",
       "      <th>8700</th>\n",
       "      <td>Yiewsley</td>\n",
       "      <td>2016</td>\n",
       "      <td>5</td>\n",
       "    </tr>\n",
       "    <tr>\n",
       "      <th>8701</th>\n",
       "      <td>Yiewsley</td>\n",
       "      <td>2017</td>\n",
       "      <td>4</td>\n",
       "    </tr>\n",
       "    <tr>\n",
       "      <th>8702</th>\n",
       "      <td>Yiewsley</td>\n",
       "      <td>2018</td>\n",
       "      <td>4</td>\n",
       "    </tr>\n",
       "    <tr>\n",
       "      <th>8703</th>\n",
       "      <td>Yiewsley</td>\n",
       "      <td>2019</td>\n",
       "      <td>1</td>\n",
       "    </tr>\n",
       "  </tbody>\n",
       "</table>\n",
       "<p>8704 rows × 3 columns</p>\n",
       "</div>"
      ],
      "text/plain": [
       "          ward  year  numberofcasualties\n",
       "0        Abbey  2005                  11\n",
       "1        Abbey  2006                   6\n",
       "2        Abbey  2007                   7\n",
       "3        Abbey  2008                  10\n",
       "4        Abbey  2009                   9\n",
       "...        ...   ...                 ...\n",
       "8699  Yiewsley  2015                   6\n",
       "8700  Yiewsley  2016                   5\n",
       "8701  Yiewsley  2017                   4\n",
       "8702  Yiewsley  2018                   4\n",
       "8703  Yiewsley  2019                   1\n",
       "\n",
       "[8704 rows x 3 columns]"
      ]
     },
     "execution_count": 46,
     "metadata": {},
     "output_type": "execute_result"
    }
   ],
   "source": [
    "wards"
   ]
  },
  {
   "cell_type": "markdown",
   "id": "2de25e82-5990-4062-936e-e72ec6b50d41",
   "metadata": {},
   "source": [
    "### Boroughs"
   ]
  },
  {
   "cell_type": "code",
   "execution_count": 47,
   "id": "21b49039-a4ac-4820-b815-8c71b8ed69e7",
   "metadata": {},
   "outputs": [],
   "source": [
    "boroughs = (\n",
    "    df.groupby([\"borough\", \"year\"]).agg({\"numberofcasualties\": \"sum\"}).reset_index()\n",
    ")"
   ]
  },
  {
   "cell_type": "code",
   "execution_count": 48,
   "id": "eeb843b1-ae1b-4b42-83af-5e1a9b7bf182",
   "metadata": {},
   "outputs": [
    {
     "data": {
      "text/html": [
       "<div>\n",
       "<style scoped>\n",
       "    .dataframe tbody tr th:only-of-type {\n",
       "        vertical-align: middle;\n",
       "    }\n",
       "\n",
       "    .dataframe tbody tr th {\n",
       "        vertical-align: top;\n",
       "    }\n",
       "\n",
       "    .dataframe thead th {\n",
       "        text-align: right;\n",
       "    }\n",
       "</style>\n",
       "<table border=\"1\" class=\"dataframe\">\n",
       "  <thead>\n",
       "    <tr style=\"text-align: right;\">\n",
       "      <th></th>\n",
       "      <th>borough</th>\n",
       "      <th>year</th>\n",
       "      <th>numberofcasualties</th>\n",
       "    </tr>\n",
       "  </thead>\n",
       "  <tbody>\n",
       "    <tr>\n",
       "      <th>0</th>\n",
       "      <td>Barking and Dagenham</td>\n",
       "      <td>2005</td>\n",
       "      <td>37</td>\n",
       "    </tr>\n",
       "    <tr>\n",
       "      <th>1</th>\n",
       "      <td>Barking and Dagenham</td>\n",
       "      <td>2006</td>\n",
       "      <td>39</td>\n",
       "    </tr>\n",
       "    <tr>\n",
       "      <th>2</th>\n",
       "      <td>Barking and Dagenham</td>\n",
       "      <td>2007</td>\n",
       "      <td>22</td>\n",
       "    </tr>\n",
       "    <tr>\n",
       "      <th>3</th>\n",
       "      <td>Barking and Dagenham</td>\n",
       "      <td>2008</td>\n",
       "      <td>31</td>\n",
       "    </tr>\n",
       "    <tr>\n",
       "      <th>4</th>\n",
       "      <td>Barking and Dagenham</td>\n",
       "      <td>2009</td>\n",
       "      <td>30</td>\n",
       "    </tr>\n",
       "    <tr>\n",
       "      <th>...</th>\n",
       "      <td>...</td>\n",
       "      <td>...</td>\n",
       "      <td>...</td>\n",
       "    </tr>\n",
       "    <tr>\n",
       "      <th>490</th>\n",
       "      <td>Westminster</td>\n",
       "      <td>2015</td>\n",
       "      <td>425</td>\n",
       "    </tr>\n",
       "    <tr>\n",
       "      <th>491</th>\n",
       "      <td>Westminster</td>\n",
       "      <td>2016</td>\n",
       "      <td>375</td>\n",
       "    </tr>\n",
       "    <tr>\n",
       "      <th>492</th>\n",
       "      <td>Westminster</td>\n",
       "      <td>2017</td>\n",
       "      <td>433</td>\n",
       "    </tr>\n",
       "    <tr>\n",
       "      <th>493</th>\n",
       "      <td>Westminster</td>\n",
       "      <td>2018</td>\n",
       "      <td>403</td>\n",
       "    </tr>\n",
       "    <tr>\n",
       "      <th>494</th>\n",
       "      <td>Westminster</td>\n",
       "      <td>2019</td>\n",
       "      <td>411</td>\n",
       "    </tr>\n",
       "  </tbody>\n",
       "</table>\n",
       "<p>495 rows × 3 columns</p>\n",
       "</div>"
      ],
      "text/plain": [
       "                  borough  year  numberofcasualties\n",
       "0    Barking and Dagenham  2005                  37\n",
       "1    Barking and Dagenham  2006                  39\n",
       "2    Barking and Dagenham  2007                  22\n",
       "3    Barking and Dagenham  2008                  31\n",
       "4    Barking and Dagenham  2009                  30\n",
       "..                    ...   ...                 ...\n",
       "490           Westminster  2015                 425\n",
       "491           Westminster  2016                 375\n",
       "492           Westminster  2017                 433\n",
       "493           Westminster  2018                 403\n",
       "494           Westminster  2019                 411\n",
       "\n",
       "[495 rows x 3 columns]"
      ]
     },
     "execution_count": 48,
     "metadata": {},
     "output_type": "execute_result"
    }
   ],
   "source": [
    "boroughs"
   ]
  },
  {
   "cell_type": "code",
   "execution_count": null,
   "id": "0b061d0f-da45-4044-8018-9bb5055fdefb",
   "metadata": {},
   "outputs": [],
   "source": []
  },
  {
   "cell_type": "code",
   "execution_count": null,
   "id": "069c77e2-6e27-4c06-b57f-14d3d78e62b1",
   "metadata": {},
   "outputs": [],
   "source": []
  },
  {
   "cell_type": "code",
   "execution_count": null,
   "id": "550f6f5f-7974-418c-888d-1f65ed465ce5",
   "metadata": {},
   "outputs": [],
   "source": []
  },
  {
   "cell_type": "code",
   "execution_count": null,
   "id": "b37f268a-aee4-4161-8227-0f2d4b0e1a69",
   "metadata": {},
   "outputs": [],
   "source": []
  },
  {
   "cell_type": "markdown",
   "id": "5f11b4a8-fe8a-4aa3-8b15-61adc91ce689",
   "metadata": {},
   "source": [
    "---"
   ]
  },
  {
   "cell_type": "markdown",
   "id": "f914eaa8-d30d-4c9f-af33-77f21e7bb79b",
   "metadata": {},
   "source": [
    "### Geography"
   ]
  },
  {
   "cell_type": "code",
   "execution_count": 36,
   "id": "83688f6e-821b-4627-8bb5-df847e8963f6",
   "metadata": {},
   "outputs": [],
   "source": [
    "# via https://data.london.gov.uk/dataset/statistical-gis-boundary-files-london"
   ]
  },
  {
   "cell_type": "code",
   "execution_count": 37,
   "id": "0e63dcc6-5db0-46a3-b18b-b0bcc5744b9d",
   "metadata": {},
   "outputs": [],
   "source": [
    "wards = gpd.read_file(\n",
    "    \"data/raw/London-wards-2018/London-wards-2018_ESRI/London_Ward.shp\"\n",
    ")"
   ]
  },
  {
   "cell_type": "code",
   "execution_count": 38,
   "id": "c725268c-f330-4d43-8769-41580635c1c7",
   "metadata": {},
   "outputs": [
    {
     "data": {
      "text/plain": [
       "<AxesSubplot:>"
      ]
     },
     "execution_count": 38,
     "metadata": {},
     "output_type": "execute_result"
    },
    {
     "data": {
      "image/png": "[encoded data removed]",
      "text/plain": [
       "<Figure size 432x288 with 1 Axes>"
      ]
     },
     "metadata": {
      "needs_background": "light"
     },
     "output_type": "display_data"
    }
   ],
   "source": [
    "wards.plot()"
   ]
  },
  {
   "cell_type": "code",
   "execution_count": 39,
   "id": "488fccf7-6c4d-449f-a6aa-e2daff7191fc",
   "metadata": {},
   "outputs": [],
   "source": [
    "boroughs = gpd.read_file(\n",
    "    \"data/raw/statistical-gis-boundaries-london/ESRI/London_Borough_Excluding_MHW.shp\"\n",
    ")"
   ]
  },
  {
   "cell_type": "code",
   "execution_count": 40,
   "id": "5e97e8de-817e-46ee-8aba-133b9b10603e",
   "metadata": {},
   "outputs": [
    {
     "data": {
      "text/plain": [
       "<AxesSubplot:>"
      ]
     },
     "execution_count": 40,
     "metadata": {},
     "output_type": "execute_result"
    },
    {
     "data": {
      "image/png": "[encoded data removed]",
      "text/plain": [
       "<Figure size 432x288 with 1 Axes>"
      ]
     },
     "metadata": {
      "needs_background": "light"
     },
     "output_type": "display_data"
    }
   ],
   "source": [
    "boroughs.plot()"
   ]
  }
 ],
 "metadata": {
  "kernelspec": {
   "display_name": "Python 3 (ipykernel)",
   "language": "python",
   "name": "python3"
  },
  "language_info": {
   "codemirror_mode": {
    "name": "ipython",
    "version": 3
   },
   "file_extension": ".py",
   "mimetype": "text/x-python",
   "name": "python",
   "nbconvert_exporter": "python",
   "pygments_lexer": "ipython3",
   "version": "3.8.11"
  }
 },
 "nbformat": 4,
 "nbformat_minor": 5
}
