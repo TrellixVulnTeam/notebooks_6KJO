{
 "cells": [
  {
   "cell_type": "markdown",
   "id": "c92fcabc-5d60-4892-bd57-45642953fe56",
   "metadata": {},
   "source": [
    "### Necessary packages"
   ]
  },
  {
   "cell_type": "code",
   "execution_count": 1,
   "id": "419ab041-b528-4071-9db4-2a15b8f61246",
   "metadata": {},
   "outputs": [],
   "source": [
    "%load_ext lab_black"
   ]
  },
  {
   "cell_type": "code",
   "execution_count": 2,
   "id": "990d836d-9233-45d1-b81d-62dc6eface99",
   "metadata": {},
   "outputs": [],
   "source": [
    "import requests\n",
    "import urllib.request\n",
    "import numpy as np"
   ]
  },
  {
   "cell_type": "code",
   "execution_count": 3,
   "id": "3433328d-79f1-4020-a44a-d2c5ef99acb8",
   "metadata": {},
   "outputs": [],
   "source": [
    "import pandas as pd\n",
    "import gspread\n",
    "from oauth2client.service_account import ServiceAccountCredentials"
   ]
  },
  {
   "cell_type": "code",
   "execution_count": 4,
   "id": "0f538bb2-db3e-4f27-89d4-78995c0c8dae",
   "metadata": {},
   "outputs": [
    {
     "data": {
      "text/plain": [
       "ThemeRegistry.enable('grid')"
      ]
     },
     "execution_count": 4,
     "metadata": {},
     "output_type": "execute_result"
    }
   ],
   "source": [
    "import altair as alt\n",
    "import altair_grid as altgrid\n",
    "\n",
    "alt.themes.register(\"grid\", altgrid.theme)\n",
    "alt.themes.enable(\"grid\")"
   ]
  },
  {
   "cell_type": "code",
   "execution_count": 5,
   "id": "6db031f5-5efa-476d-87f5-f8d7e2fd1b81",
   "metadata": {},
   "outputs": [],
   "source": [
    "from datawrapper import Datawrapper\n",
    "\n",
    "dw = Datawrapper(\n",
    "    access_token=\"FtIwtvFtoGLaRT9a3gjX69PLu4wSuRyKddoOz6SOPw3k9wWyNICMHTkcPhOGCR5Z\"\n",
    ")"
   ]
  },
  {
   "cell_type": "code",
   "execution_count": 6,
   "id": "f336e5e6-e647-4abc-9f64-9f88c45bf481",
   "metadata": {},
   "outputs": [],
   "source": [
    "# scope = ['https://spreadsheets.google.com/feeds']\n",
    "# credentials = ServiceAccountCredentials.from_json_keyfile_name('jupyter-integration-349314-25735d35924b.json', scope)\n",
    "# gc = gspread.authorize(credentials)"
   ]
  },
  {
   "cell_type": "code",
   "execution_count": 7,
   "id": "0bea200a-eaab-443b-acca-9d19b93c3c33",
   "metadata": {},
   "outputs": [],
   "source": [
    "# spreadsheet_key = \"1sCb1YbQ3-1oiL-cnK0yCkwFcQpvpf0efIngAUeC1ixo\"\n",
    "# book = gc.open_by_key(spreadsheet_key)"
   ]
  },
  {
   "cell_type": "code",
   "execution_count": 8,
   "id": "8a4717c4-3b3b-4893-b50e-184d69b6ce8f",
   "metadata": {},
   "outputs": [],
   "source": [
    "pd.options.display.max_columns = 1000\n",
    "pd.options.display.max_rows = 1000"
   ]
  },
  {
   "cell_type": "markdown",
   "id": "ab1523fa-e847-4912-8b06-1d1212658d09",
   "metadata": {},
   "source": [
    "### Maternal mortality over time with CDC-limited cause of death codes"
   ]
  },
  {
   "cell_type": "code",
   "execution_count": 9,
   "id": "dae9f1c5-51f3-405c-9411-4ea4056f404d",
   "metadata": {},
   "outputs": [],
   "source": [
    "year_cause_cdclimited = pd.read_table(\n",
    "    \"data/raw/byyear_andcause.txt\", dtype={\"Year\": str, \"Year Code\": str}\n",
    ")"
   ]
  },
  {
   "cell_type": "code",
   "execution_count": 10,
   "id": "b6377882-bd66-4472-8dfa-59e866a0350b",
   "metadata": {},
   "outputs": [],
   "source": [
    "year_cause_cdclimited.columns = year_cause_cdclimited.columns.str.lower().str.replace(\n",
    "    \" \", \"_\"\n",
    ")"
   ]
  },
  {
   "cell_type": "markdown",
   "id": "bd496e39-30e7-45ce-b4da-034a2f98e719",
   "metadata": {},
   "source": [
    "### Maternal mortality over time with all obstetric cause death codes"
   ]
  },
  {
   "cell_type": "code",
   "execution_count": 11,
   "id": "d107bfd1-ad4c-4a0d-9d9c-776c94d06ddd",
   "metadata": {},
   "outputs": [],
   "source": [
    "year_cause_all = pd.read_table(\n",
    "    \"data/raw/after42days.txt\", dtype={\"Year\": str, \"Year Code\": str}\n",
    ")"
   ]
  },
  {
   "cell_type": "code",
   "execution_count": 12,
   "id": "3ce3bc55-eb38-4098-a493-dca846df9efd",
   "metadata": {},
   "outputs": [],
   "source": [
    "year_cause_all.columns = year_cause_all.columns.str.lower().str.replace(\" \", \"_\")"
   ]
  },
  {
   "cell_type": "markdown",
   "id": "4ae9b42e-64dc-4018-a7d0-9ba2fc409847",
   "metadata": {},
   "source": [
    "#### Percent comparisons: deaths included by cdc and those excluded (42 days or more post pregnancy)"
   ]
  },
  {
   "cell_type": "code",
   "execution_count": 13,
   "id": "49ebdfff-6212-493a-8441-35e3b696bdb2",
   "metadata": {},
   "outputs": [],
   "source": [
    "yc_all_pct = year_cause_all.dropna(subset=[\"year\"]).drop(columns=\"notes\")"
   ]
  },
  {
   "cell_type": "code",
   "execution_count": 14,
   "id": "d62d3dcd-e441-48d5-8b41-0eda80b277bb",
   "metadata": {},
   "outputs": [],
   "source": [
    "yc_all_pct.value_counts(\"cause_of_death_code\")\n",
    "post42 = [\"O96.0\", \"O96.1\", \"O97\", \"O97.0\", \"O97.1\", \"O97.9\"]\n",
    "conditions = [\n",
    "    (yc_all_pct[\"cause_of_death_code\"].isin(post42)),\n",
    "    (~yc_all_pct[\"cause_of_death_code\"].isin(post42)),\n",
    "]\n",
    "\n",
    "values = [\"after 42 days\", \"within 42 days\"]\n",
    "\n",
    "yc_all_pct[\"later_death\"] = np.select(conditions, values)"
   ]
  },
  {
   "cell_type": "code",
   "execution_count": 15,
   "id": "808b78eb-fd4d-49c0-a22f-f0542dc5cb88",
   "metadata": {},
   "outputs": [],
   "source": [
    "timing = (\n",
    "    yc_all_pct.groupby([\"year\", \"later_death\"])\n",
    "    .agg(sum_after42=pd.NamedAgg(column=\"deaths\", aggfunc=sum))\n",
    "    .reset_index()\n",
    ")"
   ]
  },
  {
   "cell_type": "code",
   "execution_count": 16,
   "id": "7bc33db6-82c4-4afd-8616-141e3476448e",
   "metadata": {},
   "outputs": [],
   "source": [
    "timing_comparison = timing.pivot(\n",
    "    index=\"year\", columns=\"later_death\", values=\"sum_after42\"\n",
    ").dropna(subset=[\"after 42 days\"])"
   ]
  },
  {
   "cell_type": "code",
   "execution_count": 17,
   "id": "b8557fdb-4ad7-4853-8940-4ed78a928f11",
   "metadata": {},
   "outputs": [],
   "source": [
    "timing_comparison[\"pct\"] = (timing_comparison[\"after 42 days\"]) / (\n",
    "    timing_comparison[\"after 42 days\"] + timing_comparison[\"within 42 days\"]\n",
    ")"
   ]
  },
  {
   "cell_type": "code",
   "execution_count": 18,
   "id": "47bf6cf5-ad1b-4772-8e86-4a5fea468e98",
   "metadata": {},
   "outputs": [],
   "source": [
    "timing_comparison = timing_comparison.reset_index()"
   ]
  },
  {
   "cell_type": "code",
   "execution_count": 19,
   "id": "2c29d0d9-ef51-45a5-904f-2de575e86e74",
   "metadata": {},
   "outputs": [],
   "source": [
    "timing_comparison[\"yeardate\"] = pd.to_datetime(timing_comparison[\"year\"])"
   ]
  },
  {
   "cell_type": "markdown",
   "id": "3359f095-6e3e-4f1a-91c4-acc5e515b297",
   "metadata": {},
   "source": [
    "#### Percent of total obstetric deaths from causes 42 days or more after over time"
   ]
  },
  {
   "cell_type": "code",
   "execution_count": 20,
   "id": "9f12e3bb-8eea-4bdc-abb8-c148e995ce49",
   "metadata": {},
   "outputs": [
    {
     "data": {
      "text/html": [
       "\n",
       "<div id=\"altair-viz-84ad83b6a7a141d2bd3cfc8b53aef946\"></div>\n",
       "<script type=\"text/javascript\">\n",
       "  var VEGA_DEBUG = (typeof VEGA_DEBUG == \"undefined\") ? {} : VEGA_DEBUG;\n",
       "  (function(spec, embedOpt){\n",
       "    let outputDiv = document.currentScript.previousElementSibling;\n",
       "    if (outputDiv.id !== \"altair-viz-84ad83b6a7a141d2bd3cfc8b53aef946\") {\n",
       "      outputDiv = document.getElementById(\"altair-viz-84ad83b6a7a141d2bd3cfc8b53aef946\");\n",
       "    }\n",
       "    const paths = {\n",
       "      \"vega\": \"https://cdn.jsdelivr.net/npm//vega@5?noext\",\n",
       "      \"vega-lib\": \"https://cdn.jsdelivr.net/npm//vega-lib?noext\",\n",
       "      \"vega-lite\": \"https://cdn.jsdelivr.net/npm//vega-lite@4.17.0?noext\",\n",
       "      \"vega-embed\": \"https://cdn.jsdelivr.net/npm//vega-embed@6?noext\",\n",
       "    };\n",
       "\n",
       "    function maybeLoadScript(lib, version) {\n",
       "      var key = `${lib.replace(\"-\", \"\")}_version`;\n",
       "      return (VEGA_DEBUG[key] == version) ?\n",
       "        Promise.resolve(paths[lib]) :\n",
       "        new Promise(function(resolve, reject) {\n",
       "          var s = document.createElement('script');\n",
       "          document.getElementsByTagName(\"head\")[0].appendChild(s);\n",
       "          s.async = true;\n",
       "          s.onload = () => {\n",
       "            VEGA_DEBUG[key] = version;\n",
       "            return resolve(paths[lib]);\n",
       "          };\n",
       "          s.onerror = () => reject(`Error loading script: ${paths[lib]}`);\n",
       "          s.src = paths[lib];\n",
       "        });\n",
       "    }\n",
       "\n",
       "    function showError(err) {\n",
       "      outputDiv.innerHTML = `<div class=\"error\" style=\"color:red;\">${err}</div>`;\n",
       "      throw err;\n",
       "    }\n",
       "\n",
       "    function displayChart(vegaEmbed) {\n",
       "      vegaEmbed(outputDiv, spec, embedOpt)\n",
       "        .catch(err => showError(`Javascript Error: ${err.message}<br>This usually means there's a typo in your chart specification. See the javascript console for the full traceback.`));\n",
       "    }\n",
       "\n",
       "    if(typeof define === \"function\" && define.amd) {\n",
       "      requirejs.config({paths});\n",
       "      require([\"vega-embed\"], displayChart, err => showError(`Error loading script: ${err.message}`));\n",
       "    } else {\n",
       "      maybeLoadScript(\"vega\", \"5\")\n",
       "        .then(() => maybeLoadScript(\"vega-lite\", \"4.17.0\"))\n",
       "        .then(() => maybeLoadScript(\"vega-embed\", \"6\"))\n",
       "        .catch(showError)\n",
       "        .then(() => displayChart(vegaEmbed));\n",
       "    }\n",
       "  })({\"config\": {\"view\": {\"width\": 800, \"height\": 450, \"strokeOpacity\": 0}, \"background\": \"#ffffff\", \"title\": {\"anchor\": \"start\", \"font\": \"Summit Sans\", \"fontColor\": \"palette[\\\"black\\\"]\", \"fontSize\": 18, \"fontWeight\": \"normal\"}, \"arc\": {\"fill\": \"#00d4d8\"}, \"area\": {\"fill\": \"#00d4d8\"}, \"line\": {\"stroke\": \"#00d4d8\", \"strokeWidth\": 3}, \"path\": {\"stroke\": \"#00d4d8\"}, \"rect\": {\"fill\": \"#00d4d8\"}, \"shape\": {\"stroke\": \"#00d4d8\"}, \"bar\": {\"fill\": \"#00d4d8\"}, \"point\": {\"stroke\": \"#00d4d8\"}, \"symbol\": {\"fill\": \"#00d4d8\", \"size\": 30}, \"axis\": {\"titleFont\": \"Roboto\", \"titleFontSize\": 15, \"titleFontWeight\": \"normal\", \"labelFont\": \"Roboto, sans\", \"labelFontSize\": 13, \"labelFontWeight\": \"normal\"}, \"axisX\": {\"labelAngle\": 0, \"labelPadding\": 6, \"tickSize\": 3, \"grid\": false}, \"axisY\": {\"labelBaseline\": \"middle\", \"maxExtent\": 45, \"minExtent\": 45, \"titleAlign\": \"left\", \"titleAngle\": 0, \"titleX\": -45, \"titleY\": -11, \"domainOpacity\": 0, \"gridWidth\": 0.6, \"gridColor\": \"#dddddd\", \"offset\": 6, \"tickSize\": 0, \"titleColor\": \"#767676\"}, \"legend\": {\"titleFont\": \"Roboto\", \"titleFontSize\": 15, \"titleFontWeight\": \"normal\", \"symbolType\": \"square\", \"labelFont\": \"Roboto, sans\", \"labelFontSize\": 13}, \"range\": {\"category\": [\"#005f66\", \"#e37e2d\", \"#d64a3b\", \"#76b0ef\", \"#c1bc40\"], \"diverging\": [\"#e68a4f\", \"#f4bb6a\", \"#f9e39c\", \"#dadfe2\", \"#a6b7c6\", \"#849eae\"], \"heatmap\": [\"#7ff6f6\", \"#00eeef\", \"#00d4d8\", \"#00abb2\", \"#00848b\", \"#fbf2c7\", \"#00363d\"], \"ordinal\": [\"#7ff6f6\", \"#00eeef\", \"#00d4d8\", \"#00abb2\", \"#00848b\", \"#fbf2c7\", \"#00363d\"], \"ramp\": [\"#7ff6f6\", \"#00eeef\", \"#00d4d8\", \"#00abb2\", \"#00848b\", \"#fbf2c7\", \"#00363d\"]}}, \"data\": {\"name\": \"data-8bcd9ae2b40ad14dde721410baf16d7e\"}, \"mark\": \"line\", \"encoding\": {\"x\": {\"field\": \"year\", \"type\": \"nominal\"}, \"y\": {\"field\": \"pct\", \"type\": \"quantitative\"}}, \"$schema\": \"https://vega.github.io/schema/vega-lite/v4.17.0.json\", \"datasets\": {\"data-8bcd9ae2b40ad14dde721410baf16d7e\": [{\"year\": \"1999\", \"after 42 days\": 10.0, \"within 42 days\": 802.0, \"pct\": 0.012315270935960592, \"yeardate\": \"1999-01-01T00:00:00\"}, {\"year\": \"2000\", \"after 42 days\": 6.0, \"within 42 days\": 802.0, \"pct\": 0.007425742574257425, \"yeardate\": \"2000-01-01T00:00:00\"}, {\"year\": \"2001\", \"after 42 days\": 8.0, \"within 42 days\": 824.0, \"pct\": 0.009615384615384616, \"yeardate\": \"2001-01-01T00:00:00\"}, {\"year\": \"2002\", \"after 42 days\": 13.0, \"within 42 days\": 745.0, \"pct\": 0.017150395778364115, \"yeardate\": \"2002-01-01T00:00:00\"}, {\"year\": \"2003\", \"after 42 days\": 4.0, \"within 42 days\": 1086.0, \"pct\": 0.003669724770642202, \"yeardate\": \"2003-01-01T00:00:00\"}, {\"year\": \"2004\", \"after 42 days\": 12.0, \"within 42 days\": 1382.0, \"pct\": 0.00860832137733142, \"yeardate\": \"2004-01-01T00:00:00\"}, {\"year\": \"2005\", \"after 42 days\": 7.0, \"within 42 days\": 1513.0, \"pct\": 0.004605263157894736, \"yeardate\": \"2005-01-01T00:00:00\"}, {\"year\": \"2006\", \"after 42 days\": 11.0, \"within 42 days\": 1509.0, \"pct\": 0.007236842105263158, \"yeardate\": \"2006-01-01T00:00:00\"}, {\"year\": \"2007\", \"after 42 days\": 6.0, \"within 42 days\": 1532.0, \"pct\": 0.0039011703511053317, \"yeardate\": \"2007-01-01T00:00:00\"}, {\"year\": \"2008\", \"after 42 days\": 7.0, \"within 42 days\": 1583.0, \"pct\": 0.00440251572327044, \"yeardate\": \"2008-01-01T00:00:00\"}, {\"year\": \"2009\", \"after 42 days\": 18.0, \"within 42 days\": 1902.0, \"pct\": 0.009375, \"yeardate\": \"2009-01-01T00:00:00\"}, {\"year\": \"2010\", \"after 42 days\": 3.0, \"within 42 days\": 1647.0, \"pct\": 0.0018181818181818182, \"yeardate\": \"2010-01-01T00:00:00\"}, {\"year\": \"2011\", \"after 42 days\": 150.0, \"within 42 days\": 1712.0, \"pct\": 0.08055853920515575, \"yeardate\": \"2011-01-01T00:00:00\"}, {\"year\": \"2012\", \"after 42 days\": 189.0, \"within 42 days\": 1791.0, \"pct\": 0.09545454545454546, \"yeardate\": \"2012-01-01T00:00:00\"}, {\"year\": \"2013\", \"after 42 days\": 263.0, \"within 42 days\": 2013.0, \"pct\": 0.11555360281195079, \"yeardate\": \"2013-01-01T00:00:00\"}, {\"year\": \"2014\", \"after 42 days\": 260.0, \"within 42 days\": 1986.0, \"pct\": 0.1157613535173642, \"yeardate\": \"2014-01-01T00:00:00\"}, {\"year\": \"2015\", \"after 42 days\": 290.0, \"within 42 days\": 1990.0, \"pct\": 0.12719298245614036, \"yeardate\": \"2015-01-01T00:00:00\"}, {\"year\": \"2016\", \"after 42 days\": 356.0, \"within 42 days\": 2106.0, \"pct\": 0.1445978878960195, \"yeardate\": \"2016-01-01T00:00:00\"}, {\"year\": \"2017\", \"after 42 days\": 367.0, \"within 42 days\": 2049.0, \"pct\": 0.1519039735099338, \"yeardate\": \"2017-01-01T00:00:00\"}, {\"year\": \"2018\", \"after 42 days\": 304.0, \"within 42 days\": 1642.0, \"pct\": 0.15621788283658788, \"yeardate\": \"2018-01-01T00:00:00\"}, {\"year\": \"2019\", \"after 42 days\": 337.0, \"within 42 days\": 1869.0, \"pct\": 0.1527651858567543, \"yeardate\": \"2019-01-01T00:00:00\"}, {\"year\": \"2020 \", \"after 42 days\": 416.0, \"within 42 days\": 2160.0, \"pct\": 0.16149068322981366, \"yeardate\": \"2020-01-01T00:00:00\"}]}}, {\"mode\": \"vega-lite\"});\n",
       "</script>"
      ],
      "text/plain": [
       "alt.Chart(...)"
      ]
     },
     "execution_count": 20,
     "metadata": {},
     "output_type": "execute_result"
    }
   ],
   "source": [
    "alt.Chart(timing_comparison).mark_line().encode(x=alt.X(\"year:N\"), y=(alt.Y(\"pct\")))"
   ]
  },
  {
   "cell_type": "markdown",
   "id": "9eedc563-366d-44b8-b8a9-647c17f95530",
   "metadata": {},
   "source": [
    "### 2020 Maternal mortality broken down by race and cause\n",
    "##### includes all obstetric causes, not just those CDC counts"
   ]
  },
  {
   "cell_type": "code",
   "execution_count": 21,
   "id": "0980a81c-ae4d-4e5e-89d9-858d9ecb701a",
   "metadata": {},
   "outputs": [],
   "source": [
    "mm_byrace = pd.read_table(\"data/raw/mm_2020_byrace_bycause.txt\")"
   ]
  },
  {
   "cell_type": "code",
   "execution_count": 22,
   "id": "ae8ef0d6-5b62-4d96-9604-d39b3200ec5c",
   "metadata": {},
   "outputs": [],
   "source": [
    "mm_byrace.columns = mm_byrace.columns.str.lower().str.replace(\" \", \"_\")"
   ]
  },
  {
   "cell_type": "markdown",
   "id": "2c6b3a7c-eef6-4a9f-a6a7-f1f3bb0ffc41",
   "metadata": {},
   "source": [
    "#### coding for causes included in CDC maternal mortality surveillance"
   ]
  },
  {
   "cell_type": "code",
   "execution_count": 23,
   "id": "f1afc3fc-fc31-46ac-b22a-f48e772192e3",
   "metadata": {},
   "outputs": [],
   "source": [
    "conditions = [\n",
    "    (mm_byrace[\"cause_of_death_code\"].isin(post42)),\n",
    "    (~mm_byrace[\"cause_of_death_code\"].isin(post42)),\n",
    "]\n",
    "\n",
    "values = [\"not recorded\", \"recorded\"]\n",
    "\n",
    "mm_byrace[\"cdc_maternal_mortality\"] = np.select(conditions, values)"
   ]
  },
  {
   "cell_type": "markdown",
   "id": "900a2f3b-0f98-4ea1-b80b-2e853e5bd9a0",
   "metadata": {},
   "source": [
    "#### coding race and hispanic origin combined variable"
   ]
  },
  {
   "cell_type": "code",
   "execution_count": 24,
   "id": "7137f74b-c91f-4716-863d-65da0632cbb9",
   "metadata": {},
   "outputs": [],
   "source": [
    "race_ho_conditions = [\n",
    "    (\n",
    "        (mm_byrace[\"race\"] == \"White\")\n",
    "        & (mm_byrace[\"hispanic_origin\"] == \"Not Hispanic or Latino\")\n",
    "    ),\n",
    "    (\n",
    "        (mm_byrace[\"race\"] == \"Black or African American\")\n",
    "        & (mm_byrace[\"hispanic_origin\"] == \"Not Hispanic or Latino\")\n",
    "    ),\n",
    "    (\n",
    "        (mm_byrace[\"race\"] == \"Asian or Pacific Islander\")\n",
    "        & (mm_byrace[\"hispanic_origin\"] == \"Not Hispanic or Latino\")\n",
    "    ),\n",
    "    (\n",
    "        (mm_byrace[\"race\"] == \"American Indian or Alaska Native\")\n",
    "        & (mm_byrace[\"hispanic_origin\"] == \"Not Hispanic or Latino\")\n",
    "    ),\n",
    "    (mm_byrace[\"hispanic_origin\"] == \"Hispanic or Latino\"),\n",
    "    (mm_byrace[\"race\"].isna())\n",
    "    & (mm_byrace[\"hispanic_origin\"].isna())\n",
    "    & (mm_byrace[\"notes\"] == \"Total\"),\n",
    "]\n",
    "\n",
    "race_ho_values = [\n",
    "    \"White\",\n",
    "    \"Black\",\n",
    "    \"AAPI\",\n",
    "    \"American Indian or Alaska Native\",\n",
    "    \"Hispanic or Latino\",\n",
    "    \"Overall\",\n",
    "]\n",
    "\n",
    "mm_byrace[\"race_whispanicorigin\"] = np.select(race_ho_conditions, race_ho_values)"
   ]
  },
  {
   "cell_type": "code",
   "execution_count": 25,
   "id": "05346f3c-9e43-46ee-b543-cc72feae1ca2",
   "metadata": {},
   "outputs": [],
   "source": [
    "rawdeaths_byrace_cdcrec = (\n",
    "    mm_byrace[\n",
    "        (mm_byrace[\"race_whispanicorigin\"] != \"0\") & (mm_byrace[\"notes\"] != \"Total\")\n",
    "    ]\n",
    "    .groupby([\"race_whispanicorigin\", \"cdc_maternal_mortality\"])\n",
    "    .agg(deaths=pd.NamedAgg(column=\"deaths\", aggfunc=sum))\n",
    "    .reset_index()\n",
    ")"
   ]
  },
  {
   "cell_type": "code",
   "execution_count": 26,
   "id": "49637474-dca9-4b2e-8378-c6b8477da43c",
   "metadata": {},
   "outputs": [],
   "source": [
    "rawdeaths_byrace_cdcrec_wide = rawdeaths_byrace_cdcrec.pivot(\n",
    "    index=\"race_whispanicorigin\", columns=\"cdc_maternal_mortality\", values=\"deaths\"\n",
    ")"
   ]
  },
  {
   "cell_type": "markdown",
   "id": "20bc2d14-0461-49fa-874d-a4eb32ae75e5",
   "metadata": {
    "jp-MarkdownHeadingCollapsed": true,
    "tags": []
   },
   "source": [
    "### 2020 natality data by race (live births for race mortality rates)"
   ]
  },
  {
   "cell_type": "code",
   "execution_count": 27,
   "id": "2cc1f699-34fb-4427-9811-dc93be48cee1",
   "metadata": {},
   "outputs": [
    {
     "ename": "FileNotFoundError",
     "evalue": "[Errno 2] No such file or directory: 'data/raw/births_byrace_1620.txt'",
     "output_type": "error",
     "traceback": [
      "\u001b[0;31m---------------------------------------------------------------------------\u001b[0m",
      "\u001b[0;31mFileNotFoundError\u001b[0m                         Traceback (most recent call last)",
      "Input \u001b[0;32mIn [27]\u001b[0m, in \u001b[0;36m<cell line: 1>\u001b[0;34m()\u001b[0m\n\u001b[0;32m----> 1\u001b[0m births_byrace \u001b[38;5;241m=\u001b[39m \u001b[43mpd\u001b[49m\u001b[38;5;241;43m.\u001b[39;49m\u001b[43mread_table\u001b[49m\u001b[43m(\u001b[49m\n\u001b[1;32m      2\u001b[0m \u001b[43m    \u001b[49m\u001b[38;5;124;43m\"\u001b[39;49m\u001b[38;5;124;43mdata/raw/births_byrace_1620.txt\u001b[39;49m\u001b[38;5;124;43m\"\u001b[39;49m\u001b[43m,\u001b[49m\u001b[43m \u001b[49m\u001b[43mdtype\u001b[49m\u001b[38;5;241;43m=\u001b[39;49m\u001b[43m{\u001b[49m\u001b[38;5;124;43m\"\u001b[39;49m\u001b[38;5;124;43mYear\u001b[39;49m\u001b[38;5;124;43m\"\u001b[39;49m\u001b[43m:\u001b[49m\u001b[43m \u001b[49m\u001b[38;5;28;43mstr\u001b[39;49m\u001b[43m,\u001b[49m\u001b[43m \u001b[49m\u001b[38;5;124;43m\"\u001b[39;49m\u001b[38;5;124;43mYear Code\u001b[39;49m\u001b[38;5;124;43m\"\u001b[39;49m\u001b[43m:\u001b[49m\u001b[43m \u001b[49m\u001b[38;5;28;43mstr\u001b[39;49m\u001b[43m}\u001b[49m\n\u001b[1;32m      3\u001b[0m \u001b[43m)\u001b[49m\n",
      "File \u001b[0;32m~/.local/share/virtualenvs/notebooks-HSWNtBAS/lib/python3.8/site-packages/pandas/util/_decorators.py:311\u001b[0m, in \u001b[0;36mdeprecate_nonkeyword_arguments.<locals>.decorate.<locals>.wrapper\u001b[0;34m(*args, **kwargs)\u001b[0m\n\u001b[1;32m    305\u001b[0m \u001b[38;5;28;01mif\u001b[39;00m \u001b[38;5;28mlen\u001b[39m(args) \u001b[38;5;241m>\u001b[39m num_allow_args:\n\u001b[1;32m    306\u001b[0m     warnings\u001b[38;5;241m.\u001b[39mwarn(\n\u001b[1;32m    307\u001b[0m         msg\u001b[38;5;241m.\u001b[39mformat(arguments\u001b[38;5;241m=\u001b[39marguments),\n\u001b[1;32m    308\u001b[0m         \u001b[38;5;167;01mFutureWarning\u001b[39;00m,\n\u001b[1;32m    309\u001b[0m         stacklevel\u001b[38;5;241m=\u001b[39mstacklevel,\n\u001b[1;32m    310\u001b[0m     )\n\u001b[0;32m--> 311\u001b[0m \u001b[38;5;28;01mreturn\u001b[39;00m \u001b[43mfunc\u001b[49m\u001b[43m(\u001b[49m\u001b[38;5;241;43m*\u001b[39;49m\u001b[43margs\u001b[49m\u001b[43m,\u001b[49m\u001b[43m \u001b[49m\u001b[38;5;241;43m*\u001b[39;49m\u001b[38;5;241;43m*\u001b[39;49m\u001b[43mkwargs\u001b[49m\u001b[43m)\u001b[49m\n",
      "File \u001b[0;32m~/.local/share/virtualenvs/notebooks-HSWNtBAS/lib/python3.8/site-packages/pandas/io/parsers/readers.py:779\u001b[0m, in \u001b[0;36mread_table\u001b[0;34m(filepath_or_buffer, sep, delimiter, header, names, index_col, usecols, squeeze, prefix, mangle_dupe_cols, dtype, engine, converters, true_values, false_values, skipinitialspace, skiprows, skipfooter, nrows, na_values, keep_default_na, na_filter, verbose, skip_blank_lines, parse_dates, infer_datetime_format, keep_date_col, date_parser, dayfirst, cache_dates, iterator, chunksize, compression, thousands, decimal, lineterminator, quotechar, quoting, doublequote, escapechar, comment, encoding, encoding_errors, dialect, error_bad_lines, warn_bad_lines, on_bad_lines, delim_whitespace, low_memory, memory_map, float_precision, storage_options)\u001b[0m\n\u001b[1;32m    764\u001b[0m kwds_defaults \u001b[38;5;241m=\u001b[39m _refine_defaults_read(\n\u001b[1;32m    765\u001b[0m     dialect,\n\u001b[1;32m    766\u001b[0m     delimiter,\n\u001b[0;32m   (...)\u001b[0m\n\u001b[1;32m    775\u001b[0m     defaults\u001b[38;5;241m=\u001b[39m{\u001b[38;5;124m\"\u001b[39m\u001b[38;5;124mdelimiter\u001b[39m\u001b[38;5;124m\"\u001b[39m: \u001b[38;5;124m\"\u001b[39m\u001b[38;5;130;01m\\t\u001b[39;00m\u001b[38;5;124m\"\u001b[39m},\n\u001b[1;32m    776\u001b[0m )\n\u001b[1;32m    777\u001b[0m kwds\u001b[38;5;241m.\u001b[39mupdate(kwds_defaults)\n\u001b[0;32m--> 779\u001b[0m \u001b[38;5;28;01mreturn\u001b[39;00m \u001b[43m_read\u001b[49m\u001b[43m(\u001b[49m\u001b[43mfilepath_or_buffer\u001b[49m\u001b[43m,\u001b[49m\u001b[43m \u001b[49m\u001b[43mkwds\u001b[49m\u001b[43m)\u001b[49m\n",
      "File \u001b[0;32m~/.local/share/virtualenvs/notebooks-HSWNtBAS/lib/python3.8/site-packages/pandas/io/parsers/readers.py:575\u001b[0m, in \u001b[0;36m_read\u001b[0;34m(filepath_or_buffer, kwds)\u001b[0m\n\u001b[1;32m    572\u001b[0m _validate_names(kwds\u001b[38;5;241m.\u001b[39mget(\u001b[38;5;124m\"\u001b[39m\u001b[38;5;124mnames\u001b[39m\u001b[38;5;124m\"\u001b[39m, \u001b[38;5;28;01mNone\u001b[39;00m))\n\u001b[1;32m    574\u001b[0m \u001b[38;5;66;03m# Create the parser.\u001b[39;00m\n\u001b[0;32m--> 575\u001b[0m parser \u001b[38;5;241m=\u001b[39m \u001b[43mTextFileReader\u001b[49m\u001b[43m(\u001b[49m\u001b[43mfilepath_or_buffer\u001b[49m\u001b[43m,\u001b[49m\u001b[43m \u001b[49m\u001b[38;5;241;43m*\u001b[39;49m\u001b[38;5;241;43m*\u001b[39;49m\u001b[43mkwds\u001b[49m\u001b[43m)\u001b[49m\n\u001b[1;32m    577\u001b[0m \u001b[38;5;28;01mif\u001b[39;00m chunksize \u001b[38;5;129;01mor\u001b[39;00m iterator:\n\u001b[1;32m    578\u001b[0m     \u001b[38;5;28;01mreturn\u001b[39;00m parser\n",
      "File \u001b[0;32m~/.local/share/virtualenvs/notebooks-HSWNtBAS/lib/python3.8/site-packages/pandas/io/parsers/readers.py:933\u001b[0m, in \u001b[0;36mTextFileReader.__init__\u001b[0;34m(self, f, engine, **kwds)\u001b[0m\n\u001b[1;32m    930\u001b[0m     \u001b[38;5;28mself\u001b[39m\u001b[38;5;241m.\u001b[39moptions[\u001b[38;5;124m\"\u001b[39m\u001b[38;5;124mhas_index_names\u001b[39m\u001b[38;5;124m\"\u001b[39m] \u001b[38;5;241m=\u001b[39m kwds[\u001b[38;5;124m\"\u001b[39m\u001b[38;5;124mhas_index_names\u001b[39m\u001b[38;5;124m\"\u001b[39m]\n\u001b[1;32m    932\u001b[0m \u001b[38;5;28mself\u001b[39m\u001b[38;5;241m.\u001b[39mhandles: IOHandles \u001b[38;5;241m|\u001b[39m \u001b[38;5;28;01mNone\u001b[39;00m \u001b[38;5;241m=\u001b[39m \u001b[38;5;28;01mNone\u001b[39;00m\n\u001b[0;32m--> 933\u001b[0m \u001b[38;5;28mself\u001b[39m\u001b[38;5;241m.\u001b[39m_engine \u001b[38;5;241m=\u001b[39m \u001b[38;5;28;43mself\u001b[39;49m\u001b[38;5;241;43m.\u001b[39;49m\u001b[43m_make_engine\u001b[49m\u001b[43m(\u001b[49m\u001b[43mf\u001b[49m\u001b[43m,\u001b[49m\u001b[43m \u001b[49m\u001b[38;5;28;43mself\u001b[39;49m\u001b[38;5;241;43m.\u001b[39;49m\u001b[43mengine\u001b[49m\u001b[43m)\u001b[49m\n",
      "File \u001b[0;32m~/.local/share/virtualenvs/notebooks-HSWNtBAS/lib/python3.8/site-packages/pandas/io/parsers/readers.py:1217\u001b[0m, in \u001b[0;36mTextFileReader._make_engine\u001b[0;34m(self, f, engine)\u001b[0m\n\u001b[1;32m   1213\u001b[0m     mode \u001b[38;5;241m=\u001b[39m \u001b[38;5;124m\"\u001b[39m\u001b[38;5;124mrb\u001b[39m\u001b[38;5;124m\"\u001b[39m\n\u001b[1;32m   1214\u001b[0m \u001b[38;5;66;03m# error: No overload variant of \"get_handle\" matches argument types\u001b[39;00m\n\u001b[1;32m   1215\u001b[0m \u001b[38;5;66;03m# \"Union[str, PathLike[str], ReadCsvBuffer[bytes], ReadCsvBuffer[str]]\"\u001b[39;00m\n\u001b[1;32m   1216\u001b[0m \u001b[38;5;66;03m# , \"str\", \"bool\", \"Any\", \"Any\", \"Any\", \"Any\", \"Any\"\u001b[39;00m\n\u001b[0;32m-> 1217\u001b[0m \u001b[38;5;28mself\u001b[39m\u001b[38;5;241m.\u001b[39mhandles \u001b[38;5;241m=\u001b[39m \u001b[43mget_handle\u001b[49m\u001b[43m(\u001b[49m\u001b[43m  \u001b[49m\u001b[38;5;66;43;03m# type: ignore[call-overload]\u001b[39;49;00m\n\u001b[1;32m   1218\u001b[0m \u001b[43m    \u001b[49m\u001b[43mf\u001b[49m\u001b[43m,\u001b[49m\n\u001b[1;32m   1219\u001b[0m \u001b[43m    \u001b[49m\u001b[43mmode\u001b[49m\u001b[43m,\u001b[49m\n\u001b[1;32m   1220\u001b[0m \u001b[43m    \u001b[49m\u001b[43mencoding\u001b[49m\u001b[38;5;241;43m=\u001b[39;49m\u001b[38;5;28;43mself\u001b[39;49m\u001b[38;5;241;43m.\u001b[39;49m\u001b[43moptions\u001b[49m\u001b[38;5;241;43m.\u001b[39;49m\u001b[43mget\u001b[49m\u001b[43m(\u001b[49m\u001b[38;5;124;43m\"\u001b[39;49m\u001b[38;5;124;43mencoding\u001b[39;49m\u001b[38;5;124;43m\"\u001b[39;49m\u001b[43m,\u001b[49m\u001b[43m \u001b[49m\u001b[38;5;28;43;01mNone\u001b[39;49;00m\u001b[43m)\u001b[49m\u001b[43m,\u001b[49m\n\u001b[1;32m   1221\u001b[0m \u001b[43m    \u001b[49m\u001b[43mcompression\u001b[49m\u001b[38;5;241;43m=\u001b[39;49m\u001b[38;5;28;43mself\u001b[39;49m\u001b[38;5;241;43m.\u001b[39;49m\u001b[43moptions\u001b[49m\u001b[38;5;241;43m.\u001b[39;49m\u001b[43mget\u001b[49m\u001b[43m(\u001b[49m\u001b[38;5;124;43m\"\u001b[39;49m\u001b[38;5;124;43mcompression\u001b[39;49m\u001b[38;5;124;43m\"\u001b[39;49m\u001b[43m,\u001b[49m\u001b[43m \u001b[49m\u001b[38;5;28;43;01mNone\u001b[39;49;00m\u001b[43m)\u001b[49m\u001b[43m,\u001b[49m\n\u001b[1;32m   1222\u001b[0m \u001b[43m    \u001b[49m\u001b[43mmemory_map\u001b[49m\u001b[38;5;241;43m=\u001b[39;49m\u001b[38;5;28;43mself\u001b[39;49m\u001b[38;5;241;43m.\u001b[39;49m\u001b[43moptions\u001b[49m\u001b[38;5;241;43m.\u001b[39;49m\u001b[43mget\u001b[49m\u001b[43m(\u001b[49m\u001b[38;5;124;43m\"\u001b[39;49m\u001b[38;5;124;43mmemory_map\u001b[39;49m\u001b[38;5;124;43m\"\u001b[39;49m\u001b[43m,\u001b[49m\u001b[43m \u001b[49m\u001b[38;5;28;43;01mFalse\u001b[39;49;00m\u001b[43m)\u001b[49m\u001b[43m,\u001b[49m\n\u001b[1;32m   1223\u001b[0m \u001b[43m    \u001b[49m\u001b[43mis_text\u001b[49m\u001b[38;5;241;43m=\u001b[39;49m\u001b[43mis_text\u001b[49m\u001b[43m,\u001b[49m\n\u001b[1;32m   1224\u001b[0m \u001b[43m    \u001b[49m\u001b[43merrors\u001b[49m\u001b[38;5;241;43m=\u001b[39;49m\u001b[38;5;28;43mself\u001b[39;49m\u001b[38;5;241;43m.\u001b[39;49m\u001b[43moptions\u001b[49m\u001b[38;5;241;43m.\u001b[39;49m\u001b[43mget\u001b[49m\u001b[43m(\u001b[49m\u001b[38;5;124;43m\"\u001b[39;49m\u001b[38;5;124;43mencoding_errors\u001b[39;49m\u001b[38;5;124;43m\"\u001b[39;49m\u001b[43m,\u001b[49m\u001b[43m \u001b[49m\u001b[38;5;124;43m\"\u001b[39;49m\u001b[38;5;124;43mstrict\u001b[39;49m\u001b[38;5;124;43m\"\u001b[39;49m\u001b[43m)\u001b[49m\u001b[43m,\u001b[49m\n\u001b[1;32m   1225\u001b[0m \u001b[43m    \u001b[49m\u001b[43mstorage_options\u001b[49m\u001b[38;5;241;43m=\u001b[39;49m\u001b[38;5;28;43mself\u001b[39;49m\u001b[38;5;241;43m.\u001b[39;49m\u001b[43moptions\u001b[49m\u001b[38;5;241;43m.\u001b[39;49m\u001b[43mget\u001b[49m\u001b[43m(\u001b[49m\u001b[38;5;124;43m\"\u001b[39;49m\u001b[38;5;124;43mstorage_options\u001b[39;49m\u001b[38;5;124;43m\"\u001b[39;49m\u001b[43m,\u001b[49m\u001b[43m \u001b[49m\u001b[38;5;28;43;01mNone\u001b[39;49;00m\u001b[43m)\u001b[49m\u001b[43m,\u001b[49m\n\u001b[1;32m   1226\u001b[0m \u001b[43m\u001b[49m\u001b[43m)\u001b[49m\n\u001b[1;32m   1227\u001b[0m \u001b[38;5;28;01massert\u001b[39;00m \u001b[38;5;28mself\u001b[39m\u001b[38;5;241m.\u001b[39mhandles \u001b[38;5;129;01mis\u001b[39;00m \u001b[38;5;129;01mnot\u001b[39;00m \u001b[38;5;28;01mNone\u001b[39;00m\n\u001b[1;32m   1228\u001b[0m f \u001b[38;5;241m=\u001b[39m \u001b[38;5;28mself\u001b[39m\u001b[38;5;241m.\u001b[39mhandles\u001b[38;5;241m.\u001b[39mhandle\n",
      "File \u001b[0;32m~/.local/share/virtualenvs/notebooks-HSWNtBAS/lib/python3.8/site-packages/pandas/io/common.py:789\u001b[0m, in \u001b[0;36mget_handle\u001b[0;34m(path_or_buf, mode, encoding, compression, memory_map, is_text, errors, storage_options)\u001b[0m\n\u001b[1;32m    784\u001b[0m \u001b[38;5;28;01melif\u001b[39;00m \u001b[38;5;28misinstance\u001b[39m(handle, \u001b[38;5;28mstr\u001b[39m):\n\u001b[1;32m    785\u001b[0m     \u001b[38;5;66;03m# Check whether the filename is to be opened in binary mode.\u001b[39;00m\n\u001b[1;32m    786\u001b[0m     \u001b[38;5;66;03m# Binary mode does not support 'encoding' and 'newline'.\u001b[39;00m\n\u001b[1;32m    787\u001b[0m     \u001b[38;5;28;01mif\u001b[39;00m ioargs\u001b[38;5;241m.\u001b[39mencoding \u001b[38;5;129;01mand\u001b[39;00m \u001b[38;5;124m\"\u001b[39m\u001b[38;5;124mb\u001b[39m\u001b[38;5;124m\"\u001b[39m \u001b[38;5;129;01mnot\u001b[39;00m \u001b[38;5;129;01min\u001b[39;00m ioargs\u001b[38;5;241m.\u001b[39mmode:\n\u001b[1;32m    788\u001b[0m         \u001b[38;5;66;03m# Encoding\u001b[39;00m\n\u001b[0;32m--> 789\u001b[0m         handle \u001b[38;5;241m=\u001b[39m \u001b[38;5;28;43mopen\u001b[39;49m\u001b[43m(\u001b[49m\n\u001b[1;32m    790\u001b[0m \u001b[43m            \u001b[49m\u001b[43mhandle\u001b[49m\u001b[43m,\u001b[49m\n\u001b[1;32m    791\u001b[0m \u001b[43m            \u001b[49m\u001b[43mioargs\u001b[49m\u001b[38;5;241;43m.\u001b[39;49m\u001b[43mmode\u001b[49m\u001b[43m,\u001b[49m\n\u001b[1;32m    792\u001b[0m \u001b[43m            \u001b[49m\u001b[43mencoding\u001b[49m\u001b[38;5;241;43m=\u001b[39;49m\u001b[43mioargs\u001b[49m\u001b[38;5;241;43m.\u001b[39;49m\u001b[43mencoding\u001b[49m\u001b[43m,\u001b[49m\n\u001b[1;32m    793\u001b[0m \u001b[43m            \u001b[49m\u001b[43merrors\u001b[49m\u001b[38;5;241;43m=\u001b[39;49m\u001b[43merrors\u001b[49m\u001b[43m,\u001b[49m\n\u001b[1;32m    794\u001b[0m \u001b[43m            \u001b[49m\u001b[43mnewline\u001b[49m\u001b[38;5;241;43m=\u001b[39;49m\u001b[38;5;124;43m\"\u001b[39;49m\u001b[38;5;124;43m\"\u001b[39;49m\u001b[43m,\u001b[49m\n\u001b[1;32m    795\u001b[0m \u001b[43m        \u001b[49m\u001b[43m)\u001b[49m\n\u001b[1;32m    796\u001b[0m     \u001b[38;5;28;01melse\u001b[39;00m:\n\u001b[1;32m    797\u001b[0m         \u001b[38;5;66;03m# Binary mode\u001b[39;00m\n\u001b[1;32m    798\u001b[0m         handle \u001b[38;5;241m=\u001b[39m \u001b[38;5;28mopen\u001b[39m(handle, ioargs\u001b[38;5;241m.\u001b[39mmode)\n",
      "\u001b[0;31mFileNotFoundError\u001b[0m: [Errno 2] No such file or directory: 'data/raw/births_byrace_1620.txt'"
     ]
    }
   ],
   "source": [
    "births_byrace = pd.read_table(\n",
    "    \"data/raw/births_byrace_1620.txt\", dtype={\"Year\": str, \"Year Code\": str}\n",
    ")"
   ]
  },
  {
   "cell_type": "code",
   "execution_count": null,
   "id": "0e16a5e3-b94d-4432-adba-0c8dd44758d3",
   "metadata": {},
   "outputs": [],
   "source": [
    "births_byrace_2020 = births_byrace[births_byrace[\"Year\"] == \"2020\"]"
   ]
  },
  {
   "cell_type": "code",
   "execution_count": null,
   "id": "b2970f52-4d70-421c-b1a0-b70c9c0a0a84",
   "metadata": {},
   "outputs": [],
   "source": [
    "births_byrace_2020.columns = (\n",
    "    births_byrace_2020.columns.str.lower().str.replace(\" \", \"_\").str.replace(\"'\", \"\")\n",
    ")"
   ]
  },
  {
   "cell_type": "code",
   "execution_count": null,
   "id": "b1321bad-f4f0-45d0-87d8-7624422d920a",
   "metadata": {},
   "outputs": [],
   "source": [
    "births_byrace_2020.columns = [\n",
    "    \"notes\",\n",
    "    \"year\",\n",
    "    \"year_code\",\n",
    "    \"race\",\n",
    "    \"mothers_single_race_6_code\",\n",
    "    \"hispanic_origin\",\n",
    "    \"mothers_hispanic_origin_code\",\n",
    "    \"births\",\n",
    "]"
   ]
  },
  {
   "cell_type": "markdown",
   "id": "fc3c2c47-5969-4026-98f6-28dde70bc881",
   "metadata": {},
   "source": [
    "#### processing race so they match the maternal mortality categories"
   ]
  },
  {
   "cell_type": "code",
   "execution_count": null,
   "id": "4b08aa20-279d-4d99-b78c-295522bb0083",
   "metadata": {},
   "outputs": [],
   "source": [
    "aapi = [\"Native Hawaiian or Other Pacific Islander\", \"Asian\"]\n",
    "\n",
    "birth_conditions = [\n",
    "    (\n",
    "        (births_byrace_2020[\"race\"] == \"White\")\n",
    "        & (births_byrace_2020[\"hispanic_origin\"] == \"Not Hispanic or Latino\")\n",
    "        & (births_byrace_2020[\"notes\"] != \"Total\")\n",
    "    ),\n",
    "    (\n",
    "        (births_byrace_2020[\"race\"] == \"Black or African American\")\n",
    "        & (births_byrace_2020[\"hispanic_origin\"] == \"Not Hispanic or Latino\")\n",
    "        & (births_byrace_2020[\"notes\"] != \"Total\")\n",
    "    ),\n",
    "    (\n",
    "        (births_byrace_2020[\"race\"].isin(aapi))\n",
    "        & (births_byrace_2020[\"hispanic_origin\"] == \"Not Hispanic or Latino\")\n",
    "        & (births_byrace_2020[\"notes\"] != \"Total\")\n",
    "    ),\n",
    "    (\n",
    "        (births_byrace_2020[\"race\"] == \"American Indian or Alaska Native\")\n",
    "        & (births_byrace_2020[\"hispanic_origin\"] == \"Not Hispanic or Latino\")\n",
    "        & (births_byrace_2020[\"notes\"] != \"Total\")\n",
    "    ),\n",
    "    (\n",
    "        (births_byrace_2020[\"hispanic_origin\"] == \"Hispanic or Latino\")\n",
    "        & (births_byrace_2020[\"notes\"] != \"Total\")\n",
    "    ),\n",
    "]\n",
    "\n",
    "birth_values = [\n",
    "    \"White\",\n",
    "    \"Black\",\n",
    "    \"AAPI\",\n",
    "    \"American Indian or Alaska Native\",\n",
    "    \"Hispanic or Latino\",\n",
    "]\n",
    "\n",
    "births_byrace_2020[\"race_whispanicorigin\"] = np.select(birth_conditions, birth_values)"
   ]
  },
  {
   "cell_type": "code",
   "execution_count": null,
   "id": "60f017fb-a401-4b66-99d0-632870e6e550",
   "metadata": {},
   "outputs": [],
   "source": [
    "births_only = births_byrace_2020.groupby(\"race_whispanicorigin\").agg(\n",
    "    births_2020=pd.NamedAgg(column=\"births\", aggfunc=sum)\n",
    ")"
   ]
  },
  {
   "cell_type": "markdown",
   "id": "b00741ff-6a87-44de-a1a6-accced0ca892",
   "metadata": {
    "jp-MarkdownHeadingCollapsed": true,
    "tags": []
   },
   "source": [
    "#### Merging births with 2020 CDC MM raw numbers to calculate rates per 100k live births by race\n",
    "#### comparison--deaths recorded vs. ignored by cdc metric"
   ]
  },
  {
   "cell_type": "code",
   "execution_count": null,
   "id": "027ee9fd-7321-43cc-8103-c2aa0909301b",
   "metadata": {},
   "outputs": [],
   "source": [
    "mm_byrace_cdcrec_wide = births_only.merge(\n",
    "    rawdeaths_byrace_cdcrec_wide, on=\"race_whispanicorigin\"\n",
    ").reset_index()\n",
    "mm_byrace_cdcrec_wide[\"rate_recorded\"] = 100000 * (\n",
    "    mm_byrace_cdcrec_wide[\"recorded\"] / mm_byrace_cdcrec_wide[\"births_2020\"]\n",
    ")\n",
    "mm_byrace_cdcrec_wide[\"rate_unrecorded\"] = 100000 * (\n",
    "    mm_byrace_cdcrec_wide[\"not recorded\"] / mm_byrace_cdcrec_wide[\"births_2020\"]\n",
    ")"
   ]
  },
  {
   "cell_type": "code",
   "execution_count": null,
   "id": "3999df67-dd8d-436d-b219-0af1592fa362",
   "metadata": {},
   "outputs": [],
   "source": [
    "mm_byrace_cdcrec = births_only.merge(\n",
    "    rawdeaths_byrace_cdcrec, on=\"race_whispanicorigin\"\n",
    ").reset_index()\n",
    "mm_byrace_cdcrec[\"rate\"] = 100000 * (\n",
    "    mm_byrace_cdcrec[\"deaths\"] / mm_byrace_cdcrec[\"births_2020\"]\n",
    ")"
   ]
  },
  {
   "cell_type": "code",
   "execution_count": null,
   "id": "e2481fcf-ba64-4bac-a145-a5adde8fec01",
   "metadata": {},
   "outputs": [],
   "source": [
    "alt.Chart(mm_byrace_cdcrec).mark_bar().encode(\n",
    "    x=\"cdc_maternal_mortality:N\",\n",
    "    y=\"rate\",\n",
    "    color=\"cdc_maternal_mortality:N\",\n",
    "    column=\"race_whispanicorigin:N\",\n",
    ").properties(width=150, height=300)"
   ]
  },
  {
   "cell_type": "markdown",
   "id": "47cdd0fa-c476-4c01-ad3b-2a31782a648d",
   "metadata": {
    "jp-MarkdownHeadingCollapsed": true,
    "tags": []
   },
   "source": [
    "### Listing specific causes of death by race (2020)"
   ]
  },
  {
   "cell_type": "code",
   "execution_count": null,
   "id": "16a8e027-9ce8-488d-b4db-526e6931e4b8",
   "metadata": {},
   "outputs": [],
   "source": [
    "cause_byrace = (\n",
    "    mm_byrace.groupby([\"race_whispanicorigin\", \"cause_of_death\"])\n",
    "    .agg(deaths=pd.NamedAgg(column=\"deaths\", aggfunc=sum))\n",
    "    .reset_index()\n",
    ")"
   ]
  },
  {
   "cell_type": "code",
   "execution_count": null,
   "id": "dc2de522-984a-4af8-a3f8-119347119a6c",
   "metadata": {},
   "outputs": [],
   "source": [
    "cause_byrace_wide = cause_byrace.pivot(\n",
    "    index=\"cause_of_death\", columns=\"race_whispanicorigin\", values=\"deaths\"\n",
    ").reset_index()"
   ]
  },
  {
   "cell_type": "code",
   "execution_count": null,
   "id": "437d9b96-d0bb-49e3-8fc8-310cf83eca37",
   "metadata": {},
   "outputs": [],
   "source": [
    "cause_byrace_wide.columns = [\n",
    "    \"cause_of_death\",\n",
    "    \"missing\",\n",
    "    \"aapi\",\n",
    "    \"american_indian\",\n",
    "    \"black\",\n",
    "    \"hisp_latino\",\n",
    "    \"white\",\n",
    "]"
   ]
  },
  {
   "cell_type": "markdown",
   "id": "22b65d80-aec9-4260-b272-bdc3fbe77c8d",
   "metadata": {},
   "source": [
    "### International maternal mortality data"
   ]
  },
  {
   "cell_type": "code",
   "execution_count": 28,
   "id": "9c770fbc-5893-45f9-8927-08702d4e1d87",
   "metadata": {},
   "outputs": [],
   "source": [
    "international_mm = pd.read_csv(\"data/raw/mm_intl.csv\", dtype={\"Period\": str})"
   ]
  },
  {
   "cell_type": "code",
   "execution_count": 29,
   "id": "075e1f58-1f77-4c45-83a4-ca59bf7685df",
   "metadata": {},
   "outputs": [],
   "source": [
    "international_mm.columns = international_mm.columns.str.lower().str.replace(\" \", \"_\")"
   ]
  },
  {
   "cell_type": "code",
   "execution_count": 30,
   "id": "f6e81691-5bb4-4b78-8e53-5b56cfecc0ff",
   "metadata": {},
   "outputs": [],
   "source": [
    "intl_mm_rates = international_mm[\n",
    "    (\n",
    "        international_mm[\"indicator\"]\n",
    "        == \"Maternal mortality ratio (per 100 000 live births)\"\n",
    "    )\n",
    "    & (international_mm[\"period\"] == \"2017\")\n",
    "]\n",
    "intl_mm_rates = intl_mm_rates[\n",
    "    [\"spatialdimvaluecode\", \"location\", \"period\", \"factvaluenumeric\"]\n",
    "]"
   ]
  },
  {
   "cell_type": "code",
   "execution_count": 31,
   "id": "bd08f161-1a77-4fd1-ba71-e35160f45253",
   "metadata": {},
   "outputs": [],
   "source": [
    "close_to_us = intl_mm_rates[\n",
    "    (intl_mm_rates[\"factvaluenumeric\"] > 15) & (intl_mm_rates[\"factvaluenumeric\"] < 20)\n",
    "]"
   ]
  },
  {
   "cell_type": "code",
   "execution_count": 32,
   "id": "eb5cfa18-fc64-43e7-87ea-6e33d9e9bb7c",
   "metadata": {},
   "outputs": [],
   "source": [
    "countrycodes = close_to_us[\"spatialdimvaluecode\"]"
   ]
  },
  {
   "cell_type": "code",
   "execution_count": 33,
   "id": "4309fe7e-262e-43f5-85a8-c06698edd103",
   "metadata": {},
   "outputs": [],
   "source": [
    "overtime = international_mm[international_mm[\"spatialdimvaluecode\"].isin(countrycodes)]"
   ]
  },
  {
   "cell_type": "code",
   "execution_count": 34,
   "id": "7c3fcbf3-f0d0-4629-84e8-fee1639179c4",
   "metadata": {},
   "outputs": [],
   "source": [
    "rates_overtime = overtime[\n",
    "    overtime[\"indicator\"] == \"Maternal mortality ratio (per 100 000 live births)\"\n",
    "]"
   ]
  },
  {
   "cell_type": "code",
   "execution_count": 35,
   "id": "1ba31457-13db-46bc-b3ec-f52af0dc3668",
   "metadata": {},
   "outputs": [],
   "source": [
    "rates_overtime = rates_overtime[[\"location\", \"period\", \"factvaluenumeric\"]].pivot(\n",
    "    index=\"location\", columns=\"period\", values=\"factvaluenumeric\"\n",
    ")"
   ]
  },
  {
   "cell_type": "code",
   "execution_count": 36,
   "id": "d9054384-f42e-4550-9f6a-2993df6de5e8",
   "metadata": {},
   "outputs": [],
   "source": [
    "target_countries = [\n",
    "    \"United States of America\",\n",
    "    \"Russian Federation\",\n",
    "    \"Iran (Islamic Republic of)\",\n",
    "    \"Saudi Arabia\",\n",
    "    \"Uruguay\",\n",
    "]"
   ]
  },
  {
   "cell_type": "code",
   "execution_count": 36,
   "id": "fbc0031f-ce26-423b-a099-e0cc0308796f",
   "metadata": {},
   "outputs": [],
   "source": [
    "g7_countries = ['United States of America', 'France']"
   ]
  },
  {
   "cell_type": "code",
   "execution_count": 37,
   "id": "792c3c0f-2071-447f-bf49-48a1f35318e0",
   "metadata": {},
   "outputs": [],
   "source": [
    "intl_rates_overtime_long = overtime[\n",
    "    (overtime[\"indicator\"] == \"Maternal mortality ratio (per 100 000 live births)\")\n",
    "    & (overtime[\"location\"].isin(target_countries))\n",
    "]"
   ]
  },
  {
   "cell_type": "code",
   "execution_count": 38,
   "id": "9f56df6e-0b94-4aa8-aa8e-b728a5e05a7d",
   "metadata": {},
   "outputs": [],
   "source": [
    "intl_rates_overtime_long = intl_rates_overtime_long[\n",
    "    [\"location\", \"period\", \"factvaluenumeric\"]\n",
    "]"
   ]
  },
  {
   "cell_type": "code",
   "execution_count": 39,
   "id": "ac1e5e69-d7dc-495a-83f0-a48b2143bf90",
   "metadata": {},
   "outputs": [
    {
     "data": {
      "text/html": [
       "\n",
       "<div id=\"altair-viz-94238018d7b94482ac89a3b3e27c955e\"></div>\n",
       "<script type=\"text/javascript\">\n",
       "  var VEGA_DEBUG = (typeof VEGA_DEBUG == \"undefined\") ? {} : VEGA_DEBUG;\n",
       "  (function(spec, embedOpt){\n",
       "    let outputDiv = document.currentScript.previousElementSibling;\n",
       "    if (outputDiv.id !== \"altair-viz-94238018d7b94482ac89a3b3e27c955e\") {\n",
       "      outputDiv = document.getElementById(\"altair-viz-94238018d7b94482ac89a3b3e27c955e\");\n",
       "    }\n",
       "    const paths = {\n",
       "      \"vega\": \"https://cdn.jsdelivr.net/npm//vega@5?noext\",\n",
       "      \"vega-lib\": \"https://cdn.jsdelivr.net/npm//vega-lib?noext\",\n",
       "      \"vega-lite\": \"https://cdn.jsdelivr.net/npm//vega-lite@4.17.0?noext\",\n",
       "      \"vega-embed\": \"https://cdn.jsdelivr.net/npm//vega-embed@6?noext\",\n",
       "    };\n",
       "\n",
       "    function maybeLoadScript(lib, version) {\n",
       "      var key = `${lib.replace(\"-\", \"\")}_version`;\n",
       "      return (VEGA_DEBUG[key] == version) ?\n",
       "        Promise.resolve(paths[lib]) :\n",
       "        new Promise(function(resolve, reject) {\n",
       "          var s = document.createElement('script');\n",
       "          document.getElementsByTagName(\"head\")[0].appendChild(s);\n",
       "          s.async = true;\n",
       "          s.onload = () => {\n",
       "            VEGA_DEBUG[key] = version;\n",
       "            return resolve(paths[lib]);\n",
       "          };\n",
       "          s.onerror = () => reject(`Error loading script: ${paths[lib]}`);\n",
       "          s.src = paths[lib];\n",
       "        });\n",
       "    }\n",
       "\n",
       "    function showError(err) {\n",
       "      outputDiv.innerHTML = `<div class=\"error\" style=\"color:red;\">${err}</div>`;\n",
       "      throw err;\n",
       "    }\n",
       "\n",
       "    function displayChart(vegaEmbed) {\n",
       "      vegaEmbed(outputDiv, spec, embedOpt)\n",
       "        .catch(err => showError(`Javascript Error: ${err.message}<br>This usually means there's a typo in your chart specification. See the javascript console for the full traceback.`));\n",
       "    }\n",
       "\n",
       "    if(typeof define === \"function\" && define.amd) {\n",
       "      requirejs.config({paths});\n",
       "      require([\"vega-embed\"], displayChart, err => showError(`Error loading script: ${err.message}`));\n",
       "    } else {\n",
       "      maybeLoadScript(\"vega\", \"5\")\n",
       "        .then(() => maybeLoadScript(\"vega-lite\", \"4.17.0\"))\n",
       "        .then(() => maybeLoadScript(\"vega-embed\", \"6\"))\n",
       "        .catch(showError)\n",
       "        .then(() => displayChart(vegaEmbed));\n",
       "    }\n",
       "  })({\"config\": {\"view\": {\"width\": 800, \"height\": 450, \"strokeOpacity\": 0}, \"background\": \"#ffffff\", \"title\": {\"anchor\": \"start\", \"font\": \"Summit Sans\", \"fontColor\": \"palette[\\\"black\\\"]\", \"fontSize\": 18, \"fontWeight\": \"normal\"}, \"arc\": {\"fill\": \"#00d4d8\"}, \"area\": {\"fill\": \"#00d4d8\"}, \"line\": {\"stroke\": \"#00d4d8\", \"strokeWidth\": 3}, \"path\": {\"stroke\": \"#00d4d8\"}, \"rect\": {\"fill\": \"#00d4d8\"}, \"shape\": {\"stroke\": \"#00d4d8\"}, \"bar\": {\"fill\": \"#00d4d8\"}, \"point\": {\"stroke\": \"#00d4d8\"}, \"symbol\": {\"fill\": \"#00d4d8\", \"size\": 30}, \"axis\": {\"titleFont\": \"Roboto\", \"titleFontSize\": 15, \"titleFontWeight\": \"normal\", \"labelFont\": \"Roboto, sans\", \"labelFontSize\": 13, \"labelFontWeight\": \"normal\"}, \"axisX\": {\"labelAngle\": 0, \"labelPadding\": 6, \"tickSize\": 3, \"grid\": false}, \"axisY\": {\"labelBaseline\": \"middle\", \"maxExtent\": 45, \"minExtent\": 45, \"titleAlign\": \"left\", \"titleAngle\": 0, \"titleX\": -45, \"titleY\": -11, \"domainOpacity\": 0, \"gridWidth\": 0.6, \"gridColor\": \"#dddddd\", \"offset\": 6, \"tickSize\": 0, \"titleColor\": \"#767676\"}, \"legend\": {\"titleFont\": \"Roboto\", \"titleFontSize\": 15, \"titleFontWeight\": \"normal\", \"symbolType\": \"square\", \"labelFont\": \"Roboto, sans\", \"labelFontSize\": 13}, \"range\": {\"category\": [\"#005f66\", \"#e37e2d\", \"#d64a3b\", \"#76b0ef\", \"#c1bc40\"], \"diverging\": [\"#e68a4f\", \"#f4bb6a\", \"#f9e39c\", \"#dadfe2\", \"#a6b7c6\", \"#849eae\"], \"heatmap\": [\"#7ff6f6\", \"#00eeef\", \"#00d4d8\", \"#00abb2\", \"#00848b\", \"#fbf2c7\", \"#00363d\"], \"ordinal\": [\"#7ff6f6\", \"#00eeef\", \"#00d4d8\", \"#00abb2\", \"#00848b\", \"#fbf2c7\", \"#00363d\"], \"ramp\": [\"#7ff6f6\", \"#00eeef\", \"#00d4d8\", \"#00abb2\", \"#00848b\", \"#fbf2c7\", \"#00363d\"]}}, \"data\": {\"name\": \"data-54b7a52c540547dc829e683f97d9fd57\"}, \"mark\": {\"type\": \"line\", \"point\": true}, \"encoding\": {\"color\": {\"field\": \"location\", \"type\": \"nominal\"}, \"x\": {\"field\": \"period\", \"timeUnit\": \"year\", \"type\": \"ordinal\"}, \"y\": {\"field\": \"factvaluenumeric\", \"type\": \"quantitative\"}}, \"$schema\": \"https://vega.github.io/schema/vega-lite/v4.17.0.json\", \"datasets\": {\"data-54b7a52c540547dc829e683f97d9fd57\": [{\"location\": \"Iran (Islamic Republic of)\", \"period\": \"2017\", \"factvaluenumeric\": 16}, {\"location\": \"Saudi Arabia\", \"period\": \"2017\", \"factvaluenumeric\": 17}, {\"location\": \"Russian Federation\", \"period\": \"2017\", \"factvaluenumeric\": 17}, {\"location\": \"Uruguay\", \"period\": \"2017\", \"factvaluenumeric\": 17}, {\"location\": \"United States of America\", \"period\": \"2017\", \"factvaluenumeric\": 19}, {\"location\": \"Iran (Islamic Republic of)\", \"period\": \"2016\", \"factvaluenumeric\": 16}, {\"location\": \"Saudi Arabia\", \"period\": \"2016\", \"factvaluenumeric\": 17}, {\"location\": \"Russian Federation\", \"period\": \"2016\", \"factvaluenumeric\": 18}, {\"location\": \"Uruguay\", \"period\": \"2016\", \"factvaluenumeric\": 18}, {\"location\": \"United States of America\", \"period\": \"2016\", \"factvaluenumeric\": 19}, {\"location\": \"Saudi Arabia\", \"period\": \"2015\", \"factvaluenumeric\": 17}, {\"location\": \"Iran (Islamic Republic of)\", \"period\": \"2015\", \"factvaluenumeric\": 17}, {\"location\": \"Russian Federation\", \"period\": \"2015\", \"factvaluenumeric\": 18}, {\"location\": \"United States of America\", \"period\": \"2015\", \"factvaluenumeric\": 18}, {\"location\": \"Uruguay\", \"period\": \"2015\", \"factvaluenumeric\": 18}, {\"location\": \"United States of America\", \"period\": \"2014\", \"factvaluenumeric\": 16}, {\"location\": \"Saudi Arabia\", \"period\": \"2014\", \"factvaluenumeric\": 17}, {\"location\": \"Iran (Islamic Republic of)\", \"period\": \"2014\", \"factvaluenumeric\": 17}, {\"location\": \"Uruguay\", \"period\": \"2014\", \"factvaluenumeric\": 17}, {\"location\": \"Russian Federation\", \"period\": \"2014\", \"factvaluenumeric\": 19}, {\"location\": \"United States of America\", \"period\": \"2013\", \"factvaluenumeric\": 16}, {\"location\": \"Saudi Arabia\", \"period\": \"2013\", \"factvaluenumeric\": 17}, {\"location\": \"Iran (Islamic Republic of)\", \"period\": \"2013\", \"factvaluenumeric\": 17}, {\"location\": \"Uruguay\", \"period\": \"2013\", \"factvaluenumeric\": 18}, {\"location\": \"Russian Federation\", \"period\": \"2013\", \"factvaluenumeric\": 20}, {\"location\": \"United States of America\", \"period\": \"2012\", \"factvaluenumeric\": 16}, {\"location\": \"Uruguay\", \"period\": \"2012\", \"factvaluenumeric\": 17}, {\"location\": \"Saudi Arabia\", \"period\": \"2012\", \"factvaluenumeric\": 18}, {\"location\": \"Iran (Islamic Republic of)\", \"period\": \"2012\", \"factvaluenumeric\": 18}, {\"location\": \"Russian Federation\", \"period\": \"2012\", \"factvaluenumeric\": 22}, {\"location\": \"United States of America\", \"period\": \"2011\", \"factvaluenumeric\": 15}, {\"location\": \"Uruguay\", \"period\": \"2011\", \"factvaluenumeric\": 17}, {\"location\": \"Saudi Arabia\", \"period\": \"2011\", \"factvaluenumeric\": 18}, {\"location\": \"Iran (Islamic Republic of)\", \"period\": \"2011\", \"factvaluenumeric\": 19}, {\"location\": \"Russian Federation\", \"period\": \"2011\", \"factvaluenumeric\": 23}, {\"location\": \"United States of America\", \"period\": \"2010\", \"factvaluenumeric\": 15}, {\"location\": \"Uruguay\", \"period\": \"2010\", \"factvaluenumeric\": 17}, {\"location\": \"Saudi Arabia\", \"period\": \"2010\", \"factvaluenumeric\": 19}, {\"location\": \"Iran (Islamic Republic of)\", \"period\": \"2010\", \"factvaluenumeric\": 22}, {\"location\": \"Russian Federation\", \"period\": \"2010\", \"factvaluenumeric\": 25}, {\"location\": \"United States of America\", \"period\": \"2009\", \"factvaluenumeric\": 15}, {\"location\": \"Uruguay\", \"period\": \"2009\", \"factvaluenumeric\": 19}, {\"location\": \"Saudi Arabia\", \"period\": \"2009\", \"factvaluenumeric\": 20}, {\"location\": \"Iran (Islamic Republic of)\", \"period\": \"2009\", \"factvaluenumeric\": 25}, {\"location\": \"Russian Federation\", \"period\": \"2009\", \"factvaluenumeric\": 27}, {\"location\": \"United States of America\", \"period\": \"2008\", \"factvaluenumeric\": 14}, {\"location\": \"Uruguay\", \"period\": \"2008\", \"factvaluenumeric\": 19}, {\"location\": \"Saudi Arabia\", \"period\": \"2008\", \"factvaluenumeric\": 20}, {\"location\": \"Iran (Islamic Republic of)\", \"period\": \"2008\", \"factvaluenumeric\": 28}, {\"location\": \"Russian Federation\", \"period\": \"2008\", \"factvaluenumeric\": 30}, {\"location\": \"United States of America\", \"period\": \"2007\", \"factvaluenumeric\": 14}, {\"location\": \"Uruguay\", \"period\": \"2007\", \"factvaluenumeric\": 20}, {\"location\": \"Saudi Arabia\", \"period\": \"2007\", \"factvaluenumeric\": 21}, {\"location\": \"Iran (Islamic Republic of)\", \"period\": \"2007\", \"factvaluenumeric\": 30}, {\"location\": \"Russian Federation\", \"period\": \"2007\", \"factvaluenumeric\": 32}, {\"location\": \"United States of America\", \"period\": \"2006\", \"factvaluenumeric\": 14}, {\"location\": \"Uruguay\", \"period\": \"2006\", \"factvaluenumeric\": 20}, {\"location\": \"Saudi Arabia\", \"period\": \"2006\", \"factvaluenumeric\": 21}, {\"location\": \"Iran (Islamic Republic of)\", \"period\": \"2006\", \"factvaluenumeric\": 32}, {\"location\": \"Russian Federation\", \"period\": \"2006\", \"factvaluenumeric\": 36}, {\"location\": \"United States of America\", \"period\": \"2005\", \"factvaluenumeric\": 13}, {\"location\": \"Saudi Arabia\", \"period\": \"2005\", \"factvaluenumeric\": 22}, {\"location\": \"Uruguay\", \"period\": \"2005\", \"factvaluenumeric\": 22}, {\"location\": \"Iran (Islamic Republic of)\", \"period\": \"2005\", \"factvaluenumeric\": 34}, {\"location\": \"Russian Federation\", \"period\": \"2005\", \"factvaluenumeric\": 42}, {\"location\": \"United States of America\", \"period\": \"2004\", \"factvaluenumeric\": 13}, {\"location\": \"Saudi Arabia\", \"period\": \"2004\", \"factvaluenumeric\": 22}, {\"location\": \"Uruguay\", \"period\": \"2004\", \"factvaluenumeric\": 23}, {\"location\": \"Iran (Islamic Republic of)\", \"period\": \"2004\", \"factvaluenumeric\": 36}, {\"location\": \"Russian Federation\", \"period\": \"2004\", \"factvaluenumeric\": 45}, {\"location\": \"United States of America\", \"period\": \"2003\", \"factvaluenumeric\": 13}, {\"location\": \"Saudi Arabia\", \"period\": \"2003\", \"factvaluenumeric\": 23}, {\"location\": \"Uruguay\", \"period\": \"2003\", \"factvaluenumeric\": 23}, {\"location\": \"Iran (Islamic Republic of)\", \"period\": \"2003\", \"factvaluenumeric\": 39}, {\"location\": \"Russian Federation\", \"period\": \"2003\", \"factvaluenumeric\": 49}, {\"location\": \"United States of America\", \"period\": \"2002\", \"factvaluenumeric\": 13}, {\"location\": \"Saudi Arabia\", \"period\": \"2002\", \"factvaluenumeric\": 23}, {\"location\": \"Uruguay\", \"period\": \"2002\", \"factvaluenumeric\": 25}, {\"location\": \"Iran (Islamic Republic of)\", \"period\": \"2002\", \"factvaluenumeric\": 41}, {\"location\": \"Russian Federation\", \"period\": \"2002\", \"factvaluenumeric\": 51}, {\"location\": \"United States of America\", \"period\": \"2001\", \"factvaluenumeric\": 13}, {\"location\": \"Saudi Arabia\", \"period\": \"2001\", \"factvaluenumeric\": 24}, {\"location\": \"Uruguay\", \"period\": \"2001\", \"factvaluenumeric\": 25}, {\"location\": \"Iran (Islamic Republic of)\", \"period\": \"2001\", \"factvaluenumeric\": 44}, {\"location\": \"Russian Federation\", \"period\": \"2001\", \"factvaluenumeric\": 53}, {\"location\": \"United States of America\", \"period\": \"2000\", \"factvaluenumeric\": 12}, {\"location\": \"Saudi Arabia\", \"period\": \"2000\", \"factvaluenumeric\": 24}, {\"location\": \"Uruguay\", \"period\": \"2000\", \"factvaluenumeric\": 26}, {\"location\": \"Iran (Islamic Republic of)\", \"period\": \"2000\", \"factvaluenumeric\": 48}, {\"location\": \"Russian Federation\", \"period\": \"2000\", \"factvaluenumeric\": 56}]}}, {\"mode\": \"vega-lite\"});\n",
       "</script>"
      ],
      "text/plain": [
       "alt.Chart(...)"
      ]
     },
     "execution_count": 39,
     "metadata": {},
     "output_type": "execute_result"
    }
   ],
   "source": [
    "alt.Chart(intl_rates_overtime_long).mark_line(point=True).encode(\n",
    "    x=alt.X(\"period:O\", timeUnit=\"year\"),\n",
    "    y=alt.Y(\"factvaluenumeric\"),\n",
    "    color=alt.Color(\"location:N\"),\n",
    ")"
   ]
  },
  {
   "cell_type": "code",
   "execution_count": null,
   "id": "c0c95b9e-9412-46cf-8687-69cd92dc59bc",
   "metadata": {},
   "outputs": [],
   "source": []
  }
 ],
 "metadata": {
  "kernelspec": {
   "display_name": "Python 3 (ipykernel)",
   "language": "python",
   "name": "python3"
  },
  "language_info": {
   "codemirror_mode": {
    "name": "ipython",
    "version": 3
   },
   "file_extension": ".py",
   "mimetype": "text/x-python",
   "name": "python",
   "nbconvert_exporter": "python",
   "pygments_lexer": "ipython3",
   "version": "3.9.13"
  }
 },
 "nbformat": 4,
 "nbformat_minor": 5
}
