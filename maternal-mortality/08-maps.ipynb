{
 "cells": [
  {
   "cell_type": "markdown",
   "id": "5cd23c01-688b-4320-ba85-9ed2716f9a6c",
   "metadata": {},
   "source": [
    "### Setup"
   ]
  },
  {
   "cell_type": "code",
   "execution_count": 1,
   "id": "bb16a02f-e79e-46c6-9416-de9a2238e388",
   "metadata": {},
   "outputs": [],
   "source": [
    "%load_ext lab_black"
   ]
  },
  {
   "cell_type": "code",
   "execution_count": 2,
   "id": "735ab44e-2b4d-4d46-88c2-6afc6f790e63",
   "metadata": {},
   "outputs": [],
   "source": [
    "import requests\n",
    "import urllib.request\n",
    "import numpy as np"
   ]
  },
  {
   "cell_type": "code",
   "execution_count": 3,
   "id": "6fe5497e-ae23-483b-a042-a20add102817",
   "metadata": {},
   "outputs": [],
   "source": [
    "import pandas as pd\n",
    "import gspread\n",
    "from oauth2client.service_account import ServiceAccountCredentials"
   ]
  },
  {
   "cell_type": "code",
   "execution_count": 4,
   "id": "72b54e4f-2538-425c-8857-f7fbbdfabad5",
   "metadata": {},
   "outputs": [
    {
     "data": {
      "text/plain": [
       "ThemeRegistry.enable('grid')"
      ]
     },
     "execution_count": 4,
     "metadata": {},
     "output_type": "execute_result"
    }
   ],
   "source": [
    "import altair as alt\n",
    "import altair_grid as altgrid\n",
    "\n",
    "alt.themes.register(\"grid\", altgrid.theme)\n",
    "alt.themes.enable(\"grid\")"
   ]
  },
  {
   "cell_type": "code",
   "execution_count": 5,
   "id": "530b9a6d-de20-4a07-814b-06669cee2eff",
   "metadata": {},
   "outputs": [],
   "source": [
    "import geopandas as gpd"
   ]
  },
  {
   "cell_type": "code",
   "execution_count": 6,
   "id": "de6dadad-e7f3-488b-9c17-f8e87590de7f",
   "metadata": {},
   "outputs": [],
   "source": [
    "from datawrapper import Datawrapper\n",
    "\n",
    "dw = Datawrapper(\n",
    "    access_token=\"FtIwtvFtoGLaRT9a3gjX69PLu4wSuRyKddoOz6SOPw3k9wWyNICMHTkcPhOGCR5Z\"\n",
    ")"
   ]
  },
  {
   "cell_type": "code",
   "execution_count": 7,
   "id": "2180d10f-adbc-4725-9410-506f13153c63",
   "metadata": {},
   "outputs": [],
   "source": [
    "# scope = ['https://spreadsheets.google.com/feeds']\n",
    "# credentials = ServiceAccountCredentials.from_json_keyfile_name('jupyter-integration-349314-25735d35924b.json', scope)\n",
    "# gc = gspread.authorize(credentials)"
   ]
  },
  {
   "cell_type": "code",
   "execution_count": 8,
   "id": "1800ae55-e0be-4451-bd8e-40fa1edeceb0",
   "metadata": {},
   "outputs": [],
   "source": [
    "# spreadsheet_key = \"1sCb1YbQ3-1oiL-cnK0yCkwFcQpvpf0efIngAUeC1ixo\"\n",
    "# book = gc.open_by_key(spreadsheet_key)"
   ]
  },
  {
   "cell_type": "code",
   "execution_count": 9,
   "id": "a8060dc9-5c4d-436c-9631-4a30217a6b3d",
   "metadata": {},
   "outputs": [],
   "source": [
    "pd.options.display.max_columns = 1000\n",
    "pd.options.display.max_rows = 1000"
   ]
  },
  {
   "cell_type": "markdown",
   "id": "f866208f-81fb-4ce1-b122-f7024f7b101c",
   "metadata": {},
   "source": [
    "### Maternal death data\n",
    "a lot of the data is suppressed, so could not break down by cause "
   ]
  },
  {
   "cell_type": "code",
   "execution_count": 10,
   "id": "f9e9a1fc-36cf-433d-9e24-b6159fb6a3b3",
   "metadata": {},
   "outputs": [],
   "source": [
    "df = pd.read_table(\"data/raw/bystate_race_2020.txt\", dtype={\"State Code\": str}).drop(\n",
    "    columns=[\"Notes\", \"Race Code\", \"Hispanic Origin Code\", \"Crude Rate\", \"Population\"]\n",
    ")\n",
    "df = df[~df[\"Deaths\"].isna()]"
   ]
  },
  {
   "cell_type": "code",
   "execution_count": 11,
   "id": "58521edb-df99-4768-bfb9-227ff6dfef9e",
   "metadata": {},
   "outputs": [],
   "source": [
    "df.columns = df.columns.str.lower().str.replace(\" \", \"_\")"
   ]
  },
  {
   "cell_type": "code",
   "execution_count": 12,
   "id": "84cc2db9-40fb-4fbf-9a5b-4a7e00c99468",
   "metadata": {},
   "outputs": [],
   "source": [
    "values = [\n",
    "    ((df[\"race\"] == \"White\") & (df[\"hispanic_origin\"] == \"Not Hispanic or Latino\")),\n",
    "    (\n",
    "        (df[\"race\"] == \"Black or African American\")\n",
    "        & (df[\"hispanic_origin\"] == \"Not Hispanic or Latino\")\n",
    "    ),\n",
    "]\n",
    "\n",
    "conditions = [\n",
    "    \"White\",\n",
    "    \"Black\",\n",
    "]\n",
    "\n",
    "df[\"race_whispanicorigin\"] = np.select(values, conditions)"
   ]
  },
  {
   "cell_type": "code",
   "execution_count": 13,
   "id": "df9d13e7-1f13-4a46-b8ff-1e80dcbe08a7",
   "metadata": {},
   "outputs": [
    {
     "data": {
      "text/html": [
       "<div>\n",
       "<style scoped>\n",
       "    .dataframe tbody tr th:only-of-type {\n",
       "        vertical-align: middle;\n",
       "    }\n",
       "\n",
       "    .dataframe tbody tr th {\n",
       "        vertical-align: top;\n",
       "    }\n",
       "\n",
       "    .dataframe thead th {\n",
       "        text-align: right;\n",
       "    }\n",
       "</style>\n",
       "<table border=\"1\" class=\"dataframe\">\n",
       "  <thead>\n",
       "    <tr style=\"text-align: right;\">\n",
       "      <th></th>\n",
       "      <th>race_whispanicorigin</th>\n",
       "      <th>deaths</th>\n",
       "    </tr>\n",
       "  </thead>\n",
       "  <tbody>\n",
       "    <tr>\n",
       "      <th>0</th>\n",
       "      <td>0</td>\n",
       "      <td>84.0</td>\n",
       "    </tr>\n",
       "    <tr>\n",
       "      <th>1</th>\n",
       "      <td>Black</td>\n",
       "      <td>185.0</td>\n",
       "    </tr>\n",
       "    <tr>\n",
       "      <th>2</th>\n",
       "      <td>White</td>\n",
       "      <td>196.0</td>\n",
       "    </tr>\n",
       "  </tbody>\n",
       "</table>\n",
       "</div>"
      ],
      "text/plain": [
       "  race_whispanicorigin  deaths\n",
       "0                    0    84.0\n",
       "1                Black   185.0\n",
       "2                White   196.0"
      ]
     },
     "execution_count": 13,
     "metadata": {},
     "output_type": "execute_result"
    }
   ],
   "source": [
    "df.groupby(\"race_whispanicorigin\").agg({\"deaths\": sum}).reset_index()\n",
    "\n",
    "# You can also do it like this:\n",
    "\n",
    "# cities = (\n",
    "#     df.groupby([\"city\"]).agg({'count': sum}).reset_index()\n",
    "# )"
   ]
  },
  {
   "cell_type": "code",
   "execution_count": 14,
   "id": "27ff8130-dc4f-4e8d-9090-9ae1f3c14f58",
   "metadata": {},
   "outputs": [
    {
     "data": {
      "text/plain": [
       "465"
      ]
     },
     "execution_count": 14,
     "metadata": {},
     "output_type": "execute_result"
    }
   ],
   "source": [
    "84 + 185 + 196"
   ]
  },
  {
   "cell_type": "markdown",
   "id": "727421bd-d7e2-40ed-aad5-6ad532f2094d",
   "metadata": {},
   "source": [
    "so looking at it by state we're missing a lot of deaths \n",
    "but let's look at the map anyways"
   ]
  },
  {
   "cell_type": "code",
   "execution_count": 15,
   "id": "911697c3-0d4c-4bb0-887a-2c8e4ca61dd5",
   "metadata": {},
   "outputs": [],
   "source": [
    "deaths = (\n",
    "    df.groupby([\"state\", \"state_code\", \"race_whispanicorigin\"])\n",
    "    .agg({\"deaths\": sum})\n",
    "    .reset_index()\n",
    ")"
   ]
  },
  {
   "cell_type": "markdown",
   "id": "7287ef97-f41e-4a09-a9d0-04b2743f40e9",
   "metadata": {},
   "source": [
    "### Natality data"
   ]
  },
  {
   "cell_type": "code",
   "execution_count": 16,
   "id": "4479d86f-44a5-49b2-87a6-29fe4c781d7c",
   "metadata": {},
   "outputs": [],
   "source": [
    "natality_df = pd.read_table(\n",
    "    \"data/raw/natality_state_race_2020.txt\", dtype={\"State Code\": str}\n",
    ").drop(columns=[\"Mother's Hispanic Origin Code\", \"Mother's Single Race Code\"])"
   ]
  },
  {
   "cell_type": "code",
   "execution_count": 17,
   "id": "a579cf43-a7e0-4aa0-93cb-0a65081f440b",
   "metadata": {},
   "outputs": [],
   "source": [
    "natality_df.columns = (\n",
    "    natality_df.columns.str.lower().str.replace(\" \", \"_\").str.replace(\"'\", \"\")\n",
    ")"
   ]
  },
  {
   "cell_type": "code",
   "execution_count": 18,
   "id": "713df61a-b657-4957-adcc-beee95c4ddd4",
   "metadata": {},
   "outputs": [],
   "source": [
    "aapi = [\"Native Hawaiian or Other Pacific Islander\", \"Asian\"]\n",
    "\n",
    "birth_conditions = [\n",
    "    (\n",
    "        (natality_df[\"mothers_single_race\"] == \"White\")\n",
    "        & (natality_df[\"mothers_hispanic_origin\"] == \"Not Hispanic or Latino\")\n",
    "        & (natality_df[\"notes\"] != \"Total\")\n",
    "    ),\n",
    "    (\n",
    "        (natality_df[\"mothers_single_race\"] == \"Black or African American\")\n",
    "        & (natality_df[\"mothers_hispanic_origin\"] == \"Not Hispanic or Latino\")\n",
    "        & (natality_df[\"notes\"] != \"Total\")\n",
    "    ),\n",
    "    (\n",
    "        (natality_df[\"mothers_single_race\"].isin(aapi))\n",
    "        & (natality_df[\"mothers_hispanic_origin\"] == \"Not Hispanic or Latino\")\n",
    "        & (natality_df[\"notes\"] != \"Total\")\n",
    "    ),\n",
    "    (\n",
    "        (natality_df[\"mothers_single_race\"] == \"American Indian or Alaska Native\")\n",
    "        & (natality_df[\"mothers_hispanic_origin\"] == \"Not Hispanic or Latino\")\n",
    "        & (natality_df[\"notes\"] != \"Total\")\n",
    "    ),\n",
    "    (\n",
    "        (natality_df[\"mothers_hispanic_origin\"] == \"Hispanic or Latino\")\n",
    "        & (natality_df[\"notes\"] != \"Total\")\n",
    "    ),\n",
    "]\n",
    "\n",
    "birth_values = [\n",
    "    \"White\",\n",
    "    \"Black\",\n",
    "    \"AAPI\",\n",
    "    \"American Indian or Alaska Native\",\n",
    "    \"Hispanic or Latino\",\n",
    "]\n",
    "\n",
    "natality_df[\"race_whispanicorigin\"] = np.select(birth_conditions, birth_values)"
   ]
  },
  {
   "cell_type": "code",
   "execution_count": 19,
   "id": "2b9dbd9b-bb64-4de6-aebf-2afef395a089",
   "metadata": {},
   "outputs": [],
   "source": [
    "births = (\n",
    "    natality_df.drop(columns=[\"notes\"])\n",
    "    .groupby([\"state\", \"state_code\", \"race_whispanicorigin\"])\n",
    "    .agg({\"births\": sum})\n",
    ")"
   ]
  },
  {
   "cell_type": "code",
   "execution_count": 20,
   "id": "9817a87a-3d30-419d-9ea3-992e80cf45f2",
   "metadata": {},
   "outputs": [],
   "source": [
    "mmrates = deaths.merge(births, on=[\"state\", \"state_code\", \"race_whispanicorigin\"])"
   ]
  },
  {
   "cell_type": "code",
   "execution_count": 21,
   "id": "0c08329f-63e3-4b45-8863-376efaf36d56",
   "metadata": {},
   "outputs": [],
   "source": [
    "mmrates[\"rate\"] = 100000 * (mmrates[\"deaths\"] / mmrates[\"births\"])"
   ]
  },
  {
   "cell_type": "code",
   "execution_count": 22,
   "id": "030e7971-2d22-4f5c-ad31-ee345ca9ccff",
   "metadata": {},
   "outputs": [
    {
     "data": {
      "text/html": [
       "<div>\n",
       "<style scoped>\n",
       "    .dataframe tbody tr th:only-of-type {\n",
       "        vertical-align: middle;\n",
       "    }\n",
       "\n",
       "    .dataframe tbody tr th {\n",
       "        vertical-align: top;\n",
       "    }\n",
       "\n",
       "    .dataframe thead th {\n",
       "        text-align: right;\n",
       "    }\n",
       "</style>\n",
       "<table border=\"1\" class=\"dataframe\">\n",
       "  <thead>\n",
       "    <tr style=\"text-align: right;\">\n",
       "      <th></th>\n",
       "      <th>state</th>\n",
       "      <th>state_code</th>\n",
       "      <th>race_whispanicorigin</th>\n",
       "      <th>deaths</th>\n",
       "      <th>births</th>\n",
       "      <th>rate</th>\n",
       "    </tr>\n",
       "  </thead>\n",
       "  <tbody>\n",
       "    <tr>\n",
       "      <th>0</th>\n",
       "      <td>Alabama</td>\n",
       "      <td>01</td>\n",
       "      <td>Black</td>\n",
       "      <td>12.0</td>\n",
       "      <td>17746.0</td>\n",
       "      <td>67.620872</td>\n",
       "    </tr>\n",
       "    <tr>\n",
       "      <th>1</th>\n",
       "      <td>Arizona</td>\n",
       "      <td>04</td>\n",
       "      <td>0</td>\n",
       "      <td>15.0</td>\n",
       "      <td>2324.0</td>\n",
       "      <td>645.438898</td>\n",
       "    </tr>\n",
       "    <tr>\n",
       "      <th>2</th>\n",
       "      <td>California</td>\n",
       "      <td>06</td>\n",
       "      <td>0</td>\n",
       "      <td>13.0</td>\n",
       "      <td>27520.0</td>\n",
       "      <td>47.238372</td>\n",
       "    </tr>\n",
       "    <tr>\n",
       "      <th>3</th>\n",
       "      <td>Florida</td>\n",
       "      <td>12</td>\n",
       "      <td>0</td>\n",
       "      <td>11.0</td>\n",
       "      <td>2935.0</td>\n",
       "      <td>374.787053</td>\n",
       "    </tr>\n",
       "    <tr>\n",
       "      <th>4</th>\n",
       "      <td>Florida</td>\n",
       "      <td>12</td>\n",
       "      <td>Black</td>\n",
       "      <td>23.0</td>\n",
       "      <td>45585.0</td>\n",
       "      <td>50.455194</td>\n",
       "    </tr>\n",
       "    <tr>\n",
       "      <th>5</th>\n",
       "      <td>Florida</td>\n",
       "      <td>12</td>\n",
       "      <td>White</td>\n",
       "      <td>12.0</td>\n",
       "      <td>88080.0</td>\n",
       "      <td>13.623978</td>\n",
       "    </tr>\n",
       "    <tr>\n",
       "      <th>6</th>\n",
       "      <td>Georgia</td>\n",
       "      <td>13</td>\n",
       "      <td>Black</td>\n",
       "      <td>18.0</td>\n",
       "      <td>42373.0</td>\n",
       "      <td>42.479881</td>\n",
       "    </tr>\n",
       "    <tr>\n",
       "      <th>7</th>\n",
       "      <td>Illinois</td>\n",
       "      <td>17</td>\n",
       "      <td>White</td>\n",
       "      <td>11.0</td>\n",
       "      <td>70550.0</td>\n",
       "      <td>15.591779</td>\n",
       "    </tr>\n",
       "    <tr>\n",
       "      <th>8</th>\n",
       "      <td>Indiana</td>\n",
       "      <td>18</td>\n",
       "      <td>White</td>\n",
       "      <td>17.0</td>\n",
       "      <td>56290.0</td>\n",
       "      <td>30.200746</td>\n",
       "    </tr>\n",
       "    <tr>\n",
       "      <th>9</th>\n",
       "      <td>Kentucky</td>\n",
       "      <td>21</td>\n",
       "      <td>White</td>\n",
       "      <td>16.0</td>\n",
       "      <td>40726.0</td>\n",
       "      <td>39.286942</td>\n",
       "    </tr>\n",
       "    <tr>\n",
       "      <th>10</th>\n",
       "      <td>Louisiana</td>\n",
       "      <td>22</td>\n",
       "      <td>Black</td>\n",
       "      <td>14.0</td>\n",
       "      <td>21552.0</td>\n",
       "      <td>64.959169</td>\n",
       "    </tr>\n",
       "    <tr>\n",
       "      <th>11</th>\n",
       "      <td>Michigan</td>\n",
       "      <td>26</td>\n",
       "      <td>White</td>\n",
       "      <td>17.0</td>\n",
       "      <td>70426.0</td>\n",
       "      <td>24.138812</td>\n",
       "    </tr>\n",
       "    <tr>\n",
       "      <th>12</th>\n",
       "      <td>Missouri</td>\n",
       "      <td>29</td>\n",
       "      <td>Black</td>\n",
       "      <td>11.0</td>\n",
       "      <td>10156.0</td>\n",
       "      <td>108.310358</td>\n",
       "    </tr>\n",
       "    <tr>\n",
       "      <th>13</th>\n",
       "      <td>Missouri</td>\n",
       "      <td>29</td>\n",
       "      <td>White</td>\n",
       "      <td>18.0</td>\n",
       "      <td>50190.0</td>\n",
       "      <td>35.863718</td>\n",
       "    </tr>\n",
       "    <tr>\n",
       "      <th>14</th>\n",
       "      <td>New Jersey</td>\n",
       "      <td>34</td>\n",
       "      <td>White</td>\n",
       "      <td>10.0</td>\n",
       "      <td>44709.0</td>\n",
       "      <td>22.366861</td>\n",
       "    </tr>\n",
       "    <tr>\n",
       "      <th>15</th>\n",
       "      <td>New York</td>\n",
       "      <td>36</td>\n",
       "      <td>Black</td>\n",
       "      <td>17.0</td>\n",
       "      <td>30057.0</td>\n",
       "      <td>56.559204</td>\n",
       "    </tr>\n",
       "    <tr>\n",
       "      <th>16</th>\n",
       "      <td>North Carolina</td>\n",
       "      <td>37</td>\n",
       "      <td>Black</td>\n",
       "      <td>19.0</td>\n",
       "      <td>27228.0</td>\n",
       "      <td>69.781108</td>\n",
       "    </tr>\n",
       "    <tr>\n",
       "      <th>17</th>\n",
       "      <td>Ohio</td>\n",
       "      <td>39</td>\n",
       "      <td>Black</td>\n",
       "      <td>13.0</td>\n",
       "      <td>21447.0</td>\n",
       "      <td>60.614538</td>\n",
       "    </tr>\n",
       "    <tr>\n",
       "      <th>18</th>\n",
       "      <td>Ohio</td>\n",
       "      <td>39</td>\n",
       "      <td>White</td>\n",
       "      <td>19.0</td>\n",
       "      <td>92033.0</td>\n",
       "      <td>20.644769</td>\n",
       "    </tr>\n",
       "    <tr>\n",
       "      <th>19</th>\n",
       "      <td>South Carolina</td>\n",
       "      <td>45</td>\n",
       "      <td>Black</td>\n",
       "      <td>13.0</td>\n",
       "      <td>16309.0</td>\n",
       "      <td>79.710589</td>\n",
       "    </tr>\n",
       "    <tr>\n",
       "      <th>20</th>\n",
       "      <td>Tennessee</td>\n",
       "      <td>47</td>\n",
       "      <td>Black</td>\n",
       "      <td>13.0</td>\n",
       "      <td>15413.0</td>\n",
       "      <td>84.344385</td>\n",
       "    </tr>\n",
       "    <tr>\n",
       "      <th>21</th>\n",
       "      <td>Tennessee</td>\n",
       "      <td>47</td>\n",
       "      <td>White</td>\n",
       "      <td>23.0</td>\n",
       "      <td>50668.0</td>\n",
       "      <td>45.393542</td>\n",
       "    </tr>\n",
       "    <tr>\n",
       "      <th>22</th>\n",
       "      <td>Texas</td>\n",
       "      <td>48</td>\n",
       "      <td>0</td>\n",
       "      <td>45.0</td>\n",
       "      <td>5026.0</td>\n",
       "      <td>895.344210</td>\n",
       "    </tr>\n",
       "    <tr>\n",
       "      <th>23</th>\n",
       "      <td>Texas</td>\n",
       "      <td>48</td>\n",
       "      <td>Black</td>\n",
       "      <td>32.0</td>\n",
       "      <td>46643.0</td>\n",
       "      <td>68.606222</td>\n",
       "    </tr>\n",
       "    <tr>\n",
       "      <th>24</th>\n",
       "      <td>Texas</td>\n",
       "      <td>48</td>\n",
       "      <td>White</td>\n",
       "      <td>34.0</td>\n",
       "      <td>120329.0</td>\n",
       "      <td>28.255865</td>\n",
       "    </tr>\n",
       "    <tr>\n",
       "      <th>25</th>\n",
       "      <td>Virginia</td>\n",
       "      <td>51</td>\n",
       "      <td>White</td>\n",
       "      <td>19.0</td>\n",
       "      <td>51120.0</td>\n",
       "      <td>37.167449</td>\n",
       "    </tr>\n",
       "  </tbody>\n",
       "</table>\n",
       "</div>"
      ],
      "text/plain": [
       "             state state_code race_whispanicorigin  deaths    births  \\\n",
       "0          Alabama         01                Black    12.0   17746.0   \n",
       "1          Arizona         04                    0    15.0    2324.0   \n",
       "2       California         06                    0    13.0   27520.0   \n",
       "3          Florida         12                    0    11.0    2935.0   \n",
       "4          Florida         12                Black    23.0   45585.0   \n",
       "5          Florida         12                White    12.0   88080.0   \n",
       "6          Georgia         13                Black    18.0   42373.0   \n",
       "7         Illinois         17                White    11.0   70550.0   \n",
       "8          Indiana         18                White    17.0   56290.0   \n",
       "9         Kentucky         21                White    16.0   40726.0   \n",
       "10       Louisiana         22                Black    14.0   21552.0   \n",
       "11        Michigan         26                White    17.0   70426.0   \n",
       "12        Missouri         29                Black    11.0   10156.0   \n",
       "13        Missouri         29                White    18.0   50190.0   \n",
       "14      New Jersey         34                White    10.0   44709.0   \n",
       "15        New York         36                Black    17.0   30057.0   \n",
       "16  North Carolina         37                Black    19.0   27228.0   \n",
       "17            Ohio         39                Black    13.0   21447.0   \n",
       "18            Ohio         39                White    19.0   92033.0   \n",
       "19  South Carolina         45                Black    13.0   16309.0   \n",
       "20       Tennessee         47                Black    13.0   15413.0   \n",
       "21       Tennessee         47                White    23.0   50668.0   \n",
       "22           Texas         48                    0    45.0    5026.0   \n",
       "23           Texas         48                Black    32.0   46643.0   \n",
       "24           Texas         48                White    34.0  120329.0   \n",
       "25        Virginia         51                White    19.0   51120.0   \n",
       "\n",
       "          rate  \n",
       "0    67.620872  \n",
       "1   645.438898  \n",
       "2    47.238372  \n",
       "3   374.787053  \n",
       "4    50.455194  \n",
       "5    13.623978  \n",
       "6    42.479881  \n",
       "7    15.591779  \n",
       "8    30.200746  \n",
       "9    39.286942  \n",
       "10   64.959169  \n",
       "11   24.138812  \n",
       "12  108.310358  \n",
       "13   35.863718  \n",
       "14   22.366861  \n",
       "15   56.559204  \n",
       "16   69.781108  \n",
       "17   60.614538  \n",
       "18   20.644769  \n",
       "19   79.710589  \n",
       "20   84.344385  \n",
       "21   45.393542  \n",
       "22  895.344210  \n",
       "23   68.606222  \n",
       "24   28.255865  \n",
       "25   37.167449  "
      ]
     },
     "execution_count": 22,
     "metadata": {},
     "output_type": "execute_result"
    }
   ],
   "source": [
    "mmrates"
   ]
  },
  {
   "cell_type": "code",
   "execution_count": 23,
   "id": "f0c363ee-cd8c-46b8-bc79-8d9c28c75156",
   "metadata": {},
   "outputs": [],
   "source": [
    "import urllib.request, json\n",
    "\n",
    "# with urllib.request.urlopen(\"https://raw.githubusercontent.com/hodcroftlab/covariants/master/web/data/perCountryData.json\") as url:\n",
    "#    data = json.loads(url.read().decode())\n",
    "#    print(data['regions']['distributions']['California'])\n",
    "\n",
    "with open(\"data/usa_states_esri_simple copy.json\") as data_file:\n",
    "    data = json.load(data_file)\n",
    "# pd.read_json(\"data/usa_states_esri_simple copy.json\"[1])"
   ]
  },
  {
   "cell_type": "code",
   "execution_count": 24,
   "id": "640e4bc1-11e9-4301-abf8-fcd86d32611c",
   "metadata": {},
   "outputs": [
    {
     "ename": "ImportError",
     "evalue": "The 'read_file' function requires the 'pyogrio' or 'fiona' package, but neither is installed or imports correctly.\nImporting fiona resulted in: dlopen(/Users/alexleedsmatthews/.local/share/virtualenvs/notebooks-HSWNtBAS/lib/python3.8/site-packages/fiona/ogrext.cpython-38-darwin.so, 0x0002): Library not loaded: /opt/homebrew/opt/gdal/lib/libgdal.30.dylib\n  Referenced from: /Users/alexleedsmatthews/.local/share/virtualenvs/notebooks-HSWNtBAS/lib/python3.8/site-packages/fiona/ogrext.cpython-38-darwin.so\n  Reason: tried: '/opt/homebrew/opt/gdal/lib/libgdal.30.dylib' (no such file), '/usr/local/lib/libgdal.30.dylib' (no such file), '/usr/lib/libgdal.30.dylib' (no such file), '/opt/homebrew/Cellar/gdal/3.5.1_2/lib/libgdal.30.dylib' (no such file), '/usr/local/lib/libgdal.30.dylib' (no such file), '/usr/lib/libgdal.30.dylib' (no such file)\nImporting pyogrio resulted in: No module named 'pyogrio'",
     "output_type": "error",
     "traceback": [
      "\u001b[0;31m---------------------------------------------------------------------------\u001b[0m",
      "\u001b[0;31mImportError\u001b[0m                               Traceback (most recent call last)",
      "Input \u001b[0;32mIn [24]\u001b[0m, in \u001b[0;36m<cell line: 1>\u001b[0;34m()\u001b[0m\n\u001b[0;32m----> 1\u001b[0m \u001b[43mgpd\u001b[49m\u001b[38;5;241;43m.\u001b[39;49m\u001b[43mread_file\u001b[49m\u001b[43m(\u001b[49m\u001b[38;5;124;43m'\u001b[39;49m\u001b[38;5;124;43mdata/usa_states_esri.geojson\u001b[39;49m\u001b[38;5;124;43m'\u001b[39;49m\u001b[43m)\u001b[49m\n",
      "File \u001b[0;32m~/.local/share/virtualenvs/notebooks-HSWNtBAS/lib/python3.8/site-packages/geopandas/io/file.py:236\u001b[0m, in \u001b[0;36m_read_file\u001b[0;34m(filename, bbox, mask, rows, engine, **kwargs)\u001b[0m\n\u001b[1;32m    167\u001b[0m \u001b[38;5;28;01mdef\u001b[39;00m \u001b[38;5;21m_read_file\u001b[39m(filename, bbox\u001b[38;5;241m=\u001b[39m\u001b[38;5;28;01mNone\u001b[39;00m, mask\u001b[38;5;241m=\u001b[39m\u001b[38;5;28;01mNone\u001b[39;00m, rows\u001b[38;5;241m=\u001b[39m\u001b[38;5;28;01mNone\u001b[39;00m, engine\u001b[38;5;241m=\u001b[39m\u001b[38;5;28;01mNone\u001b[39;00m, \u001b[38;5;241m*\u001b[39m\u001b[38;5;241m*\u001b[39mkwargs):\n\u001b[1;32m    168\u001b[0m     \u001b[38;5;124;03m\"\"\"\u001b[39;00m\n\u001b[1;32m    169\u001b[0m \u001b[38;5;124;03m    Returns a GeoDataFrame from a file or URL.\u001b[39;00m\n\u001b[1;32m    170\u001b[0m \n\u001b[0;32m   (...)\u001b[0m\n\u001b[1;32m    234\u001b[0m \u001b[38;5;124;03m    by using the encoding keyword parameter, e.g. ``encoding='utf-8'``.\u001b[39;00m\n\u001b[1;32m    235\u001b[0m \u001b[38;5;124;03m    \"\"\"\u001b[39;00m\n\u001b[0;32m--> 236\u001b[0m     engine \u001b[38;5;241m=\u001b[39m \u001b[43m_check_engine\u001b[49m\u001b[43m(\u001b[49m\u001b[43mengine\u001b[49m\u001b[43m,\u001b[49m\u001b[43m \u001b[49m\u001b[38;5;124;43m\"\u001b[39;49m\u001b[38;5;124;43m'\u001b[39;49m\u001b[38;5;124;43mread_file\u001b[39;49m\u001b[38;5;124;43m'\u001b[39;49m\u001b[38;5;124;43m function\u001b[39;49m\u001b[38;5;124;43m\"\u001b[39;49m\u001b[43m)\u001b[49m\n\u001b[1;32m    238\u001b[0m     filename \u001b[38;5;241m=\u001b[39m _expand_user(filename)\n\u001b[1;32m    240\u001b[0m     from_bytes \u001b[38;5;241m=\u001b[39m \u001b[38;5;28;01mFalse\u001b[39;00m\n",
      "File \u001b[0;32m~/.local/share/virtualenvs/notebooks-HSWNtBAS/lib/python3.8/site-packages/geopandas/io/file.py:107\u001b[0m, in \u001b[0;36m_check_engine\u001b[0;34m(engine, func)\u001b[0m\n\u001b[1;32m    105\u001b[0m     _check_pyogrio(func)\n\u001b[1;32m    106\u001b[0m \u001b[38;5;28;01melif\u001b[39;00m engine \u001b[38;5;129;01mis\u001b[39;00m \u001b[38;5;28;01mNone\u001b[39;00m:\n\u001b[0;32m--> 107\u001b[0m     \u001b[38;5;28;01mraise\u001b[39;00m \u001b[38;5;167;01mImportError\u001b[39;00m(\n\u001b[1;32m    108\u001b[0m         \u001b[38;5;124mf\u001b[39m\u001b[38;5;124m\"\u001b[39m\u001b[38;5;124mThe \u001b[39m\u001b[38;5;132;01m{\u001b[39;00mfunc\u001b[38;5;132;01m}\u001b[39;00m\u001b[38;5;124m requires the \u001b[39m\u001b[38;5;124m'\u001b[39m\u001b[38;5;124mpyogrio\u001b[39m\u001b[38;5;124m'\u001b[39m\u001b[38;5;124m or \u001b[39m\u001b[38;5;124m'\u001b[39m\u001b[38;5;124mfiona\u001b[39m\u001b[38;5;124m'\u001b[39m\u001b[38;5;124m package, \u001b[39m\u001b[38;5;124m\"\u001b[39m\n\u001b[1;32m    109\u001b[0m         \u001b[38;5;124m\"\u001b[39m\u001b[38;5;124mbut neither is installed or imports correctly.\u001b[39m\u001b[38;5;124m\"\u001b[39m\n\u001b[1;32m    110\u001b[0m         \u001b[38;5;124mf\u001b[39m\u001b[38;5;124m\"\u001b[39m\u001b[38;5;130;01m\\n\u001b[39;00m\u001b[38;5;124mImporting fiona resulted in: \u001b[39m\u001b[38;5;132;01m{\u001b[39;00mfiona_import_error\u001b[38;5;132;01m}\u001b[39;00m\u001b[38;5;124m\"\u001b[39m\n\u001b[1;32m    111\u001b[0m         \u001b[38;5;124mf\u001b[39m\u001b[38;5;124m\"\u001b[39m\u001b[38;5;130;01m\\n\u001b[39;00m\u001b[38;5;124mImporting pyogrio resulted in: \u001b[39m\u001b[38;5;132;01m{\u001b[39;00mpyogrio_import_error\u001b[38;5;132;01m}\u001b[39;00m\u001b[38;5;124m\"\u001b[39m\n\u001b[1;32m    112\u001b[0m     )\n\u001b[1;32m    114\u001b[0m \u001b[38;5;28;01mreturn\u001b[39;00m engine\n",
      "\u001b[0;31mImportError\u001b[0m: The 'read_file' function requires the 'pyogrio' or 'fiona' package, but neither is installed or imports correctly.\nImporting fiona resulted in: dlopen(/Users/alexleedsmatthews/.local/share/virtualenvs/notebooks-HSWNtBAS/lib/python3.8/site-packages/fiona/ogrext.cpython-38-darwin.so, 0x0002): Library not loaded: /opt/homebrew/opt/gdal/lib/libgdal.30.dylib\n  Referenced from: /Users/alexleedsmatthews/.local/share/virtualenvs/notebooks-HSWNtBAS/lib/python3.8/site-packages/fiona/ogrext.cpython-38-darwin.so\n  Reason: tried: '/opt/homebrew/opt/gdal/lib/libgdal.30.dylib' (no such file), '/usr/local/lib/libgdal.30.dylib' (no such file), '/usr/lib/libgdal.30.dylib' (no such file), '/opt/homebrew/Cellar/gdal/3.5.1_2/lib/libgdal.30.dylib' (no such file), '/usr/local/lib/libgdal.30.dylib' (no such file), '/usr/lib/libgdal.30.dylib' (no such file)\nImporting pyogrio resulted in: No module named 'pyogrio'"
     ]
    }
   ],
   "source": [
    "gpd.read_file('data/usa_states_esri.geojson')"
   ]
  },
  {
   "cell_type": "code",
   "execution_count": null,
   "id": "e145b9f0-8e88-4796-8ab7-9a2667c2d7ec",
   "metadata": {},
   "outputs": [],
   "source": [
    "df = pd.json_normalize(\n",
    "    pd.read_json(\"data/usa_states_esri_simple copy.json\")[\"features\"]\n",
    ")"
   ]
  },
  {
   "cell_type": "code",
   "execution_count": null,
   "id": "27d70fc6-9e82-4bed-b260-77c56ada1aa4",
   "metadata": {},
   "outputs": [],
   "source": [
    "df.columns = df.columns.str.replace(\"properties.\", \"\", regex=False).str.lower()"
   ]
  },
  {
   "cell_type": "code",
   "execution_count": null,
   "id": "3f732953-a28b-4ed1-aa3a-27fcf147d662",
   "metadata": {},
   "outputs": [],
   "source": [
    "df.rename(columns={\"geometry.coordinates\": \"geometry\"}, inplace=True)"
   ]
  },
  {
   "cell_type": "code",
   "execution_count": null,
   "id": "3af95431-9f35-4624-8983-62c8c7674bdb",
   "metadata": {},
   "outputs": [],
   "source": [
    "from shapely.wkt import loads\n",
    "df.geometry =  df['geometry'].apply(loads)"
   ]
  },
  {
   "cell_type": "code",
   "execution_count": null,
   "id": "39830afb-3bb2-4749-85ca-a010430f7e08",
   "metadata": {},
   "outputs": [],
   "source": [
    "df_slim = gpd.GeoDataFrame(\n",
    "    df[\n",
    "        [\n",
    "            \"id\",\n",
    "            \"geometry\",\n",
    "            \"state_name\",\n",
    "            \"state_fips\",\n",
    "            \"sub_region\",\n",
    "            \"state_abbr\",\n",
    "            \"population\",\n",
    "            \"pop_sqmi\",\n",
    "        ]\n",
    "    ],\n",
    "geometry='geometry').copy()"
   ]
  },
  {
   "cell_type": "code",
   "execution_count": null,
   "id": "c5f86f96-fe68-478c-aa9e-a41af158d02c",
   "metadata": {},
   "outputs": [],
   "source": [
    "df_slim.geometry.to_crs('espg:4326')"
   ]
  },
  {
   "cell_type": "code",
   "execution_count": null,
   "id": "b40e81b5-d512-4a9e-a57f-5786903af5c6",
   "metadata": {},
   "outputs": [],
   "source": [
    "df_slim.dtypes"
   ]
  },
  {
   "cell_type": "code",
   "execution_count": null,
   "id": "ba1cee04-e287-46db-9c8c-2c75186ee3dd",
   "metadata": {},
   "outputs": [],
   "source": [
    "from vega_datasets import data"
   ]
  },
  {
   "cell_type": "code",
   "execution_count": null,
   "id": "c4005881-5e28-42e2-9dcb-7685c148f7ba",
   "metadata": {},
   "outputs": [],
   "source": [
    "states = alt.topo_feature(data.us_10m.url, feature=\"states\")"
   ]
  },
  {
   "cell_type": "code",
   "execution_count": null,
   "id": "4293f62a-ddad-4e2d-84f2-9075b7f4e121",
   "metadata": {},
   "outputs": [],
   "source": [
    "gpd.read_file(data.us_10m.url)"
   ]
  },
  {
   "cell_type": "code",
   "execution_count": null,
   "id": "2d7ab11c-aeca-4133-858f-6bf7d02f9258",
   "metadata": {},
   "outputs": [],
   "source": [
    "states"
   ]
  },
  {
   "cell_type": "code",
   "execution_count": null,
   "id": "1cefef92-c222-4b7b-8e17-2dbc32d63283",
   "metadata": {},
   "outputs": [],
   "source": [
    "# background=alt.Chart(states).mark_geoshape(fill=\"white\", stroke=\"gray\").properties(\n",
    "#    width=300, height=300\n",
    "# ).project(\"albersUsa\")\n",
    "\n",
    "\n",
    "states = alt.topo_feature(data.us_10m.url, \"states\")\n",
    "source = mmrates\n",
    "\n",
    "alt.Chart(source).mark_geoshape().encode(\n",
    "    shape=\"geo:G\",\n",
    "    color=\"rate:Q\",\n",
    "    tooltip=[\"state:N\", \"rate:Q\"],\n",
    "    facet=alt.Facet(\"race_whispanicorigin:N\", columns=2),\n",
    ").transform_lookup(\n",
    "    lookup=\"id\", from_=alt.LookupData(data=states, key=\"id\"), as_=\"geo\"\n",
    ").properties(\n",
    "    width=300,\n",
    "    height=175,\n",
    ").project(\n",
    "    type=\"albersUsa\"\n",
    ")"
   ]
  },
  {
   "cell_type": "code",
   "execution_count": null,
   "id": "a5f29777-2ae8-4d7e-bed1-9a30a5e83336",
   "metadata": {},
   "outputs": [],
   "source": [
    "import geopandas"
   ]
  }
 ],
 "metadata": {
  "kernelspec": {
   "display_name": "Python 3 (ipykernel)",
   "language": "python",
   "name": "python3"
  },
  "language_info": {
   "codemirror_mode": {
    "name": "ipython",
    "version": 3
   },
   "file_extension": ".py",
   "mimetype": "text/x-python",
   "name": "python",
   "nbconvert_exporter": "python",
   "pygments_lexer": "ipython3",
   "version": "3.9.13"
  }
 },
 "nbformat": 4,
 "nbformat_minor": 5
}
