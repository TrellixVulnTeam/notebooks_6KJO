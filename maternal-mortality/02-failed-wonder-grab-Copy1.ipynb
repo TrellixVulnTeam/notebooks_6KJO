{
 "cells": [
  {
   "cell_type": "code",
   "execution_count": 1,
   "id": "2fe15495-1f6c-40bb-8fb3-ed8b605f2059",
   "metadata": {},
   "outputs": [],
   "source": [
    "%load_ext lab_black"
   ]
  },
  {
   "cell_type": "code",
   "execution_count": 2,
   "id": "897374b3-7597-424f-9320-b416344e9f94",
   "metadata": {},
   "outputs": [],
   "source": [
    "import requests\n",
    "import urllib.request\n",
    "import numpy as np"
   ]
  },
  {
   "cell_type": "code",
   "execution_count": 3,
   "id": "89446051-abd5-4e5b-a01a-04ba8ad121c4",
   "metadata": {},
   "outputs": [],
   "source": [
    "import pandas as pd\n",
    "import gspread\n",
    "from oauth2client.service_account import ServiceAccountCredentials"
   ]
  },
  {
   "cell_type": "code",
   "execution_count": 4,
   "id": "ece22b86-45cc-4301-9e93-d71907dfdd1d",
   "metadata": {},
   "outputs": [
    {
     "data": {
      "text/plain": [
       "ThemeRegistry.enable('grid')"
      ]
     },
     "execution_count": 4,
     "metadata": {},
     "output_type": "execute_result"
    }
   ],
   "source": [
    "import altair as alt\n",
    "import altair_grid as altgrid\n",
    "\n",
    "alt.themes.register(\"grid\", altgrid.theme)\n",
    "alt.themes.enable(\"grid\")"
   ]
  },
  {
   "cell_type": "code",
   "execution_count": 5,
   "id": "ced8d8e8-f759-4cb3-8815-80ebfd0df9c0",
   "metadata": {},
   "outputs": [],
   "source": [
    "from datawrapper import Datawrapper\n",
    "\n",
    "dw = Datawrapper(\n",
    "    access_token=\"FtIwtvFtoGLaRT9a3gjX69PLu4wSuRyKddoOz6SOPw3k9wWyNICMHTkcPhOGCR5Z\"\n",
    ")"
   ]
  },
  {
   "cell_type": "code",
   "execution_count": 6,
   "id": "608c862d-5ae6-4530-bc32-acc5ec1ab2a2",
   "metadata": {},
   "outputs": [],
   "source": [
    "# scope = ['https://spreadsheets.google.com/feeds']\n",
    "# credentials = ServiceAccountCredentials.from_json_keyfile_name('jupyter-integration-349314-25735d35924b.json', scope)\n",
    "# gc = gspread.authorize(credentials)"
   ]
  },
  {
   "cell_type": "code",
   "execution_count": 7,
   "id": "b980528b-c1d1-4146-8261-06cd55a9a383",
   "metadata": {},
   "outputs": [],
   "source": [
    "# spreadsheet_key = \"1sCb1YbQ3-1oiL-cnK0yCkwFcQpvpf0efIngAUeC1ixo\"\n",
    "# book = gc.open_by_key(spreadsheet_key)"
   ]
  },
  {
   "cell_type": "code",
   "execution_count": 8,
   "id": "1f5ef9f3-903f-44db-9765-ebdde09a9d91",
   "metadata": {},
   "outputs": [],
   "source": [
    "pd.options.display.max_columns = 1000\n",
    "pd.options.display.max_rows = 1000"
   ]
  },
  {
   "cell_type": "markdown",
   "id": "40fd40df-755b-47ce-8bde-fbff8b31ef7b",
   "metadata": {},
   "source": [
    "### See if you can query CDC WONDER"
   ]
  },
  {
   "cell_type": "markdown",
   "id": "ce6154d5-6106-419d-91b5-bb07fcf050f5",
   "metadata": {},
   "source": [
    "### Need:\n",
    "#### Natality by year\n",
    "#### Natality by year and race\n",
    "#### Natality by year and state\n",
    "#### Grouped or filtered by preventable risk factors\n",
    "#### Add in violent causes of death"
   ]
  },
  {
   "cell_type": "markdown",
   "id": "a79ba3a5-c484-4867-b53a-0b323301c723",
   "metadata": {},
   "source": [
    "##### attempt to translate variables from icd-10 death code query to natality. did not work"
   ]
  },
  {
   "cell_type": "code",
   "execution_count": 10,
   "id": "4ad1d384-c25a-4445-b4ed-64709a7fadf5",
   "metadata": {},
   "outputs": [],
   "source": [
    "# by-variables\" or those parameters selected in the \"Group Results By\" and the \"And By\" drop-down lists\n",
    "\n",
    "b_parameters = {\n",
    "    \"B_1\": \"D66.V20\",  # year\n",
    "    \"B_2\": \"D66.V42\",  # single race\n",
    "    \"B_3\": \"D66.V43\",  # hispanic origin\n",
    "    \"B_4\": \"*None*\",\n",
    "    \"B_5\": \"*None*\",\n",
    "}"
   ]
  },
  {
   "cell_type": "code",
   "execution_count": 11,
   "id": "4d39d171-0a34-4f06-9117-421ef8656b09",
   "metadata": {},
   "outputs": [],
   "source": [
    "# measures to return, the default measures plus any optional measures\n",
    "\n",
    "m_parameters = {\n",
    "    \"M_1\": \"D66.M1\",\n",
    "    # \"M_2\": \"D76.M2\",\n",
    "    # \"M_3\": \"D76.M3\",\n",
    "    # \"M_31\": \"D76.M31\",\n",
    "    # \"M_32\": \"D76.M32\",\n",
    "    # \"M_41\": \"D76.M41\",\n",
    "    # \"M_42\": \"D76.M42\"\n",
    "}"
   ]
  },
  {
   "cell_type": "code",
   "execution_count": 12,
   "id": "3b7d7fcb-271b-4ab1-be51-4d212cc086b1",
   "metadata": {},
   "outputs": [],
   "source": [
    "f_parameters = {\n",
    "    # \"F_D66.V1\": [\"*All*\"],  # year/month\n",
    "    \"F_D66.V22\": [\"*All*\"],  # Census Regions - dont change\n",
    "    #    \"F_D66.V2\": [\"K00-K92\"], # ICD-10 Codes\n",
    "    \"F_D66.V37\": [\"*All*\"],  # HHS Regions - dont change\n",
    "    \"F_D66.V21\": [\"*All*\"],  # State  - dont change\n",
    "}"
   ]
  },
  {
   "cell_type": "raw",
   "id": "dbc9b309-8a88-4cb7-9043-bb88bea6554b",
   "metadata": {},
   "source": [
    "# contents of the \"Currently selected\" information areas next to \"Finder\" controls in the \"Request Form.\"\n",
    "i_parameters = {\n",
    "    # \"I_D76.V1\": \"*All* (All Dates)\",  # year/month\n",
    "    \"I_D66.V10\": \"*All* (The United States)\",  # Census Regions - dont change\n",
    "    # \"I_D76.V2\": \"K00-K92 (Diseases of the digestive system)\", # ICD-10 Codes\n",
    "    \"I_D66.V27\": \"*All* (The United States)\",  # HHS Regions - dont change\n",
    "    \"I_D66.V9\": \"*All* (The United States)\",  # State County - dont change\n",
    "}"
   ]
  },
  {
   "cell_type": "code",
   "execution_count": 18,
   "id": "0de55d16-fc78-4a07-a6b4-b083878ae8d8",
   "metadata": {},
   "outputs": [],
   "source": [
    "# variable values to limit in the \"where\" clause of the query, found in multiple select\n",
    "# list boxes and advanced finder text entry boxes in the \"Request Form.\"\n",
    "\n",
    "\n",
    "v_parameters = {\n",
    "    \"V_D66.V21\": \"*All*\",  # States\n",
    "    \"V_D66.V22\": \"*All*\",  # Census Regions\n",
    "    \"V_D66.V37\": \"*All*\",  # HHS Regions\n",
    "    \"V_D66.V154\": \"*All*\",  # 2013 metro/nonmetro\n",
    "    \"V_D66.V155\": \"*All*\",  #  metro/nonmetro\n",
    "    \"V_D66.V156\": \"*All*\",  # 2013 Urbanization\n",
    "    \"V_D66.V157\": \"*All*\",  # 2006 Urbanization\n",
    "    \"V_D66.V1\": \"*All*\",  # age 10\n",
    "    \"V_D66.V38\": \"*All*\",  # age 9\n",
    "    \"V_D66.V39\": \"*All*\",  # age 13\n",
    "    \"V_D66.V40\": \"*All*\",  # age year\n",
    "    \"V_D66.V5\": \"*All*\",  # education\n",
    "    \"V_D66.V27\": \"*All*\",  # marital status\n",
    "    \"V_D66.V43\": \"*All*\",  # hispanic origin\n",
    "    \"V_D66.V4\": \"*All*\",  # expanded hispanic origin\n",
    "    \"V_D66.V43\": \"*All*\",  # hispanic origin\n",
    "    \"V_D66.V42\": \"*All*\",  # single race\n",
    "    \"V_D66.V2\": \"*All*\",  # bridged race\n",
    "    \"V_D66.V20\": \"*All*\",  # Year\n",
    "    \"V_D66.V25\": \"*All*\",  # Month\n",
    "    \"V_D66.V26\": \"*All*\",  # Weekday\n",
    "    \"V_D66.V3\": \"*All*\",  # gender\n",
    "    \"V_D66.V8\": \"*All*\",  # month prenatal care began\n",
    "    \"V_D66.V9\": \"*All*\",  # infant birth weight 12\n",
    "    \"V_D66.V35\": \"*All*\",  # infant birth weight 14\n",
    "    \"V_D66.V41\": \"*All*\",  # infant birth weight 100g\n",
    "    \"V_D66.V28\": \"*All*\",  # birth order\n",
    "    \"V_D66.V7\": \"*All*\",  # plurality/multibirth\n",
    "    \"V_D66.V30\": \"*All*\",  # birthplace\n",
    "    \"V_D66.V31\": \"*All*\",  # delivery method\n",
    "    \"V_D66.V29\": \"*All*\",  # medical attendant\n",
    "    \"V_D66.V6\": \"*All*\",  # gest age 10\n",
    "    \"V_D66.V23\": \"*All*\",  # gest age 11\n",
    "    \"V_D66.V24\": \"*All*\",  # gest age weekly\n",
    "    \"V_D66.V32\": \"*All*\",  # OE gest age 10\n",
    "    \"V_D66.V33\": \"*All*\",  # oe gest age 11\n",
    "    \"V_D66.V34\": \"*All*\",  # oe gest age weekly\n",
    "    \"V_D66.V16\": \"*All*\",  # chronic hypertension\n",
    "    \"V_D66.14\": \"*All*\",  # diabetes\n",
    "    \"V_D66.V17\": \"*All*\",  # pregnancy associated hypertension\n",
    "    \"V_D66.V18\": \"*All*\",  # eclampsia\n",
    "    \"V_D66.V10\": \"*All*\",  # tobacco use\n",
    "}"
   ]
  },
  {
   "cell_type": "raw",
   "id": "1d81498c-7a85-43a7-a38b-21372ceb513e",
   "metadata": {},
   "source": [
    "o_parameters = {\n",
    "    \"O_V10_fmode\": \"freg\",    # Use regular finder and ignore v parameter value\n",
    "    \"O_V1_fmode\": \"freg\",     # Use regular finder and ignore v parameter value\n",
    "    \"O_V27_fmode\": \"freg\",    # Use regular finder and ignore v parameter value\n",
    "    \"O_V2_fmode\": \"freg\",     # Use regular finder and ignore v parameter value\n",
    "    \"O_V9_fmode\": \"freg\",     # Use regular finder and ignore v parameter value\n",
    "    \"O_aar\": \"aar_std\",       # age-adjusted rates\n",
    "    \"O_aar_pop\": \"0000\",      # population selection for age-adjusted rates\n",
    "    \"O_age\": \"D76.V5\",        # select age-group (e.g. ten-year, five-year, single-year, infant groups)\n",
    "    \"O_javascript\": \"on\",     # Set to on by default\n",
    "    \"O_location\": \"D76.V9\",   # select location variable to use (e.g. state/county, census, hhs regions)\n",
    "    \"O_precision\": \"1\",       # decimal places\n",
    "    \"O_rate_per\": \"100000\",   # rates calculated per X persons\n",
    "    \"O_show_totals\": \"false\",  # Show totals for \n",
    "    \"O_timeout\": \"300\",\n",
    "    \"O_title\": \"Digestive Disease Deaths, by Age Group\",    # title for data run\n",
    "    \"O_ucd\": \"D76.V2\",        # select underlying cause of death category\n",
    "    \"O_urban\": \"D76.V19\"      # select urbanization category\n",
    "}"
   ]
  },
  {
   "cell_type": "code",
   "execution_count": 19,
   "id": "afa73361-5d4c-4045-9412-aee96f8b53a9",
   "metadata": {},
   "outputs": [],
   "source": [
    "# Miscellaneous hidden inputs/parameters usually passed by web form. These do not change.\n",
    "misc_parameters = {\n",
    "    \"action-Send\": \"Send\",\n",
    "    \"finder-stage-D66.V1\": \"codeset\",\n",
    "    \"finder-stage-D66.V1\": \"codeset\",\n",
    "    \"finder-stage-D66.V2\": \"codeset\",\n",
    "    \"finder-stage-D66.V8\": \"codeset\",\n",
    "    \"finder-stage-D66.V27\": \"codeset\",\n",
    "    \"finder-stage-D66.V9\": \"codeset\",\n",
    "    \"stage\": \"request\",\n",
    "}"
   ]
  },
  {
   "cell_type": "code",
   "execution_count": 20,
   "id": "ef61d570-2a0a-4a8e-a4fe-78e5a40a7465",
   "metadata": {},
   "outputs": [],
   "source": [
    "def createParameterList(parameterList):\n",
    "    \"\"\"Helper function to create a parameter list from a dictionary object\"\"\"\n",
    "\n",
    "    parameterString = \"\"\n",
    "\n",
    "    for key in parameterList:\n",
    "        parameterString += \"<parameter>\\n\"\n",
    "        parameterString += \"<name>\" + key + \"</name>\\n\"\n",
    "\n",
    "        if isinstance(parameterList[key], list):\n",
    "            for value in parameterList[key]:\n",
    "                parameterString += \"<value>\" + value + \"</value>\\n\"\n",
    "        else:\n",
    "            parameterString += \"<value>\" + parameterList[key] + \"</value>\\n\"\n",
    "\n",
    "        parameterString += \"</parameter>\\n\"\n",
    "\n",
    "    return parameterString"
   ]
  },
  {
   "cell_type": "code",
   "execution_count": 21,
   "id": "d24cbcf4-5cb1-44bc-851b-90f55b85383d",
   "metadata": {},
   "outputs": [],
   "source": [
    "xml_request = \"<request-parameters>\\n\"\n",
    "xml_request += createParameterList(b_parameters)\n",
    "xml_request += createParameterList(m_parameters)\n",
    "xml_request += createParameterList(f_parameters)\n",
    "# xml_request += createParameterList(i_parameters)\n",
    "# xml_request += createParameterList(o_parameters)\n",
    "# xml_request += createParameterList(vm_parameters)\n",
    "# xml_request += createParameterList(v_parameters)\n",
    "xml_request += createParameterList(misc_parameters)\n",
    "xml_request += \"</request-parameters>\""
   ]
  },
  {
   "cell_type": "code",
   "execution_count": 22,
   "id": "5086492a-2af0-4005-870b-3801d709fa12",
   "metadata": {},
   "outputs": [],
   "source": [
    "import requests\n",
    "\n",
    "url = \"https://wonder.cdc.gov/controller/datarequest/D66\"\n",
    "response = requests.post(\n",
    "    url, data={\"request_xml\": xml_request, \"accept_datause_restrictions\": \"true\"}\n",
    ")\n",
    "\n",
    "if response.status_code == 200:\n",
    "    data = response.text\n",
    "else:\n",
    "    print(\"something went wrong\")"
   ]
  },
  {
   "cell_type": "markdown",
   "id": "f82a4b2d-872c-402e-bbdb-1e83d3520e75",
   "metadata": {},
   "source": [
    "#### trying sample with no changes for deaths"
   ]
  },
  {
   "cell_type": "code",
   "execution_count": 23,
   "id": "9f4a1549-5c22-40f6-91da-3dca385cc350",
   "metadata": {},
   "outputs": [],
   "source": [
    "# by-variables\" or those parameters selected in the \"Group Results By\" and the \"And By\" drop-down lists\n",
    "# in the \"Request Form.\" These \"by-variables\" are the cross-tabulations, stratifications or indexes\n",
    "# to the query results. Expect the results data table to show a row for each category in the by-variables,\n",
    "# and a column for each measure. For example, if you wish to compare data by sex, then \"group results by\" gender,\n",
    "# to get a row for females and a row for males in the output.\n",
    "# M_ are measures to return, the default measures plus any optional measures.\n",
    "\n",
    "# For this example, will group by year and race\n",
    "\n",
    "b_parameters = {\n",
    "    \"B_1\": \"D76.V1-level1\",\n",
    "    \"B_2\": \"D76.V8\",\n",
    "    \"B_3\": \"*None*\",\n",
    "    \"B_4\": \"*None*\",\n",
    "    \"B_5\": \"*None*\",\n",
    "}"
   ]
  },
  {
   "cell_type": "code",
   "execution_count": 24,
   "id": "ed144d44-fba2-47db-88eb-43d722f1a549",
   "metadata": {},
   "outputs": [],
   "source": [
    "# measures to return, the default measures plus any optional measures\n",
    "\n",
    "# For this example, include deaths, population, and crude rate\n",
    "\n",
    "m_parameters = {\n",
    "    \"M_1\": \"D76.M1\",  # Deaths, must be included\n",
    "    \"M_2\": \"D76.M2\",  # Population, must be included\n",
    "    \"M_3\": \"D76.M3\",  # Crude rate, must be included\n",
    "    # \"M_31\": \"D76.M31\",        # Standard error (crude rate)\n",
    "    # \"M_32\": \"D76.M32\"         # 95% confidence interval (crude rate)\n",
    "    \"M_41\": \"D76.M41\",  # Standard error (age-adjusted rate)\n",
    "    \"M_42\": \"D76.M42\",  # 95% confidence interval (age-adjusted rate)\n",
    "}"
   ]
  },
  {
   "cell_type": "code",
   "execution_count": 25,
   "id": "bfb0642c-b115-48bd-9b7d-8dcbc0bd27f7",
   "metadata": {},
   "outputs": [],
   "source": [
    "# values highlighted in a \"Finder\" control for hierarchical lists,\n",
    "# such as the \"Regions/Divisions/States/Counties hierarchical\" list.\n",
    "\n",
    "# For this example, include all years, months, census regions, hhs regions, states. Only include ICD-10 K00-K92\n",
    "# for disease of the digestive system\n",
    "\n",
    "f_parameters = {\n",
    "    \"F_D76.V1\": [\"*All*\"],  # year/month\n",
    "    \"F_D76.V10\": [\"*All*\"],  # Census Regions - dont change\n",
    "    \"F_D76.V2\": [\"K00-K92\"],  # ICD-10 Codes\n",
    "    \"F_D76.V27\": [\"*All*\"],  # HHS Regions - dont change\n",
    "    \"F_D76.V9\": [\"*All*\"],  # State County - dont change\n",
    "}"
   ]
  },
  {
   "cell_type": "code",
   "execution_count": 26,
   "id": "b4bbe9da-29b6-4f29-ae31-ce94a31027b1",
   "metadata": {},
   "outputs": [],
   "source": [
    "# contents of the \"Currently selected\" information areas next to \"Finder\" controls in the \"Request Form.\"\n",
    "\n",
    "# For this example, include all dates, census regions, hhs regions, and states.\n",
    "# Only include ICD-10 code K00-K92 for disease of the digestive system\n",
    "\n",
    "i_parameters = {\n",
    "    \"I_D76.V1\": \"*All* (All Dates)\",  # year/month\n",
    "    \"I_D76.V10\": \"*All* (The United States)\",  # Census Regions - dont change\n",
    "    \"I_D76.V2\": \"K00-K92 (Diseases of the digestive system)\",  # ICD-10 Codes\n",
    "    \"I_D76.V27\": \"*All* (The United States)\",  # HHS Regions - dont change\n",
    "    \"I_D76.V9\": \"*All* (The United States)\",  # State County - dont change\n",
    "}"
   ]
  },
  {
   "cell_type": "code",
   "execution_count": 27,
   "id": "b9ec0091-ba8f-4e31-915c-a38f44014629",
   "metadata": {},
   "outputs": [],
   "source": [
    "v_parameters = {\n",
    "    \"V_D76.V1\": \"\",  # Year/Month\n",
    "    \"V_D76.V10\": \"\",  # Census Regions\n",
    "    \"V_D76.V11\": \"*All*\",  # 2006 Urbanization\n",
    "    \"V_D76.V12\": \"*All*\",  # ICD-10 130 Cause List (Infants)\n",
    "    \"V_D76.V17\": \"*All*\",  # Hispanic Origin\n",
    "    \"V_D76.V19\": \"*All*\",  # 2013 Urbanization\n",
    "    \"V_D76.V2\": \"\",  # ICD-10 Codes\n",
    "    \"V_D76.V20\": \"*All*\",  # Autopsy\n",
    "    \"V_D76.V21\": \"*All*\",  # Place of Death\n",
    "    \"V_D76.V22\": \"*All*\",  # Injury Intent\n",
    "    \"V_D76.V23\": \"*All*\",  # Injury Mechanism and All Other Leading Causes\n",
    "    \"V_D76.V24\": \"*All*\",  # Weekday\n",
    "    \"V_D76.V25\": \"*All*\",  # Drug/Alcohol Induced Causes\n",
    "    \"V_D76.V27\": \"\",  # HHS Regions\n",
    "    \"V_D76.V4\": \"*All*\",  # ICD-10 113 Cause List\n",
    "    \"V_D76.V5\": [\"15-24\", \"25-34\", \"35-44\"],  # Ten-Year Age Groups\n",
    "    \"V_D76.V51\": \"*All*\",  # Five-Year Age Groups\n",
    "    \"V_D76.V52\": \"*All*\",  # Single-Year Ages\n",
    "    \"V_D76.V6\": \"00\",  # Infant Age Groups\n",
    "    \"V_D76.V7\": \"*All*\",  # Gender\n",
    "    \"V_D76.V8\": \"*All*\",  # Race\n",
    "    \"V_D76.V9\": \"\",  # State/County\n",
    "}"
   ]
  },
  {
   "cell_type": "code",
   "execution_count": 28,
   "id": "7fb081e9-0666-46f9-a645-1b03c082614b",
   "metadata": {},
   "outputs": [],
   "source": [
    "# other parameters, such as radio buttons, checkboxes, and lists that are not data categories\n",
    "\n",
    "# For this example, include age-adjusted rates, use ten-year age groups (D76.V5), use state location by default,\n",
    "# show rates per 100,000, use 2013 urbanization and use ICD-10 Codes (D76.V2) for cause of death category\n",
    "\n",
    "o_parameters = {\n",
    "    \"O_V10_fmode\": \"freg\",  # Use regular finder and ignore v parameter value\n",
    "    \"O_V1_fmode\": \"freg\",  # Use regular finder and ignore v parameter value\n",
    "    \"O_V27_fmode\": \"freg\",  # Use regular finder and ignore v parameter value\n",
    "    \"O_V2_fmode\": \"freg\",  # Use regular finder and ignore v parameter value\n",
    "    \"O_V9_fmode\": \"freg\",  # Use regular finder and ignore v parameter value\n",
    "    \"O_aar\": \"aar_std\",  # age-adjusted rates\n",
    "    \"O_aar_pop\": \"0000\",  # population selection for age-adjusted rates\n",
    "    \"O_age\": \"D76.V5\",  # select age-group (e.g. ten-year, five-year, single-year, infant groups)\n",
    "    \"O_javascript\": \"on\",  # Set to on by default\n",
    "    \"O_location\": \"D76.V9\",  # select location variable to use (e.g. state/county, census, hhs regions)\n",
    "    \"O_precision\": \"1\",  # decimal places\n",
    "    \"O_rate_per\": \"100000\",  # rates calculated per X persons\n",
    "    \"O_show_totals\": \"false\",  # Show totals for\n",
    "    \"O_timeout\": \"300\",\n",
    "    \"O_title\": \"Digestive Disease Deaths, by Age Group\",  # title for data run\n",
    "    \"O_ucd\": \"D76.V2\",  # select underlying cause of death category\n",
    "    \"O_urban\": \"D76.V19\",  # select urbanization category\n",
    "}"
   ]
  },
  {
   "cell_type": "code",
   "execution_count": 29,
   "id": "0b2e7ab7-0924-4cf7-9b0f-dff5ef622ad9",
   "metadata": {},
   "outputs": [],
   "source": [
    "# values for non-standard age adjusted rates (see mortality online databases).\n",
    "\n",
    "# For this example, these parameters are ignored as standard age adjusted rates are used\n",
    "\n",
    "vm_parameters = {\n",
    "    \"VM_D76.M6_D76.V10\": \"\",  # Location\n",
    "    \"VM_D76.M6_D76.V17\": \"*All*\",  # Hispanic-Origin\n",
    "    \"VM_D76.M6_D76.V1_S\": \"*All*\",  # Year\n",
    "    \"VM_D76.M6_D76.V7\": \"*All*\",  # Gender\n",
    "    \"VM_D76.M6_D76.V8\": \"*All*\",  # Race\n",
    "}"
   ]
  },
  {
   "cell_type": "code",
   "execution_count": 30,
   "id": "5ddb1a7f-a48d-4386-9bba-6a91d709ef6a",
   "metadata": {},
   "outputs": [],
   "source": [
    "# Miscellaneous hidden inputs/parameters usually passed by web form. These do not change.\n",
    "misc_parameters = {\n",
    "    \"action-Send\": \"Send\",\n",
    "    \"finder-stage-D76.V1\": \"codeset\",\n",
    "    \"finder-stage-D76.V1\": \"codeset\",\n",
    "    \"finder-stage-D76.V2\": \"codeset\",\n",
    "    \"finder-stage-D76.V27\": \"codeset\",\n",
    "    \"finder-stage-D76.V9\": \"codeset\",\n",
    "    \"stage\": \"request\",\n",
    "}"
   ]
  },
  {
   "cell_type": "code",
   "execution_count": 31,
   "id": "a4984c1c-6263-411e-84db-a56600f6bf90",
   "metadata": {},
   "outputs": [],
   "source": [
    "def createParameterList(parameterList):\n",
    "    \"\"\"Helper function to create a parameter list from a dictionary object\"\"\"\n",
    "\n",
    "    parameterString = \"\"\n",
    "\n",
    "    for key in parameterList:\n",
    "        parameterString += \"<parameter>\\n\"\n",
    "        parameterString += \"<name>\" + key + \"</name>\\n\"\n",
    "\n",
    "        if isinstance(parameterList[key], list):\n",
    "            for value in parameterList[key]:\n",
    "                parameterString += \"<value>\" + value + \"</value>\\n\"\n",
    "        else:\n",
    "            parameterString += \"<value>\" + parameterList[key] + \"</value>\\n\"\n",
    "\n",
    "        parameterString += \"</parameter>\\n\"\n",
    "\n",
    "    return parameterString"
   ]
  },
  {
   "cell_type": "code",
   "execution_count": 32,
   "id": "52ed75bc-89f4-4758-8947-e4ad5c9381d0",
   "metadata": {},
   "outputs": [],
   "source": [
    "xml_request = \"<request-parameters>\\n\"\n",
    "xml_request += createParameterList(b_parameters)\n",
    "xml_request += createParameterList(m_parameters)\n",
    "xml_request += createParameterList(f_parameters)\n",
    "xml_request += createParameterList(i_parameters)\n",
    "xml_request += createParameterList(o_parameters)\n",
    "xml_request += createParameterList(vm_parameters)\n",
    "xml_request += createParameterList(v_parameters)\n",
    "xml_request += createParameterList(misc_parameters)\n",
    "xml_request += \"</request-parameters>\""
   ]
  },
  {
   "cell_type": "code",
   "execution_count": 34,
   "id": "7419715c-8bc0-435e-9532-d46c9bc04614",
   "metadata": {},
   "outputs": [],
   "source": [
    "import requests\n",
    "\n",
    "url = \"https://wonder.cdc.gov/controller/datarequest/D76\"\n",
    "response = requests.post(\n",
    "    url, data={\"request_xml\": xml_request, \"accept_datause_restrictions\": \"true\"}\n",
    ")\n",
    "\n",
    "if response.status_code == 200:\n",
    "    data = response.text\n",
    "else:\n",
    "    print(\"something went wrong\")"
   ]
  },
  {
   "cell_type": "code",
   "execution_count": 35,
   "id": "862a7c2a-715c-4405-92be-83bdbfb2046b",
   "metadata": {},
   "outputs": [],
   "source": [
    "# BeautifulSoup library facilitates parsing of XML response\n",
    "import bs4 as bs\n",
    "\n",
    "# This library faciliates 2-dimensional array operations and visualization\n",
    "import pandas as pd"
   ]
  },
  {
   "cell_type": "code",
   "execution_count": 36,
   "id": "a67bafd6-ce0d-4296-ba37-3e8fd9cda07c",
   "metadata": {},
   "outputs": [],
   "source": [
    "def xml2df(xml_data):\n",
    "\n",
    "    root = bs.BeautifulSoup(xml_data, \"lxml\")\n",
    "    all_records = []\n",
    "    row_number = 0\n",
    "    rows = root.find_all(\"r\")\n",
    "\n",
    "    for row in rows:\n",
    "        if row_number >= len(all_records):\n",
    "            all_records.append([])\n",
    "\n",
    "        for cell in row.find_all(\"c\"):\n",
    "            if \"v\" in cell.attrs:\n",
    "                try:\n",
    "                    all_records[row_number].append(\n",
    "                        float(cell.attrs[\"v\"].replace(\",\", \"\"))\n",
    "                    )\n",
    "                except ValueError:\n",
    "                    all_records[row_number].append(cell.attrs[\"v\"])\n",
    "            else:\n",
    "                if \"r\" not in cell.attrs:\n",
    "                    all_records[row_number].append(cell.attrs[\"l\"])\n",
    "                else:\n",
    "\n",
    "                    for row_index in range(int(cell.attrs[\"r\"])):\n",
    "                        if (row_number + row_index) >= len(all_records):\n",
    "                            all_records.append([])\n",
    "                            all_records[row_number + row_index].append(cell.attrs[\"l\"])\n",
    "                        else:\n",
    "                            all_records[row_number + row_index].append(cell.attrs[\"l\"])\n",
    "\n",
    "        row_number += 1\n",
    "    return all_records"
   ]
  },
  {
   "cell_type": "code",
   "execution_count": 37,
   "id": "c54ff5cd-6c66-4fb2-9651-d740acc98338",
   "metadata": {},
   "outputs": [
    {
     "name": "stderr",
     "output_type": "stream",
     "text": [
      "/Users/alexleedsmatthews/.local/share/virtualenvs/notebooks-HSWNtBAS/lib/python3.8/site-packages/bs4/builder/__init__.py:545: XMLParsedAsHTMLWarning: It looks like you're parsing an XML document using an HTML parser. If this really is an HTML document (maybe it's XHTML?), you can ignore or filter this warning. If it's XML, you should know that using an XML parser will be more reliable. To parse this document as XML, make sure you have the lxml package installed, and pass the keyword argument `features=\"xml\"` into the BeautifulSoup constructor.\n",
      "  warnings.warn(\n"
     ]
    },
    {
     "data": {
      "text/html": [
       "<div>\n",
       "<style scoped>\n",
       "    .dataframe tbody tr th:only-of-type {\n",
       "        vertical-align: middle;\n",
       "    }\n",
       "\n",
       "    .dataframe tbody tr th {\n",
       "        vertical-align: top;\n",
       "    }\n",
       "\n",
       "    .dataframe thead th {\n",
       "        text-align: right;\n",
       "    }\n",
       "</style>\n",
       "<table border=\"1\" class=\"dataframe\">\n",
       "  <thead>\n",
       "    <tr style=\"text-align: right;\">\n",
       "      <th></th>\n",
       "      <th>Year</th>\n",
       "      <th>Race</th>\n",
       "      <th>Deaths</th>\n",
       "      <th>Population</th>\n",
       "      <th>Crude Rate</th>\n",
       "      <th>Age-adjusted Rate</th>\n",
       "      <th>Age-adjusted Rate Standard Error</th>\n",
       "    </tr>\n",
       "  </thead>\n",
       "  <tbody>\n",
       "    <tr>\n",
       "      <th>0</th>\n",
       "      <td>1999</td>\n",
       "      <td>American Indian or Alaska Native</td>\n",
       "      <td>210.0</td>\n",
       "      <td>1375207.0</td>\n",
       "      <td>15.3</td>\n",
       "      <td>17.2</td>\n",
       "      <td>1.2</td>\n",
       "    </tr>\n",
       "    <tr>\n",
       "      <th>1</th>\n",
       "      <td>1999</td>\n",
       "      <td>Asian or Pacific Islander</td>\n",
       "      <td>73.0</td>\n",
       "      <td>5813970.0</td>\n",
       "      <td>1.3</td>\n",
       "      <td>1.3</td>\n",
       "      <td>0.2</td>\n",
       "    </tr>\n",
       "    <tr>\n",
       "      <th>2</th>\n",
       "      <td>1999</td>\n",
       "      <td>Black or African American</td>\n",
       "      <td>1176.0</td>\n",
       "      <td>17026405.0</td>\n",
       "      <td>6.9</td>\n",
       "      <td>7.4</td>\n",
       "      <td>0.2</td>\n",
       "    </tr>\n",
       "    <tr>\n",
       "      <th>3</th>\n",
       "      <td>1999</td>\n",
       "      <td>White</td>\n",
       "      <td>5067.0</td>\n",
       "      <td>99715532.0</td>\n",
       "      <td>5.1</td>\n",
       "      <td>5.1</td>\n",
       "      <td>0.1</td>\n",
       "    </tr>\n",
       "    <tr>\n",
       "      <th>4</th>\n",
       "      <td>2000</td>\n",
       "      <td>American Indian or Alaska Native</td>\n",
       "      <td>213.0</td>\n",
       "      <td>1438695.0</td>\n",
       "      <td>14.8</td>\n",
       "      <td>16.4</td>\n",
       "      <td>1.1</td>\n",
       "    </tr>\n",
       "  </tbody>\n",
       "</table>\n",
       "</div>"
      ],
      "text/plain": [
       "   Year                              Race  Deaths  Population  Crude Rate  \\\n",
       "0  1999  American Indian or Alaska Native   210.0   1375207.0        15.3   \n",
       "1  1999         Asian or Pacific Islander    73.0   5813970.0         1.3   \n",
       "2  1999         Black or African American  1176.0  17026405.0         6.9   \n",
       "3  1999                             White  5067.0  99715532.0         5.1   \n",
       "4  2000  American Indian or Alaska Native   213.0   1438695.0        14.8   \n",
       "\n",
       "   Age-adjusted Rate  Age-adjusted Rate Standard Error  \n",
       "0               17.2                               1.2  \n",
       "1                1.3                               0.2  \n",
       "2                7.4                               0.2  \n",
       "3                5.1                               0.1  \n",
       "4               16.4                               1.1  "
      ]
     },
     "execution_count": 37,
     "metadata": {},
     "output_type": "execute_result"
    }
   ],
   "source": [
    "data_frame = xml2df(data)\n",
    "\n",
    "df = pd.DataFrame(\n",
    "    data=data_frame,\n",
    "    columns=[\n",
    "        \"Year\",\n",
    "        \"Race\",\n",
    "        \"Deaths\",\n",
    "        \"Population\",\n",
    "        \"Crude Rate\",\n",
    "        \"Age-adjusted Rate\",\n",
    "        \"Age-adjusted Rate Standard Error\",\n",
    "    ],\n",
    ")\n",
    "\n",
    "df.head()"
   ]
  },
  {
   "cell_type": "code",
   "execution_count": null,
   "id": "66c3cd85-d33e-4bd3-8490-c8175ea940e7",
   "metadata": {},
   "outputs": [],
   "source": []
  }
 ],
 "metadata": {
  "kernelspec": {
   "display_name": "Python 3 (ipykernel)",
   "language": "python",
   "name": "python3"
  },
  "language_info": {
   "codemirror_mode": {
    "name": "ipython",
    "version": 3
   },
   "file_extension": ".py",
   "mimetype": "text/x-python",
   "name": "python",
   "nbconvert_exporter": "python",
   "pygments_lexer": "ipython3",
   "version": "3.8.9"
  }
 },
 "nbformat": 4,
 "nbformat_minor": 5
}
