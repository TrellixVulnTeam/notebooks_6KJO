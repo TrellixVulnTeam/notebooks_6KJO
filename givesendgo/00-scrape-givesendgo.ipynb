{
 "cells": [
  {
   "cell_type": "markdown",
   "id": "f5e5d439-aa8b-498d-ac88-1f00a75beef5",
   "metadata": {},
   "source": [
    "# Get user data on donations to Freedom Convoy 2022"
   ]
  },
  {
   "cell_type": "code",
   "execution_count": 17,
   "id": "b5743c6d-cec4-474f-ac36-4d77785fb35e",
   "metadata": {},
   "outputs": [],
   "source": [
    "import pandas as pd\n",
    "import cloudscraper\n",
    "import json\n",
    "import requests\n",
    "from time import sleep\n",
    "from random import randint"
   ]
  },
  {
   "cell_type": "code",
   "execution_count": 17,
   "id": "8ea6fa80-c228-4c5b-b0a9-6690626ec19b",
   "metadata": {},
   "outputs": [],
   "source": [
    "pd.options.display.max_columns = 1000\n",
    "pd.options.display.max_rows = 1000\n",
    "pd.options.display.max_colwidth = None"
   ]
  },
  {
   "cell_type": "markdown",
   "id": "014b8e94-8416-4874-9f41-4ab9aee86086",
   "metadata": {},
   "source": [
    "### Get the most-recent donation id"
   ]
  },
  {
   "cell_type": "code",
   "execution_count": 29,
   "id": "db753c41-52d1-499c-a245-9e02b94a8476",
   "metadata": {},
   "outputs": [],
   "source": [
    "headers = {\n",
    "    'User-Agent':\n",
    "        'Mozilla/5.0 (Windows NT 6.1; WOW64) AppleWebKit/537.36 (KHTML, like Gecko) Chrome/56.0.2924.87 Safari/537.36',\n",
    "    'Accept-Encoding': 'gzip, deflate'\n",
    "}"
   ]
  },
  {
   "cell_type": "code",
   "execution_count": 30,
   "id": "3f8f79e9-401a-46a0-90b3-3f74a44c2191",
   "metadata": {},
   "outputs": [],
   "source": [
    "recent_url = 'https://givesendgo.com/donation/recentdonations?camp=49000&donation=null'"
   ]
  },
  {
   "cell_type": "code",
   "execution_count": 31,
   "id": "7be765ca-ad2b-4e00-a921-d2c8668750c0",
   "metadata": {},
   "outputs": [],
   "source": [
    "scraper = cloudscraper.create_scraper()\n",
    "p = scraper.get(\"https://givesendgo.com/donation/recentdonations?camp=49000&donation=null\", headers=headers).text\n",
    "y = json.loads(p)"
   ]
  },
  {
   "cell_type": "code",
   "execution_count": null,
   "id": "90d4001b-9f39-44c1-a541-0c9057d21b86",
   "metadata": {},
   "outputs": [],
   "source": []
  },
  {
   "cell_type": "code",
   "execution_count": 32,
   "id": "33f156d9-4a4c-4d2b-abae-d95ba31d3ece",
   "metadata": {},
   "outputs": [],
   "source": [
    "latest_donation = y['returnData']['donations'][0]['donation_id']"
   ]
  },
  {
   "cell_type": "code",
   "execution_count": 33,
   "id": "53394161-782a-48b3-93a6-26dc95aad234",
   "metadata": {},
   "outputs": [
    {
     "data": {
      "text/plain": [
       "575310"
      ]
     },
     "execution_count": 33,
     "metadata": {},
     "output_type": "execute_result"
    }
   ],
   "source": [
    "latest_donation"
   ]
  },
  {
   "cell_type": "code",
   "execution_count": 34,
   "id": "9092a350-f924-4bf9-a878-8f17a888a5d7",
   "metadata": {},
   "outputs": [],
   "source": [
    "first_donation = '574029'"
   ]
  },
  {
   "cell_type": "code",
   "execution_count": 35,
   "id": "47a4c34f-8d98-4bee-a470-3b2fe71a03c6",
   "metadata": {},
   "outputs": [],
   "source": [
    "urls = []\n",
    "\n",
    "for r in range(int(first_donation), int(latest_donation), 10):\n",
    "    urls.append(f\"https://givesendgo.com/donation/recentdonations?camp=49000&donation={r}\")"
   ]
  },
  {
   "cell_type": "code",
   "execution_count": 36,
   "id": "07457737-9f7c-437a-9cb0-18c853da1d14",
   "metadata": {},
   "outputs": [
    {
     "data": {
      "text/plain": [
       "129"
      ]
     },
     "execution_count": 36,
     "metadata": {},
     "output_type": "execute_result"
    }
   ],
   "source": [
    "len(urls)"
   ]
  },
  {
   "cell_type": "code",
   "execution_count": 37,
   "id": "42cfc525-4e71-4399-a539-68c4b9774604",
   "metadata": {},
   "outputs": [
    {
     "data": {
      "text/plain": [
       "['https://givesendgo.com/donation/recentdonations?camp=49000&donation=574029',\n",
       " 'https://givesendgo.com/donation/recentdonations?camp=49000&donation=574039',\n",
       " 'https://givesendgo.com/donation/recentdonations?camp=49000&donation=574049',\n",
       " 'https://givesendgo.com/donation/recentdonations?camp=49000&donation=574059',\n",
       " 'https://givesendgo.com/donation/recentdonations?camp=49000&donation=574069',\n",
       " 'https://givesendgo.com/donation/recentdonations?camp=49000&donation=574079',\n",
       " 'https://givesendgo.com/donation/recentdonations?camp=49000&donation=574089',\n",
       " 'https://givesendgo.com/donation/recentdonations?camp=49000&donation=574099',\n",
       " 'https://givesendgo.com/donation/recentdonations?camp=49000&donation=574109',\n",
       " 'https://givesendgo.com/donation/recentdonations?camp=49000&donation=574119']"
      ]
     },
     "execution_count": 37,
     "metadata": {},
     "output_type": "execute_result"
    }
   ],
   "source": [
    "urls[0:10]"
   ]
  },
  {
   "cell_type": "markdown",
   "id": "56a6561c-a60d-4fab-b4c6-154bb65d4b47",
   "metadata": {},
   "source": [
    "---"
   ]
  },
  {
   "cell_type": "code",
   "execution_count": 38,
   "id": "897db5c2-5796-4439-80d6-894e364519bb",
   "metadata": {},
   "outputs": [],
   "source": [
    "sess = requests.session()\n",
    "sess = cloudscraper.create_scraper(sess)"
   ]
  },
  {
   "cell_type": "markdown",
   "id": "9a6ab4f1-2183-4927-a87f-5320cdadd058",
   "metadata": {},
   "source": [
    "### Scrape, but slowly"
   ]
  },
  {
   "cell_type": "code",
   "execution_count": 39,
   "id": "f94dca2b-9795-4aff-9215-ff8256e9193d",
   "metadata": {},
   "outputs": [
    {
     "name": "stdout",
     "output_type": "stream",
     "text": [
      "CPU times: user 1.33 s, sys: 300 ms, total: 1.63 s\n",
      "Wall time: 16min 45s\n"
     ]
    }
   ],
   "source": [
    "%%time\n",
    "\n",
    "jsons = []\n",
    "\n",
    "for r in range(int(first_donation), int(latest_donation), 10):\n",
    "    try: \n",
    "        p = sess.get(f\"https://givesendgo.com/donation/recentdonations?camp=49000&donation={r}\", headers=headers).text \n",
    "        y = json.loads(p)\n",
    "        # jsons.append(y)\n",
    "        with open(f'increments/new/data_increment_{r}.json', 'w') as outfile:\n",
    "            json.dump(y, outfile)\n",
    "        sleep(randint(5,10))\n",
    "    except: \n",
    "        continue"
   ]
  },
  {
   "cell_type": "code",
   "execution_count": null,
   "id": "cc69890f-f594-432b-88b4-e66541135234",
   "metadata": {},
   "outputs": [],
   "source": []
  },
  {
   "cell_type": "code",
   "execution_count": null,
   "id": "c6f7f892-6755-4712-a110-700b6880d53d",
   "metadata": {},
   "outputs": [],
   "source": []
  }
 ],
 "metadata": {
  "kernelspec": {
   "display_name": "Python 3 (ipykernel)",
   "language": "python",
   "name": "python3"
  },
  "language_info": {
   "codemirror_mode": {
    "name": "ipython",
    "version": 3
   },
   "file_extension": ".py",
   "mimetype": "text/x-python",
   "name": "python",
   "nbconvert_exporter": "python",
   "pygments_lexer": "ipython3",
   "version": "3.8.9"
  }
 },
 "nbformat": 4,
 "nbformat_minor": 5
}
