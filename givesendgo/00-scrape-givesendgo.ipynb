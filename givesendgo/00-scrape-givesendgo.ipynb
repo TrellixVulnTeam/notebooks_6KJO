{
 "cells": [
  {
   "cell_type": "code",
   "execution_count": 17,
   "id": "db5f8610-c7cb-4329-bd9e-f048b257e534",
   "metadata": {},
   "outputs": [],
   "source": [
    "import pandas as pd\n",
    "import cloudscraper\n",
    "import json\n",
    "import requests\n",
    "from time import sleep\n",
    "from random import randint"
   ]
  },
  {
   "cell_type": "markdown",
   "id": "014b8e94-8416-4874-9f41-4ab9aee86086",
   "metadata": {},
   "source": [
    "### Get the most-recent donation id"
   ]
  },
  {
   "cell_type": "code",
   "execution_count": 18,
   "id": "36a02ce2-52fc-4c41-a656-4577b6d73e2d",
   "metadata": {},
   "outputs": [],
   "source": [
    "recent_url = 'https://givesendgo.com/donation/recentdonations?camp=49000&donation=null'"
   ]
  },
  {
   "cell_type": "code",
   "execution_count": 19,
   "id": "7be765ca-ad2b-4e00-a921-d2c8668750c0",
   "metadata": {},
   "outputs": [],
   "source": [
    "scraper = cloudscraper.create_scraper()\n",
    "p = scraper.get(\"https://givesendgo.com/donation/recentdonations?camp=49000&donation=null\").text\n",
    "y = json.loads(p)"
   ]
  },
  {
   "cell_type": "code",
   "execution_count": 20,
   "id": "33f156d9-4a4c-4d2b-abae-d95ba31d3ece",
   "metadata": {},
   "outputs": [],
   "source": [
    "latest_donation = y['returnData']['donations'][0]['donation_id']"
   ]
  },
  {
   "cell_type": "code",
   "execution_count": 21,
   "id": "53394161-782a-48b3-93a6-26dc95aad234",
   "metadata": {},
   "outputs": [
    {
     "data": {
      "text/plain": [
       "531361"
      ]
     },
     "execution_count": 21,
     "metadata": {},
     "output_type": "execute_result"
    }
   ],
   "source": [
    "latest_donation"
   ]
  },
  {
   "cell_type": "code",
   "execution_count": 22,
   "id": "9092a350-f924-4bf9-a878-8f17a888a5d7",
   "metadata": {},
   "outputs": [],
   "source": [
    "first_donation = '463549'"
   ]
  },
  {
   "cell_type": "code",
   "execution_count": 23,
   "id": "47a4c34f-8d98-4bee-a470-3b2fe71a03c6",
   "metadata": {},
   "outputs": [],
   "source": [
    "urls = []\n",
    "\n",
    "for r in range(int(first_donation), int(latest_donation), 10):\n",
    "    urls.append(f\"https://givesendgo.com/donation/recentdonations?camp=49000&donation={r}\")"
   ]
  },
  {
   "cell_type": "code",
   "execution_count": 24,
   "id": "acbb9c92-871e-4a7f-884f-0ed20f235b4a",
   "metadata": {},
   "outputs": [
    {
     "data": {
      "text/plain": [
       "6782"
      ]
     },
     "execution_count": 24,
     "metadata": {},
     "output_type": "execute_result"
    }
   ],
   "source": [
    "len(urls)"
   ]
  },
  {
   "cell_type": "markdown",
   "id": "56a6561c-a60d-4fab-b4c6-154bb65d4b47",
   "metadata": {},
   "source": [
    "---"
   ]
  },
  {
   "cell_type": "code",
   "execution_count": 25,
   "id": "897db5c2-5796-4439-80d6-894e364519bb",
   "metadata": {},
   "outputs": [],
   "source": [
    "headers = {\n",
    "    'User-Agent':\n",
    "        'Mozilla/5.0 (Windows NT 6.1; WOW64) AppleWebKit/537.36 (KHTML, like Gecko) Chrome/56.0.2924.87 Safari/537.36',\n",
    "    'Accept-Encoding': 'gzip, deflate'\n",
    "}\n",
    "\n",
    "sess = requests.session()\n",
    "sess = cloudscraper.create_scraper(sess)"
   ]
  },
  {
   "cell_type": "markdown",
   "id": "9a6ab4f1-2183-4927-a87f-5320cdadd058",
   "metadata": {},
   "source": [
    "### Scrape slowly"
   ]
  },
  {
   "cell_type": "code",
   "execution_count": null,
   "id": "b308348a-f5bf-47fb-8040-ffd50444d3fb",
   "metadata": {},
   "outputs": [],
   "source": [
    "%%time\n",
    "\n",
    "jsons = []\n",
    "\n",
    "for r in range(int(first_donation), int(latest_donation), 10):\n",
    "# for r in range(463549, 463649, 10):\n",
    "    try: \n",
    "        p = sess.get(f\"https://givesendgo.com/donation/recentdonations?camp=49000&donation={r}\", headers=headers).text \n",
    "        y = json.loads(p)\n",
    "        jsons.append(y)\n",
    "        sleep(randint(1,3))\n",
    "    except: \n",
    "        continue"
   ]
  },
  {
   "cell_type": "code",
   "execution_count": 1,
   "id": "64451b7d-9e9b-4e21-9466-e4b57ba17de1",
   "metadata": {},
   "outputs": [
    {
     "ename": "NameError",
     "evalue": "name 'jsons' is not defined",
     "output_type": "error",
     "traceback": [
      "\u001b[0;31m---------------------------------------------------------------------------\u001b[0m",
      "\u001b[0;31mNameError\u001b[0m                                 Traceback (most recent call last)",
      "Input \u001b[0;32mIn [1]\u001b[0m, in \u001b[0;36m<module>\u001b[0;34m\u001b[0m\n\u001b[0;32m----> 1\u001b[0m \u001b[38;5;28mlen\u001b[39m(\u001b[43mjsons\u001b[49m)\n",
      "\u001b[0;31mNameError\u001b[0m: name 'jsons' is not defined"
     ]
    }
   ],
   "source": [
    "len(jsons)"
   ]
  },
  {
   "cell_type": "code",
   "execution_count": null,
   "id": "89e0d60f-ace3-4f42-b323-271fcc67ef09",
   "metadata": {},
   "outputs": [],
   "source": [
    "# Parse JSON\n",
    "with open('data_most_recent.json', 'w') as outfile:\n",
    "    json.dump(jsons, outfile)"
   ]
  },
  {
   "cell_type": "code",
   "execution_count": null,
   "id": "71b07fb0-70a8-4ae8-a39c-192fcad5cc8f",
   "metadata": {},
   "outputs": [],
   "source": []
  },
  {
   "cell_type": "code",
   "execution_count": null,
   "id": "e282571b-5f73-45cc-bb73-eb4d15cde88d",
   "metadata": {},
   "outputs": [],
   "source": []
  },
  {
   "cell_type": "code",
   "execution_count": null,
   "id": "fce52bf6-72e5-45fc-8bf4-afb5973e9281",
   "metadata": {},
   "outputs": [],
   "source": []
  },
  {
   "cell_type": "code",
   "execution_count": null,
   "id": "d811a94b-be89-4a95-b398-0f2a062d57ee",
   "metadata": {},
   "outputs": [],
   "source": []
  }
 ],
 "metadata": {
  "kernelspec": {
   "display_name": "Python 3 (ipykernel)",
   "language": "python",
   "name": "python3"
  },
  "language_info": {
   "codemirror_mode": {
    "name": "ipython",
    "version": 3
   },
   "file_extension": ".py",
   "mimetype": "text/x-python",
   "name": "python",
   "nbconvert_exporter": "python",
   "pygments_lexer": "ipython3",
   "version": "3.8.9"
  }
 },
 "nbformat": 4,
 "nbformat_minor": 5
}
