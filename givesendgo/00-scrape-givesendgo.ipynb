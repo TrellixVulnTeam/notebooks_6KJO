{
 "cells": [
  {
   "cell_type": "markdown",
   "id": "f5e5d439-aa8b-498d-ac88-1f00a75beef5",
   "metadata": {},
   "source": [
    "# Get user data on donations to Freedom Convoy 2022"
   ]
  },
  {
   "cell_type": "code",
   "execution_count": 53,
   "id": "b5743c6d-cec4-474f-ac36-4d77785fb35e",
   "metadata": {},
   "outputs": [],
   "source": [
    "import pandas as pd\n",
    "import cloudscraper\n",
    "import json\n",
    "import requests\n",
    "from time import sleep\n",
    "from random import randint"
   ]
  },
  {
   "cell_type": "code",
   "execution_count": 54,
   "id": "8ea6fa80-c228-4c5b-b0a9-6690626ec19b",
   "metadata": {},
   "outputs": [],
   "source": [
    "pd.options.display.max_columns = 1000\n",
    "pd.options.display.max_rows = 1000\n",
    "pd.options.display.max_colwidth = None"
   ]
  },
  {
   "cell_type": "markdown",
   "id": "014b8e94-8416-4874-9f41-4ab9aee86086",
   "metadata": {},
   "source": [
    "### Get the most-recent donation id"
   ]
  },
  {
   "cell_type": "code",
   "execution_count": 55,
   "id": "db753c41-52d1-499c-a245-9e02b94a8476",
   "metadata": {},
   "outputs": [],
   "source": [
    "headers = {\n",
    "    'User-Agent':\n",
    "        'Mozilla/5.0 (Windows NT 6.1; WOW64) AppleWebKit/537.36 (KHTML, like Gecko) Chrome/56.0.2924.87 Safari/537.36',\n",
    "    'Accept-Encoding': 'gzip, deflate'\n",
    "}"
   ]
  },
  {
   "cell_type": "code",
   "execution_count": 56,
   "id": "3f8f79e9-401a-46a0-90b3-3f74a44c2191",
   "metadata": {},
   "outputs": [],
   "source": [
    "recent_url = 'https://givesendgo.com/donation/recentdonations?camp=49000&donation=null'"
   ]
  },
  {
   "cell_type": "code",
   "execution_count": 57,
   "id": "7be765ca-ad2b-4e00-a921-d2c8668750c0",
   "metadata": {},
   "outputs": [],
   "source": [
    "scraper = cloudscraper.create_scraper()\n",
    "p = scraper.get(\"https://givesendgo.com/donation/recentdonations?camp=49000&donation=null\", headers=headers).text\n",
    "y = json.loads(p)"
   ]
  },
  {
   "cell_type": "code",
   "execution_count": 58,
   "id": "33f156d9-4a4c-4d2b-abae-d95ba31d3ece",
   "metadata": {},
   "outputs": [],
   "source": [
    "latest_donation = y['returnData']['donations'][0]['donation_id']"
   ]
  },
  {
   "cell_type": "code",
   "execution_count": 59,
   "id": "53394161-782a-48b3-93a6-26dc95aad234",
   "metadata": {},
   "outputs": [
    {
     "data": {
      "text/plain": [
       "584370"
      ]
     },
     "execution_count": 59,
     "metadata": {},
     "output_type": "execute_result"
    }
   ],
   "source": [
    "latest_donation"
   ]
  },
  {
   "cell_type": "code",
   "execution_count": 63,
   "id": "9092a350-f924-4bf9-a878-8f17a888a5d7",
   "metadata": {},
   "outputs": [],
   "source": [
    "first_donation = '575799'"
   ]
  },
  {
   "cell_type": "code",
   "execution_count": 64,
   "id": "47a4c34f-8d98-4bee-a470-3b2fe71a03c6",
   "metadata": {},
   "outputs": [],
   "source": [
    "urls = []\n",
    "\n",
    "for r in range(int(first_donation), int(latest_donation), 10):\n",
    "    urls.append(f\"https://givesendgo.com/donation/recentdonations?camp=49000&donation={r}\")"
   ]
  },
  {
   "cell_type": "code",
   "execution_count": 65,
   "id": "07457737-9f7c-437a-9cb0-18c853da1d14",
   "metadata": {},
   "outputs": [
    {
     "data": {
      "text/plain": [
       "858"
      ]
     },
     "execution_count": 65,
     "metadata": {},
     "output_type": "execute_result"
    }
   ],
   "source": [
    "len(urls)"
   ]
  },
  {
   "cell_type": "code",
   "execution_count": 66,
   "id": "42cfc525-4e71-4399-a539-68c4b9774604",
   "metadata": {},
   "outputs": [
    {
     "data": {
      "text/plain": [
       "['https://givesendgo.com/donation/recentdonations?camp=49000&donation=575799',\n",
       " 'https://givesendgo.com/donation/recentdonations?camp=49000&donation=575809',\n",
       " 'https://givesendgo.com/donation/recentdonations?camp=49000&donation=575819',\n",
       " 'https://givesendgo.com/donation/recentdonations?camp=49000&donation=575829',\n",
       " 'https://givesendgo.com/donation/recentdonations?camp=49000&donation=575839',\n",
       " 'https://givesendgo.com/donation/recentdonations?camp=49000&donation=575849',\n",
       " 'https://givesendgo.com/donation/recentdonations?camp=49000&donation=575859',\n",
       " 'https://givesendgo.com/donation/recentdonations?camp=49000&donation=575869',\n",
       " 'https://givesendgo.com/donation/recentdonations?camp=49000&donation=575879',\n",
       " 'https://givesendgo.com/donation/recentdonations?camp=49000&donation=575889']"
      ]
     },
     "execution_count": 66,
     "metadata": {},
     "output_type": "execute_result"
    }
   ],
   "source": [
    "urls[0:10]"
   ]
  },
  {
   "cell_type": "markdown",
   "id": "56a6561c-a60d-4fab-b4c6-154bb65d4b47",
   "metadata": {},
   "source": [
    "---"
   ]
  },
  {
   "cell_type": "code",
   "execution_count": 67,
   "id": "897db5c2-5796-4439-80d6-894e364519bb",
   "metadata": {},
   "outputs": [],
   "source": [
    "sess = requests.session()\n",
    "sess = cloudscraper.create_scraper(sess)"
   ]
  },
  {
   "cell_type": "markdown",
   "id": "9a6ab4f1-2183-4927-a87f-5320cdadd058",
   "metadata": {},
   "source": [
    "### Scrape, but slowly"
   ]
  },
  {
   "cell_type": "code",
   "execution_count": 68,
   "id": "f94dca2b-9795-4aff-9215-ff8256e9193d",
   "metadata": {},
   "outputs": [
    {
     "name": "stdout",
     "output_type": "stream",
     "text": [
      "CPU times: user 7.9 s, sys: 1.8 s, total: 9.7 s\n",
      "Wall time: 1h 51min 40s\n"
     ]
    }
   ],
   "source": [
    "%%time\n",
    "\n",
    "jsons = []\n",
    "\n",
    "for r in range(int(first_donation), int(latest_donation), 10):\n",
    "    try: \n",
    "        p = sess.get(f\"https://givesendgo.com/donation/recentdonations?camp=49000&donation={r}\", headers=headers).text \n",
    "        y = json.loads(p)\n",
    "        # jsons.append(y)\n",
    "        with open(f'increments/new/data_increment_{r}.json', 'w') as outfile:\n",
    "            json.dump(y, outfile)\n",
    "        sleep(randint(5,10))\n",
    "    except: \n",
    "        continue"
   ]
  }
 ],
 "metadata": {
  "kernelspec": {
   "display_name": "Python 3 (ipykernel)",
   "language": "python",
   "name": "python3"
  },
  "language_info": {
   "codemirror_mode": {
    "name": "ipython",
    "version": 3
   },
   "file_extension": ".py",
   "mimetype": "text/x-python",
   "name": "python",
   "nbconvert_exporter": "python",
   "pygments_lexer": "ipython3",
   "version": "3.8.9"
  }
 },
 "nbformat": 4,
 "nbformat_minor": 5
}
