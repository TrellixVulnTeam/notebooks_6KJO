{
 "cells": [
  {
   "cell_type": "markdown",
   "id": "c4acabe6-5af7-4f6c-b9ac-9c7651243803",
   "metadata": {},
   "source": [
    "# Analyze GiveSendGo data"
   ]
  },
  {
   "cell_type": "code",
   "execution_count": 1,
   "id": "81b982f0-cb13-4a3c-9794-fcab97c4e46d",
   "metadata": {},
   "outputs": [],
   "source": [
    "%load_ext lab_black"
   ]
  },
  {
   "cell_type": "code",
   "execution_count": 2,
   "id": "1c25578f-33d3-4f7a-b7dd-3ac92a9b09a2",
   "metadata": {},
   "outputs": [],
   "source": [
    "import pandas as pd\n",
    "import json\n",
    "import numpy as np\n",
    "import altair as alt\n",
    "import os\n",
    "import glob"
   ]
  },
  {
   "cell_type": "code",
   "execution_count": 3,
   "id": "51eba57c-cdee-4e95-a091-eaa08bf5fbbe",
   "metadata": {},
   "outputs": [],
   "source": [
    "pd.options.display.max_columns = 1000\n",
    "pd.options.display.max_rows = 1000\n",
    "pd.options.display.max_colwidth = None"
   ]
  },
  {
   "cell_type": "markdown",
   "id": "d1478b2c-f353-41ef-8ac1-f821d8d3d1e8",
   "metadata": {},
   "source": [
    "## Read data"
   ]
  },
  {
   "cell_type": "markdown",
   "id": "721034ec-1bc0-4d16-aa64-8941a515c3c5",
   "metadata": {},
   "source": [
    "#### Find, read and concatenate the most recent json files"
   ]
  },
  {
   "cell_type": "code",
   "execution_count": 4,
   "id": "33ba0677-e5c7-43ef-b9d5-3cb2a104702b",
   "metadata": {},
   "outputs": [],
   "source": [
    "path_to_json = \"increments/new\"\n",
    "\n",
    "json_pattern = os.path.join(path_to_json, \"*.json\")\n",
    "file_list = glob.glob(json_pattern)"
   ]
  },
  {
   "cell_type": "code",
   "execution_count": 5,
   "id": "fe4cc51f-5ecc-43b4-9fbb-d4941a13407e",
   "metadata": {},
   "outputs": [],
   "source": [
    "dfs = []\n",
    "for file in file_list:\n",
    "    with open(file) as f:\n",
    "        json_data = json.loads(f.read())\n",
    "        dfs.append(json_data)"
   ]
  },
  {
   "cell_type": "code",
   "execution_count": 6,
   "id": "949254d4-98b4-4398-9d3f-4e5213d97705",
   "metadata": {},
   "outputs": [],
   "source": [
    "all_data = []\n",
    "\n",
    "for d in dfs:\n",
    "    df = pd.DataFrame(d[\"returnData\"][\"donations\"])\n",
    "    all_data.append(df)\n",
    "\n",
    "new_df = pd.concat(all_data)"
   ]
  },
  {
   "cell_type": "code",
   "execution_count": 7,
   "id": "a790c33f-8ecf-429e-ad28-4c144868ebf7",
   "metadata": {},
   "outputs": [
    {
     "data": {
      "text/plain": [
       "38070"
      ]
     },
     "execution_count": 7,
     "metadata": {},
     "output_type": "execute_result"
    }
   ],
   "source": [
    "len(new_df)"
   ]
  },
  {
   "cell_type": "markdown",
   "id": "d15fc096-0885-417c-92d8-792207367cee",
   "metadata": {},
   "source": [
    "#### Get the previously scraped data"
   ]
  },
  {
   "cell_type": "code",
   "execution_count": 8,
   "id": "41686acb-b8ca-4a3a-b794-da8844231058",
   "metadata": {},
   "outputs": [],
   "source": [
    "with open(\"increments/data_increment_536789.json\") as f:\n",
    "    data_backup = json.load(f)"
   ]
  },
  {
   "cell_type": "code",
   "execution_count": 9,
   "id": "f4113167-df1b-4b76-9bc3-5baf74b89092",
   "metadata": {},
   "outputs": [],
   "source": [
    "all_data_old = []\n",
    "\n",
    "for d in data_backup:\n",
    "    df = pd.DataFrame(d[\"returnData\"][\"donations\"])\n",
    "    all_data_old.append(df)\n",
    "\n",
    "old_df = pd.concat(all_data_old)"
   ]
  },
  {
   "cell_type": "markdown",
   "id": "c733435e-5a95-4c5f-992e-00eafa7fb7bb",
   "metadata": {},
   "source": [
    "#### Combine the two dataframes"
   ]
  },
  {
   "cell_type": "code",
   "execution_count": 10,
   "id": "03fff4d3-6f1f-42e9-968b-18f1c55dfe2b",
   "metadata": {},
   "outputs": [],
   "source": [
    "df = pd.concat([old_df, new_df]).reset_index(drop=True)"
   ]
  },
  {
   "cell_type": "markdown",
   "id": "032dfd47-b021-459b-b492-cf900783fa1a",
   "metadata": {},
   "source": [
    "#### Lose columns we don't need and clean up the frame"
   ]
  },
  {
   "cell_type": "code",
   "execution_count": 11,
   "id": "2f81deff-0057-48c6-966d-062bf8f3f6ae",
   "metadata": {},
   "outputs": [],
   "source": [
    "df.drop(\n",
    "    [\n",
    "        \"donation_conversion_rate\",\n",
    "        \"campaign_id\",\n",
    "        \"lovecount\",\n",
    "        \"likes\",\n",
    "        \"donation_anonymous\",\n",
    "    ],\n",
    "    axis=1,\n",
    "    inplace=True,\n",
    ")"
   ]
  },
  {
   "cell_type": "code",
   "execution_count": 12,
   "id": "f2e63b5a-9f96-4167-9386-632e0b579797",
   "metadata": {},
   "outputs": [],
   "source": [
    "df = df.drop_duplicates().copy()\n",
    "df.donation_amount = df.donation_amount.astype(float)"
   ]
  },
  {
   "cell_type": "markdown",
   "id": "4a8a0f23-a883-464b-8b0f-d9c74477f8bd",
   "metadata": {},
   "source": [
    "---"
   ]
  },
  {
   "cell_type": "markdown",
   "id": "46899977-0e0c-4d43-8e7e-765c3fb22286",
   "metadata": {},
   "source": [
    "## Toplines"
   ]
  },
  {
   "cell_type": "markdown",
   "id": "fd678293-13fa-496b-9ea9-6c5dc43b88b1",
   "metadata": {},
   "source": [
    "#### Donations total"
   ]
  },
  {
   "cell_type": "code",
   "execution_count": 13,
   "id": "f5b1fd12-2c61-4d96-be14-f877c951a881",
   "metadata": {},
   "outputs": [
    {
     "data": {
      "text/plain": [
       "8214007.5"
      ]
     },
     "execution_count": 13,
     "metadata": {},
     "output_type": "execute_result"
    }
   ],
   "source": [
    "df.donation_amount.sum()"
   ]
  },
  {
   "cell_type": "markdown",
   "id": "b689e0b4-2fd8-4fb2-b47d-a8ceb0bbc511",
   "metadata": {},
   "source": [
    "#### Average donation"
   ]
  },
  {
   "cell_type": "code",
   "execution_count": 14,
   "id": "0254b6c8-6294-437b-a988-5509d67b77f2",
   "metadata": {},
   "outputs": [
    {
     "data": {
      "text/plain": [
       "90.67"
      ]
     },
     "execution_count": 14,
     "metadata": {},
     "output_type": "execute_result"
    }
   ],
   "source": [
    "df.donation_amount.mean().round(2)"
   ]
  },
  {
   "cell_type": "markdown",
   "id": "b1136d6e-627c-4867-b7ec-31fc7d8deed7",
   "metadata": {},
   "source": [
    "#### How many donations?"
   ]
  },
  {
   "cell_type": "code",
   "execution_count": 15,
   "id": "0d10965e-d7f9-4e56-b161-137756c981b2",
   "metadata": {},
   "outputs": [
    {
     "data": {
      "text/plain": [
       "90593"
      ]
     },
     "execution_count": 15,
     "metadata": {},
     "output_type": "execute_result"
    }
   ],
   "source": [
    "df.donation_name.count()"
   ]
  },
  {
   "cell_type": "markdown",
   "id": "d601833f-64f0-40f2-9537-06845e6efc95",
   "metadata": {},
   "source": [
    "#### PCT of the goal? "
   ]
  },
  {
   "cell_type": "code",
   "execution_count": 16,
   "id": "b6ceb222-e3d6-4fee-8736-3b1c5c3e0d0e",
   "metadata": {},
   "outputs": [
    {
     "data": {
      "text/plain": [
       "51.34"
      ]
     },
     "execution_count": 16,
     "metadata": {},
     "output_type": "execute_result"
    }
   ],
   "source": [
    "((df.donation_amount.sum() / 16000000) * 100).round(2)"
   ]
  },
  {
   "cell_type": "markdown",
   "id": "6b489190-bb49-4efd-987a-ef92d4c2927a",
   "metadata": {},
   "source": [
    "---"
   ]
  },
  {
   "cell_type": "markdown",
   "id": "2003a5b6-1b63-4379-955b-baaa7e3cc1eb",
   "metadata": {},
   "source": [
    "## What's in the donation memo text?"
   ]
  },
  {
   "cell_type": "markdown",
   "id": "b64a162e-3fcc-4d95-b334-3540019509d7",
   "metadata": {},
   "source": [
    "#### Donations with specific amounts"
   ]
  },
  {
   "cell_type": "code",
   "execution_count": 17,
   "id": "a5794e27-bfa4-40b4-959f-c8577943091c",
   "metadata": {},
   "outputs": [],
   "source": [
    "df[\"mentions_14\"] = df[\"donation_amount\"] == 14"
   ]
  },
  {
   "cell_type": "markdown",
   "id": "5019f9b2-ba48-4780-b639-d62674a2153f",
   "metadata": {},
   "source": [
    "#### Donations comments with coded language or specific keywords?"
   ]
  },
  {
   "cell_type": "code",
   "execution_count": 18,
   "id": "78e42543-abb9-4aa5-8264-24d35b5e9900",
   "metadata": {},
   "outputs": [],
   "source": [
    "df[\"mentions_mandate\"] = df[\"donation_comment\"].str.lower().str.contains(\"mandate\")\n",
    "df[\"mentions_holdtheline\"] = (\n",
    "    df[\"donation_comment\"].str.lower().str.contains(\"hold the line\")\n",
    ")\n",
    "df[\"mentions_brandon\"] = df[\"donation_comment\"].str.lower().str.contains(\"brandon\")\n",
    "df[\"mentions_wwg1wga\"] = df[\"donation_comment\"].str.lower().str.contains(\"wwg1wga\")\n",
    "df[\"mentions_wwg1wga\"] = df[\"donation_comment\"].str.lower().str.contains(\"wwg1wga\")\n",
    "df[\"mentions_trump\"] = df[\"donation_comment\"].str.lower().str.contains(\"trump\")\n",
    "df[\"mentions_honk\"] = (\n",
    "    df[\"donation_comment\"].str.lower().str.contains(\"honkhonk|honk honk\")\n",
    ")\n",
    "df[\"mentions_freedom\"] = df[\"donation_comment\"].str.lower().str.contains(\"freedom\")\n",
    "df[\"mentions_tyranny\"] = df[\"donation_comment\"].str.lower().str.contains(\"tyranny\")\n",
    "df[\"mentions_biden\"] = df[\"donation_comment\"].str.lower().str.contains(\"biden\")\n",
    "df[\"mentions_trudeau\"] = df[\"donation_comment\"].str.lower().str.contains(\"trudeau\")"
   ]
  },
  {
   "cell_type": "markdown",
   "id": "d96c6189-f869-4585-8b6b-760cdc1d570b",
   "metadata": {},
   "source": [
    "#### List of mention categories"
   ]
  },
  {
   "cell_type": "code",
   "execution_count": 19,
   "id": "91211258-5e12-4d9b-a928-c00e93f66ea0",
   "metadata": {},
   "outputs": [],
   "source": [
    "boolean = [\n",
    "    \"mentions_mandate\",\n",
    "    \"mentions_holdtheline\",\n",
    "    \"mentions_brandon\",\n",
    "    \"mentions_14\",\n",
    "    \"mentions_wwg1wga\",\n",
    "    \"mentions_trump\",\n",
    "    \"mentions_trudeau\",\n",
    "    \"mentions_biden\",\n",
    "    \"mentions_honk\",\n",
    "    \"mentions_freedom\",\n",
    "    \"mentions_tyranny\",\n",
    "]"
   ]
  },
  {
   "cell_type": "markdown",
   "id": "171a393c-6120-4ad6-ac5c-5cccb560d612",
   "metadata": {},
   "source": [
    "#### PCT mentioning a keyword"
   ]
  },
  {
   "cell_type": "code",
   "execution_count": 20,
   "id": "80358d4e-9722-4779-822b-39058af1ea32",
   "metadata": {},
   "outputs": [
    {
     "name": "stdout",
     "output_type": "stream",
     "text": [
      "False    98.02\n",
      "True      1.98\n",
      "Name: mentions_mandate, dtype: float64\n",
      "False    97.63\n",
      "True      2.37\n",
      "Name: mentions_holdtheline, dtype: float64\n",
      "False    99.68\n",
      "True      0.32\n",
      "Name: mentions_brandon, dtype: float64\n",
      "False    99.95\n",
      "True      0.05\n",
      "Name: mentions_14, dtype: float64\n",
      "False    99.91\n",
      "True      0.09\n",
      "Name: mentions_wwg1wga, dtype: float64\n",
      "False    99.96\n",
      "True      0.04\n",
      "Name: mentions_trump, dtype: float64\n",
      "False    98.44\n",
      "True      1.56\n",
      "Name: mentions_trudeau, dtype: float64\n",
      "False    99.93\n",
      "True      0.07\n",
      "Name: mentions_biden, dtype: float64\n",
      "False    98.79\n",
      "True      1.21\n",
      "Name: mentions_honk, dtype: float64\n",
      "False    80.54\n",
      "True     19.46\n",
      "Name: mentions_freedom, dtype: float64\n",
      "False    97.76\n",
      "True      2.24\n",
      "Name: mentions_tyranny, dtype: float64\n"
     ]
    }
   ],
   "source": [
    "for b in boolean:\n",
    "    print((df[b].value_counts(normalize=True) * 100).round(2))"
   ]
  },
  {
   "cell_type": "markdown",
   "id": "b6fe7bd5-afa3-4f4d-bb4b-5ba5d2dbdd98",
   "metadata": {},
   "source": [
    "---"
   ]
  },
  {
   "cell_type": "markdown",
   "id": "1bac0735-dbc1-450a-9669-553a9c763c09",
   "metadata": {},
   "source": [
    "## Dates"
   ]
  },
  {
   "cell_type": "markdown",
   "id": "15fc62b5-0258-45e3-971e-91af81ac1e7d",
   "metadata": {},
   "source": [
    "#### The dates are vague so categorize them"
   ]
  },
  {
   "cell_type": "code",
   "execution_count": 21,
   "id": "a79c5851-f8a6-4614-a88d-5c5d50f83ba3",
   "metadata": {},
   "outputs": [],
   "source": [
    "df.donation_date = (\n",
    "    df.donation_date.str.replace(\"6 days ago\", \"2022-02-02\", regex=False)\n",
    "    .str.replace(\"5 days ago\", \"2022-02-03\", regex=False)\n",
    "    .str.replace(\"4 days ago\", \"2022-02-04\", regex=False)\n",
    "    .str.replace(\"3 days ago\", \"2022-02-05\", regex=False)\n",
    "    .str.replace(\"2 days ago\", \"2022-02-06\", regex=False)\n",
    "    .str.replace(\"1 days ago\", \"2022-02-07\", regex=False)\n",
    ")"
   ]
  },
  {
   "cell_type": "markdown",
   "id": "1e120949-ea0e-4935-8ded-6ad4e89e9a79",
   "metadata": {},
   "source": [
    "#### The data have also been scraped incrementally, so we have to lump the more recent stuff in a larger bucket"
   ]
  },
  {
   "cell_type": "code",
   "execution_count": 22,
   "id": "20696553-758b-4aec-872f-ab68cb0ec67b",
   "metadata": {},
   "outputs": [],
   "source": [
    "df[\"donation_date\"] = np.where(\n",
    "    ~df[\"donation_date\"].str.contains(\"2022\", na=False),\n",
    "    \"2022-08-08 or later\",\n",
    "    df[\"donation_date\"],\n",
    ")"
   ]
  },
  {
   "cell_type": "markdown",
   "id": "c677ac86-f4ec-4b90-8bf9-4ffafb7982b8",
   "metadata": {},
   "source": [
    "#### Summarize donations by our categories"
   ]
  },
  {
   "cell_type": "code",
   "execution_count": 23,
   "id": "e28c2ac8-2452-4834-a9fa-1166bd1b7b62",
   "metadata": {},
   "outputs": [],
   "source": [
    "dates = (\n",
    "    df.groupby([\"donation_date\"])\n",
    "    .agg({\"donation_id\": \"count\", \"donation_amount\": sum})\n",
    "    .reset_index()\n",
    ").rename(columns={\"donation_id\": \"count\", \"donation_amount\": \"sum\"})"
   ]
  },
  {
   "cell_type": "code",
   "execution_count": 24,
   "id": "e222ece2-d1ee-4994-80f4-fb044f77b869",
   "metadata": {},
   "outputs": [
    {
     "data": {
      "text/html": [
       "<div>\n",
       "<style scoped>\n",
       "    .dataframe tbody tr th:only-of-type {\n",
       "        vertical-align: middle;\n",
       "    }\n",
       "\n",
       "    .dataframe tbody tr th {\n",
       "        vertical-align: top;\n",
       "    }\n",
       "\n",
       "    .dataframe thead th {\n",
       "        text-align: right;\n",
       "    }\n",
       "</style>\n",
       "<table border=\"1\" class=\"dataframe\">\n",
       "  <thead>\n",
       "    <tr style=\"text-align: right;\">\n",
       "      <th></th>\n",
       "      <th>donation_date</th>\n",
       "      <th>count</th>\n",
       "      <th>sum</th>\n",
       "    </tr>\n",
       "  </thead>\n",
       "  <tbody>\n",
       "    <tr>\n",
       "      <th>0</th>\n",
       "      <td>2022-02-02</td>\n",
       "      <td>61</td>\n",
       "      <td>3348.0</td>\n",
       "    </tr>\n",
       "    <tr>\n",
       "      <th>1</th>\n",
       "      <td>2022-02-03</td>\n",
       "      <td>112</td>\n",
       "      <td>6651.5</td>\n",
       "    </tr>\n",
       "    <tr>\n",
       "      <th>2</th>\n",
       "      <td>2022-02-04</td>\n",
       "      <td>115</td>\n",
       "      <td>5424.0</td>\n",
       "    </tr>\n",
       "    <tr>\n",
       "      <th>3</th>\n",
       "      <td>2022-02-05</td>\n",
       "      <td>2965</td>\n",
       "      <td>311979.0</td>\n",
       "    </tr>\n",
       "    <tr>\n",
       "      <th>4</th>\n",
       "      <td>2022-02-06</td>\n",
       "      <td>17561</td>\n",
       "      <td>1923301.0</td>\n",
       "    </tr>\n",
       "    <tr>\n",
       "      <th>5</th>\n",
       "      <td>2022-02-07</td>\n",
       "      <td>32499</td>\n",
       "      <td>2793103.0</td>\n",
       "    </tr>\n",
       "    <tr>\n",
       "      <th>6</th>\n",
       "      <td>2022-08-08 or later</td>\n",
       "      <td>37280</td>\n",
       "      <td>3170201.0</td>\n",
       "    </tr>\n",
       "  </tbody>\n",
       "</table>\n",
       "</div>"
      ],
      "text/plain": [
       "         donation_date  count        sum\n",
       "0           2022-02-02     61     3348.0\n",
       "1           2022-02-03    112     6651.5\n",
       "2           2022-02-04    115     5424.0\n",
       "3           2022-02-05   2965   311979.0\n",
       "4           2022-02-06  17561  1923301.0\n",
       "5           2022-02-07  32499  2793103.0\n",
       "6  2022-08-08 or later  37280  3170201.0"
      ]
     },
     "execution_count": 24,
     "metadata": {},
     "output_type": "execute_result"
    }
   ],
   "source": [
    "dates"
   ]
  },
  {
   "cell_type": "markdown",
   "id": "c8d345f3-aa6d-4974-acbc-b1052e3a8677",
   "metadata": {},
   "source": [
    "#### Export the dates"
   ]
  },
  {
   "cell_type": "code",
   "execution_count": 25,
   "id": "72c1c6aa-f0bf-4d1d-8357-6e559aba3f02",
   "metadata": {},
   "outputs": [],
   "source": [
    "dates.to_csv(\"data/processed/dates.csv\", index=False)"
   ]
  },
  {
   "cell_type": "markdown",
   "id": "438f4a5c-4452-4fd6-84d3-4a1dbebe93cf",
   "metadata": {},
   "source": [
    "---"
   ]
  },
  {
   "cell_type": "markdown",
   "id": "d27f3168-e069-4f6c-927f-441dcc0db663",
   "metadata": {},
   "source": [
    "## Distribution"
   ]
  },
  {
   "cell_type": "code",
   "execution_count": 26,
   "id": "a673ea17-e0f6-424d-96d5-c394c3be11f4",
   "metadata": {},
   "outputs": [
    {
     "data": {
      "text/plain": [
       "40"
      ]
     },
     "execution_count": 26,
     "metadata": {},
     "output_type": "execute_result"
    }
   ],
   "source": [
    "len(df[df[\"donation_amount\"] >= 5000])"
   ]
  },
  {
   "cell_type": "code",
   "execution_count": 27,
   "id": "9182e90c-28f8-453f-8f59-5a7fb1dfe7b0",
   "metadata": {},
   "outputs": [
    {
     "data": {
      "text/html": [
       "<div>\n",
       "<style scoped>\n",
       "    .dataframe tbody tr th:only-of-type {\n",
       "        vertical-align: middle;\n",
       "    }\n",
       "\n",
       "    .dataframe tbody tr th {\n",
       "        vertical-align: top;\n",
       "    }\n",
       "\n",
       "    .dataframe thead th {\n",
       "        text-align: right;\n",
       "    }\n",
       "</style>\n",
       "<table border=\"1\" class=\"dataframe\">\n",
       "  <thead>\n",
       "    <tr style=\"text-align: right;\">\n",
       "      <th></th>\n",
       "      <th>donation_id</th>\n",
       "      <th>donation_amount</th>\n",
       "      <th>donation_comment</th>\n",
       "      <th>donation_name</th>\n",
       "      <th>donation_date</th>\n",
       "      <th>mentions_14</th>\n",
       "      <th>mentions_mandate</th>\n",
       "      <th>mentions_holdtheline</th>\n",
       "      <th>mentions_brandon</th>\n",
       "      <th>mentions_wwg1wga</th>\n",
       "      <th>mentions_trump</th>\n",
       "      <th>mentions_honk</th>\n",
       "      <th>mentions_freedom</th>\n",
       "      <th>mentions_tyranny</th>\n",
       "      <th>mentions_biden</th>\n",
       "      <th>mentions_trudeau</th>\n",
       "    </tr>\n",
       "  </thead>\n",
       "  <tbody>\n",
       "    <tr>\n",
       "      <th>6602</th>\n",
       "      <td>470849</td>\n",
       "      <td>5000.0</td>\n",
       "      <td>Thank you truckers, farmers!!</td>\n",
       "      <td></td>\n",
       "      <td>2022-02-05</td>\n",
       "      <td>False</td>\n",
       "      <td>False</td>\n",
       "      <td>False</td>\n",
       "      <td>False</td>\n",
       "      <td>False</td>\n",
       "      <td>False</td>\n",
       "      <td>False</td>\n",
       "      <td>False</td>\n",
       "      <td>False</td>\n",
       "      <td>False</td>\n",
       "      <td>False</td>\n",
       "    </tr>\n",
       "    <tr>\n",
       "      <th>104800</th>\n",
       "      <td>541321</td>\n",
       "      <td>5000.0</td>\n",
       "      <td>Please hold the line. You are fighting for all of our freedoms.</td>\n",
       "      <td>Kelly Gave</td>\n",
       "      <td>2022-08-08 or later</td>\n",
       "      <td>False</td>\n",
       "      <td>False</td>\n",
       "      <td>True</td>\n",
       "      <td>False</td>\n",
       "      <td>False</td>\n",
       "      <td>False</td>\n",
       "      <td>False</td>\n",
       "      <td>True</td>\n",
       "      <td>False</td>\n",
       "      <td>False</td>\n",
       "      <td>False</td>\n",
       "    </tr>\n",
       "    <tr>\n",
       "      <th>103898</th>\n",
       "      <td>561191</td>\n",
       "      <td>5000.0</td>\n",
       "      <td></td>\n",
       "      <td>Gian DelZotto</td>\n",
       "      <td>2022-08-08 or later</td>\n",
       "      <td>False</td>\n",
       "      <td>False</td>\n",
       "      <td>False</td>\n",
       "      <td>False</td>\n",
       "      <td>False</td>\n",
       "      <td>False</td>\n",
       "      <td>False</td>\n",
       "      <td>False</td>\n",
       "      <td>False</td>\n",
       "      <td>False</td>\n",
       "      <td>False</td>\n",
       "    </tr>\n",
       "    <tr>\n",
       "      <th>102610</th>\n",
       "      <td>572270</td>\n",
       "      <td>5000.0</td>\n",
       "      <td>Thank you to all you fighters for giving your time and energy to hold goverments accountable.  Keep up the good fight.</td>\n",
       "      <td>swamp donkey oilfield</td>\n",
       "      <td>2022-08-08 or later</td>\n",
       "      <td>False</td>\n",
       "      <td>False</td>\n",
       "      <td>False</td>\n",
       "      <td>False</td>\n",
       "      <td>False</td>\n",
       "      <td>False</td>\n",
       "      <td>False</td>\n",
       "      <td>False</td>\n",
       "      <td>False</td>\n",
       "      <td>False</td>\n",
       "      <td>False</td>\n",
       "    </tr>\n",
       "    <tr>\n",
       "      <th>96921</th>\n",
       "      <td>542948</td>\n",
       "      <td>5000.0</td>\n",
       "      <td>The government won't meet with you because this isn't about science. Criminals don't like to confess crimes, and corrupt government won't ever admit its true intent. Thank you for insisting on your freedom, the entire world stands behind you.</td>\n",
       "      <td>Breez</td>\n",
       "      <td>2022-08-08 or later</td>\n",
       "      <td>False</td>\n",
       "      <td>False</td>\n",
       "      <td>False</td>\n",
       "      <td>False</td>\n",
       "      <td>False</td>\n",
       "      <td>False</td>\n",
       "      <td>False</td>\n",
       "      <td>True</td>\n",
       "      <td>False</td>\n",
       "      <td>False</td>\n",
       "      <td>False</td>\n",
       "    </tr>\n",
       "  </tbody>\n",
       "</table>\n",
       "</div>"
      ],
      "text/plain": [
       "        donation_id  donation_amount  \\\n",
       "6602         470849           5000.0   \n",
       "104800       541321           5000.0   \n",
       "103898       561191           5000.0   \n",
       "102610       572270           5000.0   \n",
       "96921        542948           5000.0   \n",
       "\n",
       "                                                                                                                                                                                                                                           donation_comment  \\\n",
       "6602                                                                                                                                                                                                                          Thank you truckers, farmers!!   \n",
       "104800                                                                                                                                                                                      Please hold the line. You are fighting for all of our freedoms.   \n",
       "103898                                                                                                                                                                                                                                                        \n",
       "102610                                                                                                                               Thank you to all you fighters for giving your time and energy to hold goverments accountable.  Keep up the good fight.   \n",
       "96921   The government won't meet with you because this isn't about science. Criminals don't like to confess crimes, and corrupt government won't ever admit its true intent. Thank you for insisting on your freedom, the entire world stands behind you.    \n",
       "\n",
       "                donation_name        donation_date  mentions_14  \\\n",
       "6602                                    2022-02-05        False   \n",
       "104800             Kelly Gave  2022-08-08 or later        False   \n",
       "103898          Gian DelZotto  2022-08-08 or later        False   \n",
       "102610  swamp donkey oilfield  2022-08-08 or later        False   \n",
       "96921                   Breez  2022-08-08 or later        False   \n",
       "\n",
       "        mentions_mandate  mentions_holdtheline  mentions_brandon  \\\n",
       "6602               False                 False             False   \n",
       "104800             False                  True             False   \n",
       "103898             False                 False             False   \n",
       "102610             False                 False             False   \n",
       "96921              False                 False             False   \n",
       "\n",
       "        mentions_wwg1wga  mentions_trump  mentions_honk  mentions_freedom  \\\n",
       "6602               False           False          False             False   \n",
       "104800             False           False          False              True   \n",
       "103898             False           False          False             False   \n",
       "102610             False           False          False             False   \n",
       "96921              False           False          False              True   \n",
       "\n",
       "        mentions_tyranny  mentions_biden  mentions_trudeau  \n",
       "6602               False           False             False  \n",
       "104800             False           False             False  \n",
       "103898             False           False             False  \n",
       "102610             False           False             False  \n",
       "96921              False           False             False  "
      ]
     },
     "execution_count": 27,
     "metadata": {},
     "output_type": "execute_result"
    }
   ],
   "source": [
    "df[df[\"donation_amount\"] >= 5000].sort_values(\"donation_amount\").head()"
   ]
  },
  {
   "cell_type": "code",
   "execution_count": null,
   "id": "9b57f958-a79f-4694-a66a-d0974b722e84",
   "metadata": {},
   "outputs": [],
   "source": []
  },
  {
   "cell_type": "markdown",
   "id": "16fde2cb-39b8-4cb5-9987-ea3971904e14",
   "metadata": {},
   "source": [
    "---"
   ]
  },
  {
   "cell_type": "code",
   "execution_count": 28,
   "id": "b6f199eb-631a-4db5-9c7d-091256640ca8",
   "metadata": {},
   "outputs": [],
   "source": [
    "df[\"donation_name\"] = df[\"donation_name\"].str.strip().str.lower()"
   ]
  },
  {
   "cell_type": "code",
   "execution_count": null,
   "id": "1830d41c-ea3d-4b94-abce-67c24b24ecc2",
   "metadata": {},
   "outputs": [],
   "source": []
  },
  {
   "cell_type": "code",
   "execution_count": 29,
   "id": "976adae6-0966-4a43-8c34-282c470f60a5",
   "metadata": {},
   "outputs": [
    {
     "data": {
      "text/plain": [
       "donation_id                                  488558\n",
       "donation_amount                            215000.0\n",
       "donation_comment                                   \n",
       "donation_name           processed but not recorded.\n",
       "donation_date                            2022-02-06\n",
       "mentions_14                                   False\n",
       "mentions_mandate                              False\n",
       "mentions_holdtheline                          False\n",
       "mentions_brandon                              False\n",
       "mentions_wwg1wga                              False\n",
       "mentions_trump                                False\n",
       "mentions_honk                                 False\n",
       "mentions_freedom                              False\n",
       "mentions_tyranny                              False\n",
       "mentions_biden                                False\n",
       "mentions_trudeau                              False\n",
       "Name: 24283, dtype: object"
      ]
     },
     "execution_count": 29,
     "metadata": {},
     "output_type": "execute_result"
    }
   ],
   "source": [
    "df[df[\"donation_name\"].str.contains(\"processed but not\")].iloc[0]"
   ]
  },
  {
   "cell_type": "markdown",
   "id": "a6146832-183a-47ce-a909-9aa925784624",
   "metadata": {},
   "source": [
    "### Group to count and sum donations by donor name"
   ]
  },
  {
   "cell_type": "code",
   "execution_count": 30,
   "id": "614de335-b534-45d1-a09e-4299f5699a2f",
   "metadata": {},
   "outputs": [
    {
     "data": {
      "text/html": [
       "<div>\n",
       "<style scoped>\n",
       "    .dataframe tbody tr th:only-of-type {\n",
       "        vertical-align: middle;\n",
       "    }\n",
       "\n",
       "    .dataframe tbody tr th {\n",
       "        vertical-align: top;\n",
       "    }\n",
       "\n",
       "    .dataframe thead tr th {\n",
       "        text-align: left;\n",
       "    }\n",
       "</style>\n",
       "<table border=\"1\" class=\"dataframe\">\n",
       "  <thead>\n",
       "    <tr>\n",
       "      <th></th>\n",
       "      <th>donation_name</th>\n",
       "      <th colspan=\"2\" halign=\"left\">donation_amount</th>\n",
       "    </tr>\n",
       "    <tr>\n",
       "      <th></th>\n",
       "      <th></th>\n",
       "      <th>size</th>\n",
       "      <th>sum</th>\n",
       "    </tr>\n",
       "  </thead>\n",
       "  <tbody>\n",
       "    <tr>\n",
       "      <th>0</th>\n",
       "      <td></td>\n",
       "      <td>45832</td>\n",
       "      <td>3784046.5</td>\n",
       "    </tr>\n",
       "    <tr>\n",
       "      <th>26264</th>\n",
       "      <td>processed but not recorded.</td>\n",
       "      <td>1</td>\n",
       "      <td>215000.0</td>\n",
       "    </tr>\n",
       "    <tr>\n",
       "      <th>32401</th>\n",
       "      <td>thomas m. siebel</td>\n",
       "      <td>1</td>\n",
       "      <td>90000.0</td>\n",
       "    </tr>\n",
       "    <tr>\n",
       "      <th>9397</th>\n",
       "      <td>easy kleen pressure systems ltd</td>\n",
       "      <td>1</td>\n",
       "      <td>75000.0</td>\n",
       "    </tr>\n",
       "    <tr>\n",
       "      <th>1741</th>\n",
       "      <td>anonymous</td>\n",
       "      <td>535</td>\n",
       "      <td>45606.0</td>\n",
       "    </tr>\n",
       "    <tr>\n",
       "      <th>10927</th>\n",
       "      <td>freedom</td>\n",
       "      <td>353</td>\n",
       "      <td>28622.0</td>\n",
       "    </tr>\n",
       "    <tr>\n",
       "      <th>13403</th>\n",
       "      <td>holden and carey rhodes</td>\n",
       "      <td>1</td>\n",
       "      <td>25000.0</td>\n",
       "    </tr>\n",
       "    <tr>\n",
       "      <th>34990</th>\n",
       "      <td>www the range langley com</td>\n",
       "      <td>1</td>\n",
       "      <td>18000.0</td>\n",
       "    </tr>\n",
       "    <tr>\n",
       "      <th>1083</th>\n",
       "      <td>american cryptocurrency compatriot</td>\n",
       "      <td>1</td>\n",
       "      <td>17760.0</td>\n",
       "    </tr>\n",
       "    <tr>\n",
       "      <th>11111</th>\n",
       "      <td>freedom lover</td>\n",
       "      <td>89</td>\n",
       "      <td>15576.0</td>\n",
       "    </tr>\n",
       "    <tr>\n",
       "      <th>10967</th>\n",
       "      <td>freedom convoy</td>\n",
       "      <td>103</td>\n",
       "      <td>11658.0</td>\n",
       "    </tr>\n",
       "    <tr>\n",
       "      <th>13461</th>\n",
       "      <td>honk honk</td>\n",
       "      <td>58</td>\n",
       "      <td>9640.0</td>\n",
       "    </tr>\n",
       "    <tr>\n",
       "      <th>26043</th>\n",
       "      <td>pierre elite trudo blackface</td>\n",
       "      <td>1</td>\n",
       "      <td>9000.0</td>\n",
       "    </tr>\n",
       "    <tr>\n",
       "      <th>17465</th>\n",
       "      <td>justin trudeau</td>\n",
       "      <td>119</td>\n",
       "      <td>8421.0</td>\n",
       "    </tr>\n",
       "    <tr>\n",
       "      <th>10693</th>\n",
       "      <td>francis lepine</td>\n",
       "      <td>1</td>\n",
       "      <td>7000.0</td>\n",
       "    </tr>\n",
       "    <tr>\n",
       "      <th>16297</th>\n",
       "      <td>john</td>\n",
       "      <td>62</td>\n",
       "      <td>6209.0</td>\n",
       "    </tr>\n",
       "    <tr>\n",
       "      <th>8299</th>\n",
       "      <td>derek woryn</td>\n",
       "      <td>2</td>\n",
       "      <td>5500.0</td>\n",
       "    </tr>\n",
       "    <tr>\n",
       "      <th>3982</th>\n",
       "      <td>broalbexpress</td>\n",
       "      <td>1</td>\n",
       "      <td>5500.0</td>\n",
       "    </tr>\n",
       "    <tr>\n",
       "      <th>1241</th>\n",
       "      <td>and we know</td>\n",
       "      <td>1</td>\n",
       "      <td>5500.0</td>\n",
       "    </tr>\n",
       "    <tr>\n",
       "      <th>22542</th>\n",
       "      <td>michael</td>\n",
       "      <td>40</td>\n",
       "      <td>5083.0</td>\n",
       "    </tr>\n",
       "  </tbody>\n",
       "</table>\n",
       "</div>"
      ],
      "text/plain": [
       "                            donation_name donation_amount           \n",
       "                                                     size        sum\n",
       "0                                                   45832  3784046.5\n",
       "26264         processed but not recorded.               1   215000.0\n",
       "32401                    thomas m. siebel               1    90000.0\n",
       "9397      easy kleen pressure systems ltd               1    75000.0\n",
       "1741                            anonymous             535    45606.0\n",
       "10927                             freedom             353    28622.0\n",
       "13403             holden and carey rhodes               1    25000.0\n",
       "34990           www the range langley com               1    18000.0\n",
       "1083   american cryptocurrency compatriot               1    17760.0\n",
       "11111                       freedom lover              89    15576.0\n",
       "10967                      freedom convoy             103    11658.0\n",
       "13461                           honk honk              58     9640.0\n",
       "26043        pierre elite trudo blackface               1     9000.0\n",
       "17465                      justin trudeau             119     8421.0\n",
       "10693                      francis lepine               1     7000.0\n",
       "16297                                john              62     6209.0\n",
       "8299                          derek woryn               2     5500.0\n",
       "3982                        broalbexpress               1     5500.0\n",
       "1241                          and we know               1     5500.0\n",
       "22542                             michael              40     5083.0"
      ]
     },
     "execution_count": 30,
     "metadata": {},
     "output_type": "execute_result"
    }
   ],
   "source": [
    "df.groupby([\"donation_name\"]).agg(\n",
    "    {\"donation_amount\": [np.size, np.sum]}\n",
    ").reset_index().sort_values((\"donation_amount\", \"sum\"), ascending=False).head(20)"
   ]
  },
  {
   "cell_type": "code",
   "execution_count": null,
   "id": "171fef93-0ed4-47e8-b950-bc20046e8816",
   "metadata": {},
   "outputs": [],
   "source": []
  },
  {
   "cell_type": "code",
   "execution_count": 31,
   "id": "ba882cdb-ce3b-4a57-b283-ebb8109b4937",
   "metadata": {},
   "outputs": [],
   "source": [
    "### How does this compare to other campaigns"
   ]
  },
  {
   "cell_type": "code",
   "execution_count": null,
   "id": "90deba4e-91fb-4cf6-9c9e-1be1509f1fbb",
   "metadata": {},
   "outputs": [],
   "source": []
  },
  {
   "cell_type": "code",
   "execution_count": 32,
   "id": "bdb8a479-f667-4280-a1da-2135a00b0a91",
   "metadata": {},
   "outputs": [
    {
     "data": {
      "text/html": [
       "<div>\n",
       "<style scoped>\n",
       "    .dataframe tbody tr th:only-of-type {\n",
       "        vertical-align: middle;\n",
       "    }\n",
       "\n",
       "    .dataframe tbody tr th {\n",
       "        vertical-align: top;\n",
       "    }\n",
       "\n",
       "    .dataframe thead tr th {\n",
       "        text-align: left;\n",
       "    }\n",
       "</style>\n",
       "<table border=\"1\" class=\"dataframe\">\n",
       "  <thead>\n",
       "    <tr>\n",
       "      <th></th>\n",
       "      <th>donation_name</th>\n",
       "      <th colspan=\"2\" halign=\"left\">donation_amount</th>\n",
       "    </tr>\n",
       "    <tr>\n",
       "      <th></th>\n",
       "      <th></th>\n",
       "      <th>size</th>\n",
       "      <th>sum</th>\n",
       "    </tr>\n",
       "  </thead>\n",
       "  <tbody>\n",
       "    <tr>\n",
       "      <th>0</th>\n",
       "      <td></td>\n",
       "      <td>45832</td>\n",
       "      <td>3784046.5</td>\n",
       "    </tr>\n",
       "    <tr>\n",
       "      <th>1741</th>\n",
       "      <td>anonymous</td>\n",
       "      <td>535</td>\n",
       "      <td>45606.0</td>\n",
       "    </tr>\n",
       "    <tr>\n",
       "      <th>10927</th>\n",
       "      <td>freedom</td>\n",
       "      <td>353</td>\n",
       "      <td>28622.0</td>\n",
       "    </tr>\n",
       "    <tr>\n",
       "      <th>17465</th>\n",
       "      <td>justin trudeau</td>\n",
       "      <td>119</td>\n",
       "      <td>8421.0</td>\n",
       "    </tr>\n",
       "    <tr>\n",
       "      <th>10967</th>\n",
       "      <td>freedom convoy</td>\n",
       "      <td>103</td>\n",
       "      <td>11658.0</td>\n",
       "    </tr>\n",
       "    <tr>\n",
       "      <th>11111</th>\n",
       "      <td>freedom lover</td>\n",
       "      <td>89</td>\n",
       "      <td>15576.0</td>\n",
       "    </tr>\n",
       "    <tr>\n",
       "      <th>30429</th>\n",
       "      <td>steve</td>\n",
       "      <td>78</td>\n",
       "      <td>4773.0</td>\n",
       "    </tr>\n",
       "    <tr>\n",
       "      <th>22954</th>\n",
       "      <td>mike</td>\n",
       "      <td>69</td>\n",
       "      <td>4799.0</td>\n",
       "    </tr>\n",
       "    <tr>\n",
       "      <th>7461</th>\n",
       "      <td>david</td>\n",
       "      <td>64</td>\n",
       "      <td>4024.0</td>\n",
       "    </tr>\n",
       "    <tr>\n",
       "      <th>16297</th>\n",
       "      <td>john</td>\n",
       "      <td>62</td>\n",
       "      <td>6209.0</td>\n",
       "    </tr>\n",
       "    <tr>\n",
       "      <th>13461</th>\n",
       "      <td>honk honk</td>\n",
       "      <td>58</td>\n",
       "      <td>9640.0</td>\n",
       "    </tr>\n",
       "    <tr>\n",
       "      <th>5304</th>\n",
       "      <td>chris</td>\n",
       "      <td>53</td>\n",
       "      <td>3526.0</td>\n",
       "    </tr>\n",
       "    <tr>\n",
       "      <th>21456</th>\n",
       "      <td>mark</td>\n",
       "      <td>53</td>\n",
       "      <td>2727.0</td>\n",
       "    </tr>\n",
       "    <tr>\n",
       "      <th>19752</th>\n",
       "      <td>lets go brandon</td>\n",
       "      <td>53</td>\n",
       "      <td>3141.0</td>\n",
       "    </tr>\n",
       "    <tr>\n",
       "      <th>10990</th>\n",
       "      <td>freedom fighter</td>\n",
       "      <td>46</td>\n",
       "      <td>3835.0</td>\n",
       "    </tr>\n",
       "    <tr>\n",
       "      <th>18459</th>\n",
       "      <td>kevin</td>\n",
       "      <td>42</td>\n",
       "      <td>2465.0</td>\n",
       "    </tr>\n",
       "    <tr>\n",
       "      <th>1724</th>\n",
       "      <td>anon</td>\n",
       "      <td>41</td>\n",
       "      <td>2005.0</td>\n",
       "    </tr>\n",
       "    <tr>\n",
       "      <th>22542</th>\n",
       "      <td>michael</td>\n",
       "      <td>40</td>\n",
       "      <td>5083.0</td>\n",
       "    </tr>\n",
       "    <tr>\n",
       "      <th>15708</th>\n",
       "      <td>jim</td>\n",
       "      <td>40</td>\n",
       "      <td>3585.0</td>\n",
       "    </tr>\n",
       "    <tr>\n",
       "      <th>26295</th>\n",
       "      <td>proud canadian</td>\n",
       "      <td>38</td>\n",
       "      <td>4795.0</td>\n",
       "    </tr>\n",
       "  </tbody>\n",
       "</table>\n",
       "</div>"
      ],
      "text/plain": [
       "         donation_name donation_amount           \n",
       "                                  size        sum\n",
       "0                                45832  3784046.5\n",
       "1741         anonymous             535    45606.0\n",
       "10927          freedom             353    28622.0\n",
       "17465   justin trudeau             119     8421.0\n",
       "10967   freedom convoy             103    11658.0\n",
       "11111    freedom lover              89    15576.0\n",
       "30429            steve              78     4773.0\n",
       "22954             mike              69     4799.0\n",
       "7461             david              64     4024.0\n",
       "16297             john              62     6209.0\n",
       "13461        honk honk              58     9640.0\n",
       "5304             chris              53     3526.0\n",
       "21456             mark              53     2727.0\n",
       "19752  lets go brandon              53     3141.0\n",
       "10990  freedom fighter              46     3835.0\n",
       "18459            kevin              42     2465.0\n",
       "1724              anon              41     2005.0\n",
       "22542          michael              40     5083.0\n",
       "15708              jim              40     3585.0\n",
       "26295   proud canadian              38     4795.0"
      ]
     },
     "execution_count": 32,
     "metadata": {},
     "output_type": "execute_result"
    }
   ],
   "source": [
    "df.groupby([\"donation_name\"]).agg(\n",
    "    {\"donation_amount\": [np.size, np.sum]}\n",
    ").reset_index().sort_values((\"donation_amount\", \"size\"), ascending=False).head(20)"
   ]
  },
  {
   "cell_type": "code",
   "execution_count": 33,
   "id": "21471d95-d909-4052-825a-4a27ee5fec1f",
   "metadata": {},
   "outputs": [],
   "source": [
    "# 100 biggest donations\n",
    "# 100 first donations"
   ]
  },
  {
   "cell_type": "code",
   "execution_count": 34,
   "id": "18b067ed-8fe1-41fd-a7ec-e7815c921975",
   "metadata": {},
   "outputs": [],
   "source": [
    "df.sort_values(\"donation_amount\", ascending=False).head(100).to_csv(\n",
    "    \"data/processed/100_largest_donations.csv\", index=False\n",
    ")"
   ]
  },
  {
   "cell_type": "code",
   "execution_count": 35,
   "id": "a815b450-4a33-4a70-be21-3642e51244bf",
   "metadata": {},
   "outputs": [],
   "source": [
    "df.sort_values(\"donation_date\", ascending=True).head(100).to_csv(\n",
    "    \"data/processed/100_earliest_donations.csv\", index=False\n",
    ")"
   ]
  },
  {
   "cell_type": "code",
   "execution_count": 36,
   "id": "57af3532-7ebe-411d-8a64-6c2f657b5648",
   "metadata": {},
   "outputs": [],
   "source": [
    "df.sort_values(\"donation_date\", ascending=True).to_csv(\n",
    "    \"data/processed/all_donations.csv\", index=False\n",
    ")"
   ]
  },
  {
   "cell_type": "code",
   "execution_count": 37,
   "id": "7c6ff2b3-016a-4036-9303-a60e9373acb0",
   "metadata": {},
   "outputs": [],
   "source": [
    "weird_entries = [\n",
    "    481566,\n",
    "    474249,\n",
    "    492432,\n",
    "    471986,\n",
    "    507120,\n",
    "    499386,\n",
    "    498521,\n",
    "    484448,\n",
    "    493519,\n",
    "    476071,\n",
    "    521675,\n",
    "    516745,\n",
    "]"
   ]
  },
  {
   "cell_type": "code",
   "execution_count": 38,
   "id": "157b5dd8-53aa-4685-a6dc-7c8ee1bdd033",
   "metadata": {},
   "outputs": [
    {
     "data": {
      "text/html": [
       "<div>\n",
       "<style scoped>\n",
       "    .dataframe tbody tr th:only-of-type {\n",
       "        vertical-align: middle;\n",
       "    }\n",
       "\n",
       "    .dataframe tbody tr th {\n",
       "        vertical-align: top;\n",
       "    }\n",
       "\n",
       "    .dataframe thead th {\n",
       "        text-align: right;\n",
       "    }\n",
       "</style>\n",
       "<table border=\"1\" class=\"dataframe\">\n",
       "  <thead>\n",
       "    <tr style=\"text-align: right;\">\n",
       "      <th></th>\n",
       "      <th>donation_id</th>\n",
       "      <th>donation_amount</th>\n",
       "      <th>donation_comment</th>\n",
       "      <th>donation_name</th>\n",
       "      <th>donation_date</th>\n",
       "      <th>mentions_14</th>\n",
       "      <th>mentions_mandate</th>\n",
       "      <th>mentions_holdtheline</th>\n",
       "      <th>mentions_brandon</th>\n",
       "      <th>mentions_wwg1wga</th>\n",
       "      <th>mentions_trump</th>\n",
       "      <th>mentions_honk</th>\n",
       "      <th>mentions_freedom</th>\n",
       "      <th>mentions_tyranny</th>\n",
       "      <th>mentions_biden</th>\n",
       "      <th>mentions_trudeau</th>\n",
       "    </tr>\n",
       "  </thead>\n",
       "  <tbody>\n",
       "    <tr>\n",
       "      <th>7725</th>\n",
       "      <td>471986</td>\n",
       "      <td>100.0</td>\n",
       "      <td>Stand strong and hold the line truckers!</td>\n",
       "      <td>💗fromwi</td>\n",
       "      <td>2022-02-05</td>\n",
       "      <td>False</td>\n",
       "      <td>False</td>\n",
       "      <td>True</td>\n",
       "      <td>False</td>\n",
       "      <td>False</td>\n",
       "      <td>False</td>\n",
       "      <td>False</td>\n",
       "      <td>False</td>\n",
       "      <td>False</td>\n",
       "      <td>False</td>\n",
       "      <td>False</td>\n",
       "    </tr>\n",
       "    <tr>\n",
       "      <th>10002</th>\n",
       "      <td>474249</td>\n",
       "      <td>50.0</td>\n",
       "      <td>God Speed all you brave and wonderful souls</td>\n",
       "      <td>🚛 californians supporting freedom truckers  🚛</td>\n",
       "      <td>2022-02-06</td>\n",
       "      <td>False</td>\n",
       "      <td>False</td>\n",
       "      <td>False</td>\n",
       "      <td>False</td>\n",
       "      <td>False</td>\n",
       "      <td>False</td>\n",
       "      <td>False</td>\n",
       "      <td>False</td>\n",
       "      <td>False</td>\n",
       "      <td>False</td>\n",
       "      <td>False</td>\n",
       "    </tr>\n",
       "    <tr>\n",
       "      <th>11820</th>\n",
       "      <td>476071</td>\n",
       "      <td>50.0</td>\n",
       "      <td>Thanks!!</td>\n",
       "      <td>🇨🇦🇺🇸❤️</td>\n",
       "      <td>2022-02-06</td>\n",
       "      <td>False</td>\n",
       "      <td>False</td>\n",
       "      <td>False</td>\n",
       "      <td>False</td>\n",
       "      <td>False</td>\n",
       "      <td>False</td>\n",
       "      <td>False</td>\n",
       "      <td>False</td>\n",
       "      <td>False</td>\n",
       "      <td>False</td>\n",
       "      <td>False</td>\n",
       "    </tr>\n",
       "    <tr>\n",
       "      <th>17305</th>\n",
       "      <td>481566</td>\n",
       "      <td>25.0</td>\n",
       "      <td>May the Lord bless and keep you all safe.</td>\n",
       "      <td>🚛🚛🚛🚛🚛honkhonk</td>\n",
       "      <td>2022-02-06</td>\n",
       "      <td>False</td>\n",
       "      <td>False</td>\n",
       "      <td>False</td>\n",
       "      <td>False</td>\n",
       "      <td>False</td>\n",
       "      <td>False</td>\n",
       "      <td>False</td>\n",
       "      <td>False</td>\n",
       "      <td>False</td>\n",
       "      <td>False</td>\n",
       "      <td>False</td>\n",
       "    </tr>\n",
       "    <tr>\n",
       "      <th>20173</th>\n",
       "      <td>484448</td>\n",
       "      <td>49.0</td>\n",
       "      <td>Thank you for waking up the world!!! Keep fighting the good fight and then bring this down to the USA!</td>\n",
       "      <td>🇺🇲❤🇨🇦</td>\n",
       "      <td>2022-02-06</td>\n",
       "      <td>False</td>\n",
       "      <td>False</td>\n",
       "      <td>False</td>\n",
       "      <td>False</td>\n",
       "      <td>False</td>\n",
       "      <td>False</td>\n",
       "      <td>False</td>\n",
       "      <td>False</td>\n",
       "      <td>False</td>\n",
       "      <td>False</td>\n",
       "      <td>False</td>\n",
       "    </tr>\n",
       "    <tr>\n",
       "      <th>28169</th>\n",
       "      <td>492432</td>\n",
       "      <td>10.0</td>\n",
       "      <td></td>\n",
       "      <td>🚛  🇺🇸 🇨🇦 🙏🏽</td>\n",
       "      <td>2022-02-06</td>\n",
       "      <td>False</td>\n",
       "      <td>False</td>\n",
       "      <td>False</td>\n",
       "      <td>False</td>\n",
       "      <td>False</td>\n",
       "      <td>False</td>\n",
       "      <td>False</td>\n",
       "      <td>False</td>\n",
       "      <td>False</td>\n",
       "      <td>False</td>\n",
       "      <td>False</td>\n",
       "    </tr>\n",
       "    <tr>\n",
       "      <th>29262</th>\n",
       "      <td>493519</td>\n",
       "      <td>10.0</td>\n",
       "      <td>Freedom will prevail. Don't let up</td>\n",
       "      <td>🇺🇸 🤝 🇨🇦</td>\n",
       "      <td>2022-02-07</td>\n",
       "      <td>False</td>\n",
       "      <td>False</td>\n",
       "      <td>False</td>\n",
       "      <td>False</td>\n",
       "      <td>False</td>\n",
       "      <td>False</td>\n",
       "      <td>False</td>\n",
       "      <td>True</td>\n",
       "      <td>False</td>\n",
       "      <td>False</td>\n",
       "      <td>False</td>\n",
       "    </tr>\n",
       "    <tr>\n",
       "      <th>34260</th>\n",
       "      <td>498521</td>\n",
       "      <td>10.0</td>\n",
       "      <td>Thank you so much,please do not give up the fight.</td>\n",
       "      <td>🇺🇲donald trump🇺🇲</td>\n",
       "      <td>2022-02-07</td>\n",
       "      <td>False</td>\n",
       "      <td>False</td>\n",
       "      <td>False</td>\n",
       "      <td>False</td>\n",
       "      <td>False</td>\n",
       "      <td>False</td>\n",
       "      <td>False</td>\n",
       "      <td>False</td>\n",
       "      <td>False</td>\n",
       "      <td>False</td>\n",
       "      <td>False</td>\n",
       "    </tr>\n",
       "    <tr>\n",
       "      <th>35115</th>\n",
       "      <td>499386</td>\n",
       "      <td>50.0</td>\n",
       "      <td>Https://patriots.win\\r\\nHereistheevidence.com\\r\\nWarroom.org</td>\n",
       "      <td>🇺🇲trump won biden cheated🇨🇦</td>\n",
       "      <td>2022-02-07</td>\n",
       "      <td>False</td>\n",
       "      <td>False</td>\n",
       "      <td>False</td>\n",
       "      <td>False</td>\n",
       "      <td>False</td>\n",
       "      <td>False</td>\n",
       "      <td>False</td>\n",
       "      <td>False</td>\n",
       "      <td>False</td>\n",
       "      <td>False</td>\n",
       "      <td>False</td>\n",
       "    </tr>\n",
       "    <tr>\n",
       "      <th>42861</th>\n",
       "      <td>507120</td>\n",
       "      <td>20.0</td>\n",
       "      <td>GOD BLESS ALL OF YOU WHO STAND AGAINST TYRANNY. \\n</td>\n",
       "      <td>🇺🇲🇨🇦</td>\n",
       "      <td>2022-02-07</td>\n",
       "      <td>False</td>\n",
       "      <td>False</td>\n",
       "      <td>False</td>\n",
       "      <td>False</td>\n",
       "      <td>False</td>\n",
       "      <td>False</td>\n",
       "      <td>False</td>\n",
       "      <td>False</td>\n",
       "      <td>True</td>\n",
       "      <td>False</td>\n",
       "      <td>False</td>\n",
       "    </tr>\n",
       "    <tr>\n",
       "      <th>52476</th>\n",
       "      <td>516745</td>\n",
       "      <td>10.0</td>\n",
       "      <td>Thank you for being badass Freedom-loving Mother Truckers and standing up for our human rights and for freedom! Stay strong 💪 and hold the line Freedom Fighters! Us American Patriots got your 6! My thoughts and prayers are with you all. Us. 💕🚍🚍🚍💕</td>\n",
       "      <td>🦅lady khaos from the big co of america🗽</td>\n",
       "      <td>2022-02-07</td>\n",
       "      <td>False</td>\n",
       "      <td>False</td>\n",
       "      <td>True</td>\n",
       "      <td>False</td>\n",
       "      <td>False</td>\n",
       "      <td>False</td>\n",
       "      <td>False</td>\n",
       "      <td>True</td>\n",
       "      <td>False</td>\n",
       "      <td>False</td>\n",
       "      <td>False</td>\n",
       "    </tr>\n",
       "    <tr>\n",
       "      <th>57406</th>\n",
       "      <td>521675</td>\n",
       "      <td>150.0</td>\n",
       "      <td>HOLD THE LINE!  Thank you and God bless!</td>\n",
       "      <td>🇨🇦 michelle</td>\n",
       "      <td>2022-02-07</td>\n",
       "      <td>False</td>\n",
       "      <td>False</td>\n",
       "      <td>True</td>\n",
       "      <td>False</td>\n",
       "      <td>False</td>\n",
       "      <td>False</td>\n",
       "      <td>False</td>\n",
       "      <td>False</td>\n",
       "      <td>False</td>\n",
       "      <td>False</td>\n",
       "      <td>False</td>\n",
       "    </tr>\n",
       "  </tbody>\n",
       "</table>\n",
       "</div>"
      ],
      "text/plain": [
       "       donation_id  donation_amount  \\\n",
       "7725        471986            100.0   \n",
       "10002       474249             50.0   \n",
       "11820       476071             50.0   \n",
       "17305       481566             25.0   \n",
       "20173       484448             49.0   \n",
       "28169       492432             10.0   \n",
       "29262       493519             10.0   \n",
       "34260       498521             10.0   \n",
       "35115       499386             50.0   \n",
       "42861       507120             20.0   \n",
       "52476       516745             10.0   \n",
       "57406       521675            150.0   \n",
       "\n",
       "                                                                                                                                                                                                                                              donation_comment  \\\n",
       "7725                                                                                                                                                                                                                  Stand strong and hold the line truckers!   \n",
       "10002                                                                                                                                                                                                              God Speed all you brave and wonderful souls   \n",
       "11820                                                                                                                                                                                                                                                 Thanks!!   \n",
       "17305                                                                                                                                                                                                               May the Lord bless and keep you all safe.    \n",
       "20173                                                                                                                                                   Thank you for waking up the world!!! Keep fighting the good fight and then bring this down to the USA!   \n",
       "28169                                                                                                                                                                                                                                                            \n",
       "29262                                                                                                                                                                                                                       Freedom will prevail. Don't let up   \n",
       "34260                                                                                                                                                                                                       Thank you so much,please do not give up the fight.   \n",
       "35115                                                                                                                                                                                             Https://patriots.win\\r\\nHereistheevidence.com\\r\\nWarroom.org   \n",
       "42861                                                                                                                                                                                                       GOD BLESS ALL OF YOU WHO STAND AGAINST TYRANNY. \\n   \n",
       "52476  Thank you for being badass Freedom-loving Mother Truckers and standing up for our human rights and for freedom! Stay strong 💪 and hold the line Freedom Fighters! Us American Patriots got your 6! My thoughts and prayers are with you all. Us. 💕🚍🚍🚍💕    \n",
       "57406                                                                                                                                                                                                                 HOLD THE LINE!  Thank you and God bless!   \n",
       "\n",
       "                                       donation_name donation_date  \\\n",
       "7725                                         💗fromwi    2022-02-05   \n",
       "10002  🚛 californians supporting freedom truckers  🚛    2022-02-06   \n",
       "11820                                         🇨🇦🇺🇸❤️    2022-02-06   \n",
       "17305                                  🚛🚛🚛🚛🚛honkhonk    2022-02-06   \n",
       "20173                                          🇺🇲❤🇨🇦    2022-02-06   \n",
       "28169                                    🚛  🇺🇸 🇨🇦 🙏🏽    2022-02-06   \n",
       "29262                                        🇺🇸 🤝 🇨🇦    2022-02-07   \n",
       "34260                               🇺🇲donald trump🇺🇲    2022-02-07   \n",
       "35115                    🇺🇲trump won biden cheated🇨🇦    2022-02-07   \n",
       "42861                                           🇺🇲🇨🇦    2022-02-07   \n",
       "52476        🦅lady khaos from the big co of america🗽    2022-02-07   \n",
       "57406                                    🇨🇦 michelle    2022-02-07   \n",
       "\n",
       "       mentions_14  mentions_mandate  mentions_holdtheline  mentions_brandon  \\\n",
       "7725         False             False                  True             False   \n",
       "10002        False             False                 False             False   \n",
       "11820        False             False                 False             False   \n",
       "17305        False             False                 False             False   \n",
       "20173        False             False                 False             False   \n",
       "28169        False             False                 False             False   \n",
       "29262        False             False                 False             False   \n",
       "34260        False             False                 False             False   \n",
       "35115        False             False                 False             False   \n",
       "42861        False             False                 False             False   \n",
       "52476        False             False                  True             False   \n",
       "57406        False             False                  True             False   \n",
       "\n",
       "       mentions_wwg1wga  mentions_trump  mentions_honk  mentions_freedom  \\\n",
       "7725              False           False          False             False   \n",
       "10002             False           False          False             False   \n",
       "11820             False           False          False             False   \n",
       "17305             False           False          False             False   \n",
       "20173             False           False          False             False   \n",
       "28169             False           False          False             False   \n",
       "29262             False           False          False              True   \n",
       "34260             False           False          False             False   \n",
       "35115             False           False          False             False   \n",
       "42861             False           False          False             False   \n",
       "52476             False           False          False              True   \n",
       "57406             False           False          False             False   \n",
       "\n",
       "       mentions_tyranny  mentions_biden  mentions_trudeau  \n",
       "7725              False           False             False  \n",
       "10002             False           False             False  \n",
       "11820             False           False             False  \n",
       "17305             False           False             False  \n",
       "20173             False           False             False  \n",
       "28169             False           False             False  \n",
       "29262             False           False             False  \n",
       "34260             False           False             False  \n",
       "35115             False           False             False  \n",
       "42861              True           False             False  \n",
       "52476             False           False             False  \n",
       "57406             False           False             False  "
      ]
     },
     "execution_count": 38,
     "metadata": {},
     "output_type": "execute_result"
    }
   ],
   "source": [
    "df[df[\"donation_id\"].isin(weird_entries)]"
   ]
  },
  {
   "cell_type": "code",
   "execution_count": null,
   "id": "db018ca5-72c6-44f6-83d3-67a86c030c75",
   "metadata": {},
   "outputs": [],
   "source": []
  }
 ],
 "metadata": {
  "kernelspec": {
   "display_name": "Python 3 (ipykernel)",
   "language": "python",
   "name": "python3"
  },
  "language_info": {
   "codemirror_mode": {
    "name": "ipython",
    "version": 3
   },
   "file_extension": ".py",
   "mimetype": "text/x-python",
   "name": "python",
   "nbconvert_exporter": "python",
   "pygments_lexer": "ipython3",
   "version": "3.8.9"
  }
 },
 "nbformat": 4,
 "nbformat_minor": 5
}
