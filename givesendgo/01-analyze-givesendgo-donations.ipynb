{
 "cells": [
  {
   "cell_type": "markdown",
   "id": "c4acabe6-5af7-4f6c-b9ac-9c7651243803",
   "metadata": {},
   "source": [
    "# Analyze GiveSendGo data"
   ]
  },
  {
   "cell_type": "code",
   "execution_count": 69,
   "id": "81b982f0-cb13-4a3c-9794-fcab97c4e46d",
   "metadata": {},
   "outputs": [],
   "source": [
    "%load_ext lab_black"
   ]
  },
  {
   "cell_type": "code",
   "execution_count": 200,
   "id": "1c25578f-33d3-4f7a-b7dd-3ac92a9b09a2",
   "metadata": {},
   "outputs": [],
   "source": [
    "import pandas as pd\n",
    "import json\n",
    "import numpy as np\n",
    "import altair as alt"
   ]
  },
  {
   "cell_type": "code",
   "execution_count": 170,
   "id": "51eba57c-cdee-4e95-a091-eaa08bf5fbbe",
   "metadata": {},
   "outputs": [],
   "source": [
    "pd.options.display.max_columns = 1000\n",
    "pd.options.display.max_rows = 1000\n",
    "pd.options.display.max_colwidth = None"
   ]
  },
  {
   "cell_type": "markdown",
   "id": "fb9ae97e-b820-46d2-962b-96f66d76ecbc",
   "metadata": {},
   "source": [
    "### Open most recent json file"
   ]
  },
  {
   "cell_type": "code",
   "execution_count": 384,
   "id": "cac6697d-7a0e-4282-a863-1a3ddf821d95",
   "metadata": {},
   "outputs": [],
   "source": [
    "with open(\"increments/data_increment_523649.json\") as f:\n",
    "    data_all = json.load(f)"
   ]
  },
  {
   "cell_type": "code",
   "execution_count": 385,
   "id": "f34a645a-a398-4aa1-aad9-a5f89e22c17a",
   "metadata": {},
   "outputs": [],
   "source": [
    "all_data = []\n",
    "\n",
    "for d in data_all:\n",
    "    df = pd.DataFrame(d[\"returnData\"][\"donations\"])\n",
    "    all_data.append(df)\n",
    "\n",
    "df = pd.concat(all_data)"
   ]
  },
  {
   "cell_type": "code",
   "execution_count": 386,
   "id": "7b5e82c3-c7c0-4e00-bc88-1be42b5b5a94",
   "metadata": {},
   "outputs": [],
   "source": [
    "df = df.drop_duplicates().copy()"
   ]
  },
  {
   "cell_type": "code",
   "execution_count": 387,
   "id": "615ef816-a6e5-4502-8641-35fe281f1e17",
   "metadata": {},
   "outputs": [],
   "source": [
    "df.donation_amount = df.donation_amount.astype(float)"
   ]
  },
  {
   "cell_type": "code",
   "execution_count": 388,
   "id": "e01cdf78-577d-40d4-b6b0-7cb1ef635304",
   "metadata": {},
   "outputs": [
    {
     "data": {
      "text/plain": [
       "4752917.5"
      ]
     },
     "execution_count": 388,
     "metadata": {},
     "output_type": "execute_result"
    }
   ],
   "source": [
    "df.donation_amount.sum()"
   ]
  },
  {
   "cell_type": "code",
   "execution_count": 389,
   "id": "94c82ad5-f36a-40d3-a3db-a5694bfb0be4",
   "metadata": {},
   "outputs": [
    {
     "data": {
      "text/plain": [
       "94.86"
      ]
     },
     "execution_count": 389,
     "metadata": {},
     "output_type": "execute_result"
    }
   ],
   "source": [
    "df.donation_amount.mean().round(2)"
   ]
  },
  {
   "cell_type": "code",
   "execution_count": 390,
   "id": "82719e40-4fdf-44f7-9298-1ae1bbad8598",
   "metadata": {},
   "outputs": [
    {
     "data": {
      "text/plain": [
       "50107"
      ]
     },
     "execution_count": 390,
     "metadata": {},
     "output_type": "execute_result"
    }
   ],
   "source": [
    "df.donation_name.count()"
   ]
  },
  {
   "cell_type": "code",
   "execution_count": 391,
   "id": "4c7d01b2-a837-4064-b298-06c39b87ebc3",
   "metadata": {},
   "outputs": [
    {
     "data": {
      "text/html": [
       "<div>\n",
       "<style scoped>\n",
       "    .dataframe tbody tr th:only-of-type {\n",
       "        vertical-align: middle;\n",
       "    }\n",
       "\n",
       "    .dataframe tbody tr th {\n",
       "        vertical-align: top;\n",
       "    }\n",
       "\n",
       "    .dataframe thead th {\n",
       "        text-align: right;\n",
       "    }\n",
       "</style>\n",
       "<table border=\"1\" class=\"dataframe\">\n",
       "  <thead>\n",
       "    <tr style=\"text-align: right;\">\n",
       "      <th></th>\n",
       "      <th>donation_id</th>\n",
       "      <th>campaign_id</th>\n",
       "      <th>donation_amount</th>\n",
       "      <th>donation_comment</th>\n",
       "      <th>donation_conversion_rate</th>\n",
       "      <th>donation_name</th>\n",
       "      <th>donation_anonymous</th>\n",
       "      <th>donation_date</th>\n",
       "      <th>lovecount</th>\n",
       "      <th>likes</th>\n",
       "    </tr>\n",
       "  </thead>\n",
       "  <tbody>\n",
       "    <tr>\n",
       "      <th>0</th>\n",
       "      <td>463549</td>\n",
       "      <td>49000</td>\n",
       "      <td>100.0</td>\n",
       "      <td>We support the Truckers standing up for our freedom.</td>\n",
       "      <td>1.000000</td>\n",
       "      <td>Jeff Brain</td>\n",
       "      <td>0</td>\n",
       "      <td>6 days ago</td>\n",
       "      <td>0</td>\n",
       "      <td>0</td>\n",
       "    </tr>\n",
       "    <tr>\n",
       "      <th>0</th>\n",
       "      <td>464203</td>\n",
       "      <td>49000</td>\n",
       "      <td>100.0</td>\n",
       "      <td>God Bless you and Keep you safe!  Freedom for All!</td>\n",
       "      <td>1.000000</td>\n",
       "      <td>Edwards</td>\n",
       "      <td>0</td>\n",
       "      <td>6 days ago</td>\n",
       "      <td>0</td>\n",
       "      <td>0</td>\n",
       "    </tr>\n",
       "    <tr>\n",
       "      <th>2</th>\n",
       "      <td>464220</td>\n",
       "      <td>49000</td>\n",
       "      <td>25.0</td>\n",
       "      <td>Thank you! God bless you all and keep you safe. Godspeed you on your mission! ❤️😀❤️</td>\n",
       "      <td>1.000000</td>\n",
       "      <td>MaryEllen Stevens</td>\n",
       "      <td>0</td>\n",
       "      <td>6 days ago</td>\n",
       "      <td>0</td>\n",
       "      <td>0</td>\n",
       "    </tr>\n",
       "    <tr>\n",
       "      <th>3</th>\n",
       "      <td>464221</td>\n",
       "      <td>49000</td>\n",
       "      <td>10.0</td>\n",
       "      <td>Glory to God.</td>\n",
       "      <td>1.000000</td>\n",
       "      <td>Our turn.</td>\n",
       "      <td>0</td>\n",
       "      <td>6 days ago</td>\n",
       "      <td>0</td>\n",
       "      <td>0</td>\n",
       "    </tr>\n",
       "    <tr>\n",
       "      <th>1</th>\n",
       "      <td>464223</td>\n",
       "      <td>49000</td>\n",
       "      <td>20.0</td>\n",
       "      <td>Go Truckers!</td>\n",
       "      <td>1.000000</td>\n",
       "      <td></td>\n",
       "      <td>0</td>\n",
       "      <td>6 days ago</td>\n",
       "      <td>0</td>\n",
       "      <td>0</td>\n",
       "    </tr>\n",
       "  </tbody>\n",
       "</table>\n",
       "</div>"
      ],
      "text/plain": [
       "   donation_id  campaign_id  donation_amount  \\\n",
       "0       463549        49000            100.0   \n",
       "0       464203        49000            100.0   \n",
       "2       464220        49000             25.0   \n",
       "3       464221        49000             10.0   \n",
       "1       464223        49000             20.0   \n",
       "\n",
       "                                                                      donation_comment  \\\n",
       "0                                We support the Truckers standing up for our freedom.    \n",
       "0                                   God Bless you and Keep you safe!  Freedom for All!   \n",
       "2  Thank you! God bless you all and keep you safe. Godspeed you on your mission! ❤️😀❤️   \n",
       "3                                                                        Glory to God.   \n",
       "1                                                                         Go Truckers!   \n",
       "\n",
       "  donation_conversion_rate       donation_name  donation_anonymous  \\\n",
       "0                 1.000000          Jeff Brain                   0   \n",
       "0                 1.000000            Edwards                    0   \n",
       "2                 1.000000  MaryEllen Stevens                    0   \n",
       "3                 1.000000           Our turn.                   0   \n",
       "1                 1.000000                                       0   \n",
       "\n",
       "  donation_date  lovecount  likes  \n",
       "0    6 days ago          0      0  \n",
       "0    6 days ago          0      0  \n",
       "2    6 days ago          0      0  \n",
       "3    6 days ago          0      0  \n",
       "1    6 days ago          0      0  "
      ]
     },
     "execution_count": 391,
     "metadata": {},
     "output_type": "execute_result"
    }
   ],
   "source": [
    "df.sort_values(\"donation_id\").head()"
   ]
  },
  {
   "cell_type": "markdown",
   "id": "1bac0735-dbc1-450a-9669-553a9c763c09",
   "metadata": {},
   "source": [
    "### Dates"
   ]
  },
  {
   "cell_type": "code",
   "execution_count": 392,
   "id": "0db63642-4d1b-49fc-8d20-fdae0896af7f",
   "metadata": {},
   "outputs": [],
   "source": [
    "df.donation_date = (\n",
    "    df.donation_date.str.replace(\"6 days ago\", \"2022-02-02\", regex=False)\n",
    "    .str.replace(\"5 days ago\", \"2022-02-03\", regex=False)\n",
    "    .str.replace(\"4 days ago\", \"2022-02-04\", regex=False)\n",
    "    .str.replace(\"3 days ago\", \"2022-02-05\", regex=False)\n",
    "    .str.replace(\"2 days ago\", \"2022-02-06\", regex=False)\n",
    "    .str.replace(\"1 days ago\", \"2022-02-07\", regex=False)\n",
    ")"
   ]
  },
  {
   "cell_type": "code",
   "execution_count": 393,
   "id": "8d5b771d-5388-433d-9e97-a4539720e122",
   "metadata": {},
   "outputs": [],
   "source": [
    "df[\"donation_date\"] = pd.to_datetime(df[\"donation_date\"])"
   ]
  },
  {
   "cell_type": "code",
   "execution_count": 394,
   "id": "6d8aad39-af18-44d2-a2b2-63f7d5c76ce9",
   "metadata": {},
   "outputs": [],
   "source": [
    "df[\"date_clean\"] = df[\"donation_date\"].dt.date"
   ]
  },
  {
   "cell_type": "code",
   "execution_count": 395,
   "id": "aaf2853d-a288-49d7-b3e9-8b77e8333c66",
   "metadata": {},
   "outputs": [
    {
     "data": {
      "text/plain": [
       "donation_id                          int64\n",
       "campaign_id                          int64\n",
       "donation_amount                    float64\n",
       "donation_comment                    object\n",
       "donation_conversion_rate            object\n",
       "donation_name                       object\n",
       "donation_anonymous                   int64\n",
       "donation_date               datetime64[ns]\n",
       "lovecount                            int64\n",
       "likes                                int64\n",
       "date_clean                          object\n",
       "dtype: object"
      ]
     },
     "execution_count": 395,
     "metadata": {},
     "output_type": "execute_result"
    }
   ],
   "source": [
    "df.dtypes"
   ]
  },
  {
   "cell_type": "code",
   "execution_count": 396,
   "id": "4619d04d-b7c1-4e0c-a57c-2548458aa8a1",
   "metadata": {},
   "outputs": [],
   "source": [
    "dates = (\n",
    "    df.groupby([\"donation_date\"])\n",
    "    .agg({\"donation_id\": \"count\", \"donation_amount\": sum})\n",
    "    .reset_index()\n",
    ")"
   ]
  },
  {
   "cell_type": "code",
   "execution_count": 397,
   "id": "e222ece2-d1ee-4994-80f4-fb044f77b869",
   "metadata": {},
   "outputs": [],
   "source": [
    "dates.rename(columns={\"donation_id\": \"count\", \"donation_amount\": \"sum\"}, inplace=True)"
   ]
  },
  {
   "cell_type": "code",
   "execution_count": 398,
   "id": "e4f60538-5fba-450f-9114-d0773e467485",
   "metadata": {},
   "outputs": [
    {
     "data": {
      "text/html": [
       "<div>\n",
       "<style scoped>\n",
       "    .dataframe tbody tr th:only-of-type {\n",
       "        vertical-align: middle;\n",
       "    }\n",
       "\n",
       "    .dataframe tbody tr th {\n",
       "        vertical-align: top;\n",
       "    }\n",
       "\n",
       "    .dataframe thead th {\n",
       "        text-align: right;\n",
       "    }\n",
       "</style>\n",
       "<table border=\"1\" class=\"dataframe\">\n",
       "  <thead>\n",
       "    <tr style=\"text-align: right;\">\n",
       "      <th></th>\n",
       "      <th>donation_date</th>\n",
       "      <th>count</th>\n",
       "      <th>sum</th>\n",
       "    </tr>\n",
       "  </thead>\n",
       "  <tbody>\n",
       "    <tr>\n",
       "      <th>0</th>\n",
       "      <td>2022-02-02</td>\n",
       "      <td>61</td>\n",
       "      <td>3348.0</td>\n",
       "    </tr>\n",
       "    <tr>\n",
       "      <th>1</th>\n",
       "      <td>2022-02-03</td>\n",
       "      <td>112</td>\n",
       "      <td>6651.5</td>\n",
       "    </tr>\n",
       "    <tr>\n",
       "      <th>2</th>\n",
       "      <td>2022-02-04</td>\n",
       "      <td>115</td>\n",
       "      <td>5424.0</td>\n",
       "    </tr>\n",
       "    <tr>\n",
       "      <th>3</th>\n",
       "      <td>2022-02-05</td>\n",
       "      <td>2965</td>\n",
       "      <td>311979.0</td>\n",
       "    </tr>\n",
       "    <tr>\n",
       "      <th>4</th>\n",
       "      <td>2022-02-06</td>\n",
       "      <td>17561</td>\n",
       "      <td>1923301.0</td>\n",
       "    </tr>\n",
       "    <tr>\n",
       "      <th>5</th>\n",
       "      <td>2022-02-07</td>\n",
       "      <td>29293</td>\n",
       "      <td>2502214.0</td>\n",
       "    </tr>\n",
       "  </tbody>\n",
       "</table>\n",
       "</div>"
      ],
      "text/plain": [
       "  donation_date  count        sum\n",
       "0    2022-02-02     61     3348.0\n",
       "1    2022-02-03    112     6651.5\n",
       "2    2022-02-04    115     5424.0\n",
       "3    2022-02-05   2965   311979.0\n",
       "4    2022-02-06  17561  1923301.0\n",
       "5    2022-02-07  29293  2502214.0"
      ]
     },
     "execution_count": 398,
     "metadata": {},
     "output_type": "execute_result"
    }
   ],
   "source": [
    "dates"
   ]
  },
  {
   "cell_type": "code",
   "execution_count": 379,
   "id": "5f83fc30-560e-4660-933c-a8f9933a6cec",
   "metadata": {},
   "outputs": [
    {
     "data": {
      "text/html": [
       "\n",
       "<div id=\"altair-viz-6962d55ceb7c42af9a153c1a376d2dac\"></div>\n",
       "<script type=\"text/javascript\">\n",
       "  var VEGA_DEBUG = (typeof VEGA_DEBUG == \"undefined\") ? {} : VEGA_DEBUG;\n",
       "  (function(spec, embedOpt){\n",
       "    let outputDiv = document.currentScript.previousElementSibling;\n",
       "    if (outputDiv.id !== \"altair-viz-6962d55ceb7c42af9a153c1a376d2dac\") {\n",
       "      outputDiv = document.getElementById(\"altair-viz-6962d55ceb7c42af9a153c1a376d2dac\");\n",
       "    }\n",
       "    const paths = {\n",
       "      \"vega\": \"https://cdn.jsdelivr.net/npm//vega@5?noext\",\n",
       "      \"vega-lib\": \"https://cdn.jsdelivr.net/npm//vega-lib?noext\",\n",
       "      \"vega-lite\": \"https://cdn.jsdelivr.net/npm//vega-lite@4.17.0?noext\",\n",
       "      \"vega-embed\": \"https://cdn.jsdelivr.net/npm//vega-embed@6?noext\",\n",
       "    };\n",
       "\n",
       "    function maybeLoadScript(lib, version) {\n",
       "      var key = `${lib.replace(\"-\", \"\")}_version`;\n",
       "      return (VEGA_DEBUG[key] == version) ?\n",
       "        Promise.resolve(paths[lib]) :\n",
       "        new Promise(function(resolve, reject) {\n",
       "          var s = document.createElement('script');\n",
       "          document.getElementsByTagName(\"head\")[0].appendChild(s);\n",
       "          s.async = true;\n",
       "          s.onload = () => {\n",
       "            VEGA_DEBUG[key] = version;\n",
       "            return resolve(paths[lib]);\n",
       "          };\n",
       "          s.onerror = () => reject(`Error loading script: ${paths[lib]}`);\n",
       "          s.src = paths[lib];\n",
       "        });\n",
       "    }\n",
       "\n",
       "    function showError(err) {\n",
       "      outputDiv.innerHTML = `<div class=\"error\" style=\"color:red;\">${err}</div>`;\n",
       "      throw err;\n",
       "    }\n",
       "\n",
       "    function displayChart(vegaEmbed) {\n",
       "      vegaEmbed(outputDiv, spec, embedOpt)\n",
       "        .catch(err => showError(`Javascript Error: ${err.message}<br>This usually means there's a typo in your chart specification. See the javascript console for the full traceback.`));\n",
       "    }\n",
       "\n",
       "    if(typeof define === \"function\" && define.amd) {\n",
       "      requirejs.config({paths});\n",
       "      require([\"vega-embed\"], displayChart, err => showError(`Error loading script: ${err.message}`));\n",
       "    } else {\n",
       "      maybeLoadScript(\"vega\", \"5\")\n",
       "        .then(() => maybeLoadScript(\"vega-lite\", \"4.17.0\"))\n",
       "        .then(() => maybeLoadScript(\"vega-embed\", \"6\"))\n",
       "        .catch(showError)\n",
       "        .then(() => displayChart(vegaEmbed));\n",
       "    }\n",
       "  })({\"config\": {\"view\": {\"continuousWidth\": 400, \"continuousHeight\": 300}}, \"data\": {\"name\": \"data-4812ed5f9ac97d60326038cebea04ce8\"}, \"mark\": {\"type\": \"bar\", \"width\": 20}, \"encoding\": {\"x\": {\"axis\": {\"format\": \"%b. %d\", \"tickCount\": 6}, \"field\": \"donation_date\", \"title\": \"Donation date\", \"type\": \"temporal\"}, \"y\": {\"axis\": {\"tickCount\": 6}, \"field\": \"sum\", \"title\": \"Dollars raised\", \"type\": \"quantitative\"}}, \"$schema\": \"https://vega.github.io/schema/vega-lite/v4.17.0.json\", \"datasets\": {\"data-4812ed5f9ac97d60326038cebea04ce8\": [{\"donation_date\": \"2022-02-02T00:00:00\", \"count\": 61, \"sum\": 3348.0}, {\"donation_date\": \"2022-02-03T00:00:00\", \"count\": 112, \"sum\": 6651.5}, {\"donation_date\": \"2022-02-04T00:00:00\", \"count\": 115, \"sum\": 5424.0}, {\"donation_date\": \"2022-02-05T00:00:00\", \"count\": 2965, \"sum\": 311979.0}, {\"donation_date\": \"2022-02-06T00:00:00\", \"count\": 17561, \"sum\": 1923301.0}, {\"donation_date\": \"2022-02-07T00:00:00\", \"count\": 28844, \"sum\": 2450290.0}]}}, {\"mode\": \"vega-lite\"});\n",
       "</script>"
      ],
      "text/plain": [
       "alt.Chart(...)"
      ]
     },
     "execution_count": 379,
     "metadata": {},
     "output_type": "execute_result"
    }
   ],
   "source": [
    "alt.Chart(dates).mark_bar(width=20).encode(\n",
    "    x=alt.X(\n",
    "        \"donation_date:T\",\n",
    "        axis=alt.Axis(format=\"%b. %d\", tickCount=6),\n",
    "        title=\"Donation date\",\n",
    "    ),\n",
    "    y=alt.Y(\"sum\", axis=alt.Axis(tickCount=6), title=\"Dollars raised\"),\n",
    ")"
   ]
  },
  {
   "cell_type": "markdown",
   "id": "16fde2cb-39b8-4cb5-9987-ea3971904e14",
   "metadata": {},
   "source": [
    "---"
   ]
  },
  {
   "cell_type": "code",
   "execution_count": 380,
   "id": "17ae9566-6ad2-411f-a239-7682ede7dc94",
   "metadata": {},
   "outputs": [],
   "source": [
    "df[\"donation_name\"] = df[\"donation_name\"].str.strip().str.lower()"
   ]
  },
  {
   "cell_type": "code",
   "execution_count": 381,
   "id": "baeb3fb6-a62e-4eb9-b570-4b34a833931f",
   "metadata": {},
   "outputs": [],
   "source": [
    "df.loc[df[\"donation_anonymous\"] > 1, \"donation_name\"] = \"anonymous\""
   ]
  },
  {
   "cell_type": "markdown",
   "id": "a6146832-183a-47ce-a909-9aa925784624",
   "metadata": {},
   "source": [
    "### Group to count and sum donations by donor name"
   ]
  },
  {
   "cell_type": "code",
   "execution_count": 382,
   "id": "614de335-b534-45d1-a09e-4299f5699a2f",
   "metadata": {},
   "outputs": [
    {
     "data": {
      "text/html": [
       "<div>\n",
       "<style scoped>\n",
       "    .dataframe tbody tr th:only-of-type {\n",
       "        vertical-align: middle;\n",
       "    }\n",
       "\n",
       "    .dataframe tbody tr th {\n",
       "        vertical-align: top;\n",
       "    }\n",
       "\n",
       "    .dataframe thead tr th {\n",
       "        text-align: left;\n",
       "    }\n",
       "</style>\n",
       "<table border=\"1\" class=\"dataframe\">\n",
       "  <thead>\n",
       "    <tr>\n",
       "      <th></th>\n",
       "      <th>donation_name</th>\n",
       "      <th colspan=\"2\" halign=\"left\">donation_amount</th>\n",
       "    </tr>\n",
       "    <tr>\n",
       "      <th></th>\n",
       "      <th></th>\n",
       "      <th>size</th>\n",
       "      <th>sum</th>\n",
       "    </tr>\n",
       "  </thead>\n",
       "  <tbody>\n",
       "    <tr>\n",
       "      <th>0</th>\n",
       "      <td></td>\n",
       "      <td>24744</td>\n",
       "      <td>2137036.5</td>\n",
       "    </tr>\n",
       "    <tr>\n",
       "      <th>15197</th>\n",
       "      <td>processed but not recorded.</td>\n",
       "      <td>1</td>\n",
       "      <td>215000.0</td>\n",
       "    </tr>\n",
       "    <tr>\n",
       "      <th>1030</th>\n",
       "      <td>anonymous</td>\n",
       "      <td>279</td>\n",
       "      <td>24237.0</td>\n",
       "    </tr>\n",
       "    <tr>\n",
       "      <th>20255</th>\n",
       "      <td>www the range langley com</td>\n",
       "      <td>1</td>\n",
       "      <td>18000.0</td>\n",
       "    </tr>\n",
       "    <tr>\n",
       "      <th>632</th>\n",
       "      <td>american cryptocurrency compatriot</td>\n",
       "      <td>1</td>\n",
       "      <td>17760.0</td>\n",
       "    </tr>\n",
       "    <tr>\n",
       "      <th>6282</th>\n",
       "      <td>freedom</td>\n",
       "      <td>187</td>\n",
       "      <td>16071.0</td>\n",
       "    </tr>\n",
       "    <tr>\n",
       "      <th>15070</th>\n",
       "      <td>pierre elite trudo blackface</td>\n",
       "      <td>1</td>\n",
       "      <td>9000.0</td>\n",
       "    </tr>\n",
       "    <tr>\n",
       "      <th>6306</th>\n",
       "      <td>freedom convoy</td>\n",
       "      <td>56</td>\n",
       "      <td>5416.0</td>\n",
       "    </tr>\n",
       "    <tr>\n",
       "      <th>18643</th>\n",
       "      <td>the walsers - for freedom!</td>\n",
       "      <td>1</td>\n",
       "      <td>5000.0</td>\n",
       "    </tr>\n",
       "    <tr>\n",
       "      <th>1491</th>\n",
       "      <td>beekman auctions</td>\n",
       "      <td>1</td>\n",
       "      <td>5000.0</td>\n",
       "    </tr>\n",
       "    <tr>\n",
       "      <th>2928</th>\n",
       "      <td>charles haywood</td>\n",
       "      <td>1</td>\n",
       "      <td>5000.0</td>\n",
       "    </tr>\n",
       "    <tr>\n",
       "      <th>5997</th>\n",
       "      <td>first liberty building and loan</td>\n",
       "      <td>1</td>\n",
       "      <td>5000.0</td>\n",
       "    </tr>\n",
       "    <tr>\n",
       "      <th>5259</th>\n",
       "      <td>dr. ben lynch</td>\n",
       "      <td>1</td>\n",
       "      <td>5000.0</td>\n",
       "    </tr>\n",
       "    <tr>\n",
       "      <th>10080</th>\n",
       "      <td>justin trudeau</td>\n",
       "      <td>58</td>\n",
       "      <td>4950.0</td>\n",
       "    </tr>\n",
       "    <tr>\n",
       "      <th>15377</th>\n",
       "      <td>rafter kl</td>\n",
       "      <td>1</td>\n",
       "      <td>4000.0</td>\n",
       "    </tr>\n",
       "    <tr>\n",
       "      <th>7769</th>\n",
       "      <td>honk honk</td>\n",
       "      <td>42</td>\n",
       "      <td>3490.0</td>\n",
       "    </tr>\n",
       "    <tr>\n",
       "      <th>6399</th>\n",
       "      <td>freedom lover</td>\n",
       "      <td>53</td>\n",
       "      <td>3335.0</td>\n",
       "    </tr>\n",
       "    <tr>\n",
       "      <th>7810</th>\n",
       "      <td>hope love freedom</td>\n",
       "      <td>1</td>\n",
       "      <td>3333.0</td>\n",
       "    </tr>\n",
       "    <tr>\n",
       "      <th>17612</th>\n",
       "      <td>steve</td>\n",
       "      <td>49</td>\n",
       "      <td>3293.0</td>\n",
       "    </tr>\n",
       "    <tr>\n",
       "      <th>9415</th>\n",
       "      <td>john</td>\n",
       "      <td>33</td>\n",
       "      <td>3034.0</td>\n",
       "    </tr>\n",
       "  </tbody>\n",
       "</table>\n",
       "</div>"
      ],
      "text/plain": [
       "                            donation_name donation_amount           \n",
       "                                                     size        sum\n",
       "0                                                   24744  2137036.5\n",
       "15197         processed but not recorded.               1   215000.0\n",
       "1030                            anonymous             279    24237.0\n",
       "20255           www the range langley com               1    18000.0\n",
       "632    american cryptocurrency compatriot               1    17760.0\n",
       "6282                              freedom             187    16071.0\n",
       "15070        pierre elite trudo blackface               1     9000.0\n",
       "6306                       freedom convoy              56     5416.0\n",
       "18643          the walsers - for freedom!               1     5000.0\n",
       "1491                     beekman auctions               1     5000.0\n",
       "2928                      charles haywood               1     5000.0\n",
       "5997      first liberty building and loan               1     5000.0\n",
       "5259                        dr. ben lynch               1     5000.0\n",
       "10080                      justin trudeau              58     4950.0\n",
       "15377                           rafter kl               1     4000.0\n",
       "7769                            honk honk              42     3490.0\n",
       "6399                        freedom lover              53     3335.0\n",
       "7810                    hope love freedom               1     3333.0\n",
       "17612                               steve              49     3293.0\n",
       "9415                                 john              33     3034.0"
      ]
     },
     "execution_count": 382,
     "metadata": {},
     "output_type": "execute_result"
    }
   ],
   "source": [
    "df.groupby([\"donation_name\"]).agg(\n",
    "    {\"donation_amount\": [np.size, np.sum]}\n",
    ").reset_index().sort_values((\"donation_amount\", \"sum\"), ascending=False).head(20)"
   ]
  },
  {
   "cell_type": "code",
   "execution_count": 383,
   "id": "49fb8a1c-e4af-4941-bafa-28ccfaa33c1b",
   "metadata": {},
   "outputs": [
    {
     "data": {
      "text/html": [
       "<div>\n",
       "<style scoped>\n",
       "    .dataframe tbody tr th:only-of-type {\n",
       "        vertical-align: middle;\n",
       "    }\n",
       "\n",
       "    .dataframe tbody tr th {\n",
       "        vertical-align: top;\n",
       "    }\n",
       "\n",
       "    .dataframe thead tr th {\n",
       "        text-align: left;\n",
       "    }\n",
       "</style>\n",
       "<table border=\"1\" class=\"dataframe\">\n",
       "  <thead>\n",
       "    <tr>\n",
       "      <th></th>\n",
       "      <th>donation_name</th>\n",
       "      <th colspan=\"2\" halign=\"left\">donation_amount</th>\n",
       "    </tr>\n",
       "    <tr>\n",
       "      <th></th>\n",
       "      <th></th>\n",
       "      <th>size</th>\n",
       "      <th>sum</th>\n",
       "    </tr>\n",
       "  </thead>\n",
       "  <tbody>\n",
       "    <tr>\n",
       "      <th>0</th>\n",
       "      <td></td>\n",
       "      <td>24744</td>\n",
       "      <td>2137036.5</td>\n",
       "    </tr>\n",
       "    <tr>\n",
       "      <th>1030</th>\n",
       "      <td>anonymous</td>\n",
       "      <td>279</td>\n",
       "      <td>24237.0</td>\n",
       "    </tr>\n",
       "    <tr>\n",
       "      <th>6282</th>\n",
       "      <td>freedom</td>\n",
       "      <td>187</td>\n",
       "      <td>16071.0</td>\n",
       "    </tr>\n",
       "    <tr>\n",
       "      <th>10080</th>\n",
       "      <td>justin trudeau</td>\n",
       "      <td>58</td>\n",
       "      <td>4950.0</td>\n",
       "    </tr>\n",
       "    <tr>\n",
       "      <th>6306</th>\n",
       "      <td>freedom convoy</td>\n",
       "      <td>56</td>\n",
       "      <td>5416.0</td>\n",
       "    </tr>\n",
       "    <tr>\n",
       "      <th>6399</th>\n",
       "      <td>freedom lover</td>\n",
       "      <td>53</td>\n",
       "      <td>3335.0</td>\n",
       "    </tr>\n",
       "    <tr>\n",
       "      <th>17612</th>\n",
       "      <td>steve</td>\n",
       "      <td>49</td>\n",
       "      <td>3293.0</td>\n",
       "    </tr>\n",
       "    <tr>\n",
       "      <th>7769</th>\n",
       "      <td>honk honk</td>\n",
       "      <td>42</td>\n",
       "      <td>3490.0</td>\n",
       "    </tr>\n",
       "    <tr>\n",
       "      <th>4285</th>\n",
       "      <td>david</td>\n",
       "      <td>36</td>\n",
       "      <td>2627.0</td>\n",
       "    </tr>\n",
       "    <tr>\n",
       "      <th>9415</th>\n",
       "      <td>john</td>\n",
       "      <td>33</td>\n",
       "      <td>3034.0</td>\n",
       "    </tr>\n",
       "    <tr>\n",
       "      <th>13315</th>\n",
       "      <td>mike</td>\n",
       "      <td>32</td>\n",
       "      <td>1964.0</td>\n",
       "    </tr>\n",
       "    <tr>\n",
       "      <th>3045</th>\n",
       "      <td>chris</td>\n",
       "      <td>31</td>\n",
       "      <td>2431.0</td>\n",
       "    </tr>\n",
       "    <tr>\n",
       "      <th>12471</th>\n",
       "      <td>mark</td>\n",
       "      <td>29</td>\n",
       "      <td>1540.0</td>\n",
       "    </tr>\n",
       "    <tr>\n",
       "      <th>6318</th>\n",
       "      <td>freedom fighter</td>\n",
       "      <td>29</td>\n",
       "      <td>2655.0</td>\n",
       "    </tr>\n",
       "    <tr>\n",
       "      <th>10664</th>\n",
       "      <td>kevin</td>\n",
       "      <td>26</td>\n",
       "      <td>1520.0</td>\n",
       "    </tr>\n",
       "    <tr>\n",
       "      <th>12801</th>\n",
       "      <td>matt</td>\n",
       "      <td>26</td>\n",
       "      <td>1340.0</td>\n",
       "    </tr>\n",
       "    <tr>\n",
       "      <th>9071</th>\n",
       "      <td>jim</td>\n",
       "      <td>23</td>\n",
       "      <td>2620.0</td>\n",
       "    </tr>\n",
       "    <tr>\n",
       "      <th>3909</th>\n",
       "      <td>dan</td>\n",
       "      <td>22</td>\n",
       "      <td>1098.0</td>\n",
       "    </tr>\n",
       "    <tr>\n",
       "      <th>11423</th>\n",
       "      <td>lets go brandon</td>\n",
       "      <td>21</td>\n",
       "      <td>1281.0</td>\n",
       "    </tr>\n",
       "    <tr>\n",
       "      <th>6580</th>\n",
       "      <td>fringe minority</td>\n",
       "      <td>21</td>\n",
       "      <td>1613.0</td>\n",
       "    </tr>\n",
       "  </tbody>\n",
       "</table>\n",
       "</div>"
      ],
      "text/plain": [
       "         donation_name donation_amount           \n",
       "                                  size        sum\n",
       "0                                24744  2137036.5\n",
       "1030         anonymous             279    24237.0\n",
       "6282           freedom             187    16071.0\n",
       "10080   justin trudeau              58     4950.0\n",
       "6306    freedom convoy              56     5416.0\n",
       "6399     freedom lover              53     3335.0\n",
       "17612            steve              49     3293.0\n",
       "7769         honk honk              42     3490.0\n",
       "4285             david              36     2627.0\n",
       "9415              john              33     3034.0\n",
       "13315             mike              32     1964.0\n",
       "3045             chris              31     2431.0\n",
       "12471             mark              29     1540.0\n",
       "6318   freedom fighter              29     2655.0\n",
       "10664            kevin              26     1520.0\n",
       "12801             matt              26     1340.0\n",
       "9071               jim              23     2620.0\n",
       "3909               dan              22     1098.0\n",
       "11423  lets go brandon              21     1281.0\n",
       "6580   fringe minority              21     1613.0"
      ]
     },
     "execution_count": 383,
     "metadata": {},
     "output_type": "execute_result"
    }
   ],
   "source": [
    "df.groupby([\"donation_name\"]).agg(\n",
    "    {\"donation_amount\": [np.size, np.sum]}\n",
    ").reset_index().sort_values((\"donation_amount\", \"size\"), ascending=False).head(20)"
   ]
  },
  {
   "cell_type": "code",
   "execution_count": null,
   "id": "21471d95-d909-4052-825a-4a27ee5fec1f",
   "metadata": {},
   "outputs": [],
   "source": [
    "# 100 biggest donations\n",
    "# 100 first donations"
   ]
  },
  {
   "cell_type": "code",
   "execution_count": 401,
   "id": "18b067ed-8fe1-41fd-a7ec-e7815c921975",
   "metadata": {},
   "outputs": [],
   "source": [
    "df.sort_values(\"donation_amount\", ascending=False).head(100).to_csv(\n",
    "    \"data/processed/100_largest_donations.csv\", index=False\n",
    ")"
   ]
  },
  {
   "cell_type": "code",
   "execution_count": 405,
   "id": "f7957714-a194-4b2c-a405-974b35e74cc6",
   "metadata": {},
   "outputs": [],
   "source": [
    "df.sort_values(\"donation_date\", ascending=True).head(100).to_csv(\n",
    "    \"data/processed/100_earliest_donations.csv\", index=False\n",
    ")"
   ]
  },
  {
   "cell_type": "code",
   "execution_count": null,
   "id": "704bd08f-6b49-431e-b19c-41ec24911c8d",
   "metadata": {},
   "outputs": [],
   "source": []
  }
 ],
 "metadata": {
  "kernelspec": {
   "display_name": "Python 3 (ipykernel)",
   "language": "python",
   "name": "python3"
  },
  "language_info": {
   "codemirror_mode": {
    "name": "ipython",
    "version": 3
   },
   "file_extension": ".py",
   "mimetype": "text/x-python",
   "name": "python",
   "nbconvert_exporter": "python",
   "pygments_lexer": "ipython3",
   "version": "3.8.9"
  }
 },
 "nbformat": 4,
 "nbformat_minor": 5
}
