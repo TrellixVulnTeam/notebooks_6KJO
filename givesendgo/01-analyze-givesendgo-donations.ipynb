{
 "cells": [
  {
   "cell_type": "markdown",
   "id": "c4acabe6-5af7-4f6c-b9ac-9c7651243803",
   "metadata": {},
   "source": [
    "# Analyze GiveSendGo data"
   ]
  },
  {
   "cell_type": "code",
   "execution_count": 1,
   "id": "81b982f0-cb13-4a3c-9794-fcab97c4e46d",
   "metadata": {},
   "outputs": [],
   "source": [
    "%load_ext lab_black"
   ]
  },
  {
   "cell_type": "code",
   "execution_count": 2,
   "id": "1c25578f-33d3-4f7a-b7dd-3ac92a9b09a2",
   "metadata": {},
   "outputs": [],
   "source": [
    "import pandas as pd\n",
    "import json\n",
    "import numpy as np\n",
    "import altair as alt\n",
    "import os\n",
    "import glob"
   ]
  },
  {
   "cell_type": "code",
   "execution_count": 3,
   "id": "51eba57c-cdee-4e95-a091-eaa08bf5fbbe",
   "metadata": {},
   "outputs": [],
   "source": [
    "pd.options.display.max_columns = 1000\n",
    "pd.options.display.max_rows = 1000\n",
    "pd.options.display.max_colwidth = None"
   ]
  },
  {
   "cell_type": "markdown",
   "id": "d1478b2c-f353-41ef-8ac1-f821d8d3d1e8",
   "metadata": {},
   "source": [
    "## Read data"
   ]
  },
  {
   "cell_type": "markdown",
   "id": "721034ec-1bc0-4d16-aa64-8941a515c3c5",
   "metadata": {},
   "source": [
    "#### Find, read and concatenate the most recent json files"
   ]
  },
  {
   "cell_type": "code",
   "execution_count": 4,
   "id": "33ba0677-e5c7-43ef-b9d5-3cb2a104702b",
   "metadata": {},
   "outputs": [],
   "source": [
    "path_to_json = \"increments/new\"\n",
    "\n",
    "json_pattern = os.path.join(path_to_json, \"*.json\")\n",
    "file_list = glob.glob(json_pattern)"
   ]
  },
  {
   "cell_type": "code",
   "execution_count": 5,
   "id": "fe4cc51f-5ecc-43b4-9fbb-d4941a13407e",
   "metadata": {},
   "outputs": [],
   "source": [
    "dfs = []\n",
    "for file in file_list:\n",
    "    with open(file) as f:\n",
    "        json_data = json.loads(f.read())\n",
    "        dfs.append(json_data)"
   ]
  },
  {
   "cell_type": "code",
   "execution_count": 6,
   "id": "949254d4-98b4-4398-9d3f-4e5213d97705",
   "metadata": {},
   "outputs": [],
   "source": [
    "all_data = []\n",
    "\n",
    "for d in dfs:\n",
    "    df = pd.DataFrame(d[\"returnData\"][\"donations\"])\n",
    "    all_data.append(df)\n",
    "\n",
    "new_df = pd.concat(all_data)"
   ]
  },
  {
   "cell_type": "code",
   "execution_count": 7,
   "id": "a790c33f-8ecf-429e-ad28-4c144868ebf7",
   "metadata": {},
   "outputs": [
    {
     "data": {
      "text/plain": [
       "47380"
      ]
     },
     "execution_count": 7,
     "metadata": {},
     "output_type": "execute_result"
    }
   ],
   "source": [
    "len(new_df)"
   ]
  },
  {
   "cell_type": "markdown",
   "id": "d15fc096-0885-417c-92d8-792207367cee",
   "metadata": {},
   "source": [
    "#### Get the previously scraped data"
   ]
  },
  {
   "cell_type": "code",
   "execution_count": 8,
   "id": "41686acb-b8ca-4a3a-b794-da8844231058",
   "metadata": {},
   "outputs": [],
   "source": [
    "with open(\"increments/data_increment_536789.json\") as f:\n",
    "    data_backup = json.load(f)"
   ]
  },
  {
   "cell_type": "code",
   "execution_count": 9,
   "id": "f4113167-df1b-4b76-9bc3-5baf74b89092",
   "metadata": {},
   "outputs": [],
   "source": [
    "all_data_old = []\n",
    "\n",
    "for d in data_backup:\n",
    "    df = pd.DataFrame(d[\"returnData\"][\"donations\"])\n",
    "    all_data_old.append(df)\n",
    "\n",
    "old_df = pd.concat(all_data_old)"
   ]
  },
  {
   "cell_type": "markdown",
   "id": "c733435e-5a95-4c5f-992e-00eafa7fb7bb",
   "metadata": {},
   "source": [
    "#### Combine the two dataframes"
   ]
  },
  {
   "cell_type": "code",
   "execution_count": 10,
   "id": "03fff4d3-6f1f-42e9-968b-18f1c55dfe2b",
   "metadata": {},
   "outputs": [],
   "source": [
    "df = pd.concat([old_df, new_df]).reset_index(drop=True)"
   ]
  },
  {
   "cell_type": "markdown",
   "id": "032dfd47-b021-459b-b492-cf900783fa1a",
   "metadata": {},
   "source": [
    "#### Lose columns we don't need and clean up the frame"
   ]
  },
  {
   "cell_type": "code",
   "execution_count": 11,
   "id": "2f81deff-0057-48c6-966d-062bf8f3f6ae",
   "metadata": {},
   "outputs": [],
   "source": [
    "df.drop(\n",
    "    [\n",
    "        \"donation_conversion_rate\",\n",
    "        \"campaign_id\",\n",
    "        \"lovecount\",\n",
    "        \"likes\",\n",
    "        \"donation_anonymous\",\n",
    "    ],\n",
    "    axis=1,\n",
    "    inplace=True,\n",
    ")"
   ]
  },
  {
   "cell_type": "code",
   "execution_count": 12,
   "id": "f2e63b5a-9f96-4167-9386-632e0b579797",
   "metadata": {},
   "outputs": [],
   "source": [
    "df = df.drop_duplicates().copy()\n",
    "df.donation_amount = df.donation_amount.astype(float)"
   ]
  },
  {
   "cell_type": "markdown",
   "id": "4a8a0f23-a883-464b-8b0f-d9c74477f8bd",
   "metadata": {},
   "source": [
    "---"
   ]
  },
  {
   "cell_type": "markdown",
   "id": "46899977-0e0c-4d43-8e7e-765c3fb22286",
   "metadata": {},
   "source": [
    "## Toplines"
   ]
  },
  {
   "cell_type": "markdown",
   "id": "fd678293-13fa-496b-9ea9-6c5dc43b88b1",
   "metadata": {},
   "source": [
    "#### Donations total"
   ]
  },
  {
   "cell_type": "code",
   "execution_count": 13,
   "id": "f5b1fd12-2c61-4d96-be14-f877c951a881",
   "metadata": {},
   "outputs": [
    {
     "data": {
      "text/plain": [
       "8712456.5"
      ]
     },
     "execution_count": 13,
     "metadata": {},
     "output_type": "execute_result"
    }
   ],
   "source": [
    "df.donation_amount.sum()"
   ]
  },
  {
   "cell_type": "markdown",
   "id": "b689e0b4-2fd8-4fb2-b47d-a8ceb0bbc511",
   "metadata": {},
   "source": [
    "#### Average donation"
   ]
  },
  {
   "cell_type": "code",
   "execution_count": 14,
   "id": "0254b6c8-6294-437b-a988-5509d67b77f2",
   "metadata": {},
   "outputs": [
    {
     "data": {
      "text/plain": [
       "89.76"
      ]
     },
     "execution_count": 14,
     "metadata": {},
     "output_type": "execute_result"
    }
   ],
   "source": [
    "df.donation_amount.mean().round(2)"
   ]
  },
  {
   "cell_type": "markdown",
   "id": "b1136d6e-627c-4867-b7ec-31fc7d8deed7",
   "metadata": {},
   "source": [
    "#### How many donations?"
   ]
  },
  {
   "cell_type": "code",
   "execution_count": 15,
   "id": "0d10965e-d7f9-4e56-b161-137756c981b2",
   "metadata": {},
   "outputs": [
    {
     "data": {
      "text/plain": [
       "97062"
      ]
     },
     "execution_count": 15,
     "metadata": {},
     "output_type": "execute_result"
    }
   ],
   "source": [
    "df.donation_name.count()"
   ]
  },
  {
   "cell_type": "markdown",
   "id": "d601833f-64f0-40f2-9537-06845e6efc95",
   "metadata": {},
   "source": [
    "#### PCT of the goal? "
   ]
  },
  {
   "cell_type": "code",
   "execution_count": 16,
   "id": "fac978c0-60a3-47cd-88d2-32acbd8b626d",
   "metadata": {},
   "outputs": [
    {
     "data": {
      "text/plain": [
       "54.45"
      ]
     },
     "execution_count": 16,
     "metadata": {},
     "output_type": "execute_result"
    }
   ],
   "source": [
    "((df.donation_amount.sum() / 16000000) * 100).round(2)"
   ]
  },
  {
   "cell_type": "markdown",
   "id": "2003a5b6-1b63-4379-955b-baaa7e3cc1eb",
   "metadata": {},
   "source": [
    "## What's in the donation memo text?"
   ]
  },
  {
   "cell_type": "markdown",
   "id": "b64a162e-3fcc-4d95-b334-3540019509d7",
   "metadata": {},
   "source": [
    "#### Donations with specific amounts"
   ]
  },
  {
   "cell_type": "code",
   "execution_count": 18,
   "id": "a54e942e-87ca-40c0-859f-2d8d16ea531a",
   "metadata": {},
   "outputs": [],
   "source": [
    "df[\"mentions_14\"] = df[\"donation_amount\"] == 14\n",
    "df[\"mentions_16\"] = df[\"donation_amount\"] == 16\n",
    "df[\"mentions_88\"] = df[\"donation_amount\"] == 88"
   ]
  },
  {
   "cell_type": "code",
   "execution_count": 19,
   "id": "28e9db72-89f8-4450-b548-e50fcf542b90",
   "metadata": {},
   "outputs": [
    {
     "data": {
      "text/plain": [
       "47"
      ]
     },
     "execution_count": 19,
     "metadata": {},
     "output_type": "execute_result"
    }
   ],
   "source": [
    "len(df[df[\"donation_amount\"] == 14])"
   ]
  },
  {
   "cell_type": "markdown",
   "id": "5019f9b2-ba48-4780-b639-d62674a2153f",
   "metadata": {},
   "source": [
    "#### Donations comments with coded language or specific keywords?"
   ]
  },
  {
   "cell_type": "code",
   "execution_count": 20,
   "id": "4184f4eb-bafc-43b3-a553-802bf92047c5",
   "metadata": {},
   "outputs": [],
   "source": [
    "df_w_comment = df[df[\"donation_comment\"] != \"\"].copy()"
   ]
  },
  {
   "cell_type": "code",
   "execution_count": 21,
   "id": "c3172f30-3c48-43d6-890e-10ce91e88049",
   "metadata": {},
   "outputs": [],
   "source": [
    "df_w_comment[\"mentions_mandate\"] = (\n",
    "    df_w_comment[\"donation_comment\"].str.lower().str.contains(\"mandate\")\n",
    ")\n",
    "df_w_comment[\"mentions_holdtheline\"] = (\n",
    "    df[\"donation_comment\"].str.lower().str.contains(\"hold the line\")\n",
    ")\n",
    "df_w_comment[\"mentions_brandon\"] = (\n",
    "    df_w_comment[\"donation_comment\"].str.lower().str.contains(\"brandon\")\n",
    ")\n",
    "df_w_comment[\"mentions_wwg1wga\"] = (\n",
    "    df_w_comment[\"donation_comment\"].str.lower().str.contains(\"wwg1wga\")\n",
    ")\n",
    "df_w_comment[\"mentions_wwg1wga\"] = (\n",
    "    df_w_comment[\"donation_comment\"].str.lower().str.contains(\"wwg1wga\")\n",
    ")\n",
    "df_w_comment[\"mentions_trump\"] = (\n",
    "    df_w_comment[\"donation_comment\"].str.lower().str.contains(\"trump\")\n",
    ")\n",
    "df_w_comment[\"mentions_honk\"] = (\n",
    "    df_w_comment[\"donation_comment\"].str.lower().str.contains(\"honk honk\")\n",
    ")\n",
    "df_w_comment[\"mentions_freedom\"] = (\n",
    "    df_w_comment[\"donation_comment\"].str.lower().str.contains(\"freedom\")\n",
    ")\n",
    "df_w_comment[\"mentions_tyranny\"] = (\n",
    "    df_w_comment[\"donation_comment\"].str.lower().str.contains(\"tyranny\")\n",
    ")\n",
    "df_w_comment[\"mentions_trudeau\"] = (\n",
    "    df_w_comment[\"donation_comment\"].str.lower().str.contains(\"trudeau\")\n",
    ")\n",
    "df_w_comment[\"mentions_biden\"] = (\n",
    "    df_w_comment[\"donation_comment\"].str.lower().str.contains(\"biden\")\n",
    ")"
   ]
  },
  {
   "cell_type": "markdown",
   "id": "d96c6189-f869-4585-8b6b-760cdc1d570b",
   "metadata": {},
   "source": [
    "#### List of mention categories"
   ]
  },
  {
   "cell_type": "code",
   "execution_count": 22,
   "id": "91211258-5e12-4d9b-a928-c00e93f66ea0",
   "metadata": {},
   "outputs": [],
   "source": [
    "boolean = [\n",
    "    \"mentions_mandate\",\n",
    "    \"mentions_holdtheline\",\n",
    "    \"mentions_brandon\",\n",
    "    \"mentions_14\",\n",
    "    \"mentions_16\",\n",
    "    \"mentions_88\",\n",
    "    \"mentions_wwg1wga\",\n",
    "    \"mentions_trump\",\n",
    "    \"mentions_trudeau\",\n",
    "    \"mentions_biden\",\n",
    "    \"mentions_honk\",\n",
    "    \"mentions_freedom\",\n",
    "    \"mentions_tyranny\",\n",
    "]"
   ]
  },
  {
   "cell_type": "markdown",
   "id": "171a393c-6120-4ad6-ac5c-5cccb560d612",
   "metadata": {},
   "source": [
    "#### PCT mentioning a keyword"
   ]
  },
  {
   "cell_type": "code",
   "execution_count": 23,
   "id": "fad7abbd-1db8-4d11-a944-99c2a8114390",
   "metadata": {},
   "outputs": [
    {
     "ename": "KeyError",
     "evalue": "'mentions_mandate'",
     "output_type": "error",
     "traceback": [
      "\u001b[0;31m---------------------------------------------------------------------------\u001b[0m",
      "\u001b[0;31mKeyError\u001b[0m                                  Traceback (most recent call last)",
      "File \u001b[0;32m~/.local/share/virtualenvs/notebooks-sxqKeO4C/lib/python3.8/site-packages/pandas/core/indexes/base.py:3361\u001b[0m, in \u001b[0;36mIndex.get_loc\u001b[0;34m(self, key, method, tolerance)\u001b[0m\n\u001b[1;32m   3360\u001b[0m \u001b[38;5;28;01mtry\u001b[39;00m:\n\u001b[0;32m-> 3361\u001b[0m     \u001b[38;5;28;01mreturn\u001b[39;00m \u001b[38;5;28;43mself\u001b[39;49m\u001b[38;5;241;43m.\u001b[39;49m\u001b[43m_engine\u001b[49m\u001b[38;5;241;43m.\u001b[39;49m\u001b[43mget_loc\u001b[49m\u001b[43m(\u001b[49m\u001b[43mcasted_key\u001b[49m\u001b[43m)\u001b[49m\n\u001b[1;32m   3362\u001b[0m \u001b[38;5;28;01mexcept\u001b[39;00m \u001b[38;5;167;01mKeyError\u001b[39;00m \u001b[38;5;28;01mas\u001b[39;00m err:\n",
      "File \u001b[0;32m~/.local/share/virtualenvs/notebooks-sxqKeO4C/lib/python3.8/site-packages/pandas/_libs/index.pyx:76\u001b[0m, in \u001b[0;36mpandas._libs.index.IndexEngine.get_loc\u001b[0;34m()\u001b[0m\n",
      "File \u001b[0;32m~/.local/share/virtualenvs/notebooks-sxqKeO4C/lib/python3.8/site-packages/pandas/_libs/index.pyx:108\u001b[0m, in \u001b[0;36mpandas._libs.index.IndexEngine.get_loc\u001b[0;34m()\u001b[0m\n",
      "File \u001b[0;32mpandas/_libs/hashtable_class_helper.pxi:5198\u001b[0m, in \u001b[0;36mpandas._libs.hashtable.PyObjectHashTable.get_item\u001b[0;34m()\u001b[0m\n",
      "File \u001b[0;32mpandas/_libs/hashtable_class_helper.pxi:5206\u001b[0m, in \u001b[0;36mpandas._libs.hashtable.PyObjectHashTable.get_item\u001b[0;34m()\u001b[0m\n",
      "\u001b[0;31mKeyError\u001b[0m: 'mentions_mandate'",
      "\nThe above exception was the direct cause of the following exception:\n",
      "\u001b[0;31mKeyError\u001b[0m                                  Traceback (most recent call last)",
      "Input \u001b[0;32mIn [23]\u001b[0m, in \u001b[0;36m<module>\u001b[0;34m\u001b[0m\n\u001b[1;32m      1\u001b[0m \u001b[38;5;28;01mfor\u001b[39;00m b \u001b[38;5;129;01min\u001b[39;00m boolean:\n\u001b[0;32m----> 2\u001b[0m     \u001b[38;5;28mprint\u001b[39m((\u001b[43mdf\u001b[49m\u001b[43m[\u001b[49m\u001b[43mb\u001b[49m\u001b[43m]\u001b[49m\u001b[38;5;241m.\u001b[39mvalue_counts()))\n",
      "File \u001b[0;32m~/.local/share/virtualenvs/notebooks-sxqKeO4C/lib/python3.8/site-packages/pandas/core/frame.py:3458\u001b[0m, in \u001b[0;36mDataFrame.__getitem__\u001b[0;34m(self, key)\u001b[0m\n\u001b[1;32m   3456\u001b[0m \u001b[38;5;28;01mif\u001b[39;00m \u001b[38;5;28mself\u001b[39m\u001b[38;5;241m.\u001b[39mcolumns\u001b[38;5;241m.\u001b[39mnlevels \u001b[38;5;241m>\u001b[39m \u001b[38;5;241m1\u001b[39m:\n\u001b[1;32m   3457\u001b[0m     \u001b[38;5;28;01mreturn\u001b[39;00m \u001b[38;5;28mself\u001b[39m\u001b[38;5;241m.\u001b[39m_getitem_multilevel(key)\n\u001b[0;32m-> 3458\u001b[0m indexer \u001b[38;5;241m=\u001b[39m \u001b[38;5;28;43mself\u001b[39;49m\u001b[38;5;241;43m.\u001b[39;49m\u001b[43mcolumns\u001b[49m\u001b[38;5;241;43m.\u001b[39;49m\u001b[43mget_loc\u001b[49m\u001b[43m(\u001b[49m\u001b[43mkey\u001b[49m\u001b[43m)\u001b[49m\n\u001b[1;32m   3459\u001b[0m \u001b[38;5;28;01mif\u001b[39;00m is_integer(indexer):\n\u001b[1;32m   3460\u001b[0m     indexer \u001b[38;5;241m=\u001b[39m [indexer]\n",
      "File \u001b[0;32m~/.local/share/virtualenvs/notebooks-sxqKeO4C/lib/python3.8/site-packages/pandas/core/indexes/base.py:3363\u001b[0m, in \u001b[0;36mIndex.get_loc\u001b[0;34m(self, key, method, tolerance)\u001b[0m\n\u001b[1;32m   3361\u001b[0m         \u001b[38;5;28;01mreturn\u001b[39;00m \u001b[38;5;28mself\u001b[39m\u001b[38;5;241m.\u001b[39m_engine\u001b[38;5;241m.\u001b[39mget_loc(casted_key)\n\u001b[1;32m   3362\u001b[0m     \u001b[38;5;28;01mexcept\u001b[39;00m \u001b[38;5;167;01mKeyError\u001b[39;00m \u001b[38;5;28;01mas\u001b[39;00m err:\n\u001b[0;32m-> 3363\u001b[0m         \u001b[38;5;28;01mraise\u001b[39;00m \u001b[38;5;167;01mKeyError\u001b[39;00m(key) \u001b[38;5;28;01mfrom\u001b[39;00m \u001b[38;5;21;01merr\u001b[39;00m\n\u001b[1;32m   3365\u001b[0m \u001b[38;5;28;01mif\u001b[39;00m is_scalar(key) \u001b[38;5;129;01mand\u001b[39;00m isna(key) \u001b[38;5;129;01mand\u001b[39;00m \u001b[38;5;129;01mnot\u001b[39;00m \u001b[38;5;28mself\u001b[39m\u001b[38;5;241m.\u001b[39mhasnans:\n\u001b[1;32m   3366\u001b[0m     \u001b[38;5;28;01mraise\u001b[39;00m \u001b[38;5;167;01mKeyError\u001b[39;00m(key)\n",
      "\u001b[0;31mKeyError\u001b[0m: 'mentions_mandate'"
     ]
    }
   ],
   "source": [
    "for b in boolean:\n",
    "    print((df[b].value_counts()))"
   ]
  },
  {
   "cell_type": "code",
   "execution_count": null,
   "id": "84670f6c-900e-4981-b79a-b7b0845cc537",
   "metadata": {},
   "outputs": [],
   "source": [
    "df_w_comment"
   ]
  },
  {
   "cell_type": "markdown",
   "id": "b6fe7bd5-afa3-4f4d-bb4b-5ba5d2dbdd98",
   "metadata": {},
   "source": [
    "---"
   ]
  },
  {
   "cell_type": "markdown",
   "id": "1bac0735-dbc1-450a-9669-553a9c763c09",
   "metadata": {},
   "source": [
    "## Dates"
   ]
  },
  {
   "cell_type": "markdown",
   "id": "15fc62b5-0258-45e3-971e-91af81ac1e7d",
   "metadata": {},
   "source": [
    "#### The dates are vague so categorize them"
   ]
  },
  {
   "cell_type": "code",
   "execution_count": null,
   "id": "a79c5851-f8a6-4614-a88d-5c5d50f83ba3",
   "metadata": {},
   "outputs": [],
   "source": [
    "df.donation_date = (\n",
    "    df.donation_date.str.replace(\"6 days ago\", \"2022-02-02\", regex=False)\n",
    "    .str.replace(\"5 days ago\", \"2022-02-03\", regex=False)\n",
    "    .str.replace(\"4 days ago\", \"2022-02-04\", regex=False)\n",
    "    .str.replace(\"3 days ago\", \"2022-02-05\", regex=False)\n",
    "    .str.replace(\"2 days ago\", \"2022-02-06\", regex=False)\n",
    "    .str.replace(\"1 days ago\", \"2022-02-07\", regex=False)\n",
    ")"
   ]
  },
  {
   "cell_type": "markdown",
   "id": "1e120949-ea0e-4935-8ded-6ad4e89e9a79",
   "metadata": {},
   "source": [
    "#### The data have also been scraped incrementally, so we have to lump the more recent stuff in a larger bucket"
   ]
  },
  {
   "cell_type": "code",
   "execution_count": null,
   "id": "20696553-758b-4aec-872f-ab68cb0ec67b",
   "metadata": {},
   "outputs": [],
   "source": [
    "df[\"donation_date\"] = np.where(\n",
    "    ~df[\"donation_date\"].str.contains(\"2022\", na=False),\n",
    "    \"2022-08-08 or later\",\n",
    "    df[\"donation_date\"],\n",
    ")"
   ]
  },
  {
   "cell_type": "markdown",
   "id": "c677ac86-f4ec-4b90-8bf9-4ffafb7982b8",
   "metadata": {},
   "source": [
    "#### Summarize donations by our categories"
   ]
  },
  {
   "cell_type": "code",
   "execution_count": null,
   "id": "e28c2ac8-2452-4834-a9fa-1166bd1b7b62",
   "metadata": {},
   "outputs": [],
   "source": [
    "dates = (\n",
    "    df.groupby([\"donation_date\"])\n",
    "    .agg({\"donation_id\": \"count\", \"donation_amount\": sum})\n",
    "    .reset_index()\n",
    ").rename(columns={\"donation_id\": \"count\", \"donation_amount\": \"sum\"})"
   ]
  },
  {
   "cell_type": "code",
   "execution_count": null,
   "id": "e222ece2-d1ee-4994-80f4-fb044f77b869",
   "metadata": {},
   "outputs": [],
   "source": [
    "dates"
   ]
  },
  {
   "cell_type": "markdown",
   "id": "c8d345f3-aa6d-4974-acbc-b1052e3a8677",
   "metadata": {},
   "source": [
    "#### Export the dates"
   ]
  },
  {
   "cell_type": "code",
   "execution_count": null,
   "id": "72c1c6aa-f0bf-4d1d-8357-6e559aba3f02",
   "metadata": {},
   "outputs": [],
   "source": [
    "dates.to_csv(\"data/processed/dates.csv\", index=False)"
   ]
  },
  {
   "cell_type": "markdown",
   "id": "438f4a5c-4452-4fd6-84d3-4a1dbebe93cf",
   "metadata": {},
   "source": [
    "---"
   ]
  },
  {
   "cell_type": "markdown",
   "id": "d27f3168-e069-4f6c-927f-441dcc0db663",
   "metadata": {},
   "source": [
    "## Distribution"
   ]
  },
  {
   "cell_type": "code",
   "execution_count": null,
   "id": "a673ea17-e0f6-424d-96d5-c394c3be11f4",
   "metadata": {},
   "outputs": [],
   "source": [
    "len(df[df[\"donation_amount\"] >= 5000])"
   ]
  },
  {
   "cell_type": "code",
   "execution_count": null,
   "id": "9182e90c-28f8-453f-8f59-5a7fb1dfe7b0",
   "metadata": {},
   "outputs": [],
   "source": [
    "df[df[\"donation_amount\"] >= 5000].sort_values(\"donation_amount\").head()"
   ]
  },
  {
   "cell_type": "code",
   "execution_count": null,
   "id": "9b57f958-a79f-4694-a66a-d0974b722e84",
   "metadata": {},
   "outputs": [],
   "source": []
  },
  {
   "cell_type": "markdown",
   "id": "16fde2cb-39b8-4cb5-9987-ea3971904e14",
   "metadata": {},
   "source": [
    "---"
   ]
  },
  {
   "cell_type": "code",
   "execution_count": null,
   "id": "b6f199eb-631a-4db5-9c7d-091256640ca8",
   "metadata": {},
   "outputs": [],
   "source": [
    "df[\"donation_name\"] = df[\"donation_name\"].str.strip().str.lower()"
   ]
  },
  {
   "cell_type": "code",
   "execution_count": null,
   "id": "1830d41c-ea3d-4b94-abce-67c24b24ecc2",
   "metadata": {},
   "outputs": [],
   "source": []
  },
  {
   "cell_type": "code",
   "execution_count": null,
   "id": "976adae6-0966-4a43-8c34-282c470f60a5",
   "metadata": {},
   "outputs": [],
   "source": [
    "df[df[\"donation_name\"].str.contains(\"processed but not\")].iloc[0]"
   ]
  },
  {
   "cell_type": "markdown",
   "id": "a6146832-183a-47ce-a909-9aa925784624",
   "metadata": {},
   "source": [
    "### Group to count and sum donations by donor name"
   ]
  },
  {
   "cell_type": "code",
   "execution_count": null,
   "id": "614de335-b534-45d1-a09e-4299f5699a2f",
   "metadata": {},
   "outputs": [],
   "source": [
    "df.groupby([\"donation_name\"]).agg(\n",
    "    {\"donation_amount\": [np.size, np.sum]}\n",
    ").reset_index().sort_values((\"donation_amount\", \"sum\"), ascending=False).head(40)"
   ]
  },
  {
   "cell_type": "code",
   "execution_count": null,
   "id": "171fef93-0ed4-47e8-b950-bc20046e8816",
   "metadata": {},
   "outputs": [],
   "source": []
  },
  {
   "cell_type": "code",
   "execution_count": null,
   "id": "ba882cdb-ce3b-4a57-b283-ebb8109b4937",
   "metadata": {},
   "outputs": [],
   "source": [
    "### How does this compare to other campaigns"
   ]
  },
  {
   "cell_type": "code",
   "execution_count": null,
   "id": "90deba4e-91fb-4cf6-9c9e-1be1509f1fbb",
   "metadata": {},
   "outputs": [],
   "source": []
  },
  {
   "cell_type": "code",
   "execution_count": null,
   "id": "bdb8a479-f667-4280-a1da-2135a00b0a91",
   "metadata": {},
   "outputs": [],
   "source": [
    "df.groupby([\"donation_name\"]).agg(\n",
    "    {\"donation_amount\": [np.size, np.sum]}\n",
    ").reset_index().sort_values((\"donation_amount\", \"size\"), ascending=False).head(20)"
   ]
  },
  {
   "cell_type": "code",
   "execution_count": null,
   "id": "21471d95-d909-4052-825a-4a27ee5fec1f",
   "metadata": {},
   "outputs": [],
   "source": [
    "# 100 biggest donations\n",
    "# 100 first donations"
   ]
  },
  {
   "cell_type": "code",
   "execution_count": null,
   "id": "18b067ed-8fe1-41fd-a7ec-e7815c921975",
   "metadata": {},
   "outputs": [],
   "source": [
    "df.sort_values(\"donation_amount\", ascending=False).head(100).to_csv(\n",
    "    \"data/processed/100_largest_donations.csv\", index=False\n",
    ")"
   ]
  },
  {
   "cell_type": "code",
   "execution_count": null,
   "id": "a815b450-4a33-4a70-be21-3642e51244bf",
   "metadata": {},
   "outputs": [],
   "source": [
    "df.sort_values(\"donation_date\", ascending=True).head(100).to_csv(\n",
    "    \"data/processed/100_earliest_donations.csv\", index=False\n",
    ")"
   ]
  },
  {
   "cell_type": "code",
   "execution_count": null,
   "id": "57af3532-7ebe-411d-8a64-6c2f657b5648",
   "metadata": {},
   "outputs": [],
   "source": [
    "df.sort_values(\"donation_date\", ascending=True).to_csv(\n",
    "    \"data/processed/all_donations.csv\", index=False\n",
    ")"
   ]
  },
  {
   "cell_type": "code",
   "execution_count": null,
   "id": "7c6ff2b3-016a-4036-9303-a60e9373acb0",
   "metadata": {},
   "outputs": [],
   "source": [
    "weird_entries = [\n",
    "    481566,\n",
    "    474249,\n",
    "    492432,\n",
    "    471986,\n",
    "    507120,\n",
    "    499386,\n",
    "    498521,\n",
    "    484448,\n",
    "    493519,\n",
    "    476071,\n",
    "    521675,\n",
    "    516745,\n",
    "]"
   ]
  },
  {
   "cell_type": "code",
   "execution_count": null,
   "id": "157b5dd8-53aa-4685-a6dc-7c8ee1bdd033",
   "metadata": {},
   "outputs": [],
   "source": [
    "df[df[\"donation_id\"].isin(weird_entries)]"
   ]
  },
  {
   "cell_type": "code",
   "execution_count": null,
   "id": "db018ca5-72c6-44f6-83d3-67a86c030c75",
   "metadata": {},
   "outputs": [],
   "source": [
    "df[df[\"donation_name\"].str.contains(\"processed but not recorded\")].iloc[0]"
   ]
  },
  {
   "cell_type": "markdown",
   "id": "e12249f1-0ba5-42ea-8241-3960ff7197e4",
   "metadata": {},
   "source": [
    "---"
   ]
  },
  {
   "cell_type": "code",
   "execution_count": null,
   "id": "72e3c936-d377-4ac5-a786-cc4bf9554eec",
   "metadata": {},
   "outputs": [],
   "source": [
    "df.head()"
   ]
  },
  {
   "cell_type": "code",
   "execution_count": null,
   "id": "45aba436-64f0-44fe-aa66-086b05240782",
   "metadata": {},
   "outputs": [],
   "source": []
  },
  {
   "cell_type": "markdown",
   "id": "38636791-bf98-46b0-9e4e-884a97c0dd0b",
   "metadata": {},
   "source": [
    "### Get a dataframe listing all the words mentioned in the 'comment' column and clean it up"
   ]
  },
  {
   "cell_type": "code",
   "execution_count": null,
   "id": "f951fe79-f4c4-4d5d-8fa4-afbab9be7e7b",
   "metadata": {},
   "outputs": [],
   "source": [
    "words = (\n",
    "    pd.DataFrame(\n",
    "        df[\"donation_comment\"]\n",
    "        .str.replace(\",\", \"\", regex=False)\n",
    "        .str.replace(\"|\", \"\", regex=False)\n",
    "        .str.replace(\"&\", \"\", regex=False)\n",
    "        .str.replace(\"-\", \"\", regex=False)\n",
    "        .str.strip()\n",
    "        .str.split(expand=True)\n",
    "        .stack()\n",
    "        .value_counts(),\n",
    "        columns=[\"count\"],\n",
    "    )\n",
    "    .reset_index()\n",
    "    .rename(columns={\"index\": \"word\"})\n",
    ")"
   ]
  },
  {
   "cell_type": "markdown",
   "id": "df3ab021-e54c-4980-a122-751e90bd099e",
   "metadata": {},
   "source": [
    "### Lowercase words"
   ]
  },
  {
   "cell_type": "code",
   "execution_count": null,
   "id": "be458a70-6a90-4505-9d56-ae96518e5390",
   "metadata": {},
   "outputs": [],
   "source": [
    "words[\"word\"] = words[\"word\"].str.lower()"
   ]
  },
  {
   "cell_type": "markdown",
   "id": "fd58664c-eac5-49ca-a49c-7b2725cc48c0",
   "metadata": {},
   "source": [
    "### Group by animal and sum"
   ]
  },
  {
   "cell_type": "code",
   "execution_count": null,
   "id": "4099107a-c008-4313-8b51-5b8e8baf05c3",
   "metadata": {},
   "outputs": [],
   "source": [
    "words_grouped = (\n",
    "    words.groupby(\"word\")\n",
    "    .agg({\"count\": sum})\n",
    "    .reset_index()\n",
    "    .sort_values(\"count\", ascending=False)\n",
    ")"
   ]
  },
  {
   "cell_type": "markdown",
   "id": "c56d3826-0629-4b6d-9a92-2482fa66f9bd",
   "metadata": {},
   "source": [
    "### Share for each animal out of all the animals"
   ]
  },
  {
   "cell_type": "code",
   "execution_count": null,
   "id": "b39b8781-ddbf-42e9-ab13-797cad4b8014",
   "metadata": {},
   "outputs": [],
   "source": [
    "words_grouped[\"share\"] = (\n",
    "    (words_grouped[\"count\"] / words_grouped[\"count\"].sum()) * 100\n",
    ").round(2)"
   ]
  },
  {
   "cell_type": "code",
   "execution_count": null,
   "id": "cc9ef0ed-b3d6-490d-b775-e1271a5ce9b7",
   "metadata": {},
   "outputs": [],
   "source": [
    "words_grouped.head(20)"
   ]
  },
  {
   "cell_type": "code",
   "execution_count": null,
   "id": "dcd1cfe2-a0dc-4d4d-aa3d-bc398c6c6349",
   "metadata": {},
   "outputs": [],
   "source": [
    "df.head()"
   ]
  },
  {
   "cell_type": "code",
   "execution_count": null,
   "id": "a1079f23-6fab-485c-98a7-1b6fdb25e994",
   "metadata": {},
   "outputs": [],
   "source": []
  }
 ],
 "metadata": {
  "kernelspec": {
   "display_name": "Python 3 (ipykernel)",
   "language": "python",
   "name": "python3"
  },
  "language_info": {
   "codemirror_mode": {
    "name": "ipython",
    "version": 3
   },
   "file_extension": ".py",
   "mimetype": "text/x-python",
   "name": "python",
   "nbconvert_exporter": "python",
   "pygments_lexer": "ipython3",
   "version": "3.8.9"
  }
 },
 "nbformat": 4,
 "nbformat_minor": 5
}
