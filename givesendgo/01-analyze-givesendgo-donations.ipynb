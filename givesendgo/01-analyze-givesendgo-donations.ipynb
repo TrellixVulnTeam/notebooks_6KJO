{
 "cells": [
  {
   "cell_type": "markdown",
   "id": "c4acabe6-5af7-4f6c-b9ac-9c7651243803",
   "metadata": {},
   "source": [
    "# Analyze GiveSendGo data"
   ]
  },
  {
   "cell_type": "code",
   "execution_count": 69,
   "id": "81b982f0-cb13-4a3c-9794-fcab97c4e46d",
   "metadata": {},
   "outputs": [],
   "source": [
    "%load_ext lab_black"
   ]
  },
  {
   "cell_type": "code",
   "execution_count": 6,
   "id": "1c25578f-33d3-4f7a-b7dd-3ac92a9b09a2",
   "metadata": {},
   "outputs": [],
   "source": [
    "import pandas as pd\n",
    "import json\n",
    "import numpy as np\n",
    "import altair as alt\n",
    "import os\n",
    "import glob"
   ]
  },
  {
   "cell_type": "code",
   "execution_count": 7,
   "id": "51eba57c-cdee-4e95-a091-eaa08bf5fbbe",
   "metadata": {},
   "outputs": [],
   "source": [
    "pd.options.display.max_columns = 1000\n",
    "pd.options.display.max_rows = 1000\n",
    "pd.options.display.max_colwidth = None"
   ]
  },
  {
   "cell_type": "markdown",
   "id": "fb9ae97e-b820-46d2-962b-96f66d76ecbc",
   "metadata": {},
   "source": [
    "### Read and concatenate the most recent json files"
   ]
  },
  {
   "cell_type": "code",
   "execution_count": 49,
   "id": "33ba0677-e5c7-43ef-b9d5-3cb2a104702b",
   "metadata": {},
   "outputs": [],
   "source": [
    "path_to_json = 'increments/new' \n",
    "\n",
    "json_pattern = os.path.join(path_to_json,'*.json')\n",
    "file_list = glob.glob(json_pattern)"
   ]
  },
  {
   "cell_type": "code",
   "execution_count": 50,
   "id": "fe4cc51f-5ecc-43b4-9fbb-d4941a13407e",
   "metadata": {},
   "outputs": [],
   "source": [
    "dfs = []\n",
    "for file in file_list:\n",
    "    with open(file) as f:\n",
    "        json_data = (json.loads(f.read()))\n",
    "        dfs.append(json_data)"
   ]
  },
  {
   "cell_type": "code",
   "execution_count": 51,
   "id": "949254d4-98b4-4398-9d3f-4e5213d97705",
   "metadata": {},
   "outputs": [],
   "source": [
    "all_data = []\n",
    "\n",
    "for d in dfs:\n",
    "    df = pd.DataFrame(d[\"returnData\"]['donations'])\n",
    "    all_data.append(df)\n",
    "\n",
    "new_df = pd.concat(all_data)"
   ]
  },
  {
   "cell_type": "code",
   "execution_count": 52,
   "id": "a790c33f-8ecf-429e-ad28-4c144868ebf7",
   "metadata": {},
   "outputs": [
    {
     "data": {
      "text/plain": [
       "26750"
      ]
     },
     "execution_count": 52,
     "metadata": {},
     "output_type": "execute_result"
    }
   ],
   "source": [
    "len(new_df)"
   ]
  },
  {
   "cell_type": "markdown",
   "id": "d15fc096-0885-417c-92d8-792207367cee",
   "metadata": {},
   "source": [
    "### Get the previously scraped data"
   ]
  },
  {
   "cell_type": "code",
   "execution_count": 55,
   "id": "41686acb-b8ca-4a3a-b794-da8844231058",
   "metadata": {},
   "outputs": [],
   "source": [
    "with open(\"increments/data_increment_536789.json\") as f:\n",
    "    data_backup = json.load(f)"
   ]
  },
  {
   "cell_type": "code",
   "execution_count": 56,
   "id": "f4113167-df1b-4b76-9bc3-5baf74b89092",
   "metadata": {},
   "outputs": [],
   "source": [
    "all_data_old = []\n",
    "\n",
    "for d in data_backup:\n",
    "    df = pd.DataFrame(d[\"returnData\"][\"donations\"])\n",
    "    all_data_old.append(df)\n",
    "\n",
    "old_df = pd.concat(all_data_old)"
   ]
  },
  {
   "cell_type": "markdown",
   "id": "c733435e-5a95-4c5f-992e-00eafa7fb7bb",
   "metadata": {},
   "source": [
    "### Combine the two dataframes"
   ]
  },
  {
   "cell_type": "code",
   "execution_count": 87,
   "id": "95b3f064-6e79-457c-9602-d7886bdfc309",
   "metadata": {},
   "outputs": [],
   "source": [
    "df = pd.concat([old_df, new_df])"
   ]
  },
  {
   "cell_type": "code",
   "execution_count": 94,
   "id": "abf8db44-857b-4cec-8863-29f3021197a0",
   "metadata": {},
   "outputs": [],
   "source": [
    "df = df.drop_duplicates().copy()"
   ]
  },
  {
   "cell_type": "code",
   "execution_count": 95,
   "id": "615ef816-a6e5-4502-8641-35fe281f1e17",
   "metadata": {},
   "outputs": [],
   "source": [
    "df.donation_amount = df.donation_amount.astype(float)"
   ]
  },
  {
   "cell_type": "code",
   "execution_count": 96,
   "id": "e01cdf78-577d-40d4-b6b0-7cb1ef635304",
   "metadata": {},
   "outputs": [
    {
     "data": {
      "text/plain": [
       "7495548.5"
      ]
     },
     "execution_count": 96,
     "metadata": {},
     "output_type": "execute_result"
    }
   ],
   "source": [
    "df.donation_amount.sum()"
   ]
  },
  {
   "cell_type": "code",
   "execution_count": 97,
   "id": "94c82ad5-f36a-40d3-a3db-a5694bfb0be4",
   "metadata": {},
   "outputs": [
    {
     "data": {
      "text/plain": [
       "90.27"
      ]
     },
     "execution_count": 97,
     "metadata": {},
     "output_type": "execute_result"
    }
   ],
   "source": [
    "df.donation_amount.mean().round(2)"
   ]
  },
  {
   "cell_type": "code",
   "execution_count": 98,
   "id": "82719e40-4fdf-44f7-9298-1ae1bbad8598",
   "metadata": {},
   "outputs": [
    {
     "data": {
      "text/plain": [
       "83033"
      ]
     },
     "execution_count": 98,
     "metadata": {},
     "output_type": "execute_result"
    }
   ],
   "source": [
    "df.donation_name.count()"
   ]
  },
  {
   "cell_type": "code",
   "execution_count": 99,
   "id": "4c7d01b2-a837-4064-b298-06c39b87ebc3",
   "metadata": {},
   "outputs": [
    {
     "data": {
      "text/html": [
       "<div>\n",
       "<style scoped>\n",
       "    .dataframe tbody tr th:only-of-type {\n",
       "        vertical-align: middle;\n",
       "    }\n",
       "\n",
       "    .dataframe tbody tr th {\n",
       "        vertical-align: top;\n",
       "    }\n",
       "\n",
       "    .dataframe thead th {\n",
       "        text-align: right;\n",
       "    }\n",
       "</style>\n",
       "<table border=\"1\" class=\"dataframe\">\n",
       "  <thead>\n",
       "    <tr style=\"text-align: right;\">\n",
       "      <th></th>\n",
       "      <th>donation_id</th>\n",
       "      <th>campaign_id</th>\n",
       "      <th>donation_amount</th>\n",
       "      <th>donation_comment</th>\n",
       "      <th>donation_conversion_rate</th>\n",
       "      <th>donation_name</th>\n",
       "      <th>donation_anonymous</th>\n",
       "      <th>donation_date</th>\n",
       "      <th>lovecount</th>\n",
       "      <th>likes</th>\n",
       "    </tr>\n",
       "  </thead>\n",
       "  <tbody>\n",
       "    <tr>\n",
       "      <th>0</th>\n",
       "      <td>463549</td>\n",
       "      <td>49000</td>\n",
       "      <td>100.0</td>\n",
       "      <td>We support the Truckers standing up for our freedom.</td>\n",
       "      <td>1.000000</td>\n",
       "      <td>Jeff Brain</td>\n",
       "      <td>0</td>\n",
       "      <td>6 days ago</td>\n",
       "      <td>0</td>\n",
       "      <td>0</td>\n",
       "    </tr>\n",
       "    <tr>\n",
       "      <th>0</th>\n",
       "      <td>464203</td>\n",
       "      <td>49000</td>\n",
       "      <td>100.0</td>\n",
       "      <td>God Bless you and Keep you safe!  Freedom for All!</td>\n",
       "      <td>1.000000</td>\n",
       "      <td>Edwards</td>\n",
       "      <td>0</td>\n",
       "      <td>6 days ago</td>\n",
       "      <td>0</td>\n",
       "      <td>0</td>\n",
       "    </tr>\n",
       "    <tr>\n",
       "      <th>2</th>\n",
       "      <td>464220</td>\n",
       "      <td>49000</td>\n",
       "      <td>25.0</td>\n",
       "      <td>Thank you! God bless you all and keep you safe. Godspeed you on your mission! ❤️😀❤️</td>\n",
       "      <td>1.000000</td>\n",
       "      <td>MaryEllen Stevens</td>\n",
       "      <td>0</td>\n",
       "      <td>6 days ago</td>\n",
       "      <td>0</td>\n",
       "      <td>0</td>\n",
       "    </tr>\n",
       "    <tr>\n",
       "      <th>3</th>\n",
       "      <td>464221</td>\n",
       "      <td>49000</td>\n",
       "      <td>10.0</td>\n",
       "      <td>Glory to God.</td>\n",
       "      <td>1.000000</td>\n",
       "      <td>Our turn.</td>\n",
       "      <td>0</td>\n",
       "      <td>6 days ago</td>\n",
       "      <td>0</td>\n",
       "      <td>0</td>\n",
       "    </tr>\n",
       "    <tr>\n",
       "      <th>1</th>\n",
       "      <td>464223</td>\n",
       "      <td>49000</td>\n",
       "      <td>20.0</td>\n",
       "      <td>Go Truckers!</td>\n",
       "      <td>1.000000</td>\n",
       "      <td></td>\n",
       "      <td>0</td>\n",
       "      <td>6 days ago</td>\n",
       "      <td>0</td>\n",
       "      <td>0</td>\n",
       "    </tr>\n",
       "  </tbody>\n",
       "</table>\n",
       "</div>"
      ],
      "text/plain": [
       "   donation_id  campaign_id  donation_amount  \\\n",
       "0       463549        49000            100.0   \n",
       "0       464203        49000            100.0   \n",
       "2       464220        49000             25.0   \n",
       "3       464221        49000             10.0   \n",
       "1       464223        49000             20.0   \n",
       "\n",
       "                                                                      donation_comment  \\\n",
       "0                                We support the Truckers standing up for our freedom.    \n",
       "0                                   God Bless you and Keep you safe!  Freedom for All!   \n",
       "2  Thank you! God bless you all and keep you safe. Godspeed you on your mission! ❤️😀❤️   \n",
       "3                                                                        Glory to God.   \n",
       "1                                                                         Go Truckers!   \n",
       "\n",
       "  donation_conversion_rate       donation_name  donation_anonymous  \\\n",
       "0                 1.000000          Jeff Brain                   0   \n",
       "0                 1.000000            Edwards                    0   \n",
       "2                 1.000000  MaryEllen Stevens                    0   \n",
       "3                 1.000000           Our turn.                   0   \n",
       "1                 1.000000                                       0   \n",
       "\n",
       "  donation_date  lovecount  likes  \n",
       "0    6 days ago          0      0  \n",
       "0    6 days ago          0      0  \n",
       "2    6 days ago          0      0  \n",
       "3    6 days ago          0      0  \n",
       "1    6 days ago          0      0  "
      ]
     },
     "execution_count": 99,
     "metadata": {},
     "output_type": "execute_result"
    }
   ],
   "source": [
    "df.sort_values(\"donation_id\").head()"
   ]
  },
  {
   "cell_type": "markdown",
   "id": "1bac0735-dbc1-450a-9669-553a9c763c09",
   "metadata": {},
   "source": [
    "### Dates"
   ]
  },
  {
   "cell_type": "code",
   "execution_count": 100,
   "id": "db923fd8-11da-41e3-8e3c-bc4ff29ef88d",
   "metadata": {},
   "outputs": [],
   "source": [
    "df.donation_date = (\n",
    "    df.donation_date.str.replace(\"6 days ago\", \"2022-02-02\", regex=False)\n",
    "    .str.replace(\"5 days ago\", \"2022-02-03\", regex=False)\n",
    "    .str.replace(\"4 days ago\", \"2022-02-04\", regex=False)\n",
    "    .str.replace(\"3 days ago\", \"2022-02-05\", regex=False)\n",
    "    .str.replace(\"2 days ago\", \"2022-02-06\", regex=False)\n",
    "    .str.replace(\"1 days ago\", \"2022-02-07\", regex=False)\n",
    ")"
   ]
  },
  {
   "cell_type": "code",
   "execution_count": 102,
   "id": "07ad3f84-0fc0-46c9-9bac-d2dbbb097cbe",
   "metadata": {},
   "outputs": [],
   "source": [
    "df['donation_date'] = np.where(~df['donation_date'].str.contains(\"2022\", na=False), \"2022-08-08 or later\", df['donation_date'])"
   ]
  },
  {
   "cell_type": "code",
   "execution_count": 116,
   "id": "4619d04d-b7c1-4e0c-a57c-2548458aa8a1",
   "metadata": {},
   "outputs": [],
   "source": [
    "dates = (\n",
    "    df.groupby([\"donation_date\"])\n",
    "    .agg({\"donation_id\": \"count\", \"donation_amount\": sum})\n",
    "    .reset_index()\n",
    ")"
   ]
  },
  {
   "cell_type": "code",
   "execution_count": 117,
   "id": "e222ece2-d1ee-4994-80f4-fb044f77b869",
   "metadata": {},
   "outputs": [],
   "source": [
    "dates.rename(columns={\"donation_id\": \"count\", \"donation_amount\": \"sum\"}, inplace=True)"
   ]
  },
  {
   "cell_type": "code",
   "execution_count": null,
   "id": "e4f60538-5fba-450f-9114-d0773e467485",
   "metadata": {},
   "outputs": [],
   "source": []
  },
  {
   "cell_type": "code",
   "execution_count": 118,
   "id": "72c1c6aa-f0bf-4d1d-8357-6e559aba3f02",
   "metadata": {},
   "outputs": [
    {
     "data": {
      "text/html": [
       "<div>\n",
       "<style scoped>\n",
       "    .dataframe tbody tr th:only-of-type {\n",
       "        vertical-align: middle;\n",
       "    }\n",
       "\n",
       "    .dataframe tbody tr th {\n",
       "        vertical-align: top;\n",
       "    }\n",
       "\n",
       "    .dataframe thead th {\n",
       "        text-align: right;\n",
       "    }\n",
       "</style>\n",
       "<table border=\"1\" class=\"dataframe\">\n",
       "  <thead>\n",
       "    <tr style=\"text-align: right;\">\n",
       "      <th></th>\n",
       "      <th>donation_date</th>\n",
       "      <th>count</th>\n",
       "      <th>sum</th>\n",
       "    </tr>\n",
       "  </thead>\n",
       "  <tbody>\n",
       "    <tr>\n",
       "      <th>0</th>\n",
       "      <td>2022-02-02</td>\n",
       "      <td>61</td>\n",
       "      <td>3348.0</td>\n",
       "    </tr>\n",
       "    <tr>\n",
       "      <th>1</th>\n",
       "      <td>2022-02-03</td>\n",
       "      <td>112</td>\n",
       "      <td>6651.5</td>\n",
       "    </tr>\n",
       "    <tr>\n",
       "      <th>2</th>\n",
       "      <td>2022-02-04</td>\n",
       "      <td>115</td>\n",
       "      <td>5424.0</td>\n",
       "    </tr>\n",
       "    <tr>\n",
       "      <th>3</th>\n",
       "      <td>2022-02-05</td>\n",
       "      <td>2965</td>\n",
       "      <td>311979.0</td>\n",
       "    </tr>\n",
       "    <tr>\n",
       "      <th>4</th>\n",
       "      <td>2022-02-06</td>\n",
       "      <td>17561</td>\n",
       "      <td>1923301.0</td>\n",
       "    </tr>\n",
       "    <tr>\n",
       "      <th>5</th>\n",
       "      <td>2022-02-07</td>\n",
       "      <td>32499</td>\n",
       "      <td>2793103.0</td>\n",
       "    </tr>\n",
       "    <tr>\n",
       "      <th>6</th>\n",
       "      <td>2022-08-08 or later</td>\n",
       "      <td>29720</td>\n",
       "      <td>2451742.0</td>\n",
       "    </tr>\n",
       "  </tbody>\n",
       "</table>\n",
       "</div>"
      ],
      "text/plain": [
       "         donation_date  count        sum\n",
       "0           2022-02-02     61     3348.0\n",
       "1           2022-02-03    112     6651.5\n",
       "2           2022-02-04    115     5424.0\n",
       "3           2022-02-05   2965   311979.0\n",
       "4           2022-02-06  17561  1923301.0\n",
       "5           2022-02-07  32499  2793103.0\n",
       "6  2022-08-08 or later  29720  2451742.0"
      ]
     },
     "execution_count": 118,
     "metadata": {},
     "output_type": "execute_result"
    }
   ],
   "source": [
    "dates"
   ]
  },
  {
   "cell_type": "code",
   "execution_count": 122,
   "id": "dd88b757-e38a-4c3d-9846-2183bd50ccc3",
   "metadata": {},
   "outputs": [
    {
     "data": {
      "text/html": [
       "\n",
       "<div id=\"altair-viz-cb40c7294fe641b085bb627d33357f5b\"></div>\n",
       "<script type=\"text/javascript\">\n",
       "  var VEGA_DEBUG = (typeof VEGA_DEBUG == \"undefined\") ? {} : VEGA_DEBUG;\n",
       "  (function(spec, embedOpt){\n",
       "    let outputDiv = document.currentScript.previousElementSibling;\n",
       "    if (outputDiv.id !== \"altair-viz-cb40c7294fe641b085bb627d33357f5b\") {\n",
       "      outputDiv = document.getElementById(\"altair-viz-cb40c7294fe641b085bb627d33357f5b\");\n",
       "    }\n",
       "    const paths = {\n",
       "      \"vega\": \"https://cdn.jsdelivr.net/npm//vega@5?noext\",\n",
       "      \"vega-lib\": \"https://cdn.jsdelivr.net/npm//vega-lib?noext\",\n",
       "      \"vega-lite\": \"https://cdn.jsdelivr.net/npm//vega-lite@4.17.0?noext\",\n",
       "      \"vega-embed\": \"https://cdn.jsdelivr.net/npm//vega-embed@6?noext\",\n",
       "    };\n",
       "\n",
       "    function maybeLoadScript(lib, version) {\n",
       "      var key = `${lib.replace(\"-\", \"\")}_version`;\n",
       "      return (VEGA_DEBUG[key] == version) ?\n",
       "        Promise.resolve(paths[lib]) :\n",
       "        new Promise(function(resolve, reject) {\n",
       "          var s = document.createElement('script');\n",
       "          document.getElementsByTagName(\"head\")[0].appendChild(s);\n",
       "          s.async = true;\n",
       "          s.onload = () => {\n",
       "            VEGA_DEBUG[key] = version;\n",
       "            return resolve(paths[lib]);\n",
       "          };\n",
       "          s.onerror = () => reject(`Error loading script: ${paths[lib]}`);\n",
       "          s.src = paths[lib];\n",
       "        });\n",
       "    }\n",
       "\n",
       "    function showError(err) {\n",
       "      outputDiv.innerHTML = `<div class=\"error\" style=\"color:red;\">${err}</div>`;\n",
       "      throw err;\n",
       "    }\n",
       "\n",
       "    function displayChart(vegaEmbed) {\n",
       "      vegaEmbed(outputDiv, spec, embedOpt)\n",
       "        .catch(err => showError(`Javascript Error: ${err.message}<br>This usually means there's a typo in your chart specification. See the javascript console for the full traceback.`));\n",
       "    }\n",
       "\n",
       "    if(typeof define === \"function\" && define.amd) {\n",
       "      requirejs.config({paths});\n",
       "      require([\"vega-embed\"], displayChart, err => showError(`Error loading script: ${err.message}`));\n",
       "    } else {\n",
       "      maybeLoadScript(\"vega\", \"5\")\n",
       "        .then(() => maybeLoadScript(\"vega-lite\", \"4.17.0\"))\n",
       "        .then(() => maybeLoadScript(\"vega-embed\", \"6\"))\n",
       "        .catch(showError)\n",
       "        .then(() => displayChart(vegaEmbed));\n",
       "    }\n",
       "  })({\"config\": {\"view\": {\"continuousWidth\": 400, \"continuousHeight\": 300}}, \"data\": {\"name\": \"data-dd5a33b3965a6808b0457ad4133d68a7\"}, \"mark\": {\"type\": \"bar\", \"width\": 20}, \"encoding\": {\"x\": {\"axis\": {\"format\": \"%b. %d\", \"tickCount\": 6}, \"field\": \"donation_date\", \"title\": \"Donation date\", \"type\": \"temporal\"}, \"y\": {\"axis\": {\"tickCount\": 6}, \"field\": \"sum\", \"title\": \"Dollars raised\", \"type\": \"quantitative\"}}, \"$schema\": \"https://vega.github.io/schema/vega-lite/v4.17.0.json\", \"datasets\": {\"data-dd5a33b3965a6808b0457ad4133d68a7\": [{\"donation_date\": \"2022-02-02\", \"count\": 61, \"sum\": 3348.0}, {\"donation_date\": \"2022-02-03\", \"count\": 112, \"sum\": 6651.5}, {\"donation_date\": \"2022-02-04\", \"count\": 115, \"sum\": 5424.0}, {\"donation_date\": \"2022-02-05\", \"count\": 2965, \"sum\": 311979.0}, {\"donation_date\": \"2022-02-06\", \"count\": 17561, \"sum\": 1923301.0}, {\"donation_date\": \"2022-02-07\", \"count\": 32499, \"sum\": 2793103.0}, {\"donation_date\": \"2022-08-08 or later\", \"count\": 29720, \"sum\": 2451742.0}]}}, {\"mode\": \"vega-lite\"});\n",
       "</script>"
      ],
      "text/plain": [
       "alt.Chart(...)"
      ]
     },
     "execution_count": 122,
     "metadata": {},
     "output_type": "execute_result"
    }
   ],
   "source": [
    "alt.Chart(dates).mark_bar(width=20).encode(\n",
    "    x=alt.X(\n",
    "        \"donation_date:T\",\n",
    "        axis=alt.Axis(format=\"%b. %d\", tickCount=6),\n",
    "        title=\"Donation date\",\n",
    "    ),\n",
    "    y=alt.Y(\"sum\", axis=alt.Axis(tickCount=6), title=\"Dollars raised\"),\n",
    ")"
   ]
  },
  {
   "cell_type": "markdown",
   "id": "16fde2cb-39b8-4cb5-9987-ea3971904e14",
   "metadata": {},
   "source": [
    "---"
   ]
  },
  {
   "cell_type": "code",
   "execution_count": 123,
   "id": "17ae9566-6ad2-411f-a239-7682ede7dc94",
   "metadata": {},
   "outputs": [],
   "source": [
    "df[\"donation_name\"] = df[\"donation_name\"].str.strip().str.lower()"
   ]
  },
  {
   "cell_type": "code",
   "execution_count": 124,
   "id": "baeb3fb6-a62e-4eb9-b570-4b34a833931f",
   "metadata": {},
   "outputs": [],
   "source": [
    "df.loc[df[\"donation_anonymous\"] > 1, \"donation_name\"] = \"anonymous\""
   ]
  },
  {
   "cell_type": "markdown",
   "id": "a6146832-183a-47ce-a909-9aa925784624",
   "metadata": {},
   "source": [
    "### Group to count and sum donations by donor name"
   ]
  },
  {
   "cell_type": "code",
   "execution_count": 125,
   "id": "614de335-b534-45d1-a09e-4299f5699a2f",
   "metadata": {},
   "outputs": [
    {
     "data": {
      "text/html": [
       "<div>\n",
       "<style scoped>\n",
       "    .dataframe tbody tr th:only-of-type {\n",
       "        vertical-align: middle;\n",
       "    }\n",
       "\n",
       "    .dataframe tbody tr th {\n",
       "        vertical-align: top;\n",
       "    }\n",
       "\n",
       "    .dataframe thead tr th {\n",
       "        text-align: left;\n",
       "    }\n",
       "</style>\n",
       "<table border=\"1\" class=\"dataframe\">\n",
       "  <thead>\n",
       "    <tr>\n",
       "      <th></th>\n",
       "      <th>donation_name</th>\n",
       "      <th colspan=\"2\" halign=\"left\">donation_amount</th>\n",
       "    </tr>\n",
       "    <tr>\n",
       "      <th></th>\n",
       "      <th></th>\n",
       "      <th>size</th>\n",
       "      <th>sum</th>\n",
       "    </tr>\n",
       "  </thead>\n",
       "  <tbody>\n",
       "    <tr>\n",
       "      <th>0</th>\n",
       "      <td></td>\n",
       "      <td>42011</td>\n",
       "      <td>3479244.5</td>\n",
       "    </tr>\n",
       "    <tr>\n",
       "      <th>24204</th>\n",
       "      <td>processed but not recorded.</td>\n",
       "      <td>1</td>\n",
       "      <td>215000.0</td>\n",
       "    </tr>\n",
       "    <tr>\n",
       "      <th>8650</th>\n",
       "      <td>easy kleen pressure systems ltd</td>\n",
       "      <td>1</td>\n",
       "      <td>75000.0</td>\n",
       "    </tr>\n",
       "    <tr>\n",
       "      <th>1586</th>\n",
       "      <td>anonymous</td>\n",
       "      <td>499</td>\n",
       "      <td>42931.0</td>\n",
       "    </tr>\n",
       "    <tr>\n",
       "      <th>10057</th>\n",
       "      <td>freedom</td>\n",
       "      <td>324</td>\n",
       "      <td>25906.0</td>\n",
       "    </tr>\n",
       "    <tr>\n",
       "      <th>12345</th>\n",
       "      <td>holden and carey rhodes</td>\n",
       "      <td>1</td>\n",
       "      <td>25000.0</td>\n",
       "    </tr>\n",
       "    <tr>\n",
       "      <th>32249</th>\n",
       "      <td>www the range langley com</td>\n",
       "      <td>1</td>\n",
       "      <td>18000.0</td>\n",
       "    </tr>\n",
       "    <tr>\n",
       "      <th>993</th>\n",
       "      <td>american cryptocurrency compatriot</td>\n",
       "      <td>1</td>\n",
       "      <td>17760.0</td>\n",
       "    </tr>\n",
       "    <tr>\n",
       "      <th>10232</th>\n",
       "      <td>freedom lover</td>\n",
       "      <td>82</td>\n",
       "      <td>14856.0</td>\n",
       "    </tr>\n",
       "    <tr>\n",
       "      <th>10095</th>\n",
       "      <td>freedom convoy</td>\n",
       "      <td>92</td>\n",
       "      <td>9778.0</td>\n",
       "    </tr>\n",
       "    <tr>\n",
       "      <th>12399</th>\n",
       "      <td>honk honk</td>\n",
       "      <td>55</td>\n",
       "      <td>9535.0</td>\n",
       "    </tr>\n",
       "    <tr>\n",
       "      <th>24001</th>\n",
       "      <td>pierre elite trudo blackface</td>\n",
       "      <td>1</td>\n",
       "      <td>9000.0</td>\n",
       "    </tr>\n",
       "    <tr>\n",
       "      <th>16092</th>\n",
       "      <td>justin trudeau</td>\n",
       "      <td>104</td>\n",
       "      <td>7625.0</td>\n",
       "    </tr>\n",
       "    <tr>\n",
       "      <th>9841</th>\n",
       "      <td>francis lepine</td>\n",
       "      <td>1</td>\n",
       "      <td>7000.0</td>\n",
       "    </tr>\n",
       "    <tr>\n",
       "      <th>15004</th>\n",
       "      <td>john</td>\n",
       "      <td>57</td>\n",
       "      <td>5749.0</td>\n",
       "    </tr>\n",
       "    <tr>\n",
       "      <th>1132</th>\n",
       "      <td>and we know</td>\n",
       "      <td>1</td>\n",
       "      <td>5500.0</td>\n",
       "    </tr>\n",
       "    <tr>\n",
       "      <th>3647</th>\n",
       "      <td>broalbexpress</td>\n",
       "      <td>1</td>\n",
       "      <td>5500.0</td>\n",
       "    </tr>\n",
       "    <tr>\n",
       "      <th>16459</th>\n",
       "      <td>katherine newman</td>\n",
       "      <td>1</td>\n",
       "      <td>5000.0</td>\n",
       "    </tr>\n",
       "    <tr>\n",
       "      <th>3364</th>\n",
       "      <td>breez</td>\n",
       "      <td>1</td>\n",
       "      <td>5000.0</td>\n",
       "    </tr>\n",
       "    <tr>\n",
       "      <th>16769</th>\n",
       "      <td>kelly gave</td>\n",
       "      <td>1</td>\n",
       "      <td>5000.0</td>\n",
       "    </tr>\n",
       "  </tbody>\n",
       "</table>\n",
       "</div>"
      ],
      "text/plain": [
       "                            donation_name donation_amount           \n",
       "                                                     size        sum\n",
       "0                                                   42011  3479244.5\n",
       "24204         processed but not recorded.               1   215000.0\n",
       "8650      easy kleen pressure systems ltd               1    75000.0\n",
       "1586                            anonymous             499    42931.0\n",
       "10057                             freedom             324    25906.0\n",
       "12345             holden and carey rhodes               1    25000.0\n",
       "32249           www the range langley com               1    18000.0\n",
       "993    american cryptocurrency compatriot               1    17760.0\n",
       "10232                       freedom lover              82    14856.0\n",
       "10095                      freedom convoy              92     9778.0\n",
       "12399                           honk honk              55     9535.0\n",
       "24001        pierre elite trudo blackface               1     9000.0\n",
       "16092                      justin trudeau             104     7625.0\n",
       "9841                       francis lepine               1     7000.0\n",
       "15004                                john              57     5749.0\n",
       "1132                          and we know               1     5500.0\n",
       "3647                        broalbexpress               1     5500.0\n",
       "16459                    katherine newman               1     5000.0\n",
       "3364                                breez               1     5000.0\n",
       "16769                          kelly gave               1     5000.0"
      ]
     },
     "execution_count": 125,
     "metadata": {},
     "output_type": "execute_result"
    }
   ],
   "source": [
    "df.groupby([\"donation_name\"]).agg(\n",
    "    {\"donation_amount\": [np.size, np.sum]}\n",
    ").reset_index().sort_values((\"donation_amount\", \"sum\"), ascending=False).head(20)"
   ]
  },
  {
   "cell_type": "code",
   "execution_count": 126,
   "id": "49fb8a1c-e4af-4941-bafa-28ccfaa33c1b",
   "metadata": {},
   "outputs": [
    {
     "data": {
      "text/html": [
       "<div>\n",
       "<style scoped>\n",
       "    .dataframe tbody tr th:only-of-type {\n",
       "        vertical-align: middle;\n",
       "    }\n",
       "\n",
       "    .dataframe tbody tr th {\n",
       "        vertical-align: top;\n",
       "    }\n",
       "\n",
       "    .dataframe thead tr th {\n",
       "        text-align: left;\n",
       "    }\n",
       "</style>\n",
       "<table border=\"1\" class=\"dataframe\">\n",
       "  <thead>\n",
       "    <tr>\n",
       "      <th></th>\n",
       "      <th>donation_name</th>\n",
       "      <th colspan=\"2\" halign=\"left\">donation_amount</th>\n",
       "    </tr>\n",
       "    <tr>\n",
       "      <th></th>\n",
       "      <th></th>\n",
       "      <th>size</th>\n",
       "      <th>sum</th>\n",
       "    </tr>\n",
       "  </thead>\n",
       "  <tbody>\n",
       "    <tr>\n",
       "      <th>0</th>\n",
       "      <td></td>\n",
       "      <td>42011</td>\n",
       "      <td>3479244.5</td>\n",
       "    </tr>\n",
       "    <tr>\n",
       "      <th>1586</th>\n",
       "      <td>anonymous</td>\n",
       "      <td>499</td>\n",
       "      <td>42931.0</td>\n",
       "    </tr>\n",
       "    <tr>\n",
       "      <th>10057</th>\n",
       "      <td>freedom</td>\n",
       "      <td>324</td>\n",
       "      <td>25906.0</td>\n",
       "    </tr>\n",
       "    <tr>\n",
       "      <th>16092</th>\n",
       "      <td>justin trudeau</td>\n",
       "      <td>104</td>\n",
       "      <td>7625.0</td>\n",
       "    </tr>\n",
       "    <tr>\n",
       "      <th>10095</th>\n",
       "      <td>freedom convoy</td>\n",
       "      <td>92</td>\n",
       "      <td>9778.0</td>\n",
       "    </tr>\n",
       "    <tr>\n",
       "      <th>10232</th>\n",
       "      <td>freedom lover</td>\n",
       "      <td>82</td>\n",
       "      <td>14856.0</td>\n",
       "    </tr>\n",
       "    <tr>\n",
       "      <th>28041</th>\n",
       "      <td>steve</td>\n",
       "      <td>73</td>\n",
       "      <td>4498.0</td>\n",
       "    </tr>\n",
       "    <tr>\n",
       "      <th>21155</th>\n",
       "      <td>mike</td>\n",
       "      <td>60</td>\n",
       "      <td>4233.0</td>\n",
       "    </tr>\n",
       "    <tr>\n",
       "      <th>6874</th>\n",
       "      <td>david</td>\n",
       "      <td>59</td>\n",
       "      <td>3899.0</td>\n",
       "    </tr>\n",
       "    <tr>\n",
       "      <th>15004</th>\n",
       "      <td>john</td>\n",
       "      <td>57</td>\n",
       "      <td>5749.0</td>\n",
       "    </tr>\n",
       "    <tr>\n",
       "      <th>12399</th>\n",
       "      <td>honk honk</td>\n",
       "      <td>55</td>\n",
       "      <td>9535.0</td>\n",
       "    </tr>\n",
       "    <tr>\n",
       "      <th>18186</th>\n",
       "      <td>lets go brandon</td>\n",
       "      <td>52</td>\n",
       "      <td>3041.0</td>\n",
       "    </tr>\n",
       "    <tr>\n",
       "      <th>19773</th>\n",
       "      <td>mark</td>\n",
       "      <td>49</td>\n",
       "      <td>2527.0</td>\n",
       "    </tr>\n",
       "    <tr>\n",
       "      <th>4889</th>\n",
       "      <td>chris</td>\n",
       "      <td>47</td>\n",
       "      <td>3266.0</td>\n",
       "    </tr>\n",
       "    <tr>\n",
       "      <th>10115</th>\n",
       "      <td>freedom fighter</td>\n",
       "      <td>39</td>\n",
       "      <td>3370.0</td>\n",
       "    </tr>\n",
       "    <tr>\n",
       "      <th>16999</th>\n",
       "      <td>kevin</td>\n",
       "      <td>39</td>\n",
       "      <td>2275.0</td>\n",
       "    </tr>\n",
       "    <tr>\n",
       "      <th>20779</th>\n",
       "      <td>michael</td>\n",
       "      <td>38</td>\n",
       "      <td>4853.0</td>\n",
       "    </tr>\n",
       "    <tr>\n",
       "      <th>1570</th>\n",
       "      <td>anon</td>\n",
       "      <td>38</td>\n",
       "      <td>1805.0</td>\n",
       "    </tr>\n",
       "    <tr>\n",
       "      <th>20292</th>\n",
       "      <td>matt</td>\n",
       "      <td>37</td>\n",
       "      <td>1905.0</td>\n",
       "    </tr>\n",
       "    <tr>\n",
       "      <th>18491</th>\n",
       "      <td>lisa</td>\n",
       "      <td>37</td>\n",
       "      <td>3916.0</td>\n",
       "    </tr>\n",
       "  </tbody>\n",
       "</table>\n",
       "</div>"
      ],
      "text/plain": [
       "         donation_name donation_amount           \n",
       "                                  size        sum\n",
       "0                                42011  3479244.5\n",
       "1586         anonymous             499    42931.0\n",
       "10057          freedom             324    25906.0\n",
       "16092   justin trudeau             104     7625.0\n",
       "10095   freedom convoy              92     9778.0\n",
       "10232    freedom lover              82    14856.0\n",
       "28041            steve              73     4498.0\n",
       "21155             mike              60     4233.0\n",
       "6874             david              59     3899.0\n",
       "15004             john              57     5749.0\n",
       "12399        honk honk              55     9535.0\n",
       "18186  lets go brandon              52     3041.0\n",
       "19773             mark              49     2527.0\n",
       "4889             chris              47     3266.0\n",
       "10115  freedom fighter              39     3370.0\n",
       "16999            kevin              39     2275.0\n",
       "20779          michael              38     4853.0\n",
       "1570              anon              38     1805.0\n",
       "20292             matt              37     1905.0\n",
       "18491             lisa              37     3916.0"
      ]
     },
     "execution_count": 126,
     "metadata": {},
     "output_type": "execute_result"
    }
   ],
   "source": [
    "df.groupby([\"donation_name\"]).agg(\n",
    "    {\"donation_amount\": [np.size, np.sum]}\n",
    ").reset_index().sort_values((\"donation_amount\", \"size\"), ascending=False).head(20)"
   ]
  },
  {
   "cell_type": "code",
   "execution_count": 127,
   "id": "21471d95-d909-4052-825a-4a27ee5fec1f",
   "metadata": {},
   "outputs": [],
   "source": [
    "# 100 biggest donations\n",
    "# 100 first donations"
   ]
  },
  {
   "cell_type": "code",
   "execution_count": 128,
   "id": "18b067ed-8fe1-41fd-a7ec-e7815c921975",
   "metadata": {},
   "outputs": [],
   "source": [
    "df.sort_values(\"donation_amount\", ascending=False).head(100).to_csv(\n",
    "    \"data/processed/100_largest_donations.csv\", index=False\n",
    ")"
   ]
  },
  {
   "cell_type": "code",
   "execution_count": 129,
   "id": "a815b450-4a33-4a70-be21-3642e51244bf",
   "metadata": {},
   "outputs": [],
   "source": [
    "df.sort_values(\"donation_date\", ascending=True).head(100).to_csv(\n",
    "    \"data/processed/100_earliest_donations.csv\", index=False\n",
    ")"
   ]
  },
  {
   "cell_type": "code",
   "execution_count": 130,
   "id": "57af3532-7ebe-411d-8a64-6c2f657b5648",
   "metadata": {},
   "outputs": [],
   "source": [
    "df.sort_values(\"donation_date\", ascending=True).to_csv(\n",
    "    \"data/processed/all_donations.csv\", index=False\n",
    ")"
   ]
  },
  {
   "cell_type": "code",
   "execution_count": null,
   "id": "157b5dd8-53aa-4685-a6dc-7c8ee1bdd033",
   "metadata": {},
   "outputs": [],
   "source": []
  }
 ],
 "metadata": {
  "kernelspec": {
   "display_name": "Python 3 (ipykernel)",
   "language": "python",
   "name": "python3"
  },
  "language_info": {
   "codemirror_mode": {
    "name": "ipython",
    "version": 3
   },
   "file_extension": ".py",
   "mimetype": "text/x-python",
   "name": "python",
   "nbconvert_exporter": "python",
   "pygments_lexer": "ipython3",
   "version": "3.8.9"
  }
 },
 "nbformat": 4,
 "nbformat_minor": 5
}
