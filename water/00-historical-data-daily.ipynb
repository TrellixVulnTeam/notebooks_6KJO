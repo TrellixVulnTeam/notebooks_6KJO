{
 "cells": [
  {
   "cell_type": "markdown",
   "id": "aeeee810-ed55-4046-81fb-1a47e6ee4ae3",
   "metadata": {},
   "source": [
    "# Get daily CA reservoir levels data 1988-today"
   ]
  },
  {
   "cell_type": "markdown",
   "id": "342d4bbe-e5ce-47d8-ac20-e528bae3ad4a",
   "metadata": {},
   "source": [
    "### Import Python tools and Jupyter configuration"
   ]
  },
  {
   "cell_type": "code",
   "execution_count": 21,
   "id": "8296705f-29c7-46ba-b432-3d6baeeea729",
   "metadata": {},
   "outputs": [
    {
     "name": "stdout",
     "output_type": "stream",
     "text": [
      "The lab_black extension is already loaded. To reload it, use:\n",
      "  %reload_ext lab_black\n"
     ]
    }
   ],
   "source": [
    "%load_ext lab_black"
   ]
  },
  {
   "cell_type": "code",
   "execution_count": 22,
   "id": "52f4ca60-2bce-4a3a-a2c2-b19775e6d5b7",
   "metadata": {},
   "outputs": [],
   "source": [
    "import pandas as pd\n",
    "import altair as alt\n",
    "import altair_latimes as lat\n",
    "import datetime as dt"
   ]
  },
  {
   "cell_type": "code",
   "execution_count": 23,
   "id": "a5ffcc59-f9cc-43b7-81d5-524fee886fdb",
   "metadata": {},
   "outputs": [],
   "source": [
    "pd.options.display.max_columns = 100\n",
    "pd.options.display.max_rows = 1000\n",
    "alt.data_transformers.disable_max_rows()\n",
    "pd.options.display.max_colwidth = None"
   ]
  },
  {
   "cell_type": "code",
   "execution_count": 24,
   "id": "e1470622-0dee-4cc5-8a53-ab0cb2e5b41e",
   "metadata": {},
   "outputs": [],
   "source": [
    "today = dt.datetime.today().strftime(\"%Y-%m-%d\")"
   ]
  },
  {
   "cell_type": "markdown",
   "id": "3b752866-ebc0-4f7d-b5b3-5e0b8ef437b6",
   "metadata": {},
   "source": [
    "### Major reservoirs"
   ]
  },
  {
   "cell_type": "code",
   "execution_count": 25,
   "id": "9e664782-5c08-4a95-9d75-66a3117b83ac",
   "metadata": {},
   "outputs": [],
   "source": [
    "reservoirs = pd.DataFrame(\n",
    "    [\n",
    "        {\"name\": \"San Luis\", \"abbr\": \"SNL\"},\n",
    "        {\"name\": \"Melones\", \"abbr\": \"NML\"},\n",
    "        {\"name\": \"Trinity\", \"abbr\": \"CLE\"},\n",
    "        {\"name\": \"Shasta\", \"abbr\": \"SHA\"},\n",
    "        {\"name\": \"Oroville\", \"abbr\": \"ORO\"},\n",
    "        {\"name\": \"Folson\", \"abbr\": \"FOL\"},\n",
    "        {\"name\": \"Don Pedro\", \"abbr\": \"DNP\"},\n",
    "        {\"name\": \"McClure\", \"abbr\": \"EXC\"},\n",
    "        {\"name\": \"Pine Flat\", \"abbr\": \"PNF\"},\n",
    "        {\"name\": \"Castaic\", \"abbr\": \"CAS\"},\n",
    "        {\"name\": \"Perris\", \"abbr\": \"PRR\"},\n",
    "        {\"name\": \"Millerton\", \"abbr\": \"MIL\"},\n",
    "    ]\n",
    ")"
   ]
  },
  {
   "cell_type": "markdown",
   "id": "ffad613c-17d4-4d75-bbc9-b563b53d8580",
   "metadata": {},
   "source": [
    "### Get three decades of daily acre-feet storage levels data from each reservoir"
   ]
  },
  {
   "cell_type": "code",
   "execution_count": 26,
   "id": "85e9f6e2-cb2b-4150-ae86-e960899d474a",
   "metadata": {},
   "outputs": [],
   "source": [
    "# https://cdec.water.ca.gov/dynamicapp/req/JSONDataServlet?Stations=ORO&SensorNums=15&dur_code=D&Start=2021-05-25&End=2021-06-25"
   ]
  },
  {
   "cell_type": "code",
   "execution_count": 28,
   "id": "38501ba5-6c1b-4a4b-8d91-06b64fd41308",
   "metadata": {},
   "outputs": [],
   "source": [
    "levels = []\n",
    "\n",
    "for r in reservoirs[\"abbr\"]:\n",
    "    levels.append(\n",
    "        pd.read_json(\n",
    "            \"http://cdec.water.ca.gov/dynamicapp/req/JSONDataServlet?Stations=\"\n",
    "            + r\n",
    "            + \"&SensorNums=15&dur_code=D&Start=1991-01-01&End=\"\n",
    "            + today\n",
    "        )\n",
    "    )"
   ]
  },
  {
   "cell_type": "markdown",
   "id": "f63b33ec-d261-4ca7-b8ad-dd90d1445b9b",
   "metadata": {},
   "source": [
    "### Combine each reservoir table into one large dataframe"
   ]
  },
  {
   "cell_type": "code",
   "execution_count": 56,
   "id": "c7117986-4f73-4b0f-b7dc-fb02e5b72142",
   "metadata": {},
   "outputs": [],
   "source": [
    "src = pd.concat(levels).reset_index(drop=True)"
   ]
  },
  {
   "cell_type": "code",
   "execution_count": 57,
   "id": "6f7a4817-c15a-499c-8c19-b392da6a9919",
   "metadata": {},
   "outputs": [
    {
     "data": {
      "text/html": [
       "<div>\n",
       "<style scoped>\n",
       "    .dataframe tbody tr th:only-of-type {\n",
       "        vertical-align: middle;\n",
       "    }\n",
       "\n",
       "    .dataframe tbody tr th {\n",
       "        vertical-align: top;\n",
       "    }\n",
       "\n",
       "    .dataframe thead th {\n",
       "        text-align: right;\n",
       "    }\n",
       "</style>\n",
       "<table border=\"1\" class=\"dataframe\">\n",
       "  <thead>\n",
       "    <tr style=\"text-align: right;\">\n",
       "      <th></th>\n",
       "      <th>stationId</th>\n",
       "      <th>durCode</th>\n",
       "      <th>SENSOR_NUM</th>\n",
       "      <th>sensorType</th>\n",
       "      <th>date</th>\n",
       "      <th>obsDate</th>\n",
       "      <th>value</th>\n",
       "      <th>dataFlag</th>\n",
       "      <th>units</th>\n",
       "    </tr>\n",
       "  </thead>\n",
       "  <tbody>\n",
       "    <tr>\n",
       "      <th>0</th>\n",
       "      <td>SNL</td>\n",
       "      <td>D</td>\n",
       "      <td>15</td>\n",
       "      <td>STORAGE</td>\n",
       "      <td>1991-01-01</td>\n",
       "      <td>1991-1-1 00:00</td>\n",
       "      <td>491232</td>\n",
       "      <td></td>\n",
       "      <td>AF</td>\n",
       "    </tr>\n",
       "    <tr>\n",
       "      <th>1</th>\n",
       "      <td>SNL</td>\n",
       "      <td>D</td>\n",
       "      <td>15</td>\n",
       "      <td>STORAGE</td>\n",
       "      <td>1991-01-02</td>\n",
       "      <td>1991-1-2 00:00</td>\n",
       "      <td>495043</td>\n",
       "      <td></td>\n",
       "      <td>AF</td>\n",
       "    </tr>\n",
       "    <tr>\n",
       "      <th>2</th>\n",
       "      <td>SNL</td>\n",
       "      <td>D</td>\n",
       "      <td>15</td>\n",
       "      <td>STORAGE</td>\n",
       "      <td>1991-01-03</td>\n",
       "      <td>1991-1-3 00:00</td>\n",
       "      <td>502621</td>\n",
       "      <td></td>\n",
       "      <td>AF</td>\n",
       "    </tr>\n",
       "    <tr>\n",
       "      <th>3</th>\n",
       "      <td>SNL</td>\n",
       "      <td>D</td>\n",
       "      <td>15</td>\n",
       "      <td>STORAGE</td>\n",
       "      <td>1991-01-04</td>\n",
       "      <td>1991-1-4 00:00</td>\n",
       "      <td>512765</td>\n",
       "      <td></td>\n",
       "      <td>AF</td>\n",
       "    </tr>\n",
       "    <tr>\n",
       "      <th>4</th>\n",
       "      <td>SNL</td>\n",
       "      <td>D</td>\n",
       "      <td>15</td>\n",
       "      <td>STORAGE</td>\n",
       "      <td>1991-01-05</td>\n",
       "      <td>1991-1-5 00:00</td>\n",
       "      <td>520760</td>\n",
       "      <td></td>\n",
       "      <td>AF</td>\n",
       "    </tr>\n",
       "  </tbody>\n",
       "</table>\n",
       "</div>"
      ],
      "text/plain": [
       "  stationId durCode  SENSOR_NUM sensorType       date         obsDate   value  \\\n",
       "0       SNL       D          15    STORAGE 1991-01-01  1991-1-1 00:00  491232   \n",
       "1       SNL       D          15    STORAGE 1991-01-02  1991-1-2 00:00  495043   \n",
       "2       SNL       D          15    STORAGE 1991-01-03  1991-1-3 00:00  502621   \n",
       "3       SNL       D          15    STORAGE 1991-01-04  1991-1-4 00:00  512765   \n",
       "4       SNL       D          15    STORAGE 1991-01-05  1991-1-5 00:00  520760   \n",
       "\n",
       "  dataFlag units  \n",
       "0             AF  \n",
       "1             AF  \n",
       "2             AF  \n",
       "3             AF  \n",
       "4             AF  "
      ]
     },
     "execution_count": 57,
     "metadata": {},
     "output_type": "execute_result"
    }
   ],
   "source": [
    "src.head()"
   ]
  },
  {
   "cell_type": "markdown",
   "id": "a2c26e6c-020d-4819-9081-7e887f7b5db8",
   "metadata": {},
   "source": [
    "### Clean up"
   ]
  },
  {
   "cell_type": "code",
   "execution_count": 58,
   "id": "e7489f56-fdd1-4092-818e-8fdfb1cefab5",
   "metadata": {},
   "outputs": [],
   "source": [
    "src.columns = src.columns.str.lower()"
   ]
  },
  {
   "cell_type": "code",
   "execution_count": 59,
   "id": "9b06f60d-8e82-4595-ab48-e1ccebf3d7a4",
   "metadata": {},
   "outputs": [],
   "source": [
    "src.drop(\n",
    "    [\"durcode\", \"sensor_num\", \"sensortype\", \"obsdate\", \"dataflag\", \"units\"],\n",
    "    axis=1,\n",
    "    inplace=True,\n",
    ")"
   ]
  },
  {
   "cell_type": "code",
   "execution_count": 60,
   "id": "853a2b75-1f0b-494c-84fb-1fdd3275a8dd",
   "metadata": {},
   "outputs": [],
   "source": [
    "src.rename(columns={\"value\": \"storage_acrefeet\"}, inplace=True)"
   ]
  },
  {
   "cell_type": "markdown",
   "id": "5b272d69-dd05-4f05-8eb0-6c815c1f4e47",
   "metadata": {},
   "source": [
    "### Dates"
   ]
  },
  {
   "cell_type": "code",
   "execution_count": 61,
   "id": "158c21cb-af68-4e57-9577-834a8406adf1",
   "metadata": {},
   "outputs": [],
   "source": [
    "src[\"date\"] = pd.to_datetime(src[\"date\"], format=\"%Y-%m-%d\")\n",
    "src[\"date\"] = pd.to_datetime(src[\"date\"].dt.strftime(\"%Y-%m-%d\"))\n",
    "src[\"year\"] = src[\"date\"].dt.year\n",
    "src[\"quarter\"] = src[\"date\"].dt.quarter\n",
    "src[\"day\"] = src[\"date\"].dt.day\n",
    "src[\"month\"] = src[\"date\"].dt.month\n",
    "src[\"weekday\"] = src[\"date\"].dt.weekday\n",
    "src[\"monthname\"] = src[\"date\"].dt.month_name()\n",
    "src[\"monthday\"] = src[\"date\"].dt.strftime(\"%m-%d\")"
   ]
  },
  {
   "cell_type": "markdown",
   "id": "f510d926-900b-489a-bfde-cd4376319bbd",
   "metadata": {},
   "source": [
    "### Latest value is often -9999"
   ]
  },
  {
   "cell_type": "code",
   "execution_count": 62,
   "id": "2df1764e-85ee-4036-aff1-22f5ee9d3365",
   "metadata": {},
   "outputs": [],
   "source": [
    "src = src[src[\"date\"] != src[\"date\"].max()]"
   ]
  },
  {
   "cell_type": "code",
   "execution_count": 63,
   "id": "aad7725f-a9cd-46c1-9d99-399839bf3e1a",
   "metadata": {},
   "outputs": [],
   "source": [
    "df = src.copy()"
   ]
  },
  {
   "cell_type": "code",
   "execution_count": 64,
   "id": "09dffbc8-cb37-466c-93ca-5365a120fcda",
   "metadata": {},
   "outputs": [
    {
     "data": {
      "text/plain": [
       "127556"
      ]
     },
     "execution_count": 64,
     "metadata": {},
     "output_type": "execute_result"
    }
   ],
   "source": [
    "len(df)"
   ]
  },
  {
   "cell_type": "markdown",
   "id": "e6069b69-145a-48a8-97b1-49b770b746f3",
   "metadata": {},
   "source": [
    "---"
   ]
  },
  {
   "cell_type": "code",
   "execution_count": 65,
   "id": "ecdf4430-b967-4bc2-ae78-98709660420a",
   "metadata": {},
   "outputs": [
    {
     "data": {
      "text/html": [
       "<div>\n",
       "<style scoped>\n",
       "    .dataframe tbody tr th:only-of-type {\n",
       "        vertical-align: middle;\n",
       "    }\n",
       "\n",
       "    .dataframe tbody tr th {\n",
       "        vertical-align: top;\n",
       "    }\n",
       "\n",
       "    .dataframe thead th {\n",
       "        text-align: right;\n",
       "    }\n",
       "</style>\n",
       "<table border=\"1\" class=\"dataframe\">\n",
       "  <thead>\n",
       "    <tr style=\"text-align: right;\">\n",
       "      <th></th>\n",
       "      <th>stationid</th>\n",
       "      <th>date</th>\n",
       "      <th>storage_acrefeet</th>\n",
       "      <th>year</th>\n",
       "      <th>quarter</th>\n",
       "      <th>day</th>\n",
       "      <th>month</th>\n",
       "      <th>weekday</th>\n",
       "      <th>monthname</th>\n",
       "      <th>monthday</th>\n",
       "    </tr>\n",
       "  </thead>\n",
       "  <tbody>\n",
       "    <tr>\n",
       "      <th>0</th>\n",
       "      <td>SNL</td>\n",
       "      <td>1991-01-01</td>\n",
       "      <td>491232</td>\n",
       "      <td>1991</td>\n",
       "      <td>1</td>\n",
       "      <td>1</td>\n",
       "      <td>1</td>\n",
       "      <td>1</td>\n",
       "      <td>January</td>\n",
       "      <td>01-01</td>\n",
       "    </tr>\n",
       "    <tr>\n",
       "      <th>1</th>\n",
       "      <td>SNL</td>\n",
       "      <td>1991-01-02</td>\n",
       "      <td>495043</td>\n",
       "      <td>1991</td>\n",
       "      <td>1</td>\n",
       "      <td>2</td>\n",
       "      <td>1</td>\n",
       "      <td>2</td>\n",
       "      <td>January</td>\n",
       "      <td>01-02</td>\n",
       "    </tr>\n",
       "    <tr>\n",
       "      <th>2</th>\n",
       "      <td>SNL</td>\n",
       "      <td>1991-01-03</td>\n",
       "      <td>502621</td>\n",
       "      <td>1991</td>\n",
       "      <td>1</td>\n",
       "      <td>3</td>\n",
       "      <td>1</td>\n",
       "      <td>3</td>\n",
       "      <td>January</td>\n",
       "      <td>01-03</td>\n",
       "    </tr>\n",
       "    <tr>\n",
       "      <th>3</th>\n",
       "      <td>SNL</td>\n",
       "      <td>1991-01-04</td>\n",
       "      <td>512765</td>\n",
       "      <td>1991</td>\n",
       "      <td>1</td>\n",
       "      <td>4</td>\n",
       "      <td>1</td>\n",
       "      <td>4</td>\n",
       "      <td>January</td>\n",
       "      <td>01-04</td>\n",
       "    </tr>\n",
       "    <tr>\n",
       "      <th>4</th>\n",
       "      <td>SNL</td>\n",
       "      <td>1991-01-05</td>\n",
       "      <td>520760</td>\n",
       "      <td>1991</td>\n",
       "      <td>1</td>\n",
       "      <td>5</td>\n",
       "      <td>1</td>\n",
       "      <td>5</td>\n",
       "      <td>January</td>\n",
       "      <td>01-05</td>\n",
       "    </tr>\n",
       "  </tbody>\n",
       "</table>\n",
       "</div>"
      ],
      "text/plain": [
       "  stationid       date  storage_acrefeet  year  quarter  day  month  weekday  \\\n",
       "0       SNL 1991-01-01            491232  1991        1    1      1        1   \n",
       "1       SNL 1991-01-02            495043  1991        1    2      1        2   \n",
       "2       SNL 1991-01-03            502621  1991        1    3      1        3   \n",
       "3       SNL 1991-01-04            512765  1991        1    4      1        4   \n",
       "4       SNL 1991-01-05            520760  1991        1    5      1        5   \n",
       "\n",
       "  monthname monthday  \n",
       "0   January    01-01  \n",
       "1   January    01-02  \n",
       "2   January    01-03  \n",
       "3   January    01-04  \n",
       "4   January    01-05  "
      ]
     },
     "execution_count": 65,
     "metadata": {},
     "output_type": "execute_result"
    }
   ],
   "source": [
    "df.head()"
   ]
  },
  {
   "cell_type": "code",
   "execution_count": 66,
   "id": "4760fad4-138a-4555-9fcd-e26b06e5b4a2",
   "metadata": {},
   "outputs": [
    {
     "data": {
      "text/html": [
       "<div>\n",
       "<style scoped>\n",
       "    .dataframe tbody tr th:only-of-type {\n",
       "        vertical-align: middle;\n",
       "    }\n",
       "\n",
       "    .dataframe tbody tr th {\n",
       "        vertical-align: top;\n",
       "    }\n",
       "\n",
       "    .dataframe thead th {\n",
       "        text-align: right;\n",
       "    }\n",
       "</style>\n",
       "<table border=\"1\" class=\"dataframe\">\n",
       "  <thead>\n",
       "    <tr style=\"text-align: right;\">\n",
       "      <th></th>\n",
       "      <th>stationid</th>\n",
       "      <th>date</th>\n",
       "      <th>storage_acrefeet</th>\n",
       "      <th>year</th>\n",
       "      <th>quarter</th>\n",
       "      <th>day</th>\n",
       "      <th>month</th>\n",
       "      <th>weekday</th>\n",
       "      <th>monthname</th>\n",
       "      <th>monthday</th>\n",
       "    </tr>\n",
       "  </thead>\n",
       "  <tbody>\n",
       "    <tr>\n",
       "      <th>127562</th>\n",
       "      <td>MIL</td>\n",
       "      <td>2021-06-20</td>\n",
       "      <td>261121</td>\n",
       "      <td>2021</td>\n",
       "      <td>2</td>\n",
       "      <td>20</td>\n",
       "      <td>6</td>\n",
       "      <td>6</td>\n",
       "      <td>June</td>\n",
       "      <td>06-20</td>\n",
       "    </tr>\n",
       "    <tr>\n",
       "      <th>127563</th>\n",
       "      <td>MIL</td>\n",
       "      <td>2021-06-21</td>\n",
       "      <td>260330</td>\n",
       "      <td>2021</td>\n",
       "      <td>2</td>\n",
       "      <td>21</td>\n",
       "      <td>6</td>\n",
       "      <td>0</td>\n",
       "      <td>June</td>\n",
       "      <td>06-21</td>\n",
       "    </tr>\n",
       "    <tr>\n",
       "      <th>127564</th>\n",
       "      <td>MIL</td>\n",
       "      <td>2021-06-22</td>\n",
       "      <td>259342</td>\n",
       "      <td>2021</td>\n",
       "      <td>2</td>\n",
       "      <td>22</td>\n",
       "      <td>6</td>\n",
       "      <td>1</td>\n",
       "      <td>June</td>\n",
       "      <td>06-22</td>\n",
       "    </tr>\n",
       "    <tr>\n",
       "      <th>127565</th>\n",
       "      <td>MIL</td>\n",
       "      <td>2021-06-23</td>\n",
       "      <td>258360</td>\n",
       "      <td>2021</td>\n",
       "      <td>2</td>\n",
       "      <td>23</td>\n",
       "      <td>6</td>\n",
       "      <td>2</td>\n",
       "      <td>June</td>\n",
       "      <td>06-23</td>\n",
       "    </tr>\n",
       "    <tr>\n",
       "      <th>127566</th>\n",
       "      <td>MIL</td>\n",
       "      <td>2021-06-24</td>\n",
       "      <td>256693</td>\n",
       "      <td>2021</td>\n",
       "      <td>2</td>\n",
       "      <td>24</td>\n",
       "      <td>6</td>\n",
       "      <td>3</td>\n",
       "      <td>June</td>\n",
       "      <td>06-24</td>\n",
       "    </tr>\n",
       "  </tbody>\n",
       "</table>\n",
       "</div>"
      ],
      "text/plain": [
       "       stationid       date  storage_acrefeet  year  quarter  day  month  \\\n",
       "127562       MIL 2021-06-20            261121  2021        2   20      6   \n",
       "127563       MIL 2021-06-21            260330  2021        2   21      6   \n",
       "127564       MIL 2021-06-22            259342  2021        2   22      6   \n",
       "127565       MIL 2021-06-23            258360  2021        2   23      6   \n",
       "127566       MIL 2021-06-24            256693  2021        2   24      6   \n",
       "\n",
       "        weekday monthname monthday  \n",
       "127562        6      June    06-20  \n",
       "127563        0      June    06-21  \n",
       "127564        1      June    06-22  \n",
       "127565        2      June    06-23  \n",
       "127566        3      June    06-24  "
      ]
     },
     "execution_count": 66,
     "metadata": {},
     "output_type": "execute_result"
    }
   ],
   "source": [
    "df.tail()"
   ]
  },
  {
   "cell_type": "code",
   "execution_count": 68,
   "id": "fb5f0acc-f8a8-40c8-91a5-7253f44829c4",
   "metadata": {},
   "outputs": [],
   "source": [
    "df[\"date_str\"] = df[\"date\"].astype(str)\n",
    "df[\"monthday\"] = df[\"monthday\"].astype(str)"
   ]
  },
  {
   "cell_type": "code",
   "execution_count": 69,
   "id": "122ed6ca-0eca-4fbf-bc36-e000614c8af6",
   "metadata": {},
   "outputs": [],
   "source": [
    "df.to_json(\n",
    "    \"data/processed/levels/historical_levels_\" + today + \".json\",\n",
    "    indent=2,\n",
    "    orient=\"records\",\n",
    ")"
   ]
  },
  {
   "cell_type": "code",
   "execution_count": 73,
   "id": "487caaac-2e69-4327-8235-64f63907ed30",
   "metadata": {},
   "outputs": [],
   "source": [
    "df[df[\"year\"] == 2021].to_json(\n",
    "    \"data/processed/levels/historical_levels_2021.json\",\n",
    "    indent=2,\n",
    "    orient=\"records\",\n",
    ")"
   ]
  },
  {
   "cell_type": "code",
   "execution_count": null,
   "id": "5711c9e3-e08d-44ac-9ec8-afddfdf9eab2",
   "metadata": {},
   "outputs": [],
   "source": []
  }
 ],
 "metadata": {
  "kernelspec": {
   "display_name": "Python 3",
   "language": "python",
   "name": "python3"
  },
  "language_info": {
   "codemirror_mode": {
    "name": "ipython",
    "version": 3
   },
   "file_extension": ".py",
   "mimetype": "text/x-python",
   "name": "python",
   "nbconvert_exporter": "python",
   "pygments_lexer": "ipython3",
   "version": "3.8.11"
  }
 },
 "nbformat": 4,
 "nbformat_minor": 5
}
