{
 "cells": [
  {
   "cell_type": "markdown",
   "id": "03f5de06-a788-4d77-9e17-da963e413a74",
   "metadata": {
    "tags": []
   },
   "source": [
    "# California lakes"
   ]
  },
  {
   "cell_type": "markdown",
   "id": "8b57a8c3-04f3-48a6-95ba-23ad44736523",
   "metadata": {
    "tags": []
   },
   "source": [
    "### Import Python tools and Jupyter configuration"
   ]
  },
  {
   "cell_type": "code",
   "execution_count": 43,
   "id": "626773c2-aa43-470b-a02d-7000d77f6a09",
   "metadata": {},
   "outputs": [
    {
     "name": "stdout",
     "output_type": "stream",
     "text": [
      "The lab_black extension is already loaded. To reload it, use:\n",
      "  %reload_ext lab_black\n"
     ]
    }
   ],
   "source": [
    "%load_ext lab_black"
   ]
  },
  {
   "cell_type": "code",
   "execution_count": 44,
   "id": "62e588de-9b44-48cc-8ef5-eeaf6fd9c7b6",
   "metadata": {},
   "outputs": [],
   "source": [
    "import pandas as pd\n",
    "import geopandas as gpd\n",
    "import altair as alt\n",
    "import altair_latimes as lat\n",
    "import datetime as dt"
   ]
  },
  {
   "cell_type": "code",
   "execution_count": null,
   "id": "83f58f34-e8f8-4159-8fa6-c5e588ade4b1",
   "metadata": {},
   "outputs": [],
   "source": [
    "pd.options.display.max_columns = 100\n",
    "pd.options.display.max_rows = 100\n",
    "pd.options.display.max_colwidth = None"
   ]
  },
  {
   "cell_type": "code",
   "execution_count": 45,
   "id": "5ee77f92-28ee-4274-aa6c-01dc5b15ba1b",
   "metadata": {},
   "outputs": [],
   "source": [
    "today = dt.datetime.today().strftime(\"%Y-%m-%d\")"
   ]
  },
  {
   "cell_type": "markdown",
   "id": "11078ad7-a251-4211-9e28-b243ab502fb5",
   "metadata": {},
   "source": [
    "---"
   ]
  },
  {
   "cell_type": "markdown",
   "id": "7ebc5f95-28b7-4824-a841-3f6fba84c6c9",
   "metadata": {},
   "source": [
    "### Get lakes map data"
   ]
  },
  {
   "cell_type": "code",
   "execution_count": null,
   "id": "d4ce28ee-4362-462a-84d7-499fa0ca3598",
   "metadata": {},
   "outputs": [],
   "source": [
    "# https://data.ca.gov/dataset/california-lakes2"
   ]
  },
  {
   "cell_type": "code",
   "execution_count": 7,
   "id": "1f0e0e58-dd52-4e89-88a1-b8b219e17473",
   "metadata": {},
   "outputs": [],
   "source": [
    "src_geo = gpd.read_file(\n",
    "    \"https://data-cdfw.opendata.arcgis.com/datasets/4d7024209b3d4b7796d4dd4119764d3e_5.geojson\"\n",
    ")"
   ]
  },
  {
   "cell_type": "code",
   "execution_count": 13,
   "id": "07c83b02-d03f-4016-97e0-80348fc5b52d",
   "metadata": {},
   "outputs": [],
   "source": [
    "src_geo.sfc_acres.max()"
   ]
  },
  {
   "cell_type": "code",
   "execution_count": 30,
   "id": "a80f73f4-6084-49b9-831b-141ed5a65691",
   "metadata": {},
   "outputs": [],
   "source": [
    "src_geo.columns = src_geo.columns.str.lower()"
   ]
  },
  {
   "cell_type": "markdown",
   "id": "abed3c9d-7601-459b-82b3-c19f3f394e80",
   "metadata": {},
   "source": [
    "### Just the big lakes"
   ]
  },
  {
   "cell_type": "code",
   "execution_count": 51,
   "id": "6cc4dc47-6c1d-482f-ba4b-16739cad4b8d",
   "metadata": {},
   "outputs": [],
   "source": [
    "gdf = src_geo[\n",
    "    (src_geo[\"sfc_acres\"] > 1000) & (src_geo[\"name\"].str.contains(\"Reservoir\"))\n",
    "]"
   ]
  },
  {
   "cell_type": "code",
   "execution_count": 52,
   "id": "a4699ccb-b5a8-4a57-b594-f41054ec2fc2",
   "metadata": {},
   "outputs": [],
   "source": [
    "gdf_slim = gdf[\n",
    "    [\n",
    "        \"type\",\n",
    "        \"name\",\n",
    "        \"gnis_name\",\n",
    "        \"gnis_id\",\n",
    "        \"county\",\n",
    "        \"lat_nad83\",\n",
    "        \"lon_nad83\",\n",
    "        \"elev_ft\",\n",
    "        \"sfc_acres\",\n",
    "        \"geometry\",\n",
    "    ]\n",
    "]"
   ]
  },
  {
   "cell_type": "code",
   "execution_count": 53,
   "id": "e1e85f1a-37d4-4939-9eb2-dceeaadb24c1",
   "metadata": {},
   "outputs": [
    {
     "data": {
      "text/plain": [
       "<AxesSubplot:>"
      ]
     },
     "execution_count": 53,
     "metadata": {},
     "output_type": "execute_result"
    },
    {
     "data": {
      "image/png": "[encoded data removed]",
      "text/plain": [
       "<Figure size 432x288 with 1 Axes>"
      ]
     },
     "metadata": {
      "needs_background": "light"
     },
     "output_type": "display_data"
    }
   ],
   "source": [
    "gdf_slim.plot()"
   ]
  },
  {
   "cell_type": "code",
   "execution_count": 54,
   "id": "97b6b765-c23c-4191-8191-4d34a2a763a7",
   "metadata": {},
   "outputs": [],
   "source": [
    "gdf_slim.to_file(\"data/processed/reservoirs.geojson\", driver=\"GeoJSON\")"
   ]
  },
  {
   "cell_type": "code",
   "execution_count": null,
   "id": "5a437869-e2fc-44eb-bc72-d619046ab655",
   "metadata": {},
   "outputs": [],
   "source": []
  }
 ],
 "metadata": {
  "kernelspec": {
   "display_name": "Python 3 (ipykernel)",
   "language": "python",
   "name": "python3"
  },
  "language_info": {
   "codemirror_mode": {
    "name": "ipython",
    "version": 3
   },
   "file_extension": ".py",
   "mimetype": "text/x-python",
   "name": "python",
   "nbconvert_exporter": "python",
   "pygments_lexer": "ipython3",
   "version": "3.8.11"
  }
 },
 "nbformat": 4,
 "nbformat_minor": 5
}
