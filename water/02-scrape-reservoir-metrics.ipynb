{
 "cells": [
  {
   "cell_type": "markdown",
   "id": "9755ceec-da04-45ff-a368-e46f7881bf25",
   "metadata": {},
   "source": [
    "# Scrape current CA major reservoir metrics"
   ]
  },
  {
   "cell_type": "markdown",
   "id": "fb1274cb-0128-4e01-9d0d-eafa072ca03a",
   "metadata": {},
   "source": [
    "### Import Python tools and Jupyter configuration"
   ]
  },
  {
   "cell_type": "code",
   "execution_count": 1,
   "id": "2e3ea7e1-2601-45fb-8feb-d5cd9da7f57f",
   "metadata": {},
   "outputs": [],
   "source": [
    "%load_ext lab_black"
   ]
  },
  {
   "cell_type": "code",
   "execution_count": 2,
   "id": "42ea9aea-07b9-47d6-87c3-1b791555233a",
   "metadata": {},
   "outputs": [],
   "source": [
    "import pandas as pd\n",
    "import geopandas as gpd\n",
    "import datetime as dt\n",
    "import matplotlib.pyplot as plt\n",
    "import altair as alt\n",
    "import requests\n",
    "import lxml.html as html\n",
    "from bs4 import BeautifulSoup"
   ]
  },
  {
   "cell_type": "code",
   "execution_count": 3,
   "id": "54f4b4a0-ba2e-4650-9535-9cae5a8c2d50",
   "metadata": {},
   "outputs": [],
   "source": [
    "pd.options.display.max_columns = 100\n",
    "pd.options.display.max_rows = 1000\n",
    "pd.options.display.max_colwidth = None"
   ]
  },
  {
   "cell_type": "code",
   "execution_count": 4,
   "id": "fc97bcc8-e185-4ee4-a0c8-6102768c3e3b",
   "metadata": {},
   "outputs": [],
   "source": [
    "today = dt.datetime.today().strftime(\"%Y-%m-%d\")"
   ]
  },
  {
   "cell_type": "markdown",
   "id": "6277b16f-9a6d-4837-9c15-7ccc039820d4",
   "metadata": {},
   "source": [
    "---"
   ]
  },
  {
   "cell_type": "code",
   "execution_count": 5,
   "id": "b9940f29-ca25-4c08-84fc-c4cd6d185666",
   "metadata": {},
   "outputs": [],
   "source": [
    "# http://cdec.water.ca.gov/resapp/RescondMain"
   ]
  },
  {
   "cell_type": "code",
   "execution_count": 6,
   "id": "fabd23df-57a4-4df4-a240-39b33405ccba",
   "metadata": {},
   "outputs": [],
   "source": [
    "reservoirs = pd.DataFrame(\n",
    "    [\n",
    "        {\"name\": \"San Luis\", \"abbr\": \"SNL\"},\n",
    "        {\"name\": \"Melones\", \"abbr\": \"NML\"},\n",
    "        {\"name\": \"Trinity\", \"abbr\": \"CLE\"},\n",
    "        {\"name\": \"Shasta\", \"abbr\": \"SHA\"},\n",
    "        {\"name\": \"Oroville\", \"abbr\": \"ORO\"},\n",
    "        {\"name\": \"Folson\", \"abbr\": \"FOL\"},\n",
    "        {\"name\": \"Don Pedro\", \"abbr\": \"DNP\"},\n",
    "        {\"name\": \"McClure\", \"abbr\": \"EXC\"},\n",
    "        {\"name\": \"Pine Flat\", \"abbr\": \"PNF\"},\n",
    "        {\"name\": \"Castaic\", \"abbr\": \"CAS\"},\n",
    "        {\"name\": \"Perris\", \"abbr\": \"PRR\"},\n",
    "        {\"name\": \"Millerton\", \"abbr\": \"MIL\"},\n",
    "    ]\n",
    ")"
   ]
  },
  {
   "cell_type": "code",
   "execution_count": 7,
   "id": "33e835ab-880d-428a-afe6-9dc0fbb9df2f",
   "metadata": {},
   "outputs": [],
   "source": [
    "urls = []\n",
    "for r in reservoirs.abbr:\n",
    "    urls.append(\"http://cdec.water.ca.gov/resapp/ResDetail?resid=\" + r)"
   ]
  },
  {
   "cell_type": "code",
   "execution_count": 8,
   "id": "7c17e8d5-5a5b-4a45-8d10-0ece0b098770",
   "metadata": {},
   "outputs": [],
   "source": [
    "headers = {\n",
    "    \"Access-Control-Allow-Origin\": \"*\",\n",
    "    \"Access-Control-Allow-Methods\": \"GET\",\n",
    "    \"Access-Control-Allow-Headers\": \"Content-Type\",\n",
    "    \"Access-Control-Max-Age\": \"3600\",\n",
    "    \"User-Agent\": \"Mozilla/5.0 (X11; Ubuntu; Linux x86_64; rv:52.0) Gecko/20100101 Firefox/52.0\",\n",
    "}"
   ]
  },
  {
   "cell_type": "code",
   "execution_count": 9,
   "id": "e1d13c86-678d-45ad-9dda-a1117fee8460",
   "metadata": {},
   "outputs": [],
   "source": [
    "# providing url\n",
    "url = \"https://cdec.water.ca.gov/reportapp/javareports?name=RES\"\n",
    "\n",
    "req = requests.get(url, headers)\n",
    "soup = BeautifulSoup(req.content, \"html.parser\")"
   ]
  },
  {
   "cell_type": "code",
   "execution_count": 10,
   "id": "d949fd43-0de6-48ee-a71c-0f0b8824c164",
   "metadata": {},
   "outputs": [],
   "source": [
    "# tables = soup.find_all(\"table\")"
   ]
  },
  {
   "cell_type": "code",
   "execution_count": 11,
   "id": "c531ce8b-bb99-420e-902a-58ce2ef47fbb",
   "metadata": {},
   "outputs": [],
   "source": [
    "tables = pd.read_html(\"https://cdec.water.ca.gov/reportapp/javareports?name=RES\")"
   ]
  },
  {
   "cell_type": "code",
   "execution_count": 12,
   "id": "e5f98f62-3efd-4103-8145-608de926988f",
   "metadata": {},
   "outputs": [],
   "source": [
    "src = pd.DataFrame(tables[0])"
   ]
  },
  {
   "cell_type": "code",
   "execution_count": 13,
   "id": "19f31766-2ab7-4a68-b9e4-6d3e25688b8f",
   "metadata": {},
   "outputs": [],
   "source": [
    "src.columns = [\" \".join(col).strip() for col in src.columns.values]"
   ]
  },
  {
   "cell_type": "code",
   "execution_count": 14,
   "id": "9ac80c81-8325-4602-97d4-9b5e6d52b200",
   "metadata": {},
   "outputs": [],
   "source": [
    "src.columns = (\n",
    "    (\n",
    "        src.columns.str.replace(\"Water Storage \", \"\", regex=False)\n",
    "        .str.lower()\n",
    "        .str.replace(\" \", \"_\", regex=False)\n",
    "    )\n",
    "    .str.replace(\"af\", \"acrefeet\", regex=False)\n",
    "    .str.replace(\"(\", \"_\", regex=False)\n",
    "    .str.replace(\")\", \"\", regex=False)\n",
    "    .str.replace(\"%_of_\", \"pct_\", regex=False)\n",
    ")"
   ]
  },
  {
   "cell_type": "markdown",
   "id": "cc73b26e-ea93-48a3-88e5-66ea84734fa8",
   "metadata": {},
   "source": [
    "### Clean up the table"
   ]
  },
  {
   "cell_type": "code",
   "execution_count": 15,
   "id": "17f42f0b-4038-4fd6-8a86-7a8c231eabe3",
   "metadata": {},
   "outputs": [],
   "source": [
    "src.columns = src.columns.str.replace(\"Water Storage \", \"\", regex=False)"
   ]
  },
  {
   "cell_type": "code",
   "execution_count": 23,
   "id": "ec57adc1-404e-49df-873a-b7d60dd374c4",
   "metadata": {},
   "outputs": [],
   "source": [
    "df = src[\n",
    "    ((~src[\"staid\"].str.contains(\" RIVER\")) & (~src[\"staid\"].str.contains(\" CREEK\")))\n",
    "    & (src[\"staid\"].isin(reservoirs.abbr.to_list()))\n",
    "].copy()"
   ]
  },
  {
   "cell_type": "code",
   "execution_count": 24,
   "id": "eafb343b-d595-4804-a2b7-728b7a70e324",
   "metadata": {},
   "outputs": [
    {
     "data": {
      "text/plain": [
       "Index(['reservoir_name', 'staid', 'capacity_acrefeet', 'elevation_ft',\n",
       "       'storage_acrefeet', 'storage_change', 'pct_capacity', 'average_storage',\n",
       "       'pct_average', 'outflow_cfs', 'inflow_cfs',\n",
       "       'storage-year_ago_this_date'],\n",
       "      dtype='object')"
      ]
     },
     "execution_count": 24,
     "metadata": {},
     "output_type": "execute_result"
    }
   ],
   "source": [
    "df.columns"
   ]
  },
  {
   "cell_type": "code",
   "execution_count": 25,
   "id": "cfc648f5-b851-401c-a8d7-787670c65d26",
   "metadata": {},
   "outputs": [],
   "source": [
    "df[\n",
    "    [\n",
    "        \"capacity_acrefeet\",\n",
    "        \"storage_acrefeet\",\n",
    "        \"pct_capacity\",\n",
    "        \"average_storage\",\n",
    "        \"pct_average\",\n",
    "        \"storage-year_ago_this_date\",\n",
    "    ]\n",
    "] = df[\n",
    "    [\n",
    "        \"capacity_acrefeet\",\n",
    "        \"storage_acrefeet\",\n",
    "        \"pct_capacity\",\n",
    "        \"average_storage\",\n",
    "        \"pct_average\",\n",
    "        \"storage-year_ago_this_date\",\n",
    "    ]\n",
    "].astype(\n",
    "    int\n",
    ")"
   ]
  },
  {
   "cell_type": "code",
   "execution_count": 26,
   "id": "314da445-5382-4246-8843-b2f0e6a91b2a",
   "metadata": {},
   "outputs": [],
   "source": [
    "df[\"diff\"] = df[\"storage_acrefeet\"] - df[\"storage-year_ago_this_date\"]"
   ]
  },
  {
   "cell_type": "code",
   "execution_count": 29,
   "id": "c0c4cb12-7ce2-4d0b-803a-6535d73382d5",
   "metadata": {},
   "outputs": [],
   "source": [
    "df.drop([\"outflow_cfs\", \"inflow_cfs\"], axis=1, inplace=True)"
   ]
  },
  {
   "cell_type": "code",
   "execution_count": 30,
   "id": "78b4c6de-f6ec-4baf-8acc-7580181c3089",
   "metadata": {},
   "outputs": [],
   "source": [
    "df.to_json(\n",
    "    \"data/processed/capacity/capacity_\" + today + \".json\", indent=2, orient=\"records\"\n",
    ")"
   ]
  }
 ],
 "metadata": {
  "kernelspec": {
   "display_name": "Python 3 (ipykernel)",
   "language": "python",
   "name": "python3"
  },
  "language_info": {
   "codemirror_mode": {
    "name": "ipython",
    "version": 3
   },
   "file_extension": ".py",
   "mimetype": "text/x-python",
   "name": "python",
   "nbconvert_exporter": "python",
   "pygments_lexer": "ipython3",
   "version": "3.8.9"
  }
 },
 "nbformat": 4,
 "nbformat_minor": 5
}
