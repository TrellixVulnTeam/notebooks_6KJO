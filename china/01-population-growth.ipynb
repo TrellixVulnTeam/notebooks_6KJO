{
 "cells": [
  {
   "cell_type": "markdown",
   "id": "a706ea2b-be4d-440c-b5c9-ff9d04223c96",
   "metadata": {},
   "source": [
    "# Where does China rank in population growth, birth rate? "
   ]
  },
  {
   "cell_type": "markdown",
   "id": "e74f40b7-c708-41fb-ac6c-29682e7b8d9e",
   "metadata": {},
   "source": [
    "Population growth rate ([data download here](https://www.cia.gov/the-world-factbook/field/population-growth-rate/country-comparison)) compares the average annual percent change in populations, resulting from a surplus (or deficit) of births over deaths and the balance of migrants entering and leaving a country. The rate may be positive or negative.\n",
    "\n",
    "Birth rate ([download data here](https://www.cia.gov/the-world-factbook/field/birth-rate/country-comparison)) compares the average annual number of births during a year per 1,000 persons in the population at midyear; also known as crude birth rate."
   ]
  },
  {
   "cell_type": "markdown",
   "id": "e4a837b6-c31c-46ed-8f19-ea4e8b3c6694",
   "metadata": {},
   "source": [
    "### Import Python tools and Jupyter configuration"
   ]
  },
  {
   "cell_type": "code",
   "execution_count": 1,
   "id": "e02331c2-cbd3-4790-abb1-a9520223ef7f",
   "metadata": {},
   "outputs": [],
   "source": [
    "%load_ext lab_black"
   ]
  },
  {
   "cell_type": "code",
   "execution_count": 2,
   "id": "d155cf36-379d-46a6-a77b-3749de62b6bd",
   "metadata": {},
   "outputs": [],
   "source": [
    "import pandas as pd\n",
    "import geopandas as gpd\n",
    "import altair as alt\n",
    "from datetime import timedelta\n",
    "import numpy as np"
   ]
  },
  {
   "cell_type": "code",
   "execution_count": 3,
   "id": "400894cd-79a2-42fd-8294-4cb379e361f5",
   "metadata": {},
   "outputs": [],
   "source": [
    "pd.options.display.max_columns = 100\n",
    "pd.options.display.max_rows = 1000\n",
    "pd.options.display.max_colwidth = None"
   ]
  },
  {
   "cell_type": "markdown",
   "id": "5a685483-980c-4d4b-995b-521f1d219d41",
   "metadata": {},
   "source": [
    "---"
   ]
  },
  {
   "cell_type": "markdown",
   "id": "8e19c1b2-ffee-499f-ad9a-c17efb66a6a4",
   "metadata": {},
   "source": [
    "### Grab specific tables from [CIA World Factbook](https://www.cia.gov/the-world-factbook/)"
   ]
  },
  {
   "cell_type": "code",
   "execution_count": 4,
   "id": "bed70449-388e-42c5-a385-41fb6bf84619",
   "metadata": {},
   "outputs": [],
   "source": [
    "df_growth = pd.read_csv(\n",
    "    \"data/raw/export.csv\",\n",
    "    header=0,\n",
    "    names=[\"country\", \"cia-slug\", \"growth_rate\", \"date\", \"rank\", \"region\"],\n",
    ")"
   ]
  },
  {
   "cell_type": "code",
   "execution_count": 5,
   "id": "267e0b67-cf56-40ba-ac81-646b8c33aa22",
   "metadata": {},
   "outputs": [],
   "source": [
    "df_birth = pd.read_csv(\n",
    "    \"data/raw/birth_rate_cia.csv\",\n",
    "    header=0,\n",
    "    names=[\"country\", \"cia-slug\", \"birth_rate\", \"date\", \"rank\", \"region\"],\n",
    ")"
   ]
  },
  {
   "cell_type": "markdown",
   "id": "36317f91-16e3-4789-a0ef-b2890e9c7ea0",
   "metadata": {},
   "source": [
    "---"
   ]
  },
  {
   "cell_type": "markdown",
   "id": "a5f2f3d2-b13f-4bd3-b80c-53f2ec8c0e30",
   "metadata": {},
   "source": [
    "### OECD countries"
   ]
  },
  {
   "cell_type": "code",
   "execution_count": 6,
   "id": "d018a803-f481-469e-8f32-171a7842ced8",
   "metadata": {},
   "outputs": [],
   "source": [
    "oecd_src = pd.read_html(\n",
    "    \"https://www.oecd.org/about/document/ratification-oecd-convention.htm\", header=0\n",
    ")[1]"
   ]
  },
  {
   "cell_type": "code",
   "execution_count": 7,
   "id": "0babf4d9-12a7-40dc-91f3-8085cac8d572",
   "metadata": {},
   "outputs": [],
   "source": [
    "oecd_src.drop([\"Unnamed: 0\", \"Unnamed: 3\"], axis=1, inplace=True)"
   ]
  },
  {
   "cell_type": "code",
   "execution_count": 8,
   "id": "73accb5e-98a4-444d-8436-f7b4b10ce417",
   "metadata": {},
   "outputs": [],
   "source": [
    "oecd_src.columns = oecd_src.columns.str.lower()\n",
    "oecd_src[\"country\"] = oecd_src[\"country\"].str.title()\n",
    "oecd_src[\"date\"] = pd.to_datetime(oecd_src[\"date\"])"
   ]
  },
  {
   "cell_type": "code",
   "execution_count": 9,
   "id": "04abf49b-94e1-4e6a-99b4-f3fcc14739e6",
   "metadata": {},
   "outputs": [],
   "source": [
    "oecd_list = oecd_src.country.to_list()"
   ]
  },
  {
   "cell_type": "markdown",
   "id": "c4a0c97d-61eb-4060-a37e-0748ab0f5fe6",
   "metadata": {},
   "source": [
    "---"
   ]
  },
  {
   "cell_type": "markdown",
   "id": "f8c759a4-68da-44ef-88a4-1b02eaa4cfa5",
   "metadata": {},
   "source": [
    "### Largest economies"
   ]
  },
  {
   "cell_type": "code",
   "execution_count": 10,
   "id": "d7d15c96-6e93-4c9d-a2d6-18fe96ee814f",
   "metadata": {},
   "outputs": [],
   "source": [
    "econ_list = [\n",
    "    \"United States\",\n",
    "    \"China\",\n",
    "    \"Japan\",\n",
    "    \"Germany\",\n",
    "    \"United Kingdom\",\n",
    "    \"India\",\n",
    "    \"France\",\n",
    "    \"Italy\",\n",
    "    \"Canada\",\n",
    "    \"South Korea\",\n",
    "]"
   ]
  },
  {
   "cell_type": "markdown",
   "id": "b72cad53-9591-462a-aaab-02d40747d5a1",
   "metadata": {},
   "source": [
    "---"
   ]
  },
  {
   "cell_type": "markdown",
   "id": "72a908f2-50fc-4151-a91e-c5d5cc7c860e",
   "metadata": {},
   "source": [
    "### In OECD?"
   ]
  },
  {
   "cell_type": "code",
   "execution_count": 11,
   "id": "ccc9d090-d3ff-47ed-9da6-81ff9eceb959",
   "metadata": {},
   "outputs": [],
   "source": [
    "df_growth[\"oecd\"] = df_growth[\"country\"].isin(oecd_list)"
   ]
  },
  {
   "cell_type": "code",
   "execution_count": 12,
   "id": "caa9b1b7-d399-4a17-9ec3-d409a3c2926e",
   "metadata": {},
   "outputs": [],
   "source": [
    "df_birth[\"oecd\"] = df_birth[\"country\"].isin(oecd_list)"
   ]
  },
  {
   "cell_type": "markdown",
   "id": "582b4911-eb9f-4ed7-84e1-7d7e4ce3435f",
   "metadata": {},
   "source": [
    "### Top 10 economies?"
   ]
  },
  {
   "cell_type": "code",
   "execution_count": 13,
   "id": "54872ff9-f9dc-4801-ac59-6613864346ba",
   "metadata": {},
   "outputs": [],
   "source": [
    "df_growth[\"econ_top\"] = df_growth[\"country\"].isin(econ_list)"
   ]
  },
  {
   "cell_type": "code",
   "execution_count": 14,
   "id": "3b5a182a-4a50-4aa2-b83c-3cf863f9fdfd",
   "metadata": {},
   "outputs": [],
   "source": [
    "df_birth[\"econ_top\"] = df_birth[\"country\"].isin(econ_list)"
   ]
  },
  {
   "cell_type": "markdown",
   "id": "97541ab5-88a5-497f-852c-930f3327ce1b",
   "metadata": {},
   "source": [
    "---"
   ]
  },
  {
   "cell_type": "markdown",
   "id": "6b500b67-ecbb-41c4-b5a0-28571c69f848",
   "metadata": {},
   "source": [
    "### Growth rate"
   ]
  },
  {
   "cell_type": "code",
   "execution_count": 15,
   "id": "7da8b71e-ba24-440f-bca9-13886913d358",
   "metadata": {},
   "outputs": [
    {
     "data": {
      "text/html": [
       "<div>\n",
       "<style scoped>\n",
       "    .dataframe tbody tr th:only-of-type {\n",
       "        vertical-align: middle;\n",
       "    }\n",
       "\n",
       "    .dataframe tbody tr th {\n",
       "        vertical-align: top;\n",
       "    }\n",
       "\n",
       "    .dataframe thead th {\n",
       "        text-align: right;\n",
       "    }\n",
       "</style>\n",
       "<table border=\"1\" class=\"dataframe\">\n",
       "  <thead>\n",
       "    <tr style=\"text-align: right;\">\n",
       "      <th></th>\n",
       "      <th>country</th>\n",
       "      <th>cia-slug</th>\n",
       "      <th>growth_rate</th>\n",
       "      <th>date</th>\n",
       "      <th>rank</th>\n",
       "      <th>region</th>\n",
       "      <th>oecd</th>\n",
       "      <th>econ_top</th>\n",
       "    </tr>\n",
       "  </thead>\n",
       "  <tbody>\n",
       "    <tr>\n",
       "      <th>0</th>\n",
       "      <td>South Sudan</td>\n",
       "      <td>south-sudan</td>\n",
       "      <td>5.05</td>\n",
       "      <td>2021 est.</td>\n",
       "      <td>1</td>\n",
       "      <td>Africa</td>\n",
       "      <td>False</td>\n",
       "      <td>False</td>\n",
       "    </tr>\n",
       "    <tr>\n",
       "      <th>1</th>\n",
       "      <td>Burundi</td>\n",
       "      <td>burundi</td>\n",
       "      <td>3.68</td>\n",
       "      <td>2021 est.</td>\n",
       "      <td>2</td>\n",
       "      <td>Africa</td>\n",
       "      <td>False</td>\n",
       "      <td>False</td>\n",
       "    </tr>\n",
       "    <tr>\n",
       "      <th>2</th>\n",
       "      <td>Niger</td>\n",
       "      <td>niger</td>\n",
       "      <td>3.65</td>\n",
       "      <td>2021 est.</td>\n",
       "      <td>3</td>\n",
       "      <td>Africa</td>\n",
       "      <td>False</td>\n",
       "      <td>False</td>\n",
       "    </tr>\n",
       "    <tr>\n",
       "      <th>3</th>\n",
       "      <td>Angola</td>\n",
       "      <td>angola</td>\n",
       "      <td>3.38</td>\n",
       "      <td>2021 est.</td>\n",
       "      <td>4</td>\n",
       "      <td>Africa</td>\n",
       "      <td>False</td>\n",
       "      <td>False</td>\n",
       "    </tr>\n",
       "    <tr>\n",
       "      <th>4</th>\n",
       "      <td>Benin</td>\n",
       "      <td>benin</td>\n",
       "      <td>3.36</td>\n",
       "      <td>2021 est.</td>\n",
       "      <td>5</td>\n",
       "      <td>Africa</td>\n",
       "      <td>False</td>\n",
       "      <td>False</td>\n",
       "    </tr>\n",
       "  </tbody>\n",
       "</table>\n",
       "</div>"
      ],
      "text/plain": [
       "       country     cia-slug  growth_rate       date  rank  region   oecd  \\\n",
       "0  South Sudan  south-sudan         5.05  2021 est.     1  Africa  False   \n",
       "1      Burundi      burundi         3.68  2021 est.     2  Africa  False   \n",
       "2        Niger        niger         3.65  2021 est.     3  Africa  False   \n",
       "3       Angola       angola         3.38  2021 est.     4  Africa  False   \n",
       "4        Benin        benin         3.36  2021 est.     5  Africa  False   \n",
       "\n",
       "   econ_top  \n",
       "0     False  \n",
       "1     False  \n",
       "2     False  \n",
       "3     False  \n",
       "4     False  "
      ]
     },
     "execution_count": 15,
     "metadata": {},
     "output_type": "execute_result"
    }
   ],
   "source": [
    "df_growth.head()"
   ]
  },
  {
   "cell_type": "code",
   "execution_count": 16,
   "id": "4e04047b-bbd5-4e01-83a6-ff7b7dd5ff4f",
   "metadata": {},
   "outputs": [],
   "source": [
    "asian_nations_growth = df_growth[df_growth[\"country\"] == \"East Asia/Southeast Asia\"]"
   ]
  },
  {
   "cell_type": "code",
   "execution_count": 17,
   "id": "a4668d11-5100-4d56-8abf-c176757853fd",
   "metadata": {},
   "outputs": [],
   "source": [
    "top_econ_growth = df_growth[df_growth[\"econ_top\"] == True]"
   ]
  },
  {
   "cell_type": "code",
   "execution_count": 18,
   "id": "1b1d78dc-ed3d-45f2-8ad0-b31f64c9f3be",
   "metadata": {},
   "outputs": [
    {
     "data": {
      "text/html": [
       "<div>\n",
       "<style scoped>\n",
       "    .dataframe tbody tr th:only-of-type {\n",
       "        vertical-align: middle;\n",
       "    }\n",
       "\n",
       "    .dataframe tbody tr th {\n",
       "        vertical-align: top;\n",
       "    }\n",
       "\n",
       "    .dataframe thead th {\n",
       "        text-align: right;\n",
       "    }\n",
       "</style>\n",
       "<table border=\"1\" class=\"dataframe\">\n",
       "  <thead>\n",
       "    <tr style=\"text-align: right;\">\n",
       "      <th></th>\n",
       "      <th>country</th>\n",
       "      <th>cia-slug</th>\n",
       "      <th>growth_rate</th>\n",
       "      <th>date</th>\n",
       "      <th>rank</th>\n",
       "      <th>region</th>\n",
       "      <th>oecd</th>\n",
       "      <th>econ_top</th>\n",
       "    </tr>\n",
       "  </thead>\n",
       "  <tbody>\n",
       "    <tr>\n",
       "      <th>0</th>\n",
       "      <td>South Sudan</td>\n",
       "      <td>south-sudan</td>\n",
       "      <td>5.05</td>\n",
       "      <td>2021 est.</td>\n",
       "      <td>1</td>\n",
       "      <td>Africa</td>\n",
       "      <td>False</td>\n",
       "      <td>False</td>\n",
       "    </tr>\n",
       "    <tr>\n",
       "      <th>1</th>\n",
       "      <td>Burundi</td>\n",
       "      <td>burundi</td>\n",
       "      <td>3.68</td>\n",
       "      <td>2021 est.</td>\n",
       "      <td>2</td>\n",
       "      <td>Africa</td>\n",
       "      <td>False</td>\n",
       "      <td>False</td>\n",
       "    </tr>\n",
       "    <tr>\n",
       "      <th>2</th>\n",
       "      <td>Niger</td>\n",
       "      <td>niger</td>\n",
       "      <td>3.65</td>\n",
       "      <td>2021 est.</td>\n",
       "      <td>3</td>\n",
       "      <td>Africa</td>\n",
       "      <td>False</td>\n",
       "      <td>False</td>\n",
       "    </tr>\n",
       "    <tr>\n",
       "      <th>3</th>\n",
       "      <td>Angola</td>\n",
       "      <td>angola</td>\n",
       "      <td>3.38</td>\n",
       "      <td>2021 est.</td>\n",
       "      <td>4</td>\n",
       "      <td>Africa</td>\n",
       "      <td>False</td>\n",
       "      <td>False</td>\n",
       "    </tr>\n",
       "    <tr>\n",
       "      <th>4</th>\n",
       "      <td>Benin</td>\n",
       "      <td>benin</td>\n",
       "      <td>3.36</td>\n",
       "      <td>2021 est.</td>\n",
       "      <td>5</td>\n",
       "      <td>Africa</td>\n",
       "      <td>False</td>\n",
       "      <td>False</td>\n",
       "    </tr>\n",
       "  </tbody>\n",
       "</table>\n",
       "</div>"
      ],
      "text/plain": [
       "       country     cia-slug  growth_rate       date  rank  region   oecd  \\\n",
       "0  South Sudan  south-sudan         5.05  2021 est.     1  Africa  False   \n",
       "1      Burundi      burundi         3.68  2021 est.     2  Africa  False   \n",
       "2        Niger        niger         3.65  2021 est.     3  Africa  False   \n",
       "3       Angola       angola         3.38  2021 est.     4  Africa  False   \n",
       "4        Benin        benin         3.36  2021 est.     5  Africa  False   \n",
       "\n",
       "   econ_top  \n",
       "0     False  \n",
       "1     False  \n",
       "2     False  \n",
       "3     False  \n",
       "4     False  "
      ]
     },
     "execution_count": 18,
     "metadata": {},
     "output_type": "execute_result"
    }
   ],
   "source": [
    "df_growth.head()"
   ]
  },
  {
   "cell_type": "code",
   "execution_count": 19,
   "id": "8a1d1e1f-e203-4895-869d-43e98fdd02d7",
   "metadata": {},
   "outputs": [
    {
     "data": {
      "text/html": [
       "<div>\n",
       "<style scoped>\n",
       "    .dataframe tbody tr th:only-of-type {\n",
       "        vertical-align: middle;\n",
       "    }\n",
       "\n",
       "    .dataframe tbody tr th {\n",
       "        vertical-align: top;\n",
       "    }\n",
       "\n",
       "    .dataframe thead th {\n",
       "        text-align: right;\n",
       "    }\n",
       "</style>\n",
       "<table border=\"1\" class=\"dataframe\">\n",
       "  <thead>\n",
       "    <tr style=\"text-align: right;\">\n",
       "      <th></th>\n",
       "      <th>region</th>\n",
       "      <th>growth_rate</th>\n",
       "    </tr>\n",
       "  </thead>\n",
       "  <tbody>\n",
       "    <tr>\n",
       "      <th>0</th>\n",
       "      <td>Africa</td>\n",
       "      <td>2.171636</td>\n",
       "    </tr>\n",
       "    <tr>\n",
       "      <th>6</th>\n",
       "      <td>Middle East</td>\n",
       "      <td>1.128333</td>\n",
       "    </tr>\n",
       "    <tr>\n",
       "      <th>9</th>\n",
       "      <td>South Asia</td>\n",
       "      <td>1.078750</td>\n",
       "    </tr>\n",
       "    <tr>\n",
       "      <th>8</th>\n",
       "      <td>South America</td>\n",
       "      <td>0.893846</td>\n",
       "    </tr>\n",
       "    <tr>\n",
       "      <th>4</th>\n",
       "      <td>East Asia/Southeast Asia</td>\n",
       "      <td>0.848095</td>\n",
       "    </tr>\n",
       "    <tr>\n",
       "      <th>3</th>\n",
       "      <td>Central Asia</td>\n",
       "      <td>0.805000</td>\n",
       "    </tr>\n",
       "    <tr>\n",
       "      <th>2</th>\n",
       "      <td>Central America</td>\n",
       "      <td>0.707187</td>\n",
       "    </tr>\n",
       "    <tr>\n",
       "      <th>1</th>\n",
       "      <td>Australia - Oceania</td>\n",
       "      <td>0.352692</td>\n",
       "    </tr>\n",
       "    <tr>\n",
       "      <th>7</th>\n",
       "      <td>North America</td>\n",
       "      <td>0.276667</td>\n",
       "    </tr>\n",
       "    <tr>\n",
       "      <th>5</th>\n",
       "      <td>Europe</td>\n",
       "      <td>0.135600</td>\n",
       "    </tr>\n",
       "  </tbody>\n",
       "</table>\n",
       "</div>"
      ],
      "text/plain": [
       "                     region  growth_rate\n",
       "0                    Africa     2.171636\n",
       "6               Middle East     1.128333\n",
       "9                South Asia     1.078750\n",
       "8             South America     0.893846\n",
       "4  East Asia/Southeast Asia     0.848095\n",
       "3              Central Asia     0.805000\n",
       "2           Central America     0.707187\n",
       "1       Australia - Oceania     0.352692\n",
       "7             North America     0.276667\n",
       "5                    Europe     0.135600"
      ]
     },
     "execution_count": 19,
     "metadata": {},
     "output_type": "execute_result"
    }
   ],
   "source": [
    "df_growth.groupby([\"region\"]).agg({\"growth_rate\": \"mean\"}).reset_index().sort_values(\n",
    "    \"growth_rate\", ascending=False\n",
    ")"
   ]
  },
  {
   "cell_type": "code",
   "execution_count": 20,
   "id": "c0829fa5-926c-4ac3-a8b7-d9dc9d73e0ff",
   "metadata": {},
   "outputs": [
    {
     "data": {
      "text/html": [
       "<div>\n",
       "<style scoped>\n",
       "    .dataframe tbody tr th:only-of-type {\n",
       "        vertical-align: middle;\n",
       "    }\n",
       "\n",
       "    .dataframe tbody tr th {\n",
       "        vertical-align: top;\n",
       "    }\n",
       "\n",
       "    .dataframe thead th {\n",
       "        text-align: right;\n",
       "    }\n",
       "</style>\n",
       "<table border=\"1\" class=\"dataframe\">\n",
       "  <thead>\n",
       "    <tr style=\"text-align: right;\">\n",
       "      <th></th>\n",
       "      <th>country</th>\n",
       "      <th>cia-slug</th>\n",
       "      <th>growth_rate</th>\n",
       "      <th>date</th>\n",
       "      <th>rank</th>\n",
       "      <th>region</th>\n",
       "      <th>oecd</th>\n",
       "      <th>econ_top</th>\n",
       "    </tr>\n",
       "  </thead>\n",
       "  <tbody>\n",
       "    <tr>\n",
       "      <th>0</th>\n",
       "      <td>South Sudan</td>\n",
       "      <td>south-sudan</td>\n",
       "      <td>5.05</td>\n",
       "      <td>2021 est.</td>\n",
       "      <td>1</td>\n",
       "      <td>Africa</td>\n",
       "      <td>False</td>\n",
       "      <td>False</td>\n",
       "    </tr>\n",
       "    <tr>\n",
       "      <th>1</th>\n",
       "      <td>Burundi</td>\n",
       "      <td>burundi</td>\n",
       "      <td>3.68</td>\n",
       "      <td>2021 est.</td>\n",
       "      <td>2</td>\n",
       "      <td>Africa</td>\n",
       "      <td>False</td>\n",
       "      <td>False</td>\n",
       "    </tr>\n",
       "    <tr>\n",
       "      <th>2</th>\n",
       "      <td>Niger</td>\n",
       "      <td>niger</td>\n",
       "      <td>3.65</td>\n",
       "      <td>2021 est.</td>\n",
       "      <td>3</td>\n",
       "      <td>Africa</td>\n",
       "      <td>False</td>\n",
       "      <td>False</td>\n",
       "    </tr>\n",
       "    <tr>\n",
       "      <th>3</th>\n",
       "      <td>Angola</td>\n",
       "      <td>angola</td>\n",
       "      <td>3.38</td>\n",
       "      <td>2021 est.</td>\n",
       "      <td>4</td>\n",
       "      <td>Africa</td>\n",
       "      <td>False</td>\n",
       "      <td>False</td>\n",
       "    </tr>\n",
       "    <tr>\n",
       "      <th>4</th>\n",
       "      <td>Benin</td>\n",
       "      <td>benin</td>\n",
       "      <td>3.36</td>\n",
       "      <td>2021 est.</td>\n",
       "      <td>5</td>\n",
       "      <td>Africa</td>\n",
       "      <td>False</td>\n",
       "      <td>False</td>\n",
       "    </tr>\n",
       "  </tbody>\n",
       "</table>\n",
       "</div>"
      ],
      "text/plain": [
       "       country     cia-slug  growth_rate       date  rank  region   oecd  \\\n",
       "0  South Sudan  south-sudan         5.05  2021 est.     1  Africa  False   \n",
       "1      Burundi      burundi         3.68  2021 est.     2  Africa  False   \n",
       "2        Niger        niger         3.65  2021 est.     3  Africa  False   \n",
       "3       Angola       angola         3.38  2021 est.     4  Africa  False   \n",
       "4        Benin        benin         3.36  2021 est.     5  Africa  False   \n",
       "\n",
       "   econ_top  \n",
       "0     False  \n",
       "1     False  \n",
       "2     False  \n",
       "3     False  \n",
       "4     False  "
      ]
     },
     "execution_count": 20,
     "metadata": {},
     "output_type": "execute_result"
    }
   ],
   "source": [
    "df_growth.head()"
   ]
  },
  {
   "cell_type": "markdown",
   "id": "db98ebb9-921b-45cc-b69c-081b56f9093b",
   "metadata": {},
   "source": [
    "---"
   ]
  },
  {
   "cell_type": "markdown",
   "id": "fe426056-55b5-448a-a78e-bc49ea037cf5",
   "metadata": {},
   "source": [
    "### Birth rate"
   ]
  },
  {
   "cell_type": "code",
   "execution_count": 21,
   "id": "242e0d4e-fb6c-49ed-89c9-a54e247c498c",
   "metadata": {},
   "outputs": [
    {
     "data": {
      "text/html": [
       "<div>\n",
       "<style scoped>\n",
       "    .dataframe tbody tr th:only-of-type {\n",
       "        vertical-align: middle;\n",
       "    }\n",
       "\n",
       "    .dataframe tbody tr th {\n",
       "        vertical-align: top;\n",
       "    }\n",
       "\n",
       "    .dataframe thead th {\n",
       "        text-align: right;\n",
       "    }\n",
       "</style>\n",
       "<table border=\"1\" class=\"dataframe\">\n",
       "  <thead>\n",
       "    <tr style=\"text-align: right;\">\n",
       "      <th></th>\n",
       "      <th>country</th>\n",
       "      <th>cia-slug</th>\n",
       "      <th>birth_rate</th>\n",
       "      <th>date</th>\n",
       "      <th>rank</th>\n",
       "      <th>region</th>\n",
       "      <th>oecd</th>\n",
       "      <th>econ_top</th>\n",
       "    </tr>\n",
       "  </thead>\n",
       "  <tbody>\n",
       "    <tr>\n",
       "      <th>0</th>\n",
       "      <td>Niger</td>\n",
       "      <td>niger</td>\n",
       "      <td>47.28</td>\n",
       "      <td>2021 est.</td>\n",
       "      <td>1</td>\n",
       "      <td>Africa</td>\n",
       "      <td>False</td>\n",
       "      <td>False</td>\n",
       "    </tr>\n",
       "    <tr>\n",
       "      <th>1</th>\n",
       "      <td>Angola</td>\n",
       "      <td>angola</td>\n",
       "      <td>42.22</td>\n",
       "      <td>2021 est.</td>\n",
       "      <td>2</td>\n",
       "      <td>Africa</td>\n",
       "      <td>False</td>\n",
       "      <td>False</td>\n",
       "    </tr>\n",
       "    <tr>\n",
       "      <th>2</th>\n",
       "      <td>Mali</td>\n",
       "      <td>mali</td>\n",
       "      <td>41.60</td>\n",
       "      <td>2021 est.</td>\n",
       "      <td>3</td>\n",
       "      <td>Africa</td>\n",
       "      <td>False</td>\n",
       "      <td>False</td>\n",
       "    </tr>\n",
       "    <tr>\n",
       "      <th>3</th>\n",
       "      <td>Uganda</td>\n",
       "      <td>uganda</td>\n",
       "      <td>41.60</td>\n",
       "      <td>2021 est.</td>\n",
       "      <td>4</td>\n",
       "      <td>Africa</td>\n",
       "      <td>False</td>\n",
       "      <td>False</td>\n",
       "    </tr>\n",
       "    <tr>\n",
       "      <th>4</th>\n",
       "      <td>Benin</td>\n",
       "      <td>benin</td>\n",
       "      <td>41.55</td>\n",
       "      <td>2021 est.</td>\n",
       "      <td>5</td>\n",
       "      <td>Africa</td>\n",
       "      <td>False</td>\n",
       "      <td>False</td>\n",
       "    </tr>\n",
       "  </tbody>\n",
       "</table>\n",
       "</div>"
      ],
      "text/plain": [
       "  country cia-slug  birth_rate       date  rank  region   oecd  econ_top\n",
       "0   Niger    niger       47.28  2021 est.     1  Africa  False     False\n",
       "1  Angola   angola       42.22  2021 est.     2  Africa  False     False\n",
       "2    Mali     mali       41.60  2021 est.     3  Africa  False     False\n",
       "3  Uganda   uganda       41.60  2021 est.     4  Africa  False     False\n",
       "4   Benin    benin       41.55  2021 est.     5  Africa  False     False"
      ]
     },
     "execution_count": 21,
     "metadata": {},
     "output_type": "execute_result"
    }
   ],
   "source": [
    "df_birth.head()"
   ]
  },
  {
   "cell_type": "code",
   "execution_count": 22,
   "id": "7554a363-f0a4-4730-880c-e0671374d02f",
   "metadata": {},
   "outputs": [],
   "source": [
    "asian_nations_birth = df_birth[df_birth[\"country\"] == \"East Asia/Southeast Asia\"]"
   ]
  },
  {
   "cell_type": "code",
   "execution_count": 23,
   "id": "46cd4896-7b04-4799-8631-60338b6a6866",
   "metadata": {},
   "outputs": [],
   "source": [
    "top_econ_birth = df_birth[df_birth[\"econ_top\"] == True]"
   ]
  },
  {
   "cell_type": "markdown",
   "id": "98e4df2a-4d8f-46dc-8443-73af0a477be1",
   "metadata": {},
   "source": [
    "### Exports"
   ]
  },
  {
   "cell_type": "code",
   "execution_count": 24,
   "id": "cfae8266-e491-4ec2-90a3-187a58e6ad03",
   "metadata": {},
   "outputs": [],
   "source": [
    "df_growth.to_csv(\"data/processed/china_other_countries_growth.csv\", index=False)"
   ]
  }
 ],
 "metadata": {
  "kernelspec": {
   "display_name": "Python 3 (ipykernel)",
   "language": "python",
   "name": "python3"
  },
  "language_info": {
   "codemirror_mode": {
    "name": "ipython",
    "version": 3
   },
   "file_extension": ".py",
   "mimetype": "text/x-python",
   "name": "python",
   "nbconvert_exporter": "python",
   "pygments_lexer": "ipython3",
   "version": "3.8.9"
  }
 },
 "nbformat": 4,
 "nbformat_minor": 5
}
