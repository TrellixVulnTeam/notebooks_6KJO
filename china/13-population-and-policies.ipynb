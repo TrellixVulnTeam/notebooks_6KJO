{
 "cells": [
  {
   "cell_type": "code",
   "execution_count": null,
   "id": "433142ac-7768-4ad8-a8db-ec7c4dcb6c95",
   "metadata": {},
   "outputs": [],
   "source": []
  },
  {
   "cell_type": "markdown",
   "id": "af9cc45a-48c4-4c24-a3a9-b06be79aeee8",
   "metadata": {
    "tags": []
   },
   "source": [
    "### Import Python tools and Jupyter configuration"
   ]
  },
  {
   "cell_type": "code",
   "execution_count": 1,
   "id": "8d072f65-6872-4c57-93a3-17d7994d445d",
   "metadata": {},
   "outputs": [],
   "source": [
    "%load_ext lab_black"
   ]
  },
  {
   "cell_type": "code",
   "execution_count": 2,
   "id": "cfbf5a38-8755-480d-9e3b-b20e8a90fe60",
   "metadata": {},
   "outputs": [],
   "source": [
    "import pandas as pd\n",
    "import requests\n",
    "import pageviewapi\n",
    "import datetime as dt\n",
    "from bs4 import BeautifulSoup\n",
    "import altair as alt"
   ]
  },
  {
   "cell_type": "code",
   "execution_count": 3,
   "id": "846fc5d5-e4e8-46f1-8fe8-51ff6bce19c0",
   "metadata": {},
   "outputs": [],
   "source": [
    "pd.options.display.max_columns = 100\n",
    "pd.options.display.max_rows = 1000\n",
    "pd.options.display.max_colwidth = None"
   ]
  },
  {
   "cell_type": "code",
   "execution_count": 4,
   "id": "b450ac77-d01f-4816-b0fd-92eeda074bba",
   "metadata": {
    "tags": []
   },
   "outputs": [],
   "source": [
    "begin = \"20210101\"\n",
    "today = dt.datetime.today().strftime(\"%Y%m%d\")"
   ]
  },
  {
   "cell_type": "markdown",
   "id": "b6818c2c-422c-4f0b-bfa5-e555b34ba387",
   "metadata": {},
   "source": [
    "#### china subnational data"
   ]
  },
  {
   "cell_type": "code",
   "execution_count": 5,
   "id": "3e0850b4-7acb-4034-bd28-e6b73fd9178d",
   "metadata": {},
   "outputs": [],
   "source": [
    "url = \"https://raw.githubusercontent.com/OxCGRT/covid-policy-tracker/master/data/China/OxCGRT_CHN_latest%20LEGACY.csv\""
   ]
  },
  {
   "cell_type": "code",
   "execution_count": 6,
   "id": "6fc651ed-492b-458e-9db2-0adf84a85fe4",
   "metadata": {},
   "outputs": [],
   "source": [
    "china_df = pd.read_csv(url)"
   ]
  },
  {
   "cell_type": "code",
   "execution_count": 7,
   "id": "73aeca96-0d07-4ff4-aa32-8bf175a7fde7",
   "metadata": {},
   "outputs": [],
   "source": [
    "china_df.columns = china_df.columns.str.lower().str.replace(\" \", \"_\")"
   ]
  },
  {
   "cell_type": "code",
   "execution_count": 8,
   "id": "7bde3f82-ce27-4eb1-9cbd-8f3de2db48d9",
   "metadata": {},
   "outputs": [],
   "source": [
    "china_df[\"date\"] = pd.to_datetime(china_df[\"date\"], format=\"%Y%m%d\")"
   ]
  },
  {
   "cell_type": "code",
   "execution_count": null,
   "id": "794e08f7-7bfd-4cf7-8628-652ee181db79",
   "metadata": {},
   "outputs": [],
   "source": [
    "china_df.sort_values(\"date\", ascending=False)"
   ]
  },
  {
   "cell_type": "code",
   "execution_count": null,
   "id": "a19229cc-9eb9-4e5d-87a9-f69974471cb8",
   "metadata": {},
   "outputs": [],
   "source": []
  }
 ],
 "metadata": {
  "kernelspec": {
   "display_name": "Python 3 (ipykernel)",
   "language": "python",
   "name": "python3"
  },
  "language_info": {
   "codemirror_mode": {
    "name": "ipython",
    "version": 3
   },
   "file_extension": ".py",
   "mimetype": "text/x-python",
   "name": "python",
   "nbconvert_exporter": "python",
   "pygments_lexer": "ipython3",
   "version": "3.9.13"
  }
 },
 "nbformat": 4,
 "nbformat_minor": 5
}
