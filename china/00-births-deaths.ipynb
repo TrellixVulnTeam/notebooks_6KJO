{
 "cells": [
  {
   "cell_type": "markdown",
   "id": "a706ea2b-be4d-440c-b5c9-ff9d04223c96",
   "metadata": {},
   "source": [
    "# Births and deaths in China"
   ]
  },
  {
   "cell_type": "markdown",
   "id": "e4a837b6-c31c-46ed-8f19-ea4e8b3c6694",
   "metadata": {},
   "source": [
    "### Import Python tools and Jupyter configuration"
   ]
  },
  {
   "cell_type": "code",
   "execution_count": 2,
   "id": "e02331c2-cbd3-4790-abb1-a9520223ef7f",
   "metadata": {},
   "outputs": [],
   "source": [
    "%load_ext lab_black"
   ]
  },
  {
   "cell_type": "code",
   "execution_count": 3,
   "id": "d155cf36-379d-46a6-a77b-3749de62b6bd",
   "metadata": {},
   "outputs": [],
   "source": [
    "import pandas as pd\n",
    "import geopandas as gpd\n",
    "import altair as alt\n",
    "from datetime import timedelta\n",
    "import numpy as np"
   ]
  },
  {
   "cell_type": "code",
   "execution_count": 4,
   "id": "400894cd-79a2-42fd-8294-4cb379e361f5",
   "metadata": {},
   "outputs": [],
   "source": [
    "pd.options.display.max_columns = 100\n",
    "pd.options.display.max_rows = 1000\n",
    "pd.options.display.max_colwidth = None"
   ]
  },
  {
   "cell_type": "markdown",
   "id": "5a685483-980c-4d4b-995b-521f1d219d41",
   "metadata": {},
   "source": [
    "---"
   ]
  },
  {
   "cell_type": "markdown",
   "id": "8e19c1b2-ffee-499f-ad9a-c17efb66a6a4",
   "metadata": {},
   "source": [
    "### Grab table from Wikipedia"
   ]
  },
  {
   "cell_type": "code",
   "execution_count": 135,
   "id": "aedf760e-2d80-4902-be13-319381cae252",
   "metadata": {},
   "outputs": [],
   "source": [
    "src = pd.read_html(\"https://en.wikipedia.org/wiki/Demographics_of_China\")[5]"
   ]
  },
  {
   "cell_type": "code",
   "execution_count": 136,
   "id": "6818a864-65ed-4a7c-aae7-655e399b4f50",
   "metadata": {},
   "outputs": [],
   "source": [
    "src.rename(\n",
    "    columns={\n",
    "        \"Unnamed: 0\": \"year\",\n",
    "        \"Midyear population\": \"population\",\n",
    "        \"Live births1\": \"births\",\n",
    "        \"Deaths1\": \"deaths\",\n",
    "        \"Natural change1\": \"change\",\n",
    "        \"Crude birth rate (per 1000)\": \"birth_rate\",\n",
    "        \"Crude death rate (per 1000)\": \"death_rate\",\n",
    "        \"Natural change (per 1000)\": \"change_rate\",\n",
    "        \"Total fertility rate\": \"fertility_rate\",\n",
    "    },\n",
    "    inplace=True,\n",
    ")"
   ]
  },
  {
   "cell_type": "code",
   "execution_count": 137,
   "id": "6ed4586c-bc09-4268-b039-4eead8866dc3",
   "metadata": {},
   "outputs": [],
   "source": [
    "src[\"year\"] = src[\"year\"].str.replace(\"[16]\", \"\", regex=False).astype(str)\n",
    "src[\"year\"] = pd.to_datetime(src[\"year\"])\n",
    "src[\"change\"] = pd.to_numeric(src.change, errors=\"coerce\").astype(float)\n",
    "src[\"birth_rate\"] = src[\"birth_rate\"].astype(float)\n",
    "src[\"death_rate\"] = src[\"death_rate\"].astype(float)\n",
    "src[\"change_rate\"] = pd.to_numeric(src.change_rate, errors=\"coerce\").astype(float)\n",
    "src[\"fertility_rate\"] = (\n",
    "    src[\"fertility_rate\"].str.replace(\"[17]\", \"\", regex=False).astype(float)\n",
    ")"
   ]
  },
  {
   "cell_type": "code",
   "execution_count": 138,
   "id": "d39ca1c9-2f3a-4418-a518-5741a1861ba2",
   "metadata": {},
   "outputs": [],
   "source": [
    "df = src.sort_values(\"year\", ascending=False).copy()"
   ]
  },
  {
   "cell_type": "code",
   "execution_count": 139,
   "id": "538267b7-292e-4e80-99fc-186ebc46f746",
   "metadata": {},
   "outputs": [
    {
     "data": {
      "text/html": [
       "<div>\n",
       "<style scoped>\n",
       "    .dataframe tbody tr th:only-of-type {\n",
       "        vertical-align: middle;\n",
       "    }\n",
       "\n",
       "    .dataframe tbody tr th {\n",
       "        vertical-align: top;\n",
       "    }\n",
       "\n",
       "    .dataframe thead th {\n",
       "        text-align: right;\n",
       "    }\n",
       "</style>\n",
       "<table border=\"1\" class=\"dataframe\">\n",
       "  <thead>\n",
       "    <tr style=\"text-align: right;\">\n",
       "      <th></th>\n",
       "      <th>year</th>\n",
       "      <th>population</th>\n",
       "      <th>births</th>\n",
       "      <th>deaths</th>\n",
       "      <th>change</th>\n",
       "      <th>birth_rate</th>\n",
       "      <th>death_rate</th>\n",
       "      <th>change_rate</th>\n",
       "      <th>fertility_rate</th>\n",
       "    </tr>\n",
       "  </thead>\n",
       "  <tbody>\n",
       "    <tr>\n",
       "      <th>71</th>\n",
       "      <td>2020-01-01</td>\n",
       "      <td>1411100000</td>\n",
       "      <td>12050000</td>\n",
       "      <td>10010000</td>\n",
       "      <td>2040000.0</td>\n",
       "      <td>8.54</td>\n",
       "      <td>7.09</td>\n",
       "      <td>1.45</td>\n",
       "      <td>1.3</td>\n",
       "    </tr>\n",
       "    <tr>\n",
       "      <th>70</th>\n",
       "      <td>2019-01-01</td>\n",
       "      <td>1407745000</td>\n",
       "      <td>14650000</td>\n",
       "      <td>9980000</td>\n",
       "      <td>4670000.0</td>\n",
       "      <td>10.41</td>\n",
       "      <td>7.08</td>\n",
       "      <td>3.33</td>\n",
       "      <td>NaN</td>\n",
       "    </tr>\n",
       "    <tr>\n",
       "      <th>69</th>\n",
       "      <td>2018-01-01</td>\n",
       "      <td>1402760000</td>\n",
       "      <td>15230000</td>\n",
       "      <td>9930000</td>\n",
       "      <td>5300000.0</td>\n",
       "      <td>10.86</td>\n",
       "      <td>7.07</td>\n",
       "      <td>3.79</td>\n",
       "      <td>NaN</td>\n",
       "    </tr>\n",
       "    <tr>\n",
       "      <th>68</th>\n",
       "      <td>2017-01-01</td>\n",
       "      <td>1396215000</td>\n",
       "      <td>17230000</td>\n",
       "      <td>9860000</td>\n",
       "      <td>7370000.0</td>\n",
       "      <td>12.34</td>\n",
       "      <td>7.04</td>\n",
       "      <td>5.30</td>\n",
       "      <td>NaN</td>\n",
       "    </tr>\n",
       "    <tr>\n",
       "      <th>67</th>\n",
       "      <td>2016-01-01</td>\n",
       "      <td>1387790000</td>\n",
       "      <td>17860000</td>\n",
       "      <td>9770000</td>\n",
       "      <td>8090000.0</td>\n",
       "      <td>12.87</td>\n",
       "      <td>7.02</td>\n",
       "      <td>5.85</td>\n",
       "      <td>NaN</td>\n",
       "    </tr>\n",
       "  </tbody>\n",
       "</table>\n",
       "</div>"
      ],
      "text/plain": [
       "         year  population    births    deaths     change  birth_rate  \\\n",
       "71 2020-01-01  1411100000  12050000  10010000  2040000.0        8.54   \n",
       "70 2019-01-01  1407745000  14650000   9980000  4670000.0       10.41   \n",
       "69 2018-01-01  1402760000  15230000   9930000  5300000.0       10.86   \n",
       "68 2017-01-01  1396215000  17230000   9860000  7370000.0       12.34   \n",
       "67 2016-01-01  1387790000  17860000   9770000  8090000.0       12.87   \n",
       "\n",
       "    death_rate  change_rate  fertility_rate  \n",
       "71        7.09         1.45             1.3  \n",
       "70        7.08         3.33             NaN  \n",
       "69        7.07         3.79             NaN  \n",
       "68        7.04         5.30             NaN  \n",
       "67        7.02         5.85             NaN  "
      ]
     },
     "execution_count": 139,
     "metadata": {},
     "output_type": "execute_result"
    }
   ],
   "source": [
    "df.head()"
   ]
  },
  {
   "cell_type": "code",
   "execution_count": 140,
   "id": "bfb29c22-407c-4aa0-a238-c6470c7b0203",
   "metadata": {},
   "outputs": [
    {
     "data": {
      "text/plain": [
       "Index(['year', 'population', 'births', 'deaths', 'change', 'birth_rate',\n",
       "       'death_rate', 'change_rate', 'fertility_rate'],\n",
       "      dtype='object')"
      ]
     },
     "execution_count": 140,
     "metadata": {},
     "output_type": "execute_result"
    }
   ],
   "source": [
    "df.columns"
   ]
  },
  {
   "cell_type": "markdown",
   "id": "8e25544c-8d27-4934-8557-89ce41521131",
   "metadata": {},
   "source": [
    "---"
   ]
  },
  {
   "cell_type": "markdown",
   "id": "0fb5e841-61c4-4c1f-b409-77e3acaf01e5",
   "metadata": {},
   "source": [
    "### Melt dataframe for charting"
   ]
  },
  {
   "cell_type": "code",
   "execution_count": 141,
   "id": "26f99f0b-987b-45c7-abf5-5338e9fec39c",
   "metadata": {},
   "outputs": [],
   "source": [
    "df_melt = pd.melt(\n",
    "    df,\n",
    "    id_vars=\"year\",\n",
    "    value_vars=[\n",
    "        \"births\",\n",
    "        \"deaths\",\n",
    "        \"change\",\n",
    "        \"birth_rate\",\n",
    "        \"death_rate\",\n",
    "        \"change_rate\",\n",
    "        \"fertility_rate\",\n",
    "    ],\n",
    "    var_name=\"measure\",\n",
    "    value_name=\"value\",\n",
    ")"
   ]
  },
  {
   "cell_type": "code",
   "execution_count": 142,
   "id": "7a8ba78e-215c-4731-8aac-099c4075ad9c",
   "metadata": {},
   "outputs": [
    {
     "data": {
      "text/plain": [
       "change            72\n",
       "births            72\n",
       "deaths            72\n",
       "change_rate       72\n",
       "fertility_rate    72\n",
       "birth_rate        72\n",
       "death_rate        72\n",
       "Name: measure, dtype: int64"
      ]
     },
     "execution_count": 142,
     "metadata": {},
     "output_type": "execute_result"
    }
   ],
   "source": [
    "df_melt.measure.value_counts()"
   ]
  },
  {
   "cell_type": "code",
   "execution_count": 143,
   "id": "d8502444-c322-4d76-bfb5-619dd731ba68",
   "metadata": {},
   "outputs": [],
   "source": [
    "rates = [\"birth_rate\", \"death_rate\"]\n",
    "raw = [\"births\", \"deaths\"]"
   ]
  },
  {
   "cell_type": "code",
   "execution_count": 147,
   "id": "17dfcb34-a1a4-4281-8eae-8e9d45bbfac8",
   "metadata": {},
   "outputs": [
    {
     "data": {
      "text/html": [
       "\n",
       "<div id=\"altair-viz-5e75b08dc61e466f843ef683cf3f709a\"></div>\n",
       "<script type=\"text/javascript\">\n",
       "  (function(spec, embedOpt){\n",
       "    let outputDiv = document.currentScript.previousElementSibling;\n",
       "    if (outputDiv.id !== \"altair-viz-5e75b08dc61e466f843ef683cf3f709a\") {\n",
       "      outputDiv = document.getElementById(\"altair-viz-5e75b08dc61e466f843ef683cf3f709a\");\n",
       "    }\n",
       "    const paths = {\n",
       "      \"vega\": \"https://cdn.jsdelivr.net/npm//vega@5?noext\",\n",
       "      \"vega-lib\": \"https://cdn.jsdelivr.net/npm//vega-lib?noext\",\n",
       "      \"vega-lite\": \"https://cdn.jsdelivr.net/npm//vega-lite@4.8.1?noext\",\n",
       "      \"vega-embed\": \"https://cdn.jsdelivr.net/npm//vega-embed@6?noext\",\n",
       "    };\n",
       "\n",
       "    function loadScript(lib) {\n",
       "      return new Promise(function(resolve, reject) {\n",
       "        var s = document.createElement('script');\n",
       "        s.src = paths[lib];\n",
       "        s.async = true;\n",
       "        s.onload = () => resolve(paths[lib]);\n",
       "        s.onerror = () => reject(`Error loading script: ${paths[lib]}`);\n",
       "        document.getElementsByTagName(\"head\")[0].appendChild(s);\n",
       "      });\n",
       "    }\n",
       "\n",
       "    function showError(err) {\n",
       "      outputDiv.innerHTML = `<div class=\"error\" style=\"color:red;\">${err}</div>`;\n",
       "      throw err;\n",
       "    }\n",
       "\n",
       "    function displayChart(vegaEmbed) {\n",
       "      vegaEmbed(outputDiv, spec, embedOpt)\n",
       "        .catch(err => showError(`Javascript Error: ${err.message}<br>This usually means there's a typo in your chart specification. See the javascript console for the full traceback.`));\n",
       "    }\n",
       "\n",
       "    if(typeof define === \"function\" && define.amd) {\n",
       "      requirejs.config({paths});\n",
       "      require([\"vega-embed\"], displayChart, err => showError(`Error loading script: ${err.message}`));\n",
       "    } else if (typeof vegaEmbed === \"function\") {\n",
       "      displayChart(vegaEmbed);\n",
       "    } else {\n",
       "      loadScript(\"vega\")\n",
       "        .then(() => loadScript(\"vega-lite\"))\n",
       "        .then(() => loadScript(\"vega-embed\"))\n",
       "        .catch(showError)\n",
       "        .then(() => displayChart(vegaEmbed));\n",
       "    }\n",
       "  })({\"config\": {\"view\": {\"continuousWidth\": 400, \"continuousHeight\": 300}}, \"data\": {\"name\": \"data-4557568f6f7067738a6f57d58a0852d8\"}, \"mark\": {\"type\": \"bar\", \"size\": 10}, \"encoding\": {\"color\": {\"type\": \"nominal\", \"field\": \"measure\"}, \"x\": {\"type\": \"temporal\", \"field\": \"year\"}, \"y\": {\"type\": \"quantitative\", \"field\": \"value\"}}, \"title\": \"Fertility rate in China\", \"width\": 650, \"$schema\": \"https://vega.github.io/schema/vega-lite/v4.8.1.json\", \"datasets\": {\"data-4557568f6f7067738a6f57d58a0852d8\": [{\"year\": \"2020-01-01T00:00:00\", \"measure\": \"fertility_rate\", \"value\": 1.3}, {\"year\": \"2019-01-01T00:00:00\", \"measure\": \"fertility_rate\", \"value\": null}, {\"year\": \"2018-01-01T00:00:00\", \"measure\": \"fertility_rate\", \"value\": null}, {\"year\": \"2017-01-01T00:00:00\", \"measure\": \"fertility_rate\", \"value\": null}, {\"year\": \"2016-01-01T00:00:00\", \"measure\": \"fertility_rate\", \"value\": null}, {\"year\": \"2015-01-01T00:00:00\", \"measure\": \"fertility_rate\", \"value\": 1.41}, {\"year\": \"2014-01-01T00:00:00\", \"measure\": \"fertility_rate\", \"value\": null}, {\"year\": \"2013-01-01T00:00:00\", \"measure\": \"fertility_rate\", \"value\": null}, {\"year\": \"2012-01-01T00:00:00\", \"measure\": \"fertility_rate\", \"value\": null}, {\"year\": \"2011-01-01T00:00:00\", \"measure\": \"fertility_rate\", \"value\": null}, {\"year\": \"2010-01-01T00:00:00\", \"measure\": \"fertility_rate\", \"value\": 1.54}, {\"year\": \"2009-01-01T00:00:00\", \"measure\": \"fertility_rate\", \"value\": null}, {\"year\": \"2008-01-01T00:00:00\", \"measure\": \"fertility_rate\", \"value\": null}, {\"year\": \"2007-01-01T00:00:00\", \"measure\": \"fertility_rate\", \"value\": null}, {\"year\": \"2006-01-01T00:00:00\", \"measure\": \"fertility_rate\", \"value\": null}, {\"year\": \"2005-01-01T00:00:00\", \"measure\": \"fertility_rate\", \"value\": 1.51}, {\"year\": \"2004-01-01T00:00:00\", \"measure\": \"fertility_rate\", \"value\": null}, {\"year\": \"2003-01-01T00:00:00\", \"measure\": \"fertility_rate\", \"value\": null}, {\"year\": \"2002-01-01T00:00:00\", \"measure\": \"fertility_rate\", \"value\": null}, {\"year\": \"2001-01-01T00:00:00\", \"measure\": \"fertility_rate\", \"value\": null}, {\"year\": \"2000-01-01T00:00:00\", \"measure\": \"fertility_rate\", \"value\": 1.45}, {\"year\": \"1999-01-01T00:00:00\", \"measure\": \"fertility_rate\", \"value\": null}, {\"year\": \"1998-01-01T00:00:00\", \"measure\": \"fertility_rate\", \"value\": null}, {\"year\": \"1997-01-01T00:00:00\", \"measure\": \"fertility_rate\", \"value\": null}, {\"year\": \"1996-01-01T00:00:00\", \"measure\": \"fertility_rate\", \"value\": null}, {\"year\": \"1995-01-01T00:00:00\", \"measure\": \"fertility_rate\", \"value\": 1.68}, {\"year\": \"1994-01-01T00:00:00\", \"measure\": \"fertility_rate\", \"value\": null}, {\"year\": \"1993-01-01T00:00:00\", \"measure\": \"fertility_rate\", \"value\": null}, {\"year\": \"1992-01-01T00:00:00\", \"measure\": \"fertility_rate\", \"value\": null}, {\"year\": \"1991-01-01T00:00:00\", \"measure\": \"fertility_rate\", \"value\": null}, {\"year\": \"1990-01-01T00:00:00\", \"measure\": \"fertility_rate\", \"value\": 2.43}, {\"year\": \"1989-01-01T00:00:00\", \"measure\": \"fertility_rate\", \"value\": null}, {\"year\": \"1988-01-01T00:00:00\", \"measure\": \"fertility_rate\", \"value\": null}, {\"year\": \"1987-01-01T00:00:00\", \"measure\": \"fertility_rate\", \"value\": null}, {\"year\": \"1986-01-01T00:00:00\", \"measure\": \"fertility_rate\", \"value\": null}, {\"year\": \"1985-01-01T00:00:00\", \"measure\": \"fertility_rate\", \"value\": 2.65}, {\"year\": \"1984-01-01T00:00:00\", \"measure\": \"fertility_rate\", \"value\": null}, {\"year\": \"1983-01-01T00:00:00\", \"measure\": \"fertility_rate\", \"value\": null}, {\"year\": \"1982-01-01T00:00:00\", \"measure\": \"fertility_rate\", \"value\": null}, {\"year\": \"1981-01-01T00:00:00\", \"measure\": \"fertility_rate\", \"value\": null}, {\"year\": \"1980-01-01T00:00:00\", \"measure\": \"fertility_rate\", \"value\": 2.32}, {\"year\": \"1979-01-01T00:00:00\", \"measure\": \"fertility_rate\", \"value\": null}, {\"year\": \"1978-01-01T00:00:00\", \"measure\": \"fertility_rate\", \"value\": null}, {\"year\": \"1977-01-01T00:00:00\", \"measure\": \"fertility_rate\", \"value\": null}, {\"year\": \"1976-01-01T00:00:00\", \"measure\": \"fertility_rate\", \"value\": null}, {\"year\": \"1975-01-01T00:00:00\", \"measure\": \"fertility_rate\", \"value\": 3.58}, {\"year\": \"1974-01-01T00:00:00\", \"measure\": \"fertility_rate\", \"value\": null}, {\"year\": \"1973-01-01T00:00:00\", \"measure\": \"fertility_rate\", \"value\": null}, {\"year\": \"1972-01-01T00:00:00\", \"measure\": \"fertility_rate\", \"value\": null}, {\"year\": \"1971-01-01T00:00:00\", \"measure\": \"fertility_rate\", \"value\": null}, {\"year\": \"1970-01-01T00:00:00\", \"measure\": \"fertility_rate\", \"value\": 5.75}, {\"year\": \"1969-01-01T00:00:00\", \"measure\": \"fertility_rate\", \"value\": null}, {\"year\": \"1968-01-01T00:00:00\", \"measure\": \"fertility_rate\", \"value\": null}, {\"year\": \"1967-01-01T00:00:00\", \"measure\": \"fertility_rate\", \"value\": null}, {\"year\": \"1966-01-01T00:00:00\", \"measure\": \"fertility_rate\", \"value\": null}, {\"year\": \"1965-01-01T00:00:00\", \"measure\": \"fertility_rate\", \"value\": 6.02}, {\"year\": \"1964-01-01T00:00:00\", \"measure\": \"fertility_rate\", \"value\": null}, {\"year\": \"1963-01-01T00:00:00\", \"measure\": \"fertility_rate\", \"value\": null}, {\"year\": \"1962-01-01T00:00:00\", \"measure\": \"fertility_rate\", \"value\": null}, {\"year\": \"1961-01-01T00:00:00\", \"measure\": \"fertility_rate\", \"value\": null}, {\"year\": \"1960-01-01T00:00:00\", \"measure\": \"fertility_rate\", \"value\": 3.99}, {\"year\": \"1959-01-01T00:00:00\", \"measure\": \"fertility_rate\", \"value\": null}, {\"year\": \"1958-01-01T00:00:00\", \"measure\": \"fertility_rate\", \"value\": null}, {\"year\": \"1957-01-01T00:00:00\", \"measure\": \"fertility_rate\", \"value\": null}, {\"year\": \"1956-01-01T00:00:00\", \"measure\": \"fertility_rate\", \"value\": null}, {\"year\": \"1955-01-01T00:00:00\", \"measure\": \"fertility_rate\", \"value\": 5.98}, {\"year\": \"1954-01-01T00:00:00\", \"measure\": \"fertility_rate\", \"value\": null}, {\"year\": \"1953-01-01T00:00:00\", \"measure\": \"fertility_rate\", \"value\": null}, {\"year\": \"1952-01-01T00:00:00\", \"measure\": \"fertility_rate\", \"value\": null}, {\"year\": \"1951-01-01T00:00:00\", \"measure\": \"fertility_rate\", \"value\": null}, {\"year\": \"1950-01-01T00:00:00\", \"measure\": \"fertility_rate\", \"value\": 5.29}, {\"year\": \"1949-01-01T00:00:00\", \"measure\": \"fertility_rate\", \"value\": null}]}}, {\"mode\": \"vega-lite\"});\n",
       "</script>"
      ],
      "text/plain": [
       "alt.Chart(...)"
      ]
     },
     "execution_count": 147,
     "metadata": {},
     "output_type": "execute_result"
    }
   ],
   "source": [
    "alt.Chart(df_melt[df_melt[\"measure\"] == \"fertility_rate\"]).mark_bar(size=10).encode(\n",
    "    x=\"year:T\", y=\"value\", color=\"measure\",\n",
    ").properties(width=650, title=\"Fertility rate in China\")"
   ]
  },
  {
   "cell_type": "code",
   "execution_count": 150,
   "id": "8401ca84-1bbb-4d55-a27f-d6dde1d69916",
   "metadata": {},
   "outputs": [
    {
     "data": {
      "text/html": [
       "\n",
       "<div id=\"altair-viz-43e8c85b5ab74bc99a564be3e078e143\"></div>\n",
       "<script type=\"text/javascript\">\n",
       "  (function(spec, embedOpt){\n",
       "    let outputDiv = document.currentScript.previousElementSibling;\n",
       "    if (outputDiv.id !== \"altair-viz-43e8c85b5ab74bc99a564be3e078e143\") {\n",
       "      outputDiv = document.getElementById(\"altair-viz-43e8c85b5ab74bc99a564be3e078e143\");\n",
       "    }\n",
       "    const paths = {\n",
       "      \"vega\": \"https://cdn.jsdelivr.net/npm//vega@5?noext\",\n",
       "      \"vega-lib\": \"https://cdn.jsdelivr.net/npm//vega-lib?noext\",\n",
       "      \"vega-lite\": \"https://cdn.jsdelivr.net/npm//vega-lite@4.8.1?noext\",\n",
       "      \"vega-embed\": \"https://cdn.jsdelivr.net/npm//vega-embed@6?noext\",\n",
       "    };\n",
       "\n",
       "    function loadScript(lib) {\n",
       "      return new Promise(function(resolve, reject) {\n",
       "        var s = document.createElement('script');\n",
       "        s.src = paths[lib];\n",
       "        s.async = true;\n",
       "        s.onload = () => resolve(paths[lib]);\n",
       "        s.onerror = () => reject(`Error loading script: ${paths[lib]}`);\n",
       "        document.getElementsByTagName(\"head\")[0].appendChild(s);\n",
       "      });\n",
       "    }\n",
       "\n",
       "    function showError(err) {\n",
       "      outputDiv.innerHTML = `<div class=\"error\" style=\"color:red;\">${err}</div>`;\n",
       "      throw err;\n",
       "    }\n",
       "\n",
       "    function displayChart(vegaEmbed) {\n",
       "      vegaEmbed(outputDiv, spec, embedOpt)\n",
       "        .catch(err => showError(`Javascript Error: ${err.message}<br>This usually means there's a typo in your chart specification. See the javascript console for the full traceback.`));\n",
       "    }\n",
       "\n",
       "    if(typeof define === \"function\" && define.amd) {\n",
       "      requirejs.config({paths});\n",
       "      require([\"vega-embed\"], displayChart, err => showError(`Error loading script: ${err.message}`));\n",
       "    } else if (typeof vegaEmbed === \"function\") {\n",
       "      displayChart(vegaEmbed);\n",
       "    } else {\n",
       "      loadScript(\"vega\")\n",
       "        .then(() => loadScript(\"vega-lite\"))\n",
       "        .then(() => loadScript(\"vega-embed\"))\n",
       "        .catch(showError)\n",
       "        .then(() => displayChart(vegaEmbed));\n",
       "    }\n",
       "  })({\"config\": {\"view\": {\"continuousWidth\": 400, \"continuousHeight\": 300}}, \"data\": {\"name\": \"data-2f047f9f405e8bbe092593ef36e31d17\"}, \"mark\": {\"type\": \"line\", \"size\": 3}, \"encoding\": {\"color\": {\"type\": \"nominal\", \"field\": \"measure\"}, \"x\": {\"type\": \"temporal\", \"axis\": {\"tickCount\": 9}, \"field\": \"year\", \"title\": \"Year\"}, \"y\": {\"type\": \"quantitative\", \"axis\": {\"tickCount\": 5, \"title\": \"Per 100,000\"}, \"field\": \"value\"}}, \"title\": \"Birth rate vs. death rate in China\", \"width\": 650, \"$schema\": \"https://vega.github.io/schema/vega-lite/v4.8.1.json\", \"datasets\": {\"data-2f047f9f405e8bbe092593ef36e31d17\": [{\"year\": \"2020-01-01T00:00:00\", \"measure\": \"birth_rate\", \"value\": 8.54}, {\"year\": \"2019-01-01T00:00:00\", \"measure\": \"birth_rate\", \"value\": 10.41}, {\"year\": \"2018-01-01T00:00:00\", \"measure\": \"birth_rate\", \"value\": 10.86}, {\"year\": \"2017-01-01T00:00:00\", \"measure\": \"birth_rate\", \"value\": 12.34}, {\"year\": \"2016-01-01T00:00:00\", \"measure\": \"birth_rate\", \"value\": 12.87}, {\"year\": \"2015-01-01T00:00:00\", \"measure\": \"birth_rate\", \"value\": 11.99}, {\"year\": \"2014-01-01T00:00:00\", \"measure\": \"birth_rate\", \"value\": 12.3}, {\"year\": \"2013-01-01T00:00:00\", \"measure\": \"birth_rate\", \"value\": 12.03}, {\"year\": \"2012-01-01T00:00:00\", \"measure\": \"birth_rate\", \"value\": 12.07}, {\"year\": \"2011-01-01T00:00:00\", \"measure\": \"birth_rate\", \"value\": 11.93}, {\"year\": \"2010-01-01T00:00:00\", \"measure\": \"birth_rate\", \"value\": 11.9}, {\"year\": \"2009-01-01T00:00:00\", \"measure\": \"birth_rate\", \"value\": 12.13}, {\"year\": \"2008-01-01T00:00:00\", \"measure\": \"birth_rate\", \"value\": 12.14}, {\"year\": \"2007-01-01T00:00:00\", \"measure\": \"birth_rate\", \"value\": 12.1}, {\"year\": \"2006-01-01T00:00:00\", \"measure\": \"birth_rate\", \"value\": 12.08}, {\"year\": \"2005-01-01T00:00:00\", \"measure\": \"birth_rate\", \"value\": 12.4}, {\"year\": \"2004-01-01T00:00:00\", \"measure\": \"birth_rate\", \"value\": 12.29}, {\"year\": \"2003-01-01T00:00:00\", \"measure\": \"birth_rate\", \"value\": 12.41}, {\"year\": \"2002-01-01T00:00:00\", \"measure\": \"birth_rate\", \"value\": 12.86}, {\"year\": \"2001-01-01T00:00:00\", \"measure\": \"birth_rate\", \"value\": 13.38}, {\"year\": \"2000-01-01T00:00:00\", \"measure\": \"birth_rate\", \"value\": 14.03}, {\"year\": \"1999-01-01T00:00:00\", \"measure\": \"birth_rate\", \"value\": 14.64}, {\"year\": \"1998-01-01T00:00:00\", \"measure\": \"birth_rate\", \"value\": 15.64}, {\"year\": \"1997-01-01T00:00:00\", \"measure\": \"birth_rate\", \"value\": 16.57}, {\"year\": \"1996-01-01T00:00:00\", \"measure\": \"birth_rate\", \"value\": 16.98}, {\"year\": \"1995-01-01T00:00:00\", \"measure\": \"birth_rate\", \"value\": 17.12}, {\"year\": \"1994-01-01T00:00:00\", \"measure\": \"birth_rate\", \"value\": 17.7}, {\"year\": \"1993-01-01T00:00:00\", \"measure\": \"birth_rate\", \"value\": 18.09}, {\"year\": \"1992-01-01T00:00:00\", \"measure\": \"birth_rate\", \"value\": 18.24}, {\"year\": \"1991-01-01T00:00:00\", \"measure\": \"birth_rate\", \"value\": 19.68}, {\"year\": \"1990-01-01T00:00:00\", \"measure\": \"birth_rate\", \"value\": 21.06}, {\"year\": \"1989-01-01T00:00:00\", \"measure\": \"birth_rate\", \"value\": 21.58}, {\"year\": \"1988-01-01T00:00:00\", \"measure\": \"birth_rate\", \"value\": 22.37}, {\"year\": \"1987-01-01T00:00:00\", \"measure\": \"birth_rate\", \"value\": 23.33}, {\"year\": \"1986-01-01T00:00:00\", \"measure\": \"birth_rate\", \"value\": 22.43}, {\"year\": \"1985-01-01T00:00:00\", \"measure\": \"birth_rate\", \"value\": 21.04}, {\"year\": \"1984-01-01T00:00:00\", \"measure\": \"birth_rate\", \"value\": 19.9}, {\"year\": \"1983-01-01T00:00:00\", \"measure\": \"birth_rate\", \"value\": 20.19}, {\"year\": \"1982-01-01T00:00:00\", \"measure\": \"birth_rate\", \"value\": 22.28}, {\"year\": \"1981-01-01T00:00:00\", \"measure\": \"birth_rate\", \"value\": 20.91}, {\"year\": \"1980-01-01T00:00:00\", \"measure\": \"birth_rate\", \"value\": 18.21}, {\"year\": \"1979-01-01T00:00:00\", \"measure\": \"birth_rate\", \"value\": 17.82}, {\"year\": \"1978-01-01T00:00:00\", \"measure\": \"birth_rate\", \"value\": 18.25}, {\"year\": \"1977-01-01T00:00:00\", \"measure\": \"birth_rate\", \"value\": 18.93}, {\"year\": \"1976-01-01T00:00:00\", \"measure\": \"birth_rate\", \"value\": 19.91}, {\"year\": \"1975-01-01T00:00:00\", \"measure\": \"birth_rate\", \"value\": 23.01}, {\"year\": \"1974-01-01T00:00:00\", \"measure\": \"birth_rate\", \"value\": 24.82}, {\"year\": \"1973-01-01T00:00:00\", \"measure\": \"birth_rate\", \"value\": 27.93}, {\"year\": \"1972-01-01T00:00:00\", \"measure\": \"birth_rate\", \"value\": 29.77}, {\"year\": \"1971-01-01T00:00:00\", \"measure\": \"birth_rate\", \"value\": 30.65}, {\"year\": \"1970-01-01T00:00:00\", \"measure\": \"birth_rate\", \"value\": 33.43}, {\"year\": \"1969-01-01T00:00:00\", \"measure\": \"birth_rate\", \"value\": 34.11}, {\"year\": \"1968-01-01T00:00:00\", \"measure\": \"birth_rate\", \"value\": 35.59}, {\"year\": \"1967-01-01T00:00:00\", \"measure\": \"birth_rate\", \"value\": 33.96}, {\"year\": \"1966-01-01T00:00:00\", \"measure\": \"birth_rate\", \"value\": 35.05}, {\"year\": \"1965-01-01T00:00:00\", \"measure\": \"birth_rate\", \"value\": 37.88}, {\"year\": \"1964-01-01T00:00:00\", \"measure\": \"birth_rate\", \"value\": 39.14}, {\"year\": \"1963-01-01T00:00:00\", \"measure\": \"birth_rate\", \"value\": 43.37}, {\"year\": \"1962-01-01T00:00:00\", \"measure\": \"birth_rate\", \"value\": 37.01}, {\"year\": \"1961-01-01T00:00:00\", \"measure\": \"birth_rate\", \"value\": 18.02}, {\"year\": \"1960-01-01T00:00:00\", \"measure\": \"birth_rate\", \"value\": 20.86}, {\"year\": \"1959-01-01T00:00:00\", \"measure\": \"birth_rate\", \"value\": 24.78}, {\"year\": \"1958-01-01T00:00:00\", \"measure\": \"birth_rate\", \"value\": 29.22}, {\"year\": \"1957-01-01T00:00:00\", \"measure\": \"birth_rate\", \"value\": 34.03}, {\"year\": \"1956-01-01T00:00:00\", \"measure\": \"birth_rate\", \"value\": 31.9}, {\"year\": \"1955-01-01T00:00:00\", \"measure\": \"birth_rate\", \"value\": 32.6}, {\"year\": \"1954-01-01T00:00:00\", \"measure\": \"birth_rate\", \"value\": 37.97}, {\"year\": \"1953-01-01T00:00:00\", \"measure\": \"birth_rate\", \"value\": 37.0}, {\"year\": \"1952-01-01T00:00:00\", \"measure\": \"birth_rate\", \"value\": 37.0}, {\"year\": \"1951-01-01T00:00:00\", \"measure\": \"birth_rate\", \"value\": 37.8}, {\"year\": \"1950-01-01T00:00:00\", \"measure\": \"birth_rate\", \"value\": 37.0}, {\"year\": \"1949-01-01T00:00:00\", \"measure\": \"birth_rate\", \"value\": 36.0}, {\"year\": \"2020-01-01T00:00:00\", \"measure\": \"death_rate\", \"value\": 7.09}, {\"year\": \"2019-01-01T00:00:00\", \"measure\": \"death_rate\", \"value\": 7.08}, {\"year\": \"2018-01-01T00:00:00\", \"measure\": \"death_rate\", \"value\": 7.07}, {\"year\": \"2017-01-01T00:00:00\", \"measure\": \"death_rate\", \"value\": 7.04}, {\"year\": \"2016-01-01T00:00:00\", \"measure\": \"death_rate\", \"value\": 7.02}, {\"year\": \"2015-01-01T00:00:00\", \"measure\": \"death_rate\", \"value\": 7.05}, {\"year\": \"2014-01-01T00:00:00\", \"measure\": \"death_rate\", \"value\": 7.1}, {\"year\": \"2013-01-01T00:00:00\", \"measure\": \"death_rate\", \"value\": 7.11}, {\"year\": \"2012-01-01T00:00:00\", \"measure\": \"death_rate\", \"value\": 7.11}, {\"year\": \"2011-01-01T00:00:00\", \"measure\": \"death_rate\", \"value\": 7.12}, {\"year\": \"2010-01-01T00:00:00\", \"measure\": \"death_rate\", \"value\": 7.09}, {\"year\": \"2009-01-01T00:00:00\", \"measure\": \"death_rate\", \"value\": 7.07}, {\"year\": \"2008-01-01T00:00:00\", \"measure\": \"death_rate\", \"value\": 7.04}, {\"year\": \"2007-01-01T00:00:00\", \"measure\": \"death_rate\", \"value\": 6.91}, {\"year\": \"2006-01-01T00:00:00\", \"measure\": \"death_rate\", \"value\": 6.79}, {\"year\": \"2005-01-01T00:00:00\", \"measure\": \"death_rate\", \"value\": 6.51}, {\"year\": \"2004-01-01T00:00:00\", \"measure\": \"death_rate\", \"value\": 6.42}, {\"year\": \"2003-01-01T00:00:00\", \"measure\": \"death_rate\", \"value\": 6.4}, {\"year\": \"2002-01-01T00:00:00\", \"measure\": \"death_rate\", \"value\": 6.41}, {\"year\": \"2001-01-01T00:00:00\", \"measure\": \"death_rate\", \"value\": 6.43}, {\"year\": \"2000-01-01T00:00:00\", \"measure\": \"death_rate\", \"value\": 6.45}, {\"year\": \"1999-01-01T00:00:00\", \"measure\": \"death_rate\", \"value\": 6.46}, {\"year\": \"1998-01-01T00:00:00\", \"measure\": \"death_rate\", \"value\": 6.5}, {\"year\": \"1997-01-01T00:00:00\", \"measure\": \"death_rate\", \"value\": 6.51}, {\"year\": \"1996-01-01T00:00:00\", \"measure\": \"death_rate\", \"value\": 6.56}, {\"year\": \"1995-01-01T00:00:00\", \"measure\": \"death_rate\", \"value\": 6.57}, {\"year\": \"1994-01-01T00:00:00\", \"measure\": \"death_rate\", \"value\": 6.49}, {\"year\": \"1993-01-01T00:00:00\", \"measure\": \"death_rate\", \"value\": 6.64}, {\"year\": \"1992-01-01T00:00:00\", \"measure\": \"death_rate\", \"value\": 6.64}, {\"year\": \"1991-01-01T00:00:00\", \"measure\": \"death_rate\", \"value\": 6.7}, {\"year\": \"1990-01-01T00:00:00\", \"measure\": \"death_rate\", \"value\": 6.67}, {\"year\": \"1989-01-01T00:00:00\", \"measure\": \"death_rate\", \"value\": 6.54}, {\"year\": \"1988-01-01T00:00:00\", \"measure\": \"death_rate\", \"value\": 6.64}, {\"year\": \"1987-01-01T00:00:00\", \"measure\": \"death_rate\", \"value\": 6.72}, {\"year\": \"1986-01-01T00:00:00\", \"measure\": \"death_rate\", \"value\": 6.86}, {\"year\": \"1985-01-01T00:00:00\", \"measure\": \"death_rate\", \"value\": 6.78}, {\"year\": \"1984-01-01T00:00:00\", \"measure\": \"death_rate\", \"value\": 6.82}, {\"year\": \"1983-01-01T00:00:00\", \"measure\": \"death_rate\", \"value\": 6.9}, {\"year\": \"1982-01-01T00:00:00\", \"measure\": \"death_rate\", \"value\": 6.6}, {\"year\": \"1981-01-01T00:00:00\", \"measure\": \"death_rate\", \"value\": 6.36}, {\"year\": \"1980-01-01T00:00:00\", \"measure\": \"death_rate\", \"value\": 6.34}, {\"year\": \"1979-01-01T00:00:00\", \"measure\": \"death_rate\", \"value\": 6.21}, {\"year\": \"1978-01-01T00:00:00\", \"measure\": \"death_rate\", \"value\": 6.25}, {\"year\": \"1977-01-01T00:00:00\", \"measure\": \"death_rate\", \"value\": 6.87}, {\"year\": \"1976-01-01T00:00:00\", \"measure\": \"death_rate\", \"value\": 7.25}, {\"year\": \"1975-01-01T00:00:00\", \"measure\": \"death_rate\", \"value\": 7.32}, {\"year\": \"1974-01-01T00:00:00\", \"measure\": \"death_rate\", \"value\": 7.34}, {\"year\": \"1973-01-01T00:00:00\", \"measure\": \"death_rate\", \"value\": 7.04}, {\"year\": \"1972-01-01T00:00:00\", \"measure\": \"death_rate\", \"value\": 7.61}, {\"year\": \"1971-01-01T00:00:00\", \"measure\": \"death_rate\", \"value\": 7.32}, {\"year\": \"1970-01-01T00:00:00\", \"measure\": \"death_rate\", \"value\": 7.6}, {\"year\": \"1969-01-01T00:00:00\", \"measure\": \"death_rate\", \"value\": 8.03}, {\"year\": \"1968-01-01T00:00:00\", \"measure\": \"death_rate\", \"value\": 8.21}, {\"year\": \"1967-01-01T00:00:00\", \"measure\": \"death_rate\", \"value\": 8.43}, {\"year\": \"1966-01-01T00:00:00\", \"measure\": \"death_rate\", \"value\": 8.83}, {\"year\": \"1965-01-01T00:00:00\", \"measure\": \"death_rate\", \"value\": 9.5}, {\"year\": \"1964-01-01T00:00:00\", \"measure\": \"death_rate\", \"value\": 11.5}, {\"year\": \"1963-01-01T00:00:00\", \"measure\": \"death_rate\", \"value\": 10.04}, {\"year\": \"1962-01-01T00:00:00\", \"measure\": \"death_rate\", \"value\": 10.02}, {\"year\": \"1961-01-01T00:00:00\", \"measure\": \"death_rate\", \"value\": 14.24}, {\"year\": \"1960-01-01T00:00:00\", \"measure\": \"death_rate\", \"value\": 25.43}, {\"year\": \"1959-01-01T00:00:00\", \"measure\": \"death_rate\", \"value\": 14.59}, {\"year\": \"1958-01-01T00:00:00\", \"measure\": \"death_rate\", \"value\": 11.98}, {\"year\": \"1957-01-01T00:00:00\", \"measure\": \"death_rate\", \"value\": 10.8}, {\"year\": \"1956-01-01T00:00:00\", \"measure\": \"death_rate\", \"value\": 11.4}, {\"year\": \"1955-01-01T00:00:00\", \"measure\": \"death_rate\", \"value\": 12.28}, {\"year\": \"1954-01-01T00:00:00\", \"measure\": \"death_rate\", \"value\": 13.18}, {\"year\": \"1953-01-01T00:00:00\", \"measure\": \"death_rate\", \"value\": 14.0}, {\"year\": \"1952-01-01T00:00:00\", \"measure\": \"death_rate\", \"value\": 17.0}, {\"year\": \"1951-01-01T00:00:00\", \"measure\": \"death_rate\", \"value\": 17.8}, {\"year\": \"1950-01-01T00:00:00\", \"measure\": \"death_rate\", \"value\": 18.0}, {\"year\": \"1949-01-01T00:00:00\", \"measure\": \"death_rate\", \"value\": 20.0}]}}, {\"mode\": \"vega-lite\"});\n",
       "</script>"
      ],
      "text/plain": [
       "alt.Chart(...)"
      ]
     },
     "execution_count": 150,
     "metadata": {},
     "output_type": "execute_result"
    }
   ],
   "source": [
    "alt.Chart(df_melt[df_melt[\"measure\"].isin(rates)]).mark_line(size=3).encode(\n",
    "    x=alt.X(\"year:T\", axis=alt.Axis(tickCount=9), title=\"Year\"),\n",
    "    y=alt.Y(\"value\", axis=alt.Axis(tickCount=5, title=\"Per 100,000\")),\n",
    "    color=\"measure\",\n",
    ").properties(width=650, title=\"Birth rate vs. death rate in China\")"
   ]
  },
  {
   "cell_type": "markdown",
   "id": "eaf45411-37d4-440d-b733-fa7ab16313d8",
   "metadata": {},
   "source": [
    "---"
   ]
  },
  {
   "cell_type": "markdown",
   "id": "1979b749-bdf3-4151-8632-6942555297ea",
   "metadata": {},
   "source": [
    "### Export"
   ]
  },
  {
   "cell_type": "code",
   "execution_count": 70,
   "id": "3c17ab30-54c0-42e1-b267-2c8ad579e0c4",
   "metadata": {},
   "outputs": [],
   "source": [
    "df.to_csv(\"data/processed/china_births_deaths_rates.csv\", index=False)"
   ]
  }
 ],
 "metadata": {
  "kernelspec": {
   "display_name": "Python 3",
   "language": "python",
   "name": "python3"
  },
  "language_info": {
   "codemirror_mode": {
    "name": "ipython",
    "version": 3
   },
   "file_extension": ".py",
   "mimetype": "text/x-python",
   "name": "python",
   "nbconvert_exporter": "python",
   "pygments_lexer": "ipython3",
   "version": "3.8.8"
  }
 },
 "nbformat": 4,
 "nbformat_minor": 5
}
