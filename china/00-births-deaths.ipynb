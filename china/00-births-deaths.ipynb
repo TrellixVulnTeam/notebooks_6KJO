{
 "cells": [
  {
   "cell_type": "markdown",
   "id": "a706ea2b-be4d-440c-b5c9-ff9d04223c96",
   "metadata": {},
   "source": [
    "# Births and deaths in China"
   ]
  },
  {
   "cell_type": "markdown",
   "id": "e4a837b6-c31c-46ed-8f19-ea4e8b3c6694",
   "metadata": {},
   "source": [
    "### Import Python tools and Jupyter configuration"
   ]
  },
  {
   "cell_type": "code",
   "execution_count": null,
   "id": "e02331c2-cbd3-4790-abb1-a9520223ef7f",
   "metadata": {},
   "outputs": [],
   "source": [
    "%load_ext lab_black"
   ]
  },
  {
   "cell_type": "code",
   "execution_count": null,
   "id": "d155cf36-379d-46a6-a77b-3749de62b6bd",
   "metadata": {},
   "outputs": [],
   "source": [
    "import pandas as pd\n",
    "import geopandas as gpd\n",
    "import altair as alt\n",
    "from datetime import timedelta\n",
    "import numpy as np"
   ]
  },
  {
   "cell_type": "code",
   "execution_count": null,
   "id": "400894cd-79a2-42fd-8294-4cb379e361f5",
   "metadata": {},
   "outputs": [],
   "source": [
    "pd.options.display.max_columns = 100\n",
    "pd.options.display.max_rows = 1000\n",
    "pd.options.display.max_colwidth = None"
   ]
  },
  {
   "cell_type": "markdown",
   "id": "5a685483-980c-4d4b-995b-521f1d219d41",
   "metadata": {},
   "source": [
    "---"
   ]
  },
  {
   "cell_type": "markdown",
   "id": "8e19c1b2-ffee-499f-ad9a-c17efb66a6a4",
   "metadata": {},
   "source": [
    "### Grab table from Wikipedia"
   ]
  },
  {
   "cell_type": "code",
   "execution_count": 13,
   "id": "aedf760e-2d80-4902-be13-319381cae252",
   "metadata": {},
   "outputs": [],
   "source": [
    "src = pd.read_html(\"https://en.wikipedia.org/wiki/Demographics_of_China\")[5]"
   ]
  },
  {
   "cell_type": "code",
   "execution_count": 14,
   "id": "c34f946d-6229-4b8f-9423-d6bd6bf7d01d",
   "metadata": {},
   "outputs": [],
   "source": [
    "src.rename(\n",
    "    columns={\n",
    "        \"Unnamed: 0\": \"year\",\n",
    "        \"Midyear population\": \"population\",\n",
    "        \"Live births1\": \"births\",\n",
    "        \"Deaths1\": \"deaths\",\n",
    "        \"Natural change1\": \"change\",\n",
    "        \"Crude birth rate (per 1000)\": \"birth_rate\",\n",
    "        \"Crude death rate (per 1000)\": \"death_rate\",\n",
    "        \"Natural change (per 1000)\": \"change_rate\",\n",
    "        \"Total fertility rate\": \"fertility_rate\",\n",
    "    },\n",
    "    inplace=True,\n",
    ")"
   ]
  },
  {
   "cell_type": "code",
   "execution_count": 16,
   "id": "e6b66c7c-743d-4d61-8220-4e5710beeb07",
   "metadata": {},
   "outputs": [
    {
     "data": {
      "text/html": [
       "<div>\n",
       "<style scoped>\n",
       "    .dataframe tbody tr th:only-of-type {\n",
       "        vertical-align: middle;\n",
       "    }\n",
       "\n",
       "    .dataframe tbody tr th {\n",
       "        vertical-align: top;\n",
       "    }\n",
       "\n",
       "    .dataframe thead th {\n",
       "        text-align: right;\n",
       "    }\n",
       "</style>\n",
       "<table border=\"1\" class=\"dataframe\">\n",
       "  <thead>\n",
       "    <tr style=\"text-align: right;\">\n",
       "      <th></th>\n",
       "      <th>year</th>\n",
       "      <th>population</th>\n",
       "      <th>births</th>\n",
       "      <th>deaths</th>\n",
       "      <th>change</th>\n",
       "      <th>birth_rate</th>\n",
       "      <th>death_rate</th>\n",
       "      <th>change_rate</th>\n",
       "      <th>fertility_rate</th>\n",
       "    </tr>\n",
       "  </thead>\n",
       "  <tbody>\n",
       "    <tr>\n",
       "      <th>0</th>\n",
       "      <td>1949</td>\n",
       "      <td>537371000</td>\n",
       "      <td>19345000</td>\n",
       "      <td>10747000</td>\n",
       "      <td>8598000</td>\n",
       "      <td>36.0</td>\n",
       "      <td>20.0</td>\n",
       "      <td>16.0</td>\n",
       "      <td>NaN</td>\n",
       "    </tr>\n",
       "    <tr>\n",
       "      <th>1</th>\n",
       "      <td>1950</td>\n",
       "      <td>546815000</td>\n",
       "      <td>20232000</td>\n",
       "      <td>9843000</td>\n",
       "      <td>10389000</td>\n",
       "      <td>37.0</td>\n",
       "      <td>18.0</td>\n",
       "      <td>19.0</td>\n",
       "      <td>5.29</td>\n",
       "    </tr>\n",
       "    <tr>\n",
       "      <th>2</th>\n",
       "      <td>1951</td>\n",
       "      <td>557480000</td>\n",
       "      <td>21073000</td>\n",
       "      <td>9923000</td>\n",
       "      <td>11150000</td>\n",
       "      <td>37.8</td>\n",
       "      <td>17.8</td>\n",
       "      <td>20.0</td>\n",
       "      <td>NaN</td>\n",
       "    </tr>\n",
       "    <tr>\n",
       "      <th>3</th>\n",
       "      <td>1952</td>\n",
       "      <td>568910000</td>\n",
       "      <td>21050000</td>\n",
       "      <td>9671000</td>\n",
       "      <td>11379000</td>\n",
       "      <td>37.0</td>\n",
       "      <td>17.0</td>\n",
       "      <td>20.0</td>\n",
       "      <td>NaN</td>\n",
       "    </tr>\n",
       "    <tr>\n",
       "      <th>4</th>\n",
       "      <td>1953</td>\n",
       "      <td>581390000</td>\n",
       "      <td>21511000</td>\n",
       "      <td>8139000</td>\n",
       "      <td>13372000</td>\n",
       "      <td>37.0</td>\n",
       "      <td>14.0</td>\n",
       "      <td>23.0</td>\n",
       "      <td>NaN</td>\n",
       "    </tr>\n",
       "  </tbody>\n",
       "</table>\n",
       "</div>"
      ],
      "text/plain": [
       "   year  population    births    deaths    change  birth_rate  death_rate  \\\n",
       "0  1949   537371000  19345000  10747000   8598000        36.0        20.0   \n",
       "1  1950   546815000  20232000   9843000  10389000        37.0        18.0   \n",
       "2  1951   557480000  21073000   9923000  11150000        37.8        17.8   \n",
       "3  1952   568910000  21050000   9671000  11379000        37.0        17.0   \n",
       "4  1953   581390000  21511000   8139000  13372000        37.0        14.0   \n",
       "\n",
       "  change_rate fertility_rate  \n",
       "0        16.0            NaN  \n",
       "1        19.0           5.29  \n",
       "2        20.0            NaN  \n",
       "3        20.0            NaN  \n",
       "4        23.0            NaN  "
      ]
     },
     "execution_count": 16,
     "metadata": {},
     "output_type": "execute_result"
    }
   ],
   "source": [
    "src.head()"
   ]
  },
  {
   "cell_type": "code",
   "execution_count": 21,
   "id": "664ff15f-5979-47d9-9a7b-872cbe916af8",
   "metadata": {},
   "outputs": [],
   "source": [
    "src[\"year\"] = src[\"year\"].astype(str).str.replace(\"[16]\", \"\", regex=False)"
   ]
  },
  {
   "cell_type": "code",
   "execution_count": 25,
   "id": "b95826ac-e10c-4492-b573-d80a471bd004",
   "metadata": {},
   "outputs": [],
   "source": [
    "src[\"fertility_rate\"] = (\n",
    "    src[\"fertility_rate\"].astype(str).str.replace(\"[16]\", \"\", regex=False)\n",
    ")"
   ]
  },
  {
   "cell_type": "code",
   "execution_count": 25,
   "id": "726cf798-2d6b-42fd-bd63-edf2b7eea3d2",
   "metadata": {},
   "outputs": [],
   "source": [
    "src.fillna()"
   ]
  },
  {
   "cell_type": "code",
   "execution_count": 26,
   "id": "a19a54aa-bc9e-4ba9-b732-590a316aeaae",
   "metadata": {},
   "outputs": [],
   "source": [
    "src[\"year\"] = pd.to_datetime(src[\"year\"])\n",
    "src[\"change\"] = pd.to_numeric(src.change, errors=\"coerce\").astype(float)\n",
    "src[\"birth_rate\"] = src[\"birth_rate\"].astype(float)\n",
    "src[\"death_rate\"] = src[\"death_rate\"].astype(float)\n",
    "src[\"change_rate\"] = pd.to_numeric(src.change_rate, errors=\"coerce\").astype(float)"
   ]
  },
  {
   "cell_type": "code",
   "execution_count": null,
   "id": "f3df2984-26e1-48e3-a80a-b75d835fb7a8",
   "metadata": {},
   "outputs": [],
   "source": []
  },
  {
   "cell_type": "code",
   "execution_count": 27,
   "id": "d39ca1c9-2f3a-4418-a518-5741a1861ba2",
   "metadata": {},
   "outputs": [],
   "source": [
    "df = src.sort_values(\"year\", ascending=False).copy()"
   ]
  },
  {
   "cell_type": "code",
   "execution_count": 28,
   "id": "538267b7-292e-4e80-99fc-186ebc46f746",
   "metadata": {},
   "outputs": [
    {
     "data": {
      "text/html": [
       "<div>\n",
       "<style scoped>\n",
       "    .dataframe tbody tr th:only-of-type {\n",
       "        vertical-align: middle;\n",
       "    }\n",
       "\n",
       "    .dataframe tbody tr th {\n",
       "        vertical-align: top;\n",
       "    }\n",
       "\n",
       "    .dataframe thead th {\n",
       "        text-align: right;\n",
       "    }\n",
       "</style>\n",
       "<table border=\"1\" class=\"dataframe\">\n",
       "  <thead>\n",
       "    <tr style=\"text-align: right;\">\n",
       "      <th></th>\n",
       "      <th>year</th>\n",
       "      <th>population</th>\n",
       "      <th>births</th>\n",
       "      <th>deaths</th>\n",
       "      <th>change</th>\n",
       "      <th>birth_rate</th>\n",
       "      <th>death_rate</th>\n",
       "      <th>change_rate</th>\n",
       "      <th>fertility_rate</th>\n",
       "    </tr>\n",
       "  </thead>\n",
       "  <tbody>\n",
       "    <tr>\n",
       "      <th>72</th>\n",
       "      <td>1970-01-01 00:00:00.000002021</td>\n",
       "      <td>1412600000</td>\n",
       "      <td>10620000</td>\n",
       "      <td>10140000</td>\n",
       "      <td>480000.0</td>\n",
       "      <td>7.52</td>\n",
       "      <td>7.18</td>\n",
       "      <td>0.36</td>\n",
       "      <td></td>\n",
       "    </tr>\n",
       "    <tr>\n",
       "      <th>71</th>\n",
       "      <td>1970-01-01 00:00:00.000002020</td>\n",
       "      <td>1411100000</td>\n",
       "      <td>12020000</td>\n",
       "      <td>9970000</td>\n",
       "      <td>2050000.0</td>\n",
       "      <td>8.52</td>\n",
       "      <td>7.07</td>\n",
       "      <td>1.45</td>\n",
       "      <td>1.30</td>\n",
       "    </tr>\n",
       "    <tr>\n",
       "      <th>70</th>\n",
       "      <td>1970-01-01 00:00:00.000002019</td>\n",
       "      <td>1407745000</td>\n",
       "      <td>14650000</td>\n",
       "      <td>9980000</td>\n",
       "      <td>4670000.0</td>\n",
       "      <td>10.41</td>\n",
       "      <td>7.09</td>\n",
       "      <td>3.32</td>\n",
       "      <td>nan</td>\n",
       "    </tr>\n",
       "    <tr>\n",
       "      <th>69</th>\n",
       "      <td>1970-01-01 00:00:00.000002018</td>\n",
       "      <td>1402760000</td>\n",
       "      <td>15230000</td>\n",
       "      <td>9930000</td>\n",
       "      <td>5300000.0</td>\n",
       "      <td>10.86</td>\n",
       "      <td>7.08</td>\n",
       "      <td>3.78</td>\n",
       "      <td>nan</td>\n",
       "    </tr>\n",
       "    <tr>\n",
       "      <th>68</th>\n",
       "      <td>1970-01-01 00:00:00.000002017</td>\n",
       "      <td>1396215000</td>\n",
       "      <td>17650000</td>\n",
       "      <td>9860000</td>\n",
       "      <td>7790000.0</td>\n",
       "      <td>12.64</td>\n",
       "      <td>7.06</td>\n",
       "      <td>5.58</td>\n",
       "      <td>nan</td>\n",
       "    </tr>\n",
       "  </tbody>\n",
       "</table>\n",
       "</div>"
      ],
      "text/plain": [
       "                            year  population    births    deaths     change  \\\n",
       "72 1970-01-01 00:00:00.000002021  1412600000  10620000  10140000   480000.0   \n",
       "71 1970-01-01 00:00:00.000002020  1411100000  12020000   9970000  2050000.0   \n",
       "70 1970-01-01 00:00:00.000002019  1407745000  14650000   9980000  4670000.0   \n",
       "69 1970-01-01 00:00:00.000002018  1402760000  15230000   9930000  5300000.0   \n",
       "68 1970-01-01 00:00:00.000002017  1396215000  17650000   9860000  7790000.0   \n",
       "\n",
       "    birth_rate  death_rate  change_rate fertility_rate  \n",
       "72        7.52        7.18         0.36                 \n",
       "71        8.52        7.07         1.45           1.30  \n",
       "70       10.41        7.09         3.32            nan  \n",
       "69       10.86        7.08         3.78            nan  \n",
       "68       12.64        7.06         5.58            nan  "
      ]
     },
     "execution_count": 28,
     "metadata": {},
     "output_type": "execute_result"
    }
   ],
   "source": [
    "df.head()"
   ]
  },
  {
   "cell_type": "code",
   "execution_count": 29,
   "id": "bfb29c22-407c-4aa0-a238-c6470c7b0203",
   "metadata": {},
   "outputs": [
    {
     "data": {
      "text/plain": [
       "Index(['year', 'population', 'births', 'deaths', 'change', 'birth_rate',\n",
       "       'death_rate', 'change_rate', 'fertility_rate'],\n",
       "      dtype='object')"
      ]
     },
     "execution_count": 29,
     "metadata": {},
     "output_type": "execute_result"
    }
   ],
   "source": [
    "df.columns"
   ]
  },
  {
   "cell_type": "markdown",
   "id": "8e25544c-8d27-4934-8557-89ce41521131",
   "metadata": {},
   "source": [
    "---"
   ]
  },
  {
   "cell_type": "markdown",
   "id": "0fb5e841-61c4-4c1f-b409-77e3acaf01e5",
   "metadata": {},
   "source": [
    "### Melt dataframe for charting"
   ]
  },
  {
   "cell_type": "code",
   "execution_count": null,
   "id": "26f99f0b-987b-45c7-abf5-5338e9fec39c",
   "metadata": {},
   "outputs": [],
   "source": [
    "df_melt = pd.melt(\n",
    "    df,\n",
    "    id_vars=\"year\",\n",
    "    value_vars=[\n",
    "        \"births\",\n",
    "        \"deaths\",\n",
    "        \"change\",\n",
    "        \"birth_rate\",\n",
    "        \"death_rate\",\n",
    "        \"change_rate\",\n",
    "        \"fertility_rate\",\n",
    "    ],\n",
    "    var_name=\"measure\",\n",
    "    value_name=\"value\",\n",
    ")"
   ]
  },
  {
   "cell_type": "code",
   "execution_count": null,
   "id": "7a8ba78e-215c-4731-8aac-099c4075ad9c",
   "metadata": {},
   "outputs": [],
   "source": [
    "df_melt.measure.value_counts()"
   ]
  },
  {
   "cell_type": "code",
   "execution_count": null,
   "id": "d8502444-c322-4d76-bfb5-619dd731ba68",
   "metadata": {},
   "outputs": [],
   "source": [
    "rates = [\"birth_rate\", \"death_rate\"]\n",
    "raw = [\"births\", \"deaths\"]"
   ]
  },
  {
   "cell_type": "code",
   "execution_count": null,
   "id": "17dfcb34-a1a4-4281-8eae-8e9d45bbfac8",
   "metadata": {},
   "outputs": [],
   "source": [
    "alt.Chart(df_melt[df_melt[\"measure\"] == \"fertility_rate\"]).mark_bar(size=10).encode(\n",
    "    x=\"year:T\", y=\"value\", color=\"measure\",\n",
    ").properties(width=650, title=\"Fertility rate in China\")"
   ]
  },
  {
   "cell_type": "code",
   "execution_count": null,
   "id": "8401ca84-1bbb-4d55-a27f-d6dde1d69916",
   "metadata": {},
   "outputs": [],
   "source": [
    "alt.Chart(df_melt[df_melt[\"measure\"].isin(rates)]).mark_line(size=3).encode(\n",
    "    x=alt.X(\"year:T\", axis=alt.Axis(tickCount=9), title=\"Year\"),\n",
    "    y=alt.Y(\"value\", axis=alt.Axis(tickCount=5, title=\"Per 100,000\")),\n",
    "    color=\"measure\",\n",
    ").properties(width=650, title=\"Birth rate vs. death rate in China\")"
   ]
  },
  {
   "cell_type": "markdown",
   "id": "eaf45411-37d4-440d-b733-fa7ab16313d8",
   "metadata": {},
   "source": [
    "---"
   ]
  },
  {
   "cell_type": "markdown",
   "id": "1979b749-bdf3-4151-8632-6942555297ea",
   "metadata": {},
   "source": [
    "### Export"
   ]
  },
  {
   "cell_type": "code",
   "execution_count": null,
   "id": "f5f7d80f-7ef2-4694-868b-247f1dee527b",
   "metadata": {},
   "outputs": [],
   "source": [
    "df[df[\"year\"] > \"1969\"].to_csv(\n",
    "    \"data/processed/china_births_deaths_rates.csv\", index=False\n",
    ")"
   ]
  },
  {
   "cell_type": "code",
   "execution_count": null,
   "id": "811c5345-f17b-4a66-8b60-857fe584dca6",
   "metadata": {},
   "outputs": [],
   "source": [
    "df.rename(\n",
    "    columns={\"year\": \"Year\", \"birth_rate\": \"Birth rate\", \"death_rate\": \"Death rate\"},\n",
    "    inplace=True,\n",
    ")"
   ]
  },
  {
   "cell_type": "code",
   "execution_count": null,
   "id": "1021328d-ff57-4d1b-8254-f25aa3454454",
   "metadata": {},
   "outputs": [],
   "source": [
    "df[df[\"Year\"] > \"1969\"][[\"Year\", \"Death rate\", \"Birth rate\"]].to_csv(\n",
    "    \"data/processed/china_births_deaths_rates_datawrapper.csv\", index=False\n",
    ")"
   ]
  }
 ],
 "metadata": {
  "kernelspec": {
   "display_name": "Python 3 (ipykernel)",
   "language": "python",
   "name": "python3"
  },
  "language_info": {
   "codemirror_mode": {
    "name": "ipython",
    "version": 3
   },
   "file_extension": ".py",
   "mimetype": "text/x-python",
   "name": "python",
   "nbconvert_exporter": "python",
   "pygments_lexer": "ipython3",
   "version": "3.8.9"
  }
 },
 "nbformat": 4,
 "nbformat_minor": 5
}
