{
 "cells": [
  {
   "cell_type": "markdown",
   "id": "4dab3089-f2c8-4cce-8120-79a01e83a4a4",
   "metadata": {},
   "source": [
    "### setup"
   ]
  },
  {
   "cell_type": "code",
   "execution_count": 1,
   "id": "92b29ac9-cb82-4109-aac9-4e9ffcd8a281",
   "metadata": {},
   "outputs": [],
   "source": [
    "%load_ext lab_black"
   ]
  },
  {
   "cell_type": "code",
   "execution_count": 2,
   "id": "40dc8cfb-4e9f-4a79-8594-4dc91ed8b094",
   "metadata": {},
   "outputs": [],
   "source": [
    "import pandas as pd\n",
    "import requests\n",
    "import pageviewapi\n",
    "import datetime as dt\n",
    "from bs4 import BeautifulSoup\n",
    "import altair as alt"
   ]
  },
  {
   "cell_type": "code",
   "execution_count": 3,
   "id": "593cc747-7e4f-4518-8a37-d6a48d3d92cd",
   "metadata": {},
   "outputs": [],
   "source": [
    "pd.options.display.max_columns = 100\n",
    "pd.options.display.max_rows = 1000\n",
    "pd.options.display.max_colwidth = None"
   ]
  },
  {
   "cell_type": "code",
   "execution_count": 4,
   "id": "c51545c5-6682-4c18-9305-caed4897ae14",
   "metadata": {},
   "outputs": [],
   "source": [
    "begin = \"20210101\"\n",
    "today = dt.datetime.today().strftime(\"%Y%m%d\")"
   ]
  },
  {
   "cell_type": "markdown",
   "id": "d4cca240-935a-4de7-a5b5-aa2cbaa1c56d",
   "metadata": {},
   "source": [
    "---"
   ]
  },
  {
   "cell_type": "markdown",
   "id": "4abbec80-a82e-435b-a3d1-db1f076b18b3",
   "metadata": {},
   "source": [
    "### First, get a list of all meetings"
   ]
  },
  {
   "cell_type": "code",
   "execution_count": 5,
   "id": "ff58dcaf-247b-41a3-ac31-33869ae51431",
   "metadata": {},
   "outputs": [],
   "source": [
    "from urllib.request import urlopen\n",
    "from bs4 import BeautifulSoup\n",
    "\n",
    "data_list = []\n",
    "\n",
    "html = urlopen(\n",
    "    \"https://en.wikipedia.org/wiki/List_of_international_trips_made_by_Xi_Jinping\"\n",
    ")"
   ]
  },
  {
   "cell_type": "code",
   "execution_count": 6,
   "id": "a5a763d7-437e-474c-b511-ebd959b0ab62",
   "metadata": {},
   "outputs": [],
   "source": [
    "soup = BeautifulSoup(html, \"html.parser\")"
   ]
  },
  {
   "cell_type": "code",
   "execution_count": 22,
   "id": "8430395e-68a5-4faa-9135-d5a5b7ef05e4",
   "metadata": {},
   "outputs": [],
   "source": [
    "tables = soup.find_all(\"tbody\")[2:9]"
   ]
  },
  {
   "cell_type": "code",
   "execution_count": 62,
   "id": "bdae8a31-89f2-4859-926b-cb68d43665c6",
   "metadata": {},
   "outputs": [],
   "source": [
    "dates = []\n",
    "location = []\n",
    "content = []\n",
    "for table in tables:\n",
    "    rows = table.find_all(\"tr\")[1:]\n",
    "    for row in rows:\n",
    "        cells = row.find_all(\"td\")\n",
    "        if len(cells) == 5:\n",
    "            dates.append(cells[1].text.strip())\n",
    "            location.append(cells[3].text.strip())\n",
    "            content.append(cells[4].text.strip())\n",
    "        else:\n",
    "            dates.append(cells[0].text.strip())\n",
    "            location.append(cells[2].text.strip())\n",
    "            content.append(cells[3].text.strip())"
   ]
  },
  {
   "cell_type": "raw",
   "id": "858050f1-f958-4ac5-b395-02ef98c2c6a3",
   "metadata": {},
   "source": [
    "dates"
   ]
  },
  {
   "cell_type": "code",
   "execution_count": 63,
   "id": "164218d7-a899-4415-a377-5ff004e7415f",
   "metadata": {},
   "outputs": [
    {
     "data": {
      "text/plain": [
       "[<td><span data-sort-value=\"10 !\">12–14 November 2019</span>\n",
       " </td>,\n",
       " <td><span class=\"flagicon\"><img alt=\"\" class=\"thumbborder\" data-file-height=\"504\" data-file-width=\"720\" decoding=\"async\" height=\"15\" src=\"//upload.wikimedia.org/wikipedia/en/thumb/0/05/Flag_of_Brazil.svg/22px-Flag_of_Brazil.svg.png\" srcset=\"//upload.wikimedia.org/wikipedia/en/thumb/0/05/Flag_of_Brazil.svg/33px-Flag_of_Brazil.svg.png 1.5x, //upload.wikimedia.org/wikipedia/en/thumb/0/05/Flag_of_Brazil.svg/43px-Flag_of_Brazil.svg.png 2x\" width=\"22\"/> </span><a href=\"/wiki/Brazil\" title=\"Brazil\">Brazil</a>\n",
       " </td>,\n",
       " <td><a href=\"/wiki/Bras%C3%ADlia\" title=\"Brasília\">Brasília</a>\n",
       " </td>,\n",
       " <td>Attendance to the <a href=\"/wiki/11th_BRICS_summit\" title=\"11th BRICS summit\">11th BRICS summit</a>. Met with President <a href=\"/wiki/Jair_Bolsonaro\" title=\"Jair Bolsonaro\">Jair Bolsonaro</a>.\n",
       " </td>]"
      ]
     },
     "execution_count": 63,
     "metadata": {},
     "output_type": "execute_result"
    }
   ],
   "source": [
    "cells"
   ]
  },
  {
   "cell_type": "code",
   "execution_count": null,
   "id": "72619365-6b01-42a8-b04f-fc2acc3bbb0c",
   "metadata": {},
   "outputs": [],
   "source": []
  }
 ],
 "metadata": {
  "kernelspec": {
   "display_name": "Python 3 (ipykernel)",
   "language": "python",
   "name": "python3"
  },
  "language_info": {
   "codemirror_mode": {
    "name": "ipython",
    "version": 3
   },
   "file_extension": ".py",
   "mimetype": "text/x-python",
   "name": "python",
   "nbconvert_exporter": "python",
   "pygments_lexer": "ipython3",
   "version": "3.9.13"
  }
 },
 "nbformat": 4,
 "nbformat_minor": 5
}
