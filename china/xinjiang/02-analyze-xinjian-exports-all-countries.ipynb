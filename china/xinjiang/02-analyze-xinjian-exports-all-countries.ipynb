{
 "cells": [
  {
   "cell_type": "markdown",
   "id": "ca1de40a-2d7d-4119-b8b9-5ed1e9a3e7b3",
   "metadata": {
    "tags": []
   },
   "source": [
    "# Chinese exports by year, country and commodity"
   ]
  },
  {
   "cell_type": "markdown",
   "id": "7f12671b-1bda-4caa-817e-567f50b177e9",
   "metadata": {
    "tags": []
   },
   "source": [
    "### Import Python tools and Jupyter configuration"
   ]
  },
  {
   "cell_type": "code",
   "execution_count": 1,
   "id": "c36b05d2-15cb-4f87-aa4d-aa6e928576e6",
   "metadata": {},
   "outputs": [],
   "source": [
    "%load_ext lab_black"
   ]
  },
  {
   "cell_type": "code",
   "execution_count": 2,
   "id": "f4145a4d-23f9-46b4-b4c9-52a3ba2ab2cb",
   "metadata": {},
   "outputs": [],
   "source": [
    "import pandas as pd\n",
    "import geopandas as gpd\n",
    "import altair as alt\n",
    "import glob"
   ]
  },
  {
   "cell_type": "code",
   "execution_count": 3,
   "id": "49dec6f5-e359-48ca-81f1-161bd81fd95d",
   "metadata": {},
   "outputs": [],
   "source": [
    "pd.options.display.max_columns = 1000\n",
    "pd.options.display.max_rows = 1000\n",
    "pd.options.display.max_colwidth = None\n",
    "pd.set_option(\"display.float_format\", lambda x: \"%.2f\" % x)"
   ]
  },
  {
   "cell_type": "markdown",
   "id": "535c5680-4609-4e73-a693-5253ee632f26",
   "metadata": {},
   "source": [
    "---"
   ]
  },
  {
   "cell_type": "code",
   "execution_count": 4,
   "id": "6eb77745-ddaa-4dd6-8406-23419ada5a1c",
   "metadata": {},
   "outputs": [],
   "source": [
    "### QUESTIONS"
   ]
  },
  {
   "cell_type": "markdown",
   "id": "80cbf246-2244-4147-9a77-802dbf877ea3",
   "metadata": {},
   "source": [
    "---"
   ]
  },
  {
   "cell_type": "markdown",
   "id": "e2d52f76-7609-4a09-b10c-f1fc64650bd9",
   "metadata": {
    "tags": []
   },
   "source": [
    "### Read processed trade data"
   ]
  },
  {
   "cell_type": "code",
   "execution_count": 12,
   "id": "845f15d7-9dd8-4cb6-8940-2b822dd2e57e",
   "metadata": {},
   "outputs": [],
   "source": [
    "df = pd.read_csv(\n",
    "    \"../data/processed/exports_xingjiang_all_countries.csv\",\n",
    "    dtype={\n",
    "        \"commodity_code\": str,\n",
    "        \"commodity_chapter\": str,\n",
    "        \"commodity_chapter_four\": str,\n",
    "    },\n",
    ")"
   ]
  },
  {
   "cell_type": "code",
   "execution_count": 6,
   "id": "95b4f1d4-3348-4263-bbd7-e06c29b8168b",
   "metadata": {},
   "outputs": [
    {
     "data": {
      "text/html": [
       "<div>\n",
       "<style scoped>\n",
       "    .dataframe tbody tr th:only-of-type {\n",
       "        vertical-align: middle;\n",
       "    }\n",
       "\n",
       "    .dataframe tbody tr th {\n",
       "        vertical-align: top;\n",
       "    }\n",
       "\n",
       "    .dataframe thead th {\n",
       "        text-align: right;\n",
       "    }\n",
       "</style>\n",
       "<table border=\"1\" class=\"dataframe\">\n",
       "  <thead>\n",
       "    <tr style=\"text-align: right;\">\n",
       "      <th></th>\n",
       "      <th>year</th>\n",
       "      <th>commodity_code</th>\n",
       "      <th>commodity_chapter</th>\n",
       "      <th>commodity_chapter_four</th>\n",
       "      <th>commodity_chapter_desc</th>\n",
       "      <th>us_dollar</th>\n",
       "      <th>exported_to</th>\n",
       "      <th>exported_from</th>\n",
       "    </tr>\n",
       "  </thead>\n",
       "  <tbody>\n",
       "    <tr>\n",
       "      <th>0</th>\n",
       "      <td>2020</td>\n",
       "      <td>02074500</td>\n",
       "      <td>02</td>\n",
       "      <td>0207</td>\n",
       "      <td>Meat and edible meat offal</td>\n",
       "      <td>1113600</td>\n",
       "      <td>Kyrgyzstan</td>\n",
       "      <td>Xingjiang Uygur</td>\n",
       "    </tr>\n",
       "    <tr>\n",
       "      <th>1</th>\n",
       "      <td>2021</td>\n",
       "      <td>02074500</td>\n",
       "      <td>02</td>\n",
       "      <td>0207</td>\n",
       "      <td>Meat and edible meat offal</td>\n",
       "      <td>717456</td>\n",
       "      <td>Kyrgyzstan</td>\n",
       "      <td>Xingjiang Uygur</td>\n",
       "    </tr>\n",
       "    <tr>\n",
       "      <th>2</th>\n",
       "      <td>2020</td>\n",
       "      <td>07019000</td>\n",
       "      <td>07</td>\n",
       "      <td>0701</td>\n",
       "      <td>Vegetables and certain roots and tubers; edible</td>\n",
       "      <td>8760</td>\n",
       "      <td>Kyrgyzstan</td>\n",
       "      <td>Xingjiang Uygur</td>\n",
       "    </tr>\n",
       "    <tr>\n",
       "      <th>3</th>\n",
       "      <td>2020</td>\n",
       "      <td>07020000</td>\n",
       "      <td>07</td>\n",
       "      <td>0702</td>\n",
       "      <td>Vegetables and certain roots and tubers; edible</td>\n",
       "      <td>73121</td>\n",
       "      <td>Kyrgyzstan</td>\n",
       "      <td>Xingjiang Uygur</td>\n",
       "    </tr>\n",
       "    <tr>\n",
       "      <th>4</th>\n",
       "      <td>2020</td>\n",
       "      <td>07032010</td>\n",
       "      <td>07</td>\n",
       "      <td>0703</td>\n",
       "      <td>Vegetables and certain roots and tubers; edible</td>\n",
       "      <td>3206533</td>\n",
       "      <td>Kyrgyzstan</td>\n",
       "      <td>Xingjiang Uygur</td>\n",
       "    </tr>\n",
       "  </tbody>\n",
       "</table>\n",
       "</div>"
      ],
      "text/plain": [
       "   year commodity_code commodity_chapter commodity_chapter_four  \\\n",
       "0  2020       02074500                02                   0207   \n",
       "1  2021       02074500                02                   0207   \n",
       "2  2020       07019000                07                   0701   \n",
       "3  2020       07020000                07                   0702   \n",
       "4  2020       07032010                07                   0703   \n",
       "\n",
       "                            commodity_chapter_desc  us_dollar exported_to  \\\n",
       "0                       Meat and edible meat offal    1113600  Kyrgyzstan   \n",
       "1                       Meat and edible meat offal     717456  Kyrgyzstan   \n",
       "2  Vegetables and certain roots and tubers; edible       8760  Kyrgyzstan   \n",
       "3  Vegetables and certain roots and tubers; edible      73121  Kyrgyzstan   \n",
       "4  Vegetables and certain roots and tubers; edible    3206533  Kyrgyzstan   \n",
       "\n",
       "     exported_from  \n",
       "0  Xingjiang Uygur  \n",
       "1  Xingjiang Uygur  \n",
       "2  Xingjiang Uygur  \n",
       "3  Xingjiang Uygur  \n",
       "4  Xingjiang Uygur  "
      ]
     },
     "execution_count": 6,
     "metadata": {},
     "output_type": "execute_result"
    }
   ],
   "source": [
    "df.head()"
   ]
  },
  {
   "cell_type": "markdown",
   "id": "4ec11fd3-3329-4a91-ace8-40111fd24fa8",
   "metadata": {},
   "source": [
    "---"
   ]
  },
  {
   "cell_type": "markdown",
   "id": "897ade97-da3a-477a-8473-d148f520b87f",
   "metadata": {},
   "source": [
    "### Exports to countries"
   ]
  },
  {
   "cell_type": "code",
   "execution_count": 7,
   "id": "530b46bb-3773-44e3-aa49-1627652a663b",
   "metadata": {},
   "outputs": [],
   "source": [
    "xinjiang_exports = df.groupby([\"exported_to\"]).agg({\"us_dollar\": sum}).reset_index()"
   ]
  },
  {
   "cell_type": "code",
   "execution_count": 8,
   "id": "f2747a3c-dc9c-4cba-a5d4-315de744c627",
   "metadata": {},
   "outputs": [
    {
     "data": {
      "text/html": [
       "<div>\n",
       "<style scoped>\n",
       "    .dataframe tbody tr th:only-of-type {\n",
       "        vertical-align: middle;\n",
       "    }\n",
       "\n",
       "    .dataframe tbody tr th {\n",
       "        vertical-align: top;\n",
       "    }\n",
       "\n",
       "    .dataframe thead th {\n",
       "        text-align: right;\n",
       "    }\n",
       "</style>\n",
       "<table border=\"1\" class=\"dataframe\">\n",
       "  <thead>\n",
       "    <tr style=\"text-align: right;\">\n",
       "      <th></th>\n",
       "      <th>exported_to</th>\n",
       "      <th>us_dollar</th>\n",
       "    </tr>\n",
       "  </thead>\n",
       "  <tbody>\n",
       "    <tr>\n",
       "      <th>79</th>\n",
       "      <td>Kazakhstan</td>\n",
       "      <td>8698929415</td>\n",
       "    </tr>\n",
       "    <tr>\n",
       "      <th>83</th>\n",
       "      <td>Kyrgyzstan</td>\n",
       "      <td>5723007909</td>\n",
       "    </tr>\n",
       "    <tr>\n",
       "      <th>157</th>\n",
       "      <td>Tajikistan</td>\n",
       "      <td>1083374747</td>\n",
       "    </tr>\n",
       "    <tr>\n",
       "      <th>134</th>\n",
       "      <td>Russian Federation</td>\n",
       "      <td>981599023</td>\n",
       "    </tr>\n",
       "    <tr>\n",
       "      <th>172</th>\n",
       "      <td>Uzbekistan</td>\n",
       "      <td>719418031</td>\n",
       "    </tr>\n",
       "    <tr>\n",
       "      <th>175</th>\n",
       "      <td>Vietnam</td>\n",
       "      <td>520072761</td>\n",
       "    </tr>\n",
       "    <tr>\n",
       "      <th>69</th>\n",
       "      <td>India</td>\n",
       "      <td>423621018</td>\n",
       "    </tr>\n",
       "    <tr>\n",
       "      <th>170</th>\n",
       "      <td>United States</td>\n",
       "      <td>380381550</td>\n",
       "    </tr>\n",
       "    <tr>\n",
       "      <th>159</th>\n",
       "      <td>Thailand</td>\n",
       "      <td>251554562</td>\n",
       "    </tr>\n",
       "    <tr>\n",
       "      <th>75</th>\n",
       "      <td>Italy</td>\n",
       "      <td>234212249</td>\n",
       "    </tr>\n",
       "  </tbody>\n",
       "</table>\n",
       "</div>"
      ],
      "text/plain": [
       "            exported_to   us_dollar\n",
       "79           Kazakhstan  8698929415\n",
       "83           Kyrgyzstan  5723007909\n",
       "157          Tajikistan  1083374747\n",
       "134  Russian Federation   981599023\n",
       "172          Uzbekistan   719418031\n",
       "175             Vietnam   520072761\n",
       "69                India   423621018\n",
       "170       United States   380381550\n",
       "159            Thailand   251554562\n",
       "75                Italy   234212249"
      ]
     },
     "execution_count": 8,
     "metadata": {},
     "output_type": "execute_result"
    }
   ],
   "source": [
    "xinjiang_exports.sort_values(\"us_dollar\", ascending=False).head(10)"
   ]
  },
  {
   "cell_type": "markdown",
   "id": "4d0c804c-aea5-4382-bd2b-6da130d8f33d",
   "metadata": {},
   "source": [
    "---"
   ]
  },
  {
   "cell_type": "markdown",
   "id": "406f4e1d-efa2-4755-b425-b7a7be97dc35",
   "metadata": {},
   "source": [
    "### Most exported commodity types"
   ]
  },
  {
   "cell_type": "code",
   "execution_count": 9,
   "id": "213886f1-937a-4b01-a444-e2ed207c492e",
   "metadata": {},
   "outputs": [
    {
     "data": {
      "text/html": [
       "<div>\n",
       "<style scoped>\n",
       "    .dataframe tbody tr th:only-of-type {\n",
       "        vertical-align: middle;\n",
       "    }\n",
       "\n",
       "    .dataframe tbody tr th {\n",
       "        vertical-align: top;\n",
       "    }\n",
       "\n",
       "    .dataframe thead th {\n",
       "        text-align: right;\n",
       "    }\n",
       "</style>\n",
       "<table border=\"1\" class=\"dataframe\">\n",
       "  <thead>\n",
       "    <tr style=\"text-align: right;\">\n",
       "      <th></th>\n",
       "      <th>year</th>\n",
       "      <th>commodity_code</th>\n",
       "      <th>commodity_chapter</th>\n",
       "      <th>commodity_chapter_four</th>\n",
       "      <th>commodity_chapter_desc</th>\n",
       "      <th>us_dollar</th>\n",
       "      <th>exported_to</th>\n",
       "      <th>exported_from</th>\n",
       "    </tr>\n",
       "  </thead>\n",
       "  <tbody>\n",
       "    <tr>\n",
       "      <th>0</th>\n",
       "      <td>2020</td>\n",
       "      <td>02074500</td>\n",
       "      <td>02</td>\n",
       "      <td>0207</td>\n",
       "      <td>Meat and edible meat offal</td>\n",
       "      <td>1113600</td>\n",
       "      <td>Kyrgyzstan</td>\n",
       "      <td>Xingjiang Uygur</td>\n",
       "    </tr>\n",
       "    <tr>\n",
       "      <th>1</th>\n",
       "      <td>2021</td>\n",
       "      <td>02074500</td>\n",
       "      <td>02</td>\n",
       "      <td>0207</td>\n",
       "      <td>Meat and edible meat offal</td>\n",
       "      <td>717456</td>\n",
       "      <td>Kyrgyzstan</td>\n",
       "      <td>Xingjiang Uygur</td>\n",
       "    </tr>\n",
       "    <tr>\n",
       "      <th>2</th>\n",
       "      <td>2020</td>\n",
       "      <td>07019000</td>\n",
       "      <td>07</td>\n",
       "      <td>0701</td>\n",
       "      <td>Vegetables and certain roots and tubers; edible</td>\n",
       "      <td>8760</td>\n",
       "      <td>Kyrgyzstan</td>\n",
       "      <td>Xingjiang Uygur</td>\n",
       "    </tr>\n",
       "    <tr>\n",
       "      <th>3</th>\n",
       "      <td>2020</td>\n",
       "      <td>07020000</td>\n",
       "      <td>07</td>\n",
       "      <td>0702</td>\n",
       "      <td>Vegetables and certain roots and tubers; edible</td>\n",
       "      <td>73121</td>\n",
       "      <td>Kyrgyzstan</td>\n",
       "      <td>Xingjiang Uygur</td>\n",
       "    </tr>\n",
       "    <tr>\n",
       "      <th>4</th>\n",
       "      <td>2020</td>\n",
       "      <td>07032010</td>\n",
       "      <td>07</td>\n",
       "      <td>0703</td>\n",
       "      <td>Vegetables and certain roots and tubers; edible</td>\n",
       "      <td>3206533</td>\n",
       "      <td>Kyrgyzstan</td>\n",
       "      <td>Xingjiang Uygur</td>\n",
       "    </tr>\n",
       "  </tbody>\n",
       "</table>\n",
       "</div>"
      ],
      "text/plain": [
       "   year commodity_code commodity_chapter commodity_chapter_four  \\\n",
       "0  2020       02074500                02                   0207   \n",
       "1  2021       02074500                02                   0207   \n",
       "2  2020       07019000                07                   0701   \n",
       "3  2020       07020000                07                   0702   \n",
       "4  2020       07032010                07                   0703   \n",
       "\n",
       "                            commodity_chapter_desc  us_dollar exported_to  \\\n",
       "0                       Meat and edible meat offal    1113600  Kyrgyzstan   \n",
       "1                       Meat and edible meat offal     717456  Kyrgyzstan   \n",
       "2  Vegetables and certain roots and tubers; edible       8760  Kyrgyzstan   \n",
       "3  Vegetables and certain roots and tubers; edible      73121  Kyrgyzstan   \n",
       "4  Vegetables and certain roots and tubers; edible    3206533  Kyrgyzstan   \n",
       "\n",
       "     exported_from  \n",
       "0  Xingjiang Uygur  \n",
       "1  Xingjiang Uygur  \n",
       "2  Xingjiang Uygur  \n",
       "3  Xingjiang Uygur  \n",
       "4  Xingjiang Uygur  "
      ]
     },
     "execution_count": 9,
     "metadata": {},
     "output_type": "execute_result"
    }
   ],
   "source": [
    "df.head()"
   ]
  },
  {
   "cell_type": "code",
   "execution_count": 10,
   "id": "76a481ba-29e2-4afb-9092-bcf9177b855a",
   "metadata": {},
   "outputs": [],
   "source": [
    "xinjiang_exports_types = (\n",
    "    df.groupby([\"year\", \"commodity_chapter_four\"]).agg({\"us_dollar\": sum}).reset_index()\n",
    ")"
   ]
  },
  {
   "cell_type": "code",
   "execution_count": 11,
   "id": "fd026511-8105-4769-b179-67a2f600c961",
   "metadata": {},
   "outputs": [
    {
     "ename": "KeyError",
     "evalue": "'commodity_chapter'",
     "output_type": "error",
     "traceback": [
      "\u001b[0;31m---------------------------------------------------------------------------\u001b[0m",
      "\u001b[0;31mKeyError\u001b[0m                                  Traceback (most recent call last)",
      "File \u001b[0;32m~/.local/share/virtualenvs/notebooks-sxqKeO4C/lib/python3.8/site-packages/pandas/core/indexes/base.py:3361\u001b[0m, in \u001b[0;36mIndex.get_loc\u001b[0;34m(self, key, method, tolerance)\u001b[0m\n\u001b[1;32m   3360\u001b[0m \u001b[38;5;28;01mtry\u001b[39;00m:\n\u001b[0;32m-> 3361\u001b[0m     \u001b[38;5;28;01mreturn\u001b[39;00m \u001b[38;5;28;43mself\u001b[39;49m\u001b[38;5;241;43m.\u001b[39;49m\u001b[43m_engine\u001b[49m\u001b[38;5;241;43m.\u001b[39;49m\u001b[43mget_loc\u001b[49m\u001b[43m(\u001b[49m\u001b[43mcasted_key\u001b[49m\u001b[43m)\u001b[49m\n\u001b[1;32m   3362\u001b[0m \u001b[38;5;28;01mexcept\u001b[39;00m \u001b[38;5;167;01mKeyError\u001b[39;00m \u001b[38;5;28;01mas\u001b[39;00m err:\n",
      "File \u001b[0;32m~/.local/share/virtualenvs/notebooks-sxqKeO4C/lib/python3.8/site-packages/pandas/_libs/index.pyx:76\u001b[0m, in \u001b[0;36mpandas._libs.index.IndexEngine.get_loc\u001b[0;34m()\u001b[0m\n",
      "File \u001b[0;32m~/.local/share/virtualenvs/notebooks-sxqKeO4C/lib/python3.8/site-packages/pandas/_libs/index.pyx:108\u001b[0m, in \u001b[0;36mpandas._libs.index.IndexEngine.get_loc\u001b[0;34m()\u001b[0m\n",
      "File \u001b[0;32mpandas/_libs/hashtable_class_helper.pxi:5198\u001b[0m, in \u001b[0;36mpandas._libs.hashtable.PyObjectHashTable.get_item\u001b[0;34m()\u001b[0m\n",
      "File \u001b[0;32mpandas/_libs/hashtable_class_helper.pxi:5206\u001b[0m, in \u001b[0;36mpandas._libs.hashtable.PyObjectHashTable.get_item\u001b[0;34m()\u001b[0m\n",
      "\u001b[0;31mKeyError\u001b[0m: 'commodity_chapter'",
      "\nThe above exception was the direct cause of the following exception:\n",
      "\u001b[0;31mKeyError\u001b[0m                                  Traceback (most recent call last)",
      "Input \u001b[0;32mIn [11]\u001b[0m, in \u001b[0;36m<module>\u001b[0;34m\u001b[0m\n\u001b[0;32m----> 1\u001b[0m xinjiang_exports_types[\u001b[43mxinjiang_exports_types\u001b[49m\u001b[43m[\u001b[49m\u001b[38;5;124;43m\"\u001b[39;49m\u001b[38;5;124;43mcommodity_chapter\u001b[39;49m\u001b[38;5;124;43m\"\u001b[39;49m\u001b[43m]\u001b[49m \u001b[38;5;241m==\u001b[39m \u001b[38;5;124m\"\u001b[39m\u001b[38;5;124m52\u001b[39m\u001b[38;5;124m\"\u001b[39m]\u001b[38;5;241m.\u001b[39msort_values(\n\u001b[1;32m      2\u001b[0m     \u001b[38;5;124m\"\u001b[39m\u001b[38;5;124mus_dollar\u001b[39m\u001b[38;5;124m\"\u001b[39m, ascending\u001b[38;5;241m=\u001b[39m\u001b[38;5;28;01mFalse\u001b[39;00m\n\u001b[1;32m      3\u001b[0m )\u001b[38;5;241m.\u001b[39mhead(\u001b[38;5;241m10\u001b[39m)\n",
      "File \u001b[0;32m~/.local/share/virtualenvs/notebooks-sxqKeO4C/lib/python3.8/site-packages/pandas/core/frame.py:3458\u001b[0m, in \u001b[0;36mDataFrame.__getitem__\u001b[0;34m(self, key)\u001b[0m\n\u001b[1;32m   3456\u001b[0m \u001b[38;5;28;01mif\u001b[39;00m \u001b[38;5;28mself\u001b[39m\u001b[38;5;241m.\u001b[39mcolumns\u001b[38;5;241m.\u001b[39mnlevels \u001b[38;5;241m>\u001b[39m \u001b[38;5;241m1\u001b[39m:\n\u001b[1;32m   3457\u001b[0m     \u001b[38;5;28;01mreturn\u001b[39;00m \u001b[38;5;28mself\u001b[39m\u001b[38;5;241m.\u001b[39m_getitem_multilevel(key)\n\u001b[0;32m-> 3458\u001b[0m indexer \u001b[38;5;241m=\u001b[39m \u001b[38;5;28;43mself\u001b[39;49m\u001b[38;5;241;43m.\u001b[39;49m\u001b[43mcolumns\u001b[49m\u001b[38;5;241;43m.\u001b[39;49m\u001b[43mget_loc\u001b[49m\u001b[43m(\u001b[49m\u001b[43mkey\u001b[49m\u001b[43m)\u001b[49m\n\u001b[1;32m   3459\u001b[0m \u001b[38;5;28;01mif\u001b[39;00m is_integer(indexer):\n\u001b[1;32m   3460\u001b[0m     indexer \u001b[38;5;241m=\u001b[39m [indexer]\n",
      "File \u001b[0;32m~/.local/share/virtualenvs/notebooks-sxqKeO4C/lib/python3.8/site-packages/pandas/core/indexes/base.py:3363\u001b[0m, in \u001b[0;36mIndex.get_loc\u001b[0;34m(self, key, method, tolerance)\u001b[0m\n\u001b[1;32m   3361\u001b[0m         \u001b[38;5;28;01mreturn\u001b[39;00m \u001b[38;5;28mself\u001b[39m\u001b[38;5;241m.\u001b[39m_engine\u001b[38;5;241m.\u001b[39mget_loc(casted_key)\n\u001b[1;32m   3362\u001b[0m     \u001b[38;5;28;01mexcept\u001b[39;00m \u001b[38;5;167;01mKeyError\u001b[39;00m \u001b[38;5;28;01mas\u001b[39;00m err:\n\u001b[0;32m-> 3363\u001b[0m         \u001b[38;5;28;01mraise\u001b[39;00m \u001b[38;5;167;01mKeyError\u001b[39;00m(key) \u001b[38;5;28;01mfrom\u001b[39;00m \u001b[38;5;21;01merr\u001b[39;00m\n\u001b[1;32m   3365\u001b[0m \u001b[38;5;28;01mif\u001b[39;00m is_scalar(key) \u001b[38;5;129;01mand\u001b[39;00m isna(key) \u001b[38;5;129;01mand\u001b[39;00m \u001b[38;5;129;01mnot\u001b[39;00m \u001b[38;5;28mself\u001b[39m\u001b[38;5;241m.\u001b[39mhasnans:\n\u001b[1;32m   3366\u001b[0m     \u001b[38;5;28;01mraise\u001b[39;00m \u001b[38;5;167;01mKeyError\u001b[39;00m(key)\n",
      "\u001b[0;31mKeyError\u001b[0m: 'commodity_chapter'"
     ]
    }
   ],
   "source": [
    "xinjiang_exports_types[xinjiang_exports_types[\"commodity_chapter\"] == \"52\"].sort_values(\n",
    "    \"us_dollar\", ascending=False\n",
    ").head(10)"
   ]
  },
  {
   "cell_type": "code",
   "execution_count": null,
   "id": "8535acfa-05cb-4888-924c-416db5b06e1d",
   "metadata": {},
   "outputs": [],
   "source": [
    "xinjiang_exports_types_pivot = (\n",
    "    xinjiang_exports_types.pivot_table(\n",
    "        columns=\"year\", index=\"commodity_chapter_desc\", values=\"us_dollar\"\n",
    "    )\n",
    "    .fillna(0)\n",
    "    .reset_index()\n",
    ")"
   ]
  },
  {
   "cell_type": "code",
   "execution_count": null,
   "id": "344d82f9-9a7a-4583-bacd-aefd40358c45",
   "metadata": {},
   "outputs": [],
   "source": [
    "xinjiang_exports_types_pivot.columns = xinjiang_exports_types_pivot.columns.astype(str)"
   ]
  },
  {
   "cell_type": "code",
   "execution_count": null,
   "id": "8db1caf6-a6e3-4500-bf44-215d83332780",
   "metadata": {},
   "outputs": [],
   "source": [
    "xinjiang_exports_types_pivot[\"2021\"] = xinjiang_exports_types_pivot[\"2021\"].round(0)"
   ]
  },
  {
   "cell_type": "markdown",
   "id": "60533d27-f169-4220-81ee-e8ce391b5b93",
   "metadata": {},
   "source": [
    "xinjiang_exports_types_pivot.sort_values(\"2020\", ascending=False).head(10)"
   ]
  },
  {
   "cell_type": "code",
   "execution_count": null,
   "id": "8a294893-20b2-428b-b98d-a623b038e5cc",
   "metadata": {},
   "outputs": [],
   "source": [
    "xinjiang_exports_types_pivot[\"change\"] = (\n",
    "    xinjiang_exports_types_pivot[\"2021\"] - xinjiang_exports_types_pivot[\"2020\"]\n",
    ") / xinjiang_exports_types_pivot[\"2020\"]"
   ]
  },
  {
   "cell_type": "code",
   "execution_count": null,
   "id": "5223a38f-571b-47be-a61d-83209160265e",
   "metadata": {},
   "outputs": [],
   "source": [
    "xinjiang_exports_types_pivot.sort_values(\"change\", ascending=False).head(10)"
   ]
  },
  {
   "cell_type": "markdown",
   "id": "bb1ae7fa-788a-4848-961b-f73372cc338f",
   "metadata": {},
   "source": [
    "---"
   ]
  },
  {
   "cell_type": "markdown",
   "id": "d08dd076-eea2-4d18-9bff-28ee3ff44957",
   "metadata": {},
   "source": [
    "### Chapter 28 exports"
   ]
  },
  {
   "cell_type": "code",
   "execution_count": null,
   "id": "15fcae6b-177c-4d8d-95c6-6e04dfac5f80",
   "metadata": {},
   "outputs": [],
   "source": [
    "xinjiang_28_exports = (\n",
    "    df[df[\"commodity_chapter\"] == \"28\"]\n",
    "    .groupby([\"commodity_chapter_desc\", \"exported_to\"])\n",
    "    .agg({\"us_dollar\": sum})\n",
    "    .reset_index()\n",
    ")"
   ]
  },
  {
   "cell_type": "code",
   "execution_count": null,
   "id": "af5553e9-6ca7-47e5-9257-dcc62a12a42d",
   "metadata": {},
   "outputs": [],
   "source": [
    "xinjiang_28_exports.sort_values(\"us_dollar\", ascending=False).head(20)"
   ]
  }
 ],
 "metadata": {
  "kernelspec": {
   "display_name": "Python 3 (ipykernel)",
   "language": "python",
   "name": "python3"
  },
  "language_info": {
   "codemirror_mode": {
    "name": "ipython",
    "version": 3
   },
   "file_extension": ".py",
   "mimetype": "text/x-python",
   "name": "python",
   "nbconvert_exporter": "python",
   "pygments_lexer": "ipython3",
   "version": "3.8.9"
  }
 },
 "nbformat": 4,
 "nbformat_minor": 5
}
