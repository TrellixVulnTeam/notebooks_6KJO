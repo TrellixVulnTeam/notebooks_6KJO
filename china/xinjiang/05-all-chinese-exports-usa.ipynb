{
 "cells": [
  {
   "cell_type": "markdown",
   "id": "ca1de40a-2d7d-4119-b8b9-5ed1e9a3e7b3",
   "metadata": {
    "tags": []
   },
   "source": [
    "# XinJiang exports by month and commodity"
   ]
  },
  {
   "cell_type": "markdown",
   "id": "7f12671b-1bda-4caa-817e-567f50b177e9",
   "metadata": {
    "tags": []
   },
   "source": [
    "### Import Python tools and Jupyter configuration"
   ]
  },
  {
   "cell_type": "code",
   "execution_count": 2,
   "id": "835f008f-fe55-4430-a270-6ec35ae84dfc",
   "metadata": {},
   "outputs": [],
   "source": [
    "%load_ext lab_black"
   ]
  },
  {
   "cell_type": "code",
   "execution_count": 16,
   "id": "f4145a4d-23f9-46b4-b4c9-52a3ba2ab2cb",
   "metadata": {},
   "outputs": [],
   "source": [
    "import pandas as pd\n",
    "import geopandas as gpd\n",
    "import altair as alt\n",
    "from datetime import timedelta\n",
    "import numpy as np\n",
    "import glob"
   ]
  },
  {
   "cell_type": "code",
   "execution_count": 17,
   "id": "be03bb9b-f4c5-4d4b-925c-9c4a1f531ac5",
   "metadata": {},
   "outputs": [],
   "source": [
    "pd.options.display.max_columns = 1000\n",
    "pd.options.display.max_rows = 1000\n",
    "pd.options.display.max_colwidth = None"
   ]
  },
  {
   "cell_type": "markdown",
   "id": "80cbf246-2244-4147-9a77-802dbf877ea3",
   "metadata": {},
   "source": [
    "---"
   ]
  },
  {
   "cell_type": "markdown",
   "id": "ae5ade09-1562-40c9-9dc2-f83081d8795f",
   "metadata": {},
   "source": [
    "### Import processed data"
   ]
  },
  {
   "cell_type": "code",
   "execution_count": 43,
   "id": "89ac8095-7480-48ba-ac55-c1c4a49cf837",
   "metadata": {},
   "outputs": [],
   "source": [
    "src = pd.read_csv(\n",
    "    \"../data/raw/China exports to the US 2021 Chinese raw.csv\", encoding=\"GBK\"\n",
    ")"
   ]
  },
  {
   "cell_type": "code",
   "execution_count": 44,
   "id": "c4c19e8d-54f9-4a01-8895-ef67f0833f38",
   "metadata": {},
   "outputs": [],
   "source": [
    "src.columns = (\n",
    "    src.columns.str.replace(r\"\\t\", \"\", regex=True)\n",
    "    .str.replace(\" \", \"_\", regex=False)\n",
    "    .str.lower()\n",
    ")"
   ]
  },
  {
   "cell_type": "code",
   "execution_count": 45,
   "id": "7dbbcc80-c697-41b4-8174-85384254e9ae",
   "metadata": {},
   "outputs": [],
   "source": [
    "src.rename(\n",
    "    columns={\n",
    "        \"数据年月\": \"date_of_data\",\n",
    "        \"商品编码\": \"commodity_code\",\n",
    "        \"商品名称\": \"commodity_name\",\n",
    "        \"贸易伙伴编码\": \"trade_partner_code\",\n",
    "        \"贸易伙伴名称\": \"trade_partner_name\",\n",
    "        \"注册地编码\": \"registration_place_code\",\n",
    "        \"注册地名称\": \"registration_place_name\",\n",
    "        \"第一数量\": \"first_quantity\",\n",
    "        \"第一计量单位\": \"first_unit_of_measure\",\n",
    "        \"第二数量\": \"second_quantity\",\n",
    "        \"第二计量单位\": \"second_unit_of_measure\",\n",
    "        \"美元\": \"us_dollar\",\n",
    "    },\n",
    "    inplace=True,\n",
    ")"
   ]
  },
  {
   "cell_type": "code",
   "execution_count": 46,
   "id": "34001fa2-8053-4e22-95ae-d8a2ecf68571",
   "metadata": {},
   "outputs": [],
   "source": [
    "src = src.replace(r\"\\t\", \"\", regex=True)"
   ]
  },
  {
   "cell_type": "code",
   "execution_count": 53,
   "id": "6d4a678a-68fd-4aa8-ba6c-016a70d55a0f",
   "metadata": {},
   "outputs": [],
   "source": [
    "src[\"us_dollar\"] = src[\"us_dollar\"].str.replace(\",\", \"\", regex=False).astype(int)"
   ]
  },
  {
   "cell_type": "code",
   "execution_count": 49,
   "id": "13cc65e8-9102-4ac9-98bb-b03f9b5d19ed",
   "metadata": {},
   "outputs": [],
   "source": [
    "src.drop([\"unnamed:_5\"], axis=1, inplace=True)"
   ]
  },
  {
   "cell_type": "code",
   "execution_count": 57,
   "id": "d45343c8-5349-4f60-b02d-3fb44a0e1855",
   "metadata": {},
   "outputs": [],
   "source": [
    "df = src.head()"
   ]
  },
  {
   "cell_type": "code",
   "execution_count": 58,
   "id": "871d813f-06bd-459f-b3aa-e3d482143d55",
   "metadata": {},
   "outputs": [
    {
     "data": {
      "text/html": [
       "<div>\n",
       "<style scoped>\n",
       "    .dataframe tbody tr th:only-of-type {\n",
       "        vertical-align: middle;\n",
       "    }\n",
       "\n",
       "    .dataframe tbody tr th {\n",
       "        vertical-align: top;\n",
       "    }\n",
       "\n",
       "    .dataframe thead th {\n",
       "        text-align: right;\n",
       "    }\n",
       "</style>\n",
       "<table border=\"1\" class=\"dataframe\">\n",
       "  <thead>\n",
       "    <tr style=\"text-align: right;\">\n",
       "      <th></th>\n",
       "      <th>trade_partner_code</th>\n",
       "      <th>trade_partner_name</th>\n",
       "      <th>first_quantity</th>\n",
       "      <th>second_quantity</th>\n",
       "      <th>us_dollar</th>\n",
       "    </tr>\n",
       "  </thead>\n",
       "  <tbody>\n",
       "    <tr>\n",
       "      <th>0</th>\n",
       "      <td>502</td>\n",
       "      <td>美国</td>\n",
       "      <td>166955032831</td>\n",
       "      <td>326430267236</td>\n",
       "      <td>576114268480</td>\n",
       "    </tr>\n",
       "  </tbody>\n",
       "</table>\n",
       "</div>"
      ],
      "text/plain": [
       "   trade_partner_code trade_partner_name  first_quantity  second_quantity  \\\n",
       "0                 502                 美国    166955032831     326430267236   \n",
       "\n",
       "      us_dollar  \n",
       "0  576114268480  "
      ]
     },
     "execution_count": 58,
     "metadata": {},
     "output_type": "execute_result"
    }
   ],
   "source": [
    "df.head()"
   ]
  },
  {
   "cell_type": "code",
   "execution_count": 56,
   "id": "968daddd-80ef-4b88-8759-0667b5ad0d72",
   "metadata": {},
   "outputs": [
    {
     "data": {
      "text/plain": [
       "0    0.046026\n",
       "Name: us_dollar, dtype: float64"
      ]
     },
     "execution_count": 56,
     "metadata": {},
     "output_type": "execute_result"
    }
   ],
   "source": [
    "(265163179 / df[\"us_dollar\"]) * 100"
   ]
  },
  {
   "cell_type": "code",
   "execution_count": null,
   "id": "ac4ec811-ef65-463f-a02f-734052994052",
   "metadata": {},
   "outputs": [],
   "source": []
  }
 ],
 "metadata": {
  "kernelspec": {
   "display_name": "Python 3 (ipykernel)",
   "language": "python",
   "name": "python3"
  },
  "language_info": {
   "codemirror_mode": {
    "name": "ipython",
    "version": 3
   },
   "file_extension": ".py",
   "mimetype": "text/x-python",
   "name": "python",
   "nbconvert_exporter": "python",
   "pygments_lexer": "ipython3",
   "version": "3.8.9"
  }
 },
 "nbformat": 4,
 "nbformat_minor": 5
}
