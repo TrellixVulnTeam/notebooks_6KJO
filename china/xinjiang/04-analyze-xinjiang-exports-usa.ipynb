{
 "cells": [
  {
   "cell_type": "markdown",
   "id": "ca1de40a-2d7d-4119-b8b9-5ed1e9a3e7b3",
   "metadata": {
    "tags": []
   },
   "source": [
    "# XinJiang exports by month and commodity"
   ]
  },
  {
   "cell_type": "markdown",
   "id": "7f12671b-1bda-4caa-817e-567f50b177e9",
   "metadata": {
    "tags": []
   },
   "source": [
    "### Import Python tools and Jupyter configuration"
   ]
  },
  {
   "cell_type": "code",
   "execution_count": 14,
   "id": "835f008f-fe55-4430-a270-6ec35ae84dfc",
   "metadata": {},
   "outputs": [
    {
     "name": "stdout",
     "output_type": "stream",
     "text": [
      "The lab_black extension is already loaded. To reload it, use:\n",
      "  %reload_ext lab_black\n"
     ]
    }
   ],
   "source": [
    "%load_ext lab_black"
   ]
  },
  {
   "cell_type": "code",
   "execution_count": 15,
   "id": "f4145a4d-23f9-46b4-b4c9-52a3ba2ab2cb",
   "metadata": {},
   "outputs": [],
   "source": [
    "import pandas as pd\n",
    "import geopandas as gpd\n",
    "import altair as alt\n",
    "from datetime import timedelta\n",
    "import numpy as np\n",
    "import glob"
   ]
  },
  {
   "cell_type": "code",
   "execution_count": 16,
   "id": "be03bb9b-f4c5-4d4b-925c-9c4a1f531ac5",
   "metadata": {},
   "outputs": [],
   "source": [
    "pd.options.display.max_columns = 1000\n",
    "pd.options.display.max_rows = 1000\n",
    "pd.options.display.max_colwidth = None"
   ]
  },
  {
   "cell_type": "markdown",
   "id": "80cbf246-2244-4147-9a77-802dbf877ea3",
   "metadata": {},
   "source": [
    "---"
   ]
  },
  {
   "cell_type": "markdown",
   "id": "ae5ade09-1562-40c9-9dc2-f83081d8795f",
   "metadata": {},
   "source": [
    "### Import processed data"
   ]
  },
  {
   "cell_type": "code",
   "execution_count": 17,
   "id": "89ac8095-7480-48ba-ac55-c1c4a49cf837",
   "metadata": {},
   "outputs": [],
   "source": [
    "df = pd.read_csv(\n",
    "    \"../data/processed/xinjiang_exports_usa_monthly.csv\",\n",
    "    dtype={\"commodity_chapter\": str},\n",
    ")"
   ]
  },
  {
   "cell_type": "code",
   "execution_count": 58,
   "id": "5e6efb21-cada-4b72-845e-26be0bc21fee",
   "metadata": {},
   "outputs": [
    {
     "data": {
      "text/html": [
       "<div>\n",
       "<style scoped>\n",
       "    .dataframe tbody tr th:only-of-type {\n",
       "        vertical-align: middle;\n",
       "    }\n",
       "\n",
       "    .dataframe tbody tr th {\n",
       "        vertical-align: top;\n",
       "    }\n",
       "\n",
       "    .dataframe thead th {\n",
       "        text-align: right;\n",
       "    }\n",
       "</style>\n",
       "<table border=\"1\" class=\"dataframe\">\n",
       "  <thead>\n",
       "    <tr style=\"text-align: right;\">\n",
       "      <th></th>\n",
       "      <th>year</th>\n",
       "      <th>month</th>\n",
       "      <th>commodity_code</th>\n",
       "      <th>commodity_chapter</th>\n",
       "      <th>commodity_chapter_desc</th>\n",
       "      <th>commodity_chapter_four</th>\n",
       "      <th>commodity_chapter_four_desc</th>\n",
       "      <th>first_unit_of_measure</th>\n",
       "      <th>second_quantity</th>\n",
       "      <th>second_unit_of_measure</th>\n",
       "      <th>us_dollar</th>\n",
       "    </tr>\n",
       "  </thead>\n",
       "  <tbody>\n",
       "    <tr>\n",
       "      <th>0</th>\n",
       "      <td>2021</td>\n",
       "      <td>12</td>\n",
       "      <td>9042200</td>\n",
       "      <td>09</td>\n",
       "      <td>Coffee, tea, mate and spices</td>\n",
       "      <td>904</td>\n",
       "      <td>Pepper of the genus piper; dried or crushed or ground fruits of the genus capsicum or of the genus pimenta</td>\n",
       "      <td>千克</td>\n",
       "      <td>0</td>\n",
       "      <td>?</td>\n",
       "      <td>231210</td>\n",
       "    </tr>\n",
       "    <tr>\n",
       "      <th>1</th>\n",
       "      <td>2021</td>\n",
       "      <td>12</td>\n",
       "      <td>20079910</td>\n",
       "      <td>20</td>\n",
       "      <td>Preparations of vegetables, fruit, nuts or other parts of plants</td>\n",
       "      <td>2007</td>\n",
       "      <td>Jams, fruit jellies, marmalades, fruit or nut puree and fruit or nut pastes, being cooked preparations; whether or not containing added sugar or other sweetening matter</td>\n",
       "      <td>千克</td>\n",
       "      <td>0</td>\n",
       "      <td>?</td>\n",
       "      <td>374682</td>\n",
       "    </tr>\n",
       "    <tr>\n",
       "      <th>2</th>\n",
       "      <td>2021</td>\n",
       "      <td>12</td>\n",
       "      <td>21069090</td>\n",
       "      <td>21</td>\n",
       "      <td>Miscellaneous edible preparations</td>\n",
       "      <td>2106</td>\n",
       "      <td>Food preparations not elsewhere specified or included</td>\n",
       "      <td>千克</td>\n",
       "      <td>0</td>\n",
       "      <td>?</td>\n",
       "      <td>576188</td>\n",
       "    </tr>\n",
       "    <tr>\n",
       "      <th>3</th>\n",
       "      <td>2021</td>\n",
       "      <td>12</td>\n",
       "      <td>25301020</td>\n",
       "      <td>25</td>\n",
       "      <td>Salt; sulphur; earths, stone; plastering materials, lime and cement</td>\n",
       "      <td>2530</td>\n",
       "      <td>Mineral substances not elsewhere specified or included</td>\n",
       "      <td>千克</td>\n",
       "      <td>0</td>\n",
       "      <td>?</td>\n",
       "      <td>638100</td>\n",
       "    </tr>\n",
       "    <tr>\n",
       "      <th>4</th>\n",
       "      <td>2021</td>\n",
       "      <td>12</td>\n",
       "      <td>28271090</td>\n",
       "      <td>28</td>\n",
       "      <td>Inorganic chemicals; organic and inorganic compounds of precious metals; of rare earth metals, of radio-active elements and of isotopes</td>\n",
       "      <td>2827</td>\n",
       "      <td>Chlorides; chloride oxides and chloride hydroxides; bromides and bromide oxides; iodides and iodide oxides</td>\n",
       "      <td>千克</td>\n",
       "      <td>0</td>\n",
       "      <td>?</td>\n",
       "      <td>11600</td>\n",
       "    </tr>\n",
       "  </tbody>\n",
       "</table>\n",
       "</div>"
      ],
      "text/plain": [
       "   year  month  commodity_code commodity_chapter  \\\n",
       "0  2021     12         9042200                09   \n",
       "1  2021     12        20079910                20   \n",
       "2  2021     12        21069090                21   \n",
       "3  2021     12        25301020                25   \n",
       "4  2021     12        28271090                28   \n",
       "\n",
       "                                                                                                                    commodity_chapter_desc  \\\n",
       "0                                                                                                             Coffee, tea, mate and spices   \n",
       "1                                                                         Preparations of vegetables, fruit, nuts or other parts of plants   \n",
       "2                                                                                                        Miscellaneous edible preparations   \n",
       "3                                                                      Salt; sulphur; earths, stone; plastering materials, lime and cement   \n",
       "4  Inorganic chemicals; organic and inorganic compounds of precious metals; of rare earth metals, of radio-active elements and of isotopes   \n",
       "\n",
       "   commodity_chapter_four  \\\n",
       "0                     904   \n",
       "1                    2007   \n",
       "2                    2106   \n",
       "3                    2530   \n",
       "4                    2827   \n",
       "\n",
       "                                                                                                                                                commodity_chapter_four_desc  \\\n",
       "0                                                                Pepper of the genus piper; dried or crushed or ground fruits of the genus capsicum or of the genus pimenta   \n",
       "1  Jams, fruit jellies, marmalades, fruit or nut puree and fruit or nut pastes, being cooked preparations; whether or not containing added sugar or other sweetening matter   \n",
       "2                                                                                                                     Food preparations not elsewhere specified or included   \n",
       "3                                                                                                                    Mineral substances not elsewhere specified or included   \n",
       "4                                                                Chlorides; chloride oxides and chloride hydroxides; bromides and bromide oxides; iodides and iodide oxides   \n",
       "\n",
       "  first_unit_of_measure  second_quantity second_unit_of_measure  us_dollar  \n",
       "0                    千克                0                      ?     231210  \n",
       "1                    千克                0                      ?     374682  \n",
       "2                    千克                0                      ?     576188  \n",
       "3                    千克                0                      ?     638100  \n",
       "4                    千克                0                      ?      11600  "
      ]
     },
     "execution_count": 58,
     "metadata": {},
     "output_type": "execute_result"
    }
   ],
   "source": [
    "df.head()"
   ]
  },
  {
   "cell_type": "markdown",
   "id": "509cfa5b-3720-41cc-93e1-e9996438d248",
   "metadata": {},
   "source": [
    "---"
   ]
  },
  {
   "cell_type": "code",
   "execution_count": 64,
   "id": "903bd347-c234-451e-b6d5-333a20b4851f",
   "metadata": {},
   "outputs": [],
   "source": [
    "df_grp_years = (\n",
    "    df[df[\"commodity_code\"].astype(str).str.contains(\"2804\")]\n",
    "    .groupby([\"year\", \"commodity_chapter_four_desc\"])\n",
    "    .agg({\"us_dollar\": sum})\n",
    "    .reset_index()\n",
    "    .sort_values(\"us_dollar\", ascending=False)\n",
    ").reset_index(drop=True)"
   ]
  },
  {
   "cell_type": "code",
   "execution_count": 65,
   "id": "91ff3825-3556-473e-8edd-fe0c05424218",
   "metadata": {},
   "outputs": [
    {
     "data": {
      "text/html": [
       "<div>\n",
       "<style scoped>\n",
       "    .dataframe tbody tr th:only-of-type {\n",
       "        vertical-align: middle;\n",
       "    }\n",
       "\n",
       "    .dataframe tbody tr th {\n",
       "        vertical-align: top;\n",
       "    }\n",
       "\n",
       "    .dataframe thead th {\n",
       "        text-align: right;\n",
       "    }\n",
       "</style>\n",
       "<table border=\"1\" class=\"dataframe\">\n",
       "  <thead>\n",
       "    <tr style=\"text-align: right;\">\n",
       "      <th></th>\n",
       "      <th>year</th>\n",
       "      <th>commodity_chapter_four_desc</th>\n",
       "      <th>us_dollar</th>\n",
       "    </tr>\n",
       "  </thead>\n",
       "  <tbody>\n",
       "  </tbody>\n",
       "</table>\n",
       "</div>"
      ],
      "text/plain": [
       "Empty DataFrame\n",
       "Columns: [year, commodity_chapter_four_desc, us_dollar]\n",
       "Index: []"
      ]
     },
     "execution_count": 65,
     "metadata": {},
     "output_type": "execute_result"
    }
   ],
   "source": [
    "df_grp_years.sort_values(\"year\")"
   ]
  },
  {
   "cell_type": "code",
   "execution_count": 28,
   "id": "414dc951-cf49-45d7-8eec-2055b37f1cca",
   "metadata": {},
   "outputs": [
    {
     "data": {
      "text/html": [
       "\n",
       "<div id=\"altair-viz-bcd7712c77334ef182654ea1c7c5796e\"></div>\n",
       "<script type=\"text/javascript\">\n",
       "  var VEGA_DEBUG = (typeof VEGA_DEBUG == \"undefined\") ? {} : VEGA_DEBUG;\n",
       "  (function(spec, embedOpt){\n",
       "    let outputDiv = document.currentScript.previousElementSibling;\n",
       "    if (outputDiv.id !== \"altair-viz-bcd7712c77334ef182654ea1c7c5796e\") {\n",
       "      outputDiv = document.getElementById(\"altair-viz-bcd7712c77334ef182654ea1c7c5796e\");\n",
       "    }\n",
       "    const paths = {\n",
       "      \"vega\": \"https://cdn.jsdelivr.net/npm//vega@5?noext\",\n",
       "      \"vega-lib\": \"https://cdn.jsdelivr.net/npm//vega-lib?noext\",\n",
       "      \"vega-lite\": \"https://cdn.jsdelivr.net/npm//vega-lite@4.17.0?noext\",\n",
       "      \"vega-embed\": \"https://cdn.jsdelivr.net/npm//vega-embed@6?noext\",\n",
       "    };\n",
       "\n",
       "    function maybeLoadScript(lib, version) {\n",
       "      var key = `${lib.replace(\"-\", \"\")}_version`;\n",
       "      return (VEGA_DEBUG[key] == version) ?\n",
       "        Promise.resolve(paths[lib]) :\n",
       "        new Promise(function(resolve, reject) {\n",
       "          var s = document.createElement('script');\n",
       "          document.getElementsByTagName(\"head\")[0].appendChild(s);\n",
       "          s.async = true;\n",
       "          s.onload = () => {\n",
       "            VEGA_DEBUG[key] = version;\n",
       "            return resolve(paths[lib]);\n",
       "          };\n",
       "          s.onerror = () => reject(`Error loading script: ${paths[lib]}`);\n",
       "          s.src = paths[lib];\n",
       "        });\n",
       "    }\n",
       "\n",
       "    function showError(err) {\n",
       "      outputDiv.innerHTML = `<div class=\"error\" style=\"color:red;\">${err}</div>`;\n",
       "      throw err;\n",
       "    }\n",
       "\n",
       "    function displayChart(vegaEmbed) {\n",
       "      vegaEmbed(outputDiv, spec, embedOpt)\n",
       "        .catch(err => showError(`Javascript Error: ${err.message}<br>This usually means there's a typo in your chart specification. See the javascript console for the full traceback.`));\n",
       "    }\n",
       "\n",
       "    if(typeof define === \"function\" && define.amd) {\n",
       "      requirejs.config({paths});\n",
       "      require([\"vega-embed\"], displayChart, err => showError(`Error loading script: ${err.message}`));\n",
       "    } else {\n",
       "      maybeLoadScript(\"vega\", \"5\")\n",
       "        .then(() => maybeLoadScript(\"vega-lite\", \"4.17.0\"))\n",
       "        .then(() => maybeLoadScript(\"vega-embed\", \"6\"))\n",
       "        .catch(showError)\n",
       "        .then(() => displayChart(vegaEmbed));\n",
       "    }\n",
       "  })({\"config\": {\"view\": {\"continuousWidth\": 400, \"continuousHeight\": 300}}, \"data\": {\"name\": \"data-56ae7156f9ec79d4332e568885ccf8fe\"}, \"mark\": \"bar\", \"encoding\": {\"x\": {\"field\": \"us_dollar\", \"type\": \"quantitative\"}, \"y\": {\"field\": \"year\", \"type\": \"ordinal\"}}, \"width\": 200, \"$schema\": \"https://vega.github.io/schema/vega-lite/v4.17.0.json\", \"datasets\": {\"data-56ae7156f9ec79d4332e568885ccf8fe\": [{\"year\": 2020, \"us_dollar\": 653298240}, {\"year\": 2018, \"us_dollar\": 576200872}, {\"year\": 2017, \"us_dollar\": 304492456}, {\"year\": 2019, \"us_dollar\": 302390960}, {\"year\": 2021, \"us_dollar\": 265163179}]}}, {\"mode\": \"vega-lite\"});\n",
       "</script>"
      ],
      "text/plain": [
       "alt.Chart(...)"
      ]
     },
     "execution_count": 28,
     "metadata": {},
     "output_type": "execute_result"
    }
   ],
   "source": [
    "alt.Chart(df_grp_years).mark_bar().encode(y=\"year:O\", x=\"us_dollar\").properties(\n",
    "    width=200\n",
    ")"
   ]
  },
  {
   "cell_type": "markdown",
   "id": "e7671168-b246-4ad5-ab85-19848ce9ea34",
   "metadata": {},
   "source": [
    "### Group at the four-digit commodity level"
   ]
  },
  {
   "cell_type": "code",
   "execution_count": 23,
   "id": "d2c48796-786e-4d2b-b71a-71547a4c4f20",
   "metadata": {},
   "outputs": [],
   "source": [
    "df_grp_chapters = (\n",
    "    df.groupby([\"commodity_chapter_four\", \"commodity_chapter_four_desc\"])\n",
    "    .agg({\"us_dollar\": sum})\n",
    "    .reset_index()\n",
    "    .sort_values(\"us_dollar\", ascending=False)\n",
    ").reset_index(drop=True)"
   ]
  },
  {
   "cell_type": "code",
   "execution_count": 63,
   "id": "b1641a74-7075-40e9-9122-a4d1aaf21f3c",
   "metadata": {},
   "outputs": [
    {
     "data": {
      "text/html": [
       "<div>\n",
       "<style scoped>\n",
       "    .dataframe tbody tr th:only-of-type {\n",
       "        vertical-align: middle;\n",
       "    }\n",
       "\n",
       "    .dataframe tbody tr th {\n",
       "        vertical-align: top;\n",
       "    }\n",
       "\n",
       "    .dataframe thead th {\n",
       "        text-align: right;\n",
       "    }\n",
       "</style>\n",
       "<table border=\"1\" class=\"dataframe\">\n",
       "  <thead>\n",
       "    <tr style=\"text-align: right;\">\n",
       "      <th></th>\n",
       "      <th>commodity_chapter_four</th>\n",
       "      <th>commodity_chapter_four_desc</th>\n",
       "      <th>us_dollar</th>\n",
       "    </tr>\n",
       "  </thead>\n",
       "  <tbody>\n",
       "    <tr>\n",
       "      <th>0</th>\n",
       "      <td>8502</td>\n",
       "      <td>Electric generating sets and rotary converters</td>\n",
       "      <td>204373360</td>\n",
       "    </tr>\n",
       "    <tr>\n",
       "      <th>1</th>\n",
       "      <td>9405</td>\n",
       "      <td>Lamps, light fittings; including searchlights, spotlights and parts thereof, n.e.c.; illuminated signs, name-plates and the like, having permanently fixed light source and parts thereof n.e.c. or included</td>\n",
       "      <td>137988313</td>\n",
       "    </tr>\n",
       "    <tr>\n",
       "      <th>2</th>\n",
       "      <td>9503</td>\n",
       "      <td>Tricycles, scooters, pedal cars and similar wheeled toys; dolls' carriages; dolls; other toys; reduced-size (scale) models and similar recreational models, working or not; puzzles of all kinds</td>\n",
       "      <td>101435750</td>\n",
       "    </tr>\n",
       "    <tr>\n",
       "      <th>3</th>\n",
       "      <td>2917</td>\n",
       "      <td>Acids; polycarboxylic acids, their anhydrides, halides, peroxides and peroxy-acids; their halogenated, sulphonated, nitrated or nitrosated derivatives</td>\n",
       "      <td>75389785</td>\n",
       "    </tr>\n",
       "    <tr>\n",
       "      <th>4</th>\n",
       "      <td>3913</td>\n",
       "      <td>Natural polymers (e.g. alginic acid) and modified natural polymers (e.g. hardened proteins, chemical derivatives of natural rubber), n.e.c. or included, in primary forms</td>\n",
       "      <td>73173664</td>\n",
       "    </tr>\n",
       "  </tbody>\n",
       "</table>\n",
       "</div>"
      ],
      "text/plain": [
       "   commodity_chapter_four  \\\n",
       "0                    8502   \n",
       "1                    9405   \n",
       "2                    9503   \n",
       "3                    2917   \n",
       "4                    3913   \n",
       "\n",
       "                                                                                                                                                                                    commodity_chapter_four_desc  \\\n",
       "0                                                                                                                                                                Electric generating sets and rotary converters   \n",
       "1  Lamps, light fittings; including searchlights, spotlights and parts thereof, n.e.c.; illuminated signs, name-plates and the like, having permanently fixed light source and parts thereof n.e.c. or included   \n",
       "2              Tricycles, scooters, pedal cars and similar wheeled toys; dolls' carriages; dolls; other toys; reduced-size (scale) models and similar recreational models, working or not; puzzles of all kinds   \n",
       "3                                                        Acids; polycarboxylic acids, their anhydrides, halides, peroxides and peroxy-acids; their halogenated, sulphonated, nitrated or nitrosated derivatives   \n",
       "4                                     Natural polymers (e.g. alginic acid) and modified natural polymers (e.g. hardened proteins, chemical derivatives of natural rubber), n.e.c. or included, in primary forms   \n",
       "\n",
       "   us_dollar  \n",
       "0  204373360  \n",
       "1  137988313  \n",
       "2  101435750  \n",
       "3   75389785  \n",
       "4   73173664  "
      ]
     },
     "execution_count": 63,
     "metadata": {},
     "output_type": "execute_result"
    }
   ],
   "source": [
    "df_grp_chapters.head()"
   ]
  },
  {
   "cell_type": "code",
   "execution_count": null,
   "id": "855c8ec8-c7ea-4b17-a3ab-a92b9e3c014d",
   "metadata": {},
   "outputs": [],
   "source": []
  }
 ],
 "metadata": {
  "kernelspec": {
   "display_name": "Python 3 (ipykernel)",
   "language": "python",
   "name": "python3"
  },
  "language_info": {
   "codemirror_mode": {
    "name": "ipython",
    "version": 3
   },
   "file_extension": ".py",
   "mimetype": "text/x-python",
   "name": "python",
   "nbconvert_exporter": "python",
   "pygments_lexer": "ipython3",
   "version": "3.8.9"
  }
 },
 "nbformat": 4,
 "nbformat_minor": 5
}
