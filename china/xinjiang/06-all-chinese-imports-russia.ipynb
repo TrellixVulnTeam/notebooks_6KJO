{
 "cells": [
  {
   "cell_type": "markdown",
   "id": "ca1de40a-2d7d-4119-b8b9-5ed1e9a3e7b3",
   "metadata": {
    "tags": []
   },
   "source": [
    "# China imports from Russia by commodity"
   ]
  },
  {
   "cell_type": "markdown",
   "id": "7f12671b-1bda-4caa-817e-567f50b177e9",
   "metadata": {
    "tags": []
   },
   "source": [
    "### Import Python tools and Jupyter configuration"
   ]
  },
  {
   "cell_type": "code",
   "execution_count": 1,
   "id": "835f008f-fe55-4430-a270-6ec35ae84dfc",
   "metadata": {},
   "outputs": [],
   "source": [
    "%load_ext lab_black"
   ]
  },
  {
   "cell_type": "code",
   "execution_count": 2,
   "id": "f4145a4d-23f9-46b4-b4c9-52a3ba2ab2cb",
   "metadata": {},
   "outputs": [],
   "source": [
    "import pandas as pd\n",
    "import geopandas as gpd\n",
    "import altair as alt\n",
    "from datetime import timedelta\n",
    "import numpy as np\n",
    "import glob"
   ]
  },
  {
   "cell_type": "code",
   "execution_count": 3,
   "id": "be03bb9b-f4c5-4d4b-925c-9c4a1f531ac5",
   "metadata": {},
   "outputs": [],
   "source": [
    "pd.options.display.max_columns = 1000\n",
    "pd.options.display.max_rows = 1000\n",
    "pd.options.display.max_colwidth = None"
   ]
  },
  {
   "cell_type": "markdown",
   "id": "80cbf246-2244-4147-9a77-802dbf877ea3",
   "metadata": {},
   "source": [
    "---"
   ]
  },
  {
   "cell_type": "markdown",
   "id": "76ff83d9-8495-479d-8269-6dd4fb071197",
   "metadata": {},
   "source": [
    "### Get commodity codes lookup"
   ]
  },
  {
   "cell_type": "code",
   "execution_count": 4,
   "id": "65ece739-595d-415e-bc5f-80b9f32a23db",
   "metadata": {},
   "outputs": [],
   "source": [
    "code_src = pd.read_csv(\n",
    "    \"https://raw.githubusercontent.com/datasets/harmonized-system/master/data/harmonized-system.csv\",\n",
    "    dtype={\"level\": str},\n",
    ")"
   ]
  },
  {
   "cell_type": "code",
   "execution_count": 5,
   "id": "22ba030a-8855-4d39-b589-d82e6269bfec",
   "metadata": {},
   "outputs": [],
   "source": [
    "code_df = code_src[(code_src[\"parent\"] == \"TOTAL\") | (code_src[\"level\"] == \"4\")][\n",
    "    [\"hscode\", \"description\", \"level\"]\n",
    "]"
   ]
  },
  {
   "cell_type": "code",
   "execution_count": 6,
   "id": "2d286da6-dfa1-4a33-821b-de0c3bcec8f9",
   "metadata": {},
   "outputs": [],
   "source": [
    "code_df.rename(columns={\"hscode\": \"code\"}, inplace=True)"
   ]
  },
  {
   "cell_type": "code",
   "execution_count": 7,
   "id": "3aee6094-d5f0-4e15-bfa4-c76711507ec9",
   "metadata": {},
   "outputs": [
    {
     "data": {
      "text/html": [
       "<div>\n",
       "<style scoped>\n",
       "    .dataframe tbody tr th:only-of-type {\n",
       "        vertical-align: middle;\n",
       "    }\n",
       "\n",
       "    .dataframe tbody tr th {\n",
       "        vertical-align: top;\n",
       "    }\n",
       "\n",
       "    .dataframe thead th {\n",
       "        text-align: right;\n",
       "    }\n",
       "</style>\n",
       "<table border=\"1\" class=\"dataframe\">\n",
       "  <thead>\n",
       "    <tr style=\"text-align: right;\">\n",
       "      <th></th>\n",
       "      <th>code</th>\n",
       "      <th>description</th>\n",
       "      <th>level</th>\n",
       "    </tr>\n",
       "  </thead>\n",
       "  <tbody>\n",
       "    <tr>\n",
       "      <th>0</th>\n",
       "      <td>01</td>\n",
       "      <td>Animals; live</td>\n",
       "      <td>2</td>\n",
       "    </tr>\n",
       "    <tr>\n",
       "      <th>1</th>\n",
       "      <td>0101</td>\n",
       "      <td>Horses, asses, mules and hinnies; live</td>\n",
       "      <td>4</td>\n",
       "    </tr>\n",
       "    <tr>\n",
       "      <th>6</th>\n",
       "      <td>0102</td>\n",
       "      <td>Bovine animals; live</td>\n",
       "      <td>4</td>\n",
       "    </tr>\n",
       "    <tr>\n",
       "      <th>12</th>\n",
       "      <td>0103</td>\n",
       "      <td>Swine; live</td>\n",
       "      <td>4</td>\n",
       "    </tr>\n",
       "    <tr>\n",
       "      <th>16</th>\n",
       "      <td>0104</td>\n",
       "      <td>Sheep and goats; live</td>\n",
       "      <td>4</td>\n",
       "    </tr>\n",
       "  </tbody>\n",
       "</table>\n",
       "</div>"
      ],
      "text/plain": [
       "    code                             description level\n",
       "0     01                           Animals; live     2\n",
       "1   0101  Horses, asses, mules and hinnies; live     4\n",
       "6   0102                    Bovine animals; live     4\n",
       "12  0103                             Swine; live     4\n",
       "16  0104                   Sheep and goats; live     4"
      ]
     },
     "execution_count": 7,
     "metadata": {},
     "output_type": "execute_result"
    }
   ],
   "source": [
    "code_df.head()"
   ]
  },
  {
   "cell_type": "markdown",
   "id": "24afb97e-21b3-46aa-8af5-710a8518ab95",
   "metadata": {},
   "source": [
    "---"
   ]
  },
  {
   "cell_type": "markdown",
   "id": "f7e5ec21-24e3-401c-96ce-fcac4de98e62",
   "metadata": {},
   "source": [
    "### Get country codes"
   ]
  },
  {
   "cell_type": "code",
   "execution_count": 8,
   "id": "8462f228-503b-409b-af4a-7371758a7311",
   "metadata": {},
   "outputs": [],
   "source": [
    "countries = pd.read_csv(\"../data/raw/TradingPartner.csv\", encoding=\"GBK\")"
   ]
  },
  {
   "cell_type": "code",
   "execution_count": 9,
   "id": "3a0aff99-3583-4540-b9c9-f29f583c5477",
   "metadata": {},
   "outputs": [],
   "source": [
    "countries.rename(\n",
    "    columns={\n",
    "        \"CODES\": \"trade_partner_code\",\n",
    "        \"DESCRIPTION\": \"trade_partner_name\",\n",
    "    },\n",
    "    inplace=True,\n",
    ")"
   ]
  },
  {
   "cell_type": "markdown",
   "id": "e05d16a5-fbb4-44b2-affc-f2dd0a391ba8",
   "metadata": {},
   "source": [
    "### Get exporting provinces"
   ]
  },
  {
   "cell_type": "code",
   "execution_count": 10,
   "id": "88c36619-f15d-4ad3-bef3-91bbdf87a21b",
   "metadata": {},
   "outputs": [],
   "source": [
    "places = pd.read_csv(\"../data/raw/TradeCoPort.csv\", encoding=\"GBK\")"
   ]
  },
  {
   "cell_type": "code",
   "execution_count": 11,
   "id": "bd257aff-4841-4e79-b8da-7cbfedd894e7",
   "metadata": {},
   "outputs": [],
   "source": [
    "places.rename(\n",
    "    columns={\n",
    "        \"CODE\": \"registration_place_code\",\n",
    "        \"DESCRIPTION\": \"registration_place_name\",\n",
    "    },\n",
    "    inplace=True,\n",
    ")"
   ]
  },
  {
   "cell_type": "markdown",
   "id": "ce424d10-d5b8-425c-9528-43208a406131",
   "metadata": {},
   "source": [
    "---"
   ]
  },
  {
   "cell_type": "markdown",
   "id": "ae5ade09-1562-40c9-9dc2-f83081d8795f",
   "metadata": {},
   "source": [
    "### Import processed data"
   ]
  },
  {
   "cell_type": "code",
   "execution_count": 12,
   "id": "89ac8095-7480-48ba-ac55-c1c4a49cf837",
   "metadata": {},
   "outputs": [],
   "source": [
    "src = pd.read_csv(\"../data/raw/China imports from Russia 2021.csv\", encoding=\"GBK\")"
   ]
  },
  {
   "cell_type": "code",
   "execution_count": 13,
   "id": "c4c19e8d-54f9-4a01-8895-ef67f0833f38",
   "metadata": {},
   "outputs": [],
   "source": [
    "src.columns = (\n",
    "    src.columns.str.replace(r\"\\t\", \"\", regex=True)\n",
    "    .str.replace(\" \", \"_\", regex=False)\n",
    "    .str.lower()\n",
    ")"
   ]
  },
  {
   "cell_type": "code",
   "execution_count": 14,
   "id": "9c50a035-a872-4c0c-9959-bc22c91286a7",
   "metadata": {},
   "outputs": [],
   "source": [
    "src.rename(\n",
    "    columns={\n",
    "        \"数据年月\": \"date_of_data\",\n",
    "        \"商品编码\": \"commodity_code\",\n",
    "        \"商品名称\": \"commodity_name\",\n",
    "        \"贸易伙伴编码\": \"trade_partner_code\",\n",
    "        \"贸易伙伴名称\": \"trade_partner_name\",\n",
    "        \"第一数量\": \"first_quantity\",\n",
    "        \"第一计量单位\": \"first_unit_of_measure\",\n",
    "        \"第二数量\": \"second_quantity\",\n",
    "        \"第二计量单位\": \"second_unit_of_measure\",\n",
    "        \"美元\": \"us_dollar\",\n",
    "    },\n",
    "    inplace=True,\n",
    ")"
   ]
  },
  {
   "cell_type": "code",
   "execution_count": 15,
   "id": "34001fa2-8053-4e22-95ae-d8a2ecf68571",
   "metadata": {},
   "outputs": [],
   "source": [
    "src = src.replace(r\"\\t\", \"\", regex=True)"
   ]
  },
  {
   "cell_type": "code",
   "execution_count": 16,
   "id": "3eb2551f-cfd9-4444-8dd6-f18c925b9e2c",
   "metadata": {},
   "outputs": [],
   "source": [
    "src[\"us_dollar\"] = src[\"us_dollar\"].str.replace(\",\", \"\", regex=False).astype(int)"
   ]
  },
  {
   "cell_type": "code",
   "execution_count": 17,
   "id": "7b6bbff0-0bab-428e-b467-61d4ceb2417b",
   "metadata": {},
   "outputs": [],
   "source": [
    "src[\"commodity_code\"] = src[\"commodity_code\"].astype(str)"
   ]
  },
  {
   "cell_type": "code",
   "execution_count": 18,
   "id": "13cc65e8-9102-4ac9-98bb-b03f9b5d19ed",
   "metadata": {},
   "outputs": [],
   "source": [
    "src.drop([\"unnamed:_9\"], axis=1, inplace=True)"
   ]
  },
  {
   "cell_type": "code",
   "execution_count": 19,
   "id": "d45343c8-5349-4f60-b02d-3fb44a0e1855",
   "metadata": {},
   "outputs": [],
   "source": [
    "df = src.copy()"
   ]
  },
  {
   "cell_type": "code",
   "execution_count": 20,
   "id": "bd2fdf6a-54e3-496a-9493-b59f841276e5",
   "metadata": {},
   "outputs": [
    {
     "data": {
      "text/html": [
       "<div>\n",
       "<style scoped>\n",
       "    .dataframe tbody tr th:only-of-type {\n",
       "        vertical-align: middle;\n",
       "    }\n",
       "\n",
       "    .dataframe tbody tr th {\n",
       "        vertical-align: top;\n",
       "    }\n",
       "\n",
       "    .dataframe thead th {\n",
       "        text-align: right;\n",
       "    }\n",
       "</style>\n",
       "<table border=\"1\" class=\"dataframe\">\n",
       "  <thead>\n",
       "    <tr style=\"text-align: right;\">\n",
       "      <th></th>\n",
       "      <th>trade_partner_code</th>\n",
       "      <th>trade_partner_name</th>\n",
       "      <th>commodity_code</th>\n",
       "      <th>commodity_name</th>\n",
       "      <th>first_quantity</th>\n",
       "      <th>first_unit_of_measure</th>\n",
       "      <th>second_quantity</th>\n",
       "      <th>second_unit_of_measure</th>\n",
       "      <th>us_dollar</th>\n",
       "    </tr>\n",
       "  </thead>\n",
       "  <tbody>\n",
       "    <tr>\n",
       "      <th>0</th>\n",
       "      <td>344</td>\n",
       "      <td>俄罗斯联邦</td>\n",
       "      <td>2012000</td>\n",
       "      <td>鲜或冷的带骨牛肉</td>\n",
       "      <td>4809</td>\n",
       "      <td>千克</td>\n",
       "      <td>0</td>\n",
       "      <td>?</td>\n",
       "      <td>100126</td>\n",
       "    </tr>\n",
       "    <tr>\n",
       "      <th>1</th>\n",
       "      <td>344</td>\n",
       "      <td>俄罗斯联邦</td>\n",
       "      <td>2013000</td>\n",
       "      <td>鲜或冷的去骨牛肉</td>\n",
       "      <td>224722</td>\n",
       "      <td>千克</td>\n",
       "      <td>0</td>\n",
       "      <td>?</td>\n",
       "      <td>3407709</td>\n",
       "    </tr>\n",
       "    <tr>\n",
       "      <th>2</th>\n",
       "      <td>344</td>\n",
       "      <td>俄罗斯联邦</td>\n",
       "      <td>2022000</td>\n",
       "      <td>冻带骨牛肉</td>\n",
       "      <td>4744699</td>\n",
       "      <td>千克</td>\n",
       "      <td>0</td>\n",
       "      <td>?</td>\n",
       "      <td>15902831</td>\n",
       "    </tr>\n",
       "    <tr>\n",
       "      <th>3</th>\n",
       "      <td>344</td>\n",
       "      <td>俄罗斯联邦</td>\n",
       "      <td>2023000</td>\n",
       "      <td>冻去骨牛肉</td>\n",
       "      <td>14829654</td>\n",
       "      <td>千克</td>\n",
       "      <td>0</td>\n",
       "      <td>?</td>\n",
       "      <td>120082914</td>\n",
       "    </tr>\n",
       "    <tr>\n",
       "      <th>4</th>\n",
       "      <td>344</td>\n",
       "      <td>俄罗斯联邦</td>\n",
       "      <td>2062900</td>\n",
       "      <td>其他冻牛杂碎</td>\n",
       "      <td>189244</td>\n",
       "      <td>千克</td>\n",
       "      <td>0</td>\n",
       "      <td>?</td>\n",
       "      <td>636385</td>\n",
       "    </tr>\n",
       "  </tbody>\n",
       "</table>\n",
       "</div>"
      ],
      "text/plain": [
       "   trade_partner_code trade_partner_name commodity_code commodity_name  \\\n",
       "0                 344              俄罗斯联邦        2012000       鲜或冷的带骨牛肉   \n",
       "1                 344              俄罗斯联邦        2013000       鲜或冷的去骨牛肉   \n",
       "2                 344              俄罗斯联邦        2022000          冻带骨牛肉   \n",
       "3                 344              俄罗斯联邦        2023000          冻去骨牛肉   \n",
       "4                 344              俄罗斯联邦        2062900         其他冻牛杂碎   \n",
       "\n",
       "   first_quantity first_unit_of_measure  second_quantity  \\\n",
       "0            4809                    千克                0   \n",
       "1          224722                    千克                0   \n",
       "2         4744699                    千克                0   \n",
       "3        14829654                    千克                0   \n",
       "4          189244                    千克                0   \n",
       "\n",
       "  second_unit_of_measure  us_dollar  \n",
       "0                      ?     100126  \n",
       "1                      ?    3407709  \n",
       "2                      ?   15902831  \n",
       "3                      ?  120082914  \n",
       "4                      ?     636385  "
      ]
     },
     "execution_count": 20,
     "metadata": {},
     "output_type": "execute_result"
    }
   ],
   "source": [
    "df.head()"
   ]
  },
  {
   "cell_type": "markdown",
   "id": "dbde7c6b-3866-46d0-b9df-649122654c8d",
   "metadata": {},
   "source": [
    "---"
   ]
  },
  {
   "cell_type": "markdown",
   "id": "9bcb6d93-bac1-4383-b706-2d28b07be978",
   "metadata": {
    "tags": []
   },
   "source": [
    "### Create commodity code columns based on slices of others"
   ]
  },
  {
   "cell_type": "code",
   "execution_count": 21,
   "id": "b94d2530-1be9-4ea9-9cc9-97230f48cbf6",
   "metadata": {},
   "outputs": [],
   "source": [
    "df[\"commodity_chapter\"] = df[\"commodity_code\"].str[:2]\n",
    "df[\"commodity_chapter_four\"] = df[\"commodity_code\"].str[:4]"
   ]
  },
  {
   "cell_type": "code",
   "execution_count": 22,
   "id": "d6d91dd3-1cff-40c3-bef7-209fd56377d8",
   "metadata": {},
   "outputs": [
    {
     "data": {
      "text/html": [
       "<div>\n",
       "<style scoped>\n",
       "    .dataframe tbody tr th:only-of-type {\n",
       "        vertical-align: middle;\n",
       "    }\n",
       "\n",
       "    .dataframe tbody tr th {\n",
       "        vertical-align: top;\n",
       "    }\n",
       "\n",
       "    .dataframe thead th {\n",
       "        text-align: right;\n",
       "    }\n",
       "</style>\n",
       "<table border=\"1\" class=\"dataframe\">\n",
       "  <thead>\n",
       "    <tr style=\"text-align: right;\">\n",
       "      <th></th>\n",
       "      <th>trade_partner_code</th>\n",
       "      <th>trade_partner_name</th>\n",
       "      <th>commodity_code</th>\n",
       "      <th>commodity_name</th>\n",
       "      <th>first_quantity</th>\n",
       "      <th>first_unit_of_measure</th>\n",
       "      <th>second_quantity</th>\n",
       "      <th>second_unit_of_measure</th>\n",
       "      <th>us_dollar</th>\n",
       "      <th>commodity_chapter</th>\n",
       "      <th>commodity_chapter_four</th>\n",
       "    </tr>\n",
       "  </thead>\n",
       "  <tbody>\n",
       "    <tr>\n",
       "      <th>0</th>\n",
       "      <td>344</td>\n",
       "      <td>俄罗斯联邦</td>\n",
       "      <td>2012000</td>\n",
       "      <td>鲜或冷的带骨牛肉</td>\n",
       "      <td>4809</td>\n",
       "      <td>千克</td>\n",
       "      <td>0</td>\n",
       "      <td>?</td>\n",
       "      <td>100126</td>\n",
       "      <td>20</td>\n",
       "      <td>2012</td>\n",
       "    </tr>\n",
       "    <tr>\n",
       "      <th>1</th>\n",
       "      <td>344</td>\n",
       "      <td>俄罗斯联邦</td>\n",
       "      <td>2013000</td>\n",
       "      <td>鲜或冷的去骨牛肉</td>\n",
       "      <td>224722</td>\n",
       "      <td>千克</td>\n",
       "      <td>0</td>\n",
       "      <td>?</td>\n",
       "      <td>3407709</td>\n",
       "      <td>20</td>\n",
       "      <td>2013</td>\n",
       "    </tr>\n",
       "    <tr>\n",
       "      <th>2</th>\n",
       "      <td>344</td>\n",
       "      <td>俄罗斯联邦</td>\n",
       "      <td>2022000</td>\n",
       "      <td>冻带骨牛肉</td>\n",
       "      <td>4744699</td>\n",
       "      <td>千克</td>\n",
       "      <td>0</td>\n",
       "      <td>?</td>\n",
       "      <td>15902831</td>\n",
       "      <td>20</td>\n",
       "      <td>2022</td>\n",
       "    </tr>\n",
       "    <tr>\n",
       "      <th>3</th>\n",
       "      <td>344</td>\n",
       "      <td>俄罗斯联邦</td>\n",
       "      <td>2023000</td>\n",
       "      <td>冻去骨牛肉</td>\n",
       "      <td>14829654</td>\n",
       "      <td>千克</td>\n",
       "      <td>0</td>\n",
       "      <td>?</td>\n",
       "      <td>120082914</td>\n",
       "      <td>20</td>\n",
       "      <td>2023</td>\n",
       "    </tr>\n",
       "    <tr>\n",
       "      <th>4</th>\n",
       "      <td>344</td>\n",
       "      <td>俄罗斯联邦</td>\n",
       "      <td>2062900</td>\n",
       "      <td>其他冻牛杂碎</td>\n",
       "      <td>189244</td>\n",
       "      <td>千克</td>\n",
       "      <td>0</td>\n",
       "      <td>?</td>\n",
       "      <td>636385</td>\n",
       "      <td>20</td>\n",
       "      <td>2062</td>\n",
       "    </tr>\n",
       "  </tbody>\n",
       "</table>\n",
       "</div>"
      ],
      "text/plain": [
       "   trade_partner_code trade_partner_name commodity_code commodity_name  \\\n",
       "0                 344              俄罗斯联邦        2012000       鲜或冷的带骨牛肉   \n",
       "1                 344              俄罗斯联邦        2013000       鲜或冷的去骨牛肉   \n",
       "2                 344              俄罗斯联邦        2022000          冻带骨牛肉   \n",
       "3                 344              俄罗斯联邦        2023000          冻去骨牛肉   \n",
       "4                 344              俄罗斯联邦        2062900         其他冻牛杂碎   \n",
       "\n",
       "   first_quantity first_unit_of_measure  second_quantity  \\\n",
       "0            4809                    千克                0   \n",
       "1          224722                    千克                0   \n",
       "2         4744699                    千克                0   \n",
       "3        14829654                    千克                0   \n",
       "4          189244                    千克                0   \n",
       "\n",
       "  second_unit_of_measure  us_dollar commodity_chapter commodity_chapter_four  \n",
       "0                      ?     100126                20                   2012  \n",
       "1                      ?    3407709                20                   2013  \n",
       "2                      ?   15902831                20                   2022  \n",
       "3                      ?  120082914                20                   2023  \n",
       "4                      ?     636385                20                   2062  "
      ]
     },
     "execution_count": 22,
     "metadata": {},
     "output_type": "execute_result"
    }
   ],
   "source": [
    "df.head()"
   ]
  },
  {
   "cell_type": "markdown",
   "id": "88eb1a64-45b0-464a-8ef9-6fbfed0a490a",
   "metadata": {},
   "source": [
    "### Merge the commodity codes with our export data and remove columns we don't need"
   ]
  },
  {
   "cell_type": "code",
   "execution_count": 23,
   "id": "021dfb65-1115-411c-bad6-00d270b88772",
   "metadata": {},
   "outputs": [],
   "source": [
    "merge = df.merge(code_df, left_on=\"commodity_chapter\", right_on=\"code\")"
   ]
  },
  {
   "cell_type": "code",
   "execution_count": 24,
   "id": "5af211fd-5a01-4439-8595-5dd48475289b",
   "metadata": {},
   "outputs": [
    {
     "data": {
      "text/html": [
       "<div>\n",
       "<style scoped>\n",
       "    .dataframe tbody tr th:only-of-type {\n",
       "        vertical-align: middle;\n",
       "    }\n",
       "\n",
       "    .dataframe tbody tr th {\n",
       "        vertical-align: top;\n",
       "    }\n",
       "\n",
       "    .dataframe thead th {\n",
       "        text-align: right;\n",
       "    }\n",
       "</style>\n",
       "<table border=\"1\" class=\"dataframe\">\n",
       "  <thead>\n",
       "    <tr style=\"text-align: right;\">\n",
       "      <th></th>\n",
       "      <th>trade_partner_code</th>\n",
       "      <th>trade_partner_name</th>\n",
       "      <th>commodity_code</th>\n",
       "      <th>commodity_name</th>\n",
       "      <th>first_quantity</th>\n",
       "      <th>first_unit_of_measure</th>\n",
       "      <th>second_quantity</th>\n",
       "      <th>second_unit_of_measure</th>\n",
       "      <th>us_dollar</th>\n",
       "      <th>commodity_chapter</th>\n",
       "      <th>commodity_chapter_four</th>\n",
       "      <th>code</th>\n",
       "      <th>description</th>\n",
       "      <th>level</th>\n",
       "    </tr>\n",
       "  </thead>\n",
       "  <tbody>\n",
       "    <tr>\n",
       "      <th>0</th>\n",
       "      <td>344</td>\n",
       "      <td>俄罗斯联邦</td>\n",
       "      <td>2012000</td>\n",
       "      <td>鲜或冷的带骨牛肉</td>\n",
       "      <td>4809</td>\n",
       "      <td>千克</td>\n",
       "      <td>0</td>\n",
       "      <td>?</td>\n",
       "      <td>100126</td>\n",
       "      <td>20</td>\n",
       "      <td>2012</td>\n",
       "      <td>20</td>\n",
       "      <td>Preparations of vegetables, fruit, nuts or other parts of plants</td>\n",
       "      <td>2</td>\n",
       "    </tr>\n",
       "  </tbody>\n",
       "</table>\n",
       "</div>"
      ],
      "text/plain": [
       "   trade_partner_code trade_partner_name commodity_code commodity_name  \\\n",
       "0                 344              俄罗斯联邦        2012000       鲜或冷的带骨牛肉   \n",
       "\n",
       "   first_quantity first_unit_of_measure  second_quantity  \\\n",
       "0            4809                    千克                0   \n",
       "\n",
       "  second_unit_of_measure  us_dollar commodity_chapter commodity_chapter_four  \\\n",
       "0                      ?     100126                20                   2012   \n",
       "\n",
       "  code                                                       description level  \n",
       "0   20  Preparations of vegetables, fruit, nuts or other parts of plants     2  "
      ]
     },
     "execution_count": 24,
     "metadata": {},
     "output_type": "execute_result"
    }
   ],
   "source": [
    "merge.head(1)"
   ]
  },
  {
   "cell_type": "code",
   "execution_count": 25,
   "id": "08b99c84-002d-4dab-a34f-8bb7094d8731",
   "metadata": {},
   "outputs": [],
   "source": [
    "merge.drop(\n",
    "    [\n",
    "        \"commodity_name\",\n",
    "        \"code\",\n",
    "    ],\n",
    "    axis=1,\n",
    "    inplace=True,\n",
    ")"
   ]
  },
  {
   "cell_type": "code",
   "execution_count": 26,
   "id": "8e606367-1118-4c40-88ee-2ed28daa9490",
   "metadata": {},
   "outputs": [],
   "source": [
    "merge.rename(columns={\"description\": \"commodity_chapter_desc\"}, inplace=True)"
   ]
  },
  {
   "cell_type": "code",
   "execution_count": 27,
   "id": "9a3f7ef8-670e-44d4-aa29-6a30036016b1",
   "metadata": {},
   "outputs": [],
   "source": [
    "merge_df = pd.merge(\n",
    "    merge,\n",
    "    code_df[[\"code\", \"description\"]],\n",
    "    left_on=\"commodity_chapter_four\",\n",
    "    right_on=\"code\",\n",
    ")"
   ]
  },
  {
   "cell_type": "code",
   "execution_count": 28,
   "id": "02b70175-6fe8-4451-9280-3b1c716a52c9",
   "metadata": {},
   "outputs": [],
   "source": [
    "merge_df.drop([\"code\", \"level\"], axis=1, inplace=True)"
   ]
  },
  {
   "cell_type": "code",
   "execution_count": 29,
   "id": "d07151c6-de98-4ec3-a0ba-064f88b9933e",
   "metadata": {},
   "outputs": [],
   "source": [
    "merge_df.rename(\n",
    "    columns={\n",
    "        \"description\": \"commodity_chapter_four_desc\",\n",
    "    },\n",
    "    inplace=True,\n",
    ")"
   ]
  },
  {
   "cell_type": "markdown",
   "id": "e2dcc2e4-e89c-4147-9a96-83d1b5ce4cef",
   "metadata": {},
   "source": [
    "### Behold, a dataframe"
   ]
  },
  {
   "cell_type": "code",
   "execution_count": 30,
   "id": "c8aa48fe-586b-46ea-b512-574e1b887f02",
   "metadata": {},
   "outputs": [],
   "source": [
    "merged_df = merge_df[\n",
    "    [\n",
    "        \"trade_partner_code\",\n",
    "        \"trade_partner_name\",\n",
    "        \"commodity_code\",\n",
    "        \"commodity_chapter\",\n",
    "        \"commodity_chapter_desc\",\n",
    "        \"commodity_chapter_four\",\n",
    "        \"commodity_chapter_four_desc\",\n",
    "        \"first_unit_of_measure\",\n",
    "        \"second_quantity\",\n",
    "        \"second_unit_of_measure\",\n",
    "        \"us_dollar\",\n",
    "    ]\n",
    "].copy()"
   ]
  },
  {
   "cell_type": "code",
   "execution_count": 31,
   "id": "877c7b1b-f3b1-4238-8853-57b9ac73f71d",
   "metadata": {},
   "outputs": [],
   "source": [
    "df = pd.merge(merged_df, countries, on=[\"trade_partner_code\"])"
   ]
  },
  {
   "cell_type": "code",
   "execution_count": 32,
   "id": "01abfcfa-10ad-4823-b788-9a0a6af375f9",
   "metadata": {},
   "outputs": [],
   "source": [
    "df.drop(\n",
    "    [\n",
    "        \"trade_partner_code\",\n",
    "        \"trade_partner_name_x\",\n",
    "    ],\n",
    "    axis=1,\n",
    "    inplace=True,\n",
    ")\n",
    "df.rename(\n",
    "    columns={\n",
    "        \"trade_partner_name_y\": \"exported_to\",\n",
    "    },\n",
    "    inplace=True,\n",
    ")"
   ]
  },
  {
   "cell_type": "code",
   "execution_count": 33,
   "id": "8ba69798-4c10-45b4-af06-23bae5aa78ff",
   "metadata": {},
   "outputs": [
    {
     "data": {
      "text/html": [
       "<div>\n",
       "<style scoped>\n",
       "    .dataframe tbody tr th:only-of-type {\n",
       "        vertical-align: middle;\n",
       "    }\n",
       "\n",
       "    .dataframe tbody tr th {\n",
       "        vertical-align: top;\n",
       "    }\n",
       "\n",
       "    .dataframe thead th {\n",
       "        text-align: right;\n",
       "    }\n",
       "</style>\n",
       "<table border=\"1\" class=\"dataframe\">\n",
       "  <thead>\n",
       "    <tr style=\"text-align: right;\">\n",
       "      <th></th>\n",
       "      <th>commodity_code</th>\n",
       "      <th>commodity_chapter</th>\n",
       "      <th>commodity_chapter_desc</th>\n",
       "      <th>commodity_chapter_four</th>\n",
       "      <th>commodity_chapter_four_desc</th>\n",
       "      <th>first_unit_of_measure</th>\n",
       "      <th>second_quantity</th>\n",
       "      <th>second_unit_of_measure</th>\n",
       "      <th>us_dollar</th>\n",
       "      <th>exported_to</th>\n",
       "    </tr>\n",
       "  </thead>\n",
       "  <tbody>\n",
       "    <tr>\n",
       "      <th>0</th>\n",
       "      <td>20011000</td>\n",
       "      <td>20</td>\n",
       "      <td>Preparations of vegetables, fruit, nuts or other parts of plants</td>\n",
       "      <td>2001</td>\n",
       "      <td>Vegetables, fruit, nuts and other edible parts of plants; prepared or preserved by vinegar or acetic acid</td>\n",
       "      <td>千克</td>\n",
       "      <td>0</td>\n",
       "      <td>?</td>\n",
       "      <td>188995</td>\n",
       "      <td>Russian Federation</td>\n",
       "    </tr>\n",
       "    <tr>\n",
       "      <th>1</th>\n",
       "      <td>20019090</td>\n",
       "      <td>20</td>\n",
       "      <td>Preparations of vegetables, fruit, nuts or other parts of plants</td>\n",
       "      <td>2001</td>\n",
       "      <td>Vegetables, fruit, nuts and other edible parts of plants; prepared or preserved by vinegar or acetic acid</td>\n",
       "      <td>千克</td>\n",
       "      <td>0</td>\n",
       "      <td>?</td>\n",
       "      <td>22719</td>\n",
       "      <td>Russian Federation</td>\n",
       "    </tr>\n",
       "    <tr>\n",
       "      <th>2</th>\n",
       "      <td>20052000</td>\n",
       "      <td>20</td>\n",
       "      <td>Preparations of vegetables, fruit, nuts or other parts of plants</td>\n",
       "      <td>2005</td>\n",
       "      <td>Vegetables preparations n.e.c.; prepared or preserved otherwise than by vinegar or acetic acid, not frozen, other than products of heading no. 2006</td>\n",
       "      <td>千克</td>\n",
       "      <td>0</td>\n",
       "      <td>?</td>\n",
       "      <td>585020</td>\n",
       "      <td>Russian Federation</td>\n",
       "    </tr>\n",
       "    <tr>\n",
       "      <th>3</th>\n",
       "      <td>20054000</td>\n",
       "      <td>20</td>\n",
       "      <td>Preparations of vegetables, fruit, nuts or other parts of plants</td>\n",
       "      <td>2005</td>\n",
       "      <td>Vegetables preparations n.e.c.; prepared or preserved otherwise than by vinegar or acetic acid, not frozen, other than products of heading no. 2006</td>\n",
       "      <td>千克</td>\n",
       "      <td>0</td>\n",
       "      <td>?</td>\n",
       "      <td>2509</td>\n",
       "      <td>Russian Federation</td>\n",
       "    </tr>\n",
       "    <tr>\n",
       "      <th>4</th>\n",
       "      <td>20055990</td>\n",
       "      <td>20</td>\n",
       "      <td>Preparations of vegetables, fruit, nuts or other parts of plants</td>\n",
       "      <td>2005</td>\n",
       "      <td>Vegetables preparations n.e.c.; prepared or preserved otherwise than by vinegar or acetic acid, not frozen, other than products of heading no. 2006</td>\n",
       "      <td>千克</td>\n",
       "      <td>0</td>\n",
       "      <td>?</td>\n",
       "      <td>1116</td>\n",
       "      <td>Russian Federation</td>\n",
       "    </tr>\n",
       "  </tbody>\n",
       "</table>\n",
       "</div>"
      ],
      "text/plain": [
       "  commodity_code commodity_chapter  \\\n",
       "0       20011000                20   \n",
       "1       20019090                20   \n",
       "2       20052000                20   \n",
       "3       20054000                20   \n",
       "4       20055990                20   \n",
       "\n",
       "                                             commodity_chapter_desc  \\\n",
       "0  Preparations of vegetables, fruit, nuts or other parts of plants   \n",
       "1  Preparations of vegetables, fruit, nuts or other parts of plants   \n",
       "2  Preparations of vegetables, fruit, nuts or other parts of plants   \n",
       "3  Preparations of vegetables, fruit, nuts or other parts of plants   \n",
       "4  Preparations of vegetables, fruit, nuts or other parts of plants   \n",
       "\n",
       "  commodity_chapter_four  \\\n",
       "0                   2001   \n",
       "1                   2001   \n",
       "2                   2005   \n",
       "3                   2005   \n",
       "4                   2005   \n",
       "\n",
       "                                                                                                                           commodity_chapter_four_desc  \\\n",
       "0                                            Vegetables, fruit, nuts and other edible parts of plants; prepared or preserved by vinegar or acetic acid   \n",
       "1                                            Vegetables, fruit, nuts and other edible parts of plants; prepared or preserved by vinegar or acetic acid   \n",
       "2  Vegetables preparations n.e.c.; prepared or preserved otherwise than by vinegar or acetic acid, not frozen, other than products of heading no. 2006   \n",
       "3  Vegetables preparations n.e.c.; prepared or preserved otherwise than by vinegar or acetic acid, not frozen, other than products of heading no. 2006   \n",
       "4  Vegetables preparations n.e.c.; prepared or preserved otherwise than by vinegar or acetic acid, not frozen, other than products of heading no. 2006   \n",
       "\n",
       "  first_unit_of_measure  second_quantity second_unit_of_measure  us_dollar  \\\n",
       "0                    千克                0                      ?     188995   \n",
       "1                    千克                0                      ?      22719   \n",
       "2                    千克                0                      ?     585020   \n",
       "3                    千克                0                      ?       2509   \n",
       "4                    千克                0                      ?       1116   \n",
       "\n",
       "          exported_to  \n",
       "0  Russian Federation  \n",
       "1  Russian Federation  \n",
       "2  Russian Federation  \n",
       "3  Russian Federation  \n",
       "4  Russian Federation  "
      ]
     },
     "execution_count": 33,
     "metadata": {},
     "output_type": "execute_result"
    }
   ],
   "source": [
    "df.head()"
   ]
  },
  {
   "cell_type": "code",
   "execution_count": 34,
   "id": "1e3a956e-4702-4797-a217-1f3172790b3d",
   "metadata": {},
   "outputs": [],
   "source": [
    "df.to_csv(\"../data/processed/china_imports_from_russia.csv\", index=False)"
   ]
  }
 ],
 "metadata": {
  "kernelspec": {
   "display_name": "Python 3 (ipykernel)",
   "language": "python",
   "name": "python3"
  },
  "language_info": {
   "codemirror_mode": {
    "name": "ipython",
    "version": 3
   },
   "file_extension": ".py",
   "mimetype": "text/x-python",
   "name": "python",
   "nbconvert_exporter": "python",
   "pygments_lexer": "ipython3",
   "version": "3.8.9"
  }
 },
 "nbformat": 4,
 "nbformat_minor": 5
}
