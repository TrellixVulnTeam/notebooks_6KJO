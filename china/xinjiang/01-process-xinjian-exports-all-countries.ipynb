{
 "cells": [
  {
   "cell_type": "markdown",
   "id": "ca1de40a-2d7d-4119-b8b9-5ed1e9a3e7b3",
   "metadata": {
    "tags": []
   },
   "source": [
    "# Chinese exports by year, country and commodity"
   ]
  },
  {
   "cell_type": "markdown",
   "id": "7f12671b-1bda-4caa-817e-567f50b177e9",
   "metadata": {
    "tags": []
   },
   "source": [
    "### Import Python tools and Jupyter configuration"
   ]
  },
  {
   "cell_type": "code",
   "execution_count": 1,
   "id": "835f008f-fe55-4430-a270-6ec35ae84dfc",
   "metadata": {},
   "outputs": [],
   "source": [
    "%load_ext lab_black"
   ]
  },
  {
   "cell_type": "code",
   "execution_count": 2,
   "id": "f4145a4d-23f9-46b4-b4c9-52a3ba2ab2cb",
   "metadata": {},
   "outputs": [],
   "source": [
    "import pandas as pd\n",
    "import geopandas as gpd\n",
    "import altair as alt\n",
    "from datetime import timedelta\n",
    "import numpy as np\n",
    "import glob"
   ]
  },
  {
   "cell_type": "code",
   "execution_count": 3,
   "id": "be03bb9b-f4c5-4d4b-925c-9c4a1f531ac5",
   "metadata": {},
   "outputs": [],
   "source": [
    "pd.options.display.max_columns = 1000\n",
    "pd.options.display.max_rows = 1000\n",
    "pd.options.display.max_colwidth = None"
   ]
  },
  {
   "cell_type": "markdown",
   "id": "80cbf246-2244-4147-9a77-802dbf877ea3",
   "metadata": {},
   "source": [
    "---"
   ]
  },
  {
   "cell_type": "markdown",
   "id": "51517076-8333-4b0d-996c-67e62d2f6a2a",
   "metadata": {},
   "source": [
    "### Get commodity codes lookup"
   ]
  },
  {
   "cell_type": "code",
   "execution_count": 4,
   "id": "65ece739-595d-415e-bc5f-80b9f32a23db",
   "metadata": {},
   "outputs": [],
   "source": [
    "code_src = pd.read_csv(\n",
    "    \"https://raw.githubusercontent.com/datasets/harmonized-system/master/data/harmonized-system.csv\",\n",
    "    dtype={\"level\": str},\n",
    ")"
   ]
  },
  {
   "cell_type": "code",
   "execution_count": 5,
   "id": "22ba030a-8855-4d39-b589-d82e6269bfec",
   "metadata": {},
   "outputs": [],
   "source": [
    "code_df = code_src[(code_src[\"parent\"] == \"TOTAL\") | (code_src[\"level\"] == \"4\")][\n",
    "    [\"hscode\", \"description\", \"level\"]\n",
    "]"
   ]
  },
  {
   "cell_type": "code",
   "execution_count": 6,
   "id": "2d286da6-dfa1-4a33-821b-de0c3bcec8f9",
   "metadata": {},
   "outputs": [],
   "source": [
    "code_df.rename(columns={\"hscode\": \"code\"}, inplace=True)"
   ]
  },
  {
   "cell_type": "code",
   "execution_count": 7,
   "id": "ecfc82a5-0271-4132-9e2d-7a3e5ef32c71",
   "metadata": {},
   "outputs": [
    {
     "data": {
      "text/html": [
       "<div>\n",
       "<style scoped>\n",
       "    .dataframe tbody tr th:only-of-type {\n",
       "        vertical-align: middle;\n",
       "    }\n",
       "\n",
       "    .dataframe tbody tr th {\n",
       "        vertical-align: top;\n",
       "    }\n",
       "\n",
       "    .dataframe thead th {\n",
       "        text-align: right;\n",
       "    }\n",
       "</style>\n",
       "<table border=\"1\" class=\"dataframe\">\n",
       "  <thead>\n",
       "    <tr style=\"text-align: right;\">\n",
       "      <th></th>\n",
       "      <th>code</th>\n",
       "      <th>description</th>\n",
       "      <th>level</th>\n",
       "    </tr>\n",
       "  </thead>\n",
       "  <tbody>\n",
       "    <tr>\n",
       "      <th>0</th>\n",
       "      <td>01</td>\n",
       "      <td>Animals; live</td>\n",
       "      <td>2</td>\n",
       "    </tr>\n",
       "    <tr>\n",
       "      <th>1</th>\n",
       "      <td>0101</td>\n",
       "      <td>Horses, asses, mules and hinnies; live</td>\n",
       "      <td>4</td>\n",
       "    </tr>\n",
       "    <tr>\n",
       "      <th>6</th>\n",
       "      <td>0102</td>\n",
       "      <td>Bovine animals; live</td>\n",
       "      <td>4</td>\n",
       "    </tr>\n",
       "    <tr>\n",
       "      <th>12</th>\n",
       "      <td>0103</td>\n",
       "      <td>Swine; live</td>\n",
       "      <td>4</td>\n",
       "    </tr>\n",
       "    <tr>\n",
       "      <th>16</th>\n",
       "      <td>0104</td>\n",
       "      <td>Sheep and goats; live</td>\n",
       "      <td>4</td>\n",
       "    </tr>\n",
       "  </tbody>\n",
       "</table>\n",
       "</div>"
      ],
      "text/plain": [
       "    code                             description level\n",
       "0     01                           Animals; live     2\n",
       "1   0101  Horses, asses, mules and hinnies; live     4\n",
       "6   0102                    Bovine animals; live     4\n",
       "12  0103                             Swine; live     4\n",
       "16  0104                   Sheep and goats; live     4"
      ]
     },
     "execution_count": 7,
     "metadata": {},
     "output_type": "execute_result"
    }
   ],
   "source": [
    "code_df"
   ]
  },
  {
   "cell_type": "markdown",
   "id": "a622794d-b743-4626-bbc2-4845106d1447",
   "metadata": {},
   "source": [
    "---"
   ]
  },
  {
   "cell_type": "markdown",
   "id": "044cf602-83cb-48b3-8c4b-ebcb8335434e",
   "metadata": {},
   "source": [
    "### Get country codes"
   ]
  },
  {
   "cell_type": "code",
   "execution_count": 8,
   "id": "8462f228-503b-409b-af4a-7371758a7311",
   "metadata": {},
   "outputs": [],
   "source": [
    "countries = pd.read_csv(\"../data/raw/TradingPartner.csv\", encoding=\"GBK\")"
   ]
  },
  {
   "cell_type": "code",
   "execution_count": 9,
   "id": "3a0aff99-3583-4540-b9c9-f29f583c5477",
   "metadata": {},
   "outputs": [],
   "source": [
    "countries.rename(\n",
    "    columns={\n",
    "        \"CODES\": \"trade_partner_code\",\n",
    "        \"DESCRIPTION\": \"trade_partner_name\",\n",
    "    },\n",
    "    inplace=True,\n",
    ")"
   ]
  },
  {
   "cell_type": "markdown",
   "id": "ba443ee3-ad49-42f1-99f8-0f9bae16ba36",
   "metadata": {},
   "source": [
    "### Get exporting provinces"
   ]
  },
  {
   "cell_type": "code",
   "execution_count": 10,
   "id": "88c36619-f15d-4ad3-bef3-91bbdf87a21b",
   "metadata": {},
   "outputs": [],
   "source": [
    "places = pd.read_csv(\"../data/raw/TradeCoPort.csv\", encoding=\"GBK\")"
   ]
  },
  {
   "cell_type": "code",
   "execution_count": 11,
   "id": "bd257aff-4841-4e79-b8da-7cbfedd894e7",
   "metadata": {},
   "outputs": [],
   "source": [
    "places.rename(\n",
    "    columns={\n",
    "        \"CODE\": \"registration_place_code\",\n",
    "        \"DESCRIPTION\": \"registration_place_name\",\n",
    "    },\n",
    "    inplace=True,\n",
    ")"
   ]
  },
  {
   "cell_type": "markdown",
   "id": "9d808067-2c64-4ef9-b1b9-3f2f75559883",
   "metadata": {},
   "source": [
    "---"
   ]
  },
  {
   "cell_type": "markdown",
   "id": "c7ba0b5d-b7d4-4829-b958-a03fd88fc7a6",
   "metadata": {},
   "source": [
    "### Read all the export CSVs"
   ]
  },
  {
   "cell_type": "code",
   "execution_count": 12,
   "id": "26dd5113-331f-4250-9200-3ac8db4aa307",
   "metadata": {},
   "outputs": [],
   "source": [
    "path = \"../data/raw/exports/all-countries/\"\n",
    "all_files = glob.glob(path + \"*.csv\")\n",
    "\n",
    "li = []\n",
    "\n",
    "for filename in all_files:\n",
    "    df = pd.read_csv(\n",
    "        filename,\n",
    "        encoding=\"GBK\",\n",
    "        dtype={\"数据年月\\t\": str, \"商品编码\\t\": str},\n",
    "    ).assign(year=filename)\n",
    "    li.append(df)"
   ]
  },
  {
   "cell_type": "markdown",
   "id": "644aee28-2510-4750-b4b6-a5ceefe95b80",
   "metadata": {},
   "source": [
    "### And concatenate them into one frame"
   ]
  },
  {
   "cell_type": "code",
   "execution_count": 13,
   "id": "e65e1c66-cbf0-4d7b-9d5c-53d328cba984",
   "metadata": {},
   "outputs": [],
   "source": [
    "raw = pd.concat(\n",
    "    li,\n",
    "    axis=0,\n",
    "    ignore_index=True,\n",
    ")"
   ]
  },
  {
   "cell_type": "markdown",
   "id": "a888f335-7488-4e34-9f98-119ef60734d2",
   "metadata": {},
   "source": [
    "### Clean up column headers"
   ]
  },
  {
   "cell_type": "code",
   "execution_count": 14,
   "id": "e1c676c8-b0ad-4cd4-83ec-4abce4f6e403",
   "metadata": {},
   "outputs": [],
   "source": [
    "raw.columns = (\n",
    "    raw.columns.str.replace(r\"\\t\", \"\", regex=True)\n",
    "    .str.replace(\" \", \"_\", regex=False)\n",
    "    .str.lower()\n",
    ")"
   ]
  },
  {
   "cell_type": "markdown",
   "id": "035b503c-5799-4413-aa5d-f0cdfb376b94",
   "metadata": {},
   "source": [
    "### Remove all the tabs in the rows/columns"
   ]
  },
  {
   "cell_type": "code",
   "execution_count": 15,
   "id": "d3e5dc42-91b3-4302-90fe-22e2f50af0b8",
   "metadata": {},
   "outputs": [],
   "source": [
    "raw = raw.replace(r\"\\t\\t\", \"\", regex=True)"
   ]
  },
  {
   "cell_type": "markdown",
   "id": "c0ac5ec8-7f30-4282-a4bc-6f3468f721ab",
   "metadata": {},
   "source": [
    "### Rename colums "
   ]
  },
  {
   "cell_type": "code",
   "execution_count": 16,
   "id": "def97919-2ed2-4f51-8ed7-479b196586e0",
   "metadata": {},
   "outputs": [],
   "source": [
    "raw.rename(\n",
    "    columns={\n",
    "        \"商品编码\": \"commodity_code\",\n",
    "        \"商品名称\": \"commodity_name\",\n",
    "        \"贸易伙伴编码\": \"trade_partner_code\",\n",
    "        \"贸易伙伴名称\": \"trade_partner_name\",\n",
    "        \"注册地编码\": \"registration_place_code\",\n",
    "        \"注册地名称\": \"registration_place_name\",\n",
    "        \"第一数量\": \"first_quantity\",\n",
    "        \"第一计量单位\": \"first_unit_of_measure\",\n",
    "        \"第二数量\": \"second_quantity\",\n",
    "        \"第二计量单位\": \"second_unit_of_measure\",\n",
    "        \"美元\": \"us_dollar\",\n",
    "    },\n",
    "    inplace=True,\n",
    ")"
   ]
  },
  {
   "cell_type": "code",
   "execution_count": 17,
   "id": "e6cdcd79-0831-4ed4-90c2-513979a1d6b0",
   "metadata": {},
   "outputs": [],
   "source": [
    "raw[\"year\"] = (\n",
    "    raw[\"year\"]\n",
    "    .str.replace(\n",
    "        \"../data/raw/exports/all-countries/XJ exports to all countries\", \"\", regex=False\n",
    "    )\n",
    "    .str.replace(\"Chinese raw .csv\", \"\", regex=False)\n",
    "    .str.replace(\n",
    "        \"../data/raw/exports/all-countries/XJ exports to all countries\", \"\", regex=False\n",
    "    )\n",
    "    .str.replace(\"Chinese raw.csv\", \"\", regex=False)\n",
    ")"
   ]
  },
  {
   "cell_type": "markdown",
   "id": "cb3923db-dc9c-4f52-9a6d-bba1143d3d37",
   "metadata": {},
   "source": [
    "### Create commodity code columns based on slices of others"
   ]
  },
  {
   "cell_type": "code",
   "execution_count": 18,
   "id": "91a5ccc5-522d-4a0a-b69d-a8bdfaa125bf",
   "metadata": {},
   "outputs": [],
   "source": [
    "raw[\"commodity_chapter\"] = raw[\"commodity_code\"].str[:2]\n",
    "raw[\"commodity_chapter_four\"] = raw[\"commodity_code\"].str[:4]"
   ]
  },
  {
   "cell_type": "code",
   "execution_count": 19,
   "id": "fb9762cd-83ec-4a16-afe8-d358e4b01a0c",
   "metadata": {},
   "outputs": [],
   "source": [
    "raw[\"us_dollar\"] = raw[\"us_dollar\"].str.replace(\",\", \"\", regex=False).astype(int)"
   ]
  },
  {
   "cell_type": "code",
   "execution_count": 20,
   "id": "bb0122be-f9b9-4a05-ac53-5ac968ffcfd3",
   "metadata": {},
   "outputs": [
    {
     "data": {
      "text/html": [
       "<div>\n",
       "<style scoped>\n",
       "    .dataframe tbody tr th:only-of-type {\n",
       "        vertical-align: middle;\n",
       "    }\n",
       "\n",
       "    .dataframe tbody tr th {\n",
       "        vertical-align: top;\n",
       "    }\n",
       "\n",
       "    .dataframe thead th {\n",
       "        text-align: right;\n",
       "    }\n",
       "</style>\n",
       "<table border=\"1\" class=\"dataframe\">\n",
       "  <thead>\n",
       "    <tr style=\"text-align: right;\">\n",
       "      <th></th>\n",
       "      <th>registration_place_code</th>\n",
       "      <th>registration_place_name</th>\n",
       "      <th>commodity_code</th>\n",
       "      <th>commodity_name</th>\n",
       "      <th>trade_partner_code</th>\n",
       "      <th>trade_partner_name</th>\n",
       "      <th>first_quantity</th>\n",
       "      <th>first_unit_of_measure</th>\n",
       "      <th>second_quantity</th>\n",
       "      <th>second_unit_of_measure</th>\n",
       "      <th>us_dollar</th>\n",
       "      <th>unnamed:_11</th>\n",
       "      <th>year</th>\n",
       "      <th>commodity_chapter</th>\n",
       "      <th>commodity_chapter_four</th>\n",
       "    </tr>\n",
       "  </thead>\n",
       "  <tbody>\n",
       "    <tr>\n",
       "      <th>0</th>\n",
       "      <td>65</td>\n",
       "      <td>新疆维吾尔自治区</td>\n",
       "      <td>02071419</td>\n",
       "      <td>其他冻鸡块</td>\n",
       "      <td>146</td>\n",
       "      <td>吉尔吉斯斯坦</td>\n",
       "      <td>144000</td>\n",
       "      <td>千克</td>\n",
       "      <td>0</td>\n",
       "      <td>?</td>\n",
       "      <td>259200</td>\n",
       "      <td>NaN</td>\n",
       "      <td>2019</td>\n",
       "      <td>02</td>\n",
       "      <td>0207</td>\n",
       "    </tr>\n",
       "    <tr>\n",
       "      <th>1</th>\n",
       "      <td>65</td>\n",
       "      <td>新疆维吾尔自治区</td>\n",
       "      <td>02074500</td>\n",
       "      <td>冻的鸭块及杂碎</td>\n",
       "      <td>146</td>\n",
       "      <td>吉尔吉斯斯坦</td>\n",
       "      <td>1615000</td>\n",
       "      <td>千克</td>\n",
       "      <td>0</td>\n",
       "      <td>?</td>\n",
       "      <td>3584460</td>\n",
       "      <td>NaN</td>\n",
       "      <td>2019</td>\n",
       "      <td>02</td>\n",
       "      <td>0207</td>\n",
       "    </tr>\n",
       "    <tr>\n",
       "      <th>2</th>\n",
       "      <td>65</td>\n",
       "      <td>新疆维吾尔自治区</td>\n",
       "      <td>02074500</td>\n",
       "      <td>冻的鸭块及杂碎</td>\n",
       "      <td>147</td>\n",
       "      <td>塔吉克斯坦</td>\n",
       "      <td>2686000</td>\n",
       "      <td>千克</td>\n",
       "      <td>0</td>\n",
       "      <td>?</td>\n",
       "      <td>3601100</td>\n",
       "      <td>NaN</td>\n",
       "      <td>2019</td>\n",
       "      <td>02</td>\n",
       "      <td>0207</td>\n",
       "    </tr>\n",
       "    <tr>\n",
       "      <th>3</th>\n",
       "      <td>65</td>\n",
       "      <td>新疆维吾尔自治区</td>\n",
       "      <td>02074500</td>\n",
       "      <td>冻的鸭块及杂碎</td>\n",
       "      <td>149</td>\n",
       "      <td>乌兹别克斯坦</td>\n",
       "      <td>44000</td>\n",
       "      <td>千克</td>\n",
       "      <td>0</td>\n",
       "      <td>?</td>\n",
       "      <td>82280</td>\n",
       "      <td>NaN</td>\n",
       "      <td>2019</td>\n",
       "      <td>02</td>\n",
       "      <td>0207</td>\n",
       "    </tr>\n",
       "    <tr>\n",
       "      <th>4</th>\n",
       "      <td>65</td>\n",
       "      <td>新疆维吾尔自治区</td>\n",
       "      <td>03011100</td>\n",
       "      <td>淡水观赏鱼</td>\n",
       "      <td>145</td>\n",
       "      <td>哈萨克斯坦</td>\n",
       "      <td>113</td>\n",
       "      <td>千克</td>\n",
       "      <td>0</td>\n",
       "      <td>?</td>\n",
       "      <td>1628</td>\n",
       "      <td>NaN</td>\n",
       "      <td>2019</td>\n",
       "      <td>03</td>\n",
       "      <td>0301</td>\n",
       "    </tr>\n",
       "  </tbody>\n",
       "</table>\n",
       "</div>"
      ],
      "text/plain": [
       "   registration_place_code registration_place_name commodity_code  \\\n",
       "0                       65                新疆维吾尔自治区       02071419   \n",
       "1                       65                新疆维吾尔自治区       02074500   \n",
       "2                       65                新疆维吾尔自治区       02074500   \n",
       "3                       65                新疆维吾尔自治区       02074500   \n",
       "4                       65                新疆维吾尔自治区       03011100   \n",
       "\n",
       "  commodity_name  trade_partner_code trade_partner_name  first_quantity  \\\n",
       "0          其他冻鸡块                 146             吉尔吉斯斯坦          144000   \n",
       "1        冻的鸭块及杂碎                 146             吉尔吉斯斯坦         1615000   \n",
       "2        冻的鸭块及杂碎                 147              塔吉克斯坦         2686000   \n",
       "3        冻的鸭块及杂碎                 149             乌兹别克斯坦           44000   \n",
       "4          淡水观赏鱼                 145              哈萨克斯坦             113   \n",
       "\n",
       "  first_unit_of_measure  second_quantity second_unit_of_measure  us_dollar  \\\n",
       "0                    千克                0                      ?     259200   \n",
       "1                    千克                0                      ?    3584460   \n",
       "2                    千克                0                      ?    3601100   \n",
       "3                    千克                0                      ?      82280   \n",
       "4                    千克                0                      ?       1628   \n",
       "\n",
       "   unnamed:_11    year commodity_chapter commodity_chapter_four  \n",
       "0          NaN   2019                 02                   0207  \n",
       "1          NaN   2019                 02                   0207  \n",
       "2          NaN   2019                 02                   0207  \n",
       "3          NaN   2019                 02                   0207  \n",
       "4          NaN   2019                 03                   0301  "
      ]
     },
     "execution_count": 20,
     "metadata": {},
     "output_type": "execute_result"
    }
   ],
   "source": [
    "raw.head()"
   ]
  },
  {
   "cell_type": "markdown",
   "id": "c7aba015-8776-4e82-bc84-94f2611489d8",
   "metadata": {},
   "source": [
    "### Merge the commodity codes with our export data and remove columns we don't need"
   ]
  },
  {
   "cell_type": "code",
   "execution_count": 21,
   "id": "d431b0b8-cd71-4600-b3ac-bf7eda75a73f",
   "metadata": {},
   "outputs": [],
   "source": [
    "merge = raw.merge(code_df, left_on=\"commodity_chapter\", right_on=\"code\")"
   ]
  },
  {
   "cell_type": "code",
   "execution_count": 22,
   "id": "03d4fed7-9710-48d2-a024-742273fc9a24",
   "metadata": {},
   "outputs": [
    {
     "data": {
      "text/html": [
       "<div>\n",
       "<style scoped>\n",
       "    .dataframe tbody tr th:only-of-type {\n",
       "        vertical-align: middle;\n",
       "    }\n",
       "\n",
       "    .dataframe tbody tr th {\n",
       "        vertical-align: top;\n",
       "    }\n",
       "\n",
       "    .dataframe thead th {\n",
       "        text-align: right;\n",
       "    }\n",
       "</style>\n",
       "<table border=\"1\" class=\"dataframe\">\n",
       "  <thead>\n",
       "    <tr style=\"text-align: right;\">\n",
       "      <th></th>\n",
       "      <th>registration_place_code</th>\n",
       "      <th>registration_place_name</th>\n",
       "      <th>commodity_code</th>\n",
       "      <th>commodity_name</th>\n",
       "      <th>trade_partner_code</th>\n",
       "      <th>trade_partner_name</th>\n",
       "      <th>first_quantity</th>\n",
       "      <th>first_unit_of_measure</th>\n",
       "      <th>second_quantity</th>\n",
       "      <th>second_unit_of_measure</th>\n",
       "      <th>us_dollar</th>\n",
       "      <th>unnamed:_11</th>\n",
       "      <th>year</th>\n",
       "      <th>commodity_chapter</th>\n",
       "      <th>commodity_chapter_four</th>\n",
       "      <th>code</th>\n",
       "      <th>description</th>\n",
       "      <th>level</th>\n",
       "    </tr>\n",
       "  </thead>\n",
       "  <tbody>\n",
       "    <tr>\n",
       "      <th>0</th>\n",
       "      <td>65</td>\n",
       "      <td>新疆维吾尔自治区</td>\n",
       "      <td>02071419</td>\n",
       "      <td>其他冻鸡块</td>\n",
       "      <td>146</td>\n",
       "      <td>吉尔吉斯斯坦</td>\n",
       "      <td>144000</td>\n",
       "      <td>千克</td>\n",
       "      <td>0</td>\n",
       "      <td>?</td>\n",
       "      <td>259200</td>\n",
       "      <td>NaN</td>\n",
       "      <td>2019</td>\n",
       "      <td>02</td>\n",
       "      <td>0207</td>\n",
       "      <td>02</td>\n",
       "      <td>Meat and edible meat offal</td>\n",
       "      <td>2</td>\n",
       "    </tr>\n",
       "  </tbody>\n",
       "</table>\n",
       "</div>"
      ],
      "text/plain": [
       "   registration_place_code registration_place_name commodity_code  \\\n",
       "0                       65                新疆维吾尔自治区       02071419   \n",
       "\n",
       "  commodity_name  trade_partner_code trade_partner_name  first_quantity  \\\n",
       "0          其他冻鸡块                 146             吉尔吉斯斯坦          144000   \n",
       "\n",
       "  first_unit_of_measure  second_quantity second_unit_of_measure  us_dollar  \\\n",
       "0                    千克                0                      ?     259200   \n",
       "\n",
       "   unnamed:_11    year commodity_chapter commodity_chapter_four code  \\\n",
       "0          NaN   2019                 02                   0207   02   \n",
       "\n",
       "                  description level  \n",
       "0  Meat and edible meat offal     2  "
      ]
     },
     "execution_count": 22,
     "metadata": {},
     "output_type": "execute_result"
    }
   ],
   "source": [
    "merge.head(1)"
   ]
  },
  {
   "cell_type": "code",
   "execution_count": 23,
   "id": "4158efdd-9968-4c74-b810-16a21e65c479",
   "metadata": {},
   "outputs": [],
   "source": [
    "merge.drop(\n",
    "    [\n",
    "        \"commodity_name\",\n",
    "        \"unnamed:_11\",\n",
    "        \"code\",\n",
    "    ],\n",
    "    axis=1,\n",
    "    inplace=True,\n",
    ")"
   ]
  },
  {
   "cell_type": "code",
   "execution_count": 24,
   "id": "c34e7aa0-9c2b-4ed0-8caf-2fc606fbc473",
   "metadata": {},
   "outputs": [],
   "source": [
    "merge.rename(columns={\"description\": \"commodity_chapter_desc\"}, inplace=True)"
   ]
  },
  {
   "cell_type": "code",
   "execution_count": 25,
   "id": "20227047-7758-468d-bf46-a89f8040d182",
   "metadata": {},
   "outputs": [],
   "source": [
    "merge_df = pd.merge(\n",
    "    merge,\n",
    "    code_df[[\"code\", \"description\"]],\n",
    "    left_on=\"commodity_chapter_four\",\n",
    "    right_on=\"code\",\n",
    ")"
   ]
  },
  {
   "cell_type": "code",
   "execution_count": 26,
   "id": "b63f41d2-aa56-4fd1-a065-a87d3784d91c",
   "metadata": {},
   "outputs": [],
   "source": [
    "merge_df.drop([\"code\", \"level\"], axis=1, inplace=True)"
   ]
  },
  {
   "cell_type": "code",
   "execution_count": 27,
   "id": "334c3baa-d768-472f-bac7-95f541eb3509",
   "metadata": {},
   "outputs": [],
   "source": [
    "merge_df.rename(\n",
    "    columns={\n",
    "        \"description\": \"commodity_chapter_four_desc\",\n",
    "    },\n",
    "    inplace=True,\n",
    ")"
   ]
  },
  {
   "cell_type": "markdown",
   "id": "49e74b37-fd20-4780-8a28-8c643ede04c1",
   "metadata": {},
   "source": [
    "### Behold, a dataframe"
   ]
  },
  {
   "cell_type": "code",
   "execution_count": 28,
   "id": "6bb84641-6596-474e-b9c3-2ced4a42d963",
   "metadata": {},
   "outputs": [],
   "source": [
    "merged_df = merge_df[\n",
    "    [\n",
    "        \"year\",\n",
    "        \"registration_place_code\",\n",
    "        \"registration_place_name\",\n",
    "        \"trade_partner_code\",\n",
    "        \"trade_partner_name\",\n",
    "        \"commodity_code\",\n",
    "        \"commodity_chapter\",\n",
    "        \"commodity_chapter_desc\",\n",
    "        \"commodity_chapter_four\",\n",
    "        \"commodity_chapter_four_desc\",\n",
    "        \"first_unit_of_measure\",\n",
    "        \"second_quantity\",\n",
    "        \"second_unit_of_measure\",\n",
    "        \"us_dollar\",\n",
    "    ]\n",
    "].copy()"
   ]
  },
  {
   "cell_type": "code",
   "execution_count": 29,
   "id": "00e27966-17a5-4695-bc7a-0ecaf270fdd0",
   "metadata": {},
   "outputs": [],
   "source": [
    "df = pd.merge(merged_df, countries, on=[\"trade_partner_code\"])"
   ]
  },
  {
   "cell_type": "code",
   "execution_count": 30,
   "id": "a1a82b1c-9eb0-4f5e-9058-9c2b68c3ce24",
   "metadata": {},
   "outputs": [],
   "source": [
    "df = pd.merge(df, places, on=[\"registration_place_code\"])"
   ]
  },
  {
   "cell_type": "code",
   "execution_count": 31,
   "id": "64a3eca6-6eac-4189-8af9-9c31b0659c3c",
   "metadata": {},
   "outputs": [],
   "source": [
    "df.drop(\n",
    "    [\n",
    "        \"registration_place_name_x\",\n",
    "        \"trade_partner_code\",\n",
    "        \"registration_place_code\",\n",
    "        \"trade_partner_name_x\",\n",
    "        \"first_unit_of_measure\",\n",
    "        \"second_quantity\",\n",
    "        \"second_unit_of_measure\",\n",
    "    ],\n",
    "    axis=1,\n",
    "    inplace=True,\n",
    ")\n",
    "df.rename(\n",
    "    columns={\n",
    "        \"trade_partner_name_y\": \"exported_to\",\n",
    "        \"registration_place_name_y\": \"exported_from\",\n",
    "    },\n",
    "    inplace=True,\n",
    ")"
   ]
  },
  {
   "cell_type": "code",
   "execution_count": 32,
   "id": "f2d4fe1a-8807-4d9e-9687-81ef50ebd519",
   "metadata": {},
   "outputs": [],
   "source": [
    "df[\"exported_to\"] = df[\"exported_to\"].str.replace(\n",
    "    \"Russian Federation\", \"Russia\", regex=False\n",
    ")\n",
    "df[\"exported_to\"] = df[\"exported_to\"].str.replace(\n",
    "    \"Korea Rep.\", \"South Korea\", regex=False\n",
    ")\n",
    "\n",
    "df[\"exported_to\"] = df[\"exported_to\"].str.replace(\n",
    "    \"United States of America\", \"United States\", regex=False\n",
    ")\n",
    "df[\"exported_to\"] = df[\"exported_to\"].str.replace(\n",
    "    \"Syria Arab Republic\", \"Syria\", regex=False\n",
    ")"
   ]
  },
  {
   "cell_type": "markdown",
   "id": "021263e9-f74c-4244-8bc0-d648bc80e78a",
   "metadata": {},
   "source": [
    "---"
   ]
  },
  {
   "cell_type": "markdown",
   "id": "e2d52f76-7609-4a09-b10c-f1fc64650bd9",
   "metadata": {},
   "source": [
    "### Export"
   ]
  },
  {
   "cell_type": "code",
   "execution_count": 33,
   "id": "693bb524-29e8-4e47-bd6b-e5966d45bdb2",
   "metadata": {},
   "outputs": [],
   "source": [
    "df.to_csv(\"../data/processed/exports_xingjiang_all_countries.csv\", index=False)"
   ]
  }
 ],
 "metadata": {
  "kernelspec": {
   "display_name": "Python 3 (ipykernel)",
   "language": "python",
   "name": "python3"
  },
  "language_info": {
   "codemirror_mode": {
    "name": "ipython",
    "version": 3
   },
   "file_extension": ".py",
   "mimetype": "text/x-python",
   "name": "python",
   "nbconvert_exporter": "python",
   "pygments_lexer": "ipython3",
   "version": "3.8.9"
  }
 },
 "nbformat": 4,
 "nbformat_minor": 5
}
