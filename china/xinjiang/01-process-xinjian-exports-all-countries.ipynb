{
 "cells": [
  {
   "cell_type": "markdown",
   "id": "ca1de40a-2d7d-4119-b8b9-5ed1e9a3e7b3",
   "metadata": {
    "tags": []
   },
   "source": [
    "# Chinese exports by year, country and commodity"
   ]
  },
  {
   "cell_type": "markdown",
   "id": "7f12671b-1bda-4caa-817e-567f50b177e9",
   "metadata": {
    "tags": []
   },
   "source": [
    "### Import Python tools and Jupyter configuration"
   ]
  },
  {
   "cell_type": "code",
   "execution_count": 2,
   "id": "835f008f-fe55-4430-a270-6ec35ae84dfc",
   "metadata": {},
   "outputs": [],
   "source": [
    "%load_ext lab_black"
   ]
  },
  {
   "cell_type": "code",
   "execution_count": 3,
   "id": "f4145a4d-23f9-46b4-b4c9-52a3ba2ab2cb",
   "metadata": {},
   "outputs": [],
   "source": [
    "import pandas as pd\n",
    "import geopandas as gpd\n",
    "import altair as alt\n",
    "from datetime import timedelta\n",
    "import numpy as np\n",
    "import glob"
   ]
  },
  {
   "cell_type": "code",
   "execution_count": 4,
   "id": "be03bb9b-f4c5-4d4b-925c-9c4a1f531ac5",
   "metadata": {},
   "outputs": [],
   "source": [
    "pd.options.display.max_columns = 1000\n",
    "pd.options.display.max_rows = 1000\n",
    "pd.options.display.max_colwidth = None"
   ]
  },
  {
   "cell_type": "markdown",
   "id": "80cbf246-2244-4147-9a77-802dbf877ea3",
   "metadata": {},
   "source": [
    "---"
   ]
  },
  {
   "cell_type": "markdown",
   "id": "51517076-8333-4b0d-996c-67e62d2f6a2a",
   "metadata": {},
   "source": [
    "### Get commodity codes lookup"
   ]
  },
  {
   "cell_type": "code",
   "execution_count": 5,
   "id": "65ece739-595d-415e-bc5f-80b9f32a23db",
   "metadata": {},
   "outputs": [],
   "source": [
    "code_src = pd.read_csv(\n",
    "    \"https://raw.githubusercontent.com/datasets/harmonized-system/master/data/harmonized-system.csv\",\n",
    "    dtype={\"level\": str},\n",
    ")"
   ]
  },
  {
   "cell_type": "code",
   "execution_count": 6,
   "id": "22ba030a-8855-4d39-b589-d82e6269bfec",
   "metadata": {},
   "outputs": [],
   "source": [
    "code_df = code_src[(code_src[\"parent\"] == \"TOTAL\") | (code_src[\"level\"] == \"4\")][\n",
    "    [\"hscode\", \"description\", \"level\"]\n",
    "]"
   ]
  },
  {
   "cell_type": "code",
   "execution_count": 7,
   "id": "2d286da6-dfa1-4a33-821b-de0c3bcec8f9",
   "metadata": {},
   "outputs": [],
   "source": [
    "code_df.rename(columns={\"hscode\": \"code\"}, inplace=True)"
   ]
  },
  {
   "cell_type": "code",
   "execution_count": null,
   "id": "ecfc82a5-0271-4132-9e2d-7a3e5ef32c71",
   "metadata": {},
   "outputs": [],
   "source": []
  },
  {
   "cell_type": "markdown",
   "id": "a622794d-b743-4626-bbc2-4845106d1447",
   "metadata": {},
   "source": [
    "---"
   ]
  },
  {
   "cell_type": "markdown",
   "id": "044cf602-83cb-48b3-8c4b-ebcb8335434e",
   "metadata": {},
   "source": [
    "### Get country codes"
   ]
  },
  {
   "cell_type": "code",
   "execution_count": 35,
   "id": "8462f228-503b-409b-af4a-7371758a7311",
   "metadata": {},
   "outputs": [],
   "source": [
    "countries = pd.read_csv(\"../data/raw/TradingPartner.csv\", encoding=\"GBK\")"
   ]
  },
  {
   "cell_type": "code",
   "execution_count": 36,
   "id": "3a0aff99-3583-4540-b9c9-f29f583c5477",
   "metadata": {},
   "outputs": [],
   "source": [
    "countries.rename(\n",
    "    columns={\n",
    "        \"CODES\": \"trade_partner_code\",\n",
    "        \"DESCRIPTION\": \"trade_partner_name\",\n",
    "    },\n",
    "    inplace=True,\n",
    ")"
   ]
  },
  {
   "cell_type": "markdown",
   "id": "ba443ee3-ad49-42f1-99f8-0f9bae16ba36",
   "metadata": {},
   "source": [
    "### Get exporting provinces"
   ]
  },
  {
   "cell_type": "code",
   "execution_count": 37,
   "id": "88c36619-f15d-4ad3-bef3-91bbdf87a21b",
   "metadata": {},
   "outputs": [],
   "source": [
    "places = pd.read_csv(\"../data/raw/TradeCoPort.csv\", encoding=\"GBK\")"
   ]
  },
  {
   "cell_type": "code",
   "execution_count": 38,
   "id": "bd257aff-4841-4e79-b8da-7cbfedd894e7",
   "metadata": {},
   "outputs": [],
   "source": [
    "places.rename(\n",
    "    columns={\n",
    "        \"CODE\": \"registration_place_code\",\n",
    "        \"DESCRIPTION\": \"registration_place_name\",\n",
    "    },\n",
    "    inplace=True,\n",
    ")"
   ]
  },
  {
   "cell_type": "markdown",
   "id": "9d808067-2c64-4ef9-b1b9-3f2f75559883",
   "metadata": {},
   "source": [
    "---"
   ]
  },
  {
   "cell_type": "markdown",
   "id": "c7ba0b5d-b7d4-4829-b958-a03fd88fc7a6",
   "metadata": {},
   "source": [
    "### Read all the export CSVs"
   ]
  },
  {
   "cell_type": "code",
   "execution_count": 11,
   "id": "26dd5113-331f-4250-9200-3ac8db4aa307",
   "metadata": {},
   "outputs": [],
   "source": [
    "path = \"../data/raw/exports/all-countries/\"\n",
    "all_files = glob.glob(path + \"*.csv\")\n",
    "\n",
    "li = []\n",
    "\n",
    "for filename in all_files:\n",
    "    df = pd.read_csv(\n",
    "        filename,\n",
    "        encoding=\"GBK\",\n",
    "        dtype={\"数据年月\\t\": str, \"商品编码\\t\": str},\n",
    "    ).assign(year=filename)\n",
    "    li.append(df)"
   ]
  },
  {
   "cell_type": "markdown",
   "id": "644aee28-2510-4750-b4b6-a5ceefe95b80",
   "metadata": {},
   "source": [
    "### And concatenate them into one frame"
   ]
  },
  {
   "cell_type": "code",
   "execution_count": 12,
   "id": "e65e1c66-cbf0-4d7b-9d5c-53d328cba984",
   "metadata": {},
   "outputs": [],
   "source": [
    "raw = pd.concat(\n",
    "    li,\n",
    "    axis=0,\n",
    "    ignore_index=True,\n",
    ")"
   ]
  },
  {
   "cell_type": "markdown",
   "id": "a888f335-7488-4e34-9f98-119ef60734d2",
   "metadata": {},
   "source": [
    "### Clean up column headers"
   ]
  },
  {
   "cell_type": "code",
   "execution_count": 13,
   "id": "e1c676c8-b0ad-4cd4-83ec-4abce4f6e403",
   "metadata": {},
   "outputs": [],
   "source": [
    "raw.columns = (\n",
    "    raw.columns.str.replace(r\"\\t\", \"\", regex=True)\n",
    "    .str.replace(\" \", \"_\", regex=False)\n",
    "    .str.lower()\n",
    ")"
   ]
  },
  {
   "cell_type": "markdown",
   "id": "035b503c-5799-4413-aa5d-f0cdfb376b94",
   "metadata": {},
   "source": [
    "### Remove all the tabs in the rows/columns"
   ]
  },
  {
   "cell_type": "code",
   "execution_count": 14,
   "id": "ffbfec1e-7a09-4d62-b6e0-f6b4047ef8c0",
   "metadata": {},
   "outputs": [],
   "source": [
    "raw = raw.replace(r\"\\t\\t\", \"\", regex=True)"
   ]
  },
  {
   "cell_type": "markdown",
   "id": "c0ac5ec8-7f30-4282-a4bc-6f3468f721ab",
   "metadata": {},
   "source": [
    "### Rename colums "
   ]
  },
  {
   "cell_type": "code",
   "execution_count": 15,
   "id": "def97919-2ed2-4f51-8ed7-479b196586e0",
   "metadata": {},
   "outputs": [],
   "source": [
    "raw.rename(\n",
    "    columns={\n",
    "        \"数据年月\": \"date_of_data\",\n",
    "        \"商品编码\": \"commodity_code\",\n",
    "        \"商品名称\": \"commodity_name\",\n",
    "        \"贸易伙伴编码\": \"trade_partner_code\",\n",
    "        \"贸易伙伴名称\": \"trade_partner_name\",\n",
    "        \"注册地编码\": \"registration_place_code\",\n",
    "        \"注册地名称\": \"registration_place_name\",\n",
    "        \"第一数量\": \"first_quantity\",\n",
    "        \"第一计量单位\": \"first_unit_of_measure\",\n",
    "        \"第二数量\": \"second_quantity\",\n",
    "        \"第二计量单位\": \"second_unit_of_measure\",\n",
    "        \"美元\": \"us_dollar\",\n",
    "    },\n",
    "    inplace=True,\n",
    ")"
   ]
  },
  {
   "cell_type": "code",
   "execution_count": 16,
   "id": "e6cdcd79-0831-4ed4-90c2-513979a1d6b0",
   "metadata": {},
   "outputs": [],
   "source": [
    "raw[\"year\"] = (\n",
    "    raw[\"year\"]\n",
    "    .str.replace(\n",
    "        \"../data/raw/exports/all-countries/XJ exports to all countries\", \"\", regex=False\n",
    "    )\n",
    "    .str.replace(\"Chinese raw .csv\", \"\", regex=False)\n",
    "    .str.replace(\n",
    "        \"../data/raw/exports/all-countries/XJ exports to all countries\", \"\", regex=False\n",
    "    )\n",
    "    .str.replace(\"Chinese raw.csv\", \"\", regex=False)\n",
    ")"
   ]
  },
  {
   "cell_type": "markdown",
   "id": "cb3923db-dc9c-4f52-9a6d-bba1143d3d37",
   "metadata": {},
   "source": [
    "### Create commodity code columns based on slices of others"
   ]
  },
  {
   "cell_type": "code",
   "execution_count": 17,
   "id": "91a5ccc5-522d-4a0a-b69d-a8bdfaa125bf",
   "metadata": {},
   "outputs": [],
   "source": [
    "raw[\"commodity_chapter\"] = raw[\"commodity_code\"].str[:2]\n",
    "raw[\"commodity_chapter_four\"] = raw[\"commodity_code\"].str[:4]"
   ]
  },
  {
   "cell_type": "code",
   "execution_count": 18,
   "id": "9f3b9b06-5996-43c9-9e46-3019157d113a",
   "metadata": {},
   "outputs": [],
   "source": [
    "raw[\"us_dollar\"] = raw[\"us_dollar\"].str.replace(\",\", \"\", regex=False).astype(int)"
   ]
  },
  {
   "cell_type": "markdown",
   "id": "c7aba015-8776-4e82-bc84-94f2611489d8",
   "metadata": {},
   "source": [
    "### Merge the commodity codes with our export data and remove columns we don't need"
   ]
  },
  {
   "cell_type": "code",
   "execution_count": 19,
   "id": "d431b0b8-cd71-4600-b3ac-bf7eda75a73f",
   "metadata": {},
   "outputs": [],
   "source": [
    "merge = raw.merge(code_df, left_on=\"commodity_chapter\", right_on=\"code\")"
   ]
  },
  {
   "cell_type": "code",
   "execution_count": 20,
   "id": "03d4fed7-9710-48d2-a024-742273fc9a24",
   "metadata": {},
   "outputs": [
    {
     "data": {
      "text/html": [
       "<div>\n",
       "<style scoped>\n",
       "    .dataframe tbody tr th:only-of-type {\n",
       "        vertical-align: middle;\n",
       "    }\n",
       "\n",
       "    .dataframe tbody tr th {\n",
       "        vertical-align: top;\n",
       "    }\n",
       "\n",
       "    .dataframe thead th {\n",
       "        text-align: right;\n",
       "    }\n",
       "</style>\n",
       "<table border=\"1\" class=\"dataframe\">\n",
       "  <thead>\n",
       "    <tr style=\"text-align: right;\">\n",
       "      <th></th>\n",
       "      <th>registration_place_code</th>\n",
       "      <th>registration_place_name</th>\n",
       "      <th>trade_partner_code</th>\n",
       "      <th>trade_partner_name</th>\n",
       "      <th>commodity_code</th>\n",
       "      <th>commodity_name</th>\n",
       "      <th>first_quantity</th>\n",
       "      <th>first_unit_of_measure</th>\n",
       "      <th>second_quantity</th>\n",
       "      <th>second_unit_of_measure</th>\n",
       "      <th>us_dollar</th>\n",
       "      <th>unnamed:_11</th>\n",
       "      <th>year</th>\n",
       "      <th>commodity_chapter</th>\n",
       "      <th>commodity_chapter_four</th>\n",
       "      <th>code</th>\n",
       "      <th>description</th>\n",
       "      <th>level</th>\n",
       "    </tr>\n",
       "  </thead>\n",
       "  <tbody>\n",
       "    <tr>\n",
       "      <th>0</th>\n",
       "      <td>65</td>\n",
       "      <td>新疆维吾尔自治区</td>\n",
       "      <td>146</td>\n",
       "      <td>吉尔吉斯斯坦</td>\n",
       "      <td>02074500</td>\n",
       "      <td>冻的鸭块及杂碎</td>\n",
       "      <td>864000</td>\n",
       "      <td>千克</td>\n",
       "      <td>0</td>\n",
       "      <td>?</td>\n",
       "      <td>1113600</td>\n",
       "      <td>NaN</td>\n",
       "      <td>2020</td>\n",
       "      <td>02</td>\n",
       "      <td>0207</td>\n",
       "      <td>02</td>\n",
       "      <td>Meat and edible meat offal</td>\n",
       "      <td>2</td>\n",
       "    </tr>\n",
       "  </tbody>\n",
       "</table>\n",
       "</div>"
      ],
      "text/plain": [
       "   registration_place_code registration_place_name  trade_partner_code  \\\n",
       "0                       65                新疆维吾尔自治区                 146   \n",
       "\n",
       "  trade_partner_name commodity_code commodity_name  first_quantity  \\\n",
       "0             吉尔吉斯斯坦       02074500        冻的鸭块及杂碎          864000   \n",
       "\n",
       "  first_unit_of_measure  second_quantity second_unit_of_measure  us_dollar  \\\n",
       "0                    千克                0                      ?    1113600   \n",
       "\n",
       "   unnamed:_11    year commodity_chapter commodity_chapter_four code  \\\n",
       "0          NaN   2020                 02                   0207   02   \n",
       "\n",
       "                  description level  \n",
       "0  Meat and edible meat offal     2  "
      ]
     },
     "execution_count": 20,
     "metadata": {},
     "output_type": "execute_result"
    }
   ],
   "source": [
    "merge.head(1)"
   ]
  },
  {
   "cell_type": "code",
   "execution_count": 21,
   "id": "bb603fa0-617a-40cf-9b0d-1868baf4c9a0",
   "metadata": {},
   "outputs": [],
   "source": [
    "merge.drop(\n",
    "    [\n",
    "        \"commodity_name\",\n",
    "        \"unnamed:_11\",\n",
    "        \"code\",\n",
    "    ],\n",
    "    axis=1,\n",
    "    inplace=True,\n",
    ")"
   ]
  },
  {
   "cell_type": "code",
   "execution_count": 22,
   "id": "c34e7aa0-9c2b-4ed0-8caf-2fc606fbc473",
   "metadata": {},
   "outputs": [],
   "source": [
    "merge.rename(columns={\"description\": \"commodity_chapter_desc\"}, inplace=True)"
   ]
  },
  {
   "cell_type": "code",
   "execution_count": 23,
   "id": "0d6796ba-2d9a-4d9f-a47b-a1b8e235b34f",
   "metadata": {},
   "outputs": [
    {
     "data": {
      "text/html": [
       "<div>\n",
       "<style scoped>\n",
       "    .dataframe tbody tr th:only-of-type {\n",
       "        vertical-align: middle;\n",
       "    }\n",
       "\n",
       "    .dataframe tbody tr th {\n",
       "        vertical-align: top;\n",
       "    }\n",
       "\n",
       "    .dataframe thead th {\n",
       "        text-align: right;\n",
       "    }\n",
       "</style>\n",
       "<table border=\"1\" class=\"dataframe\">\n",
       "  <thead>\n",
       "    <tr style=\"text-align: right;\">\n",
       "      <th></th>\n",
       "      <th>registration_place_code</th>\n",
       "      <th>registration_place_name</th>\n",
       "      <th>trade_partner_code</th>\n",
       "      <th>trade_partner_name</th>\n",
       "      <th>commodity_code</th>\n",
       "      <th>first_quantity</th>\n",
       "      <th>first_unit_of_measure</th>\n",
       "      <th>second_quantity</th>\n",
       "      <th>second_unit_of_measure</th>\n",
       "      <th>us_dollar</th>\n",
       "      <th>year</th>\n",
       "      <th>commodity_chapter</th>\n",
       "      <th>commodity_chapter_four</th>\n",
       "      <th>commodity_chapter_desc</th>\n",
       "      <th>level</th>\n",
       "    </tr>\n",
       "  </thead>\n",
       "  <tbody>\n",
       "    <tr>\n",
       "      <th>0</th>\n",
       "      <td>65</td>\n",
       "      <td>新疆维吾尔自治区</td>\n",
       "      <td>146</td>\n",
       "      <td>吉尔吉斯斯坦</td>\n",
       "      <td>02074500</td>\n",
       "      <td>864000</td>\n",
       "      <td>千克</td>\n",
       "      <td>0</td>\n",
       "      <td>?</td>\n",
       "      <td>1113600</td>\n",
       "      <td>2020</td>\n",
       "      <td>02</td>\n",
       "      <td>0207</td>\n",
       "      <td>Meat and edible meat offal</td>\n",
       "      <td>2</td>\n",
       "    </tr>\n",
       "    <tr>\n",
       "      <th>1</th>\n",
       "      <td>65</td>\n",
       "      <td>新疆维吾尔自治区</td>\n",
       "      <td>146</td>\n",
       "      <td>吉尔吉斯斯坦</td>\n",
       "      <td>02074500</td>\n",
       "      <td>372000</td>\n",
       "      <td>千克</td>\n",
       "      <td>0</td>\n",
       "      <td>?</td>\n",
       "      <td>717456</td>\n",
       "      <td>2021</td>\n",
       "      <td>02</td>\n",
       "      <td>0207</td>\n",
       "      <td>Meat and edible meat offal</td>\n",
       "      <td>2</td>\n",
       "    </tr>\n",
       "    <tr>\n",
       "      <th>2</th>\n",
       "      <td>65</td>\n",
       "      <td>新疆维吾尔自治区</td>\n",
       "      <td>116</td>\n",
       "      <td>日本</td>\n",
       "      <td>03038990</td>\n",
       "      <td>163180</td>\n",
       "      <td>千克</td>\n",
       "      <td>0</td>\n",
       "      <td>?</td>\n",
       "      <td>453681</td>\n",
       "      <td>2020</td>\n",
       "      <td>03</td>\n",
       "      <td>0303</td>\n",
       "      <td>Fish and crustaceans, molluscs and other aquatic invertebrates</td>\n",
       "      <td>2</td>\n",
       "    </tr>\n",
       "    <tr>\n",
       "      <th>3</th>\n",
       "      <td>65</td>\n",
       "      <td>新疆维吾尔自治区</td>\n",
       "      <td>116</td>\n",
       "      <td>日本</td>\n",
       "      <td>03038990</td>\n",
       "      <td>5000</td>\n",
       "      <td>千克</td>\n",
       "      <td>0</td>\n",
       "      <td>?</td>\n",
       "      <td>15718</td>\n",
       "      <td>2021</td>\n",
       "      <td>03</td>\n",
       "      <td>0303</td>\n",
       "      <td>Fish and crustaceans, molluscs and other aquatic invertebrates</td>\n",
       "      <td>2</td>\n",
       "    </tr>\n",
       "    <tr>\n",
       "      <th>4</th>\n",
       "      <td>65</td>\n",
       "      <td>新疆维吾尔自治区</td>\n",
       "      <td>330</td>\n",
       "      <td>瑞典</td>\n",
       "      <td>03039100</td>\n",
       "      <td>6000</td>\n",
       "      <td>千克</td>\n",
       "      <td>0</td>\n",
       "      <td>?</td>\n",
       "      <td>150242</td>\n",
       "      <td>2021</td>\n",
       "      <td>03</td>\n",
       "      <td>0303</td>\n",
       "      <td>Fish and crustaceans, molluscs and other aquatic invertebrates</td>\n",
       "      <td>2</td>\n",
       "    </tr>\n",
       "  </tbody>\n",
       "</table>\n",
       "</div>"
      ],
      "text/plain": [
       "   registration_place_code registration_place_name  trade_partner_code  \\\n",
       "0                       65                新疆维吾尔自治区                 146   \n",
       "1                       65                新疆维吾尔自治区                 146   \n",
       "2                       65                新疆维吾尔自治区                 116   \n",
       "3                       65                新疆维吾尔自治区                 116   \n",
       "4                       65                新疆维吾尔自治区                 330   \n",
       "\n",
       "  trade_partner_name commodity_code  first_quantity first_unit_of_measure  \\\n",
       "0             吉尔吉斯斯坦       02074500          864000                    千克   \n",
       "1             吉尔吉斯斯坦       02074500          372000                    千克   \n",
       "2                 日本       03038990          163180                    千克   \n",
       "3                 日本       03038990            5000                    千克   \n",
       "4                 瑞典       03039100            6000                    千克   \n",
       "\n",
       "   second_quantity second_unit_of_measure  us_dollar    year  \\\n",
       "0                0                      ?    1113600   2020    \n",
       "1                0                      ?     717456   2021    \n",
       "2                0                      ?     453681   2020    \n",
       "3                0                      ?      15718   2021    \n",
       "4                0                      ?     150242   2021    \n",
       "\n",
       "  commodity_chapter commodity_chapter_four  \\\n",
       "0                02                   0207   \n",
       "1                02                   0207   \n",
       "2                03                   0303   \n",
       "3                03                   0303   \n",
       "4                03                   0303   \n",
       "\n",
       "                                           commodity_chapter_desc level  \n",
       "0                                      Meat and edible meat offal     2  \n",
       "1                                      Meat and edible meat offal     2  \n",
       "2  Fish and crustaceans, molluscs and other aquatic invertebrates     2  \n",
       "3  Fish and crustaceans, molluscs and other aquatic invertebrates     2  \n",
       "4  Fish and crustaceans, molluscs and other aquatic invertebrates     2  "
      ]
     },
     "execution_count": 23,
     "metadata": {},
     "output_type": "execute_result"
    }
   ],
   "source": [
    "merge.head()"
   ]
  },
  {
   "cell_type": "markdown",
   "id": "49e74b37-fd20-4780-8a28-8c643ede04c1",
   "metadata": {},
   "source": [
    "### Behold, a dataframe"
   ]
  },
  {
   "cell_type": "code",
   "execution_count": 24,
   "id": "6bb84641-6596-474e-b9c3-2ced4a42d963",
   "metadata": {},
   "outputs": [],
   "source": [
    "merged_df = merge[\n",
    "    [\n",
    "        \"year\",\n",
    "        \"registration_place_code\",\n",
    "        \"registration_place_name\",\n",
    "        \"trade_partner_code\",\n",
    "        \"trade_partner_name\",\n",
    "        \"commodity_code\",\n",
    "        \"commodity_chapter\",\n",
    "        \"commodity_chapter_four\",\n",
    "        \"commodity_chapter_desc\",\n",
    "        \"first_unit_of_measure\",\n",
    "        \"second_quantity\",\n",
    "        \"second_unit_of_measure\",\n",
    "        \"us_dollar\",\n",
    "    ]\n",
    "].copy()"
   ]
  },
  {
   "cell_type": "code",
   "execution_count": 25,
   "id": "00e27966-17a5-4695-bc7a-0ecaf270fdd0",
   "metadata": {},
   "outputs": [],
   "source": [
    "df = pd.merge(merged_df, countries, on=[\"trade_partner_code\"])"
   ]
  },
  {
   "cell_type": "code",
   "execution_count": 26,
   "id": "5ae23b04-caaa-4cef-84df-48e010ac8d49",
   "metadata": {},
   "outputs": [],
   "source": [
    "df = pd.merge(df, places, on=[\"registration_place_code\"])"
   ]
  },
  {
   "cell_type": "code",
   "execution_count": 27,
   "id": "59e317b3-a9fc-4246-9e01-bf91e7cdb37b",
   "metadata": {},
   "outputs": [
    {
     "data": {
      "text/html": [
       "<div>\n",
       "<style scoped>\n",
       "    .dataframe tbody tr th:only-of-type {\n",
       "        vertical-align: middle;\n",
       "    }\n",
       "\n",
       "    .dataframe tbody tr th {\n",
       "        vertical-align: top;\n",
       "    }\n",
       "\n",
       "    .dataframe thead th {\n",
       "        text-align: right;\n",
       "    }\n",
       "</style>\n",
       "<table border=\"1\" class=\"dataframe\">\n",
       "  <thead>\n",
       "    <tr style=\"text-align: right;\">\n",
       "      <th></th>\n",
       "      <th>year</th>\n",
       "      <th>registration_place_code</th>\n",
       "      <th>registration_place_name_x</th>\n",
       "      <th>trade_partner_code</th>\n",
       "      <th>trade_partner_name_x</th>\n",
       "      <th>commodity_code</th>\n",
       "      <th>commodity_chapter</th>\n",
       "      <th>commodity_chapter_four</th>\n",
       "      <th>commodity_chapter_desc</th>\n",
       "      <th>first_unit_of_measure</th>\n",
       "      <th>second_quantity</th>\n",
       "      <th>second_unit_of_measure</th>\n",
       "      <th>us_dollar</th>\n",
       "      <th>trade_partner_name_y</th>\n",
       "      <th>registration_place_name_y</th>\n",
       "    </tr>\n",
       "  </thead>\n",
       "  <tbody>\n",
       "    <tr>\n",
       "      <th>0</th>\n",
       "      <td>2020</td>\n",
       "      <td>65</td>\n",
       "      <td>新疆维吾尔自治区</td>\n",
       "      <td>146</td>\n",
       "      <td>吉尔吉斯斯坦</td>\n",
       "      <td>02074500</td>\n",
       "      <td>02</td>\n",
       "      <td>0207</td>\n",
       "      <td>Meat and edible meat offal</td>\n",
       "      <td>千克</td>\n",
       "      <td>0</td>\n",
       "      <td>?</td>\n",
       "      <td>1113600</td>\n",
       "      <td>Kyrgyzstan</td>\n",
       "      <td>Xingjiang Uygur</td>\n",
       "    </tr>\n",
       "    <tr>\n",
       "      <th>1</th>\n",
       "      <td>2021</td>\n",
       "      <td>65</td>\n",
       "      <td>新疆维吾尔自治区</td>\n",
       "      <td>146</td>\n",
       "      <td>吉尔吉斯斯坦</td>\n",
       "      <td>02074500</td>\n",
       "      <td>02</td>\n",
       "      <td>0207</td>\n",
       "      <td>Meat and edible meat offal</td>\n",
       "      <td>千克</td>\n",
       "      <td>0</td>\n",
       "      <td>?</td>\n",
       "      <td>717456</td>\n",
       "      <td>Kyrgyzstan</td>\n",
       "      <td>Xingjiang Uygur</td>\n",
       "    </tr>\n",
       "    <tr>\n",
       "      <th>2</th>\n",
       "      <td>2020</td>\n",
       "      <td>65</td>\n",
       "      <td>新疆维吾尔自治区</td>\n",
       "      <td>146</td>\n",
       "      <td>吉尔吉斯斯坦</td>\n",
       "      <td>07019000</td>\n",
       "      <td>07</td>\n",
       "      <td>0701</td>\n",
       "      <td>Vegetables and certain roots and tubers; edible</td>\n",
       "      <td>千克</td>\n",
       "      <td>0</td>\n",
       "      <td>?</td>\n",
       "      <td>8760</td>\n",
       "      <td>Kyrgyzstan</td>\n",
       "      <td>Xingjiang Uygur</td>\n",
       "    </tr>\n",
       "    <tr>\n",
       "      <th>3</th>\n",
       "      <td>2020</td>\n",
       "      <td>65</td>\n",
       "      <td>新疆维吾尔自治区</td>\n",
       "      <td>146</td>\n",
       "      <td>吉尔吉斯斯坦</td>\n",
       "      <td>07020000</td>\n",
       "      <td>07</td>\n",
       "      <td>0702</td>\n",
       "      <td>Vegetables and certain roots and tubers; edible</td>\n",
       "      <td>千克</td>\n",
       "      <td>0</td>\n",
       "      <td>?</td>\n",
       "      <td>73121</td>\n",
       "      <td>Kyrgyzstan</td>\n",
       "      <td>Xingjiang Uygur</td>\n",
       "    </tr>\n",
       "    <tr>\n",
       "      <th>4</th>\n",
       "      <td>2020</td>\n",
       "      <td>65</td>\n",
       "      <td>新疆维吾尔自治区</td>\n",
       "      <td>146</td>\n",
       "      <td>吉尔吉斯斯坦</td>\n",
       "      <td>07032010</td>\n",
       "      <td>07</td>\n",
       "      <td>0703</td>\n",
       "      <td>Vegetables and certain roots and tubers; edible</td>\n",
       "      <td>千克</td>\n",
       "      <td>0</td>\n",
       "      <td>?</td>\n",
       "      <td>3206533</td>\n",
       "      <td>Kyrgyzstan</td>\n",
       "      <td>Xingjiang Uygur</td>\n",
       "    </tr>\n",
       "  </tbody>\n",
       "</table>\n",
       "</div>"
      ],
      "text/plain": [
       "     year  registration_place_code registration_place_name_x  \\\n",
       "0   2020                        65                  新疆维吾尔自治区   \n",
       "1   2021                        65                  新疆维吾尔自治区   \n",
       "2   2020                        65                  新疆维吾尔自治区   \n",
       "3   2020                        65                  新疆维吾尔自治区   \n",
       "4   2020                        65                  新疆维吾尔自治区   \n",
       "\n",
       "   trade_partner_code trade_partner_name_x commodity_code commodity_chapter  \\\n",
       "0                 146               吉尔吉斯斯坦       02074500                02   \n",
       "1                 146               吉尔吉斯斯坦       02074500                02   \n",
       "2                 146               吉尔吉斯斯坦       07019000                07   \n",
       "3                 146               吉尔吉斯斯坦       07020000                07   \n",
       "4                 146               吉尔吉斯斯坦       07032010                07   \n",
       "\n",
       "  commodity_chapter_four                           commodity_chapter_desc  \\\n",
       "0                   0207                       Meat and edible meat offal   \n",
       "1                   0207                       Meat and edible meat offal   \n",
       "2                   0701  Vegetables and certain roots and tubers; edible   \n",
       "3                   0702  Vegetables and certain roots and tubers; edible   \n",
       "4                   0703  Vegetables and certain roots and tubers; edible   \n",
       "\n",
       "  first_unit_of_measure  second_quantity second_unit_of_measure  us_dollar  \\\n",
       "0                    千克                0                      ?    1113600   \n",
       "1                    千克                0                      ?     717456   \n",
       "2                    千克                0                      ?       8760   \n",
       "3                    千克                0                      ?      73121   \n",
       "4                    千克                0                      ?    3206533   \n",
       "\n",
       "  trade_partner_name_y registration_place_name_y  \n",
       "0           Kyrgyzstan           Xingjiang Uygur  \n",
       "1           Kyrgyzstan           Xingjiang Uygur  \n",
       "2           Kyrgyzstan           Xingjiang Uygur  \n",
       "3           Kyrgyzstan           Xingjiang Uygur  \n",
       "4           Kyrgyzstan           Xingjiang Uygur  "
      ]
     },
     "execution_count": 27,
     "metadata": {},
     "output_type": "execute_result"
    }
   ],
   "source": [
    "df.head()"
   ]
  },
  {
   "cell_type": "code",
   "execution_count": 28,
   "id": "eb7f9487-2d3b-4d2b-89db-b4bb527aba0c",
   "metadata": {},
   "outputs": [],
   "source": [
    "df.drop(\n",
    "    [\n",
    "        \"registration_place_name_x\",\n",
    "        \"trade_partner_name_x\",\n",
    "        \"trade_partner_code\",\n",
    "        \"registration_place_code\",\n",
    "        \"first_unit_of_measure\",\n",
    "        \"second_quantity\",\n",
    "        \"second_unit_of_measure\",\n",
    "    ],\n",
    "    axis=1,\n",
    "    inplace=True,\n",
    ")"
   ]
  },
  {
   "cell_type": "code",
   "execution_count": 29,
   "id": "4e29b3ba-f74b-4b01-9c45-ba7bc7abb4fe",
   "metadata": {},
   "outputs": [],
   "source": [
    "df.rename(\n",
    "    columns={\n",
    "        \"trade_partner_name_y\": \"exported_to\",\n",
    "        \"registration_place_name_y\": \"exported_from\",\n",
    "    },\n",
    "    inplace=True,\n",
    ")"
   ]
  },
  {
   "cell_type": "code",
   "execution_count": 30,
   "id": "f2d4fe1a-8807-4d9e-9687-81ef50ebd519",
   "metadata": {},
   "outputs": [
    {
     "data": {
      "text/html": [
       "<div>\n",
       "<style scoped>\n",
       "    .dataframe tbody tr th:only-of-type {\n",
       "        vertical-align: middle;\n",
       "    }\n",
       "\n",
       "    .dataframe tbody tr th {\n",
       "        vertical-align: top;\n",
       "    }\n",
       "\n",
       "    .dataframe thead th {\n",
       "        text-align: right;\n",
       "    }\n",
       "</style>\n",
       "<table border=\"1\" class=\"dataframe\">\n",
       "  <thead>\n",
       "    <tr style=\"text-align: right;\">\n",
       "      <th></th>\n",
       "      <th>year</th>\n",
       "      <th>commodity_code</th>\n",
       "      <th>commodity_chapter</th>\n",
       "      <th>commodity_chapter_four</th>\n",
       "      <th>commodity_chapter_desc</th>\n",
       "      <th>us_dollar</th>\n",
       "      <th>exported_to</th>\n",
       "      <th>exported_from</th>\n",
       "    </tr>\n",
       "  </thead>\n",
       "  <tbody>\n",
       "    <tr>\n",
       "      <th>0</th>\n",
       "      <td>2020</td>\n",
       "      <td>02074500</td>\n",
       "      <td>02</td>\n",
       "      <td>0207</td>\n",
       "      <td>Meat and edible meat offal</td>\n",
       "      <td>1113600</td>\n",
       "      <td>Kyrgyzstan</td>\n",
       "      <td>Xingjiang Uygur</td>\n",
       "    </tr>\n",
       "    <tr>\n",
       "      <th>1</th>\n",
       "      <td>2021</td>\n",
       "      <td>02074500</td>\n",
       "      <td>02</td>\n",
       "      <td>0207</td>\n",
       "      <td>Meat and edible meat offal</td>\n",
       "      <td>717456</td>\n",
       "      <td>Kyrgyzstan</td>\n",
       "      <td>Xingjiang Uygur</td>\n",
       "    </tr>\n",
       "    <tr>\n",
       "      <th>2</th>\n",
       "      <td>2020</td>\n",
       "      <td>07019000</td>\n",
       "      <td>07</td>\n",
       "      <td>0701</td>\n",
       "      <td>Vegetables and certain roots and tubers; edible</td>\n",
       "      <td>8760</td>\n",
       "      <td>Kyrgyzstan</td>\n",
       "      <td>Xingjiang Uygur</td>\n",
       "    </tr>\n",
       "    <tr>\n",
       "      <th>3</th>\n",
       "      <td>2020</td>\n",
       "      <td>07020000</td>\n",
       "      <td>07</td>\n",
       "      <td>0702</td>\n",
       "      <td>Vegetables and certain roots and tubers; edible</td>\n",
       "      <td>73121</td>\n",
       "      <td>Kyrgyzstan</td>\n",
       "      <td>Xingjiang Uygur</td>\n",
       "    </tr>\n",
       "    <tr>\n",
       "      <th>4</th>\n",
       "      <td>2020</td>\n",
       "      <td>07032010</td>\n",
       "      <td>07</td>\n",
       "      <td>0703</td>\n",
       "      <td>Vegetables and certain roots and tubers; edible</td>\n",
       "      <td>3206533</td>\n",
       "      <td>Kyrgyzstan</td>\n",
       "      <td>Xingjiang Uygur</td>\n",
       "    </tr>\n",
       "  </tbody>\n",
       "</table>\n",
       "</div>"
      ],
      "text/plain": [
       "     year commodity_code commodity_chapter commodity_chapter_four  \\\n",
       "0   2020        02074500                02                   0207   \n",
       "1   2021        02074500                02                   0207   \n",
       "2   2020        07019000                07                   0701   \n",
       "3   2020        07020000                07                   0702   \n",
       "4   2020        07032010                07                   0703   \n",
       "\n",
       "                            commodity_chapter_desc  us_dollar exported_to  \\\n",
       "0                       Meat and edible meat offal    1113600  Kyrgyzstan   \n",
       "1                       Meat and edible meat offal     717456  Kyrgyzstan   \n",
       "2  Vegetables and certain roots and tubers; edible       8760  Kyrgyzstan   \n",
       "3  Vegetables and certain roots and tubers; edible      73121  Kyrgyzstan   \n",
       "4  Vegetables and certain roots and tubers; edible    3206533  Kyrgyzstan   \n",
       "\n",
       "     exported_from  \n",
       "0  Xingjiang Uygur  \n",
       "1  Xingjiang Uygur  \n",
       "2  Xingjiang Uygur  \n",
       "3  Xingjiang Uygur  \n",
       "4  Xingjiang Uygur  "
      ]
     },
     "execution_count": 30,
     "metadata": {},
     "output_type": "execute_result"
    }
   ],
   "source": [
    "df.head()"
   ]
  },
  {
   "cell_type": "markdown",
   "id": "021263e9-f74c-4244-8bc0-d648bc80e78a",
   "metadata": {},
   "source": [
    "---"
   ]
  },
  {
   "cell_type": "markdown",
   "id": "e2d52f76-7609-4a09-b10c-f1fc64650bd9",
   "metadata": {},
   "source": [
    "### Export"
   ]
  },
  {
   "cell_type": "code",
   "execution_count": 31,
   "id": "693bb524-29e8-4e47-bd6b-e5966d45bdb2",
   "metadata": {},
   "outputs": [],
   "source": [
    "df.to_csv(\"../data/processed/exports_xingjiang_all_countries.csv\", index=False)"
   ]
  }
 ],
 "metadata": {
  "kernelspec": {
   "display_name": "Python 3 (ipykernel)",
   "language": "python",
   "name": "python3"
  },
  "language_info": {
   "codemirror_mode": {
    "name": "ipython",
    "version": 3
   },
   "file_extension": ".py",
   "mimetype": "text/x-python",
   "name": "python",
   "nbconvert_exporter": "python",
   "pygments_lexer": "ipython3",
   "version": "3.8.9"
  }
 },
 "nbformat": 4,
 "nbformat_minor": 5
}
