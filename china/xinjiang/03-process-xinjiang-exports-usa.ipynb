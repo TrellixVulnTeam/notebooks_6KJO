{
 "cells": [
  {
   "cell_type": "markdown",
   "id": "ca1de40a-2d7d-4119-b8b9-5ed1e9a3e7b3",
   "metadata": {
    "tags": []
   },
   "source": [
    "# Read and process Xinjiang exports"
   ]
  },
  {
   "cell_type": "markdown",
   "id": "7f12671b-1bda-4caa-817e-567f50b177e9",
   "metadata": {
    "tags": []
   },
   "source": [
    "### Import Python tools and Jupyter configuration"
   ]
  },
  {
   "cell_type": "code",
   "execution_count": 1,
   "id": "835f008f-fe55-4430-a270-6ec35ae84dfc",
   "metadata": {},
   "outputs": [],
   "source": [
    "%load_ext lab_black"
   ]
  },
  {
   "cell_type": "code",
   "execution_count": 2,
   "id": "f4145a4d-23f9-46b4-b4c9-52a3ba2ab2cb",
   "metadata": {},
   "outputs": [],
   "source": [
    "import pandas as pd\n",
    "import geopandas as gpd\n",
    "import altair as alt\n",
    "import numpy as np\n",
    "import glob"
   ]
  },
  {
   "cell_type": "code",
   "execution_count": 3,
   "id": "be03bb9b-f4c5-4d4b-925c-9c4a1f531ac5",
   "metadata": {},
   "outputs": [],
   "source": [
    "pd.options.display.max_columns = 1000\n",
    "pd.options.display.max_rows = 1000\n",
    "pd.options.display.max_colwidth = None"
   ]
  },
  {
   "cell_type": "markdown",
   "id": "80cbf246-2244-4147-9a77-802dbf877ea3",
   "metadata": {},
   "source": [
    "---"
   ]
  },
  {
   "cell_type": "markdown",
   "id": "a81ff8ed-d520-4819-a327-e588e6b181c0",
   "metadata": {},
   "source": [
    "### Get commodity codes lookup"
   ]
  },
  {
   "cell_type": "code",
   "execution_count": 4,
   "id": "323a1514-d567-4bc0-b712-f0dc622b21c1",
   "metadata": {},
   "outputs": [],
   "source": [
    "# china_codes = pd.read_csv(\n",
    "#     \"../data/raw/Commodity.csv\",\n",
    "#     encoding=\"GBK\",\n",
    "# )"
   ]
  },
  {
   "cell_type": "code",
   "execution_count": 5,
   "id": "65ece739-595d-415e-bc5f-80b9f32a23db",
   "metadata": {},
   "outputs": [],
   "source": [
    "code_src = pd.read_csv(\n",
    "    \"https://raw.githubusercontent.com/datasets/harmonized-system/master/data/harmonized-system.csv\",\n",
    "    dtype={\"level\": str},\n",
    ")"
   ]
  },
  {
   "cell_type": "code",
   "execution_count": 6,
   "id": "922afb59-48f5-4cab-8901-dc43c5a4e1bc",
   "metadata": {},
   "outputs": [
    {
     "data": {
      "text/html": [
       "<div>\n",
       "<style scoped>\n",
       "    .dataframe tbody tr th:only-of-type {\n",
       "        vertical-align: middle;\n",
       "    }\n",
       "\n",
       "    .dataframe tbody tr th {\n",
       "        vertical-align: top;\n",
       "    }\n",
       "\n",
       "    .dataframe thead th {\n",
       "        text-align: right;\n",
       "    }\n",
       "</style>\n",
       "<table border=\"1\" class=\"dataframe\">\n",
       "  <thead>\n",
       "    <tr style=\"text-align: right;\">\n",
       "      <th></th>\n",
       "      <th>section</th>\n",
       "      <th>hscode</th>\n",
       "      <th>description</th>\n",
       "      <th>parent</th>\n",
       "      <th>level</th>\n",
       "    </tr>\n",
       "  </thead>\n",
       "  <tbody>\n",
       "    <tr>\n",
       "      <th>0</th>\n",
       "      <td>I</td>\n",
       "      <td>01</td>\n",
       "      <td>Animals; live</td>\n",
       "      <td>TOTAL</td>\n",
       "      <td>2</td>\n",
       "    </tr>\n",
       "    <tr>\n",
       "      <th>1</th>\n",
       "      <td>I</td>\n",
       "      <td>0101</td>\n",
       "      <td>Horses, asses, mules and hinnies; live</td>\n",
       "      <td>01</td>\n",
       "      <td>4</td>\n",
       "    </tr>\n",
       "    <tr>\n",
       "      <th>2</th>\n",
       "      <td>I</td>\n",
       "      <td>010121</td>\n",
       "      <td>Horses; live, pure-bred breeding animals</td>\n",
       "      <td>0101</td>\n",
       "      <td>6</td>\n",
       "    </tr>\n",
       "    <tr>\n",
       "      <th>3</th>\n",
       "      <td>I</td>\n",
       "      <td>010129</td>\n",
       "      <td>Horses; live, other than pure-bred breeding animals</td>\n",
       "      <td>0101</td>\n",
       "      <td>6</td>\n",
       "    </tr>\n",
       "    <tr>\n",
       "      <th>4</th>\n",
       "      <td>I</td>\n",
       "      <td>010130</td>\n",
       "      <td>Asses; live</td>\n",
       "      <td>0101</td>\n",
       "      <td>6</td>\n",
       "    </tr>\n",
       "    <tr>\n",
       "      <th>5</th>\n",
       "      <td>I</td>\n",
       "      <td>010190</td>\n",
       "      <td>Mules and hinnies; live</td>\n",
       "      <td>0101</td>\n",
       "      <td>6</td>\n",
       "    </tr>\n",
       "    <tr>\n",
       "      <th>6</th>\n",
       "      <td>I</td>\n",
       "      <td>0102</td>\n",
       "      <td>Bovine animals; live</td>\n",
       "      <td>01</td>\n",
       "      <td>4</td>\n",
       "    </tr>\n",
       "    <tr>\n",
       "      <th>7</th>\n",
       "      <td>I</td>\n",
       "      <td>010221</td>\n",
       "      <td>Cattle; live, pure-bred breeding animals</td>\n",
       "      <td>0102</td>\n",
       "      <td>6</td>\n",
       "    </tr>\n",
       "    <tr>\n",
       "      <th>8</th>\n",
       "      <td>I</td>\n",
       "      <td>010229</td>\n",
       "      <td>Cattle; live, other than pure-bred breeding animals</td>\n",
       "      <td>0102</td>\n",
       "      <td>6</td>\n",
       "    </tr>\n",
       "    <tr>\n",
       "      <th>9</th>\n",
       "      <td>I</td>\n",
       "      <td>010231</td>\n",
       "      <td>Buffalo; live, pure-bred breeding animals</td>\n",
       "      <td>0102</td>\n",
       "      <td>6</td>\n",
       "    </tr>\n",
       "  </tbody>\n",
       "</table>\n",
       "</div>"
      ],
      "text/plain": [
       "  section  hscode                                          description parent  \\\n",
       "0       I      01                                        Animals; live  TOTAL   \n",
       "1       I    0101               Horses, asses, mules and hinnies; live     01   \n",
       "2       I  010121             Horses; live, pure-bred breeding animals   0101   \n",
       "3       I  010129  Horses; live, other than pure-bred breeding animals   0101   \n",
       "4       I  010130                                          Asses; live   0101   \n",
       "5       I  010190                              Mules and hinnies; live   0101   \n",
       "6       I    0102                                 Bovine animals; live     01   \n",
       "7       I  010221             Cattle; live, pure-bred breeding animals   0102   \n",
       "8       I  010229  Cattle; live, other than pure-bred breeding animals   0102   \n",
       "9       I  010231            Buffalo; live, pure-bred breeding animals   0102   \n",
       "\n",
       "  level  \n",
       "0     2  \n",
       "1     4  \n",
       "2     6  \n",
       "3     6  \n",
       "4     6  \n",
       "5     6  \n",
       "6     4  \n",
       "7     6  \n",
       "8     6  \n",
       "9     6  "
      ]
     },
     "execution_count": 6,
     "metadata": {},
     "output_type": "execute_result"
    }
   ],
   "source": [
    "code_src.head(10)"
   ]
  },
  {
   "cell_type": "code",
   "execution_count": 7,
   "id": "22ba030a-8855-4d39-b589-d82e6269bfec",
   "metadata": {},
   "outputs": [],
   "source": [
    "code_df = code_src[(code_src[\"parent\"] == \"TOTAL\") | (code_src[\"level\"] == \"4\")][\n",
    "    [\"hscode\", \"description\", \"level\"]\n",
    "]"
   ]
  },
  {
   "cell_type": "code",
   "execution_count": 8,
   "id": "c52db053-c038-48f8-b092-4bcbc5e3769a",
   "metadata": {},
   "outputs": [],
   "source": [
    "code_df.rename(columns={\"hscode\": \"code\"}, inplace=True)"
   ]
  },
  {
   "cell_type": "code",
   "execution_count": 9,
   "id": "abbeafd8-bf14-41e9-ae70-03dd0d065677",
   "metadata": {},
   "outputs": [
    {
     "data": {
      "text/html": [
       "<div>\n",
       "<style scoped>\n",
       "    .dataframe tbody tr th:only-of-type {\n",
       "        vertical-align: middle;\n",
       "    }\n",
       "\n",
       "    .dataframe tbody tr th {\n",
       "        vertical-align: top;\n",
       "    }\n",
       "\n",
       "    .dataframe thead th {\n",
       "        text-align: right;\n",
       "    }\n",
       "</style>\n",
       "<table border=\"1\" class=\"dataframe\">\n",
       "  <thead>\n",
       "    <tr style=\"text-align: right;\">\n",
       "      <th></th>\n",
       "      <th>code</th>\n",
       "      <th>description</th>\n",
       "      <th>level</th>\n",
       "    </tr>\n",
       "  </thead>\n",
       "  <tbody>\n",
       "    <tr>\n",
       "      <th>0</th>\n",
       "      <td>01</td>\n",
       "      <td>Animals; live</td>\n",
       "      <td>2</td>\n",
       "    </tr>\n",
       "    <tr>\n",
       "      <th>1</th>\n",
       "      <td>0101</td>\n",
       "      <td>Horses, asses, mules and hinnies; live</td>\n",
       "      <td>4</td>\n",
       "    </tr>\n",
       "    <tr>\n",
       "      <th>6</th>\n",
       "      <td>0102</td>\n",
       "      <td>Bovine animals; live</td>\n",
       "      <td>4</td>\n",
       "    </tr>\n",
       "    <tr>\n",
       "      <th>12</th>\n",
       "      <td>0103</td>\n",
       "      <td>Swine; live</td>\n",
       "      <td>4</td>\n",
       "    </tr>\n",
       "    <tr>\n",
       "      <th>16</th>\n",
       "      <td>0104</td>\n",
       "      <td>Sheep and goats; live</td>\n",
       "      <td>4</td>\n",
       "    </tr>\n",
       "    <tr>\n",
       "      <th>...</th>\n",
       "      <td>...</td>\n",
       "      <td>...</td>\n",
       "      <td>...</td>\n",
       "    </tr>\n",
       "    <tr>\n",
       "      <th>6701</th>\n",
       "      <td>9705</td>\n",
       "      <td>Collections and collectors' pieces; of zoological, botanical, mineralogical, anatomical, historical, archaeological, palaeontological, ethnographic or numismatic interest</td>\n",
       "      <td>4</td>\n",
       "    </tr>\n",
       "    <tr>\n",
       "      <th>6703</th>\n",
       "      <td>9706</td>\n",
       "      <td>Antiques; of an age exceeding one hundred years</td>\n",
       "      <td>4</td>\n",
       "    </tr>\n",
       "    <tr>\n",
       "      <th>6705</th>\n",
       "      <td>99</td>\n",
       "      <td>Commodities not specified according to kind</td>\n",
       "      <td>2</td>\n",
       "    </tr>\n",
       "    <tr>\n",
       "      <th>6706</th>\n",
       "      <td>9999</td>\n",
       "      <td>Commodities not specified according to kind</td>\n",
       "      <td>4</td>\n",
       "    </tr>\n",
       "    <tr>\n",
       "      <th>6708</th>\n",
       "      <td>TOTAL</td>\n",
       "      <td>All Commodities</td>\n",
       "      <td>5</td>\n",
       "    </tr>\n",
       "  </tbody>\n",
       "</table>\n",
       "<p>1321 rows × 3 columns</p>\n",
       "</div>"
      ],
      "text/plain": [
       "       code  \\\n",
       "0        01   \n",
       "1      0101   \n",
       "6      0102   \n",
       "12     0103   \n",
       "16     0104   \n",
       "...     ...   \n",
       "6701   9705   \n",
       "6703   9706   \n",
       "6705     99   \n",
       "6706   9999   \n",
       "6708  TOTAL   \n",
       "\n",
       "                                                                                                                                                                     description  \\\n",
       "0                                                                                                                                                                  Animals; live   \n",
       "1                                                                                                                                         Horses, asses, mules and hinnies; live   \n",
       "6                                                                                                                                                           Bovine animals; live   \n",
       "12                                                                                                                                                                   Swine; live   \n",
       "16                                                                                                                                                         Sheep and goats; live   \n",
       "...                                                                                                                                                                          ...   \n",
       "6701  Collections and collectors' pieces; of zoological, botanical, mineralogical, anatomical, historical, archaeological, palaeontological, ethnographic or numismatic interest   \n",
       "6703                                                                                                                             Antiques; of an age exceeding one hundred years   \n",
       "6705                                                                                                                                 Commodities not specified according to kind   \n",
       "6706                                                                                                                                 Commodities not specified according to kind   \n",
       "6708                                                                                                                                                             All Commodities   \n",
       "\n",
       "     level  \n",
       "0        2  \n",
       "1        4  \n",
       "6        4  \n",
       "12       4  \n",
       "16       4  \n",
       "...    ...  \n",
       "6701     4  \n",
       "6703     4  \n",
       "6705     2  \n",
       "6706     4  \n",
       "6708     5  \n",
       "\n",
       "[1321 rows x 3 columns]"
      ]
     },
     "execution_count": 9,
     "metadata": {},
     "output_type": "execute_result"
    }
   ],
   "source": [
    "code_df"
   ]
  },
  {
   "cell_type": "markdown",
   "id": "403fb934-d86e-4989-9a40-1698939a6a59",
   "metadata": {},
   "source": [
    "---"
   ]
  },
  {
   "cell_type": "markdown",
   "id": "e247be9c-27bb-4a77-a2ab-641958c11cfc",
   "metadata": {},
   "source": [
    "### Read all out export CSVs"
   ]
  },
  {
   "cell_type": "code",
   "execution_count": 10,
   "id": "26dd5113-331f-4250-9200-3ac8db4aa307",
   "metadata": {},
   "outputs": [],
   "source": [
    "path = \"../data/raw/exports/\"\n",
    "all_files = glob.glob(path + \"*.csv\")\n",
    "\n",
    "li = []\n",
    "\n",
    "for filename in all_files:\n",
    "    df = pd.read_csv(\n",
    "        filename,\n",
    "        encoding=\"GBK\",\n",
    "        dtype={\"数据年月\\t\": str, \"商品编码\\t\": str},\n",
    "    )\n",
    "    li.append(df)"
   ]
  },
  {
   "cell_type": "markdown",
   "id": "a9fc4f49-715c-407c-b6e4-eeba23772f7a",
   "metadata": {},
   "source": [
    "### And concatenate them into one frame"
   ]
  },
  {
   "cell_type": "code",
   "execution_count": 11,
   "id": "c70fec62-6d83-4201-b20a-e0f75ff55ff8",
   "metadata": {},
   "outputs": [],
   "source": [
    "raw = pd.concat(\n",
    "    li,\n",
    "    axis=0,\n",
    "    ignore_index=True,\n",
    ")"
   ]
  },
  {
   "cell_type": "markdown",
   "id": "bdb7991e-ceca-457f-9718-8cb1a99d7a8b",
   "metadata": {},
   "source": [
    "### Clean up column headers"
   ]
  },
  {
   "cell_type": "code",
   "execution_count": 12,
   "id": "e1c676c8-b0ad-4cd4-83ec-4abce4f6e403",
   "metadata": {},
   "outputs": [],
   "source": [
    "raw.columns = (\n",
    "    raw.columns.str.replace(r\"\\t\", \"\", regex=True)\n",
    "    .str.replace(\" \", \"_\", regex=False)\n",
    "    .str.lower()\n",
    ")"
   ]
  },
  {
   "cell_type": "markdown",
   "id": "8ca4d926-5dd0-44f4-9717-e775be1bfb87",
   "metadata": {},
   "source": [
    "### Remove all the tabs in the rows/columns"
   ]
  },
  {
   "cell_type": "code",
   "execution_count": 13,
   "id": "ffbfec1e-7a09-4d62-b6e0-f6b4047ef8c0",
   "metadata": {},
   "outputs": [],
   "source": [
    "raw = raw.replace(r\"\\t\\t\", \"\", regex=True)"
   ]
  },
  {
   "cell_type": "markdown",
   "id": "e5c0b94c-6aab-4340-97b1-a9d5b62fc5a8",
   "metadata": {},
   "source": [
    "### Rename colums "
   ]
  },
  {
   "cell_type": "code",
   "execution_count": 14,
   "id": "a287d69e-3542-49b0-b7b1-fa8c251a69d2",
   "metadata": {},
   "outputs": [],
   "source": [
    "raw.rename(\n",
    "    columns={\n",
    "        \"数据年月\": \"date_of_data\",\n",
    "        \"商品编码\": \"commodity_code\",\n",
    "        \"商品名称\": \"commodity_name\",\n",
    "        \"贸易伙伴编码\": \"trade_partner_code\",\n",
    "        \"贸易伙伴名称\": \"trade_partner_name\",\n",
    "        \"注册地编码\": \"registration_place_code\",\n",
    "        \"注册地名称\": \"registration_place_name\",\n",
    "        \"第一数量\": \"first_quantity\",\n",
    "        \"第一计量单位\": \"first_unit_of_measure\",\n",
    "        \"第二数量\": \"second_quantity\",\n",
    "        \"第二计量单位\": \"second_unit_of_measure\",\n",
    "        \"美元\": \"us_dollar\",\n",
    "    },\n",
    "    inplace=True,\n",
    ")"
   ]
  },
  {
   "cell_type": "markdown",
   "id": "8af8363b-c8df-4c35-a313-eaf29661eff9",
   "metadata": {},
   "source": [
    "### Create columns based on slices of others"
   ]
  },
  {
   "cell_type": "code",
   "execution_count": 15,
   "id": "e49939ef-dfdc-4331-985a-39c9b4943e37",
   "metadata": {},
   "outputs": [
    {
     "data": {
      "text/plain": [
       "0    202008\n",
       "1    202009\n",
       "2    202010\n",
       "3    202011\n",
       "4    202012\n",
       "Name: date_of_data, dtype: object"
      ]
     },
     "execution_count": 15,
     "metadata": {},
     "output_type": "execute_result"
    }
   ],
   "source": [
    "raw[\"date_of_data\"].head()"
   ]
  },
  {
   "cell_type": "code",
   "execution_count": 16,
   "id": "7e48c6f2-2314-4257-a0c7-3001183472cd",
   "metadata": {},
   "outputs": [],
   "source": [
    "raw[\"year\"] = raw[\"date_of_data\"].str[:4]\n",
    "raw[\"month\"] = raw[\"date_of_data\"].str[-2:]"
   ]
  },
  {
   "cell_type": "code",
   "execution_count": 17,
   "id": "91a5ccc5-522d-4a0a-b69d-a8bdfaa125bf",
   "metadata": {},
   "outputs": [],
   "source": [
    "raw[\"commodity_chapter\"] = raw[\"commodity_code\"].str[:2]\n",
    "raw[\"commodity_chapter_four\"] = raw[\"commodity_code\"].str[:4]"
   ]
  },
  {
   "cell_type": "code",
   "execution_count": 18,
   "id": "9f3b9b06-5996-43c9-9e46-3019157d113a",
   "metadata": {},
   "outputs": [],
   "source": [
    "raw[\"us_dollar\"] = raw[\"us_dollar\"].str.replace(\",\", \"\", regex=False).astype(int)"
   ]
  },
  {
   "cell_type": "markdown",
   "id": "e67c6837-3d49-4aa6-aa3e-22d76d1edd2e",
   "metadata": {},
   "source": [
    "### Merge the commodity codes with our export data and remove columns we don't need"
   ]
  },
  {
   "cell_type": "code",
   "execution_count": 19,
   "id": "109eaf0c-0b2a-43a6-90db-98e9c7d01108",
   "metadata": {},
   "outputs": [],
   "source": [
    "merge = raw.merge(code_df, left_on=\"commodity_chapter\", right_on=\"code\")"
   ]
  },
  {
   "cell_type": "code",
   "execution_count": 20,
   "id": "bb603fa0-617a-40cf-9b0d-1868baf4c9a0",
   "metadata": {},
   "outputs": [],
   "source": [
    "merge.drop(\n",
    "    [\n",
    "        \"date_of_data\",\n",
    "        \"commodity_name\",\n",
    "        \"unnamed:_12\",\n",
    "        \"trade_partner_code\",\n",
    "        \"trade_partner_name\",\n",
    "        \"registration_place_code\",\n",
    "        \"registration_place_name\",\n",
    "        \"code\",\n",
    "    ],\n",
    "    axis=1,\n",
    "    inplace=True,\n",
    ")"
   ]
  },
  {
   "cell_type": "code",
   "execution_count": 21,
   "id": "979501ac-bbad-4fd8-b7b4-be4214e8f0b0",
   "metadata": {},
   "outputs": [],
   "source": [
    "merge.rename(columns={\"description\": \"commodity_chapter_desc\"}, inplace=True)"
   ]
  },
  {
   "cell_type": "code",
   "execution_count": 22,
   "id": "fbe8e98c-32c4-44ce-80fa-fd69e9281ed2",
   "metadata": {},
   "outputs": [],
   "source": [
    "merge_df = pd.merge(\n",
    "    merge,\n",
    "    code_df[[\"code\", \"description\"]],\n",
    "    left_on=\"commodity_chapter_four\",\n",
    "    right_on=\"code\",\n",
    ")"
   ]
  },
  {
   "cell_type": "code",
   "execution_count": 23,
   "id": "a554658d-88da-493c-a89e-820e1a08e63a",
   "metadata": {},
   "outputs": [
    {
     "data": {
      "text/html": [
       "<div>\n",
       "<style scoped>\n",
       "    .dataframe tbody tr th:only-of-type {\n",
       "        vertical-align: middle;\n",
       "    }\n",
       "\n",
       "    .dataframe tbody tr th {\n",
       "        vertical-align: top;\n",
       "    }\n",
       "\n",
       "    .dataframe thead th {\n",
       "        text-align: right;\n",
       "    }\n",
       "</style>\n",
       "<table border=\"1\" class=\"dataframe\">\n",
       "  <thead>\n",
       "    <tr style=\"text-align: right;\">\n",
       "      <th></th>\n",
       "      <th>commodity_code</th>\n",
       "      <th>first_quantity</th>\n",
       "      <th>first_unit_of_measure</th>\n",
       "      <th>second_quantity</th>\n",
       "      <th>second_unit_of_measure</th>\n",
       "      <th>us_dollar</th>\n",
       "      <th>year</th>\n",
       "      <th>month</th>\n",
       "      <th>commodity_chapter</th>\n",
       "      <th>commodity_chapter_four</th>\n",
       "      <th>commodity_chapter_desc</th>\n",
       "      <th>level</th>\n",
       "      <th>code</th>\n",
       "      <th>description</th>\n",
       "    </tr>\n",
       "  </thead>\n",
       "  <tbody>\n",
       "    <tr>\n",
       "      <th>0</th>\n",
       "      <td>08083020</td>\n",
       "      <td>19264</td>\n",
       "      <td>千克</td>\n",
       "      <td>0</td>\n",
       "      <td>?</td>\n",
       "      <td>30272</td>\n",
       "      <td>2020</td>\n",
       "      <td>08</td>\n",
       "      <td>08</td>\n",
       "      <td>0808</td>\n",
       "      <td>Fruit and nuts, edible; peel of citrus fruit or melons</td>\n",
       "      <td>2</td>\n",
       "      <td>0808</td>\n",
       "      <td>Apples, pears and quinces; fresh</td>\n",
       "    </tr>\n",
       "    <tr>\n",
       "      <th>1</th>\n",
       "      <td>08083020</td>\n",
       "      <td>157437</td>\n",
       "      <td>千克</td>\n",
       "      <td>0</td>\n",
       "      <td>?</td>\n",
       "      <td>292621</td>\n",
       "      <td>2020</td>\n",
       "      <td>09</td>\n",
       "      <td>08</td>\n",
       "      <td>0808</td>\n",
       "      <td>Fruit and nuts, edible; peel of citrus fruit or melons</td>\n",
       "      <td>2</td>\n",
       "      <td>0808</td>\n",
       "      <td>Apples, pears and quinces; fresh</td>\n",
       "    </tr>\n",
       "    <tr>\n",
       "      <th>2</th>\n",
       "      <td>08083020</td>\n",
       "      <td>59269</td>\n",
       "      <td>千克</td>\n",
       "      <td>0</td>\n",
       "      <td>?</td>\n",
       "      <td>114305</td>\n",
       "      <td>2020</td>\n",
       "      <td>10</td>\n",
       "      <td>08</td>\n",
       "      <td>0808</td>\n",
       "      <td>Fruit and nuts, edible; peel of citrus fruit or melons</td>\n",
       "      <td>2</td>\n",
       "      <td>0808</td>\n",
       "      <td>Apples, pears and quinces; fresh</td>\n",
       "    </tr>\n",
       "    <tr>\n",
       "      <th>3</th>\n",
       "      <td>08083020</td>\n",
       "      <td>98042</td>\n",
       "      <td>千克</td>\n",
       "      <td>0</td>\n",
       "      <td>?</td>\n",
       "      <td>205830</td>\n",
       "      <td>2020</td>\n",
       "      <td>11</td>\n",
       "      <td>08</td>\n",
       "      <td>0808</td>\n",
       "      <td>Fruit and nuts, edible; peel of citrus fruit or melons</td>\n",
       "      <td>2</td>\n",
       "      <td>0808</td>\n",
       "      <td>Apples, pears and quinces; fresh</td>\n",
       "    </tr>\n",
       "    <tr>\n",
       "      <th>4</th>\n",
       "      <td>08083020</td>\n",
       "      <td>148456</td>\n",
       "      <td>千克</td>\n",
       "      <td>0</td>\n",
       "      <td>?</td>\n",
       "      <td>318120</td>\n",
       "      <td>2020</td>\n",
       "      <td>12</td>\n",
       "      <td>08</td>\n",
       "      <td>0808</td>\n",
       "      <td>Fruit and nuts, edible; peel of citrus fruit or melons</td>\n",
       "      <td>2</td>\n",
       "      <td>0808</td>\n",
       "      <td>Apples, pears and quinces; fresh</td>\n",
       "    </tr>\n",
       "  </tbody>\n",
       "</table>\n",
       "</div>"
      ],
      "text/plain": [
       "  commodity_code  first_quantity first_unit_of_measure  second_quantity  \\\n",
       "0       08083020           19264                    千克                0   \n",
       "1       08083020          157437                    千克                0   \n",
       "2       08083020           59269                    千克                0   \n",
       "3       08083020           98042                    千克                0   \n",
       "4       08083020          148456                    千克                0   \n",
       "\n",
       "  second_unit_of_measure  us_dollar  year month commodity_chapter  \\\n",
       "0                      ?      30272  2020    08                08   \n",
       "1                      ?     292621  2020    09                08   \n",
       "2                      ?     114305  2020    10                08   \n",
       "3                      ?     205830  2020    11                08   \n",
       "4                      ?     318120  2020    12                08   \n",
       "\n",
       "  commodity_chapter_four  \\\n",
       "0                   0808   \n",
       "1                   0808   \n",
       "2                   0808   \n",
       "3                   0808   \n",
       "4                   0808   \n",
       "\n",
       "                                   commodity_chapter_desc level  code  \\\n",
       "0  Fruit and nuts, edible; peel of citrus fruit or melons     2  0808   \n",
       "1  Fruit and nuts, edible; peel of citrus fruit or melons     2  0808   \n",
       "2  Fruit and nuts, edible; peel of citrus fruit or melons     2  0808   \n",
       "3  Fruit and nuts, edible; peel of citrus fruit or melons     2  0808   \n",
       "4  Fruit and nuts, edible; peel of citrus fruit or melons     2  0808   \n",
       "\n",
       "                        description  \n",
       "0  Apples, pears and quinces; fresh  \n",
       "1  Apples, pears and quinces; fresh  \n",
       "2  Apples, pears and quinces; fresh  \n",
       "3  Apples, pears and quinces; fresh  \n",
       "4  Apples, pears and quinces; fresh  "
      ]
     },
     "execution_count": 23,
     "metadata": {},
     "output_type": "execute_result"
    }
   ],
   "source": [
    "merge_df.head()"
   ]
  },
  {
   "cell_type": "code",
   "execution_count": 24,
   "id": "492ad741-fa41-4a52-89a5-aa5ededd4e3d",
   "metadata": {},
   "outputs": [],
   "source": [
    "merge_df.drop([\"code\", \"level\"], axis=1, inplace=True)"
   ]
  },
  {
   "cell_type": "code",
   "execution_count": 25,
   "id": "0b3d48d6-2ba0-47e3-93b7-2e0fffc33f4f",
   "metadata": {},
   "outputs": [],
   "source": [
    "merge_df.rename(\n",
    "    columns={\n",
    "        \"description\": \"commodity_chapter_four_desc\",\n",
    "    },\n",
    "    inplace=True,\n",
    ")"
   ]
  },
  {
   "cell_type": "markdown",
   "id": "d272b8f4-7efc-475d-99b8-9873253eaf16",
   "metadata": {},
   "source": [
    "### Behold, a dataframe"
   ]
  },
  {
   "cell_type": "code",
   "execution_count": 26,
   "id": "6bb84641-6596-474e-b9c3-2ced4a42d963",
   "metadata": {},
   "outputs": [],
   "source": [
    "df = (\n",
    "    merge_df[\n",
    "        [\n",
    "            \"year\",\n",
    "            \"month\",\n",
    "            \"commodity_code\",\n",
    "            \"commodity_chapter\",\n",
    "            \"commodity_chapter_desc\",\n",
    "            \"commodity_chapter_four\",\n",
    "            \"commodity_chapter_four_desc\",\n",
    "            \"first_unit_of_measure\",\n",
    "            \"second_quantity\",\n",
    "            \"second_unit_of_measure\",\n",
    "            \"us_dollar\",\n",
    "        ]\n",
    "    ]\n",
    "    .sort_values([\"month\", \"year\"], ascending=False)\n",
    "    .copy()\n",
    ")"
   ]
  },
  {
   "cell_type": "code",
   "execution_count": 27,
   "id": "dbe36e03-0ddc-4c82-9c97-6477c879ae14",
   "metadata": {},
   "outputs": [
    {
     "data": {
      "text/html": [
       "<div>\n",
       "<style scoped>\n",
       "    .dataframe tbody tr th:only-of-type {\n",
       "        vertical-align: middle;\n",
       "    }\n",
       "\n",
       "    .dataframe tbody tr th {\n",
       "        vertical-align: top;\n",
       "    }\n",
       "\n",
       "    .dataframe thead th {\n",
       "        text-align: right;\n",
       "    }\n",
       "</style>\n",
       "<table border=\"1\" class=\"dataframe\">\n",
       "  <thead>\n",
       "    <tr style=\"text-align: right;\">\n",
       "      <th></th>\n",
       "      <th>year</th>\n",
       "      <th>month</th>\n",
       "      <th>commodity_code</th>\n",
       "      <th>commodity_chapter</th>\n",
       "      <th>commodity_chapter_desc</th>\n",
       "      <th>commodity_chapter_four</th>\n",
       "      <th>commodity_chapter_four_desc</th>\n",
       "      <th>first_unit_of_measure</th>\n",
       "      <th>second_quantity</th>\n",
       "      <th>second_unit_of_measure</th>\n",
       "      <th>us_dollar</th>\n",
       "    </tr>\n",
       "  </thead>\n",
       "  <tbody>\n",
       "    <tr>\n",
       "      <th>64</th>\n",
       "      <td>2021</td>\n",
       "      <td>12</td>\n",
       "      <td>09042200</td>\n",
       "      <td>09</td>\n",
       "      <td>Coffee, tea, mate and spices</td>\n",
       "      <td>0904</td>\n",
       "      <td>Pepper of the genus piper; dried or crushed or ground fruits of the genus capsicum or of the genus pimenta</td>\n",
       "      <td>千克</td>\n",
       "      <td>0</td>\n",
       "      <td>?</td>\n",
       "      <td>231210</td>\n",
       "    </tr>\n",
       "    <tr>\n",
       "      <th>273</th>\n",
       "      <td>2021</td>\n",
       "      <td>12</td>\n",
       "      <td>20079910</td>\n",
       "      <td>20</td>\n",
       "      <td>Preparations of vegetables, fruit, nuts or other parts of plants</td>\n",
       "      <td>2007</td>\n",
       "      <td>Jams, fruit jellies, marmalades, fruit or nut puree and fruit or nut pastes, being cooked preparations; whether or not containing added sugar or other sweetening matter</td>\n",
       "      <td>千克</td>\n",
       "      <td>0</td>\n",
       "      <td>?</td>\n",
       "      <td>374682</td>\n",
       "    </tr>\n",
       "    <tr>\n",
       "      <th>356</th>\n",
       "      <td>2021</td>\n",
       "      <td>12</td>\n",
       "      <td>21069090</td>\n",
       "      <td>21</td>\n",
       "      <td>Miscellaneous edible preparations</td>\n",
       "      <td>2106</td>\n",
       "      <td>Food preparations not elsewhere specified or included</td>\n",
       "      <td>千克</td>\n",
       "      <td>0</td>\n",
       "      <td>?</td>\n",
       "      <td>576188</td>\n",
       "    </tr>\n",
       "    <tr>\n",
       "      <th>400</th>\n",
       "      <td>2021</td>\n",
       "      <td>12</td>\n",
       "      <td>25301020</td>\n",
       "      <td>25</td>\n",
       "      <td>Salt; sulphur; earths, stone; plastering materials, lime and cement</td>\n",
       "      <td>2530</td>\n",
       "      <td>Mineral substances not elsewhere specified or included</td>\n",
       "      <td>千克</td>\n",
       "      <td>0</td>\n",
       "      <td>?</td>\n",
       "      <td>638100</td>\n",
       "    </tr>\n",
       "    <tr>\n",
       "      <th>459</th>\n",
       "      <td>2021</td>\n",
       "      <td>12</td>\n",
       "      <td>28271090</td>\n",
       "      <td>28</td>\n",
       "      <td>Inorganic chemicals; organic and inorganic compounds of precious metals; of rare earth metals, of radio-active elements and of isotopes</td>\n",
       "      <td>2827</td>\n",
       "      <td>Chlorides; chloride oxides and chloride hydroxides; bromides and bromide oxides; iodides and iodide oxides</td>\n",
       "      <td>千克</td>\n",
       "      <td>0</td>\n",
       "      <td>?</td>\n",
       "      <td>11600</td>\n",
       "    </tr>\n",
       "  </tbody>\n",
       "</table>\n",
       "</div>"
      ],
      "text/plain": [
       "     year month commodity_code commodity_chapter  \\\n",
       "64   2021    12       09042200                09   \n",
       "273  2021    12       20079910                20   \n",
       "356  2021    12       21069090                21   \n",
       "400  2021    12       25301020                25   \n",
       "459  2021    12       28271090                28   \n",
       "\n",
       "                                                                                                                      commodity_chapter_desc  \\\n",
       "64                                                                                                              Coffee, tea, mate and spices   \n",
       "273                                                                         Preparations of vegetables, fruit, nuts or other parts of plants   \n",
       "356                                                                                                        Miscellaneous edible preparations   \n",
       "400                                                                      Salt; sulphur; earths, stone; plastering materials, lime and cement   \n",
       "459  Inorganic chemicals; organic and inorganic compounds of precious metals; of rare earth metals, of radio-active elements and of isotopes   \n",
       "\n",
       "    commodity_chapter_four  \\\n",
       "64                    0904   \n",
       "273                   2007   \n",
       "356                   2106   \n",
       "400                   2530   \n",
       "459                   2827   \n",
       "\n",
       "                                                                                                                                                  commodity_chapter_four_desc  \\\n",
       "64                                                                 Pepper of the genus piper; dried or crushed or ground fruits of the genus capsicum or of the genus pimenta   \n",
       "273  Jams, fruit jellies, marmalades, fruit or nut puree and fruit or nut pastes, being cooked preparations; whether or not containing added sugar or other sweetening matter   \n",
       "356                                                                                                                     Food preparations not elsewhere specified or included   \n",
       "400                                                                                                                    Mineral substances not elsewhere specified or included   \n",
       "459                                                                Chlorides; chloride oxides and chloride hydroxides; bromides and bromide oxides; iodides and iodide oxides   \n",
       "\n",
       "    first_unit_of_measure  second_quantity second_unit_of_measure  us_dollar  \n",
       "64                     千克                0                      ?     231210  \n",
       "273                    千克                0                      ?     374682  \n",
       "356                    千克                0                      ?     576188  \n",
       "400                    千克                0                      ?     638100  \n",
       "459                    千克                0                      ?      11600  "
      ]
     },
     "execution_count": 27,
     "metadata": {},
     "output_type": "execute_result"
    }
   ],
   "source": [
    "df.head()"
   ]
  },
  {
   "cell_type": "markdown",
   "id": "ae5ade09-1562-40c9-9dc2-f83081d8795f",
   "metadata": {},
   "source": [
    "### Export for analysis"
   ]
  },
  {
   "cell_type": "code",
   "execution_count": 28,
   "id": "8f405faf-32e0-4f28-bdbf-b2ba637fdc97",
   "metadata": {},
   "outputs": [],
   "source": [
    "df.to_csv(\"../data/processed/xinjiang_exports_usa_monthly.csv\", index=False)"
   ]
  }
 ],
 "metadata": {
  "kernelspec": {
   "display_name": "Python 3 (ipykernel)",
   "language": "python",
   "name": "python3"
  },
  "language_info": {
   "codemirror_mode": {
    "name": "ipython",
    "version": 3
   },
   "file_extension": ".py",
   "mimetype": "text/x-python",
   "name": "python",
   "nbconvert_exporter": "python",
   "pygments_lexer": "ipython3",
   "version": "3.8.9"
  }
 },
 "nbformat": 4,
 "nbformat_minor": 5
}
