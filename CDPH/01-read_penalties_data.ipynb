{
 "cells": [
  {
   "cell_type": "markdown",
   "id": "da122fc4-ee66-470b-8672-302284adff11",
   "metadata": {
    "tags": []
   },
   "source": [
    "# CDPH penalties"
   ]
  },
  {
   "cell_type": "markdown",
   "id": "067f84b8-8447-4c2d-8d53-07ec4a5b733b",
   "metadata": {},
   "source": [
    "### Import Python tools and Jupyter configuration"
   ]
  },
  {
   "cell_type": "code",
   "execution_count": 1,
   "id": "35ffa199-2128-491a-96ca-f8b67bc2347c",
   "metadata": {},
   "outputs": [],
   "source": [
    "%load_ext lab_black"
   ]
  },
  {
   "cell_type": "code",
   "execution_count": 2,
   "id": "61e150c7-2f4d-4a36-9890-3359a85567a6",
   "metadata": {},
   "outputs": [],
   "source": [
    "import pandas as pd"
   ]
  },
  {
   "cell_type": "code",
   "execution_count": 3,
   "id": "0a1828ff-77ca-405a-b719-0ebb6d2aea4e",
   "metadata": {},
   "outputs": [
    {
     "data": {
      "text/plain": [
       "ThemeRegistry.enable('latimes')"
      ]
     },
     "execution_count": 3,
     "metadata": {},
     "output_type": "execute_result"
    }
   ],
   "source": [
    "import altair as alt\n",
    "import altair_latimes as lat\n",
    "\n",
    "alt.themes.register(\"latimes\", lat.theme)\n",
    "alt.themes.enable(\"latimes\")"
   ]
  },
  {
   "cell_type": "code",
   "execution_count": 4,
   "id": "25857074-f94b-44b4-9510-8da9af193dcc",
   "metadata": {},
   "outputs": [
    {
     "data": {
      "text/plain": [
       "DataTransformerRegistry.enable('default')"
      ]
     },
     "execution_count": 4,
     "metadata": {},
     "output_type": "execute_result"
    }
   ],
   "source": [
    "pd.options.display.max_columns = 100\n",
    "pd.options.display.max_rows = 1000\n",
    "pd.options.display.max_colwidth = None\n",
    "alt.data_transformers.disable_max_rows()"
   ]
  },
  {
   "cell_type": "markdown",
   "id": "180954b9-c6b6-4ba0-803d-2d6e95ca0087",
   "metadata": {},
   "source": [
    "---"
   ]
  },
  {
   "cell_type": "code",
   "execution_count": 5,
   "id": "c988ab1c-9244-40b6-b661-76d851e00c84",
   "metadata": {},
   "outputs": [],
   "source": [
    "penalties_src = pd.read_excel(\n",
    "    \"data/raw/CDPHpenalties.xlsx\",\n",
    "    skiprows=0,\n",
    "    sheet_name=\"DETAIL\",\n",
    "    dtype={\"PENALTY_NUMBER\": str, \"FACID\": str, \"PENALTY_NUMBER\": str},\n",
    ")"
   ]
  },
  {
   "cell_type": "code",
   "execution_count": 6,
   "id": "78181a29-3abf-436f-ac5e-9ab93a7a6e1f",
   "metadata": {},
   "outputs": [],
   "source": [
    "penalties_src.columns = penalties_src.columns.str.lower()"
   ]
  },
  {
   "cell_type": "markdown",
   "id": "596c5464-1acd-4181-8c09-373082d06b5b",
   "metadata": {},
   "source": [
    "### How many facilities are in the data (some have multiple cases)?"
   ]
  },
  {
   "cell_type": "code",
   "execution_count": 7,
   "id": "65c5da88-379e-4c4c-8cc1-c9cea2ba40e1",
   "metadata": {},
   "outputs": [
    {
     "data": {
      "text/plain": [
       "2585"
      ]
     },
     "execution_count": 7,
     "metadata": {},
     "output_type": "execute_result"
    }
   ],
   "source": [
    "len(penalties_src.facid.unique())"
   ]
  },
  {
   "cell_type": "code",
   "execution_count": 8,
   "id": "db0b786a-8675-4594-9405-12aead42e9c9",
   "metadata": {},
   "outputs": [],
   "source": [
    "penalties_df = penalties_src.copy()"
   ]
  },
  {
   "cell_type": "code",
   "execution_count": 9,
   "id": "bc735e14-f262-466f-9bbc-ea200d0dcb74",
   "metadata": {},
   "outputs": [],
   "source": [
    "penalties_df[\"facid_join\"] = penalties_df[\"facid\"]"
   ]
  },
  {
   "cell_type": "markdown",
   "id": "58286da9-a539-40b1-9cd2-0acf5a61971a",
   "metadata": {},
   "source": [
    "### How many cases? "
   ]
  },
  {
   "cell_type": "code",
   "execution_count": 10,
   "id": "1ac83b87-9904-4020-9446-73179d8bf17c",
   "metadata": {},
   "outputs": [
    {
     "data": {
      "text/plain": [
       "17027"
      ]
     },
     "execution_count": 10,
     "metadata": {},
     "output_type": "execute_result"
    }
   ],
   "source": [
    "len(penalties_df)"
   ]
  },
  {
   "cell_type": "markdown",
   "id": "af3dd0e1-33d1-47b9-8728-f39b04687a16",
   "metadata": {},
   "source": [
    "### How much in fines initially? "
   ]
  },
  {
   "cell_type": "code",
   "execution_count": 11,
   "id": "f207f017-fe4b-4ab9-b11c-44d7d0d45af7",
   "metadata": {},
   "outputs": [
    {
     "data": {
      "text/plain": [
       "131994613.75"
      ]
     },
     "execution_count": 11,
     "metadata": {},
     "output_type": "execute_result"
    }
   ],
   "source": [
    "penalties_df[\"total_amount_initial\"].sum()"
   ]
  },
  {
   "cell_type": "markdown",
   "id": "a5905224-752f-4c7e-934a-91e7f3f8c762",
   "metadata": {},
   "source": [
    "### After appeal? "
   ]
  },
  {
   "cell_type": "code",
   "execution_count": 12,
   "id": "8e40c183-7ac7-4b79-bf96-d1f9eff8af18",
   "metadata": {},
   "outputs": [
    {
     "data": {
      "text/plain": [
       "117682829.6"
      ]
     },
     "execution_count": 12,
     "metadata": {},
     "output_type": "execute_result"
    }
   ],
   "source": [
    "penalties_df[\"total_amount_due_final\"].sum()"
   ]
  },
  {
   "cell_type": "markdown",
   "id": "608d28d7-9be0-4edc-93a5-83da1bebc3d9",
   "metadata": {},
   "source": [
    "### Change?"
   ]
  },
  {
   "cell_type": "code",
   "execution_count": 35,
   "id": "8c3c5ca5-7d19-4bde-8992-28790d32c0ae",
   "metadata": {},
   "outputs": [
    {
     "data": {
      "text/plain": [
       "-14311784.15"
      ]
     },
     "execution_count": 35,
     "metadata": {},
     "output_type": "execute_result"
    }
   ],
   "source": [
    "round(\n",
    "    (\n",
    "        penalties_df[\"total_amount_due_final\"].sum()\n",
    "        - penalties_df[\"total_amount_initial\"].sum()\n",
    "    ),\n",
    "    2,\n",
    ")"
   ]
  },
  {
   "cell_type": "markdown",
   "id": "f2ed5207-6d88-422c-a02a-aa9b74604880",
   "metadata": {
    "tags": []
   },
   "source": [
    "### Count penalties by facility"
   ]
  },
  {
   "cell_type": "code",
   "execution_count": 14,
   "id": "5c54ccca-4332-42ce-b603-05be8cbde7d4",
   "metadata": {},
   "outputs": [],
   "source": [
    "penalties_grouped = (\n",
    "    penalties_df.groupby([\"facid\", \"facility_name\"])\n",
    "    .agg({\"facid_join\": \"count\", \"total_amount_due_final\": sum})\n",
    "    .reset_index()\n",
    "    .rename(\n",
    "        columns={\"facid_join\": \"penalties\", \"total_amount_due_final\": \"penalties_sum\"}\n",
    "    )\n",
    ")"
   ]
  },
  {
   "cell_type": "code",
   "execution_count": 15,
   "id": "889b218a-60f2-47c2-8a7e-37b29a7f42f5",
   "metadata": {},
   "outputs": [
    {
     "data": {
      "text/plain": [
       "2585"
      ]
     },
     "execution_count": 15,
     "metadata": {},
     "output_type": "execute_result"
    }
   ],
   "source": [
    "len(penalties_grouped)"
   ]
  },
  {
   "cell_type": "code",
   "execution_count": 16,
   "id": "5c47ff47-e7a7-496b-869c-9de221a842da",
   "metadata": {},
   "outputs": [
    {
     "data": {
      "text/html": [
       "<div>\n",
       "<style scoped>\n",
       "    .dataframe tbody tr th:only-of-type {\n",
       "        vertical-align: middle;\n",
       "    }\n",
       "\n",
       "    .dataframe tbody tr th {\n",
       "        vertical-align: top;\n",
       "    }\n",
       "\n",
       "    .dataframe thead th {\n",
       "        text-align: right;\n",
       "    }\n",
       "</style>\n",
       "<table border=\"1\" class=\"dataframe\">\n",
       "  <thead>\n",
       "    <tr style=\"text-align: right;\">\n",
       "      <th></th>\n",
       "      <th>facid</th>\n",
       "      <th>facility_name</th>\n",
       "      <th>penalties</th>\n",
       "      <th>penalties_sum</th>\n",
       "    </tr>\n",
       "  </thead>\n",
       "  <tbody>\n",
       "    <tr>\n",
       "      <th>0</th>\n",
       "      <td>010000001</td>\n",
       "      <td>VINEYARD POST ACUTE</td>\n",
       "      <td>21</td>\n",
       "      <td>151109.00</td>\n",
       "    </tr>\n",
       "    <tr>\n",
       "      <th>1</th>\n",
       "      <td>010000003</td>\n",
       "      <td>CREEKSIDE REHABILITATION &amp; BEHAVIORAL HEALTH</td>\n",
       "      <td>35</td>\n",
       "      <td>116879.04</td>\n",
       "    </tr>\n",
       "    <tr>\n",
       "      <th>2</th>\n",
       "      <td>010000004</td>\n",
       "      <td>CRESCENT CITY SKILLED NURSING</td>\n",
       "      <td>15</td>\n",
       "      <td>58000.00</td>\n",
       "    </tr>\n",
       "    <tr>\n",
       "      <th>3</th>\n",
       "      <td>010000005</td>\n",
       "      <td>WINDSOR CARE CENTER OF PETALUMA</td>\n",
       "      <td>41</td>\n",
       "      <td>292800.00</td>\n",
       "    </tr>\n",
       "    <tr>\n",
       "      <th>4</th>\n",
       "      <td>010000020</td>\n",
       "      <td>FIRCREST CONVALESCENT HOSPITAL</td>\n",
       "      <td>24</td>\n",
       "      <td>81600.00</td>\n",
       "    </tr>\n",
       "  </tbody>\n",
       "</table>\n",
       "</div>"
      ],
      "text/plain": [
       "       facid                                 facility_name  penalties  \\\n",
       "0  010000001                           VINEYARD POST ACUTE         21   \n",
       "1  010000003  CREEKSIDE REHABILITATION & BEHAVIORAL HEALTH         35   \n",
       "2  010000004                 CRESCENT CITY SKILLED NURSING         15   \n",
       "3  010000005               WINDSOR CARE CENTER OF PETALUMA         41   \n",
       "4  010000020                FIRCREST CONVALESCENT HOSPITAL         24   \n",
       "\n",
       "   penalties_sum  \n",
       "0      151109.00  \n",
       "1      116879.04  \n",
       "2       58000.00  \n",
       "3      292800.00  \n",
       "4       81600.00  "
      ]
     },
     "execution_count": 16,
     "metadata": {},
     "output_type": "execute_result"
    }
   ],
   "source": [
    "penalties_grouped.head()"
   ]
  },
  {
   "cell_type": "markdown",
   "id": "4c228ca0-a66f-49b2-9f2a-1551be7da210",
   "metadata": {},
   "source": [
    "---"
   ]
  },
  {
   "cell_type": "markdown",
   "id": "99fbea13-9b6f-472f-aafe-be1f95543a97",
   "metadata": {},
   "source": [
    "### Facilities and bed counts"
   ]
  },
  {
   "cell_type": "code",
   "execution_count": 17,
   "id": "24d2cfd8-29b2-4617-8608-bc94d059b6c5",
   "metadata": {},
   "outputs": [],
   "source": [
    "facilities_df = pd.read_csv(\"data/processed/facility_beds.csv\", dtype={\"facid\": str})"
   ]
  },
  {
   "cell_type": "code",
   "execution_count": 18,
   "id": "67d8abe8-d38b-484e-aed8-39706a2a086d",
   "metadata": {},
   "outputs": [],
   "source": [
    "facilities_grouped = (\n",
    "    facilities_df[facilities_df[\"bed_capacity\"] >= 20]\n",
    "    .groupby([\"facid\", \"facname\", \"fac_fdr\"])\n",
    "    .agg({\"bed_capacity\": sum})\n",
    "    .reset_index()\n",
    ")"
   ]
  },
  {
   "cell_type": "code",
   "execution_count": 19,
   "id": "d53a89a1-cbfa-4972-bad5-7635862de131",
   "metadata": {},
   "outputs": [],
   "source": [
    "# facilities_df.drop_duplicates(subset=[\"facid\"], keep=\"first\", inplace=True)"
   ]
  },
  {
   "cell_type": "markdown",
   "id": "b8415fa6-8652-4c35-b745-fd65f174c51e",
   "metadata": {},
   "source": [
    "---"
   ]
  },
  {
   "cell_type": "markdown",
   "id": "31881742-8282-4285-8d14-fcbebeed70d9",
   "metadata": {},
   "source": [
    "### Merge bed counts"
   ]
  },
  {
   "cell_type": "code",
   "execution_count": 20,
   "id": "57189437-21ff-4d2b-89ea-cb9f520ca7b1",
   "metadata": {},
   "outputs": [],
   "source": [
    "merge = penalties_grouped.merge(\n",
    "    facilities_grouped[[\"facid\", \"bed_capacity\", \"fac_fdr\"]], on=\"facid\", how=\"left\"\n",
    ").fillna(0)"
   ]
  },
  {
   "cell_type": "code",
   "execution_count": 21,
   "id": "8f94a1d4-d4ea-41bd-85c9-35e9b7470bfa",
   "metadata": {},
   "outputs": [],
   "source": [
    "merge_df = merge[merge[\"bed_capacity\"] > 0].copy()"
   ]
  },
  {
   "cell_type": "code",
   "execution_count": 22,
   "id": "c4969ff8-6bb3-4a27-9c61-6191a593cb5b",
   "metadata": {},
   "outputs": [
    {
     "data": {
      "text/html": [
       "<div>\n",
       "<style scoped>\n",
       "    .dataframe tbody tr th:only-of-type {\n",
       "        vertical-align: middle;\n",
       "    }\n",
       "\n",
       "    .dataframe tbody tr th {\n",
       "        vertical-align: top;\n",
       "    }\n",
       "\n",
       "    .dataframe thead th {\n",
       "        text-align: right;\n",
       "    }\n",
       "</style>\n",
       "<table border=\"1\" class=\"dataframe\">\n",
       "  <thead>\n",
       "    <tr style=\"text-align: right;\">\n",
       "      <th></th>\n",
       "      <th>facid</th>\n",
       "      <th>facility_name</th>\n",
       "      <th>penalties</th>\n",
       "      <th>penalties_sum</th>\n",
       "      <th>bed_capacity</th>\n",
       "      <th>fac_fdr</th>\n",
       "    </tr>\n",
       "  </thead>\n",
       "  <tbody>\n",
       "    <tr>\n",
       "      <th>0</th>\n",
       "      <td>010000001</td>\n",
       "      <td>VINEYARD POST ACUTE</td>\n",
       "      <td>21</td>\n",
       "      <td>151109.00</td>\n",
       "      <td>99.0</td>\n",
       "      <td>SKILLED NURSING FACILITY</td>\n",
       "    </tr>\n",
       "    <tr>\n",
       "      <th>1</th>\n",
       "      <td>010000003</td>\n",
       "      <td>CREEKSIDE REHABILITATION &amp; BEHAVIORAL HEALTH</td>\n",
       "      <td>35</td>\n",
       "      <td>116879.04</td>\n",
       "      <td>181.0</td>\n",
       "      <td>SKILLED NURSING FACILITY</td>\n",
       "    </tr>\n",
       "    <tr>\n",
       "      <th>2</th>\n",
       "      <td>010000004</td>\n",
       "      <td>CRESCENT CITY SKILLED NURSING</td>\n",
       "      <td>15</td>\n",
       "      <td>58000.00</td>\n",
       "      <td>99.0</td>\n",
       "      <td>SKILLED NURSING FACILITY</td>\n",
       "    </tr>\n",
       "    <tr>\n",
       "      <th>3</th>\n",
       "      <td>010000005</td>\n",
       "      <td>WINDSOR CARE CENTER OF PETALUMA</td>\n",
       "      <td>41</td>\n",
       "      <td>292800.00</td>\n",
       "      <td>79.0</td>\n",
       "      <td>SKILLED NURSING FACILITY</td>\n",
       "    </tr>\n",
       "    <tr>\n",
       "      <th>6</th>\n",
       "      <td>010000024</td>\n",
       "      <td>GRANADA REHAB &amp; WELLNESS CENTER, LP</td>\n",
       "      <td>29</td>\n",
       "      <td>142259.00</td>\n",
       "      <td>87.0</td>\n",
       "      <td>SKILLED NURSING FACILITY</td>\n",
       "    </tr>\n",
       "  </tbody>\n",
       "</table>\n",
       "</div>"
      ],
      "text/plain": [
       "       facid                                 facility_name  penalties  \\\n",
       "0  010000001                           VINEYARD POST ACUTE         21   \n",
       "1  010000003  CREEKSIDE REHABILITATION & BEHAVIORAL HEALTH         35   \n",
       "2  010000004                 CRESCENT CITY SKILLED NURSING         15   \n",
       "3  010000005               WINDSOR CARE CENTER OF PETALUMA         41   \n",
       "6  010000024           GRANADA REHAB & WELLNESS CENTER, LP         29   \n",
       "\n",
       "   penalties_sum  bed_capacity                   fac_fdr  \n",
       "0      151109.00          99.0  SKILLED NURSING FACILITY  \n",
       "1      116879.04         181.0  SKILLED NURSING FACILITY  \n",
       "2       58000.00          99.0  SKILLED NURSING FACILITY  \n",
       "3      292800.00          79.0  SKILLED NURSING FACILITY  \n",
       "6      142259.00          87.0  SKILLED NURSING FACILITY  "
      ]
     },
     "execution_count": 22,
     "metadata": {},
     "output_type": "execute_result"
    }
   ],
   "source": [
    "merge_df.head()"
   ]
  },
  {
   "cell_type": "markdown",
   "id": "ff0bb965-8169-47e5-b601-858ae9eb67a3",
   "metadata": {},
   "source": [
    "### Rate for penalty count per 10 beds"
   ]
  },
  {
   "cell_type": "code",
   "execution_count": 23,
   "id": "419c8bf7-0ab5-492f-bcad-2edcfa3218ae",
   "metadata": {},
   "outputs": [],
   "source": [
    "merge_df[\"penalties_per_10_beds\"] = (\n",
    "    (merge_df[\"penalties\"] / merge_df[\"bed_capacity\"]) * 10\n",
    ").round(2)"
   ]
  },
  {
   "cell_type": "markdown",
   "id": "ffe2f5cb-a08b-47de-9507-cde80e4e3f0d",
   "metadata": {},
   "source": [
    "### Rate for penalty cost per 10 beds"
   ]
  },
  {
   "cell_type": "code",
   "execution_count": 24,
   "id": "23a3852b-2006-4303-8ac1-07ce72019ebc",
   "metadata": {},
   "outputs": [],
   "source": [
    "merge_df[\"penalties_sum_per_10_beds\"] = (\n",
    "    (merge_df[\"penalties_sum\"] / merge_df[\"bed_capacity\"]) * 10\n",
    ").round(2)"
   ]
  },
  {
   "cell_type": "code",
   "execution_count": 25,
   "id": "366e1943-4b3c-4f62-8351-1dc7d771efb1",
   "metadata": {},
   "outputs": [
    {
     "data": {
      "text/html": [
       "<div>\n",
       "<style scoped>\n",
       "    .dataframe tbody tr th:only-of-type {\n",
       "        vertical-align: middle;\n",
       "    }\n",
       "\n",
       "    .dataframe tbody tr th {\n",
       "        vertical-align: top;\n",
       "    }\n",
       "\n",
       "    .dataframe thead th {\n",
       "        text-align: right;\n",
       "    }\n",
       "</style>\n",
       "<table border=\"1\" class=\"dataframe\">\n",
       "  <thead>\n",
       "    <tr style=\"text-align: right;\">\n",
       "      <th></th>\n",
       "      <th>facid</th>\n",
       "      <th>facility_name</th>\n",
       "      <th>penalties</th>\n",
       "      <th>penalties_sum</th>\n",
       "      <th>bed_capacity</th>\n",
       "      <th>fac_fdr</th>\n",
       "      <th>penalties_per_10_beds</th>\n",
       "      <th>penalties_sum_per_10_beds</th>\n",
       "    </tr>\n",
       "  </thead>\n",
       "  <tbody>\n",
       "    <tr>\n",
       "      <th>1710</th>\n",
       "      <td>250000507</td>\n",
       "      <td>SOUTHWEST HEALTHCARE SYSTEM</td>\n",
       "      <td>32</td>\n",
       "      <td>996162.5</td>\n",
       "      <td>113.0</td>\n",
       "      <td>GENERAL ACUTE CARE HOSPITAL</td>\n",
       "      <td>2.83</td>\n",
       "      <td>88155.97</td>\n",
       "    </tr>\n",
       "    <tr>\n",
       "      <th>2175</th>\n",
       "      <td>940000041</td>\n",
       "      <td>VILLA DEL RIO GARDENS</td>\n",
       "      <td>36</td>\n",
       "      <td>699600.0</td>\n",
       "      <td>84.0</td>\n",
       "      <td>SKILLED NURSING FACILITY</td>\n",
       "      <td>4.29</td>\n",
       "      <td>83285.71</td>\n",
       "    </tr>\n",
       "    <tr>\n",
       "      <th>1654</th>\n",
       "      <td>250000004</td>\n",
       "      <td>KINDRED HOSPITAL RIVERSIDE</td>\n",
       "      <td>16</td>\n",
       "      <td>208400.0</td>\n",
       "      <td>32.0</td>\n",
       "      <td>GENERAL ACUTE CARE HOSPITAL</td>\n",
       "      <td>5.00</td>\n",
       "      <td>65125.00</td>\n",
       "    </tr>\n",
       "    <tr>\n",
       "      <th>1319</th>\n",
       "      <td>220000019</td>\n",
       "      <td>PRISCILLA CHAN AND MARK ZUCKERBERG SAN FRANCISCO GENERAL HOSPITAL AND TRAUM</td>\n",
       "      <td>25</td>\n",
       "      <td>1544040.0</td>\n",
       "      <td>263.0</td>\n",
       "      <td>GENERAL ACUTE CARE HOSPITAL</td>\n",
       "      <td>0.95</td>\n",
       "      <td>58708.75</td>\n",
       "    </tr>\n",
       "    <tr>\n",
       "      <th>1931</th>\n",
       "      <td>910000049</td>\n",
       "      <td>HYDE PARK HEALTHCARE CENTER</td>\n",
       "      <td>21</td>\n",
       "      <td>397650.0</td>\n",
       "      <td>72.0</td>\n",
       "      <td>SKILLED NURSING FACILITY</td>\n",
       "      <td>2.92</td>\n",
       "      <td>55229.17</td>\n",
       "    </tr>\n",
       "  </tbody>\n",
       "</table>\n",
       "</div>"
      ],
      "text/plain": [
       "          facid  \\\n",
       "1710  250000507   \n",
       "2175  940000041   \n",
       "1654  250000004   \n",
       "1319  220000019   \n",
       "1931  910000049   \n",
       "\n",
       "                                                                    facility_name  \\\n",
       "1710                                                  SOUTHWEST HEALTHCARE SYSTEM   \n",
       "2175                                                        VILLA DEL RIO GARDENS   \n",
       "1654                                                   KINDRED HOSPITAL RIVERSIDE   \n",
       "1319  PRISCILLA CHAN AND MARK ZUCKERBERG SAN FRANCISCO GENERAL HOSPITAL AND TRAUM   \n",
       "1931                                                  HYDE PARK HEALTHCARE CENTER   \n",
       "\n",
       "      penalties  penalties_sum  bed_capacity                      fac_fdr  \\\n",
       "1710         32       996162.5         113.0  GENERAL ACUTE CARE HOSPITAL   \n",
       "2175         36       699600.0          84.0     SKILLED NURSING FACILITY   \n",
       "1654         16       208400.0          32.0  GENERAL ACUTE CARE HOSPITAL   \n",
       "1319         25      1544040.0         263.0  GENERAL ACUTE CARE HOSPITAL   \n",
       "1931         21       397650.0          72.0     SKILLED NURSING FACILITY   \n",
       "\n",
       "      penalties_per_10_beds  penalties_sum_per_10_beds  \n",
       "1710                   2.83                   88155.97  \n",
       "2175                   4.29                   83285.71  \n",
       "1654                   5.00                   65125.00  \n",
       "1319                   0.95                   58708.75  \n",
       "1931                   2.92                   55229.17  "
      ]
     },
     "execution_count": 25,
     "metadata": {},
     "output_type": "execute_result"
    }
   ],
   "source": [
    "merge_df.sort_values([\"penalties_sum_per_10_beds\"], ascending=False).head()"
   ]
  },
  {
   "cell_type": "markdown",
   "id": "f61f817f-7768-44a8-9759-175e120edfc5",
   "metadata": {},
   "source": [
    "---"
   ]
  },
  {
   "cell_type": "markdown",
   "id": "4fae6fe8-8ce0-40e4-b190-196c58b2f6c0",
   "metadata": {},
   "source": [
    "### How frequently are penalties reduced? "
   ]
  },
  {
   "cell_type": "code",
   "execution_count": 36,
   "id": "9374ed59-eff3-4bc2-923b-28250d6f66cf",
   "metadata": {},
   "outputs": [],
   "source": [
    "def penalty_change(row):\n",
    "    if row.total_amount_initial > row.total_amount_due_final:\n",
    "        return \"decrease\"\n",
    "    elif row.total_amount_initial < row.total_amount_due_final:\n",
    "        return \"increase\"\n",
    "    else:\n",
    "        return \"same\""
   ]
  },
  {
   "cell_type": "code",
   "execution_count": 37,
   "id": "55b28efd-1ae9-4d07-9ad8-89b698d56335",
   "metadata": {},
   "outputs": [],
   "source": [
    "penalties_df[\"penalty_change_category\"] = penalties_df.apply(penalty_change, axis=1)"
   ]
  },
  {
   "cell_type": "markdown",
   "id": "311a7f3c-5153-4897-82dc-4116e3ed7891",
   "metadata": {},
   "source": [
    "### What happens to penalty amounts? "
   ]
  },
  {
   "cell_type": "code",
   "execution_count": 43,
   "id": "14604a34-a5fe-46f5-a510-4a0636eeb349",
   "metadata": {},
   "outputs": [
    {
     "data": {
      "text/plain": [
       "same        0.76\n",
       "decrease    0.16\n",
       "increase    0.08\n",
       "Name: penalty_change_category, dtype: float64"
      ]
     },
     "execution_count": 43,
     "metadata": {},
     "output_type": "execute_result"
    }
   ],
   "source": [
    "penalties_df.penalty_change_category.value_counts(normalize=True).round(2)"
   ]
  },
  {
   "cell_type": "markdown",
   "id": "50c07f82-8264-461f-a6ef-1b446f567bd7",
   "metadata": {},
   "source": [
    "### When reduced, by how much in total? "
   ]
  },
  {
   "cell_type": "code",
   "execution_count": 63,
   "id": "9739e461-fbcf-4c93-a18d-4c86f1f66de4",
   "metadata": {},
   "outputs": [],
   "source": [
    "def penalty_diff(row):\n",
    "    if row.total_amount_initial > row.total_amount_due_final:\n",
    "        return row.total_amount_due_final - row.total_amount_initial\n",
    "    elif row.total_amount_initial < row.total_amount_due_final:\n",
    "        return row.total_amount_due_final - row.total_amount_initial\n",
    "    else:\n",
    "        return 0"
   ]
  },
  {
   "cell_type": "code",
   "execution_count": 64,
   "id": "a24388a8-f2c9-4b14-9ae7-eb9ba0ab323e",
   "metadata": {},
   "outputs": [],
   "source": [
    "penalties_df[\"penalty_change\"] = penalties_df.apply(penalty_diff, axis=1)"
   ]
  },
  {
   "cell_type": "markdown",
   "id": "280a617d-7d83-4f4f-9e6c-ac5484d693a0",
   "metadata": {},
   "source": [
    "### Fine decreased? "
   ]
  },
  {
   "cell_type": "code",
   "execution_count": 71,
   "id": "9bb0b6d7-70bb-4ab0-a0b5-3f70f311ccb3",
   "metadata": {},
   "outputs": [
    {
     "data": {
      "text/plain": [
       "-19912260.65"
      ]
     },
     "execution_count": 71,
     "metadata": {},
     "output_type": "execute_result"
    }
   ],
   "source": [
    "penalties_df[penalties_df[\"penalty_change_category\"] == \"decrease\"][\n",
    "    \"penalty_change\"\n",
    "].sum()"
   ]
  },
  {
   "cell_type": "markdown",
   "id": "e752c786-f6fb-4e39-94de-6f0f8f389dbf",
   "metadata": {},
   "source": [
    "### Increased? "
   ]
  },
  {
   "cell_type": "code",
   "execution_count": 72,
   "id": "586417fc-294f-46e2-bf5b-f99c11cf3ead",
   "metadata": {},
   "outputs": [
    {
     "data": {
      "text/plain": [
       "5600476.5"
      ]
     },
     "execution_count": 72,
     "metadata": {},
     "output_type": "execute_result"
    }
   ],
   "source": [
    "penalties_df[penalties_df[\"penalty_change_category\"] == \"increase\"][\n",
    "    \"penalty_change\"\n",
    "].sum()"
   ]
  },
  {
   "cell_type": "markdown",
   "id": "6c748910-fe05-4595-bc90-cba754bd7e5d",
   "metadata": {},
   "source": [
    "### Net?"
   ]
  },
  {
   "cell_type": "code",
   "execution_count": 111,
   "id": "80479d47-0859-4a6e-9d19-daadd15c4957",
   "metadata": {},
   "outputs": [
    {
     "data": {
      "text/plain": [
       "-14311784.15"
      ]
     },
     "execution_count": 111,
     "metadata": {},
     "output_type": "execute_result"
    }
   ],
   "source": [
    "penalties_df[\"penalty_change\"].sum()"
   ]
  },
  {
   "cell_type": "markdown",
   "id": "6a3272d0-4c19-43fc-b851-122866472a77",
   "metadata": {},
   "source": [
    "---"
   ]
  },
  {
   "cell_type": "markdown",
   "id": "40a95369-274c-47e5-ba4c-8d5b70edbd33",
   "metadata": {},
   "source": [
    "### Toplines"
   ]
  },
  {
   "cell_type": "code",
   "execution_count": 122,
   "id": "87203ac4-5f22-4717-8570-e6696ce7e2dd",
   "metadata": {},
   "outputs": [],
   "source": [
    "today = pd.to_datetime(\"today\").strftime(\"%m/%d/%Y\")"
   ]
  },
  {
   "cell_type": "code",
   "execution_count": 123,
   "id": "7be2286f-0e52-450e-b748-305e01e2e4ee",
   "metadata": {},
   "outputs": [],
   "source": [
    "toplines = pd.DataFrame([today], columns=[\"update_date\"])"
   ]
  },
  {
   "cell_type": "code",
   "execution_count": 124,
   "id": "fdca4571-645c-4086-835f-313d2b0f1df9",
   "metadata": {},
   "outputs": [],
   "source": [
    "toplines[\"total_penalties_initial\"] = penalties_df[\"total_amount_initial\"].sum()"
   ]
  },
  {
   "cell_type": "code",
   "execution_count": 124,
   "id": "69b9aa3b-207c-489f-ae9b-ca3f0bddfab9",
   "metadata": {},
   "outputs": [],
   "source": [
    "toplines[\"total_penalties_final\"] = penalties_df[\"total_amount_due_final\"].sum()"
   ]
  },
  {
   "cell_type": "code",
   "execution_count": 125,
   "id": "4d3396fd-cdfc-4459-aad5-ea8b6937ddf9",
   "metadata": {},
   "outputs": [],
   "source": [
    "toplines[\"net_penalty_change\"] = penalties_df[\"penalty_change\"].sum()"
   ]
  },
  {
   "cell_type": "code",
   "execution_count": 125,
   "id": "23e5a192-f4b2-41f8-b4a9-7c79c179a0e3",
   "metadata": {},
   "outputs": [],
   "source": [
    "toplines[\"net_penalty_decrease\"] = penalties_df[\n",
    "    penalties_df[\"penalty_change_category\"] == \"decrease\"\n",
    "][\"penalty_change\"].sum()"
   ]
  },
  {
   "cell_type": "code",
   "execution_count": 125,
   "id": "7eabd966-1aaf-4057-a4bb-1e406bf3e6a8",
   "metadata": {},
   "outputs": [],
   "source": [
    "toplines[\"net_penalty_increase\"] = penalties_df[\n",
    "    penalties_df[\"penalty_change_category\"] == \"increase\"\n",
    "][\"penalty_change\"].sum()"
   ]
  },
  {
   "cell_type": "code",
   "execution_count": 126,
   "id": "62ac317d-d20f-43da-91a2-a2e118f97fe9",
   "metadata": {},
   "outputs": [],
   "source": [
    "toplines[\"facilities_w_penalty\"] = len(penalties_grouped)"
   ]
  },
  {
   "cell_type": "code",
   "execution_count": 127,
   "id": "80cbcdc9-7cab-4832-91c1-bc29cab7384b",
   "metadata": {},
   "outputs": [
    {
     "data": {
      "text/html": [
       "<div>\n",
       "<style scoped>\n",
       "    .dataframe tbody tr th:only-of-type {\n",
       "        vertical-align: middle;\n",
       "    }\n",
       "\n",
       "    .dataframe tbody tr th {\n",
       "        vertical-align: top;\n",
       "    }\n",
       "\n",
       "    .dataframe thead th {\n",
       "        text-align: right;\n",
       "    }\n",
       "</style>\n",
       "<table border=\"1\" class=\"dataframe\">\n",
       "  <thead>\n",
       "    <tr style=\"text-align: right;\">\n",
       "      <th></th>\n",
       "      <th>0</th>\n",
       "    </tr>\n",
       "  </thead>\n",
       "  <tbody>\n",
       "    <tr>\n",
       "      <th>update_date</th>\n",
       "      <td>11/08/2021</td>\n",
       "    </tr>\n",
       "    <tr>\n",
       "      <th>total_penalties_initial</th>\n",
       "      <td>131994613.75</td>\n",
       "    </tr>\n",
       "    <tr>\n",
       "      <th>total_penalties_final</th>\n",
       "      <td>117682829.6</td>\n",
       "    </tr>\n",
       "    <tr>\n",
       "      <th>net_penalty_change</th>\n",
       "      <td>-14311784.15</td>\n",
       "    </tr>\n",
       "    <tr>\n",
       "      <th>net_penalty_decrease</th>\n",
       "      <td>-19912260.65</td>\n",
       "    </tr>\n",
       "    <tr>\n",
       "      <th>net_penalty_increase</th>\n",
       "      <td>5600476.5</td>\n",
       "    </tr>\n",
       "    <tr>\n",
       "      <th>facilities_w_penalty</th>\n",
       "      <td>2585</td>\n",
       "    </tr>\n",
       "  </tbody>\n",
       "</table>\n",
       "</div>"
      ],
      "text/plain": [
       "                                    0\n",
       "update_date                11/08/2021\n",
       "total_penalties_initial  131994613.75\n",
       "total_penalties_final     117682829.6\n",
       "net_penalty_change       -14311784.15\n",
       "net_penalty_decrease     -19912260.65\n",
       "net_penalty_increase        5600476.5\n",
       "facilities_w_penalty             2585"
      ]
     },
     "execution_count": 127,
     "metadata": {},
     "output_type": "execute_result"
    }
   ],
   "source": [
    "toplines.T"
   ]
  },
  {
   "cell_type": "markdown",
   "id": "0f1e4c3c-9afc-4a41-9b2e-65227c5826fe",
   "metadata": {},
   "source": [
    "---"
   ]
  },
  {
   "cell_type": "markdown",
   "id": "8ac2463d-482c-4d26-b153-fbcf5f5716a2",
   "metadata": {},
   "source": [
    "### Exports"
   ]
  },
  {
   "cell_type": "code",
   "execution_count": 128,
   "id": "800af292-1405-4c9b-b786-2e17073c665a",
   "metadata": {},
   "outputs": [],
   "source": [
    "merge_df.to_csv(\"data/processed/penalties_by_facility_rates_count_sum.csv\", index=False)"
   ]
  },
  {
   "cell_type": "code",
   "execution_count": 129,
   "id": "fe02b916-2cb2-4b05-a6c0-a301a21ec9b3",
   "metadata": {},
   "outputs": [],
   "source": [
    "toplines.to_json(\"data/processed/toplines.json\", indent=4, orient=\"records\")"
   ]
  }
 ],
 "metadata": {
  "kernelspec": {
   "display_name": "Python 3 (ipykernel)",
   "language": "python",
   "name": "python3"
  },
  "language_info": {
   "codemirror_mode": {
    "name": "ipython",
    "version": 3
   },
   "file_extension": ".py",
   "mimetype": "text/x-python",
   "name": "python",
   "nbconvert_exporter": "python",
   "pygments_lexer": "ipython3",
   "version": "3.8.11"
  }
 },
 "nbformat": 4,
 "nbformat_minor": 5
}
