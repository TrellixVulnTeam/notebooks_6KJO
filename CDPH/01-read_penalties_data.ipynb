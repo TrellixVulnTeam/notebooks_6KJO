{
 "cells": [
  {
   "cell_type": "markdown",
   "id": "da122fc4-ee66-470b-8672-302284adff11",
   "metadata": {
    "tags": []
   },
   "source": [
    "# CDPH penalties"
   ]
  },
  {
   "cell_type": "markdown",
   "id": "067f84b8-8447-4c2d-8d53-07ec4a5b733b",
   "metadata": {},
   "source": [
    "### Import Python tools and Jupyter configuration"
   ]
  },
  {
   "cell_type": "code",
   "execution_count": 1,
   "id": "35ffa199-2128-491a-96ca-f8b67bc2347c",
   "metadata": {},
   "outputs": [],
   "source": [
    "%load_ext lab_black"
   ]
  },
  {
   "cell_type": "code",
   "execution_count": 2,
   "id": "61e150c7-2f4d-4a36-9890-3359a85567a6",
   "metadata": {},
   "outputs": [
    {
     "name": "stderr",
     "output_type": "stream",
     "text": [
      "/Users/mhustiles/.local/share/virtualenvs/notebooks-xu8v5Vvv/lib/python3.8/site-packages/geopandas/_compat.py:106: UserWarning: The Shapely GEOS version (3.8.0-CAPI-1.13.1 ) is incompatible with the GEOS version PyGEOS was compiled with (3.9.1-CAPI-1.14.2). Conversions between both will be slow.\n",
      "  warnings.warn(\n"
     ]
    }
   ],
   "source": [
    "import pandas as pd\n",
    "import geopandas as gpd\n",
    "import matplotlib.pyplot as plt"
   ]
  },
  {
   "cell_type": "code",
   "execution_count": 3,
   "id": "0a1828ff-77ca-405a-b719-0ebb6d2aea4e",
   "metadata": {},
   "outputs": [
    {
     "data": {
      "text/plain": [
       "ThemeRegistry.enable('latimes')"
      ]
     },
     "execution_count": 3,
     "metadata": {},
     "output_type": "execute_result"
    }
   ],
   "source": [
    "import altair as alt\n",
    "import altair_latimes as lat\n",
    "\n",
    "alt.themes.register(\"latimes\", lat.theme)\n",
    "alt.themes.enable(\"latimes\")"
   ]
  },
  {
   "cell_type": "code",
   "execution_count": 4,
   "id": "25857074-f94b-44b4-9510-8da9af193dcc",
   "metadata": {},
   "outputs": [
    {
     "data": {
      "text/plain": [
       "DataTransformerRegistry.enable('default')"
      ]
     },
     "execution_count": 4,
     "metadata": {},
     "output_type": "execute_result"
    }
   ],
   "source": [
    "pd.options.display.max_columns = 100\n",
    "pd.options.display.max_rows = 1000\n",
    "pd.options.display.max_colwidth = None\n",
    "alt.data_transformers.disable_max_rows()"
   ]
  },
  {
   "cell_type": "markdown",
   "id": "180954b9-c6b6-4ba0-803d-2d6e95ca0087",
   "metadata": {},
   "source": [
    "---"
   ]
  },
  {
   "cell_type": "code",
   "execution_count": 46,
   "id": "c988ab1c-9244-40b6-b661-76d851e00c84",
   "metadata": {},
   "outputs": [],
   "source": [
    "penalties_src = pd.read_excel(\n",
    "    \"data/raw/CDPHpenalties.xlsx\",\n",
    "    skiprows=0,\n",
    "    sheet_name=\"DETAIL\",\n",
    "    dtype={\"PENALTY_NUMBER\": str},\n",
    ")"
   ]
  },
  {
   "cell_type": "code",
   "execution_count": 47,
   "id": "7a8201bf-0919-4887-a68e-c5fd2750225e",
   "metadata": {},
   "outputs": [
    {
     "data": {
      "text/plain": [
       "FACID                                   int64\n",
       "FACILITY_NAME                          object\n",
       "LTC                                    object\n",
       "FAC_TYPE_CODE                          object\n",
       "FAC_FDR                                object\n",
       "DISTRICT_OFFICE                        object\n",
       "PENALTY_ISSUE_DATE             datetime64[ns]\n",
       "PENALTY_NUMBER                         object\n",
       "DISPOSITION                            object\n",
       "PENALTY_TYPE                           object\n",
       "PENALTY_DETAIL                         object\n",
       "PENALTY_CATEGORY                       object\n",
       "PENALTY_CATEGORY_OTHER                 object\n",
       "VIOLATION_FROM_DATE            datetime64[ns]\n",
       "VIOLATION_TO_DATE              datetime64[ns]\n",
       "APPEALED                               object\n",
       "APPEAL_DUE_DATE                datetime64[ns]\n",
       "APPEAL_RECEIVED_DATE           datetime64[ns]\n",
       "CLASS_ASSESSED_INITIAL                 object\n",
       "CLASS_ASSESSED_FINAL                   object\n",
       "TOTAL_AMOUNT_INITIAL                  float64\n",
       "TOTAL_AMOUNT_DUE_FINAL                float64\n",
       "TOTAL_PENALTY_OFFSET_AMOUNT           float64\n",
       "TOTAL_COLLECTED_AMOUNT                float64\n",
       "TOTAL_BALANCE_DUE                     float64\n",
       "EVENTID                                object\n",
       "DEATH_RELATED                          object\n",
       "INTAKEID_ALL                           object\n",
       "PRIORITY_ALL                           object\n",
       "SFY                                    object\n",
       "dtype: object"
      ]
     },
     "execution_count": 47,
     "metadata": {},
     "output_type": "execute_result"
    }
   ],
   "source": [
    "penalties_src.dtypes"
   ]
  },
  {
   "cell_type": "code",
   "execution_count": 48,
   "id": "d40338be-2ac8-474d-b54c-14057c037445",
   "metadata": {},
   "outputs": [],
   "source": [
    "penalties_src.columns = penalties_src.columns.str.lower()"
   ]
  },
  {
   "cell_type": "code",
   "execution_count": 49,
   "id": "fdadabf3-f0d0-4a9e-bcc1-c8bc55937dc6",
   "metadata": {},
   "outputs": [
    {
     "data": {
      "text/html": [
       "<div>\n",
       "<style scoped>\n",
       "    .dataframe tbody tr th:only-of-type {\n",
       "        vertical-align: middle;\n",
       "    }\n",
       "\n",
       "    .dataframe tbody tr th {\n",
       "        vertical-align: top;\n",
       "    }\n",
       "\n",
       "    .dataframe thead th {\n",
       "        text-align: right;\n",
       "    }\n",
       "</style>\n",
       "<table border=\"1\" class=\"dataframe\">\n",
       "  <thead>\n",
       "    <tr style=\"text-align: right;\">\n",
       "      <th></th>\n",
       "      <th>facid</th>\n",
       "      <th>facility_name</th>\n",
       "      <th>ltc</th>\n",
       "      <th>fac_type_code</th>\n",
       "      <th>fac_fdr</th>\n",
       "      <th>district_office</th>\n",
       "      <th>penalty_issue_date</th>\n",
       "      <th>penalty_number</th>\n",
       "      <th>disposition</th>\n",
       "      <th>penalty_type</th>\n",
       "      <th>penalty_detail</th>\n",
       "      <th>penalty_category</th>\n",
       "      <th>penalty_category_other</th>\n",
       "      <th>violation_from_date</th>\n",
       "      <th>violation_to_date</th>\n",
       "      <th>appealed</th>\n",
       "      <th>appeal_due_date</th>\n",
       "      <th>appeal_received_date</th>\n",
       "      <th>class_assessed_initial</th>\n",
       "      <th>class_assessed_final</th>\n",
       "      <th>total_amount_initial</th>\n",
       "      <th>total_amount_due_final</th>\n",
       "      <th>total_penalty_offset_amount</th>\n",
       "      <th>total_collected_amount</th>\n",
       "      <th>total_balance_due</th>\n",
       "      <th>eventid</th>\n",
       "      <th>death_related</th>\n",
       "      <th>intakeid_all</th>\n",
       "      <th>priority_all</th>\n",
       "      <th>sfy</th>\n",
       "    </tr>\n",
       "  </thead>\n",
       "  <tbody>\n",
       "    <tr>\n",
       "      <th>12434</th>\n",
       "      <td>940000041</td>\n",
       "      <td>VILLA DEL RIO GARDENS</td>\n",
       "      <td>LTC</td>\n",
       "      <td>SNF</td>\n",
       "      <td>Skilled Nursing Facility</td>\n",
       "      <td>LA Region 3</td>\n",
       "      <td>2018-06-22</td>\n",
       "      <td>940014172</td>\n",
       "      <td>Closed</td>\n",
       "      <td>Citation</td>\n",
       "      <td>Citation A (HSC 1424)</td>\n",
       "      <td>Patient Care</td>\n",
       "      <td>NaN</td>\n",
       "      <td>2018-02-08</td>\n",
       "      <td>2018-02-08</td>\n",
       "      <td>No</td>\n",
       "      <td>2018-07-16</td>\n",
       "      <td>NaT</td>\n",
       "      <td>A</td>\n",
       "      <td>NaN</td>\n",
       "      <td>20000.0</td>\n",
       "      <td>60000.0</td>\n",
       "      <td>-21000.0</td>\n",
       "      <td>39000.0</td>\n",
       "      <td>0.0</td>\n",
       "      <td>XVGB11</td>\n",
       "      <td>Y</td>\n",
       "      <td>CA00574618, CA00574618, CA00574618, CA00574618, CA00574618, CA00575079, CA00575079</td>\n",
       "      <td>A, A, A, A, A, B, B</td>\n",
       "      <td>SFY2017-18</td>\n",
       "    </tr>\n",
       "  </tbody>\n",
       "</table>\n",
       "</div>"
      ],
      "text/plain": [
       "           facid          facility_name  ltc fac_type_code  \\\n",
       "12434  940000041  VILLA DEL RIO GARDENS  LTC           SNF   \n",
       "\n",
       "                        fac_fdr district_office penalty_issue_date  \\\n",
       "12434  Skilled Nursing Facility     LA Region 3         2018-06-22   \n",
       "\n",
       "      penalty_number disposition penalty_type         penalty_detail  \\\n",
       "12434      940014172      Closed     Citation  Citation A (HSC 1424)   \n",
       "\n",
       "      penalty_category penalty_category_other violation_from_date  \\\n",
       "12434     Patient Care                    NaN          2018-02-08   \n",
       "\n",
       "      violation_to_date appealed appeal_due_date appeal_received_date  \\\n",
       "12434        2018-02-08       No      2018-07-16                  NaT   \n",
       "\n",
       "      class_assessed_initial class_assessed_final  total_amount_initial  \\\n",
       "12434                      A                  NaN               20000.0   \n",
       "\n",
       "       total_amount_due_final  total_penalty_offset_amount  \\\n",
       "12434                 60000.0                     -21000.0   \n",
       "\n",
       "       total_collected_amount  total_balance_due eventid death_related  \\\n",
       "12434                 39000.0                0.0  XVGB11             Y   \n",
       "\n",
       "                                                                             intakeid_all  \\\n",
       "12434  CA00574618, CA00574618, CA00574618, CA00574618, CA00574618, CA00575079, CA00575079   \n",
       "\n",
       "              priority_all         sfy  \n",
       "12434  A, A, A, A, A, B, B  SFY2017-18  "
      ]
     },
     "execution_count": 49,
     "metadata": {},
     "output_type": "execute_result"
    }
   ],
   "source": [
    "penalties_src[penalties_src[\"penalty_number\"].str.contains(\"940014172\")]"
   ]
  },
  {
   "cell_type": "code",
   "execution_count": null,
   "id": "3d90e779-bed3-4d1f-8e3a-763cd76364d9",
   "metadata": {},
   "outputs": [],
   "source": []
  }
 ],
 "metadata": {
  "kernelspec": {
   "display_name": "Python 3 (ipykernel)",
   "language": "python",
   "name": "python3"
  },
  "language_info": {
   "codemirror_mode": {
    "name": "ipython",
    "version": 3
   },
   "file_extension": ".py",
   "mimetype": "text/x-python",
   "name": "python",
   "nbconvert_exporter": "python",
   "pygments_lexer": "ipython3",
   "version": "3.8.11"
  }
 },
 "nbformat": 4,
 "nbformat_minor": 5
}
