{
 "cells": [
  {
   "cell_type": "markdown",
   "id": "da122fc4-ee66-470b-8672-302284adff11",
   "metadata": {
    "tags": []
   },
   "source": [
    "# CDPH penalties"
   ]
  },
  {
   "cell_type": "markdown",
   "id": "067f84b8-8447-4c2d-8d53-07ec4a5b733b",
   "metadata": {},
   "source": [
    "### Import Python tools and Jupyter configuration"
   ]
  },
  {
   "cell_type": "code",
   "execution_count": 1,
   "id": "35ffa199-2128-491a-96ca-f8b67bc2347c",
   "metadata": {},
   "outputs": [],
   "source": [
    "%load_ext lab_black"
   ]
  },
  {
   "cell_type": "code",
   "execution_count": 2,
   "id": "61e150c7-2f4d-4a36-9890-3359a85567a6",
   "metadata": {},
   "outputs": [],
   "source": [
    "import pandas as pd"
   ]
  },
  {
   "cell_type": "code",
   "execution_count": 3,
   "id": "0a1828ff-77ca-405a-b719-0ebb6d2aea4e",
   "metadata": {},
   "outputs": [
    {
     "data": {
      "text/plain": [
       "ThemeRegistry.enable('latimes')"
      ]
     },
     "execution_count": 3,
     "metadata": {},
     "output_type": "execute_result"
    }
   ],
   "source": [
    "import altair as alt\n",
    "import altair_latimes as lat\n",
    "\n",
    "alt.themes.register(\"latimes\", lat.theme)\n",
    "alt.themes.enable(\"latimes\")"
   ]
  },
  {
   "cell_type": "code",
   "execution_count": 4,
   "id": "25857074-f94b-44b4-9510-8da9af193dcc",
   "metadata": {},
   "outputs": [
    {
     "data": {
      "text/plain": [
       "DataTransformerRegistry.enable('default')"
      ]
     },
     "execution_count": 4,
     "metadata": {},
     "output_type": "execute_result"
    }
   ],
   "source": [
    "pd.options.display.max_columns = 100\n",
    "pd.options.display.max_rows = 1000\n",
    "pd.options.display.max_colwidth = None\n",
    "alt.data_transformers.disable_max_rows()"
   ]
  },
  {
   "cell_type": "markdown",
   "id": "180954b9-c6b6-4ba0-803d-2d6e95ca0087",
   "metadata": {},
   "source": [
    "---"
   ]
  },
  {
   "cell_type": "code",
   "execution_count": 5,
   "id": "c988ab1c-9244-40b6-b661-76d851e00c84",
   "metadata": {},
   "outputs": [],
   "source": [
    "penalties_src = pd.read_excel(\n",
    "    \"data/raw/CDPHpenalties.xlsx\",\n",
    "    skiprows=0,\n",
    "    sheet_name=\"DETAIL\",\n",
    "    dtype={\"PENALTY_NUMBER\": str, \"FACID\": str, \"PENALTY_NUMBER\": str},\n",
    ")"
   ]
  },
  {
   "cell_type": "code",
   "execution_count": 6,
   "id": "78181a29-3abf-436f-ac5e-9ab93a7a6e1f",
   "metadata": {},
   "outputs": [],
   "source": [
    "penalties_src.columns = penalties_src.columns.str.lower()"
   ]
  },
  {
   "cell_type": "markdown",
   "id": "596c5464-1acd-4181-8c09-373082d06b5b",
   "metadata": {},
   "source": [
    "### How many facilities are in the data (some have multiple cases)?"
   ]
  },
  {
   "cell_type": "code",
   "execution_count": 7,
   "id": "65c5da88-379e-4c4c-8cc1-c9cea2ba40e1",
   "metadata": {},
   "outputs": [
    {
     "data": {
      "text/plain": [
       "2585"
      ]
     },
     "execution_count": 7,
     "metadata": {},
     "output_type": "execute_result"
    }
   ],
   "source": [
    "len(penalties_src.facid.unique())"
   ]
  },
  {
   "cell_type": "code",
   "execution_count": 8,
   "id": "db0b786a-8675-4594-9405-12aead42e9c9",
   "metadata": {},
   "outputs": [],
   "source": [
    "penalties_df = penalties_src.copy()"
   ]
  },
  {
   "cell_type": "code",
   "execution_count": 9,
   "id": "bc735e14-f262-466f-9bbc-ea200d0dcb74",
   "metadata": {},
   "outputs": [],
   "source": [
    "penalties_df[\"facid_join\"] = penalties_df[\"facid\"]"
   ]
  },
  {
   "cell_type": "markdown",
   "id": "58286da9-a539-40b1-9cd2-0acf5a61971a",
   "metadata": {},
   "source": [
    "### How many cases? "
   ]
  },
  {
   "cell_type": "code",
   "execution_count": 10,
   "id": "ce0a4994-efca-40b6-aac6-9914feef1ab0",
   "metadata": {},
   "outputs": [
    {
     "data": {
      "text/plain": [
       "17027"
      ]
     },
     "execution_count": 10,
     "metadata": {},
     "output_type": "execute_result"
    }
   ],
   "source": [
    "len(penalties_df)"
   ]
  },
  {
   "cell_type": "markdown",
   "id": "f2ed5207-6d88-422c-a02a-aa9b74604880",
   "metadata": {
    "tags": []
   },
   "source": [
    "### Count penalties by facility"
   ]
  },
  {
   "cell_type": "code",
   "execution_count": 43,
   "id": "5c54ccca-4332-42ce-b603-05be8cbde7d4",
   "metadata": {},
   "outputs": [],
   "source": [
    "penalties_grouped = (\n",
    "    penalties_df.groupby([\"facid\", \"facility_name\"])\n",
    "    .agg({\"facid_join\": \"count\", \"total_amount_due_final\": sum})\n",
    "    .reset_index()\n",
    "    .rename(\n",
    "        columns={\"facid_join\": \"penalties\", \"total_amount_due_final\": \"penalties_sum\"}\n",
    "    )\n",
    ")"
   ]
  },
  {
   "cell_type": "code",
   "execution_count": 44,
   "id": "889b218a-60f2-47c2-8a7e-37b29a7f42f5",
   "metadata": {},
   "outputs": [
    {
     "data": {
      "text/plain": [
       "2585"
      ]
     },
     "execution_count": 44,
     "metadata": {},
     "output_type": "execute_result"
    }
   ],
   "source": [
    "len(penalties_grouped)"
   ]
  },
  {
   "cell_type": "code",
   "execution_count": 45,
   "id": "5c47ff47-e7a7-496b-869c-9de221a842da",
   "metadata": {},
   "outputs": [
    {
     "data": {
      "text/html": [
       "<div>\n",
       "<style scoped>\n",
       "    .dataframe tbody tr th:only-of-type {\n",
       "        vertical-align: middle;\n",
       "    }\n",
       "\n",
       "    .dataframe tbody tr th {\n",
       "        vertical-align: top;\n",
       "    }\n",
       "\n",
       "    .dataframe thead th {\n",
       "        text-align: right;\n",
       "    }\n",
       "</style>\n",
       "<table border=\"1\" class=\"dataframe\">\n",
       "  <thead>\n",
       "    <tr style=\"text-align: right;\">\n",
       "      <th></th>\n",
       "      <th>facid</th>\n",
       "      <th>facility_name</th>\n",
       "      <th>penalties</th>\n",
       "      <th>penalties_sum</th>\n",
       "    </tr>\n",
       "  </thead>\n",
       "  <tbody>\n",
       "    <tr>\n",
       "      <th>0</th>\n",
       "      <td>010000001</td>\n",
       "      <td>VINEYARD POST ACUTE</td>\n",
       "      <td>21</td>\n",
       "      <td>151109.00</td>\n",
       "    </tr>\n",
       "    <tr>\n",
       "      <th>1</th>\n",
       "      <td>010000003</td>\n",
       "      <td>CREEKSIDE REHABILITATION &amp; BEHAVIORAL HEALTH</td>\n",
       "      <td>35</td>\n",
       "      <td>116879.04</td>\n",
       "    </tr>\n",
       "    <tr>\n",
       "      <th>2</th>\n",
       "      <td>010000004</td>\n",
       "      <td>CRESCENT CITY SKILLED NURSING</td>\n",
       "      <td>15</td>\n",
       "      <td>58000.00</td>\n",
       "    </tr>\n",
       "    <tr>\n",
       "      <th>3</th>\n",
       "      <td>010000005</td>\n",
       "      <td>WINDSOR CARE CENTER OF PETALUMA</td>\n",
       "      <td>41</td>\n",
       "      <td>292800.00</td>\n",
       "    </tr>\n",
       "    <tr>\n",
       "      <th>4</th>\n",
       "      <td>010000020</td>\n",
       "      <td>FIRCREST CONVALESCENT HOSPITAL</td>\n",
       "      <td>24</td>\n",
       "      <td>81600.00</td>\n",
       "    </tr>\n",
       "    <tr>\n",
       "      <th>...</th>\n",
       "      <td>...</td>\n",
       "      <td>...</td>\n",
       "      <td>...</td>\n",
       "      <td>...</td>\n",
       "    </tr>\n",
       "    <tr>\n",
       "      <th>2580</th>\n",
       "      <td>970000194</td>\n",
       "      <td>BRIGHTON CARE CENTER</td>\n",
       "      <td>11</td>\n",
       "      <td>21200.00</td>\n",
       "    </tr>\n",
       "    <tr>\n",
       "      <th>2581</th>\n",
       "      <td>980000764</td>\n",
       "      <td>CAREMERIDIAN - BERMUDA HOUSE</td>\n",
       "      <td>4</td>\n",
       "      <td>4000.00</td>\n",
       "    </tr>\n",
       "    <tr>\n",
       "      <th>2582</th>\n",
       "      <td>980000858</td>\n",
       "      <td>CAREMERIDIAN - MAYALL HOUSE</td>\n",
       "      <td>2</td>\n",
       "      <td>1500.00</td>\n",
       "    </tr>\n",
       "    <tr>\n",
       "      <th>2583</th>\n",
       "      <td>980002279</td>\n",
       "      <td>NEURORESTORATIVE CALIFORNIA</td>\n",
       "      <td>1</td>\n",
       "      <td>1000.00</td>\n",
       "    </tr>\n",
       "    <tr>\n",
       "      <th>2584</th>\n",
       "      <td>980002508</td>\n",
       "      <td>THE CENTER FOR DISCOVERY AND ADOLESCENT CHANGE</td>\n",
       "      <td>3</td>\n",
       "      <td>34500.00</td>\n",
       "    </tr>\n",
       "  </tbody>\n",
       "</table>\n",
       "<p>2585 rows × 4 columns</p>\n",
       "</div>"
      ],
      "text/plain": [
       "          facid                                   facility_name  penalties  \\\n",
       "0     010000001                             VINEYARD POST ACUTE         21   \n",
       "1     010000003    CREEKSIDE REHABILITATION & BEHAVIORAL HEALTH         35   \n",
       "2     010000004                   CRESCENT CITY SKILLED NURSING         15   \n",
       "3     010000005                 WINDSOR CARE CENTER OF PETALUMA         41   \n",
       "4     010000020                  FIRCREST CONVALESCENT HOSPITAL         24   \n",
       "...         ...                                             ...        ...   \n",
       "2580  970000194                            BRIGHTON CARE CENTER         11   \n",
       "2581  980000764                    CAREMERIDIAN - BERMUDA HOUSE          4   \n",
       "2582  980000858                     CAREMERIDIAN - MAYALL HOUSE          2   \n",
       "2583  980002279                     NEURORESTORATIVE CALIFORNIA          1   \n",
       "2584  980002508  THE CENTER FOR DISCOVERY AND ADOLESCENT CHANGE          3   \n",
       "\n",
       "      penalties_sum  \n",
       "0         151109.00  \n",
       "1         116879.04  \n",
       "2          58000.00  \n",
       "3         292800.00  \n",
       "4          81600.00  \n",
       "...             ...  \n",
       "2580       21200.00  \n",
       "2581        4000.00  \n",
       "2582        1500.00  \n",
       "2583        1000.00  \n",
       "2584       34500.00  \n",
       "\n",
       "[2585 rows x 4 columns]"
      ]
     },
     "execution_count": 45,
     "metadata": {},
     "output_type": "execute_result"
    }
   ],
   "source": [
    "penalties_grouped"
   ]
  },
  {
   "cell_type": "markdown",
   "id": "4c228ca0-a66f-49b2-9f2a-1551be7da210",
   "metadata": {},
   "source": [
    "---"
   ]
  },
  {
   "cell_type": "markdown",
   "id": "99fbea13-9b6f-472f-aafe-be1f95543a97",
   "metadata": {},
   "source": [
    "### Facilities and bed counts"
   ]
  },
  {
   "cell_type": "code",
   "execution_count": 46,
   "id": "24d2cfd8-29b2-4617-8608-bc94d059b6c5",
   "metadata": {},
   "outputs": [],
   "source": [
    "facilities_df = pd.read_csv(\"data/processed/facility_beds.csv\", dtype={\"facid\": str})"
   ]
  },
  {
   "cell_type": "code",
   "execution_count": 47,
   "id": "67d8abe8-d38b-484e-aed8-39706a2a086d",
   "metadata": {},
   "outputs": [],
   "source": [
    "facilities_grouped = (\n",
    "    facilities_df[facilities_df[\"bed_capacity\"] >= 20]\n",
    "    .groupby([\"facid\", \"facname\", \"fac_fdr\"])\n",
    "    .agg({\"bed_capacity\": sum})\n",
    "    .reset_index()\n",
    ")"
   ]
  },
  {
   "cell_type": "code",
   "execution_count": 48,
   "id": "d53a89a1-cbfa-4972-bad5-7635862de131",
   "metadata": {},
   "outputs": [],
   "source": [
    "# facilities_df.drop_duplicates(subset=[\"facid\"], keep=\"first\", inplace=True)"
   ]
  },
  {
   "cell_type": "markdown",
   "id": "b8415fa6-8652-4c35-b745-fd65f174c51e",
   "metadata": {},
   "source": [
    "---"
   ]
  },
  {
   "cell_type": "markdown",
   "id": "31881742-8282-4285-8d14-fcbebeed70d9",
   "metadata": {},
   "source": [
    "### Merge bed counts"
   ]
  },
  {
   "cell_type": "code",
   "execution_count": 49,
   "id": "57189437-21ff-4d2b-89ea-cb9f520ca7b1",
   "metadata": {},
   "outputs": [],
   "source": [
    "merge = penalties_grouped.merge(\n",
    "    facilities_grouped[[\"facid\", \"bed_capacity\", \"fac_fdr\"]], on=\"facid\", how=\"left\"\n",
    ").fillna(0)"
   ]
  },
  {
   "cell_type": "code",
   "execution_count": 50,
   "id": "8f94a1d4-d4ea-41bd-85c9-35e9b7470bfa",
   "metadata": {},
   "outputs": [],
   "source": [
    "merge_df = merge[merge[\"bed_capacity\"] > 0].copy()"
   ]
  },
  {
   "cell_type": "code",
   "execution_count": 51,
   "id": "c4969ff8-6bb3-4a27-9c61-6191a593cb5b",
   "metadata": {},
   "outputs": [
    {
     "data": {
      "text/html": [
       "<div>\n",
       "<style scoped>\n",
       "    .dataframe tbody tr th:only-of-type {\n",
       "        vertical-align: middle;\n",
       "    }\n",
       "\n",
       "    .dataframe tbody tr th {\n",
       "        vertical-align: top;\n",
       "    }\n",
       "\n",
       "    .dataframe thead th {\n",
       "        text-align: right;\n",
       "    }\n",
       "</style>\n",
       "<table border=\"1\" class=\"dataframe\">\n",
       "  <thead>\n",
       "    <tr style=\"text-align: right;\">\n",
       "      <th></th>\n",
       "      <th>facid</th>\n",
       "      <th>facility_name</th>\n",
       "      <th>penalties</th>\n",
       "      <th>penalties_sum</th>\n",
       "      <th>bed_capacity</th>\n",
       "      <th>fac_fdr</th>\n",
       "    </tr>\n",
       "  </thead>\n",
       "  <tbody>\n",
       "    <tr>\n",
       "      <th>0</th>\n",
       "      <td>010000001</td>\n",
       "      <td>VINEYARD POST ACUTE</td>\n",
       "      <td>21</td>\n",
       "      <td>151109.00</td>\n",
       "      <td>99.0</td>\n",
       "      <td>SKILLED NURSING FACILITY</td>\n",
       "    </tr>\n",
       "    <tr>\n",
       "      <th>1</th>\n",
       "      <td>010000003</td>\n",
       "      <td>CREEKSIDE REHABILITATION &amp; BEHAVIORAL HEALTH</td>\n",
       "      <td>35</td>\n",
       "      <td>116879.04</td>\n",
       "      <td>181.0</td>\n",
       "      <td>SKILLED NURSING FACILITY</td>\n",
       "    </tr>\n",
       "    <tr>\n",
       "      <th>2</th>\n",
       "      <td>010000004</td>\n",
       "      <td>CRESCENT CITY SKILLED NURSING</td>\n",
       "      <td>15</td>\n",
       "      <td>58000.00</td>\n",
       "      <td>99.0</td>\n",
       "      <td>SKILLED NURSING FACILITY</td>\n",
       "    </tr>\n",
       "    <tr>\n",
       "      <th>3</th>\n",
       "      <td>010000005</td>\n",
       "      <td>WINDSOR CARE CENTER OF PETALUMA</td>\n",
       "      <td>41</td>\n",
       "      <td>292800.00</td>\n",
       "      <td>79.0</td>\n",
       "      <td>SKILLED NURSING FACILITY</td>\n",
       "    </tr>\n",
       "    <tr>\n",
       "      <th>6</th>\n",
       "      <td>010000024</td>\n",
       "      <td>GRANADA REHAB &amp; WELLNESS CENTER, LP</td>\n",
       "      <td>29</td>\n",
       "      <td>142259.00</td>\n",
       "      <td>87.0</td>\n",
       "      <td>SKILLED NURSING FACILITY</td>\n",
       "    </tr>\n",
       "    <tr>\n",
       "      <th>...</th>\n",
       "      <td>...</td>\n",
       "      <td>...</td>\n",
       "      <td>...</td>\n",
       "      <td>...</td>\n",
       "      <td>...</td>\n",
       "      <td>...</td>\n",
       "    </tr>\n",
       "    <tr>\n",
       "      <th>2575</th>\n",
       "      <td>970000178</td>\n",
       "      <td>VILLA GARDENS HEALTH CARE UNIT</td>\n",
       "      <td>1</td>\n",
       "      <td>500.00</td>\n",
       "      <td>54.0</td>\n",
       "      <td>SKILLED NURSING FACILITY</td>\n",
       "    </tr>\n",
       "    <tr>\n",
       "      <th>2576</th>\n",
       "      <td>970000184</td>\n",
       "      <td>PASADENA PARK HEALTHCARE AND WELLNESS CENTER</td>\n",
       "      <td>4</td>\n",
       "      <td>23000.00</td>\n",
       "      <td>99.0</td>\n",
       "      <td>SKILLED NURSING FACILITY</td>\n",
       "    </tr>\n",
       "    <tr>\n",
       "      <th>2577</th>\n",
       "      <td>970000186</td>\n",
       "      <td>LEGACY HEALTHCARE CENTER</td>\n",
       "      <td>15</td>\n",
       "      <td>82450.00</td>\n",
       "      <td>54.0</td>\n",
       "      <td>SKILLED NURSING FACILITY</td>\n",
       "    </tr>\n",
       "    <tr>\n",
       "      <th>2578</th>\n",
       "      <td>970000188</td>\n",
       "      <td>PASADENA CARE CENTER, LLC</td>\n",
       "      <td>8</td>\n",
       "      <td>57000.00</td>\n",
       "      <td>99.0</td>\n",
       "      <td>SKILLED NURSING FACILITY</td>\n",
       "    </tr>\n",
       "    <tr>\n",
       "      <th>2580</th>\n",
       "      <td>970000194</td>\n",
       "      <td>BRIGHTON CARE CENTER</td>\n",
       "      <td>11</td>\n",
       "      <td>21200.00</td>\n",
       "      <td>99.0</td>\n",
       "      <td>SKILLED NURSING FACILITY</td>\n",
       "    </tr>\n",
       "  </tbody>\n",
       "</table>\n",
       "<p>1449 rows × 6 columns</p>\n",
       "</div>"
      ],
      "text/plain": [
       "          facid                                 facility_name  penalties  \\\n",
       "0     010000001                           VINEYARD POST ACUTE         21   \n",
       "1     010000003  CREEKSIDE REHABILITATION & BEHAVIORAL HEALTH         35   \n",
       "2     010000004                 CRESCENT CITY SKILLED NURSING         15   \n",
       "3     010000005               WINDSOR CARE CENTER OF PETALUMA         41   \n",
       "6     010000024           GRANADA REHAB & WELLNESS CENTER, LP         29   \n",
       "...         ...                                           ...        ...   \n",
       "2575  970000178                VILLA GARDENS HEALTH CARE UNIT          1   \n",
       "2576  970000184  PASADENA PARK HEALTHCARE AND WELLNESS CENTER          4   \n",
       "2577  970000186                      LEGACY HEALTHCARE CENTER         15   \n",
       "2578  970000188                     PASADENA CARE CENTER, LLC          8   \n",
       "2580  970000194                          BRIGHTON CARE CENTER         11   \n",
       "\n",
       "      penalties_sum  bed_capacity                   fac_fdr  \n",
       "0         151109.00          99.0  SKILLED NURSING FACILITY  \n",
       "1         116879.04         181.0  SKILLED NURSING FACILITY  \n",
       "2          58000.00          99.0  SKILLED NURSING FACILITY  \n",
       "3         292800.00          79.0  SKILLED NURSING FACILITY  \n",
       "6         142259.00          87.0  SKILLED NURSING FACILITY  \n",
       "...             ...           ...                       ...  \n",
       "2575         500.00          54.0  SKILLED NURSING FACILITY  \n",
       "2576       23000.00          99.0  SKILLED NURSING FACILITY  \n",
       "2577       82450.00          54.0  SKILLED NURSING FACILITY  \n",
       "2578       57000.00          99.0  SKILLED NURSING FACILITY  \n",
       "2580       21200.00          99.0  SKILLED NURSING FACILITY  \n",
       "\n",
       "[1449 rows x 6 columns]"
      ]
     },
     "execution_count": 51,
     "metadata": {},
     "output_type": "execute_result"
    }
   ],
   "source": [
    "merge_df"
   ]
  },
  {
   "cell_type": "code",
   "execution_count": 52,
   "id": "0c1e256e-98a5-47f1-b5be-e34c07fdd1b4",
   "metadata": {},
   "outputs": [],
   "source": [
    "merge_df[\"penalties_per_10_beds\"] = (\n",
    "    (merge_df[\"penalties\"] / merge_df[\"bed_capacity\"]) * 10\n",
    ").round(2)"
   ]
  },
  {
   "cell_type": "code",
   "execution_count": 55,
   "id": "e8805915-26e6-4b9a-8020-5ee0d77f9f3f",
   "metadata": {},
   "outputs": [],
   "source": [
    "merge_df[\"penalties_sum_per_10_beds\"] = (\n",
    "    (merge_df[\"penalties_sum\"] / merge_df[\"bed_capacity\"]) * 10\n",
    ").round(2)"
   ]
  },
  {
   "cell_type": "code",
   "execution_count": 57,
   "id": "5a750522-64ec-4e02-ba07-52aff05b9031",
   "metadata": {},
   "outputs": [],
   "source": [
    "merge_df.sort_values([\"penalties_sum_per_10_beds\"], ascending=False).head(20)"
   ]
  },
  {
   "cell_type": "markdown",
   "id": "0f1e4c3c-9afc-4a41-9b2e-65227c5826fe",
   "metadata": {},
   "source": [
    "---"
   ]
  },
  {
   "cell_type": "markdown",
   "id": "8ac2463d-482c-4d26-b153-fbcf5f5716a2",
   "metadata": {},
   "source": [
    "### Exports"
   ]
  },
  {
   "cell_type": "code",
   "execution_count": 58,
   "id": "40ecf2b9-2127-416d-a49a-1b0530dfcb51",
   "metadata": {},
   "outputs": [],
   "source": [
    "merge_df.to_csv(\"data/processed/penalties_by_facility_rates_count_sum.csv\", index=False)"
   ]
  }
 ],
 "metadata": {
  "kernelspec": {
   "display_name": "Python 3 (ipykernel)",
   "language": "python",
   "name": "python3"
  },
  "language_info": {
   "codemirror_mode": {
    "name": "ipython",
    "version": 3
   },
   "file_extension": ".py",
   "mimetype": "text/x-python",
   "name": "python",
   "nbconvert_exporter": "python",
   "pygments_lexer": "ipython3",
   "version": "3.8.11"
  }
 },
 "nbformat": 4,
 "nbformat_minor": 5
}
