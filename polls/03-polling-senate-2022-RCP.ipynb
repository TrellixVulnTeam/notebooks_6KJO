{
 "cells": [
  {
   "cell_type": "markdown",
   "id": "8d8d0a7d-da1c-4eb3-8888-83f7313ca27c",
   "metadata": {},
   "source": [
    "# RealClearPolitics: 2022 Senate polls"
   ]
  },
  {
   "cell_type": "markdown",
   "id": "6d2cc002-7e40-42dd-8a3f-9ad7988eddf2",
   "metadata": {},
   "source": [
    "#### Import Python tools"
   ]
  },
  {
   "cell_type": "code",
   "execution_count": 1,
   "id": "73969e31-9d56-4bc9-baac-af8be15be176",
   "metadata": {},
   "outputs": [],
   "source": [
    "%load_ext lab_black"
   ]
  },
  {
   "cell_type": "code",
   "execution_count": 35,
   "id": "b79a65f5-784c-4bbb-85b7-d3ae8c81518e",
   "metadata": {},
   "outputs": [],
   "source": [
    "import pandas as pd\n",
    "import geopandas as gpd\n",
    "import altair as alt\n",
    "import altair_grid as altgrid\n",
    "import numpy as np\n",
    "import us\n",
    "import urllib.request, json\n",
    "import glob\n",
    "import os\n",
    "import requests\n",
    "from selenium import webdriver\n",
    "from selenium.webdriver.chrome.options import Options\n",
    "from selenium.webdriver.chrome.service import Service\n",
    "from bs4 import BeautifulSoup\n",
    "import os\n",
    "import time"
   ]
  },
  {
   "cell_type": "code",
   "execution_count": 2,
   "id": "2b744446-4ec8-4a4c-8b34-255d307da4b7",
   "metadata": {},
   "outputs": [
    {
     "data": {
      "text/plain": [
       "ThemeRegistry.enable('grid')"
      ]
     },
     "execution_count": 2,
     "metadata": {},
     "output_type": "execute_result"
    }
   ],
   "source": [
    "alt.themes.register(\"grid\", altgrid.theme)\n",
    "alt.themes.enable(\"grid\")"
   ]
  },
  {
   "cell_type": "code",
   "execution_count": 3,
   "id": "db8bcb16-5fae-44bc-b35a-dda8af7d69b4",
   "metadata": {
    "tags": []
   },
   "outputs": [],
   "source": [
    "pd.options.display.max_columns = 1000\n",
    "pd.options.display.max_rows = 1000\n",
    "alt.data_transformers.disable_max_rows()\n",
    "pd.set_option(\"display.max_colwidth\", None)"
   ]
  },
  {
   "cell_type": "code",
   "execution_count": 4,
   "id": "afd0c39b-38df-45f5-b1cb-cbbb1df10be6",
   "metadata": {},
   "outputs": [],
   "source": [
    "today = pd.to_datetime(\"today\").strftime(\"%Y-%m-%d\")"
   ]
  },
  {
   "cell_type": "markdown",
   "id": "ad46ec8b-852d-46b0-ad23-800a1b2d45b8",
   "metadata": {},
   "source": [
    "---"
   ]
  },
  {
   "cell_type": "markdown",
   "id": "13eea883-3b49-4896-848b-5555f81a9080",
   "metadata": {},
   "source": [
    "## Harvest data "
   ]
  },
  {
   "cell_type": "markdown",
   "id": "eb13c965-338e-493c-9e8c-6d17220b265e",
   "metadata": {},
   "source": [
    "#### First, get all the poll page urls from the 2022 landing page"
   ]
  },
  {
   "cell_type": "code",
   "execution_count": 30,
   "id": "b4059360-52eb-4a6c-bf26-3608dcc236e1",
   "metadata": {},
   "outputs": [],
   "source": [
    "url = 'https://www.realclearpolitics.com/epolls/latest_polls/senate/'"
   ]
  },
  {
   "cell_type": "code",
   "execution_count": 36,
   "id": "23c697c8-f7f8-4e9a-821b-84a036ec4eb8",
   "metadata": {},
   "outputs": [],
   "source": [
    "path = \"/Users/stiles/github/chromedriver\"\n",
    "s = Service(path)\n",
    "driver = webdriver.Chrome(service=s)"
   ]
  },
  {
   "cell_type": "code",
   "execution_count": 37,
   "id": "4fc132ba-b3e5-4f9a-8e0c-d8783d59f760",
   "metadata": {},
   "outputs": [],
   "source": [
    "url = 'https://www.realclearpolitics.com/epolls/latest_polls/senate/'\n",
    "driver.get(url)\n",
    "html = driver.page_source"
   ]
  },
  {
   "cell_type": "code",
   "execution_count": 41,
   "id": "d69d1f01-8b0c-461c-b71f-d45ac43aacd7",
   "metadata": {},
   "outputs": [],
   "source": [
    "soup = BeautifulSoup(html, \"html.parser\")\n",
    "links = soup.findAll(\"a\")"
   ]
  },
  {
   "cell_type": "code",
   "execution_count": 58,
   "id": "a4c5273e-183b-4879-8b0a-ad7af0f9c7b2",
   "metadata": {},
   "outputs": [],
   "source": [
    "data = soup.findAll('td',attrs={'class':'lp-race'})"
   ]
  },
  {
   "cell_type": "code",
   "execution_count": 66,
   "id": "a0f4ecac-777f-4e97-b90e-c479bf2b80b7",
   "metadata": {},
   "outputs": [],
   "source": [
    "links = []\n",
    "\n",
    "for td in data:\n",
    "    page_links = td.findAll('a')\n",
    "    for a in page_links:\n",
    "        links.append(\"https://www.realclearpolitics.com\" + a['href'])"
   ]
  },
  {
   "cell_type": "code",
   "execution_count": 70,
   "id": "14f07b7c-850b-4029-a705-c4fa72bd7bbe",
   "metadata": {},
   "outputs": [],
   "source": [
    "links = list(set(links))"
   ]
  },
  {
   "cell_type": "code",
   "execution_count": 85,
   "id": "65aae4ac-3ef0-4023-83bc-4ca23f1b619d",
   "metadata": {},
   "outputs": [],
   "source": [
    "path = \"/Users/stiles/github/chromedriver\"\n",
    "s = Service(path)\n",
    "page_driver = webdriver.Chrome(service=s)"
   ]
  },
  {
   "cell_type": "code",
   "execution_count": 126,
   "id": "beb110e8-6586-4427-a5dc-4e42e14e62fa",
   "metadata": {},
   "outputs": [],
   "source": [
    "dfs = []\n",
    "\n",
    "for page_link in links:\n",
    "    page_driver.get(page_link)\n",
    "    page_html = page_driver.page_source\n",
    "    page_soup = BeautifulSoup(page_html, \"html.parser\")\n",
    "    dfs.append((pd.read_html(page_driver.page_source)[0]).assign(race=page_link))"
   ]
  },
  {
   "cell_type": "code",
   "execution_count": 127,
   "id": "af567b64-d1dc-47bc-bd9e-18ec0464f38f",
   "metadata": {},
   "outputs": [],
   "source": [
    "df = pd.concat(dfs)"
   ]
  },
  {
   "cell_type": "code",
   "execution_count": 134,
   "id": "9468d2da-3d08-4dfb-8ebc-ec0428c56c31",
   "metadata": {},
   "outputs": [],
   "source": [
    "df['race'] = df['race'].str.replace('https://www.realclearpolitics.com/epolls/2022/senate/', '', regex=False).str.replace('.html', '', regex=False)\n",
    "df.drop(['Sample', 'MoE'], axis=1, inplace=True)"
   ]
  },
  {
   "cell_type": "code",
   "execution_count": 142,
   "id": "7bf91419-c386-4a8f-b783-62228787ede3",
   "metadata": {},
   "outputs": [],
   "source": [
    "src = df[df['Poll'].str.contains('RCP')]"
   ]
  },
  {
   "cell_type": "code",
   "execution_count": 260,
   "id": "ad0f3096-10ac-451c-81c8-a21dc6317d36",
   "metadata": {},
   "outputs": [],
   "source": [
    "src_melted = src.melt(value_vars=['Lee (R) *', 'McMullin (I)',\n",
    "       'Wyden (D) *', 'Perkins (R)', 'Blumenthal (D) *', 'Levy (R)', 'Bolduc',\n",
    "       'Morse', 'Smith', 'Mansharamani', 'Fenton', 'Boozman (R) *',\n",
    "       'James (D)', 'Murray (D) *', 'Smiley (R)', 'Duckworth (D) *',\n",
    "       'Salvi (R)', 'Warnock (D) *', 'Walker (R)', 'Van Hollen (D) *',\n",
    "       'Chaffee (R)', 'Schmitt (R)', 'Valentine (D)', 'Johnson (R) *',\n",
    "       'Barnes (D)', 'Vance (R)', 'Ryan (D)', 'Budd (R)', 'Beasley (D)',\n",
    "       'Laxalt (R)', 'Cortez Masto (D) *', 'Welch (D)', 'Malloy (R)',\n",
    "       'Fetterman (D)', 'Oz (R)', 'Hassan (D) *', 'Bolduc (R)', 'Rubio (R) *',\n",
    "       'Demings (D)', 'Moran (R) *', 'Holland (D)', 'Kelly (D) *',\n",
    "       'Masters (R)', 'Bennet (D) *', 'O\\'Dea (R)', 'Lankford (R) *',\n",
    "       'Horn (D)', 'Tshibaka (R)', 'Murkowski (R) *', 'Chesbro (D)',\n",
    "       'Schumer (D) *', 'Pinion (R)', 'Mullin (R)'], id_vars=['Date', 'Poll', 'Spread', 'race']).dropna(subset='value')"
   ]
  },
  {
   "cell_type": "code",
   "execution_count": 261,
   "id": "e342f384-d49b-4a9d-a36d-b85ea88f9e53",
   "metadata": {},
   "outputs": [],
   "source": [
    "src_melted['state'] = src_melted['race'].str.split('/', expand=True)[0].str.upper()"
   ]
  },
  {
   "cell_type": "code",
   "execution_count": 262,
   "id": "94d6fd0f-1fe3-4579-ad68-a3f4d6dc33a8",
   "metadata": {},
   "outputs": [],
   "source": [
    "src_melted[['candidate', 'party']] = src_melted['variable'].str.split(' \\(', expand=True)"
   ]
  },
  {
   "cell_type": "code",
   "execution_count": 263,
   "id": "25635596-67bd-47dc-86d5-81fc6518d9b0",
   "metadata": {},
   "outputs": [],
   "source": [
    "src_melted[['party', 'incumbent']] = src_melted['party'].str.split(\")\", expand=True)"
   ]
  },
  {
   "cell_type": "code",
   "execution_count": 264,
   "id": "30426624-42ea-4ccd-b92b-3cab2e8a9443",
   "metadata": {},
   "outputs": [],
   "source": [
    "src_melted.drop(['race', 'variable', 'Spread', 'Poll'], axis=1, inplace=True)"
   ]
  },
  {
   "cell_type": "code",
   "execution_count": 265,
   "id": "8fe30dd1-6fd7-462f-8569-8704291adbda",
   "metadata": {},
   "outputs": [
    {
     "data": {
      "text/html": [
       "<div>\n",
       "<style scoped>\n",
       "    .dataframe tbody tr th:only-of-type {\n",
       "        vertical-align: middle;\n",
       "    }\n",
       "\n",
       "    .dataframe tbody tr th {\n",
       "        vertical-align: top;\n",
       "    }\n",
       "\n",
       "    .dataframe thead th {\n",
       "        text-align: right;\n",
       "    }\n",
       "</style>\n",
       "<table border=\"1\" class=\"dataframe\">\n",
       "  <thead>\n",
       "    <tr style=\"text-align: right;\">\n",
       "      <th></th>\n",
       "      <th>Date</th>\n",
       "      <th>value</th>\n",
       "      <th>state</th>\n",
       "      <th>candidate</th>\n",
       "      <th>party</th>\n",
       "      <th>incumbent</th>\n",
       "    </tr>\n",
       "  </thead>\n",
       "  <tbody>\n",
       "    <tr>\n",
       "      <th>56</th>\n",
       "      <td>9/7 - 9/21</td>\n",
       "      <td>53.0</td>\n",
       "      <td>CT</td>\n",
       "      <td>Blumenthal</td>\n",
       "      <td>D</td>\n",
       "      <td>*</td>\n",
       "    </tr>\n",
       "    <tr>\n",
       "      <th>70</th>\n",
       "      <td>9/7 - 9/21</td>\n",
       "      <td>38.7</td>\n",
       "      <td>CT</td>\n",
       "      <td>Levy</td>\n",
       "      <td>R</td>\n",
       "      <td></td>\n",
       "    </tr>\n",
       "    <tr>\n",
       "      <th>183</th>\n",
       "      <td>9/12 - 10/1</td>\n",
       "      <td>50.5</td>\n",
       "      <td>WA</td>\n",
       "      <td>Murray</td>\n",
       "      <td>D</td>\n",
       "      <td>*</td>\n",
       "    </tr>\n",
       "    <tr>\n",
       "      <th>197</th>\n",
       "      <td>9/12 - 10/1</td>\n",
       "      <td>41.8</td>\n",
       "      <td>WA</td>\n",
       "      <td>Smiley</td>\n",
       "      <td>R</td>\n",
       "      <td></td>\n",
       "    </tr>\n",
       "    <tr>\n",
       "      <th>240</th>\n",
       "      <td>9/12 - 10/4</td>\n",
       "      <td>48.0</td>\n",
       "      <td>GA</td>\n",
       "      <td>Warnock</td>\n",
       "      <td>D</td>\n",
       "      <td>*</td>\n",
       "    </tr>\n",
       "  </tbody>\n",
       "</table>\n",
       "</div>"
      ],
      "text/plain": [
       "            Date value state   candidate party incumbent\n",
       "56    9/7 - 9/21  53.0    CT  Blumenthal     D         *\n",
       "70    9/7 - 9/21  38.7    CT        Levy     R          \n",
       "183  9/12 - 10/1  50.5    WA      Murray     D         *\n",
       "197  9/12 - 10/1  41.8    WA      Smiley     R          \n",
       "240  9/12 - 10/4  48.0    GA     Warnock     D         *"
      ]
     },
     "execution_count": 265,
     "metadata": {},
     "output_type": "execute_result"
    }
   ],
   "source": [
    "src_melted.head()"
   ]
  },
  {
   "cell_type": "code",
   "execution_count": 280,
   "id": "032a0707-65a1-4f37-bab7-e4dc119f01a0",
   "metadata": {},
   "outputs": [],
   "source": [
    "src_wide = src_melted.pivot_table(index=['state', 'Date'], values='value', columns='party').reset_index()"
   ]
  },
  {
   "cell_type": "code",
   "execution_count": 281,
   "id": "f29b9bd2-797e-453c-8e7b-29f3b2f67167",
   "metadata": {},
   "outputs": [],
   "source": [
    "src_wide.columns = src_wide.columns.str.lower()"
   ]
  },
  {
   "cell_type": "code",
   "execution_count": 282,
   "id": "2833ea39-fd79-45a2-aeba-7b18f0e25135",
   "metadata": {},
   "outputs": [],
   "source": [
    "src_wide['year'] = '2022'"
   ]
  },
  {
   "cell_type": "code",
   "execution_count": 284,
   "id": "d466ab3b-6a68-491b-ae77-3a78ceaba2c2",
   "metadata": {},
   "outputs": [],
   "source": [
    "postal_to_name = us.states.mapping(\"abbr\", \"name\")\n",
    "src_wide[\"state\"] = src_wide[\"state\"].map(postal_to_name)"
   ]
  },
  {
   "cell_type": "code",
   "execution_count": 285,
   "id": "55432020",
   "metadata": {},
   "outputs": [],
   "source": [
    "df = src_wide.drop([\"date\"], axis=1).copy()"
   ]
  },
  {
   "cell_type": "code",
   "execution_count": 286,
   "id": "4479619a-8207-48a9-8ce2-b5c8d5afbddd",
   "metadata": {},
   "outputs": [],
   "source": [
    "df.rename(columns={\"d\": \"dem_polling\", \"r\": \"gop_polling\"}, inplace=True)"
   ]
  },
  {
   "cell_type": "code",
   "execution_count": 291,
   "id": "d67b0968-cb3f-4a3c-a01d-67476e46515f",
   "metadata": {},
   "outputs": [],
   "source": [
    "df[\"dem_polling_margin\"] = (df[\"dem_polling\"] - df[\"gop_polling\"]).round(2)\n",
    "df[\"gop_polling_margin\"] = (df[\"gop_polling\"] - df[\"dem_polling\"]).round(2)"
   ]
  },
  {
   "cell_type": "code",
   "execution_count": 292,
   "id": "34809299-50f8-4894-a029-38096cca2b45",
   "metadata": {},
   "outputs": [],
   "source": [
    "df[\"description\"] = \"RCP polling average\""
   ]
  },
  {
   "cell_type": "code",
   "execution_count": 293,
   "id": "5d2f1a74-0e28-47f1-b8bf-d8a6223bc955",
   "metadata": {},
   "outputs": [
    {
     "data": {
      "text/html": [
       "<div>\n",
       "<style scoped>\n",
       "    .dataframe tbody tr th:only-of-type {\n",
       "        vertical-align: middle;\n",
       "    }\n",
       "\n",
       "    .dataframe tbody tr th {\n",
       "        vertical-align: top;\n",
       "    }\n",
       "\n",
       "    .dataframe thead th {\n",
       "        text-align: right;\n",
       "    }\n",
       "</style>\n",
       "<table border=\"1\" class=\"dataframe\">\n",
       "  <thead>\n",
       "    <tr style=\"text-align: right;\">\n",
       "      <th>party</th>\n",
       "      <th>state</th>\n",
       "      <th>dem_polling</th>\n",
       "      <th>gop_polling</th>\n",
       "      <th>year</th>\n",
       "      <th>dem_polling_margin</th>\n",
       "      <th>gop_polling_margin</th>\n",
       "      <th>description</th>\n",
       "    </tr>\n",
       "  </thead>\n",
       "  <tbody>\n",
       "    <tr>\n",
       "      <th>0</th>\n",
       "      <td>Arizona</td>\n",
       "      <td>48.7</td>\n",
       "      <td>44.8</td>\n",
       "      <td>2022</td>\n",
       "      <td>3.9</td>\n",
       "      <td>-3.9</td>\n",
       "      <td>RCP polling average</td>\n",
       "    </tr>\n",
       "    <tr>\n",
       "      <th>1</th>\n",
       "      <td>Colorado</td>\n",
       "      <td>47.0</td>\n",
       "      <td>38.0</td>\n",
       "      <td>2022</td>\n",
       "      <td>9.0</td>\n",
       "      <td>-9.0</td>\n",
       "      <td>RCP polling average</td>\n",
       "    </tr>\n",
       "    <tr>\n",
       "      <th>2</th>\n",
       "      <td>Connecticut</td>\n",
       "      <td>53.0</td>\n",
       "      <td>38.7</td>\n",
       "      <td>2022</td>\n",
       "      <td>14.3</td>\n",
       "      <td>-14.3</td>\n",
       "      <td>RCP polling average</td>\n",
       "    </tr>\n",
       "    <tr>\n",
       "      <th>3</th>\n",
       "      <td>Florida</td>\n",
       "      <td>43.0</td>\n",
       "      <td>47.0</td>\n",
       "      <td>2022</td>\n",
       "      <td>-4.0</td>\n",
       "      <td>4.0</td>\n",
       "      <td>RCP polling average</td>\n",
       "    </tr>\n",
       "    <tr>\n",
       "      <th>4</th>\n",
       "      <td>Georgia</td>\n",
       "      <td>48.0</td>\n",
       "      <td>44.2</td>\n",
       "      <td>2022</td>\n",
       "      <td>3.8</td>\n",
       "      <td>-3.8</td>\n",
       "      <td>RCP polling average</td>\n",
       "    </tr>\n",
       "    <tr>\n",
       "      <th>5</th>\n",
       "      <td>Missouri</td>\n",
       "      <td>38.0</td>\n",
       "      <td>49.0</td>\n",
       "      <td>2022</td>\n",
       "      <td>-11.0</td>\n",
       "      <td>11.0</td>\n",
       "      <td>RCP polling average</td>\n",
       "    </tr>\n",
       "    <tr>\n",
       "      <th>6</th>\n",
       "      <td>North Carolina</td>\n",
       "      <td>43.5</td>\n",
       "      <td>45.0</td>\n",
       "      <td>2022</td>\n",
       "      <td>-1.5</td>\n",
       "      <td>1.5</td>\n",
       "      <td>RCP polling average</td>\n",
       "    </tr>\n",
       "    <tr>\n",
       "      <th>7</th>\n",
       "      <td>New Hampshire</td>\n",
       "      <td>49.2</td>\n",
       "      <td>42.6</td>\n",
       "      <td>2022</td>\n",
       "      <td>6.6</td>\n",
       "      <td>-6.6</td>\n",
       "      <td>RCP polling average</td>\n",
       "    </tr>\n",
       "    <tr>\n",
       "      <th>8</th>\n",
       "      <td>Nevada</td>\n",
       "      <td>43.2</td>\n",
       "      <td>45.4</td>\n",
       "      <td>2022</td>\n",
       "      <td>-2.2</td>\n",
       "      <td>2.2</td>\n",
       "      <td>RCP polling average</td>\n",
       "    </tr>\n",
       "    <tr>\n",
       "      <th>9</th>\n",
       "      <td>New York</td>\n",
       "      <td>54.0</td>\n",
       "      <td>33.5</td>\n",
       "      <td>2022</td>\n",
       "      <td>20.5</td>\n",
       "      <td>-20.5</td>\n",
       "      <td>RCP polling average</td>\n",
       "    </tr>\n",
       "    <tr>\n",
       "      <th>10</th>\n",
       "      <td>Ohio</td>\n",
       "      <td>45.0</td>\n",
       "      <td>46.2</td>\n",
       "      <td>2022</td>\n",
       "      <td>-1.2</td>\n",
       "      <td>1.2</td>\n",
       "      <td>RCP polling average</td>\n",
       "    </tr>\n",
       "    <tr>\n",
       "      <th>11</th>\n",
       "      <td>Pennsylvania</td>\n",
       "      <td>48.0</td>\n",
       "      <td>43.7</td>\n",
       "      <td>2022</td>\n",
       "      <td>4.3</td>\n",
       "      <td>-4.3</td>\n",
       "      <td>RCP polling average</td>\n",
       "    </tr>\n",
       "    <tr>\n",
       "      <th>12</th>\n",
       "      <td>Washington</td>\n",
       "      <td>50.5</td>\n",
       "      <td>41.8</td>\n",
       "      <td>2022</td>\n",
       "      <td>8.7</td>\n",
       "      <td>-8.7</td>\n",
       "      <td>RCP polling average</td>\n",
       "    </tr>\n",
       "    <tr>\n",
       "      <th>13</th>\n",
       "      <td>Wisconsin</td>\n",
       "      <td>46.2</td>\n",
       "      <td>49.2</td>\n",
       "      <td>2022</td>\n",
       "      <td>-3.0</td>\n",
       "      <td>3.0</td>\n",
       "      <td>RCP polling average</td>\n",
       "    </tr>\n",
       "  </tbody>\n",
       "</table>\n",
       "</div>"
      ],
      "text/plain": [
       "party           state  dem_polling  gop_polling  year  dem_polling_margin  \\\n",
       "0             Arizona         48.7         44.8  2022                 3.9   \n",
       "1            Colorado         47.0         38.0  2022                 9.0   \n",
       "2         Connecticut         53.0         38.7  2022                14.3   \n",
       "3             Florida         43.0         47.0  2022                -4.0   \n",
       "4             Georgia         48.0         44.2  2022                 3.8   \n",
       "5            Missouri         38.0         49.0  2022               -11.0   \n",
       "6      North Carolina         43.5         45.0  2022                -1.5   \n",
       "7       New Hampshire         49.2         42.6  2022                 6.6   \n",
       "8              Nevada         43.2         45.4  2022                -2.2   \n",
       "9            New York         54.0         33.5  2022                20.5   \n",
       "10               Ohio         45.0         46.2  2022                -1.2   \n",
       "11       Pennsylvania         48.0         43.7  2022                 4.3   \n",
       "12         Washington         50.5         41.8  2022                 8.7   \n",
       "13          Wisconsin         46.2         49.2  2022                -3.0   \n",
       "\n",
       "party  gop_polling_margin          description  \n",
       "0                    -3.9  RCP polling average  \n",
       "1                    -9.0  RCP polling average  \n",
       "2                   -14.3  RCP polling average  \n",
       "3                     4.0  RCP polling average  \n",
       "4                    -3.8  RCP polling average  \n",
       "5                    11.0  RCP polling average  \n",
       "6                     1.5  RCP polling average  \n",
       "7                    -6.6  RCP polling average  \n",
       "8                     2.2  RCP polling average  \n",
       "9                   -20.5  RCP polling average  \n",
       "10                    1.2  RCP polling average  \n",
       "11                   -4.3  RCP polling average  \n",
       "12                   -8.7  RCP polling average  \n",
       "13                    3.0  RCP polling average  "
      ]
     },
     "execution_count": 293,
     "metadata": {},
     "output_type": "execute_result"
    }
   ],
   "source": [
    "df"
   ]
  },
  {
   "cell_type": "code",
   "execution_count": 294,
   "id": "bd831ab4-3947-42d2-86f8-e4548b1e20f1",
   "metadata": {},
   "outputs": [],
   "source": [
    "df.to_csv(\"data/processed/2022_polling_average_states_RCP.csv\", index=False)"
   ]
  }
 ],
 "metadata": {
  "kernelspec": {
   "display_name": "Python 3 (ipykernel)",
   "language": "python",
   "name": "python3"
  },
  "language_info": {
   "codemirror_mode": {
    "name": "ipython",
    "version": 3
   },
   "file_extension": ".py",
   "mimetype": "text/x-python",
   "name": "python",
   "nbconvert_exporter": "python",
   "pygments_lexer": "ipython3",
   "version": "3.9.9"
  }
 },
 "nbformat": 4,
 "nbformat_minor": 5
}
