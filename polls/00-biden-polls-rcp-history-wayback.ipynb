{
 "cells": [
  {
   "cell_type": "markdown",
   "id": "fddc3837-c76a-4c67-aaff-d39a52cc615a",
   "metadata": {},
   "source": [
    "# President Biden polls"
   ]
  },
  {
   "cell_type": "markdown",
   "id": "1c8b0383-3572-4fdb-b9de-635dc870c580",
   "metadata": {},
   "source": [
    "### Get Python tools"
   ]
  },
  {
   "cell_type": "code",
   "execution_count": 1,
   "id": "30393f68-bc68-471f-8df6-d28859f72748",
   "metadata": {},
   "outputs": [],
   "source": [
    "%load_ext lab_black"
   ]
  },
  {
   "cell_type": "code",
   "execution_count": 2,
   "id": "216c298b-8970-4370-9d6e-a877d8ef2fd0",
   "metadata": {},
   "outputs": [],
   "source": [
    "import pandas as pd\n",
    "import altair as alt\n",
    "import glob\n",
    "import os\n",
    "import numpy as np\n",
    "import requests\n",
    "from bs4 import BeautifulSoup"
   ]
  },
  {
   "cell_type": "code",
   "execution_count": 3,
   "id": "b06c1253-45e1-4831-8a13-004c7ab380db",
   "metadata": {},
   "outputs": [
    {
     "data": {
      "text/plain": [
       "DataTransformerRegistry.enable('default')"
      ]
     },
     "execution_count": 3,
     "metadata": {},
     "output_type": "execute_result"
    }
   ],
   "source": [
    "pd.options.display.max_columns = 50\n",
    "pd.options.display.max_rows = 1000\n",
    "alt.data_transformers.disable_max_rows()"
   ]
  },
  {
   "cell_type": "markdown",
   "id": "a8d66e82-59d7-4cd2-91ae-921d3d2f2883",
   "metadata": {},
   "source": [
    "---"
   ]
  },
  {
   "cell_type": "markdown",
   "id": "40c108ad-8b55-4938-b463-e326394f9740",
   "metadata": {},
   "source": [
    "### Get latest Biden trends from Real Clear Politics"
   ]
  },
  {
   "cell_type": "code",
   "execution_count": 4,
   "id": "2ee95e26-ad70-4a5a-b1fa-e65a247469a5",
   "metadata": {},
   "outputs": [],
   "source": [
    "url = \"https://www.realclearpolitics.com/epolls/other/president-biden-job-approval-7320.html#polls\"\n",
    "headers = {\"user-agent\": \"Mozilla/5.0 (Macintosh; Intel Mac OS X \"}\n",
    "r = requests.get(url, headers=headers)"
   ]
  },
  {
   "cell_type": "code",
   "execution_count": 5,
   "id": "944a245f-201c-404c-bc63-f5bb61226021",
   "metadata": {},
   "outputs": [],
   "source": [
    "soup = BeautifulSoup(r.text, \"html.parser\")"
   ]
  },
  {
   "cell_type": "code",
   "execution_count": 6,
   "id": "52795580-4ef7-4f02-9cba-04b54d90042c",
   "metadata": {},
   "outputs": [],
   "source": [
    "tables = soup.findAll(\"table\", attrs={\"class\": \"data\"})"
   ]
  },
  {
   "cell_type": "code",
   "execution_count": 7,
   "id": "fcf918dd-08e1-4459-97e5-68985f4782de",
   "metadata": {},
   "outputs": [],
   "source": [
    "src = pd.read_html(str(tables))[0]"
   ]
  },
  {
   "cell_type": "code",
   "execution_count": 8,
   "id": "e9d5ec82-8def-425a-bb98-99400964e4b5",
   "metadata": {},
   "outputs": [
    {
     "data": {
      "text/html": [
       "<div>\n",
       "<style scoped>\n",
       "    .dataframe tbody tr th:only-of-type {\n",
       "        vertical-align: middle;\n",
       "    }\n",
       "\n",
       "    .dataframe tbody tr th {\n",
       "        vertical-align: top;\n",
       "    }\n",
       "\n",
       "    .dataframe thead th {\n",
       "        text-align: right;\n",
       "    }\n",
       "</style>\n",
       "<table border=\"1\" class=\"dataframe\">\n",
       "  <thead>\n",
       "    <tr style=\"text-align: right;\">\n",
       "      <th></th>\n",
       "      <th>Poll</th>\n",
       "      <th>Date</th>\n",
       "      <th>Sample</th>\n",
       "      <th>Approve</th>\n",
       "      <th>Disapprove</th>\n",
       "      <th>Spread</th>\n",
       "    </tr>\n",
       "  </thead>\n",
       "  <tbody>\n",
       "    <tr>\n",
       "      <th>0</th>\n",
       "      <td>RCP Average</td>\n",
       "      <td>12/1 - 12/21</td>\n",
       "      <td>--</td>\n",
       "      <td>43.5</td>\n",
       "      <td>52.6</td>\n",
       "      <td>-9.1</td>\n",
       "    </tr>\n",
       "  </tbody>\n",
       "</table>\n",
       "</div>"
      ],
      "text/plain": [
       "          Poll          Date Sample  Approve  Disapprove  Spread\n",
       "0  RCP Average  12/1 - 12/21     --     43.5        52.6    -9.1"
      ]
     },
     "execution_count": 8,
     "metadata": {},
     "output_type": "execute_result"
    }
   ],
   "source": [
    "src[:1]"
   ]
  },
  {
   "cell_type": "markdown",
   "id": "93421f40-3114-4ed1-86c7-a68a31f19673",
   "metadata": {},
   "source": [
    "---"
   ]
  },
  {
   "cell_type": "code",
   "execution_count": 9,
   "id": "73541dac-f90d-4c32-8dd8-a19dd3a1a162",
   "metadata": {},
   "outputs": [],
   "source": [
    "wayback = \"https://web.archive.org/cdx/search/cdx?url=https://www.realclearpolitics.com/epolls/other/president-biden-job-approval-7320.html&output=json\""
   ]
  },
  {
   "cell_type": "code",
   "execution_count": 10,
   "id": "0e1efd85-6449-4433-8aac-0f3335375247",
   "metadata": {},
   "outputs": [],
   "source": [
    "urls = pd.read_json(wayback, orient=\"records\").drop([0], axis=0)"
   ]
  },
  {
   "cell_type": "code",
   "execution_count": 11,
   "id": "e76fe758-6fc8-4d7d-8b3d-3b5cbd093406",
   "metadata": {},
   "outputs": [],
   "source": [
    "urls.columns = [\n",
    "    \"urlkey\",\n",
    "    \"timestamp\",\n",
    "    \"original\",\n",
    "    \"mimetype\",\n",
    "    \"statuscode\",\n",
    "    \"digest\",\n",
    "    \"length\",\n",
    "]"
   ]
  },
  {
   "cell_type": "code",
   "execution_count": 12,
   "id": "7b2a8743-38b6-41b6-be2e-6a4b9e8fdca4",
   "metadata": {},
   "outputs": [],
   "source": [
    "urls[\"datetime\"] = pd.to_datetime(urls[\"timestamp\"])"
   ]
  },
  {
   "cell_type": "code",
   "execution_count": 13,
   "id": "5dba61f0-211b-43c3-ad80-75190b4d4a0a",
   "metadata": {},
   "outputs": [],
   "source": [
    "urls[\"date\"] = urls[\"datetime\"].dt.date"
   ]
  },
  {
   "cell_type": "markdown",
   "id": "85cf3bc6-7cbd-45d2-91d4-fbaabb4153af",
   "metadata": {},
   "source": [
    "### Limit the update urls to the last one of each day"
   ]
  },
  {
   "cell_type": "code",
   "execution_count": 14,
   "id": "d349c908-c587-4fdb-a465-9d1271f25077",
   "metadata": {},
   "outputs": [],
   "source": [
    "daily_urls = urls.sort_values([\"datetime\", \"date\"], ascending=True).drop_duplicates(\n",
    "    \"date\", keep=\"last\"\n",
    ")"
   ]
  },
  {
   "cell_type": "code",
   "execution_count": 15,
   "id": "6df998bc-e72a-40b2-b601-80d322be629e",
   "metadata": {},
   "outputs": [],
   "source": [
    "urls_success = daily_urls[daily_urls[\"statuscode\"] == \"200\"].copy()"
   ]
  },
  {
   "cell_type": "code",
   "execution_count": 16,
   "id": "f425148c-a75e-4dcd-a3f8-75c06a573a18",
   "metadata": {},
   "outputs": [
    {
     "data": {
      "text/plain": [
       "217"
      ]
     },
     "execution_count": 16,
     "metadata": {},
     "output_type": "execute_result"
    }
   ],
   "source": [
    "len(urls_success)"
   ]
  },
  {
   "cell_type": "markdown",
   "id": "995a7f7a-c7e7-4b0d-a403-4c6fad41428d",
   "metadata": {},
   "source": [
    "### Loop through urls and create Wayback dataframes"
   ]
  },
  {
   "cell_type": "code",
   "execution_count": 17,
   "id": "8fb4f952-3e74-4f74-9d61-40ea2b6f576e",
   "metadata": {},
   "outputs": [],
   "source": [
    "content = []\n",
    "pages = []\n",
    "\n",
    "for t, u in zip(urls_success.timestamp, urls_success.original):\n",
    "    response_polls = requests.get(\n",
    "        \"https://web.archive.org/web/\" + t + \"/\" + u, headers=headers\n",
    "    )\n",
    "    pages.append(\n",
    "        (pd.read_html(response_polls.text, attrs={\"class\": \"data\"})[0]).assign(\n",
    "            timestamp=t\n",
    "        )\n",
    "    )"
   ]
  },
  {
   "cell_type": "markdown",
   "id": "366e529f-1045-4112-b3d4-2b3614ce4df7",
   "metadata": {},
   "source": [
    "### Create a large dataframe from a list of update date dataframes, and add a timestamp"
   ]
  },
  {
   "cell_type": "code",
   "execution_count": 18,
   "id": "21401f00-3792-4dbb-a863-dd7cbe6f27dc",
   "metadata": {},
   "outputs": [],
   "source": [
    "src = pd.concat(pages)"
   ]
  },
  {
   "cell_type": "code",
   "execution_count": 19,
   "id": "2979ec5c-2cc2-4f7c-a203-8d2b9d80bf1b",
   "metadata": {},
   "outputs": [],
   "source": [
    "src.columns = src.columns.str.lower()"
   ]
  },
  {
   "cell_type": "code",
   "execution_count": 20,
   "id": "baecf31f-bdec-472c-9b32-ed70c97a501c",
   "metadata": {},
   "outputs": [],
   "source": [
    "df = src[src[\"poll\"].str.contains(\"RCP\")].reset_index(drop=True).copy()"
   ]
  },
  {
   "cell_type": "code",
   "execution_count": 21,
   "id": "0d976373-f0cc-407c-b2aa-f90c9b24ce27",
   "metadata": {},
   "outputs": [
    {
     "data": {
      "text/html": [
       "<div>\n",
       "<style scoped>\n",
       "    .dataframe tbody tr th:only-of-type {\n",
       "        vertical-align: middle;\n",
       "    }\n",
       "\n",
       "    .dataframe tbody tr th {\n",
       "        vertical-align: top;\n",
       "    }\n",
       "\n",
       "    .dataframe thead th {\n",
       "        text-align: right;\n",
       "    }\n",
       "</style>\n",
       "<table border=\"1\" class=\"dataframe\">\n",
       "  <thead>\n",
       "    <tr style=\"text-align: right;\">\n",
       "      <th></th>\n",
       "      <th>poll</th>\n",
       "      <th>date</th>\n",
       "      <th>sample</th>\n",
       "      <th>approve</th>\n",
       "      <th>disapprove</th>\n",
       "      <th>spread</th>\n",
       "      <th>timestamp</th>\n",
       "    </tr>\n",
       "  </thead>\n",
       "  <tbody>\n",
       "    <tr>\n",
       "      <th>0</th>\n",
       "      <td>RCP Average</td>\n",
       "      <td>1/20 - 1/26</td>\n",
       "      <td>--</td>\n",
       "      <td>54.8</td>\n",
       "      <td>36.8</td>\n",
       "      <td>+18.0</td>\n",
       "      <td>20210127222301</td>\n",
       "    </tr>\n",
       "    <tr>\n",
       "      <th>1</th>\n",
       "      <td>RCP Average</td>\n",
       "      <td>1/20 - 1/27</td>\n",
       "      <td>--</td>\n",
       "      <td>55.7</td>\n",
       "      <td>36.0</td>\n",
       "      <td>19.7</td>\n",
       "      <td>20210129171634</td>\n",
       "    </tr>\n",
       "    <tr>\n",
       "      <th>2</th>\n",
       "      <td>RCP Average</td>\n",
       "      <td>1/20 - 1/28</td>\n",
       "      <td>--</td>\n",
       "      <td>55.8</td>\n",
       "      <td>35.5</td>\n",
       "      <td>20.3</td>\n",
       "      <td>20210130212314</td>\n",
       "    </tr>\n",
       "    <tr>\n",
       "      <th>3</th>\n",
       "      <td>RCP Average</td>\n",
       "      <td>1/20 - 1/31</td>\n",
       "      <td>--</td>\n",
       "      <td>54.9</td>\n",
       "      <td>35.7</td>\n",
       "      <td>19.2</td>\n",
       "      <td>20210201185557</td>\n",
       "    </tr>\n",
       "    <tr>\n",
       "      <th>4</th>\n",
       "      <td>RCP Average</td>\n",
       "      <td>1/20 - 2/2</td>\n",
       "      <td>--</td>\n",
       "      <td>54.2</td>\n",
       "      <td>36.1</td>\n",
       "      <td>18.1</td>\n",
       "      <td>20210203201902</td>\n",
       "    </tr>\n",
       "  </tbody>\n",
       "</table>\n",
       "</div>"
      ],
      "text/plain": [
       "          poll         date sample  approve  disapprove spread       timestamp\n",
       "0  RCP Average  1/20 - 1/26     --     54.8        36.8  +18.0  20210127222301\n",
       "1  RCP Average  1/20 - 1/27     --     55.7        36.0   19.7  20210129171634\n",
       "2  RCP Average  1/20 - 1/28     --     55.8        35.5   20.3  20210130212314\n",
       "3  RCP Average  1/20 - 1/31     --     54.9        35.7   19.2  20210201185557\n",
       "4  RCP Average   1/20 - 2/2     --     54.2        36.1   18.1  20210203201902"
      ]
     },
     "execution_count": 21,
     "metadata": {},
     "output_type": "execute_result"
    }
   ],
   "source": [
    "df.head()"
   ]
  },
  {
   "cell_type": "code",
   "execution_count": 22,
   "id": "d909fef8-207e-4807-ad0f-a9bddd6a5200",
   "metadata": {},
   "outputs": [],
   "source": [
    "df[\"wayback_date\"] = (\n",
    "    pd.to_datetime(df[\"timestamp\"])\n",
    "    .dt.tz_localize(\"GMT\")\n",
    "    .dt.tz_convert(\"US/Eastern\")\n",
    "    .dt.date\n",
    ")\n",
    "df[\"wayback_time\"] = (\n",
    "    pd.to_datetime(df[\"timestamp\"])\n",
    "    .dt.tz_localize(\"GMT\")\n",
    "    .dt.tz_convert(\"US/Eastern\")\n",
    "    .dt.time\n",
    ")"
   ]
  },
  {
   "cell_type": "code",
   "execution_count": 23,
   "id": "d8e1d1ad-0fa3-4c85-aa95-8ab202d16b2b",
   "metadata": {},
   "outputs": [],
   "source": [
    "df[\"spread\"] = df[\"approve\"] - df[\"disapprove\"]"
   ]
  },
  {
   "cell_type": "code",
   "execution_count": 24,
   "id": "5e943584-1558-4423-b58f-ab73ceeff516",
   "metadata": {},
   "outputs": [
    {
     "data": {
      "text/plain": [
       "poll             object\n",
       "date             object\n",
       "sample           object\n",
       "approve         float64\n",
       "disapprove      float64\n",
       "spread          float64\n",
       "timestamp        object\n",
       "wayback_date     object\n",
       "wayback_time     object\n",
       "dtype: object"
      ]
     },
     "execution_count": 24,
     "metadata": {},
     "output_type": "execute_result"
    }
   ],
   "source": [
    "df.dtypes"
   ]
  },
  {
   "cell_type": "code",
   "execution_count": 25,
   "id": "f6ab6b2f-e658-46c5-9b5f-87afbb38c92f",
   "metadata": {},
   "outputs": [],
   "source": [
    "df[[\"begin\", \"end\"]] = df[\"date\"].astype(str).str.split(\" - \", n=1, expand=True)"
   ]
  },
  {
   "cell_type": "code",
   "execution_count": 26,
   "id": "e9248e37-7bcc-4b1f-9f5c-415e3965c059",
   "metadata": {},
   "outputs": [],
   "source": [
    "df.drop([\"poll\", \"date\", \"sample\", \"timestamp\"], axis=1, inplace=True)"
   ]
  },
  {
   "cell_type": "code",
   "execution_count": 27,
   "id": "66a79023-0c98-4e63-bf3b-b408be27cce6",
   "metadata": {},
   "outputs": [],
   "source": [
    "historic_df = df[\n",
    "    [\"wayback_date\", \"wayback_time\", \"approve\", \"disapprove\", \"spread\"]\n",
    "].copy()"
   ]
  },
  {
   "cell_type": "code",
   "execution_count": 28,
   "id": "e316ddbd-988a-4e8f-bb20-a08991092f9b",
   "metadata": {},
   "outputs": [
    {
     "data": {
      "text/html": [
       "<div>\n",
       "<style scoped>\n",
       "    .dataframe tbody tr th:only-of-type {\n",
       "        vertical-align: middle;\n",
       "    }\n",
       "\n",
       "    .dataframe tbody tr th {\n",
       "        vertical-align: top;\n",
       "    }\n",
       "\n",
       "    .dataframe thead th {\n",
       "        text-align: right;\n",
       "    }\n",
       "</style>\n",
       "<table border=\"1\" class=\"dataframe\">\n",
       "  <thead>\n",
       "    <tr style=\"text-align: right;\">\n",
       "      <th></th>\n",
       "      <th>wayback_date</th>\n",
       "      <th>wayback_time</th>\n",
       "      <th>approve</th>\n",
       "      <th>disapprove</th>\n",
       "      <th>spread</th>\n",
       "    </tr>\n",
       "  </thead>\n",
       "  <tbody>\n",
       "    <tr>\n",
       "      <th>0</th>\n",
       "      <td>2021-01-27</td>\n",
       "      <td>17:23:01</td>\n",
       "      <td>54.8</td>\n",
       "      <td>36.8</td>\n",
       "      <td>18.0</td>\n",
       "    </tr>\n",
       "    <tr>\n",
       "      <th>1</th>\n",
       "      <td>2021-01-29</td>\n",
       "      <td>12:16:34</td>\n",
       "      <td>55.7</td>\n",
       "      <td>36.0</td>\n",
       "      <td>19.7</td>\n",
       "    </tr>\n",
       "    <tr>\n",
       "      <th>2</th>\n",
       "      <td>2021-01-30</td>\n",
       "      <td>16:23:14</td>\n",
       "      <td>55.8</td>\n",
       "      <td>35.5</td>\n",
       "      <td>20.3</td>\n",
       "    </tr>\n",
       "    <tr>\n",
       "      <th>3</th>\n",
       "      <td>2021-02-01</td>\n",
       "      <td>13:55:57</td>\n",
       "      <td>54.9</td>\n",
       "      <td>35.7</td>\n",
       "      <td>19.2</td>\n",
       "    </tr>\n",
       "    <tr>\n",
       "      <th>4</th>\n",
       "      <td>2021-02-03</td>\n",
       "      <td>15:19:02</td>\n",
       "      <td>54.2</td>\n",
       "      <td>36.1</td>\n",
       "      <td>18.1</td>\n",
       "    </tr>\n",
       "  </tbody>\n",
       "</table>\n",
       "</div>"
      ],
      "text/plain": [
       "  wayback_date wayback_time  approve  disapprove  spread\n",
       "0   2021-01-27     17:23:01     54.8        36.8    18.0\n",
       "1   2021-01-29     12:16:34     55.7        36.0    19.7\n",
       "2   2021-01-30     16:23:14     55.8        35.5    20.3\n",
       "3   2021-02-01     13:55:57     54.9        35.7    19.2\n",
       "4   2021-02-03     15:19:02     54.2        36.1    18.1"
      ]
     },
     "execution_count": 28,
     "metadata": {},
     "output_type": "execute_result"
    }
   ],
   "source": [
    "historic_df.head()"
   ]
  },
  {
   "cell_type": "code",
   "execution_count": 29,
   "id": "6ee2b63a-a355-44d4-878b-2627e9fe754c",
   "metadata": {},
   "outputs": [
    {
     "data": {
      "text/html": [
       "<div>\n",
       "<style scoped>\n",
       "    .dataframe tbody tr th:only-of-type {\n",
       "        vertical-align: middle;\n",
       "    }\n",
       "\n",
       "    .dataframe tbody tr th {\n",
       "        vertical-align: top;\n",
       "    }\n",
       "\n",
       "    .dataframe thead th {\n",
       "        text-align: right;\n",
       "    }\n",
       "</style>\n",
       "<table border=\"1\" class=\"dataframe\">\n",
       "  <thead>\n",
       "    <tr style=\"text-align: right;\">\n",
       "      <th></th>\n",
       "      <th>wayback_date</th>\n",
       "      <th>wayback_time</th>\n",
       "      <th>approve</th>\n",
       "      <th>disapprove</th>\n",
       "      <th>spread</th>\n",
       "    </tr>\n",
       "  </thead>\n",
       "  <tbody>\n",
       "    <tr>\n",
       "      <th>209</th>\n",
       "      <td>2021-12-18</td>\n",
       "      <td>05:02:13</td>\n",
       "      <td>44.1</td>\n",
       "      <td>50.3</td>\n",
       "      <td>-6.2</td>\n",
       "    </tr>\n",
       "    <tr>\n",
       "      <th>210</th>\n",
       "      <td>2021-12-19</td>\n",
       "      <td>17:49:08</td>\n",
       "      <td>44.1</td>\n",
       "      <td>50.3</td>\n",
       "      <td>-6.2</td>\n",
       "    </tr>\n",
       "    <tr>\n",
       "      <th>211</th>\n",
       "      <td>2021-12-20</td>\n",
       "      <td>16:36:32</td>\n",
       "      <td>44.1</td>\n",
       "      <td>52.1</td>\n",
       "      <td>-8.0</td>\n",
       "    </tr>\n",
       "    <tr>\n",
       "      <th>212</th>\n",
       "      <td>2021-12-21</td>\n",
       "      <td>14:37:34</td>\n",
       "      <td>44.1</td>\n",
       "      <td>52.0</td>\n",
       "      <td>-7.9</td>\n",
       "    </tr>\n",
       "    <tr>\n",
       "      <th>213</th>\n",
       "      <td>2021-12-22</td>\n",
       "      <td>03:32:30</td>\n",
       "      <td>44.1</td>\n",
       "      <td>52.0</td>\n",
       "      <td>-7.9</td>\n",
       "    </tr>\n",
       "  </tbody>\n",
       "</table>\n",
       "</div>"
      ],
      "text/plain": [
       "    wayback_date wayback_time  approve  disapprove  spread\n",
       "209   2021-12-18     05:02:13     44.1        50.3    -6.2\n",
       "210   2021-12-19     17:49:08     44.1        50.3    -6.2\n",
       "211   2021-12-20     16:36:32     44.1        52.1    -8.0\n",
       "212   2021-12-21     14:37:34     44.1        52.0    -7.9\n",
       "213   2021-12-22     03:32:30     44.1        52.0    -7.9"
      ]
     },
     "execution_count": 29,
     "metadata": {},
     "output_type": "execute_result"
    }
   ],
   "source": [
    "historic_df.tail()"
   ]
  },
  {
   "cell_type": "code",
   "execution_count": 30,
   "id": "3451a670-adf9-41f6-b560-ca14d849f8df",
   "metadata": {},
   "outputs": [],
   "source": [
    "historic_df[\"date\"] = pd.to_datetime(historic_df[\"wayback_date\"])"
   ]
  },
  {
   "cell_type": "code",
   "execution_count": 31,
   "id": "e48e4440-09f2-4520-9eaa-44ee6e8ffd25",
   "metadata": {},
   "outputs": [
    {
     "data": {
      "text/plain": [
       "wayback_date            object\n",
       "wayback_time            object\n",
       "approve                float64\n",
       "disapprove             float64\n",
       "spread                 float64\n",
       "date            datetime64[ns]\n",
       "dtype: object"
      ]
     },
     "execution_count": 31,
     "metadata": {},
     "output_type": "execute_result"
    }
   ],
   "source": [
    "historic_df.dtypes"
   ]
  },
  {
   "cell_type": "code",
   "execution_count": 34,
   "id": "dfb61fb6-17eb-4bdf-8570-2ec8e39dd8e0",
   "metadata": {},
   "outputs": [],
   "source": [
    "historic_df.to_csv(\"data/processed/biden_history.csv\", index=False)"
   ]
  }
 ],
 "metadata": {
  "kernelspec": {
   "display_name": "Python 3",
   "language": "python",
   "name": "python3"
  },
  "language_info": {
   "codemirror_mode": {
    "name": "ipython",
    "version": 3
   },
   "file_extension": ".py",
   "mimetype": "text/x-python",
   "name": "python",
   "nbconvert_exporter": "python",
   "pygments_lexer": "ipython3",
   "version": "3.8.8"
  }
 },
 "nbformat": 4,
 "nbformat_minor": 5
}
