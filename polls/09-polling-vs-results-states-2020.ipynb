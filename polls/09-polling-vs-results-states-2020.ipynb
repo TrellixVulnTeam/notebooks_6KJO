{
 "cells": [
  {
   "cell_type": "markdown",
   "id": "f9e8e357-f361-4eac-8964-bd594ba16c7c",
   "metadata": {},
   "source": [
    "# How did polling averages and results differ in 2020?"
   ]
  },
  {
   "cell_type": "markdown",
   "id": "80c852b5-b1bd-411d-9cc7-9ceb6eb190a7",
   "metadata": {},
   "source": [
    "#### Import Python tools"
   ]
  },
  {
   "cell_type": "code",
   "execution_count": 1,
   "id": "c1b19a77-fb11-4d88-a03c-d23ff1c46388",
   "metadata": {},
   "outputs": [],
   "source": [
    "%load_ext lab_black"
   ]
  },
  {
   "cell_type": "code",
   "execution_count": 2,
   "id": "a0c0a2a6-095f-4695-9dba-fb1d09bee8fe",
   "metadata": {},
   "outputs": [],
   "source": [
    "import pandas as pd\n",
    "import us\n",
    "import tabula\n",
    "import altair as alt\n",
    "import altair_grid as altgrid"
   ]
  },
  {
   "cell_type": "code",
   "execution_count": 3,
   "id": "5899b27b-10c1-4e07-9c54-6ed9eec6aa3e",
   "metadata": {},
   "outputs": [
    {
     "data": {
      "text/plain": [
       "ThemeRegistry.enable('grid')"
      ]
     },
     "execution_count": 3,
     "metadata": {},
     "output_type": "execute_result"
    }
   ],
   "source": [
    "alt.themes.register(\"grid\", altgrid.theme)\n",
    "alt.themes.enable(\"grid\")"
   ]
  },
  {
   "cell_type": "code",
   "execution_count": 4,
   "id": "a3a93713-8af1-492b-adbd-e2c003569d82",
   "metadata": {
    "tags": []
   },
   "outputs": [],
   "source": [
    "pd.options.display.max_columns = 1000\n",
    "pd.options.display.max_rows = 1000"
   ]
  },
  {
   "cell_type": "markdown",
   "id": "8eb54bdd-faad-41c6-b804-9a04e541841d",
   "metadata": {},
   "source": [
    "---"
   ]
  },
  {
   "cell_type": "markdown",
   "id": "3dd1603a-2a10-42a8-baeb-11a6909f7ae5",
   "metadata": {},
   "source": [
    "## Read data"
   ]
  },
  {
   "cell_type": "markdown",
   "id": "369cab09-ddab-4409-8511-bde4cb3fe983",
   "metadata": {},
   "source": [
    "#### Make a list of the most 'competetive' states from 2020, [according to Inside Elections](http://www.insideelections.com/ratings/president/2020-presidential-ratings-october-28-2020)"
   ]
  },
  {
   "cell_type": "code",
   "execution_count": 5,
   "id": "7099aa49-2e8d-4b15-a1d3-f5bc17d300a0",
   "metadata": {},
   "outputs": [],
   "source": [
    "competetive_src = pd.read_csv(\n",
    "    \"https://docs.google.com/spreadsheets/d/e/2PACX-1vStoirfqFdugAT8mfQFlmbVzgm8IKA2GS1_nfsysTMp2oXx7SpR6Sz5MiNoaRYPPcB5Fz7ZiN3Hx35U/pub?gid=0&single=true&output=csv\",\n",
    "    dtype={\"year\": str},\n",
    ")"
   ]
  },
  {
   "cell_type": "code",
   "execution_count": 6,
   "id": "0d8b4ca3-badd-48ef-8332-d5f4533fd56e",
   "metadata": {},
   "outputs": [],
   "source": [
    "competetive = list(competetive_src[competetive_src[\"year\"] == \"2020\"][\"state\"])"
   ]
  },
  {
   "cell_type": "code",
   "execution_count": 7,
   "id": "6bd5a981-44c0-4045-b8bf-f09e34ac2962",
   "metadata": {},
   "outputs": [
    {
     "data": {
      "text/plain": [
       "['Iowa',\n",
       " 'Ohio',\n",
       " 'Texas',\n",
       " 'Arizona',\n",
       " 'Florida',\n",
       " 'Georgia',\n",
       " 'North Carolina',\n",
       " 'Michigan',\n",
       " 'Pennsylvania',\n",
       " 'Wisconsin',\n",
       " 'Minnesota',\n",
       " 'New Hampshire',\n",
       " 'Nevada',\n",
       " 'Alaska',\n",
       " 'Kansas',\n",
       " 'Missouri',\n",
       " 'Montana',\n",
       " 'South Carolina',\n",
       " 'Utah']"
      ]
     },
     "execution_count": 7,
     "metadata": {},
     "output_type": "execute_result"
    }
   ],
   "source": [
    "competetive"
   ]
  },
  {
   "cell_type": "markdown",
   "id": "9a4991b8-bfa6-47cb-807f-b9c14f4ab738",
   "metadata": {},
   "source": [
    "#### Polls"
   ]
  },
  {
   "cell_type": "code",
   "execution_count": 8,
   "id": "2c94f187-2acf-43ba-bb77-7f4a91419905",
   "metadata": {},
   "outputs": [],
   "source": [
    "polls = pd.read_csv(\"data/processed/2020_polling_average_states_538.csv\")"
   ]
  },
  {
   "cell_type": "code",
   "execution_count": 9,
   "id": "8d9d16a2-b4d4-4b4e-b1a0-f74c063c8c17",
   "metadata": {},
   "outputs": [
    {
     "data": {
      "text/html": [
       "<div>\n",
       "<style scoped>\n",
       "    .dataframe tbody tr th:only-of-type {\n",
       "        vertical-align: middle;\n",
       "    }\n",
       "\n",
       "    .dataframe tbody tr th {\n",
       "        vertical-align: top;\n",
       "    }\n",
       "\n",
       "    .dataframe thead th {\n",
       "        text-align: right;\n",
       "    }\n",
       "</style>\n",
       "<table border=\"1\" class=\"dataframe\">\n",
       "  <thead>\n",
       "    <tr style=\"text-align: right;\">\n",
       "      <th></th>\n",
       "      <th>state</th>\n",
       "      <th>gop_polling</th>\n",
       "      <th>dem_polling</th>\n",
       "      <th>gop_polling_margin</th>\n",
       "      <th>dem_polling_margin</th>\n",
       "      <th>year</th>\n",
       "      <th>description</th>\n",
       "    </tr>\n",
       "  </thead>\n",
       "  <tbody>\n",
       "    <tr>\n",
       "      <th>0</th>\n",
       "      <td>Alabama</td>\n",
       "      <td>57.36</td>\n",
       "      <td>37.83</td>\n",
       "      <td>19.53</td>\n",
       "      <td>-19.53</td>\n",
       "      <td>2020</td>\n",
       "      <td>538 polling average</td>\n",
       "    </tr>\n",
       "    <tr>\n",
       "      <th>1</th>\n",
       "      <td>Alaska</td>\n",
       "      <td>51.23</td>\n",
       "      <td>43.57</td>\n",
       "      <td>7.66</td>\n",
       "      <td>-7.66</td>\n",
       "      <td>2020</td>\n",
       "      <td>538 polling average</td>\n",
       "    </tr>\n",
       "    <tr>\n",
       "      <th>2</th>\n",
       "      <td>Arizona</td>\n",
       "      <td>46.10</td>\n",
       "      <td>48.71</td>\n",
       "      <td>-2.60</td>\n",
       "      <td>2.60</td>\n",
       "      <td>2020</td>\n",
       "      <td>538 polling average</td>\n",
       "    </tr>\n",
       "    <tr>\n",
       "      <th>3</th>\n",
       "      <td>Arkansas</td>\n",
       "      <td>58.95</td>\n",
       "      <td>36.18</td>\n",
       "      <td>22.77</td>\n",
       "      <td>-22.77</td>\n",
       "      <td>2020</td>\n",
       "      <td>538 polling average</td>\n",
       "    </tr>\n",
       "    <tr>\n",
       "      <th>4</th>\n",
       "      <td>California</td>\n",
       "      <td>32.44</td>\n",
       "      <td>61.62</td>\n",
       "      <td>-29.19</td>\n",
       "      <td>29.19</td>\n",
       "      <td>2020</td>\n",
       "      <td>538 polling average</td>\n",
       "    </tr>\n",
       "  </tbody>\n",
       "</table>\n",
       "</div>"
      ],
      "text/plain": [
       "        state  gop_polling  dem_polling  gop_polling_margin  \\\n",
       "0     Alabama        57.36        37.83               19.53   \n",
       "1      Alaska        51.23        43.57                7.66   \n",
       "2     Arizona        46.10        48.71               -2.60   \n",
       "3    Arkansas        58.95        36.18               22.77   \n",
       "4  California        32.44        61.62              -29.19   \n",
       "\n",
       "   dem_polling_margin  year          description  \n",
       "0              -19.53  2020  538 polling average  \n",
       "1               -7.66  2020  538 polling average  \n",
       "2                2.60  2020  538 polling average  \n",
       "3              -22.77  2020  538 polling average  \n",
       "4               29.19  2020  538 polling average  "
      ]
     },
     "execution_count": 9,
     "metadata": {},
     "output_type": "execute_result"
    }
   ],
   "source": [
    "polls.head()"
   ]
  },
  {
   "cell_type": "markdown",
   "id": "df8f25cc-79a3-4da9-87bb-32f0b0f810fd",
   "metadata": {},
   "source": [
    "#### Results"
   ]
  },
  {
   "cell_type": "code",
   "execution_count": 10,
   "id": "2feed212-910b-476c-a14b-333991597891",
   "metadata": {},
   "outputs": [],
   "source": [
    "results = pd.read_csv(\"data/processed/2020_election_results_states_fec.csv\")"
   ]
  },
  {
   "cell_type": "code",
   "execution_count": 11,
   "id": "16c169ff-8b81-4065-99e9-e645ec50141b",
   "metadata": {},
   "outputs": [
    {
     "data": {
      "text/html": [
       "<div>\n",
       "<style scoped>\n",
       "    .dataframe tbody tr th:only-of-type {\n",
       "        vertical-align: middle;\n",
       "    }\n",
       "\n",
       "    .dataframe tbody tr th {\n",
       "        vertical-align: top;\n",
       "    }\n",
       "\n",
       "    .dataframe thead th {\n",
       "        text-align: right;\n",
       "    }\n",
       "</style>\n",
       "<table border=\"1\" class=\"dataframe\">\n",
       "  <thead>\n",
       "    <tr style=\"text-align: right;\">\n",
       "      <th></th>\n",
       "      <th>state</th>\n",
       "      <th>gop_vote_pct</th>\n",
       "      <th>dem_vote_pct</th>\n",
       "      <th>other_vote_pct</th>\n",
       "      <th>year</th>\n",
       "    </tr>\n",
       "  </thead>\n",
       "  <tbody>\n",
       "    <tr>\n",
       "      <th>0</th>\n",
       "      <td>Alabama</td>\n",
       "      <td>62.03</td>\n",
       "      <td>36.57</td>\n",
       "      <td>1.40</td>\n",
       "      <td>2020</td>\n",
       "    </tr>\n",
       "    <tr>\n",
       "      <th>1</th>\n",
       "      <td>Alaska</td>\n",
       "      <td>52.83</td>\n",
       "      <td>42.77</td>\n",
       "      <td>4.39</td>\n",
       "      <td>2020</td>\n",
       "    </tr>\n",
       "    <tr>\n",
       "      <th>2</th>\n",
       "      <td>Arizona</td>\n",
       "      <td>49.06</td>\n",
       "      <td>49.36</td>\n",
       "      <td>1.58</td>\n",
       "      <td>2020</td>\n",
       "    </tr>\n",
       "    <tr>\n",
       "      <th>3</th>\n",
       "      <td>Arkansas</td>\n",
       "      <td>62.40</td>\n",
       "      <td>34.78</td>\n",
       "      <td>2.83</td>\n",
       "      <td>2020</td>\n",
       "    </tr>\n",
       "    <tr>\n",
       "      <th>4</th>\n",
       "      <td>California</td>\n",
       "      <td>34.32</td>\n",
       "      <td>63.48</td>\n",
       "      <td>2.20</td>\n",
       "      <td>2020</td>\n",
       "    </tr>\n",
       "  </tbody>\n",
       "</table>\n",
       "</div>"
      ],
      "text/plain": [
       "        state  gop_vote_pct  dem_vote_pct  other_vote_pct  year\n",
       "0     Alabama         62.03         36.57            1.40  2020\n",
       "1      Alaska         52.83         42.77            4.39  2020\n",
       "2     Arizona         49.06         49.36            1.58  2020\n",
       "3    Arkansas         62.40         34.78            2.83  2020\n",
       "4  California         34.32         63.48            2.20  2020"
      ]
     },
     "execution_count": 11,
     "metadata": {},
     "output_type": "execute_result"
    }
   ],
   "source": [
    "results.head()"
   ]
  },
  {
   "cell_type": "code",
   "execution_count": 12,
   "id": "406fbdb6-3c25-49e3-a55e-2095ebff21f0",
   "metadata": {},
   "outputs": [],
   "source": [
    "df = pd.merge(polls, results, on=[\"state\", \"year\"])"
   ]
  },
  {
   "cell_type": "code",
   "execution_count": 13,
   "id": "f6f4bb26-99a4-4ecc-ad54-e31d20596b71",
   "metadata": {},
   "outputs": [],
   "source": [
    "df = df[[\"year\", \"state\", \"gop_polling\", \"gop_vote_pct\", \"dem_polling\", \"dem_vote_pct\"]]"
   ]
  },
  {
   "cell_type": "code",
   "execution_count": 14,
   "id": "f5532c3f-0efd-4ada-8453-828222ba52c3",
   "metadata": {},
   "outputs": [],
   "source": [
    "df[\"gop_diff\"] = df[\"gop_polling\"] - df[\"gop_vote_pct\"]\n",
    "df[\"dem_diff\"] = df[\"dem_polling\"] - df[\"dem_vote_pct\"]"
   ]
  },
  {
   "cell_type": "code",
   "execution_count": 15,
   "id": "50a4839e-14fe-4bd5-8cfd-57bffbe80337",
   "metadata": {},
   "outputs": [],
   "source": [
    "df[\"winner\"] = (\n",
    "    df[[\"gop_vote_pct\", \"dem_vote_pct\"]]\n",
    "    .idxmax(axis=1)\n",
    "    .str.replace(\"_vote_pct\", \"\")\n",
    "    .str.upper()\n",
    ")"
   ]
  },
  {
   "cell_type": "markdown",
   "id": "6b9dac1f-7b1f-430e-be6e-6589485e823e",
   "metadata": {},
   "source": [
    "#### How off were the polls for each party?"
   ]
  },
  {
   "cell_type": "code",
   "execution_count": 16,
   "id": "b3c9aa3d-a42b-4aac-9503-e7d77035042a",
   "metadata": {},
   "outputs": [
    {
     "data": {
      "text/plain": [
       "-4.11"
      ]
     },
     "execution_count": 16,
     "metadata": {},
     "output_type": "execute_result"
    }
   ],
   "source": [
    "df.gop_diff.mean().round(2)"
   ]
  },
  {
   "cell_type": "code",
   "execution_count": 17,
   "id": "24575d16-cbc8-436f-b785-c9b81219bb62",
   "metadata": {},
   "outputs": [
    {
     "data": {
      "text/plain": [
       "1.17"
      ]
     },
     "execution_count": 17,
     "metadata": {},
     "output_type": "execute_result"
    }
   ],
   "source": [
    "df.dem_diff.mean().round(2)"
   ]
  },
  {
   "cell_type": "markdown",
   "id": "5aa8dd8d-1034-430a-bc11-4e88aae72ec8",
   "metadata": {},
   "source": [
    "---"
   ]
  },
  {
   "cell_type": "markdown",
   "id": "7f6e5a09-cc9e-4f75-bb39-1540dcf744e7",
   "metadata": {},
   "source": [
    "#### Just the competetive states"
   ]
  },
  {
   "cell_type": "code",
   "execution_count": 18,
   "id": "32e47a9b-1d69-4048-b719-ba87ec3ef167",
   "metadata": {},
   "outputs": [],
   "source": [
    "competetive_df = df[df[\"state\"].isin(competetive)]"
   ]
  },
  {
   "cell_type": "code",
   "execution_count": 19,
   "id": "0056b41c-0c68-4840-aa2f-5e895c216705",
   "metadata": {},
   "outputs": [
    {
     "data": {
      "text/html": [
       "<div>\n",
       "<style scoped>\n",
       "    .dataframe tbody tr th:only-of-type {\n",
       "        vertical-align: middle;\n",
       "    }\n",
       "\n",
       "    .dataframe tbody tr th {\n",
       "        vertical-align: top;\n",
       "    }\n",
       "\n",
       "    .dataframe thead th {\n",
       "        text-align: right;\n",
       "    }\n",
       "</style>\n",
       "<table border=\"1\" class=\"dataframe\">\n",
       "  <thead>\n",
       "    <tr style=\"text-align: right;\">\n",
       "      <th></th>\n",
       "      <th>year</th>\n",
       "      <th>state</th>\n",
       "      <th>gop_polling</th>\n",
       "      <th>gop_vote_pct</th>\n",
       "      <th>dem_polling</th>\n",
       "      <th>dem_vote_pct</th>\n",
       "      <th>gop_diff</th>\n",
       "      <th>dem_diff</th>\n",
       "      <th>winner</th>\n",
       "    </tr>\n",
       "  </thead>\n",
       "  <tbody>\n",
       "    <tr>\n",
       "      <th>1</th>\n",
       "      <td>2020</td>\n",
       "      <td>Alaska</td>\n",
       "      <td>51.23</td>\n",
       "      <td>52.83</td>\n",
       "      <td>43.57</td>\n",
       "      <td>42.77</td>\n",
       "      <td>-1.60</td>\n",
       "      <td>0.80</td>\n",
       "      <td>GOP</td>\n",
       "    </tr>\n",
       "    <tr>\n",
       "      <th>2</th>\n",
       "      <td>2020</td>\n",
       "      <td>Arizona</td>\n",
       "      <td>46.10</td>\n",
       "      <td>49.06</td>\n",
       "      <td>48.71</td>\n",
       "      <td>49.36</td>\n",
       "      <td>-2.96</td>\n",
       "      <td>-0.65</td>\n",
       "      <td>DEM</td>\n",
       "    </tr>\n",
       "    <tr>\n",
       "      <th>8</th>\n",
       "      <td>2020</td>\n",
       "      <td>Florida</td>\n",
       "      <td>46.62</td>\n",
       "      <td>51.22</td>\n",
       "      <td>49.08</td>\n",
       "      <td>47.86</td>\n",
       "      <td>-4.60</td>\n",
       "      <td>1.22</td>\n",
       "      <td>GOP</td>\n",
       "    </tr>\n",
       "    <tr>\n",
       "      <th>9</th>\n",
       "      <td>2020</td>\n",
       "      <td>Georgia</td>\n",
       "      <td>47.37</td>\n",
       "      <td>49.24</td>\n",
       "      <td>48.54</td>\n",
       "      <td>49.47</td>\n",
       "      <td>-1.87</td>\n",
       "      <td>-0.93</td>\n",
       "      <td>DEM</td>\n",
       "    </tr>\n",
       "    <tr>\n",
       "      <th>14</th>\n",
       "      <td>2020</td>\n",
       "      <td>Iowa</td>\n",
       "      <td>47.60</td>\n",
       "      <td>53.09</td>\n",
       "      <td>46.31</td>\n",
       "      <td>44.89</td>\n",
       "      <td>-5.49</td>\n",
       "      <td>1.42</td>\n",
       "      <td>GOP</td>\n",
       "    </tr>\n",
       "  </tbody>\n",
       "</table>\n",
       "</div>"
      ],
      "text/plain": [
       "    year    state  gop_polling  gop_vote_pct  dem_polling  dem_vote_pct  \\\n",
       "1   2020   Alaska        51.23         52.83        43.57         42.77   \n",
       "2   2020  Arizona        46.10         49.06        48.71         49.36   \n",
       "8   2020  Florida        46.62         51.22        49.08         47.86   \n",
       "9   2020  Georgia        47.37         49.24        48.54         49.47   \n",
       "14  2020     Iowa        47.60         53.09        46.31         44.89   \n",
       "\n",
       "    gop_diff  dem_diff winner  \n",
       "1      -1.60      0.80    GOP  \n",
       "2      -2.96     -0.65    DEM  \n",
       "8      -4.60      1.22    GOP  \n",
       "9      -1.87     -0.93    DEM  \n",
       "14     -5.49      1.42    GOP  "
      ]
     },
     "execution_count": 19,
     "metadata": {},
     "output_type": "execute_result"
    }
   ],
   "source": [
    "competetive_df.head()"
   ]
  },
  {
   "cell_type": "markdown",
   "id": "d60daa07-0d3e-4832-9d66-15d99f4e6278",
   "metadata": {},
   "source": [
    "#### How off were the polls for each party in competetive states?"
   ]
  },
  {
   "cell_type": "code",
   "execution_count": 20,
   "id": "5509c469-82b6-4814-bec1-305c52196724",
   "metadata": {},
   "outputs": [
    {
     "data": {
      "text/plain": [
       "-3.92"
      ]
     },
     "execution_count": 20,
     "metadata": {},
     "output_type": "execute_result"
    }
   ],
   "source": [
    "competetive_df.gop_diff.mean().round(2)"
   ]
  },
  {
   "cell_type": "code",
   "execution_count": 21,
   "id": "d6f51e37-d81e-4834-b8d8-e5573d952064",
   "metadata": {},
   "outputs": [
    {
     "data": {
      "text/plain": [
       "1.06"
      ]
     },
     "execution_count": 21,
     "metadata": {},
     "output_type": "execute_result"
    }
   ],
   "source": [
    "competetive_df.dem_diff.mean().round(2)"
   ]
  },
  {
   "cell_type": "markdown",
   "id": "b319d188-a2d7-4ffa-badd-f373c53af629",
   "metadata": {},
   "source": [
    "---"
   ]
  },
  {
   "cell_type": "markdown",
   "id": "d3cd153b-0829-4fb1-9a79-71a4c4c964e2",
   "metadata": {},
   "source": [
    "#### Melt the table for competetive races for charting"
   ]
  },
  {
   "cell_type": "code",
   "execution_count": 22,
   "id": "7d54234e-877f-468a-acc4-57b436db6b5c",
   "metadata": {},
   "outputs": [],
   "source": [
    "df_long = pd.melt(\n",
    "    competetive_df,\n",
    "    id_vars=[\"state\"],\n",
    "    value_vars=[\"dem_diff\", \"gop_diff\"],\n",
    "    var_name=\"party\",\n",
    "    value_name=\"diff_value\",\n",
    ")"
   ]
  },
  {
   "cell_type": "code",
   "execution_count": 23,
   "id": "91f53d76-aec8-4e8d-b0df-4e94acb5d17c",
   "metadata": {},
   "outputs": [],
   "source": [
    "df_long[\"party\"] = (\n",
    "    df_long[\"party\"]\n",
    "    .str.replace(\"dem_diff\", \"Democrats\")\n",
    "    .str.replace(\"gop_diff\", \"Republicans\")\n",
    ")"
   ]
  },
  {
   "cell_type": "code",
   "execution_count": 24,
   "id": "cd59a206-5e8a-4dff-9c93-f5e10c021fb8",
   "metadata": {},
   "outputs": [
    {
     "data": {
      "text/html": [
       "\n",
       "<div id=\"altair-viz-dad5bebe64584e0f875cf00f53b4d904\"></div>\n",
       "<script type=\"text/javascript\">\n",
       "  var VEGA_DEBUG = (typeof VEGA_DEBUG == \"undefined\") ? {} : VEGA_DEBUG;\n",
       "  (function(spec, embedOpt){\n",
       "    let outputDiv = document.currentScript.previousElementSibling;\n",
       "    if (outputDiv.id !== \"altair-viz-dad5bebe64584e0f875cf00f53b4d904\") {\n",
       "      outputDiv = document.getElementById(\"altair-viz-dad5bebe64584e0f875cf00f53b4d904\");\n",
       "    }\n",
       "    const paths = {\n",
       "      \"vega\": \"https://cdn.jsdelivr.net/npm//vega@5?noext\",\n",
       "      \"vega-lib\": \"https://cdn.jsdelivr.net/npm//vega-lib?noext\",\n",
       "      \"vega-lite\": \"https://cdn.jsdelivr.net/npm//vega-lite@4.17.0?noext\",\n",
       "      \"vega-embed\": \"https://cdn.jsdelivr.net/npm//vega-embed@6?noext\",\n",
       "    };\n",
       "\n",
       "    function maybeLoadScript(lib, version) {\n",
       "      var key = `${lib.replace(\"-\", \"\")}_version`;\n",
       "      return (VEGA_DEBUG[key] == version) ?\n",
       "        Promise.resolve(paths[lib]) :\n",
       "        new Promise(function(resolve, reject) {\n",
       "          var s = document.createElement('script');\n",
       "          document.getElementsByTagName(\"head\")[0].appendChild(s);\n",
       "          s.async = true;\n",
       "          s.onload = () => {\n",
       "            VEGA_DEBUG[key] = version;\n",
       "            return resolve(paths[lib]);\n",
       "          };\n",
       "          s.onerror = () => reject(`Error loading script: ${paths[lib]}`);\n",
       "          s.src = paths[lib];\n",
       "        });\n",
       "    }\n",
       "\n",
       "    function showError(err) {\n",
       "      outputDiv.innerHTML = `<div class=\"error\" style=\"color:red;\">${err}</div>`;\n",
       "      throw err;\n",
       "    }\n",
       "\n",
       "    function displayChart(vegaEmbed) {\n",
       "      vegaEmbed(outputDiv, spec, embedOpt)\n",
       "        .catch(err => showError(`Javascript Error: ${err.message}<br>This usually means there's a typo in your chart specification. See the javascript console for the full traceback.`));\n",
       "    }\n",
       "\n",
       "    if(typeof define === \"function\" && define.amd) {\n",
       "      requirejs.config({paths});\n",
       "      require([\"vega-embed\"], displayChart, err => showError(`Error loading script: ${err.message}`));\n",
       "    } else {\n",
       "      maybeLoadScript(\"vega\", \"5\")\n",
       "        .then(() => maybeLoadScript(\"vega-lite\", \"4.17.0\"))\n",
       "        .then(() => maybeLoadScript(\"vega-embed\", \"6\"))\n",
       "        .catch(showError)\n",
       "        .then(() => displayChart(vegaEmbed));\n",
       "    }\n",
       "  })({\"config\": {\"view\": {\"width\": 800, \"height\": 450, \"strokeOpacity\": 0}, \"background\": \"#ffffff\", \"title\": {\"anchor\": \"start\", \"font\": \"Summit Sans\", \"fontColor\": \"palette[\\\"black\\\"]\", \"fontSize\": 18, \"fontWeight\": \"normal\"}, \"arc\": {\"fill\": \"#00d4d8\"}, \"area\": {\"fill\": \"#00d4d8\"}, \"line\": {\"stroke\": \"#00d4d8\", \"strokeWidth\": 3}, \"path\": {\"stroke\": \"#00d4d8\"}, \"rect\": {\"fill\": \"#00d4d8\"}, \"shape\": {\"stroke\": \"#00d4d8\"}, \"bar\": {\"fill\": \"#00d4d8\"}, \"point\": {\"stroke\": \"#00d4d8\"}, \"symbol\": {\"fill\": \"#00d4d8\", \"size\": 30}, \"axis\": {\"titleFont\": \"Roboto\", \"titleFontSize\": 15, \"titleFontWeight\": \"normal\", \"labelFont\": \"Roboto, sans\", \"labelFontSize\": 13, \"labelFontWeight\": \"normal\"}, \"axisX\": {\"labelAngle\": 0, \"labelPadding\": 6, \"tickSize\": 3, \"grid\": false}, \"axisY\": {\"labelBaseline\": \"middle\", \"maxExtent\": 45, \"minExtent\": 45, \"titleAlign\": \"left\", \"titleAngle\": 0, \"titleX\": -45, \"titleY\": -11, \"domainOpacity\": 0, \"gridWidth\": 0.6, \"gridColor\": \"#dddddd\", \"offset\": 6, \"tickSize\": 0, \"titleColor\": \"#767676\"}, \"legend\": {\"titleFont\": \"Roboto\", \"titleFontSize\": 15, \"titleFontWeight\": \"normal\", \"symbolType\": \"square\", \"labelFont\": \"Roboto, sans\", \"labelFontSize\": 13}, \"range\": {\"category\": [\"#005f66\", \"#e37e2d\", \"#d64a3b\", \"#76b0ef\", \"#c1bc40\"], \"diverging\": [\"#e68a4f\", \"#f4bb6a\", \"#f9e39c\", \"#dadfe2\", \"#a6b7c6\", \"#849eae\"], \"heatmap\": [\"#7ff6f6\", \"#00eeef\", \"#00d4d8\", \"#00abb2\", \"#00848b\", \"#fbf2c7\", \"#00363d\"], \"ordinal\": [\"#7ff6f6\", \"#00eeef\", \"#00d4d8\", \"#00abb2\", \"#00848b\", \"#fbf2c7\", \"#00363d\"], \"ramp\": [\"#7ff6f6\", \"#00eeef\", \"#00d4d8\", \"#00abb2\", \"#00848b\", \"#fbf2c7\", \"#00363d\"]}}, \"data\": {\"name\": \"data-6fb892c6dd38444df8f70439ac7383af\"}, \"mark\": \"bar\", \"encoding\": {\"color\": {\"condition\": {\"value\": \"#00d4d8\", \"test\": \"(datum.diff_value > 0)\"}, \"value\": \"#d95f1a\"}, \"facet\": {\"columns\": 2, \"field\": \"party\", \"header\": {\"labelFont\": \"Summit Sans\", \"labelFontSize\": 15}, \"title\": \" \", \"type\": \"nominal\"}, \"x\": {\"axis\": {}, \"field\": \"diff_value\", \"title\": \" \", \"type\": \"quantitative\"}, \"y\": {\"field\": \"state\", \"title\": \" \", \"type\": \"nominal\"}}, \"height\": 400, \"title\": \"2020 presidential in competetive states: PPT difference between polling and result\", \"width\": 300, \"$schema\": \"https://vega.github.io/schema/vega-lite/v4.17.0.json\", \"datasets\": {\"data-6fb892c6dd38444df8f70439ac7383af\": [{\"state\": \"Alaska\", \"party\": \"Democrats\", \"diff_value\": 0.7999999999999972}, {\"state\": \"Arizona\", \"party\": \"Democrats\", \"diff_value\": -0.6499999999999986}, {\"state\": \"Florida\", \"party\": \"Democrats\", \"diff_value\": 1.2199999999999989}, {\"state\": \"Georgia\", \"party\": \"Democrats\", \"diff_value\": -0.9299999999999997}, {\"state\": \"Iowa\", \"party\": \"Democrats\", \"diff_value\": 1.4200000000000017}, {\"state\": \"Kansas\", \"party\": \"Democrats\", \"diff_value\": -0.6099999999999994}, {\"state\": \"Michigan\", \"party\": \"Democrats\", \"diff_value\": 0.5300000000000011}, {\"state\": \"Minnesota\", \"party\": \"Democrats\", \"diff_value\": -0.5499999999999972}, {\"state\": \"Missouri\", \"party\": \"Democrats\", \"diff_value\": 2.200000000000003}, {\"state\": \"Montana\", \"party\": \"Democrats\", \"diff_value\": 4.82}, {\"state\": \"Nevada\", \"party\": \"Democrats\", \"diff_value\": -0.4000000000000057}, {\"state\": \"New Hampshire\", \"party\": \"Democrats\", \"diff_value\": 1.2100000000000009}, {\"state\": \"North Carolina\", \"party\": \"Democrats\", \"diff_value\": 0.30999999999999517}, {\"state\": \"Ohio\", \"party\": \"Democrats\", \"diff_value\": 1.5300000000000011}, {\"state\": \"Pennsylvania\", \"party\": \"Democrats\", \"diff_value\": 0.19000000000000483}, {\"state\": \"South Carolina\", \"party\": \"Democrats\", \"diff_value\": 1.0799999999999983}, {\"state\": \"Texas\", \"party\": \"Democrats\", \"diff_value\": 0.970000000000006}, {\"state\": \"Utah\", \"party\": \"Democrats\", \"diff_value\": 4.420000000000002}, {\"state\": \"Wisconsin\", \"party\": \"Democrats\", \"diff_value\": 2.6499999999999986}, {\"state\": \"Alaska\", \"party\": \"Republicans\", \"diff_value\": -1.6000000000000014}, {\"state\": \"Arizona\", \"party\": \"Republicans\", \"diff_value\": -2.960000000000001}, {\"state\": \"Florida\", \"party\": \"Republicans\", \"diff_value\": -4.600000000000001}, {\"state\": \"Georgia\", \"party\": \"Republicans\", \"diff_value\": -1.8700000000000045}, {\"state\": \"Iowa\", \"party\": \"Republicans\", \"diff_value\": -5.490000000000002}, {\"state\": \"Kansas\", \"party\": \"Republicans\", \"diff_value\": -2.3500000000000014}, {\"state\": \"Michigan\", \"party\": \"Republicans\", \"diff_value\": -4.6100000000000065}, {\"state\": \"Minnesota\", \"party\": \"Republicans\", \"diff_value\": -2.6099999999999994}, {\"state\": \"Missouri\", \"party\": \"Republicans\", \"diff_value\": -5.189999999999998}, {\"state\": \"Montana\", \"party\": \"Republicans\", \"diff_value\": -7.130000000000003}, {\"state\": \"Nevada\", \"party\": \"Republicans\", \"diff_value\": -3.3100000000000023}, {\"state\": \"New Hampshire\", \"party\": \"Republicans\", \"diff_value\": -2.530000000000001}, {\"state\": \"North Carolina\", \"party\": \"Republicans\", \"diff_value\": -2.8100000000000023}, {\"state\": \"Ohio\", \"party\": \"Republicans\", \"diff_value\": -5.740000000000002}, {\"state\": \"Pennsylvania\", \"party\": \"Republicans\", \"diff_value\": -3.2900000000000063}, {\"state\": \"South Carolina\", \"party\": \"Republicans\", \"diff_value\": -3.519999999999996}, {\"state\": \"Texas\", \"party\": \"Republicans\", \"diff_value\": -3.469999999999999}, {\"state\": \"Utah\", \"party\": \"Republicans\", \"diff_value\": -6.210000000000001}, {\"state\": \"Wisconsin\", \"party\": \"Republicans\", \"diff_value\": -5.109999999999999}]}}, {\"mode\": \"vega-lite\"});\n",
       "</script>"
      ],
      "text/plain": [
       "alt.Chart(...)"
      ]
     },
     "execution_count": 24,
     "metadata": {},
     "output_type": "execute_result"
    }
   ],
   "source": [
    "alt.Chart(df_long).mark_bar().encode(\n",
    "    x=alt.X(\"diff_value\", title=\" \", axis=alt.Axis()),\n",
    "    y=alt.Y(\"state\", title=\" \"),\n",
    "    color=alt.condition(\n",
    "        alt.datum.diff_value > 0,\n",
    "        alt.value(\"#00d4d8\"),  # The positive color\n",
    "        alt.value(\"#d95f1a\"),  # The negative color\n",
    "    ),\n",
    "    facet=alt.Facet(\n",
    "        \"party\",\n",
    "        columns=2,\n",
    "        title=\" \",\n",
    "        header=alt.Header(labelFontSize=15, labelFont=\"Summit Sans\"),\n",
    "    ),\n",
    ").properties(\n",
    "    height=400,\n",
    "    width=300,\n",
    "    title=\"2020 presidential in competetive states: PPT difference between polling and result\",\n",
    ")"
   ]
  },
  {
   "cell_type": "markdown",
   "id": "90b2d5a8-f0c1-4598-a800-5ba952c70dfb",
   "metadata": {},
   "source": [
    "---"
   ]
  },
  {
   "cell_type": "markdown",
   "id": "ad8f28f6-4446-46ba-bdc6-c07910d07ea0",
   "metadata": {
    "tags": []
   },
   "source": [
    "#### Export"
   ]
  },
  {
   "cell_type": "code",
   "execution_count": 25,
   "id": "aa4b41cb-aa56-4ee7-b52c-4842a149c0a0",
   "metadata": {},
   "outputs": [],
   "source": [
    "competetive_df.to_csv(\"data/processed/competetive_races_2020.csv\", index=False)"
   ]
  }
 ],
 "metadata": {
  "kernelspec": {
   "display_name": "Python 3 (ipykernel)",
   "language": "python",
   "name": "python3"
  },
  "language_info": {
   "codemirror_mode": {
    "name": "ipython",
    "version": 3
   },
   "file_extension": ".py",
   "mimetype": "text/x-python",
   "name": "python",
   "nbconvert_exporter": "python",
   "pygments_lexer": "ipython3",
   "version": "3.9.9"
  }
 },
 "nbformat": 4,
 "nbformat_minor": 5
}
