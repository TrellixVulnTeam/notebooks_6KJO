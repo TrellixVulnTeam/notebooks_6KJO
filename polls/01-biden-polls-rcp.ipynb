{
 "cells": [
  {
   "cell_type": "markdown",
   "id": "fddc3837-c76a-4c67-aaff-d39a52cc615a",
   "metadata": {},
   "source": [
    "# President Biden polls"
   ]
  },
  {
   "cell_type": "markdown",
   "id": "1c8b0383-3572-4fdb-b9de-635dc870c580",
   "metadata": {},
   "source": [
    "### Get Python tools"
   ]
  },
  {
   "cell_type": "code",
   "execution_count": 1,
   "id": "30393f68-bc68-471f-8df6-d28859f72748",
   "metadata": {},
   "outputs": [],
   "source": [
    "%load_ext lab_black"
   ]
  },
  {
   "cell_type": "code",
   "execution_count": 2,
   "id": "216c298b-8970-4370-9d6e-a877d8ef2fd0",
   "metadata": {},
   "outputs": [],
   "source": [
    "import pandas as pd\n",
    "import requests\n",
    "from bs4 import BeautifulSoup\n",
    "import datetime as dt"
   ]
  },
  {
   "cell_type": "code",
   "execution_count": 3,
   "id": "b06c1253-45e1-4831-8a13-004c7ab380db",
   "metadata": {},
   "outputs": [],
   "source": [
    "pd.options.display.max_columns = 50\n",
    "pd.options.display.max_rows = 1000"
   ]
  },
  {
   "cell_type": "markdown",
   "id": "a8d66e82-59d7-4cd2-91ae-921d3d2f2883",
   "metadata": {},
   "source": [
    "---"
   ]
  },
  {
   "cell_type": "markdown",
   "id": "40c108ad-8b55-4938-b463-e326394f9740",
   "metadata": {},
   "source": [
    "### Get latest Biden trends from Real Clear Politics"
   ]
  },
  {
   "cell_type": "code",
   "execution_count": 4,
   "id": "2ee95e26-ad70-4a5a-b1fa-e65a247469a5",
   "metadata": {},
   "outputs": [],
   "source": [
    "url = \"https://www.realclearpolitics.com/epolls/other/president-biden-job-approval-7320.html#polls\"\n",
    "headers = {\"user-agent\": \"Mozilla/5.0 (Macintosh; Intel Mac OS X \"}\n",
    "r = requests.get(url, headers=headers)"
   ]
  },
  {
   "cell_type": "code",
   "execution_count": 5,
   "id": "944a245f-201c-404c-bc63-f5bb61226021",
   "metadata": {},
   "outputs": [],
   "source": [
    "soup = BeautifulSoup(r.text, \"html.parser\")"
   ]
  },
  {
   "cell_type": "code",
   "execution_count": 6,
   "id": "52795580-4ef7-4f02-9cba-04b54d90042c",
   "metadata": {},
   "outputs": [],
   "source": [
    "tables = soup.findAll(\"table\", attrs={\"class\": \"data\"})"
   ]
  },
  {
   "cell_type": "code",
   "execution_count": 7,
   "id": "fcf918dd-08e1-4459-97e5-68985f4782de",
   "metadata": {},
   "outputs": [],
   "source": [
    "src = pd.read_html(str(tables))[0]"
   ]
  },
  {
   "cell_type": "code",
   "execution_count": 8,
   "id": "65ba6d2a-67b3-4701-9d5e-795806b172c7",
   "metadata": {},
   "outputs": [],
   "source": [
    "latest_df = src[:1].copy()"
   ]
  },
  {
   "cell_type": "code",
   "execution_count": 9,
   "id": "bb263bad-cc2c-4a27-8907-e787762ddf36",
   "metadata": {},
   "outputs": [],
   "source": [
    "latest_df.columns = latest_df.columns.str.lower()"
   ]
  },
  {
   "cell_type": "code",
   "execution_count": 10,
   "id": "f5ec0885-229b-4d14-adb6-e741e5ff9f7b",
   "metadata": {},
   "outputs": [],
   "source": [
    "latest_df[[\"begin\", \"end\"]] = (\n",
    "    latest_df[\"date\"].astype(str).str.split(\" - \", n=1, expand=True)\n",
    ")"
   ]
  },
  {
   "cell_type": "code",
   "execution_count": 11,
   "id": "96d7bba9-f4f7-494f-81ae-fd27206b2cbd",
   "metadata": {},
   "outputs": [],
   "source": [
    "date = (latest_df[\"end\"] + \"/2021\").astype(str)"
   ]
  },
  {
   "cell_type": "code",
   "execution_count": 12,
   "id": "d411d51f-d3fc-402c-ac8a-77c3315cd28d",
   "metadata": {},
   "outputs": [],
   "source": [
    "latest_df[\"date\"] = pd.to_datetime(date).dt.date"
   ]
  },
  {
   "cell_type": "code",
   "execution_count": 13,
   "id": "00df4e9a-679c-47e4-ac79-43a2cf55ab60",
   "metadata": {},
   "outputs": [],
   "source": [
    "latest_df.drop([\"poll\", \"sample\", \"begin\", \"end\"], axis=1, inplace=True)"
   ]
  },
  {
   "cell_type": "code",
   "execution_count": 14,
   "id": "635e74c4-5690-4ae5-b4fc-cd0cd1f44c25",
   "metadata": {},
   "outputs": [
    {
     "data": {
      "text/html": [
       "<div>\n",
       "<style scoped>\n",
       "    .dataframe tbody tr th:only-of-type {\n",
       "        vertical-align: middle;\n",
       "    }\n",
       "\n",
       "    .dataframe tbody tr th {\n",
       "        vertical-align: top;\n",
       "    }\n",
       "\n",
       "    .dataframe thead th {\n",
       "        text-align: right;\n",
       "    }\n",
       "</style>\n",
       "<table border=\"1\" class=\"dataframe\">\n",
       "  <thead>\n",
       "    <tr style=\"text-align: right;\">\n",
       "      <th></th>\n",
       "      <th>date</th>\n",
       "      <th>approve</th>\n",
       "      <th>disapprove</th>\n",
       "      <th>spread</th>\n",
       "    </tr>\n",
       "  </thead>\n",
       "  <tbody>\n",
       "    <tr>\n",
       "      <th>0</th>\n",
       "      <td>2021-12-28</td>\n",
       "      <td>43.0</td>\n",
       "      <td>53.4</td>\n",
       "      <td>-10.4</td>\n",
       "    </tr>\n",
       "  </tbody>\n",
       "</table>\n",
       "</div>"
      ],
      "text/plain": [
       "         date  approve  disapprove  spread\n",
       "0  2021-12-28     43.0        53.4   -10.4"
      ]
     },
     "execution_count": 14,
     "metadata": {},
     "output_type": "execute_result"
    }
   ],
   "source": [
    "latest_df.head()"
   ]
  },
  {
   "cell_type": "markdown",
   "id": "c430a3e4-423d-468d-a988-9d688c3e8f66",
   "metadata": {},
   "source": [
    "---"
   ]
  },
  {
   "cell_type": "markdown",
   "id": "cafa8b75-0a5d-4ef8-ba39-e16f3e41980c",
   "metadata": {},
   "source": [
    "### Import historical polling average for Biden from RCP via Wayback Machine"
   ]
  },
  {
   "cell_type": "code",
   "execution_count": 15,
   "id": "27b27fbd-05aa-4774-acec-22a84d513863",
   "metadata": {},
   "outputs": [],
   "source": [
    "historical = pd.read_csv(\"data/processed/biden_history.csv\")"
   ]
  },
  {
   "cell_type": "code",
   "execution_count": 16,
   "id": "15c54c21-9b4e-46ca-8580-74880fd780e2",
   "metadata": {},
   "outputs": [],
   "source": [
    "historical.drop([\"wayback_date\", \"wayback_time\"], axis=1, inplace=True)"
   ]
  },
  {
   "cell_type": "markdown",
   "id": "a4086cd0-945d-4bef-9129-14cbaf9bae75",
   "metadata": {},
   "source": [
    "---"
   ]
  },
  {
   "cell_type": "markdown",
   "id": "78c8859a-02f5-4ce6-ba88-9db319a330fc",
   "metadata": {},
   "source": [
    "### Append latest to historical"
   ]
  },
  {
   "cell_type": "code",
   "execution_count": 17,
   "id": "2d9dd88c-e189-4a02-a00b-3bea61b0d95c",
   "metadata": {},
   "outputs": [],
   "source": [
    "full_df = historical.append(latest_df).reset_index(drop=True)"
   ]
  },
  {
   "cell_type": "code",
   "execution_count": 18,
   "id": "ef24ad15-da8f-475e-a320-cf9ec50d89f4",
   "metadata": {},
   "outputs": [],
   "source": [
    "full_df[\"date\"] = pd.to_datetime(full_df[\"date\"])"
   ]
  },
  {
   "cell_type": "code",
   "execution_count": 19,
   "id": "46cccbc3-1ae3-44db-ba21-25452be66c29",
   "metadata": {},
   "outputs": [],
   "source": [
    "full_df = full_df.sort_values(\"date\", ascending=False)"
   ]
  },
  {
   "cell_type": "code",
   "execution_count": 20,
   "id": "49ee81a8-8891-46de-8212-bf9ba8601218",
   "metadata": {},
   "outputs": [],
   "source": [
    "full_df[\"candidate\"] = \"President Biden\""
   ]
  },
  {
   "cell_type": "markdown",
   "id": "a9dd6c35-f43d-47d9-abfb-2f831d586bbf",
   "metadata": {},
   "source": [
    "---"
   ]
  },
  {
   "cell_type": "code",
   "execution_count": 21,
   "id": "5e7b06f5-308a-4673-8d3b-6e04be209e8a",
   "metadata": {},
   "outputs": [],
   "source": [
    "df_long = pd.melt(\n",
    "    full_df,\n",
    "    id_vars=\"date\",\n",
    "    value_vars=[\"approve\", \"disapprove\", \"spread\"],\n",
    "    var_name=\"value\",\n",
    "    value_name=\"variable\",\n",
    ")"
   ]
  },
  {
   "cell_type": "code",
   "execution_count": 22,
   "id": "67148cd6-5a97-4ee4-9975-344301b95140",
   "metadata": {},
   "outputs": [],
   "source": [
    "df_long.to_csv(\"data/processed/biden_polling_averages_long.csv\", index=False)"
   ]
  }
 ],
 "metadata": {
  "kernelspec": {
   "display_name": "Python 3",
   "language": "python",
   "name": "python3"
  },
  "language_info": {
   "codemirror_mode": {
    "name": "ipython",
    "version": 3
   },
   "file_extension": ".py",
   "mimetype": "text/x-python",
   "name": "python",
   "nbconvert_exporter": "python",
   "pygments_lexer": "ipython3",
   "version": "3.8.8"
  }
 },
 "nbformat": 4,
 "nbformat_minor": 5
}
