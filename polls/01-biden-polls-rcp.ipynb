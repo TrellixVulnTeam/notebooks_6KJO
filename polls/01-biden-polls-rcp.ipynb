{
 "cells": [
  {
   "cell_type": "markdown",
   "id": "fddc3837-c76a-4c67-aaff-d39a52cc615a",
   "metadata": {},
   "source": [
    "# President Biden polls"
   ]
  },
  {
   "cell_type": "markdown",
   "id": "1c8b0383-3572-4fdb-b9de-635dc870c580",
   "metadata": {},
   "source": [
    "### Get Python tools"
   ]
  },
  {
   "cell_type": "code",
   "execution_count": 1,
   "id": "30393f68-bc68-471f-8df6-d28859f72748",
   "metadata": {},
   "outputs": [],
   "source": [
    "%load_ext lab_black"
   ]
  },
  {
   "cell_type": "code",
   "execution_count": 2,
   "id": "216c298b-8970-4370-9d6e-a877d8ef2fd0",
   "metadata": {},
   "outputs": [],
   "source": [
    "import pandas as pd\n",
    "import altair as alt\n",
    "import glob\n",
    "import os\n",
    "import numpy as np\n",
    "import requests\n",
    "from bs4 import BeautifulSoup"
   ]
  },
  {
   "cell_type": "code",
   "execution_count": 3,
   "id": "b06c1253-45e1-4831-8a13-004c7ab380db",
   "metadata": {},
   "outputs": [
    {
     "data": {
      "text/plain": [
       "DataTransformerRegistry.enable('default')"
      ]
     },
     "execution_count": 3,
     "metadata": {},
     "output_type": "execute_result"
    }
   ],
   "source": [
    "pd.options.display.max_columns = 50\n",
    "pd.options.display.max_rows = 1000\n",
    "alt.data_transformers.disable_max_rows()"
   ]
  },
  {
   "cell_type": "markdown",
   "id": "a8d66e82-59d7-4cd2-91ae-921d3d2f2883",
   "metadata": {},
   "source": [
    "---"
   ]
  },
  {
   "cell_type": "markdown",
   "id": "40c108ad-8b55-4938-b463-e326394f9740",
   "metadata": {},
   "source": [
    "### Get latest Biden trends from Real Clear Politics"
   ]
  },
  {
   "cell_type": "code",
   "execution_count": 4,
   "id": "2ee95e26-ad70-4a5a-b1fa-e65a247469a5",
   "metadata": {},
   "outputs": [],
   "source": [
    "url = \"https://www.realclearpolitics.com/epolls/other/president-biden-job-approval-7320.html#polls\"\n",
    "headers = {\"user-agent\": \"Mozilla/5.0 (Macintosh; Intel Mac OS X \"}\n",
    "r = requests.get(url, headers=headers)"
   ]
  },
  {
   "cell_type": "code",
   "execution_count": 5,
   "id": "944a245f-201c-404c-bc63-f5bb61226021",
   "metadata": {},
   "outputs": [],
   "source": [
    "soup = BeautifulSoup(r.text, \"html.parser\")"
   ]
  },
  {
   "cell_type": "code",
   "execution_count": 6,
   "id": "52795580-4ef7-4f02-9cba-04b54d90042c",
   "metadata": {},
   "outputs": [],
   "source": [
    "tables = soup.findAll(\"table\", attrs={\"class\": \"data\"})"
   ]
  },
  {
   "cell_type": "code",
   "execution_count": 7,
   "id": "fcf918dd-08e1-4459-97e5-68985f4782de",
   "metadata": {},
   "outputs": [],
   "source": [
    "src = pd.read_html(str(tables))[0]"
   ]
  },
  {
   "cell_type": "code",
   "execution_count": 8,
   "id": "e9d5ec82-8def-425a-bb98-99400964e4b5",
   "metadata": {},
   "outputs": [],
   "source": [
    "latest_df = src[:1]"
   ]
  },
  {
   "cell_type": "markdown",
   "id": "93421f40-3114-4ed1-86c7-a68a31f19673",
   "metadata": {},
   "source": [
    "---"
   ]
  },
  {
   "cell_type": "markdown",
   "id": "d964e227-d7e2-4efc-8a49-5af4f76d80d2",
   "metadata": {},
   "source": [
    "### Grab the latest poll trend from 538"
   ]
  },
  {
   "cell_type": "code",
   "execution_count": 9,
   "id": "9e70f730-68c4-40d5-8d47-3970e1a360f4",
   "metadata": {},
   "outputs": [],
   "source": [
    "trend_url = (\n",
    "    \"https://projects.fivethirtyeight.com/biden-approval-data/approval_topline.csv\"\n",
    ")"
   ]
  },
  {
   "cell_type": "code",
   "execution_count": 10,
   "id": "44815362-d880-4d45-9cc1-61c013384dee",
   "metadata": {},
   "outputs": [],
   "source": [
    "trend_src = pd.read_csv(trend_url)"
   ]
  },
  {
   "cell_type": "code",
   "execution_count": 11,
   "id": "a670e83c-8b59-4f0b-9e46-db67994c504a",
   "metadata": {},
   "outputs": [
    {
     "data": {
      "text/html": [
       "<div>\n",
       "<style scoped>\n",
       "    .dataframe tbody tr th:only-of-type {\n",
       "        vertical-align: middle;\n",
       "    }\n",
       "\n",
       "    .dataframe tbody tr th {\n",
       "        vertical-align: top;\n",
       "    }\n",
       "\n",
       "    .dataframe thead th {\n",
       "        text-align: right;\n",
       "    }\n",
       "</style>\n",
       "<table border=\"1\" class=\"dataframe\">\n",
       "  <thead>\n",
       "    <tr style=\"text-align: right;\">\n",
       "      <th></th>\n",
       "      <th>president</th>\n",
       "      <th>subgroup</th>\n",
       "      <th>modeldate</th>\n",
       "      <th>approve_estimate</th>\n",
       "      <th>approve_hi</th>\n",
       "      <th>approve_lo</th>\n",
       "      <th>disapprove_estimate</th>\n",
       "      <th>disapprove_hi</th>\n",
       "      <th>disapprove_lo</th>\n",
       "      <th>timestamp</th>\n",
       "    </tr>\n",
       "  </thead>\n",
       "  <tbody>\n",
       "    <tr>\n",
       "      <th>0</th>\n",
       "      <td>Joe Biden</td>\n",
       "      <td>All polls</td>\n",
       "      <td>12/22/2021</td>\n",
       "      <td>43.393962</td>\n",
       "      <td>47.918782</td>\n",
       "      <td>38.869142</td>\n",
       "      <td>51.437616</td>\n",
       "      <td>56.700127</td>\n",
       "      <td>46.175106</td>\n",
       "      <td>12:21:14 22 Dec 2021</td>\n",
       "    </tr>\n",
       "    <tr>\n",
       "      <th>1</th>\n",
       "      <td>Joe Biden</td>\n",
       "      <td>Adults</td>\n",
       "      <td>12/22/2021</td>\n",
       "      <td>43.196296</td>\n",
       "      <td>48.023481</td>\n",
       "      <td>38.369112</td>\n",
       "      <td>50.168691</td>\n",
       "      <td>54.772466</td>\n",
       "      <td>45.564916</td>\n",
       "      <td>12:21:18 22 Dec 2021</td>\n",
       "    </tr>\n",
       "    <tr>\n",
       "      <th>2</th>\n",
       "      <td>Joe Biden</td>\n",
       "      <td>Voters</td>\n",
       "      <td>12/22/2021</td>\n",
       "      <td>43.475270</td>\n",
       "      <td>47.675131</td>\n",
       "      <td>39.275409</td>\n",
       "      <td>51.841684</td>\n",
       "      <td>56.928275</td>\n",
       "      <td>46.755093</td>\n",
       "      <td>12:21:21 22 Dec 2021</td>\n",
       "    </tr>\n",
       "    <tr>\n",
       "      <th>3</th>\n",
       "      <td>Joe Biden</td>\n",
       "      <td>All polls</td>\n",
       "      <td>12/21/2021</td>\n",
       "      <td>43.664251</td>\n",
       "      <td>48.167267</td>\n",
       "      <td>39.161235</td>\n",
       "      <td>51.751454</td>\n",
       "      <td>56.896447</td>\n",
       "      <td>46.606460</td>\n",
       "      <td>20:53:13 21 Dec 2021</td>\n",
       "    </tr>\n",
       "    <tr>\n",
       "      <th>4</th>\n",
       "      <td>Joe Biden</td>\n",
       "      <td>Adults</td>\n",
       "      <td>12/21/2021</td>\n",
       "      <td>43.714489</td>\n",
       "      <td>48.332894</td>\n",
       "      <td>39.096084</td>\n",
       "      <td>50.444127</td>\n",
       "      <td>55.175257</td>\n",
       "      <td>45.712997</td>\n",
       "      <td>20:53:17 21 Dec 2021</td>\n",
       "    </tr>\n",
       "  </tbody>\n",
       "</table>\n",
       "</div>"
      ],
      "text/plain": [
       "   president   subgroup   modeldate  approve_estimate  approve_hi  approve_lo  \\\n",
       "0  Joe Biden  All polls  12/22/2021         43.393962   47.918782   38.869142   \n",
       "1  Joe Biden     Adults  12/22/2021         43.196296   48.023481   38.369112   \n",
       "2  Joe Biden     Voters  12/22/2021         43.475270   47.675131   39.275409   \n",
       "3  Joe Biden  All polls  12/21/2021         43.664251   48.167267   39.161235   \n",
       "4  Joe Biden     Adults  12/21/2021         43.714489   48.332894   39.096084   \n",
       "\n",
       "   disapprove_estimate  disapprove_hi  disapprove_lo             timestamp  \n",
       "0            51.437616      56.700127      46.175106  12:21:14 22 Dec 2021  \n",
       "1            50.168691      54.772466      45.564916  12:21:18 22 Dec 2021  \n",
       "2            51.841684      56.928275      46.755093  12:21:21 22 Dec 2021  \n",
       "3            51.751454      56.896447      46.606460  20:53:13 21 Dec 2021  \n",
       "4            50.444127      55.175257      45.712997  20:53:17 21 Dec 2021  "
      ]
     },
     "execution_count": 11,
     "metadata": {},
     "output_type": "execute_result"
    }
   ],
   "source": [
    "trend_src.head()"
   ]
  },
  {
   "cell_type": "code",
   "execution_count": 12,
   "id": "191d1558-860f-4adf-bb83-20f71d309033",
   "metadata": {},
   "outputs": [],
   "source": [
    "trend_src.to_csv(\"data/processed/five_thirty_eight_approval_topline.csv\", index=False)"
   ]
  },
  {
   "cell_type": "markdown",
   "id": "7b6ad649-9dc4-4f3a-ab39-e6d011e1b5b6",
   "metadata": {},
   "source": [
    "### All the polls from 538"
   ]
  },
  {
   "cell_type": "code",
   "execution_count": 13,
   "id": "2956d340-4b89-4682-af90-c96b26e953b1",
   "metadata": {},
   "outputs": [],
   "source": [
    "polls_url = (\n",
    "    \"https://projects.fivethirtyeight.com/biden-approval-data/approval_polllist.csv\"\n",
    ")"
   ]
  },
  {
   "cell_type": "code",
   "execution_count": 14,
   "id": "dffabea0-0599-4b2c-9668-16b3a8c4e90b",
   "metadata": {},
   "outputs": [],
   "source": [
    "polls_src = pd.read_csv(polls_url)"
   ]
  },
  {
   "cell_type": "code",
   "execution_count": 15,
   "id": "7760db56-e888-4f2e-a187-57edf0dad1e9",
   "metadata": {},
   "outputs": [
    {
     "data": {
      "text/html": [
       "<div>\n",
       "<style scoped>\n",
       "    .dataframe tbody tr th:only-of-type {\n",
       "        vertical-align: middle;\n",
       "    }\n",
       "\n",
       "    .dataframe tbody tr th {\n",
       "        vertical-align: top;\n",
       "    }\n",
       "\n",
       "    .dataframe thead th {\n",
       "        text-align: right;\n",
       "    }\n",
       "</style>\n",
       "<table border=\"1\" class=\"dataframe\">\n",
       "  <thead>\n",
       "    <tr style=\"text-align: right;\">\n",
       "      <th></th>\n",
       "      <th>president</th>\n",
       "      <th>subgroup</th>\n",
       "      <th>modeldate</th>\n",
       "      <th>startdate</th>\n",
       "      <th>enddate</th>\n",
       "      <th>pollster</th>\n",
       "      <th>grade</th>\n",
       "      <th>samplesize</th>\n",
       "      <th>population</th>\n",
       "      <th>weight</th>\n",
       "      <th>influence</th>\n",
       "      <th>approve</th>\n",
       "      <th>disapprove</th>\n",
       "      <th>adjusted_approve</th>\n",
       "      <th>adjusted_disapprove</th>\n",
       "      <th>multiversions</th>\n",
       "      <th>tracking</th>\n",
       "      <th>url</th>\n",
       "      <th>poll_id</th>\n",
       "      <th>question_id</th>\n",
       "      <th>createddate</th>\n",
       "      <th>timestamp</th>\n",
       "    </tr>\n",
       "  </thead>\n",
       "  <tbody>\n",
       "    <tr>\n",
       "      <th>0</th>\n",
       "      <td>Joe Biden</td>\n",
       "      <td>All polls</td>\n",
       "      <td>12/22/2021</td>\n",
       "      <td>1/19/2021</td>\n",
       "      <td>1/21/2021</td>\n",
       "      <td>Rasmussen Reports/Pulse Opinion Research</td>\n",
       "      <td>B</td>\n",
       "      <td>1500.0</td>\n",
       "      <td>lv</td>\n",
       "      <td>0.338188</td>\n",
       "      <td>0.0</td>\n",
       "      <td>48.0</td>\n",
       "      <td>45.0</td>\n",
       "      <td>50.248618</td>\n",
       "      <td>39.001539</td>\n",
       "      <td>NaN</td>\n",
       "      <td>T</td>\n",
       "      <td>https://www.rasmussenreports.com/public_conten...</td>\n",
       "      <td>74247</td>\n",
       "      <td>139395</td>\n",
       "      <td>1/22/2021</td>\n",
       "      <td>12:21:14 22 Dec 2021</td>\n",
       "    </tr>\n",
       "    <tr>\n",
       "      <th>1</th>\n",
       "      <td>Joe Biden</td>\n",
       "      <td>All polls</td>\n",
       "      <td>12/22/2021</td>\n",
       "      <td>1/19/2021</td>\n",
       "      <td>1/21/2021</td>\n",
       "      <td>Morning Consult</td>\n",
       "      <td>B</td>\n",
       "      <td>15000.0</td>\n",
       "      <td>a</td>\n",
       "      <td>0.259361</td>\n",
       "      <td>0.0</td>\n",
       "      <td>50.0</td>\n",
       "      <td>28.0</td>\n",
       "      <td>48.513028</td>\n",
       "      <td>31.235697</td>\n",
       "      <td>NaN</td>\n",
       "      <td>T</td>\n",
       "      <td>https://morningconsult.com/form/global-leader-...</td>\n",
       "      <td>74272</td>\n",
       "      <td>139491</td>\n",
       "      <td>1/28/2021</td>\n",
       "      <td>12:21:14 22 Dec 2021</td>\n",
       "    </tr>\n",
       "    <tr>\n",
       "      <th>2</th>\n",
       "      <td>Joe Biden</td>\n",
       "      <td>All polls</td>\n",
       "      <td>12/22/2021</td>\n",
       "      <td>1/20/2021</td>\n",
       "      <td>1/21/2021</td>\n",
       "      <td>Ipsos</td>\n",
       "      <td>B-</td>\n",
       "      <td>1115.0</td>\n",
       "      <td>a</td>\n",
       "      <td>1.101398</td>\n",
       "      <td>0.0</td>\n",
       "      <td>55.0</td>\n",
       "      <td>32.0</td>\n",
       "      <td>53.640076</td>\n",
       "      <td>33.315150</td>\n",
       "      <td>NaN</td>\n",
       "      <td>NaN</td>\n",
       "      <td>https://www.ipsos.com/sites/default/files/ct/n...</td>\n",
       "      <td>74248</td>\n",
       "      <td>139404</td>\n",
       "      <td>1/22/2021</td>\n",
       "      <td>12:21:14 22 Dec 2021</td>\n",
       "    </tr>\n",
       "    <tr>\n",
       "      <th>3</th>\n",
       "      <td>Joe Biden</td>\n",
       "      <td>All polls</td>\n",
       "      <td>12/22/2021</td>\n",
       "      <td>1/20/2021</td>\n",
       "      <td>1/21/2021</td>\n",
       "      <td>YouGov</td>\n",
       "      <td>B+</td>\n",
       "      <td>1516.0</td>\n",
       "      <td>a</td>\n",
       "      <td>1.245401</td>\n",
       "      <td>0.0</td>\n",
       "      <td>45.0</td>\n",
       "      <td>28.0</td>\n",
       "      <td>46.387706</td>\n",
       "      <td>28.588919</td>\n",
       "      <td>NaN</td>\n",
       "      <td>NaN</td>\n",
       "      <td>https://docs.cdn.yougov.com/u3h9dresbn/2021012...</td>\n",
       "      <td>74327</td>\n",
       "      <td>139570</td>\n",
       "      <td>2/2/2021</td>\n",
       "      <td>12:21:14 22 Dec 2021</td>\n",
       "    </tr>\n",
       "    <tr>\n",
       "      <th>4</th>\n",
       "      <td>Joe Biden</td>\n",
       "      <td>All polls</td>\n",
       "      <td>12/22/2021</td>\n",
       "      <td>1/20/2021</td>\n",
       "      <td>1/21/2021</td>\n",
       "      <td>Morning Consult</td>\n",
       "      <td>B</td>\n",
       "      <td>1993.0</td>\n",
       "      <td>rv</td>\n",
       "      <td>0.092978</td>\n",
       "      <td>0.0</td>\n",
       "      <td>56.0</td>\n",
       "      <td>31.0</td>\n",
       "      <td>54.513028</td>\n",
       "      <td>34.235697</td>\n",
       "      <td>NaN</td>\n",
       "      <td>NaN</td>\n",
       "      <td>https://assets.morningconsult.com/wp-uploads/2...</td>\n",
       "      <td>74246</td>\n",
       "      <td>139394</td>\n",
       "      <td>1/22/2021</td>\n",
       "      <td>12:21:14 22 Dec 2021</td>\n",
       "    </tr>\n",
       "  </tbody>\n",
       "</table>\n",
       "</div>"
      ],
      "text/plain": [
       "   president   subgroup   modeldate  startdate    enddate  \\\n",
       "0  Joe Biden  All polls  12/22/2021  1/19/2021  1/21/2021   \n",
       "1  Joe Biden  All polls  12/22/2021  1/19/2021  1/21/2021   \n",
       "2  Joe Biden  All polls  12/22/2021  1/20/2021  1/21/2021   \n",
       "3  Joe Biden  All polls  12/22/2021  1/20/2021  1/21/2021   \n",
       "4  Joe Biden  All polls  12/22/2021  1/20/2021  1/21/2021   \n",
       "\n",
       "                                   pollster grade  samplesize population  \\\n",
       "0  Rasmussen Reports/Pulse Opinion Research     B      1500.0         lv   \n",
       "1                           Morning Consult     B     15000.0          a   \n",
       "2                                     Ipsos    B-      1115.0          a   \n",
       "3                                    YouGov    B+      1516.0          a   \n",
       "4                           Morning Consult     B      1993.0         rv   \n",
       "\n",
       "     weight  influence  approve  disapprove  adjusted_approve  \\\n",
       "0  0.338188        0.0     48.0        45.0         50.248618   \n",
       "1  0.259361        0.0     50.0        28.0         48.513028   \n",
       "2  1.101398        0.0     55.0        32.0         53.640076   \n",
       "3  1.245401        0.0     45.0        28.0         46.387706   \n",
       "4  0.092978        0.0     56.0        31.0         54.513028   \n",
       "\n",
       "   adjusted_disapprove multiversions tracking  \\\n",
       "0            39.001539           NaN        T   \n",
       "1            31.235697           NaN        T   \n",
       "2            33.315150           NaN      NaN   \n",
       "3            28.588919           NaN      NaN   \n",
       "4            34.235697           NaN      NaN   \n",
       "\n",
       "                                                 url  poll_id  question_id  \\\n",
       "0  https://www.rasmussenreports.com/public_conten...    74247       139395   \n",
       "1  https://morningconsult.com/form/global-leader-...    74272       139491   \n",
       "2  https://www.ipsos.com/sites/default/files/ct/n...    74248       139404   \n",
       "3  https://docs.cdn.yougov.com/u3h9dresbn/2021012...    74327       139570   \n",
       "4  https://assets.morningconsult.com/wp-uploads/2...    74246       139394   \n",
       "\n",
       "  createddate             timestamp  \n",
       "0   1/22/2021  12:21:14 22 Dec 2021  \n",
       "1   1/28/2021  12:21:14 22 Dec 2021  \n",
       "2   1/22/2021  12:21:14 22 Dec 2021  \n",
       "3    2/2/2021  12:21:14 22 Dec 2021  \n",
       "4   1/22/2021  12:21:14 22 Dec 2021  "
      ]
     },
     "execution_count": 15,
     "metadata": {},
     "output_type": "execute_result"
    }
   ],
   "source": [
    "polls_src.head()"
   ]
  },
  {
   "cell_type": "code",
   "execution_count": 16,
   "id": "1c6eb087-2276-49eb-8157-0713cc2d39ad",
   "metadata": {},
   "outputs": [],
   "source": [
    "polls_src.to_csv(\"data/processed/five_thirty_eight_approval_polllist.csv\", index=False)"
   ]
  }
 ],
 "metadata": {
  "kernelspec": {
   "display_name": "Python 3",
   "language": "python",
   "name": "python3"
  },
  "language_info": {
   "codemirror_mode": {
    "name": "ipython",
    "version": 3
   },
   "file_extension": ".py",
   "mimetype": "text/x-python",
   "name": "python",
   "nbconvert_exporter": "python",
   "pygments_lexer": "ipython3",
   "version": "3.8.8"
  }
 },
 "nbformat": 4,
 "nbformat_minor": 5
}
