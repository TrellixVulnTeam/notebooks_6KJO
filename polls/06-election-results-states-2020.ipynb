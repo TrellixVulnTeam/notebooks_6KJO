{
 "cells": [
  {
   "cell_type": "markdown",
   "id": "f9e8e357-f361-4eac-8964-bd594ba16c7c",
   "metadata": {},
   "source": [
    "# FEC: 2020 election results"
   ]
  },
  {
   "cell_type": "markdown",
   "id": "80c852b5-b1bd-411d-9cc7-9ceb6eb190a7",
   "metadata": {},
   "source": [
    "#### Import Python tools"
   ]
  },
  {
   "cell_type": "code",
   "execution_count": 1,
   "id": "c1b19a77-fb11-4d88-a03c-d23ff1c46388",
   "metadata": {},
   "outputs": [],
   "source": [
    "%load_ext lab_black"
   ]
  },
  {
   "cell_type": "code",
   "execution_count": 2,
   "id": "7123dae5-f48d-42b6-b8af-d37ea676fc33",
   "metadata": {},
   "outputs": [],
   "source": [
    "import pandas as pd\n",
    "import us\n",
    "import tabula\n",
    "from tabula.io import read_pdf"
   ]
  },
  {
   "cell_type": "code",
   "execution_count": 3,
   "id": "a3a93713-8af1-492b-adbd-e2c003569d82",
   "metadata": {
    "tags": []
   },
   "outputs": [],
   "source": [
    "pd.options.display.max_columns = 1000\n",
    "pd.options.display.max_rows = 1000"
   ]
  },
  {
   "cell_type": "markdown",
   "id": "8eb54bdd-faad-41c6-b804-9a04e541841d",
   "metadata": {},
   "source": [
    "---"
   ]
  },
  {
   "cell_type": "markdown",
   "id": "bde46b95-f1bb-4bb1-86be-1243b966563d",
   "metadata": {},
   "source": [
    "## Read data"
   ]
  },
  {
   "cell_type": "markdown",
   "id": "8f377372-97e5-40a2-8e0f-31fe749f9dda",
   "metadata": {},
   "source": [
    "#### Extract data from [this PDF](https://www.fec.gov/introduction-campaign-finance/election-and-voting-information/) released by FEC"
   ]
  },
  {
   "cell_type": "code",
   "execution_count": 4,
   "id": "e2a77aea-703a-40bf-afeb-bdf2d8c0a8df",
   "metadata": {},
   "outputs": [],
   "source": [
    "pdf = \"data/raw/2020presgeresults.pdf\"\n",
    "\n",
    "biden_page = tabula.read_pdf(pdf, pages=2)[0][[\"STATE\", \"BIDEN\"]][:-2]\n",
    "trump_page = tabula.read_pdf(pdf, pages=8)[0][[\"STATE\", \"TRUMP\", \"TOTAL VOTES\"]][2:-2]"
   ]
  },
  {
   "cell_type": "markdown",
   "id": "cffd771a-4e49-4f5f-85a5-485474ea33bf",
   "metadata": {},
   "source": [
    "#### Merge Biden and Trump into one dataframe"
   ]
  },
  {
   "cell_type": "code",
   "execution_count": 5,
   "id": "337697ec-ed41-4212-bade-1f4eba44fc0c",
   "metadata": {},
   "outputs": [],
   "source": [
    "df = pd.merge(biden_page, trump_page, on=\"STATE\").copy()"
   ]
  },
  {
   "cell_type": "markdown",
   "id": "8b2b69b5-11e8-4d25-91f7-7989c418b1fe",
   "metadata": {},
   "source": [
    "#### Clean up the dataframe"
   ]
  },
  {
   "cell_type": "code",
   "execution_count": 6,
   "id": "8cc9ca79-acf6-4dee-91a4-1c7bad5f1e13",
   "metadata": {},
   "outputs": [],
   "source": [
    "df.columns = df.columns.str.lower().str.replace(\" \", \"\")"
   ]
  },
  {
   "cell_type": "code",
   "execution_count": 7,
   "id": "7e6a96c8-ff4e-438e-9606-db8504fb0ff2",
   "metadata": {},
   "outputs": [],
   "source": [
    "str_cols = [\"biden\", \"trump\", \"totalvotes\"]\n",
    "df[str_cols] = df[str_cols].replace(\",\", \"\", regex=True)"
   ]
  },
  {
   "cell_type": "code",
   "execution_count": 8,
   "id": "877a19a5-9150-4737-849d-e9598418a535",
   "metadata": {},
   "outputs": [],
   "source": [
    "df[str_cols] = df[str_cols].astype(int)"
   ]
  },
  {
   "cell_type": "markdown",
   "id": "9ac42c60-2ed2-4979-b2fd-678d9bb03025",
   "metadata": {},
   "source": [
    "#### Calculate totals and vote share"
   ]
  },
  {
   "cell_type": "code",
   "execution_count": 9,
   "id": "06be6952-5e12-4e2f-81f8-5730f028ecfa",
   "metadata": {},
   "outputs": [],
   "source": [
    "df[\"biden_trump_votes\"] = df[\"biden\"] + df[\"trump\"]\n",
    "df[\"other_votes\"] = df[\"totalvotes\"] - df[\"biden_trump_votes\"]"
   ]
  },
  {
   "cell_type": "code",
   "execution_count": 10,
   "id": "f96fbcf1-09c8-4daa-9695-d24e53a44b63",
   "metadata": {},
   "outputs": [],
   "source": [
    "df[\"gop_vote_pct\"] = ((df[\"trump\"] / df[\"totalvotes\"]) * 100).round(2)\n",
    "df[\"dem_vote_pct\"] = ((df[\"biden\"] / df[\"totalvotes\"]) * 100).round(2)\n",
    "df[\"other_vote_pct\"] = ((df[\"other_votes\"] / df[\"totalvotes\"]) * 100).round(2)"
   ]
  },
  {
   "cell_type": "markdown",
   "id": "418db153-3477-45ca-99b2-1d80e4995d22",
   "metadata": {},
   "source": [
    "#### Clean up postal abbreviations for states"
   ]
  },
  {
   "cell_type": "code",
   "execution_count": 11,
   "id": "c154fbb5-3634-4834-bf81-3b66cb224c63",
   "metadata": {},
   "outputs": [],
   "source": [
    "postal_to_name = us.states.mapping(\"abbr\", \"name\")"
   ]
  },
  {
   "cell_type": "code",
   "execution_count": 12,
   "id": "72a81b4e-e374-4ff8-bfc8-0f9a5256efe5",
   "metadata": {},
   "outputs": [],
   "source": [
    "df[\"state\"] = df[\"state\"].map(postal_to_name)"
   ]
  },
  {
   "cell_type": "code",
   "execution_count": 13,
   "id": "69d24735-847e-4157-8288-88fc820f1887",
   "metadata": {},
   "outputs": [],
   "source": [
    "df[\"year\"] = \"2020\""
   ]
  },
  {
   "cell_type": "markdown",
   "id": "d5b31a41-f711-4407-a13a-3729c326094e",
   "metadata": {},
   "source": [
    "#### Slim down what we export"
   ]
  },
  {
   "cell_type": "code",
   "execution_count": 14,
   "id": "d760f2a2-adc7-48b1-b857-2dc3a0f8f856",
   "metadata": {},
   "outputs": [],
   "source": [
    "df = df[\n",
    "    [\n",
    "        \"state\",\n",
    "        \"gop_vote_pct\",\n",
    "        \"dem_vote_pct\",\n",
    "        \"other_vote_pct\",\n",
    "        \"year\",\n",
    "    ]\n",
    "]"
   ]
  },
  {
   "cell_type": "code",
   "execution_count": 15,
   "id": "1a162646-47c2-479b-98d3-e24f44df94cf",
   "metadata": {},
   "outputs": [],
   "source": [
    "df.to_csv(\"data/processed/2020_election_results_states_fec.csv\", index=False)"
   ]
  }
 ],
 "metadata": {
  "kernelspec": {
   "display_name": "Python 3 (ipykernel)",
   "language": "python",
   "name": "python3"
  },
  "language_info": {
   "codemirror_mode": {
    "name": "ipython",
    "version": 3
   },
   "file_extension": ".py",
   "mimetype": "text/x-python",
   "name": "python",
   "nbconvert_exporter": "python",
   "pygments_lexer": "ipython3",
   "version": "3.8.9"
  }
 },
 "nbformat": 4,
 "nbformat_minor": 5
}
