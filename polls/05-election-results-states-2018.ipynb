{
 "cells": [
  {
   "cell_type": "markdown",
   "id": "8d8d0a7d-da1c-4eb3-8888-83f7313ca27c",
   "metadata": {},
   "source": [
    "# FEC: 2018 election results"
   ]
  },
  {
   "cell_type": "markdown",
   "id": "6d2cc002-7e40-42dd-8a3f-9ad7988eddf2",
   "metadata": {},
   "source": [
    "#### Import Python tools"
   ]
  },
  {
   "cell_type": "code",
   "execution_count": 1,
   "id": "73969e31-9d56-4bc9-baac-af8be15be176",
   "metadata": {},
   "outputs": [],
   "source": [
    "%load_ext lab_black"
   ]
  },
  {
   "cell_type": "code",
   "execution_count": 2,
   "id": "b79a65f5-784c-4bbb-85b7-d3ae8c81518e",
   "metadata": {},
   "outputs": [],
   "source": [
    "import pandas as pd\n",
    "import us"
   ]
  },
  {
   "cell_type": "code",
   "execution_count": 3,
   "id": "db8bcb16-5fae-44bc-b35a-dda8af7d69b4",
   "metadata": {
    "tags": []
   },
   "outputs": [],
   "source": [
    "pd.options.display.max_columns = 1000\n",
    "pd.options.display.max_rows = 1000"
   ]
  },
  {
   "cell_type": "markdown",
   "id": "ad46ec8b-852d-46b0-ad23-800a1b2d45b8",
   "metadata": {},
   "source": [
    "---"
   ]
  },
  {
   "cell_type": "markdown",
   "id": "13eea883-3b49-4896-848b-5555f81a9080",
   "metadata": {},
   "source": [
    "## Read data"
   ]
  },
  {
   "cell_type": "markdown",
   "id": "eb13c965-338e-493c-9e8c-6d17220b265e",
   "metadata": {},
   "source": [
    "#### Get spreadsheet with results from FEC"
   ]
  },
  {
   "cell_type": "code",
   "execution_count": 4,
   "id": "5b73a539-cc93-49b6-b629-223209ad453a",
   "metadata": {},
   "outputs": [],
   "source": [
    "sheet_name = \"Table 4. Senate by Party\""
   ]
  },
  {
   "cell_type": "code",
   "execution_count": 5,
   "id": "8afdb75e-9fa5-4532-98ff-db7788023e70",
   "metadata": {},
   "outputs": [],
   "source": [
    "src = pd.read_excel(\n",
    "    \"https://www.fec.gov/documents/2706/federalelections2018.xlsx\",\n",
    "    sheet_name=sheet_name,\n",
    "    header=0,\n",
    "    skiprows=3,\n",
    "    skipfooter=17,\n",
    "    names=[\n",
    "        \"name\",\n",
    "        \"dem_primary\",\n",
    "        \"gop_primary\",\n",
    "        \"other_primary\",\n",
    "        \"dem_votes\",\n",
    "        \"gop_votes\",\n",
    "        \"other_votes\",\n",
    "    ],\n",
    ").fillna(0)"
   ]
  },
  {
   "cell_type": "code",
   "execution_count": 6,
   "id": "91ed1747-5932-4363-aff1-ae4d0f6e7bf1",
   "metadata": {},
   "outputs": [],
   "source": [
    "postal_to_name = us.states.mapping(\"abbr\", \"name\")\n",
    "src[\"state\"] = src[\"name\"].map(postal_to_name)"
   ]
  },
  {
   "cell_type": "code",
   "execution_count": 7,
   "id": "48414560-403c-4dd0-9742-be95a22de724",
   "metadata": {},
   "outputs": [],
   "source": [
    "src[\"total_votes\"] = src[\"dem_votes\"] + src[\"gop_votes\"] + src[\"other_votes\"]"
   ]
  },
  {
   "cell_type": "code",
   "execution_count": 8,
   "id": "a24ebb35-6692-4375-8ddb-abdda71e2dae",
   "metadata": {},
   "outputs": [],
   "source": [
    "src[\"gop_vote_pct\"] = ((src[\"gop_votes\"] / src[\"total_votes\"]) * 100).round(2)\n",
    "src[\"dem_vote_pct\"] = ((src[\"dem_votes\"] / src[\"total_votes\"]) * 100).round(2)\n",
    "src[\"other_vote_pct\"] = ((src[\"other_votes\"] / src[\"total_votes\"]) * 100).round(2)"
   ]
  },
  {
   "cell_type": "code",
   "execution_count": 9,
   "id": "f1a09dc3-2c12-4af3-b0ad-95dd0bd3484d",
   "metadata": {},
   "outputs": [],
   "source": [
    "df = (\n",
    "    src[~src[\"gop_vote_pct\"].isna()]\n",
    "    .drop(\n",
    "        [\n",
    "            \"name\",\n",
    "            \"dem_primary\",\n",
    "            \"gop_primary\",\n",
    "            \"other_primary\",\n",
    "            \"total_votes\",\n",
    "            \"dem_votes\",\n",
    "            \"gop_votes\",\n",
    "            \"other_votes\",\n",
    "        ],\n",
    "        axis=1,\n",
    "    )\n",
    "    .copy()\n",
    ")"
   ]
  },
  {
   "cell_type": "code",
   "execution_count": 10,
   "id": "c5e0c344-4ec6-4937-ac5b-e71dbabef6f4",
   "metadata": {},
   "outputs": [],
   "source": [
    "df[\"winner\"] = (\n",
    "    df[[\"gop_vote_pct\", \"dem_vote_pct\", \"other_vote_pct\"]]\n",
    "    .idxmax(axis=1)\n",
    "    .str.replace(\"_vote_pct\", \"\")\n",
    ")"
   ]
  },
  {
   "cell_type": "code",
   "execution_count": 11,
   "id": "7bfbaad1-50fb-435d-b202-add6f0828c34",
   "metadata": {},
   "outputs": [
    {
     "data": {
      "text/html": [
       "<div>\n",
       "<style scoped>\n",
       "    .dataframe tbody tr th:only-of-type {\n",
       "        vertical-align: middle;\n",
       "    }\n",
       "\n",
       "    .dataframe tbody tr th {\n",
       "        vertical-align: top;\n",
       "    }\n",
       "\n",
       "    .dataframe thead th {\n",
       "        text-align: right;\n",
       "    }\n",
       "</style>\n",
       "<table border=\"1\" class=\"dataframe\">\n",
       "  <thead>\n",
       "    <tr style=\"text-align: right;\">\n",
       "      <th></th>\n",
       "      <th>state</th>\n",
       "      <th>gop_vote_pct</th>\n",
       "      <th>dem_vote_pct</th>\n",
       "      <th>other_vote_pct</th>\n",
       "      <th>winner</th>\n",
       "    </tr>\n",
       "  </thead>\n",
       "  <tbody>\n",
       "    <tr>\n",
       "      <th>3</th>\n",
       "      <td>Arizona</td>\n",
       "      <td>47.61</td>\n",
       "      <td>49.96</td>\n",
       "      <td>2.43</td>\n",
       "      <td>dem</td>\n",
       "    </tr>\n",
       "    <tr>\n",
       "      <th>5</th>\n",
       "      <td>California</td>\n",
       "      <td>0.00</td>\n",
       "      <td>100.00</td>\n",
       "      <td>0.00</td>\n",
       "      <td>dem</td>\n",
       "    </tr>\n",
       "    <tr>\n",
       "      <th>7</th>\n",
       "      <td>Connecticut</td>\n",
       "      <td>39.35</td>\n",
       "      <td>56.80</td>\n",
       "      <td>3.85</td>\n",
       "      <td>dem</td>\n",
       "    </tr>\n",
       "    <tr>\n",
       "      <th>8</th>\n",
       "      <td>Delaware</td>\n",
       "      <td>37.82</td>\n",
       "      <td>59.95</td>\n",
       "      <td>2.23</td>\n",
       "      <td>dem</td>\n",
       "    </tr>\n",
       "    <tr>\n",
       "      <th>10</th>\n",
       "      <td>Florida</td>\n",
       "      <td>50.05</td>\n",
       "      <td>49.93</td>\n",
       "      <td>0.01</td>\n",
       "      <td>gop</td>\n",
       "    </tr>\n",
       "  </tbody>\n",
       "</table>\n",
       "</div>"
      ],
      "text/plain": [
       "          state  gop_vote_pct  dem_vote_pct  other_vote_pct winner\n",
       "3       Arizona         47.61         49.96            2.43    dem\n",
       "5    California          0.00        100.00            0.00    dem\n",
       "7   Connecticut         39.35         56.80            3.85    dem\n",
       "8      Delaware         37.82         59.95            2.23    dem\n",
       "10      Florida         50.05         49.93            0.01    gop"
      ]
     },
     "execution_count": 11,
     "metadata": {},
     "output_type": "execute_result"
    }
   ],
   "source": [
    "df.head()"
   ]
  },
  {
   "cell_type": "code",
   "execution_count": 12,
   "id": "9e092429-eb7c-495d-a43b-2d4885d03306",
   "metadata": {},
   "outputs": [],
   "source": [
    "df[\"year\"] = \"2018\""
   ]
  },
  {
   "cell_type": "code",
   "execution_count": 15,
   "id": "3ef5fe10-c1cb-4f59-8f2e-aeda0c3a92e2",
   "metadata": {},
   "outputs": [],
   "source": [
    "df[\"gop_vote_margin\"] = df[\"gop_vote_pct\"] - df[\"dem_vote_pct\"]\n",
    "df[\"dem_vote_margin\"] = df[\"dem_vote_pct\"] - df[\"gop_vote_pct\"]"
   ]
  },
  {
   "cell_type": "code",
   "execution_count": 16,
   "id": "ffad005e-b43c-4365-abf0-9a76cb26c8be",
   "metadata": {},
   "outputs": [],
   "source": [
    "df.to_csv(\"data/processed/2018_election_results_states_fec.csv\", index=False)"
   ]
  }
 ],
 "metadata": {
  "kernelspec": {
   "display_name": "Python 3 (ipykernel)",
   "language": "python",
   "name": "python3"
  },
  "language_info": {
   "codemirror_mode": {
    "name": "ipython",
    "version": 3
   },
   "file_extension": ".py",
   "mimetype": "text/x-python",
   "name": "python",
   "nbconvert_exporter": "python",
   "pygments_lexer": "ipython3",
   "version": "3.8.9"
  }
 },
 "nbformat": 4,
 "nbformat_minor": 5
}
