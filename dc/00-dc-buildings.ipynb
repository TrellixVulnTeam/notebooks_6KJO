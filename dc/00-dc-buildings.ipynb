{
 "cells": [
  {
   "cell_type": "markdown",
   "id": "769a116f-ea9f-411a-be8a-11edf75d562a",
   "metadata": {},
   "source": [
    "# Building heights in Washington, DC"
   ]
  },
  {
   "cell_type": "markdown",
   "id": "c4441c7b-af1b-40f7-95dd-1019d3757b38",
   "metadata": {},
   "source": [
    "#### Load Python tools"
   ]
  },
  {
   "cell_type": "code",
   "execution_count": 1,
   "id": "7753882c-bb07-459d-8f67-38e8274a6158",
   "metadata": {},
   "outputs": [],
   "source": [
    "%load_ext lab_black"
   ]
  },
  {
   "cell_type": "code",
   "execution_count": 2,
   "id": "cb80f295-6148-4719-b834-d8eb4f13f8c9",
   "metadata": {},
   "outputs": [],
   "source": [
    "import pandas as pd\n",
    "import geopandas as gpd"
   ]
  },
  {
   "cell_type": "code",
   "execution_count": 3,
   "id": "d5d924f2-5ee2-40ef-962a-05ebdac72bf1",
   "metadata": {},
   "outputs": [],
   "source": [
    "pd.options.display.max_columns = 1000\n",
    "pd.options.display.max_rows = 1000"
   ]
  },
  {
   "cell_type": "markdown",
   "id": "8105ff55-879e-4673-92b3-3b1e48d33fed",
   "metadata": {},
   "source": [
    "---"
   ]
  },
  {
   "cell_type": "markdown",
   "id": "9820df78-6faf-4d6c-99a6-f10004be552f",
   "metadata": {},
   "source": [
    "## Read buildings data"
   ]
  },
  {
   "cell_type": "markdown",
   "id": "dc488c5d-b9ea-4bee-84a8-f57feb37bc83",
   "metadata": {},
   "source": [
    "#### Load shapefile directly from S3 with coordinate system set to [Maryland State Plane](https://octo.dc.gov/page/coordinate-system-standards) for distance calculations"
   ]
  },
  {
   "cell_type": "code",
   "execution_count": 4,
   "id": "a895383c-ff42-40cf-8f35-dbf6cf7d50a0",
   "metadata": {},
   "outputs": [],
   "source": [
    "gdf_src = gpd.read_file(\n",
    "    \"https://grid-news-static-files.s3.us-east-2.amazonaws.com/data/dc_building_heights/dc_buildings.zip\",\n",
    ")"
   ]
  },
  {
   "cell_type": "markdown",
   "id": "db4f9bea-fafa-4804-9456-7b7f14920646",
   "metadata": {},
   "source": [
    "#### Sort by hieght (in meters). The tallest building is the Washington Monument (168 meters, or roughly 555 feet)"
   ]
  },
  {
   "cell_type": "code",
   "execution_count": 5,
   "id": "f406ace0-c839-4f14-a0a9-7c8d861108f3",
   "metadata": {},
   "outputs": [],
   "source": [
    "gdf = gdf_src.sort_values(\"house_heig\", ascending=False)"
   ]
  },
  {
   "cell_type": "markdown",
   "id": "1d9251a8-1eb1-4c4f-a951-dadf05b9c23a",
   "metadata": {},
   "source": [
    "#### Get the centroid of each building"
   ]
  },
  {
   "cell_type": "code",
   "execution_count": 6,
   "id": "47eda176-55c3-4437-9c81-f79a685c9f54",
   "metadata": {},
   "outputs": [],
   "source": [
    "gdf[\"centroid\"] = gdf[\"geometry\"].centroid"
   ]
  },
  {
   "cell_type": "markdown",
   "id": "bccd63cf-598a-4c4d-b9c8-898410b18f74",
   "metadata": {},
   "source": [
    "#### Clean up dataframe"
   ]
  },
  {
   "cell_type": "code",
   "execution_count": 7,
   "id": "62d06354-b1a2-4151-827c-7fc8f0d6a0ab",
   "metadata": {},
   "outputs": [],
   "source": [
    "gdf = gdf.rename(\n",
    "    columns={\"egid\": \"id\", \"house_heig\": \"height\", \"altitude_m\": \"altitude\"}\n",
    ")"
   ]
  },
  {
   "cell_type": "code",
   "execution_count": 8,
   "id": "c6d56f91-dc43-4540-a7a6-1a984aa15a68",
   "metadata": {},
   "outputs": [],
   "source": [
    "gdf = gdf.drop(\n",
    "    [\"cartodb_id\", \"slope_mean\", \"slope_max\", \"slope_min\", \"surface__1\", \"surface_to\"],\n",
    "    axis=1,\n",
    ")"
   ]
  },
  {
   "cell_type": "markdown",
   "id": "ca29e8ed-4f79-45dc-8314-b5595cb914b2",
   "metadata": {},
   "source": [
    "---"
   ]
  },
  {
   "cell_type": "markdown",
   "id": "747906d2-717e-4e9b-8a2f-605793282fb7",
   "metadata": {},
   "source": [
    "## City center"
   ]
  },
  {
   "cell_type": "markdown",
   "id": "24297c5d-86ba-4a32-9fa1-011fa8a98d01",
   "metadata": {},
   "source": [
    "#### Get DC's [geometric center](https://geohack.toolforge.org/geohack.php?pagename=List_of_geographic_centers_of_the_United_States&params=38_54_15_N_77_00_58_W_region:US-DC&title=approximate+center+of+District+of+Columbia) projected in an appropriate planar coordinate system from S3"
   ]
  },
  {
   "cell_type": "code",
   "execution_count": 9,
   "id": "1dd6fb91-380b-48fd-b196-dd37985bb8d7",
   "metadata": {},
   "outputs": [],
   "source": [
    "center_gdf = gpd.read_file(\n",
    "    \"https://grid-news-static-files.s3.us-east-2.amazonaws.com/data/dc_building_heights/dc_centroid_2248.geojson\"\n",
    ")"
   ]
  },
  {
   "cell_type": "markdown",
   "id": "880d0f68-e491-4a21-b770-0c6a00bdcdfd",
   "metadata": {},
   "source": [
    "#### Calculate distance between each building centroid and the center of DC"
   ]
  },
  {
   "cell_type": "code",
   "execution_count": 10,
   "id": "03422a20-2c50-4611-a2ad-4b9fde4db604",
   "metadata": {},
   "outputs": [],
   "source": [
    "gdf[\"miles\"] = ((gdf.geometry.apply(lambda g: center_gdf.distance(g))) / 5280).round(3)"
   ]
  },
  {
   "cell_type": "code",
   "execution_count": 11,
   "id": "81b1ab37-7669-4bf8-a941-0bc06053cb2b",
   "metadata": {},
   "outputs": [],
   "source": [
    "gdf[\"feet\"] = ((gdf.geometry.apply(lambda g: center_gdf.distance(g)))).round(3)"
   ]
  },
  {
   "cell_type": "markdown",
   "id": "dfc0795f-4549-4aa1-94ed-46523227f89c",
   "metadata": {},
   "source": [
    "#### Is there a relationship between height and proximity to the center? "
   ]
  },
  {
   "cell_type": "code",
   "execution_count": 13,
   "id": "47313200-f3d8-4a45-a4c3-674b249d5b06",
   "metadata": {},
   "outputs": [
    {
     "data": {
      "text/html": [
       "<div>\n",
       "<style scoped>\n",
       "    .dataframe tbody tr th:only-of-type {\n",
       "        vertical-align: middle;\n",
       "    }\n",
       "\n",
       "    .dataframe tbody tr th {\n",
       "        vertical-align: top;\n",
       "    }\n",
       "\n",
       "    .dataframe thead th {\n",
       "        text-align: right;\n",
       "    }\n",
       "</style>\n",
       "<table border=\"1\" class=\"dataframe\">\n",
       "  <thead>\n",
       "    <tr style=\"text-align: right;\">\n",
       "      <th></th>\n",
       "      <th>height</th>\n",
       "      <th>miles</th>\n",
       "    </tr>\n",
       "  </thead>\n",
       "  <tbody>\n",
       "    <tr>\n",
       "      <th>height</th>\n",
       "      <td>1.000000</td>\n",
       "      <td>-0.129008</td>\n",
       "    </tr>\n",
       "    <tr>\n",
       "      <th>miles</th>\n",
       "      <td>-0.129008</td>\n",
       "      <td>1.000000</td>\n",
       "    </tr>\n",
       "  </tbody>\n",
       "</table>\n",
       "</div>"
      ],
      "text/plain": [
       "          height     miles\n",
       "height  1.000000 -0.129008\n",
       "miles  -0.129008  1.000000"
      ]
     },
     "execution_count": 13,
     "metadata": {},
     "output_type": "execute_result"
    }
   ],
   "source": [
    "gdf[[\"height\", \"miles\"]].corr()"
   ]
  },
  {
   "cell_type": "markdown",
   "id": "458387ab-7d2d-4857-ad5d-e96cdc3965b2",
   "metadata": {},
   "source": [
    "---"
   ]
  },
  {
   "cell_type": "markdown",
   "id": "b91a3b98-e375-4b4b-9801-bcb3693b8d94",
   "metadata": {},
   "source": [
    "## Export"
   ]
  },
  {
   "cell_type": "markdown",
   "id": "73222087-7bf7-4368-8595-439a9cf7432f",
   "metadata": {},
   "source": [
    "#### Save buildings file with distances with your local path (careful of Github's size limits)"
   ]
  },
  {
   "cell_type": "code",
   "execution_count": 14,
   "id": "13085b92-e93c-4a58-aace-cbceb42da639",
   "metadata": {},
   "outputs": [],
   "source": [
    "# gdf.to_file('')"
   ]
  }
 ],
 "metadata": {
  "kernelspec": {
   "display_name": "Python 3 (ipykernel)",
   "language": "python",
   "name": "python3"
  },
  "language_info": {
   "codemirror_mode": {
    "name": "ipython",
    "version": 3
   },
   "file_extension": ".py",
   "mimetype": "text/x-python",
   "name": "python",
   "nbconvert_exporter": "python",
   "pygments_lexer": "ipython3",
   "version": "3.8.9"
  }
 },
 "nbformat": 4,
 "nbformat_minor": 5
}
