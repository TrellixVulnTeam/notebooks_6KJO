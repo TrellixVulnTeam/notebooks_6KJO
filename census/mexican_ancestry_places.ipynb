{
 "cells": [
  {
   "cell_type": "markdown",
   "id": "c59c4ec4-73c7-44ed-865a-ff62ce58665e",
   "metadata": {},
   "source": [
    "# Mexican population in major cities? "
   ]
  },
  {
   "cell_type": "markdown",
   "id": "3a26cd9b-2c75-4710-9618-393e7523de9b",
   "metadata": {},
   "source": [
    "### Import python/pandas tools"
   ]
  },
  {
   "cell_type": "code",
   "execution_count": 1,
   "id": "32987ee2-4553-4e50-84a6-12004a54ce44",
   "metadata": {},
   "outputs": [],
   "source": [
    "%load_ext lab_black"
   ]
  },
  {
   "cell_type": "code",
   "execution_count": 2,
   "id": "421ffd3e-85d1-4cc5-b99e-cbeffb679402",
   "metadata": {},
   "outputs": [],
   "source": [
    "import pandas as pd\n",
    "import geopandas as gpd"
   ]
  },
  {
   "cell_type": "code",
   "execution_count": 3,
   "id": "f617db42-61b8-43a9-a10d-884c00d09c68",
   "metadata": {},
   "outputs": [],
   "source": [
    "pd.options.display.max_columns = 200\n",
    "pd.options.display.max_rows = 1000\n",
    "pd.set_option(\"display.max_colwidth\", None)"
   ]
  },
  {
   "cell_type": "markdown",
   "id": "990cf807-7e50-4f26-b85b-f121341f5fdc",
   "metadata": {},
   "source": [
    "### Get data with [census-data-downloader](https://github.com/datadesk/census-data-downloader)"
   ]
  },
  {
   "cell_type": "code",
   "execution_count": 4,
   "id": "f17fbdf0-74bf-47c1-94b2-bcdf2b5e46b3",
   "metadata": {},
   "outputs": [],
   "source": [
    "# !censusdatadownloader latino places"
   ]
  },
  {
   "cell_type": "code",
   "execution_count": 5,
   "id": "759af322-c9ed-4811-9a30-8e9295acd751",
   "metadata": {},
   "outputs": [],
   "source": [
    "# !pip install census-data-downloader"
   ]
  },
  {
   "cell_type": "code",
   "execution_count": 6,
   "id": "a6723ac2-f497-4f02-bc89-4178a045bbb8",
   "metadata": {},
   "outputs": [],
   "source": [
    "# !censusdatadownloader latino states"
   ]
  },
  {
   "cell_type": "markdown",
   "id": "7384a9bd-daa4-4aab-80e6-1308f55f301b",
   "metadata": {},
   "source": [
    "### Read data and define types"
   ]
  },
  {
   "cell_type": "code",
   "execution_count": 7,
   "id": "bd0c4904-07f7-4ee6-8554-66d9c4ac9e8b",
   "metadata": {},
   "outputs": [],
   "source": [
    "src = pd.read_csv(\n",
    "    \"processed/acs5_2019_latino_places.csv\",\n",
    "    low_memory=False,\n",
    "    dtype={\n",
    "        \"universe\": int,\n",
    "        \"mexican\": int,\n",
    "        \"mexican_moe\": int,\n",
    "        \"hispanic_or_latino\": int,\n",
    "        \"geoid\": str,\n",
    "    },\n",
    ")"
   ]
  },
  {
   "cell_type": "markdown",
   "id": "270456fe-b9a8-4201-a24e-8979928c770c",
   "metadata": {},
   "source": [
    "### Limit the dataframe to (renamed) columns we need"
   ]
  },
  {
   "cell_type": "code",
   "execution_count": 8,
   "id": "08ab4dcb-1d71-40f2-a0ac-32801441aecd",
   "metadata": {},
   "outputs": [],
   "source": [
    "df = (\n",
    "    src[src[\"universe\"] > 500000][\n",
    "        [\"geoid\", \"name\", \"universe\", \"hispanic_or_latino\", \"mexican\"]\n",
    "    ]\n",
    "    .reset_index(drop=True)\n",
    "    .copy()\n",
    "    .rename(\n",
    "        columns={\n",
    "            \"universe\": \"all_pop\",\n",
    "            \"mexican\": \"mexican_pop\",\n",
    "            \"hispanic_or_latino\": \"hisp_pop\",\n",
    "        }\n",
    "    )\n",
    ")"
   ]
  },
  {
   "cell_type": "markdown",
   "id": "c260405e-b5a5-450f-9ac3-c4ab5abe3090",
   "metadata": {},
   "source": [
    "### Get population shares"
   ]
  },
  {
   "cell_type": "code",
   "execution_count": 9,
   "id": "fab2d06b-3484-41ad-9055-df2a9c25c2a4",
   "metadata": {},
   "outputs": [],
   "source": [
    "df[\"hisp_pct_pop\"] = ((df[\"hisp_pop\"] / df[\"all_pop\"]) * 100).round(2)\n",
    "df[\"mex_pct_all_pop\"] = ((df[\"mexican_pop\"] / df[\"all_pop\"]) * 100).round(2)\n",
    "df[\"mex_pct_hisp_pop\"] = ((df[\"mexican_pop\"] / df[\"hisp_pop\"]) * 100).round(2)"
   ]
  },
  {
   "cell_type": "markdown",
   "id": "3521a859-9031-4d88-8fcb-3d1d034eece2",
   "metadata": {},
   "source": [
    "### Clean up place names"
   ]
  },
  {
   "cell_type": "code",
   "execution_count": 10,
   "id": "e7803809-2f5e-477e-bc11-3682165ee777",
   "metadata": {},
   "outputs": [],
   "source": [
    "df[\"name\"] = (\n",
    "    df[\"name\"]\n",
    "    .str.replace(\" municipality\", \"\", regex=False)\n",
    "    .str.replace(\" city\", \"\", regex=False)\n",
    "    .str.replace(\" zona urbana\", \"\", regex=False)\n",
    "    .str.replace(\" (balance)\", \"\", regex=False)\n",
    "    .str.replace(\" County metro government\", \"\", regex=False)\n",
    "    .str.replace(\" metropolitan government\", \"\", regex=False)\n",
    ")"
   ]
  },
  {
   "cell_type": "markdown",
   "id": "4238ab25-6021-4321-93bb-74a9d091c4e6",
   "metadata": {},
   "source": [
    "### Just one place"
   ]
  },
  {
   "cell_type": "code",
   "execution_count": 11,
   "id": "f509d52e-18f4-46ea-817a-ddb0b5fc3c9c",
   "metadata": {},
   "outputs": [
    {
     "data": {
      "text/html": [
       "<div>\n",
       "<style scoped>\n",
       "    .dataframe tbody tr th:only-of-type {\n",
       "        vertical-align: middle;\n",
       "    }\n",
       "\n",
       "    .dataframe tbody tr th {\n",
       "        vertical-align: top;\n",
       "    }\n",
       "\n",
       "    .dataframe thead th {\n",
       "        text-align: right;\n",
       "    }\n",
       "</style>\n",
       "<table border=\"1\" class=\"dataframe\">\n",
       "  <thead>\n",
       "    <tr style=\"text-align: right;\">\n",
       "      <th></th>\n",
       "      <th>geoid</th>\n",
       "      <th>name</th>\n",
       "      <th>all_pop</th>\n",
       "      <th>hisp_pop</th>\n",
       "      <th>mexican_pop</th>\n",
       "      <th>hisp_pct_pop</th>\n",
       "      <th>mex_pct_all_pop</th>\n",
       "      <th>mex_pct_hisp_pop</th>\n",
       "    </tr>\n",
       "  </thead>\n",
       "  <tbody>\n",
       "    <tr>\n",
       "      <th>3</th>\n",
       "      <td>0644000</td>\n",
       "      <td>Los Angeles, California</td>\n",
       "      <td>3966936</td>\n",
       "      <td>1922409</td>\n",
       "      <td>1277998</td>\n",
       "      <td>48.46</td>\n",
       "      <td>32.22</td>\n",
       "      <td>66.48</td>\n",
       "    </tr>\n",
       "  </tbody>\n",
       "</table>\n",
       "</div>"
      ],
      "text/plain": [
       "     geoid                     name  all_pop  hisp_pop  mexican_pop  \\\n",
       "3  0644000  Los Angeles, California  3966936   1922409      1277998   \n",
       "\n",
       "   hisp_pct_pop  mex_pct_all_pop  mex_pct_hisp_pop  \n",
       "3         48.46            32.22             66.48  "
      ]
     },
     "execution_count": 11,
     "metadata": {},
     "output_type": "execute_result"
    }
   ],
   "source": [
    "df[df[\"geoid\"] == \"0644000\"]"
   ]
  },
  {
   "cell_type": "markdown",
   "id": "d5e089e4-e95f-40be-be37-64a863cf68d8",
   "metadata": {},
   "source": [
    "### Places with highest share of population as Mexican"
   ]
  },
  {
   "cell_type": "code",
   "execution_count": 12,
   "id": "7eaf49d4-b184-4261-817d-17d9bd86d918",
   "metadata": {},
   "outputs": [
    {
     "data": {
      "text/html": [
       "<div>\n",
       "<style scoped>\n",
       "    .dataframe tbody tr th:only-of-type {\n",
       "        vertical-align: middle;\n",
       "    }\n",
       "\n",
       "    .dataframe tbody tr th {\n",
       "        vertical-align: top;\n",
       "    }\n",
       "\n",
       "    .dataframe thead th {\n",
       "        text-align: right;\n",
       "    }\n",
       "</style>\n",
       "<table border=\"1\" class=\"dataframe\">\n",
       "  <thead>\n",
       "    <tr style=\"text-align: right;\">\n",
       "      <th></th>\n",
       "      <th>geoid</th>\n",
       "      <th>name</th>\n",
       "      <th>all_pop</th>\n",
       "      <th>hisp_pop</th>\n",
       "      <th>mexican_pop</th>\n",
       "      <th>hisp_pct_pop</th>\n",
       "      <th>mex_pct_all_pop</th>\n",
       "      <th>mex_pct_hisp_pop</th>\n",
       "    </tr>\n",
       "  </thead>\n",
       "  <tbody>\n",
       "    <tr>\n",
       "      <th>29</th>\n",
       "      <td>4824000</td>\n",
       "      <td>El Paso, Texas</td>\n",
       "      <td>679813</td>\n",
       "      <td>553076</td>\n",
       "      <td>522794</td>\n",
       "      <td>81.36</td>\n",
       "      <td>76.90</td>\n",
       "      <td>94.52</td>\n",
       "    </tr>\n",
       "    <tr>\n",
       "      <th>32</th>\n",
       "      <td>4865000</td>\n",
       "      <td>San Antonio, Texas</td>\n",
       "      <td>1508083</td>\n",
       "      <td>968712</td>\n",
       "      <td>858642</td>\n",
       "      <td>64.23</td>\n",
       "      <td>56.94</td>\n",
       "      <td>88.64</td>\n",
       "    </tr>\n",
       "    <tr>\n",
       "      <th>2</th>\n",
       "      <td>0627000</td>\n",
       "      <td>Fresno, California</td>\n",
       "      <td>525010</td>\n",
       "      <td>260447</td>\n",
       "      <td>240817</td>\n",
       "      <td>49.61</td>\n",
       "      <td>45.87</td>\n",
       "      <td>92.46</td>\n",
       "    </tr>\n",
       "    <tr>\n",
       "      <th>1</th>\n",
       "      <td>0477000</td>\n",
       "      <td>Tucson, Arizona</td>\n",
       "      <td>541482</td>\n",
       "      <td>236118</td>\n",
       "      <td>213978</td>\n",
       "      <td>43.61</td>\n",
       "      <td>39.52</td>\n",
       "      <td>90.62</td>\n",
       "    </tr>\n",
       "    <tr>\n",
       "      <th>0</th>\n",
       "      <td>0455000</td>\n",
       "      <td>Phoenix, Arizona</td>\n",
       "      <td>1633017</td>\n",
       "      <td>695981</td>\n",
       "      <td>624916</td>\n",
       "      <td>42.62</td>\n",
       "      <td>38.27</td>\n",
       "      <td>89.79</td>\n",
       "    </tr>\n",
       "  </tbody>\n",
       "</table>\n",
       "</div>"
      ],
      "text/plain": [
       "      geoid                name  all_pop  hisp_pop  mexican_pop  hisp_pct_pop  \\\n",
       "29  4824000      El Paso, Texas   679813    553076       522794         81.36   \n",
       "32  4865000  San Antonio, Texas  1508083    968712       858642         64.23   \n",
       "2   0627000  Fresno, California   525010    260447       240817         49.61   \n",
       "1   0477000     Tucson, Arizona   541482    236118       213978         43.61   \n",
       "0   0455000    Phoenix, Arizona  1633017    695981       624916         42.62   \n",
       "\n",
       "    mex_pct_all_pop  mex_pct_hisp_pop  \n",
       "29            76.90             94.52  \n",
       "32            56.94             88.64  \n",
       "2             45.87             92.46  \n",
       "1             39.52             90.62  \n",
       "0             38.27             89.79  "
      ]
     },
     "execution_count": 12,
     "metadata": {},
     "output_type": "execute_result"
    }
   ],
   "source": [
    "df.sort_values(\"mex_pct_all_pop\", ascending=False).head()"
   ]
  },
  {
   "cell_type": "markdown",
   "id": "8f94012a-bc4f-4d95-a210-78366a291c4a",
   "metadata": {},
   "source": [
    "### Export dataframe"
   ]
  },
  {
   "cell_type": "code",
   "execution_count": 13,
   "id": "75911152-d27a-4396-bd09-a05239944c21",
   "metadata": {},
   "outputs": [],
   "source": [
    "df.to_csv(\"output/mexican_pop_place.csv\", index=False)"
   ]
  },
  {
   "cell_type": "markdown",
   "id": "9ea10799-05ef-4f93-be69-61056cbc5d8d",
   "metadata": {},
   "source": [
    "---"
   ]
  },
  {
   "cell_type": "markdown",
   "id": "1ae62c2b-dded-467c-b8d1-90def273a993",
   "metadata": {},
   "source": [
    "### Read geography file for places"
   ]
  },
  {
   "cell_type": "code",
   "execution_count": 14,
   "id": "68b04ba0-3d4c-4355-ad0c-84e2d3f4214f",
   "metadata": {},
   "outputs": [],
   "source": [
    "gdf_poly = gpd.read_file(\n",
    "    \"../../../data/gis/census/places/nhgis0001_shape/nhgis0001_shapefile_tl2019_us_place_2019/US_place_2019.shp\"\n",
    ")"
   ]
  },
  {
   "cell_type": "markdown",
   "id": "c22d79c8-c000-4cd3-826c-3ef039a31d3a",
   "metadata": {},
   "source": [
    "### Convert polygons to points"
   ]
  },
  {
   "cell_type": "code",
   "execution_count": 15,
   "id": "c8f22247-2342-4585-9fc5-18e0073d36f3",
   "metadata": {},
   "outputs": [],
   "source": [
    "gdf_points = gdf_poly.copy()"
   ]
  },
  {
   "cell_type": "code",
   "execution_count": 16,
   "id": "001060e4-c903-4b6c-a620-5d68b2f11bc7",
   "metadata": {},
   "outputs": [],
   "source": [
    "gdf_points[\"geometry\"] = gdf_points[\"geometry\"].centroid"
   ]
  },
  {
   "cell_type": "markdown",
   "id": "57830ebe-4db6-45c0-9342-43a44648ba69",
   "metadata": {},
   "source": [
    "### Clean up column names"
   ]
  },
  {
   "cell_type": "code",
   "execution_count": 17,
   "id": "4968ee00-b9a6-4c3f-8ab5-7ebc1b9137a8",
   "metadata": {},
   "outputs": [],
   "source": [
    "gdf_points.columns = gdf_points.columns.str.lower()"
   ]
  },
  {
   "cell_type": "code",
   "execution_count": 18,
   "id": "98e5b1c2-4fe7-42f6-bfaf-6e050ff37577",
   "metadata": {},
   "outputs": [],
   "source": [
    "geodf = gdf_points[[\"geoid\", \"geometry\"]].copy()"
   ]
  },
  {
   "cell_type": "markdown",
   "id": "5fe2e2eb-f715-4dcd-a0c2-85a1cba844d5",
   "metadata": {},
   "source": [
    "---"
   ]
  },
  {
   "cell_type": "markdown",
   "id": "8c03f386-8ab5-42f2-a243-3070eebd3e86",
   "metadata": {},
   "source": [
    "### Merge 'em"
   ]
  },
  {
   "cell_type": "code",
   "execution_count": 19,
   "id": "ff46238c-e469-401c-944b-a927a823d5ac",
   "metadata": {},
   "outputs": [],
   "source": [
    "merged_geo = pd.merge(geodf, df, right_on=\"geoid\")"
   ]
  },
  {
   "cell_type": "code",
   "execution_count": 20,
   "id": "a523c13b-2f6b-430d-84ee-d1437629c32d",
   "metadata": {},
   "outputs": [
    {
     "data": {
      "text/html": [
       "<div>\n",
       "<style scoped>\n",
       "    .dataframe tbody tr th:only-of-type {\n",
       "        vertical-align: middle;\n",
       "    }\n",
       "\n",
       "    .dataframe tbody tr th {\n",
       "        vertical-align: top;\n",
       "    }\n",
       "\n",
       "    .dataframe thead th {\n",
       "        text-align: right;\n",
       "    }\n",
       "</style>\n",
       "<table border=\"1\" class=\"dataframe\">\n",
       "  <thead>\n",
       "    <tr style=\"text-align: right;\">\n",
       "      <th></th>\n",
       "      <th>geoid</th>\n",
       "      <th>geometry</th>\n",
       "      <th>name</th>\n",
       "      <th>all_pop</th>\n",
       "      <th>hisp_pop</th>\n",
       "      <th>mexican_pop</th>\n",
       "      <th>hisp_pct_pop</th>\n",
       "      <th>mex_pct_all_pop</th>\n",
       "      <th>mex_pct_hisp_pop</th>\n",
       "    </tr>\n",
       "  </thead>\n",
       "  <tbody>\n",
       "    <tr>\n",
       "      <th>0</th>\n",
       "      <td>0455000</td>\n",
       "      <td>POINT (-1476289.965 -314363.699)</td>\n",
       "      <td>Phoenix, Arizona</td>\n",
       "      <td>1633017</td>\n",
       "      <td>695981</td>\n",
       "      <td>624916</td>\n",
       "      <td>42.62</td>\n",
       "      <td>38.27</td>\n",
       "      <td>89.79</td>\n",
       "    </tr>\n",
       "    <tr>\n",
       "      <th>1</th>\n",
       "      <td>0477000</td>\n",
       "      <td>POINT (-1390789.857 -488703.643)</td>\n",
       "      <td>Tucson, Arizona</td>\n",
       "      <td>541482</td>\n",
       "      <td>236118</td>\n",
       "      <td>213978</td>\n",
       "      <td>43.61</td>\n",
       "      <td>39.52</td>\n",
       "      <td>90.62</td>\n",
       "    </tr>\n",
       "    <tr>\n",
       "      <th>2</th>\n",
       "      <td>0627000</td>\n",
       "      <td>POINT (-2081874.463 181656.710)</td>\n",
       "      <td>Fresno, California</td>\n",
       "      <td>525010</td>\n",
       "      <td>260447</td>\n",
       "      <td>240817</td>\n",
       "      <td>49.61</td>\n",
       "      <td>45.87</td>\n",
       "      <td>92.46</td>\n",
       "    </tr>\n",
       "    <tr>\n",
       "      <th>3</th>\n",
       "      <td>0644000</td>\n",
       "      <td>POINT (-2032633.900 -137838.626)</td>\n",
       "      <td>Los Angeles, California</td>\n",
       "      <td>3966936</td>\n",
       "      <td>1922409</td>\n",
       "      <td>1277998</td>\n",
       "      <td>48.46</td>\n",
       "      <td>32.22</td>\n",
       "      <td>66.48</td>\n",
       "    </tr>\n",
       "    <tr>\n",
       "      <th>4</th>\n",
       "      <td>0664000</td>\n",
       "      <td>POINT (-2172026.924 412350.330)</td>\n",
       "      <td>Sacramento, California</td>\n",
       "      <td>500930</td>\n",
       "      <td>144582</td>\n",
       "      <td>123228</td>\n",
       "      <td>28.86</td>\n",
       "      <td>24.60</td>\n",
       "      <td>85.23</td>\n",
       "    </tr>\n",
       "  </tbody>\n",
       "</table>\n",
       "</div>"
      ],
      "text/plain": [
       "     geoid                          geometry                     name  \\\n",
       "0  0455000  POINT (-1476289.965 -314363.699)         Phoenix, Arizona   \n",
       "1  0477000  POINT (-1390789.857 -488703.643)          Tucson, Arizona   \n",
       "2  0627000   POINT (-2081874.463 181656.710)       Fresno, California   \n",
       "3  0644000  POINT (-2032633.900 -137838.626)  Los Angeles, California   \n",
       "4  0664000   POINT (-2172026.924 412350.330)   Sacramento, California   \n",
       "\n",
       "   all_pop  hisp_pop  mexican_pop  hisp_pct_pop  mex_pct_all_pop  \\\n",
       "0  1633017    695981       624916         42.62            38.27   \n",
       "1   541482    236118       213978         43.61            39.52   \n",
       "2   525010    260447       240817         49.61            45.87   \n",
       "3  3966936   1922409      1277998         48.46            32.22   \n",
       "4   500930    144582       123228         28.86            24.60   \n",
       "\n",
       "   mex_pct_hisp_pop  \n",
       "0             89.79  \n",
       "1             90.62  \n",
       "2             92.46  \n",
       "3             66.48  \n",
       "4             85.23  "
      ]
     },
     "execution_count": 20,
     "metadata": {},
     "output_type": "execute_result"
    }
   ],
   "source": [
    "merged_geo.head()"
   ]
  },
  {
   "cell_type": "code",
   "execution_count": 21,
   "id": "68d0af48-39fd-4aa1-abff-20a01cb28d9d",
   "metadata": {},
   "outputs": [
    {
     "data": {
      "text/plain": [
       "<AxesSubplot:>"
      ]
     },
     "execution_count": 21,
     "metadata": {},
     "output_type": "execute_result"
    },
    {
     "data": {
      "image/png": "[encoded data removed]",
      "text/plain": [
       "<Figure size 432x288 with 1 Axes>"
      ]
     },
     "metadata": {
      "needs_background": "light"
     },
     "output_type": "display_data"
    }
   ],
   "source": [
    "merged_geo.plot()"
   ]
  },
  {
   "cell_type": "code",
   "execution_count": 22,
   "id": "5f46178e-23e4-4d5e-84b9-8be64d147e31",
   "metadata": {},
   "outputs": [],
   "source": [
    "merged_geo = merged_geo.to_crs(\"epsg:4326\")"
   ]
  },
  {
   "cell_type": "code",
   "execution_count": 23,
   "id": "daf25050-577f-4e8b-ae70-5ab225cff562",
   "metadata": {},
   "outputs": [],
   "source": [
    "merged_geo[\"lon\"] = merged_geo.geometry.apply(lambda p: p.x)\n",
    "merged_geo[\"lat\"] = merged_geo.geometry.apply(lambda p: p.y)"
   ]
  },
  {
   "cell_type": "code",
   "execution_count": 24,
   "id": "0058aaf6-9a05-471c-bce6-e68914847992",
   "metadata": {},
   "outputs": [],
   "source": [
    "merged_geo.to_file(\"output/large_places_hispanic_pop.geojson\", driver=\"GeoJSON\")"
   ]
  },
  {
   "cell_type": "code",
   "execution_count": 25,
   "id": "adc5bbff-8463-4b22-824b-264d608859ef",
   "metadata": {},
   "outputs": [],
   "source": [
    "merged_geo[\n",
    "    [\n",
    "        \"geoid\",\n",
    "        \"name\",\n",
    "        \"all_pop\",\n",
    "        \"hisp_pop\",\n",
    "        \"mexican_pop\",\n",
    "        \"hisp_pct_pop\",\n",
    "        \"mex_pct_all_pop\",\n",
    "        \"mex_pct_hisp_pop\",\n",
    "        \"lon\",\n",
    "        \"lat\",\n",
    "    ]\n",
    "].to_csv(\"output/mexican_pop_place_datawrapper.csv\", index=False)"
   ]
  }
 ],
 "metadata": {
  "kernelspec": {
   "display_name": "Python 3",
   "language": "python",
   "name": "python3"
  },
  "language_info": {
   "codemirror_mode": {
    "name": "ipython",
    "version": 3
   },
   "file_extension": ".py",
   "mimetype": "text/x-python",
   "name": "python",
   "nbconvert_exporter": "python",
   "pygments_lexer": "ipython3",
   "version": "3.8.8"
  }
 },
 "nbformat": 4,
 "nbformat_minor": 5
}
