{
 "cells": [
  {
   "cell_type": "markdown",
   "id": "c59c4ec4-73c7-44ed-865a-ff62ce58665e",
   "metadata": {},
   "source": [
    "# Create a national shapefile of school districts"
   ]
  },
  {
   "cell_type": "markdown",
   "id": "3a26cd9b-2c75-4710-9618-393e7523de9b",
   "metadata": {},
   "source": [
    "### Import python/pandas tools"
   ]
  },
  {
   "cell_type": "code",
   "execution_count": 1,
   "id": "32987ee2-4553-4e50-84a6-12004a54ce44",
   "metadata": {},
   "outputs": [],
   "source": [
    "%load_ext lab_black"
   ]
  },
  {
   "cell_type": "code",
   "execution_count": 2,
   "id": "421ffd3e-85d1-4cc5-b99e-cbeffb679402",
   "metadata": {},
   "outputs": [],
   "source": [
    "import pandas as pd\n",
    "import geopandas as gpd\n",
    "import os\n",
    "import glob"
   ]
  },
  {
   "cell_type": "code",
   "execution_count": 3,
   "id": "4614c184-7d3e-4740-a55c-db9e7b95fd7c",
   "metadata": {},
   "outputs": [],
   "source": [
    "pd.options.display.max_columns = 200\n",
    "pd.options.display.max_rows = 1000\n",
    "pd.set_option(\"display.max_colwidth\", None)"
   ]
  },
  {
   "cell_type": "markdown",
   "id": "571c19b8-3ede-452b-b75f-fa1226a3f0d0",
   "metadata": {},
   "source": [
    "---"
   ]
  },
  {
   "cell_type": "code",
   "execution_count": 4,
   "id": "555f2cb0-417c-4a86-81f4-9b3d711a5c7d",
   "metadata": {},
   "outputs": [],
   "source": [
    "# https://www2.census.gov/geo/tiger/TIGER2021/SCSD/"
   ]
  },
  {
   "cell_type": "markdown",
   "id": "e5c71f3d-871d-4eb6-bf12-04a94826a4bf",
   "metadata": {},
   "source": [
    "### State IDs"
   ]
  },
  {
   "cell_type": "code",
   "execution_count": 5,
   "id": "f6f40ded-f326-4387-93fe-aba10be1e967",
   "metadata": {},
   "outputs": [],
   "source": [
    "ids = [\n",
    "    \"04\",\n",
    "    \"06\",\n",
    "    \"09\",\n",
    "    \"13\",\n",
    "    \"17\",\n",
    "    \"21\",\n",
    "    \"23\",\n",
    "    \"25\",\n",
    "    \"27\",\n",
    "    \"30\",\n",
    "    \"33\",\n",
    "    \"34\",\n",
    "    \"36\",\n",
    "    \"41\",\n",
    "    \"44\",\n",
    "    \"45\",\n",
    "    \"47\",\n",
    "    \"48\",\n",
    "    \"55\",\n",
    "]"
   ]
  },
  {
   "cell_type": "markdown",
   "id": "2929059f-3b0a-4d5d-a9ea-6aa57fc2bc08",
   "metadata": {},
   "source": [
    "### Download the files"
   ]
  },
  {
   "cell_type": "code",
   "execution_count": 6,
   "id": "b6b10dce-ac6f-4dc2-9b51-b5f92abf12c4",
   "metadata": {},
   "outputs": [],
   "source": [
    "os.chdir(\"geo/raw\")"
   ]
  },
  {
   "cell_type": "markdown",
   "id": "75232e68-7d9f-4122-a867-27550fd2433b",
   "metadata": {},
   "source": [
    "### Make a list of URLs"
   ]
  },
  {
   "cell_type": "code",
   "execution_count": 7,
   "id": "e8c26605-8107-4c73-9930-049223379d19",
   "metadata": {},
   "outputs": [],
   "source": [
    "urls = []\n",
    "\n",
    "for i in ids:\n",
    "    urls.append(\n",
    "        \"https://www2.census.gov/geo/tiger/TIGER2021/SCSD/tl_2021_\" + i + \"_scsd.zip\"\n",
    "    )"
   ]
  },
  {
   "cell_type": "markdown",
   "id": "64bbc06b-39d1-4478-8ff5-5d4176590648",
   "metadata": {},
   "source": [
    "### Loop, download, unzip and delete each file"
   ]
  },
  {
   "cell_type": "code",
   "execution_count": 8,
   "id": "ed041bb7-1450-465e-aa21-5c9e86fb0116",
   "metadata": {},
   "outputs": [
    {
     "name": "stdout",
     "output_type": "stream",
     "text": [
      "\n",
      "19 archives were successfully processed.\n",
      "\n",
      "19 archives were successfully processed.\n",
      "\n",
      "19 archives were successfully processed.\n",
      "\n",
      "19 archives were successfully processed.\n",
      "\n",
      "19 archives were successfully processed.\n",
      "\n",
      "19 archives were successfully processed.\n",
      "\n",
      "19 archives were successfully processed.\n",
      "\n",
      "19 archives were successfully processed.\n",
      "\n",
      "19 archives were successfully processed.\n",
      "\n",
      "19 archives were successfully processed.\n",
      "\n",
      "19 archives were successfully processed.\n",
      "\n",
      "19 archives were successfully processed.\n",
      "\n",
      "19 archives were successfully processed.\n",
      "\n",
      "19 archives were successfully processed.\n",
      "\n",
      "19 archives were successfully processed.\n",
      "\n",
      "19 archives were successfully processed.\n",
      "\n",
      "19 archives were successfully processed.\n",
      "\n",
      "19 archives were successfully processed.\n",
      "\n",
      "19 archives were successfully processed.\n"
     ]
    }
   ],
   "source": [
    "for u in urls:\n",
    "    !curl -O {u} --silent\n",
    "    !unzip -qq -o \\*.zip"
   ]
  },
  {
   "cell_type": "markdown",
   "id": "69a46b7a-1522-4768-aa99-8494422c315c",
   "metadata": {},
   "source": [
    "### Grab all the .shp files and concatenate them"
   ]
  },
  {
   "cell_type": "code",
   "execution_count": 9,
   "id": "5da40a26-6101-4ab3-a93d-0d58b9bb0677",
   "metadata": {},
   "outputs": [],
   "source": [
    "path = \"\"\n",
    "all_files = glob.glob(os.path.join(path, \"*.shp\"))\n",
    "\n",
    "gdf_from_each_file = (\n",
    "    gpd.read_file(f).assign(PLACE=os.path.basename(f)) for f in all_files\n",
    ")\n",
    "\n",
    "concatenated_gdf = pd.concat(gdf_from_each_file)"
   ]
  },
  {
   "cell_type": "markdown",
   "id": "f299ccc5-ba90-4145-b097-548e3cb04369",
   "metadata": {},
   "source": [
    "### Clean up column names"
   ]
  },
  {
   "cell_type": "code",
   "execution_count": 10,
   "id": "45fc58c0-3744-4953-a2b2-41d5229fcb7e",
   "metadata": {},
   "outputs": [],
   "source": [
    "concatenated_gdf.columns = concatenated_gdf.columns.str.lower()"
   ]
  },
  {
   "cell_type": "code",
   "execution_count": 11,
   "id": "ce4825d6-b430-4d4e-89e3-c868b3afa9b8",
   "metadata": {},
   "outputs": [],
   "source": [
    "concatenated_gdf.to_file(\"../processed/scsd.geojson\", driver=\"GeoJSON\")"
   ]
  }
 ],
 "metadata": {
  "kernelspec": {
   "display_name": "Python 3",
   "language": "python",
   "name": "python3"
  },
  "language_info": {
   "codemirror_mode": {
    "name": "ipython",
    "version": 3
   },
   "file_extension": ".py",
   "mimetype": "text/x-python",
   "name": "python",
   "nbconvert_exporter": "python",
   "pygments_lexer": "ipython3",
   "version": "3.8.8"
  }
 },
 "nbformat": 4,
 "nbformat_minor": 5
}
