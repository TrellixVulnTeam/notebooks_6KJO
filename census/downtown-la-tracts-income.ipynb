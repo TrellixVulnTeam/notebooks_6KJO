{
 "cells": [
  {
   "cell_type": "markdown",
   "id": "4f1f4a08-169a-4e7a-9298-93459304bf18",
   "metadata": {},
   "source": [
    "# Income by U.S. Census tracts in downtown Los Angeles"
   ]
  },
  {
   "cell_type": "markdown",
   "id": "fbadfde6-6865-4511-adde-2153f942d943",
   "metadata": {},
   "source": [
    "#### Load Python tools"
   ]
  },
  {
   "cell_type": "code",
   "execution_count": 1,
   "id": "0b9ad6ac-7533-4214-a77d-c572c1fa74c2",
   "metadata": {},
   "outputs": [
    {
     "name": "stderr",
     "output_type": "stream",
     "text": [
      "/Users/stiles/.local/share/virtualenvs/notebooks-sxqKeO4C/lib/python3.8/site-packages/geopandas/_compat.py:111: UserWarning: The Shapely GEOS version (3.10.2-CAPI-1.16.0) is incompatible with the GEOS version PyGEOS was compiled with (3.10.1-CAPI-1.16.0). Conversions between both will be slow.\n",
      "  warnings.warn(\n"
     ]
    }
   ],
   "source": [
    "import pandas as pd\n",
    "import geopandas as gpd"
   ]
  },
  {
   "cell_type": "code",
   "execution_count": 2,
   "id": "4e5a8eb5-4141-480d-937b-9a02dc6186b9",
   "metadata": {},
   "outputs": [],
   "source": [
    "pd.options.display.max_columns = 1000\n",
    "pd.options.display.max_rows = 5000\n",
    "pd.options.display.max_colwidth = None"
   ]
  },
  {
   "cell_type": "markdown",
   "id": "ec132f34-8ece-4778-bc47-69c1c0aaddf6",
   "metadata": {},
   "source": [
    "#### Read tracts data"
   ]
  },
  {
   "cell_type": "code",
   "execution_count": 3,
   "id": "e23cf9b5-9884-4302-9210-6b149f72b75f",
   "metadata": {},
   "outputs": [],
   "source": [
    "src = pd.read_csv('raw/acs5_2019_householdincome_tracts.csv', dtype={'state':str, 'county':str, 'tract':str})"
   ]
  },
  {
   "cell_type": "code",
   "execution_count": 4,
   "id": "b0d89b35-e3c6-4fc6-b725-868fdbcd1f3b",
   "metadata": {},
   "outputs": [],
   "source": [
    "src.columns = src.columns.str.lower()"
   ]
  },
  {
   "cell_type": "code",
   "execution_count": 5,
   "id": "a7e9ae63-505a-434a-a48b-81d79c953fe9",
   "metadata": {},
   "outputs": [],
   "source": [
    "src.rename(columns={\n",
    "    'b19001_001e': \"households\",\n",
    "    'b19001_002e': \"0_9999\",\n",
    "    'b19001_003e': \"10000_14999\",\n",
    "    'b19001_004e': \"15000_19999\",\n",
    "    'b19001_005e': \"20000_24999\",\n",
    "    'b19001_006e': \"25000_29999\",\n",
    "    'b19001_007e': \"30000_34999\",\n",
    "    'b19001_008e': \"35000_39999\",\n",
    "    'b19001_009e': \"40000_44999\",\n",
    "    'b19001_010e': \"45000_49999\",\n",
    "    'b19001_011e': \"50000_59999\",\n",
    "    'b19001_012e': \"60000_74999\",\n",
    "    'b19001_013e': \"75000_99999\",\n",
    "    'b19001_014e': \"100000_124999\",\n",
    "    'b19001_015e': \"125000_149999\",\n",
    "    'b19001_016e': \"150000_199999\",\n",
    "    'b19001_017e': \"200000_more\",\n",
    "    'b19001_001m': \"households_error\",\n",
    "    'b19001_002m': \"0_9999_error\",\n",
    "    'b19001_003m': \"10000_14999_error\",\n",
    "    'b19001_004m': \"15000_19999_error\",\n",
    "    'b19001_005m': \"20000_24999_error\",\n",
    "    'b19001_006m': \"25000_29999_error\",\n",
    "    'b19001_007m': \"30000_34999_error\",\n",
    "    'b19001_008m': \"35000_39999_error\",\n",
    "    'b19001_009m': \"40000_44999_error\",\n",
    "    'b19001_010m': \"45000_49999_error\",\n",
    "    'b19001_011m': \"50000_59999_error\",\n",
    "    'b19001_012m': \"60000_74999_error\",\n",
    "    'b19001_013m': \"75000_99999_error\",\n",
    "    'b19001_014m': \"100000_124999_error\",\n",
    "    'b19001_015m': \"125000_149999_error\",\n",
    "    'b19001_016m': \"150000_199999_error\",\n",
    "    'b19001_017m': \"200000_more_error\"\n",
    "}, inplace=True)"
   ]
  },
  {
   "cell_type": "code",
   "execution_count": 6,
   "id": "ec6dce00-1e34-4915-9602-f328b00e603d",
   "metadata": {},
   "outputs": [],
   "source": [
    "src_slim = src[[\n",
    "    'geo_id',\n",
    "    'state',\n",
    "    'county',\n",
    "    'tract',\n",
    "    \"name\",\n",
    "    \"households\",\n",
    "    \"0_9999\",\n",
    "    \"10000_14999\",\n",
    "    \"15000_19999\",\n",
    "    \"20000_24999\",\n",
    "    \"25000_29999\",\n",
    "    \"30000_34999\",\n",
    "    \"35000_39999\",\n",
    "    \"40000_44999\",\n",
    "    \"45000_49999\",\n",
    "    \"50000_59999\",\n",
    "    \"60000_74999\",\n",
    "    \"75000_99999\",\n",
    "    \"100000_124999\",\n",
    "    \"125000_149999\",\n",
    "    \"150000_199999\",\n",
    "    \"200000_more\",\n",
    "    \"households_error\",\n",
    "    \"0_9999_error\",\n",
    "    \"10000_14999_error\",\n",
    "    \"15000_19999_error\",\n",
    "    \"20000_24999_error\",\n",
    "    \"25000_29999_error\",\n",
    "    \"30000_34999_error\",\n",
    "    \"35000_39999_error\",\n",
    "    \"40000_44999_error\",\n",
    "    \"45000_49999_error\",\n",
    "    \"50000_59999_error\",\n",
    "    \"60000_74999_error\",\n",
    "    \"75000_99999_error\",\n",
    "    \"100000_124999_error\",\n",
    "    \"125000_149999_error\",\n",
    "    \"150000_199999_error\",\n",
    "    \"200000_more_error\",\n",
    "]]"
   ]
  },
  {
   "cell_type": "markdown",
   "id": "8297bf7f-18be-4cb3-9f34-2fe62cfe8096",
   "metadata": {},
   "source": [
    "#### Just Los Angeles"
   ]
  },
  {
   "cell_type": "code",
   "execution_count": 7,
   "id": "29f877b4-d3a0-4fa4-ae16-d7a270d57de5",
   "metadata": {},
   "outputs": [],
   "source": [
    "la_tracts = src_slim[src_slim['name'].str.contains('Los Angeles County, California')]"
   ]
  },
  {
   "cell_type": "code",
   "execution_count": 8,
   "id": "e1d427c9-3e43-46a7-bcf3-37192c8a376f",
   "metadata": {},
   "outputs": [
    {
     "data": {
      "text/plain": [
       "Index(['geo_id', 'state', 'county', 'tract', 'name', 'households', '0_9999',\n",
       "       '10000_14999', '15000_19999', '20000_24999', '25000_29999',\n",
       "       '30000_34999', '35000_39999', '40000_44999', '45000_49999',\n",
       "       '50000_59999', '60000_74999', '75000_99999', '100000_124999',\n",
       "       '125000_149999', '150000_199999', '200000_more', 'households_error',\n",
       "       '0_9999_error', '10000_14999_error', '15000_19999_error',\n",
       "       '20000_24999_error', '25000_29999_error', '30000_34999_error',\n",
       "       '35000_39999_error', '40000_44999_error', '45000_49999_error',\n",
       "       '50000_59999_error', '60000_74999_error', '75000_99999_error',\n",
       "       '100000_124999_error', '125000_149999_error', '150000_199999_error',\n",
       "       '200000_more_error'],\n",
       "      dtype='object')"
      ]
     },
     "execution_count": 8,
     "metadata": {},
     "output_type": "execute_result"
    }
   ],
   "source": [
    "la_tracts.columns"
   ]
  },
  {
   "cell_type": "code",
   "execution_count": 9,
   "id": "49b868ce-c6f2-4ab6-825f-9920911144f4",
   "metadata": {},
   "outputs": [
    {
     "data": {
      "text/html": [
       "<div>\n",
       "<style scoped>\n",
       "    .dataframe tbody tr th:only-of-type {\n",
       "        vertical-align: middle;\n",
       "    }\n",
       "\n",
       "    .dataframe tbody tr th {\n",
       "        vertical-align: top;\n",
       "    }\n",
       "\n",
       "    .dataframe thead th {\n",
       "        text-align: right;\n",
       "    }\n",
       "</style>\n",
       "<table border=\"1\" class=\"dataframe\">\n",
       "  <thead>\n",
       "    <tr style=\"text-align: right;\">\n",
       "      <th></th>\n",
       "      <th>geo_id</th>\n",
       "      <th>state</th>\n",
       "      <th>county</th>\n",
       "      <th>tract</th>\n",
       "      <th>name</th>\n",
       "      <th>households</th>\n",
       "      <th>0_9999</th>\n",
       "      <th>10000_14999</th>\n",
       "      <th>15000_19999</th>\n",
       "      <th>20000_24999</th>\n",
       "      <th>25000_29999</th>\n",
       "      <th>30000_34999</th>\n",
       "      <th>35000_39999</th>\n",
       "      <th>40000_44999</th>\n",
       "      <th>45000_49999</th>\n",
       "      <th>50000_59999</th>\n",
       "      <th>60000_74999</th>\n",
       "      <th>75000_99999</th>\n",
       "      <th>100000_124999</th>\n",
       "      <th>125000_149999</th>\n",
       "      <th>150000_199999</th>\n",
       "      <th>200000_more</th>\n",
       "      <th>households_error</th>\n",
       "      <th>0_9999_error</th>\n",
       "      <th>10000_14999_error</th>\n",
       "      <th>15000_19999_error</th>\n",
       "      <th>20000_24999_error</th>\n",
       "      <th>25000_29999_error</th>\n",
       "      <th>30000_34999_error</th>\n",
       "      <th>35000_39999_error</th>\n",
       "      <th>40000_44999_error</th>\n",
       "      <th>45000_49999_error</th>\n",
       "      <th>50000_59999_error</th>\n",
       "      <th>60000_74999_error</th>\n",
       "      <th>75000_99999_error</th>\n",
       "      <th>100000_124999_error</th>\n",
       "      <th>125000_149999_error</th>\n",
       "      <th>150000_199999_error</th>\n",
       "      <th>200000_more_error</th>\n",
       "    </tr>\n",
       "  </thead>\n",
       "  <tbody>\n",
       "    <tr>\n",
       "      <th>4731</th>\n",
       "      <td>1400000US06037101110</td>\n",
       "      <td>06</td>\n",
       "      <td>037</td>\n",
       "      <td>101110</td>\n",
       "      <td>Census Tract 1011.10, Los Angeles County, California</td>\n",
       "      <td>1575.0</td>\n",
       "      <td>86.0</td>\n",
       "      <td>91.0</td>\n",
       "      <td>101.0</td>\n",
       "      <td>44.0</td>\n",
       "      <td>55.0</td>\n",
       "      <td>78.0</td>\n",
       "      <td>67.0</td>\n",
       "      <td>46.0</td>\n",
       "      <td>99.0</td>\n",
       "      <td>99.0</td>\n",
       "      <td>107.0</td>\n",
       "      <td>274.0</td>\n",
       "      <td>151.0</td>\n",
       "      <td>75.0</td>\n",
       "      <td>125.0</td>\n",
       "      <td>77.0</td>\n",
       "      <td>90.0</td>\n",
       "      <td>71.0</td>\n",
       "      <td>65.0</td>\n",
       "      <td>68.0</td>\n",
       "      <td>41.0</td>\n",
       "      <td>45.0</td>\n",
       "      <td>67.0</td>\n",
       "      <td>56.0</td>\n",
       "      <td>37.0</td>\n",
       "      <td>53.0</td>\n",
       "      <td>56.0</td>\n",
       "      <td>56.0</td>\n",
       "      <td>103.0</td>\n",
       "      <td>60.0</td>\n",
       "      <td>48.0</td>\n",
       "      <td>73.0</td>\n",
       "      <td>40.0</td>\n",
       "    </tr>\n",
       "    <tr>\n",
       "      <th>4732</th>\n",
       "      <td>1400000US06037101122</td>\n",
       "      <td>06</td>\n",
       "      <td>037</td>\n",
       "      <td>101122</td>\n",
       "      <td>Census Tract 1011.22, Los Angeles County, California</td>\n",
       "      <td>1312.0</td>\n",
       "      <td>66.0</td>\n",
       "      <td>21.0</td>\n",
       "      <td>0.0</td>\n",
       "      <td>47.0</td>\n",
       "      <td>36.0</td>\n",
       "      <td>25.0</td>\n",
       "      <td>7.0</td>\n",
       "      <td>0.0</td>\n",
       "      <td>52.0</td>\n",
       "      <td>34.0</td>\n",
       "      <td>166.0</td>\n",
       "      <td>298.0</td>\n",
       "      <td>119.0</td>\n",
       "      <td>146.0</td>\n",
       "      <td>115.0</td>\n",
       "      <td>180.0</td>\n",
       "      <td>63.0</td>\n",
       "      <td>52.0</td>\n",
       "      <td>22.0</td>\n",
       "      <td>12.0</td>\n",
       "      <td>48.0</td>\n",
       "      <td>43.0</td>\n",
       "      <td>27.0</td>\n",
       "      <td>11.0</td>\n",
       "      <td>12.0</td>\n",
       "      <td>52.0</td>\n",
       "      <td>25.0</td>\n",
       "      <td>90.0</td>\n",
       "      <td>116.0</td>\n",
       "      <td>63.0</td>\n",
       "      <td>73.0</td>\n",
       "      <td>55.0</td>\n",
       "      <td>74.0</td>\n",
       "    </tr>\n",
       "    <tr>\n",
       "      <th>4733</th>\n",
       "      <td>1400000US06037101210</td>\n",
       "      <td>06</td>\n",
       "      <td>037</td>\n",
       "      <td>101210</td>\n",
       "      <td>Census Tract 1012.10, Los Angeles County, California</td>\n",
       "      <td>2297.0</td>\n",
       "      <td>271.0</td>\n",
       "      <td>135.0</td>\n",
       "      <td>278.0</td>\n",
       "      <td>39.0</td>\n",
       "      <td>108.0</td>\n",
       "      <td>169.0</td>\n",
       "      <td>112.0</td>\n",
       "      <td>53.0</td>\n",
       "      <td>178.0</td>\n",
       "      <td>163.0</td>\n",
       "      <td>165.0</td>\n",
       "      <td>261.0</td>\n",
       "      <td>148.0</td>\n",
       "      <td>106.0</td>\n",
       "      <td>53.0</td>\n",
       "      <td>58.0</td>\n",
       "      <td>98.0</td>\n",
       "      <td>127.0</td>\n",
       "      <td>69.0</td>\n",
       "      <td>112.0</td>\n",
       "      <td>41.0</td>\n",
       "      <td>76.0</td>\n",
       "      <td>109.0</td>\n",
       "      <td>74.0</td>\n",
       "      <td>47.0</td>\n",
       "      <td>96.0</td>\n",
       "      <td>78.0</td>\n",
       "      <td>79.0</td>\n",
       "      <td>119.0</td>\n",
       "      <td>96.0</td>\n",
       "      <td>65.0</td>\n",
       "      <td>51.0</td>\n",
       "      <td>59.0</td>\n",
       "    </tr>\n",
       "    <tr>\n",
       "      <th>4734</th>\n",
       "      <td>1400000US06037101220</td>\n",
       "      <td>06</td>\n",
       "      <td>037</td>\n",
       "      <td>101220</td>\n",
       "      <td>Census Tract 1012.20, Los Angeles County, California</td>\n",
       "      <td>1357.0</td>\n",
       "      <td>85.0</td>\n",
       "      <td>128.0</td>\n",
       "      <td>124.0</td>\n",
       "      <td>57.0</td>\n",
       "      <td>35.0</td>\n",
       "      <td>94.0</td>\n",
       "      <td>83.0</td>\n",
       "      <td>107.0</td>\n",
       "      <td>83.0</td>\n",
       "      <td>84.0</td>\n",
       "      <td>63.0</td>\n",
       "      <td>122.0</td>\n",
       "      <td>114.0</td>\n",
       "      <td>68.0</td>\n",
       "      <td>69.0</td>\n",
       "      <td>41.0</td>\n",
       "      <td>57.0</td>\n",
       "      <td>53.0</td>\n",
       "      <td>59.0</td>\n",
       "      <td>64.0</td>\n",
       "      <td>41.0</td>\n",
       "      <td>31.0</td>\n",
       "      <td>53.0</td>\n",
       "      <td>42.0</td>\n",
       "      <td>56.0</td>\n",
       "      <td>56.0</td>\n",
       "      <td>43.0</td>\n",
       "      <td>35.0</td>\n",
       "      <td>59.0</td>\n",
       "      <td>51.0</td>\n",
       "      <td>44.0</td>\n",
       "      <td>47.0</td>\n",
       "      <td>32.0</td>\n",
       "    </tr>\n",
       "    <tr>\n",
       "      <th>4735</th>\n",
       "      <td>1400000US06037101300</td>\n",
       "      <td>06</td>\n",
       "      <td>037</td>\n",
       "      <td>101300</td>\n",
       "      <td>Census Tract 1013, Los Angeles County, California</td>\n",
       "      <td>1445.0</td>\n",
       "      <td>78.0</td>\n",
       "      <td>18.0</td>\n",
       "      <td>59.0</td>\n",
       "      <td>33.0</td>\n",
       "      <td>68.0</td>\n",
       "      <td>33.0</td>\n",
       "      <td>17.0</td>\n",
       "      <td>83.0</td>\n",
       "      <td>32.0</td>\n",
       "      <td>86.0</td>\n",
       "      <td>147.0</td>\n",
       "      <td>195.0</td>\n",
       "      <td>137.0</td>\n",
       "      <td>122.0</td>\n",
       "      <td>159.0</td>\n",
       "      <td>178.0</td>\n",
       "      <td>93.0</td>\n",
       "      <td>50.0</td>\n",
       "      <td>19.0</td>\n",
       "      <td>60.0</td>\n",
       "      <td>26.0</td>\n",
       "      <td>48.0</td>\n",
       "      <td>42.0</td>\n",
       "      <td>19.0</td>\n",
       "      <td>56.0</td>\n",
       "      <td>26.0</td>\n",
       "      <td>50.0</td>\n",
       "      <td>65.0</td>\n",
       "      <td>71.0</td>\n",
       "      <td>59.0</td>\n",
       "      <td>47.0</td>\n",
       "      <td>72.0</td>\n",
       "      <td>77.0</td>\n",
       "    </tr>\n",
       "  </tbody>\n",
       "</table>\n",
       "</div>"
      ],
      "text/plain": [
       "                    geo_id state county   tract  \\\n",
       "4731  1400000US06037101110    06    037  101110   \n",
       "4732  1400000US06037101122    06    037  101122   \n",
       "4733  1400000US06037101210    06    037  101210   \n",
       "4734  1400000US06037101220    06    037  101220   \n",
       "4735  1400000US06037101300    06    037  101300   \n",
       "\n",
       "                                                      name  households  \\\n",
       "4731  Census Tract 1011.10, Los Angeles County, California      1575.0   \n",
       "4732  Census Tract 1011.22, Los Angeles County, California      1312.0   \n",
       "4733  Census Tract 1012.10, Los Angeles County, California      2297.0   \n",
       "4734  Census Tract 1012.20, Los Angeles County, California      1357.0   \n",
       "4735     Census Tract 1013, Los Angeles County, California      1445.0   \n",
       "\n",
       "      0_9999  10000_14999  15000_19999  20000_24999  25000_29999  30000_34999  \\\n",
       "4731    86.0         91.0        101.0         44.0         55.0         78.0   \n",
       "4732    66.0         21.0          0.0         47.0         36.0         25.0   \n",
       "4733   271.0        135.0        278.0         39.0        108.0        169.0   \n",
       "4734    85.0        128.0        124.0         57.0         35.0         94.0   \n",
       "4735    78.0         18.0         59.0         33.0         68.0         33.0   \n",
       "\n",
       "      35000_39999  40000_44999  45000_49999  50000_59999  60000_74999  \\\n",
       "4731         67.0         46.0         99.0         99.0        107.0   \n",
       "4732          7.0          0.0         52.0         34.0        166.0   \n",
       "4733        112.0         53.0        178.0        163.0        165.0   \n",
       "4734         83.0        107.0         83.0         84.0         63.0   \n",
       "4735         17.0         83.0         32.0         86.0        147.0   \n",
       "\n",
       "      75000_99999  100000_124999  125000_149999  150000_199999  200000_more  \\\n",
       "4731        274.0          151.0           75.0          125.0         77.0   \n",
       "4732        298.0          119.0          146.0          115.0        180.0   \n",
       "4733        261.0          148.0          106.0           53.0         58.0   \n",
       "4734        122.0          114.0           68.0           69.0         41.0   \n",
       "4735        195.0          137.0          122.0          159.0        178.0   \n",
       "\n",
       "      households_error  0_9999_error  10000_14999_error  15000_19999_error  \\\n",
       "4731              90.0          71.0               65.0               68.0   \n",
       "4732              63.0          52.0               22.0               12.0   \n",
       "4733              98.0         127.0               69.0              112.0   \n",
       "4734              57.0          53.0               59.0               64.0   \n",
       "4735              93.0          50.0               19.0               60.0   \n",
       "\n",
       "      20000_24999_error  25000_29999_error  30000_34999_error  \\\n",
       "4731               41.0               45.0               67.0   \n",
       "4732               48.0               43.0               27.0   \n",
       "4733               41.0               76.0              109.0   \n",
       "4734               41.0               31.0               53.0   \n",
       "4735               26.0               48.0               42.0   \n",
       "\n",
       "      35000_39999_error  40000_44999_error  45000_49999_error  \\\n",
       "4731               56.0               37.0               53.0   \n",
       "4732               11.0               12.0               52.0   \n",
       "4733               74.0               47.0               96.0   \n",
       "4734               42.0               56.0               56.0   \n",
       "4735               19.0               56.0               26.0   \n",
       "\n",
       "      50000_59999_error  60000_74999_error  75000_99999_error  \\\n",
       "4731               56.0               56.0              103.0   \n",
       "4732               25.0               90.0              116.0   \n",
       "4733               78.0               79.0              119.0   \n",
       "4734               43.0               35.0               59.0   \n",
       "4735               50.0               65.0               71.0   \n",
       "\n",
       "      100000_124999_error  125000_149999_error  150000_199999_error  \\\n",
       "4731                 60.0                 48.0                 73.0   \n",
       "4732                 63.0                 73.0                 55.0   \n",
       "4733                 96.0                 65.0                 51.0   \n",
       "4734                 51.0                 44.0                 47.0   \n",
       "4735                 59.0                 47.0                 72.0   \n",
       "\n",
       "      200000_more_error  \n",
       "4731               40.0  \n",
       "4732               74.0  \n",
       "4733               59.0  \n",
       "4734               32.0  \n",
       "4735               77.0  "
      ]
     },
     "execution_count": 9,
     "metadata": {},
     "output_type": "execute_result"
    }
   ],
   "source": [
    "la_tracts.head()"
   ]
  },
  {
   "cell_type": "markdown",
   "id": "3b4bef3b-e7e8-4065-aa90-a509fae18efa",
   "metadata": {},
   "source": [
    "---"
   ]
  },
  {
   "cell_type": "markdown",
   "id": "0b548c3b-3109-4353-8695-7208f19af508",
   "metadata": {},
   "source": [
    "## Geography"
   ]
  },
  {
   "cell_type": "markdown",
   "id": "20da58ad-e4ab-4ce3-b8b0-890219378173",
   "metadata": {},
   "source": [
    "#### LA County tracts"
   ]
  },
  {
   "cell_type": "code",
   "execution_count": 10,
   "id": "ccf2269e-86f0-4829-be09-02f292e4e74a",
   "metadata": {},
   "outputs": [],
   "source": [
    "tracts_gdf = gpd.read_file('geo/processed/la_county_tracts.geojson')"
   ]
  },
  {
   "cell_type": "code",
   "execution_count": 11,
   "id": "fdb908ac-4c8f-4d30-8c67-fea88bc23eb8",
   "metadata": {},
   "outputs": [
    {
     "data": {
      "text/plain": [
       "<AxesSubplot:>"
      ]
     },
     "execution_count": 11,
     "metadata": {},
     "output_type": "execute_result"
    },
    {
     "data": {
      "image/png": "[encoded data removed]",
      "text/plain": [
       "<Figure size 432x288 with 1 Axes>"
      ]
     },
     "metadata": {
      "needs_background": "light"
     },
     "output_type": "display_data"
    }
   ],
   "source": [
    "tracts_gdf.plot()"
   ]
  },
  {
   "cell_type": "markdown",
   "id": "396221af-82dd-4a54-a286-60c02c6836af",
   "metadata": {},
   "source": [
    "#### Reproject tracts"
   ]
  },
  {
   "cell_type": "code",
   "execution_count": 12,
   "id": "b493cf62-b006-4f27-b218-27c421c5e19f",
   "metadata": {},
   "outputs": [],
   "source": [
    "tracts_gdf = tracts_gdf.to_crs(\"EPSG:4326\")"
   ]
  },
  {
   "cell_type": "code",
   "execution_count": 13,
   "id": "2e3f5c2c-3f91-4903-aedf-40193c097c75",
   "metadata": {},
   "outputs": [],
   "source": [
    "tracts_gdf.columns = tracts_gdf.columns.str.lower()"
   ]
  },
  {
   "cell_type": "markdown",
   "id": "eb475bf1-b92e-4be0-a3a0-9d1eb741fb30",
   "metadata": {},
   "source": [
    "#### City of Los Angeles neighborhoods"
   ]
  },
  {
   "cell_type": "code",
   "execution_count": 14,
   "id": "eb48c7c5-1053-45fb-9b3a-a0441450ffd9",
   "metadata": {},
   "outputs": [],
   "source": [
    "neighborhoods = gpd.read_file('geo/processed/la-neighborhoods.geojson')"
   ]
  },
  {
   "cell_type": "code",
   "execution_count": 15,
   "id": "49783fbf-206b-4a90-bab9-e87a0ff28618",
   "metadata": {},
   "outputs": [
    {
     "data": {
      "text/plain": [
       "<AxesSubplot:>"
      ]
     },
     "execution_count": 15,
     "metadata": {},
     "output_type": "execute_result"
    },
    {
     "data": {
      "image/png": "[encoded data removed]",
      "text/plain": [
       "<Figure size 432x288 with 1 Axes>"
      ]
     },
     "metadata": {
      "needs_background": "light"
     },
     "output_type": "display_data"
    }
   ],
   "source": [
    "neighborhoods.plot()"
   ]
  },
  {
   "cell_type": "code",
   "execution_count": 16,
   "id": "7b716495-4ffb-4dd3-9eb2-2c6b7292da47",
   "metadata": {},
   "outputs": [],
   "source": [
    "neighborhoods.columns = neighborhoods.columns.str.lower()"
   ]
  },
  {
   "cell_type": "markdown",
   "id": "1b155344-de88-402a-a3ba-1b85494d1c6d",
   "metadata": {},
   "source": [
    "#### Just the Downtown area"
   ]
  },
  {
   "cell_type": "code",
   "execution_count": 17,
   "id": "f5ae1c3f-41c6-4449-b589-53225f66426c",
   "metadata": {},
   "outputs": [],
   "source": [
    "downtown_gdf = neighborhoods[neighborhoods['name'] == 'Downtown']"
   ]
  },
  {
   "cell_type": "code",
   "execution_count": 18,
   "id": "ca6ca699-79f7-4a21-9f28-ff2e9574b042",
   "metadata": {},
   "outputs": [
    {
     "data": {
      "text/plain": [
       "<AxesSubplot:>"
      ]
     },
     "execution_count": 18,
     "metadata": {},
     "output_type": "execute_result"
    },
    {
     "data": {
      "image/png": "[encoded data removed]",
      "text/plain": [
       "<Figure size 432x288 with 1 Axes>"
      ]
     },
     "metadata": {
      "needs_background": "light"
     },
     "output_type": "display_data"
    }
   ],
   "source": [
    "downtown_gdf.plot()"
   ]
  },
  {
   "cell_type": "markdown",
   "id": "300bb3ad-f95c-43f6-b920-786821424af7",
   "metadata": {},
   "source": [
    "#### Reproject downtown"
   ]
  },
  {
   "cell_type": "code",
   "execution_count": 19,
   "id": "93f6fd77-6cad-4060-a6e2-2e20fdba5ae9",
   "metadata": {},
   "outputs": [],
   "source": [
    "downtown_gdf = downtown_gdf.to_crs(\"EPSG:4326\")"
   ]
  },
  {
   "cell_type": "markdown",
   "id": "da12675a-06f9-4738-b5cb-dee268373ec2",
   "metadata": {},
   "source": [
    "---"
   ]
  },
  {
   "cell_type": "markdown",
   "id": "f750a42f-fbf0-4a35-aaf6-b31292abd441",
   "metadata": {},
   "source": [
    "## Just downtown tracts"
   ]
  },
  {
   "cell_type": "markdown",
   "id": "0be835cc-8998-4b84-820b-49ca6b98b5fa",
   "metadata": {},
   "source": [
    "#### First, merge the countywide tracts income values to tracts geo"
   ]
  },
  {
   "cell_type": "code",
   "execution_count": 20,
   "id": "1e120b72-f989-41ea-9310-fccd5abe9112",
   "metadata": {},
   "outputs": [],
   "source": [
    "la_income_tracts_gdf = pd.merge(tracts_gdf, la_tracts, left_on='tractce10', right_on='tract')"
   ]
  },
  {
   "cell_type": "code",
   "execution_count": 21,
   "id": "1a9011cc-46d8-4cac-a350-844c759d3f84",
   "metadata": {},
   "outputs": [
    {
     "data": {
      "text/plain": [
       "2345"
      ]
     },
     "execution_count": 21,
     "metadata": {},
     "output_type": "execute_result"
    }
   ],
   "source": [
    "len(la_income_tracts_gdf)"
   ]
  },
  {
   "cell_type": "markdown",
   "id": "806c06be-9222-4104-90b1-5d5867ff5a03",
   "metadata": {},
   "source": [
    "#### Now, use a spatial join to grab only those around downtown"
   ]
  },
  {
   "cell_type": "code",
   "execution_count": 22,
   "id": "903a1300-3b6d-469e-b06a-168754687694",
   "metadata": {},
   "outputs": [],
   "source": [
    "income_tracts_inside_downtown_gdf = gpd.sjoin(la_income_tracts_gdf, downtown_gdf, predicate='within')\n",
    "income_tracts_around_downtown_gdf = gpd.sjoin(la_income_tracts_gdf, downtown_gdf, predicate='overlaps')"
   ]
  },
  {
   "cell_type": "code",
   "execution_count": 23,
   "id": "26f4f7ad-f651-4288-814b-769511ac6201",
   "metadata": {},
   "outputs": [
    {
     "data": {
      "text/plain": [
       "11"
      ]
     },
     "execution_count": 23,
     "metadata": {},
     "output_type": "execute_result"
    }
   ],
   "source": [
    "len(income_tracts_inside_downtown_gdf)"
   ]
  },
  {
   "cell_type": "markdown",
   "id": "ee7da9ae-b456-410f-a05a-da3c662edd79",
   "metadata": {},
   "source": [
    "#### Tracts within Downtown"
   ]
  },
  {
   "cell_type": "code",
   "execution_count": 24,
   "id": "7bbdea1d-2a9a-4b74-8f28-f99a9084222e",
   "metadata": {},
   "outputs": [
    {
     "data": {
      "text/plain": [
       "<AxesSubplot:>"
      ]
     },
     "execution_count": 24,
     "metadata": {},
     "output_type": "execute_result"
    },
    {
     "data": {
      "image/png": "[encoded data removed]",
      "text/plain": [
       "<Figure size 432x288 with 1 Axes>"
      ]
     },
     "metadata": {
      "needs_background": "light"
     },
     "output_type": "display_data"
    }
   ],
   "source": [
    "income_tracts_inside_downtown_gdf.plot()"
   ]
  },
  {
   "cell_type": "markdown",
   "id": "b0b6837c-98d6-49eb-ae5c-71b89829eb8b",
   "metadata": {},
   "source": [
    "#### Tracts contiguous to Downtown"
   ]
  },
  {
   "cell_type": "code",
   "execution_count": 25,
   "id": "2693c5f5-ca65-4c2f-8177-b8cf8664089c",
   "metadata": {},
   "outputs": [
    {
     "data": {
      "text/plain": [
       "<AxesSubplot:>"
      ]
     },
     "execution_count": 25,
     "metadata": {},
     "output_type": "execute_result"
    },
    {
     "data": {
      "image/png": "[encoded data removed]",
      "text/plain": [
       "<Figure size 432x288 with 1 Axes>"
      ]
     },
     "metadata": {
      "needs_background": "light"
     },
     "output_type": "display_data"
    }
   ],
   "source": [
    "income_tracts_around_downtown_gdf.plot()"
   ]
  },
  {
   "cell_type": "markdown",
   "id": "a5e8755f-6f8a-42ca-bfc2-702e3f07d8a3",
   "metadata": {},
   "source": [
    "#### Both together in one geodataframe"
   ]
  },
  {
   "cell_type": "code",
   "execution_count": 26,
   "id": "f5360301-27bf-4e5b-9c2e-197d028534cf",
   "metadata": {},
   "outputs": [],
   "source": [
    "income_tracts_in_around_downtown_gdf = gpd.GeoDataFrame( pd.concat([income_tracts_inside_downtown_gdf, income_tracts_around_downtown_gdf], ignore_index=True) )"
   ]
  },
  {
   "cell_type": "code",
   "execution_count": 27,
   "id": "92435044-55ca-47fd-ba75-4d9496b6eecb",
   "metadata": {},
   "outputs": [
    {
     "data": {
      "text/plain": [
       "<AxesSubplot:>"
      ]
     },
     "execution_count": 27,
     "metadata": {},
     "output_type": "execute_result"
    },
    {
     "data": {
      "image/png": "[encoded data removed]",
      "text/plain": [
       "<Figure size 432x288 with 1 Axes>"
      ]
     },
     "metadata": {
      "needs_background": "light"
     },
     "output_type": "display_data"
    }
   ],
   "source": [
    "income_tracts_in_around_downtown_gdf.plot()"
   ]
  },
  {
   "cell_type": "code",
   "execution_count": 28,
   "id": "ca4ab326-5ae6-49e9-a62c-e4b5d14252fe",
   "metadata": {},
   "outputs": [],
   "source": [
    "income_tracts_in_around_downtown_gdf.drop(['geometry'], axis=1).to_csv('../../usc/students/gharmon/income_tracts_in_around_downtown.csv', index=False)"
   ]
  },
  {
   "cell_type": "code",
   "execution_count": 29,
   "id": "faf9ce41-ff72-4e20-8642-1333205b5c4a",
   "metadata": {},
   "outputs": [],
   "source": [
    "income_tracts_in_around_downtown_gdf.to_file('../../usc/students/gharmon/income_tracts_in_around_downtown.geojson', driver='GeoJSON')"
   ]
  }
 ],
 "metadata": {
  "kernelspec": {
   "display_name": "Python 3 (ipykernel)",
   "language": "python",
   "name": "python3"
  },
  "language_info": {
   "codemirror_mode": {
    "name": "ipython",
    "version": 3
   },
   "file_extension": ".py",
   "mimetype": "text/x-python",
   "name": "python",
   "nbconvert_exporter": "python",
   "pygments_lexer": "ipython3",
   "version": "3.8.9"
  }
 },
 "nbformat": 4,
 "nbformat_minor": 5
}
