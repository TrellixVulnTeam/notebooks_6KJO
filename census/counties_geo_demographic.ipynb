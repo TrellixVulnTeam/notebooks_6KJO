{
 "cells": [
  {
   "cell_type": "markdown",
   "id": "d0002a94-ea54-4b22-a39a-7e6334591d7c",
   "metadata": {},
   "source": [
    "# USA Counties ESRI"
   ]
  },
  {
   "cell_type": "code",
   "execution_count": 1,
   "id": "f8dc3351-5779-4528-befe-15fcd203ebd1",
   "metadata": {},
   "outputs": [],
   "source": [
    "import pandas as pd\n",
    "import geopandas as gpd"
   ]
  },
  {
   "cell_type": "code",
   "execution_count": 2,
   "id": "4f725a6f-8af3-44e9-8d87-5aa55354f3b4",
   "metadata": {},
   "outputs": [],
   "source": [
    "gdf = gpd.read_file('/Users/stiles/data/gis/esri/USA_Counties.geojson')"
   ]
  },
  {
   "cell_type": "code",
   "execution_count": 3,
   "id": "733eb45a-4e5e-43c9-ae09-b2852f44c1ee",
   "metadata": {},
   "outputs": [],
   "source": [
    "gdf.columns = gdf.columns.str.lower()"
   ]
  },
  {
   "cell_type": "code",
   "execution_count": 4,
   "id": "a6bbe583-70a6-4521-b84c-eb66fcdc50c7",
   "metadata": {},
   "outputs": [],
   "source": [
    "df = gdf[['name', 'state_name', 'state_fips', 'cnty_fips',\n",
    "       'fips', 'population', 'white',\n",
    "       'black', 'ameri_es', 'asian', 'hawn_pi', 'hispanic', 'other',\n",
    "       'mult_race', 'ave_hh_sz', 'hsehld_1_m',\n",
    "       'hsehld_1_f', 'marhh_chd', 'marhh_no_c', 'mhh_child', 'fhh_child',\n",
    "       'families', 'ave_fam_sz', 'hse_units', 'vacant', 'owner_occ',\n",
    "       'renter_occ', 'no_farms12', 'ave_size12', 'crop_acr12', 'ave_sale12',\n",
    "       'sqmi', 'no_farms17', 'ave_size17', 'crop_acr17', 'ave_sale17',\n",
    "       'shape_length', 'shape_area']].copy()"
   ]
  },
  {
   "cell_type": "code",
   "execution_count": 7,
   "id": "925908a3-352f-4d67-9a25-9ce87f4ac74a",
   "metadata": {},
   "outputs": [],
   "source": [
    "df[df['state_name'] == 'California'].to_csv('../../usc/data/raw/ca_counties_demographics.csv', index=False)"
   ]
  },
  {
   "cell_type": "code",
   "execution_count": null,
   "id": "c1adee4b-2533-484f-a130-a6b998daedc5",
   "metadata": {},
   "outputs": [],
   "source": []
  }
 ],
 "metadata": {
  "kernelspec": {
   "display_name": "Python 3",
   "language": "python",
   "name": "python3"
  },
  "language_info": {
   "codemirror_mode": {
    "name": "ipython",
    "version": 3
   },
   "file_extension": ".py",
   "mimetype": "text/x-python",
   "name": "python",
   "nbconvert_exporter": "python",
   "pygments_lexer": "ipython3",
   "version": "3.8.8"
  }
 },
 "nbformat": 4,
 "nbformat_minor": 5
}
