{
 "cells": [
  {
   "cell_type": "markdown",
   "id": "ee49493b-07c4-4695-99fa-d579f1fe188e",
   "metadata": {},
   "source": [
    "# Get data for population change, by county, 1990-2020"
   ]
  },
  {
   "cell_type": "markdown",
   "id": "7eaffa21-e8b6-4c1a-bffb-6b7ee651324e",
   "metadata": {},
   "source": [
    "#### Import Python tools"
   ]
  },
  {
   "cell_type": "code",
   "execution_count": 1,
   "id": "773d9e69-164e-4c87-ac5a-8ca57686b522",
   "metadata": {},
   "outputs": [],
   "source": [
    "%load_ext lab_black"
   ]
  },
  {
   "cell_type": "code",
   "execution_count": 2,
   "id": "d1ebcc8d-23e7-4a98-829d-119c01f99977",
   "metadata": {},
   "outputs": [],
   "source": [
    "import pandas as pd\n",
    "import urllib.request, json\n",
    "import us\n",
    "import time"
   ]
  },
  {
   "cell_type": "code",
   "execution_count": 3,
   "id": "5f78c18d-20a1-4446-a24e-2239504c13fd",
   "metadata": {
    "tags": []
   },
   "outputs": [],
   "source": [
    "pd.options.display.max_columns = 100\n",
    "pd.options.display.max_rows = 100"
   ]
  },
  {
   "cell_type": "markdown",
   "id": "4bc6fc38-767f-4860-9197-e9bc292573e1",
   "metadata": {},
   "source": [
    "---"
   ]
  },
  {
   "cell_type": "markdown",
   "id": "882486b3-c138-49da-90d3-ec00c959a9de",
   "metadata": {},
   "source": [
    "## Get data"
   ]
  },
  {
   "cell_type": "markdown",
   "id": "3007cb91-c1b4-47fb-9466-4c4dd9619222",
   "metadata": {},
   "source": [
    "#### Read redistricting population totals from the [U.S. Census API](https://www.census.gov/data/developers/data-sets/decennial-census.2020.html#list-tab-X1A4XQYAKRNL6H3EPY)"
   ]
  },
  {
   "cell_type": "code",
   "execution_count": 4,
   "id": "1823a7bb-7234-433f-9bb7-d40f42ec0c25",
   "metadata": {},
   "outputs": [],
   "source": [
    "url_2000 = (\n",
    "    \"https://api.census.gov/data/2000/dec/sf1?get=P001001,NAME&for=county:*&in=state:*\"\n",
    ")\n",
    "url_2010 = (\n",
    "    \"https://api.census.gov/data/2010/dec/sf1?get=P001001,NAME&for=county:*&in=state:*\"\n",
    ")\n",
    "url_2020 = (\n",
    "    \"https://api.census.gov/data/2020/dec/pl?get=P1_001N,NAME&for=county:*&in=state:*\"\n",
    ")"
   ]
  },
  {
   "cell_type": "markdown",
   "id": "aa9093fb-7835-4964-85f3-4a733f51d152",
   "metadata": {},
   "source": [
    "#### Loop through the URLs, snag returned data and place in a list of dataframes"
   ]
  },
  {
   "cell_type": "code",
   "execution_count": 5,
   "id": "9d5da7e7-1c21-4be0-9840-e0b22ff2558e",
   "metadata": {},
   "outputs": [],
   "source": [
    "# flattened_list = [item for sublist in nested_list for item in sublist]"
   ]
  },
  {
   "cell_type": "code",
   "execution_count": 6,
   "id": "95b51e0d-3cf0-41d2-868e-d949d61b8d9b",
   "metadata": {},
   "outputs": [],
   "source": [
    "# flattened_list = []\n",
    "# for sublist in nested_list:\n",
    "#     for item in sublist:\n",
    "#         flattened_list.append(item)"
   ]
  },
  {
   "cell_type": "code",
   "execution_count": 23,
   "id": "4954062d-94ce-4483-adc2-501b489b2f41",
   "metadata": {},
   "outputs": [],
   "source": [
    "census_urls = [url_2000, url_2010, url_2020]"
   ]
  },
  {
   "cell_type": "code",
   "execution_count": 7,
   "id": "305b85a2-c9cd-45e2-baad-26adfe52c123",
   "metadata": {},
   "outputs": [
    {
     "name": "stdout",
     "output_type": "stream",
     "text": [
      "CPU times: user 215 ms, sys: 24.9 ms, total: 240 ms\n",
      "Wall time: 21.9 s\n"
     ]
    }
   ],
   "source": [
    "%%time\n",
    "\n",
    "dataframes = []\n",
    "for u in census_urls:\n",
    "    with urllib.request.urlopen(u) as url:\n",
    "        dataframes.append(\n",
    "            pd.DataFrame(\n",
    "                json.loads(url.read().decode()),\n",
    "                columns=[\"population\", \"county_name\", \"state_fips\", \"county_fips\"],\n",
    "            ).assign(\n",
    "                year=u.replace(\"https://api.census.gov/data/\", \"\")\n",
    "                .replace(\"/dec/pl?get=P1_001N,NAME&for=county:*&in=state:*\", \"\")\n",
    "                .replace(\"/dec/sf1?get=P001001,NAME&for=county:*&in=state:*\", \"\")\n",
    "            )\n",
    "        )"
   ]
  },
  {
   "cell_type": "markdown",
   "id": "da08679c-a12c-47a3-a9d4-1ebd02f9b5a8",
   "metadata": {},
   "source": [
    "#### The bureau doesn't have an API for 1990, so read manually"
   ]
  },
  {
   "cell_type": "code",
   "execution_count": 8,
   "id": "7fc1f6af-6bcc-4d62-9080-c47c63d13694",
   "metadata": {},
   "outputs": [],
   "source": [
    "df_1990 = pd.read_csv(\n",
    "    \"data/raw/us_census_redist_1990_2000_change.csv\", dtype={\"fips\": str}\n",
    ")"
   ]
  },
  {
   "cell_type": "markdown",
   "id": "9d483ed2-4816-4fb6-9822-542e8a029001",
   "metadata": {},
   "source": [
    "#### The data are formatted differently, so change to match API "
   ]
  },
  {
   "cell_type": "code",
   "execution_count": 9,
   "id": "95b4f325-71a3-48bc-b45c-773a505de034",
   "metadata": {},
   "outputs": [],
   "source": [
    "postal_to_name = us.states.mapping(\"abbr\", \"name\")\n",
    "df_1990[\"state_name\"] = df_1990[\"state_abbr\"].map(postal_to_name)"
   ]
  },
  {
   "cell_type": "code",
   "execution_count": 10,
   "id": "5798fb76-5095-40d6-a3ae-28a8ba4db605",
   "metadata": {},
   "outputs": [],
   "source": [
    "df_1990[\"state_fips\"] = df_1990[\"fips\"].str[:2]\n",
    "df_1990[\"county_fips\"] = df_1990[\"fips\"].str[2:]"
   ]
  },
  {
   "cell_type": "code",
   "execution_count": 11,
   "id": "2134392b-31d9-4930-b5cd-21d55c8518fd",
   "metadata": {},
   "outputs": [],
   "source": [
    "df_1990[\"county_name\"] = df_1990[\"county_name\"] + \", \" + df_1990[\"state_name\"]"
   ]
  },
  {
   "cell_type": "code",
   "execution_count": 12,
   "id": "bf887bee-f262-482f-bae0-8f4543b5ceef",
   "metadata": {},
   "outputs": [],
   "source": [
    "df_1990.drop([\"state_name\", \"state_abbr\", \"fips\"], axis=1, inplace=True)"
   ]
  },
  {
   "cell_type": "code",
   "execution_count": 13,
   "id": "46089f62-61b9-4a42-9ca6-310e01ceb514",
   "metadata": {},
   "outputs": [
    {
     "data": {
      "text/html": [
       "<div>\n",
       "<style scoped>\n",
       "    .dataframe tbody tr th:only-of-type {\n",
       "        vertical-align: middle;\n",
       "    }\n",
       "\n",
       "    .dataframe tbody tr th {\n",
       "        vertical-align: top;\n",
       "    }\n",
       "\n",
       "    .dataframe thead th {\n",
       "        text-align: right;\n",
       "    }\n",
       "</style>\n",
       "<table border=\"1\" class=\"dataframe\">\n",
       "  <thead>\n",
       "    <tr style=\"text-align: right;\">\n",
       "      <th></th>\n",
       "      <th>county_name</th>\n",
       "      <th>population</th>\n",
       "      <th>year</th>\n",
       "      <th>state_fips</th>\n",
       "      <th>county_fips</th>\n",
       "    </tr>\n",
       "  </thead>\n",
       "  <tbody>\n",
       "    <tr>\n",
       "      <th>0</th>\n",
       "      <td>Maricopa County, Arizona</td>\n",
       "      <td>2122101</td>\n",
       "      <td>1990</td>\n",
       "      <td>04</td>\n",
       "      <td>013</td>\n",
       "    </tr>\n",
       "    <tr>\n",
       "      <th>1</th>\n",
       "      <td>Los Angeles County, California</td>\n",
       "      <td>8863164</td>\n",
       "      <td>1990</td>\n",
       "      <td>06</td>\n",
       "      <td>037</td>\n",
       "    </tr>\n",
       "    <tr>\n",
       "      <th>2</th>\n",
       "      <td>Clark County, Nevada</td>\n",
       "      <td>741459</td>\n",
       "      <td>1990</td>\n",
       "      <td>32</td>\n",
       "      <td>003</td>\n",
       "    </tr>\n",
       "    <tr>\n",
       "      <th>3</th>\n",
       "      <td>Harris County, Texas</td>\n",
       "      <td>2818199</td>\n",
       "      <td>1990</td>\n",
       "      <td>48</td>\n",
       "      <td>201</td>\n",
       "    </tr>\n",
       "    <tr>\n",
       "      <th>4</th>\n",
       "      <td>Orange County, California</td>\n",
       "      <td>2410556</td>\n",
       "      <td>1990</td>\n",
       "      <td>06</td>\n",
       "      <td>059</td>\n",
       "    </tr>\n",
       "  </tbody>\n",
       "</table>\n",
       "</div>"
      ],
      "text/plain": [
       "                      county_name  population  year state_fips county_fips\n",
       "0        Maricopa County, Arizona     2122101  1990         04         013\n",
       "1  Los Angeles County, California     8863164  1990         06         037\n",
       "2            Clark County, Nevada      741459  1990         32         003\n",
       "3            Harris County, Texas     2818199  1990         48         201\n",
       "4       Orange County, California     2410556  1990         06         059"
      ]
     },
     "execution_count": 13,
     "metadata": {},
     "output_type": "execute_result"
    }
   ],
   "source": [
    "df_1990.head()"
   ]
  },
  {
   "cell_type": "markdown",
   "id": "d1c805c5-ea08-4b7d-b27f-a963de3c959a",
   "metadata": {},
   "source": [
    "#### Concatenate the list of dataframes"
   ]
  },
  {
   "cell_type": "code",
   "execution_count": 14,
   "id": "f69954f5-957c-492f-a433-bc8a9e5a7c70",
   "metadata": {},
   "outputs": [],
   "source": [
    "src_df = pd.concat(dataframes).reset_index(drop=True)\n",
    "src = pd.concat([src_df, df_1990]).reset_index(drop=True)"
   ]
  },
  {
   "cell_type": "code",
   "execution_count": 15,
   "id": "e09413d8-9f84-4933-a3fe-0b73297345d3",
   "metadata": {},
   "outputs": [
    {
     "data": {
      "text/plain": [
       "year\n",
       "2010    3222\n",
       "2020    3222\n",
       "2000    3220\n",
       "1990    3141\n",
       "dtype: int64"
      ]
     },
     "execution_count": 15,
     "metadata": {},
     "output_type": "execute_result"
    }
   ],
   "source": [
    "src.value_counts(\"year\")"
   ]
  },
  {
   "cell_type": "markdown",
   "id": "5138a9e3-5ce7-4508-849e-2c91a5e0debe",
   "metadata": {},
   "source": [
    "#### Get rid of headers we don't need"
   ]
  },
  {
   "cell_type": "code",
   "execution_count": 16,
   "id": "0adcee11-ed6d-4309-be80-abb91be989f2",
   "metadata": {},
   "outputs": [],
   "source": [
    "df = src[src[\"county_name\"] != \"NAME\"].copy()"
   ]
  },
  {
   "cell_type": "markdown",
   "id": "d2f99603-4be0-483e-9fd6-bff2d55af331",
   "metadata": {},
   "source": [
    "#### Get state from the county column"
   ]
  },
  {
   "cell_type": "code",
   "execution_count": 17,
   "id": "caa7aa45-c32c-495b-9031-72c740c0fab3",
   "metadata": {},
   "outputs": [],
   "source": [
    "df[[\"county_name\", \"state_name\"]] = df[\"county_name\"].str.split(\", \", expand=True)"
   ]
  },
  {
   "cell_type": "markdown",
   "id": "849c26fa-34a7-4253-9f45-ecdcdd8af290",
   "metadata": {},
   "source": [
    "#### AP states"
   ]
  },
  {
   "cell_type": "code",
   "execution_count": 18,
   "id": "4c456aa1-4853-4708-aa5f-4fdd24cbd0f8",
   "metadata": {},
   "outputs": [],
   "source": [
    "name_to_ap = us.states.mapping(\"name\", \"ap_abbr\")"
   ]
  },
  {
   "cell_type": "code",
   "execution_count": 19,
   "id": "fc48ff7c-3ff9-499d-a86f-9ba6f5a35b23",
   "metadata": {},
   "outputs": [],
   "source": [
    "df[\"ap_name\"] = df[\"state_name\"].map(name_to_ap)"
   ]
  },
  {
   "cell_type": "markdown",
   "id": "c4e5afa8-8b57-4c31-92f3-3d14885e6144",
   "metadata": {},
   "source": [
    "#### Re-order and slim the dataframe"
   ]
  },
  {
   "cell_type": "code",
   "execution_count": 20,
   "id": "942ec172-8823-430c-93ed-41136fbb95db",
   "metadata": {},
   "outputs": [],
   "source": [
    "df_slim = df[\n",
    "    [\n",
    "        \"state_fips\",\n",
    "        \"county_fips\",\n",
    "        \"year\",\n",
    "        \"county_name\",\n",
    "        \"state_name\",\n",
    "        \"ap_name\",\n",
    "        \"population\",\n",
    "    ]\n",
    "].copy()"
   ]
  },
  {
   "cell_type": "markdown",
   "id": "b7bc7058-e305-4103-a167-ad2852f66356",
   "metadata": {},
   "source": [
    "#### Did we get enough counties for each year? "
   ]
  },
  {
   "cell_type": "code",
   "execution_count": 21,
   "id": "4eed68f6-dafb-4073-ad81-a63add812513",
   "metadata": {},
   "outputs": [
    {
     "data": {
      "text/plain": [
       "2010    3221\n",
       "2020    3221\n",
       "2000    3219\n",
       "1990    3141\n",
       "Name: year, dtype: int64"
      ]
     },
     "execution_count": 21,
     "metadata": {},
     "output_type": "execute_result"
    }
   ],
   "source": [
    "df_slim.year.value_counts()"
   ]
  },
  {
   "cell_type": "markdown",
   "id": "404241ed-1d54-4f3a-9c0a-6d140dd4fac5",
   "metadata": {},
   "source": [
    "---"
   ]
  },
  {
   "cell_type": "markdown",
   "id": "22093b29-ac1c-4e0d-9195-8beb51edaaf6",
   "metadata": {},
   "source": [
    "## Export"
   ]
  },
  {
   "cell_type": "markdown",
   "id": "909305ec-8c64-497a-b5c0-e73401e392f5",
   "metadata": {},
   "source": [
    "#### All three years. All the counties. "
   ]
  },
  {
   "cell_type": "code",
   "execution_count": 22,
   "id": "eb927766-dccb-4c6f-ba2b-880bc98ddec3",
   "metadata": {},
   "outputs": [],
   "source": [
    "df_slim.to_csv(\n",
    "    \"data/processed/decennial_census_county_pop_1990-00-10-20.csv\", index=False\n",
    ")"
   ]
  }
 ],
 "metadata": {
  "kernelspec": {
   "display_name": "Python 3 (ipykernel)",
   "language": "python",
   "name": "python3"
  },
  "language_info": {
   "codemirror_mode": {
    "name": "ipython",
    "version": 3
   },
   "file_extension": ".py",
   "mimetype": "text/x-python",
   "name": "python",
   "nbconvert_exporter": "python",
   "pygments_lexer": "ipython3",
   "version": "3.9.9"
  }
 },
 "nbformat": 4,
 "nbformat_minor": 5
}
