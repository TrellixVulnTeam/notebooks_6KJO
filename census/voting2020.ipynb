{
 "cells": [
  {
   "cell_type": "markdown",
   "metadata": {},
   "source": [
    "# Voting and registration in the 2020 election"
   ]
  },
  {
   "cell_type": "code",
   "execution_count": 4,
   "metadata": {},
   "outputs": [],
   "source": [
    "%load_ext lab_black"
   ]
  },
  {
   "cell_type": "code",
   "execution_count": 5,
   "metadata": {},
   "outputs": [],
   "source": [
    "import pandas as pd\n",
    "import geopandas as gpd\n",
    "import altair as alt\n",
    "import matplotlib.pyplot as plt\n",
    "import jenkspy\n",
    "import json\n",
    "\n",
    "%matplotlib inline"
   ]
  },
  {
   "cell_type": "code",
   "execution_count": 7,
   "metadata": {},
   "outputs": [
    {
     "data": {
      "text/plain": [
       "DataTransformerRegistry.enable('default')"
      ]
     },
     "execution_count": 7,
     "metadata": {},
     "output_type": "execute_result"
    }
   ],
   "source": [
    "pd.options.display.max_columns = 50\n",
    "pd.options.display.max_rows = 1000\n",
    "alt.data_transformers.disable_max_rows()"
   ]
  },
  {
   "cell_type": "markdown",
   "metadata": {},
   "source": [
    "### Get voting data from the U.S. Census"
   ]
  },
  {
   "cell_type": "code",
   "execution_count": 8,
   "metadata": {},
   "outputs": [],
   "source": [
    "# https://www.census.gov/data/tables/time-series/demo/voting-and-registration/p20-585.html"
   ]
  },
  {
   "cell_type": "code",
   "execution_count": 9,
   "metadata": {},
   "outputs": [],
   "source": [
    "# table04a: Reported Voting and Registration for States: November 2020"
   ]
  },
  {
   "cell_type": "code",
   "execution_count": 10,
   "metadata": {},
   "outputs": [],
   "source": [
    "# table04c: Reported Voting and Registration, by Age, for States: November 2020"
   ]
  },
  {
   "cell_type": "code",
   "execution_count": 11,
   "metadata": {},
   "outputs": [],
   "source": [
    "base_url = \"https://www2.census.gov/programs-surveys/cps/tables/p20/585/\""
   ]
  },
  {
   "cell_type": "code",
   "execution_count": 12,
   "metadata": {},
   "outputs": [],
   "source": [
    "tables = [\"table04a\", \"table04b\", \"table04c\"]"
   ]
  },
  {
   "cell_type": "markdown",
   "metadata": {},
   "source": [
    "### States"
   ]
  },
  {
   "cell_type": "code",
   "execution_count": 9,
   "metadata": {},
   "outputs": [
    {
     "name": "stderr",
     "output_type": "stream",
     "text": [
      "/Users/mhustiles/.local/share/virtualenvs/notebooks-xu8v5Vvv/lib/python3.8/site-packages/openpyxl/worksheet/header_footer.py:48: UserWarning: Cannot parse header or footer so it will be ignored\n",
      "  warn(\"\"\"Cannot parse header or footer so it will be ignored\"\"\")\n"
     ]
    }
   ],
   "source": [
    "states = pd.read_excel(\n",
    "    \"https://www2.census.gov/programs-surveys/cps/tables/p20/585/table04a.xlsx\",\n",
    "    skiprows=6,\n",
    "    skipfooter=7,\n",
    ")"
   ]
  },
  {
   "cell_type": "code",
   "execution_count": 10,
   "metadata": {},
   "outputs": [],
   "source": [
    "states.columns = [\n",
    "    \"state\",\n",
    "    \"tot_pop\",\n",
    "    \"tot_czn_pop\",\n",
    "    \"tot_reg\",\n",
    "    \"pct_reg\",\n",
    "    \"pct_reg_moe\",\n",
    "    \"pct_reg_czn\",\n",
    "    \"pct_reg_czn_moe\",\n",
    "    \"tot_voted\",\n",
    "    \"pct_voted\",\n",
    "    \"pct_voted_moe\",\n",
    "    \"pct_voted_czn\",\n",
    "    \"pct_voted_czn_moe\",\n",
    "]"
   ]
  },
  {
   "cell_type": "code",
   "execution_count": 11,
   "metadata": {},
   "outputs": [],
   "source": [
    "cols = [\"tot_pop\", \"tot_czn_pop\", \"tot_czn_pop\", \"tot_voted\"]"
   ]
  },
  {
   "cell_type": "code",
   "execution_count": 12,
   "metadata": {},
   "outputs": [],
   "source": [
    "states[\"state\"] = states[\"state\"].str.title().str.replace(\" Of \", \" of \", regex=False)"
   ]
  },
  {
   "cell_type": "code",
   "execution_count": 13,
   "metadata": {},
   "outputs": [],
   "source": [
    "states[[\"tot_pop\", \"tot_czn_pop\", \"tot_reg\", \"tot_voted\"]] = (\n",
    "    states[[\"tot_pop\", \"tot_czn_pop\", \"tot_reg\", \"tot_voted\"]] * 1000\n",
    ")"
   ]
  },
  {
   "cell_type": "code",
   "execution_count": 14,
   "metadata": {},
   "outputs": [
    {
     "data": {
      "text/html": [
       "<div>\n",
       "<style scoped>\n",
       "    .dataframe tbody tr th:only-of-type {\n",
       "        vertical-align: middle;\n",
       "    }\n",
       "\n",
       "    .dataframe tbody tr th {\n",
       "        vertical-align: top;\n",
       "    }\n",
       "\n",
       "    .dataframe thead th {\n",
       "        text-align: right;\n",
       "    }\n",
       "</style>\n",
       "<table border=\"1\" class=\"dataframe\">\n",
       "  <thead>\n",
       "    <tr style=\"text-align: right;\">\n",
       "      <th></th>\n",
       "      <th>state</th>\n",
       "      <th>tot_pop</th>\n",
       "      <th>tot_czn_pop</th>\n",
       "      <th>tot_reg</th>\n",
       "      <th>pct_reg</th>\n",
       "      <th>pct_reg_moe</th>\n",
       "      <th>pct_reg_czn</th>\n",
       "      <th>pct_reg_czn_moe</th>\n",
       "      <th>tot_voted</th>\n",
       "      <th>pct_voted</th>\n",
       "      <th>pct_voted_moe</th>\n",
       "      <th>pct_voted_czn</th>\n",
       "      <th>pct_voted_czn_moe</th>\n",
       "    </tr>\n",
       "  </thead>\n",
       "  <tbody>\n",
       "    <tr>\n",
       "      <th>8</th>\n",
       "      <td>District of Columbia</td>\n",
       "      <td>576000</td>\n",
       "      <td>534000</td>\n",
       "      <td>464000</td>\n",
       "      <td>80.5</td>\n",
       "      <td>2.7</td>\n",
       "      <td>86.9</td>\n",
       "      <td>2.4</td>\n",
       "      <td>448000</td>\n",
       "      <td>77.8</td>\n",
       "      <td>2.8</td>\n",
       "      <td>84.0</td>\n",
       "      <td>2.6</td>\n",
       "    </tr>\n",
       "    <tr>\n",
       "      <th>30</th>\n",
       "      <td>New Jersey</td>\n",
       "      <td>6801000</td>\n",
       "      <td>5921000</td>\n",
       "      <td>5008000</td>\n",
       "      <td>73.6</td>\n",
       "      <td>2.2</td>\n",
       "      <td>84.6</td>\n",
       "      <td>1.9</td>\n",
       "      <td>4638000</td>\n",
       "      <td>68.2</td>\n",
       "      <td>2.3</td>\n",
       "      <td>78.3</td>\n",
       "      <td>2.2</td>\n",
       "    </tr>\n",
       "    <tr>\n",
       "      <th>23</th>\n",
       "      <td>Minnesota</td>\n",
       "      <td>4339000</td>\n",
       "      <td>4142000</td>\n",
       "      <td>3436000</td>\n",
       "      <td>79.2</td>\n",
       "      <td>2.5</td>\n",
       "      <td>82.9</td>\n",
       "      <td>2.4</td>\n",
       "      <td>3225000</td>\n",
       "      <td>74.3</td>\n",
       "      <td>2.7</td>\n",
       "      <td>77.9</td>\n",
       "      <td>2.7</td>\n",
       "    </tr>\n",
       "    <tr>\n",
       "      <th>37</th>\n",
       "      <td>Oregon</td>\n",
       "      <td>3369000</td>\n",
       "      <td>3242000</td>\n",
       "      <td>2590000</td>\n",
       "      <td>76.9</td>\n",
       "      <td>2.9</td>\n",
       "      <td>79.9</td>\n",
       "      <td>2.8</td>\n",
       "      <td>2402000</td>\n",
       "      <td>71.3</td>\n",
       "      <td>3.1</td>\n",
       "      <td>74.1</td>\n",
       "      <td>3.0</td>\n",
       "    </tr>\n",
       "    <tr>\n",
       "      <th>29</th>\n",
       "      <td>New Hampshire</td>\n",
       "      <td>1101000</td>\n",
       "      <td>1077000</td>\n",
       "      <td>843000</td>\n",
       "      <td>76.6</td>\n",
       "      <td>2.9</td>\n",
       "      <td>78.3</td>\n",
       "      <td>2.8</td>\n",
       "      <td>797000</td>\n",
       "      <td>72.4</td>\n",
       "      <td>3.0</td>\n",
       "      <td>74.0</td>\n",
       "      <td>3.0</td>\n",
       "    </tr>\n",
       "  </tbody>\n",
       "</table>\n",
       "</div>"
      ],
      "text/plain": [
       "                   state  tot_pop  tot_czn_pop  tot_reg  pct_reg  pct_reg_moe  \\\n",
       "8   District of Columbia   576000       534000   464000     80.5          2.7   \n",
       "30            New Jersey  6801000      5921000  5008000     73.6          2.2   \n",
       "23             Minnesota  4339000      4142000  3436000     79.2          2.5   \n",
       "37                Oregon  3369000      3242000  2590000     76.9          2.9   \n",
       "29         New Hampshire  1101000      1077000   843000     76.6          2.9   \n",
       "\n",
       "    pct_reg_czn  pct_reg_czn_moe  tot_voted  pct_voted  pct_voted_moe  \\\n",
       "8          86.9              2.4     448000       77.8            2.8   \n",
       "30         84.6              1.9    4638000       68.2            2.3   \n",
       "23         82.9              2.4    3225000       74.3            2.7   \n",
       "37         79.9              2.8    2402000       71.3            3.1   \n",
       "29         78.3              2.8     797000       72.4            3.0   \n",
       "\n",
       "    pct_voted_czn  pct_voted_czn_moe  \n",
       "8            84.0                2.6  \n",
       "30           78.3                2.2  \n",
       "23           77.9                2.7  \n",
       "37           74.1                3.0  \n",
       "29           74.0                3.0  "
      ]
     },
     "execution_count": 14,
     "metadata": {},
     "output_type": "execute_result"
    }
   ],
   "source": [
    "states.sort_values(\"pct_voted_czn\", ascending=False).head()"
   ]
  },
  {
   "cell_type": "code",
   "execution_count": 15,
   "metadata": {},
   "outputs": [
    {
     "data": {
      "text/html": [
       "<div>\n",
       "<style scoped>\n",
       "    .dataframe tbody tr th:only-of-type {\n",
       "        vertical-align: middle;\n",
       "    }\n",
       "\n",
       "    .dataframe tbody tr th {\n",
       "        vertical-align: top;\n",
       "    }\n",
       "\n",
       "    .dataframe thead th {\n",
       "        text-align: right;\n",
       "    }\n",
       "</style>\n",
       "<table border=\"1\" class=\"dataframe\">\n",
       "  <thead>\n",
       "    <tr style=\"text-align: right;\">\n",
       "      <th></th>\n",
       "      <th>state</th>\n",
       "      <th>tot_pop</th>\n",
       "      <th>tot_czn_pop</th>\n",
       "      <th>tot_reg</th>\n",
       "      <th>pct_reg</th>\n",
       "      <th>pct_reg_moe</th>\n",
       "      <th>pct_reg_czn</th>\n",
       "      <th>pct_reg_czn_moe</th>\n",
       "      <th>tot_voted</th>\n",
       "      <th>pct_voted</th>\n",
       "      <th>pct_voted_moe</th>\n",
       "      <th>pct_voted_czn</th>\n",
       "      <th>pct_voted_czn_moe</th>\n",
       "    </tr>\n",
       "  </thead>\n",
       "  <tbody>\n",
       "    <tr>\n",
       "      <th>0</th>\n",
       "      <td>Alabama</td>\n",
       "      <td>3769000</td>\n",
       "      <td>3716000</td>\n",
       "      <td>2527000</td>\n",
       "      <td>67.0</td>\n",
       "      <td>3.1</td>\n",
       "      <td>68.0</td>\n",
       "      <td>3.1</td>\n",
       "      <td>2247000</td>\n",
       "      <td>59.6</td>\n",
       "      <td>3.3</td>\n",
       "      <td>60.5</td>\n",
       "      <td>3.3</td>\n",
       "    </tr>\n",
       "    <tr>\n",
       "      <th>41</th>\n",
       "      <td>South Dakota</td>\n",
       "      <td>659000</td>\n",
       "      <td>649000</td>\n",
       "      <td>437000</td>\n",
       "      <td>66.3</td>\n",
       "      <td>3.4</td>\n",
       "      <td>67.4</td>\n",
       "      <td>3.4</td>\n",
       "      <td>380000</td>\n",
       "      <td>57.7</td>\n",
       "      <td>3.5</td>\n",
       "      <td>58.5</td>\n",
       "      <td>3.5</td>\n",
       "    </tr>\n",
       "    <tr>\n",
       "      <th>36</th>\n",
       "      <td>Oklahoma</td>\n",
       "      <td>2942000</td>\n",
       "      <td>2800000</td>\n",
       "      <td>1884000</td>\n",
       "      <td>64.0</td>\n",
       "      <td>3.5</td>\n",
       "      <td>67.3</td>\n",
       "      <td>3.5</td>\n",
       "      <td>1631000</td>\n",
       "      <td>55.5</td>\n",
       "      <td>3.6</td>\n",
       "      <td>58.3</td>\n",
       "      <td>3.7</td>\n",
       "    </tr>\n",
       "    <tr>\n",
       "      <th>48</th>\n",
       "      <td>West Virginia</td>\n",
       "      <td>1397000</td>\n",
       "      <td>1379000</td>\n",
       "      <td>928000</td>\n",
       "      <td>66.4</td>\n",
       "      <td>3.4</td>\n",
       "      <td>67.3</td>\n",
       "      <td>3.4</td>\n",
       "      <td>773000</td>\n",
       "      <td>55.3</td>\n",
       "      <td>3.6</td>\n",
       "      <td>56.1</td>\n",
       "      <td>3.6</td>\n",
       "    </tr>\n",
       "    <tr>\n",
       "      <th>3</th>\n",
       "      <td>Arkansas</td>\n",
       "      <td>2283000</td>\n",
       "      <td>2195000</td>\n",
       "      <td>1361000</td>\n",
       "      <td>59.6</td>\n",
       "      <td>3.4</td>\n",
       "      <td>62.0</td>\n",
       "      <td>3.4</td>\n",
       "      <td>1186000</td>\n",
       "      <td>51.9</td>\n",
       "      <td>3.4</td>\n",
       "      <td>54.0</td>\n",
       "      <td>3.5</td>\n",
       "    </tr>\n",
       "  </tbody>\n",
       "</table>\n",
       "</div>"
      ],
      "text/plain": [
       "            state  tot_pop  tot_czn_pop  tot_reg  pct_reg  pct_reg_moe  \\\n",
       "0         Alabama  3769000      3716000  2527000     67.0          3.1   \n",
       "41   South Dakota   659000       649000   437000     66.3          3.4   \n",
       "36       Oklahoma  2942000      2800000  1884000     64.0          3.5   \n",
       "48  West Virginia  1397000      1379000   928000     66.4          3.4   \n",
       "3        Arkansas  2283000      2195000  1361000     59.6          3.4   \n",
       "\n",
       "    pct_reg_czn  pct_reg_czn_moe  tot_voted  pct_voted  pct_voted_moe  \\\n",
       "0          68.0              3.1    2247000       59.6            3.3   \n",
       "41         67.4              3.4     380000       57.7            3.5   \n",
       "36         67.3              3.5    1631000       55.5            3.6   \n",
       "48         67.3              3.4     773000       55.3            3.6   \n",
       "3          62.0              3.4    1186000       51.9            3.4   \n",
       "\n",
       "    pct_voted_czn  pct_voted_czn_moe  \n",
       "0            60.5                3.3  \n",
       "41           58.5                3.5  \n",
       "36           58.3                3.7  \n",
       "48           56.1                3.6  \n",
       "3            54.0                3.5  "
      ]
     },
     "execution_count": 15,
     "metadata": {},
     "output_type": "execute_result"
    }
   ],
   "source": [
    "states.sort_values(\"pct_voted_czn\", ascending=False).tail()"
   ]
  },
  {
   "cell_type": "code",
   "execution_count": 16,
   "metadata": {},
   "outputs": [],
   "source": [
    "states[\"pct_voted_czn\"] = (states[\"pct_voted_czn\"] / 100).round(3)"
   ]
  },
  {
   "cell_type": "markdown",
   "metadata": {},
   "source": [
    "### Set up breaks by citizen voting rate"
   ]
  },
  {
   "cell_type": "code",
   "execution_count": 17,
   "metadata": {},
   "outputs": [],
   "source": [
    "breaks = jenkspy.jenks_breaks(list(states.pct_voted_czn), nb_class=7)"
   ]
  },
  {
   "cell_type": "code",
   "execution_count": 18,
   "metadata": {},
   "outputs": [
    {
     "data": {
      "text/plain": [
       "[0.54, 0.585, 0.626, 0.657, 0.685, 0.719, 0.741, 0.84]"
      ]
     },
     "execution_count": 18,
     "metadata": {},
     "output_type": "execute_result"
    }
   ],
   "source": [
    "breaks"
   ]
  },
  {
   "cell_type": "code",
   "execution_count": 19,
   "metadata": {},
   "outputs": [],
   "source": [
    "def get_group(value):\n",
    "    for i, b in enumerate(breaks):\n",
    "        if value <= breaks[i + 1]:\n",
    "            return i"
   ]
  },
  {
   "cell_type": "code",
   "execution_count": 20,
   "metadata": {},
   "outputs": [],
   "source": [
    "states[\"pct_voted_czn_group\"] = states.pct_voted_czn.apply(get_group)"
   ]
  },
  {
   "cell_type": "code",
   "execution_count": 21,
   "metadata": {},
   "outputs": [
    {
     "data": {
      "text/html": [
       "<div>\n",
       "<style scoped>\n",
       "    .dataframe tbody tr th:only-of-type {\n",
       "        vertical-align: middle;\n",
       "    }\n",
       "\n",
       "    .dataframe tbody tr th {\n",
       "        vertical-align: top;\n",
       "    }\n",
       "\n",
       "    .dataframe thead th {\n",
       "        text-align: right;\n",
       "    }\n",
       "</style>\n",
       "<table border=\"1\" class=\"dataframe\">\n",
       "  <thead>\n",
       "    <tr style=\"text-align: right;\">\n",
       "      <th></th>\n",
       "      <th>state</th>\n",
       "      <th>tot_pop</th>\n",
       "      <th>tot_czn_pop</th>\n",
       "      <th>tot_reg</th>\n",
       "      <th>pct_reg</th>\n",
       "      <th>pct_reg_moe</th>\n",
       "      <th>pct_reg_czn</th>\n",
       "      <th>pct_reg_czn_moe</th>\n",
       "      <th>tot_voted</th>\n",
       "      <th>pct_voted</th>\n",
       "      <th>pct_voted_moe</th>\n",
       "      <th>pct_voted_czn</th>\n",
       "      <th>pct_voted_czn_moe</th>\n",
       "      <th>pct_voted_czn_group</th>\n",
       "    </tr>\n",
       "  </thead>\n",
       "  <tbody>\n",
       "    <tr>\n",
       "      <th>0</th>\n",
       "      <td>Alabama</td>\n",
       "      <td>3769000</td>\n",
       "      <td>3716000</td>\n",
       "      <td>2527000</td>\n",
       "      <td>67.0</td>\n",
       "      <td>3.1</td>\n",
       "      <td>68.0</td>\n",
       "      <td>3.1</td>\n",
       "      <td>2247000</td>\n",
       "      <td>59.6</td>\n",
       "      <td>3.3</td>\n",
       "      <td>0.605</td>\n",
       "      <td>3.3</td>\n",
       "      <td>1</td>\n",
       "    </tr>\n",
       "    <tr>\n",
       "      <th>1</th>\n",
       "      <td>Alaska</td>\n",
       "      <td>528000</td>\n",
       "      <td>516000</td>\n",
       "      <td>383000</td>\n",
       "      <td>72.6</td>\n",
       "      <td>3.2</td>\n",
       "      <td>74.2</td>\n",
       "      <td>3.1</td>\n",
       "      <td>330000</td>\n",
       "      <td>62.4</td>\n",
       "      <td>3.4</td>\n",
       "      <td>0.638</td>\n",
       "      <td>3.4</td>\n",
       "      <td>2</td>\n",
       "    </tr>\n",
       "    <tr>\n",
       "      <th>2</th>\n",
       "      <td>Arizona</td>\n",
       "      <td>5638000</td>\n",
       "      <td>5075000</td>\n",
       "      <td>3878000</td>\n",
       "      <td>68.8</td>\n",
       "      <td>2.5</td>\n",
       "      <td>76.4</td>\n",
       "      <td>2.5</td>\n",
       "      <td>3649000</td>\n",
       "      <td>64.7</td>\n",
       "      <td>2.6</td>\n",
       "      <td>0.719</td>\n",
       "      <td>2.6</td>\n",
       "      <td>4</td>\n",
       "    </tr>\n",
       "    <tr>\n",
       "      <th>3</th>\n",
       "      <td>Arkansas</td>\n",
       "      <td>2283000</td>\n",
       "      <td>2195000</td>\n",
       "      <td>1361000</td>\n",
       "      <td>59.6</td>\n",
       "      <td>3.4</td>\n",
       "      <td>62.0</td>\n",
       "      <td>3.4</td>\n",
       "      <td>1186000</td>\n",
       "      <td>51.9</td>\n",
       "      <td>3.4</td>\n",
       "      <td>0.540</td>\n",
       "      <td>3.5</td>\n",
       "      <td>0</td>\n",
       "    </tr>\n",
       "    <tr>\n",
       "      <th>4</th>\n",
       "      <td>California</td>\n",
       "      <td>30342000</td>\n",
       "      <td>25946000</td>\n",
       "      <td>18001000</td>\n",
       "      <td>59.3</td>\n",
       "      <td>1.2</td>\n",
       "      <td>69.4</td>\n",
       "      <td>1.2</td>\n",
       "      <td>16893000</td>\n",
       "      <td>55.7</td>\n",
       "      <td>1.2</td>\n",
       "      <td>0.651</td>\n",
       "      <td>1.2</td>\n",
       "      <td>2</td>\n",
       "    </tr>\n",
       "  </tbody>\n",
       "</table>\n",
       "</div>"
      ],
      "text/plain": [
       "        state   tot_pop  tot_czn_pop   tot_reg  pct_reg  pct_reg_moe  \\\n",
       "0     Alabama   3769000      3716000   2527000     67.0          3.1   \n",
       "1      Alaska    528000       516000    383000     72.6          3.2   \n",
       "2     Arizona   5638000      5075000   3878000     68.8          2.5   \n",
       "3    Arkansas   2283000      2195000   1361000     59.6          3.4   \n",
       "4  California  30342000     25946000  18001000     59.3          1.2   \n",
       "\n",
       "   pct_reg_czn  pct_reg_czn_moe  tot_voted  pct_voted  pct_voted_moe  \\\n",
       "0         68.0              3.1    2247000       59.6            3.3   \n",
       "1         74.2              3.1     330000       62.4            3.4   \n",
       "2         76.4              2.5    3649000       64.7            2.6   \n",
       "3         62.0              3.4    1186000       51.9            3.4   \n",
       "4         69.4              1.2   16893000       55.7            1.2   \n",
       "\n",
       "   pct_voted_czn  pct_voted_czn_moe  pct_voted_czn_group  \n",
       "0          0.605                3.3                    1  \n",
       "1          0.638                3.4                    2  \n",
       "2          0.719                2.6                    4  \n",
       "3          0.540                3.5                    0  \n",
       "4          0.651                1.2                    2  "
      ]
     },
     "execution_count": 21,
     "metadata": {},
     "output_type": "execute_result"
    }
   ],
   "source": [
    "states.head()"
   ]
  },
  {
   "cell_type": "code",
   "execution_count": 22,
   "metadata": {},
   "outputs": [
    {
     "data": {
      "text/html": [
       "\n",
       "<div id=\"altair-viz-bfed7c2413a84dc5b493f89a74dfaf64\"></div>\n",
       "<script type=\"text/javascript\">\n",
       "  (function(spec, embedOpt){\n",
       "    let outputDiv = document.currentScript.previousElementSibling;\n",
       "    if (outputDiv.id !== \"altair-viz-bfed7c2413a84dc5b493f89a74dfaf64\") {\n",
       "      outputDiv = document.getElementById(\"altair-viz-bfed7c2413a84dc5b493f89a74dfaf64\");\n",
       "    }\n",
       "    const paths = {\n",
       "      \"vega\": \"https://cdn.jsdelivr.net/npm//vega@5?noext\",\n",
       "      \"vega-lib\": \"https://cdn.jsdelivr.net/npm//vega-lib?noext\",\n",
       "      \"vega-lite\": \"https://cdn.jsdelivr.net/npm//vega-lite@4.8.1?noext\",\n",
       "      \"vega-embed\": \"https://cdn.jsdelivr.net/npm//vega-embed@6?noext\",\n",
       "    };\n",
       "\n",
       "    function loadScript(lib) {\n",
       "      return new Promise(function(resolve, reject) {\n",
       "        var s = document.createElement('script');\n",
       "        s.src = paths[lib];\n",
       "        s.async = true;\n",
       "        s.onload = () => resolve(paths[lib]);\n",
       "        s.onerror = () => reject(`Error loading script: ${paths[lib]}`);\n",
       "        document.getElementsByTagName(\"head\")[0].appendChild(s);\n",
       "      });\n",
       "    }\n",
       "\n",
       "    function showError(err) {\n",
       "      outputDiv.innerHTML = `<div class=\"error\" style=\"color:red;\">${err}</div>`;\n",
       "      throw err;\n",
       "    }\n",
       "\n",
       "    function displayChart(vegaEmbed) {\n",
       "      vegaEmbed(outputDiv, spec, embedOpt)\n",
       "        .catch(err => showError(`Javascript Error: ${err.message}<br>This usually means there's a typo in your chart specification. See the javascript console for the full traceback.`));\n",
       "    }\n",
       "\n",
       "    if(typeof define === \"function\" && define.amd) {\n",
       "      requirejs.config({paths});\n",
       "      require([\"vega-embed\"], displayChart, err => showError(`Error loading script: ${err.message}`));\n",
       "    } else if (typeof vegaEmbed === \"function\") {\n",
       "      displayChart(vegaEmbed);\n",
       "    } else {\n",
       "      loadScript(\"vega\")\n",
       "        .then(() => loadScript(\"vega-lite\"))\n",
       "        .then(() => loadScript(\"vega-embed\"))\n",
       "        .catch(showError)\n",
       "        .then(() => displayChart(vegaEmbed));\n",
       "    }\n",
       "  })({\"config\": {\"view\": {\"width\": 800, \"height\": 450}, \"background\": \"#ffffff\", \"title\": {\"anchor\": \"start\", \"font\": \"BentonGothic-Bold, sans\", \"fontColor\": \"#000000\", \"fontSize\": 22, \"fontWeight\": \"normal\"}, \"arc\": {\"fill\": \"#82c6df\"}, \"area\": {\"fill\": \"#82c6df\"}, \"line\": {\"stroke\": \"#82c6df\", \"strokeWidth\": 3}, \"path\": {\"stroke\": \"#82c6df\"}, \"rect\": {\"fill\": \"#82c6df\"}, \"shape\": {\"stroke\": \"#82c6df\"}, \"bar\": {\"fill\": \"#82c6df\"}, \"point\": {\"stroke\": \"#82c6df\"}, \"symbol\": {\"fill\": \"#82c6df\", \"size\": 30}, \"axis\": {\"titleFont\": \"BentonGothic-Bold, sans\", \"titleFontSize\": 14, \"titleFontWeight\": \"normal\", \"labelFont\": \"BentonGothic, sans\", \"labelFontSize\": 12, \"labelFontWeight\": \"normal\"}, \"axisX\": {\"labelAngle\": 0, \"labelPadding\": 4, \"tickSize\": 3}, \"axisY\": {\"labelBaseline\": \"middle\", \"maxExtent\": 45, \"minExtent\": 45, \"tickSize\": 2, \"titleAlign\": \"left\", \"titleAngle\": 0, \"titleX\": -45, \"titleY\": -11}, \"legend\": {\"titleFont\": \"BentonGothic-Bold, sans\", \"titleFontSize\": 14, \"titleFontWeight\": \"normal\", \"symbolType\": \"square\", \"labelFont\": \"BentonGothic, sans\", \"labelFontSize\": 13}, \"range\": {\"category\": [\"#3580b1\", \"#ec8431\", \"#ab7fb4\", \"#c89d29\", \"#adc839\", \"#829eb1\"], \"diverging\": [\"#e68a4f\", \"#f4bb6a\", \"#f9e39c\", \"#dadfe2\", \"#a6b7c6\", \"#849eae\"], \"heatmap\": [\"#fbf2c7\", \"#f9e39c\", \"#f8d36e\", \"#f4bb6a\", \"#e68a4f\", \"#d15a40\", \"#ab4232\"], \"ordinal\": [\"#fbf2c7\", \"#f9e39c\", \"#f8d36e\", \"#f4bb6a\", \"#e68a4f\", \"#d15a40\", \"#ab4232\"], \"ramp\": [\"#fbf2c7\", \"#f9e39c\", \"#f8d36e\", \"#f4bb6a\", \"#e68a4f\", \"#d15a40\", \"#ab4232\"]}}, \"data\": {\"name\": \"data-8827574f93293ae6462fb6487e96b090\"}, \"mark\": \"bar\", \"encoding\": {\"color\": {\"condition\": {\"value\": \"#1a80c4\", \"test\": \"(datum.state === 'California')\"}, \"value\": \"#8dc8f1\"}, \"x\": {\"type\": \"quantitative\", \"axis\": {\"format\": \"%\", \"tickCount\": 5}, \"field\": \"pct_voted_czn\"}, \"y\": {\"type\": \"nominal\", \"field\": \"state\", \"sort\": \"-x\"}}, \"height\": 900, \"$schema\": \"https://vega.github.io/schema/vega-lite/v4.8.1.json\", \"datasets\": {\"data-8827574f93293ae6462fb6487e96b090\": [{\"state\": \"Alabama\", \"tot_pop\": 3769000, \"tot_czn_pop\": 3716000, \"tot_reg\": 2527000, \"pct_reg\": 67.0, \"pct_reg_moe\": 3.1, \"pct_reg_czn\": 68.0, \"pct_reg_czn_moe\": 3.1, \"tot_voted\": 2247000, \"pct_voted\": 59.6, \"pct_voted_moe\": 3.3, \"pct_voted_czn\": 0.605, \"pct_voted_czn_moe\": 3.3, \"pct_voted_czn_group\": 1}, {\"state\": \"Alaska\", \"tot_pop\": 528000, \"tot_czn_pop\": 516000, \"tot_reg\": 383000, \"pct_reg\": 72.6, \"pct_reg_moe\": 3.2, \"pct_reg_czn\": 74.2, \"pct_reg_czn_moe\": 3.1, \"tot_voted\": 330000, \"pct_voted\": 62.4, \"pct_voted_moe\": 3.4, \"pct_voted_czn\": 0.638, \"pct_voted_czn_moe\": 3.4, \"pct_voted_czn_group\": 2}, {\"state\": \"Arizona\", \"tot_pop\": 5638000, \"tot_czn_pop\": 5075000, \"tot_reg\": 3878000, \"pct_reg\": 68.8, \"pct_reg_moe\": 2.5, \"pct_reg_czn\": 76.4, \"pct_reg_czn_moe\": 2.5, \"tot_voted\": 3649000, \"pct_voted\": 64.7, \"pct_voted_moe\": 2.6, \"pct_voted_czn\": 0.719, \"pct_voted_czn_moe\": 2.6, \"pct_voted_czn_group\": 4}, {\"state\": \"Arkansas\", \"tot_pop\": 2283000, \"tot_czn_pop\": 2195000, \"tot_reg\": 1361000, \"pct_reg\": 59.6, \"pct_reg_moe\": 3.4, \"pct_reg_czn\": 62.0, \"pct_reg_czn_moe\": 3.4, \"tot_voted\": 1186000, \"pct_voted\": 51.9, \"pct_voted_moe\": 3.4, \"pct_voted_czn\": 0.54, \"pct_voted_czn_moe\": 3.5, \"pct_voted_czn_group\": 0}, {\"state\": \"California\", \"tot_pop\": 30342000, \"tot_czn_pop\": 25946000, \"tot_reg\": 18001000, \"pct_reg\": 59.3, \"pct_reg_moe\": 1.2, \"pct_reg_czn\": 69.4, \"pct_reg_czn_moe\": 1.2, \"tot_voted\": 16893000, \"pct_voted\": 55.7, \"pct_voted_moe\": 1.2, \"pct_voted_czn\": 0.651, \"pct_voted_czn_moe\": 1.2, \"pct_voted_czn_group\": 2}, {\"state\": \"Colorado\", \"tot_pop\": 4525000, \"tot_czn_pop\": 4200000, \"tot_reg\": 2993000, \"pct_reg\": 66.2, \"pct_reg_moe\": 2.9, \"pct_reg_czn\": 71.3, \"pct_reg_czn_moe\": 2.9, \"tot_voted\": 2837000, \"pct_voted\": 62.7, \"pct_voted_moe\": 3.0, \"pct_voted_czn\": 0.676, \"pct_voted_czn_moe\": 3.0, \"pct_voted_czn_group\": 3}, {\"state\": \"Connecticut\", \"tot_pop\": 2777000, \"tot_czn_pop\": 2524000, \"tot_reg\": 1850000, \"pct_reg\": 66.6, \"pct_reg_moe\": 3.2, \"pct_reg_czn\": 73.3, \"pct_reg_czn_moe\": 3.2, \"tot_voted\": 1681000, \"pct_voted\": 60.5, \"pct_voted_moe\": 3.3, \"pct_voted_czn\": 0.666, \"pct_voted_czn_moe\": 3.4, \"pct_voted_czn_group\": 3}, {\"state\": \"Delaware\", \"tot_pop\": 766000, \"tot_czn_pop\": 722000, \"tot_reg\": 542000, \"pct_reg\": 70.8, \"pct_reg_moe\": 3.0, \"pct_reg_czn\": 75.1, \"pct_reg_czn_moe\": 3.0, \"tot_voted\": 489000, \"pct_voted\": 63.8, \"pct_voted_moe\": 3.2, \"pct_voted_czn\": 0.677, \"pct_voted_czn_moe\": 3.2, \"pct_voted_czn_group\": 3}, {\"state\": \"District of Columbia\", \"tot_pop\": 576000, \"tot_czn_pop\": 534000, \"tot_reg\": 464000, \"pct_reg\": 80.5, \"pct_reg_moe\": 2.7, \"pct_reg_czn\": 86.9, \"pct_reg_czn_moe\": 2.4, \"tot_voted\": 448000, \"pct_voted\": 77.8, \"pct_voted_moe\": 2.8, \"pct_voted_czn\": 0.84, \"pct_voted_czn_moe\": 2.6, \"pct_voted_czn_group\": 6}, {\"state\": \"Florida\", \"tot_pop\": 17244000, \"tot_czn_pop\": 15645000, \"tot_reg\": 10495000, \"pct_reg\": 60.9, \"pct_reg_moe\": 1.5, \"pct_reg_czn\": 67.1, \"pct_reg_czn_moe\": 1.5, \"tot_voted\": 9720000, \"pct_voted\": 56.4, \"pct_voted_moe\": 1.5, \"pct_voted_czn\": 0.621, \"pct_voted_czn_moe\": 1.6, \"pct_voted_czn_group\": 1}, {\"state\": \"Georgia\", \"tot_pop\": 8032000, \"tot_czn_pop\": 7400000, \"tot_reg\": 5233000, \"pct_reg\": 65.2, \"pct_reg_moe\": 2.2, \"pct_reg_czn\": 70.7, \"pct_reg_czn_moe\": 2.2, \"tot_voted\": 4888000, \"pct_voted\": 60.9, \"pct_voted_moe\": 2.2, \"pct_voted_czn\": 0.661, \"pct_voted_czn_moe\": 2.3, \"pct_voted_czn_group\": 3}, {\"state\": \"Hawaii\", \"tot_pop\": 1056000, \"tot_czn_pop\": 980000, \"tot_reg\": 673000, \"pct_reg\": 63.8, \"pct_reg_moe\": 3.3, \"pct_reg_czn\": 68.7, \"pct_reg_czn_moe\": 3.3, \"tot_voted\": 630000, \"pct_voted\": 59.7, \"pct_voted_moe\": 3.3, \"pct_voted_czn\": 0.643, \"pct_voted_czn_moe\": 3.4, \"pct_voted_czn_group\": 2}, {\"state\": \"Idaho\", \"tot_pop\": 1370000, \"tot_czn_pop\": 1299000, \"tot_reg\": 900000, \"pct_reg\": 65.7, \"pct_reg_moe\": 3.1, \"pct_reg_czn\": 69.3, \"pct_reg_czn_moe\": 3.1, \"tot_voted\": 843000, \"pct_voted\": 61.6, \"pct_voted_moe\": 3.2, \"pct_voted_czn\": 0.649, \"pct_voted_czn_moe\": 3.2, \"pct_voted_czn_group\": 2}, {\"state\": \"Illinois\", \"tot_pop\": 9658000, \"tot_czn_pop\": 8860000, \"tot_reg\": 6590000, \"pct_reg\": 68.2, \"pct_reg_moe\": 2.0, \"pct_reg_czn\": 74.4, \"pct_reg_czn_moe\": 1.9, \"tot_voted\": 6058000, \"pct_voted\": 62.7, \"pct_voted_moe\": 2.0, \"pct_voted_czn\": 0.684, \"pct_voted_czn_moe\": 2.0, \"pct_voted_czn_group\": 3}, {\"state\": \"Indiana\", \"tot_pop\": 5096000, \"tot_czn_pop\": 4921000, \"tot_reg\": 3412000, \"pct_reg\": 67.0, \"pct_reg_moe\": 2.7, \"pct_reg_czn\": 69.3, \"pct_reg_czn_moe\": 2.7, \"tot_voted\": 3002000, \"pct_voted\": 58.9, \"pct_voted_moe\": 2.8, \"pct_voted_czn\": 0.61, \"pct_voted_czn_moe\": 2.8, \"pct_voted_czn_group\": 1}, {\"state\": \"Iowa\", \"tot_pop\": 2361000, \"tot_czn_pop\": 2293000, \"tot_reg\": 1742000, \"pct_reg\": 73.8, \"pct_reg_moe\": 3.1, \"pct_reg_czn\": 76.0, \"pct_reg_czn_moe\": 3.0, \"tot_voted\": 1618000, \"pct_voted\": 68.5, \"pct_voted_moe\": 3.2, \"pct_voted_czn\": 0.705, \"pct_voted_czn_moe\": 3.2, \"pct_voted_czn_group\": 4}, {\"state\": \"Kansas\", \"tot_pop\": 2157000, \"tot_czn_pop\": 1975000, \"tot_reg\": 1398000, \"pct_reg\": 64.8, \"pct_reg_moe\": 3.5, \"pct_reg_czn\": 70.8, \"pct_reg_czn_moe\": 3.5, \"tot_voted\": 1297000, \"pct_voted\": 60.1, \"pct_voted_moe\": 3.6, \"pct_voted_czn\": 0.657, \"pct_voted_czn_moe\": 3.7, \"pct_voted_czn_group\": 2}, {\"state\": \"Kentucky\", \"tot_pop\": 3384000, \"tot_czn_pop\": 3227000, \"tot_reg\": 2450000, \"pct_reg\": 72.4, \"pct_reg_moe\": 3.2, \"pct_reg_czn\": 75.9, \"pct_reg_czn_moe\": 3.1, \"tot_voted\": 2210000, \"pct_voted\": 65.3, \"pct_voted_moe\": 3.4, \"pct_voted_czn\": 0.685, \"pct_voted_czn_moe\": 3.4, \"pct_voted_czn_group\": 3}, {\"state\": \"Louisiana\", \"tot_pop\": 3438000, \"tot_czn_pop\": 3299000, \"tot_reg\": 2286000, \"pct_reg\": 66.5, \"pct_reg_moe\": 3.2, \"pct_reg_czn\": 69.3, \"pct_reg_czn_moe\": 3.2, \"tot_voted\": 2041000, \"pct_voted\": 59.4, \"pct_voted_moe\": 3.3, \"pct_voted_czn\": 0.619, \"pct_voted_czn_moe\": 3.3, \"pct_voted_czn_group\": 1}, {\"state\": \"Maine\", \"tot_pop\": 1087000, \"tot_czn_pop\": 1075000, \"tot_reg\": 832000, \"pct_reg\": 76.5, \"pct_reg_moe\": 3.2, \"pct_reg_czn\": 77.4, \"pct_reg_czn_moe\": 3.2, \"tot_voted\": 766000, \"pct_voted\": 70.5, \"pct_voted_moe\": 3.4, \"pct_voted_czn\": 0.713, \"pct_voted_czn_moe\": 3.4, \"pct_voted_czn_group\": 4}, {\"state\": \"Maryland\", \"tot_pop\": 4606000, \"tot_czn_pop\": 4303000, \"tot_reg\": 3383000, \"pct_reg\": 73.4, \"pct_reg_moe\": 2.7, \"pct_reg_czn\": 78.6, \"pct_reg_czn_moe\": 2.6, \"tot_voted\": 3166000, \"pct_voted\": 68.7, \"pct_voted_moe\": 2.9, \"pct_voted_czn\": 0.736, \"pct_voted_czn_moe\": 2.8, \"pct_voted_czn_group\": 5}, {\"state\": \"Massachusetts\", \"tot_pop\": 5514000, \"tot_czn_pop\": 4897000, \"tot_reg\": 3546000, \"pct_reg\": 64.3, \"pct_reg_moe\": 2.6, \"pct_reg_czn\": 72.4, \"pct_reg_czn_moe\": 2.6, \"tot_voted\": 3249000, \"pct_voted\": 58.9, \"pct_voted_moe\": 2.7, \"pct_voted_czn\": 0.663, \"pct_voted_czn_moe\": 2.7, \"pct_voted_czn_group\": 3}, {\"state\": \"Michigan\", \"tot_pop\": 7790000, \"tot_czn_pop\": 7467000, \"tot_reg\": 5513000, \"pct_reg\": 70.8, \"pct_reg_moe\": 2.1, \"pct_reg_czn\": 73.8, \"pct_reg_czn_moe\": 2.1, \"tot_voted\": 4994000, \"pct_voted\": 64.1, \"pct_voted_moe\": 2.2, \"pct_voted_czn\": 0.669, \"pct_voted_czn_moe\": 2.2, \"pct_voted_czn_group\": 3}, {\"state\": \"Minnesota\", \"tot_pop\": 4339000, \"tot_czn_pop\": 4142000, \"tot_reg\": 3436000, \"pct_reg\": 79.2, \"pct_reg_moe\": 2.5, \"pct_reg_czn\": 82.9, \"pct_reg_czn_moe\": 2.4, \"tot_voted\": 3225000, \"pct_voted\": 74.3, \"pct_voted_moe\": 2.7, \"pct_voted_czn\": 0.779, \"pct_voted_czn_moe\": 2.7, \"pct_voted_czn_group\": 6}, {\"state\": \"Mississippi\", \"tot_pop\": 2212000, \"tot_czn_pop\": 2177000, \"tot_reg\": 1749000, \"pct_reg\": 79.1, \"pct_reg_moe\": 2.8, \"pct_reg_czn\": 80.4, \"pct_reg_czn_moe\": 2.7, \"tot_voted\": 1531000, \"pct_voted\": 69.2, \"pct_voted_moe\": 3.2, \"pct_voted_czn\": 0.703, \"pct_voted_czn_moe\": 3.2, \"pct_voted_czn_group\": 4}, {\"state\": \"Missouri\", \"tot_pop\": 4637000, \"tot_czn_pop\": 4475000, \"tot_reg\": 3388000, \"pct_reg\": 73.1, \"pct_reg_moe\": 2.7, \"pct_reg_czn\": 75.7, \"pct_reg_czn_moe\": 2.7, \"tot_voted\": 2990000, \"pct_voted\": 64.5, \"pct_voted_moe\": 2.9, \"pct_voted_czn\": 0.668, \"pct_voted_czn_moe\": 2.9, \"pct_voted_czn_group\": 3}, {\"state\": \"Montana\", \"tot_pop\": 836000, \"tot_czn_pop\": 827000, \"tot_reg\": 641000, \"pct_reg\": 76.6, \"pct_reg_moe\": 2.6, \"pct_reg_czn\": 77.5, \"pct_reg_czn_moe\": 2.6, \"tot_voted\": 607000, \"pct_voted\": 72.6, \"pct_voted_moe\": 2.8, \"pct_voted_czn\": 0.735, \"pct_voted_czn_moe\": 2.8, \"pct_voted_czn_group\": 5}, {\"state\": \"Nebraska\", \"tot_pop\": 1435000, \"tot_czn_pop\": 1369000, \"tot_reg\": 971000, \"pct_reg\": 67.7, \"pct_reg_moe\": 3.4, \"pct_reg_czn\": 70.9, \"pct_reg_czn_moe\": 3.4, \"tot_voted\": 892000, \"pct_voted\": 62.2, \"pct_voted_moe\": 3.5, \"pct_voted_czn\": 0.652, \"pct_voted_czn_moe\": 3.5, \"pct_voted_czn_group\": 2}, {\"state\": \"Nevada\", \"tot_pop\": 2402000, \"tot_czn_pop\": 2198000, \"tot_reg\": 1455000, \"pct_reg\": 60.6, \"pct_reg_moe\": 3.2, \"pct_reg_czn\": 66.2, \"pct_reg_czn_moe\": 3.3, \"tot_voted\": 1351000, \"pct_voted\": 56.3, \"pct_voted_moe\": 3.3, \"pct_voted_czn\": 0.615, \"pct_voted_czn_moe\": 3.4, \"pct_voted_czn_group\": 1}, {\"state\": \"New Hampshire\", \"tot_pop\": 1101000, \"tot_czn_pop\": 1077000, \"tot_reg\": 843000, \"pct_reg\": 76.6, \"pct_reg_moe\": 2.9, \"pct_reg_czn\": 78.3, \"pct_reg_czn_moe\": 2.8, \"tot_voted\": 797000, \"pct_voted\": 72.4, \"pct_voted_moe\": 3.0, \"pct_voted_czn\": 0.74, \"pct_voted_czn_moe\": 3.0, \"pct_voted_czn_group\": 5}, {\"state\": \"New Jersey\", \"tot_pop\": 6801000, \"tot_czn_pop\": 5921000, \"tot_reg\": 5008000, \"pct_reg\": 73.6, \"pct_reg_moe\": 2.2, \"pct_reg_czn\": 84.6, \"pct_reg_czn_moe\": 1.9, \"tot_voted\": 4638000, \"pct_voted\": 68.2, \"pct_voted_moe\": 2.3, \"pct_voted_czn\": 0.783, \"pct_voted_czn_moe\": 2.2, \"pct_voted_czn_group\": 6}, {\"state\": \"New Mexico\", \"tot_pop\": 1610000, \"tot_czn_pop\": 1498000, \"tot_reg\": 1028000, \"pct_reg\": 63.9, \"pct_reg_moe\": 3.0, \"pct_reg_czn\": 68.6, \"pct_reg_czn_moe\": 3.0, \"tot_voted\": 938000, \"pct_voted\": 58.3, \"pct_voted_moe\": 3.1, \"pct_voted_czn\": 0.626, \"pct_voted_czn_moe\": 3.2, \"pct_voted_czn_group\": 1}, {\"state\": \"New York\", \"tot_pop\": 15105000, \"tot_czn_pop\": 13298000, \"tot_reg\": 9370000, \"pct_reg\": 62.0, \"pct_reg_moe\": 1.6, \"pct_reg_czn\": 70.5, \"pct_reg_czn_moe\": 1.7, \"tot_voted\": 8609000, \"pct_voted\": 57.0, \"pct_voted_moe\": 1.7, \"pct_voted_czn\": 0.647, \"pct_voted_czn_moe\": 1.7, \"pct_voted_czn_group\": 2}, {\"state\": \"North Carolina\", \"tot_pop\": 8113000, \"tot_czn_pop\": 7391000, \"tot_reg\": 5161000, \"pct_reg\": 63.6, \"pct_reg_moe\": 2.2, \"pct_reg_czn\": 69.8, \"pct_reg_czn_moe\": 2.2, \"tot_voted\": 4780000, \"pct_voted\": 58.9, \"pct_voted_moe\": 2.3, \"pct_voted_czn\": 0.647, \"pct_voted_czn_moe\": 2.3, \"pct_voted_czn_group\": 2}, {\"state\": \"North Dakota\", \"tot_pop\": 571000, \"tot_czn_pop\": 556000, \"tot_reg\": 429000, \"pct_reg\": 75.2, \"pct_reg_moe\": 2.9, \"pct_reg_czn\": 77.3, \"pct_reg_czn_moe\": 2.9, \"tot_voted\": 373000, \"pct_voted\": 65.3, \"pct_voted_moe\": 3.2, \"pct_voted_czn\": 0.671, \"pct_voted_czn_moe\": 3.2, \"pct_voted_czn_group\": 3}, {\"state\": \"Ohio\", \"tot_pop\": 8951000, \"tot_czn_pop\": 8740000, \"tot_reg\": 6733000, \"pct_reg\": 75.2, \"pct_reg_moe\": 1.9, \"pct_reg_czn\": 77.0, \"pct_reg_czn_moe\": 1.8, \"tot_voted\": 6128000, \"pct_voted\": 68.5, \"pct_voted_moe\": 2.0, \"pct_voted_czn\": 0.701, \"pct_voted_czn_moe\": 2.0, \"pct_voted_czn_group\": 4}, {\"state\": \"Oklahoma\", \"tot_pop\": 2942000, \"tot_czn_pop\": 2800000, \"tot_reg\": 1884000, \"pct_reg\": 64.0, \"pct_reg_moe\": 3.5, \"pct_reg_czn\": 67.3, \"pct_reg_czn_moe\": 3.5, \"tot_voted\": 1631000, \"pct_voted\": 55.5, \"pct_voted_moe\": 3.6, \"pct_voted_czn\": 0.583, \"pct_voted_czn_moe\": 3.7, \"pct_voted_czn_group\": 0}, {\"state\": \"Oregon\", \"tot_pop\": 3369000, \"tot_czn_pop\": 3242000, \"tot_reg\": 2590000, \"pct_reg\": 76.9, \"pct_reg_moe\": 2.9, \"pct_reg_czn\": 79.9, \"pct_reg_czn_moe\": 2.8, \"tot_voted\": 2402000, \"pct_voted\": 71.3, \"pct_voted_moe\": 3.1, \"pct_voted_czn\": 0.741, \"pct_voted_czn_moe\": 3.0, \"pct_voted_czn_group\": 5}, {\"state\": \"Pennsylvania\", \"tot_pop\": 9902000, \"tot_czn_pop\": 9621000, \"tot_reg\": 7337000, \"pct_reg\": 74.1, \"pct_reg_moe\": 1.8, \"pct_reg_czn\": 76.3, \"pct_reg_czn_moe\": 1.8, \"tot_voted\": 6756000, \"pct_voted\": 68.2, \"pct_voted_moe\": 1.9, \"pct_voted_czn\": 0.702, \"pct_voted_czn_moe\": 1.9, \"pct_voted_czn_group\": 4}, {\"state\": \"Rhode Island\", \"tot_pop\": 840000, \"tot_czn_pop\": 776000, \"tot_reg\": 575000, \"pct_reg\": 68.5, \"pct_reg_moe\": 3.2, \"pct_reg_czn\": 74.1, \"pct_reg_czn_moe\": 3.2, \"tot_voted\": 515000, \"pct_voted\": 61.3, \"pct_voted_moe\": 3.4, \"pct_voted_czn\": 0.663, \"pct_voted_czn_moe\": 3.4, \"pct_voted_czn_group\": 3}, {\"state\": \"South Carolina\", \"tot_pop\": 4010000, \"tot_czn_pop\": 3878000, \"tot_reg\": 2713000, \"pct_reg\": 67.7, \"pct_reg_moe\": 3.0, \"pct_reg_czn\": 70.0, \"pct_reg_czn_moe\": 3.0, \"tot_voted\": 2459000, \"pct_voted\": 61.3, \"pct_voted_moe\": 3.1, \"pct_voted_czn\": 0.634, \"pct_voted_czn_moe\": 3.1, \"pct_voted_czn_group\": 2}, {\"state\": \"South Dakota\", \"tot_pop\": 659000, \"tot_czn_pop\": 649000, \"tot_reg\": 437000, \"pct_reg\": 66.3, \"pct_reg_moe\": 3.4, \"pct_reg_czn\": 67.4, \"pct_reg_czn_moe\": 3.4, \"tot_voted\": 380000, \"pct_voted\": 57.7, \"pct_voted_moe\": 3.5, \"pct_voted_czn\": 0.585, \"pct_voted_czn_moe\": 3.5, \"pct_voted_czn_group\": 0}, {\"state\": \"Tennessee\", \"tot_pop\": 5283000, \"tot_czn_pop\": 5038000, \"tot_reg\": 3742000, \"pct_reg\": 70.8, \"pct_reg_moe\": 2.6, \"pct_reg_czn\": 74.3, \"pct_reg_czn_moe\": 2.5, \"tot_voted\": 3346000, \"pct_voted\": 63.3, \"pct_voted_moe\": 2.7, \"pct_voted_czn\": 0.664, \"pct_voted_czn_moe\": 2.7, \"pct_voted_czn_group\": 3}, {\"state\": \"Texas\", \"tot_pop\": 21485000, \"tot_czn_pop\": 18581000, \"tot_reg\": 13343000, \"pct_reg\": 62.1, \"pct_reg_moe\": 1.4, \"pct_reg_czn\": 71.8, \"pct_reg_czn_moe\": 1.4, \"tot_voted\": 11874000, \"pct_voted\": 55.3, \"pct_voted_moe\": 1.4, \"pct_voted_czn\": 0.639, \"pct_voted_czn_moe\": 1.5, \"pct_voted_czn_group\": 2}, {\"state\": \"Utah\", \"tot_pop\": 2320000, \"tot_czn_pop\": 2178000, \"tot_reg\": 1468000, \"pct_reg\": 63.3, \"pct_reg_moe\": 2.7, \"pct_reg_czn\": 67.4, \"pct_reg_czn_moe\": 2.7, \"tot_voted\": 1386000, \"pct_voted\": 59.7, \"pct_voted_moe\": 2.8, \"pct_voted_czn\": 0.636, \"pct_voted_czn_moe\": 2.8, \"pct_voted_czn_group\": 2}, {\"state\": \"Vermont\", \"tot_pop\": 507000, \"tot_czn_pop\": 500000, \"tot_reg\": 365000, \"pct_reg\": 72.0, \"pct_reg_moe\": 3.4, \"pct_reg_czn\": 73.0, \"pct_reg_czn_moe\": 3.4, \"tot_voted\": 342000, \"pct_voted\": 67.5, \"pct_voted_moe\": 3.6, \"pct_voted_czn\": 0.684, \"pct_voted_czn_moe\": 3.6, \"pct_voted_czn_group\": 3}, {\"state\": \"Virginia\", \"tot_pop\": 6481000, \"tot_czn_pop\": 5974000, \"tot_reg\": 4541000, \"pct_reg\": 70.1, \"pct_reg_moe\": 2.4, \"pct_reg_czn\": 76.0, \"pct_reg_czn_moe\": 2.3, \"tot_voted\": 4275000, \"pct_voted\": 66.0, \"pct_voted_moe\": 2.5, \"pct_voted_czn\": 0.715, \"pct_voted_czn_moe\": 2.4, \"pct_voted_czn_group\": 4}, {\"state\": \"Washington\", \"tot_pop\": 5993000, \"tot_czn_pop\": 5389000, \"tot_reg\": 4029000, \"pct_reg\": 67.2, \"pct_reg_moe\": 2.5, \"pct_reg_czn\": 74.8, \"pct_reg_czn_moe\": 2.4, \"tot_voted\": 3854000, \"pct_voted\": 64.3, \"pct_voted_moe\": 2.6, \"pct_voted_czn\": 0.715, \"pct_voted_czn_moe\": 2.5, \"pct_voted_czn_group\": 4}, {\"state\": \"West Virginia\", \"tot_pop\": 1397000, \"tot_czn_pop\": 1379000, \"tot_reg\": 928000, \"pct_reg\": 66.4, \"pct_reg_moe\": 3.4, \"pct_reg_czn\": 67.3, \"pct_reg_czn_moe\": 3.4, \"tot_voted\": 773000, \"pct_voted\": 55.3, \"pct_voted_moe\": 3.6, \"pct_voted_czn\": 0.561, \"pct_voted_czn_moe\": 3.6, \"pct_voted_czn_group\": 0}, {\"state\": \"Wisconsin\", \"tot_pop\": 4538000, \"tot_czn_pop\": 4421000, \"tot_reg\": 3391000, \"pct_reg\": 74.7, \"pct_reg_moe\": 2.7, \"pct_reg_czn\": 76.7, \"pct_reg_czn_moe\": 2.6, \"tot_voted\": 3253000, \"pct_voted\": 71.7, \"pct_voted_moe\": 2.8, \"pct_voted_czn\": 0.736, \"pct_voted_czn_moe\": 2.7, \"pct_voted_czn_group\": 5}, {\"state\": \"Wyoming\", \"tot_pop\": 436000, \"tot_czn_pop\": 427000, \"tot_reg\": 296000, \"pct_reg\": 67.9, \"pct_reg_moe\": 3.4, \"pct_reg_czn\": 69.3, \"pct_reg_czn_moe\": 3.4, \"tot_voted\": 280000, \"pct_voted\": 64.1, \"pct_voted_moe\": 3.5, \"pct_voted_czn\": 0.655, \"pct_voted_czn_moe\": 3.5, \"pct_voted_czn_group\": 2}]}}, {\"mode\": \"vega-lite\"});\n",
       "</script>"
      ],
      "text/plain": [
       "alt.Chart(...)"
      ]
     },
     "execution_count": 22,
     "metadata": {},
     "output_type": "execute_result"
    }
   ],
   "source": [
    "alt.Chart(states).mark_bar().encode(\n",
    "    x=alt.X(\"pct_voted_czn\", axis=alt.Axis(tickCount=5, format=\"%\")),\n",
    "    y=alt.Y(\"state\", sort=\"-x\"),\n",
    "    color=alt.condition(\n",
    "        alt.datum.state == \"California\", alt.value(\"#1a80c4\"), alt.value(\"#8dc8f1\")\n",
    "    ),\n",
    ").properties(height=900)"
   ]
  },
  {
   "cell_type": "markdown",
   "metadata": {},
   "source": [
    "---"
   ]
  },
  {
   "cell_type": "markdown",
   "metadata": {},
   "source": [
    "### Sex, Race and Hispanic Origin"
   ]
  },
  {
   "cell_type": "code",
   "execution_count": 23,
   "metadata": {},
   "outputs": [],
   "source": [
    "# table04b: Reported Voting and Registration, by Sex, Race and Hispanic Origin, for States: November 2020\n",
    "# https://www2.census.gov/programs-surveys/cps/tables/p20/585/table04b.xlsx"
   ]
  },
  {
   "cell_type": "code",
   "execution_count": 24,
   "metadata": {},
   "outputs": [
    {
     "name": "stderr",
     "output_type": "stream",
     "text": [
      "/Users/mhustiles/.local/share/virtualenvs/notebooks-xu8v5Vvv/lib/python3.8/site-packages/openpyxl/worksheet/header_footer.py:48: UserWarning: Cannot parse header or footer so it will be ignored\n",
      "  warn(\"\"\"Cannot parse header or footer so it will be ignored\"\"\")\n"
     ]
    }
   ],
   "source": [
    "race_sex = pd.read_excel(\"input/raw/table04b.xlsx\", skiprows=1, skipfooter=0)"
   ]
  },
  {
   "cell_type": "code",
   "execution_count": 25,
   "metadata": {},
   "outputs": [],
   "source": [
    "race_sex.columns = [\n",
    "    \"state\",\n",
    "    \"race_sex\",\n",
    "    \"tot_pop\",\n",
    "    \"tot_czn_pop\",\n",
    "    \"tot_reg\",\n",
    "    \"pct_reg\",\n",
    "    \"pct_reg_moe\",\n",
    "    \"pct_reg_czn\",\n",
    "    \"pct_reg_czn_moe\",\n",
    "    \"tot_voted\",\n",
    "    \"pct_voted\",\n",
    "    \"pct_voted_moe\",\n",
    "    \"pct_voted_czn\",\n",
    "    \"pct_voted_czn_moe\",\n",
    "]"
   ]
  },
  {
   "cell_type": "code",
   "execution_count": 26,
   "metadata": {},
   "outputs": [],
   "source": [
    "race_sex[\"state\"] = (\n",
    "    race_sex[\"state\"]\n",
    "    .str.title()\n",
    "    .str.replace(\" Of \", \" of \", regex=False)\n",
    "    .str.replace(\"Us\", \"U.S.\", regex=False)\n",
    ")"
   ]
  },
  {
   "cell_type": "code",
   "execution_count": 27,
   "metadata": {},
   "outputs": [],
   "source": [
    "race_sex[[\"tot_czn_pop\", \"tot_reg\", \"tot_voted\"]] = (\n",
    "    race_sex[[\"tot_czn_pop\", \"tot_reg\", \"tot_voted\"]]\n",
    "    .replace(\"-\", \"0\", regex=False)\n",
    "    .astype(int)\n",
    ")"
   ]
  },
  {
   "cell_type": "code",
   "execution_count": 28,
   "metadata": {},
   "outputs": [
    {
     "ename": "ValueError",
     "evalue": "Columns must be same length as key",
     "output_type": "error",
     "traceback": [
      "\u001b[0;31m---------------------------------------------------------------------------\u001b[0m",
      "\u001b[0;31mValueError\u001b[0m                                Traceback (most recent call last)",
      "\u001b[0;32m/var/folders/hm/zcc9d9vn2q15_wh0_0k06ckw0000gn/T/ipykernel_11497/2675505239.py\u001b[0m in \u001b[0;36m<module>\u001b[0;34m\u001b[0m\n\u001b[0;32m----> 1\u001b[0;31m race_sex[\n\u001b[0m\u001b[1;32m      2\u001b[0m     [\n\u001b[1;32m      3\u001b[0m         \u001b[0;34m\"pct_reg\"\u001b[0m\u001b[0;34m,\u001b[0m\u001b[0;34m\u001b[0m\u001b[0;34m\u001b[0m\u001b[0m\n\u001b[1;32m      4\u001b[0m         \u001b[0;34m\"pct_reg_moe\"\u001b[0m\u001b[0;34m,\u001b[0m\u001b[0;34m\u001b[0m\u001b[0;34m\u001b[0m\u001b[0m\n\u001b[1;32m      5\u001b[0m         \u001b[0;34m\"pct_reg_czn\"\u001b[0m\u001b[0;34m,\u001b[0m\u001b[0;34m\u001b[0m\u001b[0;34m\u001b[0m\u001b[0m\n",
      "\u001b[0;32m~/.local/share/virtualenvs/notebooks-xu8v5Vvv/lib/python3.8/site-packages/pandas/core/frame.py\u001b[0m in \u001b[0;36m__setitem__\u001b[0;34m(self, key, value)\u001b[0m\n\u001b[1;32m   3595\u001b[0m             \u001b[0mself\u001b[0m\u001b[0;34m.\u001b[0m\u001b[0m_setitem_frame\u001b[0m\u001b[0;34m(\u001b[0m\u001b[0mkey\u001b[0m\u001b[0;34m,\u001b[0m \u001b[0mvalue\u001b[0m\u001b[0;34m)\u001b[0m\u001b[0;34m\u001b[0m\u001b[0;34m\u001b[0m\u001b[0m\n\u001b[1;32m   3596\u001b[0m         \u001b[0;32melif\u001b[0m \u001b[0misinstance\u001b[0m\u001b[0;34m(\u001b[0m\u001b[0mkey\u001b[0m\u001b[0;34m,\u001b[0m \u001b[0;34m(\u001b[0m\u001b[0mSeries\u001b[0m\u001b[0;34m,\u001b[0m \u001b[0mnp\u001b[0m\u001b[0;34m.\u001b[0m\u001b[0mndarray\u001b[0m\u001b[0;34m,\u001b[0m \u001b[0mlist\u001b[0m\u001b[0;34m,\u001b[0m \u001b[0mIndex\u001b[0m\u001b[0;34m)\u001b[0m\u001b[0;34m)\u001b[0m\u001b[0;34m:\u001b[0m\u001b[0;34m\u001b[0m\u001b[0;34m\u001b[0m\u001b[0m\n\u001b[0;32m-> 3597\u001b[0;31m             \u001b[0mself\u001b[0m\u001b[0;34m.\u001b[0m\u001b[0m_setitem_array\u001b[0m\u001b[0;34m(\u001b[0m\u001b[0mkey\u001b[0m\u001b[0;34m,\u001b[0m \u001b[0mvalue\u001b[0m\u001b[0;34m)\u001b[0m\u001b[0;34m\u001b[0m\u001b[0;34m\u001b[0m\u001b[0m\n\u001b[0m\u001b[1;32m   3598\u001b[0m         \u001b[0;32melif\u001b[0m \u001b[0misinstance\u001b[0m\u001b[0;34m(\u001b[0m\u001b[0mvalue\u001b[0m\u001b[0;34m,\u001b[0m \u001b[0mDataFrame\u001b[0m\u001b[0;34m)\u001b[0m\u001b[0;34m:\u001b[0m\u001b[0;34m\u001b[0m\u001b[0;34m\u001b[0m\u001b[0m\n\u001b[1;32m   3599\u001b[0m             \u001b[0mself\u001b[0m\u001b[0;34m.\u001b[0m\u001b[0m_set_item_frame_value\u001b[0m\u001b[0;34m(\u001b[0m\u001b[0mkey\u001b[0m\u001b[0;34m,\u001b[0m \u001b[0mvalue\u001b[0m\u001b[0;34m)\u001b[0m\u001b[0;34m\u001b[0m\u001b[0;34m\u001b[0m\u001b[0m\n",
      "\u001b[0;32m~/.local/share/virtualenvs/notebooks-xu8v5Vvv/lib/python3.8/site-packages/pandas/core/frame.py\u001b[0m in \u001b[0;36m_setitem_array\u001b[0;34m(self, key, value)\u001b[0m\n\u001b[1;32m   3634\u001b[0m                 \u001b[0mcheck_key_length\u001b[0m\u001b[0;34m(\u001b[0m\u001b[0mself\u001b[0m\u001b[0;34m.\u001b[0m\u001b[0mcolumns\u001b[0m\u001b[0;34m,\u001b[0m \u001b[0mkey\u001b[0m\u001b[0;34m,\u001b[0m \u001b[0mvalue\u001b[0m\u001b[0;34m)\u001b[0m\u001b[0;34m\u001b[0m\u001b[0;34m\u001b[0m\u001b[0m\n\u001b[1;32m   3635\u001b[0m                 \u001b[0;32mfor\u001b[0m \u001b[0mk1\u001b[0m\u001b[0;34m,\u001b[0m \u001b[0mk2\u001b[0m \u001b[0;32min\u001b[0m \u001b[0mzip\u001b[0m\u001b[0;34m(\u001b[0m\u001b[0mkey\u001b[0m\u001b[0;34m,\u001b[0m \u001b[0mvalue\u001b[0m\u001b[0;34m.\u001b[0m\u001b[0mcolumns\u001b[0m\u001b[0;34m)\u001b[0m\u001b[0;34m:\u001b[0m\u001b[0;34m\u001b[0m\u001b[0;34m\u001b[0m\u001b[0m\n\u001b[0;32m-> 3636\u001b[0;31m                     \u001b[0mself\u001b[0m\u001b[0;34m[\u001b[0m\u001b[0mk1\u001b[0m\u001b[0;34m]\u001b[0m \u001b[0;34m=\u001b[0m \u001b[0mvalue\u001b[0m\u001b[0;34m[\u001b[0m\u001b[0mk2\u001b[0m\u001b[0;34m]\u001b[0m\u001b[0;34m\u001b[0m\u001b[0;34m\u001b[0m\u001b[0m\n\u001b[0m\u001b[1;32m   3637\u001b[0m \u001b[0;34m\u001b[0m\u001b[0m\n\u001b[1;32m   3638\u001b[0m             \u001b[0;32melif\u001b[0m \u001b[0;32mnot\u001b[0m \u001b[0mis_list_like\u001b[0m\u001b[0;34m(\u001b[0m\u001b[0mvalue\u001b[0m\u001b[0;34m)\u001b[0m\u001b[0;34m:\u001b[0m\u001b[0;34m\u001b[0m\u001b[0;34m\u001b[0m\u001b[0m\n",
      "\u001b[0;32m~/.local/share/virtualenvs/notebooks-xu8v5Vvv/lib/python3.8/site-packages/pandas/core/frame.py\u001b[0m in \u001b[0;36m__setitem__\u001b[0;34m(self, key, value)\u001b[0m\n\u001b[1;32m   3597\u001b[0m             \u001b[0mself\u001b[0m\u001b[0;34m.\u001b[0m\u001b[0m_setitem_array\u001b[0m\u001b[0;34m(\u001b[0m\u001b[0mkey\u001b[0m\u001b[0;34m,\u001b[0m \u001b[0mvalue\u001b[0m\u001b[0;34m)\u001b[0m\u001b[0;34m\u001b[0m\u001b[0;34m\u001b[0m\u001b[0m\n\u001b[1;32m   3598\u001b[0m         \u001b[0;32melif\u001b[0m \u001b[0misinstance\u001b[0m\u001b[0;34m(\u001b[0m\u001b[0mvalue\u001b[0m\u001b[0;34m,\u001b[0m \u001b[0mDataFrame\u001b[0m\u001b[0;34m)\u001b[0m\u001b[0;34m:\u001b[0m\u001b[0;34m\u001b[0m\u001b[0;34m\u001b[0m\u001b[0m\n\u001b[0;32m-> 3599\u001b[0;31m             \u001b[0mself\u001b[0m\u001b[0;34m.\u001b[0m\u001b[0m_set_item_frame_value\u001b[0m\u001b[0;34m(\u001b[0m\u001b[0mkey\u001b[0m\u001b[0;34m,\u001b[0m \u001b[0mvalue\u001b[0m\u001b[0;34m)\u001b[0m\u001b[0;34m\u001b[0m\u001b[0;34m\u001b[0m\u001b[0m\n\u001b[0m\u001b[1;32m   3600\u001b[0m         elif is_list_like(value) and 1 < len(\n\u001b[1;32m   3601\u001b[0m             \u001b[0mself\u001b[0m\u001b[0;34m.\u001b[0m\u001b[0mcolumns\u001b[0m\u001b[0;34m.\u001b[0m\u001b[0mget_indexer_for\u001b[0m\u001b[0;34m(\u001b[0m\u001b[0;34m[\u001b[0m\u001b[0mkey\u001b[0m\u001b[0;34m]\u001b[0m\u001b[0;34m)\u001b[0m\u001b[0;34m\u001b[0m\u001b[0;34m\u001b[0m\u001b[0m\n",
      "\u001b[0;32m~/.local/share/virtualenvs/notebooks-xu8v5Vvv/lib/python3.8/site-packages/pandas/core/frame.py\u001b[0m in \u001b[0;36m_set_item_frame_value\u001b[0;34m(self, key, value)\u001b[0m\n\u001b[1;32m   3722\u001b[0m             \u001b[0mlen_cols\u001b[0m \u001b[0;34m=\u001b[0m \u001b[0;36m1\u001b[0m \u001b[0;32mif\u001b[0m \u001b[0mis_scalar\u001b[0m\u001b[0;34m(\u001b[0m\u001b[0mcols\u001b[0m\u001b[0;34m)\u001b[0m \u001b[0;32melse\u001b[0m \u001b[0mlen\u001b[0m\u001b[0;34m(\u001b[0m\u001b[0mcols\u001b[0m\u001b[0;34m)\u001b[0m\u001b[0;34m\u001b[0m\u001b[0;34m\u001b[0m\u001b[0m\n\u001b[1;32m   3723\u001b[0m             \u001b[0;32mif\u001b[0m \u001b[0mlen_cols\u001b[0m \u001b[0;34m!=\u001b[0m \u001b[0mlen\u001b[0m\u001b[0;34m(\u001b[0m\u001b[0mvalue\u001b[0m\u001b[0;34m.\u001b[0m\u001b[0mcolumns\u001b[0m\u001b[0;34m)\u001b[0m\u001b[0;34m:\u001b[0m\u001b[0;34m\u001b[0m\u001b[0;34m\u001b[0m\u001b[0m\n\u001b[0;32m-> 3724\u001b[0;31m                 \u001b[0;32mraise\u001b[0m \u001b[0mValueError\u001b[0m\u001b[0;34m(\u001b[0m\u001b[0;34m\"Columns must be same length as key\"\u001b[0m\u001b[0;34m)\u001b[0m\u001b[0;34m\u001b[0m\u001b[0;34m\u001b[0m\u001b[0m\n\u001b[0m\u001b[1;32m   3725\u001b[0m \u001b[0;34m\u001b[0m\u001b[0m\n\u001b[1;32m   3726\u001b[0m             \u001b[0;31m# align right-hand-side columns if self.columns\u001b[0m\u001b[0;34m\u001b[0m\u001b[0;34m\u001b[0m\u001b[0;34m\u001b[0m\u001b[0m\n",
      "\u001b[0;31mValueError\u001b[0m: Columns must be same length as key"
     ]
    }
   ],
   "source": [
    "race_sex[\n",
    "    [\n",
    "        \"pct_reg\",\n",
    "        \"pct_reg_moe\",\n",
    "        \"pct_reg_czn\",\n",
    "        \"pct_reg_czn_moe\",\n",
    "        \"pct_voted\",\n",
    "        \"pct_voted_moe\",\n",
    "        \"pct_voted_czn\",\n",
    "        \"pct_voted_czn\",\n",
    "        \"pct_voted_czn_moe\",\n",
    "    ]\n",
    "] = (\n",
    "    race_sex[\n",
    "        [\n",
    "            \"pct_reg\",\n",
    "            \"pct_reg_moe\",\n",
    "            \"pct_reg_czn\",\n",
    "            \"pct_reg_czn_moe\",\n",
    "            \"pct_voted\",\n",
    "            \"pct_voted_moe\",\n",
    "            \"pct_voted_czn\",\n",
    "            \"pct_voted_czn\",\n",
    "            \"pct_voted_czn_moe\",\n",
    "        ]\n",
    "    ]\n",
    "    .replace(\"B\", \"0\", regex=False)\n",
    "    .astype(float)\n",
    ")"
   ]
  },
  {
   "cell_type": "code",
   "execution_count": null,
   "metadata": {},
   "outputs": [],
   "source": [
    "race_sex[[\"tot_pop\", \"tot_czn_pop\", \"tot_reg\", \"tot_voted\"]] = (\n",
    "    race_sex[[\"tot_pop\", \"tot_czn_pop\", \"tot_reg\", \"tot_voted\"]] * 1000\n",
    ")"
   ]
  },
  {
   "cell_type": "markdown",
   "metadata": {},
   "source": [
    "### Hispanic vote "
   ]
  },
  {
   "cell_type": "code",
   "execution_count": null,
   "metadata": {},
   "outputs": [],
   "source": [
    "race_sex[race_sex[\"state\"] == \"California\"]"
   ]
  },
  {
   "cell_type": "code",
   "execution_count": null,
   "metadata": {},
   "outputs": [],
   "source": [
    "latino_vs_white = race_sex[\n",
    "    (race_sex[\"race_sex\"] == \"Hispanic (of any race)\")\n",
    "    | (race_sex[\"race_sex\"] == \"White non-Hispanic alone\")\n",
    "]"
   ]
  },
  {
   "cell_type": "code",
   "execution_count": null,
   "metadata": {},
   "outputs": [],
   "source": [
    "latino_vs_white.head()"
   ]
  },
  {
   "cell_type": "code",
   "execution_count": null,
   "metadata": {},
   "outputs": [],
   "source": [
    "latino_vs_white_pivot = pd.pivot_table(\n",
    "    latino_vs_white,\n",
    "    values=\"pct_voted_czn\",\n",
    "    index=\"state\",\n",
    "    columns=\"race_sex\",\n",
    "    aggfunc=\"mean\",\n",
    ").reset_index()"
   ]
  },
  {
   "cell_type": "markdown",
   "metadata": {},
   "source": [
    "### Gap between Latino and Anglo turnout"
   ]
  },
  {
   "cell_type": "code",
   "execution_count": null,
   "metadata": {},
   "outputs": [],
   "source": [
    "latino_vs_white_gap = latino_vs_white_pivot[\n",
    "    latino_vs_white_pivot[\"Hispanic (of any race)\"] > 0\n",
    "].copy()"
   ]
  },
  {
   "cell_type": "code",
   "execution_count": null,
   "metadata": {},
   "outputs": [],
   "source": [
    "latino_vs_white_gap[\"gap\"] = (\n",
    "    latino_vs_white_gap[\"White non-Hispanic alone\"]\n",
    "    - latino_vs_white_gap[\"Hispanic (of any race)\"]\n",
    ")"
   ]
  },
  {
   "cell_type": "code",
   "execution_count": null,
   "metadata": {},
   "outputs": [],
   "source": [
    "latino_vs_white_gap.sort_values(\"gap\", ascending=False).head()"
   ]
  },
  {
   "cell_type": "code",
   "execution_count": null,
   "metadata": {},
   "outputs": [],
   "source": [
    "alt.Chart(latino_vs_white_gap).mark_bar().encode(\n",
    "    x=alt.X(\"gap\", title=\"Percentage point gap\", axis=alt.Axis(tickCount=5)),\n",
    "    y=alt.Y(\"state\", title=\" \", sort=\"-x\"),\n",
    "    color=alt.condition(\n",
    "        alt.datum.state == \"California\", alt.value(\"#1a80c4\"), alt.value(\"#8dc8f1\")\n",
    "    ),\n",
    ").properties(\n",
    "    height=650,\n",
    "    title=\"Whites turned out at greater rates than Latinos in all but one state. What's the gap?\",\n",
    ")"
   ]
  },
  {
   "cell_type": "code",
   "execution_count": null,
   "metadata": {},
   "outputs": [],
   "source": [
    "latino_vs_white_gap"
   ]
  },
  {
   "cell_type": "markdown",
   "metadata": {},
   "source": [
    "---"
   ]
  },
  {
   "cell_type": "markdown",
   "metadata": {},
   "source": [
    "## Geography"
   ]
  },
  {
   "cell_type": "markdown",
   "metadata": {},
   "source": [
    "### States map"
   ]
  },
  {
   "cell_type": "code",
   "execution_count": null,
   "metadata": {},
   "outputs": [],
   "source": [
    "state_geo = gpd.read_file(\"raw/states.geojson\")\n",
    "state_geo.columns = state_geo.columns.str.lower()"
   ]
  },
  {
   "cell_type": "markdown",
   "metadata": {},
   "source": [
    "### Add A.P. states"
   ]
  },
  {
   "cell_type": "code",
   "execution_count": null,
   "metadata": {},
   "outputs": [],
   "source": [
    "ap_states = pd.read_csv(\"raw/ap_states.csv\")"
   ]
  },
  {
   "cell_type": "code",
   "execution_count": null,
   "metadata": {},
   "outputs": [],
   "source": [
    "states_merge = state_geo.merge(ap_states, left_on=\"stusps\", right_on=\"usps\")"
   ]
  },
  {
   "cell_type": "code",
   "execution_count": null,
   "metadata": {},
   "outputs": [],
   "source": [
    "states_merge.head()"
   ]
  },
  {
   "cell_type": "markdown",
   "metadata": {},
   "source": [
    "### Clean up"
   ]
  },
  {
   "cell_type": "code",
   "execution_count": null,
   "metadata": {},
   "outputs": [],
   "source": [
    "states_merge.drop(\n",
    "    [\"name_x\", \"stusps\", \"statefp\", \"statens\", \"affgeoid\", \"lsad\", \"aland\", \"awater\"],\n",
    "    axis=1,\n",
    "    inplace=True,\n",
    ")"
   ]
  },
  {
   "cell_type": "code",
   "execution_count": null,
   "metadata": {},
   "outputs": [],
   "source": [
    "states_merge.rename(columns={\"name_y\": \"name\"}, inplace=True)"
   ]
  },
  {
   "cell_type": "code",
   "execution_count": null,
   "metadata": {},
   "outputs": [],
   "source": [
    "states_merge = states_merge[[\"geoid\", \"name\", \"usps\", \"ap\", \"geometry\"]]"
   ]
  },
  {
   "cell_type": "code",
   "execution_count": null,
   "metadata": {},
   "outputs": [],
   "source": [
    "lower48 = states_merge[\n",
    "    (states_merge[\"name\"] != \"Hawaii\") & (states_merge[\"name\"] != \"Alaska\")\n",
    "]"
   ]
  },
  {
   "cell_type": "markdown",
   "metadata": {},
   "source": [
    "---"
   ]
  },
  {
   "cell_type": "markdown",
   "metadata": {},
   "source": [
    "### Merge with voting stats for states"
   ]
  },
  {
   "cell_type": "code",
   "execution_count": null,
   "metadata": {},
   "outputs": [],
   "source": [
    "states_votes_geo = lower48.merge(states, right_on=\"state\", left_on=\"name\")"
   ]
  },
  {
   "cell_type": "code",
   "execution_count": null,
   "metadata": {},
   "outputs": [],
   "source": [
    "len(states_votes_geo)"
   ]
  },
  {
   "cell_type": "code",
   "execution_count": null,
   "metadata": {},
   "outputs": [],
   "source": [
    "states_votes_geo.sort_values(\"pct_voted_czn\", ascending=False).head()"
   ]
  },
  {
   "cell_type": "markdown",
   "metadata": {},
   "source": [
    "### Set up breaks by citizen voting rate"
   ]
  },
  {
   "cell_type": "code",
   "execution_count": null,
   "metadata": {},
   "outputs": [],
   "source": [
    "breaks = jenkspy.jenks_breaks(list(states_votes_geo.pct_voted_czn), nb_class=7)"
   ]
  },
  {
   "cell_type": "code",
   "execution_count": null,
   "metadata": {},
   "outputs": [],
   "source": [
    "breaks"
   ]
  },
  {
   "cell_type": "code",
   "execution_count": null,
   "metadata": {},
   "outputs": [],
   "source": [
    "def get_group(value):\n",
    "    for i, b in enumerate(breaks):\n",
    "        if value <= breaks[i + 1]:\n",
    "            return i"
   ]
  },
  {
   "cell_type": "code",
   "execution_count": null,
   "metadata": {},
   "outputs": [],
   "source": [
    "states_votes_geo[\"pct_voted_czn_group\"] = states_votes_geo.pct_voted_czn.apply(\n",
    "    get_group\n",
    ")"
   ]
  },
  {
   "cell_type": "markdown",
   "metadata": {},
   "source": [
    "---"
   ]
  },
  {
   "cell_type": "code",
   "execution_count": null,
   "metadata": {},
   "outputs": [],
   "source": [
    "states_votes_geo.to_file(\"output/states_votes_geo.geojson\", driver=\"GeoJSON\")"
   ]
  },
  {
   "cell_type": "code",
   "execution_count": null,
   "metadata": {},
   "outputs": [],
   "source": [
    "geojson = json.loads(states_votes_geo.to_json())"
   ]
  },
  {
   "cell_type": "code",
   "execution_count": null,
   "metadata": {},
   "outputs": [],
   "source": [
    "features = alt.Data(values=geojson[\"features\"])"
   ]
  },
  {
   "cell_type": "code",
   "execution_count": null,
   "metadata": {},
   "outputs": [],
   "source": [
    "base = (\n",
    "    alt.Chart(features)\n",
    "    .mark_geoshape(stroke=\"black\", strokeWidth=0.1)\n",
    "    .encode()\n",
    "    .properties(width=600, height=800)\n",
    ")"
   ]
  },
  {
   "cell_type": "code",
   "execution_count": null,
   "metadata": {},
   "outputs": [],
   "source": [
    "geoshape = alt.Chart(features).mark_geoshape(fill=\"lightgray\", stroke=\"black\")"
   ]
  },
  {
   "cell_type": "code",
   "execution_count": null,
   "metadata": {},
   "outputs": [],
   "source": [
    "pct_voted_czn = geoshape.encode(\n",
    "    color=alt.Color(\n",
    "        \"properties.pct_voted_czn_group:N\",\n",
    "        scale=alt.Scale(\n",
    "            domain=[0, 1, 2, 3, 4, 5, 6], range=lat.palette[\"schemes\"][\"ice-7\"]\n",
    "        ),\n",
    "        legend=None,\n",
    "    ),\n",
    ")"
   ]
  },
  {
   "cell_type": "code",
   "execution_count": null,
   "metadata": {},
   "outputs": [],
   "source": [
    "(pct_voted_czn).properties(title=\"Pct voted\").configure_view(strokeWidth=0)"
   ]
  }
 ],
 "metadata": {
  "kernelspec": {
   "display_name": "Python 3",
   "language": "python",
   "name": "python3"
  },
  "language_info": {
   "codemirror_mode": {
    "name": "ipython",
    "version": 3
   },
   "file_extension": ".py",
   "mimetype": "text/x-python",
   "name": "python",
   "nbconvert_exporter": "python",
   "pygments_lexer": "ipython3",
   "version": "3.8.8"
  }
 },
 "nbformat": 4,
 "nbformat_minor": 4
}
