{
 "cells": [
  {
   "cell_type": "code",
   "execution_count": 2,
   "id": "4e0289de-9771-4e90-97fb-864aa2053669",
   "metadata": {},
   "outputs": [],
   "source": [
    "import pandas as pd"
   ]
  },
  {
   "cell_type": "code",
   "execution_count": 24,
   "id": "19b4422e-0d6d-495c-abac-a00e494c1243",
   "metadata": {},
   "outputs": [],
   "source": [
    "src = pd.read_csv('../../../github/usc/data/raw/2020-pop-community.csv')"
   ]
  },
  {
   "cell_type": "code",
   "execution_count": 25,
   "id": "d2629287-3115-45b5-b465-44515e81ea9c",
   "metadata": {},
   "outputs": [],
   "source": [
    "src.columns = src.columns.str.replace('\\n','', regex=False).str.replace(' ', '_', regex=False).str.lower()"
   ]
  },
  {
   "cell_type": "code",
   "execution_count": 30,
   "id": "82c04949-1eff-49cf-bb14-450e2a05fd4b",
   "metadata": {},
   "outputs": [],
   "source": [
    "src_slim = src[['legal_city', 'community', '2020_total_population', 'not_hisp_white_alone']].copy()"
   ]
  },
  {
   "cell_type": "code",
   "execution_count": 31,
   "id": "c6afc17d-ac80-44da-8bef-4257f840e8a7",
   "metadata": {},
   "outputs": [],
   "source": [
    "src_slim.rename(columns={\"legal_city\":\"type\", \"community\":\"name\", \"2020_total_population\":\"pop2020\", \"not_hisp_white_alone\":\"white2020\"}, inplace=True)"
   ]
  },
  {
   "cell_type": "code",
   "execution_count": 33,
   "id": "c7f3407e-c839-4e19-8879-d115a8191cb9",
   "metadata": {},
   "outputs": [],
   "source": [
    "src_slim['whitepct2020'] = ((src_slim['white2020'] / src_slim['pop2020'])*100).round()"
   ]
  },
  {
   "cell_type": "code",
   "execution_count": 35,
   "id": "f25ddd52-8f33-4282-86a2-64e0c1377401",
   "metadata": {},
   "outputs": [],
   "source": [
    "src_slim.to_csv('../../usc/data/processed/la_neighborhoods_white_pop_2020.csv', index=False)"
   ]
  },
  {
   "cell_type": "code",
   "execution_count": null,
   "id": "01253e36-ceac-49a2-9275-c69ef9c80d75",
   "metadata": {},
   "outputs": [],
   "source": []
  }
 ],
 "metadata": {
  "kernelspec": {
   "display_name": "Python 3",
   "language": "python",
   "name": "python3"
  },
  "language_info": {
   "codemirror_mode": {
    "name": "ipython",
    "version": 3
   },
   "file_extension": ".py",
   "mimetype": "text/x-python",
   "name": "python",
   "nbconvert_exporter": "python",
   "pygments_lexer": "ipython3",
   "version": "3.8.8"
  }
 },
 "nbformat": 4,
 "nbformat_minor": 5
}
