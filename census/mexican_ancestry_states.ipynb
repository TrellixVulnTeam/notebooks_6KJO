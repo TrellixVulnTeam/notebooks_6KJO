{
 "cells": [
  {
   "cell_type": "markdown",
   "id": "c59c4ec4-73c7-44ed-865a-ff62ce58665e",
   "metadata": {},
   "source": [
    "# Mexican population in major cities? "
   ]
  },
  {
   "cell_type": "markdown",
   "id": "3a26cd9b-2c75-4710-9618-393e7523de9b",
   "metadata": {},
   "source": [
    "### Import python/pandas tools"
   ]
  },
  {
   "cell_type": "code",
   "execution_count": 1,
   "id": "32987ee2-4553-4e50-84a6-12004a54ce44",
   "metadata": {},
   "outputs": [],
   "source": [
    "%load_ext lab_black"
   ]
  },
  {
   "cell_type": "code",
   "execution_count": 2,
   "id": "421ffd3e-85d1-4cc5-b99e-cbeffb679402",
   "metadata": {},
   "outputs": [],
   "source": [
    "import pandas as pd\n",
    "import geopandas as gpd"
   ]
  },
  {
   "cell_type": "code",
   "execution_count": 3,
   "id": "f617db42-61b8-43a9-a10d-884c00d09c68",
   "metadata": {},
   "outputs": [],
   "source": [
    "pd.options.display.max_columns = 200\n",
    "pd.options.display.max_rows = 1000\n",
    "pd.set_option(\"display.max_colwidth\", None)"
   ]
  },
  {
   "cell_type": "markdown",
   "id": "990cf807-7e50-4f26-b85b-f121341f5fdc",
   "metadata": {},
   "source": [
    "### Get data with [census-data-downloader](https://github.com/datadesk/census-data-downloader)"
   ]
  },
  {
   "cell_type": "code",
   "execution_count": 4,
   "id": "f17fbdf0-74bf-47c1-94b2-bcdf2b5e46b3",
   "metadata": {},
   "outputs": [],
   "source": [
    "# !censusdatadownloader latino places"
   ]
  },
  {
   "cell_type": "code",
   "execution_count": 5,
   "id": "759af322-c9ed-4811-9a30-8e9295acd751",
   "metadata": {},
   "outputs": [],
   "source": [
    "# !pip install census-data-downloader"
   ]
  },
  {
   "cell_type": "code",
   "execution_count": 6,
   "id": "a6723ac2-f497-4f02-bc89-4178a045bbb8",
   "metadata": {},
   "outputs": [],
   "source": [
    "# !censusdatadownloader latino states"
   ]
  },
  {
   "cell_type": "markdown",
   "id": "7384a9bd-daa4-4aab-80e6-1308f55f301b",
   "metadata": {},
   "source": [
    "### Read data and define types"
   ]
  },
  {
   "cell_type": "code",
   "execution_count": 7,
   "id": "bd0c4904-07f7-4ee6-8554-66d9c4ac9e8b",
   "metadata": {},
   "outputs": [],
   "source": [
    "src = pd.read_csv(\n",
    "    \"processed/acs5_2019_latino_states.csv\",\n",
    "    low_memory=False,\n",
    "    dtype={\n",
    "        \"universe\": int,\n",
    "        \"mexican\": int,\n",
    "        \"mexican_moe\": int,\n",
    "        \"hispanic_or_latino\": int,\n",
    "        \"geoid\": str,\n",
    "    },\n",
    ")"
   ]
  },
  {
   "cell_type": "markdown",
   "id": "270456fe-b9a8-4201-a24e-8979928c770c",
   "metadata": {},
   "source": [
    "### Limit the dataframe to (renamed) columns we need"
   ]
  },
  {
   "cell_type": "code",
   "execution_count": 8,
   "id": "08ab4dcb-1d71-40f2-a0ac-32801441aecd",
   "metadata": {},
   "outputs": [],
   "source": [
    "df = (\n",
    "    src[src[\"universe\"] > 500000][\n",
    "        [\"geoid\", \"name\", \"universe\", \"hispanic_or_latino\", \"mexican\"]\n",
    "    ]\n",
    "    .reset_index(drop=True)\n",
    "    .copy()\n",
    "    .rename(\n",
    "        columns={\n",
    "            \"universe\": \"all_pop\",\n",
    "            \"mexican\": \"mexican_pop\",\n",
    "            \"hispanic_or_latino\": \"hisp_pop\",\n",
    "        }\n",
    "    )\n",
    ")"
   ]
  },
  {
   "cell_type": "markdown",
   "id": "c260405e-b5a5-450f-9ac3-c4ab5abe3090",
   "metadata": {},
   "source": [
    "### Get population shares"
   ]
  },
  {
   "cell_type": "code",
   "execution_count": 9,
   "id": "fab2d06b-3484-41ad-9055-df2a9c25c2a4",
   "metadata": {},
   "outputs": [],
   "source": [
    "df[\"hisp_pct_pop\"] = ((df[\"hisp_pop\"] / df[\"all_pop\"]) * 100).round(2)\n",
    "df[\"mex_pct_all_pop\"] = ((df[\"mexican_pop\"] / df[\"all_pop\"]) * 100).round(2)\n",
    "df[\"mex_pct_hisp_pop\"] = ((df[\"mexican_pop\"] / df[\"hisp_pop\"]) * 100).round(2)"
   ]
  },
  {
   "cell_type": "markdown",
   "id": "3521a859-9031-4d88-8fcb-3d1d034eece2",
   "metadata": {},
   "source": [
    "### Clean up place names"
   ]
  },
  {
   "cell_type": "code",
   "execution_count": 10,
   "id": "e7803809-2f5e-477e-bc11-3682165ee777",
   "metadata": {},
   "outputs": [],
   "source": [
    "df[\"name\"] = (\n",
    "    df[\"name\"]\n",
    "    .str.replace(\" municipality\", \"\", regex=False)\n",
    "    .str.replace(\" city\", \"\", regex=False)\n",
    "    .str.replace(\" zona urbana\", \"\", regex=False)\n",
    "    .str.replace(\" (balance)\", \"\", regex=False)\n",
    "    .str.replace(\" County metro government\", \"\", regex=False)\n",
    "    .str.replace(\" metropolitan government\", \"\", regex=False)\n",
    ")"
   ]
  },
  {
   "cell_type": "markdown",
   "id": "4238ab25-6021-4321-93bb-74a9d091c4e6",
   "metadata": {},
   "source": [
    "### Just one place"
   ]
  },
  {
   "cell_type": "code",
   "execution_count": 11,
   "id": "f509d52e-18f4-46ea-817a-ddb0b5fc3c9c",
   "metadata": {},
   "outputs": [
    {
     "data": {
      "text/html": [
       "<div>\n",
       "<style scoped>\n",
       "    .dataframe tbody tr th:only-of-type {\n",
       "        vertical-align: middle;\n",
       "    }\n",
       "\n",
       "    .dataframe tbody tr th {\n",
       "        vertical-align: top;\n",
       "    }\n",
       "\n",
       "    .dataframe thead th {\n",
       "        text-align: right;\n",
       "    }\n",
       "</style>\n",
       "<table border=\"1\" class=\"dataframe\">\n",
       "  <thead>\n",
       "    <tr style=\"text-align: right;\">\n",
       "      <th></th>\n",
       "      <th>geoid</th>\n",
       "      <th>name</th>\n",
       "      <th>all_pop</th>\n",
       "      <th>hisp_pop</th>\n",
       "      <th>mexican_pop</th>\n",
       "      <th>hisp_pct_pop</th>\n",
       "      <th>mex_pct_all_pop</th>\n",
       "      <th>mex_pct_hisp_pop</th>\n",
       "    </tr>\n",
       "  </thead>\n",
       "  <tbody>\n",
       "    <tr>\n",
       "      <th>4</th>\n",
       "      <td>06</td>\n",
       "      <td>California</td>\n",
       "      <td>39283497</td>\n",
       "      <td>15327688</td>\n",
       "      <td>12687312</td>\n",
       "      <td>39.02</td>\n",
       "      <td>32.3</td>\n",
       "      <td>82.77</td>\n",
       "    </tr>\n",
       "  </tbody>\n",
       "</table>\n",
       "</div>"
      ],
      "text/plain": [
       "  geoid        name   all_pop  hisp_pop  mexican_pop  hisp_pct_pop  \\\n",
       "4    06  California  39283497  15327688     12687312         39.02   \n",
       "\n",
       "   mex_pct_all_pop  mex_pct_hisp_pop  \n",
       "4             32.3             82.77  "
      ]
     },
     "execution_count": 11,
     "metadata": {},
     "output_type": "execute_result"
    }
   ],
   "source": [
    "df[df[\"geoid\"] == \"06\"]"
   ]
  },
  {
   "cell_type": "markdown",
   "id": "d5e089e4-e95f-40be-be37-64a863cf68d8",
   "metadata": {},
   "source": [
    "### Places with highest share of population as Mexican"
   ]
  },
  {
   "cell_type": "code",
   "execution_count": 12,
   "id": "7eaf49d4-b184-4261-817d-17d9bd86d918",
   "metadata": {},
   "outputs": [
    {
     "data": {
      "text/html": [
       "<div>\n",
       "<style scoped>\n",
       "    .dataframe tbody tr th:only-of-type {\n",
       "        vertical-align: middle;\n",
       "    }\n",
       "\n",
       "    .dataframe tbody tr th {\n",
       "        vertical-align: top;\n",
       "    }\n",
       "\n",
       "    .dataframe thead th {\n",
       "        text-align: right;\n",
       "    }\n",
       "</style>\n",
       "<table border=\"1\" class=\"dataframe\">\n",
       "  <thead>\n",
       "    <tr style=\"text-align: right;\">\n",
       "      <th></th>\n",
       "      <th>geoid</th>\n",
       "      <th>name</th>\n",
       "      <th>all_pop</th>\n",
       "      <th>hisp_pop</th>\n",
       "      <th>mexican_pop</th>\n",
       "      <th>hisp_pct_pop</th>\n",
       "      <th>mex_pct_all_pop</th>\n",
       "      <th>mex_pct_hisp_pop</th>\n",
       "    </tr>\n",
       "  </thead>\n",
       "  <tbody>\n",
       "    <tr>\n",
       "      <th>43</th>\n",
       "      <td>48</td>\n",
       "      <td>Texas</td>\n",
       "      <td>28260856</td>\n",
       "      <td>11116881</td>\n",
       "      <td>9502159</td>\n",
       "      <td>39.34</td>\n",
       "      <td>33.62</td>\n",
       "      <td>85.48</td>\n",
       "    </tr>\n",
       "    <tr>\n",
       "      <th>4</th>\n",
       "      <td>06</td>\n",
       "      <td>California</td>\n",
       "      <td>39283497</td>\n",
       "      <td>15327688</td>\n",
       "      <td>12687312</td>\n",
       "      <td>39.02</td>\n",
       "      <td>32.30</td>\n",
       "      <td>82.77</td>\n",
       "    </tr>\n",
       "    <tr>\n",
       "      <th>31</th>\n",
       "      <td>35</td>\n",
       "      <td>New Mexico</td>\n",
       "      <td>2092454</td>\n",
       "      <td>1020817</td>\n",
       "      <td>655160</td>\n",
       "      <td>48.79</td>\n",
       "      <td>31.31</td>\n",
       "      <td>64.18</td>\n",
       "    </tr>\n",
       "    <tr>\n",
       "      <th>2</th>\n",
       "      <td>04</td>\n",
       "      <td>Arizona</td>\n",
       "      <td>7050299</td>\n",
       "      <td>2208663</td>\n",
       "      <td>1957968</td>\n",
       "      <td>31.33</td>\n",
       "      <td>27.77</td>\n",
       "      <td>88.65</td>\n",
       "    </tr>\n",
       "    <tr>\n",
       "      <th>28</th>\n",
       "      <td>32</td>\n",
       "      <td>Nevada</td>\n",
       "      <td>2972382</td>\n",
       "      <td>853041</td>\n",
       "      <td>643198</td>\n",
       "      <td>28.70</td>\n",
       "      <td>21.64</td>\n",
       "      <td>75.40</td>\n",
       "    </tr>\n",
       "  </tbody>\n",
       "</table>\n",
       "</div>"
      ],
      "text/plain": [
       "   geoid        name   all_pop  hisp_pop  mexican_pop  hisp_pct_pop  \\\n",
       "43    48       Texas  28260856  11116881      9502159         39.34   \n",
       "4     06  California  39283497  15327688     12687312         39.02   \n",
       "31    35  New Mexico   2092454   1020817       655160         48.79   \n",
       "2     04     Arizona   7050299   2208663      1957968         31.33   \n",
       "28    32      Nevada   2972382    853041       643198         28.70   \n",
       "\n",
       "    mex_pct_all_pop  mex_pct_hisp_pop  \n",
       "43            33.62             85.48  \n",
       "4             32.30             82.77  \n",
       "31            31.31             64.18  \n",
       "2             27.77             88.65  \n",
       "28            21.64             75.40  "
      ]
     },
     "execution_count": 12,
     "metadata": {},
     "output_type": "execute_result"
    }
   ],
   "source": [
    "df.sort_values(\"mex_pct_all_pop\", ascending=False).head()"
   ]
  },
  {
   "cell_type": "markdown",
   "id": "8f94012a-bc4f-4d95-a210-78366a291c4a",
   "metadata": {},
   "source": [
    "### Export dataframe"
   ]
  },
  {
   "cell_type": "code",
   "execution_count": 13,
   "id": "75911152-d27a-4396-bd09-a05239944c21",
   "metadata": {},
   "outputs": [],
   "source": [
    "df.to_csv(\"output/mexican_pop_states.csv\", index=False)"
   ]
  },
  {
   "cell_type": "markdown",
   "id": "9ea10799-05ef-4f93-be69-61056cbc5d8d",
   "metadata": {},
   "source": [
    "---"
   ]
  },
  {
   "cell_type": "markdown",
   "id": "1ae62c2b-dded-467c-b8d1-90def273a993",
   "metadata": {},
   "source": [
    "### Read geography file for places"
   ]
  },
  {
   "cell_type": "code",
   "execution_count": 14,
   "id": "8ba48bab-c001-47b7-b5e2-8770fd740ef0",
   "metadata": {},
   "outputs": [],
   "source": [
    "gdf_poly = gpd.read_file(\n",
    "    \"https://raw.githubusercontent.com/PublicaMundi/MappingAPI/master/data/geojson/us-states.json\"\n",
    ")"
   ]
  },
  {
   "cell_type": "code",
   "execution_count": 15,
   "id": "1e4d75a0-9ad2-4f91-9932-853fe5753790",
   "metadata": {},
   "outputs": [
    {
     "data": {
      "text/plain": [
       "<Geographic 2D CRS: EPSG:4326>\n",
       "Name: WGS 84\n",
       "Axis Info [ellipsoidal]:\n",
       "- Lat[north]: Geodetic latitude (degree)\n",
       "- Lon[east]: Geodetic longitude (degree)\n",
       "Area of Use:\n",
       "- name: World.\n",
       "- bounds: (-180.0, -90.0, 180.0, 90.0)\n",
       "Datum: World Geodetic System 1984 ensemble\n",
       "- Ellipsoid: WGS 84\n",
       "- Prime Meridian: Greenwich"
      ]
     },
     "execution_count": 15,
     "metadata": {},
     "output_type": "execute_result"
    }
   ],
   "source": [
    "gdf_poly.crs"
   ]
  },
  {
   "cell_type": "markdown",
   "id": "c22d79c8-c000-4cd3-826c-3ef039a31d3a",
   "metadata": {},
   "source": [
    "### Convert polygons to points"
   ]
  },
  {
   "cell_type": "code",
   "execution_count": 16,
   "id": "d02032dc-63eb-4cd3-bb07-902c634d88f2",
   "metadata": {},
   "outputs": [],
   "source": [
    "gdf_poly = gdf_poly.to_crs(\"ESRI:102008\")"
   ]
  },
  {
   "cell_type": "code",
   "execution_count": 17,
   "id": "ecd1a8bf-f975-4918-b253-a9852eeb6b48",
   "metadata": {},
   "outputs": [],
   "source": [
    "gdf_points = gdf_poly.copy()"
   ]
  },
  {
   "cell_type": "code",
   "execution_count": 18,
   "id": "001060e4-c903-4b6c-a620-5d68b2f11bc7",
   "metadata": {},
   "outputs": [],
   "source": [
    "gdf_points[\"geometry\"] = gdf_points[\"geometry\"].centroid"
   ]
  },
  {
   "cell_type": "markdown",
   "id": "57830ebe-4db6-45c0-9342-43a44648ba69",
   "metadata": {},
   "source": [
    "### Clean up column names"
   ]
  },
  {
   "cell_type": "code",
   "execution_count": 19,
   "id": "168159c4-0d9b-4b49-a796-2f2dae3b46d2",
   "metadata": {},
   "outputs": [],
   "source": [
    "gdf_points.columns = gdf_points.columns.str.lower()"
   ]
  },
  {
   "cell_type": "code",
   "execution_count": 20,
   "id": "29ceb907-5544-4688-b669-db3adff89221",
   "metadata": {},
   "outputs": [
    {
     "data": {
      "text/html": [
       "<div>\n",
       "<style scoped>\n",
       "    .dataframe tbody tr th:only-of-type {\n",
       "        vertical-align: middle;\n",
       "    }\n",
       "\n",
       "    .dataframe tbody tr th {\n",
       "        vertical-align: top;\n",
       "    }\n",
       "\n",
       "    .dataframe thead th {\n",
       "        text-align: right;\n",
       "    }\n",
       "</style>\n",
       "<table border=\"1\" class=\"dataframe\">\n",
       "  <thead>\n",
       "    <tr style=\"text-align: right;\">\n",
       "      <th></th>\n",
       "      <th>id</th>\n",
       "      <th>name</th>\n",
       "      <th>density</th>\n",
       "      <th>geometry</th>\n",
       "    </tr>\n",
       "  </thead>\n",
       "  <tbody>\n",
       "    <tr>\n",
       "      <th>0</th>\n",
       "      <td>01</td>\n",
       "      <td>Alabama</td>\n",
       "      <td>94.650</td>\n",
       "      <td>POINT (817707.727 -806908.935)</td>\n",
       "    </tr>\n",
       "    <tr>\n",
       "      <th>1</th>\n",
       "      <td>02</td>\n",
       "      <td>Alaska</td>\n",
       "      <td>1.264</td>\n",
       "      <td>POINT (-2731552.814 3579656.886)</td>\n",
       "    </tr>\n",
       "    <tr>\n",
       "      <th>2</th>\n",
       "      <td>04</td>\n",
       "      <td>Arizona</td>\n",
       "      <td>57.050</td>\n",
       "      <td>POINT (-1363318.591 -558633.562)</td>\n",
       "    </tr>\n",
       "    <tr>\n",
       "      <th>3</th>\n",
       "      <td>05</td>\n",
       "      <td>Arkansas</td>\n",
       "      <td>56.430</td>\n",
       "      <td>POINT (308210.284 -593478.999)</td>\n",
       "    </tr>\n",
       "    <tr>\n",
       "      <th>4</th>\n",
       "      <td>06</td>\n",
       "      <td>California</td>\n",
       "      <td>241.700</td>\n",
       "      <td>POINT (-1948054.320 -87693.537)</td>\n",
       "    </tr>\n",
       "  </tbody>\n",
       "</table>\n",
       "</div>"
      ],
      "text/plain": [
       "   id        name  density                          geometry\n",
       "0  01     Alabama   94.650    POINT (817707.727 -806908.935)\n",
       "1  02      Alaska    1.264  POINT (-2731552.814 3579656.886)\n",
       "2  04     Arizona   57.050  POINT (-1363318.591 -558633.562)\n",
       "3  05    Arkansas   56.430    POINT (308210.284 -593478.999)\n",
       "4  06  California  241.700   POINT (-1948054.320 -87693.537)"
      ]
     },
     "execution_count": 20,
     "metadata": {},
     "output_type": "execute_result"
    }
   ],
   "source": [
    "gdf_points.head()"
   ]
  },
  {
   "cell_type": "code",
   "execution_count": 21,
   "id": "98e5b1c2-4fe7-42f6-bfaf-6e050ff37577",
   "metadata": {},
   "outputs": [],
   "source": [
    "geodf = gdf_points[[\"id\", \"geometry\"]].copy()"
   ]
  },
  {
   "cell_type": "markdown",
   "id": "5fe2e2eb-f715-4dcd-a0c2-85a1cba844d5",
   "metadata": {},
   "source": [
    "---"
   ]
  },
  {
   "cell_type": "markdown",
   "id": "8c03f386-8ab5-42f2-a243-3070eebd3e86",
   "metadata": {},
   "source": [
    "### Merge 'em"
   ]
  },
  {
   "cell_type": "code",
   "execution_count": 22,
   "id": "ff46238c-e469-401c-944b-a927a823d5ac",
   "metadata": {},
   "outputs": [],
   "source": [
    "merged_geo = pd.merge(geodf, df, left_on=\"id\", right_on=\"geoid\")"
   ]
  },
  {
   "cell_type": "code",
   "execution_count": 23,
   "id": "a523c13b-2f6b-430d-84ee-d1437629c32d",
   "metadata": {},
   "outputs": [
    {
     "data": {
      "text/html": [
       "<div>\n",
       "<style scoped>\n",
       "    .dataframe tbody tr th:only-of-type {\n",
       "        vertical-align: middle;\n",
       "    }\n",
       "\n",
       "    .dataframe tbody tr th {\n",
       "        vertical-align: top;\n",
       "    }\n",
       "\n",
       "    .dataframe thead th {\n",
       "        text-align: right;\n",
       "    }\n",
       "</style>\n",
       "<table border=\"1\" class=\"dataframe\">\n",
       "  <thead>\n",
       "    <tr style=\"text-align: right;\">\n",
       "      <th></th>\n",
       "      <th>id</th>\n",
       "      <th>geometry</th>\n",
       "      <th>geoid</th>\n",
       "      <th>name</th>\n",
       "      <th>all_pop</th>\n",
       "      <th>hisp_pop</th>\n",
       "      <th>mexican_pop</th>\n",
       "      <th>hisp_pct_pop</th>\n",
       "      <th>mex_pct_all_pop</th>\n",
       "      <th>mex_pct_hisp_pop</th>\n",
       "    </tr>\n",
       "  </thead>\n",
       "  <tbody>\n",
       "    <tr>\n",
       "      <th>0</th>\n",
       "      <td>01</td>\n",
       "      <td>POINT (817707.727 -806908.935)</td>\n",
       "      <td>01</td>\n",
       "      <td>Alabama</td>\n",
       "      <td>4876250</td>\n",
       "      <td>208626</td>\n",
       "      <td>126071</td>\n",
       "      <td>4.28</td>\n",
       "      <td>2.59</td>\n",
       "      <td>60.43</td>\n",
       "    </tr>\n",
       "    <tr>\n",
       "      <th>1</th>\n",
       "      <td>02</td>\n",
       "      <td>POINT (-2731552.814 3579656.886)</td>\n",
       "      <td>02</td>\n",
       "      <td>Alaska</td>\n",
       "      <td>737068</td>\n",
       "      <td>51870</td>\n",
       "      <td>28205</td>\n",
       "      <td>7.04</td>\n",
       "      <td>3.83</td>\n",
       "      <td>54.38</td>\n",
       "    </tr>\n",
       "    <tr>\n",
       "      <th>2</th>\n",
       "      <td>04</td>\n",
       "      <td>POINT (-1363318.591 -558633.562)</td>\n",
       "      <td>04</td>\n",
       "      <td>Arizona</td>\n",
       "      <td>7050299</td>\n",
       "      <td>2208663</td>\n",
       "      <td>1957968</td>\n",
       "      <td>31.33</td>\n",
       "      <td>27.77</td>\n",
       "      <td>88.65</td>\n",
       "    </tr>\n",
       "    <tr>\n",
       "      <th>3</th>\n",
       "      <td>05</td>\n",
       "      <td>POINT (308210.284 -593478.999)</td>\n",
       "      <td>05</td>\n",
       "      <td>Arkansas</td>\n",
       "      <td>2999370</td>\n",
       "      <td>224130</td>\n",
       "      <td>161614</td>\n",
       "      <td>7.47</td>\n",
       "      <td>5.39</td>\n",
       "      <td>72.11</td>\n",
       "    </tr>\n",
       "    <tr>\n",
       "      <th>4</th>\n",
       "      <td>06</td>\n",
       "      <td>POINT (-1948054.320 -87693.537)</td>\n",
       "      <td>06</td>\n",
       "      <td>California</td>\n",
       "      <td>39283497</td>\n",
       "      <td>15327688</td>\n",
       "      <td>12687312</td>\n",
       "      <td>39.02</td>\n",
       "      <td>32.30</td>\n",
       "      <td>82.77</td>\n",
       "    </tr>\n",
       "  </tbody>\n",
       "</table>\n",
       "</div>"
      ],
      "text/plain": [
       "   id                          geometry geoid        name   all_pop  hisp_pop  \\\n",
       "0  01    POINT (817707.727 -806908.935)    01     Alabama   4876250    208626   \n",
       "1  02  POINT (-2731552.814 3579656.886)    02      Alaska    737068     51870   \n",
       "2  04  POINT (-1363318.591 -558633.562)    04     Arizona   7050299   2208663   \n",
       "3  05    POINT (308210.284 -593478.999)    05    Arkansas   2999370    224130   \n",
       "4  06   POINT (-1948054.320 -87693.537)    06  California  39283497  15327688   \n",
       "\n",
       "   mexican_pop  hisp_pct_pop  mex_pct_all_pop  mex_pct_hisp_pop  \n",
       "0       126071          4.28             2.59             60.43  \n",
       "1        28205          7.04             3.83             54.38  \n",
       "2      1957968         31.33            27.77             88.65  \n",
       "3       161614          7.47             5.39             72.11  \n",
       "4     12687312         39.02            32.30             82.77  "
      ]
     },
     "execution_count": 23,
     "metadata": {},
     "output_type": "execute_result"
    }
   ],
   "source": [
    "merged_geo.head()"
   ]
  },
  {
   "cell_type": "code",
   "execution_count": 24,
   "id": "1d5f8dee-73df-46b8-b39e-46b8f7f667c1",
   "metadata": {},
   "outputs": [
    {
     "data": {
      "text/plain": [
       "<AxesSubplot:>"
      ]
     },
     "execution_count": 24,
     "metadata": {},
     "output_type": "execute_result"
    },
    {
     "data": {
      "image/png": "[encoded data removed]",
      "text/plain": [
       "<Figure size 432x288 with 1 Axes>"
      ]
     },
     "metadata": {
      "needs_background": "light"
     },
     "output_type": "display_data"
    }
   ],
   "source": [
    "merged_geo.plot()"
   ]
  },
  {
   "cell_type": "markdown",
   "id": "2e5aecc7-5618-488f-ab34-3c3e0cfd40e6",
   "metadata": {},
   "source": [
    "### Get AP states"
   ]
  },
  {
   "cell_type": "code",
   "execution_count": 25,
   "id": "542240d8-c7b5-4580-800e-763e2835b6f1",
   "metadata": {},
   "outputs": [],
   "source": [
    "ap_states = pd.read_csv(\"raw/ap_states.csv\")"
   ]
  },
  {
   "cell_type": "code",
   "execution_count": 26,
   "id": "aec0af13-95ae-4328-be8b-b7ded16b8b52",
   "metadata": {},
   "outputs": [
    {
     "data": {
      "text/html": [
       "<div>\n",
       "<style scoped>\n",
       "    .dataframe tbody tr th:only-of-type {\n",
       "        vertical-align: middle;\n",
       "    }\n",
       "\n",
       "    .dataframe tbody tr th {\n",
       "        vertical-align: top;\n",
       "    }\n",
       "\n",
       "    .dataframe thead th {\n",
       "        text-align: right;\n",
       "    }\n",
       "</style>\n",
       "<table border=\"1\" class=\"dataframe\">\n",
       "  <thead>\n",
       "    <tr style=\"text-align: right;\">\n",
       "      <th></th>\n",
       "      <th>name</th>\n",
       "      <th>usps</th>\n",
       "      <th>ap</th>\n",
       "    </tr>\n",
       "  </thead>\n",
       "  <tbody>\n",
       "    <tr>\n",
       "      <th>0</th>\n",
       "      <td>Alabama</td>\n",
       "      <td>AL</td>\n",
       "      <td>Ala.</td>\n",
       "    </tr>\n",
       "    <tr>\n",
       "      <th>1</th>\n",
       "      <td>Alaska</td>\n",
       "      <td>AK</td>\n",
       "      <td>Alaska</td>\n",
       "    </tr>\n",
       "    <tr>\n",
       "      <th>2</th>\n",
       "      <td>Arizona</td>\n",
       "      <td>AZ</td>\n",
       "      <td>Ariz.</td>\n",
       "    </tr>\n",
       "    <tr>\n",
       "      <th>3</th>\n",
       "      <td>Arkansas</td>\n",
       "      <td>AR</td>\n",
       "      <td>Ark.</td>\n",
       "    </tr>\n",
       "    <tr>\n",
       "      <th>4</th>\n",
       "      <td>California</td>\n",
       "      <td>CA</td>\n",
       "      <td>Calif.</td>\n",
       "    </tr>\n",
       "  </tbody>\n",
       "</table>\n",
       "</div>"
      ],
      "text/plain": [
       "         name usps      ap\n",
       "0     Alabama   AL    Ala.\n",
       "1      Alaska   AK  Alaska\n",
       "2     Arizona   AZ   Ariz.\n",
       "3    Arkansas   AR    Ark.\n",
       "4  California   CA  Calif."
      ]
     },
     "execution_count": 26,
     "metadata": {},
     "output_type": "execute_result"
    }
   ],
   "source": [
    "ap_states.head()"
   ]
  },
  {
   "cell_type": "markdown",
   "id": "0aae0061-517b-4650-b74d-dcbfeb713291",
   "metadata": {},
   "source": [
    "### Map AP names to our geodataframe"
   ]
  },
  {
   "cell_type": "code",
   "execution_count": 27,
   "id": "8a375614-aed7-4354-9c07-77baee4bb9b2",
   "metadata": {},
   "outputs": [],
   "source": [
    "merged_geo[\"ap_name\"] = merged_geo[\"name\"].map(ap_states.set_index(\"name\").ap)"
   ]
  },
  {
   "cell_type": "markdown",
   "id": "e9fe2430-53fe-41d9-937f-10d93b9a542a",
   "metadata": {},
   "source": [
    "### Back to GeoJSON projection"
   ]
  },
  {
   "cell_type": "code",
   "execution_count": 28,
   "id": "02cad26b-75b0-4acf-8b1c-6430e9e4e01a",
   "metadata": {},
   "outputs": [],
   "source": [
    "merged_geo = merged_geo.to_crs(\"epsg:4326\")"
   ]
  },
  {
   "cell_type": "markdown",
   "id": "28fb0cb0-2dcd-482e-9484-24e610eb1630",
   "metadata": {},
   "source": [
    "### Centroids, if we need them"
   ]
  },
  {
   "cell_type": "code",
   "execution_count": 29,
   "id": "6c62f860-11d7-45f1-94e2-64507a60d5de",
   "metadata": {},
   "outputs": [],
   "source": [
    "merged_geo[\"lon\"] = merged_geo.geometry.apply(lambda p: p.x)\n",
    "merged_geo[\"lat\"] = merged_geo.geometry.apply(lambda p: p.y)"
   ]
  },
  {
   "cell_type": "markdown",
   "id": "8c531557-12ea-4f08-8284-ccf44f11c5ed",
   "metadata": {},
   "source": [
    "### Export geo file"
   ]
  },
  {
   "cell_type": "code",
   "execution_count": 30,
   "id": "46dc47ed-a60d-4288-ab4a-d9eeb31f45ec",
   "metadata": {},
   "outputs": [],
   "source": [
    "merged_geo.to_file(\"output/large_places_hispanic_pop.geojson\", driver=\"GeoJSON\")"
   ]
  },
  {
   "cell_type": "markdown",
   "id": "928a58d3-e266-4438-87da-a7a6c1f6fb3f",
   "metadata": {},
   "source": [
    "### All caps name field for Datawrapper"
   ]
  },
  {
   "cell_type": "code",
   "execution_count": 31,
   "id": "f7c3c5ef-d3c6-4fd1-bca6-51a7a942f31e",
   "metadata": {},
   "outputs": [],
   "source": [
    "merged_geo[\"name_merge\"] = merged_geo[\"name\"]"
   ]
  },
  {
   "cell_type": "code",
   "execution_count": 32,
   "id": "859c4708-5f3a-422a-aadc-bf0642862638",
   "metadata": {},
   "outputs": [],
   "source": [
    "merged_geo[\n",
    "    [\n",
    "        \"geoid\",\n",
    "        \"name\",\n",
    "        \"name_merge\",\n",
    "        \"ap_name\",\n",
    "        \"all_pop\",\n",
    "        \"hisp_pop\",\n",
    "        \"mexican_pop\",\n",
    "        \"hisp_pct_pop\",\n",
    "        \"mex_pct_all_pop\",\n",
    "        \"mex_pct_hisp_pop\",\n",
    "        \"lon\",\n",
    "        \"lat\",\n",
    "    ]\n",
    "].to_csv(\"output/mexican_pop_states_datawrapper.csv\", index=False)"
   ]
  }
 ],
 "metadata": {
  "kernelspec": {
   "display_name": "Python 3",
   "language": "python",
   "name": "python3"
  },
  "language_info": {
   "codemirror_mode": {
    "name": "ipython",
    "version": 3
   },
   "file_extension": ".py",
   "mimetype": "text/x-python",
   "name": "python",
   "nbconvert_exporter": "python",
   "pygments_lexer": "ipython3",
   "version": "3.8.8"
  }
 },
 "nbformat": 4,
 "nbformat_minor": 5
}
