{
 "cells": [
  {
   "cell_type": "markdown",
   "id": "74c2d2a6-4a17-40cd-a3fa-15cd83df35ec",
   "metadata": {},
   "source": [
    "# U.S. Census Bureau: Median age by tract"
   ]
  },
  {
   "cell_type": "markdown",
   "id": "7be56bd7-3583-47a3-b815-d715112c1339",
   "metadata": {},
   "source": [
    "#### Import Python tools"
   ]
  },
  {
   "cell_type": "code",
   "execution_count": 1,
   "id": "c9d01008-b66e-4c31-9684-22425c29d897",
   "metadata": {},
   "outputs": [],
   "source": [
    "%load_ext lab_black"
   ]
  },
  {
   "cell_type": "code",
   "execution_count": 2,
   "id": "fcd9de7c-c6e4-4064-bd5b-c470e78790a8",
   "metadata": {},
   "outputs": [],
   "source": [
    "import pandas as pd\n",
    "import geopandas as gpd\n",
    "import numpy as np"
   ]
  },
  {
   "cell_type": "code",
   "execution_count": 3,
   "id": "11a98e13-0328-4a7d-be04-107b4a0f05c6",
   "metadata": {
    "tags": []
   },
   "outputs": [],
   "source": [
    "pd.options.display.max_columns = 100\n",
    "pd.options.display.max_rows = 100"
   ]
  },
  {
   "cell_type": "markdown",
   "id": "d68d3c0c-6a33-473e-8675-4f63ba7ce938",
   "metadata": {},
   "source": [
    "---"
   ]
  },
  {
   "cell_type": "markdown",
   "id": "522c3d88-14be-411e-8a11-41a885f001da",
   "metadata": {},
   "source": [
    "## Read data"
   ]
  },
  {
   "cell_type": "markdown",
   "id": "01f3cca4-fc31-488a-8478-89096083110f",
   "metadata": {},
   "source": [
    "#### Downloaded with [census-data-downloader](https://github.com/datadesk/census-data-downloader)"
   ]
  },
  {
   "cell_type": "code",
   "execution_count": 4,
   "id": "768d8d9e-f47d-43b1-9b8a-db2e54efe9ec",
   "metadata": {},
   "outputs": [],
   "source": [
    "src = pd.read_csv(\n",
    "    \"data/raw/acs5_2019_medianage_tracts.csv\",\n",
    "    dtype={\"tract\": str, \"county\": str, \"state\": str, \"geoid\": str},\n",
    ")"
   ]
  },
  {
   "cell_type": "code",
   "execution_count": 5,
   "id": "e4d6d3df-add1-445b-9f39-e221b4cfaa40",
   "metadata": {},
   "outputs": [
    {
     "data": {
      "text/plain": [
       "72877"
      ]
     },
     "execution_count": 5,
     "metadata": {},
     "output_type": "execute_result"
    }
   ],
   "source": [
    "len(src)"
   ]
  },
  {
   "cell_type": "code",
   "execution_count": 6,
   "id": "92f459c6-7a65-4cfe-8cb9-43d3bd3db1a0",
   "metadata": {},
   "outputs": [],
   "source": [
    "src[[\"tract_name\", \"county_name\", \"state_name\"]] = src[\"name\"].str.split(\n",
    "    \",\", expand=True\n",
    ")"
   ]
  },
  {
   "cell_type": "code",
   "execution_count": 7,
   "id": "41be7057-e6a5-4a85-ac53-56ddfae87066",
   "metadata": {},
   "outputs": [],
   "source": [
    "drop_cols = [\n",
    "    \"median_annotation\",\n",
    "    \"median_moe_annotation\",\n",
    "    \"median_moe_annotation\",\n",
    "    \"male_annotation\",\n",
    "    \"male_moe_annotation\",\n",
    "    \"female_annotation\",\n",
    "    \"female_moe_annotation\",\n",
    "    \"name\",\n",
    "]"
   ]
  },
  {
   "cell_type": "code",
   "execution_count": 8,
   "id": "9aa448b4-aa27-4cf7-be64-6b888f1ce834",
   "metadata": {},
   "outputs": [],
   "source": [
    "src_df = (\n",
    "    src[src[\"median\"] != -666666666.0]\n",
    "    .drop(drop_cols, axis=1)\n",
    "    .sort_values(\"median\", ascending=False)\n",
    "    .copy()\n",
    ")"
   ]
  },
  {
   "cell_type": "code",
   "execution_count": 9,
   "id": "81e0d4ff-0c46-43cf-8319-7e26a27779ab",
   "metadata": {},
   "outputs": [
    {
     "data": {
      "text/html": [
       "<div>\n",
       "<style scoped>\n",
       "    .dataframe tbody tr th:only-of-type {\n",
       "        vertical-align: middle;\n",
       "    }\n",
       "\n",
       "    .dataframe tbody tr th {\n",
       "        vertical-align: top;\n",
       "    }\n",
       "\n",
       "    .dataframe thead th {\n",
       "        text-align: right;\n",
       "    }\n",
       "</style>\n",
       "<table border=\"1\" class=\"dataframe\">\n",
       "  <thead>\n",
       "    <tr style=\"text-align: right;\">\n",
       "      <th></th>\n",
       "      <th>geoid</th>\n",
       "      <th>median</th>\n",
       "      <th>median_moe</th>\n",
       "      <th>male</th>\n",
       "      <th>male_moe</th>\n",
       "      <th>female</th>\n",
       "      <th>female_moe</th>\n",
       "      <th>state</th>\n",
       "      <th>county</th>\n",
       "      <th>tract</th>\n",
       "      <th>tract_name</th>\n",
       "      <th>county_name</th>\n",
       "      <th>state_name</th>\n",
       "    </tr>\n",
       "  </thead>\n",
       "  <tbody>\n",
       "    <tr>\n",
       "      <th>16009</th>\n",
       "      <td>12071001915</td>\n",
       "      <td>82.8</td>\n",
       "      <td>1.1</td>\n",
       "      <td>85.0</td>\n",
       "      <td>3.2</td>\n",
       "      <td>82.4</td>\n",
       "      <td>1.2</td>\n",
       "      <td>12</td>\n",
       "      <td>071</td>\n",
       "      <td>001915</td>\n",
       "      <td>Census Tract 19.15</td>\n",
       "      <td>Lee County</td>\n",
       "      <td>Florida</td>\n",
       "    </tr>\n",
       "    <tr>\n",
       "      <th>45785</th>\n",
       "      <td>36081155101</td>\n",
       "      <td>82.1</td>\n",
       "      <td>4.2</td>\n",
       "      <td>81.8</td>\n",
       "      <td>4.2</td>\n",
       "      <td>82.2</td>\n",
       "      <td>6.3</td>\n",
       "      <td>36</td>\n",
       "      <td>081</td>\n",
       "      <td>155101</td>\n",
       "      <td>Census Tract 1551.01</td>\n",
       "      <td>Queens County</td>\n",
       "      <td>New York</td>\n",
       "    </tr>\n",
       "    <tr>\n",
       "      <th>42653</th>\n",
       "      <td>35049000400</td>\n",
       "      <td>80.0</td>\n",
       "      <td>6.3</td>\n",
       "      <td>72.1</td>\n",
       "      <td>16.3</td>\n",
       "      <td>80.6</td>\n",
       "      <td>5.7</td>\n",
       "      <td>35</td>\n",
       "      <td>049</td>\n",
       "      <td>000400</td>\n",
       "      <td>Census Tract 4</td>\n",
       "      <td>Santa Fe County</td>\n",
       "      <td>New Mexico</td>\n",
       "    </tr>\n",
       "    <tr>\n",
       "      <th>30363</th>\n",
       "      <td>24031703218</td>\n",
       "      <td>79.8</td>\n",
       "      <td>1.2</td>\n",
       "      <td>81.9</td>\n",
       "      <td>2.9</td>\n",
       "      <td>79.6</td>\n",
       "      <td>1.0</td>\n",
       "      <td>24</td>\n",
       "      <td>031</td>\n",
       "      <td>703218</td>\n",
       "      <td>Census Tract 7032.18</td>\n",
       "      <td>Montgomery County</td>\n",
       "      <td>Maryland</td>\n",
       "    </tr>\n",
       "    <tr>\n",
       "      <th>6602</th>\n",
       "      <td>06013351103</td>\n",
       "      <td>78.9</td>\n",
       "      <td>1.8</td>\n",
       "      <td>78.4</td>\n",
       "      <td>2.4</td>\n",
       "      <td>79.3</td>\n",
       "      <td>1.9</td>\n",
       "      <td>06</td>\n",
       "      <td>013</td>\n",
       "      <td>351103</td>\n",
       "      <td>Census Tract 3511.03</td>\n",
       "      <td>Contra Costa County</td>\n",
       "      <td>California</td>\n",
       "    </tr>\n",
       "  </tbody>\n",
       "</table>\n",
       "</div>"
      ],
      "text/plain": [
       "             geoid  median  median_moe  male  male_moe  female  female_moe  \\\n",
       "16009  12071001915    82.8         1.1  85.0       3.2    82.4         1.2   \n",
       "45785  36081155101    82.1         4.2  81.8       4.2    82.2         6.3   \n",
       "42653  35049000400    80.0         6.3  72.1      16.3    80.6         5.7   \n",
       "30363  24031703218    79.8         1.2  81.9       2.9    79.6         1.0   \n",
       "6602   06013351103    78.9         1.8  78.4       2.4    79.3         1.9   \n",
       "\n",
       "      state county   tract            tract_name           county_name  \\\n",
       "16009    12    071  001915    Census Tract 19.15            Lee County   \n",
       "45785    36    081  155101  Census Tract 1551.01         Queens County   \n",
       "42653    35    049  000400        Census Tract 4       Santa Fe County   \n",
       "30363    24    031  703218  Census Tract 7032.18     Montgomery County   \n",
       "6602     06    013  351103  Census Tract 3511.03   Contra Costa County   \n",
       "\n",
       "        state_name  \n",
       "16009      Florida  \n",
       "45785     New York  \n",
       "42653   New Mexico  \n",
       "30363     Maryland  \n",
       "6602    California  "
      ]
     },
     "execution_count": 9,
     "metadata": {},
     "output_type": "execute_result"
    }
   ],
   "source": [
    "src_df.head()"
   ]
  },
  {
   "cell_type": "code",
   "execution_count": 10,
   "id": "9a840b7b-d514-4743-953a-e59595797cc6",
   "metadata": {},
   "outputs": [],
   "source": [
    "df = src_df[\n",
    "    [\n",
    "        \"geoid\",\n",
    "        \"tract\",\n",
    "        \"tract_name\",\n",
    "        \"county_name\",\n",
    "        \"state_name\",\n",
    "        \"median\",\n",
    "        \"male\",\n",
    "        \"female\",\n",
    "    ]\n",
    "].copy()"
   ]
  },
  {
   "cell_type": "code",
   "execution_count": 11,
   "id": "2d665858-ca28-4f05-8249-977d748543e4",
   "metadata": {},
   "outputs": [
    {
     "data": {
      "text/html": [
       "<div>\n",
       "<style scoped>\n",
       "    .dataframe tbody tr th:only-of-type {\n",
       "        vertical-align: middle;\n",
       "    }\n",
       "\n",
       "    .dataframe tbody tr th {\n",
       "        vertical-align: top;\n",
       "    }\n",
       "\n",
       "    .dataframe thead th {\n",
       "        text-align: right;\n",
       "    }\n",
       "</style>\n",
       "<table border=\"1\" class=\"dataframe\">\n",
       "  <thead>\n",
       "    <tr style=\"text-align: right;\">\n",
       "      <th></th>\n",
       "      <th>geoid</th>\n",
       "      <th>tract</th>\n",
       "      <th>tract_name</th>\n",
       "      <th>county_name</th>\n",
       "      <th>state_name</th>\n",
       "      <th>median</th>\n",
       "      <th>male</th>\n",
       "      <th>female</th>\n",
       "    </tr>\n",
       "  </thead>\n",
       "  <tbody>\n",
       "    <tr>\n",
       "      <th>16009</th>\n",
       "      <td>12071001915</td>\n",
       "      <td>001915</td>\n",
       "      <td>Census Tract 19.15</td>\n",
       "      <td>Lee County</td>\n",
       "      <td>Florida</td>\n",
       "      <td>82.8</td>\n",
       "      <td>85.0</td>\n",
       "      <td>82.4</td>\n",
       "    </tr>\n",
       "    <tr>\n",
       "      <th>45785</th>\n",
       "      <td>36081155101</td>\n",
       "      <td>155101</td>\n",
       "      <td>Census Tract 1551.01</td>\n",
       "      <td>Queens County</td>\n",
       "      <td>New York</td>\n",
       "      <td>82.1</td>\n",
       "      <td>81.8</td>\n",
       "      <td>82.2</td>\n",
       "    </tr>\n",
       "    <tr>\n",
       "      <th>42653</th>\n",
       "      <td>35049000400</td>\n",
       "      <td>000400</td>\n",
       "      <td>Census Tract 4</td>\n",
       "      <td>Santa Fe County</td>\n",
       "      <td>New Mexico</td>\n",
       "      <td>80.0</td>\n",
       "      <td>72.1</td>\n",
       "      <td>80.6</td>\n",
       "    </tr>\n",
       "    <tr>\n",
       "      <th>30363</th>\n",
       "      <td>24031703218</td>\n",
       "      <td>703218</td>\n",
       "      <td>Census Tract 7032.18</td>\n",
       "      <td>Montgomery County</td>\n",
       "      <td>Maryland</td>\n",
       "      <td>79.8</td>\n",
       "      <td>81.9</td>\n",
       "      <td>79.6</td>\n",
       "    </tr>\n",
       "    <tr>\n",
       "      <th>6602</th>\n",
       "      <td>06013351103</td>\n",
       "      <td>351103</td>\n",
       "      <td>Census Tract 3511.03</td>\n",
       "      <td>Contra Costa County</td>\n",
       "      <td>California</td>\n",
       "      <td>78.9</td>\n",
       "      <td>78.4</td>\n",
       "      <td>79.3</td>\n",
       "    </tr>\n",
       "  </tbody>\n",
       "</table>\n",
       "</div>"
      ],
      "text/plain": [
       "             geoid   tract            tract_name           county_name  \\\n",
       "16009  12071001915  001915    Census Tract 19.15            Lee County   \n",
       "45785  36081155101  155101  Census Tract 1551.01         Queens County   \n",
       "42653  35049000400  000400        Census Tract 4       Santa Fe County   \n",
       "30363  24031703218  703218  Census Tract 7032.18     Montgomery County   \n",
       "6602   06013351103  351103  Census Tract 3511.03   Contra Costa County   \n",
       "\n",
       "        state_name  median  male  female  \n",
       "16009      Florida    82.8  85.0    82.4  \n",
       "45785     New York    82.1  81.8    82.2  \n",
       "42653   New Mexico    80.0  72.1    80.6  \n",
       "30363     Maryland    79.8  81.9    79.6  \n",
       "6602    California    78.9  78.4    79.3  "
      ]
     },
     "execution_count": 11,
     "metadata": {},
     "output_type": "execute_result"
    }
   ],
   "source": [
    "df.head()"
   ]
  }
 ],
 "metadata": {
  "kernelspec": {
   "display_name": "Python 3 (ipykernel)",
   "language": "python",
   "name": "python3"
  },
  "language_info": {
   "codemirror_mode": {
    "name": "ipython",
    "version": 3
   },
   "file_extension": ".py",
   "mimetype": "text/x-python",
   "name": "python",
   "nbconvert_exporter": "python",
   "pygments_lexer": "ipython3",
   "version": "3.8.12"
  }
 },
 "nbformat": 4,
 "nbformat_minor": 5
}
