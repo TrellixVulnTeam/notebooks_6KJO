{
 "cells": [
  {
   "cell_type": "markdown",
   "metadata": {},
   "source": [
    "# Processing U.S. Census data"
   ]
  },
  {
   "cell_type": "code",
   "execution_count": 1,
   "metadata": {},
   "outputs": [],
   "source": [
    "%load_ext lab_black"
   ]
  },
  {
   "cell_type": "code",
   "execution_count": 8,
   "metadata": {},
   "outputs": [],
   "source": [
    "import pandas as pd\n",
    "import geopandas as gpd\n",
    "import matplotlib\n",
    "import matplotlib.pyplot as plt\n",
    "import json\n",
    "import numpy as np\n",
    "from altair import datum\n",
    "import altair as alt\n",
    "\n",
    "pd.options.display.max_columns = 200\n",
    "pd.options.display.max_rows = 1000"
   ]
  },
  {
   "cell_type": "markdown",
   "metadata": {},
   "source": [
    "### Import DataDesk tool"
   ]
  },
  {
   "cell_type": "code",
   "execution_count": 9,
   "metadata": {},
   "outputs": [],
   "source": [
    "CENSUS_API_KEY = \"a9396f6a6b695680e9f3fc9693003e3632093254\""
   ]
  },
  {
   "cell_type": "code",
   "execution_count": 13,
   "metadata": {},
   "outputs": [
    {
     "data": {
      "text/plain": [
       "['zsh:1: permission denied: /']"
      ]
     },
     "execution_count": 13,
     "metadata": {},
     "output_type": "execute_result"
    }
   ],
   "source": [
    "!!CENSUS_API_KEY='a9396f6a6b695680e9f3fc9693003e3632093254'"
   ]
  },
  {
   "cell_type": "code",
   "execution_count": null,
   "metadata": {},
   "outputs": [],
   "source": [
    "!censusdatadownloader age tracts"
   ]
  },
  {
   "cell_type": "code",
   "execution_count": null,
   "metadata": {},
   "outputs": [],
   "source": [
    "!censusdatadownloader population zctas"
   ]
  },
  {
   "cell_type": "code",
   "execution_count": null,
   "metadata": {},
   "outputs": [],
   "source": [
    "src = pd.read_csv(\n",
    "    \"../census/processed/acs5_2018_age_tracts.csv\",\n",
    "    low_memory=\"False\",\n",
    "    dtype={\"geoid\": str},\n",
    ")"
   ]
  },
  {
   "cell_type": "code",
   "execution_count": null,
   "metadata": {},
   "outputs": [],
   "source": [
    "df = src[\n",
    "    [\n",
    "        \"geoid\",\n",
    "        \"name\",\n",
    "        \"total_under_5\",\n",
    "        \"total_5_to_9\",\n",
    "        \"total_10_to_14\",\n",
    "        \"total_15_to_17\",\n",
    "        \"total_18_to_19\",\n",
    "        \"total_20\",\n",
    "        \"total_21\",\n",
    "        \"total_22_to_24\",\n",
    "        \"total_25_to_29\",\n",
    "        \"total_30_to_34\",\n",
    "        \"total_35_to_39\",\n",
    "        \"total_40_to_44\",\n",
    "        \"total_45_to_49\",\n",
    "        \"total_50_to_54\",\n",
    "        \"total_55_to_59\",\n",
    "        \"total_60_to_61\",\n",
    "        \"total_62_to_64\",\n",
    "        \"total_65_to_66\",\n",
    "        \"total_67_to_69\",\n",
    "        \"total_70_to_74\",\n",
    "        \"total_75_to_79\",\n",
    "        \"total_80_to_84\",\n",
    "        \"total_85_and_over\",\n",
    "    ]\n",
    "]"
   ]
  },
  {
   "cell_type": "code",
   "execution_count": null,
   "metadata": {},
   "outputs": [],
   "source": [
    "df.head()"
   ]
  },
  {
   "cell_type": "code",
   "execution_count": null,
   "metadata": {},
   "outputs": [],
   "source": [
    "df.to_csv(\"../coronavirus/input/tracts_age_cohorts.csv\", index=False)"
   ]
  },
  {
   "cell_type": "markdown",
   "metadata": {},
   "source": [
    "### California counties"
   ]
  },
  {
   "cell_type": "code",
   "execution_count": null,
   "metadata": {},
   "outputs": [],
   "source": [
    "counties = pd.read_csv(\"input/processed/acs5_2018_population_counties.csv\")"
   ]
  },
  {
   "cell_type": "code",
   "execution_count": null,
   "metadata": {},
   "outputs": [],
   "source": [
    "ca_counties = pd.DataFrame(counties[counties[\"name\"].str.contains(\", California\")])"
   ]
  },
  {
   "cell_type": "code",
   "execution_count": null,
   "metadata": {},
   "outputs": [],
   "source": [
    "ca_counties[\"name\"] = ca_counties[\"name\"].str.replace(\", California\", \"\")"
   ]
  },
  {
   "cell_type": "code",
   "execution_count": null,
   "metadata": {},
   "outputs": [],
   "source": [
    "ca_counties.sort_values(by=\"universe\", ascending=False).head(10)"
   ]
  },
  {
   "cell_type": "markdown",
   "metadata": {},
   "source": [
    "---"
   ]
  },
  {
   "cell_type": "markdown",
   "metadata": {},
   "source": [
    "### California cities"
   ]
  },
  {
   "cell_type": "code",
   "execution_count": null,
   "metadata": {},
   "outputs": [],
   "source": [
    "places = (\n",
    "    pd.read_csv(\n",
    "        \"input/processed/acs5_2018_population_places.csv\",\n",
    "        dtype={\"geoid\": str, \"state\": str, \"place\": str},\n",
    "    )\n",
    "    .drop([\"universe_annotation\", \"universe_moe\", \"universe_moe_annotation\"], axis=1)\n",
    "    .rename(columns={\"universe\": \"population\", \"name\": \"city\"})\n",
    ")"
   ]
  },
  {
   "cell_type": "code",
   "execution_count": null,
   "metadata": {},
   "outputs": [],
   "source": []
  },
  {
   "cell_type": "code",
   "execution_count": null,
   "metadata": {},
   "outputs": [],
   "source": [
    "ca_cities = pd.DataFrame(places[places[\"geoid\"].str.startswith(\"06\")])"
   ]
  },
  {
   "cell_type": "code",
   "execution_count": null,
   "metadata": {},
   "outputs": [],
   "source": [
    "ca_cities[\"city\"] = ca_cities[\"city\"].str.replace(\" city, California\", \"\")\n",
    "ca_cities[\"city\"] = ca_cities[\"city\"].str.replace(\" CDP, California\", \"\")\n",
    "ca_cities[\"city\"] = ca_cities[\"city\"].str.replace(\" town, California\", \"\")"
   ]
  },
  {
   "cell_type": "code",
   "execution_count": null,
   "metadata": {},
   "outputs": [],
   "source": [
    "ca_cities.loc[ca_cities.city.str.contains(\"Ventura\"), \"city\"] = \"Ventura\"\n",
    "ca_cities.loc[ca_cities.city.str.contains(\"Paso Robles\"), \"city\"] = \"Paso Robles\"\n",
    "ca_cities.loc[ca_cities.city.str.contains(\"Paso Robles\"), \"city\"] = \"Paso Robles\"\n",
    "ca_cities.loc[\n",
    "    ca_cities.city.str.contains(\"La Crescenta-Montrose\"), \"city\"\n",
    "] = \"La Crescenta\"\n",
    "ca_cities.loc[\n",
    "    ca_cities.city.str.contains(\"La Crescenta-Montrose\"), \"city\"\n",
    "] = \"La Crescenta\""
   ]
  },
  {
   "cell_type": "code",
   "execution_count": null,
   "metadata": {},
   "outputs": [],
   "source": [
    "ca_cities[ca_cities[\"city\"].str.contains(\"Alpine\")]"
   ]
  },
  {
   "cell_type": "code",
   "execution_count": null,
   "metadata": {},
   "outputs": [],
   "source": [
    "ca_cities[ca_cities[\"geoid\"] == \"\"]"
   ]
  },
  {
   "cell_type": "code",
   "execution_count": null,
   "metadata": {},
   "outputs": [],
   "source": [
    "ca_cities = ca_cities.drop([18742, 19030])"
   ]
  },
  {
   "cell_type": "code",
   "execution_count": null,
   "metadata": {},
   "outputs": [],
   "source": [
    "ca_cities.sort_values(by=\"population\", ascending=False).head()"
   ]
  },
  {
   "cell_type": "code",
   "execution_count": null,
   "metadata": {},
   "outputs": [],
   "source": [
    "len(ca_cities)"
   ]
  },
  {
   "cell_type": "code",
   "execution_count": null,
   "metadata": {},
   "outputs": [],
   "source": [
    "ca_cities.to_csv(\n",
    "    \"/Users/mhustiles/data/github/coronavirus-tracker/_notebooks/data/raw/census/ca_cities.csv\",\n",
    "    index=False,\n",
    ")"
   ]
  },
  {
   "cell_type": "code",
   "execution_count": null,
   "metadata": {},
   "outputs": [],
   "source": []
  },
  {
   "cell_type": "code",
   "execution_count": null,
   "metadata": {},
   "outputs": [],
   "source": [
    "la_communities = gpd.read_file(\n",
    "    \"/Users/mhustiles/data/data/GIS/LA/lac_cities_noislands.shp\"\n",
    ")"
   ]
  },
  {
   "cell_type": "code",
   "execution_count": null,
   "metadata": {},
   "outputs": [],
   "source": [
    "la_county_cities = la_communities[la_communities[\"CITY_TYPE\"] == \"City\"]"
   ]
  },
  {
   "cell_type": "code",
   "execution_count": null,
   "metadata": {},
   "outputs": [],
   "source": [
    "la_communities = gpd.read_file(\n",
    "    \"/Users/mhustiles/data/data/GIS/LA/LACITY_COMMUNITIES/LACITY_COMMUNITIES.shp\"\n",
    ")"
   ]
  },
  {
   "cell_type": "code",
   "execution_count": null,
   "metadata": {},
   "outputs": [],
   "source": [
    "la_communities[\"name\"] = la_communities[\"COMTY_NAME\"].str.title()"
   ]
  },
  {
   "cell_type": "code",
   "execution_count": null,
   "metadata": {},
   "outputs": [],
   "source": [
    "la_communities.columns = la_communities.columns.str.lower()"
   ]
  },
  {
   "cell_type": "code",
   "execution_count": null,
   "metadata": {},
   "outputs": [],
   "source": [
    "la_communities[[\"name\", \"geometry\"]].to_file(\n",
    "    \"/Users/mhustiles/data/github/coronavirus-tracker/_notebooks/data/raw/la_communities.geojson\"\n",
    ")"
   ]
  },
  {
   "cell_type": "code",
   "execution_count": null,
   "metadata": {},
   "outputs": [],
   "source": [
    "la_communities.head()"
   ]
  },
  {
   "cell_type": "code",
   "execution_count": null,
   "metadata": {},
   "outputs": [],
   "source": [
    "la_communities[la_communities[\"CITY_NAME\"].fillna(\"\").str.contains(\"South\")]"
   ]
  },
  {
   "cell_type": "code",
   "execution_count": null,
   "metadata": {},
   "outputs": [],
   "source": [
    "!mapshaper"
   ]
  },
  {
   "cell_type": "code",
   "execution_count": null,
   "metadata": {},
   "outputs": [],
   "source": [
    "ca_counties = gpd.read_file('/Users/mhustiles/data/data/GIS/ca-counties.geojson')"
   ]
  },
  {
   "cell_type": "code",
   "execution_count": null,
   "metadata": {},
   "outputs": [],
   "source": [
    "ca_counties.plot()"
   ]
  },
  {
   "cell_type": "code",
   "execution_count": null,
   "metadata": {},
   "outputs": [],
   "source": []
  },
  {
   "cell_type": "code",
   "execution_count": null,
   "metadata": {},
   "outputs": [],
   "source": []
  }
 ],
 "metadata": {
  "kernelspec": {
   "display_name": "Python 3",
   "language": "python",
   "name": "python3"
  },
  "language_info": {
   "codemirror_mode": {
    "name": "ipython",
    "version": 3
   },
   "file_extension": ".py",
   "mimetype": "text/x-python",
   "name": "python",
   "nbconvert_exporter": "python",
   "pygments_lexer": "ipython3",
   "version": "3.8.8"
  }
 },
 "nbformat": 4,
 "nbformat_minor": 4
}
