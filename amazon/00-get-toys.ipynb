{
 "cells": [
  {
   "cell_type": "markdown",
   "id": "fc299640-621a-42be-ab24-81a53c4a1301",
   "metadata": {},
   "source": [
    "### Scrape toys"
   ]
  },
  {
   "cell_type": "code",
   "execution_count": 1,
   "id": "65b9833e-2b49-4a86-ab37-ddc8a332e978",
   "metadata": {},
   "outputs": [],
   "source": [
    "from requests_html import HTMLSession\n",
    "import pandas as pd\n",
    "import requests\n",
    "from bs4 import BeautifulSoup\n",
    "import re"
   ]
  },
  {
   "cell_type": "code",
   "execution_count": 2,
   "id": "76ff16f5-baab-4724-b492-21655eae8f29",
   "metadata": {},
   "outputs": [],
   "source": [
    "results = []\n",
    "\n",
    "for r in range(1,401):\n",
    "    \n",
    "    # set up the request parameters\n",
    "    params = {\n",
    "        'api_key': '731F9C4DF1EC48979377DBB6D5F653D8',\n",
    "        'type': 'category',\n",
    "        'category_id': '166461011',\n",
    "        'output': 'json',\n",
    "        'amazon_domain': 'amazon.com',\n",
    "        'page': r\n",
    "    }\n",
    "\n",
    "    # make the http GET request to Rainforest API\n",
    "    api_result = requests.get('https://api.rainforestapi.com/request', params)\n",
    "    \n",
    "    results.append(api_result.json())"
   ]
  },
  {
   "cell_type": "code",
   "execution_count": 3,
   "id": "0731ac7f-93bd-4b5a-97ca-77df28ad9834",
   "metadata": {},
   "outputs": [],
   "source": [
    "def simple_dict(amazon_dict):\n",
    "    to_return = {}\n",
    "    try:\n",
    "        to_return['title'] = r['title']\n",
    "        to_return['link'] = r['link']\n",
    "        to_return['image'] = r['image']\n",
    "        to_return['rating'] = r['rating']\n",
    "        to_return['ratings_total'] = r['ratings_total']\n",
    "        to_return['sponsored'] = r['sponsored']\n",
    "        to_return['is_prime'] = r['is_prime']\n",
    "        to_return['categories'] = r['categories']\n",
    "        to_return['delivery'] = r['delivery']\n",
    "        to_return['price'] = r['price']\n",
    "    except KeyError:\n",
    "        to_return['title'] = r['title']\n",
    "        to_return['link'] = r['link']\n",
    "        to_return['image'] = r['image']\n",
    "    return to_return"
   ]
  },
  {
   "cell_type": "code",
   "execution_count": 4,
   "id": "95415a63-f292-40e1-9923-6a071266efe2",
   "metadata": {},
   "outputs": [
    {
     "ename": "NameError",
     "evalue": "name 'results' is not defined",
     "output_type": "error",
     "traceback": [
      "\u001b[0;31m---------------------------------------------------------------------------\u001b[0m",
      "\u001b[0;31mNameError\u001b[0m                                 Traceback (most recent call last)",
      "Input \u001b[0;32mIn [4]\u001b[0m, in \u001b[0;36m<module>\u001b[0;34m\u001b[0m\n\u001b[1;32m      1\u001b[0m dataframe \u001b[38;5;241m=\u001b[39m []\n\u001b[0;32m----> 3\u001b[0m \u001b[38;5;28;01mfor\u001b[39;00m result \u001b[38;5;129;01min\u001b[39;00m \u001b[43mresults\u001b[49m:\n\u001b[1;32m      4\u001b[0m     \u001b[38;5;28;01mtry\u001b[39;00m:\n\u001b[1;32m      5\u001b[0m         \u001b[38;5;28;01mfor\u001b[39;00m r \u001b[38;5;129;01min\u001b[39;00m result[\u001b[38;5;124m'\u001b[39m\u001b[38;5;124mcategory_results\u001b[39m\u001b[38;5;124m'\u001b[39m]:\n",
      "\u001b[0;31mNameError\u001b[0m: name 'results' is not defined"
     ]
    }
   ],
   "source": [
    "dataframe = []\n",
    "\n",
    "for result in results:\n",
    "    try:\n",
    "        for r in result['category_results']:\n",
    "            dataframe.append(simple_dict(r))\n",
    "    except KeyError:\n",
    "         continue"
   ]
  },
  {
   "cell_type": "code",
   "execution_count": 5,
   "id": "5d14b583-973d-46fc-8783-cbe76c89e59d",
   "metadata": {},
   "outputs": [],
   "source": [
    "df = pd.DataFrame(dataframe)"
   ]
  },
  {
   "cell_type": "markdown",
   "id": "772d5450-8847-48ae-84f5-8062d9945322",
   "metadata": {},
   "source": [
    "### Export"
   ]
  },
  {
   "cell_type": "code",
   "execution_count": null,
   "id": "94889015-df66-498b-87ee-92dc6439bb84",
   "metadata": {},
   "outputs": [],
   "source": [
    "df.to_csv('data/raw/products.csv', index=False)"
   ]
  }
 ],
 "metadata": {
  "kernelspec": {
   "display_name": "Python 3 (ipykernel)",
   "language": "python",
   "name": "python3"
  },
  "language_info": {
   "codemirror_mode": {
    "name": "ipython",
    "version": 3
   },
   "file_extension": ".py",
   "mimetype": "text/x-python",
   "name": "python",
   "nbconvert_exporter": "python",
   "pygments_lexer": "ipython3",
   "version": "3.8.9"
  }
 },
 "nbformat": 4,
 "nbformat_minor": 5
}
