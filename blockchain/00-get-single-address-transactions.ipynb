{
 "cells": [
  {
   "cell_type": "markdown",
   "id": "bfdad5fa-d5e2-4d75-89dc-12cf1136ed26",
   "metadata": {},
   "source": [
    "# Blockchain API: Get data for a single address"
   ]
  },
  {
   "cell_type": "code",
   "execution_count": 1,
   "id": "334aeda1-f6d8-4395-8fe9-69565bcc4dbc",
   "metadata": {},
   "outputs": [],
   "source": [
    "import pandas as pd\n",
    "import altair as alt"
   ]
  },
  {
   "cell_type": "code",
   "execution_count": 2,
   "id": "c8ef428d-d447-41ea-ad88-3d17b3275734",
   "metadata": {},
   "outputs": [],
   "source": [
    "pd.options.display.max_columns = 200\n",
    "pd.options.display.max_rows = 1000\n",
    "pd.set_option(\"display.max_colwidth\", None)"
   ]
  },
  {
   "cell_type": "markdown",
   "id": "68c1409a-d6c5-45e2-9db7-6789b6ea07e5",
   "metadata": {},
   "source": [
    "### Call url"
   ]
  },
  {
   "cell_type": "code",
   "execution_count": 3,
   "id": "7a2be164-72e8-4dcb-be27-210bf47638fc",
   "metadata": {},
   "outputs": [],
   "source": [
    "url = 'https://blockchain.info/rawaddr/1Bm9Eqyd46qhJH8pQi7W8QxDA5VhbtKbXK?format=json&limit=1000'"
   ]
  },
  {
   "cell_type": "markdown",
   "id": "e088b76f-8791-4edd-9d87-1b4985475e7d",
   "metadata": {},
   "source": [
    "### Read the results"
   ]
  },
  {
   "cell_type": "code",
   "execution_count": 4,
   "id": "6c9f5846-4353-4516-9204-ef9438f160ab",
   "metadata": {},
   "outputs": [],
   "source": [
    "src = pd.read_json(url)"
   ]
  },
  {
   "cell_type": "markdown",
   "id": "9078256e-cfb5-4ba0-88e6-58744fc19718",
   "metadata": {},
   "source": [
    "### How many records? "
   ]
  },
  {
   "cell_type": "code",
   "execution_count": 5,
   "id": "63405062-e22f-46eb-8569-c5d74e6dc695",
   "metadata": {},
   "outputs": [
    {
     "data": {
      "text/plain": [
       "300"
      ]
     },
     "execution_count": 5,
     "metadata": {},
     "output_type": "execute_result"
    }
   ],
   "source": [
    "len(src)"
   ]
  },
  {
   "cell_type": "markdown",
   "id": "6830b4bb-2ce4-4c49-8f2d-0f835648093d",
   "metadata": {},
   "source": [
    "### The transaction specific data are in a nexted column called 'txs'"
   ]
  },
  {
   "cell_type": "code",
   "execution_count": 6,
   "id": "f358b2bb-0564-4442-aa99-de598c906869",
   "metadata": {},
   "outputs": [],
   "source": [
    "txs = pd.json_normalize(src['txs'])"
   ]
  },
  {
   "cell_type": "markdown",
   "id": "6940bbbb-8118-40d1-bac8-49db8849f993",
   "metadata": {},
   "source": [
    "### Deal with dates, times"
   ]
  },
  {
   "cell_type": "code",
   "execution_count": 7,
   "id": "bc7337f0-d0ce-47e6-ba78-ce66ba64acd5",
   "metadata": {},
   "outputs": [],
   "source": [
    "txs['datetime'] = pd.to_datetime(txs['time'], unit='s')"
   ]
  },
  {
   "cell_type": "code",
   "execution_count": 8,
   "id": "a3633913-271e-4cbd-8bf0-e9354818a486",
   "metadata": {},
   "outputs": [],
   "source": [
    "txs['date'] = txs['datetime'].dt.date\n",
    "txs['time'] = txs['datetime'].dt.time"
   ]
  },
  {
   "cell_type": "markdown",
   "id": "b7ea3e00-6c96-42b4-84f6-71190c0a2a2d",
   "metadata": {},
   "source": [
    "### Only include fields that seem descriptive"
   ]
  },
  {
   "cell_type": "code",
   "execution_count": 9,
   "id": "9c686cee-6f6a-4d76-aca7-e173756a4445",
   "metadata": {},
   "outputs": [],
   "source": [
    "txs_slim = txs[[\"datetime\", 'date', 'time', 'result', 'balance', 'fee', 'hash', 'ver', 'vin_sz', 'vout_sz', 'size', 'weight', 'tx_index',\n",
    "       'block_index', 'block_height', ]].copy()"
   ]
  },
  {
   "cell_type": "code",
   "execution_count": 10,
   "id": "97c01358-d5d2-4d86-871a-1505790572c8",
   "metadata": {},
   "outputs": [
    {
     "data": {
      "text/html": [
       "<div>\n",
       "<style scoped>\n",
       "    .dataframe tbody tr th:only-of-type {\n",
       "        vertical-align: middle;\n",
       "    }\n",
       "\n",
       "    .dataframe tbody tr th {\n",
       "        vertical-align: top;\n",
       "    }\n",
       "\n",
       "    .dataframe thead th {\n",
       "        text-align: right;\n",
       "    }\n",
       "</style>\n",
       "<table border=\"1\" class=\"dataframe\">\n",
       "  <thead>\n",
       "    <tr style=\"text-align: right;\">\n",
       "      <th></th>\n",
       "      <th>datetime</th>\n",
       "      <th>date</th>\n",
       "      <th>time</th>\n",
       "      <th>result</th>\n",
       "      <th>balance</th>\n",
       "      <th>fee</th>\n",
       "      <th>hash</th>\n",
       "      <th>ver</th>\n",
       "      <th>vin_sz</th>\n",
       "      <th>vout_sz</th>\n",
       "      <th>size</th>\n",
       "      <th>weight</th>\n",
       "      <th>tx_index</th>\n",
       "      <th>block_index</th>\n",
       "      <th>block_height</th>\n",
       "    </tr>\n",
       "  </thead>\n",
       "  <tbody>\n",
       "    <tr>\n",
       "      <th>0</th>\n",
       "      <td>2021-12-07 21:21:37</td>\n",
       "      <td>2021-12-07</td>\n",
       "      <td>21:21:37</td>\n",
       "      <td>1055733</td>\n",
       "      <td>20209519</td>\n",
       "      <td>541</td>\n",
       "      <td>fb4f06c6e58af5cc365a0109480e501eec172958828709e78861f3a8c013fd2d</td>\n",
       "      <td>2</td>\n",
       "      <td>2</td>\n",
       "      <td>1</td>\n",
       "      <td>344</td>\n",
       "      <td>722</td>\n",
       "      <td>1618079403810412</td>\n",
       "      <td>713104</td>\n",
       "      <td>713104</td>\n",
       "    </tr>\n",
       "    <tr>\n",
       "      <th>1</th>\n",
       "      <td>2021-12-07 16:30:10</td>\n",
       "      <td>2021-12-07</td>\n",
       "      <td>16:30:10</td>\n",
       "      <td>1666388</td>\n",
       "      <td>19153786</td>\n",
       "      <td>11245</td>\n",
       "      <td>46bedd9794ccf60a7cfed37e7f7d6d13ed3d508449c2159283a8c9d2278e61b1</td>\n",
       "      <td>1</td>\n",
       "      <td>1</td>\n",
       "      <td>79</td>\n",
       "      <td>2743</td>\n",
       "      <td>10645</td>\n",
       "      <td>6241041757395253</td>\n",
       "      <td>713064</td>\n",
       "      <td>713064</td>\n",
       "    </tr>\n",
       "    <tr>\n",
       "      <th>2</th>\n",
       "      <td>2021-12-07 09:31:01</td>\n",
       "      <td>2021-12-07</td>\n",
       "      <td>09:31:01</td>\n",
       "      <td>1921254</td>\n",
       "      <td>17487398</td>\n",
       "      <td>745</td>\n",
       "      <td>6c742784cfae27b6cd56c30fe0237302d1365d0dfe491a1675a3285dd2a19d13</td>\n",
       "      <td>1</td>\n",
       "      <td>3</td>\n",
       "      <td>1</td>\n",
       "      <td>491</td>\n",
       "      <td>992</td>\n",
       "      <td>690167862764820</td>\n",
       "      <td>713015</td>\n",
       "      <td>713015</td>\n",
       "    </tr>\n",
       "    <tr>\n",
       "      <th>3</th>\n",
       "      <td>2021-12-07 09:05:23</td>\n",
       "      <td>2021-12-07</td>\n",
       "      <td>09:05:23</td>\n",
       "      <td>2035140</td>\n",
       "      <td>15566144</td>\n",
       "      <td>338</td>\n",
       "      <td>63c485763d5de79bd4c32354527de408cc3d2fa86502da1e8c8b68922d5d2715</td>\n",
       "      <td>2</td>\n",
       "      <td>1</td>\n",
       "      <td>1</td>\n",
       "      <td>194</td>\n",
       "      <td>449</td>\n",
       "      <td>744281957616913</td>\n",
       "      <td>713013</td>\n",
       "      <td>713013</td>\n",
       "    </tr>\n",
       "    <tr>\n",
       "      <th>4</th>\n",
       "      <td>2021-12-07 07:17:22</td>\n",
       "      <td>2021-12-07</td>\n",
       "      <td>07:17:22</td>\n",
       "      <td>97814</td>\n",
       "      <td>13531004</td>\n",
       "      <td>540</td>\n",
       "      <td>53cec7da7caa99d8ec4abf1bee3411fbfb18fff27b95fa8c85836e7bdaa25297</td>\n",
       "      <td>2</td>\n",
       "      <td>2</td>\n",
       "      <td>2</td>\n",
       "      <td>374</td>\n",
       "      <td>845</td>\n",
       "      <td>5324197610876368</td>\n",
       "      <td>713003</td>\n",
       "      <td>713003</td>\n",
       "    </tr>\n",
       "  </tbody>\n",
       "</table>\n",
       "</div>"
      ],
      "text/plain": [
       "             datetime        date      time   result   balance    fee  \\\n",
       "0 2021-12-07 21:21:37  2021-12-07  21:21:37  1055733  20209519    541   \n",
       "1 2021-12-07 16:30:10  2021-12-07  16:30:10  1666388  19153786  11245   \n",
       "2 2021-12-07 09:31:01  2021-12-07  09:31:01  1921254  17487398    745   \n",
       "3 2021-12-07 09:05:23  2021-12-07  09:05:23  2035140  15566144    338   \n",
       "4 2021-12-07 07:17:22  2021-12-07  07:17:22    97814  13531004    540   \n",
       "\n",
       "                                                               hash  ver  \\\n",
       "0  fb4f06c6e58af5cc365a0109480e501eec172958828709e78861f3a8c013fd2d    2   \n",
       "1  46bedd9794ccf60a7cfed37e7f7d6d13ed3d508449c2159283a8c9d2278e61b1    1   \n",
       "2  6c742784cfae27b6cd56c30fe0237302d1365d0dfe491a1675a3285dd2a19d13    1   \n",
       "3  63c485763d5de79bd4c32354527de408cc3d2fa86502da1e8c8b68922d5d2715    2   \n",
       "4  53cec7da7caa99d8ec4abf1bee3411fbfb18fff27b95fa8c85836e7bdaa25297    2   \n",
       "\n",
       "   vin_sz  vout_sz  size  weight          tx_index  block_index  block_height  \n",
       "0       2        1   344     722  1618079403810412       713104        713104  \n",
       "1       1       79  2743   10645  6241041757395253       713064        713064  \n",
       "2       3        1   491     992   690167862764820       713015        713015  \n",
       "3       1        1   194     449   744281957616913       713013        713013  \n",
       "4       2        2   374     845  5324197610876368       713003        713003  "
      ]
     },
     "execution_count": 10,
     "metadata": {},
     "output_type": "execute_result"
    }
   ],
   "source": [
    "txs_slim.head()"
   ]
  },
  {
   "cell_type": "markdown",
   "id": "9ec3e021-70b1-4104-8d7b-7c317e046992",
   "metadata": {},
   "source": [
    "---"
   ]
  },
  {
   "cell_type": "markdown",
   "id": "f5ed46d3-e6d0-4f52-a5b1-4b249db80869",
   "metadata": {},
   "source": [
    "### Aggregate"
   ]
  },
  {
   "cell_type": "code",
   "execution_count": 11,
   "id": "f4a4aa56-6710-4124-8c70-63681cb9dbf3",
   "metadata": {},
   "outputs": [],
   "source": [
    "txs_slim_grp = txs_slim.groupby(['date']).agg({'hash': 'count', 'fee':['mean', 'sum']}).round(2).reset_index()"
   ]
  },
  {
   "cell_type": "code",
   "execution_count": 12,
   "id": "82d0223f-9c10-4a82-ba24-af4226a3309f",
   "metadata": {},
   "outputs": [],
   "source": [
    "txs_slim_grp.columns = ['_'.join(col).strip() for col in txs_slim_grp.columns.values]"
   ]
  },
  {
   "cell_type": "code",
   "execution_count": 13,
   "id": "2706a0f9-745e-487c-a742-03d145bb8e9f",
   "metadata": {},
   "outputs": [],
   "source": [
    "txs_slim_grp.rename(columns={'date_':'date', 'hash_count': 'transaction_count'}, inplace=True)"
   ]
  },
  {
   "cell_type": "code",
   "execution_count": 14,
   "id": "3628a4c1-c141-4e2f-bbca-5d4da5b8da80",
   "metadata": {},
   "outputs": [],
   "source": [
    "txs_slim_grp['date'] = pd.to_datetime(txs_slim_grp['date'])"
   ]
  },
  {
   "cell_type": "markdown",
   "id": "74ed7d4e-784f-4369-8611-b07486554e18",
   "metadata": {},
   "source": [
    "---"
   ]
  },
  {
   "cell_type": "markdown",
   "id": "0caa5c93-7bd3-430f-8ea0-5eedeacf48cb",
   "metadata": {},
   "source": [
    "### Average daily transaction count"
   ]
  },
  {
   "cell_type": "code",
   "execution_count": 15,
   "id": "cbb99253-fac0-4787-9217-cc01a44aafb8",
   "metadata": {},
   "outputs": [
    {
     "data": {
      "text/html": [
       "\n",
       "<div id=\"altair-viz-78459e6f51bd4b6ab48ae8935ae366b0\"></div>\n",
       "<script type=\"text/javascript\">\n",
       "  (function(spec, embedOpt){\n",
       "    let outputDiv = document.currentScript.previousElementSibling;\n",
       "    if (outputDiv.id !== \"altair-viz-78459e6f51bd4b6ab48ae8935ae366b0\") {\n",
       "      outputDiv = document.getElementById(\"altair-viz-78459e6f51bd4b6ab48ae8935ae366b0\");\n",
       "    }\n",
       "    const paths = {\n",
       "      \"vega\": \"https://cdn.jsdelivr.net/npm//vega@5?noext\",\n",
       "      \"vega-lib\": \"https://cdn.jsdelivr.net/npm//vega-lib?noext\",\n",
       "      \"vega-lite\": \"https://cdn.jsdelivr.net/npm//vega-lite@4.8.1?noext\",\n",
       "      \"vega-embed\": \"https://cdn.jsdelivr.net/npm//vega-embed@6?noext\",\n",
       "    };\n",
       "\n",
       "    function loadScript(lib) {\n",
       "      return new Promise(function(resolve, reject) {\n",
       "        var s = document.createElement('script');\n",
       "        s.src = paths[lib];\n",
       "        s.async = true;\n",
       "        s.onload = () => resolve(paths[lib]);\n",
       "        s.onerror = () => reject(`Error loading script: ${paths[lib]}`);\n",
       "        document.getElementsByTagName(\"head\")[0].appendChild(s);\n",
       "      });\n",
       "    }\n",
       "\n",
       "    function showError(err) {\n",
       "      outputDiv.innerHTML = `<div class=\"error\" style=\"color:red;\">${err}</div>`;\n",
       "      throw err;\n",
       "    }\n",
       "\n",
       "    function displayChart(vegaEmbed) {\n",
       "      vegaEmbed(outputDiv, spec, embedOpt)\n",
       "        .catch(err => showError(`Javascript Error: ${err.message}<br>This usually means there's a typo in your chart specification. See the javascript console for the full traceback.`));\n",
       "    }\n",
       "\n",
       "    if(typeof define === \"function\" && define.amd) {\n",
       "      requirejs.config({paths});\n",
       "      require([\"vega-embed\"], displayChart, err => showError(`Error loading script: ${err.message}`));\n",
       "    } else if (typeof vegaEmbed === \"function\") {\n",
       "      displayChart(vegaEmbed);\n",
       "    } else {\n",
       "      loadScript(\"vega\")\n",
       "        .then(() => loadScript(\"vega-lite\"))\n",
       "        .then(() => loadScript(\"vega-embed\"))\n",
       "        .catch(showError)\n",
       "        .then(() => displayChart(vegaEmbed));\n",
       "    }\n",
       "  })({\"config\": {\"view\": {\"continuousWidth\": 400, \"continuousHeight\": 300}}, \"data\": {\"name\": \"data-a7424ee87fcce05328f17589b849cf30\"}, \"mark\": \"bar\", \"encoding\": {\"x\": {\"type\": \"temporal\", \"field\": \"date\"}, \"y\": {\"type\": \"quantitative\", \"field\": \"transaction_count\"}}, \"$schema\": \"https://vega.github.io/schema/vega-lite/v4.8.1.json\", \"datasets\": {\"data-a7424ee87fcce05328f17589b849cf30\": [{\"date\": \"2021-04-24T00:00:00\", \"transaction_count\": 2, \"fee_mean\": 5005307.5, \"fee_sum\": 10010615}, {\"date\": \"2021-05-05T00:00:00\", \"transaction_count\": 2, \"fee_mean\": 5734.0, \"fee_sum\": 11468}, {\"date\": \"2021-05-06T00:00:00\", \"transaction_count\": 1, \"fee_mean\": 4372496.0, \"fee_sum\": 4372496}, {\"date\": \"2021-05-07T00:00:00\", \"transaction_count\": 1, \"fee_mean\": 7613333.0, \"fee_sum\": 7613333}, {\"date\": \"2021-05-08T00:00:00\", \"transaction_count\": 3, \"fee_mean\": 88648.67, \"fee_sum\": 265946}, {\"date\": \"2021-05-09T00:00:00\", \"transaction_count\": 1, \"fee_mean\": 1130.0, \"fee_sum\": 1130}, {\"date\": \"2021-05-10T00:00:00\", \"transaction_count\": 4, \"fee_mean\": 3231011.25, \"fee_sum\": 12924045}, {\"date\": \"2021-05-11T00:00:00\", \"transaction_count\": 2, \"fee_mean\": 1921450.5, \"fee_sum\": 3842901}, {\"date\": \"2021-06-02T00:00:00\", \"transaction_count\": 2, \"fee_mean\": 7264.0, \"fee_sum\": 14528}, {\"date\": \"2021-06-03T00:00:00\", \"transaction_count\": 1, \"fee_mean\": 2463655.0, \"fee_sum\": 2463655}, {\"date\": \"2021-06-05T00:00:00\", \"transaction_count\": 2, \"fee_mean\": 461664.0, \"fee_sum\": 923328}, {\"date\": \"2021-06-07T00:00:00\", \"transaction_count\": 1, \"fee_mean\": 12408.0, \"fee_sum\": 12408}, {\"date\": \"2021-06-08T00:00:00\", \"transaction_count\": 1, \"fee_mean\": 636402.0, \"fee_sum\": 636402}, {\"date\": \"2021-06-26T00:00:00\", \"transaction_count\": 1, \"fee_mean\": 698.0, \"fee_sum\": 698}, {\"date\": \"2021-07-01T00:00:00\", \"transaction_count\": 1, \"fee_mean\": 3273003.0, \"fee_sum\": 3273003}, {\"date\": \"2021-07-22T00:00:00\", \"transaction_count\": 1, \"fee_mean\": 4332.0, \"fee_sum\": 4332}, {\"date\": \"2021-07-23T00:00:00\", \"transaction_count\": 1, \"fee_mean\": 159519.0, \"fee_sum\": 159519}, {\"date\": \"2021-07-26T00:00:00\", \"transaction_count\": 1, \"fee_mean\": 336.0, \"fee_sum\": 336}, {\"date\": \"2021-07-30T00:00:00\", \"transaction_count\": 1, \"fee_mean\": 171889.0, \"fee_sum\": 171889}, {\"date\": \"2021-08-04T00:00:00\", \"transaction_count\": 1, \"fee_mean\": 12118.0, \"fee_sum\": 12118}, {\"date\": \"2021-08-05T00:00:00\", \"transaction_count\": 1, \"fee_mean\": 195980.0, \"fee_sum\": 195980}, {\"date\": \"2021-08-14T00:00:00\", \"transaction_count\": 1, \"fee_mean\": 336.0, \"fee_sum\": 336}, {\"date\": \"2021-08-17T00:00:00\", \"transaction_count\": 1, \"fee_mean\": 989.0, \"fee_sum\": 989}, {\"date\": \"2021-08-18T00:00:00\", \"transaction_count\": 1, \"fee_mean\": 2043.0, \"fee_sum\": 2043}, {\"date\": \"2021-08-19T00:00:00\", \"transaction_count\": 1, \"fee_mean\": 36458.0, \"fee_sum\": 36458}, {\"date\": \"2021-08-25T00:00:00\", \"transaction_count\": 1, \"fee_mean\": 336.0, \"fee_sum\": 336}, {\"date\": \"2021-08-26T00:00:00\", \"transaction_count\": 1, \"fee_mean\": 123149.0, \"fee_sum\": 123149}, {\"date\": \"2021-08-31T00:00:00\", \"transaction_count\": 1, \"fee_mean\": 671.0, \"fee_sum\": 671}, {\"date\": \"2021-09-01T00:00:00\", \"transaction_count\": 3, \"fee_mean\": 29950.0, \"fee_sum\": 89850}, {\"date\": \"2021-09-02T00:00:00\", \"transaction_count\": 4, \"fee_mean\": 73876.25, \"fee_sum\": 295505}, {\"date\": \"2021-09-04T00:00:00\", \"transaction_count\": 1, \"fee_mean\": 681.0, \"fee_sum\": 681}, {\"date\": \"2021-09-05T00:00:00\", \"transaction_count\": 1, \"fee_mean\": 336.0, \"fee_sum\": 336}, {\"date\": \"2021-09-07T00:00:00\", \"transaction_count\": 2, \"fee_mean\": 301654.0, \"fee_sum\": 603308}, {\"date\": \"2021-09-09T00:00:00\", \"transaction_count\": 1, \"fee_mean\": 6243.0, \"fee_sum\": 6243}, {\"date\": \"2021-09-10T00:00:00\", \"transaction_count\": 1, \"fee_mean\": 139843.0, \"fee_sum\": 139843}, {\"date\": \"2021-09-12T00:00:00\", \"transaction_count\": 2, \"fee_mean\": 64504.0, \"fee_sum\": 129008}, {\"date\": \"2021-09-14T00:00:00\", \"transaction_count\": 6, \"fee_mean\": 25808.83, \"fee_sum\": 154853}, {\"date\": \"2021-09-15T00:00:00\", \"transaction_count\": 5, \"fee_mean\": 155367.2, \"fee_sum\": 776836}, {\"date\": \"2021-09-16T00:00:00\", \"transaction_count\": 4, \"fee_mean\": 201719.25, \"fee_sum\": 806877}, {\"date\": \"2021-09-17T00:00:00\", \"transaction_count\": 10, \"fee_mean\": 57456.6, \"fee_sum\": 574566}, {\"date\": \"2021-09-18T00:00:00\", \"transaction_count\": 8, \"fee_mean\": 41120.75, \"fee_sum\": 328966}, {\"date\": \"2021-09-19T00:00:00\", \"transaction_count\": 2, \"fee_mean\": 2394.0, \"fee_sum\": 4788}, {\"date\": \"2021-09-20T00:00:00\", \"transaction_count\": 3, \"fee_mean\": 29981.33, \"fee_sum\": 89944}, {\"date\": \"2021-09-21T00:00:00\", \"transaction_count\": 6, \"fee_mean\": 21671.83, \"fee_sum\": 130031}, {\"date\": \"2021-09-22T00:00:00\", \"transaction_count\": 9, \"fee_mean\": 111985.44, \"fee_sum\": 1007869}, {\"date\": \"2021-09-23T00:00:00\", \"transaction_count\": 4, \"fee_mean\": 199247.75, \"fee_sum\": 796991}, {\"date\": \"2021-09-25T00:00:00\", \"transaction_count\": 1, \"fee_mean\": 166034.0, \"fee_sum\": 166034}, {\"date\": \"2021-09-26T00:00:00\", \"transaction_count\": 2, \"fee_mean\": 2556.5, \"fee_sum\": 5113}, {\"date\": \"2021-09-27T00:00:00\", \"transaction_count\": 6, \"fee_mean\": 19440.33, \"fee_sum\": 116642}, {\"date\": \"2021-09-28T00:00:00\", \"transaction_count\": 2, \"fee_mean\": 6112.0, \"fee_sum\": 12224}, {\"date\": \"2021-09-29T00:00:00\", \"transaction_count\": 4, \"fee_mean\": 42619.75, \"fee_sum\": 170479}, {\"date\": \"2021-10-03T00:00:00\", \"transaction_count\": 1, \"fee_mean\": 336.0, \"fee_sum\": 336}, {\"date\": \"2021-10-04T00:00:00\", \"transaction_count\": 1, \"fee_mean\": 153560.0, \"fee_sum\": 153560}, {\"date\": \"2021-10-05T00:00:00\", \"transaction_count\": 2, \"fee_mean\": 34412.0, \"fee_sum\": 68824}, {\"date\": \"2021-10-06T00:00:00\", \"transaction_count\": 1, \"fee_mean\": 24876.0, \"fee_sum\": 24876}, {\"date\": \"2021-10-07T00:00:00\", \"transaction_count\": 1, \"fee_mean\": 4294.0, \"fee_sum\": 4294}, {\"date\": \"2021-10-08T00:00:00\", \"transaction_count\": 2, \"fee_mean\": 254749.5, \"fee_sum\": 509499}, {\"date\": \"2021-10-09T00:00:00\", \"transaction_count\": 2, \"fee_mean\": 70412.0, \"fee_sum\": 140824}, {\"date\": \"2021-10-10T00:00:00\", \"transaction_count\": 1, \"fee_mean\": 525520.0, \"fee_sum\": 525520}, {\"date\": \"2021-10-11T00:00:00\", \"transaction_count\": 1, \"fee_mean\": 1230.0, \"fee_sum\": 1230}, {\"date\": \"2021-10-12T00:00:00\", \"transaction_count\": 1, \"fee_mean\": 1135231.0, \"fee_sum\": 1135231}, {\"date\": \"2021-10-13T00:00:00\", \"transaction_count\": 4, \"fee_mean\": 34386.25, \"fee_sum\": 137545}, {\"date\": \"2021-10-14T00:00:00\", \"transaction_count\": 2, \"fee_mean\": 54519.0, \"fee_sum\": 109038}, {\"date\": \"2021-10-15T00:00:00\", \"transaction_count\": 1, \"fee_mean\": 2124.0, \"fee_sum\": 2124}, {\"date\": \"2021-10-16T00:00:00\", \"transaction_count\": 1, \"fee_mean\": 34582.0, \"fee_sum\": 34582}, {\"date\": \"2021-10-17T00:00:00\", \"transaction_count\": 1, \"fee_mean\": 17530.0, \"fee_sum\": 17530}, {\"date\": \"2021-10-18T00:00:00\", \"transaction_count\": 4, \"fee_mean\": 212773.25, \"fee_sum\": 851093}, {\"date\": \"2021-10-22T00:00:00\", \"transaction_count\": 1, \"fee_mean\": 563270.0, \"fee_sum\": 563270}, {\"date\": \"2021-10-26T00:00:00\", \"transaction_count\": 1, \"fee_mean\": 8667.0, \"fee_sum\": 8667}, {\"date\": \"2021-10-27T00:00:00\", \"transaction_count\": 2, \"fee_mean\": 100917.0, \"fee_sum\": 201834}, {\"date\": \"2021-10-28T00:00:00\", \"transaction_count\": 1, \"fee_mean\": 980.0, \"fee_sum\": 980}, {\"date\": \"2021-10-29T00:00:00\", \"transaction_count\": 4, \"fee_mean\": 47955.75, \"fee_sum\": 191823}, {\"date\": \"2021-10-30T00:00:00\", \"transaction_count\": 2, \"fee_mean\": 26742.0, \"fee_sum\": 53484}, {\"date\": \"2021-10-31T00:00:00\", \"transaction_count\": 4, \"fee_mean\": 105605.75, \"fee_sum\": 422423}, {\"date\": \"2021-11-01T00:00:00\", \"transaction_count\": 5, \"fee_mean\": 32136.0, \"fee_sum\": 160680}, {\"date\": \"2021-11-02T00:00:00\", \"transaction_count\": 2, \"fee_mean\": 49260.0, \"fee_sum\": 98520}, {\"date\": \"2021-11-03T00:00:00\", \"transaction_count\": 6, \"fee_mean\": 14560.17, \"fee_sum\": 87361}, {\"date\": \"2021-11-04T00:00:00\", \"transaction_count\": 4, \"fee_mean\": 35813.75, \"fee_sum\": 143255}, {\"date\": \"2021-11-05T00:00:00\", \"transaction_count\": 5, \"fee_mean\": 84122.8, \"fee_sum\": 420614}, {\"date\": \"2021-11-06T00:00:00\", \"transaction_count\": 1, \"fee_mean\": 2800.0, \"fee_sum\": 2800}, {\"date\": \"2021-11-07T00:00:00\", \"transaction_count\": 6, \"fee_mean\": 18155.67, \"fee_sum\": 108934}, {\"date\": \"2021-11-08T00:00:00\", \"transaction_count\": 5, \"fee_mean\": 1235.6, \"fee_sum\": 6178}, {\"date\": \"2021-11-09T00:00:00\", \"transaction_count\": 5, \"fee_mean\": 11948.0, \"fee_sum\": 59740}, {\"date\": \"2021-11-10T00:00:00\", \"transaction_count\": 6, \"fee_mean\": 24109.83, \"fee_sum\": 144659}, {\"date\": \"2021-11-11T00:00:00\", \"transaction_count\": 6, \"fee_mean\": 25869.33, \"fee_sum\": 155216}, {\"date\": \"2021-11-12T00:00:00\", \"transaction_count\": 3, \"fee_mean\": 236202.33, \"fee_sum\": 708607}, {\"date\": \"2021-11-13T00:00:00\", \"transaction_count\": 3, \"fee_mean\": 26349.67, \"fee_sum\": 79049}, {\"date\": \"2021-11-14T00:00:00\", \"transaction_count\": 3, \"fee_mean\": 5719.0, \"fee_sum\": 17157}, {\"date\": \"2021-11-15T00:00:00\", \"transaction_count\": 6, \"fee_mean\": 133035.33, \"fee_sum\": 798212}, {\"date\": \"2021-11-16T00:00:00\", \"transaction_count\": 2, \"fee_mean\": 93951.0, \"fee_sum\": 187902}, {\"date\": \"2021-11-18T00:00:00\", \"transaction_count\": 2, \"fee_mean\": 27341.0, \"fee_sum\": 54682}, {\"date\": \"2021-11-20T00:00:00\", \"transaction_count\": 1, \"fee_mean\": 34458.0, \"fee_sum\": 34458}, {\"date\": \"2021-11-21T00:00:00\", \"transaction_count\": 5, \"fee_mean\": 10779.8, \"fee_sum\": 53899}, {\"date\": \"2021-11-22T00:00:00\", \"transaction_count\": 4, \"fee_mean\": 19613.0, \"fee_sum\": 78452}, {\"date\": \"2021-11-23T00:00:00\", \"transaction_count\": 7, \"fee_mean\": 609.57, \"fee_sum\": 4267}, {\"date\": \"2021-11-25T00:00:00\", \"transaction_count\": 4, \"fee_mean\": 3959.0, \"fee_sum\": 15836}, {\"date\": \"2021-11-26T00:00:00\", \"transaction_count\": 3, \"fee_mean\": 10920.0, \"fee_sum\": 32760}, {\"date\": \"2021-11-27T00:00:00\", \"transaction_count\": 3, \"fee_mean\": 665.0, \"fee_sum\": 1995}, {\"date\": \"2021-11-28T00:00:00\", \"transaction_count\": 2, \"fee_mean\": 338.0, \"fee_sum\": 676}, {\"date\": \"2021-11-29T00:00:00\", \"transaction_count\": 2, \"fee_mean\": 338.0, \"fee_sum\": 676}, {\"date\": \"2021-11-30T00:00:00\", \"transaction_count\": 4, \"fee_mean\": 2153.25, \"fee_sum\": 8613}, {\"date\": \"2021-12-01T00:00:00\", \"transaction_count\": 9, \"fee_mean\": 251410.33, \"fee_sum\": 2262693}, {\"date\": \"2021-12-02T00:00:00\", \"transaction_count\": 2, \"fee_mean\": 439.5, \"fee_sum\": 879}, {\"date\": \"2021-12-03T00:00:00\", \"transaction_count\": 2, \"fee_mean\": 4799.5, \"fee_sum\": 9599}, {\"date\": \"2021-12-04T00:00:00\", \"transaction_count\": 4, \"fee_mean\": 5034.5, \"fee_sum\": 20138}, {\"date\": \"2021-12-05T00:00:00\", \"transaction_count\": 5, \"fee_mean\": 11939.0, \"fee_sum\": 59695}, {\"date\": \"2021-12-06T00:00:00\", \"transaction_count\": 1, \"fee_mean\": 338.0, \"fee_sum\": 338}, {\"date\": \"2021-12-07T00:00:00\", \"transaction_count\": 6, \"fee_mean\": 2291.17, \"fee_sum\": 13747}]}}, {\"mode\": \"vega-lite\"});\n",
       "</script>"
      ],
      "text/plain": [
       "alt.Chart(...)"
      ]
     },
     "execution_count": 15,
     "metadata": {},
     "output_type": "execute_result"
    }
   ],
   "source": [
    "alt.Chart(txs_slim_grp).mark_bar().encode(\n",
    "    x='date:T',\n",
    "    y='transaction_count'\n",
    ")"
   ]
  },
  {
   "cell_type": "markdown",
   "id": "ffed0017-3746-4324-ae53-0a2040de5e24",
   "metadata": {},
   "source": [
    "### Average daily transaction fee (not sure what this fee means yet)"
   ]
  },
  {
   "cell_type": "code",
   "execution_count": 16,
   "id": "10e43615-ab23-4b3d-a0bb-50109ab09cce",
   "metadata": {},
   "outputs": [
    {
     "data": {
      "text/html": [
       "\n",
       "<div id=\"altair-viz-251c5cbe31754e5cb025651015b48049\"></div>\n",
       "<script type=\"text/javascript\">\n",
       "  (function(spec, embedOpt){\n",
       "    let outputDiv = document.currentScript.previousElementSibling;\n",
       "    if (outputDiv.id !== \"altair-viz-251c5cbe31754e5cb025651015b48049\") {\n",
       "      outputDiv = document.getElementById(\"altair-viz-251c5cbe31754e5cb025651015b48049\");\n",
       "    }\n",
       "    const paths = {\n",
       "      \"vega\": \"https://cdn.jsdelivr.net/npm//vega@5?noext\",\n",
       "      \"vega-lib\": \"https://cdn.jsdelivr.net/npm//vega-lib?noext\",\n",
       "      \"vega-lite\": \"https://cdn.jsdelivr.net/npm//vega-lite@4.8.1?noext\",\n",
       "      \"vega-embed\": \"https://cdn.jsdelivr.net/npm//vega-embed@6?noext\",\n",
       "    };\n",
       "\n",
       "    function loadScript(lib) {\n",
       "      return new Promise(function(resolve, reject) {\n",
       "        var s = document.createElement('script');\n",
       "        s.src = paths[lib];\n",
       "        s.async = true;\n",
       "        s.onload = () => resolve(paths[lib]);\n",
       "        s.onerror = () => reject(`Error loading script: ${paths[lib]}`);\n",
       "        document.getElementsByTagName(\"head\")[0].appendChild(s);\n",
       "      });\n",
       "    }\n",
       "\n",
       "    function showError(err) {\n",
       "      outputDiv.innerHTML = `<div class=\"error\" style=\"color:red;\">${err}</div>`;\n",
       "      throw err;\n",
       "    }\n",
       "\n",
       "    function displayChart(vegaEmbed) {\n",
       "      vegaEmbed(outputDiv, spec, embedOpt)\n",
       "        .catch(err => showError(`Javascript Error: ${err.message}<br>This usually means there's a typo in your chart specification. See the javascript console for the full traceback.`));\n",
       "    }\n",
       "\n",
       "    if(typeof define === \"function\" && define.amd) {\n",
       "      requirejs.config({paths});\n",
       "      require([\"vega-embed\"], displayChart, err => showError(`Error loading script: ${err.message}`));\n",
       "    } else if (typeof vegaEmbed === \"function\") {\n",
       "      displayChart(vegaEmbed);\n",
       "    } else {\n",
       "      loadScript(\"vega\")\n",
       "        .then(() => loadScript(\"vega-lite\"))\n",
       "        .then(() => loadScript(\"vega-embed\"))\n",
       "        .catch(showError)\n",
       "        .then(() => displayChart(vegaEmbed));\n",
       "    }\n",
       "  })({\"config\": {\"view\": {\"continuousWidth\": 400, \"continuousHeight\": 300}}, \"data\": {\"name\": \"data-a7424ee87fcce05328f17589b849cf30\"}, \"mark\": \"bar\", \"encoding\": {\"x\": {\"type\": \"temporal\", \"field\": \"date\"}, \"y\": {\"type\": \"quantitative\", \"field\": \"fee_mean\"}}, \"$schema\": \"https://vega.github.io/schema/vega-lite/v4.8.1.json\", \"datasets\": {\"data-a7424ee87fcce05328f17589b849cf30\": [{\"date\": \"2021-04-24T00:00:00\", \"transaction_count\": 2, \"fee_mean\": 5005307.5, \"fee_sum\": 10010615}, {\"date\": \"2021-05-05T00:00:00\", \"transaction_count\": 2, \"fee_mean\": 5734.0, \"fee_sum\": 11468}, {\"date\": \"2021-05-06T00:00:00\", \"transaction_count\": 1, \"fee_mean\": 4372496.0, \"fee_sum\": 4372496}, {\"date\": \"2021-05-07T00:00:00\", \"transaction_count\": 1, \"fee_mean\": 7613333.0, \"fee_sum\": 7613333}, {\"date\": \"2021-05-08T00:00:00\", \"transaction_count\": 3, \"fee_mean\": 88648.67, \"fee_sum\": 265946}, {\"date\": \"2021-05-09T00:00:00\", \"transaction_count\": 1, \"fee_mean\": 1130.0, \"fee_sum\": 1130}, {\"date\": \"2021-05-10T00:00:00\", \"transaction_count\": 4, \"fee_mean\": 3231011.25, \"fee_sum\": 12924045}, {\"date\": \"2021-05-11T00:00:00\", \"transaction_count\": 2, \"fee_mean\": 1921450.5, \"fee_sum\": 3842901}, {\"date\": \"2021-06-02T00:00:00\", \"transaction_count\": 2, \"fee_mean\": 7264.0, \"fee_sum\": 14528}, {\"date\": \"2021-06-03T00:00:00\", \"transaction_count\": 1, \"fee_mean\": 2463655.0, \"fee_sum\": 2463655}, {\"date\": \"2021-06-05T00:00:00\", \"transaction_count\": 2, \"fee_mean\": 461664.0, \"fee_sum\": 923328}, {\"date\": \"2021-06-07T00:00:00\", \"transaction_count\": 1, \"fee_mean\": 12408.0, \"fee_sum\": 12408}, {\"date\": \"2021-06-08T00:00:00\", \"transaction_count\": 1, \"fee_mean\": 636402.0, \"fee_sum\": 636402}, {\"date\": \"2021-06-26T00:00:00\", \"transaction_count\": 1, \"fee_mean\": 698.0, \"fee_sum\": 698}, {\"date\": \"2021-07-01T00:00:00\", \"transaction_count\": 1, \"fee_mean\": 3273003.0, \"fee_sum\": 3273003}, {\"date\": \"2021-07-22T00:00:00\", \"transaction_count\": 1, \"fee_mean\": 4332.0, \"fee_sum\": 4332}, {\"date\": \"2021-07-23T00:00:00\", \"transaction_count\": 1, \"fee_mean\": 159519.0, \"fee_sum\": 159519}, {\"date\": \"2021-07-26T00:00:00\", \"transaction_count\": 1, \"fee_mean\": 336.0, \"fee_sum\": 336}, {\"date\": \"2021-07-30T00:00:00\", \"transaction_count\": 1, \"fee_mean\": 171889.0, \"fee_sum\": 171889}, {\"date\": \"2021-08-04T00:00:00\", \"transaction_count\": 1, \"fee_mean\": 12118.0, \"fee_sum\": 12118}, {\"date\": \"2021-08-05T00:00:00\", \"transaction_count\": 1, \"fee_mean\": 195980.0, \"fee_sum\": 195980}, {\"date\": \"2021-08-14T00:00:00\", \"transaction_count\": 1, \"fee_mean\": 336.0, \"fee_sum\": 336}, {\"date\": \"2021-08-17T00:00:00\", \"transaction_count\": 1, \"fee_mean\": 989.0, \"fee_sum\": 989}, {\"date\": \"2021-08-18T00:00:00\", \"transaction_count\": 1, \"fee_mean\": 2043.0, \"fee_sum\": 2043}, {\"date\": \"2021-08-19T00:00:00\", \"transaction_count\": 1, \"fee_mean\": 36458.0, \"fee_sum\": 36458}, {\"date\": \"2021-08-25T00:00:00\", \"transaction_count\": 1, \"fee_mean\": 336.0, \"fee_sum\": 336}, {\"date\": \"2021-08-26T00:00:00\", \"transaction_count\": 1, \"fee_mean\": 123149.0, \"fee_sum\": 123149}, {\"date\": \"2021-08-31T00:00:00\", \"transaction_count\": 1, \"fee_mean\": 671.0, \"fee_sum\": 671}, {\"date\": \"2021-09-01T00:00:00\", \"transaction_count\": 3, \"fee_mean\": 29950.0, \"fee_sum\": 89850}, {\"date\": \"2021-09-02T00:00:00\", \"transaction_count\": 4, \"fee_mean\": 73876.25, \"fee_sum\": 295505}, {\"date\": \"2021-09-04T00:00:00\", \"transaction_count\": 1, \"fee_mean\": 681.0, \"fee_sum\": 681}, {\"date\": \"2021-09-05T00:00:00\", \"transaction_count\": 1, \"fee_mean\": 336.0, \"fee_sum\": 336}, {\"date\": \"2021-09-07T00:00:00\", \"transaction_count\": 2, \"fee_mean\": 301654.0, \"fee_sum\": 603308}, {\"date\": \"2021-09-09T00:00:00\", \"transaction_count\": 1, \"fee_mean\": 6243.0, \"fee_sum\": 6243}, {\"date\": \"2021-09-10T00:00:00\", \"transaction_count\": 1, \"fee_mean\": 139843.0, \"fee_sum\": 139843}, {\"date\": \"2021-09-12T00:00:00\", \"transaction_count\": 2, \"fee_mean\": 64504.0, \"fee_sum\": 129008}, {\"date\": \"2021-09-14T00:00:00\", \"transaction_count\": 6, \"fee_mean\": 25808.83, \"fee_sum\": 154853}, {\"date\": \"2021-09-15T00:00:00\", \"transaction_count\": 5, \"fee_mean\": 155367.2, \"fee_sum\": 776836}, {\"date\": \"2021-09-16T00:00:00\", \"transaction_count\": 4, \"fee_mean\": 201719.25, \"fee_sum\": 806877}, {\"date\": \"2021-09-17T00:00:00\", \"transaction_count\": 10, \"fee_mean\": 57456.6, \"fee_sum\": 574566}, {\"date\": \"2021-09-18T00:00:00\", \"transaction_count\": 8, \"fee_mean\": 41120.75, \"fee_sum\": 328966}, {\"date\": \"2021-09-19T00:00:00\", \"transaction_count\": 2, \"fee_mean\": 2394.0, \"fee_sum\": 4788}, {\"date\": \"2021-09-20T00:00:00\", \"transaction_count\": 3, \"fee_mean\": 29981.33, \"fee_sum\": 89944}, {\"date\": \"2021-09-21T00:00:00\", \"transaction_count\": 6, \"fee_mean\": 21671.83, \"fee_sum\": 130031}, {\"date\": \"2021-09-22T00:00:00\", \"transaction_count\": 9, \"fee_mean\": 111985.44, \"fee_sum\": 1007869}, {\"date\": \"2021-09-23T00:00:00\", \"transaction_count\": 4, \"fee_mean\": 199247.75, \"fee_sum\": 796991}, {\"date\": \"2021-09-25T00:00:00\", \"transaction_count\": 1, \"fee_mean\": 166034.0, \"fee_sum\": 166034}, {\"date\": \"2021-09-26T00:00:00\", \"transaction_count\": 2, \"fee_mean\": 2556.5, \"fee_sum\": 5113}, {\"date\": \"2021-09-27T00:00:00\", \"transaction_count\": 6, \"fee_mean\": 19440.33, \"fee_sum\": 116642}, {\"date\": \"2021-09-28T00:00:00\", \"transaction_count\": 2, \"fee_mean\": 6112.0, \"fee_sum\": 12224}, {\"date\": \"2021-09-29T00:00:00\", \"transaction_count\": 4, \"fee_mean\": 42619.75, \"fee_sum\": 170479}, {\"date\": \"2021-10-03T00:00:00\", \"transaction_count\": 1, \"fee_mean\": 336.0, \"fee_sum\": 336}, {\"date\": \"2021-10-04T00:00:00\", \"transaction_count\": 1, \"fee_mean\": 153560.0, \"fee_sum\": 153560}, {\"date\": \"2021-10-05T00:00:00\", \"transaction_count\": 2, \"fee_mean\": 34412.0, \"fee_sum\": 68824}, {\"date\": \"2021-10-06T00:00:00\", \"transaction_count\": 1, \"fee_mean\": 24876.0, \"fee_sum\": 24876}, {\"date\": \"2021-10-07T00:00:00\", \"transaction_count\": 1, \"fee_mean\": 4294.0, \"fee_sum\": 4294}, {\"date\": \"2021-10-08T00:00:00\", \"transaction_count\": 2, \"fee_mean\": 254749.5, \"fee_sum\": 509499}, {\"date\": \"2021-10-09T00:00:00\", \"transaction_count\": 2, \"fee_mean\": 70412.0, \"fee_sum\": 140824}, {\"date\": \"2021-10-10T00:00:00\", \"transaction_count\": 1, \"fee_mean\": 525520.0, \"fee_sum\": 525520}, {\"date\": \"2021-10-11T00:00:00\", \"transaction_count\": 1, \"fee_mean\": 1230.0, \"fee_sum\": 1230}, {\"date\": \"2021-10-12T00:00:00\", \"transaction_count\": 1, \"fee_mean\": 1135231.0, \"fee_sum\": 1135231}, {\"date\": \"2021-10-13T00:00:00\", \"transaction_count\": 4, \"fee_mean\": 34386.25, \"fee_sum\": 137545}, {\"date\": \"2021-10-14T00:00:00\", \"transaction_count\": 2, \"fee_mean\": 54519.0, \"fee_sum\": 109038}, {\"date\": \"2021-10-15T00:00:00\", \"transaction_count\": 1, \"fee_mean\": 2124.0, \"fee_sum\": 2124}, {\"date\": \"2021-10-16T00:00:00\", \"transaction_count\": 1, \"fee_mean\": 34582.0, \"fee_sum\": 34582}, {\"date\": \"2021-10-17T00:00:00\", \"transaction_count\": 1, \"fee_mean\": 17530.0, \"fee_sum\": 17530}, {\"date\": \"2021-10-18T00:00:00\", \"transaction_count\": 4, \"fee_mean\": 212773.25, \"fee_sum\": 851093}, {\"date\": \"2021-10-22T00:00:00\", \"transaction_count\": 1, \"fee_mean\": 563270.0, \"fee_sum\": 563270}, {\"date\": \"2021-10-26T00:00:00\", \"transaction_count\": 1, \"fee_mean\": 8667.0, \"fee_sum\": 8667}, {\"date\": \"2021-10-27T00:00:00\", \"transaction_count\": 2, \"fee_mean\": 100917.0, \"fee_sum\": 201834}, {\"date\": \"2021-10-28T00:00:00\", \"transaction_count\": 1, \"fee_mean\": 980.0, \"fee_sum\": 980}, {\"date\": \"2021-10-29T00:00:00\", \"transaction_count\": 4, \"fee_mean\": 47955.75, \"fee_sum\": 191823}, {\"date\": \"2021-10-30T00:00:00\", \"transaction_count\": 2, \"fee_mean\": 26742.0, \"fee_sum\": 53484}, {\"date\": \"2021-10-31T00:00:00\", \"transaction_count\": 4, \"fee_mean\": 105605.75, \"fee_sum\": 422423}, {\"date\": \"2021-11-01T00:00:00\", \"transaction_count\": 5, \"fee_mean\": 32136.0, \"fee_sum\": 160680}, {\"date\": \"2021-11-02T00:00:00\", \"transaction_count\": 2, \"fee_mean\": 49260.0, \"fee_sum\": 98520}, {\"date\": \"2021-11-03T00:00:00\", \"transaction_count\": 6, \"fee_mean\": 14560.17, \"fee_sum\": 87361}, {\"date\": \"2021-11-04T00:00:00\", \"transaction_count\": 4, \"fee_mean\": 35813.75, \"fee_sum\": 143255}, {\"date\": \"2021-11-05T00:00:00\", \"transaction_count\": 5, \"fee_mean\": 84122.8, \"fee_sum\": 420614}, {\"date\": \"2021-11-06T00:00:00\", \"transaction_count\": 1, \"fee_mean\": 2800.0, \"fee_sum\": 2800}, {\"date\": \"2021-11-07T00:00:00\", \"transaction_count\": 6, \"fee_mean\": 18155.67, \"fee_sum\": 108934}, {\"date\": \"2021-11-08T00:00:00\", \"transaction_count\": 5, \"fee_mean\": 1235.6, \"fee_sum\": 6178}, {\"date\": \"2021-11-09T00:00:00\", \"transaction_count\": 5, \"fee_mean\": 11948.0, \"fee_sum\": 59740}, {\"date\": \"2021-11-10T00:00:00\", \"transaction_count\": 6, \"fee_mean\": 24109.83, \"fee_sum\": 144659}, {\"date\": \"2021-11-11T00:00:00\", \"transaction_count\": 6, \"fee_mean\": 25869.33, \"fee_sum\": 155216}, {\"date\": \"2021-11-12T00:00:00\", \"transaction_count\": 3, \"fee_mean\": 236202.33, \"fee_sum\": 708607}, {\"date\": \"2021-11-13T00:00:00\", \"transaction_count\": 3, \"fee_mean\": 26349.67, \"fee_sum\": 79049}, {\"date\": \"2021-11-14T00:00:00\", \"transaction_count\": 3, \"fee_mean\": 5719.0, \"fee_sum\": 17157}, {\"date\": \"2021-11-15T00:00:00\", \"transaction_count\": 6, \"fee_mean\": 133035.33, \"fee_sum\": 798212}, {\"date\": \"2021-11-16T00:00:00\", \"transaction_count\": 2, \"fee_mean\": 93951.0, \"fee_sum\": 187902}, {\"date\": \"2021-11-18T00:00:00\", \"transaction_count\": 2, \"fee_mean\": 27341.0, \"fee_sum\": 54682}, {\"date\": \"2021-11-20T00:00:00\", \"transaction_count\": 1, \"fee_mean\": 34458.0, \"fee_sum\": 34458}, {\"date\": \"2021-11-21T00:00:00\", \"transaction_count\": 5, \"fee_mean\": 10779.8, \"fee_sum\": 53899}, {\"date\": \"2021-11-22T00:00:00\", \"transaction_count\": 4, \"fee_mean\": 19613.0, \"fee_sum\": 78452}, {\"date\": \"2021-11-23T00:00:00\", \"transaction_count\": 7, \"fee_mean\": 609.57, \"fee_sum\": 4267}, {\"date\": \"2021-11-25T00:00:00\", \"transaction_count\": 4, \"fee_mean\": 3959.0, \"fee_sum\": 15836}, {\"date\": \"2021-11-26T00:00:00\", \"transaction_count\": 3, \"fee_mean\": 10920.0, \"fee_sum\": 32760}, {\"date\": \"2021-11-27T00:00:00\", \"transaction_count\": 3, \"fee_mean\": 665.0, \"fee_sum\": 1995}, {\"date\": \"2021-11-28T00:00:00\", \"transaction_count\": 2, \"fee_mean\": 338.0, \"fee_sum\": 676}, {\"date\": \"2021-11-29T00:00:00\", \"transaction_count\": 2, \"fee_mean\": 338.0, \"fee_sum\": 676}, {\"date\": \"2021-11-30T00:00:00\", \"transaction_count\": 4, \"fee_mean\": 2153.25, \"fee_sum\": 8613}, {\"date\": \"2021-12-01T00:00:00\", \"transaction_count\": 9, \"fee_mean\": 251410.33, \"fee_sum\": 2262693}, {\"date\": \"2021-12-02T00:00:00\", \"transaction_count\": 2, \"fee_mean\": 439.5, \"fee_sum\": 879}, {\"date\": \"2021-12-03T00:00:00\", \"transaction_count\": 2, \"fee_mean\": 4799.5, \"fee_sum\": 9599}, {\"date\": \"2021-12-04T00:00:00\", \"transaction_count\": 4, \"fee_mean\": 5034.5, \"fee_sum\": 20138}, {\"date\": \"2021-12-05T00:00:00\", \"transaction_count\": 5, \"fee_mean\": 11939.0, \"fee_sum\": 59695}, {\"date\": \"2021-12-06T00:00:00\", \"transaction_count\": 1, \"fee_mean\": 338.0, \"fee_sum\": 338}, {\"date\": \"2021-12-07T00:00:00\", \"transaction_count\": 6, \"fee_mean\": 2291.17, \"fee_sum\": 13747}]}}, {\"mode\": \"vega-lite\"});\n",
       "</script>"
      ],
      "text/plain": [
       "alt.Chart(...)"
      ]
     },
     "execution_count": 16,
     "metadata": {},
     "output_type": "execute_result"
    }
   ],
   "source": [
    "alt.Chart(txs_slim_grp).mark_bar().encode(\n",
    "    x='date:T',\n",
    "    y='fee_mean'\n",
    ")"
   ]
  },
  {
   "cell_type": "markdown",
   "id": "35a8f915-df38-4bef-860a-e2fd6881fd50",
   "metadata": {},
   "source": [
    "---"
   ]
  },
  {
   "cell_type": "markdown",
   "id": "07b751dc-b32d-4041-9563-773ad78a21eb",
   "metadata": {},
   "source": [
    "### Export"
   ]
  },
  {
   "cell_type": "code",
   "execution_count": 17,
   "id": "8a6756c1-92f1-4a4e-9f8e-f60f6b790972",
   "metadata": {},
   "outputs": [],
   "source": [
    "txs_slim.to_csv('data/raw/transactions.csv', index=False)"
   ]
  }
 ],
 "metadata": {
  "kernelspec": {
   "display_name": "Python 3",
   "language": "python",
   "name": "python3"
  },
  "language_info": {
   "codemirror_mode": {
    "name": "ipython",
    "version": 3
   },
   "file_extension": ".py",
   "mimetype": "text/x-python",
   "name": "python",
   "nbconvert_exporter": "python",
   "pygments_lexer": "ipython3",
   "version": "3.8.8"
  }
 },
 "nbformat": 4,
 "nbformat_minor": 5
}
