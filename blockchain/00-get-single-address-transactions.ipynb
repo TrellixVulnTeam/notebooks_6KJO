{
 "cells": [
  {
   "cell_type": "markdown",
   "id": "bfdad5fa-d5e2-4d75-89dc-12cf1136ed26",
   "metadata": {},
   "source": [
    "# Blockchain API: Get data for a single address"
   ]
  },
  {
   "cell_type": "code",
   "execution_count": 1,
   "id": "334aeda1-f6d8-4395-8fe9-69565bcc4dbc",
   "metadata": {},
   "outputs": [],
   "source": [
    "import pandas as pd\n",
    "import altair as alt"
   ]
  },
  {
   "cell_type": "code",
   "execution_count": 2,
   "id": "c8ef428d-d447-41ea-ad88-3d17b3275734",
   "metadata": {},
   "outputs": [],
   "source": [
    "pd.options.display.max_columns = 200\n",
    "pd.options.display.max_rows = 1000\n",
    "pd.set_option(\"display.max_colwidth\", None)"
   ]
  },
  {
   "cell_type": "markdown",
   "id": "68c1409a-d6c5-45e2-9db7-6789b6ea07e5",
   "metadata": {},
   "source": [
    "### Call url"
   ]
  },
  {
   "cell_type": "code",
   "execution_count": 3,
   "id": "09bf85a4-fac1-4bef-a5bb-0217cf18570f",
   "metadata": {},
   "outputs": [],
   "source": [
    "url = 'https://blockchain.info/rawaddr/1Bm9Eqyd46qhJH8pQi7W8QxDA5VhbtKbXK?format=json&limit=1000'"
   ]
  },
  {
   "cell_type": "markdown",
   "id": "e088b76f-8791-4edd-9d87-1b4985475e7d",
   "metadata": {},
   "source": [
    "### Read the results"
   ]
  },
  {
   "cell_type": "code",
   "execution_count": 8,
   "id": "5c6a8589-82f6-4126-8d59-5bc9157c71ec",
   "metadata": {},
   "outputs": [],
   "source": [
    "src = pd.read_json(url)"
   ]
  },
  {
   "cell_type": "markdown",
   "id": "9078256e-cfb5-4ba0-88e6-58744fc19718",
   "metadata": {},
   "source": [
    "### How many records? "
   ]
  },
  {
   "cell_type": "code",
   "execution_count": null,
   "id": "63405062-e22f-46eb-8569-c5d74e6dc695",
   "metadata": {},
   "outputs": [],
   "source": [
    "len(src)"
   ]
  },
  {
   "cell_type": "markdown",
   "id": "6830b4bb-2ce4-4c49-8f2d-0f835648093d",
   "metadata": {},
   "source": [
    "### The transaction specific data are in a nexted column called 'txs'"
   ]
  },
  {
   "cell_type": "code",
   "execution_count": null,
   "id": "f358b2bb-0564-4442-aa99-de598c906869",
   "metadata": {},
   "outputs": [],
   "source": [
    "txs = pd.json_normalize(src['txs'])"
   ]
  },
  {
   "cell_type": "markdown",
   "id": "6940bbbb-8118-40d1-bac8-49db8849f993",
   "metadata": {},
   "source": [
    "### Deal with dates, times"
   ]
  },
  {
   "cell_type": "code",
   "execution_count": null,
   "id": "bc7337f0-d0ce-47e6-ba78-ce66ba64acd5",
   "metadata": {},
   "outputs": [],
   "source": [
    "txs['datetime'] = pd.to_datetime(txs['time'], unit='s')"
   ]
  },
  {
   "cell_type": "code",
   "execution_count": null,
   "id": "a3633913-271e-4cbd-8bf0-e9354818a486",
   "metadata": {},
   "outputs": [],
   "source": [
    "txs['date'] = txs['datetime'].dt.date\n",
    "txs['time'] = txs['datetime'].dt.time"
   ]
  },
  {
   "cell_type": "markdown",
   "id": "b7ea3e00-6c96-42b4-84f6-71190c0a2a2d",
   "metadata": {},
   "source": [
    "### Only include fields that seem descriptive"
   ]
  },
  {
   "cell_type": "code",
   "execution_count": null,
   "id": "9c686cee-6f6a-4d76-aca7-e173756a4445",
   "metadata": {},
   "outputs": [],
   "source": [
    "txs_slim = txs[[\"datetime\", 'date', 'time', 'result', 'balance', 'fee', 'hash', 'ver', 'vin_sz', 'vout_sz', 'size', 'weight', 'tx_index',\n",
    "       'block_index', 'block_height', ]].copy()"
   ]
  },
  {
   "cell_type": "code",
   "execution_count": null,
   "id": "97c01358-d5d2-4d86-871a-1505790572c8",
   "metadata": {},
   "outputs": [],
   "source": [
    "txs_slim.head()"
   ]
  },
  {
   "cell_type": "markdown",
   "id": "9ec3e021-70b1-4104-8d7b-7c317e046992",
   "metadata": {},
   "source": [
    "---"
   ]
  },
  {
   "cell_type": "markdown",
   "id": "f5ed46d3-e6d0-4f52-a5b1-4b249db80869",
   "metadata": {},
   "source": [
    "### Aggregate"
   ]
  },
  {
   "cell_type": "code",
   "execution_count": null,
   "id": "f4a4aa56-6710-4124-8c70-63681cb9dbf3",
   "metadata": {},
   "outputs": [],
   "source": [
    "txs_slim_grp = txs_slim.groupby(['date']).agg({'hash': 'count', 'fee':['mean', 'sum']}).round(2).reset_index()"
   ]
  },
  {
   "cell_type": "code",
   "execution_count": null,
   "id": "82d0223f-9c10-4a82-ba24-af4226a3309f",
   "metadata": {},
   "outputs": [],
   "source": [
    "txs_slim_grp.columns = ['_'.join(col).strip() for col in txs_slim_grp.columns.values]"
   ]
  },
  {
   "cell_type": "code",
   "execution_count": null,
   "id": "2706a0f9-745e-487c-a742-03d145bb8e9f",
   "metadata": {},
   "outputs": [],
   "source": [
    "txs_slim_grp.rename(columns={'date_':'date', 'hash_count': 'transaction_count'}, inplace=True)"
   ]
  },
  {
   "cell_type": "code",
   "execution_count": null,
   "id": "3628a4c1-c141-4e2f-bbca-5d4da5b8da80",
   "metadata": {},
   "outputs": [],
   "source": [
    "txs_slim_grp['date'] = pd.to_datetime(txs_slim_grp['date'])"
   ]
  },
  {
   "cell_type": "markdown",
   "id": "74ed7d4e-784f-4369-8611-b07486554e18",
   "metadata": {},
   "source": [
    "---"
   ]
  },
  {
   "cell_type": "markdown",
   "id": "0caa5c93-7bd3-430f-8ea0-5eedeacf48cb",
   "metadata": {},
   "source": [
    "### Average daily transaction count"
   ]
  },
  {
   "cell_type": "code",
   "execution_count": null,
   "id": "cbb99253-fac0-4787-9217-cc01a44aafb8",
   "metadata": {},
   "outputs": [],
   "source": [
    "alt.Chart(txs_slim_grp).mark_bar().encode(\n",
    "    x='date:T',\n",
    "    y='transaction_count'\n",
    ")"
   ]
  },
  {
   "cell_type": "markdown",
   "id": "ffed0017-3746-4324-ae53-0a2040de5e24",
   "metadata": {},
   "source": [
    "### Average daily transaction fee (not sure what this fee means yet)"
   ]
  },
  {
   "cell_type": "code",
   "execution_count": null,
   "id": "10e43615-ab23-4b3d-a0bb-50109ab09cce",
   "metadata": {},
   "outputs": [],
   "source": [
    "alt.Chart(txs_slim_grp).mark_bar().encode(\n",
    "    x='date:T',\n",
    "    y='fee_mean'\n",
    ")"
   ]
  },
  {
   "cell_type": "markdown",
   "id": "35a8f915-df38-4bef-860a-e2fd6881fd50",
   "metadata": {},
   "source": [
    "---"
   ]
  },
  {
   "cell_type": "markdown",
   "id": "07b751dc-b32d-4041-9563-773ad78a21eb",
   "metadata": {},
   "source": [
    "### Export"
   ]
  },
  {
   "cell_type": "code",
   "execution_count": null,
   "id": "8a6756c1-92f1-4a4e-9f8e-f60f6b790972",
   "metadata": {},
   "outputs": [],
   "source": [
    "txs_slim.to_csv('data/raw/transactions.csv', index=False)"
   ]
  }
 ],
 "metadata": {
  "kernelspec": {
   "display_name": "Python 3",
   "language": "python",
   "name": "python3"
  },
  "language_info": {
   "codemirror_mode": {
    "name": "ipython",
    "version": 3
   },
   "file_extension": ".py",
   "mimetype": "text/x-python",
   "name": "python",
   "nbconvert_exporter": "python",
   "pygments_lexer": "ipython3",
   "version": "3.8.8"
  }
 },
 "nbformat": 4,
 "nbformat_minor": 5
}
