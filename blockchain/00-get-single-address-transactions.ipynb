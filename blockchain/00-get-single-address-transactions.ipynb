{
 "cells": [
  {
   "cell_type": "markdown",
   "id": "bfdad5fa-d5e2-4d75-89dc-12cf1136ed26",
   "metadata": {},
   "source": [
    "# Blockchain API: Get data for a single address"
   ]
  },
  {
   "cell_type": "code",
   "execution_count": 1,
   "id": "334aeda1-f6d8-4395-8fe9-69565bcc4dbc",
   "metadata": {},
   "outputs": [],
   "source": [
    "import pandas as pd\n",
    "import altair as alt"
   ]
  },
  {
   "cell_type": "code",
   "execution_count": 2,
   "id": "c8ef428d-d447-41ea-ad88-3d17b3275734",
   "metadata": {},
   "outputs": [],
   "source": [
    "pd.options.display.max_columns = 200\n",
    "pd.options.display.max_rows = 1000\n",
    "pd.set_option(\"display.max_colwidth\", None)"
   ]
  },
  {
   "cell_type": "markdown",
   "id": "68c1409a-d6c5-45e2-9db7-6789b6ea07e5",
   "metadata": {},
   "source": [
    "### Call url"
   ]
  },
  {
   "cell_type": "code",
   "execution_count": 3,
   "id": "09bf85a4-fac1-4bef-a5bb-0217cf18570f",
   "metadata": {},
   "outputs": [],
   "source": [
    "url = 'https://blockchain.info/rawaddr/1Bm9Eqyd46qhJH8pQi7W8QxDA5VhbtKbXK?format=json&limit=1000'"
   ]
  },
  {
   "cell_type": "markdown",
   "id": "e088b76f-8791-4edd-9d87-1b4985475e7d",
   "metadata": {},
   "source": [
    "### Read the results"
   ]
  },
  {
   "cell_type": "code",
   "execution_count": 4,
   "id": "5c6a8589-82f6-4126-8d59-5bc9157c71ec",
   "metadata": {},
   "outputs": [],
   "source": [
    "src = pd.read_json(url)"
   ]
  },
  {
   "cell_type": "markdown",
   "id": "9078256e-cfb5-4ba0-88e6-58744fc19718",
   "metadata": {},
   "source": [
    "### How many records? "
   ]
  },
  {
   "cell_type": "code",
   "execution_count": 5,
   "id": "204f7678-d094-4159-8094-012b35d1a52a",
   "metadata": {},
   "outputs": [
    {
     "data": {
      "text/plain": [
       "415"
      ]
     },
     "execution_count": 5,
     "metadata": {},
     "output_type": "execute_result"
    }
   ],
   "source": [
    "len(src)"
   ]
  },
  {
   "cell_type": "markdown",
   "id": "9439d648-4442-4a1d-be5d-240e55b3caac",
   "metadata": {},
   "source": [
    "### What's the bitcoin exchange rate?"
   ]
  },
  {
   "cell_type": "code",
   "execution_count": 6,
   "id": "3fc041b5-fe12-4aef-aaf1-4efcbd04bcfb",
   "metadata": {},
   "outputs": [],
   "source": [
    "rate = pd.read_json('https://blockchain.info/ticker')\n",
    "blockchain_rate = rate['USD']['last']"
   ]
  },
  {
   "cell_type": "markdown",
   "id": "6830b4bb-2ce4-4c49-8f2d-0f835648093d",
   "metadata": {},
   "source": [
    "### The transaction specific data are in a nexted column called 'txs'"
   ]
  },
  {
   "cell_type": "code",
   "execution_count": 7,
   "id": "f358b2bb-0564-4442-aa99-de598c906869",
   "metadata": {},
   "outputs": [],
   "source": [
    "txs = pd.json_normalize(src['txs'])"
   ]
  },
  {
   "cell_type": "markdown",
   "id": "6940bbbb-8118-40d1-bac8-49db8849f993",
   "metadata": {},
   "source": [
    "### Deal with dates, times"
   ]
  },
  {
   "cell_type": "code",
   "execution_count": 8,
   "id": "bc7337f0-d0ce-47e6-ba78-ce66ba64acd5",
   "metadata": {},
   "outputs": [],
   "source": [
    "txs['datetime'] = pd.to_datetime(txs['time'], unit='s')"
   ]
  },
  {
   "cell_type": "code",
   "execution_count": 9,
   "id": "a3633913-271e-4cbd-8bf0-e9354818a486",
   "metadata": {},
   "outputs": [],
   "source": [
    "txs['date'] = txs['datetime'].dt.date\n",
    "txs['time'] = txs['datetime'].dt.time"
   ]
  },
  {
   "cell_type": "markdown",
   "id": "b7ea3e00-6c96-42b4-84f6-71190c0a2a2d",
   "metadata": {},
   "source": [
    "### Only include fields that seem descriptive"
   ]
  },
  {
   "cell_type": "code",
   "execution_count": 10,
   "id": "5e6b8d07-729e-4f16-a7e6-79fd6489f615",
   "metadata": {},
   "outputs": [],
   "source": [
    "txs_slim = txs[[\"datetime\", 'date', 'time', 'result', 'balance', 'fee', 'hash', 'ver', 'vin_sz', 'vout_sz', 'size', 'weight', 'tx_index',\n",
    "       'block_index', 'block_height', ]].copy()"
   ]
  },
  {
   "cell_type": "code",
   "execution_count": 11,
   "id": "0791fb6e-6a4b-43cd-8655-7124e1b26a78",
   "metadata": {},
   "outputs": [],
   "source": [
    "txs_slim[['result', 'balance']] = txs_slim[['result', 'balance']].astype(float)"
   ]
  },
  {
   "cell_type": "code",
   "execution_count": 12,
   "id": "7654e0f2-02d9-424f-bde7-b74a15bb4522",
   "metadata": {},
   "outputs": [],
   "source": [
    "txs_slim['new_result_btc'] = txs_slim['result'] / 100000000\n",
    "txs_slim['new_balance_btc'] = txs_slim['balance'] / 100000000"
   ]
  },
  {
   "cell_type": "code",
   "execution_count": 13,
   "id": "2df703ad-40d3-44c5-a1d1-4fcaf27ed733",
   "metadata": {},
   "outputs": [],
   "source": [
    "txs_slim['new_result_usd'] = (txs_slim['new_result_btc'] * blockchain_rate).round(2)\n",
    "txs_slim['new_balance_usd'] = (txs_slim['new_balance_btc'] * blockchain_rate).round(2)"
   ]
  },
  {
   "cell_type": "markdown",
   "id": "9ec3e021-70b1-4104-8d7b-7c317e046992",
   "metadata": {},
   "source": [
    "---"
   ]
  },
  {
   "cell_type": "markdown",
   "id": "f5ed46d3-e6d0-4f52-a5b1-4b249db80869",
   "metadata": {},
   "source": [
    "### Aggregate"
   ]
  },
  {
   "cell_type": "code",
   "execution_count": 14,
   "id": "f4a4aa56-6710-4124-8c70-63681cb9dbf3",
   "metadata": {},
   "outputs": [],
   "source": [
    "txs_slim_grp = txs_slim.groupby(['date']).agg({'hash': 'count', 'fee':['mean', 'sum']}).round(2).reset_index()"
   ]
  },
  {
   "cell_type": "code",
   "execution_count": 15,
   "id": "82d0223f-9c10-4a82-ba24-af4226a3309f",
   "metadata": {},
   "outputs": [],
   "source": [
    "txs_slim_grp.columns = ['_'.join(col).strip() for col in txs_slim_grp.columns.values]"
   ]
  },
  {
   "cell_type": "code",
   "execution_count": 16,
   "id": "2706a0f9-745e-487c-a742-03d145bb8e9f",
   "metadata": {},
   "outputs": [],
   "source": [
    "txs_slim_grp.rename(columns={'date_':'date', 'hash_count': 'transaction_count'}, inplace=True)"
   ]
  },
  {
   "cell_type": "code",
   "execution_count": 17,
   "id": "3628a4c1-c141-4e2f-bbca-5d4da5b8da80",
   "metadata": {},
   "outputs": [],
   "source": [
    "txs_slim_grp['date'] = pd.to_datetime(txs_slim_grp['date'])"
   ]
  },
  {
   "cell_type": "markdown",
   "id": "74ed7d4e-784f-4369-8611-b07486554e18",
   "metadata": {},
   "source": [
    "---"
   ]
  },
  {
   "cell_type": "markdown",
   "id": "0caa5c93-7bd3-430f-8ea0-5eedeacf48cb",
   "metadata": {},
   "source": [
    "### Average daily transaction count"
   ]
  },
  {
   "cell_type": "code",
   "execution_count": 18,
   "id": "cbb99253-fac0-4787-9217-cc01a44aafb8",
   "metadata": {},
   "outputs": [
    {
     "data": {
      "text/html": [
       "\n",
       "<div id=\"altair-viz-4f9585262c364d98a20a0e466cdba3e9\"></div>\n",
       "<script type=\"text/javascript\">\n",
       "  var VEGA_DEBUG = (typeof VEGA_DEBUG == \"undefined\") ? {} : VEGA_DEBUG;\n",
       "  (function(spec, embedOpt){\n",
       "    let outputDiv = document.currentScript.previousElementSibling;\n",
       "    if (outputDiv.id !== \"altair-viz-4f9585262c364d98a20a0e466cdba3e9\") {\n",
       "      outputDiv = document.getElementById(\"altair-viz-4f9585262c364d98a20a0e466cdba3e9\");\n",
       "    }\n",
       "    const paths = {\n",
       "      \"vega\": \"https://cdn.jsdelivr.net/npm//vega@5?noext\",\n",
       "      \"vega-lib\": \"https://cdn.jsdelivr.net/npm//vega-lib?noext\",\n",
       "      \"vega-lite\": \"https://cdn.jsdelivr.net/npm//vega-lite@4.17.0?noext\",\n",
       "      \"vega-embed\": \"https://cdn.jsdelivr.net/npm//vega-embed@6?noext\",\n",
       "    };\n",
       "\n",
       "    function maybeLoadScript(lib, version) {\n",
       "      var key = `${lib.replace(\"-\", \"\")}_version`;\n",
       "      return (VEGA_DEBUG[key] == version) ?\n",
       "        Promise.resolve(paths[lib]) :\n",
       "        new Promise(function(resolve, reject) {\n",
       "          var s = document.createElement('script');\n",
       "          document.getElementsByTagName(\"head\")[0].appendChild(s);\n",
       "          s.async = true;\n",
       "          s.onload = () => {\n",
       "            VEGA_DEBUG[key] = version;\n",
       "            return resolve(paths[lib]);\n",
       "          };\n",
       "          s.onerror = () => reject(`Error loading script: ${paths[lib]}`);\n",
       "          s.src = paths[lib];\n",
       "        });\n",
       "    }\n",
       "\n",
       "    function showError(err) {\n",
       "      outputDiv.innerHTML = `<div class=\"error\" style=\"color:red;\">${err}</div>`;\n",
       "      throw err;\n",
       "    }\n",
       "\n",
       "    function displayChart(vegaEmbed) {\n",
       "      vegaEmbed(outputDiv, spec, embedOpt)\n",
       "        .catch(err => showError(`Javascript Error: ${err.message}<br>This usually means there's a typo in your chart specification. See the javascript console for the full traceback.`));\n",
       "    }\n",
       "\n",
       "    if(typeof define === \"function\" && define.amd) {\n",
       "      requirejs.config({paths});\n",
       "      require([\"vega-embed\"], displayChart, err => showError(`Error loading script: ${err.message}`));\n",
       "    } else {\n",
       "      maybeLoadScript(\"vega\", \"5\")\n",
       "        .then(() => maybeLoadScript(\"vega-lite\", \"4.17.0\"))\n",
       "        .then(() => maybeLoadScript(\"vega-embed\", \"6\"))\n",
       "        .catch(showError)\n",
       "        .then(() => displayChart(vegaEmbed));\n",
       "    }\n",
       "  })({\"config\": {\"view\": {\"continuousWidth\": 400, \"continuousHeight\": 300}}, \"data\": {\"name\": \"data-aeeb5b7805e7c1f6304301b8d54fd7b7\"}, \"mark\": \"bar\", \"encoding\": {\"x\": {\"field\": \"date\", \"type\": \"temporal\"}, \"y\": {\"field\": \"transaction_count\", \"type\": \"quantitative\"}}, \"$schema\": \"https://vega.github.io/schema/vega-lite/v4.17.0.json\", \"datasets\": {\"data-aeeb5b7805e7c1f6304301b8d54fd7b7\": [{\"date\": \"2021-04-24T00:00:00\", \"transaction_count\": 2, \"fee_mean\": 5005307.5, \"fee_sum\": 10010615}, {\"date\": \"2021-05-05T00:00:00\", \"transaction_count\": 2, \"fee_mean\": 5734.0, \"fee_sum\": 11468}, {\"date\": \"2021-05-06T00:00:00\", \"transaction_count\": 1, \"fee_mean\": 4372496.0, \"fee_sum\": 4372496}, {\"date\": \"2021-05-07T00:00:00\", \"transaction_count\": 1, \"fee_mean\": 7613333.0, \"fee_sum\": 7613333}, {\"date\": \"2021-05-08T00:00:00\", \"transaction_count\": 3, \"fee_mean\": 88648.67, \"fee_sum\": 265946}, {\"date\": \"2021-05-09T00:00:00\", \"transaction_count\": 1, \"fee_mean\": 1130.0, \"fee_sum\": 1130}, {\"date\": \"2021-05-10T00:00:00\", \"transaction_count\": 4, \"fee_mean\": 3231011.25, \"fee_sum\": 12924045}, {\"date\": \"2021-05-11T00:00:00\", \"transaction_count\": 2, \"fee_mean\": 1921450.5, \"fee_sum\": 3842901}, {\"date\": \"2021-06-02T00:00:00\", \"transaction_count\": 2, \"fee_mean\": 7264.0, \"fee_sum\": 14528}, {\"date\": \"2021-06-03T00:00:00\", \"transaction_count\": 1, \"fee_mean\": 2463655.0, \"fee_sum\": 2463655}, {\"date\": \"2021-06-05T00:00:00\", \"transaction_count\": 2, \"fee_mean\": 461664.0, \"fee_sum\": 923328}, {\"date\": \"2021-06-07T00:00:00\", \"transaction_count\": 1, \"fee_mean\": 12408.0, \"fee_sum\": 12408}, {\"date\": \"2021-06-08T00:00:00\", \"transaction_count\": 1, \"fee_mean\": 636402.0, \"fee_sum\": 636402}, {\"date\": \"2021-06-26T00:00:00\", \"transaction_count\": 1, \"fee_mean\": 698.0, \"fee_sum\": 698}, {\"date\": \"2021-07-01T00:00:00\", \"transaction_count\": 1, \"fee_mean\": 3273003.0, \"fee_sum\": 3273003}, {\"date\": \"2021-07-22T00:00:00\", \"transaction_count\": 1, \"fee_mean\": 4332.0, \"fee_sum\": 4332}, {\"date\": \"2021-07-23T00:00:00\", \"transaction_count\": 1, \"fee_mean\": 159519.0, \"fee_sum\": 159519}, {\"date\": \"2021-07-26T00:00:00\", \"transaction_count\": 1, \"fee_mean\": 336.0, \"fee_sum\": 336}, {\"date\": \"2021-07-30T00:00:00\", \"transaction_count\": 1, \"fee_mean\": 171889.0, \"fee_sum\": 171889}, {\"date\": \"2021-08-04T00:00:00\", \"transaction_count\": 1, \"fee_mean\": 12118.0, \"fee_sum\": 12118}, {\"date\": \"2021-08-05T00:00:00\", \"transaction_count\": 1, \"fee_mean\": 195980.0, \"fee_sum\": 195980}, {\"date\": \"2021-08-14T00:00:00\", \"transaction_count\": 1, \"fee_mean\": 336.0, \"fee_sum\": 336}, {\"date\": \"2021-08-17T00:00:00\", \"transaction_count\": 1, \"fee_mean\": 989.0, \"fee_sum\": 989}, {\"date\": \"2021-08-18T00:00:00\", \"transaction_count\": 1, \"fee_mean\": 2043.0, \"fee_sum\": 2043}, {\"date\": \"2021-08-19T00:00:00\", \"transaction_count\": 1, \"fee_mean\": 36458.0, \"fee_sum\": 36458}, {\"date\": \"2021-08-25T00:00:00\", \"transaction_count\": 1, \"fee_mean\": 336.0, \"fee_sum\": 336}, {\"date\": \"2021-08-26T00:00:00\", \"transaction_count\": 1, \"fee_mean\": 123149.0, \"fee_sum\": 123149}, {\"date\": \"2021-08-31T00:00:00\", \"transaction_count\": 1, \"fee_mean\": 671.0, \"fee_sum\": 671}, {\"date\": \"2021-09-01T00:00:00\", \"transaction_count\": 3, \"fee_mean\": 29950.0, \"fee_sum\": 89850}, {\"date\": \"2021-09-02T00:00:00\", \"transaction_count\": 4, \"fee_mean\": 73876.25, \"fee_sum\": 295505}, {\"date\": \"2021-09-04T00:00:00\", \"transaction_count\": 1, \"fee_mean\": 681.0, \"fee_sum\": 681}, {\"date\": \"2021-09-05T00:00:00\", \"transaction_count\": 1, \"fee_mean\": 336.0, \"fee_sum\": 336}, {\"date\": \"2021-09-07T00:00:00\", \"transaction_count\": 2, \"fee_mean\": 301654.0, \"fee_sum\": 603308}, {\"date\": \"2021-09-09T00:00:00\", \"transaction_count\": 1, \"fee_mean\": 6243.0, \"fee_sum\": 6243}, {\"date\": \"2021-09-10T00:00:00\", \"transaction_count\": 1, \"fee_mean\": 139843.0, \"fee_sum\": 139843}, {\"date\": \"2021-09-12T00:00:00\", \"transaction_count\": 2, \"fee_mean\": 64504.0, \"fee_sum\": 129008}, {\"date\": \"2021-09-14T00:00:00\", \"transaction_count\": 6, \"fee_mean\": 25808.83, \"fee_sum\": 154853}, {\"date\": \"2021-09-15T00:00:00\", \"transaction_count\": 5, \"fee_mean\": 155367.2, \"fee_sum\": 776836}, {\"date\": \"2021-09-16T00:00:00\", \"transaction_count\": 4, \"fee_mean\": 201719.25, \"fee_sum\": 806877}, {\"date\": \"2021-09-17T00:00:00\", \"transaction_count\": 10, \"fee_mean\": 57456.6, \"fee_sum\": 574566}, {\"date\": \"2021-09-18T00:00:00\", \"transaction_count\": 8, \"fee_mean\": 41120.75, \"fee_sum\": 328966}, {\"date\": \"2021-09-19T00:00:00\", \"transaction_count\": 2, \"fee_mean\": 2394.0, \"fee_sum\": 4788}, {\"date\": \"2021-09-20T00:00:00\", \"transaction_count\": 3, \"fee_mean\": 29981.33, \"fee_sum\": 89944}, {\"date\": \"2021-09-21T00:00:00\", \"transaction_count\": 6, \"fee_mean\": 21671.83, \"fee_sum\": 130031}, {\"date\": \"2021-09-22T00:00:00\", \"transaction_count\": 9, \"fee_mean\": 111985.44, \"fee_sum\": 1007869}, {\"date\": \"2021-09-23T00:00:00\", \"transaction_count\": 4, \"fee_mean\": 199247.75, \"fee_sum\": 796991}, {\"date\": \"2021-09-25T00:00:00\", \"transaction_count\": 1, \"fee_mean\": 166034.0, \"fee_sum\": 166034}, {\"date\": \"2021-09-26T00:00:00\", \"transaction_count\": 2, \"fee_mean\": 2556.5, \"fee_sum\": 5113}, {\"date\": \"2021-09-27T00:00:00\", \"transaction_count\": 6, \"fee_mean\": 19440.33, \"fee_sum\": 116642}, {\"date\": \"2021-09-28T00:00:00\", \"transaction_count\": 2, \"fee_mean\": 6112.0, \"fee_sum\": 12224}, {\"date\": \"2021-09-29T00:00:00\", \"transaction_count\": 4, \"fee_mean\": 42619.75, \"fee_sum\": 170479}, {\"date\": \"2021-10-03T00:00:00\", \"transaction_count\": 1, \"fee_mean\": 336.0, \"fee_sum\": 336}, {\"date\": \"2021-10-04T00:00:00\", \"transaction_count\": 1, \"fee_mean\": 153560.0, \"fee_sum\": 153560}, {\"date\": \"2021-10-05T00:00:00\", \"transaction_count\": 2, \"fee_mean\": 34412.0, \"fee_sum\": 68824}, {\"date\": \"2021-10-06T00:00:00\", \"transaction_count\": 1, \"fee_mean\": 24876.0, \"fee_sum\": 24876}, {\"date\": \"2021-10-07T00:00:00\", \"transaction_count\": 1, \"fee_mean\": 4294.0, \"fee_sum\": 4294}, {\"date\": \"2021-10-08T00:00:00\", \"transaction_count\": 2, \"fee_mean\": 254749.5, \"fee_sum\": 509499}, {\"date\": \"2021-10-09T00:00:00\", \"transaction_count\": 2, \"fee_mean\": 70412.0, \"fee_sum\": 140824}, {\"date\": \"2021-10-10T00:00:00\", \"transaction_count\": 1, \"fee_mean\": 525520.0, \"fee_sum\": 525520}, {\"date\": \"2021-10-11T00:00:00\", \"transaction_count\": 1, \"fee_mean\": 1230.0, \"fee_sum\": 1230}, {\"date\": \"2021-10-12T00:00:00\", \"transaction_count\": 1, \"fee_mean\": 1135231.0, \"fee_sum\": 1135231}, {\"date\": \"2021-10-13T00:00:00\", \"transaction_count\": 4, \"fee_mean\": 34386.25, \"fee_sum\": 137545}, {\"date\": \"2021-10-14T00:00:00\", \"transaction_count\": 2, \"fee_mean\": 54519.0, \"fee_sum\": 109038}, {\"date\": \"2021-10-15T00:00:00\", \"transaction_count\": 1, \"fee_mean\": 2124.0, \"fee_sum\": 2124}, {\"date\": \"2021-10-16T00:00:00\", \"transaction_count\": 1, \"fee_mean\": 34582.0, \"fee_sum\": 34582}, {\"date\": \"2021-10-17T00:00:00\", \"transaction_count\": 1, \"fee_mean\": 17530.0, \"fee_sum\": 17530}, {\"date\": \"2021-10-18T00:00:00\", \"transaction_count\": 4, \"fee_mean\": 212773.25, \"fee_sum\": 851093}, {\"date\": \"2021-10-22T00:00:00\", \"transaction_count\": 1, \"fee_mean\": 563270.0, \"fee_sum\": 563270}, {\"date\": \"2021-10-26T00:00:00\", \"transaction_count\": 1, \"fee_mean\": 8667.0, \"fee_sum\": 8667}, {\"date\": \"2021-10-27T00:00:00\", \"transaction_count\": 2, \"fee_mean\": 100917.0, \"fee_sum\": 201834}, {\"date\": \"2021-10-28T00:00:00\", \"transaction_count\": 1, \"fee_mean\": 980.0, \"fee_sum\": 980}, {\"date\": \"2021-10-29T00:00:00\", \"transaction_count\": 4, \"fee_mean\": 47955.75, \"fee_sum\": 191823}, {\"date\": \"2021-10-30T00:00:00\", \"transaction_count\": 2, \"fee_mean\": 26742.0, \"fee_sum\": 53484}, {\"date\": \"2021-10-31T00:00:00\", \"transaction_count\": 4, \"fee_mean\": 105605.75, \"fee_sum\": 422423}, {\"date\": \"2021-11-01T00:00:00\", \"transaction_count\": 5, \"fee_mean\": 32136.0, \"fee_sum\": 160680}, {\"date\": \"2021-11-02T00:00:00\", \"transaction_count\": 2, \"fee_mean\": 49260.0, \"fee_sum\": 98520}, {\"date\": \"2021-11-03T00:00:00\", \"transaction_count\": 6, \"fee_mean\": 14560.17, \"fee_sum\": 87361}, {\"date\": \"2021-11-04T00:00:00\", \"transaction_count\": 4, \"fee_mean\": 35813.75, \"fee_sum\": 143255}, {\"date\": \"2021-11-05T00:00:00\", \"transaction_count\": 5, \"fee_mean\": 84122.8, \"fee_sum\": 420614}, {\"date\": \"2021-11-06T00:00:00\", \"transaction_count\": 1, \"fee_mean\": 2800.0, \"fee_sum\": 2800}, {\"date\": \"2021-11-07T00:00:00\", \"transaction_count\": 6, \"fee_mean\": 18155.67, \"fee_sum\": 108934}, {\"date\": \"2021-11-08T00:00:00\", \"transaction_count\": 5, \"fee_mean\": 1235.6, \"fee_sum\": 6178}, {\"date\": \"2021-11-09T00:00:00\", \"transaction_count\": 5, \"fee_mean\": 11948.0, \"fee_sum\": 59740}, {\"date\": \"2021-11-10T00:00:00\", \"transaction_count\": 6, \"fee_mean\": 24109.83, \"fee_sum\": 144659}, {\"date\": \"2021-11-11T00:00:00\", \"transaction_count\": 6, \"fee_mean\": 25869.33, \"fee_sum\": 155216}, {\"date\": \"2021-11-12T00:00:00\", \"transaction_count\": 3, \"fee_mean\": 236202.33, \"fee_sum\": 708607}, {\"date\": \"2021-11-13T00:00:00\", \"transaction_count\": 3, \"fee_mean\": 26349.67, \"fee_sum\": 79049}, {\"date\": \"2021-11-14T00:00:00\", \"transaction_count\": 3, \"fee_mean\": 5719.0, \"fee_sum\": 17157}, {\"date\": \"2021-11-15T00:00:00\", \"transaction_count\": 6, \"fee_mean\": 133035.33, \"fee_sum\": 798212}, {\"date\": \"2021-11-16T00:00:00\", \"transaction_count\": 2, \"fee_mean\": 93951.0, \"fee_sum\": 187902}, {\"date\": \"2021-11-18T00:00:00\", \"transaction_count\": 2, \"fee_mean\": 27341.0, \"fee_sum\": 54682}, {\"date\": \"2021-11-20T00:00:00\", \"transaction_count\": 1, \"fee_mean\": 34458.0, \"fee_sum\": 34458}, {\"date\": \"2021-11-21T00:00:00\", \"transaction_count\": 5, \"fee_mean\": 10779.8, \"fee_sum\": 53899}, {\"date\": \"2021-11-22T00:00:00\", \"transaction_count\": 4, \"fee_mean\": 19613.0, \"fee_sum\": 78452}, {\"date\": \"2021-11-23T00:00:00\", \"transaction_count\": 7, \"fee_mean\": 609.57, \"fee_sum\": 4267}, {\"date\": \"2021-11-25T00:00:00\", \"transaction_count\": 4, \"fee_mean\": 3959.0, \"fee_sum\": 15836}, {\"date\": \"2021-11-26T00:00:00\", \"transaction_count\": 3, \"fee_mean\": 10920.0, \"fee_sum\": 32760}, {\"date\": \"2021-11-27T00:00:00\", \"transaction_count\": 3, \"fee_mean\": 665.0, \"fee_sum\": 1995}, {\"date\": \"2021-11-28T00:00:00\", \"transaction_count\": 2, \"fee_mean\": 338.0, \"fee_sum\": 676}, {\"date\": \"2021-11-29T00:00:00\", \"transaction_count\": 2, \"fee_mean\": 338.0, \"fee_sum\": 676}, {\"date\": \"2021-11-30T00:00:00\", \"transaction_count\": 4, \"fee_mean\": 2153.25, \"fee_sum\": 8613}, {\"date\": \"2021-12-01T00:00:00\", \"transaction_count\": 9, \"fee_mean\": 251410.33, \"fee_sum\": 2262693}, {\"date\": \"2021-12-02T00:00:00\", \"transaction_count\": 2, \"fee_mean\": 439.5, \"fee_sum\": 879}, {\"date\": \"2021-12-03T00:00:00\", \"transaction_count\": 2, \"fee_mean\": 4799.5, \"fee_sum\": 9599}, {\"date\": \"2021-12-04T00:00:00\", \"transaction_count\": 4, \"fee_mean\": 5034.5, \"fee_sum\": 20138}, {\"date\": \"2021-12-05T00:00:00\", \"transaction_count\": 5, \"fee_mean\": 11939.0, \"fee_sum\": 59695}, {\"date\": \"2021-12-06T00:00:00\", \"transaction_count\": 1, \"fee_mean\": 338.0, \"fee_sum\": 338}, {\"date\": \"2021-12-07T00:00:00\", \"transaction_count\": 6, \"fee_mean\": 2291.17, \"fee_sum\": 13747}, {\"date\": \"2021-12-08T00:00:00\", \"transaction_count\": 12, \"fee_mean\": 76737.08, \"fee_sum\": 920845}, {\"date\": \"2021-12-09T00:00:00\", \"transaction_count\": 5, \"fee_mean\": 3607.6, \"fee_sum\": 18038}, {\"date\": \"2021-12-11T00:00:00\", \"transaction_count\": 1, \"fee_mean\": 3158.0, \"fee_sum\": 3158}, {\"date\": \"2021-12-12T00:00:00\", \"transaction_count\": 3, \"fee_mean\": 1817.0, \"fee_sum\": 5451}, {\"date\": \"2021-12-13T00:00:00\", \"transaction_count\": 2, \"fee_mean\": 8041.0, \"fee_sum\": 16082}, {\"date\": \"2021-12-14T00:00:00\", \"transaction_count\": 3, \"fee_mean\": 4180.33, \"fee_sum\": 12541}, {\"date\": \"2021-12-16T00:00:00\", \"transaction_count\": 2, \"fee_mean\": 1012.5, \"fee_sum\": 2025}, {\"date\": \"2021-12-17T00:00:00\", \"transaction_count\": 9, \"fee_mean\": 206955.44, \"fee_sum\": 1862599}, {\"date\": \"2021-12-18T00:00:00\", \"transaction_count\": 2, \"fee_mean\": 438.5, \"fee_sum\": 877}, {\"date\": \"2021-12-20T00:00:00\", \"transaction_count\": 3, \"fee_mean\": 1059.33, \"fee_sum\": 3178}, {\"date\": \"2021-12-21T00:00:00\", \"transaction_count\": 3, \"fee_mean\": 934.33, \"fee_sum\": 2803}, {\"date\": \"2021-12-22T00:00:00\", \"transaction_count\": 1, \"fee_mean\": 4628.0, \"fee_sum\": 4628}, {\"date\": \"2021-12-23T00:00:00\", \"transaction_count\": 2, \"fee_mean\": 9121.5, \"fee_sum\": 18243}, {\"date\": \"2021-12-24T00:00:00\", \"transaction_count\": 8, \"fee_mean\": 206560.0, \"fee_sum\": 1652480}, {\"date\": \"2021-12-27T00:00:00\", \"transaction_count\": 4, \"fee_mean\": 277184.25, \"fee_sum\": 1108737}, {\"date\": \"2021-12-29T00:00:00\", \"transaction_count\": 1, \"fee_mean\": 91122.0, \"fee_sum\": 91122}, {\"date\": \"2021-12-31T00:00:00\", \"transaction_count\": 6, \"fee_mean\": 120738.5, \"fee_sum\": 724431}, {\"date\": \"2022-01-01T00:00:00\", \"transaction_count\": 3, \"fee_mean\": 56143.0, \"fee_sum\": 168429}, {\"date\": \"2022-01-02T00:00:00\", \"transaction_count\": 1, \"fee_mean\": 181049.0, \"fee_sum\": 181049}, {\"date\": \"2022-01-03T00:00:00\", \"transaction_count\": 3, \"fee_mean\": 44904.33, \"fee_sum\": 134713}, {\"date\": \"2022-01-05T00:00:00\", \"transaction_count\": 4, \"fee_mean\": 310985.25, \"fee_sum\": 1243941}, {\"date\": \"2022-01-06T00:00:00\", \"transaction_count\": 8, \"fee_mean\": 152384.5, \"fee_sum\": 1219076}, {\"date\": \"2022-01-08T00:00:00\", \"transaction_count\": 1, \"fee_mean\": 540.0, \"fee_sum\": 540}, {\"date\": \"2022-01-09T00:00:00\", \"transaction_count\": 1, \"fee_mean\": 94277.0, \"fee_sum\": 94277}, {\"date\": \"2022-01-11T00:00:00\", \"transaction_count\": 1, \"fee_mean\": 315132.0, \"fee_sum\": 315132}, {\"date\": \"2022-01-12T00:00:00\", \"transaction_count\": 2, \"fee_mean\": 103563.0, \"fee_sum\": 207126}, {\"date\": \"2022-01-13T00:00:00\", \"transaction_count\": 6, \"fee_mean\": 10094.67, \"fee_sum\": 60568}, {\"date\": \"2022-01-14T00:00:00\", \"transaction_count\": 4, \"fee_mean\": 23453.0, \"fee_sum\": 93812}, {\"date\": \"2022-01-15T00:00:00\", \"transaction_count\": 2, \"fee_mean\": 10452.0, \"fee_sum\": 20904}, {\"date\": \"2022-01-16T00:00:00\", \"transaction_count\": 3, \"fee_mean\": 8590.33, \"fee_sum\": 25771}, {\"date\": \"2022-01-17T00:00:00\", \"transaction_count\": 3, \"fee_mean\": 49358.0, \"fee_sum\": 148074}, {\"date\": \"2022-01-18T00:00:00\", \"transaction_count\": 2, \"fee_mean\": 6380.0, \"fee_sum\": 12760}, {\"date\": \"2022-01-19T00:00:00\", \"transaction_count\": 2, \"fee_mean\": 2138.0, \"fee_sum\": 4276}, {\"date\": \"2022-01-20T00:00:00\", \"transaction_count\": 2, \"fee_mean\": 5033.0, \"fee_sum\": 10066}]}}, {\"mode\": \"vega-lite\"});\n",
       "</script>"
      ],
      "text/plain": [
       "alt.Chart(...)"
      ]
     },
     "execution_count": 18,
     "metadata": {},
     "output_type": "execute_result"
    }
   ],
   "source": [
    "alt.Chart(txs_slim_grp).mark_bar().encode(\n",
    "    x='date:T',\n",
    "    y='transaction_count'\n",
    ")"
   ]
  },
  {
   "cell_type": "markdown",
   "id": "ffed0017-3746-4324-ae53-0a2040de5e24",
   "metadata": {},
   "source": [
    "### Average daily transaction fee (not sure what this fee means yet)"
   ]
  },
  {
   "cell_type": "code",
   "execution_count": 19,
   "id": "10e43615-ab23-4b3d-a0bb-50109ab09cce",
   "metadata": {},
   "outputs": [
    {
     "data": {
      "text/html": [
       "\n",
       "<div id=\"altair-viz-08343ba44aa6452da909129c8dcea020\"></div>\n",
       "<script type=\"text/javascript\">\n",
       "  var VEGA_DEBUG = (typeof VEGA_DEBUG == \"undefined\") ? {} : VEGA_DEBUG;\n",
       "  (function(spec, embedOpt){\n",
       "    let outputDiv = document.currentScript.previousElementSibling;\n",
       "    if (outputDiv.id !== \"altair-viz-08343ba44aa6452da909129c8dcea020\") {\n",
       "      outputDiv = document.getElementById(\"altair-viz-08343ba44aa6452da909129c8dcea020\");\n",
       "    }\n",
       "    const paths = {\n",
       "      \"vega\": \"https://cdn.jsdelivr.net/npm//vega@5?noext\",\n",
       "      \"vega-lib\": \"https://cdn.jsdelivr.net/npm//vega-lib?noext\",\n",
       "      \"vega-lite\": \"https://cdn.jsdelivr.net/npm//vega-lite@4.17.0?noext\",\n",
       "      \"vega-embed\": \"https://cdn.jsdelivr.net/npm//vega-embed@6?noext\",\n",
       "    };\n",
       "\n",
       "    function maybeLoadScript(lib, version) {\n",
       "      var key = `${lib.replace(\"-\", \"\")}_version`;\n",
       "      return (VEGA_DEBUG[key] == version) ?\n",
       "        Promise.resolve(paths[lib]) :\n",
       "        new Promise(function(resolve, reject) {\n",
       "          var s = document.createElement('script');\n",
       "          document.getElementsByTagName(\"head\")[0].appendChild(s);\n",
       "          s.async = true;\n",
       "          s.onload = () => {\n",
       "            VEGA_DEBUG[key] = version;\n",
       "            return resolve(paths[lib]);\n",
       "          };\n",
       "          s.onerror = () => reject(`Error loading script: ${paths[lib]}`);\n",
       "          s.src = paths[lib];\n",
       "        });\n",
       "    }\n",
       "\n",
       "    function showError(err) {\n",
       "      outputDiv.innerHTML = `<div class=\"error\" style=\"color:red;\">${err}</div>`;\n",
       "      throw err;\n",
       "    }\n",
       "\n",
       "    function displayChart(vegaEmbed) {\n",
       "      vegaEmbed(outputDiv, spec, embedOpt)\n",
       "        .catch(err => showError(`Javascript Error: ${err.message}<br>This usually means there's a typo in your chart specification. See the javascript console for the full traceback.`));\n",
       "    }\n",
       "\n",
       "    if(typeof define === \"function\" && define.amd) {\n",
       "      requirejs.config({paths});\n",
       "      require([\"vega-embed\"], displayChart, err => showError(`Error loading script: ${err.message}`));\n",
       "    } else {\n",
       "      maybeLoadScript(\"vega\", \"5\")\n",
       "        .then(() => maybeLoadScript(\"vega-lite\", \"4.17.0\"))\n",
       "        .then(() => maybeLoadScript(\"vega-embed\", \"6\"))\n",
       "        .catch(showError)\n",
       "        .then(() => displayChart(vegaEmbed));\n",
       "    }\n",
       "  })({\"config\": {\"view\": {\"continuousWidth\": 400, \"continuousHeight\": 300}}, \"data\": {\"name\": \"data-aeeb5b7805e7c1f6304301b8d54fd7b7\"}, \"mark\": \"bar\", \"encoding\": {\"x\": {\"field\": \"date\", \"type\": \"temporal\"}, \"y\": {\"field\": \"fee_mean\", \"type\": \"quantitative\"}}, \"$schema\": \"https://vega.github.io/schema/vega-lite/v4.17.0.json\", \"datasets\": {\"data-aeeb5b7805e7c1f6304301b8d54fd7b7\": [{\"date\": \"2021-04-24T00:00:00\", \"transaction_count\": 2, \"fee_mean\": 5005307.5, \"fee_sum\": 10010615}, {\"date\": \"2021-05-05T00:00:00\", \"transaction_count\": 2, \"fee_mean\": 5734.0, \"fee_sum\": 11468}, {\"date\": \"2021-05-06T00:00:00\", \"transaction_count\": 1, \"fee_mean\": 4372496.0, \"fee_sum\": 4372496}, {\"date\": \"2021-05-07T00:00:00\", \"transaction_count\": 1, \"fee_mean\": 7613333.0, \"fee_sum\": 7613333}, {\"date\": \"2021-05-08T00:00:00\", \"transaction_count\": 3, \"fee_mean\": 88648.67, \"fee_sum\": 265946}, {\"date\": \"2021-05-09T00:00:00\", \"transaction_count\": 1, \"fee_mean\": 1130.0, \"fee_sum\": 1130}, {\"date\": \"2021-05-10T00:00:00\", \"transaction_count\": 4, \"fee_mean\": 3231011.25, \"fee_sum\": 12924045}, {\"date\": \"2021-05-11T00:00:00\", \"transaction_count\": 2, \"fee_mean\": 1921450.5, \"fee_sum\": 3842901}, {\"date\": \"2021-06-02T00:00:00\", \"transaction_count\": 2, \"fee_mean\": 7264.0, \"fee_sum\": 14528}, {\"date\": \"2021-06-03T00:00:00\", \"transaction_count\": 1, \"fee_mean\": 2463655.0, \"fee_sum\": 2463655}, {\"date\": \"2021-06-05T00:00:00\", \"transaction_count\": 2, \"fee_mean\": 461664.0, \"fee_sum\": 923328}, {\"date\": \"2021-06-07T00:00:00\", \"transaction_count\": 1, \"fee_mean\": 12408.0, \"fee_sum\": 12408}, {\"date\": \"2021-06-08T00:00:00\", \"transaction_count\": 1, \"fee_mean\": 636402.0, \"fee_sum\": 636402}, {\"date\": \"2021-06-26T00:00:00\", \"transaction_count\": 1, \"fee_mean\": 698.0, \"fee_sum\": 698}, {\"date\": \"2021-07-01T00:00:00\", \"transaction_count\": 1, \"fee_mean\": 3273003.0, \"fee_sum\": 3273003}, {\"date\": \"2021-07-22T00:00:00\", \"transaction_count\": 1, \"fee_mean\": 4332.0, \"fee_sum\": 4332}, {\"date\": \"2021-07-23T00:00:00\", \"transaction_count\": 1, \"fee_mean\": 159519.0, \"fee_sum\": 159519}, {\"date\": \"2021-07-26T00:00:00\", \"transaction_count\": 1, \"fee_mean\": 336.0, \"fee_sum\": 336}, {\"date\": \"2021-07-30T00:00:00\", \"transaction_count\": 1, \"fee_mean\": 171889.0, \"fee_sum\": 171889}, {\"date\": \"2021-08-04T00:00:00\", \"transaction_count\": 1, \"fee_mean\": 12118.0, \"fee_sum\": 12118}, {\"date\": \"2021-08-05T00:00:00\", \"transaction_count\": 1, \"fee_mean\": 195980.0, \"fee_sum\": 195980}, {\"date\": \"2021-08-14T00:00:00\", \"transaction_count\": 1, \"fee_mean\": 336.0, \"fee_sum\": 336}, {\"date\": \"2021-08-17T00:00:00\", \"transaction_count\": 1, \"fee_mean\": 989.0, \"fee_sum\": 989}, {\"date\": \"2021-08-18T00:00:00\", \"transaction_count\": 1, \"fee_mean\": 2043.0, \"fee_sum\": 2043}, {\"date\": \"2021-08-19T00:00:00\", \"transaction_count\": 1, \"fee_mean\": 36458.0, \"fee_sum\": 36458}, {\"date\": \"2021-08-25T00:00:00\", \"transaction_count\": 1, \"fee_mean\": 336.0, \"fee_sum\": 336}, {\"date\": \"2021-08-26T00:00:00\", \"transaction_count\": 1, \"fee_mean\": 123149.0, \"fee_sum\": 123149}, {\"date\": \"2021-08-31T00:00:00\", \"transaction_count\": 1, \"fee_mean\": 671.0, \"fee_sum\": 671}, {\"date\": \"2021-09-01T00:00:00\", \"transaction_count\": 3, \"fee_mean\": 29950.0, \"fee_sum\": 89850}, {\"date\": \"2021-09-02T00:00:00\", \"transaction_count\": 4, \"fee_mean\": 73876.25, \"fee_sum\": 295505}, {\"date\": \"2021-09-04T00:00:00\", \"transaction_count\": 1, \"fee_mean\": 681.0, \"fee_sum\": 681}, {\"date\": \"2021-09-05T00:00:00\", \"transaction_count\": 1, \"fee_mean\": 336.0, \"fee_sum\": 336}, {\"date\": \"2021-09-07T00:00:00\", \"transaction_count\": 2, \"fee_mean\": 301654.0, \"fee_sum\": 603308}, {\"date\": \"2021-09-09T00:00:00\", \"transaction_count\": 1, \"fee_mean\": 6243.0, \"fee_sum\": 6243}, {\"date\": \"2021-09-10T00:00:00\", \"transaction_count\": 1, \"fee_mean\": 139843.0, \"fee_sum\": 139843}, {\"date\": \"2021-09-12T00:00:00\", \"transaction_count\": 2, \"fee_mean\": 64504.0, \"fee_sum\": 129008}, {\"date\": \"2021-09-14T00:00:00\", \"transaction_count\": 6, \"fee_mean\": 25808.83, \"fee_sum\": 154853}, {\"date\": \"2021-09-15T00:00:00\", \"transaction_count\": 5, \"fee_mean\": 155367.2, \"fee_sum\": 776836}, {\"date\": \"2021-09-16T00:00:00\", \"transaction_count\": 4, \"fee_mean\": 201719.25, \"fee_sum\": 806877}, {\"date\": \"2021-09-17T00:00:00\", \"transaction_count\": 10, \"fee_mean\": 57456.6, \"fee_sum\": 574566}, {\"date\": \"2021-09-18T00:00:00\", \"transaction_count\": 8, \"fee_mean\": 41120.75, \"fee_sum\": 328966}, {\"date\": \"2021-09-19T00:00:00\", \"transaction_count\": 2, \"fee_mean\": 2394.0, \"fee_sum\": 4788}, {\"date\": \"2021-09-20T00:00:00\", \"transaction_count\": 3, \"fee_mean\": 29981.33, \"fee_sum\": 89944}, {\"date\": \"2021-09-21T00:00:00\", \"transaction_count\": 6, \"fee_mean\": 21671.83, \"fee_sum\": 130031}, {\"date\": \"2021-09-22T00:00:00\", \"transaction_count\": 9, \"fee_mean\": 111985.44, \"fee_sum\": 1007869}, {\"date\": \"2021-09-23T00:00:00\", \"transaction_count\": 4, \"fee_mean\": 199247.75, \"fee_sum\": 796991}, {\"date\": \"2021-09-25T00:00:00\", \"transaction_count\": 1, \"fee_mean\": 166034.0, \"fee_sum\": 166034}, {\"date\": \"2021-09-26T00:00:00\", \"transaction_count\": 2, \"fee_mean\": 2556.5, \"fee_sum\": 5113}, {\"date\": \"2021-09-27T00:00:00\", \"transaction_count\": 6, \"fee_mean\": 19440.33, \"fee_sum\": 116642}, {\"date\": \"2021-09-28T00:00:00\", \"transaction_count\": 2, \"fee_mean\": 6112.0, \"fee_sum\": 12224}, {\"date\": \"2021-09-29T00:00:00\", \"transaction_count\": 4, \"fee_mean\": 42619.75, \"fee_sum\": 170479}, {\"date\": \"2021-10-03T00:00:00\", \"transaction_count\": 1, \"fee_mean\": 336.0, \"fee_sum\": 336}, {\"date\": \"2021-10-04T00:00:00\", \"transaction_count\": 1, \"fee_mean\": 153560.0, \"fee_sum\": 153560}, {\"date\": \"2021-10-05T00:00:00\", \"transaction_count\": 2, \"fee_mean\": 34412.0, \"fee_sum\": 68824}, {\"date\": \"2021-10-06T00:00:00\", \"transaction_count\": 1, \"fee_mean\": 24876.0, \"fee_sum\": 24876}, {\"date\": \"2021-10-07T00:00:00\", \"transaction_count\": 1, \"fee_mean\": 4294.0, \"fee_sum\": 4294}, {\"date\": \"2021-10-08T00:00:00\", \"transaction_count\": 2, \"fee_mean\": 254749.5, \"fee_sum\": 509499}, {\"date\": \"2021-10-09T00:00:00\", \"transaction_count\": 2, \"fee_mean\": 70412.0, \"fee_sum\": 140824}, {\"date\": \"2021-10-10T00:00:00\", \"transaction_count\": 1, \"fee_mean\": 525520.0, \"fee_sum\": 525520}, {\"date\": \"2021-10-11T00:00:00\", \"transaction_count\": 1, \"fee_mean\": 1230.0, \"fee_sum\": 1230}, {\"date\": \"2021-10-12T00:00:00\", \"transaction_count\": 1, \"fee_mean\": 1135231.0, \"fee_sum\": 1135231}, {\"date\": \"2021-10-13T00:00:00\", \"transaction_count\": 4, \"fee_mean\": 34386.25, \"fee_sum\": 137545}, {\"date\": \"2021-10-14T00:00:00\", \"transaction_count\": 2, \"fee_mean\": 54519.0, \"fee_sum\": 109038}, {\"date\": \"2021-10-15T00:00:00\", \"transaction_count\": 1, \"fee_mean\": 2124.0, \"fee_sum\": 2124}, {\"date\": \"2021-10-16T00:00:00\", \"transaction_count\": 1, \"fee_mean\": 34582.0, \"fee_sum\": 34582}, {\"date\": \"2021-10-17T00:00:00\", \"transaction_count\": 1, \"fee_mean\": 17530.0, \"fee_sum\": 17530}, {\"date\": \"2021-10-18T00:00:00\", \"transaction_count\": 4, \"fee_mean\": 212773.25, \"fee_sum\": 851093}, {\"date\": \"2021-10-22T00:00:00\", \"transaction_count\": 1, \"fee_mean\": 563270.0, \"fee_sum\": 563270}, {\"date\": \"2021-10-26T00:00:00\", \"transaction_count\": 1, \"fee_mean\": 8667.0, \"fee_sum\": 8667}, {\"date\": \"2021-10-27T00:00:00\", \"transaction_count\": 2, \"fee_mean\": 100917.0, \"fee_sum\": 201834}, {\"date\": \"2021-10-28T00:00:00\", \"transaction_count\": 1, \"fee_mean\": 980.0, \"fee_sum\": 980}, {\"date\": \"2021-10-29T00:00:00\", \"transaction_count\": 4, \"fee_mean\": 47955.75, \"fee_sum\": 191823}, {\"date\": \"2021-10-30T00:00:00\", \"transaction_count\": 2, \"fee_mean\": 26742.0, \"fee_sum\": 53484}, {\"date\": \"2021-10-31T00:00:00\", \"transaction_count\": 4, \"fee_mean\": 105605.75, \"fee_sum\": 422423}, {\"date\": \"2021-11-01T00:00:00\", \"transaction_count\": 5, \"fee_mean\": 32136.0, \"fee_sum\": 160680}, {\"date\": \"2021-11-02T00:00:00\", \"transaction_count\": 2, \"fee_mean\": 49260.0, \"fee_sum\": 98520}, {\"date\": \"2021-11-03T00:00:00\", \"transaction_count\": 6, \"fee_mean\": 14560.17, \"fee_sum\": 87361}, {\"date\": \"2021-11-04T00:00:00\", \"transaction_count\": 4, \"fee_mean\": 35813.75, \"fee_sum\": 143255}, {\"date\": \"2021-11-05T00:00:00\", \"transaction_count\": 5, \"fee_mean\": 84122.8, \"fee_sum\": 420614}, {\"date\": \"2021-11-06T00:00:00\", \"transaction_count\": 1, \"fee_mean\": 2800.0, \"fee_sum\": 2800}, {\"date\": \"2021-11-07T00:00:00\", \"transaction_count\": 6, \"fee_mean\": 18155.67, \"fee_sum\": 108934}, {\"date\": \"2021-11-08T00:00:00\", \"transaction_count\": 5, \"fee_mean\": 1235.6, \"fee_sum\": 6178}, {\"date\": \"2021-11-09T00:00:00\", \"transaction_count\": 5, \"fee_mean\": 11948.0, \"fee_sum\": 59740}, {\"date\": \"2021-11-10T00:00:00\", \"transaction_count\": 6, \"fee_mean\": 24109.83, \"fee_sum\": 144659}, {\"date\": \"2021-11-11T00:00:00\", \"transaction_count\": 6, \"fee_mean\": 25869.33, \"fee_sum\": 155216}, {\"date\": \"2021-11-12T00:00:00\", \"transaction_count\": 3, \"fee_mean\": 236202.33, \"fee_sum\": 708607}, {\"date\": \"2021-11-13T00:00:00\", \"transaction_count\": 3, \"fee_mean\": 26349.67, \"fee_sum\": 79049}, {\"date\": \"2021-11-14T00:00:00\", \"transaction_count\": 3, \"fee_mean\": 5719.0, \"fee_sum\": 17157}, {\"date\": \"2021-11-15T00:00:00\", \"transaction_count\": 6, \"fee_mean\": 133035.33, \"fee_sum\": 798212}, {\"date\": \"2021-11-16T00:00:00\", \"transaction_count\": 2, \"fee_mean\": 93951.0, \"fee_sum\": 187902}, {\"date\": \"2021-11-18T00:00:00\", \"transaction_count\": 2, \"fee_mean\": 27341.0, \"fee_sum\": 54682}, {\"date\": \"2021-11-20T00:00:00\", \"transaction_count\": 1, \"fee_mean\": 34458.0, \"fee_sum\": 34458}, {\"date\": \"2021-11-21T00:00:00\", \"transaction_count\": 5, \"fee_mean\": 10779.8, \"fee_sum\": 53899}, {\"date\": \"2021-11-22T00:00:00\", \"transaction_count\": 4, \"fee_mean\": 19613.0, \"fee_sum\": 78452}, {\"date\": \"2021-11-23T00:00:00\", \"transaction_count\": 7, \"fee_mean\": 609.57, \"fee_sum\": 4267}, {\"date\": \"2021-11-25T00:00:00\", \"transaction_count\": 4, \"fee_mean\": 3959.0, \"fee_sum\": 15836}, {\"date\": \"2021-11-26T00:00:00\", \"transaction_count\": 3, \"fee_mean\": 10920.0, \"fee_sum\": 32760}, {\"date\": \"2021-11-27T00:00:00\", \"transaction_count\": 3, \"fee_mean\": 665.0, \"fee_sum\": 1995}, {\"date\": \"2021-11-28T00:00:00\", \"transaction_count\": 2, \"fee_mean\": 338.0, \"fee_sum\": 676}, {\"date\": \"2021-11-29T00:00:00\", \"transaction_count\": 2, \"fee_mean\": 338.0, \"fee_sum\": 676}, {\"date\": \"2021-11-30T00:00:00\", \"transaction_count\": 4, \"fee_mean\": 2153.25, \"fee_sum\": 8613}, {\"date\": \"2021-12-01T00:00:00\", \"transaction_count\": 9, \"fee_mean\": 251410.33, \"fee_sum\": 2262693}, {\"date\": \"2021-12-02T00:00:00\", \"transaction_count\": 2, \"fee_mean\": 439.5, \"fee_sum\": 879}, {\"date\": \"2021-12-03T00:00:00\", \"transaction_count\": 2, \"fee_mean\": 4799.5, \"fee_sum\": 9599}, {\"date\": \"2021-12-04T00:00:00\", \"transaction_count\": 4, \"fee_mean\": 5034.5, \"fee_sum\": 20138}, {\"date\": \"2021-12-05T00:00:00\", \"transaction_count\": 5, \"fee_mean\": 11939.0, \"fee_sum\": 59695}, {\"date\": \"2021-12-06T00:00:00\", \"transaction_count\": 1, \"fee_mean\": 338.0, \"fee_sum\": 338}, {\"date\": \"2021-12-07T00:00:00\", \"transaction_count\": 6, \"fee_mean\": 2291.17, \"fee_sum\": 13747}, {\"date\": \"2021-12-08T00:00:00\", \"transaction_count\": 12, \"fee_mean\": 76737.08, \"fee_sum\": 920845}, {\"date\": \"2021-12-09T00:00:00\", \"transaction_count\": 5, \"fee_mean\": 3607.6, \"fee_sum\": 18038}, {\"date\": \"2021-12-11T00:00:00\", \"transaction_count\": 1, \"fee_mean\": 3158.0, \"fee_sum\": 3158}, {\"date\": \"2021-12-12T00:00:00\", \"transaction_count\": 3, \"fee_mean\": 1817.0, \"fee_sum\": 5451}, {\"date\": \"2021-12-13T00:00:00\", \"transaction_count\": 2, \"fee_mean\": 8041.0, \"fee_sum\": 16082}, {\"date\": \"2021-12-14T00:00:00\", \"transaction_count\": 3, \"fee_mean\": 4180.33, \"fee_sum\": 12541}, {\"date\": \"2021-12-16T00:00:00\", \"transaction_count\": 2, \"fee_mean\": 1012.5, \"fee_sum\": 2025}, {\"date\": \"2021-12-17T00:00:00\", \"transaction_count\": 9, \"fee_mean\": 206955.44, \"fee_sum\": 1862599}, {\"date\": \"2021-12-18T00:00:00\", \"transaction_count\": 2, \"fee_mean\": 438.5, \"fee_sum\": 877}, {\"date\": \"2021-12-20T00:00:00\", \"transaction_count\": 3, \"fee_mean\": 1059.33, \"fee_sum\": 3178}, {\"date\": \"2021-12-21T00:00:00\", \"transaction_count\": 3, \"fee_mean\": 934.33, \"fee_sum\": 2803}, {\"date\": \"2021-12-22T00:00:00\", \"transaction_count\": 1, \"fee_mean\": 4628.0, \"fee_sum\": 4628}, {\"date\": \"2021-12-23T00:00:00\", \"transaction_count\": 2, \"fee_mean\": 9121.5, \"fee_sum\": 18243}, {\"date\": \"2021-12-24T00:00:00\", \"transaction_count\": 8, \"fee_mean\": 206560.0, \"fee_sum\": 1652480}, {\"date\": \"2021-12-27T00:00:00\", \"transaction_count\": 4, \"fee_mean\": 277184.25, \"fee_sum\": 1108737}, {\"date\": \"2021-12-29T00:00:00\", \"transaction_count\": 1, \"fee_mean\": 91122.0, \"fee_sum\": 91122}, {\"date\": \"2021-12-31T00:00:00\", \"transaction_count\": 6, \"fee_mean\": 120738.5, \"fee_sum\": 724431}, {\"date\": \"2022-01-01T00:00:00\", \"transaction_count\": 3, \"fee_mean\": 56143.0, \"fee_sum\": 168429}, {\"date\": \"2022-01-02T00:00:00\", \"transaction_count\": 1, \"fee_mean\": 181049.0, \"fee_sum\": 181049}, {\"date\": \"2022-01-03T00:00:00\", \"transaction_count\": 3, \"fee_mean\": 44904.33, \"fee_sum\": 134713}, {\"date\": \"2022-01-05T00:00:00\", \"transaction_count\": 4, \"fee_mean\": 310985.25, \"fee_sum\": 1243941}, {\"date\": \"2022-01-06T00:00:00\", \"transaction_count\": 8, \"fee_mean\": 152384.5, \"fee_sum\": 1219076}, {\"date\": \"2022-01-08T00:00:00\", \"transaction_count\": 1, \"fee_mean\": 540.0, \"fee_sum\": 540}, {\"date\": \"2022-01-09T00:00:00\", \"transaction_count\": 1, \"fee_mean\": 94277.0, \"fee_sum\": 94277}, {\"date\": \"2022-01-11T00:00:00\", \"transaction_count\": 1, \"fee_mean\": 315132.0, \"fee_sum\": 315132}, {\"date\": \"2022-01-12T00:00:00\", \"transaction_count\": 2, \"fee_mean\": 103563.0, \"fee_sum\": 207126}, {\"date\": \"2022-01-13T00:00:00\", \"transaction_count\": 6, \"fee_mean\": 10094.67, \"fee_sum\": 60568}, {\"date\": \"2022-01-14T00:00:00\", \"transaction_count\": 4, \"fee_mean\": 23453.0, \"fee_sum\": 93812}, {\"date\": \"2022-01-15T00:00:00\", \"transaction_count\": 2, \"fee_mean\": 10452.0, \"fee_sum\": 20904}, {\"date\": \"2022-01-16T00:00:00\", \"transaction_count\": 3, \"fee_mean\": 8590.33, \"fee_sum\": 25771}, {\"date\": \"2022-01-17T00:00:00\", \"transaction_count\": 3, \"fee_mean\": 49358.0, \"fee_sum\": 148074}, {\"date\": \"2022-01-18T00:00:00\", \"transaction_count\": 2, \"fee_mean\": 6380.0, \"fee_sum\": 12760}, {\"date\": \"2022-01-19T00:00:00\", \"transaction_count\": 2, \"fee_mean\": 2138.0, \"fee_sum\": 4276}, {\"date\": \"2022-01-20T00:00:00\", \"transaction_count\": 2, \"fee_mean\": 5033.0, \"fee_sum\": 10066}]}}, {\"mode\": \"vega-lite\"});\n",
       "</script>"
      ],
      "text/plain": [
       "alt.Chart(...)"
      ]
     },
     "execution_count": 19,
     "metadata": {},
     "output_type": "execute_result"
    }
   ],
   "source": [
    "alt.Chart(txs_slim_grp).mark_bar().encode(\n",
    "    x='date:T',\n",
    "    y='fee_mean'\n",
    ")"
   ]
  },
  {
   "cell_type": "markdown",
   "id": "35a8f915-df38-4bef-860a-e2fd6881fd50",
   "metadata": {},
   "source": [
    "---"
   ]
  },
  {
   "cell_type": "markdown",
   "id": "07b751dc-b32d-4041-9563-773ad78a21eb",
   "metadata": {},
   "source": [
    "### Export"
   ]
  },
  {
   "cell_type": "code",
   "execution_count": 20,
   "id": "8a6756c1-92f1-4a4e-9f8e-f60f6b790972",
   "metadata": {},
   "outputs": [],
   "source": [
    "txs_slim.to_csv('data/raw/transactions.csv', index=False)"
   ]
  }
 ],
 "metadata": {
  "kernelspec": {
   "display_name": "Python 3 (ipykernel)",
   "language": "python",
   "name": "python3"
  },
  "language_info": {
   "codemirror_mode": {
    "name": "ipython",
    "version": 3
   },
   "file_extension": ".py",
   "mimetype": "text/x-python",
   "name": "python",
   "nbconvert_exporter": "python",
   "pygments_lexer": "ipython3",
   "version": "3.8.9"
  }
 },
 "nbformat": 4,
 "nbformat_minor": 5
}
