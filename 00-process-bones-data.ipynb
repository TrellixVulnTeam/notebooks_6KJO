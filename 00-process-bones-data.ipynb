{
 "cells": [
  {
   "cell_type": "markdown",
   "id": "4c1af264-2682-4ba6-95ac-865e10f33fca",
   "metadata": {},
   "source": [
    "# Noodle Tracker: Bones Day or a No Bones Day?"
   ]
  },
  {
   "cell_type": "code",
   "execution_count": null,
   "id": "76901e3d-28a6-4875-8c3f-7ba870943b19",
   "metadata": {},
   "outputs": [],
   "source": [
    "import pandas as pd\n",
    "import glob\n",
    "import altair as alt\n",
    "import altair_latimes as lat\n",
    "import numpy as np\n",
    "alt.themes.register(\"latimes\", lat.theme)\n",
    "alt.themes.enable(\"latimes\")\n",
    "pd.options.display.max_columns = 1000\n",
    "pd.options.display.max_rows = 1000\n",
    "alt.data_transformers.disable_max_rows()\n",
    "pd.options.display.max_colwidth = None"
   ]
  },
  {
   "cell_type": "code",
   "execution_count": null,
   "id": "3009086a-5f16-4a8e-9755-7b9a2f5437de",
   "metadata": {},
   "outputs": [],
   "source": []
  }
 ],
 "metadata": {
  "kernelspec": {
   "display_name": "Python 3 (ipykernel)",
   "language": "python",
   "name": "python3"
  },
  "language_info": {
   "codemirror_mode": {
    "name": "ipython",
    "version": 3
   },
   "file_extension": ".py",
   "mimetype": "text/x-python",
   "name": "python",
   "nbconvert_exporter": "python",
   "pygments_lexer": "ipython3",
   "version": "3.8.11"
  }
 },
 "nbformat": 4,
 "nbformat_minor": 5
}
