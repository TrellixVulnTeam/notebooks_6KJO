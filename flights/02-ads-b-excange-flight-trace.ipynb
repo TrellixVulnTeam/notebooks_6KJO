{
 "cells": [
  {
   "cell_type": "markdown",
   "id": "04563770-afaf-4a6f-a39c-95973b494f85",
   "metadata": {},
   "source": [
    "# ADS-B Exchange "
   ]
  },
  {
   "cell_type": "code",
   "execution_count": 5,
   "id": "f0a4d078-24b5-45e8-862b-49d305b58fb6",
   "metadata": {},
   "outputs": [],
   "source": [
    "%load_ext lab_black"
   ]
  },
  {
   "cell_type": "code",
   "execution_count": 9,
   "id": "2b1eb448-23c4-46b5-9ba6-f42622918a46",
   "metadata": {},
   "outputs": [],
   "source": [
    "import pandas as pd\n",
    "import geopandas as gpd\n",
    "import matplotlib\n",
    "import matplotlib.pyplot as plt\n",
    "import geojson\n",
    "import json\n",
    "import glob\n",
    "import io\n",
    "import os\n",
    "from shapely.geometry import Point, LineString\n",
    "import datetime as dt"
   ]
  },
  {
   "cell_type": "code",
   "execution_count": 10,
   "id": "a231fb76-06c4-493b-822a-8edf459db1a0",
   "metadata": {},
   "outputs": [],
   "source": [
    "pd.options.display.max_columns = 1000\n",
    "pd.options.display.max_rows = 1000\n",
    "pd.options.display.max_colwidth = None"
   ]
  },
  {
   "cell_type": "code",
   "execution_count": 16,
   "id": "3361c461-a195-46c5-92c7-b7becccd9a1f",
   "metadata": {},
   "outputs": [],
   "source": [
    "today = dt.datetime.today().strftime(\"%Y/%m/%d\")"
   ]
  },
  {
   "cell_type": "markdown",
   "id": "988b527a-2ad0-45de-922b-dcb9ca1730f8",
   "metadata": {},
   "source": [
    "---"
   ]
  },
  {
   "cell_type": "code",
   "execution_count": 37,
   "id": "fe70d7da-a18f-42e5-aea8-935dc3caa4b2",
   "metadata": {},
   "outputs": [],
   "source": [
    "aircraft = \"ac64c6\"\n",
    "start_date = \"2022/07/10\"\n",
    "end_date = \"2022/07/10\""
   ]
  },
  {
   "cell_type": "code",
   "execution_count": 38,
   "id": "df25448e-e3e7-40a3-86ad-abecfdebe290",
   "metadata": {},
   "outputs": [],
   "source": [
    "url = f\"https://globe.adsbexchange.com/globe_history/{end_date}/traces/c6/trace_full_{aircraft}.json\""
   ]
  },
  {
   "cell_type": "code",
   "execution_count": 39,
   "id": "101a0e23-fff1-4967-8feb-4e4aa7884e04",
   "metadata": {},
   "outputs": [
    {
     "data": {
      "text/plain": [
       "'https://globe.adsbexchange.com/globe_history/2022/07/10/traces/c6/trace_full_ac64c6.json'"
      ]
     },
     "execution_count": 39,
     "metadata": {},
     "output_type": "execute_result"
    }
   ],
   "source": [
    "url"
   ]
  },
  {
   "cell_type": "code",
   "execution_count": 40,
   "id": "68c3adeb-ddc3-4100-9467-40181cad3637",
   "metadata": {},
   "outputs": [],
   "source": [
    "dates = [d.strftime(\"%Y/%m/%d\") for d in pd.date_range(\"2022/01/01\", \"2022/08/01\")]"
   ]
  },
  {
   "cell_type": "code",
   "execution_count": null,
   "id": "2e44f670-47b6-4605-b1c5-984b96ade426",
   "metadata": {},
   "outputs": [],
   "source": []
  },
  {
   "cell_type": "code",
   "execution_count": null,
   "id": "e4d62090-5144-46b0-813d-144c284b2447",
   "metadata": {},
   "outputs": [],
   "source": []
  },
  {
   "cell_type": "code",
   "execution_count": 46,
   "id": "a713b778-44c7-4062-9926-558f0791327f",
   "metadata": {},
   "outputs": [],
   "source": []
  },
  {
   "cell_type": "code",
   "execution_count": null,
   "id": "e6916159-047d-4c2b-a796-113ec59c6197",
   "metadata": {},
   "outputs": [],
   "source": []
  },
  {
   "cell_type": "code",
   "execution_count": null,
   "id": "e6f327f6-c5ba-4a9c-9a35-17d90f1f98cc",
   "metadata": {},
   "outputs": [],
   "source": []
  }
 ],
 "metadata": {
  "kernelspec": {
   "display_name": "Python 3 (ipykernel)",
   "language": "python",
   "name": "python3"
  },
  "language_info": {
   "codemirror_mode": {
    "name": "ipython",
    "version": 3
   },
   "file_extension": ".py",
   "mimetype": "text/x-python",
   "name": "python",
   "nbconvert_exporter": "python",
   "pygments_lexer": "ipython3",
   "version": "3.8.9"
  }
 },
 "nbformat": 4,
 "nbformat_minor": 5
}
