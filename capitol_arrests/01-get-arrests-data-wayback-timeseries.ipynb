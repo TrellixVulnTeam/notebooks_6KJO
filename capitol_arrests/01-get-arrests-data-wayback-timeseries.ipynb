{
 "cells": [
  {
   "cell_type": "markdown",
   "id": "16ecc90b",
   "metadata": {},
   "source": [
    "# Counting U.S. Capitol breach cases listed by DOJ via Wayback Machine"
   ]
  },
  {
   "cell_type": "markdown",
   "id": "e3e590a6",
   "metadata": {},
   "source": [
    "### Import Python tools and Jupyter configuration"
   ]
  },
  {
   "cell_type": "code",
   "execution_count": 1,
   "id": "ec1c0a67",
   "metadata": {},
   "outputs": [],
   "source": [
    "%load_ext lab_black"
   ]
  },
  {
   "cell_type": "code",
   "execution_count": 2,
   "id": "417123a4",
   "metadata": {},
   "outputs": [],
   "source": [
    "import pandas as pd\n",
    "import requests\n",
    "from bs4 import BeautifulSoup\n",
    "import re"
   ]
  },
  {
   "cell_type": "code",
   "execution_count": 3,
   "id": "e3bb698d",
   "metadata": {},
   "outputs": [],
   "source": [
    "import altair as alt\n",
    "import numpy as np"
   ]
  },
  {
   "cell_type": "code",
   "execution_count": 4,
   "id": "72f73ea0",
   "metadata": {},
   "outputs": [],
   "source": [
    "pd.options.display.max_columns = 100\n",
    "pd.options.display.max_rows = 1000\n",
    "alt.data_transformers.disable_max_rows()\n",
    "pd.options.display.max_colwidth = None"
   ]
  },
  {
   "cell_type": "markdown",
   "id": "52fb9ee4",
   "metadata": {},
   "source": [
    "### Headers"
   ]
  },
  {
   "cell_type": "code",
   "execution_count": 5,
   "id": "d1db6a18",
   "metadata": {},
   "outputs": [],
   "source": [
    "headers = {\n",
    "    \"User-Agent\": \"Mozilla/5.0 (Macintosh; Intel Mac OS X 10_15_6) AppleWebKit/537.36 (KHTML, like Gecko) Chrome/85.0.4183.102 Safari/537.36\",\n",
    "    \"Accept\": \"text/html,application/xhtml+xml,application/xml;q=0.9,image/avif,image/webp,image/apng,*/*;q=0.8,application/signed-exchange;v=b3;q=0.9\",\n",
    "}"
   ]
  },
  {
   "cell_type": "markdown",
   "id": "683e4657",
   "metadata": {},
   "source": [
    "### Get the wayback machine feed of changes"
   ]
  },
  {
   "cell_type": "code",
   "execution_count": 6,
   "id": "9da7d723",
   "metadata": {},
   "outputs": [],
   "source": [
    "url = \"http://web.archive.org/cdx/search/cdx?url=https://www.justice.gov/usao-dc/capitol-breach-cases&output=json\""
   ]
  },
  {
   "cell_type": "code",
   "execution_count": 7,
   "id": "65d22961",
   "metadata": {},
   "outputs": [],
   "source": [
    "urls = pd.read_json(url, orient=\"records\").drop([0], axis=0)"
   ]
  },
  {
   "cell_type": "code",
   "execution_count": 8,
   "id": "57a44c1c",
   "metadata": {},
   "outputs": [],
   "source": [
    "urls.columns = [\n",
    "    \"urlkey\",\n",
    "    \"timestamp\",\n",
    "    \"original\",\n",
    "    \"mimetype\",\n",
    "    \"statuscode\",\n",
    "    \"digest\",\n",
    "    \"length\",\n",
    "]"
   ]
  },
  {
   "cell_type": "code",
   "execution_count": 9,
   "id": "a433fa81",
   "metadata": {},
   "outputs": [],
   "source": [
    "urls[\"datetime\"] = pd.to_datetime(urls[\"timestamp\"])"
   ]
  },
  {
   "cell_type": "code",
   "execution_count": 10,
   "id": "c6318f0f",
   "metadata": {},
   "outputs": [],
   "source": [
    "urls[\"date\"] = urls[\"datetime\"].dt.date"
   ]
  },
  {
   "cell_type": "markdown",
   "id": "886c9532",
   "metadata": {},
   "source": [
    "### Limit the update urls to the last one of each day"
   ]
  },
  {
   "cell_type": "code",
   "execution_count": 11,
   "id": "8131619f",
   "metadata": {},
   "outputs": [],
   "source": [
    "daily_urls = urls.sort_values([\"datetime\", \"date\"], ascending=True).drop_duplicates(\n",
    "    \"date\", keep=\"last\"\n",
    ")"
   ]
  },
  {
   "cell_type": "code",
   "execution_count": 12,
   "id": "cb24028b",
   "metadata": {},
   "outputs": [],
   "source": [
    "urls_success = daily_urls[daily_urls[\"statuscode\"] == \"200\"].copy()"
   ]
  },
  {
   "cell_type": "code",
   "execution_count": 13,
   "id": "9d3065a2",
   "metadata": {},
   "outputs": [
    {
     "data": {
      "text/plain": [
       "221"
      ]
     },
     "execution_count": 13,
     "metadata": {},
     "output_type": "execute_result"
    }
   ],
   "source": [
    "len(urls_success)"
   ]
  },
  {
   "cell_type": "markdown",
   "id": "e5df7a37",
   "metadata": {},
   "source": [
    "### Loop through urls and create Wayback create dataframes"
   ]
  },
  {
   "cell_type": "code",
   "execution_count": 14,
   "id": "079cdb91",
   "metadata": {},
   "outputs": [],
   "source": [
    "# Sample url: 'https://web.archive.org/web/20210401183845/https://www.justice.gov/usao-dc/capitol-breach-cases'"
   ]
  },
  {
   "cell_type": "code",
   "execution_count": 15,
   "id": "ef4d6929",
   "metadata": {},
   "outputs": [],
   "source": [
    "content = []\n",
    "pages = []\n",
    "\n",
    "for t, u in zip(urls_success.timestamp, urls_success.original):\n",
    "    response_justice = requests.get(\n",
    "        \"https://web.archive.org/web/\" + t + \"/\" + u, headers=headers\n",
    "    )\n",
    "    #     justice_url = \"https://web.archive.org/web/\" + t + \"/\" + u\n",
    "    pages.append(\n",
    "        (pd.read_html(response_justice.text, attrs={\"class\": \"tablesaw\"})[0]).assign(\n",
    "            timestamp=t\n",
    "        )\n",
    "    )"
   ]
  },
  {
   "cell_type": "markdown",
   "id": "088547a1",
   "metadata": {},
   "source": [
    "### Create a large dataframe from a list of update date dataframes, and add a timestamp"
   ]
  },
  {
   "cell_type": "code",
   "execution_count": 16,
   "id": "4681547e",
   "metadata": {},
   "outputs": [],
   "source": [
    "df = pd.concat(pages)"
   ]
  },
  {
   "cell_type": "code",
   "execution_count": 17,
   "id": "1afb9ae1",
   "metadata": {},
   "outputs": [],
   "source": [
    "df.drop([\"Entry Last Updated*\"], axis=1, inplace=True)"
   ]
  },
  {
   "cell_type": "markdown",
   "id": "c95ea976",
   "metadata": {},
   "source": [
    "### Clean up dates"
   ]
  },
  {
   "cell_type": "code",
   "execution_count": 18,
   "id": "71603c19",
   "metadata": {},
   "outputs": [],
   "source": [
    "df[\"datetime\"] = pd.to_datetime(df[\"timestamp\"])"
   ]
  },
  {
   "cell_type": "code",
   "execution_count": 19,
   "id": "b8b4f72c",
   "metadata": {},
   "outputs": [],
   "source": [
    "df[\"date\"] = df[\"datetime\"].dt.date"
   ]
  },
  {
   "cell_type": "code",
   "execution_count": 20,
   "id": "032e0270",
   "metadata": {},
   "outputs": [],
   "source": [
    "df.drop([\"timestamp\"], axis=1, inplace=True)"
   ]
  },
  {
   "cell_type": "code",
   "execution_count": 21,
   "id": "7693e004",
   "metadata": {},
   "outputs": [
    {
     "data": {
      "text/plain": [
       "Case Number                     object\n",
       "Name                            object\n",
       "Charge(s)                       object\n",
       "Associated Documents            object\n",
       "Location of Arrest              object\n",
       "Case Status                     object\n",
       "Entry Last Updated              object\n",
       "Case Documents                  object\n",
       "datetime                datetime64[ns]\n",
       "date                            object\n",
       "dtype: object"
      ]
     },
     "execution_count": 21,
     "metadata": {},
     "output_type": "execute_result"
    }
   ],
   "source": [
    "df.dtypes"
   ]
  },
  {
   "cell_type": "markdown",
   "id": "d99626a9",
   "metadata": {},
   "source": [
    "### Clean up the headers"
   ]
  },
  {
   "cell_type": "code",
   "execution_count": 22,
   "id": "9f1124f4",
   "metadata": {},
   "outputs": [],
   "source": [
    "df.columns = (\n",
    "    df.columns.str.strip()\n",
    "    .str.lower()\n",
    "    .str.replace(\" \", \"_\", regex=False)\n",
    "    .str.replace(\":\", \"\", regex=False)\n",
    "    .str.replace(\"/\", \"_\", regex=False)\n",
    "    .str.replace(\",\", \"_\", regex=False)\n",
    "    .str.replace(\"*\", \"\", regex=False)\n",
    "    .str.replace(\"(s)\", \"s\", regex=False)\n",
    ")"
   ]
  },
  {
   "cell_type": "code",
   "execution_count": 23,
   "id": "4890f281",
   "metadata": {},
   "outputs": [],
   "source": [
    "df.to_csv(\"raw/cases-internet-archive-all.csv\", index=False)"
   ]
  },
  {
   "cell_type": "markdown",
   "id": "f96eacce",
   "metadata": {},
   "source": [
    "---"
   ]
  },
  {
   "cell_type": "markdown",
   "id": "d8d8d87f",
   "metadata": {},
   "source": [
    "### How many cases each day?"
   ]
  },
  {
   "cell_type": "code",
   "execution_count": 24,
   "id": "5900c1a5",
   "metadata": {},
   "outputs": [],
   "source": [
    "cases_by_day = df.groupby([\"datetime\"]).agg({\"case_number\": \"size\"}).reset_index()"
   ]
  },
  {
   "cell_type": "code",
   "execution_count": 25,
   "id": "77af39a7",
   "metadata": {},
   "outputs": [
    {
     "data": {
      "text/plain": [
       "datetime       datetime64[ns]\n",
       "case_number             int64\n",
       "dtype: object"
      ]
     },
     "execution_count": 25,
     "metadata": {},
     "output_type": "execute_result"
    }
   ],
   "source": [
    "cases_by_day.dtypes"
   ]
  },
  {
   "cell_type": "code",
   "execution_count": 26,
   "id": "2adad934",
   "metadata": {},
   "outputs": [
    {
     "data": {
      "text/html": [
       "\n",
       "<div id=\"altair-viz-d0d7f85c062f4fd89cf18f4460674f13\"></div>\n",
       "<script type=\"text/javascript\">\n",
       "  (function(spec, embedOpt){\n",
       "    let outputDiv = document.currentScript.previousElementSibling;\n",
       "    if (outputDiv.id !== \"altair-viz-d0d7f85c062f4fd89cf18f4460674f13\") {\n",
       "      outputDiv = document.getElementById(\"altair-viz-d0d7f85c062f4fd89cf18f4460674f13\");\n",
       "    }\n",
       "    const paths = {\n",
       "      \"vega\": \"https://cdn.jsdelivr.net/npm//vega@5?noext\",\n",
       "      \"vega-lib\": \"https://cdn.jsdelivr.net/npm//vega-lib?noext\",\n",
       "      \"vega-lite\": \"https://cdn.jsdelivr.net/npm//vega-lite@4.8.1?noext\",\n",
       "      \"vega-embed\": \"https://cdn.jsdelivr.net/npm//vega-embed@6?noext\",\n",
       "    };\n",
       "\n",
       "    function loadScript(lib) {\n",
       "      return new Promise(function(resolve, reject) {\n",
       "        var s = document.createElement('script');\n",
       "        s.src = paths[lib];\n",
       "        s.async = true;\n",
       "        s.onload = () => resolve(paths[lib]);\n",
       "        s.onerror = () => reject(`Error loading script: ${paths[lib]}`);\n",
       "        document.getElementsByTagName(\"head\")[0].appendChild(s);\n",
       "      });\n",
       "    }\n",
       "\n",
       "    function showError(err) {\n",
       "      outputDiv.innerHTML = `<div class=\"error\" style=\"color:red;\">${err}</div>`;\n",
       "      throw err;\n",
       "    }\n",
       "\n",
       "    function displayChart(vegaEmbed) {\n",
       "      vegaEmbed(outputDiv, spec, embedOpt)\n",
       "        .catch(err => showError(`Javascript Error: ${err.message}<br>This usually means there's a typo in your chart specification. See the javascript console for the full traceback.`));\n",
       "    }\n",
       "\n",
       "    if(typeof define === \"function\" && define.amd) {\n",
       "      requirejs.config({paths});\n",
       "      require([\"vega-embed\"], displayChart, err => showError(`Error loading script: ${err.message}`));\n",
       "    } else if (typeof vegaEmbed === \"function\") {\n",
       "      displayChart(vegaEmbed);\n",
       "    } else {\n",
       "      loadScript(\"vega\")\n",
       "        .then(() => loadScript(\"vega-lite\"))\n",
       "        .then(() => loadScript(\"vega-embed\"))\n",
       "        .catch(showError)\n",
       "        .then(() => displayChart(vegaEmbed));\n",
       "    }\n",
       "  })({\"config\": {\"view\": {\"continuousWidth\": 400, \"continuousHeight\": 300, \"strokeOpacity\": 0}, \"axis\": {\"labelFontSize\": 13}, \"legend\": {\"orient\": \"top\", \"symbolType\": \"square\"}}, \"layer\": [{\"mark\": \"line\", \"encoding\": {\"x\": {\"type\": \"temporal\", \"axis\": {\"format\": \"%b. %-d\", \"grid\": false, \"tickCount\": 3}, \"field\": \"datetime\", \"title\": \"\"}, \"y\": {\"type\": \"quantitative\", \"axis\": {\"domainOpacity\": 0, \"gridColor\": \"#dddddd\", \"gridWidth\": 0.6, \"offset\": 4, \"tickCount\": 6, \"tickSize\": 0}, \"field\": \"case_number\", \"scale\": {\"domain\": [100, 600]}, \"stack\": null, \"title\": \" \"}}}, {\"mark\": {\"type\": \"area\", \"opacity\": 0.2}, \"encoding\": {\"x\": {\"type\": \"temporal\", \"axis\": {\"format\": \"%b. %-d\", \"grid\": false, \"tickCount\": 3}, \"field\": \"datetime\", \"title\": \"\"}, \"y\": {\"type\": \"quantitative\", \"axis\": {\"domainOpacity\": 0, \"gridColor\": \"#dddddd\", \"gridWidth\": 0.6, \"offset\": 4, \"tickCount\": 6, \"tickSize\": 0}, \"field\": \"case_number\", \"scale\": {\"domain\": [100, 600]}, \"stack\": null, \"title\": \" \"}}}], \"data\": {\"name\": \"data-96ab8ae83fa2d38bfd97b48089819c38\"}, \"height\": 600, \"title\": \"Cumulative U.S. Capitol breach defendants, by day\", \"width\": 800, \"$schema\": \"https://vega.github.io/schema/vega-lite/v4.8.1.json\", \"datasets\": {\"data-96ab8ae83fa2d38bfd97b48089819c38\": [{\"datetime\": \"2021-02-04T22:22:04\", \"case_number\": 172}, {\"datetime\": \"2021-02-05T22:41:54\", \"case_number\": 173}, {\"datetime\": \"2021-02-06T21:06:40\", \"case_number\": 173}, {\"datetime\": \"2021-02-07T20:44:16\", \"case_number\": 173}, {\"datetime\": \"2021-02-08T21:36:51\", \"case_number\": 173}, {\"datetime\": \"2021-02-09T23:52:31\", \"case_number\": 180}, {\"datetime\": \"2021-02-10T22:53:50\", \"case_number\": 181}, {\"datetime\": \"2021-02-11T23:50:08\", \"case_number\": 188}, {\"datetime\": \"2021-02-12T23:02:03\", \"case_number\": 191}, {\"datetime\": \"2021-02-13T19:19:41\", \"case_number\": 191}, {\"datetime\": \"2021-02-14T23:51:32\", \"case_number\": 191}, {\"datetime\": \"2021-02-15T22:28:29\", \"case_number\": 191}, {\"datetime\": \"2021-02-16T22:32:54\", \"case_number\": 191}, {\"datetime\": \"2021-02-17T18:55:55\", \"case_number\": 191}, {\"datetime\": \"2021-02-18T23:50:00\", \"case_number\": 192}, {\"datetime\": \"2021-02-19T23:57:51\", \"case_number\": 199}, {\"datetime\": \"2021-02-20T23:36:31\", \"case_number\": 199}, {\"datetime\": \"2021-02-21T17:49:41\", \"case_number\": 199}, {\"datetime\": \"2021-02-22T23:21:38\", \"case_number\": 199}, {\"datetime\": \"2021-02-23T21:32:31\", \"case_number\": 200}, {\"datetime\": \"2021-02-24T23:52:20\", \"case_number\": 200}, {\"datetime\": \"2021-02-25T21:54:37\", \"case_number\": 200}, {\"datetime\": \"2021-02-26T21:54:35\", \"case_number\": 200}, {\"datetime\": \"2021-02-27T13:54:22\", \"case_number\": 200}, {\"datetime\": \"2021-02-28T05:24:02\", \"case_number\": 203}, {\"datetime\": \"2021-03-01T23:35:36\", \"case_number\": 249}, {\"datetime\": \"2021-03-02T22:43:41\", \"case_number\": 249}, {\"datetime\": \"2021-03-03T07:49:49\", \"case_number\": 249}, {\"datetime\": \"2021-03-04T21:09:41\", \"case_number\": 249}, {\"datetime\": \"2021-03-05T17:05:37\", \"case_number\": 249}, {\"datetime\": \"2021-03-07T03:33:13\", \"case_number\": 250}, {\"datetime\": \"2021-03-08T15:44:51\", \"case_number\": 250}, {\"datetime\": \"2021-03-09T21:39:00\", \"case_number\": 251}, {\"datetime\": \"2021-03-10T22:49:48\", \"case_number\": 252}, {\"datetime\": \"2021-03-11T21:51:38\", \"case_number\": 252}, {\"datetime\": \"2021-03-12T22:51:39\", \"case_number\": 252}, {\"datetime\": \"2021-03-13T23:18:33\", \"case_number\": 252}, {\"datetime\": \"2021-03-14T03:17:14\", \"case_number\": 252}, {\"datetime\": \"2021-03-15T17:19:03\", \"case_number\": 253}, {\"datetime\": \"2021-03-16T19:20:15\", \"case_number\": 255}, {\"datetime\": \"2021-03-17T19:01:50\", \"case_number\": 255}, {\"datetime\": \"2021-03-18T23:09:11\", \"case_number\": 255}, {\"datetime\": \"2021-03-19T22:49:47\", \"case_number\": 258}, {\"datetime\": \"2021-03-20T13:23:22\", \"case_number\": 259}, {\"datetime\": \"2021-03-21T13:54:42\", \"case_number\": 259}, {\"datetime\": \"2021-03-22T21:38:57\", \"case_number\": 289}, {\"datetime\": \"2021-03-23T05:54:38\", \"case_number\": 289}, {\"datetime\": \"2021-03-24T06:15:10\", \"case_number\": 307}, {\"datetime\": \"2021-03-25T23:07:01\", \"case_number\": 321}, {\"datetime\": \"2021-03-26T18:53:18\", \"case_number\": 325}, {\"datetime\": \"2021-03-27T09:32:24\", \"case_number\": 324}, {\"datetime\": \"2021-03-28T10:21:57\", \"case_number\": 324}, {\"datetime\": \"2021-03-29T16:07:32\", \"case_number\": 325}, {\"datetime\": \"2021-03-30T22:50:46\", \"case_number\": 330}, {\"datetime\": \"2021-03-31T22:24:08\", \"case_number\": 330}, {\"datetime\": \"2021-04-01T19:17:46\", \"case_number\": 331}, {\"datetime\": \"2021-04-02T23:36:33\", \"case_number\": 338}, {\"datetime\": \"2021-04-03T07:02:38\", \"case_number\": 338}, {\"datetime\": \"2021-04-04T15:27:32\", \"case_number\": 338}, {\"datetime\": \"2021-04-05T13:57:59\", \"case_number\": 338}, {\"datetime\": \"2021-04-06T00:27:29\", \"case_number\": 338}, {\"datetime\": \"2021-04-07T21:49:12\", \"case_number\": 341}, {\"datetime\": \"2021-04-08T21:09:00\", \"case_number\": 344}, {\"datetime\": \"2021-04-09T14:26:18\", \"case_number\": 346}, {\"datetime\": \"2021-04-14T17:40:59\", \"case_number\": 359}, {\"datetime\": \"2021-04-15T16:36:18\", \"case_number\": 360}, {\"datetime\": \"2021-04-16T12:33:27\", \"case_number\": 360}, {\"datetime\": \"2021-04-17T16:10:14\", \"case_number\": 361}, {\"datetime\": \"2021-04-18T15:29:13\", \"case_number\": 361}, {\"datetime\": \"2021-04-21T03:37:29\", \"case_number\": 363}, {\"datetime\": \"2021-04-23T14:16:33\", \"case_number\": 370}, {\"datetime\": \"2021-04-25T01:56:22\", \"case_number\": 379}, {\"datetime\": \"2021-04-26T14:21:02\", \"case_number\": 379}, {\"datetime\": \"2021-04-28T05:29:21\", \"case_number\": 382}, {\"datetime\": \"2021-04-29T13:34:48\", \"case_number\": 384}, {\"datetime\": \"2021-04-30T10:59:41\", \"case_number\": 386}, {\"datetime\": \"2021-05-04T22:10:02\", \"case_number\": 391}, {\"datetime\": \"2021-05-05T21:12:27\", \"case_number\": 394}, {\"datetime\": \"2021-05-06T23:35:52\", \"case_number\": 393}, {\"datetime\": \"2021-05-07T21:45:08\", \"case_number\": 395}, {\"datetime\": \"2021-05-08T19:52:52\", \"case_number\": 396}, {\"datetime\": \"2021-05-09T14:09:06\", \"case_number\": 396}, {\"datetime\": \"2021-05-10T16:05:47\", \"case_number\": 396}, {\"datetime\": \"2021-05-11T09:36:30\", \"case_number\": 398}, {\"datetime\": \"2021-05-13T12:41:11\", \"case_number\": 415}, {\"datetime\": \"2021-05-14T18:52:58\", \"case_number\": 418}, {\"datetime\": \"2021-05-16T06:04:31\", \"case_number\": 420}, {\"datetime\": \"2021-05-17T17:21:22\", \"case_number\": 420}, {\"datetime\": \"2021-05-19T18:09:13\", \"case_number\": 431}, {\"datetime\": \"2021-05-20T19:37:26\", \"case_number\": 431}, {\"datetime\": \"2021-05-21T20:08:33\", \"case_number\": 434}, {\"datetime\": \"2021-05-22T00:03:20\", \"case_number\": 434}, {\"datetime\": \"2021-05-27T18:53:08\", \"case_number\": 437}, {\"datetime\": \"2021-06-01T19:01:19\", \"case_number\": 439}, {\"datetime\": \"2021-06-03T23:32:33\", \"case_number\": 446}, {\"datetime\": \"2021-06-05T04:42:30\", \"case_number\": 451}, {\"datetime\": \"2021-06-08T22:06:05\", \"case_number\": 452}, {\"datetime\": \"2021-06-10T18:19:15\", \"case_number\": 455}, {\"datetime\": \"2021-06-11T23:50:29\", \"case_number\": 460}, {\"datetime\": \"2021-06-12T00:51:19\", \"case_number\": 460}, {\"datetime\": \"2021-06-13T12:52:21\", \"case_number\": 460}, {\"datetime\": \"2021-06-14T23:20:09\", \"case_number\": 460}, {\"datetime\": \"2021-06-15T07:37:43\", \"case_number\": 460}, {\"datetime\": \"2021-06-16T23:13:06\", \"case_number\": 464}, {\"datetime\": \"2021-06-17T13:30:57\", \"case_number\": 464}, {\"datetime\": \"2021-06-18T18:25:31\", \"case_number\": 464}, {\"datetime\": \"2021-06-19T16:50:34\", \"case_number\": 464}, {\"datetime\": \"2021-06-20T18:25:33\", \"case_number\": 464}, {\"datetime\": \"2021-06-21T22:03:36\", \"case_number\": 467}, {\"datetime\": \"2021-06-22T21:42:05\", \"case_number\": 468}, {\"datetime\": \"2021-06-23T22:52:56\", \"case_number\": 468}, {\"datetime\": \"2021-06-24T01:41:24\", \"case_number\": 468}, {\"datetime\": \"2021-06-25T20:38:38\", \"case_number\": 475}, {\"datetime\": \"2021-06-26T19:30:45\", \"case_number\": 475}, {\"datetime\": \"2021-06-27T20:32:46\", \"case_number\": 475}, {\"datetime\": \"2021-06-28T21:21:19\", \"case_number\": 475}, {\"datetime\": \"2021-06-29T17:40:00\", \"case_number\": 476}, {\"datetime\": \"2021-06-30T11:27:46\", \"case_number\": 478}, {\"datetime\": \"2021-07-01T10:34:04\", \"case_number\": 483}, {\"datetime\": \"2021-07-03T17:37:02\", \"case_number\": 489}, {\"datetime\": \"2021-07-05T11:52:26\", \"case_number\": 489}, {\"datetime\": \"2021-07-06T12:52:08\", \"case_number\": 489}, {\"datetime\": \"2021-07-07T23:36:16\", \"case_number\": 493}, {\"datetime\": \"2021-07-09T04:45:44\", \"case_number\": 496}, {\"datetime\": \"2021-07-10T05:14:09\", \"case_number\": 498}, {\"datetime\": \"2021-07-11T05:36:24\", \"case_number\": 498}, {\"datetime\": \"2021-07-12T18:14:52\", \"case_number\": 498}, {\"datetime\": \"2021-07-13T07:34:15\", \"case_number\": 498}, {\"datetime\": \"2021-07-14T23:30:55\", \"case_number\": 499}, {\"datetime\": \"2021-07-15T10:12:20\", \"case_number\": 499}, {\"datetime\": \"2021-07-16T09:37:36\", \"case_number\": 513}, {\"datetime\": \"2021-07-18T07:56:43\", \"case_number\": 514}, {\"datetime\": \"2021-07-19T23:43:08\", \"case_number\": 515}, {\"datetime\": \"2021-07-21T15:59:52\", \"case_number\": 516}, {\"datetime\": \"2021-07-24T22:21:35\", \"case_number\": 523}, {\"datetime\": \"2021-07-25T12:36:48\", \"case_number\": 523}, {\"datetime\": \"2021-07-26T20:11:38\", \"case_number\": 523}, {\"datetime\": \"2021-07-27T20:38:12\", \"case_number\": 524}, {\"datetime\": \"2021-07-28T22:27:49\", \"case_number\": 530}, {\"datetime\": \"2021-07-29T12:06:05\", \"case_number\": 530}, {\"datetime\": \"2021-07-30T20:21:00\", \"case_number\": 532}, {\"datetime\": \"2021-07-31T15:07:13\", \"case_number\": 532}, {\"datetime\": \"2021-08-02T23:38:03\", \"case_number\": 532}, {\"datetime\": \"2021-08-04T22:38:38\", \"case_number\": 532}, {\"datetime\": \"2021-08-05T18:19:18\", \"case_number\": 535}, {\"datetime\": \"2021-08-06T01:22:27\", \"case_number\": 535}, {\"datetime\": \"2021-08-07T13:07:23\", \"case_number\": 536}, {\"datetime\": \"2021-08-08T23:12:27\", \"case_number\": 536}, {\"datetime\": \"2021-08-09T10:51:50\", \"case_number\": 536}, {\"datetime\": \"2021-08-10T21:54:01\", \"case_number\": 542}, {\"datetime\": \"2021-08-11T22:42:28\", \"case_number\": 543}, {\"datetime\": \"2021-08-14T02:41:33\", \"case_number\": 545}, {\"datetime\": \"2021-08-15T12:35:27\", \"case_number\": 545}, {\"datetime\": \"2021-08-17T18:35:43\", \"case_number\": 545}, {\"datetime\": \"2021-08-19T21:51:54\", \"case_number\": 547}, {\"datetime\": \"2021-08-20T16:20:10\", \"case_number\": 547}, {\"datetime\": \"2021-08-23T22:18:49\", \"case_number\": 547}, {\"datetime\": \"2021-08-24T02:19:37\", \"case_number\": 547}, {\"datetime\": \"2021-08-26T22:31:34\", \"case_number\": 548}, {\"datetime\": \"2021-08-27T17:52:51\", \"case_number\": 550}, {\"datetime\": \"2021-08-29T01:22:24\", \"case_number\": 552}, {\"datetime\": \"2021-08-30T01:53:09\", \"case_number\": 552}, {\"datetime\": \"2021-08-31T18:21:56\", \"case_number\": 562}, {\"datetime\": \"2021-09-01T19:01:44\", \"case_number\": 562}, {\"datetime\": \"2021-09-02T20:55:31\", \"case_number\": 563}, {\"datetime\": \"2021-09-03T21:41:33\", \"case_number\": 565}, {\"datetime\": \"2021-09-04T12:35:15\", \"case_number\": 565}, {\"datetime\": \"2021-09-06T01:06:56\", \"case_number\": 565}, {\"datetime\": \"2021-09-07T23:48:27\", \"case_number\": 565}, {\"datetime\": \"2021-09-08T18:19:07\", \"case_number\": 567}, {\"datetime\": \"2021-09-10T07:00:55\", \"case_number\": 568}, {\"datetime\": \"2021-09-11T07:21:41\", \"case_number\": 568}, {\"datetime\": \"2021-09-12T20:46:26\", \"case_number\": 568}, {\"datetime\": \"2021-09-13T21:00:27\", \"case_number\": 568}, {\"datetime\": \"2021-09-14T09:15:26\", \"case_number\": 568}, {\"datetime\": \"2021-09-15T05:09:09\", \"case_number\": 570}, {\"datetime\": \"2021-09-16T08:39:51\", \"case_number\": 570}, {\"datetime\": \"2021-09-17T21:50:39\", \"case_number\": 578}, {\"datetime\": \"2021-09-18T16:48:05\", \"case_number\": 578}, {\"datetime\": \"2021-09-21T11:43:41\", \"case_number\": 578}, {\"datetime\": \"2021-09-22T21:31:02\", \"case_number\": 582}, {\"datetime\": \"2021-09-24T22:54:25\", \"case_number\": 583}, {\"datetime\": \"2021-09-25T03:54:09\", \"case_number\": 583}, {\"datetime\": \"2021-09-26T13:09:44\", \"case_number\": 583}, {\"datetime\": \"2021-09-28T19:30:42\", \"case_number\": 584}, {\"datetime\": \"2021-09-29T20:54:22\", \"case_number\": 586}, {\"datetime\": \"2021-09-30T10:38:57\", \"case_number\": 586}, {\"datetime\": \"2021-10-01T23:05:08\", \"case_number\": 588}, {\"datetime\": \"2021-10-02T18:52:20\", \"case_number\": 588}, {\"datetime\": \"2021-10-03T09:18:34\", \"case_number\": 588}, {\"datetime\": \"2021-10-04T20:06:09\", \"case_number\": 588}, {\"datetime\": \"2021-10-05T14:04:00\", \"case_number\": 588}, {\"datetime\": \"2021-10-06T20:52:36\", \"case_number\": 593}, {\"datetime\": \"2021-10-07T18:36:34\", \"case_number\": 594}, {\"datetime\": \"2021-10-09T15:50:48\", \"case_number\": 595}, {\"datetime\": \"2021-10-11T17:08:35\", \"case_number\": 595}, {\"datetime\": \"2021-10-19T11:05:10\", \"case_number\": 598}, {\"datetime\": \"2021-10-20T00:09:50\", \"case_number\": 598}, {\"datetime\": \"2021-10-26T18:13:29\", \"case_number\": 599}, {\"datetime\": \"2021-10-28T14:09:23\", \"case_number\": 599}, {\"datetime\": \"2021-10-29T17:24:51\", \"case_number\": 599}, {\"datetime\": \"2021-11-02T11:54:34\", \"case_number\": 600}, {\"datetime\": \"2021-11-03T22:21:57\", \"case_number\": 601}, {\"datetime\": \"2021-11-04T22:50:01\", \"case_number\": 601}, {\"datetime\": \"2021-11-05T23:52:33\", \"case_number\": 601}, {\"datetime\": \"2021-11-08T22:56:11\", \"case_number\": 602}, {\"datetime\": \"2021-11-09T21:55:49\", \"case_number\": 602}, {\"datetime\": \"2021-11-10T19:35:49\", \"case_number\": 602}, {\"datetime\": \"2021-11-11T01:32:51\", \"case_number\": 602}, {\"datetime\": \"2021-11-12T23:51:06\", \"case_number\": 602}, {\"datetime\": \"2021-11-13T00:52:21\", \"case_number\": 602}, {\"datetime\": \"2021-11-17T23:38:27\", \"case_number\": 603}, {\"datetime\": \"2021-11-18T18:06:46\", \"case_number\": 603}, {\"datetime\": \"2021-11-19T14:53:27\", \"case_number\": 603}, {\"datetime\": \"2021-11-20T21:41:11\", \"case_number\": 603}, {\"datetime\": \"2021-11-22T18:50:32\", \"case_number\": 603}, {\"datetime\": \"2021-11-23T23:53:18\", \"case_number\": 603}, {\"datetime\": \"2021-11-30T22:21:02\", \"case_number\": 604}, {\"datetime\": \"2021-12-01T04:50:03\", \"case_number\": 604}, {\"datetime\": \"2021-12-02T12:21:35\", \"case_number\": 604}, {\"datetime\": \"2021-12-06T11:36:22\", \"case_number\": 604}]}}, {\"mode\": \"vega-lite\"});\n",
       "</script>"
      ],
      "text/plain": [
       "alt.LayerChart(...)"
      ]
     },
     "execution_count": 26,
     "metadata": {},
     "output_type": "execute_result"
    }
   ],
   "source": [
    "area_chart = (\n",
    "    alt.Chart(cases_by_day)\n",
    "    .mark_area(opacity=0.2)\n",
    "    .encode(\n",
    "        x=alt.X(\n",
    "            \"datetime\",\n",
    "            title=\"\",\n",
    "            axis=alt.Axis(format=\"%b. %-d\", tickCount=3, grid=False),\n",
    "        ),\n",
    "        y=alt.Y(\n",
    "            \"case_number\",\n",
    "            title=\" \",\n",
    "            stack=None,\n",
    "            axis=alt.Axis(\n",
    "                tickSize=0,\n",
    "                domainOpacity=0,\n",
    "                tickCount=6,\n",
    "                offset=4,\n",
    "                gridWidth=0.6,\n",
    "                gridColor=\"#dddddd\",\n",
    "            ),\n",
    "            scale=alt.Scale(domain=(100, 600)),\n",
    "        ),\n",
    "    )\n",
    ")\n",
    "\n",
    "line_chart = (\n",
    "    alt.Chart(cases_by_day)\n",
    "    .mark_line()\n",
    "    .encode(\n",
    "        x=alt.X(\n",
    "            \"datetime\",\n",
    "            title=\"\",\n",
    "            axis=alt.Axis(format=\"%b. %-d\", tickCount=3, grid=False),\n",
    "        ),\n",
    "        y=alt.Y(\n",
    "            \"case_number\",\n",
    "            title=\" \",\n",
    "            stack=None,\n",
    "            axis=alt.Axis(\n",
    "                tickSize=0,\n",
    "                domainOpacity=0,\n",
    "                tickCount=6,\n",
    "                offset=4,\n",
    "                gridWidth=0.6,\n",
    "                gridColor=\"#dddddd\",\n",
    "            ),\n",
    "            scale=alt.Scale(domain=(100, 600)),\n",
    "        ),\n",
    "    )\n",
    ")\n",
    "\n",
    "\n",
    "chart_defendants_area = (\n",
    "    (line_chart + area_chart)\n",
    "    .properties(\n",
    "        width=800,\n",
    "        height=600,\n",
    "        title=\"Cumulative U.S. Capitol breach defendants, by day\",\n",
    "    )\n",
    "    .configure_view(strokeOpacity=0)\n",
    "    .configure_legend(orient=\"top\", symbolType=\"square\")\n",
    "    .configure_axis(labelFontSize=13)\n",
    ")\n",
    "\n",
    "chart_defendants_area"
   ]
  },
  {
   "cell_type": "code",
   "execution_count": 1,
   "id": "40f80c12",
   "metadata": {},
   "outputs": [],
   "source": [
    "# chart_defendants_area.save(\"capitol_defendants_timeseries.png\", scale_factor=1)"
   ]
  },
  {
   "cell_type": "markdown",
   "id": "419e3878",
   "metadata": {},
   "source": [
    "---"
   ]
  },
  {
   "cell_type": "code",
   "execution_count": 2,
   "id": "70bd8f4c",
   "metadata": {},
   "outputs": [
    {
     "ename": "NameError",
     "evalue": "name 'df' is not defined",
     "output_type": "error",
     "traceback": [
      "\u001b[0;31m---------------------------------------------------------------------------\u001b[0m",
      "\u001b[0;31mNameError\u001b[0m                                 Traceback (most recent call last)",
      "\u001b[0;32m<ipython-input-2-c42a15b2c7cf>\u001b[0m in \u001b[0;36m<module>\u001b[0;34m\u001b[0m\n\u001b[0;32m----> 1\u001b[0;31m \u001b[0mdf\u001b[0m\u001b[0;34m.\u001b[0m\u001b[0mhead\u001b[0m\u001b[0;34m(\u001b[0m\u001b[0;34m)\u001b[0m\u001b[0;34m\u001b[0m\u001b[0;34m\u001b[0m\u001b[0m\n\u001b[0m",
      "\u001b[0;31mNameError\u001b[0m: name 'df' is not defined"
     ]
    }
   ],
   "source": [
    "df.head()"
   ]
  },
  {
   "cell_type": "code",
   "execution_count": null,
   "id": "0c4d6058",
   "metadata": {},
   "outputs": [],
   "source": [
    "df.shape"
   ]
  },
  {
   "cell_type": "markdown",
   "id": "7e7ab3ec",
   "metadata": {},
   "source": [
    "---"
   ]
  },
  {
   "cell_type": "markdown",
   "id": "1722b6fd",
   "metadata": {},
   "source": [
    "### Parse and categorize each defendant's list of charges"
   ]
  },
  {
   "cell_type": "code",
   "execution_count": null,
   "id": "4465b655",
   "metadata": {},
   "outputs": [],
   "source": [
    "df[\"charges_list\"] = df[\"charges\"].str.upper().str.split(\";\")"
   ]
  },
  {
   "cell_type": "markdown",
   "id": "0d090458",
   "metadata": {},
   "source": [
    "### Create a flat table from the one-to-many relationship between defendants and charges"
   ]
  },
  {
   "cell_type": "code",
   "execution_count": null,
   "id": "ad3c1bb1",
   "metadata": {},
   "outputs": [],
   "source": [
    "df_long = df.explode(\"charges_list\")"
   ]
  },
  {
   "cell_type": "code",
   "execution_count": null,
   "id": "8da4eb42",
   "metadata": {},
   "outputs": [],
   "source": [
    "charges_by_day = df_long.groupby([\"date\"]).agg({\"charges_list\": \"count\"}).reset_index()"
   ]
  },
  {
   "cell_type": "markdown",
   "id": "11eca3e7",
   "metadata": {},
   "source": [
    "### Charge strings and categories"
   ]
  },
  {
   "cell_type": "code",
   "execution_count": null,
   "id": "612bcdda",
   "metadata": {},
   "outputs": [],
   "source": [
    "data_list = {\n",
    "    \"charge\": [\n",
    "        \"INTERSTATE\",\n",
    "        \"VIOLENCE\",\n",
    "        \"PARADING, DEMONSTRATING, OR PICKETING\",\n",
    "        \"PARADE, DEMONSTRATE, OR PICKET\",\n",
    "        \"ENTERING\",\n",
    "        \"DISORDERLY CONDUCT\",\n",
    "        \"DISORDERLY AND DISRUPTIVE CONDUCT\",\n",
    "        \"OBSTRUCTION OF AN OFFICIAL\",\n",
    "        \"CIVIL DISORDER\",\n",
    "        \"OBSTRUCTION OF AN OFFICIAL\",\n",
    "        \"KNOWINGLY ENTERING OR REMAINING\",\n",
    "        \"VIOLENT ENTRY\",\n",
    "        \"DISORDERLY AND DISRUPTIVE CONDUCT\",\n",
    "        \"REMAINING IN A RESTRICTED BUILDING\",\n",
    "        \"VIOLENT ENTRY\",\n",
    "        \"AIDING AND ABETTING\",\n",
    "        \"PHYSICAL VIOLENCE\",\n",
    "        \"CONSPIRACY\",\n",
    "        \"ASSAULTING, RESISTING, OR IMPEDING\",\n",
    "        \"RESTRICTED BUILDING OR GROUNDS\",\n",
    "        \"ENTERING AND REMAINING IN A RESTRICTED BUILDING OR GROUNDS WITH A DEADLY OR DANGEROUS WEAPON\",\n",
    "        \"ASSAULTING, RESISTING, OR IMPEDING CERTAIN OFFICERS USING A DANGEROUS WEAPON\",\n",
    "        \"IMPEDING PASSAGE THROUGH THE CAPITOL GROUNDS OR BUILDINGS\",\n",
    "        \"TAMPERING\",\n",
    "        \"THEFT\",\n",
    "        \"OBSTRUCTION\",\n",
    "        \"DESTRUCTION\",\n",
    "        \"DEMONSTRATING\",\n",
    "        \"DISRUPTIVE CONDUCT\",\n",
    "        \"PROPERTY\",\n",
    "        \"ASSAULTING\",\n",
    "        \"UNLAWFUL ENTRY\",\n",
    "        \"IMPEDING\",\n",
    "        \"PISTOL\",\n",
    "        \"FIREARM\",\n",
    "        \"OBSTRUCTING\",\n",
    "        \"UNLAWFUL ACTIVITIES ON CAPITOL GROUNDS\",\n",
    "        \"INTERFERED WITH A FEDERAL AGENT\",\n",
    "        \"UNLAWFUL POSSESSION\",\n",
    "        \"BODILY INJURY\",\n",
    "        \"THREATENING A FEDERAL OFFICER\",\n",
    "        \"ASSAULT\",\n",
    "        \"PARADING\",\n",
    "        \"DISORDERLLY CONDUCT\",\n",
    "        \"DI$ORDERLY CONDUCT\",\n",
    "        \"OBSTRUCT, IMPEDE, OR INTERFERE\",\n",
    "        \"DISRUPTING THE ORDERLY CONDUCT\",\n",
    "        \"AMMUNITION\",\n",
    "        \"DI$ORDERLY\",\n",
    "        \"DISORDELRY CONDUCT\",\n",
    "        \"OFFICIAL PROCEEDING\",\n",
    "        \"AIDING AND AIDING\",\n",
    "    ],\n",
    "    \"category\": [\n",
    "        \"Other\",\n",
    "        \"Violent entry\",\n",
    "        \"Demonstrating in the Capitol\",\n",
    "        \"Demonstrating in the Capitol\",\n",
    "        \"Entering restricted area\",\n",
    "        \"Disruptive/disorderly\",\n",
    "        \"Disruptive/disorderly\",\n",
    "        \"Obstructing a proceeding\",\n",
    "        \"Disruptive/disorderly\",\n",
    "        \"Obstructing a proceeding\",\n",
    "        \"Entering restricted area\",\n",
    "        \"Violent entry\",\n",
    "        \"Disruptive/disorderly\",\n",
    "        \"Entering restricted area\",\n",
    "        \"Violent entry\",\n",
    "        \"Aiding and abetting\",\n",
    "        \"Physical violence\",\n",
    "        \"Conspiracy\",\n",
    "        \"Assaulting/resisting/impeding\",\n",
    "        \"Entering restricted area\",\n",
    "        \"Weapons charge\",\n",
    "        \"Assault/resist/impede officer\",\n",
    "        \"Impeding passage in the Capitol\",\n",
    "        \"Tampering\",\n",
    "        \"Theft\",\n",
    "        \"Obstructing a proceeding\",\n",
    "        \"Destroying property\",\n",
    "        \"Demonstrating in the Capitol\",\n",
    "        \"Disruptive/disorderly\",\n",
    "        \"Property damage\",\n",
    "        \"Assault/resist/impede officer\",\n",
    "        \"Entering restricted area\",\n",
    "        \"Assault/resist/impede officer\",\n",
    "        \"Weapons charge\",\n",
    "        \"Weapons charge\",\n",
    "        \"Obstructing a proceeding\",\n",
    "        \"Unlawful activities\",\n",
    "        \"Assault/resist/impede officer\",\n",
    "        \"Weapons charge\",\n",
    "        \"Assault/resist/impede officer\",\n",
    "        \"Assault/resist/impede officer\",\n",
    "        \"Assault/resist/impede officer\",\n",
    "        \"Demonstrating in the Capitol\",\n",
    "        \"Disruptive/disorderly\",\n",
    "        \"Disruptive/disorderly\",\n",
    "        \"Assault/resist/impede officer\",\n",
    "        \"Disruptive/disorderly\",\n",
    "        \"Weapons charge\",\n",
    "        \"Disruptive/disorderly\",\n",
    "        \"Disruptive/disorderly\",\n",
    "        \"Obstructing a proceeding\",\n",
    "        \"Aiding and abetting\",\n",
    "    ],\n",
    "}"
   ]
  },
  {
   "cell_type": "markdown",
   "id": "d33e549a",
   "metadata": {},
   "source": [
    "### Loop and assign categories"
   ]
  },
  {
   "cell_type": "code",
   "execution_count": null,
   "id": "53f9d172",
   "metadata": {},
   "outputs": [],
   "source": [
    "for charge, category in zip(data_list[\"charge\"], data_list[\"category\"]):\n",
    "    df_long.loc[\n",
    "        df_long[\"charges_list\"].fillna(\"\").str.contains(f\"{charge}\", case=False),\n",
    "        \"category\",\n",
    "    ] = f\"{category}\""
   ]
  },
  {
   "cell_type": "code",
   "execution_count": null,
   "id": "e0ba3493",
   "metadata": {},
   "outputs": [],
   "source": [
    "df_long.sort_values(\"datetime\", ascending=False).head()"
   ]
  },
  {
   "cell_type": "markdown",
   "id": "a5b6b237",
   "metadata": {},
   "source": [
    "--- "
   ]
  },
  {
   "cell_type": "markdown",
   "id": "c021b724",
   "metadata": {},
   "source": [
    "### Chart the number of charges over time"
   ]
  },
  {
   "cell_type": "code",
   "execution_count": null,
   "id": "f88af948",
   "metadata": {},
   "outputs": [],
   "source": [
    "charges_by_day.date = pd.to_datetime(charges_by_day.date)"
   ]
  },
  {
   "cell_type": "code",
   "execution_count": null,
   "id": "3203c733",
   "metadata": {},
   "outputs": [],
   "source": [
    "charges_by_day.dtypes"
   ]
  },
  {
   "cell_type": "code",
   "execution_count": null,
   "id": "a4b343b1",
   "metadata": {},
   "outputs": [],
   "source": [
    "area_chart = (\n",
    "    alt.Chart(charges_by_day)\n",
    "    .mark_area(opacity=0.2)\n",
    "    .encode(\n",
    "        x=alt.X(\n",
    "            \"date:T\",\n",
    "            title=\"\",\n",
    "            axis=alt.Axis(format=\"%b. %-d\", tickCount=6, grid=False),\n",
    "        ),\n",
    "        y=alt.Y(\n",
    "            \"charges_list:Q\",\n",
    "            title=\" \",\n",
    "            stack=None,\n",
    "            axis=alt.Axis(\n",
    "                tickSize=0,\n",
    "                domainOpacity=0,\n",
    "                tickCount=6,\n",
    "                offset=4,\n",
    "                gridWidth=0.6,\n",
    "                gridColor=\"#dddddd\",\n",
    "            ),\n",
    "            scale=alt.Scale(domain=(100, 1800)),\n",
    "        ),\n",
    "    )\n",
    ")\n",
    "\n",
    "line_chart = (\n",
    "    alt.Chart(charges_by_day)\n",
    "    .mark_line()\n",
    "    .encode(\n",
    "        x=alt.X(\n",
    "            \"date:T\",\n",
    "            title=\"\",\n",
    "            axis=alt.Axis(format=\"%b. %-d\", tickCount=6, grid=False),\n",
    "        ),\n",
    "        y=alt.Y(\n",
    "            \"charges_list:Q\",\n",
    "            title=\" \",\n",
    "            stack=None,\n",
    "            axis=alt.Axis(\n",
    "                tickSize=0,\n",
    "                domainOpacity=0,\n",
    "                tickCount=6,\n",
    "                offset=4,\n",
    "                gridWidth=0.6,\n",
    "                gridColor=\"#dddddd\",\n",
    "            ),\n",
    "            scale=alt.Scale(domain=(100, 1800)),\n",
    "        ),\n",
    "    )\n",
    ")\n",
    "\n",
    "\n",
    "chart_charges_area = (\n",
    "    (line_chart + area_chart)\n",
    "    .properties(\n",
    "        width=800,\n",
    "        height=600,\n",
    "        title=\"Cumulative U.S. Capitol breach charges, by day\",\n",
    "    )\n",
    "    .configure_view(strokeOpacity=0)\n",
    "    .configure_legend(orient=\"top\", symbolType=\"square\")\n",
    "    .configure_axis(labelFontSize=13)\n",
    ")\n",
    "\n",
    "chart_charges_area"
   ]
  },
  {
   "cell_type": "code",
   "execution_count": null,
   "id": "c7e800d5",
   "metadata": {},
   "outputs": [],
   "source": [
    "chart_charges_area.save(\"capitol_charges_timeseries.png\", scale_factor=1)"
   ]
  },
  {
   "cell_type": "markdown",
   "id": "daefded9",
   "metadata": {},
   "source": [
    "### Group charge categories by day"
   ]
  },
  {
   "cell_type": "code",
   "execution_count": null,
   "id": "13cecb37",
   "metadata": {},
   "outputs": [],
   "source": [
    "categories_by_day = (\n",
    "    df_long.groupby([\"date\", \"category\"]).agg({\"name\": \"count\"}).reset_index()\n",
    ")"
   ]
  },
  {
   "cell_type": "code",
   "execution_count": null,
   "id": "35646eef",
   "metadata": {},
   "outputs": [],
   "source": [
    "categories = (\n",
    "    df_long[df_long[\"date\"] == df_long[\"date\"].max()]\n",
    "    .groupby([\"category\"])\n",
    "    .agg({\"name\": \"count\"})\n",
    "    .reset_index()\n",
    ").sort_values(\"name\", ascending=False)"
   ]
  },
  {
   "cell_type": "markdown",
   "id": "32edc025",
   "metadata": {},
   "source": [
    "### Bar chart of most-recent count of charges by category"
   ]
  },
  {
   "cell_type": "code",
   "execution_count": null,
   "id": "7c260759",
   "metadata": {},
   "outputs": [],
   "source": [
    "bar_categories = (\n",
    "    alt.Chart(categories)\n",
    "    .mark_bar()\n",
    "    .encode(\n",
    "        x=alt.X(\n",
    "            \"name\",\n",
    "            title=\"Number of charges\",\n",
    "            axis=alt.Axis(\n",
    "                domainOpacity=0,\n",
    "                tickSize=0,\n",
    "                tickCount=6,\n",
    "                offset=4,\n",
    "                gridWidth=0.6,\n",
    "                gridColor=\"#dddddd\",\n",
    "            ),\n",
    "        ),\n",
    "        y=alt.Y(\n",
    "            \"category\",\n",
    "            title=\" \",\n",
    "            sort=\"-x\",\n",
    "            axis=alt.Axis(\n",
    "                tickSize=0,\n",
    "                domainOpacity=0,\n",
    "                tickCount=6,\n",
    "                offset=4,\n",
    "                gridWidth=0.6,\n",
    "                gridColor=\"#dddddd\",\n",
    "                grid=False,\n",
    "            ),\n",
    "        ),\n",
    "    )\n",
    ")\n",
    "\n",
    "text = bar_categories.mark_text(\n",
    "    align=\"left\", baseline=\"middle\", dx=4, fontSize=13\n",
    ").encode(text=\"name:Q\")\n",
    "\n",
    "\n",
    "chart_charges_bar = (\n",
    "    (bar_categories + text)\n",
    "    .properties(\n",
    "        width=800,\n",
    "        height=450,\n",
    "        title=\"U.S. Capitol charges, by category\",\n",
    "    )\n",
    "    .configure_view(strokeOpacity=0)\n",
    "    .configure_legend(orient=\"top\", symbolType=\"square\")\n",
    "    .configure_axis(labelFontSize=13)\n",
    ")\n",
    "\n",
    "chart_charges_bar"
   ]
  },
  {
   "cell_type": "code",
   "execution_count": null,
   "id": "276a342c",
   "metadata": {},
   "outputs": [],
   "source": [
    "chart_charges_bar.save(\"capitol_categories_chart.png\", scale_factor=1)"
   ]
  },
  {
   "cell_type": "markdown",
   "id": "5e27abe9",
   "metadata": {},
   "source": [
    "### Cumulative area chart with categories over time"
   ]
  },
  {
   "cell_type": "code",
   "execution_count": null,
   "id": "b5eaa4ea",
   "metadata": {},
   "outputs": [],
   "source": [
    "categories_by_day.date = pd.to_datetime(categories_by_day.date)"
   ]
  },
  {
   "cell_type": "code",
   "execution_count": null,
   "id": "be0ff0bb",
   "metadata": {},
   "outputs": [],
   "source": [
    "categories_chart = (\n",
    "    alt.Chart(categories_by_day)\n",
    "    .mark_area(opacity=0.6)\n",
    "    .encode(\n",
    "        x=alt.X(\n",
    "            \"date\",\n",
    "            title=\"\",\n",
    "            axis=alt.Axis(format=\"%b. %-d\", tickCount=10, grid=False),\n",
    "        ),\n",
    "        y=alt.Y(\n",
    "            \"name\",\n",
    "            title=\" \",\n",
    "            axis=alt.Axis(\n",
    "                tickSize=0,\n",
    "                domainOpacity=0,\n",
    "                tickCount=6,\n",
    "                offset=4,\n",
    "                gridWidth=0.6,\n",
    "                gridColor=\"#dddddd\",\n",
    "            ),\n",
    "            scale=alt.Scale(domain=(0, 1800)),\n",
    "        ),\n",
    "        color=alt.Color(\"category\", scale=alt.Scale(scheme=\"category20\")),\n",
    "    )\n",
    "    .properties(\n",
    "        width=800,\n",
    "        height=600,\n",
    "        title=\"Cumulative charge categories in U.S. Capitol breach, by day\",\n",
    "    )\n",
    "    .configure_view(strokeOpacity=0)\n",
    "    .configure_legend(orient=\"right\", symbolType=\"square\")\n",
    ").configure_axis(labelFontSize=13)\n",
    "\n",
    "categories_chart"
   ]
  },
  {
   "cell_type": "code",
   "execution_count": null,
   "id": "fa3607f6",
   "metadata": {},
   "outputs": [],
   "source": [
    "categories_chart.save(\"capitol_charges_by_category_timeseries.png\", scale_factor=1)"
   ]
  }
 ],
 "metadata": {
  "kernelspec": {
   "display_name": "Python 3",
   "language": "python",
   "name": "python3"
  },
  "language_info": {
   "codemirror_mode": {
    "name": "ipython",
    "version": 3
   },
   "file_extension": ".py",
   "mimetype": "text/x-python",
   "name": "python",
   "nbconvert_exporter": "python",
   "pygments_lexer": "ipython3",
   "version": "3.8.8"
  }
 },
 "nbformat": 4,
 "nbformat_minor": 5
}
