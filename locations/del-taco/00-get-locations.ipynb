{
 "cells": [
  {
   "cell_type": "markdown",
   "id": "b54f6308-fd9d-4fb6-8f35-544ddf602e31",
   "metadata": {},
   "source": [
    "# Del Taco locations"
   ]
  },
  {
   "cell_type": "code",
   "execution_count": 1,
   "id": "cccfd57e-ace5-4af0-9bbe-016a6cc5ac0f",
   "metadata": {},
   "outputs": [],
   "source": [
    "%load_ext lab_black"
   ]
  },
  {
   "cell_type": "code",
   "execution_count": 6,
   "id": "89b767d7-a630-4332-b82c-fa016e71206d",
   "metadata": {},
   "outputs": [],
   "source": [
    "import requests\n",
    "import pandas as pd\n",
    "import geopandas as gpd\n",
    "from vega_datasets import data\n",
    "import altair as alt\n",
    "import json"
   ]
  },
  {
   "cell_type": "code",
   "execution_count": 7,
   "id": "002b14ba-eb6b-4057-a450-68a741b27a32",
   "metadata": {},
   "outputs": [],
   "source": [
    "pd.options.display.max_columns = 1000\n",
    "pd.options.display.max_rows = 10000"
   ]
  },
  {
   "cell_type": "code",
   "execution_count": 8,
   "id": "88a40774-b87c-488f-853d-024557770408",
   "metadata": {},
   "outputs": [],
   "source": [
    "today = pd.to_datetime(\"today\").strftime(\"%Y-%m-%d\")"
   ]
  },
  {
   "cell_type": "code",
   "execution_count": 34,
   "id": "8bb4ac84-00a8-4e01-a0c6-e953e8ebcd0f",
   "metadata": {},
   "outputs": [],
   "source": [
    "import requests\n",
    "\n",
    "cookies = {\n",
    "    \"_gcl_au\": \"1.1.275602279.1661008262\",\n",
    "    \"__utma\": \"149372707.139592791.1661008262.1661008262.1661008262.1\",\n",
    "    \"__utmc\": \"149372707\",\n",
    "    \"__utmz\": \"149372707.1661008262.1.1.utmcsr=google|utmccn=(organic)|utmcmd=organic|utmctr=(not%20provided)\",\n",
    "    \"__utmb\": \"149372707.1.10.1661008262\",\n",
    "    \"_gid\": \"GA1.2.1611911412.1661008270\",\n",
    "    \"__utma\": \"68576012.536561875.1661008262.1661008271.1661008271.1\",\n",
    "    \"__utmc\": \"68576012\",\n",
    "    \"__utmz\": \"68576012.1661008271.1.1.utmcsr=deltaco.com|utmccn=(referral)|utmcmd=referral|utmcct=/\",\n",
    "    \"_ga\": \"GA1.1.536561875.1661008262\",\n",
    "    \"mdLogger\": \"false\",\n",
    "    \"kampyle_userid\": \"dcdb-a314-e6c5-5afb-6840-42e0-5ab5-55cb\",\n",
    "    \"__cf_bm\": \"6nlc.omdID8M7AoiHEptMugvB8sAn2DaCI9kXDlbsYw-1661009243-0-AR/AowygqqiVS/pBTOqUOhaPIBjj3y4vrAm4kr1D/HQD2ZaATts+/sUO2LBklc0wUfnroX78SWO7hK2Ts4rBxyQ=\",\n",
    "    \"__utmt_UA-750978-2\": \"1\",\n",
    "    \"kampyleUserSession\": \"1661009368850\",\n",
    "    \"kampyleUserSessionsCount\": \"10\",\n",
    "    \"_ga_2PSQ9Q3489\": \"GS1.1.1661008261.1.1.1661009398.0.0.0\",\n",
    "    \"__utmb\": \"68576012.21.10.1661008271\",\n",
    "    \"kampyleSessionPageCounter\": \"3\",\n",
    "}\n",
    "\n",
    "headers = {\n",
    "    \"authority\": \"locations.deltaco.com\",\n",
    "    \"accept\": \"application/json\",\n",
    "    \"accept-language\": \"en-US,en;q=0.9,es;q=0.8\",\n",
    "    # Requests sorts cookies= alphabetically\n",
    "    # 'cookie': '_gcl_au=1.1.275602279.1661008262; __utma=149372707.139592791.1661008262.1661008262.1661008262.1; __utmc=149372707; __utmz=149372707.1661008262.1.1.utmcsr=google|utmccn=(organic)|utmcmd=organic|utmctr=(not%20provided); __utmb=149372707.1.10.1661008262; _gid=GA1.2.1611911412.1661008270; __utma=68576012.536561875.1661008262.1661008271.1661008271.1; __utmc=68576012; __utmz=68576012.1661008271.1.1.utmcsr=deltaco.com|utmccn=(referral)|utmcmd=referral|utmcct=/; _ga=GA1.1.536561875.1661008262; mdLogger=false; kampyle_userid=dcdb-a314-e6c5-5afb-6840-42e0-5ab5-55cb; __cf_bm=6nlc.omdID8M7AoiHEptMugvB8sAn2DaCI9kXDlbsYw-1661009243-0-AR/AowygqqiVS/pBTOqUOhaPIBjj3y4vrAm4kr1D/HQD2ZaATts+/sUO2LBklc0wUfnroX78SWO7hK2Ts4rBxyQ=; __utmt_UA-750978-2=1; kampyleUserSession=1661009368850; kampyleUserSessionsCount=10; _ga_2PSQ9Q3489=GS1.1.1661008261.1.1.1661009398.0.0.0; __utmb=68576012.21.10.1661008271; kampyleSessionPageCounter=3',\n",
    "    \"referer\": \"https://locations.deltaco.com/search\",\n",
    "    \"sec-ch-ua\": '\"Chromium\";v=\"104\", \" Not A;Brand\";v=\"99\", \"Google Chrome\";v=\"104\"',\n",
    "    \"sec-ch-ua-mobile\": \"?0\",\n",
    "    \"sec-ch-ua-platform\": '\"macOS\"',\n",
    "    \"sec-fetch-dest\": \"empty\",\n",
    "    \"sec-fetch-mode\": \"cors\",\n",
    "    \"sec-fetch-site\": \"same-origin\",\n",
    "    \"user-agent\": \"Mozilla/5.0 (Macintosh; Intel Mac OS X 10_15_7) AppleWebKit/537.36 (KHTML, like Gecko) Chrome/104.0.0.0 Safari/537.36\",\n",
    "}\n",
    "\n",
    "params = {\n",
    "    \"q\": \"90066\",\n",
    "    \"qp\": \"90066\",\n",
    "    \"l\": \"en\",\n",
    "}\n",
    "\n",
    "response = requests.get(\n",
    "    \"https://locations.deltaco.com/search\",\n",
    "    params=params,\n",
    "    cookies=cookies,\n",
    "    headers=headers,\n",
    ")"
   ]
  },
  {
   "cell_type": "code",
   "execution_count": 38,
   "id": "5807dde2-c6ea-4a42-b09a-f9fbf965444a",
   "metadata": {},
   "outputs": [
    {
     "data": {
      "text/plain": [
       "10"
      ]
     },
     "execution_count": 38,
     "metadata": {},
     "output_type": "execute_result"
    }
   ],
   "source": [
    "len(response.json()[\"response\"][\"entities\"])"
   ]
  },
  {
   "cell_type": "code",
   "execution_count": null,
   "id": "11822e1c-4fac-42c1-befb-ee74f1eb7fa0",
   "metadata": {},
   "outputs": [],
   "source": []
  },
  {
   "cell_type": "code",
   "execution_count": null,
   "id": "fbdf62b0-96d0-4ab0-a42e-a1935f2d4356",
   "metadata": {},
   "outputs": [],
   "source": []
  },
  {
   "cell_type": "code",
   "execution_count": 20,
   "id": "f1117674-430b-455f-b486-ad3ec294d810",
   "metadata": {},
   "outputs": [],
   "source": [
    "with open(\"data/raw/locations.json\") as f:\n",
    "    data = json.load(f)\n",
    "    src = pd.DataFrame(data[\"response\"][\"entities\"])"
   ]
  },
  {
   "cell_type": "code",
   "execution_count": 33,
   "id": "c2c86dd5-fe89-4d6e-bda4-de39ec5ec6e0",
   "metadata": {},
   "outputs": [
    {
     "name": "stdout",
     "output_type": "stream",
     "text": [
      "{'city': 'Culver City', 'countryCode': 'US', 'extraDescription': None, 'line1': '11446 Jefferson Blvd', 'line2': None, 'line3': None, 'postalCode': '90230', 'region': 'CA', 'sublocality': None}\n",
      "{'city': 'Los Angeles', 'countryCode': 'US', 'extraDescription': None, 'line1': '8651 So. La Tijera Ave.', 'line2': None, 'line3': None, 'postalCode': '90045', 'region': 'CA', 'sublocality': None}\n",
      "{'city': 'Culver City', 'countryCode': 'US', 'extraDescription': None, 'line1': '3705 Robertson Blvd', 'line2': None, 'line3': None, 'postalCode': '90232', 'region': 'CA', 'sublocality': None}\n",
      "{'city': 'Los Angeles', 'countryCode': 'US', 'extraDescription': None, 'line1': '2060 S. La Cienega Blvd.', 'line2': None, 'line3': None, 'postalCode': '90034', 'region': 'CA', 'sublocality': None}\n",
      "{'city': 'Baldwin Hills', 'countryCode': 'US', 'extraDescription': None, 'line1': '3540 South La Brea Ave.', 'line2': None, 'line3': None, 'postalCode': '90016', 'region': 'CA', 'sublocality': None}\n",
      "{'city': 'Santa Monica', 'countryCode': 'US', 'extraDescription': None, 'line1': '2425 Wilshire Blvd.', 'line2': None, 'line3': None, 'postalCode': '90403', 'region': 'CA', 'sublocality': None}\n",
      "{'city': 'Inglewood', 'countryCode': 'US', 'extraDescription': None, 'line1': '3510 W. Century Blvd', 'line2': None, 'line3': None, 'postalCode': '90303', 'region': 'CA', 'sublocality': None}\n",
      "{'city': 'Hawthorne', 'countryCode': 'US', 'extraDescription': None, 'line1': '14485 Inglewood Ave', 'line2': None, 'line3': None, 'postalCode': '90250', 'region': 'CA', 'sublocality': None}\n",
      "{'city': 'Los Angeles', 'countryCode': 'US', 'extraDescription': None, 'line1': '1816 W Imperial Hwy', 'line2': None, 'line3': None, 'postalCode': '90047', 'region': 'CA', 'sublocality': None}\n",
      "{'city': 'Gardena', 'countryCode': 'US', 'extraDescription': None, 'line1': '16216 Crenshaw Blvd', 'line2': None, 'line3': None, 'postalCode': '90249', 'region': 'CA', 'sublocality': None}\n"
     ]
    }
   ],
   "source": [
    "for x in data[\"response\"][\"entities\"]:\n",
    "    print(x[\"profile\"][\"address\"])"
   ]
  },
  {
   "cell_type": "code",
   "execution_count": null,
   "id": "cbf6c0cf-abc2-4a4e-aa11-f3f2e2e8803d",
   "metadata": {},
   "outputs": [],
   "source": []
  }
 ],
 "metadata": {
  "kernelspec": {
   "display_name": "Python 3 (ipykernel)",
   "language": "python",
   "name": "python3"
  },
  "language_info": {
   "codemirror_mode": {
    "name": "ipython",
    "version": 3
   },
   "file_extension": ".py",
   "mimetype": "text/x-python",
   "name": "python",
   "nbconvert_exporter": "python",
   "pygments_lexer": "ipython3",
   "version": "3.8.9"
  }
 },
 "nbformat": 4,
 "nbformat_minor": 5
}
