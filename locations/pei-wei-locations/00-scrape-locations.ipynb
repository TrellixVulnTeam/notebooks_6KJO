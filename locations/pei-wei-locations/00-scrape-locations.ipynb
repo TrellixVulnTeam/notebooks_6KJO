{
 "cells": [
  {
   "cell_type": "markdown",
   "id": "349c0089-9d37-4b1d-be15-6f02d4c55206",
   "metadata": {},
   "source": [
    "# Scraping PeiWei locations"
   ]
  },
  {
   "cell_type": "code",
   "execution_count": 78,
   "id": "63007eea-456e-4585-bc40-4c78cc38841b",
   "metadata": {},
   "outputs": [],
   "source": [
    "import requests\n",
    "from bs4 import BeautifulSoup\n",
    "import pandas as pd\n",
    "pd.options.display.max_columns = 100\n",
    "pd.options.display.max_rows = 1000\n",
    "pd.options.display.max_colwidth = None"
   ]
  },
  {
   "cell_type": "code",
   "execution_count": 79,
   "id": "bbf8fca0-fbbd-4146-89af-0ff2d05bbbcd",
   "metadata": {},
   "outputs": [],
   "source": [
    "url = \"locations.html\""
   ]
  },
  {
   "cell_type": "code",
   "execution_count": 80,
   "id": "5709fa4c-e806-4710-ab49-001d849b338e",
   "metadata": {},
   "outputs": [],
   "source": [
    "with open('locations.html', 'r') as f:\n",
    "\n",
    "    contents = f.read()\n",
    "\n",
    "    soup = BeautifulSoup(contents, 'lxml')"
   ]
  },
  {
   "cell_type": "code",
   "execution_count": 81,
   "id": "12c6203e-2f22-489f-b643-6a774f20c123",
   "metadata": {},
   "outputs": [],
   "source": [
    "data = soup.find_all(\"div\", class_='branch-single')"
   ]
  },
  {
   "cell_type": "code",
   "execution_count": null,
   "id": "07f6767c-a34d-4efa-ae04-a2237843d8d2",
   "metadata": {},
   "outputs": [],
   "source": []
  },
  {
   "cell_type": "code",
   "execution_count": null,
   "id": "087476f1-999e-4510-a5ae-cb90036a3a0c",
   "metadata": {},
   "outputs": [],
   "source": []
  },
  {
   "cell_type": "code",
   "execution_count": 82,
   "id": "e844d608-ddc4-4306-a8bb-57ef53616785",
   "metadata": {},
   "outputs": [],
   "source": [
    "location_list = []\n",
    "\n",
    "for d in data:\n",
    "    location_dict = {\n",
    "    'location': d.find('h6').text,\n",
    "    'address': d.find('div', class_='location-address').text,\n",
    "    'url': d.find('a')['href'] \n",
    "}\n",
    "    \n",
    "    location_list.append(location_dict)"
   ]
  },
  {
   "cell_type": "code",
   "execution_count": 83,
   "id": "6ce3900f-1402-4cd2-8da5-7adaa9b6cb13",
   "metadata": {},
   "outputs": [],
   "source": [
    "df = pd.DataFrame(location_list)"
   ]
  },
  {
   "cell_type": "code",
   "execution_count": 92,
   "id": "8539a969-f5fc-42de-ab83-fd205f42f390",
   "metadata": {},
   "outputs": [],
   "source": [
    "df['zip'] = df.address.str[-5:].str.replace(', USA', \"\").fillna('')"
   ]
  },
  {
   "cell_type": "code",
   "execution_count": 97,
   "id": "02391014-3e43-4486-a8ab-0f8aa60298a8",
   "metadata": {},
   "outputs": [
    {
     "data": {
      "text/plain": [
       "0      TX\n",
       "1      TX\n",
       "2      FL\n",
       "3      AZ\n",
       "4       T\n",
       "5      30\n",
       "6      FL\n",
       "7      AZ\n",
       "8      NC\n",
       "9      TX\n",
       "10     AZ\n",
       "11     OK\n",
       "12     FL\n",
       "13     FL\n",
       "14     TN\n",
       "15     NC\n",
       "16     TX\n",
       "17     OK\n",
       "18     OK\n",
       "19     NV\n",
       "20     AZ\n",
       "21     AZ\n",
       "22     TX\n",
       "23     FL\n",
       "24     VA\n",
       "25     TX\n",
       "26     FL\n",
       "27     CO\n",
       "28     FL\n",
       "29     FL\n",
       "30     NM\n",
       "31     TN\n",
       "32     MO\n",
       "33     TX\n",
       "34     TX\n",
       "35     FL\n",
       "36     TX\n",
       "37     MD\n",
       "38     VA\n",
       "39     MN\n",
       "40     OK\n",
       "41     TX\n",
       "42     TX\n",
       "43     VA\n",
       "44     NC\n",
       "45     TX\n",
       "46     TX\n",
       "47     TX\n",
       "48     TX\n",
       "49     AZ\n",
       "50     AZ\n",
       "51     AZ\n",
       "52     TN\n",
       "53     FL\n",
       "54     TX\n",
       "55     CO\n",
       "56     TX\n",
       "57     TX\n",
       "58     TX\n",
       "59     OK\n",
       "60     TX\n",
       "61     FL\n",
       "62     TX\n",
       "63     TN\n",
       "64     TX\n",
       "65     TX\n",
       "66     TX\n",
       "67     AR\n",
       "68     TX\n",
       "69     AZ\n",
       "70     TX\n",
       "71     TX\n",
       "72     AZ\n",
       "73     AZ\n",
       "74     FL\n",
       "75     FL\n",
       "76     FL\n",
       "77     CA\n",
       "78     TX\n",
       "79     OK\n",
       "80     TX\n",
       "81     AZ\n",
       "82     TX\n",
       "83     TX\n",
       "84     FL\n",
       "85     AZ\n",
       "86     AZ\n",
       "87     FL\n",
       "88      T\n",
       "89     FL\n",
       "90     TX\n",
       "91     TX\n",
       "92     OK\n",
       "93     AZ\n",
       "94     TX\n",
       "95     TX\n",
       "96     AR\n",
       "97     TX\n",
       "98     UT\n",
       "99     FL\n",
       "100    AZ\n",
       "101    TX\n",
       "102    AZ\n",
       "103    TX\n",
       "104    FL\n",
       "105    TX\n",
       "106    AZ\n",
       "107    AZ\n",
       "108    TX\n",
       "109    OK\n",
       "110    CA\n",
       "111    NM\n",
       "112    TX\n",
       "113    CA\n",
       "114    FL\n",
       "115    FL\n",
       "116    AZ\n",
       "117    FL\n",
       "118    MN\n",
       "Name: address, dtype: object"
      ]
     },
     "execution_count": 97,
     "metadata": {},
     "output_type": "execute_result"
    }
   ],
   "source": [
    "df.address.str[-8:].str.replace(', USA', \"\").fillna('').str[:2]"
   ]
  },
  {
   "cell_type": "code",
   "execution_count": null,
   "id": "bcfc0f05-6962-4f04-99df-637ab6a4d40f",
   "metadata": {},
   "outputs": [],
   "source": []
  }
 ],
 "metadata": {
  "kernelspec": {
   "display_name": "Python 3 (ipykernel)",
   "language": "python",
   "name": "python3"
  },
  "language_info": {
   "codemirror_mode": {
    "name": "ipython",
    "version": 3
   },
   "file_extension": ".py",
   "mimetype": "text/x-python",
   "name": "python",
   "nbconvert_exporter": "python",
   "pygments_lexer": "ipython3",
   "version": "3.8.9"
  }
 },
 "nbformat": 4,
 "nbformat_minor": 5
}
