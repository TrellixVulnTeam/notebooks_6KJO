{
 "cells": [
  {
   "cell_type": "markdown",
   "id": "5f8115d2-8457-4470-b19d-8677977eac8f",
   "metadata": {},
   "source": [
    "# Chick-fil-A"
   ]
  },
  {
   "cell_type": "code",
   "execution_count": 1,
   "id": "5e4db12a-9e16-4288-a3ed-4877ee3af3f1",
   "metadata": {},
   "outputs": [
    {
     "name": "stderr",
     "output_type": "stream",
     "text": [
      "/Users/stiles/.local/share/virtualenvs/notebooks-sxqKeO4C/lib/python3.8/site-packages/geopandas/_compat.py:111: UserWarning: The Shapely GEOS version (3.10.2-CAPI-1.16.0) is incompatible with the GEOS version PyGEOS was compiled with (3.10.1-CAPI-1.16.0). Conversions between both will be slow.\n",
      "  warnings.warn(\n"
     ]
    }
   ],
   "source": [
    "import requests\n",
    "import pandas as pd\n",
    "import geopandas as gpd"
   ]
  },
  {
   "cell_type": "code",
   "execution_count": 2,
   "id": "b315f26c-99ae-4845-9267-1ec99218f96c",
   "metadata": {},
   "outputs": [],
   "source": [
    "pd.options.display.max_columns = 100\n",
    "pd.options.display.max_rows = 1000"
   ]
  },
  {
   "cell_type": "code",
   "execution_count": 3,
   "id": "264b552f-90cd-4da4-b6fc-7d27dd0ed391",
   "metadata": {},
   "outputs": [],
   "source": [
    "%load_ext lab_black"
   ]
  },
  {
   "cell_type": "markdown",
   "id": "c2bfc75b-6e1c-4b76-85b2-72c298878edc",
   "metadata": {},
   "source": [
    "---"
   ]
  },
  {
   "cell_type": "markdown",
   "id": "7f56619d-5de9-467f-b192-8d1d0a3c551a",
   "metadata": {},
   "source": [
    "## ZIP Codes"
   ]
  },
  {
   "cell_type": "code",
   "execution_count": 4,
   "id": "3c225fbd-f73f-40b5-84ee-af0c010da9ba",
   "metadata": {},
   "outputs": [],
   "source": [
    "zips = pd.read_csv(\n",
    "    \"https://grid-news-static-files.s3.us-east-2.amazonaws.com/data/usa-zips-wealth.csv\"\n",
    ")"
   ]
  },
  {
   "cell_type": "code",
   "execution_count": 5,
   "id": "74d04483-e6ba-4d95-b921-ea6089644857",
   "metadata": {},
   "outputs": [],
   "source": [
    "zips_pop = zips.sort_values(\"totpop_cy\", ascending=False).head(1500)"
   ]
  },
  {
   "cell_type": "markdown",
   "id": "c77cbbdf-974d-48d9-8f6e-1ab26c4c1208",
   "metadata": {},
   "source": [
    "#### Get locations"
   ]
  },
  {
   "cell_type": "code",
   "execution_count": 6,
   "id": "1cd75e6f-93da-4334-8ddb-1634897479cf",
   "metadata": {},
   "outputs": [],
   "source": [
    "cookies = {\n",
    "    \"__cf_bm\": \"fNCpunN8rEnZPNiObTAg1B46cqeO8IxjI9ebasrVx6s-1657977733-0-ASjZhBbj06P+ztVnJiMdiyXAqDfdj2fSG1CUFApZExMjUumrRKbmhz4cCZAaBUKqdKQGLVmzm9oNeehH30lfjqs=\",\n",
    "}\n",
    "\n",
    "headers = {\n",
    "    \"authority\": \"locator.chick-fil-a.com.yext-cdn.com\",\n",
    "    \"accept\": \"application/json\",\n",
    "    \"accept-language\": \"en-US,en;q=0.9,es;q=0.8\",\n",
    "    \"referer\": \"https://locator.chick-fil-a.com.yext-cdn.com/search?q=30354&per=10\",\n",
    "    \"sec-ch-ua\": '\".Not/A)Brand\";v=\"99\", \"Google Chrome\";v=\"103\", \"Chromium\";v=\"103\"',\n",
    "    \"sec-ch-ua-mobile\": \"?0\",\n",
    "    \"sec-ch-ua-platform\": '\"macOS\"',\n",
    "    \"sec-fetch-dest\": \"empty\",\n",
    "    \"sec-fetch-mode\": \"cors\",\n",
    "    \"sec-fetch-site\": \"same-origin\",\n",
    "    \"user-agent\": \"Mozilla/5.0 (Macintosh; Intel Mac OS X 10_15_7) AppleWebKit/537.36 (KHTML, like Gecko) Chrome/103.0.0.0 Safari/537.36\",\n",
    "}"
   ]
  },
  {
   "cell_type": "code",
   "execution_count": 7,
   "id": "11fa66c8-db99-4c4e-9e13-ee29c9d945b3",
   "metadata": {},
   "outputs": [],
   "source": [
    "responses = []\n",
    "\n",
    "for z in zips_pop[\"id\"]:\n",
    "    params = {\n",
    "        \"q\": z,\n",
    "        \"per\": \"10\",\n",
    "    }\n",
    "\n",
    "    response = requests.get(\n",
    "        \"https://locator.chick-fil-a.com.yext-cdn.com/search\",\n",
    "        params=params,\n",
    "        cookies=cookies,\n",
    "        headers=headers,\n",
    "    )\n",
    "    responses.append(response.json())"
   ]
  },
  {
   "cell_type": "code",
   "execution_count": 8,
   "id": "acbd53a0-e28b-4ee4-9fb4-6f8e46b632bd",
   "metadata": {},
   "outputs": [],
   "source": [
    "dicts = []\n",
    "\n",
    "for r in responses:\n",
    "    for p in r[\"response\"][\"entities\"]:\n",
    "        dicts.append(p[\"profile\"])"
   ]
  },
  {
   "cell_type": "code",
   "execution_count": 9,
   "id": "0734fdae-68fe-4bde-a479-7c02973dc607",
   "metadata": {},
   "outputs": [],
   "source": [
    "src = pd.DataFrame(dicts)"
   ]
  },
  {
   "cell_type": "code",
   "execution_count": 10,
   "id": "b6c63a38-602c-4b3f-9742-e376b174ee92",
   "metadata": {},
   "outputs": [],
   "source": [
    "src[\n",
    "    [\n",
    "        \"city\",\n",
    "        \"countryCode\",\n",
    "        \"extraDescription\",\n",
    "        \"line1\",\n",
    "        \"line2\",\n",
    "        \"line3\",\n",
    "        \"postalCode\",\n",
    "        \"region\",\n",
    "        \"sublocality\",\n",
    "    ]\n",
    "] = pd.json_normalize(src[\"address\"])"
   ]
  },
  {
   "cell_type": "code",
   "execution_count": 11,
   "id": "de48d9d6-f271-41df-b989-b782364e324b",
   "metadata": {},
   "outputs": [],
   "source": [
    "src_slim = src[\n",
    "    [\n",
    "        \"c_driveThru\",\n",
    "        \"c_locationFormat\",\n",
    "        \"c_locationName\",\n",
    "        \"c_mall\",\n",
    "        \"c_marketName\",\n",
    "        \"c_openDate\",\n",
    "        \"c_operatorName\",\n",
    "        \"c_playground\",\n",
    "        \"c_projectedOpenDate\",\n",
    "        \"c_status\",\n",
    "        \"geocodedCoordinate\",\n",
    "        \"timezone\",\n",
    "        \"websiteUrl\",\n",
    "        \"city\",\n",
    "        \"countryCode\",\n",
    "        \"line1\",\n",
    "        \"postalCode\",\n",
    "        \"region\",\n",
    "    ]\n",
    "].copy()"
   ]
  },
  {
   "cell_type": "code",
   "execution_count": 12,
   "id": "b3295c10-ae95-491a-9990-58144067e1ee",
   "metadata": {},
   "outputs": [],
   "source": [
    "src_slim.columns = src_slim.columns.str.lower().str.replace(\"c_\", \"\", regex=False)"
   ]
  },
  {
   "cell_type": "code",
   "execution_count": 13,
   "id": "5e04abbd-12ea-4a30-9b8d-911a13e5a128",
   "metadata": {},
   "outputs": [],
   "source": [
    "src_slim[[\"open_day\", \"open_month\", \"open_year\"]] = pd.json_normalize(\n",
    "    src_slim[\"opendate\"]\n",
    ")"
   ]
  },
  {
   "cell_type": "code",
   "execution_count": 14,
   "id": "84fd69f2-5d45-4251-a8ec-7ae7d8465edc",
   "metadata": {},
   "outputs": [],
   "source": [
    "src_slim[[\"lat\", \"lon\"]] = pd.json_normalize(src_slim[\"geocodedcoordinate\"])"
   ]
  },
  {
   "cell_type": "code",
   "execution_count": 15,
   "id": "0402dd1d-2690-45b1-ac5f-1a4ae3b623fc",
   "metadata": {},
   "outputs": [],
   "source": [
    "src_slim.drop([\"geocodedcoordinate\", \"opendate\"], axis=1, inplace=True)"
   ]
  },
  {
   "cell_type": "code",
   "execution_count": 16,
   "id": "e81a11c5-29aa-4db8-9f4b-5984935c4f31",
   "metadata": {},
   "outputs": [],
   "source": [
    "src_slim.rename(\n",
    "    columns={\n",
    "        \"operatorname\": \"operator\",\n",
    "        \"websiteurl\": \"url\",\n",
    "        \"projectedopendate\": \"other_date\",\n",
    "        \"line1\": \"address\",\n",
    "        \"postalcode\": \"zip\",\n",
    "        \"mall\": \"in_mall\",\n",
    "        \"locationformat\": \"format\",\n",
    "    },\n",
    "    inplace=True,\n",
    ")"
   ]
  },
  {
   "cell_type": "code",
   "execution_count": 17,
   "id": "5ec3351a-8839-4a77-a018-2a0c164ebffa",
   "metadata": {},
   "outputs": [],
   "source": [
    "df = src_slim[\n",
    "    [\n",
    "        \"locationname\",\n",
    "        \"marketname\",\n",
    "        \"city\",\n",
    "        \"countrycode\",\n",
    "        \"address\",\n",
    "        \"zip\",\n",
    "        \"region\",\n",
    "        \"lat\",\n",
    "        \"lon\",\n",
    "        \"operator\",\n",
    "        \"status\",\n",
    "        \"timezone\",\n",
    "        \"url\",\n",
    "        \"open_day\",\n",
    "        \"open_month\",\n",
    "        \"open_year\",\n",
    "        \"other_date\",\n",
    "        \"playground\",\n",
    "        \"drivethru\",\n",
    "        \"format\",\n",
    "        \"in_mall\",\n",
    "    ]\n",
    "].drop_duplicates()"
   ]
  },
  {
   "cell_type": "markdown",
   "id": "19ab5df3-18ba-4441-9c34-6a2c2d99265b",
   "metadata": {},
   "source": [
    "----"
   ]
  },
  {
   "cell_type": "code",
   "execution_count": 18,
   "id": "e2f35d24-14b4-437b-993b-778d2a51c2c8",
   "metadata": {},
   "outputs": [
    {
     "data": {
      "text/html": [
       "<div>\n",
       "<style scoped>\n",
       "    .dataframe tbody tr th:only-of-type {\n",
       "        vertical-align: middle;\n",
       "    }\n",
       "\n",
       "    .dataframe tbody tr th {\n",
       "        vertical-align: top;\n",
       "    }\n",
       "\n",
       "    .dataframe thead th {\n",
       "        text-align: right;\n",
       "    }\n",
       "</style>\n",
       "<table border=\"1\" class=\"dataframe\">\n",
       "  <thead>\n",
       "    <tr style=\"text-align: right;\">\n",
       "      <th></th>\n",
       "      <th>locationname</th>\n",
       "      <th>marketname</th>\n",
       "      <th>city</th>\n",
       "      <th>countrycode</th>\n",
       "      <th>address</th>\n",
       "      <th>zip</th>\n",
       "      <th>region</th>\n",
       "      <th>lat</th>\n",
       "      <th>lon</th>\n",
       "      <th>operator</th>\n",
       "      <th>status</th>\n",
       "      <th>timezone</th>\n",
       "      <th>url</th>\n",
       "      <th>open_day</th>\n",
       "      <th>open_month</th>\n",
       "      <th>open_year</th>\n",
       "      <th>other_date</th>\n",
       "      <th>playground</th>\n",
       "      <th>drivethru</th>\n",
       "      <th>format</th>\n",
       "      <th>in_mall</th>\n",
       "    </tr>\n",
       "  </thead>\n",
       "  <tbody>\n",
       "    <tr>\n",
       "      <th>0</th>\n",
       "      <td>Morton Ranch</td>\n",
       "      <td>Houston, TX</td>\n",
       "      <td>Katy</td>\n",
       "      <td>US</td>\n",
       "      <td>2826 W Grand Pkwy N</td>\n",
       "      <td>77449</td>\n",
       "      <td>TX</td>\n",
       "      <td>29.814042</td>\n",
       "      <td>-95.772170</td>\n",
       "      <td>Amanda Baca</td>\n",
       "      <td>OPEN</td>\n",
       "      <td>America/Chicago</td>\n",
       "      <td>https://www.chick-fil-a.com/mortonranch</td>\n",
       "      <td>30.0</td>\n",
       "      <td>11.0</td>\n",
       "      <td>2017.0</td>\n",
       "      <td>2017-11-30</td>\n",
       "      <td>interior</td>\n",
       "      <td>True</td>\n",
       "      <td>Stand Alone</td>\n",
       "      <td>False</td>\n",
       "    </tr>\n",
       "    <tr>\n",
       "      <th>1</th>\n",
       "      <td>Mason Road</td>\n",
       "      <td>Houston, TX</td>\n",
       "      <td>Katy</td>\n",
       "      <td>US</td>\n",
       "      <td>369 S Mason Rd</td>\n",
       "      <td>77450</td>\n",
       "      <td>TX</td>\n",
       "      <td>29.780570</td>\n",
       "      <td>-95.751140</td>\n",
       "      <td>Rusty Wylie</td>\n",
       "      <td>OPEN</td>\n",
       "      <td>America/Chicago</td>\n",
       "      <td>https://www.chick-fil-a.com/masonroad</td>\n",
       "      <td>14.0</td>\n",
       "      <td>9.0</td>\n",
       "      <td>1995.0</td>\n",
       "      <td>2014-10-02</td>\n",
       "      <td>interior</td>\n",
       "      <td>True</td>\n",
       "      <td>Stand Alone</td>\n",
       "      <td>False</td>\n",
       "    </tr>\n",
       "    <tr>\n",
       "      <th>2</th>\n",
       "      <td>Katy Green</td>\n",
       "      <td>Houston, TX</td>\n",
       "      <td>Houston</td>\n",
       "      <td>US</td>\n",
       "      <td>19303 Katy Fwy</td>\n",
       "      <td>77094</td>\n",
       "      <td>TX</td>\n",
       "      <td>29.784326</td>\n",
       "      <td>-95.706519</td>\n",
       "      <td>Rusty Wylie</td>\n",
       "      <td>OPEN</td>\n",
       "      <td>America/Chicago</td>\n",
       "      <td>https://www.chick-fil-a.com/katygreen</td>\n",
       "      <td>11.0</td>\n",
       "      <td>6.0</td>\n",
       "      <td>2015.0</td>\n",
       "      <td>2015-06-11</td>\n",
       "      <td>interior</td>\n",
       "      <td>True</td>\n",
       "      <td>Stand Alone</td>\n",
       "      <td>False</td>\n",
       "    </tr>\n",
       "    <tr>\n",
       "      <th>3</th>\n",
       "      <td>Katy Mills</td>\n",
       "      <td>Houston, TX</td>\n",
       "      <td>Katy</td>\n",
       "      <td>US</td>\n",
       "      <td>25601 Nelson Way</td>\n",
       "      <td>77494</td>\n",
       "      <td>TX</td>\n",
       "      <td>29.774121</td>\n",
       "      <td>-95.819225</td>\n",
       "      <td>Cynthia Cavin</td>\n",
       "      <td>OPEN</td>\n",
       "      <td>America/Chicago</td>\n",
       "      <td>https://www.chick-fil-a.com/katymills</td>\n",
       "      <td>26.0</td>\n",
       "      <td>4.0</td>\n",
       "      <td>2012.0</td>\n",
       "      <td>2011-12-08</td>\n",
       "      <td>interior</td>\n",
       "      <td>True</td>\n",
       "      <td>Stand Alone</td>\n",
       "      <td>False</td>\n",
       "    </tr>\n",
       "    <tr>\n",
       "      <th>4</th>\n",
       "      <td>Cinco Ranch</td>\n",
       "      <td>Houston, TX</td>\n",
       "      <td>Katy</td>\n",
       "      <td>US</td>\n",
       "      <td>23860 Westheimer Pkwy</td>\n",
       "      <td>77494</td>\n",
       "      <td>TX</td>\n",
       "      <td>29.735510</td>\n",
       "      <td>-95.778000</td>\n",
       "      <td>Rusty Wylie</td>\n",
       "      <td>OPEN</td>\n",
       "      <td>America/Chicago</td>\n",
       "      <td>https://www.chick-fil-a.com/cincoranch</td>\n",
       "      <td>2.0</td>\n",
       "      <td>6.0</td>\n",
       "      <td>2005.0</td>\n",
       "      <td>2005-06-02</td>\n",
       "      <td>interior</td>\n",
       "      <td>True</td>\n",
       "      <td>Stand Alone</td>\n",
       "      <td>False</td>\n",
       "    </tr>\n",
       "  </tbody>\n",
       "</table>\n",
       "</div>"
      ],
      "text/plain": [
       "   locationname   marketname     city countrycode                address  \\\n",
       "0  Morton Ranch  Houston, TX     Katy          US    2826 W Grand Pkwy N   \n",
       "1    Mason Road  Houston, TX     Katy          US         369 S Mason Rd   \n",
       "2    Katy Green  Houston, TX  Houston          US         19303 Katy Fwy   \n",
       "3    Katy Mills  Houston, TX     Katy          US       25601 Nelson Way   \n",
       "4   Cinco Ranch  Houston, TX     Katy          US  23860 Westheimer Pkwy   \n",
       "\n",
       "     zip region        lat        lon       operator status         timezone  \\\n",
       "0  77449     TX  29.814042 -95.772170    Amanda Baca   OPEN  America/Chicago   \n",
       "1  77450     TX  29.780570 -95.751140    Rusty Wylie   OPEN  America/Chicago   \n",
       "2  77094     TX  29.784326 -95.706519    Rusty Wylie   OPEN  America/Chicago   \n",
       "3  77494     TX  29.774121 -95.819225  Cynthia Cavin   OPEN  America/Chicago   \n",
       "4  77494     TX  29.735510 -95.778000    Rusty Wylie   OPEN  America/Chicago   \n",
       "\n",
       "                                       url  open_day  open_month  open_year  \\\n",
       "0  https://www.chick-fil-a.com/mortonranch      30.0        11.0     2017.0   \n",
       "1    https://www.chick-fil-a.com/masonroad      14.0         9.0     1995.0   \n",
       "2    https://www.chick-fil-a.com/katygreen      11.0         6.0     2015.0   \n",
       "3    https://www.chick-fil-a.com/katymills      26.0         4.0     2012.0   \n",
       "4   https://www.chick-fil-a.com/cincoranch       2.0         6.0     2005.0   \n",
       "\n",
       "   other_date playground  drivethru       format in_mall  \n",
       "0  2017-11-30   interior       True  Stand Alone   False  \n",
       "1  2014-10-02   interior       True  Stand Alone   False  \n",
       "2  2015-06-11   interior       True  Stand Alone   False  \n",
       "3  2011-12-08   interior       True  Stand Alone   False  \n",
       "4  2005-06-02   interior       True  Stand Alone   False  "
      ]
     },
     "execution_count": 18,
     "metadata": {},
     "output_type": "execute_result"
    }
   ],
   "source": [
    "df.head()"
   ]
  },
  {
   "cell_type": "markdown",
   "id": "b654e19a-85f9-4d46-8478-a4a7b6ae62e9",
   "metadata": {},
   "source": [
    "#### How many?"
   ]
  },
  {
   "cell_type": "code",
   "execution_count": 19,
   "id": "fd2d6e32-0ff4-473e-a167-3f473e6446a5",
   "metadata": {},
   "outputs": [
    {
     "data": {
      "text/plain": [
       "2360"
      ]
     },
     "execution_count": 19,
     "metadata": {},
     "output_type": "execute_result"
    }
   ],
   "source": [
    "len(df)"
   ]
  },
  {
   "cell_type": "code",
   "execution_count": 20,
   "id": "6f61b1c5-df6d-4178-b932-016d72b483a8",
   "metadata": {},
   "outputs": [],
   "source": [
    "formats = [\"Stand Alone\", \"In-Line\", \"Food Court\"]"
   ]
  },
  {
   "cell_type": "code",
   "execution_count": 21,
   "id": "c91135b9-9667-4ceb-b5a8-ea903e4e9561",
   "metadata": {},
   "outputs": [],
   "source": [
    "df_open = df[(df[\"status\"] == \"OPEN\") & (df[\"region\"] != \"AK\") & (df[\"lat\"] > 0)].copy()\n",
    "df_open_clean = df[df[\"format\"].isin(formats)]"
   ]
  },
  {
   "cell_type": "markdown",
   "id": "1cec17fe-2fdc-4ab0-91bf-4bd2b1ebd957",
   "metadata": {},
   "source": [
    "---"
   ]
  },
  {
   "cell_type": "markdown",
   "id": "08b2b8df-29b8-4ec3-b9a4-4129c4926469",
   "metadata": {},
   "source": [
    "## Geodataframe"
   ]
  },
  {
   "cell_type": "code",
   "execution_count": 23,
   "id": "745b3aeb-57f3-4db1-93c8-459676887033",
   "metadata": {},
   "outputs": [],
   "source": [
    "gdf = gpd.GeoDataFrame(\n",
    "    df_open_clean, geometry=gpd.points_from_xy(df_open_clean.lon, df_open_clean.lat)\n",
    ")"
   ]
  },
  {
   "cell_type": "code",
   "execution_count": 24,
   "id": "a4067ef7-bbb7-4b49-96e4-dd2e115e088c",
   "metadata": {},
   "outputs": [
    {
     "data": {
      "text/plain": [
       "<AxesSubplot:>"
      ]
     },
     "execution_count": 24,
     "metadata": {},
     "output_type": "execute_result"
    },
    {
     "data": {
      "image/png": "[encoded data removed]",
      "text/plain": [
       "<Figure size 432x288 with 1 Axes>"
      ]
     },
     "metadata": {
      "needs_background": "light"
     },
     "output_type": "display_data"
    }
   ],
   "source": [
    "gdf.plot()"
   ]
  },
  {
   "cell_type": "markdown",
   "id": "9fc76167-a01c-4392-b87e-79ee89f6151e",
   "metadata": {},
   "source": [
    "---"
   ]
  },
  {
   "cell_type": "code",
   "execution_count": 27,
   "id": "3c8076eb-a23d-442d-af92-653a806493ac",
   "metadata": {},
   "outputs": [],
   "source": [
    "df_open_clean.to_csv(\"data/processed/locations.csv\", index=False)"
   ]
  },
  {
   "cell_type": "code",
   "execution_count": 26,
   "id": "10733487-e96d-4c8a-bc2f-67adcc88c52b",
   "metadata": {},
   "outputs": [],
   "source": [
    "gdf.to_file(\"data/processed/locations_geo.geojson\", driver=\"GeoJSON\")"
   ]
  }
 ],
 "metadata": {
  "kernelspec": {
   "display_name": "Python 3 (ipykernel)",
   "language": "python",
   "name": "python3"
  },
  "language_info": {
   "codemirror_mode": {
    "name": "ipython",
    "version": 3
   },
   "file_extension": ".py",
   "mimetype": "text/x-python",
   "name": "python",
   "nbconvert_exporter": "python",
   "pygments_lexer": "ipython3",
   "version": "3.8.9"
  }
 },
 "nbformat": 4,
 "nbformat_minor": 5
}
