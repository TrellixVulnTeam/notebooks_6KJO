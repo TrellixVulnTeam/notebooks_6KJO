{
 "cells": [
  {
   "cell_type": "markdown",
   "id": "983b8595-6a63-4690-b6db-43cfc01ae383",
   "metadata": {},
   "source": [
    "# Hospitals"
   ]
  },
  {
   "cell_type": "markdown",
   "id": "585609e9-885c-41ed-86cb-ed78cbb12b1b",
   "metadata": {},
   "source": [
    "#### Load python tools"
   ]
  },
  {
   "cell_type": "code",
   "execution_count": 1,
   "id": "a122a09a-fe95-4032-b511-29a9f8144bcb",
   "metadata": {},
   "outputs": [],
   "source": [
    "%load_ext lab_black"
   ]
  },
  {
   "cell_type": "code",
   "execution_count": 2,
   "id": "b8bf9e5e-e8a6-4f66-b577-a5d76a6b4145",
   "metadata": {},
   "outputs": [],
   "source": [
    "import pandas as pd\n",
    "import geopandas as gpd\n",
    "import altair as alt\n",
    "import numpy as np"
   ]
  },
  {
   "cell_type": "code",
   "execution_count": 3,
   "id": "8a19e15a-6d81-4d61-a764-a8d38d46df32",
   "metadata": {},
   "outputs": [],
   "source": [
    "pd.options.display.max_columns = 1000\n",
    "pd.options.display.max_rows = 1000"
   ]
  },
  {
   "cell_type": "markdown",
   "id": "ee4d4d1a-a678-4673-acff-95f054bc049f",
   "metadata": {},
   "source": [
    "---"
   ]
  },
  {
   "cell_type": "markdown",
   "id": "3f57d5e8-73af-407e-a02d-008bde3790c3",
   "metadata": {},
   "source": [
    "#### Read data"
   ]
  },
  {
   "cell_type": "code",
   "execution_count": 4,
   "id": "274ccd5a-bd09-4ecf-b673-8f759639ecae",
   "metadata": {},
   "outputs": [],
   "source": [
    "states = pd.read_csv(\n",
    "    \"https://raw.githubusercontent.com/stiles/notebooks/5a9a1a8395c7924abe6c7392fdabd58fda8d8d8d/census/raw/ap_states.csv\"\n",
    ")"
   ]
  },
  {
   "cell_type": "code",
   "execution_count": 5,
   "id": "43eb8bab-8d43-4499-a4d9-2db5ea56ad14",
   "metadata": {},
   "outputs": [],
   "source": [
    "states[\"name\"] = states[\"name\"].str.upper()"
   ]
  },
  {
   "cell_type": "code",
   "execution_count": 6,
   "id": "de22d565-8adf-48cf-99ea-02f66fcf12dd",
   "metadata": {},
   "outputs": [],
   "source": [
    "today = pd.to_datetime(\"today\").strftime(\"%-m-%-d-%y\")"
   ]
  },
  {
   "cell_type": "markdown",
   "id": "de480a37-433c-43ff-84f4-676664a73996",
   "metadata": {},
   "source": [
    "---"
   ]
  },
  {
   "cell_type": "code",
   "execution_count": 7,
   "id": "0e920145-5cf2-4b15-96cd-aad22e79c3e9",
   "metadata": {},
   "outputs": [],
   "source": [
    "url = \"https://69c46ad6-7f7a-4e40-9f99-cdf68e8848bf.filesusr.com/ugd/a53784_d422b73592324d48ac944b66ef52fd1c.csv?dn=Raw%20Data%203-2-22.csv\""
   ]
  },
  {
   "cell_type": "code",
   "execution_count": 8,
   "id": "0b301398-0f89-46ed-88b2-155764cb14f0",
   "metadata": {},
   "outputs": [],
   "source": [
    "src = pd.read_csv(url)"
   ]
  },
  {
   "cell_type": "code",
   "execution_count": 9,
   "id": "03892ab5-bfea-4c3e-bf54-4e3c451a7865",
   "metadata": {},
   "outputs": [],
   "source": [
    "src.columns = src.columns.str.lower().str.replace(\" \", \"_\", regex=False)"
   ]
  },
  {
   "cell_type": "code",
   "execution_count": 10,
   "id": "10eb76e3-c2e5-434d-9cca-3522538c2859",
   "metadata": {},
   "outputs": [
    {
     "data": {
      "text/html": [
       "<div>\n",
       "<style scoped>\n",
       "    .dataframe tbody tr th:only-of-type {\n",
       "        vertical-align: middle;\n",
       "    }\n",
       "\n",
       "    .dataframe tbody tr th {\n",
       "        vertical-align: top;\n",
       "    }\n",
       "\n",
       "    .dataframe thead th {\n",
       "        text-align: right;\n",
       "    }\n",
       "</style>\n",
       "<table border=\"1\" class=\"dataframe\">\n",
       "  <thead>\n",
       "    <tr style=\"text-align: right;\">\n",
       "      <th></th>\n",
       "      <th>submission_time</th>\n",
       "      <th>professional_title</th>\n",
       "      <th>level_of_care</th>\n",
       "      <th>normal_ratio</th>\n",
       "      <th>surged_ratio</th>\n",
       "      <th>how_often_do_you_surge?</th>\n",
       "      <th>which_shift?</th>\n",
       "      <th>facility_name</th>\n",
       "      <th>city</th>\n",
       "      <th>state</th>\n",
       "      <th>comments</th>\n",
       "      <th>do_you_work_with_adequate_levels_of_support_staff?</th>\n",
       "    </tr>\n",
       "  </thead>\n",
       "  <tbody>\n",
       "    <tr>\n",
       "      <th>0</th>\n",
       "      <td>2022-02-24T06:40:29Z</td>\n",
       "      <td>Registered Nurse</td>\n",
       "      <td>Progressive Care</td>\n",
       "      <td>5:1</td>\n",
       "      <td>5:1</td>\n",
       "      <td>Multiple times a week</td>\n",
       "      <td>NaN</td>\n",
       "      <td>Banner Baywood Medical Center</td>\n",
       "      <td>Chandler</td>\n",
       "      <td>Arizona</td>\n",
       "      <td>Absolutely powerless. I feel as if I’m letting...</td>\n",
       "      <td>No</td>\n",
       "    </tr>\n",
       "    <tr>\n",
       "      <th>1</th>\n",
       "      <td>2022-02-23T22:21:04Z</td>\n",
       "      <td>Registered Nurse</td>\n",
       "      <td>Emergency Room</td>\n",
       "      <td>4:1</td>\n",
       "      <td>4:1</td>\n",
       "      <td>Multiple times a week</td>\n",
       "      <td>NaN</td>\n",
       "      <td>Candler Hospital</td>\n",
       "      <td>Savannah</td>\n",
       "      <td>GA</td>\n",
       "      <td>NaN</td>\n",
       "      <td>Sometimes</td>\n",
       "    </tr>\n",
       "    <tr>\n",
       "      <th>2</th>\n",
       "      <td>2022-02-24T05:17:05Z</td>\n",
       "      <td>Registered Nurse</td>\n",
       "      <td>Maternal Care</td>\n",
       "      <td>3:1</td>\n",
       "      <td>4:1</td>\n",
       "      <td>Once every few months</td>\n",
       "      <td>NaN</td>\n",
       "      <td>The Christ Hospital Liberty Birthing Center</td>\n",
       "      <td>Liberty Township</td>\n",
       "      <td>Ohio</td>\n",
       "      <td>NaN</td>\n",
       "      <td>Yes</td>\n",
       "    </tr>\n",
       "    <tr>\n",
       "      <th>3</th>\n",
       "      <td>2022-02-23T21:57:16Z</td>\n",
       "      <td>Registered Nurse</td>\n",
       "      <td>Intensive Care Unit</td>\n",
       "      <td>2:1</td>\n",
       "      <td>4:1</td>\n",
       "      <td>Once a week</td>\n",
       "      <td>NaN</td>\n",
       "      <td>DRK Berlin Koepenick</td>\n",
       "      <td>Berlin</td>\n",
       "      <td>Germany</td>\n",
       "      <td>NaN</td>\n",
       "      <td>No</td>\n",
       "    </tr>\n",
       "    <tr>\n",
       "      <th>4</th>\n",
       "      <td>2022-02-24T01:59:37Z</td>\n",
       "      <td>Registered Nurse</td>\n",
       "      <td>Med-Surg Tele</td>\n",
       "      <td>5:1</td>\n",
       "      <td>6:1</td>\n",
       "      <td>Multiple times a week</td>\n",
       "      <td>NaN</td>\n",
       "      <td>Grand View Hospital</td>\n",
       "      <td>Sellersville</td>\n",
       "      <td>PA</td>\n",
       "      <td>NaN</td>\n",
       "      <td>No</td>\n",
       "    </tr>\n",
       "  </tbody>\n",
       "</table>\n",
       "</div>"
      ],
      "text/plain": [
       "        submission_time professional_title        level_of_care normal_ratio  \\\n",
       "0  2022-02-24T06:40:29Z   Registered Nurse     Progressive Care          5:1   \n",
       "1  2022-02-23T22:21:04Z   Registered Nurse       Emergency Room          4:1   \n",
       "2  2022-02-24T05:17:05Z   Registered Nurse        Maternal Care          3:1   \n",
       "3  2022-02-23T21:57:16Z   Registered Nurse  Intensive Care Unit          2:1   \n",
       "4  2022-02-24T01:59:37Z   Registered Nurse        Med-Surg Tele          5:1   \n",
       "\n",
       "  surged_ratio how_often_do_you_surge? which_shift?  \\\n",
       "0          5:1   Multiple times a week          NaN   \n",
       "1          4:1   Multiple times a week          NaN   \n",
       "2          4:1   Once every few months          NaN   \n",
       "3          4:1             Once a week          NaN   \n",
       "4          6:1   Multiple times a week          NaN   \n",
       "\n",
       "                                 facility_name              city    state  \\\n",
       "0                Banner Baywood Medical Center          Chandler  Arizona   \n",
       "1                             Candler Hospital          Savannah       GA   \n",
       "2  The Christ Hospital Liberty Birthing Center  Liberty Township     Ohio   \n",
       "3                         DRK Berlin Koepenick            Berlin  Germany   \n",
       "4                          Grand View Hospital      Sellersville       PA   \n",
       "\n",
       "                                            comments  \\\n",
       "0  Absolutely powerless. I feel as if I’m letting...   \n",
       "1                                                NaN   \n",
       "2                                                NaN   \n",
       "3                                                NaN   \n",
       "4                                                NaN   \n",
       "\n",
       "  do_you_work_with_adequate_levels_of_support_staff?  \n",
       "0                                                 No  \n",
       "1                                          Sometimes  \n",
       "2                                                Yes  \n",
       "3                                                 No  \n",
       "4                                                 No  "
      ]
     },
     "execution_count": 10,
     "metadata": {},
     "output_type": "execute_result"
    }
   ],
   "source": [
    "src.head()"
   ]
  },
  {
   "cell_type": "code",
   "execution_count": 11,
   "id": "30ebd3ba-0af5-4f54-99b3-e2ea1d430238",
   "metadata": {},
   "outputs": [],
   "source": [
    "facilities = (\n",
    "    src.groupby([\"city\", \"state\", \"facility_name\"])\n",
    "    .agg({\"submission_time\": \"size\"})\n",
    "    .reset_index()\n",
    ")"
   ]
  },
  {
   "cell_type": "code",
   "execution_count": 12,
   "id": "14f2b8dc-f24f-47b9-88bb-dd9d51587d91",
   "metadata": {},
   "outputs": [
    {
     "data": {
      "text/plain": [
       "318"
      ]
     },
     "execution_count": 12,
     "metadata": {},
     "output_type": "execute_result"
    }
   ],
   "source": [
    "len(facilities)"
   ]
  },
  {
   "cell_type": "markdown",
   "id": "658aa07f-19a2-404d-9ceb-46b3c50d462c",
   "metadata": {},
   "source": [
    "#### Clean up facilities columns"
   ]
  },
  {
   "cell_type": "code",
   "execution_count": 13,
   "id": "c0d9e0df-6c97-4f87-9583-30c17d9adb2e",
   "metadata": {},
   "outputs": [],
   "source": [
    "facilities[\"state\"] = facilities[\"state\"].str.upper().str.replace(\".\", \"\", regex=False)\n",
    "facilities[\"facility_name\"] = (\n",
    "    facilities[\"facility_name\"].str.upper().str.replace(\".\", \"\", regex=False)\n",
    ")"
   ]
  },
  {
   "cell_type": "code",
   "execution_count": 14,
   "id": "e64f26f1-4471-43ff-a3e3-30a7e4e29c40",
   "metadata": {},
   "outputs": [],
   "source": [
    "facilities[[\"city\", \"drop\"]] = (\n",
    "    facilities[\"city\"].str.upper().str.split(\",\", expand=True)\n",
    ")"
   ]
  },
  {
   "cell_type": "code",
   "execution_count": 15,
   "id": "3b05c927-1c42-43ac-9c40-a604c3048375",
   "metadata": {},
   "outputs": [],
   "source": [
    "facilities.drop([\"drop\", \"submission_time\"], axis=1, inplace=True)"
   ]
  },
  {
   "cell_type": "code",
   "execution_count": 16,
   "id": "91b6da15-4e50-4ed8-b509-75bbf73b8213",
   "metadata": {},
   "outputs": [
    {
     "data": {
      "text/html": [
       "<div>\n",
       "<style scoped>\n",
       "    .dataframe tbody tr th:only-of-type {\n",
       "        vertical-align: middle;\n",
       "    }\n",
       "\n",
       "    .dataframe tbody tr th {\n",
       "        vertical-align: top;\n",
       "    }\n",
       "\n",
       "    .dataframe thead th {\n",
       "        text-align: right;\n",
       "    }\n",
       "</style>\n",
       "<table border=\"1\" class=\"dataframe\">\n",
       "  <thead>\n",
       "    <tr style=\"text-align: right;\">\n",
       "      <th></th>\n",
       "      <th>city</th>\n",
       "      <th>state</th>\n",
       "      <th>facility_name</th>\n",
       "    </tr>\n",
       "  </thead>\n",
       "  <tbody>\n",
       "    <tr>\n",
       "      <th>0</th>\n",
       "      <td>ABINGTON</td>\n",
       "      <td>PENNSYLVANIA</td>\n",
       "      <td>JEFFERSON ABINGTON HOSPITAL</td>\n",
       "    </tr>\n",
       "    <tr>\n",
       "      <th>1</th>\n",
       "      <td>ALBANY</td>\n",
       "      <td>NY</td>\n",
       "      <td>ALBANY MEDICAL CENTER</td>\n",
       "    </tr>\n",
       "    <tr>\n",
       "      <th>2</th>\n",
       "      <td>ALBEMARLE</td>\n",
       "      <td>NC</td>\n",
       "      <td>ATRIUM HEALTH</td>\n",
       "    </tr>\n",
       "    <tr>\n",
       "      <th>3</th>\n",
       "      <td>ALBEMARLE</td>\n",
       "      <td>NC</td>\n",
       "      <td>ATRIUM HEALTH STANLY</td>\n",
       "    </tr>\n",
       "    <tr>\n",
       "      <th>4</th>\n",
       "      <td>ALBEMARLE</td>\n",
       "      <td>NC</td>\n",
       "      <td>ATRIUM HEALTH</td>\n",
       "    </tr>\n",
       "  </tbody>\n",
       "</table>\n",
       "</div>"
      ],
      "text/plain": [
       "        city         state                facility_name\n",
       "0   ABINGTON  PENNSYLVANIA  JEFFERSON ABINGTON HOSPITAL\n",
       "1     ALBANY            NY        ALBANY MEDICAL CENTER\n",
       "2  ALBEMARLE            NC                ATRIUM HEALTH\n",
       "3  ALBEMARLE            NC         ATRIUM HEALTH STANLY\n",
       "4  ALBEMARLE            NC                ATRIUM HEALTH"
      ]
     },
     "execution_count": 16,
     "metadata": {},
     "output_type": "execute_result"
    }
   ],
   "source": [
    "facilities.head()"
   ]
  },
  {
   "cell_type": "markdown",
   "id": "ceb9d634-0bf1-4bab-9a3f-a7856ed1da17",
   "metadata": {},
   "source": [
    "#### Clean up states"
   ]
  },
  {
   "cell_type": "code",
   "execution_count": 17,
   "id": "13759990-8446-4c24-94c4-858608e387cf",
   "metadata": {},
   "outputs": [
    {
     "data": {
      "text/html": [
       "<div>\n",
       "<style scoped>\n",
       "    .dataframe tbody tr th:only-of-type {\n",
       "        vertical-align: middle;\n",
       "    }\n",
       "\n",
       "    .dataframe tbody tr th {\n",
       "        vertical-align: top;\n",
       "    }\n",
       "\n",
       "    .dataframe thead th {\n",
       "        text-align: right;\n",
       "    }\n",
       "</style>\n",
       "<table border=\"1\" class=\"dataframe\">\n",
       "  <thead>\n",
       "    <tr style=\"text-align: right;\">\n",
       "      <th></th>\n",
       "      <th>name</th>\n",
       "      <th>usps</th>\n",
       "      <th>ap</th>\n",
       "    </tr>\n",
       "  </thead>\n",
       "  <tbody>\n",
       "    <tr>\n",
       "      <th>0</th>\n",
       "      <td>ALABAMA</td>\n",
       "      <td>AL</td>\n",
       "      <td>Ala.</td>\n",
       "    </tr>\n",
       "    <tr>\n",
       "      <th>1</th>\n",
       "      <td>ALASKA</td>\n",
       "      <td>AK</td>\n",
       "      <td>Alaska</td>\n",
       "    </tr>\n",
       "    <tr>\n",
       "      <th>2</th>\n",
       "      <td>ARIZONA</td>\n",
       "      <td>AZ</td>\n",
       "      <td>Ariz.</td>\n",
       "    </tr>\n",
       "    <tr>\n",
       "      <th>3</th>\n",
       "      <td>ARKANSAS</td>\n",
       "      <td>AR</td>\n",
       "      <td>Ark.</td>\n",
       "    </tr>\n",
       "    <tr>\n",
       "      <th>4</th>\n",
       "      <td>CALIFORNIA</td>\n",
       "      <td>CA</td>\n",
       "      <td>Calif.</td>\n",
       "    </tr>\n",
       "  </tbody>\n",
       "</table>\n",
       "</div>"
      ],
      "text/plain": [
       "         name usps      ap\n",
       "0     ALABAMA   AL    Ala.\n",
       "1      ALASKA   AK  Alaska\n",
       "2     ARIZONA   AZ   Ariz.\n",
       "3    ARKANSAS   AR    Ark.\n",
       "4  CALIFORNIA   CA  Calif."
      ]
     },
     "execution_count": 17,
     "metadata": {},
     "output_type": "execute_result"
    }
   ],
   "source": [
    "states.head()"
   ]
  },
  {
   "cell_type": "markdown",
   "id": "cf0581c2-abdd-4cbf-b699-778657f73634",
   "metadata": {},
   "source": [
    "#### Left merge to keep all facilities"
   ]
  },
  {
   "cell_type": "code",
   "execution_count": 18,
   "id": "fb6f8adc-e8f7-4160-976b-2f4dcb70322e",
   "metadata": {},
   "outputs": [],
   "source": [
    "merge = pd.merge(facilities, states, left_on=\"state\", right_on=\"name\", how=\"left\")"
   ]
  },
  {
   "cell_type": "markdown",
   "id": "91084f32-1e35-494e-9ed7-02bd4404a37c",
   "metadata": {},
   "source": [
    "#### If the merge locations didn't match, replace"
   ]
  },
  {
   "cell_type": "code",
   "execution_count": 19,
   "id": "c114ac65-bea5-4fff-a474-2973141a34a6",
   "metadata": {},
   "outputs": [],
   "source": [
    "merge[\"place\"] = np.where(merge[\"usps\"].isnull(), merge[\"state\"], merge[\"usps\"])"
   ]
  },
  {
   "cell_type": "markdown",
   "id": "b36a116c-477d-41f1-977c-e4d93d9eba5c",
   "metadata": {},
   "source": [
    "#### Lose places with long state names (Germany, British Columbia, etc) and columns we don't need"
   ]
  },
  {
   "cell_type": "code",
   "execution_count": 20,
   "id": "ea1c5969-e6b2-462c-872a-84f5eabb6e31",
   "metadata": {},
   "outputs": [],
   "source": [
    "usa_df = merge[merge[\"place\"].str.len() == 2].drop(\n",
    "    [\"state\", \"name\", \"usps\", \"ap\"], axis=1\n",
    ")"
   ]
  },
  {
   "cell_type": "code",
   "execution_count": 21,
   "id": "987ba64a-884c-4919-8ad4-6343a2e53a9d",
   "metadata": {},
   "outputs": [
    {
     "data": {
      "text/html": [
       "<div>\n",
       "<style scoped>\n",
       "    .dataframe tbody tr th:only-of-type {\n",
       "        vertical-align: middle;\n",
       "    }\n",
       "\n",
       "    .dataframe tbody tr th {\n",
       "        vertical-align: top;\n",
       "    }\n",
       "\n",
       "    .dataframe thead th {\n",
       "        text-align: right;\n",
       "    }\n",
       "</style>\n",
       "<table border=\"1\" class=\"dataframe\">\n",
       "  <thead>\n",
       "    <tr style=\"text-align: right;\">\n",
       "      <th></th>\n",
       "      <th>city</th>\n",
       "      <th>facility_name</th>\n",
       "      <th>place</th>\n",
       "    </tr>\n",
       "  </thead>\n",
       "  <tbody>\n",
       "    <tr>\n",
       "      <th>0</th>\n",
       "      <td>ABINGTON</td>\n",
       "      <td>JEFFERSON ABINGTON HOSPITAL</td>\n",
       "      <td>PA</td>\n",
       "    </tr>\n",
       "    <tr>\n",
       "      <th>1</th>\n",
       "      <td>ALBANY</td>\n",
       "      <td>ALBANY MEDICAL CENTER</td>\n",
       "      <td>NY</td>\n",
       "    </tr>\n",
       "    <tr>\n",
       "      <th>2</th>\n",
       "      <td>ALBEMARLE</td>\n",
       "      <td>ATRIUM HEALTH</td>\n",
       "      <td>NC</td>\n",
       "    </tr>\n",
       "    <tr>\n",
       "      <th>3</th>\n",
       "      <td>ALBEMARLE</td>\n",
       "      <td>ATRIUM HEALTH STANLY</td>\n",
       "      <td>NC</td>\n",
       "    </tr>\n",
       "    <tr>\n",
       "      <th>4</th>\n",
       "      <td>ALBEMARLE</td>\n",
       "      <td>ATRIUM HEALTH</td>\n",
       "      <td>NC</td>\n",
       "    </tr>\n",
       "  </tbody>\n",
       "</table>\n",
       "</div>"
      ],
      "text/plain": [
       "        city                facility_name place\n",
       "0   ABINGTON  JEFFERSON ABINGTON HOSPITAL    PA\n",
       "1     ALBANY        ALBANY MEDICAL CENTER    NY\n",
       "2  ALBEMARLE                ATRIUM HEALTH    NC\n",
       "3  ALBEMARLE         ATRIUM HEALTH STANLY    NC\n",
       "4  ALBEMARLE                ATRIUM HEALTH    NC"
      ]
     },
     "execution_count": 21,
     "metadata": {},
     "output_type": "execute_result"
    }
   ],
   "source": [
    "usa_df.head()"
   ]
  },
  {
   "cell_type": "markdown",
   "id": "f4cae271-88f4-4172-b85f-2f37201328c7",
   "metadata": {},
   "source": [
    "#### Another method for replacing values"
   ]
  },
  {
   "cell_type": "code",
   "execution_count": 22,
   "id": "69d943fc-f985-48c5-b7a3-8e158fc24502",
   "metadata": {},
   "outputs": [],
   "source": [
    "states_map = {\n",
    "    \"AL\": \"Ala.\",\n",
    "    \"AK\": \"Alaska\",\n",
    "    \"AZ\": \"Ariz.\",\n",
    "    \"AR\": \"Ark.\",\n",
    "    \"CA\": \"Calif.\",\n",
    "    \"CO\": \"Colo.\",\n",
    "    \"CT\": \"Conn.\",\n",
    "    \"DE\": \"Del.\",\n",
    "    \"DC\": \"D.C.\",\n",
    "    \"FL\": \"Fla.\",\n",
    "    \"GA\": \"Ga.\",\n",
    "    \"HI\": \"Hawaii\",\n",
    "    \"ID\": \"Idaho\",\n",
    "    \"IL\": \"Ill.\",\n",
    "    \"IN\": \"Ind.\",\n",
    "    \"IA\": \"Iowa\",\n",
    "    \"KS\": \"Kan.\",\n",
    "    \"KY\": \"Ky.\",\n",
    "    \"LA\": \"La.\",\n",
    "    \"ME\": \"Maine\",\n",
    "    \"MD\": \"Md.\",\n",
    "    \"MA\": \"Mass.\",\n",
    "    \"MI\": \"Mich.\",\n",
    "    \"MN\": \"Minn.\",\n",
    "    \"MS\": \"Miss.\",\n",
    "    \"MO\": \"Mo.\",\n",
    "    \"MT\": \"Mont.\",\n",
    "    \"NE\": \"Neb.\",\n",
    "    \"NV\": \"Nev.\",\n",
    "    \"NH\": \"N.H.\",\n",
    "    \"NJ\": \"N.J.\",\n",
    "    \"NM\": \"N.M.\",\n",
    "    \"NY\": \"N.Y.\",\n",
    "    \"NC\": \"N.C.\",\n",
    "    \"ND\": \"N.D.\",\n",
    "    \"OH\": \"Ohio\",\n",
    "    \"OK\": \"Okla.\",\n",
    "    \"OR\": \"Ore.\",\n",
    "    \"PA\": \"Pa.\",\n",
    "    \"RI\": \"R.I.\",\n",
    "    \"SC\": \"S.C.\",\n",
    "    \"SD\": \"S.D.\",\n",
    "    \"TN\": \"Tenn.\",\n",
    "    \"TX\": \"Texas\",\n",
    "    \"UT\": \"Utah\",\n",
    "    \"VT\": \"Vt.\",\n",
    "    \"VA\": \"Va.\",\n",
    "    \"WA\": \"Wash.\",\n",
    "    \"WV\": \"W.Va.\",\n",
    "    \"WI\": \"Wis.\",\n",
    "    \"WY\": \"Wyo.\",\n",
    "}"
   ]
  },
  {
   "cell_type": "code",
   "execution_count": 23,
   "id": "b3412b37-0a89-40d3-8e9d-74ee3d216fbd",
   "metadata": {},
   "outputs": [],
   "source": [
    "usa_df[\"ap_name\"] = usa_df[\"place\"].map(states_map)"
   ]
  },
  {
   "cell_type": "code",
   "execution_count": 24,
   "id": "24de09e8-546e-466f-a3a0-a177a8005ddf",
   "metadata": {},
   "outputs": [
    {
     "data": {
      "text/html": [
       "<div>\n",
       "<style scoped>\n",
       "    .dataframe tbody tr th:only-of-type {\n",
       "        vertical-align: middle;\n",
       "    }\n",
       "\n",
       "    .dataframe tbody tr th {\n",
       "        vertical-align: top;\n",
       "    }\n",
       "\n",
       "    .dataframe thead th {\n",
       "        text-align: right;\n",
       "    }\n",
       "</style>\n",
       "<table border=\"1\" class=\"dataframe\">\n",
       "  <thead>\n",
       "    <tr style=\"text-align: right;\">\n",
       "      <th></th>\n",
       "      <th>city</th>\n",
       "      <th>facility_name</th>\n",
       "      <th>place</th>\n",
       "      <th>ap_name</th>\n",
       "    </tr>\n",
       "  </thead>\n",
       "  <tbody>\n",
       "    <tr>\n",
       "      <th>0</th>\n",
       "      <td>ABINGTON</td>\n",
       "      <td>JEFFERSON ABINGTON HOSPITAL</td>\n",
       "      <td>PA</td>\n",
       "      <td>Pa.</td>\n",
       "    </tr>\n",
       "    <tr>\n",
       "      <th>1</th>\n",
       "      <td>ALBANY</td>\n",
       "      <td>ALBANY MEDICAL CENTER</td>\n",
       "      <td>NY</td>\n",
       "      <td>N.Y.</td>\n",
       "    </tr>\n",
       "    <tr>\n",
       "      <th>2</th>\n",
       "      <td>ALBEMARLE</td>\n",
       "      <td>ATRIUM HEALTH</td>\n",
       "      <td>NC</td>\n",
       "      <td>N.C.</td>\n",
       "    </tr>\n",
       "    <tr>\n",
       "      <th>3</th>\n",
       "      <td>ALBEMARLE</td>\n",
       "      <td>ATRIUM HEALTH STANLY</td>\n",
       "      <td>NC</td>\n",
       "      <td>N.C.</td>\n",
       "    </tr>\n",
       "    <tr>\n",
       "      <th>4</th>\n",
       "      <td>ALBEMARLE</td>\n",
       "      <td>ATRIUM HEALTH</td>\n",
       "      <td>NC</td>\n",
       "      <td>N.C.</td>\n",
       "    </tr>\n",
       "  </tbody>\n",
       "</table>\n",
       "</div>"
      ],
      "text/plain": [
       "        city                facility_name place ap_name\n",
       "0   ABINGTON  JEFFERSON ABINGTON HOSPITAL    PA     Pa.\n",
       "1     ALBANY        ALBANY MEDICAL CENTER    NY    N.Y.\n",
       "2  ALBEMARLE                ATRIUM HEALTH    NC    N.C.\n",
       "3  ALBEMARLE         ATRIUM HEALTH STANLY    NC    N.C.\n",
       "4  ALBEMARLE                ATRIUM HEALTH    NC    N.C."
      ]
     },
     "execution_count": 24,
     "metadata": {},
     "output_type": "execute_result"
    }
   ],
   "source": [
    "usa_df.head()"
   ]
  },
  {
   "cell_type": "code",
   "execution_count": 25,
   "id": "dece6c17-07ef-4eec-bf19-818123568ba5",
   "metadata": {},
   "outputs": [],
   "source": [
    "usa_facilities = (\n",
    "    usa_df.groupby([\"city\", \"facility_name\", \"place\", \"ap_name\"])\n",
    "    .size()\n",
    "    .reset_index(name=\"count\")\n",
    ")"
   ]
  },
  {
   "cell_type": "code",
   "execution_count": 26,
   "id": "fe9c2e15-a4eb-48e9-b9d0-9b648580d97d",
   "metadata": {},
   "outputs": [
    {
     "data": {
      "text/html": [
       "<div>\n",
       "<style scoped>\n",
       "    .dataframe tbody tr th:only-of-type {\n",
       "        vertical-align: middle;\n",
       "    }\n",
       "\n",
       "    .dataframe tbody tr th {\n",
       "        vertical-align: top;\n",
       "    }\n",
       "\n",
       "    .dataframe thead th {\n",
       "        text-align: right;\n",
       "    }\n",
       "</style>\n",
       "<table border=\"1\" class=\"dataframe\">\n",
       "  <thead>\n",
       "    <tr style=\"text-align: right;\">\n",
       "      <th></th>\n",
       "      <th>city</th>\n",
       "      <th>facility_name</th>\n",
       "      <th>place</th>\n",
       "      <th>ap_name</th>\n",
       "      <th>count</th>\n",
       "    </tr>\n",
       "  </thead>\n",
       "  <tbody>\n",
       "    <tr>\n",
       "      <th>0</th>\n",
       "      <td>ABINGTON</td>\n",
       "      <td>JEFFERSON ABINGTON HOSPITAL</td>\n",
       "      <td>PA</td>\n",
       "      <td>Pa.</td>\n",
       "      <td>1</td>\n",
       "    </tr>\n",
       "    <tr>\n",
       "      <th>1</th>\n",
       "      <td>ALBANY</td>\n",
       "      <td>ALBANY MEDICAL CENTER</td>\n",
       "      <td>NY</td>\n",
       "      <td>N.Y.</td>\n",
       "      <td>1</td>\n",
       "    </tr>\n",
       "    <tr>\n",
       "      <th>2</th>\n",
       "      <td>ALBEMARLE</td>\n",
       "      <td>ATRIUM HEALTH</td>\n",
       "      <td>NC</td>\n",
       "      <td>N.C.</td>\n",
       "      <td>2</td>\n",
       "    </tr>\n",
       "    <tr>\n",
       "      <th>3</th>\n",
       "      <td>ALBEMARLE</td>\n",
       "      <td>ATRIUM HEALTH STANLY</td>\n",
       "      <td>NC</td>\n",
       "      <td>N.C.</td>\n",
       "      <td>1</td>\n",
       "    </tr>\n",
       "    <tr>\n",
       "      <th>4</th>\n",
       "      <td>ALBUQUERQUE</td>\n",
       "      <td>CHRISTUS ST VINCENT</td>\n",
       "      <td>NM</td>\n",
       "      <td>N.M.</td>\n",
       "      <td>2</td>\n",
       "    </tr>\n",
       "  </tbody>\n",
       "</table>\n",
       "</div>"
      ],
      "text/plain": [
       "          city                facility_name place ap_name  count\n",
       "0     ABINGTON  JEFFERSON ABINGTON HOSPITAL    PA     Pa.      1\n",
       "1       ALBANY        ALBANY MEDICAL CENTER    NY    N.Y.      1\n",
       "2    ALBEMARLE                ATRIUM HEALTH    NC    N.C.      2\n",
       "3    ALBEMARLE         ATRIUM HEALTH STANLY    NC    N.C.      1\n",
       "4  ALBUQUERQUE          CHRISTUS ST VINCENT    NM    N.M.      2"
      ]
     },
     "execution_count": 26,
     "metadata": {},
     "output_type": "execute_result"
    }
   ],
   "source": [
    "usa_facilities.head()"
   ]
  },
  {
   "cell_type": "code",
   "execution_count": 27,
   "id": "bedff516-c68a-4231-9273-cd94895af873",
   "metadata": {},
   "outputs": [
    {
     "data": {
      "text/plain": [
       "297"
      ]
     },
     "execution_count": 27,
     "metadata": {},
     "output_type": "execute_result"
    }
   ],
   "source": [
    "len(usa_facilities)"
   ]
  }
 ],
 "metadata": {
  "kernelspec": {
   "display_name": "Python 3 (ipykernel)",
   "language": "python",
   "name": "python3"
  },
  "language_info": {
   "codemirror_mode": {
    "name": "ipython",
    "version": 3
   },
   "file_extension": ".py",
   "mimetype": "text/x-python",
   "name": "python",
   "nbconvert_exporter": "python",
   "pygments_lexer": "ipython3",
   "version": "3.9.9"
  }
 },
 "nbformat": 4,
 "nbformat_minor": 5
}
