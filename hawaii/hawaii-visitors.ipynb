{
 "cells": [
  {
   "cell_type": "markdown",
   "id": "e06bed8c-a494-4cbb-bafc-d6d97ffe75eb",
   "metadata": {
    "tags": []
   },
   "source": [
    "# Hawaii visitors"
   ]
  },
  {
   "cell_type": "markdown",
   "id": "bd5f1cf7-54d2-4ab5-a0da-6cbf4e25391f",
   "metadata": {},
   "source": [
    "### Import Python tools and Jupyter configuration"
   ]
  },
  {
   "cell_type": "code",
   "execution_count": 1,
   "id": "6f73f8d4-8080-4d81-9873-26dccaf9bd7c",
   "metadata": {},
   "outputs": [],
   "source": [
    "%load_ext lab_black"
   ]
  },
  {
   "cell_type": "code",
   "execution_count": 2,
   "id": "dac39a35-80c2-4c25-876c-296eee3cfcf4",
   "metadata": {},
   "outputs": [],
   "source": [
    "import pandas as pd\n",
    "import altair as alt\n",
    "import altair_latimes as lat\n",
    "import datetime as dt\n",
    "import glob\n",
    "import os"
   ]
  },
  {
   "cell_type": "code",
   "execution_count": 3,
   "id": "f09ad8e8-a505-46df-9c36-e0e12bcc4638",
   "metadata": {},
   "outputs": [],
   "source": [
    "pd.options.display.max_columns = 100\n",
    "pd.options.display.max_rows = 1000\n",
    "alt.data_transformers.disable_max_rows()\n",
    "pd.options.display.max_colwidth = None"
   ]
  },
  {
   "cell_type": "code",
   "execution_count": 59,
   "id": "906f7a43-cba6-411f-8547-1044194e8b7b",
   "metadata": {},
   "outputs": [],
   "source": [
    "today = dt.datetime.today().strftime(\"%Y-%m-%d\")"
   ]
  },
  {
   "cell_type": "markdown",
   "id": "92ca57ed-c636-4de2-9168-ec73ceb2cacf",
   "metadata": {},
   "source": [
    "---"
   ]
  },
  {
   "cell_type": "markdown",
   "id": "1b8305f7-68d6-43a0-ad1a-24fcbcd7a553",
   "metadata": {},
   "source": [
    "### Read the [downloaded data](http://dbedt.hawaii.gov/visitor/tourismdata/) and transpose it"
   ]
  },
  {
   "cell_type": "code",
   "execution_count": 83,
   "id": "974d1cd2-4632-435e-ba33-da32e7867d8f",
   "metadata": {},
   "outputs": [],
   "source": [
    "src = pd.read_csv(\"data/raw/monthly-total-visitors.csv\").T"
   ]
  },
  {
   "cell_type": "markdown",
   "id": "97467dd2-8c03-4e42-9ae7-809522078924",
   "metadata": {},
   "source": [
    "### Remove unwanted data rows, drop and rename columns"
   ]
  },
  {
   "cell_type": "code",
   "execution_count": 84,
   "id": "e0dd1ad8-ed62-4dd6-8b25-2e2ad9404da3",
   "metadata": {},
   "outputs": [],
   "source": [
    "src = src.iloc[4:].reset_index()"
   ]
  },
  {
   "cell_type": "code",
   "execution_count": 85,
   "id": "73603a6d-f593-48d6-9590-39480a2c7f8b",
   "metadata": {},
   "outputs": [],
   "source": [
    "src.drop([1, 2, 3, 4], axis=1, inplace=True)"
   ]
  },
  {
   "cell_type": "code",
   "execution_count": 86,
   "id": "65860eca-c941-4bc1-af47-7f50817eef6a",
   "metadata": {},
   "outputs": [],
   "source": [
    "src.rename(columns={\"index\": \"month\", 0: \"visitors\"}, inplace=True)"
   ]
  },
  {
   "cell_type": "markdown",
   "id": "eed31d67-c63b-442b-b24d-cb4a0b98f12e",
   "metadata": {},
   "source": [
    "### Get visitors, month columns in a format we can use"
   ]
  },
  {
   "cell_type": "code",
   "execution_count": 95,
   "id": "3db67424-1233-4e14-8d9b-1c781a121299",
   "metadata": {},
   "outputs": [],
   "source": [
    "src[\"visitors\"] = src[\"visitors\"].str.replace(\",\", \"\", regex=False)"
   ]
  },
  {
   "cell_type": "code",
   "execution_count": 96,
   "id": "64e8786d-d1f5-4bbc-9ce3-3f52aaedeac9",
   "metadata": {},
   "outputs": [],
   "source": [
    "src[\"month\"] = pd.to_datetime(src[\"month\"])"
   ]
  }
 ],
 "metadata": {
  "kernelspec": {
   "display_name": "Python 3 (ipykernel)",
   "language": "python",
   "name": "python3"
  },
  "language_info": {
   "codemirror_mode": {
    "name": "ipython",
    "version": 3
   },
   "file_extension": ".py",
   "mimetype": "text/x-python",
   "name": "python",
   "nbconvert_exporter": "python",
   "pygments_lexer": "ipython3",
   "version": "3.8.11"
  }
 },
 "nbformat": 4,
 "nbformat_minor": 5
}
