{
 "cells": [
  {
   "cell_type": "markdown",
   "metadata": {
    "tags": []
   },
   "source": [
    "# White House visitor logs"
   ]
  },
  {
   "cell_type": "markdown",
   "metadata": {},
   "source": [
    "### Import Python tools and Jupyter configuration"
   ]
  },
  {
   "cell_type": "code",
   "execution_count": 1,
   "metadata": {},
   "outputs": [],
   "source": [
    "%load_ext lab_black"
   ]
  },
  {
   "cell_type": "code",
   "execution_count": 2,
   "metadata": {},
   "outputs": [],
   "source": [
    "import pandas as pd\n",
    "import requests\n",
    "from bs4 import BeautifulSoup\n",
    "import re\n",
    "import datetime as dt\n",
    "import glob"
   ]
  },
  {
   "cell_type": "markdown",
   "metadata": {},
   "source": [
    "### Read the page to find links to the raw data"
   ]
  },
  {
   "cell_type": "code",
   "execution_count": 3,
   "metadata": {},
   "outputs": [],
   "source": [
    "r = requests.get(\"https://www.whitehouse.gov/disclosures/visitor-logs/\")\n",
    "soup = BeautifulSoup(r.text, \"html.parser\")"
   ]
  },
  {
   "cell_type": "code",
   "execution_count": 4,
   "metadata": {},
   "outputs": [],
   "source": [
    "links = [a.get(\"href\") for a in soup.find_all(\"a\", href=re.compile(\".csv\"))]"
   ]
  },
  {
   "cell_type": "code",
   "execution_count": 5,
   "metadata": {},
   "outputs": [],
   "source": [
    "for link in links:\n",
    "    !wget -P 'data/raw/csv' {link} --quiet -N"
   ]
  },
  {
   "cell_type": "code",
   "execution_count": 6,
   "metadata": {},
   "outputs": [],
   "source": [
    "path = \"data/raw/csv/\"\n",
    "all_files = glob.glob(path + \"*.csv\")\n",
    "\n",
    "li = []\n",
    "\n",
    "for filename in all_files:\n",
    "    df = pd.read_csv(filename, index_col=None, header=0)\n",
    "    li.append(df)\n",
    "\n",
    "src = pd.concat(li, axis=0, ignore_index=True)"
   ]
  },
  {
   "cell_type": "markdown",
   "metadata": {},
   "source": [
    "### Clean up the columns"
   ]
  },
  {
   "cell_type": "code",
   "execution_count": 7,
   "metadata": {},
   "outputs": [],
   "source": [
    "src.columns = src.columns.str.lower()"
   ]
  },
  {
   "cell_type": "code",
   "execution_count": 8,
   "metadata": {},
   "outputs": [],
   "source": [
    "src = src[src.columns.drop(list(src.filter(regex=\"unnamed\")))]"
   ]
  },
  {
   "cell_type": "code",
   "execution_count": 9,
   "metadata": {},
   "outputs": [
    {
     "data": {
      "text/html": [
       "<div>\n",
       "<style scoped>\n",
       "    .dataframe tbody tr th:only-of-type {\n",
       "        vertical-align: middle;\n",
       "    }\n",
       "\n",
       "    .dataframe tbody tr th {\n",
       "        vertical-align: top;\n",
       "    }\n",
       "\n",
       "    .dataframe thead th {\n",
       "        text-align: right;\n",
       "    }\n",
       "</style>\n",
       "<table border=\"1\" class=\"dataframe\">\n",
       "  <thead>\n",
       "    <tr style=\"text-align: right;\">\n",
       "      <th></th>\n",
       "      <th>namelast</th>\n",
       "      <th>namefirst</th>\n",
       "      <th>namemid</th>\n",
       "      <th>uin</th>\n",
       "      <th>bdgnbr</th>\n",
       "      <th>access_type</th>\n",
       "      <th>toa</th>\n",
       "      <th>poa</th>\n",
       "      <th>tod</th>\n",
       "      <th>pod</th>\n",
       "      <th>...</th>\n",
       "      <th>terminal_suffix</th>\n",
       "      <th>visitee_namelast</th>\n",
       "      <th>visitee_namefirst</th>\n",
       "      <th>meeting_loc</th>\n",
       "      <th>meeting_room</th>\n",
       "      <th>caller_name_last</th>\n",
       "      <th>caller_name_first</th>\n",
       "      <th>caller_room</th>\n",
       "      <th>description</th>\n",
       "      <th>releasedate</th>\n",
       "    </tr>\n",
       "  </thead>\n",
       "  <tbody>\n",
       "    <tr>\n",
       "      <th>0</th>\n",
       "      <td>SAWYER</td>\n",
       "      <td>LISA</td>\n",
       "      <td>C</td>\n",
       "      <td>U21530</td>\n",
       "      <td>176981.0</td>\n",
       "      <td>VA</td>\n",
       "      <td>3/1/21 0:00</td>\n",
       "      <td>B0401</td>\n",
       "      <td>3/1/2021</td>\n",
       "      <td>B04</td>\n",
       "      <td>...</td>\n",
       "      <td>GW</td>\n",
       "      <td>McEldowney</td>\n",
       "      <td>Nancy</td>\n",
       "      <td>OEOB</td>\n",
       "      <td>206</td>\n",
       "      <td>WOOLFOLK</td>\n",
       "      <td>GARLAND</td>\n",
       "      <td>NaN</td>\n",
       "      <td>NaN</td>\n",
       "      <td>6/29/2021</td>\n",
       "    </tr>\n",
       "    <tr>\n",
       "      <th>1</th>\n",
       "      <td>SMITH</td>\n",
       "      <td>JULIANNE</td>\n",
       "      <td>C</td>\n",
       "      <td>U21493</td>\n",
       "      <td>176848.0</td>\n",
       "      <td>VA</td>\n",
       "      <td>3/1/21 7:34</td>\n",
       "      <td>B0401</td>\n",
       "      <td>3/1/2021</td>\n",
       "      <td>B04</td>\n",
       "      <td>...</td>\n",
       "      <td>JD</td>\n",
       "      <td>Lang</td>\n",
       "      <td>Kimberly</td>\n",
       "      <td>WH</td>\n",
       "      <td>WW Room 13</td>\n",
       "      <td>DAVIS</td>\n",
       "      <td>JOVANNA</td>\n",
       "      <td>NaN</td>\n",
       "      <td>NaN</td>\n",
       "      <td>6/29/2021</td>\n",
       "    </tr>\n",
       "    <tr>\n",
       "      <th>2</th>\n",
       "      <td>GREENE</td>\n",
       "      <td>JEFFREY</td>\n",
       "      <td>E</td>\n",
       "      <td>U21500</td>\n",
       "      <td>176453.0</td>\n",
       "      <td>VA</td>\n",
       "      <td>3/1/21 8:48</td>\n",
       "      <td>B0401</td>\n",
       "      <td>NaN</td>\n",
       "      <td>NaN</td>\n",
       "      <td>...</td>\n",
       "      <td>JD</td>\n",
       "      <td>Carroll</td>\n",
       "      <td>James</td>\n",
       "      <td>OEOB</td>\n",
       "      <td>311</td>\n",
       "      <td>DAVIS</td>\n",
       "      <td>JOVANNA</td>\n",
       "      <td>NaN</td>\n",
       "      <td>NaN</td>\n",
       "      <td>6/29/2021</td>\n",
       "    </tr>\n",
       "    <tr>\n",
       "      <th>3</th>\n",
       "      <td>HENSON</td>\n",
       "      <td>JEFFREY</td>\n",
       "      <td>A</td>\n",
       "      <td>U21443</td>\n",
       "      <td>NaN</td>\n",
       "      <td>VA</td>\n",
       "      <td>NaN</td>\n",
       "      <td>NaN</td>\n",
       "      <td>NaN</td>\n",
       "      <td>NaN</td>\n",
       "      <td>...</td>\n",
       "      <td>LS</td>\n",
       "      <td>Askins</td>\n",
       "      <td>Michael</td>\n",
       "      <td>NEOB</td>\n",
       "      <td>320</td>\n",
       "      <td>SCATLIFFE</td>\n",
       "      <td>LIONEL</td>\n",
       "      <td>NaN</td>\n",
       "      <td>NaN</td>\n",
       "      <td>6/29/2021</td>\n",
       "    </tr>\n",
       "    <tr>\n",
       "      <th>4</th>\n",
       "      <td>ROSSETTI</td>\n",
       "      <td>MICHAEL</td>\n",
       "      <td>N</td>\n",
       "      <td>U21494</td>\n",
       "      <td>176356.0</td>\n",
       "      <td>VA</td>\n",
       "      <td>3/1/21 8:42</td>\n",
       "      <td>B0401</td>\n",
       "      <td>3/1/2021</td>\n",
       "      <td>D03</td>\n",
       "      <td>...</td>\n",
       "      <td>AL</td>\n",
       "      <td>Labitzky</td>\n",
       "      <td>Andre</td>\n",
       "      <td>OEOB</td>\n",
       "      <td>21</td>\n",
       "      <td>LABITZKY</td>\n",
       "      <td>ANDRE</td>\n",
       "      <td>NaN</td>\n",
       "      <td>NaN</td>\n",
       "      <td>6/29/2021</td>\n",
       "    </tr>\n",
       "  </tbody>\n",
       "</table>\n",
       "<p>5 rows × 28 columns</p>\n",
       "</div>"
      ],
      "text/plain": [
       "   namelast namefirst namemid     uin    bdgnbr access_type          toa  \\\n",
       "0    SAWYER      LISA       C  U21530  176981.0          VA  3/1/21 0:00   \n",
       "1     SMITH  JULIANNE       C  U21493  176848.0          VA  3/1/21 7:34   \n",
       "2    GREENE   JEFFREY       E  U21500  176453.0          VA  3/1/21 8:48   \n",
       "3    HENSON   JEFFREY       A  U21443       NaN          VA          NaN   \n",
       "4  ROSSETTI   MICHAEL       N  U21494  176356.0          VA  3/1/21 8:42   \n",
       "\n",
       "     poa       tod  pod  ... terminal_suffix visitee_namelast  \\\n",
       "0  B0401  3/1/2021  B04  ...              GW       McEldowney   \n",
       "1  B0401  3/1/2021  B04  ...              JD             Lang   \n",
       "2  B0401       NaN  NaN  ...              JD          Carroll   \n",
       "3    NaN       NaN  NaN  ...              LS           Askins   \n",
       "4  B0401  3/1/2021  D03  ...              AL         Labitzky   \n",
       "\n",
       "  visitee_namefirst meeting_loc  meeting_room caller_name_last  \\\n",
       "0             Nancy        OEOB           206         WOOLFOLK   \n",
       "1          Kimberly          WH    WW Room 13            DAVIS   \n",
       "2             James        OEOB           311            DAVIS   \n",
       "3           Michael        NEOB           320        SCATLIFFE   \n",
       "4             Andre        OEOB            21         LABITZKY   \n",
       "\n",
       "  caller_name_first caller_room description releasedate  \n",
       "0           GARLAND         NaN         NaN   6/29/2021  \n",
       "1           JOVANNA         NaN         NaN   6/29/2021  \n",
       "2           JOVANNA         NaN         NaN   6/29/2021  \n",
       "3            LIONEL         NaN         NaN   6/29/2021  \n",
       "4             ANDRE         NaN         NaN   6/29/2021  \n",
       "\n",
       "[5 rows x 28 columns]"
      ]
     },
     "execution_count": 9,
     "metadata": {},
     "output_type": "execute_result"
    }
   ],
   "source": [
    "src.head()"
   ]
  },
  {
   "cell_type": "markdown",
   "metadata": {},
   "source": [
    "### Real dates"
   ]
  },
  {
   "cell_type": "code",
   "execution_count": 10,
   "metadata": {},
   "outputs": [],
   "source": [
    "date_cols = [\n",
    "    \"appt_made_date\",\n",
    "    \"appt_start_date\",\n",
    "    \"appt_end_date\",\n",
    "    \"appt_cancel_date\",\n",
    "    \"releasedate\",\n",
    "]"
   ]
  },
  {
   "cell_type": "code",
   "execution_count": 11,
   "metadata": {},
   "outputs": [],
   "source": [
    "src[date_cols] = src[date_cols].applymap(lambda x: pd.to_datetime(x))"
   ]
  },
  {
   "cell_type": "markdown",
   "metadata": {},
   "source": [
    "### The dataframe has inconsitent casing. Let's make it all upper for grouping later. "
   ]
  },
  {
   "cell_type": "code",
   "execution_count": 12,
   "metadata": {},
   "outputs": [],
   "source": [
    "src[\n",
    "    [\n",
    "        \"namelast\",\n",
    "        \"namefirst\",\n",
    "        \"namemid\",\n",
    "        \"uin\",\n",
    "        \"access_type\",\n",
    "        \"toa\",\n",
    "        \"poa\",\n",
    "        \"tod\",\n",
    "        \"pod\",\n",
    "        \"last_updatedby\",\n",
    "        \"post\",\n",
    "        \"lastentrydate\",\n",
    "        \"terminal_suffix\",\n",
    "        \"visitee_namelast\",\n",
    "        \"visitee_namefirst\",\n",
    "        \"meeting_loc\",\n",
    "        \"meeting_room\",\n",
    "        \"caller_name_last\",\n",
    "        \"caller_name_first\",\n",
    "        \"description\",\n",
    "    ]\n",
    "] = src[\n",
    "    [\n",
    "        \"namelast\",\n",
    "        \"namefirst\",\n",
    "        \"namemid\",\n",
    "        \"uin\",\n",
    "        \"access_type\",\n",
    "        \"toa\",\n",
    "        \"poa\",\n",
    "        \"tod\",\n",
    "        \"pod\",\n",
    "        \"last_updatedby\",\n",
    "        \"post\",\n",
    "        \"lastentrydate\",\n",
    "        \"terminal_suffix\",\n",
    "        \"visitee_namelast\",\n",
    "        \"visitee_namefirst\",\n",
    "        \"meeting_loc\",\n",
    "        \"meeting_room\",\n",
    "        \"caller_name_last\",\n",
    "        \"caller_name_first\",\n",
    "        \"description\",\n",
    "    ]\n",
    "].apply(\n",
    "    lambda x: x.astype(str).str.upper()\n",
    ")"
   ]
  },
  {
   "cell_type": "code",
   "execution_count": 13,
   "metadata": {},
   "outputs": [],
   "source": [
    "df = src.copy()"
   ]
  },
  {
   "cell_type": "markdown",
   "metadata": {},
   "source": [
    "---"
   ]
  },
  {
   "cell_type": "markdown",
   "metadata": {},
   "source": [
    "## Exports"
   ]
  },
  {
   "cell_type": "code",
   "execution_count": 14,
   "metadata": {},
   "outputs": [],
   "source": [
    "today = dt.date.today().strftime(\"%m-%d-%Y\")"
   ]
  },
  {
   "cell_type": "code",
   "execution_count": 15,
   "metadata": {},
   "outputs": [],
   "source": [
    "df.to_csv(\"data/processed/log_\" + today + \".csv\", index=False)\n",
    "df.to_csv(\"data/processed/log_latest.csv\", index=False)\n",
    "src.to_csv(\"data/raw/log_\" + today + \".csv\", index=False)"
   ]
  }
 ],
 "metadata": {
  "kernelspec": {
   "display_name": "Python 3 (ipykernel)",
   "language": "python",
   "name": "python3"
  },
  "language_info": {
   "codemirror_mode": {
    "name": "ipython",
    "version": 3
   },
   "file_extension": ".py",
   "mimetype": "text/x-python",
   "name": "python",
   "nbconvert_exporter": "python",
   "pygments_lexer": "ipython3",
   "version": "3.8.11"
  }
 },
 "nbformat": 4,
 "nbformat_minor": 4
}
