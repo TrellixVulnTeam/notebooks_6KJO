{
 "cells": [
  {
   "cell_type": "markdown",
   "metadata": {
    "tags": []
   },
   "source": [
    "# White House visitor logs"
   ]
  },
  {
   "cell_type": "markdown",
   "metadata": {},
   "source": [
    "### Import Python tools and Jupyter configuration"
   ]
  },
  {
   "cell_type": "code",
   "execution_count": 1,
   "metadata": {},
   "outputs": [],
   "source": [
    "%load_ext lab_black"
   ]
  },
  {
   "cell_type": "code",
   "execution_count": 2,
   "metadata": {},
   "outputs": [],
   "source": [
    "import pandas as pd\n",
    "import requests\n",
    "from bs4 import BeautifulSoup\n",
    "import re\n",
    "import datetime as dt\n",
    "import glob"
   ]
  },
  {
   "cell_type": "markdown",
   "metadata": {},
   "source": [
    "### Read the page to find links to the raw data"
   ]
  },
  {
   "cell_type": "code",
   "execution_count": 3,
   "metadata": {},
   "outputs": [],
   "source": [
    "r = requests.get(\"https://www.whitehouse.gov/disclosures/visitor-logs/\")\n",
    "soup = BeautifulSoup(r.text, \"html.parser\")"
   ]
  },
  {
   "cell_type": "code",
   "execution_count": 4,
   "metadata": {},
   "outputs": [],
   "source": [
    "links = [a.get(\"href\") for a in soup.find_all(\"a\", href=re.compile(\".csv\"))]"
   ]
  },
  {
   "cell_type": "code",
   "execution_count": 5,
   "metadata": {},
   "outputs": [],
   "source": [
    "for link in links:\n",
    "    !wget -P 'data/raw/csv' {link} --quiet -N"
   ]
  },
  {
   "cell_type": "code",
   "execution_count": 6,
   "metadata": {},
   "outputs": [],
   "source": [
    "path = \"data/raw/csv/\"\n",
    "all_files = glob.glob(path + \"*.csv\")\n",
    "\n",
    "li = []\n",
    "\n",
    "for filename in all_files:\n",
    "    df = pd.read_csv(filename, index_col=None, header=0)\n",
    "    li.append(df)\n",
    "\n",
    "src = pd.concat(li, axis=0, ignore_index=True)"
   ]
  },
  {
   "cell_type": "markdown",
   "metadata": {},
   "source": [
    "### Clean up the columns"
   ]
  },
  {
   "cell_type": "code",
   "execution_count": 7,
   "metadata": {},
   "outputs": [],
   "source": [
    "src.columns = src.columns.str.lower()"
   ]
  },
  {
   "cell_type": "code",
   "execution_count": 8,
   "metadata": {},
   "outputs": [],
   "source": [
    "src = src[src.columns.drop(list(src.filter(regex=\"unnamed\")))]"
   ]
  },
  {
   "cell_type": "code",
   "execution_count": 19,
   "metadata": {},
   "outputs": [],
   "source": [
    "src = src.sort_values(\"releasedate\", ascending=False)"
   ]
  },
  {
   "cell_type": "code",
   "execution_count": 20,
   "metadata": {},
   "outputs": [
    {
     "data": {
      "text/html": [
       "<div>\n",
       "<style scoped>\n",
       "    .dataframe tbody tr th:only-of-type {\n",
       "        vertical-align: middle;\n",
       "    }\n",
       "\n",
       "    .dataframe tbody tr th {\n",
       "        vertical-align: top;\n",
       "    }\n",
       "\n",
       "    .dataframe thead th {\n",
       "        text-align: right;\n",
       "    }\n",
       "</style>\n",
       "<table border=\"1\" class=\"dataframe\">\n",
       "  <thead>\n",
       "    <tr style=\"text-align: right;\">\n",
       "      <th></th>\n",
       "      <th>namelast</th>\n",
       "      <th>namefirst</th>\n",
       "      <th>namemid</th>\n",
       "      <th>uin</th>\n",
       "      <th>bdgnbr</th>\n",
       "      <th>access_type</th>\n",
       "      <th>toa</th>\n",
       "      <th>poa</th>\n",
       "      <th>tod</th>\n",
       "      <th>pod</th>\n",
       "      <th>...</th>\n",
       "      <th>terminal_suffix</th>\n",
       "      <th>visitee_namelast</th>\n",
       "      <th>visitee_namefirst</th>\n",
       "      <th>meeting_loc</th>\n",
       "      <th>meeting_room</th>\n",
       "      <th>caller_name_last</th>\n",
       "      <th>caller_name_first</th>\n",
       "      <th>caller_room</th>\n",
       "      <th>description</th>\n",
       "      <th>releasedate</th>\n",
       "    </tr>\n",
       "  </thead>\n",
       "  <tbody>\n",
       "    <tr>\n",
       "      <th>7897</th>\n",
       "      <td>FRESHWATER</td>\n",
       "      <td>MARGARET</td>\n",
       "      <td>E</td>\n",
       "      <td>U30571</td>\n",
       "      <td>NaN</td>\n",
       "      <td>VA</td>\n",
       "      <td>NAN</td>\n",
       "      <td>NAN</td>\n",
       "      <td>NAN</td>\n",
       "      <td>NAN</td>\n",
       "      <td>...</td>\n",
       "      <td>NF</td>\n",
       "      <td>FASANO</td>\n",
       "      <td>NICOLE</td>\n",
       "      <td>WH</td>\n",
       "      <td>WEST WING</td>\n",
       "      <td>FASANO</td>\n",
       "      <td>NICOLE</td>\n",
       "      <td>NaN</td>\n",
       "      <td>NAN</td>\n",
       "      <td>2021-12-03</td>\n",
       "    </tr>\n",
       "    <tr>\n",
       "      <th>6630</th>\n",
       "      <td>COMER</td>\n",
       "      <td>SIERRA</td>\n",
       "      <td>D</td>\n",
       "      <td>U29829</td>\n",
       "      <td>182219.0</td>\n",
       "      <td>VA</td>\n",
       "      <td>8/10/21 10:25</td>\n",
       "      <td>NAN</td>\n",
       "      <td>NAN</td>\n",
       "      <td>A0101</td>\n",
       "      <td>...</td>\n",
       "      <td>JB</td>\n",
       "      <td>BOTELLO</td>\n",
       "      <td>JOHN</td>\n",
       "      <td>WH</td>\n",
       "      <td>EXECUTIVE</td>\n",
       "      <td>BOTELLO</td>\n",
       "      <td>JOHN</td>\n",
       "      <td>NaN</td>\n",
       "      <td>NAN</td>\n",
       "      <td>2021-12-03</td>\n",
       "    </tr>\n",
       "    <tr>\n",
       "      <th>6632</th>\n",
       "      <td>FASHOLA</td>\n",
       "      <td>KEVIN</td>\n",
       "      <td>A</td>\n",
       "      <td>U29783</td>\n",
       "      <td>177416.0</td>\n",
       "      <td>VA</td>\n",
       "      <td>8/10/21 12:47</td>\n",
       "      <td>NAN</td>\n",
       "      <td>NAN</td>\n",
       "      <td>NAN</td>\n",
       "      <td>...</td>\n",
       "      <td>JP</td>\n",
       "      <td>BRISTER</td>\n",
       "      <td>PAUL</td>\n",
       "      <td>OEOB</td>\n",
       "      <td>351</td>\n",
       "      <td>PRINT</td>\n",
       "      <td>JOSHUA</td>\n",
       "      <td>NaN</td>\n",
       "      <td>NAN</td>\n",
       "      <td>2021-12-03</td>\n",
       "    </tr>\n",
       "    <tr>\n",
       "      <th>6633</th>\n",
       "      <td>FISHER</td>\n",
       "      <td>MATTHEW</td>\n",
       "      <td>D</td>\n",
       "      <td>U29786</td>\n",
       "      <td>183221.0</td>\n",
       "      <td>VA</td>\n",
       "      <td>8/10/21 13:38</td>\n",
       "      <td>NAN</td>\n",
       "      <td>NAN</td>\n",
       "      <td>NAN</td>\n",
       "      <td>...</td>\n",
       "      <td>JB</td>\n",
       "      <td>BOTELLO</td>\n",
       "      <td>JOHN</td>\n",
       "      <td>WH</td>\n",
       "      <td>EXR-STATE</td>\n",
       "      <td>BOTELLO</td>\n",
       "      <td>JOHN</td>\n",
       "      <td>NaN</td>\n",
       "      <td>NAN</td>\n",
       "      <td>2021-12-03</td>\n",
       "    </tr>\n",
       "    <tr>\n",
       "      <th>6634</th>\n",
       "      <td>GOMEZFONT</td>\n",
       "      <td>RAMON</td>\n",
       "      <td>N</td>\n",
       "      <td>U29765</td>\n",
       "      <td>177928.0</td>\n",
       "      <td>VA</td>\n",
       "      <td>8/10/21 15:47</td>\n",
       "      <td>NAN</td>\n",
       "      <td>NAN</td>\n",
       "      <td>B04</td>\n",
       "      <td>...</td>\n",
       "      <td>EB</td>\n",
       "      <td>POETHIG</td>\n",
       "      <td>ERIKA</td>\n",
       "      <td>OEOB</td>\n",
       "      <td>194</td>\n",
       "      <td>BROWN</td>\n",
       "      <td>ELIZABETH</td>\n",
       "      <td>NaN</td>\n",
       "      <td>NAN</td>\n",
       "      <td>2021-12-03</td>\n",
       "    </tr>\n",
       "  </tbody>\n",
       "</table>\n",
       "<p>5 rows × 28 columns</p>\n",
       "</div>"
      ],
      "text/plain": [
       "        namelast namefirst namemid     uin    bdgnbr access_type  \\\n",
       "7897  FRESHWATER  MARGARET       E  U30571       NaN          VA   \n",
       "6630       COMER    SIERRA       D  U29829  182219.0          VA   \n",
       "6632     FASHOLA     KEVIN       A  U29783  177416.0          VA   \n",
       "6633      FISHER   MATTHEW       D  U29786  183221.0          VA   \n",
       "6634   GOMEZFONT     RAMON       N  U29765  177928.0          VA   \n",
       "\n",
       "                toa  poa  tod    pod  ... terminal_suffix visitee_namelast  \\\n",
       "7897            NAN  NAN  NAN    NAN  ...              NF           FASANO   \n",
       "6630  8/10/21 10:25  NAN  NAN  A0101  ...              JB          BOTELLO   \n",
       "6632  8/10/21 12:47  NAN  NAN    NAN  ...              JP          BRISTER   \n",
       "6633  8/10/21 13:38  NAN  NAN    NAN  ...              JB          BOTELLO   \n",
       "6634  8/10/21 15:47  NAN  NAN    B04  ...              EB          POETHIG   \n",
       "\n",
       "     visitee_namefirst meeting_loc  meeting_room caller_name_last  \\\n",
       "7897            NICOLE          WH     WEST WING           FASANO   \n",
       "6630              JOHN          WH     EXECUTIVE          BOTELLO   \n",
       "6632              PAUL        OEOB           351            PRINT   \n",
       "6633              JOHN          WH     EXR-STATE          BOTELLO   \n",
       "6634             ERIKA        OEOB           194            BROWN   \n",
       "\n",
       "     caller_name_first caller_room description releasedate  \n",
       "7897            NICOLE         NaN         NAN  2021-12-03  \n",
       "6630              JOHN         NaN         NAN  2021-12-03  \n",
       "6632            JOSHUA         NaN         NAN  2021-12-03  \n",
       "6633              JOHN         NaN         NAN  2021-12-03  \n",
       "6634         ELIZABETH         NaN         NAN  2021-12-03  \n",
       "\n",
       "[5 rows x 28 columns]"
      ]
     },
     "execution_count": 20,
     "metadata": {},
     "output_type": "execute_result"
    }
   ],
   "source": [
    "src.head()"
   ]
  },
  {
   "cell_type": "markdown",
   "metadata": {},
   "source": [
    "### Real dates"
   ]
  },
  {
   "cell_type": "code",
   "execution_count": 10,
   "metadata": {},
   "outputs": [],
   "source": [
    "date_cols = [\n",
    "    \"appt_made_date\",\n",
    "    \"appt_start_date\",\n",
    "    \"appt_end_date\",\n",
    "    \"appt_cancel_date\",\n",
    "    \"releasedate\",\n",
    "]"
   ]
  },
  {
   "cell_type": "code",
   "execution_count": 11,
   "metadata": {},
   "outputs": [],
   "source": [
    "src[date_cols] = src[date_cols].applymap(lambda x: pd.to_datetime(x))"
   ]
  },
  {
   "cell_type": "markdown",
   "metadata": {},
   "source": [
    "### The dataframe has inconsitent casing. Let's make it all upper for grouping later. "
   ]
  },
  {
   "cell_type": "code",
   "execution_count": 12,
   "metadata": {},
   "outputs": [],
   "source": [
    "src[\n",
    "    [\n",
    "        \"namelast\",\n",
    "        \"namefirst\",\n",
    "        \"namemid\",\n",
    "        \"uin\",\n",
    "        \"access_type\",\n",
    "        \"toa\",\n",
    "        \"poa\",\n",
    "        \"tod\",\n",
    "        \"pod\",\n",
    "        \"last_updatedby\",\n",
    "        \"post\",\n",
    "        \"lastentrydate\",\n",
    "        \"terminal_suffix\",\n",
    "        \"visitee_namelast\",\n",
    "        \"visitee_namefirst\",\n",
    "        \"meeting_loc\",\n",
    "        \"meeting_room\",\n",
    "        \"caller_name_last\",\n",
    "        \"caller_name_first\",\n",
    "        \"description\",\n",
    "    ]\n",
    "] = src[\n",
    "    [\n",
    "        \"namelast\",\n",
    "        \"namefirst\",\n",
    "        \"namemid\",\n",
    "        \"uin\",\n",
    "        \"access_type\",\n",
    "        \"toa\",\n",
    "        \"poa\",\n",
    "        \"tod\",\n",
    "        \"pod\",\n",
    "        \"last_updatedby\",\n",
    "        \"post\",\n",
    "        \"lastentrydate\",\n",
    "        \"terminal_suffix\",\n",
    "        \"visitee_namelast\",\n",
    "        \"visitee_namefirst\",\n",
    "        \"meeting_loc\",\n",
    "        \"meeting_room\",\n",
    "        \"caller_name_last\",\n",
    "        \"caller_name_first\",\n",
    "        \"description\",\n",
    "    ]\n",
    "].apply(\n",
    "    lambda x: x.astype(str).str.upper()\n",
    ")"
   ]
  },
  {
   "cell_type": "code",
   "execution_count": 13,
   "metadata": {},
   "outputs": [],
   "source": [
    "df = src.copy()"
   ]
  },
  {
   "cell_type": "markdown",
   "metadata": {},
   "source": [
    "---"
   ]
  },
  {
   "cell_type": "markdown",
   "metadata": {},
   "source": [
    "## Exports"
   ]
  },
  {
   "cell_type": "code",
   "execution_count": 14,
   "metadata": {},
   "outputs": [],
   "source": [
    "today = dt.date.today().strftime(\"%m-%d-%Y\")"
   ]
  },
  {
   "cell_type": "code",
   "execution_count": 15,
   "metadata": {},
   "outputs": [],
   "source": [
    "df.to_csv(\"data/processed/log_\" + today + \".csv\", index=False)\n",
    "df.to_csv(\"data/processed/log_latest.csv\", index=False)\n",
    "src.to_csv(\"data/raw/log_\" + today + \".csv\", index=False)"
   ]
  }
 ],
 "metadata": {
  "kernelspec": {
   "display_name": "Python 3 (ipykernel)",
   "language": "python",
   "name": "python3"
  },
  "language_info": {
   "codemirror_mode": {
    "name": "ipython",
    "version": 3
   },
   "file_extension": ".py",
   "mimetype": "text/x-python",
   "name": "python",
   "nbconvert_exporter": "python",
   "pygments_lexer": "ipython3",
   "version": "3.8.9"
  }
 },
 "nbformat": 4,
 "nbformat_minor": 4
}
