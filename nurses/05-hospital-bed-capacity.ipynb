{
 "cells": [
  {
   "cell_type": "code",
   "execution_count": 1,
   "id": "9c1ebc08-ce59-4855-8798-2eabc8499149",
   "metadata": {},
   "outputs": [],
   "source": [
    "import pandas as pd"
   ]
  },
  {
   "cell_type": "code",
   "execution_count": 2,
   "id": "898e87fe-3665-4ba1-bf5e-9c7e051c36b1",
   "metadata": {},
   "outputs": [],
   "source": [
    "from datawrapper import Datawrapper\n",
    "\n",
    "dw = Datawrapper(\n",
    "    access_token=\"FtIwtvFtoGLaRT9a3gjX69PLu4wSuRyKddoOz6SOPw3k9wWyNICMHTkcPhOGCR5Z\"\n",
    ")"
   ]
  },
  {
   "cell_type": "code",
   "execution_count": 3,
   "id": "0c0a2f63-a162-47d8-b35e-250139eb0460",
   "metadata": {},
   "outputs": [],
   "source": [
    "pd.set_option('display.max_rows', 1000)\n",
    "pd.set_option('display.max_columns', 1000)\n",
    "pd.set_option('display.width', 1000)"
   ]
  },
  {
   "cell_type": "code",
   "execution_count": 4,
   "id": "0f61b74d-4e5a-4e06-98c9-9a9561656a05",
   "metadata": {},
   "outputs": [],
   "source": [
    "hospital_capacity=pd.read_csv('https://healthdata.gov/api/views/g62h-syeh/rows.csv?accessType=DOWNLOAD')"
   ]
  },
  {
   "cell_type": "code",
   "execution_count": 5,
   "id": "68932b4a-5af3-4873-abfc-57f65f6a0589",
   "metadata": {},
   "outputs": [],
   "source": [
    "hospital_capacity.date=pd.to_datetime(hospital_capacity.date)"
   ]
  },
  {
   "cell_type": "code",
   "execution_count": 6,
   "id": "500751e1-387d-4421-9b82-5959112d818c",
   "metadata": {},
   "outputs": [],
   "source": [
    "bed_capacity=hospital_capacity[['state', 'date', 'critical_staffing_shortage_today_yes', 'critical_staffing_shortage_today_no', 'inpatient_beds_used_covid',\n",
    "                   'inpatient_bed_covid_utilization_numerator', 'inpatient_bed_covid_utilization_denominator',\n",
    "                  'inpatient_bed_covid_utilization_coverage']]"
   ]
  },
  {
   "cell_type": "code",
   "execution_count": 7,
   "id": "59d7e7b2-2861-4a94-9a34-ae7e0f57c858",
   "metadata": {},
   "outputs": [],
   "source": [
    "drop_states= ['PR','AS','VI']"
   ]
  },
  {
   "cell_type": "code",
   "execution_count": 8,
   "id": "f36dca6d-64ec-4f9a-9cf1-b020393143ad",
   "metadata": {},
   "outputs": [],
   "source": [
    "bed_capacity=bed_capacity[-bed_capacity['state'].isin(drop_states)]"
   ]
  },
  {
   "cell_type": "code",
   "execution_count": 9,
   "id": "ceeeb42e-0385-40e3-9c8b-cc17b3f7a749",
   "metadata": {},
   "outputs": [],
   "source": [
    "natl_capacity=bed_capacity.groupby('date').sum()"
   ]
  },
  {
   "cell_type": "code",
   "execution_count": 10,
   "id": "35257de3-9f81-496f-8f88-5e54cc9926f4",
   "metadata": {},
   "outputs": [],
   "source": [
    "natl_capacity['pct_utilization']=natl_capacity.inpatient_bed_covid_utilization_numerator/natl_capacity.inpatient_bed_covid_utilization_denominator"
   ]
  },
  {
   "cell_type": "code",
   "execution_count": 11,
   "id": "3ba47d8b-e7c5-4963-b88b-68360652fc55",
   "metadata": {},
   "outputs": [],
   "source": [
    "nurse_demand=pd.read_excel('data/raw/travelnurses_updated')"
   ]
  },
  {
   "cell_type": "code",
   "execution_count": 13,
   "id": "7e933119-e4c2-451b-9793-ab4efefd7301",
   "metadata": {},
   "outputs": [],
   "source": [
    "nurse_demand.columns=nurse_demand.columns.str.lower()"
   ]
  },
  {
   "cell_type": "code",
   "execution_count": 14,
   "id": "11df7e7f-7b0d-4ba2-8588-3898aed19c27",
   "metadata": {},
   "outputs": [],
   "source": [
    "nurses_and_beds = natl_capacity.merge(nurse_demand, on=\"date\")"
   ]
  },
  {
   "cell_type": "code",
   "execution_count": 15,
   "id": "b08d9d21-deaf-478a-a07a-53bb5eddf43f",
   "metadata": {},
   "outputs": [
    {
     "data": {
      "text/plain": [
       "<Response [204]>"
      ]
     },
     "execution_count": 15,
     "metadata": {},
     "output_type": "execute_result"
    }
   ],
   "source": [
    "dw.add_data(chart_id=\"GUvTF\", data=nurses_and_beds)"
   ]
  },
  {
   "cell_type": "code",
   "execution_count": null,
   "id": "3b783774-8650-4c75-8eb6-11a1b40edb6b",
   "metadata": {},
   "outputs": [],
   "source": []
  }
 ],
 "metadata": {
  "kernelspec": {
   "display_name": "Python 3 (ipykernel)",
   "language": "python",
   "name": "python3"
  },
  "language_info": {
   "codemirror_mode": {
    "name": "ipython",
    "version": 3
   },
   "file_extension": ".py",
   "mimetype": "text/x-python",
   "name": "python",
   "nbconvert_exporter": "python",
   "pygments_lexer": "ipython3",
   "version": "3.8.9"
  }
 },
 "nbformat": 4,
 "nbformat_minor": 5
}
