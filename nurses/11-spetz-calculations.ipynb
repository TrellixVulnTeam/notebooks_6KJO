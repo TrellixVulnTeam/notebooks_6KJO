{
 "cells": [
  {
   "cell_type": "code",
   "execution_count": 1,
   "id": "a39d69ad-3903-4182-9afa-7e4ea7567731",
   "metadata": {},
   "outputs": [
    {
     "data": {
      "text/plain": [
       "19540.0"
      ]
     },
     "execution_count": 1,
     "metadata": {},
     "output_type": "execute_result"
    }
   ],
   "source": [
    "## projected employment change 2021 2031 195,400\n",
    "# annual change\n",
    "195400/10"
   ]
  },
  {
   "cell_type": "code",
   "execution_count": 2,
   "id": "165e8288-378b-4eca-b9ba-8a72e64ee120",
   "metadata": {},
   "outputs": [
    {
     "data": {
      "text/plain": [
       "187836.0"
      ]
     },
     "execution_count": 2,
     "metadata": {},
     "output_type": "execute_result"
    }
   ],
   "source": [
    "## projected growth over the decade is 6 percent\n",
    "## current jobs 3,130,600\n",
    "## increase in jobs over the ten years\n",
    "3130600*0.06"
   ]
  },
  {
   "cell_type": "code",
   "execution_count": 3,
   "id": "4e231d6b-baff-4191-9358-17238af24062",
   "metadata": {},
   "outputs": [
    {
     "data": {
      "text/plain": [
       "18783.6"
      ]
     },
     "execution_count": 3,
     "metadata": {},
     "output_type": "execute_result"
    }
   ],
   "source": [
    "## annual projected increase in jobs \n",
    "187836.0/10"
   ]
  },
  {
   "cell_type": "code",
   "execution_count": 4,
   "id": "a3c4afee-63be-477f-aea9-fc3b18bf8962",
   "metadata": {},
   "outputs": [
    {
     "data": {
      "text/plain": [
       "184416.4"
      ]
     },
     "execution_count": 4,
     "metadata": {},
     "output_type": "execute_result"
    }
   ],
   "source": [
    "## projected annual job openings 203,200\n",
    "## annual openings less projected annual new jobs (projected openings from quits rather than growth)\n",
    "203200-18783.6"
   ]
  },
  {
   "cell_type": "code",
   "execution_count": null,
   "id": "bf559acc-9df0-4741-80f4-3aa8eac9122e",
   "metadata": {},
   "outputs": [],
   "source": []
  }
 ],
 "metadata": {
  "kernelspec": {
   "display_name": "Python 3 (ipykernel)",
   "language": "python",
   "name": "python3"
  },
  "language_info": {
   "codemirror_mode": {
    "name": "ipython",
    "version": 3
   },
   "file_extension": ".py",
   "mimetype": "text/x-python",
   "name": "python",
   "nbconvert_exporter": "python",
   "pygments_lexer": "ipython3",
   "version": "3.9.13"
  }
 },
 "nbformat": 4,
 "nbformat_minor": 5
}
