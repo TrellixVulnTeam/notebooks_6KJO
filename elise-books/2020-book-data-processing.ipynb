{
 "cells": [
  {
   "cell_type": "markdown",
   "metadata": {},
   "source": [
    "# Elise Hu: 2020 books"
   ]
  },
  {
   "cell_type": "markdown",
   "metadata": {},
   "source": [
    "Quick analysis of the books she read last year."
   ]
  },
  {
   "cell_type": "markdown",
   "metadata": {},
   "source": [
    "### Load Python tools "
   ]
  },
  {
   "cell_type": "code",
   "execution_count": 2,
   "metadata": {},
   "outputs": [],
   "source": [
    "import pandas as pd\n",
    "import geopandas as gpd\n",
    "from urllib.request import urlopen \n",
    "import jenkspy\n",
    "import matplotlib.pyplot as plt\n",
    "%matplotlib inline\n",
    "import json\n",
    "import numpy as np\n",
    "from altair import datum\n",
    "import altair as alt"
   ]
  },
  {
   "cell_type": "code",
   "execution_count": 3,
   "metadata": {},
   "outputs": [
    {
     "data": {
      "text/plain": [
       "ThemeRegistry.enable('vox')"
      ]
     },
     "execution_count": 3,
     "metadata": {},
     "output_type": "execute_result"
    }
   ],
   "source": [
    "alt.themes.enable('vox')"
   ]
  },
  {
   "cell_type": "code",
   "execution_count": 4,
   "metadata": {},
   "outputs": [],
   "source": [
    "plt.rcParams['figure.figsize'] = (16,8)"
   ]
  },
  {
   "cell_type": "code",
   "execution_count": 5,
   "metadata": {},
   "outputs": [
    {
     "data": {
      "text/plain": [
       "DataTransformerRegistry.enable('default')"
      ]
     },
     "execution_count": 5,
     "metadata": {},
     "output_type": "execute_result"
    }
   ],
   "source": [
    "pd.options.display.max_columns = 50\n",
    "pd.options.display.max_rows = 1000\n",
    "alt.data_transformers.disable_max_rows()"
   ]
  },
  {
   "cell_type": "code",
   "execution_count": 6,
   "metadata": {},
   "outputs": [],
   "source": [
    "pd.options.display.float_format = '{:,.2f}'.format"
   ]
  },
  {
   "cell_type": "markdown",
   "metadata": {},
   "source": [
    "### Read book data from Elise"
   ]
  },
  {
   "cell_type": "code",
   "execution_count": 7,
   "metadata": {},
   "outputs": [],
   "source": [
    "url = 'https://spreadsheets.google.com/feeds/download/spreadsheets/Export?key=1Y2lvWJE1pRjvG6e-mJcpXDeANh9EK0nWHJEQIoJrOHM&exportFormat=csv'"
   ]
  },
  {
   "cell_type": "code",
   "execution_count": 8,
   "metadata": {},
   "outputs": [],
   "source": [
    "# src = pd.read_csv(url, parse_dates=True, infer_datetime_format=True)"
   ]
  },
  {
   "cell_type": "code",
   "execution_count": 9,
   "metadata": {},
   "outputs": [],
   "source": [
    "src = pd.read_excel('input/elise-2020-books.xls')"
   ]
  },
  {
   "cell_type": "code",
   "execution_count": 10,
   "metadata": {},
   "outputs": [
    {
     "data": {
      "text/plain": [
       "Order                            int64\n",
       "Title                           object\n",
       "Author                          object\n",
       "Pages                          float64\n",
       "URL                             object\n",
       "gender                          object\n",
       "type                            object\n",
       "Subgenre                        object\n",
       "Avg GoodReads Rating           float64\n",
       "Started                 datetime64[ns]\n",
       "date                    datetime64[ns]\n",
       "Faves                           object\n",
       "dtype: object"
      ]
     },
     "execution_count": 10,
     "metadata": {},
     "output_type": "execute_result"
    }
   ],
   "source": [
    "src.dtypes"
   ]
  },
  {
   "cell_type": "markdown",
   "metadata": {},
   "source": [
    "### Clean up field headers, data types"
   ]
  },
  {
   "cell_type": "code",
   "execution_count": 11,
   "metadata": {},
   "outputs": [
    {
     "name": "stderr",
     "output_type": "stream",
     "text": [
      "/var/folders/hm/zcc9d9vn2q15_wh0_0k06ckw0000gn/T/ipykernel_77846/1306375702.py:1: FutureWarning: The default value of regex will change from True to False in a future version. In addition, single character regular expressions will *not* be treated as literal strings when regex=True.\n",
      "  src.columns = src.columns.str.strip().str.lower().str.replace(' ', '_').str.replace('(', '').str.replace(')', '').str.replace('-','_')\n"
     ]
    }
   ],
   "source": [
    "src.columns = src.columns.str.strip().str.lower().str.replace(' ', '_').str.replace('(', '').str.replace(')', '').str.replace('-','_')"
   ]
  },
  {
   "cell_type": "code",
   "execution_count": 12,
   "metadata": {},
   "outputs": [],
   "source": [
    "src['year'] = src['date'].dt.year.astype(str).str.replace('.0','',regex=False)"
   ]
  },
  {
   "cell_type": "code",
   "execution_count": 13,
   "metadata": {},
   "outputs": [],
   "source": [
    "src['type'] = src['type'].str.replace(' ', '-')"
   ]
  },
  {
   "cell_type": "code",
   "execution_count": 14,
   "metadata": {},
   "outputs": [],
   "source": [
    "src['days_to_read'] = src['date'] - src['started']"
   ]
  },
  {
   "cell_type": "markdown",
   "metadata": {},
   "source": [
    "### Make gender more descriptive, calculate number of reading days"
   ]
  },
  {
   "cell_type": "code",
   "execution_count": 15,
   "metadata": {},
   "outputs": [],
   "source": [
    "src['gender_description'] = src.gender.replace({'M': 'Male', 'F': 'Female'})"
   ]
  },
  {
   "cell_type": "code",
   "execution_count": 16,
   "metadata": {},
   "outputs": [],
   "source": [
    "src['days_to_read'] = src['days_to_read'].dt.days"
   ]
  },
  {
   "cell_type": "markdown",
   "metadata": {},
   "source": [
    "### Now start fresh with a dataframe called 'books'"
   ]
  },
  {
   "cell_type": "code",
   "execution_count": 17,
   "metadata": {},
   "outputs": [],
   "source": [
    "books = pd.DataFrame(src)"
   ]
  },
  {
   "cell_type": "code",
   "execution_count": 20,
   "metadata": {},
   "outputs": [
    {
     "data": {
      "text/html": [
       "<div>\n",
       "<style scoped>\n",
       "    .dataframe tbody tr th:only-of-type {\n",
       "        vertical-align: middle;\n",
       "    }\n",
       "\n",
       "    .dataframe tbody tr th {\n",
       "        vertical-align: top;\n",
       "    }\n",
       "\n",
       "    .dataframe thead th {\n",
       "        text-align: right;\n",
       "    }\n",
       "</style>\n",
       "<table border=\"1\" class=\"dataframe\">\n",
       "  <thead>\n",
       "    <tr style=\"text-align: right;\">\n",
       "      <th></th>\n",
       "      <th>order</th>\n",
       "      <th>title</th>\n",
       "      <th>author</th>\n",
       "      <th>pages</th>\n",
       "      <th>url</th>\n",
       "      <th>gender</th>\n",
       "      <th>type</th>\n",
       "      <th>subgenre</th>\n",
       "      <th>avg_goodreads_rating</th>\n",
       "      <th>started</th>\n",
       "      <th>date</th>\n",
       "      <th>faves</th>\n",
       "      <th>year</th>\n",
       "      <th>days_to_read</th>\n",
       "      <th>gender_description</th>\n",
       "    </tr>\n",
       "  </thead>\n",
       "  <tbody>\n",
       "    <tr>\n",
       "      <th>0</th>\n",
       "      <td>1</td>\n",
       "      <td>How to Do Nothing</td>\n",
       "      <td>Jenny Odell</td>\n",
       "      <td>240.00</td>\n",
       "      <td>https://www.goodreads.com/author/show/18614151...</td>\n",
       "      <td>F</td>\n",
       "      <td>Non-Fiction</td>\n",
       "      <td>Self Help</td>\n",
       "      <td>3.97</td>\n",
       "      <td>2019-12-25</td>\n",
       "      <td>2020-01-06</td>\n",
       "      <td>NaN</td>\n",
       "      <td>2020</td>\n",
       "      <td>12</td>\n",
       "      <td>Female</td>\n",
       "    </tr>\n",
       "    <tr>\n",
       "      <th>1</th>\n",
       "      <td>2</td>\n",
       "      <td>Becoming Wise</td>\n",
       "      <td>Krista Tippett</td>\n",
       "      <td>288.00</td>\n",
       "      <td>https://www.goodreads.com/book/show/25894085-b...</td>\n",
       "      <td>F</td>\n",
       "      <td>Non-Fiction</td>\n",
       "      <td>Spirituality</td>\n",
       "      <td>4.15</td>\n",
       "      <td>2020-01-01</td>\n",
       "      <td>2020-01-12</td>\n",
       "      <td>Y</td>\n",
       "      <td>2020</td>\n",
       "      <td>11</td>\n",
       "      <td>Female</td>\n",
       "    </tr>\n",
       "    <tr>\n",
       "      <th>2</th>\n",
       "      <td>3</td>\n",
       "      <td>Rework</td>\n",
       "      <td>Jason Fried, David Hansson</td>\n",
       "      <td>279.00</td>\n",
       "      <td>https://www.goodreads.com/book/show/6732019-re...</td>\n",
       "      <td>M</td>\n",
       "      <td>Non-Fiction</td>\n",
       "      <td>Business</td>\n",
       "      <td>3.94</td>\n",
       "      <td>2020-01-12</td>\n",
       "      <td>2020-01-17</td>\n",
       "      <td>NaN</td>\n",
       "      <td>2020</td>\n",
       "      <td>5</td>\n",
       "      <td>Male</td>\n",
       "    </tr>\n",
       "    <tr>\n",
       "      <th>3</th>\n",
       "      <td>4</td>\n",
       "      <td>Minor Feelings</td>\n",
       "      <td>Cathy Park Hong</td>\n",
       "      <td>224.00</td>\n",
       "      <td>https://www.goodreads.com/book/show/47544177-m...</td>\n",
       "      <td>F</td>\n",
       "      <td>Non-Fiction</td>\n",
       "      <td>Essays</td>\n",
       "      <td>4.53</td>\n",
       "      <td>2020-01-14</td>\n",
       "      <td>2020-01-26</td>\n",
       "      <td>NaN</td>\n",
       "      <td>2020</td>\n",
       "      <td>12</td>\n",
       "      <td>Female</td>\n",
       "    </tr>\n",
       "    <tr>\n",
       "      <th>4</th>\n",
       "      <td>5</td>\n",
       "      <td>The Idiot</td>\n",
       "      <td>Elif Batuman</td>\n",
       "      <td>423.00</td>\n",
       "      <td>https://www.goodreads.com/book/show/30962053-t...</td>\n",
       "      <td>F</td>\n",
       "      <td>Fiction</td>\n",
       "      <td>historical</td>\n",
       "      <td>3.63</td>\n",
       "      <td>2020-01-25</td>\n",
       "      <td>2020-02-02</td>\n",
       "      <td>NaN</td>\n",
       "      <td>2020</td>\n",
       "      <td>8</td>\n",
       "      <td>Female</td>\n",
       "    </tr>\n",
       "  </tbody>\n",
       "</table>\n",
       "</div>"
      ],
      "text/plain": [
       "   order              title                      author  pages  \\\n",
       "0      1  How to Do Nothing                 Jenny Odell 240.00   \n",
       "1      2      Becoming Wise              Krista Tippett 288.00   \n",
       "2      3            Rework   Jason Fried, David Hansson 279.00   \n",
       "3      4     Minor Feelings             Cathy Park Hong 224.00   \n",
       "4      5          The Idiot                Elif Batuman 423.00   \n",
       "\n",
       "                                                 url gender         type  \\\n",
       "0  https://www.goodreads.com/author/show/18614151...      F  Non-Fiction   \n",
       "1  https://www.goodreads.com/book/show/25894085-b...      F  Non-Fiction   \n",
       "2  https://www.goodreads.com/book/show/6732019-re...      M  Non-Fiction   \n",
       "3  https://www.goodreads.com/book/show/47544177-m...      F  Non-Fiction   \n",
       "4  https://www.goodreads.com/book/show/30962053-t...      F      Fiction   \n",
       "\n",
       "       subgenre  avg_goodreads_rating    started       date faves  year  \\\n",
       "0     Self Help                  3.97 2019-12-25 2020-01-06   NaN  2020   \n",
       "1  Spirituality                  4.15 2020-01-01 2020-01-12     Y  2020   \n",
       "2      Business                  3.94 2020-01-12 2020-01-17   NaN  2020   \n",
       "3        Essays                  4.53 2020-01-14 2020-01-26   NaN  2020   \n",
       "4    historical                  3.63 2020-01-25 2020-02-02   NaN  2020   \n",
       "\n",
       "   days_to_read gender_description  \n",
       "0            12             Female  \n",
       "1            11             Female  \n",
       "2             5               Male  \n",
       "3            12             Female  \n",
       "4             8             Female  "
      ]
     },
     "execution_count": 20,
     "metadata": {},
     "output_type": "execute_result"
    }
   ],
   "source": [
    "books.head()"
   ]
  },
  {
   "cell_type": "markdown",
   "metadata": {},
   "source": [
    "### When did Elise finish her books?"
   ]
  },
  {
   "cell_type": "code",
   "execution_count": 18,
   "metadata": {},
   "outputs": [
    {
     "data": {
      "text/html": [
       "\n",
       "<div id=\"altair-viz-8a742a7716934f629d7a9e8a6d7386f9\"></div>\n",
       "<script type=\"text/javascript\">\n",
       "  (function(spec, embedOpt){\n",
       "    let outputDiv = document.currentScript.previousElementSibling;\n",
       "    if (outputDiv.id !== \"altair-viz-8a742a7716934f629d7a9e8a6d7386f9\") {\n",
       "      outputDiv = document.getElementById(\"altair-viz-8a742a7716934f629d7a9e8a6d7386f9\");\n",
       "    }\n",
       "    const paths = {\n",
       "      \"vega\": \"https://cdn.jsdelivr.net/npm//vega@5?noext\",\n",
       "      \"vega-lib\": \"https://cdn.jsdelivr.net/npm//vega-lib?noext\",\n",
       "      \"vega-lite\": \"https://cdn.jsdelivr.net/npm//vega-lite@4.8.1?noext\",\n",
       "      \"vega-embed\": \"https://cdn.jsdelivr.net/npm//vega-embed@6?noext\",\n",
       "    };\n",
       "\n",
       "    function loadScript(lib) {\n",
       "      return new Promise(function(resolve, reject) {\n",
       "        var s = document.createElement('script');\n",
       "        s.src = paths[lib];\n",
       "        s.async = true;\n",
       "        s.onload = () => resolve(paths[lib]);\n",
       "        s.onerror = () => reject(`Error loading script: ${paths[lib]}`);\n",
       "        document.getElementsByTagName(\"head\")[0].appendChild(s);\n",
       "      });\n",
       "    }\n",
       "\n",
       "    function showError(err) {\n",
       "      outputDiv.innerHTML = `<div class=\"error\" style=\"color:red;\">${err}</div>`;\n",
       "      throw err;\n",
       "    }\n",
       "\n",
       "    function displayChart(vegaEmbed) {\n",
       "      vegaEmbed(outputDiv, spec, embedOpt)\n",
       "        .catch(err => showError(`Javascript Error: ${err.message}<br>This usually means there's a typo in your chart specification. See the javascript console for the full traceback.`));\n",
       "    }\n",
       "\n",
       "    if(typeof define === \"function\" && define.amd) {\n",
       "      requirejs.config({paths});\n",
       "      require([\"vega-embed\"], displayChart, err => showError(`Error loading script: ${err.message}`));\n",
       "    } else if (typeof vegaEmbed === \"function\") {\n",
       "      displayChart(vegaEmbed);\n",
       "    } else {\n",
       "      loadScript(\"vega\")\n",
       "        .then(() => loadScript(\"vega-lite\"))\n",
       "        .then(() => loadScript(\"vega-embed\"))\n",
       "        .catch(showError)\n",
       "        .then(() => displayChart(vegaEmbed));\n",
       "    }\n",
       "  })({\"usermeta\": {\"embedOptions\": {\"theme\": \"vox\"}}, \"config\": {\"view\": {\"continuousWidth\": 400, \"continuousHeight\": 300}, \"axis\": {\"grid\": false}}, \"data\": {\"name\": \"data-8e391cabd5bc49dcb5a9fe358321c344\"}, \"mark\": {\"type\": \"tick\", \"size\": 20, \"thickness\": 2}, \"encoding\": {\"x\": {\"type\": \"temporal\", \"axis\": {\"format\": \"%b\", \"tickColor\": \"#ffffff\", \"tickCount\": 12}, \"field\": \"date\", \"title\": \"\"}, \"y\": {\"type\": \"nominal\", \"axis\": {\"tickColor\": \"#ffffff\", \"tickCount\": 0}, \"field\": \"year\", \"title\": \" \"}}, \"height\": 40, \"width\": 700, \"$schema\": \"https://vega.github.io/schema/vega-lite/v4.8.1.json\", \"datasets\": {\"data-8e391cabd5bc49dcb5a9fe358321c344\": [{\"order\": 1, \"title\": \"How to Do Nothing\", \"author\": \"Jenny Odell\", \"pages\": 240.0, \"url\": \"https://www.goodreads.com/author/show/18614151.Jenny_Odell\", \"gender\": \"F\", \"type\": \"Non-Fiction\", \"subgenre\": \"Self Help\", \"avg_goodreads_rating\": 3.97, \"started\": \"2019-12-25T00:00:00\", \"date\": \"2020-01-06T00:00:00\", \"faves\": null, \"year\": \"2020\", \"days_to_read\": 12, \"gender_description\": \"Female\"}, {\"order\": 2, \"title\": \"Becoming Wise\", \"author\": \"Krista Tippett\", \"pages\": 288.0, \"url\": \"https://www.goodreads.com/book/show/25894085-becoming-wise\", \"gender\": \"F\", \"type\": \"Non-Fiction\", \"subgenre\": \"Spirituality\", \"avg_goodreads_rating\": 4.15, \"started\": \"2020-01-01T00:00:00\", \"date\": \"2020-01-12T00:00:00\", \"faves\": \"Y\", \"year\": \"2020\", \"days_to_read\": 11, \"gender_description\": \"Female\"}, {\"order\": 3, \"title\": \"Rework \", \"author\": \"Jason Fried, David Hansson\", \"pages\": 279.0, \"url\": \"https://www.goodreads.com/book/show/6732019-rework?from_search=true&qid=TeHru4l6OG&rank=1\", \"gender\": \"M\", \"type\": \"Non-Fiction\", \"subgenre\": \"Business\", \"avg_goodreads_rating\": 3.94, \"started\": \"2020-01-12T00:00:00\", \"date\": \"2020-01-17T00:00:00\", \"faves\": null, \"year\": \"2020\", \"days_to_read\": 5, \"gender_description\": \"Male\"}, {\"order\": 4, \"title\": \"Minor Feelings\", \"author\": \"Cathy Park Hong\", \"pages\": 224.0, \"url\": \"https://www.goodreads.com/book/show/47544177-minor-feelings?from_search=true&qid=YwgnVM0MaX&rank=1\", \"gender\": \"F\", \"type\": \"Non-Fiction\", \"subgenre\": \"Essays\", \"avg_goodreads_rating\": 4.53, \"started\": \"2020-01-14T00:00:00\", \"date\": \"2020-01-26T00:00:00\", \"faves\": null, \"year\": \"2020\", \"days_to_read\": 12, \"gender_description\": \"Female\"}, {\"order\": 5, \"title\": \"The Idiot\", \"author\": \"Elif Batuman\", \"pages\": 423.0, \"url\": \"https://www.goodreads.com/book/show/30962053-the-idiot\", \"gender\": \"F\", \"type\": \"Fiction\", \"subgenre\": \"historical\", \"avg_goodreads_rating\": 3.63, \"started\": \"2020-01-25T00:00:00\", \"date\": \"2020-02-02T00:00:00\", \"faves\": null, \"year\": \"2020\", \"days_to_read\": 8, \"gender_description\": \"Female\"}, {\"order\": 6, \"title\": \"If I Had Your Face\", \"author\": \"Frances Cha\", \"pages\": 288.0, \"url\": \"https://www.goodreads.com/book/show/47548925-if-i-had-your-face?from_search=true&qid=c3Iw9aiNTi&rank=1\", \"gender\": \"F\", \"type\": \"Fiction\", \"subgenre\": \"Contemporary\", \"avg_goodreads_rating\": 3.97, \"started\": \"2020-02-02T00:00:00\", \"date\": \"2020-02-06T00:00:00\", \"faves\": null, \"year\": \"2020\", \"days_to_read\": 4, \"gender_description\": \"Female\"}, {\"order\": 7, \"title\": \"Topics of Conversation\", \"author\": \"Miranda Popkey\", \"pages\": 224.0, \"url\": \"https://www.goodreads.com/book/show/45754997-topics-of-conversation?from_search=true&qid=F1d5R6meaf&rank=1\", \"gender\": \"F\", \"type\": \"Fiction\", \"subgenre\": \"Contemporary\", \"avg_goodreads_rating\": 2.83, \"started\": \"2020-02-06T00:00:00\", \"date\": \"2020-02-12T00:00:00\", \"faves\": null, \"year\": \"2020\", \"days_to_read\": 6, \"gender_description\": \"Female\"}, {\"order\": 8, \"title\": \"Bluets\", \"author\": \"Maggie Nelson\", \"pages\": 98.0, \"url\": \"https://www.goodreads.com/book/show/6798263-bluets\", \"gender\": \"F\", \"type\": \"Non-Fiction\", \"subgenre\": \"Poetry\", \"avg_goodreads_rating\": 4.26, \"started\": \"2020-02-12T00:00:00\", \"date\": \"2020-02-16T00:00:00\", \"faves\": null, \"year\": \"2020\", \"days_to_read\": 4, \"gender_description\": \"Female\"}, {\"order\": 9, \"title\": \"I Believe in a Thing Called Love\", \"author\": \"Maurene Goo\", \"pages\": 336.0, \"url\": \"https://www.goodreads.com/book/show/31145133-i-believe-in-a-thing-called-love\", \"gender\": \"F\", \"type\": \"Fiction\", \"subgenre\": \"Young Adult\", \"avg_goodreads_rating\": 3.66, \"started\": \"2020-02-23T00:00:00\", \"date\": \"2020-03-11T00:00:00\", \"faves\": null, \"year\": \"2020\", \"days_to_read\": 17, \"gender_description\": \"Female\"}, {\"order\": 10, \"title\": \"Untamed\", \"author\": \"Glennon Doyle\", \"pages\": 352.0, \"url\": \"https://www.goodreads.com/book/show/52129515-untamed\", \"gender\": \"F\", \"type\": \"Non-Fiction\", \"subgenre\": \"Memoir\", \"avg_goodreads_rating\": 4.46, \"started\": \"2020-03-07T00:00:00\", \"date\": \"2020-03-12T00:00:00\", \"faves\": null, \"year\": \"2020\", \"days_to_read\": 5, \"gender_description\": \"Female\"}, {\"order\": 11, \"title\": \"Red, White and Royal Blue\", \"author\": \"Casey McQuiston\", \"pages\": 421.0, \"url\": \"https://www.goodreads.com/book/show/41150487-red-white-royal-blue\", \"gender\": \"F\", \"type\": \"Fiction\", \"subgenre\": \"Romance\", \"avg_goodreads_rating\": 4.31, \"started\": \"2020-03-12T00:00:00\", \"date\": \"2020-03-20T00:00:00\", \"faves\": null, \"year\": \"2020\", \"days_to_read\": 8, \"gender_description\": \"Female\"}, {\"order\": 12, \"title\": \"Bird by Bird: Some Instructions on Writing and Life\", \"author\": \"Anne Lamott\", \"pages\": 237.0, \"url\": \"https://www.goodreads.com/book/show/12543.Bird_by_Bird\", \"gender\": \"F\", \"type\": \"Non-Fiction\", \"subgenre\": \"Writing\", \"avg_goodreads_rating\": 4.23, \"started\": \"2020-03-21T00:00:00\", \"date\": \"2020-03-31T00:00:00\", \"faves\": \"Y\", \"year\": \"2020\", \"days_to_read\": 10, \"gender_description\": \"Female\"}, {\"order\": 13, \"title\": \"Cleanness\", \"author\": \"Garth Greenwell\", \"pages\": 240.0, \"url\": \"https://www.goodreads.com/book/show/45892271-cleanness?ac=1&from_search=true&qid=ornMVFsX93&rank=2\", \"gender\": \"M\", \"type\": \"Fiction\", \"subgenre\": \"Contemporary\", \"avg_goodreads_rating\": 4.05, \"started\": \"2020-03-31T00:00:00\", \"date\": \"2020-04-06T00:00:00\", \"faves\": null, \"year\": \"2020\", \"days_to_read\": 6, \"gender_description\": \"Male\"}, {\"order\": 14, \"title\": \"The Bridges of Madison County\", \"author\": \"Robert James Waller\", \"pages\": 221.0, \"url\": \"https://www.goodreads.com/book/show/83674.The_Bridges_of_Madison_County\", \"gender\": \"M\", \"type\": \"Fiction\", \"subgenre\": \"Contemporary\", \"avg_goodreads_rating\": 3.61, \"started\": \"2020-04-08T00:00:00\", \"date\": \"2020-04-11T00:00:00\", \"faves\": null, \"year\": \"2020\", \"days_to_read\": 3, \"gender_description\": \"Male\"}, {\"order\": 15, \"title\": \"Super Attractor\", \"author\": \"Gabrielle Bernstein\", \"pages\": 248.0, \"url\": \"https://www.goodreads.com/book/show/43496426-super-attractor?from_search=true&from_srp=true&qid=sRtfi9Txub&rank=1\", \"gender\": \"F\", \"type\": \"Non-Fiction\", \"subgenre\": \"Self Help\", \"avg_goodreads_rating\": 4.18, \"started\": \"2020-04-11T00:00:00\", \"date\": \"2020-04-22T00:00:00\", \"faves\": null, \"year\": \"2020\", \"days_to_read\": 11, \"gender_description\": \"Female\"}, {\"order\": 16, \"title\": \"Felix Ever After\", \"author\": \"Kacen Callender\", \"pages\": 354.0, \"url\": \"https://www.goodreads.com/book/show/51931067-felix-ever-after?from_search=true&from_srp=true&qid=ssQYTzSgHg&rank=1\", \"gender\": \"M\", \"type\": \"Fiction\", \"subgenre\": \"Young Adult\", \"avg_goodreads_rating\": 4.46, \"started\": \"2020-05-12T00:00:00\", \"date\": \"2020-05-14T00:00:00\", \"faves\": null, \"year\": \"2020\", \"days_to_read\": 2, \"gender_description\": \"Male\"}, {\"order\": 17, \"title\": \"Days of Distraction\", \"author\": \"Alexandra Chang\", \"pages\": 312.0, \"url\": \"https://www.goodreads.com/book/show/52973514-days-of-distraction?from_search=true&from_srp=true&qid=zLGt916iHW&rank=1\", \"gender\": \"F\", \"type\": \"Fiction\", \"subgenre\": \"Contemporary\", \"avg_goodreads_rating\": 3.66, \"started\": \"2020-04-12T00:00:00\", \"date\": \"2020-05-17T00:00:00\", \"faves\": null, \"year\": \"2020\", \"days_to_read\": 35, \"gender_description\": \"Female\"}, {\"order\": 18, \"title\": \"wow, no thank you.\", \"author\": \"Samantha Irby\", \"pages\": 288.0, \"url\": \"https://www.goodreads.com/book/show/52844646-wow-no-thank-you\", \"gender\": \"F\", \"type\": \"Non-Fiction\", \"subgenre\": \"Essays\", \"avg_goodreads_rating\": 4.13, \"started\": \"2020-04-05T00:00:00\", \"date\": \"2020-06-15T00:00:00\", \"faves\": \"Y\", \"year\": \"2020\", \"days_to_read\": 71, \"gender_description\": \"Female\"}, {\"order\": 19, \"title\": \"How Much of These Hills Is Gold\", \"author\": \"C. Pam Zhang\", \"pages\": 288.0, \"url\": \"https://www.goodreads.com/book/show/45895362-how-much-of-these-hills-is-gold?from_search=true&from_srp=true&qid=rMvIru31RB&rank=1\", \"gender\": \"F\", \"type\": \"Fiction\", \"subgenre\": \"historical\", \"avg_goodreads_rating\": 3.86, \"started\": \"2020-05-22T00:00:00\", \"date\": \"2020-06-01T00:00:00\", \"faves\": null, \"year\": \"2020\", \"days_to_read\": 10, \"gender_description\": \"Female\"}, {\"order\": 20, \"title\": \"Between the World and Me\", \"author\": \"Tanehisi Coates\", \"pages\": 152.0, \"url\": \"https://www.goodreads.com/book/show/25489625-between-the-world-and-me?from_search=true&from_srp=true&qid=xvQajzPDjC&rank=1\", \"gender\": \"M\", \"type\": \"Non-Fiction\", \"subgenre\": \"Current Events\", \"avg_goodreads_rating\": 4.52, \"started\": \"2020-06-15T00:00:00\", \"date\": \"2020-06-24T00:00:00\", \"faves\": \"Y\", \"year\": \"2020\", \"days_to_read\": 9, \"gender_description\": \"Male\"}, {\"order\": 21, \"title\": \"Where the Crawdads Sing\", \"author\": \"Delia Owens\", \"pages\": 384.0, \"url\": \"https://www.goodreads.com/book/show/36809135-where-the-crawdads-sing?ac=1&from_search=true&qid=TifR2MzIpW&rank=1\", \"gender\": \"F\", \"type\": \"Fiction\", \"subgenre\": \"Contemporary\", \"avg_goodreads_rating\": 4.47, \"started\": \"2020-06-22T00:00:00\", \"date\": \"2020-06-29T00:00:00\", \"faves\": null, \"year\": \"2020\", \"days_to_read\": 7, \"gender_description\": \"Female\"}, {\"order\": 22, \"title\": \"Boys and Sex\", \"author\": \"Peggy Ornstein\", \"pages\": 304.0, \"url\": \"https://www.goodreads.com/book/show/43452877-boys-sex?from_search=true&from_srp=true&qid=TwPIaowNSU&rank=1\", \"gender\": \"F\", \"type\": \"Non-Fiction\", \"subgenre\": \"Current Events\", \"avg_goodreads_rating\": 4.24, \"started\": \"2020-04-12T00:00:00\", \"date\": \"2020-07-03T00:00:00\", \"faves\": null, \"year\": \"2020\", \"days_to_read\": 82, \"gender_description\": \"Female\"}, {\"order\": 23, \"title\": \"Someone Who Will Love You In All Your Damaged Glory\", \"author\": \"Rafael Bob Waksberg\", \"pages\": 256.0, \"url\": \"https://www.goodreads.com/book/show/41949311-someone-who-will-love-you-in-all-your-damaged-glory?ac=1&from_search=true&qid=Kr9sKqWCXh&rank=1\", \"gender\": \"M\", \"type\": \"Fiction\", \"subgenre\": \"Short Stories\", \"avg_goodreads_rating\": 4.16, \"started\": \"2020-07-08T00:00:00\", \"date\": \"2020-07-10T00:00:00\", \"faves\": \"Y\", \"year\": \"2020\", \"days_to_read\": 2, \"gender_description\": \"Male\"}, {\"order\": 24, \"title\": \"The Masters Tools Will Never DIsmantle The Master's House\", \"author\": \"Audre Lorde\", \"pages\": 64.0, \"url\": \"https://www.goodreads.com/en/book/show/38598541-the-master-s-tools-will-never-dismantle-the-master-s-house\", \"gender\": \"F\", \"type\": \"Non-Fiction\", \"subgenre\": \"Essays\", \"avg_goodreads_rating\": 4.46, \"started\": \"2020-07-15T00:00:00\", \"date\": \"2020-07-17T00:00:00\", \"faves\": \"Y\", \"year\": \"2020\", \"days_to_read\": 2, \"gender_description\": \"Female\"}, {\"order\": 25, \"title\": \"Attached\", \"author\": \"Amir Levine, Rachel SF Heller\", \"pages\": 304.0, \"url\": \"https://www.goodreads.com/book/show/9547888-attached?from_search=true&from_srp=true&qid=kdP4IdRQnC&rank=1\", \"gender\": \"F\", \"type\": \"Non-Fiction\", \"subgenre\": \"Psychology\", \"avg_goodreads_rating\": 4.14, \"started\": \"2020-07-31T00:00:00\", \"date\": \"2020-08-03T00:00:00\", \"faves\": null, \"year\": \"2020\", \"days_to_read\": 3, \"gender_description\": \"Female\"}, {\"order\": 26, \"title\": \"Listen to the Marriage\", \"author\": \"John Jay Osborn\", \"pages\": 256.0, \"url\": \"https://www.goodreads.com/book/show/37941728-listen-to-the-marriage?ac=1&from_search=true&qid=iy2rwd6WTj&rank=1\", \"gender\": \"M\", \"type\": \"Fiction\", \"subgenre\": \"Contemporary\", \"avg_goodreads_rating\": 3.51, \"started\": \"2020-08-06T00:00:00\", \"date\": \"2020-08-15T00:00:00\", \"faves\": null, \"year\": \"2020\", \"days_to_read\": 9, \"gender_description\": \"Male\"}, {\"order\": 27, \"title\": \"Jung: A Very Short Introduction\", \"author\": \"Andrew Stevens\", \"pages\": 192.0, \"url\": \"https://www.goodreads.com/book/show/297554.Jung?from_search=true&from_srp=true&qid=Jim8gejEr2&rank=1\", \"gender\": \"M\", \"type\": \"Non-Fiction\", \"subgenre\": \"History\", \"avg_goodreads_rating\": 4.07, \"started\": \"2020-09-07T00:00:00\", \"date\": \"2020-09-16T00:00:00\", \"faves\": null, \"year\": \"2020\", \"days_to_read\": 9, \"gender_description\": \"Male\"}, {\"order\": 28, \"title\": \"The First Bad Man\", \"author\": \"Miranda July\", \"pages\": 288.0, \"url\": \"https://www.goodreads.com/book/show/21412400-the-first-bad-man?from_search=true&from_srp=true&qid=8h7sxqtWHM&rank=1\", \"gender\": \"F\", \"type\": \"Fiction\", \"subgenre\": \"Contemporary\", \"avg_goodreads_rating\": 3.62, \"started\": \"2020-09-16T00:00:00\", \"date\": \"2020-09-20T00:00:00\", \"faves\": \"Y\", \"year\": \"2020\", \"days_to_read\": 4, \"gender_description\": \"Female\"}, {\"order\": 29, \"title\": \"The Drama of the Gifted Child\", \"author\": \"Alice Miller\", \"pages\": 144.0, \"url\": \"https://www.goodreads.com/book/show/24204222-the-drama-of-the-gifted-child?utm_content=review_cta_book_image&utm_medium=email&utm_source=bookend&ref_=pe_7171740_474197500\", \"gender\": \"F\", \"type\": \"Non-Fiction\", \"subgenre\": \"Psychology\", \"avg_goodreads_rating\": 4.1, \"started\": \"2020-09-27T00:00:00\", \"date\": \"2020-10-01T00:00:00\", \"faves\": null, \"year\": \"2020\", \"days_to_read\": 4, \"gender_description\": \"Female\"}, {\"order\": 30, \"title\": \"Don't Call us Dead: Poems\", \"author\": \"Danez Smith\", \"pages\": 101.0, \"url\": \"https://www.goodreads.com/book/show/35422441-don-t-call-us-dead?from_search=true&from_srp=true&qid=8qdAhd4Vlp&rank=1\", \"gender\": \"M\", \"type\": \"Poetry\", \"subgenre\": \"LGBT\", \"avg_goodreads_rating\": 4.52, \"started\": \"2020-10-01T00:00:00\", \"date\": \"2020-10-06T00:00:00\", \"faves\": \"Y\", \"year\": \"2020\", \"days_to_read\": 5, \"gender_description\": \"Male\"}, {\"order\": 31, \"title\": \"Tender is the Night\", \"author\": \"F. Scott Fitzgerald\", \"pages\": 315.0, \"url\": \"https://www.goodreads.com/book/show/46164.Tender_Is_the_Night?from_search=true&from_srp=true&qid=B8eLWQQKSX&rank=1\", \"gender\": \"M\", \"type\": \"Fiction\", \"subgenre\": \"Classic\", \"avg_goodreads_rating\": 3.81, \"started\": \"2020-10-10T00:00:00\", \"date\": \"2020-11-07T00:00:00\", \"faves\": \"Y\", \"year\": \"2020\", \"days_to_read\": 28, \"gender_description\": \"Male\"}, {\"order\": 32, \"title\": \"Heather, The Totality\", \"author\": \"Matthew Weiner\", \"pages\": 144.0, \"url\": \"https://www.goodreads.com/book/show/31933063-heather-the-totality?ac=1&from_search=true&qid=MvG8rzSUME&rank=1\", \"gender\": \"M\", \"type\": \"Fiction\", \"subgenre\": \"Contemporary\", \"avg_goodreads_rating\": 2.93, \"started\": \"2020-11-07T00:00:00\", \"date\": \"2020-11-09T00:00:00\", \"faves\": null, \"year\": \"2020\", \"days_to_read\": 2, \"gender_description\": \"Male\"}, {\"order\": 33, \"title\": \"What We Talk About When We Talk About Love\", \"author\": \"Raymond Carver\", \"pages\": 159.0, \"url\": \"https://www.goodreads.com/book/show/11438.What_We_Talk_About_When_We_Talk_About_Love?from_search=true&from_srp=true&qid=5G4xkS3EQg&rank=1\", \"gender\": \"M\", \"type\": \"Fiction\", \"subgenre\": \"Short Stories\", \"avg_goodreads_rating\": 4.15, \"started\": \"2020-10-06T00:00:00\", \"date\": \"2020-10-31T00:00:00\", \"faves\": null, \"year\": \"2020\", \"days_to_read\": 25, \"gender_description\": \"Male\"}, {\"order\": 34, \"title\": \"Never Split the Difference\", \"author\": \"Chris Voss\", \"pages\": 274.0, \"url\": \"https://www.goodreads.com/book/show/26156469-never-split-the-difference?from_search=true&from_srp=true&qid=umiLanQLHO&rank=1\", \"gender\": \"M\", \"type\": \"Non-Fiction\", \"subgenre\": \"Business\", \"avg_goodreads_rating\": 4.4, \"started\": \"2020-11-11T00:00:00\", \"date\": \"2020-11-26T00:00:00\", \"faves\": null, \"year\": \"2020\", \"days_to_read\": 15, \"gender_description\": \"Male\"}, {\"order\": 35, \"title\": \"Rapture\", \"author\": \"Susan Minot\", \"pages\": null, \"url\": \"https://www.goodreads.com/book/show/40056.Rapture\", \"gender\": \"F\", \"type\": \"Fiction\", \"subgenre\": \"Romance\", \"avg_goodreads_rating\": 2.96, \"started\": \"2020-12-02T00:00:00\", \"date\": \"2020-12-03T00:00:00\", \"faves\": null, \"year\": \"2020\", \"days_to_read\": 1, \"gender_description\": \"Female\"}, {\"order\": 36, \"title\": \"The Middle Passage\", \"author\": \"James Hollis\", \"pages\": 127.0, \"url\": \"https://www.goodreads.com/book/show/47849.The_Middle_Passage?from_search=true&from_srp=true&qid=ot6aI40sSB&rank=1\", \"gender\": \"M\", \"type\": \"Non-Fiction\", \"subgenre\": \"Psychology\", \"avg_goodreads_rating\": 4.44, \"started\": \"2020-12-15T00:00:00\", \"date\": \"2020-12-18T00:00:00\", \"faves\": \"Y\", \"year\": \"2020\", \"days_to_read\": 3, \"gender_description\": \"Male\"}, {\"order\": 37, \"title\": \"Intimacy\", \"author\": \"Hanif Kureishi\", \"pages\": 155.0, \"url\": \"https://www.goodreads.com/book/show/153418.Intimacy\", \"gender\": \"M\", \"type\": \"Fiction\", \"subgenre\": \"Contemporary\", \"avg_goodreads_rating\": 3.6, \"started\": \"2020-12-21T00:00:00\", \"date\": \"2020-12-22T00:00:00\", \"faves\": null, \"year\": \"2020\", \"days_to_read\": 1, \"gender_description\": \"Male\"}, {\"order\": 38, \"title\": \"No One Asked for This: Essays\", \"author\": \"Cazzie David\", \"pages\": 352.0, \"url\": \"https://www.goodreads.com/book/show/48930274-no-one-asked-for-this?from_search=true&from_srp=true&qid=oVY5dHZfxR&rank=1\", \"gender\": \"F\", \"type\": \"Non-Fiction\", \"subgenre\": \"Essays\", \"avg_goodreads_rating\": 3.53, \"started\": \"2020-11-27T00:00:00\", \"date\": \"2020-12-25T00:00:00\", \"faves\": null, \"year\": \"2020\", \"days_to_read\": 28, \"gender_description\": \"Female\"}, {\"order\": 39, \"title\": \"Self-Help\", \"author\": \"Lorrie Moore\", \"pages\": 163.0, \"url\": \"https://www.goodreads.com/book/show/90872.Self_Help\", \"gender\": \"F\", \"type\": \"Fiction\", \"subgenre\": \"Short Stories\", \"avg_goodreads_rating\": 4.19, \"started\": \"2020-12-26T00:00:00\", \"date\": \"2020-12-27T00:00:00\", \"faves\": \"Y\", \"year\": \"2020\", \"days_to_read\": 1, \"gender_description\": \"Female\"}]}}, {\"mode\": \"vega-lite\"});\n",
       "</script>"
      ],
      "text/plain": [
       "alt.Chart(...)"
      ]
     },
     "execution_count": 18,
     "metadata": {},
     "output_type": "execute_result"
    }
   ],
   "source": [
    "# DESKTOP \n",
    "alt.Chart(books).mark_tick(thickness=2,size=20).encode(\n",
    "    x=alt.X('date',axis=alt.Axis(tickCount=12, format='%b', tickColor='#ffffff'), title=''),\n",
    "    y=alt.Y('year',axis=alt.Axis(tickCount=0, tickColor='#ffffff'), title=' ')\n",
    ").configure_axis(\n",
    "    grid=False).properties(height=40, width=700)"
   ]
  },
  {
   "cell_type": "code",
   "execution_count": 19,
   "metadata": {},
   "outputs": [
    {
     "data": {
      "text/html": [
       "\n",
       "<div id=\"altair-viz-879afc7baa674b7890b1eb3e61eaa29b\"></div>\n",
       "<script type=\"text/javascript\">\n",
       "  (function(spec, embedOpt){\n",
       "    let outputDiv = document.currentScript.previousElementSibling;\n",
       "    if (outputDiv.id !== \"altair-viz-879afc7baa674b7890b1eb3e61eaa29b\") {\n",
       "      outputDiv = document.getElementById(\"altair-viz-879afc7baa674b7890b1eb3e61eaa29b\");\n",
       "    }\n",
       "    const paths = {\n",
       "      \"vega\": \"https://cdn.jsdelivr.net/npm//vega@5?noext\",\n",
       "      \"vega-lib\": \"https://cdn.jsdelivr.net/npm//vega-lib?noext\",\n",
       "      \"vega-lite\": \"https://cdn.jsdelivr.net/npm//vega-lite@4.8.1?noext\",\n",
       "      \"vega-embed\": \"https://cdn.jsdelivr.net/npm//vega-embed@6?noext\",\n",
       "    };\n",
       "\n",
       "    function loadScript(lib) {\n",
       "      return new Promise(function(resolve, reject) {\n",
       "        var s = document.createElement('script');\n",
       "        s.src = paths[lib];\n",
       "        s.async = true;\n",
       "        s.onload = () => resolve(paths[lib]);\n",
       "        s.onerror = () => reject(`Error loading script: ${paths[lib]}`);\n",
       "        document.getElementsByTagName(\"head\")[0].appendChild(s);\n",
       "      });\n",
       "    }\n",
       "\n",
       "    function showError(err) {\n",
       "      outputDiv.innerHTML = `<div class=\"error\" style=\"color:red;\">${err}</div>`;\n",
       "      throw err;\n",
       "    }\n",
       "\n",
       "    function displayChart(vegaEmbed) {\n",
       "      vegaEmbed(outputDiv, spec, embedOpt)\n",
       "        .catch(err => showError(`Javascript Error: ${err.message}<br>This usually means there's a typo in your chart specification. See the javascript console for the full traceback.`));\n",
       "    }\n",
       "\n",
       "    if(typeof define === \"function\" && define.amd) {\n",
       "      requirejs.config({paths});\n",
       "      require([\"vega-embed\"], displayChart, err => showError(`Error loading script: ${err.message}`));\n",
       "    } else if (typeof vegaEmbed === \"function\") {\n",
       "      displayChart(vegaEmbed);\n",
       "    } else {\n",
       "      loadScript(\"vega\")\n",
       "        .then(() => loadScript(\"vega-lite\"))\n",
       "        .then(() => loadScript(\"vega-embed\"))\n",
       "        .catch(showError)\n",
       "        .then(() => displayChart(vegaEmbed));\n",
       "    }\n",
       "  })({\"usermeta\": {\"embedOptions\": {\"theme\": \"vox\"}}, \"config\": {\"view\": {\"continuousWidth\": 400, \"continuousHeight\": 300}, \"axis\": {\"grid\": false}}, \"data\": {\"name\": \"data-8e391cabd5bc49dcb5a9fe358321c344\"}, \"mark\": {\"type\": \"tick\", \"size\": 20, \"thickness\": 2}, \"encoding\": {\"x\": {\"type\": \"temporal\", \"axis\": {\"format\": \"%b\", \"tickColor\": \"#ffffff\", \"tickCount\": 12}, \"field\": \"date\", \"title\": \"\"}, \"y\": {\"type\": \"nominal\", \"axis\": {\"tickColor\": \"#ffffff\", \"tickCount\": 0}, \"field\": \"year\", \"title\": \" \"}}, \"height\": 40, \"width\": 320, \"$schema\": \"https://vega.github.io/schema/vega-lite/v4.8.1.json\", \"datasets\": {\"data-8e391cabd5bc49dcb5a9fe358321c344\": [{\"order\": 1, \"title\": \"How to Do Nothing\", \"author\": \"Jenny Odell\", \"pages\": 240.0, \"url\": \"https://www.goodreads.com/author/show/18614151.Jenny_Odell\", \"gender\": \"F\", \"type\": \"Non-Fiction\", \"subgenre\": \"Self Help\", \"avg_goodreads_rating\": 3.97, \"started\": \"2019-12-25T00:00:00\", \"date\": \"2020-01-06T00:00:00\", \"faves\": null, \"year\": \"2020\", \"days_to_read\": 12, \"gender_description\": \"Female\"}, {\"order\": 2, \"title\": \"Becoming Wise\", \"author\": \"Krista Tippett\", \"pages\": 288.0, \"url\": \"https://www.goodreads.com/book/show/25894085-becoming-wise\", \"gender\": \"F\", \"type\": \"Non-Fiction\", \"subgenre\": \"Spirituality\", \"avg_goodreads_rating\": 4.15, \"started\": \"2020-01-01T00:00:00\", \"date\": \"2020-01-12T00:00:00\", \"faves\": \"Y\", \"year\": \"2020\", \"days_to_read\": 11, \"gender_description\": \"Female\"}, {\"order\": 3, \"title\": \"Rework \", \"author\": \"Jason Fried, David Hansson\", \"pages\": 279.0, \"url\": \"https://www.goodreads.com/book/show/6732019-rework?from_search=true&qid=TeHru4l6OG&rank=1\", \"gender\": \"M\", \"type\": \"Non-Fiction\", \"subgenre\": \"Business\", \"avg_goodreads_rating\": 3.94, \"started\": \"2020-01-12T00:00:00\", \"date\": \"2020-01-17T00:00:00\", \"faves\": null, \"year\": \"2020\", \"days_to_read\": 5, \"gender_description\": \"Male\"}, {\"order\": 4, \"title\": \"Minor Feelings\", \"author\": \"Cathy Park Hong\", \"pages\": 224.0, \"url\": \"https://www.goodreads.com/book/show/47544177-minor-feelings?from_search=true&qid=YwgnVM0MaX&rank=1\", \"gender\": \"F\", \"type\": \"Non-Fiction\", \"subgenre\": \"Essays\", \"avg_goodreads_rating\": 4.53, \"started\": \"2020-01-14T00:00:00\", \"date\": \"2020-01-26T00:00:00\", \"faves\": null, \"year\": \"2020\", \"days_to_read\": 12, \"gender_description\": \"Female\"}, {\"order\": 5, \"title\": \"The Idiot\", \"author\": \"Elif Batuman\", \"pages\": 423.0, \"url\": \"https://www.goodreads.com/book/show/30962053-the-idiot\", \"gender\": \"F\", \"type\": \"Fiction\", \"subgenre\": \"historical\", \"avg_goodreads_rating\": 3.63, \"started\": \"2020-01-25T00:00:00\", \"date\": \"2020-02-02T00:00:00\", \"faves\": null, \"year\": \"2020\", \"days_to_read\": 8, \"gender_description\": \"Female\"}, {\"order\": 6, \"title\": \"If I Had Your Face\", \"author\": \"Frances Cha\", \"pages\": 288.0, \"url\": \"https://www.goodreads.com/book/show/47548925-if-i-had-your-face?from_search=true&qid=c3Iw9aiNTi&rank=1\", \"gender\": \"F\", \"type\": \"Fiction\", \"subgenre\": \"Contemporary\", \"avg_goodreads_rating\": 3.97, \"started\": \"2020-02-02T00:00:00\", \"date\": \"2020-02-06T00:00:00\", \"faves\": null, \"year\": \"2020\", \"days_to_read\": 4, \"gender_description\": \"Female\"}, {\"order\": 7, \"title\": \"Topics of Conversation\", \"author\": \"Miranda Popkey\", \"pages\": 224.0, \"url\": \"https://www.goodreads.com/book/show/45754997-topics-of-conversation?from_search=true&qid=F1d5R6meaf&rank=1\", \"gender\": \"F\", \"type\": \"Fiction\", \"subgenre\": \"Contemporary\", \"avg_goodreads_rating\": 2.83, \"started\": \"2020-02-06T00:00:00\", \"date\": \"2020-02-12T00:00:00\", \"faves\": null, \"year\": \"2020\", \"days_to_read\": 6, \"gender_description\": \"Female\"}, {\"order\": 8, \"title\": \"Bluets\", \"author\": \"Maggie Nelson\", \"pages\": 98.0, \"url\": \"https://www.goodreads.com/book/show/6798263-bluets\", \"gender\": \"F\", \"type\": \"Non-Fiction\", \"subgenre\": \"Poetry\", \"avg_goodreads_rating\": 4.26, \"started\": \"2020-02-12T00:00:00\", \"date\": \"2020-02-16T00:00:00\", \"faves\": null, \"year\": \"2020\", \"days_to_read\": 4, \"gender_description\": \"Female\"}, {\"order\": 9, \"title\": \"I Believe in a Thing Called Love\", \"author\": \"Maurene Goo\", \"pages\": 336.0, \"url\": \"https://www.goodreads.com/book/show/31145133-i-believe-in-a-thing-called-love\", \"gender\": \"F\", \"type\": \"Fiction\", \"subgenre\": \"Young Adult\", \"avg_goodreads_rating\": 3.66, \"started\": \"2020-02-23T00:00:00\", \"date\": \"2020-03-11T00:00:00\", \"faves\": null, \"year\": \"2020\", \"days_to_read\": 17, \"gender_description\": \"Female\"}, {\"order\": 10, \"title\": \"Untamed\", \"author\": \"Glennon Doyle\", \"pages\": 352.0, \"url\": \"https://www.goodreads.com/book/show/52129515-untamed\", \"gender\": \"F\", \"type\": \"Non-Fiction\", \"subgenre\": \"Memoir\", \"avg_goodreads_rating\": 4.46, \"started\": \"2020-03-07T00:00:00\", \"date\": \"2020-03-12T00:00:00\", \"faves\": null, \"year\": \"2020\", \"days_to_read\": 5, \"gender_description\": \"Female\"}, {\"order\": 11, \"title\": \"Red, White and Royal Blue\", \"author\": \"Casey McQuiston\", \"pages\": 421.0, \"url\": \"https://www.goodreads.com/book/show/41150487-red-white-royal-blue\", \"gender\": \"F\", \"type\": \"Fiction\", \"subgenre\": \"Romance\", \"avg_goodreads_rating\": 4.31, \"started\": \"2020-03-12T00:00:00\", \"date\": \"2020-03-20T00:00:00\", \"faves\": null, \"year\": \"2020\", \"days_to_read\": 8, \"gender_description\": \"Female\"}, {\"order\": 12, \"title\": \"Bird by Bird: Some Instructions on Writing and Life\", \"author\": \"Anne Lamott\", \"pages\": 237.0, \"url\": \"https://www.goodreads.com/book/show/12543.Bird_by_Bird\", \"gender\": \"F\", \"type\": \"Non-Fiction\", \"subgenre\": \"Writing\", \"avg_goodreads_rating\": 4.23, \"started\": \"2020-03-21T00:00:00\", \"date\": \"2020-03-31T00:00:00\", \"faves\": \"Y\", \"year\": \"2020\", \"days_to_read\": 10, \"gender_description\": \"Female\"}, {\"order\": 13, \"title\": \"Cleanness\", \"author\": \"Garth Greenwell\", \"pages\": 240.0, \"url\": \"https://www.goodreads.com/book/show/45892271-cleanness?ac=1&from_search=true&qid=ornMVFsX93&rank=2\", \"gender\": \"M\", \"type\": \"Fiction\", \"subgenre\": \"Contemporary\", \"avg_goodreads_rating\": 4.05, \"started\": \"2020-03-31T00:00:00\", \"date\": \"2020-04-06T00:00:00\", \"faves\": null, \"year\": \"2020\", \"days_to_read\": 6, \"gender_description\": \"Male\"}, {\"order\": 14, \"title\": \"The Bridges of Madison County\", \"author\": \"Robert James Waller\", \"pages\": 221.0, \"url\": \"https://www.goodreads.com/book/show/83674.The_Bridges_of_Madison_County\", \"gender\": \"M\", \"type\": \"Fiction\", \"subgenre\": \"Contemporary\", \"avg_goodreads_rating\": 3.61, \"started\": \"2020-04-08T00:00:00\", \"date\": \"2020-04-11T00:00:00\", \"faves\": null, \"year\": \"2020\", \"days_to_read\": 3, \"gender_description\": \"Male\"}, {\"order\": 15, \"title\": \"Super Attractor\", \"author\": \"Gabrielle Bernstein\", \"pages\": 248.0, \"url\": \"https://www.goodreads.com/book/show/43496426-super-attractor?from_search=true&from_srp=true&qid=sRtfi9Txub&rank=1\", \"gender\": \"F\", \"type\": \"Non-Fiction\", \"subgenre\": \"Self Help\", \"avg_goodreads_rating\": 4.18, \"started\": \"2020-04-11T00:00:00\", \"date\": \"2020-04-22T00:00:00\", \"faves\": null, \"year\": \"2020\", \"days_to_read\": 11, \"gender_description\": \"Female\"}, {\"order\": 16, \"title\": \"Felix Ever After\", \"author\": \"Kacen Callender\", \"pages\": 354.0, \"url\": \"https://www.goodreads.com/book/show/51931067-felix-ever-after?from_search=true&from_srp=true&qid=ssQYTzSgHg&rank=1\", \"gender\": \"M\", \"type\": \"Fiction\", \"subgenre\": \"Young Adult\", \"avg_goodreads_rating\": 4.46, \"started\": \"2020-05-12T00:00:00\", \"date\": \"2020-05-14T00:00:00\", \"faves\": null, \"year\": \"2020\", \"days_to_read\": 2, \"gender_description\": \"Male\"}, {\"order\": 17, \"title\": \"Days of Distraction\", \"author\": \"Alexandra Chang\", \"pages\": 312.0, \"url\": \"https://www.goodreads.com/book/show/52973514-days-of-distraction?from_search=true&from_srp=true&qid=zLGt916iHW&rank=1\", \"gender\": \"F\", \"type\": \"Fiction\", \"subgenre\": \"Contemporary\", \"avg_goodreads_rating\": 3.66, \"started\": \"2020-04-12T00:00:00\", \"date\": \"2020-05-17T00:00:00\", \"faves\": null, \"year\": \"2020\", \"days_to_read\": 35, \"gender_description\": \"Female\"}, {\"order\": 18, \"title\": \"wow, no thank you.\", \"author\": \"Samantha Irby\", \"pages\": 288.0, \"url\": \"https://www.goodreads.com/book/show/52844646-wow-no-thank-you\", \"gender\": \"F\", \"type\": \"Non-Fiction\", \"subgenre\": \"Essays\", \"avg_goodreads_rating\": 4.13, \"started\": \"2020-04-05T00:00:00\", \"date\": \"2020-06-15T00:00:00\", \"faves\": \"Y\", \"year\": \"2020\", \"days_to_read\": 71, \"gender_description\": \"Female\"}, {\"order\": 19, \"title\": \"How Much of These Hills Is Gold\", \"author\": \"C. Pam Zhang\", \"pages\": 288.0, \"url\": \"https://www.goodreads.com/book/show/45895362-how-much-of-these-hills-is-gold?from_search=true&from_srp=true&qid=rMvIru31RB&rank=1\", \"gender\": \"F\", \"type\": \"Fiction\", \"subgenre\": \"historical\", \"avg_goodreads_rating\": 3.86, \"started\": \"2020-05-22T00:00:00\", \"date\": \"2020-06-01T00:00:00\", \"faves\": null, \"year\": \"2020\", \"days_to_read\": 10, \"gender_description\": \"Female\"}, {\"order\": 20, \"title\": \"Between the World and Me\", \"author\": \"Tanehisi Coates\", \"pages\": 152.0, \"url\": \"https://www.goodreads.com/book/show/25489625-between-the-world-and-me?from_search=true&from_srp=true&qid=xvQajzPDjC&rank=1\", \"gender\": \"M\", \"type\": \"Non-Fiction\", \"subgenre\": \"Current Events\", \"avg_goodreads_rating\": 4.52, \"started\": \"2020-06-15T00:00:00\", \"date\": \"2020-06-24T00:00:00\", \"faves\": \"Y\", \"year\": \"2020\", \"days_to_read\": 9, \"gender_description\": \"Male\"}, {\"order\": 21, \"title\": \"Where the Crawdads Sing\", \"author\": \"Delia Owens\", \"pages\": 384.0, \"url\": \"https://www.goodreads.com/book/show/36809135-where-the-crawdads-sing?ac=1&from_search=true&qid=TifR2MzIpW&rank=1\", \"gender\": \"F\", \"type\": \"Fiction\", \"subgenre\": \"Contemporary\", \"avg_goodreads_rating\": 4.47, \"started\": \"2020-06-22T00:00:00\", \"date\": \"2020-06-29T00:00:00\", \"faves\": null, \"year\": \"2020\", \"days_to_read\": 7, \"gender_description\": \"Female\"}, {\"order\": 22, \"title\": \"Boys and Sex\", \"author\": \"Peggy Ornstein\", \"pages\": 304.0, \"url\": \"https://www.goodreads.com/book/show/43452877-boys-sex?from_search=true&from_srp=true&qid=TwPIaowNSU&rank=1\", \"gender\": \"F\", \"type\": \"Non-Fiction\", \"subgenre\": \"Current Events\", \"avg_goodreads_rating\": 4.24, \"started\": \"2020-04-12T00:00:00\", \"date\": \"2020-07-03T00:00:00\", \"faves\": null, \"year\": \"2020\", \"days_to_read\": 82, \"gender_description\": \"Female\"}, {\"order\": 23, \"title\": \"Someone Who Will Love You In All Your Damaged Glory\", \"author\": \"Rafael Bob Waksberg\", \"pages\": 256.0, \"url\": \"https://www.goodreads.com/book/show/41949311-someone-who-will-love-you-in-all-your-damaged-glory?ac=1&from_search=true&qid=Kr9sKqWCXh&rank=1\", \"gender\": \"M\", \"type\": \"Fiction\", \"subgenre\": \"Short Stories\", \"avg_goodreads_rating\": 4.16, \"started\": \"2020-07-08T00:00:00\", \"date\": \"2020-07-10T00:00:00\", \"faves\": \"Y\", \"year\": \"2020\", \"days_to_read\": 2, \"gender_description\": \"Male\"}, {\"order\": 24, \"title\": \"The Masters Tools Will Never DIsmantle The Master's House\", \"author\": \"Audre Lorde\", \"pages\": 64.0, \"url\": \"https://www.goodreads.com/en/book/show/38598541-the-master-s-tools-will-never-dismantle-the-master-s-house\", \"gender\": \"F\", \"type\": \"Non-Fiction\", \"subgenre\": \"Essays\", \"avg_goodreads_rating\": 4.46, \"started\": \"2020-07-15T00:00:00\", \"date\": \"2020-07-17T00:00:00\", \"faves\": \"Y\", \"year\": \"2020\", \"days_to_read\": 2, \"gender_description\": \"Female\"}, {\"order\": 25, \"title\": \"Attached\", \"author\": \"Amir Levine, Rachel SF Heller\", \"pages\": 304.0, \"url\": \"https://www.goodreads.com/book/show/9547888-attached?from_search=true&from_srp=true&qid=kdP4IdRQnC&rank=1\", \"gender\": \"F\", \"type\": \"Non-Fiction\", \"subgenre\": \"Psychology\", \"avg_goodreads_rating\": 4.14, \"started\": \"2020-07-31T00:00:00\", \"date\": \"2020-08-03T00:00:00\", \"faves\": null, \"year\": \"2020\", \"days_to_read\": 3, \"gender_description\": \"Female\"}, {\"order\": 26, \"title\": \"Listen to the Marriage\", \"author\": \"John Jay Osborn\", \"pages\": 256.0, \"url\": \"https://www.goodreads.com/book/show/37941728-listen-to-the-marriage?ac=1&from_search=true&qid=iy2rwd6WTj&rank=1\", \"gender\": \"M\", \"type\": \"Fiction\", \"subgenre\": \"Contemporary\", \"avg_goodreads_rating\": 3.51, \"started\": \"2020-08-06T00:00:00\", \"date\": \"2020-08-15T00:00:00\", \"faves\": null, \"year\": \"2020\", \"days_to_read\": 9, \"gender_description\": \"Male\"}, {\"order\": 27, \"title\": \"Jung: A Very Short Introduction\", \"author\": \"Andrew Stevens\", \"pages\": 192.0, \"url\": \"https://www.goodreads.com/book/show/297554.Jung?from_search=true&from_srp=true&qid=Jim8gejEr2&rank=1\", \"gender\": \"M\", \"type\": \"Non-Fiction\", \"subgenre\": \"History\", \"avg_goodreads_rating\": 4.07, \"started\": \"2020-09-07T00:00:00\", \"date\": \"2020-09-16T00:00:00\", \"faves\": null, \"year\": \"2020\", \"days_to_read\": 9, \"gender_description\": \"Male\"}, {\"order\": 28, \"title\": \"The First Bad Man\", \"author\": \"Miranda July\", \"pages\": 288.0, \"url\": \"https://www.goodreads.com/book/show/21412400-the-first-bad-man?from_search=true&from_srp=true&qid=8h7sxqtWHM&rank=1\", \"gender\": \"F\", \"type\": \"Fiction\", \"subgenre\": \"Contemporary\", \"avg_goodreads_rating\": 3.62, \"started\": \"2020-09-16T00:00:00\", \"date\": \"2020-09-20T00:00:00\", \"faves\": \"Y\", \"year\": \"2020\", \"days_to_read\": 4, \"gender_description\": \"Female\"}, {\"order\": 29, \"title\": \"The Drama of the Gifted Child\", \"author\": \"Alice Miller\", \"pages\": 144.0, \"url\": \"https://www.goodreads.com/book/show/24204222-the-drama-of-the-gifted-child?utm_content=review_cta_book_image&utm_medium=email&utm_source=bookend&ref_=pe_7171740_474197500\", \"gender\": \"F\", \"type\": \"Non-Fiction\", \"subgenre\": \"Psychology\", \"avg_goodreads_rating\": 4.1, \"started\": \"2020-09-27T00:00:00\", \"date\": \"2020-10-01T00:00:00\", \"faves\": null, \"year\": \"2020\", \"days_to_read\": 4, \"gender_description\": \"Female\"}, {\"order\": 30, \"title\": \"Don't Call us Dead: Poems\", \"author\": \"Danez Smith\", \"pages\": 101.0, \"url\": \"https://www.goodreads.com/book/show/35422441-don-t-call-us-dead?from_search=true&from_srp=true&qid=8qdAhd4Vlp&rank=1\", \"gender\": \"M\", \"type\": \"Poetry\", \"subgenre\": \"LGBT\", \"avg_goodreads_rating\": 4.52, \"started\": \"2020-10-01T00:00:00\", \"date\": \"2020-10-06T00:00:00\", \"faves\": \"Y\", \"year\": \"2020\", \"days_to_read\": 5, \"gender_description\": \"Male\"}, {\"order\": 31, \"title\": \"Tender is the Night\", \"author\": \"F. Scott Fitzgerald\", \"pages\": 315.0, \"url\": \"https://www.goodreads.com/book/show/46164.Tender_Is_the_Night?from_search=true&from_srp=true&qid=B8eLWQQKSX&rank=1\", \"gender\": \"M\", \"type\": \"Fiction\", \"subgenre\": \"Classic\", \"avg_goodreads_rating\": 3.81, \"started\": \"2020-10-10T00:00:00\", \"date\": \"2020-11-07T00:00:00\", \"faves\": \"Y\", \"year\": \"2020\", \"days_to_read\": 28, \"gender_description\": \"Male\"}, {\"order\": 32, \"title\": \"Heather, The Totality\", \"author\": \"Matthew Weiner\", \"pages\": 144.0, \"url\": \"https://www.goodreads.com/book/show/31933063-heather-the-totality?ac=1&from_search=true&qid=MvG8rzSUME&rank=1\", \"gender\": \"M\", \"type\": \"Fiction\", \"subgenre\": \"Contemporary\", \"avg_goodreads_rating\": 2.93, \"started\": \"2020-11-07T00:00:00\", \"date\": \"2020-11-09T00:00:00\", \"faves\": null, \"year\": \"2020\", \"days_to_read\": 2, \"gender_description\": \"Male\"}, {\"order\": 33, \"title\": \"What We Talk About When We Talk About Love\", \"author\": \"Raymond Carver\", \"pages\": 159.0, \"url\": \"https://www.goodreads.com/book/show/11438.What_We_Talk_About_When_We_Talk_About_Love?from_search=true&from_srp=true&qid=5G4xkS3EQg&rank=1\", \"gender\": \"M\", \"type\": \"Fiction\", \"subgenre\": \"Short Stories\", \"avg_goodreads_rating\": 4.15, \"started\": \"2020-10-06T00:00:00\", \"date\": \"2020-10-31T00:00:00\", \"faves\": null, \"year\": \"2020\", \"days_to_read\": 25, \"gender_description\": \"Male\"}, {\"order\": 34, \"title\": \"Never Split the Difference\", \"author\": \"Chris Voss\", \"pages\": 274.0, \"url\": \"https://www.goodreads.com/book/show/26156469-never-split-the-difference?from_search=true&from_srp=true&qid=umiLanQLHO&rank=1\", \"gender\": \"M\", \"type\": \"Non-Fiction\", \"subgenre\": \"Business\", \"avg_goodreads_rating\": 4.4, \"started\": \"2020-11-11T00:00:00\", \"date\": \"2020-11-26T00:00:00\", \"faves\": null, \"year\": \"2020\", \"days_to_read\": 15, \"gender_description\": \"Male\"}, {\"order\": 35, \"title\": \"Rapture\", \"author\": \"Susan Minot\", \"pages\": null, \"url\": \"https://www.goodreads.com/book/show/40056.Rapture\", \"gender\": \"F\", \"type\": \"Fiction\", \"subgenre\": \"Romance\", \"avg_goodreads_rating\": 2.96, \"started\": \"2020-12-02T00:00:00\", \"date\": \"2020-12-03T00:00:00\", \"faves\": null, \"year\": \"2020\", \"days_to_read\": 1, \"gender_description\": \"Female\"}, {\"order\": 36, \"title\": \"The Middle Passage\", \"author\": \"James Hollis\", \"pages\": 127.0, \"url\": \"https://www.goodreads.com/book/show/47849.The_Middle_Passage?from_search=true&from_srp=true&qid=ot6aI40sSB&rank=1\", \"gender\": \"M\", \"type\": \"Non-Fiction\", \"subgenre\": \"Psychology\", \"avg_goodreads_rating\": 4.44, \"started\": \"2020-12-15T00:00:00\", \"date\": \"2020-12-18T00:00:00\", \"faves\": \"Y\", \"year\": \"2020\", \"days_to_read\": 3, \"gender_description\": \"Male\"}, {\"order\": 37, \"title\": \"Intimacy\", \"author\": \"Hanif Kureishi\", \"pages\": 155.0, \"url\": \"https://www.goodreads.com/book/show/153418.Intimacy\", \"gender\": \"M\", \"type\": \"Fiction\", \"subgenre\": \"Contemporary\", \"avg_goodreads_rating\": 3.6, \"started\": \"2020-12-21T00:00:00\", \"date\": \"2020-12-22T00:00:00\", \"faves\": null, \"year\": \"2020\", \"days_to_read\": 1, \"gender_description\": \"Male\"}, {\"order\": 38, \"title\": \"No One Asked for This: Essays\", \"author\": \"Cazzie David\", \"pages\": 352.0, \"url\": \"https://www.goodreads.com/book/show/48930274-no-one-asked-for-this?from_search=true&from_srp=true&qid=oVY5dHZfxR&rank=1\", \"gender\": \"F\", \"type\": \"Non-Fiction\", \"subgenre\": \"Essays\", \"avg_goodreads_rating\": 3.53, \"started\": \"2020-11-27T00:00:00\", \"date\": \"2020-12-25T00:00:00\", \"faves\": null, \"year\": \"2020\", \"days_to_read\": 28, \"gender_description\": \"Female\"}, {\"order\": 39, \"title\": \"Self-Help\", \"author\": \"Lorrie Moore\", \"pages\": 163.0, \"url\": \"https://www.goodreads.com/book/show/90872.Self_Help\", \"gender\": \"F\", \"type\": \"Fiction\", \"subgenre\": \"Short Stories\", \"avg_goodreads_rating\": 4.19, \"started\": \"2020-12-26T00:00:00\", \"date\": \"2020-12-27T00:00:00\", \"faves\": \"Y\", \"year\": \"2020\", \"days_to_read\": 1, \"gender_description\": \"Female\"}]}}, {\"mode\": \"vega-lite\"});\n",
       "</script>"
      ],
      "text/plain": [
       "alt.Chart(...)"
      ]
     },
     "execution_count": 19,
     "metadata": {},
     "output_type": "execute_result"
    }
   ],
   "source": [
    "# MOBILE \n",
    "alt.Chart(books).mark_tick(thickness=2,size=20).encode(\n",
    "    x=alt.X('date',axis=alt.Axis(tickCount=12, format='%b', tickColor='#ffffff'), title=''),\n",
    "    y=alt.Y('year',axis=alt.Axis(tickCount=0, tickColor='#ffffff'), title=' ')\n",
    ").configure_axis(\n",
    "    grid=False).properties(height=40, width=320)"
   ]
  },
  {
   "cell_type": "markdown",
   "metadata": {},
   "source": [
    "### Tinkering with more designs for books read by subgenre and month"
   ]
  },
  {
   "cell_type": "code",
   "execution_count": null,
   "metadata": {},
   "outputs": [],
   "source": [
    "#DESKTOP\n",
    "alt.Chart(books).mark_tick(thickness=3,size=10).encode(\n",
    "    x=alt.X('date',axis=alt.Axis(tickCount=12, format='%b', tickColor='#ffffff'), title=''),\n",
    "    y=alt.Y('subgenre',axis=alt.Axis(tickCount=0, tickColor='#ffffff'), title=' ')\n",
    ").configure_axis(grid=False).properties(height=400, width=700)"
   ]
  },
  {
   "cell_type": "code",
   "execution_count": null,
   "metadata": {},
   "outputs": [],
   "source": [
    "# mobile\n",
    "alt.Chart(books).mark_tick(thickness=2,size=10).encode(\n",
    "    x=alt.X('date',axis=alt.Axis(tickCount=12, format='%b', tickColor='#ffffff'), title=''),\n",
    "    y=alt.Y('subgenre',axis=alt.Axis(tickCount=0, tickColor='#ffffff'), title=' ')\n",
    ").configure_axis(grid=False).properties(height=400, width=320)"
   ]
  },
  {
   "cell_type": "markdown",
   "metadata": {},
   "source": [
    "---"
   ]
  },
  {
   "cell_type": "markdown",
   "metadata": {},
   "source": [
    "### Let's try books by author gender and month"
   ]
  },
  {
   "cell_type": "code",
   "execution_count": null,
   "metadata": {
    "scrolled": true
   },
   "outputs": [],
   "source": [
    "#DESKTOP\n",
    "alt.Chart(books).mark_tick(thickness=4,size=20).encode(\n",
    "    x=alt.X('date',axis=alt.Axis(tickCount=12, format='%b', tickColor='#ffffff'), title=''),\n",
    "    y=alt.Y('gender_description',axis=alt.Axis(tickCount=0, tickColor='#ffffff'), title=' '),\n",
    "    color=alt.Color('gender_description', legend=None)\n",
    ").configure_axis(\n",
    "    grid=False).properties(height=100, width=700)"
   ]
  },
  {
   "cell_type": "code",
   "execution_count": null,
   "metadata": {
    "scrolled": true
   },
   "outputs": [],
   "source": [
    "# MOBILE\n",
    "alt.Chart(books).mark_tick(thickness=2,size=20).encode(\n",
    "    x=alt.X('date',axis=alt.Axis(tickCount=12, format='%b', tickColor='#ffffff'), title=''),\n",
    "    y=alt.Y('gender_description',axis=alt.Axis(tickCount=0, tickColor='#ffffff'), title=' '),\n",
    "    color=alt.Color('gender_description', legend=None)\n",
    ").configure_axis(\n",
    "    grid=False).properties(height=100, width=320)"
   ]
  },
  {
   "cell_type": "markdown",
   "metadata": {},
   "source": [
    "### Books by type and month"
   ]
  },
  {
   "cell_type": "code",
   "execution_count": null,
   "metadata": {},
   "outputs": [],
   "source": [
    "# DESKTOP \n",
    "alt.Chart(books).mark_tick(thickness=3,size=20).encode(\n",
    "    x=alt.X('date',axis=alt.Axis(format='%B', tickColor='#ffffff', tickCount=7), title=''),\n",
    "    y=alt.Y('type',axis=alt.Axis(tickCount=0, tickColor='#ffffff'), title=' '),\n",
    "    color=alt.Color('type', legend=None)\n",
    ").configure_axis(\n",
    "    grid=False).properties(height=200, width=700, title='Books, by type and date finished')"
   ]
  },
  {
   "cell_type": "code",
   "execution_count": null,
   "metadata": {},
   "outputs": [],
   "source": [
    "# MOBILE\n",
    "alt.Chart(books).mark_tick(thickness=2,size=20).encode(\n",
    "    x=alt.X('date',axis=alt.Axis(format='%B', tickColor='#ffffff', tickCount=4), title=''),\n",
    "    y=alt.Y('type',axis=alt.Axis(tickCount=0, tickColor='#ffffff'), title=' '),\n",
    "    color=alt.Color('type', legend=None)\n",
    ").configure_axis(\n",
    "    grid=False).properties(height=200, width=320, title='Books, by type and date finished')"
   ]
  },
  {
   "cell_type": "markdown",
   "metadata": {},
   "source": [
    "---"
   ]
  },
  {
   "cell_type": "markdown",
   "metadata": {},
   "source": [
    "### Is there a strong relationship between the number of pages and days to read? No"
   ]
  },
  {
   "cell_type": "code",
   "execution_count": null,
   "metadata": {},
   "outputs": [],
   "source": [
    "# Remove handful of books that took months to finish\n",
    "books_month = books[books['days_to_read'] < 30]"
   ]
  },
  {
   "cell_type": "code",
   "execution_count": null,
   "metadata": {},
   "outputs": [],
   "source": [
    "books_corr = books_month[['pages', 'days_to_read']]"
   ]
  },
  {
   "cell_type": "code",
   "execution_count": null,
   "metadata": {},
   "outputs": [],
   "source": [
    "corr = books_corr.corr(method ='pearson')"
   ]
  },
  {
   "cell_type": "code",
   "execution_count": null,
   "metadata": {},
   "outputs": [],
   "source": [
    "print(corr)"
   ]
  },
  {
   "cell_type": "code",
   "execution_count": null,
   "metadata": {},
   "outputs": [],
   "source": [
    "#DESKTOP \n",
    "alt.Chart(books_month).mark_circle(size=60).encode(\n",
    "    x=alt.X('days_to_read:Q', title='Days to read', axis=alt.Axis(tickCount=6)),\n",
    "    y=alt.Y('pages:Q', title='Number of pages', axis=alt.Axis(tickCount=5)),\n",
    "    tooltip=['title:N', 'author:O', 'avg_goodreads_rating:Q', 'pages:Q', 'days_to_read:Q']\n",
    ").properties(width=500, height=500)"
   ]
  },
  {
   "cell_type": "code",
   "execution_count": null,
   "metadata": {},
   "outputs": [],
   "source": [
    "# MOBILE\n",
    "alt.Chart(books_month).mark_circle(size=60).encode(\n",
    "    x=alt.X('days_to_read:Q', title='Days to read', axis=alt.Axis(tickCount=6)),\n",
    "    y=alt.Y('pages:Q', title='Number of pages', axis=alt.Axis(tickCount=5)),\n",
    "    tooltip=['title:N', 'author:O', 'avg_goodreads_rating:Q', 'pages:Q', 'days_to_read:Q']\n",
    ").properties(width=320, height=320)"
   ]
  },
  {
   "cell_type": "markdown",
   "metadata": {},
   "source": [
    "---"
   ]
  },
  {
   "cell_type": "markdown",
   "metadata": {},
   "source": [
    "### Which types of books did Elise read most?"
   ]
  },
  {
   "cell_type": "code",
   "execution_count": null,
   "metadata": {},
   "outputs": [],
   "source": [
    "book_type = books.groupby(['type', 'year']).agg('size').reset_index(name='count').sort_values(by='count', ascending=False)"
   ]
  },
  {
   "cell_type": "code",
   "execution_count": null,
   "metadata": {},
   "outputs": [],
   "source": [
    "book_type.head()"
   ]
  },
  {
   "cell_type": "code",
   "execution_count": null,
   "metadata": {},
   "outputs": [],
   "source": [
    "book_type['share'] = (book_type['count'] / 52)*100"
   ]
  },
  {
   "cell_type": "code",
   "execution_count": null,
   "metadata": {},
   "outputs": [],
   "source": [
    "book_type.head()"
   ]
  },
  {
   "cell_type": "code",
   "execution_count": null,
   "metadata": {},
   "outputs": [],
   "source": [
    "book_type_chart = alt.Chart(book_type).mark_bar().encode(\n",
    "    x=alt.X('sum(count)', stack=\"normalize\",  title='Share of books read by genre', \\\n",
    "            axis=alt.Axis(format='%',tickCount=6)),\n",
    "    y=alt.Y('year',title=''),\n",
    "    order=alt.Order(\n",
    "      # Sort the segments of the bars by this field\n",
    "      'type',\n",
    "      sort='ascending'\n",
    "    ),\n",
    "    color=alt.Color('type', legend=alt.Legend(orient=\"top\", title='Book type'))\n",
    ")\n",
    "\n",
    "(book_type_chart).properties(height=40,width=700)"
   ]
  },
  {
   "cell_type": "code",
   "execution_count": null,
   "metadata": {},
   "outputs": [],
   "source": [
    "(book_type_chart).properties(height=40,width=320)"
   ]
  },
  {
   "cell_type": "markdown",
   "metadata": {},
   "source": [
    "---"
   ]
  },
  {
   "cell_type": "markdown",
   "metadata": {},
   "source": [
    "### Which genre of books did Elise read most?"
   ]
  },
  {
   "cell_type": "code",
   "execution_count": null,
   "metadata": {},
   "outputs": [],
   "source": [
    "book_genre = books.groupby('subgenre').agg('size').reset_index(name='count')\\\n",
    ".sort_values(by='count', ascending=False)\n",
    "book_genre.head()"
   ]
  },
  {
   "cell_type": "markdown",
   "metadata": {},
   "source": [
    "### Books read by sub-genre"
   ]
  },
  {
   "cell_type": "code",
   "execution_count": null,
   "metadata": {},
   "outputs": [],
   "source": [
    "#DESKTOP\n",
    "book_genre_chart = alt.Chart(book_genre).mark_bar().encode(\n",
    "    y=alt.Y(\"subgenre:N\", title=' ',\n",
    "           sort=alt.EncodingSortField(\n",
    "            field=\"count:Q\",  # The field to use for the sort\n",
    "            op=\"sum\",  # The operation to run on the field prior to sorting\n",
    "            order=\"ascending\"  # The order to sort in\n",
    "        )),\n",
    "    x=alt.X(\"count:Q\", title=' ', axis=alt.Axis(tickCount=6, format=''))\n",
    ")\n",
    "\n",
    "book_genre_chart.properties(height=500, width=700, title='')"
   ]
  },
  {
   "cell_type": "code",
   "execution_count": null,
   "metadata": {},
   "outputs": [],
   "source": [
    "#MOBILE \n",
    "book_genre_chart.properties(height=500, width=320, title='')"
   ]
  },
  {
   "cell_type": "markdown",
   "metadata": {},
   "source": [
    "---"
   ]
  },
  {
   "cell_type": "markdown",
   "metadata": {},
   "source": [
    "### Memior as share of all non-fiction books read"
   ]
  },
  {
   "cell_type": "code",
   "execution_count": null,
   "metadata": {},
   "outputs": [],
   "source": [
    "nonfiction = books[books['type'] == 'Non-Fiction'].groupby('subgenre').agg('size').reset_index(name='count')\\\n",
    ".sort_values(by='count', ascending=False)\n",
    "nonfiction.head(20)"
   ]
  },
  {
   "cell_type": "code",
   "execution_count": null,
   "metadata": {},
   "outputs": [],
   "source": [
    "nonfiction['share'] = (nonfiction['count'] / 28) * 100"
   ]
  },
  {
   "cell_type": "code",
   "execution_count": null,
   "metadata": {},
   "outputs": [],
   "source": [
    "nonfiction.head()"
   ]
  },
  {
   "cell_type": "markdown",
   "metadata": {},
   "source": [
    "### What share of the books Elise read were by female authors? "
   ]
  },
  {
   "cell_type": "code",
   "execution_count": null,
   "metadata": {},
   "outputs": [],
   "source": [
    "book_gender = books.groupby(['gender_description', 'year'])\\\n",
    ".agg('size').reset_index(name='count').sort_values(by='count', ascending=False)"
   ]
  },
  {
   "cell_type": "code",
   "execution_count": null,
   "metadata": {},
   "outputs": [],
   "source": [
    "book_gender.head()"
   ]
  },
  {
   "cell_type": "code",
   "execution_count": null,
   "metadata": {},
   "outputs": [],
   "source": [
    "book_gender['share'] = (book_gender['count'] / 52)*100"
   ]
  },
  {
   "cell_type": "markdown",
   "metadata": {},
   "source": [
    "### How does that gender breakdown look in a bar chart?"
   ]
  },
  {
   "cell_type": "code",
   "execution_count": null,
   "metadata": {},
   "outputs": [],
   "source": [
    "book_gender_chart = alt.Chart(book_gender).mark_bar().encode(\n",
    "    x=alt.X('sum(count)', stack=\"normalize\",  title='Share of books read by author gender',\\\n",
    "            axis=alt.Axis(format='%',tickCount=6)),\n",
    "    y=alt.Y('year',title='',\n",
    "            sort=alt.EncodingSortField(\n",
    "            field=\"count:N\",  # The field to use for the sort\n",
    "            op=\"count\",  # The operation to run on the field prior to sorting\n",
    "            order=\"descending\"  # The order to sort in)\n",
    "            )),\n",
    "    color=alt.Color('gender_description', legend=None)\n",
    ")\n",
    "\n",
    "book_gender_chart_text = book_gender_chart.mark_text(\n",
    "    align='right',\n",
    "    baseline='middle',\n",
    "    dx=-10\n",
    ").encode(text=alt.Text('gender_description'), \n",
    "    color=alt.condition(\n",
    "        alt.datum.year == '2019',\n",
    "        alt.value('white'),\n",
    "        alt.value('white')\n",
    "    )\n",
    ")\n",
    "\n",
    "(book_gender_chart + book_gender_chart_text).properties(height=30,width=700)"
   ]
  },
  {
   "cell_type": "code",
   "execution_count": null,
   "metadata": {},
   "outputs": [],
   "source": [
    "(book_gender_chart + book_gender_chart_text).properties(height=30,width=320)"
   ]
  },
  {
   "cell_type": "markdown",
   "metadata": {},
   "source": [
    "---"
   ]
  },
  {
   "cell_type": "markdown",
   "metadata": {},
   "source": [
    "### Page counts by subgenre"
   ]
  },
  {
   "cell_type": "code",
   "execution_count": null,
   "metadata": {},
   "outputs": [],
   "source": [
    "books.groupby(['subgenre']).agg({ 'pages': 'sum' }).reset_index()\\\n",
    ".sort_values(by='pages',ascending=False).head(10)"
   ]
  },
  {
   "cell_type": "markdown",
   "metadata": {},
   "source": [
    "### Ratings by subgenre"
   ]
  },
  {
   "cell_type": "code",
   "execution_count": null,
   "metadata": {},
   "outputs": [],
   "source": [
    "books.groupby(['subgenre']).agg({ 'avg_goodreads_rating': 'mean' }).reset_index()\\\n",
    ".sort_values(by='avg_goodreads_rating',ascending=False).head(10)"
   ]
  },
  {
   "cell_type": "markdown",
   "metadata": {},
   "source": [
    "### Favorite books by Goodreads rating"
   ]
  },
  {
   "cell_type": "code",
   "execution_count": null,
   "metadata": {},
   "outputs": [],
   "source": [
    "books_slim = books[['author', 'title', 'type', 'avg_goodreads_rating']][books['faves'] == 'Y']\\\n",
    ".sort_values(by='avg_goodreads_rating', ascending=False).head()"
   ]
  },
  {
   "cell_type": "code",
   "execution_count": null,
   "metadata": {},
   "outputs": [],
   "source": [
    "books_slim"
   ]
  },
  {
   "cell_type": "code",
   "execution_count": null,
   "metadata": {},
   "outputs": [],
   "source": [
    "book_ratings = books.groupby(['type']).agg({'avg_goodreads_rating': 'mean'}).reset_index()"
   ]
  },
  {
   "cell_type": "code",
   "execution_count": null,
   "metadata": {},
   "outputs": [],
   "source": [
    "book_ratings"
   ]
  },
  {
   "cell_type": "markdown",
   "metadata": {},
   "source": [
    "---"
   ]
  },
  {
   "cell_type": "markdown",
   "metadata": {},
   "source": [
    "### Export books list to CSV"
   ]
  },
  {
   "cell_type": "code",
   "execution_count": null,
   "metadata": {},
   "outputs": [],
   "source": [
    "books.to_csv('output/books.csv')"
   ]
  }
 ],
 "metadata": {
  "kernelspec": {
   "display_name": "Python 3 (ipykernel)",
   "language": "python",
   "name": "python3"
  },
  "language_info": {
   "codemirror_mode": {
    "name": "ipython",
    "version": 3
   },
   "file_extension": ".py",
   "mimetype": "text/x-python",
   "name": "python",
   "nbconvert_exporter": "python",
   "pygments_lexer": "ipython3",
   "version": "3.8.11"
  }
 },
 "nbformat": 4,
 "nbformat_minor": 4
}
