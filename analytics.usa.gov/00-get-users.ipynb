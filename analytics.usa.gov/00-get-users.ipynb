{
 "cells": [
  {
   "cell_type": "markdown",
   "id": "e77aca4d-aa48-412a-a79e-c95d8d66b72f",
   "metadata": {},
   "source": [
    "# How many users are on gov't websites right now? "
   ]
  },
  {
   "cell_type": "markdown",
   "id": "72dbf1e1-745e-4002-a766-e9d7f311cf7a",
   "metadata": {},
   "source": [
    "### Import Python tools and Jupyter configuration"
   ]
  },
  {
   "cell_type": "code",
   "execution_count": 3,
   "id": "2feb544a-f589-4616-99d3-9422d40bceba",
   "metadata": {},
   "outputs": [],
   "source": [
    "%load_ext lab_black"
   ]
  },
  {
   "cell_type": "code",
   "execution_count": 120,
   "id": "34a5077c-eca4-4ec4-a227-a8dc9024d2b6",
   "metadata": {},
   "outputs": [],
   "source": [
    "import pandas as pd\n",
    "import altair as alt\n",
    "from datetime import timedelta\n",
    "import numpy as np\n",
    "import json"
   ]
  },
  {
   "cell_type": "code",
   "execution_count": 121,
   "id": "6cfa53d1-6d07-4b02-8574-b8c4cace3c23",
   "metadata": {},
   "outputs": [],
   "source": [
    "pd.options.display.max_columns = 100\n",
    "pd.options.display.max_rows = 1000\n",
    "pd.options.display.max_colwidth = None"
   ]
  },
  {
   "cell_type": "markdown",
   "id": "cedf839c-f802-4ecc-90b8-aa4ab442d692",
   "metadata": {},
   "source": [
    "### Download the users file"
   ]
  },
  {
   "cell_type": "code",
   "execution_count": 122,
   "id": "b5707d31-fbf3-4968-993f-c0c0ff26bc6e",
   "metadata": {},
   "outputs": [
    {
     "name": "stdout",
     "output_type": "stream",
     "text": [
      "  % Total    % Received % Xferd  Average Speed   Time    Time     Time  Current\n",
      "                                 Dload  Upload   Total   Spent    Left  Speed\n",
      "100   253  100   253    0     0    741      0 --:--:-- --:--:-- --:--:--   752\n"
     ]
    }
   ],
   "source": [
    "!curl -o 'data/raw/realtime.json' 'https://analytics.usa.gov/data/live/realtime.json'    -H 'authority: analytics.usa.gov'    -H 'pragma: no-cache'    -H 'cache-control: no-cache'    -H 'sec-ch-ua: \" Not;A Brand\";v=\"99\", \"Google Chrome\";v=\"97\", \"Chromium\";v=\"97\"'    -H 'sec-ch-ua-mobile: ?0'    -H 'sec-ch-ua-platform: \"macOS\"'    -H 'upgrade-insecure-requests: 1'    -H 'user-agent: Mozilla/5.0 (Macintosh; Intel Mac OS X 10_15_7) AppleWebKit/537.36 (KHTML, like Gecko) Chrome/97.0.4692.71 Safari/537.36'    -H 'accept: text/html,application/xhtml+xml,application/xml;q=0.9,image/avif,image/webp,image/apng,*/*;q=0.8,application/signed-exchange;v=b3;q=0.9'    -H 'sec-fetch-site: none'    -H 'sec-fetch-mode: navigate'    -H 'sec-fetch-user: ?1'    -H 'sec-fetch-dest: document'    -H 'accept-language: en-US,en;q=0.9,es;q=0.8'    -H 'cookie: _gid=GA1.2.1069277241.1642602263; _ga=GA1.2.380116606.1642602263; _ga_7S2RW26R4D=GS1.1.1642612438.2.0.1642612466.0; _ga_9TNNMGP8WJ=GS1.1.1642612438.2.0.1642612466.0'    --compressed"
   ]
  },
  {
   "cell_type": "markdown",
   "id": "65b40127-aa94-4fea-95e1-f9f7c8308b09",
   "metadata": {},
   "source": [
    "### Read the json"
   ]
  },
  {
   "cell_type": "code",
   "execution_count": 131,
   "id": "65350aa8-a7e2-4545-9751-fe43b66c0eaa",
   "metadata": {},
   "outputs": [],
   "source": [
    "with open(\"data/raw/realtime.json\") as json_file:\n",
    "    jsons = json.load(json_file)"
   ]
  },
  {
   "cell_type": "code",
   "execution_count": 129,
   "id": "ca068e3d-18f1-4f96-b872-58a7178e2daf",
   "metadata": {},
   "outputs": [],
   "source": [
    "current_vistors = jsons[\"data\"][0][\"active_visitors\"]"
   ]
  },
  {
   "cell_type": "code",
   "execution_count": 130,
   "id": "ab444136-8b02-400a-a5e2-00b5ecf8ae0e",
   "metadata": {},
   "outputs": [],
   "source": [
    "current_dateime = pd.to_datetime(jsons[\"taken_at\"])"
   ]
  },
  {
   "cell_type": "code",
   "execution_count": 135,
   "id": "12419940-602c-4bfc-8c25-c15045f9fb96",
   "metadata": {},
   "outputs": [],
   "source": [
    "df = pd.DataFrame(columns=[\"datetime\", \"vistors\"])"
   ]
  },
  {
   "cell_type": "code",
   "execution_count": 136,
   "id": "2c12c4b8-37f5-47e7-9d97-e80aa75be6f8",
   "metadata": {},
   "outputs": [],
   "source": [
    "df[\"datetime\"] = pd.to_datetime(data[\"taken_at\"])\n",
    "df[\"date\"] = df[\"datetime\"].dt.date\n",
    "df[\"time\"] = df[\"datetime\"].dt.time\n",
    "df[\"vistors\"] = data[\"data\"][0][\"active_visitors\"]"
   ]
  },
  {
   "cell_type": "code",
   "execution_count": 137,
   "id": "938ef51e-fe97-444e-b96b-eefc001f8099",
   "metadata": {},
   "outputs": [
    {
     "data": {
      "text/html": [
       "<div>\n",
       "<style scoped>\n",
       "    .dataframe tbody tr th:only-of-type {\n",
       "        vertical-align: middle;\n",
       "    }\n",
       "\n",
       "    .dataframe tbody tr th {\n",
       "        vertical-align: top;\n",
       "    }\n",
       "\n",
       "    .dataframe thead th {\n",
       "        text-align: right;\n",
       "    }\n",
       "</style>\n",
       "<table border=\"1\" class=\"dataframe\">\n",
       "  <thead>\n",
       "    <tr style=\"text-align: right;\">\n",
       "      <th></th>\n",
       "      <th>datetime</th>\n",
       "      <th>vistors</th>\n",
       "      <th>date</th>\n",
       "      <th>time</th>\n",
       "    </tr>\n",
       "  </thead>\n",
       "  <tbody>\n",
       "  </tbody>\n",
       "</table>\n",
       "</div>"
      ],
      "text/plain": [
       "Empty DataFrame\n",
       "Columns: [datetime, vistors, date, time]\n",
       "Index: []"
      ]
     },
     "execution_count": 137,
     "metadata": {},
     "output_type": "execute_result"
    }
   ],
   "source": [
    "df"
   ]
  },
  {
   "cell_type": "code",
   "execution_count": null,
   "id": "1ed4971d-fe13-4aed-81c9-2a4e83350686",
   "metadata": {},
   "outputs": [],
   "source": []
  }
 ],
 "metadata": {
  "kernelspec": {
   "display_name": "Python 3 (ipykernel)",
   "language": "python",
   "name": "python3"
  },
  "language_info": {
   "codemirror_mode": {
    "name": "ipython",
    "version": 3
   },
   "file_extension": ".py",
   "mimetype": "text/x-python",
   "name": "python",
   "nbconvert_exporter": "python",
   "pygments_lexer": "ipython3",
   "version": "3.8.9"
  }
 },
 "nbformat": 4,
 "nbformat_minor": 5
}
