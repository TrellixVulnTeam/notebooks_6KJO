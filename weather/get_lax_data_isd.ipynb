{
 "cells": [
  {
   "cell_type": "markdown",
   "id": "da0510f9-3b30-4ec3-9c0e-59bd76453ddb",
   "metadata": {
    "tags": []
   },
   "source": [
    "# Historical NOAA weather data"
   ]
  },
  {
   "cell_type": "markdown",
   "id": "52142d9f-95bd-4477-bcd1-f783da3b15a4",
   "metadata": {},
   "source": [
    "### Import Python tools and Jupyter configuration"
   ]
  },
  {
   "cell_type": "code",
   "execution_count": 1,
   "id": "53397795-4e53-42c0-9958-e315fbfaa6e4",
   "metadata": {},
   "outputs": [],
   "source": [
    "%load_ext lab_black"
   ]
  },
  {
   "cell_type": "code",
   "execution_count": 2,
   "id": "985ed7ee-0128-4a07-a19a-1f1c3ef324a1",
   "metadata": {},
   "outputs": [],
   "source": [
    "import pandas as pd\n",
    "import requests\n",
    "from bs4 import BeautifulSoup\n",
    "import re\n",
    "import datetime as dt"
   ]
  },
  {
   "cell_type": "code",
   "execution_count": 3,
   "id": "cf6a1c2a-f714-4890-a8e2-523f790b9f58",
   "metadata": {},
   "outputs": [],
   "source": [
    "import altair as alt\n",
    "import altair_latimes as lat\n",
    "import numpy as np"
   ]
  },
  {
   "cell_type": "code",
   "execution_count": 4,
   "id": "88119b11-736b-4440-b19c-c927e3d823fd",
   "metadata": {},
   "outputs": [
    {
     "data": {
      "text/plain": [
       "ThemeRegistry.enable('latimes')"
      ]
     },
     "execution_count": 4,
     "metadata": {},
     "output_type": "execute_result"
    }
   ],
   "source": [
    "alt.themes.register(\"latimes\", lat.theme)\n",
    "alt.themes.enable(\"latimes\")"
   ]
  },
  {
   "cell_type": "code",
   "execution_count": 5,
   "id": "c95c0d59-6bf9-4518-85de-b48b4bdb86de",
   "metadata": {},
   "outputs": [],
   "source": [
    "pd.options.display.max_columns = 1000\n",
    "pd.options.display.max_rows = 1000\n",
    "alt.data_transformers.disable_max_rows()\n",
    "pd.options.display.max_colwidth = None"
   ]
  },
  {
   "cell_type": "markdown",
   "id": "d2cec0ee-1c0e-481d-8213-118f6dce495f",
   "metadata": {},
   "source": [
    "### Get LAX data from the Integrated Surface Dataset"
   ]
  },
  {
   "cell_type": "code",
   "execution_count": 48,
   "id": "a2364931-f1bd-4a07-bd65-516b11e3250c",
   "metadata": {},
   "outputs": [],
   "source": [
    "### LAX station\n",
    "usaf = \"722950\"\n",
    "wban = \"23174\""
   ]
  },
  {
   "cell_type": "code",
   "execution_count": 60,
   "id": "02184cc5-3f09-4c07-8931-c3e94dcecf2b",
   "metadata": {},
   "outputs": [],
   "source": [
    "# urls = []\n",
    "\n",
    "# for y in range(1980, 2022):\n",
    "#     urls.append(\n",
    "#         \"https://www.ncei.noaa.gov/pub/data/noaa/isd-lite/\"\n",
    "#         + f\"{y}/\"\n",
    "#         + f\"{usaf}-\"\n",
    "#         + f\"{wban}-\"\n",
    "#         + f\"{y}.gz\"\n",
    "#     )\n",
    "#     for u in urls:\n",
    "#         !wget -O 'data/raw/isd/{y}_data.gz' '{u}'"
   ]
  },
  {
   "cell_type": "code",
   "execution_count": 61,
   "id": "c4591811-6618-47d5-aee5-73c0675cd613",
   "metadata": {},
   "outputs": [],
   "source": [
    "# !gzip -d data/raw/isd/*_data.gz"
   ]
  },
  {
   "cell_type": "code",
   "execution_count": 66,
   "id": "e2e4a1ca-0275-4c39-a44f-97ed63f6d857",
   "metadata": {},
   "outputs": [],
   "source": [
    "### Format file: https://www1.ncdc.noaa.gov/pub/data/noaa/isd-lite/isd-lite-format.txt"
   ]
  },
  {
   "cell_type": "code",
   "execution_count": 140,
   "id": "9d4f525b-eef5-436b-b498-b383f335f018",
   "metadata": {},
   "outputs": [],
   "source": [
    "df = pd.read_fwf(\n",
    "    \"data/raw/isd/1980_data\",\n",
    "    names=[\n",
    "        \"year\",\n",
    "        \"month\",\n",
    "        \"day\",\n",
    "        \"hour\",\n",
    "        \"air_temp\",\n",
    "        \"dew_temp\",\n",
    "        \"sea_level_pressure\",\n",
    "        \"wind_direction\",\n",
    "        \"wind_speed_rate\",\n",
    "        \"sky_condition\",\n",
    "        \"precip_1hour\",\n",
    "        \"precip_6hour\",\n",
    "    ],\n",
    ")"
   ]
  },
  {
   "cell_type": "code",
   "execution_count": 141,
   "id": "7375808b-ea4a-442c-b21f-a80dfc595cb0",
   "metadata": {},
   "outputs": [],
   "source": [
    "df = df.replace(-9999, 0)"
   ]
  },
  {
   "cell_type": "code",
   "execution_count": 142,
   "id": "59e733c8-b270-4459-82c7-38af8be5ca20",
   "metadata": {},
   "outputs": [],
   "source": [
    "df[\"air_temp\"] = (((df[\"air_temp\"] * 1.8) + 32) / 10).round()\n",
    "df[\"dew_temp\"] = (((df[\"dew_temp\"] * 1.8) + 32) / 10).round()"
   ]
  },
  {
   "cell_type": "code",
   "execution_count": 143,
   "id": "0dfd8a7c-7e1f-48ec-9466-9a74c21b9aeb",
   "metadata": {},
   "outputs": [],
   "source": [
    "df[\"sea_level_pressure\"] = df[\"sea_level_pressure\"].astype(float) / 10\n",
    "df[\"wind_direction\"] = df[\"wind_direction\"].astype(float) / 10\n",
    "df[\"wind_speed_rate\"] = df[\"wind_speed_rate\"].astype(float) / 10\n",
    "df[\"sky_condition\"] = df[\"sky_condition\"].astype(float) / 10\n",
    "df[\"precip_1hour\"] = df[\"precip_1hour\"].astype(float) / 10\n",
    "df[\"precip_6hour\"] = df[\"precip_6hour\"].astype(float) / 10"
   ]
  },
  {
   "cell_type": "code",
   "execution_count": 144,
   "id": "5cfd2130-6663-4f1b-93a6-5c10fe4abb59",
   "metadata": {},
   "outputs": [],
   "source": [
    "import datetime"
   ]
  },
  {
   "cell_type": "code",
   "execution_count": 145,
   "id": "47aa31f0-041b-4498-9ff0-1e03295e6755",
   "metadata": {},
   "outputs": [],
   "source": [
    "df[\"datetime\"] = df[[\"year\", \"month\", \"day\", \"hour\"]].apply(\n",
    "    lambda s: datetime.datetime(*s), axis=1\n",
    ")"
   ]
  },
  {
   "cell_type": "code",
   "execution_count": 146,
   "id": "2552cfef-80de-43d1-9d57-430acd512b17",
   "metadata": {},
   "outputs": [],
   "source": [
    "val_cols = [\n",
    "    \"air_temp\",\n",
    "    \"dew_temp\",\n",
    "    \"sea_level_pressure\",\n",
    "    \"wind_direction\",\n",
    "    \"wind_speed_rate\",\n",
    "    \"sky_condition\",\n",
    "    \"precip_1hour\",\n",
    "    \"precip_6hour\",\n",
    "]"
   ]
  },
  {
   "cell_type": "code",
   "execution_count": 150,
   "id": "349ed6be-06cb-4784-b0cd-d1fe7c48d525",
   "metadata": {},
   "outputs": [
    {
     "data": {
      "text/html": [
       "<div>\n",
       "<style scoped>\n",
       "    .dataframe tbody tr th:only-of-type {\n",
       "        vertical-align: middle;\n",
       "    }\n",
       "\n",
       "    .dataframe tbody tr th {\n",
       "        vertical-align: top;\n",
       "    }\n",
       "\n",
       "    .dataframe thead th {\n",
       "        text-align: right;\n",
       "    }\n",
       "</style>\n",
       "<table border=\"1\" class=\"dataframe\">\n",
       "  <thead>\n",
       "    <tr style=\"text-align: right;\">\n",
       "      <th></th>\n",
       "      <th>year</th>\n",
       "      <th>month</th>\n",
       "      <th>day</th>\n",
       "      <th>hour</th>\n",
       "      <th>air_temp</th>\n",
       "      <th>dew_temp</th>\n",
       "      <th>sea_level_pressure</th>\n",
       "      <th>wind_direction</th>\n",
       "      <th>wind_speed_rate</th>\n",
       "      <th>sky_condition</th>\n",
       "      <th>precip_1hour</th>\n",
       "      <th>precip_6hour</th>\n",
       "      <th>datetime</th>\n",
       "    </tr>\n",
       "  </thead>\n",
       "  <tbody>\n",
       "    <tr>\n",
       "      <th>1062</th>\n",
       "      <td>1980</td>\n",
       "      <td>2</td>\n",
       "      <td>14</td>\n",
       "      <td>6</td>\n",
       "      <td>28.0</td>\n",
       "      <td>25.0</td>\n",
       "      <td>1002.0</td>\n",
       "      <td>7.0</td>\n",
       "      <td>6.2</td>\n",
       "      <td>0.8</td>\n",
       "      <td>0.5</td>\n",
       "      <td>31.0</td>\n",
       "      <td>1980-02-14 06:00:00</td>\n",
       "    </tr>\n",
       "    <tr>\n",
       "      <th>1068</th>\n",
       "      <td>1980</td>\n",
       "      <td>2</td>\n",
       "      <td>14</td>\n",
       "      <td>12</td>\n",
       "      <td>28.0</td>\n",
       "      <td>26.0</td>\n",
       "      <td>999.2</td>\n",
       "      <td>2.0</td>\n",
       "      <td>3.1</td>\n",
       "      <td>0.8</td>\n",
       "      <td>0.0</td>\n",
       "      <td>31.0</td>\n",
       "      <td>1980-02-14 12:00:00</td>\n",
       "    </tr>\n",
       "  </tbody>\n",
       "</table>\n",
       "</div>"
      ],
      "text/plain": [
       "      year  month  day  hour  air_temp  dew_temp  sea_level_pressure  \\\n",
       "1062  1980      2   14     6      28.0      25.0              1002.0   \n",
       "1068  1980      2   14    12      28.0      26.0               999.2   \n",
       "\n",
       "      wind_direction  wind_speed_rate  sky_condition  precip_1hour  \\\n",
       "1062             7.0              6.2            0.8           0.5   \n",
       "1068             2.0              3.1            0.8           0.0   \n",
       "\n",
       "      precip_6hour            datetime  \n",
       "1062          31.0 1980-02-14 06:00:00  \n",
       "1068          31.0 1980-02-14 12:00:00  "
      ]
     },
     "execution_count": 150,
     "metadata": {},
     "output_type": "execute_result"
    }
   ],
   "source": [
    "df[df.precip_6hour == df.precip_6hour.max()]"
   ]
  },
  {
   "cell_type": "code",
   "execution_count": null,
   "id": "5b5043a6-be1f-4f1d-baf0-a4394211666c",
   "metadata": {},
   "outputs": [],
   "source": []
  }
 ],
 "metadata": {
  "kernelspec": {
   "display_name": "Python 3 (ipykernel)",
   "language": "python",
   "name": "python3"
  },
  "language_info": {
   "codemirror_mode": {
    "name": "ipython",
    "version": 3
   },
   "file_extension": ".py",
   "mimetype": "text/x-python",
   "name": "python",
   "nbconvert_exporter": "python",
   "pygments_lexer": "ipython3",
   "version": "3.8.11"
  }
 },
 "nbformat": 4,
 "nbformat_minor": 5
}
