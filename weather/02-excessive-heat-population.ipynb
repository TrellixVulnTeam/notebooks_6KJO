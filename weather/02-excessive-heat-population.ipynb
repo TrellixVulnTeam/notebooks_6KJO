{
 "cells": [
  {
   "cell_type": "markdown",
   "id": "5449e29c-233b-4fa6-9771-f7653d03e7dd",
   "metadata": {},
   "source": [
    "# Heat.gov: People in excessive heat"
   ]
  },
  {
   "cell_type": "code",
   "execution_count": 1,
   "id": "c15e7805-339c-463f-b80d-7188846031d8",
   "metadata": {},
   "outputs": [],
   "source": [
    "import pandas as pd"
   ]
  },
  {
   "cell_type": "code",
   "execution_count": 2,
   "id": "43146e47-3237-43bf-9084-b115e18943fc",
   "metadata": {},
   "outputs": [],
   "source": [
    "today = pd.to_datetime(\"today\").strftime(\"%Y-%m-%d\")"
   ]
  },
  {
   "cell_type": "markdown",
   "id": "929ab230-6e69-47cb-9a49-7b7896d1d96e",
   "metadata": {},
   "source": [
    "---"
   ]
  },
  {
   "cell_type": "code",
   "execution_count": 3,
   "id": "5a1f31dd-f05a-468b-bb96-9ab7ecda0fe8",
   "metadata": {},
   "outputs": [],
   "source": [
    "json_url = \"https://services3.arcgis.com/0Fs3HcaFfvzXvm7w/arcgis/rest/services/Indicators_ExtremeHeat/FeatureServer/0/query?f=json&where=1%3D1&outFields=Indicator_Name%2CIndicator_Value%2CLink%2CSource%2CTimeseries_Data%2CTimeseries_Label%2CTimeseries_Date%2CTopic\""
   ]
  },
  {
   "cell_type": "code",
   "execution_count": 4,
   "id": "fc7e0335-31ee-483f-8bb0-9c3133be5eb0",
   "metadata": {},
   "outputs": [],
   "source": [
    "import urllib.request, json\n",
    "\n",
    "with urllib.request.urlopen(json_url) as url:\n",
    "    data = json.loads(url.read().decode())"
   ]
  },
  {
   "cell_type": "code",
   "execution_count": 5,
   "id": "afbd7e24-e136-488b-b7e2-fd452ccb0ff7",
   "metadata": {},
   "outputs": [],
   "source": [
    "src = pd.DataFrame(\n",
    "    {\n",
    "        \"date\": data[\"features\"][0][\"attributes\"][\"Timeseries_Date\"].split(\",\"),\n",
    "        \"total\": data[\"features\"][0][\"attributes\"][\"Timeseries_Data\"].split(\",\"),\n",
    "    }\n",
    ")"
   ]
  },
  {
   "cell_type": "code",
   "execution_count": 6,
   "id": "91af85a9-8787-4e4a-8068-1cae79aedc76",
   "metadata": {},
   "outputs": [],
   "source": [
    "src[\"date\"] = pd.to_datetime(src[\"date\"]).dt.strftime('%Y-%m-%d')"
   ]
  },
  {
   "cell_type": "code",
   "execution_count": 7,
   "id": "eef543e5-f263-4c48-9eb6-3aaa475e7a1e",
   "metadata": {},
   "outputs": [],
   "source": [
    "df_start = pd.read_csv('data/processed/people_in_excessive_heat_2022-08-14.csv')"
   ]
  },
  {
   "cell_type": "code",
   "execution_count": 8,
   "id": "24de3743-7142-471e-a86e-72c18547138d",
   "metadata": {},
   "outputs": [],
   "source": [
    "df_start[\"date\"] = pd.to_datetime(df_start[\"date\"]).dt.strftime('%Y-%m-%d')"
   ]
  },
  {
   "cell_type": "code",
   "execution_count": 9,
   "id": "dc07d619-a647-415d-9f1b-455d555bc61e",
   "metadata": {},
   "outputs": [],
   "source": [
    "df = pd.concat([src, df_start]).drop_duplicates(subset='date').sort_values('date', ascending=False).reset_index(drop=True)"
   ]
  },
  {
   "cell_type": "code",
   "execution_count": 10,
   "id": "c6666e25-3e59-40ad-9b90-1a4c1dd315cd",
   "metadata": {},
   "outputs": [],
   "source": [
    "df[\"date\"] = pd.to_datetime(df[\"date\"])\n",
    "df[\"total\"] = df[\"total\"].astype(int)"
   ]
  },
  {
   "cell_type": "code",
   "execution_count": 11,
   "id": "c1d7b16f-4e02-439e-b721-f64a12ee0017",
   "metadata": {},
   "outputs": [],
   "source": [
    "df['pop'] = 331449281\n",
    "df['pop_share'] = ((df['total'] / df['pop'])*100).round(2)"
   ]
  },
  {
   "cell_type": "markdown",
   "id": "e5e14bec-c225-4d8a-9b8d-3e384d2e7fe6",
   "metadata": {},
   "source": [
    "## Export"
   ]
  },
  {
   "cell_type": "code",
   "execution_count": 12,
   "id": "2e26ddc3-e350-42a7-b123-545305960b4c",
   "metadata": {},
   "outputs": [],
   "source": [
    "df.to_csv(f\"data/processed/people_in_excessive_heat_{today}.csv\", index=False)\n",
    "df.to_csv(f\"data/processed/people_in_excessive_heat_historic.csv\", index=False)"
   ]
  }
 ],
 "metadata": {
  "kernelspec": {
   "display_name": "Python 3 (ipykernel)",
   "language": "python",
   "name": "python3"
  },
  "language_info": {
   "codemirror_mode": {
    "name": "ipython",
    "version": 3
   },
   "file_extension": ".py",
   "mimetype": "text/x-python",
   "name": "python",
   "nbconvert_exporter": "python",
   "pygments_lexer": "ipython3",
   "version": "3.8.9"
  }
 },
 "nbformat": 4,
 "nbformat_minor": 5
}
