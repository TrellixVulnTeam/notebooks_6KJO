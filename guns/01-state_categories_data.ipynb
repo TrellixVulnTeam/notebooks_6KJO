{
 "cells": [
  {
   "cell_type": "markdown",
   "id": "f6e937f9-c6bf-4ca3-bed5-d81970dab8b7",
   "metadata": {},
   "source": [
    "# FBI background checks - States and categories"
   ]
  },
  {
   "cell_type": "markdown",
   "id": "55ef6f55-a83c-4460-8670-2d77d329e7ec",
   "metadata": {},
   "source": [
    "### Import Python tools and Jupyter configuration"
   ]
  },
  {
   "cell_type": "code",
   "execution_count": 2,
   "id": "e7f6e5d3-7bbb-4ca7-8100-7c61de7fcbad",
   "metadata": {},
   "outputs": [],
   "source": [
    "%load_ext lab_black"
   ]
  },
  {
   "cell_type": "code",
   "execution_count": 4,
   "id": "d00f2faa-dcee-45d0-9842-e35021c295a3",
   "metadata": {},
   "outputs": [],
   "source": [
    "import pandas as pd\n",
    "import geopandas as gpd\n",
    "import altair as alt\n",
    "import datetime as dt\n",
    "import numpy as np"
   ]
  },
  {
   "cell_type": "code",
   "execution_count": 5,
   "id": "b2ec2818-3b45-4e6a-a530-e41202c5711f",
   "metadata": {},
   "outputs": [],
   "source": [
    "pd.options.display.max_columns = 100\n",
    "pd.options.display.max_rows = 1000\n",
    "pd.options.display.max_colwidth = None"
   ]
  },
  {
   "cell_type": "code",
   "execution_count": 6,
   "id": "adba2da5-42e5-4af1-bc61-fb0d28f6840f",
   "metadata": {},
   "outputs": [],
   "source": [
    "month_year_updated = dt.date.today().strftime(\"%m_%Y\")"
   ]
  },
  {
   "cell_type": "markdown",
   "id": "8c321cb4-a9f8-4d15-ac76-479ba0057a11",
   "metadata": {},
   "source": [
    "---"
   ]
  },
  {
   "cell_type": "markdown",
   "id": "f6d1e23c-0401-4f01-9037-8bb1e37fe3c9",
   "metadata": {},
   "source": [
    "### Bless you @jsvine"
   ]
  },
  {
   "cell_type": "code",
   "execution_count": 7,
   "id": "8fa8926c-a981-4eb1-86fe-24f353439956",
   "metadata": {},
   "outputs": [],
   "source": [
    "url = \"https://raw.githubusercontent.com/BuzzFeedNews/nics-firearm-background-checks/master/data/nics-firearm-background-checks.csv\""
   ]
  },
  {
   "cell_type": "markdown",
   "id": "882df374-b0e8-452a-9ceb-a15804bb2f96",
   "metadata": {},
   "source": [
    "### Read data"
   ]
  },
  {
   "cell_type": "code",
   "execution_count": 8,
   "id": "8c2d4f5f-2c99-4e90-91f9-87a9cec29789",
   "metadata": {},
   "outputs": [],
   "source": [
    "src = pd.read_csv(url)"
   ]
  },
  {
   "cell_type": "markdown",
   "id": "15e56bdb-f13c-44ef-9939-c86546c5ed4e",
   "metadata": {},
   "source": [
    "### Exclude permits figures"
   ]
  },
  {
   "cell_type": "code",
   "execution_count": 10,
   "id": "453c0bcf-34ac-4711-9bb6-88c47f22d3ca",
   "metadata": {},
   "outputs": [],
   "source": [
    "src[\"totals_no_permits\"] = src[\"totals\"] - src[\"permit\"]"
   ]
  },
  {
   "cell_type": "code",
   "execution_count": 12,
   "id": "00f0a604-e962-4639-ba5b-f4112f3ec2b8",
   "metadata": {},
   "outputs": [
    {
     "data": {
      "text/html": [
       "<div>\n",
       "<style scoped>\n",
       "    .dataframe tbody tr th:only-of-type {\n",
       "        vertical-align: middle;\n",
       "    }\n",
       "\n",
       "    .dataframe tbody tr th {\n",
       "        vertical-align: top;\n",
       "    }\n",
       "\n",
       "    .dataframe thead th {\n",
       "        text-align: right;\n",
       "    }\n",
       "</style>\n",
       "<table border=\"1\" class=\"dataframe\">\n",
       "  <thead>\n",
       "    <tr style=\"text-align: right;\">\n",
       "      <th></th>\n",
       "      <th>month</th>\n",
       "      <th>state</th>\n",
       "      <th>handgun</th>\n",
       "      <th>long_gun</th>\n",
       "      <th>totals</th>\n",
       "    </tr>\n",
       "  </thead>\n",
       "  <tbody>\n",
       "    <tr>\n",
       "      <th>0</th>\n",
       "      <td>2021-11</td>\n",
       "      <td>Alabama</td>\n",
       "      <td>22126.0</td>\n",
       "      <td>21230.0</td>\n",
       "      <td>74158</td>\n",
       "    </tr>\n",
       "    <tr>\n",
       "      <th>1</th>\n",
       "      <td>2021-11</td>\n",
       "      <td>Alaska</td>\n",
       "      <td>3162.0</td>\n",
       "      <td>3248.0</td>\n",
       "      <td>7342</td>\n",
       "    </tr>\n",
       "    <tr>\n",
       "      <th>2</th>\n",
       "      <td>2021-11</td>\n",
       "      <td>Arizona</td>\n",
       "      <td>20104.0</td>\n",
       "      <td>10905.0</td>\n",
       "      <td>38933</td>\n",
       "    </tr>\n",
       "    <tr>\n",
       "      <th>3</th>\n",
       "      <td>2021-11</td>\n",
       "      <td>Arkansas</td>\n",
       "      <td>8036.0</td>\n",
       "      <td>10394.0</td>\n",
       "      <td>23744</td>\n",
       "    </tr>\n",
       "    <tr>\n",
       "      <th>4</th>\n",
       "      <td>2021-11</td>\n",
       "      <td>California</td>\n",
       "      <td>40966.0</td>\n",
       "      <td>29795.0</td>\n",
       "      <td>112977</td>\n",
       "    </tr>\n",
       "    <tr>\n",
       "      <th>...</th>\n",
       "      <td>...</td>\n",
       "      <td>...</td>\n",
       "      <td>...</td>\n",
       "      <td>...</td>\n",
       "      <td>...</td>\n",
       "    </tr>\n",
       "    <tr>\n",
       "      <th>15230</th>\n",
       "      <td>1998-11</td>\n",
       "      <td>Virginia</td>\n",
       "      <td>14.0</td>\n",
       "      <td>2.0</td>\n",
       "      <td>24</td>\n",
       "    </tr>\n",
       "    <tr>\n",
       "      <th>15231</th>\n",
       "      <td>1998-11</td>\n",
       "      <td>Washington</td>\n",
       "      <td>65.0</td>\n",
       "      <td>286.0</td>\n",
       "      <td>361</td>\n",
       "    </tr>\n",
       "    <tr>\n",
       "      <th>15232</th>\n",
       "      <td>1998-11</td>\n",
       "      <td>West Virginia</td>\n",
       "      <td>149.0</td>\n",
       "      <td>251.0</td>\n",
       "      <td>408</td>\n",
       "    </tr>\n",
       "    <tr>\n",
       "      <th>15233</th>\n",
       "      <td>1998-11</td>\n",
       "      <td>Wisconsin</td>\n",
       "      <td>25.0</td>\n",
       "      <td>214.0</td>\n",
       "      <td>241</td>\n",
       "    </tr>\n",
       "    <tr>\n",
       "      <th>15234</th>\n",
       "      <td>1998-11</td>\n",
       "      <td>Wyoming</td>\n",
       "      <td>45.0</td>\n",
       "      <td>49.0</td>\n",
       "      <td>107</td>\n",
       "    </tr>\n",
       "  </tbody>\n",
       "</table>\n",
       "<p>15235 rows × 5 columns</p>\n",
       "</div>"
      ],
      "text/plain": [
       "         month          state  handgun  long_gun  totals\n",
       "0      2021-11        Alabama  22126.0   21230.0   74158\n",
       "1      2021-11         Alaska   3162.0    3248.0    7342\n",
       "2      2021-11        Arizona  20104.0   10905.0   38933\n",
       "3      2021-11       Arkansas   8036.0   10394.0   23744\n",
       "4      2021-11     California  40966.0   29795.0  112977\n",
       "...        ...            ...      ...       ...     ...\n",
       "15230  1998-11       Virginia     14.0       2.0      24\n",
       "15231  1998-11     Washington     65.0     286.0     361\n",
       "15232  1998-11  West Virginia    149.0     251.0     408\n",
       "15233  1998-11      Wisconsin     25.0     214.0     241\n",
       "15234  1998-11        Wyoming     45.0      49.0     107\n",
       "\n",
       "[15235 rows x 5 columns]"
      ]
     },
     "execution_count": 12,
     "metadata": {},
     "output_type": "execute_result"
    }
   ],
   "source": [
    "src[[\"month\", \"state\", \"handgun\", \"long_gun\", \"totals\"]]"
   ]
  },
  {
   "cell_type": "code",
   "execution_count": null,
   "id": "f3777cd7-a1c4-4284-8663-b0869a3d55b6",
   "metadata": {},
   "outputs": [],
   "source": []
  }
 ],
 "metadata": {
  "kernelspec": {
   "display_name": "Python 3",
   "language": "python",
   "name": "python3"
  },
  "language_info": {
   "codemirror_mode": {
    "name": "ipython",
    "version": 3
   },
   "file_extension": ".py",
   "mimetype": "text/x-python",
   "name": "python",
   "nbconvert_exporter": "python",
   "pygments_lexer": "ipython3",
   "version": "3.8.8"
  }
 },
 "nbformat": 4,
 "nbformat_minor": 5
}
