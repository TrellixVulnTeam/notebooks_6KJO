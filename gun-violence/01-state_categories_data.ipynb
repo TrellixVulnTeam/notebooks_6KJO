{
 "cells": [
  {
   "cell_type": "markdown",
   "id": "f6e937f9-c6bf-4ca3-bed5-d81970dab8b7",
   "metadata": {},
   "source": [
    "# FBI background checks - States and categories"
   ]
  },
  {
   "cell_type": "markdown",
   "id": "55ef6f55-a83c-4460-8670-2d77d329e7ec",
   "metadata": {},
   "source": [
    "### Import Python tools and Jupyter configuration"
   ]
  },
  {
   "cell_type": "code",
   "execution_count": 1,
   "id": "e7f6e5d3-7bbb-4ca7-8100-7c61de7fcbad",
   "metadata": {},
   "outputs": [],
   "source": [
    "%load_ext lab_black"
   ]
  },
  {
   "cell_type": "code",
   "execution_count": 2,
   "id": "d00f2faa-dcee-45d0-9842-e35021c295a3",
   "metadata": {},
   "outputs": [],
   "source": [
    "import pandas as pd\n",
    "import geopandas as gpd\n",
    "import altair as alt\n",
    "import datetime as dt\n",
    "import numpy as np"
   ]
  },
  {
   "cell_type": "code",
   "execution_count": 3,
   "id": "b2ec2818-3b45-4e6a-a530-e41202c5711f",
   "metadata": {},
   "outputs": [],
   "source": [
    "pd.options.display.max_columns = 100\n",
    "pd.options.display.max_rows = 1000\n",
    "pd.options.display.max_colwidth = None"
   ]
  },
  {
   "cell_type": "code",
   "execution_count": 4,
   "id": "adba2da5-42e5-4af1-bc61-fb0d28f6840f",
   "metadata": {},
   "outputs": [],
   "source": [
    "month_year_updated = dt.date.today().strftime(\"%m_%Y\")"
   ]
  },
  {
   "cell_type": "markdown",
   "id": "8c321cb4-a9f8-4d15-ac76-479ba0057a11",
   "metadata": {},
   "source": [
    "---"
   ]
  },
  {
   "cell_type": "markdown",
   "id": "f6d1e23c-0401-4f01-9037-8bb1e37fe3c9",
   "metadata": {},
   "source": [
    "### Bless you @jsvine"
   ]
  },
  {
   "cell_type": "code",
   "execution_count": 5,
   "id": "8fa8926c-a981-4eb1-86fe-24f353439956",
   "metadata": {},
   "outputs": [],
   "source": [
    "url = \"https://raw.githubusercontent.com/BuzzFeedNews/nics-firearm-background-checks/master/data/nics-firearm-background-checks.csv\""
   ]
  },
  {
   "cell_type": "markdown",
   "id": "882df374-b0e8-452a-9ceb-a15804bb2f96",
   "metadata": {},
   "source": [
    "### Read data"
   ]
  },
  {
   "cell_type": "code",
   "execution_count": 6,
   "id": "e8605949-a9db-49a1-bbf9-ed925a3a2f0e",
   "metadata": {},
   "outputs": [],
   "source": [
    "src = pd.read_csv(url)"
   ]
  },
  {
   "cell_type": "code",
   "execution_count": 7,
   "id": "0266d0e0-3f99-411c-9c0f-c9208eeff52d",
   "metadata": {},
   "outputs": [
    {
     "data": {
      "text/plain": [
       "month                        2022-04\n",
       "state                        Alabama\n",
       "permit                       16150.0\n",
       "permit_recheck                 236.0\n",
       "handgun                      20593.0\n",
       "long_gun                     12513.0\n",
       "other                         1249.0\n",
       "multiple                        1041\n",
       "admin                            0.0\n",
       "prepawn_handgun                 21.0\n",
       "prepawn_long_gun                 2.0\n",
       "prepawn_other                    0.0\n",
       "redemption_handgun            2214.0\n",
       "redemption_long_gun            852.0\n",
       "redemption_other                 8.0\n",
       "returned_handgun                37.0\n",
       "returned_long_gun                0.0\n",
       "returned_other                   0.0\n",
       "rentals_handgun                  0.0\n",
       "rentals_long_gun                 0.0\n",
       "private_sale_handgun            16.0\n",
       "private_sale_long_gun           19.0\n",
       "private_sale_other               4.0\n",
       "return_to_seller_handgun         0.0\n",
       "return_to_seller_long_gun        1.0\n",
       "return_to_seller_other           0.0\n",
       "totals                         54956\n",
       "Name: 0, dtype: object"
      ]
     },
     "execution_count": 7,
     "metadata": {},
     "output_type": "execute_result"
    }
   ],
   "source": [
    "src.iloc[0]"
   ]
  },
  {
   "cell_type": "code",
   "execution_count": 8,
   "id": "4c67725d-ff04-4a55-aa28-6f3b22763330",
   "metadata": {},
   "outputs": [],
   "source": [
    "src[\"year\"] = src[\"month\"].str[:4]"
   ]
  },
  {
   "cell_type": "markdown",
   "id": "bcb9a3e7-ec13-418a-b746-bb21c3fcd466",
   "metadata": {},
   "source": [
    "---"
   ]
  },
  {
   "cell_type": "markdown",
   "id": "6393fd4a-23d3-42ab-89e9-b5ca46d323b8",
   "metadata": {},
   "source": [
    "### AP states"
   ]
  },
  {
   "cell_type": "code",
   "execution_count": 9,
   "id": "5274b114-7c1c-451e-ac27-4d31f14e807a",
   "metadata": {},
   "outputs": [],
   "source": [
    "ap_states = {\n",
    "    \"Alabama\": \"Ala.\",\n",
    "    \"Alaska\": \"Alaska\",\n",
    "    \"Arizona\": \"Ariz.\",\n",
    "    \"Arkansas\": \"Ark.\",\n",
    "    \"California\": \"Calif.\",\n",
    "    \"Colorado\": \"Colo.\",\n",
    "    \"Connecticut\": \"Conn.\",\n",
    "    \"Delaware\": \"Del.\",\n",
    "    \"Florida\": \"Fla.\",\n",
    "    \"Georgia\": \"Ga.\",\n",
    "    \"Hawaii\": \"Hawaii\",\n",
    "    \"Idaho\": \"Iowa\",\n",
    "    \"Illinois\": \"Idaho\",\n",
    "    \"Indiana\": \"Ill.\",\n",
    "    \"Iowa\": \"Ind.\",\n",
    "    \"Kansas\": \"Kan.\",\n",
    "    \"Kentucky\": \"Ky.\",\n",
    "    \"Louisiana\": \"La.\",\n",
    "    \"Maine\": \"Md.\",\n",
    "    \"Maryland\": \"Mass.\",\n",
    "    \"Massachusetts\": \"Maine\",\n",
    "    \"Michigan\": \"Mich.\",\n",
    "    \"Minnesota\": \"Minn.\",\n",
    "    \"Mississippi\": \"Miss.\",\n",
    "    \"Missouri\": \"Mo.\",\n",
    "    \"Montana\": \"Mont.\",\n",
    "    \"Nebraska\": \"Neb.\",\n",
    "    \"Nevada\": \"Nev.\",\n",
    "    \"New Hampshire\": \"N.H.\",\n",
    "    \"New Jersey\": \"N.J.\",\n",
    "    \"New Mexico\": \"N.M.\",\n",
    "    \"New York\": \"N.Y.\",\n",
    "    \"North Carolina\": \"N.C.\",\n",
    "    \"North Dakota\": \"N.D.\",\n",
    "    \"Ohio\": \"Ohio\",\n",
    "    \"Oklahoma\": \"Okla.\",\n",
    "    \"Oregon\": \"Ore.\",\n",
    "    \"Pennsylvania\": \"Pa.\",\n",
    "    \"Rhode Island\": \"R.I.\",\n",
    "    \"South Carolina\": \"S.C.\",\n",
    "    \"South Dakota\": \"S.D.\",\n",
    "    \"Tennessee\": \"Tenn.\",\n",
    "    \"Texas\": \"Texas\",\n",
    "    \"Utah\": \"Utah\",\n",
    "    \"Vermont\": \"Vt.\",\n",
    "    \"Virginia\": \"Va.\",\n",
    "    \"Washington\": \"Wash.\",\n",
    "    \"West Virginia\": \"W.Va.\",\n",
    "    \"Wisconsin\": \"Wis.\",\n",
    "    \"Wyoming\": \"Wyo\",\n",
    "}"
   ]
  },
  {
   "cell_type": "code",
   "execution_count": 10,
   "id": "2fff3460-f4d7-4549-acb8-ac496660855d",
   "metadata": {},
   "outputs": [],
   "source": [
    "src[\"ap_state\"] = src[\"state\"].map(ap_states)"
   ]
  },
  {
   "cell_type": "markdown",
   "id": "15e56bdb-f13c-44ef-9939-c86546c5ed4e",
   "metadata": {},
   "source": [
    "### Exclude permits figures"
   ]
  },
  {
   "cell_type": "code",
   "execution_count": 11,
   "id": "93540e25-99b9-4e49-a0f7-e2a15926eb8b",
   "metadata": {},
   "outputs": [],
   "source": [
    "src[\"totals_no_permits\"] = src[[\"handgun\", \"multiple\", \"long_gun\"]].sum(axis=1)"
   ]
  },
  {
   "cell_type": "code",
   "execution_count": 12,
   "id": "3248f818-149c-41b0-a4bc-1dc67c053271",
   "metadata": {},
   "outputs": [],
   "source": [
    "src[\"year\"] = src[\"month\"].str[:4]"
   ]
  },
  {
   "cell_type": "code",
   "execution_count": 13,
   "id": "2488d7a6-6d4f-4fb0-b95c-fa5ba5ed7d92",
   "metadata": {},
   "outputs": [],
   "source": [
    "df = src[\n",
    "    [\n",
    "        \"month\",\n",
    "        \"year\",\n",
    "        \"state\",\n",
    "        \"ap_state\",\n",
    "        \"handgun\",\n",
    "        \"multiple\",\n",
    "        \"long_gun\",\n",
    "        \"totals_no_permits\",\n",
    "    ]\n",
    "]"
   ]
  },
  {
   "cell_type": "code",
   "execution_count": 14,
   "id": "f3777cd7-a1c4-4284-8663-b0869a3d55b6",
   "metadata": {},
   "outputs": [
    {
     "data": {
      "text/plain": [
       "Index(['month', 'year', 'state', 'ap_state', 'handgun', 'multiple', 'long_gun',\n",
       "       'totals_no_permits'],\n",
       "      dtype='object')"
      ]
     },
     "execution_count": 14,
     "metadata": {},
     "output_type": "execute_result"
    }
   ],
   "source": [
    "df.columns"
   ]
  },
  {
   "cell_type": "code",
   "execution_count": 15,
   "id": "a20940a2-9194-4e27-af78-1fea7f16fccc",
   "metadata": {},
   "outputs": [],
   "source": [
    "grouped = (\n",
    "    df[df[\"year\"] > \"2008\"]\n",
    "    .groupby([\"year\"])\n",
    "    .agg(\n",
    "        {\n",
    "            \"handgun\": sum,\n",
    "            \"long_gun\": sum,\n",
    "            \"multiple\": sum,\n",
    "            \"totals_no_permits\": sum,\n",
    "        }\n",
    "    )\n",
    "    .reset_index()\n",
    ")\n",
    "grouped"
   ]
  },
  {
   "cell_type": "code",
   "execution_count": 15,
   "id": "e2aa3eb1-43be-4f70-a7d9-c34248ca6c9e",
   "metadata": {},
   "outputs": [
    {
     "data": {
      "text/html": [
       "<div>\n",
       "<style scoped>\n",
       "    .dataframe tbody tr th:only-of-type {\n",
       "        vertical-align: middle;\n",
       "    }\n",
       "\n",
       "    .dataframe tbody tr th {\n",
       "        vertical-align: top;\n",
       "    }\n",
       "\n",
       "    .dataframe thead th {\n",
       "        text-align: right;\n",
       "    }\n",
       "</style>\n",
       "<table border=\"1\" class=\"dataframe\">\n",
       "  <thead>\n",
       "    <tr style=\"text-align: right;\">\n",
       "      <th></th>\n",
       "      <th>year</th>\n",
       "      <th>handgun</th>\n",
       "      <th>long_gun</th>\n",
       "      <th>multiple</th>\n",
       "      <th>totals_no_permits</th>\n",
       "    </tr>\n",
       "  </thead>\n",
       "  <tbody>\n",
       "    <tr>\n",
       "      <th>0</th>\n",
       "      <td>2009</td>\n",
       "      <td>3689604.0</td>\n",
       "      <td>4978641.0</td>\n",
       "      <td>235685</td>\n",
       "      <td>8903930.0</td>\n",
       "    </tr>\n",
       "    <tr>\n",
       "      <th>1</th>\n",
       "      <td>2010</td>\n",
       "      <td>3678001.0</td>\n",
       "      <td>4842184.0</td>\n",
       "      <td>180609</td>\n",
       "      <td>8700794.0</td>\n",
       "    </tr>\n",
       "    <tr>\n",
       "      <th>2</th>\n",
       "      <td>2011</td>\n",
       "      <td>4301389.0</td>\n",
       "      <td>5445966.0</td>\n",
       "      <td>219618</td>\n",
       "      <td>9966973.0</td>\n",
       "    </tr>\n",
       "    <tr>\n",
       "      <th>3</th>\n",
       "      <td>2012</td>\n",
       "      <td>5682963.0</td>\n",
       "      <td>6866225.0</td>\n",
       "      <td>230270</td>\n",
       "      <td>12779458.0</td>\n",
       "    </tr>\n",
       "    <tr>\n",
       "      <th>4</th>\n",
       "      <td>2013</td>\n",
       "      <td>6387502.0</td>\n",
       "      <td>7128798.0</td>\n",
       "      <td>241360</td>\n",
       "      <td>13757660.0</td>\n",
       "    </tr>\n",
       "    <tr>\n",
       "      <th>5</th>\n",
       "      <td>2014</td>\n",
       "      <td>6199243.0</td>\n",
       "      <td>5543371.0</td>\n",
       "      <td>225475</td>\n",
       "      <td>11968089.0</td>\n",
       "    </tr>\n",
       "    <tr>\n",
       "      <th>6</th>\n",
       "      <td>2015</td>\n",
       "      <td>7333808.0</td>\n",
       "      <td>5479441.0</td>\n",
       "      <td>242375</td>\n",
       "      <td>13055624.0</td>\n",
       "    </tr>\n",
       "    <tr>\n",
       "      <th>7</th>\n",
       "      <td>2016</td>\n",
       "      <td>8085498.0</td>\n",
       "      <td>5988511.0</td>\n",
       "      <td>257723</td>\n",
       "      <td>14331732.0</td>\n",
       "    </tr>\n",
       "    <tr>\n",
       "      <th>8</th>\n",
       "      <td>2017</td>\n",
       "      <td>7226979.0</td>\n",
       "      <td>5234757.0</td>\n",
       "      <td>236167</td>\n",
       "      <td>12697903.0</td>\n",
       "    </tr>\n",
       "    <tr>\n",
       "      <th>9</th>\n",
       "      <td>2018</td>\n",
       "      <td>6576111.0</td>\n",
       "      <td>4916533.0</td>\n",
       "      <td>257088</td>\n",
       "      <td>11749732.0</td>\n",
       "    </tr>\n",
       "    <tr>\n",
       "      <th>10</th>\n",
       "      <td>2019</td>\n",
       "      <td>6802167.0</td>\n",
       "      <td>4744298.0</td>\n",
       "      <td>256524</td>\n",
       "      <td>11802989.0</td>\n",
       "    </tr>\n",
       "    <tr>\n",
       "      <th>11</th>\n",
       "      <td>2020</td>\n",
       "      <td>11897521.0</td>\n",
       "      <td>7132864.0</td>\n",
       "      <td>393814</td>\n",
       "      <td>19424199.0</td>\n",
       "    </tr>\n",
       "    <tr>\n",
       "      <th>12</th>\n",
       "      <td>2021</td>\n",
       "      <td>9999061.0</td>\n",
       "      <td>6497192.0</td>\n",
       "      <td>328658</td>\n",
       "      <td>16824911.0</td>\n",
       "    </tr>\n",
       "    <tr>\n",
       "      <th>13</th>\n",
       "      <td>2022</td>\n",
       "      <td>3046581.0</td>\n",
       "      <td>1840409.0</td>\n",
       "      <td>103455</td>\n",
       "      <td>4990445.0</td>\n",
       "    </tr>\n",
       "  </tbody>\n",
       "</table>\n",
       "</div>"
      ],
      "text/plain": [
       "    year     handgun   long_gun  multiple  totals_no_permits\n",
       "0   2009   3689604.0  4978641.0    235685          8903930.0\n",
       "1   2010   3678001.0  4842184.0    180609          8700794.0\n",
       "2   2011   4301389.0  5445966.0    219618          9966973.0\n",
       "3   2012   5682963.0  6866225.0    230270         12779458.0\n",
       "4   2013   6387502.0  7128798.0    241360         13757660.0\n",
       "5   2014   6199243.0  5543371.0    225475         11968089.0\n",
       "6   2015   7333808.0  5479441.0    242375         13055624.0\n",
       "7   2016   8085498.0  5988511.0    257723         14331732.0\n",
       "8   2017   7226979.0  5234757.0    236167         12697903.0\n",
       "9   2018   6576111.0  4916533.0    257088         11749732.0\n",
       "10  2019   6802167.0  4744298.0    256524         11802989.0\n",
       "11  2020  11897521.0  7132864.0    393814         19424199.0\n",
       "12  2021   9999061.0  6497192.0    328658         16824911.0\n",
       "13  2022   3046581.0  1840409.0    103455          4990445.0"
      ]
     },
     "execution_count": 15,
     "metadata": {},
     "output_type": "execute_result"
    }
   ],
   "source": [
    "grouped.melt(index='year', var)"
   ]
  },
  {
   "cell_type": "code",
   "execution_count": 16,
   "id": "b4b772ee-418c-4221-b724-57fff6690c78",
   "metadata": {},
   "outputs": [],
   "source": [
    "grouped[[\"year\", \"handgun\", \"long_gun\", \"multiple\"]].to_csv(\n",
    "    \"data/processed/total_by_year.csv\", index=False\n",
    ")"
   ]
  },
  {
   "cell_type": "code",
   "execution_count": 17,
   "id": "980a0baf-32bb-4934-ad1d-d673219f5821",
   "metadata": {},
   "outputs": [],
   "source": [
    "exclude = [\n",
    "    \"Virgin Islands\",\n",
    "    \"Guam\",\n",
    "    \"Puerto Rico\",\n",
    "    \"Mariana Islands\",\n",
    "    \"District of Columbia\",\n",
    "]"
   ]
  },
  {
   "cell_type": "code",
   "execution_count": 18,
   "id": "afcbacf2-3303-4f80-9105-fbd490c442ab",
   "metadata": {},
   "outputs": [],
   "source": [
    "grouped_states = (\n",
    "    df[df[\"year\"] > \"2008\"]\n",
    "    .groupby([\"year\", \"state\", \"ap_state\"])\n",
    "    .agg({\"handgun\": sum, \"long_gun\": sum, \"totals_no_permits\": sum})\n",
    "    .reset_index()\n",
    ")"
   ]
  },
  {
   "cell_type": "code",
   "execution_count": 19,
   "id": "0df1e67e-5fa8-4f03-87ed-405d9655fe45",
   "metadata": {},
   "outputs": [],
   "source": [
    "change_states_2019_2020 = (\n",
    "    grouped_states[\n",
    "        (grouped_states[\"year\"] > \"2018\") & (grouped_states[\"year\"] < \"2021\")\n",
    "    ]\n",
    "    .pivot(index=[\"ap_state\", \"state\"], columns=\"year\", values=\"totals_no_permits\")\n",
    "    .reset_index()\n",
    ")"
   ]
  },
  {
   "cell_type": "code",
   "execution_count": 20,
   "id": "8fd00a78-37e9-4341-a691-bee2d7cf4f5b",
   "metadata": {},
   "outputs": [],
   "source": [
    "change_states_2019_2020[\"change\"] = round(\n",
    "    (change_states_2019_2020[\"2020\"] - change_states_2019_2020[\"2019\"])\n",
    "    / change_states_2019_2020[\"2019\"]\n",
    "    * 100,\n",
    "    2,\n",
    ")"
   ]
  },
  {
   "cell_type": "code",
   "execution_count": 21,
   "id": "9a88cbfc-dab2-46f4-8a7e-249b8e4c0db2",
   "metadata": {},
   "outputs": [],
   "source": [
    "state_change_export = change_states_2019_2020[\n",
    "    ~change_states_2019_2020[\"state\"].isin(exclude)\n",
    "].sort_values(\"change\", ascending=False)"
   ]
  },
  {
   "cell_type": "code",
   "execution_count": 22,
   "id": "78c300f5-8102-4e73-bff2-06c9a06cc738",
   "metadata": {},
   "outputs": [],
   "source": [
    "state_change_export.to_csv(\"data/processed/state_change_2019-2020.csv\", index=False)"
   ]
  },
  {
   "cell_type": "code",
   "execution_count": null,
   "id": "49fd112e-9cc3-44bd-a7ff-6d4a58e1faf1",
   "metadata": {},
   "outputs": [],
   "source": []
  }
 ],
 "metadata": {
  "kernelspec": {
   "display_name": "Python 3 (ipykernel)",
   "language": "python",
   "name": "python3"
  },
  "language_info": {
   "codemirror_mode": {
    "name": "ipython",
    "version": 3
   },
   "file_extension": ".py",
   "mimetype": "text/x-python",
   "name": "python",
   "nbconvert_exporter": "python",
   "pygments_lexer": "ipython3",
   "version": "3.8.9"
  }
 },
 "nbformat": 4,
 "nbformat_minor": 5
}
