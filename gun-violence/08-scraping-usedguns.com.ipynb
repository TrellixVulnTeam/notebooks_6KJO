{
 "cells": [
  {
   "cell_type": "markdown",
   "id": "f6e937f9-c6bf-4ca3-bed5-d81970dab8b7",
   "metadata": {},
   "source": [
    "# Scraping usedguns.com"
   ]
  },
  {
   "cell_type": "markdown",
   "id": "55ef6f55-a83c-4460-8670-2d77d329e7ec",
   "metadata": {
    "tags": []
   },
   "source": [
    "### Import Python tools and Jupyter configuration"
   ]
  },
  {
   "cell_type": "code",
   "execution_count": 1,
   "id": "e7f6e5d3-7bbb-4ca7-8100-7c61de7fcbad",
   "metadata": {},
   "outputs": [],
   "source": [
    "%load_ext lab_black"
   ]
  },
  {
   "cell_type": "code",
   "execution_count": 2,
   "id": "1e498e10-c3ad-4c31-965f-285b06872a19",
   "metadata": {},
   "outputs": [],
   "source": [
    "import pandas as pd\n",
    "import requests\n",
    "from bs4 import BeautifulSoup\n",
    "import altair as alt\n",
    "import numpy as np\n",
    "import datetime as dt\n",
    "import re\n",
    "import time\n",
    "import random\n",
    "from tqdm import tqdm"
   ]
  },
  {
   "cell_type": "code",
   "execution_count": 3,
   "id": "b2ec2818-3b45-4e6a-a530-e41202c5711f",
   "metadata": {},
   "outputs": [],
   "source": [
    "pd.options.display.max_columns = 100\n",
    "pd.options.display.max_rows = 1000\n",
    "pd.options.display.max_colwidth = None"
   ]
  },
  {
   "cell_type": "code",
   "execution_count": 4,
   "id": "adba2da5-42e5-4af1-bc61-fb0d28f6840f",
   "metadata": {},
   "outputs": [],
   "source": [
    "month_year_updated = dt.date.today().strftime(\"%m_%Y\")"
   ]
  },
  {
   "cell_type": "markdown",
   "id": "8c321cb4-a9f8-4d15-ac76-479ba0057a11",
   "metadata": {},
   "source": [
    "---"
   ]
  },
  {
   "cell_type": "code",
   "execution_count": 5,
   "id": "23cf1bfa-b5a2-44af-8497-9b366004b0bf",
   "metadata": {},
   "outputs": [],
   "source": [
    "url = \"https://www.usedguns.com/Subcategory/Pistols/8423042\""
   ]
  },
  {
   "cell_type": "code",
   "execution_count": 6,
   "id": "69473b2c-723e-4309-8c2b-62f09ee59bad",
   "metadata": {},
   "outputs": [],
   "source": [
    "headers = {\n",
    "    \"sec-ch-ua\": '\" Not A;Brand\";v=\"99\", \"Chromium\";v=\"101\", \"Google Chrome\";v=\"101\"',\n",
    "    \"Referer\": \"https://www.gunviolencearchive.org/\",\n",
    "    \"sec-ch-ua-mobile\": \"?0\",\n",
    "    \"User-Agent\": \"Mozilla/5.0 (Macintosh; Intel Mac OS X 10_15_7) AppleWebKit/537.36 (KHTML, like Gecko) Chrome/101.0.0.0 Safari/537.36\",\n",
    "    \"sec-ch-ua-platform\": '\"macOS\"',\n",
    "}"
   ]
  },
  {
   "cell_type": "markdown",
   "id": "cf36b323-64d3-43ae-9a39-af2a58c48d1c",
   "metadata": {},
   "source": [
    "#### Construct the urls for each category and page number"
   ]
  },
  {
   "cell_type": "code",
   "execution_count": 7,
   "id": "b2ba981a-f63c-4585-a369-9b02437a476c",
   "metadata": {},
   "outputs": [],
   "source": [
    "formaturl = (\n",
    "    lambda x: \"https://www.usedguns.com/Subcategory/\"\n",
    "    + f\"{x[0]}\"\n",
    "    + \"?page=\"\n",
    "    + f\"{x[1]}\"\n",
    "    + \"&pageSize=100&sort=7&listView=true\"\n",
    ")"
   ]
  },
  {
   "cell_type": "markdown",
   "id": "028a1bcb-c3ed-49f4-9c39-b64819e579ae",
   "metadata": {},
   "source": [
    "#### Increase the range to get more pages"
   ]
  },
  {
   "cell_type": "code",
   "execution_count": 8,
   "id": "e1ad153e-551a-44ff-86d8-6c74b2833952",
   "metadata": {},
   "outputs": [],
   "source": [
    "metadata = []\n",
    "urls = []\n",
    "for p in range(1, 50):\n",
    "    for c in [\"Rifles/33588866\", \"Pistols/8423042\"]:\n",
    "        # metadata.append(dict(page=p, category=c, url=formaturl((c, p))))\n",
    "        urls.append(formaturl((c, p)))"
   ]
  },
  {
   "cell_type": "markdown",
   "id": "0cdf91e6-ec29-4b70-b828-d7acfaaa57a4",
   "metadata": {},
   "source": [
    "#### Slowly loop through the urls and snag items from each gun listing"
   ]
  },
  {
   "cell_type": "code",
   "execution_count": 10,
   "id": "abb23105-a07f-4a0f-94d6-9852b354fc3d",
   "metadata": {},
   "outputs": [
    {
     "name": "stderr",
     "output_type": "stream",
     "text": [
      "100%|██████████████████████████████████████████████████████████████████████████████████████████| 98/98 [11:24<00:00,  6.99s/it]\n"
     ]
    }
   ],
   "source": [
    "dicts = []\n",
    "\n",
    "for u in tqdm(urls):\n",
    "    response = requests.get(u, headers=headers)\n",
    "    soup = BeautifulSoup(response.text)\n",
    "    articles = soup.find_all(\"article\")\n",
    "\n",
    "    for d in articles:\n",
    "        for item in d.find_all(\"article\"):\n",
    "            data_dict = {\n",
    "                \"short_title\": item.find(\"h3\").text,\n",
    "                \"quality\": item.find(\"p\", class_=\"quality\").text,\n",
    "                \"price\": re.sub(\n",
    "                    r\"[\\n\\t\\s]*\",\n",
    "                    \"\",\n",
    "                    item.find(\"span\", class_=\"price-without-icon\").text,\n",
    "                ),\n",
    "                \"description\": item.find(\"p\", class_=\"description\").text,\n",
    "                \"url\": item.find(\"a\", href=True)[\"href\"],\n",
    "                # \"thumbnail\": item.find(\"img\", class_=\"model-thumbnail\")[\"src\"],\n",
    "                # \"category\": category_url,\n",
    "            }\n",
    "            dicts.append(data_dict)\n",
    "\n",
    "    time.sleep(random.randint(3, 6))"
   ]
  },
  {
   "cell_type": "markdown",
   "id": "f43fc7ce-284d-456e-b481-035f4d165e99",
   "metadata": {},
   "source": [
    "#### Convert the list of dictionaries into a dataframe"
   ]
  },
  {
   "cell_type": "code",
   "execution_count": 11,
   "id": "6e1c63ec-9233-4ab4-aeb6-88fbfda9c0aa",
   "metadata": {},
   "outputs": [],
   "source": [
    "src_df = pd.DataFrame(dicts)"
   ]
  },
  {
   "cell_type": "code",
   "execution_count": 12,
   "id": "9ea6fee3-cbdf-431d-98a0-9d252ac5bc56",
   "metadata": {},
   "outputs": [],
   "source": [
    "src_df = src_df.drop_duplicates()"
   ]
  },
  {
   "cell_type": "markdown",
   "id": "1e489e60-cac3-418e-847b-1b7a06984047",
   "metadata": {},
   "source": [
    "#### How many guns?"
   ]
  },
  {
   "cell_type": "code",
   "execution_count": 13,
   "id": "f6ab44d6-47da-4f0a-8e14-0b28dd0b30d6",
   "metadata": {},
   "outputs": [
    {
     "data": {
      "text/plain": [
       "5818"
      ]
     },
     "execution_count": 13,
     "metadata": {},
     "output_type": "execute_result"
    }
   ],
   "source": [
    "count_guns = len(src_df)\n",
    "count_guns"
   ]
  },
  {
   "cell_type": "markdown",
   "id": "1e35aff3-3bc8-46d2-a902-f47b6f9eb2dc",
   "metadata": {},
   "source": [
    "#### Categorize by firearm type"
   ]
  },
  {
   "cell_type": "code",
   "execution_count": 14,
   "id": "96a3b47c-2cb1-488f-b90f-6bd42b835c4c",
   "metadata": {},
   "outputs": [],
   "source": [
    "src_df.loc[src_df[\"description\"].str.lower().str.contains(\"pistol\"), \"type\"] = \"pistol\"\n",
    "src_df.loc[src_df[\"description\"].str.lower().str.contains(\"rifle\"), \"type\"] = \"rifle\""
   ]
  },
  {
   "cell_type": "code",
   "execution_count": 15,
   "id": "91ae3da3-13bd-4957-874c-385490537516",
   "metadata": {},
   "outputs": [
    {
     "data": {
      "text/html": [
       "<div>\n",
       "<style scoped>\n",
       "    .dataframe tbody tr th:only-of-type {\n",
       "        vertical-align: middle;\n",
       "    }\n",
       "\n",
       "    .dataframe tbody tr th {\n",
       "        vertical-align: top;\n",
       "    }\n",
       "\n",
       "    .dataframe thead th {\n",
       "        text-align: right;\n",
       "    }\n",
       "</style>\n",
       "<table border=\"1\" class=\"dataframe\">\n",
       "  <thead>\n",
       "    <tr style=\"text-align: right;\">\n",
       "      <th></th>\n",
       "      <th>short_title</th>\n",
       "      <th>quality</th>\n",
       "      <th>price</th>\n",
       "      <th>description</th>\n",
       "      <th>url</th>\n",
       "      <th>type</th>\n",
       "    </tr>\n",
       "  </thead>\n",
       "  <tbody>\n",
       "    <tr>\n",
       "      <th>0</th>\n",
       "      <td>Anderson AM15 5.56mm 16\" Semi-Auto Rifle - Black</td>\n",
       "      <td>Good</td>\n",
       "      <td>$599.99</td>\n",
       "      <td>RIFLE: ANDERSON MANUFACTURING MODEL AM-15 RIFLE, MATTE BLACK, NOT INCLUDED, SEMI - AUTOMATIC, 5.56MM, 16.5</td>\n",
       "      <td>/Item/Details/Anderson-AM15-5-56mm-16-Semi-Auto-Rifle-Black/3175a286c37e44e4b59405038416ae72</td>\n",
       "      <td>rifle</td>\n",
       "    </tr>\n",
       "    <tr>\n",
       "      <th>1</th>\n",
       "      <td>ANDERSON MANUFACTURING AM-15 RIFLE</td>\n",
       "      <td>Like New</td>\n",
       "      <td>$524.95</td>\n",
       "      <td>RIFLE: ANDERSON MANUFACTURING MODEL AM-15 RIFLE, OTHER, NOT INCLUDED, 16\", 5.56MM, SEMI - AUTOMATIC</td>\n",
       "      <td>/Item/Details/ANDERSON-MANUFACTURING-AM-15-RIFLE/f4ddde6787184d0ab3bc33eabe04f9ed</td>\n",
       "      <td>rifle</td>\n",
       "    </tr>\n",
       "    <tr>\n",
       "      <th>2</th>\n",
       "      <td>ANDERSON MANUFACTURING AM-15 RIFLE</td>\n",
       "      <td>Like New</td>\n",
       "      <td>$679.99</td>\n",
       "      <td>RIFLE: ANDERSON MANUFACTURING MODEL AM-15 RIFLE, BLUE, NOT INCLUDED, 20IN, 5.56MM, SEMI - AUTOMATIC, W/ AERO PRECISION 20IN BULL BARREL UPPER</td>\n",
       "      <td>/Item/Details/ANDERSON-MANUFACTURING-AM-15-RIFLE/b4254fa630b4473ca39985c70071f178</td>\n",
       "      <td>rifle</td>\n",
       "    </tr>\n",
       "    <tr>\n",
       "      <th>3</th>\n",
       "      <td>ANDERSON MANUFACTURING AM-15 RIFLE</td>\n",
       "      <td>Very Good</td>\n",
       "      <td>$699.99</td>\n",
       "      <td>RIFLE: ANDERSON MANUFACTURING MODEL AM-15 RIFLE, MATTE BLACK, NOT INCLUDED, 16, 5.56MM, SEMI - AUTOMATIC</td>\n",
       "      <td>/Item/Details/ANDERSON-MANUFACTURING-AM-15-RIFLE/5ecf98606c8a4f13929e3896ee9797a6</td>\n",
       "      <td>rifle</td>\n",
       "    </tr>\n",
       "    <tr>\n",
       "      <th>4</th>\n",
       "      <td>ANDERSON MANUFACTURING AM-15 RIFLE</td>\n",
       "      <td>Brand New</td>\n",
       "      <td>$799.99</td>\n",
       "      <td>RIFLE: ANDERSON MANUFACTURING MODEL AM-15 RIFLE, MATTE BLACK, 16, 5.56 NATO 1:8, SEMI - AUTOMATIC</td>\n",
       "      <td>/Item/Details/ANDERSON-MANUFACTURING-AM-15-RIFLE/8975aa78c6734f779542c4fc615e81ae</td>\n",
       "      <td>rifle</td>\n",
       "    </tr>\n",
       "  </tbody>\n",
       "</table>\n",
       "</div>"
      ],
      "text/plain": [
       "                                        short_title    quality    price  \\\n",
       "0  Anderson AM15 5.56mm 16\" Semi-Auto Rifle - Black       Good  $599.99   \n",
       "1                ANDERSON MANUFACTURING AM-15 RIFLE   Like New  $524.95   \n",
       "2                ANDERSON MANUFACTURING AM-15 RIFLE   Like New  $679.99   \n",
       "3                ANDERSON MANUFACTURING AM-15 RIFLE  Very Good  $699.99   \n",
       "4                ANDERSON MANUFACTURING AM-15 RIFLE  Brand New  $799.99   \n",
       "\n",
       "                                                                                                                                     description  \\\n",
       "0                                     RIFLE: ANDERSON MANUFACTURING MODEL AM-15 RIFLE, MATTE BLACK, NOT INCLUDED, SEMI - AUTOMATIC, 5.56MM, 16.5   \n",
       "1                                            RIFLE: ANDERSON MANUFACTURING MODEL AM-15 RIFLE, OTHER, NOT INCLUDED, 16\", 5.56MM, SEMI - AUTOMATIC   \n",
       "2  RIFLE: ANDERSON MANUFACTURING MODEL AM-15 RIFLE, BLUE, NOT INCLUDED, 20IN, 5.56MM, SEMI - AUTOMATIC, W/ AERO PRECISION 20IN BULL BARREL UPPER   \n",
       "3                                       RIFLE: ANDERSON MANUFACTURING MODEL AM-15 RIFLE, MATTE BLACK, NOT INCLUDED, 16, 5.56MM, SEMI - AUTOMATIC   \n",
       "4                                              RIFLE: ANDERSON MANUFACTURING MODEL AM-15 RIFLE, MATTE BLACK, 16, 5.56 NATO 1:8, SEMI - AUTOMATIC   \n",
       "\n",
       "                                                                                            url  \\\n",
       "0  /Item/Details/Anderson-AM15-5-56mm-16-Semi-Auto-Rifle-Black/3175a286c37e44e4b59405038416ae72   \n",
       "1             /Item/Details/ANDERSON-MANUFACTURING-AM-15-RIFLE/f4ddde6787184d0ab3bc33eabe04f9ed   \n",
       "2             /Item/Details/ANDERSON-MANUFACTURING-AM-15-RIFLE/b4254fa630b4473ca39985c70071f178   \n",
       "3             /Item/Details/ANDERSON-MANUFACTURING-AM-15-RIFLE/5ecf98606c8a4f13929e3896ee9797a6   \n",
       "4             /Item/Details/ANDERSON-MANUFACTURING-AM-15-RIFLE/8975aa78c6734f779542c4fc615e81ae   \n",
       "\n",
       "    type  \n",
       "0  rifle  \n",
       "1  rifle  \n",
       "2  rifle  \n",
       "3  rifle  \n",
       "4  rifle  "
      ]
     },
     "execution_count": 15,
     "metadata": {},
     "output_type": "execute_result"
    }
   ],
   "source": [
    "src_df.head()"
   ]
  },
  {
   "cell_type": "markdown",
   "id": "79c675eb-eace-4616-85b5-e668e46ca7fb",
   "metadata": {},
   "source": [
    "---"
   ]
  },
  {
   "cell_type": "markdown",
   "id": "4713161f-5a2e-4cb4-9fee-f94b17e8aa54",
   "metadata": {},
   "source": [
    "## Export"
   ]
  },
  {
   "cell_type": "code",
   "execution_count": 16,
   "id": "df15106a-0463-4c9a-8988-e88ca47cd144",
   "metadata": {},
   "outputs": [],
   "source": [
    "src_df.to_csv(\n",
    "    f\"data/processed/usedgunsdotcom_sample_{count_guns}_scraped_pistols_rifles_{month_year_updated}.csv\",\n",
    "    index=False,\n",
    ")"
   ]
  }
 ],
 "metadata": {
  "kernelspec": {
   "display_name": "Python 3 (ipykernel)",
   "language": "python",
   "name": "python3"
  },
  "language_info": {
   "codemirror_mode": {
    "name": "ipython",
    "version": 3
   },
   "file_extension": ".py",
   "mimetype": "text/x-python",
   "name": "python",
   "nbconvert_exporter": "python",
   "pygments_lexer": "ipython3",
   "version": "3.8.9"
  }
 },
 "nbformat": 4,
 "nbformat_minor": 5
}
