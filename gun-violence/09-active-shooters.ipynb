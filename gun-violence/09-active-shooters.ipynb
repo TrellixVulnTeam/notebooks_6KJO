{
 "cells": [
  {
   "cell_type": "markdown",
   "id": "bf5a9662-059c-4a8f-81af-796f34fcf4ee",
   "metadata": {},
   "source": [
    "# Active shooter Sankey"
   ]
  },
  {
   "cell_type": "markdown",
   "id": "a9c9c928-242a-4165-a2e5-de8ffb9de3ef",
   "metadata": {
    "tags": []
   },
   "source": [
    "### Import Python tools and Jupyter configuration"
   ]
  },
  {
   "cell_type": "code",
   "execution_count": 1,
   "id": "9a36d887-86b0-4735-9378-bd7ad4640bea",
   "metadata": {},
   "outputs": [],
   "source": [
    "%load_ext lab_black\n",
    "%matplotlib widget"
   ]
  },
  {
   "cell_type": "code",
   "execution_count": 2,
   "id": "da45823b-911c-4338-96f9-87d590b4006b",
   "metadata": {},
   "outputs": [],
   "source": [
    "import pandas as pd\n",
    "from pySankey.sankey import sankey\n",
    "import plotly.graph_objects as go\n",
    "from floweaver import *"
   ]
  },
  {
   "cell_type": "code",
   "execution_count": 3,
   "id": "cb7a9ef9-6d32-43e5-ba0e-bd70ba433189",
   "metadata": {},
   "outputs": [],
   "source": [
    "pd.options.display.max_columns = 100\n",
    "pd.options.display.max_rows = 1000\n",
    "pd.options.display.max_colwidth = None"
   ]
  },
  {
   "cell_type": "markdown",
   "id": "386b2317-8c99-4362-9e9c-c7fede02feea",
   "metadata": {},
   "source": [
    "---"
   ]
  },
  {
   "cell_type": "markdown",
   "id": "18785d15-5c17-4965-92b4-cd3d2ffd6352",
   "metadata": {},
   "source": [
    "#### Read data"
   ]
  },
  {
   "cell_type": "code",
   "execution_count": 4,
   "id": "82729edc-4dbf-4502-9dd2-3a7f79907850",
   "metadata": {},
   "outputs": [],
   "source": [
    "df = pd.read_csv(\n",
    "    \"https://docs.google.com/spreadsheets/d/e/2PACX-1vRlTYYGmxOebAIVNoJGcK9B-gka167q-wgHHWPq5gcUvNg0LA0Bdewd9epwtbsxBa-C6b-1-UA2XnYy/pub?gid=0&single=true&output=csv\"\n",
    ")"
   ]
  },
  {
   "cell_type": "code",
   "execution_count": 5,
   "id": "384891a8-29b2-42bd-a8cc-37764ad95b32",
   "metadata": {},
   "outputs": [],
   "source": [
    "police = df[df[\"police\"] == \"yes\"]\n",
    "no_police = df[df[\"police\"] != \"yes\"]"
   ]
  },
  {
   "cell_type": "code",
   "execution_count": 6,
   "id": "10713ff1-1ce1-4b17-a347-99ad7abe4d0a",
   "metadata": {},
   "outputs": [],
   "source": [
    "df[\"source\"] = \"Active shooter\""
   ]
  },
  {
   "cell_type": "code",
   "execution_count": 7,
   "id": "530bc019-4134-4771-bb4e-2023ea6a912d",
   "metadata": {},
   "outputs": [],
   "source": [
    "refugees_gender = pd.DataFrame(columns=[\"source\", \"target\", \"value\", \"region\", \"type\"])\n",
    "refugees_gender[\"value\"] = [\n",
    "    1000000,\n",
    "    200000,\n",
    "    150000,\n",
    "    70000,\n",
    "    35000,\n",
    "    300000,\n",
    "    3000,\n",
    "    1100000,\n",
    "    220000,\n",
    "    180000,\n",
    "    75000,\n",
    "    40000,\n",
    "    330000,\n",
    "    5000,\n",
    "    1500000,\n",
    "    530000,\n",
    "    340000,\n",
    "    105000,\n",
    "    65000,\n",
    "    670000,\n",
    "    10000,\n",
    "]\n",
    "refugees_gender[\"source\"] = \"Syria\"\n",
    "refugees_gender[\"target\"] = [\n",
    "    \"Turkey\",\n",
    "    \"Lebanon\",\n",
    "    \"Jordan\",\n",
    "    \"Iraq\",\n",
    "    \"Egypt\",\n",
    "    \"Europe\",\n",
    "    \"USA\",\n",
    "    \"Turkey\",\n",
    "    \"Lebanon\",\n",
    "    \"Jordan\",\n",
    "    \"Iraq\",\n",
    "    \"Egypt\",\n",
    "    \"Europe\",\n",
    "    \"USA\",\n",
    "    \"Turkey\",\n",
    "    \"Lebanon\",\n",
    "    \"Jordan\",\n",
    "    \"Iraq\",\n",
    "    \"Egypt\",\n",
    "    \"Europe\",\n",
    "    \"USA\",\n",
    "]\n",
    "refugees_gender[\"region\"] = [\n",
    "    \"Middle East\",\n",
    "    \"Middle East\",\n",
    "    \"Middle East\",\n",
    "    \"Middle East\",\n",
    "    \"Middle East\",\n",
    "    \"Europe\",\n",
    "    \"North America\",\n",
    "    \"Middle East\",\n",
    "    \"Middle East\",\n",
    "    \"Middle East\",\n",
    "    \"Middle East\",\n",
    "    \"Middle East\",\n",
    "    \"Europe\",\n",
    "    \"North America\",\n",
    "    \"Middle East\",\n",
    "    \"Middle East\",\n",
    "    \"Middle East\",\n",
    "    \"Middle East\",\n",
    "    \"Middle East\",\n",
    "    \"Europe\",\n",
    "    \"North America\",\n",
    "]\n",
    "refugees_gender[\"type\"] = [\n",
    "    \"men\",\n",
    "    \"men\",\n",
    "    \"men\",\n",
    "    \"men\",\n",
    "    \"men\",\n",
    "    \"men\",\n",
    "    \"men\",\n",
    "    \"women\",\n",
    "    \"women\",\n",
    "    \"women\",\n",
    "    \"women\",\n",
    "    \"women\",\n",
    "    \"women\",\n",
    "    \"women\",\n",
    "    \"children\",\n",
    "    \"children\",\n",
    "    \"children\",\n",
    "    \"children\",\n",
    "    \"children\",\n",
    "    \"children\",\n",
    "    \"children\",\n",
    "]"
   ]
  },
  {
   "cell_type": "code",
   "execution_count": 8,
   "id": "fb5c22b2-9c0b-4811-9d59-a9ee46128344",
   "metadata": {},
   "outputs": [
    {
     "data": {
      "application/vnd.jupyter.widget-view+json": {
       "model_id": "241d2aec136a4f8d8d27ebac27b6cff2",
       "version_major": 2,
       "version_minor": 0
      },
      "text/plain": [
       "SankeyWidget(groups=[{'id': 'start', 'type': 'process', 'title': '', 'nodes': ['start^Syria']}, {'id': 'type',…"
      ]
     },
     "metadata": {},
     "output_type": "display_data"
    }
   ],
   "source": [
    "# create partition for type\n",
    "gender = Partition.Simple(\"type\", [\"men\", \"women\", \"children\"])\n",
    "\n",
    "# set color palette\n",
    "# palette = {'men': 'teal', 'women': 'purple', 'children': 'gray'}\n",
    "\n",
    "# set the \"nodes\" - aka grouping spots. (Node names here aren't important)\n",
    "nodes = {\n",
    "    \"start\": ProcessGroup([\"Syria\"]),  # one (Syria) at the start\n",
    "    \"type\": Waypoint(gender),\n",
    "    \"end\": ProcessGroup(list(refugees_gender[\"target\"])),  # 7 at the end\n",
    "}\n",
    "\n",
    "# set the order of the nodes left to right\n",
    "ordering = [[\"start\"], [\"type\"], [\"end\"]]\n",
    "\n",
    "# set the \"bundle\" of connections you want to show\n",
    "bundles = [Bundle(\"start\", \"end\", waypoints=[\"type\"])]\n",
    "\n",
    "# partition the groups for display Partition.Simple(whatever you want, list of unique values)\n",
    "nodes[\"start\"].partition = Partition.Simple(\"source\", [\"Syria\"])\n",
    "nodes[\"end\"].partition = Partition.Simple(\n",
    "    \"target\", [\"Turkey\", \"Lebanon\", \"Jordan\", \"Iraq\", \"Egypt\", \"Europe\", \"USA\"]\n",
    ")\n",
    "\n",
    "# New sankey diagram with the flow_partition set for gender/type\n",
    "sdd = SankeyDefinition(nodes, bundles, ordering, flow_partition=gender)\n",
    "\n",
    "weave(sdd, refugees_gender).to_widget().auto_save_png(\"test.png\")"
   ]
  },
  {
   "cell_type": "code",
   "execution_count": 9,
   "id": "c9535c29-d20a-4322-845b-bc5a43ea6fa6",
   "metadata": {},
   "outputs": [],
   "source": [
    "nodes = {\n",
    "    \"start\": ProcessGroup([\"police\"]),\n",
    "    \"end\": ProcessGroup(list(df[\"outcome\"].unique())),  # 7 at the end\n",
    "}"
   ]
  },
  {
   "cell_type": "code",
   "execution_count": 10,
   "id": "a0cb88d1-ffa4-42d7-9817-be96fb13f215",
   "metadata": {},
   "outputs": [],
   "source": [
    "# set the order of the nodes left to right\n",
    "ordering = [[\"start\"], [\"end\"]]\n",
    "\n",
    "# set the \"bundle\" of connections you want to show\n",
    "bundles = [Bundle(\"start\", \"end\")]"
   ]
  },
  {
   "cell_type": "code",
   "execution_count": 11,
   "id": "e9221461-68ae-4a1c-a698-a004bf4739eb",
   "metadata": {},
   "outputs": [],
   "source": [
    "nodes[\"start\"].partition = Partition.Simple(\"source\", [\"Active shooter\"])\n",
    "nodes[\"end\"].partition = Partition.Simple(\"target\", df[\"outcome\"].unique())"
   ]
  },
  {
   "cell_type": "code",
   "execution_count": null,
   "id": "90c5a16f-b790-44da-a8f2-f70667e7d6ae",
   "metadata": {},
   "outputs": [],
   "source": []
  }
 ],
 "metadata": {
  "kernelspec": {
   "display_name": "Python 3 (ipykernel)",
   "language": "python",
   "name": "python3"
  },
  "language_info": {
   "codemirror_mode": {
    "name": "ipython",
    "version": 3
   },
   "file_extension": ".py",
   "mimetype": "text/x-python",
   "name": "python",
   "nbconvert_exporter": "python",
   "pygments_lexer": "ipython3",
   "version": "3.8.9"
  }
 },
 "nbformat": 4,
 "nbformat_minor": 5
}
