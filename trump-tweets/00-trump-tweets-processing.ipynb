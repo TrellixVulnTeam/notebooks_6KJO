{
 "cells": [
  {
   "cell_type": "markdown",
   "metadata": {},
   "source": [
    "## How often does President Trump tweet each day?"
   ]
  },
  {
   "cell_type": "code",
   "execution_count": 1,
   "metadata": {},
   "outputs": [
    {
     "data": {
      "text/plain": [
       "ThemeRegistry.enable('latimes')"
      ]
     },
     "execution_count": 1,
     "metadata": {},
     "output_type": "execute_result"
    }
   ],
   "source": [
    "import altair as alt\n",
    "import pandas as pd\n",
    "import matplotlib as mpl\n",
    "import numpy as np\n",
    "import json\n",
    "import pytz\n",
    "from datetime import datetime\n",
    "import altair_latimes as lat\n",
    "alt.themes.register('latimes', lat.theme)\n",
    "alt.themes.enable('latimes')"
   ]
  },
  {
   "cell_type": "markdown",
   "metadata": {},
   "source": [
    "### Get the latest 1,000 tweets from the thetrumparchive.com API endpoint"
   ]
  },
  {
   "cell_type": "code",
   "execution_count": 2,
   "metadata": {},
   "outputs": [],
   "source": [
    "latest = pd.read_json('https://www.thetrumparchive.com/latest-tweets', dtype={'id':str})"
   ]
  },
  {
   "cell_type": "code",
   "execution_count": 3,
   "metadata": {},
   "outputs": [
    {
     "data": {
      "text/html": [
       "<div>\n",
       "<style scoped>\n",
       "    .dataframe tbody tr th:only-of-type {\n",
       "        vertical-align: middle;\n",
       "    }\n",
       "\n",
       "    .dataframe tbody tr th {\n",
       "        vertical-align: top;\n",
       "    }\n",
       "\n",
       "    .dataframe thead th {\n",
       "        text-align: right;\n",
       "    }\n",
       "</style>\n",
       "<table border=\"1\" class=\"dataframe\">\n",
       "  <thead>\n",
       "    <tr style=\"text-align: right;\">\n",
       "      <th></th>\n",
       "      <th>id</th>\n",
       "      <th>text</th>\n",
       "      <th>isRetweet</th>\n",
       "      <th>isDeleted</th>\n",
       "      <th>device</th>\n",
       "      <th>favorites</th>\n",
       "      <th>retweets</th>\n",
       "      <th>date</th>\n",
       "      <th>isFlagged</th>\n",
       "    </tr>\n",
       "  </thead>\n",
       "  <tbody>\n",
       "    <tr>\n",
       "      <th>0</th>\n",
       "      <td>1347569870578266115</td>\n",
       "      <td>To all of those who have asked, I will not be ...</td>\n",
       "      <td>False</td>\n",
       "      <td>False</td>\n",
       "      <td>Twitter for iPhone</td>\n",
       "      <td>510761</td>\n",
       "      <td>83532</td>\n",
       "      <td>2021-01-08 15:44:28+00:00</td>\n",
       "      <td>False</td>\n",
       "    </tr>\n",
       "    <tr>\n",
       "      <th>1</th>\n",
       "      <td>1347555316863553542</td>\n",
       "      <td>The 75,000,000 great American Patriots who vot...</td>\n",
       "      <td>False</td>\n",
       "      <td>False</td>\n",
       "      <td>Twitter for iPhone</td>\n",
       "      <td>480997</td>\n",
       "      <td>108844</td>\n",
       "      <td>2021-01-08 14:46:38+00:00</td>\n",
       "      <td>False</td>\n",
       "    </tr>\n",
       "    <tr>\n",
       "      <th>2</th>\n",
       "      <td>1347334804052844550</td>\n",
       "      <td>https://t.co/csX07ZVWGe</td>\n",
       "      <td>False</td>\n",
       "      <td>False</td>\n",
       "      <td>Twitter Media Studio</td>\n",
       "      <td>629326</td>\n",
       "      <td>154877</td>\n",
       "      <td>2021-01-08 00:10:24+00:00</td>\n",
       "      <td>False</td>\n",
       "    </tr>\n",
       "    <tr>\n",
       "      <th>3</th>\n",
       "      <td>1346954970910707712</td>\n",
       "      <td>These are the things and events that happen wh...</td>\n",
       "      <td>False</td>\n",
       "      <td>True</td>\n",
       "      <td>Twitter for iPhone</td>\n",
       "      <td>0</td>\n",
       "      <td>0</td>\n",
       "      <td>2021-01-06 23:01:04+00:00</td>\n",
       "      <td>False</td>\n",
       "    </tr>\n",
       "    <tr>\n",
       "      <th>4</th>\n",
       "      <td>1346928882595885058</td>\n",
       "      <td>https://t.co/Pm2PKV0Fp3</td>\n",
       "      <td>False</td>\n",
       "      <td>True</td>\n",
       "      <td>Twitter for iPhone</td>\n",
       "      <td>0</td>\n",
       "      <td>0</td>\n",
       "      <td>2021-01-06 21:17:24+00:00</td>\n",
       "      <td>False</td>\n",
       "    </tr>\n",
       "  </tbody>\n",
       "</table>\n",
       "</div>"
      ],
      "text/plain": [
       "                    id                                               text  \\\n",
       "0  1347569870578266115  To all of those who have asked, I will not be ...   \n",
       "1  1347555316863553542  The 75,000,000 great American Patriots who vot...   \n",
       "2  1347334804052844550                            https://t.co/csX07ZVWGe   \n",
       "3  1346954970910707712  These are the things and events that happen wh...   \n",
       "4  1346928882595885058                            https://t.co/Pm2PKV0Fp3   \n",
       "\n",
       "   isRetweet  isDeleted                device  favorites  retweets  \\\n",
       "0      False      False    Twitter for iPhone     510761     83532   \n",
       "1      False      False    Twitter for iPhone     480997    108844   \n",
       "2      False      False  Twitter Media Studio     629326    154877   \n",
       "3      False       True    Twitter for iPhone          0         0   \n",
       "4      False       True    Twitter for iPhone          0         0   \n",
       "\n",
       "                       date  isFlagged  \n",
       "0 2021-01-08 15:44:28+00:00      False  \n",
       "1 2021-01-08 14:46:38+00:00      False  \n",
       "2 2021-01-08 00:10:24+00:00      False  \n",
       "3 2021-01-06 23:01:04+00:00      False  \n",
       "4 2021-01-06 21:17:24+00:00      False  "
      ]
     },
     "execution_count": 3,
     "metadata": {},
     "output_type": "execute_result"
    }
   ],
   "source": [
    "latest.head()"
   ]
  },
  {
   "cell_type": "code",
   "execution_count": 4,
   "metadata": {},
   "outputs": [
    {
     "data": {
      "text/html": [
       "<div>\n",
       "<style scoped>\n",
       "    .dataframe tbody tr th:only-of-type {\n",
       "        vertical-align: middle;\n",
       "    }\n",
       "\n",
       "    .dataframe tbody tr th {\n",
       "        vertical-align: top;\n",
       "    }\n",
       "\n",
       "    .dataframe thead th {\n",
       "        text-align: right;\n",
       "    }\n",
       "</style>\n",
       "<table border=\"1\" class=\"dataframe\">\n",
       "  <thead>\n",
       "    <tr style=\"text-align: right;\">\n",
       "      <th></th>\n",
       "      <th>id</th>\n",
       "      <th>text</th>\n",
       "      <th>isRetweet</th>\n",
       "      <th>isDeleted</th>\n",
       "      <th>device</th>\n",
       "      <th>favorites</th>\n",
       "      <th>retweets</th>\n",
       "      <th>date</th>\n",
       "      <th>isFlagged</th>\n",
       "    </tr>\n",
       "  </thead>\n",
       "  <tbody>\n",
       "  </tbody>\n",
       "</table>\n",
       "</div>"
      ],
      "text/plain": [
       "Empty DataFrame\n",
       "Columns: [id, text, isRetweet, isDeleted, device, favorites, retweets, date, isFlagged]\n",
       "Index: []"
      ]
     },
     "execution_count": 4,
     "metadata": {},
     "output_type": "execute_result"
    }
   ],
   "source": [
    "latest[latest['text'].str.contains('missing military ballots')]"
   ]
  },
  {
   "cell_type": "code",
   "execution_count": 5,
   "metadata": {},
   "outputs": [
    {
     "data": {
      "text/html": [
       "<div>\n",
       "<style scoped>\n",
       "    .dataframe tbody tr th:only-of-type {\n",
       "        vertical-align: middle;\n",
       "    }\n",
       "\n",
       "    .dataframe tbody tr th {\n",
       "        vertical-align: top;\n",
       "    }\n",
       "\n",
       "    .dataframe thead th {\n",
       "        text-align: right;\n",
       "    }\n",
       "</style>\n",
       "<table border=\"1\" class=\"dataframe\">\n",
       "  <thead>\n",
       "    <tr style=\"text-align: right;\">\n",
       "      <th></th>\n",
       "      <th>id</th>\n",
       "      <th>text</th>\n",
       "      <th>isRetweet</th>\n",
       "      <th>isDeleted</th>\n",
       "      <th>device</th>\n",
       "      <th>favorites</th>\n",
       "      <th>retweets</th>\n",
       "      <th>date</th>\n",
       "      <th>isFlagged</th>\n",
       "    </tr>\n",
       "  </thead>\n",
       "  <tbody>\n",
       "    <tr>\n",
       "      <th>0</th>\n",
       "      <td>1347569870578266115</td>\n",
       "      <td>To all of those who have asked, I will not be ...</td>\n",
       "      <td>False</td>\n",
       "      <td>False</td>\n",
       "      <td>Twitter for iPhone</td>\n",
       "      <td>510761</td>\n",
       "      <td>83532</td>\n",
       "      <td>2021-01-08 15:44:28+00:00</td>\n",
       "      <td>False</td>\n",
       "    </tr>\n",
       "    <tr>\n",
       "      <th>1</th>\n",
       "      <td>1347555316863553542</td>\n",
       "      <td>The 75,000,000 great American Patriots who vot...</td>\n",
       "      <td>False</td>\n",
       "      <td>False</td>\n",
       "      <td>Twitter for iPhone</td>\n",
       "      <td>480997</td>\n",
       "      <td>108844</td>\n",
       "      <td>2021-01-08 14:46:38+00:00</td>\n",
       "      <td>False</td>\n",
       "    </tr>\n",
       "    <tr>\n",
       "      <th>2</th>\n",
       "      <td>1347334804052844550</td>\n",
       "      <td>https://t.co/csX07ZVWGe</td>\n",
       "      <td>False</td>\n",
       "      <td>False</td>\n",
       "      <td>Twitter Media Studio</td>\n",
       "      <td>629326</td>\n",
       "      <td>154877</td>\n",
       "      <td>2021-01-08 00:10:24+00:00</td>\n",
       "      <td>False</td>\n",
       "    </tr>\n",
       "    <tr>\n",
       "      <th>3</th>\n",
       "      <td>1346954970910707712</td>\n",
       "      <td>These are the things and events that happen wh...</td>\n",
       "      <td>False</td>\n",
       "      <td>True</td>\n",
       "      <td>Twitter for iPhone</td>\n",
       "      <td>0</td>\n",
       "      <td>0</td>\n",
       "      <td>2021-01-06 23:01:04+00:00</td>\n",
       "      <td>False</td>\n",
       "    </tr>\n",
       "    <tr>\n",
       "      <th>4</th>\n",
       "      <td>1346928882595885058</td>\n",
       "      <td>https://t.co/Pm2PKV0Fp3</td>\n",
       "      <td>False</td>\n",
       "      <td>True</td>\n",
       "      <td>Twitter for iPhone</td>\n",
       "      <td>0</td>\n",
       "      <td>0</td>\n",
       "      <td>2021-01-06 21:17:24+00:00</td>\n",
       "      <td>False</td>\n",
       "    </tr>\n",
       "  </tbody>\n",
       "</table>\n",
       "</div>"
      ],
      "text/plain": [
       "                    id                                               text  \\\n",
       "0  1347569870578266115  To all of those who have asked, I will not be ...   \n",
       "1  1347555316863553542  The 75,000,000 great American Patriots who vot...   \n",
       "2  1347334804052844550                            https://t.co/csX07ZVWGe   \n",
       "3  1346954970910707712  These are the things and events that happen wh...   \n",
       "4  1346928882595885058                            https://t.co/Pm2PKV0Fp3   \n",
       "\n",
       "   isRetweet  isDeleted                device  favorites  retweets  \\\n",
       "0      False      False    Twitter for iPhone     510761     83532   \n",
       "1      False      False    Twitter for iPhone     480997    108844   \n",
       "2      False      False  Twitter Media Studio     629326    154877   \n",
       "3      False       True    Twitter for iPhone          0         0   \n",
       "4      False       True    Twitter for iPhone          0         0   \n",
       "\n",
       "                       date  isFlagged  \n",
       "0 2021-01-08 15:44:28+00:00      False  \n",
       "1 2021-01-08 14:46:38+00:00      False  \n",
       "2 2021-01-08 00:10:24+00:00      False  \n",
       "3 2021-01-06 23:01:04+00:00      False  \n",
       "4 2021-01-06 21:17:24+00:00      False  "
      ]
     },
     "execution_count": 5,
     "metadata": {},
     "output_type": "execute_result"
    }
   ],
   "source": [
    "latest.sort_values('date', ascending=False).head()"
   ]
  },
  {
   "cell_type": "code",
   "execution_count": 6,
   "metadata": {},
   "outputs": [],
   "source": [
    "#get latest\n",
    "trump_past = pd.read_json('input/tweets_11-06-2020.json')"
   ]
  },
  {
   "cell_type": "code",
   "execution_count": 7,
   "metadata": {},
   "outputs": [],
   "source": [
    "trump_extra = pd.read_json('input/tweets_11-04-2020_01-08-2021.json')"
   ]
  },
  {
   "cell_type": "markdown",
   "metadata": {},
   "source": [
    "### Combine the latest 1,000 with past archive"
   ]
  },
  {
   "cell_type": "code",
   "execution_count": 8,
   "metadata": {},
   "outputs": [],
   "source": [
    "src = pd.concat([latest, trump_past, trump_extra])"
   ]
  },
  {
   "cell_type": "code",
   "execution_count": 9,
   "metadata": {},
   "outputs": [],
   "source": [
    "src = src.drop_duplicates(subset='text')"
   ]
  },
  {
   "cell_type": "markdown",
   "metadata": {},
   "source": [
    "### Clean up dates"
   ]
  },
  {
   "cell_type": "code",
   "execution_count": 10,
   "metadata": {},
   "outputs": [
    {
     "data": {
      "text/html": [
       "<div>\n",
       "<style scoped>\n",
       "    .dataframe tbody tr th:only-of-type {\n",
       "        vertical-align: middle;\n",
       "    }\n",
       "\n",
       "    .dataframe tbody tr th {\n",
       "        vertical-align: top;\n",
       "    }\n",
       "\n",
       "    .dataframe thead th {\n",
       "        text-align: right;\n",
       "    }\n",
       "</style>\n",
       "<table border=\"1\" class=\"dataframe\">\n",
       "  <thead>\n",
       "    <tr style=\"text-align: right;\">\n",
       "      <th></th>\n",
       "      <th>id</th>\n",
       "      <th>text</th>\n",
       "      <th>isRetweet</th>\n",
       "      <th>isDeleted</th>\n",
       "      <th>device</th>\n",
       "      <th>favorites</th>\n",
       "      <th>retweets</th>\n",
       "      <th>date</th>\n",
       "      <th>isFlagged</th>\n",
       "    </tr>\n",
       "  </thead>\n",
       "  <tbody>\n",
       "    <tr>\n",
       "      <th>0</th>\n",
       "      <td>1347569870578266115</td>\n",
       "      <td>To all of those who have asked, I will not be ...</td>\n",
       "      <td>False</td>\n",
       "      <td>False</td>\n",
       "      <td>Twitter for iPhone</td>\n",
       "      <td>510761</td>\n",
       "      <td>83532</td>\n",
       "      <td>2021-01-08 15:44:28+00:00</td>\n",
       "      <td>False</td>\n",
       "    </tr>\n",
       "    <tr>\n",
       "      <th>1</th>\n",
       "      <td>1347555316863553542</td>\n",
       "      <td>The 75,000,000 great American Patriots who vot...</td>\n",
       "      <td>False</td>\n",
       "      <td>False</td>\n",
       "      <td>Twitter for iPhone</td>\n",
       "      <td>480997</td>\n",
       "      <td>108844</td>\n",
       "      <td>2021-01-08 14:46:38+00:00</td>\n",
       "      <td>False</td>\n",
       "    </tr>\n",
       "    <tr>\n",
       "      <th>2</th>\n",
       "      <td>1347334804052844550</td>\n",
       "      <td>https://t.co/csX07ZVWGe</td>\n",
       "      <td>False</td>\n",
       "      <td>False</td>\n",
       "      <td>Twitter Media Studio</td>\n",
       "      <td>629326</td>\n",
       "      <td>154877</td>\n",
       "      <td>2021-01-08 00:10:24+00:00</td>\n",
       "      <td>False</td>\n",
       "    </tr>\n",
       "    <tr>\n",
       "      <th>3</th>\n",
       "      <td>1346954970910707712</td>\n",
       "      <td>These are the things and events that happen wh...</td>\n",
       "      <td>False</td>\n",
       "      <td>True</td>\n",
       "      <td>Twitter for iPhone</td>\n",
       "      <td>0</td>\n",
       "      <td>0</td>\n",
       "      <td>2021-01-06 23:01:04+00:00</td>\n",
       "      <td>False</td>\n",
       "    </tr>\n",
       "    <tr>\n",
       "      <th>4</th>\n",
       "      <td>1346928882595885058</td>\n",
       "      <td>https://t.co/Pm2PKV0Fp3</td>\n",
       "      <td>False</td>\n",
       "      <td>True</td>\n",
       "      <td>Twitter for iPhone</td>\n",
       "      <td>0</td>\n",
       "      <td>0</td>\n",
       "      <td>2021-01-06 21:17:24+00:00</td>\n",
       "      <td>False</td>\n",
       "    </tr>\n",
       "  </tbody>\n",
       "</table>\n",
       "</div>"
      ],
      "text/plain": [
       "                    id                                               text  \\\n",
       "0  1347569870578266115  To all of those who have asked, I will not be ...   \n",
       "1  1347555316863553542  The 75,000,000 great American Patriots who vot...   \n",
       "2  1347334804052844550                            https://t.co/csX07ZVWGe   \n",
       "3  1346954970910707712  These are the things and events that happen wh...   \n",
       "4  1346928882595885058                            https://t.co/Pm2PKV0Fp3   \n",
       "\n",
       "  isRetweet isDeleted                device  favorites  retweets  \\\n",
       "0     False     False    Twitter for iPhone     510761     83532   \n",
       "1     False     False    Twitter for iPhone     480997    108844   \n",
       "2     False     False  Twitter Media Studio     629326    154877   \n",
       "3     False      True    Twitter for iPhone          0         0   \n",
       "4     False      True    Twitter for iPhone          0         0   \n",
       "\n",
       "                        date isFlagged  \n",
       "0  2021-01-08 15:44:28+00:00     False  \n",
       "1  2021-01-08 14:46:38+00:00     False  \n",
       "2  2021-01-08 00:10:24+00:00     False  \n",
       "3  2021-01-06 23:01:04+00:00     False  \n",
       "4  2021-01-06 21:17:24+00:00     False  "
      ]
     },
     "execution_count": 10,
     "metadata": {},
     "output_type": "execute_result"
    }
   ],
   "source": [
    "src.head()"
   ]
  },
  {
   "cell_type": "code",
   "execution_count": 11,
   "metadata": {},
   "outputs": [],
   "source": [
    "src['eastern_created_at'] = pd.to_datetime(src['date'], utc=True)"
   ]
  },
  {
   "cell_type": "code",
   "execution_count": 12,
   "metadata": {},
   "outputs": [],
   "source": [
    "src['eastern_created_at'] = pd.to_datetime(src['date'], utc=True).dt.tz_convert('America/Los_Angeles')"
   ]
  },
  {
   "cell_type": "code",
   "execution_count": 13,
   "metadata": {},
   "outputs": [],
   "source": [
    "src['date'] = pd.to_datetime(src['eastern_created_at']).dt.strftime('%m/%d/%Y')\n",
    "src['date'] = pd.to_datetime(src['date'])\n",
    "src['year'] = src['eastern_created_at'].dt.year\n",
    "src['month'] = src['eastern_created_at'].dt.month\n",
    "src['day'] = src['eastern_created_at'].dt.day\n",
    "src['hour'] = src['eastern_created_at'].dt.hour\n",
    "src['minute'] = src['eastern_created_at'].dt.minute\n",
    "src['time'] = src['eastern_created_at'].dt.time\n",
    "src['id'] = src['id'].astype(str)\n",
    "src['year'] = src['year'].astype(str)\n",
    "src['month'] = src['month'].astype(str)\n",
    "src['day'] = src['day'].astype(str)\n",
    "src['hour'] = src['hour'].astype(str)"
   ]
  },
  {
   "cell_type": "code",
   "execution_count": 14,
   "metadata": {},
   "outputs": [
    {
     "data": {
      "text/plain": [
       "id                                                 object\n",
       "text                                               object\n",
       "isRetweet                                          object\n",
       "isDeleted                                          object\n",
       "device                                             object\n",
       "favorites                                           int64\n",
       "retweets                                            int64\n",
       "date                                       datetime64[ns]\n",
       "isFlagged                                          object\n",
       "eastern_created_at    datetime64[ns, America/Los_Angeles]\n",
       "year                                               object\n",
       "month                                              object\n",
       "day                                                object\n",
       "hour                                               object\n",
       "minute                                              int64\n",
       "time                                               object\n",
       "dtype: object"
      ]
     },
     "execution_count": 14,
     "metadata": {},
     "output_type": "execute_result"
    }
   ],
   "source": [
    "src.dtypes"
   ]
  },
  {
   "cell_type": "code",
   "execution_count": 15,
   "metadata": {},
   "outputs": [],
   "source": [
    "november2020 = src[(src['year'] == '2020') & (src['month'] == '11')]"
   ]
  },
  {
   "cell_type": "code",
   "execution_count": 16,
   "metadata": {},
   "outputs": [
    {
     "data": {
      "text/plain": [
       "date\n",
       "2020-11-01    60\n",
       "2020-11-02    85\n",
       "2020-11-03    18\n",
       "2020-11-04    14\n",
       "2020-11-05    17\n",
       "2020-11-06    27\n",
       "2020-11-07    12\n",
       "2020-11-08    19\n",
       "2020-11-09    32\n",
       "2020-11-10    37\n",
       "2020-11-11    24\n",
       "2020-11-12    48\n",
       "2020-11-13    41\n",
       "2020-11-14    38\n",
       "2020-11-15    45\n",
       "2020-11-16    41\n",
       "2020-11-17    22\n",
       "2020-11-18    26\n",
       "2020-11-19    22\n",
       "2020-11-20    24\n",
       "2020-11-21    38\n",
       "2020-11-22    17\n",
       "2020-11-23     4\n",
       "2020-11-24    41\n",
       "2020-11-25    43\n",
       "2020-11-26    14\n",
       "2020-11-27    33\n",
       "2020-11-28     8\n",
       "2020-11-29    16\n",
       "2020-11-30    29\n",
       "dtype: int64"
      ]
     },
     "execution_count": 16,
     "metadata": {},
     "output_type": "execute_result"
    }
   ],
   "source": [
    "november2020.groupby(['date']).size()"
   ]
  },
  {
   "cell_type": "code",
   "execution_count": 17,
   "metadata": {},
   "outputs": [],
   "source": [
    "src.drop(['eastern_created_at'], axis=1, inplace=True)"
   ]
  },
  {
   "cell_type": "code",
   "execution_count": 20,
   "metadata": {},
   "outputs": [],
   "source": [
    "src.reset_index().to_csv('/Users/stiles/github/notebooks/\\\n",
    "trump-tweets/output/realdonaldtrump.csv', index=False)"
   ]
  },
  {
   "cell_type": "code",
   "execution_count": null,
   "metadata": {},
   "outputs": [],
   "source": []
  },
  {
   "cell_type": "code",
   "execution_count": null,
   "metadata": {},
   "outputs": [],
   "source": []
  }
 ],
 "metadata": {
  "kernelspec": {
   "display_name": "Python 3",
   "language": "python",
   "name": "python3"
  },
  "language_info": {
   "codemirror_mode": {
    "name": "ipython",
    "version": 3
   },
   "file_extension": ".py",
   "mimetype": "text/x-python",
   "name": "python",
   "nbconvert_exporter": "python",
   "pygments_lexer": "ipython3",
   "version": "3.8.2"
  }
 },
 "nbformat": 4,
 "nbformat_minor": 4
}
