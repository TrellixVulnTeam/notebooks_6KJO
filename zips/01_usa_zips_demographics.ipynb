{
 "cells": [
  {
   "cell_type": "markdown",
   "metadata": {},
   "source": [
    "# Esri ZIP Codes with race/ethnicity"
   ]
  },
  {
   "cell_type": "code",
   "execution_count": 1,
   "metadata": {},
   "outputs": [],
   "source": [
    "import pandas as pd\n",
    "import geopandas as gpd"
   ]
  },
  {
   "cell_type": "markdown",
   "metadata": {},
   "source": [
    "### Read data"
   ]
  },
  {
   "cell_type": "markdown",
   "metadata": {},
   "source": [
    "#### ZIP Codes file with race/ethnicity demographics"
   ]
  },
  {
   "cell_type": "code",
   "execution_count": 18,
   "metadata": {},
   "outputs": [],
   "source": [
    "# From: https://services.arcgis.com/P3ePLMYs2RVChkJx/ArcGIS/rest/services/USA_ZIP_Codes/FeatureServer/0"
   ]
  },
  {
   "cell_type": "code",
   "execution_count": 14,
   "metadata": {},
   "outputs": [],
   "source": [
    "zips_race = gpd.read_file('https://grid-news-static-files.s3.us-east-2.amazonaws.com/data/demogragrphics_zips.geojson')"
   ]
  },
  {
   "cell_type": "code",
   "execution_count": 19,
   "metadata": {},
   "outputs": [],
   "source": [
    "zips_race.columns = zips_race.columns.str.strip().str.lower().str.replace(' ', '_', regex=False)\\\n",
    "                    .str.replace('(', '', regex=False).str.replace(')', '', regex=False).str.replace('-','_', regex=False)"
   ]
  },
  {
   "cell_type": "code",
   "execution_count": 20,
   "metadata": {},
   "outputs": [],
   "source": [
    "zips_race[['objectid', 'zip', 'po_name', 'pop2012', 'white', 'black', 'ameri_es',\n",
    "       'asian', 'hawn_pi', 'hispanic', 'other', 'mult_race', 'med_age',\n",
    "       'ave_hh_sz', 'marhh_chd', 'families', 'ave_fam_sz', 'hse_units', 'sqmi']].to_csv('data/ca-zip-codes-esri-demographics.csv', index=False)"
   ]
  },
  {
   "cell_type": "markdown",
   "metadata": {},
   "source": [
    "#### Drop places without a population total"
   ]
  },
  {
   "cell_type": "code",
   "execution_count": 28,
   "metadata": {},
   "outputs": [],
   "source": [
    "zips = zips_race[zips_race['pop2012'] > 0].copy()"
   ]
  },
  {
   "cell_type": "code",
   "execution_count": 30,
   "metadata": {},
   "outputs": [
    {
     "data": {
      "text/html": [
       "<div>\n",
       "<style scoped>\n",
       "    .dataframe tbody tr th:only-of-type {\n",
       "        vertical-align: middle;\n",
       "    }\n",
       "\n",
       "    .dataframe tbody tr th {\n",
       "        vertical-align: top;\n",
       "    }\n",
       "\n",
       "    .dataframe thead th {\n",
       "        text-align: right;\n",
       "    }\n",
       "</style>\n",
       "<table border=\"1\" class=\"dataframe\">\n",
       "  <thead>\n",
       "    <tr style=\"text-align: right;\">\n",
       "      <th></th>\n",
       "      <th>fid</th>\n",
       "      <th>objectid</th>\n",
       "      <th>zip</th>\n",
       "      <th>po_name</th>\n",
       "      <th>state</th>\n",
       "      <th>pop2010</th>\n",
       "      <th>pop10_sqmi</th>\n",
       "      <th>pop2012</th>\n",
       "      <th>pop12_sqmi</th>\n",
       "      <th>white</th>\n",
       "      <th>...</th>\n",
       "      <th>mhh_child</th>\n",
       "      <th>fhh_child</th>\n",
       "      <th>families</th>\n",
       "      <th>ave_fam_sz</th>\n",
       "      <th>hse_units</th>\n",
       "      <th>vacant</th>\n",
       "      <th>owner_occ</th>\n",
       "      <th>renter_occ</th>\n",
       "      <th>sqmi</th>\n",
       "      <th>geometry</th>\n",
       "    </tr>\n",
       "  </thead>\n",
       "  <tbody>\n",
       "    <tr>\n",
       "      <th>1</th>\n",
       "      <td>2</td>\n",
       "      <td>500</td>\n",
       "      <td>73737</td>\n",
       "      <td>Fairview</td>\n",
       "      <td>OK</td>\n",
       "      <td>3577</td>\n",
       "      <td>10.7</td>\n",
       "      <td>3599</td>\n",
       "      <td>10.8</td>\n",
       "      <td>3369</td>\n",
       "      <td>...</td>\n",
       "      <td>34</td>\n",
       "      <td>94</td>\n",
       "      <td>1029</td>\n",
       "      <td>2.78</td>\n",
       "      <td>1821</td>\n",
       "      <td>275</td>\n",
       "      <td>1165</td>\n",
       "      <td>381</td>\n",
       "      <td>333.3</td>\n",
       "      <td>POLYGON ((-98.76304 36.44684, -98.75651 36.447...</td>\n",
       "    </tr>\n",
       "    <tr>\n",
       "      <th>3</th>\n",
       "      <td>4</td>\n",
       "      <td>501</td>\n",
       "      <td>73739</td>\n",
       "      <td>Goltry</td>\n",
       "      <td>OK</td>\n",
       "      <td>342</td>\n",
       "      <td>5.6</td>\n",
       "      <td>354</td>\n",
       "      <td>5.8</td>\n",
       "      <td>327</td>\n",
       "      <td>...</td>\n",
       "      <td>3</td>\n",
       "      <td>4</td>\n",
       "      <td>97</td>\n",
       "      <td>2.92</td>\n",
       "      <td>178</td>\n",
       "      <td>35</td>\n",
       "      <td>114</td>\n",
       "      <td>29</td>\n",
       "      <td>61.4</td>\n",
       "      <td>POLYGON ((-98.10930 36.60817, -98.10929 36.593...</td>\n",
       "    </tr>\n",
       "    <tr>\n",
       "      <th>4</th>\n",
       "      <td>5</td>\n",
       "      <td>102</td>\n",
       "      <td>99661</td>\n",
       "      <td>Sand Point</td>\n",
       "      <td>AK</td>\n",
       "      <td>1033</td>\n",
       "      <td>2.2</td>\n",
       "      <td>986</td>\n",
       "      <td>2.1</td>\n",
       "      <td>177</td>\n",
       "      <td>...</td>\n",
       "      <td>24</td>\n",
       "      <td>30</td>\n",
       "      <td>183</td>\n",
       "      <td>2.84</td>\n",
       "      <td>327</td>\n",
       "      <td>56</td>\n",
       "      <td>160</td>\n",
       "      <td>111</td>\n",
       "      <td>461.0</td>\n",
       "      <td>MULTIPOLYGON (((-160.71030 55.40308, -160.7037...</td>\n",
       "    </tr>\n",
       "    <tr>\n",
       "      <th>5</th>\n",
       "      <td>6</td>\n",
       "      <td>502</td>\n",
       "      <td>73741</td>\n",
       "      <td>Helena</td>\n",
       "      <td>OK</td>\n",
       "      <td>1677</td>\n",
       "      <td>14.6</td>\n",
       "      <td>1741</td>\n",
       "      <td>15.1</td>\n",
       "      <td>1292</td>\n",
       "      <td>...</td>\n",
       "      <td>6</td>\n",
       "      <td>18</td>\n",
       "      <td>196</td>\n",
       "      <td>2.86</td>\n",
       "      <td>358</td>\n",
       "      <td>76</td>\n",
       "      <td>212</td>\n",
       "      <td>70</td>\n",
       "      <td>115.2</td>\n",
       "      <td>POLYGON ((-98.34233 36.66658, -98.34000 36.666...</td>\n",
       "    </tr>\n",
       "    <tr>\n",
       "      <th>6</th>\n",
       "      <td>7</td>\n",
       "      <td>503</td>\n",
       "      <td>73742</td>\n",
       "      <td>Hennessey</td>\n",
       "      <td>OK</td>\n",
       "      <td>4424</td>\n",
       "      <td>12.5</td>\n",
       "      <td>4366</td>\n",
       "      <td>12.4</td>\n",
       "      <td>3509</td>\n",
       "      <td>...</td>\n",
       "      <td>45</td>\n",
       "      <td>97</td>\n",
       "      <td>1217</td>\n",
       "      <td>3.15</td>\n",
       "      <td>1878</td>\n",
       "      <td>218</td>\n",
       "      <td>1311</td>\n",
       "      <td>349</td>\n",
       "      <td>353.5</td>\n",
       "      <td>POLYGON ((-98.10388 36.16487, -98.09735 36.165...</td>\n",
       "    </tr>\n",
       "  </tbody>\n",
       "</table>\n",
       "<p>5 rows × 50 columns</p>\n",
       "</div>"
      ],
      "text/plain": [
       "   fid  objectid    zip     po_name state  pop2010  pop10_sqmi  pop2012  \\\n",
       "1    2       500  73737    Fairview    OK     3577        10.7     3599   \n",
       "3    4       501  73739      Goltry    OK      342         5.6      354   \n",
       "4    5       102  99661  Sand Point    AK     1033         2.2      986   \n",
       "5    6       502  73741      Helena    OK     1677        14.6     1741   \n",
       "6    7       503  73742   Hennessey    OK     4424        12.5     4366   \n",
       "\n",
       "   pop12_sqmi  white  ...  mhh_child  fhh_child  families  ave_fam_sz  \\\n",
       "1        10.8   3369  ...         34         94      1029        2.78   \n",
       "3         5.8    327  ...          3          4        97        2.92   \n",
       "4         2.1    177  ...         24         30       183        2.84   \n",
       "5        15.1   1292  ...          6         18       196        2.86   \n",
       "6        12.4   3509  ...         45         97      1217        3.15   \n",
       "\n",
       "   hse_units  vacant  owner_occ  renter_occ   sqmi  \\\n",
       "1       1821     275       1165         381  333.3   \n",
       "3        178      35        114          29   61.4   \n",
       "4        327      56        160         111  461.0   \n",
       "5        358      76        212          70  115.2   \n",
       "6       1878     218       1311         349  353.5   \n",
       "\n",
       "                                            geometry  \n",
       "1  POLYGON ((-98.76304 36.44684, -98.75651 36.447...  \n",
       "3  POLYGON ((-98.10930 36.60817, -98.10929 36.593...  \n",
       "4  MULTIPOLYGON (((-160.71030 55.40308, -160.7037...  \n",
       "5  POLYGON ((-98.34233 36.66658, -98.34000 36.666...  \n",
       "6  POLYGON ((-98.10388 36.16487, -98.09735 36.165...  \n",
       "\n",
       "[5 rows x 50 columns]"
      ]
     },
     "execution_count": 30,
     "metadata": {},
     "output_type": "execute_result"
    }
   ],
   "source": [
    "zips.head()"
   ]
  },
  {
   "cell_type": "code",
   "execution_count": null,
   "metadata": {},
   "outputs": [],
   "source": []
  }
 ],
 "metadata": {
  "kernelspec": {
   "display_name": "Python 3 (ipykernel)",
   "language": "python",
   "name": "python3"
  },
  "language_info": {
   "codemirror_mode": {
    "name": "ipython",
    "version": 3
   },
   "file_extension": ".py",
   "mimetype": "text/x-python",
   "name": "python",
   "nbconvert_exporter": "python",
   "pygments_lexer": "ipython3",
   "version": "3.8.9"
  }
 },
 "nbformat": 4,
 "nbformat_minor": 4
}
