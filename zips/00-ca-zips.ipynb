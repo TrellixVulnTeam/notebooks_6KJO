{
 "cells": [
  {
   "cell_type": "markdown",
   "id": "281af445-2e14-4df8-802a-f53346239737",
   "metadata": {},
   "source": [
    "# Simple CA ZIPS"
   ]
  },
  {
   "cell_type": "code",
   "execution_count": 1,
   "id": "1a700bcd-4d4b-4dc3-928a-563e413b0c2f",
   "metadata": {},
   "outputs": [],
   "source": [
    "import geopandas as gpd\n",
    "import pandas as pd"
   ]
  },
  {
   "cell_type": "code",
   "execution_count": 2,
   "id": "7e5c3f32-2dcc-4c2c-a577-cd96f63bae9b",
   "metadata": {},
   "outputs": [],
   "source": [
    "gdf = gpd.read_file('https://raw.githubusercontent.com/stiles/notebooks/3cb2b2f50b94d4162899653d3f472790a077fad5/california-fuel-vehicles/input/WealthiestZipCodesCA.json')"
   ]
  },
  {
   "cell_type": "code",
   "execution_count": 4,
   "id": "49b743dc-85cd-46a5-bffb-88f6ce9f8781",
   "metadata": {},
   "outputs": [],
   "source": [
    "gdf.columns = gdf.columns.str.lower()"
   ]
  },
  {
   "cell_type": "code",
   "execution_count": 6,
   "id": "9fd73592-ae86-47ff-ae0d-5c06acbae82d",
   "metadata": {},
   "outputs": [],
   "source": [
    "gdf_slim = gdf[['id', 'name', 'county_name', 'geometry']]"
   ]
  },
  {
   "cell_type": "code",
   "execution_count": 10,
   "id": "4efb3760-7ddb-41f7-917f-4b2f6c29366a",
   "metadata": {},
   "outputs": [
    {
     "name": "stdout",
     "output_type": "stream",
     "text": [
      "zsh:1: command not found: mapshaper\n"
     ]
    }
   ],
   "source": [
    "!mapshaper data/processed/ca_zips.geojson -simplify percentage=.25 no-repair -o data/processed/ca_zips_simple.geojson"
   ]
  },
  {
   "cell_type": "code",
   "execution_count": 23,
   "id": "e2307aae-8d5e-4b49-8217-468d5e2c97b6",
   "metadata": {},
   "outputs": [],
   "source": [
    "gdf_slim[gdf_slim['county_name'] == 'Los Angeles County'].to_file('data/processed/ca_zips.geojson', driver='GeoJSON')"
   ]
  },
  {
   "cell_type": "code",
   "execution_count": 22,
   "id": "f26bf9d3-beb3-4432-bf37-d9e436e96d62",
   "metadata": {},
   "outputs": [
    {
     "data": {
      "text/html": [
       "<div>\n",
       "<style scoped>\n",
       "    .dataframe tbody tr th:only-of-type {\n",
       "        vertical-align: middle;\n",
       "    }\n",
       "\n",
       "    .dataframe tbody tr th {\n",
       "        vertical-align: top;\n",
       "    }\n",
       "\n",
       "    .dataframe thead th {\n",
       "        text-align: right;\n",
       "    }\n",
       "</style>\n",
       "<table border=\"1\" class=\"dataframe\">\n",
       "  <thead>\n",
       "    <tr style=\"text-align: right;\">\n",
       "      <th></th>\n",
       "      <th>id</th>\n",
       "      <th>name</th>\n",
       "      <th>county_name</th>\n",
       "      <th>geometry</th>\n",
       "    </tr>\n",
       "  </thead>\n",
       "  <tbody>\n",
       "    <tr>\n",
       "      <th>0</th>\n",
       "      <td>90001</td>\n",
       "      <td>Los Angeles</td>\n",
       "      <td>Los Angeles County</td>\n",
       "      <td>POLYGON ((-118.24329 33.98901, -118.24754 33.9...</td>\n",
       "    </tr>\n",
       "    <tr>\n",
       "      <th>1</th>\n",
       "      <td>90002</td>\n",
       "      <td>Los Angeles</td>\n",
       "      <td>Los Angeles County</td>\n",
       "      <td>POLYGON ((-118.23085 33.95772, -118.23108 33.9...</td>\n",
       "    </tr>\n",
       "    <tr>\n",
       "      <th>2</th>\n",
       "      <td>90003</td>\n",
       "      <td>Los Angeles</td>\n",
       "      <td>Los Angeles County</td>\n",
       "      <td>MULTIPOLYGON (((-118.28268 33.98926, -118.2826...</td>\n",
       "    </tr>\n",
       "    <tr>\n",
       "      <th>3</th>\n",
       "      <td>90004</td>\n",
       "      <td>Los Angeles</td>\n",
       "      <td>Los Angeles County</td>\n",
       "      <td>MULTIPOLYGON (((-118.33852 34.06891, -118.3371...</td>\n",
       "    </tr>\n",
       "    <tr>\n",
       "      <th>4</th>\n",
       "      <td>90005</td>\n",
       "      <td>Los Angeles</td>\n",
       "      <td>Los Angeles County</td>\n",
       "      <td>POLYGON ((-118.31879 34.05514, -118.31852 34.0...</td>\n",
       "    </tr>\n",
       "    <tr>\n",
       "      <th>...</th>\n",
       "      <td>...</td>\n",
       "      <td>...</td>\n",
       "      <td>...</td>\n",
       "      <td>...</td>\n",
       "    </tr>\n",
       "    <tr>\n",
       "      <th>821</th>\n",
       "      <td>93551</td>\n",
       "      <td>Palmdale</td>\n",
       "      <td>Los Angeles County</td>\n",
       "      <td>POLYGON ((-118.16775 34.64576, -118.18305 34.6...</td>\n",
       "    </tr>\n",
       "    <tr>\n",
       "      <th>822</th>\n",
       "      <td>93552</td>\n",
       "      <td>Palmdale</td>\n",
       "      <td>Los Angeles County</td>\n",
       "      <td>MULTIPOLYGON (((-118.00532 34.63105, -117.9918...</td>\n",
       "    </tr>\n",
       "    <tr>\n",
       "      <th>823</th>\n",
       "      <td>93553</td>\n",
       "      <td>Pearblossom</td>\n",
       "      <td>Los Angeles County</td>\n",
       "      <td>MULTIPOLYGON (((-117.87077 34.39323, -117.8710...</td>\n",
       "    </tr>\n",
       "    <tr>\n",
       "      <th>830</th>\n",
       "      <td>93563</td>\n",
       "      <td>Valyermo</td>\n",
       "      <td>Los Angeles County</td>\n",
       "      <td>POLYGON ((-117.80993 34.31592, -117.80973 34.3...</td>\n",
       "    </tr>\n",
       "    <tr>\n",
       "      <th>831</th>\n",
       "      <td>93591</td>\n",
       "      <td>Palmdale</td>\n",
       "      <td>Los Angeles County</td>\n",
       "      <td>MULTIPOLYGON (((-117.66697 34.61678, -117.6810...</td>\n",
       "    </tr>\n",
       "  </tbody>\n",
       "</table>\n",
       "<p>285 rows × 4 columns</p>\n",
       "</div>"
      ],
      "text/plain": [
       "        id         name         county_name  \\\n",
       "0    90001  Los Angeles  Los Angeles County   \n",
       "1    90002  Los Angeles  Los Angeles County   \n",
       "2    90003  Los Angeles  Los Angeles County   \n",
       "3    90004  Los Angeles  Los Angeles County   \n",
       "4    90005  Los Angeles  Los Angeles County   \n",
       "..     ...          ...                 ...   \n",
       "821  93551     Palmdale  Los Angeles County   \n",
       "822  93552     Palmdale  Los Angeles County   \n",
       "823  93553  Pearblossom  Los Angeles County   \n",
       "830  93563     Valyermo  Los Angeles County   \n",
       "831  93591     Palmdale  Los Angeles County   \n",
       "\n",
       "                                              geometry  \n",
       "0    POLYGON ((-118.24329 33.98901, -118.24754 33.9...  \n",
       "1    POLYGON ((-118.23085 33.95772, -118.23108 33.9...  \n",
       "2    MULTIPOLYGON (((-118.28268 33.98926, -118.2826...  \n",
       "3    MULTIPOLYGON (((-118.33852 34.06891, -118.3371...  \n",
       "4    POLYGON ((-118.31879 34.05514, -118.31852 34.0...  \n",
       "..                                                 ...  \n",
       "821  POLYGON ((-118.16775 34.64576, -118.18305 34.6...  \n",
       "822  MULTIPOLYGON (((-118.00532 34.63105, -117.9918...  \n",
       "823  MULTIPOLYGON (((-117.87077 34.39323, -117.8710...  \n",
       "830  POLYGON ((-117.80993 34.31592, -117.80973 34.3...  \n",
       "831  MULTIPOLYGON (((-117.66697 34.61678, -117.6810...  \n",
       "\n",
       "[285 rows x 4 columns]"
      ]
     },
     "execution_count": 22,
     "metadata": {},
     "output_type": "execute_result"
    }
   ],
   "source": []
  },
  {
   "cell_type": "code",
   "execution_count": 11,
   "id": "e87a4dbd-45c9-41e5-8e8a-1612c6e3a523",
   "metadata": {},
   "outputs": [],
   "source": [
    "counties = gpd.read_file('https://opendata.arcgis.com/datasets/8713ced9b78a4abb97dc130a691a8695_0.geojson')"
   ]
  },
  {
   "cell_type": "code",
   "execution_count": 12,
   "id": "a037532d-66e4-469d-86dc-73862823a547",
   "metadata": {},
   "outputs": [],
   "source": [
    "counties.columns = counties.columns.str.lower()"
   ]
  },
  {
   "cell_type": "code",
   "execution_count": 18,
   "id": "850ec62b-ad4c-4e4b-ace2-7a58135ca05b",
   "metadata": {},
   "outputs": [],
   "source": [
    "counties_clean = counties[['county_name', 'county_fips', 'geometry']].dissolve(by=['county_name', 'county_fips']).reset_index()"
   ]
  },
  {
   "cell_type": "code",
   "execution_count": 20,
   "id": "bb8f8202-3ac7-4331-905c-9171ce202041",
   "metadata": {},
   "outputs": [],
   "source": [
    "counties_clean.to_file('data/processed/counties_simple.geojson', driver='GeoJSON')"
   ]
  },
  {
   "cell_type": "code",
   "execution_count": null,
   "id": "a9fa3404-b6eb-461e-a82c-45007b2fffa0",
   "metadata": {},
   "outputs": [],
   "source": []
  }
 ],
 "metadata": {
  "kernelspec": {
   "display_name": "Python 3",
   "language": "python",
   "name": "python3"
  },
  "language_info": {
   "codemirror_mode": {
    "name": "ipython",
    "version": 3
   },
   "file_extension": ".py",
   "mimetype": "text/x-python",
   "name": "python",
   "nbconvert_exporter": "python",
   "pygments_lexer": "ipython3",
   "version": "3.8.8"
  }
 },
 "nbformat": 4,
 "nbformat_minor": 5
}
