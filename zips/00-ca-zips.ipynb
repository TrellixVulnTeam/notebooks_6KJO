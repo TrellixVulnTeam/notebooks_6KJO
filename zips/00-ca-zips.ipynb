{
 "cells": [
  {
   "cell_type": "markdown",
   "id": "281af445-2e14-4df8-802a-f53346239737",
   "metadata": {},
   "source": [
    "# Simple CA ZIPS"
   ]
  },
  {
   "cell_type": "code",
   "execution_count": 1,
   "id": "1a700bcd-4d4b-4dc3-928a-563e413b0c2f",
   "metadata": {},
   "outputs": [],
   "source": [
    "import geopandas as gpd\n",
    "import pandas as pd"
   ]
  },
  {
   "cell_type": "code",
   "execution_count": 2,
   "id": "7e5c3f32-2dcc-4c2c-a577-cd96f63bae9b",
   "metadata": {},
   "outputs": [],
   "source": [
    "gdf = gpd.read_file('https://raw.githubusercontent.com/stiles/notebooks/3cb2b2f50b94d4162899653d3f472790a077fad5/california-fuel-vehicles/input/WealthiestZipCodesCA.json')"
   ]
  },
  {
   "cell_type": "code",
   "execution_count": 4,
   "id": "49b743dc-85cd-46a5-bffb-88f6ce9f8781",
   "metadata": {},
   "outputs": [],
   "source": [
    "gdf.columns = gdf.columns.str.lower()"
   ]
  },
  {
   "cell_type": "code",
   "execution_count": 6,
   "id": "9fd73592-ae86-47ff-ae0d-5c06acbae82d",
   "metadata": {},
   "outputs": [],
   "source": [
    "gdf_slim = gdf[['id', 'name', 'county_name', 'geometry']]"
   ]
  },
  {
   "cell_type": "code",
   "execution_count": 10,
   "id": "4efb3760-7ddb-41f7-917f-4b2f6c29366a",
   "metadata": {},
   "outputs": [
    {
     "name": "stdout",
     "output_type": "stream",
     "text": [
      "zsh:1: command not found: mapshaper\n"
     ]
    }
   ],
   "source": [
    "!mapshaper data/processed/ca_zips.geojson -simplify percentage=.25 no-repair -o data/processed/ca_zips_simple.geojson"
   ]
  },
  {
   "cell_type": "code",
   "execution_count": 9,
   "id": "0d82a9b4-22de-4358-b871-b5056cfdd140",
   "metadata": {},
   "outputs": [],
   "source": [
    "gdf_slim.to_file('data/processed/ca_zips.geojson', driver='GeoJSON')"
   ]
  },
  {
   "cell_type": "code",
   "execution_count": null,
   "id": "e87a4dbd-45c9-41e5-8e8a-1612c6e3a523",
   "metadata": {},
   "outputs": [],
   "source": []
  }
 ],
 "metadata": {
  "kernelspec": {
   "display_name": "Python 3",
   "language": "python",
   "name": "python3"
  },
  "language_info": {
   "codemirror_mode": {
    "name": "ipython",
    "version": 3
   },
   "file_extension": ".py",
   "mimetype": "text/x-python",
   "name": "python",
   "nbconvert_exporter": "python",
   "pygments_lexer": "ipython3",
   "version": "3.8.8"
  }
 },
 "nbformat": 4,
 "nbformat_minor": 5
}
