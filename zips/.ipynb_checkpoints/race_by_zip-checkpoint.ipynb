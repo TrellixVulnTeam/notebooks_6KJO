{
 "cells": [
  {
   "cell_type": "markdown",
   "metadata": {},
   "source": [
    "# Esri ZIP Codes with race/ethnicity"
   ]
  },
  {
   "cell_type": "code",
   "execution_count": 3,
   "metadata": {},
   "outputs": [],
   "source": [
    "import pandas as pd\n",
    "import geopandas as gpd\n",
    "import matplotlib\n",
    "import json\n",
    "import jenkspy\n",
    "import altair as alt\n",
    "import altair_latimes as lat"
   ]
  },
  {
   "cell_type": "code",
   "execution_count": 4,
   "metadata": {},
   "outputs": [],
   "source": [
    "alt.themes.register('latimes', lat.theme)\n",
    "alt.themes.enable('latimes')\n",
    "alt.data_transformers.disable_max_rows()\n",
    "pd.set_option('display.max_columns', None)\n",
    "pd.set_option('display.max_rows', None)"
   ]
  },
  {
   "cell_type": "markdown",
   "metadata": {},
   "source": [
    "### Fetch our ZIP Codes file with race/ethnicity demographics"
   ]
  },
  {
   "cell_type": "code",
   "execution_count": 5,
   "metadata": {},
   "outputs": [],
   "source": [
    "# From: https://services.arcgis.com/P3ePLMYs2RVChkJx/ArcGIS/rest/services/USA_ZIP_Codes/FeatureServer/0"
   ]
  },
  {
   "cell_type": "code",
   "execution_count": 6,
   "metadata": {},
   "outputs": [],
   "source": [
    "ca_zips_race = gpd.read_file('/Users/mhustiles/data/gis/ca-zip-codes-esri-demographics.geojson')"
   ]
  },
  {
   "cell_type": "code",
   "execution_count": 9,
   "metadata": {},
   "outputs": [],
   "source": [
    "ca_zips_race.columns = ca_zips_race.columns.str.strip().str.lower().str.replace(' ', '_', regex=False)\\\n",
    "                    .str.replace('(', '', regex=False).str.replace(')', '', regex=False).str.replace('-','_', regex=False)"
   ]
  },
  {
   "cell_type": "code",
   "execution_count": 10,
   "metadata": {},
   "outputs": [],
   "source": [
    "ca_zips_race[['objectid', 'zip', 'po_name', 'pop2012', 'white', 'black', 'ameri_es',\n",
    "       'asian', 'hawn_pi', 'hispanic', 'other', 'mult_race', 'med_age',\n",
    "       'ave_hh_sz', 'marhh_chd', 'families', 'ave_fam_sz', 'hse_units', 'sqmi']].to_csv('data/ca-zip-codes-esri-demographics.csv', index=False)"
   ]
  },
  {
   "cell_type": "code",
   "execution_count": 13,
   "metadata": {},
   "outputs": [
    {
     "data": {
      "text/html": [
       "<div>\n",
       "<style scoped>\n",
       "    .dataframe tbody tr th:only-of-type {\n",
       "        vertical-align: middle;\n",
       "    }\n",
       "\n",
       "    .dataframe tbody tr th {\n",
       "        vertical-align: top;\n",
       "    }\n",
       "\n",
       "    .dataframe thead th {\n",
       "        text-align: right;\n",
       "    }\n",
       "</style>\n",
       "<table border=\"1\" class=\"dataframe\">\n",
       "  <thead>\n",
       "    <tr style=\"text-align: right;\">\n",
       "      <th></th>\n",
       "      <th>objectid</th>\n",
       "      <th>zip</th>\n",
       "      <th>po_name</th>\n",
       "      <th>pop2012</th>\n",
       "      <th>white</th>\n",
       "      <th>black</th>\n",
       "      <th>ameri_es</th>\n",
       "      <th>asian</th>\n",
       "      <th>hawn_pi</th>\n",
       "      <th>hispanic</th>\n",
       "      <th>other</th>\n",
       "      <th>mult_race</th>\n",
       "      <th>med_age</th>\n",
       "      <th>ave_hh_sz</th>\n",
       "      <th>marhh_chd</th>\n",
       "      <th>families</th>\n",
       "      <th>ave_fam_sz</th>\n",
       "      <th>hse_units</th>\n",
       "      <th>sqmi</th>\n",
       "      <th>geometry</th>\n",
       "    </tr>\n",
       "  </thead>\n",
       "  <tbody>\n",
       "    <tr>\n",
       "      <th>0</th>\n",
       "      <td>4800</td>\n",
       "      <td>94002</td>\n",
       "      <td>Belmont</td>\n",
       "      <td>26832</td>\n",
       "      <td>19634</td>\n",
       "      <td>477</td>\n",
       "      <td>84</td>\n",
       "      <td>5762</td>\n",
       "      <td>221</td>\n",
       "      <td>3517</td>\n",
       "      <td>1170</td>\n",
       "      <td>1744</td>\n",
       "      <td>41.0</td>\n",
       "      <td>2.42</td>\n",
       "      <td>2925</td>\n",
       "      <td>7671</td>\n",
       "      <td>2.98</td>\n",
       "      <td>12304</td>\n",
       "      <td>5.9</td>\n",
       "      <td>POLYGON ((-122.27703 37.53436, -122.27687 37.5...</td>\n",
       "    </tr>\n",
       "    <tr>\n",
       "      <th>1</th>\n",
       "      <td>4801</td>\n",
       "      <td>94010</td>\n",
       "      <td>Burlingame</td>\n",
       "      <td>41102</td>\n",
       "      <td>31610</td>\n",
       "      <td>482</td>\n",
       "      <td>93</td>\n",
       "      <td>10244</td>\n",
       "      <td>188</td>\n",
       "      <td>5133</td>\n",
       "      <td>1865</td>\n",
       "      <td>2166</td>\n",
       "      <td>42.6</td>\n",
       "      <td>2.43</td>\n",
       "      <td>4798</td>\n",
       "      <td>12179</td>\n",
       "      <td>3.06</td>\n",
       "      <td>20020</td>\n",
       "      <td>13.0</td>\n",
       "      <td>POLYGON ((-122.37728 37.60562, -122.37738 37.6...</td>\n",
       "    </tr>\n",
       "    <tr>\n",
       "      <th>2</th>\n",
       "      <td>4900</td>\n",
       "      <td>93442</td>\n",
       "      <td>Morro Bay</td>\n",
       "      <td>10873</td>\n",
       "      <td>9395</td>\n",
       "      <td>47</td>\n",
       "      <td>104</td>\n",
       "      <td>281</td>\n",
       "      <td>10</td>\n",
       "      <td>1602</td>\n",
       "      <td>645</td>\n",
       "      <td>322</td>\n",
       "      <td>48.9</td>\n",
       "      <td>2.09</td>\n",
       "      <td>593</td>\n",
       "      <td>2749</td>\n",
       "      <td>2.70</td>\n",
       "      <td>6609</td>\n",
       "      <td>43.2</td>\n",
       "      <td>POLYGON ((-120.77255 35.46196, -120.77270 35.4...</td>\n",
       "    </tr>\n",
       "    <tr>\n",
       "      <th>3</th>\n",
       "      <td>4901</td>\n",
       "      <td>93445</td>\n",
       "      <td>Oceano</td>\n",
       "      <td>7633</td>\n",
       "      <td>4683</td>\n",
       "      <td>60</td>\n",
       "      <td>114</td>\n",
       "      <td>155</td>\n",
       "      <td>7</td>\n",
       "      <td>3389</td>\n",
       "      <td>1477</td>\n",
       "      <td>283</td>\n",
       "      <td>34.7</td>\n",
       "      <td>2.86</td>\n",
       "      <td>541</td>\n",
       "      <td>1582</td>\n",
       "      <td>3.42</td>\n",
       "      <td>2871</td>\n",
       "      <td>2.0</td>\n",
       "      <td>POLYGON ((-120.63624 35.12213, -120.63591 35.1...</td>\n",
       "    </tr>\n",
       "    <tr>\n",
       "      <th>4</th>\n",
       "      <td>4802</td>\n",
       "      <td>94015</td>\n",
       "      <td>Daly City</td>\n",
       "      <td>61575</td>\n",
       "      <td>14279</td>\n",
       "      <td>2138</td>\n",
       "      <td>168</td>\n",
       "      <td>35940</td>\n",
       "      <td>482</td>\n",
       "      <td>9775</td>\n",
       "      <td>4520</td>\n",
       "      <td>2939</td>\n",
       "      <td>39.0</td>\n",
       "      <td>3.10</td>\n",
       "      <td>4637</td>\n",
       "      <td>13991</td>\n",
       "      <td>3.54</td>\n",
       "      <td>20103</td>\n",
       "      <td>5.7</td>\n",
       "      <td>POLYGON ((-122.50283 37.70813, -122.50242 37.7...</td>\n",
       "    </tr>\n",
       "  </tbody>\n",
       "</table>\n",
       "</div>"
      ],
      "text/plain": [
       "   objectid    zip     po_name  pop2012  white  black  ameri_es  asian  \\\n",
       "0      4800  94002     Belmont    26832  19634    477        84   5762   \n",
       "1      4801  94010  Burlingame    41102  31610    482        93  10244   \n",
       "2      4900  93442   Morro Bay    10873   9395     47       104    281   \n",
       "3      4901  93445      Oceano     7633   4683     60       114    155   \n",
       "4      4802  94015   Daly City    61575  14279   2138       168  35940   \n",
       "\n",
       "   hawn_pi  hispanic  other  mult_race  med_age  ave_hh_sz  marhh_chd  \\\n",
       "0      221      3517   1170       1744     41.0       2.42       2925   \n",
       "1      188      5133   1865       2166     42.6       2.43       4798   \n",
       "2       10      1602    645        322     48.9       2.09        593   \n",
       "3        7      3389   1477        283     34.7       2.86        541   \n",
       "4      482      9775   4520       2939     39.0       3.10       4637   \n",
       "\n",
       "   families  ave_fam_sz  hse_units  sqmi  \\\n",
       "0      7671        2.98      12304   5.9   \n",
       "1     12179        3.06      20020  13.0   \n",
       "2      2749        2.70       6609  43.2   \n",
       "3      1582        3.42       2871   2.0   \n",
       "4     13991        3.54      20103   5.7   \n",
       "\n",
       "                                            geometry  \n",
       "0  POLYGON ((-122.27703 37.53436, -122.27687 37.5...  \n",
       "1  POLYGON ((-122.37728 37.60562, -122.37738 37.6...  \n",
       "2  POLYGON ((-120.77255 35.46196, -120.77270 35.4...  \n",
       "3  POLYGON ((-120.63624 35.12213, -120.63591 35.1...  \n",
       "4  POLYGON ((-122.50283 37.70813, -122.50242 37.7...  "
      ]
     },
     "execution_count": 13,
     "metadata": {},
     "output_type": "execute_result"
    }
   ],
   "source": [
    "ca_zips_race.head()"
   ]
  },
  {
   "cell_type": "code",
   "execution_count": null,
   "metadata": {},
   "outputs": [],
   "source": [
    "ca_zips_race[['zip', \"geometry\"]].to_file('/Users/mhustiles/Desktop/qgis_training/data/zips.geojson', driver='GeoJSON')"
   ]
  },
  {
   "cell_type": "code",
   "execution_count": 14,
   "metadata": {},
   "outputs": [],
   "source": [
    "ca_zips_race[['objectid', 'zip', 'po_name', 'pop2012', 'white', 'black', 'ameri_es',\n",
    "       'asian', 'hawn_pi', 'hispanic', 'other', 'mult_race', 'med_age',\n",
    "       'ave_hh_sz', 'marhh_chd', 'families', 'ave_fam_sz', 'hse_units', 'sqmi']].to_csv('/Users/mhustiles/Desktop/qgis_training/data/ca-zip-codes-esri-demographics.csv', index=False)"
   ]
  },
  {
   "cell_type": "markdown",
   "metadata": {},
   "source": [
    "### Slim down the geodataframe and clean up column names"
   ]
  },
  {
   "cell_type": "code",
   "execution_count": 16,
   "metadata": {},
   "outputs": [],
   "source": [
    "ca_zips_race = gpd.GeoDataFrame(ca_zips_race[[ 'zip', 'po_name', 'white','black','ameri_es','asian','hawn_pi','hispanic','other','mult_race','geometry']])"
   ]
  },
  {
   "cell_type": "code",
   "execution_count": null,
   "metadata": {},
   "outputs": [],
   "source": [
    "ca_zips_race.rename(columns={ 'po_name':'location', 'population_nu':'population'}, inplace=True)"
   ]
  },
  {
   "cell_type": "markdown",
   "metadata": {},
   "source": [
    "### Calculate rates for race/ethnicity by ZIP Codes"
   ]
  },
  {
   "cell_type": "code",
   "execution_count": null,
   "metadata": {},
   "outputs": [],
   "source": [
    "# ca_zips_race['white_alone'] = ca_zips_race['hispanic'] - ca_zips_race['white']"
   ]
  },
  {
   "cell_type": "code",
   "execution_count": null,
   "metadata": {},
   "outputs": [],
   "source": [
    "# ca_zips_race['white_pct'] = round((ca_zips_race['white_alone'] / ca_zips_race['population'])*100, 2)"
   ]
  },
  {
   "cell_type": "code",
   "execution_count": null,
   "metadata": {},
   "outputs": [],
   "source": [
    "ca_zips_race['black_pct'] = round((ca_zips_race['black'] / ca_zips_race['population'])*100, 2)"
   ]
  },
  {
   "cell_type": "code",
   "execution_count": 88,
   "metadata": {},
   "outputs": [],
   "source": [
    "ca_zips_race['asian_pct'] = round((ca_zips_race['asian'] / ca_zips_race['population'])*100, 2)"
   ]
  },
  {
   "cell_type": "code",
   "execution_count": 89,
   "metadata": {},
   "outputs": [],
   "source": [
    "ca_zips_race['hispanic_pct'] = round((ca_zips_race['hispanic'] / ca_zips_race['population'])*100, 2)"
   ]
  },
  {
   "cell_type": "code",
   "execution_count": 91,
   "metadata": {},
   "outputs": [],
   "source": [
    "ca_zips_race.sort_values('hispanic_pct', ascending=False).head(10)"
   ]
  },
  {
   "cell_type": "code",
   "execution_count": 91,
   "metadata": {},
   "outputs": [],
   "source": []
  },
  {
   "cell_type": "code",
   "execution_count": 91,
   "metadata": {},
   "outputs": [],
   "source": []
  },
  {
   "cell_type": "code",
   "execution_count": 91,
   "metadata": {},
   "outputs": [],
   "source": []
  },
  {
   "cell_type": "code",
   "execution_count": 91,
   "metadata": {},
   "outputs": [],
   "source": []
  },
  {
   "cell_type": "code",
   "execution_count": 91,
   "metadata": {},
   "outputs": [],
   "source": []
  },
  {
   "cell_type": "code",
   "execution_count": 26,
   "metadata": {},
   "outputs": [],
   "source": [
    "ca_zips_wealth = gpd.read_file('/Users/mhustiles/data/gis/WealthiestZipCodesCA.geojson')"
   ]
  },
  {
   "cell_type": "code",
   "execution_count": 27,
   "metadata": {},
   "outputs": [],
   "source": [
    "ca_zips_wealth.columns = ca_zips_wealth.columns.str.strip().str.lower().str.replace(' ', '_', regex=False)\\\n",
    "                    .str.replace('(', '', regex=False).str.replace(')', '', regex=False).str.replace('-','_', regex=False)"
   ]
  },
  {
   "cell_type": "code",
   "execution_count": 29,
   "metadata": {},
   "outputs": [
    {
     "data": {
      "text/html": [
       "<div>\n",
       "<style scoped>\n",
       "    .dataframe tbody tr th:only-of-type {\n",
       "        vertical-align: middle;\n",
       "    }\n",
       "\n",
       "    .dataframe tbody tr th {\n",
       "        vertical-align: top;\n",
       "    }\n",
       "\n",
       "    .dataframe thead th {\n",
       "        text-align: right;\n",
       "    }\n",
       "</style>\n",
       "<table border=\"1\" class=\"dataframe\">\n",
       "  <thead>\n",
       "    <tr style=\"text-align: right;\">\n",
       "      <th></th>\n",
       "      <th>objectid</th>\n",
       "      <th>id</th>\n",
       "      <th>name</th>\n",
       "      <th>st_abbrev</th>\n",
       "      <th>hai_cy</th>\n",
       "      <th>incmort_cy</th>\n",
       "      <th>wlthrnk_cy</th>\n",
       "      <th>domstate</th>\n",
       "      <th>domcounty</th>\n",
       "      <th>county_name</th>\n",
       "      <th>domcbsa</th>\n",
       "      <th>cbsa_name</th>\n",
       "      <th>totpop_cy</th>\n",
       "      <th>tothh_cy</th>\n",
       "      <th>medage_cy</th>\n",
       "      <th>avghinc_cy</th>\n",
       "      <th>avgval_cy</th>\n",
       "      <th>avgnw_cy</th>\n",
       "      <th>shape__area</th>\n",
       "      <th>shape__length</th>\n",
       "      <th>geometry</th>\n",
       "    </tr>\n",
       "  </thead>\n",
       "  <tbody>\n",
       "    <tr>\n",
       "      <th>0</th>\n",
       "      <td>29014</td>\n",
       "      <td>90001</td>\n",
       "      <td>Los Angeles</td>\n",
       "      <td>CA</td>\n",
       "      <td>55</td>\n",
       "      <td>44.1</td>\n",
       "      <td>27675.0</td>\n",
       "      <td>06</td>\n",
       "      <td>06037</td>\n",
       "      <td>Los Angeles County</td>\n",
       "      <td>31080</td>\n",
       "      <td>Los Angeles-Long Beach-Anaheim, CA Metropolita...</td>\n",
       "      <td>59907</td>\n",
       "      <td>13454</td>\n",
       "      <td>27.1</td>\n",
       "      <td>46931</td>\n",
       "      <td>377591</td>\n",
       "      <td>82915</td>\n",
       "      <td>1.274793e+07</td>\n",
       "      <td>17936.346667</td>\n",
       "      <td>POLYGON ((-118.24754 33.98908, -118.24776 33.9...</td>\n",
       "    </tr>\n",
       "    <tr>\n",
       "      <th>1</th>\n",
       "      <td>29015</td>\n",
       "      <td>90002</td>\n",
       "      <td>Los Angeles</td>\n",
       "      <td>CA</td>\n",
       "      <td>59</td>\n",
       "      <td>41.2</td>\n",
       "      <td>27690.0</td>\n",
       "      <td>06</td>\n",
       "      <td>06037</td>\n",
       "      <td>Los Angeles County</td>\n",
       "      <td>31080</td>\n",
       "      <td>Los Angeles-Long Beach-Anaheim, CA Metropolita...</td>\n",
       "      <td>53573</td>\n",
       "      <td>12115</td>\n",
       "      <td>26.7</td>\n",
       "      <td>46332</td>\n",
       "      <td>331694</td>\n",
       "      <td>96786</td>\n",
       "      <td>1.134827e+07</td>\n",
       "      <td>16650.994848</td>\n",
       "      <td>POLYGON ((-118.24745 33.96015, -118.25169 33.9...</td>\n",
       "    </tr>\n",
       "    <tr>\n",
       "      <th>2</th>\n",
       "      <td>29016</td>\n",
       "      <td>90003</td>\n",
       "      <td>Los Angeles</td>\n",
       "      <td>CA</td>\n",
       "      <td>52</td>\n",
       "      <td>46.6</td>\n",
       "      <td>28202.0</td>\n",
       "      <td>06</td>\n",
       "      <td>06037</td>\n",
       "      <td>Los Angeles County</td>\n",
       "      <td>31080</td>\n",
       "      <td>Los Angeles-Long Beach-Anaheim, CA Metropolita...</td>\n",
       "      <td>71967</td>\n",
       "      <td>16771</td>\n",
       "      <td>27.1</td>\n",
       "      <td>43020</td>\n",
       "      <td>358057</td>\n",
       "      <td>66091</td>\n",
       "      <td>1.365974e+07</td>\n",
       "      <td>23821.373485</td>\n",
       "      <td>MULTIPOLYGON (((-118.28268 33.98926, -118.2826...</td>\n",
       "    </tr>\n",
       "    <tr>\n",
       "      <th>3</th>\n",
       "      <td>29017</td>\n",
       "      <td>90004</td>\n",
       "      <td>Los Angeles</td>\n",
       "      <td>CA</td>\n",
       "      <td>21</td>\n",
       "      <td>114.5</td>\n",
       "      <td>20202.0</td>\n",
       "      <td>06</td>\n",
       "      <td>06037</td>\n",
       "      <td>Los Angeles County</td>\n",
       "      <td>31080</td>\n",
       "      <td>Los Angeles-Long Beach-Anaheim, CA Metropolita...</td>\n",
       "      <td>63987</td>\n",
       "      <td>23021</td>\n",
       "      <td>35.8</td>\n",
       "      <td>65893</td>\n",
       "      <td>909580</td>\n",
       "      <td>232653</td>\n",
       "      <td>1.090500e+07</td>\n",
       "      <td>22878.233455</td>\n",
       "      <td>MULTIPOLYGON (((-118.33852 34.06891, -118.3371...</td>\n",
       "    </tr>\n",
       "    <tr>\n",
       "      <th>4</th>\n",
       "      <td>29018</td>\n",
       "      <td>90005</td>\n",
       "      <td>Los Angeles</td>\n",
       "      <td>CA</td>\n",
       "      <td>22</td>\n",
       "      <td>111.5</td>\n",
       "      <td>26028.0</td>\n",
       "      <td>06</td>\n",
       "      <td>06037</td>\n",
       "      <td>Los Angeles County</td>\n",
       "      <td>31080</td>\n",
       "      <td>Los Angeles-Long Beach-Anaheim, CA Metropolita...</td>\n",
       "      <td>41844</td>\n",
       "      <td>17067</td>\n",
       "      <td>35.8</td>\n",
       "      <td>53191</td>\n",
       "      <td>836569</td>\n",
       "      <td>105569</td>\n",
       "      <td>5.390883e+06</td>\n",
       "      <td>19394.836905</td>\n",
       "      <td>POLYGON ((-118.31879 34.05514, -118.31861 34.0...</td>\n",
       "    </tr>\n",
       "  </tbody>\n",
       "</table>\n",
       "</div>"
      ],
      "text/plain": [
       "   objectid     id         name st_abbrev  hai_cy  incmort_cy  wlthrnk_cy  \\\n",
       "0     29014  90001  Los Angeles        CA      55        44.1     27675.0   \n",
       "1     29015  90002  Los Angeles        CA      59        41.2     27690.0   \n",
       "2     29016  90003  Los Angeles        CA      52        46.6     28202.0   \n",
       "3     29017  90004  Los Angeles        CA      21       114.5     20202.0   \n",
       "4     29018  90005  Los Angeles        CA      22       111.5     26028.0   \n",
       "\n",
       "  domstate domcounty         county_name domcbsa  \\\n",
       "0       06     06037  Los Angeles County   31080   \n",
       "1       06     06037  Los Angeles County   31080   \n",
       "2       06     06037  Los Angeles County   31080   \n",
       "3       06     06037  Los Angeles County   31080   \n",
       "4       06     06037  Los Angeles County   31080   \n",
       "\n",
       "                                           cbsa_name  totpop_cy  tothh_cy  \\\n",
       "0  Los Angeles-Long Beach-Anaheim, CA Metropolita...      59907     13454   \n",
       "1  Los Angeles-Long Beach-Anaheim, CA Metropolita...      53573     12115   \n",
       "2  Los Angeles-Long Beach-Anaheim, CA Metropolita...      71967     16771   \n",
       "3  Los Angeles-Long Beach-Anaheim, CA Metropolita...      63987     23021   \n",
       "4  Los Angeles-Long Beach-Anaheim, CA Metropolita...      41844     17067   \n",
       "\n",
       "   medage_cy  avghinc_cy  avgval_cy  avgnw_cy   shape__area  shape__length  \\\n",
       "0       27.1       46931     377591     82915  1.274793e+07   17936.346667   \n",
       "1       26.7       46332     331694     96786  1.134827e+07   16650.994848   \n",
       "2       27.1       43020     358057     66091  1.365974e+07   23821.373485   \n",
       "3       35.8       65893     909580    232653  1.090500e+07   22878.233455   \n",
       "4       35.8       53191     836569    105569  5.390883e+06   19394.836905   \n",
       "\n",
       "                                            geometry  \n",
       "0  POLYGON ((-118.24754 33.98908, -118.24776 33.9...  \n",
       "1  POLYGON ((-118.24745 33.96015, -118.25169 33.9...  \n",
       "2  MULTIPOLYGON (((-118.28268 33.98926, -118.2826...  \n",
       "3  MULTIPOLYGON (((-118.33852 34.06891, -118.3371...  \n",
       "4  POLYGON ((-118.31879 34.05514, -118.31861 34.0...  "
      ]
     },
     "execution_count": 29,
     "metadata": {},
     "output_type": "execute_result"
    }
   ],
   "source": [
    "ca_zips_wealth.head()"
   ]
  },
  {
   "cell_type": "code",
   "execution_count": 30,
   "metadata": {},
   "outputs": [],
   "source": [
    "ca_zips_wealth_slim = ca_zips_wealth[['id','name', 'avghinc_cy', 'avgnw_cy', 'totpop_cy', 'geometry']]"
   ]
  },
  {
   "cell_type": "code",
   "execution_count": 31,
   "metadata": {},
   "outputs": [],
   "source": [
    "zips_esri = ca_zips_wealth_slim.rename(columns={\"id\": \"zip\",\n",
    "                                                    'name':'name',\n",
    "                                 'avghinc_cy':'avg_house_income',\n",
    "                                 'avgnw_cy':'avg_net_worth',\n",
    "                                 'totpop_cy':'population', })"
   ]
  },
  {
   "cell_type": "code",
   "execution_count": 33,
   "metadata": {},
   "outputs": [],
   "source": [
    "zips_esri.to_csv('/Users/mhustiles/Desktop/qgis_training/data/ca_zips_income.csv', index=False)"
   ]
  },
  {
   "cell_type": "code",
   "execution_count": 98,
   "metadata": {},
   "outputs": [
    {
     "data": {
      "text/plain": [
       "8210.019366197183"
      ]
     },
     "execution_count": 98,
     "metadata": {},
     "output_type": "execute_result"
    }
   ],
   "source": [
    "ca_zips_race['hispanic'].mean()"
   ]
  },
  {
   "cell_type": "markdown",
   "metadata": {},
   "source": [
    "### Export this more manageable file"
   ]
  },
  {
   "cell_type": "code",
   "execution_count": 93,
   "metadata": {},
   "outputs": [],
   "source": [
    "ca_zips_race.to_file('../../cars/_notebooks/data/processed/ca_zips_race.geojson', driver='GeoJSON')"
   ]
  }
 ],
 "metadata": {
  "kernelspec": {
   "display_name": "Python 3 (ipykernel)",
   "language": "python",
   "name": "python3"
  },
  "language_info": {
   "codemirror_mode": {
    "name": "ipython",
    "version": 3
   },
   "file_extension": ".py",
   "mimetype": "text/x-python",
   "name": "python",
   "nbconvert_exporter": "python",
   "pygments_lexer": "ipython3",
   "version": "3.8.11"
  }
 },
 "nbformat": 4,
 "nbformat_minor": 4
}
