{
 "cells": [
  {
   "cell_type": "markdown",
   "id": "848fcd0d-fadd-4592-b726-5ce08836d1fb",
   "metadata": {},
   "source": [
    "# Congressional Tweets"
   ]
  },
  {
   "cell_type": "code",
   "execution_count": 1,
   "id": "d8b956f3-e003-4762-b647-c70ba21370ff",
   "metadata": {},
   "outputs": [],
   "source": [
    "%load_ext lab_black"
   ]
  },
  {
   "cell_type": "code",
   "execution_count": 2,
   "id": "84973098-5cb9-47ab-8b96-796b7c671a1d",
   "metadata": {},
   "outputs": [],
   "source": [
    "import pandas as pd\n",
    "import json"
   ]
  },
  {
   "cell_type": "code",
   "execution_count": 3,
   "id": "92496b15-bdc0-435f-a72f-195cd4de8bb8",
   "metadata": {},
   "outputs": [],
   "source": [
    "pd.options.display.max_columns = 100\n",
    "pd.options.display.max_rows = 1000\n",
    "pd.options.display.max_colwidth = None"
   ]
  },
  {
   "cell_type": "markdown",
   "id": "9fa4c917-8d6f-4abe-b903-1f5fcd6eea54",
   "metadata": {
    "jp-MarkdownHeadingCollapsed": true,
    "tags": []
   },
   "source": [
    "#### Read congress tweets file"
   ]
  },
  {
   "cell_type": "code",
   "execution_count": 4,
   "id": "964b84fd-a56f-46d1-90c5-c008652cb577",
   "metadata": {},
   "outputs": [],
   "source": [
    "src = pd.read_csv(\n",
    "    \"/Users/stiles/twarc2/data/processed/congress_tweets.csv\",\n",
    "    dtype={\n",
    "        \"tweet_id\": str,\n",
    "        \"twitter_id\": str,\n",
    "        \"conversation_id\": str,\n",
    "        \"author_id\": str,\n",
    "    },\n",
    "    low_memory=False,\n",
    ")"
   ]
  },
  {
   "cell_type": "markdown",
   "id": "279fa467-fd05-4c12-bf65-df0a017d48b2",
   "metadata": {},
   "source": [
    "#### Into a dataframe"
   ]
  },
  {
   "cell_type": "code",
   "execution_count": 5,
   "id": "a30b159b-f326-4205-8499-1f9676936511",
   "metadata": {},
   "outputs": [],
   "source": [
    "df = src[src[\"created_date_uct\"].notna()].copy()"
   ]
  },
  {
   "cell_type": "markdown",
   "id": "d0edf328-fb8b-4723-b05a-5e43cbe5f7f6",
   "metadata": {},
   "source": [
    "---"
   ]
  },
  {
   "cell_type": "markdown",
   "id": "08ee9f88-bd2b-4c2d-b3f6-c1f60d10cdea",
   "metadata": {},
   "source": [
    "#### Dates/times"
   ]
  },
  {
   "cell_type": "code",
   "execution_count": 6,
   "id": "96af8ad9-bf66-4e1e-99f6-773156288d98",
   "metadata": {},
   "outputs": [],
   "source": [
    "df[\"created_date_uct\"] = pd.to_datetime(df[\"created_date_uct\"], errors=\"coerce\")"
   ]
  },
  {
   "cell_type": "code",
   "execution_count": 7,
   "id": "2345a1bc-c6a4-42c2-9477-6d35d05c475f",
   "metadata": {},
   "outputs": [],
   "source": [
    "df[\"created_date_eastern\"] = (\n",
    "    df[\"created_date_uct\"].dt.tz_convert(\"US/Eastern\").dt.strftime(\"%Y-%m-%d\")\n",
    ")"
   ]
  },
  {
   "cell_type": "code",
   "execution_count": 8,
   "id": "4130affe-cc54-42c6-9568-c5457b17fddd",
   "metadata": {},
   "outputs": [],
   "source": [
    "df[\"created_time_eastern\"] = (\n",
    "    df[\"created_date_uct\"].dt.tz_convert(\"US/Eastern\").dt.strftime(\"%H:%M:%S\")\n",
    ")"
   ]
  },
  {
   "cell_type": "code",
   "execution_count": 9,
   "id": "256f69f2-ad23-4431-a381-8d43c88c5f47",
   "metadata": {},
   "outputs": [],
   "source": [
    "df[\"month\"] = pd.to_datetime(df[\"created_time_eastern\"]).dt.month_name()"
   ]
  },
  {
   "cell_type": "code",
   "execution_count": 10,
   "id": "e5bfe45e-3739-4c9f-9144-f218d5b54352",
   "metadata": {},
   "outputs": [],
   "source": [
    "df[\"weekday\"] = pd.to_datetime(df[\"created_time_eastern\"]).dt.day_name()"
   ]
  },
  {
   "cell_type": "code",
   "execution_count": 11,
   "id": "518aaffd-7255-40e8-aab2-b3d8c030bb23",
   "metadata": {},
   "outputs": [],
   "source": [
    "df[\"year\"] = pd.to_datetime(df[\"created_time_eastern\"]).dt.year"
   ]
  },
  {
   "cell_type": "code",
   "execution_count": 12,
   "id": "7b6afd2b-1ec6-4d72-ae06-3dd64246e27a",
   "metadata": {},
   "outputs": [],
   "source": [
    "df[\"hour\"] = pd.to_datetime(df[\"created_time_eastern\"]).dt.hour"
   ]
  },
  {
   "cell_type": "markdown",
   "id": "12e1e5fe-936a-4083-8fa1-6721458c6972",
   "metadata": {},
   "source": [
    "---"
   ]
  },
  {
   "cell_type": "markdown",
   "id": "37e48051-f687-4256-ba2c-6fc3f74239aa",
   "metadata": {},
   "source": [
    "#### Most popular tweets"
   ]
  },
  {
   "cell_type": "code",
   "execution_count": 13,
   "id": "cad2efc3-8d71-4eb4-9d02-8e6319b099d8",
   "metadata": {},
   "outputs": [
    {
     "data": {
      "text/html": [
       "<div>\n",
       "<style scoped>\n",
       "    .dataframe tbody tr th:only-of-type {\n",
       "        vertical-align: middle;\n",
       "    }\n",
       "\n",
       "    .dataframe tbody tr th {\n",
       "        vertical-align: top;\n",
       "    }\n",
       "\n",
       "    .dataframe thead th {\n",
       "        text-align: right;\n",
       "    }\n",
       "</style>\n",
       "<table border=\"1\" class=\"dataframe\">\n",
       "  <thead>\n",
       "    <tr style=\"text-align: right;\">\n",
       "      <th></th>\n",
       "      <th>tweet_id</th>\n",
       "      <th>twitter</th>\n",
       "      <th>tweet_text</th>\n",
       "      <th>likes</th>\n",
       "    </tr>\n",
       "  </thead>\n",
       "  <tbody>\n",
       "    <tr>\n",
       "      <th>67486</th>\n",
       "      <td>1518646196952350726</td>\n",
       "      <td>RepMarieNewman</td>\n",
       "      <td>Elon Musk paid $0 in federal taxes in 2018.\\n\\nIf he can afford Twitter, he can damn well afford to pay his fair share in taxes. We need a Billionaire Tax NOW.</td>\n",
       "      <td>349784</td>\n",
       "    </tr>\n",
       "    <tr>\n",
       "      <th>7990</th>\n",
       "      <td>1521303260933541890</td>\n",
       "      <td>SenSanders</td>\n",
       "      <td>Congress must pass legislation that codifies Roe v. Wade as the law of the land in this country NOW. And if there aren’t 60 votes in the Senate to do it, and there are not, we must end the filibuster to pass it with 50 votes.</td>\n",
       "      <td>300003</td>\n",
       "    </tr>\n",
       "    <tr>\n",
       "      <th>55420</th>\n",
       "      <td>1511106814175330305</td>\n",
       "      <td>SenatorRomney</td>\n",
       "      <td>I intend to vote in support of Judge Ketanji Brown Jackson’s confirmation to be an associate justice of the U.S. Supreme Court. My statement: https://t.co/uGaxx8sJn5</td>\n",
       "      <td>205777</td>\n",
       "    </tr>\n",
       "    <tr>\n",
       "      <th>32324</th>\n",
       "      <td>1521301933897756677</td>\n",
       "      <td>SenWarren</td>\n",
       "      <td>An extremist Supreme Court is poised to overturn #RoeVWade and impose its far-right, unpopular views on the entire country. It's time for the millions who support the Constitution and abortion rights to stand up and make their voices heard. We're not going back—not ever.</td>\n",
       "      <td>145044</td>\n",
       "    </tr>\n",
       "    <tr>\n",
       "      <th>32361</th>\n",
       "      <td>1518702084048179200</td>\n",
       "      <td>SenWarren</td>\n",
       "      <td>This deal is dangerous for our democracy. Billionaires like Elon Musk play by a different set of rules than everyone else, accumulating power for their own gain. We need a wealth tax and strong rules to hold Big Tech accountable.</td>\n",
       "      <td>142623</td>\n",
       "    </tr>\n",
       "  </tbody>\n",
       "</table>\n",
       "</div>"
      ],
      "text/plain": [
       "                  tweet_id         twitter  \\\n",
       "67486  1518646196952350726  RepMarieNewman   \n",
       "7990   1521303260933541890      SenSanders   \n",
       "55420  1511106814175330305   SenatorRomney   \n",
       "32324  1521301933897756677       SenWarren   \n",
       "32361  1518702084048179200       SenWarren   \n",
       "\n",
       "                                                                                                                                                                                                                                                                            tweet_text  \\\n",
       "67486                                                                                                                  Elon Musk paid $0 in federal taxes in 2018.\\n\\nIf he can afford Twitter, he can damn well afford to pay his fair share in taxes. We need a Billionaire Tax NOW.   \n",
       "7990                                                 Congress must pass legislation that codifies Roe v. Wade as the law of the land in this country NOW. And if there aren’t 60 votes in the Senate to do it, and there are not, we must end the filibuster to pass it with 50 votes.   \n",
       "55420                                                                                                            I intend to vote in support of Judge Ketanji Brown Jackson’s confirmation to be an associate justice of the U.S. Supreme Court. My statement: https://t.co/uGaxx8sJn5   \n",
       "32324  An extremist Supreme Court is poised to overturn #RoeVWade and impose its far-right, unpopular views on the entire country. It's time for the millions who support the Constitution and abortion rights to stand up and make their voices heard. We're not going back—not ever.   \n",
       "32361                                            This deal is dangerous for our democracy. Billionaires like Elon Musk play by a different set of rules than everyone else, accumulating power for their own gain. We need a wealth tax and strong rules to hold Big Tech accountable.   \n",
       "\n",
       "        likes  \n",
       "67486  349784  \n",
       "7990   300003  \n",
       "55420  205777  \n",
       "32324  145044  \n",
       "32361  142623  "
      ]
     },
     "execution_count": 13,
     "metadata": {},
     "output_type": "execute_result"
    }
   ],
   "source": [
    "df.sort_values(\"likes\", ascending=False)[\n",
    "    [\"tweet_id\", \"twitter\", \"tweet_text\", \"likes\"]\n",
    "].head(5)"
   ]
  },
  {
   "cell_type": "markdown",
   "id": "9e483c04-8e3f-41bf-8aad-2db414ba69be",
   "metadata": {},
   "source": [
    "---"
   ]
  },
  {
   "cell_type": "markdown",
   "id": "34f11188-2506-42c6-bbc2-19be7f5ad00a",
   "metadata": {},
   "source": [
    "## Export"
   ]
  },
  {
   "cell_type": "code",
   "execution_count": 14,
   "id": "dec0bf46-7ecd-42c3-923c-6f85257fb833",
   "metadata": {},
   "outputs": [],
   "source": [
    "df.to_csv(\"data/processed/congress_tweets_all.csv\", index=False)"
   ]
  }
 ],
 "metadata": {
  "kernelspec": {
   "display_name": "Python 3 (ipykernel)",
   "language": "python",
   "name": "python3"
  },
  "language_info": {
   "codemirror_mode": {
    "name": "ipython",
    "version": 3
   },
   "file_extension": ".py",
   "mimetype": "text/x-python",
   "name": "python",
   "nbconvert_exporter": "python",
   "pygments_lexer": "ipython3",
   "version": "3.8.9"
  }
 },
 "nbformat": 4,
 "nbformat_minor": 5
}
