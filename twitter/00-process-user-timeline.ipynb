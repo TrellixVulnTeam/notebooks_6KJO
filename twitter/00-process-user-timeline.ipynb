{
 "cells": [
  {
   "cell_type": "markdown",
   "id": "6f9698f2-d8a4-4b13-a892-a22881981be2",
   "metadata": {},
   "source": [
    "# @elonmusk on Twitter"
   ]
  },
  {
   "cell_type": "markdown",
   "id": "0812ac7a-b561-49d0-80a3-0988bd1576fe",
   "metadata": {},
   "source": [
    "#### Load Python tools"
   ]
  },
  {
   "cell_type": "code",
   "execution_count": 1,
   "id": "c851cdf3-89dd-485a-b949-7aeac65d45be",
   "metadata": {},
   "outputs": [],
   "source": [
    "%load_ext lab_black"
   ]
  },
  {
   "cell_type": "code",
   "execution_count": 2,
   "id": "19814842-ba0a-4b7a-8cd3-1f33afecfcdd",
   "metadata": {},
   "outputs": [],
   "source": [
    "import pandas as pd\n",
    "import altair as alt\n",
    "import altair_grid as altgrid\n",
    "import json"
   ]
  },
  {
   "cell_type": "code",
   "execution_count": 3,
   "id": "dc66342c-90cd-447a-99bf-c50462796913",
   "metadata": {},
   "outputs": [
    {
     "data": {
      "text/plain": [
       "ThemeRegistry.enable('grid')"
      ]
     },
     "execution_count": 3,
     "metadata": {},
     "output_type": "execute_result"
    }
   ],
   "source": [
    "alt.themes.register(\"grid\", altgrid.theme)\n",
    "alt.themes.enable(\"grid\")"
   ]
  },
  {
   "cell_type": "code",
   "execution_count": 4,
   "id": "1e8e334e-710d-447f-b5ab-fa8c7100334f",
   "metadata": {},
   "outputs": [],
   "source": [
    "pd.options.display.max_columns = 1000\n",
    "pd.options.display.max_rows = 1000"
   ]
  },
  {
   "cell_type": "markdown",
   "id": "7d72af75-c580-4f4f-b0ea-86b0bf6ab8ee",
   "metadata": {},
   "source": [
    "---"
   ]
  },
  {
   "cell_type": "markdown",
   "id": "955d34fd-eae2-4bd7-895b-061c1cb4669f",
   "metadata": {},
   "source": [
    "## Get data"
   ]
  },
  {
   "cell_type": "markdown",
   "id": "3ff862b4-f821-4633-a6ae-7aee305931c3",
   "metadata": {},
   "source": [
    "#### Which user are we seeking? "
   ]
  },
  {
   "cell_type": "code",
   "execution_count": 16,
   "id": "f001167a-4056-497d-8cd7-9fb59badecf9",
   "metadata": {},
   "outputs": [],
   "source": [
    "user = \"RadioShack\""
   ]
  },
  {
   "cell_type": "code",
   "execution_count": 5,
   "id": "d9c8d105-bdba-4492-8148-939f9796c62b",
   "metadata": {},
   "outputs": [
    {
     "name": "stdout",
     "output_type": "stream",
     "text": [
      "100%|███████████| Processed 12 years/12 years [09:09<00:00, 29252 tweets total ]\n"
     ]
    }
   ],
   "source": [
    "!twarc2 timeline --use-search RadioShack data/raw/user_RadioShack.jsonl"
   ]
  },
  {
   "cell_type": "markdown",
   "id": "df1b9ee8-030d-4b13-9306-86b5daf65a0e",
   "metadata": {},
   "source": [
    "#### Read timeline pulled with the [Twarc library](https://twarc-project.readthedocs.io/en/latest/twarc2_en_us/)"
   ]
  },
  {
   "cell_type": "code",
   "execution_count": 5,
   "id": "83b6e21e-00e5-44b0-8b90-28b2636bb5dd",
   "metadata": {},
   "outputs": [],
   "source": [
    "jsons = []\n",
    "\n",
    "with open(\"/Users/stiles/twarc2/elonmusk_timeline.json\") as f:\n",
    "    for line in f:\n",
    "        jsons.append(json.loads(line))"
   ]
  },
  {
   "cell_type": "markdown",
   "id": "93d0b33c-a113-4017-a38e-c41aa2354ad2",
   "metadata": {},
   "source": [
    "#### Loop over list of twitter jsons and extract elements into a dictionary"
   ]
  },
  {
   "cell_type": "code",
   "execution_count": 6,
   "id": "453fab8c-5c92-4b98-9811-a62e8a059b05",
   "metadata": {},
   "outputs": [],
   "source": [
    "data_list = []\n",
    "\n",
    "for j in jsons:\n",
    "    for d in j[\"data\"]:\n",
    "        data_list.append(d)"
   ]
  },
  {
   "cell_type": "markdown",
   "id": "c01917ba-6e5f-4a15-8ee1-c410b49f5db5",
   "metadata": {},
   "source": [
    "#### Convert list of dictionaries to dataframe"
   ]
  },
  {
   "cell_type": "code",
   "execution_count": 7,
   "id": "033897e0-e95e-423d-bfce-c792236ab7ec",
   "metadata": {},
   "outputs": [],
   "source": [
    "src = pd.DataFrame(data_list)"
   ]
  },
  {
   "cell_type": "markdown",
   "id": "10108ec4-6ffb-433f-b39f-f5987fd7a778",
   "metadata": {},
   "source": [
    "#### Unpack nested columns"
   ]
  },
  {
   "cell_type": "code",
   "execution_count": 8,
   "id": "88fb6340-7c43-496c-be7c-baf029966468",
   "metadata": {},
   "outputs": [],
   "source": [
    "src[[\"urls\", \"annotations\", \"mentions\", \"cashtags\", \"hashtags\"]] = pd.json_normalize(\n",
    "    src[\"entities\"]\n",
    ")"
   ]
  },
  {
   "cell_type": "code",
   "execution_count": 9,
   "id": "b6b80427-5363-42c1-a96d-2501da80a8fe",
   "metadata": {},
   "outputs": [],
   "source": [
    "src[[\"retweet_count\", \"reply_count\", \"like_count\", \"quote_count\"]] = pd.json_normalize(\n",
    "    src[\"public_metrics\"]\n",
    ")"
   ]
  },
  {
   "cell_type": "code",
   "execution_count": 10,
   "id": "0d154bb4-2f43-4e44-825a-3dbb05a178f9",
   "metadata": {},
   "outputs": [],
   "source": [
    "src[[\"media_keys\", \"poll_ids\"]] = pd.json_normalize(src[\"attachments\"])"
   ]
  },
  {
   "cell_type": "markdown",
   "id": "0dc1bbe3-5318-4c58-bf62-1e5657495fc2",
   "metadata": {},
   "source": [
    "#### Dates"
   ]
  },
  {
   "cell_type": "code",
   "execution_count": 11,
   "id": "49a547ee-7965-4866-8c56-84eaf5d0c31c",
   "metadata": {},
   "outputs": [],
   "source": [
    "src[\"date\"] = pd.to_datetime(src.created_at).dt.strftime(\"%Y-%m-%d\")"
   ]
  },
  {
   "cell_type": "markdown",
   "id": "0950e28b-f9eb-4253-804d-8d71fedd76ce",
   "metadata": {},
   "source": [
    "#### Drop what we don't need"
   ]
  },
  {
   "cell_type": "code",
   "execution_count": 12,
   "id": "28f83d7d-146a-4956-8d19-e863d557d259",
   "metadata": {},
   "outputs": [],
   "source": [
    "src.drop(\n",
    "    [\n",
    "        \"entities\",\n",
    "        \"author_id\",\n",
    "        \"public_metrics\",\n",
    "        \"context_annotations\",\n",
    "        \"attachments\",\n",
    "        \"lang\",\n",
    "        \"reply_settings\",\n",
    "        \"urls\",\n",
    "        \"annotations\",\n",
    "        \"cashtags\",\n",
    "        \"poll_ids\",\n",
    "        \"created_at\",\n",
    "        \"possibly_sensitive\",\n",
    "        \"mentions\",\n",
    "        \"context_annotations\",\n",
    "        \"media_keys\",\n",
    "        \"hashtags\",\n",
    "        \"referenced_tweets\",\n",
    "    ],\n",
    "    axis=1,\n",
    "    inplace=True,\n",
    ")"
   ]
  },
  {
   "cell_type": "code",
   "execution_count": 13,
   "id": "50f653b1-4b45-496e-b1f5-f5a43dd4c50b",
   "metadata": {},
   "outputs": [],
   "source": [
    "df = src.copy()"
   ]
  },
  {
   "cell_type": "markdown",
   "id": "35b602b1-a4e1-4ae1-b6fa-86270f79cd22",
   "metadata": {},
   "source": [
    "---"
   ]
  },
  {
   "cell_type": "code",
   "execution_count": 14,
   "id": "0781b22c-d81f-475a-ade3-73e1bef5d07e",
   "metadata": {},
   "outputs": [
    {
     "name": "stdout",
     "output_type": "stream",
     "text": [
      "<class 'pandas.core.frame.DataFrame'>\n",
      "RangeIndex: 17405 entries, 0 to 17404\n",
      "Data columns (total 10 columns):\n",
      " #   Column               Non-Null Count  Dtype \n",
      "---  ------               --------------  ----- \n",
      " 0   source               17405 non-null  object\n",
      " 1   id                   17405 non-null  object\n",
      " 2   text                 17405 non-null  object\n",
      " 3   conversation_id      17405 non-null  object\n",
      " 4   in_reply_to_user_id  12407 non-null  object\n",
      " 5   retweet_count        17405 non-null  int64 \n",
      " 6   reply_count          17405 non-null  int64 \n",
      " 7   like_count           17405 non-null  int64 \n",
      " 8   quote_count          17405 non-null  int64 \n",
      " 9   date                 17405 non-null  object\n",
      "dtypes: int64(4), object(6)\n",
      "memory usage: 1.3+ MB\n"
     ]
    }
   ],
   "source": [
    "df.info()"
   ]
  },
  {
   "cell_type": "code",
   "execution_count": 15,
   "id": "953f5f52-af1e-42df-9ee8-40e94272a5d3",
   "metadata": {},
   "outputs": [],
   "source": [
    "df.head()"
   ]
  },
  {
   "cell_type": "markdown",
   "id": "dd7a896c-827b-4687-9dc7-f0c46237c62b",
   "metadata": {},
   "source": [
    "---"
   ]
  },
  {
   "cell_type": "markdown",
   "id": "e00ec62a-66b6-4817-8af0-8b1a29164576",
   "metadata": {},
   "source": [
    "## Export timeline"
   ]
  },
  {
   "cell_type": "code",
   "execution_count": null,
   "id": "d61e98f2-ea4b-4645-b512-c05b28f67325",
   "metadata": {},
   "outputs": [],
   "source": [
    "df.to_csv(f'data/processed/{user}_timeline.csv', index=False)"
   ]
  }
 ],
 "metadata": {
  "kernelspec": {
   "display_name": "Python 3 (ipykernel)",
   "language": "python",
   "name": "python3"
  },
  "language_info": {
   "codemirror_mode": {
    "name": "ipython",
    "version": 3
   },
   "file_extension": ".py",
   "mimetype": "text/x-python",
   "name": "python",
   "nbconvert_exporter": "python",
   "pygments_lexer": "ipython3",
   "version": "3.8.9"
  }
 },
 "nbformat": 4,
 "nbformat_minor": 5
}
