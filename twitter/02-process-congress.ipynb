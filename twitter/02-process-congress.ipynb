{
 "cells": [
  {
   "cell_type": "markdown",
   "id": "848fcd0d-fadd-4592-b726-5ce08836d1fb",
   "metadata": {},
   "source": [
    "# Members of Congress on Twitter"
   ]
  },
  {
   "cell_type": "code",
   "execution_count": 1,
   "id": "3297404b-0b76-4df2-af15-55f87cfbfe89",
   "metadata": {},
   "outputs": [],
   "source": [
    "import pandas as pd\n",
    "import glob\n",
    "import json"
   ]
  },
  {
   "cell_type": "code",
   "execution_count": 2,
   "id": "92496b15-bdc0-435f-a72f-195cd4de8bb8",
   "metadata": {},
   "outputs": [],
   "source": [
    "pd.options.display.max_columns = 100\n",
    "pd.options.display.max_rows = 1000\n",
    "pd.options.display.max_colwidth = None"
   ]
  },
  {
   "cell_type": "markdown",
   "id": "9fa4c917-8d6f-4abe-b903-1f5fcd6eea54",
   "metadata": {},
   "source": [
    "#### Get congressional account details from GovTrack"
   ]
  },
  {
   "cell_type": "code",
   "execution_count": 3,
   "id": "65715f3a-cf29-46cd-8134-1309f5572b34",
   "metadata": {},
   "outputs": [],
   "source": [
    "gov_track_social = pd.read_json('https://theunitedstates.io/congress-legislators/legislators-social-media.json')"
   ]
  },
  {
   "cell_type": "code",
   "execution_count": 4,
   "id": "a8405cde-f3f8-4bfe-8ef6-cd4c5dda480a",
   "metadata": {},
   "outputs": [],
   "source": [
    "gov_track_social[['twitter', 'facebook', 'youtube_id', 'twitter_id', 'youtube',\n",
    "       'instagram', 'instagram_id']] = pd.json_normalize(gov_track_social['social'])"
   ]
  },
  {
   "cell_type": "code",
   "execution_count": 5,
   "id": "58692a48-8d52-4869-9b49-d30507e43066",
   "metadata": {
    "tags": []
   },
   "outputs": [],
   "source": [
    "gov_track_df = pd.read_csv('https://theunitedstates.io/congress-legislators/legislators-current.csv')"
   ]
  },
  {
   "cell_type": "code",
   "execution_count": 6,
   "id": "9933a45e-d229-45d4-b1f3-42e663f7fc64",
   "metadata": {
    "tags": []
   },
   "outputs": [
    {
     "data": {
      "text/plain": [
       "536"
      ]
     },
     "execution_count": 6,
     "metadata": {},
     "output_type": "execute_result"
    }
   ],
   "source": [
    "len(gov_track_df)"
   ]
  },
  {
   "cell_type": "code",
   "execution_count": 7,
   "id": "5105debf-f20f-4526-badf-c276ff318aa3",
   "metadata": {
    "tags": []
   },
   "outputs": [
    {
     "data": {
      "text/plain": [
       "M    386\n",
       "F    150\n",
       "Name: gender, dtype: int64"
      ]
     },
     "execution_count": 7,
     "metadata": {},
     "output_type": "execute_result"
    }
   ],
   "source": [
    "gov_track_df.gender.value_counts()"
   ]
  },
  {
   "cell_type": "code",
   "execution_count": 8,
   "id": "de3a2095-c475-44c6-85f4-c92a71fa588e",
   "metadata": {
    "tags": []
   },
   "outputs": [
    {
     "data": {
      "text/plain": [
       "M    0.720149\n",
       "F    0.279851\n",
       "Name: gender, dtype: float64"
      ]
     },
     "execution_count": 8,
     "metadata": {},
     "output_type": "execute_result"
    }
   ],
   "source": [
    "gov_track_df.gender.value_counts(normalize=True)"
   ]
  },
  {
   "cell_type": "code",
   "execution_count": 9,
   "id": "7bc48a2b-ed28-4412-9687-c6822d65ce07",
   "metadata": {},
   "outputs": [],
   "source": [
    "twitter_list = []\n",
    "\n",
    "for handles in gov_track_social['social']:\n",
    "    twitter_list.append(handles)"
   ]
  },
  {
   "cell_type": "code",
   "execution_count": 10,
   "id": "959b8002-bf64-499d-85e3-3e7f964a0d01",
   "metadata": {},
   "outputs": [],
   "source": [
    "social_df = pd.DataFrame(twitter_list)"
   ]
  },
  {
   "cell_type": "code",
   "execution_count": 11,
   "id": "062f509f-8b50-493c-a94b-a627410b6257",
   "metadata": {},
   "outputs": [],
   "source": [
    "social_df['twitter_id'].to_csv('/Users/stiles/twarc2/data/reference/congress_twitter.txt', index=False, header=False)"
   ]
  },
  {
   "cell_type": "code",
   "execution_count": 12,
   "id": "b39dbaed-368c-4643-a65e-188a5557c22e",
   "metadata": {},
   "outputs": [],
   "source": [
    "twitter_user_lookup = social_df[['twitter', 'twitter_id']]"
   ]
  },
  {
   "cell_type": "markdown",
   "id": "37dfd693-a044-40aa-bd68-22d7da442e7c",
   "metadata": {},
   "source": [
    "---"
   ]
  },
  {
   "cell_type": "markdown",
   "id": "493344ec-b0db-4cd0-b91c-7778581d1efd",
   "metadata": {},
   "source": [
    "#### Last update: June 27"
   ]
  },
  {
   "cell_type": "code",
   "execution_count": 13,
   "id": "d9421049-7831-4907-ac9d-034f70f82336",
   "metadata": {},
   "outputs": [],
   "source": [
    "# !twarc2 timelines --start-time '2020-01-01' --no-context-annotations data/reference/congress_twitter.txt data/raw/members_congress.jsonl"
   ]
  },
  {
   "cell_type": "markdown",
   "id": "842da794-68e7-4ea3-99c7-a1d8a63dd61f",
   "metadata": {},
   "source": [
    "----"
   ]
  },
  {
   "cell_type": "markdown",
   "id": "e756ec85-8efd-44d2-a8ec-ce9fe40aec4b",
   "metadata": {},
   "source": [
    "#### Get the path to each member's tweet file"
   ]
  },
  {
   "cell_type": "code",
   "execution_count": 14,
   "id": "0733dbba-4af1-4f1e-a330-e0a023d12e1c",
   "metadata": {},
   "outputs": [],
   "source": [
    "file_path = \"/Users/stiles/twarc2/data/raw/\"\n",
    "json_files = glob.glob(file_path + \"*.jsonl\")"
   ]
  },
  {
   "cell_type": "code",
   "execution_count": 15,
   "id": "8b698a7a-9cf5-456d-884e-1bb93451327d",
   "metadata": {},
   "outputs": [
    {
     "data": {
      "text/plain": [
       "1"
      ]
     },
     "execution_count": 15,
     "metadata": {},
     "output_type": "execute_result"
    }
   ],
   "source": [
    "len(json_files)"
   ]
  },
  {
   "cell_type": "code",
   "execution_count": 16,
   "id": "2d2f520c-87cc-465a-940a-b76ca65f51aa",
   "metadata": {},
   "outputs": [
    {
     "data": {
      "text/plain": [
       "['/Users/stiles/twarc2/data/raw/members_congress.jsonl']"
      ]
     },
     "execution_count": 16,
     "metadata": {},
     "output_type": "execute_result"
    }
   ],
   "source": [
    "json_files"
   ]
  },
  {
   "cell_type": "markdown",
   "id": "333d2788-91fa-4294-9749-ee5ea773faa2",
   "metadata": {},
   "source": [
    "#### Read all the json files, loop and snag values that interest us "
   ]
  },
  {
   "cell_type": "code",
   "execution_count": 17,
   "id": "8b662d94-7b8e-4fe8-a52f-616e43cdea68",
   "metadata": {},
   "outputs": [
    {
     "name": "stdout",
     "output_type": "stream",
     "text": [
      "CPU times: user 26.4 s, sys: 45.5 s, total: 1min 11s\n",
      "Wall time: 2min 47s\n"
     ]
    }
   ],
   "source": [
    "%%time\n",
    "\n",
    "jsons = []\n",
    "data_list = []\n",
    "\n",
    "for f in json_files:\n",
    "    with open(f) as file:\n",
    "        for line in file:\n",
    "            jsons.append(json.loads(line))"
   ]
  },
  {
   "cell_type": "code",
   "execution_count": 18,
   "id": "c0d90ebc-0df4-449e-8741-32e482e0cb6b",
   "metadata": {},
   "outputs": [],
   "source": [
    "%%time\n",
    "\n",
    "for j in jsons:\n",
    "    for d in j['data']:\n",
    "        datadict = {\n",
    "            \"author_id\":d['author_id'],\n",
    "            \"conversation_id\": d['conversation_id'],\n",
    "            \"tweet_id\": d['id'],\n",
    "            \"tweet_text\": d['text'],\n",
    "            \"source\": d['source'],\n",
    "            \"created_date_uct\": d['created_at'],\n",
    "            \"retweets\": pd.json_normalize(d['public_metrics'])['retweet_count'][0],\n",
    "            \"likes\": pd.json_normalize(d['public_metrics'])['like_count'][0],\n",
    "            \"quotes\": pd.json_normalize(d['public_metrics'])['quote_count'][0],\n",
    "        }\n",
    "        data_list.append(datadict)"
   ]
  },
  {
   "cell_type": "markdown",
   "id": "ec9ba8f8-5b5d-461f-87c5-4f333b8c3e9a",
   "metadata": {},
   "source": [
    "#### Convert the list of dicts to a pandas dataframe"
   ]
  },
  {
   "cell_type": "code",
   "execution_count": 19,
   "id": "adabf329-f97e-4dbf-9c06-da593bc99901",
   "metadata": {},
   "outputs": [],
   "source": [
    "src = pd.DataFrame(data_list)"
   ]
  },
  {
   "cell_type": "markdown",
   "id": "a99ce785-052a-4204-b63b-8562a25d9687",
   "metadata": {},
   "source": [
    "#### How many Twitter users did we capture? "
   ]
  },
  {
   "cell_type": "code",
   "execution_count": 20,
   "id": "abf9eb17-1a16-45dc-9628-7b7ca88bcbde",
   "metadata": {},
   "outputs": [
    {
     "data": {
      "text/plain": [
       "526"
      ]
     },
     "execution_count": 20,
     "metadata": {},
     "output_type": "execute_result"
    }
   ],
   "source": [
    "len(src.author_id.unique())"
   ]
  },
  {
   "cell_type": "markdown",
   "id": "18338e42-188d-4318-a904-3b7247dd4b5b",
   "metadata": {},
   "source": [
    "#### Drop dupes because the requests might overlap"
   ]
  },
  {
   "cell_type": "code",
   "execution_count": 21,
   "id": "60a5b6df-b59e-41af-b2e8-84e9166c92e1",
   "metadata": {},
   "outputs": [],
   "source": [
    "src = src.drop_duplicates(subset='tweet_id')"
   ]
  },
  {
   "cell_type": "markdown",
   "id": "af4ffbbd-632d-4fa2-878e-ca39e4ad9214",
   "metadata": {},
   "source": [
    "#### Merge tweets with user info"
   ]
  },
  {
   "cell_type": "code",
   "execution_count": 22,
   "id": "efb9c15c-214a-4479-bef4-ad788359a34c",
   "metadata": {},
   "outputs": [],
   "source": [
    "df = pd.merge(src, twitter_user_lookup, left_on='author_id', right_on='twitter_id')"
   ]
  },
  {
   "cell_type": "markdown",
   "id": "3e3c1f75-97c7-4036-8ab6-4d119baf9727",
   "metadata": {},
   "source": [
    "#### Merge df with member bio info"
   ]
  },
  {
   "cell_type": "code",
   "execution_count": 23,
   "id": "41477acf-5bde-4eec-8388-261fa008843c",
   "metadata": {},
   "outputs": [],
   "source": [
    "df_bio = pd.merge(df, gov_track_df[['type', 'party', \"twitter\", \"gender\"]], on='twitter')"
   ]
  },
  {
   "cell_type": "markdown",
   "id": "06ea9c2d-8b79-49cf-a20b-bdde31ba6723",
   "metadata": {},
   "source": [
    "#### How many tweets? "
   ]
  },
  {
   "cell_type": "code",
   "execution_count": 24,
   "id": "085fb1d4-92a7-462e-b1e8-aee720821067",
   "metadata": {},
   "outputs": [
    {
     "data": {
      "text/plain": [
       "1109209"
      ]
     },
     "execution_count": 24,
     "metadata": {},
     "output_type": "execute_result"
    }
   ],
   "source": [
    "len(df_bio)"
   ]
  },
  {
   "cell_type": "markdown",
   "id": "73e0e206-fa1f-43e8-9bce-acb0229bc712",
   "metadata": {},
   "source": [
    "---"
   ]
  },
  {
   "cell_type": "markdown",
   "id": "226ebe25-8302-43b2-9a90-6dc57304d45a",
   "metadata": {},
   "source": [
    "## Export"
   ]
  },
  {
   "cell_type": "code",
   "execution_count": 25,
   "id": "c352a031-0906-472b-a8d5-43bc72b06dd8",
   "metadata": {},
   "outputs": [],
   "source": [
    "df_bio.to_csv('/Users/stiles/twarc2/data/processed/congress_tweets.csv', index=False)"
   ]
  },
  {
   "cell_type": "code",
   "execution_count": 26,
   "id": "c485e1e7-fc32-47ac-b966-8ff89b25f4ce",
   "metadata": {},
   "outputs": [],
   "source": [
    "from sqlalchemy import create_engine\n",
    "engine = create_engine('sqlite:////Users/stiles/twarc2/data/processed/congress_tweets.db', echo=False)"
   ]
  },
  {
   "cell_type": "code",
   "execution_count": 27,
   "id": "35e730f3-f5bc-4d27-870b-a0c9345c431c",
   "metadata": {},
   "outputs": [
    {
     "data": {
      "text/plain": [
       "1109209"
      ]
     },
     "execution_count": 27,
     "metadata": {},
     "output_type": "execute_result"
    }
   ],
   "source": [
    "df_bio.to_sql('tweets', con=engine, if_exists='replace')"
   ]
  },
  {
   "cell_type": "code",
   "execution_count": 28,
   "id": "3d182bb9-00b7-40d5-a03f-0af6bc38a766",
   "metadata": {},
   "outputs": [],
   "source": [
    "January6thCmte = df[df['tweet_text'].str.contains('@January6thCmte')]"
   ]
  },
  {
   "cell_type": "code",
   "execution_count": 29,
   "id": "ddc6d01e-9918-4f70-b791-61442119e3be",
   "metadata": {},
   "outputs": [
    {
     "data": {
      "text/plain": [
       "996"
      ]
     },
     "execution_count": 29,
     "metadata": {},
     "output_type": "execute_result"
    }
   ],
   "source": [
    "len(January6thCmte)"
   ]
  },
  {
   "cell_type": "code",
   "execution_count": 30,
   "id": "faef8c41-c2cb-454a-b697-19f5247d0aa4",
   "metadata": {},
   "outputs": [],
   "source": [
    "January6thCmte.to_csv('/Users/stiles/twarc2/data/processed/congress_mentions_January6thCmte.csv')"
   ]
  }
 ],
 "metadata": {
  "kernelspec": {
   "display_name": "Python 3 (ipykernel)",
   "language": "python",
   "name": "python3"
  },
  "language_info": {
   "codemirror_mode": {
    "name": "ipython",
    "version": 3
   },
   "file_extension": ".py",
   "mimetype": "text/x-python",
   "name": "python",
   "nbconvert_exporter": "python",
   "pygments_lexer": "ipython3",
   "version": "3.8.9"
  }
 },
 "nbformat": 4,
 "nbformat_minor": 5
}
