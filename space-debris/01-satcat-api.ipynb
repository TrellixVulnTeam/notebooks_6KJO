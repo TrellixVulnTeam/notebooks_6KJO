{
 "cells": [
  {
   "cell_type": "markdown",
   "id": "100b83c3-fe94-4d43-9c34-f831c2941790",
   "metadata": {},
   "source": [
    "# Get SPACE TRACK data"
   ]
  },
  {
   "cell_type": "code",
   "execution_count": 75,
   "id": "835f008f-fe55-4430-a270-6ec35ae84dfc",
   "metadata": {},
   "outputs": [],
   "source": [
    "%load_ext lab_black"
   ]
  },
  {
   "cell_type": "code",
   "execution_count": 2,
   "id": "f4145a4d-23f9-46b4-b4c9-52a3ba2ab2cb",
   "metadata": {},
   "outputs": [],
   "source": [
    "import pandas as pd\n",
    "import geopandas as gpd\n",
    "import altair as alt\n",
    "from datetime import timedelta\n",
    "import numpy as np\n",
    "import glob\n",
    "import json"
   ]
  },
  {
   "cell_type": "code",
   "execution_count": 3,
   "id": "be03bb9b-f4c5-4d4b-925c-9c4a1f531ac5",
   "metadata": {},
   "outputs": [],
   "source": [
    "pd.options.display.max_columns = 1000\n",
    "pd.options.display.max_rows = 1000\n",
    "pd.options.display.max_colwidth = None"
   ]
  },
  {
   "cell_type": "markdown",
   "id": "a1c74e55-ebac-43e2-951c-2d05bed7fb54",
   "metadata": {},
   "source": [
    "## Jonathan McDowell's catalogue"
   ]
  },
  {
   "cell_type": "code",
   "execution_count": 669,
   "id": "ddab4bb1-90f3-4a98-b735-1304258cbd73",
   "metadata": {},
   "outputs": [],
   "source": [
    "src = pd.read_csv(\n",
    "    \"https://planet4589.org/space/gcat/tsv/derived/currentcat.tsv\",\n",
    "    sep=\"\\t\",\n",
    "    low_memory=False,\n",
    "    skiprows=0,\n",
    ")"
   ]
  },
  {
   "cell_type": "code",
   "execution_count": 670,
   "id": "252ff4ad-862d-4947-8bcf-e346fbaf797f",
   "metadata": {},
   "outputs": [],
   "source": [
    "src.columns = src.columns.str.lower()"
   ]
  },
  {
   "cell_type": "code",
   "execution_count": 671,
   "id": "0c718a45-5ef6-4f61-876a-b660a5f3d262",
   "metadata": {},
   "outputs": [],
   "source": [
    "src_df = src.drop([0])"
   ]
  },
  {
   "cell_type": "code",
   "execution_count": 672,
   "id": "fc51fcbc-a0a0-48c4-a989-a7688c9ffaf1",
   "metadata": {},
   "outputs": [],
   "source": [
    "debris_categories = [\"D\", \"C\", \"R\", \"P\"]"
   ]
  },
  {
   "cell_type": "code",
   "execution_count": 689,
   "id": "866fbb0c-ebee-41f6-85ce-ac3280333875",
   "metadata": {},
   "outputs": [],
   "source": [
    "df = src_df[\n",
    "    (src_df[\"expandedstatus\"].str.contains(\"In Earth orbit|Attached to\"))\n",
    "    & (src_df[\"active\"].isin(debris_categories))\n",
    "].copy()"
   ]
  },
  {
   "cell_type": "code",
   "execution_count": 690,
   "id": "f063454c-4d5f-4424-83b2-33ef4782a3ae",
   "metadata": {},
   "outputs": [
    {
     "data": {
      "text/plain": [
       "D    12731\n",
       "P     3446\n",
       "C     3128\n",
       "R     1976\n",
       "Name: active, dtype: int64"
      ]
     },
     "execution_count": 690,
     "metadata": {},
     "output_type": "execute_result"
    }
   ],
   "source": [
    "df.active.value_counts()"
   ]
  },
  {
   "cell_type": "markdown",
   "id": "f6db2b9a-8a7a-4daa-92f2-09384e4a9035",
   "metadata": {},
   "source": [
    "#### Get the debris types "
   ]
  },
  {
   "cell_type": "code",
   "execution_count": 694,
   "id": "72ef38a5-809c-48b2-a48c-6b71d6244b47",
   "metadata": {},
   "outputs": [],
   "source": [
    "types = {\n",
    "    \"P\": \"Payload\",\n",
    "    \"C\": \"Litter\",\n",
    "    \"R\": \"Rocket stage\",\n",
    "    \"D\": \"Debris\",\n",
    "}"
   ]
  },
  {
   "cell_type": "code",
   "execution_count": 695,
   "id": "3849956a-734b-4c8f-b9d1-9bc7abeb7617",
   "metadata": {},
   "outputs": [],
   "source": [
    "df[\"active_desc\"] = df[\"active\"].map(types)"
   ]
  },
  {
   "cell_type": "code",
   "execution_count": 696,
   "id": "b6dc1c57-5aaf-4135-ac1c-5f212c3bdc56",
   "metadata": {},
   "outputs": [
    {
     "data": {
      "text/html": [
       "<div>\n",
       "<style scoped>\n",
       "    .dataframe tbody tr th:only-of-type {\n",
       "        vertical-align: middle;\n",
       "    }\n",
       "\n",
       "    .dataframe tbody tr th {\n",
       "        vertical-align: top;\n",
       "    }\n",
       "\n",
       "    .dataframe thead th {\n",
       "        text-align: right;\n",
       "    }\n",
       "</style>\n",
       "<table border=\"1\" class=\"dataframe\">\n",
       "  <thead>\n",
       "    <tr style=\"text-align: right;\">\n",
       "      <th></th>\n",
       "      <th>#jcat</th>\n",
       "      <th>deepcat</th>\n",
       "      <th>satcat</th>\n",
       "      <th>piece</th>\n",
       "      <th>active</th>\n",
       "      <th>type</th>\n",
       "      <th>name</th>\n",
       "      <th>ldate</th>\n",
       "      <th>parent</th>\n",
       "      <th>sdate</th>\n",
       "      <th>expandedstatus</th>\n",
       "      <th>ddate</th>\n",
       "      <th>odate</th>\n",
       "      <th>perigee</th>\n",
       "      <th>pf</th>\n",
       "      <th>apogee</th>\n",
       "      <th>af</th>\n",
       "      <th>inc</th>\n",
       "      <th>if</th>\n",
       "      <th>active_desc</th>\n",
       "    </tr>\n",
       "  </thead>\n",
       "  <tbody>\n",
       "    <tr>\n",
       "      <th>5</th>\n",
       "      <td>S00005</td>\n",
       "      <td>-</td>\n",
       "      <td>00005</td>\n",
       "      <td>1958 BET 2</td>\n",
       "      <td>P</td>\n",
       "      <td>P</td>\n",
       "      <td>Vanguard I</td>\n",
       "      <td>1958 Mar 17</td>\n",
       "      <td>S00016</td>\n",
       "      <td>1958 Mar 17 1224</td>\n",
       "      <td>In Earth orbit</td>\n",
       "      <td>-</td>\n",
       "      <td>2022 Feb 13</td>\n",
       "      <td>652</td>\n",
       "      <td></td>\n",
       "      <td>3830</td>\n",
       "      <td></td>\n",
       "      <td>34.25</td>\n",
       "      <td>NaN</td>\n",
       "      <td>Payload</td>\n",
       "    </tr>\n",
       "    <tr>\n",
       "      <th>11</th>\n",
       "      <td>S00011</td>\n",
       "      <td>-</td>\n",
       "      <td>00011</td>\n",
       "      <td>1959 ALP 1</td>\n",
       "      <td>P</td>\n",
       "      <td>P</td>\n",
       "      <td>Vanguard II</td>\n",
       "      <td>1959 Feb 17</td>\n",
       "      <td>S00012</td>\n",
       "      <td>1959 Feb 17 1605</td>\n",
       "      <td>In Earth orbit</td>\n",
       "      <td>-</td>\n",
       "      <td>2022 Feb 14</td>\n",
       "      <td>553</td>\n",
       "      <td></td>\n",
       "      <td>2935</td>\n",
       "      <td></td>\n",
       "      <td>32.87</td>\n",
       "      <td>NaN</td>\n",
       "      <td>Payload</td>\n",
       "    </tr>\n",
       "    <tr>\n",
       "      <th>12</th>\n",
       "      <td>S00012</td>\n",
       "      <td>-</td>\n",
       "      <td>00012</td>\n",
       "      <td>1959 ALP 2</td>\n",
       "      <td>R</td>\n",
       "      <td>R3</td>\n",
       "      <td>GRC 33-KS-2800</td>\n",
       "      <td>1959 Feb 17</td>\n",
       "      <td>R02749</td>\n",
       "      <td>1959 Feb 17 1604</td>\n",
       "      <td>In Earth orbit</td>\n",
       "      <td>-</td>\n",
       "      <td>2022 Feb 14</td>\n",
       "      <td>553</td>\n",
       "      <td></td>\n",
       "      <td>3324</td>\n",
       "      <td></td>\n",
       "      <td>32.90</td>\n",
       "      <td>NaN</td>\n",
       "      <td>Rocket stage</td>\n",
       "    </tr>\n",
       "    <tr>\n",
       "      <th>16</th>\n",
       "      <td>S00016</td>\n",
       "      <td>-</td>\n",
       "      <td>00016</td>\n",
       "      <td>1958 BET 1</td>\n",
       "      <td>R</td>\n",
       "      <td>R3</td>\n",
       "      <td>GRC 33-KS-2800</td>\n",
       "      <td>1958 Mar 17</td>\n",
       "      <td>R02064</td>\n",
       "      <td>1958 Mar 17 1223</td>\n",
       "      <td>In Earth orbit</td>\n",
       "      <td>-</td>\n",
       "      <td>2022 Feb 14</td>\n",
       "      <td>650</td>\n",
       "      <td></td>\n",
       "      <td>4225</td>\n",
       "      <td></td>\n",
       "      <td>34.27</td>\n",
       "      <td>NaN</td>\n",
       "      <td>Rocket stage</td>\n",
       "    </tr>\n",
       "    <tr>\n",
       "      <th>20</th>\n",
       "      <td>S00020</td>\n",
       "      <td>-</td>\n",
       "      <td>00020</td>\n",
       "      <td>1959 ETA</td>\n",
       "      <td>P</td>\n",
       "      <td>P A</td>\n",
       "      <td>Vanguard III</td>\n",
       "      <td>1959 Sep 18</td>\n",
       "      <td>A00034</td>\n",
       "      <td>1959 Sep 18 0529</td>\n",
       "      <td>Attached to A00034 X-248-A2</td>\n",
       "      <td>-</td>\n",
       "      <td>-</td>\n",
       "      <td>-</td>\n",
       "      <td>-</td>\n",
       "      <td>-</td>\n",
       "      <td>-</td>\n",
       "      <td>-</td>\n",
       "      <td>-</td>\n",
       "      <td>Payload</td>\n",
       "    </tr>\n",
       "  </tbody>\n",
       "</table>\n",
       "</div>"
      ],
      "text/plain": [
       "     #jcat deepcat satcat       piece active          type            name  \\\n",
       "5   S00005       -  00005  1958 BET 2      P  P                 Vanguard I   \n",
       "11  S00011       -  00011  1959 ALP 1      P  P                Vanguard II   \n",
       "12  S00012       -  00012  1959 ALP 2      R  R3            GRC 33-KS-2800   \n",
       "16  S00016       -  00016  1958 BET 1      R  R3            GRC 33-KS-2800   \n",
       "20  S00020       -  00020    1959 ETA      P  P A             Vanguard III   \n",
       "\n",
       "          ldate  parent             sdate               expandedstatus ddate  \\\n",
       "5   1958 Mar 17  S00016  1958 Mar 17 1224               In Earth orbit     -   \n",
       "11  1959 Feb 17  S00012  1959 Feb 17 1605               In Earth orbit     -   \n",
       "12  1959 Feb 17  R02749  1959 Feb 17 1604               In Earth orbit     -   \n",
       "16  1958 Mar 17  R02064  1958 Mar 17 1223               In Earth orbit     -   \n",
       "20  1959 Sep 18  A00034  1959 Sep 18 0529  Attached to A00034 X-248-A2     -   \n",
       "\n",
       "           odate   perigee pf    apogee af      inc   if   active_desc  \n",
       "5   2022 Feb 13        652         3830      34.25   NaN       Payload  \n",
       "11  2022 Feb 14        553         2935      32.87   NaN       Payload  \n",
       "12  2022 Feb 14        553         3324      32.90   NaN  Rocket stage  \n",
       "16  2022 Feb 14        650         4225      34.27   NaN  Rocket stage  \n",
       "20             -         -  -         -  -        -    -       Payload  "
      ]
     },
     "execution_count": 696,
     "metadata": {},
     "output_type": "execute_result"
    }
   ],
   "source": [
    "df.head()"
   ]
  },
  {
   "cell_type": "markdown",
   "id": "b89467c3-25c8-437e-b9db-74a17cd7dace",
   "metadata": {},
   "source": [
    "#### Debris type descriptions"
   ]
  },
  {
   "cell_type": "code",
   "execution_count": 697,
   "id": "1f62fbb2-3d57-4509-b15e-c84af102f12a",
   "metadata": {},
   "outputs": [
    {
     "data": {
      "text/plain": [
       "Debris          12731\n",
       "Payload          3446\n",
       "Litter           3128\n",
       "Rocket stage     1976\n",
       "Name: active_desc, dtype: int64"
      ]
     },
     "execution_count": 697,
     "metadata": {},
     "output_type": "execute_result"
    }
   ],
   "source": [
    "df[\"active_desc\"].value_counts()"
   ]
  },
  {
   "cell_type": "markdown",
   "id": "5069d3bb-dfb3-491e-94a1-b62b78499fbd",
   "metadata": {},
   "source": [
    "#### Split the messy separation date column"
   ]
  },
  {
   "cell_type": "code",
   "execution_count": 698,
   "id": "2a440cc9-3fb7-4be7-b502-8cb23215daef",
   "metadata": {},
   "outputs": [],
   "source": [
    "df[[\"year\", \"month\", \"day\", \"other1\", \"other2\"]] = (\n",
    "    df[\"sdate\"].str.replace(\"?\", \"\", regex=False).str.split(\" \", expand=True)\n",
    ")"
   ]
  },
  {
   "cell_type": "markdown",
   "id": "77198de7-dbf2-4464-8a86-976f7d957573",
   "metadata": {},
   "source": [
    "#### Fill in missing days"
   ]
  },
  {
   "cell_type": "code",
   "execution_count": 699,
   "id": "4664b506-1447-42f4-acf8-e63d95da8668",
   "metadata": {},
   "outputs": [],
   "source": [
    "df.day = df.day.fillna(\"1\")"
   ]
  },
  {
   "cell_type": "code",
   "execution_count": 700,
   "id": "9388b433-99bf-47de-b8c3-b81466b5d932",
   "metadata": {},
   "outputs": [],
   "source": [
    "df[\"day\"] = 1"
   ]
  },
  {
   "cell_type": "markdown",
   "id": "db029bd2-7e00-470f-ac74-6ce3b27c778b",
   "metadata": {},
   "source": [
    "#### Clean up months"
   ]
  },
  {
   "cell_type": "code",
   "execution_count": 701,
   "id": "f2bfb1e8-f974-44ac-baa2-8cc751660798",
   "metadata": {},
   "outputs": [],
   "source": [
    "df[\"month\"] = (\n",
    "    df[\"month\"]\n",
    "    .str.replace(\"Jan\", \"1\", regex=False)\n",
    "    .str.replace(\"Feb\", \"2\", regex=False)\n",
    "    .str.replace(\"Mar\", \"3\", regex=False)\n",
    "    .str.replace(\"Apr\", \"4\", regex=False)\n",
    "    .str.replace(\"May\", \"5\", regex=False)\n",
    "    .str.replace(\"Jun\", \"6\", regex=False)\n",
    "    .str.replace(\"Jul\", \"7\", regex=False)\n",
    "    .str.replace(\"Aug\", \"8\", regex=False)\n",
    "    .str.replace(\"Sep\", \"9\", regex=False)\n",
    "    .str.replace(\"Oct\", \"10\", regex=False)\n",
    "    .str.replace(\"Nov\", \"11\", regex=False)\n",
    "    .str.replace(\"Dec\", \"12\", regex=False)\n",
    ")"
   ]
  },
  {
   "cell_type": "code",
   "execution_count": 702,
   "id": "befd8814-03b7-40ee-a24a-fbe245f138bb",
   "metadata": {},
   "outputs": [],
   "source": [
    "df[\"separation_date\"] = pd.to_datetime(df[[\"year\", \"month\", \"day\"]])"
   ]
  },
  {
   "cell_type": "code",
   "execution_count": 703,
   "id": "42ca6f78-3dcc-4266-b1d2-5dee20e1aa1b",
   "metadata": {},
   "outputs": [],
   "source": [
    "df[\"separation_year\"] = df[\"year\"]"
   ]
  },
  {
   "cell_type": "code",
   "execution_count": 704,
   "id": "46366869-5f90-421e-b6c8-73bbb8bdbbbd",
   "metadata": {},
   "outputs": [
    {
     "data": {
      "text/html": [
       "<div>\n",
       "<style scoped>\n",
       "    .dataframe tbody tr th:only-of-type {\n",
       "        vertical-align: middle;\n",
       "    }\n",
       "\n",
       "    .dataframe tbody tr th {\n",
       "        vertical-align: top;\n",
       "    }\n",
       "\n",
       "    .dataframe thead th {\n",
       "        text-align: right;\n",
       "    }\n",
       "</style>\n",
       "<table border=\"1\" class=\"dataframe\">\n",
       "  <thead>\n",
       "    <tr style=\"text-align: right;\">\n",
       "      <th></th>\n",
       "      <th>#jcat</th>\n",
       "      <th>deepcat</th>\n",
       "      <th>satcat</th>\n",
       "      <th>piece</th>\n",
       "      <th>active</th>\n",
       "      <th>type</th>\n",
       "      <th>name</th>\n",
       "      <th>ldate</th>\n",
       "      <th>parent</th>\n",
       "      <th>sdate</th>\n",
       "      <th>expandedstatus</th>\n",
       "      <th>ddate</th>\n",
       "      <th>odate</th>\n",
       "      <th>perigee</th>\n",
       "      <th>pf</th>\n",
       "      <th>apogee</th>\n",
       "      <th>af</th>\n",
       "      <th>inc</th>\n",
       "      <th>if</th>\n",
       "      <th>active_desc</th>\n",
       "      <th>year</th>\n",
       "      <th>month</th>\n",
       "      <th>day</th>\n",
       "      <th>other1</th>\n",
       "      <th>other2</th>\n",
       "      <th>separation_date</th>\n",
       "      <th>separation_year</th>\n",
       "    </tr>\n",
       "  </thead>\n",
       "  <tbody>\n",
       "    <tr>\n",
       "      <th>5</th>\n",
       "      <td>S00005</td>\n",
       "      <td>-</td>\n",
       "      <td>00005</td>\n",
       "      <td>1958 BET 2</td>\n",
       "      <td>P</td>\n",
       "      <td>P</td>\n",
       "      <td>Vanguard I</td>\n",
       "      <td>1958 Mar 17</td>\n",
       "      <td>S00016</td>\n",
       "      <td>1958 Mar 17 1224</td>\n",
       "      <td>In Earth orbit</td>\n",
       "      <td>-</td>\n",
       "      <td>2022 Feb 13</td>\n",
       "      <td>652</td>\n",
       "      <td></td>\n",
       "      <td>3830</td>\n",
       "      <td></td>\n",
       "      <td>34.25</td>\n",
       "      <td>NaN</td>\n",
       "      <td>Payload</td>\n",
       "      <td>1958</td>\n",
       "      <td>3</td>\n",
       "      <td>1</td>\n",
       "      <td>1224</td>\n",
       "      <td>None</td>\n",
       "      <td>1958-03-01</td>\n",
       "      <td>1958</td>\n",
       "    </tr>\n",
       "    <tr>\n",
       "      <th>11</th>\n",
       "      <td>S00011</td>\n",
       "      <td>-</td>\n",
       "      <td>00011</td>\n",
       "      <td>1959 ALP 1</td>\n",
       "      <td>P</td>\n",
       "      <td>P</td>\n",
       "      <td>Vanguard II</td>\n",
       "      <td>1959 Feb 17</td>\n",
       "      <td>S00012</td>\n",
       "      <td>1959 Feb 17 1605</td>\n",
       "      <td>In Earth orbit</td>\n",
       "      <td>-</td>\n",
       "      <td>2022 Feb 14</td>\n",
       "      <td>553</td>\n",
       "      <td></td>\n",
       "      <td>2935</td>\n",
       "      <td></td>\n",
       "      <td>32.87</td>\n",
       "      <td>NaN</td>\n",
       "      <td>Payload</td>\n",
       "      <td>1959</td>\n",
       "      <td>2</td>\n",
       "      <td>1</td>\n",
       "      <td>1605</td>\n",
       "      <td>None</td>\n",
       "      <td>1959-02-01</td>\n",
       "      <td>1959</td>\n",
       "    </tr>\n",
       "    <tr>\n",
       "      <th>12</th>\n",
       "      <td>S00012</td>\n",
       "      <td>-</td>\n",
       "      <td>00012</td>\n",
       "      <td>1959 ALP 2</td>\n",
       "      <td>R</td>\n",
       "      <td>R3</td>\n",
       "      <td>GRC 33-KS-2800</td>\n",
       "      <td>1959 Feb 17</td>\n",
       "      <td>R02749</td>\n",
       "      <td>1959 Feb 17 1604</td>\n",
       "      <td>In Earth orbit</td>\n",
       "      <td>-</td>\n",
       "      <td>2022 Feb 14</td>\n",
       "      <td>553</td>\n",
       "      <td></td>\n",
       "      <td>3324</td>\n",
       "      <td></td>\n",
       "      <td>32.90</td>\n",
       "      <td>NaN</td>\n",
       "      <td>Rocket stage</td>\n",
       "      <td>1959</td>\n",
       "      <td>2</td>\n",
       "      <td>1</td>\n",
       "      <td>1604</td>\n",
       "      <td>None</td>\n",
       "      <td>1959-02-01</td>\n",
       "      <td>1959</td>\n",
       "    </tr>\n",
       "    <tr>\n",
       "      <th>16</th>\n",
       "      <td>S00016</td>\n",
       "      <td>-</td>\n",
       "      <td>00016</td>\n",
       "      <td>1958 BET 1</td>\n",
       "      <td>R</td>\n",
       "      <td>R3</td>\n",
       "      <td>GRC 33-KS-2800</td>\n",
       "      <td>1958 Mar 17</td>\n",
       "      <td>R02064</td>\n",
       "      <td>1958 Mar 17 1223</td>\n",
       "      <td>In Earth orbit</td>\n",
       "      <td>-</td>\n",
       "      <td>2022 Feb 14</td>\n",
       "      <td>650</td>\n",
       "      <td></td>\n",
       "      <td>4225</td>\n",
       "      <td></td>\n",
       "      <td>34.27</td>\n",
       "      <td>NaN</td>\n",
       "      <td>Rocket stage</td>\n",
       "      <td>1958</td>\n",
       "      <td>3</td>\n",
       "      <td>1</td>\n",
       "      <td>1223</td>\n",
       "      <td>None</td>\n",
       "      <td>1958-03-01</td>\n",
       "      <td>1958</td>\n",
       "    </tr>\n",
       "    <tr>\n",
       "      <th>20</th>\n",
       "      <td>S00020</td>\n",
       "      <td>-</td>\n",
       "      <td>00020</td>\n",
       "      <td>1959 ETA</td>\n",
       "      <td>P</td>\n",
       "      <td>P A</td>\n",
       "      <td>Vanguard III</td>\n",
       "      <td>1959 Sep 18</td>\n",
       "      <td>A00034</td>\n",
       "      <td>1959 Sep 18 0529</td>\n",
       "      <td>Attached to A00034 X-248-A2</td>\n",
       "      <td>-</td>\n",
       "      <td>-</td>\n",
       "      <td>-</td>\n",
       "      <td>-</td>\n",
       "      <td>-</td>\n",
       "      <td>-</td>\n",
       "      <td>-</td>\n",
       "      <td>-</td>\n",
       "      <td>Payload</td>\n",
       "      <td>1959</td>\n",
       "      <td>9</td>\n",
       "      <td>1</td>\n",
       "      <td>0529</td>\n",
       "      <td>None</td>\n",
       "      <td>1959-09-01</td>\n",
       "      <td>1959</td>\n",
       "    </tr>\n",
       "  </tbody>\n",
       "</table>\n",
       "</div>"
      ],
      "text/plain": [
       "     #jcat deepcat satcat       piece active          type            name  \\\n",
       "5   S00005       -  00005  1958 BET 2      P  P                 Vanguard I   \n",
       "11  S00011       -  00011  1959 ALP 1      P  P                Vanguard II   \n",
       "12  S00012       -  00012  1959 ALP 2      R  R3            GRC 33-KS-2800   \n",
       "16  S00016       -  00016  1958 BET 1      R  R3            GRC 33-KS-2800   \n",
       "20  S00020       -  00020    1959 ETA      P  P A             Vanguard III   \n",
       "\n",
       "          ldate  parent             sdate               expandedstatus ddate  \\\n",
       "5   1958 Mar 17  S00016  1958 Mar 17 1224               In Earth orbit     -   \n",
       "11  1959 Feb 17  S00012  1959 Feb 17 1605               In Earth orbit     -   \n",
       "12  1959 Feb 17  R02749  1959 Feb 17 1604               In Earth orbit     -   \n",
       "16  1958 Mar 17  R02064  1958 Mar 17 1223               In Earth orbit     -   \n",
       "20  1959 Sep 18  A00034  1959 Sep 18 0529  Attached to A00034 X-248-A2     -   \n",
       "\n",
       "           odate   perigee pf    apogee af      inc   if   active_desc  year  \\\n",
       "5   2022 Feb 13        652         3830      34.25   NaN       Payload  1958   \n",
       "11  2022 Feb 14        553         2935      32.87   NaN       Payload  1959   \n",
       "12  2022 Feb 14        553         3324      32.90   NaN  Rocket stage  1959   \n",
       "16  2022 Feb 14        650         4225      34.27   NaN  Rocket stage  1958   \n",
       "20             -         -  -         -  -        -    -       Payload  1959   \n",
       "\n",
       "   month  day other1 other2 separation_date separation_year  \n",
       "5      3    1   1224   None      1958-03-01            1958  \n",
       "11     2    1   1605   None      1959-02-01            1959  \n",
       "12     2    1   1604   None      1959-02-01            1959  \n",
       "16     3    1   1223   None      1958-03-01            1958  \n",
       "20     9    1   0529   None      1959-09-01            1959  "
      ]
     },
     "execution_count": 704,
     "metadata": {},
     "output_type": "execute_result"
    }
   ],
   "source": [
    "df.head()"
   ]
  },
  {
   "cell_type": "code",
   "execution_count": 705,
   "id": "f8d643f5-e5e5-419f-89c1-2a6c98c8c8f3",
   "metadata": {},
   "outputs": [],
   "source": [
    "df_slim = df[\n",
    "    [\n",
    "        \"piece\",\n",
    "        \"name\",\n",
    "        \"active_desc\",\n",
    "        \"separation_date\",\n",
    "        \"separation_year\",\n",
    "    ]\n",
    "]"
   ]
  },
  {
   "cell_type": "code",
   "execution_count": 706,
   "id": "eb43e44e-6675-4274-bead-0b46c7564912",
   "metadata": {},
   "outputs": [],
   "source": [
    "df_slim.separation_year.value_counts()"
   ]
  },
  {
   "cell_type": "code",
   "execution_count": 726,
   "id": "697d3867-ff80-48b4-b383-106931edeea4",
   "metadata": {},
   "outputs": [],
   "source": [
    "cum_sum_year = (\n",
    "    df_slim.groupby([\"separation_year\"])\n",
    "    .agg({\"piece\": \"size\"})[\"piece\"]\n",
    "    .cumsum()\n",
    "    .reset_index()\n",
    ")"
   ]
  },
  {
   "cell_type": "code",
   "execution_count": 728,
   "id": "224c3c40-9a7c-4e7c-84c9-a7f08bf7c0e9",
   "metadata": {},
   "outputs": [
    {
     "data": {
      "text/html": [
       "\n",
       "<div id=\"altair-viz-ecf06029e17848c4a1488536c6bcfb93\"></div>\n",
       "<script type=\"text/javascript\">\n",
       "  var VEGA_DEBUG = (typeof VEGA_DEBUG == \"undefined\") ? {} : VEGA_DEBUG;\n",
       "  (function(spec, embedOpt){\n",
       "    let outputDiv = document.currentScript.previousElementSibling;\n",
       "    if (outputDiv.id !== \"altair-viz-ecf06029e17848c4a1488536c6bcfb93\") {\n",
       "      outputDiv = document.getElementById(\"altair-viz-ecf06029e17848c4a1488536c6bcfb93\");\n",
       "    }\n",
       "    const paths = {\n",
       "      \"vega\": \"https://cdn.jsdelivr.net/npm//vega@5?noext\",\n",
       "      \"vega-lib\": \"https://cdn.jsdelivr.net/npm//vega-lib?noext\",\n",
       "      \"vega-lite\": \"https://cdn.jsdelivr.net/npm//vega-lite@4.17.0?noext\",\n",
       "      \"vega-embed\": \"https://cdn.jsdelivr.net/npm//vega-embed@6?noext\",\n",
       "    };\n",
       "\n",
       "    function maybeLoadScript(lib, version) {\n",
       "      var key = `${lib.replace(\"-\", \"\")}_version`;\n",
       "      return (VEGA_DEBUG[key] == version) ?\n",
       "        Promise.resolve(paths[lib]) :\n",
       "        new Promise(function(resolve, reject) {\n",
       "          var s = document.createElement('script');\n",
       "          document.getElementsByTagName(\"head\")[0].appendChild(s);\n",
       "          s.async = true;\n",
       "          s.onload = () => {\n",
       "            VEGA_DEBUG[key] = version;\n",
       "            return resolve(paths[lib]);\n",
       "          };\n",
       "          s.onerror = () => reject(`Error loading script: ${paths[lib]}`);\n",
       "          s.src = paths[lib];\n",
       "        });\n",
       "    }\n",
       "\n",
       "    function showError(err) {\n",
       "      outputDiv.innerHTML = `<div class=\"error\" style=\"color:red;\">${err}</div>`;\n",
       "      throw err;\n",
       "    }\n",
       "\n",
       "    function displayChart(vegaEmbed) {\n",
       "      vegaEmbed(outputDiv, spec, embedOpt)\n",
       "        .catch(err => showError(`Javascript Error: ${err.message}<br>This usually means there's a typo in your chart specification. See the javascript console for the full traceback.`));\n",
       "    }\n",
       "\n",
       "    if(typeof define === \"function\" && define.amd) {\n",
       "      requirejs.config({paths});\n",
       "      require([\"vega-embed\"], displayChart, err => showError(`Error loading script: ${err.message}`));\n",
       "    } else {\n",
       "      maybeLoadScript(\"vega\", \"5\")\n",
       "        .then(() => maybeLoadScript(\"vega-lite\", \"4.17.0\"))\n",
       "        .then(() => maybeLoadScript(\"vega-embed\", \"6\"))\n",
       "        .catch(showError)\n",
       "        .then(() => displayChart(vegaEmbed));\n",
       "    }\n",
       "  })({\"config\": {\"view\": {\"continuousWidth\": 400, \"continuousHeight\": 300}}, \"data\": {\"name\": \"data-3bef24f0ee0115fb912051743e077800\"}, \"mark\": \"line\", \"encoding\": {\"x\": {\"field\": \"separation_year\", \"type\": \"nominal\"}, \"y\": {\"field\": \"piece\", \"type\": \"quantitative\"}}, \"height\": 350, \"width\": 650, \"$schema\": \"https://vega.github.io/schema/vega-lite/v4.17.0.json\", \"datasets\": {\"data-3bef24f0ee0115fb912051743e077800\": [{\"separation_year\": \"1958\", \"piece\": 3}, {\"separation_year\": \"1959\", \"piece\": 8}, {\"separation_year\": \"1960\", \"piece\": 20}, {\"separation_year\": \"1961\", \"piece\": 247}, {\"separation_year\": \"1962\", \"piece\": 279}, {\"separation_year\": \"1963\", \"piece\": 379}, {\"separation_year\": \"1964\", \"piece\": 439}, {\"separation_year\": \"1965\", \"piece\": 683}, {\"separation_year\": \"1966\", \"piece\": 771}, {\"separation_year\": \"1967\", \"piece\": 870}, {\"separation_year\": \"1968\", \"piece\": 1026}, {\"separation_year\": \"1969\", \"piece\": 1153}, {\"separation_year\": \"1970\", \"piece\": 1567}, {\"separation_year\": \"1971\", \"piece\": 1713}, {\"separation_year\": \"1972\", \"piece\": 1810}, {\"separation_year\": \"1973\", \"piece\": 2097}, {\"separation_year\": \"1974\", \"piece\": 2190}, {\"separation_year\": \"1975\", \"piece\": 2509}, {\"separation_year\": \"1976\", \"piece\": 2736}, {\"separation_year\": \"1977\", \"piece\": 3236}, {\"separation_year\": \"1978\", \"piece\": 3408}, {\"separation_year\": \"1979\", \"piece\": 3532}, {\"separation_year\": \"1980\", \"piece\": 3683}, {\"separation_year\": \"1981\", \"piece\": 4466}, {\"separation_year\": \"1982\", \"piece\": 4615}, {\"separation_year\": \"1983\", \"piece\": 4818}, {\"separation_year\": \"1984\", \"piece\": 5071}, {\"separation_year\": \"1985\", \"piece\": 5500}, {\"separation_year\": \"1986\", \"piece\": 5699}, {\"separation_year\": \"1987\", \"piece\": 5935}, {\"separation_year\": \"1988\", \"piece\": 6172}, {\"separation_year\": \"1989\", \"piece\": 6383}, {\"separation_year\": \"1990\", \"piece\": 6668}, {\"separation_year\": \"1991\", \"piece\": 7213}, {\"separation_year\": \"1992\", \"piece\": 7620}, {\"separation_year\": \"1993\", \"piece\": 7891}, {\"separation_year\": \"1994\", \"piece\": 8089}, {\"separation_year\": \"1995\", \"piece\": 8204}, {\"separation_year\": \"1996\", \"piece\": 8430}, {\"separation_year\": \"1997\", \"piece\": 8568}, {\"separation_year\": \"1998\", \"piece\": 8794}, {\"separation_year\": \"1999\", \"piece\": 9046}, {\"separation_year\": \"2000\", \"piece\": 9379}, {\"separation_year\": \"2001\", \"piece\": 9637}, {\"separation_year\": \"2002\", \"piece\": 9818}, {\"separation_year\": \"2003\", \"piece\": 9949}, {\"separation_year\": \"2004\", \"piece\": 10176}, {\"separation_year\": \"2005\", \"piece\": 10314}, {\"separation_year\": \"2006\", \"piece\": 10602}, {\"separation_year\": \"2007\", \"piece\": 13690}, {\"separation_year\": \"2008\", \"piece\": 13862}, {\"separation_year\": \"2009\", \"piece\": 15547}, {\"separation_year\": \"2010\", \"piece\": 15830}, {\"separation_year\": \"2011\", \"piece\": 15977}, {\"separation_year\": \"2012\", \"piece\": 16120}, {\"separation_year\": \"2013\", \"piece\": 16329}, {\"separation_year\": \"2014\", \"piece\": 16657}, {\"separation_year\": \"2015\", \"piece\": 17489}, {\"separation_year\": \"2016\", \"piece\": 17699}, {\"separation_year\": \"2017\", \"piece\": 17972}, {\"separation_year\": \"2018\", \"piece\": 18404}, {\"separation_year\": \"2019\", \"piece\": 18861}, {\"separation_year\": \"2020\", \"piece\": 19576}, {\"separation_year\": \"2021\", \"piece\": 21266}, {\"separation_year\": \"2022\", \"piece\": 21281}]}}, {\"mode\": \"vega-lite\"});\n",
       "</script>"
      ],
      "text/plain": [
       "alt.Chart(...)"
      ]
     },
     "execution_count": 728,
     "metadata": {},
     "output_type": "execute_result"
    }
   ],
   "source": [
    "alt.Chart(cum_sum_year).mark_line().encode(x=\"separation_year\", y=\"piece\").properties(\n",
    "    width=650, height=350\n",
    ")"
   ]
  },
  {
   "cell_type": "markdown",
   "id": "9fbcdd5f-1e8a-4f2a-b453-1cf93f090b7f",
   "metadata": {},
   "source": [
    "---"
   ]
  },
  {
   "cell_type": "markdown",
   "id": "feafe6f1-541c-40f1-9b98-2cf9c5fb2fe5",
   "metadata": {},
   "source": [
    "## Spack-track.org data"
   ]
  },
  {
   "cell_type": "code",
   "execution_count": 707,
   "id": "bc0beddf-218f-4233-9215-9e3400d00e22",
   "metadata": {},
   "outputs": [],
   "source": [
    "space_track_df = pd.read_csv(\n",
    "    \"data/processed/space_track_active.csv\", dtype={\"norad_cat_id\": str}\n",
    ")"
   ]
  },
  {
   "cell_type": "code",
   "execution_count": 708,
   "id": "f028ca4c-9bd6-4af5-9283-327641399596",
   "metadata": {},
   "outputs": [],
   "source": [
    "space_track_slim = space_track_df[[\"intldes\", \"object_type\", \"country\", \"launch_year\"]]"
   ]
  },
  {
   "cell_type": "code",
   "execution_count": 709,
   "id": "e85e762e-3cd4-43b7-906a-6c161b30abe6",
   "metadata": {},
   "outputs": [
    {
     "data": {
      "text/html": [
       "<div>\n",
       "<style scoped>\n",
       "    .dataframe tbody tr th:only-of-type {\n",
       "        vertical-align: middle;\n",
       "    }\n",
       "\n",
       "    .dataframe tbody tr th {\n",
       "        vertical-align: top;\n",
       "    }\n",
       "\n",
       "    .dataframe thead th {\n",
       "        text-align: right;\n",
       "    }\n",
       "</style>\n",
       "<table border=\"1\" class=\"dataframe\">\n",
       "  <thead>\n",
       "    <tr style=\"text-align: right;\">\n",
       "      <th></th>\n",
       "      <th>intldes</th>\n",
       "      <th>object_type</th>\n",
       "      <th>country</th>\n",
       "      <th>launch_year</th>\n",
       "    </tr>\n",
       "  </thead>\n",
       "  <tbody>\n",
       "    <tr>\n",
       "      <th>0</th>\n",
       "      <td>1965-092D</td>\n",
       "      <td>ROCKET BODY</td>\n",
       "      <td>CIS</td>\n",
       "      <td>1965</td>\n",
       "    </tr>\n",
       "    <tr>\n",
       "      <th>1</th>\n",
       "      <td>1966-078A</td>\n",
       "      <td>PAYLOAD</td>\n",
       "      <td>CIS</td>\n",
       "      <td>1966</td>\n",
       "    </tr>\n",
       "    <tr>\n",
       "      <th>2</th>\n",
       "      <td>1966-084B</td>\n",
       "      <td>ROCKET BODY</td>\n",
       "      <td>US</td>\n",
       "      <td>1966</td>\n",
       "    </tr>\n",
       "    <tr>\n",
       "      <th>3</th>\n",
       "      <td>1966-095B</td>\n",
       "      <td>ROCKET BODY</td>\n",
       "      <td>US</td>\n",
       "      <td>1966</td>\n",
       "    </tr>\n",
       "    <tr>\n",
       "      <th>4</th>\n",
       "      <td>1967-035B</td>\n",
       "      <td>ROCKET BODY</td>\n",
       "      <td>US</td>\n",
       "      <td>1967</td>\n",
       "    </tr>\n",
       "  </tbody>\n",
       "</table>\n",
       "</div>"
      ],
      "text/plain": [
       "     intldes  object_type country  launch_year\n",
       "0  1965-092D  ROCKET BODY     CIS         1965\n",
       "1  1966-078A      PAYLOAD     CIS         1966\n",
       "2  1966-084B  ROCKET BODY      US         1966\n",
       "3  1966-095B  ROCKET BODY      US         1966\n",
       "4  1967-035B  ROCKET BODY      US         1967"
      ]
     },
     "execution_count": 709,
     "metadata": {},
     "output_type": "execute_result"
    }
   ],
   "source": [
    "space_track_slim.head()"
   ]
  },
  {
   "cell_type": "markdown",
   "id": "a3c7e4cb-b578-4bd6-8d59-c860c9c9814c",
   "metadata": {},
   "source": [
    "---"
   ]
  },
  {
   "cell_type": "markdown",
   "id": "c5f5ec4a-1d43-4fbf-8738-fda6571f7acd",
   "metadata": {},
   "source": [
    "## Merge them"
   ]
  },
  {
   "cell_type": "code",
   "execution_count": 710,
   "id": "2fe37fac-4734-4aa1-9985-844e06a12bca",
   "metadata": {},
   "outputs": [],
   "source": [
    "merge = pd.merge(space_track_slim, df_slim, right_on=\"piece\", left_on=\"intldes\")"
   ]
  },
  {
   "cell_type": "code",
   "execution_count": 711,
   "id": "2b95d4c0-e997-4067-a8f1-89f5dc2c394e",
   "metadata": {},
   "outputs": [
    {
     "data": {
      "text/html": [
       "<div>\n",
       "<style scoped>\n",
       "    .dataframe tbody tr th:only-of-type {\n",
       "        vertical-align: middle;\n",
       "    }\n",
       "\n",
       "    .dataframe tbody tr th {\n",
       "        vertical-align: top;\n",
       "    }\n",
       "\n",
       "    .dataframe thead th {\n",
       "        text-align: right;\n",
       "    }\n",
       "</style>\n",
       "<table border=\"1\" class=\"dataframe\">\n",
       "  <thead>\n",
       "    <tr style=\"text-align: right;\">\n",
       "      <th></th>\n",
       "      <th>intldes</th>\n",
       "      <th>object_type</th>\n",
       "      <th>country</th>\n",
       "      <th>launch_year</th>\n",
       "      <th>piece</th>\n",
       "      <th>name</th>\n",
       "      <th>active_desc</th>\n",
       "      <th>separation_date</th>\n",
       "      <th>separation_year</th>\n",
       "    </tr>\n",
       "  </thead>\n",
       "  <tbody>\n",
       "    <tr>\n",
       "      <th>0</th>\n",
       "      <td>1966-095B</td>\n",
       "      <td>ROCKET BODY</td>\n",
       "      <td>US</td>\n",
       "      <td>1966</td>\n",
       "      <td>1966-095B</td>\n",
       "      <td>Centaur D AC-9</td>\n",
       "      <td>Rocket stage</td>\n",
       "      <td>1966-10-01</td>\n",
       "      <td>1966</td>\n",
       "    </tr>\n",
       "    <tr>\n",
       "      <th>1</th>\n",
       "      <td>1967-035B</td>\n",
       "      <td>ROCKET BODY</td>\n",
       "      <td>US</td>\n",
       "      <td>1967</td>\n",
       "      <td>1967-035B</td>\n",
       "      <td>Centaur D AC-12</td>\n",
       "      <td>Rocket stage</td>\n",
       "      <td>1967-04-01</td>\n",
       "      <td>1967</td>\n",
       "    </tr>\n",
       "    <tr>\n",
       "      <th>2</th>\n",
       "      <td>1968-001B</td>\n",
       "      <td>ROCKET BODY</td>\n",
       "      <td>US</td>\n",
       "      <td>1968</td>\n",
       "      <td>1968-001B</td>\n",
       "      <td>Centaur AC-15</td>\n",
       "      <td>Rocket stage</td>\n",
       "      <td>1968-01-01</td>\n",
       "      <td>1968</td>\n",
       "    </tr>\n",
       "    <tr>\n",
       "      <th>3</th>\n",
       "      <td>1969-036A</td>\n",
       "      <td>PAYLOAD</td>\n",
       "      <td>US</td>\n",
       "      <td>1969</td>\n",
       "      <td>1969-036A</td>\n",
       "      <td>OPS 3148</td>\n",
       "      <td>Payload</td>\n",
       "      <td>1969-04-01</td>\n",
       "      <td>1969</td>\n",
       "    </tr>\n",
       "    <tr>\n",
       "      <th>4</th>\n",
       "      <td>1971-021A</td>\n",
       "      <td>PAYLOAD</td>\n",
       "      <td>US</td>\n",
       "      <td>1971</td>\n",
       "      <td>1971-021A</td>\n",
       "      <td>OPS 4788</td>\n",
       "      <td>Payload</td>\n",
       "      <td>1971-03-01</td>\n",
       "      <td>1971</td>\n",
       "    </tr>\n",
       "  </tbody>\n",
       "</table>\n",
       "</div>"
      ],
      "text/plain": [
       "     intldes  object_type country  launch_year      piece             name  \\\n",
       "0  1966-095B  ROCKET BODY      US         1966  1966-095B   Centaur D AC-9   \n",
       "1  1967-035B  ROCKET BODY      US         1967  1967-035B  Centaur D AC-12   \n",
       "2  1968-001B  ROCKET BODY      US         1968  1968-001B    Centaur AC-15   \n",
       "3  1969-036A      PAYLOAD      US         1969  1969-036A         OPS 3148   \n",
       "4  1971-021A      PAYLOAD      US         1971  1971-021A         OPS 4788   \n",
       "\n",
       "    active_desc separation_date separation_year  \n",
       "0  Rocket stage      1966-10-01            1966  \n",
       "1  Rocket stage      1967-04-01            1967  \n",
       "2  Rocket stage      1968-01-01            1968  \n",
       "3       Payload      1969-04-01            1969  \n",
       "4       Payload      1971-03-01            1971  "
      ]
     },
     "execution_count": 711,
     "metadata": {},
     "output_type": "execute_result"
    }
   ],
   "source": [
    "merge.head()"
   ]
  },
  {
   "cell_type": "markdown",
   "id": "696caead-6083-4514-a47a-3b91d87356af",
   "metadata": {},
   "source": [
    "---"
   ]
  },
  {
   "cell_type": "markdown",
   "id": "6ae2a365-3f53-4aa1-aa03-b29eafa5b9bb",
   "metadata": {},
   "source": [
    "## Aggregate"
   ]
  },
  {
   "cell_type": "markdown",
   "id": "6cd54526-64c9-42ca-bc37-6d96c655ed95",
   "metadata": {},
   "source": [
    "#### How many of each type of debris, by year"
   ]
  },
  {
   "cell_type": "code",
   "execution_count": 713,
   "id": "fa888062-b029-426f-8f27-f49d2bb78d39",
   "metadata": {},
   "outputs": [],
   "source": [
    "active_grouped_count = (\n",
    "    merge.groupby([\"separation_year\", \"active_desc\"])\n",
    "    .agg({\"intldes\": \"size\"})\n",
    "    .reset_index()\n",
    ").rename(columns={\"intldes\": \"count\"})"
   ]
  },
  {
   "cell_type": "code",
   "execution_count": 714,
   "id": "2489debb-bbe3-45ea-b547-aeedd89ddb56",
   "metadata": {},
   "outputs": [
    {
     "data": {
      "text/html": [
       "<div>\n",
       "<style scoped>\n",
       "    .dataframe tbody tr th:only-of-type {\n",
       "        vertical-align: middle;\n",
       "    }\n",
       "\n",
       "    .dataframe tbody tr th {\n",
       "        vertical-align: top;\n",
       "    }\n",
       "\n",
       "    .dataframe thead th {\n",
       "        text-align: right;\n",
       "    }\n",
       "</style>\n",
       "<table border=\"1\" class=\"dataframe\">\n",
       "  <thead>\n",
       "    <tr style=\"text-align: right;\">\n",
       "      <th></th>\n",
       "      <th>separation_year</th>\n",
       "      <th>active_desc</th>\n",
       "      <th>count</th>\n",
       "    </tr>\n",
       "  </thead>\n",
       "  <tbody>\n",
       "    <tr>\n",
       "      <th>231</th>\n",
       "      <td>2021</td>\n",
       "      <td>Payload</td>\n",
       "      <td>15</td>\n",
       "    </tr>\n",
       "    <tr>\n",
       "      <th>232</th>\n",
       "      <td>2021</td>\n",
       "      <td>Rocket stage</td>\n",
       "      <td>54</td>\n",
       "    </tr>\n",
       "    <tr>\n",
       "      <th>233</th>\n",
       "      <td>2022</td>\n",
       "      <td>Litter</td>\n",
       "      <td>8</td>\n",
       "    </tr>\n",
       "    <tr>\n",
       "      <th>234</th>\n",
       "      <td>2022</td>\n",
       "      <td>Payload</td>\n",
       "      <td>1</td>\n",
       "    </tr>\n",
       "    <tr>\n",
       "      <th>235</th>\n",
       "      <td>2022</td>\n",
       "      <td>Rocket stage</td>\n",
       "      <td>4</td>\n",
       "    </tr>\n",
       "  </tbody>\n",
       "</table>\n",
       "</div>"
      ],
      "text/plain": [
       "    separation_year   active_desc  count\n",
       "231            2021       Payload     15\n",
       "232            2021  Rocket stage     54\n",
       "233            2022        Litter      8\n",
       "234            2022       Payload      1\n",
       "235            2022  Rocket stage      4"
      ]
     },
     "execution_count": 714,
     "metadata": {},
     "output_type": "execute_result"
    }
   ],
   "source": [
    "active_grouped_count.tail()"
   ]
  },
  {
   "cell_type": "code",
   "execution_count": 715,
   "id": "9d60c90d-7471-49b1-bce2-a7954bc778de",
   "metadata": {},
   "outputs": [
    {
     "data": {
      "text/html": [
       "\n",
       "<div id=\"altair-viz-8ce556b72d6f4dcbb5f9dcd6b03dd246\"></div>\n",
       "<script type=\"text/javascript\">\n",
       "  var VEGA_DEBUG = (typeof VEGA_DEBUG == \"undefined\") ? {} : VEGA_DEBUG;\n",
       "  (function(spec, embedOpt){\n",
       "    let outputDiv = document.currentScript.previousElementSibling;\n",
       "    if (outputDiv.id !== \"altair-viz-8ce556b72d6f4dcbb5f9dcd6b03dd246\") {\n",
       "      outputDiv = document.getElementById(\"altair-viz-8ce556b72d6f4dcbb5f9dcd6b03dd246\");\n",
       "    }\n",
       "    const paths = {\n",
       "      \"vega\": \"https://cdn.jsdelivr.net/npm//vega@5?noext\",\n",
       "      \"vega-lib\": \"https://cdn.jsdelivr.net/npm//vega-lib?noext\",\n",
       "      \"vega-lite\": \"https://cdn.jsdelivr.net/npm//vega-lite@4.17.0?noext\",\n",
       "      \"vega-embed\": \"https://cdn.jsdelivr.net/npm//vega-embed@6?noext\",\n",
       "    };\n",
       "\n",
       "    function maybeLoadScript(lib, version) {\n",
       "      var key = `${lib.replace(\"-\", \"\")}_version`;\n",
       "      return (VEGA_DEBUG[key] == version) ?\n",
       "        Promise.resolve(paths[lib]) :\n",
       "        new Promise(function(resolve, reject) {\n",
       "          var s = document.createElement('script');\n",
       "          document.getElementsByTagName(\"head\")[0].appendChild(s);\n",
       "          s.async = true;\n",
       "          s.onload = () => {\n",
       "            VEGA_DEBUG[key] = version;\n",
       "            return resolve(paths[lib]);\n",
       "          };\n",
       "          s.onerror = () => reject(`Error loading script: ${paths[lib]}`);\n",
       "          s.src = paths[lib];\n",
       "        });\n",
       "    }\n",
       "\n",
       "    function showError(err) {\n",
       "      outputDiv.innerHTML = `<div class=\"error\" style=\"color:red;\">${err}</div>`;\n",
       "      throw err;\n",
       "    }\n",
       "\n",
       "    function displayChart(vegaEmbed) {\n",
       "      vegaEmbed(outputDiv, spec, embedOpt)\n",
       "        .catch(err => showError(`Javascript Error: ${err.message}<br>This usually means there's a typo in your chart specification. See the javascript console for the full traceback.`));\n",
       "    }\n",
       "\n",
       "    if(typeof define === \"function\" && define.amd) {\n",
       "      requirejs.config({paths});\n",
       "      require([\"vega-embed\"], displayChart, err => showError(`Error loading script: ${err.message}`));\n",
       "    } else {\n",
       "      maybeLoadScript(\"vega\", \"5\")\n",
       "        .then(() => maybeLoadScript(\"vega-lite\", \"4.17.0\"))\n",
       "        .then(() => maybeLoadScript(\"vega-embed\", \"6\"))\n",
       "        .catch(showError)\n",
       "        .then(() => displayChart(vegaEmbed));\n",
       "    }\n",
       "  })({\"config\": {\"view\": {\"continuousWidth\": 400, \"continuousHeight\": 300}}, \"data\": {\"name\": \"data-980de4819cf22b4c4c4284c726486b32\"}, \"mark\": \"bar\", \"encoding\": {\"color\": {\"field\": \"active_desc\", \"type\": \"nominal\"}, \"x\": {\"field\": \"separation_year\", \"type\": \"nominal\"}, \"y\": {\"field\": \"count\", \"type\": \"quantitative\"}}, \"height\": 350, \"width\": 650, \"$schema\": \"https://vega.github.io/schema/vega-lite/v4.17.0.json\", \"datasets\": {\"data-980de4819cf22b4c4c4284c726486b32\": [{\"separation_year\": \"1963\", \"active_desc\": \"Debris\", \"count\": 12}, {\"separation_year\": \"1963\", \"active_desc\": \"Litter\", \"count\": 48}, {\"separation_year\": \"1963\", \"active_desc\": \"Payload\", \"count\": 21}, {\"separation_year\": \"1963\", \"active_desc\": \"Rocket stage\", \"count\": 7}, {\"separation_year\": \"1964\", \"active_desc\": \"Litter\", \"count\": 15}, {\"separation_year\": \"1964\", \"active_desc\": \"Payload\", \"count\": 26}, {\"separation_year\": \"1964\", \"active_desc\": \"Rocket stage\", \"count\": 13}, {\"separation_year\": \"1965\", \"active_desc\": \"Debris\", \"count\": 134}, {\"separation_year\": \"1965\", \"active_desc\": \"Litter\", \"count\": 32}, {\"separation_year\": \"1965\", \"active_desc\": \"Payload\", \"count\": 51}, {\"separation_year\": \"1965\", \"active_desc\": \"Rocket stage\", \"count\": 21}, {\"separation_year\": \"1966\", \"active_desc\": \"Debris\", \"count\": 3}, {\"separation_year\": \"1966\", \"active_desc\": \"Litter\", \"count\": 31}, {\"separation_year\": \"1966\", \"active_desc\": \"Payload\", \"count\": 33}, {\"separation_year\": \"1966\", \"active_desc\": \"Rocket stage\", \"count\": 19}, {\"separation_year\": \"1967\", \"active_desc\": \"Debris\", \"count\": 2}, {\"separation_year\": \"1967\", \"active_desc\": \"Litter\", \"count\": 19}, {\"separation_year\": \"1967\", \"active_desc\": \"Payload\", \"count\": 44}, {\"separation_year\": \"1967\", \"active_desc\": \"Rocket stage\", \"count\": 20}, {\"separation_year\": \"1968\", \"active_desc\": \"Debris\", \"count\": 78}, {\"separation_year\": \"1968\", \"active_desc\": \"Litter\", \"count\": 24}, {\"separation_year\": \"1968\", \"active_desc\": \"Payload\", \"count\": 30}, {\"separation_year\": \"1968\", \"active_desc\": \"Rocket stage\", \"count\": 16}, {\"separation_year\": \"1969\", \"active_desc\": \"Debris\", \"count\": 62}, {\"separation_year\": \"1969\", \"active_desc\": \"Litter\", \"count\": 9}, {\"separation_year\": \"1969\", \"active_desc\": \"Payload\", \"count\": 28}, {\"separation_year\": \"1969\", \"active_desc\": \"Rocket stage\", \"count\": 15}, {\"separation_year\": \"1970\", \"active_desc\": \"Debris\", \"count\": 327}, {\"separation_year\": \"1970\", \"active_desc\": \"Litter\", \"count\": 15}, {\"separation_year\": \"1970\", \"active_desc\": \"Payload\", \"count\": 37}, {\"separation_year\": \"1970\", \"active_desc\": \"Rocket stage\", \"count\": 23}, {\"separation_year\": \"1971\", \"active_desc\": \"Debris\", \"count\": 48}, {\"separation_year\": \"1971\", \"active_desc\": \"Litter\", \"count\": 15}, {\"separation_year\": \"1971\", \"active_desc\": \"Payload\", \"count\": 50}, {\"separation_year\": \"1971\", \"active_desc\": \"Rocket stage\", \"count\": 27}, {\"separation_year\": \"1972\", \"active_desc\": \"Litter\", \"count\": 11}, {\"separation_year\": \"1972\", \"active_desc\": \"Payload\", \"count\": 47}, {\"separation_year\": \"1972\", \"active_desc\": \"Rocket stage\", \"count\": 26}, {\"separation_year\": \"1973\", \"active_desc\": \"Debris\", \"count\": 213}, {\"separation_year\": \"1973\", \"active_desc\": \"Litter\", \"count\": 5}, {\"separation_year\": \"1973\", \"active_desc\": \"Payload\", \"count\": 45}, {\"separation_year\": \"1973\", \"active_desc\": \"Rocket stage\", \"count\": 15}, {\"separation_year\": \"1974\", \"active_desc\": \"Debris\", \"count\": 1}, {\"separation_year\": \"1974\", \"active_desc\": \"Litter\", \"count\": 5}, {\"separation_year\": \"1974\", \"active_desc\": \"Payload\", \"count\": 49}, {\"separation_year\": \"1974\", \"active_desc\": \"Rocket stage\", \"count\": 23}, {\"separation_year\": \"1975\", \"active_desc\": \"Debris\", \"count\": 199}, {\"separation_year\": \"1975\", \"active_desc\": \"Litter\", \"count\": 11}, {\"separation_year\": \"1975\", \"active_desc\": \"Payload\", \"count\": 61}, {\"separation_year\": \"1975\", \"active_desc\": \"Rocket stage\", \"count\": 31}, {\"separation_year\": \"1976\", \"active_desc\": \"Debris\", \"count\": 90}, {\"separation_year\": \"1976\", \"active_desc\": \"Litter\", \"count\": 21}, {\"separation_year\": \"1976\", \"active_desc\": \"Payload\", \"count\": 71}, {\"separation_year\": \"1976\", \"active_desc\": \"Rocket stage\", \"count\": 29}, {\"separation_year\": \"1977\", \"active_desc\": \"Debris\", \"count\": 362}, {\"separation_year\": \"1977\", \"active_desc\": \"Litter\", \"count\": 30}, {\"separation_year\": \"1977\", \"active_desc\": \"Payload\", \"count\": 56}, {\"separation_year\": \"1977\", \"active_desc\": \"Rocket stage\", \"count\": 37}, {\"separation_year\": \"1978\", \"active_desc\": \"Debris\", \"count\": 8}, {\"separation_year\": \"1978\", \"active_desc\": \"Litter\", \"count\": 28}, {\"separation_year\": \"1978\", \"active_desc\": \"Payload\", \"count\": 82}, {\"separation_year\": \"1978\", \"active_desc\": \"Rocket stage\", \"count\": 37}, {\"separation_year\": \"1979\", \"active_desc\": \"Debris\", \"count\": 40}, {\"separation_year\": \"1979\", \"active_desc\": \"Litter\", \"count\": 10}, {\"separation_year\": \"1979\", \"active_desc\": \"Payload\", \"count\": 46}, {\"separation_year\": \"1979\", \"active_desc\": \"Rocket stage\", \"count\": 23}, {\"separation_year\": \"1980\", \"active_desc\": \"Debris\", \"count\": 40}, {\"separation_year\": \"1980\", \"active_desc\": \"Litter\", \"count\": 16}, {\"separation_year\": \"1980\", \"active_desc\": \"Payload\", \"count\": 57}, {\"separation_year\": \"1980\", \"active_desc\": \"Rocket stage\", \"count\": 25}, {\"separation_year\": \"1981\", \"active_desc\": \"Debris\", \"count\": 615}, {\"separation_year\": \"1981\", \"active_desc\": \"Litter\", \"count\": 21}, {\"separation_year\": \"1981\", \"active_desc\": \"Payload\", \"count\": 81}, {\"separation_year\": \"1981\", \"active_desc\": \"Rocket stage\", \"count\": 43}, {\"separation_year\": \"1982\", \"active_desc\": \"Debris\", \"count\": 2}, {\"separation_year\": \"1982\", \"active_desc\": \"Litter\", \"count\": 20}, {\"separation_year\": \"1982\", \"active_desc\": \"Payload\", \"count\": 69}, {\"separation_year\": \"1982\", \"active_desc\": \"Rocket stage\", \"count\": 37}, {\"separation_year\": \"1983\", \"active_desc\": \"Debris\", \"count\": 16}, {\"separation_year\": \"1983\", \"active_desc\": \"Litter\", \"count\": 36}, {\"separation_year\": \"1983\", \"active_desc\": \"Payload\", \"count\": 85}, {\"separation_year\": \"1983\", \"active_desc\": \"Rocket stage\", \"count\": 39}, {\"separation_year\": \"1984\", \"active_desc\": \"Debris\", \"count\": 42}, {\"separation_year\": \"1984\", \"active_desc\": \"Litter\", \"count\": 35}, {\"separation_year\": \"1984\", \"active_desc\": \"Payload\", \"count\": 90}, {\"separation_year\": \"1984\", \"active_desc\": \"Rocket stage\", \"count\": 48}, {\"separation_year\": \"1985\", \"active_desc\": \"Debris\", \"count\": 215}, {\"separation_year\": \"1985\", \"active_desc\": \"Litter\", \"count\": 45}, {\"separation_year\": \"1985\", \"active_desc\": \"Payload\", \"count\": 87}, {\"separation_year\": \"1985\", \"active_desc\": \"Rocket stage\", \"count\": 43}, {\"separation_year\": \"1986\", \"active_desc\": \"Debris\", \"count\": 44}, {\"separation_year\": \"1986\", \"active_desc\": \"Litter\", \"count\": 19}, {\"separation_year\": \"1986\", \"active_desc\": \"Payload\", \"count\": 78}, {\"separation_year\": \"1986\", \"active_desc\": \"Rocket stage\", \"count\": 42}, {\"separation_year\": \"1987\", \"active_desc\": \"Debris\", \"count\": 79}, {\"separation_year\": \"1987\", \"active_desc\": \"Litter\", \"count\": 32}, {\"separation_year\": \"1987\", \"active_desc\": \"Payload\", \"count\": 74}, {\"separation_year\": \"1987\", \"active_desc\": \"Rocket stage\", \"count\": 40}, {\"separation_year\": \"1988\", \"active_desc\": \"Debris\", \"count\": 63}, {\"separation_year\": \"1988\", \"active_desc\": \"Litter\", \"count\": 32}, {\"separation_year\": \"1988\", \"active_desc\": \"Payload\", \"count\": 74}, {\"separation_year\": \"1988\", \"active_desc\": \"Rocket stage\", \"count\": 39}, {\"separation_year\": \"1989\", \"active_desc\": \"Debris\", \"count\": 72}, {\"separation_year\": \"1989\", \"active_desc\": \"Litter\", \"count\": 22}, {\"separation_year\": \"1989\", \"active_desc\": \"Payload\", \"count\": 71}, {\"separation_year\": \"1989\", \"active_desc\": \"Rocket stage\", \"count\": 34}, {\"separation_year\": \"1990\", \"active_desc\": \"Debris\", \"count\": 74}, {\"separation_year\": \"1990\", \"active_desc\": \"Litter\", \"count\": 38}, {\"separation_year\": \"1990\", \"active_desc\": \"Payload\", \"count\": 101}, {\"separation_year\": \"1990\", \"active_desc\": \"Rocket stage\", \"count\": 43}, {\"separation_year\": \"1991\", \"active_desc\": \"Debris\", \"count\": 345}, {\"separation_year\": \"1991\", \"active_desc\": \"Litter\", \"count\": 54}, {\"separation_year\": \"1991\", \"active_desc\": \"Payload\", \"count\": 87}, {\"separation_year\": \"1991\", \"active_desc\": \"Rocket stage\", \"count\": 42}, {\"separation_year\": \"1992\", \"active_desc\": \"Debris\", \"count\": 242}, {\"separation_year\": \"1992\", \"active_desc\": \"Litter\", \"count\": 29}, {\"separation_year\": \"1992\", \"active_desc\": \"Payload\", \"count\": 77}, {\"separation_year\": \"1992\", \"active_desc\": \"Rocket stage\", \"count\": 37}, {\"separation_year\": \"1993\", \"active_desc\": \"Debris\", \"count\": 130}, {\"separation_year\": \"1993\", \"active_desc\": \"Litter\", \"count\": 25}, {\"separation_year\": \"1993\", \"active_desc\": \"Payload\", \"count\": 71}, {\"separation_year\": \"1993\", \"active_desc\": \"Rocket stage\", \"count\": 29}, {\"separation_year\": \"1994\", \"active_desc\": \"Debris\", \"count\": 38}, {\"separation_year\": \"1994\", \"active_desc\": \"Litter\", \"count\": 34}, {\"separation_year\": \"1994\", \"active_desc\": \"Payload\", \"count\": 76}, {\"separation_year\": \"1994\", \"active_desc\": \"Rocket stage\", \"count\": 41}, {\"separation_year\": \"1995\", \"active_desc\": \"Debris\", \"count\": 3}, {\"separation_year\": \"1995\", \"active_desc\": \"Litter\", \"count\": 17}, {\"separation_year\": \"1995\", \"active_desc\": \"Payload\", \"count\": 56}, {\"separation_year\": \"1995\", \"active_desc\": \"Rocket stage\", \"count\": 34}, {\"separation_year\": \"1996\", \"active_desc\": \"Debris\", \"count\": 99}, {\"separation_year\": \"1996\", \"active_desc\": \"Litter\", \"count\": 24}, {\"separation_year\": \"1996\", \"active_desc\": \"Payload\", \"count\": 57}, {\"separation_year\": \"1996\", \"active_desc\": \"Rocket stage\", \"count\": 26}, {\"separation_year\": \"1997\", \"active_desc\": \"Litter\", \"count\": 16}, {\"separation_year\": \"1997\", \"active_desc\": \"Payload\", \"count\": 83}, {\"separation_year\": \"1997\", \"active_desc\": \"Rocket stage\", \"count\": 20}, {\"separation_year\": \"1998\", \"active_desc\": \"Debris\", \"count\": 84}, {\"separation_year\": \"1998\", \"active_desc\": \"Litter\", \"count\": 13}, {\"separation_year\": \"1998\", \"active_desc\": \"Payload\", \"count\": 85}, {\"separation_year\": \"1998\", \"active_desc\": \"Rocket stage\", \"count\": 28}, {\"separation_year\": \"1999\", \"active_desc\": \"Debris\", \"count\": 90}, {\"separation_year\": \"1999\", \"active_desc\": \"Litter\", \"count\": 18}, {\"separation_year\": \"1999\", \"active_desc\": \"Payload\", \"count\": 97}, {\"separation_year\": \"1999\", \"active_desc\": \"Rocket stage\", \"count\": 29}, {\"separation_year\": \"2000\", \"active_desc\": \"Debris\", \"count\": 148}, {\"separation_year\": \"2000\", \"active_desc\": \"Litter\", \"count\": 17}, {\"separation_year\": \"2000\", \"active_desc\": \"Payload\", \"count\": 77}, {\"separation_year\": \"2000\", \"active_desc\": \"Rocket stage\", \"count\": 40}, {\"separation_year\": \"2001\", \"active_desc\": \"Debris\", \"count\": 142}, {\"separation_year\": \"2001\", \"active_desc\": \"Litter\", \"count\": 10}, {\"separation_year\": \"2001\", \"active_desc\": \"Payload\", \"count\": 43}, {\"separation_year\": \"2001\", \"active_desc\": \"Rocket stage\", \"count\": 23}, {\"separation_year\": \"2002\", \"active_desc\": \"Debris\", \"count\": 11}, {\"separation_year\": \"2002\", \"active_desc\": \"Litter\", \"count\": 26}, {\"separation_year\": \"2002\", \"active_desc\": \"Payload\", \"count\": 47}, {\"separation_year\": \"2002\", \"active_desc\": \"Rocket stage\", \"count\": 28}, {\"separation_year\": \"2003\", \"active_desc\": \"Debris\", \"count\": 12}, {\"separation_year\": \"2003\", \"active_desc\": \"Litter\", \"count\": 35}, {\"separation_year\": \"2003\", \"active_desc\": \"Payload\", \"count\": 43}, {\"separation_year\": \"2003\", \"active_desc\": \"Rocket stage\", \"count\": 33}, {\"separation_year\": \"2004\", \"active_desc\": \"Debris\", \"count\": 102}, {\"separation_year\": \"2004\", \"active_desc\": \"Litter\", \"count\": 31}, {\"separation_year\": \"2004\", \"active_desc\": \"Payload\", \"count\": 45}, {\"separation_year\": \"2004\", \"active_desc\": \"Rocket stage\", \"count\": 27}, {\"separation_year\": \"2005\", \"active_desc\": \"Debris\", \"count\": 38}, {\"separation_year\": \"2005\", \"active_desc\": \"Litter\", \"count\": 24}, {\"separation_year\": \"2005\", \"active_desc\": \"Payload\", \"count\": 28}, {\"separation_year\": \"2005\", \"active_desc\": \"Rocket stage\", \"count\": 26}, {\"separation_year\": \"2006\", \"active_desc\": \"Debris\", \"count\": 135}, {\"separation_year\": \"2006\", \"active_desc\": \"Litter\", \"count\": 33}, {\"separation_year\": \"2006\", \"active_desc\": \"Payload\", \"count\": 29}, {\"separation_year\": \"2006\", \"active_desc\": \"Rocket stage\", \"count\": 30}, {\"separation_year\": \"2007\", \"active_desc\": \"Debris\", \"count\": 2926}, {\"separation_year\": \"2007\", \"active_desc\": \"Litter\", \"count\": 35}, {\"separation_year\": \"2007\", \"active_desc\": \"Payload\", \"count\": 41}, {\"separation_year\": \"2007\", \"active_desc\": \"Rocket stage\", \"count\": 28}, {\"separation_year\": \"2008\", \"active_desc\": \"Debris\", \"count\": 9}, {\"separation_year\": \"2008\", \"active_desc\": \"Litter\", \"count\": 35}, {\"separation_year\": \"2008\", \"active_desc\": \"Payload\", \"count\": 44}, {\"separation_year\": \"2008\", \"active_desc\": \"Rocket stage\", \"count\": 36}, {\"separation_year\": \"2009\", \"active_desc\": \"Debris\", \"count\": 1458}, {\"separation_year\": \"2009\", \"active_desc\": \"Litter\", \"count\": 55}, {\"separation_year\": \"2009\", \"active_desc\": \"Payload\", \"count\": 39}, {\"separation_year\": \"2009\", \"active_desc\": \"Rocket stage\", \"count\": 40}, {\"separation_year\": \"2010\", \"active_desc\": \"Debris\", \"count\": 128}, {\"separation_year\": \"2010\", \"active_desc\": \"Litter\", \"count\": 49}, {\"separation_year\": \"2010\", \"active_desc\": \"Payload\", \"count\": 29}, {\"separation_year\": \"2010\", \"active_desc\": \"Rocket stage\", \"count\": 41}, {\"separation_year\": \"2011\", \"active_desc\": \"Debris\", \"count\": 3}, {\"separation_year\": \"2011\", \"active_desc\": \"Litter\", \"count\": 47}, {\"separation_year\": \"2011\", \"active_desc\": \"Payload\", \"count\": 23}, {\"separation_year\": \"2011\", \"active_desc\": \"Rocket stage\", \"count\": 36}, {\"separation_year\": \"2012\", \"active_desc\": \"Debris\", \"count\": 24}, {\"separation_year\": \"2012\", \"active_desc\": \"Litter\", \"count\": 40}, {\"separation_year\": \"2012\", \"active_desc\": \"Payload\", \"count\": 26}, {\"separation_year\": \"2012\", \"active_desc\": \"Rocket stage\", \"count\": 35}, {\"separation_year\": \"2013\", \"active_desc\": \"Debris\", \"count\": 51}, {\"separation_year\": \"2013\", \"active_desc\": \"Litter\", \"count\": 40}, {\"separation_year\": \"2013\", \"active_desc\": \"Payload\", \"count\": 46}, {\"separation_year\": \"2013\", \"active_desc\": \"Rocket stage\", \"count\": 44}, {\"separation_year\": \"2014\", \"active_desc\": \"Debris\", \"count\": 161}, {\"separation_year\": \"2014\", \"active_desc\": \"Litter\", \"count\": 46}, {\"separation_year\": \"2014\", \"active_desc\": \"Payload\", \"count\": 48}, {\"separation_year\": \"2014\", \"active_desc\": \"Rocket stage\", \"count\": 50}, {\"separation_year\": \"2015\", \"active_desc\": \"Debris\", \"count\": 698}, {\"separation_year\": \"2015\", \"active_desc\": \"Litter\", \"count\": 35}, {\"separation_year\": \"2015\", \"active_desc\": \"Payload\", \"count\": 22}, {\"separation_year\": \"2015\", \"active_desc\": \"Rocket stage\", \"count\": 45}, {\"separation_year\": \"2016\", \"active_desc\": \"Debris\", \"count\": 66}, {\"separation_year\": \"2016\", \"active_desc\": \"Litter\", \"count\": 30}, {\"separation_year\": \"2016\", \"active_desc\": \"Payload\", \"count\": 34}, {\"separation_year\": \"2016\", \"active_desc\": \"Rocket stage\", \"count\": 42}, {\"separation_year\": \"2017\", \"active_desc\": \"Debris\", \"count\": 10}, {\"separation_year\": \"2017\", \"active_desc\": \"Litter\", \"count\": 32}, {\"separation_year\": \"2017\", \"active_desc\": \"Payload\", \"count\": 153}, {\"separation_year\": \"2017\", \"active_desc\": \"Rocket stage\", \"count\": 38}, {\"separation_year\": \"2018\", \"active_desc\": \"Debris\", \"count\": 160}, {\"separation_year\": \"2018\", \"active_desc\": \"Litter\", \"count\": 76}, {\"separation_year\": \"2018\", \"active_desc\": \"Payload\", \"count\": 83}, {\"separation_year\": \"2018\", \"active_desc\": \"Rocket stage\", \"count\": 54}, {\"separation_year\": \"2019\", \"active_desc\": \"Debris\", \"count\": 270}, {\"separation_year\": \"2019\", \"active_desc\": \"Litter\", \"count\": 38}, {\"separation_year\": \"2019\", \"active_desc\": \"Payload\", \"count\": 49}, {\"separation_year\": \"2019\", \"active_desc\": \"Rocket stage\", \"count\": 53}, {\"separation_year\": \"2020\", \"active_desc\": \"Debris\", \"count\": 563}, {\"separation_year\": \"2020\", \"active_desc\": \"Litter\", \"count\": 38}, {\"separation_year\": \"2020\", \"active_desc\": \"Payload\", \"count\": 28}, {\"separation_year\": \"2020\", \"active_desc\": \"Rocket stage\", \"count\": 39}, {\"separation_year\": \"2021\", \"active_desc\": \"Debris\", \"count\": 1504}, {\"separation_year\": \"2021\", \"active_desc\": \"Litter\", \"count\": 49}, {\"separation_year\": \"2021\", \"active_desc\": \"Payload\", \"count\": 15}, {\"separation_year\": \"2021\", \"active_desc\": \"Rocket stage\", \"count\": 54}, {\"separation_year\": \"2022\", \"active_desc\": \"Litter\", \"count\": 8}, {\"separation_year\": \"2022\", \"active_desc\": \"Payload\", \"count\": 1}, {\"separation_year\": \"2022\", \"active_desc\": \"Rocket stage\", \"count\": 4}]}}, {\"mode\": \"vega-lite\"});\n",
       "</script>"
      ],
      "text/plain": [
       "alt.Chart(...)"
      ]
     },
     "execution_count": 715,
     "metadata": {},
     "output_type": "execute_result"
    }
   ],
   "source": [
    "alt.Chart(active_grouped_count).mark_bar().encode(\n",
    "    x=\"separation_year\", y=\"count\", color=\"active_desc\"\n",
    ").properties(width=650, height=350)"
   ]
  },
  {
   "cell_type": "code",
   "execution_count": 600,
   "id": "91d8f460-53e6-4a85-87a7-65ea943b0c27",
   "metadata": {},
   "outputs": [],
   "source": [
    "merged_cumsum = (\n",
    "    merge.groupby([\"type_coarse_desc\", \"separation_year\"])[\"intldes\"]\n",
    "    .size()\n",
    "    .groupby(level=\"type_coarse_desc\")\n",
    "    .cumsum()\n",
    "    .reset_index(name=\"cumsum\")\n",
    ")"
   ]
  },
  {
   "cell_type": "code",
   "execution_count": 603,
   "id": "744e7c4f-bf49-4026-807b-9ceac10fa436",
   "metadata": {},
   "outputs": [
    {
     "data": {
      "text/html": [
       "<div>\n",
       "<style scoped>\n",
       "    .dataframe tbody tr th:only-of-type {\n",
       "        vertical-align: middle;\n",
       "    }\n",
       "\n",
       "    .dataframe tbody tr th {\n",
       "        vertical-align: top;\n",
       "    }\n",
       "\n",
       "    .dataframe thead th {\n",
       "        text-align: right;\n",
       "    }\n",
       "</style>\n",
       "<table border=\"1\" class=\"dataframe\">\n",
       "  <thead>\n",
       "    <tr style=\"text-align: right;\">\n",
       "      <th></th>\n",
       "      <th>type_coarse_desc</th>\n",
       "      <th>separation_year</th>\n",
       "      <th>cumsum</th>\n",
       "    </tr>\n",
       "  </thead>\n",
       "  <tbody>\n",
       "    <tr>\n",
       "      <th>0</th>\n",
       "      <td>Component</td>\n",
       "      <td>1963</td>\n",
       "      <td>46</td>\n",
       "    </tr>\n",
       "    <tr>\n",
       "      <th>1</th>\n",
       "      <td>Component</td>\n",
       "      <td>1964</td>\n",
       "      <td>61</td>\n",
       "    </tr>\n",
       "    <tr>\n",
       "      <th>2</th>\n",
       "      <td>Component</td>\n",
       "      <td>1965</td>\n",
       "      <td>92</td>\n",
       "    </tr>\n",
       "    <tr>\n",
       "      <th>3</th>\n",
       "      <td>Component</td>\n",
       "      <td>1966</td>\n",
       "      <td>123</td>\n",
       "    </tr>\n",
       "    <tr>\n",
       "      <th>4</th>\n",
       "      <td>Component</td>\n",
       "      <td>1967</td>\n",
       "      <td>142</td>\n",
       "    </tr>\n",
       "  </tbody>\n",
       "</table>\n",
       "</div>"
      ],
      "text/plain": [
       "  type_coarse_desc separation_year  cumsum\n",
       "0        Component            1963      46\n",
       "1        Component            1964      61\n",
       "2        Component            1965      92\n",
       "3        Component            1966     123\n",
       "4        Component            1967     142"
      ]
     },
     "execution_count": 603,
     "metadata": {},
     "output_type": "execute_result"
    }
   ],
   "source": [
    "merged_cumsum.head()"
   ]
  },
  {
   "cell_type": "code",
   "execution_count": 604,
   "id": "740fa5a3-9273-4585-860a-711fe985f608",
   "metadata": {},
   "outputs": [
    {
     "data": {
      "text/html": [
       "\n",
       "<div id=\"altair-viz-6e82d0e6d8024d109364798b30b13266\"></div>\n",
       "<script type=\"text/javascript\">\n",
       "  var VEGA_DEBUG = (typeof VEGA_DEBUG == \"undefined\") ? {} : VEGA_DEBUG;\n",
       "  (function(spec, embedOpt){\n",
       "    let outputDiv = document.currentScript.previousElementSibling;\n",
       "    if (outputDiv.id !== \"altair-viz-6e82d0e6d8024d109364798b30b13266\") {\n",
       "      outputDiv = document.getElementById(\"altair-viz-6e82d0e6d8024d109364798b30b13266\");\n",
       "    }\n",
       "    const paths = {\n",
       "      \"vega\": \"https://cdn.jsdelivr.net/npm//vega@5?noext\",\n",
       "      \"vega-lib\": \"https://cdn.jsdelivr.net/npm//vega-lib?noext\",\n",
       "      \"vega-lite\": \"https://cdn.jsdelivr.net/npm//vega-lite@4.17.0?noext\",\n",
       "      \"vega-embed\": \"https://cdn.jsdelivr.net/npm//vega-embed@6?noext\",\n",
       "    };\n",
       "\n",
       "    function maybeLoadScript(lib, version) {\n",
       "      var key = `${lib.replace(\"-\", \"\")}_version`;\n",
       "      return (VEGA_DEBUG[key] == version) ?\n",
       "        Promise.resolve(paths[lib]) :\n",
       "        new Promise(function(resolve, reject) {\n",
       "          var s = document.createElement('script');\n",
       "          document.getElementsByTagName(\"head\")[0].appendChild(s);\n",
       "          s.async = true;\n",
       "          s.onload = () => {\n",
       "            VEGA_DEBUG[key] = version;\n",
       "            return resolve(paths[lib]);\n",
       "          };\n",
       "          s.onerror = () => reject(`Error loading script: ${paths[lib]}`);\n",
       "          s.src = paths[lib];\n",
       "        });\n",
       "    }\n",
       "\n",
       "    function showError(err) {\n",
       "      outputDiv.innerHTML = `<div class=\"error\" style=\"color:red;\">${err}</div>`;\n",
       "      throw err;\n",
       "    }\n",
       "\n",
       "    function displayChart(vegaEmbed) {\n",
       "      vegaEmbed(outputDiv, spec, embedOpt)\n",
       "        .catch(err => showError(`Javascript Error: ${err.message}<br>This usually means there's a typo in your chart specification. See the javascript console for the full traceback.`));\n",
       "    }\n",
       "\n",
       "    if(typeof define === \"function\" && define.amd) {\n",
       "      requirejs.config({paths});\n",
       "      require([\"vega-embed\"], displayChart, err => showError(`Error loading script: ${err.message}`));\n",
       "    } else {\n",
       "      maybeLoadScript(\"vega\", \"5\")\n",
       "        .then(() => maybeLoadScript(\"vega-lite\", \"4.17.0\"))\n",
       "        .then(() => maybeLoadScript(\"vega-embed\", \"6\"))\n",
       "        .catch(showError)\n",
       "        .then(() => displayChart(vegaEmbed));\n",
       "    }\n",
       "  })({\"config\": {\"view\": {\"continuousWidth\": 400, \"continuousHeight\": 300}}, \"data\": {\"name\": \"data-8bef044ef3bc2c9d21837bf6b369ca69\"}, \"mark\": \"bar\", \"encoding\": {\"color\": {\"field\": \"type_coarse_desc\", \"type\": \"nominal\"}, \"x\": {\"field\": \"separation_year\", \"type\": \"nominal\"}, \"y\": {\"field\": \"cumsum\", \"type\": \"quantitative\"}}, \"height\": 350, \"width\": 650, \"$schema\": \"https://vega.github.io/schema/vega-lite/v4.17.0.json\", \"datasets\": {\"data-8bef044ef3bc2c9d21837bf6b369ca69\": [{\"type_coarse_desc\": \"Component\", \"separation_year\": \"1963\", \"cumsum\": 46}, {\"type_coarse_desc\": \"Component\", \"separation_year\": \"1964\", \"cumsum\": 61}, {\"type_coarse_desc\": \"Component\", \"separation_year\": \"1965\", \"cumsum\": 92}, {\"type_coarse_desc\": \"Component\", \"separation_year\": \"1966\", \"cumsum\": 123}, {\"type_coarse_desc\": \"Component\", \"separation_year\": \"1967\", \"cumsum\": 142}, {\"type_coarse_desc\": \"Component\", \"separation_year\": \"1968\", \"cumsum\": 166}, {\"type_coarse_desc\": \"Component\", \"separation_year\": \"1969\", \"cumsum\": 173}, {\"type_coarse_desc\": \"Component\", \"separation_year\": \"1970\", \"cumsum\": 186}, {\"type_coarse_desc\": \"Component\", \"separation_year\": \"1971\", \"cumsum\": 200}, {\"type_coarse_desc\": \"Component\", \"separation_year\": \"1972\", \"cumsum\": 211}, {\"type_coarse_desc\": \"Component\", \"separation_year\": \"1973\", \"cumsum\": 216}, {\"type_coarse_desc\": \"Component\", \"separation_year\": \"1974\", \"cumsum\": 221}, {\"type_coarse_desc\": \"Component\", \"separation_year\": \"1975\", \"cumsum\": 232}, {\"type_coarse_desc\": \"Component\", \"separation_year\": \"1976\", \"cumsum\": 252}, {\"type_coarse_desc\": \"Component\", \"separation_year\": \"1977\", \"cumsum\": 280}, {\"type_coarse_desc\": \"Component\", \"separation_year\": \"1978\", \"cumsum\": 306}, {\"type_coarse_desc\": \"Component\", \"separation_year\": \"1979\", \"cumsum\": 315}, {\"type_coarse_desc\": \"Component\", \"separation_year\": \"1980\", \"cumsum\": 330}, {\"type_coarse_desc\": \"Component\", \"separation_year\": \"1981\", \"cumsum\": 351}, {\"type_coarse_desc\": \"Component\", \"separation_year\": \"1982\", \"cumsum\": 371}, {\"type_coarse_desc\": \"Component\", \"separation_year\": \"1983\", \"cumsum\": 405}, {\"type_coarse_desc\": \"Component\", \"separation_year\": \"1984\", \"cumsum\": 439}, {\"type_coarse_desc\": \"Component\", \"separation_year\": \"1985\", \"cumsum\": 484}, {\"type_coarse_desc\": \"Component\", \"separation_year\": \"1986\", \"cumsum\": 501}, {\"type_coarse_desc\": \"Component\", \"separation_year\": \"1987\", \"cumsum\": 530}, {\"type_coarse_desc\": \"Component\", \"separation_year\": \"1988\", \"cumsum\": 560}, {\"type_coarse_desc\": \"Component\", \"separation_year\": \"1989\", \"cumsum\": 582}, {\"type_coarse_desc\": \"Component\", \"separation_year\": \"1990\", \"cumsum\": 620}, {\"type_coarse_desc\": \"Component\", \"separation_year\": \"1991\", \"cumsum\": 672}, {\"type_coarse_desc\": \"Component\", \"separation_year\": \"1992\", \"cumsum\": 699}, {\"type_coarse_desc\": \"Component\", \"separation_year\": \"1993\", \"cumsum\": 723}, {\"type_coarse_desc\": \"Component\", \"separation_year\": \"1994\", \"cumsum\": 755}, {\"type_coarse_desc\": \"Component\", \"separation_year\": \"1995\", \"cumsum\": 771}, {\"type_coarse_desc\": \"Component\", \"separation_year\": \"1996\", \"cumsum\": 794}, {\"type_coarse_desc\": \"Component\", \"separation_year\": \"1997\", \"cumsum\": 810}, {\"type_coarse_desc\": \"Component\", \"separation_year\": \"1998\", \"cumsum\": 823}, {\"type_coarse_desc\": \"Component\", \"separation_year\": \"1999\", \"cumsum\": 840}, {\"type_coarse_desc\": \"Component\", \"separation_year\": \"2000\", \"cumsum\": 854}, {\"type_coarse_desc\": \"Component\", \"separation_year\": \"2001\", \"cumsum\": 863}, {\"type_coarse_desc\": \"Component\", \"separation_year\": \"2002\", \"cumsum\": 884}, {\"type_coarse_desc\": \"Component\", \"separation_year\": \"2003\", \"cumsum\": 916}, {\"type_coarse_desc\": \"Component\", \"separation_year\": \"2004\", \"cumsum\": 943}, {\"type_coarse_desc\": \"Component\", \"separation_year\": \"2005\", \"cumsum\": 965}, {\"type_coarse_desc\": \"Component\", \"separation_year\": \"2006\", \"cumsum\": 994}, {\"type_coarse_desc\": \"Component\", \"separation_year\": \"2007\", \"cumsum\": 1025}, {\"type_coarse_desc\": \"Component\", \"separation_year\": \"2008\", \"cumsum\": 1058}, {\"type_coarse_desc\": \"Component\", \"separation_year\": \"2009\", \"cumsum\": 1111}, {\"type_coarse_desc\": \"Component\", \"separation_year\": \"2010\", \"cumsum\": 1159}, {\"type_coarse_desc\": \"Component\", \"separation_year\": \"2011\", \"cumsum\": 1204}, {\"type_coarse_desc\": \"Component\", \"separation_year\": \"2012\", \"cumsum\": 1243}, {\"type_coarse_desc\": \"Component\", \"separation_year\": \"2013\", \"cumsum\": 1278}, {\"type_coarse_desc\": \"Component\", \"separation_year\": \"2014\", \"cumsum\": 1321}, {\"type_coarse_desc\": \"Component\", \"separation_year\": \"2015\", \"cumsum\": 1352}, {\"type_coarse_desc\": \"Component\", \"separation_year\": \"2016\", \"cumsum\": 1378}, {\"type_coarse_desc\": \"Component\", \"separation_year\": \"2017\", \"cumsum\": 1409}, {\"type_coarse_desc\": \"Component\", \"separation_year\": \"2018\", \"cumsum\": 1483}, {\"type_coarse_desc\": \"Component\", \"separation_year\": \"2019\", \"cumsum\": 1514}, {\"type_coarse_desc\": \"Component\", \"separation_year\": \"2020\", \"cumsum\": 1548}, {\"type_coarse_desc\": \"Component\", \"separation_year\": \"2021\", \"cumsum\": 1591}, {\"type_coarse_desc\": \"Component\", \"separation_year\": \"2022\", \"cumsum\": 1599}, {\"type_coarse_desc\": \"Fragmentation debris\", \"separation_year\": \"1963\", \"cumsum\": 12}, {\"type_coarse_desc\": \"Fragmentation debris\", \"separation_year\": \"1965\", \"cumsum\": 146}, {\"type_coarse_desc\": \"Fragmentation debris\", \"separation_year\": \"1966\", \"cumsum\": 149}, {\"type_coarse_desc\": \"Fragmentation debris\", \"separation_year\": \"1967\", \"cumsum\": 151}, {\"type_coarse_desc\": \"Fragmentation debris\", \"separation_year\": \"1968\", \"cumsum\": 229}, {\"type_coarse_desc\": \"Fragmentation debris\", \"separation_year\": \"1969\", \"cumsum\": 291}, {\"type_coarse_desc\": \"Fragmentation debris\", \"separation_year\": \"1970\", \"cumsum\": 618}, {\"type_coarse_desc\": \"Fragmentation debris\", \"separation_year\": \"1971\", \"cumsum\": 666}, {\"type_coarse_desc\": \"Fragmentation debris\", \"separation_year\": \"1973\", \"cumsum\": 878}, {\"type_coarse_desc\": \"Fragmentation debris\", \"separation_year\": \"1974\", \"cumsum\": 879}, {\"type_coarse_desc\": \"Fragmentation debris\", \"separation_year\": \"1975\", \"cumsum\": 1078}, {\"type_coarse_desc\": \"Fragmentation debris\", \"separation_year\": \"1976\", \"cumsum\": 1168}, {\"type_coarse_desc\": \"Fragmentation debris\", \"separation_year\": \"1977\", \"cumsum\": 1530}, {\"type_coarse_desc\": \"Fragmentation debris\", \"separation_year\": \"1978\", \"cumsum\": 1538}, {\"type_coarse_desc\": \"Fragmentation debris\", \"separation_year\": \"1979\", \"cumsum\": 1577}, {\"type_coarse_desc\": \"Fragmentation debris\", \"separation_year\": \"1980\", \"cumsum\": 1617}, {\"type_coarse_desc\": \"Fragmentation debris\", \"separation_year\": \"1981\", \"cumsum\": 2232}, {\"type_coarse_desc\": \"Fragmentation debris\", \"separation_year\": \"1982\", \"cumsum\": 2234}, {\"type_coarse_desc\": \"Fragmentation debris\", \"separation_year\": \"1983\", \"cumsum\": 2250}, {\"type_coarse_desc\": \"Fragmentation debris\", \"separation_year\": \"1984\", \"cumsum\": 2292}, {\"type_coarse_desc\": \"Fragmentation debris\", \"separation_year\": \"1985\", \"cumsum\": 2507}, {\"type_coarse_desc\": \"Fragmentation debris\", \"separation_year\": \"1986\", \"cumsum\": 2551}, {\"type_coarse_desc\": \"Fragmentation debris\", \"separation_year\": \"1987\", \"cumsum\": 2630}, {\"type_coarse_desc\": \"Fragmentation debris\", \"separation_year\": \"1988\", \"cumsum\": 2692}, {\"type_coarse_desc\": \"Fragmentation debris\", \"separation_year\": \"1989\", \"cumsum\": 2763}, {\"type_coarse_desc\": \"Fragmentation debris\", \"separation_year\": \"1990\", \"cumsum\": 2837}, {\"type_coarse_desc\": \"Fragmentation debris\", \"separation_year\": \"1991\", \"cumsum\": 3182}, {\"type_coarse_desc\": \"Fragmentation debris\", \"separation_year\": \"1992\", \"cumsum\": 3424}, {\"type_coarse_desc\": \"Fragmentation debris\", \"separation_year\": \"1993\", \"cumsum\": 3554}, {\"type_coarse_desc\": \"Fragmentation debris\", \"separation_year\": \"1994\", \"cumsum\": 3591}, {\"type_coarse_desc\": \"Fragmentation debris\", \"separation_year\": \"1995\", \"cumsum\": 3594}, {\"type_coarse_desc\": \"Fragmentation debris\", \"separation_year\": \"1996\", \"cumsum\": 3693}, {\"type_coarse_desc\": \"Fragmentation debris\", \"separation_year\": \"1998\", \"cumsum\": 3777}, {\"type_coarse_desc\": \"Fragmentation debris\", \"separation_year\": \"1999\", \"cumsum\": 3867}, {\"type_coarse_desc\": \"Fragmentation debris\", \"separation_year\": \"2000\", \"cumsum\": 4014}, {\"type_coarse_desc\": \"Fragmentation debris\", \"separation_year\": \"2001\", \"cumsum\": 4156}, {\"type_coarse_desc\": \"Fragmentation debris\", \"separation_year\": \"2002\", \"cumsum\": 4167}, {\"type_coarse_desc\": \"Fragmentation debris\", \"separation_year\": \"2003\", \"cumsum\": 4179}, {\"type_coarse_desc\": \"Fragmentation debris\", \"separation_year\": \"2004\", \"cumsum\": 4281}, {\"type_coarse_desc\": \"Fragmentation debris\", \"separation_year\": \"2005\", \"cumsum\": 4319}, {\"type_coarse_desc\": \"Fragmentation debris\", \"separation_year\": \"2006\", \"cumsum\": 4454}, {\"type_coarse_desc\": \"Fragmentation debris\", \"separation_year\": \"2007\", \"cumsum\": 7379}, {\"type_coarse_desc\": \"Fragmentation debris\", \"separation_year\": \"2008\", \"cumsum\": 7388}, {\"type_coarse_desc\": \"Fragmentation debris\", \"separation_year\": \"2009\", \"cumsum\": 8846}, {\"type_coarse_desc\": \"Fragmentation debris\", \"separation_year\": \"2010\", \"cumsum\": 8974}, {\"type_coarse_desc\": \"Fragmentation debris\", \"separation_year\": \"2011\", \"cumsum\": 8977}, {\"type_coarse_desc\": \"Fragmentation debris\", \"separation_year\": \"2012\", \"cumsum\": 9000}, {\"type_coarse_desc\": \"Fragmentation debris\", \"separation_year\": \"2013\", \"cumsum\": 9051}, {\"type_coarse_desc\": \"Fragmentation debris\", \"separation_year\": \"2014\", \"cumsum\": 9212}, {\"type_coarse_desc\": \"Fragmentation debris\", \"separation_year\": \"2015\", \"cumsum\": 9910}, {\"type_coarse_desc\": \"Fragmentation debris\", \"separation_year\": \"2016\", \"cumsum\": 9976}, {\"type_coarse_desc\": \"Fragmentation debris\", \"separation_year\": \"2017\", \"cumsum\": 9986}, {\"type_coarse_desc\": \"Fragmentation debris\", \"separation_year\": \"2018\", \"cumsum\": 10146}, {\"type_coarse_desc\": \"Fragmentation debris\", \"separation_year\": \"2019\", \"cumsum\": 10416}, {\"type_coarse_desc\": \"Fragmentation debris\", \"separation_year\": \"2020\", \"cumsum\": 10979}, {\"type_coarse_desc\": \"Fragmentation debris\", \"separation_year\": \"2021\", \"cumsum\": 12483}, {\"type_coarse_desc\": \"Launch vehicle stage\", \"separation_year\": \"1963\", \"cumsum\": 4}, {\"type_coarse_desc\": \"Launch vehicle stage\", \"separation_year\": \"1964\", \"cumsum\": 16}, {\"type_coarse_desc\": \"Launch vehicle stage\", \"separation_year\": \"1965\", \"cumsum\": 34}, {\"type_coarse_desc\": \"Launch vehicle stage\", \"separation_year\": \"1966\", \"cumsum\": 49}, {\"type_coarse_desc\": \"Launch vehicle stage\", \"separation_year\": \"1967\", \"cumsum\": 67}, {\"type_coarse_desc\": \"Launch vehicle stage\", \"separation_year\": \"1968\", \"cumsum\": 82}, {\"type_coarse_desc\": \"Launch vehicle stage\", \"separation_year\": \"1969\", \"cumsum\": 97}, {\"type_coarse_desc\": \"Launch vehicle stage\", \"separation_year\": \"1970\", \"cumsum\": 117}, {\"type_coarse_desc\": \"Launch vehicle stage\", \"separation_year\": \"1971\", \"cumsum\": 143}, {\"type_coarse_desc\": \"Launch vehicle stage\", \"separation_year\": \"1972\", \"cumsum\": 169}, {\"type_coarse_desc\": \"Launch vehicle stage\", \"separation_year\": \"1973\", \"cumsum\": 184}, {\"type_coarse_desc\": \"Launch vehicle stage\", \"separation_year\": \"1974\", \"cumsum\": 206}, {\"type_coarse_desc\": \"Launch vehicle stage\", \"separation_year\": \"1975\", \"cumsum\": 237}, {\"type_coarse_desc\": \"Launch vehicle stage\", \"separation_year\": \"1976\", \"cumsum\": 266}, {\"type_coarse_desc\": \"Launch vehicle stage\", \"separation_year\": \"1977\", \"cumsum\": 302}, {\"type_coarse_desc\": \"Launch vehicle stage\", \"separation_year\": \"1978\", \"cumsum\": 337}, {\"type_coarse_desc\": \"Launch vehicle stage\", \"separation_year\": \"1979\", \"cumsum\": 360}, {\"type_coarse_desc\": \"Launch vehicle stage\", \"separation_year\": \"1980\", \"cumsum\": 385}, {\"type_coarse_desc\": \"Launch vehicle stage\", \"separation_year\": \"1981\", \"cumsum\": 428}, {\"type_coarse_desc\": \"Launch vehicle stage\", \"separation_year\": \"1982\", \"cumsum\": 465}, {\"type_coarse_desc\": \"Launch vehicle stage\", \"separation_year\": \"1983\", \"cumsum\": 503}, {\"type_coarse_desc\": \"Launch vehicle stage\", \"separation_year\": \"1984\", \"cumsum\": 551}, {\"type_coarse_desc\": \"Launch vehicle stage\", \"separation_year\": \"1985\", \"cumsum\": 593}, {\"type_coarse_desc\": \"Launch vehicle stage\", \"separation_year\": \"1986\", \"cumsum\": 633}, {\"type_coarse_desc\": \"Launch vehicle stage\", \"separation_year\": \"1987\", \"cumsum\": 673}, {\"type_coarse_desc\": \"Launch vehicle stage\", \"separation_year\": \"1988\", \"cumsum\": 709}, {\"type_coarse_desc\": \"Launch vehicle stage\", \"separation_year\": \"1989\", \"cumsum\": 741}, {\"type_coarse_desc\": \"Launch vehicle stage\", \"separation_year\": \"1990\", \"cumsum\": 784}, {\"type_coarse_desc\": \"Launch vehicle stage\", \"separation_year\": \"1991\", \"cumsum\": 826}, {\"type_coarse_desc\": \"Launch vehicle stage\", \"separation_year\": \"1992\", \"cumsum\": 863}, {\"type_coarse_desc\": \"Launch vehicle stage\", \"separation_year\": \"1993\", \"cumsum\": 891}, {\"type_coarse_desc\": \"Launch vehicle stage\", \"separation_year\": \"1994\", \"cumsum\": 931}, {\"type_coarse_desc\": \"Launch vehicle stage\", \"separation_year\": \"1995\", \"cumsum\": 965}, {\"type_coarse_desc\": \"Launch vehicle stage\", \"separation_year\": \"1996\", \"cumsum\": 991}, {\"type_coarse_desc\": \"Launch vehicle stage\", \"separation_year\": \"1997\", \"cumsum\": 1010}, {\"type_coarse_desc\": \"Launch vehicle stage\", \"separation_year\": \"1998\", \"cumsum\": 1037}, {\"type_coarse_desc\": \"Launch vehicle stage\", \"separation_year\": \"1999\", \"cumsum\": 1066}, {\"type_coarse_desc\": \"Launch vehicle stage\", \"separation_year\": \"2000\", \"cumsum\": 1106}, {\"type_coarse_desc\": \"Launch vehicle stage\", \"separation_year\": \"2001\", \"cumsum\": 1129}, {\"type_coarse_desc\": \"Launch vehicle stage\", \"separation_year\": \"2002\", \"cumsum\": 1157}, {\"type_coarse_desc\": \"Launch vehicle stage\", \"separation_year\": \"2003\", \"cumsum\": 1190}, {\"type_coarse_desc\": \"Launch vehicle stage\", \"separation_year\": \"2004\", \"cumsum\": 1217}, {\"type_coarse_desc\": \"Launch vehicle stage\", \"separation_year\": \"2005\", \"cumsum\": 1243}, {\"type_coarse_desc\": \"Launch vehicle stage\", \"separation_year\": \"2006\", \"cumsum\": 1273}, {\"type_coarse_desc\": \"Launch vehicle stage\", \"separation_year\": \"2007\", \"cumsum\": 1301}, {\"type_coarse_desc\": \"Launch vehicle stage\", \"separation_year\": \"2008\", \"cumsum\": 1336}, {\"type_coarse_desc\": \"Launch vehicle stage\", \"separation_year\": \"2009\", \"cumsum\": 1376}, {\"type_coarse_desc\": \"Launch vehicle stage\", \"separation_year\": \"2010\", \"cumsum\": 1415}, {\"type_coarse_desc\": \"Launch vehicle stage\", \"separation_year\": \"2011\", \"cumsum\": 1451}, {\"type_coarse_desc\": \"Launch vehicle stage\", \"separation_year\": \"2012\", \"cumsum\": 1485}, {\"type_coarse_desc\": \"Launch vehicle stage\", \"separation_year\": \"2013\", \"cumsum\": 1527}, {\"type_coarse_desc\": \"Launch vehicle stage\", \"separation_year\": \"2014\", \"cumsum\": 1577}, {\"type_coarse_desc\": \"Launch vehicle stage\", \"separation_year\": \"2015\", \"cumsum\": 1620}, {\"type_coarse_desc\": \"Launch vehicle stage\", \"separation_year\": \"2016\", \"cumsum\": 1661}, {\"type_coarse_desc\": \"Launch vehicle stage\", \"separation_year\": \"2017\", \"cumsum\": 1698}, {\"type_coarse_desc\": \"Launch vehicle stage\", \"separation_year\": \"2018\", \"cumsum\": 1749}, {\"type_coarse_desc\": \"Launch vehicle stage\", \"separation_year\": \"2019\", \"cumsum\": 1799}, {\"type_coarse_desc\": \"Launch vehicle stage\", \"separation_year\": \"2020\", \"cumsum\": 1836}, {\"type_coarse_desc\": \"Launch vehicle stage\", \"separation_year\": \"2021\", \"cumsum\": 1888}, {\"type_coarse_desc\": \"Launch vehicle stage\", \"separation_year\": \"2022\", \"cumsum\": 1892}, {\"type_coarse_desc\": \"Payload (for orbital attempt)\", \"separation_year\": \"1963\", \"cumsum\": 14}, {\"type_coarse_desc\": \"Payload (for orbital attempt)\", \"separation_year\": \"1964\", \"cumsum\": 36}, {\"type_coarse_desc\": \"Payload (for orbital attempt)\", \"separation_year\": \"1965\", \"cumsum\": 79}, {\"type_coarse_desc\": \"Payload (for orbital attempt)\", \"separation_year\": \"1966\", \"cumsum\": 111}, {\"type_coarse_desc\": \"Payload (for orbital attempt)\", \"separation_year\": \"1967\", \"cumsum\": 153}, {\"type_coarse_desc\": \"Payload (for orbital attempt)\", \"separation_year\": \"1968\", \"cumsum\": 181}, {\"type_coarse_desc\": \"Payload (for orbital attempt)\", \"separation_year\": \"1969\", \"cumsum\": 208}, {\"type_coarse_desc\": \"Payload (for orbital attempt)\", \"separation_year\": \"1970\", \"cumsum\": 239}, {\"type_coarse_desc\": \"Payload (for orbital attempt)\", \"separation_year\": \"1971\", \"cumsum\": 288}, {\"type_coarse_desc\": \"Payload (for orbital attempt)\", \"separation_year\": \"1972\", \"cumsum\": 333}, {\"type_coarse_desc\": \"Payload (for orbital attempt)\", \"separation_year\": \"1973\", \"cumsum\": 378}, {\"type_coarse_desc\": \"Payload (for orbital attempt)\", \"separation_year\": \"1974\", \"cumsum\": 428}, {\"type_coarse_desc\": \"Payload (for orbital attempt)\", \"separation_year\": \"1975\", \"cumsum\": 488}, {\"type_coarse_desc\": \"Payload (for orbital attempt)\", \"separation_year\": \"1976\", \"cumsum\": 557}, {\"type_coarse_desc\": \"Payload (for orbital attempt)\", \"separation_year\": \"1977\", \"cumsum\": 610}, {\"type_coarse_desc\": \"Payload (for orbital attempt)\", \"separation_year\": \"1978\", \"cumsum\": 688}, {\"type_coarse_desc\": \"Payload (for orbital attempt)\", \"separation_year\": \"1979\", \"cumsum\": 733}, {\"type_coarse_desc\": \"Payload (for orbital attempt)\", \"separation_year\": \"1980\", \"cumsum\": 787}, {\"type_coarse_desc\": \"Payload (for orbital attempt)\", \"separation_year\": \"1981\", \"cumsum\": 866}, {\"type_coarse_desc\": \"Payload (for orbital attempt)\", \"separation_year\": \"1982\", \"cumsum\": 932}, {\"type_coarse_desc\": \"Payload (for orbital attempt)\", \"separation_year\": \"1983\", \"cumsum\": 1007}, {\"type_coarse_desc\": \"Payload (for orbital attempt)\", \"separation_year\": \"1984\", \"cumsum\": 1090}, {\"type_coarse_desc\": \"Payload (for orbital attempt)\", \"separation_year\": \"1985\", \"cumsum\": 1170}, {\"type_coarse_desc\": \"Payload (for orbital attempt)\", \"separation_year\": \"1986\", \"cumsum\": 1246}, {\"type_coarse_desc\": \"Payload (for orbital attempt)\", \"separation_year\": \"1987\", \"cumsum\": 1314}, {\"type_coarse_desc\": \"Payload (for orbital attempt)\", \"separation_year\": \"1988\", \"cumsum\": 1386}, {\"type_coarse_desc\": \"Payload (for orbital attempt)\", \"separation_year\": \"1989\", \"cumsum\": 1456}, {\"type_coarse_desc\": \"Payload (for orbital attempt)\", \"separation_year\": \"1990\", \"cumsum\": 1545}, {\"type_coarse_desc\": \"Payload (for orbital attempt)\", \"separation_year\": \"1991\", \"cumsum\": 1624}, {\"type_coarse_desc\": \"Payload (for orbital attempt)\", \"separation_year\": \"1992\", \"cumsum\": 1692}, {\"type_coarse_desc\": \"Payload (for orbital attempt)\", \"separation_year\": \"1993\", \"cumsum\": 1755}, {\"type_coarse_desc\": \"Payload (for orbital attempt)\", \"separation_year\": \"1994\", \"cumsum\": 1823}, {\"type_coarse_desc\": \"Payload (for orbital attempt)\", \"separation_year\": \"1995\", \"cumsum\": 1871}, {\"type_coarse_desc\": \"Payload (for orbital attempt)\", \"separation_year\": \"1996\", \"cumsum\": 1912}, {\"type_coarse_desc\": \"Payload (for orbital attempt)\", \"separation_year\": \"1997\", \"cumsum\": 1986}, {\"type_coarse_desc\": \"Payload (for orbital attempt)\", \"separation_year\": \"1998\", \"cumsum\": 2061}, {\"type_coarse_desc\": \"Payload (for orbital attempt)\", \"separation_year\": \"1999\", \"cumsum\": 2155}, {\"type_coarse_desc\": \"Payload (for orbital attempt)\", \"separation_year\": \"2000\", \"cumsum\": 2229}, {\"type_coarse_desc\": \"Payload (for orbital attempt)\", \"separation_year\": \"2001\", \"cumsum\": 2274}, {\"type_coarse_desc\": \"Payload (for orbital attempt)\", \"separation_year\": \"2002\", \"cumsum\": 2324}, {\"type_coarse_desc\": \"Payload (for orbital attempt)\", \"separation_year\": \"2003\", \"cumsum\": 2380}, {\"type_coarse_desc\": \"Payload (for orbital attempt)\", \"separation_year\": \"2004\", \"cumsum\": 2434}, {\"type_coarse_desc\": \"Payload (for orbital attempt)\", \"separation_year\": \"2005\", \"cumsum\": 2478}, {\"type_coarse_desc\": \"Payload (for orbital attempt)\", \"separation_year\": \"2006\", \"cumsum\": 2532}, {\"type_coarse_desc\": \"Payload (for orbital attempt)\", \"separation_year\": \"2007\", \"cumsum\": 2615}, {\"type_coarse_desc\": \"Payload (for orbital attempt)\", \"separation_year\": \"2008\", \"cumsum\": 2688}, {\"type_coarse_desc\": \"Payload (for orbital attempt)\", \"separation_year\": \"2009\", \"cumsum\": 2764}, {\"type_coarse_desc\": \"Payload (for orbital attempt)\", \"separation_year\": \"2010\", \"cumsum\": 2845}, {\"type_coarse_desc\": \"Payload (for orbital attempt)\", \"separation_year\": \"2011\", \"cumsum\": 2934}, {\"type_coarse_desc\": \"Payload (for orbital attempt)\", \"separation_year\": \"2012\", \"cumsum\": 3024}, {\"type_coarse_desc\": \"Payload (for orbital attempt)\", \"separation_year\": \"2013\", \"cumsum\": 3160}, {\"type_coarse_desc\": \"Payload (for orbital attempt)\", \"separation_year\": \"2014\", \"cumsum\": 3313}, {\"type_coarse_desc\": \"Payload (for orbital attempt)\", \"separation_year\": \"2015\", \"cumsum\": 3459}, {\"type_coarse_desc\": \"Payload (for orbital attempt)\", \"separation_year\": \"2016\", \"cumsum\": 3603}, {\"type_coarse_desc\": \"Payload (for orbital attempt)\", \"separation_year\": \"2017\", \"cumsum\": 3965}, {\"type_coarse_desc\": \"Payload (for orbital attempt)\", \"separation_year\": \"2018\", \"cumsum\": 4349}, {\"type_coarse_desc\": \"Payload (for orbital attempt)\", \"separation_year\": \"2019\", \"cumsum\": 4682}, {\"type_coarse_desc\": \"Payload (for orbital attempt)\", \"separation_year\": \"2020\", \"cumsum\": 5838}, {\"type_coarse_desc\": \"Payload (for orbital attempt)\", \"separation_year\": \"2021\", \"cumsum\": 7580}, {\"type_coarse_desc\": \"Payload (for orbital attempt)\", \"separation_year\": \"2022\", \"cumsum\": 7820}, {\"type_coarse_desc\": \"Spurious catalog entry (was in SATCAT, perhaps in TLEs, but there was no real object)\", \"separation_year\": \"1998\", \"cumsum\": 1}]}}, {\"mode\": \"vega-lite\"});\n",
       "</script>"
      ],
      "text/plain": [
       "alt.Chart(...)"
      ]
     },
     "execution_count": 604,
     "metadata": {},
     "output_type": "execute_result"
    }
   ],
   "source": [
    "alt.Chart(merged_cumsum).mark_bar().encode(\n",
    "    x=\"separation_year\", y=\"cumsum\", color=\"type_coarse_desc\"\n",
    ").properties(width=650, height=350)"
   ]
  },
  {
   "cell_type": "code",
   "execution_count": null,
   "id": "5fa02593-3496-4733-bb5a-91e9813fde00",
   "metadata": {},
   "outputs": [],
   "source": []
  },
  {
   "cell_type": "code",
   "execution_count": null,
   "id": "d0e1aa3a-703d-406d-9482-8110db9c7c92",
   "metadata": {},
   "outputs": [],
   "source": []
  },
  {
   "cell_type": "code",
   "execution_count": null,
   "id": "b0c3347e-b39a-4025-acc3-85913de71005",
   "metadata": {},
   "outputs": [],
   "source": []
  },
  {
   "cell_type": "code",
   "execution_count": 271,
   "id": "f8830ba2-3376-4e9f-86c1-3e5ef5e92892",
   "metadata": {},
   "outputs": [],
   "source": [
    "active_grouped_cumsum.to_csv(\n",
    "    \"data/processed/active_debris_categories_cumsum.csv\", index=False\n",
    ")"
   ]
  }
 ],
 "metadata": {
  "kernelspec": {
   "display_name": "Python 3 (ipykernel)",
   "language": "python",
   "name": "python3"
  },
  "language_info": {
   "codemirror_mode": {
    "name": "ipython",
    "version": 3
   },
   "file_extension": ".py",
   "mimetype": "text/x-python",
   "name": "python",
   "nbconvert_exporter": "python",
   "pygments_lexer": "ipython3",
   "version": "3.8.9"
  }
 },
 "nbformat": 4,
 "nbformat_minor": 5
}
