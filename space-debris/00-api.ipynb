{
 "cells": [
  {
   "cell_type": "markdown",
   "id": "59b82710-3228-4432-ac66-272fbaffd17c",
   "metadata": {},
   "source": [
    "# DISCOSweb API"
   ]
  },
  {
   "cell_type": "markdown",
   "id": "475657c4-5d62-4708-a231-7aa311a9f018",
   "metadata": {},
   "source": [
    "### Import Python tools and Jupyter configuration"
   ]
  },
  {
   "cell_type": "code",
   "execution_count": 1,
   "id": "a3e84e7b-0324-4176-aa50-bf338a8fbeed",
   "metadata": {},
   "outputs": [],
   "source": [
    "%load_ext lab_black"
   ]
  },
  {
   "cell_type": "code",
   "execution_count": 2,
   "id": "9009e2a2-7252-4a03-968a-754530342058",
   "metadata": {},
   "outputs": [],
   "source": [
    "import pandas as pd\n",
    "import geopandas as gpd\n",
    "import altair as alt\n",
    "from datetime import timedelta\n",
    "import numpy as np\n",
    "import requests"
   ]
  },
  {
   "cell_type": "code",
   "execution_count": 3,
   "id": "64b8fad9-23e0-480e-8d24-78d2ea04bcdd",
   "metadata": {},
   "outputs": [],
   "source": [
    "pd.options.display.max_columns = 100\n",
    "pd.options.display.max_rows = 1000\n",
    "pd.options.display.max_colwidth = None"
   ]
  },
  {
   "cell_type": "code",
   "execution_count": 4,
   "id": "1c3695ac-af24-49b6-8431-0fa51425efe6",
   "metadata": {},
   "outputs": [],
   "source": [
    "api_token = (\n",
    "    \"IjM4ZDM3MDUzLTczMGEtNDUzMS1hYTlhLTcwMzdmYjk4NzE3YSI.qo1egXV-Eo54sYK3F6xNuWtxRJE\"\n",
    ")"
   ]
  },
  {
   "cell_type": "code",
   "execution_count": 18,
   "id": "d03fd000-719f-4744-a93b-d40e9d59ed84",
   "metadata": {},
   "outputs": [],
   "source": [
    "from pprint import pprint\n",
    "import requests\n",
    "\n",
    "data = []\n",
    "\n",
    "URL = \"https://discosweb.esoc.esa.int\"\n",
    "token = api_token\n",
    "\n",
    "for r in range(1, 1000):\n",
    "\n",
    "    response = requests.get(\n",
    "        f\"{URL}/api/objects?page[number]={r}\",\n",
    "        headers={\n",
    "            \"Authorization\": f\"Bearer {token}\",\n",
    "            \"DiscosWeb-Api-Version\": \"2\",\n",
    "        },\n",
    "        params={\"sort\": \"-reentry.epoch\"},\n",
    "    )\n",
    "    data.append(response.json())"
   ]
  },
  {
   "cell_type": "code",
   "execution_count": null,
   "id": "0398be51-5167-4fc4-bd3c-71e63c2b5869",
   "metadata": {},
   "outputs": [],
   "source": []
  }
 ],
 "metadata": {
  "kernelspec": {
   "display_name": "Python 3 (ipykernel)",
   "language": "python",
   "name": "python3"
  },
  "language_info": {
   "codemirror_mode": {
    "name": "ipython",
    "version": 3
   },
   "file_extension": ".py",
   "mimetype": "text/x-python",
   "name": "python",
   "nbconvert_exporter": "python",
   "pygments_lexer": "ipython3",
   "version": "3.8.9"
  }
 },
 "nbformat": 4,
 "nbformat_minor": 5
}
