{
 "cells": [
  {
   "cell_type": "markdown",
   "id": "100b83c3-fe94-4d43-9c34-f831c2941790",
   "metadata": {},
   "source": [
    "# Space-Track.org boxscore"
   ]
  },
  {
   "cell_type": "code",
   "execution_count": 1,
   "id": "835f008f-fe55-4430-a270-6ec35ae84dfc",
   "metadata": {},
   "outputs": [],
   "source": [
    "%load_ext lab_black"
   ]
  },
  {
   "cell_type": "code",
   "execution_count": 2,
   "id": "f4145a4d-23f9-46b4-b4c9-52a3ba2ab2cb",
   "metadata": {},
   "outputs": [],
   "source": [
    "import pandas as pd\n",
    "import geopandas as gpd\n",
    "import altair as alt\n",
    "from datetime import timedelta\n",
    "import numpy as np\n",
    "import glob\n",
    "import json"
   ]
  },
  {
   "cell_type": "code",
   "execution_count": 3,
   "id": "be03bb9b-f4c5-4d4b-925c-9c4a1f531ac5",
   "metadata": {},
   "outputs": [],
   "source": [
    "pd.options.display.max_columns = 1000\n",
    "pd.options.display.max_rows = 1000\n",
    "pd.options.display.max_colwidth = None"
   ]
  },
  {
   "cell_type": "markdown",
   "id": "f644a84b-4542-4e82-8f62-28e392e58ee3",
   "metadata": {},
   "source": [
    "### API config"
   ]
  },
  {
   "cell_type": "code",
   "execution_count": 4,
   "id": "77a5d7b8-6cdc-4950-aff7-fb2168b65623",
   "metadata": {},
   "outputs": [],
   "source": [
    "# username = 'mstiles@grid.news'\n",
    "# password = 'thespacerace123'\n",
    "# output = 'json'"
   ]
  },
  {
   "cell_type": "code",
   "execution_count": 5,
   "id": "209146d8-9077-4c9e-8278-b7f90bb78a31",
   "metadata": {},
   "outputs": [
    {
     "name": "stdout",
     "output_type": "stream",
     "text": [
      "\"\""
     ]
    }
   ],
   "source": [
    "!curl -c 'params/cookies.txt' -b 'params/cookies.txt' 'https://www.space-track.org/ajaxauth/login' -d 'identity=mstiles@grid.news&password=thespacerace123'"
   ]
  },
  {
   "cell_type": "markdown",
   "id": "8dd7e809-49b6-4e71-94fd-4b6a95427341",
   "metadata": {},
   "source": [
    "### Boxscore"
   ]
  },
  {
   "cell_type": "code",
   "execution_count": 6,
   "id": "aff5b678-2c83-4235-b316-f21dc771ae56",
   "metadata": {},
   "outputs": [
    {
     "name": "stdout",
     "output_type": "stream",
     "text": [
      "  % Total    % Received % Xferd  Average Speed   Time    Time     Time  Current\n",
      "                                 Dload  Upload   Total   Spent    Left  Speed\n",
      "100 35078  100 35078    0     0   106k      0 --:--:-- --:--:-- --:--:--  109k\n"
     ]
    }
   ],
   "source": [
    "!curl --limit-rate 100K --cookie 'params/cookies.txt' 'https://www.space-track.org/basicspacedata/query/class/boxscore' -o 'data/raw/boxscore.json'"
   ]
  },
  {
   "cell_type": "code",
   "execution_count": 7,
   "id": "1b59f3d0-aec1-425d-aada-6a614fcff23c",
   "metadata": {},
   "outputs": [],
   "source": [
    "boxscore = pd.read_json(\"data/raw/boxscore.json\")"
   ]
  },
  {
   "cell_type": "code",
   "execution_count": 8,
   "id": "6fe675b4-ce21-47da-a267-b7da1632fb53",
   "metadata": {},
   "outputs": [],
   "source": [
    "boxscore.columns = boxscore.columns.str.lower()"
   ]
  },
  {
   "cell_type": "code",
   "execution_count": 9,
   "id": "1536a244-6687-4c61-b630-4c799683dd5d",
   "metadata": {},
   "outputs": [],
   "source": [
    "boxscore = boxscore[boxscore[\"country\"] != \"ALL\"].sort_values(\n",
    "    \"decayed_total_count\", ascending=False\n",
    ")"
   ]
  },
  {
   "cell_type": "code",
   "execution_count": 10,
   "id": "671af5be-b68e-4c8a-8c52-661dd74e2e07",
   "metadata": {},
   "outputs": [],
   "source": [
    "boxscore.country = (\n",
    "    boxscore.country.str.title()\n",
    "    .str.replace(\"Of\", \"of\", regex=False)\n",
    "    .str.replace(\"Peoples\", \"People's\", regex=False)\n",
    ")"
   ]
  },
  {
   "cell_type": "code",
   "execution_count": 11,
   "id": "b75a25d0-322b-4ee4-9af0-d48ca1801e2e",
   "metadata": {},
   "outputs": [
    {
     "data": {
      "text/plain": [
       "country                      United States of America\n",
       "spadoc_cd                                          US\n",
       "orbital_tba                                        16\n",
       "orbital_payload_count                            4012\n",
       "orbital_rocket_body_count                         725\n",
       "orbital_debris_count                             4477\n",
       "orbital_total_count                              9230\n",
       "decayed_payload_count                            1370\n",
       "decayed_rocket_body_count                         726\n",
       "decayed_debris_count                             4757\n",
       "decayed_total_count                              6853\n",
       "country_total                                   16083\n",
       "Name: 106, dtype: object"
      ]
     },
     "execution_count": 11,
     "metadata": {},
     "output_type": "execute_result"
    }
   ],
   "source": [
    "boxscore.iloc[1]"
   ]
  },
  {
   "cell_type": "code",
   "execution_count": 12,
   "id": "6612a5cb-2b69-4810-a052-e428c21f6620",
   "metadata": {},
   "outputs": [],
   "source": [
    "boxscore_slim = boxscore[\n",
    "    [\n",
    "        \"country\",\n",
    "        \"spadoc_cd\",\n",
    "        \"orbital_tba\",\n",
    "        \"orbital_payload_count\",\n",
    "        \"orbital_rocket_body_count\",\n",
    "        \"orbital_debris_count\",\n",
    "        \"orbital_total_count\",\n",
    "    ]\n",
    "].sort_values(\"orbital_debris_count\", ascending=False)"
   ]
  },
  {
   "cell_type": "code",
   "execution_count": 13,
   "id": "6f0abf5a-4374-40f4-8542-2ef450bfe36b",
   "metadata": {},
   "outputs": [],
   "source": [
    "boxscore_slim[\"country\"] = (\n",
    "    boxscore_slim[\"country\"]\n",
    "    .str.replace(\"Commonwealth of Independent States\", \"Russia\", regex=False)\n",
    "    .str.replace(\"People's Republic of China\", \"China\", regex=False)\n",
    "    .str.replace(\"To Be Determined/Unknown\", \"Unknown\", regex=False)\n",
    "    .str.replace(\n",
    "        \"International Telecommunications Satellite Organization (Intelsat)\",\n",
    "        \"Intelsat\",\n",
    "        regex=False,\n",
    "    )\n",
    "    .str.replace(\n",
    "        \"Orbital Telecommunications Satellite (Globalstar)\",\n",
    "        \"Orbital Telecommunications Satellite\",\n",
    "        regex=False,\n",
    "    )\n",
    "    .str.replace(\n",
    "        \"European Telecommunications Satellite Organization (Eutelsat)\",\n",
    "        \"European Telecommunications Satellite Organization\",\n",
    "        regex=False,\n",
    "    )\n",
    "    .str.replace(\n",
    "        \"United States of America\",\n",
    "        \"United States\",\n",
    "        regex=False,\n",
    "    )\n",
    ")"
   ]
  },
  {
   "cell_type": "code",
   "execution_count": 14,
   "id": "8f3c3b23-2ace-4440-88d8-2d80bd9fcd00",
   "metadata": {},
   "outputs": [
    {
     "data": {
      "text/html": [
       "<div>\n",
       "<style scoped>\n",
       "    .dataframe tbody tr th:only-of-type {\n",
       "        vertical-align: middle;\n",
       "    }\n",
       "\n",
       "    .dataframe tbody tr th {\n",
       "        vertical-align: top;\n",
       "    }\n",
       "\n",
       "    .dataframe thead th {\n",
       "        text-align: right;\n",
       "    }\n",
       "</style>\n",
       "<table border=\"1\" class=\"dataframe\">\n",
       "  <thead>\n",
       "    <tr style=\"text-align: right;\">\n",
       "      <th></th>\n",
       "      <th>country</th>\n",
       "      <th>spadoc_cd</th>\n",
       "      <th>orbital_tba</th>\n",
       "      <th>orbital_payload_count</th>\n",
       "      <th>orbital_rocket_body_count</th>\n",
       "      <th>orbital_debris_count</th>\n",
       "      <th>orbital_total_count</th>\n",
       "    </tr>\n",
       "  </thead>\n",
       "  <tbody>\n",
       "    <tr>\n",
       "      <th>18</th>\n",
       "      <td>Russia</td>\n",
       "      <td>CIS</td>\n",
       "      <td>5</td>\n",
       "      <td>1552</td>\n",
       "      <td>1048</td>\n",
       "      <td>6043</td>\n",
       "      <td>8648</td>\n",
       "    </tr>\n",
       "    <tr>\n",
       "      <th>106</th>\n",
       "      <td>United States</td>\n",
       "      <td>US</td>\n",
       "      <td>16</td>\n",
       "      <td>4012</td>\n",
       "      <td>725</td>\n",
       "      <td>4477</td>\n",
       "      <td>9230</td>\n",
       "    </tr>\n",
       "    <tr>\n",
       "      <th>77</th>\n",
       "      <td>China</td>\n",
       "      <td>PRC</td>\n",
       "      <td>82</td>\n",
       "      <td>517</td>\n",
       "      <td>195</td>\n",
       "      <td>3656</td>\n",
       "      <td>4450</td>\n",
       "    </tr>\n",
       "    <tr>\n",
       "      <th>32</th>\n",
       "      <td>France</td>\n",
       "      <td>FR</td>\n",
       "      <td>0</td>\n",
       "      <td>80</td>\n",
       "      <td>165</td>\n",
       "      <td>355</td>\n",
       "      <td>600</td>\n",
       "    </tr>\n",
       "    <tr>\n",
       "      <th>40</th>\n",
       "      <td>India</td>\n",
       "      <td>IND</td>\n",
       "      <td>0</td>\n",
       "      <td>103</td>\n",
       "      <td>40</td>\n",
       "      <td>75</td>\n",
       "      <td>218</td>\n",
       "    </tr>\n",
       "    <tr>\n",
       "      <th>49</th>\n",
       "      <td>Japan</td>\n",
       "      <td>JPN</td>\n",
       "      <td>6</td>\n",
       "      <td>205</td>\n",
       "      <td>62</td>\n",
       "      <td>54</td>\n",
       "      <td>327</td>\n",
       "    </tr>\n",
       "    <tr>\n",
       "      <th>25</th>\n",
       "      <td>European Space Agency</td>\n",
       "      <td>ESA</td>\n",
       "      <td>0</td>\n",
       "      <td>96</td>\n",
       "      <td>7</td>\n",
       "      <td>53</td>\n",
       "      <td>156</td>\n",
       "    </tr>\n",
       "    <tr>\n",
       "      <th>16</th>\n",
       "      <td>China/Brazil</td>\n",
       "      <td>CHBZ</td>\n",
       "      <td>0</td>\n",
       "      <td>4</td>\n",
       "      <td>0</td>\n",
       "      <td>37</td>\n",
       "      <td>41</td>\n",
       "    </tr>\n",
       "    <tr>\n",
       "      <th>72</th>\n",
       "      <td>Orbital Telecommunications Satellite</td>\n",
       "      <td>ORB</td>\n",
       "      <td>0</td>\n",
       "      <td>58</td>\n",
       "      <td>0</td>\n",
       "      <td>17</td>\n",
       "      <td>75</td>\n",
       "    </tr>\n",
       "    <tr>\n",
       "      <th>28</th>\n",
       "      <td>European Organization For The Exploitation of Meteorological Satellites</td>\n",
       "      <td>EUME</td>\n",
       "      <td>0</td>\n",
       "      <td>9</td>\n",
       "      <td>0</td>\n",
       "      <td>8</td>\n",
       "      <td>17</td>\n",
       "    </tr>\n",
       "  </tbody>\n",
       "</table>\n",
       "</div>"
      ],
      "text/plain": [
       "                                                                     country  \\\n",
       "18                                                                    Russia   \n",
       "106                                                            United States   \n",
       "77                                                                     China   \n",
       "32                                                                    France   \n",
       "40                                                                     India   \n",
       "49                                                                     Japan   \n",
       "25                                                     European Space Agency   \n",
       "16                                                              China/Brazil   \n",
       "72                                      Orbital Telecommunications Satellite   \n",
       "28   European Organization For The Exploitation of Meteorological Satellites   \n",
       "\n",
       "    spadoc_cd  orbital_tba  orbital_payload_count  orbital_rocket_body_count  \\\n",
       "18        CIS            5                   1552                       1048   \n",
       "106        US           16                   4012                        725   \n",
       "77        PRC           82                    517                        195   \n",
       "32         FR            0                     80                        165   \n",
       "40        IND            0                    103                         40   \n",
       "49        JPN            6                    205                         62   \n",
       "25        ESA            0                     96                          7   \n",
       "16       CHBZ            0                      4                          0   \n",
       "72        ORB            0                     58                          0   \n",
       "28       EUME            0                      9                          0   \n",
       "\n",
       "     orbital_debris_count  orbital_total_count  \n",
       "18                   6043                 8648  \n",
       "106                  4477                 9230  \n",
       "77                   3656                 4450  \n",
       "32                    355                  600  \n",
       "40                     75                  218  \n",
       "49                     54                  327  \n",
       "25                     53                  156  \n",
       "16                     37                   41  \n",
       "72                     17                   75  \n",
       "28                      8                   17  "
      ]
     },
     "execution_count": 14,
     "metadata": {},
     "output_type": "execute_result"
    }
   ],
   "source": [
    "boxscore_slim.head(10)"
   ]
  },
  {
   "cell_type": "code",
   "execution_count": 15,
   "id": "c72ee168-c33d-46ba-a952-99809a7251e7",
   "metadata": {},
   "outputs": [],
   "source": [
    "boxscore_graphic = (\n",
    "    boxscore_slim[[\"country\", \"orbital_total_count\"]]\n",
    "    .sort_values(\"orbital_total_count\", ascending=False)\n",
    "    .reset_index(drop=True)\n",
    ")"
   ]
  },
  {
   "cell_type": "code",
   "execution_count": 16,
   "id": "12321371-72b7-45d1-9a4c-d2207a8a637c",
   "metadata": {},
   "outputs": [],
   "source": [
    "boxscore_graphic = boxscore_graphic[boxscore_graphic[\"country\"] != \"Unknown\"]"
   ]
  },
  {
   "cell_type": "code",
   "execution_count": 17,
   "id": "9e91d09b-6f41-41cc-8a76-2853697eee1e",
   "metadata": {},
   "outputs": [
    {
     "data": {
      "text/html": [
       "<div>\n",
       "<style scoped>\n",
       "    .dataframe tbody tr th:only-of-type {\n",
       "        vertical-align: middle;\n",
       "    }\n",
       "\n",
       "    .dataframe tbody tr th {\n",
       "        vertical-align: top;\n",
       "    }\n",
       "\n",
       "    .dataframe thead th {\n",
       "        text-align: right;\n",
       "    }\n",
       "</style>\n",
       "<table border=\"1\" class=\"dataframe\">\n",
       "  <thead>\n",
       "    <tr style=\"text-align: right;\">\n",
       "      <th></th>\n",
       "      <th>country</th>\n",
       "      <th>orbital_total_count</th>\n",
       "    </tr>\n",
       "  </thead>\n",
       "  <tbody>\n",
       "    <tr>\n",
       "      <th>0</th>\n",
       "      <td>United States</td>\n",
       "      <td>9230</td>\n",
       "    </tr>\n",
       "    <tr>\n",
       "      <th>1</th>\n",
       "      <td>Russia</td>\n",
       "      <td>8648</td>\n",
       "    </tr>\n",
       "    <tr>\n",
       "      <th>2</th>\n",
       "      <td>China</td>\n",
       "      <td>4450</td>\n",
       "    </tr>\n",
       "    <tr>\n",
       "      <th>3</th>\n",
       "      <td>France</td>\n",
       "      <td>600</td>\n",
       "    </tr>\n",
       "    <tr>\n",
       "      <th>4</th>\n",
       "      <td>United Kingdom</td>\n",
       "      <td>449</td>\n",
       "    </tr>\n",
       "    <tr>\n",
       "      <th>5</th>\n",
       "      <td>Japan</td>\n",
       "      <td>327</td>\n",
       "    </tr>\n",
       "    <tr>\n",
       "      <th>6</th>\n",
       "      <td>India</td>\n",
       "      <td>218</td>\n",
       "    </tr>\n",
       "    <tr>\n",
       "      <th>7</th>\n",
       "      <td>European Space Agency</td>\n",
       "      <td>156</td>\n",
       "    </tr>\n",
       "    <tr>\n",
       "      <th>9</th>\n",
       "      <td>Intelsat</td>\n",
       "      <td>92</td>\n",
       "    </tr>\n",
       "    <tr>\n",
       "      <th>10</th>\n",
       "      <td>Globalstar</td>\n",
       "      <td>85</td>\n",
       "    </tr>\n",
       "  </tbody>\n",
       "</table>\n",
       "</div>"
      ],
      "text/plain": [
       "                  country  orbital_total_count\n",
       "0           United States                 9230\n",
       "1                  Russia                 8648\n",
       "2                   China                 4450\n",
       "3                  France                  600\n",
       "4          United Kingdom                  449\n",
       "5                   Japan                  327\n",
       "6                   India                  218\n",
       "7   European Space Agency                  156\n",
       "9                Intelsat                   92\n",
       "10             Globalstar                   85"
      ]
     },
     "execution_count": 17,
     "metadata": {},
     "output_type": "execute_result"
    }
   ],
   "source": [
    "boxscore_graphic.head(10)"
   ]
  },
  {
   "cell_type": "code",
   "execution_count": 18,
   "id": "9feec5ff-0420-47d9-ba56-ef513dc63313",
   "metadata": {},
   "outputs": [
    {
     "data": {
      "text/plain": [
       "25371"
      ]
     },
     "execution_count": 18,
     "metadata": {},
     "output_type": "execute_result"
    }
   ],
   "source": [
    "boxscore_graphic[\"orbital_total_count\"].sum()"
   ]
  },
  {
   "cell_type": "markdown",
   "id": "aebd444f-b89b-4478-bcc7-fe8916c7c308",
   "metadata": {},
   "source": [
    "### Export"
   ]
  },
  {
   "cell_type": "code",
   "execution_count": 19,
   "id": "451bd77a-727a-494f-94c7-357d2455fe83",
   "metadata": {},
   "outputs": [],
   "source": [
    "boxscore_graphic.head(10).to_csv(\"data/processed/boxscore_graphic.csv\", index=False)"
   ]
  }
 ],
 "metadata": {
  "kernelspec": {
   "display_name": "Python 3 (ipykernel)",
   "language": "python",
   "name": "python3"
  },
  "language_info": {
   "codemirror_mode": {
    "name": "ipython",
    "version": 3
   },
   "file_extension": ".py",
   "mimetype": "text/x-python",
   "name": "python",
   "nbconvert_exporter": "python",
   "pygments_lexer": "ipython3",
   "version": "3.8.9"
  }
 },
 "nbformat": 4,
 "nbformat_minor": 5
}
