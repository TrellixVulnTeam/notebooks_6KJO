{
 "cells": [
  {
   "cell_type": "markdown",
   "id": "100b83c3-fe94-4d43-9c34-f831c2941790",
   "metadata": {},
   "source": [
    "# Get SPACE TRACK data"
   ]
  },
  {
   "cell_type": "code",
   "execution_count": 1,
   "id": "835f008f-fe55-4430-a270-6ec35ae84dfc",
   "metadata": {},
   "outputs": [],
   "source": [
    "%load_ext lab_black"
   ]
  },
  {
   "cell_type": "code",
   "execution_count": 2,
   "id": "f4145a4d-23f9-46b4-b4c9-52a3ba2ab2cb",
   "metadata": {},
   "outputs": [],
   "source": [
    "import pandas as pd\n",
    "import geopandas as gpd\n",
    "import altair as alt\n",
    "from datetime import timedelta\n",
    "import numpy as np\n",
    "import glob\n",
    "import json"
   ]
  },
  {
   "cell_type": "code",
   "execution_count": 3,
   "id": "be03bb9b-f4c5-4d4b-925c-9c4a1f531ac5",
   "metadata": {},
   "outputs": [],
   "source": [
    "pd.options.display.max_columns = 1000\n",
    "pd.options.display.max_rows = 1000\n",
    "pd.options.display.max_colwidth = None"
   ]
  },
  {
   "cell_type": "markdown",
   "id": "f644a84b-4542-4e82-8f62-28e392e58ee3",
   "metadata": {},
   "source": [
    "### API config"
   ]
  },
  {
   "cell_type": "code",
   "execution_count": 4,
   "id": "77a5d7b8-6cdc-4950-aff7-fb2168b65623",
   "metadata": {},
   "outputs": [],
   "source": [
    "# username = 'mstiles@grid.news'\n",
    "# password = 'thespacerace123'\n",
    "# output = 'json'"
   ]
  },
  {
   "cell_type": "code",
   "execution_count": 5,
   "id": "209146d8-9077-4c9e-8278-b7f90bb78a31",
   "metadata": {},
   "outputs": [
    {
     "name": "stdout",
     "output_type": "stream",
     "text": [
      "\"\""
     ]
    }
   ],
   "source": [
    "!curl -c 'params/cookies.txt' -b 'params/cookies.txt' 'https://www.space-track.org/ajaxauth/login' -d 'identity=mstiles@grid.news&password=thespacerace123'"
   ]
  },
  {
   "cell_type": "markdown",
   "id": "8dd7e809-49b6-4e71-94fd-4b6a95427341",
   "metadata": {},
   "source": [
    "### Boxscore"
   ]
  },
  {
   "cell_type": "code",
   "execution_count": 6,
   "id": "aff5b678-2c83-4235-b316-f21dc771ae56",
   "metadata": {},
   "outputs": [
    {
     "name": "stdout",
     "output_type": "stream",
     "text": [
      "  % Total    % Received % Xferd  Average Speed   Time    Time     Time  Current\n",
      "                                 Dload  Upload   Total   Spent    Left  Speed\n",
      "100 35078  100 35078    0     0   105k      0 --:--:-- --:--:-- --:--:--  108k\n"
     ]
    }
   ],
   "source": [
    "!curl --limit-rate 100K --cookie 'params/cookies.txt' 'https://www.space-track.org/basicspacedata/query/class/boxscore' -o 'data/raw/boxscore.json'"
   ]
  },
  {
   "cell_type": "code",
   "execution_count": 7,
   "id": "1b59f3d0-aec1-425d-aada-6a614fcff23c",
   "metadata": {},
   "outputs": [],
   "source": [
    "boxscore = pd.read_json(\"data/raw/boxscore.json\")"
   ]
  },
  {
   "cell_type": "code",
   "execution_count": 8,
   "id": "6fe675b4-ce21-47da-a267-b7da1632fb53",
   "metadata": {},
   "outputs": [],
   "source": [
    "boxscore.columns = boxscore.columns.str.lower()"
   ]
  },
  {
   "cell_type": "code",
   "execution_count": 9,
   "id": "1536a244-6687-4c61-b630-4c799683dd5d",
   "metadata": {},
   "outputs": [],
   "source": [
    "boxscore = boxscore[boxscore[\"country\"] != \"ALL\"].sort_values(\n",
    "    \"decayed_total_count\", ascending=False\n",
    ")"
   ]
  },
  {
   "cell_type": "code",
   "execution_count": 10,
   "id": "671af5be-b68e-4c8a-8c52-661dd74e2e07",
   "metadata": {},
   "outputs": [],
   "source": [
    "boxscore.country = (\n",
    "    boxscore.country.str.title()\n",
    "    .str.replace(\"Of\", \"of\", regex=False)\n",
    "    .str.replace(\"Peoples\", \"People's\", regex=False)\n",
    ")"
   ]
  },
  {
   "cell_type": "code",
   "execution_count": 11,
   "id": "b75a25d0-322b-4ee4-9af0-d48ca1801e2e",
   "metadata": {},
   "outputs": [
    {
     "data": {
      "text/plain": [
       "country                      United States of America\n",
       "spadoc_cd                                          US\n",
       "orbital_tba                                        16\n",
       "orbital_payload_count                            4012\n",
       "orbital_rocket_body_count                         725\n",
       "orbital_debris_count                             4477\n",
       "orbital_total_count                              9230\n",
       "decayed_payload_count                            1370\n",
       "decayed_rocket_body_count                         726\n",
       "decayed_debris_count                             4757\n",
       "decayed_total_count                              6853\n",
       "country_total                                   16083\n",
       "Name: 106, dtype: object"
      ]
     },
     "execution_count": 11,
     "metadata": {},
     "output_type": "execute_result"
    }
   ],
   "source": [
    "boxscore.iloc[1]"
   ]
  },
  {
   "cell_type": "code",
   "execution_count": 12,
   "id": "4705acb2-53ce-4146-80fc-adfd99292a57",
   "metadata": {},
   "outputs": [
    {
     "data": {
      "text/html": [
       "<div>\n",
       "<style scoped>\n",
       "    .dataframe tbody tr th:only-of-type {\n",
       "        vertical-align: middle;\n",
       "    }\n",
       "\n",
       "    .dataframe tbody tr th {\n",
       "        vertical-align: top;\n",
       "    }\n",
       "\n",
       "    .dataframe thead th {\n",
       "        text-align: right;\n",
       "    }\n",
       "</style>\n",
       "<table border=\"1\" class=\"dataframe\">\n",
       "  <thead>\n",
       "    <tr style=\"text-align: right;\">\n",
       "      <th></th>\n",
       "      <th>country</th>\n",
       "      <th>spadoc_cd</th>\n",
       "      <th>orbital_tba</th>\n",
       "      <th>orbital_payload_count</th>\n",
       "      <th>orbital_rocket_body_count</th>\n",
       "      <th>orbital_debris_count</th>\n",
       "      <th>orbital_total_count</th>\n",
       "    </tr>\n",
       "  </thead>\n",
       "  <tbody>\n",
       "    <tr>\n",
       "      <th>18</th>\n",
       "      <td>Commonwealth of Independent States</td>\n",
       "      <td>CIS</td>\n",
       "      <td>5</td>\n",
       "      <td>1552</td>\n",
       "      <td>1048</td>\n",
       "      <td>6043</td>\n",
       "      <td>8648</td>\n",
       "    </tr>\n",
       "    <tr>\n",
       "      <th>106</th>\n",
       "      <td>United States of America</td>\n",
       "      <td>US</td>\n",
       "      <td>16</td>\n",
       "      <td>4012</td>\n",
       "      <td>725</td>\n",
       "      <td>4477</td>\n",
       "      <td>9230</td>\n",
       "    </tr>\n",
       "    <tr>\n",
       "      <th>77</th>\n",
       "      <td>People's Republic of China</td>\n",
       "      <td>PRC</td>\n",
       "      <td>82</td>\n",
       "      <td>517</td>\n",
       "      <td>195</td>\n",
       "      <td>3656</td>\n",
       "      <td>4450</td>\n",
       "    </tr>\n",
       "    <tr>\n",
       "      <th>32</th>\n",
       "      <td>France</td>\n",
       "      <td>FR</td>\n",
       "      <td>0</td>\n",
       "      <td>80</td>\n",
       "      <td>165</td>\n",
       "      <td>355</td>\n",
       "      <td>600</td>\n",
       "    </tr>\n",
       "    <tr>\n",
       "      <th>40</th>\n",
       "      <td>India</td>\n",
       "      <td>IND</td>\n",
       "      <td>0</td>\n",
       "      <td>103</td>\n",
       "      <td>40</td>\n",
       "      <td>75</td>\n",
       "      <td>218</td>\n",
       "    </tr>\n",
       "    <tr>\n",
       "      <th>49</th>\n",
       "      <td>Japan</td>\n",
       "      <td>JPN</td>\n",
       "      <td>6</td>\n",
       "      <td>205</td>\n",
       "      <td>62</td>\n",
       "      <td>54</td>\n",
       "      <td>327</td>\n",
       "    </tr>\n",
       "    <tr>\n",
       "      <th>25</th>\n",
       "      <td>European Space Agency</td>\n",
       "      <td>ESA</td>\n",
       "      <td>0</td>\n",
       "      <td>96</td>\n",
       "      <td>7</td>\n",
       "      <td>53</td>\n",
       "      <td>156</td>\n",
       "    </tr>\n",
       "    <tr>\n",
       "      <th>16</th>\n",
       "      <td>People's Republic of China/Brazil</td>\n",
       "      <td>CHBZ</td>\n",
       "      <td>0</td>\n",
       "      <td>4</td>\n",
       "      <td>0</td>\n",
       "      <td>37</td>\n",
       "      <td>41</td>\n",
       "    </tr>\n",
       "    <tr>\n",
       "      <th>72</th>\n",
       "      <td>Orbital Telecommunications Satellite (Globalstar)</td>\n",
       "      <td>ORB</td>\n",
       "      <td>0</td>\n",
       "      <td>58</td>\n",
       "      <td>0</td>\n",
       "      <td>17</td>\n",
       "      <td>75</td>\n",
       "    </tr>\n",
       "    <tr>\n",
       "      <th>28</th>\n",
       "      <td>European Organization For The Exploitation of Meteorological Satellites</td>\n",
       "      <td>EUME</td>\n",
       "      <td>0</td>\n",
       "      <td>9</td>\n",
       "      <td>0</td>\n",
       "      <td>8</td>\n",
       "      <td>17</td>\n",
       "    </tr>\n",
       "    <tr>\n",
       "      <th>15</th>\n",
       "      <td>Canada</td>\n",
       "      <td>CA</td>\n",
       "      <td>0</td>\n",
       "      <td>75</td>\n",
       "      <td>0</td>\n",
       "      <td>5</td>\n",
       "      <td>80</td>\n",
       "    </tr>\n",
       "    <tr>\n",
       "      <th>88</th>\n",
       "      <td>Sea Launch Demo</td>\n",
       "      <td>SEAL</td>\n",
       "      <td>0</td>\n",
       "      <td>1</td>\n",
       "      <td>30</td>\n",
       "      <td>3</td>\n",
       "      <td>34</td>\n",
       "    </tr>\n",
       "    <tr>\n",
       "      <th>36</th>\n",
       "      <td>Globalstar</td>\n",
       "      <td>GLOB</td>\n",
       "      <td>0</td>\n",
       "      <td>84</td>\n",
       "      <td>0</td>\n",
       "      <td>1</td>\n",
       "      <td>85</td>\n",
       "    </tr>\n",
       "    <tr>\n",
       "      <th>4</th>\n",
       "      <td>Argentina</td>\n",
       "      <td>ARGN</td>\n",
       "      <td>0</td>\n",
       "      <td>39</td>\n",
       "      <td>0</td>\n",
       "      <td>1</td>\n",
       "      <td>40</td>\n",
       "    </tr>\n",
       "    <tr>\n",
       "      <th>47</th>\n",
       "      <td>International Telecommunications Satellite Organization (Intelsat)</td>\n",
       "      <td>ITSO</td>\n",
       "      <td>0</td>\n",
       "      <td>91</td>\n",
       "      <td>0</td>\n",
       "      <td>1</td>\n",
       "      <td>92</td>\n",
       "    </tr>\n",
       "    <tr>\n",
       "      <th>34</th>\n",
       "      <td>Germany</td>\n",
       "      <td>GER</td>\n",
       "      <td>0</td>\n",
       "      <td>79</td>\n",
       "      <td>0</td>\n",
       "      <td>1</td>\n",
       "      <td>80</td>\n",
       "    </tr>\n",
       "    <tr>\n",
       "      <th>45</th>\n",
       "      <td>International Space Station</td>\n",
       "      <td>ISS</td>\n",
       "      <td>0</td>\n",
       "      <td>5</td>\n",
       "      <td>0</td>\n",
       "      <td>1</td>\n",
       "      <td>6</td>\n",
       "    </tr>\n",
       "    <tr>\n",
       "      <th>26</th>\n",
       "      <td>European Space Research Organization</td>\n",
       "      <td>ESRO</td>\n",
       "      <td>0</td>\n",
       "      <td>0</td>\n",
       "      <td>0</td>\n",
       "      <td>0</td>\n",
       "      <td>0</td>\n",
       "    </tr>\n",
       "    <tr>\n",
       "      <th>5</th>\n",
       "      <td>Austria</td>\n",
       "      <td>ASRA</td>\n",
       "      <td>0</td>\n",
       "      <td>3</td>\n",
       "      <td>0</td>\n",
       "      <td>0</td>\n",
       "      <td>3</td>\n",
       "    </tr>\n",
       "    <tr>\n",
       "      <th>53</th>\n",
       "      <td>Laos</td>\n",
       "      <td>LAOS</td>\n",
       "      <td>0</td>\n",
       "      <td>1</td>\n",
       "      <td>0</td>\n",
       "      <td>0</td>\n",
       "      <td>1</td>\n",
       "    </tr>\n",
       "  </tbody>\n",
       "</table>\n",
       "</div>"
      ],
      "text/plain": [
       "                                                                     country  \\\n",
       "18                                        Commonwealth of Independent States   \n",
       "106                                                 United States of America   \n",
       "77                                                People's Republic of China   \n",
       "32                                                                    France   \n",
       "40                                                                     India   \n",
       "49                                                                     Japan   \n",
       "25                                                     European Space Agency   \n",
       "16                                         People's Republic of China/Brazil   \n",
       "72                         Orbital Telecommunications Satellite (Globalstar)   \n",
       "28   European Organization For The Exploitation of Meteorological Satellites   \n",
       "15                                                                    Canada   \n",
       "88                                                           Sea Launch Demo   \n",
       "36                                                                Globalstar   \n",
       "4                                                                  Argentina   \n",
       "47        International Telecommunications Satellite Organization (Intelsat)   \n",
       "34                                                                   Germany   \n",
       "45                                               International Space Station   \n",
       "26                                      European Space Research Organization   \n",
       "5                                                                    Austria   \n",
       "53                                                                      Laos   \n",
       "\n",
       "    spadoc_cd  orbital_tba  orbital_payload_count  orbital_rocket_body_count  \\\n",
       "18        CIS            5                   1552                       1048   \n",
       "106        US           16                   4012                        725   \n",
       "77        PRC           82                    517                        195   \n",
       "32         FR            0                     80                        165   \n",
       "40        IND            0                    103                         40   \n",
       "49        JPN            6                    205                         62   \n",
       "25        ESA            0                     96                          7   \n",
       "16       CHBZ            0                      4                          0   \n",
       "72        ORB            0                     58                          0   \n",
       "28       EUME            0                      9                          0   \n",
       "15         CA            0                     75                          0   \n",
       "88       SEAL            0                      1                         30   \n",
       "36       GLOB            0                     84                          0   \n",
       "4        ARGN            0                     39                          0   \n",
       "47       ITSO            0                     91                          0   \n",
       "34        GER            0                     79                          0   \n",
       "45        ISS            0                      5                          0   \n",
       "26       ESRO            0                      0                          0   \n",
       "5        ASRA            0                      3                          0   \n",
       "53       LAOS            0                      1                          0   \n",
       "\n",
       "     orbital_debris_count  orbital_total_count  \n",
       "18                   6043                 8648  \n",
       "106                  4477                 9230  \n",
       "77                   3656                 4450  \n",
       "32                    355                  600  \n",
       "40                     75                  218  \n",
       "49                     54                  327  \n",
       "25                     53                  156  \n",
       "16                     37                   41  \n",
       "72                     17                   75  \n",
       "28                      8                   17  \n",
       "15                      5                   80  \n",
       "88                      3                   34  \n",
       "36                      1                   85  \n",
       "4                       1                   40  \n",
       "47                      1                   92  \n",
       "34                      1                   80  \n",
       "45                      1                    6  \n",
       "26                      0                    0  \n",
       "5                       0                    3  \n",
       "53                      0                    1  "
      ]
     },
     "execution_count": 12,
     "metadata": {},
     "output_type": "execute_result"
    }
   ],
   "source": [
    "boxscore_slim = boxscore[\n",
    "    [\n",
    "        \"country\",\n",
    "        \"spadoc_cd\",\n",
    "        \"orbital_tba\",\n",
    "        \"orbital_payload_count\",\n",
    "        \"orbital_rocket_body_count\",\n",
    "        \"orbital_debris_count\",\n",
    "        \"orbital_total_count\",\n",
    "    ]\n",
    "].sort_values(\"orbital_debris_count\", ascending=False)\n",
    "\n",
    "boxscore_slim.head(20)"
   ]
  },
  {
   "cell_type": "code",
   "execution_count": 13,
   "id": "0687b651-690c-4ee3-ab28-d92dcd3de12c",
   "metadata": {},
   "outputs": [
    {
     "data": {
      "text/plain": [
       "25515"
      ]
     },
     "execution_count": 13,
     "metadata": {},
     "output_type": "execute_result"
    }
   ],
   "source": [
    "boxscore[\"orbital_total_count\"].sum()"
   ]
  },
  {
   "cell_type": "code",
   "execution_count": 14,
   "id": "1fdd2ac1-fec4-461f-8a56-85c852dab4db",
   "metadata": {},
   "outputs": [],
   "source": [
    "countries = boxscore[[\"country\", \"spadoc_cd\"]]"
   ]
  },
  {
   "cell_type": "code",
   "execution_count": 15,
   "id": "84bfcdb2-873a-4525-a6af-639e8301d730",
   "metadata": {},
   "outputs": [
    {
     "data": {
      "text/html": [
       "<div>\n",
       "<style scoped>\n",
       "    .dataframe tbody tr th:only-of-type {\n",
       "        vertical-align: middle;\n",
       "    }\n",
       "\n",
       "    .dataframe tbody tr th {\n",
       "        vertical-align: top;\n",
       "    }\n",
       "\n",
       "    .dataframe thead th {\n",
       "        text-align: right;\n",
       "    }\n",
       "</style>\n",
       "<table border=\"1\" class=\"dataframe\">\n",
       "  <thead>\n",
       "    <tr style=\"text-align: right;\">\n",
       "      <th></th>\n",
       "      <th>country</th>\n",
       "      <th>spadoc_cd</th>\n",
       "    </tr>\n",
       "  </thead>\n",
       "  <tbody>\n",
       "    <tr>\n",
       "      <th>18</th>\n",
       "      <td>Commonwealth of Independent States</td>\n",
       "      <td>CIS</td>\n",
       "    </tr>\n",
       "    <tr>\n",
       "      <th>106</th>\n",
       "      <td>United States of America</td>\n",
       "      <td>US</td>\n",
       "    </tr>\n",
       "    <tr>\n",
       "      <th>77</th>\n",
       "      <td>People's Republic of China</td>\n",
       "      <td>PRC</td>\n",
       "    </tr>\n",
       "    <tr>\n",
       "      <th>32</th>\n",
       "      <td>France</td>\n",
       "      <td>FR</td>\n",
       "    </tr>\n",
       "    <tr>\n",
       "      <th>40</th>\n",
       "      <td>India</td>\n",
       "      <td>IND</td>\n",
       "    </tr>\n",
       "  </tbody>\n",
       "</table>\n",
       "</div>"
      ],
      "text/plain": [
       "                                country spadoc_cd\n",
       "18   Commonwealth of Independent States       CIS\n",
       "106            United States of America        US\n",
       "77           People's Republic of China       PRC\n",
       "32                               France        FR\n",
       "40                                India       IND"
      ]
     },
     "execution_count": 15,
     "metadata": {},
     "output_type": "execute_result"
    }
   ],
   "source": [
    "countries.head()"
   ]
  },
  {
   "cell_type": "code",
   "execution_count": 16,
   "id": "36cc31c0-62d0-413d-b3ad-f8bb831d2e83",
   "metadata": {},
   "outputs": [],
   "source": [
    "boxscore.to_csv(\"data/processed/boxscore.csv\", index=False)"
   ]
  },
  {
   "cell_type": "code",
   "execution_count": 17,
   "id": "06626392-7290-4062-a175-814e28706c2a",
   "metadata": {},
   "outputs": [
    {
     "name": "stdout",
     "output_type": "stream",
     "text": [
      "  % Total    % Received % Xferd  Average Speed   Time    Time     Time  Current\n",
      "                                 Dload  Upload   Total   Spent    Left  Speed\n",
      "100 23.0M  100 23.0M    0     0   100k      0  0:03:55  0:03:55 --:--:--  102k 0     0   100k      0  0:03:55  0:00:17  0:03:38   99k3:55  0:02:02  0:01:53  100k0:01:20   99k99k      0  0:03:56  0:03:20  0:00:36  100k6  0:03:32  0:00:24   99k  0    99k      0  0:03:56  0:03:45  0:00:11   99k\n",
      "curl: (6) Could not resolve host: data\n"
     ]
    }
   ],
   "source": [
    "!curl --limit-rate 100K --cookie 'params/cookies.txt'  'https://www.space-track.org/basicspacedata/query/class/satcat/format/json'  -O 'data/raw/all.json'"
   ]
  },
  {
   "cell_type": "code",
   "execution_count": 18,
   "id": "381264b5-21f8-4402-ad26-16056bb6b002",
   "metadata": {},
   "outputs": [],
   "source": [
    "with open(\"data/raw/data.json\", \"r\") as datafile:\n",
    "    data = json.load(datafile)\n",
    "all_df = pd.DataFrame(data)"
   ]
  },
  {
   "cell_type": "code",
   "execution_count": 19,
   "id": "d43c5849-f480-48e4-9050-185ba1fe48b7",
   "metadata": {},
   "outputs": [
    {
     "data": {
      "text/html": [
       "<div>\n",
       "<style scoped>\n",
       "    .dataframe tbody tr th:only-of-type {\n",
       "        vertical-align: middle;\n",
       "    }\n",
       "\n",
       "    .dataframe tbody tr th {\n",
       "        vertical-align: top;\n",
       "    }\n",
       "\n",
       "    .dataframe thead th {\n",
       "        text-align: right;\n",
       "    }\n",
       "</style>\n",
       "<table border=\"1\" class=\"dataframe\">\n",
       "  <thead>\n",
       "    <tr style=\"text-align: right;\">\n",
       "      <th></th>\n",
       "      <th>INTLDES</th>\n",
       "      <th>NORAD_CAT_ID</th>\n",
       "      <th>OBJECT_TYPE</th>\n",
       "      <th>SATNAME</th>\n",
       "      <th>COUNTRY</th>\n",
       "      <th>LAUNCH</th>\n",
       "      <th>SITE</th>\n",
       "      <th>DECAY</th>\n",
       "      <th>PERIOD</th>\n",
       "      <th>INCLINATION</th>\n",
       "      <th>APOGEE</th>\n",
       "      <th>PERIGEE</th>\n",
       "      <th>COMMENT</th>\n",
       "      <th>COMMENTCODE</th>\n",
       "      <th>RCSVALUE</th>\n",
       "      <th>RCS_SIZE</th>\n",
       "      <th>FILE</th>\n",
       "      <th>LAUNCH_YEAR</th>\n",
       "      <th>LAUNCH_NUM</th>\n",
       "      <th>LAUNCH_PIECE</th>\n",
       "      <th>CURRENT</th>\n",
       "      <th>OBJECT_NAME</th>\n",
       "      <th>OBJECT_ID</th>\n",
       "      <th>OBJECT_NUMBER</th>\n",
       "    </tr>\n",
       "  </thead>\n",
       "  <tbody>\n",
       "    <tr>\n",
       "      <th>0</th>\n",
       "      <td>1957-001A</td>\n",
       "      <td>1</td>\n",
       "      <td>ROCKET BODY</td>\n",
       "      <td>SL-1 R/B</td>\n",
       "      <td>CIS</td>\n",
       "      <td>1957-10-04</td>\n",
       "      <td>TTMTR</td>\n",
       "      <td>1957-12-01</td>\n",
       "      <td>96.19</td>\n",
       "      <td>65.10</td>\n",
       "      <td>938</td>\n",
       "      <td>214</td>\n",
       "      <td>None</td>\n",
       "      <td>4</td>\n",
       "      <td>0</td>\n",
       "      <td>LARGE</td>\n",
       "      <td>1</td>\n",
       "      <td>1957</td>\n",
       "      <td>1</td>\n",
       "      <td>A</td>\n",
       "      <td>Y</td>\n",
       "      <td>SL-1 R/B</td>\n",
       "      <td>1957-001A</td>\n",
       "      <td>1</td>\n",
       "    </tr>\n",
       "    <tr>\n",
       "      <th>1</th>\n",
       "      <td>1958-001A</td>\n",
       "      <td>4</td>\n",
       "      <td>PAYLOAD</td>\n",
       "      <td>EXPLORER 1</td>\n",
       "      <td>US</td>\n",
       "      <td>1958-02-01</td>\n",
       "      <td>AFETR</td>\n",
       "      <td>1970-03-31</td>\n",
       "      <td>88.48</td>\n",
       "      <td>33.15</td>\n",
       "      <td>215</td>\n",
       "      <td>183</td>\n",
       "      <td>None</td>\n",
       "      <td>None</td>\n",
       "      <td>0</td>\n",
       "      <td>None</td>\n",
       "      <td>1</td>\n",
       "      <td>1958</td>\n",
       "      <td>1</td>\n",
       "      <td>A</td>\n",
       "      <td>Y</td>\n",
       "      <td>EXPLORER 1</td>\n",
       "      <td>1958-001A</td>\n",
       "      <td>4</td>\n",
       "    </tr>\n",
       "    <tr>\n",
       "      <th>2</th>\n",
       "      <td>1958-003A</td>\n",
       "      <td>6</td>\n",
       "      <td>PAYLOAD</td>\n",
       "      <td>EXPLORER 3</td>\n",
       "      <td>US</td>\n",
       "      <td>1958-03-26</td>\n",
       "      <td>AFETR</td>\n",
       "      <td>1958-06-28</td>\n",
       "      <td>103.60</td>\n",
       "      <td>33.50</td>\n",
       "      <td>1739</td>\n",
       "      <td>117</td>\n",
       "      <td>None</td>\n",
       "      <td>5</td>\n",
       "      <td>0</td>\n",
       "      <td>None</td>\n",
       "      <td>1</td>\n",
       "      <td>1958</td>\n",
       "      <td>3</td>\n",
       "      <td>A</td>\n",
       "      <td>Y</td>\n",
       "      <td>EXPLORER 3</td>\n",
       "      <td>1958-003A</td>\n",
       "      <td>6</td>\n",
       "    </tr>\n",
       "    <tr>\n",
       "      <th>3</th>\n",
       "      <td>1958-004A</td>\n",
       "      <td>7</td>\n",
       "      <td>ROCKET BODY</td>\n",
       "      <td>SL-1 R/B</td>\n",
       "      <td>CIS</td>\n",
       "      <td>1958-05-15</td>\n",
       "      <td>TTMTR</td>\n",
       "      <td>1958-12-03</td>\n",
       "      <td>102.74</td>\n",
       "      <td>65.14</td>\n",
       "      <td>1571</td>\n",
       "      <td>206</td>\n",
       "      <td>None</td>\n",
       "      <td>None</td>\n",
       "      <td>0</td>\n",
       "      <td>None</td>\n",
       "      <td>1</td>\n",
       "      <td>1958</td>\n",
       "      <td>4</td>\n",
       "      <td>A</td>\n",
       "      <td>Y</td>\n",
       "      <td>SL-1 R/B</td>\n",
       "      <td>1958-004A</td>\n",
       "      <td>7</td>\n",
       "    </tr>\n",
       "    <tr>\n",
       "      <th>4</th>\n",
       "      <td>1958-004B</td>\n",
       "      <td>8</td>\n",
       "      <td>PAYLOAD</td>\n",
       "      <td>SPUTNIK 3</td>\n",
       "      <td>CIS</td>\n",
       "      <td>1958-05-15</td>\n",
       "      <td>TTMTR</td>\n",
       "      <td>1960-04-06</td>\n",
       "      <td>88.43</td>\n",
       "      <td>65.06</td>\n",
       "      <td>255</td>\n",
       "      <td>139</td>\n",
       "      <td>None</td>\n",
       "      <td>None</td>\n",
       "      <td>0</td>\n",
       "      <td>LARGE</td>\n",
       "      <td>1</td>\n",
       "      <td>1958</td>\n",
       "      <td>4</td>\n",
       "      <td>B</td>\n",
       "      <td>Y</td>\n",
       "      <td>SPUTNIK 3</td>\n",
       "      <td>1958-004B</td>\n",
       "      <td>8</td>\n",
       "    </tr>\n",
       "  </tbody>\n",
       "</table>\n",
       "</div>"
      ],
      "text/plain": [
       "     INTLDES NORAD_CAT_ID  OBJECT_TYPE     SATNAME COUNTRY      LAUNCH   SITE  \\\n",
       "0  1957-001A            1  ROCKET BODY    SL-1 R/B     CIS  1957-10-04  TTMTR   \n",
       "1  1958-001A            4      PAYLOAD  EXPLORER 1      US  1958-02-01  AFETR   \n",
       "2  1958-003A            6      PAYLOAD  EXPLORER 3      US  1958-03-26  AFETR   \n",
       "3  1958-004A            7  ROCKET BODY    SL-1 R/B     CIS  1958-05-15  TTMTR   \n",
       "4  1958-004B            8      PAYLOAD   SPUTNIK 3     CIS  1958-05-15  TTMTR   \n",
       "\n",
       "        DECAY  PERIOD INCLINATION APOGEE PERIGEE COMMENT COMMENTCODE RCSVALUE  \\\n",
       "0  1957-12-01   96.19       65.10    938     214    None           4        0   \n",
       "1  1970-03-31   88.48       33.15    215     183    None        None        0   \n",
       "2  1958-06-28  103.60       33.50   1739     117    None           5        0   \n",
       "3  1958-12-03  102.74       65.14   1571     206    None        None        0   \n",
       "4  1960-04-06   88.43       65.06    255     139    None        None        0   \n",
       "\n",
       "  RCS_SIZE FILE LAUNCH_YEAR LAUNCH_NUM LAUNCH_PIECE CURRENT OBJECT_NAME  \\\n",
       "0    LARGE    1        1957          1            A       Y    SL-1 R/B   \n",
       "1     None    1        1958          1            A       Y  EXPLORER 1   \n",
       "2     None    1        1958          3            A       Y  EXPLORER 3   \n",
       "3     None    1        1958          4            A       Y    SL-1 R/B   \n",
       "4    LARGE    1        1958          4            B       Y   SPUTNIK 3   \n",
       "\n",
       "   OBJECT_ID OBJECT_NUMBER  \n",
       "0  1957-001A             1  \n",
       "1  1958-001A             4  \n",
       "2  1958-003A             6  \n",
       "3  1958-004A             7  \n",
       "4  1958-004B             8  "
      ]
     },
     "execution_count": 19,
     "metadata": {},
     "output_type": "execute_result"
    }
   ],
   "source": [
    "all_df.head()"
   ]
  },
  {
   "cell_type": "code",
   "execution_count": 20,
   "id": "4a591a8c-f0dc-4f39-a246-47f111a60fc2",
   "metadata": {},
   "outputs": [],
   "source": [
    "all_df.columns = all_df.columns.str.lower()"
   ]
  },
  {
   "cell_type": "code",
   "execution_count": 21,
   "id": "267ecffc-7335-46de-b0ce-fa2d40a1c50a",
   "metadata": {},
   "outputs": [
    {
     "data": {
      "text/plain": [
       "51584"
      ]
     },
     "execution_count": 21,
     "metadata": {},
     "output_type": "execute_result"
    }
   ],
   "source": [
    "len(all_df)"
   ]
  },
  {
   "cell_type": "code",
   "execution_count": 22,
   "id": "538d91d2-a28c-49d6-949a-16290056e70a",
   "metadata": {},
   "outputs": [],
   "source": [
    "all_df[\"norad_cat_id\"] = all_df[\"norad_cat_id\"].astype(str)"
   ]
  },
  {
   "cell_type": "code",
   "execution_count": 23,
   "id": "3b276bbc-002e-4697-81b8-0c81eaf3b6ae",
   "metadata": {},
   "outputs": [
    {
     "data": {
      "text/plain": [
       "DEBRIS         33037\n",
       "PAYLOAD        11974\n",
       "ROCKET BODY     6305\n",
       "TBA              268\n",
       "Name: object_type, dtype: int64"
      ]
     },
     "execution_count": 23,
     "metadata": {},
     "output_type": "execute_result"
    }
   ],
   "source": [
    "all_df.object_type.value_counts()"
   ]
  },
  {
   "cell_type": "code",
   "execution_count": 24,
   "id": "382deeed-9e00-43ad-a3a3-6703f192f74f",
   "metadata": {},
   "outputs": [
    {
     "data": {
      "text/plain": [
       "SMALL     22351\n",
       "LARGE     11731\n",
       "MEDIUM     7430\n",
       "Name: rcs_size, dtype: int64"
      ]
     },
     "execution_count": 24,
     "metadata": {},
     "output_type": "execute_result"
    }
   ],
   "source": [
    "all_df.rcs_size.value_counts()"
   ]
  },
  {
   "cell_type": "code",
   "execution_count": 25,
   "id": "4891d472-6061-4a9c-b5f1-44ebe8738996",
   "metadata": {},
   "outputs": [],
   "source": [
    "active = all_df[all_df[\"decay\"].isnull()]"
   ]
  },
  {
   "cell_type": "code",
   "execution_count": 26,
   "id": "34e07f59-60c8-478d-9b9c-60b7150b192d",
   "metadata": {},
   "outputs": [
    {
     "data": {
      "text/plain": [
       "25515"
      ]
     },
     "execution_count": 26,
     "metadata": {},
     "output_type": "execute_result"
    }
   ],
   "source": [
    "len(active)"
   ]
  },
  {
   "cell_type": "code",
   "execution_count": 27,
   "id": "1d8cdeb6-72d0-4534-a6f0-06c80ee501f6",
   "metadata": {},
   "outputs": [
    {
     "data": {
      "text/html": [
       "<div>\n",
       "<style scoped>\n",
       "    .dataframe tbody tr th:only-of-type {\n",
       "        vertical-align: middle;\n",
       "    }\n",
       "\n",
       "    .dataframe tbody tr th {\n",
       "        vertical-align: top;\n",
       "    }\n",
       "\n",
       "    .dataframe thead th {\n",
       "        text-align: right;\n",
       "    }\n",
       "</style>\n",
       "<table border=\"1\" class=\"dataframe\">\n",
       "  <thead>\n",
       "    <tr style=\"text-align: right;\">\n",
       "      <th></th>\n",
       "      <th>intldes</th>\n",
       "      <th>norad_cat_id</th>\n",
       "      <th>object_type</th>\n",
       "      <th>satname</th>\n",
       "      <th>country</th>\n",
       "      <th>launch</th>\n",
       "      <th>site</th>\n",
       "      <th>decay</th>\n",
       "      <th>period</th>\n",
       "      <th>inclination</th>\n",
       "      <th>apogee</th>\n",
       "      <th>perigee</th>\n",
       "      <th>comment</th>\n",
       "      <th>commentcode</th>\n",
       "      <th>rcsvalue</th>\n",
       "      <th>rcs_size</th>\n",
       "      <th>file</th>\n",
       "      <th>launch_year</th>\n",
       "      <th>launch_num</th>\n",
       "      <th>launch_piece</th>\n",
       "      <th>current</th>\n",
       "      <th>object_name</th>\n",
       "      <th>object_id</th>\n",
       "      <th>object_number</th>\n",
       "    </tr>\n",
       "  </thead>\n",
       "  <tbody>\n",
       "    <tr>\n",
       "      <th>34454</th>\n",
       "      <td>1978-014F</td>\n",
       "      <td>12406</td>\n",
       "      <td>DEBRIS</td>\n",
       "      <td>KYOKKO 1 DEB</td>\n",
       "      <td>JPN</td>\n",
       "      <td>1978-02-04</td>\n",
       "      <td>KSCUT</td>\n",
       "      <td>None</td>\n",
       "      <td>132.10</td>\n",
       "      <td>65.89</td>\n",
       "      <td>3780</td>\n",
       "      <td>647</td>\n",
       "      <td>None</td>\n",
       "      <td>None</td>\n",
       "      <td>0</td>\n",
       "      <td>SMALL</td>\n",
       "      <td>7966</td>\n",
       "      <td>1978</td>\n",
       "      <td>14</td>\n",
       "      <td>F</td>\n",
       "      <td>Y</td>\n",
       "      <td>KYOKKO 1 DEB</td>\n",
       "      <td>1978-014F</td>\n",
       "      <td>12406</td>\n",
       "    </tr>\n",
       "  </tbody>\n",
       "</table>\n",
       "</div>"
      ],
      "text/plain": [
       "         intldes norad_cat_id object_type       satname country      launch  \\\n",
       "34454  1978-014F        12406      DEBRIS  KYOKKO 1 DEB     JPN  1978-02-04   \n",
       "\n",
       "        site decay  period inclination apogee perigee comment commentcode  \\\n",
       "34454  KSCUT  None  132.10       65.89   3780     647    None        None   \n",
       "\n",
       "      rcsvalue rcs_size  file launch_year launch_num launch_piece current  \\\n",
       "34454        0    SMALL  7966        1978         14            F       Y   \n",
       "\n",
       "        object_name  object_id object_number  \n",
       "34454  KYOKKO 1 DEB  1978-014F         12406  "
      ]
     },
     "execution_count": 27,
     "metadata": {},
     "output_type": "execute_result"
    }
   ],
   "source": [
    "active[active[\"norad_cat_id\"].str.contains(\"12406\")]"
   ]
  },
  {
   "cell_type": "code",
   "execution_count": 28,
   "id": "0986e3c6-e13e-479e-8c5e-86fed4615407",
   "metadata": {},
   "outputs": [],
   "source": [
    "active.to_csv(\"data/processed/space_track_active.csv\", index=False)"
   ]
  },
  {
   "cell_type": "code",
   "execution_count": 29,
   "id": "1701bb24-bd93-477a-b54b-e363e2af9604",
   "metadata": {},
   "outputs": [
    {
     "ename": "AttributeError",
     "evalue": "'SeriesGroupBy' object has no attribute 'launch_year'",
     "output_type": "error",
     "traceback": [
      "\u001b[0;31m---------------------------------------------------------------------------\u001b[0m",
      "\u001b[0;31mAttributeError\u001b[0m                            Traceback (most recent call last)",
      "Input \u001b[0;32mIn [29]\u001b[0m, in \u001b[0;36m<module>\u001b[0;34m\u001b[0m\n\u001b[1;32m      1\u001b[0m active_grouped \u001b[38;5;241m=\u001b[39m (\n\u001b[0;32m----> 2\u001b[0m     \u001b[43mactive\u001b[49m\u001b[38;5;241;43m.\u001b[39;49m\u001b[43mgroupby\u001b[49m\u001b[43m(\u001b[49m\u001b[43m[\u001b[49m\u001b[38;5;124;43m\"\u001b[39;49m\u001b[38;5;124;43mlaunch_year\u001b[39;49m\u001b[38;5;124;43m\"\u001b[39;49m\u001b[43m,\u001b[49m\u001b[43m \u001b[49m\u001b[38;5;124;43m\"\u001b[39;49m\u001b[38;5;124;43mobject_type\u001b[39;49m\u001b[38;5;124;43m\"\u001b[39;49m\u001b[43m]\u001b[49m\u001b[43m)\u001b[49m\n\u001b[1;32m      3\u001b[0m \u001b[43m    \u001b[49m\u001b[38;5;241;43m.\u001b[39;49m\u001b[43magg\u001b[49m\u001b[43m(\u001b[49m\u001b[43m{\u001b[49m\u001b[38;5;124;43m\"\u001b[39;49m\u001b[38;5;124;43mnorad_cat_id\u001b[39;49m\u001b[38;5;124;43m\"\u001b[39;49m\u001b[43m:\u001b[49m\u001b[43m \u001b[49m\u001b[38;5;124;43m\"\u001b[39;49m\u001b[38;5;124;43mlaunch_year\u001b[39;49m\u001b[38;5;124;43m\"\u001b[39;49m\u001b[43m}\u001b[49m\u001b[43m)\u001b[49m\n\u001b[1;32m      4\u001b[0m     \u001b[38;5;241m.\u001b[39mreset_index()\n\u001b[1;32m      5\u001b[0m )\u001b[38;5;241m.\u001b[39mrename(columns\u001b[38;5;241m=\u001b[39m{\u001b[38;5;124m\"\u001b[39m\u001b[38;5;124mnorad_cat_id\u001b[39m\u001b[38;5;124m\"\u001b[39m: \u001b[38;5;124m\"\u001b[39m\u001b[38;5;124mcount\u001b[39m\u001b[38;5;124m\"\u001b[39m})\n",
      "File \u001b[0;32m~/.local/share/virtualenvs/notebooks-sxqKeO4C/lib/python3.8/site-packages/pandas/core/groupby/generic.py:979\u001b[0m, in \u001b[0;36mDataFrameGroupBy.aggregate\u001b[0;34m(self, func, engine, engine_kwargs, *args, **kwargs)\u001b[0m\n\u001b[1;32m    976\u001b[0m func \u001b[38;5;241m=\u001b[39m maybe_mangle_lambdas(func)\n\u001b[1;32m    978\u001b[0m op \u001b[38;5;241m=\u001b[39m GroupByApply(\u001b[38;5;28mself\u001b[39m, func, args, kwargs)\n\u001b[0;32m--> 979\u001b[0m result \u001b[38;5;241m=\u001b[39m \u001b[43mop\u001b[49m\u001b[38;5;241;43m.\u001b[39;49m\u001b[43magg\u001b[49m\u001b[43m(\u001b[49m\u001b[43m)\u001b[49m\n\u001b[1;32m    980\u001b[0m \u001b[38;5;28;01mif\u001b[39;00m \u001b[38;5;129;01mnot\u001b[39;00m is_dict_like(func) \u001b[38;5;129;01mand\u001b[39;00m result \u001b[38;5;129;01mis\u001b[39;00m \u001b[38;5;129;01mnot\u001b[39;00m \u001b[38;5;28;01mNone\u001b[39;00m:\n\u001b[1;32m    981\u001b[0m     \u001b[38;5;28;01mreturn\u001b[39;00m result\n",
      "File \u001b[0;32m~/.local/share/virtualenvs/notebooks-sxqKeO4C/lib/python3.8/site-packages/pandas/core/apply.py:161\u001b[0m, in \u001b[0;36mApply.agg\u001b[0;34m(self)\u001b[0m\n\u001b[1;32m    158\u001b[0m     \u001b[38;5;28;01mreturn\u001b[39;00m \u001b[38;5;28mself\u001b[39m\u001b[38;5;241m.\u001b[39mapply_str()\n\u001b[1;32m    160\u001b[0m \u001b[38;5;28;01mif\u001b[39;00m is_dict_like(arg):\n\u001b[0;32m--> 161\u001b[0m     \u001b[38;5;28;01mreturn\u001b[39;00m \u001b[38;5;28;43mself\u001b[39;49m\u001b[38;5;241;43m.\u001b[39;49m\u001b[43magg_dict_like\u001b[49m\u001b[43m(\u001b[49m\u001b[43m)\u001b[49m\n\u001b[1;32m    162\u001b[0m \u001b[38;5;28;01melif\u001b[39;00m is_list_like(arg):\n\u001b[1;32m    163\u001b[0m     \u001b[38;5;66;03m# we require a list, but not a 'str'\u001b[39;00m\n\u001b[1;32m    164\u001b[0m     \u001b[38;5;28;01mreturn\u001b[39;00m \u001b[38;5;28mself\u001b[39m\u001b[38;5;241m.\u001b[39magg_list_like()\n",
      "File \u001b[0;32m~/.local/share/virtualenvs/notebooks-sxqKeO4C/lib/python3.8/site-packages/pandas/core/apply.py:435\u001b[0m, in \u001b[0;36mApply.agg_dict_like\u001b[0;34m(self)\u001b[0m\n\u001b[1;32m    432\u001b[0m     results \u001b[38;5;241m=\u001b[39m {key: colg\u001b[38;5;241m.\u001b[39magg(how) \u001b[38;5;28;01mfor\u001b[39;00m key, how \u001b[38;5;129;01min\u001b[39;00m arg\u001b[38;5;241m.\u001b[39mitems()}\n\u001b[1;32m    433\u001b[0m \u001b[38;5;28;01melse\u001b[39;00m:\n\u001b[1;32m    434\u001b[0m     \u001b[38;5;66;03m# key used for column selection and output\u001b[39;00m\n\u001b[0;32m--> 435\u001b[0m     results \u001b[38;5;241m=\u001b[39m {\n\u001b[1;32m    436\u001b[0m         key: obj\u001b[38;5;241m.\u001b[39m_gotitem(key, ndim\u001b[38;5;241m=\u001b[39m\u001b[38;5;241m1\u001b[39m)\u001b[38;5;241m.\u001b[39magg(how) \u001b[38;5;28;01mfor\u001b[39;00m key, how \u001b[38;5;129;01min\u001b[39;00m arg\u001b[38;5;241m.\u001b[39mitems()\n\u001b[1;32m    437\u001b[0m     }\n\u001b[1;32m    439\u001b[0m \u001b[38;5;66;03m# set the final keys\u001b[39;00m\n\u001b[1;32m    440\u001b[0m keys \u001b[38;5;241m=\u001b[39m \u001b[38;5;28mlist\u001b[39m(arg\u001b[38;5;241m.\u001b[39mkeys())\n",
      "File \u001b[0;32m~/.local/share/virtualenvs/notebooks-sxqKeO4C/lib/python3.8/site-packages/pandas/core/apply.py:436\u001b[0m, in \u001b[0;36m<dictcomp>\u001b[0;34m(.0)\u001b[0m\n\u001b[1;32m    432\u001b[0m     results \u001b[38;5;241m=\u001b[39m {key: colg\u001b[38;5;241m.\u001b[39magg(how) \u001b[38;5;28;01mfor\u001b[39;00m key, how \u001b[38;5;129;01min\u001b[39;00m arg\u001b[38;5;241m.\u001b[39mitems()}\n\u001b[1;32m    433\u001b[0m \u001b[38;5;28;01melse\u001b[39;00m:\n\u001b[1;32m    434\u001b[0m     \u001b[38;5;66;03m# key used for column selection and output\u001b[39;00m\n\u001b[1;32m    435\u001b[0m     results \u001b[38;5;241m=\u001b[39m {\n\u001b[0;32m--> 436\u001b[0m         key: \u001b[43mobj\u001b[49m\u001b[38;5;241;43m.\u001b[39;49m\u001b[43m_gotitem\u001b[49m\u001b[43m(\u001b[49m\u001b[43mkey\u001b[49m\u001b[43m,\u001b[49m\u001b[43m \u001b[49m\u001b[43mndim\u001b[49m\u001b[38;5;241;43m=\u001b[39;49m\u001b[38;5;241;43m1\u001b[39;49m\u001b[43m)\u001b[49m\u001b[38;5;241;43m.\u001b[39;49m\u001b[43magg\u001b[49m\u001b[43m(\u001b[49m\u001b[43mhow\u001b[49m\u001b[43m)\u001b[49m \u001b[38;5;28;01mfor\u001b[39;00m key, how \u001b[38;5;129;01min\u001b[39;00m arg\u001b[38;5;241m.\u001b[39mitems()\n\u001b[1;32m    437\u001b[0m     }\n\u001b[1;32m    439\u001b[0m \u001b[38;5;66;03m# set the final keys\u001b[39;00m\n\u001b[1;32m    440\u001b[0m keys \u001b[38;5;241m=\u001b[39m \u001b[38;5;28mlist\u001b[39m(arg\u001b[38;5;241m.\u001b[39mkeys())\n",
      "File \u001b[0;32m~/.local/share/virtualenvs/notebooks-sxqKeO4C/lib/python3.8/site-packages/pandas/core/groupby/generic.py:243\u001b[0m, in \u001b[0;36mSeriesGroupBy.aggregate\u001b[0;34m(self, func, engine, engine_kwargs, *args, **kwargs)\u001b[0m\n\u001b[1;32m    240\u001b[0m     kwargs \u001b[38;5;241m=\u001b[39m {}\n\u001b[1;32m    242\u001b[0m \u001b[38;5;28;01mif\u001b[39;00m \u001b[38;5;28misinstance\u001b[39m(func, \u001b[38;5;28mstr\u001b[39m):\n\u001b[0;32m--> 243\u001b[0m     \u001b[38;5;28;01mreturn\u001b[39;00m \u001b[38;5;28;43mgetattr\u001b[39;49m\u001b[43m(\u001b[49m\u001b[38;5;28;43mself\u001b[39;49m\u001b[43m,\u001b[49m\u001b[43m \u001b[49m\u001b[43mfunc\u001b[49m\u001b[43m)\u001b[49m(\u001b[38;5;241m*\u001b[39margs, \u001b[38;5;241m*\u001b[39m\u001b[38;5;241m*\u001b[39mkwargs)\n\u001b[1;32m    245\u001b[0m \u001b[38;5;28;01melif\u001b[39;00m \u001b[38;5;28misinstance\u001b[39m(func, abc\u001b[38;5;241m.\u001b[39mIterable):\n\u001b[1;32m    246\u001b[0m     \u001b[38;5;66;03m# Catch instances of lists / tuples\u001b[39;00m\n\u001b[1;32m    247\u001b[0m     \u001b[38;5;66;03m# but not the class list / tuple itself.\u001b[39;00m\n\u001b[1;32m    248\u001b[0m     func \u001b[38;5;241m=\u001b[39m maybe_mangle_lambdas(func)\n",
      "File \u001b[0;32m~/.local/share/virtualenvs/notebooks-sxqKeO4C/lib/python3.8/site-packages/pandas/core/groupby/groupby.py:911\u001b[0m, in \u001b[0;36mGroupBy.__getattr__\u001b[0;34m(self, attr)\u001b[0m\n\u001b[1;32m    908\u001b[0m \u001b[38;5;28;01mif\u001b[39;00m attr \u001b[38;5;129;01min\u001b[39;00m \u001b[38;5;28mself\u001b[39m\u001b[38;5;241m.\u001b[39mobj:\n\u001b[1;32m    909\u001b[0m     \u001b[38;5;28;01mreturn\u001b[39;00m \u001b[38;5;28mself\u001b[39m[attr]\n\u001b[0;32m--> 911\u001b[0m \u001b[38;5;28;01mraise\u001b[39;00m \u001b[38;5;167;01mAttributeError\u001b[39;00m(\n\u001b[1;32m    912\u001b[0m     \u001b[38;5;124mf\u001b[39m\u001b[38;5;124m\"\u001b[39m\u001b[38;5;124m'\u001b[39m\u001b[38;5;132;01m{\u001b[39;00m\u001b[38;5;28mtype\u001b[39m(\u001b[38;5;28mself\u001b[39m)\u001b[38;5;241m.\u001b[39m\u001b[38;5;18m__name__\u001b[39m\u001b[38;5;132;01m}\u001b[39;00m\u001b[38;5;124m'\u001b[39m\u001b[38;5;124m object has no attribute \u001b[39m\u001b[38;5;124m'\u001b[39m\u001b[38;5;132;01m{\u001b[39;00mattr\u001b[38;5;132;01m}\u001b[39;00m\u001b[38;5;124m'\u001b[39m\u001b[38;5;124m\"\u001b[39m\n\u001b[1;32m    913\u001b[0m )\n",
      "\u001b[0;31mAttributeError\u001b[0m: 'SeriesGroupBy' object has no attribute 'launch_year'"
     ]
    }
   ],
   "source": [
    "active_grouped = (\n",
    "    active.groupby([\"launch_year\", \"object_type\"])\n",
    "    .agg({\"norad_cat_id\": \"launch_year\"})\n",
    "    .reset_index()\n",
    ").rename(columns={\"norad_cat_id\": \"count\"})"
   ]
  },
  {
   "cell_type": "code",
   "execution_count": null,
   "id": "9d60c90d-7471-49b1-bce2-a7954bc778de",
   "metadata": {},
   "outputs": [],
   "source": [
    "alt.Chart(active_grouped).mark_bar().encode(\n",
    "    x=\"launch_year\", y=\"count\", color=\"object_type\"\n",
    ").properties(width=650, height=350)"
   ]
  },
  {
   "cell_type": "code",
   "execution_count": null,
   "id": "70a4a0eb-3f41-4135-af3b-2d4f838af444",
   "metadata": {},
   "outputs": [],
   "source": [
    "active_grouped_cumsum = (\n",
    "    active_grouped.groupby([\"launch_year\", \"object_type\"])\n",
    "    .sum()\n",
    "    .groupby(\"object_type\")\n",
    "    .cumsum()\n",
    "    .reset_index()\n",
    "    .rename(columns={\"count\": \"cumsum\"})\n",
    ")"
   ]
  },
  {
   "cell_type": "code",
   "execution_count": null,
   "id": "744e7c4f-bf49-4026-807b-9ceac10fa436",
   "metadata": {},
   "outputs": [],
   "source": [
    "active_grouped_cumsum"
   ]
  },
  {
   "cell_type": "code",
   "execution_count": null,
   "id": "740fa5a3-9273-4585-860a-711fe985f608",
   "metadata": {},
   "outputs": [],
   "source": [
    "alt.Chart(active_grouped_cumsum).mark_bar().encode(\n",
    "    x=\"launch_year\", y=\"cumsum\", color=\"object_type\"\n",
    ").properties(width=650, height=350)"
   ]
  },
  {
   "cell_type": "code",
   "execution_count": null,
   "id": "9ccbbbf9-1c77-4591-bd2a-5e08d69b5da7",
   "metadata": {},
   "outputs": [],
   "source": [
    "alt.Chart(active_grouped_cumsum).mark_line().encode(\n",
    "    x=\"launch_year:O\",\n",
    "    y=\"cumsum\",\n",
    "    color=\"object_type\",\n",
    ").properties(width=500, height=300)"
   ]
  },
  {
   "cell_type": "code",
   "execution_count": null,
   "id": "f8830ba2-3376-4e9f-86c1-3e5ef5e92892",
   "metadata": {},
   "outputs": [],
   "source": [
    "active_grouped_cumsum.to_csv(\n",
    "    \"data/processed/active_debris_categories_cumsum.csv\", index=False\n",
    ")"
   ]
  },
  {
   "cell_type": "code",
   "execution_count": null,
   "id": "6537d449-5100-49b8-9acb-b96e2ce8a587",
   "metadata": {},
   "outputs": [],
   "source": [
    "alt.Chart(active_grouped).mark_bar().encode(\n",
    "    x=\"launch_year:O\",\n",
    "    y=\"count\",\n",
    "    color=alt.Color(\"object_type\"),\n",
    ").properties(width=800, height=500)"
   ]
  },
  {
   "cell_type": "code",
   "execution_count": null,
   "id": "a3b72615-7985-469c-b845-e2eaa7cf5c61",
   "metadata": {},
   "outputs": [],
   "source": [
    "len(active[(active[\"launch_year\"] == \"1999\") & (active[\"object_type\"] == \"DEBRIS\")])"
   ]
  },
  {
   "cell_type": "code",
   "execution_count": null,
   "id": "11939722-af62-4a32-943b-a4f93fe671de",
   "metadata": {},
   "outputs": [],
   "source": [
    "active[\n",
    "    (active[\"launch_year\"] == \"1999\")\n",
    "    & (active[\"object_type\"] == \"DEBRIS\")\n",
    "]"
   ]
  },
  {
   "cell_type": "code",
   "execution_count": null,
   "id": "b318770c-1d85-41bd-8886-be415622887a",
   "metadata": {},
   "outputs": [],
   "source": []
  },
  {
   "cell_type": "code",
   "execution_count": null,
   "id": "0eb7f8fb-b810-4436-876c-1c5953c79347",
   "metadata": {},
   "outputs": [],
   "source": []
  },
  {
   "cell_type": "code",
   "execution_count": null,
   "id": "ab35b378-1c79-43f7-8b4d-f1529808652b",
   "metadata": {},
   "outputs": [],
   "source": []
  },
  {
   "cell_type": "code",
   "execution_count": null,
   "id": "e783f137-1fd6-4f73-b9bb-f8bc880aa28f",
   "metadata": {},
   "outputs": [],
   "source": []
  },
  {
   "cell_type": "code",
   "execution_count": null,
   "id": "60a12511-120a-4e02-a4b5-a38bd3b00298",
   "metadata": {},
   "outputs": [],
   "source": []
  },
  {
   "cell_type": "code",
   "execution_count": null,
   "id": "310b0f4a-fec3-4f43-a0e1-054b786affb9",
   "metadata": {},
   "outputs": [],
   "source": []
  },
  {
   "cell_type": "code",
   "execution_count": null,
   "id": "51803224-ee80-4af0-beae-2a8fcf456cd5",
   "metadata": {},
   "outputs": [],
   "source": []
  },
  {
   "cell_type": "code",
   "execution_count": null,
   "id": "bf559c44-3cd8-41a2-98de-13b45e8f6129",
   "metadata": {},
   "outputs": [],
   "source": []
  },
  {
   "cell_type": "code",
   "execution_count": null,
   "id": "74d20ad7-345d-47fa-a70a-f7b8b31c926d",
   "metadata": {},
   "outputs": [],
   "source": []
  },
  {
   "cell_type": "code",
   "execution_count": null,
   "id": "16ca4ff7-a2d6-4ae1-83b8-05c4186660c8",
   "metadata": {},
   "outputs": [],
   "source": []
  }
 ],
 "metadata": {
  "kernelspec": {
   "display_name": "Python 3 (ipykernel)",
   "language": "python",
   "name": "python3"
  },
  "language_info": {
   "codemirror_mode": {
    "name": "ipython",
    "version": 3
   },
   "file_extension": ".py",
   "mimetype": "text/x-python",
   "name": "python",
   "nbconvert_exporter": "python",
   "pygments_lexer": "ipython3",
   "version": "3.8.9"
  }
 },
 "nbformat": 4,
 "nbformat_minor": 5
}
