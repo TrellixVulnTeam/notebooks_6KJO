{
 "cells": [
  {
   "cell_type": "markdown",
   "id": "11785bdd-0929-483b-9d7d-cd7c68915ff0",
   "metadata": {
    "tags": []
   },
   "source": [
    "### Import Python tools and Jupyter configuration"
   ]
  },
  {
   "cell_type": "code",
   "execution_count": 1,
   "id": "c23caece-c54a-4be4-affb-6ab7f093366e",
   "metadata": {},
   "outputs": [],
   "source": [
    "%load_ext lab_black"
   ]
  },
  {
   "cell_type": "code",
   "execution_count": 2,
   "id": "8b05345b-8bc9-400c-8172-891a1cbc7c5b",
   "metadata": {},
   "outputs": [],
   "source": [
    "import pandas as pd\n",
    "import requests\n",
    "import pageviewapi\n",
    "import datetime as dt\n",
    "from bs4 import BeautifulSoup\n",
    "import altair as alt"
   ]
  },
  {
   "cell_type": "code",
   "execution_count": 3,
   "id": "ffb4941d-0539-4e18-96e8-b515bd3ae734",
   "metadata": {},
   "outputs": [],
   "source": [
    "pd.options.display.max_columns = 100\n",
    "pd.options.display.max_rows = 1000\n",
    "pd.options.display.max_colwidth = None"
   ]
  },
  {
   "cell_type": "code",
   "execution_count": 4,
   "id": "d88c10e2-830d-4a0a-ae4c-5f2f1a5c793f",
   "metadata": {},
   "outputs": [
    {
     "data": {
      "text/plain": [
       "ThemeRegistry.enable('grid')"
      ]
     },
     "execution_count": 4,
     "metadata": {},
     "output_type": "execute_result"
    }
   ],
   "source": [
    "import altair as alt\n",
    "import altair_grid as altgrid\n",
    "\n",
    "alt.themes.register(\"grid\", altgrid.theme)\n",
    "alt.themes.enable(\"grid\")"
   ]
  },
  {
   "cell_type": "code",
   "execution_count": 5,
   "id": "2a448149-b026-4e6e-8662-d44b6092e6d3",
   "metadata": {},
   "outputs": [],
   "source": [
    "from datawrapper import Datawrapper\n",
    "\n",
    "dw = Datawrapper(\n",
    "    access_token=\"PU52xuCQowgE5BFprvdnpFXzd5Ql9ISOSLBk58eNR2ykPztw0yC5fpqLTfsZdhyR\"\n",
    ")"
   ]
  },
  {
   "cell_type": "code",
   "execution_count": 6,
   "id": "d2af4ea1-4c86-4a86-aad0-2bfa9028ab93",
   "metadata": {
    "tags": []
   },
   "outputs": [],
   "source": [
    "from oauth2client.service_account import ServiceAccountCredentials\n",
    "import gspread"
   ]
  },
  {
   "cell_type": "code",
   "execution_count": 7,
   "id": "bf9e9e82-1b2f-4315-ba47-83499cb52e5c",
   "metadata": {},
   "outputs": [],
   "source": [
    "from df2gspread import df2gspread as d2g"
   ]
  },
  {
   "cell_type": "raw",
   "id": "5e6c1cb4-1913-4ba3-b4d5-89b9b0b99169",
   "metadata": {},
   "source": [
    "scope = [\"https://spreadsheets.google.com/feeds\"]\n",
    "credentials = ServiceAccountCredentials.from_json_keyfile_name(\n",
    "    \"jupyter-integration.json\", scope\n",
    ")\n",
    "gc = gspread.authorize(credentials)"
   ]
  },
  {
   "cell_type": "code",
   "execution_count": 8,
   "id": "fdad1cf2-17ed-4b10-8644-1bdc3acdec91",
   "metadata": {},
   "outputs": [],
   "source": [
    "# spreadsheet_key = \"\""
   ]
  },
  {
   "cell_type": "raw",
   "id": "2afea82b-39c5-4461-aeb5-2f30f6488f5f",
   "metadata": {},
   "source": [
    "wks_name = \"\"\n",
    "d2g.upload(\n",
    "    df,\n",
    "    spreadsheet_key,\n",
    "    wks_name,\n",
    "    credentials=credentials,\n",
    "    row_names=False,\n",
    ")"
   ]
  },
  {
   "cell_type": "markdown",
   "id": "36a07c6d-1b98-4975-ba1b-f7968f493eb9",
   "metadata": {},
   "source": [
    "### read in data"
   ]
  },
  {
   "cell_type": "code",
   "execution_count": 9,
   "id": "23a1c7ef-dee1-4952-9808-827a2fe77cde",
   "metadata": {},
   "outputs": [],
   "source": [
    "df = pd.read_csv(\"data/raw/annual-co-emissions-by-region.csv\")"
   ]
  },
  {
   "cell_type": "code",
   "execution_count": 10,
   "id": "cc347362-3af9-4155-ab87-44e46ca91510",
   "metadata": {},
   "outputs": [],
   "source": [
    "df.columns = df.columns.str.lower()"
   ]
  },
  {
   "cell_type": "code",
   "execution_count": 13,
   "id": "eb6fb42c-9c9c-4733-a20e-da04520be418",
   "metadata": {},
   "outputs": [],
   "source": [
    "continents = [\n",
    "    \"Africa\",\n",
    "    \"Asia\",\n",
    "    \"Australia\",\n",
    "    \"Europe\",\n",
    "    \"North America\",\n",
    "    \"South America\",\n",
    "]"
   ]
  },
  {
   "cell_type": "code",
   "execution_count": 17,
   "id": "7716a6d4-beeb-4fb4-b8d4-03c7f2811bb7",
   "metadata": {},
   "outputs": [],
   "source": [
    "df_slim = df[(df[\"entity\"].isin(continents)) & (df[\"year\"] >= 1900)]"
   ]
  },
  {
   "cell_type": "code",
   "execution_count": 18,
   "id": "b0ff2f13-8e14-42ff-96f9-f8bbc78ef4fa",
   "metadata": {},
   "outputs": [],
   "source": [
    "df_slim.columns = [\"entity\", \"code\", \"year\", \"emissions\"]"
   ]
  },
  {
   "cell_type": "code",
   "execution_count": 24,
   "id": "18df3825-d9d0-4353-9d92-bf14730be993",
   "metadata": {},
   "outputs": [],
   "source": [
    "df_dw = df_slim.pivot(index=\"year\", columns=\"entity\", values=\"emissions\").reset_index()"
   ]
  },
  {
   "cell_type": "code",
   "execution_count": 25,
   "id": "053145e0-3be4-4761-a902-22d3a38935c2",
   "metadata": {},
   "outputs": [
    {
     "name": "stdout",
     "output_type": "stream",
     "text": [
      "New chart d3-area created!\n"
     ]
    },
    {
     "data": {
      "text/plain": [
       "{'publicId': 'MRxf2',\n",
       " 'language': 'en-US',\n",
       " 'theme': 'grid',\n",
       " 'title': 'New Chart',\n",
       " 'type': 'd3-area',\n",
       " 'metadata': {'data': {'changes': [],\n",
       "   'transpose': False,\n",
       "   'vertical-header': True,\n",
       "   'horizontal-header': True},\n",
       "  'describe': {'source-name': '',\n",
       "   'source-url': '',\n",
       "   'intro': '',\n",
       "   'byline': '',\n",
       "   'aria-description': '',\n",
       "   'number-format': '-',\n",
       "   'number-divisor': 0,\n",
       "   'number-append': '',\n",
       "   'number-prepend': ''},\n",
       "  'visualize': {'dark-mode-invert': True,\n",
       "   'highlighted-series': [],\n",
       "   'highlighted-values': [],\n",
       "   'sharing': {'enabled': False},\n",
       "   'y-grid-labels': 'outside'},\n",
       "  'axes': {},\n",
       "  'publish': {'embed-width': 360,\n",
       "   'embed-height': 400,\n",
       "   'blocks': {'logo': {'enabled': True, 'id': 'main'},\n",
       "    'embed': False,\n",
       "    'download-pdf': False,\n",
       "    'download-svg': False,\n",
       "    'get-the-data': False,\n",
       "    'download-image': False},\n",
       "   'export-pdf': {}},\n",
       "  'annotate': {'notes': ''},\n",
       "  'custom': {}},\n",
       " 'authorId': 393403,\n",
       " 'id': 'MRxf2',\n",
       " 'lastModifiedAt': '2022-10-07T13:38:28.506Z',\n",
       " 'createdAt': '2022-10-07T13:38:28.487Z',\n",
       " 'organizationId': '1NhUBkSc',\n",
       " 'url': '/v3/charts/MRxf2'}"
      ]
     },
     "execution_count": 25,
     "metadata": {},
     "output_type": "execute_result"
    }
   ],
   "source": [
    "#dw.create_chart(chart_type=\"d3-area\", data=df_dw)\n",
    "chart_id=\"MRxf2\""
   ]
  },
  {
   "cell_type": "code",
   "execution_count": 26,
   "id": "db8b5e3c-2bc7-4112-80e9-ed3a7009a63c",
   "metadata": {},
   "outputs": [],
   "source": [
    "af_eu = [\"Africa\", \"Europe\"]"
   ]
  },
  {
   "cell_type": "code",
   "execution_count": 27,
   "id": "0cf04469-17cb-45ab-9179-4aeaadec5a41",
   "metadata": {},
   "outputs": [],
   "source": [
    "af_eu_df = df[(df[\"entity\"].isin(af_eu)) & (df[\"year\"] >= 1900)]"
   ]
  },
  {
   "cell_type": "code",
   "execution_count": 27,
   "id": "622cdc8d-afe8-4e10-a8d8-b849b64e483e",
   "metadata": {},
   "outputs": [],
   "source": [
    "af_eu_df.pivot(index='')"
   ]
  },
  {
   "cell_type": "code",
   "execution_count": 28,
   "id": "8a5f6af5-2329-49ac-90eb-53106b716bc1",
   "metadata": {},
   "outputs": [
    {
     "name": "stdout",
     "output_type": "stream",
     "text": [
      "New chart d3-area created!\n"
     ]
    },
    {
     "data": {
      "text/plain": [
       "{'publicId': 'HcJ5Z',\n",
       " 'language': 'en-US',\n",
       " 'theme': 'grid',\n",
       " 'title': 'New Chart',\n",
       " 'type': 'd3-area',\n",
       " 'metadata': {'data': {'changes': [],\n",
       "   'transpose': False,\n",
       "   'vertical-header': True,\n",
       "   'horizontal-header': True},\n",
       "  'describe': {'source-name': '',\n",
       "   'source-url': '',\n",
       "   'intro': '',\n",
       "   'byline': '',\n",
       "   'aria-description': '',\n",
       "   'number-format': '-',\n",
       "   'number-divisor': 0,\n",
       "   'number-append': '',\n",
       "   'number-prepend': ''},\n",
       "  'visualize': {'dark-mode-invert': True,\n",
       "   'highlighted-series': [],\n",
       "   'highlighted-values': [],\n",
       "   'sharing': {'enabled': False},\n",
       "   'y-grid-labels': 'outside'},\n",
       "  'axes': {},\n",
       "  'publish': {'embed-width': 360,\n",
       "   'embed-height': 400,\n",
       "   'blocks': {'logo': {'enabled': True, 'id': 'main'},\n",
       "    'embed': False,\n",
       "    'download-pdf': False,\n",
       "    'download-svg': False,\n",
       "    'get-the-data': False,\n",
       "    'download-image': False},\n",
       "   'export-pdf': {}},\n",
       "  'annotate': {'notes': ''},\n",
       "  'custom': {}},\n",
       " 'authorId': 393403,\n",
       " 'id': 'HcJ5Z',\n",
       " 'lastModifiedAt': '2022-10-07T19:23:26.083Z',\n",
       " 'createdAt': '2022-10-07T19:23:26.066Z',\n",
       " 'organizationId': '1NhUBkSc',\n",
       " 'url': '/v3/charts/HcJ5Z'}"
      ]
     },
     "execution_count": 28,
     "metadata": {},
     "output_type": "execute_result"
    }
   ],
   "source": [
    "#dw.create_chart(chart_type=\"d3-area\", data=af_eu_df)\n",
    "af_eu_chart=\"HcJ5Z\""
   ]
  },
  {
   "cell_type": "code",
   "execution_count": null,
   "id": "8f9e3d5f-3894-4b1c-ac87-0850e2a6afab",
   "metadata": {},
   "outputs": [],
   "source": []
  }
 ],
 "metadata": {
  "kernelspec": {
   "display_name": "Python 3 (ipykernel)",
   "language": "python",
   "name": "python3"
  },
  "language_info": {
   "codemirror_mode": {
    "name": "ipython",
    "version": 3
   },
   "file_extension": ".py",
   "mimetype": "text/x-python",
   "name": "python",
   "nbconvert_exporter": "python",
   "pygments_lexer": "ipython3",
   "version": "3.9.13"
  }
 },
 "nbformat": 4,
 "nbformat_minor": 5
}
