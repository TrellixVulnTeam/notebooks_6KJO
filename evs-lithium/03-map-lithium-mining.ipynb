{
 "cells": [
  {
   "cell_type": "markdown",
   "id": "10437a16-147a-442e-8dcf-226b368fbfb2",
   "metadata": {},
   "source": [
    "### setup"
   ]
  },
  {
   "cell_type": "code",
   "execution_count": 1,
   "id": "e3943028-7c64-4c2c-9e0b-dcbb71a8cdd3",
   "metadata": {},
   "outputs": [],
   "source": [
    "%load_ext lab_black"
   ]
  },
  {
   "cell_type": "code",
   "execution_count": 2,
   "id": "7d3dd37f-2a99-4547-8605-8130caeb4972",
   "metadata": {},
   "outputs": [],
   "source": [
    "import pandas as pd\n",
    "import requests\n",
    "import pageviewapi\n",
    "import datetime as dt\n",
    "from bs4 import BeautifulSoup\n",
    "import altair as alt\n",
    "import datetime as dt"
   ]
  },
  {
   "cell_type": "code",
   "execution_count": 3,
   "id": "1019ab54-c096-46d8-8dac-81929efe091f",
   "metadata": {},
   "outputs": [
    {
     "data": {
      "text/plain": [
       "ThemeRegistry.enable('grid')"
      ]
     },
     "execution_count": 3,
     "metadata": {},
     "output_type": "execute_result"
    }
   ],
   "source": [
    "import altair_grid as altgrid\n",
    "\n",
    "alt.themes.register(\"grid\", altgrid.theme)\n",
    "alt.themes.enable(\"grid\")"
   ]
  },
  {
   "cell_type": "code",
   "execution_count": 4,
   "id": "886a88fa-5c12-4e04-96c1-decdd4616d1e",
   "metadata": {},
   "outputs": [],
   "source": [
    "pd.options.display.max_columns = 100\n",
    "pd.options.display.max_rows = 1000\n",
    "pd.options.display.max_colwidth = None"
   ]
  },
  {
   "cell_type": "code",
   "execution_count": 5,
   "id": "d48817e8-f4fd-4a82-8aee-3a41012fcd30",
   "metadata": {},
   "outputs": [],
   "source": [
    "from datawrapper import Datawrapper\n",
    "\n",
    "dw = Datawrapper(\n",
    "    access_token=\"PU52xuCQowgE5BFprvdnpFXzd5Ql9ISOSLBk58eNR2ykPztw0yC5fpqLTfsZdhyR\"\n",
    ")"
   ]
  },
  {
   "cell_type": "code",
   "execution_count": 6,
   "id": "90a77300-eb42-434b-b411-437340cd01a4",
   "metadata": {},
   "outputs": [],
   "source": [
    "from oauth2client.service_account import ServiceAccountCredentials\n",
    "import gspread"
   ]
  },
  {
   "cell_type": "code",
   "execution_count": 7,
   "id": "08d4762e-1bd6-4f4c-a20a-df97d9e6ff86",
   "metadata": {},
   "outputs": [],
   "source": [
    "scope = [\"https://spreadsheets.google.com/feeds\"]\n",
    "credentials = ServiceAccountCredentials.from_json_keyfile_name(\n",
    "    \"jupyter-integration.json\", scope\n",
    ")\n",
    "gc = gspread.authorize(credentials)"
   ]
  },
  {
   "cell_type": "code",
   "execution_count": 8,
   "id": "e1a11d25-d91a-4946-9a41-77bc5ab5f16f",
   "metadata": {},
   "outputs": [],
   "source": [
    "#%pip install df2gspread"
   ]
  },
  {
   "cell_type": "code",
   "execution_count": 9,
   "id": "f16651df-d2ad-4419-a4ec-d771aeaa8aa0",
   "metadata": {},
   "outputs": [],
   "source": [
    "from df2gspread import df2gspread as d2g"
   ]
  },
  {
   "cell_type": "code",
   "execution_count": 10,
   "id": "a0d6f397-547b-4fcf-9ee6-308d0c7fcef8",
   "metadata": {},
   "outputs": [],
   "source": [
    "pd.options.display.max_columns = 1000\n",
    "pd.options.display.max_rows = 1000"
   ]
  },
  {
   "cell_type": "code",
   "execution_count": 11,
   "id": "abc6e9ab-263f-4c35-a850-9c6759406cd2",
   "metadata": {},
   "outputs": [],
   "source": [
    "scope = [\"https://spreadsheets.google.com/feeds\"]\n",
    "credentials = ServiceAccountCredentials.from_json_keyfile_name(\n",
    "    \"jupyter-integration.json\", scope\n",
    ")\n",
    "gc = gspread.authorize(credentials)"
   ]
  },
  {
   "cell_type": "code",
   "execution_count": 12,
   "id": "6cab16f8-704f-4d41-ade2-c36ac2aba2d6",
   "metadata": {},
   "outputs": [],
   "source": [
    "# Opening the worksheet by using Worksheet ID\n",
    "\n",
    "spreadsheet_key = \"1IUYlGHQ6l87G6_LVeNlfsdI02cTLvll9mNw0-HVJ4ZI\"\n",
    "workbook = gc.open_by_key(spreadsheet_key)"
   ]
  },
  {
   "cell_type": "code",
   "execution_count": 13,
   "id": "61db5e40-7bcd-4412-8c32-f40b27957851",
   "metadata": {},
   "outputs": [],
   "source": [
    "# Selecting which sheet to pulling the data\n",
    "sheet = workbook.worksheet(\"Sheet1\")\n",
    "# Pulling the data and transform it to the data frame\n",
    "values = sheet.get_all_values()\n",
    "flagcodes = pd.DataFrame(values[1:], columns=values[0])"
   ]
  },
  {
   "cell_type": "markdown",
   "id": "1cd6e1f3-530f-4c44-8aba-dae4acbc787a",
   "metadata": {
    "tags": []
   },
   "source": [
    "### create df"
   ]
  },
  {
   "cell_type": "code",
   "execution_count": 14,
   "id": "dbd789b8-c07d-4eaa-b390-5f445775d266",
   "metadata": {},
   "outputs": [],
   "source": [
    "countries = [\n",
    "    \"United States of America\",\n",
    "    \"Argentina\",\n",
    "    \"Australia\",\n",
    "    \"Brazil\",\n",
    "    \"Chile\",\n",
    "    \"China\",\n",
    "    \"Portugal\",\n",
    "    \"Zimbabwe\",\n",
    "]\n",
    "mining_2020 = [\"NaN\", 5900, 39700, 1420, 21500, 13300, 348, 417]\n",
    "mining_2021 = [5000, 6200, 55000, 1500, 26000, 14000, 900, 1200]\n",
    "reserves = [750000, 2200000, 5700000, 95000, 9200000, 1500000, 60000, 220000]"
   ]
  },
  {
   "cell_type": "code",
   "execution_count": 15,
   "id": "258d64cf-3374-466e-8976-0ade70b198a1",
   "metadata": {},
   "outputs": [],
   "source": [
    "country_resources = [\n",
    "    \"United States of America\",\n",
    "    \"Bolivia\",\n",
    "    \"Argentina\",\n",
    "    \"Chile\",\n",
    "    \"Australia\",\n",
    "    \"China\",\n",
    "    \"Democratic Republic of the Congo\",\n",
    "    \"Canada\",\n",
    "    \"Germany\",\n",
    "    \"Mexico\",\n",
    "    \"Czechia\",\n",
    "    \"Serbia\",\n",
    "    \"Russia\",\n",
    "    \"Peru\",\n",
    "    \"Mali\",\n",
    "    \"Zimbabwe\",\n",
    "    \"Brazil\",\n",
    "    \"Spain\",\n",
    "    \"Portugal\",\n",
    "    \"Ghana\",\n",
    "    \"Austria\",\n",
    "    \"Finland\",\n",
    "    \"Kazakhstan\",\n",
    "    \"Namibia\",\n",
    "]\n",
    "resources = [\n",
    "    9100000,\n",
    "    21000000,\n",
    "    19000000,\n",
    "    9800000,\n",
    "    7300000,\n",
    "    5100000,\n",
    "    3000000,\n",
    "    2900000,\n",
    "    2700000,\n",
    "    1700000,\n",
    "    1300000,\n",
    "    1200000,\n",
    "    1000000,\n",
    "    880000,\n",
    "    700000,\n",
    "    500000,\n",
    "    470000,\n",
    "    300000,\n",
    "    270000,\n",
    "    130000,\n",
    "    60000,\n",
    "    50000,\n",
    "    50000,\n",
    "    50000,\n",
    "]"
   ]
  },
  {
   "cell_type": "code",
   "execution_count": 16,
   "id": "30ef44ce-f66d-4cf8-a965-acdf5bea6069",
   "metadata": {},
   "outputs": [],
   "source": [
    "df_mining = pd.DataFrame(\n",
    "    {\n",
    "        \"country\": countries,\n",
    "        \"mining_2021\": mining_2021,\n",
    "        \"reserves\": reserves,\n",
    "        \"text\": mining_2021,\n",
    "    }\n",
    ")"
   ]
  },
  {
   "cell_type": "code",
   "execution_count": 17,
   "id": "6cf0859d-ed75-49ae-9839-26517b155246",
   "metadata": {},
   "outputs": [],
   "source": [
    "flagcodes.columns = flagcodes.columns.str.lower()"
   ]
  },
  {
   "cell_type": "code",
   "execution_count": 18,
   "id": "b27b68d5-f230-4128-91f3-64065ce47f0d",
   "metadata": {},
   "outputs": [],
   "source": [
    "df_table = df_mining.merge(flagcodes, on=\"country\", how=\"left\")"
   ]
  },
  {
   "cell_type": "code",
   "execution_count": 19,
   "id": "053d075f-d9df-48da-abfb-f9cb798a34e5",
   "metadata": {},
   "outputs": [],
   "source": [
    "df_table[\"country\"] = df_table[\"code\"] + \" \" + df_table[\"country\"]"
   ]
  },
  {
   "cell_type": "code",
   "execution_count": 20,
   "id": "dc367ae0-80c5-45e4-8e2a-215c01b950d9",
   "metadata": {},
   "outputs": [
    {
     "data": {
      "text/html": [
       "<div>\n",
       "<style scoped>\n",
       "    .dataframe tbody tr th:only-of-type {\n",
       "        vertical-align: middle;\n",
       "    }\n",
       "\n",
       "    .dataframe tbody tr th {\n",
       "        vertical-align: top;\n",
       "    }\n",
       "\n",
       "    .dataframe thead th {\n",
       "        text-align: right;\n",
       "    }\n",
       "</style>\n",
       "<table border=\"1\" class=\"dataframe\">\n",
       "  <thead>\n",
       "    <tr style=\"text-align: right;\">\n",
       "      <th></th>\n",
       "      <th>country</th>\n",
       "      <th>mining_2021</th>\n",
       "      <th>reserves</th>\n",
       "      <th>text</th>\n",
       "    </tr>\n",
       "  </thead>\n",
       "  <tbody>\n",
       "    <tr>\n",
       "      <th>0</th>\n",
       "      <td>United States of America</td>\n",
       "      <td>5000</td>\n",
       "      <td>750000</td>\n",
       "      <td>5000</td>\n",
       "    </tr>\n",
       "    <tr>\n",
       "      <th>1</th>\n",
       "      <td>Argentina</td>\n",
       "      <td>6200</td>\n",
       "      <td>2200000</td>\n",
       "      <td>6200</td>\n",
       "    </tr>\n",
       "    <tr>\n",
       "      <th>2</th>\n",
       "      <td>Australia</td>\n",
       "      <td>55000</td>\n",
       "      <td>5700000</td>\n",
       "      <td>55000</td>\n",
       "    </tr>\n",
       "    <tr>\n",
       "      <th>3</th>\n",
       "      <td>Brazil</td>\n",
       "      <td>1500</td>\n",
       "      <td>95000</td>\n",
       "      <td>1500</td>\n",
       "    </tr>\n",
       "    <tr>\n",
       "      <th>4</th>\n",
       "      <td>Chile</td>\n",
       "      <td>26000</td>\n",
       "      <td>9200000</td>\n",
       "      <td>26000</td>\n",
       "    </tr>\n",
       "    <tr>\n",
       "      <th>5</th>\n",
       "      <td>China</td>\n",
       "      <td>14000</td>\n",
       "      <td>1500000</td>\n",
       "      <td>14000</td>\n",
       "    </tr>\n",
       "    <tr>\n",
       "      <th>6</th>\n",
       "      <td>Portugal</td>\n",
       "      <td>900</td>\n",
       "      <td>60000</td>\n",
       "      <td>900</td>\n",
       "    </tr>\n",
       "    <tr>\n",
       "      <th>7</th>\n",
       "      <td>Zimbabwe</td>\n",
       "      <td>1200</td>\n",
       "      <td>220000</td>\n",
       "      <td>1200</td>\n",
       "    </tr>\n",
       "  </tbody>\n",
       "</table>\n",
       "</div>"
      ],
      "text/plain": [
       "                    country  mining_2021  reserves   text\n",
       "0  United States of America         5000    750000   5000\n",
       "1                 Argentina         6200   2200000   6200\n",
       "2                 Australia        55000   5700000  55000\n",
       "3                    Brazil         1500     95000   1500\n",
       "4                     Chile        26000   9200000  26000\n",
       "5                     China        14000   1500000  14000\n",
       "6                  Portugal          900     60000    900\n",
       "7                  Zimbabwe         1200    220000   1200"
      ]
     },
     "execution_count": 20,
     "metadata": {},
     "output_type": "execute_result"
    }
   ],
   "source": [
    "df_mining"
   ]
  },
  {
   "cell_type": "code",
   "execution_count": 21,
   "id": "25a6233f-d8a4-4923-8a9c-3b601a084836",
   "metadata": {},
   "outputs": [],
   "source": [
    "df_resources = pd.DataFrame({\"country\": country_resources, \"resources\": resources})"
   ]
  },
  {
   "cell_type": "code",
   "execution_count": 22,
   "id": "916b9729-8740-4999-ad64-a54d619b5e27",
   "metadata": {},
   "outputs": [],
   "source": [
    "df = df_resources.merge(df_mining, on=\"country\", how=\"left\")"
   ]
  },
  {
   "cell_type": "code",
   "execution_count": 23,
   "id": "53186305-e742-4348-8eab-45c6a722f668",
   "metadata": {},
   "outputs": [],
   "source": [
    "# dw.add_data(chart_id=\"hFyXh\", data=df_mining)\n",
    "# dw.add_data(chart_id=\"WsvBJ\", data=df_mining)"
   ]
  },
  {
   "cell_type": "code",
   "execution_count": 24,
   "id": "46107ebb-e830-4d1f-831c-b1371e5242fa",
   "metadata": {},
   "outputs": [
    {
     "data": {
      "text/plain": [
       "<Response [204]>"
      ]
     },
     "execution_count": 24,
     "metadata": {},
     "output_type": "execute_result"
    }
   ],
   "source": [
    "dw.add_data(chart_id=\"JVbb2\", data=df_table)"
   ]
  },
  {
   "cell_type": "code",
   "execution_count": null,
   "id": "8e45e55c-716a-4ed3-af69-ebb9e8743604",
   "metadata": {},
   "outputs": [],
   "source": []
  }
 ],
 "metadata": {
  "kernelspec": {
   "display_name": "Python 3 (ipykernel)",
   "language": "python",
   "name": "python3"
  },
  "language_info": {
   "codemirror_mode": {
    "name": "ipython",
    "version": 3
   },
   "file_extension": ".py",
   "mimetype": "text/x-python",
   "name": "python",
   "nbconvert_exporter": "python",
   "pygments_lexer": "ipython3",
   "version": "3.9.13"
  }
 },
 "nbformat": 4,
 "nbformat_minor": 5
}
