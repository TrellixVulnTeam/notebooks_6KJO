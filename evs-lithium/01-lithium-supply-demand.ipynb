{
 "cells": [
  {
   "cell_type": "markdown",
   "id": "c358f0b2-a0eb-4ec2-9a44-4fe68dedbdd8",
   "metadata": {},
   "source": [
    "#### data sources<br>\n",
    "[lithium supply/demand](https://www.iea.org/data-and-statistics/charts/total-lithium-demand-by-sector-and-scenario-2020-2040)<br>\n",
    "the source report breaks it down by EVs only, not battery storage, so went into source report for specific number--don't use figures from this notebook\n"
   ]
  },
  {
   "cell_type": "markdown",
   "id": "3902ac42-c7d4-4a08-b6a2-6bdd49fa6169",
   "metadata": {},
   "source": [
    "### setup"
   ]
  },
  {
   "cell_type": "code",
   "execution_count": 1,
   "id": "107f06bf-34eb-4f4e-b453-d80eff14f50a",
   "metadata": {},
   "outputs": [],
   "source": [
    "%load_ext lab_black"
   ]
  },
  {
   "cell_type": "code",
   "execution_count": 2,
   "id": "add7276e-a94d-4bf5-9d55-7ac12baacff2",
   "metadata": {},
   "outputs": [],
   "source": [
    "import pandas as pd\n",
    "import requests\n",
    "import pageviewapi\n",
    "import datetime as dt\n",
    "from bs4 import BeautifulSoup\n",
    "import altair as alt\n",
    "import datetime as dt"
   ]
  },
  {
   "cell_type": "code",
   "execution_count": 3,
   "id": "55ed23da-fe8a-48d3-883e-57a75b8f7586",
   "metadata": {},
   "outputs": [
    {
     "data": {
      "text/plain": [
       "ThemeRegistry.enable('grid')"
      ]
     },
     "execution_count": 3,
     "metadata": {},
     "output_type": "execute_result"
    }
   ],
   "source": [
    "import altair_grid as altgrid\n",
    "\n",
    "alt.themes.register(\"grid\", altgrid.theme)\n",
    "alt.themes.enable(\"grid\")"
   ]
  },
  {
   "cell_type": "code",
   "execution_count": 4,
   "id": "8e3c12ff-b54f-45d7-9e01-8b9da0e58776",
   "metadata": {},
   "outputs": [],
   "source": [
    "pd.options.display.max_columns = 100\n",
    "pd.options.display.max_rows = 1000\n",
    "pd.options.display.max_colwidth = None"
   ]
  },
  {
   "cell_type": "code",
   "execution_count": 5,
   "id": "512489e3-fc65-4978-9663-ea3a0275551a",
   "metadata": {},
   "outputs": [],
   "source": [
    "from datawrapper import Datawrapper\n",
    "\n",
    "dw = Datawrapper(\n",
    "    access_token=\"PU52xuCQowgE5BFprvdnpFXzd5Ql9ISOSLBk58eNR2ykPztw0yC5fpqLTfsZdhyR\"\n",
    ")"
   ]
  },
  {
   "cell_type": "markdown",
   "id": "95b8a4cd-b932-48e5-bd8d-eb3be0dd8309",
   "metadata": {},
   "source": [
    "### read in data"
   ]
  },
  {
   "cell_type": "code",
   "execution_count": 6,
   "id": "1b0c856a-0a7d-46fb-be27-25be81d72a52",
   "metadata": {},
   "outputs": [],
   "source": [
    "df = pd.read_csv(\n",
    "    \"data/raw/total-lithium-demand-by-sector-and-scenario-2020-2040.csv\", skiprows=3\n",
    ").rename(\n",
    "    columns={\n",
    "        \"Unnamed: 0\": \"year_scenario\",\n",
    "        \"EVs and storage\": \"evs_storage\",\n",
    "        \"Other sectors\": \"other\",\n",
    "        \"Share of clean energy technologies\": \"share\",\n",
    "    }\n",
    ")"
   ]
  },
  {
   "cell_type": "code",
   "execution_count": 7,
   "id": "7dc27620-64d4-4e9a-afd1-8fa8aa153bcd",
   "metadata": {},
   "outputs": [],
   "source": [
    "df[\"year\"] = df[\"year_scenario\"].str[-4:]"
   ]
  },
  {
   "cell_type": "code",
   "execution_count": 8,
   "id": "2f4f2a6b-6fde-429a-ba31-d2b2abebaae8",
   "metadata": {},
   "outputs": [],
   "source": [
    "df[\"scenario\"] = df[\"year_scenario\"].str[:3]"
   ]
  },
  {
   "cell_type": "code",
   "execution_count": 9,
   "id": "978d837a-5824-41d6-8bf3-6987acac41b4",
   "metadata": {},
   "outputs": [],
   "source": [
    "df_slim = df[[\"year\", \"scenario\", \"evs_storage\"]]"
   ]
  },
  {
   "cell_type": "code",
   "execution_count": 10,
   "id": "2747d2d3-0f2a-4e55-899a-16f0c1360552",
   "metadata": {},
   "outputs": [],
   "source": [
    "df_slim.loc[0, \"scenario\"] = \"current\""
   ]
  },
  {
   "cell_type": "code",
   "execution_count": 11,
   "id": "f8dd47b7-ee4f-4c9e-b7ce-a1499ca512a1",
   "metadata": {},
   "outputs": [
    {
     "data": {
      "text/html": [
       "<div>\n",
       "<style scoped>\n",
       "    .dataframe tbody tr th:only-of-type {\n",
       "        vertical-align: middle;\n",
       "    }\n",
       "\n",
       "    .dataframe tbody tr th {\n",
       "        vertical-align: top;\n",
       "    }\n",
       "\n",
       "    .dataframe thead th {\n",
       "        text-align: right;\n",
       "    }\n",
       "</style>\n",
       "<table border=\"1\" class=\"dataframe\">\n",
       "  <thead>\n",
       "    <tr style=\"text-align: right;\">\n",
       "      <th></th>\n",
       "      <th>year</th>\n",
       "      <th>scenario</th>\n",
       "      <th>evs_storage</th>\n",
       "    </tr>\n",
       "  </thead>\n",
       "  <tbody>\n",
       "    <tr>\n",
       "      <th>0</th>\n",
       "      <td>2020</td>\n",
       "      <td>current</td>\n",
       "      <td>21.6</td>\n",
       "    </tr>\n",
       "    <tr>\n",
       "      <th>1</th>\n",
       "      <td>2030</td>\n",
       "      <td>SPS</td>\n",
       "      <td>164.0</td>\n",
       "    </tr>\n",
       "    <tr>\n",
       "      <th>2</th>\n",
       "      <td>2040</td>\n",
       "      <td>SPS</td>\n",
       "      <td>276.1</td>\n",
       "    </tr>\n",
       "    <tr>\n",
       "      <th>3</th>\n",
       "      <td>2030</td>\n",
       "      <td>SDS</td>\n",
       "      <td>383.1</td>\n",
       "    </tr>\n",
       "    <tr>\n",
       "      <th>4</th>\n",
       "      <td>2040</td>\n",
       "      <td>SDS</td>\n",
       "      <td>1063.3</td>\n",
       "    </tr>\n",
       "  </tbody>\n",
       "</table>\n",
       "</div>"
      ],
      "text/plain": [
       "   year scenario  evs_storage\n",
       "0  2020  current         21.6\n",
       "1  2030      SPS        164.0\n",
       "2  2040      SPS        276.1\n",
       "3  2030      SDS        383.1\n",
       "4  2040      SDS       1063.3"
      ]
     },
     "execution_count": 11,
     "metadata": {},
     "output_type": "execute_result"
    }
   ],
   "source": [
    "df_slim"
   ]
  },
  {
   "cell_type": "code",
   "execution_count": 48,
   "id": "bd9f7e56-812d-4293-8fea-6edf2ba2e133",
   "metadata": {},
   "outputs": [
    {
     "data": {
      "text/html": [
       "\n",
       "<div id=\"altair-viz-945c41babe3d436880d3cc6bcd275c73\"></div>\n",
       "<script type=\"text/javascript\">\n",
       "  var VEGA_DEBUG = (typeof VEGA_DEBUG == \"undefined\") ? {} : VEGA_DEBUG;\n",
       "  (function(spec, embedOpt){\n",
       "    let outputDiv = document.currentScript.previousElementSibling;\n",
       "    if (outputDiv.id !== \"altair-viz-945c41babe3d436880d3cc6bcd275c73\") {\n",
       "      outputDiv = document.getElementById(\"altair-viz-945c41babe3d436880d3cc6bcd275c73\");\n",
       "    }\n",
       "    const paths = {\n",
       "      \"vega\": \"https://cdn.jsdelivr.net/npm//vega@5?noext\",\n",
       "      \"vega-lib\": \"https://cdn.jsdelivr.net/npm//vega-lib?noext\",\n",
       "      \"vega-lite\": \"https://cdn.jsdelivr.net/npm//vega-lite@4.17.0?noext\",\n",
       "      \"vega-embed\": \"https://cdn.jsdelivr.net/npm//vega-embed@6?noext\",\n",
       "    };\n",
       "\n",
       "    function maybeLoadScript(lib, version) {\n",
       "      var key = `${lib.replace(\"-\", \"\")}_version`;\n",
       "      return (VEGA_DEBUG[key] == version) ?\n",
       "        Promise.resolve(paths[lib]) :\n",
       "        new Promise(function(resolve, reject) {\n",
       "          var s = document.createElement('script');\n",
       "          document.getElementsByTagName(\"head\")[0].appendChild(s);\n",
       "          s.async = true;\n",
       "          s.onload = () => {\n",
       "            VEGA_DEBUG[key] = version;\n",
       "            return resolve(paths[lib]);\n",
       "          };\n",
       "          s.onerror = () => reject(`Error loading script: ${paths[lib]}`);\n",
       "          s.src = paths[lib];\n",
       "        });\n",
       "    }\n",
       "\n",
       "    function showError(err) {\n",
       "      outputDiv.innerHTML = `<div class=\"error\" style=\"color:red;\">${err}</div>`;\n",
       "      throw err;\n",
       "    }\n",
       "\n",
       "    function displayChart(vegaEmbed) {\n",
       "      vegaEmbed(outputDiv, spec, embedOpt)\n",
       "        .catch(err => showError(`Javascript Error: ${err.message}<br>This usually means there's a typo in your chart specification. See the javascript console for the full traceback.`));\n",
       "    }\n",
       "\n",
       "    if(typeof define === \"function\" && define.amd) {\n",
       "      requirejs.config({paths});\n",
       "      require([\"vega-embed\"], displayChart, err => showError(`Error loading script: ${err.message}`));\n",
       "    } else {\n",
       "      maybeLoadScript(\"vega\", \"5\")\n",
       "        .then(() => maybeLoadScript(\"vega-lite\", \"4.17.0\"))\n",
       "        .then(() => maybeLoadScript(\"vega-embed\", \"6\"))\n",
       "        .catch(showError)\n",
       "        .then(() => displayChart(vegaEmbed));\n",
       "    }\n",
       "  })({\"config\": {\"view\": {\"width\": 800, \"height\": 450, \"strokeOpacity\": 0}, \"background\": \"#ffffff\", \"title\": {\"anchor\": \"start\", \"font\": \"Summit Sans\", \"fontColor\": \"palette[\\\"black\\\"]\", \"fontSize\": 18, \"fontWeight\": \"normal\"}, \"arc\": {\"fill\": \"#00d4d8\"}, \"area\": {\"fill\": \"#00d4d8\"}, \"line\": {\"stroke\": \"#00d4d8\", \"strokeWidth\": 3}, \"path\": {\"stroke\": \"#00d4d8\"}, \"rect\": {\"fill\": \"#00d4d8\"}, \"shape\": {\"stroke\": \"#00d4d8\"}, \"bar\": {\"fill\": \"#00d4d8\"}, \"point\": {\"stroke\": \"#00d4d8\"}, \"symbol\": {\"fill\": \"#00d4d8\", \"size\": 30}, \"axis\": {\"titleFont\": \"Roboto\", \"titleFontSize\": 15, \"titleFontWeight\": \"normal\", \"labelFont\": \"Roboto, sans\", \"labelFontSize\": 13, \"labelFontWeight\": \"normal\"}, \"axisX\": {\"labelAngle\": 0, \"labelPadding\": 6, \"tickSize\": 3, \"grid\": false}, \"axisY\": {\"labelBaseline\": \"middle\", \"maxExtent\": 45, \"minExtent\": 45, \"titleAlign\": \"left\", \"titleAngle\": 0, \"titleX\": -45, \"titleY\": -11, \"domainOpacity\": 0, \"gridWidth\": 0.6, \"gridColor\": \"#dddddd\", \"offset\": 6, \"tickSize\": 0, \"titleColor\": \"#767676\"}, \"legend\": {\"titleFont\": \"Roboto\", \"titleFontSize\": 15, \"titleFontWeight\": \"normal\", \"symbolType\": \"square\", \"labelFont\": \"Roboto, sans\", \"labelFontSize\": 13}, \"range\": {\"category\": [\"#005f66\", \"#e37e2d\", \"#d64a3b\", \"#76b0ef\", \"#c1bc40\"], \"diverging\": [\"#e68a4f\", \"#f4bb6a\", \"#f9e39c\", \"#dadfe2\", \"#a6b7c6\", \"#849eae\"], \"heatmap\": [\"#7ff6f6\", \"#00eeef\", \"#00d4d8\", \"#00abb2\", \"#00848b\", \"#fbf2c7\", \"#00363d\"], \"ordinal\": [\"#7ff6f6\", \"#00eeef\", \"#00d4d8\", \"#00abb2\", \"#00848b\", \"#fbf2c7\", \"#00363d\"], \"ramp\": [\"#7ff6f6\", \"#00eeef\", \"#00d4d8\", \"#00abb2\", \"#00848b\", \"#fbf2c7\", \"#00363d\"]}}, \"data\": {\"name\": \"data-7dafb1ac1cc4925193202e51dcbb54e8\"}, \"mark\": \"bar\", \"encoding\": {\"color\": {\"field\": \"scenario\", \"legend\": null, \"type\": \"nominal\"}, \"opacity\": {\"condition\": {\"value\": 0.3, \"test\": \"(datum.scenario === 'SDS')\"}, \"value\": 1}, \"order\": {\"field\": \"scenario\", \"sort\": \"ascending\", \"type\": \"nominal\"}, \"x\": {\"axis\": {\"title\": \"\"}, \"field\": \"evs_storage\", \"stack\": null, \"type\": \"quantitative\"}, \"y\": {\"axis\": {\"title\": \"\"}, \"field\": \"year\", \"type\": \"ordinal\"}}, \"height\": 200, \"width\": 650, \"$schema\": \"https://vega.github.io/schema/vega-lite/v4.17.0.json\", \"datasets\": {\"data-7dafb1ac1cc4925193202e51dcbb54e8\": [{\"year\": \"2020\", \"scenario\": \"current\", \"evs_storage\": 21.6}, {\"year\": \"2030\", \"scenario\": \"SPS\", \"evs_storage\": 164.0}, {\"year\": \"2040\", \"scenario\": \"SPS\", \"evs_storage\": 276.1}, {\"year\": \"2030\", \"scenario\": \"SDS\", \"evs_storage\": 383.1}, {\"year\": \"2040\", \"scenario\": \"SDS\", \"evs_storage\": 1063.3}]}}, {\"mode\": \"vega-lite\"});\n",
       "</script>"
      ],
      "text/plain": [
       "alt.Chart(...)"
      ]
     },
     "execution_count": 48,
     "metadata": {},
     "output_type": "execute_result"
    }
   ],
   "source": [
    "alt.Chart(df_slim).mark_bar().encode(\n",
    "    x=alt.X(\"evs_storage\", stack=None, axis=alt.Axis(title=\"\")),\n",
    "    y=alt.Y(\"year:O\", axis=alt.Axis(title=\"\")),\n",
    "    color=alt.Color(\"scenario:N\", legend=None),\n",
    "    opacity=alt.condition(alt.datum.scenario == \"SDS\", alt.value(0.3), alt.value(1)),\n",
    "    order=alt.Order(\"scenario\", sort=\"ascending\"),\n",
    ").properties(width=650, height=200)"
   ]
  },
  {
   "cell_type": "code",
   "execution_count": 42,
   "id": "4e76ab07-1e01-449c-abe0-69ab465b00a9",
   "metadata": {},
   "outputs": [
    {
     "data": {
      "text/html": [
       "\n",
       "<div id=\"altair-viz-d324cf9eb1794ecdba593bdd745e2fa6\"></div>\n",
       "<script type=\"text/javascript\">\n",
       "  var VEGA_DEBUG = (typeof VEGA_DEBUG == \"undefined\") ? {} : VEGA_DEBUG;\n",
       "  (function(spec, embedOpt){\n",
       "    let outputDiv = document.currentScript.previousElementSibling;\n",
       "    if (outputDiv.id !== \"altair-viz-d324cf9eb1794ecdba593bdd745e2fa6\") {\n",
       "      outputDiv = document.getElementById(\"altair-viz-d324cf9eb1794ecdba593bdd745e2fa6\");\n",
       "    }\n",
       "    const paths = {\n",
       "      \"vega\": \"https://cdn.jsdelivr.net/npm//vega@5?noext\",\n",
       "      \"vega-lib\": \"https://cdn.jsdelivr.net/npm//vega-lib?noext\",\n",
       "      \"vega-lite\": \"https://cdn.jsdelivr.net/npm//vega-lite@4.17.0?noext\",\n",
       "      \"vega-embed\": \"https://cdn.jsdelivr.net/npm//vega-embed@6?noext\",\n",
       "    };\n",
       "\n",
       "    function maybeLoadScript(lib, version) {\n",
       "      var key = `${lib.replace(\"-\", \"\")}_version`;\n",
       "      return (VEGA_DEBUG[key] == version) ?\n",
       "        Promise.resolve(paths[lib]) :\n",
       "        new Promise(function(resolve, reject) {\n",
       "          var s = document.createElement('script');\n",
       "          document.getElementsByTagName(\"head\")[0].appendChild(s);\n",
       "          s.async = true;\n",
       "          s.onload = () => {\n",
       "            VEGA_DEBUG[key] = version;\n",
       "            return resolve(paths[lib]);\n",
       "          };\n",
       "          s.onerror = () => reject(`Error loading script: ${paths[lib]}`);\n",
       "          s.src = paths[lib];\n",
       "        });\n",
       "    }\n",
       "\n",
       "    function showError(err) {\n",
       "      outputDiv.innerHTML = `<div class=\"error\" style=\"color:red;\">${err}</div>`;\n",
       "      throw err;\n",
       "    }\n",
       "\n",
       "    function displayChart(vegaEmbed) {\n",
       "      vegaEmbed(outputDiv, spec, embedOpt)\n",
       "        .catch(err => showError(`Javascript Error: ${err.message}<br>This usually means there's a typo in your chart specification. See the javascript console for the full traceback.`));\n",
       "    }\n",
       "\n",
       "    if(typeof define === \"function\" && define.amd) {\n",
       "      requirejs.config({paths});\n",
       "      require([\"vega-embed\"], displayChart, err => showError(`Error loading script: ${err.message}`));\n",
       "    } else {\n",
       "      maybeLoadScript(\"vega\", \"5\")\n",
       "        .then(() => maybeLoadScript(\"vega-lite\", \"4.17.0\"))\n",
       "        .then(() => maybeLoadScript(\"vega-embed\", \"6\"))\n",
       "        .catch(showError)\n",
       "        .then(() => displayChart(vegaEmbed));\n",
       "    }\n",
       "  })({\"config\": {\"view\": {\"width\": 800, \"height\": 450, \"strokeOpacity\": 0}, \"background\": \"#ffffff\", \"title\": {\"anchor\": \"start\", \"font\": \"Summit Sans\", \"fontColor\": \"palette[\\\"black\\\"]\", \"fontSize\": 18, \"fontWeight\": \"normal\"}, \"arc\": {\"fill\": \"#00d4d8\"}, \"area\": {\"fill\": \"#00d4d8\"}, \"line\": {\"stroke\": \"#00d4d8\", \"strokeWidth\": 3}, \"path\": {\"stroke\": \"#00d4d8\"}, \"rect\": {\"fill\": \"#00d4d8\"}, \"shape\": {\"stroke\": \"#00d4d8\"}, \"bar\": {\"fill\": \"#00d4d8\"}, \"point\": {\"stroke\": \"#00d4d8\"}, \"symbol\": {\"fill\": \"#00d4d8\", \"size\": 30}, \"axis\": {\"titleFont\": \"Roboto\", \"titleFontSize\": 15, \"titleFontWeight\": \"normal\", \"labelFont\": \"Roboto, sans\", \"labelFontSize\": 13, \"labelFontWeight\": \"normal\"}, \"axisX\": {\"labelAngle\": 0, \"labelPadding\": 6, \"tickSize\": 3, \"grid\": false}, \"axisY\": {\"labelBaseline\": \"middle\", \"maxExtent\": 45, \"minExtent\": 45, \"titleAlign\": \"left\", \"titleAngle\": 0, \"titleX\": -45, \"titleY\": -11, \"domainOpacity\": 0, \"gridWidth\": 0.6, \"gridColor\": \"#dddddd\", \"offset\": 6, \"tickSize\": 0, \"titleColor\": \"#767676\"}, \"legend\": {\"titleFont\": \"Roboto\", \"titleFontSize\": 15, \"titleFontWeight\": \"normal\", \"symbolType\": \"square\", \"labelFont\": \"Roboto, sans\", \"labelFontSize\": 13}, \"range\": {\"category\": [\"#005f66\", \"#e37e2d\", \"#d64a3b\", \"#76b0ef\", \"#c1bc40\"], \"diverging\": [\"#e68a4f\", \"#f4bb6a\", \"#f9e39c\", \"#dadfe2\", \"#a6b7c6\", \"#849eae\"], \"heatmap\": [\"#7ff6f6\", \"#00eeef\", \"#00d4d8\", \"#00abb2\", \"#00848b\", \"#fbf2c7\", \"#00363d\"], \"ordinal\": [\"#7ff6f6\", \"#00eeef\", \"#00d4d8\", \"#00abb2\", \"#00848b\", \"#fbf2c7\", \"#00363d\"], \"ramp\": [\"#7ff6f6\", \"#00eeef\", \"#00d4d8\", \"#00abb2\", \"#00848b\", \"#fbf2c7\", \"#00363d\"]}}, \"data\": {\"name\": \"data-7dafb1ac1cc4925193202e51dcbb54e8\"}, \"mark\": \"bar\", \"encoding\": {\"color\": {\"field\": \"scenario\", \"type\": \"nominal\"}, \"opacity\": {\"condition\": {\"value\": 0.3, \"test\": \"(datum.scenario === 'SDS')\"}, \"value\": 1}, \"order\": {\"field\": \"scenario\", \"sort\": \"ascending\", \"type\": \"nominal\"}, \"x\": {\"axis\": {\"title\": \"\"}, \"field\": \"year\", \"type\": \"ordinal\"}, \"y\": {\"axis\": {\"title\": \"\"}, \"field\": \"evs_storage\", \"stack\": null, \"type\": \"quantitative\"}}, \"width\": 650, \"$schema\": \"https://vega.github.io/schema/vega-lite/v4.17.0.json\", \"datasets\": {\"data-7dafb1ac1cc4925193202e51dcbb54e8\": [{\"year\": \"2020\", \"scenario\": \"current\", \"evs_storage\": 21.6}, {\"year\": \"2030\", \"scenario\": \"SPS\", \"evs_storage\": 164.0}, {\"year\": \"2040\", \"scenario\": \"SPS\", \"evs_storage\": 276.1}, {\"year\": \"2030\", \"scenario\": \"SDS\", \"evs_storage\": 383.1}, {\"year\": \"2040\", \"scenario\": \"SDS\", \"evs_storage\": 1063.3}]}}, {\"mode\": \"vega-lite\"});\n",
       "</script>"
      ],
      "text/plain": [
       "alt.Chart(...)"
      ]
     },
     "execution_count": 42,
     "metadata": {},
     "output_type": "execute_result"
    }
   ],
   "source": [
    "alt.Chart(df_slim).mark_bar().encode(\n",
    "    x=alt.X(\"year:O\", axis=alt.Axis(title=\"\")),\n",
    "    y=alt.Y(\"evs_storage\", stack=None, axis=alt.Axis(title=\"\")),\n",
    "    color=alt.Color(\"scenario:N\"),\n",
    "    opacity=alt.condition(alt.datum.scenario == \"SDS\", alt.value(0.3), alt.value(1)),\n",
    "    order=alt.Order(\"scenario\", sort=\"ascending\"),\n",
    ").properties(width=650)"
   ]
  },
  {
   "cell_type": "code",
   "execution_count": 13,
   "id": "709c2013-a25b-42d0-ae38-69133d396e05",
   "metadata": {},
   "outputs": [],
   "source": [
    "df.loc[0, \"scenario\"] = \"current\""
   ]
  },
  {
   "cell_type": "code",
   "execution_count": 14,
   "id": "cbc4cf03-5a6e-4623-9315-ffcc9fd9b0c0",
   "metadata": {},
   "outputs": [
    {
     "data": {
      "text/html": [
       "<div>\n",
       "<style scoped>\n",
       "    .dataframe tbody tr th:only-of-type {\n",
       "        vertical-align: middle;\n",
       "    }\n",
       "\n",
       "    .dataframe tbody tr th {\n",
       "        vertical-align: top;\n",
       "    }\n",
       "\n",
       "    .dataframe thead th {\n",
       "        text-align: right;\n",
       "    }\n",
       "</style>\n",
       "<table border=\"1\" class=\"dataframe\">\n",
       "  <thead>\n",
       "    <tr style=\"text-align: right;\">\n",
       "      <th></th>\n",
       "      <th>year_scenario</th>\n",
       "      <th>evs_storage</th>\n",
       "      <th>other</th>\n",
       "      <th>share</th>\n",
       "      <th>year</th>\n",
       "      <th>scenario</th>\n",
       "    </tr>\n",
       "  </thead>\n",
       "  <tbody>\n",
       "    <tr>\n",
       "      <th>0</th>\n",
       "      <td>2020</td>\n",
       "      <td>21.6</td>\n",
       "      <td>51.8</td>\n",
       "      <td>29</td>\n",
       "      <td>2020</td>\n",
       "      <td>current</td>\n",
       "    </tr>\n",
       "    <tr>\n",
       "      <th>1</th>\n",
       "      <td>SPS 2030</td>\n",
       "      <td>164.0</td>\n",
       "      <td>77.7</td>\n",
       "      <td>68</td>\n",
       "      <td>2030</td>\n",
       "      <td>SPS</td>\n",
       "    </tr>\n",
       "    <tr>\n",
       "      <th>2</th>\n",
       "      <td>SPS 2040</td>\n",
       "      <td>276.1</td>\n",
       "      <td>97.4</td>\n",
       "      <td>74</td>\n",
       "      <td>2040</td>\n",
       "      <td>SPS</td>\n",
       "    </tr>\n",
       "    <tr>\n",
       "      <th>3</th>\n",
       "      <td>SDS 2030</td>\n",
       "      <td>383.1</td>\n",
       "      <td>77.7</td>\n",
       "      <td>83</td>\n",
       "      <td>2030</td>\n",
       "      <td>SDS</td>\n",
       "    </tr>\n",
       "    <tr>\n",
       "      <th>4</th>\n",
       "      <td>SDS 2040</td>\n",
       "      <td>1063.3</td>\n",
       "      <td>97.4</td>\n",
       "      <td>92</td>\n",
       "      <td>2040</td>\n",
       "      <td>SDS</td>\n",
       "    </tr>\n",
       "  </tbody>\n",
       "</table>\n",
       "</div>"
      ],
      "text/plain": [
       "  year_scenario  evs_storage  other  share  year scenario\n",
       "0          2020         21.6   51.8     29  2020  current\n",
       "1      SPS 2030        164.0   77.7     68  2030      SPS\n",
       "2      SPS 2040        276.1   97.4     74  2040      SPS\n",
       "3      SDS 2030        383.1   77.7     83  2030      SDS\n",
       "4      SDS 2040       1063.3   97.4     92  2040      SDS"
      ]
     },
     "execution_count": 14,
     "metadata": {},
     "output_type": "execute_result"
    }
   ],
   "source": [
    "df"
   ]
  },
  {
   "cell_type": "code",
   "execution_count": 15,
   "id": "ba0c4a93-7ae5-43b7-91e6-d4e19e27a3d1",
   "metadata": {},
   "outputs": [],
   "source": [
    "df_dw = df.pivot(index=\"year\", columns=\"scenario\", values=\"evs_storage\").reset_index()"
   ]
  },
  {
   "cell_type": "code",
   "execution_count": 16,
   "id": "5a07775b-181e-4f23-8a1d-a4a8a213c17e",
   "metadata": {},
   "outputs": [
    {
     "data": {
      "text/html": [
       "<div>\n",
       "<style scoped>\n",
       "    .dataframe tbody tr th:only-of-type {\n",
       "        vertical-align: middle;\n",
       "    }\n",
       "\n",
       "    .dataframe tbody tr th {\n",
       "        vertical-align: top;\n",
       "    }\n",
       "\n",
       "    .dataframe thead th {\n",
       "        text-align: right;\n",
       "    }\n",
       "</style>\n",
       "<table border=\"1\" class=\"dataframe\">\n",
       "  <thead>\n",
       "    <tr style=\"text-align: right;\">\n",
       "      <th>scenario</th>\n",
       "      <th>year</th>\n",
       "      <th>SDS</th>\n",
       "      <th>SPS</th>\n",
       "      <th>current</th>\n",
       "    </tr>\n",
       "  </thead>\n",
       "  <tbody>\n",
       "    <tr>\n",
       "      <th>0</th>\n",
       "      <td>2020</td>\n",
       "      <td>NaN</td>\n",
       "      <td>NaN</td>\n",
       "      <td>21.6</td>\n",
       "    </tr>\n",
       "    <tr>\n",
       "      <th>1</th>\n",
       "      <td>2030</td>\n",
       "      <td>383.1</td>\n",
       "      <td>164.0</td>\n",
       "      <td>NaN</td>\n",
       "    </tr>\n",
       "    <tr>\n",
       "      <th>2</th>\n",
       "      <td>2040</td>\n",
       "      <td>1063.3</td>\n",
       "      <td>276.1</td>\n",
       "      <td>NaN</td>\n",
       "    </tr>\n",
       "  </tbody>\n",
       "</table>\n",
       "</div>"
      ],
      "text/plain": [
       "scenario  year     SDS    SPS  current\n",
       "0         2020     NaN    NaN     21.6\n",
       "1         2030   383.1  164.0      NaN\n",
       "2         2040  1063.3  276.1      NaN"
      ]
     },
     "execution_count": 16,
     "metadata": {},
     "output_type": "execute_result"
    }
   ],
   "source": [
    "df_dw"
   ]
  },
  {
   "cell_type": "code",
   "execution_count": 19,
   "id": "5a38de86-2d14-4dbe-8239-cc38cac5d366",
   "metadata": {},
   "outputs": [
    {
     "data": {
      "text/plain": [
       "<Response [204]>"
      ]
     },
     "execution_count": 19,
     "metadata": {},
     "output_type": "execute_result"
    }
   ],
   "source": [
    "# dw.create_chart(\"projected lithium demand\", chart_type=\"d3-bars\", data=df_slim)\n",
    "chart_id = \"u3eCt\"\n",
    "dw.add_data(chart_id=chart_id, data=df_dw)"
   ]
  },
  {
   "cell_type": "code",
   "execution_count": null,
   "id": "b28c2d27-ea16-46d0-926c-44f16fa5b525",
   "metadata": {},
   "outputs": [],
   "source": []
  }
 ],
 "metadata": {
  "kernelspec": {
   "display_name": "Python 3 (ipykernel)",
   "language": "python",
   "name": "python3"
  },
  "language_info": {
   "codemirror_mode": {
    "name": "ipython",
    "version": 3
   },
   "file_extension": ".py",
   "mimetype": "text/x-python",
   "name": "python",
   "nbconvert_exporter": "python",
   "pygments_lexer": "ipython3",
   "version": "3.9.13"
  }
 },
 "nbformat": 4,
 "nbformat_minor": 5
}
