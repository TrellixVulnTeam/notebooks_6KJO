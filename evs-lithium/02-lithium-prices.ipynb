{
 "cells": [
  {
   "cell_type": "markdown",
   "id": "c358f0b2-a0eb-4ec2-9a44-4fe68dedbdd8",
   "metadata": {},
   "source": [
    "#### data sources<br>\n",
    "[lithium supply/demand](https://www.iea.org/data-and-statistics/charts/total-lithium-demand-by-sector-and-scenario-2020-2040)<br>\n",
    "the source report breaks it down by EVs only, not battery storage, so went into source report for specific number--don't use figures from this notebook\n"
   ]
  },
  {
   "cell_type": "markdown",
   "id": "3902ac42-c7d4-4a08-b6a2-6bdd49fa6169",
   "metadata": {},
   "source": [
    "### setup"
   ]
  },
  {
   "cell_type": "code",
   "execution_count": 1,
   "id": "107f06bf-34eb-4f4e-b453-d80eff14f50a",
   "metadata": {},
   "outputs": [],
   "source": [
    "%load_ext lab_black"
   ]
  },
  {
   "cell_type": "code",
   "execution_count": 2,
   "id": "add7276e-a94d-4bf5-9d55-7ac12baacff2",
   "metadata": {},
   "outputs": [],
   "source": [
    "import pandas as pd\n",
    "import requests\n",
    "import pageviewapi\n",
    "import datetime as dt\n",
    "from bs4 import BeautifulSoup\n",
    "import altair as alt\n",
    "import datetime as dt"
   ]
  },
  {
   "cell_type": "code",
   "execution_count": 3,
   "id": "55ed23da-fe8a-48d3-883e-57a75b8f7586",
   "metadata": {},
   "outputs": [
    {
     "data": {
      "text/plain": [
       "ThemeRegistry.enable('grid')"
      ]
     },
     "execution_count": 3,
     "metadata": {},
     "output_type": "execute_result"
    }
   ],
   "source": [
    "import altair_grid as altgrid\n",
    "\n",
    "alt.themes.register(\"grid\", altgrid.theme)\n",
    "alt.themes.enable(\"grid\")"
   ]
  },
  {
   "cell_type": "code",
   "execution_count": 4,
   "id": "8e3c12ff-b54f-45d7-9e01-8b9da0e58776",
   "metadata": {},
   "outputs": [],
   "source": [
    "pd.options.display.max_columns = 100\n",
    "pd.options.display.max_rows = 1000\n",
    "pd.options.display.max_colwidth = None"
   ]
  },
  {
   "cell_type": "code",
   "execution_count": 5,
   "id": "512489e3-fc65-4978-9663-ea3a0275551a",
   "metadata": {},
   "outputs": [],
   "source": [
    "from datawrapper import Datawrapper\n",
    "\n",
    "dw = Datawrapper(\n",
    "    access_token=\"PU52xuCQowgE5BFprvdnpFXzd5Ql9ISOSLBk58eNR2ykPztw0yC5fpqLTfsZdhyR\"\n",
    ")"
   ]
  },
  {
   "cell_type": "markdown",
   "id": "95b8a4cd-b932-48e5-bd8d-eb3be0dd8309",
   "metadata": {},
   "source": [
    "### read in data"
   ]
  },
  {
   "cell_type": "code",
   "execution_count": 15,
   "id": "b28c2d27-ea16-46d0-926c-44f16fa5b525",
   "metadata": {},
   "outputs": [],
   "source": [
    "df = pd.read_excel(\n",
    "    \"data/raw/Benchmark Lithium Prices - Grid 09-22.xlsx\", skiprows=7\n",
    ").rename(columns={\"Unnamed: 0\": \"date\"})"
   ]
  },
  {
   "cell_type": "code",
   "execution_count": 17,
   "id": "84b9c3e2-7340-4612-a810-dd9f692a7c9b",
   "metadata": {},
   "outputs": [
    {
     "name": "stdout",
     "output_type": "stream",
     "text": [
      "New chart d3-lines created!\n"
     ]
    },
    {
     "data": {
      "text/plain": [
       "{'publicId': 'opZw1',\n",
       " 'language': 'en-US',\n",
       " 'theme': 'grid',\n",
       " 'title': 'lithium prices',\n",
       " 'type': 'd3-lines',\n",
       " 'metadata': {'data': {'changes': [],\n",
       "   'transpose': False,\n",
       "   'vertical-header': True,\n",
       "   'horizontal-header': True},\n",
       "  'describe': {'source-name': '',\n",
       "   'source-url': '',\n",
       "   'intro': '',\n",
       "   'byline': '',\n",
       "   'aria-description': '',\n",
       "   'number-format': '-',\n",
       "   'number-divisor': 0,\n",
       "   'number-append': '',\n",
       "   'number-prepend': ''},\n",
       "  'visualize': {'dark-mode-invert': True,\n",
       "   'highlighted-series': [],\n",
       "   'highlighted-values': [],\n",
       "   'sharing': {'enabled': False},\n",
       "   'y-grid-labels': 'outside'},\n",
       "  'axes': {},\n",
       "  'publish': {'embed-width': 360,\n",
       "   'embed-height': 400,\n",
       "   'blocks': {'logo': {'enabled': True, 'id': 'main'},\n",
       "    'embed': False,\n",
       "    'download-pdf': False,\n",
       "    'download-svg': False,\n",
       "    'get-the-data': False,\n",
       "    'download-image': False},\n",
       "   'export-pdf': {}},\n",
       "  'annotate': {'notes': ''},\n",
       "  'custom': {}},\n",
       " 'authorId': 393403,\n",
       " 'id': 'opZw1',\n",
       " 'lastModifiedAt': '2022-09-23T16:24:56.907Z',\n",
       " 'createdAt': '2022-09-23T16:24:56.893Z',\n",
       " 'organizationId': '1NhUBkSc',\n",
       " 'url': '/v3/charts/opZw1'}"
      ]
     },
     "execution_count": 17,
     "metadata": {},
     "output_type": "execute_result"
    }
   ],
   "source": [
    "#dw.create_chart(\"lithium prices\", chart_type=\"d3-lines\", data=df)\n",
    "chart_id='opZw1'\n",
    "dw.add_data(chart_id=chart_id,data=df)"
   ]
  },
  {
   "cell_type": "code",
   "execution_count": null,
   "id": "8d45e00d-e311-4123-976f-1418717a1ef3",
   "metadata": {},
   "outputs": [],
   "source": []
  }
 ],
 "metadata": {
  "kernelspec": {
   "display_name": "Python 3 (ipykernel)",
   "language": "python",
   "name": "python3"
  },
  "language_info": {
   "codemirror_mode": {
    "name": "ipython",
    "version": 3
   },
   "file_extension": ".py",
   "mimetype": "text/x-python",
   "name": "python",
   "nbconvert_exporter": "python",
   "pygments_lexer": "ipython3",
   "version": "3.9.13"
  }
 },
 "nbformat": 4,
 "nbformat_minor": 5
}
