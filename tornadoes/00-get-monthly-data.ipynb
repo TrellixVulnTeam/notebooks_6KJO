{
 "cells": [
  {
   "cell_type": "markdown",
   "id": "b4e7a301-89fc-4ff1-bfb6-1d13215c35e3",
   "metadata": {
    "tags": []
   },
   "source": [
    "# December tornadoes"
   ]
  },
  {
   "cell_type": "markdown",
   "id": "939e477f-9170-4c7f-80af-c4ed7454c3f0",
   "metadata": {
    "tags": []
   },
   "source": [
    "### Import Python tools and Jupyter configuration"
   ]
  },
  {
   "cell_type": "code",
   "execution_count": 10,
   "id": "9b1a5368-4d6c-4273-954c-107038ca1a33",
   "metadata": {},
   "outputs": [
    {
     "name": "stdout",
     "output_type": "stream",
     "text": [
      "The lab_black extension is already loaded. To reload it, use:\n",
      "  %reload_ext lab_black\n"
     ]
    }
   ],
   "source": [
    "%load_ext lab_black"
   ]
  },
  {
   "cell_type": "code",
   "execution_count": 11,
   "id": "5093df93-751b-40f3-ba53-7460919ff4c2",
   "metadata": {},
   "outputs": [],
   "source": [
    "import pandas as pd\n",
    "import geopandas as gpd\n",
    "import altair as alt\n",
    "from datetime import timedelta\n",
    "import numpy as np"
   ]
  },
  {
   "cell_type": "code",
   "execution_count": 12,
   "id": "b49d899a-d0da-4023-ab85-5299b50dfd62",
   "metadata": {},
   "outputs": [],
   "source": [
    "pd.options.display.max_columns = 100\n",
    "pd.options.display.max_rows = 1000\n",
    "pd.options.display.max_colwidth = None"
   ]
  },
  {
   "cell_type": "markdown",
   "id": "810055ad-bea8-41ff-992d-91c3d8693439",
   "metadata": {},
   "source": [
    "---"
   ]
  },
  {
   "cell_type": "markdown",
   "id": "abab4a66-b0b3-45b1-967d-70003355dbfe",
   "metadata": {},
   "source": [
    "### Get monthly data from NOAA"
   ]
  },
  {
   "cell_type": "code",
   "execution_count": null,
   "id": "37256cae-8b1a-4b07-8ada-d10de7cd36e6",
   "metadata": {},
   "outputs": [],
   "source": []
  },
  {
   "cell_type": "code",
   "execution_count": 81,
   "id": "19cbe80a-fdc0-448e-a09a-c675764f4cfe",
   "metadata": {},
   "outputs": [],
   "source": [
    "df = pd.read_csv(\n",
    "    \"https://www.ncdc.noaa.gov/societal-impacts/tornadoes/time-series/1/0/data.csv\",\n",
    "    skiprows=2,\n",
    "    dtype={\"Date\": str},\n",
    ")"
   ]
  },
  {
   "cell_type": "code",
   "execution_count": 82,
   "id": "57800335-cc7f-4160-99e5-91f9864e82bf",
   "metadata": {},
   "outputs": [],
   "source": [
    "df.columns = df.columns.str.lower()"
   ]
  },
  {
   "cell_type": "code",
   "execution_count": 83,
   "id": "5f9d46d5-dab0-4177-a400-535af3d444ba",
   "metadata": {},
   "outputs": [],
   "source": [
    "df[\"year\"] = df[\"date\"].str[:4].astype(int)\n",
    "df[\"month\"] = df[\"date\"].str[4:]\n",
    "df[\"tornadoes\"] = df[\"tornadoes\"].str.replace(\"*\", \"\", regex=False).astype(int)\n",
    "df[\"fatalities\"] = df[\"fatalities\"].replace(\"*\", \"\", regex=False).astype(int)"
   ]
  },
  {
   "cell_type": "code",
   "execution_count": 84,
   "id": "3fd580f6-f8c6-4593-8ef0-8c1efdf2929b",
   "metadata": {},
   "outputs": [],
   "source": [
    "df.drop(\"date\", axis=1, inplace=True)"
   ]
  },
  {
   "cell_type": "code",
   "execution_count": 96,
   "id": "5c0b70b0-ddb0-4946-b43b-427abdd1d7f8",
   "metadata": {},
   "outputs": [],
   "source": [
    "df = df[[\"month\", \"year\", \"tornadoes\", \"fatalities\"]]"
   ]
  },
  {
   "cell_type": "markdown",
   "id": "4cd39feb-786f-4ba6-9794-157a0c6ea39f",
   "metadata": {},
   "source": [
    "### Fatality rate"
   ]
  },
  {
   "cell_type": "code",
   "execution_count": 98,
   "id": "d7401be9-1e13-46d5-b6ad-b6b7d32da640",
   "metadata": {},
   "outputs": [],
   "source": [
    "df[\"fatality_rate\"] = round((df[\"fatalities\"] / df[\"tornadoes\"]), 2)"
   ]
  },
  {
   "cell_type": "code",
   "execution_count": 99,
   "id": "5d2ccc9a-f0c5-4c4d-bcc4-c51d992fb4c5",
   "metadata": {},
   "outputs": [],
   "source": [
    "df[\"decade\"] = (10 * (df[\"year\"] // 10)).astype(str) + \"s\""
   ]
  },
  {
   "cell_type": "markdown",
   "id": "1d12c289-2c09-4c20-b056-f9f928227e7a",
   "metadata": {},
   "source": [
    "### December cases"
   ]
  },
  {
   "cell_type": "code",
   "execution_count": 102,
   "id": "9bfff9d6-e045-4491-b341-e80d439455bd",
   "metadata": {},
   "outputs": [],
   "source": [
    "dec_df = df[df[\"month\"] == \"12\"]"
   ]
  },
  {
   "cell_type": "code",
   "execution_count": 113,
   "id": "3e0d8d86-67a7-4402-b6f9-d48cb597e900",
   "metadata": {},
   "outputs": [],
   "source": [
    "mean_dec_df = dec_df.groupby([\"decade\"]).agg({\"tornadoes\": \"mean\"}).reset_index()\n",
    "mean_df = df.groupby([\"decade\"]).agg({\"tornadoes\": \"mean\"}).reset_index()"
   ]
  },
  {
   "cell_type": "code",
   "execution_count": 116,
   "id": "f09b77a5-9152-46c5-92b7-7716bdfc9cb1",
   "metadata": {},
   "outputs": [
    {
     "data": {
      "text/html": [
       "\n",
       "<div id=\"altair-viz-58dab02e823840069a3e0dae600a1438\"></div>\n",
       "<script type=\"text/javascript\">\n",
       "  var VEGA_DEBUG = (typeof VEGA_DEBUG == \"undefined\") ? {} : VEGA_DEBUG;\n",
       "  (function(spec, embedOpt){\n",
       "    let outputDiv = document.currentScript.previousElementSibling;\n",
       "    if (outputDiv.id !== \"altair-viz-58dab02e823840069a3e0dae600a1438\") {\n",
       "      outputDiv = document.getElementById(\"altair-viz-58dab02e823840069a3e0dae600a1438\");\n",
       "    }\n",
       "    const paths = {\n",
       "      \"vega\": \"https://cdn.jsdelivr.net/npm//vega@5?noext\",\n",
       "      \"vega-lib\": \"https://cdn.jsdelivr.net/npm//vega-lib?noext\",\n",
       "      \"vega-lite\": \"https://cdn.jsdelivr.net/npm//vega-lite@4.17.0?noext\",\n",
       "      \"vega-embed\": \"https://cdn.jsdelivr.net/npm//vega-embed@6?noext\",\n",
       "    };\n",
       "\n",
       "    function maybeLoadScript(lib, version) {\n",
       "      var key = `${lib.replace(\"-\", \"\")}_version`;\n",
       "      return (VEGA_DEBUG[key] == version) ?\n",
       "        Promise.resolve(paths[lib]) :\n",
       "        new Promise(function(resolve, reject) {\n",
       "          var s = document.createElement('script');\n",
       "          document.getElementsByTagName(\"head\")[0].appendChild(s);\n",
       "          s.async = true;\n",
       "          s.onload = () => {\n",
       "            VEGA_DEBUG[key] = version;\n",
       "            return resolve(paths[lib]);\n",
       "          };\n",
       "          s.onerror = () => reject(`Error loading script: ${paths[lib]}`);\n",
       "          s.src = paths[lib];\n",
       "        });\n",
       "    }\n",
       "\n",
       "    function showError(err) {\n",
       "      outputDiv.innerHTML = `<div class=\"error\" style=\"color:red;\">${err}</div>`;\n",
       "      throw err;\n",
       "    }\n",
       "\n",
       "    function displayChart(vegaEmbed) {\n",
       "      vegaEmbed(outputDiv, spec, embedOpt)\n",
       "        .catch(err => showError(`Javascript Error: ${err.message}<br>This usually means there's a typo in your chart specification. See the javascript console for the full traceback.`));\n",
       "    }\n",
       "\n",
       "    if(typeof define === \"function\" && define.amd) {\n",
       "      requirejs.config({paths});\n",
       "      require([\"vega-embed\"], displayChart, err => showError(`Error loading script: ${err.message}`));\n",
       "    } else {\n",
       "      maybeLoadScript(\"vega\", \"5\")\n",
       "        .then(() => maybeLoadScript(\"vega-lite\", \"4.17.0\"))\n",
       "        .then(() => maybeLoadScript(\"vega-embed\", \"6\"))\n",
       "        .catch(showError)\n",
       "        .then(() => displayChart(vegaEmbed));\n",
       "    }\n",
       "  })({\"config\": {\"view\": {\"continuousWidth\": 400, \"continuousHeight\": 300}}, \"data\": {\"name\": \"data-cb9b6ec5197347c4ef3a17798c6fd15f\"}, \"mark\": \"bar\", \"encoding\": {\"x\": {\"field\": \"decade\", \"type\": \"nominal\"}, \"y\": {\"field\": \"tornadoes\", \"type\": \"quantitative\"}}, \"height\": 300, \"title\": \"Mean number of tornadoes, by decade\", \"width\": 350, \"$schema\": \"https://vega.github.io/schema/vega-lite/v4.17.0.json\", \"datasets\": {\"data-cb9b6ec5197347c4ef3a17798c6fd15f\": [{\"decade\": \"1950s\", \"tornadoes\": 10.8}, {\"decade\": \"1960s\", \"tornadoes\": 17.1}, {\"decade\": \"1970s\", \"tornadoes\": 21.2}, {\"decade\": \"1980s\", \"tornadoes\": 20.7}, {\"decade\": \"1990s\", \"tornadoes\": 13.4}, {\"decade\": \"2000s\", \"tornadoes\": 34.3}, {\"decade\": \"2010s\", \"tornadoes\": 37.5}, {\"decade\": \"2020s\", \"tornadoes\": 110.0}]}}, {\"mode\": \"vega-lite\"});\n",
       "</script>"
      ],
      "text/plain": [
       "alt.Chart(...)"
      ]
     },
     "execution_count": 116,
     "metadata": {},
     "output_type": "execute_result"
    }
   ],
   "source": [
    "alt.Chart(mean_dec_df).mark_bar().encode(x=\"decade\", y=\"tornadoes\").properties(\n",
    "    width=350, height=300, title=\"Mean number of tornadoes, by decade\"\n",
    ")"
   ]
  }
 ],
 "metadata": {
  "kernelspec": {
   "display_name": "Python 3 (ipykernel)",
   "language": "python",
   "name": "python3"
  },
  "language_info": {
   "codemirror_mode": {
    "name": "ipython",
    "version": 3
   },
   "file_extension": ".py",
   "mimetype": "text/x-python",
   "name": "python",
   "nbconvert_exporter": "python",
   "pygments_lexer": "ipython3",
   "version": "3.8.9"
  }
 },
 "nbformat": 4,
 "nbformat_minor": 5
}
