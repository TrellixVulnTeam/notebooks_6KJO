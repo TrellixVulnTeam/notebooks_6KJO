{
 "cells": [
  {
   "cell_type": "markdown",
   "id": "6536fc1b-b0ca-4e3b-a640-ca0b81f4eebc",
   "metadata": {},
   "source": [
    "### setup"
   ]
  },
  {
   "cell_type": "code",
   "execution_count": 1,
   "id": "872a92b3-ae3d-4fb8-87f6-bbd540cbc336",
   "metadata": {},
   "outputs": [],
   "source": [
    "%load_ext lab_black"
   ]
  },
  {
   "cell_type": "code",
   "execution_count": 2,
   "id": "89c01b13-9884-4e35-813f-68cae3db9693",
   "metadata": {},
   "outputs": [],
   "source": [
    "import pandas as pd\n",
    "import geopandas as gpd"
   ]
  },
  {
   "cell_type": "code",
   "execution_count": 3,
   "id": "ef574d96-930b-4c42-abce-f48fbe58d818",
   "metadata": {},
   "outputs": [
    {
     "data": {
      "text/plain": [
       "ThemeRegistry.enable('grid')"
      ]
     },
     "execution_count": 3,
     "metadata": {},
     "output_type": "execute_result"
    }
   ],
   "source": [
    "import altair as alt\n",
    "import altair_grid as altgrid\n",
    "\n",
    "alt.themes.register(\"grid\", altgrid.theme)\n",
    "alt.themes.enable(\"grid\")"
   ]
  },
  {
   "cell_type": "code",
   "execution_count": 14,
   "id": "6e25bbc5-bb89-4b28-ad86-9a2744432eb4",
   "metadata": {},
   "outputs": [],
   "source": [
    "import requests\n",
    "import bs4\n",
    "from bs4 import BeautifulSoup\n",
    "from urllib.request import urlopen"
   ]
  },
  {
   "cell_type": "code",
   "execution_count": 15,
   "id": "861eeca9-a220-44be-a8fd-ca71a110fa71",
   "metadata": {},
   "outputs": [],
   "source": [
    "my_headers = {\n",
    "    \"User-Agent\": \"Mozilla/5.0 (Macintosh; Intel Mac OSX 10_14_3) AppleWebKit/537.36 (KHTML, like Gecko)Chrome/71.0.3578.98 Safari/537.36\",\n",
    "    \"Accept\": \"text/html,application/xhtml+xml,application/xml;q=0.9,image/webp,image/apng,*/*;q=0.8\",\n",
    "}\n",
    "\n",
    "session = requests.Session()\n",
    "\n",
    "url = \"https://www.prochoiceamerica.org/elections/endorsements-2/\"\n",
    "response = session.get(url, headers=my_headers)\n",
    "\n",
    "html_soup = BeautifulSoup(response.text, \"html.parser\")"
   ]
  },
  {
   "cell_type": "code",
   "execution_count": 21,
   "id": "98c4d03a-25b6-41bf-9421-ad515bfa5c49",
   "metadata": {},
   "outputs": [],
   "source": [
    "grids = html_soup.find_all(\"div\", class_=\"module issues-page inpage person\")[2:4]"
   ]
  },
  {
   "cell_type": "code",
   "execution_count": 27,
   "id": "5ac2b32a-a1eb-4faa-a7e0-a1ea8bfeebe7",
   "metadata": {},
   "outputs": [],
   "source": [
    "ag_names = grids[0].find_all(\"h6\")\n",
    "ag_states = grids[0].find_all(\"small\")"
   ]
  },
  {
   "cell_type": "code",
   "execution_count": 29,
   "id": "ad01e2a0-46c7-442d-af05-95b2083f20bc",
   "metadata": {},
   "outputs": [],
   "source": [
    "gov_names = grids[1].find_all(\"h6\")\n",
    "gov_states = grids[1].find_all(\"small\")"
   ]
  },
  {
   "cell_type": "code",
   "execution_count": 39,
   "id": "395df6d3-7f86-4e7f-aa56-5fcda35d0fbb",
   "metadata": {},
   "outputs": [],
   "source": [
    "names = []\n",
    "states = []\n",
    "race = []\n",
    "for name in ag_names:\n",
    "    names.append(name.text.strip())\n",
    "\n",
    "for state in ag_states:\n",
    "    states.append(state.text.strip())\n",
    "    race.append(\"AG\")\n",
    "\n",
    "\n",
    "for gname in gov_names:\n",
    "    names.append(gname.text.strip())\n",
    "\n",
    "for gstate in gov_states:\n",
    "    states.append(gstate.text.strip())\n",
    "    race.append(\"Gov\")"
   ]
  },
  {
   "cell_type": "code",
   "execution_count": 45,
   "id": "07fa99c7-dc78-4762-8903-98aa60ee49ef",
   "metadata": {},
   "outputs": [],
   "source": [
    "df = pd.DataFrame({\"name\": names, \"state\": states, \"race\": race})"
   ]
  },
  {
   "cell_type": "code",
   "execution_count": 46,
   "id": "dea76410-2607-4701-8e33-d3ad89952dbd",
   "metadata": {},
   "outputs": [
    {
     "data": {
      "text/html": [
       "<div>\n",
       "<style scoped>\n",
       "    .dataframe tbody tr th:only-of-type {\n",
       "        vertical-align: middle;\n",
       "    }\n",
       "\n",
       "    .dataframe tbody tr th {\n",
       "        vertical-align: top;\n",
       "    }\n",
       "\n",
       "    .dataframe thead th {\n",
       "        text-align: right;\n",
       "    }\n",
       "</style>\n",
       "<table border=\"1\" class=\"dataframe\">\n",
       "  <thead>\n",
       "    <tr style=\"text-align: right;\">\n",
       "      <th></th>\n",
       "      <th>name</th>\n",
       "      <th>state</th>\n",
       "      <th>race</th>\n",
       "    </tr>\n",
       "  </thead>\n",
       "  <tbody>\n",
       "    <tr>\n",
       "      <th>0</th>\n",
       "      <td>Kris Mayes</td>\n",
       "      <td>AZ</td>\n",
       "      <td>AG</td>\n",
       "    </tr>\n",
       "    <tr>\n",
       "      <th>1</th>\n",
       "      <td>AG Rob Bonta</td>\n",
       "      <td>CA</td>\n",
       "      <td>AG</td>\n",
       "    </tr>\n",
       "    <tr>\n",
       "      <th>2</th>\n",
       "      <td>AG Phil Weiser</td>\n",
       "      <td>CO</td>\n",
       "      <td>AG</td>\n",
       "    </tr>\n",
       "    <tr>\n",
       "      <th>3</th>\n",
       "      <td>Jen Jordan</td>\n",
       "      <td>GA</td>\n",
       "      <td>AG</td>\n",
       "    </tr>\n",
       "    <tr>\n",
       "      <th>4</th>\n",
       "      <td>Andrea Campbell</td>\n",
       "      <td>MA</td>\n",
       "      <td>AG</td>\n",
       "    </tr>\n",
       "    <tr>\n",
       "      <th>5</th>\n",
       "      <td>AG Dana  Nessel</td>\n",
       "      <td>MI</td>\n",
       "      <td>AG</td>\n",
       "    </tr>\n",
       "    <tr>\n",
       "      <th>6</th>\n",
       "      <td>AG Aaron  Ford</td>\n",
       "      <td>NV</td>\n",
       "      <td>AG</td>\n",
       "    </tr>\n",
       "    <tr>\n",
       "      <th>7</th>\n",
       "      <td>Rochelle  Garza</td>\n",
       "      <td>TX</td>\n",
       "      <td>AG</td>\n",
       "    </tr>\n",
       "    <tr>\n",
       "      <th>8</th>\n",
       "      <td>AG Josh  Kaul</td>\n",
       "      <td>WI</td>\n",
       "      <td>AG</td>\n",
       "    </tr>\n",
       "    <tr>\n",
       "      <th>9</th>\n",
       "      <td>Les Gara</td>\n",
       "      <td>AK</td>\n",
       "      <td>Gov</td>\n",
       "    </tr>\n",
       "    <tr>\n",
       "      <th>10</th>\n",
       "      <td>Katie Hobbs</td>\n",
       "      <td>AZ</td>\n",
       "      <td>Gov</td>\n",
       "    </tr>\n",
       "    <tr>\n",
       "      <th>11</th>\n",
       "      <td>Gov. Gavin Newsom</td>\n",
       "      <td>CA</td>\n",
       "      <td>Gov</td>\n",
       "    </tr>\n",
       "    <tr>\n",
       "      <th>12</th>\n",
       "      <td>Stacey  Abrams</td>\n",
       "      <td>GA</td>\n",
       "      <td>Gov</td>\n",
       "    </tr>\n",
       "    <tr>\n",
       "      <th>13</th>\n",
       "      <td>Deidre DeJear</td>\n",
       "      <td>IA</td>\n",
       "      <td>Gov</td>\n",
       "    </tr>\n",
       "    <tr>\n",
       "      <th>14</th>\n",
       "      <td>Maura  Healey</td>\n",
       "      <td>MA</td>\n",
       "      <td>Gov</td>\n",
       "    </tr>\n",
       "    <tr>\n",
       "      <th>15</th>\n",
       "      <td>Janet  Mills</td>\n",
       "      <td>ME</td>\n",
       "      <td>Gov</td>\n",
       "    </tr>\n",
       "    <tr>\n",
       "      <th>16</th>\n",
       "      <td>Gov. Gretchen Whitmer</td>\n",
       "      <td>MI</td>\n",
       "      <td>Gov</td>\n",
       "    </tr>\n",
       "    <tr>\n",
       "      <th>17</th>\n",
       "      <td>Gov. Michelle  Lujan Grisham</td>\n",
       "      <td>NM</td>\n",
       "      <td>Gov</td>\n",
       "    </tr>\n",
       "    <tr>\n",
       "      <th>18</th>\n",
       "      <td>Gov. Steve  Sisolak</td>\n",
       "      <td>NV</td>\n",
       "      <td>Gov</td>\n",
       "    </tr>\n",
       "    <tr>\n",
       "      <th>19</th>\n",
       "      <td>Gov. Kathy Hochul</td>\n",
       "      <td>NY</td>\n",
       "      <td>Gov</td>\n",
       "    </tr>\n",
       "    <tr>\n",
       "      <th>20</th>\n",
       "      <td>Tina Kotek</td>\n",
       "      <td>OR</td>\n",
       "      <td>Gov</td>\n",
       "    </tr>\n",
       "    <tr>\n",
       "      <th>21</th>\n",
       "      <td>Josh Shapiro</td>\n",
       "      <td>PA</td>\n",
       "      <td>Gov</td>\n",
       "    </tr>\n",
       "    <tr>\n",
       "      <th>22</th>\n",
       "      <td>Beto  O'Rourke</td>\n",
       "      <td>Governor</td>\n",
       "      <td>Gov</td>\n",
       "    </tr>\n",
       "    <tr>\n",
       "      <th>23</th>\n",
       "      <td>Gov. Tony  Evers</td>\n",
       "      <td>WI</td>\n",
       "      <td>Gov</td>\n",
       "    </tr>\n",
       "  </tbody>\n",
       "</table>\n",
       "</div>"
      ],
      "text/plain": [
       "                            name     state race\n",
       "0                     Kris Mayes        AZ   AG\n",
       "1                   AG Rob Bonta        CA   AG\n",
       "2                 AG Phil Weiser        CO   AG\n",
       "3                     Jen Jordan        GA   AG\n",
       "4                Andrea Campbell        MA   AG\n",
       "5                AG Dana  Nessel        MI   AG\n",
       "6                 AG Aaron  Ford        NV   AG\n",
       "7                Rochelle  Garza        TX   AG\n",
       "8                  AG Josh  Kaul        WI   AG\n",
       "9                       Les Gara        AK  Gov\n",
       "10                   Katie Hobbs        AZ  Gov\n",
       "11             Gov. Gavin Newsom        CA  Gov\n",
       "12                Stacey  Abrams        GA  Gov\n",
       "13                 Deidre DeJear        IA  Gov\n",
       "14                 Maura  Healey        MA  Gov\n",
       "15                  Janet  Mills        ME  Gov\n",
       "16         Gov. Gretchen Whitmer        MI  Gov\n",
       "17  Gov. Michelle  Lujan Grisham        NM  Gov\n",
       "18           Gov. Steve  Sisolak        NV  Gov\n",
       "19             Gov. Kathy Hochul        NY  Gov\n",
       "20                    Tina Kotek        OR  Gov\n",
       "21                  Josh Shapiro        PA  Gov\n",
       "22                Beto  O'Rourke  Governor  Gov\n",
       "23              Gov. Tony  Evers        WI  Gov"
      ]
     },
     "execution_count": 46,
     "metadata": {},
     "output_type": "execute_result"
    }
   ],
   "source": [
    "df"
   ]
  },
  {
   "cell_type": "code",
   "execution_count": null,
   "id": "08b620fb-caca-4123-ba9c-923155d8e838",
   "metadata": {},
   "outputs": [],
   "source": [
    "\"\""
   ]
  }
 ],
 "metadata": {
  "kernelspec": {
   "display_name": "Python 3 (ipykernel)",
   "language": "python",
   "name": "python3"
  },
  "language_info": {
   "codemirror_mode": {
    "name": "ipython",
    "version": 3
   },
   "file_extension": ".py",
   "mimetype": "text/x-python",
   "name": "python",
   "nbconvert_exporter": "python",
   "pygments_lexer": "ipython3",
   "version": "3.9.13"
  }
 },
 "nbformat": 4,
 "nbformat_minor": 5
}
