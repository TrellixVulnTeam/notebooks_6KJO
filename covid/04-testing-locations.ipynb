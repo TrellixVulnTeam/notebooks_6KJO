{
 "cells": [
  {
   "cell_type": "markdown",
   "metadata": {},
   "source": [
    "# Coronavirus testing locations in California"
   ]
  },
  {
   "cell_type": "markdown",
   "metadata": {},
   "source": [
    "### Load python tools"
   ]
  },
  {
   "cell_type": "code",
   "execution_count": 1,
   "metadata": {},
   "outputs": [
    {
     "data": {
      "text/plain": [
       "DataTransformerRegistry.enable('default')"
      ]
     },
     "execution_count": 1,
     "metadata": {},
     "output_type": "execute_result"
    }
   ],
   "source": [
    "import pandas as pd\n",
    "import geopandas as gpd\n",
    "import jenkspy\n",
    "import matplotlib.pyplot as plt\n",
    "%matplotlib inline\n",
    "import json\n",
    "import numpy as np\n",
    "from altair import datum\n",
    "import altair as alt\n",
    "import shapely\n",
    "import altair_latimes as lat\n",
    "alt.themes.register('latimes', lat.theme)\n",
    "alt.themes.enable('latimes')\n",
    "pd.options.display.max_columns = 50\n",
    "pd.options.display.max_rows = 1000\n",
    "alt.data_transformers.disable_max_rows()"
   ]
  },
  {
   "cell_type": "code",
   "execution_count": 2,
   "metadata": {},
   "outputs": [],
   "source": [
    "SQMETERS_TO_SQMI = 2590000"
   ]
  },
  {
   "cell_type": "markdown",
   "metadata": {},
   "source": [
    "### Import testing locations from state map, which uses to Esri API endpoints"
   ]
  },
  {
   "cell_type": "code",
   "execution_count": 3,
   "metadata": {},
   "outputs": [],
   "source": [
    "# map front end: https://www.arcgis.com/apps/Nearby/index.html?appid=43118dc0d5d348d8ab20a81967a15401\n",
    "# community: https://services.arcgis.com/8ZpVMShClf8U8dae/arcgis/rest/services/TestingLocations_public2/FeatureServer/0\n",
    "# state: https://services.arcgis.com/BLN4oKB0N1YSgvY8/arcgis/rest/services/State_Test_Sites/FeatureServer/0"
   ]
  },
  {
   "cell_type": "markdown",
   "metadata": {},
   "source": [
    "### Read state-sponsored locations"
   ]
  },
  {
   "cell_type": "code",
   "execution_count": 106,
   "metadata": {},
   "outputs": [],
   "source": [
    "# !agsout -s input/services.txt -o input"
   ]
  },
  {
   "cell_type": "code",
   "execution_count": 107,
   "metadata": {},
   "outputs": [],
   "source": [
    "state = gpd.read_file('input/State_Test_Sites/State_Test_Sites_1589559599829.geojson')"
   ]
  },
  {
   "cell_type": "code",
   "execution_count": 108,
   "metadata": {},
   "outputs": [],
   "source": [
    "state.columns = state.columns.str.strip().str.lower().str.replace(' ', '_')\\\n",
    "                    .str.replace('(', '').str.replace(')', '').str.replace('-','_')"
   ]
  },
  {
   "cell_type": "code",
   "execution_count": 109,
   "metadata": {},
   "outputs": [
    {
     "data": {
      "text/plain": [
       "objectid                                                       3\n",
       "globalid                    0a3c99f8-4e79-41ee-a307-94d2b22ca10f\n",
       "county                                                     Butte\n",
       "address                                             2357 Fair St\n",
       "city                                                       Chico\n",
       "zipcode                                                    95928\n",
       "hoursofoperation                                       0700-1900\n",
       "operator                                              OPTUMServe\n",
       "sitename                                            OPTUMServe 1\n",
       "website                            https://lhi.care/covidtesting\n",
       "daysofoperation                       Mon, Tues, Wed, Thurs, Fri\n",
       "publicphone                                       (888) 634-1123\n",
       "geometry            POINT (-121.8130604997285 39.71829599981998)\n",
       "Name: 0, dtype: object"
      ]
     },
     "execution_count": 109,
     "metadata": {},
     "output_type": "execute_result"
    }
   ],
   "source": [
    "state.iloc[0]"
   ]
  },
  {
   "cell_type": "markdown",
   "metadata": {},
   "source": [
    "### What share are OPTUMServe vs. Verily?"
   ]
  },
  {
   "cell_type": "code",
   "execution_count": 110,
   "metadata": {},
   "outputs": [
    {
     "data": {
      "text/plain": [
       "OPTUMServe    86.05%\n",
       "Verily        13.95%\n",
       "Name: operator, dtype: object"
      ]
     },
     "execution_count": 110,
     "metadata": {},
     "output_type": "execute_result"
    }
   ],
   "source": [
    "(state['operator'].value_counts('normalize')*100).round(2).astype(str) + '%'"
   ]
  },
  {
   "cell_type": "markdown",
   "metadata": {},
   "source": [
    "### What share are in each county?"
   ]
  },
  {
   "cell_type": "code",
   "execution_count": 111,
   "metadata": {},
   "outputs": [
    {
     "data": {
      "text/plain": [
       "Los Angeles        11.63%\n",
       "Riverside          10.47%\n",
       "Santa Clara         4.65%\n",
       "Orange              4.65%\n",
       "Kern                4.65%\n",
       "San Bernadino       3.49%\n",
       "San Diego           3.49%\n",
       "Santa Barbara       3.49%\n",
       "Alameda             3.49%\n",
       "Contra Costa        3.49%\n",
       "Stanislaus          3.49%\n",
       "Placer              2.33%\n",
       "Sonoma              2.33%\n",
       "Ventura             2.33%\n",
       "Tulare              2.33%\n",
       "San Luis Obispo     2.33%\n",
       "Monterey            2.33%\n",
       "San Joaquin         2.33%\n",
       "El Dorado           2.33%\n",
       "Solano              2.33%\n",
       "Fresno              2.33%\n",
       "Marin               1.16%\n",
       "Napa                1.16%\n",
       "San Benito          1.16%\n",
       "Butte               1.16%\n",
       "San Mateo           1.16%\n",
       "Mariposa            1.16%\n",
       "Santa Cruz          1.16%\n",
       "Tehama              1.16%\n",
       "Merced              1.16%\n",
       "Yolo                1.16%\n",
       "Sacramento          1.16%\n",
       "Nevada              1.16%\n",
       "Kings               1.16%\n",
       "Sutter              1.16%\n",
       "Humboldt            1.16%\n",
       "Shasta              1.16%\n",
       "Imperial            1.16%\n",
       "Name: county, dtype: object"
      ]
     },
     "execution_count": 111,
     "metadata": {},
     "output_type": "execute_result"
    }
   ],
   "source": [
    "(state['county'].value_counts('normalize')*100).round(2).astype(str) + '%'"
   ]
  },
  {
   "cell_type": "code",
   "execution_count": 112,
   "metadata": {},
   "outputs": [
    {
     "data": {
      "text/plain": [
       "objectid                                                       3\n",
       "globalid                    0a3c99f8-4e79-41ee-a307-94d2b22ca10f\n",
       "county                                                     Butte\n",
       "address                                             2357 Fair St\n",
       "city                                                       Chico\n",
       "zipcode                                                    95928\n",
       "hoursofoperation                                       0700-1900\n",
       "operator                                              OPTUMServe\n",
       "sitename                                            OPTUMServe 1\n",
       "website                            https://lhi.care/covidtesting\n",
       "daysofoperation                       Mon, Tues, Wed, Thurs, Fri\n",
       "publicphone                                       (888) 634-1123\n",
       "geometry            POINT (-121.8130604997285 39.71829599981998)\n",
       "Name: 0, dtype: object"
      ]
     },
     "execution_count": 112,
     "metadata": {},
     "output_type": "execute_result"
    }
   ],
   "source": [
    "state.iloc[0]"
   ]
  },
  {
   "cell_type": "markdown",
   "metadata": {},
   "source": [
    "### Read broader list of community testing locations"
   ]
  },
  {
   "cell_type": "code",
   "execution_count": 113,
   "metadata": {},
   "outputs": [],
   "source": [
    "community_all = gpd.read_file('input/TestingLocations_public2/TestingLocations_public2_1589559606758.geojson')"
   ]
  },
  {
   "cell_type": "code",
   "execution_count": 114,
   "metadata": {},
   "outputs": [],
   "source": [
    "community_all.columns = community_all.columns.str.strip().str.lower().str.replace(' ', '_')\\\n",
    "                    .str.replace('(', '').str.replace(')', '').str.replace('-','_')"
   ]
  },
  {
   "cell_type": "code",
   "execution_count": 115,
   "metadata": {},
   "outputs": [],
   "source": [
    "community_all['type_of_test'] = np.where((community_all['type_of_test'] == 'Both'),\\\n",
    "                                         'both',community_all['type_of_test'])"
   ]
  },
  {
   "cell_type": "markdown",
   "metadata": {},
   "source": [
    "### Select from Esri list places 1) in CA and 2) listed as 'open' and 3) perform molecular testing"
   ]
  },
  {
   "cell_type": "code",
   "execution_count": 116,
   "metadata": {},
   "outputs": [],
   "source": [
    "community = pd.DataFrame(community_all[(community_all['state'] == \"CA\") & \\\n",
    "                                      (community_all['status'] == \"Open\") & \\\n",
    "                                      ((community_all['type_of_test'] == \"molecular\") | \\\n",
    "                                       (community_all['type_of_test'] == \"both\"))])"
   ]
  },
  {
   "cell_type": "code",
   "execution_count": 117,
   "metadata": {},
   "outputs": [
    {
     "data": {
      "text/plain": [
       "357"
      ]
     },
     "execution_count": 117,
     "metadata": {},
     "output_type": "execute_result"
    }
   ],
   "source": [
    "len(community)"
   ]
  },
  {
   "cell_type": "code",
   "execution_count": 118,
   "metadata": {},
   "outputs": [
    {
     "data": {
      "text/plain": [
       "objectid                                                                2869\n",
       "facilityid                                                              None\n",
       "name                                                  Hilltop Medical Clinic\n",
       "fulladdr                                1093 Hilltop Dr., Redding, CA. 96001\n",
       "municipality                                                         Redding\n",
       "agency                                                                  None\n",
       "agencytype                                                              None\n",
       "phone                                                           530-246-4629\n",
       "agencyurl                                  https://hilltopmedicalclinic.com/\n",
       "operhours                                        7 days a week 8 AM- 5:45 PM\n",
       "comments                                 Telemedicine services are available\n",
       "instructions               If You Are Contagious\\nPlease go to East Clini...\n",
       "numvehicles                                                              NaN\n",
       "testcapacity                                                             NaN\n",
       "status                                                                  Open\n",
       "creationdate                                                     1.58602e+12\n",
       "editdate                                                       1588207179024\n",
       "drive_through                                                             No\n",
       "appt_only                                                                 No\n",
       "referral_required                                                       None\n",
       "services_offered_onsite                                screening and testing\n",
       "call_first                                                              None\n",
       "virtual_screening                                                         No\n",
       "health_dept_url            https://www.co.shasta.ca.us/index/hhsa/public-...\n",
       "state                                                                     CA\n",
       "globalid                                8ca48d0f-bb94-4646-81ee-5f09da8b242d\n",
       "data_source                                                             None\n",
       "county                                                                Shasta\n",
       "red_flag                                                                None\n",
       "vol_note                                                                None\n",
       "public_form                                                             None\n",
       "start_date                                                               NaN\n",
       "end_date                                                                 NaN\n",
       "type_of_test                                                       molecular\n",
       "test_processing                                                          lab\n",
       "fine_print                                                              None\n",
       "geometry                        POINT (-122.3581870311882 40.59072867626979)\n",
       "Name: 2074, dtype: object"
      ]
     },
     "execution_count": 118,
     "metadata": {},
     "output_type": "execute_result"
    }
   ],
   "source": [
    "community.iloc[100]"
   ]
  },
  {
   "cell_type": "markdown",
   "metadata": {},
   "source": [
    "### Clean up the 'type of test' field"
   ]
  },
  {
   "cell_type": "code",
   "execution_count": 119,
   "metadata": {},
   "outputs": [
    {
     "data": {
      "text/plain": [
       "Yes    54.42%\n",
       "No      44.9%\n",
       "        0.68%\n",
       "Name: referral_required, dtype: object"
      ]
     },
     "execution_count": 119,
     "metadata": {},
     "output_type": "execute_result"
    }
   ],
   "source": [
    "(community.referral_required.value_counts('normalize')*100).round(2).astype(str) + '%'"
   ]
  },
  {
   "cell_type": "code",
   "execution_count": 120,
   "metadata": {},
   "outputs": [
    {
     "data": {
      "text/plain": [
       "molecular    357\n",
       "Name: type_of_test, dtype: int64"
      ]
     },
     "execution_count": 120,
     "metadata": {},
     "output_type": "execute_result"
    }
   ],
   "source": [
    "community.type_of_test.value_counts()"
   ]
  },
  {
   "cell_type": "code",
   "execution_count": 121,
   "metadata": {},
   "outputs": [
    {
     "data": {
      "text/plain": [
       "Private        113\n",
       "County          57\n",
       "Non Profit      27\n",
       "Municipal       14\n",
       "Other           10\n",
       "State            6\n",
       "Regional         6\n",
       "Tribal           4\n",
       "School           4\n",
       "Clinic           1\n",
       "Urgent Care      1\n",
       "Name: agencytype, dtype: int64"
      ]
     },
     "execution_count": 121,
     "metadata": {},
     "output_type": "execute_result"
    }
   ],
   "source": [
    "community.agencytype.value_counts()"
   ]
  },
  {
   "cell_type": "code",
   "execution_count": 122,
   "metadata": {},
   "outputs": [
    {
     "data": {
      "text/html": [
       "<div>\n",
       "<style scoped>\n",
       "    .dataframe tbody tr th:only-of-type {\n",
       "        vertical-align: middle;\n",
       "    }\n",
       "\n",
       "    .dataframe tbody tr th {\n",
       "        vertical-align: top;\n",
       "    }\n",
       "\n",
       "    .dataframe thead th {\n",
       "        text-align: right;\n",
       "    }\n",
       "</style>\n",
       "<table border=\"1\" class=\"dataframe\">\n",
       "  <thead>\n",
       "    <tr style=\"text-align: right;\">\n",
       "      <th></th>\n",
       "      <th>objectid</th>\n",
       "      <th>facilityid</th>\n",
       "      <th>name</th>\n",
       "      <th>fulladdr</th>\n",
       "      <th>municipality</th>\n",
       "      <th>agency</th>\n",
       "      <th>agencytype</th>\n",
       "      <th>phone</th>\n",
       "      <th>agencyurl</th>\n",
       "      <th>operhours</th>\n",
       "      <th>comments</th>\n",
       "      <th>instructions</th>\n",
       "      <th>numvehicles</th>\n",
       "      <th>testcapacity</th>\n",
       "      <th>status</th>\n",
       "      <th>creationdate</th>\n",
       "      <th>editdate</th>\n",
       "      <th>drive_through</th>\n",
       "      <th>appt_only</th>\n",
       "      <th>referral_required</th>\n",
       "      <th>services_offered_onsite</th>\n",
       "      <th>call_first</th>\n",
       "      <th>virtual_screening</th>\n",
       "      <th>health_dept_url</th>\n",
       "      <th>state</th>\n",
       "      <th>globalid</th>\n",
       "      <th>data_source</th>\n",
       "      <th>county</th>\n",
       "      <th>red_flag</th>\n",
       "      <th>vol_note</th>\n",
       "      <th>public_form</th>\n",
       "      <th>start_date</th>\n",
       "      <th>end_date</th>\n",
       "      <th>type_of_test</th>\n",
       "      <th>test_processing</th>\n",
       "      <th>fine_print</th>\n",
       "      <th>geometry</th>\n",
       "    </tr>\n",
       "  </thead>\n",
       "  <tbody>\n",
       "    <tr>\n",
       "      <td>100</td>\n",
       "      <td>101</td>\n",
       "      <td>None</td>\n",
       "      <td>Carbon Health</td>\n",
       "      <td>411 Grand Ave , Oakland 94610 CA</td>\n",
       "      <td>Oakland</td>\n",
       "      <td>Carbon Health</td>\n",
       "      <td>Private</td>\n",
       "      <td>(510) 844-4097</td>\n",
       "      <td>https://carbonhealth.com/oakland</td>\n",
       "      <td>Everyday 8:00 AM – 6:00 PM</td>\n",
       "      <td>None</td>\n",
       "      <td>A doctor’s order is not needed, but Carbon Hea...</td>\n",
       "      <td>NaN</td>\n",
       "      <td>NaN</td>\n",
       "      <td>Open</td>\n",
       "      <td>1.585176e+12</td>\n",
       "      <td>1588374068723</td>\n",
       "      <td>No</td>\n",
       "      <td>None</td>\n",
       "      <td>None</td>\n",
       "      <td>None</td>\n",
       "      <td>None</td>\n",
       "      <td>None</td>\n",
       "      <td>https://www.cdph.ca.gov/</td>\n",
       "      <td>CA</td>\n",
       "      <td>35600c8e-c0f6-4731-a8ff-ef9814102a53</td>\n",
       "      <td>None</td>\n",
       "      <td>Alameda</td>\n",
       "      <td>None</td>\n",
       "      <td>None</td>\n",
       "      <td>None</td>\n",
       "      <td>NaN</td>\n",
       "      <td>NaN</td>\n",
       "      <td>molecular</td>\n",
       "      <td>lab</td>\n",
       "      <td>None</td>\n",
       "      <td>POINT (-122.25346 37.80866)</td>\n",
       "    </tr>\n",
       "    <tr>\n",
       "      <td>513</td>\n",
       "      <td>1148</td>\n",
       "      <td>None</td>\n",
       "      <td>Community Hospital of the Monterey Peninsula</td>\n",
       "      <td>23625 Holman Hwy, Monterey, CA 93940</td>\n",
       "      <td>Monterey</td>\n",
       "      <td>Montage Health</td>\n",
       "      <td>Private</td>\n",
       "      <td>(831) 622-8001</td>\n",
       "      <td>https://www.chomp.org</td>\n",
       "      <td>24hrs</td>\n",
       "      <td>Currently, criteria for testing include the pr...</td>\n",
       "      <td>Testing for the novel coronavirus that causes ...</td>\n",
       "      <td>NaN</td>\n",
       "      <td>NaN</td>\n",
       "      <td>Open</td>\n",
       "      <td>1.585359e+12</td>\n",
       "      <td>1588206935170</td>\n",
       "      <td>No</td>\n",
       "      <td>None</td>\n",
       "      <td>None</td>\n",
       "      <td>testing only</td>\n",
       "      <td>None</td>\n",
       "      <td>None</td>\n",
       "      <td>https://www.cdph.ca.gov/</td>\n",
       "      <td>CA</td>\n",
       "      <td>c66dae54-8a41-43fc-b757-16092c153a5e</td>\n",
       "      <td>None</td>\n",
       "      <td>Monterey</td>\n",
       "      <td>None</td>\n",
       "      <td>None</td>\n",
       "      <td>None</td>\n",
       "      <td>NaN</td>\n",
       "      <td>NaN</td>\n",
       "      <td>molecular</td>\n",
       "      <td>lab</td>\n",
       "      <td>None</td>\n",
       "      <td>POINT (-121.91521 36.57916)</td>\n",
       "    </tr>\n",
       "    <tr>\n",
       "      <td>1062</td>\n",
       "      <td>1842</td>\n",
       "      <td>None</td>\n",
       "      <td>Priority Urgent Care</td>\n",
       "      <td>1345 Allen Rd #300 Bakersfield, CA 93314</td>\n",
       "      <td>Bakersfield, CA</td>\n",
       "      <td>Priority Urgent Care</td>\n",
       "      <td>Private</td>\n",
       "      <td>(661) 556-4777</td>\n",
       "      <td>https://www.priority661.com/coronavirus-covid-...</td>\n",
       "      <td>Mon-Fri: 9am-9pm  Sat-Sun: 9am-6pm</td>\n",
       "      <td>None</td>\n",
       "      <td>Do you think you have COVID-19 or want to be t...</td>\n",
       "      <td>NaN</td>\n",
       "      <td>NaN</td>\n",
       "      <td>Open</td>\n",
       "      <td>1.585505e+12</td>\n",
       "      <td>1588207024931</td>\n",
       "      <td>No</td>\n",
       "      <td>Yes</td>\n",
       "      <td>No</td>\n",
       "      <td>screening and testing</td>\n",
       "      <td>Yes</td>\n",
       "      <td>None</td>\n",
       "      <td>https://kernpublichealth.com/2019-novel-corona...</td>\n",
       "      <td>CA</td>\n",
       "      <td>f1add099-4b0b-4a59-9393-d633e07a9de0</td>\n",
       "      <td>None</td>\n",
       "      <td>Kern</td>\n",
       "      <td>None</td>\n",
       "      <td>None</td>\n",
       "      <td>None</td>\n",
       "      <td>NaN</td>\n",
       "      <td>NaN</td>\n",
       "      <td>molecular</td>\n",
       "      <td>lab</td>\n",
       "      <td>None</td>\n",
       "      <td>POINT (-119.14603 35.37159)</td>\n",
       "    </tr>\n",
       "    <tr>\n",
       "      <td>1064</td>\n",
       "      <td>1844</td>\n",
       "      <td>None</td>\n",
       "      <td>Priority Urgent Care</td>\n",
       "      <td>2509 Mt Vernon Ave #107 Bakersfield, CA 93306</td>\n",
       "      <td>Bakersfield, CA</td>\n",
       "      <td>Priority Urgent Care</td>\n",
       "      <td>Private</td>\n",
       "      <td>(661) 556-4777</td>\n",
       "      <td>https://www.priority661.com/coronavirus-covid-...</td>\n",
       "      <td>Mon-Frid: 8am-8pm  Sat-Sun: 8am-5pm</td>\n",
       "      <td>None</td>\n",
       "      <td>Do you think you have COVID-19 or want to be t...</td>\n",
       "      <td>NaN</td>\n",
       "      <td>NaN</td>\n",
       "      <td>Open</td>\n",
       "      <td>1.585505e+12</td>\n",
       "      <td>1588207025260</td>\n",
       "      <td>No</td>\n",
       "      <td>Yes</td>\n",
       "      <td>No</td>\n",
       "      <td>screening and testing</td>\n",
       "      <td>Yes</td>\n",
       "      <td>None</td>\n",
       "      <td>https://kernpublichealth.com/2019-novel-corona...</td>\n",
       "      <td>CA</td>\n",
       "      <td>02a90d8d-fffe-45ad-9991-3fbd155b296c</td>\n",
       "      <td>None</td>\n",
       "      <td>Kern</td>\n",
       "      <td>None</td>\n",
       "      <td>None</td>\n",
       "      <td>None</td>\n",
       "      <td>NaN</td>\n",
       "      <td>NaN</td>\n",
       "      <td>molecular</td>\n",
       "      <td>lab</td>\n",
       "      <td>None</td>\n",
       "      <td>POINT (-118.96577 35.39094)</td>\n",
       "    </tr>\n",
       "    <tr>\n",
       "      <td>1066</td>\n",
       "      <td>1846</td>\n",
       "      <td>None</td>\n",
       "      <td>Priority Urgent Care</td>\n",
       "      <td>4821 Panama Lane Bakersfield, CA 93313</td>\n",
       "      <td>Bakersfield, CA</td>\n",
       "      <td>Priority Urgent Care</td>\n",
       "      <td>Private</td>\n",
       "      <td>(661) 556-4777</td>\n",
       "      <td>https://www.priority661.com/coronavirus-covid-...</td>\n",
       "      <td>Mon-Frid: 8am-8pm  Sat-Sun: 8am-5pm</td>\n",
       "      <td>None</td>\n",
       "      <td>Do you think you have COVID-19 or want to be t...</td>\n",
       "      <td>NaN</td>\n",
       "      <td>NaN</td>\n",
       "      <td>Open</td>\n",
       "      <td>1.585506e+12</td>\n",
       "      <td>1588207025650</td>\n",
       "      <td>No</td>\n",
       "      <td>Yes</td>\n",
       "      <td>No</td>\n",
       "      <td>screening and testing</td>\n",
       "      <td>Yes</td>\n",
       "      <td>None</td>\n",
       "      <td>https://kernpublichealth.com/2019-novel-corona...</td>\n",
       "      <td>CA</td>\n",
       "      <td>bf9d995e-1739-412c-a0ac-12e9a8979d2d</td>\n",
       "      <td>None</td>\n",
       "      <td>Kern</td>\n",
       "      <td>None</td>\n",
       "      <td>None</td>\n",
       "      <td>None</td>\n",
       "      <td>NaN</td>\n",
       "      <td>NaN</td>\n",
       "      <td>molecular</td>\n",
       "      <td>lab</td>\n",
       "      <td>None</td>\n",
       "      <td>POINT (-119.05603 35.29511)</td>\n",
       "    </tr>\n",
       "  </tbody>\n",
       "</table>\n",
       "</div>"
      ],
      "text/plain": [
       "      objectid facilityid                                          name  \\\n",
       "100        101       None                                 Carbon Health   \n",
       "513       1148       None  Community Hospital of the Monterey Peninsula   \n",
       "1062      1842       None                          Priority Urgent Care   \n",
       "1064      1844       None                          Priority Urgent Care   \n",
       "1066      1846       None                          Priority Urgent Care   \n",
       "\n",
       "                                           fulladdr     municipality  \\\n",
       "100                411 Grand Ave , Oakland 94610 CA          Oakland   \n",
       "513            23625 Holman Hwy, Monterey, CA 93940         Monterey   \n",
       "1062       1345 Allen Rd #300 Bakersfield, CA 93314  Bakersfield, CA   \n",
       "1064  2509 Mt Vernon Ave #107 Bakersfield, CA 93306  Bakersfield, CA   \n",
       "1066         4821 Panama Lane Bakersfield, CA 93313  Bakersfield, CA   \n",
       "\n",
       "                    agency agencytype           phone  \\\n",
       "100          Carbon Health    Private  (510) 844-4097   \n",
       "513         Montage Health    Private  (831) 622-8001   \n",
       "1062  Priority Urgent Care    Private  (661) 556-4777   \n",
       "1064  Priority Urgent Care    Private  (661) 556-4777   \n",
       "1066  Priority Urgent Care    Private  (661) 556-4777   \n",
       "\n",
       "                                              agencyurl  \\\n",
       "100                    https://carbonhealth.com/oakland   \n",
       "513                               https://www.chomp.org   \n",
       "1062  https://www.priority661.com/coronavirus-covid-...   \n",
       "1064  https://www.priority661.com/coronavirus-covid-...   \n",
       "1066  https://www.priority661.com/coronavirus-covid-...   \n",
       "\n",
       "                                operhours  \\\n",
       "100            Everyday 8:00 AM – 6:00 PM   \n",
       "513                                 24hrs   \n",
       "1062   Mon-Fri: 9am-9pm  Sat-Sun: 9am-6pm   \n",
       "1064  Mon-Frid: 8am-8pm  Sat-Sun: 8am-5pm   \n",
       "1066  Mon-Frid: 8am-8pm  Sat-Sun: 8am-5pm   \n",
       "\n",
       "                                               comments  \\\n",
       "100                                                None   \n",
       "513   Currently, criteria for testing include the pr...   \n",
       "1062                                               None   \n",
       "1064                                               None   \n",
       "1066                                               None   \n",
       "\n",
       "                                           instructions  numvehicles  \\\n",
       "100   A doctor’s order is not needed, but Carbon Hea...          NaN   \n",
       "513   Testing for the novel coronavirus that causes ...          NaN   \n",
       "1062  Do you think you have COVID-19 or want to be t...          NaN   \n",
       "1064  Do you think you have COVID-19 or want to be t...          NaN   \n",
       "1066  Do you think you have COVID-19 or want to be t...          NaN   \n",
       "\n",
       "      testcapacity status  creationdate       editdate drive_through  \\\n",
       "100            NaN   Open  1.585176e+12  1588374068723            No   \n",
       "513            NaN   Open  1.585359e+12  1588206935170            No   \n",
       "1062           NaN   Open  1.585505e+12  1588207024931            No   \n",
       "1064           NaN   Open  1.585505e+12  1588207025260            No   \n",
       "1066           NaN   Open  1.585506e+12  1588207025650            No   \n",
       "\n",
       "     appt_only referral_required services_offered_onsite call_first  \\\n",
       "100       None              None                    None       None   \n",
       "513       None              None            testing only       None   \n",
       "1062       Yes                No   screening and testing        Yes   \n",
       "1064       Yes                No   screening and testing        Yes   \n",
       "1066       Yes                No   screening and testing        Yes   \n",
       "\n",
       "     virtual_screening                                    health_dept_url  \\\n",
       "100               None                           https://www.cdph.ca.gov/   \n",
       "513               None                           https://www.cdph.ca.gov/   \n",
       "1062              None  https://kernpublichealth.com/2019-novel-corona...   \n",
       "1064              None  https://kernpublichealth.com/2019-novel-corona...   \n",
       "1066              None  https://kernpublichealth.com/2019-novel-corona...   \n",
       "\n",
       "     state                              globalid data_source    county  \\\n",
       "100     CA  35600c8e-c0f6-4731-a8ff-ef9814102a53        None   Alameda   \n",
       "513     CA  c66dae54-8a41-43fc-b757-16092c153a5e        None  Monterey   \n",
       "1062    CA  f1add099-4b0b-4a59-9393-d633e07a9de0        None      Kern   \n",
       "1064    CA  02a90d8d-fffe-45ad-9991-3fbd155b296c        None      Kern   \n",
       "1066    CA  bf9d995e-1739-412c-a0ac-12e9a8979d2d        None      Kern   \n",
       "\n",
       "     red_flag vol_note public_form  start_date  end_date type_of_test  \\\n",
       "100      None     None        None         NaN       NaN    molecular   \n",
       "513      None     None        None         NaN       NaN    molecular   \n",
       "1062     None     None        None         NaN       NaN    molecular   \n",
       "1064     None     None        None         NaN       NaN    molecular   \n",
       "1066     None     None        None         NaN       NaN    molecular   \n",
       "\n",
       "     test_processing fine_print                     geometry  \n",
       "100              lab       None  POINT (-122.25346 37.80866)  \n",
       "513              lab       None  POINT (-121.91521 36.57916)  \n",
       "1062             lab       None  POINT (-119.14603 35.37159)  \n",
       "1064             lab       None  POINT (-118.96577 35.39094)  \n",
       "1066             lab       None  POINT (-119.05603 35.29511)  "
      ]
     },
     "execution_count": 122,
     "metadata": {},
     "output_type": "execute_result"
    }
   ],
   "source": [
    "community[community.agencytype == 'Private'].head()"
   ]
  },
  {
   "cell_type": "code",
   "execution_count": 123,
   "metadata": {},
   "outputs": [],
   "source": [
    "community_nodoctor = community[community['referral_required'] != 'Yes']"
   ]
  },
  {
   "cell_type": "code",
   "execution_count": 124,
   "metadata": {},
   "outputs": [
    {
     "data": {
      "text/plain": [
       "197"
      ]
     },
     "execution_count": 124,
     "metadata": {},
     "output_type": "execute_result"
    }
   ],
   "source": [
    "len(community_nodoctor)"
   ]
  },
  {
   "cell_type": "code",
   "execution_count": 125,
   "metadata": {},
   "outputs": [],
   "source": [
    "def alert(c):\n",
    "  if c['referral_required'] == 'Yes':\n",
    "    return 'partially_accessible'\n",
    "  elif c['agencytype'] == 'Private':\n",
    "    return 'partially_accessible'\n",
    "  else:\n",
    "    return 'accessible'\n",
    "\n",
    "community['alert'] = community.apply(alert, axis=1)"
   ]
  },
  {
   "cell_type": "code",
   "execution_count": 126,
   "metadata": {},
   "outputs": [
    {
     "data": {
      "text/plain": [
       "partially_accessible    207\n",
       "accessible              150\n",
       "Name: alert, dtype: int64"
      ]
     },
     "execution_count": 126,
     "metadata": {},
     "output_type": "execute_result"
    }
   ],
   "source": [
    "community.alert.value_counts()"
   ]
  },
  {
   "cell_type": "markdown",
   "metadata": {},
   "source": [
    "### What share of these locations are public vs. private? "
   ]
  },
  {
   "cell_type": "code",
   "execution_count": 127,
   "metadata": {},
   "outputs": [
    {
     "data": {
      "text/plain": [
       "Private         46.5%\n",
       "County         23.46%\n",
       "Non Profit     11.11%\n",
       "Municipal       5.76%\n",
       "Other           4.12%\n",
       "State           2.47%\n",
       "Regional        2.47%\n",
       "Tribal          1.65%\n",
       "School          1.65%\n",
       "Clinic          0.41%\n",
       "Urgent Care     0.41%\n",
       "Name: agencytype, dtype: object"
      ]
     },
     "execution_count": 127,
     "metadata": {},
     "output_type": "execute_result"
    }
   ],
   "source": [
    "(community['agencytype'].value_counts('normalize')*100).round(2).astype(str) + '%'"
   ]
  },
  {
   "cell_type": "markdown",
   "metadata": {},
   "source": [
    "### What share of them are various named types of facilities?"
   ]
  },
  {
   "cell_type": "code",
   "execution_count": 128,
   "metadata": {},
   "outputs": [
    {
     "data": {
      "text/plain": [
       "UCLA Health                                       7.04%\n",
       "LA County                                         6.67%\n",
       "Family Health Centers of San Diego                6.67%\n",
       "MedPost Urgent Care                                6.3%\n",
       "OPTUMServe & State of CA                          4.81%\n",
       "Ventura County Public Health                      4.44%\n",
       "OptumServe & State of CA                          4.44%\n",
       "One Medical                                       3.33%\n",
       "OPTUMServe                                        3.33%\n",
       "City of Los Angeles                               3.33%\n",
       "County of Los Angeles                             3.33%\n",
       "Sharp Rees-Stealy                                 2.59%\n",
       "Accelerated Urgent Care                           2.59%\n",
       "Project Baseline by Verily                        2.59%\n",
       "Providence                                        2.22%\n",
       "OptumServe                                        1.85%\n",
       "Sutter Health                                     1.85%\n",
       "Carbon Health                                     1.85%\n",
       "Borrego Health                                    1.48%\n",
       "Stanford Health                                   1.48%\n",
       "Priority Urgent Care                              1.11%\n",
       "Providence Health                                 1.11%\n",
       "El Camino Health & Carbon Health                  1.11%\n",
       "San Bernardino County Health Centers              1.11%\n",
       "Kaiser Permanente                                 1.11%\n",
       "Northern Inyo Healthcare District                 0.74%\n",
       "City of San Francisco                             0.74%\n",
       "Verily                                            0.74%\n",
       "Dignity Health                                    0.74%\n",
       "MemorialCare                                      0.37%\n",
       "Orange County Children's Medical Group, Inc.      0.37%\n",
       "Toiyabe Indian Health Project                     0.37%\n",
       "County of Monterey                                0.37%\n",
       "                                                  0.37%\n",
       "Dr. Michael Z. Staszel                            0.37%\n",
       "Sutter                                            0.37%\n",
       "LA County and City of Long Beach (partnership)    0.37%\n",
       "La Clinica                                        0.37%\n",
       "SAC                                               0.37%\n",
       "Tri-City Health Center                            0.37%\n",
       "Long Beach City College, Long Beach HDS           0.37%\n",
       "City of Long Beach Health and Human Services      0.37%\n",
       "Solano County Public Health, CalOES, FEMA         0.37%\n",
       "City and County of San Francisco                  0.37%\n",
       "Long Beach Health & Human Services                0.37%\n",
       "Golden Valley Health Clinics                      0.37%\n",
       "Stanford HC, Pleasanton, Livermore, Dublin        0.37%\n",
       "Hayward, Alameda Co, Cal State East Bay           0.37%\n",
       "Mend Clinic                                       0.37%\n",
       "Peach Tree Health                                 0.37%\n",
       "Riverside County Public Health                    0.37%\n",
       "St. Joseph Heritage Medical Center                0.37%\n",
       "Menlo Medical Clinic/Stanford Health Care         0.37%\n",
       "Plumas Hospital District                          0.37%\n",
       "Anav Tribal Health                                0.37%\n",
       "Swenson Medical Group                             0.37%\n",
       "Karuk Tribal Health                               0.37%\n",
       "Riverside University Public Health System         0.37%\n",
       "Orange County Childrens Medical Group             0.37%\n",
       "St. Joseph & St. Jude Heritage Medical Group      0.37%\n",
       "Mountain Communities Healthcare Foundation        0.37%\n",
       "Ridgecrest Regional Hospital                      0.37%\n",
       "Optum Serve Location                              0.37%\n",
       "Tahoe Forest Community Hospital                   0.37%\n",
       "MDSTAT Urgent Care                                0.37%\n",
       "Sonoma County                                     0.37%\n",
       "Karuk Tribe Health                                0.37%\n",
       "Montage Health                                    0.37%\n",
       "John Muir Health                                  0.37%\n",
       "Providence Health and Services                    0.37%\n",
       "Scripps Health                                    0.37%\n",
       "Project Baseline                                  0.37%\n",
       "San Diego County Department of Public Health      0.37%\n",
       "City of Oakland and Brown & Toland Physicians     0.37%\n",
       "El Dorado Community Health Center                 0.37%\n",
       "Riverside University Health System                0.37%\n",
       "Los Robles Health System                          0.37%\n",
       "Mountains Community Hospital                      0.37%\n",
       "Benjamín H. Flores                                0.37%\n",
       "Monday - Friday 8am to 5pm (closed 12 to 1pm)     0.37%\n",
       "Banner Health                                     0.37%\n",
       "Name: agency, dtype: object"
      ]
     },
     "execution_count": 128,
     "metadata": {},
     "output_type": "execute_result"
    }
   ],
   "source": [
    "(community['agency'].value_counts('normalize')*100).round(2).astype(str) + '%'"
   ]
  },
  {
   "cell_type": "markdown",
   "metadata": {},
   "source": [
    "---"
   ]
  },
  {
   "cell_type": "markdown",
   "metadata": {},
   "source": [
    "### Merge the 'state' and 'community' dataframes into one table with common fields"
   ]
  },
  {
   "cell_type": "code",
   "execution_count": 129,
   "metadata": {},
   "outputs": [],
   "source": [
    "community['site_type'] = 'community'"
   ]
  },
  {
   "cell_type": "code",
   "execution_count": 130,
   "metadata": {},
   "outputs": [],
   "source": [
    "state['site_type'] = 'state'"
   ]
  },
  {
   "cell_type": "code",
   "execution_count": 131,
   "metadata": {},
   "outputs": [],
   "source": [
    "state['alert'] = 'accessible'"
   ]
  },
  {
   "cell_type": "code",
   "execution_count": 132,
   "metadata": {},
   "outputs": [],
   "source": [
    "state['fulladdr'] = state['address'] + ', ' + state['city'] + ', CA ' + state['zipcode'].astype(str)"
   ]
  },
  {
   "cell_type": "code",
   "execution_count": 133,
   "metadata": {},
   "outputs": [
    {
     "data": {
      "text/html": [
       "<div>\n",
       "<style scoped>\n",
       "    .dataframe tbody tr th:only-of-type {\n",
       "        vertical-align: middle;\n",
       "    }\n",
       "\n",
       "    .dataframe tbody tr th {\n",
       "        vertical-align: top;\n",
       "    }\n",
       "\n",
       "    .dataframe thead th {\n",
       "        text-align: right;\n",
       "    }\n",
       "</style>\n",
       "<table border=\"1\" class=\"dataframe\">\n",
       "  <thead>\n",
       "    <tr style=\"text-align: right;\">\n",
       "      <th></th>\n",
       "      <th>objectid</th>\n",
       "      <th>facilityid</th>\n",
       "      <th>name</th>\n",
       "      <th>fulladdr</th>\n",
       "      <th>municipality</th>\n",
       "      <th>agency</th>\n",
       "      <th>agencytype</th>\n",
       "      <th>phone</th>\n",
       "      <th>agencyurl</th>\n",
       "      <th>operhours</th>\n",
       "      <th>comments</th>\n",
       "      <th>instructions</th>\n",
       "      <th>numvehicles</th>\n",
       "      <th>testcapacity</th>\n",
       "      <th>status</th>\n",
       "      <th>creationdate</th>\n",
       "      <th>editdate</th>\n",
       "      <th>drive_through</th>\n",
       "      <th>appt_only</th>\n",
       "      <th>referral_required</th>\n",
       "      <th>services_offered_onsite</th>\n",
       "      <th>call_first</th>\n",
       "      <th>virtual_screening</th>\n",
       "      <th>health_dept_url</th>\n",
       "      <th>state</th>\n",
       "      <th>globalid</th>\n",
       "      <th>data_source</th>\n",
       "      <th>county</th>\n",
       "      <th>red_flag</th>\n",
       "      <th>vol_note</th>\n",
       "      <th>public_form</th>\n",
       "      <th>start_date</th>\n",
       "      <th>end_date</th>\n",
       "      <th>type_of_test</th>\n",
       "      <th>test_processing</th>\n",
       "      <th>fine_print</th>\n",
       "      <th>geometry</th>\n",
       "      <th>alert</th>\n",
       "      <th>site_type</th>\n",
       "    </tr>\n",
       "  </thead>\n",
       "  <tbody>\n",
       "    <tr>\n",
       "      <td>100</td>\n",
       "      <td>101</td>\n",
       "      <td>None</td>\n",
       "      <td>Carbon Health</td>\n",
       "      <td>411 Grand Ave , Oakland 94610 CA</td>\n",
       "      <td>Oakland</td>\n",
       "      <td>Carbon Health</td>\n",
       "      <td>Private</td>\n",
       "      <td>(510) 844-4097</td>\n",
       "      <td>https://carbonhealth.com/oakland</td>\n",
       "      <td>Everyday 8:00 AM – 6:00 PM</td>\n",
       "      <td>None</td>\n",
       "      <td>A doctor’s order is not needed, but Carbon Hea...</td>\n",
       "      <td>NaN</td>\n",
       "      <td>NaN</td>\n",
       "      <td>Open</td>\n",
       "      <td>1.585176e+12</td>\n",
       "      <td>1588374068723</td>\n",
       "      <td>No</td>\n",
       "      <td>None</td>\n",
       "      <td>None</td>\n",
       "      <td>None</td>\n",
       "      <td>None</td>\n",
       "      <td>None</td>\n",
       "      <td>https://www.cdph.ca.gov/</td>\n",
       "      <td>CA</td>\n",
       "      <td>35600c8e-c0f6-4731-a8ff-ef9814102a53</td>\n",
       "      <td>None</td>\n",
       "      <td>Alameda</td>\n",
       "      <td>None</td>\n",
       "      <td>None</td>\n",
       "      <td>None</td>\n",
       "      <td>NaN</td>\n",
       "      <td>NaN</td>\n",
       "      <td>molecular</td>\n",
       "      <td>lab</td>\n",
       "      <td>None</td>\n",
       "      <td>POINT (-122.25346 37.80866)</td>\n",
       "      <td>partially_accessible</td>\n",
       "      <td>community</td>\n",
       "    </tr>\n",
       "    <tr>\n",
       "      <td>206</td>\n",
       "      <td>1110</td>\n",
       "      <td>None</td>\n",
       "      <td>Ampla Health</td>\n",
       "      <td>1000 Sutter Street, Yuba City, CA 95991</td>\n",
       "      <td>Sutter</td>\n",
       "      <td>Benjamín H. Flores</td>\n",
       "      <td>Non Profit</td>\n",
       "      <td>(530) 812-2031</td>\n",
       "      <td>https://www.yuba.org/coronavirus/Screening_Tes...</td>\n",
       "      <td>Screening and testing Monday - Friday.</td>\n",
       "      <td>Follow signs through outdoor back parking lot.</td>\n",
       "      <td>Please call (530) 812-2031 first so mobile uni...</td>\n",
       "      <td>NaN</td>\n",
       "      <td>NaN</td>\n",
       "      <td>Open</td>\n",
       "      <td>1.585352e+12</td>\n",
       "      <td>1588206929420</td>\n",
       "      <td>Yes</td>\n",
       "      <td>Yes</td>\n",
       "      <td>Yes</td>\n",
       "      <td>None</td>\n",
       "      <td>None</td>\n",
       "      <td>None</td>\n",
       "      <td>https://www.cdph.ca.gov/</td>\n",
       "      <td>CA</td>\n",
       "      <td>9806193f-bc55-43f7-8de3-6a0826ffe285</td>\n",
       "      <td>None</td>\n",
       "      <td>Sutter</td>\n",
       "      <td>None</td>\n",
       "      <td>None</td>\n",
       "      <td>None</td>\n",
       "      <td>NaN</td>\n",
       "      <td>NaN</td>\n",
       "      <td>molecular</td>\n",
       "      <td>lab</td>\n",
       "      <td>None</td>\n",
       "      <td>POINT (-121.61320 39.14449)</td>\n",
       "      <td>partially_accessible</td>\n",
       "      <td>community</td>\n",
       "    </tr>\n",
       "    <tr>\n",
       "      <td>227</td>\n",
       "      <td>11066</td>\n",
       "      <td>None</td>\n",
       "      <td>Santa Monica College (SMU - Airport Satellite ...</td>\n",
       "      <td>2800 Airport Ave. Santa Monica, CA 90405</td>\n",
       "      <td>Santa Monica</td>\n",
       "      <td>OptumServe</td>\n",
       "      <td>None</td>\n",
       "      <td>None</td>\n",
       "      <td>https://lhi.care/covidtesting</td>\n",
       "      <td>None</td>\n",
       "      <td>OptumServe Testing Sites are powered by OptumS...</td>\n",
       "      <td>Make an appointment at:https://lhi.care/covidt...</td>\n",
       "      <td>NaN</td>\n",
       "      <td>NaN</td>\n",
       "      <td>Open</td>\n",
       "      <td>1.588968e+12</td>\n",
       "      <td>1588967920594</td>\n",
       "      <td>No</td>\n",
       "      <td>Yes</td>\n",
       "      <td>No</td>\n",
       "      <td>testing only</td>\n",
       "      <td>No</td>\n",
       "      <td>Required</td>\n",
       "      <td>http://publichealth.lacounty.gov/media/coronav...</td>\n",
       "      <td>CA</td>\n",
       "      <td>eddd3f74-0ec2-415f-9aaf-bf47007fb4f9</td>\n",
       "      <td>https://covid19.lacounty.gov/testing/</td>\n",
       "      <td>Los Angeles</td>\n",
       "      <td>no</td>\n",
       "      <td>None</td>\n",
       "      <td>no</td>\n",
       "      <td>NaN</td>\n",
       "      <td>NaN</td>\n",
       "      <td>molecular</td>\n",
       "      <td>None</td>\n",
       "      <td>no</td>\n",
       "      <td>POINT (-118.45283 34.01249)</td>\n",
       "      <td>accessible</td>\n",
       "      <td>community</td>\n",
       "    </tr>\n",
       "    <tr>\n",
       "      <td>228</td>\n",
       "      <td>11067</td>\n",
       "      <td>None</td>\n",
       "      <td>ChapCare Vacco Health Center</td>\n",
       "      <td>10408 Vacco St., Suite A South El Monte, CA 91...</td>\n",
       "      <td>El Monte</td>\n",
       "      <td>OptumServe</td>\n",
       "      <td>None</td>\n",
       "      <td>None</td>\n",
       "      <td>https://lhi.care/covidtesting</td>\n",
       "      <td>None</td>\n",
       "      <td>OptumServe Testing Sites are powered by OptumS...</td>\n",
       "      <td>Make an appointment at:https://lhi.care/covidt...</td>\n",
       "      <td>NaN</td>\n",
       "      <td>NaN</td>\n",
       "      <td>Open</td>\n",
       "      <td>1.588968e+12</td>\n",
       "      <td>1588968195426</td>\n",
       "      <td>No</td>\n",
       "      <td>Yes</td>\n",
       "      <td>No</td>\n",
       "      <td>testing only</td>\n",
       "      <td>No</td>\n",
       "      <td>Required</td>\n",
       "      <td>http://publichealth.lacounty.gov/media/coronav...</td>\n",
       "      <td>CA</td>\n",
       "      <td>143700db-bf56-4b63-9d75-1ab3ff93ac25</td>\n",
       "      <td>https://covid19.lacounty.gov/testing/</td>\n",
       "      <td>Los Angeles</td>\n",
       "      <td>no</td>\n",
       "      <td>None</td>\n",
       "      <td>no</td>\n",
       "      <td>NaN</td>\n",
       "      <td>NaN</td>\n",
       "      <td>molecular</td>\n",
       "      <td>offsite lab</td>\n",
       "      <td>no</td>\n",
       "      <td>POINT (-118.04449 34.04715)</td>\n",
       "      <td>accessible</td>\n",
       "      <td>community</td>\n",
       "    </tr>\n",
       "    <tr>\n",
       "      <td>229</td>\n",
       "      <td>11068</td>\n",
       "      <td>None</td>\n",
       "      <td>Baldwin Hills Crenshaw Plaza</td>\n",
       "      <td>3650 W. Martin Luther King Jr. Blvd. Los Angel...</td>\n",
       "      <td>Los Angeles</td>\n",
       "      <td>City of Los Angeles</td>\n",
       "      <td>Municipal</td>\n",
       "      <td>None</td>\n",
       "      <td>https://lacovidprod.service-now.com/rrs</td>\n",
       "      <td>None</td>\n",
       "      <td>LA City and County Testing Sites are operated ...</td>\n",
       "      <td>An appointment is required - no drop-ins are a...</td>\n",
       "      <td>NaN</td>\n",
       "      <td>NaN</td>\n",
       "      <td>Open</td>\n",
       "      <td>1.588969e+12</td>\n",
       "      <td>1588968900221</td>\n",
       "      <td>None</td>\n",
       "      <td>Yes</td>\n",
       "      <td>No</td>\n",
       "      <td>testing only</td>\n",
       "      <td>No</td>\n",
       "      <td>Required</td>\n",
       "      <td>http://publichealth.lacounty.gov/media/coronav...</td>\n",
       "      <td>CA</td>\n",
       "      <td>33d5cab9-bb6e-4209-a468-a6abdd133981</td>\n",
       "      <td>https://covid19.lacounty.gov/testing/</td>\n",
       "      <td>Los Angeles</td>\n",
       "      <td>no</td>\n",
       "      <td>None</td>\n",
       "      <td>no</td>\n",
       "      <td>NaN</td>\n",
       "      <td>NaN</td>\n",
       "      <td>molecular</td>\n",
       "      <td>None</td>\n",
       "      <td>no</td>\n",
       "      <td>POINT (-118.33682 34.01084)</td>\n",
       "      <td>accessible</td>\n",
       "      <td>community</td>\n",
       "    </tr>\n",
       "  </tbody>\n",
       "</table>\n",
       "</div>"
      ],
      "text/plain": [
       "     objectid facilityid                                               name  \\\n",
       "100       101       None                                      Carbon Health   \n",
       "206      1110       None                                       Ampla Health   \n",
       "227     11066       None  Santa Monica College (SMU - Airport Satellite ...   \n",
       "228     11067       None                       ChapCare Vacco Health Center   \n",
       "229     11068       None                       Baldwin Hills Crenshaw Plaza   \n",
       "\n",
       "                                              fulladdr  municipality  \\\n",
       "100                   411 Grand Ave , Oakland 94610 CA       Oakland   \n",
       "206            1000 Sutter Street, Yuba City, CA 95991        Sutter   \n",
       "227           2800 Airport Ave. Santa Monica, CA 90405  Santa Monica   \n",
       "228  10408 Vacco St., Suite A South El Monte, CA 91...      El Monte   \n",
       "229  3650 W. Martin Luther King Jr. Blvd. Los Angel...   Los Angeles   \n",
       "\n",
       "                  agency  agencytype           phone  \\\n",
       "100        Carbon Health     Private  (510) 844-4097   \n",
       "206   Benjamín H. Flores  Non Profit  (530) 812-2031   \n",
       "227           OptumServe        None            None   \n",
       "228           OptumServe        None            None   \n",
       "229  City of Los Angeles   Municipal            None   \n",
       "\n",
       "                                             agencyurl  \\\n",
       "100                   https://carbonhealth.com/oakland   \n",
       "206  https://www.yuba.org/coronavirus/Screening_Tes...   \n",
       "227                      https://lhi.care/covidtesting   \n",
       "228                      https://lhi.care/covidtesting   \n",
       "229            https://lacovidprod.service-now.com/rrs   \n",
       "\n",
       "                                  operhours  \\\n",
       "100              Everyday 8:00 AM – 6:00 PM   \n",
       "206  Screening and testing Monday - Friday.   \n",
       "227                                    None   \n",
       "228                                    None   \n",
       "229                                    None   \n",
       "\n",
       "                                              comments  \\\n",
       "100                                               None   \n",
       "206     Follow signs through outdoor back parking lot.   \n",
       "227  OptumServe Testing Sites are powered by OptumS...   \n",
       "228  OptumServe Testing Sites are powered by OptumS...   \n",
       "229  LA City and County Testing Sites are operated ...   \n",
       "\n",
       "                                          instructions  numvehicles  \\\n",
       "100  A doctor’s order is not needed, but Carbon Hea...          NaN   \n",
       "206  Please call (530) 812-2031 first so mobile uni...          NaN   \n",
       "227  Make an appointment at:https://lhi.care/covidt...          NaN   \n",
       "228  Make an appointment at:https://lhi.care/covidt...          NaN   \n",
       "229  An appointment is required - no drop-ins are a...          NaN   \n",
       "\n",
       "     testcapacity status  creationdate       editdate drive_through appt_only  \\\n",
       "100           NaN   Open  1.585176e+12  1588374068723            No      None   \n",
       "206           NaN   Open  1.585352e+12  1588206929420           Yes       Yes   \n",
       "227           NaN   Open  1.588968e+12  1588967920594            No       Yes   \n",
       "228           NaN   Open  1.588968e+12  1588968195426            No       Yes   \n",
       "229           NaN   Open  1.588969e+12  1588968900221          None       Yes   \n",
       "\n",
       "    referral_required services_offered_onsite call_first virtual_screening  \\\n",
       "100              None                    None       None              None   \n",
       "206               Yes                    None       None              None   \n",
       "227                No            testing only         No          Required   \n",
       "228                No            testing only         No          Required   \n",
       "229                No            testing only         No          Required   \n",
       "\n",
       "                                       health_dept_url state  \\\n",
       "100                           https://www.cdph.ca.gov/    CA   \n",
       "206                           https://www.cdph.ca.gov/    CA   \n",
       "227  http://publichealth.lacounty.gov/media/coronav...    CA   \n",
       "228  http://publichealth.lacounty.gov/media/coronav...    CA   \n",
       "229  http://publichealth.lacounty.gov/media/coronav...    CA   \n",
       "\n",
       "                                 globalid  \\\n",
       "100  35600c8e-c0f6-4731-a8ff-ef9814102a53   \n",
       "206  9806193f-bc55-43f7-8de3-6a0826ffe285   \n",
       "227  eddd3f74-0ec2-415f-9aaf-bf47007fb4f9   \n",
       "228  143700db-bf56-4b63-9d75-1ab3ff93ac25   \n",
       "229  33d5cab9-bb6e-4209-a468-a6abdd133981   \n",
       "\n",
       "                               data_source       county red_flag vol_note  \\\n",
       "100                                   None      Alameda     None     None   \n",
       "206                                   None       Sutter     None     None   \n",
       "227  https://covid19.lacounty.gov/testing/  Los Angeles       no     None   \n",
       "228  https://covid19.lacounty.gov/testing/  Los Angeles       no     None   \n",
       "229  https://covid19.lacounty.gov/testing/  Los Angeles       no     None   \n",
       "\n",
       "    public_form  start_date  end_date type_of_test test_processing fine_print  \\\n",
       "100        None         NaN       NaN    molecular             lab       None   \n",
       "206        None         NaN       NaN    molecular             lab       None   \n",
       "227          no         NaN       NaN    molecular            None         no   \n",
       "228          no         NaN       NaN    molecular     offsite lab         no   \n",
       "229          no         NaN       NaN    molecular            None         no   \n",
       "\n",
       "                        geometry                 alert  site_type  \n",
       "100  POINT (-122.25346 37.80866)  partially_accessible  community  \n",
       "206  POINT (-121.61320 39.14449)  partially_accessible  community  \n",
       "227  POINT (-118.45283 34.01249)            accessible  community  \n",
       "228  POINT (-118.04449 34.04715)            accessible  community  \n",
       "229  POINT (-118.33682 34.01084)            accessible  community  "
      ]
     },
     "execution_count": 133,
     "metadata": {},
     "output_type": "execute_result"
    }
   ],
   "source": [
    "community.head()"
   ]
  },
  {
   "cell_type": "code",
   "execution_count": 134,
   "metadata": {},
   "outputs": [],
   "source": [
    "community_slim = community[community['alert'] == 'accessible']\\\n",
    "[[ 'name','fulladdr','agency','phone','globalid','geometry', 'site_type', 'alert']]"
   ]
  },
  {
   "cell_type": "code",
   "execution_count": 135,
   "metadata": {},
   "outputs": [],
   "source": [
    "community_slim = community_slim.rename(columns={\"name\": \"sitename\"})"
   ]
  },
  {
   "cell_type": "code",
   "execution_count": 136,
   "metadata": {},
   "outputs": [],
   "source": [
    "state_slim = state[[ 'sitename','fulladdr','operator','publicphone','globalid','geometry', 'site_type', 'alert' ]]"
   ]
  },
  {
   "cell_type": "code",
   "execution_count": 137,
   "metadata": {},
   "outputs": [],
   "source": [
    "state_slim = state_slim.rename(columns={\"publicphone\": \"phone\", \"operator\": \"agency\",})"
   ]
  },
  {
   "cell_type": "code",
   "execution_count": 138,
   "metadata": {},
   "outputs": [
    {
     "data": {
      "text/html": [
       "<div>\n",
       "<style scoped>\n",
       "    .dataframe tbody tr th:only-of-type {\n",
       "        vertical-align: middle;\n",
       "    }\n",
       "\n",
       "    .dataframe tbody tr th {\n",
       "        vertical-align: top;\n",
       "    }\n",
       "\n",
       "    .dataframe thead th {\n",
       "        text-align: right;\n",
       "    }\n",
       "</style>\n",
       "<table border=\"1\" class=\"dataframe\">\n",
       "  <thead>\n",
       "    <tr style=\"text-align: right;\">\n",
       "      <th></th>\n",
       "      <th>sitename</th>\n",
       "      <th>fulladdr</th>\n",
       "      <th>agency</th>\n",
       "      <th>phone</th>\n",
       "      <th>globalid</th>\n",
       "      <th>geometry</th>\n",
       "      <th>site_type</th>\n",
       "      <th>alert</th>\n",
       "    </tr>\n",
       "  </thead>\n",
       "  <tbody>\n",
       "    <tr>\n",
       "      <td>227</td>\n",
       "      <td>Santa Monica College (SMU - Airport Satellite ...</td>\n",
       "      <td>2800 Airport Ave. Santa Monica, CA 90405</td>\n",
       "      <td>OptumServe</td>\n",
       "      <td>None</td>\n",
       "      <td>eddd3f74-0ec2-415f-9aaf-bf47007fb4f9</td>\n",
       "      <td>POINT (-118.45283 34.01249)</td>\n",
       "      <td>community</td>\n",
       "      <td>accessible</td>\n",
       "    </tr>\n",
       "    <tr>\n",
       "      <td>228</td>\n",
       "      <td>ChapCare Vacco Health Center</td>\n",
       "      <td>10408 Vacco St., Suite A South El Monte, CA 91...</td>\n",
       "      <td>OptumServe</td>\n",
       "      <td>None</td>\n",
       "      <td>143700db-bf56-4b63-9d75-1ab3ff93ac25</td>\n",
       "      <td>POINT (-118.04449 34.04715)</td>\n",
       "      <td>community</td>\n",
       "      <td>accessible</td>\n",
       "    </tr>\n",
       "    <tr>\n",
       "      <td>229</td>\n",
       "      <td>Baldwin Hills Crenshaw Plaza</td>\n",
       "      <td>3650 W. Martin Luther King Jr. Blvd. Los Angel...</td>\n",
       "      <td>City of Los Angeles</td>\n",
       "      <td>None</td>\n",
       "      <td>33d5cab9-bb6e-4209-a468-a6abdd133981</td>\n",
       "      <td>POINT (-118.33682 34.01084)</td>\n",
       "      <td>community</td>\n",
       "      <td>accessible</td>\n",
       "    </tr>\n",
       "    <tr>\n",
       "      <td>230</td>\n",
       "      <td>County of LA – Crenshaw Area Office</td>\n",
       "      <td>3606 W. Exposition Blvd. Los Angeles, CA 90016</td>\n",
       "      <td>OptumServe</td>\n",
       "      <td>None</td>\n",
       "      <td>2cae6135-03c3-4882-b4ae-4cdd7e35073d</td>\n",
       "      <td>POINT (-118.33557 34.02227)</td>\n",
       "      <td>community</td>\n",
       "      <td>accessible</td>\n",
       "    </tr>\n",
       "    <tr>\n",
       "      <td>236</td>\n",
       "      <td>OptumServe Testing Center</td>\n",
       "      <td>1681 E Monte Vista Ave, Vacaville, CA 95688</td>\n",
       "      <td>OptumServe &amp; State of CA</td>\n",
       "      <td>(888) 634-1123</td>\n",
       "      <td>58e25f7d-c8e5-400e-9c73-3ab431fb4b9c</td>\n",
       "      <td>POINT (-121.96279 38.37069)</td>\n",
       "      <td>community</td>\n",
       "      <td>accessible</td>\n",
       "    </tr>\n",
       "  </tbody>\n",
       "</table>\n",
       "</div>"
      ],
      "text/plain": [
       "                                              sitename  \\\n",
       "227  Santa Monica College (SMU - Airport Satellite ...   \n",
       "228                       ChapCare Vacco Health Center   \n",
       "229                       Baldwin Hills Crenshaw Plaza   \n",
       "230                County of LA – Crenshaw Area Office   \n",
       "236                          OptumServe Testing Center   \n",
       "\n",
       "                                              fulladdr  \\\n",
       "227           2800 Airport Ave. Santa Monica, CA 90405   \n",
       "228  10408 Vacco St., Suite A South El Monte, CA 91...   \n",
       "229  3650 W. Martin Luther King Jr. Blvd. Los Angel...   \n",
       "230     3606 W. Exposition Blvd. Los Angeles, CA 90016   \n",
       "236        1681 E Monte Vista Ave, Vacaville, CA 95688   \n",
       "\n",
       "                       agency           phone  \\\n",
       "227                OptumServe            None   \n",
       "228                OptumServe            None   \n",
       "229       City of Los Angeles            None   \n",
       "230                OptumServe            None   \n",
       "236  OptumServe & State of CA  (888) 634-1123   \n",
       "\n",
       "                                 globalid                     geometry  \\\n",
       "227  eddd3f74-0ec2-415f-9aaf-bf47007fb4f9  POINT (-118.45283 34.01249)   \n",
       "228  143700db-bf56-4b63-9d75-1ab3ff93ac25  POINT (-118.04449 34.04715)   \n",
       "229  33d5cab9-bb6e-4209-a468-a6abdd133981  POINT (-118.33682 34.01084)   \n",
       "230  2cae6135-03c3-4882-b4ae-4cdd7e35073d  POINT (-118.33557 34.02227)   \n",
       "236  58e25f7d-c8e5-400e-9c73-3ab431fb4b9c  POINT (-121.96279 38.37069)   \n",
       "\n",
       "     site_type       alert  \n",
       "227  community  accessible  \n",
       "228  community  accessible  \n",
       "229  community  accessible  \n",
       "230  community  accessible  \n",
       "236  community  accessible  "
      ]
     },
     "execution_count": 138,
     "metadata": {},
     "output_type": "execute_result"
    }
   ],
   "source": [
    "community_slim.head()"
   ]
  },
  {
   "cell_type": "code",
   "execution_count": 139,
   "metadata": {},
   "outputs": [],
   "source": [
    "all_sites = pd.concat([state_slim, community_slim])"
   ]
  },
  {
   "cell_type": "code",
   "execution_count": 140,
   "metadata": {},
   "outputs": [],
   "source": [
    "# all_sites.crs = {'init' :'epsg:3310'}\n",
    "# all_sites.to_crs({'init': 'epsg:3310'}, inplace=True)"
   ]
  },
  {
   "cell_type": "code",
   "execution_count": 141,
   "metadata": {},
   "outputs": [],
   "source": [
    "# all_sites = all_sites[all_sites['site_type'] == 'state']"
   ]
  },
  {
   "cell_type": "code",
   "execution_count": 142,
   "metadata": {},
   "outputs": [],
   "source": [
    "all_sites_proj = all_sites.copy()"
   ]
  },
  {
   "cell_type": "code",
   "execution_count": 143,
   "metadata": {},
   "outputs": [],
   "source": [
    "all_sites_proj['geometry'] = all_sites_proj['geometry'].to_crs(epsg=3310)"
   ]
  },
  {
   "cell_type": "code",
   "execution_count": 144,
   "metadata": {},
   "outputs": [],
   "source": [
    "all_sites_proj.crs = {'init' :'epsg:3310'}\n",
    "all_sites_proj.to_crs({'init': 'epsg:3310'}, inplace=True)"
   ]
  },
  {
   "cell_type": "markdown",
   "metadata": {},
   "source": [
    "---"
   ]
  },
  {
   "cell_type": "markdown",
   "metadata": {},
   "source": [
    "### CA county geography"
   ]
  },
  {
   "cell_type": "code",
   "execution_count": 145,
   "metadata": {},
   "outputs": [],
   "source": [
    "county_geo = gpd.read_file('input/ca-counties.geojson')\n",
    "county_geo.columns = county_geo.columns.str.lower()"
   ]
  },
  {
   "cell_type": "markdown",
   "metadata": {},
   "source": [
    "### LA County communities"
   ]
  },
  {
   "cell_type": "code",
   "execution_count": 146,
   "metadata": {},
   "outputs": [],
   "source": [
    "la_communities_geo = gpd.read_file('input/lac_cities_no_islands.shp')\n",
    "la_communities_geo.columns = la_communities_geo.columns.str.lower()\n",
    "la_communities_geo.crs = {'init' :'epsg:4326'}\n",
    "la_communities_geo.to_crs({'init': 'epsg:4326'}, inplace=True)"
   ]
  },
  {
   "cell_type": "markdown",
   "metadata": {},
   "source": [
    "### CA tracts geography"
   ]
  },
  {
   "cell_type": "code",
   "execution_count": 147,
   "metadata": {},
   "outputs": [],
   "source": [
    "ca_tracts = gpd.read_file('input/tracts3310.geojson')\n",
    "ca_tracts.columns = ca_tracts.columns.str.strip().str.lower().str.replace(' ', '_')\\\n",
    "                    .str.replace('(', '').str.replace(')', '').str.replace('-','_')"
   ]
  },
  {
   "cell_type": "markdown",
   "metadata": {},
   "source": [
    "### Merge population data to tracts geo file"
   ]
  },
  {
   "cell_type": "code",
   "execution_count": 148,
   "metadata": {},
   "outputs": [],
   "source": [
    "# !censusdatadownloader --data-dir input --year 2018 population tracts\n",
    "# !censusdatadownloader --data-dir input --year 2010 population tracts"
   ]
  },
  {
   "cell_type": "code",
   "execution_count": 149,
   "metadata": {},
   "outputs": [],
   "source": [
    "tractspop = pd.read_csv('input/processed/acs5_2018_population_tracts.csv',\n",
    "                       dtype={'geoid': str, 'state': str, 'county': str} )"
   ]
  },
  {
   "cell_type": "code",
   "execution_count": 150,
   "metadata": {},
   "outputs": [],
   "source": [
    "tracts_geo = ca_tracts.merge(tractspop, on='geoid', how='inner')"
   ]
  },
  {
   "cell_type": "markdown",
   "metadata": {},
   "source": [
    "### Clean up tracts dataframe"
   ]
  },
  {
   "cell_type": "code",
   "execution_count": 151,
   "metadata": {},
   "outputs": [],
   "source": [
    "tracts_geo[['tract_name', 'place', 'state']] = tracts_geo.name_y.str.split(\", \",expand=True,)"
   ]
  },
  {
   "cell_type": "code",
   "execution_count": 152,
   "metadata": {},
   "outputs": [],
   "source": [
    "tracts_geo = tracts_geo.drop(['name_x', 'namelsad','mtfcc', 'funcstat', 'aland', 'awater', 'intptlat', \\\n",
    "                              'intptlon', 'tractce','universe_annotation', 'universe_moe', \\\n",
    "                              'universe_moe_annotation', 'statefp', 'countyfp', 'name_y', 'state'], axis=1)"
   ]
  },
  {
   "cell_type": "code",
   "execution_count": 153,
   "metadata": {},
   "outputs": [],
   "source": [
    "tracts_geo.rename(columns={'universe':'population'}, inplace=True)"
   ]
  },
  {
   "cell_type": "code",
   "execution_count": 154,
   "metadata": {},
   "outputs": [],
   "source": [
    "tracts_geo['tract_area'] = tracts_geo['geometry'].area / SQMETERS_TO_SQMI"
   ]
  },
  {
   "cell_type": "markdown",
   "metadata": {},
   "source": [
    "---"
   ]
  },
  {
   "cell_type": "markdown",
   "metadata": {},
   "source": [
    "### Add a buffers around each testing site of 20 miles"
   ]
  },
  {
   "cell_type": "code",
   "execution_count": 155,
   "metadata": {},
   "outputs": [],
   "source": [
    "miles20 = 32000\n",
    "miles10 = 16000"
   ]
  },
  {
   "cell_type": "code",
   "execution_count": 156,
   "metadata": {},
   "outputs": [],
   "source": [
    "all_sites_proj['geometry'] = all_sites_proj.buffer(miles20)"
   ]
  },
  {
   "cell_type": "code",
   "execution_count": 157,
   "metadata": {},
   "outputs": [],
   "source": [
    "all_sites_proj['circle_area'] = (all_sites_proj['geometry'].area / SQMETERS_TO_SQMI).round()"
   ]
  },
  {
   "cell_type": "code",
   "execution_count": 158,
   "metadata": {},
   "outputs": [
    {
     "data": {
      "text/html": [
       "<div>\n",
       "<style scoped>\n",
       "    .dataframe tbody tr th:only-of-type {\n",
       "        vertical-align: middle;\n",
       "    }\n",
       "\n",
       "    .dataframe tbody tr th {\n",
       "        vertical-align: top;\n",
       "    }\n",
       "\n",
       "    .dataframe thead th {\n",
       "        text-align: right;\n",
       "    }\n",
       "</style>\n",
       "<table border=\"1\" class=\"dataframe\">\n",
       "  <thead>\n",
       "    <tr style=\"text-align: right;\">\n",
       "      <th></th>\n",
       "      <th>sitename</th>\n",
       "      <th>fulladdr</th>\n",
       "      <th>agency</th>\n",
       "      <th>phone</th>\n",
       "      <th>globalid</th>\n",
       "      <th>geometry</th>\n",
       "      <th>site_type</th>\n",
       "      <th>alert</th>\n",
       "      <th>circle_area</th>\n",
       "    </tr>\n",
       "  </thead>\n",
       "  <tbody>\n",
       "    <tr>\n",
       "      <td>0</td>\n",
       "      <td>OPTUMServe 1</td>\n",
       "      <td>2357 Fair St, Chico, CA 95928</td>\n",
       "      <td>OPTUMServe</td>\n",
       "      <td>(888) 634-1123</td>\n",
       "      <td>0a3c99f8-4e79-41ee-a307-94d2b22ca10f</td>\n",
       "      <td>POLYGON ((-123340.096 190647.278, -123494.184 ...</td>\n",
       "      <td>state</td>\n",
       "      <td>accessible</td>\n",
       "      <td>1240.0</td>\n",
       "    </tr>\n",
       "    <tr>\n",
       "      <td>1</td>\n",
       "      <td>OPTUMServe 1</td>\n",
       "      <td>1 College Drive, South Lake Tahoe, CA 96150</td>\n",
       "      <td>OPTUMServe</td>\n",
       "      <td>(888) 634-1123</td>\n",
       "      <td>fd62baf9-d122-43e2-8208-5512d7ee0a11</td>\n",
       "      <td>POLYGON ((34489.799 101196.076, 34335.710 9805...</td>\n",
       "      <td>state</td>\n",
       "      <td>accessible</td>\n",
       "      <td>1240.0</td>\n",
       "    </tr>\n",
       "  </tbody>\n",
       "</table>\n",
       "</div>"
      ],
      "text/plain": [
       "       sitename                                     fulladdr      agency  \\\n",
       "0  OPTUMServe 1                2357 Fair St, Chico, CA 95928  OPTUMServe   \n",
       "1  OPTUMServe 1  1 College Drive, South Lake Tahoe, CA 96150  OPTUMServe   \n",
       "\n",
       "            phone                              globalid  \\\n",
       "0  (888) 634-1123  0a3c99f8-4e79-41ee-a307-94d2b22ca10f   \n",
       "1  (888) 634-1123  fd62baf9-d122-43e2-8208-5512d7ee0a11   \n",
       "\n",
       "                                            geometry site_type       alert  \\\n",
       "0  POLYGON ((-123340.096 190647.278, -123494.184 ...     state  accessible   \n",
       "1  POLYGON ((34489.799 101196.076, 34335.710 9805...     state  accessible   \n",
       "\n",
       "   circle_area  \n",
       "0       1240.0  \n",
       "1       1240.0  "
      ]
     },
     "execution_count": 158,
     "metadata": {},
     "output_type": "execute_result"
    }
   ],
   "source": [
    "all_sites_proj.head(2)"
   ]
  },
  {
   "cell_type": "code",
   "execution_count": 159,
   "metadata": {},
   "outputs": [
    {
     "data": {
      "text/plain": [
       "236"
      ]
     },
     "execution_count": 159,
     "metadata": {},
     "output_type": "execute_result"
    }
   ],
   "source": [
    "len(all_sites_proj)"
   ]
  },
  {
   "cell_type": "code",
   "execution_count": 160,
   "metadata": {},
   "outputs": [
    {
     "data": {
      "text/html": [
       "<div>\n",
       "<style scoped>\n",
       "    .dataframe tbody tr th:only-of-type {\n",
       "        vertical-align: middle;\n",
       "    }\n",
       "\n",
       "    .dataframe tbody tr th {\n",
       "        vertical-align: top;\n",
       "    }\n",
       "\n",
       "    .dataframe thead th {\n",
       "        text-align: right;\n",
       "    }\n",
       "</style>\n",
       "<table border=\"1\" class=\"dataframe\">\n",
       "  <thead>\n",
       "    <tr style=\"text-align: right;\">\n",
       "      <th></th>\n",
       "      <th>alert</th>\n",
       "      <th>count</th>\n",
       "      <th>sum</th>\n",
       "    </tr>\n",
       "  </thead>\n",
       "  <tbody>\n",
       "    <tr>\n",
       "      <td>0</td>\n",
       "      <td>accessible</td>\n",
       "      <td>236</td>\n",
       "      <td>292640.0</td>\n",
       "    </tr>\n",
       "  </tbody>\n",
       "</table>\n",
       "</div>"
      ],
      "text/plain": [
       "        alert  count       sum\n",
       "0  accessible    236  292640.0"
      ]
     },
     "execution_count": 160,
     "metadata": {},
     "output_type": "execute_result"
    }
   ],
   "source": [
    "all_sites_proj.groupby('alert')['circle_area'].aggregate(['count','sum']).reset_index()"
   ]
  },
  {
   "cell_type": "code",
   "execution_count": 161,
   "metadata": {},
   "outputs": [],
   "source": [
    "def adddummyfield(row):\n",
    "    row['alert'] = 'x'\n",
    "    return row"
   ]
  },
  {
   "cell_type": "code",
   "execution_count": 162,
   "metadata": {},
   "outputs": [],
   "source": [
    "dissolved_sites = all_sites_proj.apply(adddummyfield, axis=1).dissolve('alert')"
   ]
  },
  {
   "cell_type": "code",
   "execution_count": 163,
   "metadata": {},
   "outputs": [],
   "source": [
    "dissolved_sites.crs = {'init':'epsg:3310'}"
   ]
  },
  {
   "cell_type": "code",
   "execution_count": 164,
   "metadata": {},
   "outputs": [
    {
     "data": {
      "text/html": [
       "<div>\n",
       "<style scoped>\n",
       "    .dataframe tbody tr th:only-of-type {\n",
       "        vertical-align: middle;\n",
       "    }\n",
       "\n",
       "    .dataframe tbody tr th {\n",
       "        vertical-align: top;\n",
       "    }\n",
       "\n",
       "    .dataframe thead th {\n",
       "        text-align: right;\n",
       "    }\n",
       "</style>\n",
       "<table border=\"1\" class=\"dataframe\">\n",
       "  <thead>\n",
       "    <tr style=\"text-align: right;\">\n",
       "      <th></th>\n",
       "      <th>geometry</th>\n",
       "      <th>sitename</th>\n",
       "      <th>fulladdr</th>\n",
       "      <th>agency</th>\n",
       "      <th>phone</th>\n",
       "      <th>globalid</th>\n",
       "      <th>site_type</th>\n",
       "      <th>circle_area</th>\n",
       "    </tr>\n",
       "    <tr>\n",
       "      <th>alert</th>\n",
       "      <th></th>\n",
       "      <th></th>\n",
       "      <th></th>\n",
       "      <th></th>\n",
       "      <th></th>\n",
       "      <th></th>\n",
       "      <th></th>\n",
       "      <th></th>\n",
       "    </tr>\n",
       "  </thead>\n",
       "  <tbody>\n",
       "    <tr>\n",
       "      <td>x</td>\n",
       "      <td>MULTIPOLYGON (((447232.196 -564908.088, 447078...</td>\n",
       "      <td>OPTUMServe 1</td>\n",
       "      <td>2357 Fair St, Chico, CA 95928</td>\n",
       "      <td>OPTUMServe</td>\n",
       "      <td>(888) 634-1123</td>\n",
       "      <td>0a3c99f8-4e79-41ee-a307-94d2b22ca10f</td>\n",
       "      <td>state</td>\n",
       "      <td>1240.0</td>\n",
       "    </tr>\n",
       "  </tbody>\n",
       "</table>\n",
       "</div>"
      ],
      "text/plain": [
       "                                                geometry      sitename  \\\n",
       "alert                                                                    \n",
       "x      MULTIPOLYGON (((447232.196 -564908.088, 447078...  OPTUMServe 1   \n",
       "\n",
       "                            fulladdr      agency           phone  \\\n",
       "alert                                                              \n",
       "x      2357 Fair St, Chico, CA 95928  OPTUMServe  (888) 634-1123   \n",
       "\n",
       "                                   globalid site_type  circle_area  \n",
       "alert                                                               \n",
       "x      0a3c99f8-4e79-41ee-a307-94d2b22ca10f     state       1240.0  "
      ]
     },
     "execution_count": 164,
     "metadata": {},
     "output_type": "execute_result"
    }
   ],
   "source": [
    "dissolved_sites.head()"
   ]
  },
  {
   "cell_type": "code",
   "execution_count": 165,
   "metadata": {},
   "outputs": [],
   "source": [
    "intersection = gpd.overlay(tracts_geo, dissolved_sites, how='intersection')"
   ]
  },
  {
   "cell_type": "code",
   "execution_count": 166,
   "metadata": {},
   "outputs": [
    {
     "data": {
      "text/plain": [
       "<matplotlib.axes._subplots.AxesSubplot at 0x12584c150>"
      ]
     },
     "execution_count": 166,
     "metadata": {},
     "output_type": "execute_result"
    },
    {
     "data": {
      "image/png": "[encoded data removed]",
      "text/plain": [
       "<Figure size 432x288 with 1 Axes>"
      ]
     },
     "metadata": {
      "needs_background": "light"
     },
     "output_type": "display_data"
    }
   ],
   "source": [
    "intersection.plot()"
   ]
  },
  {
   "cell_type": "code",
   "execution_count": 167,
   "metadata": {},
   "outputs": [
    {
     "data": {
      "text/html": [
       "<div>\n",
       "<style scoped>\n",
       "    .dataframe tbody tr th:only-of-type {\n",
       "        vertical-align: middle;\n",
       "    }\n",
       "\n",
       "    .dataframe tbody tr th {\n",
       "        vertical-align: top;\n",
       "    }\n",
       "\n",
       "    .dataframe thead th {\n",
       "        text-align: right;\n",
       "    }\n",
       "</style>\n",
       "<table border=\"1\" class=\"dataframe\">\n",
       "  <thead>\n",
       "    <tr style=\"text-align: right;\">\n",
       "      <th></th>\n",
       "      <th>geoid</th>\n",
       "      <th>population</th>\n",
       "      <th>county</th>\n",
       "      <th>tract</th>\n",
       "      <th>tract_name</th>\n",
       "      <th>place</th>\n",
       "      <th>tract_area</th>\n",
       "      <th>sitename</th>\n",
       "      <th>fulladdr</th>\n",
       "      <th>agency</th>\n",
       "      <th>phone</th>\n",
       "      <th>globalid</th>\n",
       "      <th>site_type</th>\n",
       "      <th>circle_area</th>\n",
       "      <th>geometry</th>\n",
       "    </tr>\n",
       "  </thead>\n",
       "  <tbody>\n",
       "    <tr>\n",
       "      <td>0</td>\n",
       "      <td>06001442700</td>\n",
       "      <td>3118.0</td>\n",
       "      <td>001</td>\n",
       "      <td>442700</td>\n",
       "      <td>Census Tract 4427</td>\n",
       "      <td>Alameda County</td>\n",
       "      <td>0.476461</td>\n",
       "      <td>OPTUMServe 1</td>\n",
       "      <td>2357 Fair St, Chico, CA 95928</td>\n",
       "      <td>OPTUMServe</td>\n",
       "      <td>(888) 634-1123</td>\n",
       "      <td>0a3c99f8-4e79-41ee-a307-94d2b22ca10f</td>\n",
       "      <td>state</td>\n",
       "      <td>1240.0</td>\n",
       "      <td>POLYGON ((-177981.550 -51137.614, -177979.260 ...</td>\n",
       "    </tr>\n",
       "    <tr>\n",
       "      <td>1</td>\n",
       "      <td>06001442800</td>\n",
       "      <td>2836.0</td>\n",
       "      <td>001</td>\n",
       "      <td>442800</td>\n",
       "      <td>Census Tract 4428</td>\n",
       "      <td>Alameda County</td>\n",
       "      <td>0.493686</td>\n",
       "      <td>OPTUMServe 1</td>\n",
       "      <td>2357 Fair St, Chico, CA 95928</td>\n",
       "      <td>OPTUMServe</td>\n",
       "      <td>(888) 634-1123</td>\n",
       "      <td>0a3c99f8-4e79-41ee-a307-94d2b22ca10f</td>\n",
       "      <td>state</td>\n",
       "      <td>1240.0</td>\n",
       "      <td>POLYGON ((-176688.486 -52219.888, -176682.583 ...</td>\n",
       "    </tr>\n",
       "    <tr>\n",
       "      <td>2</td>\n",
       "      <td>06001442900</td>\n",
       "      <td>7814.0</td>\n",
       "      <td>001</td>\n",
       "      <td>442900</td>\n",
       "      <td>Census Tract 4429</td>\n",
       "      <td>Alameda County</td>\n",
       "      <td>0.797886</td>\n",
       "      <td>OPTUMServe 1</td>\n",
       "      <td>2357 Fair St, Chico, CA 95928</td>\n",
       "      <td>OPTUMServe</td>\n",
       "      <td>(888) 634-1123</td>\n",
       "      <td>0a3c99f8-4e79-41ee-a307-94d2b22ca10f</td>\n",
       "      <td>state</td>\n",
       "      <td>1240.0</td>\n",
       "      <td>POLYGON ((-175420.296 -53064.376, -175412.224 ...</td>\n",
       "    </tr>\n",
       "    <tr>\n",
       "      <td>3</td>\n",
       "      <td>06001443001</td>\n",
       "      <td>3046.0</td>\n",
       "      <td>001</td>\n",
       "      <td>443001</td>\n",
       "      <td>Census Tract 4430.01</td>\n",
       "      <td>Alameda County</td>\n",
       "      <td>0.296807</td>\n",
       "      <td>OPTUMServe 1</td>\n",
       "      <td>2357 Fair St, Chico, CA 95928</td>\n",
       "      <td>OPTUMServe</td>\n",
       "      <td>(888) 634-1123</td>\n",
       "      <td>0a3c99f8-4e79-41ee-a307-94d2b22ca10f</td>\n",
       "      <td>state</td>\n",
       "      <td>1240.0</td>\n",
       "      <td>POLYGON ((-172757.729 -52959.227, -172745.251 ...</td>\n",
       "    </tr>\n",
       "    <tr>\n",
       "      <td>4</td>\n",
       "      <td>06001443002</td>\n",
       "      <td>6745.0</td>\n",
       "      <td>001</td>\n",
       "      <td>443002</td>\n",
       "      <td>Census Tract 4430.02</td>\n",
       "      <td>Alameda County</td>\n",
       "      <td>0.610162</td>\n",
       "      <td>OPTUMServe 1</td>\n",
       "      <td>2357 Fair St, Chico, CA 95928</td>\n",
       "      <td>OPTUMServe</td>\n",
       "      <td>(888) 634-1123</td>\n",
       "      <td>0a3c99f8-4e79-41ee-a307-94d2b22ca10f</td>\n",
       "      <td>state</td>\n",
       "      <td>1240.0</td>\n",
       "      <td>POLYGON ((-173767.402 -53098.538, -173754.125 ...</td>\n",
       "    </tr>\n",
       "  </tbody>\n",
       "</table>\n",
       "</div>"
      ],
      "text/plain": [
       "         geoid  population county   tract            tract_name  \\\n",
       "0  06001442700      3118.0    001  442700     Census Tract 4427   \n",
       "1  06001442800      2836.0    001  442800     Census Tract 4428   \n",
       "2  06001442900      7814.0    001  442900     Census Tract 4429   \n",
       "3  06001443001      3046.0    001  443001  Census Tract 4430.01   \n",
       "4  06001443002      6745.0    001  443002  Census Tract 4430.02   \n",
       "\n",
       "            place  tract_area      sitename                       fulladdr  \\\n",
       "0  Alameda County    0.476461  OPTUMServe 1  2357 Fair St, Chico, CA 95928   \n",
       "1  Alameda County    0.493686  OPTUMServe 1  2357 Fair St, Chico, CA 95928   \n",
       "2  Alameda County    0.797886  OPTUMServe 1  2357 Fair St, Chico, CA 95928   \n",
       "3  Alameda County    0.296807  OPTUMServe 1  2357 Fair St, Chico, CA 95928   \n",
       "4  Alameda County    0.610162  OPTUMServe 1  2357 Fair St, Chico, CA 95928   \n",
       "\n",
       "       agency           phone                              globalid site_type  \\\n",
       "0  OPTUMServe  (888) 634-1123  0a3c99f8-4e79-41ee-a307-94d2b22ca10f     state   \n",
       "1  OPTUMServe  (888) 634-1123  0a3c99f8-4e79-41ee-a307-94d2b22ca10f     state   \n",
       "2  OPTUMServe  (888) 634-1123  0a3c99f8-4e79-41ee-a307-94d2b22ca10f     state   \n",
       "3  OPTUMServe  (888) 634-1123  0a3c99f8-4e79-41ee-a307-94d2b22ca10f     state   \n",
       "4  OPTUMServe  (888) 634-1123  0a3c99f8-4e79-41ee-a307-94d2b22ca10f     state   \n",
       "\n",
       "   circle_area                                           geometry  \n",
       "0       1240.0  POLYGON ((-177981.550 -51137.614, -177979.260 ...  \n",
       "1       1240.0  POLYGON ((-176688.486 -52219.888, -176682.583 ...  \n",
       "2       1240.0  POLYGON ((-175420.296 -53064.376, -175412.224 ...  \n",
       "3       1240.0  POLYGON ((-172757.729 -52959.227, -172745.251 ...  \n",
       "4       1240.0  POLYGON ((-173767.402 -53098.538, -173754.125 ...  "
      ]
     },
     "execution_count": 167,
     "metadata": {},
     "output_type": "execute_result"
    }
   ],
   "source": [
    "intersection.head()"
   ]
  },
  {
   "cell_type": "code",
   "execution_count": 168,
   "metadata": {},
   "outputs": [],
   "source": [
    "intersection['piece_area'] = intersection['geometry'].area / SQMETERS_TO_SQMI"
   ]
  },
  {
   "cell_type": "code",
   "execution_count": 169,
   "metadata": {},
   "outputs": [],
   "source": [
    "intersection['pct_tract'] = intersection['piece_area'] / intersection['tract_area']"
   ]
  },
  {
   "cell_type": "code",
   "execution_count": 170,
   "metadata": {},
   "outputs": [
    {
     "data": {
      "text/html": [
       "<div>\n",
       "<style scoped>\n",
       "    .dataframe tbody tr th:only-of-type {\n",
       "        vertical-align: middle;\n",
       "    }\n",
       "\n",
       "    .dataframe tbody tr th {\n",
       "        vertical-align: top;\n",
       "    }\n",
       "\n",
       "    .dataframe thead th {\n",
       "        text-align: right;\n",
       "    }\n",
       "</style>\n",
       "<table border=\"1\" class=\"dataframe\">\n",
       "  <thead>\n",
       "    <tr style=\"text-align: right;\">\n",
       "      <th></th>\n",
       "      <th>geoid</th>\n",
       "      <th>population</th>\n",
       "      <th>county</th>\n",
       "      <th>tract</th>\n",
       "      <th>tract_name</th>\n",
       "      <th>place</th>\n",
       "      <th>tract_area</th>\n",
       "      <th>sitename</th>\n",
       "      <th>fulladdr</th>\n",
       "      <th>agency</th>\n",
       "      <th>phone</th>\n",
       "      <th>globalid</th>\n",
       "      <th>site_type</th>\n",
       "      <th>circle_area</th>\n",
       "      <th>geometry</th>\n",
       "      <th>piece_area</th>\n",
       "      <th>pct_tract</th>\n",
       "    </tr>\n",
       "  </thead>\n",
       "  <tbody>\n",
       "    <tr>\n",
       "      <td>0</td>\n",
       "      <td>06001442700</td>\n",
       "      <td>3118.0</td>\n",
       "      <td>001</td>\n",
       "      <td>442700</td>\n",
       "      <td>Census Tract 4427</td>\n",
       "      <td>Alameda County</td>\n",
       "      <td>0.476461</td>\n",
       "      <td>OPTUMServe 1</td>\n",
       "      <td>2357 Fair St, Chico, CA 95928</td>\n",
       "      <td>OPTUMServe</td>\n",
       "      <td>(888) 634-1123</td>\n",
       "      <td>0a3c99f8-4e79-41ee-a307-94d2b22ca10f</td>\n",
       "      <td>state</td>\n",
       "      <td>1240.0</td>\n",
       "      <td>POLYGON ((-177981.550 -51137.614, -177979.260 ...</td>\n",
       "      <td>0.476461</td>\n",
       "      <td>1.0</td>\n",
       "    </tr>\n",
       "    <tr>\n",
       "      <td>1</td>\n",
       "      <td>06001442800</td>\n",
       "      <td>2836.0</td>\n",
       "      <td>001</td>\n",
       "      <td>442800</td>\n",
       "      <td>Census Tract 4428</td>\n",
       "      <td>Alameda County</td>\n",
       "      <td>0.493686</td>\n",
       "      <td>OPTUMServe 1</td>\n",
       "      <td>2357 Fair St, Chico, CA 95928</td>\n",
       "      <td>OPTUMServe</td>\n",
       "      <td>(888) 634-1123</td>\n",
       "      <td>0a3c99f8-4e79-41ee-a307-94d2b22ca10f</td>\n",
       "      <td>state</td>\n",
       "      <td>1240.0</td>\n",
       "      <td>POLYGON ((-176688.486 -52219.888, -176682.583 ...</td>\n",
       "      <td>0.493686</td>\n",
       "      <td>1.0</td>\n",
       "    </tr>\n",
       "  </tbody>\n",
       "</table>\n",
       "</div>"
      ],
      "text/plain": [
       "         geoid  population county   tract         tract_name           place  \\\n",
       "0  06001442700      3118.0    001  442700  Census Tract 4427  Alameda County   \n",
       "1  06001442800      2836.0    001  442800  Census Tract 4428  Alameda County   \n",
       "\n",
       "   tract_area      sitename                       fulladdr      agency  \\\n",
       "0    0.476461  OPTUMServe 1  2357 Fair St, Chico, CA 95928  OPTUMServe   \n",
       "1    0.493686  OPTUMServe 1  2357 Fair St, Chico, CA 95928  OPTUMServe   \n",
       "\n",
       "            phone                              globalid site_type  \\\n",
       "0  (888) 634-1123  0a3c99f8-4e79-41ee-a307-94d2b22ca10f     state   \n",
       "1  (888) 634-1123  0a3c99f8-4e79-41ee-a307-94d2b22ca10f     state   \n",
       "\n",
       "   circle_area                                           geometry  piece_area  \\\n",
       "0       1240.0  POLYGON ((-177981.550 -51137.614, -177979.260 ...    0.476461   \n",
       "1       1240.0  POLYGON ((-176688.486 -52219.888, -176682.583 ...    0.493686   \n",
       "\n",
       "   pct_tract  \n",
       "0        1.0  \n",
       "1        1.0  "
      ]
     },
     "execution_count": 170,
     "metadata": {},
     "output_type": "execute_result"
    }
   ],
   "source": [
    "intersection.head(2)"
   ]
  },
  {
   "cell_type": "code",
   "execution_count": 171,
   "metadata": {},
   "outputs": [],
   "source": [
    "tract_pct = intersection.groupby(['tract_name', 'place'])['pct_tract'].sum().reset_index()"
   ]
  },
  {
   "cell_type": "code",
   "execution_count": 172,
   "metadata": {},
   "outputs": [],
   "source": [
    "tracts_geo_merge = tracts_geo.merge(tract_pct, on=['tract_name', 'place'], how='left')"
   ]
  },
  {
   "cell_type": "code",
   "execution_count": 173,
   "metadata": {},
   "outputs": [
    {
     "data": {
      "text/plain": [
       "8049"
      ]
     },
     "execution_count": 173,
     "metadata": {},
     "output_type": "execute_result"
    }
   ],
   "source": [
    "len(tracts_geo_merge)"
   ]
  },
  {
   "cell_type": "code",
   "execution_count": 174,
   "metadata": {},
   "outputs": [
    {
     "data": {
      "text/html": [
       "<div>\n",
       "<style scoped>\n",
       "    .dataframe tbody tr th:only-of-type {\n",
       "        vertical-align: middle;\n",
       "    }\n",
       "\n",
       "    .dataframe tbody tr th {\n",
       "        vertical-align: top;\n",
       "    }\n",
       "\n",
       "    .dataframe thead th {\n",
       "        text-align: right;\n",
       "    }\n",
       "</style>\n",
       "<table border=\"1\" class=\"dataframe\">\n",
       "  <thead>\n",
       "    <tr style=\"text-align: right;\">\n",
       "      <th></th>\n",
       "      <th>geoid</th>\n",
       "      <th>geometry</th>\n",
       "      <th>population</th>\n",
       "      <th>county</th>\n",
       "      <th>tract</th>\n",
       "      <th>tract_name</th>\n",
       "      <th>place</th>\n",
       "      <th>tract_area</th>\n",
       "      <th>pct_tract</th>\n",
       "    </tr>\n",
       "  </thead>\n",
       "  <tbody>\n",
       "    <tr>\n",
       "      <td>0</td>\n",
       "      <td>06001442700</td>\n",
       "      <td>MULTIPOLYGON (((-177981.550 -51137.614, -17797...</td>\n",
       "      <td>3118.0</td>\n",
       "      <td>001</td>\n",
       "      <td>442700</td>\n",
       "      <td>Census Tract 4427</td>\n",
       "      <td>Alameda County</td>\n",
       "      <td>0.476461</td>\n",
       "      <td>1.0</td>\n",
       "    </tr>\n",
       "    <tr>\n",
       "      <td>1</td>\n",
       "      <td>06001442800</td>\n",
       "      <td>MULTIPOLYGON (((-176688.486 -52219.888, -17668...</td>\n",
       "      <td>2836.0</td>\n",
       "      <td>001</td>\n",
       "      <td>442800</td>\n",
       "      <td>Census Tract 4428</td>\n",
       "      <td>Alameda County</td>\n",
       "      <td>0.493686</td>\n",
       "      <td>1.0</td>\n",
       "    </tr>\n",
       "    <tr>\n",
       "      <td>2</td>\n",
       "      <td>06001442900</td>\n",
       "      <td>MULTIPOLYGON (((-175420.296 -53064.376, -17541...</td>\n",
       "      <td>7814.0</td>\n",
       "      <td>001</td>\n",
       "      <td>442900</td>\n",
       "      <td>Census Tract 4429</td>\n",
       "      <td>Alameda County</td>\n",
       "      <td>0.797886</td>\n",
       "      <td>1.0</td>\n",
       "    </tr>\n",
       "    <tr>\n",
       "      <td>3</td>\n",
       "      <td>06001443001</td>\n",
       "      <td>MULTIPOLYGON (((-172757.729 -52959.227, -17274...</td>\n",
       "      <td>3046.0</td>\n",
       "      <td>001</td>\n",
       "      <td>443001</td>\n",
       "      <td>Census Tract 4430.01</td>\n",
       "      <td>Alameda County</td>\n",
       "      <td>0.296807</td>\n",
       "      <td>1.0</td>\n",
       "    </tr>\n",
       "    <tr>\n",
       "      <td>4</td>\n",
       "      <td>06001443002</td>\n",
       "      <td>MULTIPOLYGON (((-173767.402 -53098.538, -17375...</td>\n",
       "      <td>6745.0</td>\n",
       "      <td>001</td>\n",
       "      <td>443002</td>\n",
       "      <td>Census Tract 4430.02</td>\n",
       "      <td>Alameda County</td>\n",
       "      <td>0.610162</td>\n",
       "      <td>1.0</td>\n",
       "    </tr>\n",
       "  </tbody>\n",
       "</table>\n",
       "</div>"
      ],
      "text/plain": [
       "         geoid                                           geometry  population  \\\n",
       "0  06001442700  MULTIPOLYGON (((-177981.550 -51137.614, -17797...      3118.0   \n",
       "1  06001442800  MULTIPOLYGON (((-176688.486 -52219.888, -17668...      2836.0   \n",
       "2  06001442900  MULTIPOLYGON (((-175420.296 -53064.376, -17541...      7814.0   \n",
       "3  06001443001  MULTIPOLYGON (((-172757.729 -52959.227, -17274...      3046.0   \n",
       "4  06001443002  MULTIPOLYGON (((-173767.402 -53098.538, -17375...      6745.0   \n",
       "\n",
       "  county   tract            tract_name           place  tract_area  pct_tract  \n",
       "0    001  442700     Census Tract 4427  Alameda County    0.476461        1.0  \n",
       "1    001  442800     Census Tract 4428  Alameda County    0.493686        1.0  \n",
       "2    001  442900     Census Tract 4429  Alameda County    0.797886        1.0  \n",
       "3    001  443001  Census Tract 4430.01  Alameda County    0.296807        1.0  \n",
       "4    001  443002  Census Tract 4430.02  Alameda County    0.610162        1.0  "
      ]
     },
     "execution_count": 174,
     "metadata": {},
     "output_type": "execute_result"
    }
   ],
   "source": [
    "tracts_geo_merge.head()"
   ]
  },
  {
   "cell_type": "code",
   "execution_count": 175,
   "metadata": {},
   "outputs": [],
   "source": [
    "tracts_geo_merge['pop_portion'] = tracts_geo_merge['population'] - (tracts_geo_merge['population'] * tracts_geo_merge['pct_tract'])"
   ]
  },
  {
   "cell_type": "code",
   "execution_count": 176,
   "metadata": {},
   "outputs": [
    {
     "data": {
      "text/html": [
       "<div>\n",
       "<style scoped>\n",
       "    .dataframe tbody tr th:only-of-type {\n",
       "        vertical-align: middle;\n",
       "    }\n",
       "\n",
       "    .dataframe tbody tr th {\n",
       "        vertical-align: top;\n",
       "    }\n",
       "\n",
       "    .dataframe thead th {\n",
       "        text-align: right;\n",
       "    }\n",
       "</style>\n",
       "<table border=\"1\" class=\"dataframe\">\n",
       "  <thead>\n",
       "    <tr style=\"text-align: right;\">\n",
       "      <th></th>\n",
       "      <th>geoid</th>\n",
       "      <th>geometry</th>\n",
       "      <th>population</th>\n",
       "      <th>county</th>\n",
       "      <th>tract</th>\n",
       "      <th>tract_name</th>\n",
       "      <th>place</th>\n",
       "      <th>tract_area</th>\n",
       "      <th>pct_tract</th>\n",
       "      <th>pop_portion</th>\n",
       "    </tr>\n",
       "  </thead>\n",
       "  <tbody>\n",
       "    <tr>\n",
       "      <td>1682</td>\n",
       "      <td>06029004701</td>\n",
       "      <td>MULTIPOLYGON (((67031.746 -260842.578, 67029.5...</td>\n",
       "      <td>11270.0</td>\n",
       "      <td>029</td>\n",
       "      <td>4701</td>\n",
       "      <td>Census Tract 47.01</td>\n",
       "      <td>Kern County</td>\n",
       "      <td>3.609603</td>\n",
       "      <td>0.000067</td>\n",
       "      <td>11269.248836</td>\n",
       "    </tr>\n",
       "    <tr>\n",
       "      <td>1212</td>\n",
       "      <td>06039000503</td>\n",
       "      <td>MULTIPOLYGON (((-22891.981 -115843.871, -22865...</td>\n",
       "      <td>9261.0</td>\n",
       "      <td>039</td>\n",
       "      <td>503</td>\n",
       "      <td>Census Tract 5.03</td>\n",
       "      <td>Madera County</td>\n",
       "      <td>59.173234</td>\n",
       "      <td>0.081084</td>\n",
       "      <td>8510.085091</td>\n",
       "    </tr>\n",
       "    <tr>\n",
       "      <td>1387</td>\n",
       "      <td>06039000201</td>\n",
       "      <td>MULTIPOLYGON (((-20320.610 -100829.695, -20315...</td>\n",
       "      <td>8460.0</td>\n",
       "      <td>039</td>\n",
       "      <td>201</td>\n",
       "      <td>Census Tract 2.01</td>\n",
       "      <td>Madera County</td>\n",
       "      <td>40.622744</td>\n",
       "      <td>0.041854</td>\n",
       "      <td>8105.918205</td>\n",
       "    </tr>\n",
       "    <tr>\n",
       "      <td>5122</td>\n",
       "      <td>06073018700</td>\n",
       "      <td>MULTIPOLYGON (((242751.620 -530493.170, 242745...</td>\n",
       "      <td>38932.0</td>\n",
       "      <td>073</td>\n",
       "      <td>18700</td>\n",
       "      <td>Census Tract 187</td>\n",
       "      <td>San Diego County</td>\n",
       "      <td>212.321986</td>\n",
       "      <td>0.795214</td>\n",
       "      <td>7972.734420</td>\n",
       "    </tr>\n",
       "    <tr>\n",
       "      <td>1680</td>\n",
       "      <td>06029004604</td>\n",
       "      <td>MULTIPOLYGON (((58219.711 -247218.549, 59524.0...</td>\n",
       "      <td>14188.0</td>\n",
       "      <td>029</td>\n",
       "      <td>4604</td>\n",
       "      <td>Census Tract 46.04</td>\n",
       "      <td>Kern County</td>\n",
       "      <td>209.700372</td>\n",
       "      <td>0.446331</td>\n",
       "      <td>7855.449441</td>\n",
       "    </tr>\n",
       "  </tbody>\n",
       "</table>\n",
       "</div>"
      ],
      "text/plain": [
       "            geoid                                           geometry  \\\n",
       "1682  06029004701  MULTIPOLYGON (((67031.746 -260842.578, 67029.5...   \n",
       "1212  06039000503  MULTIPOLYGON (((-22891.981 -115843.871, -22865...   \n",
       "1387  06039000201  MULTIPOLYGON (((-20320.610 -100829.695, -20315...   \n",
       "5122  06073018700  MULTIPOLYGON (((242751.620 -530493.170, 242745...   \n",
       "1680  06029004604  MULTIPOLYGON (((58219.711 -247218.549, 59524.0...   \n",
       "\n",
       "      population county  tract          tract_name             place  \\\n",
       "1682     11270.0    029   4701  Census Tract 47.01       Kern County   \n",
       "1212      9261.0    039    503   Census Tract 5.03     Madera County   \n",
       "1387      8460.0    039    201   Census Tract 2.01     Madera County   \n",
       "5122     38932.0    073  18700    Census Tract 187  San Diego County   \n",
       "1680     14188.0    029   4604  Census Tract 46.04       Kern County   \n",
       "\n",
       "      tract_area  pct_tract   pop_portion  \n",
       "1682    3.609603   0.000067  11269.248836  \n",
       "1212   59.173234   0.081084   8510.085091  \n",
       "1387   40.622744   0.041854   8105.918205  \n",
       "5122  212.321986   0.795214   7972.734420  \n",
       "1680  209.700372   0.446331   7855.449441  "
      ]
     },
     "execution_count": 176,
     "metadata": {},
     "output_type": "execute_result"
    }
   ],
   "source": [
    "tracts_geo_merge.sort_values(by='pop_portion', ascending=False).head()"
   ]
  },
  {
   "cell_type": "code",
   "execution_count": 177,
   "metadata": {},
   "outputs": [
    {
     "data": {
      "text/plain": [
       "464745.7585533891"
      ]
     },
     "execution_count": 177,
     "metadata": {},
     "output_type": "execute_result"
    }
   ],
   "source": [
    "tracts_geo_merge.pop_portion.sum()"
   ]
  },
  {
   "cell_type": "markdown",
   "metadata": {},
   "source": [
    "### How many \"accessible\" test sites are in each of these geographic locations?"
   ]
  },
  {
   "cell_type": "markdown",
   "metadata": {},
   "source": [
    "#### CA counties "
   ]
  },
  {
   "cell_type": "code",
   "execution_count": 178,
   "metadata": {},
   "outputs": [],
   "source": [
    "county_geo_merge = gpd.sjoin(all_sites, county_geo, op='intersects')"
   ]
  },
  {
   "cell_type": "code",
   "execution_count": 179,
   "metadata": {},
   "outputs": [],
   "source": [
    "county_geo_merge_group = county_geo_merge.groupby(['name']).agg('size').reset_index(name='sites')"
   ]
  },
  {
   "cell_type": "code",
   "execution_count": 188,
   "metadata": {},
   "outputs": [
    {
     "data": {
      "text/html": [
       "<div>\n",
       "<style scoped>\n",
       "    .dataframe tbody tr th:only-of-type {\n",
       "        vertical-align: middle;\n",
       "    }\n",
       "\n",
       "    .dataframe tbody tr th {\n",
       "        vertical-align: top;\n",
       "    }\n",
       "\n",
       "    .dataframe thead th {\n",
       "        text-align: right;\n",
       "    }\n",
       "</style>\n",
       "<table border=\"1\" class=\"dataframe\">\n",
       "  <thead>\n",
       "    <tr style=\"text-align: right;\">\n",
       "      <th></th>\n",
       "      <th>name</th>\n",
       "      <th>sites</th>\n",
       "    </tr>\n",
       "  </thead>\n",
       "  <tbody>\n",
       "    <tr>\n",
       "      <td>12</td>\n",
       "      <td>Los Angeles</td>\n",
       "      <td>60</td>\n",
       "    </tr>\n",
       "    <tr>\n",
       "      <td>20</td>\n",
       "      <td>Orange</td>\n",
       "      <td>13</td>\n",
       "    </tr>\n",
       "    <tr>\n",
       "      <td>22</td>\n",
       "      <td>Riverside</td>\n",
       "      <td>11</td>\n",
       "    </tr>\n",
       "    <tr>\n",
       "      <td>42</td>\n",
       "      <td>Ventura</td>\n",
       "      <td>10</td>\n",
       "    </tr>\n",
       "    <tr>\n",
       "      <td>9</td>\n",
       "      <td>Kern</td>\n",
       "      <td>9</td>\n",
       "    </tr>\n",
       "    <tr>\n",
       "      <td>0</td>\n",
       "      <td>Alameda</td>\n",
       "      <td>9</td>\n",
       "    </tr>\n",
       "    <tr>\n",
       "      <td>6</td>\n",
       "      <td>Fresno</td>\n",
       "      <td>8</td>\n",
       "    </tr>\n",
       "    <tr>\n",
       "      <td>34</td>\n",
       "      <td>Shasta</td>\n",
       "      <td>8</td>\n",
       "    </tr>\n",
       "    <tr>\n",
       "      <td>26</td>\n",
       "      <td>San Diego</td>\n",
       "      <td>7</td>\n",
       "    </tr>\n",
       "    <tr>\n",
       "      <td>35</td>\n",
       "      <td>Siskiyou</td>\n",
       "      <td>6</td>\n",
       "    </tr>\n",
       "  </tbody>\n",
       "</table>\n",
       "</div>"
      ],
      "text/plain": [
       "           name  sites\n",
       "12  Los Angeles     60\n",
       "20       Orange     13\n",
       "22    Riverside     11\n",
       "42      Ventura     10\n",
       "9          Kern      9\n",
       "0       Alameda      9\n",
       "6        Fresno      8\n",
       "34       Shasta      8\n",
       "26    San Diego      7\n",
       "35     Siskiyou      6"
      ]
     },
     "execution_count": 188,
     "metadata": {},
     "output_type": "execute_result"
    }
   ],
   "source": [
    "county_geo_merge_group.sort_values(by='sites', ascending=False).head(10)"
   ]
  },
  {
   "cell_type": "markdown",
   "metadata": {},
   "source": [
    "#### L.A. County communities"
   ]
  },
  {
   "cell_type": "code",
   "execution_count": 181,
   "metadata": {},
   "outputs": [],
   "source": [
    "la_communities_dissolve = la_communities_geo.dissolve(by='city_name').reset_index()"
   ]
  },
  {
   "cell_type": "code",
   "execution_count": 182,
   "metadata": {},
   "outputs": [],
   "source": [
    "la_communities_geo_merge = gpd.sjoin(all_sites, la_communities_dissolve, op='intersects')"
   ]
  },
  {
   "cell_type": "code",
   "execution_count": 183,
   "metadata": {},
   "outputs": [],
   "source": [
    "la_communities_geo_merge_group = la_communities_geo_merge.groupby(['city_name'])\\\n",
    "    .agg('size').reset_index(name='sites')"
   ]
  },
  {
   "cell_type": "code",
   "execution_count": 184,
   "metadata": {},
   "outputs": [
    {
     "data": {
      "text/html": [
       "<div>\n",
       "<style scoped>\n",
       "    .dataframe tbody tr th:only-of-type {\n",
       "        vertical-align: middle;\n",
       "    }\n",
       "\n",
       "    .dataframe tbody tr th {\n",
       "        vertical-align: top;\n",
       "    }\n",
       "\n",
       "    .dataframe thead th {\n",
       "        text-align: right;\n",
       "    }\n",
       "</style>\n",
       "<table border=\"1\" class=\"dataframe\">\n",
       "  <thead>\n",
       "    <tr style=\"text-align: right;\">\n",
       "      <th></th>\n",
       "      <th>city_name</th>\n",
       "      <th>sites</th>\n",
       "    </tr>\n",
       "  </thead>\n",
       "  <tbody>\n",
       "    <tr>\n",
       "      <td>11</td>\n",
       "      <td>Los Angeles</td>\n",
       "      <td>19</td>\n",
       "    </tr>\n",
       "    <tr>\n",
       "      <td>10</td>\n",
       "      <td>Long Beach</td>\n",
       "      <td>6</td>\n",
       "    </tr>\n",
       "    <tr>\n",
       "      <td>23</td>\n",
       "      <td>Unincorporated</td>\n",
       "      <td>5</td>\n",
       "    </tr>\n",
       "    <tr>\n",
       "      <td>15</td>\n",
       "      <td>Pasadena</td>\n",
       "      <td>3</td>\n",
       "    </tr>\n",
       "    <tr>\n",
       "      <td>2</td>\n",
       "      <td>Commerce</td>\n",
       "      <td>2</td>\n",
       "    </tr>\n",
       "    <tr>\n",
       "      <td>21</td>\n",
       "      <td>South El Monte</td>\n",
       "      <td>2</td>\n",
       "    </tr>\n",
       "    <tr>\n",
       "      <td>7</td>\n",
       "      <td>Hawthorne</td>\n",
       "      <td>2</td>\n",
       "    </tr>\n",
       "    <tr>\n",
       "      <td>20</td>\n",
       "      <td>Santa Monica</td>\n",
       "      <td>2</td>\n",
       "    </tr>\n",
       "    <tr>\n",
       "      <td>9</td>\n",
       "      <td>Lancaster</td>\n",
       "      <td>2</td>\n",
       "    </tr>\n",
       "    <tr>\n",
       "      <td>0</td>\n",
       "      <td>Bell</td>\n",
       "      <td>1</td>\n",
       "    </tr>\n",
       "  </tbody>\n",
       "</table>\n",
       "</div>"
      ],
      "text/plain": [
       "         city_name  sites\n",
       "11     Los Angeles     19\n",
       "10      Long Beach      6\n",
       "23  Unincorporated      5\n",
       "15        Pasadena      3\n",
       "2         Commerce      2\n",
       "21  South El Monte      2\n",
       "7        Hawthorne      2\n",
       "20    Santa Monica      2\n",
       "9        Lancaster      2\n",
       "0             Bell      1"
      ]
     },
     "execution_count": 184,
     "metadata": {},
     "output_type": "execute_result"
    }
   ],
   "source": [
    "la_communities_geo_merge_group.sort_values(by='sites', ascending=False).head(10)"
   ]
  },
  {
   "cell_type": "markdown",
   "metadata": {},
   "source": [
    "### Export to CSVs"
   ]
  },
  {
   "cell_type": "code",
   "execution_count": 185,
   "metadata": {},
   "outputs": [],
   "source": [
    "tracts_testing_counts.to_csv('output/tracts_testing_counts.csv')"
   ]
  },
  {
   "cell_type": "code",
   "execution_count": 186,
   "metadata": {},
   "outputs": [],
   "source": [
    "county_geo_merge_group.to_csv('output/counties_testing_counts.csv')"
   ]
  },
  {
   "cell_type": "code",
   "execution_count": 187,
   "metadata": {},
   "outputs": [],
   "source": [
    "la_communities_geo_merge_group.to_csv('output/la_communities_testing_counts.csv')"
   ]
  },
  {
   "cell_type": "markdown",
   "metadata": {},
   "source": [
    "### Merge testing counts back polygons for tracts, counties, communities"
   ]
  },
  {
   "cell_type": "code",
   "execution_count": null,
   "metadata": {},
   "outputs": [],
   "source": []
  },
  {
   "cell_type": "code",
   "execution_count": null,
   "metadata": {},
   "outputs": [],
   "source": []
  },
  {
   "cell_type": "code",
   "execution_count": null,
   "metadata": {},
   "outputs": [],
   "source": []
  },
  {
   "cell_type": "markdown",
   "metadata": {},
   "source": [
    "### Export respective geographic files"
   ]
  },
  {
   "cell_type": "code",
   "execution_count": null,
   "metadata": {},
   "outputs": [],
   "source": []
  },
  {
   "cell_type": "code",
   "execution_count": null,
   "metadata": {},
   "outputs": [],
   "source": []
  },
  {
   "cell_type": "code",
   "execution_count": null,
   "metadata": {},
   "outputs": [],
   "source": []
  },
  {
   "cell_type": "markdown",
   "metadata": {},
   "source": [
    "### Everything merge OK?"
   ]
  },
  {
   "cell_type": "code",
   "execution_count": null,
   "metadata": {},
   "outputs": [],
   "source": []
  },
  {
   "cell_type": "code",
   "execution_count": null,
   "metadata": {},
   "outputs": [],
   "source": []
  },
  {
   "cell_type": "code",
   "execution_count": null,
   "metadata": {},
   "outputs": [],
   "source": []
  },
  {
   "cell_type": "markdown",
   "metadata": {},
   "source": [
    "---"
   ]
  },
  {
   "cell_type": "markdown",
   "metadata": {},
   "source": [
    "### Eventually output to Mapbox"
   ]
  },
  {
   "cell_type": "code",
   "execution_count": 88,
   "metadata": {},
   "outputs": [],
   "source": [
    "# !tippecanoe --generate-ids --force -r1 -pk -pf -o \\\n",
    "# output/tracts_testing_counts_geo.mbtiles \\\n",
    "# output/tracts_testing_counts_geo.geojson"
   ]
  },
  {
   "cell_type": "code",
   "execution_count": 89,
   "metadata": {},
   "outputs": [],
   "source": [
    "# !tippecanoe --generate-ids --force -r1 -pk -pf -o \\\n",
    "# output/county_testing_counts_geo.mbtiles \\\n",
    "# output/county_testing_counts_geo.geojson"
   ]
  },
  {
   "cell_type": "code",
   "execution_count": 90,
   "metadata": {},
   "outputs": [],
   "source": [
    "# !tippecanoe --generate-ids --force -r1 -pk -pf -o \\\n",
    "# output/la_communities_testing_counts_geo.mbtiles \\\n",
    "# output/la_communities_testing_counts_geo.geojson"
   ]
  }
 ],
 "metadata": {
  "kernelspec": {
   "display_name": "Python 3 (ipykernel)",
   "language": "python",
   "name": "python3"
  },
  "language_info": {
   "codemirror_mode": {
    "name": "ipython",
    "version": 3
   },
   "file_extension": ".py",
   "mimetype": "text/x-python",
   "name": "python",
   "nbconvert_exporter": "python",
   "pygments_lexer": "ipython3",
   "version": "3.8.9"
  }
 },
 "nbformat": 4,
 "nbformat_minor": 4
}
