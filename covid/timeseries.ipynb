{
 "cells": [
  {
   "cell_type": "markdown",
   "id": "marked-absolute",
   "metadata": {},
   "source": [
    "## Configuration\n",
    "_Initial steps to get the notebook ready to play nice with our repository. Do not delete this section._"
   ]
  },
  {
   "cell_type": "markdown",
   "id": "diagnostic-crown",
   "metadata": {},
   "source": [
    "Code formatting with [black](https://pypi.org/project/nb-black/)."
   ]
  },
  {
   "cell_type": "code",
   "execution_count": 1,
   "id": "micro-custody",
   "metadata": {},
   "outputs": [],
   "source": [
    "%load_ext lab_black"
   ]
  },
  {
   "cell_type": "markdown",
   "id": "controversial-priest",
   "metadata": {},
   "source": [
    "Add our `utils` directory to the system's `$PATH` so we can import Python files from sibling directories."
   ]
  },
  {
   "cell_type": "code",
   "execution_count": 2,
   "id": "absent-rogers",
   "metadata": {},
   "outputs": [],
   "source": [
    "import os\n",
    "import sys"
   ]
  },
  {
   "cell_type": "code",
   "execution_count": 3,
   "id": "partial-formula",
   "metadata": {},
   "outputs": [],
   "source": [
    "this_dir = os.path.abspath(\"\")"
   ]
  },
  {
   "cell_type": "code",
   "execution_count": 4,
   "id": "affiliated-purse",
   "metadata": {},
   "outputs": [],
   "source": [
    "parent_df = os.path.dirname(os.path.dirname(this_dir))"
   ]
  },
  {
   "cell_type": "code",
   "execution_count": 5,
   "id": "minus-ireland",
   "metadata": {},
   "outputs": [],
   "source": [
    "sys.path.insert(0, parent_df)"
   ]
  },
  {
   "cell_type": "markdown",
   "id": "shaped-springer",
   "metadata": {},
   "source": [
    "Import utilities from `../utils` module."
   ]
  },
  {
   "cell_type": "code",
   "execution_count": 6,
   "id": "collectible-substance",
   "metadata": {},
   "outputs": [],
   "source": [
    "from utils import env, reader, writer, cleaners"
   ]
  },
  {
   "cell_type": "markdown",
   "id": "electronic-despite",
   "metadata": {},
   "source": [
    "## Imports"
   ]
  },
  {
   "cell_type": "code",
   "execution_count": 7,
   "id": "assured-topic",
   "metadata": {},
   "outputs": [],
   "source": [
    "import json\n",
    "import numpy as np\n",
    "import pandas as pd\n",
    "import geopandas as gpd"
   ]
  },
  {
   "cell_type": "code",
   "execution_count": 8,
   "id": "copyrighted-construction",
   "metadata": {},
   "outputs": [
    {
     "name": "stdout",
     "output_type": "stream",
     "text": [
      "📖🗄️ /Users/stiles/github/coronavirus-tracker/_notebooks/data/processed/places/timeseries-mapped.csv ➡️ 612,105 records\n"
     ]
    }
   ],
   "source": [
    "mapped_df = (\n",
    "    reader.processed_csv(\n",
    "        \"places/timeseries-mapped.csv\",\n",
    "        dtype={\n",
    "            \"fips\": str,\n",
    "            \"id\": str,\n",
    "            \"clean_name\": str,\n",
    "            \"county\": str,\n",
    "            \"raw_name\": str,\n",
    "            \"slug\": str,\n",
    "            \"confirmed_cases_note\": str,\n",
    "            \"confirmed_cases\": int,\n",
    "            \"lat\": float,\n",
    "            \"lon\": float,\n",
    "            \"population\": float,\n",
    "            \"zcta_id\": str,\n",
    "            \"id\": str,\n",
    "            \"source\": str,\n",
    "        },\n",
    "        parse_dates=[\"date\"],\n",
    "    )\n",
    "    .rename(columns={\"clean_name\": \"name\"})\n",
    "    .drop(\"raw_name\", axis=1)\n",
    ")"
   ]
  },
  {
   "cell_type": "markdown",
   "id": "diverse-theme",
   "metadata": {},
   "source": [
    "## Analyze"
   ]
  },
  {
   "cell_type": "code",
   "execution_count": 9,
   "id": "comic-mixture",
   "metadata": {},
   "outputs": [],
   "source": [
    "grouper = [\"county\", \"slug\"]"
   ]
  },
  {
   "cell_type": "markdown",
   "id": "eligible-mexico",
   "metadata": {},
   "source": [
    "New case counts"
   ]
  },
  {
   "cell_type": "code",
   "execution_count": 10,
   "id": "american-third",
   "metadata": {},
   "outputs": [],
   "source": [
    "mapped_df[\"new_confirmed_cases\"] = mapped_df.groupby(grouper).confirmed_cases.diff()"
   ]
  },
  {
   "cell_type": "markdown",
   "id": "nonprofit-montreal",
   "metadata": {},
   "source": [
    "Replace all the values below zero with zero"
   ]
  },
  {
   "cell_type": "code",
   "execution_count": 11,
   "id": "solved-tournament",
   "metadata": {},
   "outputs": [],
   "source": [
    "mapped_df.new_confirmed_cases = mapped_df.new_confirmed_cases.apply(\n",
    "    lambda x: 0 if x < 0 else x\n",
    ").fillna(0)"
   ]
  },
  {
   "cell_type": "markdown",
   "id": "mighty-asian",
   "metadata": {},
   "source": [
    "Seven day averages"
   ]
  },
  {
   "cell_type": "code",
   "execution_count": 12,
   "id": "different-african",
   "metadata": {},
   "outputs": [],
   "source": [
    "mapped_df[\"new_confirmed_cases_seven_day_total\"] = (\n",
    "    mapped_df.groupby(grouper).new_confirmed_cases.rolling(7).sum().droplevel([0, 1])\n",
    ")"
   ]
  },
  {
   "cell_type": "code",
   "execution_count": 13,
   "id": "sharing-missouri",
   "metadata": {},
   "outputs": [],
   "source": [
    "mapped_df[\"new_confirmed_cases_seven_day_average\"] = (\n",
    "    mapped_df.groupby(grouper).new_confirmed_cases.rolling(7).mean().droplevel([0, 1])\n",
    ")"
   ]
  },
  {
   "cell_type": "code",
   "execution_count": 14,
   "id": "billion-hotel",
   "metadata": {},
   "outputs": [],
   "source": [
    "mapped_df[\"new_confirmed_cases_fourteen_day_total\"] = (\n",
    "    mapped_df.groupby(grouper).new_confirmed_cases.rolling(14).sum().droplevel([0, 1])\n",
    ")"
   ]
  },
  {
   "cell_type": "code",
   "execution_count": 15,
   "id": "opponent-delaware",
   "metadata": {},
   "outputs": [],
   "source": [
    "mapped_df[\"new_confirmed_cases_fourteen_day_average\"] = (\n",
    "    mapped_df.groupby(grouper).new_confirmed_cases.rolling(14).mean().droplevel([0, 1])\n",
    ")"
   ]
  },
  {
   "cell_type": "markdown",
   "id": "exterior-philippines",
   "metadata": {},
   "source": [
    "Population adjustment"
   ]
  },
  {
   "cell_type": "code",
   "execution_count": 16,
   "id": "sought-orlando",
   "metadata": {},
   "outputs": [],
   "source": [
    "percap = lambda numerator, denominator: (numerator / denominator) * 100000"
   ]
  },
  {
   "cell_type": "code",
   "execution_count": 17,
   "id": "boxed-former",
   "metadata": {},
   "outputs": [],
   "source": [
    "mapped_df[\"confirmed_cases_per_100k\"] = percap(\n",
    "    mapped_df.confirmed_cases,\n",
    "    mapped_df.population,\n",
    ")"
   ]
  },
  {
   "cell_type": "code",
   "execution_count": 18,
   "id": "pursuant-hearing",
   "metadata": {},
   "outputs": [],
   "source": [
    "mapped_df[\"new_confirmed_cases_per_100k\"] = percap(\n",
    "    mapped_df.new_confirmed_cases,\n",
    "    mapped_df.population,\n",
    ")"
   ]
  },
  {
   "cell_type": "code",
   "execution_count": 19,
   "id": "specified-missile",
   "metadata": {},
   "outputs": [],
   "source": [
    "mapped_df[\"new_confirmed_cases_seven_day_per_100k\"] = percap(\n",
    "    mapped_df.new_confirmed_cases_seven_day_total,\n",
    "    mapped_df.population,\n",
    ")"
   ]
  },
  {
   "cell_type": "code",
   "execution_count": 20,
   "id": "collaborative-million",
   "metadata": {},
   "outputs": [],
   "source": [
    "mapped_df[\"new_confirmed_cases_fourteen_day_per_100k\"] = percap(\n",
    "    mapped_df.new_confirmed_cases_fourteen_day_total,\n",
    "    mapped_df.population,\n",
    ")"
   ]
  },
  {
   "cell_type": "markdown",
   "id": "aggregate-exhibition",
   "metadata": {},
   "source": [
    "Wipe out percapita numbers for LA cities under 1000 people"
   ]
  },
  {
   "cell_type": "code",
   "execution_count": 22,
   "id": "agricultural-subscription",
   "metadata": {},
   "outputs": [],
   "source": [
    "small_la_cities = (\n",
    "    (~pd.isnull(mapped_df.population))\n",
    "    & (mapped_df.population < 1000)\n",
    "    & (mapped_df.county == \"Los Angeles\")\n",
    ")"
   ]
  },
  {
   "cell_type": "code",
   "execution_count": 23,
   "id": "automotive-better",
   "metadata": {},
   "outputs": [],
   "source": [
    "mapped_df.loc[small_la_cities, \"confirmed_cases_per_100k\"] = pd.NA"
   ]
  },
  {
   "cell_type": "code",
   "execution_count": 24,
   "id": "generic-antique",
   "metadata": {},
   "outputs": [],
   "source": [
    "mapped_df.loc[small_la_cities, \"new_confirmed_cases_per_100k\"] = pd.NA"
   ]
  },
  {
   "cell_type": "code",
   "execution_count": 25,
   "id": "responsible-excuse",
   "metadata": {},
   "outputs": [],
   "source": [
    "mapped_df.loc[small_la_cities, \"new_confirmed_cases_seven_day_per_100k\"] = pd.NA"
   ]
  },
  {
   "cell_type": "code",
   "execution_count": 26,
   "id": "proved-google",
   "metadata": {},
   "outputs": [],
   "source": [
    "mapped_df.loc[small_la_cities, \"new_confirmed_cases_fourteen_day_per_100k\"] = pd.NA"
   ]
  },
  {
   "cell_type": "markdown",
   "id": "greater-toyota",
   "metadata": {},
   "source": [
    "Wipe out percapita numbers for areas under 50 people"
   ]
  },
  {
   "cell_type": "code",
   "execution_count": 27,
   "id": "composed-jordan",
   "metadata": {},
   "outputs": [],
   "source": [
    "small_ca_areas = (\n",
    "    (~pd.isnull(mapped_df.population))\n",
    "    & (mapped_df.population < 50)\n",
    "    & (mapped_df.county != \"Los Angeles\")\n",
    ")"
   ]
  },
  {
   "cell_type": "code",
   "execution_count": 28,
   "id": "original-venture",
   "metadata": {},
   "outputs": [],
   "source": [
    "mapped_df.loc[small_ca_areas, \"confirmed_cases_per_100k\"] = pd.NA"
   ]
  },
  {
   "cell_type": "code",
   "execution_count": 29,
   "id": "parallel-seller",
   "metadata": {},
   "outputs": [],
   "source": [
    "mapped_df.loc[small_ca_areas, \"new_confirmed_cases_per_100k\"] = pd.NA"
   ]
  },
  {
   "cell_type": "code",
   "execution_count": 30,
   "id": "personal-private",
   "metadata": {},
   "outputs": [],
   "source": [
    "mapped_df.loc[small_ca_areas, \"new_confirmed_cases_seven_day_per_100k\"] = pd.NA"
   ]
  },
  {
   "cell_type": "code",
   "execution_count": 31,
   "id": "western-leave",
   "metadata": {},
   "outputs": [],
   "source": [
    "mapped_df.loc[small_ca_areas, \"new_confirmed_cases_fourteen_day_per_100k\"] = pd.NA"
   ]
  },
  {
   "cell_type": "markdown",
   "id": "present-anxiety",
   "metadata": {},
   "source": [
    "Counties with de-identified cities"
   ]
  },
  {
   "cell_type": "code",
   "execution_count": 32,
   "id": "hybrid-omaha",
   "metadata": {},
   "outputs": [],
   "source": [
    "de_id_areas = ~pd.isnull(mapped_df.confirmed_cases_note)"
   ]
  },
  {
   "cell_type": "code",
   "execution_count": 33,
   "id": "useful-nepal",
   "metadata": {},
   "outputs": [],
   "source": [
    "mapped_df.loc[de_id_areas, \"confirmed_cases_per_100k\"] = pd.NA\n",
    "mapped_df.loc[de_id_areas, \"new_confirmed_cases_per_100k\"] = pd.NA\n",
    "mapped_df.loc[de_id_areas, \"new_confirmed_cases_seven_day_per_100k\"] = pd.NA\n",
    "mapped_df.loc[de_id_areas, \"new_confirmed_cases_fourteen_day_per_100k\"] = pd.NA"
   ]
  },
  {
   "cell_type": "code",
   "execution_count": 34,
   "id": "known-basis",
   "metadata": {},
   "outputs": [],
   "source": [
    "filter_zeros = (~pd.isnull(mapped_df.population)) & (mapped_df.population < 1)"
   ]
  },
  {
   "cell_type": "code",
   "execution_count": 35,
   "id": "later-uganda",
   "metadata": {},
   "outputs": [],
   "source": [
    "mapped_df.loc[filter_zeros, \"confirmed_cases_per_100k\"] = pd.NA"
   ]
  },
  {
   "cell_type": "code",
   "execution_count": 36,
   "id": "altered-bridge",
   "metadata": {},
   "outputs": [],
   "source": [
    "mapped_df.loc[filter_zeros, \"new_confirmed_cases_per_100k\"] = pd.NA"
   ]
  },
  {
   "cell_type": "code",
   "execution_count": 37,
   "id": "human-cause",
   "metadata": {},
   "outputs": [],
   "source": [
    "mapped_df.loc[filter_zeros, \"new_confirmed_cases_seven_day_per_100k\"] = pd.NA"
   ]
  },
  {
   "cell_type": "code",
   "execution_count": 38,
   "id": "palestinian-ticket",
   "metadata": {},
   "outputs": [],
   "source": [
    "mapped_df.loc[filter_zeros, \"new_confirmed_cases_fourteen_day_per_100k\"] = pd.NA"
   ]
  },
  {
   "cell_type": "markdown",
   "id": "serious-undergraduate",
   "metadata": {},
   "source": [
    "## Get the latest stuff"
   ]
  },
  {
   "cell_type": "code",
   "execution_count": 39,
   "id": "alpine-inspection",
   "metadata": {},
   "outputs": [],
   "source": [
    "max_dates = mapped_df.groupby([\"county\"]).date.max().reset_index()"
   ]
  },
  {
   "cell_type": "code",
   "execution_count": 40,
   "id": "photographic-tuition",
   "metadata": {},
   "outputs": [],
   "source": [
    "try:\n",
    "    assert len(max_dates[max_dates[\"date\"] <= env.get_date_in_progress()]) == len(\n",
    "        max_dates\n",
    "    )\n",
    "except AssertionError as e:\n",
    "    print(\n",
    "        f\"\"\"ERROR: {len(max_dates[max_dates[\"date\"] > env.get_date_in_progress()])} counties have place list dates in the future\"\"\"\n",
    "    )\n",
    "    print(mapped_df[mapped_df.date > env.get_date_in_progress()].county.unique())"
   ]
  },
  {
   "cell_type": "code",
   "execution_count": 110,
   "id": "dressed-reply",
   "metadata": {},
   "outputs": [],
   "source": [
    "trimmed_df = mapped_df"
   ]
  },
  {
   "cell_type": "markdown",
   "id": "constitutional-arthritis",
   "metadata": {},
   "source": [
    "---"
   ]
  },
  {
   "cell_type": "markdown",
   "id": "compound-seminar",
   "metadata": {},
   "source": [
    "Calculate 28-day change to seven-day case rate in larger LA communities"
   ]
  },
  {
   "cell_type": "code",
   "execution_count": 139,
   "id": "italian-comparison",
   "metadata": {},
   "outputs": [],
   "source": [
    "trimmed_df_la = trimmed_df[\n",
    "    (trimmed_df[\"county\"] == \"Los Angeles\")\n",
    "    & (trimmed_df[\"population\"] > 1000)\n",
    "    & (trimmed_df[\"new_confirmed_cases_seven_day_per_100k\"] > 0)\n",
    "].copy()"
   ]
  },
  {
   "cell_type": "code",
   "execution_count": 140,
   "id": "suspended-listening",
   "metadata": {},
   "outputs": [
    {
     "data": {
      "text/plain": [
       "Index(['name', 'date', 'county', 'fips', 'slug', 'confirmed_cases_note',\n",
       "       'confirmed_cases', 'lat', 'lon', 'population', 'zcta_id', 'id',\n",
       "       'new_confirmed_cases', 'new_confirmed_cases_seven_day_total',\n",
       "       'new_confirmed_cases_seven_day_average',\n",
       "       'new_confirmed_cases_fourteen_day_total',\n",
       "       'new_confirmed_cases_fourteen_day_average', 'confirmed_cases_per_100k',\n",
       "       'new_confirmed_cases_per_100k',\n",
       "       'new_confirmed_cases_seven_day_per_100k',\n",
       "       'new_confirmed_cases_fourteen_day_per_100k'],\n",
       "      dtype='object')"
      ]
     },
     "execution_count": 140,
     "metadata": {},
     "output_type": "execute_result"
    }
   ],
   "source": [
    "trimmed_df_la.columns"
   ]
  },
  {
   "cell_type": "code",
   "execution_count": 141,
   "id": "increasing-platform",
   "metadata": {},
   "outputs": [],
   "source": [
    "trimmed_df_la[\"new_confirmed_cases_month_change\"] = (\n",
    "    trimmed_df_la.new_confirmed_cases_seven_day_per_100k.pct_change(28)\n",
    "    .replace([np.inf, -np.inf], -1)\n",
    "    .round(2)\n",
    ") * 100"
   ]
  },
  {
   "cell_type": "code",
   "execution_count": 142,
   "id": "psychological-replication",
   "metadata": {},
   "outputs": [],
   "source": [
    "slim_df_la = trimmed_df_la[\n",
    "    [\n",
    "        \"name\",\n",
    "        \"date\",\n",
    "        \"county\",\n",
    "        \"fips\",\n",
    "        \"slug\",\n",
    "        \"lat\",\n",
    "        \"lon\",\n",
    "        \"population\",\n",
    "        \"zcta_id\",\n",
    "        \"id\",\n",
    "        \"new_confirmed_cases_seven_day_per_100k\",\n",
    "        \"new_confirmed_cases_fourteen_day_per_100k\",\n",
    "        \"new_confirmed_cases_month_change\",\n",
    "    ]\n",
    "]"
   ]
  },
  {
   "cell_type": "code",
   "execution_count": 143,
   "id": "polyphonic-bible",
   "metadata": {},
   "outputs": [],
   "source": [
    "slim_latest_df_la = slim_df_la[slim_df_la[\"date\"] == slim_df_la[\"date\"].max()]"
   ]
  },
  {
   "cell_type": "code",
   "execution_count": 149,
   "id": "thorough-progressive",
   "metadata": {},
   "outputs": [
    {
     "data": {
      "text/html": [
       "<div>\n",
       "<style scoped>\n",
       "    .dataframe tbody tr th:only-of-type {\n",
       "        vertical-align: middle;\n",
       "    }\n",
       "\n",
       "    .dataframe tbody tr th {\n",
       "        vertical-align: top;\n",
       "    }\n",
       "\n",
       "    .dataframe thead th {\n",
       "        text-align: right;\n",
       "    }\n",
       "</style>\n",
       "<table border=\"1\" class=\"dataframe\">\n",
       "  <thead>\n",
       "    <tr style=\"text-align: right;\">\n",
       "      <th></th>\n",
       "      <th>name</th>\n",
       "      <th>date</th>\n",
       "      <th>county</th>\n",
       "      <th>fips</th>\n",
       "      <th>slug</th>\n",
       "      <th>lat</th>\n",
       "      <th>lon</th>\n",
       "      <th>population</th>\n",
       "      <th>zcta_id</th>\n",
       "      <th>id</th>\n",
       "      <th>new_confirmed_cases_seven_day_per_100k</th>\n",
       "      <th>new_confirmed_cases_fourteen_day_per_100k</th>\n",
       "      <th>new_confirmed_cases_month_change</th>\n",
       "      <th>geometry</th>\n",
       "    </tr>\n",
       "  </thead>\n",
       "  <tbody>\n",
       "    <tr>\n",
       "      <th>243716</th>\n",
       "      <td>Tarzana</td>\n",
       "      <td>2021-07-12</td>\n",
       "      <td>Los Angeles</td>\n",
       "      <td>037</td>\n",
       "      <td>los-angeles-tarzana</td>\n",
       "      <td>34.156974</td>\n",
       "      <td>-118.549107</td>\n",
       "      <td>30876.0</td>\n",
       "      <td>NaN</td>\n",
       "      <td>Los Angeles - Tarzana</td>\n",
       "      <td>71.252753</td>\n",
       "      <td>100.401606</td>\n",
       "      <td>2100.0</td>\n",
       "      <td>POINT (-118.54911 34.15697)</td>\n",
       "    </tr>\n",
       "    <tr>\n",
       "      <th>167728</th>\n",
       "      <td>Green Meadows</td>\n",
       "      <td>2021-07-12</td>\n",
       "      <td>Los Angeles</td>\n",
       "      <td>037</td>\n",
       "      <td>los-angeles-green-meadows</td>\n",
       "      <td>33.950734</td>\n",
       "      <td>-118.263144</td>\n",
       "      <td>21505.0</td>\n",
       "      <td>NaN</td>\n",
       "      <td>Los Angeles - Green Meadows</td>\n",
       "      <td>88.351546</td>\n",
       "      <td>125.552197</td>\n",
       "      <td>1800.0</td>\n",
       "      <td>POINT (-118.26314 33.95073)</td>\n",
       "    </tr>\n",
       "    <tr>\n",
       "      <th>152240</th>\n",
       "      <td>Downtown</td>\n",
       "      <td>2021-07-12</td>\n",
       "      <td>Los Angeles</td>\n",
       "      <td>037</td>\n",
       "      <td>los-angeles-downtown</td>\n",
       "      <td>34.044724</td>\n",
       "      <td>-118.257803</td>\n",
       "      <td>27507.0</td>\n",
       "      <td>NaN</td>\n",
       "      <td>Los Angeles - Downtown</td>\n",
       "      <td>258.116116</td>\n",
       "      <td>352.63751</td>\n",
       "      <td>1675.0</td>\n",
       "      <td>POINT (-118.25780 34.04472)</td>\n",
       "    </tr>\n",
       "    <tr>\n",
       "      <th>169180</th>\n",
       "      <td>Harbor City</td>\n",
       "      <td>2021-07-12</td>\n",
       "      <td>Los Angeles</td>\n",
       "      <td>037</td>\n",
       "      <td>los-angeles-harbor-city</td>\n",
       "      <td>33.781993</td>\n",
       "      <td>-118.296386</td>\n",
       "      <td>29070.0</td>\n",
       "      <td>NaN</td>\n",
       "      <td>Los Angeles - Harbor City</td>\n",
       "      <td>58.479532</td>\n",
       "      <td>79.119367</td>\n",
       "      <td>1600.0</td>\n",
       "      <td>POINT (-118.29639 33.78199)</td>\n",
       "    </tr>\n",
       "    <tr>\n",
       "      <th>267916</th>\n",
       "      <td>Watts</td>\n",
       "      <td>2021-07-12</td>\n",
       "      <td>Los Angeles</td>\n",
       "      <td>037</td>\n",
       "      <td>los-angeles-watts</td>\n",
       "      <td>33.940452</td>\n",
       "      <td>-118.241148</td>\n",
       "      <td>42674.0</td>\n",
       "      <td>NaN</td>\n",
       "      <td>Los Angeles - Watts</td>\n",
       "      <td>39.836903</td>\n",
       "      <td>72.643764</td>\n",
       "      <td>1600.0</td>\n",
       "      <td>POINT (-118.24115 33.94045)</td>\n",
       "    </tr>\n",
       "    <tr>\n",
       "      <th>161436</th>\n",
       "      <td>Encino</td>\n",
       "      <td>2021-07-12</td>\n",
       "      <td>Los Angeles</td>\n",
       "      <td>037</td>\n",
       "      <td>los-angeles-encino</td>\n",
       "      <td>34.155925</td>\n",
       "      <td>-118.501698</td>\n",
       "      <td>45172.0</td>\n",
       "      <td>NaN</td>\n",
       "      <td>Los Angeles - Encino</td>\n",
       "      <td>73.054104</td>\n",
       "      <td>110.688037</td>\n",
       "      <td>1550.0</td>\n",
       "      <td>POINT (-118.50170 34.15593)</td>\n",
       "    </tr>\n",
       "    <tr>\n",
       "      <th>168696</th>\n",
       "      <td>Hancock Park</td>\n",
       "      <td>2021-07-12</td>\n",
       "      <td>Los Angeles</td>\n",
       "      <td>037</td>\n",
       "      <td>los-angeles-hancock-park</td>\n",
       "      <td>34.069715</td>\n",
       "      <td>-118.328870</td>\n",
       "      <td>17039.0</td>\n",
       "      <td>NaN</td>\n",
       "      <td>Los Angeles - Hancock Park</td>\n",
       "      <td>93.902224</td>\n",
       "      <td>181.93556</td>\n",
       "      <td>1500.0</td>\n",
       "      <td>POINT (-118.32887 34.06972)</td>\n",
       "    </tr>\n",
       "    <tr>\n",
       "      <th>211772</th>\n",
       "      <td>Park La Brea</td>\n",
       "      <td>2021-07-12</td>\n",
       "      <td>Los Angeles</td>\n",
       "      <td>037</td>\n",
       "      <td>los-angeles-park-la-brea</td>\n",
       "      <td>34.069731</td>\n",
       "      <td>-118.355628</td>\n",
       "      <td>13580.0</td>\n",
       "      <td>NaN</td>\n",
       "      <td>Los Angeles - Park La Brea</td>\n",
       "      <td>103.092784</td>\n",
       "      <td>147.275405</td>\n",
       "      <td>1300.0</td>\n",
       "      <td>POINT (-118.35563 34.06973)</td>\n",
       "    </tr>\n",
       "    <tr>\n",
       "      <th>175472</th>\n",
       "      <td>Hollywood Hills</td>\n",
       "      <td>2021-07-12</td>\n",
       "      <td>Los Angeles</td>\n",
       "      <td>037</td>\n",
       "      <td>los-angeles-hollywood-hills</td>\n",
       "      <td>34.120516</td>\n",
       "      <td>-118.346365</td>\n",
       "      <td>29434.0</td>\n",
       "      <td>NaN</td>\n",
       "      <td>Los Angeles - Hollywood Hills</td>\n",
       "      <td>88.33322</td>\n",
       "      <td>159.679282</td>\n",
       "      <td>1200.0</td>\n",
       "      <td>POINT (-118.34637 34.12052)</td>\n",
       "    </tr>\n",
       "    <tr>\n",
       "      <th>186604</th>\n",
       "      <td>Lakewood</td>\n",
       "      <td>2021-07-12</td>\n",
       "      <td>Los Angeles</td>\n",
       "      <td>037</td>\n",
       "      <td>city-of-lakewood</td>\n",
       "      <td>33.847070</td>\n",
       "      <td>-118.122171</td>\n",
       "      <td>80362.0</td>\n",
       "      <td>NaN</td>\n",
       "      <td>City of Lakewood</td>\n",
       "      <td>47.286031</td>\n",
       "      <td>84.617108</td>\n",
       "      <td>1167.0</td>\n",
       "      <td>POINT (-118.12217 33.84707)</td>\n",
       "    </tr>\n",
       "  </tbody>\n",
       "</table>\n",
       "</div>"
      ],
      "text/plain": [
       "                   name       date       county fips  \\\n",
       "243716          Tarzana 2021-07-12  Los Angeles  037   \n",
       "167728    Green Meadows 2021-07-12  Los Angeles  037   \n",
       "152240         Downtown 2021-07-12  Los Angeles  037   \n",
       "169180      Harbor City 2021-07-12  Los Angeles  037   \n",
       "267916            Watts 2021-07-12  Los Angeles  037   \n",
       "161436           Encino 2021-07-12  Los Angeles  037   \n",
       "168696     Hancock Park 2021-07-12  Los Angeles  037   \n",
       "211772     Park La Brea 2021-07-12  Los Angeles  037   \n",
       "175472  Hollywood Hills 2021-07-12  Los Angeles  037   \n",
       "186604         Lakewood 2021-07-12  Los Angeles  037   \n",
       "\n",
       "                               slug        lat         lon  population  \\\n",
       "243716          los-angeles-tarzana  34.156974 -118.549107     30876.0   \n",
       "167728    los-angeles-green-meadows  33.950734 -118.263144     21505.0   \n",
       "152240         los-angeles-downtown  34.044724 -118.257803     27507.0   \n",
       "169180      los-angeles-harbor-city  33.781993 -118.296386     29070.0   \n",
       "267916            los-angeles-watts  33.940452 -118.241148     42674.0   \n",
       "161436           los-angeles-encino  34.155925 -118.501698     45172.0   \n",
       "168696     los-angeles-hancock-park  34.069715 -118.328870     17039.0   \n",
       "211772     los-angeles-park-la-brea  34.069731 -118.355628     13580.0   \n",
       "175472  los-angeles-hollywood-hills  34.120516 -118.346365     29434.0   \n",
       "186604             city-of-lakewood  33.847070 -118.122171     80362.0   \n",
       "\n",
       "       zcta_id                             id  \\\n",
       "243716     NaN          Los Angeles - Tarzana   \n",
       "167728     NaN    Los Angeles - Green Meadows   \n",
       "152240     NaN         Los Angeles - Downtown   \n",
       "169180     NaN      Los Angeles - Harbor City   \n",
       "267916     NaN            Los Angeles - Watts   \n",
       "161436     NaN           Los Angeles - Encino   \n",
       "168696     NaN     Los Angeles - Hancock Park   \n",
       "211772     NaN     Los Angeles - Park La Brea   \n",
       "175472     NaN  Los Angeles - Hollywood Hills   \n",
       "186604     NaN               City of Lakewood   \n",
       "\n",
       "       new_confirmed_cases_seven_day_per_100k  \\\n",
       "243716                              71.252753   \n",
       "167728                              88.351546   \n",
       "152240                             258.116116   \n",
       "169180                              58.479532   \n",
       "267916                              39.836903   \n",
       "161436                              73.054104   \n",
       "168696                              93.902224   \n",
       "211772                             103.092784   \n",
       "175472                               88.33322   \n",
       "186604                              47.286031   \n",
       "\n",
       "       new_confirmed_cases_fourteen_day_per_100k  \\\n",
       "243716                                100.401606   \n",
       "167728                                125.552197   \n",
       "152240                                 352.63751   \n",
       "169180                                 79.119367   \n",
       "267916                                 72.643764   \n",
       "161436                                110.688037   \n",
       "168696                                 181.93556   \n",
       "211772                                147.275405   \n",
       "175472                                159.679282   \n",
       "186604                                 84.617108   \n",
       "\n",
       "        new_confirmed_cases_month_change                     geometry  \n",
       "243716                            2100.0  POINT (-118.54911 34.15697)  \n",
       "167728                            1800.0  POINT (-118.26314 33.95073)  \n",
       "152240                            1675.0  POINT (-118.25780 34.04472)  \n",
       "169180                            1600.0  POINT (-118.29639 33.78199)  \n",
       "267916                            1600.0  POINT (-118.24115 33.94045)  \n",
       "161436                            1550.0  POINT (-118.50170 34.15593)  \n",
       "168696                            1500.0  POINT (-118.32887 34.06972)  \n",
       "211772                            1300.0  POINT (-118.35563 34.06973)  \n",
       "175472                            1200.0  POINT (-118.34637 34.12052)  \n",
       "186604                            1167.0  POINT (-118.12217 33.84707)  "
      ]
     },
     "execution_count": 149,
     "metadata": {},
     "output_type": "execute_result"
    }
   ],
   "source": [
    "slim_latest_df_la.sort_values(\"new_confirmed_cases_month_change\", ascending=False).head(\n",
    "    10\n",
    ")"
   ]
  },
  {
   "cell_type": "code",
   "execution_count": 145,
   "id": "alone-yellow",
   "metadata": {},
   "outputs": [],
   "source": [
    "slim_latest_df_la_gdf = gpd.GeoDataFrame(\n",
    "    slim_latest_df_la,\n",
    "    geometry=gpd.points_from_xy(slim_latest_df_la.lon, slim_latest_df_la.lat),\n",
    ")"
   ]
  },
  {
   "cell_type": "code",
   "execution_count": 147,
   "id": "preceding-trick",
   "metadata": {},
   "outputs": [],
   "source": [
    "slim_latest_df_la_gdf.to_file(\n",
    "    \"../../data/processed/places/latest_la_change.geojson\", driver=\"GeoJSON\"\n",
    ")"
   ]
  },
  {
   "cell_type": "markdown",
   "id": "collected-visit",
   "metadata": {},
   "source": [
    "---"
   ]
  },
  {
   "cell_type": "code",
   "execution_count": 42,
   "id": "fifteen-formula",
   "metadata": {},
   "outputs": [],
   "source": [
    "latest_df = trimmed_df.merge(max_dates, on=[\"county\", \"date\"], how=\"inner\").sort_values(\n",
    "    [\"county\", \"name\"]\n",
    ")"
   ]
  },
  {
   "cell_type": "markdown",
   "id": "medieval-myrtle",
   "metadata": {},
   "source": [
    "Round off coordinates"
   ]
  },
  {
   "cell_type": "code",
   "execution_count": 43,
   "id": "timely-bulgarian",
   "metadata": {},
   "outputs": [],
   "source": [
    "latest_df.lon = latest_df.lon.round(6)\n",
    "latest_df.lat = latest_df.lat.round(6)"
   ]
  },
  {
   "cell_type": "code",
   "execution_count": 44,
   "id": "severe-sweet",
   "metadata": {},
   "outputs": [],
   "source": [
    "trimmed_latest_df = latest_df[\n",
    "    [\n",
    "        \"county\",\n",
    "        \"fips\",\n",
    "        \"id\",\n",
    "        \"name\",\n",
    "        \"slug\",\n",
    "        \"confirmed_cases\",\n",
    "        \"new_confirmed_cases_fourteen_day_total\",\n",
    "        \"confirmed_cases_note\",\n",
    "        \"confirmed_cases_per_100k\",\n",
    "        \"new_confirmed_cases_per_100k\",\n",
    "        \"new_confirmed_cases_fourteen_day_per_100k\",\n",
    "        \"lat\",\n",
    "        \"lon\",\n",
    "    ]\n",
    "]"
   ]
  },
  {
   "cell_type": "code",
   "execution_count": 45,
   "id": "assumed-omega",
   "metadata": {},
   "outputs": [],
   "source": [
    "socal = [\n",
    "    \"Los Angeles\",\n",
    "    \"Ventura\",\n",
    "    \"San Diego\",\n",
    "    \"Santa Barbara\",\n",
    "    \"Riverside\",\n",
    "    \"Orange\",\n",
    "    \"San Bernardino\",\n",
    "    \"San Luis Obispo\",\n",
    "    \"Kern\",\n",
    "]"
   ]
  },
  {
   "cell_type": "code",
   "execution_count": 46,
   "id": "realistic-joining",
   "metadata": {},
   "outputs": [],
   "source": [
    "socal_latest_df = trimmed_latest_df[trimmed_latest_df.county.isin(socal)]"
   ]
  },
  {
   "cell_type": "markdown",
   "id": "excellent-conspiracy",
   "metadata": {},
   "source": [
    "How much of the state do we have covered?"
   ]
  },
  {
   "cell_type": "code",
   "execution_count": 47,
   "id": "coastal-singing",
   "metadata": {},
   "outputs": [],
   "source": [
    "counties_with_cities = trimmed_latest_df.county.nunique()"
   ]
  },
  {
   "cell_type": "code",
   "execution_count": 48,
   "id": "excessive-dimension",
   "metadata": {},
   "outputs": [],
   "source": [
    "population_covered = sum(\n",
    "    [\n",
    "        cleaners.get_county_metadata(c)[\"population\"]\n",
    "        for c in trimmed_latest_df.county.unique()\n",
    "    ]\n",
    ")"
   ]
  },
  {
   "cell_type": "code",
   "execution_count": 49,
   "id": "overall-muscle",
   "metadata": {},
   "outputs": [],
   "source": [
    "population_total = 39512000"
   ]
  },
  {
   "cell_type": "code",
   "execution_count": 50,
   "id": "automated-examination",
   "metadata": {},
   "outputs": [],
   "source": [
    "population_covered_percent = (population_covered / population_total) * 100"
   ]
  },
  {
   "cell_type": "markdown",
   "id": "liberal-audience",
   "metadata": {},
   "source": [
    "## Tests"
   ]
  },
  {
   "cell_type": "markdown",
   "id": "limiting-forge",
   "metadata": {},
   "source": [
    "Verify we don't have any gigantic leaps"
   ]
  },
  {
   "cell_type": "code",
   "execution_count": 51,
   "id": "musical-triple",
   "metadata": {},
   "outputs": [],
   "source": [
    "latest_df[\"new_confirmed_cases_pct_change\"] = latest_df.new_confirmed_cases / (\n",
    "    latest_df.confirmed_cases - latest_df.new_confirmed_cases\n",
    ")"
   ]
  },
  {
   "cell_type": "code",
   "execution_count": 52,
   "id": "quarterly-bandwidth",
   "metadata": {},
   "outputs": [],
   "source": [
    "latest_df = latest_df.replace([np.inf, -np.inf], pd.NA)"
   ]
  },
  {
   "cell_type": "code",
   "execution_count": 53,
   "id": "covered-stream",
   "metadata": {},
   "outputs": [],
   "source": [
    "test_df = latest_df[\n",
    "    (latest_df.new_confirmed_cases_pct_change > 1)\n",
    "    & (latest_df.new_confirmed_cases > 10)\n",
    "]\n",
    "try:\n",
    "    assert len(test_df) == 0\n",
    "except AssertionError:\n",
    "    raise Exception(\n",
    "        f\"{len(test_df)} cities have a suspiciously big increase in new cases. \\n {test_df}\"\n",
    "    )"
   ]
  },
  {
   "cell_type": "code",
   "execution_count": 54,
   "id": "severe-fifteen",
   "metadata": {},
   "outputs": [],
   "source": [
    "test_df = latest_df[\n",
    "    (latest_df.new_confirmed_cases_pct_change < 0)\n",
    "    & (latest_df.new_confirmed_cases < -10)\n",
    "]\n",
    "try:\n",
    "    assert len(test_df) == 0\n",
    "except AssertionError:\n",
    "    raise Exception(\n",
    "        f\"{len(test_df)} cities have a suspiciously big decrease in new cases. \\n {test_df}\"\n",
    "    )"
   ]
  },
  {
   "cell_type": "markdown",
   "id": "neural-asset",
   "metadata": {},
   "source": [
    "## Export"
   ]
  },
  {
   "cell_type": "code",
   "execution_count": 55,
   "id": "lonely-comparison",
   "metadata": {},
   "outputs": [
    {
     "name": "stdout",
     "output_type": "stream",
     "text": [
      "✒️🗄️ 612,105 records ➡️ ./processed//Users/stiles/github/coronavirus-tracker/_notebooks/data/processed/places/timeseries.csv\n"
     ]
    }
   ],
   "source": [
    "writer.processed_csv(trimmed_df, \"places/timeseries.csv\")"
   ]
  },
  {
   "cell_type": "code",
   "execution_count": 56,
   "id": "cutting-drink",
   "metadata": {},
   "outputs": [],
   "source": [
    "latest_df = trimmed_df[trimmed_df.date == trimmed_df.date.max()]"
   ]
  },
  {
   "cell_type": "code",
   "execution_count": 57,
   "id": "adverse-syndication",
   "metadata": {},
   "outputs": [
    {
     "name": "stdout",
     "output_type": "stream",
     "text": [
      "✒️🗄️ 1,256 records ➡️ ./processed//Users/stiles/github/coronavirus-tracker/_notebooks/data/processed/places/latest.csv\n"
     ]
    }
   ],
   "source": [
    "writer.processed_csv(latest_df, \"places/latest.csv\")"
   ]
  },
  {
   "cell_type": "code",
   "execution_count": 58,
   "id": "known-saver",
   "metadata": {},
   "outputs": [],
   "source": [
    "export_options = dict(\n",
    "    dtype={\n",
    "        \"confirmed_cases\": int,\n",
    "        \"id\": str,\n",
    "        \"fips\": str,\n",
    "        \"name\": str,\n",
    "    },\n",
    "    indent=2,\n",
    ")"
   ]
  },
  {
   "cell_type": "code",
   "execution_count": 59,
   "id": "secret-apache",
   "metadata": {},
   "outputs": [
    {
     "data": {
      "text/plain": [
       "county                                            Los Angeles\n",
       "fips                                                      037\n",
       "id                                           City of Glendale\n",
       "name                                                 Glendale\n",
       "slug                                         city-of-glendale\n",
       "confirmed_cases                                         20428\n",
       "new_confirmed_cases_fourteen_day_total                  149.0\n",
       "confirmed_cases_note                                      NaN\n",
       "confirmed_cases_per_100k                          9892.829297\n",
       "new_confirmed_cases_per_100k                              0.0\n",
       "new_confirmed_cases_fourteen_day_per_100k            72.15741\n",
       "lat                                                 34.181933\n",
       "lon                                               -118.246803\n",
       "Name: 390, dtype: object"
      ]
     },
     "execution_count": 59,
     "metadata": {},
     "output_type": "execute_result"
    }
   ],
   "source": [
    "trimmed_latest_df[trimmed_latest_df.name == \"Glendale\"].iloc[0]"
   ]
  },
  {
   "cell_type": "code",
   "execution_count": 60,
   "id": "worthy-bangladesh",
   "metadata": {},
   "outputs": [
    {
     "name": "stdout",
     "output_type": "stream",
     "text": [
      "✒️🗄️ 1,383 records ➡️ /Users/stiles/github/coronavirus-tracker/_data/places/latest/all.json\n"
     ]
    }
   ],
   "source": [
    "writer.baker_json(trimmed_latest_df, \"places/latest/all.json\", **export_options)"
   ]
  },
  {
   "cell_type": "code",
   "execution_count": 61,
   "id": "sought-reception",
   "metadata": {},
   "outputs": [
    {
     "name": "stdout",
     "output_type": "stream",
     "text": [
      "✒️🗄️ 740 records ➡️ /Users/stiles/github/coronavirus-tracker/_data/places/latest/socal.json\n"
     ]
    }
   ],
   "source": [
    "writer.baker_json(socal_latest_df, \"places/latest/socal.json\", **export_options)"
   ]
  },
  {
   "cell_type": "code",
   "execution_count": 62,
   "id": "forbidden-terminal",
   "metadata": {},
   "outputs": [
    {
     "name": "stdout",
     "output_type": "stream",
     "text": [
      "✒️🗄️ 740 records ➡️ /Users/stiles/github/coronavirus-tracker/_data/apple/latest_cities_socal.json\n"
     ]
    }
   ],
   "source": [
    "writer.baker_json(socal_latest_df, \"apple/latest_cities_socal.json\", **export_options)"
   ]
  },
  {
   "cell_type": "code",
   "execution_count": 63,
   "id": "separated-importance",
   "metadata": {},
   "outputs": [
    {
     "name": "stdout",
     "output_type": "stream",
     "text": [
      "✒️🗄️ Writing 50 county files to places/latest/\n"
     ]
    }
   ],
   "source": [
    "writer.baker_json_by_county(trimmed_latest_df, \"places/latest/\", **export_options)"
   ]
  },
  {
   "cell_type": "code",
   "execution_count": 64,
   "id": "quiet-conditioning",
   "metadata": {},
   "outputs": [],
   "source": [
    "with open(env.BAKER_DIR.joinpath(\"places/counties_with_cities.json\"), \"w\") as f:\n",
    "    json.dump(\n",
    "        {\n",
    "            \"total\": counties_with_cities,\n",
    "            \"population_covered\": int(population_covered),\n",
    "            \"population_covered_percent\": population_covered_percent,\n",
    "        },\n",
    "        f,\n",
    "        indent=2,\n",
    "    )"
   ]
  },
  {
   "cell_type": "markdown",
   "id": "silent-europe",
   "metadata": {},
   "source": [
    "## GeoJSON"
   ]
  },
  {
   "cell_type": "code",
   "execution_count": 65,
   "id": "signal-heart",
   "metadata": {},
   "outputs": [],
   "source": [
    "trimmed_gdf = gpd.GeoDataFrame(\n",
    "    trimmed_latest_df,\n",
    "    geometry=gpd.points_from_xy(trimmed_latest_df.lon, trimmed_latest_df.lat),\n",
    ")"
   ]
  },
  {
   "cell_type": "code",
   "execution_count": 66,
   "id": "ecological-amazon",
   "metadata": {},
   "outputs": [],
   "source": [
    "geojson_path = env.BAKER_DIR.joinpath(\"places/geojson/latest.json\")"
   ]
  },
  {
   "cell_type": "code",
   "execution_count": 67,
   "id": "overhead-cylinder",
   "metadata": {},
   "outputs": [],
   "source": [
    "geojson_path.parent.mkdir(parents=True, exist_ok=True)"
   ]
  },
  {
   "cell_type": "code",
   "execution_count": null,
   "id": "varied-craft",
   "metadata": {},
   "outputs": [],
   "source": [
    "print(f\"💽 {len(trimmed_latest_df)} ➡️ {geojson_path}\")"
   ]
  },
  {
   "cell_type": "code",
   "execution_count": 69,
   "id": "absolute-sport",
   "metadata": {},
   "outputs": [],
   "source": [
    "trimmed_gdf[~pd.isnull(trimmed_gdf.lat)].drop([\"lat\", \"lon\"], axis=1).to_file(\n",
    "    geojson_path, driver=\"GeoJSON\"\n",
    ")"
   ]
  }
 ],
 "metadata": {
  "kernelspec": {
   "display_name": "Python 3",
   "language": "python",
   "name": "python3"
  },
  "language_info": {
   "codemirror_mode": {
    "name": "ipython",
    "version": 3
   },
   "file_extension": ".py",
   "mimetype": "text/x-python",
   "name": "python",
   "nbconvert_exporter": "python",
   "pygments_lexer": "ipython3",
   "version": "3.8.11"
  }
 },
 "nbformat": 4,
 "nbformat_minor": 5
}
