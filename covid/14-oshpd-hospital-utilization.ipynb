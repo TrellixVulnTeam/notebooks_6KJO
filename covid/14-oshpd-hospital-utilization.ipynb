{
 "cells": [
  {
   "cell_type": "markdown",
   "metadata": {},
   "source": [
    "# Effects of COVID-19 on CA hospital utilization trends"
   ]
  },
  {
   "cell_type": "markdown",
   "metadata": {},
   "source": [
    "With the onset of COVID-19, hospitals statewide saw a sharp drop in inpatient discharges, emergency department utilization, and ambulatory surgeries."
   ]
  },
  {
   "cell_type": "code",
   "execution_count": 30,
   "metadata": {},
   "outputs": [
    {
     "name": "stdout",
     "output_type": "stream",
     "text": [
      "The lab_black extension is already loaded. To reload it, use:\n",
      "  %reload_ext lab_black\n"
     ]
    }
   ],
   "source": [
    "%load_ext lab_black"
   ]
  },
  {
   "cell_type": "code",
   "execution_count": 150,
   "metadata": {},
   "outputs": [],
   "source": [
    "import pandas as pd\n",
    "import altair as alt\n",
    "import altair_latimes as lat\n",
    "import glob\n",
    "import os"
   ]
  },
  {
   "cell_type": "code",
   "execution_count": 151,
   "metadata": {},
   "outputs": [
    {
     "data": {
      "text/plain": [
       "DataTransformerRegistry.enable('default')"
      ]
     },
     "execution_count": 151,
     "metadata": {},
     "output_type": "execute_result"
    }
   ],
   "source": [
    "alt.themes.register(\"latimes\", lat.theme)\n",
    "alt.themes.enable(\"latimes\")\n",
    "pd.options.display.max_columns = 50\n",
    "pd.options.display.max_rows = 1000\n",
    "alt.data_transformers.disable_max_rows()"
   ]
  },
  {
   "cell_type": "markdown",
   "metadata": {},
   "source": [
    "### Get the data from the CDPH portal"
   ]
  },
  {
   "cell_type": "code",
   "execution_count": 178,
   "metadata": {},
   "outputs": [],
   "source": [
    "url = \"https://data.chhs.ca.gov/dataset/499e7fb6-459a-4ad4-ba00-490eeda20680/resource/7550f345-cb7d-4db6-b4a8-c0bb4f7bb09e/download/effects-of-covid-19-on-hospital-utilization-trends-statewide-montly-encounter-totals-by-category.csv\""
   ]
  },
  {
   "cell_type": "code",
   "execution_count": 179,
   "metadata": {},
   "outputs": [],
   "source": [
    "src = pd.read_csv(url, parse_dates=[\"Date\"])"
   ]
  },
  {
   "cell_type": "code",
   "execution_count": 180,
   "metadata": {},
   "outputs": [],
   "source": [
    "src.columns = src.columns.str.lower()"
   ]
  },
  {
   "cell_type": "code",
   "execution_count": 181,
   "metadata": {},
   "outputs": [
    {
     "data": {
      "text/html": [
       "<div>\n",
       "<style scoped>\n",
       "    .dataframe tbody tr th:only-of-type {\n",
       "        vertical-align: middle;\n",
       "    }\n",
       "\n",
       "    .dataframe tbody tr th {\n",
       "        vertical-align: top;\n",
       "    }\n",
       "\n",
       "    .dataframe thead th {\n",
       "        text-align: right;\n",
       "    }\n",
       "</style>\n",
       "<table border=\"1\" class=\"dataframe\">\n",
       "  <thead>\n",
       "    <tr style=\"text-align: right;\">\n",
       "      <th></th>\n",
       "      <th>date</th>\n",
       "      <th>setting</th>\n",
       "      <th>category</th>\n",
       "      <th>count</th>\n",
       "    </tr>\n",
       "  </thead>\n",
       "  <tbody>\n",
       "    <tr>\n",
       "      <th>0</th>\n",
       "      <td>18-Jan</td>\n",
       "      <td>Ambulatory Surgery</td>\n",
       "      <td>Asthma</td>\n",
       "      <td>11,746</td>\n",
       "    </tr>\n",
       "    <tr>\n",
       "      <th>1</th>\n",
       "      <td>19-Jan</td>\n",
       "      <td>Ambulatory Surgery</td>\n",
       "      <td>Asthma</td>\n",
       "      <td>12,747</td>\n",
       "    </tr>\n",
       "    <tr>\n",
       "      <th>2</th>\n",
       "      <td>20-Jan</td>\n",
       "      <td>Ambulatory Surgery</td>\n",
       "      <td>Asthma</td>\n",
       "      <td>12,248</td>\n",
       "    </tr>\n",
       "    <tr>\n",
       "      <th>3</th>\n",
       "      <td>18-Feb</td>\n",
       "      <td>Ambulatory Surgery</td>\n",
       "      <td>Asthma</td>\n",
       "      <td>11,085</td>\n",
       "    </tr>\n",
       "    <tr>\n",
       "      <th>4</th>\n",
       "      <td>19-Feb</td>\n",
       "      <td>Ambulatory Surgery</td>\n",
       "      <td>Asthma</td>\n",
       "      <td>11,741</td>\n",
       "    </tr>\n",
       "  </tbody>\n",
       "</table>\n",
       "</div>"
      ],
      "text/plain": [
       "     date             setting category   count\n",
       "0  18-Jan  Ambulatory Surgery   Asthma  11,746\n",
       "1  19-Jan  Ambulatory Surgery   Asthma  12,747\n",
       "2  20-Jan  Ambulatory Surgery   Asthma  12,248\n",
       "3  18-Feb  Ambulatory Surgery   Asthma  11,085\n",
       "4  19-Feb  Ambulatory Surgery   Asthma  11,741"
      ]
     },
     "execution_count": 181,
     "metadata": {},
     "output_type": "execute_result"
    }
   ],
   "source": [
    "src.head()"
   ]
  },
  {
   "cell_type": "code",
   "execution_count": 182,
   "metadata": {},
   "outputs": [
    {
     "data": {
      "text/plain": [
       "Asthma                                          96\n",
       "Diabetes                                        96\n",
       "Sepsis                                          96\n",
       "Chronic Obstructive Pulmonary Disease (COPD)    96\n",
       "Homeless                                        96\n",
       "Cancer                                          96\n",
       "Hypertension                                    96\n",
       "Obesity                                         96\n",
       "Stroke                                          96\n",
       "COVID-19                                        24\n",
       "Name: category, dtype: int64"
      ]
     },
     "execution_count": 182,
     "metadata": {},
     "output_type": "execute_result"
    }
   ],
   "source": [
    "src.category.value_counts()"
   ]
  },
  {
   "cell_type": "code",
   "execution_count": 183,
   "metadata": {},
   "outputs": [
    {
     "data": {
      "text/plain": [
       "Ambulatory Surgery    306\n",
       "Emergency Dept        306\n",
       "Discharges            276\n",
       "Name: setting, dtype: int64"
      ]
     },
     "execution_count": 183,
     "metadata": {},
     "output_type": "execute_result"
    }
   ],
   "source": [
    "src.setting.value_counts()"
   ]
  },
  {
   "cell_type": "code",
   "execution_count": 184,
   "metadata": {},
   "outputs": [],
   "source": [
    "src[\"date\"] = pd.to_datetime(src[\"date\"], format=\"%y-%b\")"
   ]
  },
  {
   "cell_type": "code",
   "execution_count": 185,
   "metadata": {},
   "outputs": [],
   "source": [
    "src[\"year\"] = src[\"date\"].dt.year\n",
    "src[\"month\"] = src[\"date\"].dt.month"
   ]
  },
  {
   "cell_type": "code",
   "execution_count": 186,
   "metadata": {},
   "outputs": [],
   "source": [
    "src[\"count\"] = src[\"count\"].str.replace(\",\", \"\", regex=False).astype(int)"
   ]
  },
  {
   "cell_type": "code",
   "execution_count": 201,
   "metadata": {},
   "outputs": [],
   "source": [
    "df = src[(src[\"setting\"] != \"Discharges\")].copy()"
   ]
  },
  {
   "cell_type": "markdown",
   "metadata": {},
   "source": [
    "---"
   ]
  },
  {
   "cell_type": "code",
   "execution_count": 202,
   "metadata": {},
   "outputs": [],
   "source": [
    "emergency = df[df[\"setting\"] == \"Emergency Dept\"]"
   ]
  },
  {
   "cell_type": "code",
   "execution_count": 203,
   "metadata": {},
   "outputs": [],
   "source": [
    "surgery = df[df[\"setting\"] == \"Ambulatory Surgery\"]"
   ]
  },
  {
   "cell_type": "code",
   "execution_count": 204,
   "metadata": {},
   "outputs": [],
   "source": [
    "discharges = df[df[\"setting\"] == \"Discharges\"]"
   ]
  },
  {
   "cell_type": "markdown",
   "metadata": {},
   "source": [
    "--- "
   ]
  },
  {
   "cell_type": "code",
   "execution_count": 212,
   "metadata": {},
   "outputs": [],
   "source": [
    "cat_year = (\n",
    "    df.groupby([\"date\", \"category\", \"setting\"]).agg({\"count\": \"sum\"}).reset_index()\n",
    ")"
   ]
  },
  {
   "cell_type": "code",
   "execution_count": 213,
   "metadata": {},
   "outputs": [
    {
     "data": {
      "text/html": [
       "\n",
       "<div id=\"altair-viz-db77548d76154e0da9d56c2d9e2b39ca\"></div>\n",
       "<script type=\"text/javascript\">\n",
       "  (function(spec, embedOpt){\n",
       "    const outputDiv = document.getElementById(\"altair-viz-db77548d76154e0da9d56c2d9e2b39ca\");\n",
       "    const paths = {\n",
       "      \"vega\": \"https://cdn.jsdelivr.net/npm//vega@5?noext\",\n",
       "      \"vega-lib\": \"https://cdn.jsdelivr.net/npm//vega-lib?noext\",\n",
       "      \"vega-lite\": \"https://cdn.jsdelivr.net/npm//vega-lite@4.0.2?noext\",\n",
       "      \"vega-embed\": \"https://cdn.jsdelivr.net/npm//vega-embed@6?noext\",\n",
       "    };\n",
       "\n",
       "    function loadScript(lib) {\n",
       "      return new Promise(function(resolve, reject) {\n",
       "        var s = document.createElement('script');\n",
       "        s.src = paths[lib];\n",
       "        s.async = true;\n",
       "        s.onload = () => resolve(paths[lib]);\n",
       "        s.onerror = () => reject(`Error loading script: ${paths[lib]}`);\n",
       "        document.getElementsByTagName(\"head\")[0].appendChild(s);\n",
       "      });\n",
       "    }\n",
       "\n",
       "    function showError(err) {\n",
       "      outputDiv.innerHTML = `<div class=\"error\" style=\"color:red;\">${err}</div>`;\n",
       "      throw err;\n",
       "    }\n",
       "\n",
       "    function displayChart(vegaEmbed) {\n",
       "      vegaEmbed(outputDiv, spec, embedOpt)\n",
       "        .catch(err => showError(`Javascript Error: ${err.message}<br>This usually means there's a typo in your chart specification. See the javascript console for the full traceback.`));\n",
       "    }\n",
       "\n",
       "    if(typeof define === \"function\" && define.amd) {\n",
       "      requirejs.config({paths});\n",
       "      require([\"vega-embed\"], displayChart, err => showError(`Error loading script: ${err.message}`));\n",
       "    } else if (typeof vegaEmbed === \"function\") {\n",
       "      displayChart(vegaEmbed);\n",
       "    } else {\n",
       "      loadScript(\"vega\")\n",
       "        .then(() => loadScript(\"vega-lite\"))\n",
       "        .then(() => loadScript(\"vega-embed\"))\n",
       "        .catch(showError)\n",
       "        .then(() => displayChart(vegaEmbed));\n",
       "    }\n",
       "  })({\"config\": {\"view\": {\"width\": 800, \"height\": 450, \"strokeOpacity\": 0}, \"background\": \"#ffffff\", \"title\": {\"anchor\": \"start\", \"font\": \"Benton Gothic Bold, sans\", \"fontColor\": \"#000000\", \"fontSize\": 22, \"fontWeight\": \"normal\"}, \"arc\": {\"fill\": \"#82c6df\"}, \"area\": {\"fill\": \"#82c6df\"}, \"line\": {\"stroke\": \"#82c6df\", \"strokeWidth\": 3}, \"path\": {\"stroke\": \"#82c6df\"}, \"rect\": {\"fill\": \"#82c6df\"}, \"shape\": {\"stroke\": \"#82c6df\"}, \"bar\": {\"fill\": \"#82c6df\"}, \"point\": {\"stroke\": \"#82c6df\"}, \"symbol\": {\"fill\": \"#82c6df\", \"size\": 30}, \"axis\": {\"titleFont\": \"Benton Gothic Bold, sans\", \"titleFontSize\": 13, \"titleFontWeight\": \"normal\", \"labelFont\": \"Benton Gothic, sans\", \"labelFontSize\": 11.5, \"labelFontWeight\": \"normal\"}, \"axisX\": {\"labelAngle\": 0, \"labelPadding\": 4, \"tickSize\": 3}, \"axisY\": {\"labelBaseline\": \"middle\", \"maxExtent\": 45, \"minExtent\": 45, \"tickSize\": 2, \"titleAlign\": \"left\", \"titleAngle\": 0, \"titleX\": -45, \"titleY\": -11}, \"legend\": {\"titleFont\": \"Benton Gothic Bold, sans\", \"titleFontSize\": 13, \"titleFontWeight\": \"normal\", \"symbolType\": \"square\", \"labelFont\": \"Benton Gothic, sans\", \"labelFontSize\": 11.5}, \"range\": {\"category\": [\"#3580b1\", \"#ec8431\", \"#ab7fb4\", \"#c89d29\", \"#adc839\", \"#829eb1\"], \"diverging\": [\"#e68a4f\", \"#f4bb6a\", \"#f9e39c\", \"#dadfe2\", \"#a6b7c6\", \"#849eae\"], \"heatmap\": [\"#fbf2c7\", \"#f9e39c\", \"#f8d36e\", \"#f4bb6a\", \"#e68a4f\", \"#d15a40\", \"#ab4232\"], \"ordinal\": [\"#fbf2c7\", \"#f9e39c\", \"#f8d36e\", \"#f4bb6a\", \"#e68a4f\", \"#d15a40\", \"#ab4232\"], \"ramp\": [\"#fbf2c7\", \"#f9e39c\", \"#f8d36e\", \"#f4bb6a\", \"#e68a4f\", \"#d15a40\", \"#ab4232\"]}}, \"data\": {\"name\": \"data-863c60c8717054efbcedc58071b74be1\"}, \"mark\": \"area\", \"encoding\": {\"color\": {\"type\": \"nominal\", \"field\": \"category\", \"scale\": {\"scheme\": \"tableau10\"}}, \"facet\": {\"type\": \"nominal\", \"columns\": 1, \"field\": \"setting\", \"title\": null}, \"x\": {\"type\": \"temporal\", \"axis\": {\"domain\": false, \"format\": \"%B %Y\", \"grid\": false, \"tickSize\": 0}, \"field\": \"date\"}, \"y\": {\"type\": \"quantitative\", \"field\": \"count\"}}, \"height\": 500, \"width\": 900, \"$schema\": \"https://vega.github.io/schema/vega-lite/v4.0.2.json\", \"datasets\": {\"data-863c60c8717054efbcedc58071b74be1\": [{\"date\": \"2018-01-01T00:00:00\", \"category\": \"Asthma\", \"setting\": \"Emergency Dept\", \"count\": 72931}, {\"date\": \"2018-01-01T00:00:00\", \"category\": \"Cancer\", \"setting\": \"Emergency Dept\", \"count\": 10574}, {\"date\": \"2018-01-01T00:00:00\", \"category\": \"Chronic Obstructive Pulmonary Disease (COPD)\", \"setting\": \"Emergency Dept\", \"count\": 19189}, {\"date\": \"2018-01-01T00:00:00\", \"category\": \"Diabetes\", \"setting\": \"Emergency Dept\", \"count\": 111380}, {\"date\": \"2018-01-01T00:00:00\", \"category\": \"Homeless\", \"setting\": \"Emergency Dept\", \"count\": 11428}, {\"date\": \"2018-01-01T00:00:00\", \"category\": \"Hypertension\", \"setting\": \"Emergency Dept\", \"count\": 210838}, {\"date\": \"2018-01-01T00:00:00\", \"category\": \"Obesity\", \"setting\": \"Emergency Dept\", \"count\": 30026}, {\"date\": \"2018-01-01T00:00:00\", \"category\": \"Sepsis\", \"setting\": \"Emergency Dept\", \"count\": 2727}, {\"date\": \"2018-01-01T00:00:00\", \"category\": \"Stroke\", \"setting\": \"Emergency Dept\", \"count\": 1361}, {\"date\": \"2018-02-01T00:00:00\", \"category\": \"Asthma\", \"setting\": \"Emergency Dept\", \"count\": 66592}, {\"date\": \"2018-02-01T00:00:00\", \"category\": \"Cancer\", \"setting\": \"Emergency Dept\", \"count\": 9472}, {\"date\": \"2018-02-01T00:00:00\", \"category\": \"Chronic Obstructive Pulmonary Disease (COPD)\", \"setting\": \"Emergency Dept\", \"count\": 16875}, {\"date\": \"2018-02-01T00:00:00\", \"category\": \"Diabetes\", \"setting\": \"Emergency Dept\", \"count\": 96073}, {\"date\": \"2018-02-01T00:00:00\", \"category\": \"Homeless\", \"setting\": \"Emergency Dept\", \"count\": 9984}, {\"date\": \"2018-02-01T00:00:00\", \"category\": \"Hypertension\", \"setting\": \"Emergency Dept\", \"count\": 183993}, {\"date\": \"2018-02-01T00:00:00\", \"category\": \"Obesity\", \"setting\": \"Emergency Dept\", \"count\": 27345}, {\"date\": \"2018-02-01T00:00:00\", \"category\": \"Sepsis\", \"setting\": \"Emergency Dept\", \"count\": 2050}, {\"date\": \"2018-02-01T00:00:00\", \"category\": \"Stroke\", \"setting\": \"Emergency Dept\", \"count\": 1223}, {\"date\": \"2018-03-01T00:00:00\", \"category\": \"Asthma\", \"setting\": \"Emergency Dept\", \"count\": 67678}, {\"date\": \"2018-03-01T00:00:00\", \"category\": \"Cancer\", \"setting\": \"Emergency Dept\", \"count\": 10619}, {\"date\": \"2018-03-01T00:00:00\", \"category\": \"Chronic Obstructive Pulmonary Disease (COPD)\", \"setting\": \"Emergency Dept\", \"count\": 18206}, {\"date\": \"2018-03-01T00:00:00\", \"category\": \"Diabetes\", \"setting\": \"Emergency Dept\", \"count\": 107697}, {\"date\": \"2018-03-01T00:00:00\", \"category\": \"Homeless\", \"setting\": \"Emergency Dept\", \"count\": 12748}, {\"date\": \"2018-03-01T00:00:00\", \"category\": \"Hypertension\", \"setting\": \"Emergency Dept\", \"count\": 205999}, {\"date\": \"2018-03-01T00:00:00\", \"category\": \"Obesity\", \"setting\": \"Emergency Dept\", \"count\": 31456}, {\"date\": \"2018-03-01T00:00:00\", \"category\": \"Sepsis\", \"setting\": \"Emergency Dept\", \"count\": 2328}, {\"date\": \"2018-03-01T00:00:00\", \"category\": \"Stroke\", \"setting\": \"Emergency Dept\", \"count\": 1313}, {\"date\": \"2018-04-01T00:00:00\", \"category\": \"Asthma\", \"setting\": \"Emergency Dept\", \"count\": 60972}, {\"date\": \"2018-04-01T00:00:00\", \"category\": \"Cancer\", \"setting\": \"Emergency Dept\", \"count\": 10147}, {\"date\": \"2018-04-01T00:00:00\", \"category\": \"Chronic Obstructive Pulmonary Disease (COPD)\", \"setting\": \"Emergency Dept\", \"count\": 17717}, {\"date\": \"2018-04-01T00:00:00\", \"category\": \"Diabetes\", \"setting\": \"Emergency Dept\", \"count\": 102988}, {\"date\": \"2018-04-01T00:00:00\", \"category\": \"Homeless\", \"setting\": \"Emergency Dept\", \"count\": 11220}, {\"date\": \"2018-04-01T00:00:00\", \"category\": \"Hypertension\", \"setting\": \"Emergency Dept\", \"count\": 196646}, {\"date\": \"2018-04-01T00:00:00\", \"category\": \"Obesity\", \"setting\": \"Emergency Dept\", \"count\": 29722}, {\"date\": \"2018-04-01T00:00:00\", \"category\": \"Sepsis\", \"setting\": \"Emergency Dept\", \"count\": 2175}, {\"date\": \"2018-04-01T00:00:00\", \"category\": \"Stroke\", \"setting\": \"Emergency Dept\", \"count\": 1273}, {\"date\": \"2018-05-01T00:00:00\", \"category\": \"Asthma\", \"setting\": \"Emergency Dept\", \"count\": 63077}, {\"date\": \"2018-05-01T00:00:00\", \"category\": \"Cancer\", \"setting\": \"Emergency Dept\", \"count\": 10598}, {\"date\": \"2018-05-01T00:00:00\", \"category\": \"Chronic Obstructive Pulmonary Disease (COPD)\", \"setting\": \"Emergency Dept\", \"count\": 17867}, {\"date\": \"2018-05-01T00:00:00\", \"category\": \"Diabetes\", \"setting\": \"Emergency Dept\", \"count\": 105371}, {\"date\": \"2018-05-01T00:00:00\", \"category\": \"Homeless\", \"setting\": \"Emergency Dept\", \"count\": 11223}, {\"date\": \"2018-05-01T00:00:00\", \"category\": \"Hypertension\", \"setting\": \"Emergency Dept\", \"count\": 199804}, {\"date\": \"2018-05-01T00:00:00\", \"category\": \"Obesity\", \"setting\": \"Emergency Dept\", \"count\": 30698}, {\"date\": \"2018-05-01T00:00:00\", \"category\": \"Sepsis\", \"setting\": \"Emergency Dept\", \"count\": 2175}, {\"date\": \"2018-05-01T00:00:00\", \"category\": \"Stroke\", \"setting\": \"Emergency Dept\", \"count\": 1344}, {\"date\": \"2018-06-01T00:00:00\", \"category\": \"Asthma\", \"setting\": \"Emergency Dept\", \"count\": 53405}, {\"date\": \"2018-06-01T00:00:00\", \"category\": \"Cancer\", \"setting\": \"Emergency Dept\", \"count\": 10161}, {\"date\": \"2018-06-01T00:00:00\", \"category\": \"Chronic Obstructive Pulmonary Disease (COPD)\", \"setting\": \"Emergency Dept\", \"count\": 17669}, {\"date\": \"2018-06-01T00:00:00\", \"category\": \"Diabetes\", \"setting\": \"Emergency Dept\", \"count\": 103206}, {\"date\": \"2018-06-01T00:00:00\", \"category\": \"Homeless\", \"setting\": \"Emergency Dept\", \"count\": 10994}, {\"date\": \"2018-06-01T00:00:00\", \"category\": \"Hypertension\", \"setting\": \"Emergency Dept\", \"count\": 196490}, {\"date\": \"2018-06-01T00:00:00\", \"category\": \"Obesity\", \"setting\": \"Emergency Dept\", \"count\": 30881}, {\"date\": \"2018-06-01T00:00:00\", \"category\": \"Sepsis\", \"setting\": \"Emergency Dept\", \"count\": 2103}, {\"date\": \"2018-06-01T00:00:00\", \"category\": \"Stroke\", \"setting\": \"Emergency Dept\", \"count\": 1305}, {\"date\": \"2018-07-01T00:00:00\", \"category\": \"Asthma\", \"setting\": \"Emergency Dept\", \"count\": 52723}, {\"date\": \"2018-07-01T00:00:00\", \"category\": \"Cancer\", \"setting\": \"Emergency Dept\", \"count\": 10964}, {\"date\": \"2018-07-01T00:00:00\", \"category\": \"Chronic Obstructive Pulmonary Disease (COPD)\", \"setting\": \"Emergency Dept\", \"count\": 18140}, {\"date\": \"2018-07-01T00:00:00\", \"category\": \"Diabetes\", \"setting\": \"Emergency Dept\", \"count\": 108377}, {\"date\": \"2018-07-01T00:00:00\", \"category\": \"Homeless\", \"setting\": \"Emergency Dept\", \"count\": 12048}, {\"date\": \"2018-07-01T00:00:00\", \"category\": \"Hypertension\", \"setting\": \"Emergency Dept\", \"count\": 204038}, {\"date\": \"2018-07-01T00:00:00\", \"category\": \"Obesity\", \"setting\": \"Emergency Dept\", \"count\": 32263}, {\"date\": \"2018-07-01T00:00:00\", \"category\": \"Sepsis\", \"setting\": \"Emergency Dept\", \"count\": 2169}, {\"date\": \"2018-07-01T00:00:00\", \"category\": \"Stroke\", \"setting\": \"Emergency Dept\", \"count\": 1389}, {\"date\": \"2018-08-01T00:00:00\", \"category\": \"Asthma\", \"setting\": \"Emergency Dept\", \"count\": 56170}, {\"date\": \"2018-08-01T00:00:00\", \"category\": \"Cancer\", \"setting\": \"Emergency Dept\", \"count\": 11177}, {\"date\": \"2018-08-01T00:00:00\", \"category\": \"Chronic Obstructive Pulmonary Disease (COPD)\", \"setting\": \"Emergency Dept\", \"count\": 18218}, {\"date\": \"2018-08-01T00:00:00\", \"category\": \"Diabetes\", \"setting\": \"Emergency Dept\", \"count\": 107089}, {\"date\": \"2018-08-01T00:00:00\", \"category\": \"Homeless\", \"setting\": \"Emergency Dept\", \"count\": 11585}, {\"date\": \"2018-08-01T00:00:00\", \"category\": \"Hypertension\", \"setting\": \"Emergency Dept\", \"count\": 202378}, {\"date\": \"2018-08-01T00:00:00\", \"category\": \"Obesity\", \"setting\": \"Emergency Dept\", \"count\": 32541}, {\"date\": \"2018-08-01T00:00:00\", \"category\": \"Sepsis\", \"setting\": \"Emergency Dept\", \"count\": 2156}, {\"date\": \"2018-08-01T00:00:00\", \"category\": \"Stroke\", \"setting\": \"Emergency Dept\", \"count\": 1371}, {\"date\": \"2018-09-01T00:00:00\", \"category\": \"Asthma\", \"setting\": \"Emergency Dept\", \"count\": 58333}, {\"date\": \"2018-09-01T00:00:00\", \"category\": \"Cancer\", \"setting\": \"Emergency Dept\", \"count\": 10594}, {\"date\": \"2018-09-01T00:00:00\", \"category\": \"Chronic Obstructive Pulmonary Disease (COPD)\", \"setting\": \"Emergency Dept\", \"count\": 17260}, {\"date\": \"2018-09-01T00:00:00\", \"category\": \"Diabetes\", \"setting\": \"Emergency Dept\", \"count\": 102069}, {\"date\": \"2018-09-01T00:00:00\", \"category\": \"Homeless\", \"setting\": \"Emergency Dept\", \"count\": 11005}, {\"date\": \"2018-09-01T00:00:00\", \"category\": \"Hypertension\", \"setting\": \"Emergency Dept\", \"count\": 193595}, {\"date\": \"2018-09-01T00:00:00\", \"category\": \"Obesity\", \"setting\": \"Emergency Dept\", \"count\": 31443}, {\"date\": \"2018-09-01T00:00:00\", \"category\": \"Sepsis\", \"setting\": \"Emergency Dept\", \"count\": 2108}, {\"date\": \"2018-09-01T00:00:00\", \"category\": \"Stroke\", \"setting\": \"Emergency Dept\", \"count\": 1285}, {\"date\": \"2018-10-01T00:00:00\", \"category\": \"Asthma\", \"setting\": \"Emergency Dept\", \"count\": 60509}, {\"date\": \"2018-10-01T00:00:00\", \"category\": \"Cancer\", \"setting\": \"Emergency Dept\", \"count\": 10711}, {\"date\": \"2018-10-01T00:00:00\", \"category\": \"Chronic Obstructive Pulmonary Disease (COPD)\", \"setting\": \"Emergency Dept\", \"count\": 17634}, {\"date\": \"2018-10-01T00:00:00\", \"category\": \"Diabetes\", \"setting\": \"Emergency Dept\", \"count\": 103234}, {\"date\": \"2018-10-01T00:00:00\", \"category\": \"Homeless\", \"setting\": \"Emergency Dept\", \"count\": 11578}, {\"date\": \"2018-10-01T00:00:00\", \"category\": \"Hypertension\", \"setting\": \"Emergency Dept\", \"count\": 195630}, {\"date\": \"2018-10-01T00:00:00\", \"category\": \"Obesity\", \"setting\": \"Emergency Dept\", \"count\": 32173}, {\"date\": \"2018-10-01T00:00:00\", \"category\": \"Sepsis\", \"setting\": \"Emergency Dept\", \"count\": 2170}, {\"date\": \"2018-10-01T00:00:00\", \"category\": \"Stroke\", \"setting\": \"Emergency Dept\", \"count\": 1346}, {\"date\": \"2018-11-01T00:00:00\", \"category\": \"Asthma\", \"setting\": \"Emergency Dept\", \"count\": 62583}, {\"date\": \"2018-11-01T00:00:00\", \"category\": \"Cancer\", \"setting\": \"Emergency Dept\", \"count\": 10453}, {\"date\": \"2018-11-01T00:00:00\", \"category\": \"Chronic Obstructive Pulmonary Disease (COPD)\", \"setting\": \"Emergency Dept\", \"count\": 17133}, {\"date\": \"2018-11-01T00:00:00\", \"category\": \"Diabetes\", \"setting\": \"Emergency Dept\", \"count\": 99703}, {\"date\": \"2018-11-01T00:00:00\", \"category\": \"Homeless\", \"setting\": \"Emergency Dept\", \"count\": 11742}, {\"date\": \"2018-11-01T00:00:00\", \"category\": \"Hypertension\", \"setting\": \"Emergency Dept\", \"count\": 192241}, {\"date\": \"2018-11-01T00:00:00\", \"category\": \"Obesity\", \"setting\": \"Emergency Dept\", \"count\": 29972}, {\"date\": \"2018-11-01T00:00:00\", \"category\": \"Sepsis\", \"setting\": \"Emergency Dept\", \"count\": 2318}, {\"date\": \"2018-11-01T00:00:00\", \"category\": \"Stroke\", \"setting\": \"Emergency Dept\", \"count\": 1297}, {\"date\": \"2018-12-01T00:00:00\", \"category\": \"Asthma\", \"setting\": \"Emergency Dept\", \"count\": 63325}, {\"date\": \"2018-12-01T00:00:00\", \"category\": \"Cancer\", \"setting\": \"Emergency Dept\", \"count\": 10501}, {\"date\": \"2018-12-01T00:00:00\", \"category\": \"Chronic Obstructive Pulmonary Disease (COPD)\", \"setting\": \"Emergency Dept\", \"count\": 18191}, {\"date\": \"2018-12-01T00:00:00\", \"category\": \"Diabetes\", \"setting\": \"Emergency Dept\", \"count\": 103070}, {\"date\": \"2018-12-01T00:00:00\", \"category\": \"Homeless\", \"setting\": \"Emergency Dept\", \"count\": 12045}, {\"date\": \"2018-12-01T00:00:00\", \"category\": \"Hypertension\", \"setting\": \"Emergency Dept\", \"count\": 200263}, {\"date\": \"2018-12-01T00:00:00\", \"category\": \"Obesity\", \"setting\": \"Emergency Dept\", \"count\": 30951}, {\"date\": \"2018-12-01T00:00:00\", \"category\": \"Sepsis\", \"setting\": \"Emergency Dept\", \"count\": 2580}, {\"date\": \"2018-12-01T00:00:00\", \"category\": \"Stroke\", \"setting\": \"Emergency Dept\", \"count\": 1437}, {\"date\": \"2019-01-01T00:00:00\", \"category\": \"Asthma\", \"setting\": \"Emergency Dept\", \"count\": 60701}, {\"date\": \"2019-01-01T00:00:00\", \"category\": \"Cancer\", \"setting\": \"Emergency Dept\", \"count\": 10475}, {\"date\": \"2019-01-01T00:00:00\", \"category\": \"Chronic Obstructive Pulmonary Disease (COPD)\", \"setting\": \"Emergency Dept\", \"count\": 17595}, {\"date\": \"2019-01-01T00:00:00\", \"category\": \"Diabetes\", \"setting\": \"Emergency Dept\", \"count\": 106120}, {\"date\": \"2019-01-01T00:00:00\", \"category\": \"Homeless\", \"setting\": \"Emergency Dept\", \"count\": 25227}, {\"date\": \"2019-01-01T00:00:00\", \"category\": \"Hypertension\", \"setting\": \"Emergency Dept\", \"count\": 201163}, {\"date\": \"2019-01-01T00:00:00\", \"category\": \"Obesity\", \"setting\": \"Emergency Dept\", \"count\": 31533}, {\"date\": \"2019-01-01T00:00:00\", \"category\": \"Sepsis\", \"setting\": \"Emergency Dept\", \"count\": 2772}, {\"date\": \"2019-01-01T00:00:00\", \"category\": \"Stroke\", \"setting\": \"Emergency Dept\", \"count\": 1359}, {\"date\": \"2019-02-01T00:00:00\", \"category\": \"Asthma\", \"setting\": \"Emergency Dept\", \"count\": 58605}, {\"date\": \"2019-02-01T00:00:00\", \"category\": \"Cancer\", \"setting\": \"Emergency Dept\", \"count\": 9582}, {\"date\": \"2019-02-01T00:00:00\", \"category\": \"Chronic Obstructive Pulmonary Disease (COPD)\", \"setting\": \"Emergency Dept\", \"count\": 15787}, {\"date\": \"2019-02-01T00:00:00\", \"category\": \"Diabetes\", \"setting\": \"Emergency Dept\", \"count\": 93921}, {\"date\": \"2019-02-01T00:00:00\", \"category\": \"Homeless\", \"setting\": \"Emergency Dept\", \"count\": 23716}, {\"date\": \"2019-02-01T00:00:00\", \"category\": \"Hypertension\", \"setting\": \"Emergency Dept\", \"count\": 178898}, {\"date\": \"2019-02-01T00:00:00\", \"category\": \"Obesity\", \"setting\": \"Emergency Dept\", \"count\": 28988}, {\"date\": \"2019-02-01T00:00:00\", \"category\": \"Sepsis\", \"setting\": \"Emergency Dept\", \"count\": 2707}, {\"date\": \"2019-02-01T00:00:00\", \"category\": \"Stroke\", \"setting\": \"Emergency Dept\", \"count\": 1260}, {\"date\": \"2019-03-01T00:00:00\", \"category\": \"Asthma\", \"setting\": \"Emergency Dept\", \"count\": 63968}, {\"date\": \"2019-03-01T00:00:00\", \"category\": \"Cancer\", \"setting\": \"Emergency Dept\", \"count\": 10574}, {\"date\": \"2019-03-01T00:00:00\", \"category\": \"Chronic Obstructive Pulmonary Disease (COPD)\", \"setting\": \"Emergency Dept\", \"count\": 17197}, {\"date\": \"2019-03-01T00:00:00\", \"category\": \"Diabetes\", \"setting\": \"Emergency Dept\", \"count\": 105032}, {\"date\": \"2019-03-01T00:00:00\", \"category\": \"Homeless\", \"setting\": \"Emergency Dept\", \"count\": 25806}, {\"date\": \"2019-03-01T00:00:00\", \"category\": \"Hypertension\", \"setting\": \"Emergency Dept\", \"count\": 199383}, {\"date\": \"2019-03-01T00:00:00\", \"category\": \"Obesity\", \"setting\": \"Emergency Dept\", \"count\": 26910}, {\"date\": \"2019-03-01T00:00:00\", \"category\": \"Sepsis\", \"setting\": \"Emergency Dept\", \"count\": 3063}, {\"date\": \"2019-03-01T00:00:00\", \"category\": \"Stroke\", \"setting\": \"Emergency Dept\", \"count\": 1450}, {\"date\": \"2019-04-01T00:00:00\", \"category\": \"Asthma\", \"setting\": \"Emergency Dept\", \"count\": 56977}, {\"date\": \"2019-04-01T00:00:00\", \"category\": \"Cancer\", \"setting\": \"Emergency Dept\", \"count\": 10148}, {\"date\": \"2019-04-01T00:00:00\", \"category\": \"Chronic Obstructive Pulmonary Disease (COPD)\", \"setting\": \"Emergency Dept\", \"count\": 16565}, {\"date\": \"2019-04-01T00:00:00\", \"category\": \"Diabetes\", \"setting\": \"Emergency Dept\", \"count\": 99230}, {\"date\": \"2019-04-01T00:00:00\", \"category\": \"Homeless\", \"setting\": \"Emergency Dept\", \"count\": 25640}, {\"date\": \"2019-04-01T00:00:00\", \"category\": \"Hypertension\", \"setting\": \"Emergency Dept\", \"count\": 187879}, {\"date\": \"2019-04-01T00:00:00\", \"category\": \"Obesity\", \"setting\": \"Emergency Dept\", \"count\": 24194}, {\"date\": \"2019-04-01T00:00:00\", \"category\": \"Sepsis\", \"setting\": \"Emergency Dept\", \"count\": 2626}, {\"date\": \"2019-04-01T00:00:00\", \"category\": \"Stroke\", \"setting\": \"Emergency Dept\", \"count\": 1393}, {\"date\": \"2019-05-01T00:00:00\", \"category\": \"Asthma\", \"setting\": \"Emergency Dept\", \"count\": 57844}, {\"date\": \"2019-05-01T00:00:00\", \"category\": \"Cancer\", \"setting\": \"Emergency Dept\", \"count\": 10618}, {\"date\": \"2019-05-01T00:00:00\", \"category\": \"Chronic Obstructive Pulmonary Disease (COPD)\", \"setting\": \"Emergency Dept\", \"count\": 16723}, {\"date\": \"2019-05-01T00:00:00\", \"category\": \"Diabetes\", \"setting\": \"Emergency Dept\", \"count\": 101328}, {\"date\": \"2019-05-01T00:00:00\", \"category\": \"Homeless\", \"setting\": \"Emergency Dept\", \"count\": 26789}, {\"date\": \"2019-05-01T00:00:00\", \"category\": \"Hypertension\", \"setting\": \"Emergency Dept\", \"count\": 192661}, {\"date\": \"2019-05-01T00:00:00\", \"category\": \"Obesity\", \"setting\": \"Emergency Dept\", \"count\": 25031}, {\"date\": \"2019-05-01T00:00:00\", \"category\": \"Sepsis\", \"setting\": \"Emergency Dept\", \"count\": 2674}, {\"date\": \"2019-05-01T00:00:00\", \"category\": \"Stroke\", \"setting\": \"Emergency Dept\", \"count\": 1484}, {\"date\": \"2019-06-01T00:00:00\", \"category\": \"Asthma\", \"setting\": \"Emergency Dept\", \"count\": 50234}, {\"date\": \"2019-06-01T00:00:00\", \"category\": \"Cancer\", \"setting\": \"Emergency Dept\", \"count\": 10689}, {\"date\": \"2019-06-01T00:00:00\", \"category\": \"Chronic Obstructive Pulmonary Disease (COPD)\", \"setting\": \"Emergency Dept\", \"count\": 16679}, {\"date\": \"2019-06-01T00:00:00\", \"category\": \"Diabetes\", \"setting\": \"Emergency Dept\", \"count\": 99268}, {\"date\": \"2019-06-01T00:00:00\", \"category\": \"Homeless\", \"setting\": \"Emergency Dept\", \"count\": 27364}, {\"date\": \"2019-06-01T00:00:00\", \"category\": \"Hypertension\", \"setting\": \"Emergency Dept\", \"count\": 187996}, {\"date\": \"2019-06-01T00:00:00\", \"category\": \"Obesity\", \"setting\": \"Emergency Dept\", \"count\": 23938}, {\"date\": \"2019-06-01T00:00:00\", \"category\": \"Sepsis\", \"setting\": \"Emergency Dept\", \"count\": 2810}, {\"date\": \"2019-06-01T00:00:00\", \"category\": \"Stroke\", \"setting\": \"Emergency Dept\", \"count\": 1389}, {\"date\": \"2019-07-01T00:00:00\", \"category\": \"Asthma\", \"setting\": \"Emergency Dept\", \"count\": 48600}, {\"date\": \"2019-07-01T00:00:00\", \"category\": \"Cancer\", \"setting\": \"Emergency Dept\", \"count\": 10901}, {\"date\": \"2019-07-01T00:00:00\", \"category\": \"Chronic Obstructive Pulmonary Disease (COPD)\", \"setting\": \"Emergency Dept\", \"count\": 17794}, {\"date\": \"2019-07-01T00:00:00\", \"category\": \"Diabetes\", \"setting\": \"Emergency Dept\", \"count\": 105162}, {\"date\": \"2019-07-01T00:00:00\", \"category\": \"Homeless\", \"setting\": \"Emergency Dept\", \"count\": 28571}, {\"date\": \"2019-07-01T00:00:00\", \"category\": \"Hypertension\", \"setting\": \"Emergency Dept\", \"count\": 197906}, {\"date\": \"2019-07-01T00:00:00\", \"category\": \"Obesity\", \"setting\": \"Emergency Dept\", \"count\": 25421}, {\"date\": \"2019-07-01T00:00:00\", \"category\": \"Sepsis\", \"setting\": \"Emergency Dept\", \"count\": 2796}, {\"date\": \"2019-07-01T00:00:00\", \"category\": \"Stroke\", \"setting\": \"Emergency Dept\", \"count\": 1444}, {\"date\": \"2019-08-01T00:00:00\", \"category\": \"Asthma\", \"setting\": \"Emergency Dept\", \"count\": 51051}, {\"date\": \"2019-08-01T00:00:00\", \"category\": \"Cancer\", \"setting\": \"Emergency Dept\", \"count\": 11477}, {\"date\": \"2019-08-01T00:00:00\", \"category\": \"Chronic Obstructive Pulmonary Disease (COPD)\", \"setting\": \"Emergency Dept\", \"count\": 17546}, {\"date\": \"2019-08-01T00:00:00\", \"category\": \"Diabetes\", \"setting\": \"Emergency Dept\", \"count\": 105001}, {\"date\": \"2019-08-01T00:00:00\", \"category\": \"Homeless\", \"setting\": \"Emergency Dept\", \"count\": 28980}, {\"date\": \"2019-08-01T00:00:00\", \"category\": \"Hypertension\", \"setting\": \"Emergency Dept\", \"count\": 197191}, {\"date\": \"2019-08-01T00:00:00\", \"category\": \"Obesity\", \"setting\": \"Emergency Dept\", \"count\": 25692}, {\"date\": \"2019-08-01T00:00:00\", \"category\": \"Sepsis\", \"setting\": \"Emergency Dept\", \"count\": 2748}, {\"date\": \"2019-08-01T00:00:00\", \"category\": \"Stroke\", \"setting\": \"Emergency Dept\", \"count\": 1448}, {\"date\": \"2019-09-01T00:00:00\", \"category\": \"Asthma\", \"setting\": \"Emergency Dept\", \"count\": 54814}, {\"date\": \"2019-09-01T00:00:00\", \"category\": \"Cancer\", \"setting\": \"Emergency Dept\", \"count\": 10671}, {\"date\": \"2019-09-01T00:00:00\", \"category\": \"Chronic Obstructive Pulmonary Disease (COPD)\", \"setting\": \"Emergency Dept\", \"count\": 16961}, {\"date\": \"2019-09-01T00:00:00\", \"category\": \"Diabetes\", \"setting\": \"Emergency Dept\", \"count\": 101497}, {\"date\": \"2019-09-01T00:00:00\", \"category\": \"Homeless\", \"setting\": \"Emergency Dept\", \"count\": 27406}, {\"date\": \"2019-09-01T00:00:00\", \"category\": \"Hypertension\", \"setting\": \"Emergency Dept\", \"count\": 190698}, {\"date\": \"2019-09-01T00:00:00\", \"category\": \"Obesity\", \"setting\": \"Emergency Dept\", \"count\": 25271}, {\"date\": \"2019-09-01T00:00:00\", \"category\": \"Sepsis\", \"setting\": \"Emergency Dept\", \"count\": 2784}, {\"date\": \"2019-09-01T00:00:00\", \"category\": \"Stroke\", \"setting\": \"Emergency Dept\", \"count\": 1315}, {\"date\": \"2019-10-01T00:00:00\", \"category\": \"Asthma\", \"setting\": \"Emergency Dept\", \"count\": 56678}, {\"date\": \"2019-10-01T00:00:00\", \"category\": \"Cancer\", \"setting\": \"Emergency Dept\", \"count\": 11297}, {\"date\": \"2019-10-01T00:00:00\", \"category\": \"Chronic Obstructive Pulmonary Disease (COPD)\", \"setting\": \"Emergency Dept\", \"count\": 17169}, {\"date\": \"2019-10-01T00:00:00\", \"category\": \"Diabetes\", \"setting\": \"Emergency Dept\", \"count\": 103143}, {\"date\": \"2019-10-01T00:00:00\", \"category\": \"Homeless\", \"setting\": \"Emergency Dept\", \"count\": 28555}, {\"date\": \"2019-10-01T00:00:00\", \"category\": \"Hypertension\", \"setting\": \"Emergency Dept\", \"count\": 196802}, {\"date\": \"2019-10-01T00:00:00\", \"category\": \"Obesity\", \"setting\": \"Emergency Dept\", \"count\": 24979}, {\"date\": \"2019-10-01T00:00:00\", \"category\": \"Sepsis\", \"setting\": \"Emergency Dept\", \"count\": 2857}, {\"date\": \"2019-10-01T00:00:00\", \"category\": \"Stroke\", \"setting\": \"Emergency Dept\", \"count\": 1371}, {\"date\": \"2019-11-01T00:00:00\", \"category\": \"Asthma\", \"setting\": \"Emergency Dept\", \"count\": 55846}, {\"date\": \"2019-11-01T00:00:00\", \"category\": \"Cancer\", \"setting\": \"Emergency Dept\", \"count\": 10626}, {\"date\": \"2019-11-01T00:00:00\", \"category\": \"Chronic Obstructive Pulmonary Disease (COPD)\", \"setting\": \"Emergency Dept\", \"count\": 16631}, {\"date\": \"2019-11-01T00:00:00\", \"category\": \"Diabetes\", \"setting\": \"Emergency Dept\", \"count\": 98742}, {\"date\": \"2019-11-01T00:00:00\", \"category\": \"Homeless\", \"setting\": \"Emergency Dept\", \"count\": 27392}, {\"date\": \"2019-11-01T00:00:00\", \"category\": \"Hypertension\", \"setting\": \"Emergency Dept\", \"count\": 188706}, {\"date\": \"2019-11-01T00:00:00\", \"category\": \"Obesity\", \"setting\": \"Emergency Dept\", \"count\": 23739}, {\"date\": \"2019-11-01T00:00:00\", \"category\": \"Sepsis\", \"setting\": \"Emergency Dept\", \"count\": 2712}, {\"date\": \"2019-11-01T00:00:00\", \"category\": \"Stroke\", \"setting\": \"Emergency Dept\", \"count\": 1367}, {\"date\": \"2019-12-01T00:00:00\", \"category\": \"Asthma\", \"setting\": \"Emergency Dept\", \"count\": 61629}, {\"date\": \"2019-12-01T00:00:00\", \"category\": \"Cancer\", \"setting\": \"Emergency Dept\", \"count\": 11218}, {\"date\": \"2019-12-01T00:00:00\", \"category\": \"Chronic Obstructive Pulmonary Disease (COPD)\", \"setting\": \"Emergency Dept\", \"count\": 17976}, {\"date\": \"2019-12-01T00:00:00\", \"category\": \"Diabetes\", \"setting\": \"Emergency Dept\", \"count\": 102638}, {\"date\": \"2019-12-01T00:00:00\", \"category\": \"Homeless\", \"setting\": \"Emergency Dept\", \"count\": 29377}, {\"date\": \"2019-12-01T00:00:00\", \"category\": \"Hypertension\", \"setting\": \"Emergency Dept\", \"count\": 197612}, {\"date\": \"2019-12-01T00:00:00\", \"category\": \"Obesity\", \"setting\": \"Emergency Dept\", \"count\": 24222}, {\"date\": \"2019-12-01T00:00:00\", \"category\": \"Sepsis\", \"setting\": \"Emergency Dept\", \"count\": 3085}, {\"date\": \"2019-12-01T00:00:00\", \"category\": \"Stroke\", \"setting\": \"Emergency Dept\", \"count\": 1402}, {\"date\": \"2020-01-01T00:00:00\", \"category\": \"Asthma\", \"setting\": \"Emergency Dept\", \"count\": 66953}, {\"date\": \"2020-01-01T00:00:00\", \"category\": \"COVID-19\", \"setting\": \"Emergency Dept\", \"count\": 121}, {\"date\": \"2020-01-01T00:00:00\", \"category\": \"Cancer\", \"setting\": \"Emergency Dept\", \"count\": 11556}, {\"date\": \"2020-01-01T00:00:00\", \"category\": \"Chronic Obstructive Pulmonary Disease (COPD)\", \"setting\": \"Emergency Dept\", \"count\": 19225}, {\"date\": \"2020-01-01T00:00:00\", \"category\": \"Diabetes\", \"setting\": \"Emergency Dept\", \"count\": 112833}, {\"date\": \"2020-01-01T00:00:00\", \"category\": \"Homeless\", \"setting\": \"Emergency Dept\", \"count\": 29948}, {\"date\": \"2020-01-01T00:00:00\", \"category\": \"Hypertension\", \"setting\": \"Emergency Dept\", \"count\": 213154}, {\"date\": \"2020-01-01T00:00:00\", \"category\": \"Obesity\", \"setting\": \"Emergency Dept\", \"count\": 27253}, {\"date\": \"2020-01-01T00:00:00\", \"category\": \"Sepsis\", \"setting\": \"Emergency Dept\", \"count\": 3518}, {\"date\": \"2020-01-01T00:00:00\", \"category\": \"Stroke\", \"setting\": \"Emergency Dept\", \"count\": 1429}, {\"date\": \"2020-02-01T00:00:00\", \"category\": \"Asthma\", \"setting\": \"Emergency Dept\", \"count\": 63880}, {\"date\": \"2020-02-01T00:00:00\", \"category\": \"COVID-19\", \"setting\": \"Emergency Dept\", \"count\": 68}, {\"date\": \"2020-02-01T00:00:00\", \"category\": \"Cancer\", \"setting\": \"Emergency Dept\", \"count\": 10488}, {\"date\": \"2020-02-01T00:00:00\", \"category\": \"Chronic Obstructive Pulmonary Disease (COPD)\", \"setting\": \"Emergency Dept\", \"count\": 17137}, {\"date\": \"2020-02-01T00:00:00\", \"category\": \"Diabetes\", \"setting\": \"Emergency Dept\", \"count\": 102202}, {\"date\": \"2020-02-01T00:00:00\", \"category\": \"Homeless\", \"setting\": \"Emergency Dept\", \"count\": 27188}, {\"date\": \"2020-02-01T00:00:00\", \"category\": \"Hypertension\", \"setting\": \"Emergency Dept\", \"count\": 194941}, {\"date\": \"2020-02-01T00:00:00\", \"category\": \"Obesity\", \"setting\": \"Emergency Dept\", \"count\": 25314}, {\"date\": \"2020-02-01T00:00:00\", \"category\": \"Sepsis\", \"setting\": \"Emergency Dept\", \"count\": 3029}, {\"date\": \"2020-02-01T00:00:00\", \"category\": \"Stroke\", \"setting\": \"Emergency Dept\", \"count\": 1335}, {\"date\": \"2020-03-01T00:00:00\", \"category\": \"Asthma\", \"setting\": \"Emergency Dept\", \"count\": 55778}, {\"date\": \"2020-03-01T00:00:00\", \"category\": \"COVID-19\", \"setting\": \"Emergency Dept\", \"count\": 1663}, {\"date\": \"2020-03-01T00:00:00\", \"category\": \"Cancer\", \"setting\": \"Emergency Dept\", \"count\": 8858}, {\"date\": \"2020-03-01T00:00:00\", \"category\": \"Chronic Obstructive Pulmonary Disease (COPD)\", \"setting\": \"Emergency Dept\", \"count\": 14935}, {\"date\": \"2020-03-01T00:00:00\", \"category\": \"Diabetes\", \"setting\": \"Emergency Dept\", \"count\": 84280}, {\"date\": \"2020-03-01T00:00:00\", \"category\": \"Homeless\", \"setting\": \"Emergency Dept\", \"count\": 29555}, {\"date\": \"2020-03-01T00:00:00\", \"category\": \"Hypertension\", \"setting\": \"Emergency Dept\", \"count\": 158465}, {\"date\": \"2020-03-01T00:00:00\", \"category\": \"Obesity\", \"setting\": \"Emergency Dept\", \"count\": 20798}, {\"date\": \"2020-03-01T00:00:00\", \"category\": \"Sepsis\", \"setting\": \"Emergency Dept\", \"count\": 2554}, {\"date\": \"2020-03-01T00:00:00\", \"category\": \"Stroke\", \"setting\": \"Emergency Dept\", \"count\": 1214}, {\"date\": \"2020-04-01T00:00:00\", \"category\": \"Asthma\", \"setting\": \"Emergency Dept\", \"count\": 30916}, {\"date\": \"2020-04-01T00:00:00\", \"category\": \"COVID-19\", \"setting\": \"Emergency Dept\", \"count\": 7128}, {\"date\": \"2020-04-01T00:00:00\", \"category\": \"Cancer\", \"setting\": \"Emergency Dept\", \"count\": 6820}, {\"date\": \"2020-04-01T00:00:00\", \"category\": \"Chronic Obstructive Pulmonary Disease (COPD)\", \"setting\": \"Emergency Dept\", \"count\": 11354}, {\"date\": \"2020-04-01T00:00:00\", \"category\": \"Diabetes\", \"setting\": \"Emergency Dept\", \"count\": 58323}, {\"date\": \"2020-04-01T00:00:00\", \"category\": \"Homeless\", \"setting\": \"Emergency Dept\", \"count\": 26776}, {\"date\": \"2020-04-01T00:00:00\", \"category\": \"Hypertension\", \"setting\": \"Emergency Dept\", \"count\": 112382}, {\"date\": \"2020-04-01T00:00:00\", \"category\": \"Obesity\", \"setting\": \"Emergency Dept\", \"count\": 15093}, {\"date\": \"2020-04-01T00:00:00\", \"category\": \"Sepsis\", \"setting\": \"Emergency Dept\", \"count\": 1784}, {\"date\": \"2020-04-01T00:00:00\", \"category\": \"Stroke\", \"setting\": \"Emergency Dept\", \"count\": 1080}, {\"date\": \"2020-05-01T00:00:00\", \"category\": \"Asthma\", \"setting\": \"Emergency Dept\", \"count\": 35486}, {\"date\": \"2020-05-01T00:00:00\", \"category\": \"COVID-19\", \"setting\": \"Emergency Dept\", \"count\": 9601}, {\"date\": \"2020-05-01T00:00:00\", \"category\": \"Cancer\", \"setting\": \"Emergency Dept\", \"count\": 8327}, {\"date\": \"2020-05-01T00:00:00\", \"category\": \"Chronic Obstructive Pulmonary Disease (COPD)\", \"setting\": \"Emergency Dept\", \"count\": 13513}, {\"date\": \"2020-05-01T00:00:00\", \"category\": \"Diabetes\", \"setting\": \"Emergency Dept\", \"count\": 73100}, {\"date\": \"2020-05-01T00:00:00\", \"category\": \"Homeless\", \"setting\": \"Emergency Dept\", \"count\": 27533}, {\"date\": \"2020-05-01T00:00:00\", \"category\": \"Hypertension\", \"setting\": \"Emergency Dept\", \"count\": 140452}, {\"date\": \"2020-05-01T00:00:00\", \"category\": \"Obesity\", \"setting\": \"Emergency Dept\", \"count\": 19909}, {\"date\": \"2020-05-01T00:00:00\", \"category\": \"Sepsis\", \"setting\": \"Emergency Dept\", \"count\": 2133}, {\"date\": \"2020-05-01T00:00:00\", \"category\": \"Stroke\", \"setting\": \"Emergency Dept\", \"count\": 1214}, {\"date\": \"2020-06-01T00:00:00\", \"category\": \"Asthma\", \"setting\": \"Emergency Dept\", \"count\": 38408}, {\"date\": \"2020-06-01T00:00:00\", \"category\": \"COVID-19\", \"setting\": \"Emergency Dept\", \"count\": 24158}, {\"date\": \"2020-06-01T00:00:00\", \"category\": \"Cancer\", \"setting\": \"Emergency Dept\", \"count\": 8926}, {\"date\": \"2020-06-01T00:00:00\", \"category\": \"Chronic Obstructive Pulmonary Disease (COPD)\", \"setting\": \"Emergency Dept\", \"count\": 14412}, {\"date\": \"2020-06-01T00:00:00\", \"category\": \"Diabetes\", \"setting\": \"Emergency Dept\", \"count\": 81192}, {\"date\": \"2020-06-01T00:00:00\", \"category\": \"Homeless\", \"setting\": \"Emergency Dept\", \"count\": 26657}, {\"date\": \"2020-06-01T00:00:00\", \"category\": \"Hypertension\", \"setting\": \"Emergency Dept\", \"count\": 153054}, {\"date\": \"2020-06-01T00:00:00\", \"category\": \"Obesity\", \"setting\": \"Emergency Dept\", \"count\": 22071}, {\"date\": \"2020-06-01T00:00:00\", \"category\": \"Sepsis\", \"setting\": \"Emergency Dept\", \"count\": 2450}, {\"date\": \"2020-06-01T00:00:00\", \"category\": \"Stroke\", \"setting\": \"Emergency Dept\", \"count\": 1254}, {\"date\": \"2020-07-01T00:00:00\", \"category\": \"Asthma\", \"setting\": \"Emergency Dept\", \"count\": 42686}, {\"date\": \"2020-07-01T00:00:00\", \"category\": \"COVID-19\", \"setting\": \"Emergency Dept\", \"count\": 52381}, {\"date\": \"2020-07-01T00:00:00\", \"category\": \"Cancer\", \"setting\": \"Emergency Dept\", \"count\": 9138}, {\"date\": \"2020-07-01T00:00:00\", \"category\": \"Chronic Obstructive Pulmonary Disease (COPD)\", \"setting\": \"Emergency Dept\", \"count\": 14526}, {\"date\": \"2020-07-01T00:00:00\", \"category\": \"Diabetes\", \"setting\": \"Emergency Dept\", \"count\": 85952}, {\"date\": \"2020-07-01T00:00:00\", \"category\": \"Homeless\", \"setting\": \"Emergency Dept\", \"count\": 28461}, {\"date\": \"2020-07-01T00:00:00\", \"category\": \"Hypertension\", \"setting\": \"Emergency Dept\", \"count\": 160267}, {\"date\": \"2020-07-01T00:00:00\", \"category\": \"Obesity\", \"setting\": \"Emergency Dept\", \"count\": 23564}, {\"date\": \"2020-07-01T00:00:00\", \"category\": \"Sepsis\", \"setting\": \"Emergency Dept\", \"count\": 2804}, {\"date\": \"2020-07-01T00:00:00\", \"category\": \"Stroke\", \"setting\": \"Emergency Dept\", \"count\": 1255}, {\"date\": \"2020-08-01T00:00:00\", \"category\": \"Asthma\", \"setting\": \"Emergency Dept\", \"count\": 42597}, {\"date\": \"2020-08-01T00:00:00\", \"category\": \"COVID-19\", \"setting\": \"Emergency Dept\", \"count\": 24747}, {\"date\": \"2020-08-01T00:00:00\", \"category\": \"Cancer\", \"setting\": \"Emergency Dept\", \"count\": 9569}, {\"date\": \"2020-08-01T00:00:00\", \"category\": \"Chronic Obstructive Pulmonary Disease (COPD)\", \"setting\": \"Emergency Dept\", \"count\": 15042}, {\"date\": \"2020-08-01T00:00:00\", \"category\": \"Diabetes\", \"setting\": \"Emergency Dept\", \"count\": 86136}, {\"date\": \"2020-08-01T00:00:00\", \"category\": \"Homeless\", \"setting\": \"Emergency Dept\", \"count\": 29562}, {\"date\": \"2020-08-01T00:00:00\", \"category\": \"Hypertension\", \"setting\": \"Emergency Dept\", \"count\": 161860}, {\"date\": \"2020-08-01T00:00:00\", \"category\": \"Obesity\", \"setting\": \"Emergency Dept\", \"count\": 24027}, {\"date\": \"2020-08-01T00:00:00\", \"category\": \"Sepsis\", \"setting\": \"Emergency Dept\", \"count\": 2750}, {\"date\": \"2020-08-01T00:00:00\", \"category\": \"Stroke\", \"setting\": \"Emergency Dept\", \"count\": 1291}, {\"date\": \"2020-09-01T00:00:00\", \"category\": \"Asthma\", \"setting\": \"Emergency Dept\", \"count\": 42400}, {\"date\": \"2020-09-01T00:00:00\", \"category\": \"COVID-19\", \"setting\": \"Emergency Dept\", \"count\": 12555}, {\"date\": \"2020-09-01T00:00:00\", \"category\": \"Cancer\", \"setting\": \"Emergency Dept\", \"count\": 9371}, {\"date\": \"2020-09-01T00:00:00\", \"category\": \"Chronic Obstructive Pulmonary Disease (COPD)\", \"setting\": \"Emergency Dept\", \"count\": 14612}, {\"date\": \"2020-09-01T00:00:00\", \"category\": \"Diabetes\", \"setting\": \"Emergency Dept\", \"count\": 84485}, {\"date\": \"2020-09-01T00:00:00\", \"category\": \"Homeless\", \"setting\": \"Emergency Dept\", \"count\": 27436}, {\"date\": \"2020-09-01T00:00:00\", \"category\": \"Hypertension\", \"setting\": \"Emergency Dept\", \"count\": 161495}, {\"date\": \"2020-09-01T00:00:00\", \"category\": \"Obesity\", \"setting\": \"Emergency Dept\", \"count\": 23873}, {\"date\": \"2020-09-01T00:00:00\", \"category\": \"Sepsis\", \"setting\": \"Emergency Dept\", \"count\": 2660}, {\"date\": \"2020-09-01T00:00:00\", \"category\": \"Stroke\", \"setting\": \"Emergency Dept\", \"count\": 1365}]}}, {\"mode\": \"vega-lite\"});\n",
       "</script>"
      ],
      "text/plain": [
       "alt.Chart(...)"
      ]
     },
     "execution_count": 213,
     "metadata": {},
     "output_type": "execute_result"
    }
   ],
   "source": [
    "alt.Chart(cat_year[cat_year[\"setting\"] == \"Emergency Dept\"]).mark_area().encode(\n",
    "    alt.X(\n",
    "        \"date:T\", axis=alt.Axis(format=\"%B %Y\", domain=False, grid=False, tickSize=0)\n",
    "    ),\n",
    "    alt.Y(\"count:Q\"),\n",
    "    alt.Color(\"category:N\", scale=alt.Scale(scheme=\"tableau10\")),\n",
    "    facet=alt.Facet(\"setting\", columns=1, title=None),\n",
    ").properties(width=900, height=500).configure_view(strokeOpacity=0)"
   ]
  },
  {
   "cell_type": "markdown",
   "metadata": {},
   "source": [
    "---"
   ]
  },
  {
   "cell_type": "code",
   "execution_count": 225,
   "metadata": {},
   "outputs": [
    {
     "data": {
      "text/html": [
       "<div>\n",
       "<style scoped>\n",
       "    .dataframe tbody tr th:only-of-type {\n",
       "        vertical-align: middle;\n",
       "    }\n",
       "\n",
       "    .dataframe tbody tr th {\n",
       "        vertical-align: top;\n",
       "    }\n",
       "\n",
       "    .dataframe thead th {\n",
       "        text-align: right;\n",
       "    }\n",
       "</style>\n",
       "<table border=\"1\" class=\"dataframe\">\n",
       "  <thead>\n",
       "    <tr style=\"text-align: right;\">\n",
       "      <th></th>\n",
       "      <th>year</th>\n",
       "      <th>category</th>\n",
       "      <th>count</th>\n",
       "    </tr>\n",
       "  </thead>\n",
       "  <tbody>\n",
       "    <tr>\n",
       "      <th>0</th>\n",
       "      <td>2018</td>\n",
       "      <td>Asthma</td>\n",
       "      <td>661695</td>\n",
       "    </tr>\n",
       "    <tr>\n",
       "      <th>1</th>\n",
       "      <td>2018</td>\n",
       "      <td>Cancer</td>\n",
       "      <td>216410</td>\n",
       "    </tr>\n",
       "    <tr>\n",
       "      <th>2</th>\n",
       "      <td>2018</td>\n",
       "      <td>Chronic Obstructive Pulmonary Disease (COPD)</td>\n",
       "      <td>206643</td>\n",
       "    </tr>\n",
       "    <tr>\n",
       "      <th>3</th>\n",
       "      <td>2018</td>\n",
       "      <td>Diabetes</td>\n",
       "      <td>1184889</td>\n",
       "    </tr>\n",
       "    <tr>\n",
       "      <th>4</th>\n",
       "      <td>2018</td>\n",
       "      <td>Homeless</td>\n",
       "      <td>102914</td>\n",
       "    </tr>\n",
       "    <tr>\n",
       "      <th>5</th>\n",
       "      <td>2018</td>\n",
       "      <td>Hypertension</td>\n",
       "      <td>2312168</td>\n",
       "    </tr>\n",
       "    <tr>\n",
       "      <th>6</th>\n",
       "      <td>2018</td>\n",
       "      <td>Obesity</td>\n",
       "      <td>465545</td>\n",
       "    </tr>\n",
       "    <tr>\n",
       "      <th>7</th>\n",
       "      <td>2018</td>\n",
       "      <td>Sepsis</td>\n",
       "      <td>20789</td>\n",
       "    </tr>\n",
       "    <tr>\n",
       "      <th>8</th>\n",
       "      <td>2018</td>\n",
       "      <td>Stroke</td>\n",
       "      <td>12919</td>\n",
       "    </tr>\n",
       "    <tr>\n",
       "      <th>9</th>\n",
       "      <td>2019</td>\n",
       "      <td>Asthma</td>\n",
       "      <td>614321</td>\n",
       "    </tr>\n",
       "    <tr>\n",
       "      <th>10</th>\n",
       "      <td>2019</td>\n",
       "      <td>Cancer</td>\n",
       "      <td>224763</td>\n",
       "    </tr>\n",
       "    <tr>\n",
       "      <th>11</th>\n",
       "      <td>2019</td>\n",
       "      <td>Chronic Obstructive Pulmonary Disease (COPD)</td>\n",
       "      <td>199965</td>\n",
       "    </tr>\n",
       "    <tr>\n",
       "      <th>12</th>\n",
       "      <td>2019</td>\n",
       "      <td>Diabetes</td>\n",
       "      <td>1166658</td>\n",
       "    </tr>\n",
       "    <tr>\n",
       "      <th>13</th>\n",
       "      <td>2019</td>\n",
       "      <td>Homeless</td>\n",
       "      <td>241143</td>\n",
       "    </tr>\n",
       "    <tr>\n",
       "      <th>14</th>\n",
       "      <td>2019</td>\n",
       "      <td>Hypertension</td>\n",
       "      <td>2278333</td>\n",
       "    </tr>\n",
       "    <tr>\n",
       "      <th>15</th>\n",
       "      <td>2019</td>\n",
       "      <td>Obesity</td>\n",
       "      <td>431569</td>\n",
       "    </tr>\n",
       "    <tr>\n",
       "      <th>16</th>\n",
       "      <td>2019</td>\n",
       "      <td>Sepsis</td>\n",
       "      <td>25829</td>\n",
       "    </tr>\n",
       "    <tr>\n",
       "      <th>17</th>\n",
       "      <td>2019</td>\n",
       "      <td>Stroke</td>\n",
       "      <td>13568</td>\n",
       "    </tr>\n",
       "    <tr>\n",
       "      <th>18</th>\n",
       "      <td>2020</td>\n",
       "      <td>Asthma</td>\n",
       "      <td>508127</td>\n",
       "    </tr>\n",
       "    <tr>\n",
       "      <th>19</th>\n",
       "      <td>2020</td>\n",
       "      <td>COVID-19</td>\n",
       "      <td>133000</td>\n",
       "    </tr>\n",
       "    <tr>\n",
       "      <th>20</th>\n",
       "      <td>2020</td>\n",
       "      <td>Cancer</td>\n",
       "      <td>204596</td>\n",
       "    </tr>\n",
       "    <tr>\n",
       "      <th>21</th>\n",
       "      <td>2020</td>\n",
       "      <td>Chronic Obstructive Pulmonary Disease (COPD)</td>\n",
       "      <td>173883</td>\n",
       "    </tr>\n",
       "    <tr>\n",
       "      <th>22</th>\n",
       "      <td>2020</td>\n",
       "      <td>Diabetes</td>\n",
       "      <td>973325</td>\n",
       "    </tr>\n",
       "    <tr>\n",
       "      <th>23</th>\n",
       "      <td>2020</td>\n",
       "      <td>Homeless</td>\n",
       "      <td>254430</td>\n",
       "    </tr>\n",
       "    <tr>\n",
       "      <th>24</th>\n",
       "      <td>2020</td>\n",
       "      <td>Hypertension</td>\n",
       "      <td>1905202</td>\n",
       "    </tr>\n",
       "    <tr>\n",
       "      <th>25</th>\n",
       "      <td>2020</td>\n",
       "      <td>Obesity</td>\n",
       "      <td>367356</td>\n",
       "    </tr>\n",
       "    <tr>\n",
       "      <th>26</th>\n",
       "      <td>2020</td>\n",
       "      <td>Sepsis</td>\n",
       "      <td>24593</td>\n",
       "    </tr>\n",
       "    <tr>\n",
       "      <th>27</th>\n",
       "      <td>2020</td>\n",
       "      <td>Stroke</td>\n",
       "      <td>12341</td>\n",
       "    </tr>\n",
       "  </tbody>\n",
       "</table>\n",
       "</div>"
      ],
      "text/plain": [
       "    year                                      category    count\n",
       "0   2018                                        Asthma   661695\n",
       "1   2018                                        Cancer   216410\n",
       "2   2018  Chronic Obstructive Pulmonary Disease (COPD)   206643\n",
       "3   2018                                      Diabetes  1184889\n",
       "4   2018                                      Homeless   102914\n",
       "5   2018                                  Hypertension  2312168\n",
       "6   2018                                       Obesity   465545\n",
       "7   2018                                        Sepsis    20789\n",
       "8   2018                                        Stroke    12919\n",
       "9   2019                                        Asthma   614321\n",
       "10  2019                                        Cancer   224763\n",
       "11  2019  Chronic Obstructive Pulmonary Disease (COPD)   199965\n",
       "12  2019                                      Diabetes  1166658\n",
       "13  2019                                      Homeless   241143\n",
       "14  2019                                  Hypertension  2278333\n",
       "15  2019                                       Obesity   431569\n",
       "16  2019                                        Sepsis    25829\n",
       "17  2019                                        Stroke    13568\n",
       "18  2020                                        Asthma   508127\n",
       "19  2020                                      COVID-19   133000\n",
       "20  2020                                        Cancer   204596\n",
       "21  2020  Chronic Obstructive Pulmonary Disease (COPD)   173883\n",
       "22  2020                                      Diabetes   973325\n",
       "23  2020                                      Homeless   254430\n",
       "24  2020                                  Hypertension  1905202\n",
       "25  2020                                       Obesity   367356\n",
       "26  2020                                        Sepsis    24593\n",
       "27  2020                                        Stroke    12341"
      ]
     },
     "execution_count": 225,
     "metadata": {},
     "output_type": "execute_result"
    }
   ],
   "source": [
    "months = [1, 2, 3, 4, 5, 6, 7, 8, 9]\n",
    "df[df[\"month\"].isin(months)].groupby([\"year\", \"category\"]).agg(\n",
    "    {\"count\": \"sum\"}\n",
    ").reset_index()"
   ]
  },
  {
   "cell_type": "code",
   "execution_count": null,
   "metadata": {},
   "outputs": [],
   "source": []
  }
 ],
 "metadata": {
  "kernelspec": {
   "display_name": "Python 3",
   "language": "python",
   "name": "python3"
  },
  "language_info": {
   "codemirror_mode": {
    "name": "ipython",
    "version": 3
   },
   "file_extension": ".py",
   "mimetype": "text/x-python",
   "name": "python",
   "nbconvert_exporter": "python",
   "pygments_lexer": "ipython3",
   "version": "3.7.4"
  }
 },
 "nbformat": 4,
 "nbformat_minor": 4
}
