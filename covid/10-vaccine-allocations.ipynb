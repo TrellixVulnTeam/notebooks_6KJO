{
 "cells": [
  {
   "cell_type": "markdown",
   "metadata": {},
   "source": [
    "# Tracking COVID-19 Vaccine Distribution Allocations by Jurisdiction"
   ]
  },
  {
   "cell_type": "code",
   "execution_count": 1,
   "metadata": {},
   "outputs": [],
   "source": [
    "%load_ext lab_black"
   ]
  },
  {
   "cell_type": "code",
   "execution_count": 2,
   "metadata": {},
   "outputs": [],
   "source": [
    "import pandas as pd\n",
    "import geopandas as gpd\n",
    "import altair as alt\n",
    "import altair_latimes as lat\n",
    "from fbprophet import Prophet\n",
    "import glob\n",
    "import os"
   ]
  },
  {
   "cell_type": "code",
   "execution_count": 3,
   "metadata": {},
   "outputs": [
    {
     "data": {
      "text/plain": [
       "DataTransformerRegistry.enable('default')"
      ]
     },
     "execution_count": 3,
     "metadata": {},
     "output_type": "execute_result"
    }
   ],
   "source": [
    "alt.themes.register(\"latimes\", lat.theme)\n",
    "alt.themes.enable(\"latimes\")\n",
    "pd.options.display.max_columns = 50\n",
    "pd.options.display.max_rows = 1000\n",
    "alt.data_transformers.disable_max_rows()"
   ]
  },
  {
   "cell_type": "markdown",
   "metadata": {},
   "source": [
    "### Where are the allotment data tables held? "
   ]
  },
  {
   "cell_type": "code",
   "execution_count": 4,
   "metadata": {},
   "outputs": [],
   "source": [
    "# https://www.hhs.gov/coronavirus/covid-19-vaccines/distribution/index.html#allocation"
   ]
  },
  {
   "cell_type": "code",
   "execution_count": 5,
   "metadata": {},
   "outputs": [],
   "source": [
    "urls = [\n",
    "    {\n",
    "        \"url\": \"https://data.cdc.gov/api/views/saz5-9hgg/rows.csv?accessType=DOWNLOAD\",\n",
    "        \"company\": \"pfizer\",\n",
    "    },\n",
    "    {\n",
    "        \"url\": \"https://data.cdc.gov/api/views/b7pe-5nws/rows.csv?accessType=DOWNLOAD\",\n",
    "        \"company\": \"moderna\",\n",
    "    },\n",
    "    {\n",
    "        \"url\": \"https://data.cdc.gov/api/views/w9zu-fywh/rows.csv?accessType=DOWNLOAD\",\n",
    "        \"company\": \"janssen\",\n",
    "    },\n",
    "]"
   ]
  },
  {
   "cell_type": "code",
   "execution_count": 6,
   "metadata": {},
   "outputs": [
    {
     "name": "stdout",
     "output_type": "stream",
     "text": [
      "--2021-03-09 17:21:50--  https://data.cdc.gov/api/views/saz5-9hgg/rows.csv?accessType=DOWNLOAD\n",
      "Resolving data.cdc.gov (data.cdc.gov)... 52.206.140.199, 52.206.68.26, 52.206.140.205\n",
      "Connecting to data.cdc.gov (data.cdc.gov)|52.206.140.199|:443... connected.\n",
      "HTTP request sent, awaiting response... 200 OK\n",
      "Length: unspecified [text/csv]\n",
      "Saving to: ‘input/allocations/pfizer.csv’\n",
      "\n",
      "input/allocations/p     [ <=>                ]  28.01K  --.-KB/s    in 0.008s  \n",
      "\n",
      "2021-03-09 17:21:51 (3.64 MB/s) - ‘input/allocations/pfizer.csv’ saved [28679]\n",
      "\n",
      "--2021-03-09 17:21:51--  https://data.cdc.gov/api/views/b7pe-5nws/rows.csv?accessType=DOWNLOAD\n",
      "Resolving data.cdc.gov (data.cdc.gov)... 52.206.68.26, 52.206.140.205, 52.206.140.199\n",
      "Connecting to data.cdc.gov (data.cdc.gov)|52.206.68.26|:443... connected.\n",
      "HTTP request sent, awaiting response... 200 OK\n",
      "Length: unspecified [text/csv]\n",
      "Saving to: ‘input/allocations/moderna.csv’\n",
      "\n",
      "input/allocations/m     [ <=>                ]  26.09K  --.-KB/s    in 0.001s  \n",
      "\n",
      "2021-03-09 17:21:52 (17.9 MB/s) - ‘input/allocations/moderna.csv’ saved [26719]\n",
      "\n",
      "--2021-03-09 17:21:52--  https://data.cdc.gov/api/views/w9zu-fywh/rows.csv?accessType=DOWNLOAD\n",
      "Resolving data.cdc.gov (data.cdc.gov)... 52.206.140.199, 52.206.68.26, 52.206.140.205\n",
      "Connecting to data.cdc.gov (data.cdc.gov)|52.206.140.199|:443... connected.\n",
      "HTTP request sent, awaiting response... 200 OK\n",
      "Length: unspecified [text/csv]\n",
      "Saving to: ‘input/allocations/janssen.csv’\n",
      "\n",
      "input/allocations/j     [ <=>                ]   1.71K  --.-KB/s    in 0s      \n",
      "\n",
      "2021-03-09 17:21:52 (62.0 MB/s) - ‘input/allocations/janssen.csv’ saved [1754]\n",
      "\n"
     ]
    }
   ],
   "source": [
    "for url in urls:\n",
    "    !wget {url[\"url\"]} -O 'input/allocations/{url[\"company\"]}.csv'"
   ]
  },
  {
   "cell_type": "code",
   "execution_count": 7,
   "metadata": {},
   "outputs": [],
   "source": [
    "path = \"\"\n",
    "all_files = glob.glob(os.path.join(path, \"input/allocations/*.csv\"))"
   ]
  },
  {
   "cell_type": "code",
   "execution_count": 8,
   "metadata": {},
   "outputs": [],
   "source": [
    "file_df = (\n",
    "    pd.read_csv(f, encoding=\"ISO-8859-1\", low_memory=False).assign(\n",
    "        company=os.path.basename(f)\n",
    "    )\n",
    "    for f in all_files\n",
    ")"
   ]
  },
  {
   "cell_type": "code",
   "execution_count": 9,
   "metadata": {},
   "outputs": [],
   "source": [
    "concatenated_df = pd.concat(file_df, ignore_index=True)"
   ]
  },
  {
   "cell_type": "code",
   "execution_count": 10,
   "metadata": {},
   "outputs": [],
   "source": [
    "concatenated_df[\"company\"] = concatenated_df[\"company\"].str.replace(\n",
    "    \".csv\", \"\", regex=False\n",
    ")"
   ]
  },
  {
   "cell_type": "code",
   "execution_count": 11,
   "metadata": {},
   "outputs": [],
   "source": [
    "concatenated_df = concatenated_df.fillna(0)"
   ]
  },
  {
   "cell_type": "code",
   "execution_count": 12,
   "metadata": {},
   "outputs": [],
   "source": [
    "concatenated_df.rename(\n",
    "    columns={\n",
    "        \"Jurisdiction\": \"place\",\n",
    "        \"Week of Allocations\": \"ds\",\n",
    "        \"1st Dose Allocations\": \"first\",\n",
    "        \"2nd Dose Allocations\": \"second\",\n",
    "    },\n",
    "    inplace=True,\n",
    ")"
   ]
  },
  {
   "cell_type": "markdown",
   "metadata": {},
   "source": [
    "---"
   ]
  },
  {
   "cell_type": "markdown",
   "metadata": {},
   "source": [
    "### Total allocations per week"
   ]
  },
  {
   "cell_type": "code",
   "execution_count": 13,
   "metadata": {},
   "outputs": [],
   "source": [
    "weekly = concatenated_df.groupby(\"ds\").agg({\"first\": sum, \"second\": sum}).reset_index()"
   ]
  },
  {
   "cell_type": "code",
   "execution_count": 14,
   "metadata": {},
   "outputs": [],
   "source": [
    "weekly[\"ds\"] = pd.to_datetime(weekly[\"ds\"])"
   ]
  },
  {
   "cell_type": "code",
   "execution_count": 15,
   "metadata": {},
   "outputs": [],
   "source": [
    "weekly = weekly.sort_values(\"ds\", ascending=True)"
   ]
  },
  {
   "cell_type": "code",
   "execution_count": 16,
   "metadata": {},
   "outputs": [],
   "source": [
    "weekly = weekly[weekly[\"ds\"] > \"2021-01-01\"]"
   ]
  },
  {
   "cell_type": "code",
   "execution_count": 17,
   "metadata": {},
   "outputs": [
    {
     "name": "stderr",
     "output_type": "stream",
     "text": [
      "INFO:numexpr.utils:Note: NumExpr detected 16 cores but \"NUMEXPR_MAX_THREADS\" not set, so enforcing safe limit of 8.\n",
      "INFO:numexpr.utils:NumExpr defaulting to 8 threads.\n"
     ]
    }
   ],
   "source": [
    "weekly[\"total\"] = weekly[\"first\"] + weekly[\"second\"]"
   ]
  },
  {
   "cell_type": "code",
   "execution_count": 18,
   "metadata": {},
   "outputs": [],
   "source": [
    "weekly[\"y\"] = weekly[\"total\"]"
   ]
  },
  {
   "cell_type": "code",
   "execution_count": 19,
   "metadata": {},
   "outputs": [],
   "source": [
    "weekly[\"cumsum\"] = weekly[\"total\"].cumsum()"
   ]
  },
  {
   "cell_type": "code",
   "execution_count": 20,
   "metadata": {},
   "outputs": [],
   "source": [
    "weekly_slim = weekly[[\"ds\", \"y\"]]"
   ]
  },
  {
   "cell_type": "code",
   "execution_count": 21,
   "metadata": {},
   "outputs": [
    {
     "data": {
      "text/html": [
       "<div>\n",
       "<style scoped>\n",
       "    .dataframe tbody tr th:only-of-type {\n",
       "        vertical-align: middle;\n",
       "    }\n",
       "\n",
       "    .dataframe tbody tr th {\n",
       "        vertical-align: top;\n",
       "    }\n",
       "\n",
       "    .dataframe thead th {\n",
       "        text-align: right;\n",
       "    }\n",
       "</style>\n",
       "<table border=\"1\" class=\"dataframe\">\n",
       "  <thead>\n",
       "    <tr style=\"text-align: right;\">\n",
       "      <th></th>\n",
       "      <th>ds</th>\n",
       "      <th>y</th>\n",
       "    </tr>\n",
       "  </thead>\n",
       "  <tbody>\n",
       "    <tr>\n",
       "      <th>6</th>\n",
       "      <td>2021-02-15</td>\n",
       "      <td>10999750.0</td>\n",
       "    </tr>\n",
       "    <tr>\n",
       "      <th>7</th>\n",
       "      <td>2021-02-22</td>\n",
       "      <td>13500040.0</td>\n",
       "    </tr>\n",
       "    <tr>\n",
       "      <th>8</th>\n",
       "      <td>2021-03-01</td>\n",
       "      <td>17673560.0</td>\n",
       "    </tr>\n",
       "    <tr>\n",
       "      <th>9</th>\n",
       "      <td>2021-03-08</td>\n",
       "      <td>15298380.0</td>\n",
       "    </tr>\n",
       "    <tr>\n",
       "      <th>10</th>\n",
       "      <td>2021-03-15</td>\n",
       "      <td>15724160.0</td>\n",
       "    </tr>\n",
       "  </tbody>\n",
       "</table>\n",
       "</div>"
      ],
      "text/plain": [
       "           ds           y\n",
       "6  2021-02-15  10999750.0\n",
       "7  2021-02-22  13500040.0\n",
       "8  2021-03-01  17673560.0\n",
       "9  2021-03-08  15298380.0\n",
       "10 2021-03-15  15724160.0"
      ]
     },
     "execution_count": 21,
     "metadata": {},
     "output_type": "execute_result"
    }
   ],
   "source": [
    "weekly_slim.tail()"
   ]
  },
  {
   "cell_type": "code",
   "execution_count": 22,
   "metadata": {},
   "outputs": [
    {
     "name": "stderr",
     "output_type": "stream",
     "text": [
      "INFO:fbprophet:Disabling yearly seasonality. Run prophet with yearly_seasonality=True to override this.\n",
      "INFO:fbprophet:Disabling weekly seasonality. Run prophet with weekly_seasonality=True to override this.\n",
      "INFO:fbprophet:Disabling daily seasonality. Run prophet with daily_seasonality=True to override this.\n",
      "INFO:fbprophet:n_changepoints greater than number of observations.Using 7.\n",
      "/opt/anaconda3/lib/python3.7/site-packages/pystan/misc.py:399: FutureWarning: Conversion of the second argument of issubdtype from `float` to `np.floating` is deprecated. In future, it will be treated as `np.float64 == np.dtype(float).type`.\n",
      "  elif np.issubdtype(np.asarray(v).dtype, float):\n"
     ]
    },
    {
     "data": {
      "text/plain": [
       "<fbprophet.forecaster.Prophet at 0x1300b1890>"
      ]
     },
     "execution_count": 22,
     "metadata": {},
     "output_type": "execute_result"
    }
   ],
   "source": [
    "m = Prophet()\n",
    "m.fit(weekly)"
   ]
  },
  {
   "cell_type": "code",
   "execution_count": 23,
   "metadata": {},
   "outputs": [
    {
     "data": {
      "text/html": [
       "<div>\n",
       "<style scoped>\n",
       "    .dataframe tbody tr th:only-of-type {\n",
       "        vertical-align: middle;\n",
       "    }\n",
       "\n",
       "    .dataframe tbody tr th {\n",
       "        vertical-align: top;\n",
       "    }\n",
       "\n",
       "    .dataframe thead th {\n",
       "        text-align: right;\n",
       "    }\n",
       "</style>\n",
       "<table border=\"1\" class=\"dataframe\">\n",
       "  <thead>\n",
       "    <tr style=\"text-align: right;\">\n",
       "      <th></th>\n",
       "      <th>ds</th>\n",
       "    </tr>\n",
       "  </thead>\n",
       "  <tbody>\n",
       "    <tr>\n",
       "      <th>106</th>\n",
       "      <td>2021-06-19</td>\n",
       "    </tr>\n",
       "    <tr>\n",
       "      <th>107</th>\n",
       "      <td>2021-06-20</td>\n",
       "    </tr>\n",
       "    <tr>\n",
       "      <th>108</th>\n",
       "      <td>2021-06-21</td>\n",
       "    </tr>\n",
       "    <tr>\n",
       "      <th>109</th>\n",
       "      <td>2021-06-22</td>\n",
       "    </tr>\n",
       "    <tr>\n",
       "      <th>110</th>\n",
       "      <td>2021-06-23</td>\n",
       "    </tr>\n",
       "  </tbody>\n",
       "</table>\n",
       "</div>"
      ],
      "text/plain": [
       "            ds\n",
       "106 2021-06-19\n",
       "107 2021-06-20\n",
       "108 2021-06-21\n",
       "109 2021-06-22\n",
       "110 2021-06-23"
      ]
     },
     "execution_count": 23,
     "metadata": {},
     "output_type": "execute_result"
    }
   ],
   "source": [
    "future = m.make_future_dataframe(periods=100)\n",
    "future.tail()"
   ]
  },
  {
   "cell_type": "code",
   "execution_count": 24,
   "metadata": {},
   "outputs": [
    {
     "data": {
      "text/html": [
       "<div>\n",
       "<style scoped>\n",
       "    .dataframe tbody tr th:only-of-type {\n",
       "        vertical-align: middle;\n",
       "    }\n",
       "\n",
       "    .dataframe tbody tr th {\n",
       "        vertical-align: top;\n",
       "    }\n",
       "\n",
       "    .dataframe thead th {\n",
       "        text-align: right;\n",
       "    }\n",
       "</style>\n",
       "<table border=\"1\" class=\"dataframe\">\n",
       "  <thead>\n",
       "    <tr style=\"text-align: right;\">\n",
       "      <th></th>\n",
       "      <th>ds</th>\n",
       "      <th>yhat</th>\n",
       "      <th>yhat_lower</th>\n",
       "      <th>yhat_upper</th>\n",
       "    </tr>\n",
       "  </thead>\n",
       "  <tbody>\n",
       "    <tr>\n",
       "      <th>106</th>\n",
       "      <td>2021-06-19</td>\n",
       "      <td>2.913279e+07</td>\n",
       "      <td>2.762354e+07</td>\n",
       "      <td>3.075584e+07</td>\n",
       "    </tr>\n",
       "    <tr>\n",
       "      <th>107</th>\n",
       "      <td>2021-06-20</td>\n",
       "      <td>2.926609e+07</td>\n",
       "      <td>2.768575e+07</td>\n",
       "      <td>3.088419e+07</td>\n",
       "    </tr>\n",
       "    <tr>\n",
       "      <th>108</th>\n",
       "      <td>2021-06-21</td>\n",
       "      <td>2.939939e+07</td>\n",
       "      <td>2.788447e+07</td>\n",
       "      <td>3.093424e+07</td>\n",
       "    </tr>\n",
       "    <tr>\n",
       "      <th>109</th>\n",
       "      <td>2021-06-22</td>\n",
       "      <td>2.953269e+07</td>\n",
       "      <td>2.791242e+07</td>\n",
       "      <td>3.105784e+07</td>\n",
       "    </tr>\n",
       "    <tr>\n",
       "      <th>110</th>\n",
       "      <td>2021-06-23</td>\n",
       "      <td>2.966599e+07</td>\n",
       "      <td>2.806577e+07</td>\n",
       "      <td>3.128778e+07</td>\n",
       "    </tr>\n",
       "  </tbody>\n",
       "</table>\n",
       "</div>"
      ],
      "text/plain": [
       "            ds          yhat    yhat_lower    yhat_upper\n",
       "106 2021-06-19  2.913279e+07  2.762354e+07  3.075584e+07\n",
       "107 2021-06-20  2.926609e+07  2.768575e+07  3.088419e+07\n",
       "108 2021-06-21  2.939939e+07  2.788447e+07  3.093424e+07\n",
       "109 2021-06-22  2.953269e+07  2.791242e+07  3.105784e+07\n",
       "110 2021-06-23  2.966599e+07  2.806577e+07  3.128778e+07"
      ]
     },
     "execution_count": 24,
     "metadata": {},
     "output_type": "execute_result"
    }
   ],
   "source": [
    "forecast = m.predict(future)\n",
    "forecast[[\"ds\", \"yhat\", \"yhat_lower\", \"yhat_upper\"]].tail()"
   ]
  },
  {
   "cell_type": "code",
   "execution_count": 25,
   "metadata": {},
   "outputs": [
    {
     "data": {
      "text/html": [
       "<div>\n",
       "<style scoped>\n",
       "    .dataframe tbody tr th:only-of-type {\n",
       "        vertical-align: middle;\n",
       "    }\n",
       "\n",
       "    .dataframe tbody tr th {\n",
       "        vertical-align: top;\n",
       "    }\n",
       "\n",
       "    .dataframe thead th {\n",
       "        text-align: right;\n",
       "    }\n",
       "</style>\n",
       "<table border=\"1\" class=\"dataframe\">\n",
       "  <thead>\n",
       "    <tr style=\"text-align: right;\">\n",
       "      <th></th>\n",
       "      <th>ds</th>\n",
       "      <th>trend</th>\n",
       "      <th>yhat_lower</th>\n",
       "      <th>yhat_upper</th>\n",
       "      <th>trend_lower</th>\n",
       "      <th>trend_upper</th>\n",
       "      <th>additive_terms</th>\n",
       "      <th>additive_terms_lower</th>\n",
       "      <th>additive_terms_upper</th>\n",
       "      <th>multiplicative_terms</th>\n",
       "      <th>multiplicative_terms_lower</th>\n",
       "      <th>multiplicative_terms_upper</th>\n",
       "      <th>yhat</th>\n",
       "    </tr>\n",
       "  </thead>\n",
       "  <tbody>\n",
       "    <tr>\n",
       "      <th>106</th>\n",
       "      <td>2021-06-19</td>\n",
       "      <td>2.913279e+07</td>\n",
       "      <td>2.762354e+07</td>\n",
       "      <td>3.075584e+07</td>\n",
       "      <td>2.913279e+07</td>\n",
       "      <td>2.913279e+07</td>\n",
       "      <td>0.0</td>\n",
       "      <td>0.0</td>\n",
       "      <td>0.0</td>\n",
       "      <td>0.0</td>\n",
       "      <td>0.0</td>\n",
       "      <td>0.0</td>\n",
       "      <td>2.913279e+07</td>\n",
       "    </tr>\n",
       "    <tr>\n",
       "      <th>107</th>\n",
       "      <td>2021-06-20</td>\n",
       "      <td>2.926609e+07</td>\n",
       "      <td>2.768575e+07</td>\n",
       "      <td>3.088419e+07</td>\n",
       "      <td>2.926609e+07</td>\n",
       "      <td>2.926609e+07</td>\n",
       "      <td>0.0</td>\n",
       "      <td>0.0</td>\n",
       "      <td>0.0</td>\n",
       "      <td>0.0</td>\n",
       "      <td>0.0</td>\n",
       "      <td>0.0</td>\n",
       "      <td>2.926609e+07</td>\n",
       "    </tr>\n",
       "    <tr>\n",
       "      <th>108</th>\n",
       "      <td>2021-06-21</td>\n",
       "      <td>2.939939e+07</td>\n",
       "      <td>2.788447e+07</td>\n",
       "      <td>3.093424e+07</td>\n",
       "      <td>2.939939e+07</td>\n",
       "      <td>2.939939e+07</td>\n",
       "      <td>0.0</td>\n",
       "      <td>0.0</td>\n",
       "      <td>0.0</td>\n",
       "      <td>0.0</td>\n",
       "      <td>0.0</td>\n",
       "      <td>0.0</td>\n",
       "      <td>2.939939e+07</td>\n",
       "    </tr>\n",
       "    <tr>\n",
       "      <th>109</th>\n",
       "      <td>2021-06-22</td>\n",
       "      <td>2.953269e+07</td>\n",
       "      <td>2.791242e+07</td>\n",
       "      <td>3.105784e+07</td>\n",
       "      <td>2.953269e+07</td>\n",
       "      <td>2.953269e+07</td>\n",
       "      <td>0.0</td>\n",
       "      <td>0.0</td>\n",
       "      <td>0.0</td>\n",
       "      <td>0.0</td>\n",
       "      <td>0.0</td>\n",
       "      <td>0.0</td>\n",
       "      <td>2.953269e+07</td>\n",
       "    </tr>\n",
       "    <tr>\n",
       "      <th>110</th>\n",
       "      <td>2021-06-23</td>\n",
       "      <td>2.966599e+07</td>\n",
       "      <td>2.806577e+07</td>\n",
       "      <td>3.128778e+07</td>\n",
       "      <td>2.966599e+07</td>\n",
       "      <td>2.966599e+07</td>\n",
       "      <td>0.0</td>\n",
       "      <td>0.0</td>\n",
       "      <td>0.0</td>\n",
       "      <td>0.0</td>\n",
       "      <td>0.0</td>\n",
       "      <td>0.0</td>\n",
       "      <td>2.966599e+07</td>\n",
       "    </tr>\n",
       "  </tbody>\n",
       "</table>\n",
       "</div>"
      ],
      "text/plain": [
       "            ds         trend    yhat_lower    yhat_upper   trend_lower  \\\n",
       "106 2021-06-19  2.913279e+07  2.762354e+07  3.075584e+07  2.913279e+07   \n",
       "107 2021-06-20  2.926609e+07  2.768575e+07  3.088419e+07  2.926609e+07   \n",
       "108 2021-06-21  2.939939e+07  2.788447e+07  3.093424e+07  2.939939e+07   \n",
       "109 2021-06-22  2.953269e+07  2.791242e+07  3.105784e+07  2.953269e+07   \n",
       "110 2021-06-23  2.966599e+07  2.806577e+07  3.128778e+07  2.966599e+07   \n",
       "\n",
       "      trend_upper  additive_terms  additive_terms_lower  additive_terms_upper  \\\n",
       "106  2.913279e+07             0.0                   0.0                   0.0   \n",
       "107  2.926609e+07             0.0                   0.0                   0.0   \n",
       "108  2.939939e+07             0.0                   0.0                   0.0   \n",
       "109  2.953269e+07             0.0                   0.0                   0.0   \n",
       "110  2.966599e+07             0.0                   0.0                   0.0   \n",
       "\n",
       "     multiplicative_terms  multiplicative_terms_lower  \\\n",
       "106                   0.0                         0.0   \n",
       "107                   0.0                         0.0   \n",
       "108                   0.0                         0.0   \n",
       "109                   0.0                         0.0   \n",
       "110                   0.0                         0.0   \n",
       "\n",
       "     multiplicative_terms_upper          yhat  \n",
       "106                         0.0  2.913279e+07  \n",
       "107                         0.0  2.926609e+07  \n",
       "108                         0.0  2.939939e+07  \n",
       "109                         0.0  2.953269e+07  \n",
       "110                         0.0  2.966599e+07  "
      ]
     },
     "execution_count": 25,
     "metadata": {},
     "output_type": "execute_result"
    }
   ],
   "source": [
    "forecast.tail()"
   ]
  },
  {
   "cell_type": "code",
   "execution_count": 26,
   "metadata": {},
   "outputs": [
    {
     "data": {
      "image/png": "[encoded data removed]",
      "text/plain": [
       "<Figure size 720x432 with 1 Axes>"
      ]
     },
     "metadata": {},
     "output_type": "display_data"
    }
   ],
   "source": [
    "fig1 = m.plot(forecast)"
   ]
  }
 ],
 "metadata": {
  "kernelspec": {
   "display_name": "Python 3",
   "language": "python",
   "name": "python3"
  },
  "language_info": {
   "codemirror_mode": {
    "name": "ipython",
    "version": 3
   },
   "file_extension": ".py",
   "mimetype": "text/x-python",
   "name": "python",
   "nbconvert_exporter": "python",
   "pygments_lexer": "ipython3",
   "version": "3.7.4"
  }
 },
 "nbformat": 4,
 "nbformat_minor": 4
}
