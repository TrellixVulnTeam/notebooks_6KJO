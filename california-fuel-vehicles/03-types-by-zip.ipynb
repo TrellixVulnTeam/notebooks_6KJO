{
 "cells": [
  {
   "cell_type": "code",
   "execution_count": null,
   "metadata": {},
   "outputs": [],
   "source": []
  },
  {
   "cell_type": "markdown",
   "metadata": {},
   "source": [
    "#### Fuels types by ZIP Codes"
   ]
  },
  {
   "cell_type": "code",
   "execution_count": 1,
   "metadata": {},
   "outputs": [],
   "source": [
    "import pandas as pd\n",
    "import geopandas as gpd\n",
    "import matplotlib\n",
    "import matplotlib.pyplot as plt\n",
    "import geojson\n",
    "import json\n",
    "import jenkspy\n",
    "import numpy as np\n",
    "from pywaffle import Waffle\n",
    "from altair import datum\n",
    "import altair as alt\n",
    "import altair_latimes as lat\n",
    "alt.themes.register('latimes', lat.theme)\n",
    "alt.themes.enable('latimes')\n",
    "alt.data_transformers.disable_max_rows()\n",
    "pd.set_option('display.max_columns', None)\n",
    "pd.set_option('display.max_rows', None)"
   ]
  },
  {
   "cell_type": "code",
   "execution_count": 2,
   "metadata": {},
   "outputs": [],
   "source": [
    "src = pd.read_csv('https://data.ca.gov/dataset/15179472-adeb-4df6-920a-20640d02b08c/resource/4254a06d-9937-4083-9441-65597dd267e8/download/vehicle-count-as-of-1-1-2020.csv', low_memory=False)"
   ]
  },
  {
   "cell_type": "code",
   "execution_count": 3,
   "metadata": {},
   "outputs": [
    {
     "data": {
      "text/html": [
       "<div>\n",
       "<style scoped>\n",
       "    .dataframe tbody tr th:only-of-type {\n",
       "        vertical-align: middle;\n",
       "    }\n",
       "\n",
       "    .dataframe tbody tr th {\n",
       "        vertical-align: top;\n",
       "    }\n",
       "\n",
       "    .dataframe thead th {\n",
       "        text-align: right;\n",
       "    }\n",
       "</style>\n",
       "<table border=\"1\" class=\"dataframe\">\n",
       "  <thead>\n",
       "    <tr style=\"text-align: right;\">\n",
       "      <th></th>\n",
       "      <th>Date</th>\n",
       "      <th>Zip Code</th>\n",
       "      <th>Model Year</th>\n",
       "      <th>Fuel</th>\n",
       "      <th>Make</th>\n",
       "      <th>Duty</th>\n",
       "      <th>Vehicles</th>\n",
       "    </tr>\n",
       "  </thead>\n",
       "  <tbody>\n",
       "    <tr>\n",
       "      <th>0</th>\n",
       "      <td>1/1/2020</td>\n",
       "      <td>90001</td>\n",
       "      <td>2007</td>\n",
       "      <td>Gasoline</td>\n",
       "      <td>ACURA</td>\n",
       "      <td>Light</td>\n",
       "      <td>15</td>\n",
       "    </tr>\n",
       "    <tr>\n",
       "      <th>1</th>\n",
       "      <td>1/1/2020</td>\n",
       "      <td>90002</td>\n",
       "      <td>2007</td>\n",
       "      <td>Gasoline</td>\n",
       "      <td>ACURA</td>\n",
       "      <td>Light</td>\n",
       "      <td>20</td>\n",
       "    </tr>\n",
       "    <tr>\n",
       "      <th>2</th>\n",
       "      <td>1/1/2020</td>\n",
       "      <td>90003</td>\n",
       "      <td>2007</td>\n",
       "      <td>Gasoline</td>\n",
       "      <td>ACURA</td>\n",
       "      <td>Light</td>\n",
       "      <td>29</td>\n",
       "    </tr>\n",
       "    <tr>\n",
       "      <th>3</th>\n",
       "      <td>1/1/2020</td>\n",
       "      <td>90004</td>\n",
       "      <td>2007</td>\n",
       "      <td>Gasoline</td>\n",
       "      <td>ACURA</td>\n",
       "      <td>Light</td>\n",
       "      <td>19</td>\n",
       "    </tr>\n",
       "    <tr>\n",
       "      <th>4</th>\n",
       "      <td>1/1/2020</td>\n",
       "      <td>90006</td>\n",
       "      <td>2007</td>\n",
       "      <td>Gasoline</td>\n",
       "      <td>ACURA</td>\n",
       "      <td>Light</td>\n",
       "      <td>15</td>\n",
       "    </tr>\n",
       "  </tbody>\n",
       "</table>\n",
       "</div>"
      ],
      "text/plain": [
       "       Date Zip Code Model Year      Fuel   Make   Duty  Vehicles\n",
       "0  1/1/2020    90001       2007  Gasoline  ACURA  Light        15\n",
       "1  1/1/2020    90002       2007  Gasoline  ACURA  Light        20\n",
       "2  1/1/2020    90003       2007  Gasoline  ACURA  Light        29\n",
       "3  1/1/2020    90004       2007  Gasoline  ACURA  Light        19\n",
       "4  1/1/2020    90006       2007  Gasoline  ACURA  Light        15"
      ]
     },
     "execution_count": 3,
     "metadata": {},
     "output_type": "execute_result"
    }
   ],
   "source": [
    "src.head()"
   ]
  },
  {
   "cell_type": "code",
   "execution_count": 4,
   "metadata": {},
   "outputs": [],
   "source": [
    "df = src.copy()"
   ]
  },
  {
   "cell_type": "markdown",
   "metadata": {},
   "source": [
    "### Clean up field names"
   ]
  },
  {
   "cell_type": "code",
   "execution_count": 5,
   "metadata": {},
   "outputs": [],
   "source": [
    "df.columns = df.columns.str.strip().str.lower().str.replace(' ', '_')\\\n",
    "                    .str.replace('(', '').str.replace(')', '').str.replace('-','_')"
   ]
  },
  {
   "cell_type": "code",
   "execution_count": 6,
   "metadata": {},
   "outputs": [],
   "source": [
    "df.rename(columns={\"zip_code\": \"zip\"}, inplace=True)"
   ]
  },
  {
   "cell_type": "markdown",
   "metadata": {},
   "source": [
    "### How many vehicles are we talking about? "
   ]
  },
  {
   "cell_type": "code",
   "execution_count": 7,
   "metadata": {},
   "outputs": [
    {
     "data": {
      "text/plain": [
       "'31,233,841'"
      ]
     },
     "execution_count": 7,
     "metadata": {},
     "output_type": "execute_result"
    }
   ],
   "source": [
    "'{:,.0f}'.format(df.vehicles.sum())"
   ]
  },
  {
   "cell_type": "code",
   "execution_count": 8,
   "metadata": {},
   "outputs": [
    {
     "data": {
      "text/plain": [
       "Index(['date', 'zip', 'model_year', 'fuel', 'make', 'duty', 'vehicles'], dtype='object')"
      ]
     },
     "execution_count": 8,
     "metadata": {},
     "output_type": "execute_result"
    }
   ],
   "source": [
    "df.columns"
   ]
  },
  {
   "cell_type": "markdown",
   "metadata": {},
   "source": [
    "### Remove unknown, out of state and heavy duty models."
   ]
  },
  {
   "cell_type": "code",
   "execution_count": 9,
   "metadata": {},
   "outputs": [],
   "source": [
    "vehicles = pd.DataFrame(df[(df['duty'] != 'Heavy') & \\\n",
    "                          (df['model_year'] != '<2007') &\\\n",
    "                          (df['zip'] != 'OOS')])"
   ]
  },
  {
   "cell_type": "markdown",
   "metadata": {},
   "source": [
    "---"
   ]
  },
  {
   "cell_type": "markdown",
   "metadata": {},
   "source": [
    "### Aggregate by ZIP Codes"
   ]
  },
  {
   "cell_type": "code",
   "execution_count": 10,
   "metadata": {},
   "outputs": [],
   "source": [
    "vehicles_grp = vehicles.groupby(['zip', 'fuel']).agg({'vehicles': 'sum'}).reset_index()"
   ]
  },
  {
   "cell_type": "code",
   "execution_count": 11,
   "metadata": {},
   "outputs": [
    {
     "data": {
      "text/html": [
       "<div>\n",
       "<style scoped>\n",
       "    .dataframe tbody tr th:only-of-type {\n",
       "        vertical-align: middle;\n",
       "    }\n",
       "\n",
       "    .dataframe tbody tr th {\n",
       "        vertical-align: top;\n",
       "    }\n",
       "\n",
       "    .dataframe thead th {\n",
       "        text-align: right;\n",
       "    }\n",
       "</style>\n",
       "<table border=\"1\" class=\"dataframe\">\n",
       "  <thead>\n",
       "    <tr style=\"text-align: right;\">\n",
       "      <th></th>\n",
       "      <th>zip</th>\n",
       "      <th>fuel</th>\n",
       "      <th>vehicles</th>\n",
       "    </tr>\n",
       "  </thead>\n",
       "  <tbody>\n",
       "    <tr>\n",
       "      <th>0</th>\n",
       "      <td>90000</td>\n",
       "      <td>Gasoline</td>\n",
       "      <td>8</td>\n",
       "    </tr>\n",
       "    <tr>\n",
       "      <th>1</th>\n",
       "      <td>90001</td>\n",
       "      <td>Battery Electric</td>\n",
       "      <td>21</td>\n",
       "    </tr>\n",
       "    <tr>\n",
       "      <th>2</th>\n",
       "      <td>90001</td>\n",
       "      <td>Diesel and Diesel Hybrid</td>\n",
       "      <td>105</td>\n",
       "    </tr>\n",
       "    <tr>\n",
       "      <th>3</th>\n",
       "      <td>90001</td>\n",
       "      <td>Flex-Fuel</td>\n",
       "      <td>790</td>\n",
       "    </tr>\n",
       "    <tr>\n",
       "      <th>4</th>\n",
       "      <td>90001</td>\n",
       "      <td>Gasoline</td>\n",
       "      <td>15955</td>\n",
       "    </tr>\n",
       "  </tbody>\n",
       "</table>\n",
       "</div>"
      ],
      "text/plain": [
       "     zip                      fuel  vehicles\n",
       "0  90000                  Gasoline         8\n",
       "1  90001          Battery Electric        21\n",
       "2  90001  Diesel and Diesel Hybrid       105\n",
       "3  90001                 Flex-Fuel       790\n",
       "4  90001                  Gasoline     15955"
      ]
     },
     "execution_count": 11,
     "metadata": {},
     "output_type": "execute_result"
    }
   ],
   "source": [
    "vehicles_grp.head()"
   ]
  },
  {
   "cell_type": "code",
   "execution_count": 42,
   "metadata": {},
   "outputs": [],
   "source": [
    "zips_pivot = pd.pivot_table(vehicles_grp, values='vehicles', index=['zip'], columns=['fuel'], aggfunc=np.sum, fill_value=0).reset_index()\n",
    "zips_pivot.columns = zips_pivot.columns.str.strip().str.lower().str.replace(' ', '_')\\\n",
    "                    .str.replace('(', '').str.replace(')', '').str.replace('-','_')"
   ]
  },
  {
   "cell_type": "markdown",
   "metadata": {},
   "source": [
    "### Calculate totals and share"
   ]
  },
  {
   "cell_type": "code",
   "execution_count": 43,
   "metadata": {},
   "outputs": [],
   "source": [
    "zips_pivot['total_vehicles'] = zips_pivot.sum(numeric_only=True, axis=1)"
   ]
  },
  {
   "cell_type": "code",
   "execution_count": 47,
   "metadata": {},
   "outputs": [],
   "source": [
    "zips_pivot['gasoline_pct'] = round((zips_pivot['gasoline'] / zips_pivot['total_vehicles'])*100,2)"
   ]
  },
  {
   "cell_type": "markdown",
   "metadata": {},
   "source": [
    "### How many would meet 2035 standard?"
   ]
  },
  {
   "cell_type": "code",
   "execution_count": 48,
   "metadata": {},
   "outputs": [],
   "source": [
    "zips_pivot['cvrp_total'] = zips_pivot['battery_electric'] + zips_pivot['hydrogen_fuel_cell']"
   ]
  },
  {
   "cell_type": "markdown",
   "metadata": {},
   "source": [
    "### What's the share of those in each of the ZIP Codes?"
   ]
  },
  {
   "cell_type": "code",
   "execution_count": 52,
   "metadata": {},
   "outputs": [],
   "source": [
    "zips_pivot['cvrp_pct'] = round((zips_pivot['cvrp_total'] / zips_pivot['total_vehicles'])*100,2)"
   ]
  },
  {
   "cell_type": "markdown",
   "metadata": {},
   "source": [
    "### Which (large) ZIP Codes have the highest share of battery-electric vehicles? "
   ]
  },
  {
   "cell_type": "code",
   "execution_count": 51,
   "metadata": {},
   "outputs": [],
   "source": [
    "zips_pivot[zips_pivot['total_vehicles'] > 1000].sort_values('cvrp_pct', ascending=False).head()"
   ]
  },
  {
   "cell_type": "markdown",
   "metadata": {},
   "source": [
    "---"
   ]
  },
  {
   "cell_type": "markdown",
   "metadata": {},
   "source": [
    "## Geography"
   ]
  },
  {
   "cell_type": "code",
   "execution_count": 67,
   "metadata": {},
   "outputs": [],
   "source": [
    "# Filtered CA from this national file maintained by Esri: \n",
    "# https://services.arcgis.com/P3ePLMYs2RVChkJx/arcgis/rest/services/USA_ZIP_Code_Areas_anaylsis/FeatureServer/0/\n",
    "zips_poly_pop = gpd.read_file('/Users/mhustiles/data/data/GIS/ca-zip-codes-esri.geojson').fillna('0')\n",
    "zips_poly = gpd.read_file('/Users/mhustiles/data/data/GIS/ca-zip-codes-esri-demographics.geojson').fillna('0')"
   ]
  },
  {
   "cell_type": "code",
   "execution_count": 68,
   "metadata": {},
   "outputs": [],
   "source": [
    "zips_poly_pop.columns = zips_poly_pop.columns.str.strip().str.lower().str.replace(' ', '_')\\\n",
    "                    .str.replace('(', '').str.replace(')', '').str.replace('-','_')"
   ]
  },
  {
   "cell_type": "code",
   "execution_count": 69,
   "metadata": {},
   "outputs": [],
   "source": [
    "zips_poly.columns = zips_poly.columns.str.strip().str.lower().str.replace(' ', '_')\\\n",
    "                    .str.replace('(', '').str.replace(')', '').str.replace('-','_')"
   ]
  },
  {
   "cell_type": "code",
   "execution_count": 74,
   "metadata": {},
   "outputs": [],
   "source": [
    "zips_poly_pop['population'] = zips_poly_pop['population'].astype(int)"
   ]
  },
  {
   "cell_type": "code",
   "execution_count": 76,
   "metadata": {},
   "outputs": [
    {
     "data": {
      "text/plain": [
       "<AxesSubplot:>"
      ]
     },
     "execution_count": 76,
     "metadata": {},
     "output_type": "execute_result"
    },
    {
     "data": {
      "image/png": "[encoded data removed]",
      "text/plain": [
       "<Figure size 432x288 with 1 Axes>"
      ]
     },
     "metadata": {
      "needs_background": "light"
     },
     "output_type": "display_data"
    }
   ],
   "source": [
    "zips_poly_pop[zips_poly_pop['population'] > 0].plot()"
   ]
  },
  {
   "cell_type": "code",
   "execution_count": 80,
   "metadata": {},
   "outputs": [
    {
     "data": {
      "text/html": [
       "<div>\n",
       "<style scoped>\n",
       "    .dataframe tbody tr th:only-of-type {\n",
       "        vertical-align: middle;\n",
       "    }\n",
       "\n",
       "    .dataframe tbody tr th {\n",
       "        vertical-align: top;\n",
       "    }\n",
       "\n",
       "    .dataframe thead th {\n",
       "        text-align: right;\n",
       "    }\n",
       "</style>\n",
       "<table border=\"1\" class=\"dataframe\">\n",
       "  <thead>\n",
       "    <tr style=\"text-align: right;\">\n",
       "      <th></th>\n",
       "      <th>zip_code</th>\n",
       "      <th>po_name</th>\n",
       "      <th>state</th>\n",
       "      <th>population</th>\n",
       "      <th>sqmi</th>\n",
       "      <th>geometry</th>\n",
       "    </tr>\n",
       "  </thead>\n",
       "  <tbody>\n",
       "    <tr>\n",
       "      <th>8</th>\n",
       "      <td>90001</td>\n",
       "      <td>Los Angeles</td>\n",
       "      <td>CA</td>\n",
       "      <td>60012</td>\n",
       "      <td>3.53</td>\n",
       "      <td>MULTIPOLYGON (((-118.23099 33.95839, -118.2310...</td>\n",
       "    </tr>\n",
       "    <tr>\n",
       "      <th>9</th>\n",
       "      <td>90002</td>\n",
       "      <td>Los Angeles</td>\n",
       "      <td>CA</td>\n",
       "      <td>53235</td>\n",
       "      <td>3.10</td>\n",
       "      <td>MULTIPOLYGON (((-118.25729 33.93481, -118.2571...</td>\n",
       "    </tr>\n",
       "    <tr>\n",
       "      <th>10</th>\n",
       "      <td>90003</td>\n",
       "      <td>Los Angeles</td>\n",
       "      <td>CA</td>\n",
       "      <td>71274</td>\n",
       "      <td>3.51</td>\n",
       "      <td>MULTIPOLYGON (((-118.28009 33.93826, -118.2799...</td>\n",
       "    </tr>\n",
       "    <tr>\n",
       "      <th>11</th>\n",
       "      <td>90004</td>\n",
       "      <td>Los Angeles</td>\n",
       "      <td>CA</td>\n",
       "      <td>64682</td>\n",
       "      <td>3.12</td>\n",
       "      <td>MULTIPOLYGON (((-118.28434 34.06852, -118.2843...</td>\n",
       "    </tr>\n",
       "    <tr>\n",
       "      <th>12</th>\n",
       "      <td>90005</td>\n",
       "      <td>Los Angeles</td>\n",
       "      <td>CA</td>\n",
       "      <td>46044</td>\n",
       "      <td>1.56</td>\n",
       "      <td>MULTIPOLYGON (((-118.32298 34.05464, -118.3227...</td>\n",
       "    </tr>\n",
       "  </tbody>\n",
       "</table>\n",
       "</div>"
      ],
      "text/plain": [
       "   zip_code      po_name state  population  sqmi  \\\n",
       "8     90001  Los Angeles    CA       60012  3.53   \n",
       "9     90002  Los Angeles    CA       53235  3.10   \n",
       "10    90003  Los Angeles    CA       71274  3.51   \n",
       "11    90004  Los Angeles    CA       64682  3.12   \n",
       "12    90005  Los Angeles    CA       46044  1.56   \n",
       "\n",
       "                                             geometry  \n",
       "8   MULTIPOLYGON (((-118.23099 33.95839, -118.2310...  \n",
       "9   MULTIPOLYGON (((-118.25729 33.93481, -118.2571...  \n",
       "10  MULTIPOLYGON (((-118.28009 33.93826, -118.2799...  \n",
       "11  MULTIPOLYGON (((-118.28434 34.06852, -118.2843...  \n",
       "12  MULTIPOLYGON (((-118.32298 34.05464, -118.3227...  "
      ]
     },
     "execution_count": 80,
     "metadata": {},
     "output_type": "execute_result"
    }
   ],
   "source": [
    "zips_poly_pop[zips_poly_pop['population'] > 0].head()"
   ]
  },
  {
   "cell_type": "code",
   "execution_count": 63,
   "metadata": {},
   "outputs": [],
   "source": [
    "zips_pivot_geo = zips_poly_pop.merge(zips_pivot, left_on='zip_code', right_on='zip')"
   ]
  },
  {
   "cell_type": "code",
   "execution_count": 64,
   "metadata": {},
   "outputs": [
    {
     "data": {
      "text/plain": [
       "<AxesSubplot:>"
      ]
     },
     "execution_count": 64,
     "metadata": {},
     "output_type": "execute_result"
    },
    {
     "data": {
      "image/png": "[encoded data removed]",
      "text/plain": [
       "<Figure size 432x288 with 1 Axes>"
      ]
     },
     "metadata": {
      "needs_background": "light"
     },
     "output_type": "display_data"
    }
   ],
   "source": [
    "zips_pivot_geo.plot()"
   ]
  },
  {
   "cell_type": "code",
   "execution_count": 65,
   "metadata": {},
   "outputs": [
    {
     "data": {
      "text/html": [
       "<div>\n",
       "<style scoped>\n",
       "    .dataframe tbody tr th:only-of-type {\n",
       "        vertical-align: middle;\n",
       "    }\n",
       "\n",
       "    .dataframe tbody tr th {\n",
       "        vertical-align: top;\n",
       "    }\n",
       "\n",
       "    .dataframe thead th {\n",
       "        text-align: right;\n",
       "    }\n",
       "</style>\n",
       "<table border=\"1\" class=\"dataframe\">\n",
       "  <thead>\n",
       "    <tr style=\"text-align: right;\">\n",
       "      <th></th>\n",
       "      <th>zip_code</th>\n",
       "      <th>po_name</th>\n",
       "      <th>state</th>\n",
       "      <th>population</th>\n",
       "      <th>sqmi</th>\n",
       "      <th>geometry</th>\n",
       "      <th>zip</th>\n",
       "      <th>battery_electric</th>\n",
       "      <th>diesel_and_diesel_hybrid</th>\n",
       "      <th>flex_fuel</th>\n",
       "      <th>gasoline</th>\n",
       "      <th>hybrid_gasoline</th>\n",
       "      <th>hydrogen_fuel_cell</th>\n",
       "      <th>natural_gas</th>\n",
       "      <th>other</th>\n",
       "      <th>plug_in_hybrid</th>\n",
       "      <th>total_vehicles</th>\n",
       "      <th>cvrp_total</th>\n",
       "      <th>gasoline_pct</th>\n",
       "      <th>cvrp_pct</th>\n",
       "    </tr>\n",
       "  </thead>\n",
       "  <tbody>\n",
       "    <tr>\n",
       "      <th>0</th>\n",
       "      <td>90001</td>\n",
       "      <td>Los Angeles</td>\n",
       "      <td>CA</td>\n",
       "      <td>60012</td>\n",
       "      <td>3.53</td>\n",
       "      <td>MULTIPOLYGON (((-118.23099 33.95839, -118.2310...</td>\n",
       "      <td>90001</td>\n",
       "      <td>21</td>\n",
       "      <td>105</td>\n",
       "      <td>790</td>\n",
       "      <td>15955</td>\n",
       "      <td>453</td>\n",
       "      <td>0</td>\n",
       "      <td>4</td>\n",
       "      <td>0</td>\n",
       "      <td>46</td>\n",
       "      <td>17374</td>\n",
       "      <td>21</td>\n",
       "      <td>91.83</td>\n",
       "      <td>0.12</td>\n",
       "    </tr>\n",
       "    <tr>\n",
       "      <th>1</th>\n",
       "      <td>90002</td>\n",
       "      <td>Los Angeles</td>\n",
       "      <td>CA</td>\n",
       "      <td>53235</td>\n",
       "      <td>3.10</td>\n",
       "      <td>MULTIPOLYGON (((-118.25729 33.93481, -118.2571...</td>\n",
       "      <td>90002</td>\n",
       "      <td>31</td>\n",
       "      <td>52</td>\n",
       "      <td>765</td>\n",
       "      <td>14659</td>\n",
       "      <td>394</td>\n",
       "      <td>0</td>\n",
       "      <td>0</td>\n",
       "      <td>0</td>\n",
       "      <td>50</td>\n",
       "      <td>15951</td>\n",
       "      <td>31</td>\n",
       "      <td>91.90</td>\n",
       "      <td>0.19</td>\n",
       "    </tr>\n",
       "    <tr>\n",
       "      <th>2</th>\n",
       "      <td>90003</td>\n",
       "      <td>Los Angeles</td>\n",
       "      <td>CA</td>\n",
       "      <td>71274</td>\n",
       "      <td>3.51</td>\n",
       "      <td>MULTIPOLYGON (((-118.28009 33.93826, -118.2799...</td>\n",
       "      <td>90003</td>\n",
       "      <td>25</td>\n",
       "      <td>54</td>\n",
       "      <td>912</td>\n",
       "      <td>19336</td>\n",
       "      <td>541</td>\n",
       "      <td>1</td>\n",
       "      <td>6</td>\n",
       "      <td>0</td>\n",
       "      <td>43</td>\n",
       "      <td>20918</td>\n",
       "      <td>26</td>\n",
       "      <td>92.44</td>\n",
       "      <td>0.12</td>\n",
       "    </tr>\n",
       "    <tr>\n",
       "      <th>3</th>\n",
       "      <td>90004</td>\n",
       "      <td>Los Angeles</td>\n",
       "      <td>CA</td>\n",
       "      <td>64682</td>\n",
       "      <td>3.12</td>\n",
       "      <td>MULTIPOLYGON (((-118.28434 34.06852, -118.2843...</td>\n",
       "      <td>90004</td>\n",
       "      <td>345</td>\n",
       "      <td>79</td>\n",
       "      <td>417</td>\n",
       "      <td>19646</td>\n",
       "      <td>1789</td>\n",
       "      <td>14</td>\n",
       "      <td>5</td>\n",
       "      <td>0</td>\n",
       "      <td>302</td>\n",
       "      <td>22597</td>\n",
       "      <td>359</td>\n",
       "      <td>86.94</td>\n",
       "      <td>1.59</td>\n",
       "    </tr>\n",
       "    <tr>\n",
       "      <th>4</th>\n",
       "      <td>90005</td>\n",
       "      <td>Los Angeles</td>\n",
       "      <td>CA</td>\n",
       "      <td>46044</td>\n",
       "      <td>1.56</td>\n",
       "      <td>MULTIPOLYGON (((-118.32298 34.05464, -118.3227...</td>\n",
       "      <td>90005</td>\n",
       "      <td>116</td>\n",
       "      <td>51</td>\n",
       "      <td>215</td>\n",
       "      <td>11019</td>\n",
       "      <td>840</td>\n",
       "      <td>3</td>\n",
       "      <td>2</td>\n",
       "      <td>0</td>\n",
       "      <td>164</td>\n",
       "      <td>12410</td>\n",
       "      <td>119</td>\n",
       "      <td>88.79</td>\n",
       "      <td>0.96</td>\n",
       "    </tr>\n",
       "  </tbody>\n",
       "</table>\n",
       "</div>"
      ],
      "text/plain": [
       "  zip_code      po_name state population  sqmi  \\\n",
       "0    90001  Los Angeles    CA      60012  3.53   \n",
       "1    90002  Los Angeles    CA      53235  3.10   \n",
       "2    90003  Los Angeles    CA      71274  3.51   \n",
       "3    90004  Los Angeles    CA      64682  3.12   \n",
       "4    90005  Los Angeles    CA      46044  1.56   \n",
       "\n",
       "                                            geometry    zip  battery_electric  \\\n",
       "0  MULTIPOLYGON (((-118.23099 33.95839, -118.2310...  90001                21   \n",
       "1  MULTIPOLYGON (((-118.25729 33.93481, -118.2571...  90002                31   \n",
       "2  MULTIPOLYGON (((-118.28009 33.93826, -118.2799...  90003                25   \n",
       "3  MULTIPOLYGON (((-118.28434 34.06852, -118.2843...  90004               345   \n",
       "4  MULTIPOLYGON (((-118.32298 34.05464, -118.3227...  90005               116   \n",
       "\n",
       "   diesel_and_diesel_hybrid  flex_fuel  gasoline  hybrid_gasoline  \\\n",
       "0                       105        790     15955              453   \n",
       "1                        52        765     14659              394   \n",
       "2                        54        912     19336              541   \n",
       "3                        79        417     19646             1789   \n",
       "4                        51        215     11019              840   \n",
       "\n",
       "   hydrogen_fuel_cell  natural_gas  other  plug_in_hybrid  total_vehicles  \\\n",
       "0                   0            4      0              46           17374   \n",
       "1                   0            0      0              50           15951   \n",
       "2                   1            6      0              43           20918   \n",
       "3                  14            5      0             302           22597   \n",
       "4                   3            2      0             164           12410   \n",
       "\n",
       "   cvrp_total  gasoline_pct  cvrp_pct  \n",
       "0          21         91.83      0.12  \n",
       "1          31         91.90      0.19  \n",
       "2          26         92.44      0.12  \n",
       "3         359         86.94      1.59  \n",
       "4         119         88.79      0.96  "
      ]
     },
     "execution_count": 65,
     "metadata": {},
     "output_type": "execute_result"
    }
   ],
   "source": [
    "zips_pivot_geo.head()"
   ]
  },
  {
   "cell_type": "code",
   "execution_count": 81,
   "metadata": {},
   "outputs": [],
   "source": [
    "breaks = jenkspy.jenks_breaks(zips_pivot_geo.cvrp_pct, nb_class=7)"
   ]
  },
  {
   "cell_type": "code",
   "execution_count": 82,
   "metadata": {},
   "outputs": [
    {
     "data": {
      "text/plain": [
       "[0.0, 0.59, 1.41, 2.41, 3.87, 5.84, 8.45, 12.76]"
      ]
     },
     "execution_count": 82,
     "metadata": {},
     "output_type": "execute_result"
    }
   ],
   "source": [
    "breaks"
   ]
  },
  {
   "cell_type": "code",
   "execution_count": 83,
   "metadata": {},
   "outputs": [],
   "source": [
    "def get_group(value):\n",
    "    for i, b in enumerate(breaks):\n",
    "        if value <= breaks[i+1]:\n",
    "            return i"
   ]
  },
  {
   "cell_type": "code",
   "execution_count": 84,
   "metadata": {},
   "outputs": [],
   "source": [
    "zips_pivot_geo['cvrp_group'] = zips_pivot_geo.cvrp_pct.apply(get_group)"
   ]
  },
  {
   "cell_type": "code",
   "execution_count": 87,
   "metadata": {},
   "outputs": [
    {
     "data": {
      "text/html": [
       "<div>\n",
       "<style scoped>\n",
       "    .dataframe tbody tr th:only-of-type {\n",
       "        vertical-align: middle;\n",
       "    }\n",
       "\n",
       "    .dataframe tbody tr th {\n",
       "        vertical-align: top;\n",
       "    }\n",
       "\n",
       "    .dataframe thead th {\n",
       "        text-align: right;\n",
       "    }\n",
       "</style>\n",
       "<table border=\"1\" class=\"dataframe\">\n",
       "  <thead>\n",
       "    <tr style=\"text-align: right;\">\n",
       "      <th></th>\n",
       "      <th>zip_code</th>\n",
       "      <th>po_name</th>\n",
       "      <th>state</th>\n",
       "      <th>population</th>\n",
       "      <th>sqmi</th>\n",
       "      <th>geometry</th>\n",
       "      <th>zip</th>\n",
       "      <th>battery_electric</th>\n",
       "      <th>diesel_and_diesel_hybrid</th>\n",
       "      <th>flex_fuel</th>\n",
       "      <th>gasoline</th>\n",
       "      <th>hybrid_gasoline</th>\n",
       "      <th>hydrogen_fuel_cell</th>\n",
       "      <th>natural_gas</th>\n",
       "      <th>other</th>\n",
       "      <th>plug_in_hybrid</th>\n",
       "      <th>total_vehicles</th>\n",
       "      <th>cvrp_total</th>\n",
       "      <th>gasoline_pct</th>\n",
       "      <th>cvrp_pct</th>\n",
       "      <th>cvrp_group</th>\n",
       "    </tr>\n",
       "  </thead>\n",
       "  <tbody>\n",
       "    <tr>\n",
       "      <th>372</th>\n",
       "      <td>92093</td>\n",
       "      <td>La Jolla</td>\n",
       "      <td>CA</td>\n",
       "      <td>8224</td>\n",
       "      <td>1.19</td>\n",
       "      <td>MULTIPOLYGON (((-117.25225 32.86527, -117.2522...</td>\n",
       "      <td>92093</td>\n",
       "      <td>55</td>\n",
       "      <td>3</td>\n",
       "      <td>50</td>\n",
       "      <td>210</td>\n",
       "      <td>92</td>\n",
       "      <td>0</td>\n",
       "      <td>14</td>\n",
       "      <td>0</td>\n",
       "      <td>7</td>\n",
       "      <td>431</td>\n",
       "      <td>55</td>\n",
       "      <td>48.72</td>\n",
       "      <td>12.76</td>\n",
       "      <td>6</td>\n",
       "    </tr>\n",
       "    <tr>\n",
       "      <th>972</th>\n",
       "      <td>94028</td>\n",
       "      <td>Portola Valley</td>\n",
       "      <td>CA</td>\n",
       "      <td>6690</td>\n",
       "      <td>14.45</td>\n",
       "      <td>MULTIPOLYGON (((-122.18826 37.32111, -122.1881...</td>\n",
       "      <td>94028</td>\n",
       "      <td>494</td>\n",
       "      <td>110</td>\n",
       "      <td>105</td>\n",
       "      <td>3378</td>\n",
       "      <td>554</td>\n",
       "      <td>2</td>\n",
       "      <td>1</td>\n",
       "      <td>1</td>\n",
       "      <td>149</td>\n",
       "      <td>4794</td>\n",
       "      <td>496</td>\n",
       "      <td>70.46</td>\n",
       "      <td>10.35</td>\n",
       "      <td>6</td>\n",
       "    </tr>\n",
       "    <tr>\n",
       "      <th>925</th>\n",
       "      <td>94027</td>\n",
       "      <td>Atherton</td>\n",
       "      <td>CA</td>\n",
       "      <td>7027</td>\n",
       "      <td>5.25</td>\n",
       "      <td>MULTIPOLYGON (((-122.22562 37.42404, -122.2246...</td>\n",
       "      <td>94027</td>\n",
       "      <td>598</td>\n",
       "      <td>79</td>\n",
       "      <td>146</td>\n",
       "      <td>3771</td>\n",
       "      <td>390</td>\n",
       "      <td>2</td>\n",
       "      <td>0</td>\n",
       "      <td>0</td>\n",
       "      <td>146</td>\n",
       "      <td>5132</td>\n",
       "      <td>600</td>\n",
       "      <td>73.48</td>\n",
       "      <td>11.69</td>\n",
       "      <td>6</td>\n",
       "    </tr>\n",
       "    <tr>\n",
       "      <th>923</th>\n",
       "      <td>94022</td>\n",
       "      <td>Los Altos</td>\n",
       "      <td>CA</td>\n",
       "      <td>20513</td>\n",
       "      <td>17.82</td>\n",
       "      <td>MULTIPOLYGON (((-122.17233 37.32858, -122.1723...</td>\n",
       "      <td>94022</td>\n",
       "      <td>1531</td>\n",
       "      <td>180</td>\n",
       "      <td>257</td>\n",
       "      <td>9984</td>\n",
       "      <td>1319</td>\n",
       "      <td>7</td>\n",
       "      <td>0</td>\n",
       "      <td>0</td>\n",
       "      <td>419</td>\n",
       "      <td>13697</td>\n",
       "      <td>1538</td>\n",
       "      <td>72.89</td>\n",
       "      <td>11.23</td>\n",
       "      <td>6</td>\n",
       "    </tr>\n",
       "    <tr>\n",
       "      <th>973</th>\n",
       "      <td>94024</td>\n",
       "      <td>Los Altos</td>\n",
       "      <td>CA</td>\n",
       "      <td>22947</td>\n",
       "      <td>7.81</td>\n",
       "      <td>MULTIPOLYGON (((-122.08339 37.32425, -122.0831...</td>\n",
       "      <td>94024</td>\n",
       "      <td>1558</td>\n",
       "      <td>227</td>\n",
       "      <td>240</td>\n",
       "      <td>10843</td>\n",
       "      <td>1475</td>\n",
       "      <td>19</td>\n",
       "      <td>4</td>\n",
       "      <td>0</td>\n",
       "      <td>504</td>\n",
       "      <td>14870</td>\n",
       "      <td>1577</td>\n",
       "      <td>72.92</td>\n",
       "      <td>10.61</td>\n",
       "      <td>6</td>\n",
       "    </tr>\n",
       "  </tbody>\n",
       "</table>\n",
       "</div>"
      ],
      "text/plain": [
       "    zip_code         po_name state population   sqmi  \\\n",
       "372    92093        La Jolla    CA       8224   1.19   \n",
       "972    94028  Portola Valley    CA       6690  14.45   \n",
       "925    94027        Atherton    CA       7027   5.25   \n",
       "923    94022       Los Altos    CA      20513  17.82   \n",
       "973    94024       Los Altos    CA      22947   7.81   \n",
       "\n",
       "                                              geometry    zip  \\\n",
       "372  MULTIPOLYGON (((-117.25225 32.86527, -117.2522...  92093   \n",
       "972  MULTIPOLYGON (((-122.18826 37.32111, -122.1881...  94028   \n",
       "925  MULTIPOLYGON (((-122.22562 37.42404, -122.2246...  94027   \n",
       "923  MULTIPOLYGON (((-122.17233 37.32858, -122.1723...  94022   \n",
       "973  MULTIPOLYGON (((-122.08339 37.32425, -122.0831...  94024   \n",
       "\n",
       "     battery_electric  diesel_and_diesel_hybrid  flex_fuel  gasoline  \\\n",
       "372                55                         3         50       210   \n",
       "972               494                       110        105      3378   \n",
       "925               598                        79        146      3771   \n",
       "923              1531                       180        257      9984   \n",
       "973              1558                       227        240     10843   \n",
       "\n",
       "     hybrid_gasoline  hydrogen_fuel_cell  natural_gas  other  plug_in_hybrid  \\\n",
       "372               92                   0           14      0               7   \n",
       "972              554                   2            1      1             149   \n",
       "925              390                   2            0      0             146   \n",
       "923             1319                   7            0      0             419   \n",
       "973             1475                  19            4      0             504   \n",
       "\n",
       "     total_vehicles  cvrp_total  gasoline_pct  cvrp_pct  cvrp_group  \n",
       "372             431          55         48.72     12.76           6  \n",
       "972            4794         496         70.46     10.35           6  \n",
       "925            5132         600         73.48     11.69           6  \n",
       "923           13697        1538         72.89     11.23           6  \n",
       "973           14870        1577         72.92     10.61           6  "
      ]
     },
     "execution_count": 87,
     "metadata": {},
     "output_type": "execute_result"
    }
   ],
   "source": [
    "zips_pivot_geo.sort_values('cvrp_group', ascending=False).head()"
   ]
  },
  {
   "cell_type": "code",
   "execution_count": 90,
   "metadata": {},
   "outputs": [],
   "source": [
    "zips_pivot_geo.to_file('/Users/mhustiles/data/data/GIS/zips_pivot_geo.geojson', driver='GeoJSON')"
   ]
  }
 ],
 "metadata": {
  "kernelspec": {
   "display_name": "Python 3",
   "language": "python",
   "name": "python3"
  },
  "language_info": {
   "codemirror_mode": {
    "name": "ipython",
    "version": 3
   },
   "file_extension": ".py",
   "mimetype": "text/x-python",
   "name": "python",
   "nbconvert_exporter": "python",
   "pygments_lexer": "ipython3",
   "version": "3.8.8"
  }
 },
 "nbformat": 4,
 "nbformat_minor": 4
}
