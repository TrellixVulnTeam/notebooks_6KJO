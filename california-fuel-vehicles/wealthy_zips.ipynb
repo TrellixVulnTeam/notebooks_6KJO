{
 "cells": [
  {
   "cell_type": "code",
   "execution_count": 2,
   "id": "66151d23-0283-4081-9ede-3bcc009688ea",
   "metadata": {},
   "outputs": [],
   "source": [
    "import geopandas as gpd"
   ]
  },
  {
   "cell_type": "code",
   "execution_count": 11,
   "id": "daa3cf78-0e53-45c1-914f-c495d78f6a99",
   "metadata": {},
   "outputs": [],
   "source": [
    "gdf = gpd.read_file('https://raw.githubusercontent.com/stiles/notebooks/3cb2b2f50b94d4162899653d3f472790a077fad5/california-fuel-vehicles/input/WealthiestZipCodesCA.json')"
   ]
  },
  {
   "cell_type": "code",
   "execution_count": 15,
   "id": "d078f755-6283-4ab6-99bf-4c0d5f5fd185",
   "metadata": {},
   "outputs": [],
   "source": [
    "gdf_slim = gdf[['OBJECTID', 'ID', 'NAME', 'ST_ABBREV', 'HAI_CY', 'INCMORT_CY',\n",
    "       'WLTHRNK_CY', 'DOMSTATE', 'DOMCOUNTY', 'COUNTY_NAME', 'DOMCBSA',\n",
    "       'CBSA_NAME', 'TOTPOP_CY', 'TOTHH_CY', 'MEDAGE_CY', 'AVGHINC_CY',\n",
    "       'AVGVAL_CY', 'AVGNW_CY']]"
   ]
  },
  {
   "cell_type": "code",
   "execution_count": 16,
   "id": "d891eee5-aa51-45ad-906f-405beb364893",
   "metadata": {},
   "outputs": [],
   "source": [
    "gdf_slim.columns = gdf_slim.columns.str.lower()"
   ]
  },
  {
   "cell_type": "code",
   "execution_count": 17,
   "id": "43e3cb2b-a115-4049-a391-a69c7fe7c5b7",
   "metadata": {},
   "outputs": [],
   "source": [
    "# gdf_slim.rename(columns={\"id\": \"zip\",\n",
    "#                                                     'name':'name',\n",
    "#                                  'avghinc_cy':'avg_house_income',\n",
    "#                                  'avgnw_cy':'avg_net_worth',\n",
    "#                                  'totpop_cy':'population', }, inplace=True)"
   ]
  },
  {
   "cell_type": "code",
   "execution_count": 19,
   "id": "c62a46ea-2116-4526-8a82-9d026c604f51",
   "metadata": {},
   "outputs": [],
   "source": [
    "gdf_slim.to_csv('output/ca_zip_code_economics.csv', index=False)"
   ]
  },
  {
   "cell_type": "code",
   "execution_count": null,
   "id": "0adb4199-f6b2-470a-b2b8-d18c898595d4",
   "metadata": {},
   "outputs": [],
   "source": []
  }
 ],
 "metadata": {
  "kernelspec": {
   "display_name": "Python 3 (ipykernel)",
   "language": "python",
   "name": "python3"
  },
  "language_info": {
   "codemirror_mode": {
    "name": "ipython",
    "version": 3
   },
   "file_extension": ".py",
   "mimetype": "text/x-python",
   "name": "python",
   "nbconvert_exporter": "python",
   "pygments_lexer": "ipython3",
   "version": "3.8.9"
  }
 },
 "nbformat": 4,
 "nbformat_minor": 5
}
