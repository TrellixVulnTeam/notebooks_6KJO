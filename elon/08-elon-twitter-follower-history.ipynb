{
 "cells": [
  {
   "cell_type": "markdown",
   "id": "6987ebe7-37c4-4b2e-97c1-b2875a33f5ab",
   "metadata": {},
   "source": [
    "# TSLA stock performance and Twitter mentions"
   ]
  },
  {
   "cell_type": "markdown",
   "id": "691a3ebb-3ded-4164-b5d0-e9faeebf0544",
   "metadata": {},
   "source": [
    "#### Load Python tools"
   ]
  },
  {
   "cell_type": "code",
   "execution_count": 2,
   "id": "c4c49c96-8ef1-4264-902f-33044ee28252",
   "metadata": {},
   "outputs": [],
   "source": [
    "%load_ext lab_black"
   ]
  },
  {
   "cell_type": "code",
   "execution_count": 3,
   "id": "6774adb5-b9af-49b3-93f7-c056f2cbc711",
   "metadata": {},
   "outputs": [],
   "source": [
    "import pandas as pd\n",
    "import altair as alt\n",
    "import altair_grid as altgrid"
   ]
  },
  {
   "cell_type": "code",
   "execution_count": 4,
   "id": "10f11d1b-10f9-4986-bcf7-3a6782ddb405",
   "metadata": {},
   "outputs": [
    {
     "data": {
      "text/plain": [
       "ThemeRegistry.enable('grid')"
      ]
     },
     "execution_count": 4,
     "metadata": {},
     "output_type": "execute_result"
    }
   ],
   "source": [
    "alt.themes.register(\"grid\", altgrid.theme)\n",
    "alt.themes.enable(\"grid\")"
   ]
  },
  {
   "cell_type": "code",
   "execution_count": 5,
   "id": "b9977cbc-2896-47b0-90c5-09f2a5d565f3",
   "metadata": {},
   "outputs": [],
   "source": [
    "pd.options.display.max_columns = 1000\n",
    "pd.options.display.max_rows = 1000"
   ]
  },
  {
   "cell_type": "markdown",
   "id": "0163ebd6-4209-44f7-b1a1-c9f9ff8f75e0",
   "metadata": {},
   "source": [
    "---"
   ]
  },
  {
   "cell_type": "code",
   "execution_count": 23,
   "id": "9438bc2c-23e6-4b34-bea3-050c3700cb5c",
   "metadata": {},
   "outputs": [],
   "source": [
    "src = pd.read_json(\n",
    "    \"data/raw/elon_follower_count_history.json\", dtype={\"MementoDatetime\": str}\n",
    ")"
   ]
  },
  {
   "cell_type": "code",
   "execution_count": 26,
   "id": "fe7f71b0-9eae-4571-905c-9f5da9e74632",
   "metadata": {},
   "outputs": [],
   "source": [
    "src.columns = src.columns.str.lower()"
   ]
  },
  {
   "cell_type": "code",
   "execution_count": 27,
   "id": "67fd480b-ac51-47d1-ad39-a2bfc38268fe",
   "metadata": {},
   "outputs": [
    {
     "data": {
      "text/plain": [
       "mementodatetime     object\n",
       "urim                object\n",
       "followercount        int64\n",
       "absgrowth            int64\n",
       "relgrowth            int64\n",
       "abspergrowth       float64\n",
       "relpergrowth       float64\n",
       "absfolrate         float64\n",
       "relfolrate         float64\n",
       "dtype: object"
      ]
     },
     "execution_count": 27,
     "metadata": {},
     "output_type": "execute_result"
    }
   ],
   "source": [
    "src.dtypes"
   ]
  },
  {
   "cell_type": "code",
   "execution_count": 37,
   "id": "f1f7a99a-1ef4-489a-831a-8ddc4a5d1606",
   "metadata": {},
   "outputs": [],
   "source": [
    "src[\"year\"] = src[\"mementodatetime\"].str[:4]\n",
    "src[\"month\"] = src[\"mementodatetime\"].str[4:6]\n",
    "src[\"day\"] = src[\"mementodatetime\"].str[6:8]\n",
    "src[\"date\"] = pd.to_datetime(src[\"year\"] + src[\"month\"] + src[\"day\"])"
   ]
  },
  {
   "cell_type": "code",
   "execution_count": 49,
   "id": "9a69817d-e562-4f05-8441-ae4de0e2862a",
   "metadata": {},
   "outputs": [],
   "source": [
    "df = src[[\"date\", \"followercount\"]].copy()"
   ]
  },
  {
   "cell_type": "code",
   "execution_count": 56,
   "id": "d90d4d3e-0b4c-4298-a607-578fcbc685bf",
   "metadata": {},
   "outputs": [
    {
     "data": {
      "text/html": [
       "<div>\n",
       "<style scoped>\n",
       "    .dataframe tbody tr th:only-of-type {\n",
       "        vertical-align: middle;\n",
       "    }\n",
       "\n",
       "    .dataframe tbody tr th {\n",
       "        vertical-align: top;\n",
       "    }\n",
       "\n",
       "    .dataframe thead th {\n",
       "        text-align: right;\n",
       "    }\n",
       "</style>\n",
       "<table border=\"1\" class=\"dataframe\">\n",
       "  <thead>\n",
       "    <tr style=\"text-align: right;\">\n",
       "      <th></th>\n",
       "      <th>date</th>\n",
       "      <th>followercount</th>\n",
       "    </tr>\n",
       "  </thead>\n",
       "  <tbody>\n",
       "    <tr>\n",
       "      <th>120</th>\n",
       "      <td>2022-04-26</td>\n",
       "      <td>85075855</td>\n",
       "    </tr>\n",
       "    <tr>\n",
       "      <th>119</th>\n",
       "      <td>2022-03-27</td>\n",
       "      <td>79271181</td>\n",
       "    </tr>\n",
       "    <tr>\n",
       "      <th>118</th>\n",
       "      <td>2022-01-26</td>\n",
       "      <td>71628251</td>\n",
       "    </tr>\n",
       "    <tr>\n",
       "      <th>117</th>\n",
       "      <td>2021-12-27</td>\n",
       "      <td>67837026</td>\n",
       "    </tr>\n",
       "    <tr>\n",
       "      <th>116</th>\n",
       "      <td>2021-11-27</td>\n",
       "      <td>64827972</td>\n",
       "    </tr>\n",
       "  </tbody>\n",
       "</table>\n",
       "</div>"
      ],
      "text/plain": [
       "          date  followercount\n",
       "120 2022-04-26       85075855\n",
       "119 2022-03-27       79271181\n",
       "118 2022-01-26       71628251\n",
       "117 2021-12-27       67837026\n",
       "116 2021-11-27       64827972"
      ]
     },
     "execution_count": 56,
     "metadata": {},
     "output_type": "execute_result"
    }
   ],
   "source": [
    "df.sort_values(\"followercount\", ascending=False).head()"
   ]
  },
  {
   "cell_type": "code",
   "execution_count": 60,
   "id": "c0328d9b-0caa-4154-8934-18fb4ffe630d",
   "metadata": {},
   "outputs": [
    {
     "data": {
      "text/html": [
       "\n",
       "<div id=\"altair-viz-ebeb9e3658e240c1b1c34c1b03e341e4\"></div>\n",
       "<script type=\"text/javascript\">\n",
       "  var VEGA_DEBUG = (typeof VEGA_DEBUG == \"undefined\") ? {} : VEGA_DEBUG;\n",
       "  (function(spec, embedOpt){\n",
       "    let outputDiv = document.currentScript.previousElementSibling;\n",
       "    if (outputDiv.id !== \"altair-viz-ebeb9e3658e240c1b1c34c1b03e341e4\") {\n",
       "      outputDiv = document.getElementById(\"altair-viz-ebeb9e3658e240c1b1c34c1b03e341e4\");\n",
       "    }\n",
       "    const paths = {\n",
       "      \"vega\": \"https://cdn.jsdelivr.net/npm//vega@5?noext\",\n",
       "      \"vega-lib\": \"https://cdn.jsdelivr.net/npm//vega-lib?noext\",\n",
       "      \"vega-lite\": \"https://cdn.jsdelivr.net/npm//vega-lite@4.17.0?noext\",\n",
       "      \"vega-embed\": \"https://cdn.jsdelivr.net/npm//vega-embed@6?noext\",\n",
       "    };\n",
       "\n",
       "    function maybeLoadScript(lib, version) {\n",
       "      var key = `${lib.replace(\"-\", \"\")}_version`;\n",
       "      return (VEGA_DEBUG[key] == version) ?\n",
       "        Promise.resolve(paths[lib]) :\n",
       "        new Promise(function(resolve, reject) {\n",
       "          var s = document.createElement('script');\n",
       "          document.getElementsByTagName(\"head\")[0].appendChild(s);\n",
       "          s.async = true;\n",
       "          s.onload = () => {\n",
       "            VEGA_DEBUG[key] = version;\n",
       "            return resolve(paths[lib]);\n",
       "          };\n",
       "          s.onerror = () => reject(`Error loading script: ${paths[lib]}`);\n",
       "          s.src = paths[lib];\n",
       "        });\n",
       "    }\n",
       "\n",
       "    function showError(err) {\n",
       "      outputDiv.innerHTML = `<div class=\"error\" style=\"color:red;\">${err}</div>`;\n",
       "      throw err;\n",
       "    }\n",
       "\n",
       "    function displayChart(vegaEmbed) {\n",
       "      vegaEmbed(outputDiv, spec, embedOpt)\n",
       "        .catch(err => showError(`Javascript Error: ${err.message}<br>This usually means there's a typo in your chart specification. See the javascript console for the full traceback.`));\n",
       "    }\n",
       "\n",
       "    if(typeof define === \"function\" && define.amd) {\n",
       "      requirejs.config({paths});\n",
       "      require([\"vega-embed\"], displayChart, err => showError(`Error loading script: ${err.message}`));\n",
       "    } else {\n",
       "      maybeLoadScript(\"vega\", \"5\")\n",
       "        .then(() => maybeLoadScript(\"vega-lite\", \"4.17.0\"))\n",
       "        .then(() => maybeLoadScript(\"vega-embed\", \"6\"))\n",
       "        .catch(showError)\n",
       "        .then(() => displayChart(vegaEmbed));\n",
       "    }\n",
       "  })({\"config\": {\"view\": {\"width\": 800, \"height\": 450, \"strokeOpacity\": 0}, \"background\": \"#ffffff\", \"title\": {\"anchor\": \"start\", \"font\": \"Summit Sans\", \"fontColor\": \"palette[\\\"black\\\"]\", \"fontSize\": 18, \"fontWeight\": \"normal\"}, \"arc\": {\"fill\": \"#00d4d8\"}, \"area\": {\"fill\": \"#00d4d8\"}, \"line\": {\"stroke\": \"#00d4d8\", \"strokeWidth\": 3}, \"path\": {\"stroke\": \"#00d4d8\"}, \"rect\": {\"fill\": \"#00d4d8\"}, \"shape\": {\"stroke\": \"#00d4d8\"}, \"bar\": {\"fill\": \"#00d4d8\"}, \"point\": {\"stroke\": \"#00d4d8\"}, \"symbol\": {\"fill\": \"#00d4d8\", \"size\": 30}, \"axis\": {\"titleFont\": \"Roboto\", \"titleFontSize\": 15, \"titleFontWeight\": \"normal\", \"labelFont\": \"Roboto, sans\", \"labelFontSize\": 13, \"labelFontWeight\": \"normal\"}, \"axisX\": {\"labelAngle\": 0, \"labelPadding\": 6, \"tickSize\": 3, \"grid\": false}, \"axisY\": {\"labelBaseline\": \"middle\", \"maxExtent\": 45, \"minExtent\": 45, \"titleAlign\": \"left\", \"titleAngle\": 0, \"titleX\": -45, \"titleY\": -11, \"domainOpacity\": 0, \"gridWidth\": 0.6, \"gridColor\": \"#dddddd\", \"offset\": 6, \"tickSize\": 0, \"titleColor\": \"#767676\"}, \"legend\": {\"titleFont\": \"Roboto\", \"titleFontSize\": 15, \"titleFontWeight\": \"normal\", \"symbolType\": \"square\", \"labelFont\": \"Roboto, sans\", \"labelFontSize\": 13}, \"range\": {\"category\": [\"#005f66\", \"#e37e2d\", \"#d64a3b\", \"#76b0ef\", \"#c1bc40\"], \"diverging\": [\"#e68a4f\", \"#f4bb6a\", \"#f9e39c\", \"#dadfe2\", \"#a6b7c6\", \"#849eae\"], \"heatmap\": [\"#7ff6f6\", \"#00eeef\", \"#00d4d8\", \"#00abb2\", \"#00848b\", \"#fbf2c7\", \"#00363d\"], \"ordinal\": [\"#7ff6f6\", \"#00eeef\", \"#00d4d8\", \"#00abb2\", \"#00848b\", \"#fbf2c7\", \"#00363d\"], \"ramp\": [\"#7ff6f6\", \"#00eeef\", \"#00d4d8\", \"#00abb2\", \"#00848b\", \"#fbf2c7\", \"#00363d\"]}}, \"data\": {\"name\": \"data-5fcb85cd4ffe84e630ec255bb1b9bdc3\"}, \"mark\": {\"type\": \"line\", \"interpolate\": \"step-after\"}, \"encoding\": {\"x\": {\"axis\": {\"format\": \"%b. %Y\", \"tickCount\": 5}, \"field\": \"date\", \"title\": \"\", \"type\": \"temporal\"}, \"y\": {\"axis\": {\"format\": \"0,M\", \"tickCount\": 5}, \"field\": \"followercount\", \"title\": \"\", \"type\": \"quantitative\"}}, \"title\": \"@elonmusk follower growth after 1 million\", \"width\": 900, \"$schema\": \"https://vega.github.io/schema/vega-lite/v4.17.0.json\", \"datasets\": {\"data-5fcb85cd4ffe84e630ec255bb1b9bdc3\": [{\"date\": \"2014-10-09T00:00:00\", \"followercount\": 1085756}, {\"date\": \"2014-11-11T00:00:00\", \"followercount\": 1244750}, {\"date\": \"2014-12-04T00:00:00\", \"followercount\": 1297111}, {\"date\": \"2015-01-06T00:00:00\", \"followercount\": 1384654}, {\"date\": \"2015-02-12T00:00:00\", \"followercount\": 1598939}, {\"date\": \"2015-03-07T00:00:00\", \"followercount\": 1711149}, {\"date\": \"2015-04-07T00:00:00\", \"followercount\": 1909897}, {\"date\": \"2015-05-06T00:00:00\", \"followercount\": 2064141}, {\"date\": \"2015-06-02T00:00:00\", \"followercount\": 2175187}, {\"date\": \"2015-07-04T00:00:00\", \"followercount\": 2322855}, {\"date\": \"2015-08-03T00:00:00\", \"followercount\": 2436035}, {\"date\": \"2015-09-03T00:00:00\", \"followercount\": 2554559}, {\"date\": \"2015-10-01T00:00:00\", \"followercount\": 2692171}, {\"date\": \"2015-11-07T00:00:00\", \"followercount\": 2863269}, {\"date\": \"2015-12-01T00:00:00\", \"followercount\": 2967179}, {\"date\": \"2015-12-29T00:00:00\", \"followercount\": 3139386}, {\"date\": \"2016-01-28T00:00:00\", \"followercount\": 3321862}, {\"date\": \"2016-03-02T00:00:00\", \"followercount\": 3517509}, {\"date\": \"2016-05-29T00:00:00\", \"followercount\": 4027787}, {\"date\": \"2016-07-27T00:00:00\", \"followercount\": 4558271}, {\"date\": \"2016-08-26T00:00:00\", \"followercount\": 4896658}, {\"date\": \"2016-09-29T00:00:00\", \"followercount\": 5390357}, {\"date\": \"2016-10-25T00:00:00\", \"followercount\": 5702077}, {\"date\": \"2016-11-24T00:00:00\", \"followercount\": 6117798}, {\"date\": \"2016-12-23T00:00:00\", \"followercount\": 6448594}, {\"date\": \"2017-01-23T00:00:00\", \"followercount\": 6750101}, {\"date\": \"2017-02-22T00:00:00\", \"followercount\": 7354019}, {\"date\": \"2017-03-24T00:00:00\", \"followercount\": 7896620}, {\"date\": \"2017-04-22T00:00:00\", \"followercount\": 8307129}, {\"date\": \"2017-05-23T00:00:00\", \"followercount\": 8785548}, {\"date\": \"2017-06-23T00:00:00\", \"followercount\": 9468790}, {\"date\": \"2017-07-23T00:00:00\", \"followercount\": 10503151}, {\"date\": \"2017-08-20T00:00:00\", \"followercount\": 11603498}, {\"date\": \"2017-09-20T00:00:00\", \"followercount\": 12824855}, {\"date\": \"2017-10-19T00:00:00\", \"followercount\": 13655189}, {\"date\": \"2017-11-30T00:00:00\", \"followercount\": 15681693}, {\"date\": \"2017-12-19T00:00:00\", \"followercount\": 16694657}, {\"date\": \"2018-01-18T00:00:00\", \"followercount\": 18139157}, {\"date\": \"2018-02-17T00:00:00\", \"followercount\": 19576188}, {\"date\": \"2018-03-19T00:00:00\", \"followercount\": 20439747}, {\"date\": \"2018-04-19T00:00:00\", \"followercount\": 21314311}, {\"date\": \"2018-05-18T00:00:00\", \"followercount\": 21763742}, {\"date\": \"2018-06-16T00:00:00\", \"followercount\": 21982444}, {\"date\": \"2018-07-16T00:00:00\", \"followercount\": 22291339}, {\"date\": \"2018-08-15T00:00:00\", \"followercount\": 22321916}, {\"date\": \"2018-09-14T00:00:00\", \"followercount\": 22570705}, {\"date\": \"2018-10-14T00:00:00\", \"followercount\": 22897832}, {\"date\": \"2018-11-13T00:00:00\", \"followercount\": 23412061}, {\"date\": \"2018-12-14T00:00:00\", \"followercount\": 23678846}, {\"date\": \"2019-01-12T00:00:00\", \"followercount\": 24114836}, {\"date\": \"2019-03-14T00:00:00\", \"followercount\": 25317472}, {\"date\": \"2019-04-13T00:00:00\", \"followercount\": 25663459}, {\"date\": \"2019-06-11T00:00:00\", \"followercount\": 26877002}, {\"date\": \"2019-07-11T00:00:00\", \"followercount\": 27304173}, {\"date\": \"2019-08-10T00:00:00\", \"followercount\": 27755256}, {\"date\": \"2019-09-09T00:00:00\", \"followercount\": 28151186}, {\"date\": \"2019-10-09T00:00:00\", \"followercount\": 28570129}, {\"date\": \"2019-11-08T00:00:00\", \"followercount\": 29229013}, {\"date\": \"2019-12-08T00:00:00\", \"followercount\": 29909494}, {\"date\": \"2020-01-07T00:00:00\", \"followercount\": 30515480}, {\"date\": \"2020-02-06T00:00:00\", \"followercount\": 31091566}, {\"date\": \"2020-03-07T00:00:00\", \"followercount\": 31854931}, {\"date\": \"2020-04-07T00:00:00\", \"followercount\": 32997829}, {\"date\": \"2020-05-06T00:00:00\", \"followercount\": 33749149}, {\"date\": \"2020-06-05T00:00:00\", \"followercount\": 35645002}, {\"date\": \"2020-08-04T00:00:00\", \"followercount\": 37518586}, {\"date\": \"2020-09-04T00:00:00\", \"followercount\": 38488896}, {\"date\": \"2020-10-03T00:00:00\", \"followercount\": 39093326}, {\"date\": \"2021-01-01T00:00:00\", \"followercount\": 41256187}, {\"date\": \"2021-01-31T00:00:00\", \"followercount\": 44570931}, {\"date\": \"2021-03-02T00:00:00\", \"followercount\": 48334843}, {\"date\": \"2021-04-01T00:00:00\", \"followercount\": 50005143}, {\"date\": \"2021-05-01T00:00:00\", \"followercount\": 52462639}, {\"date\": \"2021-05-31T00:00:00\", \"followercount\": 56232508}, {\"date\": \"2021-06-30T00:00:00\", \"followercount\": 57673500}, {\"date\": \"2021-07-30T00:00:00\", \"followercount\": 58700538}, {\"date\": \"2021-08-29T00:00:00\", \"followercount\": 59526686}, {\"date\": \"2021-09-28T00:00:00\", \"followercount\": 60245470}, {\"date\": \"2021-11-27T00:00:00\", \"followercount\": 64827972}, {\"date\": \"2021-12-27T00:00:00\", \"followercount\": 67837026}, {\"date\": \"2022-01-26T00:00:00\", \"followercount\": 71628251}, {\"date\": \"2022-03-27T00:00:00\", \"followercount\": 79271181}, {\"date\": \"2022-04-26T00:00:00\", \"followercount\": 85075855}]}}, {\"mode\": \"vega-lite\"});\n",
       "</script>"
      ],
      "text/plain": [
       "alt.Chart(...)"
      ]
     },
     "execution_count": 60,
     "metadata": {},
     "output_type": "execute_result"
    }
   ],
   "source": [
    "alt.Chart(df[df[\"date\"] >= \"2014-10-09\"]).mark_line(interpolate=\"step-after\").encode(\n",
    "    x=alt.X(\"date:T\", axis=alt.Axis(format=\"%b. %Y\", tickCount=5), title=\"\"),\n",
    "    y=alt.Y(\"followercount:Q\", title=\"\", axis=alt.Axis(tickCount=5, format=\"0,M\")),\n",
    ").properties(width=900, title=\"@elonmusk follower growth after 1 million\")"
   ]
  },
  {
   "cell_type": "markdown",
   "id": "2d5e990d-11d2-4203-a677-c9995dac17b6",
   "metadata": {},
   "source": [
    "---"
   ]
  },
  {
   "cell_type": "markdown",
   "id": "3963b473-2ccf-4eb6-a5bc-725653bbe4d8",
   "metadata": {},
   "source": [
    "## Export"
   ]
  },
  {
   "cell_type": "markdown",
   "id": "948e60e1-39a5-45a8-876d-d9e4ff6718c6",
   "metadata": {},
   "source": [
    "#### All"
   ]
  },
  {
   "cell_type": "code",
   "execution_count": null,
   "id": "a68e641e-3c55-4859-9b1f-d4c93e9072fe",
   "metadata": {},
   "outputs": [],
   "source": [
    "df.to_csv('data/processed/elon_followers.csv', index=False)"
   ]
  },
  {
   "cell_type": "markdown",
   "id": "735cf3dc-2cc1-47ed-92e7-25e510d836e0",
   "metadata": {},
   "source": [
    "#### Since 1 million"
   ]
  },
  {
   "cell_type": "code",
   "execution_count": 62,
   "id": "eb4156e7-450a-455d-8041-76044081397d",
   "metadata": {},
   "outputs": [],
   "source": [
    "df[df[\"date\"] >= \"2014-10-09\"].to_csv(\n",
    "    \"data/processed/elon_followers_after_1M.csv\", index=False\n",
    ")"
   ]
  }
 ],
 "metadata": {
  "kernelspec": {
   "display_name": "Python 3 (ipykernel)",
   "language": "python",
   "name": "python3"
  },
  "language_info": {
   "codemirror_mode": {
    "name": "ipython",
    "version": 3
   },
   "file_extension": ".py",
   "mimetype": "text/x-python",
   "name": "python",
   "nbconvert_exporter": "python",
   "pygments_lexer": "ipython3",
   "version": "3.8.9"
  }
 },
 "nbformat": 4,
 "nbformat_minor": 5
}
