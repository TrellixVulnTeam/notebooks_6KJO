{
 "cells": [
  {
   "cell_type": "markdown",
   "id": "fe3a5e4a-3b88-46bf-b324-80f2385f5626",
   "metadata": {},
   "source": [
    "# Oligarch info at Open Sanctions"
   ]
  },
  {
   "cell_type": "code",
   "execution_count": 1,
   "id": "d370ef57-336f-41a8-9f2e-3cb76106a281",
   "metadata": {},
   "outputs": [],
   "source": [
    "%load_ext lab_black"
   ]
  },
  {
   "cell_type": "code",
   "execution_count": 2,
   "id": "0879cfa2-e9b4-45f6-be42-7059edf6f29a",
   "metadata": {},
   "outputs": [],
   "source": [
    "import pandas as pd\n",
    "import geopandas as gpd\n",
    "import urllib.request, json"
   ]
  },
  {
   "cell_type": "code",
   "execution_count": 3,
   "id": "76a94e97-54e4-44cf-8e5c-84d451cad54a",
   "metadata": {},
   "outputs": [],
   "source": [
    "pd.options.display.max_columns = 1000\n",
    "pd.options.display.max_rows = 1000\n",
    "pd.set_option(\"display.max_columns\", None)"
   ]
  },
  {
   "cell_type": "markdown",
   "id": "c9513be6-198e-4a6f-abae-5fa247046d1d",
   "metadata": {},
   "source": [
    "---"
   ]
  },
  {
   "cell_type": "markdown",
   "id": "802cdca8-d95c-40b9-8c21-31ce6f1aaa45",
   "metadata": {},
   "source": [
    "#### Read our reference list"
   ]
  },
  {
   "cell_type": "code",
   "execution_count": 11,
   "id": "ad16d0d3-c2e3-4ef0-b652-a058b3b93fd9",
   "metadata": {},
   "outputs": [],
   "source": [
    "src = pd.read_csv(\n",
    "    \"https://docs.google.com/spreadsheets/d/e/2PACX-1vQbuMsq9hYBJIHzjTOQTuhutfl11pSyvcYeSkFB8oxZ9h0glCjpf8_DEseVHkckWz1_DB7uo8s74MnN/pub?gid=1333423236&single=true&output=csv\"\n",
    ")"
   ]
  },
  {
   "cell_type": "code",
   "execution_count": 12,
   "id": "8bb26bd3-2c3d-4728-9fdb-dbf37029a664",
   "metadata": {},
   "outputs": [
    {
     "data": {
      "text/html": [
       "<div>\n",
       "<style scoped>\n",
       "    .dataframe tbody tr th:only-of-type {\n",
       "        vertical-align: middle;\n",
       "    }\n",
       "\n",
       "    .dataframe tbody tr th {\n",
       "        vertical-align: top;\n",
       "    }\n",
       "\n",
       "    .dataframe thead th {\n",
       "        text-align: right;\n",
       "    }\n",
       "</style>\n",
       "<table border=\"1\" class=\"dataframe\">\n",
       "  <thead>\n",
       "    <tr style=\"text-align: right;\">\n",
       "      <th></th>\n",
       "      <th>first_name</th>\n",
       "      <th>last_name</th>\n",
       "      <th>name</th>\n",
       "      <th>open_sanctions_id</th>\n",
       "      <th>api_url</th>\n",
       "      <th>info</th>\n",
       "      <th>other_info</th>\n",
       "      <th>notes</th>\n",
       "    </tr>\n",
       "  </thead>\n",
       "  <tbody>\n",
       "    <tr>\n",
       "      <th>0</th>\n",
       "      <td>Oleg</td>\n",
       "      <td>Tinkov</td>\n",
       "      <td>Oleg Tinkov</td>\n",
       "      <td>Q1976907</td>\n",
       "      <td>https://api.opensanctions.org/search/ru_billio...</td>\n",
       "      <td>https://api.opensanctions.org/entities/Q1976907</td>\n",
       "      <td>NaN</td>\n",
       "      <td>NaN</td>\n",
       "    </tr>\n",
       "    <tr>\n",
       "      <th>1</th>\n",
       "      <td>Alexander</td>\n",
       "      <td>Abramov</td>\n",
       "      <td>Alexander Abramov</td>\n",
       "      <td>Q4054890</td>\n",
       "      <td>https://api.opensanctions.org/search/ru_billio...</td>\n",
       "      <td>https://api.opensanctions.org/entities/Q4054890</td>\n",
       "      <td>NaN</td>\n",
       "      <td>NaN</td>\n",
       "    </tr>\n",
       "    <tr>\n",
       "      <th>2</th>\n",
       "      <td>Alexey</td>\n",
       "      <td>Mordashov</td>\n",
       "      <td>Alexey Mordashov</td>\n",
       "      <td>Q1395387</td>\n",
       "      <td>https://api.opensanctions.org/search/ru_billio...</td>\n",
       "      <td>https://api.opensanctions.org/entities/Q1395387</td>\n",
       "      <td>NaN</td>\n",
       "      <td>NaN</td>\n",
       "    </tr>\n",
       "    <tr>\n",
       "      <th>3</th>\n",
       "      <td>Alisher</td>\n",
       "      <td>Usmanov</td>\n",
       "      <td>Alisher Usmanov</td>\n",
       "      <td>Q503147</td>\n",
       "      <td>https://api.opensanctions.org/search/ru_billio...</td>\n",
       "      <td>https://api.opensanctions.org/entities/Q503147</td>\n",
       "      <td>NaN</td>\n",
       "      <td>NaN</td>\n",
       "    </tr>\n",
       "    <tr>\n",
       "      <th>4</th>\n",
       "      <td>Arkady</td>\n",
       "      <td>Rotenberg</td>\n",
       "      <td>Arkady Rotenberg</td>\n",
       "      <td>Q4398633</td>\n",
       "      <td>https://api.opensanctions.org/search/ru_billio...</td>\n",
       "      <td>https://api.opensanctions.org/entities/Q4398633</td>\n",
       "      <td>NaN</td>\n",
       "      <td>NaN</td>\n",
       "    </tr>\n",
       "  </tbody>\n",
       "</table>\n",
       "</div>"
      ],
      "text/plain": [
       "  first_name  last_name               name open_sanctions_id  \\\n",
       "0       Oleg     Tinkov        Oleg Tinkov          Q1976907   \n",
       "1  Alexander    Abramov  Alexander Abramov          Q4054890   \n",
       "2     Alexey  Mordashov   Alexey Mordashov          Q1395387   \n",
       "3    Alisher    Usmanov    Alisher Usmanov           Q503147   \n",
       "4     Arkady  Rotenberg   Arkady Rotenberg          Q4398633   \n",
       "\n",
       "                                             api_url  \\\n",
       "0  https://api.opensanctions.org/search/ru_billio...   \n",
       "1  https://api.opensanctions.org/search/ru_billio...   \n",
       "2  https://api.opensanctions.org/search/ru_billio...   \n",
       "3  https://api.opensanctions.org/search/ru_billio...   \n",
       "4  https://api.opensanctions.org/search/ru_billio...   \n",
       "\n",
       "                                              info other_info notes  \n",
       "0  https://api.opensanctions.org/entities/Q1976907        NaN   NaN  \n",
       "1  https://api.opensanctions.org/entities/Q4054890        NaN   NaN  \n",
       "2  https://api.opensanctions.org/entities/Q1395387        NaN   NaN  \n",
       "3   https://api.opensanctions.org/entities/Q503147        NaN   NaN  \n",
       "4  https://api.opensanctions.org/entities/Q4398633        NaN   NaN  "
      ]
     },
     "execution_count": 12,
     "metadata": {},
     "output_type": "execute_result"
    }
   ],
   "source": [
    "src.head()"
   ]
  },
  {
   "cell_type": "code",
   "execution_count": 13,
   "id": "52733b45-1f38-412f-aa00-4f3b957cb903",
   "metadata": {},
   "outputs": [],
   "source": [
    "api_urls = src[\"info\"].dropna().to_list()"
   ]
  },
  {
   "cell_type": "code",
   "execution_count": 14,
   "id": "d5fa91b9-9b7c-468e-a554-195427865983",
   "metadata": {},
   "outputs": [
    {
     "data": {
      "text/plain": [
       "['https://api.opensanctions.org/entities/Q1976907',\n",
       " 'https://api.opensanctions.org/entities/Q4054890',\n",
       " 'https://api.opensanctions.org/entities/Q1395387',\n",
       " 'https://api.opensanctions.org/entities/Q503147',\n",
       " 'https://api.opensanctions.org/entities/Q4398633',\n",
       " 'https://api.opensanctions.org/entities/Q983847',\n",
       " 'https://api.opensanctions.org/entities/Q924229',\n",
       " 'https://api.opensanctions.org/entities/Q1819424',\n",
       " 'https://api.opensanctions.org/entities/Q451455',\n",
       " 'https://api.opensanctions.org/entities/Q732142',\n",
       " 'https://api.opensanctions.org/entities/Q233581',\n",
       " 'https://api.opensanctions.org/entities/Q171428',\n",
       " 'https://api.opensanctions.org/entities/Q447250',\n",
       " 'https://api.opensanctions.org/entities/Q704450',\n",
       " 'https://api.opensanctions.org/entities/Q704450',\n",
       " 'https://api.opensanctions.org/entities/Q470975',\n",
       " 'https://api.opensanctions.org/entities/Q739315',\n",
       " 'https://api.opensanctions.org/entities/Q4398632',\n",
       " 'https://api.opensanctions.org/entities/Q503147',\n",
       " 'https://api.opensanctions.org/entities/Q4459474']"
      ]
     },
     "execution_count": 14,
     "metadata": {},
     "output_type": "execute_result"
    }
   ],
   "source": [
    "src[\"info\"].dropna().to_list()"
   ]
  },
  {
   "cell_type": "markdown",
   "id": "5b577034-ab6f-48b3-8ae9-9b9672a69f39",
   "metadata": {},
   "source": [
    "#### Loop through the oligarch URLs and snag json responses"
   ]
  },
  {
   "cell_type": "code",
   "execution_count": 15,
   "id": "39c296e8-1c71-4ed7-84b7-884ed6db9aa3",
   "metadata": {},
   "outputs": [],
   "source": [
    "jsons = []\n",
    "\n",
    "for u in api_urls:\n",
    "    with urllib.request.urlopen(u) as url:\n",
    "        jsons.append(json.loads(url.read().decode()))"
   ]
  },
  {
   "cell_type": "code",
   "execution_count": 18,
   "id": "3258dc7a-d6f0-4d4e-9282-19818b7b80c1",
   "metadata": {},
   "outputs": [
    {
     "data": {
      "text/plain": [
       "{'alias': ['Oleg Jurjevitsj Tinkov',\n",
       "  'Тиньков Олег Юрьевич',\n",
       "  'Օլեգ Տինկով',\n",
       "  'Тиньков Олег Юрійович',\n",
       "  'Oleg Tinkoff',\n",
       "  'اولگ تینکوف',\n",
       "  'אולג טינקוב',\n",
       "  'ოლეგ ტინკოვი',\n",
       "  'Oleg Jurjewitsch Tinkow',\n",
       "  'Тиньков, Олег Юрьевич',\n",
       "  'اوليج تينكوڤ',\n",
       "  'Тиньков, Олег',\n",
       "  'Oleg Yuryevich Tinkov',\n",
       "  'Oleg Tinkov',\n",
       "  'Oleg Tinkow',\n",
       "  'Oleg Tińkow',\n",
       "  'Олег Тиньков',\n",
       "  'Oleq Tinkov',\n",
       "  'Oleg Tiňkov',\n",
       "  'Oleg Jurevitj Tinkov',\n",
       "  'Олег Юрьевич Тиньков'],\n",
       " 'birthDate': ['1967-12-25'],\n",
       " 'birthPlace': ['Polysayevo'],\n",
       " 'education': ['Saint Petersburg Mining University',\n",
       "  'University of California, Berkeley (-1999)'],\n",
       " 'firstName': ['Oleg'],\n",
       " 'gender': ['male'],\n",
       " 'lastName': ['Tinkov'],\n",
       " 'modifiedAt': ['2022-03-04T00:43:49'],\n",
       " 'name': ['Oleg Tinkov'],\n",
       " 'nationality': ['cy', 'ru', 'suhh', 'us'],\n",
       " 'notes': ['Russian businessman and investor'],\n",
       " 'website': ['http://tinkov.com/'],\n",
       " 'wikidataId': ['Q1976907']}"
      ]
     },
     "execution_count": 18,
     "metadata": {},
     "output_type": "execute_result"
    }
   ],
   "source": [
    "jsons[0][\"properties\"]"
   ]
  },
  {
   "cell_type": "code",
   "execution_count": 23,
   "id": "9e5d08a0-d8d8-4582-ab9a-c75bc5fbbe77",
   "metadata": {},
   "outputs": [],
   "source": [
    "# for j in jsons:\n",
    "#     print(j[\"properties\"])"
   ]
  },
  {
   "cell_type": "markdown",
   "id": "8d3bf8c4-b1a1-4d57-897f-2913ab29c5cc",
   "metadata": {},
   "source": [
    "#### Gather the strings we need"
   ]
  },
  {
   "cell_type": "code",
   "execution_count": 24,
   "id": "98ecccc6-4bfe-42fa-a88a-c51ca772e7bb",
   "metadata": {},
   "outputs": [
    {
     "ename": "TypeError",
     "evalue": "string indices must be integers",
     "output_type": "error",
     "traceback": [
      "\u001b[0;31m---------------------------------------------------------------------------\u001b[0m",
      "\u001b[0;31mTypeError\u001b[0m                                 Traceback (most recent call last)",
      "\u001b[0;32m/var/folders/t2/zm_cy93562b5d1qyf6j1yc1m0000gn/T/ipykernel_7925/3659488605.py\u001b[0m in \u001b[0;36m<cell line: 3>\u001b[0;34m()\u001b[0m\n\u001b[1;32m      3\u001b[0m \u001b[0;32mfor\u001b[0m \u001b[0mj\u001b[0m \u001b[0;32min\u001b[0m \u001b[0mjsons\u001b[0m\u001b[0;34m:\u001b[0m\u001b[0;34m\u001b[0m\u001b[0;34m\u001b[0m\u001b[0m\n\u001b[1;32m      4\u001b[0m     \u001b[0;32mfor\u001b[0m \u001b[0mr\u001b[0m \u001b[0;32min\u001b[0m \u001b[0mj\u001b[0m\u001b[0;34m[\u001b[0m\u001b[0;34m\"properties\"\u001b[0m\u001b[0;34m]\u001b[0m\u001b[0;34m:\u001b[0m\u001b[0;34m\u001b[0m\u001b[0;34m\u001b[0m\u001b[0m\n\u001b[0;32m----> 5\u001b[0;31m         \u001b[0mname\u001b[0m \u001b[0;34m=\u001b[0m \u001b[0mr\u001b[0m\u001b[0;34m[\u001b[0m\u001b[0;34m\"alias\"\u001b[0m\u001b[0;34m]\u001b[0m\u001b[0;34m\u001b[0m\u001b[0;34m\u001b[0m\u001b[0m\n\u001b[0m\u001b[1;32m      6\u001b[0m         \u001b[0;31m# try:\u001b[0m\u001b[0;34m\u001b[0m\u001b[0;34m\u001b[0m\u001b[0m\n\u001b[1;32m      7\u001b[0m         \u001b[0;31m#     position = r[\"properties\"][\"position\"]\u001b[0m\u001b[0;34m\u001b[0m\u001b[0;34m\u001b[0m\u001b[0m\n",
      "\u001b[0;31mTypeError\u001b[0m: string indices must be integers"
     ]
    }
   ],
   "source": [
    "dataframe = []\n",
    "\n",
    "for j in jsons:\n",
    "    for r in j[\"properties\"]:\n",
    "        name = r[\"alias\"]\n",
    "        # try:\n",
    "        #     position = r[\"properties\"][\"position\"]\n",
    "        # except:\n",
    "        #     continue\n",
    "        # birthdate = r[\"properties\"][\"birthDate\"]\n",
    "        # birthplace = r[\"properties\"][\"birthPlace\"]\n",
    "        # try:\n",
    "        #     education = r[\"properties\"][\"education\"]\n",
    "        # except:\n",
    "        #     continue\n",
    "        # nationality = r[\"properties\"][\"nationality\"]\n",
    "        # wid = r[\"properties\"][\"wikidataId\"]\n",
    "        # notes = r[\"properties\"][\"notes\"]\n",
    "        # mydict = {\n",
    "        #     \"name\": name[0],\n",
    "        #     \"position\": position,\n",
    "        #     \"birthdate\": birthdate[0],\n",
    "        #     \"birthplace\": birthplace,\n",
    "        #     \"education\": education[0],\n",
    "        #     \"nationality\": nationality[0],\n",
    "        #     \"wid\": wid[0],\n",
    "        #     \"notes\": notes[0],\n",
    "        # }\n",
    "        # dataframe.append(mydict)"
   ]
  },
  {
   "cell_type": "code",
   "execution_count": null,
   "id": "4fac726e-f52c-47f3-a5a4-e4193c509ac0",
   "metadata": {},
   "outputs": [],
   "source": [
    "df = pd.DataFrame(dataframe)"
   ]
  },
  {
   "cell_type": "code",
   "execution_count": null,
   "id": "18c2c87b-9628-430e-bd5d-0bdfcea50268",
   "metadata": {},
   "outputs": [],
   "source": [
    "df[\"age\"] = pd.to_datetime(\"today\").year - pd.to_datetime(df[\"birthdate\"]).dt.year"
   ]
  },
  {
   "cell_type": "code",
   "execution_count": null,
   "id": "0735aa0d-d85f-4149-864b-8636c3679a97",
   "metadata": {},
   "outputs": [],
   "source": [
    "df.age.mean().round(1)"
   ]
  },
  {
   "cell_type": "code",
   "execution_count": null,
   "id": "3883a69a-9b13-4196-83a3-63c64248b839",
   "metadata": {},
   "outputs": [],
   "source": [
    "df"
   ]
  },
  {
   "cell_type": "code",
   "execution_count": null,
   "id": "16d0f9b9-899c-41fb-96b7-5a4d2a056242",
   "metadata": {},
   "outputs": [],
   "source": [
    "df.to_csv(\"data/processed/oligarchs_list.csv\", index=False)"
   ]
  }
 ],
 "metadata": {
  "kernelspec": {
   "display_name": "Python 3 (ipykernel)",
   "language": "python",
   "name": "python3"
  },
  "language_info": {
   "codemirror_mode": {
    "name": "ipython",
    "version": 3
   },
   "file_extension": ".py",
   "mimetype": "text/x-python",
   "name": "python",
   "nbconvert_exporter": "python",
   "pygments_lexer": "ipython3",
   "version": "3.9.9"
  }
 },
 "nbformat": 4,
 "nbformat_minor": 5
}
