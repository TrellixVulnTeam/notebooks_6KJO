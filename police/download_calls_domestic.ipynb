{
 "cells": [
  {
   "cell_type": "markdown",
   "metadata": {},
   "source": [
    "# LAPD calls for service: Domestic violence cases"
   ]
  },
  {
   "cell_type": "code",
   "execution_count": 1,
   "metadata": {},
   "outputs": [],
   "source": [
    "%load_ext lab_black"
   ]
  },
  {
   "cell_type": "code",
   "execution_count": 2,
   "metadata": {},
   "outputs": [],
   "source": [
    "import json\n",
    "import glob\n",
    "import io\n",
    "import os\n",
    "import pandas as pd\n",
    "import numpy as np\n",
    "import altair as alt\n",
    "import altair_latimes as lat\n",
    "\n",
    "pd.options.display.max_columns = 50\n",
    "pd.options.display.max_rows = 50"
   ]
  },
  {
   "cell_type": "markdown",
   "metadata": {},
   "source": [
    "### URL codes for City of LA open data portal"
   ]
  },
  {
   "cell_type": "code",
   "execution_count": 3,
   "metadata": {},
   "outputs": [],
   "source": [
    "codes = [\n",
    "    \"r4ka-x5je\",\n",
    "    \"nayp-w2tw\",\n",
    "    \"ryvm-a59m\",\n",
    "    \"xwgr-xw5q\",\n",
    "    \"tss8-455b\",\n",
    "    \"mgue-vbsx\",\n",
    "    \"urhh-yf63\",\n",
    "    \"i7pm-cnmm\",\n",
    "    \"4tmc-7r6g\",\n",
    "    \"iy4q-t9vr\",\n",
    "]"
   ]
  },
  {
   "cell_type": "markdown",
   "metadata": {},
   "source": [
    "### Download historic csvs from data portal by looping over codes"
   ]
  },
  {
   "cell_type": "code",
   "execution_count": 4,
   "metadata": {},
   "outputs": [],
   "source": [
    "# for c in codes:\n",
    "#     !wget 'https://data.lacity.org/api/views/{c}/rows.csv?accessType=DOWNLOAD' \\\n",
    "#     -P /Users/mhustiles/data/LAPD/"
   ]
  },
  {
   "cell_type": "markdown",
   "metadata": {},
   "source": [
    "### Read the most recent year of calls"
   ]
  },
  {
   "cell_type": "code",
   "execution_count": 5,
   "metadata": {},
   "outputs": [],
   "source": [
    "dtypes = {\"Incident_Number\": str, \"Area_Occ\": str, \"Rpt_Dist\": str}\n",
    "\n",
    "la_current = pd.read_csv(\n",
    "    \"https://data.lacity.org/api/views/cibt-wiru/rows.csv?accessType=DOWNLOAD\",\n",
    "    dtype=dtypes,\n",
    "    parse_dates=True,\n",
    ")"
   ]
  },
  {
   "cell_type": "markdown",
   "metadata": {},
   "source": [
    "### Read the files for past years"
   ]
  },
  {
   "cell_type": "code",
   "execution_count": 6,
   "metadata": {},
   "outputs": [],
   "source": [
    "path = \"/Users/mhustiles/data/LAPD/calls-for-service/\"\n",
    "files = glob.glob(os.path.join(path, \"*.csv\"))"
   ]
  },
  {
   "cell_type": "code",
   "execution_count": 7,
   "metadata": {},
   "outputs": [],
   "source": [
    "file_df = (\n",
    "    pd.read_csv(f, encoding=\"ISO-8859-1\", low_memory=False).assign(\n",
    "        year=os.path.basename(f)\n",
    "    )\n",
    "    for f in files\n",
    ")"
   ]
  },
  {
   "cell_type": "markdown",
   "metadata": {},
   "source": [
    "### Concatenate everything"
   ]
  },
  {
   "cell_type": "code",
   "execution_count": 8,
   "metadata": {},
   "outputs": [],
   "source": [
    "la_past = pd.concat(file_df, ignore_index=True)"
   ]
  },
  {
   "cell_type": "code",
   "execution_count": 9,
   "metadata": {},
   "outputs": [],
   "source": [
    "df = pd.concat([la_current, la_past]).drop([\"year\"], axis=1)"
   ]
  },
  {
   "cell_type": "markdown",
   "metadata": {},
   "source": [
    "### Clean up column names and dates/times"
   ]
  },
  {
   "cell_type": "code",
   "execution_count": 10,
   "metadata": {},
   "outputs": [],
   "source": [
    "df.rename(\n",
    "    columns={\n",
    "        \"Incident_Number\": \"incident_id\",\n",
    "        \"Area_Occ\": \"area\",\n",
    "        \"Rpt_Dist\": \"district\",\n",
    "        \"Dispatch_Date\": \"datetime\",\n",
    "        \"Dispatch_Time\": \"time\",\n",
    "        \"Call_Type_Code\": \"type_code\",\n",
    "        \"Call_Type_Text\": \"type_description\",\n",
    "    },\n",
    "    inplace=True,\n",
    ")"
   ]
  },
  {
   "cell_type": "code",
   "execution_count": 11,
   "metadata": {},
   "outputs": [],
   "source": [
    "df[\"date\"] = df[\"datetime\"].str.replace(\" 12:00:00 AM\", \"\", regex=False)"
   ]
  },
  {
   "cell_type": "code",
   "execution_count": 12,
   "metadata": {},
   "outputs": [],
   "source": [
    "df[\"date\"] = pd.to_datetime(df[\"date\"], format=\"%m/%d/%Y\")\n",
    "df[\"time\"] = pd.to_datetime(df[\"time\"], format=\"%H:%M:%S\")"
   ]
  },
  {
   "cell_type": "code",
   "execution_count": 13,
   "metadata": {},
   "outputs": [],
   "source": [
    "df[\"year\"] = df[\"date\"].dt.year\n",
    "df[\"date\"] = df[\"date\"].dt.date\n",
    "df[\"time\"] = df[\"time\"].dt.time"
   ]
  },
  {
   "cell_type": "code",
   "execution_count": 14,
   "metadata": {},
   "outputs": [],
   "source": [
    "df.drop([\"datetime\"], axis=1, inplace=True)"
   ]
  },
  {
   "cell_type": "markdown",
   "metadata": {
    "tags": []
   },
   "source": [
    "### Get rid of calls 'outside' LAPD jurisdiction"
   ]
  },
  {
   "cell_type": "code",
   "execution_count": 15,
   "metadata": {},
   "outputs": [],
   "source": [
    "df = df[df[\"area\"] != \"Outside\"]"
   ]
  },
  {
   "cell_type": "markdown",
   "metadata": {},
   "source": [
    "### How many records? "
   ]
  },
  {
   "cell_type": "code",
   "execution_count": 16,
   "metadata": {},
   "outputs": [
    {
     "data": {
      "text/plain": [
       "9871273"
      ]
     },
     "execution_count": 16,
     "metadata": {},
     "output_type": "execute_result"
    }
   ],
   "source": [
    "len(df)"
   ]
  },
  {
   "cell_type": "code",
   "execution_count": 17,
   "metadata": {},
   "outputs": [
    {
     "data": {
      "text/html": [
       "<div>\n",
       "<style scoped>\n",
       "    .dataframe tbody tr th:only-of-type {\n",
       "        vertical-align: middle;\n",
       "    }\n",
       "\n",
       "    .dataframe tbody tr th {\n",
       "        vertical-align: top;\n",
       "    }\n",
       "\n",
       "    .dataframe thead th {\n",
       "        text-align: right;\n",
       "    }\n",
       "</style>\n",
       "<table border=\"1\" class=\"dataframe\">\n",
       "  <thead>\n",
       "    <tr style=\"text-align: right;\">\n",
       "      <th></th>\n",
       "      <th>incident_id</th>\n",
       "      <th>area</th>\n",
       "      <th>district</th>\n",
       "      <th>time</th>\n",
       "      <th>type_code</th>\n",
       "      <th>type_description</th>\n",
       "      <th>date</th>\n",
       "      <th>year</th>\n",
       "    </tr>\n",
       "  </thead>\n",
       "  <tbody>\n",
       "    <tr>\n",
       "      <th>0</th>\n",
       "      <td>PD21051600004112</td>\n",
       "      <td>77th Street</td>\n",
       "      <td>1205</td>\n",
       "      <td>21:00:37</td>\n",
       "      <td>9212</td>\n",
       "      <td>TRESPASS SUSP</td>\n",
       "      <td>2021-05-16</td>\n",
       "      <td>2021</td>\n",
       "    </tr>\n",
       "    <tr>\n",
       "      <th>1</th>\n",
       "      <td>PD21021200001741</td>\n",
       "      <td>West LA</td>\n",
       "      <td>0829</td>\n",
       "      <td>10:57:16</td>\n",
       "      <td>906B1</td>\n",
       "      <td>CODE 30 RINGER</td>\n",
       "      <td>2021-02-12</td>\n",
       "      <td>2021</td>\n",
       "    </tr>\n",
       "    <tr>\n",
       "      <th>2</th>\n",
       "      <td>PD21040200002194</td>\n",
       "      <td>Hollywood</td>\n",
       "      <td>0642</td>\n",
       "      <td>13:24:20</td>\n",
       "      <td>459I</td>\n",
       "      <td>INVEST</td>\n",
       "      <td>2021-04-02</td>\n",
       "      <td>2021</td>\n",
       "    </tr>\n",
       "    <tr>\n",
       "      <th>3</th>\n",
       "      <td>PD21042300002656</td>\n",
       "      <td>Mission</td>\n",
       "      <td>1956</td>\n",
       "      <td>14:49:35</td>\n",
       "      <td>006</td>\n",
       "      <td>CODE 6</td>\n",
       "      <td>2021-04-23</td>\n",
       "      <td>2021</td>\n",
       "    </tr>\n",
       "    <tr>\n",
       "      <th>4</th>\n",
       "      <td>PD21040500001095</td>\n",
       "      <td>Hollenbeck</td>\n",
       "      <td>0448</td>\n",
       "      <td>08:11:59</td>\n",
       "      <td>459I</td>\n",
       "      <td>INVEST</td>\n",
       "      <td>2021-04-05</td>\n",
       "      <td>2021</td>\n",
       "    </tr>\n",
       "  </tbody>\n",
       "</table>\n",
       "</div>"
      ],
      "text/plain": [
       "        incident_id         area district      time type_code  \\\n",
       "0  PD21051600004112  77th Street     1205  21:00:37      9212   \n",
       "1  PD21021200001741      West LA     0829  10:57:16     906B1   \n",
       "2  PD21040200002194    Hollywood     0642  13:24:20      459I   \n",
       "3  PD21042300002656      Mission     1956  14:49:35       006   \n",
       "4  PD21040500001095   Hollenbeck     0448  08:11:59      459I   \n",
       "\n",
       "  type_description        date  year  \n",
       "0    TRESPASS SUSP  2021-05-16  2021  \n",
       "1   CODE 30 RINGER  2021-02-12  2021  \n",
       "2           INVEST  2021-04-02  2021  \n",
       "3           CODE 6  2021-04-23  2021  \n",
       "4           INVEST  2021-04-05  2021  "
      ]
     },
     "execution_count": 17,
     "metadata": {},
     "output_type": "execute_result"
    }
   ],
   "source": [
    "df.head()"
   ]
  },
  {
   "cell_type": "code",
   "execution_count": 21,
   "metadata": {},
   "outputs": [],
   "source": [
    "today = pd.to_datetime(\"today\")\n",
    "start = pd.to_datetime(\"2021-01-01\")\n",
    "elapsed = (today - start).days"
   ]
  },
  {
   "cell_type": "code",
   "execution_count": 22,
   "metadata": {},
   "outputs": [],
   "source": [
    "def per_day(row):\n",
    "    if row[\"year\"] <= 2020:\n",
    "        return (row[\"all_calls_count\"] / 365.25).round(0)\n",
    "    else:\n",
    "        return (row[\"all_calls_count\"] / elapsed).round(0)"
   ]
  },
  {
   "cell_type": "code",
   "execution_count": 23,
   "metadata": {},
   "outputs": [],
   "source": [
    "df_grp = (df.groupby([\"year\"]).agg({\"incident_id\": \"count\"}).reset_index()).rename(\n",
    "    columns={\"incident_id\": \"all_calls_count\"}\n",
    ")"
   ]
  },
  {
   "cell_type": "code",
   "execution_count": 24,
   "metadata": {},
   "outputs": [],
   "source": [
    "df_grp[\"call_per_day\"] = df_grp.apply(per_day, axis=1)"
   ]
  },
  {
   "cell_type": "code",
   "execution_count": 25,
   "metadata": {},
   "outputs": [
    {
     "data": {
      "text/html": [
       "<div>\n",
       "<style scoped>\n",
       "    .dataframe tbody tr th:only-of-type {\n",
       "        vertical-align: middle;\n",
       "    }\n",
       "\n",
       "    .dataframe tbody tr th {\n",
       "        vertical-align: top;\n",
       "    }\n",
       "\n",
       "    .dataframe thead th {\n",
       "        text-align: right;\n",
       "    }\n",
       "</style>\n",
       "<table border=\"1\" class=\"dataframe\">\n",
       "  <thead>\n",
       "    <tr style=\"text-align: right;\">\n",
       "      <th></th>\n",
       "      <th>year</th>\n",
       "      <th>all_calls_count</th>\n",
       "      <th>call_per_day</th>\n",
       "    </tr>\n",
       "  </thead>\n",
       "  <tbody>\n",
       "    <tr>\n",
       "      <th>0</th>\n",
       "      <td>2012</td>\n",
       "      <td>923246</td>\n",
       "      <td>2528.0</td>\n",
       "    </tr>\n",
       "    <tr>\n",
       "      <th>1</th>\n",
       "      <td>2013</td>\n",
       "      <td>901401</td>\n",
       "      <td>2468.0</td>\n",
       "    </tr>\n",
       "    <tr>\n",
       "      <th>2</th>\n",
       "      <td>2014</td>\n",
       "      <td>932781</td>\n",
       "      <td>2554.0</td>\n",
       "    </tr>\n",
       "    <tr>\n",
       "      <th>3</th>\n",
       "      <td>2015</td>\n",
       "      <td>961870</td>\n",
       "      <td>2633.0</td>\n",
       "    </tr>\n",
       "    <tr>\n",
       "      <th>4</th>\n",
       "      <td>2016</td>\n",
       "      <td>1016874</td>\n",
       "      <td>2784.0</td>\n",
       "    </tr>\n",
       "    <tr>\n",
       "      <th>5</th>\n",
       "      <td>2017</td>\n",
       "      <td>1048989</td>\n",
       "      <td>2872.0</td>\n",
       "    </tr>\n",
       "    <tr>\n",
       "      <th>6</th>\n",
       "      <td>2018</td>\n",
       "      <td>1114791</td>\n",
       "      <td>3052.0</td>\n",
       "    </tr>\n",
       "    <tr>\n",
       "      <th>7</th>\n",
       "      <td>2019</td>\n",
       "      <td>1095430</td>\n",
       "      <td>2999.0</td>\n",
       "    </tr>\n",
       "    <tr>\n",
       "      <th>8</th>\n",
       "      <td>2020</td>\n",
       "      <td>1084550</td>\n",
       "      <td>2969.0</td>\n",
       "    </tr>\n",
       "    <tr>\n",
       "      <th>9</th>\n",
       "      <td>2021</td>\n",
       "      <td>791341</td>\n",
       "      <td>2757.0</td>\n",
       "    </tr>\n",
       "  </tbody>\n",
       "</table>\n",
       "</div>"
      ],
      "text/plain": [
       "   year  all_calls_count  call_per_day\n",
       "0  2012           923246        2528.0\n",
       "1  2013           901401        2468.0\n",
       "2  2014           932781        2554.0\n",
       "3  2015           961870        2633.0\n",
       "4  2016          1016874        2784.0\n",
       "5  2017          1048989        2872.0\n",
       "6  2018          1114791        3052.0\n",
       "7  2019          1095430        2999.0\n",
       "8  2020          1084550        2969.0\n",
       "9  2021           791341        2757.0"
      ]
     },
     "execution_count": 25,
     "metadata": {},
     "output_type": "execute_result"
    }
   ],
   "source": [
    "df_grp"
   ]
  },
  {
   "cell_type": "markdown",
   "metadata": {},
   "source": [
    "---"
   ]
  },
  {
   "cell_type": "markdown",
   "metadata": {},
   "source": [
    "### Domestic violence cases"
   ]
  },
  {
   "cell_type": "code",
   "execution_count": 67,
   "metadata": {},
   "outputs": [],
   "source": [
    "domestic = df[df[\"type_description\"].str.contains(\"DOM VIOL\")]\n",
    "# domestic = df[df[\"type_code\"] == \"242D\"]"
   ]
  },
  {
   "cell_type": "code",
   "execution_count": 68,
   "metadata": {},
   "outputs": [
    {
     "data": {
      "text/plain": [
       "433911"
      ]
     },
     "execution_count": 68,
     "metadata": {},
     "output_type": "execute_result"
    }
   ],
   "source": [
    "len(domestic)"
   ]
  },
  {
   "cell_type": "code",
   "execution_count": 69,
   "metadata": {},
   "outputs": [],
   "source": [
    "dom_grp = (\n",
    "    domestic.groupby([\"year\"]).agg({\"incident_id\": \"count\"}).reset_index()\n",
    ").rename(columns={\"incident_id\": \"dom_count\"})"
   ]
  },
  {
   "cell_type": "code",
   "execution_count": 70,
   "metadata": {},
   "outputs": [],
   "source": [
    "def per_day(row):\n",
    "    if row[\"year\"] <= 2020:\n",
    "        return (row[\"dom_count\"] / 365.25).round(0)\n",
    "    else:\n",
    "        return (row[\"dom_count\"] / elapsed).round(0)"
   ]
  },
  {
   "cell_type": "code",
   "execution_count": 71,
   "metadata": {},
   "outputs": [],
   "source": [
    "dom_grp[\"dom_calls_per_day\"] = dom_grp.apply(per_day, axis=1)"
   ]
  },
  {
   "cell_type": "code",
   "execution_count": 72,
   "metadata": {},
   "outputs": [
    {
     "data": {
      "text/html": [
       "<div>\n",
       "<style scoped>\n",
       "    .dataframe tbody tr th:only-of-type {\n",
       "        vertical-align: middle;\n",
       "    }\n",
       "\n",
       "    .dataframe tbody tr th {\n",
       "        vertical-align: top;\n",
       "    }\n",
       "\n",
       "    .dataframe thead th {\n",
       "        text-align: right;\n",
       "    }\n",
       "</style>\n",
       "<table border=\"1\" class=\"dataframe\">\n",
       "  <thead>\n",
       "    <tr style=\"text-align: right;\">\n",
       "      <th></th>\n",
       "      <th>year</th>\n",
       "      <th>dom_count</th>\n",
       "      <th>dom_calls_per_day</th>\n",
       "    </tr>\n",
       "  </thead>\n",
       "  <tbody>\n",
       "    <tr>\n",
       "      <th>0</th>\n",
       "      <td>2012</td>\n",
       "      <td>46709</td>\n",
       "      <td>128.0</td>\n",
       "    </tr>\n",
       "    <tr>\n",
       "      <th>1</th>\n",
       "      <td>2013</td>\n",
       "      <td>46113</td>\n",
       "      <td>126.0</td>\n",
       "    </tr>\n",
       "    <tr>\n",
       "      <th>2</th>\n",
       "      <td>2014</td>\n",
       "      <td>46016</td>\n",
       "      <td>126.0</td>\n",
       "    </tr>\n",
       "    <tr>\n",
       "      <th>3</th>\n",
       "      <td>2015</td>\n",
       "      <td>46478</td>\n",
       "      <td>127.0</td>\n",
       "    </tr>\n",
       "    <tr>\n",
       "      <th>4</th>\n",
       "      <td>2016</td>\n",
       "      <td>46647</td>\n",
       "      <td>128.0</td>\n",
       "    </tr>\n",
       "    <tr>\n",
       "      <th>5</th>\n",
       "      <td>2017</td>\n",
       "      <td>43866</td>\n",
       "      <td>120.0</td>\n",
       "    </tr>\n",
       "    <tr>\n",
       "      <th>6</th>\n",
       "      <td>2018</td>\n",
       "      <td>42654</td>\n",
       "      <td>117.0</td>\n",
       "    </tr>\n",
       "    <tr>\n",
       "      <th>7</th>\n",
       "      <td>2019</td>\n",
       "      <td>41121</td>\n",
       "      <td>113.0</td>\n",
       "    </tr>\n",
       "    <tr>\n",
       "      <th>8</th>\n",
       "      <td>2020</td>\n",
       "      <td>42528</td>\n",
       "      <td>116.0</td>\n",
       "    </tr>\n",
       "    <tr>\n",
       "      <th>9</th>\n",
       "      <td>2021</td>\n",
       "      <td>31779</td>\n",
       "      <td>111.0</td>\n",
       "    </tr>\n",
       "  </tbody>\n",
       "</table>\n",
       "</div>"
      ],
      "text/plain": [
       "   year  dom_count  dom_calls_per_day\n",
       "0  2012      46709              128.0\n",
       "1  2013      46113              126.0\n",
       "2  2014      46016              126.0\n",
       "3  2015      46478              127.0\n",
       "4  2016      46647              128.0\n",
       "5  2017      43866              120.0\n",
       "6  2018      42654              117.0\n",
       "7  2019      41121              113.0\n",
       "8  2020      42528              116.0\n",
       "9  2021      31779              111.0"
      ]
     },
     "execution_count": 72,
     "metadata": {},
     "output_type": "execute_result"
    }
   ],
   "source": [
    "dom_grp"
   ]
  },
  {
   "cell_type": "code",
   "execution_count": 73,
   "metadata": {},
   "outputs": [],
   "source": [
    "merged = pd.merge(df_grp, dom_grp, on=\"year\")"
   ]
  },
  {
   "cell_type": "code",
   "execution_count": 74,
   "metadata": {},
   "outputs": [],
   "source": [
    "merged[\"dom_count_rate_all_calls\"] = (\n",
    "    (merged[\"dom_count\"] / merged[\"all_calls_count\"]) * 100\n",
    ").round(2)"
   ]
  },
  {
   "cell_type": "code",
   "execution_count": 75,
   "metadata": {},
   "outputs": [],
   "source": [
    "merged[\"year\"] = merged[\"year\"].astype(str)"
   ]
  },
  {
   "cell_type": "code",
   "execution_count": 76,
   "metadata": {},
   "outputs": [
    {
     "data": {
      "text/html": [
       "<div>\n",
       "<style scoped>\n",
       "    .dataframe tbody tr th:only-of-type {\n",
       "        vertical-align: middle;\n",
       "    }\n",
       "\n",
       "    .dataframe tbody tr th {\n",
       "        vertical-align: top;\n",
       "    }\n",
       "\n",
       "    .dataframe thead th {\n",
       "        text-align: right;\n",
       "    }\n",
       "</style>\n",
       "<table border=\"1\" class=\"dataframe\">\n",
       "  <thead>\n",
       "    <tr style=\"text-align: right;\">\n",
       "      <th></th>\n",
       "      <th>year</th>\n",
       "      <th>all_calls_count</th>\n",
       "      <th>call_per_day</th>\n",
       "      <th>dom_count</th>\n",
       "      <th>dom_calls_per_day</th>\n",
       "      <th>dom_count_rate_all_calls</th>\n",
       "    </tr>\n",
       "  </thead>\n",
       "  <tbody>\n",
       "    <tr>\n",
       "      <th>0</th>\n",
       "      <td>2012</td>\n",
       "      <td>923246</td>\n",
       "      <td>2528.0</td>\n",
       "      <td>46709</td>\n",
       "      <td>128.0</td>\n",
       "      <td>5.06</td>\n",
       "    </tr>\n",
       "    <tr>\n",
       "      <th>1</th>\n",
       "      <td>2013</td>\n",
       "      <td>901401</td>\n",
       "      <td>2468.0</td>\n",
       "      <td>46113</td>\n",
       "      <td>126.0</td>\n",
       "      <td>5.12</td>\n",
       "    </tr>\n",
       "    <tr>\n",
       "      <th>2</th>\n",
       "      <td>2014</td>\n",
       "      <td>932781</td>\n",
       "      <td>2554.0</td>\n",
       "      <td>46016</td>\n",
       "      <td>126.0</td>\n",
       "      <td>4.93</td>\n",
       "    </tr>\n",
       "    <tr>\n",
       "      <th>3</th>\n",
       "      <td>2015</td>\n",
       "      <td>961870</td>\n",
       "      <td>2633.0</td>\n",
       "      <td>46478</td>\n",
       "      <td>127.0</td>\n",
       "      <td>4.83</td>\n",
       "    </tr>\n",
       "    <tr>\n",
       "      <th>4</th>\n",
       "      <td>2016</td>\n",
       "      <td>1016874</td>\n",
       "      <td>2784.0</td>\n",
       "      <td>46647</td>\n",
       "      <td>128.0</td>\n",
       "      <td>4.59</td>\n",
       "    </tr>\n",
       "    <tr>\n",
       "      <th>5</th>\n",
       "      <td>2017</td>\n",
       "      <td>1048989</td>\n",
       "      <td>2872.0</td>\n",
       "      <td>43866</td>\n",
       "      <td>120.0</td>\n",
       "      <td>4.18</td>\n",
       "    </tr>\n",
       "    <tr>\n",
       "      <th>6</th>\n",
       "      <td>2018</td>\n",
       "      <td>1114791</td>\n",
       "      <td>3052.0</td>\n",
       "      <td>42654</td>\n",
       "      <td>117.0</td>\n",
       "      <td>3.83</td>\n",
       "    </tr>\n",
       "    <tr>\n",
       "      <th>7</th>\n",
       "      <td>2019</td>\n",
       "      <td>1095430</td>\n",
       "      <td>2999.0</td>\n",
       "      <td>41121</td>\n",
       "      <td>113.0</td>\n",
       "      <td>3.75</td>\n",
       "    </tr>\n",
       "    <tr>\n",
       "      <th>8</th>\n",
       "      <td>2020</td>\n",
       "      <td>1084550</td>\n",
       "      <td>2969.0</td>\n",
       "      <td>42528</td>\n",
       "      <td>116.0</td>\n",
       "      <td>3.92</td>\n",
       "    </tr>\n",
       "    <tr>\n",
       "      <th>9</th>\n",
       "      <td>2021</td>\n",
       "      <td>791341</td>\n",
       "      <td>2757.0</td>\n",
       "      <td>31779</td>\n",
       "      <td>111.0</td>\n",
       "      <td>4.02</td>\n",
       "    </tr>\n",
       "  </tbody>\n",
       "</table>\n",
       "</div>"
      ],
      "text/plain": [
       "   year  all_calls_count  call_per_day  dom_count  dom_calls_per_day  \\\n",
       "0  2012           923246        2528.0      46709              128.0   \n",
       "1  2013           901401        2468.0      46113              126.0   \n",
       "2  2014           932781        2554.0      46016              126.0   \n",
       "3  2015           961870        2633.0      46478              127.0   \n",
       "4  2016          1016874        2784.0      46647              128.0   \n",
       "5  2017          1048989        2872.0      43866              120.0   \n",
       "6  2018          1114791        3052.0      42654              117.0   \n",
       "7  2019          1095430        2999.0      41121              113.0   \n",
       "8  2020          1084550        2969.0      42528              116.0   \n",
       "9  2021           791341        2757.0      31779              111.0   \n",
       "\n",
       "   dom_count_rate_all_calls  \n",
       "0                      5.06  \n",
       "1                      5.12  \n",
       "2                      4.93  \n",
       "3                      4.83  \n",
       "4                      4.59  \n",
       "5                      4.18  \n",
       "6                      3.83  \n",
       "7                      3.75  \n",
       "8                      3.92  \n",
       "9                      4.02  "
      ]
     },
     "execution_count": 76,
     "metadata": {},
     "output_type": "execute_result"
    }
   ],
   "source": [
    "merged"
   ]
  },
  {
   "cell_type": "code",
   "execution_count": 77,
   "metadata": {},
   "outputs": [
    {
     "data": {
      "text/html": [
       "\n",
       "<div id=\"altair-viz-ceba44c24df943049eeacbeb1f0dfd75\"></div>\n",
       "<script type=\"text/javascript\">\n",
       "  (function(spec, embedOpt){\n",
       "    let outputDiv = document.currentScript.previousElementSibling;\n",
       "    if (outputDiv.id !== \"altair-viz-ceba44c24df943049eeacbeb1f0dfd75\") {\n",
       "      outputDiv = document.getElementById(\"altair-viz-ceba44c24df943049eeacbeb1f0dfd75\");\n",
       "    }\n",
       "    const paths = {\n",
       "      \"vega\": \"https://cdn.jsdelivr.net/npm//vega@5?noext\",\n",
       "      \"vega-lib\": \"https://cdn.jsdelivr.net/npm//vega-lib?noext\",\n",
       "      \"vega-lite\": \"https://cdn.jsdelivr.net/npm//vega-lite@4.8.1?noext\",\n",
       "      \"vega-embed\": \"https://cdn.jsdelivr.net/npm//vega-embed@6?noext\",\n",
       "    };\n",
       "\n",
       "    function loadScript(lib) {\n",
       "      return new Promise(function(resolve, reject) {\n",
       "        var s = document.createElement('script');\n",
       "        s.src = paths[lib];\n",
       "        s.async = true;\n",
       "        s.onload = () => resolve(paths[lib]);\n",
       "        s.onerror = () => reject(`Error loading script: ${paths[lib]}`);\n",
       "        document.getElementsByTagName(\"head\")[0].appendChild(s);\n",
       "      });\n",
       "    }\n",
       "\n",
       "    function showError(err) {\n",
       "      outputDiv.innerHTML = `<div class=\"error\" style=\"color:red;\">${err}</div>`;\n",
       "      throw err;\n",
       "    }\n",
       "\n",
       "    function displayChart(vegaEmbed) {\n",
       "      vegaEmbed(outputDiv, spec, embedOpt)\n",
       "        .catch(err => showError(`Javascript Error: ${err.message}<br>This usually means there's a typo in your chart specification. See the javascript console for the full traceback.`));\n",
       "    }\n",
       "\n",
       "    if(typeof define === \"function\" && define.amd) {\n",
       "      requirejs.config({paths});\n",
       "      require([\"vega-embed\"], displayChart, err => showError(`Error loading script: ${err.message}`));\n",
       "    } else if (typeof vegaEmbed === \"function\") {\n",
       "      displayChart(vegaEmbed);\n",
       "    } else {\n",
       "      loadScript(\"vega\")\n",
       "        .then(() => loadScript(\"vega-lite\"))\n",
       "        .then(() => loadScript(\"vega-embed\"))\n",
       "        .catch(showError)\n",
       "        .then(() => displayChart(vegaEmbed));\n",
       "    }\n",
       "  })({\"config\": {\"view\": {\"continuousWidth\": 400, \"continuousHeight\": 300}}, \"data\": {\"name\": \"data-8bf3e7cf73fd5770685bbf7f7a681c66\"}, \"mark\": \"bar\", \"encoding\": {\"x\": {\"type\": \"nominal\", \"field\": \"year\"}, \"y\": {\"type\": \"quantitative\", \"field\": \"dom_calls_per_day\"}}, \"$schema\": \"https://vega.github.io/schema/vega-lite/v4.8.1.json\", \"datasets\": {\"data-8bf3e7cf73fd5770685bbf7f7a681c66\": [{\"year\": \"2012\", \"all_calls_count\": 923246, \"call_per_day\": 2528.0, \"dom_count\": 46709, \"dom_calls_per_day\": 128.0, \"dom_count_rate_all_calls\": 5.06}, {\"year\": \"2013\", \"all_calls_count\": 901401, \"call_per_day\": 2468.0, \"dom_count\": 46113, \"dom_calls_per_day\": 126.0, \"dom_count_rate_all_calls\": 5.12}, {\"year\": \"2014\", \"all_calls_count\": 932781, \"call_per_day\": 2554.0, \"dom_count\": 46016, \"dom_calls_per_day\": 126.0, \"dom_count_rate_all_calls\": 4.93}, {\"year\": \"2015\", \"all_calls_count\": 961870, \"call_per_day\": 2633.0, \"dom_count\": 46478, \"dom_calls_per_day\": 127.0, \"dom_count_rate_all_calls\": 4.83}, {\"year\": \"2016\", \"all_calls_count\": 1016874, \"call_per_day\": 2784.0, \"dom_count\": 46647, \"dom_calls_per_day\": 128.0, \"dom_count_rate_all_calls\": 4.59}, {\"year\": \"2017\", \"all_calls_count\": 1048989, \"call_per_day\": 2872.0, \"dom_count\": 43866, \"dom_calls_per_day\": 120.0, \"dom_count_rate_all_calls\": 4.18}, {\"year\": \"2018\", \"all_calls_count\": 1114791, \"call_per_day\": 3052.0, \"dom_count\": 42654, \"dom_calls_per_day\": 117.0, \"dom_count_rate_all_calls\": 3.83}, {\"year\": \"2019\", \"all_calls_count\": 1095430, \"call_per_day\": 2999.0, \"dom_count\": 41121, \"dom_calls_per_day\": 113.0, \"dom_count_rate_all_calls\": 3.75}, {\"year\": \"2020\", \"all_calls_count\": 1084550, \"call_per_day\": 2969.0, \"dom_count\": 42528, \"dom_calls_per_day\": 116.0, \"dom_count_rate_all_calls\": 3.92}, {\"year\": \"2021\", \"all_calls_count\": 791341, \"call_per_day\": 2757.0, \"dom_count\": 31779, \"dom_calls_per_day\": 111.0, \"dom_count_rate_all_calls\": 4.02}]}}, {\"mode\": \"vega-lite\"});\n",
       "</script>"
      ],
      "text/plain": [
       "alt.Chart(...)"
      ]
     },
     "execution_count": 77,
     "metadata": {},
     "output_type": "execute_result"
    }
   ],
   "source": [
    "alt.Chart(merged).mark_bar().encode(x=\"year\", y=\"dom_calls_per_day\")"
   ]
  },
  {
   "cell_type": "code",
   "execution_count": 78,
   "metadata": {},
   "outputs": [
    {
     "data": {
      "text/html": [
       "\n",
       "<div id=\"altair-viz-32e9c3c06da44c4ea687bd069538c49c\"></div>\n",
       "<script type=\"text/javascript\">\n",
       "  (function(spec, embedOpt){\n",
       "    let outputDiv = document.currentScript.previousElementSibling;\n",
       "    if (outputDiv.id !== \"altair-viz-32e9c3c06da44c4ea687bd069538c49c\") {\n",
       "      outputDiv = document.getElementById(\"altair-viz-32e9c3c06da44c4ea687bd069538c49c\");\n",
       "    }\n",
       "    const paths = {\n",
       "      \"vega\": \"https://cdn.jsdelivr.net/npm//vega@5?noext\",\n",
       "      \"vega-lib\": \"https://cdn.jsdelivr.net/npm//vega-lib?noext\",\n",
       "      \"vega-lite\": \"https://cdn.jsdelivr.net/npm//vega-lite@4.8.1?noext\",\n",
       "      \"vega-embed\": \"https://cdn.jsdelivr.net/npm//vega-embed@6?noext\",\n",
       "    };\n",
       "\n",
       "    function loadScript(lib) {\n",
       "      return new Promise(function(resolve, reject) {\n",
       "        var s = document.createElement('script');\n",
       "        s.src = paths[lib];\n",
       "        s.async = true;\n",
       "        s.onload = () => resolve(paths[lib]);\n",
       "        s.onerror = () => reject(`Error loading script: ${paths[lib]}`);\n",
       "        document.getElementsByTagName(\"head\")[0].appendChild(s);\n",
       "      });\n",
       "    }\n",
       "\n",
       "    function showError(err) {\n",
       "      outputDiv.innerHTML = `<div class=\"error\" style=\"color:red;\">${err}</div>`;\n",
       "      throw err;\n",
       "    }\n",
       "\n",
       "    function displayChart(vegaEmbed) {\n",
       "      vegaEmbed(outputDiv, spec, embedOpt)\n",
       "        .catch(err => showError(`Javascript Error: ${err.message}<br>This usually means there's a typo in your chart specification. See the javascript console for the full traceback.`));\n",
       "    }\n",
       "\n",
       "    if(typeof define === \"function\" && define.amd) {\n",
       "      requirejs.config({paths});\n",
       "      require([\"vega-embed\"], displayChart, err => showError(`Error loading script: ${err.message}`));\n",
       "    } else if (typeof vegaEmbed === \"function\") {\n",
       "      displayChart(vegaEmbed);\n",
       "    } else {\n",
       "      loadScript(\"vega\")\n",
       "        .then(() => loadScript(\"vega-lite\"))\n",
       "        .then(() => loadScript(\"vega-embed\"))\n",
       "        .catch(showError)\n",
       "        .then(() => displayChart(vegaEmbed));\n",
       "    }\n",
       "  })({\"config\": {\"view\": {\"continuousWidth\": 400, \"continuousHeight\": 300}}, \"data\": {\"name\": \"data-8bf3e7cf73fd5770685bbf7f7a681c66\"}, \"mark\": \"bar\", \"encoding\": {\"x\": {\"type\": \"nominal\", \"field\": \"year\"}, \"y\": {\"type\": \"quantitative\", \"field\": \"dom_count_rate_all_calls\"}}, \"$schema\": \"https://vega.github.io/schema/vega-lite/v4.8.1.json\", \"datasets\": {\"data-8bf3e7cf73fd5770685bbf7f7a681c66\": [{\"year\": \"2012\", \"all_calls_count\": 923246, \"call_per_day\": 2528.0, \"dom_count\": 46709, \"dom_calls_per_day\": 128.0, \"dom_count_rate_all_calls\": 5.06}, {\"year\": \"2013\", \"all_calls_count\": 901401, \"call_per_day\": 2468.0, \"dom_count\": 46113, \"dom_calls_per_day\": 126.0, \"dom_count_rate_all_calls\": 5.12}, {\"year\": \"2014\", \"all_calls_count\": 932781, \"call_per_day\": 2554.0, \"dom_count\": 46016, \"dom_calls_per_day\": 126.0, \"dom_count_rate_all_calls\": 4.93}, {\"year\": \"2015\", \"all_calls_count\": 961870, \"call_per_day\": 2633.0, \"dom_count\": 46478, \"dom_calls_per_day\": 127.0, \"dom_count_rate_all_calls\": 4.83}, {\"year\": \"2016\", \"all_calls_count\": 1016874, \"call_per_day\": 2784.0, \"dom_count\": 46647, \"dom_calls_per_day\": 128.0, \"dom_count_rate_all_calls\": 4.59}, {\"year\": \"2017\", \"all_calls_count\": 1048989, \"call_per_day\": 2872.0, \"dom_count\": 43866, \"dom_calls_per_day\": 120.0, \"dom_count_rate_all_calls\": 4.18}, {\"year\": \"2018\", \"all_calls_count\": 1114791, \"call_per_day\": 3052.0, \"dom_count\": 42654, \"dom_calls_per_day\": 117.0, \"dom_count_rate_all_calls\": 3.83}, {\"year\": \"2019\", \"all_calls_count\": 1095430, \"call_per_day\": 2999.0, \"dom_count\": 41121, \"dom_calls_per_day\": 113.0, \"dom_count_rate_all_calls\": 3.75}, {\"year\": \"2020\", \"all_calls_count\": 1084550, \"call_per_day\": 2969.0, \"dom_count\": 42528, \"dom_calls_per_day\": 116.0, \"dom_count_rate_all_calls\": 3.92}, {\"year\": \"2021\", \"all_calls_count\": 791341, \"call_per_day\": 2757.0, \"dom_count\": 31779, \"dom_calls_per_day\": 111.0, \"dom_count_rate_all_calls\": 4.02}]}}, {\"mode\": \"vega-lite\"});\n",
       "</script>"
      ],
      "text/plain": [
       "alt.Chart(...)"
      ]
     },
     "execution_count": 78,
     "metadata": {},
     "output_type": "execute_result"
    }
   ],
   "source": [
    "alt.Chart(merged).mark_bar().encode(x=\"year\", y=\"dom_count_rate_all_calls\")"
   ]
  },
  {
   "cell_type": "markdown",
   "metadata": {},
   "source": [
    "### Domestic violence calls in 2020"
   ]
  },
  {
   "cell_type": "code",
   "execution_count": 79,
   "metadata": {},
   "outputs": [
    {
     "data": {
      "text/html": [
       "<div>\n",
       "<style scoped>\n",
       "    .dataframe tbody tr th:only-of-type {\n",
       "        vertical-align: middle;\n",
       "    }\n",
       "\n",
       "    .dataframe tbody tr th {\n",
       "        vertical-align: top;\n",
       "    }\n",
       "\n",
       "    .dataframe thead th {\n",
       "        text-align: right;\n",
       "    }\n",
       "</style>\n",
       "<table border=\"1\" class=\"dataframe\">\n",
       "  <thead>\n",
       "    <tr style=\"text-align: right;\">\n",
       "      <th></th>\n",
       "      <th>incident_id</th>\n",
       "      <th>area</th>\n",
       "      <th>district</th>\n",
       "      <th>time</th>\n",
       "      <th>type_code</th>\n",
       "      <th>type_description</th>\n",
       "      <th>date</th>\n",
       "      <th>year</th>\n",
       "    </tr>\n",
       "  </thead>\n",
       "  <tbody>\n",
       "    <tr>\n",
       "      <th>11</th>\n",
       "      <td>PD21031500000011</td>\n",
       "      <td>77th Street</td>\n",
       "      <td>1265</td>\n",
       "      <td>00:08:27</td>\n",
       "      <td>242D</td>\n",
       "      <td>DOM VIOL</td>\n",
       "      <td>2021-03-15</td>\n",
       "      <td>2021</td>\n",
       "    </tr>\n",
       "    <tr>\n",
       "      <th>129</th>\n",
       "      <td>PD21030800002343</td>\n",
       "      <td>77th Street</td>\n",
       "      <td>1268</td>\n",
       "      <td>13:22:25</td>\n",
       "      <td>620D</td>\n",
       "      <td>DOM VIOL</td>\n",
       "      <td>2021-03-08</td>\n",
       "      <td>2021</td>\n",
       "    </tr>\n",
       "    <tr>\n",
       "      <th>131</th>\n",
       "      <td>PD21012600002393</td>\n",
       "      <td>N Hollywood</td>\n",
       "      <td>1543</td>\n",
       "      <td>13:18:18</td>\n",
       "      <td>242D</td>\n",
       "      <td>DOM VIOL</td>\n",
       "      <td>2021-01-26</td>\n",
       "      <td>2021</td>\n",
       "    </tr>\n",
       "    <tr>\n",
       "      <th>146</th>\n",
       "      <td>PD21031600000983</td>\n",
       "      <td>Olympic</td>\n",
       "      <td>2044</td>\n",
       "      <td>08:12:05</td>\n",
       "      <td>620D</td>\n",
       "      <td>DOM VIOL</td>\n",
       "      <td>2021-03-16</td>\n",
       "      <td>2021</td>\n",
       "    </tr>\n",
       "    <tr>\n",
       "      <th>156</th>\n",
       "      <td>PD21010100000337</td>\n",
       "      <td>Newton</td>\n",
       "      <td>1371</td>\n",
       "      <td>01:01:15</td>\n",
       "      <td>245DS</td>\n",
       "      <td>DOM VIOL SUSP</td>\n",
       "      <td>2021-01-01</td>\n",
       "      <td>2021</td>\n",
       "    </tr>\n",
       "  </tbody>\n",
       "</table>\n",
       "</div>"
      ],
      "text/plain": [
       "          incident_id         area district      time type_code  \\\n",
       "11   PD21031500000011  77th Street     1265  00:08:27      242D   \n",
       "129  PD21030800002343  77th Street     1268  13:22:25      620D   \n",
       "131  PD21012600002393  N Hollywood     1543  13:18:18      242D   \n",
       "146  PD21031600000983      Olympic     2044  08:12:05      620D   \n",
       "156  PD21010100000337       Newton     1371  01:01:15     245DS   \n",
       "\n",
       "    type_description        date  year  \n",
       "11          DOM VIOL  2021-03-15  2021  \n",
       "129         DOM VIOL  2021-03-08  2021  \n",
       "131         DOM VIOL  2021-01-26  2021  \n",
       "146         DOM VIOL  2021-03-16  2021  \n",
       "156    DOM VIOL SUSP  2021-01-01  2021  "
      ]
     },
     "execution_count": 79,
     "metadata": {},
     "output_type": "execute_result"
    }
   ],
   "source": [
    "domestic.head()"
   ]
  },
  {
   "cell_type": "code",
   "execution_count": 80,
   "metadata": {},
   "outputs": [],
   "source": [
    "dom2020 = domestic[domestic[\"year\"] == 2020]"
   ]
  },
  {
   "cell_type": "code",
   "execution_count": 81,
   "metadata": {},
   "outputs": [],
   "source": [
    "dom_grp_2020 = (\n",
    "    dom2020.groupby([\"date\"]).agg({\"incident_id\": \"count\"}).reset_index()\n",
    ").rename(columns={\"incident_id\": \"dom_count\"})"
   ]
  },
  {
   "cell_type": "code",
   "execution_count": 82,
   "metadata": {},
   "outputs": [],
   "source": [
    "dom_grp_2020[\"date\"] = pd.to_datetime(dom_grp_2020[\"date\"])"
   ]
  },
  {
   "cell_type": "code",
   "execution_count": 83,
   "metadata": {},
   "outputs": [
    {
     "data": {
      "text/html": [
       "\n",
       "<div id=\"altair-viz-a0a52e7cc8494a15be5ab49d96a93949\"></div>\n",
       "<script type=\"text/javascript\">\n",
       "  (function(spec, embedOpt){\n",
       "    let outputDiv = document.currentScript.previousElementSibling;\n",
       "    if (outputDiv.id !== \"altair-viz-a0a52e7cc8494a15be5ab49d96a93949\") {\n",
       "      outputDiv = document.getElementById(\"altair-viz-a0a52e7cc8494a15be5ab49d96a93949\");\n",
       "    }\n",
       "    const paths = {\n",
       "      \"vega\": \"https://cdn.jsdelivr.net/npm//vega@5?noext\",\n",
       "      \"vega-lib\": \"https://cdn.jsdelivr.net/npm//vega-lib?noext\",\n",
       "      \"vega-lite\": \"https://cdn.jsdelivr.net/npm//vega-lite@4.8.1?noext\",\n",
       "      \"vega-embed\": \"https://cdn.jsdelivr.net/npm//vega-embed@6?noext\",\n",
       "    };\n",
       "\n",
       "    function loadScript(lib) {\n",
       "      return new Promise(function(resolve, reject) {\n",
       "        var s = document.createElement('script');\n",
       "        s.src = paths[lib];\n",
       "        s.async = true;\n",
       "        s.onload = () => resolve(paths[lib]);\n",
       "        s.onerror = () => reject(`Error loading script: ${paths[lib]}`);\n",
       "        document.getElementsByTagName(\"head\")[0].appendChild(s);\n",
       "      });\n",
       "    }\n",
       "\n",
       "    function showError(err) {\n",
       "      outputDiv.innerHTML = `<div class=\"error\" style=\"color:red;\">${err}</div>`;\n",
       "      throw err;\n",
       "    }\n",
       "\n",
       "    function displayChart(vegaEmbed) {\n",
       "      vegaEmbed(outputDiv, spec, embedOpt)\n",
       "        .catch(err => showError(`Javascript Error: ${err.message}<br>This usually means there's a typo in your chart specification. See the javascript console for the full traceback.`));\n",
       "    }\n",
       "\n",
       "    if(typeof define === \"function\" && define.amd) {\n",
       "      requirejs.config({paths});\n",
       "      require([\"vega-embed\"], displayChart, err => showError(`Error loading script: ${err.message}`));\n",
       "    } else if (typeof vegaEmbed === \"function\") {\n",
       "      displayChart(vegaEmbed);\n",
       "    } else {\n",
       "      loadScript(\"vega\")\n",
       "        .then(() => loadScript(\"vega-lite\"))\n",
       "        .then(() => loadScript(\"vega-embed\"))\n",
       "        .catch(showError)\n",
       "        .then(() => displayChart(vegaEmbed));\n",
       "    }\n",
       "  })({\"config\": {\"view\": {\"continuousWidth\": 400, \"continuousHeight\": 300}}, \"data\": {\"name\": \"data-5984d4749ba314d5f5e6cce638a228b0\"}, \"mark\": \"line\", \"encoding\": {\"x\": {\"type\": \"temporal\", \"field\": \"date\"}, \"y\": {\"type\": \"quantitative\", \"field\": \"dom_count\"}}, \"$schema\": \"https://vega.github.io/schema/vega-lite/v4.8.1.json\", \"datasets\": {\"data-5984d4749ba314d5f5e6cce638a228b0\": [{\"date\": \"2020-01-01T00:00:00\", \"dom_count\": 189}, {\"date\": \"2020-01-02T00:00:00\", \"dom_count\": 77}, {\"date\": \"2020-01-03T00:00:00\", \"dom_count\": 101}, {\"date\": \"2020-01-04T00:00:00\", \"dom_count\": 96}, {\"date\": \"2020-01-05T00:00:00\", \"dom_count\": 90}, {\"date\": \"2020-01-06T00:00:00\", \"dom_count\": 87}, {\"date\": \"2020-01-07T00:00:00\", \"dom_count\": 92}, {\"date\": \"2020-01-08T00:00:00\", \"dom_count\": 95}, {\"date\": \"2020-01-09T00:00:00\", \"dom_count\": 91}, {\"date\": \"2020-01-10T00:00:00\", \"dom_count\": 72}, {\"date\": \"2020-01-11T00:00:00\", \"dom_count\": 94}, {\"date\": \"2020-01-12T00:00:00\", \"dom_count\": 116}, {\"date\": \"2020-01-13T00:00:00\", \"dom_count\": 94}, {\"date\": \"2020-01-14T00:00:00\", \"dom_count\": 105}, {\"date\": \"2020-01-15T00:00:00\", \"dom_count\": 82}, {\"date\": \"2020-01-16T00:00:00\", \"dom_count\": 86}, {\"date\": \"2020-01-17T00:00:00\", \"dom_count\": 90}, {\"date\": \"2020-01-18T00:00:00\", \"dom_count\": 97}, {\"date\": \"2020-01-19T00:00:00\", \"dom_count\": 106}, {\"date\": \"2020-01-20T00:00:00\", \"dom_count\": 101}, {\"date\": \"2020-01-21T00:00:00\", \"dom_count\": 105}, {\"date\": \"2020-01-22T00:00:00\", \"dom_count\": 106}, {\"date\": \"2020-01-23T00:00:00\", \"dom_count\": 92}, {\"date\": \"2020-01-24T00:00:00\", \"dom_count\": 100}, {\"date\": \"2020-01-25T00:00:00\", \"dom_count\": 117}, {\"date\": \"2020-01-26T00:00:00\", \"dom_count\": 111}, {\"date\": \"2020-01-27T00:00:00\", \"dom_count\": 93}, {\"date\": \"2020-01-28T00:00:00\", \"dom_count\": 91}, {\"date\": \"2020-01-29T00:00:00\", \"dom_count\": 98}, {\"date\": \"2020-01-30T00:00:00\", \"dom_count\": 96}, {\"date\": \"2020-01-31T00:00:00\", \"dom_count\": 96}, {\"date\": \"2020-02-01T00:00:00\", \"dom_count\": 123}, {\"date\": \"2020-02-02T00:00:00\", \"dom_count\": 118}, {\"date\": \"2020-02-03T00:00:00\", \"dom_count\": 94}, {\"date\": \"2020-02-04T00:00:00\", \"dom_count\": 72}, {\"date\": \"2020-02-05T00:00:00\", \"dom_count\": 76}, {\"date\": \"2020-02-06T00:00:00\", \"dom_count\": 90}, {\"date\": \"2020-02-07T00:00:00\", \"dom_count\": 96}, {\"date\": \"2020-02-08T00:00:00\", \"dom_count\": 131}, {\"date\": \"2020-02-09T00:00:00\", \"dom_count\": 130}, {\"date\": \"2020-02-10T00:00:00\", \"dom_count\": 79}, {\"date\": \"2020-02-11T00:00:00\", \"dom_count\": 89}, {\"date\": \"2020-02-12T00:00:00\", \"dom_count\": 84}, {\"date\": \"2020-02-13T00:00:00\", \"dom_count\": 81}, {\"date\": \"2020-02-14T00:00:00\", \"dom_count\": 94}, {\"date\": \"2020-02-15T00:00:00\", \"dom_count\": 125}, {\"date\": \"2020-02-16T00:00:00\", \"dom_count\": 130}, {\"date\": \"2020-02-17T00:00:00\", \"dom_count\": 105}, {\"date\": \"2020-02-18T00:00:00\", \"dom_count\": 82}, {\"date\": \"2020-02-19T00:00:00\", \"dom_count\": 101}, {\"date\": \"2020-02-20T00:00:00\", \"dom_count\": 91}, {\"date\": \"2020-02-21T00:00:00\", \"dom_count\": 104}, {\"date\": \"2020-02-22T00:00:00\", \"dom_count\": 115}, {\"date\": \"2020-02-23T00:00:00\", \"dom_count\": 121}, {\"date\": \"2020-02-24T00:00:00\", \"dom_count\": 90}, {\"date\": \"2020-02-25T00:00:00\", \"dom_count\": 93}, {\"date\": \"2020-02-26T00:00:00\", \"dom_count\": 110}, {\"date\": \"2020-02-27T00:00:00\", \"dom_count\": 86}, {\"date\": \"2020-02-28T00:00:00\", \"dom_count\": 88}, {\"date\": \"2020-02-29T00:00:00\", \"dom_count\": 113}, {\"date\": \"2020-03-01T00:00:00\", \"dom_count\": 124}, {\"date\": \"2020-03-02T00:00:00\", \"dom_count\": 94}, {\"date\": \"2020-03-03T00:00:00\", \"dom_count\": 72}, {\"date\": \"2020-03-04T00:00:00\", \"dom_count\": 82}, {\"date\": \"2020-03-05T00:00:00\", \"dom_count\": 84}, {\"date\": \"2020-03-06T00:00:00\", \"dom_count\": 88}, {\"date\": \"2020-03-07T00:00:00\", \"dom_count\": 107}, {\"date\": \"2020-03-08T00:00:00\", \"dom_count\": 108}, {\"date\": \"2020-03-09T00:00:00\", \"dom_count\": 105}, {\"date\": \"2020-03-10T00:00:00\", \"dom_count\": 81}, {\"date\": \"2020-03-11T00:00:00\", \"dom_count\": 78}, {\"date\": \"2020-03-12T00:00:00\", \"dom_count\": 96}, {\"date\": \"2020-03-13T00:00:00\", \"dom_count\": 94}, {\"date\": \"2020-03-14T00:00:00\", \"dom_count\": 110}, {\"date\": \"2020-03-15T00:00:00\", \"dom_count\": 132}, {\"date\": \"2020-03-16T00:00:00\", \"dom_count\": 82}, {\"date\": \"2020-03-17T00:00:00\", \"dom_count\": 101}, {\"date\": \"2020-03-18T00:00:00\", \"dom_count\": 95}, {\"date\": \"2020-03-19T00:00:00\", \"dom_count\": 86}, {\"date\": \"2020-03-20T00:00:00\", \"dom_count\": 88}, {\"date\": \"2020-03-21T00:00:00\", \"dom_count\": 122}, {\"date\": \"2020-03-22T00:00:00\", \"dom_count\": 101}, {\"date\": \"2020-03-23T00:00:00\", \"dom_count\": 109}, {\"date\": \"2020-03-24T00:00:00\", \"dom_count\": 121}, {\"date\": \"2020-03-25T00:00:00\", \"dom_count\": 105}, {\"date\": \"2020-03-26T00:00:00\", \"dom_count\": 92}, {\"date\": \"2020-03-27T00:00:00\", \"dom_count\": 111}, {\"date\": \"2020-03-28T00:00:00\", \"dom_count\": 120}, {\"date\": \"2020-03-29T00:00:00\", \"dom_count\": 114}, {\"date\": \"2020-03-30T00:00:00\", \"dom_count\": 77}, {\"date\": \"2020-03-31T00:00:00\", \"dom_count\": 130}, {\"date\": \"2020-04-01T00:00:00\", \"dom_count\": 126}, {\"date\": \"2020-04-02T00:00:00\", \"dom_count\": 115}, {\"date\": \"2020-04-03T00:00:00\", \"dom_count\": 106}, {\"date\": \"2020-04-04T00:00:00\", \"dom_count\": 111}, {\"date\": \"2020-04-05T00:00:00\", \"dom_count\": 127}, {\"date\": \"2020-04-06T00:00:00\", \"dom_count\": 114}, {\"date\": \"2020-04-07T00:00:00\", \"dom_count\": 112}, {\"date\": \"2020-04-08T00:00:00\", \"dom_count\": 128}, {\"date\": \"2020-04-09T00:00:00\", \"dom_count\": 95}, {\"date\": \"2020-04-10T00:00:00\", \"dom_count\": 122}, {\"date\": \"2020-04-11T00:00:00\", \"dom_count\": 100}, {\"date\": \"2020-04-12T00:00:00\", \"dom_count\": 120}, {\"date\": \"2020-04-13T00:00:00\", \"dom_count\": 99}, {\"date\": \"2020-04-14T00:00:00\", \"dom_count\": 99}, {\"date\": \"2020-04-15T00:00:00\", \"dom_count\": 125}, {\"date\": \"2020-04-16T00:00:00\", \"dom_count\": 126}, {\"date\": \"2020-04-17T00:00:00\", \"dom_count\": 95}, {\"date\": \"2020-04-18T00:00:00\", \"dom_count\": 115}, {\"date\": \"2020-04-19T00:00:00\", \"dom_count\": 126}, {\"date\": \"2020-04-20T00:00:00\", \"dom_count\": 120}, {\"date\": \"2020-04-21T00:00:00\", \"dom_count\": 113}, {\"date\": \"2020-04-22T00:00:00\", \"dom_count\": 106}, {\"date\": \"2020-04-23T00:00:00\", \"dom_count\": 123}, {\"date\": \"2020-04-24T00:00:00\", \"dom_count\": 140}, {\"date\": \"2020-04-25T00:00:00\", \"dom_count\": 134}, {\"date\": \"2020-04-26T00:00:00\", \"dom_count\": 142}, {\"date\": \"2020-04-27T00:00:00\", \"dom_count\": 136}, {\"date\": \"2020-04-28T00:00:00\", \"dom_count\": 135}, {\"date\": \"2020-04-29T00:00:00\", \"dom_count\": 103}, {\"date\": \"2020-04-30T00:00:00\", \"dom_count\": 112}, {\"date\": \"2020-05-01T00:00:00\", \"dom_count\": 107}, {\"date\": \"2020-05-02T00:00:00\", \"dom_count\": 128}, {\"date\": \"2020-05-03T00:00:00\", \"dom_count\": 143}, {\"date\": \"2020-05-04T00:00:00\", \"dom_count\": 123}, {\"date\": \"2020-05-05T00:00:00\", \"dom_count\": 115}, {\"date\": \"2020-05-06T00:00:00\", \"dom_count\": 124}, {\"date\": \"2020-05-07T00:00:00\", \"dom_count\": 120}, {\"date\": \"2020-05-08T00:00:00\", \"dom_count\": 115}, {\"date\": \"2020-05-09T00:00:00\", \"dom_count\": 117}, {\"date\": \"2020-05-10T00:00:00\", \"dom_count\": 133}, {\"date\": \"2020-05-11T00:00:00\", \"dom_count\": 85}, {\"date\": \"2020-05-12T00:00:00\", \"dom_count\": 113}, {\"date\": \"2020-05-13T00:00:00\", \"dom_count\": 96}, {\"date\": \"2020-05-14T00:00:00\", \"dom_count\": 101}, {\"date\": \"2020-05-15T00:00:00\", \"dom_count\": 114}, {\"date\": \"2020-05-16T00:00:00\", \"dom_count\": 118}, {\"date\": \"2020-05-17T00:00:00\", \"dom_count\": 133}, {\"date\": \"2020-05-18T00:00:00\", \"dom_count\": 125}, {\"date\": \"2020-05-19T00:00:00\", \"dom_count\": 103}, {\"date\": \"2020-05-20T00:00:00\", \"dom_count\": 86}, {\"date\": \"2020-05-21T00:00:00\", \"dom_count\": 112}, {\"date\": \"2020-05-22T00:00:00\", \"dom_count\": 118}, {\"date\": \"2020-05-23T00:00:00\", \"dom_count\": 131}, {\"date\": \"2020-05-24T00:00:00\", \"dom_count\": 108}, {\"date\": \"2020-05-25T00:00:00\", \"dom_count\": 135}, {\"date\": \"2020-05-26T00:00:00\", \"dom_count\": 123}, {\"date\": \"2020-05-27T00:00:00\", \"dom_count\": 105}, {\"date\": \"2020-05-28T00:00:00\", \"dom_count\": 92}, {\"date\": \"2020-05-29T00:00:00\", \"dom_count\": 125}, {\"date\": \"2020-05-30T00:00:00\", \"dom_count\": 122}, {\"date\": \"2020-05-31T00:00:00\", \"dom_count\": 109}, {\"date\": \"2020-06-01T00:00:00\", \"dom_count\": 89}, {\"date\": \"2020-06-02T00:00:00\", \"dom_count\": 113}, {\"date\": \"2020-06-03T00:00:00\", \"dom_count\": 123}, {\"date\": \"2020-06-04T00:00:00\", \"dom_count\": 118}, {\"date\": \"2020-06-05T00:00:00\", \"dom_count\": 122}, {\"date\": \"2020-06-06T00:00:00\", \"dom_count\": 133}, {\"date\": \"2020-06-07T00:00:00\", \"dom_count\": 114}, {\"date\": \"2020-06-08T00:00:00\", \"dom_count\": 115}, {\"date\": \"2020-06-09T00:00:00\", \"dom_count\": 117}, {\"date\": \"2020-06-10T00:00:00\", \"dom_count\": 109}, {\"date\": \"2020-06-11T00:00:00\", \"dom_count\": 101}, {\"date\": \"2020-06-12T00:00:00\", \"dom_count\": 108}, {\"date\": \"2020-06-13T00:00:00\", \"dom_count\": 117}, {\"date\": \"2020-06-14T00:00:00\", \"dom_count\": 125}, {\"date\": \"2020-06-15T00:00:00\", \"dom_count\": 107}, {\"date\": \"2020-06-16T00:00:00\", \"dom_count\": 82}, {\"date\": \"2020-06-17T00:00:00\", \"dom_count\": 84}, {\"date\": \"2020-06-18T00:00:00\", \"dom_count\": 97}, {\"date\": \"2020-06-19T00:00:00\", \"dom_count\": 119}, {\"date\": \"2020-06-20T00:00:00\", \"dom_count\": 105}, {\"date\": \"2020-06-21T00:00:00\", \"dom_count\": 121}, {\"date\": \"2020-06-22T00:00:00\", \"dom_count\": 106}, {\"date\": \"2020-06-23T00:00:00\", \"dom_count\": 105}, {\"date\": \"2020-06-24T00:00:00\", \"dom_count\": 108}, {\"date\": \"2020-06-25T00:00:00\", \"dom_count\": 111}, {\"date\": \"2020-06-26T00:00:00\", \"dom_count\": 115}, {\"date\": \"2020-06-27T00:00:00\", \"dom_count\": 103}, {\"date\": \"2020-06-28T00:00:00\", \"dom_count\": 116}, {\"date\": \"2020-06-29T00:00:00\", \"dom_count\": 95}, {\"date\": \"2020-06-30T00:00:00\", \"dom_count\": 101}, {\"date\": \"2020-07-01T00:00:00\", \"dom_count\": 102}, {\"date\": \"2020-07-02T00:00:00\", \"dom_count\": 91}, {\"date\": \"2020-07-03T00:00:00\", \"dom_count\": 113}, {\"date\": \"2020-07-04T00:00:00\", \"dom_count\": 98}, {\"date\": \"2020-07-05T00:00:00\", \"dom_count\": 124}, {\"date\": \"2020-07-06T00:00:00\", \"dom_count\": 101}, {\"date\": \"2020-07-07T00:00:00\", \"dom_count\": 100}, {\"date\": \"2020-07-08T00:00:00\", \"dom_count\": 98}, {\"date\": \"2020-07-09T00:00:00\", \"dom_count\": 108}, {\"date\": \"2020-07-10T00:00:00\", \"dom_count\": 97}, {\"date\": \"2020-07-11T00:00:00\", \"dom_count\": 134}, {\"date\": \"2020-07-12T00:00:00\", \"dom_count\": 158}, {\"date\": \"2020-07-13T00:00:00\", \"dom_count\": 113}, {\"date\": \"2020-07-14T00:00:00\", \"dom_count\": 108}, {\"date\": \"2020-07-15T00:00:00\", \"dom_count\": 114}, {\"date\": \"2020-07-16T00:00:00\", \"dom_count\": 112}, {\"date\": \"2020-07-17T00:00:00\", \"dom_count\": 75}, {\"date\": \"2020-07-18T00:00:00\", \"dom_count\": 111}, {\"date\": \"2020-07-19T00:00:00\", \"dom_count\": 134}, {\"date\": \"2020-07-20T00:00:00\", \"dom_count\": 120}, {\"date\": \"2020-07-21T00:00:00\", \"dom_count\": 102}, {\"date\": \"2020-07-22T00:00:00\", \"dom_count\": 95}, {\"date\": \"2020-07-23T00:00:00\", \"dom_count\": 95}, {\"date\": \"2020-07-24T00:00:00\", \"dom_count\": 111}, {\"date\": \"2020-07-25T00:00:00\", \"dom_count\": 138}, {\"date\": \"2020-07-26T00:00:00\", \"dom_count\": 116}, {\"date\": \"2020-07-27T00:00:00\", \"dom_count\": 108}, {\"date\": \"2020-07-28T00:00:00\", \"dom_count\": 103}, {\"date\": \"2020-07-29T00:00:00\", \"dom_count\": 94}, {\"date\": \"2020-07-30T00:00:00\", \"dom_count\": 107}, {\"date\": \"2020-07-31T00:00:00\", \"dom_count\": 123}, {\"date\": \"2020-08-01T00:00:00\", \"dom_count\": 113}, {\"date\": \"2020-08-02T00:00:00\", \"dom_count\": 143}, {\"date\": \"2020-08-03T00:00:00\", \"dom_count\": 94}, {\"date\": \"2020-08-04T00:00:00\", \"dom_count\": 110}, {\"date\": \"2020-08-05T00:00:00\", \"dom_count\": 109}, {\"date\": \"2020-08-06T00:00:00\", \"dom_count\": 98}, {\"date\": \"2020-08-07T00:00:00\", \"dom_count\": 102}, {\"date\": \"2020-08-08T00:00:00\", \"dom_count\": 119}, {\"date\": \"2020-08-09T00:00:00\", \"dom_count\": 126}, {\"date\": \"2020-08-10T00:00:00\", \"dom_count\": 97}, {\"date\": \"2020-08-11T00:00:00\", \"dom_count\": 94}, {\"date\": \"2020-08-12T00:00:00\", \"dom_count\": 104}, {\"date\": \"2020-08-13T00:00:00\", \"dom_count\": 108}, {\"date\": \"2020-08-14T00:00:00\", \"dom_count\": 107}, {\"date\": \"2020-08-15T00:00:00\", \"dom_count\": 125}, {\"date\": \"2020-08-16T00:00:00\", \"dom_count\": 126}, {\"date\": \"2020-08-17T00:00:00\", \"dom_count\": 125}, {\"date\": \"2020-08-18T00:00:00\", \"dom_count\": 126}, {\"date\": \"2020-08-19T00:00:00\", \"dom_count\": 109}, {\"date\": \"2020-08-20T00:00:00\", \"dom_count\": 116}, {\"date\": \"2020-08-21T00:00:00\", \"dom_count\": 126}, {\"date\": \"2020-08-22T00:00:00\", \"dom_count\": 153}, {\"date\": \"2020-08-23T00:00:00\", \"dom_count\": 119}, {\"date\": \"2020-08-24T00:00:00\", \"dom_count\": 106}, {\"date\": \"2020-08-25T00:00:00\", \"dom_count\": 122}, {\"date\": \"2020-08-26T00:00:00\", \"dom_count\": 92}, {\"date\": \"2020-08-27T00:00:00\", \"dom_count\": 87}, {\"date\": \"2020-08-28T00:00:00\", \"dom_count\": 93}, {\"date\": \"2020-08-29T00:00:00\", \"dom_count\": 130}, {\"date\": \"2020-08-30T00:00:00\", \"dom_count\": 122}, {\"date\": \"2020-08-31T00:00:00\", \"dom_count\": 78}, {\"date\": \"2020-09-01T00:00:00\", \"dom_count\": 112}, {\"date\": \"2020-09-02T00:00:00\", \"dom_count\": 95}, {\"date\": \"2020-09-03T00:00:00\", \"dom_count\": 88}, {\"date\": \"2020-09-04T00:00:00\", \"dom_count\": 100}, {\"date\": \"2020-09-05T00:00:00\", \"dom_count\": 116}, {\"date\": \"2020-09-06T00:00:00\", \"dom_count\": 133}, {\"date\": \"2020-09-07T00:00:00\", \"dom_count\": 144}, {\"date\": \"2020-09-08T00:00:00\", \"dom_count\": 108}, {\"date\": \"2020-09-09T00:00:00\", \"dom_count\": 99}, {\"date\": \"2020-09-10T00:00:00\", \"dom_count\": 103}, {\"date\": \"2020-09-11T00:00:00\", \"dom_count\": 101}, {\"date\": \"2020-09-12T00:00:00\", \"dom_count\": 123}, {\"date\": \"2020-09-13T00:00:00\", \"dom_count\": 144}, {\"date\": \"2020-09-14T00:00:00\", \"dom_count\": 113}, {\"date\": \"2020-09-15T00:00:00\", \"dom_count\": 113}, {\"date\": \"2020-09-16T00:00:00\", \"dom_count\": 123}, {\"date\": \"2020-09-17T00:00:00\", \"dom_count\": 115}, {\"date\": \"2020-09-18T00:00:00\", \"dom_count\": 111}, {\"date\": \"2020-09-19T00:00:00\", \"dom_count\": 130}, {\"date\": \"2020-09-20T00:00:00\", \"dom_count\": 137}, {\"date\": \"2020-09-21T00:00:00\", \"dom_count\": 109}, {\"date\": \"2020-09-22T00:00:00\", \"dom_count\": 108}, {\"date\": \"2020-09-23T00:00:00\", \"dom_count\": 118}, {\"date\": \"2020-09-24T00:00:00\", \"dom_count\": 117}, {\"date\": \"2020-09-25T00:00:00\", \"dom_count\": 103}, {\"date\": \"2020-09-26T00:00:00\", \"dom_count\": 109}, {\"date\": \"2020-09-27T00:00:00\", \"dom_count\": 118}, {\"date\": \"2020-09-28T00:00:00\", \"dom_count\": 133}, {\"date\": \"2020-09-29T00:00:00\", \"dom_count\": 103}, {\"date\": \"2020-09-30T00:00:00\", \"dom_count\": 103}, {\"date\": \"2020-10-01T00:00:00\", \"dom_count\": 97}, {\"date\": \"2020-10-02T00:00:00\", \"dom_count\": 116}, {\"date\": \"2020-10-03T00:00:00\", \"dom_count\": 117}, {\"date\": \"2020-10-04T00:00:00\", \"dom_count\": 140}, {\"date\": \"2020-10-05T00:00:00\", \"dom_count\": 98}, {\"date\": \"2020-10-06T00:00:00\", \"dom_count\": 118}, {\"date\": \"2020-10-07T00:00:00\", \"dom_count\": 115}, {\"date\": \"2020-10-08T00:00:00\", \"dom_count\": 104}, {\"date\": \"2020-10-09T00:00:00\", \"dom_count\": 117}, {\"date\": \"2020-10-10T00:00:00\", \"dom_count\": 106}, {\"date\": \"2020-10-11T00:00:00\", \"dom_count\": 108}, {\"date\": \"2020-10-12T00:00:00\", \"dom_count\": 96}, {\"date\": \"2020-10-13T00:00:00\", \"dom_count\": 122}, {\"date\": \"2020-10-14T00:00:00\", \"dom_count\": 100}, {\"date\": \"2020-10-15T00:00:00\", \"dom_count\": 87}, {\"date\": \"2020-10-16T00:00:00\", \"dom_count\": 125}, {\"date\": \"2020-10-17T00:00:00\", \"dom_count\": 109}, {\"date\": \"2020-10-18T00:00:00\", \"dom_count\": 140}, {\"date\": \"2020-10-19T00:00:00\", \"dom_count\": 84}, {\"date\": \"2020-10-20T00:00:00\", \"dom_count\": 105}, {\"date\": \"2020-10-21T00:00:00\", \"dom_count\": 100}, {\"date\": \"2020-10-22T00:00:00\", \"dom_count\": 113}, {\"date\": \"2020-10-23T00:00:00\", \"dom_count\": 90}, {\"date\": \"2020-10-24T00:00:00\", \"dom_count\": 116}, {\"date\": \"2020-10-25T00:00:00\", \"dom_count\": 121}, {\"date\": \"2020-10-26T00:00:00\", \"dom_count\": 93}, {\"date\": \"2020-10-27T00:00:00\", \"dom_count\": 89}, {\"date\": \"2020-10-28T00:00:00\", \"dom_count\": 113}, {\"date\": \"2020-10-29T00:00:00\", \"dom_count\": 99}, {\"date\": \"2020-10-30T00:00:00\", \"dom_count\": 108}, {\"date\": \"2020-10-31T00:00:00\", \"dom_count\": 127}, {\"date\": \"2020-11-01T00:00:00\", \"dom_count\": 126}, {\"date\": \"2020-11-02T00:00:00\", \"dom_count\": 123}, {\"date\": \"2020-11-03T00:00:00\", \"dom_count\": 137}, {\"date\": \"2020-11-04T00:00:00\", \"dom_count\": 104}, {\"date\": \"2020-11-05T00:00:00\", \"dom_count\": 103}, {\"date\": \"2020-11-06T00:00:00\", \"dom_count\": 98}, {\"date\": \"2020-11-07T00:00:00\", \"dom_count\": 118}, {\"date\": \"2020-11-08T00:00:00\", \"dom_count\": 125}, {\"date\": \"2020-11-09T00:00:00\", \"dom_count\": 93}, {\"date\": \"2020-11-10T00:00:00\", \"dom_count\": 109}, {\"date\": \"2020-11-11T00:00:00\", \"dom_count\": 112}, {\"date\": \"2020-11-12T00:00:00\", \"dom_count\": 85}, {\"date\": \"2020-11-13T00:00:00\", \"dom_count\": 108}, {\"date\": \"2020-11-14T00:00:00\", \"dom_count\": 110}, {\"date\": \"2020-11-15T00:00:00\", \"dom_count\": 116}, {\"date\": \"2020-11-16T00:00:00\", \"dom_count\": 110}, {\"date\": \"2020-11-17T00:00:00\", \"dom_count\": 110}, {\"date\": \"2020-11-18T00:00:00\", \"dom_count\": 96}, {\"date\": \"2020-11-19T00:00:00\", \"dom_count\": 89}, {\"date\": \"2020-11-20T00:00:00\", \"dom_count\": 119}, {\"date\": \"2020-11-21T00:00:00\", \"dom_count\": 132}, {\"date\": \"2020-11-22T00:00:00\", \"dom_count\": 128}, {\"date\": \"2020-11-23T00:00:00\", \"dom_count\": 119}, {\"date\": \"2020-11-24T00:00:00\", \"dom_count\": 86}, {\"date\": \"2020-11-25T00:00:00\", \"dom_count\": 106}, {\"date\": \"2020-11-26T00:00:00\", \"dom_count\": 120}, {\"date\": \"2020-11-27T00:00:00\", \"dom_count\": 101}, {\"date\": \"2020-11-28T00:00:00\", \"dom_count\": 99}, {\"date\": \"2020-11-29T00:00:00\", \"dom_count\": 125}, {\"date\": \"2020-11-30T00:00:00\", \"dom_count\": 117}, {\"date\": \"2020-12-01T00:00:00\", \"dom_count\": 104}, {\"date\": \"2020-12-02T00:00:00\", \"dom_count\": 99}, {\"date\": \"2020-12-03T00:00:00\", \"dom_count\": 96}, {\"date\": \"2020-12-04T00:00:00\", \"dom_count\": 89}, {\"date\": \"2020-12-05T00:00:00\", \"dom_count\": 104}, {\"date\": \"2020-12-06T00:00:00\", \"dom_count\": 116}, {\"date\": \"2020-12-07T00:00:00\", \"dom_count\": 98}, {\"date\": \"2020-12-08T00:00:00\", \"dom_count\": 108}, {\"date\": \"2020-12-09T00:00:00\", \"dom_count\": 78}, {\"date\": \"2020-12-10T00:00:00\", \"dom_count\": 94}, {\"date\": \"2020-12-11T00:00:00\", \"dom_count\": 101}, {\"date\": \"2020-12-12T00:00:00\", \"dom_count\": 104}, {\"date\": \"2020-12-13T00:00:00\", \"dom_count\": 97}, {\"date\": \"2020-12-14T00:00:00\", \"dom_count\": 115}, {\"date\": \"2020-12-15T00:00:00\", \"dom_count\": 101}, {\"date\": \"2020-12-16T00:00:00\", \"dom_count\": 79}, {\"date\": \"2020-12-17T00:00:00\", \"dom_count\": 81}, {\"date\": \"2020-12-18T00:00:00\", \"dom_count\": 93}, {\"date\": \"2020-12-19T00:00:00\", \"dom_count\": 103}, {\"date\": \"2020-12-20T00:00:00\", \"dom_count\": 133}, {\"date\": \"2020-12-21T00:00:00\", \"dom_count\": 113}, {\"date\": \"2020-12-22T00:00:00\", \"dom_count\": 112}, {\"date\": \"2020-12-23T00:00:00\", \"dom_count\": 101}, {\"date\": \"2020-12-24T00:00:00\", \"dom_count\": 84}, {\"date\": \"2020-12-25T00:00:00\", \"dom_count\": 144}, {\"date\": \"2020-12-26T00:00:00\", \"dom_count\": 95}, {\"date\": \"2020-12-27T00:00:00\", \"dom_count\": 896}, {\"date\": \"2020-12-28T00:00:00\", \"dom_count\": 560}, {\"date\": \"2020-12-29T00:00:00\", \"dom_count\": 553}, {\"date\": \"2020-12-30T00:00:00\", \"dom_count\": 693}, {\"date\": \"2020-12-31T00:00:00\", \"dom_count\": 707}]}}, {\"mode\": \"vega-lite\"});\n",
       "</script>"
      ],
      "text/plain": [
       "alt.Chart(...)"
      ]
     },
     "execution_count": 83,
     "metadata": {},
     "output_type": "execute_result"
    }
   ],
   "source": [
    "alt.Chart(dom_grp_2020).mark_line().encode(x=\"date:T\", y=\"dom_count\")"
   ]
  },
  {
   "cell_type": "code",
   "execution_count": 84,
   "metadata": {},
   "outputs": [
    {
     "data": {
      "text/html": [
       "<div>\n",
       "<style scoped>\n",
       "    .dataframe tbody tr th:only-of-type {\n",
       "        vertical-align: middle;\n",
       "    }\n",
       "\n",
       "    .dataframe tbody tr th {\n",
       "        vertical-align: top;\n",
       "    }\n",
       "\n",
       "    .dataframe thead th {\n",
       "        text-align: right;\n",
       "    }\n",
       "</style>\n",
       "<table border=\"1\" class=\"dataframe\">\n",
       "  <thead>\n",
       "    <tr style=\"text-align: right;\">\n",
       "      <th></th>\n",
       "      <th>date</th>\n",
       "      <th>dom_count</th>\n",
       "    </tr>\n",
       "  </thead>\n",
       "  <tbody>\n",
       "    <tr>\n",
       "      <th>361</th>\n",
       "      <td>2020-12-27</td>\n",
       "      <td>896</td>\n",
       "    </tr>\n",
       "    <tr>\n",
       "      <th>365</th>\n",
       "      <td>2020-12-31</td>\n",
       "      <td>707</td>\n",
       "    </tr>\n",
       "    <tr>\n",
       "      <th>364</th>\n",
       "      <td>2020-12-30</td>\n",
       "      <td>693</td>\n",
       "    </tr>\n",
       "    <tr>\n",
       "      <th>362</th>\n",
       "      <td>2020-12-28</td>\n",
       "      <td>560</td>\n",
       "    </tr>\n",
       "    <tr>\n",
       "      <th>363</th>\n",
       "      <td>2020-12-29</td>\n",
       "      <td>553</td>\n",
       "    </tr>\n",
       "    <tr>\n",
       "      <th>0</th>\n",
       "      <td>2020-01-01</td>\n",
       "      <td>189</td>\n",
       "    </tr>\n",
       "    <tr>\n",
       "      <th>193</th>\n",
       "      <td>2020-07-12</td>\n",
       "      <td>158</td>\n",
       "    </tr>\n",
       "    <tr>\n",
       "      <th>234</th>\n",
       "      <td>2020-08-22</td>\n",
       "      <td>153</td>\n",
       "    </tr>\n",
       "    <tr>\n",
       "      <th>256</th>\n",
       "      <td>2020-09-13</td>\n",
       "      <td>144</td>\n",
       "    </tr>\n",
       "    <tr>\n",
       "      <th>250</th>\n",
       "      <td>2020-09-07</td>\n",
       "      <td>144</td>\n",
       "    </tr>\n",
       "    <tr>\n",
       "      <th>359</th>\n",
       "      <td>2020-12-25</td>\n",
       "      <td>144</td>\n",
       "    </tr>\n",
       "    <tr>\n",
       "      <th>214</th>\n",
       "      <td>2020-08-02</td>\n",
       "      <td>143</td>\n",
       "    </tr>\n",
       "    <tr>\n",
       "      <th>123</th>\n",
       "      <td>2020-05-03</td>\n",
       "      <td>143</td>\n",
       "    </tr>\n",
       "    <tr>\n",
       "      <th>116</th>\n",
       "      <td>2020-04-26</td>\n",
       "      <td>142</td>\n",
       "    </tr>\n",
       "    <tr>\n",
       "      <th>114</th>\n",
       "      <td>2020-04-24</td>\n",
       "      <td>140</td>\n",
       "    </tr>\n",
       "    <tr>\n",
       "      <th>291</th>\n",
       "      <td>2020-10-18</td>\n",
       "      <td>140</td>\n",
       "    </tr>\n",
       "    <tr>\n",
       "      <th>277</th>\n",
       "      <td>2020-10-04</td>\n",
       "      <td>140</td>\n",
       "    </tr>\n",
       "    <tr>\n",
       "      <th>206</th>\n",
       "      <td>2020-07-25</td>\n",
       "      <td>138</td>\n",
       "    </tr>\n",
       "    <tr>\n",
       "      <th>263</th>\n",
       "      <td>2020-09-20</td>\n",
       "      <td>137</td>\n",
       "    </tr>\n",
       "    <tr>\n",
       "      <th>307</th>\n",
       "      <td>2020-11-03</td>\n",
       "      <td>137</td>\n",
       "    </tr>\n",
       "  </tbody>\n",
       "</table>\n",
       "</div>"
      ],
      "text/plain": [
       "          date  dom_count\n",
       "361 2020-12-27        896\n",
       "365 2020-12-31        707\n",
       "364 2020-12-30        693\n",
       "362 2020-12-28        560\n",
       "363 2020-12-29        553\n",
       "0   2020-01-01        189\n",
       "193 2020-07-12        158\n",
       "234 2020-08-22        153\n",
       "256 2020-09-13        144\n",
       "250 2020-09-07        144\n",
       "359 2020-12-25        144\n",
       "214 2020-08-02        143\n",
       "123 2020-05-03        143\n",
       "116 2020-04-26        142\n",
       "114 2020-04-24        140\n",
       "291 2020-10-18        140\n",
       "277 2020-10-04        140\n",
       "206 2020-07-25        138\n",
       "263 2020-09-20        137\n",
       "307 2020-11-03        137"
      ]
     },
     "execution_count": 84,
     "metadata": {},
     "output_type": "execute_result"
    }
   ],
   "source": [
    "dom_grp_2020.sort_values(\"dom_count\", ascending=False).head(20)"
   ]
  },
  {
   "cell_type": "markdown",
   "metadata": {},
   "source": [
    "### Export"
   ]
  },
  {
   "cell_type": "code",
   "execution_count": 85,
   "metadata": {},
   "outputs": [],
   "source": [
    "domestic.to_csv(\n",
    "    \"output/domestic_violence_calls_2017-2021.csv\",\n",
    "    index=None,\n",
    ")"
   ]
  },
  {
   "cell_type": "code",
   "execution_count": 86,
   "metadata": {},
   "outputs": [],
   "source": [
    "dom_grp.to_csv(\n",
    "    \"output/domestic_violence_calls_2012-2021_grouped.csv\",\n",
    "    index=None,\n",
    ")"
   ]
  },
  {
   "cell_type": "code",
   "execution_count": 87,
   "metadata": {},
   "outputs": [],
   "source": [
    "merged.to_csv(\n",
    "    \"output/calls_2012-2021_grouped.csv\",\n",
    "    index=None,\n",
    ")"
   ]
  }
 ],
 "metadata": {
  "kernelspec": {
   "display_name": "Python 3 (ipykernel)",
   "language": "python",
   "name": "python3"
  },
  "language_info": {
   "codemirror_mode": {
    "name": "ipython",
    "version": 3
   },
   "file_extension": ".py",
   "mimetype": "text/x-python",
   "name": "python",
   "nbconvert_exporter": "python",
   "pygments_lexer": "ipython3",
   "version": "3.8.11"
  }
 },
 "nbformat": 4,
 "nbformat_minor": 4
}
