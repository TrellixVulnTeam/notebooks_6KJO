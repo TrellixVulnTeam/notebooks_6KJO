{
 "cells": [
  {
   "cell_type": "markdown",
   "metadata": {},
   "source": [
    "# LAPD calls for service: Domestic violence cases"
   ]
  },
  {
   "cell_type": "code",
   "execution_count": 1,
   "metadata": {},
   "outputs": [],
   "source": [
    "%load_ext lab_black"
   ]
  },
  {
   "cell_type": "code",
   "execution_count": 2,
   "metadata": {},
   "outputs": [],
   "source": [
    "import json\n",
    "import glob\n",
    "import io\n",
    "import os\n",
    "import pandas as pd\n",
    "import numpy as np\n",
    "import altair as alt\n",
    "import altair_latimes as lat\n",
    "\n",
    "pd.options.display.max_columns = 50\n",
    "pd.options.display.max_rows = 50"
   ]
  },
  {
   "cell_type": "markdown",
   "metadata": {},
   "source": [
    "### URL codes for City of LA open data portal"
   ]
  },
  {
   "cell_type": "code",
   "execution_count": 3,
   "metadata": {},
   "outputs": [],
   "source": [
    "codes = [\n",
    "    \"r4ka-x5je\",\n",
    "    \"nayp-w2tw\",\n",
    "    \"ryvm-a59m\",\n",
    "    \"xwgr-xw5q\",\n",
    "    \"tss8-455b\",\n",
    "    \"mgue-vbsx\",\n",
    "    \"urhh-yf63\",\n",
    "    \"i7pm-cnmm\",\n",
    "    \"4tmc-7r6g\",\n",
    "    \"iy4q-t9vr\",\n",
    "]"
   ]
  },
  {
   "cell_type": "markdown",
   "metadata": {},
   "source": [
    "### Download historic csvs from data portal by looping over codes"
   ]
  },
  {
   "cell_type": "code",
   "execution_count": 4,
   "metadata": {},
   "outputs": [],
   "source": [
    "# for c in codes:\n",
    "#     !wget 'https://data.lacity.org/api/views/{c}/rows.csv?accessType=DOWNLOAD' \\\n",
    "#     -P /Users/mhustiles/data/LAPD/"
   ]
  },
  {
   "cell_type": "markdown",
   "metadata": {},
   "source": [
    "### Read the most recent year of calls"
   ]
  },
  {
   "cell_type": "code",
   "execution_count": 5,
   "metadata": {},
   "outputs": [],
   "source": [
    "dtypes = {\"Incident_Number\": str, \"Area_Occ\": str, \"Rpt_Dist\": str}\n",
    "\n",
    "la_current = pd.read_csv(\n",
    "    \"https://data.lacity.org/api/views/cibt-wiru/rows.csv?accessType=DOWNLOAD\",\n",
    "    dtype=dtypes,\n",
    "    parse_dates=True,\n",
    ")"
   ]
  },
  {
   "cell_type": "markdown",
   "metadata": {},
   "source": [
    "### Read the files for past years"
   ]
  },
  {
   "cell_type": "code",
   "execution_count": 6,
   "metadata": {},
   "outputs": [],
   "source": [
    "path = \"/Users/mhustiles/data/LAPD/calls-for-service/\"\n",
    "files = glob.glob(os.path.join(path, \"*.csv\"))"
   ]
  },
  {
   "cell_type": "code",
   "execution_count": 7,
   "metadata": {},
   "outputs": [],
   "source": [
    "file_df = (\n",
    "    pd.read_csv(f, encoding=\"ISO-8859-1\", low_memory=False).assign(\n",
    "        year=os.path.basename(f)\n",
    "    )\n",
    "    for f in files\n",
    ")"
   ]
  },
  {
   "cell_type": "markdown",
   "metadata": {},
   "source": [
    "### Concatenate everything"
   ]
  },
  {
   "cell_type": "code",
   "execution_count": 8,
   "metadata": {},
   "outputs": [],
   "source": [
    "la_past = pd.concat(file_df, ignore_index=True)"
   ]
  },
  {
   "cell_type": "code",
   "execution_count": 138,
   "metadata": {},
   "outputs": [],
   "source": [
    "df = pd.concat([la_current, la_past]).drop([\"year\"], axis=1)"
   ]
  },
  {
   "cell_type": "markdown",
   "metadata": {},
   "source": [
    "### Clean up column names and dates/times"
   ]
  },
  {
   "cell_type": "code",
   "execution_count": 139,
   "metadata": {},
   "outputs": [],
   "source": [
    "df.rename(\n",
    "    columns={\n",
    "        \"Incident_Number\": \"incident_id\",\n",
    "        \"Area_Occ\": \"area\",\n",
    "        \"Rpt_Dist\": \"district\",\n",
    "        \"Dispatch_Date\": \"datetime\",\n",
    "        \"Dispatch_Time\": \"time\",\n",
    "        \"Call_Type_Code\": \"type_code\",\n",
    "        \"Call_Type_Text\": \"type_description\",\n",
    "    },\n",
    "    inplace=True,\n",
    ")"
   ]
  },
  {
   "cell_type": "code",
   "execution_count": 140,
   "metadata": {},
   "outputs": [],
   "source": [
    "df[\"date\"] = df[\"datetime\"].str.replace(\" 12:00:00 AM\", \"\", regex=False)"
   ]
  },
  {
   "cell_type": "code",
   "execution_count": 141,
   "metadata": {},
   "outputs": [],
   "source": [
    "df[\"date\"] = pd.to_datetime(df[\"date\"], format=\"%m/%d/%Y\")\n",
    "df[\"time\"] = pd.to_datetime(df[\"time\"], format=\"%H:%M:%S\")"
   ]
  },
  {
   "cell_type": "code",
   "execution_count": 142,
   "metadata": {},
   "outputs": [],
   "source": [
    "df[\"year\"] = df[\"date\"].dt.year\n",
    "df[\"date\"] = df[\"date\"].dt.date\n",
    "df[\"time\"] = df[\"time\"].dt.time"
   ]
  },
  {
   "cell_type": "code",
   "execution_count": 143,
   "metadata": {},
   "outputs": [],
   "source": [
    "df.drop([\"datetime\"], axis=1, inplace=True)"
   ]
  },
  {
   "cell_type": "markdown",
   "metadata": {
    "tags": []
   },
   "source": [
    "### Get rid of calls 'outside' LAPD jurisdiction"
   ]
  },
  {
   "cell_type": "code",
   "execution_count": 144,
   "metadata": {},
   "outputs": [],
   "source": [
    "df = df[df[\"area\"] != \"Outside\"]"
   ]
  },
  {
   "cell_type": "markdown",
   "metadata": {},
   "source": [
    "### How many records? "
   ]
  },
  {
   "cell_type": "code",
   "execution_count": 145,
   "metadata": {},
   "outputs": [
    {
     "data": {
      "text/plain": [
       "9871273"
      ]
     },
     "execution_count": 145,
     "metadata": {},
     "output_type": "execute_result"
    }
   ],
   "source": [
    "len(df)"
   ]
  },
  {
   "cell_type": "code",
   "execution_count": 146,
   "metadata": {},
   "outputs": [
    {
     "data": {
      "text/html": [
       "<div>\n",
       "<style scoped>\n",
       "    .dataframe tbody tr th:only-of-type {\n",
       "        vertical-align: middle;\n",
       "    }\n",
       "\n",
       "    .dataframe tbody tr th {\n",
       "        vertical-align: top;\n",
       "    }\n",
       "\n",
       "    .dataframe thead th {\n",
       "        text-align: right;\n",
       "    }\n",
       "</style>\n",
       "<table border=\"1\" class=\"dataframe\">\n",
       "  <thead>\n",
       "    <tr style=\"text-align: right;\">\n",
       "      <th></th>\n",
       "      <th>incident_id</th>\n",
       "      <th>area</th>\n",
       "      <th>district</th>\n",
       "      <th>time</th>\n",
       "      <th>type_code</th>\n",
       "      <th>type_description</th>\n",
       "      <th>date</th>\n",
       "      <th>year</th>\n",
       "    </tr>\n",
       "  </thead>\n",
       "  <tbody>\n",
       "    <tr>\n",
       "      <th>0</th>\n",
       "      <td>PD21051600004112</td>\n",
       "      <td>77th Street</td>\n",
       "      <td>1205</td>\n",
       "      <td>21:00:37</td>\n",
       "      <td>9212</td>\n",
       "      <td>TRESPASS SUSP</td>\n",
       "      <td>2021-05-16</td>\n",
       "      <td>2021</td>\n",
       "    </tr>\n",
       "    <tr>\n",
       "      <th>1</th>\n",
       "      <td>PD21021200001741</td>\n",
       "      <td>West LA</td>\n",
       "      <td>0829</td>\n",
       "      <td>10:57:16</td>\n",
       "      <td>906B1</td>\n",
       "      <td>CODE 30 RINGER</td>\n",
       "      <td>2021-02-12</td>\n",
       "      <td>2021</td>\n",
       "    </tr>\n",
       "    <tr>\n",
       "      <th>2</th>\n",
       "      <td>PD21040200002194</td>\n",
       "      <td>Hollywood</td>\n",
       "      <td>0642</td>\n",
       "      <td>13:24:20</td>\n",
       "      <td>459I</td>\n",
       "      <td>INVEST</td>\n",
       "      <td>2021-04-02</td>\n",
       "      <td>2021</td>\n",
       "    </tr>\n",
       "    <tr>\n",
       "      <th>3</th>\n",
       "      <td>PD21042300002656</td>\n",
       "      <td>Mission</td>\n",
       "      <td>1956</td>\n",
       "      <td>14:49:35</td>\n",
       "      <td>006</td>\n",
       "      <td>CODE 6</td>\n",
       "      <td>2021-04-23</td>\n",
       "      <td>2021</td>\n",
       "    </tr>\n",
       "    <tr>\n",
       "      <th>4</th>\n",
       "      <td>PD21040500001095</td>\n",
       "      <td>Hollenbeck</td>\n",
       "      <td>0448</td>\n",
       "      <td>08:11:59</td>\n",
       "      <td>459I</td>\n",
       "      <td>INVEST</td>\n",
       "      <td>2021-04-05</td>\n",
       "      <td>2021</td>\n",
       "    </tr>\n",
       "  </tbody>\n",
       "</table>\n",
       "</div>"
      ],
      "text/plain": [
       "        incident_id         area district      time type_code  \\\n",
       "0  PD21051600004112  77th Street     1205  21:00:37      9212   \n",
       "1  PD21021200001741      West LA     0829  10:57:16     906B1   \n",
       "2  PD21040200002194    Hollywood     0642  13:24:20      459I   \n",
       "3  PD21042300002656      Mission     1956  14:49:35       006   \n",
       "4  PD21040500001095   Hollenbeck     0448  08:11:59      459I   \n",
       "\n",
       "  type_description        date  year  \n",
       "0    TRESPASS SUSP  2021-05-16  2021  \n",
       "1   CODE 30 RINGER  2021-02-12  2021  \n",
       "2           INVEST  2021-04-02  2021  \n",
       "3           CODE 6  2021-04-23  2021  \n",
       "4           INVEST  2021-04-05  2021  "
      ]
     },
     "execution_count": 146,
     "metadata": {},
     "output_type": "execute_result"
    }
   ],
   "source": [
    "df.head()"
   ]
  },
  {
   "cell_type": "code",
   "execution_count": 147,
   "metadata": {},
   "outputs": [],
   "source": [
    "def per_day(row):\n",
    "    if row[\"year\"] <= 2020:\n",
    "        return (row[\"all_calls_count\"] / 365.25).round(0)\n",
    "    else:\n",
    "        return (row[\"all_calls_count\"] / elapsed).round(0)"
   ]
  },
  {
   "cell_type": "code",
   "execution_count": 148,
   "metadata": {},
   "outputs": [],
   "source": [
    "df_grp = (df.groupby([\"year\"]).agg({\"incident_id\": \"count\"}).reset_index()).rename(\n",
    "    columns={\"incident_id\": \"all_calls_count\"}\n",
    ")"
   ]
  },
  {
   "cell_type": "code",
   "execution_count": 149,
   "metadata": {},
   "outputs": [],
   "source": [
    "df_grp[\"call_per_day\"] = df_grp.apply(per_day, axis=1)"
   ]
  },
  {
   "cell_type": "code",
   "execution_count": 150,
   "metadata": {},
   "outputs": [
    {
     "data": {
      "text/html": [
       "<div>\n",
       "<style scoped>\n",
       "    .dataframe tbody tr th:only-of-type {\n",
       "        vertical-align: middle;\n",
       "    }\n",
       "\n",
       "    .dataframe tbody tr th {\n",
       "        vertical-align: top;\n",
       "    }\n",
       "\n",
       "    .dataframe thead th {\n",
       "        text-align: right;\n",
       "    }\n",
       "</style>\n",
       "<table border=\"1\" class=\"dataframe\">\n",
       "  <thead>\n",
       "    <tr style=\"text-align: right;\">\n",
       "      <th></th>\n",
       "      <th>year</th>\n",
       "      <th>all_calls_count</th>\n",
       "      <th>call_per_day</th>\n",
       "    </tr>\n",
       "  </thead>\n",
       "  <tbody>\n",
       "    <tr>\n",
       "      <th>0</th>\n",
       "      <td>2012</td>\n",
       "      <td>923246</td>\n",
       "      <td>2528.0</td>\n",
       "    </tr>\n",
       "    <tr>\n",
       "      <th>1</th>\n",
       "      <td>2013</td>\n",
       "      <td>901401</td>\n",
       "      <td>2468.0</td>\n",
       "    </tr>\n",
       "    <tr>\n",
       "      <th>2</th>\n",
       "      <td>2014</td>\n",
       "      <td>932781</td>\n",
       "      <td>2554.0</td>\n",
       "    </tr>\n",
       "    <tr>\n",
       "      <th>3</th>\n",
       "      <td>2015</td>\n",
       "      <td>961870</td>\n",
       "      <td>2633.0</td>\n",
       "    </tr>\n",
       "    <tr>\n",
       "      <th>4</th>\n",
       "      <td>2016</td>\n",
       "      <td>1016874</td>\n",
       "      <td>2784.0</td>\n",
       "    </tr>\n",
       "    <tr>\n",
       "      <th>5</th>\n",
       "      <td>2017</td>\n",
       "      <td>1048989</td>\n",
       "      <td>2872.0</td>\n",
       "    </tr>\n",
       "    <tr>\n",
       "      <th>6</th>\n",
       "      <td>2018</td>\n",
       "      <td>1114791</td>\n",
       "      <td>3052.0</td>\n",
       "    </tr>\n",
       "    <tr>\n",
       "      <th>7</th>\n",
       "      <td>2019</td>\n",
       "      <td>1095430</td>\n",
       "      <td>2999.0</td>\n",
       "    </tr>\n",
       "    <tr>\n",
       "      <th>8</th>\n",
       "      <td>2020</td>\n",
       "      <td>1084550</td>\n",
       "      <td>2969.0</td>\n",
       "    </tr>\n",
       "    <tr>\n",
       "      <th>9</th>\n",
       "      <td>2021</td>\n",
       "      <td>791341</td>\n",
       "      <td>2757.0</td>\n",
       "    </tr>\n",
       "  </tbody>\n",
       "</table>\n",
       "</div>"
      ],
      "text/plain": [
       "   year  all_calls_count  call_per_day\n",
       "0  2012           923246        2528.0\n",
       "1  2013           901401        2468.0\n",
       "2  2014           932781        2554.0\n",
       "3  2015           961870        2633.0\n",
       "4  2016          1016874        2784.0\n",
       "5  2017          1048989        2872.0\n",
       "6  2018          1114791        3052.0\n",
       "7  2019          1095430        2999.0\n",
       "8  2020          1084550        2969.0\n",
       "9  2021           791341        2757.0"
      ]
     },
     "execution_count": 150,
     "metadata": {},
     "output_type": "execute_result"
    }
   ],
   "source": [
    "df_grp"
   ]
  },
  {
   "cell_type": "markdown",
   "metadata": {},
   "source": [
    "---"
   ]
  },
  {
   "cell_type": "markdown",
   "metadata": {},
   "source": [
    "### Domestic violence cases"
   ]
  },
  {
   "cell_type": "code",
   "execution_count": 151,
   "metadata": {},
   "outputs": [],
   "source": [
    "domestic = df[df[\"type_description\"].str.contains(\"DOM VIOL\")]"
   ]
  },
  {
   "cell_type": "code",
   "execution_count": 152,
   "metadata": {},
   "outputs": [
    {
     "data": {
      "text/plain": [
       "433911"
      ]
     },
     "execution_count": 152,
     "metadata": {},
     "output_type": "execute_result"
    }
   ],
   "source": [
    "len(domestic)"
   ]
  },
  {
   "cell_type": "code",
   "execution_count": 153,
   "metadata": {},
   "outputs": [],
   "source": [
    "dom_grp = (\n",
    "    domestic.groupby([\"year\"]).agg({\"incident_id\": \"count\"}).reset_index()\n",
    ").rename(columns={\"incident_id\": \"dom_count\"})"
   ]
  },
  {
   "cell_type": "code",
   "execution_count": 154,
   "metadata": {},
   "outputs": [],
   "source": [
    "def per_day(row):\n",
    "    if row[\"year\"] <= 2020:\n",
    "        return (row[\"dom_count\"] / 365.25).round(0)\n",
    "    else:\n",
    "        return (row[\"dom_count\"] / elapsed).round(0)"
   ]
  },
  {
   "cell_type": "code",
   "execution_count": 155,
   "metadata": {},
   "outputs": [],
   "source": [
    "dom_grp[\"dom_calls_per_day\"] = dom_grp.apply(per_day, axis=1)"
   ]
  },
  {
   "cell_type": "code",
   "execution_count": 156,
   "metadata": {},
   "outputs": [],
   "source": [
    "today = pd.to_datetime(\"today\")\n",
    "start = pd.to_datetime(\"2021-01-01\")"
   ]
  },
  {
   "cell_type": "code",
   "execution_count": 157,
   "metadata": {},
   "outputs": [],
   "source": [
    "elapsed = (today - start).days"
   ]
  },
  {
   "cell_type": "code",
   "execution_count": 158,
   "metadata": {},
   "outputs": [
    {
     "data": {
      "text/html": [
       "<div>\n",
       "<style scoped>\n",
       "    .dataframe tbody tr th:only-of-type {\n",
       "        vertical-align: middle;\n",
       "    }\n",
       "\n",
       "    .dataframe tbody tr th {\n",
       "        vertical-align: top;\n",
       "    }\n",
       "\n",
       "    .dataframe thead th {\n",
       "        text-align: right;\n",
       "    }\n",
       "</style>\n",
       "<table border=\"1\" class=\"dataframe\">\n",
       "  <thead>\n",
       "    <tr style=\"text-align: right;\">\n",
       "      <th></th>\n",
       "      <th>year</th>\n",
       "      <th>dom_count</th>\n",
       "      <th>dom_calls_per_day</th>\n",
       "    </tr>\n",
       "  </thead>\n",
       "  <tbody>\n",
       "    <tr>\n",
       "      <th>0</th>\n",
       "      <td>2012</td>\n",
       "      <td>46709</td>\n",
       "      <td>128.0</td>\n",
       "    </tr>\n",
       "    <tr>\n",
       "      <th>1</th>\n",
       "      <td>2013</td>\n",
       "      <td>46113</td>\n",
       "      <td>126.0</td>\n",
       "    </tr>\n",
       "    <tr>\n",
       "      <th>2</th>\n",
       "      <td>2014</td>\n",
       "      <td>46016</td>\n",
       "      <td>126.0</td>\n",
       "    </tr>\n",
       "    <tr>\n",
       "      <th>3</th>\n",
       "      <td>2015</td>\n",
       "      <td>46478</td>\n",
       "      <td>127.0</td>\n",
       "    </tr>\n",
       "    <tr>\n",
       "      <th>4</th>\n",
       "      <td>2016</td>\n",
       "      <td>46647</td>\n",
       "      <td>128.0</td>\n",
       "    </tr>\n",
       "    <tr>\n",
       "      <th>5</th>\n",
       "      <td>2017</td>\n",
       "      <td>43866</td>\n",
       "      <td>120.0</td>\n",
       "    </tr>\n",
       "    <tr>\n",
       "      <th>6</th>\n",
       "      <td>2018</td>\n",
       "      <td>42654</td>\n",
       "      <td>117.0</td>\n",
       "    </tr>\n",
       "    <tr>\n",
       "      <th>7</th>\n",
       "      <td>2019</td>\n",
       "      <td>41121</td>\n",
       "      <td>113.0</td>\n",
       "    </tr>\n",
       "    <tr>\n",
       "      <th>8</th>\n",
       "      <td>2020</td>\n",
       "      <td>42528</td>\n",
       "      <td>116.0</td>\n",
       "    </tr>\n",
       "    <tr>\n",
       "      <th>9</th>\n",
       "      <td>2021</td>\n",
       "      <td>31779</td>\n",
       "      <td>111.0</td>\n",
       "    </tr>\n",
       "  </tbody>\n",
       "</table>\n",
       "</div>"
      ],
      "text/plain": [
       "   year  dom_count  dom_calls_per_day\n",
       "0  2012      46709              128.0\n",
       "1  2013      46113              126.0\n",
       "2  2014      46016              126.0\n",
       "3  2015      46478              127.0\n",
       "4  2016      46647              128.0\n",
       "5  2017      43866              120.0\n",
       "6  2018      42654              117.0\n",
       "7  2019      41121              113.0\n",
       "8  2020      42528              116.0\n",
       "9  2021      31779              111.0"
      ]
     },
     "execution_count": 158,
     "metadata": {},
     "output_type": "execute_result"
    }
   ],
   "source": [
    "dom_grp"
   ]
  },
  {
   "cell_type": "code",
   "execution_count": 159,
   "metadata": {},
   "outputs": [],
   "source": [
    "merged = pd.merge(df_grp, dom_grp, on=\"year\")"
   ]
  },
  {
   "cell_type": "code",
   "execution_count": 160,
   "metadata": {},
   "outputs": [],
   "source": [
    "merged[\"dom_count_rate_all_calls\"] = (\n",
    "    (merged[\"dom_count\"] / merged[\"all_calls_count\"]) * 100\n",
    ").round(2)"
   ]
  },
  {
   "cell_type": "code",
   "execution_count": 162,
   "metadata": {},
   "outputs": [],
   "source": [
    "merged[\"year\"] = merged[\"year\"].astype(str)"
   ]
  },
  {
   "cell_type": "code",
   "execution_count": 165,
   "metadata": {},
   "outputs": [
    {
     "data": {
      "text/html": [
       "<div>\n",
       "<style scoped>\n",
       "    .dataframe tbody tr th:only-of-type {\n",
       "        vertical-align: middle;\n",
       "    }\n",
       "\n",
       "    .dataframe tbody tr th {\n",
       "        vertical-align: top;\n",
       "    }\n",
       "\n",
       "    .dataframe thead th {\n",
       "        text-align: right;\n",
       "    }\n",
       "</style>\n",
       "<table border=\"1\" class=\"dataframe\">\n",
       "  <thead>\n",
       "    <tr style=\"text-align: right;\">\n",
       "      <th></th>\n",
       "      <th>year</th>\n",
       "      <th>all_calls_count</th>\n",
       "      <th>call_per_day</th>\n",
       "      <th>dom_count</th>\n",
       "      <th>dom_calls_per_day</th>\n",
       "      <th>dom_count_rate_all_calls</th>\n",
       "    </tr>\n",
       "  </thead>\n",
       "  <tbody>\n",
       "    <tr>\n",
       "      <th>0</th>\n",
       "      <td>2012</td>\n",
       "      <td>923246</td>\n",
       "      <td>2528.0</td>\n",
       "      <td>46709</td>\n",
       "      <td>128.0</td>\n",
       "      <td>5.06</td>\n",
       "    </tr>\n",
       "    <tr>\n",
       "      <th>1</th>\n",
       "      <td>2013</td>\n",
       "      <td>901401</td>\n",
       "      <td>2468.0</td>\n",
       "      <td>46113</td>\n",
       "      <td>126.0</td>\n",
       "      <td>5.12</td>\n",
       "    </tr>\n",
       "    <tr>\n",
       "      <th>2</th>\n",
       "      <td>2014</td>\n",
       "      <td>932781</td>\n",
       "      <td>2554.0</td>\n",
       "      <td>46016</td>\n",
       "      <td>126.0</td>\n",
       "      <td>4.93</td>\n",
       "    </tr>\n",
       "    <tr>\n",
       "      <th>3</th>\n",
       "      <td>2015</td>\n",
       "      <td>961870</td>\n",
       "      <td>2633.0</td>\n",
       "      <td>46478</td>\n",
       "      <td>127.0</td>\n",
       "      <td>4.83</td>\n",
       "    </tr>\n",
       "    <tr>\n",
       "      <th>4</th>\n",
       "      <td>2016</td>\n",
       "      <td>1016874</td>\n",
       "      <td>2784.0</td>\n",
       "      <td>46647</td>\n",
       "      <td>128.0</td>\n",
       "      <td>4.59</td>\n",
       "    </tr>\n",
       "    <tr>\n",
       "      <th>5</th>\n",
       "      <td>2017</td>\n",
       "      <td>1048989</td>\n",
       "      <td>2872.0</td>\n",
       "      <td>43866</td>\n",
       "      <td>120.0</td>\n",
       "      <td>4.18</td>\n",
       "    </tr>\n",
       "    <tr>\n",
       "      <th>6</th>\n",
       "      <td>2018</td>\n",
       "      <td>1114791</td>\n",
       "      <td>3052.0</td>\n",
       "      <td>42654</td>\n",
       "      <td>117.0</td>\n",
       "      <td>3.83</td>\n",
       "    </tr>\n",
       "    <tr>\n",
       "      <th>7</th>\n",
       "      <td>2019</td>\n",
       "      <td>1095430</td>\n",
       "      <td>2999.0</td>\n",
       "      <td>41121</td>\n",
       "      <td>113.0</td>\n",
       "      <td>3.75</td>\n",
       "    </tr>\n",
       "    <tr>\n",
       "      <th>8</th>\n",
       "      <td>2020</td>\n",
       "      <td>1084550</td>\n",
       "      <td>2969.0</td>\n",
       "      <td>42528</td>\n",
       "      <td>116.0</td>\n",
       "      <td>3.92</td>\n",
       "    </tr>\n",
       "    <tr>\n",
       "      <th>9</th>\n",
       "      <td>2021</td>\n",
       "      <td>791341</td>\n",
       "      <td>2757.0</td>\n",
       "      <td>31779</td>\n",
       "      <td>111.0</td>\n",
       "      <td>4.02</td>\n",
       "    </tr>\n",
       "  </tbody>\n",
       "</table>\n",
       "</div>"
      ],
      "text/plain": [
       "   year  all_calls_count  call_per_day  dom_count  dom_calls_per_day  \\\n",
       "0  2012           923246        2528.0      46709              128.0   \n",
       "1  2013           901401        2468.0      46113              126.0   \n",
       "2  2014           932781        2554.0      46016              126.0   \n",
       "3  2015           961870        2633.0      46478              127.0   \n",
       "4  2016          1016874        2784.0      46647              128.0   \n",
       "5  2017          1048989        2872.0      43866              120.0   \n",
       "6  2018          1114791        3052.0      42654              117.0   \n",
       "7  2019          1095430        2999.0      41121              113.0   \n",
       "8  2020          1084550        2969.0      42528              116.0   \n",
       "9  2021           791341        2757.0      31779              111.0   \n",
       "\n",
       "   dom_count_rate_all_calls  \n",
       "0                      5.06  \n",
       "1                      5.12  \n",
       "2                      4.93  \n",
       "3                      4.83  \n",
       "4                      4.59  \n",
       "5                      4.18  \n",
       "6                      3.83  \n",
       "7                      3.75  \n",
       "8                      3.92  \n",
       "9                      4.02  "
      ]
     },
     "execution_count": 165,
     "metadata": {},
     "output_type": "execute_result"
    }
   ],
   "source": [
    "merged"
   ]
  },
  {
   "cell_type": "code",
   "execution_count": 167,
   "metadata": {},
   "outputs": [
    {
     "data": {
      "text/html": [
       "\n",
       "<div id=\"altair-viz-2e6f262b4d974a4ea5997f606cbbadb8\"></div>\n",
       "<script type=\"text/javascript\">\n",
       "  (function(spec, embedOpt){\n",
       "    let outputDiv = document.currentScript.previousElementSibling;\n",
       "    if (outputDiv.id !== \"altair-viz-2e6f262b4d974a4ea5997f606cbbadb8\") {\n",
       "      outputDiv = document.getElementById(\"altair-viz-2e6f262b4d974a4ea5997f606cbbadb8\");\n",
       "    }\n",
       "    const paths = {\n",
       "      \"vega\": \"https://cdn.jsdelivr.net/npm//vega@5?noext\",\n",
       "      \"vega-lib\": \"https://cdn.jsdelivr.net/npm//vega-lib?noext\",\n",
       "      \"vega-lite\": \"https://cdn.jsdelivr.net/npm//vega-lite@4.8.1?noext\",\n",
       "      \"vega-embed\": \"https://cdn.jsdelivr.net/npm//vega-embed@6?noext\",\n",
       "    };\n",
       "\n",
       "    function loadScript(lib) {\n",
       "      return new Promise(function(resolve, reject) {\n",
       "        var s = document.createElement('script');\n",
       "        s.src = paths[lib];\n",
       "        s.async = true;\n",
       "        s.onload = () => resolve(paths[lib]);\n",
       "        s.onerror = () => reject(`Error loading script: ${paths[lib]}`);\n",
       "        document.getElementsByTagName(\"head\")[0].appendChild(s);\n",
       "      });\n",
       "    }\n",
       "\n",
       "    function showError(err) {\n",
       "      outputDiv.innerHTML = `<div class=\"error\" style=\"color:red;\">${err}</div>`;\n",
       "      throw err;\n",
       "    }\n",
       "\n",
       "    function displayChart(vegaEmbed) {\n",
       "      vegaEmbed(outputDiv, spec, embedOpt)\n",
       "        .catch(err => showError(`Javascript Error: ${err.message}<br>This usually means there's a typo in your chart specification. See the javascript console for the full traceback.`));\n",
       "    }\n",
       "\n",
       "    if(typeof define === \"function\" && define.amd) {\n",
       "      requirejs.config({paths});\n",
       "      require([\"vega-embed\"], displayChart, err => showError(`Error loading script: ${err.message}`));\n",
       "    } else if (typeof vegaEmbed === \"function\") {\n",
       "      displayChart(vegaEmbed);\n",
       "    } else {\n",
       "      loadScript(\"vega\")\n",
       "        .then(() => loadScript(\"vega-lite\"))\n",
       "        .then(() => loadScript(\"vega-embed\"))\n",
       "        .catch(showError)\n",
       "        .then(() => displayChart(vegaEmbed));\n",
       "    }\n",
       "  })({\"config\": {\"view\": {\"continuousWidth\": 400, \"continuousHeight\": 300}}, \"data\": {\"name\": \"data-8bf3e7cf73fd5770685bbf7f7a681c66\"}, \"mark\": \"bar\", \"encoding\": {\"x\": {\"type\": \"nominal\", \"field\": \"year\"}, \"y\": {\"type\": \"quantitative\", \"field\": \"dom_calls_per_day\"}}, \"$schema\": \"https://vega.github.io/schema/vega-lite/v4.8.1.json\", \"datasets\": {\"data-8bf3e7cf73fd5770685bbf7f7a681c66\": [{\"year\": \"2012\", \"all_calls_count\": 923246, \"call_per_day\": 2528.0, \"dom_count\": 46709, \"dom_calls_per_day\": 128.0, \"dom_count_rate_all_calls\": 5.06}, {\"year\": \"2013\", \"all_calls_count\": 901401, \"call_per_day\": 2468.0, \"dom_count\": 46113, \"dom_calls_per_day\": 126.0, \"dom_count_rate_all_calls\": 5.12}, {\"year\": \"2014\", \"all_calls_count\": 932781, \"call_per_day\": 2554.0, \"dom_count\": 46016, \"dom_calls_per_day\": 126.0, \"dom_count_rate_all_calls\": 4.93}, {\"year\": \"2015\", \"all_calls_count\": 961870, \"call_per_day\": 2633.0, \"dom_count\": 46478, \"dom_calls_per_day\": 127.0, \"dom_count_rate_all_calls\": 4.83}, {\"year\": \"2016\", \"all_calls_count\": 1016874, \"call_per_day\": 2784.0, \"dom_count\": 46647, \"dom_calls_per_day\": 128.0, \"dom_count_rate_all_calls\": 4.59}, {\"year\": \"2017\", \"all_calls_count\": 1048989, \"call_per_day\": 2872.0, \"dom_count\": 43866, \"dom_calls_per_day\": 120.0, \"dom_count_rate_all_calls\": 4.18}, {\"year\": \"2018\", \"all_calls_count\": 1114791, \"call_per_day\": 3052.0, \"dom_count\": 42654, \"dom_calls_per_day\": 117.0, \"dom_count_rate_all_calls\": 3.83}, {\"year\": \"2019\", \"all_calls_count\": 1095430, \"call_per_day\": 2999.0, \"dom_count\": 41121, \"dom_calls_per_day\": 113.0, \"dom_count_rate_all_calls\": 3.75}, {\"year\": \"2020\", \"all_calls_count\": 1084550, \"call_per_day\": 2969.0, \"dom_count\": 42528, \"dom_calls_per_day\": 116.0, \"dom_count_rate_all_calls\": 3.92}, {\"year\": \"2021\", \"all_calls_count\": 791341, \"call_per_day\": 2757.0, \"dom_count\": 31779, \"dom_calls_per_day\": 111.0, \"dom_count_rate_all_calls\": 4.02}]}}, {\"mode\": \"vega-lite\"});\n",
       "</script>"
      ],
      "text/plain": [
       "alt.Chart(...)"
      ]
     },
     "execution_count": 167,
     "metadata": {},
     "output_type": "execute_result"
    }
   ],
   "source": [
    "alt.Chart(merged).mark_bar().encode(x=\"year\", y=\"dom_calls_per_day\")"
   ]
  },
  {
   "cell_type": "code",
   "execution_count": 166,
   "metadata": {},
   "outputs": [
    {
     "data": {
      "text/html": [
       "\n",
       "<div id=\"altair-viz-148c9ee8b0374d8da6629ad1815a0391\"></div>\n",
       "<script type=\"text/javascript\">\n",
       "  (function(spec, embedOpt){\n",
       "    let outputDiv = document.currentScript.previousElementSibling;\n",
       "    if (outputDiv.id !== \"altair-viz-148c9ee8b0374d8da6629ad1815a0391\") {\n",
       "      outputDiv = document.getElementById(\"altair-viz-148c9ee8b0374d8da6629ad1815a0391\");\n",
       "    }\n",
       "    const paths = {\n",
       "      \"vega\": \"https://cdn.jsdelivr.net/npm//vega@5?noext\",\n",
       "      \"vega-lib\": \"https://cdn.jsdelivr.net/npm//vega-lib?noext\",\n",
       "      \"vega-lite\": \"https://cdn.jsdelivr.net/npm//vega-lite@4.8.1?noext\",\n",
       "      \"vega-embed\": \"https://cdn.jsdelivr.net/npm//vega-embed@6?noext\",\n",
       "    };\n",
       "\n",
       "    function loadScript(lib) {\n",
       "      return new Promise(function(resolve, reject) {\n",
       "        var s = document.createElement('script');\n",
       "        s.src = paths[lib];\n",
       "        s.async = true;\n",
       "        s.onload = () => resolve(paths[lib]);\n",
       "        s.onerror = () => reject(`Error loading script: ${paths[lib]}`);\n",
       "        document.getElementsByTagName(\"head\")[0].appendChild(s);\n",
       "      });\n",
       "    }\n",
       "\n",
       "    function showError(err) {\n",
       "      outputDiv.innerHTML = `<div class=\"error\" style=\"color:red;\">${err}</div>`;\n",
       "      throw err;\n",
       "    }\n",
       "\n",
       "    function displayChart(vegaEmbed) {\n",
       "      vegaEmbed(outputDiv, spec, embedOpt)\n",
       "        .catch(err => showError(`Javascript Error: ${err.message}<br>This usually means there's a typo in your chart specification. See the javascript console for the full traceback.`));\n",
       "    }\n",
       "\n",
       "    if(typeof define === \"function\" && define.amd) {\n",
       "      requirejs.config({paths});\n",
       "      require([\"vega-embed\"], displayChart, err => showError(`Error loading script: ${err.message}`));\n",
       "    } else if (typeof vegaEmbed === \"function\") {\n",
       "      displayChart(vegaEmbed);\n",
       "    } else {\n",
       "      loadScript(\"vega\")\n",
       "        .then(() => loadScript(\"vega-lite\"))\n",
       "        .then(() => loadScript(\"vega-embed\"))\n",
       "        .catch(showError)\n",
       "        .then(() => displayChart(vegaEmbed));\n",
       "    }\n",
       "  })({\"config\": {\"view\": {\"continuousWidth\": 400, \"continuousHeight\": 300}}, \"data\": {\"name\": \"data-8bf3e7cf73fd5770685bbf7f7a681c66\"}, \"mark\": \"bar\", \"encoding\": {\"x\": {\"type\": \"nominal\", \"field\": \"year\"}, \"y\": {\"type\": \"quantitative\", \"field\": \"dom_count_rate_all_calls\"}}, \"$schema\": \"https://vega.github.io/schema/vega-lite/v4.8.1.json\", \"datasets\": {\"data-8bf3e7cf73fd5770685bbf7f7a681c66\": [{\"year\": \"2012\", \"all_calls_count\": 923246, \"call_per_day\": 2528.0, \"dom_count\": 46709, \"dom_calls_per_day\": 128.0, \"dom_count_rate_all_calls\": 5.06}, {\"year\": \"2013\", \"all_calls_count\": 901401, \"call_per_day\": 2468.0, \"dom_count\": 46113, \"dom_calls_per_day\": 126.0, \"dom_count_rate_all_calls\": 5.12}, {\"year\": \"2014\", \"all_calls_count\": 932781, \"call_per_day\": 2554.0, \"dom_count\": 46016, \"dom_calls_per_day\": 126.0, \"dom_count_rate_all_calls\": 4.93}, {\"year\": \"2015\", \"all_calls_count\": 961870, \"call_per_day\": 2633.0, \"dom_count\": 46478, \"dom_calls_per_day\": 127.0, \"dom_count_rate_all_calls\": 4.83}, {\"year\": \"2016\", \"all_calls_count\": 1016874, \"call_per_day\": 2784.0, \"dom_count\": 46647, \"dom_calls_per_day\": 128.0, \"dom_count_rate_all_calls\": 4.59}, {\"year\": \"2017\", \"all_calls_count\": 1048989, \"call_per_day\": 2872.0, \"dom_count\": 43866, \"dom_calls_per_day\": 120.0, \"dom_count_rate_all_calls\": 4.18}, {\"year\": \"2018\", \"all_calls_count\": 1114791, \"call_per_day\": 3052.0, \"dom_count\": 42654, \"dom_calls_per_day\": 117.0, \"dom_count_rate_all_calls\": 3.83}, {\"year\": \"2019\", \"all_calls_count\": 1095430, \"call_per_day\": 2999.0, \"dom_count\": 41121, \"dom_calls_per_day\": 113.0, \"dom_count_rate_all_calls\": 3.75}, {\"year\": \"2020\", \"all_calls_count\": 1084550, \"call_per_day\": 2969.0, \"dom_count\": 42528, \"dom_calls_per_day\": 116.0, \"dom_count_rate_all_calls\": 3.92}, {\"year\": \"2021\", \"all_calls_count\": 791341, \"call_per_day\": 2757.0, \"dom_count\": 31779, \"dom_calls_per_day\": 111.0, \"dom_count_rate_all_calls\": 4.02}]}}, {\"mode\": \"vega-lite\"});\n",
       "</script>"
      ],
      "text/plain": [
       "alt.Chart(...)"
      ]
     },
     "execution_count": 166,
     "metadata": {},
     "output_type": "execute_result"
    }
   ],
   "source": [
    "alt.Chart(merged).mark_bar().encode(x=\"year\", y=\"dom_count_rate_all_calls\")"
   ]
  },
  {
   "cell_type": "markdown",
   "metadata": {},
   "source": [
    "### Export"
   ]
  },
  {
   "cell_type": "code",
   "execution_count": 168,
   "metadata": {},
   "outputs": [],
   "source": [
    "domestic.to_csv(\n",
    "    \"output/domestic_violence_calls_2017-2021.csv\",\n",
    "    index=None,\n",
    ")"
   ]
  },
  {
   "cell_type": "code",
   "execution_count": 169,
   "metadata": {},
   "outputs": [],
   "source": [
    "dom_grp.to_csv(\n",
    "    \"output/domestic_violence_calls_2012-2021_grouped.csv\",\n",
    "    index=None,\n",
    ")"
   ]
  },
  {
   "cell_type": "code",
   "execution_count": 170,
   "metadata": {},
   "outputs": [],
   "source": [
    "merged.to_csv(\n",
    "    \"output/calls_2012-2021_grouped.csv\",\n",
    "    index=None,\n",
    ")"
   ]
  }
 ],
 "metadata": {
  "kernelspec": {
   "display_name": "Python 3 (ipykernel)",
   "language": "python",
   "name": "python3"
  },
  "language_info": {
   "codemirror_mode": {
    "name": "ipython",
    "version": 3
   },
   "file_extension": ".py",
   "mimetype": "text/x-python",
   "name": "python",
   "nbconvert_exporter": "python",
   "pygments_lexer": "ipython3",
   "version": "3.8.11"
  }
 },
 "nbformat": 4,
 "nbformat_minor": 4
}
