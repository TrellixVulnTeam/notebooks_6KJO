{
 "cells": [
  {
   "cell_type": "markdown",
   "metadata": {},
   "source": [
    "# Processing LAPD calls for service: 2010-2020"
   ]
  },
  {
   "cell_type": "markdown",
   "metadata": {},
   "source": [
    "### Load python tools"
   ]
  },
  {
   "cell_type": "code",
   "execution_count": 1,
   "metadata": {},
   "outputs": [
    {
     "data": {
      "text/plain": [
       "DataTransformerRegistry.enable('default')"
      ]
     },
     "execution_count": 1,
     "metadata": {},
     "output_type": "execute_result"
    }
   ],
   "source": [
    "import json\n",
    "import pandas as pd\n",
    "import matplotlib\n",
    "import numpy as np\n",
    "import altair as alt\n",
    "from altair import datum\n",
    "import altair_latimes as lat\n",
    "pd.options.display.max_columns = 50\n",
    "pd.options.display.max_rows = 500\n",
    "pd.set_option('display.max_colwidth', None)\n",
    "alt.themes.register('latimes', lat.theme)\n",
    "alt.themes.enable('latimes')\n",
    "alt.renderers.enable('default')\n",
    "alt.data_transformers.disable_max_rows()"
   ]
  },
  {
   "cell_type": "code",
   "execution_count": 2,
   "metadata": {},
   "outputs": [],
   "source": [
    "pd.option_context('display.precision', 2)\n",
    "def color_negative_red(val):\n",
    "    \"\"\"\n",
    "    Takes a scalar and returns a string with\n",
    "    the css property `'color: red'` for negative\n",
    "    strings, black otherwise.\n",
    "    \"\"\"\n",
    "    color = 'red' if val < 0 else 'black'\n",
    "    return 'color: %s' % color"
   ]
  },
  {
   "cell_type": "markdown",
   "metadata": {},
   "source": [
    "### Download latest data from all sources"
   ]
  },
  {
   "cell_type": "code",
   "execution_count": 3,
   "metadata": {},
   "outputs": [],
   "source": [
    "# %run 'download_calls.ipynb'"
   ]
  },
  {
   "cell_type": "markdown",
   "metadata": {},
   "source": [
    "## Los Angeles Police"
   ]
  },
  {
   "cell_type": "code",
   "execution_count": 4,
   "metadata": {},
   "outputs": [],
   "source": [
    "df = pd.read_csv('/Users/mhustiles/data/data/LA/calls/la/los_angeles.csv', low_memory=False)"
   ]
  },
  {
   "cell_type": "code",
   "execution_count": 5,
   "metadata": {},
   "outputs": [
    {
     "data": {
      "text/html": [
       "<div>\n",
       "<style scoped>\n",
       "    .dataframe tbody tr th:only-of-type {\n",
       "        vertical-align: middle;\n",
       "    }\n",
       "\n",
       "    .dataframe tbody tr th {\n",
       "        vertical-align: top;\n",
       "    }\n",
       "\n",
       "    .dataframe thead th {\n",
       "        text-align: right;\n",
       "    }\n",
       "</style>\n",
       "<table border=\"1\" class=\"dataframe\">\n",
       "  <thead>\n",
       "    <tr style=\"text-align: right;\">\n",
       "      <th></th>\n",
       "      <th>incident_number</th>\n",
       "      <th>reporting_district</th>\n",
       "      <th>area_occurred</th>\n",
       "      <th>dispatch_date</th>\n",
       "      <th>dispatch_time</th>\n",
       "      <th>call_type_code</th>\n",
       "      <th>call_type_description</th>\n",
       "      <th>date</th>\n",
       "      <th>time</th>\n",
       "    </tr>\n",
       "  </thead>\n",
       "  <tbody>\n",
       "    <tr>\n",
       "      <th>0</th>\n",
       "      <td>PD20012600002716</td>\n",
       "      <td>Rampart</td>\n",
       "      <td>0245</td>\n",
       "      <td>01/26/2020</td>\n",
       "      <td>14:37:04</td>\n",
       "      <td>211S</td>\n",
       "      <td>SUSP</td>\n",
       "      <td>2020-01-26</td>\n",
       "      <td>14:37:04</td>\n",
       "    </tr>\n",
       "    <tr>\n",
       "      <th>1</th>\n",
       "      <td>PD20011400005678</td>\n",
       "      <td>Outside</td>\n",
       "      <td>NaN</td>\n",
       "      <td>01/14/2020</td>\n",
       "      <td>23:26:20</td>\n",
       "      <td>006</td>\n",
       "      <td>CODE 6</td>\n",
       "      <td>2020-01-14</td>\n",
       "      <td>23:26:20</td>\n",
       "    </tr>\n",
       "    <tr>\n",
       "      <th>2</th>\n",
       "      <td>PD20011100005314</td>\n",
       "      <td>Outside</td>\n",
       "      <td>NaN</td>\n",
       "      <td>01/11/2020</td>\n",
       "      <td>23:32:40</td>\n",
       "      <td>006</td>\n",
       "      <td>CODE 6</td>\n",
       "      <td>2020-01-11</td>\n",
       "      <td>23:32:40</td>\n",
       "    </tr>\n",
       "    <tr>\n",
       "      <th>3</th>\n",
       "      <td>PD20010100005220</td>\n",
       "      <td>Southwest</td>\n",
       "      <td>0328</td>\n",
       "      <td>01/01/2020</td>\n",
       "      <td>22:34:29</td>\n",
       "      <td>245SN</td>\n",
       "      <td>SUSP NOW</td>\n",
       "      <td>2020-01-01</td>\n",
       "      <td>22:34:29</td>\n",
       "    </tr>\n",
       "    <tr>\n",
       "      <th>4</th>\n",
       "      <td>PD20010500000660</td>\n",
       "      <td>Hollywood</td>\n",
       "      <td>0636</td>\n",
       "      <td>01/05/2020</td>\n",
       "      <td>04:04:42</td>\n",
       "      <td>907PA2</td>\n",
       "      <td>POSS AMB O/D</td>\n",
       "      <td>2020-01-05</td>\n",
       "      <td>04:04:42</td>\n",
       "    </tr>\n",
       "  </tbody>\n",
       "</table>\n",
       "</div>"
      ],
      "text/plain": [
       "    incident_number reporting_district area_occurred dispatch_date  \\\n",
       "0  PD20012600002716            Rampart          0245    01/26/2020   \n",
       "1  PD20011400005678            Outside           NaN    01/14/2020   \n",
       "2  PD20011100005314            Outside           NaN    01/11/2020   \n",
       "3  PD20010100005220          Southwest          0328    01/01/2020   \n",
       "4  PD20010500000660          Hollywood          0636    01/05/2020   \n",
       "\n",
       "  dispatch_time call_type_code call_type_description        date      time  \n",
       "0      14:37:04           211S                  SUSP  2020-01-26  14:37:04  \n",
       "1      23:26:20            006                CODE 6  2020-01-14  23:26:20  \n",
       "2      23:32:40            006                CODE 6  2020-01-11  23:32:40  \n",
       "3      22:34:29          245SN              SUSP NOW  2020-01-01  22:34:29  \n",
       "4      04:04:42         907PA2          POSS AMB O/D  2020-01-05  04:04:42  "
      ]
     },
     "execution_count": 5,
     "metadata": {},
     "output_type": "execute_result"
    }
   ],
   "source": [
    "df.head()"
   ]
  },
  {
   "cell_type": "code",
   "execution_count": 6,
   "metadata": {},
   "outputs": [],
   "source": [
    "df['date'] = pd.to_datetime(df['dispatch_date'], format='%m/%d/%Y')\n",
    "df['monthday'] = df['date'].dt.strftime('%m/%d')\n",
    "df['year'] = df['date'].dt.strftime('%Y')"
   ]
  },
  {
   "cell_type": "code",
   "execution_count": 7,
   "metadata": {},
   "outputs": [],
   "source": [
    "df['month'] = df['date'].dt.month\n",
    "df['day'] = df['date'].dt.day\n",
    "df['date'] = df['date'].dt.date"
   ]
  },
  {
   "cell_type": "code",
   "execution_count": 8,
   "metadata": {},
   "outputs": [],
   "source": [
    "df = df.drop(['dispatch_time', 'dispatch_date'], axis=1)"
   ]
  },
  {
   "cell_type": "code",
   "execution_count": 9,
   "metadata": {},
   "outputs": [],
   "source": [
    "los_angeles = df.copy()"
   ]
  },
  {
   "cell_type": "code",
   "execution_count": 10,
   "metadata": {},
   "outputs": [],
   "source": [
    "los_angeles['outside_yn'] = los_angeles['reporting_district'] == 'Outside'"
   ]
  },
  {
   "cell_type": "code",
   "execution_count": 11,
   "metadata": {},
   "outputs": [
    {
     "data": {
      "text/html": [
       "<div>\n",
       "<style scoped>\n",
       "    .dataframe tbody tr th:only-of-type {\n",
       "        vertical-align: middle;\n",
       "    }\n",
       "\n",
       "    .dataframe tbody tr th {\n",
       "        vertical-align: top;\n",
       "    }\n",
       "\n",
       "    .dataframe thead th {\n",
       "        text-align: right;\n",
       "    }\n",
       "</style>\n",
       "<table border=\"1\" class=\"dataframe\">\n",
       "  <thead>\n",
       "    <tr style=\"text-align: right;\">\n",
       "      <th></th>\n",
       "      <th>incident_number</th>\n",
       "      <th>reporting_district</th>\n",
       "      <th>area_occurred</th>\n",
       "      <th>call_type_code</th>\n",
       "      <th>call_type_description</th>\n",
       "      <th>date</th>\n",
       "      <th>time</th>\n",
       "      <th>monthday</th>\n",
       "      <th>year</th>\n",
       "      <th>month</th>\n",
       "      <th>day</th>\n",
       "      <th>outside_yn</th>\n",
       "    </tr>\n",
       "  </thead>\n",
       "  <tbody>\n",
       "    <tr>\n",
       "      <th>0</th>\n",
       "      <td>PD20012600002716</td>\n",
       "      <td>Rampart</td>\n",
       "      <td>0245</td>\n",
       "      <td>211S</td>\n",
       "      <td>SUSP</td>\n",
       "      <td>2020-01-26</td>\n",
       "      <td>14:37:04</td>\n",
       "      <td>01/26</td>\n",
       "      <td>2020</td>\n",
       "      <td>1</td>\n",
       "      <td>26</td>\n",
       "      <td>False</td>\n",
       "    </tr>\n",
       "    <tr>\n",
       "      <th>1</th>\n",
       "      <td>PD20011400005678</td>\n",
       "      <td>Outside</td>\n",
       "      <td>NaN</td>\n",
       "      <td>006</td>\n",
       "      <td>CODE 6</td>\n",
       "      <td>2020-01-14</td>\n",
       "      <td>23:26:20</td>\n",
       "      <td>01/14</td>\n",
       "      <td>2020</td>\n",
       "      <td>1</td>\n",
       "      <td>14</td>\n",
       "      <td>True</td>\n",
       "    </tr>\n",
       "    <tr>\n",
       "      <th>2</th>\n",
       "      <td>PD20011100005314</td>\n",
       "      <td>Outside</td>\n",
       "      <td>NaN</td>\n",
       "      <td>006</td>\n",
       "      <td>CODE 6</td>\n",
       "      <td>2020-01-11</td>\n",
       "      <td>23:32:40</td>\n",
       "      <td>01/11</td>\n",
       "      <td>2020</td>\n",
       "      <td>1</td>\n",
       "      <td>11</td>\n",
       "      <td>True</td>\n",
       "    </tr>\n",
       "    <tr>\n",
       "      <th>3</th>\n",
       "      <td>PD20010100005220</td>\n",
       "      <td>Southwest</td>\n",
       "      <td>0328</td>\n",
       "      <td>245SN</td>\n",
       "      <td>SUSP NOW</td>\n",
       "      <td>2020-01-01</td>\n",
       "      <td>22:34:29</td>\n",
       "      <td>01/01</td>\n",
       "      <td>2020</td>\n",
       "      <td>1</td>\n",
       "      <td>1</td>\n",
       "      <td>False</td>\n",
       "    </tr>\n",
       "    <tr>\n",
       "      <th>4</th>\n",
       "      <td>PD20010500000660</td>\n",
       "      <td>Hollywood</td>\n",
       "      <td>0636</td>\n",
       "      <td>907PA2</td>\n",
       "      <td>POSS AMB O/D</td>\n",
       "      <td>2020-01-05</td>\n",
       "      <td>04:04:42</td>\n",
       "      <td>01/05</td>\n",
       "      <td>2020</td>\n",
       "      <td>1</td>\n",
       "      <td>5</td>\n",
       "      <td>False</td>\n",
       "    </tr>\n",
       "  </tbody>\n",
       "</table>\n",
       "</div>"
      ],
      "text/plain": [
       "    incident_number reporting_district area_occurred call_type_code  \\\n",
       "0  PD20012600002716            Rampart          0245           211S   \n",
       "1  PD20011400005678            Outside           NaN            006   \n",
       "2  PD20011100005314            Outside           NaN            006   \n",
       "3  PD20010100005220          Southwest          0328          245SN   \n",
       "4  PD20010500000660          Hollywood          0636         907PA2   \n",
       "\n",
       "  call_type_description        date      time monthday  year  month  day  \\\n",
       "0                  SUSP  2020-01-26  14:37:04    01/26  2020      1   26   \n",
       "1                CODE 6  2020-01-14  23:26:20    01/14  2020      1   14   \n",
       "2                CODE 6  2020-01-11  23:32:40    01/11  2020      1   11   \n",
       "3              SUSP NOW  2020-01-01  22:34:29    01/01  2020      1    1   \n",
       "4          POSS AMB O/D  2020-01-05  04:04:42    01/05  2020      1    5   \n",
       "\n",
       "   outside_yn  \n",
       "0       False  \n",
       "1        True  \n",
       "2        True  \n",
       "3       False  \n",
       "4       False  "
      ]
     },
     "execution_count": 11,
     "metadata": {},
     "output_type": "execute_result"
    }
   ],
   "source": [
    "los_angeles.head()"
   ]
  },
  {
   "cell_type": "markdown",
   "metadata": {},
   "source": [
    "---"
   ]
  },
  {
   "cell_type": "markdown",
   "metadata": {},
   "source": [
    "### What were call volumes like each day this year? "
   ]
  },
  {
   "cell_type": "code",
   "execution_count": 12,
   "metadata": {},
   "outputs": [],
   "source": [
    "this_year = los_angeles[los_angeles['year'] == '2020'].groupby(['monthday']).agg('size').reset_index(name='calls').drop([59], axis=0)"
   ]
  },
  {
   "cell_type": "markdown",
   "metadata": {},
   "source": [
    "### When were the protests? "
   ]
  },
  {
   "cell_type": "code",
   "execution_count": 17,
   "metadata": {},
   "outputs": [],
   "source": [
    "this_year_before = this_year[(this_year['monthday'] < '05/30')]\n",
    "protest_period = pd.DataFrame(this_year[(this_year['monthday'] > '05/27') & (this_year['monthday'] < '06/10')])"
   ]
  },
  {
   "cell_type": "code",
   "execution_count": 18,
   "metadata": {},
   "outputs": [],
   "source": [
    "los_angeles_protests_during = pd.DataFrame(los_angeles[(los_angeles['monthday'] > '05/27') & (los_angeles['monthday'] < '06/10')])\n",
    "los_angeles_protests_before = pd.DataFrame(los_angeles[los_angeles['monthday'] < '05/30'])"
   ]
  },
  {
   "cell_type": "markdown",
   "metadata": {},
   "source": [
    "### Slice out dataframes for all codes that aren't 'Code 6' and are outside LAPD jurisdiction"
   ]
  },
  {
   "cell_type": "code",
   "execution_count": 19,
   "metadata": {},
   "outputs": [],
   "source": [
    "no_code6 = los_angeles[los_angeles['call_type_code'] != '006']\n",
    "outside = los_angeles[los_angeles['reporting_district'] == 'Outside']"
   ]
  },
  {
   "cell_type": "code",
   "execution_count": 20,
   "metadata": {},
   "outputs": [],
   "source": [
    "this_year_no_code6_all = no_code6[no_code6['year'] == '2020'].groupby(['monthday']).agg('size').reset_index(name='calls')"
   ]
  },
  {
   "cell_type": "code",
   "execution_count": 21,
   "metadata": {},
   "outputs": [],
   "source": [
    "protest_period_no_code_6 = pd.DataFrame(this_year_no_code6_all[(this_year_no_code6_all['monthday'] > '05/27') & (this_year['monthday'] < '06/10')])\n",
    "protest_period['mean_no_code6'] = 4000\n",
    "protest_period['mean_before'] = this_year_before.calls.max()"
   ]
  },
  {
   "cell_type": "markdown",
   "metadata": {},
   "source": [
    "### What was the percentage change in the average number of calls before and during the protest period?"
   ]
  },
  {
   "cell_type": "code",
   "execution_count": 22,
   "metadata": {},
   "outputs": [
    {
     "data": {
      "text/plain": [
       "-0.4233551024581533"
      ]
     },
     "execution_count": 22,
     "metadata": {},
     "output_type": "execute_result"
    }
   ],
   "source": [
    "(protest_period.calls.mean() - this_year_before.calls.mean())/this_year_before.calls.mean()"
   ]
  },
  {
   "cell_type": "markdown",
   "metadata": {},
   "source": [
    "### Chart all the daily calls as a time series"
   ]
  },
  {
   "cell_type": "code",
   "execution_count": 23,
   "metadata": {},
   "outputs": [
    {
     "data": {
      "text/html": [
       "\n",
       "<div id=\"altair-viz-e08179eeea2a476a8edcdfd95d3ff65c\"></div>\n",
       "<script type=\"text/javascript\">\n",
       "  (function(spec, embedOpt){\n",
       "    const outputDiv = document.getElementById(\"altair-viz-e08179eeea2a476a8edcdfd95d3ff65c\");\n",
       "    const paths = {\n",
       "      \"vega\": \"https://cdn.jsdelivr.net/npm//vega@5?noext\",\n",
       "      \"vega-lib\": \"https://cdn.jsdelivr.net/npm//vega-lib?noext\",\n",
       "      \"vega-lite\": \"https://cdn.jsdelivr.net/npm//vega-lite@4.0.2?noext\",\n",
       "      \"vega-embed\": \"https://cdn.jsdelivr.net/npm//vega-embed@6?noext\",\n",
       "    };\n",
       "\n",
       "    function loadScript(lib) {\n",
       "      return new Promise(function(resolve, reject) {\n",
       "        var s = document.createElement('script');\n",
       "        s.src = paths[lib];\n",
       "        s.async = true;\n",
       "        s.onload = () => resolve(paths[lib]);\n",
       "        s.onerror = () => reject(`Error loading script: ${paths[lib]}`);\n",
       "        document.getElementsByTagName(\"head\")[0].appendChild(s);\n",
       "      });\n",
       "    }\n",
       "\n",
       "    function showError(err) {\n",
       "      outputDiv.innerHTML = `<div class=\"error\" style=\"color:red;\">${err}</div>`;\n",
       "      throw err;\n",
       "    }\n",
       "\n",
       "    function displayChart(vegaEmbed) {\n",
       "      vegaEmbed(outputDiv, spec, embedOpt)\n",
       "        .catch(err => showError(`Javascript Error: ${err.message}<br>This usually means there's a typo in your chart specification. See the javascript console for the full traceback.`));\n",
       "    }\n",
       "\n",
       "    if(typeof define === \"function\" && define.amd) {\n",
       "      requirejs.config({paths});\n",
       "      require([\"vega-embed\"], displayChart, err => showError(`Error loading script: ${err.message}`));\n",
       "    } else if (typeof vegaEmbed === \"function\") {\n",
       "      displayChart(vegaEmbed);\n",
       "    } else {\n",
       "      loadScript(\"vega\")\n",
       "        .then(() => loadScript(\"vega-lite\"))\n",
       "        .then(() => loadScript(\"vega-embed\"))\n",
       "        .catch(showError)\n",
       "        .then(() => displayChart(vegaEmbed));\n",
       "    }\n",
       "  })({\"config\": {\"view\": {\"width\": 800, \"height\": 450, \"strokeOpacity\": 0}, \"background\": \"#ffffff\", \"title\": {\"anchor\": \"start\", \"font\": \"Benton Gothic Bold, sans\", \"fontColor\": \"#000000\", \"fontSize\": 22, \"fontWeight\": \"normal\"}, \"arc\": {\"fill\": \"#82c6df\"}, \"area\": {\"fill\": \"#82c6df\"}, \"line\": {\"stroke\": \"#82c6df\", \"strokeWidth\": 3}, \"path\": {\"stroke\": \"#82c6df\"}, \"rect\": {\"fill\": \"#82c6df\"}, \"shape\": {\"stroke\": \"#82c6df\"}, \"bar\": {\"fill\": \"#82c6df\"}, \"point\": {\"stroke\": \"#82c6df\"}, \"symbol\": {\"fill\": \"#82c6df\", \"size\": 30}, \"axis\": {\"titleFont\": \"Benton Gothic Bold, sans\", \"titleFontSize\": 13, \"titleFontWeight\": \"normal\", \"labelFont\": \"Benton Gothic, sans\", \"labelFontSize\": 11.5, \"labelFontWeight\": \"normal\"}, \"axisX\": {\"labelAngle\": 0, \"labelPadding\": 4, \"tickSize\": 3}, \"axisY\": {\"labelBaseline\": \"middle\", \"maxExtent\": 45, \"minExtent\": 45, \"tickSize\": 2, \"titleAlign\": \"left\", \"titleAngle\": 0, \"titleX\": -45, \"titleY\": -11}, \"legend\": {\"titleFont\": \"Benton Gothic Bold, sans\", \"titleFontSize\": 13, \"titleFontWeight\": \"normal\", \"symbolType\": \"square\", \"labelFont\": \"Benton Gothic, sans\", \"labelFontSize\": 11.5}, \"range\": {\"category\": [\"#3580b1\", \"#ec8431\", \"#ab7fb4\", \"#c89d29\", \"#adc839\", \"#829eb1\"], \"diverging\": [\"#e68a4f\", \"#f4bb6a\", \"#f9e39c\", \"#dadfe2\", \"#a6b7c6\", \"#849eae\"], \"heatmap\": [\"#fbf2c7\", \"#f9e39c\", \"#f8d36e\", \"#f4bb6a\", \"#e68a4f\", \"#d15a40\", \"#ab4232\"], \"ordinal\": [\"#fbf2c7\", \"#f9e39c\", \"#f8d36e\", \"#f4bb6a\", \"#e68a4f\", \"#d15a40\", \"#ab4232\"], \"ramp\": [\"#fbf2c7\", \"#f9e39c\", \"#f8d36e\", \"#f4bb6a\", \"#e68a4f\", \"#d15a40\", \"#ab4232\"]}}, \"layer\": [{\"data\": {\"name\": \"data-c42d5a9a2592d8f92dd67e21bd293a8c\"}, \"mark\": {\"type\": \"area\", \"color\": \"#999\", \"opacity\": 0.3}, \"encoding\": {\"x\": {\"type\": \"temporal\", \"field\": \"monthday\"}, \"y\": {\"type\": \"quantitative\", \"field\": \"mean_before\"}}}, {\"data\": {\"name\": \"data-6d5b302c53cb08ff0d91e20b9d87663e\"}, \"mark\": {\"type\": \"area\", \"color\": \"#B32F2E\", \"interpolate\": \"monotone\", \"opacity\": 0.6, \"size\": 3}, \"encoding\": {\"x\": {\"type\": \"temporal\", \"axis\": {\"format\": \"%B\", \"grid\": false, \"tickCount\": 6}, \"field\": \"monthday\", \"title\": \" \"}, \"y\": {\"type\": \"quantitative\", \"axis\": {\"domainOpacity\": 0, \"format\": \"\", \"gridColor\": \"#dddddd\", \"gridWidth\": 0.6, \"offset\": 6, \"tickCount\": 4, \"tickSize\": 0}, \"field\": \"calls\", \"scale\": {\"domain\": [0, 6000]}, \"stack\": null, \"title\": \" \"}}, \"height\": 400, \"title\": \"All service calls to LAPD: 2020\", \"width\": 630}, {\"data\": {\"name\": \"data-6d5b302c53cb08ff0d91e20b9d87663e\"}, \"mark\": {\"type\": \"text\", \"align\": \"center\", \"baseline\": \"middle\", \"color\": \"#000000\", \"dx\": 112, \"dy\": 12, \"font\": \"Benton Gothic\", \"fontSize\": 12, \"fontWeight\": \"bold\"}, \"encoding\": {\"text\": {\"type\": \"nominal\", \"field\": \"label\", \"format\": \"\"}, \"y\": {\"type\": \"quantitative\", \"aggregate\": \"mean\", \"field\": \"calls\"}}, \"transform\": [{\"calculate\": \"\\\"Average: 4,900\\\"\", \"as\": \"label\"}]}, {\"data\": {\"name\": \"data-6d5b302c53cb08ff0d91e20b9d87663e\"}, \"mark\": {\"type\": \"text\", \"align\": \"center\", \"baseline\": \"middle\", \"color\": \"#000000\", \"dx\": 252, \"dy\": -130, \"font\": \"Benton Gothic\", \"fontSize\": 12, \"fontWeight\": \"bold\"}, \"encoding\": {\"text\": {\"type\": \"nominal\", \"field\": \"label\", \"format\": \"\"}, \"y\": {\"type\": \"quantitative\", \"aggregate\": \"mean\", \"field\": \"calls\"}}, \"transform\": [{\"calculate\": \"\\\"Protests\\\"\", \"as\": \"label\"}]}, {\"data\": {\"name\": \"data-6d5b302c53cb08ff0d91e20b9d87663e\"}, \"mark\": {\"type\": \"rule\", \"color\": \"#666\", \"size\": 1}, \"encoding\": {\"y\": {\"type\": \"quantitative\", \"aggregate\": \"mean\", \"field\": \"calls\"}}}], \"$schema\": \"https://vega.github.io/schema/vega-lite/v4.0.2.json\", \"datasets\": {\"data-c42d5a9a2592d8f92dd67e21bd293a8c\": [{\"monthday\": \"05/28\", \"calls\": 5028, \"mean_no_code6\": 4000, \"mean_before\": 6724}, {\"monthday\": \"05/29\", \"calls\": 4128, \"mean_no_code6\": 4000, \"mean_before\": 6724}, {\"monthday\": \"05/30\", \"calls\": 2435, \"mean_no_code6\": 4000, \"mean_before\": 6724}, {\"monthday\": \"05/31\", \"calls\": 2611, \"mean_no_code6\": 4000, \"mean_before\": 6724}, {\"monthday\": \"06/01\", \"calls\": 2702, \"mean_no_code6\": 4000, \"mean_before\": 6724}, {\"monthday\": \"06/02\", \"calls\": 2618, \"mean_no_code6\": 4000, \"mean_before\": 6724}, {\"monthday\": \"06/03\", \"calls\": 2463, \"mean_no_code6\": 4000, \"mean_before\": 6724}, {\"monthday\": \"06/04\", \"calls\": 2485, \"mean_no_code6\": 4000, \"mean_before\": 6724}, {\"monthday\": \"06/05\", \"calls\": 2761, \"mean_no_code6\": 4000, \"mean_before\": 6724}, {\"monthday\": \"06/06\", \"calls\": 2594, \"mean_no_code6\": 4000, \"mean_before\": 6724}, {\"monthday\": \"06/07\", \"calls\": 2830, \"mean_no_code6\": 4000, \"mean_before\": 6724}, {\"monthday\": \"06/08\", \"calls\": 2977, \"mean_no_code6\": 4000, \"mean_before\": 6724}, {\"monthday\": \"06/09\", \"calls\": 3051, \"mean_no_code6\": 4000, \"mean_before\": 6724}], \"data-6d5b302c53cb08ff0d91e20b9d87663e\": [{\"monthday\": \"01/01\", \"calls\": 4686}, {\"monthday\": \"01/02\", \"calls\": 5220}, {\"monthday\": \"01/03\", \"calls\": 5117}, {\"monthday\": \"01/04\", \"calls\": 5019}, {\"monthday\": \"01/05\", \"calls\": 4427}, {\"monthday\": \"01/06\", \"calls\": 4826}, {\"monthday\": \"01/07\", \"calls\": 5022}, {\"monthday\": \"01/08\", \"calls\": 5112}, {\"monthday\": \"01/09\", \"calls\": 5077}, {\"monthday\": \"01/10\", \"calls\": 4885}, {\"monthday\": \"01/11\", \"calls\": 4573}, {\"monthday\": \"01/12\", \"calls\": 4252}, {\"monthday\": \"01/13\", \"calls\": 4748}, {\"monthday\": \"01/14\", \"calls\": 4752}, {\"monthday\": \"01/15\", \"calls\": 5388}, {\"monthday\": \"01/16\", \"calls\": 4850}, {\"monthday\": \"01/17\", \"calls\": 5209}, {\"monthday\": \"01/18\", \"calls\": 4613}, {\"monthday\": \"01/19\", \"calls\": 4832}, {\"monthday\": \"01/20\", \"calls\": 4606}, {\"monthday\": \"01/21\", \"calls\": 5515}, {\"monthday\": \"01/22\", \"calls\": 5714}, {\"monthday\": \"01/23\", \"calls\": 5489}, {\"monthday\": \"01/24\", \"calls\": 5461}, {\"monthday\": \"01/25\", \"calls\": 5323}, {\"monthday\": \"01/26\", \"calls\": 4811}, {\"monthday\": \"01/27\", \"calls\": 4801}, {\"monthday\": \"01/28\", \"calls\": 5314}, {\"monthday\": \"01/29\", \"calls\": 5387}, {\"monthday\": \"01/30\", \"calls\": 5450}, {\"monthday\": \"01/31\", \"calls\": 5491}, {\"monthday\": \"02/01\", \"calls\": 4905}, {\"monthday\": \"02/02\", \"calls\": 4702}, {\"monthday\": \"02/03\", \"calls\": 4992}, {\"monthday\": \"02/04\", \"calls\": 5232}, {\"monthday\": \"02/05\", \"calls\": 5373}, {\"monthday\": \"02/06\", \"calls\": 5461}, {\"monthday\": \"02/07\", \"calls\": 5526}, {\"monthday\": \"02/08\", \"calls\": 4820}, {\"monthday\": \"02/09\", \"calls\": 4418}, {\"monthday\": \"02/10\", \"calls\": 5112}, {\"monthday\": \"02/11\", \"calls\": 5374}, {\"monthday\": \"02/12\", \"calls\": 5550}, {\"monthday\": \"02/13\", \"calls\": 5464}, {\"monthday\": \"02/14\", \"calls\": 5121}, {\"monthday\": \"02/15\", \"calls\": 4783}, {\"monthday\": \"02/16\", \"calls\": 4594}, {\"monthday\": \"02/17\", \"calls\": 4671}, {\"monthday\": \"02/18\", \"calls\": 5058}, {\"monthday\": \"02/19\", \"calls\": 5777}, {\"monthday\": \"02/20\", \"calls\": 5529}, {\"monthday\": \"02/21\", \"calls\": 5232}, {\"monthday\": \"02/22\", \"calls\": 4680}, {\"monthday\": \"02/23\", \"calls\": 4920}, {\"monthday\": \"02/24\", \"calls\": 6724}, {\"monthday\": \"02/25\", \"calls\": 5984}, {\"monthday\": \"02/26\", \"calls\": 5398}, {\"monthday\": \"02/27\", \"calls\": 5569}, {\"monthday\": \"02/28\", \"calls\": 5392}, {\"monthday\": \"03/01\", \"calls\": 4727}, {\"monthday\": \"03/02\", \"calls\": 5124}, {\"monthday\": \"03/03\", \"calls\": 5234}, {\"monthday\": \"03/04\", \"calls\": 5415}, {\"monthday\": \"03/05\", \"calls\": 5587}, {\"monthday\": \"03/06\", \"calls\": 4897}, {\"monthday\": \"03/07\", \"calls\": 4990}, {\"monthday\": \"03/08\", \"calls\": 4759}, {\"monthday\": \"03/09\", \"calls\": 5021}, {\"monthday\": \"03/10\", \"calls\": 4552}, {\"monthday\": \"03/11\", \"calls\": 5408}, {\"monthday\": \"03/12\", \"calls\": 4283}, {\"monthday\": \"03/13\", \"calls\": 4363}, {\"monthday\": \"03/14\", \"calls\": 4394}, {\"monthday\": \"03/15\", \"calls\": 4531}, {\"monthday\": \"03/16\", \"calls\": 4327}, {\"monthday\": \"03/17\", \"calls\": 6015}, {\"monthday\": \"03/18\", \"calls\": 5783}, {\"monthday\": \"03/19\", \"calls\": 5243}, {\"monthday\": \"03/20\", \"calls\": 5006}, {\"monthday\": \"03/21\", \"calls\": 4717}, {\"monthday\": \"03/22\", \"calls\": 3858}, {\"monthday\": \"03/23\", \"calls\": 5001}, {\"monthday\": \"03/24\", \"calls\": 5224}, {\"monthday\": \"03/25\", \"calls\": 5269}, {\"monthday\": \"03/26\", \"calls\": 5028}, {\"monthday\": \"03/27\", \"calls\": 4724}, {\"monthday\": \"03/28\", \"calls\": 4621}, {\"monthday\": \"03/29\", \"calls\": 4248}, {\"monthday\": \"03/30\", \"calls\": 4413}, {\"monthday\": \"03/31\", \"calls\": 5719}, {\"monthday\": \"04/01\", \"calls\": 5435}, {\"monthday\": \"04/02\", \"calls\": 5371}, {\"monthday\": \"04/03\", \"calls\": 4732}, {\"monthday\": \"04/04\", \"calls\": 4374}, {\"monthday\": \"04/05\", \"calls\": 3999}, {\"monthday\": \"04/06\", \"calls\": 4367}, {\"monthday\": \"04/07\", \"calls\": 4745}, {\"monthday\": \"04/08\", \"calls\": 5068}, {\"monthday\": \"04/09\", \"calls\": 3963}, {\"monthday\": \"04/10\", \"calls\": 4735}, {\"monthday\": \"04/11\", \"calls\": 4426}, {\"monthday\": \"04/12\", \"calls\": 4433}, {\"monthday\": \"04/13\", \"calls\": 4869}, {\"monthday\": \"04/14\", \"calls\": 5640}, {\"monthday\": \"04/15\", \"calls\": 5756}, {\"monthday\": \"04/16\", \"calls\": 5500}, {\"monthday\": \"04/17\", \"calls\": 5591}, {\"monthday\": \"04/18\", \"calls\": 5344}, {\"monthday\": \"04/19\", \"calls\": 4947}, {\"monthday\": \"04/20\", \"calls\": 5218}, {\"monthday\": \"04/21\", \"calls\": 5600}, {\"monthday\": \"04/22\", \"calls\": 5545}, {\"monthday\": \"04/23\", \"calls\": 5674}, {\"monthday\": \"04/24\", \"calls\": 5625}, {\"monthday\": \"04/25\", \"calls\": 5449}, {\"monthday\": \"04/26\", \"calls\": 5104}, {\"monthday\": \"04/27\", \"calls\": 5376}, {\"monthday\": \"04/28\", \"calls\": 5701}, {\"monthday\": \"04/29\", \"calls\": 5785}, {\"monthday\": \"04/30\", \"calls\": 5931}, {\"monthday\": \"05/01\", \"calls\": 5757}, {\"monthday\": \"05/02\", \"calls\": 5596}, {\"monthday\": \"05/03\", \"calls\": 5139}, {\"monthday\": \"05/04\", \"calls\": 5386}, {\"monthday\": \"05/05\", \"calls\": 6151}, {\"monthday\": \"05/06\", \"calls\": 6021}, {\"monthday\": \"05/07\", \"calls\": 5884}, {\"monthday\": \"05/08\", \"calls\": 5685}, {\"monthday\": \"05/09\", \"calls\": 5348}, {\"monthday\": \"05/10\", \"calls\": 4616}, {\"monthday\": \"05/11\", \"calls\": 5213}, {\"monthday\": \"05/12\", \"calls\": 6077}, {\"monthday\": \"05/13\", \"calls\": 5899}, {\"monthday\": \"05/14\", \"calls\": 5844}, {\"monthday\": \"05/15\", \"calls\": 5974}, {\"monthday\": \"05/16\", \"calls\": 5177}, {\"monthday\": \"05/17\", \"calls\": 5129}, {\"monthday\": \"05/18\", \"calls\": 5193}, {\"monthday\": \"05/19\", \"calls\": 5668}, {\"monthday\": \"05/20\", \"calls\": 6070}, {\"monthday\": \"05/21\", \"calls\": 5254}, {\"monthday\": \"05/22\", \"calls\": 5567}, {\"monthday\": \"05/23\", \"calls\": 5972}, {\"monthday\": \"05/24\", \"calls\": 5945}, {\"monthday\": \"05/25\", \"calls\": 5679}, {\"monthday\": \"05/26\", \"calls\": 5548}, {\"monthday\": \"05/27\", \"calls\": 4810}, {\"monthday\": \"05/28\", \"calls\": 5028}, {\"monthday\": \"05/29\", \"calls\": 4128}, {\"monthday\": \"05/30\", \"calls\": 2435}, {\"monthday\": \"05/31\", \"calls\": 2611}, {\"monthday\": \"06/01\", \"calls\": 2702}, {\"monthday\": \"06/02\", \"calls\": 2618}, {\"monthday\": \"06/03\", \"calls\": 2463}, {\"monthday\": \"06/04\", \"calls\": 2485}, {\"monthday\": \"06/05\", \"calls\": 2761}, {\"monthday\": \"06/06\", \"calls\": 2594}, {\"monthday\": \"06/07\", \"calls\": 2830}, {\"monthday\": \"06/08\", \"calls\": 2977}, {\"monthday\": \"06/09\", \"calls\": 3051}, {\"monthday\": \"06/10\", \"calls\": 3743}, {\"monthday\": \"06/11\", \"calls\": 4063}, {\"monthday\": \"06/12\", \"calls\": 4076}, {\"monthday\": \"06/13\", \"calls\": 4082}, {\"monthday\": \"06/14\", \"calls\": 3881}, {\"monthday\": \"06/15\", \"calls\": 4178}, {\"monthday\": \"06/16\", \"calls\": 4617}, {\"monthday\": \"06/17\", \"calls\": 4583}, {\"monthday\": \"06/18\", \"calls\": 4659}, {\"monthday\": \"06/19\", \"calls\": 4522}, {\"monthday\": \"06/20\", \"calls\": 4539}]}}, {\"mode\": \"vega-lite\"});\n",
       "</script>"
      ],
      "text/plain": [
       "alt.LayerChart(...)"
      ]
     },
     "execution_count": 23,
     "metadata": {},
     "output_type": "execute_result"
    }
   ],
   "source": [
    "chart = alt.Chart((this_year))\\\n",
    "    .mark_area(size=3,opacity=.6, color='#B32F2E', interpolate='monotone')\\\n",
    "    .encode(\n",
    "    x=alt.X('monthday:T', title=' ', axis=alt.Axis(grid=False, tickCount=6, format='%B')),\n",
    "    y=alt.Y('calls:Q', stack=None, title=' ', axis=alt.Axis(gridWidth=.6,\\\n",
    "     gridColor='#dddddd',offset=6,tickSize=0,domainOpacity=0,tickCount=4, format=''),\\\n",
    "           scale=alt.Scale(domain=(0, 6000)))\n",
    ").properties(width=630, height=400,\n",
    "     title='All service calls to LAPD: 2020'\n",
    ")\n",
    "\n",
    "rule = alt.Chart(this_year).mark_rule(color='#666', size=1).encode(\n",
    "    y='mean(calls):Q',\n",
    ")\n",
    "\n",
    "text = rule.mark_text(\n",
    "    color=\"#000000\", font='Benton Gothic', fontSize=12,\n",
    "    align='center',\n",
    "    baseline='middle',\n",
    "    dx=112,\n",
    "    dy=12,\n",
    "    fontWeight='bold',\n",
    ").encode(\n",
    "    text=alt.Text('label:N', format=\"\")).transform_calculate(label='\"Average: 4,900\"')\n",
    "\n",
    "text_protest = rule.mark_text(\n",
    "    color=\"#000000\", font='Benton Gothic', fontSize=12,\n",
    "    align='center',\n",
    "    baseline='middle',\n",
    "    dx=252,\n",
    "    dy=-130,\n",
    "    fontWeight='bold',\n",
    ").encode(\n",
    "    text=alt.Text('label:N', format=\"\")).transform_calculate(label='\"Protests\"')\n",
    "\n",
    "protest_annotation = alt.Chart(protest_period).mark_area(color='#999', opacity=.3).encode(\n",
    "    y='mean_before',\n",
    "    x='monthday:T'\n",
    ")\n",
    "\n",
    "(protest_annotation + chart + text + text_protest + rule).configure_view(strokeOpacity=0).configure_legend(\n",
    "    orient='top',\n",
    "    symbolType='stroke'\n",
    ").configure_legend(symbolType='square')"
   ]
  },
  {
   "cell_type": "markdown",
   "metadata": {},
   "source": [
    "---"
   ]
  },
  {
   "cell_type": "markdown",
   "metadata": {},
   "source": [
    "### What are these 'Code 6' calls to LAPD?"
   ]
  },
  {
   "cell_type": "markdown",
   "metadata": {},
   "source": [
    "'Code 6' is an officer-initiated call. When they observe something, they go 'Code 6' and give their location. In 2020, these were is a significant portion (45%) of the daily volume. "
   ]
  },
  {
   "cell_type": "code",
   "execution_count": 24,
   "metadata": {},
   "outputs": [
    {
     "data": {
      "text/plain": [
       "CODE 6          0.448007\n",
       "TRAFFIC STOP    0.062945\n",
       "MAN             0.042802\n",
       "GRP             0.026967\n",
       "SUSP NOW        0.023138\n",
       "Name: call_type_description, dtype: float64"
      ]
     },
     "execution_count": 24,
     "metadata": {},
     "output_type": "execute_result"
    }
   ],
   "source": [
    "los_angeles[los_angeles['year'] == '2020'].call_type_description.value_counts('normalize').head()"
   ]
  },
  {
   "cell_type": "markdown",
   "metadata": {},
   "source": [
    "### Without those 'Code 6' calls, traffic stops are the largest group"
   ]
  },
  {
   "cell_type": "code",
   "execution_count": 25,
   "metadata": {},
   "outputs": [
    {
     "data": {
      "text/plain": [
       "TRAFFIC STOP     0.114032\n",
       "MAN              0.077541\n",
       "GRP              0.048855\n",
       "SUSP NOW         0.041917\n",
       "TRESPASS SUSP    0.039465\n",
       "Name: call_type_description, dtype: float64"
      ]
     },
     "execution_count": 25,
     "metadata": {},
     "output_type": "execute_result"
    }
   ],
   "source": [
    "los_angeles[(los_angeles['year'] == '2020') & (los_angeles['call_type_description'] != 'CODE 6')].call_type_description.value_counts('normalize').head()"
   ]
  },
  {
   "cell_type": "markdown",
   "metadata": {},
   "source": [
    "### What's the share of calls per day this year from outside LAPD jurisdiction, by type?"
   ]
  },
  {
   "cell_type": "code",
   "execution_count": 26,
   "metadata": {},
   "outputs": [],
   "source": [
    "this_year_outside = outside[outside['year'] == '2020'].groupby(['monthday', 'call_type_description']).agg('size').reset_index(name='calls')"
   ]
  },
  {
   "cell_type": "code",
   "execution_count": 27,
   "metadata": {},
   "outputs": [
    {
     "data": {
      "text/plain": [
       "CODE 6          0.210526\n",
       "TRAFFIC STOP    0.210526\n",
       "BACK-UP         0.162791\n",
       "INVEST          0.085679\n",
       "HELP            0.075887\n",
       "Name: call_type_description, dtype: float64"
      ]
     },
     "execution_count": 27,
     "metadata": {},
     "output_type": "execute_result"
    }
   ],
   "source": [
    "this_year_outside.call_type_description.value_counts('normalize').head()"
   ]
  },
  {
   "cell_type": "code",
   "execution_count": 28,
   "metadata": {},
   "outputs": [
    {
     "data": {
      "text/plain": [
       "False    0.893508\n",
       "True     0.106492\n",
       "Name: outside_yn, dtype: float64"
      ]
     },
     "execution_count": 28,
     "metadata": {},
     "output_type": "execute_result"
    }
   ],
   "source": [
    "los_angeles.outside_yn.value_counts('normalize').head()"
   ]
  },
  {
   "cell_type": "markdown",
   "metadata": {},
   "source": [
    "### Various frames for charting"
   ]
  },
  {
   "cell_type": "code",
   "execution_count": 29,
   "metadata": {},
   "outputs": [],
   "source": [
    "this_year_no_code6_all = no_code6[no_code6['year'] == '2020'].groupby(['monthday']).agg('size').reset_index(name='calls')"
   ]
  },
  {
   "cell_type": "code",
   "execution_count": 30,
   "metadata": {},
   "outputs": [],
   "source": [
    "this_year_no_code6 = no_code6[no_code6['year'] == '2020'].groupby(['monthday', 'reporting_district']).agg('size').reset_index(name='calls')"
   ]
  },
  {
   "cell_type": "code",
   "execution_count": 31,
   "metadata": {},
   "outputs": [],
   "source": [
    "this_year_w_code6 = los_angeles[los_angeles['year'] == '2020'].groupby(['monthday', 'reporting_district']).agg('size').reset_index(name='calls')"
   ]
  },
  {
   "cell_type": "code",
   "execution_count": 32,
   "metadata": {},
   "outputs": [],
   "source": [
    "this_year_traffic_stop = los_angeles[(los_angeles['year'] == '2020') \\\n",
    "                                     & (los_angeles['call_type_description'] == 'TRAFFIC STOP')].groupby(['monthday', 'reporting_district']).agg('size').reset_index(name='calls')"
   ]
  },
  {
   "cell_type": "code",
   "execution_count": 33,
   "metadata": {},
   "outputs": [
    {
     "data": {
      "text/plain": [
       "2729.389534883721"
      ]
     },
     "execution_count": 33,
     "metadata": {},
     "output_type": "execute_result"
    }
   ],
   "source": [
    "this_year_no_code6_all.calls.mean()"
   ]
  },
  {
   "cell_type": "markdown",
   "metadata": {},
   "source": [
    "### How does the 'all calls' chart change without 'Code 6' incidents?"
   ]
  },
  {
   "cell_type": "code",
   "execution_count": 34,
   "metadata": {},
   "outputs": [
    {
     "data": {
      "text/html": [
       "\n",
       "<div id=\"altair-viz-b598fd0bb7ea404b9531b18b6e04fa16\"></div>\n",
       "<script type=\"text/javascript\">\n",
       "  (function(spec, embedOpt){\n",
       "    const outputDiv = document.getElementById(\"altair-viz-b598fd0bb7ea404b9531b18b6e04fa16\");\n",
       "    const paths = {\n",
       "      \"vega\": \"https://cdn.jsdelivr.net/npm//vega@5?noext\",\n",
       "      \"vega-lib\": \"https://cdn.jsdelivr.net/npm//vega-lib?noext\",\n",
       "      \"vega-lite\": \"https://cdn.jsdelivr.net/npm//vega-lite@4.0.2?noext\",\n",
       "      \"vega-embed\": \"https://cdn.jsdelivr.net/npm//vega-embed@6?noext\",\n",
       "    };\n",
       "\n",
       "    function loadScript(lib) {\n",
       "      return new Promise(function(resolve, reject) {\n",
       "        var s = document.createElement('script');\n",
       "        s.src = paths[lib];\n",
       "        s.async = true;\n",
       "        s.onload = () => resolve(paths[lib]);\n",
       "        s.onerror = () => reject(`Error loading script: ${paths[lib]}`);\n",
       "        document.getElementsByTagName(\"head\")[0].appendChild(s);\n",
       "      });\n",
       "    }\n",
       "\n",
       "    function showError(err) {\n",
       "      outputDiv.innerHTML = `<div class=\"error\" style=\"color:red;\">${err}</div>`;\n",
       "      throw err;\n",
       "    }\n",
       "\n",
       "    function displayChart(vegaEmbed) {\n",
       "      vegaEmbed(outputDiv, spec, embedOpt)\n",
       "        .catch(err => showError(`Javascript Error: ${err.message}<br>This usually means there's a typo in your chart specification. See the javascript console for the full traceback.`));\n",
       "    }\n",
       "\n",
       "    if(typeof define === \"function\" && define.amd) {\n",
       "      requirejs.config({paths});\n",
       "      require([\"vega-embed\"], displayChart, err => showError(`Error loading script: ${err.message}`));\n",
       "    } else if (typeof vegaEmbed === \"function\") {\n",
       "      displayChart(vegaEmbed);\n",
       "    } else {\n",
       "      loadScript(\"vega\")\n",
       "        .then(() => loadScript(\"vega-lite\"))\n",
       "        .then(() => loadScript(\"vega-embed\"))\n",
       "        .catch(showError)\n",
       "        .then(() => displayChart(vegaEmbed));\n",
       "    }\n",
       "  })({\"config\": {\"view\": {\"width\": 800, \"height\": 450, \"strokeOpacity\": 0}, \"background\": \"#ffffff\", \"title\": {\"anchor\": \"start\", \"font\": \"Benton Gothic Bold, sans\", \"fontColor\": \"#000000\", \"fontSize\": 22, \"fontWeight\": \"normal\"}, \"arc\": {\"fill\": \"#82c6df\"}, \"area\": {\"fill\": \"#82c6df\"}, \"line\": {\"stroke\": \"#82c6df\", \"strokeWidth\": 3}, \"path\": {\"stroke\": \"#82c6df\"}, \"rect\": {\"fill\": \"#82c6df\"}, \"shape\": {\"stroke\": \"#82c6df\"}, \"bar\": {\"fill\": \"#82c6df\"}, \"point\": {\"stroke\": \"#82c6df\"}, \"symbol\": {\"fill\": \"#82c6df\", \"size\": 30}, \"axis\": {\"titleFont\": \"Benton Gothic Bold, sans\", \"titleFontSize\": 13, \"titleFontWeight\": \"normal\", \"labelFont\": \"Benton Gothic, sans\", \"labelFontSize\": 11.5, \"labelFontWeight\": \"normal\"}, \"axisX\": {\"labelAngle\": 0, \"labelPadding\": 4, \"tickSize\": 3}, \"axisY\": {\"labelBaseline\": \"middle\", \"maxExtent\": 45, \"minExtent\": 45, \"tickSize\": 2, \"titleAlign\": \"left\", \"titleAngle\": 0, \"titleX\": -45, \"titleY\": -11}, \"legend\": {\"titleFont\": \"Benton Gothic Bold, sans\", \"titleFontSize\": 13, \"titleFontWeight\": \"normal\", \"symbolType\": \"square\", \"labelFont\": \"Benton Gothic, sans\", \"labelFontSize\": 11.5}, \"range\": {\"category\": [\"#3580b1\", \"#ec8431\", \"#ab7fb4\", \"#c89d29\", \"#adc839\", \"#829eb1\"], \"diverging\": [\"#e68a4f\", \"#f4bb6a\", \"#f9e39c\", \"#dadfe2\", \"#a6b7c6\", \"#849eae\"], \"heatmap\": [\"#fbf2c7\", \"#f9e39c\", \"#f8d36e\", \"#f4bb6a\", \"#e68a4f\", \"#d15a40\", \"#ab4232\"], \"ordinal\": [\"#fbf2c7\", \"#f9e39c\", \"#f8d36e\", \"#f4bb6a\", \"#e68a4f\", \"#d15a40\", \"#ab4232\"], \"ramp\": [\"#fbf2c7\", \"#f9e39c\", \"#f8d36e\", \"#f4bb6a\", \"#e68a4f\", \"#d15a40\", \"#ab4232\"]}}, \"layer\": [{\"data\": {\"name\": \"data-c42d5a9a2592d8f92dd67e21bd293a8c\"}, \"mark\": {\"type\": \"area\", \"color\": \"#999\", \"opacity\": 0.3}, \"encoding\": {\"x\": {\"type\": \"temporal\", \"field\": \"monthday\"}, \"y\": {\"type\": \"quantitative\", \"field\": \"mean_no_code6\"}}}, {\"data\": {\"name\": \"data-45e714867bc4fc6473ec6fd71181c67e\"}, \"mark\": {\"type\": \"area\", \"color\": \"#B32F2E\", \"interpolate\": \"monotone\", \"opacity\": 0.6, \"size\": 3}, \"encoding\": {\"x\": {\"type\": \"temporal\", \"axis\": {\"format\": \"%B\", \"grid\": false, \"tickCount\": 6}, \"field\": \"monthday\", \"title\": \" \"}, \"y\": {\"type\": \"quantitative\", \"axis\": {\"domainOpacity\": 0, \"format\": \"\", \"gridColor\": \"#dddddd\", \"gridWidth\": 0.6, \"offset\": 6, \"tickCount\": 4, \"tickSize\": 0}, \"field\": \"calls\", \"scale\": {\"domain\": [0, 4000]}, \"stack\": null, \"title\": \" \"}}, \"height\": 400, \"title\": \"All service calls (no code 6) to LAPD: 2020\", \"width\": 630}, {\"data\": {\"name\": \"data-45e714867bc4fc6473ec6fd71181c67e\"}, \"mark\": {\"type\": \"text\", \"align\": \"center\", \"baseline\": \"middle\", \"color\": \"#000000\", \"dx\": 112, \"dy\": 12, \"font\": \"Benton Gothic\", \"fontSize\": 12, \"fontWeight\": \"bold\"}, \"encoding\": {\"text\": {\"type\": \"nominal\", \"field\": \"label\", \"format\": \"\"}, \"y\": {\"type\": \"quantitative\", \"aggregate\": \"mean\", \"field\": \"calls\"}}, \"transform\": [{\"calculate\": \"\\\"Average: 2,700\\\"\", \"as\": \"label\"}]}, {\"data\": {\"name\": \"data-45e714867bc4fc6473ec6fd71181c67e\"}, \"mark\": {\"type\": \"text\", \"align\": \"center\", \"baseline\": \"middle\", \"color\": \"#000000\", \"dx\": 252, \"dy\": -110, \"font\": \"Benton Gothic\", \"fontSize\": 12, \"fontWeight\": \"bold\"}, \"encoding\": {\"text\": {\"type\": \"nominal\", \"field\": \"label\", \"format\": \"\"}, \"y\": {\"type\": \"quantitative\", \"aggregate\": \"mean\", \"field\": \"calls\"}}, \"transform\": [{\"calculate\": \"\\\"Protests\\\"\", \"as\": \"label\"}]}, {\"data\": {\"name\": \"data-45e714867bc4fc6473ec6fd71181c67e\"}, \"mark\": {\"type\": \"rule\", \"color\": \"#666\", \"size\": 1}, \"encoding\": {\"y\": {\"type\": \"quantitative\", \"aggregate\": \"mean\", \"field\": \"calls\"}}}], \"$schema\": \"https://vega.github.io/schema/vega-lite/v4.0.2.json\", \"datasets\": {\"data-c42d5a9a2592d8f92dd67e21bd293a8c\": [{\"monthday\": \"05/28\", \"calls\": 5028, \"mean_no_code6\": 4000, \"mean_before\": 6724}, {\"monthday\": \"05/29\", \"calls\": 4128, \"mean_no_code6\": 4000, \"mean_before\": 6724}, {\"monthday\": \"05/30\", \"calls\": 2435, \"mean_no_code6\": 4000, \"mean_before\": 6724}, {\"monthday\": \"05/31\", \"calls\": 2611, \"mean_no_code6\": 4000, \"mean_before\": 6724}, {\"monthday\": \"06/01\", \"calls\": 2702, \"mean_no_code6\": 4000, \"mean_before\": 6724}, {\"monthday\": \"06/02\", \"calls\": 2618, \"mean_no_code6\": 4000, \"mean_before\": 6724}, {\"monthday\": \"06/03\", \"calls\": 2463, \"mean_no_code6\": 4000, \"mean_before\": 6724}, {\"monthday\": \"06/04\", \"calls\": 2485, \"mean_no_code6\": 4000, \"mean_before\": 6724}, {\"monthday\": \"06/05\", \"calls\": 2761, \"mean_no_code6\": 4000, \"mean_before\": 6724}, {\"monthday\": \"06/06\", \"calls\": 2594, \"mean_no_code6\": 4000, \"mean_before\": 6724}, {\"monthday\": \"06/07\", \"calls\": 2830, \"mean_no_code6\": 4000, \"mean_before\": 6724}, {\"monthday\": \"06/08\", \"calls\": 2977, \"mean_no_code6\": 4000, \"mean_before\": 6724}, {\"monthday\": \"06/09\", \"calls\": 3051, \"mean_no_code6\": 4000, \"mean_before\": 6724}], \"data-45e714867bc4fc6473ec6fd71181c67e\": [{\"monthday\": \"01/01\", \"calls\": 3241}, {\"monthday\": \"01/02\", \"calls\": 2719}, {\"monthday\": \"01/03\", \"calls\": 2735}, {\"monthday\": \"01/04\", \"calls\": 2887}, {\"monthday\": \"01/05\", \"calls\": 2559}, {\"monthday\": \"01/06\", \"calls\": 2674}, {\"monthday\": \"01/07\", \"calls\": 2611}, {\"monthday\": \"01/08\", \"calls\": 2611}, {\"monthday\": \"01/09\", \"calls\": 2641}, {\"monthday\": \"01/10\", \"calls\": 2702}, {\"monthday\": \"01/11\", \"calls\": 2636}, {\"monthday\": \"01/12\", \"calls\": 2646}, {\"monthday\": \"01/13\", \"calls\": 2552}, {\"monthday\": \"01/14\", \"calls\": 2427}, {\"monthday\": \"01/15\", \"calls\": 2716}, {\"monthday\": \"01/16\", \"calls\": 2505}, {\"monthday\": \"01/17\", \"calls\": 2854}, {\"monthday\": \"01/18\", \"calls\": 2915}, {\"monthday\": \"01/19\", \"calls\": 3059}, {\"monthday\": \"01/20\", \"calls\": 2755}, {\"monthday\": \"01/21\", \"calls\": 2813}, {\"monthday\": \"01/22\", \"calls\": 2777}, {\"monthday\": \"01/23\", \"calls\": 2787}, {\"monthday\": \"01/24\", \"calls\": 2951}, {\"monthday\": \"01/25\", \"calls\": 3176}, {\"monthday\": \"01/26\", \"calls\": 3009}, {\"monthday\": \"01/27\", \"calls\": 2632}, {\"monthday\": \"01/28\", \"calls\": 2717}, {\"monthday\": \"01/29\", \"calls\": 2854}, {\"monthday\": \"01/30\", \"calls\": 2776}, {\"monthday\": \"01/31\", \"calls\": 3011}, {\"monthday\": \"02/01\", \"calls\": 3154}, {\"monthday\": \"02/02\", \"calls\": 3148}, {\"monthday\": \"02/03\", \"calls\": 2854}, {\"monthday\": \"02/04\", \"calls\": 2665}, {\"monthday\": \"02/05\", \"calls\": 2553}, {\"monthday\": \"02/06\", \"calls\": 2654}, {\"monthday\": \"02/07\", \"calls\": 2971}, {\"monthday\": \"02/08\", \"calls\": 2950}, {\"monthday\": \"02/09\", \"calls\": 2717}, {\"monthday\": \"02/10\", \"calls\": 2832}, {\"monthday\": \"02/11\", \"calls\": 2813}, {\"monthday\": \"02/12\", \"calls\": 2718}, {\"monthday\": \"02/13\", \"calls\": 2887}, {\"monthday\": \"02/14\", \"calls\": 2998}, {\"monthday\": \"02/15\", \"calls\": 3002}, {\"monthday\": \"02/16\", \"calls\": 3017}, {\"monthday\": \"02/17\", \"calls\": 2745}, {\"monthday\": \"02/18\", \"calls\": 2692}, {\"monthday\": \"02/19\", \"calls\": 2922}, {\"monthday\": \"02/20\", \"calls\": 2829}, {\"monthday\": \"02/21\", \"calls\": 3107}, {\"monthday\": \"02/22\", \"calls\": 3079}, {\"monthday\": \"02/23\", \"calls\": 3099}, {\"monthday\": \"02/24\", \"calls\": 3072}, {\"monthday\": \"02/25\", \"calls\": 2977}, {\"monthday\": \"02/26\", \"calls\": 2842}, {\"monthday\": \"02/27\", \"calls\": 2896}, {\"monthday\": \"02/28\", \"calls\": 3033}, {\"monthday\": \"02/29\", \"calls\": 3149}, {\"monthday\": \"03/01\", \"calls\": 3022}, {\"monthday\": \"03/02\", \"calls\": 2884}, {\"monthday\": \"03/03\", \"calls\": 2549}, {\"monthday\": \"03/04\", \"calls\": 2723}, {\"monthday\": \"03/05\", \"calls\": 2928}, {\"monthday\": \"03/06\", \"calls\": 2911}, {\"monthday\": \"03/07\", \"calls\": 3130}, {\"monthday\": \"03/08\", \"calls\": 2995}, {\"monthday\": \"03/09\", \"calls\": 2709}, {\"monthday\": \"03/10\", \"calls\": 2551}, {\"monthday\": \"03/11\", \"calls\": 2766}, {\"monthday\": \"03/12\", \"calls\": 2386}, {\"monthday\": \"03/13\", \"calls\": 2579}, {\"monthday\": \"03/14\", \"calls\": 2807}, {\"monthday\": \"03/15\", \"calls\": 2968}, {\"monthday\": \"03/16\", \"calls\": 2503}, {\"monthday\": \"03/17\", \"calls\": 2781}, {\"monthday\": \"03/18\", \"calls\": 2487}, {\"monthday\": \"03/19\", \"calls\": 2401}, {\"monthday\": \"03/20\", \"calls\": 2548}, {\"monthday\": \"03/21\", \"calls\": 2820}, {\"monthday\": \"03/22\", \"calls\": 2406}, {\"monthday\": \"03/23\", \"calls\": 2446}, {\"monthday\": \"03/24\", \"calls\": 2394}, {\"monthday\": \"03/25\", \"calls\": 2412}, {\"monthday\": \"03/26\", \"calls\": 2405}, {\"monthday\": \"03/27\", \"calls\": 2488}, {\"monthday\": \"03/28\", \"calls\": 2790}, {\"monthday\": \"03/29\", \"calls\": 2633}, {\"monthday\": \"03/30\", \"calls\": 2352}, {\"monthday\": \"03/31\", \"calls\": 2698}, {\"monthday\": \"04/01\", \"calls\": 2689}, {\"monthday\": \"04/02\", \"calls\": 2619}, {\"monthday\": \"04/03\", \"calls\": 2544}, {\"monthday\": \"04/04\", \"calls\": 2739}, {\"monthday\": \"04/05\", \"calls\": 2610}, {\"monthday\": \"04/06\", \"calls\": 2309}, {\"monthday\": \"04/07\", \"calls\": 2339}, {\"monthday\": \"04/08\", \"calls\": 2400}, {\"monthday\": \"04/09\", \"calls\": 1945}, {\"monthday\": \"04/10\", \"calls\": 2468}, {\"monthday\": \"04/11\", \"calls\": 2755}, {\"monthday\": \"04/12\", \"calls\": 2906}, {\"monthday\": \"04/13\", \"calls\": 2489}, {\"monthday\": \"04/14\", \"calls\": 2730}, {\"monthday\": \"04/15\", \"calls\": 2831}, {\"monthday\": \"04/16\", \"calls\": 2727}, {\"monthday\": \"04/17\", \"calls\": 2821}, {\"monthday\": \"04/18\", \"calls\": 3055}, {\"monthday\": \"04/19\", \"calls\": 3044}, {\"monthday\": \"04/20\", \"calls\": 2810}, {\"monthday\": \"04/21\", \"calls\": 2780}, {\"monthday\": \"04/22\", \"calls\": 2783}, {\"monthday\": \"04/23\", \"calls\": 2829}, {\"monthday\": \"04/24\", \"calls\": 3176}, {\"monthday\": \"04/25\", \"calls\": 3275}, {\"monthday\": \"04/26\", \"calls\": 3188}, {\"monthday\": \"04/27\", \"calls\": 2975}, {\"monthday\": \"04/28\", \"calls\": 2874}, {\"monthday\": \"04/29\", \"calls\": 2838}, {\"monthday\": \"04/30\", \"calls\": 2989}, {\"monthday\": \"05/01\", \"calls\": 3073}, {\"monthday\": \"05/02\", \"calls\": 3343}, {\"monthday\": \"05/03\", \"calls\": 3264}, {\"monthday\": \"05/04\", \"calls\": 2911}, {\"monthday\": \"05/05\", \"calls\": 3078}, {\"monthday\": \"05/06\", \"calls\": 2995}, {\"monthday\": \"05/07\", \"calls\": 3068}, {\"monthday\": \"05/08\", \"calls\": 3102}, {\"monthday\": \"05/09\", \"calls\": 3264}, {\"monthday\": \"05/10\", \"calls\": 3003}, {\"monthday\": \"05/11\", \"calls\": 2692}, {\"monthday\": \"05/12\", \"calls\": 2902}, {\"monthday\": \"05/13\", \"calls\": 2798}, {\"monthday\": \"05/14\", \"calls\": 2927}, {\"monthday\": \"05/15\", \"calls\": 3289}, {\"monthday\": \"05/16\", \"calls\": 3209}, {\"monthday\": \"05/17\", \"calls\": 3336}, {\"monthday\": \"05/18\", \"calls\": 2835}, {\"monthday\": \"05/19\", \"calls\": 2903}, {\"monthday\": \"05/20\", \"calls\": 3043}, {\"monthday\": \"05/21\", \"calls\": 2586}, {\"monthday\": \"05/22\", \"calls\": 3093}, {\"monthday\": \"05/23\", \"calls\": 3266}, {\"monthday\": \"05/24\", \"calls\": 3261}, {\"monthday\": \"05/25\", \"calls\": 3081}, {\"monthday\": \"05/26\", \"calls\": 2836}, {\"monthday\": \"05/27\", \"calls\": 2491}, {\"monthday\": \"05/28\", \"calls\": 2502}, {\"monthday\": \"05/29\", \"calls\": 2167}, {\"monthday\": \"05/30\", \"calls\": 1655}, {\"monthday\": \"05/31\", \"calls\": 1693}, {\"monthday\": \"06/01\", \"calls\": 1631}, {\"monthday\": \"06/02\", \"calls\": 1689}, {\"monthday\": \"06/03\", \"calls\": 1579}, {\"monthday\": \"06/04\", \"calls\": 1573}, {\"monthday\": \"06/05\", \"calls\": 1763}, {\"monthday\": \"06/06\", \"calls\": 1753}, {\"monthday\": \"06/07\", \"calls\": 1809}, {\"monthday\": \"06/08\", \"calls\": 1782}, {\"monthday\": \"06/09\", \"calls\": 1700}, {\"monthday\": \"06/10\", \"calls\": 2263}, {\"monthday\": \"06/11\", \"calls\": 2354}, {\"monthday\": \"06/12\", \"calls\": 2545}, {\"monthday\": \"06/13\", \"calls\": 2825}, {\"monthday\": \"06/14\", \"calls\": 2894}, {\"monthday\": \"06/15\", \"calls\": 2524}, {\"monthday\": \"06/16\", \"calls\": 2469}, {\"monthday\": \"06/17\", \"calls\": 2559}, {\"monthday\": \"06/18\", \"calls\": 2745}, {\"monthday\": \"06/19\", \"calls\": 2805}, {\"monthday\": \"06/20\", \"calls\": 3195}]}}, {\"mode\": \"vega-lite\"});\n",
       "</script>"
      ],
      "text/plain": [
       "alt.LayerChart(...)"
      ]
     },
     "execution_count": 34,
     "metadata": {},
     "output_type": "execute_result"
    }
   ],
   "source": [
    "chart = alt.Chart((this_year_no_code6_all))\\\n",
    "    .mark_area(size=3,opacity=.6, color='#B32F2E', interpolate='monotone')\\\n",
    "    .encode(\n",
    "    x=alt.X('monthday:T', title=' ', axis=alt.Axis(grid=False, tickCount=6, format='%B')),\n",
    "    y=alt.Y('calls:Q', stack=None, title=' ', axis=alt.Axis(gridWidth=.6,\\\n",
    "     gridColor='#dddddd',offset=6,tickSize=0,domainOpacity=0,tickCount=4, format=''),\\\n",
    "           scale=alt.Scale(domain=(0, 4000)))\n",
    ").properties(width=630, height=400,\n",
    "     title='All service calls (no code 6) to LAPD: 2020'\n",
    ")\n",
    "\n",
    "rule = alt.Chart(this_year_no_code6_all).mark_rule(color='#666', size=1).encode(\n",
    "    y='mean(calls):Q',\n",
    ")\n",
    "\n",
    "text = rule.mark_text(\n",
    "    color=\"#000000\", font='Benton Gothic', fontSize=12,\n",
    "    align='center',\n",
    "    baseline='middle',\n",
    "    dx=112,\n",
    "    dy=12,\n",
    "    fontWeight='bold',\n",
    ").encode(\n",
    "    text=alt.Text('label:N', format=\"\")).transform_calculate(label='\"Average: 2,700\"')\n",
    "\n",
    "text_protest = rule.mark_text(\n",
    "    color=\"#000000\", font='Benton Gothic', fontSize=12,\n",
    "    align='center',\n",
    "    baseline='middle',\n",
    "    dx=252,\n",
    "    dy=-110,\n",
    "    fontWeight='bold',\n",
    ").encode(\n",
    "    text=alt.Text('label:N', format=\"\")).transform_calculate(label='\"Protests\"')\n",
    "\n",
    "protest_annotation = alt.Chart(protest_period).mark_area(color='#999', opacity=.3).encode(\n",
    "    y='mean_no_code6',\n",
    "    x='monthday:T'\n",
    ")\n",
    "\n",
    "(protest_annotation + chart + text + text_protest + rule).configure_view(strokeOpacity=0).configure_legend(\n",
    "    orient='top',\n",
    "    symbolType='stroke'\n",
    ").configure_legend(symbolType='square')"
   ]
  },
  {
   "cell_type": "markdown",
   "metadata": {},
   "source": [
    "### Which types of calls dropped the most during the protest period?"
   ]
  },
  {
   "cell_type": "code",
   "execution_count": 35,
   "metadata": {},
   "outputs": [],
   "source": [
    "calls_all_year = los_angeles[los_angeles['year'] == '2020'].groupby(['date','call_type_description']).agg('size').reset_index(name='calls')"
   ]
  },
  {
   "cell_type": "code",
   "execution_count": 36,
   "metadata": {},
   "outputs": [],
   "source": [
    "calls_during_protests = los_angeles_protests_during[los_angeles_protests_during['year'] == '2020']\\\n",
    "    .groupby(['date','call_type_description']).agg('size').reset_index(name='calls')"
   ]
  },
  {
   "cell_type": "code",
   "execution_count": 37,
   "metadata": {},
   "outputs": [],
   "source": [
    "calls_before_protests = los_angeles_protests_before[los_angeles_protests_before['year'] == '2020'].groupby(['date','call_type_description']).agg('size').reset_index(name='calls')"
   ]
  },
  {
   "cell_type": "code",
   "execution_count": 38,
   "metadata": {},
   "outputs": [],
   "source": [
    "types_during = calls_during_protests.groupby(['call_type_description']).agg('mean').reset_index()"
   ]
  },
  {
   "cell_type": "code",
   "execution_count": 39,
   "metadata": {},
   "outputs": [],
   "source": [
    "types_before = calls_before_protests.groupby(['call_type_description']).agg('mean').reset_index()"
   ]
  },
  {
   "cell_type": "code",
   "execution_count": 40,
   "metadata": {},
   "outputs": [
    {
     "data": {
      "text/html": [
       "<div>\n",
       "<style scoped>\n",
       "    .dataframe tbody tr th:only-of-type {\n",
       "        vertical-align: middle;\n",
       "    }\n",
       "\n",
       "    .dataframe tbody tr th {\n",
       "        vertical-align: top;\n",
       "    }\n",
       "\n",
       "    .dataframe thead th {\n",
       "        text-align: right;\n",
       "    }\n",
       "</style>\n",
       "<table border=\"1\" class=\"dataframe\">\n",
       "  <thead>\n",
       "    <tr style=\"text-align: right;\">\n",
       "      <th></th>\n",
       "      <th>call_type_description</th>\n",
       "      <th>calls</th>\n",
       "    </tr>\n",
       "  </thead>\n",
       "  <tbody>\n",
       "    <tr>\n",
       "      <th>92</th>\n",
       "      <td>CODE 6</td>\n",
       "      <td>1183.615385</td>\n",
       "    </tr>\n",
       "    <tr>\n",
       "      <th>308</th>\n",
       "      <td>SUSP NOW</td>\n",
       "      <td>157.000000</td>\n",
       "    </tr>\n",
       "    <tr>\n",
       "      <th>91</th>\n",
       "      <td>CODE 30 RINGER</td>\n",
       "      <td>125.538462</td>\n",
       "    </tr>\n",
       "    <tr>\n",
       "      <th>193</th>\n",
       "      <td>MAN</td>\n",
       "      <td>98.538462</td>\n",
       "    </tr>\n",
       "    <tr>\n",
       "      <th>112</th>\n",
       "      <td>DOM VIOL</td>\n",
       "      <td>82.846154</td>\n",
       "    </tr>\n",
       "  </tbody>\n",
       "</table>\n",
       "</div>"
      ],
      "text/plain": [
       "    call_type_description        calls\n",
       "92                 CODE 6  1183.615385\n",
       "308              SUSP NOW   157.000000\n",
       "91         CODE 30 RINGER   125.538462\n",
       "193                   MAN    98.538462\n",
       "112              DOM VIOL    82.846154"
      ]
     },
     "execution_count": 40,
     "metadata": {},
     "output_type": "execute_result"
    }
   ],
   "source": [
    "types_during.sort_values(by='calls', ascending=False).head(5)"
   ]
  },
  {
   "cell_type": "code",
   "execution_count": 41,
   "metadata": {},
   "outputs": [],
   "source": [
    "compare_calls = pd.DataFrame(types_before.merge(types_during, on='call_type_description').rename(columns={'calls_x':'avg_daily_before', 'calls_y':'avg_daily_after'}))"
   ]
  },
  {
   "cell_type": "code",
   "execution_count": 42,
   "metadata": {},
   "outputs": [],
   "source": [
    "compare_calls['pct_change'] = ((compare_calls['avg_daily_after'] - compare_calls['avg_daily_before'])/compare_calls['avg_daily_before']).round(2)"
   ]
  },
  {
   "cell_type": "code",
   "execution_count": 43,
   "metadata": {},
   "outputs": [],
   "source": [
    "compare_calls['raw_change'] = compare_calls['avg_daily_after'] - compare_calls['avg_daily_before']"
   ]
  },
  {
   "cell_type": "markdown",
   "metadata": {},
   "source": [
    "### Which types of calls saw the largest raw change during the protests?"
   ]
  },
  {
   "cell_type": "code",
   "execution_count": 44,
   "metadata": {},
   "outputs": [
    {
     "data": {
      "text/html": [
       "<div>\n",
       "<style scoped>\n",
       "    .dataframe tbody tr th:only-of-type {\n",
       "        vertical-align: middle;\n",
       "    }\n",
       "\n",
       "    .dataframe tbody tr th {\n",
       "        vertical-align: top;\n",
       "    }\n",
       "\n",
       "    .dataframe thead th {\n",
       "        text-align: right;\n",
       "    }\n",
       "</style>\n",
       "<table border=\"1\" class=\"dataframe\">\n",
       "  <thead>\n",
       "    <tr style=\"text-align: right;\">\n",
       "      <th></th>\n",
       "      <th>call_type_description</th>\n",
       "      <th>avg_daily_before</th>\n",
       "      <th>avg_daily_after</th>\n",
       "      <th>pct_change</th>\n",
       "      <th>raw_change</th>\n",
       "    </tr>\n",
       "  </thead>\n",
       "  <tbody>\n",
       "    <tr>\n",
       "      <th>92</th>\n",
       "      <td>CODE 6</td>\n",
       "      <td>2349.020000</td>\n",
       "      <td>1183.615385</td>\n",
       "      <td>-0.50</td>\n",
       "      <td>-1165.404615</td>\n",
       "    </tr>\n",
       "    <tr>\n",
       "      <th>318</th>\n",
       "      <td>TRAFFIC STOP</td>\n",
       "      <td>340.753333</td>\n",
       "      <td>66.307692</td>\n",
       "      <td>-0.81</td>\n",
       "      <td>-274.445641</td>\n",
       "    </tr>\n",
       "    <tr>\n",
       "      <th>193</th>\n",
       "      <td>MAN</td>\n",
       "      <td>222.446667</td>\n",
       "      <td>98.538462</td>\n",
       "      <td>-0.56</td>\n",
       "      <td>-123.908205</td>\n",
       "    </tr>\n",
       "    <tr>\n",
       "      <th>145</th>\n",
       "      <td>GRP</td>\n",
       "      <td>143.413333</td>\n",
       "      <td>33.076923</td>\n",
       "      <td>-0.77</td>\n",
       "      <td>-110.336410</td>\n",
       "    </tr>\n",
       "    <tr>\n",
       "      <th>319</th>\n",
       "      <td>TRESPASS SUSP</td>\n",
       "      <td>116.086667</td>\n",
       "      <td>24.076923</td>\n",
       "      <td>-0.79</td>\n",
       "      <td>-92.009744</td>\n",
       "    </tr>\n",
       "  </tbody>\n",
       "</table>\n",
       "</div>"
      ],
      "text/plain": [
       "    call_type_description  avg_daily_before  avg_daily_after  pct_change  \\\n",
       "92                 CODE 6       2349.020000      1183.615385       -0.50   \n",
       "318          TRAFFIC STOP        340.753333        66.307692       -0.81   \n",
       "193                   MAN        222.446667        98.538462       -0.56   \n",
       "145                   GRP        143.413333        33.076923       -0.77   \n",
       "319         TRESPASS SUSP        116.086667        24.076923       -0.79   \n",
       "\n",
       "      raw_change  \n",
       "92  -1165.404615  \n",
       "318  -274.445641  \n",
       "193  -123.908205  \n",
       "145  -110.336410  \n",
       "319   -92.009744  "
      ]
     },
     "execution_count": 44,
     "metadata": {},
     "output_type": "execute_result"
    }
   ],
   "source": [
    "compare_calls.sort_values(by='raw_change', ascending=True).head()"
   ]
  },
  {
   "cell_type": "markdown",
   "metadata": {},
   "source": [
    "### Which types of calls saw the largest % change during the protests?"
   ]
  },
  {
   "cell_type": "code",
   "execution_count": 45,
   "metadata": {},
   "outputs": [
    {
     "data": {
      "text/html": [
       "<div>\n",
       "<style scoped>\n",
       "    .dataframe tbody tr th:only-of-type {\n",
       "        vertical-align: middle;\n",
       "    }\n",
       "\n",
       "    .dataframe tbody tr th {\n",
       "        vertical-align: top;\n",
       "    }\n",
       "\n",
       "    .dataframe thead th {\n",
       "        text-align: right;\n",
       "    }\n",
       "</style>\n",
       "<table border=\"1\" class=\"dataframe\">\n",
       "  <thead>\n",
       "    <tr style=\"text-align: right;\">\n",
       "      <th></th>\n",
       "      <th>call_type_description</th>\n",
       "      <th>avg_daily_before</th>\n",
       "      <th>avg_daily_after</th>\n",
       "      <th>pct_change</th>\n",
       "      <th>raw_change</th>\n",
       "    </tr>\n",
       "  </thead>\n",
       "  <tbody>\n",
       "    <tr>\n",
       "      <th>228</th>\n",
       "      <td>PARTY</td>\n",
       "      <td>78.173333</td>\n",
       "      <td>9.250000</td>\n",
       "      <td>-0.88</td>\n",
       "      <td>-68.923333</td>\n",
       "    </tr>\n",
       "    <tr>\n",
       "      <th>94</th>\n",
       "      <td>COMPLAINT</td>\n",
       "      <td>27.133333</td>\n",
       "      <td>3.700000</td>\n",
       "      <td>-0.86</td>\n",
       "      <td>-23.433333</td>\n",
       "    </tr>\n",
       "    <tr>\n",
       "      <th>110</th>\n",
       "      <td>DISPUTE PUBLIC ORDER</td>\n",
       "      <td>29.000000</td>\n",
       "      <td>4.666667</td>\n",
       "      <td>-0.84</td>\n",
       "      <td>-24.333333</td>\n",
       "    </tr>\n",
       "    <tr>\n",
       "      <th>282</th>\n",
       "      <td>RADIO</td>\n",
       "      <td>74.806667</td>\n",
       "      <td>14.000000</td>\n",
       "      <td>-0.81</td>\n",
       "      <td>-60.806667</td>\n",
       "    </tr>\n",
       "    <tr>\n",
       "      <th>318</th>\n",
       "      <td>TRAFFIC STOP</td>\n",
       "      <td>340.753333</td>\n",
       "      <td>66.307692</td>\n",
       "      <td>-0.81</td>\n",
       "      <td>-274.445641</td>\n",
       "    </tr>\n",
       "  </tbody>\n",
       "</table>\n",
       "</div>"
      ],
      "text/plain": [
       "    call_type_description  avg_daily_before  avg_daily_after  pct_change  \\\n",
       "228                 PARTY         78.173333         9.250000       -0.88   \n",
       "94              COMPLAINT         27.133333         3.700000       -0.86   \n",
       "110  DISPUTE PUBLIC ORDER         29.000000         4.666667       -0.84   \n",
       "282                 RADIO         74.806667        14.000000       -0.81   \n",
       "318          TRAFFIC STOP        340.753333        66.307692       -0.81   \n",
       "\n",
       "     raw_change  \n",
       "228  -68.923333  \n",
       "94   -23.433333  \n",
       "110  -24.333333  \n",
       "282  -60.806667  \n",
       "318 -274.445641  "
      ]
     },
     "execution_count": 45,
     "metadata": {},
     "output_type": "execute_result"
    }
   ],
   "source": [
    "compare_calls.sort_values(by='pct_change', ascending=True).head()"
   ]
  },
  {
   "cell_type": "markdown",
   "metadata": {},
   "source": [
    "---"
   ]
  },
  {
   "cell_type": "markdown",
   "metadata": {},
   "source": [
    "### Inside vs. outside?"
   ]
  },
  {
   "cell_type": "code",
   "execution_count": 46,
   "metadata": {},
   "outputs": [],
   "source": [
    "los_angeles_inside = los_angeles[(los_angeles['reporting_district'] != 'Outside') & (los_angeles['year'] == '2020') ]"
   ]
  },
  {
   "cell_type": "code",
   "execution_count": 47,
   "metadata": {},
   "outputs": [],
   "source": [
    "calls_all_year_inside = los_angeles_inside[los_angeles_inside['year'] == '2020'].groupby(['date','call_type_description']).agg('size').reset_index(name='calls')"
   ]
  },
  {
   "cell_type": "code",
   "execution_count": 48,
   "metadata": {},
   "outputs": [],
   "source": [
    "types_inside = calls_all_year_inside.groupby(['call_type_description']).agg({'mean', 'sum'}).reset_index()"
   ]
  },
  {
   "cell_type": "code",
   "execution_count": null,
   "metadata": {},
   "outputs": [],
   "source": [
    "los_angeles.head()"
   ]
  },
  {
   "cell_type": "markdown",
   "metadata": {},
   "source": [
    "---"
   ]
  },
  {
   "cell_type": "code",
   "execution_count": null,
   "metadata": {},
   "outputs": [],
   "source": [
    "previous_year_fireworks = los_angeles[(los_angeles['month'] < 6) & (los_angeles['call_type_description'] == 'FIREWORKS')]\\\n",
    "    .groupby(['year']).agg('size').reset_index(name='calls')"
   ]
  },
  {
   "cell_type": "code",
   "execution_count": null,
   "metadata": {},
   "outputs": [],
   "source": [
    "previous_year_fireworks.to_csv('output/fireworks.csv')"
   ]
  },
  {
   "cell_type": "code",
   "execution_count": null,
   "metadata": {},
   "outputs": [],
   "source": [
    "previous_year_fireworks.calls.max()"
   ]
  },
  {
   "cell_type": "code",
   "execution_count": null,
   "metadata": {},
   "outputs": [],
   "source": [
    "this_year_fireworks = los_angeles[(los_angeles['year'] == '2020') & (los_angeles['call_type_description'] == 'FIREWORKS')].groupby(['monthday', 'reporting_district']).agg('size').reset_index(name='calls')"
   ]
  },
  {
   "cell_type": "code",
   "execution_count": null,
   "metadata": {},
   "outputs": [],
   "source": [
    "chart = alt.Chart((this_year_fireworks))\\\n",
    "    .mark_bar(size=1,opacity=1, color='#B32F2E')\\\n",
    "    .encode(\n",
    "    x=alt.X('monthday:T', title=' ', axis=alt.Axis(grid=False, tickCount=3, format='%B')),\n",
    "    y=alt.Y('calls:Q', stack=None, title=' ', axis=alt.Axis(gridWidth=.6,\\\n",
    "     gridColor='#dddddd',offset=6,tickSize=0,domainOpacity=0,tickCount=4, format=''),\\\n",
    "           scale=alt.Scale(domain=(0, 30))),\n",
    "    facet=alt.Facet('reporting_district:O', columns=7, title='LAPD reporting district')\n",
    ").properties(width=100, height=100,\n",
    "     title='All fireworks calls to LAPD: 2020'\n",
    ")\n",
    "\n",
    "chart.configure_view(strokeOpacity=0).configure_legend(\n",
    "    orient='top',\n",
    "    symbolType='stroke'\n",
    ").configure_legend(symbolType='square')"
   ]
  },
  {
   "cell_type": "code",
   "execution_count": null,
   "metadata": {},
   "outputs": [],
   "source": [
    "chart = alt.Chart((this_year_traffic_stop))\\\n",
    "    .mark_bar(size=1,opacity=1, color='#B32F2E')\\\n",
    "    .encode(\n",
    "    x=alt.X('monthday:T', title=' ', axis=alt.Axis(grid=False, tickCount=6, format='%B')),\n",
    "    y=alt.Y('calls:Q', stack=None, title=' ', axis=alt.Axis(gridWidth=.6,\\\n",
    "     gridColor='#dddddd',offset=6,tickSize=0,domainOpacity=0,tickCount=4, format=''),\\\n",
    "           scale=alt.Scale(domain=(0, 500))),\n",
    "    facet=alt.Facet('reporting_district:O', columns=6, title='LAPD reporting district')\n",
    ").properties(width=100, height=100,\n",
    "     title='All traffic stops handled by LAPD: 2020'\n",
    ")\n",
    "\n",
    "chart.configure_view(strokeOpacity=0).configure_legend(\n",
    "    orient='top',\n",
    "    symbolType='stroke'\n",
    ").configure_legend(symbolType='square')"
   ]
  },
  {
   "cell_type": "markdown",
   "metadata": {},
   "source": [
    "### Which cases are related to fireworks?"
   ]
  },
  {
   "cell_type": "code",
   "execution_count": null,
   "metadata": {},
   "outputs": [],
   "source": [
    "compare_calls[compare_calls['call_type_description'] == 'FIREWORKS'].sort_values(by='pct_change', ascending=True).head(30)"
   ]
  },
  {
   "cell_type": "code",
   "execution_count": 57,
   "metadata": {},
   "outputs": [],
   "source": [
    "fireworks = pd.DataFrame(df[df['call_type_code'] == '507F'])"
   ]
  },
  {
   "cell_type": "code",
   "execution_count": 58,
   "metadata": {},
   "outputs": [],
   "source": [
    "daily = fireworks[fireworks['year'] != '2020'].groupby(['monthday']).agg('size').reset_index(name='average')"
   ]
  },
  {
   "cell_type": "code",
   "execution_count": 59,
   "metadata": {},
   "outputs": [],
   "source": [
    "daily['average'] = daily['average']/10"
   ]
  },
  {
   "cell_type": "code",
   "execution_count": 60,
   "metadata": {},
   "outputs": [],
   "source": [
    "thisyear = fireworks[fireworks['year'] == '2020'].groupby(['monthday']).agg('size').reset_index(name='average')"
   ]
  },
  {
   "cell_type": "code",
   "execution_count": 61,
   "metadata": {},
   "outputs": [],
   "source": [
    "fireworks_trend = daily.merge(thisyear, on=['monthday'], how='left')"
   ]
  },
  {
   "cell_type": "code",
   "execution_count": 62,
   "metadata": {},
   "outputs": [],
   "source": [
    "fireworks_trend.rename(columns={'average_x':'Average 2010-2019', 'average_y':'ThisYear'}, inplace=True)"
   ]
  },
  {
   "cell_type": "code",
   "execution_count": 63,
   "metadata": {},
   "outputs": [],
   "source": [
    "fireworks_trend.ThisYear = fireworks_trend.ThisYear.ffill()"
   ]
  },
  {
   "cell_type": "code",
   "execution_count": 64,
   "metadata": {},
   "outputs": [],
   "source": [
    "fireworks_chart = pd.DataFrame(fireworks_trend[fireworks_trend['monthday'] < '06/20'])"
   ]
  },
  {
   "cell_type": "code",
   "execution_count": 65,
   "metadata": {},
   "outputs": [],
   "source": [
    "fireworks_melt = pd.melt(fireworks_chart, id_vars=['monthday'], value_vars=['Average 2010-2019', 'ThisYear'],\n",
    "        var_name='time', value_name='calls')"
   ]
  },
  {
   "cell_type": "code",
   "execution_count": 66,
   "metadata": {},
   "outputs": [
    {
     "data": {
      "text/html": [
       "<div>\n",
       "<style scoped>\n",
       "    .dataframe tbody tr th:only-of-type {\n",
       "        vertical-align: middle;\n",
       "    }\n",
       "\n",
       "    .dataframe tbody tr th {\n",
       "        vertical-align: top;\n",
       "    }\n",
       "\n",
       "    .dataframe thead th {\n",
       "        text-align: right;\n",
       "    }\n",
       "</style>\n",
       "<table border=\"1\" class=\"dataframe\">\n",
       "  <thead>\n",
       "    <tr style=\"text-align: right;\">\n",
       "      <th></th>\n",
       "      <th>monthday</th>\n",
       "      <th>time</th>\n",
       "      <th>calls</th>\n",
       "    </tr>\n",
       "  </thead>\n",
       "  <tbody>\n",
       "    <tr>\n",
       "      <th>0</th>\n",
       "      <td>01/01</td>\n",
       "      <td>Average 2010-2019</td>\n",
       "      <td>53.1</td>\n",
       "    </tr>\n",
       "    <tr>\n",
       "      <th>1</th>\n",
       "      <td>01/02</td>\n",
       "      <td>Average 2010-2019</td>\n",
       "      <td>6.1</td>\n",
       "    </tr>\n",
       "    <tr>\n",
       "      <th>2</th>\n",
       "      <td>01/03</td>\n",
       "      <td>Average 2010-2019</td>\n",
       "      <td>2.2</td>\n",
       "    </tr>\n",
       "    <tr>\n",
       "      <th>3</th>\n",
       "      <td>01/04</td>\n",
       "      <td>Average 2010-2019</td>\n",
       "      <td>2.9</td>\n",
       "    </tr>\n",
       "    <tr>\n",
       "      <th>4</th>\n",
       "      <td>01/05</td>\n",
       "      <td>Average 2010-2019</td>\n",
       "      <td>2.9</td>\n",
       "    </tr>\n",
       "  </tbody>\n",
       "</table>\n",
       "</div>"
      ],
      "text/plain": [
       "  monthday               time  calls\n",
       "0    01/01  Average 2010-2019   53.1\n",
       "1    01/02  Average 2010-2019    6.1\n",
       "2    01/03  Average 2010-2019    2.2\n",
       "3    01/04  Average 2010-2019    2.9\n",
       "4    01/05  Average 2010-2019    2.9"
      ]
     },
     "execution_count": 66,
     "metadata": {},
     "output_type": "execute_result"
    }
   ],
   "source": [
    "fireworks_melt.head()"
   ]
  },
  {
   "cell_type": "code",
   "execution_count": 108,
   "metadata": {},
   "outputs": [
    {
     "data": {
      "text/html": [
       "\n",
       "<div id=\"altair-viz-3f1937dd7a814357a9fe65bb3a893eb9\"></div>\n",
       "<script type=\"text/javascript\">\n",
       "  (function(spec, embedOpt){\n",
       "    const outputDiv = document.getElementById(\"altair-viz-3f1937dd7a814357a9fe65bb3a893eb9\");\n",
       "    const paths = {\n",
       "      \"vega\": \"https://cdn.jsdelivr.net/npm//vega@5?noext\",\n",
       "      \"vega-lib\": \"https://cdn.jsdelivr.net/npm//vega-lib?noext\",\n",
       "      \"vega-lite\": \"https://cdn.jsdelivr.net/npm//vega-lite@4.0.2?noext\",\n",
       "      \"vega-embed\": \"https://cdn.jsdelivr.net/npm//vega-embed@6?noext\",\n",
       "    };\n",
       "\n",
       "    function loadScript(lib) {\n",
       "      return new Promise(function(resolve, reject) {\n",
       "        var s = document.createElement('script');\n",
       "        s.src = paths[lib];\n",
       "        s.async = true;\n",
       "        s.onload = () => resolve(paths[lib]);\n",
       "        s.onerror = () => reject(`Error loading script: ${paths[lib]}`);\n",
       "        document.getElementsByTagName(\"head\")[0].appendChild(s);\n",
       "      });\n",
       "    }\n",
       "\n",
       "    function showError(err) {\n",
       "      outputDiv.innerHTML = `<div class=\"error\" style=\"color:red;\">${err}</div>`;\n",
       "      throw err;\n",
       "    }\n",
       "\n",
       "    function displayChart(vegaEmbed) {\n",
       "      vegaEmbed(outputDiv, spec, embedOpt)\n",
       "        .catch(err => showError(`Javascript Error: ${err.message}<br>This usually means there's a typo in your chart specification. See the javascript console for the full traceback.`));\n",
       "    }\n",
       "\n",
       "    if(typeof define === \"function\" && define.amd) {\n",
       "      requirejs.config({paths});\n",
       "      require([\"vega-embed\"], displayChart, err => showError(`Error loading script: ${err.message}`));\n",
       "    } else if (typeof vegaEmbed === \"function\") {\n",
       "      displayChart(vegaEmbed);\n",
       "    } else {\n",
       "      loadScript(\"vega\")\n",
       "        .then(() => loadScript(\"vega-lite\"))\n",
       "        .then(() => loadScript(\"vega-embed\"))\n",
       "        .catch(showError)\n",
       "        .then(() => displayChart(vegaEmbed));\n",
       "    }\n",
       "  })({\"config\": {\"view\": {\"width\": 800, \"height\": 450, \"strokeOpacity\": 0}, \"background\": \"#ffffff\", \"title\": {\"anchor\": \"start\", \"font\": \"Benton Gothic Bold, sans\", \"fontColor\": \"#000000\", \"fontSize\": 22, \"fontWeight\": \"normal\"}, \"arc\": {\"fill\": \"#82c6df\"}, \"area\": {\"fill\": \"#82c6df\"}, \"line\": {\"stroke\": \"#82c6df\", \"strokeWidth\": 3}, \"path\": {\"stroke\": \"#82c6df\"}, \"rect\": {\"fill\": \"#82c6df\"}, \"shape\": {\"stroke\": \"#82c6df\"}, \"bar\": {\"fill\": \"#82c6df\"}, \"point\": {\"stroke\": \"#82c6df\"}, \"symbol\": {\"fill\": \"#82c6df\", \"size\": 30}, \"axis\": {\"titleFont\": \"Benton Gothic Bold, sans\", \"titleFontSize\": 13, \"titleFontWeight\": \"normal\", \"labelFont\": \"Benton Gothic, sans\", \"labelFontSize\": 11.5, \"labelFontWeight\": \"normal\"}, \"axisX\": {\"labelAngle\": 0, \"labelPadding\": 4, \"tickSize\": 3}, \"axisY\": {\"labelBaseline\": \"middle\", \"maxExtent\": 45, \"minExtent\": 45, \"tickSize\": 2, \"titleAlign\": \"left\", \"titleAngle\": 0, \"titleX\": -45, \"titleY\": -11}, \"legend\": {\"titleFont\": \"Benton Gothic Bold, sans\", \"titleFontSize\": 13, \"titleFontWeight\": \"normal\", \"symbolType\": \"square\", \"labelFont\": \"Benton Gothic, sans\", \"labelFontSize\": 11.5, \"orient\": \"top\"}, \"range\": {\"category\": [\"#3580b1\", \"#ec8431\", \"#ab7fb4\", \"#c89d29\", \"#adc839\", \"#829eb1\"], \"diverging\": [\"#e68a4f\", \"#f4bb6a\", \"#f9e39c\", \"#dadfe2\", \"#a6b7c6\", \"#849eae\"], \"heatmap\": [\"#fbf2c7\", \"#f9e39c\", \"#f8d36e\", \"#f4bb6a\", \"#e68a4f\", \"#d15a40\", \"#ab4232\"], \"ordinal\": [\"#fbf2c7\", \"#f9e39c\", \"#f8d36e\", \"#f4bb6a\", \"#e68a4f\", \"#d15a40\", \"#ab4232\"], \"ramp\": [\"#fbf2c7\", \"#f9e39c\", \"#f8d36e\", \"#f4bb6a\", \"#e68a4f\", \"#d15a40\", \"#ab4232\"]}}, \"data\": {\"name\": \"data-341a9baab12fb395100bcb830a154e63\"}, \"mark\": {\"type\": \"bar\", \"opacity\": 0.4, \"size\": 4}, \"encoding\": {\"color\": {\"type\": \"nominal\", \"field\": \"time\", \"title\": \" \"}, \"x\": {\"type\": \"temporal\", \"axis\": {\"format\": \"%B\", \"grid\": false, \"tickCount\": 6}, \"field\": \"monthday\", \"title\": \" \"}, \"y\": {\"type\": \"quantitative\", \"axis\": {\"domainOpacity\": 0, \"format\": \"\", \"gridColor\": \"#dddddd\", \"gridWidth\": 0.6, \"offset\": 6, \"tickCount\": 4, \"tickSize\": 0}, \"field\": \"calls\", \"scale\": {\"domain\": [0, 200]}, \"stack\": null, \"title\": \" \"}}, \"height\": 400, \"title\": \"Fireworks calls to LAPD: 2010-2019\", \"width\": 630, \"$schema\": \"https://vega.github.io/schema/vega-lite/v4.0.2.json\", \"datasets\": {\"data-341a9baab12fb395100bcb830a154e63\": [{\"monthday\": \"01/01\", \"time\": \"Average 2010-2019\", \"calls\": 53.1}, {\"monthday\": \"01/02\", \"time\": \"Average 2010-2019\", \"calls\": 6.1}, {\"monthday\": \"01/03\", \"time\": \"Average 2010-2019\", \"calls\": 2.2}, {\"monthday\": \"01/04\", \"time\": \"Average 2010-2019\", \"calls\": 2.9}, {\"monthday\": \"01/05\", \"time\": \"Average 2010-2019\", \"calls\": 2.9}, {\"monthday\": \"01/06\", \"time\": \"Average 2010-2019\", \"calls\": 2.6}, {\"monthday\": \"01/07\", \"time\": \"Average 2010-2019\", \"calls\": 2.2}, {\"monthday\": \"01/08\", \"time\": \"Average 2010-2019\", \"calls\": 2.2}, {\"monthday\": \"01/09\", \"time\": \"Average 2010-2019\", \"calls\": 2.5}, {\"monthday\": \"01/10\", \"time\": \"Average 2010-2019\", \"calls\": 1.0}, {\"monthday\": \"01/11\", \"time\": \"Average 2010-2019\", \"calls\": 1.9}, {\"monthday\": \"01/12\", \"time\": \"Average 2010-2019\", \"calls\": 1.5}, {\"monthday\": \"01/13\", \"time\": \"Average 2010-2019\", \"calls\": 1.2}, {\"monthday\": \"01/14\", \"time\": \"Average 2010-2019\", \"calls\": 1.3}, {\"monthday\": \"01/15\", \"time\": \"Average 2010-2019\", \"calls\": 1.7}, {\"monthday\": \"01/16\", \"time\": \"Average 2010-2019\", \"calls\": 1.6}, {\"monthday\": \"01/17\", \"time\": \"Average 2010-2019\", \"calls\": 1.1}, {\"monthday\": \"01/18\", \"time\": \"Average 2010-2019\", \"calls\": 0.9}, {\"monthday\": \"01/19\", \"time\": \"Average 2010-2019\", \"calls\": 1.7}, {\"monthday\": \"01/20\", \"time\": \"Average 2010-2019\", \"calls\": 1.4}, {\"monthday\": \"01/21\", \"time\": \"Average 2010-2019\", \"calls\": 1.0}, {\"monthday\": \"01/22\", \"time\": \"Average 2010-2019\", \"calls\": 1.4}, {\"monthday\": \"01/23\", \"time\": \"Average 2010-2019\", \"calls\": 1.9}, {\"monthday\": \"01/24\", \"time\": \"Average 2010-2019\", \"calls\": 1.2}, {\"monthday\": \"01/25\", \"time\": \"Average 2010-2019\", \"calls\": 1.1}, {\"monthday\": \"01/26\", \"time\": \"Average 2010-2019\", \"calls\": 1.9}, {\"monthday\": \"01/27\", \"time\": \"Average 2010-2019\", \"calls\": 1.3}, {\"monthday\": \"01/28\", \"time\": \"Average 2010-2019\", \"calls\": 0.7}, {\"monthday\": \"01/29\", \"time\": \"Average 2010-2019\", \"calls\": 1.9}, {\"monthday\": \"01/30\", \"time\": \"Average 2010-2019\", \"calls\": 1.4}, {\"monthday\": \"01/31\", \"time\": \"Average 2010-2019\", \"calls\": 1.6}, {\"monthday\": \"02/01\", \"time\": \"Average 2010-2019\", \"calls\": 1.2}, {\"monthday\": \"02/02\", \"time\": \"Average 2010-2019\", \"calls\": 2.1}, {\"monthday\": \"02/03\", \"time\": \"Average 2010-2019\", \"calls\": 2.2}, {\"monthday\": \"02/04\", \"time\": \"Average 2010-2019\", \"calls\": 2.0}, {\"monthday\": \"02/05\", \"time\": \"Average 2010-2019\", \"calls\": 0.7}, {\"monthday\": \"02/06\", \"time\": \"Average 2010-2019\", \"calls\": 0.9}, {\"monthday\": \"02/07\", \"time\": \"Average 2010-2019\", \"calls\": 0.9}, {\"monthday\": \"02/08\", \"time\": \"Average 2010-2019\", \"calls\": 1.2}, {\"monthday\": \"02/09\", \"time\": \"Average 2010-2019\", \"calls\": 1.5}, {\"monthday\": \"02/10\", \"time\": \"Average 2010-2019\", \"calls\": 0.9}, {\"monthday\": \"02/11\", \"time\": \"Average 2010-2019\", \"calls\": 0.6}, {\"monthday\": \"02/12\", \"time\": \"Average 2010-2019\", \"calls\": 0.9}, {\"monthday\": \"02/13\", \"time\": \"Average 2010-2019\", \"calls\": 1.5}, {\"monthday\": \"02/14\", \"time\": \"Average 2010-2019\", \"calls\": 1.6}, {\"monthday\": \"02/15\", \"time\": \"Average 2010-2019\", \"calls\": 0.8}, {\"monthday\": \"02/16\", \"time\": \"Average 2010-2019\", \"calls\": 0.8}, {\"monthday\": \"02/17\", \"time\": \"Average 2010-2019\", \"calls\": 0.9}, {\"monthday\": \"02/18\", \"time\": \"Average 2010-2019\", \"calls\": 1.2}, {\"monthday\": \"02/19\", \"time\": \"Average 2010-2019\", \"calls\": 2.0}, {\"monthday\": \"02/20\", \"time\": \"Average 2010-2019\", \"calls\": 0.9}, {\"monthday\": \"02/21\", \"time\": \"Average 2010-2019\", \"calls\": 1.1}, {\"monthday\": \"02/22\", \"time\": \"Average 2010-2019\", \"calls\": 1.3}, {\"monthday\": \"02/23\", \"time\": \"Average 2010-2019\", \"calls\": 2.3}, {\"monthday\": \"02/24\", \"time\": \"Average 2010-2019\", \"calls\": 0.8}, {\"monthday\": \"02/25\", \"time\": \"Average 2010-2019\", \"calls\": 1.0}, {\"monthday\": \"02/26\", \"time\": \"Average 2010-2019\", \"calls\": 1.0}, {\"monthday\": \"02/27\", \"time\": \"Average 2010-2019\", \"calls\": 2.6}, {\"monthday\": \"02/28\", \"time\": \"Average 2010-2019\", \"calls\": 1.3}, {\"monthday\": \"02/29\", \"time\": \"Average 2010-2019\", \"calls\": 0.1}, {\"monthday\": \"03/01\", \"time\": \"Average 2010-2019\", \"calls\": 1.2}, {\"monthday\": \"03/02\", \"time\": \"Average 2010-2019\", \"calls\": 0.9}, {\"monthday\": \"03/03\", \"time\": \"Average 2010-2019\", \"calls\": 1.1}, {\"monthday\": \"03/04\", \"time\": \"Average 2010-2019\", \"calls\": 0.8}, {\"monthday\": \"03/05\", \"time\": \"Average 2010-2019\", \"calls\": 1.3}, {\"monthday\": \"03/06\", \"time\": \"Average 2010-2019\", \"calls\": 1.0}, {\"monthday\": \"03/07\", \"time\": \"Average 2010-2019\", \"calls\": 0.7}, {\"monthday\": \"03/08\", \"time\": \"Average 2010-2019\", \"calls\": 1.8}, {\"monthday\": \"03/09\", \"time\": \"Average 2010-2019\", \"calls\": 1.0}, {\"monthday\": \"03/10\", \"time\": \"Average 2010-2019\", \"calls\": 0.9}, {\"monthday\": \"03/11\", \"time\": \"Average 2010-2019\", \"calls\": 1.0}, {\"monthday\": \"03/12\", \"time\": \"Average 2010-2019\", \"calls\": 2.3}, {\"monthday\": \"03/13\", \"time\": \"Average 2010-2019\", \"calls\": 0.9}, {\"monthday\": \"03/14\", \"time\": \"Average 2010-2019\", \"calls\": 1.1}, {\"monthday\": \"03/15\", \"time\": \"Average 2010-2019\", \"calls\": 1.8}, {\"monthday\": \"03/16\", \"time\": \"Average 2010-2019\", \"calls\": 1.8}, {\"monthday\": \"03/17\", \"time\": \"Average 2010-2019\", \"calls\": 1.5}, {\"monthday\": \"03/18\", \"time\": \"Average 2010-2019\", \"calls\": 1.0}, {\"monthday\": \"03/19\", \"time\": \"Average 2010-2019\", \"calls\": 1.5}, {\"monthday\": \"03/20\", \"time\": \"Average 2010-2019\", \"calls\": 0.8}, {\"monthday\": \"03/21\", \"time\": \"Average 2010-2019\", \"calls\": 1.5}, {\"monthday\": \"03/22\", \"time\": \"Average 2010-2019\", \"calls\": 1.6}, {\"monthday\": \"03/23\", \"time\": \"Average 2010-2019\", \"calls\": 1.5}, {\"monthday\": \"03/24\", \"time\": \"Average 2010-2019\", \"calls\": 2.4}, {\"monthday\": \"03/25\", \"time\": \"Average 2010-2019\", \"calls\": 1.7}, {\"monthday\": \"03/26\", \"time\": \"Average 2010-2019\", \"calls\": 1.3}, {\"monthday\": \"03/27\", \"time\": \"Average 2010-2019\", \"calls\": 2.3}, {\"monthday\": \"03/28\", \"time\": \"Average 2010-2019\", \"calls\": 1.9}, {\"monthday\": \"03/29\", \"time\": \"Average 2010-2019\", \"calls\": 1.6}, {\"monthday\": \"03/30\", \"time\": \"Average 2010-2019\", \"calls\": 1.9}, {\"monthday\": \"03/31\", \"time\": \"Average 2010-2019\", \"calls\": 1.6}, {\"monthday\": \"04/01\", \"time\": \"Average 2010-2019\", \"calls\": 1.9}, {\"monthday\": \"04/02\", \"time\": \"Average 2010-2019\", \"calls\": 0.7}, {\"monthday\": \"04/03\", \"time\": \"Average 2010-2019\", \"calls\": 1.4}, {\"monthday\": \"04/04\", \"time\": \"Average 2010-2019\", \"calls\": 1.1}, {\"monthday\": \"04/05\", \"time\": \"Average 2010-2019\", \"calls\": 1.7}, {\"monthday\": \"04/06\", \"time\": \"Average 2010-2019\", \"calls\": 0.8}, {\"monthday\": \"04/07\", \"time\": \"Average 2010-2019\", \"calls\": 1.8}, {\"monthday\": \"04/08\", \"time\": \"Average 2010-2019\", \"calls\": 1.1}, {\"monthday\": \"04/09\", \"time\": \"Average 2010-2019\", \"calls\": 1.5}, {\"monthday\": \"04/10\", \"time\": \"Average 2010-2019\", \"calls\": 1.4}, {\"monthday\": \"04/11\", \"time\": \"Average 2010-2019\", \"calls\": 1.4}, {\"monthday\": \"04/12\", \"time\": \"Average 2010-2019\", \"calls\": 0.8}, {\"monthday\": \"04/13\", \"time\": \"Average 2010-2019\", \"calls\": 1.3}, {\"monthday\": \"04/14\", \"time\": \"Average 2010-2019\", \"calls\": 1.1}, {\"monthday\": \"04/15\", \"time\": \"Average 2010-2019\", \"calls\": 1.0}, {\"monthday\": \"04/16\", \"time\": \"Average 2010-2019\", \"calls\": 2.5}, {\"monthday\": \"04/17\", \"time\": \"Average 2010-2019\", \"calls\": 1.7}, {\"monthday\": \"04/18\", \"time\": \"Average 2010-2019\", \"calls\": 0.4}, {\"monthday\": \"04/19\", \"time\": \"Average 2010-2019\", \"calls\": 3.9}, {\"monthday\": \"04/20\", \"time\": \"Average 2010-2019\", \"calls\": 2.4}, {\"monthday\": \"04/21\", \"time\": \"Average 2010-2019\", \"calls\": 1.8}, {\"monthday\": \"04/22\", \"time\": \"Average 2010-2019\", \"calls\": 1.9}, {\"monthday\": \"04/23\", \"time\": \"Average 2010-2019\", \"calls\": 1.2}, {\"monthday\": \"04/24\", \"time\": \"Average 2010-2019\", \"calls\": 1.8}, {\"monthday\": \"04/25\", \"time\": \"Average 2010-2019\", \"calls\": 2.0}, {\"monthday\": \"04/26\", \"time\": \"Average 2010-2019\", \"calls\": 1.7}, {\"monthday\": \"04/27\", \"time\": \"Average 2010-2019\", \"calls\": 2.3}, {\"monthday\": \"04/28\", \"time\": \"Average 2010-2019\", \"calls\": 3.1}, {\"monthday\": \"04/29\", \"time\": \"Average 2010-2019\", \"calls\": 2.5}, {\"monthday\": \"04/30\", \"time\": \"Average 2010-2019\", \"calls\": 1.4}, {\"monthday\": \"05/01\", \"time\": \"Average 2010-2019\", \"calls\": 2.4}, {\"monthday\": \"05/02\", \"time\": \"Average 2010-2019\", \"calls\": 1.8}, {\"monthday\": \"05/03\", \"time\": \"Average 2010-2019\", \"calls\": 2.6}, {\"monthday\": \"05/04\", \"time\": \"Average 2010-2019\", \"calls\": 3.6}, {\"monthday\": \"05/05\", \"time\": \"Average 2010-2019\", \"calls\": 5.5}, {\"monthday\": \"05/06\", \"time\": \"Average 2010-2019\", \"calls\": 2.9}, {\"monthday\": \"05/07\", \"time\": \"Average 2010-2019\", \"calls\": 4.7}, {\"monthday\": \"05/08\", \"time\": \"Average 2010-2019\", \"calls\": 3.5}, {\"monthday\": \"05/09\", \"time\": \"Average 2010-2019\", \"calls\": 3.0}, {\"monthday\": \"05/10\", \"time\": \"Average 2010-2019\", \"calls\": 3.0}, {\"monthday\": \"05/11\", \"time\": \"Average 2010-2019\", \"calls\": 2.6}, {\"monthday\": \"05/12\", \"time\": \"Average 2010-2019\", \"calls\": 5.3}, {\"monthday\": \"05/13\", \"time\": \"Average 2010-2019\", \"calls\": 4.2}, {\"monthday\": \"05/14\", \"time\": \"Average 2010-2019\", \"calls\": 4.8}, {\"monthday\": \"05/15\", \"time\": \"Average 2010-2019\", \"calls\": 3.5}, {\"monthday\": \"05/16\", \"time\": \"Average 2010-2019\", \"calls\": 4.2}, {\"monthday\": \"05/17\", \"time\": \"Average 2010-2019\", \"calls\": 4.3}, {\"monthday\": \"05/18\", \"time\": \"Average 2010-2019\", \"calls\": 5.3}, {\"monthday\": \"05/19\", \"time\": \"Average 2010-2019\", \"calls\": 6.0}, {\"monthday\": \"05/20\", \"time\": \"Average 2010-2019\", \"calls\": 8.1}, {\"monthday\": \"05/21\", \"time\": \"Average 2010-2019\", \"calls\": 4.5}, {\"monthday\": \"05/22\", \"time\": \"Average 2010-2019\", \"calls\": 4.2}, {\"monthday\": \"05/23\", \"time\": \"Average 2010-2019\", \"calls\": 5.9}, {\"monthday\": \"05/24\", \"time\": \"Average 2010-2019\", \"calls\": 6.7}, {\"monthday\": \"05/25\", \"time\": \"Average 2010-2019\", \"calls\": 8.2}, {\"monthday\": \"05/26\", \"time\": \"Average 2010-2019\", \"calls\": 11.0}, {\"monthday\": \"05/27\", \"time\": \"Average 2010-2019\", \"calls\": 15.3}, {\"monthday\": \"05/28\", \"time\": \"Average 2010-2019\", \"calls\": 14.0}, {\"monthday\": \"05/29\", \"time\": \"Average 2010-2019\", \"calls\": 12.3}, {\"monthday\": \"05/30\", \"time\": \"Average 2010-2019\", \"calls\": 11.5}, {\"monthday\": \"05/31\", \"time\": \"Average 2010-2019\", \"calls\": 11.0}, {\"monthday\": \"06/01\", \"time\": \"Average 2010-2019\", \"calls\": 13.1}, {\"monthday\": \"06/02\", \"time\": \"Average 2010-2019\", \"calls\": 14.7}, {\"monthday\": \"06/03\", \"time\": \"Average 2010-2019\", \"calls\": 17.4}, {\"monthday\": \"06/04\", \"time\": \"Average 2010-2019\", \"calls\": 15.3}, {\"monthday\": \"06/05\", \"time\": \"Average 2010-2019\", \"calls\": 15.7}, {\"monthday\": \"06/06\", \"time\": \"Average 2010-2019\", \"calls\": 14.6}, {\"monthday\": \"06/07\", \"time\": \"Average 2010-2019\", \"calls\": 17.1}, {\"monthday\": \"06/08\", \"time\": \"Average 2010-2019\", \"calls\": 22.0}, {\"monthday\": \"06/09\", \"time\": \"Average 2010-2019\", \"calls\": 19.5}, {\"monthday\": \"06/10\", \"time\": \"Average 2010-2019\", \"calls\": 21.2}, {\"monthday\": \"06/11\", \"time\": \"Average 2010-2019\", \"calls\": 21.8}, {\"monthday\": \"06/12\", \"time\": \"Average 2010-2019\", \"calls\": 25.8}, {\"monthday\": \"06/13\", \"time\": \"Average 2010-2019\", \"calls\": 22.4}, {\"monthday\": \"06/14\", \"time\": \"Average 2010-2019\", \"calls\": 26.0}, {\"monthday\": \"06/15\", \"time\": \"Average 2010-2019\", \"calls\": 29.3}, {\"monthday\": \"06/16\", \"time\": \"Average 2010-2019\", \"calls\": 36.7}, {\"monthday\": \"06/17\", \"time\": \"Average 2010-2019\", \"calls\": 39.7}, {\"monthday\": \"06/18\", \"time\": \"Average 2010-2019\", \"calls\": 33.6}, {\"monthday\": \"06/19\", \"time\": \"Average 2010-2019\", \"calls\": 35.3}, {\"monthday\": \"01/01\", \"time\": \"ThisYear\", \"calls\": 85.0}, {\"monthday\": \"01/02\", \"time\": \"ThisYear\", \"calls\": 7.0}, {\"monthday\": \"01/03\", \"time\": \"ThisYear\", \"calls\": 9.0}, {\"monthday\": \"01/04\", \"time\": \"ThisYear\", \"calls\": 11.0}, {\"monthday\": \"01/05\", \"time\": \"ThisYear\", \"calls\": 9.0}, {\"monthday\": \"01/06\", \"time\": \"ThisYear\", \"calls\": 4.0}, {\"monthday\": \"01/07\", \"time\": \"ThisYear\", \"calls\": 1.0}, {\"monthday\": \"01/08\", \"time\": \"ThisYear\", \"calls\": 1.0}, {\"monthday\": \"01/09\", \"time\": \"ThisYear\", \"calls\": 2.0}, {\"monthday\": \"01/10\", \"time\": \"ThisYear\", \"calls\": 2.0}, {\"monthday\": \"01/11\", \"time\": \"ThisYear\", \"calls\": 3.0}, {\"monthday\": \"01/12\", \"time\": \"ThisYear\", \"calls\": 4.0}, {\"monthday\": \"01/13\", \"time\": \"ThisYear\", \"calls\": 1.0}, {\"monthday\": \"01/14\", \"time\": \"ThisYear\", \"calls\": 1.0}, {\"monthday\": \"01/15\", \"time\": \"ThisYear\", \"calls\": 1.0}, {\"monthday\": \"01/16\", \"time\": \"ThisYear\", \"calls\": 1.0}, {\"monthday\": \"01/17\", \"time\": \"ThisYear\", \"calls\": 1.0}, {\"monthday\": \"01/18\", \"time\": \"ThisYear\", \"calls\": 1.0}, {\"monthday\": \"01/19\", \"time\": \"ThisYear\", \"calls\": 6.0}, {\"monthday\": \"01/20\", \"time\": \"ThisYear\", \"calls\": 6.0}, {\"monthday\": \"01/21\", \"time\": \"ThisYear\", \"calls\": 2.0}, {\"monthday\": \"01/22\", \"time\": \"ThisYear\", \"calls\": 1.0}, {\"monthday\": \"01/23\", \"time\": \"ThisYear\", \"calls\": 1.0}, {\"monthday\": \"01/24\", \"time\": \"ThisYear\", \"calls\": 3.0}, {\"monthday\": \"01/25\", \"time\": \"ThisYear\", \"calls\": 4.0}, {\"monthday\": \"01/26\", \"time\": \"ThisYear\", \"calls\": 4.0}, {\"monthday\": \"01/27\", \"time\": \"ThisYear\", \"calls\": 4.0}, {\"monthday\": \"01/28\", \"time\": \"ThisYear\", \"calls\": 4.0}, {\"monthday\": \"01/29\", \"time\": \"ThisYear\", \"calls\": 1.0}, {\"monthday\": \"01/30\", \"time\": \"ThisYear\", \"calls\": 1.0}, {\"monthday\": \"01/31\", \"time\": \"ThisYear\", \"calls\": 1.0}, {\"monthday\": \"02/01\", \"time\": \"ThisYear\", \"calls\": 1.0}, {\"monthday\": \"02/02\", \"time\": \"ThisYear\", \"calls\": 6.0}, {\"monthday\": \"02/03\", \"time\": \"ThisYear\", \"calls\": 6.0}, {\"monthday\": \"02/04\", \"time\": \"ThisYear\", \"calls\": 1.0}, {\"monthday\": \"02/05\", \"time\": \"ThisYear\", \"calls\": 1.0}, {\"monthday\": \"02/06\", \"time\": \"ThisYear\", \"calls\": 1.0}, {\"monthday\": \"02/07\", \"time\": \"ThisYear\", \"calls\": 4.0}, {\"monthday\": \"02/08\", \"time\": \"ThisYear\", \"calls\": 2.0}, {\"monthday\": \"02/09\", \"time\": \"ThisYear\", \"calls\": 1.0}, {\"monthday\": \"02/10\", \"time\": \"ThisYear\", \"calls\": 1.0}, {\"monthday\": \"02/11\", \"time\": \"ThisYear\", \"calls\": 1.0}, {\"monthday\": \"02/12\", \"time\": \"ThisYear\", \"calls\": 1.0}, {\"monthday\": \"02/13\", \"time\": \"ThisYear\", \"calls\": 1.0}, {\"monthday\": \"02/14\", \"time\": \"ThisYear\", \"calls\": 2.0}, {\"monthday\": \"02/15\", \"time\": \"ThisYear\", \"calls\": 3.0}, {\"monthday\": \"02/16\", \"time\": \"ThisYear\", \"calls\": 2.0}, {\"monthday\": \"02/17\", \"time\": \"ThisYear\", \"calls\": 2.0}, {\"monthday\": \"02/18\", \"time\": \"ThisYear\", \"calls\": 1.0}, {\"monthday\": \"02/19\", \"time\": \"ThisYear\", \"calls\": 1.0}, {\"monthday\": \"02/20\", \"time\": \"ThisYear\", \"calls\": 1.0}, {\"monthday\": \"02/21\", \"time\": \"ThisYear\", \"calls\": 2.0}, {\"monthday\": \"02/22\", \"time\": \"ThisYear\", \"calls\": 5.0}, {\"monthday\": \"02/23\", \"time\": \"ThisYear\", \"calls\": 3.0}, {\"monthday\": \"02/24\", \"time\": \"ThisYear\", \"calls\": 2.0}, {\"monthday\": \"02/25\", \"time\": \"ThisYear\", \"calls\": 5.0}, {\"monthday\": \"02/26\", \"time\": \"ThisYear\", \"calls\": 1.0}, {\"monthday\": \"02/27\", \"time\": \"ThisYear\", \"calls\": 1.0}, {\"monthday\": \"02/28\", \"time\": \"ThisYear\", \"calls\": 4.0}, {\"monthday\": \"02/29\", \"time\": \"ThisYear\", \"calls\": 1.0}, {\"monthday\": \"03/01\", \"time\": \"ThisYear\", \"calls\": 2.0}, {\"monthday\": \"03/02\", \"time\": \"ThisYear\", \"calls\": 2.0}, {\"monthday\": \"03/03\", \"time\": \"ThisYear\", \"calls\": 2.0}, {\"monthday\": \"03/04\", \"time\": \"ThisYear\", \"calls\": 2.0}, {\"monthday\": \"03/05\", \"time\": \"ThisYear\", \"calls\": 3.0}, {\"monthday\": \"03/06\", \"time\": \"ThisYear\", \"calls\": 3.0}, {\"monthday\": \"03/07\", \"time\": \"ThisYear\", \"calls\": 4.0}, {\"monthday\": \"03/08\", \"time\": \"ThisYear\", \"calls\": 2.0}, {\"monthday\": \"03/09\", \"time\": \"ThisYear\", \"calls\": 1.0}, {\"monthday\": \"03/10\", \"time\": \"ThisYear\", \"calls\": 2.0}, {\"monthday\": \"03/11\", \"time\": \"ThisYear\", \"calls\": 2.0}, {\"monthday\": \"03/12\", \"time\": \"ThisYear\", \"calls\": 2.0}, {\"monthday\": \"03/13\", \"time\": \"ThisYear\", \"calls\": 1.0}, {\"monthday\": \"03/14\", \"time\": \"ThisYear\", \"calls\": 1.0}, {\"monthday\": \"03/15\", \"time\": \"ThisYear\", \"calls\": 2.0}, {\"monthday\": \"03/16\", \"time\": \"ThisYear\", \"calls\": 2.0}, {\"monthday\": \"03/17\", \"time\": \"ThisYear\", \"calls\": 3.0}, {\"monthday\": \"03/18\", \"time\": \"ThisYear\", \"calls\": 3.0}, {\"monthday\": \"03/19\", \"time\": \"ThisYear\", \"calls\": 1.0}, {\"monthday\": \"03/20\", \"time\": \"ThisYear\", \"calls\": 1.0}, {\"monthday\": \"03/21\", \"time\": \"ThisYear\", \"calls\": 1.0}, {\"monthday\": \"03/22\", \"time\": \"ThisYear\", \"calls\": 1.0}, {\"monthday\": \"03/23\", \"time\": \"ThisYear\", \"calls\": 1.0}, {\"monthday\": \"03/24\", \"time\": \"ThisYear\", \"calls\": 1.0}, {\"monthday\": \"03/25\", \"time\": \"ThisYear\", \"calls\": 1.0}, {\"monthday\": \"03/26\", \"time\": \"ThisYear\", \"calls\": 1.0}, {\"monthday\": \"03/27\", \"time\": \"ThisYear\", \"calls\": 2.0}, {\"monthday\": \"03/28\", \"time\": \"ThisYear\", \"calls\": 1.0}, {\"monthday\": \"03/29\", \"time\": \"ThisYear\", \"calls\": 1.0}, {\"monthday\": \"03/30\", \"time\": \"ThisYear\", \"calls\": 1.0}, {\"monthday\": \"03/31\", \"time\": \"ThisYear\", \"calls\": 2.0}, {\"monthday\": \"04/01\", \"time\": \"ThisYear\", \"calls\": 3.0}, {\"monthday\": \"04/02\", \"time\": \"ThisYear\", \"calls\": 3.0}, {\"monthday\": \"04/03\", \"time\": \"ThisYear\", \"calls\": 5.0}, {\"monthday\": \"04/04\", \"time\": \"ThisYear\", \"calls\": 3.0}, {\"monthday\": \"04/05\", \"time\": \"ThisYear\", \"calls\": 3.0}, {\"monthday\": \"04/06\", \"time\": \"ThisYear\", \"calls\": 1.0}, {\"monthday\": \"04/07\", \"time\": \"ThisYear\", \"calls\": 1.0}, {\"monthday\": \"04/08\", \"time\": \"ThisYear\", \"calls\": 2.0}, {\"monthday\": \"04/09\", \"time\": \"ThisYear\", \"calls\": 1.0}, {\"monthday\": \"04/10\", \"time\": \"ThisYear\", \"calls\": 3.0}, {\"monthday\": \"04/11\", \"time\": \"ThisYear\", \"calls\": 6.0}, {\"monthday\": \"04/12\", \"time\": \"ThisYear\", \"calls\": 4.0}, {\"monthday\": \"04/13\", \"time\": \"ThisYear\", \"calls\": 2.0}, {\"monthday\": \"04/14\", \"time\": \"ThisYear\", \"calls\": 1.0}, {\"monthday\": \"04/15\", \"time\": \"ThisYear\", \"calls\": 2.0}, {\"monthday\": \"04/16\", \"time\": \"ThisYear\", \"calls\": 4.0}, {\"monthday\": \"04/17\", \"time\": \"ThisYear\", \"calls\": 2.0}, {\"monthday\": \"04/18\", \"time\": \"ThisYear\", \"calls\": 4.0}, {\"monthday\": \"04/19\", \"time\": \"ThisYear\", \"calls\": 7.0}, {\"monthday\": \"04/20\", \"time\": \"ThisYear\", \"calls\": 3.0}, {\"monthday\": \"04/21\", \"time\": \"ThisYear\", \"calls\": 2.0}, {\"monthday\": \"04/22\", \"time\": \"ThisYear\", \"calls\": 2.0}, {\"monthday\": \"04/23\", \"time\": \"ThisYear\", \"calls\": 3.0}, {\"monthday\": \"04/24\", \"time\": \"ThisYear\", \"calls\": 2.0}, {\"monthday\": \"04/25\", \"time\": \"ThisYear\", \"calls\": 6.0}, {\"monthday\": \"04/26\", \"time\": \"ThisYear\", \"calls\": 6.0}, {\"monthday\": \"04/27\", \"time\": \"ThisYear\", \"calls\": 6.0}, {\"monthday\": \"04/28\", \"time\": \"ThisYear\", \"calls\": 6.0}, {\"monthday\": \"04/29\", \"time\": \"ThisYear\", \"calls\": 2.0}, {\"monthday\": \"04/30\", \"time\": \"ThisYear\", \"calls\": 5.0}, {\"monthday\": \"05/01\", \"time\": \"ThisYear\", \"calls\": 9.0}, {\"monthday\": \"05/02\", \"time\": \"ThisYear\", \"calls\": 8.0}, {\"monthday\": \"05/03\", \"time\": \"ThisYear\", \"calls\": 5.0}, {\"monthday\": \"05/04\", \"time\": \"ThisYear\", \"calls\": 6.0}, {\"monthday\": \"05/05\", \"time\": \"ThisYear\", \"calls\": 10.0}, {\"monthday\": \"05/06\", \"time\": \"ThisYear\", \"calls\": 3.0}, {\"monthday\": \"05/07\", \"time\": \"ThisYear\", \"calls\": 9.0}, {\"monthday\": \"05/08\", \"time\": \"ThisYear\", \"calls\": 7.0}, {\"monthday\": \"05/09\", \"time\": \"ThisYear\", \"calls\": 7.0}, {\"monthday\": \"05/10\", \"time\": \"ThisYear\", \"calls\": 17.0}, {\"monthday\": \"05/11\", \"time\": \"ThisYear\", \"calls\": 7.0}, {\"monthday\": \"05/12\", \"time\": \"ThisYear\", \"calls\": 9.0}, {\"monthday\": \"05/13\", \"time\": \"ThisYear\", \"calls\": 9.0}, {\"monthday\": \"05/14\", \"time\": \"ThisYear\", \"calls\": 6.0}, {\"monthday\": \"05/15\", \"time\": \"ThisYear\", \"calls\": 20.0}, {\"monthday\": \"05/16\", \"time\": \"ThisYear\", \"calls\": 24.0}, {\"monthday\": \"05/17\", \"time\": \"ThisYear\", \"calls\": 36.0}, {\"monthday\": \"05/18\", \"time\": \"ThisYear\", \"calls\": 24.0}, {\"monthday\": \"05/19\", \"time\": \"ThisYear\", \"calls\": 23.0}, {\"monthday\": \"05/20\", \"time\": \"ThisYear\", \"calls\": 28.0}, {\"monthday\": \"05/21\", \"time\": \"ThisYear\", \"calls\": 17.0}, {\"monthday\": \"05/22\", \"time\": \"ThisYear\", \"calls\": 42.0}, {\"monthday\": \"05/23\", \"time\": \"ThisYear\", \"calls\": 48.0}, {\"monthday\": \"05/24\", \"time\": \"ThisYear\", \"calls\": 118.0}, {\"monthday\": \"05/25\", \"time\": \"ThisYear\", \"calls\": 108.0}, {\"monthday\": \"05/26\", \"time\": \"ThisYear\", \"calls\": 58.0}, {\"monthday\": \"05/27\", \"time\": \"ThisYear\", \"calls\": 17.0}, {\"monthday\": \"05/28\", \"time\": \"ThisYear\", \"calls\": 25.0}, {\"monthday\": \"05/29\", \"time\": \"ThisYear\", \"calls\": 3.0}, {\"monthday\": \"05/30\", \"time\": \"ThisYear\", \"calls\": 3.0}, {\"monthday\": \"05/31\", \"time\": \"ThisYear\", \"calls\": 3.0}, {\"monthday\": \"06/01\", \"time\": \"ThisYear\", \"calls\": 3.0}, {\"monthday\": \"06/02\", \"time\": \"ThisYear\", \"calls\": 1.0}, {\"monthday\": \"06/03\", \"time\": \"ThisYear\", \"calls\": 1.0}, {\"monthday\": \"06/04\", \"time\": \"ThisYear\", \"calls\": 2.0}, {\"monthday\": \"06/05\", \"time\": \"ThisYear\", \"calls\": 3.0}, {\"monthday\": \"06/06\", \"time\": \"ThisYear\", \"calls\": 1.0}, {\"monthday\": \"06/07\", \"time\": \"ThisYear\", \"calls\": 3.0}, {\"monthday\": \"06/08\", \"time\": \"ThisYear\", \"calls\": 5.0}, {\"monthday\": \"06/09\", \"time\": \"ThisYear\", \"calls\": 3.0}, {\"monthday\": \"06/10\", \"time\": \"ThisYear\", \"calls\": 61.0}, {\"monthday\": \"06/11\", \"time\": \"ThisYear\", \"calls\": 74.0}, {\"monthday\": \"06/12\", \"time\": \"ThisYear\", \"calls\": 117.0}, {\"monthday\": \"06/13\", \"time\": \"ThisYear\", \"calls\": 188.0}, {\"monthday\": \"06/14\", \"time\": \"ThisYear\", \"calls\": 177.0}, {\"monthday\": \"06/15\", \"time\": \"ThisYear\", \"calls\": 82.0}, {\"monthday\": \"06/16\", \"time\": \"ThisYear\", \"calls\": 72.0}, {\"monthday\": \"06/17\", \"time\": \"ThisYear\", \"calls\": 67.0}, {\"monthday\": \"06/18\", \"time\": \"ThisYear\", \"calls\": 118.0}, {\"monthday\": \"06/19\", \"time\": \"ThisYear\", \"calls\": 160.0}]}}, {\"mode\": \"vega-lite\"});\n",
       "</script>"
      ],
      "text/plain": [
       "alt.Chart(...)"
      ]
     },
     "execution_count": 108,
     "metadata": {},
     "output_type": "execute_result"
    }
   ],
   "source": [
    "chart = alt.Chart((fireworks_melt))\\\n",
    "    .mark_bar(size=4,opacity=0.4)\\\n",
    "    .encode(\n",
    "    x=alt.X('monthday:T', title=' ', axis=alt.Axis(grid=False, tickCount=6, format='%B')),\n",
    "    y=alt.Y('calls:Q', stack=None, title=' ', axis=alt.Axis(gridWidth=.6,\\\n",
    "     gridColor='#dddddd',offset=6,tickSize=0,domainOpacity=0,tickCount=4, format=''),\\\n",
    "           scale=alt.Scale(domain=(0, 200))),\n",
    "    color=alt.Color(\"time:N\", title=' ')\n",
    ").properties(width=630, height=400,\n",
    "     title='Fireworks calls to LAPD: 2010-2019'\n",
    ")\n",
    "\n",
    "(chart).configure_view(strokeOpacity=0).configure_legend(\n",
    "    orient='top',\n",
    "    symbolType='stroke'\n",
    ").configure_legend(symbolType='square', orient='top')"
   ]
  },
  {
   "cell_type": "code",
   "execution_count": 68,
   "metadata": {},
   "outputs": [],
   "source": [
    "fireworks_chart['monthday'] = fireworks_chart['monthday'] + '/2020'"
   ]
  },
  {
   "cell_type": "code",
   "execution_count": 69,
   "metadata": {},
   "outputs": [],
   "source": [
    "fireworks_chart.to_csv('output/fireworks_calls_datawrapper.csv', index=None)"
   ]
  },
  {
   "cell_type": "code",
   "execution_count": 70,
   "metadata": {},
   "outputs": [],
   "source": [
    "this_year['monthday'] = this_year['monthday'] + '/2020'"
   ]
  },
  {
   "cell_type": "code",
   "execution_count": 71,
   "metadata": {},
   "outputs": [],
   "source": [
    "this_year.to_csv('output/all_calls_datawrapper.csv', index=None)"
   ]
  },
  {
   "cell_type": "markdown",
   "metadata": {},
   "source": [
    "---"
   ]
  },
  {
   "cell_type": "markdown",
   "metadata": {},
   "source": [
    "## San Francisco"
   ]
  },
  {
   "cell_type": "code",
   "execution_count": 72,
   "metadata": {},
   "outputs": [],
   "source": [
    "df_sf = pd.read_csv('/Users/mhustiles/data/data/LA/calls/san-francisco/san_francisco.csv', low_memory=False)"
   ]
  },
  {
   "cell_type": "code",
   "execution_count": 73,
   "metadata": {},
   "outputs": [],
   "source": [
    "df_sf['date'] = pd.to_datetime(df_sf['date_time'], format='%Y-%m-%d %H:%M:%S')\n",
    "df_sf['time'] = pd.to_datetime(df_sf['date_time'], format='%Y-%m-%d %H:%M:%S')"
   ]
  },
  {
   "cell_type": "code",
   "execution_count": 74,
   "metadata": {},
   "outputs": [],
   "source": [
    "df_sf['monthday'] = df_sf['date'].dt.strftime('%m/%d')\n",
    "df_sf['year'] = df_sf['date'].dt.strftime('%Y')"
   ]
  },
  {
   "cell_type": "code",
   "execution_count": 75,
   "metadata": {},
   "outputs": [
    {
     "data": {
      "text/html": [
       "<div>\n",
       "<style scoped>\n",
       "    .dataframe tbody tr th:only-of-type {\n",
       "        vertical-align: middle;\n",
       "    }\n",
       "\n",
       "    .dataframe tbody tr th {\n",
       "        vertical-align: top;\n",
       "    }\n",
       "\n",
       "    .dataframe thead th {\n",
       "        text-align: right;\n",
       "    }\n",
       "</style>\n",
       "<table border=\"1\" class=\"dataframe\">\n",
       "  <thead>\n",
       "    <tr style=\"text-align: right;\">\n",
       "      <th></th>\n",
       "      <th>crime_id</th>\n",
       "      <th>original_crime_type_name</th>\n",
       "      <th>report_date</th>\n",
       "      <th>call_date</th>\n",
       "      <th>offense_date</th>\n",
       "      <th>call_time</th>\n",
       "      <th>call_date_time</th>\n",
       "      <th>disposition</th>\n",
       "      <th>address</th>\n",
       "      <th>city</th>\n",
       "      <th>state</th>\n",
       "      <th>agency_id</th>\n",
       "      <th>address_type</th>\n",
       "      <th>common_location</th>\n",
       "      <th>date_time</th>\n",
       "      <th>date</th>\n",
       "      <th>time</th>\n",
       "      <th>monthday</th>\n",
       "      <th>year</th>\n",
       "    </tr>\n",
       "  </thead>\n",
       "  <tbody>\n",
       "    <tr>\n",
       "      <th>0</th>\n",
       "      <td>193043877</td>\n",
       "      <td>Vandalism</td>\n",
       "      <td>10/31/2019</td>\n",
       "      <td>10/31/2019</td>\n",
       "      <td>10/31/2019</td>\n",
       "      <td>20:46</td>\n",
       "      <td>10/31/2019 08:46:00 PM</td>\n",
       "      <td>UTL</td>\n",
       "      <td>300 Block Of Toland St</td>\n",
       "      <td>San Francisco</td>\n",
       "      <td>CA</td>\n",
       "      <td>1</td>\n",
       "      <td>Premise Address</td>\n",
       "      <td>NaN</td>\n",
       "      <td>2019-10-31 08:46:00</td>\n",
       "      <td>2019-10-31 08:46:00</td>\n",
       "      <td>2019-10-31 08:46:00</td>\n",
       "      <td>10/31</td>\n",
       "      <td>2019</td>\n",
       "    </tr>\n",
       "    <tr>\n",
       "      <th>1</th>\n",
       "      <td>190020633</td>\n",
       "      <td>Trespasser</td>\n",
       "      <td>01/02/2019</td>\n",
       "      <td>01/02/2019</td>\n",
       "      <td>01/02/2019</td>\n",
       "      <td>07:58</td>\n",
       "      <td>01/02/2019 07:58:00 AM</td>\n",
       "      <td>GOA</td>\n",
       "      <td>300 Block Of Industrial St</td>\n",
       "      <td>San Francisco</td>\n",
       "      <td>CA</td>\n",
       "      <td>1</td>\n",
       "      <td>Premise Address</td>\n",
       "      <td>NaN</td>\n",
       "      <td>2019-01-02 07:58:00</td>\n",
       "      <td>2019-01-02 07:58:00</td>\n",
       "      <td>2019-01-02 07:58:00</td>\n",
       "      <td>01/02</td>\n",
       "      <td>2019</td>\n",
       "    </tr>\n",
       "    <tr>\n",
       "      <th>2</th>\n",
       "      <td>190214007</td>\n",
       "      <td>Passing Call</td>\n",
       "      <td>01/21/2019</td>\n",
       "      <td>01/21/2019</td>\n",
       "      <td>01/21/2019</td>\n",
       "      <td>23:07</td>\n",
       "      <td>01/21/2019 11:07:00 PM</td>\n",
       "      <td>HAN</td>\n",
       "      <td>Larkin St/golden Gate Av</td>\n",
       "      <td>San Francisco</td>\n",
       "      <td>CA</td>\n",
       "      <td>1</td>\n",
       "      <td>Intersection</td>\n",
       "      <td>NaN</td>\n",
       "      <td>2019-01-21 11:07:00</td>\n",
       "      <td>2019-01-21 11:07:00</td>\n",
       "      <td>2019-01-21 11:07:00</td>\n",
       "      <td>01/21</td>\n",
       "      <td>2019</td>\n",
       "    </tr>\n",
       "    <tr>\n",
       "      <th>3</th>\n",
       "      <td>190271719</td>\n",
       "      <td>22500e</td>\n",
       "      <td>01/27/2019</td>\n",
       "      <td>01/27/2019</td>\n",
       "      <td>01/27/2019</td>\n",
       "      <td>12:48</td>\n",
       "      <td>01/27/2019 12:48:00 PM</td>\n",
       "      <td>GOA</td>\n",
       "      <td>3400 Block Of Divisadero St</td>\n",
       "      <td>San Francisco</td>\n",
       "      <td>CA</td>\n",
       "      <td>1</td>\n",
       "      <td>Premise Address</td>\n",
       "      <td>NaN</td>\n",
       "      <td>2019-01-27 12:48:00</td>\n",
       "      <td>2019-01-27 12:48:00</td>\n",
       "      <td>2019-01-27 12:48:00</td>\n",
       "      <td>01/27</td>\n",
       "      <td>2019</td>\n",
       "    </tr>\n",
       "    <tr>\n",
       "      <th>4</th>\n",
       "      <td>190390109</td>\n",
       "      <td>Hot</td>\n",
       "      <td>02/08/2019</td>\n",
       "      <td>02/08/2019</td>\n",
       "      <td>02/08/2019</td>\n",
       "      <td>00:55</td>\n",
       "      <td>02/08/2019 12:55:00 AM</td>\n",
       "      <td>NOM</td>\n",
       "      <td>700 Block Of Corbett Av</td>\n",
       "      <td>San Francisco</td>\n",
       "      <td>CA</td>\n",
       "      <td>1</td>\n",
       "      <td>Premise Address</td>\n",
       "      <td>NaN</td>\n",
       "      <td>2019-02-08 12:55:00</td>\n",
       "      <td>2019-02-08 12:55:00</td>\n",
       "      <td>2019-02-08 12:55:00</td>\n",
       "      <td>02/08</td>\n",
       "      <td>2019</td>\n",
       "    </tr>\n",
       "  </tbody>\n",
       "</table>\n",
       "</div>"
      ],
      "text/plain": [
       "    crime_id original_crime_type_name report_date   call_date offense_date  \\\n",
       "0  193043877                Vandalism  10/31/2019  10/31/2019   10/31/2019   \n",
       "1  190020633               Trespasser  01/02/2019  01/02/2019   01/02/2019   \n",
       "2  190214007             Passing Call  01/21/2019  01/21/2019   01/21/2019   \n",
       "3  190271719                   22500e  01/27/2019  01/27/2019   01/27/2019   \n",
       "4  190390109                      Hot  02/08/2019  02/08/2019   02/08/2019   \n",
       "\n",
       "  call_time          call_date_time disposition                      address  \\\n",
       "0     20:46  10/31/2019 08:46:00 PM         UTL       300 Block Of Toland St   \n",
       "1     07:58  01/02/2019 07:58:00 AM         GOA   300 Block Of Industrial St   \n",
       "2     23:07  01/21/2019 11:07:00 PM         HAN     Larkin St/golden Gate Av   \n",
       "3     12:48  01/27/2019 12:48:00 PM         GOA  3400 Block Of Divisadero St   \n",
       "4     00:55  02/08/2019 12:55:00 AM         NOM      700 Block Of Corbett Av   \n",
       "\n",
       "            city state  agency_id     address_type common_location  \\\n",
       "0  San Francisco    CA          1  Premise Address             NaN   \n",
       "1  San Francisco    CA          1  Premise Address             NaN   \n",
       "2  San Francisco    CA          1     Intersection             NaN   \n",
       "3  San Francisco    CA          1  Premise Address             NaN   \n",
       "4  San Francisco    CA          1  Premise Address             NaN   \n",
       "\n",
       "             date_time                date                time monthday  year  \n",
       "0  2019-10-31 08:46:00 2019-10-31 08:46:00 2019-10-31 08:46:00    10/31  2019  \n",
       "1  2019-01-02 07:58:00 2019-01-02 07:58:00 2019-01-02 07:58:00    01/02  2019  \n",
       "2  2019-01-21 11:07:00 2019-01-21 11:07:00 2019-01-21 11:07:00    01/21  2019  \n",
       "3  2019-01-27 12:48:00 2019-01-27 12:48:00 2019-01-27 12:48:00    01/27  2019  \n",
       "4  2019-02-08 12:55:00 2019-02-08 12:55:00 2019-02-08 12:55:00    02/08  2019  "
      ]
     },
     "execution_count": 75,
     "metadata": {},
     "output_type": "execute_result"
    }
   ],
   "source": [
    "df_sf.head()"
   ]
  },
  {
   "cell_type": "code",
   "execution_count": 76,
   "metadata": {},
   "outputs": [],
   "source": [
    "this_year_sf = df_sf[df_sf['year'] == '2020'].groupby(['monthday']).agg('size').reset_index(name='calls')"
   ]
  },
  {
   "cell_type": "code",
   "execution_count": 77,
   "metadata": {},
   "outputs": [
    {
     "data": {
      "text/html": [
       "\n",
       "<div id=\"altair-viz-082a0cf36d254c7ab8d654ef32bf14d5\"></div>\n",
       "<script type=\"text/javascript\">\n",
       "  (function(spec, embedOpt){\n",
       "    const outputDiv = document.getElementById(\"altair-viz-082a0cf36d254c7ab8d654ef32bf14d5\");\n",
       "    const paths = {\n",
       "      \"vega\": \"https://cdn.jsdelivr.net/npm//vega@5?noext\",\n",
       "      \"vega-lib\": \"https://cdn.jsdelivr.net/npm//vega-lib?noext\",\n",
       "      \"vega-lite\": \"https://cdn.jsdelivr.net/npm//vega-lite@4.0.2?noext\",\n",
       "      \"vega-embed\": \"https://cdn.jsdelivr.net/npm//vega-embed@6?noext\",\n",
       "    };\n",
       "\n",
       "    function loadScript(lib) {\n",
       "      return new Promise(function(resolve, reject) {\n",
       "        var s = document.createElement('script');\n",
       "        s.src = paths[lib];\n",
       "        s.async = true;\n",
       "        s.onload = () => resolve(paths[lib]);\n",
       "        s.onerror = () => reject(`Error loading script: ${paths[lib]}`);\n",
       "        document.getElementsByTagName(\"head\")[0].appendChild(s);\n",
       "      });\n",
       "    }\n",
       "\n",
       "    function showError(err) {\n",
       "      outputDiv.innerHTML = `<div class=\"error\" style=\"color:red;\">${err}</div>`;\n",
       "      throw err;\n",
       "    }\n",
       "\n",
       "    function displayChart(vegaEmbed) {\n",
       "      vegaEmbed(outputDiv, spec, embedOpt)\n",
       "        .catch(err => showError(`Javascript Error: ${err.message}<br>This usually means there's a typo in your chart specification. See the javascript console for the full traceback.`));\n",
       "    }\n",
       "\n",
       "    if(typeof define === \"function\" && define.amd) {\n",
       "      requirejs.config({paths});\n",
       "      require([\"vega-embed\"], displayChart, err => showError(`Error loading script: ${err.message}`));\n",
       "    } else if (typeof vegaEmbed === \"function\") {\n",
       "      displayChart(vegaEmbed);\n",
       "    } else {\n",
       "      loadScript(\"vega\")\n",
       "        .then(() => loadScript(\"vega-lite\"))\n",
       "        .then(() => loadScript(\"vega-embed\"))\n",
       "        .catch(showError)\n",
       "        .then(() => displayChart(vegaEmbed));\n",
       "    }\n",
       "  })({\"config\": {\"view\": {\"width\": 800, \"height\": 450, \"strokeOpacity\": 0}, \"background\": \"#ffffff\", \"title\": {\"anchor\": \"start\", \"font\": \"Benton Gothic Bold, sans\", \"fontColor\": \"#000000\", \"fontSize\": 22, \"fontWeight\": \"normal\"}, \"arc\": {\"fill\": \"#82c6df\"}, \"area\": {\"fill\": \"#82c6df\"}, \"line\": {\"stroke\": \"#82c6df\", \"strokeWidth\": 3}, \"path\": {\"stroke\": \"#82c6df\"}, \"rect\": {\"fill\": \"#82c6df\"}, \"shape\": {\"stroke\": \"#82c6df\"}, \"bar\": {\"fill\": \"#82c6df\"}, \"point\": {\"stroke\": \"#82c6df\"}, \"symbol\": {\"fill\": \"#82c6df\", \"size\": 30}, \"axis\": {\"titleFont\": \"Benton Gothic Bold, sans\", \"titleFontSize\": 13, \"titleFontWeight\": \"normal\", \"labelFont\": \"Benton Gothic, sans\", \"labelFontSize\": 11.5, \"labelFontWeight\": \"normal\"}, \"axisX\": {\"labelAngle\": 0, \"labelPadding\": 4, \"tickSize\": 3}, \"axisY\": {\"labelBaseline\": \"middle\", \"maxExtent\": 45, \"minExtent\": 45, \"tickSize\": 2, \"titleAlign\": \"left\", \"titleAngle\": 0, \"titleX\": -45, \"titleY\": -11}, \"legend\": {\"titleFont\": \"Benton Gothic Bold, sans\", \"titleFontSize\": 13, \"titleFontWeight\": \"normal\", \"symbolType\": \"square\", \"labelFont\": \"Benton Gothic, sans\", \"labelFontSize\": 11.5}, \"range\": {\"category\": [\"#3580b1\", \"#ec8431\", \"#ab7fb4\", \"#c89d29\", \"#adc839\", \"#829eb1\"], \"diverging\": [\"#e68a4f\", \"#f4bb6a\", \"#f9e39c\", \"#dadfe2\", \"#a6b7c6\", \"#849eae\"], \"heatmap\": [\"#fbf2c7\", \"#f9e39c\", \"#f8d36e\", \"#f4bb6a\", \"#e68a4f\", \"#d15a40\", \"#ab4232\"], \"ordinal\": [\"#fbf2c7\", \"#f9e39c\", \"#f8d36e\", \"#f4bb6a\", \"#e68a4f\", \"#d15a40\", \"#ab4232\"], \"ramp\": [\"#fbf2c7\", \"#f9e39c\", \"#f8d36e\", \"#f4bb6a\", \"#e68a4f\", \"#d15a40\", \"#ab4232\"]}}, \"data\": {\"name\": \"data-e48fe1648d8b3231b271f17f9e8f2baf\"}, \"mark\": {\"type\": \"bar\", \"opacity\": 1, \"size\": 2}, \"encoding\": {\"x\": {\"type\": \"temporal\", \"axis\": {\"format\": \"%B\", \"grid\": false, \"tickCount\": 6}, \"field\": \"monthday\", \"title\": \" \"}, \"y\": {\"type\": \"quantitative\", \"axis\": {\"domainOpacity\": 0, \"format\": \"\", \"gridColor\": \"#dddddd\", \"gridWidth\": 0.6, \"offset\": 6, \"tickCount\": 4, \"tickSize\": 0}, \"field\": \"calls\", \"scale\": {\"domain\": [0, 2500]}, \"stack\": null, \"title\": \" \"}}, \"height\": 400, \"title\": \"All service calls to San Francisco Police: 2020\", \"width\": 630, \"$schema\": \"https://vega.github.io/schema/vega-lite/v4.0.2.json\", \"datasets\": {\"data-e48fe1648d8b3231b271f17f9e8f2baf\": [{\"monthday\": \"01/01\", \"calls\": 2343}, {\"monthday\": \"01/02\", \"calls\": 2156}, {\"monthday\": \"01/03\", \"calls\": 2242}, {\"monthday\": \"01/04\", \"calls\": 2124}, {\"monthday\": \"01/05\", \"calls\": 1895}, {\"monthday\": \"01/06\", \"calls\": 2267}, {\"monthday\": \"01/07\", \"calls\": 2231}, {\"monthday\": \"01/08\", \"calls\": 2296}, {\"monthday\": \"01/09\", \"calls\": 2248}, {\"monthday\": \"01/10\", \"calls\": 2200}, {\"monthday\": \"01/11\", \"calls\": 1880}, {\"monthday\": \"01/12\", \"calls\": 2089}, {\"monthday\": \"01/13\", \"calls\": 2220}, {\"monthday\": \"01/14\", \"calls\": 2341}, {\"monthday\": \"01/15\", \"calls\": 2313}, {\"monthday\": \"01/16\", \"calls\": 2011}, {\"monthday\": \"01/17\", \"calls\": 2060}, {\"monthday\": \"01/18\", \"calls\": 1891}, {\"monthday\": \"01/19\", \"calls\": 2052}, {\"monthday\": \"01/20\", \"calls\": 2160}, {\"monthday\": \"01/21\", \"calls\": 2160}, {\"monthday\": \"01/22\", \"calls\": 2320}, {\"monthday\": \"01/23\", \"calls\": 2112}, {\"monthday\": \"01/24\", \"calls\": 2134}, {\"monthday\": \"01/25\", \"calls\": 2017}, {\"monthday\": \"01/26\", \"calls\": 1963}, {\"monthday\": \"01/27\", \"calls\": 1991}, {\"monthday\": \"01/28\", \"calls\": 2089}, {\"monthday\": \"01/29\", \"calls\": 2361}, {\"monthday\": \"01/30\", \"calls\": 2266}, {\"monthday\": \"01/31\", \"calls\": 2212}, {\"monthday\": \"02/01\", \"calls\": 2117}, {\"monthday\": \"02/02\", \"calls\": 1922}, {\"monthday\": \"02/03\", \"calls\": 1966}, {\"monthday\": \"02/04\", \"calls\": 2069}, {\"monthday\": \"02/05\", \"calls\": 2344}, {\"monthday\": \"02/06\", \"calls\": 2383}, {\"monthday\": \"02/07\", \"calls\": 2216}, {\"monthday\": \"02/08\", \"calls\": 2233}, {\"monthday\": \"02/09\", \"calls\": 2017}, {\"monthday\": \"02/10\", \"calls\": 2194}, {\"monthday\": \"02/11\", \"calls\": 2311}, {\"monthday\": \"02/12\", \"calls\": 2234}, {\"monthday\": \"02/13\", \"calls\": 2316}, {\"monthday\": \"02/14\", \"calls\": 2113}, {\"monthday\": \"02/15\", \"calls\": 1988}, {\"monthday\": \"02/16\", \"calls\": 1885}, {\"monthday\": \"02/17\", \"calls\": 2200}, {\"monthday\": \"02/18\", \"calls\": 2175}, {\"monthday\": \"02/19\", \"calls\": 2258}, {\"monthday\": \"02/20\", \"calls\": 2337}, {\"monthday\": \"02/21\", \"calls\": 2352}, {\"monthday\": \"02/22\", \"calls\": 2179}, {\"monthday\": \"02/23\", \"calls\": 2182}, {\"monthday\": \"02/24\", \"calls\": 2249}, {\"monthday\": \"02/25\", \"calls\": 2203}, {\"monthday\": \"02/26\", \"calls\": 2304}, {\"monthday\": \"02/27\", \"calls\": 2283}, {\"monthday\": \"02/28\", \"calls\": 2167}, {\"monthday\": \"02/29\", \"calls\": 2119}, {\"monthday\": \"03/01\", \"calls\": 2097}, {\"monthday\": \"03/02\", \"calls\": 2262}, {\"monthday\": \"03/03\", \"calls\": 2160}, {\"monthday\": \"03/04\", \"calls\": 2392}, {\"monthday\": \"03/05\", \"calls\": 2220}, {\"monthday\": \"03/06\", \"calls\": 2100}, {\"monthday\": \"03/07\", \"calls\": 1916}, {\"monthday\": \"03/08\", \"calls\": 1862}, {\"monthday\": \"03/09\", \"calls\": 2278}, {\"monthday\": \"03/10\", \"calls\": 2511}, {\"monthday\": \"03/11\", \"calls\": 2689}, {\"monthday\": \"03/12\", \"calls\": 2347}, {\"monthday\": \"03/13\", \"calls\": 2203}, {\"monthday\": \"03/14\", \"calls\": 1859}, {\"monthday\": \"03/15\", \"calls\": 1648}, {\"monthday\": \"03/16\", \"calls\": 1819}, {\"monthday\": \"03/17\", \"calls\": 1979}, {\"monthday\": \"03/18\", \"calls\": 2181}, {\"monthday\": \"03/19\", \"calls\": 2126}, {\"monthday\": \"03/20\", \"calls\": 1952}, {\"monthday\": \"03/21\", \"calls\": 1889}, {\"monthday\": \"03/22\", \"calls\": 1670}, {\"monthday\": \"03/23\", \"calls\": 1894}, {\"monthday\": \"03/24\", \"calls\": 1805}, {\"monthday\": \"03/25\", \"calls\": 2102}, {\"monthday\": \"03/26\", \"calls\": 1790}, {\"monthday\": \"03/27\", \"calls\": 1844}, {\"monthday\": \"03/28\", \"calls\": 1786}, {\"monthday\": \"03/29\", \"calls\": 1674}, {\"monthday\": \"03/30\", \"calls\": 1852}, {\"monthday\": \"03/31\", \"calls\": 1767}, {\"monthday\": \"04/01\", \"calls\": 1911}, {\"monthday\": \"04/02\", \"calls\": 1971}, {\"monthday\": \"04/03\", \"calls\": 1925}, {\"monthday\": \"04/04\", \"calls\": 1771}, {\"monthday\": \"04/05\", \"calls\": 1717}, {\"monthday\": \"04/06\", \"calls\": 1670}, {\"monthday\": \"04/07\", \"calls\": 1906}, {\"monthday\": \"04/08\", \"calls\": 1595}, {\"monthday\": \"04/09\", \"calls\": 1859}, {\"monthday\": \"04/10\", \"calls\": 2078}, {\"monthday\": \"04/11\", \"calls\": 1905}, {\"monthday\": \"04/12\", \"calls\": 1756}, {\"monthday\": \"04/13\", \"calls\": 1869}, {\"monthday\": \"04/14\", \"calls\": 1955}, {\"monthday\": \"04/15\", \"calls\": 1920}, {\"monthday\": \"04/16\", \"calls\": 1796}, {\"monthday\": \"04/17\", \"calls\": 1913}, {\"monthday\": \"04/18\", \"calls\": 1893}, {\"monthday\": \"04/19\", \"calls\": 1998}, {\"monthday\": \"04/20\", \"calls\": 1966}, {\"monthday\": \"04/21\", \"calls\": 1877}, {\"monthday\": \"04/22\", \"calls\": 1913}, {\"monthday\": \"04/23\", \"calls\": 2113}, {\"monthday\": \"04/24\", \"calls\": 1880}, {\"monthday\": \"04/25\", \"calls\": 1823}, {\"monthday\": \"04/26\", \"calls\": 1928}, {\"monthday\": \"04/27\", \"calls\": 2073}, {\"monthday\": \"04/28\", \"calls\": 1964}, {\"monthday\": \"04/29\", \"calls\": 2177}, {\"monthday\": \"04/30\", \"calls\": 1873}, {\"monthday\": \"05/01\", \"calls\": 1835}, {\"monthday\": \"05/02\", \"calls\": 1930}, {\"monthday\": \"05/03\", \"calls\": 1899}, {\"monthday\": \"05/04\", \"calls\": 2037}, {\"monthday\": \"05/05\", \"calls\": 2033}, {\"monthday\": \"05/06\", \"calls\": 2103}, {\"monthday\": \"05/07\", \"calls\": 2009}, {\"monthday\": \"05/08\", \"calls\": 2073}, {\"monthday\": \"05/09\", \"calls\": 1814}, {\"monthday\": \"05/10\", \"calls\": 1657}, {\"monthday\": \"05/11\", \"calls\": 1869}, {\"monthday\": \"05/12\", \"calls\": 2079}, {\"monthday\": \"05/13\", \"calls\": 2066}, {\"monthday\": \"05/14\", \"calls\": 1994}, {\"monthday\": \"05/15\", \"calls\": 2192}, {\"monthday\": \"05/16\", \"calls\": 2053}, {\"monthday\": \"05/17\", \"calls\": 2058}, {\"monthday\": \"05/18\", \"calls\": 2158}, {\"monthday\": \"05/19\", \"calls\": 1995}, {\"monthday\": \"05/20\", \"calls\": 1907}, {\"monthday\": \"05/21\", \"calls\": 2039}, {\"monthday\": \"05/22\", \"calls\": 1998}, {\"monthday\": \"05/23\", \"calls\": 1912}, {\"monthday\": \"05/24\", \"calls\": 2013}, {\"monthday\": \"05/25\", \"calls\": 2293}, {\"monthday\": \"05/26\", \"calls\": 2132}, {\"monthday\": \"05/27\", \"calls\": 2039}, {\"monthday\": \"05/28\", \"calls\": 1939}, {\"monthday\": \"05/29\", \"calls\": 2057}, {\"monthday\": \"05/30\", \"calls\": 2122}, {\"monthday\": \"05/31\", \"calls\": 2254}, {\"monthday\": \"06/01\", \"calls\": 2203}, {\"monthday\": \"06/02\", \"calls\": 2092}, {\"monthday\": \"06/03\", \"calls\": 1905}, {\"monthday\": \"06/04\", \"calls\": 1875}, {\"monthday\": \"06/05\", \"calls\": 1736}, {\"monthday\": \"06/06\", \"calls\": 1550}, {\"monthday\": \"06/07\", \"calls\": 1535}, {\"monthday\": \"06/08\", \"calls\": 1737}, {\"monthday\": \"06/09\", \"calls\": 1872}, {\"monthday\": \"06/10\", \"calls\": 1759}, {\"monthday\": \"06/11\", \"calls\": 1730}, {\"monthday\": \"06/12\", \"calls\": 1531}]}}, {\"mode\": \"vega-lite\"});\n",
       "</script>"
      ],
      "text/plain": [
       "alt.Chart(...)"
      ]
     },
     "execution_count": 77,
     "metadata": {},
     "output_type": "execute_result"
    }
   ],
   "source": [
    "chart = alt.Chart((this_year_sf))\\\n",
    "    .mark_bar(size=2,opacity=1)\\\n",
    "    .encode(\n",
    "    x=alt.X('monthday:T', title=' ', axis=alt.Axis(grid=False, tickCount=6, format='%B')),\n",
    "    y=alt.Y('calls:Q', stack=None, title=' ', axis=alt.Axis(gridWidth=.6,\\\n",
    "     gridColor='#dddddd',offset=6,tickSize=0,domainOpacity=0,tickCount=4, format=''),\\\n",
    "           scale=alt.Scale(domain=(0, 2500)))\n",
    ").properties(width=630, height=400,\n",
    "     title='All service calls to San Francisco Police: 2020'\n",
    ")\n",
    "\n",
    "chart.configure_view(strokeOpacity=0).configure_legend(\n",
    "    orient='top',\n",
    "    symbolType='stroke'\n",
    ").configure_legend(symbolType='square')"
   ]
  },
  {
   "cell_type": "code",
   "execution_count": 78,
   "metadata": {},
   "outputs": [],
   "source": [
    "fireworks_melt.to_csv('output/fireworks_melt.csv')"
   ]
  },
  {
   "cell_type": "code",
   "execution_count": 79,
   "metadata": {},
   "outputs": [
    {
     "data": {
      "text/html": [
       "<div>\n",
       "<style scoped>\n",
       "    .dataframe tbody tr th:only-of-type {\n",
       "        vertical-align: middle;\n",
       "    }\n",
       "\n",
       "    .dataframe tbody tr th {\n",
       "        vertical-align: top;\n",
       "    }\n",
       "\n",
       "    .dataframe thead th {\n",
       "        text-align: right;\n",
       "    }\n",
       "</style>\n",
       "<table border=\"1\" class=\"dataframe\">\n",
       "  <thead>\n",
       "    <tr style=\"text-align: right;\">\n",
       "      <th></th>\n",
       "      <th>monthday</th>\n",
       "      <th>calls</th>\n",
       "    </tr>\n",
       "  </thead>\n",
       "  <tbody>\n",
       "    <tr>\n",
       "      <th>163</th>\n",
       "      <td>06/12</td>\n",
       "      <td>1531</td>\n",
       "    </tr>\n",
       "    <tr>\n",
       "      <th>162</th>\n",
       "      <td>06/11</td>\n",
       "      <td>1730</td>\n",
       "    </tr>\n",
       "    <tr>\n",
       "      <th>161</th>\n",
       "      <td>06/10</td>\n",
       "      <td>1759</td>\n",
       "    </tr>\n",
       "    <tr>\n",
       "      <th>160</th>\n",
       "      <td>06/09</td>\n",
       "      <td>1872</td>\n",
       "    </tr>\n",
       "    <tr>\n",
       "      <th>159</th>\n",
       "      <td>06/08</td>\n",
       "      <td>1737</td>\n",
       "    </tr>\n",
       "  </tbody>\n",
       "</table>\n",
       "</div>"
      ],
      "text/plain": [
       "    monthday  calls\n",
       "163    06/12   1531\n",
       "162    06/11   1730\n",
       "161    06/10   1759\n",
       "160    06/09   1872\n",
       "159    06/08   1737"
      ]
     },
     "execution_count": 79,
     "metadata": {},
     "output_type": "execute_result"
    }
   ],
   "source": [
    "this_year_sf.sort_values(by='monthday', ascending=False).head()"
   ]
  },
  {
   "cell_type": "markdown",
   "metadata": {},
   "source": [
    "---"
   ]
  },
  {
   "cell_type": "markdown",
   "metadata": {},
   "source": [
    "## Sacramento"
   ]
  },
  {
   "cell_type": "code",
   "execution_count": 80,
   "metadata": {},
   "outputs": [],
   "source": [
    "df_sac = pd.read_csv('/Users/mhustiles/data/data/LA/calls/sacramento/sacramento.csv', low_memory=False)"
   ]
  },
  {
   "cell_type": "code",
   "execution_count": 81,
   "metadata": {},
   "outputs": [],
   "source": [
    "df_sac['date'] = pd.to_datetime(df_sac['date'], format='%Y-%m-%d')\n",
    "df_sac['time'] = pd.to_datetime(df_sac['time'], format='%H:%M:%S')"
   ]
  },
  {
   "cell_type": "code",
   "execution_count": 82,
   "metadata": {},
   "outputs": [],
   "source": [
    "df_sac['monthday'] = df_sac['date'].dt.strftime('%m/%d')\n",
    "df_sac['year'] = df_sac['date'].dt.strftime('%Y')"
   ]
  },
  {
   "cell_type": "code",
   "execution_count": 83,
   "metadata": {},
   "outputs": [],
   "source": [
    "this_year_sac = df_sac[df_sac['year'] == '2020'].groupby(['monthday']).agg('size').reset_index(name='calls')"
   ]
  },
  {
   "cell_type": "code",
   "execution_count": 84,
   "metadata": {},
   "outputs": [
    {
     "data": {
      "text/html": [
       "\n",
       "<div id=\"altair-viz-0378ecb1e66145c2b9aef739f040706e\"></div>\n",
       "<script type=\"text/javascript\">\n",
       "  (function(spec, embedOpt){\n",
       "    const outputDiv = document.getElementById(\"altair-viz-0378ecb1e66145c2b9aef739f040706e\");\n",
       "    const paths = {\n",
       "      \"vega\": \"https://cdn.jsdelivr.net/npm//vega@5?noext\",\n",
       "      \"vega-lib\": \"https://cdn.jsdelivr.net/npm//vega-lib?noext\",\n",
       "      \"vega-lite\": \"https://cdn.jsdelivr.net/npm//vega-lite@4.0.2?noext\",\n",
       "      \"vega-embed\": \"https://cdn.jsdelivr.net/npm//vega-embed@6?noext\",\n",
       "    };\n",
       "\n",
       "    function loadScript(lib) {\n",
       "      return new Promise(function(resolve, reject) {\n",
       "        var s = document.createElement('script');\n",
       "        s.src = paths[lib];\n",
       "        s.async = true;\n",
       "        s.onload = () => resolve(paths[lib]);\n",
       "        s.onerror = () => reject(`Error loading script: ${paths[lib]}`);\n",
       "        document.getElementsByTagName(\"head\")[0].appendChild(s);\n",
       "      });\n",
       "    }\n",
       "\n",
       "    function showError(err) {\n",
       "      outputDiv.innerHTML = `<div class=\"error\" style=\"color:red;\">${err}</div>`;\n",
       "      throw err;\n",
       "    }\n",
       "\n",
       "    function displayChart(vegaEmbed) {\n",
       "      vegaEmbed(outputDiv, spec, embedOpt)\n",
       "        .catch(err => showError(`Javascript Error: ${err.message}<br>This usually means there's a typo in your chart specification. See the javascript console for the full traceback.`));\n",
       "    }\n",
       "\n",
       "    if(typeof define === \"function\" && define.amd) {\n",
       "      requirejs.config({paths});\n",
       "      require([\"vega-embed\"], displayChart, err => showError(`Error loading script: ${err.message}`));\n",
       "    } else if (typeof vegaEmbed === \"function\") {\n",
       "      displayChart(vegaEmbed);\n",
       "    } else {\n",
       "      loadScript(\"vega\")\n",
       "        .then(() => loadScript(\"vega-lite\"))\n",
       "        .then(() => loadScript(\"vega-embed\"))\n",
       "        .catch(showError)\n",
       "        .then(() => displayChart(vegaEmbed));\n",
       "    }\n",
       "  })({\"config\": {\"view\": {\"width\": 800, \"height\": 450, \"strokeOpacity\": 0}, \"background\": \"#ffffff\", \"title\": {\"anchor\": \"start\", \"font\": \"Benton Gothic Bold, sans\", \"fontColor\": \"#000000\", \"fontSize\": 22, \"fontWeight\": \"normal\"}, \"arc\": {\"fill\": \"#82c6df\"}, \"area\": {\"fill\": \"#82c6df\"}, \"line\": {\"stroke\": \"#82c6df\", \"strokeWidth\": 3}, \"path\": {\"stroke\": \"#82c6df\"}, \"rect\": {\"fill\": \"#82c6df\"}, \"shape\": {\"stroke\": \"#82c6df\"}, \"bar\": {\"fill\": \"#82c6df\"}, \"point\": {\"stroke\": \"#82c6df\"}, \"symbol\": {\"fill\": \"#82c6df\", \"size\": 30}, \"axis\": {\"titleFont\": \"Benton Gothic Bold, sans\", \"titleFontSize\": 13, \"titleFontWeight\": \"normal\", \"labelFont\": \"Benton Gothic, sans\", \"labelFontSize\": 11.5, \"labelFontWeight\": \"normal\"}, \"axisX\": {\"labelAngle\": 0, \"labelPadding\": 4, \"tickSize\": 3}, \"axisY\": {\"labelBaseline\": \"middle\", \"maxExtent\": 45, \"minExtent\": 45, \"tickSize\": 2, \"titleAlign\": \"left\", \"titleAngle\": 0, \"titleX\": -45, \"titleY\": -11}, \"legend\": {\"titleFont\": \"Benton Gothic Bold, sans\", \"titleFontSize\": 13, \"titleFontWeight\": \"normal\", \"symbolType\": \"square\", \"labelFont\": \"Benton Gothic, sans\", \"labelFontSize\": 11.5}, \"range\": {\"category\": [\"#3580b1\", \"#ec8431\", \"#ab7fb4\", \"#c89d29\", \"#adc839\", \"#829eb1\"], \"diverging\": [\"#e68a4f\", \"#f4bb6a\", \"#f9e39c\", \"#dadfe2\", \"#a6b7c6\", \"#849eae\"], \"heatmap\": [\"#fbf2c7\", \"#f9e39c\", \"#f8d36e\", \"#f4bb6a\", \"#e68a4f\", \"#d15a40\", \"#ab4232\"], \"ordinal\": [\"#fbf2c7\", \"#f9e39c\", \"#f8d36e\", \"#f4bb6a\", \"#e68a4f\", \"#d15a40\", \"#ab4232\"], \"ramp\": [\"#fbf2c7\", \"#f9e39c\", \"#f8d36e\", \"#f4bb6a\", \"#e68a4f\", \"#d15a40\", \"#ab4232\"]}}, \"data\": {\"name\": \"data-12757eff101c58154fc869148d0bc726\"}, \"mark\": {\"type\": \"bar\", \"opacity\": 1, \"size\": 2}, \"encoding\": {\"x\": {\"type\": \"temporal\", \"axis\": {\"format\": \"%B\", \"grid\": false, \"tickCount\": 6}, \"field\": \"monthday\", \"title\": \" \"}, \"y\": {\"type\": \"quantitative\", \"axis\": {\"domainOpacity\": 0, \"format\": \"\", \"gridColor\": \"#dddddd\", \"gridWidth\": 0.6, \"offset\": 6, \"tickCount\": 4, \"tickSize\": 0}, \"field\": \"calls\", \"scale\": {\"domain\": [0, 1500]}, \"stack\": null, \"title\": \" \"}}, \"height\": 400, \"title\": \"All service calls to Sacramento Police: 2020\", \"width\": 630, \"$schema\": \"https://vega.github.io/schema/vega-lite/v4.0.2.json\", \"datasets\": {\"data-12757eff101c58154fc869148d0bc726\": [{\"monthday\": \"01/01\", \"calls\": 972}, {\"monthday\": \"01/02\", \"calls\": 874}, {\"monthday\": \"01/03\", \"calls\": 1068}, {\"monthday\": \"01/04\", \"calls\": 939}, {\"monthday\": \"01/05\", \"calls\": 945}, {\"monthday\": \"01/06\", \"calls\": 871}, {\"monthday\": \"01/07\", \"calls\": 860}, {\"monthday\": \"01/08\", \"calls\": 984}, {\"monthday\": \"01/09\", \"calls\": 1010}, {\"monthday\": \"01/10\", \"calls\": 996}, {\"monthday\": \"01/11\", \"calls\": 899}, {\"monthday\": \"01/12\", \"calls\": 888}, {\"monthday\": \"01/13\", \"calls\": 921}, {\"monthday\": \"01/14\", \"calls\": 968}, {\"monthday\": \"01/15\", \"calls\": 930}, {\"monthday\": \"01/16\", \"calls\": 892}, {\"monthday\": \"01/17\", \"calls\": 963}, {\"monthday\": \"01/18\", \"calls\": 885}, {\"monthday\": \"01/19\", \"calls\": 822}, {\"monthday\": \"01/20\", \"calls\": 828}, {\"monthday\": \"01/21\", \"calls\": 986}, {\"monthday\": \"01/22\", \"calls\": 943}, {\"monthday\": \"01/23\", \"calls\": 996}, {\"monthday\": \"01/24\", \"calls\": 977}, {\"monthday\": \"01/25\", \"calls\": 1015}, {\"monthday\": \"01/26\", \"calls\": 883}, {\"monthday\": \"01/27\", \"calls\": 1026}, {\"monthday\": \"01/28\", \"calls\": 952}, {\"monthday\": \"01/29\", \"calls\": 982}, {\"monthday\": \"01/30\", \"calls\": 1041}, {\"monthday\": \"01/31\", \"calls\": 1100}, {\"monthday\": \"02/01\", \"calls\": 1015}, {\"monthday\": \"02/02\", \"calls\": 941}, {\"monthday\": \"02/03\", \"calls\": 880}, {\"monthday\": \"02/04\", \"calls\": 921}, {\"monthday\": \"02/05\", \"calls\": 957}, {\"monthday\": \"02/06\", \"calls\": 1044}, {\"monthday\": \"02/07\", \"calls\": 1029}, {\"monthday\": \"02/08\", \"calls\": 1034}, {\"monthday\": \"02/09\", \"calls\": 981}, {\"monthday\": \"02/10\", \"calls\": 839}, {\"monthday\": \"02/11\", \"calls\": 895}, {\"monthday\": \"02/12\", \"calls\": 1012}, {\"monthday\": \"02/13\", \"calls\": 1037}, {\"monthday\": \"02/14\", \"calls\": 1007}, {\"monthday\": \"02/15\", \"calls\": 939}, {\"monthday\": \"02/16\", \"calls\": 878}, {\"monthday\": \"02/17\", \"calls\": 880}, {\"monthday\": \"02/18\", \"calls\": 854}, {\"monthday\": \"02/19\", \"calls\": 1036}, {\"monthday\": \"02/20\", \"calls\": 977}, {\"monthday\": \"02/21\", \"calls\": 971}, {\"monthday\": \"02/22\", \"calls\": 959}, {\"monthday\": \"02/23\", \"calls\": 939}, {\"monthday\": \"02/24\", \"calls\": 1006}, {\"monthday\": \"02/25\", \"calls\": 921}, {\"monthday\": \"02/26\", \"calls\": 1009}, {\"monthday\": \"02/27\", \"calls\": 983}, {\"monthday\": \"02/28\", \"calls\": 982}, {\"monthday\": \"02/29\", \"calls\": 1002}, {\"monthday\": \"03/01\", \"calls\": 933}, {\"monthday\": \"03/02\", \"calls\": 905}, {\"monthday\": \"03/03\", \"calls\": 993}, {\"monthday\": \"03/04\", \"calls\": 992}, {\"monthday\": \"03/05\", \"calls\": 969}, {\"monthday\": \"03/06\", \"calls\": 1040}, {\"monthday\": \"03/07\", \"calls\": 975}, {\"monthday\": \"03/08\", \"calls\": 886}, {\"monthday\": \"03/09\", \"calls\": 952}, {\"monthday\": \"03/10\", \"calls\": 1046}, {\"monthday\": \"03/11\", \"calls\": 961}, {\"monthday\": \"03/12\", \"calls\": 1058}, {\"monthday\": \"03/13\", \"calls\": 1018}, {\"monthday\": \"03/14\", \"calls\": 889}, {\"monthday\": \"03/15\", \"calls\": 722}, {\"monthday\": \"03/16\", \"calls\": 771}, {\"monthday\": \"03/17\", \"calls\": 769}, {\"monthday\": \"03/18\", \"calls\": 825}, {\"monthday\": \"03/19\", \"calls\": 868}, {\"monthday\": \"03/20\", \"calls\": 782}, {\"monthday\": \"03/21\", \"calls\": 760}, {\"monthday\": \"03/22\", \"calls\": 787}, {\"monthday\": \"03/23\", \"calls\": 794}, {\"monthday\": \"03/24\", \"calls\": 711}, {\"monthday\": \"03/25\", \"calls\": 830}, {\"monthday\": \"03/26\", \"calls\": 908}, {\"monthday\": \"03/27\", \"calls\": 776}, {\"monthday\": \"03/28\", \"calls\": 727}, {\"monthday\": \"03/29\", \"calls\": 707}, {\"monthday\": \"03/30\", \"calls\": 808}, {\"monthday\": \"03/31\", \"calls\": 821}, {\"monthday\": \"04/01\", \"calls\": 847}, {\"monthday\": \"04/02\", \"calls\": 854}, {\"monthday\": \"04/03\", \"calls\": 842}, {\"monthday\": \"04/04\", \"calls\": 804}, {\"monthday\": \"04/05\", \"calls\": 658}, {\"monthday\": \"04/06\", \"calls\": 721}, {\"monthday\": \"04/07\", \"calls\": 821}, {\"monthday\": \"04/08\", \"calls\": 864}, {\"monthday\": \"04/09\", \"calls\": 817}, {\"monthday\": \"04/10\", \"calls\": 872}, {\"monthday\": \"04/11\", \"calls\": 876}, {\"monthday\": \"04/12\", \"calls\": 707}, {\"monthday\": \"04/13\", \"calls\": 947}, {\"monthday\": \"04/14\", \"calls\": 864}, {\"monthday\": \"04/15\", \"calls\": 937}, {\"monthday\": \"04/16\", \"calls\": 916}, {\"monthday\": \"04/17\", \"calls\": 901}, {\"monthday\": \"04/18\", \"calls\": 891}, {\"monthday\": \"04/19\", \"calls\": 882}, {\"monthday\": \"04/20\", \"calls\": 908}, {\"monthday\": \"04/21\", \"calls\": 888}, {\"monthday\": \"04/22\", \"calls\": 913}, {\"monthday\": \"04/23\", \"calls\": 903}, {\"monthday\": \"04/24\", \"calls\": 950}, {\"monthday\": \"04/25\", \"calls\": 953}, {\"monthday\": \"04/26\", \"calls\": 877}, {\"monthday\": \"04/27\", \"calls\": 965}, {\"monthday\": \"04/28\", \"calls\": 902}, {\"monthday\": \"04/29\", \"calls\": 986}, {\"monthday\": \"04/30\", \"calls\": 944}, {\"monthday\": \"05/01\", \"calls\": 883}, {\"monthday\": \"05/02\", \"calls\": 918}, {\"monthday\": \"05/03\", \"calls\": 865}, {\"monthday\": \"05/04\", \"calls\": 925}, {\"monthday\": \"05/05\", \"calls\": 930}, {\"monthday\": \"05/06\", \"calls\": 960}, {\"monthday\": \"05/07\", \"calls\": 933}, {\"monthday\": \"05/08\", \"calls\": 912}, {\"monthday\": \"05/09\", \"calls\": 928}, {\"monthday\": \"05/10\", \"calls\": 802}, {\"monthday\": \"05/11\", \"calls\": 906}, {\"monthday\": \"05/12\", \"calls\": 921}, {\"monthday\": \"05/13\", \"calls\": 959}, {\"monthday\": \"05/14\", \"calls\": 893}, {\"monthday\": \"05/15\", \"calls\": 965}, {\"monthday\": \"05/16\", \"calls\": 957}, {\"monthday\": \"05/17\", \"calls\": 909}, {\"monthday\": \"05/18\", \"calls\": 977}, {\"monthday\": \"05/19\", \"calls\": 928}, {\"monthday\": \"05/20\", \"calls\": 958}, {\"monthday\": \"05/21\", \"calls\": 1043}, {\"monthday\": \"05/22\", \"calls\": 923}, {\"monthday\": \"05/23\", \"calls\": 911}, {\"monthday\": \"05/24\", \"calls\": 969}, {\"monthday\": \"05/25\", \"calls\": 896}, {\"monthday\": \"05/26\", \"calls\": 943}, {\"monthday\": \"05/27\", \"calls\": 937}, {\"monthday\": \"05/28\", \"calls\": 924}, {\"monthday\": \"05/29\", \"calls\": 844}, {\"monthday\": \"05/30\", \"calls\": 753}, {\"monthday\": \"05/31\", \"calls\": 1043}, {\"monthday\": \"06/01\", \"calls\": 1365}, {\"monthday\": \"06/02\", \"calls\": 866}, {\"monthday\": \"06/03\", \"calls\": 932}, {\"monthday\": \"06/04\", \"calls\": 817}, {\"monthday\": \"06/05\", \"calls\": 822}, {\"monthday\": \"06/06\", \"calls\": 761}, {\"monthday\": \"06/07\", \"calls\": 788}, {\"monthday\": \"06/08\", \"calls\": 771}, {\"monthday\": \"06/09\", \"calls\": 858}, {\"monthday\": \"06/10\", \"calls\": 893}, {\"monthday\": \"06/11\", \"calls\": 306}]}}, {\"mode\": \"vega-lite\"});\n",
       "</script>"
      ],
      "text/plain": [
       "alt.Chart(...)"
      ]
     },
     "execution_count": 84,
     "metadata": {},
     "output_type": "execute_result"
    }
   ],
   "source": [
    "chart = alt.Chart((this_year_sac))\\\n",
    "    .mark_bar(size=2,opacity=1)\\\n",
    "    .encode(\n",
    "    x=alt.X('monthday:T', title=' ', axis=alt.Axis(grid=False, tickCount=6, format='%B')),\n",
    "    y=alt.Y('calls:Q', stack=None, title=' ', axis=alt.Axis(gridWidth=.6,\\\n",
    "     gridColor='#dddddd',offset=6,tickSize=0,domainOpacity=0,tickCount=4, format=''),\\\n",
    "           scale=alt.Scale(domain=(0, 1500)))\n",
    ").properties(width=630, height=400,\n",
    "     title='All service calls to Sacramento Police: 2020'\n",
    ")\n",
    "\n",
    "chart.configure_view(strokeOpacity=0).configure_legend(\n",
    "    orient='top',\n",
    "    symbolType='stroke'\n",
    ").configure_legend(symbolType='square')"
   ]
  },
  {
   "cell_type": "code",
   "execution_count": 85,
   "metadata": {},
   "outputs": [
    {
     "data": {
      "text/html": [
       "<div>\n",
       "<style scoped>\n",
       "    .dataframe tbody tr th:only-of-type {\n",
       "        vertical-align: middle;\n",
       "    }\n",
       "\n",
       "    .dataframe tbody tr th {\n",
       "        vertical-align: top;\n",
       "    }\n",
       "\n",
       "    .dataframe thead th {\n",
       "        text-align: right;\n",
       "    }\n",
       "</style>\n",
       "<table border=\"1\" class=\"dataframe\">\n",
       "  <thead>\n",
       "    <tr style=\"text-align: right;\">\n",
       "      <th></th>\n",
       "      <th>monthday</th>\n",
       "      <th>calls</th>\n",
       "    </tr>\n",
       "  </thead>\n",
       "  <tbody>\n",
       "    <tr>\n",
       "      <th>162</th>\n",
       "      <td>06/11</td>\n",
       "      <td>306</td>\n",
       "    </tr>\n",
       "    <tr>\n",
       "      <th>161</th>\n",
       "      <td>06/10</td>\n",
       "      <td>893</td>\n",
       "    </tr>\n",
       "    <tr>\n",
       "      <th>160</th>\n",
       "      <td>06/09</td>\n",
       "      <td>858</td>\n",
       "    </tr>\n",
       "    <tr>\n",
       "      <th>159</th>\n",
       "      <td>06/08</td>\n",
       "      <td>771</td>\n",
       "    </tr>\n",
       "    <tr>\n",
       "      <th>158</th>\n",
       "      <td>06/07</td>\n",
       "      <td>788</td>\n",
       "    </tr>\n",
       "  </tbody>\n",
       "</table>\n",
       "</div>"
      ],
      "text/plain": [
       "    monthday  calls\n",
       "162    06/11    306\n",
       "161    06/10    893\n",
       "160    06/09    858\n",
       "159    06/08    771\n",
       "158    06/07    788"
      ]
     },
     "execution_count": 85,
     "metadata": {},
     "output_type": "execute_result"
    }
   ],
   "source": [
    "this_year_sac.sort_values(by='monthday', ascending=False).head(5)"
   ]
  },
  {
   "cell_type": "markdown",
   "metadata": {},
   "source": [
    "---"
   ]
  },
  {
   "cell_type": "markdown",
   "metadata": {},
   "source": [
    "### Santa Monica"
   ]
  },
  {
   "cell_type": "markdown",
   "metadata": {},
   "source": []
  },
  {
   "cell_type": "markdown",
   "metadata": {},
   "source": []
  },
  {
   "cell_type": "markdown",
   "metadata": {},
   "source": []
  },
  {
   "cell_type": "code",
   "execution_count": 86,
   "metadata": {},
   "outputs": [],
   "source": [
    "sm_df = pd.read_csv('/Users/mhustiles/data/data/LA/calls/santa_monica/santa_monica.csv', low_memory=False)"
   ]
  },
  {
   "cell_type": "code",
   "execution_count": 87,
   "metadata": {},
   "outputs": [],
   "source": [
    "sm_df['date'] = pd.to_datetime(sm_df['received_time'], format='%Y-%m-%d %H:%M:%S')"
   ]
  },
  {
   "cell_type": "code",
   "execution_count": 88,
   "metadata": {},
   "outputs": [],
   "source": [
    "sm_df['monthday'] = sm_df['date'].dt.strftime('%m/%d')\n",
    "sm_df['year'] = sm_df['date'].dt.strftime('%Y')"
   ]
  },
  {
   "cell_type": "code",
   "execution_count": 89,
   "metadata": {},
   "outputs": [],
   "source": [
    "this_year_sm = sm_df[sm_df['year'] == '2020'].groupby(['monthday']).agg('size').reset_index(name='calls')"
   ]
  },
  {
   "cell_type": "code",
   "execution_count": 90,
   "metadata": {},
   "outputs": [
    {
     "data": {
      "text/plain": [
       "265.09659090909093"
      ]
     },
     "execution_count": 90,
     "metadata": {},
     "output_type": "execute_result"
    }
   ],
   "source": [
    "this_year_sm.calls.mean()"
   ]
  },
  {
   "cell_type": "code",
   "execution_count": 91,
   "metadata": {},
   "outputs": [
    {
     "data": {
      "text/html": [
       "\n",
       "<div id=\"altair-viz-ca71eeb8ec224f768356d12dcde8991d\"></div>\n",
       "<script type=\"text/javascript\">\n",
       "  (function(spec, embedOpt){\n",
       "    const outputDiv = document.getElementById(\"altair-viz-ca71eeb8ec224f768356d12dcde8991d\");\n",
       "    const paths = {\n",
       "      \"vega\": \"https://cdn.jsdelivr.net/npm//vega@5?noext\",\n",
       "      \"vega-lib\": \"https://cdn.jsdelivr.net/npm//vega-lib?noext\",\n",
       "      \"vega-lite\": \"https://cdn.jsdelivr.net/npm//vega-lite@4.0.2?noext\",\n",
       "      \"vega-embed\": \"https://cdn.jsdelivr.net/npm//vega-embed@6?noext\",\n",
       "    };\n",
       "\n",
       "    function loadScript(lib) {\n",
       "      return new Promise(function(resolve, reject) {\n",
       "        var s = document.createElement('script');\n",
       "        s.src = paths[lib];\n",
       "        s.async = true;\n",
       "        s.onload = () => resolve(paths[lib]);\n",
       "        s.onerror = () => reject(`Error loading script: ${paths[lib]}`);\n",
       "        document.getElementsByTagName(\"head\")[0].appendChild(s);\n",
       "      });\n",
       "    }\n",
       "\n",
       "    function showError(err) {\n",
       "      outputDiv.innerHTML = `<div class=\"error\" style=\"color:red;\">${err}</div>`;\n",
       "      throw err;\n",
       "    }\n",
       "\n",
       "    function displayChart(vegaEmbed) {\n",
       "      vegaEmbed(outputDiv, spec, embedOpt)\n",
       "        .catch(err => showError(`Javascript Error: ${err.message}<br>This usually means there's a typo in your chart specification. See the javascript console for the full traceback.`));\n",
       "    }\n",
       "\n",
       "    if(typeof define === \"function\" && define.amd) {\n",
       "      requirejs.config({paths});\n",
       "      require([\"vega-embed\"], displayChart, err => showError(`Error loading script: ${err.message}`));\n",
       "    } else if (typeof vegaEmbed === \"function\") {\n",
       "      displayChart(vegaEmbed);\n",
       "    } else {\n",
       "      loadScript(\"vega\")\n",
       "        .then(() => loadScript(\"vega-lite\"))\n",
       "        .then(() => loadScript(\"vega-embed\"))\n",
       "        .catch(showError)\n",
       "        .then(() => displayChart(vegaEmbed));\n",
       "    }\n",
       "  })({\"config\": {\"view\": {\"width\": 800, \"height\": 450, \"strokeOpacity\": 0}, \"background\": \"#ffffff\", \"title\": {\"anchor\": \"start\", \"font\": \"Benton Gothic Bold, sans\", \"fontColor\": \"#000000\", \"fontSize\": 22, \"fontWeight\": \"normal\"}, \"arc\": {\"fill\": \"#82c6df\"}, \"area\": {\"fill\": \"#82c6df\"}, \"line\": {\"stroke\": \"#82c6df\", \"strokeWidth\": 3}, \"path\": {\"stroke\": \"#82c6df\"}, \"rect\": {\"fill\": \"#82c6df\"}, \"shape\": {\"stroke\": \"#82c6df\"}, \"bar\": {\"fill\": \"#82c6df\"}, \"point\": {\"stroke\": \"#82c6df\"}, \"symbol\": {\"fill\": \"#82c6df\", \"size\": 30}, \"axis\": {\"titleFont\": \"Benton Gothic Bold, sans\", \"titleFontSize\": 13, \"titleFontWeight\": \"normal\", \"labelFont\": \"Benton Gothic, sans\", \"labelFontSize\": 11.5, \"labelFontWeight\": \"normal\"}, \"axisX\": {\"labelAngle\": 0, \"labelPadding\": 4, \"tickSize\": 3}, \"axisY\": {\"labelBaseline\": \"middle\", \"maxExtent\": 45, \"minExtent\": 45, \"tickSize\": 2, \"titleAlign\": \"left\", \"titleAngle\": 0, \"titleX\": -45, \"titleY\": -11}, \"legend\": {\"titleFont\": \"Benton Gothic Bold, sans\", \"titleFontSize\": 13, \"titleFontWeight\": \"normal\", \"symbolType\": \"square\", \"labelFont\": \"Benton Gothic, sans\", \"labelFontSize\": 11.5}, \"range\": {\"category\": [\"#3580b1\", \"#ec8431\", \"#ab7fb4\", \"#c89d29\", \"#adc839\", \"#829eb1\"], \"diverging\": [\"#e68a4f\", \"#f4bb6a\", \"#f9e39c\", \"#dadfe2\", \"#a6b7c6\", \"#849eae\"], \"heatmap\": [\"#fbf2c7\", \"#f9e39c\", \"#f8d36e\", \"#f4bb6a\", \"#e68a4f\", \"#d15a40\", \"#ab4232\"], \"ordinal\": [\"#fbf2c7\", \"#f9e39c\", \"#f8d36e\", \"#f4bb6a\", \"#e68a4f\", \"#d15a40\", \"#ab4232\"], \"ramp\": [\"#fbf2c7\", \"#f9e39c\", \"#f8d36e\", \"#f4bb6a\", \"#e68a4f\", \"#d15a40\", \"#ab4232\"]}}, \"data\": {\"name\": \"data-b98697120557f726640c97ddbb1f095b\"}, \"mark\": {\"type\": \"bar\", \"opacity\": 1, \"size\": 2}, \"encoding\": {\"x\": {\"type\": \"temporal\", \"axis\": {\"format\": \"%B\", \"grid\": false, \"tickCount\": 6}, \"field\": \"monthday\", \"title\": \" \"}, \"y\": {\"type\": \"quantitative\", \"axis\": {\"domainOpacity\": 0, \"format\": \"\", \"gridColor\": \"#dddddd\", \"gridWidth\": 0.6, \"offset\": 6, \"tickCount\": 4, \"tickSize\": 0}, \"field\": \"calls\", \"scale\": {\"domain\": [0, 700]}, \"stack\": null, \"title\": \" \"}}, \"height\": 400, \"title\": \"All service calls to this_year_sm Police: 2020\", \"width\": 630, \"$schema\": \"https://vega.github.io/schema/vega-lite/v4.0.2.json\", \"datasets\": {\"data-b98697120557f726640c97ddbb1f095b\": [{\"monthday\": \"01/01\", \"calls\": 248}, {\"monthday\": \"01/02\", \"calls\": 301}, {\"monthday\": \"01/03\", \"calls\": 322}, {\"monthday\": \"01/04\", \"calls\": 292}, {\"monthday\": \"01/05\", \"calls\": 269}, {\"monthday\": \"01/06\", \"calls\": 299}, {\"monthday\": \"01/07\", \"calls\": 304}, {\"monthday\": \"01/08\", \"calls\": 303}, {\"monthday\": \"01/09\", \"calls\": 303}, {\"monthday\": \"01/10\", \"calls\": 302}, {\"monthday\": \"01/11\", \"calls\": 298}, {\"monthday\": \"01/12\", \"calls\": 277}, {\"monthday\": \"01/13\", \"calls\": 263}, {\"monthday\": \"01/14\", \"calls\": 300}, {\"monthday\": \"01/15\", \"calls\": 338}, {\"monthday\": \"01/16\", \"calls\": 329}, {\"monthday\": \"01/17\", \"calls\": 335}, {\"monthday\": \"01/18\", \"calls\": 321}, {\"monthday\": \"01/19\", \"calls\": 270}, {\"monthday\": \"01/20\", \"calls\": 296}, {\"monthday\": \"01/21\", \"calls\": 277}, {\"monthday\": \"01/22\", \"calls\": 324}, {\"monthday\": \"01/23\", \"calls\": 299}, {\"monthday\": \"01/24\", \"calls\": 295}, {\"monthday\": \"01/25\", \"calls\": 254}, {\"monthday\": \"01/26\", \"calls\": 236}, {\"monthday\": \"01/27\", \"calls\": 299}, {\"monthday\": \"01/28\", \"calls\": 304}, {\"monthday\": \"01/29\", \"calls\": 325}, {\"monthday\": \"01/30\", \"calls\": 293}, {\"monthday\": \"01/31\", \"calls\": 329}, {\"monthday\": \"02/01\", \"calls\": 328}, {\"monthday\": \"02/02\", \"calls\": 259}, {\"monthday\": \"02/03\", \"calls\": 342}, {\"monthday\": \"02/04\", \"calls\": 326}, {\"monthday\": \"02/05\", \"calls\": 307}, {\"monthday\": \"02/06\", \"calls\": 328}, {\"monthday\": \"02/07\", \"calls\": 310}, {\"monthday\": \"02/08\", \"calls\": 318}, {\"monthday\": \"02/09\", \"calls\": 277}, {\"monthday\": \"02/10\", \"calls\": 283}, {\"monthday\": \"02/11\", \"calls\": 331}, {\"monthday\": \"02/12\", \"calls\": 296}, {\"monthday\": \"02/13\", \"calls\": 309}, {\"monthday\": \"02/14\", \"calls\": 341}, {\"monthday\": \"02/15\", \"calls\": 329}, {\"monthday\": \"02/16\", \"calls\": 279}, {\"monthday\": \"02/17\", \"calls\": 294}, {\"monthday\": \"02/18\", \"calls\": 319}, {\"monthday\": \"02/19\", \"calls\": 295}, {\"monthday\": \"02/20\", \"calls\": 303}, {\"monthday\": \"02/21\", \"calls\": 302}, {\"monthday\": \"02/22\", \"calls\": 277}, {\"monthday\": \"02/23\", \"calls\": 299}, {\"monthday\": \"02/24\", \"calls\": 280}, {\"monthday\": \"02/25\", \"calls\": 333}, {\"monthday\": \"02/26\", \"calls\": 301}, {\"monthday\": \"02/27\", \"calls\": 301}, {\"monthday\": \"02/28\", \"calls\": 332}, {\"monthday\": \"02/29\", \"calls\": 300}, {\"monthday\": \"03/01\", \"calls\": 267}, {\"monthday\": \"03/02\", \"calls\": 333}, {\"monthday\": \"03/03\", \"calls\": 334}, {\"monthday\": \"03/04\", \"calls\": 332}, {\"monthday\": \"03/05\", \"calls\": 341}, {\"monthday\": \"03/06\", \"calls\": 361}, {\"monthday\": \"03/07\", \"calls\": 277}, {\"monthday\": \"03/08\", \"calls\": 277}, {\"monthday\": \"03/09\", \"calls\": 301}, {\"monthday\": \"03/10\", \"calls\": 311}, {\"monthday\": \"03/11\", \"calls\": 316}, {\"monthday\": \"03/12\", \"calls\": 267}, {\"monthday\": \"03/13\", \"calls\": 238}, {\"monthday\": \"03/14\", \"calls\": 249}, {\"monthday\": \"03/15\", \"calls\": 233}, {\"monthday\": \"03/16\", \"calls\": 194}, {\"monthday\": \"03/17\", \"calls\": 215}, {\"monthday\": \"03/18\", \"calls\": 217}, {\"monthday\": \"03/19\", \"calls\": 214}, {\"monthday\": \"03/20\", \"calls\": 201}, {\"monthday\": \"03/21\", \"calls\": 193}, {\"monthday\": \"03/22\", \"calls\": 202}, {\"monthday\": \"03/23\", \"calls\": 198}, {\"monthday\": \"03/24\", \"calls\": 194}, {\"monthday\": \"03/25\", \"calls\": 218}, {\"monthday\": \"03/26\", \"calls\": 218}, {\"monthday\": \"03/27\", \"calls\": 226}, {\"monthday\": \"03/28\", \"calls\": 190}, {\"monthday\": \"03/29\", \"calls\": 212}, {\"monthday\": \"03/30\", \"calls\": 215}, {\"monthday\": \"03/31\", \"calls\": 171}, {\"monthday\": \"04/01\", \"calls\": 267}, {\"monthday\": \"04/02\", \"calls\": 213}, {\"monthday\": \"04/03\", \"calls\": 214}, {\"monthday\": \"04/04\", \"calls\": 218}, {\"monthday\": \"04/05\", \"calls\": 159}, {\"monthday\": \"04/06\", \"calls\": 185}, {\"monthday\": \"04/07\", \"calls\": 166}, {\"monthday\": \"04/08\", \"calls\": 196}, {\"monthday\": \"04/09\", \"calls\": 178}, {\"monthday\": \"04/10\", \"calls\": 166}, {\"monthday\": \"04/11\", \"calls\": 178}, {\"monthday\": \"04/12\", \"calls\": 175}, {\"monthday\": \"04/13\", \"calls\": 195}, {\"monthday\": \"04/14\", \"calls\": 237}, {\"monthday\": \"04/15\", \"calls\": 215}, {\"monthday\": \"04/16\", \"calls\": 205}, {\"monthday\": \"04/17\", \"calls\": 255}, {\"monthday\": \"04/18\", \"calls\": 183}, {\"monthday\": \"04/19\", \"calls\": 210}, {\"monthday\": \"04/20\", \"calls\": 199}, {\"monthday\": \"04/21\", \"calls\": 213}, {\"monthday\": \"04/22\", \"calls\": 241}, {\"monthday\": \"04/23\", \"calls\": 254}, {\"monthday\": \"04/24\", \"calls\": 253}, {\"monthday\": \"04/25\", \"calls\": 225}, {\"monthday\": \"04/26\", \"calls\": 202}, {\"monthday\": \"04/27\", \"calls\": 240}, {\"monthday\": \"04/28\", \"calls\": 239}, {\"monthday\": \"04/29\", \"calls\": 237}, {\"monthday\": \"04/30\", \"calls\": 249}, {\"monthday\": \"05/01\", \"calls\": 247}, {\"monthday\": \"05/02\", \"calls\": 230}, {\"monthday\": \"05/03\", \"calls\": 231}, {\"monthday\": \"05/04\", \"calls\": 221}, {\"monthday\": \"05/05\", \"calls\": 250}, {\"monthday\": \"05/06\", \"calls\": 245}, {\"monthday\": \"05/07\", \"calls\": 295}, {\"monthday\": \"05/08\", \"calls\": 255}, {\"monthday\": \"05/09\", \"calls\": 227}, {\"monthday\": \"05/10\", \"calls\": 200}, {\"monthday\": \"05/11\", \"calls\": 250}, {\"monthday\": \"05/12\", \"calls\": 256}, {\"monthday\": \"05/13\", \"calls\": 224}, {\"monthday\": \"05/14\", \"calls\": 258}, {\"monthday\": \"05/15\", \"calls\": 247}, {\"monthday\": \"05/16\", \"calls\": 235}, {\"monthday\": \"05/17\", \"calls\": 249}, {\"monthday\": \"05/18\", \"calls\": 203}, {\"monthday\": \"05/19\", \"calls\": 277}, {\"monthday\": \"05/20\", \"calls\": 232}, {\"monthday\": \"05/21\", \"calls\": 233}, {\"monthday\": \"05/22\", \"calls\": 264}, {\"monthday\": \"05/23\", \"calls\": 265}, {\"monthday\": \"05/24\", \"calls\": 293}, {\"monthday\": \"05/25\", \"calls\": 247}, {\"monthday\": \"05/26\", \"calls\": 282}, {\"monthday\": \"05/27\", \"calls\": 243}, {\"monthday\": \"05/28\", \"calls\": 264}, {\"monthday\": \"05/29\", \"calls\": 252}, {\"monthday\": \"05/30\", \"calls\": 256}, {\"monthday\": \"05/31\", \"calls\": 705}, {\"monthday\": \"06/01\", \"calls\": 383}, {\"monthday\": \"06/02\", \"calls\": 345}, {\"monthday\": \"06/03\", \"calls\": 333}, {\"monthday\": \"06/04\", \"calls\": 250}, {\"monthday\": \"06/05\", \"calls\": 353}, {\"monthday\": \"06/06\", \"calls\": 314}, {\"monthday\": \"06/07\", \"calls\": 281}, {\"monthday\": \"06/08\", \"calls\": 357}, {\"monthday\": \"06/09\", \"calls\": 308}, {\"monthday\": \"06/10\", \"calls\": 261}, {\"monthday\": \"06/11\", \"calls\": 242}, {\"monthday\": \"06/12\", \"calls\": 245}, {\"monthday\": \"06/13\", \"calls\": 242}, {\"monthday\": \"06/14\", \"calls\": 231}, {\"monthday\": \"06/15\", \"calls\": 240}, {\"monthday\": \"06/16\", \"calls\": 259}, {\"monthday\": \"06/17\", \"calls\": 228}, {\"monthday\": \"06/18\", \"calls\": 245}, {\"monthday\": \"06/19\", \"calls\": 265}, {\"monthday\": \"06/20\", \"calls\": 235}, {\"monthday\": \"06/21\", \"calls\": 228}, {\"monthday\": \"06/22\", \"calls\": 230}, {\"monthday\": \"06/23\", \"calls\": 225}, {\"monthday\": \"06/24\", \"calls\": 35}]}}, {\"mode\": \"vega-lite\"});\n",
       "</script>"
      ],
      "text/plain": [
       "alt.Chart(...)"
      ]
     },
     "execution_count": 91,
     "metadata": {},
     "output_type": "execute_result"
    }
   ],
   "source": [
    "chart = alt.Chart((this_year_sm))\\\n",
    "    .mark_bar(size=2,opacity=1)\\\n",
    "    .encode(\n",
    "    x=alt.X('monthday:T', title=' ', axis=alt.Axis(grid=False, tickCount=6, format='%B')),\n",
    "    y=alt.Y('calls:Q', stack=None, title=' ', axis=alt.Axis(gridWidth=.6,\\\n",
    "     gridColor='#dddddd',offset=6,tickSize=0,domainOpacity=0,tickCount=4, format=''),\\\n",
    "           scale=alt.Scale(domain=(0, 700)))\n",
    ").properties(width=630, height=400,\n",
    "     title='All service calls to this_year_sm Police: 2020'\n",
    ")\n",
    "\n",
    "chart.configure_view(strokeOpacity=0).configure_legend(\n",
    "    orient='top',\n",
    "    symbolType='stroke'\n",
    ").configure_legend(symbolType='square')"
   ]
  },
  {
   "cell_type": "code",
   "execution_count": 92,
   "metadata": {},
   "outputs": [],
   "source": [
    "this_year_sm['monthday'] = this_year_sm['monthday'] + '/2020'"
   ]
  },
  {
   "cell_type": "code",
   "execution_count": 93,
   "metadata": {},
   "outputs": [],
   "source": [
    "this_year_sm.to_csv('output/santa_monica_calls_datawrapper.csv', index=None)"
   ]
  },
  {
   "cell_type": "markdown",
   "metadata": {},
   "source": [
    "---"
   ]
  },
  {
   "cell_type": "markdown",
   "metadata": {},
   "source": [
    "### San Diego"
   ]
  },
  {
   "cell_type": "code",
   "execution_count": 94,
   "metadata": {},
   "outputs": [],
   "source": [
    "sd_df = pd.read_csv('/Users/mhustiles/data/data/LA/calls/san-diego/san_diego.csv', low_memory=False)"
   ]
  },
  {
   "cell_type": "code",
   "execution_count": 95,
   "metadata": {},
   "outputs": [
    {
     "data": {
      "text/html": [
       "<div>\n",
       "<style scoped>\n",
       "    .dataframe tbody tr th:only-of-type {\n",
       "        vertical-align: middle;\n",
       "    }\n",
       "\n",
       "    .dataframe tbody tr th {\n",
       "        vertical-align: top;\n",
       "    }\n",
       "\n",
       "    .dataframe thead th {\n",
       "        text-align: right;\n",
       "    }\n",
       "</style>\n",
       "<table border=\"1\" class=\"dataframe\">\n",
       "  <thead>\n",
       "    <tr style=\"text-align: right;\">\n",
       "      <th></th>\n",
       "      <th>incident_num</th>\n",
       "      <th>date_time</th>\n",
       "      <th>day_of_week</th>\n",
       "      <th>address_number_primary</th>\n",
       "      <th>address_dir_primary</th>\n",
       "      <th>address_road_primary</th>\n",
       "      <th>address_sfx_primary</th>\n",
       "      <th>address_dir_intersecting</th>\n",
       "      <th>address_road_intersecting</th>\n",
       "      <th>address_sfx_intersecting</th>\n",
       "      <th>call_type</th>\n",
       "      <th>disposition</th>\n",
       "      <th>beat</th>\n",
       "      <th>priority</th>\n",
       "      <th>date</th>\n",
       "      <th>time</th>\n",
       "    </tr>\n",
       "  </thead>\n",
       "  <tbody>\n",
       "    <tr>\n",
       "      <th>0</th>\n",
       "      <td>E20010000001</td>\n",
       "      <td>2020-01-01 00:00:09</td>\n",
       "      <td>4</td>\n",
       "      <td>400</td>\n",
       "      <td>NaN</td>\n",
       "      <td>06TH</td>\n",
       "      <td>AVE</td>\n",
       "      <td>NaN</td>\n",
       "      <td>NaN</td>\n",
       "      <td>NaN</td>\n",
       "      <td>11-8</td>\n",
       "      <td>A</td>\n",
       "      <td>523</td>\n",
       "      <td>0</td>\n",
       "      <td>2020-01-01</td>\n",
       "      <td>00:00:09</td>\n",
       "    </tr>\n",
       "    <tr>\n",
       "      <th>1</th>\n",
       "      <td>E20010000002</td>\n",
       "      <td>2020-01-01 00:00:20</td>\n",
       "      <td>4</td>\n",
       "      <td>5000</td>\n",
       "      <td>NaN</td>\n",
       "      <td>UNIVERSITY</td>\n",
       "      <td>AVE</td>\n",
       "      <td>NaN</td>\n",
       "      <td>NaN</td>\n",
       "      <td>NaN</td>\n",
       "      <td>FD</td>\n",
       "      <td>K</td>\n",
       "      <td>826</td>\n",
       "      <td>2</td>\n",
       "      <td>2020-01-01</td>\n",
       "      <td>00:00:20</td>\n",
       "    </tr>\n",
       "    <tr>\n",
       "      <th>2</th>\n",
       "      <td>E20010000003</td>\n",
       "      <td>2020-01-01 00:00:21</td>\n",
       "      <td>4</td>\n",
       "      <td>800</td>\n",
       "      <td>NaN</td>\n",
       "      <td>SAWTELLE</td>\n",
       "      <td>AVE</td>\n",
       "      <td>NaN</td>\n",
       "      <td>NaN</td>\n",
       "      <td>NaN</td>\n",
       "      <td>AU1</td>\n",
       "      <td>W</td>\n",
       "      <td>434</td>\n",
       "      <td>1</td>\n",
       "      <td>2020-01-01</td>\n",
       "      <td>00:00:21</td>\n",
       "    </tr>\n",
       "    <tr>\n",
       "      <th>3</th>\n",
       "      <td>E20010000004</td>\n",
       "      <td>2020-01-01 00:00:32</td>\n",
       "      <td>4</td>\n",
       "      <td>5000</td>\n",
       "      <td>NaN</td>\n",
       "      <td>UNIVERSITY</td>\n",
       "      <td>AVE</td>\n",
       "      <td>NaN</td>\n",
       "      <td>NaN</td>\n",
       "      <td>NaN</td>\n",
       "      <td>FD</td>\n",
       "      <td>K</td>\n",
       "      <td>826</td>\n",
       "      <td>2</td>\n",
       "      <td>2020-01-01</td>\n",
       "      <td>00:00:32</td>\n",
       "    </tr>\n",
       "    <tr>\n",
       "      <th>4</th>\n",
       "      <td>E20010000005</td>\n",
       "      <td>2020-01-01 00:00:42</td>\n",
       "      <td>4</td>\n",
       "      <td>5200</td>\n",
       "      <td>NaN</td>\n",
       "      <td>CLAIREMONT MESA</td>\n",
       "      <td>BLV</td>\n",
       "      <td>NaN</td>\n",
       "      <td>NaN</td>\n",
       "      <td>NaN</td>\n",
       "      <td>415V</td>\n",
       "      <td>K</td>\n",
       "      <td>111</td>\n",
       "      <td>1</td>\n",
       "      <td>2020-01-01</td>\n",
       "      <td>00:00:42</td>\n",
       "    </tr>\n",
       "  </tbody>\n",
       "</table>\n",
       "</div>"
      ],
      "text/plain": [
       "   incident_num            date_time day_of_week address_number_primary  \\\n",
       "0  E20010000001  2020-01-01 00:00:09           4                    400   \n",
       "1  E20010000002  2020-01-01 00:00:20           4                   5000   \n",
       "2  E20010000003  2020-01-01 00:00:21           4                    800   \n",
       "3  E20010000004  2020-01-01 00:00:32           4                   5000   \n",
       "4  E20010000005  2020-01-01 00:00:42           4                   5200   \n",
       "\n",
       "  address_dir_primary address_road_primary address_sfx_primary  \\\n",
       "0                 NaN                 06TH                 AVE   \n",
       "1                 NaN           UNIVERSITY                 AVE   \n",
       "2                 NaN             SAWTELLE                 AVE   \n",
       "3                 NaN           UNIVERSITY                 AVE   \n",
       "4                 NaN      CLAIREMONT MESA                 BLV   \n",
       "\n",
       "  address_dir_intersecting address_road_intersecting address_sfx_intersecting  \\\n",
       "0                      NaN                       NaN                      NaN   \n",
       "1                      NaN                       NaN                      NaN   \n",
       "2                      NaN                       NaN                      NaN   \n",
       "3                      NaN                       NaN                      NaN   \n",
       "4                      NaN                       NaN                      NaN   \n",
       "\n",
       "  call_type disposition beat priority        date      time  \n",
       "0      11-8           A  523        0  2020-01-01  00:00:09  \n",
       "1        FD           K  826        2  2020-01-01  00:00:20  \n",
       "2       AU1           W  434        1  2020-01-01  00:00:21  \n",
       "3        FD           K  826        2  2020-01-01  00:00:32  \n",
       "4      415V           K  111        1  2020-01-01  00:00:42  "
      ]
     },
     "execution_count": 95,
     "metadata": {},
     "output_type": "execute_result"
    }
   ],
   "source": [
    "sd_df.head()"
   ]
  },
  {
   "cell_type": "code",
   "execution_count": 96,
   "metadata": {},
   "outputs": [],
   "source": [
    "sd_df['date'] = pd.to_datetime(sd_df['date_time'], format='%Y-%m-%d %H:%M:%S')"
   ]
  },
  {
   "cell_type": "code",
   "execution_count": 97,
   "metadata": {},
   "outputs": [],
   "source": [
    "sd_df['monthday'] = sd_df['date'].dt.strftime('%m/%d')\n",
    "sd_df['year'] = sd_df['date'].dt.strftime('%Y')"
   ]
  },
  {
   "cell_type": "code",
   "execution_count": 98,
   "metadata": {},
   "outputs": [],
   "source": [
    "this_year_sd = sd_df[sd_df['year'] == '2020'].groupby(['monthday']).agg('size').reset_index(name='calls')"
   ]
  },
  {
   "cell_type": "code",
   "execution_count": 99,
   "metadata": {},
   "outputs": [],
   "source": [
    "this_year_sd.loc[this_year_sd['monthday'] == '05/03', 'calls'] = 1557"
   ]
  },
  {
   "cell_type": "code",
   "execution_count": 100,
   "metadata": {},
   "outputs": [
    {
     "data": {
      "text/html": [
       "\n",
       "<div id=\"altair-viz-821c747e88484b6da181f24bcea7a28e\"></div>\n",
       "<script type=\"text/javascript\">\n",
       "  (function(spec, embedOpt){\n",
       "    const outputDiv = document.getElementById(\"altair-viz-821c747e88484b6da181f24bcea7a28e\");\n",
       "    const paths = {\n",
       "      \"vega\": \"https://cdn.jsdelivr.net/npm//vega@5?noext\",\n",
       "      \"vega-lib\": \"https://cdn.jsdelivr.net/npm//vega-lib?noext\",\n",
       "      \"vega-lite\": \"https://cdn.jsdelivr.net/npm//vega-lite@4.0.2?noext\",\n",
       "      \"vega-embed\": \"https://cdn.jsdelivr.net/npm//vega-embed@6?noext\",\n",
       "    };\n",
       "\n",
       "    function loadScript(lib) {\n",
       "      return new Promise(function(resolve, reject) {\n",
       "        var s = document.createElement('script');\n",
       "        s.src = paths[lib];\n",
       "        s.async = true;\n",
       "        s.onload = () => resolve(paths[lib]);\n",
       "        s.onerror = () => reject(`Error loading script: ${paths[lib]}`);\n",
       "        document.getElementsByTagName(\"head\")[0].appendChild(s);\n",
       "      });\n",
       "    }\n",
       "\n",
       "    function showError(err) {\n",
       "      outputDiv.innerHTML = `<div class=\"error\" style=\"color:red;\">${err}</div>`;\n",
       "      throw err;\n",
       "    }\n",
       "\n",
       "    function displayChart(vegaEmbed) {\n",
       "      vegaEmbed(outputDiv, spec, embedOpt)\n",
       "        .catch(err => showError(`Javascript Error: ${err.message}<br>This usually means there's a typo in your chart specification. See the javascript console for the full traceback.`));\n",
       "    }\n",
       "\n",
       "    if(typeof define === \"function\" && define.amd) {\n",
       "      requirejs.config({paths});\n",
       "      require([\"vega-embed\"], displayChart, err => showError(`Error loading script: ${err.message}`));\n",
       "    } else if (typeof vegaEmbed === \"function\") {\n",
       "      displayChart(vegaEmbed);\n",
       "    } else {\n",
       "      loadScript(\"vega\")\n",
       "        .then(() => loadScript(\"vega-lite\"))\n",
       "        .then(() => loadScript(\"vega-embed\"))\n",
       "        .catch(showError)\n",
       "        .then(() => displayChart(vegaEmbed));\n",
       "    }\n",
       "  })({\"config\": {\"view\": {\"width\": 800, \"height\": 450, \"strokeOpacity\": 0}, \"background\": \"#ffffff\", \"title\": {\"anchor\": \"start\", \"font\": \"Benton Gothic Bold, sans\", \"fontColor\": \"#000000\", \"fontSize\": 22, \"fontWeight\": \"normal\"}, \"arc\": {\"fill\": \"#82c6df\"}, \"area\": {\"fill\": \"#82c6df\"}, \"line\": {\"stroke\": \"#82c6df\", \"strokeWidth\": 3}, \"path\": {\"stroke\": \"#82c6df\"}, \"rect\": {\"fill\": \"#82c6df\"}, \"shape\": {\"stroke\": \"#82c6df\"}, \"bar\": {\"fill\": \"#82c6df\"}, \"point\": {\"stroke\": \"#82c6df\"}, \"symbol\": {\"fill\": \"#82c6df\", \"size\": 30}, \"axis\": {\"titleFont\": \"Benton Gothic Bold, sans\", \"titleFontSize\": 13, \"titleFontWeight\": \"normal\", \"labelFont\": \"Benton Gothic, sans\", \"labelFontSize\": 11.5, \"labelFontWeight\": \"normal\"}, \"axisX\": {\"labelAngle\": 0, \"labelPadding\": 4, \"tickSize\": 3}, \"axisY\": {\"labelBaseline\": \"middle\", \"maxExtent\": 45, \"minExtent\": 45, \"tickSize\": 2, \"titleAlign\": \"left\", \"titleAngle\": 0, \"titleX\": -45, \"titleY\": -11}, \"legend\": {\"titleFont\": \"Benton Gothic Bold, sans\", \"titleFontSize\": 13, \"titleFontWeight\": \"normal\", \"symbolType\": \"square\", \"labelFont\": \"Benton Gothic, sans\", \"labelFontSize\": 11.5}, \"range\": {\"category\": [\"#3580b1\", \"#ec8431\", \"#ab7fb4\", \"#c89d29\", \"#adc839\", \"#829eb1\"], \"diverging\": [\"#e68a4f\", \"#f4bb6a\", \"#f9e39c\", \"#dadfe2\", \"#a6b7c6\", \"#849eae\"], \"heatmap\": [\"#fbf2c7\", \"#f9e39c\", \"#f8d36e\", \"#f4bb6a\", \"#e68a4f\", \"#d15a40\", \"#ab4232\"], \"ordinal\": [\"#fbf2c7\", \"#f9e39c\", \"#f8d36e\", \"#f4bb6a\", \"#e68a4f\", \"#d15a40\", \"#ab4232\"], \"ramp\": [\"#fbf2c7\", \"#f9e39c\", \"#f8d36e\", \"#f4bb6a\", \"#e68a4f\", \"#d15a40\", \"#ab4232\"]}}, \"data\": {\"name\": \"data-2020bde9063ad53c32b516145fc03e3a\"}, \"mark\": {\"type\": \"bar\", \"opacity\": 1, \"size\": 2}, \"encoding\": {\"x\": {\"type\": \"temporal\", \"axis\": {\"format\": \"%B\", \"grid\": false, \"tickCount\": 6}, \"field\": \"monthday\", \"title\": \" \"}, \"y\": {\"type\": \"quantitative\", \"axis\": {\"domainOpacity\": 0, \"format\": \"\", \"gridColor\": \"#dddddd\", \"gridWidth\": 0.6, \"offset\": 6, \"tickCount\": 4, \"tickSize\": 0}, \"field\": \"calls\", \"scale\": {\"domain\": [0, 2000]}, \"stack\": null, \"title\": \" \"}}, \"height\": 400, \"title\": \"All service calls to San Diego Police: 2020\", \"width\": 630, \"$schema\": \"https://vega.github.io/schema/vega-lite/v4.0.2.json\", \"datasets\": {\"data-2020bde9063ad53c32b516145fc03e3a\": [{\"monthday\": \"01/01\", \"calls\": 1465}, {\"monthday\": \"01/02\", \"calls\": 1550}, {\"monthday\": \"01/03\", \"calls\": 1708}, {\"monthday\": \"01/04\", \"calls\": 1551}, {\"monthday\": \"01/05\", \"calls\": 1415}, {\"monthday\": \"01/06\", \"calls\": 1656}, {\"monthday\": \"01/07\", \"calls\": 1688}, {\"monthday\": \"01/08\", \"calls\": 1600}, {\"monthday\": \"01/09\", \"calls\": 1641}, {\"monthday\": \"01/10\", \"calls\": 1557}, {\"monthday\": \"01/11\", \"calls\": 1484}, {\"monthday\": \"01/12\", \"calls\": 1294}, {\"monthday\": \"01/13\", \"calls\": 1779}, {\"monthday\": \"01/14\", \"calls\": 1703}, {\"monthday\": \"01/15\", \"calls\": 1639}, {\"monthday\": \"01/16\", \"calls\": 1798}, {\"monthday\": \"01/17\", \"calls\": 1610}, {\"monthday\": \"01/18\", \"calls\": 1603}, {\"monthday\": \"01/19\", \"calls\": 1439}, {\"monthday\": \"01/20\", \"calls\": 1574}, {\"monthday\": \"01/21\", \"calls\": 1750}, {\"monthday\": \"01/22\", \"calls\": 1805}, {\"monthday\": \"01/23\", \"calls\": 1750}, {\"monthday\": \"01/24\", \"calls\": 1569}, {\"monthday\": \"01/25\", \"calls\": 1600}, {\"monthday\": \"01/26\", \"calls\": 1470}, {\"monthday\": \"01/27\", \"calls\": 1691}, {\"monthday\": \"01/28\", \"calls\": 1793}, {\"monthday\": \"01/29\", \"calls\": 1772}, {\"monthday\": \"01/30\", \"calls\": 1706}, {\"monthday\": \"01/31\", \"calls\": 1704}, {\"monthday\": \"02/01\", \"calls\": 1654}, {\"monthday\": \"02/02\", \"calls\": 1456}, {\"monthday\": \"02/03\", \"calls\": 1677}, {\"monthday\": \"02/04\", \"calls\": 1759}, {\"monthday\": \"02/05\", \"calls\": 1821}, {\"monthday\": \"02/06\", \"calls\": 1725}, {\"monthday\": \"02/07\", \"calls\": 1700}, {\"monthday\": \"02/08\", \"calls\": 1647}, {\"monthday\": \"02/09\", \"calls\": 1355}, {\"monthday\": \"02/10\", \"calls\": 1664}, {\"monthday\": \"02/11\", \"calls\": 1889}, {\"monthday\": \"02/12\", \"calls\": 1765}, {\"monthday\": \"02/13\", \"calls\": 1831}, {\"monthday\": \"02/14\", \"calls\": 1804}, {\"monthday\": \"02/15\", \"calls\": 1566}, {\"monthday\": \"02/16\", \"calls\": 1474}, {\"monthday\": \"02/17\", \"calls\": 1591}, {\"monthday\": \"02/18\", \"calls\": 1691}, {\"monthday\": \"02/19\", \"calls\": 1745}, {\"monthday\": \"02/20\", \"calls\": 1702}, {\"monthday\": \"02/21\", \"calls\": 1808}, {\"monthday\": \"02/22\", \"calls\": 1535}, {\"monthday\": \"02/23\", \"calls\": 1423}, {\"monthday\": \"02/24\", \"calls\": 1736}, {\"monthday\": \"02/25\", \"calls\": 1827}, {\"monthday\": \"02/26\", \"calls\": 1761}, {\"monthday\": \"02/27\", \"calls\": 1670}, {\"monthday\": \"02/28\", \"calls\": 1643}, {\"monthday\": \"02/29\", \"calls\": 1578}, {\"monthday\": \"03/01\", \"calls\": 1392}, {\"monthday\": \"03/02\", \"calls\": 1683}, {\"monthday\": \"03/03\", \"calls\": 1798}, {\"monthday\": \"03/04\", \"calls\": 1804}, {\"monthday\": \"03/05\", \"calls\": 1757}, {\"monthday\": \"03/06\", \"calls\": 1721}, {\"monthday\": \"03/07\", \"calls\": 1559}, {\"monthday\": \"03/08\", \"calls\": 1334}, {\"monthday\": \"03/09\", \"calls\": 1664}, {\"monthday\": \"03/10\", \"calls\": 1632}, {\"monthday\": \"03/11\", \"calls\": 1780}, {\"monthday\": \"03/12\", \"calls\": 1623}, {\"monthday\": \"03/13\", \"calls\": 1573}, {\"monthday\": \"03/14\", \"calls\": 1433}, {\"monthday\": \"03/15\", \"calls\": 1358}, {\"monthday\": \"03/16\", \"calls\": 1551}, {\"monthday\": \"03/17\", \"calls\": 1567}, {\"monthday\": \"03/18\", \"calls\": 1418}, {\"monthday\": \"03/19\", \"calls\": 1589}, {\"monthday\": \"03/20\", \"calls\": 1504}, {\"monthday\": \"03/21\", \"calls\": 1374}, {\"monthday\": \"03/22\", \"calls\": 1278}, {\"monthday\": \"03/23\", \"calls\": 1452}, {\"monthday\": \"03/24\", \"calls\": 1619}, {\"monthday\": \"03/25\", \"calls\": 1635}, {\"monthday\": \"03/26\", \"calls\": 1543}, {\"monthday\": \"03/27\", \"calls\": 1704}, {\"monthday\": \"03/28\", \"calls\": 1591}, {\"monthday\": \"03/29\", \"calls\": 1372}, {\"monthday\": \"03/30\", \"calls\": 1717}, {\"monthday\": \"03/31\", \"calls\": 1665}, {\"monthday\": \"04/01\", \"calls\": 1686}, {\"monthday\": \"04/02\", \"calls\": 1717}, {\"monthday\": \"04/03\", \"calls\": 1767}, {\"monthday\": \"04/04\", \"calls\": 1511}, {\"monthday\": \"04/05\", \"calls\": 1479}, {\"monthday\": \"04/06\", \"calls\": 1508}, {\"monthday\": \"04/07\", \"calls\": 1508}, {\"monthday\": \"04/08\", \"calls\": 1564}, {\"monthday\": \"04/09\", \"calls\": 1592}, {\"monthday\": \"04/10\", \"calls\": 1510}, {\"monthday\": \"04/11\", \"calls\": 1597}, {\"monthday\": \"04/12\", \"calls\": 1354}, {\"monthday\": \"04/13\", \"calls\": 1542}, {\"monthday\": \"04/14\", \"calls\": 1755}, {\"monthday\": \"04/15\", \"calls\": 1691}, {\"monthday\": \"04/16\", \"calls\": 1624}, {\"monthday\": \"04/17\", \"calls\": 1623}, {\"monthday\": \"04/18\", \"calls\": 1520}, {\"monthday\": \"04/19\", \"calls\": 1296}, {\"monthday\": \"04/20\", \"calls\": 1551}, {\"monthday\": \"04/21\", \"calls\": 1640}, {\"monthday\": \"04/22\", \"calls\": 1606}, {\"monthday\": \"04/23\", \"calls\": 1668}, {\"monthday\": \"04/24\", \"calls\": 1682}, {\"monthday\": \"04/25\", \"calls\": 1689}, {\"monthday\": \"04/26\", \"calls\": 1476}, {\"monthday\": \"04/27\", \"calls\": 1718}, {\"monthday\": \"04/28\", \"calls\": 1765}, {\"monthday\": \"04/29\", \"calls\": 1597}, {\"monthday\": \"04/30\", \"calls\": 1749}, {\"monthday\": \"05/01\", \"calls\": 1745}, {\"monthday\": \"05/02\", \"calls\": 1470}, {\"monthday\": \"05/03\", \"calls\": 1557}, {\"monthday\": \"05/04\", \"calls\": 1645}, {\"monthday\": \"05/05\", \"calls\": 1740}, {\"monthday\": \"05/06\", \"calls\": 1761}, {\"monthday\": \"05/07\", \"calls\": 1698}, {\"monthday\": \"05/08\", \"calls\": 1695}, {\"monthday\": \"05/09\", \"calls\": 1758}, {\"monthday\": \"05/10\", \"calls\": 1474}, {\"monthday\": \"05/11\", \"calls\": 1606}, {\"monthday\": \"05/12\", \"calls\": 1668}, {\"monthday\": \"05/13\", \"calls\": 1716}, {\"monthday\": \"05/14\", \"calls\": 1675}, {\"monthday\": \"05/15\", \"calls\": 1654}, {\"monthday\": \"05/16\", \"calls\": 1698}, {\"monthday\": \"05/17\", \"calls\": 1434}, {\"monthday\": \"05/18\", \"calls\": 1626}, {\"monthday\": \"05/19\", \"calls\": 1512}, {\"monthday\": \"05/20\", \"calls\": 1552}, {\"monthday\": \"05/21\", \"calls\": 1584}, {\"monthday\": \"05/22\", \"calls\": 1690}, {\"monthday\": \"05/23\", \"calls\": 1731}, {\"monthday\": \"05/24\", \"calls\": 1582}, {\"monthday\": \"05/25\", \"calls\": 1629}, {\"monthday\": \"05/26\", \"calls\": 1676}, {\"monthday\": \"05/27\", \"calls\": 1609}, {\"monthday\": \"05/28\", \"calls\": 1553}, {\"monthday\": \"05/29\", \"calls\": 1561}, {\"monthday\": \"05/30\", \"calls\": 1531}, {\"monthday\": \"05/31\", \"calls\": 1309}, {\"monthday\": \"06/01\", \"calls\": 1412}, {\"monthday\": \"06/02\", \"calls\": 1321}, {\"monthday\": \"06/03\", \"calls\": 1252}, {\"monthday\": \"06/04\", \"calls\": 1326}, {\"monthday\": \"06/05\", \"calls\": 1327}, {\"monthday\": \"06/06\", \"calls\": 1364}, {\"monthday\": \"06/07\", \"calls\": 1314}, {\"monthday\": \"06/08\", \"calls\": 1432}, {\"monthday\": \"06/09\", \"calls\": 1378}, {\"monthday\": \"06/10\", \"calls\": 1527}, {\"monthday\": \"06/11\", \"calls\": 1657}, {\"monthday\": \"06/12\", \"calls\": 1581}, {\"monthday\": \"06/13\", \"calls\": 1524}, {\"monthday\": \"06/14\", \"calls\": 1319}, {\"monthday\": \"06/15\", \"calls\": 1436}]}}, {\"mode\": \"vega-lite\"});\n",
       "</script>"
      ],
      "text/plain": [
       "alt.Chart(...)"
      ]
     },
     "execution_count": 100,
     "metadata": {},
     "output_type": "execute_result"
    }
   ],
   "source": [
    "chart = alt.Chart((this_year_sd.query('monthday < \"06/16\"')))\\\n",
    "    .mark_bar(size=2,opacity=1)\\\n",
    "    .encode(\n",
    "    x=alt.X('monthday:T', title=' ', axis=alt.Axis(grid=False, tickCount=6, format='%B')),\n",
    "    y=alt.Y('calls:Q', stack=None, title=' ', axis=alt.Axis(gridWidth=.6,\\\n",
    "     gridColor='#dddddd',offset=6,tickSize=0,domainOpacity=0,tickCount=4, format=''),\\\n",
    "           scale=alt.Scale(domain=(0, 2000)))\n",
    ").properties(width=630, height=400,\n",
    "     title='All service calls to San Diego Police: 2020'\n",
    ")\n",
    "\n",
    "chart.configure_view(strokeOpacity=0).configure_legend(\n",
    "    orient='top',\n",
    "    symbolType='stroke'\n",
    ").configure_legend(symbolType='square')"
   ]
  },
  {
   "cell_type": "markdown",
   "metadata": {},
   "source": [
    "---"
   ]
  },
  {
   "cell_type": "markdown",
   "metadata": {},
   "source": [
    "### San Jose"
   ]
  },
  {
   "cell_type": "code",
   "execution_count": 101,
   "metadata": {},
   "outputs": [],
   "source": [
    "sj_df = pd.read_csv('/Users/mhustiles/data/data/LA/calls/san-jose/san_jose.csv', low_memory=False)"
   ]
  },
  {
   "cell_type": "code",
   "execution_count": 102,
   "metadata": {},
   "outputs": [],
   "source": [
    "sj_df['date'] = pd.to_datetime(sj_df['date'], format='%Y-%m-%d %H:%M:%S')"
   ]
  },
  {
   "cell_type": "code",
   "execution_count": 103,
   "metadata": {},
   "outputs": [],
   "source": [
    "sj_df['monthday'] = sj_df['date'].dt.strftime('%m/%d')\n",
    "sj_df['year'] = sj_df['date'].dt.strftime('%Y')"
   ]
  },
  {
   "cell_type": "code",
   "execution_count": 104,
   "metadata": {},
   "outputs": [],
   "source": [
    "this_year_sj = sj_df[sj_df['year'] == '2020'].groupby(['monthday']).agg('size').reset_index(name='calls')"
   ]
  },
  {
   "cell_type": "code",
   "execution_count": 105,
   "metadata": {},
   "outputs": [
    {
     "data": {
      "text/html": [
       "\n",
       "<div id=\"altair-viz-4ee038745f454b22857c537564665b2e\"></div>\n",
       "<script type=\"text/javascript\">\n",
       "  (function(spec, embedOpt){\n",
       "    const outputDiv = document.getElementById(\"altair-viz-4ee038745f454b22857c537564665b2e\");\n",
       "    const paths = {\n",
       "      \"vega\": \"https://cdn.jsdelivr.net/npm//vega@5?noext\",\n",
       "      \"vega-lib\": \"https://cdn.jsdelivr.net/npm//vega-lib?noext\",\n",
       "      \"vega-lite\": \"https://cdn.jsdelivr.net/npm//vega-lite@4.0.2?noext\",\n",
       "      \"vega-embed\": \"https://cdn.jsdelivr.net/npm//vega-embed@6?noext\",\n",
       "    };\n",
       "\n",
       "    function loadScript(lib) {\n",
       "      return new Promise(function(resolve, reject) {\n",
       "        var s = document.createElement('script');\n",
       "        s.src = paths[lib];\n",
       "        s.async = true;\n",
       "        s.onload = () => resolve(paths[lib]);\n",
       "        s.onerror = () => reject(`Error loading script: ${paths[lib]}`);\n",
       "        document.getElementsByTagName(\"head\")[0].appendChild(s);\n",
       "      });\n",
       "    }\n",
       "\n",
       "    function showError(err) {\n",
       "      outputDiv.innerHTML = `<div class=\"error\" style=\"color:red;\">${err}</div>`;\n",
       "      throw err;\n",
       "    }\n",
       "\n",
       "    function displayChart(vegaEmbed) {\n",
       "      vegaEmbed(outputDiv, spec, embedOpt)\n",
       "        .catch(err => showError(`Javascript Error: ${err.message}<br>This usually means there's a typo in your chart specification. See the javascript console for the full traceback.`));\n",
       "    }\n",
       "\n",
       "    if(typeof define === \"function\" && define.amd) {\n",
       "      requirejs.config({paths});\n",
       "      require([\"vega-embed\"], displayChart, err => showError(`Error loading script: ${err.message}`));\n",
       "    } else if (typeof vegaEmbed === \"function\") {\n",
       "      displayChart(vegaEmbed);\n",
       "    } else {\n",
       "      loadScript(\"vega\")\n",
       "        .then(() => loadScript(\"vega-lite\"))\n",
       "        .then(() => loadScript(\"vega-embed\"))\n",
       "        .catch(showError)\n",
       "        .then(() => displayChart(vegaEmbed));\n",
       "    }\n",
       "  })({\"config\": {\"view\": {\"width\": 800, \"height\": 450, \"strokeOpacity\": 0}, \"background\": \"#ffffff\", \"title\": {\"anchor\": \"start\", \"font\": \"Benton Gothic Bold, sans\", \"fontColor\": \"#000000\", \"fontSize\": 22, \"fontWeight\": \"normal\"}, \"arc\": {\"fill\": \"#82c6df\"}, \"area\": {\"fill\": \"#82c6df\"}, \"line\": {\"stroke\": \"#82c6df\", \"strokeWidth\": 3}, \"path\": {\"stroke\": \"#82c6df\"}, \"rect\": {\"fill\": \"#82c6df\"}, \"shape\": {\"stroke\": \"#82c6df\"}, \"bar\": {\"fill\": \"#82c6df\"}, \"point\": {\"stroke\": \"#82c6df\"}, \"symbol\": {\"fill\": \"#82c6df\", \"size\": 30}, \"axis\": {\"titleFont\": \"Benton Gothic Bold, sans\", \"titleFontSize\": 13, \"titleFontWeight\": \"normal\", \"labelFont\": \"Benton Gothic, sans\", \"labelFontSize\": 11.5, \"labelFontWeight\": \"normal\"}, \"axisX\": {\"labelAngle\": 0, \"labelPadding\": 4, \"tickSize\": 3}, \"axisY\": {\"labelBaseline\": \"middle\", \"maxExtent\": 45, \"minExtent\": 45, \"tickSize\": 2, \"titleAlign\": \"left\", \"titleAngle\": 0, \"titleX\": -45, \"titleY\": -11}, \"legend\": {\"titleFont\": \"Benton Gothic Bold, sans\", \"titleFontSize\": 13, \"titleFontWeight\": \"normal\", \"symbolType\": \"square\", \"labelFont\": \"Benton Gothic, sans\", \"labelFontSize\": 11.5}, \"range\": {\"category\": [\"#3580b1\", \"#ec8431\", \"#ab7fb4\", \"#c89d29\", \"#adc839\", \"#829eb1\"], \"diverging\": [\"#e68a4f\", \"#f4bb6a\", \"#f9e39c\", \"#dadfe2\", \"#a6b7c6\", \"#849eae\"], \"heatmap\": [\"#fbf2c7\", \"#f9e39c\", \"#f8d36e\", \"#f4bb6a\", \"#e68a4f\", \"#d15a40\", \"#ab4232\"], \"ordinal\": [\"#fbf2c7\", \"#f9e39c\", \"#f8d36e\", \"#f4bb6a\", \"#e68a4f\", \"#d15a40\", \"#ab4232\"], \"ramp\": [\"#fbf2c7\", \"#f9e39c\", \"#f8d36e\", \"#f4bb6a\", \"#e68a4f\", \"#d15a40\", \"#ab4232\"]}}, \"data\": {\"name\": \"data-047487b0bd22e4f4cbf0c5b6e6fdaf37\"}, \"mark\": {\"type\": \"bar\", \"opacity\": 1, \"size\": 2}, \"encoding\": {\"x\": {\"type\": \"temporal\", \"axis\": {\"format\": \"%B\", \"grid\": false, \"tickCount\": 6}, \"field\": \"monthday\", \"title\": \" \"}, \"y\": {\"type\": \"quantitative\", \"axis\": {\"domainOpacity\": 0, \"format\": \"\", \"gridColor\": \"#dddddd\", \"gridWidth\": 0.6, \"offset\": 6, \"tickCount\": 4, \"tickSize\": 0}, \"field\": \"calls\", \"scale\": {\"domain\": [0, 1000]}, \"stack\": null, \"title\": \" \"}}, \"height\": 400, \"title\": \"All service calls to San Jose Police: 2020\", \"width\": 630, \"$schema\": \"https://vega.github.io/schema/vega-lite/v4.0.2.json\", \"datasets\": {\"data-047487b0bd22e4f4cbf0c5b6e6fdaf37\": [{\"monthday\": \"01/01\", \"calls\": 829}, {\"monthday\": \"01/02\", \"calls\": 857}, {\"monthday\": \"01/03\", \"calls\": 901}, {\"monthday\": \"01/04\", \"calls\": 832}, {\"monthday\": \"01/05\", \"calls\": 757}, {\"monthday\": \"01/06\", \"calls\": 798}, {\"monthday\": \"01/07\", \"calls\": 979}, {\"monthday\": \"01/08\", \"calls\": 877}, {\"monthday\": \"01/09\", \"calls\": 893}, {\"monthday\": \"01/10\", \"calls\": 915}, {\"monthday\": \"01/11\", \"calls\": 761}, {\"monthday\": \"01/12\", \"calls\": 742}, {\"monthday\": \"01/13\", \"calls\": 762}, {\"monthday\": \"01/14\", \"calls\": 838}, {\"monthday\": \"01/15\", \"calls\": 835}, {\"monthday\": \"01/16\", \"calls\": 740}, {\"monthday\": \"01/17\", \"calls\": 893}, {\"monthday\": \"01/18\", \"calls\": 789}, {\"monthday\": \"01/19\", \"calls\": 856}, {\"monthday\": \"01/20\", \"calls\": 715}, {\"monthday\": \"01/21\", \"calls\": 831}, {\"monthday\": \"01/22\", \"calls\": 883}, {\"monthday\": \"01/23\", \"calls\": 836}, {\"monthday\": \"01/24\", \"calls\": 775}, {\"monthday\": \"01/25\", \"calls\": 982}, {\"monthday\": \"01/26\", \"calls\": 774}, {\"monthday\": \"01/27\", \"calls\": 776}, {\"monthday\": \"01/28\", \"calls\": 929}, {\"monthday\": \"01/29\", \"calls\": 854}, {\"monthday\": \"01/30\", \"calls\": 823}, {\"monthday\": \"01/31\", \"calls\": 1011}, {\"monthday\": \"02/01\", \"calls\": 838}, {\"monthday\": \"02/02\", \"calls\": 798}, {\"monthday\": \"02/03\", \"calls\": 759}, {\"monthday\": \"02/04\", \"calls\": 816}, {\"monthday\": \"02/05\", \"calls\": 872}, {\"monthday\": \"02/06\", \"calls\": 917}, {\"monthday\": \"02/07\", \"calls\": 884}, {\"monthday\": \"02/08\", \"calls\": 827}, {\"monthday\": \"02/09\", \"calls\": 944}, {\"monthday\": \"02/10\", \"calls\": 857}, {\"monthday\": \"02/11\", \"calls\": 945}, {\"monthday\": \"02/12\", \"calls\": 934}, {\"monthday\": \"02/13\", \"calls\": 887}, {\"monthday\": \"02/14\", \"calls\": 851}, {\"monthday\": \"02/15\", \"calls\": 879}, {\"monthday\": \"02/16\", \"calls\": 866}, {\"monthday\": \"02/17\", \"calls\": 763}, {\"monthday\": \"02/18\", \"calls\": 786}, {\"monthday\": \"02/19\", \"calls\": 870}, {\"monthday\": \"02/20\", \"calls\": 798}, {\"monthday\": \"02/21\", \"calls\": 875}, {\"monthday\": \"02/22\", \"calls\": 911}, {\"monthday\": \"02/23\", \"calls\": 894}, {\"monthday\": \"02/24\", \"calls\": 805}, {\"monthday\": \"02/25\", \"calls\": 857}, {\"monthday\": \"02/26\", \"calls\": 879}, {\"monthday\": \"02/27\", \"calls\": 866}, {\"monthday\": \"02/28\", \"calls\": 891}, {\"monthday\": \"02/29\", \"calls\": 819}, {\"monthday\": \"03/01\", \"calls\": 779}, {\"monthday\": \"03/02\", \"calls\": 762}, {\"monthday\": \"03/03\", \"calls\": 817}, {\"monthday\": \"03/04\", \"calls\": 925}, {\"monthday\": \"03/05\", \"calls\": 857}, {\"monthday\": \"03/06\", \"calls\": 951}, {\"monthday\": \"03/07\", \"calls\": 751}, {\"monthday\": \"03/08\", \"calls\": 795}, {\"monthday\": \"03/09\", \"calls\": 893}, {\"monthday\": \"03/10\", \"calls\": 889}, {\"monthday\": \"03/11\", \"calls\": 887}, {\"monthday\": \"03/12\", \"calls\": 866}, {\"monthday\": \"03/13\", \"calls\": 944}, {\"monthday\": \"03/14\", \"calls\": 831}, {\"monthday\": \"03/15\", \"calls\": 712}, {\"monthday\": \"03/16\", \"calls\": 799}, {\"monthday\": \"03/17\", \"calls\": 645}, {\"monthday\": \"03/18\", \"calls\": 616}, {\"monthday\": \"03/19\", \"calls\": 693}, {\"monthday\": \"03/20\", \"calls\": 853}, {\"monthday\": \"03/21\", \"calls\": 739}, {\"monthday\": \"03/22\", \"calls\": 693}, {\"monthday\": \"03/23\", \"calls\": 745}, {\"monthday\": \"03/24\", \"calls\": 673}, {\"monthday\": \"03/25\", \"calls\": 686}, {\"monthday\": \"03/26\", \"calls\": 677}, {\"monthday\": \"03/27\", \"calls\": 420}, {\"monthday\": \"03/28\", \"calls\": 665}, {\"monthday\": \"03/29\", \"calls\": 775}, {\"monthday\": \"03/30\", \"calls\": 776}, {\"monthday\": \"03/31\", \"calls\": 751}, {\"monthday\": \"04/01\", \"calls\": 727}, {\"monthday\": \"04/02\", \"calls\": 789}, {\"monthday\": \"04/03\", \"calls\": 788}, {\"monthday\": \"04/04\", \"calls\": 662}, {\"monthday\": \"04/05\", \"calls\": 603}, {\"monthday\": \"04/06\", \"calls\": 707}, {\"monthday\": \"04/07\", \"calls\": 760}, {\"monthday\": \"04/08\", \"calls\": 693}, {\"monthday\": \"04/09\", \"calls\": 720}, {\"monthday\": \"04/10\", \"calls\": 661}, {\"monthday\": \"04/11\", \"calls\": 751}, {\"monthday\": \"04/12\", \"calls\": 799}, {\"monthday\": \"04/13\", \"calls\": 826}, {\"monthday\": \"04/14\", \"calls\": 840}, {\"monthday\": \"04/15\", \"calls\": 730}, {\"monthday\": \"04/16\", \"calls\": 756}, {\"monthday\": \"04/17\", \"calls\": 806}, {\"monthday\": \"04/18\", \"calls\": 779}, {\"monthday\": \"04/19\", \"calls\": 758}, {\"monthday\": \"04/20\", \"calls\": 791}, {\"monthday\": \"04/21\", \"calls\": 774}, {\"monthday\": \"04/22\", \"calls\": 755}, {\"monthday\": \"04/23\", \"calls\": 758}, {\"monthday\": \"04/24\", \"calls\": 829}, {\"monthday\": \"04/25\", \"calls\": 853}, {\"monthday\": \"04/26\", \"calls\": 849}, {\"monthday\": \"04/27\", \"calls\": 820}, {\"monthday\": \"04/28\", \"calls\": 869}, {\"monthday\": \"04/29\", \"calls\": 825}, {\"monthday\": \"04/30\", \"calls\": 704}, {\"monthday\": \"05/01\", \"calls\": 801}, {\"monthday\": \"05/02\", \"calls\": 814}, {\"monthday\": \"05/03\", \"calls\": 833}, {\"monthday\": \"05/04\", \"calls\": 755}, {\"monthday\": \"05/05\", \"calls\": 890}, {\"monthday\": \"05/06\", \"calls\": 780}, {\"monthday\": \"05/07\", \"calls\": 756}, {\"monthday\": \"05/08\", \"calls\": 791}, {\"monthday\": \"05/09\", \"calls\": 925}, {\"monthday\": \"05/10\", \"calls\": 922}, {\"monthday\": \"05/11\", \"calls\": 797}, {\"monthday\": \"05/12\", \"calls\": 825}, {\"monthday\": \"05/13\", \"calls\": 758}, {\"monthday\": \"05/14\", \"calls\": 820}, {\"monthday\": \"05/15\", \"calls\": 830}, {\"monthday\": \"05/16\", \"calls\": 952}, {\"monthday\": \"05/17\", \"calls\": 763}, {\"monthday\": \"05/18\", \"calls\": 803}, {\"monthday\": \"05/19\", \"calls\": 829}, {\"monthday\": \"05/20\", \"calls\": 851}, {\"monthday\": \"05/21\", \"calls\": 826}, {\"monthday\": \"05/22\", \"calls\": 837}, {\"monthday\": \"05/23\", \"calls\": 933}, {\"monthday\": \"05/24\", \"calls\": 899}, {\"monthday\": \"05/25\", \"calls\": 833}, {\"monthday\": \"05/26\", \"calls\": 912}, {\"monthday\": \"05/27\", \"calls\": 880}, {\"monthday\": \"05/28\", \"calls\": 761}, {\"monthday\": \"05/29\", \"calls\": 764}, {\"monthday\": \"05/30\", \"calls\": 839}, {\"monthday\": \"05/31\", \"calls\": 735}, {\"monthday\": \"06/01\", \"calls\": 681}, {\"monthday\": \"06/02\", \"calls\": 732}, {\"monthday\": \"06/03\", \"calls\": 731}, {\"monthday\": \"06/04\", \"calls\": 701}, {\"monthday\": \"06/05\", \"calls\": 672}, {\"monthday\": \"06/06\", \"calls\": 761}, {\"monthday\": \"06/07\", \"calls\": 672}, {\"monthday\": \"06/08\", \"calls\": 738}, {\"monthday\": \"06/09\", \"calls\": 788}, {\"monthday\": \"06/10\", \"calls\": 854}, {\"monthday\": \"06/11\", \"calls\": 715}, {\"monthday\": \"06/12\", \"calls\": 754}, {\"monthday\": \"06/13\", \"calls\": 891}, {\"monthday\": \"06/14\", \"calls\": 835}, {\"monthday\": \"06/15\", \"calls\": 878}, {\"monthday\": \"06/16\", \"calls\": 799}, {\"monthday\": \"06/17\", \"calls\": 826}, {\"monthday\": \"06/18\", \"calls\": 791}, {\"monthday\": \"06/19\", \"calls\": 875}, {\"monthday\": \"06/20\", \"calls\": 955}, {\"monthday\": \"06/21\", \"calls\": 946}, {\"monthday\": \"06/22\", \"calls\": 876}, {\"monthday\": \"06/23\", \"calls\": 843}]}}, {\"mode\": \"vega-lite\"});\n",
       "</script>"
      ],
      "text/plain": [
       "alt.Chart(...)"
      ]
     },
     "execution_count": 105,
     "metadata": {},
     "output_type": "execute_result"
    }
   ],
   "source": [
    "chart = alt.Chart((this_year_sj))\\\n",
    "    .mark_bar(size=2,opacity=1)\\\n",
    "    .encode(\n",
    "    x=alt.X('monthday:T', title=' ', axis=alt.Axis(grid=False, tickCount=6, format='%B')),\n",
    "    y=alt.Y('calls:Q', stack=None, title=' ', axis=alt.Axis(gridWidth=.6,\\\n",
    "     gridColor='#dddddd',offset=6,tickSize=0,domainOpacity=0,tickCount=4, format=''),\\\n",
    "           scale=alt.Scale(domain=(0, 1000)))\n",
    ").properties(width=630, height=400,\n",
    "     title='All service calls to San Jose Police: 2020'\n",
    ")\n",
    "\n",
    "chart.configure_view(strokeOpacity=0).configure_legend(\n",
    "    orient='top',\n",
    "    symbolType='stroke'\n",
    ").configure_legend(symbolType='square')"
   ]
  },
  {
   "cell_type": "code",
   "execution_count": 106,
   "metadata": {},
   "outputs": [
    {
     "data": {
      "text/html": [
       "<div>\n",
       "<style scoped>\n",
       "    .dataframe tbody tr th:only-of-type {\n",
       "        vertical-align: middle;\n",
       "    }\n",
       "\n",
       "    .dataframe tbody tr th {\n",
       "        vertical-align: top;\n",
       "    }\n",
       "\n",
       "    .dataframe thead th {\n",
       "        text-align: right;\n",
       "    }\n",
       "</style>\n",
       "<table border=\"1\" class=\"dataframe\">\n",
       "  <thead>\n",
       "    <tr style=\"text-align: right;\">\n",
       "      <th></th>\n",
       "      <th>cdts</th>\n",
       "      <th>eid</th>\n",
       "      <th>start_date</th>\n",
       "      <th>call_number</th>\n",
       "      <th>priority</th>\n",
       "      <th>report_date</th>\n",
       "      <th>offense_date</th>\n",
       "      <th>offense_time</th>\n",
       "      <th>calltype_code</th>\n",
       "      <th>call_type</th>\n",
       "      <th>final_dispo_code</th>\n",
       "      <th>final_dispo</th>\n",
       "      <th>common_place_name</th>\n",
       "      <th>address</th>\n",
       "      <th>city</th>\n",
       "      <th>state</th>\n",
       "      <th>date</th>\n",
       "      <th>time</th>\n",
       "      <th>monthday</th>\n",
       "      <th>year</th>\n",
       "    </tr>\n",
       "  </thead>\n",
       "  <tbody>\n",
       "    <tr>\n",
       "      <th>0</th>\n",
       "      <td>20200101002621PS</td>\n",
       "      <td>7981569</td>\n",
       "      <td>1/1/2020 12:00:00 AM</td>\n",
       "      <td>P200010004</td>\n",
       "      <td>2</td>\n",
       "      <td>1/1/2020 12:00:00 AM</td>\n",
       "      <td>1/1/2020 12:00:00 AM</td>\n",
       "      <td>00:03:08</td>\n",
       "      <td>1057</td>\n",
       "      <td>FIREARMS DISCHARGED</td>\n",
       "      <td>N</td>\n",
       "      <td>No report required; dispatch record only</td>\n",
       "      <td>NaN</td>\n",
       "      <td>[900]-[1000] FURLONG DR</td>\n",
       "      <td>San Jose</td>\n",
       "      <td>CA</td>\n",
       "      <td>2020-01-01</td>\n",
       "      <td>00:03:08</td>\n",
       "      <td>01/01</td>\n",
       "      <td>2020</td>\n",
       "    </tr>\n",
       "    <tr>\n",
       "      <th>1</th>\n",
       "      <td>20200101021606PS</td>\n",
       "      <td>7981674</td>\n",
       "      <td>1/1/2020 12:00:00 AM</td>\n",
       "      <td>P200010092</td>\n",
       "      <td>4</td>\n",
       "      <td>1/1/2020 12:00:00 AM</td>\n",
       "      <td>1/1/2020 12:00:00 AM</td>\n",
       "      <td>01:03:05</td>\n",
       "      <td>415</td>\n",
       "      <td>DISTURBANCE</td>\n",
       "      <td>CAN</td>\n",
       "      <td>Canceled</td>\n",
       "      <td>NaN</td>\n",
       "      <td>[0]-[100] PALM VALLEY BL</td>\n",
       "      <td>San Jose</td>\n",
       "      <td>CA</td>\n",
       "      <td>2020-01-01</td>\n",
       "      <td>01:03:05</td>\n",
       "      <td>01/01</td>\n",
       "      <td>2020</td>\n",
       "    </tr>\n",
       "    <tr>\n",
       "      <th>2</th>\n",
       "      <td>20200101021613PS</td>\n",
       "      <td>7981725</td>\n",
       "      <td>1/1/2020 12:00:00 AM</td>\n",
       "      <td>P200010134</td>\n",
       "      <td>5</td>\n",
       "      <td>1/1/2020 12:00:00 AM</td>\n",
       "      <td>1/1/2020 12:00:00 AM</td>\n",
       "      <td>01:50:32</td>\n",
       "      <td>647F</td>\n",
       "      <td>DRUNK IN PUBLIC</td>\n",
       "      <td>N</td>\n",
       "      <td>No report required; dispatch record only</td>\n",
       "      <td>NaN</td>\n",
       "      <td>S 1ST ST &amp; E SAN SALVADOR ST</td>\n",
       "      <td>San Jose</td>\n",
       "      <td>CA</td>\n",
       "      <td>2020-01-01</td>\n",
       "      <td>01:50:32</td>\n",
       "      <td>01/01</td>\n",
       "      <td>2020</td>\n",
       "    </tr>\n",
       "    <tr>\n",
       "      <th>3</th>\n",
       "      <td>20200101021628PS</td>\n",
       "      <td>7981722</td>\n",
       "      <td>1/1/2020 12:00:00 AM</td>\n",
       "      <td>P200010131</td>\n",
       "      <td>2</td>\n",
       "      <td>1/1/2020 12:00:00 AM</td>\n",
       "      <td>1/1/2020 12:00:00 AM</td>\n",
       "      <td>01:49:04</td>\n",
       "      <td>415A</td>\n",
       "      <td>DISTURBANCE, FIGHT</td>\n",
       "      <td>N</td>\n",
       "      <td>No report required; dispatch record only</td>\n",
       "      <td>NaN</td>\n",
       "      <td>NERDY AV &amp; CAS DR</td>\n",
       "      <td>San Jose</td>\n",
       "      <td>CA</td>\n",
       "      <td>2020-01-01</td>\n",
       "      <td>01:49:04</td>\n",
       "      <td>01/01</td>\n",
       "      <td>2020</td>\n",
       "    </tr>\n",
       "    <tr>\n",
       "      <th>4</th>\n",
       "      <td>20200101021642PS</td>\n",
       "      <td>7981640</td>\n",
       "      <td>1/1/2020 12:00:00 AM</td>\n",
       "      <td>P200010064</td>\n",
       "      <td>2</td>\n",
       "      <td>1/1/2020 12:00:00 AM</td>\n",
       "      <td>1/1/2020 12:00:00 AM</td>\n",
       "      <td>00:43:04</td>\n",
       "      <td>911UNK</td>\n",
       "      <td>UNK TYPE 911 CALL</td>\n",
       "      <td>N</td>\n",
       "      <td>No report required; dispatch record only</td>\n",
       "      <td>NaN</td>\n",
       "      <td>[0]-[100] MERIDIAN AV</td>\n",
       "      <td>San Jose</td>\n",
       "      <td>CA</td>\n",
       "      <td>2020-01-01</td>\n",
       "      <td>00:43:04</td>\n",
       "      <td>01/01</td>\n",
       "      <td>2020</td>\n",
       "    </tr>\n",
       "  </tbody>\n",
       "</table>\n",
       "</div>"
      ],
      "text/plain": [
       "               cdts      eid            start_date call_number  priority  \\\n",
       "0  20200101002621PS  7981569  1/1/2020 12:00:00 AM  P200010004         2   \n",
       "1  20200101021606PS  7981674  1/1/2020 12:00:00 AM  P200010092         4   \n",
       "2  20200101021613PS  7981725  1/1/2020 12:00:00 AM  P200010134         5   \n",
       "3  20200101021628PS  7981722  1/1/2020 12:00:00 AM  P200010131         2   \n",
       "4  20200101021642PS  7981640  1/1/2020 12:00:00 AM  P200010064         2   \n",
       "\n",
       "            report_date          offense_date offense_time calltype_code  \\\n",
       "0  1/1/2020 12:00:00 AM  1/1/2020 12:00:00 AM     00:03:08          1057   \n",
       "1  1/1/2020 12:00:00 AM  1/1/2020 12:00:00 AM     01:03:05           415   \n",
       "2  1/1/2020 12:00:00 AM  1/1/2020 12:00:00 AM     01:50:32          647F   \n",
       "3  1/1/2020 12:00:00 AM  1/1/2020 12:00:00 AM     01:49:04          415A   \n",
       "4  1/1/2020 12:00:00 AM  1/1/2020 12:00:00 AM     00:43:04        911UNK   \n",
       "\n",
       "             call_type final_dispo_code  \\\n",
       "0  FIREARMS DISCHARGED                N   \n",
       "1          DISTURBANCE              CAN   \n",
       "2      DRUNK IN PUBLIC                N   \n",
       "3   DISTURBANCE, FIGHT                N   \n",
       "4    UNK TYPE 911 CALL                N   \n",
       "\n",
       "                                final_dispo common_place_name  \\\n",
       "0  No report required; dispatch record only               NaN   \n",
       "1                                  Canceled               NaN   \n",
       "2  No report required; dispatch record only               NaN   \n",
       "3  No report required; dispatch record only               NaN   \n",
       "4  No report required; dispatch record only               NaN   \n",
       "\n",
       "                        address      city state       date      time monthday  \\\n",
       "0      [900]-[1000] FURLONG DR   San Jose    CA 2020-01-01  00:03:08    01/01   \n",
       "1     [0]-[100] PALM VALLEY BL   San Jose    CA 2020-01-01  01:03:05    01/01   \n",
       "2  S 1ST ST & E SAN SALVADOR ST  San Jose    CA 2020-01-01  01:50:32    01/01   \n",
       "3             NERDY AV & CAS DR  San Jose    CA 2020-01-01  01:49:04    01/01   \n",
       "4        [0]-[100] MERIDIAN AV   San Jose    CA 2020-01-01  00:43:04    01/01   \n",
       "\n",
       "   year  \n",
       "0  2020  \n",
       "1  2020  \n",
       "2  2020  \n",
       "3  2020  \n",
       "4  2020  "
      ]
     },
     "execution_count": 106,
     "metadata": {},
     "output_type": "execute_result"
    }
   ],
   "source": [
    "sj_df.head()"
   ]
  },
  {
   "cell_type": "code",
   "execution_count": null,
   "metadata": {},
   "outputs": [],
   "source": []
  },
  {
   "cell_type": "code",
   "execution_count": null,
   "metadata": {},
   "outputs": [],
   "source": []
  },
  {
   "cell_type": "code",
   "execution_count": null,
   "metadata": {},
   "outputs": [],
   "source": []
  },
  {
   "cell_type": "code",
   "execution_count": null,
   "metadata": {},
   "outputs": [],
   "source": []
  },
  {
   "cell_type": "code",
   "execution_count": null,
   "metadata": {},
   "outputs": [],
   "source": []
  },
  {
   "cell_type": "code",
   "execution_count": null,
   "metadata": {},
   "outputs": [],
   "source": []
  },
  {
   "cell_type": "code",
   "execution_count": null,
   "metadata": {},
   "outputs": [],
   "source": []
  }
 ],
 "metadata": {
  "kernelspec": {
   "display_name": "Python 3 (ipykernel)",
   "language": "python",
   "name": "python3"
  },
  "language_info": {
   "codemirror_mode": {
    "name": "ipython",
    "version": 3
   },
   "file_extension": ".py",
   "mimetype": "text/x-python",
   "name": "python",
   "nbconvert_exporter": "python",
   "pygments_lexer": "ipython3",
   "version": "3.8.11"
  }
 },
 "nbformat": 4,
 "nbformat_minor": 4
}
