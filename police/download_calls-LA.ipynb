{
 "cells": [
  {
   "cell_type": "markdown",
   "metadata": {},
   "source": [
    "# Collecting California police calls for service data"
   ]
  },
  {
   "cell_type": "markdown",
   "metadata": {},
   "source": [
    "This notebook downloads tens of millions of police dispatch records from several California cities. Where possible, current data are downloaded from live sources while past years (typically 2015-2019) have been previously downloaded and concatenated. Dates and times are processed here, too, and then the concatenated file for each department is output in CSV format for analysis. [Questions](mailto:matt.stiles@latimes.com)?"
   ]
  },
  {
   "cell_type": "code",
   "execution_count": 6,
   "metadata": {},
   "outputs": [],
   "source": [
    "import json\n",
    "import glob\n",
    "import io\n",
    "import os\n",
    "import pandas as pd\n",
    "import numpy as np\n",
    "import altair as alt\n",
    "import altair_latimes as lat\n",
    "pd.options.display.max_columns = 50\n",
    "pd.options.display.max_rows = 50"
   ]
  },
  {
   "cell_type": "markdown",
   "metadata": {},
   "source": [
    "## Los Angeles"
   ]
  },
  {
   "cell_type": "markdown",
   "metadata": {},
   "source": [
    "#### URL codes for City of LA open data portal"
   ]
  },
  {
   "cell_type": "code",
   "execution_count": 1,
   "metadata": {},
   "outputs": [],
   "source": [
    "codes = ['r4ka-x5je', 'nayp-w2tw', 'ryvm-a59m', 'xwgr-xw5q', 'tss8-455b', \\\n",
    "         'mgue-vbsx', 'urhh-yf63', 'i7pm-cnmm', '4tmc-7r6g', 'iy4q-t9vr']"
   ]
  },
  {
   "cell_type": "code",
   "execution_count": 3,
   "metadata": {},
   "outputs": [
    {
     "name": "stdout",
     "output_type": "stream",
     "text": [
      "--2021-10-06 05:47:33--  https://data.lacity.org/api/views/r4ka-x5je/rows.csv?accessType=DOWNLOAD\n",
      "Resolving data.lacity.org (data.lacity.org)... 52.206.68.26, 52.206.140.205, 52.206.140.199\n",
      "Connecting to data.lacity.org (data.lacity.org)|52.206.68.26|:443... connected.\n",
      "HTTP request sent, awaiting response... 200 OK\n",
      "Length: unspecified [text/csv]\n",
      "Saving to: ‘/Users/mhustiles/data/LAPD/rows.csv?accessType=DOWNLOAD’\n",
      "\n",
      "rows.csv?accessType     [                <=> ] 136.63M  3.55MB/s    in 40s     \n",
      "\n",
      "2021-10-06 05:48:14 (3.41 MB/s) - ‘/Users/mhustiles/data/LAPD/rows.csv?accessType=DOWNLOAD’ saved [143268193]\n",
      "\n",
      "--2021-10-06 05:48:14--  https://data.lacity.org/api/views/nayp-w2tw/rows.csv?accessType=DOWNLOAD\n",
      "Resolving data.lacity.org (data.lacity.org)... 52.206.140.205, 52.206.140.199, 52.206.68.26\n",
      "Connecting to data.lacity.org (data.lacity.org)|52.206.140.205|:443... connected.\n",
      "HTTP request sent, awaiting response... 200 OK\n",
      "Length: unspecified [text/csv]\n",
      "Saving to: ‘/Users/mhustiles/data/LAPD/rows.csv?accessType=DOWNLOAD.1’\n",
      "\n",
      "rows.csv?accessType     [    <=>             ]  65.22M  3.06MB/s    in 21s     \n",
      "\n",
      "2021-10-06 05:48:37 (3.04 MB/s) - ‘/Users/mhustiles/data/LAPD/rows.csv?accessType=DOWNLOAD.1’ saved [68392720]\n",
      "\n",
      "--2021-10-06 05:48:37--  https://data.lacity.org/api/views/ryvm-a59m/rows.csv?accessType=DOWNLOAD\n",
      "Resolving data.lacity.org (data.lacity.org)... 52.206.140.199, 52.206.68.26, 52.206.140.205\n",
      "Connecting to data.lacity.org (data.lacity.org)|52.206.140.199|:443... connected.\n",
      "HTTP request sent, awaiting response... 200 OK\n",
      "Length: unspecified [text/csv]\n",
      "Saving to: ‘/Users/mhustiles/data/LAPD/rows.csv?accessType=DOWNLOAD.2’\n",
      "\n",
      "rows.csv?accessType     [    <=>             ]  61.36M  2.56MB/s    in 24s     \n",
      "\n",
      "2021-10-06 05:49:01 (2.59 MB/s) - ‘/Users/mhustiles/data/LAPD/rows.csv?accessType=DOWNLOAD.2’ saved [64341771]\n",
      "\n",
      "--2021-10-06 05:49:02--  https://data.lacity.org/api/views/xwgr-xw5q/rows.csv?accessType=DOWNLOAD\n",
      "Resolving data.lacity.org (data.lacity.org)... 52.206.140.199, 52.206.68.26, 52.206.140.205\n",
      "Connecting to data.lacity.org (data.lacity.org)|52.206.140.199|:443... connected.\n",
      "HTTP request sent, awaiting response... 200 OK\n",
      "Length: unspecified [text/csv]\n",
      "Saving to: ‘/Users/mhustiles/data/LAPD/rows.csv?accessType=DOWNLOAD.3’\n",
      "\n",
      "rows.csv?accessType     [        <=>         ]  59.49M  2.69MB/s    in 21s     \n",
      "\n",
      "2021-10-06 05:49:23 (2.87 MB/s) - ‘/Users/mhustiles/data/LAPD/rows.csv?accessType=DOWNLOAD.3’ saved [62376146]\n",
      "\n",
      "--2021-10-06 05:49:24--  https://data.lacity.org/api/views/tss8-455b/rows.csv?accessType=DOWNLOAD\n",
      "Resolving data.lacity.org (data.lacity.org)... 52.206.140.199, 52.206.68.26, 52.206.140.205\n",
      "Connecting to data.lacity.org (data.lacity.org)|52.206.140.199|:443... connected.\n",
      "HTTP request sent, awaiting response... 200 OK\n",
      "Length: unspecified [text/csv]\n",
      "Saving to: ‘/Users/mhustiles/data/LAPD/rows.csv?accessType=DOWNLOAD.4’\n",
      "\n",
      "rows.csv?accessType     [  <=>               ]  55.85M  2.42MB/s    in 23s     \n",
      "\n",
      "2021-10-06 05:49:48 (2.45 MB/s) - ‘/Users/mhustiles/data/LAPD/rows.csv?accessType=DOWNLOAD.4’ saved [58568183]\n",
      "\n",
      "--2021-10-06 05:49:48--  https://data.lacity.org/api/views/mgue-vbsx/rows.csv?accessType=DOWNLOAD\n",
      "Resolving data.lacity.org (data.lacity.org)... 52.206.68.26, 52.206.140.205, 52.206.140.199\n",
      "Connecting to data.lacity.org (data.lacity.org)|52.206.68.26|:443... connected.\n",
      "HTTP request sent, awaiting response... 200 OK\n",
      "Length: unspecified [text/csv]\n",
      "Saving to: ‘/Users/mhustiles/data/LAPD/rows.csv?accessType=DOWNLOAD.5’\n",
      "\n",
      "rows.csv?accessType     [           <=>      ]  54.44M  3.31MB/s    in 17s     \n",
      "\n",
      "2021-10-06 05:50:06 (3.20 MB/s) - ‘/Users/mhustiles/data/LAPD/rows.csv?accessType=DOWNLOAD.5’ saved [57084873]\n",
      "\n",
      "--2021-10-06 05:50:06--  https://data.lacity.org/api/views/urhh-yf63/rows.csv?accessType=DOWNLOAD\n",
      "Resolving data.lacity.org (data.lacity.org)... 52.206.140.205, 52.206.140.199, 52.206.68.26\n",
      "Connecting to data.lacity.org (data.lacity.org)|52.206.140.205|:443... connected.\n",
      "HTTP request sent, awaiting response... 200 OK\n",
      "Length: unspecified [text/csv]\n",
      "Saving to: ‘/Users/mhustiles/data/LAPD/rows.csv?accessType=DOWNLOAD.6’\n",
      "\n",
      "rows.csv?accessType     [             <=>    ]  52.59M  2.87MB/s    in 18s     \n",
      "\n",
      "2021-10-06 05:50:25 (2.98 MB/s) - ‘/Users/mhustiles/data/LAPD/rows.csv?accessType=DOWNLOAD.6’ saved [55146489]\n",
      "\n",
      "--2021-10-06 05:50:25--  https://data.lacity.org/api/views/i7pm-cnmm/rows.csv?accessType=DOWNLOAD\n",
      "Resolving data.lacity.org (data.lacity.org)... 52.206.140.199, 52.206.68.26, 52.206.140.205\n",
      "Connecting to data.lacity.org (data.lacity.org)|52.206.140.199|:443... connected.\n",
      "HTTP request sent, awaiting response... 200 OK\n",
      "Length: unspecified [text/csv]\n",
      "Saving to: ‘/Users/mhustiles/data/LAPD/rows.csv?accessType=DOWNLOAD.7’\n",
      "\n",
      "rows.csv?accessType     [<=>                 ]  53.79M  2.43MB/s    in 23s     \n",
      "\n",
      "2021-10-06 05:50:49 (2.33 MB/s) - ‘/Users/mhustiles/data/LAPD/rows.csv?accessType=DOWNLOAD.7’ saved [56400537]\n",
      "\n",
      "--2021-10-06 05:50:49--  https://data.lacity.org/api/views/4tmc-7r6g/rows.csv?accessType=DOWNLOAD\n",
      "Resolving data.lacity.org (data.lacity.org)... 52.206.140.199, 52.206.68.26, 52.206.140.205\n",
      "Connecting to data.lacity.org (data.lacity.org)|52.206.140.199|:443... connected.\n",
      "HTTP request sent, awaiting response... 200 OK\n",
      "Length: unspecified [text/csv]\n",
      "Saving to: ‘/Users/mhustiles/data/LAPD/rows.csv?accessType=DOWNLOAD.8’\n",
      "\n",
      "rows.csv?accessType     [            <=>     ]  52.08M  2.64MB/s    in 17s     \n",
      "\n",
      "2021-10-06 05:51:07 (2.99 MB/s) - ‘/Users/mhustiles/data/LAPD/rows.csv?accessType=DOWNLOAD.8’ saved [54607346]\n",
      "\n",
      "--2021-10-06 05:51:07--  https://data.lacity.org/api/views/iy4q-t9vr/rows.csv?accessType=DOWNLOAD\n",
      "Resolving data.lacity.org (data.lacity.org)... 52.206.68.26, 52.206.140.205, 52.206.140.199\n",
      "Connecting to data.lacity.org (data.lacity.org)|52.206.68.26|:443... connected.\n",
      "HTTP request sent, awaiting response... 200 OK\n",
      "Length: unspecified [text/csv]\n",
      "Saving to: ‘/Users/mhustiles/data/LAPD/rows.csv?accessType=DOWNLOAD.9’\n",
      "\n",
      "rows.csv?accessType     [      <=>           ]  53.53M  3.53MB/s    in 16s     \n",
      "\n",
      "2021-10-06 05:51:24 (3.37 MB/s) - ‘/Users/mhustiles/data/LAPD/rows.csv?accessType=DOWNLOAD.9’ saved [56129951]\n",
      "\n"
     ]
    }
   ],
   "source": [
    "for c in codes:\n",
    "    !wget 'https://data.lacity.org/api/views/{c}/rows.csv?accessType=DOWNLOAD' \\\n",
    "    -P /Users/mhustiles/data/LAPD/"
   ]
  },
  {
   "cell_type": "code",
   "execution_count": 4,
   "metadata": {},
   "outputs": [],
   "source": [
    "names = ['Incident Number','Reporting District','Area Occurred','Dispatch Date','Dispatch Time','Call Type Code','Call Type Description']\n",
    "dtypes = { 'Incident Number':str, 'Area Occurred': str}"
   ]
  },
  {
   "cell_type": "markdown",
   "metadata": {},
   "source": [
    "#### Read the most recent year of calls"
   ]
  },
  {
   "cell_type": "code",
   "execution_count": 5,
   "metadata": {},
   "outputs": [
    {
     "ename": "NameError",
     "evalue": "name 'pd' is not defined",
     "output_type": "error",
     "traceback": [
      "\u001b[0;31m---------------------------------------------------------------------------\u001b[0m",
      "\u001b[0;31mNameError\u001b[0m                                 Traceback (most recent call last)",
      "\u001b[0;32m/var/folders/hm/zcc9d9vn2q15_wh0_0k06ckw0000gn/T/ipykernel_83827/2316316112.py\u001b[0m in \u001b[0;36m<module>\u001b[0;34m\u001b[0m\n\u001b[0;32m----> 1\u001b[0;31m la_current = pd.read_csv('https://data.lacity.org/api/views/84iq-i2r6/rows.csv?accessType=DOWNLOAD',\\\n\u001b[0m\u001b[1;32m      2\u001b[0m                          \u001b[0mheader\u001b[0m\u001b[0;34m=\u001b[0m\u001b[0;36m0\u001b[0m\u001b[0;34m,\u001b[0m\u001b[0;31m\\\u001b[0m\u001b[0;34m\u001b[0m\u001b[0;34m\u001b[0m\u001b[0m\n\u001b[1;32m      3\u001b[0m                          \u001b[0mnames\u001b[0m\u001b[0;34m=\u001b[0m\u001b[0mnames\u001b[0m\u001b[0;34m,\u001b[0m\u001b[0;31m\\\u001b[0m\u001b[0;34m\u001b[0m\u001b[0;34m\u001b[0m\u001b[0m\n\u001b[1;32m      4\u001b[0m                          \u001b[0mdtype\u001b[0m\u001b[0;34m=\u001b[0m\u001b[0mdtypes\u001b[0m\u001b[0;34m,\u001b[0m\u001b[0;34m\u001b[0m\u001b[0;34m\u001b[0m\u001b[0m\n\u001b[1;32m      5\u001b[0m                         parse_dates=True)\n",
      "\u001b[0;31mNameError\u001b[0m: name 'pd' is not defined"
     ]
    }
   ],
   "source": [
    "la_current = pd.read_csv('https://data.lacity.org/api/views/84iq-i2r6/rows.csv?accessType=DOWNLOAD',\\\n",
    "                         header=0,\\\n",
    "                         names=names,\\\n",
    "                         dtype=dtypes,\n",
    "                        parse_dates=True)"
   ]
  },
  {
   "cell_type": "code",
   "execution_count": 5,
   "metadata": {},
   "outputs": [
    {
     "name": "stderr",
     "output_type": "stream",
     "text": [
      "/Users/mhustiles/.virtualenvs/notebooks-hnoN6uG0/lib/python3.7/site-packages/ipykernel_launcher.py:2: FutureWarning: The default value of regex will change from True to False in a future version. In addition, single character regular expressions will*not* be treated as literal strings when regex=True.\n",
      "  \n"
     ]
    }
   ],
   "source": [
    "la_current.columns = la_current.columns.str.strip().str.lower().str.replace(' ','_')\\\n",
    "    .str.replace('(', '').str.replace(')', '').str.replace('/','_')"
   ]
  },
  {
   "cell_type": "markdown",
   "metadata": {},
   "source": [
    "#### Read the files for past years"
   ]
  },
  {
   "cell_type": "code",
   "execution_count": 6,
   "metadata": {},
   "outputs": [],
   "source": [
    "path = '/Users/mhustiles/data/LAPD/'\n",
    "files = glob.glob(os.path.join(path, \"*.csv\"))"
   ]
  },
  {
   "cell_type": "code",
   "execution_count": 7,
   "metadata": {},
   "outputs": [],
   "source": [
    "file_df = (pd.read_csv(f, encoding = \"ISO-8859-1\", low_memory=False)\\\n",
    "           .assign(year=os.path.basename(f)) for f in files)"
   ]
  },
  {
   "cell_type": "code",
   "execution_count": 8,
   "metadata": {},
   "outputs": [],
   "source": [
    "la_past = pd.concat(file_df, ignore_index=True)"
   ]
  },
  {
   "cell_type": "markdown",
   "metadata": {},
   "source": [
    "#### Concatenate everything"
   ]
  },
  {
   "cell_type": "code",
   "execution_count": 9,
   "metadata": {},
   "outputs": [],
   "source": [
    "df = pd.concat([la_current, la_past]).drop(['year'], axis=1)"
   ]
  },
  {
   "cell_type": "markdown",
   "metadata": {},
   "source": [
    "#### Clean up dates"
   ]
  },
  {
   "cell_type": "code",
   "execution_count": 10,
   "metadata": {},
   "outputs": [],
   "source": [
    "df['date'] = df['dispatch_date'].str.replace(' 12:00:00 AM','', regex=False)"
   ]
  },
  {
   "cell_type": "code",
   "execution_count": 11,
   "metadata": {},
   "outputs": [
    {
     "data": {
      "text/html": [
       "<div>\n",
       "<style scoped>\n",
       "    .dataframe tbody tr th:only-of-type {\n",
       "        vertical-align: middle;\n",
       "    }\n",
       "\n",
       "    .dataframe tbody tr th {\n",
       "        vertical-align: top;\n",
       "    }\n",
       "\n",
       "    .dataframe thead th {\n",
       "        text-align: right;\n",
       "    }\n",
       "</style>\n",
       "<table border=\"1\" class=\"dataframe\">\n",
       "  <thead>\n",
       "    <tr style=\"text-align: right;\">\n",
       "      <th></th>\n",
       "      <th>incident_number</th>\n",
       "      <th>reporting_district</th>\n",
       "      <th>area_occurred</th>\n",
       "      <th>dispatch_date</th>\n",
       "      <th>dispatch_time</th>\n",
       "      <th>call_type_code</th>\n",
       "      <th>call_type_description</th>\n",
       "      <th>date</th>\n",
       "    </tr>\n",
       "  </thead>\n",
       "  <tbody>\n",
       "    <tr>\n",
       "      <th>0</th>\n",
       "      <td>PD20032400001494</td>\n",
       "      <td>Van Nuys</td>\n",
       "      <td>0906</td>\n",
       "      <td>03/24/2020 12:00:00 AM</td>\n",
       "      <td>09:34:26</td>\n",
       "      <td>006</td>\n",
       "      <td>CODE 6</td>\n",
       "      <td>03/24/2020</td>\n",
       "    </tr>\n",
       "    <tr>\n",
       "      <th>1</th>\n",
       "      <td>PD20032800004517</td>\n",
       "      <td>Central</td>\n",
       "      <td>0182</td>\n",
       "      <td>03/28/2020 12:00:00 AM</td>\n",
       "      <td>21:19:40</td>\n",
       "      <td>242DS</td>\n",
       "      <td>DOM VIOL SUSP</td>\n",
       "      <td>03/28/2020</td>\n",
       "    </tr>\n",
       "    <tr>\n",
       "      <th>2</th>\n",
       "      <td>PD20032500004416</td>\n",
       "      <td>Outside</td>\n",
       "      <td>NaN</td>\n",
       "      <td>03/25/2020 12:00:00 AM</td>\n",
       "      <td>18:18:34</td>\n",
       "      <td>006</td>\n",
       "      <td>CODE 6</td>\n",
       "      <td>03/25/2020</td>\n",
       "    </tr>\n",
       "    <tr>\n",
       "      <th>3</th>\n",
       "      <td>PD20032500003685</td>\n",
       "      <td>Outside</td>\n",
       "      <td>NaN</td>\n",
       "      <td>03/25/2020 12:00:00 AM</td>\n",
       "      <td>16:14:42</td>\n",
       "      <td>006</td>\n",
       "      <td>CODE 6</td>\n",
       "      <td>03/25/2020</td>\n",
       "    </tr>\n",
       "    <tr>\n",
       "      <th>4</th>\n",
       "      <td>PD20032300004227</td>\n",
       "      <td>Hollywood</td>\n",
       "      <td>0668</td>\n",
       "      <td>03/23/2020 12:00:00 AM</td>\n",
       "      <td>18:22:28</td>\n",
       "      <td>9212</td>\n",
       "      <td>TRESPASS SUSP</td>\n",
       "      <td>03/23/2020</td>\n",
       "    </tr>\n",
       "  </tbody>\n",
       "</table>\n",
       "</div>"
      ],
      "text/plain": [
       "    incident_number reporting_district area_occurred           dispatch_date  \\\n",
       "0  PD20032400001494           Van Nuys          0906  03/24/2020 12:00:00 AM   \n",
       "1  PD20032800004517            Central          0182  03/28/2020 12:00:00 AM   \n",
       "2  PD20032500004416            Outside           NaN  03/25/2020 12:00:00 AM   \n",
       "3  PD20032500003685            Outside           NaN  03/25/2020 12:00:00 AM   \n",
       "4  PD20032300004227          Hollywood          0668  03/23/2020 12:00:00 AM   \n",
       "\n",
       "  dispatch_time call_type_code call_type_description        date  \n",
       "0      09:34:26            006                CODE 6  03/24/2020  \n",
       "1      21:19:40          242DS         DOM VIOL SUSP  03/28/2020  \n",
       "2      18:18:34            006                CODE 6  03/25/2020  \n",
       "3      16:14:42            006                CODE 6  03/25/2020  \n",
       "4      18:22:28           9212         TRESPASS SUSP  03/23/2020  "
      ]
     },
     "execution_count": 11,
     "metadata": {},
     "output_type": "execute_result"
    }
   ],
   "source": [
    "df.head()"
   ]
  },
  {
   "cell_type": "code",
   "execution_count": 12,
   "metadata": {},
   "outputs": [],
   "source": [
    "df['date'] = pd.to_datetime(df['date'], format='%m/%d/%Y')\n",
    "df['time'] = pd.to_datetime(df['dispatch_time'], format='%H:%M:%S')"
   ]
  },
  {
   "cell_type": "code",
   "execution_count": 13,
   "metadata": {},
   "outputs": [],
   "source": [
    "df['date'] = df['date'].dt.date\n",
    "df['time'] = df['time'].dt.time"
   ]
  },
  {
   "cell_type": "code",
   "execution_count": 14,
   "metadata": {},
   "outputs": [],
   "source": [
    "df = df.drop(['dispatch_time', 'dispatch_date'], axis=1).reset_index()"
   ]
  },
  {
   "cell_type": "markdown",
   "metadata": {},
   "source": [
    "#### Export full data frame"
   ]
  },
  {
   "cell_type": "code",
   "execution_count": 15,
   "metadata": {},
   "outputs": [],
   "source": [
    "df.to_csv('/Users/mhustiles/data/data/LA/calls/la/los_angeles.csv', index=None)"
   ]
  },
  {
   "cell_type": "code",
   "execution_count": 16,
   "metadata": {},
   "outputs": [
    {
     "data": {
      "text/html": [
       "<div>\n",
       "<style scoped>\n",
       "    .dataframe tbody tr th:only-of-type {\n",
       "        vertical-align: middle;\n",
       "    }\n",
       "\n",
       "    .dataframe tbody tr th {\n",
       "        vertical-align: top;\n",
       "    }\n",
       "\n",
       "    .dataframe thead th {\n",
       "        text-align: right;\n",
       "    }\n",
       "</style>\n",
       "<table border=\"1\" class=\"dataframe\">\n",
       "  <thead>\n",
       "    <tr style=\"text-align: right;\">\n",
       "      <th></th>\n",
       "      <th>index</th>\n",
       "      <th>incident_number</th>\n",
       "      <th>reporting_district</th>\n",
       "      <th>area_occurred</th>\n",
       "      <th>call_type_code</th>\n",
       "      <th>call_type_description</th>\n",
       "      <th>date</th>\n",
       "      <th>time</th>\n",
       "    </tr>\n",
       "  </thead>\n",
       "  <tbody>\n",
       "    <tr>\n",
       "      <th>0</th>\n",
       "      <td>0</td>\n",
       "      <td>PD20032400001494</td>\n",
       "      <td>Van Nuys</td>\n",
       "      <td>0906</td>\n",
       "      <td>006</td>\n",
       "      <td>CODE 6</td>\n",
       "      <td>2020-03-24</td>\n",
       "      <td>09:34:26</td>\n",
       "    </tr>\n",
       "    <tr>\n",
       "      <th>1</th>\n",
       "      <td>1</td>\n",
       "      <td>PD20032800004517</td>\n",
       "      <td>Central</td>\n",
       "      <td>0182</td>\n",
       "      <td>242DS</td>\n",
       "      <td>DOM VIOL SUSP</td>\n",
       "      <td>2020-03-28</td>\n",
       "      <td>21:19:40</td>\n",
       "    </tr>\n",
       "    <tr>\n",
       "      <th>2</th>\n",
       "      <td>2</td>\n",
       "      <td>PD20032500004416</td>\n",
       "      <td>Outside</td>\n",
       "      <td>NaN</td>\n",
       "      <td>006</td>\n",
       "      <td>CODE 6</td>\n",
       "      <td>2020-03-25</td>\n",
       "      <td>18:18:34</td>\n",
       "    </tr>\n",
       "    <tr>\n",
       "      <th>3</th>\n",
       "      <td>3</td>\n",
       "      <td>PD20032500003685</td>\n",
       "      <td>Outside</td>\n",
       "      <td>NaN</td>\n",
       "      <td>006</td>\n",
       "      <td>CODE 6</td>\n",
       "      <td>2020-03-25</td>\n",
       "      <td>16:14:42</td>\n",
       "    </tr>\n",
       "    <tr>\n",
       "      <th>4</th>\n",
       "      <td>4</td>\n",
       "      <td>PD20032300004227</td>\n",
       "      <td>Hollywood</td>\n",
       "      <td>0668</td>\n",
       "      <td>9212</td>\n",
       "      <td>TRESPASS SUSP</td>\n",
       "      <td>2020-03-23</td>\n",
       "      <td>18:22:28</td>\n",
       "    </tr>\n",
       "  </tbody>\n",
       "</table>\n",
       "</div>"
      ],
      "text/plain": [
       "   index   incident_number reporting_district area_occurred call_type_code  \\\n",
       "0      0  PD20032400001494           Van Nuys          0906            006   \n",
       "1      1  PD20032800004517            Central          0182          242DS   \n",
       "2      2  PD20032500004416            Outside           NaN            006   \n",
       "3      3  PD20032500003685            Outside           NaN            006   \n",
       "4      4  PD20032300004227          Hollywood          0668           9212   \n",
       "\n",
       "  call_type_description        date      time  \n",
       "0                CODE 6  2020-03-24  09:34:26  \n",
       "1         DOM VIOL SUSP  2020-03-28  21:19:40  \n",
       "2                CODE 6  2020-03-25  18:18:34  \n",
       "3                CODE 6  2020-03-25  16:14:42  \n",
       "4         TRESPASS SUSP  2020-03-23  18:22:28  "
      ]
     },
     "execution_count": 16,
     "metadata": {},
     "output_type": "execute_result"
    }
   ],
   "source": [
    "df.head()"
   ]
  },
  {
   "cell_type": "markdown",
   "metadata": {},
   "source": [
    "---"
   ]
  },
  {
   "cell_type": "markdown",
   "metadata": {},
   "source": [
    "## San Diego"
   ]
  },
  {
   "cell_type": "code",
   "execution_count": 17,
   "metadata": {},
   "outputs": [],
   "source": [
    "# https://data.sandiego.gov/datasets/police-calls-for-service/"
   ]
  },
  {
   "cell_type": "markdown",
   "metadata": {},
   "source": [
    "#### Get the most recent year of calls"
   ]
  },
  {
   "cell_type": "code",
   "execution_count": 18,
   "metadata": {},
   "outputs": [],
   "source": [
    "sd_current = pd.read_csv('http://seshat.datasd.org/pd/pd_calls_for_service_2020_datasd.csv', low_memory=False)"
   ]
  },
  {
   "cell_type": "markdown",
   "metadata": {},
   "source": [
    "#### Get the current and past years and concatenate them"
   ]
  },
  {
   "cell_type": "code",
   "execution_count": 19,
   "metadata": {},
   "outputs": [],
   "source": [
    "sd_past = pd.read_csv('/Users/mhustiles/data/data/LA/calls/san-diego/san_diego_2015_2019.csv', low_memory=False)"
   ]
  },
  {
   "cell_type": "code",
   "execution_count": 20,
   "metadata": {},
   "outputs": [],
   "source": [
    "sd_df = pd.concat([sd_current,sd_past])"
   ]
  },
  {
   "cell_type": "markdown",
   "metadata": {},
   "source": [
    "#### Clean up headers and dates"
   ]
  },
  {
   "cell_type": "code",
   "execution_count": 21,
   "metadata": {},
   "outputs": [
    {
     "name": "stderr",
     "output_type": "stream",
     "text": [
      "/Users/mhustiles/.virtualenvs/notebooks-hnoN6uG0/lib/python3.7/site-packages/ipykernel_launcher.py:2: FutureWarning: The default value of regex will change from True to False in a future version. In addition, single character regular expressions will*not* be treated as literal strings when regex=True.\n",
      "  \n"
     ]
    }
   ],
   "source": [
    "sd_df.columns = sd_df.columns.str.strip().str.lower().str.replace(' ','_')\\\n",
    "    .str.replace('(', '').str.replace(')', '').str.replace('/','_')"
   ]
  },
  {
   "cell_type": "code",
   "execution_count": 22,
   "metadata": {},
   "outputs": [],
   "source": [
    "sd_df['date_time'] = pd.to_datetime(sd_df['date_time'], errors='coerce', format='%Y-%m-%d %H:%M:%S')"
   ]
  },
  {
   "cell_type": "code",
   "execution_count": 23,
   "metadata": {},
   "outputs": [],
   "source": [
    "sd_df['date'] = sd_df['date_time'].dt.date\n",
    "sd_df['time'] = sd_df['date_time'].dt.time"
   ]
  },
  {
   "cell_type": "code",
   "execution_count": 24,
   "metadata": {},
   "outputs": [
    {
     "data": {
      "text/html": [
       "<div>\n",
       "<style scoped>\n",
       "    .dataframe tbody tr th:only-of-type {\n",
       "        vertical-align: middle;\n",
       "    }\n",
       "\n",
       "    .dataframe tbody tr th {\n",
       "        vertical-align: top;\n",
       "    }\n",
       "\n",
       "    .dataframe thead th {\n",
       "        text-align: right;\n",
       "    }\n",
       "</style>\n",
       "<table border=\"1\" class=\"dataframe\">\n",
       "  <thead>\n",
       "    <tr style=\"text-align: right;\">\n",
       "      <th></th>\n",
       "      <th>incident_num</th>\n",
       "      <th>date_time</th>\n",
       "      <th>day_of_week</th>\n",
       "      <th>address_number_primary</th>\n",
       "      <th>address_dir_primary</th>\n",
       "      <th>address_road_primary</th>\n",
       "      <th>address_sfx_primary</th>\n",
       "      <th>address_dir_intersecting</th>\n",
       "      <th>address_road_intersecting</th>\n",
       "      <th>address_sfx_intersecting</th>\n",
       "      <th>call_type</th>\n",
       "      <th>disposition</th>\n",
       "      <th>beat</th>\n",
       "      <th>priority</th>\n",
       "      <th>date</th>\n",
       "      <th>time</th>\n",
       "    </tr>\n",
       "  </thead>\n",
       "  <tbody>\n",
       "    <tr>\n",
       "      <th>0</th>\n",
       "      <td>E20010000001</td>\n",
       "      <td>2020-01-01 00:00:09</td>\n",
       "      <td>4</td>\n",
       "      <td>400</td>\n",
       "      <td>NaN</td>\n",
       "      <td>06TH</td>\n",
       "      <td>AVE</td>\n",
       "      <td>NaN</td>\n",
       "      <td>NaN</td>\n",
       "      <td>NaN</td>\n",
       "      <td>11-8</td>\n",
       "      <td>A</td>\n",
       "      <td>523</td>\n",
       "      <td>0</td>\n",
       "      <td>2020-01-01</td>\n",
       "      <td>00:00:09</td>\n",
       "    </tr>\n",
       "    <tr>\n",
       "      <th>1</th>\n",
       "      <td>E20010000002</td>\n",
       "      <td>2020-01-01 00:00:20</td>\n",
       "      <td>4</td>\n",
       "      <td>5000</td>\n",
       "      <td>NaN</td>\n",
       "      <td>UNIVERSITY</td>\n",
       "      <td>AVE</td>\n",
       "      <td>NaN</td>\n",
       "      <td>NaN</td>\n",
       "      <td>NaN</td>\n",
       "      <td>FD</td>\n",
       "      <td>K</td>\n",
       "      <td>826</td>\n",
       "      <td>2</td>\n",
       "      <td>2020-01-01</td>\n",
       "      <td>00:00:20</td>\n",
       "    </tr>\n",
       "    <tr>\n",
       "      <th>2</th>\n",
       "      <td>E20010000003</td>\n",
       "      <td>2020-01-01 00:00:21</td>\n",
       "      <td>4</td>\n",
       "      <td>800</td>\n",
       "      <td>NaN</td>\n",
       "      <td>SAWTELLE</td>\n",
       "      <td>AVE</td>\n",
       "      <td>NaN</td>\n",
       "      <td>NaN</td>\n",
       "      <td>NaN</td>\n",
       "      <td>AU1</td>\n",
       "      <td>W</td>\n",
       "      <td>434</td>\n",
       "      <td>1</td>\n",
       "      <td>2020-01-01</td>\n",
       "      <td>00:00:21</td>\n",
       "    </tr>\n",
       "    <tr>\n",
       "      <th>3</th>\n",
       "      <td>E20010000004</td>\n",
       "      <td>2020-01-01 00:00:32</td>\n",
       "      <td>4</td>\n",
       "      <td>5000</td>\n",
       "      <td>NaN</td>\n",
       "      <td>UNIVERSITY</td>\n",
       "      <td>AVE</td>\n",
       "      <td>NaN</td>\n",
       "      <td>NaN</td>\n",
       "      <td>NaN</td>\n",
       "      <td>FD</td>\n",
       "      <td>K</td>\n",
       "      <td>826</td>\n",
       "      <td>2</td>\n",
       "      <td>2020-01-01</td>\n",
       "      <td>00:00:32</td>\n",
       "    </tr>\n",
       "    <tr>\n",
       "      <th>4</th>\n",
       "      <td>E20010000005</td>\n",
       "      <td>2020-01-01 00:00:42</td>\n",
       "      <td>4</td>\n",
       "      <td>5200</td>\n",
       "      <td>NaN</td>\n",
       "      <td>CLAIREMONT MESA</td>\n",
       "      <td>BLV</td>\n",
       "      <td>NaN</td>\n",
       "      <td>NaN</td>\n",
       "      <td>NaN</td>\n",
       "      <td>415V</td>\n",
       "      <td>K</td>\n",
       "      <td>111</td>\n",
       "      <td>1</td>\n",
       "      <td>2020-01-01</td>\n",
       "      <td>00:00:42</td>\n",
       "    </tr>\n",
       "  </tbody>\n",
       "</table>\n",
       "</div>"
      ],
      "text/plain": [
       "   incident_num           date_time day_of_week address_number_primary  \\\n",
       "0  E20010000001 2020-01-01 00:00:09           4                    400   \n",
       "1  E20010000002 2020-01-01 00:00:20           4                   5000   \n",
       "2  E20010000003 2020-01-01 00:00:21           4                    800   \n",
       "3  E20010000004 2020-01-01 00:00:32           4                   5000   \n",
       "4  E20010000005 2020-01-01 00:00:42           4                   5200   \n",
       "\n",
       "  address_dir_primary address_road_primary address_sfx_primary  \\\n",
       "0                 NaN                 06TH                 AVE   \n",
       "1                 NaN           UNIVERSITY                 AVE   \n",
       "2                 NaN             SAWTELLE                 AVE   \n",
       "3                 NaN           UNIVERSITY                 AVE   \n",
       "4                 NaN      CLAIREMONT MESA                 BLV   \n",
       "\n",
       "  address_dir_intersecting address_road_intersecting address_sfx_intersecting  \\\n",
       "0                      NaN                       NaN                      NaN   \n",
       "1                      NaN                       NaN                      NaN   \n",
       "2                      NaN                       NaN                      NaN   \n",
       "3                      NaN                       NaN                      NaN   \n",
       "4                      NaN                       NaN                      NaN   \n",
       "\n",
       "  call_type disposition beat priority        date      time  \n",
       "0      11-8           A  523        0  2020-01-01  00:00:09  \n",
       "1        FD           K  826        2  2020-01-01  00:00:20  \n",
       "2       AU1           W  434        1  2020-01-01  00:00:21  \n",
       "3        FD           K  826        2  2020-01-01  00:00:32  \n",
       "4      415V           K  111        1  2020-01-01  00:00:42  "
      ]
     },
     "execution_count": 24,
     "metadata": {},
     "output_type": "execute_result"
    }
   ],
   "source": [
    "sd_df.head()"
   ]
  },
  {
   "cell_type": "markdown",
   "metadata": {},
   "source": [
    "#### Export full data frame"
   ]
  },
  {
   "cell_type": "code",
   "execution_count": 25,
   "metadata": {},
   "outputs": [],
   "source": [
    "sd_df.to_csv('/Users/mhustiles/data/data/LA/calls/san-diego/san_diego.csv', index=None)"
   ]
  },
  {
   "cell_type": "code",
   "execution_count": 26,
   "metadata": {},
   "outputs": [
    {
     "data": {
      "text/plain": [
       "3504430"
      ]
     },
     "execution_count": 26,
     "metadata": {},
     "output_type": "execute_result"
    }
   ],
   "source": [
    "len(sd_df)"
   ]
  },
  {
   "cell_type": "markdown",
   "metadata": {},
   "source": [
    "---"
   ]
  },
  {
   "cell_type": "markdown",
   "metadata": {},
   "source": [
    "## San Jose"
   ]
  },
  {
   "cell_type": "code",
   "execution_count": 27,
   "metadata": {},
   "outputs": [],
   "source": [
    "# https://data.sanjoseca.gov/dataset/police-calls-for-service"
   ]
  },
  {
   "cell_type": "markdown",
   "metadata": {},
   "source": [
    "#### Get the most recent year"
   ]
  },
  {
   "cell_type": "code",
   "execution_count": 28,
   "metadata": {},
   "outputs": [],
   "source": [
    "sj_current = pd.read_csv('https://data.sanjoseca.gov/dataset/c5929f1b-7dbe-445e-83ed-35cca0d3ca8b/resource/aa926acb-63e0-425b-abea-613d293b5b46/download/policecalls2020.csv',\\\n",
    "                        low_memory=False)"
   ]
  },
  {
   "cell_type": "markdown",
   "metadata": {},
   "source": [
    "#### Get past years and concatenate them"
   ]
  },
  {
   "cell_type": "code",
   "execution_count": 29,
   "metadata": {},
   "outputs": [],
   "source": [
    "sj_past = pd.read_csv('/Users/mhustiles/data/data/LA/calls/san-jose/san_jose_2015_2019.csv', low_memory=False)"
   ]
  },
  {
   "cell_type": "code",
   "execution_count": 30,
   "metadata": {},
   "outputs": [],
   "source": [
    "sj_df = pd.concat([sj_current,sj_past])"
   ]
  },
  {
   "cell_type": "markdown",
   "metadata": {},
   "source": [
    "#### Clean up headers and dates"
   ]
  },
  {
   "cell_type": "code",
   "execution_count": 31,
   "metadata": {},
   "outputs": [
    {
     "name": "stderr",
     "output_type": "stream",
     "text": [
      "/Users/mhustiles/.virtualenvs/notebooks-hnoN6uG0/lib/python3.7/site-packages/ipykernel_launcher.py:2: FutureWarning: The default value of regex will change from True to False in a future version. In addition, single character regular expressions will*not* be treated as literal strings when regex=True.\n",
      "  \n"
     ]
    }
   ],
   "source": [
    "sj_df.columns = sj_df.columns.str.strip().str.lower().str.replace(' ','_')\\\n",
    "    .str.replace('(', '').str.replace(')', '').str.replace('/','_')"
   ]
  },
  {
   "cell_type": "code",
   "execution_count": 32,
   "metadata": {},
   "outputs": [],
   "source": [
    "sj_df = sj_df[sj_df['offense_date'] != 'OFFENSE_DATE']"
   ]
  },
  {
   "cell_type": "code",
   "execution_count": 33,
   "metadata": {},
   "outputs": [],
   "source": [
    "sj_df['date'] = pd.to_datetime(sj_df['offense_date'])\n",
    "sj_df['time'] = pd.to_datetime(sj_df['offense_time'], errors='coerce', format='%H:%M:%S')"
   ]
  },
  {
   "cell_type": "code",
   "execution_count": 34,
   "metadata": {},
   "outputs": [],
   "source": [
    "sj_df['date'] = sj_df['date'].dt.date\n",
    "sj_df['time'] = sj_df['time'].dt.time"
   ]
  },
  {
   "cell_type": "code",
   "execution_count": 35,
   "metadata": {},
   "outputs": [
    {
     "data": {
      "text/html": [
       "<div>\n",
       "<style scoped>\n",
       "    .dataframe tbody tr th:only-of-type {\n",
       "        vertical-align: middle;\n",
       "    }\n",
       "\n",
       "    .dataframe tbody tr th {\n",
       "        vertical-align: top;\n",
       "    }\n",
       "\n",
       "    .dataframe thead th {\n",
       "        text-align: right;\n",
       "    }\n",
       "</style>\n",
       "<table border=\"1\" class=\"dataframe\">\n",
       "  <thead>\n",
       "    <tr style=\"text-align: right;\">\n",
       "      <th></th>\n",
       "      <th>cdts</th>\n",
       "      <th>eid</th>\n",
       "      <th>start_date</th>\n",
       "      <th>call_number</th>\n",
       "      <th>priority</th>\n",
       "      <th>report_date</th>\n",
       "      <th>offense_date</th>\n",
       "      <th>offense_time</th>\n",
       "      <th>calltype_code</th>\n",
       "      <th>call_type</th>\n",
       "      <th>final_dispo_code</th>\n",
       "      <th>final_dispo</th>\n",
       "      <th>common_place_name</th>\n",
       "      <th>address</th>\n",
       "      <th>city</th>\n",
       "      <th>state</th>\n",
       "      <th>date</th>\n",
       "      <th>time</th>\n",
       "    </tr>\n",
       "  </thead>\n",
       "  <tbody>\n",
       "    <tr>\n",
       "      <th>0</th>\n",
       "      <td>20200101002621PS</td>\n",
       "      <td>7981569</td>\n",
       "      <td>1/1/2020 12:00:00 AM</td>\n",
       "      <td>P200010004</td>\n",
       "      <td>2</td>\n",
       "      <td>1/1/2020 12:00:00 AM</td>\n",
       "      <td>1/1/2020 12:00:00 AM</td>\n",
       "      <td>00:03:08</td>\n",
       "      <td>1057</td>\n",
       "      <td>FIREARMS DISCHARGED</td>\n",
       "      <td>N</td>\n",
       "      <td>No report required; dispatch record only</td>\n",
       "      <td>NaN</td>\n",
       "      <td>[900]-[1000] FURLONG DR</td>\n",
       "      <td>San Jose</td>\n",
       "      <td>CA</td>\n",
       "      <td>2020-01-01</td>\n",
       "      <td>00:03:08</td>\n",
       "    </tr>\n",
       "    <tr>\n",
       "      <th>1</th>\n",
       "      <td>20200101021606PS</td>\n",
       "      <td>7981674</td>\n",
       "      <td>1/1/2020 12:00:00 AM</td>\n",
       "      <td>P200010092</td>\n",
       "      <td>4</td>\n",
       "      <td>1/1/2020 12:00:00 AM</td>\n",
       "      <td>1/1/2020 12:00:00 AM</td>\n",
       "      <td>01:03:05</td>\n",
       "      <td>415</td>\n",
       "      <td>DISTURBANCE</td>\n",
       "      <td>CAN</td>\n",
       "      <td>Canceled</td>\n",
       "      <td>NaN</td>\n",
       "      <td>[0]-[100] PALM VALLEY BL</td>\n",
       "      <td>San Jose</td>\n",
       "      <td>CA</td>\n",
       "      <td>2020-01-01</td>\n",
       "      <td>01:03:05</td>\n",
       "    </tr>\n",
       "    <tr>\n",
       "      <th>2</th>\n",
       "      <td>20200101021613PS</td>\n",
       "      <td>7981725</td>\n",
       "      <td>1/1/2020 12:00:00 AM</td>\n",
       "      <td>P200010134</td>\n",
       "      <td>5</td>\n",
       "      <td>1/1/2020 12:00:00 AM</td>\n",
       "      <td>1/1/2020 12:00:00 AM</td>\n",
       "      <td>01:50:32</td>\n",
       "      <td>647F</td>\n",
       "      <td>DRUNK IN PUBLIC</td>\n",
       "      <td>N</td>\n",
       "      <td>No report required; dispatch record only</td>\n",
       "      <td>NaN</td>\n",
       "      <td>S 1ST ST &amp; E SAN SALVADOR ST</td>\n",
       "      <td>San Jose</td>\n",
       "      <td>CA</td>\n",
       "      <td>2020-01-01</td>\n",
       "      <td>01:50:32</td>\n",
       "    </tr>\n",
       "    <tr>\n",
       "      <th>3</th>\n",
       "      <td>20200101021628PS</td>\n",
       "      <td>7981722</td>\n",
       "      <td>1/1/2020 12:00:00 AM</td>\n",
       "      <td>P200010131</td>\n",
       "      <td>2</td>\n",
       "      <td>1/1/2020 12:00:00 AM</td>\n",
       "      <td>1/1/2020 12:00:00 AM</td>\n",
       "      <td>01:49:04</td>\n",
       "      <td>415A</td>\n",
       "      <td>DISTURBANCE, FIGHT</td>\n",
       "      <td>N</td>\n",
       "      <td>No report required; dispatch record only</td>\n",
       "      <td>NaN</td>\n",
       "      <td>NERDY AV &amp; CAS DR</td>\n",
       "      <td>San Jose</td>\n",
       "      <td>CA</td>\n",
       "      <td>2020-01-01</td>\n",
       "      <td>01:49:04</td>\n",
       "    </tr>\n",
       "    <tr>\n",
       "      <th>4</th>\n",
       "      <td>20200101021642PS</td>\n",
       "      <td>7981640</td>\n",
       "      <td>1/1/2020 12:00:00 AM</td>\n",
       "      <td>P200010064</td>\n",
       "      <td>2</td>\n",
       "      <td>1/1/2020 12:00:00 AM</td>\n",
       "      <td>1/1/2020 12:00:00 AM</td>\n",
       "      <td>00:43:04</td>\n",
       "      <td>911UNK</td>\n",
       "      <td>UNK TYPE 911 CALL</td>\n",
       "      <td>N</td>\n",
       "      <td>No report required; dispatch record only</td>\n",
       "      <td>NaN</td>\n",
       "      <td>[0]-[100] MERIDIAN AV</td>\n",
       "      <td>San Jose</td>\n",
       "      <td>CA</td>\n",
       "      <td>2020-01-01</td>\n",
       "      <td>00:43:04</td>\n",
       "    </tr>\n",
       "  </tbody>\n",
       "</table>\n",
       "</div>"
      ],
      "text/plain": [
       "               cdts      eid            start_date call_number priority  \\\n",
       "0  20200101002621PS  7981569  1/1/2020 12:00:00 AM  P200010004        2   \n",
       "1  20200101021606PS  7981674  1/1/2020 12:00:00 AM  P200010092        4   \n",
       "2  20200101021613PS  7981725  1/1/2020 12:00:00 AM  P200010134        5   \n",
       "3  20200101021628PS  7981722  1/1/2020 12:00:00 AM  P200010131        2   \n",
       "4  20200101021642PS  7981640  1/1/2020 12:00:00 AM  P200010064        2   \n",
       "\n",
       "            report_date          offense_date offense_time calltype_code  \\\n",
       "0  1/1/2020 12:00:00 AM  1/1/2020 12:00:00 AM     00:03:08          1057   \n",
       "1  1/1/2020 12:00:00 AM  1/1/2020 12:00:00 AM     01:03:05           415   \n",
       "2  1/1/2020 12:00:00 AM  1/1/2020 12:00:00 AM     01:50:32          647F   \n",
       "3  1/1/2020 12:00:00 AM  1/1/2020 12:00:00 AM     01:49:04          415A   \n",
       "4  1/1/2020 12:00:00 AM  1/1/2020 12:00:00 AM     00:43:04        911UNK   \n",
       "\n",
       "             call_type final_dispo_code  \\\n",
       "0  FIREARMS DISCHARGED                N   \n",
       "1          DISTURBANCE              CAN   \n",
       "2      DRUNK IN PUBLIC                N   \n",
       "3   DISTURBANCE, FIGHT                N   \n",
       "4    UNK TYPE 911 CALL                N   \n",
       "\n",
       "                                final_dispo common_place_name  \\\n",
       "0  No report required; dispatch record only               NaN   \n",
       "1                                  Canceled               NaN   \n",
       "2  No report required; dispatch record only               NaN   \n",
       "3  No report required; dispatch record only               NaN   \n",
       "4  No report required; dispatch record only               NaN   \n",
       "\n",
       "                        address      city state        date      time  \n",
       "0      [900]-[1000] FURLONG DR   San Jose    CA  2020-01-01  00:03:08  \n",
       "1     [0]-[100] PALM VALLEY BL   San Jose    CA  2020-01-01  01:03:05  \n",
       "2  S 1ST ST & E SAN SALVADOR ST  San Jose    CA  2020-01-01  01:50:32  \n",
       "3             NERDY AV & CAS DR  San Jose    CA  2020-01-01  01:49:04  \n",
       "4        [0]-[100] MERIDIAN AV   San Jose    CA  2020-01-01  00:43:04  "
      ]
     },
     "execution_count": 35,
     "metadata": {},
     "output_type": "execute_result"
    }
   ],
   "source": [
    "sj_df.head()"
   ]
  },
  {
   "cell_type": "code",
   "execution_count": 36,
   "metadata": {},
   "outputs": [
    {
     "data": {
      "text/plain": [
       "1879739"
      ]
     },
     "execution_count": 36,
     "metadata": {},
     "output_type": "execute_result"
    }
   ],
   "source": [
    "len(sj_df)"
   ]
  },
  {
   "cell_type": "markdown",
   "metadata": {},
   "source": [
    "#### Export full data frame"
   ]
  },
  {
   "cell_type": "code",
   "execution_count": 37,
   "metadata": {},
   "outputs": [],
   "source": [
    "sj_df.to_csv('/Users/mhustiles/data/data/LA/calls/san-jose/san_jose.csv', index=None)"
   ]
  },
  {
   "cell_type": "markdown",
   "metadata": {},
   "source": [
    "---"
   ]
  },
  {
   "cell_type": "markdown",
   "metadata": {},
   "source": [
    "## San Francisco"
   ]
  },
  {
   "cell_type": "code",
   "execution_count": 38,
   "metadata": {},
   "outputs": [],
   "source": [
    "# https://data.sfgov.org/Public-Safety/Police-Department-Calls-for-Service/hz9m-tj6z"
   ]
  },
  {
   "cell_type": "markdown",
   "metadata": {},
   "source": [
    "#### Get the most recent year"
   ]
  },
  {
   "cell_type": "code",
   "execution_count": 39,
   "metadata": {},
   "outputs": [],
   "source": [
    "df_sf = pd.read_csv('/Users/mhustiles/data/data/LA/calls/san-francisco/Police_Department_Calls_for_Service.csv')"
   ]
  },
  {
   "cell_type": "code",
   "execution_count": 40,
   "metadata": {},
   "outputs": [
    {
     "name": "stderr",
     "output_type": "stream",
     "text": [
      "/Users/mhustiles/.virtualenvs/notebooks-hnoN6uG0/lib/python3.7/site-packages/ipykernel_launcher.py:2: FutureWarning: The default value of regex will change from True to False in a future version. In addition, single character regular expressions will*not* be treated as literal strings when regex=True.\n",
      "  \n"
     ]
    }
   ],
   "source": [
    "df_sf.columns = df_sf.columns.str.strip().str.lower().str.replace(' ','_')\\\n",
    "    .str.replace('(', '').str.replace(')', '').str.replace('/','_')"
   ]
  },
  {
   "cell_type": "markdown",
   "metadata": {},
   "source": [
    "#### Clean up headers and dates"
   ]
  },
  {
   "cell_type": "code",
   "execution_count": 41,
   "metadata": {},
   "outputs": [],
   "source": [
    "df_sf['date_time'] = pd.to_datetime(df_sf['call_date_time'], errors='coerce', format='%m/%d/%Y %H:%M:%S %p')"
   ]
  },
  {
   "cell_type": "code",
   "execution_count": 42,
   "metadata": {},
   "outputs": [],
   "source": [
    "df_sf['date'] = df_sf['date_time'].dt.date\n",
    "df_sf['time'] = df_sf['date_time'].dt.time"
   ]
  },
  {
   "cell_type": "code",
   "execution_count": 43,
   "metadata": {},
   "outputs": [
    {
     "data": {
      "text/html": [
       "<div>\n",
       "<style scoped>\n",
       "    .dataframe tbody tr th:only-of-type {\n",
       "        vertical-align: middle;\n",
       "    }\n",
       "\n",
       "    .dataframe tbody tr th {\n",
       "        vertical-align: top;\n",
       "    }\n",
       "\n",
       "    .dataframe thead th {\n",
       "        text-align: right;\n",
       "    }\n",
       "</style>\n",
       "<table border=\"1\" class=\"dataframe\">\n",
       "  <thead>\n",
       "    <tr style=\"text-align: right;\">\n",
       "      <th></th>\n",
       "      <th>crime_id</th>\n",
       "      <th>original_crime_type_name</th>\n",
       "      <th>report_date</th>\n",
       "      <th>call_date</th>\n",
       "      <th>offense_date</th>\n",
       "      <th>call_time</th>\n",
       "      <th>call_date_time</th>\n",
       "      <th>disposition</th>\n",
       "      <th>address</th>\n",
       "      <th>city</th>\n",
       "      <th>state</th>\n",
       "      <th>agency_id</th>\n",
       "      <th>address_type</th>\n",
       "      <th>common_location</th>\n",
       "      <th>date_time</th>\n",
       "      <th>date</th>\n",
       "      <th>time</th>\n",
       "    </tr>\n",
       "  </thead>\n",
       "  <tbody>\n",
       "    <tr>\n",
       "      <th>0</th>\n",
       "      <td>193043877</td>\n",
       "      <td>Vandalism</td>\n",
       "      <td>10/31/2019</td>\n",
       "      <td>10/31/2019</td>\n",
       "      <td>10/31/2019</td>\n",
       "      <td>20:46</td>\n",
       "      <td>10/31/2019 08:46:00 PM</td>\n",
       "      <td>UTL</td>\n",
       "      <td>300 Block Of Toland St</td>\n",
       "      <td>San Francisco</td>\n",
       "      <td>CA</td>\n",
       "      <td>1</td>\n",
       "      <td>Premise Address</td>\n",
       "      <td>NaN</td>\n",
       "      <td>2019-10-31 08:46:00</td>\n",
       "      <td>2019-10-31</td>\n",
       "      <td>08:46:00</td>\n",
       "    </tr>\n",
       "    <tr>\n",
       "      <th>1</th>\n",
       "      <td>190020633</td>\n",
       "      <td>Trespasser</td>\n",
       "      <td>01/02/2019</td>\n",
       "      <td>01/02/2019</td>\n",
       "      <td>01/02/2019</td>\n",
       "      <td>07:58</td>\n",
       "      <td>01/02/2019 07:58:00 AM</td>\n",
       "      <td>GOA</td>\n",
       "      <td>300 Block Of Industrial St</td>\n",
       "      <td>San Francisco</td>\n",
       "      <td>CA</td>\n",
       "      <td>1</td>\n",
       "      <td>Premise Address</td>\n",
       "      <td>NaN</td>\n",
       "      <td>2019-01-02 07:58:00</td>\n",
       "      <td>2019-01-02</td>\n",
       "      <td>07:58:00</td>\n",
       "    </tr>\n",
       "    <tr>\n",
       "      <th>2</th>\n",
       "      <td>190214007</td>\n",
       "      <td>Passing Call</td>\n",
       "      <td>01/21/2019</td>\n",
       "      <td>01/21/2019</td>\n",
       "      <td>01/21/2019</td>\n",
       "      <td>23:07</td>\n",
       "      <td>01/21/2019 11:07:00 PM</td>\n",
       "      <td>HAN</td>\n",
       "      <td>Larkin St/golden Gate Av</td>\n",
       "      <td>San Francisco</td>\n",
       "      <td>CA</td>\n",
       "      <td>1</td>\n",
       "      <td>Intersection</td>\n",
       "      <td>NaN</td>\n",
       "      <td>2019-01-21 11:07:00</td>\n",
       "      <td>2019-01-21</td>\n",
       "      <td>11:07:00</td>\n",
       "    </tr>\n",
       "    <tr>\n",
       "      <th>3</th>\n",
       "      <td>190271719</td>\n",
       "      <td>22500e</td>\n",
       "      <td>01/27/2019</td>\n",
       "      <td>01/27/2019</td>\n",
       "      <td>01/27/2019</td>\n",
       "      <td>12:48</td>\n",
       "      <td>01/27/2019 12:48:00 PM</td>\n",
       "      <td>GOA</td>\n",
       "      <td>3400 Block Of Divisadero St</td>\n",
       "      <td>San Francisco</td>\n",
       "      <td>CA</td>\n",
       "      <td>1</td>\n",
       "      <td>Premise Address</td>\n",
       "      <td>NaN</td>\n",
       "      <td>2019-01-27 12:48:00</td>\n",
       "      <td>2019-01-27</td>\n",
       "      <td>12:48:00</td>\n",
       "    </tr>\n",
       "    <tr>\n",
       "      <th>4</th>\n",
       "      <td>190390109</td>\n",
       "      <td>Hot</td>\n",
       "      <td>02/08/2019</td>\n",
       "      <td>02/08/2019</td>\n",
       "      <td>02/08/2019</td>\n",
       "      <td>00:55</td>\n",
       "      <td>02/08/2019 12:55:00 AM</td>\n",
       "      <td>NOM</td>\n",
       "      <td>700 Block Of Corbett Av</td>\n",
       "      <td>San Francisco</td>\n",
       "      <td>CA</td>\n",
       "      <td>1</td>\n",
       "      <td>Premise Address</td>\n",
       "      <td>NaN</td>\n",
       "      <td>2019-02-08 12:55:00</td>\n",
       "      <td>2019-02-08</td>\n",
       "      <td>12:55:00</td>\n",
       "    </tr>\n",
       "  </tbody>\n",
       "</table>\n",
       "</div>"
      ],
      "text/plain": [
       "    crime_id original_crime_type_name report_date   call_date offense_date  \\\n",
       "0  193043877                Vandalism  10/31/2019  10/31/2019   10/31/2019   \n",
       "1  190020633               Trespasser  01/02/2019  01/02/2019   01/02/2019   \n",
       "2  190214007             Passing Call  01/21/2019  01/21/2019   01/21/2019   \n",
       "3  190271719                   22500e  01/27/2019  01/27/2019   01/27/2019   \n",
       "4  190390109                      Hot  02/08/2019  02/08/2019   02/08/2019   \n",
       "\n",
       "  call_time          call_date_time disposition                      address  \\\n",
       "0     20:46  10/31/2019 08:46:00 PM         UTL       300 Block Of Toland St   \n",
       "1     07:58  01/02/2019 07:58:00 AM         GOA   300 Block Of Industrial St   \n",
       "2     23:07  01/21/2019 11:07:00 PM         HAN     Larkin St/golden Gate Av   \n",
       "3     12:48  01/27/2019 12:48:00 PM         GOA  3400 Block Of Divisadero St   \n",
       "4     00:55  02/08/2019 12:55:00 AM         NOM      700 Block Of Corbett Av   \n",
       "\n",
       "            city state  agency_id     address_type common_location  \\\n",
       "0  San Francisco    CA          1  Premise Address             NaN   \n",
       "1  San Francisco    CA          1  Premise Address             NaN   \n",
       "2  San Francisco    CA          1     Intersection             NaN   \n",
       "3  San Francisco    CA          1  Premise Address             NaN   \n",
       "4  San Francisco    CA          1  Premise Address             NaN   \n",
       "\n",
       "            date_time        date      time  \n",
       "0 2019-10-31 08:46:00  2019-10-31  08:46:00  \n",
       "1 2019-01-02 07:58:00  2019-01-02  07:58:00  \n",
       "2 2019-01-21 11:07:00  2019-01-21  11:07:00  \n",
       "3 2019-01-27 12:48:00  2019-01-27  12:48:00  \n",
       "4 2019-02-08 12:55:00  2019-02-08  12:55:00  "
      ]
     },
     "execution_count": 43,
     "metadata": {},
     "output_type": "execute_result"
    }
   ],
   "source": [
    "df_sf.head()"
   ]
  },
  {
   "cell_type": "code",
   "execution_count": 44,
   "metadata": {},
   "outputs": [
    {
     "data": {
      "text/plain": [
       "3446073"
      ]
     },
     "execution_count": 44,
     "metadata": {},
     "output_type": "execute_result"
    }
   ],
   "source": [
    "len(df_sf)"
   ]
  },
  {
   "cell_type": "code",
   "execution_count": 45,
   "metadata": {},
   "outputs": [],
   "source": [
    "df_sf.to_csv('/Users/mhustiles/data/data/LA/calls/san-francisco/san_francisco.csv', index=None)"
   ]
  },
  {
   "cell_type": "markdown",
   "metadata": {},
   "source": [
    "---"
   ]
  },
  {
   "cell_type": "markdown",
   "metadata": {},
   "source": [
    "## Sacramento"
   ]
  },
  {
   "cell_type": "code",
   "execution_count": 46,
   "metadata": {},
   "outputs": [],
   "source": [
    "# http://data.cityofsacramento.org/datasets/9efe7653009b448f8d177c1da0cc068f_0"
   ]
  },
  {
   "cell_type": "markdown",
   "metadata": {},
   "source": [
    "#### Get the most recent year"
   ]
  },
  {
   "cell_type": "code",
   "execution_count": 47,
   "metadata": {},
   "outputs": [],
   "source": [
    "df_current = pd.read_csv('https://opendata.arcgis.com/datasets/9efe7653009b448f8d177c1da0cc068f_0.csv', low_memory=False)"
   ]
  },
  {
   "cell_type": "code",
   "execution_count": 48,
   "metadata": {},
   "outputs": [],
   "source": [
    "df_current = df_current.rename(columns={'OBJECTID':'FID', 'Occurence_Date':'Occurence_DateTime', 'Received_Date':'Received_DateTime',\n",
    "       'Dispatch_Date':'Dispatch_DateTime', 'Enroute_Date':'Enroute_DateTime', 'At_Scene_Date':'At_Scene_DateTime',\n",
    "       'Clear_Date':'Clear_DateTime'})"
   ]
  },
  {
   "cell_type": "markdown",
   "metadata": {},
   "source": [
    "#### Get the past years and concatenate them all"
   ]
  },
  {
   "cell_type": "code",
   "execution_count": 49,
   "metadata": {},
   "outputs": [],
   "source": [
    "df_past = pd.read_csv('/Users/mhustiles/data/data/LA/calls/sacramento/sacramento_2015_2019.csv', low_memory=False)"
   ]
  },
  {
   "cell_type": "code",
   "execution_count": 50,
   "metadata": {},
   "outputs": [],
   "source": [
    "df_sac = pd.concat([df_current,df_past])"
   ]
  },
  {
   "cell_type": "markdown",
   "metadata": {},
   "source": [
    "#### Clean up headers and dates"
   ]
  },
  {
   "cell_type": "code",
   "execution_count": 51,
   "metadata": {},
   "outputs": [
    {
     "name": "stderr",
     "output_type": "stream",
     "text": [
      "/Users/mhustiles/.virtualenvs/notebooks-hnoN6uG0/lib/python3.7/site-packages/ipykernel_launcher.py:2: FutureWarning: The default value of regex will change from True to False in a future version. In addition, single character regular expressions will*not* be treated as literal strings when regex=True.\n",
      "  \n"
     ]
    }
   ],
   "source": [
    "df_sac.columns = df_sac.columns.str.strip().str.lower().str.replace(' ','_')\\\n",
    "    .str.replace('(', '').str.replace(')', '').str.replace('/','_')"
   ]
  },
  {
   "cell_type": "code",
   "execution_count": 52,
   "metadata": {},
   "outputs": [],
   "source": [
    "df_sac['occurence_datetime'] = df_sac['occurence_datetime'].str.replace('+00', '', regex=False)"
   ]
  },
  {
   "cell_type": "code",
   "execution_count": 53,
   "metadata": {},
   "outputs": [],
   "source": [
    "df_sac['occurence_datetime'] = pd.to_datetime(df_sac['occurence_datetime'], errors='coerce', format='%Y/%m/%d %H:%M:%S')"
   ]
  },
  {
   "cell_type": "code",
   "execution_count": 54,
   "metadata": {},
   "outputs": [],
   "source": [
    "df_sac['date'] = df_sac['occurence_datetime'].dt.date\n",
    "df_sac['time'] = df_sac['occurence_datetime'].dt.time"
   ]
  },
  {
   "cell_type": "code",
   "execution_count": 55,
   "metadata": {},
   "outputs": [
    {
     "data": {
      "text/html": [
       "<div>\n",
       "<style scoped>\n",
       "    .dataframe tbody tr th:only-of-type {\n",
       "        vertical-align: middle;\n",
       "    }\n",
       "\n",
       "    .dataframe tbody tr th {\n",
       "        vertical-align: top;\n",
       "    }\n",
       "\n",
       "    .dataframe thead th {\n",
       "        text-align: right;\n",
       "    }\n",
       "</style>\n",
       "<table border=\"1\" class=\"dataframe\">\n",
       "  <thead>\n",
       "    <tr style=\"text-align: right;\">\n",
       "      <th></th>\n",
       "      <th>x</th>\n",
       "      <th>y</th>\n",
       "      <th>fid</th>\n",
       "      <th>record_id</th>\n",
       "      <th>call_type</th>\n",
       "      <th>description</th>\n",
       "      <th>reporting_officer</th>\n",
       "      <th>unit_id</th>\n",
       "      <th>report_created</th>\n",
       "      <th>location</th>\n",
       "      <th>police_district</th>\n",
       "      <th>beat</th>\n",
       "      <th>grid</th>\n",
       "      <th>x_coordinate</th>\n",
       "      <th>y_coordinate</th>\n",
       "      <th>day_of_week</th>\n",
       "      <th>occurence_datetime</th>\n",
       "      <th>received_datetime</th>\n",
       "      <th>dispatch_datetime</th>\n",
       "      <th>enroute_datetime</th>\n",
       "      <th>at_scene_datetime</th>\n",
       "      <th>clear_datetime</th>\n",
       "      <th>date</th>\n",
       "      <th>time</th>\n",
       "    </tr>\n",
       "  </thead>\n",
       "  <tbody>\n",
       "    <tr>\n",
       "      <th>0</th>\n",
       "      <td>-121.505698</td>\n",
       "      <td>38.596674</td>\n",
       "      <td>1</td>\n",
       "      <td>7799679</td>\n",
       "      <td>AU</td>\n",
       "      <td>ALL UNITS BROADCAST</td>\n",
       "      <td>NaN</td>\n",
       "      <td>NaN</td>\n",
       "      <td>N</td>\n",
       "      <td>JIBBOOM ST / RICHARDS BLVD</td>\n",
       "      <td>3</td>\n",
       "      <td>3A</td>\n",
       "      <td>0721</td>\n",
       "      <td>6702937</td>\n",
       "      <td>1979502</td>\n",
       "      <td>Wed</td>\n",
       "      <td>2020-01-01 22:40:45</td>\n",
       "      <td>2020/01/01 22:40:45+00</td>\n",
       "      <td>1970/01/01 00:00:00+00</td>\n",
       "      <td>1970/01/01 00:00:00+00</td>\n",
       "      <td>1970/01/01 00:00:00+00</td>\n",
       "      <td>2020/01/01 22:52:52+00</td>\n",
       "      <td>2020-01-01</td>\n",
       "      <td>22:40:45</td>\n",
       "    </tr>\n",
       "    <tr>\n",
       "      <th>1</th>\n",
       "      <td>-121.524610</td>\n",
       "      <td>38.631335</td>\n",
       "      <td>2</td>\n",
       "      <td>7799603</td>\n",
       "      <td>952</td>\n",
       "      <td>INCOMPLETE CALL FOR POLICE</td>\n",
       "      <td>529</td>\n",
       "      <td>1B16</td>\n",
       "      <td>N</td>\n",
       "      <td>3419 LOGGERHEAD WAY</td>\n",
       "      <td>1</td>\n",
       "      <td>1A</td>\n",
       "      <td>0344</td>\n",
       "      <td>6697466</td>\n",
       "      <td>1992096</td>\n",
       "      <td>Wed</td>\n",
       "      <td>2020-01-01 21:24:21</td>\n",
       "      <td>2020/01/01 21:24:21+00</td>\n",
       "      <td>2020/01/01 21:39:35+00</td>\n",
       "      <td>2020/01/01 21:39:41+00</td>\n",
       "      <td>1970/01/01 00:00:00+00</td>\n",
       "      <td>2020/01/01 21:40:04+00</td>\n",
       "      <td>2020-01-01</td>\n",
       "      <td>21:24:21</td>\n",
       "    </tr>\n",
       "    <tr>\n",
       "      <th>2</th>\n",
       "      <td>-121.430754</td>\n",
       "      <td>38.616285</td>\n",
       "      <td>3</td>\n",
       "      <td>7799929</td>\n",
       "      <td>996</td>\n",
       "      <td>FOUND PROPERTY</td>\n",
       "      <td>283</td>\n",
       "      <td>RT31</td>\n",
       "      <td>N</td>\n",
       "      <td>2700 ACADEMY WAY</td>\n",
       "      <td>2</td>\n",
       "      <td>2B</td>\n",
       "      <td>0556</td>\n",
       "      <td>6724311</td>\n",
       "      <td>1986769</td>\n",
       "      <td>Wed</td>\n",
       "      <td>2020-01-02 02:47:07</td>\n",
       "      <td>2020/01/02 02:47:07+00</td>\n",
       "      <td>2020/01/02 02:47:07+00</td>\n",
       "      <td>2020/01/02 02:47:07+00</td>\n",
       "      <td>2020/01/02 02:47:07+00</td>\n",
       "      <td>2020/01/02 02:48:43+00</td>\n",
       "      <td>2020-01-02</td>\n",
       "      <td>02:47:07</td>\n",
       "    </tr>\n",
       "    <tr>\n",
       "      <th>3</th>\n",
       "      <td>-121.505159</td>\n",
       "      <td>38.655728</td>\n",
       "      <td>4</td>\n",
       "      <td>7800047</td>\n",
       "      <td>ALMSEC</td>\n",
       "      <td>ALARM-SECURE NO EVID OF CRIME</td>\n",
       "      <td>0904</td>\n",
       "      <td>1C19</td>\n",
       "      <td>N</td>\n",
       "      <td>1912 DEL PASO RD</td>\n",
       "      <td>1</td>\n",
       "      <td>1A</td>\n",
       "      <td>0306</td>\n",
       "      <td>6702974</td>\n",
       "      <td>2001009</td>\n",
       "      <td>Wed</td>\n",
       "      <td>2020-01-02 00:47:12</td>\n",
       "      <td>2020/01/02 00:47:12+00</td>\n",
       "      <td>2020/01/02 03:24:19+00</td>\n",
       "      <td>2020/01/02 03:24:19+00</td>\n",
       "      <td>2020/01/02 05:12:24+00</td>\n",
       "      <td>2020/01/02 05:17:31+00</td>\n",
       "      <td>2020-01-02</td>\n",
       "      <td>00:47:12</td>\n",
       "    </tr>\n",
       "    <tr>\n",
       "      <th>4</th>\n",
       "      <td>-121.431055</td>\n",
       "      <td>38.638155</td>\n",
       "      <td>5</td>\n",
       "      <td>7807163</td>\n",
       "      <td>503RPT</td>\n",
       "      <td>STOLEN VEHICLE-REPORT</td>\n",
       "      <td>6231</td>\n",
       "      <td>NaN</td>\n",
       "      <td>N</td>\n",
       "      <td>1544 HARRIS AVE</td>\n",
       "      <td>2</td>\n",
       "      <td>2A</td>\n",
       "      <td>0505</td>\n",
       "      <td>6724175</td>\n",
       "      <td>1994733</td>\n",
       "      <td>Wed</td>\n",
       "      <td>2020-01-01 10:56:25</td>\n",
       "      <td>2020/01/01 10:56:25+00</td>\n",
       "      <td>1970/01/01 00:00:00+00</td>\n",
       "      <td>1970/01/01 00:00:00+00</td>\n",
       "      <td>1970/01/01 00:00:00+00</td>\n",
       "      <td>2020/01/01 20:29:09+00</td>\n",
       "      <td>2020-01-01</td>\n",
       "      <td>10:56:25</td>\n",
       "    </tr>\n",
       "  </tbody>\n",
       "</table>\n",
       "</div>"
      ],
      "text/plain": [
       "            x          y fid record_id call_type  \\\n",
       "0 -121.505698  38.596674   1   7799679        AU   \n",
       "1 -121.524610  38.631335   2   7799603       952   \n",
       "2 -121.430754  38.616285   3   7799929       996   \n",
       "3 -121.505159  38.655728   4   7800047    ALMSEC   \n",
       "4 -121.431055  38.638155   5   7807163    503RPT   \n",
       "\n",
       "                     description reporting_officer unit_id report_created  \\\n",
       "0            ALL UNITS BROADCAST               NaN     NaN              N   \n",
       "1     INCOMPLETE CALL FOR POLICE               529    1B16              N   \n",
       "2                 FOUND PROPERTY               283    RT31              N   \n",
       "3  ALARM-SECURE NO EVID OF CRIME              0904    1C19              N   \n",
       "4          STOLEN VEHICLE-REPORT              6231     NaN              N   \n",
       "\n",
       "                     location police_district beat  grid x_coordinate  \\\n",
       "0  JIBBOOM ST / RICHARDS BLVD               3   3A  0721      6702937   \n",
       "1         3419 LOGGERHEAD WAY               1   1A  0344      6697466   \n",
       "2            2700 ACADEMY WAY               2   2B  0556      6724311   \n",
       "3            1912 DEL PASO RD               1   1A  0306      6702974   \n",
       "4             1544 HARRIS AVE               2   2A  0505      6724175   \n",
       "\n",
       "  y_coordinate day_of_week  occurence_datetime       received_datetime  \\\n",
       "0      1979502         Wed 2020-01-01 22:40:45  2020/01/01 22:40:45+00   \n",
       "1      1992096         Wed 2020-01-01 21:24:21  2020/01/01 21:24:21+00   \n",
       "2      1986769         Wed 2020-01-02 02:47:07  2020/01/02 02:47:07+00   \n",
       "3      2001009         Wed 2020-01-02 00:47:12  2020/01/02 00:47:12+00   \n",
       "4      1994733         Wed 2020-01-01 10:56:25  2020/01/01 10:56:25+00   \n",
       "\n",
       "        dispatch_datetime        enroute_datetime       at_scene_datetime  \\\n",
       "0  1970/01/01 00:00:00+00  1970/01/01 00:00:00+00  1970/01/01 00:00:00+00   \n",
       "1  2020/01/01 21:39:35+00  2020/01/01 21:39:41+00  1970/01/01 00:00:00+00   \n",
       "2  2020/01/02 02:47:07+00  2020/01/02 02:47:07+00  2020/01/02 02:47:07+00   \n",
       "3  2020/01/02 03:24:19+00  2020/01/02 03:24:19+00  2020/01/02 05:12:24+00   \n",
       "4  1970/01/01 00:00:00+00  1970/01/01 00:00:00+00  1970/01/01 00:00:00+00   \n",
       "\n",
       "           clear_datetime        date      time  \n",
       "0  2020/01/01 22:52:52+00  2020-01-01  22:40:45  \n",
       "1  2020/01/01 21:40:04+00  2020-01-01  21:24:21  \n",
       "2  2020/01/02 02:48:43+00  2020-01-02  02:47:07  \n",
       "3  2020/01/02 05:17:31+00  2020-01-02  00:47:12  \n",
       "4  2020/01/01 20:29:09+00  2020-01-01  10:56:25  "
      ]
     },
     "execution_count": 55,
     "metadata": {},
     "output_type": "execute_result"
    }
   ],
   "source": [
    "df_sac.head()"
   ]
  },
  {
   "cell_type": "code",
   "execution_count": 56,
   "metadata": {},
   "outputs": [
    {
     "data": {
      "text/plain": [
       "2019367"
      ]
     },
     "execution_count": 56,
     "metadata": {},
     "output_type": "execute_result"
    }
   ],
   "source": [
    "len(df_sac)"
   ]
  },
  {
   "cell_type": "markdown",
   "metadata": {},
   "source": [
    "#### Export"
   ]
  },
  {
   "cell_type": "code",
   "execution_count": 57,
   "metadata": {},
   "outputs": [],
   "source": [
    "df_sac.to_csv('/Users/mhustiles/data/data/LA/calls/sacramento/sacramento.csv', index=None)"
   ]
  },
  {
   "cell_type": "markdown",
   "metadata": {},
   "source": [
    "---"
   ]
  },
  {
   "cell_type": "markdown",
   "metadata": {},
   "source": [
    "## Santa Monica"
   ]
  },
  {
   "cell_type": "code",
   "execution_count": 58,
   "metadata": {},
   "outputs": [],
   "source": [
    "# https://data.smgov.net/Public-Safety/Police-Calls-for-Service/ia9m-wspt\n",
    "sm_df = pd.read_csv('/Users/mhustiles/data/data/LA/calls/santa_monica/Police_Calls_for_Service.csv', low_memory=False)"
   ]
  },
  {
   "cell_type": "code",
   "execution_count": 59,
   "metadata": {},
   "outputs": [
    {
     "name": "stderr",
     "output_type": "stream",
     "text": [
      "/Users/mhustiles/.virtualenvs/notebooks-hnoN6uG0/lib/python3.7/site-packages/ipykernel_launcher.py:2: FutureWarning: The default value of regex will change from True to False in a future version. In addition, single character regular expressions will*not* be treated as literal strings when regex=True.\n",
      "  \n"
     ]
    }
   ],
   "source": [
    "sm_df.columns = sm_df.columns.str.strip().str.lower().str.replace(' ','_')\\\n",
    "    .str.replace('(', '').str.replace(')', '').str.replace('/','_')"
   ]
  },
  {
   "cell_type": "markdown",
   "metadata": {},
   "source": [
    "#### Clean up headers and dates"
   ]
  },
  {
   "cell_type": "code",
   "execution_count": 60,
   "metadata": {},
   "outputs": [],
   "source": [
    "sm_df['received_time'] = pd.to_datetime(sm_df['received_time'], format='%m/%d/%Y %H:%M:%S %p')"
   ]
  },
  {
   "cell_type": "code",
   "execution_count": 61,
   "metadata": {},
   "outputs": [],
   "source": [
    "sm_df['date'] = sm_df['received_time'].dt.date\n",
    "sm_df['time'] = sm_df['received_time'].dt.time"
   ]
  },
  {
   "cell_type": "code",
   "execution_count": 62,
   "metadata": {},
   "outputs": [
    {
     "data": {
      "text/html": [
       "<div>\n",
       "<style scoped>\n",
       "    .dataframe tbody tr th:only-of-type {\n",
       "        vertical-align: middle;\n",
       "    }\n",
       "\n",
       "    .dataframe tbody tr th {\n",
       "        vertical-align: top;\n",
       "    }\n",
       "\n",
       "    .dataframe thead th {\n",
       "        text-align: right;\n",
       "    }\n",
       "</style>\n",
       "<table border=\"1\" class=\"dataframe\">\n",
       "  <thead>\n",
       "    <tr style=\"text-align: right;\">\n",
       "      <th></th>\n",
       "      <th>incident_number</th>\n",
       "      <th>call_type</th>\n",
       "      <th>incident_date</th>\n",
       "      <th>location</th>\n",
       "      <th>beat</th>\n",
       "      <th>reporting_district</th>\n",
       "      <th>received_time</th>\n",
       "      <th>cleared_time</th>\n",
       "      <th>disposition</th>\n",
       "      <th>latitude</th>\n",
       "      <th>longitude</th>\n",
       "      <th>map_point</th>\n",
       "      <th>census_block_2000_geoid</th>\n",
       "      <th>census_tract_2000_geoid</th>\n",
       "      <th>census_block_2010_geoid</th>\n",
       "      <th>census_tract_2010_geoid</th>\n",
       "      <th>date</th>\n",
       "      <th>time</th>\n",
       "    </tr>\n",
       "  </thead>\n",
       "  <tbody>\n",
       "    <tr>\n",
       "      <th>0</th>\n",
       "      <td>0000000+0</td>\n",
       "      <td>Disturbance at a Business</td>\n",
       "      <td>06/15/2008</td>\n",
       "      <td>300BLK WILSHIRE BLVD</td>\n",
       "      <td>A003</td>\n",
       "      <td>03A1</td>\n",
       "      <td>2008-06-15 03:24:24</td>\n",
       "      <td>06/15/2008 04:25:57 PM</td>\n",
       "      <td>Arrest</td>\n",
       "      <td>34.018684</td>\n",
       "      <td>-118.498718</td>\n",
       "      <td>(34.018683505093, -118.49871764276)</td>\n",
       "      <td>6.037702e+13</td>\n",
       "      <td>6.037702e+09</td>\n",
       "      <td>NaN</td>\n",
       "      <td>NaN</td>\n",
       "      <td>2008-06-15</td>\n",
       "      <td>03:24:24</td>\n",
       "    </tr>\n",
       "    <tr>\n",
       "      <th>1</th>\n",
       "      <td>000000000</td>\n",
       "      <td>Theft Suspect in Custody</td>\n",
       "      <td>08/05/2008</td>\n",
       "      <td>300BLK COLORADO AVE</td>\n",
       "      <td>A003</td>\n",
       "      <td>12F1</td>\n",
       "      <td>2008-08-05 08:11:40</td>\n",
       "      <td>08/06/2008 02:51:09 AM</td>\n",
       "      <td>Arrest</td>\n",
       "      <td>34.013351</td>\n",
       "      <td>-118.492491</td>\n",
       "      <td>(34.013351216062, -118.49249072852)</td>\n",
       "      <td>6.037702e+13</td>\n",
       "      <td>6.037702e+09</td>\n",
       "      <td>NaN</td>\n",
       "      <td>NaN</td>\n",
       "      <td>2008-08-05</td>\n",
       "      <td>08:11:40</td>\n",
       "    </tr>\n",
       "    <tr>\n",
       "      <th>2</th>\n",
       "      <td>0000000D0</td>\n",
       "      <td>Battery Now</td>\n",
       "      <td>05/03/2007</td>\n",
       "      <td>1400BLK OLYMPIC BLVD</td>\n",
       "      <td>0006</td>\n",
       "      <td>006B</td>\n",
       "      <td>2007-05-03 02:00:36</td>\n",
       "      <td>05/03/2007 05:01:14 PM</td>\n",
       "      <td>Other</td>\n",
       "      <td>34.019723</td>\n",
       "      <td>-118.480514</td>\n",
       "      <td>(34.019723295419, -118.480514236158)</td>\n",
       "      <td>6.037702e+13</td>\n",
       "      <td>6.037702e+09</td>\n",
       "      <td>NaN</td>\n",
       "      <td>NaN</td>\n",
       "      <td>2007-05-03</td>\n",
       "      <td>02:00:36</td>\n",
       "    </tr>\n",
       "    <tr>\n",
       "      <th>3</th>\n",
       "      <td>060000001</td>\n",
       "      <td>Party Complaint</td>\n",
       "      <td>01/01/2006</td>\n",
       "      <td>1000BLK 20TH ST</td>\n",
       "      <td>0005</td>\n",
       "      <td>005D</td>\n",
       "      <td>2006-01-01 12:02:03</td>\n",
       "      <td>01/01/2006 12:41:38 AM</td>\n",
       "      <td>Advisal</td>\n",
       "      <td>34.033427</td>\n",
       "      <td>-118.485564</td>\n",
       "      <td>(34.033426730853, -118.48556375277)</td>\n",
       "      <td>6.037702e+13</td>\n",
       "      <td>6.037702e+09</td>\n",
       "      <td>NaN</td>\n",
       "      <td>NaN</td>\n",
       "      <td>2006-01-01</td>\n",
       "      <td>12:02:03</td>\n",
       "    </tr>\n",
       "    <tr>\n",
       "      <th>4</th>\n",
       "      <td>060000003</td>\n",
       "      <td>Municipal Code Violation</td>\n",
       "      <td>01/01/2006</td>\n",
       "      <td>800BLK PACIFIC ST</td>\n",
       "      <td>0007</td>\n",
       "      <td>007A</td>\n",
       "      <td>2006-01-01 12:04:34</td>\n",
       "      <td>01/01/2006 12:30:47 AM</td>\n",
       "      <td>Checks Okay</td>\n",
       "      <td>34.010268</td>\n",
       "      <td>-118.480374</td>\n",
       "      <td>(34.010267744622, -118.480374045543)</td>\n",
       "      <td>6.037702e+13</td>\n",
       "      <td>6.037702e+09</td>\n",
       "      <td>NaN</td>\n",
       "      <td>NaN</td>\n",
       "      <td>2006-01-01</td>\n",
       "      <td>12:04:34</td>\n",
       "    </tr>\n",
       "  </tbody>\n",
       "</table>\n",
       "</div>"
      ],
      "text/plain": [
       "  incident_number                  call_type incident_date  \\\n",
       "0       0000000+0  Disturbance at a Business    06/15/2008   \n",
       "1       000000000   Theft Suspect in Custody    08/05/2008   \n",
       "2       0000000D0                Battery Now    05/03/2007   \n",
       "3       060000001            Party Complaint    01/01/2006   \n",
       "4       060000003   Municipal Code Violation    01/01/2006   \n",
       "\n",
       "               location  beat reporting_district       received_time  \\\n",
       "0  300BLK WILSHIRE BLVD  A003               03A1 2008-06-15 03:24:24   \n",
       "1   300BLK COLORADO AVE  A003               12F1 2008-08-05 08:11:40   \n",
       "2  1400BLK OLYMPIC BLVD  0006               006B 2007-05-03 02:00:36   \n",
       "3       1000BLK 20TH ST  0005               005D 2006-01-01 12:02:03   \n",
       "4     800BLK PACIFIC ST  0007               007A 2006-01-01 12:04:34   \n",
       "\n",
       "             cleared_time  disposition   latitude   longitude  \\\n",
       "0  06/15/2008 04:25:57 PM       Arrest  34.018684 -118.498718   \n",
       "1  08/06/2008 02:51:09 AM       Arrest  34.013351 -118.492491   \n",
       "2  05/03/2007 05:01:14 PM        Other  34.019723 -118.480514   \n",
       "3  01/01/2006 12:41:38 AM      Advisal  34.033427 -118.485564   \n",
       "4  01/01/2006 12:30:47 AM  Checks Okay  34.010268 -118.480374   \n",
       "\n",
       "                              map_point  census_block_2000_geoid  \\\n",
       "0   (34.018683505093, -118.49871764276)             6.037702e+13   \n",
       "1   (34.013351216062, -118.49249072852)             6.037702e+13   \n",
       "2  (34.019723295419, -118.480514236158)             6.037702e+13   \n",
       "3   (34.033426730853, -118.48556375277)             6.037702e+13   \n",
       "4  (34.010267744622, -118.480374045543)             6.037702e+13   \n",
       "\n",
       "   census_tract_2000_geoid  census_block_2010_geoid  census_tract_2010_geoid  \\\n",
       "0             6.037702e+09                      NaN                      NaN   \n",
       "1             6.037702e+09                      NaN                      NaN   \n",
       "2             6.037702e+09                      NaN                      NaN   \n",
       "3             6.037702e+09                      NaN                      NaN   \n",
       "4             6.037702e+09                      NaN                      NaN   \n",
       "\n",
       "         date      time  \n",
       "0  2008-06-15  03:24:24  \n",
       "1  2008-08-05  08:11:40  \n",
       "2  2007-05-03  02:00:36  \n",
       "3  2006-01-01  12:02:03  \n",
       "4  2006-01-01  12:04:34  "
      ]
     },
     "execution_count": 62,
     "metadata": {},
     "output_type": "execute_result"
    }
   ],
   "source": [
    "sm_df.head()"
   ]
  },
  {
   "cell_type": "code",
   "execution_count": 63,
   "metadata": {},
   "outputs": [
    {
     "data": {
      "text/plain": [
       "1696503"
      ]
     },
     "execution_count": 63,
     "metadata": {},
     "output_type": "execute_result"
    }
   ],
   "source": [
    "len(sm_df)"
   ]
  },
  {
   "cell_type": "markdown",
   "metadata": {},
   "source": [
    "#### Export"
   ]
  },
  {
   "cell_type": "code",
   "execution_count": 64,
   "metadata": {},
   "outputs": [],
   "source": [
    "sm_df.to_csv('/Users/mhustiles/data/data/LA/calls/santa_monica/santa_monica.csv', index=None)"
   ]
  },
  {
   "cell_type": "markdown",
   "metadata": {},
   "source": [
    "---"
   ]
  },
  {
   "cell_type": "markdown",
   "metadata": {},
   "source": [
    "## How many records do we have?"
   ]
  },
  {
   "cell_type": "code",
   "execution_count": 65,
   "metadata": {},
   "outputs": [
    {
     "ename": "NameError",
     "evalue": "name 'la_df' is not defined",
     "output_type": "error",
     "traceback": [
      "\u001b[0;31m---------------------------------------------------------------------------\u001b[0m",
      "\u001b[0;31mNameError\u001b[0m                                 Traceback (most recent call last)",
      "\u001b[0;32m<ipython-input-65-7effd01ef74c>\u001b[0m in \u001b[0;36m<module>\u001b[0;34m\u001b[0m\n\u001b[0;32m----> 1\u001b[0;31m \u001b[0mlen\u001b[0m\u001b[0;34m(\u001b[0m\u001b[0msm_df\u001b[0m\u001b[0;34m)\u001b[0m \u001b[0;34m+\u001b[0m \u001b[0mlen\u001b[0m\u001b[0;34m(\u001b[0m\u001b[0mdf_sac\u001b[0m\u001b[0;34m)\u001b[0m \u001b[0;34m+\u001b[0m \u001b[0mlen\u001b[0m\u001b[0;34m(\u001b[0m\u001b[0mdf_sf\u001b[0m\u001b[0;34m)\u001b[0m \u001b[0;34m+\u001b[0m \u001b[0mlen\u001b[0m\u001b[0;34m(\u001b[0m\u001b[0msj_df\u001b[0m\u001b[0;34m)\u001b[0m \u001b[0;34m+\u001b[0m \u001b[0mlen\u001b[0m\u001b[0;34m(\u001b[0m\u001b[0msd_df\u001b[0m\u001b[0;34m)\u001b[0m \u001b[0;34m+\u001b[0m \u001b[0mlen\u001b[0m\u001b[0;34m(\u001b[0m\u001b[0mla_df\u001b[0m\u001b[0;34m)\u001b[0m\u001b[0;34m\u001b[0m\u001b[0;34m\u001b[0m\u001b[0m\n\u001b[0m",
      "\u001b[0;31mNameError\u001b[0m: name 'la_df' is not defined"
     ]
    }
   ],
   "source": [
    "len(sm_df) + len(df_sac) + len(df_sf) + len(sj_df) + len(sd_df) + len(la_df)"
   ]
  }
 ],
 "metadata": {
  "kernelspec": {
   "display_name": "Python 3 (ipykernel)",
   "language": "python",
   "name": "python3"
  },
  "language_info": {
   "codemirror_mode": {
    "name": "ipython",
    "version": 3
   },
   "file_extension": ".py",
   "mimetype": "text/x-python",
   "name": "python",
   "nbconvert_exporter": "python",
   "pygments_lexer": "ipython3",
   "version": "3.8.11"
  }
 },
 "nbformat": 4,
 "nbformat_minor": 4
}
