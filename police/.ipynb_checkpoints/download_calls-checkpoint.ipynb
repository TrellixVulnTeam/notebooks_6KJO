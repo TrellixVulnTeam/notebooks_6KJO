{
 "cells": [
  {
   "cell_type": "markdown",
   "metadata": {},
   "source": [
    "# LAPD calls for service"
   ]
  },
  {
   "cell_type": "code",
   "execution_count": 1,
   "metadata": {},
   "outputs": [],
   "source": [
    "%load_ext lab_black"
   ]
  },
  {
   "cell_type": "code",
   "execution_count": 2,
   "metadata": {},
   "outputs": [],
   "source": [
    "import json\n",
    "import glob\n",
    "import io\n",
    "import os\n",
    "import pandas as pd\n",
    "import numpy as np\n",
    "import altair as alt\n",
    "import altair_latimes as lat\n",
    "\n",
    "pd.options.display.max_columns = 50\n",
    "pd.options.display.max_rows = 50"
   ]
  },
  {
   "cell_type": "markdown",
   "metadata": {},
   "source": [
    "### URL codes for City of LA open data portal"
   ]
  },
  {
   "cell_type": "code",
   "execution_count": 3,
   "metadata": {},
   "outputs": [],
   "source": [
    "codes = [\n",
    "    \"r4ka-x5je\",\n",
    "    \"nayp-w2tw\",\n",
    "    \"ryvm-a59m\",\n",
    "    \"xwgr-xw5q\",\n",
    "    \"tss8-455b\",\n",
    "    \"mgue-vbsx\",\n",
    "    \"urhh-yf63\",\n",
    "    \"i7pm-cnmm\",\n",
    "    \"4tmc-7r6g\",\n",
    "    \"iy4q-t9vr\",\n",
    "]"
   ]
  },
  {
   "cell_type": "markdown",
   "metadata": {},
   "source": [
    "### Download historic csvs from data portal by looping over codes"
   ]
  },
  {
   "cell_type": "code",
   "execution_count": 4,
   "metadata": {},
   "outputs": [],
   "source": [
    "# for c in codes:\n",
    "#     !wget 'https://data.lacity.org/api/views/{c}/rows.csv?accessType=DOWNLOAD' \\\n",
    "#     -P /Users/mhustiles/data/LAPD/"
   ]
  },
  {
   "cell_type": "markdown",
   "metadata": {},
   "source": [
    "### Read the most recent year of calls"
   ]
  },
  {
   "cell_type": "code",
   "execution_count": 5,
   "metadata": {},
   "outputs": [],
   "source": [
    "dtypes = {\"Incident_Number\": str, \"Area_Occ\": str, \"Rpt_Dist\": str}\n",
    "\n",
    "la_current = pd.read_csv(\n",
    "    \"https://data.lacity.org/api/views/cibt-wiru/rows.csv?accessType=DOWNLOAD\",\n",
    "    dtype=dtypes,\n",
    "    parse_dates=True,\n",
    ")"
   ]
  },
  {
   "cell_type": "markdown",
   "metadata": {},
   "source": [
    "### Read the files for past years"
   ]
  },
  {
   "cell_type": "code",
   "execution_count": 6,
   "metadata": {},
   "outputs": [],
   "source": [
    "path = \"/Users/mhustiles/data/LAPD/calls-for-service/\"\n",
    "files = glob.glob(os.path.join(path, \"*.csv\"))"
   ]
  },
  {
   "cell_type": "code",
   "execution_count": 7,
   "metadata": {},
   "outputs": [],
   "source": [
    "file_df = (\n",
    "    pd.read_csv(f, encoding=\"ISO-8859-1\", low_memory=False).assign(\n",
    "        year=os.path.basename(f)\n",
    "    )\n",
    "    for f in files\n",
    ")"
   ]
  },
  {
   "cell_type": "markdown",
   "metadata": {},
   "source": [
    "### Concatenate everything"
   ]
  },
  {
   "cell_type": "code",
   "execution_count": 8,
   "metadata": {},
   "outputs": [],
   "source": [
    "la_past = pd.concat(file_df, ignore_index=True)"
   ]
  },
  {
   "cell_type": "code",
   "execution_count": 9,
   "metadata": {},
   "outputs": [],
   "source": [
    "df = pd.concat([la_current, la_past]).drop([\"year\"], axis=1)"
   ]
  },
  {
   "cell_type": "markdown",
   "metadata": {},
   "source": [
    "### Clean up column names and dates/times"
   ]
  },
  {
   "cell_type": "code",
   "execution_count": 10,
   "metadata": {},
   "outputs": [],
   "source": [
    "df.rename(\n",
    "    columns={\n",
    "        \"Incident_Number\": \"incident_id\",\n",
    "        \"Area_Occ\": \"area\",\n",
    "        \"Rpt_Dist\": \"district\",\n",
    "        \"Dispatch_Date\": \"datetime\",\n",
    "        \"Dispatch_Time\": \"time\",\n",
    "        \"Call_Type_Code\": \"type_code\",\n",
    "        \"Call_Type_Text\": \"type_description\",\n",
    "    },\n",
    "    inplace=True,\n",
    ")"
   ]
  },
  {
   "cell_type": "code",
   "execution_count": 11,
   "metadata": {},
   "outputs": [],
   "source": [
    "df[\"date\"] = df[\"datetime\"].str.replace(\" 12:00:00 AM\", \"\", regex=False)"
   ]
  },
  {
   "cell_type": "code",
   "execution_count": 12,
   "metadata": {},
   "outputs": [],
   "source": [
    "df[\"date\"] = pd.to_datetime(df[\"date\"], format=\"%m/%d/%Y\")\n",
    "df[\"time\"] = pd.to_datetime(df[\"time\"], format=\"%H:%M:%S\")"
   ]
  },
  {
   "cell_type": "code",
   "execution_count": 13,
   "metadata": {},
   "outputs": [],
   "source": [
    "df[\"year\"] = df[\"date\"].dt.year\n",
    "df[\"date\"] = df[\"date\"].dt.date\n",
    "df[\"time\"] = df[\"time\"].dt.time"
   ]
  },
  {
   "cell_type": "markdown",
   "metadata": {},
   "source": [
    "### How many records? "
   ]
  },
  {
   "cell_type": "code",
   "execution_count": 14,
   "metadata": {},
   "outputs": [
    {
     "data": {
      "text/plain": [
       "11893788"
      ]
     },
     "execution_count": 14,
     "metadata": {},
     "output_type": "execute_result"
    }
   ],
   "source": [
    "len(df)"
   ]
  },
  {
   "cell_type": "code",
   "execution_count": 15,
   "metadata": {},
   "outputs": [],
   "source": [
    "df.drop([\"datetime\"], axis=1, inplace=True)"
   ]
  },
  {
   "cell_type": "code",
   "execution_count": 16,
   "metadata": {},
   "outputs": [
    {
     "data": {
      "text/html": [
       "<div>\n",
       "<style scoped>\n",
       "    .dataframe tbody tr th:only-of-type {\n",
       "        vertical-align: middle;\n",
       "    }\n",
       "\n",
       "    .dataframe tbody tr th {\n",
       "        vertical-align: top;\n",
       "    }\n",
       "\n",
       "    .dataframe thead th {\n",
       "        text-align: right;\n",
       "    }\n",
       "</style>\n",
       "<table border=\"1\" class=\"dataframe\">\n",
       "  <thead>\n",
       "    <tr style=\"text-align: right;\">\n",
       "      <th></th>\n",
       "      <th>incident_id</th>\n",
       "      <th>area</th>\n",
       "      <th>district</th>\n",
       "      <th>time</th>\n",
       "      <th>type_code</th>\n",
       "      <th>type_description</th>\n",
       "      <th>date</th>\n",
       "      <th>year</th>\n",
       "    </tr>\n",
       "  </thead>\n",
       "  <tbody>\n",
       "    <tr>\n",
       "      <th>0</th>\n",
       "      <td>PD21051600004112</td>\n",
       "      <td>77th Street</td>\n",
       "      <td>1205</td>\n",
       "      <td>21:00:37</td>\n",
       "      <td>9212</td>\n",
       "      <td>TRESPASS SUSP</td>\n",
       "      <td>2021-05-16</td>\n",
       "      <td>2021</td>\n",
       "    </tr>\n",
       "    <tr>\n",
       "      <th>1</th>\n",
       "      <td>PD21021200001741</td>\n",
       "      <td>West LA</td>\n",
       "      <td>0829</td>\n",
       "      <td>10:57:16</td>\n",
       "      <td>906B1</td>\n",
       "      <td>CODE 30 RINGER</td>\n",
       "      <td>2021-02-12</td>\n",
       "      <td>2021</td>\n",
       "    </tr>\n",
       "    <tr>\n",
       "      <th>2</th>\n",
       "      <td>PD21040200002194</td>\n",
       "      <td>Hollywood</td>\n",
       "      <td>0642</td>\n",
       "      <td>13:24:20</td>\n",
       "      <td>459I</td>\n",
       "      <td>INVEST</td>\n",
       "      <td>2021-04-02</td>\n",
       "      <td>2021</td>\n",
       "    </tr>\n",
       "    <tr>\n",
       "      <th>3</th>\n",
       "      <td>PD21042300002656</td>\n",
       "      <td>Mission</td>\n",
       "      <td>1956</td>\n",
       "      <td>14:49:35</td>\n",
       "      <td>006</td>\n",
       "      <td>CODE 6</td>\n",
       "      <td>2021-04-23</td>\n",
       "      <td>2021</td>\n",
       "    </tr>\n",
       "    <tr>\n",
       "      <th>4</th>\n",
       "      <td>PD21040500001095</td>\n",
       "      <td>Hollenbeck</td>\n",
       "      <td>0448</td>\n",
       "      <td>08:11:59</td>\n",
       "      <td>459I</td>\n",
       "      <td>INVEST</td>\n",
       "      <td>2021-04-05</td>\n",
       "      <td>2021</td>\n",
       "    </tr>\n",
       "  </tbody>\n",
       "</table>\n",
       "</div>"
      ],
      "text/plain": [
       "        incident_id         area district      time type_code  \\\n",
       "0  PD21051600004112  77th Street     1205  21:00:37      9212   \n",
       "1  PD21021200001741      West LA     0829  10:57:16     906B1   \n",
       "2  PD21040200002194    Hollywood     0642  13:24:20      459I   \n",
       "3  PD21042300002656      Mission     1956  14:49:35       006   \n",
       "4  PD21040500001095   Hollenbeck     0448  08:11:59      459I   \n",
       "\n",
       "  type_description        date  year  \n",
       "0    TRESPASS SUSP  2021-05-16  2021  \n",
       "1   CODE 30 RINGER  2021-02-12  2021  \n",
       "2           INVEST  2021-04-02  2021  \n",
       "3           CODE 6  2021-04-23  2021  \n",
       "4           INVEST  2021-04-05  2021  "
      ]
     },
     "execution_count": 16,
     "metadata": {},
     "output_type": "execute_result"
    }
   ],
   "source": [
    "df.head()"
   ]
  },
  {
   "cell_type": "markdown",
   "metadata": {},
   "source": [
    "---"
   ]
  },
  {
   "cell_type": "markdown",
   "metadata": {},
   "source": [
    "### Domestic violence cases"
   ]
  },
  {
   "cell_type": "code",
   "execution_count": 17,
   "metadata": {},
   "outputs": [],
   "source": [
    "domestic = df[(df[\"type_description\"].str.contains(\"DOM VIOL\")) & (df[\"year\"] > 2016)]"
   ]
  },
  {
   "cell_type": "code",
   "execution_count": 18,
   "metadata": {},
   "outputs": [
    {
     "data": {
      "text/plain": [
       "201356"
      ]
     },
     "execution_count": 18,
     "metadata": {},
     "output_type": "execute_result"
    }
   ],
   "source": [
    "len(domestic)"
   ]
  },
  {
   "cell_type": "code",
   "execution_count": 19,
   "metadata": {},
   "outputs": [],
   "source": [
    "domestic_grouped = (\n",
    "    domestic.groupby([\"year\", \"area\"]).agg({\"incident_id\": \"count\"}).reset_index()\n",
    ")"
   ]
  },
  {
   "cell_type": "markdown",
   "metadata": {},
   "source": [
    "### Export"
   ]
  },
  {
   "cell_type": "code",
   "execution_count": 20,
   "metadata": {},
   "outputs": [],
   "source": [
    "domestic.to_csv(\n",
    "    \"output/domestic_violence_calls_2017-2021.csv\",\n",
    "    index=None,\n",
    ")"
   ]
  },
  {
   "cell_type": "code",
   "execution_count": 21,
   "metadata": {},
   "outputs": [],
   "source": [
    "domestic_grouped.to_csv(\n",
    "    \"output/domestic_violence_calls_2017-2021_grouped.csv\",\n",
    "    index=None,\n",
    ")"
   ]
  }
 ],
 "metadata": {
  "kernelspec": {
   "display_name": "Python 3 (ipykernel)",
   "language": "python",
   "name": "python3"
  },
  "language_info": {
   "codemirror_mode": {
    "name": "ipython",
    "version": 3
   },
   "file_extension": ".py",
   "mimetype": "text/x-python",
   "name": "python",
   "nbconvert_exporter": "python",
   "pygments_lexer": "ipython3",
   "version": "3.8.11"
  }
 },
 "nbformat": 4,
 "nbformat_minor": 4
}
