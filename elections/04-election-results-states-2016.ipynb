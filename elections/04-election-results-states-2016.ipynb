{
 "cells": [
  {
   "cell_type": "markdown",
   "id": "8d8d0a7d-da1c-4eb3-8888-83f7313ca27c",
   "metadata": {},
   "source": [
    "# FEC: 2016 election results"
   ]
  },
  {
   "cell_type": "markdown",
   "id": "6d2cc002-7e40-42dd-8a3f-9ad7988eddf2",
   "metadata": {},
   "source": [
    "#### Import Python tools"
   ]
  },
  {
   "cell_type": "code",
   "execution_count": 1,
   "id": "73969e31-9d56-4bc9-baac-af8be15be176",
   "metadata": {},
   "outputs": [],
   "source": [
    "%load_ext lab_black"
   ]
  },
  {
   "cell_type": "code",
   "execution_count": 2,
   "id": "b79a65f5-784c-4bbb-85b7-d3ae8c81518e",
   "metadata": {},
   "outputs": [],
   "source": [
    "import pandas as pd\n",
    "import us"
   ]
  },
  {
   "cell_type": "code",
   "execution_count": 3,
   "id": "db8bcb16-5fae-44bc-b35a-dda8af7d69b4",
   "metadata": {
    "tags": []
   },
   "outputs": [],
   "source": [
    "pd.options.display.max_columns = 1000\n",
    "pd.options.display.max_rows = 1000"
   ]
  },
  {
   "cell_type": "markdown",
   "id": "ad46ec8b-852d-46b0-ad23-800a1b2d45b8",
   "metadata": {},
   "source": [
    "---"
   ]
  },
  {
   "cell_type": "markdown",
   "id": "13eea883-3b49-4896-848b-5555f81a9080",
   "metadata": {},
   "source": [
    "## Read data"
   ]
  },
  {
   "cell_type": "markdown",
   "id": "eb13c965-338e-493c-9e8c-6d17220b265e",
   "metadata": {},
   "source": [
    "#### Get spreadsheet with results from FEC"
   ]
  },
  {
   "cell_type": "code",
   "execution_count": 4,
   "id": "5b73a539-cc93-49b6-b629-223209ad453a",
   "metadata": {},
   "outputs": [],
   "source": [
    "sheet_name = \"Table 2. Electoral &  Pop Vote\""
   ]
  },
  {
   "cell_type": "code",
   "execution_count": 5,
   "id": "7cb9a981-92b3-4fdd-badd-0d2245600f50",
   "metadata": {},
   "outputs": [],
   "source": [
    "src = pd.read_excel(\n",
    "    \"https://www.fec.gov/documents/1890/federalelections2016.xlsx\",\n",
    "    sheet_name=sheet_name,\n",
    "    header=0,\n",
    "    skiprows=3,\n",
    "    names=[\n",
    "        \"name\",\n",
    "        \"gop_ec\",\n",
    "        \"dem_ec\",\n",
    "        \"gop_votes\",\n",
    "        \"dem_votes\",\n",
    "        \"other_votes\",\n",
    "        \"total_votes\",\n",
    "    ],\n",
    ").fillna(0)"
   ]
  },
  {
   "cell_type": "code",
   "execution_count": 6,
   "id": "48414560-403c-4dd0-9742-be95a22de724",
   "metadata": {},
   "outputs": [
    {
     "data": {
      "text/html": [
       "<div>\n",
       "<style scoped>\n",
       "    .dataframe tbody tr th:only-of-type {\n",
       "        vertical-align: middle;\n",
       "    }\n",
       "\n",
       "    .dataframe tbody tr th {\n",
       "        vertical-align: top;\n",
       "    }\n",
       "\n",
       "    .dataframe thead th {\n",
       "        text-align: right;\n",
       "    }\n",
       "</style>\n",
       "<table border=\"1\" class=\"dataframe\">\n",
       "  <thead>\n",
       "    <tr style=\"text-align: right;\">\n",
       "      <th></th>\n",
       "      <th>name</th>\n",
       "      <th>gop_ec</th>\n",
       "      <th>dem_ec</th>\n",
       "      <th>gop_votes</th>\n",
       "      <th>dem_votes</th>\n",
       "      <th>other_votes</th>\n",
       "      <th>total_votes</th>\n",
       "    </tr>\n",
       "  </thead>\n",
       "  <tbody>\n",
       "    <tr>\n",
       "      <th>0</th>\n",
       "      <td>AL</td>\n",
       "      <td>9</td>\n",
       "      <td>0</td>\n",
       "      <td>1318255.0</td>\n",
       "      <td>729547.0</td>\n",
       "      <td>75570.0</td>\n",
       "      <td>2123372.0</td>\n",
       "    </tr>\n",
       "    <tr>\n",
       "      <th>1</th>\n",
       "      <td>AK</td>\n",
       "      <td>3</td>\n",
       "      <td>0</td>\n",
       "      <td>163387.0</td>\n",
       "      <td>116454.0</td>\n",
       "      <td>38767.0</td>\n",
       "      <td>318608.0</td>\n",
       "    </tr>\n",
       "    <tr>\n",
       "      <th>2</th>\n",
       "      <td>AZ</td>\n",
       "      <td>11</td>\n",
       "      <td>0</td>\n",
       "      <td>1252401.0</td>\n",
       "      <td>1161167.0</td>\n",
       "      <td>159597.0</td>\n",
       "      <td>2573165.0</td>\n",
       "    </tr>\n",
       "    <tr>\n",
       "      <th>3</th>\n",
       "      <td>AR</td>\n",
       "      <td>6</td>\n",
       "      <td>0</td>\n",
       "      <td>684872.0</td>\n",
       "      <td>380494.0</td>\n",
       "      <td>65310.0</td>\n",
       "      <td>1130676.0</td>\n",
       "    </tr>\n",
       "    <tr>\n",
       "      <th>4</th>\n",
       "      <td>CA</td>\n",
       "      <td>0</td>\n",
       "      <td>55</td>\n",
       "      <td>4483814.0</td>\n",
       "      <td>8753792.0</td>\n",
       "      <td>943998.0</td>\n",
       "      <td>14181604.0</td>\n",
       "    </tr>\n",
       "  </tbody>\n",
       "</table>\n",
       "</div>"
      ],
      "text/plain": [
       "  name gop_ec dem_ec  gop_votes  dem_votes  other_votes  total_votes\n",
       "0   AL      9      0  1318255.0   729547.0      75570.0    2123372.0\n",
       "1   AK      3      0   163387.0   116454.0      38767.0     318608.0\n",
       "2   AZ     11      0  1252401.0  1161167.0     159597.0    2573165.0\n",
       "3   AR      6      0   684872.0   380494.0      65310.0    1130676.0\n",
       "4   CA      0     55  4483814.0  8753792.0     943998.0   14181604.0"
      ]
     },
     "execution_count": 6,
     "metadata": {},
     "output_type": "execute_result"
    }
   ],
   "source": [
    "src.head()"
   ]
  },
  {
   "cell_type": "code",
   "execution_count": 7,
   "id": "a24ebb35-6692-4375-8ddb-abdda71e2dae",
   "metadata": {},
   "outputs": [],
   "source": [
    "src[\"gop_vote_pct\"] = ((src[\"gop_votes\"] / src[\"total_votes\"]) * 100).round(2)\n",
    "src[\"dem_vote_pct\"] = ((src[\"dem_votes\"] / src[\"total_votes\"]) * 100).round(2)\n",
    "src[\"other_vote_pct\"] = ((src[\"other_votes\"] / src[\"total_votes\"]) * 100).round(2)"
   ]
  },
  {
   "cell_type": "code",
   "execution_count": 8,
   "id": "24d9787d-e9c9-42a6-a791-3d03e4cde4a5",
   "metadata": {},
   "outputs": [],
   "source": [
    "postal_to_name = us.states.mapping(\"abbr\", \"name\")"
   ]
  },
  {
   "cell_type": "code",
   "execution_count": 9,
   "id": "e58a4fda-9a60-4fcc-9671-a494ac2e599d",
   "metadata": {},
   "outputs": [],
   "source": [
    "src[\"state\"] = src[\"name\"].map(postal_to_name)"
   ]
  },
  {
   "cell_type": "code",
   "execution_count": 10,
   "id": "729d5fc0-6c47-4852-afe0-88b683e8c5a6",
   "metadata": {},
   "outputs": [],
   "source": [
    "df = src[\n",
    "    [\n",
    "        \"state\",\n",
    "        \"gop_vote_pct\",\n",
    "        \"dem_vote_pct\",\n",
    "        \"other_vote_pct\",\n",
    "    ]\n",
    "].copy()"
   ]
  },
  {
   "cell_type": "code",
   "execution_count": 11,
   "id": "f9cc8f48-daff-405d-8c87-a8e0d9913b47",
   "metadata": {},
   "outputs": [],
   "source": [
    "df[\"year\"] = \"2016\""
   ]
  },
  {
   "cell_type": "code",
   "execution_count": 12,
   "id": "ffad005e-b43c-4365-abf0-9a76cb26c8be",
   "metadata": {},
   "outputs": [],
   "source": [
    "df.to_csv(\"data/processed/2016_election_results_states_fec.csv\", index=False)"
   ]
  }
 ],
 "metadata": {
  "kernelspec": {
   "display_name": "Python 3 (ipykernel)",
   "language": "python",
   "name": "python3"
  },
  "language_info": {
   "codemirror_mode": {
    "name": "ipython",
    "version": 3
   },
   "file_extension": ".py",
   "mimetype": "text/x-python",
   "name": "python",
   "nbconvert_exporter": "python",
   "pygments_lexer": "ipython3",
   "version": "3.9.9"
  }
 },
 "nbformat": 4,
 "nbformat_minor": 5
}
