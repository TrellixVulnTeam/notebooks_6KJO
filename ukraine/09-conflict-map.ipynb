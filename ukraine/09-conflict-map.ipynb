{
 "cells": [
  {
   "cell_type": "code",
   "execution_count": 1,
   "id": "60ad4a5f-4869-4a1f-82ca-b3a292885207",
   "metadata": {},
   "outputs": [],
   "source": [
    "%load_ext lab_black"
   ]
  },
  {
   "cell_type": "code",
   "execution_count": 2,
   "id": "a10f6751-86ac-48c9-9466-de5cac3ab6fe",
   "metadata": {},
   "outputs": [],
   "source": [
    "import pandas as pd"
   ]
  },
  {
   "cell_type": "code",
   "execution_count": 3,
   "id": "74cfb382-671f-4d9e-970d-d8890dd62aff",
   "metadata": {},
   "outputs": [],
   "source": [
    "import urllib.request, json"
   ]
  },
  {
   "cell_type": "code",
   "execution_count": 4,
   "id": "a4b5f3b1-c309-4837-8080-d33b949bc6e1",
   "metadata": {},
   "outputs": [],
   "source": [
    "pd.options.display.max_columns = 1000\n",
    "pd.options.display.max_rows = 1000"
   ]
  },
  {
   "cell_type": "markdown",
   "id": "1f578fa6-afaa-4fcf-87ff-ecfece1fd3d4",
   "metadata": {},
   "source": [
    "### import data"
   ]
  },
  {
   "cell_type": "code",
   "execution_count": 5,
   "id": "d673700c-cc4c-4d0a-8e36-b84d5eff80d3",
   "metadata": {},
   "outputs": [],
   "source": [
    "all_url = (\n",
    "    \"https://raw.githubusercontent.com/OCHA-DAP/hdx-scraper-ukraine-viz/main/all.json\"\n",
    ")"
   ]
  },
  {
   "cell_type": "markdown",
   "id": "f918fe06-70bc-44a6-b458-68116b65580c",
   "metadata": {},
   "source": [
    "#### Read data"
   ]
  },
  {
   "cell_type": "code",
   "execution_count": 6,
   "id": "7b6a7bf6-4ff7-4e87-9323-e56a980e8926",
   "metadata": {},
   "outputs": [
    {
     "name": "stdout",
     "output_type": "stream",
     "text": [
      "dict_keys(['refugees_series_data', 'idps_macro_data', 'fatalities_data', 'regional_data', 'national_data', 'subnational_data', 'sources_data'])\n"
     ]
    }
   ],
   "source": [
    "import urllib.request, json\n",
    "\n",
    "with urllib.request.urlopen(all_url) as url:\n",
    "    data = json.loads(url.read().decode())\n",
    "    print(data.keys())"
   ]
  },
  {
   "cell_type": "markdown",
   "id": "0c59a4b7-2112-453e-82de-dce85972b3b7",
   "metadata": {},
   "source": [
    "#### Loop and create a list of dataframes"
   ]
  },
  {
   "cell_type": "code",
   "execution_count": 7,
   "id": "e0cfc742-5a0d-48aa-8458-9ceb218b7e2a",
   "metadata": {},
   "outputs": [],
   "source": [
    "dataframes = []\n",
    "\n",
    "for d in data.keys():\n",
    "    dataframes.append(pd.DataFrame(data[d]))"
   ]
  },
  {
   "cell_type": "markdown",
   "id": "d7d7ae8a-b99f-494e-84fd-e1c39a14c0e8",
   "metadata": {},
   "source": [
    "#### Create dataframes for each data source"
   ]
  },
  {
   "cell_type": "code",
   "execution_count": 8,
   "id": "dfd49d5f-9a8e-4f27-ad7b-9abe63913fe9",
   "metadata": {},
   "outputs": [],
   "source": [
    "refugees_series_data = dataframes[0]\n",
    "idps_macro_data = dataframes[1]\n",
    "fatalities_data = dataframes[2]\n",
    "national_data = dataframes[3]\n",
    "subnational_data = dataframes[4]\n",
    "sources_data = dataframes[5]"
   ]
  },
  {
   "cell_type": "markdown",
   "id": "50ebf4bc-42d2-4328-8397-27ab38d22ff6",
   "metadata": {},
   "source": [
    "#### Clean up the column names"
   ]
  },
  {
   "cell_type": "code",
   "execution_count": 9,
   "id": "0486fd31-7668-4214-a188-d88f184c6adf",
   "metadata": {},
   "outputs": [],
   "source": [
    "refugees_series_data.columns = refugees_series_data.columns.str.replace(\n",
    "    \"#\", \"\", regex=False\n",
    ").str.replace(\"+\", \"_\", regex=False)\n",
    "idps_macro_data.columns = idps_macro_data.columns.str.replace(\n",
    "    \"#\", \"\", regex=False\n",
    ").str.replace(\"+\", \"_\", regex=False)\n",
    "fatalities_data.columns = fatalities_data.columns.str.replace(\n",
    "    \"#\", \"\", regex=False\n",
    ").str.replace(\"+\", \"_\", regex=False)\n",
    "national_data.columns = national_data.columns.str.replace(\n",
    "    \"#\", \"\", regex=False\n",
    ").str.replace(\"+\", \"_\", regex=False)\n",
    "subnational_data.columns = subnational_data.columns.str.replace(\n",
    "    \"#\", \"\", regex=False\n",
    ").str.replace(\"+\", \"_\", regex=False)\n",
    "sources_data.columns = sources_data.columns.str.replace(\n",
    "    \"#\", \"\", regex=False\n",
    ").str.replace(\"+\", \"_\", regex=False)"
   ]
  },
  {
   "cell_type": "code",
   "execution_count": null,
   "id": "095e43d9-0069-465e-9531-e86d66a7af83",
   "metadata": {},
   "outputs": [],
   "source": [
    "fatalities_data"
   ]
  },
  {
   "cell_type": "code",
   "execution_count": 41,
   "id": "9cf727cd-a190-4ef0-8bab-267de46c4b5b",
   "metadata": {},
   "outputs": [],
   "source": [
    "loc_eventcount = (\n",
    "    fatalities_data.groupby([\"loc_name\", \"geo_lat\", \"geo_lon\"])\n",
    "    .size()\n",
    "    .reset_index(name=\"count\")\n",
    ")"
   ]
  },
  {
   "cell_type": "code",
   "execution_count": 62,
   "id": "ad983877-9dd2-4277-bf47-63cc9cfff767",
   "metadata": {},
   "outputs": [],
   "source": [
    "loc_eventcount.to_csv(\"data/processed/eventcount-byloc.csv\", index=False)"
   ]
  },
  {
   "cell_type": "code",
   "execution_count": null,
   "id": "7a4c91e0-bd1e-46ee-b548-002c36b823d3",
   "metadata": {},
   "outputs": [],
   "source": [
    "loc_eventcount.sort_values(\"count\", ascending=False)"
   ]
  },
  {
   "cell_type": "markdown",
   "id": "323eeb4e-6bc9-4a07-b386-7eaeb594683c",
   "metadata": {},
   "source": [
    "### Was just trying to figure out a pivot table here--everything above is what we need "
   ]
  },
  {
   "cell_type": "code",
   "execution_count": 57,
   "id": "f9599691-e14c-4419-a903-f9dd062e8126",
   "metadata": {},
   "outputs": [],
   "source": [
    "event_loc_groups = (\n",
    "    fatalities_data.groupby([\"adm3_name\", \"event_type\"])\n",
    "    .size()\n",
    "    .reset_index(name=\"count\")\n",
    ")"
   ]
  },
  {
   "cell_type": "code",
   "execution_count": null,
   "id": "a66d6a32-1df3-492b-91eb-c56b9acf31d3",
   "metadata": {},
   "outputs": [],
   "source": [
    "event_loc_groups.pivot_table(\n",
    "    columns=\"event_type\", values=\"count\", index=\"adm3_name\"\n",
    ").reset_index()"
   ]
  }
 ],
 "metadata": {
  "kernelspec": {
   "display_name": "Python 3 (ipykernel)",
   "language": "python",
   "name": "python3"
  },
  "language_info": {
   "codemirror_mode": {
    "name": "ipython",
    "version": 3
   },
   "file_extension": ".py",
   "mimetype": "text/x-python",
   "name": "python",
   "nbconvert_exporter": "python",
   "pygments_lexer": "ipython3",
   "version": "3.9.9"
  }
 },
 "nbformat": 4,
 "nbformat_minor": 5
}
