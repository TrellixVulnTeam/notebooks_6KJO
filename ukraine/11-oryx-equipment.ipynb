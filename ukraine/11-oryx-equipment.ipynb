{
 "cells": [
  {
   "cell_type": "code",
   "execution_count": 1,
   "id": "0c303cad-9be0-4316-8656-76e61592c221",
   "metadata": {},
   "outputs": [],
   "source": [
    "%load_ext lab_black"
   ]
  },
  {
   "cell_type": "code",
   "execution_count": 2,
   "id": "31c4538d-6bff-4924-9277-3fa9bda368c0",
   "metadata": {},
   "outputs": [],
   "source": [
    "import pandas as pd\n",
    "import requests\n",
    "import bs4"
   ]
  },
  {
   "cell_type": "code",
   "execution_count": 3,
   "id": "e71c4009-d70b-407f-bbfc-2993b74852aa",
   "metadata": {},
   "outputs": [],
   "source": [
    "pd.options.display.max_columns = 1000\n",
    "pd.options.display.max_rows = 1000\n",
    "pd.set_option(\"display.max_columns\", None)"
   ]
  },
  {
   "cell_type": "code",
   "execution_count": 4,
   "id": "6c4590d1-e983-44e0-b125-4c983d065011",
   "metadata": {},
   "outputs": [],
   "source": [
    "from datawrapper import Datawrapper\n",
    "\n",
    "dw = Datawrapper(\n",
    "    access_token=\"FtIwtvFtoGLaRT9a3gjX69PLu4wSuRyKddoOz6SOPw3k9wWyNICMHTkcPhOGCR5Z\"\n",
    ")"
   ]
  },
  {
   "cell_type": "code",
   "execution_count": 5,
   "id": "564de61e-aaba-43d4-8ee7-d949a1acd15c",
   "metadata": {},
   "outputs": [],
   "source": [
    "oryx_url = (\n",
    "    \"https://www.oryxspioenkop.com/2022/02/attack-on-europe-documenting-equipment.html\"\n",
    ")"
   ]
  },
  {
   "cell_type": "code",
   "execution_count": 6,
   "id": "77a470cf-91c2-4e0f-ad1c-1666b27ed0f5",
   "metadata": {},
   "outputs": [],
   "source": [
    "equipment_webpage = requests.get(oryx_url)"
   ]
  },
  {
   "cell_type": "code",
   "execution_count": 9,
   "id": "2d1b9395-e032-4e78-bb88-223ea6a93059",
   "metadata": {},
   "outputs": [],
   "source": [
    "soup = bs4.BeautifulSoup(equipment_webpage.text, \"html.parser\")"
   ]
  },
  {
   "cell_type": "code",
   "execution_count": 14,
   "id": "d84694cc-80c6-47a5-8c53-d07dea184c49",
   "metadata": {},
   "outputs": [
    {
     "data": {
      "text/plain": [
       "[<h3 style=\"text-align: left;\"><span style=\"color: red;\">Russia - 2960, of which: destroyed: 1570, damaged: 44, abandoned: 239, captured: 1107<br/></span></h3>,\n",
       " <h3>\n",
       " </h3>,\n",
       " <h3>\n",
       " </h3>,\n",
       " <h3><span class=\"mw-headline\" id=\"Pistols\">Tanks </span>(510, of which destroyed: 259, damaged: 9, abandoned: 39, captured: 203)</h3>,\n",
       " <h3><span class=\"mw-headline\" id=\"Pistols\">Armoured Fighting Vehicles</span> (303, of which destroyed: 144, abandoned: 32, captured: 127)</h3>,\n",
       " <h3><span class=\"mw-headline\" id=\"Pistols\">Infantry Fighting Vehicles </span>(523, of which destroyed: 308, damaged: 2, abandoned: 32, captured: 181)</h3>,\n",
       " <h3><span class=\"mw-headline\" id=\"Pistols\">Armoured Personnel Carriers </span>(97, of which destroyed: 32, damaged: 2, abandoned: 17, captured: 46)</h3>,\n",
       " <h3>Mine-Resistant Ambush Protected (MRAP) Vehicles (23, of which destroyed: 13, abandoned: 3, captured: 7)</h3>,\n",
       " <h3><span class=\"mw-headline\" id=\"Pistols\">Infantry Mobility Vehicles </span>(93, of which destroyed: 55, damaged: 2, abandoned: 5, captured: 31)</h3>,\n",
       " <h3>Command Posts And Communications Stations (63, of which destroyed: 30, abandoned: 8, captured: 25)</h3>,\n",
       " <h3>Engineering Vehicles And Equipment (113, of which destroyed: 33, abandoned: 15, captured: 60)</h3>,\n",
       " <h3>Heavy Mortars (12, of which destroyed: 4, captured: 8)</h3>,\n",
       " <h3>Towed Artillery (56, of which destroyed: 10, damaged: 4, abandoned: 5, captured: 37)</h3>,\n",
       " <h3>Self-Propelled Artillery (98, of which destroyed: 41, damaged: 2, abandoned: 15, captured: 39)</h3>,\n",
       " <h3>Multiple Rocket Launchers (55, of which destroyed: 25, abandoned: 5, captured: 24)</h3>,\n",
       " <h3>Anti-Aircraft Guns (4, of which captured: 4)</h3>,\n",
       " <h3>Self-Propelled Anti-Aircraft Guns (14, of which destroyed: 5, abandoned: 2, captured: 7)</h3>,\n",
       " <h3>Surface-To-Air Missile Systems (52, of which destroyed: 26, damaged: 1, abandoned: 7, captured: 18) </h3>,\n",
       " <h3>Radars (10, of which destroyed: 4, captured: 6) </h3>,\n",
       " <h3>Jammers And Deception Systems (7, of which destroyed: 3, damaged: 2, captured: 2) </h3>,\n",
       " <h3><span class=\"mw-headline\" id=\"Pistols\">Aircraft </span>(21, of which destroyed: 20, damaged: 1)</h3>,\n",
       " <h3><span class=\"mw-headline\" id=\"Pistols\">Helicopters </span>(34, of which destroyed: 30, damaged: 2, abandoned: 1, captured: 1)</h3>,\n",
       " <h3><span class=\"mw-headline\" id=\"Pistols\">Unmanned Aerial Vehicles </span>(34, of which destroyed: 22, captured: 12)</h3>,\n",
       " <h3><span class=\"mw-headline\" id=\"Pistols\">Naval Ships </span>(4, of which destroyed: 2, damaged: 2)</h3>,\n",
       " <h3><span class=\"mw-headline\" id=\"Pistols\">Logistics Trains </span>(2, of which destroyed: 2)</h3>,\n",
       " <h3><span class=\"mw-headline\" id=\"Pistols\">Trucks, Vehicles and Jeeps </span>(832, of which destroyed: 517, damaged: 17, abandoned: 63, captured: 235)</h3>,\n",
       " <h3 style=\"text-align: left;\"><span style=\"color: red;\">Ukraine - </span><span style=\"color: red;\">822, of which: destroyed: 382, damaged: 22, abandoned: 35, captured: 383<br/></span></h3>,\n",
       " <h3>\n",
       " </h3>,\n",
       " <h3>\n",
       " </h3>,\n",
       " <h3><span class=\"mw-headline\" id=\"Pistols\">Tanks </span>(124, of which destroyed: 49, damaged: 1, abandoned: 9, captured: 65)</h3>,\n",
       " <h3><span class=\"mw-headline\" id=\"Pistols\">Armoured Fighting Vehicles </span>(75, of which destroyed: 28, abandoned: 4, captured: 44)</h3>,\n",
       " <h3><span class=\"mw-headline\" id=\"Pistols\">Infantry Fighting Vehicles </span>(88, of which destroyed: 42, damaged: 3, abandoned: 9, captured: 34)</h3>,\n",
       " <h3><span class=\"mw-headline\" id=\"Pistols\">Armoured Personnel Carriers </span>(46, of which destroyed: 12, damaged: 1, abandoned: 2, captured: 31)</h3>,\n",
       " <h3><span class=\"mw-headline\" id=\"Pistols\">Infantry Mobility Vehicles </span>(61, of which destroyed: 20, damaged: 1, abandoned: 1, captured: 39)</h3>,\n",
       " <h3>Engineering Vehicles (12, of which destroyed: 2, captured: 10)</h3>,\n",
       " <h3><span class=\"mw-headline\" id=\"Pistols\">Towed Artillery</span> (26, of which destroyed: 8, damaged: 3, abandoned: 3, captured: 12)</h3>,\n",
       " <h3><span class=\"mw-headline\" id=\"Pistols\">Self-Propelled Artillery </span>(23, of which destroyed: 10, damaged: 4, abandoned: 1, captured: 8)</h3>,\n",
       " <h3><span class=\"mw-headline\" id=\"Pistols\">Multiple Rocket Launchers</span> (15, of which destroyed: 10, captured: 5)</h3>,\n",
       " <h3><span class=\"mw-headline\" id=\"Pistols\">Anti-Aircraft Guns</span> (2, of which captured: 2)</h3>,\n",
       " <h3>Self-Propelled Anti-Aircraft Guns (2, of which captured: 2)<br/></h3>,\n",
       " <h3>Surface-To-Air Missile Systems (43, of which destroyed: 36, abandoned: 1, captured: 6)<br/></h3>,\n",
       " <h3>\n",
       " </h3>,\n",
       " <h3>\n",
       " </h3>,\n",
       " <h3><span class=\"mw-headline\" id=\"Pistols\">Radars And Communications Equipment </span>(17, of which destroyed: 9, damaged: 3, abandoned: 1, captured: 4)</h3>,\n",
       " <h3><span class=\"mw-headline\" id=\"Pistols\">Aircraft </span>(17, of which destroyed: 16, damaged: 1)</h3>,\n",
       " <h3><span class=\"mw-headline\" id=\"Pistols\">Helicopters </span>(4, of which destroyed: 3, captured: 1)</h3>,\n",
       " <h3><span class=\"mw-headline\" id=\"Pistols\">Unmanned Aerial Vehicles </span>(14, of which destroyed: 12, captured: 2)</h3>,\n",
       " <h3><span class=\"mw-headline\" id=\"Pistols\">Naval Ships </span>(15, of which destroyed: 3, captured: 12)</h3>,\n",
       " <h3><span class=\"mw-headline\" id=\"Pistols\">Trucks, Vehicles and Jeeps </span>(236, of which destroyed: 108, damaged: 5, abandoned: 5, captured: 118)</h3>]"
      ]
     },
     "execution_count": 14,
     "metadata": {},
     "output_type": "execute_result"
    }
   ],
   "source": [
    "soup.find_all(\"h3\")"
   ]
  },
  {
   "cell_type": "code",
   "execution_count": 32,
   "id": "28d792b7-e16d-463d-ac18-bf18231a0bb1",
   "metadata": {},
   "outputs": [],
   "source": [
    "uk_pattern = \"Flag_of_Ukraine\"\n",
    "ru_pattern = \"Flag_of_Russia\"\n",
    "su_pattern = \"Flag_of_the_Soviet_Union\""
   ]
  },
  {
   "cell_type": "code",
   "execution_count": null,
   "id": "c848c840-3f00-4543-8764-7082c3acadf3",
   "metadata": {},
   "outputs": [],
   "source": []
  }
 ],
 "metadata": {
  "kernelspec": {
   "display_name": "Python 3 (ipykernel)",
   "language": "python",
   "name": "python3"
  },
  "language_info": {
   "codemirror_mode": {
    "name": "ipython",
    "version": 3
   },
   "file_extension": ".py",
   "mimetype": "text/x-python",
   "name": "python",
   "nbconvert_exporter": "python",
   "pygments_lexer": "ipython3",
   "version": "3.8.9"
  }
 },
 "nbformat": 4,
 "nbformat_minor": 5
}
