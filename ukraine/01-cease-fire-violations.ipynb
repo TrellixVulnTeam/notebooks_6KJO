{
 "cells": [
  {
   "cell_type": "markdown",
   "id": "ac6088c4-9d33-483b-809e-9d7aa86a77fa",
   "metadata": {},
   "source": [
    "# Cease-fire violations data from OSCE"
   ]
  },
  {
   "cell_type": "code",
   "execution_count": 1,
   "id": "8542a24b-9d1e-41f1-bd62-a5cb54fb7465",
   "metadata": {},
   "outputs": [],
   "source": [
    "%load_ext lab_black"
   ]
  },
  {
   "cell_type": "code",
   "execution_count": 2,
   "id": "715616b0-2297-4dd7-9dd6-55721396ba71",
   "metadata": {},
   "outputs": [],
   "source": [
    "import pandas as pd\n",
    "import glob\n",
    "import altair as alt\n",
    "import numpy as np"
   ]
  },
  {
   "cell_type": "code",
   "execution_count": 3,
   "id": "d8bde799-4d4c-48f6-b072-5c0eadd61c3e",
   "metadata": {},
   "outputs": [],
   "source": [
    "pd.options.display.max_columns = 1000\n",
    "pd.options.display.max_rows = 1500"
   ]
  },
  {
   "cell_type": "markdown",
   "id": "acc29b0d-852d-4244-b97a-06e4f69e995f",
   "metadata": {},
   "source": [
    "---"
   ]
  },
  {
   "cell_type": "markdown",
   "id": "778c5162-cc67-4e85-89fe-e8f9848c9235",
   "metadata": {},
   "source": [
    "## Get data from web "
   ]
  },
  {
   "cell_type": "markdown",
   "id": "94f00ab3-fbae-43af-99b1-edf82b7e62b0",
   "metadata": {},
   "source": [
    "#### List of dates"
   ]
  },
  {
   "cell_type": "code",
   "execution_count": 4,
   "id": "48e05794-3278-4d2a-8850-08edf17c88f6",
   "metadata": {},
   "outputs": [],
   "source": [
    "dates = pd.date_range(start=\"2022-01-18\", end=\"2022-02-19\", freq=\"D\")"
   ]
  },
  {
   "cell_type": "markdown",
   "id": "1195fdc4-b0fb-4d21-b71e-e2d89468b479",
   "metadata": {
    "tags": []
   },
   "source": [
    "#### Download the files"
   ]
  },
  {
   "cell_type": "code",
   "execution_count": 5,
   "id": "16442ea6-446d-439b-a2c1-212f04ea2de5",
   "metadata": {
    "tags": []
   },
   "outputs": [],
   "source": [
    "# for d in dates:\n",
    "#     !curl https://www.osce.org/files/{d.strftime(\"%Y-%m-%d\")}%20Daily%20Report_ENG.pdf -o {d.strftime(\"%Y-%m-%d\")}.pdf"
   ]
  },
  {
   "cell_type": "markdown",
   "id": "e9128fb6-5638-4d0f-92c4-bcf26fdf1160",
   "metadata": {},
   "source": [
    "#### Read all the files"
   ]
  },
  {
   "cell_type": "code",
   "execution_count": 6,
   "id": "587c85f6-38fe-4ded-a569-dcaa32764285",
   "metadata": {},
   "outputs": [],
   "source": [
    "path = \"daily_reports/\"\n",
    "all_files = glob.glob(path + \"*.xlsx\")"
   ]
  },
  {
   "cell_type": "code",
   "execution_count": 7,
   "id": "140c4cfc-c4c7-4f9c-b42b-dd5a0b0b9e30",
   "metadata": {},
   "outputs": [
    {
     "data": {
      "text/plain": [
       "['daily_reports/2022-02-17.xlsx',\n",
       " 'daily_reports/2022-01-27.xlsx',\n",
       " 'daily_reports/2022-02-20.xlsx',\n",
       " 'daily_reports/2022-02-16.xlsx',\n",
       " 'daily_reports/2022-01-21.xlsx',\n",
       " 'daily_reports/2022-02-11.xlsx',\n",
       " 'daily_reports/2022-02-10.xlsx',\n",
       " 'daily_reports/2022-01-20.xlsx',\n",
       " 'daily_reports/2022-01-19.xlsx',\n",
       " 'daily_reports/2022-02-09.xlsx',\n",
       " 'daily_reports/2022-02-12.xlsx',\n",
       " 'daily_reports/2022-02-08.xlsx',\n",
       " 'daily_reports/2022-01-18.xlsx',\n",
       " 'daily_reports/2022-02-15.xlsx',\n",
       " 'daily_reports/2022-02-19.xlsx',\n",
       " 'daily_reports/2022-02-23.xlsx',\n",
       " 'daily_reports/2022-02-22.xlsx',\n",
       " 'daily_reports/2022-02-18.xlsx']"
      ]
     },
     "execution_count": 7,
     "metadata": {},
     "output_type": "execute_result"
    }
   ],
   "source": [
    "all_files"
   ]
  },
  {
   "cell_type": "markdown",
   "id": "d147cab3-3653-46bd-96e7-74440156e9bf",
   "metadata": {},
   "source": [
    "#### Loop through files, read Excel files and append to a list"
   ]
  },
  {
   "cell_type": "code",
   "execution_count": 8,
   "id": "c6dc99d2-1af2-4d49-b54b-eee1322df8fa",
   "metadata": {},
   "outputs": [],
   "source": [
    "li = []\n",
    "\n",
    "for filename in all_files:\n",
    "    df = pd.read_excel(filename, index_col=None).assign(file=filename)\n",
    "    li.append(df)"
   ]
  },
  {
   "cell_type": "markdown",
   "id": "280e308d-7047-4f4b-884b-d6f24cc72a9d",
   "metadata": {},
   "source": [
    "#### Concatenate"
   ]
  },
  {
   "cell_type": "code",
   "execution_count": 9,
   "id": "bfeade19-f474-4e59-8b1d-0b82ef5af7dd",
   "metadata": {},
   "outputs": [],
   "source": [
    "src = pd.concat(li, axis=0, ignore_index=True)"
   ]
  },
  {
   "cell_type": "markdown",
   "id": "fa514c69-3db6-409b-9fba-2c6e0516ce34",
   "metadata": {},
   "source": [
    "#### Clean the column names"
   ]
  },
  {
   "cell_type": "code",
   "execution_count": 10,
   "id": "38d929b1-deeb-43f7-a9a5-1918ce6ca115",
   "metadata": {},
   "outputs": [],
   "source": [
    "src.columns = src.columns.str.lower()"
   ]
  },
  {
   "cell_type": "markdown",
   "id": "5fa5baee-79be-42f3-81d4-5cec723db11e",
   "metadata": {},
   "source": [
    "#### Clean up the dates"
   ]
  },
  {
   "cell_type": "code",
   "execution_count": 11,
   "id": "d6af05a9-b1d7-4c70-b08b-4e72ecd9e2f2",
   "metadata": {},
   "outputs": [],
   "source": [
    "src[[\"date\", \"time\"]] = src[\"date, time\"].str.split(\", \", expand=True)"
   ]
  },
  {
   "cell_type": "code",
   "execution_count": 12,
   "id": "9c54eb9f-47a4-496f-b056-8d0162fd43ec",
   "metadata": {},
   "outputs": [],
   "source": [
    "src[\"date\"] = src[\"date\"] + str(\"-2022\")"
   ]
  },
  {
   "cell_type": "code",
   "execution_count": 13,
   "id": "5ca2995c-c1ae-49c7-ac2d-959f3ca761a1",
   "metadata": {},
   "outputs": [],
   "source": [
    "src[\"date_clean\"] = pd.to_datetime(src[\"date\"])"
   ]
  },
  {
   "cell_type": "markdown",
   "id": "71f0b9e6-5f7c-485e-a5de-9e22c8d4a239",
   "metadata": {
    "tags": []
   },
   "source": [
    "#### Which types of observations are most common?"
   ]
  },
  {
   "cell_type": "code",
   "execution_count": 14,
   "id": "1625384e-3405-48d6-bc0f-b9cbcf49e352",
   "metadata": {},
   "outputs": [
    {
     "data": {
      "text/plain": [
       "Explosion              1119\n",
       "Projectile              289\n",
       "Burst                    93\n",
       "Shot                     59\n",
       "Muzzle flash             43\n",
       "Illumination flare       18\n",
       "Illumination\\nflare      14\n",
       "Muzzle  flash             5\n",
       "Shots and bursts          4\n",
       "Outgoing                  1\n",
       "Name: observation, dtype: int64"
      ]
     },
     "execution_count": 14,
     "metadata": {},
     "output_type": "execute_result"
    }
   ],
   "source": [
    "src.observation.value_counts()"
   ]
  },
  {
   "cell_type": "code",
   "execution_count": 15,
   "id": "2afd88d1-9ec5-4c86-9248-0f91eddfb8eb",
   "metadata": {},
   "outputs": [],
   "source": [
    "src[\"observation\"] = (\n",
    "    src[\"observation\"]\n",
    "    .str.strip()\n",
    "    .str.replace(\"Illumination\\nflare\", \"Illumination flare\", regex=False)\n",
    "    .str.replace(\"Muzzle  flash\", \"Muzzle flash\", regex=False)\n",
    ")"
   ]
  },
  {
   "cell_type": "markdown",
   "id": "73a9771b-54e7-4397-98b0-69afa7142581",
   "metadata": {},
   "source": [
    "#### Aggregate and pivot"
   ]
  },
  {
   "cell_type": "code",
   "execution_count": 16,
   "id": "271d74ce-8a38-4e00-9a78-9628262c4fe2",
   "metadata": {},
   "outputs": [],
   "source": [
    "src[\"number\"] = src[\"no.\"].replace(\"Uncountable\", 0, regex=False).astype(float)"
   ]
  },
  {
   "cell_type": "code",
   "execution_count": 17,
   "id": "582a0bba-93da-47a5-bc97-2083c4b5bcff",
   "metadata": {},
   "outputs": [],
   "source": [
    "observations = (\n",
    "    src.groupby([\"observation\"])\n",
    "    .agg({\"smm position\": \"size\", \"number\": \"sum\"})\n",
    "    .reset_index()\n",
    ")"
   ]
  },
  {
   "cell_type": "code",
   "execution_count": 18,
   "id": "fe643686-13ad-4027-8817-b447d9320c31",
   "metadata": {},
   "outputs": [],
   "source": [
    "observations.rename(columns={\"smm position\": \"size\", \"number\": \"sum\"}, inplace=True)"
   ]
  },
  {
   "cell_type": "code",
   "execution_count": 19,
   "id": "304ad492-79d3-449a-a476-16edc82e90ea",
   "metadata": {},
   "outputs": [
    {
     "data": {
      "text/html": [
       "<div>\n",
       "<style scoped>\n",
       "    .dataframe tbody tr th:only-of-type {\n",
       "        vertical-align: middle;\n",
       "    }\n",
       "\n",
       "    .dataframe tbody tr th {\n",
       "        vertical-align: top;\n",
       "    }\n",
       "\n",
       "    .dataframe thead th {\n",
       "        text-align: right;\n",
       "    }\n",
       "</style>\n",
       "<table border=\"1\" class=\"dataframe\">\n",
       "  <thead>\n",
       "    <tr style=\"text-align: right;\">\n",
       "      <th></th>\n",
       "      <th>observation</th>\n",
       "      <th>size</th>\n",
       "      <th>sum</th>\n",
       "    </tr>\n",
       "  </thead>\n",
       "  <tbody>\n",
       "    <tr>\n",
       "      <th>1</th>\n",
       "      <td>Explosion</td>\n",
       "      <td>1119</td>\n",
       "      <td>8121.0</td>\n",
       "    </tr>\n",
       "    <tr>\n",
       "      <th>5</th>\n",
       "      <td>Projectile</td>\n",
       "      <td>289</td>\n",
       "      <td>1304.0</td>\n",
       "    </tr>\n",
       "    <tr>\n",
       "      <th>0</th>\n",
       "      <td>Burst</td>\n",
       "      <td>93</td>\n",
       "      <td>1975.0</td>\n",
       "    </tr>\n",
       "    <tr>\n",
       "      <th>6</th>\n",
       "      <td>Shot</td>\n",
       "      <td>59</td>\n",
       "      <td>1578.0</td>\n",
       "    </tr>\n",
       "    <tr>\n",
       "      <th>3</th>\n",
       "      <td>Muzzle flash</td>\n",
       "      <td>48</td>\n",
       "      <td>168.0</td>\n",
       "    </tr>\n",
       "    <tr>\n",
       "      <th>2</th>\n",
       "      <td>Illumination flare</td>\n",
       "      <td>32</td>\n",
       "      <td>36.0</td>\n",
       "    </tr>\n",
       "    <tr>\n",
       "      <th>7</th>\n",
       "      <td>Shots and bursts</td>\n",
       "      <td>4</td>\n",
       "      <td>152.0</td>\n",
       "    </tr>\n",
       "    <tr>\n",
       "      <th>4</th>\n",
       "      <td>Outgoing</td>\n",
       "      <td>1</td>\n",
       "      <td>1.0</td>\n",
       "    </tr>\n",
       "  </tbody>\n",
       "</table>\n",
       "</div>"
      ],
      "text/plain": [
       "          observation  size     sum\n",
       "1           Explosion  1119  8121.0\n",
       "5          Projectile   289  1304.0\n",
       "0               Burst    93  1975.0\n",
       "6                Shot    59  1578.0\n",
       "3        Muzzle flash    48   168.0\n",
       "2  Illumination flare    32    36.0\n",
       "7    Shots and bursts     4   152.0\n",
       "4            Outgoing     1     1.0"
      ]
     },
     "execution_count": 19,
     "metadata": {},
     "output_type": "execute_result"
    }
   ],
   "source": [
    "observations = observations.sort_values(\"size\", ascending=False)\n",
    "observations"
   ]
  },
  {
   "cell_type": "markdown",
   "id": "36cb68d8-f802-4b2e-9ca6-1ef772399b98",
   "metadata": {},
   "source": [
    "#### What's the sum of all observations? "
   ]
  },
  {
   "cell_type": "code",
   "execution_count": 20,
   "id": "59863bdc-ad49-41ec-a598-ebf2ae50691a",
   "metadata": {},
   "outputs": [
    {
     "data": {
      "text/plain": [
       "13335.0"
      ]
     },
     "execution_count": 20,
     "metadata": {},
     "output_type": "execute_result"
    }
   ],
   "source": [
    "observations[\"sum\"].sum()"
   ]
  },
  {
   "cell_type": "markdown",
   "id": "22f920a7-0176-4382-b977-c767b130026b",
   "metadata": {},
   "source": [
    "#### How many observations (count, no sum) per day? "
   ]
  },
  {
   "cell_type": "code",
   "execution_count": 21,
   "id": "a6dcb6ba-c3aa-4c9a-a5b3-df9cb2ad989e",
   "metadata": {},
   "outputs": [],
   "source": [
    "daily_counts = src.groupby([\"date_clean\"]).agg({\"number\": \"sum\"}).reset_index()"
   ]
  },
  {
   "cell_type": "code",
   "execution_count": 22,
   "id": "4d51a3d7-6154-4084-b329-d2063cca315b",
   "metadata": {},
   "outputs": [],
   "source": [
    "daily_counts.rename(columns={\"smm position\": \"number\"}, inplace=True)"
   ]
  },
  {
   "cell_type": "code",
   "execution_count": 23,
   "id": "b9a23160-3ee2-47ce-b13a-aa7d8ef9ff93",
   "metadata": {},
   "outputs": [
    {
     "data": {
      "text/html": [
       "<div>\n",
       "<style scoped>\n",
       "    .dataframe tbody tr th:only-of-type {\n",
       "        vertical-align: middle;\n",
       "    }\n",
       "\n",
       "    .dataframe tbody tr th {\n",
       "        vertical-align: top;\n",
       "    }\n",
       "\n",
       "    .dataframe thead th {\n",
       "        text-align: right;\n",
       "    }\n",
       "</style>\n",
       "<table border=\"1\" class=\"dataframe\">\n",
       "  <thead>\n",
       "    <tr style=\"text-align: right;\">\n",
       "      <th></th>\n",
       "      <th>date_clean</th>\n",
       "      <th>number</th>\n",
       "    </tr>\n",
       "  </thead>\n",
       "  <tbody>\n",
       "    <tr>\n",
       "      <th>19</th>\n",
       "      <td>2022-02-18</td>\n",
       "      <td>1180.0</td>\n",
       "    </tr>\n",
       "    <tr>\n",
       "      <th>20</th>\n",
       "      <td>2022-02-19</td>\n",
       "      <td>2480.0</td>\n",
       "    </tr>\n",
       "    <tr>\n",
       "      <th>21</th>\n",
       "      <td>2022-02-20</td>\n",
       "      <td>1409.0</td>\n",
       "    </tr>\n",
       "    <tr>\n",
       "      <th>22</th>\n",
       "      <td>2022-02-21</td>\n",
       "      <td>1445.0</td>\n",
       "    </tr>\n",
       "    <tr>\n",
       "      <th>23</th>\n",
       "      <td>2022-02-22</td>\n",
       "      <td>1575.0</td>\n",
       "    </tr>\n",
       "  </tbody>\n",
       "</table>\n",
       "</div>"
      ],
      "text/plain": [
       "   date_clean  number\n",
       "19 2022-02-18  1180.0\n",
       "20 2022-02-19  2480.0\n",
       "21 2022-02-20  1409.0\n",
       "22 2022-02-21  1445.0\n",
       "23 2022-02-22  1575.0"
      ]
     },
     "execution_count": 23,
     "metadata": {},
     "output_type": "execute_result"
    }
   ],
   "source": [
    "daily_counts.tail()"
   ]
  },
  {
   "cell_type": "code",
   "execution_count": 24,
   "id": "490d9bc8-903e-47dd-acf5-30c46e3cbccc",
   "metadata": {},
   "outputs": [
    {
     "data": {
      "text/html": [
       "\n",
       "<div id=\"altair-viz-fc7a616d077948599e863a9ae7092e45\"></div>\n",
       "<script type=\"text/javascript\">\n",
       "  var VEGA_DEBUG = (typeof VEGA_DEBUG == \"undefined\") ? {} : VEGA_DEBUG;\n",
       "  (function(spec, embedOpt){\n",
       "    let outputDiv = document.currentScript.previousElementSibling;\n",
       "    if (outputDiv.id !== \"altair-viz-fc7a616d077948599e863a9ae7092e45\") {\n",
       "      outputDiv = document.getElementById(\"altair-viz-fc7a616d077948599e863a9ae7092e45\");\n",
       "    }\n",
       "    const paths = {\n",
       "      \"vega\": \"https://cdn.jsdelivr.net/npm//vega@5?noext\",\n",
       "      \"vega-lib\": \"https://cdn.jsdelivr.net/npm//vega-lib?noext\",\n",
       "      \"vega-lite\": \"https://cdn.jsdelivr.net/npm//vega-lite@4.17.0?noext\",\n",
       "      \"vega-embed\": \"https://cdn.jsdelivr.net/npm//vega-embed@6?noext\",\n",
       "    };\n",
       "\n",
       "    function maybeLoadScript(lib, version) {\n",
       "      var key = `${lib.replace(\"-\", \"\")}_version`;\n",
       "      return (VEGA_DEBUG[key] == version) ?\n",
       "        Promise.resolve(paths[lib]) :\n",
       "        new Promise(function(resolve, reject) {\n",
       "          var s = document.createElement('script');\n",
       "          document.getElementsByTagName(\"head\")[0].appendChild(s);\n",
       "          s.async = true;\n",
       "          s.onload = () => {\n",
       "            VEGA_DEBUG[key] = version;\n",
       "            return resolve(paths[lib]);\n",
       "          };\n",
       "          s.onerror = () => reject(`Error loading script: ${paths[lib]}`);\n",
       "          s.src = paths[lib];\n",
       "        });\n",
       "    }\n",
       "\n",
       "    function showError(err) {\n",
       "      outputDiv.innerHTML = `<div class=\"error\" style=\"color:red;\">${err}</div>`;\n",
       "      throw err;\n",
       "    }\n",
       "\n",
       "    function displayChart(vegaEmbed) {\n",
       "      vegaEmbed(outputDiv, spec, embedOpt)\n",
       "        .catch(err => showError(`Javascript Error: ${err.message}<br>This usually means there's a typo in your chart specification. See the javascript console for the full traceback.`));\n",
       "    }\n",
       "\n",
       "    if(typeof define === \"function\" && define.amd) {\n",
       "      requirejs.config({paths});\n",
       "      require([\"vega-embed\"], displayChart, err => showError(`Error loading script: ${err.message}`));\n",
       "    } else {\n",
       "      maybeLoadScript(\"vega\", \"5\")\n",
       "        .then(() => maybeLoadScript(\"vega-lite\", \"4.17.0\"))\n",
       "        .then(() => maybeLoadScript(\"vega-embed\", \"6\"))\n",
       "        .catch(showError)\n",
       "        .then(() => displayChart(vegaEmbed));\n",
       "    }\n",
       "  })({\"config\": {\"view\": {\"continuousWidth\": 400, \"continuousHeight\": 300}}, \"data\": {\"name\": \"data-64da9d15040a66b350da86ca4eb54f23\"}, \"mark\": {\"type\": \"bar\", \"width\": 16}, \"encoding\": {\"x\": {\"field\": \"date_clean\", \"type\": \"temporal\"}, \"y\": {\"field\": \"number\", \"type\": \"quantitative\"}}, \"height\": 300, \"title\": \"Daily number ceasefire violations in February\", \"width\": 650, \"$schema\": \"https://vega.github.io/schema/vega-lite/v4.17.0.json\", \"datasets\": {\"data-64da9d15040a66b350da86ca4eb54f23\": [{\"date_clean\": \"2022-02-02T00:00:00\", \"number\": 16.0}, {\"date_clean\": \"2022-02-06T00:00:00\", \"number\": 24.0}, {\"date_clean\": \"2022-02-07T00:00:00\", \"number\": 120.0}, {\"date_clean\": \"2022-02-08T00:00:00\", \"number\": 262.0}, {\"date_clean\": \"2022-02-09T00:00:00\", \"number\": 454.0}, {\"date_clean\": \"2022-02-10T00:00:00\", \"number\": 441.0}, {\"date_clean\": \"2022-02-11T00:00:00\", \"number\": 359.0}, {\"date_clean\": \"2022-02-13T00:00:00\", \"number\": 16.0}, {\"date_clean\": \"2022-02-14T00:00:00\", \"number\": 173.0}, {\"date_clean\": \"2022-02-15T00:00:00\", \"number\": 422.0}, {\"date_clean\": \"2022-02-16T00:00:00\", \"number\": 382.0}, {\"date_clean\": \"2022-02-17T00:00:00\", \"number\": 1183.0}, {\"date_clean\": \"2022-02-18T00:00:00\", \"number\": 1180.0}, {\"date_clean\": \"2022-02-19T00:00:00\", \"number\": 2480.0}, {\"date_clean\": \"2022-02-20T00:00:00\", \"number\": 1409.0}, {\"date_clean\": \"2022-02-21T00:00:00\", \"number\": 1445.0}, {\"date_clean\": \"2022-02-22T00:00:00\", \"number\": 1575.0}]}}, {\"mode\": \"vega-lite\"});\n",
       "</script>"
      ],
      "text/plain": [
       "alt.Chart(...)"
      ]
     },
     "execution_count": 24,
     "metadata": {},
     "output_type": "execute_result"
    }
   ],
   "source": [
    "alt.Chart(daily_counts[daily_counts[\"date_clean\"] > \"2022-01-31\"]).mark_bar(\n",
    "    width=16\n",
    ").encode(x=\"date_clean\", y=\"number\").properties(\n",
    "    width=650,\n",
    "    height=300,\n",
    "    title=\"Daily number ceasefire violations in February\",\n",
    ")"
   ]
  },
  {
   "cell_type": "markdown",
   "id": "079519bb-07a5-41e8-93b9-c9c1f5e669d9",
   "metadata": {},
   "source": [
    "#### How many times did each type of observation happen each day? "
   ]
  },
  {
   "cell_type": "code",
   "execution_count": 25,
   "id": "dd9422ee-6add-4bdb-a2a0-f4abb895a984",
   "metadata": {},
   "outputs": [],
   "source": [
    "daily_counts_types = (\n",
    "    src.groupby([\"date_clean\", \"observation\"]).agg({\"number\": \"sum\"}).reset_index()\n",
    ")"
   ]
  },
  {
   "cell_type": "code",
   "execution_count": 26,
   "id": "5ac670d8-b113-49cf-98d9-2e268cb11de0",
   "metadata": {},
   "outputs": [],
   "source": [
    "daily_counts_types.rename(columns={\"smm position\": \"count\"}, inplace=True)"
   ]
  },
  {
   "cell_type": "code",
   "execution_count": 27,
   "id": "7171a598-0015-43a3-831b-8550db0793bb",
   "metadata": {},
   "outputs": [
    {
     "data": {
      "text/html": [
       "<div>\n",
       "<style scoped>\n",
       "    .dataframe tbody tr th:only-of-type {\n",
       "        vertical-align: middle;\n",
       "    }\n",
       "\n",
       "    .dataframe tbody tr th {\n",
       "        vertical-align: top;\n",
       "    }\n",
       "\n",
       "    .dataframe thead th {\n",
       "        text-align: right;\n",
       "    }\n",
       "</style>\n",
       "<table border=\"1\" class=\"dataframe\">\n",
       "  <thead>\n",
       "    <tr style=\"text-align: right;\">\n",
       "      <th></th>\n",
       "      <th>date_clean</th>\n",
       "      <th>observation</th>\n",
       "      <th>number</th>\n",
       "    </tr>\n",
       "  </thead>\n",
       "  <tbody>\n",
       "    <tr>\n",
       "      <th>98</th>\n",
       "      <td>2022-02-22</td>\n",
       "      <td>Explosion</td>\n",
       "      <td>1420.0</td>\n",
       "    </tr>\n",
       "    <tr>\n",
       "      <th>99</th>\n",
       "      <td>2022-02-22</td>\n",
       "      <td>Muzzle flash</td>\n",
       "      <td>20.0</td>\n",
       "    </tr>\n",
       "    <tr>\n",
       "      <th>100</th>\n",
       "      <td>2022-02-22</td>\n",
       "      <td>Outgoing</td>\n",
       "      <td>1.0</td>\n",
       "    </tr>\n",
       "    <tr>\n",
       "      <th>101</th>\n",
       "      <td>2022-02-22</td>\n",
       "      <td>Projectile</td>\n",
       "      <td>61.0</td>\n",
       "    </tr>\n",
       "    <tr>\n",
       "      <th>102</th>\n",
       "      <td>2022-02-22</td>\n",
       "      <td>Shot</td>\n",
       "      <td>7.0</td>\n",
       "    </tr>\n",
       "  </tbody>\n",
       "</table>\n",
       "</div>"
      ],
      "text/plain": [
       "    date_clean   observation  number\n",
       "98  2022-02-22     Explosion  1420.0\n",
       "99  2022-02-22  Muzzle flash    20.0\n",
       "100 2022-02-22      Outgoing     1.0\n",
       "101 2022-02-22    Projectile    61.0\n",
       "102 2022-02-22          Shot     7.0"
      ]
     },
     "execution_count": 27,
     "metadata": {},
     "output_type": "execute_result"
    }
   ],
   "source": [
    "daily_counts_types.tail()"
   ]
  },
  {
   "cell_type": "markdown",
   "id": "a4549449-2020-4b54-aba2-28efda95453d",
   "metadata": {},
   "source": [
    "#### Pivot for datawrapper"
   ]
  },
  {
   "cell_type": "code",
   "execution_count": 28,
   "id": "be903001-e543-418e-be43-feca4b520c5c",
   "metadata": {},
   "outputs": [],
   "source": [
    "daily_counts_pivot = (\n",
    "    daily_counts_types.pivot_table(\n",
    "        index=\"date_clean\", values=\"number\", columns=\"observation\"\n",
    "    )\n",
    "    .fillna(0)\n",
    "    .reset_index()\n",
    ")"
   ]
  },
  {
   "cell_type": "code",
   "execution_count": 29,
   "id": "08377e91-2ab1-4909-9508-f2508a3ad9a2",
   "metadata": {},
   "outputs": [
    {
     "data": {
      "text/html": [
       "<div>\n",
       "<style scoped>\n",
       "    .dataframe tbody tr th:only-of-type {\n",
       "        vertical-align: middle;\n",
       "    }\n",
       "\n",
       "    .dataframe tbody tr th {\n",
       "        vertical-align: top;\n",
       "    }\n",
       "\n",
       "    .dataframe thead th {\n",
       "        text-align: right;\n",
       "    }\n",
       "</style>\n",
       "<table border=\"1\" class=\"dataframe\">\n",
       "  <thead>\n",
       "    <tr style=\"text-align: right;\">\n",
       "      <th>observation</th>\n",
       "      <th>date_clean</th>\n",
       "      <th>Burst</th>\n",
       "      <th>Explosion</th>\n",
       "      <th>Illumination flare</th>\n",
       "      <th>Muzzle flash</th>\n",
       "      <th>Outgoing</th>\n",
       "      <th>Projectile</th>\n",
       "      <th>Shot</th>\n",
       "      <th>Shots and bursts</th>\n",
       "    </tr>\n",
       "  </thead>\n",
       "  <tbody>\n",
       "    <tr>\n",
       "      <th>19</th>\n",
       "      <td>2022-02-18</td>\n",
       "      <td>38.0</td>\n",
       "      <td>1107.0</td>\n",
       "      <td>3.0</td>\n",
       "      <td>0.0</td>\n",
       "      <td>0.0</td>\n",
       "      <td>0.0</td>\n",
       "      <td>32.0</td>\n",
       "      <td>0.0</td>\n",
       "    </tr>\n",
       "    <tr>\n",
       "      <th>20</th>\n",
       "      <td>2022-02-19</td>\n",
       "      <td>525.0</td>\n",
       "      <td>1317.0</td>\n",
       "      <td>9.0</td>\n",
       "      <td>13.0</td>\n",
       "      <td>0.0</td>\n",
       "      <td>64.0</td>\n",
       "      <td>552.0</td>\n",
       "      <td>0.0</td>\n",
       "    </tr>\n",
       "    <tr>\n",
       "      <th>21</th>\n",
       "      <td>2022-02-20</td>\n",
       "      <td>4.0</td>\n",
       "      <td>1247.0</td>\n",
       "      <td>9.0</td>\n",
       "      <td>6.0</td>\n",
       "      <td>0.0</td>\n",
       "      <td>140.0</td>\n",
       "      <td>3.0</td>\n",
       "      <td>0.0</td>\n",
       "    </tr>\n",
       "    <tr>\n",
       "      <th>22</th>\n",
       "      <td>2022-02-21</td>\n",
       "      <td>119.0</td>\n",
       "      <td>923.0</td>\n",
       "      <td>6.0</td>\n",
       "      <td>18.0</td>\n",
       "      <td>0.0</td>\n",
       "      <td>379.0</td>\n",
       "      <td>0.0</td>\n",
       "      <td>0.0</td>\n",
       "    </tr>\n",
       "    <tr>\n",
       "      <th>23</th>\n",
       "      <td>2022-02-22</td>\n",
       "      <td>66.0</td>\n",
       "      <td>1420.0</td>\n",
       "      <td>0.0</td>\n",
       "      <td>20.0</td>\n",
       "      <td>1.0</td>\n",
       "      <td>61.0</td>\n",
       "      <td>7.0</td>\n",
       "      <td>0.0</td>\n",
       "    </tr>\n",
       "  </tbody>\n",
       "</table>\n",
       "</div>"
      ],
      "text/plain": [
       "observation date_clean  Burst  Explosion  Illumination flare  Muzzle flash  \\\n",
       "19          2022-02-18   38.0     1107.0                 3.0           0.0   \n",
       "20          2022-02-19  525.0     1317.0                 9.0          13.0   \n",
       "21          2022-02-20    4.0     1247.0                 9.0           6.0   \n",
       "22          2022-02-21  119.0      923.0                 6.0          18.0   \n",
       "23          2022-02-22   66.0     1420.0                 0.0          20.0   \n",
       "\n",
       "observation  Outgoing  Projectile   Shot  Shots and bursts  \n",
       "19                0.0         0.0   32.0               0.0  \n",
       "20                0.0        64.0  552.0               0.0  \n",
       "21                0.0       140.0    3.0               0.0  \n",
       "22                0.0       379.0    0.0               0.0  \n",
       "23                1.0        61.0    7.0               0.0  "
      ]
     },
     "execution_count": 29,
     "metadata": {},
     "output_type": "execute_result"
    }
   ],
   "source": [
    "daily_counts_pivot.tail()"
   ]
  },
  {
   "cell_type": "markdown",
   "id": "e3c97b04-4af1-41d0-96c8-83d428d06c0d",
   "metadata": {},
   "source": [
    "#### Chart"
   ]
  },
  {
   "cell_type": "code",
   "execution_count": 30,
   "id": "aa5b7e9f-c04f-4348-91bb-927deb60ded8",
   "metadata": {},
   "outputs": [
    {
     "data": {
      "text/html": [
       "\n",
       "<div id=\"altair-viz-9b55c892e70f4982ad5bd6401bff02d2\"></div>\n",
       "<script type=\"text/javascript\">\n",
       "  var VEGA_DEBUG = (typeof VEGA_DEBUG == \"undefined\") ? {} : VEGA_DEBUG;\n",
       "  (function(spec, embedOpt){\n",
       "    let outputDiv = document.currentScript.previousElementSibling;\n",
       "    if (outputDiv.id !== \"altair-viz-9b55c892e70f4982ad5bd6401bff02d2\") {\n",
       "      outputDiv = document.getElementById(\"altair-viz-9b55c892e70f4982ad5bd6401bff02d2\");\n",
       "    }\n",
       "    const paths = {\n",
       "      \"vega\": \"https://cdn.jsdelivr.net/npm//vega@5?noext\",\n",
       "      \"vega-lib\": \"https://cdn.jsdelivr.net/npm//vega-lib?noext\",\n",
       "      \"vega-lite\": \"https://cdn.jsdelivr.net/npm//vega-lite@4.17.0?noext\",\n",
       "      \"vega-embed\": \"https://cdn.jsdelivr.net/npm//vega-embed@6?noext\",\n",
       "    };\n",
       "\n",
       "    function maybeLoadScript(lib, version) {\n",
       "      var key = `${lib.replace(\"-\", \"\")}_version`;\n",
       "      return (VEGA_DEBUG[key] == version) ?\n",
       "        Promise.resolve(paths[lib]) :\n",
       "        new Promise(function(resolve, reject) {\n",
       "          var s = document.createElement('script');\n",
       "          document.getElementsByTagName(\"head\")[0].appendChild(s);\n",
       "          s.async = true;\n",
       "          s.onload = () => {\n",
       "            VEGA_DEBUG[key] = version;\n",
       "            return resolve(paths[lib]);\n",
       "          };\n",
       "          s.onerror = () => reject(`Error loading script: ${paths[lib]}`);\n",
       "          s.src = paths[lib];\n",
       "        });\n",
       "    }\n",
       "\n",
       "    function showError(err) {\n",
       "      outputDiv.innerHTML = `<div class=\"error\" style=\"color:red;\">${err}</div>`;\n",
       "      throw err;\n",
       "    }\n",
       "\n",
       "    function displayChart(vegaEmbed) {\n",
       "      vegaEmbed(outputDiv, spec, embedOpt)\n",
       "        .catch(err => showError(`Javascript Error: ${err.message}<br>This usually means there's a typo in your chart specification. See the javascript console for the full traceback.`));\n",
       "    }\n",
       "\n",
       "    if(typeof define === \"function\" && define.amd) {\n",
       "      requirejs.config({paths});\n",
       "      require([\"vega-embed\"], displayChart, err => showError(`Error loading script: ${err.message}`));\n",
       "    } else {\n",
       "      maybeLoadScript(\"vega\", \"5\")\n",
       "        .then(() => maybeLoadScript(\"vega-lite\", \"4.17.0\"))\n",
       "        .then(() => maybeLoadScript(\"vega-embed\", \"6\"))\n",
       "        .catch(showError)\n",
       "        .then(() => displayChart(vegaEmbed));\n",
       "    }\n",
       "  })({\"config\": {\"view\": {\"continuousWidth\": 400, \"continuousHeight\": 300}}, \"data\": {\"name\": \"data-beabb0bb96aff5ad1a5f229688361e37\"}, \"mark\": {\"type\": \"bar\", \"width\": 4}, \"encoding\": {\"color\": {\"field\": \"observation\", \"type\": \"nominal\"}, \"facet\": {\"columns\": 4, \"field\": \"observation\", \"type\": \"nominal\"}, \"x\": {\"field\": \"date_clean\", \"type\": \"temporal\"}, \"y\": {\"field\": \"number\", \"type\": \"quantitative\"}}, \"height\": 200, \"title\": \"Daily number of explosions counted as ceasefire violations in February\", \"width\": 200, \"$schema\": \"https://vega.github.io/schema/vega-lite/v4.17.0.json\", \"datasets\": {\"data-beabb0bb96aff5ad1a5f229688361e37\": [{\"date_clean\": \"2022-02-02T00:00:00\", \"observation\": \"Explosion\", \"number\": 16.0}, {\"date_clean\": \"2022-02-06T00:00:00\", \"observation\": \"Explosion\", \"number\": 3.0}, {\"date_clean\": \"2022-02-06T00:00:00\", \"observation\": \"Muzzle flash\", \"number\": 1.0}, {\"date_clean\": \"2022-02-06T00:00:00\", \"observation\": \"Projectile\", \"number\": 20.0}, {\"date_clean\": \"2022-02-07T00:00:00\", \"observation\": \"Burst\", \"number\": 35.0}, {\"date_clean\": \"2022-02-07T00:00:00\", \"observation\": \"Explosion\", \"number\": 71.0}, {\"date_clean\": \"2022-02-07T00:00:00\", \"observation\": \"Projectile\", \"number\": 9.0}, {\"date_clean\": \"2022-02-07T00:00:00\", \"observation\": \"Shot\", \"number\": 5.0}, {\"date_clean\": \"2022-02-08T00:00:00\", \"observation\": \"Burst\", \"number\": 163.0}, {\"date_clean\": \"2022-02-08T00:00:00\", \"observation\": \"Explosion\", \"number\": 30.0}, {\"date_clean\": \"2022-02-08T00:00:00\", \"observation\": \"Shot\", \"number\": 69.0}, {\"date_clean\": \"2022-02-09T00:00:00\", \"observation\": \"Burst\", \"number\": 103.0}, {\"date_clean\": \"2022-02-09T00:00:00\", \"observation\": \"Explosion\", \"number\": 35.0}, {\"date_clean\": \"2022-02-09T00:00:00\", \"observation\": \"Muzzle flash\", \"number\": 8.0}, {\"date_clean\": \"2022-02-09T00:00:00\", \"observation\": \"Projectile\", \"number\": 292.0}, {\"date_clean\": \"2022-02-09T00:00:00\", \"observation\": \"Shot\", \"number\": 16.0}, {\"date_clean\": \"2022-02-10T00:00:00\", \"observation\": \"Burst\", \"number\": 254.0}, {\"date_clean\": \"2022-02-10T00:00:00\", \"observation\": \"Explosion\", \"number\": 142.0}, {\"date_clean\": \"2022-02-10T00:00:00\", \"observation\": \"Illumination flare\", \"number\": 1.0}, {\"date_clean\": \"2022-02-10T00:00:00\", \"observation\": \"Muzzle flash\", \"number\": 3.0}, {\"date_clean\": \"2022-02-10T00:00:00\", \"observation\": \"Projectile\", \"number\": 22.0}, {\"date_clean\": \"2022-02-10T00:00:00\", \"observation\": \"Shot\", \"number\": 19.0}, {\"date_clean\": \"2022-02-11T00:00:00\", \"observation\": \"Burst\", \"number\": 77.0}, {\"date_clean\": \"2022-02-11T00:00:00\", \"observation\": \"Explosion\", \"number\": 97.0}, {\"date_clean\": \"2022-02-11T00:00:00\", \"observation\": \"Projectile\", \"number\": 5.0}, {\"date_clean\": \"2022-02-11T00:00:00\", \"observation\": \"Shot\", \"number\": 180.0}, {\"date_clean\": \"2022-02-13T00:00:00\", \"observation\": \"Explosion\", \"number\": 16.0}, {\"date_clean\": \"2022-02-14T00:00:00\", \"observation\": \"Burst\", \"number\": 22.0}, {\"date_clean\": \"2022-02-14T00:00:00\", \"observation\": \"Explosion\", \"number\": 32.0}, {\"date_clean\": \"2022-02-14T00:00:00\", \"observation\": \"Muzzle flash\", \"number\": 3.0}, {\"date_clean\": \"2022-02-14T00:00:00\", \"observation\": \"Projectile\", \"number\": 11.0}, {\"date_clean\": \"2022-02-14T00:00:00\", \"observation\": \"Shot\", \"number\": 105.0}, {\"date_clean\": \"2022-02-15T00:00:00\", \"observation\": \"Burst\", \"number\": 63.0}, {\"date_clean\": \"2022-02-15T00:00:00\", \"observation\": \"Explosion\", \"number\": 189.0}, {\"date_clean\": \"2022-02-15T00:00:00\", \"observation\": \"Projectile\", \"number\": 18.0}, {\"date_clean\": \"2022-02-15T00:00:00\", \"observation\": \"Shots and bursts\", \"number\": 152.0}, {\"date_clean\": \"2022-02-16T00:00:00\", \"observation\": \"Burst\", \"number\": 89.0}, {\"date_clean\": \"2022-02-16T00:00:00\", \"observation\": \"Explosion\", \"number\": 215.0}, {\"date_clean\": \"2022-02-16T00:00:00\", \"observation\": \"Illumination flare\", \"number\": 1.0}, {\"date_clean\": \"2022-02-16T00:00:00\", \"observation\": \"Muzzle flash\", \"number\": 7.0}, {\"date_clean\": \"2022-02-16T00:00:00\", \"observation\": \"Projectile\", \"number\": 2.0}, {\"date_clean\": \"2022-02-16T00:00:00\", \"observation\": \"Shot\", \"number\": 68.0}, {\"date_clean\": \"2022-02-17T00:00:00\", \"observation\": \"Burst\", \"number\": 55.0}, {\"date_clean\": \"2022-02-17T00:00:00\", \"observation\": \"Explosion\", \"number\": 1011.0}, {\"date_clean\": \"2022-02-17T00:00:00\", \"observation\": \"Illumination flare\", \"number\": 5.0}, {\"date_clean\": \"2022-02-17T00:00:00\", \"observation\": \"Muzzle flash\", \"number\": 2.0}, {\"date_clean\": \"2022-02-17T00:00:00\", \"observation\": \"Projectile\", \"number\": 57.0}, {\"date_clean\": \"2022-02-17T00:00:00\", \"observation\": \"Shot\", \"number\": 53.0}, {\"date_clean\": \"2022-02-18T00:00:00\", \"observation\": \"Burst\", \"number\": 38.0}, {\"date_clean\": \"2022-02-18T00:00:00\", \"observation\": \"Explosion\", \"number\": 1107.0}, {\"date_clean\": \"2022-02-18T00:00:00\", \"observation\": \"Illumination flare\", \"number\": 3.0}, {\"date_clean\": \"2022-02-18T00:00:00\", \"observation\": \"Shot\", \"number\": 32.0}, {\"date_clean\": \"2022-02-19T00:00:00\", \"observation\": \"Burst\", \"number\": 525.0}, {\"date_clean\": \"2022-02-19T00:00:00\", \"observation\": \"Explosion\", \"number\": 1317.0}, {\"date_clean\": \"2022-02-19T00:00:00\", \"observation\": \"Illumination flare\", \"number\": 9.0}, {\"date_clean\": \"2022-02-19T00:00:00\", \"observation\": \"Muzzle flash\", \"number\": 13.0}, {\"date_clean\": \"2022-02-19T00:00:00\", \"observation\": \"Projectile\", \"number\": 64.0}, {\"date_clean\": \"2022-02-19T00:00:00\", \"observation\": \"Shot\", \"number\": 552.0}, {\"date_clean\": \"2022-02-20T00:00:00\", \"observation\": \"Burst\", \"number\": 4.0}, {\"date_clean\": \"2022-02-20T00:00:00\", \"observation\": \"Explosion\", \"number\": 1247.0}, {\"date_clean\": \"2022-02-20T00:00:00\", \"observation\": \"Illumination flare\", \"number\": 9.0}, {\"date_clean\": \"2022-02-20T00:00:00\", \"observation\": \"Muzzle flash\", \"number\": 6.0}, {\"date_clean\": \"2022-02-20T00:00:00\", \"observation\": \"Projectile\", \"number\": 140.0}, {\"date_clean\": \"2022-02-20T00:00:00\", \"observation\": \"Shot\", \"number\": 3.0}, {\"date_clean\": \"2022-02-21T00:00:00\", \"observation\": \"Burst\", \"number\": 119.0}, {\"date_clean\": \"2022-02-21T00:00:00\", \"observation\": \"Explosion\", \"number\": 923.0}, {\"date_clean\": \"2022-02-21T00:00:00\", \"observation\": \"Illumination flare\", \"number\": 6.0}, {\"date_clean\": \"2022-02-21T00:00:00\", \"observation\": \"Muzzle flash\", \"number\": 18.0}, {\"date_clean\": \"2022-02-21T00:00:00\", \"observation\": \"Projectile\", \"number\": 379.0}, {\"date_clean\": \"2022-02-22T00:00:00\", \"observation\": \"Burst\", \"number\": 66.0}, {\"date_clean\": \"2022-02-22T00:00:00\", \"observation\": \"Explosion\", \"number\": 1420.0}, {\"date_clean\": \"2022-02-22T00:00:00\", \"observation\": \"Muzzle flash\", \"number\": 20.0}, {\"date_clean\": \"2022-02-22T00:00:00\", \"observation\": \"Outgoing\", \"number\": 1.0}, {\"date_clean\": \"2022-02-22T00:00:00\", \"observation\": \"Projectile\", \"number\": 61.0}, {\"date_clean\": \"2022-02-22T00:00:00\", \"observation\": \"Shot\", \"number\": 7.0}]}}, {\"mode\": \"vega-lite\"});\n",
       "</script>"
      ],
      "text/plain": [
       "alt.Chart(...)"
      ]
     },
     "execution_count": 30,
     "metadata": {},
     "output_type": "execute_result"
    }
   ],
   "source": [
    "alt.Chart(\n",
    "    daily_counts_types[\n",
    "        # (daily_counts_types[\"observation\"] == \"Explosion\")&\n",
    "        (daily_counts_types[\"date_clean\"] > \"2022-01-31\")\n",
    "    ]\n",
    ").mark_bar(width=4).encode(\n",
    "    x=\"date_clean:T\",\n",
    "    y=\"number:Q\",\n",
    "    color=\"observation\",\n",
    "    facet=alt.Facet(\"observation\", columns=4),\n",
    ").properties(\n",
    "    width=200,\n",
    "    height=200,\n",
    "    title=\"Daily number of explosions counted as ceasefire violations in February\",\n",
    ")"
   ]
  },
  {
   "cell_type": "markdown",
   "id": "3cd332ab-413f-459b-bf34-77371b6d8d63",
   "metadata": {},
   "source": [
    "---"
   ]
  },
  {
   "cell_type": "markdown",
   "id": "a9de0d4c-1382-4e35-88e8-f1216b35da5a",
   "metadata": {},
   "source": [
    "#### Export"
   ]
  },
  {
   "cell_type": "code",
   "execution_count": 31,
   "id": "44aea540-87e1-4476-a9b6-56177c738588",
   "metadata": {},
   "outputs": [],
   "source": [
    "daily_counts.to_csv(\"data/processed/daily_counts.csv\", index=False)"
   ]
  },
  {
   "cell_type": "code",
   "execution_count": 32,
   "id": "5185cd97-2871-4ce3-b01b-9ca934dea732",
   "metadata": {},
   "outputs": [],
   "source": [
    "daily_counts_pivot.to_csv(\"data/processed/daily_counts_pivot.csv\", index=False)"
   ]
  },
  {
   "cell_type": "code",
   "execution_count": 33,
   "id": "38c0a158-bcbe-4520-8685-34c58218baf4",
   "metadata": {},
   "outputs": [],
   "source": [
    "observations.to_csv(\"data/processed/observations_totals_jan-feb.csv\", index=False)"
   ]
  }
 ],
 "metadata": {
  "kernelspec": {
   "display_name": "Python 3 (ipykernel)",
   "language": "python",
   "name": "python3"
  },
  "language_info": {
   "codemirror_mode": {
    "name": "ipython",
    "version": 3
   },
   "file_extension": ".py",
   "mimetype": "text/x-python",
   "name": "python",
   "nbconvert_exporter": "python",
   "pygments_lexer": "ipython3",
   "version": "3.9.9"
  }
 },
 "nbformat": 4,
 "nbformat_minor": 5
}
