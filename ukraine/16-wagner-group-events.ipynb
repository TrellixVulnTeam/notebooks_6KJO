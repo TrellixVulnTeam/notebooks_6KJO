{
 "cells": [
  {
   "cell_type": "markdown",
   "id": "9c43b27f-6621-4f51-8dbe-5f84d7c661b4",
   "metadata": {},
   "source": [
    "### setup"
   ]
  },
  {
   "cell_type": "code",
   "execution_count": 1,
   "id": "8e8eadb9-d774-4273-9a2e-f67b95d7e6e8",
   "metadata": {},
   "outputs": [],
   "source": [
    "%load_ext lab_black"
   ]
  },
  {
   "cell_type": "code",
   "execution_count": 2,
   "id": "225b40a0-877a-4d41-b8ae-dfeab0da5f33",
   "metadata": {},
   "outputs": [],
   "source": [
    "import pandas as pd\n",
    "import requests\n",
    "import pageviewapi\n",
    "import datetime as dt\n",
    "from bs4 import BeautifulSoup\n",
    "import altair as alt"
   ]
  },
  {
   "cell_type": "code",
   "execution_count": 3,
   "id": "3c95bf49-d456-4d8c-ada9-1e391ee6a430",
   "metadata": {},
   "outputs": [],
   "source": [
    "pd.options.display.max_columns = 100\n",
    "pd.options.display.max_rows = 1000\n",
    "pd.options.display.max_colwidth = None"
   ]
  },
  {
   "cell_type": "code",
   "execution_count": 4,
   "id": "e0f8afff-7d3c-4dfe-8a5b-f7735955848c",
   "metadata": {},
   "outputs": [],
   "source": [
    "begin = \"20210101\"\n",
    "today = dt.datetime.today().strftime(\"%Y%m%d\")"
   ]
  },
  {
   "cell_type": "markdown",
   "id": "c86f6b73-835f-4304-b753-e07a4096100e",
   "metadata": {},
   "source": [
    "---"
   ]
  },
  {
   "cell_type": "markdown",
   "id": "8f019037-eef0-41e6-96de-145cfce25791",
   "metadata": {
    "tags": []
   },
   "source": [
    "### read data\n"
   ]
  },
  {
   "cell_type": "code",
   "execution_count": 6,
   "id": "f7b28562-978c-4db1-b197-69e9723431aa",
   "metadata": {},
   "outputs": [],
   "source": [
    "df = pd.read_csv(\"data/raw/wagner_raw.csv\")"
   ]
  },
  {
   "cell_type": "code",
   "execution_count": 11,
   "id": "95b72ad1-bd21-4439-9c8d-795b71fe7a10",
   "metadata": {},
   "outputs": [
    {
     "data": {
      "text/plain": [
       "year\n",
       "2021    230\n",
       "2022    103\n",
       "2020      8\n",
       "2019      2\n",
       "2018      1\n",
       "dtype: int64"
      ]
     },
     "execution_count": 11,
     "metadata": {},
     "output_type": "execute_result"
    }
   ],
   "source": [
    "df.value_counts(\"year\")"
   ]
  },
  {
   "cell_type": "code",
   "execution_count": null,
   "id": "a6b9a7f6-d65d-43e8-beb7-423f3e261d70",
   "metadata": {},
   "outputs": [],
   "source": []
  }
 ],
 "metadata": {
  "kernelspec": {
   "display_name": "Python 3 (ipykernel)",
   "language": "python",
   "name": "python3"
  },
  "language_info": {
   "codemirror_mode": {
    "name": "ipython",
    "version": 3
   },
   "file_extension": ".py",
   "mimetype": "text/x-python",
   "name": "python",
   "nbconvert_exporter": "python",
   "pygments_lexer": "ipython3",
   "version": "3.9.13"
  }
 },
 "nbformat": 4,
 "nbformat_minor": 5
}
