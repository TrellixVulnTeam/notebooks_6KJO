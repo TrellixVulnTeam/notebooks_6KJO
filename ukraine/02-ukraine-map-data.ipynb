{
 "cells": [
  {
   "cell_type": "markdown",
   "id": "ac6088c4-9d33-483b-809e-9d7aa86a77fa",
   "metadata": {},
   "source": [
    "# Ukraine events from the Center for Information Resilience"
   ]
  },
  {
   "cell_type": "code",
   "execution_count": 1,
   "id": "8542a24b-9d1e-41f1-bd62-a5cb54fb7465",
   "metadata": {},
   "outputs": [],
   "source": [
    "%load_ext lab_black"
   ]
  },
  {
   "cell_type": "code",
   "execution_count": 2,
   "id": "715616b0-2297-4dd7-9dd6-55721396ba71",
   "metadata": {},
   "outputs": [],
   "source": [
    "import pandas as pd\n",
    "import geopandas as gpd\n",
    "import altair as alt"
   ]
  },
  {
   "cell_type": "code",
   "execution_count": 3,
   "id": "d8bde799-4d4c-48f6-b072-5c0eadd61c3e",
   "metadata": {},
   "outputs": [],
   "source": [
    "pd.options.display.max_columns = 1000\n",
    "pd.options.display.max_rows = 1000"
   ]
  },
  {
   "cell_type": "markdown",
   "id": "acc29b0d-852d-4244-b97a-06e4f69e995f",
   "metadata": {},
   "source": [
    "---"
   ]
  },
  {
   "cell_type": "markdown",
   "id": "778c5162-cc67-4e85-89fe-e8f9848c9235",
   "metadata": {},
   "source": [
    "## Get data from web "
   ]
  },
  {
   "cell_type": "markdown",
   "id": "e9128fb6-5638-4d0f-92c4-bcf26fdf1160",
   "metadata": {},
   "source": [
    "#### Read data"
   ]
  },
  {
   "cell_type": "code",
   "execution_count": 4,
   "id": "443b2562-b816-40c1-835e-28ff5dc6dee0",
   "metadata": {},
   "outputs": [],
   "source": [
    "#### Must copy response to json from inspector and save a local copy from here: https://maphub.net/Cen4infoRes/russian-ukraine-monitor"
   ]
  },
  {
   "cell_type": "code",
   "execution_count": 5,
   "id": "a7fcc0fe-e4a9-4eda-afa6-c8f6fe1b16e2",
   "metadata": {},
   "outputs": [],
   "source": [
    "import json\n",
    "\n",
    "with open(\"data/raw/center_for_info_res_ukraine_02-27-22.geojson\") as f:\n",
    "    jsons = json.load(f)"
   ]
  },
  {
   "cell_type": "markdown",
   "id": "e48012fb-7509-424f-bdb6-6b2f40dc1cb6",
   "metadata": {},
   "source": [
    "#### Get the features and read them into a dataframe"
   ]
  },
  {
   "cell_type": "code",
   "execution_count": 6,
   "id": "e2c9bea3-eecf-400e-a49a-8218993ab7f6",
   "metadata": {},
   "outputs": [],
   "source": [
    "data_list = []\n",
    "\n",
    "for j in jsons[\"geojson\"][\"features\"]:\n",
    "    data_list.append(j)"
   ]
  },
  {
   "cell_type": "code",
   "execution_count": 7,
   "id": "ee3c38b6-448f-472f-baef-07e60c075e7e",
   "metadata": {},
   "outputs": [],
   "source": [
    "df = pd.DataFrame(data_list)"
   ]
  },
  {
   "cell_type": "markdown",
   "id": "2628e459-b48e-4eb4-b3dc-a985f49f2a30",
   "metadata": {},
   "source": [
    "#### Flatten the nested columns"
   ]
  },
  {
   "cell_type": "code",
   "execution_count": 8,
   "id": "44470bdc-fa7f-48c5-a6c1-32c25067ac44",
   "metadata": {},
   "outputs": [],
   "source": [
    "df[[\"type\", \"coordinates\"]] = pd.json_normalize(df[\"geometry\"])"
   ]
  },
  {
   "cell_type": "code",
   "execution_count": 9,
   "id": "f6ed992f-5bb7-4cb6-9b22-c9d9dd954d60",
   "metadata": {},
   "outputs": [],
   "source": [
    "df[\n",
    "    [\n",
    "        \"title\",\n",
    "        \"description\",\n",
    "        \"group\",\n",
    "        \"marker-color\",\n",
    "        \"image.id\",\n",
    "        \"image.w\",\n",
    "        \"image.h\",\n",
    "        \"image.tip_color\",\n",
    "        \"image.avg_color\",\n",
    "        \"url\",\n",
    "    ]\n",
    "] = pd.json_normalize(df[\"properties\"])"
   ]
  },
  {
   "cell_type": "code",
   "execution_count": 10,
   "id": "ab060dca-cbb1-4013-9d8b-30239286a358",
   "metadata": {},
   "outputs": [],
   "source": [
    "df.drop(\n",
    "    [\n",
    "        \"geometry\",\n",
    "        \"properties\",\n",
    "        \"image.id\",\n",
    "        \"image.w\",\n",
    "        \"image.h\",\n",
    "        \"image.tip_color\",\n",
    "        \"image.avg_color\",\n",
    "        \"url\",\n",
    "    ],\n",
    "    axis=1,\n",
    "    inplace=True,\n",
    ")"
   ]
  },
  {
   "cell_type": "markdown",
   "id": "978d2efa-d4cc-4363-aa95-f435f06b4f74",
   "metadata": {},
   "source": [
    "#### Dates"
   ]
  },
  {
   "cell_type": "code",
   "execution_count": 11,
   "id": "4a19739d-978b-4b62-a8e7-14bf0b4a0202",
   "metadata": {},
   "outputs": [],
   "source": [
    "df[\"date\"] = df.title.str[:10]"
   ]
  },
  {
   "cell_type": "markdown",
   "id": "10877166-63e5-4023-897f-15348010ef0f",
   "metadata": {},
   "source": [
    "#### Strip out columns from title column"
   ]
  },
  {
   "cell_type": "code",
   "execution_count": 12,
   "id": "c746e114-c2f4-4604-875a-6b71537134dd",
   "metadata": {},
   "outputs": [],
   "source": [
    "df[\"details\"] = df.title.str[10:]"
   ]
  },
  {
   "cell_type": "markdown",
   "id": "d543b3d2-d2f0-496f-aae3-81afafcb8c01",
   "metadata": {},
   "source": [
    "#### Coordinates"
   ]
  },
  {
   "cell_type": "code",
   "execution_count": 13,
   "id": "e6ef83a4-44fc-4594-b65f-066b1998d455",
   "metadata": {},
   "outputs": [],
   "source": [
    "df[[\"longitude\", \"latitude\"]] = pd.DataFrame(df.coordinates.tolist(), index=df.index)"
   ]
  },
  {
   "cell_type": "markdown",
   "id": "a9e8dd9f-edc3-4aca-bc23-5a3150051554",
   "metadata": {},
   "source": [
    "#### Prep 'description' column and split to snag URL of event"
   ]
  },
  {
   "cell_type": "code",
   "execution_count": 14,
   "id": "12d1723a-a26c-4417-946c-4ad6a95bc957",
   "metadata": {},
   "outputs": [],
   "source": [
    "df[\"description_clean\"] = (\n",
    "    df[\"description\"]\n",
    "    .str.replace(\"\\n\", \"|\", regex=False)\n",
    "    .str.replace(\"DATE:  \", \"\", regex=False)\n",
    "    .str.replace(\"LINK: \", \"\", regex=False)\n",
    "    .str.replace(\"DATE: \", \"\", regex=False)\n",
    "    .str.replace(\"BRIEF DESCRIPTION: \", \"\", regex=False)\n",
    "    .str.replace(\"VIOLENCE LEVEL: 1|\", \"\", regex=False)\n",
    "    .str.replace(\"VIOLENCE LEVEL: 2|\", \"\", regex=False)\n",
    "    .str.replace(\"VIOLENCE LEVEL: 3|\", \"\", regex=False)\n",
    "    .str.replace(\"VIOLENCE LEVEL: 4|\", \"\", regex=False)\n",
    "    .str.replace(\"VIOLENCE LEVEL: 5|\", \"\", regex=False)\n",
    "    .str.replace(\"DATE:\", \"\", regex=False)\n",
    "    .str.replace(\" Logistics convoy moving towards Belarus|03/02/2022\", \"\", regex=False)\n",
    "    .str.replace(\" Russian military equipment|31/01/2022|\", \"|\", regex=False)\n",
    "    .str.replace(\n",
    "        \"|Iskander missile systems at Asipovicky training ground|\", \"||\", regex=False\n",
    "    )\n",
    ")"
   ]
  },
  {
   "cell_type": "code",
   "execution_count": 15,
   "id": "976c174b-796e-443f-949e-0fd634c91bbc",
   "metadata": {},
   "outputs": [],
   "source": [
    "df[[\"drop\", \"url\"]] = df[\"description_clean\"].str.split(\"|\", expand=True, n=1)"
   ]
  },
  {
   "cell_type": "markdown",
   "id": "618404bb-8056-48f5-ab31-1227e2ee00d4",
   "metadata": {},
   "source": [
    "#### Marker group colors into English categories"
   ]
  },
  {
   "cell_type": "code",
   "execution_count": 16,
   "id": "939ca3a1-9245-4dc4-9ef8-d9130b565e13",
   "metadata": {},
   "outputs": [],
   "source": [
    "colors = {\n",
    "    \"#005e38\": \"movement and buildup of military assets\",\n",
    "    \"#cc1b15\": \"civilian casualties, infrastructure damage and military losses\",\n",
    "    \"#f18729\": \"evidence of gunfire, bombing, shelling or explosion\",\n",
    "    \"#ffcc00\": \"other footage\",\n",
    "}"
   ]
  },
  {
   "cell_type": "code",
   "execution_count": 17,
   "id": "46a3cd35-93ae-4c1e-b108-ab3a1742cab4",
   "metadata": {},
   "outputs": [],
   "source": [
    "df[\"type\"] = df[\"marker-color\"].map(colors)"
   ]
  },
  {
   "cell_type": "markdown",
   "id": "aa584bfd-9cd8-41ae-8f89-73e3345c9839",
   "metadata": {},
   "source": [
    "#### Dump what we don't need"
   ]
  },
  {
   "cell_type": "code",
   "execution_count": 18,
   "id": "096831d9-24e6-4daa-839d-2a78020f1cbe",
   "metadata": {},
   "outputs": [],
   "source": [
    "df.drop(\n",
    "    [\n",
    "        \"drop\",\n",
    "        \"title\",\n",
    "        \"coordinates\",\n",
    "        \"title\",\n",
    "        \"description\",\n",
    "        \"description_clean\",\n",
    "        \"marker-color\",\n",
    "        \"group\",\n",
    "    ],\n",
    "    axis=1,\n",
    "    inplace=True,\n",
    ")"
   ]
  },
  {
   "cell_type": "markdown",
   "id": "4eb3304a-dd4b-467f-950c-cc8f89e7bdda",
   "metadata": {},
   "source": [
    "#### Rearrange columns for export"
   ]
  },
  {
   "cell_type": "code",
   "execution_count": 19,
   "id": "11f39cf8-ed46-482b-bf29-2695fd8a9786",
   "metadata": {},
   "outputs": [],
   "source": [
    "df = df[[\"id\", \"date\", \"details\", \"url\", \"type\", \"longitude\", \"latitude\"]]"
   ]
  },
  {
   "cell_type": "markdown",
   "id": "ffb51671-3981-4174-9ed1-2c4b9032c993",
   "metadata": {},
   "source": [
    "---"
   ]
  },
  {
   "cell_type": "markdown",
   "id": "a4dc2fa9-232f-4c88-98eb-e4c3e5fcc72b",
   "metadata": {},
   "source": [
    "#### Export all"
   ]
  },
  {
   "cell_type": "code",
   "execution_count": 20,
   "id": "97ae87df-9dd8-48d5-b0e0-b271b9d130ba",
   "metadata": {},
   "outputs": [],
   "source": [
    "df.to_csv(\"data/processed/cir_ukraine_data.csv\", index=False)"
   ]
  },
  {
   "cell_type": "markdown",
   "id": "e3b9ed3c-20d0-4d6b-b7f8-712d80a6e286",
   "metadata": {},
   "source": [
    "#### Export all events not related to troop buildup"
   ]
  },
  {
   "cell_type": "code",
   "execution_count": 21,
   "id": "144a2448-74c7-4797-9bad-c3e0e10a2215",
   "metadata": {},
   "outputs": [],
   "source": [
    "df[df[\"type\"] != \"movement and buildup of military assets\"].to_csv(\n",
    "    \"data/processed/cir_ukraine_data_not_troops.csv\", index=False\n",
    ")"
   ]
  }
 ],
 "metadata": {
  "kernelspec": {
   "display_name": "Python 3 (ipykernel)",
   "language": "python",
   "name": "python3"
  },
  "language_info": {
   "codemirror_mode": {
    "name": "ipython",
    "version": 3
   },
   "file_extension": ".py",
   "mimetype": "text/x-python",
   "name": "python",
   "nbconvert_exporter": "python",
   "pygments_lexer": "ipython3",
   "version": "3.9.9"
  }
 },
 "nbformat": 4,
 "nbformat_minor": 5
}
