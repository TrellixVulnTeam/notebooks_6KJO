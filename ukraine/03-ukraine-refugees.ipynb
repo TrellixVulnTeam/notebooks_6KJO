{
 "cells": [
  {
   "cell_type": "markdown",
   "id": "93366893-5e02-4f06-8cf6-58d01be7fb69",
   "metadata": {},
   "source": [
    "# Ukraine refugees: Totals and locations"
   ]
  },
  {
   "cell_type": "markdown",
   "id": "1b2b9570-994c-4547-81ab-0524e98485e6",
   "metadata": {},
   "source": [
    "Source: [United Nations High Commissioner for Refugees](https://data2.unhcr.org/en/situations/ukraine)"
   ]
  },
  {
   "cell_type": "code",
   "execution_count": 1,
   "id": "2484e45b-c60d-48ed-bb2e-25ad958d832c",
   "metadata": {},
   "outputs": [],
   "source": [
    "%load_ext lab_black"
   ]
  },
  {
   "cell_type": "code",
   "execution_count": 2,
   "id": "0340042e-e074-4eb8-b6d6-3eb218d98571",
   "metadata": {},
   "outputs": [],
   "source": [
    "import pandas as pd\n",
    "import geopandas as gpd\n",
    "import altair as alt\n",
    "import urllib.request, json"
   ]
  },
  {
   "cell_type": "code",
   "execution_count": 3,
   "id": "67ae26f2-445a-4a9c-aaa1-ba737f39c59b",
   "metadata": {},
   "outputs": [],
   "source": [
    "pd.options.display.max_columns = 1000\n",
    "pd.options.display.max_rows = 1000"
   ]
  },
  {
   "cell_type": "markdown",
   "id": "cf5000c3-6380-4acd-a9db-909ec413da58",
   "metadata": {},
   "source": [
    "---"
   ]
  },
  {
   "cell_type": "markdown",
   "id": "268c4160-5595-4740-b177-94078ff6a256",
   "metadata": {},
   "source": [
    "## Totals"
   ]
  },
  {
   "cell_type": "code",
   "execution_count": 4,
   "id": "eac1ca1e-c441-4818-b871-e72ddd701b0e",
   "metadata": {},
   "outputs": [],
   "source": [
    "totals_url = \"https://data2.unhcr.org/population/get/timeseries?widget_id=283561&sv_id=54&population_group=5457&frequency=day&fromDate=1900-01-01&currentSeries=0\""
   ]
  },
  {
   "cell_type": "code",
   "execution_count": 5,
   "id": "de2d0b33-1c84-4665-9d76-aaaa361369e0",
   "metadata": {},
   "outputs": [],
   "source": [
    "with urllib.request.urlopen(totals_url) as url:\n",
    "    totals = json.loads(url.read().decode())"
   ]
  },
  {
   "cell_type": "code",
   "execution_count": 6,
   "id": "90c46576-609c-4e9a-906e-9e4d42037a24",
   "metadata": {},
   "outputs": [],
   "source": [
    "total_df = (\n",
    "    pd.DataFrame(totals[\"data\"][\"timeseries\"])\n",
    "    .rename(columns={\"data_date\": \"date\"})\n",
    "    .drop([\"unix_timestamp\"], axis=1)\n",
    ")"
   ]
  },
  {
   "cell_type": "code",
   "execution_count": 7,
   "id": "d7c2a434-7c7d-47c2-b405-67c938d72b39",
   "metadata": {},
   "outputs": [],
   "source": [
    "total_df[\"cumsum\"] = total_df[\"individuals\"].cumsum()"
   ]
  },
  {
   "cell_type": "code",
   "execution_count": 8,
   "id": "0e1aca4f-10ef-427d-ad1d-18b1a92024d1",
   "metadata": {},
   "outputs": [
    {
     "data": {
      "text/html": [
       "\n",
       "<div id=\"altair-viz-73ef1fe2f802410e969fbe78b112fc59\"></div>\n",
       "<script type=\"text/javascript\">\n",
       "  var VEGA_DEBUG = (typeof VEGA_DEBUG == \"undefined\") ? {} : VEGA_DEBUG;\n",
       "  (function(spec, embedOpt){\n",
       "    let outputDiv = document.currentScript.previousElementSibling;\n",
       "    if (outputDiv.id !== \"altair-viz-73ef1fe2f802410e969fbe78b112fc59\") {\n",
       "      outputDiv = document.getElementById(\"altair-viz-73ef1fe2f802410e969fbe78b112fc59\");\n",
       "    }\n",
       "    const paths = {\n",
       "      \"vega\": \"https://cdn.jsdelivr.net/npm//vega@5?noext\",\n",
       "      \"vega-lib\": \"https://cdn.jsdelivr.net/npm//vega-lib?noext\",\n",
       "      \"vega-lite\": \"https://cdn.jsdelivr.net/npm//vega-lite@4.17.0?noext\",\n",
       "      \"vega-embed\": \"https://cdn.jsdelivr.net/npm//vega-embed@6?noext\",\n",
       "    };\n",
       "\n",
       "    function maybeLoadScript(lib, version) {\n",
       "      var key = `${lib.replace(\"-\", \"\")}_version`;\n",
       "      return (VEGA_DEBUG[key] == version) ?\n",
       "        Promise.resolve(paths[lib]) :\n",
       "        new Promise(function(resolve, reject) {\n",
       "          var s = document.createElement('script');\n",
       "          document.getElementsByTagName(\"head\")[0].appendChild(s);\n",
       "          s.async = true;\n",
       "          s.onload = () => {\n",
       "            VEGA_DEBUG[key] = version;\n",
       "            return resolve(paths[lib]);\n",
       "          };\n",
       "          s.onerror = () => reject(`Error loading script: ${paths[lib]}`);\n",
       "          s.src = paths[lib];\n",
       "        });\n",
       "    }\n",
       "\n",
       "    function showError(err) {\n",
       "      outputDiv.innerHTML = `<div class=\"error\" style=\"color:red;\">${err}</div>`;\n",
       "      throw err;\n",
       "    }\n",
       "\n",
       "    function displayChart(vegaEmbed) {\n",
       "      vegaEmbed(outputDiv, spec, embedOpt)\n",
       "        .catch(err => showError(`Javascript Error: ${err.message}<br>This usually means there's a typo in your chart specification. See the javascript console for the full traceback.`));\n",
       "    }\n",
       "\n",
       "    if(typeof define === \"function\" && define.amd) {\n",
       "      requirejs.config({paths});\n",
       "      require([\"vega-embed\"], displayChart, err => showError(`Error loading script: ${err.message}`));\n",
       "    } else {\n",
       "      maybeLoadScript(\"vega\", \"5\")\n",
       "        .then(() => maybeLoadScript(\"vega-lite\", \"4.17.0\"))\n",
       "        .then(() => maybeLoadScript(\"vega-embed\", \"6\"))\n",
       "        .catch(showError)\n",
       "        .then(() => displayChart(vegaEmbed));\n",
       "    }\n",
       "  })({\"config\": {\"view\": {\"continuousWidth\": 400, \"continuousHeight\": 300}}, \"data\": {\"name\": \"data-a79a6007b6917266f16918e663e338b1\"}, \"mark\": \"line\", \"encoding\": {\"x\": {\"field\": \"date\", \"type\": \"temporal\"}, \"y\": {\"field\": \"cumsum\", \"type\": \"quantitative\"}}, \"width\": 500, \"$schema\": \"https://vega.github.io/schema/vega-lite/v4.17.0.json\", \"datasets\": {\"data-a79a6007b6917266f16918e663e338b1\": [{\"date\": \"2022-02-24\", \"individuals\": 79209, \"cumsum\": 79209}, {\"date\": \"2022-02-25\", \"individuals\": 100391, \"cumsum\": 179600}, {\"date\": \"2022-02-26\", \"individuals\": 143310, \"cumsum\": 322910}, {\"date\": \"2022-02-27\", \"individuals\": 167748, \"cumsum\": 490658}, {\"date\": \"2022-02-28\", \"individuals\": 162087, \"cumsum\": 652745}, {\"date\": \"2022-03-01\", \"individuals\": 166391, \"cumsum\": 819136}, {\"date\": \"2022-03-02\", \"individuals\": 170874, \"cumsum\": 990010}, {\"date\": \"2022-03-03\", \"individuals\": 184205, \"cumsum\": 1174215}, {\"date\": \"2022-03-04\", \"individuals\": 170175, \"cumsum\": 1344390}, {\"date\": \"2022-03-05\", \"individuals\": 196748, \"cumsum\": 1541138}, {\"date\": \"2022-03-06\", \"individuals\": 202599, \"cumsum\": 1743737}, {\"date\": \"2022-03-07\", \"individuals\": 206079, \"cumsum\": 1949816}, {\"date\": \"2022-03-08\", \"individuals\": 183873, \"cumsum\": 2133689}, {\"date\": \"2022-03-09\", \"individuals\": 168532, \"cumsum\": 2302221}, {\"date\": \"2022-03-10\", \"individuals\": 132387, \"cumsum\": 2434608}, {\"date\": \"2022-03-11\", \"individuals\": 119293, \"cumsum\": 2553901}, {\"date\": \"2022-03-12\", \"individuals\": 113455, \"cumsum\": 2667356}, {\"date\": \"2022-03-13\", \"individuals\": 123339, \"cumsum\": 2790695}, {\"date\": \"2022-03-14\", \"individuals\": 110946, \"cumsum\": 2901641}, {\"date\": \"2022-03-15\", \"individuals\": 107304, \"cumsum\": 3008945}, {\"date\": \"2022-03-16\", \"individuals\": 100961, \"cumsum\": 3109906}, {\"date\": \"2022-03-17\", \"individuals\": 83588, \"cumsum\": 3193494}, {\"date\": \"2022-03-18\", \"individuals\": 78911, \"cumsum\": 3272405}, {\"date\": \"2022-03-19\", \"individuals\": 72754, \"cumsum\": 3345159}, {\"date\": \"2022-03-20\", \"individuals\": 58318, \"cumsum\": 3403477}, {\"date\": \"2022-03-21\", \"individuals\": 58828, \"cumsum\": 3462305}, {\"date\": \"2022-03-22\", \"individuals\": 64207, \"cumsum\": 3526512}, {\"date\": \"2022-03-23\", \"individuals\": 62451, \"cumsum\": 3588963}, {\"date\": \"2022-03-24\", \"individuals\": 66573, \"cumsum\": 3655536}, {\"date\": \"2022-03-25\", \"individuals\": 62764, \"cumsum\": 3718300}, {\"date\": \"2022-03-26\", \"individuals\": 60997, \"cumsum\": 3779297}, {\"date\": \"2022-03-27\", \"individuals\": 53971, \"cumsum\": 3833268}, {\"date\": \"2022-03-28\", \"individuals\": 48194, \"cumsum\": 3881462}, {\"date\": \"2022-03-29\", \"individuals\": 42488, \"cumsum\": 3923950}, {\"date\": \"2022-03-30\", \"individuals\": 51414, \"cumsum\": 3975364}, {\"date\": \"2022-03-31\", \"individuals\": 53187, \"cumsum\": 4028551}, {\"date\": \"2022-04-01\", \"individuals\": 48974, \"cumsum\": 4077525}, {\"date\": \"2022-04-02\", \"individuals\": 51068, \"cumsum\": 4128593}, {\"date\": \"2022-04-03\", \"individuals\": 47588, \"cumsum\": 4176181}, {\"date\": \"2022-04-04\", \"individuals\": 44803, \"cumsum\": 4220984}, {\"date\": \"2022-04-05\", \"individuals\": 49220, \"cumsum\": 4270204}, {\"date\": \"2022-04-06\", \"individuals\": 55071, \"cumsum\": 4325275}, {\"date\": \"2022-04-07\", \"individuals\": 55537, \"cumsum\": 4380812}, {\"date\": \"2022-04-08\", \"individuals\": 59415, \"cumsum\": 4440227}, {\"date\": \"2022-04-09\", \"individuals\": 62374, \"cumsum\": 4502601}, {\"date\": \"2022-04-10\", \"individuals\": 55177, \"cumsum\": 4557778}, {\"date\": \"2022-04-11\", \"individuals\": 53775, \"cumsum\": 4611553}, {\"date\": \"2022-04-12\", \"individuals\": 55066, \"cumsum\": 4666619}, {\"date\": \"2022-04-13\", \"individuals\": 55667, \"cumsum\": 4722286}, {\"date\": \"2022-04-14\", \"individuals\": 58565, \"cumsum\": 4780851}, {\"date\": \"2022-04-15\", \"individuals\": 54284, \"cumsum\": 4835135}, {\"date\": \"2022-04-16\", \"individuals\": 45465, \"cumsum\": 4880600}, {\"date\": \"2022-04-17\", \"individuals\": 38391, \"cumsum\": 4918991}, {\"date\": \"2022-04-18\", \"individuals\": 44838, \"cumsum\": 4963829}, {\"date\": \"2022-04-19\", \"individuals\": 53822, \"cumsum\": 5017651}, {\"date\": \"2022-04-20\", \"individuals\": 50309, \"cumsum\": 5067960}, {\"date\": \"2022-04-21\", \"individuals\": 48393, \"cumsum\": 5116353}, {\"date\": \"2022-04-22\", \"individuals\": 42377, \"cumsum\": 5158730}, {\"date\": \"2022-04-23\", \"individuals\": 35728, \"cumsum\": 5194458}, {\"date\": \"2022-04-24\", \"individuals\": 22152, \"cumsum\": 5216610}, {\"date\": \"2022-04-25\", \"individuals\": 32006, \"cumsum\": 5248616}, {\"date\": \"2022-04-26\", \"individuals\": 48562, \"cumsum\": 5297178}, {\"date\": \"2022-04-27\", \"individuals\": 54684, \"cumsum\": 5351862}, {\"date\": \"2022-04-28\", \"individuals\": 56446, \"cumsum\": 5408308}, {\"date\": \"2022-04-29\", \"individuals\": 54308, \"cumsum\": 5462616}, {\"date\": \"2022-04-30\", \"individuals\": 53244, \"cumsum\": 5515860}, {\"date\": \"2022-05-01\", \"individuals\": 40408, \"cumsum\": 5556268}, {\"date\": \"2022-05-02\", \"individuals\": 37166, \"cumsum\": 5593434}, {\"date\": \"2022-05-03\", \"individuals\": 41325, \"cumsum\": 5634759}, {\"date\": \"2022-05-04\", \"individuals\": 50102, \"cumsum\": 5684861}, {\"date\": \"2022-05-05\", \"individuals\": 48597, \"cumsum\": 5733458}, {\"date\": \"2022-05-06\", \"individuals\": 51550, \"cumsum\": 5785008}, {\"date\": \"2022-05-07\", \"individuals\": 54632, \"cumsum\": 5839640}, {\"date\": \"2022-05-08\", \"individuals\": 46742, \"cumsum\": 5886382}, {\"date\": \"2022-05-09\", \"individuals\": 31116, \"cumsum\": 5917498}, {\"date\": \"2022-05-10\", \"individuals\": 37321, \"cumsum\": 5954819}, {\"date\": \"2022-05-11\", \"individuals\": 47801, \"cumsum\": 6002620}, {\"date\": \"2022-05-12\", \"individuals\": 50171, \"cumsum\": 6052791}, {\"date\": \"2022-05-13\", \"individuals\": 47963, \"cumsum\": 6100754}, {\"date\": \"2022-05-14\", \"individuals\": 46970, \"cumsum\": 6147724}, {\"date\": \"2022-05-15\", \"individuals\": 41590, \"cumsum\": 6189314}, {\"date\": \"2022-05-16\", \"individuals\": 42705, \"cumsum\": 6232019}, {\"date\": \"2022-05-17\", \"individuals\": 45061, \"cumsum\": 6277080}, {\"date\": \"2022-05-18\", \"individuals\": 48461, \"cumsum\": 6325541}, {\"date\": \"2022-05-19\", \"individuals\": 47803, \"cumsum\": 6373344}, {\"date\": \"2022-05-20\", \"individuals\": 52127, \"cumsum\": 6425471}, {\"date\": \"2022-05-21\", \"individuals\": 48800, \"cumsum\": 6474271}, {\"date\": \"2022-05-22\", \"individuals\": 41307, \"cumsum\": 6515578}, {\"date\": \"2022-05-23\", \"individuals\": 42359, \"cumsum\": 6557937}, {\"date\": \"2022-05-24\", \"individuals\": 46619, \"cumsum\": 6604556}, {\"date\": \"2022-05-25\", \"individuals\": 48454, \"cumsum\": 6653010}, {\"date\": \"2022-05-26\", \"individuals\": 48322, \"cumsum\": 6701332}, {\"date\": \"2022-05-27\", \"individuals\": 51130, \"cumsum\": 6752462}, {\"date\": \"2022-05-28\", \"individuals\": 51840, \"cumsum\": 6804302}, {\"date\": \"2022-05-29\", \"individuals\": 44164, \"cumsum\": 6848466}, {\"date\": \"2022-05-30\", \"individuals\": 47013, \"cumsum\": 6895479}, {\"date\": \"2022-05-31\", \"individuals\": 49266, \"cumsum\": 6944745}, {\"date\": \"2022-06-01\", \"individuals\": 48328, \"cumsum\": 6993073}, {\"date\": \"2022-06-02\", \"individuals\": 48872, \"cumsum\": 7041945}, {\"date\": \"2022-06-03\", \"individuals\": 49975, \"cumsum\": 7091920}, {\"date\": \"2022-06-04\", \"individuals\": 49860, \"cumsum\": 7141780}, {\"date\": \"2022-06-05\", \"individuals\": 42353, \"cumsum\": 7184133}, {\"date\": \"2022-06-06\", \"individuals\": 45343, \"cumsum\": 7229476}, {\"date\": \"2022-06-07\", \"individuals\": 49187, \"cumsum\": 7278663}]}}, {\"mode\": \"vega-lite\"});\n",
       "</script>"
      ],
      "text/plain": [
       "alt.Chart(...)"
      ]
     },
     "execution_count": 8,
     "metadata": {},
     "output_type": "execute_result"
    }
   ],
   "source": [
    "alt.Chart(total_df).mark_line().encode(x=\"date:T\", y=\"cumsum\").properties(width=500)"
   ]
  },
  {
   "cell_type": "markdown",
   "id": "bcb84ddf-1b61-4383-bcec-eaeba2dc6bbf",
   "metadata": {},
   "source": [
    "---"
   ]
  },
  {
   "cell_type": "markdown",
   "id": "6b225d35-c398-4450-91f2-60daa1629896",
   "metadata": {},
   "source": [
    "## Locations"
   ]
  },
  {
   "cell_type": "code",
   "execution_count": 9,
   "id": "68981f5a-2f92-4096-a6b4-28d66e38c96c",
   "metadata": {},
   "outputs": [],
   "source": [
    "locations_url = \"https://data2.unhcr.org/population/get/sublocation?geo_id=0&forcesublocation=1&widget_id=283557&sv_id=54&color=%233c8dbc&color2=%23303030&population_group=5460\""
   ]
  },
  {
   "cell_type": "code",
   "execution_count": 10,
   "id": "81454f44-b268-4fe3-9b0a-0e0b00d7ab60",
   "metadata": {},
   "outputs": [],
   "source": [
    "with urllib.request.urlopen(locations_url) as url:\n",
    "    locations = json.loads(url.read().decode())"
   ]
  },
  {
   "cell_type": "code",
   "execution_count": 11,
   "id": "37b2f84f-fefc-4748-a93a-b5e102aef5fa",
   "metadata": {},
   "outputs": [],
   "source": [
    "locations_df = (\n",
    "    pd.DataFrame(locations[\"data\"])\n",
    "    .rename(\n",
    "        columns={\n",
    "            \"geomaster_name\": \"country\",\n",
    "            \"geomaster_id\": \"id\",\n",
    "            \"centroid_lon\": \"longitude\",\n",
    "            \"centroid_lat\": \"latitude\",\n",
    "        }\n",
    "    )\n",
    "    .drop(\n",
    "        [\n",
    "            \"admin_level\",\n",
    "            \"source\",\n",
    "            \"population_groups_concat\",\n",
    "            \"population_group_id\",\n",
    "            \"individuals_type\",\n",
    "            \"demography_type\",\n",
    "            \"households\",\n",
    "            \"population_groups\",\n",
    "            \"color\",\n",
    "            \"published\",\n",
    "            \"lat_max\",\n",
    "            \"lon_max\",\n",
    "            \"lat_min\",\n",
    "            \"lon_min\",\n",
    "        ],\n",
    "        axis=1,\n",
    "    )\n",
    ")"
   ]
  },
  {
   "cell_type": "code",
   "execution_count": 12,
   "id": "4fab09c3-b09b-4e7b-b157-e6b36df5fb56",
   "metadata": {},
   "outputs": [],
   "source": [
    "locations_df[\"individuals\"] = locations_df[\"individuals\"].astype(int)"
   ]
  },
  {
   "cell_type": "code",
   "execution_count": 13,
   "id": "742b7f33-2057-4051-b904-35c2fc9077eb",
   "metadata": {},
   "outputs": [],
   "source": [
    "locations_df[\"share\"] = (\n",
    "    locations_df[\"individuals\"] / locations_df[\"individuals\"].sum() * 100\n",
    ").round(2)"
   ]
  },
  {
   "cell_type": "code",
   "execution_count": 14,
   "id": "6304f8cf-5f55-43b9-a6be-46c020334a05",
   "metadata": {},
   "outputs": [],
   "source": [
    "locations_df[\"display_date\"] = pd.to_datetime(locations_df[\"date\"]).dt.strftime(\n",
    "    \"%b. %-d \"\n",
    ")"
   ]
  },
  {
   "cell_type": "code",
   "execution_count": 15,
   "id": "66c87d3e-7658-4fda-a1c5-538875d19741",
   "metadata": {},
   "outputs": [],
   "source": [
    "locations_df[\"total\"] = locations_df[\"individuals\"].sum()"
   ]
  },
  {
   "cell_type": "code",
   "execution_count": 16,
   "id": "fdf97798-c649-4017-97cd-c1698507326a",
   "metadata": {},
   "outputs": [
    {
     "data": {
      "text/html": [
       "<div>\n",
       "<style scoped>\n",
       "    .dataframe tbody tr th:only-of-type {\n",
       "        vertical-align: middle;\n",
       "    }\n",
       "\n",
       "    .dataframe tbody tr th {\n",
       "        vertical-align: top;\n",
       "    }\n",
       "\n",
       "    .dataframe thead th {\n",
       "        text-align: right;\n",
       "    }\n",
       "</style>\n",
       "<table border=\"1\" class=\"dataframe\">\n",
       "  <thead>\n",
       "    <tr style=\"text-align: right;\">\n",
       "      <th></th>\n",
       "      <th>country</th>\n",
       "      <th>id</th>\n",
       "      <th>longitude</th>\n",
       "      <th>latitude</th>\n",
       "      <th>date</th>\n",
       "      <th>month</th>\n",
       "      <th>year</th>\n",
       "      <th>individuals</th>\n",
       "      <th>numChildren</th>\n",
       "      <th>share</th>\n",
       "      <th>display_date</th>\n",
       "      <th>total</th>\n",
       "    </tr>\n",
       "  </thead>\n",
       "  <tbody>\n",
       "    <tr>\n",
       "      <th>0</th>\n",
       "      <td>Poland</td>\n",
       "      <td>10781</td>\n",
       "      <td>19.4013</td>\n",
       "      <td>52.1224</td>\n",
       "      <td>2022-06-07</td>\n",
       "      <td>6</td>\n",
       "      <td>2022</td>\n",
       "      <td>3817564</td>\n",
       "      <td>0</td>\n",
       "      <td>52.50</td>\n",
       "      <td>Jun. 7</td>\n",
       "      <td>7270939</td>\n",
       "    </tr>\n",
       "    <tr>\n",
       "      <th>1</th>\n",
       "      <td>Russian Federation</td>\n",
       "      <td>12002</td>\n",
       "      <td>38.1556078125</td>\n",
       "      <td>51.488850139616</td>\n",
       "      <td>2022-06-07</td>\n",
       "      <td>6</td>\n",
       "      <td>2022</td>\n",
       "      <td>1116387</td>\n",
       "      <td>1</td>\n",
       "      <td>15.35</td>\n",
       "      <td>Jun. 7</td>\n",
       "      <td>7270939</td>\n",
       "    </tr>\n",
       "    <tr>\n",
       "      <th>2</th>\n",
       "      <td>Hungary</td>\n",
       "      <td>10783</td>\n",
       "      <td>19.4131</td>\n",
       "      <td>47.1672</td>\n",
       "      <td>2022-06-07</td>\n",
       "      <td>6</td>\n",
       "      <td>2022</td>\n",
       "      <td>731098</td>\n",
       "      <td>0</td>\n",
       "      <td>10.06</td>\n",
       "      <td>Jun. 7</td>\n",
       "      <td>7270939</td>\n",
       "    </tr>\n",
       "    <tr>\n",
       "      <th>3</th>\n",
       "      <td>Romania</td>\n",
       "      <td>10782</td>\n",
       "      <td>25.3</td>\n",
       "      <td>45.8667</td>\n",
       "      <td>2022-06-07</td>\n",
       "      <td>6</td>\n",
       "      <td>2022</td>\n",
       "      <td>613435</td>\n",
       "      <td>0</td>\n",
       "      <td>8.44</td>\n",
       "      <td>Jun. 7</td>\n",
       "      <td>7270939</td>\n",
       "    </tr>\n",
       "    <tr>\n",
       "      <th>4</th>\n",
       "      <td>Republic of Moldova</td>\n",
       "      <td>10784</td>\n",
       "      <td>28.4646</td>\n",
       "      <td>47.1976</td>\n",
       "      <td>2022-06-07</td>\n",
       "      <td>6</td>\n",
       "      <td>2022</td>\n",
       "      <td>491144</td>\n",
       "      <td>0</td>\n",
       "      <td>6.75</td>\n",
       "      <td>Jun. 7</td>\n",
       "      <td>7270939</td>\n",
       "    </tr>\n",
       "    <tr>\n",
       "      <th>5</th>\n",
       "      <td>Slovakia</td>\n",
       "      <td>10785</td>\n",
       "      <td>19.4864</td>\n",
       "      <td>48.7062</td>\n",
       "      <td>2022-06-07</td>\n",
       "      <td>6</td>\n",
       "      <td>2022</td>\n",
       "      <td>484661</td>\n",
       "      <td>0</td>\n",
       "      <td>6.67</td>\n",
       "      <td>Jun. 7</td>\n",
       "      <td>7270939</td>\n",
       "    </tr>\n",
       "    <tr>\n",
       "      <th>6</th>\n",
       "      <td>Belarus</td>\n",
       "      <td>10786</td>\n",
       "      <td>28.0463</td>\n",
       "      <td>53.5384</td>\n",
       "      <td>2022-06-07</td>\n",
       "      <td>6</td>\n",
       "      <td>2022</td>\n",
       "      <td>16650</td>\n",
       "      <td>0</td>\n",
       "      <td>0.23</td>\n",
       "      <td>Jun. 7</td>\n",
       "      <td>7270939</td>\n",
       "    </tr>\n",
       "  </tbody>\n",
       "</table>\n",
       "</div>"
      ],
      "text/plain": [
       "               country     id      longitude         latitude        date  \\\n",
       "0               Poland  10781        19.4013          52.1224  2022-06-07   \n",
       "1   Russian Federation  12002  38.1556078125  51.488850139616  2022-06-07   \n",
       "2              Hungary  10783        19.4131          47.1672  2022-06-07   \n",
       "3              Romania  10782           25.3          45.8667  2022-06-07   \n",
       "4  Republic of Moldova  10784        28.4646          47.1976  2022-06-07   \n",
       "5             Slovakia  10785        19.4864          48.7062  2022-06-07   \n",
       "6              Belarus  10786        28.0463          53.5384  2022-06-07   \n",
       "\n",
       "  month  year  individuals numChildren  share display_date    total  \n",
       "0     6  2022      3817564           0  52.50      Jun. 7   7270939  \n",
       "1     6  2022      1116387           1  15.35      Jun. 7   7270939  \n",
       "2     6  2022       731098           0  10.06      Jun. 7   7270939  \n",
       "3     6  2022       613435           0   8.44      Jun. 7   7270939  \n",
       "4     6  2022       491144           0   6.75      Jun. 7   7270939  \n",
       "5     6  2022       484661           0   6.67      Jun. 7   7270939  \n",
       "6     6  2022        16650           0   0.23      Jun. 7   7270939  "
      ]
     },
     "execution_count": 16,
     "metadata": {},
     "output_type": "execute_result"
    }
   ],
   "source": [
    "locations_df"
   ]
  },
  {
   "cell_type": "markdown",
   "id": "22fd74c8-ebee-4ee8-8867-f8664087d03e",
   "metadata": {},
   "source": [
    "---"
   ]
  },
  {
   "cell_type": "markdown",
   "id": "b8bbeb18-05e5-49b2-b38d-c29cc613df90",
   "metadata": {},
   "source": [
    "## Exports"
   ]
  },
  {
   "cell_type": "code",
   "execution_count": 17,
   "id": "2c4bfadd-0ebb-4b11-ab49-62798d7e2a3e",
   "metadata": {},
   "outputs": [],
   "source": [
    "total_df.to_csv(\"data/processed/ukraine_refugees_totals_timeseries.csv\", index=False)\n",
    "locations_df.to_csv(\"data/processed/ukraine_refugees_totals_countries.csv\", index=False)"
   ]
  }
 ],
 "metadata": {
  "kernelspec": {
   "display_name": "Python 3 (ipykernel)",
   "language": "python",
   "name": "python3"
  },
  "language_info": {
   "codemirror_mode": {
    "name": "ipython",
    "version": 3
   },
   "file_extension": ".py",
   "mimetype": "text/x-python",
   "name": "python",
   "nbconvert_exporter": "python",
   "pygments_lexer": "ipython3",
   "version": "3.8.9"
  }
 },
 "nbformat": 4,
 "nbformat_minor": 5
}
