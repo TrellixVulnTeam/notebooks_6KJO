{
 "cells": [
  {
   "cell_type": "code",
   "execution_count": 1,
   "id": "aef3fec4-876f-433e-a7fa-ea2840285bda",
   "metadata": {},
   "outputs": [],
   "source": [
    "%load_ext lab_black"
   ]
  },
  {
   "cell_type": "code",
   "execution_count": 2,
   "id": "f6ee4c28-250d-493f-a1a4-98d201ec6984",
   "metadata": {},
   "outputs": [],
   "source": [
    "import pandas as pd\n",
    "from datawrapper import Datawrapper\n",
    "\n",
    "dw = Datawrapper(\n",
    "    access_token=\"FtIwtvFtoGLaRT9a3gjX69PLu4wSuRyKddoOz6SOPw3k9wWyNICMHTkcPhOGCR5Z\"\n",
    ")"
   ]
  },
  {
   "cell_type": "code",
   "execution_count": 3,
   "id": "5be20b78-d2e7-4e66-b0da-c3858cd46959",
   "metadata": {},
   "outputs": [],
   "source": [
    "pd.options.display.max_columns = 1000\n",
    "pd.options.display.max_rows = 1000\n",
    "pd.set_option(\"display.max_columns\", None)"
   ]
  },
  {
   "cell_type": "markdown",
   "id": "7fcb52d0-f5ef-4abf-833d-1c6f1ae4b0f9",
   "metadata": {},
   "source": [
    "### get data from who"
   ]
  },
  {
   "cell_type": "code",
   "execution_count": 4,
   "id": "53d8ca2c-9287-4c50-8b93-51e254578633",
   "metadata": {},
   "outputs": [],
   "source": [
    "from datetime import date\n",
    "\n",
    "today = date.today()\n",
    "enddate = today.strftime(\"%Y-%m-%d\")"
   ]
  },
  {
   "cell_type": "code",
   "execution_count": 5,
   "id": "b5d1d784-a2b1-4e16-8b82-20cd0bff4617",
   "metadata": {},
   "outputs": [],
   "source": [
    "url = (\n",
    "    \"https://extranet.who.int/ssa/Ref/GetDashboardFullReport?Countries=229&Types=0&DaterangeSTART=2022-02-24&DaterangeEND=\"\n",
    "    + enddate\n",
    ")"
   ]
  },
  {
   "cell_type": "code",
   "execution_count": 6,
   "id": "a6f3625a-aa67-4355-a7d7-7999ff277e67",
   "metadata": {},
   "outputs": [],
   "source": [
    "hc_attacks = pd.read_json(url)"
   ]
  },
  {
   "cell_type": "markdown",
   "id": "7b27a7fa-034d-46c7-a520-3e2df529ea8d",
   "metadata": {},
   "source": [
    "### clean up columns"
   ]
  },
  {
   "cell_type": "code",
   "execution_count": 7,
   "id": "85f090f0-d8ab-4c20-abd9-e4e79e9667db",
   "metadata": {},
   "outputs": [],
   "source": [
    "hc_attacks.columns = hc_attacks.columns.str.replace(\" \", \"_\").str.lower()"
   ]
  },
  {
   "cell_type": "code",
   "execution_count": 8,
   "id": "44c2d4eb-a8cb-4dd6-b377-6b13915e5d86",
   "metadata": {},
   "outputs": [],
   "source": [
    "hc_attacks.attackdate = pd.to_datetime(hc_attacks.attackdate, dayfirst=True)"
   ]
  },
  {
   "cell_type": "code",
   "execution_count": 9,
   "id": "ef4344f5-1a55-4c2d-9570-bfa05846df1c",
   "metadata": {},
   "outputs": [],
   "source": [
    "confirmed_hc_attacks_bydate = (\n",
    "    hc_attacks[hc_attacks[\"classification\"] == \"Confirmed\"]\n",
    "    .groupby(\"attackdate\")\n",
    "    .size()\n",
    "    .reset_index(name=\"count\")\n",
    ")"
   ]
  },
  {
   "cell_type": "code",
   "execution_count": 10,
   "id": "4bd2a803-cb6b-4787-a3fb-b7fb1dff32a7",
   "metadata": {},
   "outputs": [],
   "source": [
    "# can use this to check weekly cumulative matches the daily cumulative BUT don't use to join\n",
    "# will be missing data for week dates that didn't have attacks--later try to fill in gaps in cumulative sum dataframes\n",
    "cumulative_hc_attacks = (\n",
    "    confirmed_hc_attacks_bydate.groupby(\"attackdate\")\n",
    "    .sum()[\"count\"]\n",
    "    .cumsum()\n",
    "    .reset_index(name=\"attacks\")\n",
    ")"
   ]
  },
  {
   "cell_type": "code",
   "execution_count": 11,
   "id": "968f1c4b-a092-4d79-85b1-21998bd3ff3f",
   "metadata": {},
   "outputs": [],
   "source": [
    "weekly_confirmed_hc_attacks = (\n",
    "    confirmed_hc_attacks_bydate.groupby(pd.Grouper(key=\"attackdate\", freq=\"W-SUN\"))[\n",
    "        \"count\"\n",
    "    ]\n",
    "    .sum()\n",
    "    .reset_index(name=\"attacks\")\n",
    ")"
   ]
  },
  {
   "cell_type": "code",
   "execution_count": 12,
   "id": "ad8cbf79-09fc-49d3-8850-303fa9e85752",
   "metadata": {},
   "outputs": [],
   "source": [
    "weekly_cumulative = (\n",
    "    weekly_confirmed_hc_attacks.groupby(\"attackdate\")\n",
    "    .sum()[\"attacks\"]\n",
    "    .cumsum()\n",
    "    .reset_index(name=\"cumulative\")\n",
    ")"
   ]
  },
  {
   "cell_type": "code",
   "execution_count": 13,
   "id": "f5b0508d-b840-49af-8783-21c70f89a36f",
   "metadata": {},
   "outputs": [],
   "source": [
    "weekly_and_cumulative = weekly_confirmed_hc_attacks.merge(\n",
    "    weekly_cumulative, on=\"attackdate\"\n",
    ")"
   ]
  },
  {
   "cell_type": "code",
   "execution_count": 14,
   "id": "63e9df9c-e2b4-4e66-be3b-12f424b7e74f",
   "metadata": {},
   "outputs": [],
   "source": [
    "weekly_hc_attacks_metrics = (\n",
    "    hc_attacks[hc_attacks.classification == \"Confirmed\"]\n",
    "    .groupby(pd.Grouper(key=\"attackdate\", freq=\"W-SUN\"))\n",
    "    .sum()\n",
    "    .reset_index()\n",
    "    .drop([\"id\", \"versionid\", \"classificationid\"], axis=1)\n",
    ")"
   ]
  },
  {
   "cell_type": "code",
   "execution_count": 15,
   "id": "8aaa424d-a9b0-4ced-b185-8e44efc52d93",
   "metadata": {},
   "outputs": [],
   "source": [
    "weekly_deaths_injuries_dw = weekly_hc_attacks_metrics[\n",
    "    [\"attackdate\", \"victimstotalinjured\", \"victimstotaldeath\"]\n",
    "]"
   ]
  },
  {
   "cell_type": "markdown",
   "id": "0ed65500-8bd7-4a57-8777-5b6b4dfb6a0a",
   "metadata": {},
   "source": [
    "### update both in dw"
   ]
  },
  {
   "cell_type": "code",
   "execution_count": 16,
   "id": "38661d7c-4d4c-4c00-93e7-bdc8867e81c6",
   "metadata": {},
   "outputs": [
    {
     "data": {
      "text/plain": [
       "<Response [204]>"
      ]
     },
     "execution_count": 16,
     "metadata": {},
     "output_type": "execute_result"
    }
   ],
   "source": [
    "dw.add_data(chart_id=\"QSTwE\", data=weekly_and_cumulative)"
   ]
  },
  {
   "cell_type": "code",
   "execution_count": 17,
   "id": "7e8714dc-7574-4991-9c87-503346aa4ad1",
   "metadata": {},
   "outputs": [
    {
     "data": {
      "text/plain": [
       "<Response [204]>"
      ]
     },
     "execution_count": 17,
     "metadata": {},
     "output_type": "execute_result"
    }
   ],
   "source": [
    "dw.add_data(chart_id=\"xyBKc\", data=weekly_deaths_injuries_dw)"
   ]
  },
  {
   "cell_type": "markdown",
   "id": "b300df6b-eda2-4fdc-9a24-636b2ec74cfc",
   "metadata": {},
   "source": [
    "### write data to repository"
   ]
  },
  {
   "cell_type": "code",
   "execution_count": 18,
   "id": "f1e14298-a7f7-4bbf-97fa-0fa600784604",
   "metadata": {},
   "outputs": [],
   "source": [
    "hc_attacks.to_csv(\"data/raw/raw_hcattacks.csv\")\n",
    "\n",
    "weekly_and_cumulative.to_csv(\"data/processed/weekly_hcattacks.csv\")\n",
    "\n",
    "weekly_deaths_injuries_dw.to_csv(\"data/processed/weekly_hc_injuriesdeaths.csv\")"
   ]
  }
 ],
 "metadata": {
  "kernelspec": {
   "display_name": "Python 3 (ipykernel)",
   "language": "python",
   "name": "python3"
  },
  "language_info": {
   "codemirror_mode": {
    "name": "ipython",
    "version": 3
   },
   "file_extension": ".py",
   "mimetype": "text/x-python",
   "name": "python",
   "nbconvert_exporter": "python",
   "pygments_lexer": "ipython3",
   "version": "3.9.13"
  }
 },
 "nbformat": 4,
 "nbformat_minor": 5
}
