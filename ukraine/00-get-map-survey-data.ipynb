{
 "cells": [
  {
   "cell_type": "markdown",
   "id": "6054e80e-524f-490d-89c3-78541b9706ad",
   "metadata": {},
   "source": [
    "# Harvard data"
   ]
  },
  {
   "cell_type": "code",
   "execution_count": 1,
   "id": "bdf27027-d15c-49df-8230-8314de772cb0",
   "metadata": {},
   "outputs": [],
   "source": [
    "%load_ext lab_black"
   ]
  },
  {
   "cell_type": "code",
   "execution_count": 2,
   "id": "4cd2148c-7c60-4dc5-9475-2710984ff67a",
   "metadata": {},
   "outputs": [],
   "source": [
    "import pandas as pd\n",
    "import geopandas as gpd"
   ]
  },
  {
   "cell_type": "code",
   "execution_count": 3,
   "id": "04cff03b-4535-4200-afdd-e4348fbf5e65",
   "metadata": {},
   "outputs": [],
   "source": [
    "pd.options.display.max_columns = 1000\n",
    "pd.options.display.max_rows = 1000\n",
    "pd.set_option(\"display.max_columns\", None)"
   ]
  },
  {
   "cell_type": "code",
   "execution_count": 4,
   "id": "0fedf0a6-2c41-4068-8504-1392cfea51fa",
   "metadata": {},
   "outputs": [],
   "source": [
    "### Questions here: https://layers.maps-huri.net/arcgis/rest/services/identity/donbas_survey/MapServer/82"
   ]
  },
  {
   "cell_type": "code",
   "execution_count": 5,
   "id": "7eab9564-f688-4dc7-9bd0-007b8d347dcc",
   "metadata": {},
   "outputs": [],
   "source": [
    "# !esri2geojson https://layers.maps-huri.net/arcgis/rest/services/identity/donbas_survey/MapServer/82 data/raw/ukraine_survey_geography.geojson"
   ]
  },
  {
   "cell_type": "code",
   "execution_count": 52,
   "id": "fee19d15-2802-45e0-b3c4-ac2830e0ba77",
   "metadata": {},
   "outputs": [],
   "source": [
    "gdf = gpd.read_file(\"data/raw/ukraine_survey_geography.geojson\")"
   ]
  },
  {
   "cell_type": "code",
   "execution_count": 53,
   "id": "33edb7f3-1e34-4910-aa24-278e83a3e16b",
   "metadata": {},
   "outputs": [],
   "source": [
    "gdf.columns = gdf.columns.str.lower()"
   ]
  },
  {
   "cell_type": "code",
   "execution_count": 54,
   "id": "19280c3c-93e5-4011-af63-3d63d7648ddf",
   "metadata": {},
   "outputs": [],
   "source": [
    "gdf_slim = (\n",
    "    gdf[\n",
    "        [\n",
    "            \"name_oblast\",\n",
    "            \"russia_agr_yes_2018_rating\",\n",
    "            \"don_17_you_to_inh_donbas\",\n",
    "            \"closeness_donetska_2018_rating\",\n",
    "            \"closeness_luhanska_2018_rating\",\n",
    "            \"borot_vid_ukrainy_17\",\n",
    "            \"borot_pryeddoros_17\",\n",
    "            \"borot_teroryst_17\",\n",
    "            \"hrom_viyna_17\",\n",
    "            \"prykh_viy_roso_17\",\n",
    "            \"vidkryta_viy_ros_17\",\n",
    "            \"geometry\",\n",
    "        ]\n",
    "    ]\n",
    "    .sort_values(\"don_17_you_to_inh_donbas\", ascending=False)\n",
    "    .copy()\n",
    ")"
   ]
  },
  {
   "cell_type": "code",
   "execution_count": 55,
   "id": "e91b6ca3-7bf4-495b-b03a-2a5b2224bc58",
   "metadata": {},
   "outputs": [],
   "source": [
    "gdf_slim.rename(\n",
    "    columns={\n",
    "        \"name_oblast\": \"place\",\n",
    "        \"russia_agr_yes_2018_rating\": \"russia_is_aggressor\",\n",
    "        \"don_17_you_to_inh_donbas\": \"attitude_toward_donbas_1cold_7warm\",\n",
    "        \"closeness_donetska_2018_rating\": \"closeness_donetska_2018\",\n",
    "        \"closeness_luhanska_2018_rating\": \"closeness_luhanska_2018\",\n",
    "        \"borot_vid_ukrainy_17\": \"struggle_for_indy\",\n",
    "        \"borot_pryeddoros_17\": \"struggle_join_russia\",\n",
    "        \"borot_teroryst_17\": \"struggle_by_terror_against_ukr\",\n",
    "        \"hrom_viyna_17\": \"civil_war\",\n",
    "        \"prykh_viy_roso_17\": \"covert_war_russia\",\n",
    "        \"vidkryta_viy_ros_17\": \"open_war_russia\",\n",
    "    },\n",
    "    inplace=True,\n",
    ")"
   ]
  },
  {
   "cell_type": "code",
   "execution_count": 57,
   "id": "9d8f66dd-8f1c-4ccd-ad15-a3b652f712a9",
   "metadata": {},
   "outputs": [],
   "source": [
    "gdf_slim[\"war_russia_open_covert\"] = (\n",
    "    gdf_slim[\"covert_war_russia\"] + gdf_slim[\"open_war_russia\"]\n",
    ")"
   ]
  },
  {
   "cell_type": "code",
   "execution_count": 58,
   "id": "bf5a38c1-590d-49b5-ae0d-dfb897111d0f",
   "metadata": {},
   "outputs": [
    {
     "name": "stderr",
     "output_type": "stream",
     "text": [
      "/Users/stiles/.local/share/virtualenvs/grid-notebooks-Amv9DX-2/lib/python3.8/site-packages/geopandas/io/file.py:362: FutureWarning: pandas.Int64Index is deprecated and will be removed from pandas in a future version. Use pandas.Index with the appropriate dtype instead.\n",
      "  pd.Int64Index,\n"
     ]
    }
   ],
   "source": [
    "gdf_slim.to_file(\"data/processed/ukraine_attitudes.geojson\")"
   ]
  },
  {
   "cell_type": "markdown",
   "id": "1804a715-901c-4efc-854a-94bf81c6fde5",
   "metadata": {},
   "source": [
    "---"
   ]
  },
  {
   "cell_type": "code",
   "execution_count": 75,
   "id": "dddd7a6b-625b-4881-b5a9-89e85f243fbb",
   "metadata": {},
   "outputs": [],
   "source": [
    "dates = pd.date_range(start=\"2022-01-18\", end=\"2022-02-18\", freq=\"D\")"
   ]
  },
  {
   "cell_type": "code",
   "execution_count": 84,
   "id": "6f707c8f-77ec-44be-a3f3-c41e7a7f1fe6",
   "metadata": {
    "tags": []
   },
   "outputs": [
    {
     "name": "stdout",
     "output_type": "stream",
     "text": [
      "  % Total    % Received % Xferd  Average Speed   Time    Time     Time  Current\n",
      "                                 Dload  Upload   Total   Spent    Left  Speed\n",
      "100 1268k  100 1268k    0     0   314k      0  0:00:04 --:--:--  0:00:04  321k   0  1296k      0 --:--:-- --:--:-- --:--:-- 1302k\n",
      "  % Total    % Received % Xferd  Average Speed   Time    Time     Time  Current\n",
      "                                 Dload  Upload   Total   Spent    Left  Speed\n",
      "100 1242k  100 1242k    0     0  2015k      0 --:--:-- --:--:-- --:--:-- 2027k\n",
      "  % Total    % Received % Xferd  Average Speed   Time    Time     Time  Current\n",
      "                                 Dload  Upload   Total   Spent    Left  Speed\n",
      "100 1309k  100 1309k    0     0  1376k      0 --:--:-- --:--:-- --:--:-- 1387k\n",
      "  % Total    % Received % Xferd  Average Speed   Time    Time     Time  Current\n",
      "                                 Dload  Upload   Total   Spent    Left  Speed\n",
      "100 1347k  100 1347k    0     0  2083k      0 --:--:-- --:--:-- --:--:-- 2112k\n",
      "  % Total    % Received % Xferd  Average Speed   Time    Time     Time  Current\n",
      "                                 Dload  Upload   Total   Spent    Left  Speed\n",
      "100   146  100   146    0     0   1526      0 --:--:-- --:--:-- --:--:--  1678\n",
      "  % Total    % Received % Xferd  Average Speed   Time    Time     Time  Current\n",
      "                                 Dload  Upload   Total   Spent    Left  Speed\n",
      "100   146  100   146    0     0   1582      0 --:--:-- --:--:-- --:--:--  1738\n",
      "  % Total    % Received % Xferd  Average Speed   Time    Time     Time  Current\n",
      "                                 Dload  Upload   Total   Spent    Left  Speed\n",
      "100   146  100   146    0     0   1427      0 --:--:-- --:--:-- --:--:--  1553\n",
      "  % Total    % Received % Xferd  Average Speed   Time    Time     Time  Current\n",
      "                                 Dload  Upload   Total   Spent    Left  Speed\n",
      "100   146  100   146    0     0   1270      0 --:--:-- --:--:-- --:--:--  1377\n",
      "  % Total    % Received % Xferd  Average Speed   Time    Time     Time  Current\n",
      "                                 Dload  Upload   Total   Spent    Left  Speed\n",
      "100   146  100   146    0     0   1526      0 --:--:-- --:--:-- --:--:--  1678\n",
      "  % Total    % Received % Xferd  Average Speed   Time    Time     Time  Current\n",
      "                                 Dload  Upload   Total   Spent    Left  Speed\n",
      "100  970k  100  970k    0     0  1516k      0 --:--:-- --:--:-- --:--:-- 1533k\n",
      "  % Total    % Received % Xferd  Average Speed   Time    Time     Time  Current\n",
      "                                 Dload  Upload   Total   Spent    Left  Speed\n",
      "100   146  100   146    0     0   1187      0 --:--:-- --:--:-- --:--:--  1269\n",
      "  % Total    % Received % Xferd  Average Speed   Time    Time     Time  Current\n",
      "                                 Dload  Upload   Total   Spent    Left  Speed\n",
      "100   146  100   146    0     0   1136      0 --:--:-- --:--:-- --:--:--  1206\n",
      "  % Total    % Received % Xferd  Average Speed   Time    Time     Time  Current\n",
      "                                 Dload  Upload   Total   Spent    Left  Speed\n",
      "100   146  100   146    0     0   1150      0 --:--:-- --:--:-- --:--:--  1237\n",
      "  % Total    % Received % Xferd  Average Speed   Time    Time     Time  Current\n",
      "                                 Dload  Upload   Total   Spent    Left  Speed\n",
      "100   146  100   146    0     0   1463      0 --:--:-- --:--:-- --:--:--  1586\n",
      "  % Total    % Received % Xferd  Average Speed   Time    Time     Time  Current\n",
      "                                 Dload  Upload   Total   Spent    Left  Speed\n",
      "100   146  100   146    0     0   1063      0 --:--:-- --:--:-- --:--:--  1131\n",
      "  % Total    % Received % Xferd  Average Speed   Time    Time     Time  Current\n",
      "                                 Dload  Upload   Total   Spent    Left  Speed\n",
      "100   146  100   146    0     0   1562      0 --:--:-- --:--:-- --:--:--  1697\n",
      "  % Total    % Received % Xferd  Average Speed   Time    Time     Time  Current\n",
      "                                 Dload  Upload   Total   Spent    Left  Speed\n",
      "100   146  100   146    0     0   1435      0 --:--:-- --:--:-- --:--:--  1586\n",
      "  % Total    % Received % Xferd  Average Speed   Time    Time     Time  Current\n",
      "                                 Dload  Upload   Total   Spent    Left  Speed\n",
      "100   146  100   146    0     0   1213      0 --:--:-- --:--:-- --:--:--  1303\n",
      "  % Total    % Received % Xferd  Average Speed   Time    Time     Time  Current\n",
      "                                 Dload  Upload   Total   Spent    Left  Speed\n",
      "100   146  100   146    0     0   1526      0 --:--:-- --:--:-- --:--:--  1622\n",
      "  % Total    % Received % Xferd  Average Speed   Time    Time     Time  Current\n",
      "                                 Dload  Upload   Total   Spent    Left  Speed\n",
      "100   146  100   146    0     0   1623      0 --:--:-- --:--:-- --:--:--  1738\n",
      "  % Total    % Received % Xferd  Average Speed   Time    Time     Time  Current\n",
      "                                 Dload  Upload   Total   Spent    Left  Speed\n",
      "100   146  100   146    0     0   1281      0 --:--:-- --:--:-- --:--:--  1377\n",
      "  % Total    % Received % Xferd  Average Speed   Time    Time     Time  Current\n",
      "                                 Dload  Upload   Total   Spent    Left  Speed\n",
      "100  953k  100  953k    0     0  1111k      0 --:--:-- --:--:-- --:--:-- 1120k\n",
      "  % Total    % Received % Xferd  Average Speed   Time    Time     Time  Current\n",
      "                                 Dload  Upload   Total   Spent    Left  Speed\n",
      "100 1265k  100 1265k    0     0  1349k      0 --:--:-- --:--:-- --:--:-- 1353k\n",
      "  % Total    % Received % Xferd  Average Speed   Time    Time     Time  Current\n",
      "                                 Dload  Upload   Total   Spent    Left  Speed\n",
      "100 1265k  100 1265k    0     0  1997k      0 --:--:-- --:--:-- --:--:-- 2005k\n",
      "  % Total    % Received % Xferd  Average Speed   Time    Time     Time  Current\n",
      "                                 Dload  Upload   Total   Spent    Left  Speed\n",
      "100 1362k  100 1362k    0     0  1342k      0  0:00:01  0:00:01 --:--:-- 1348k\n",
      "  % Total    % Received % Xferd  Average Speed   Time    Time     Time  Current\n",
      "                                 Dload  Upload   Total   Spent    Left  Speed\n",
      "100 1295k  100 1295k    0     0  1171k      0  0:00:01  0:00:01 --:--:-- 1178k\n",
      "  % Total    % Received % Xferd  Average Speed   Time    Time     Time  Current\n",
      "                                 Dload  Upload   Total   Spent    Left  Speed\n",
      "100   146  100   146    0     0   1471      0 --:--:-- --:--:-- --:--:--  1604\n",
      "  % Total    % Received % Xferd  Average Speed   Time    Time     Time  Current\n",
      "                                 Dload  Upload   Total   Spent    Left  Speed\n",
      "100   146  100   146    0     0   1538      0 --:--:-- --:--:-- --:--:--  1678\n",
      "  % Total    % Received % Xferd  Average Speed   Time    Time     Time  Current\n",
      "                                 Dload  Upload   Total   Spent    Left  Speed\n",
      "100 1316k  100 1316k    0     0  2038k      0 --:--:-- --:--:-- --:--:-- 2067k\n",
      "  % Total    % Received % Xferd  Average Speed   Time    Time     Time  Current\n",
      "                                 Dload  Upload   Total   Spent    Left  Speed\n",
      "100 1633k  100 1633k    0     0  3175k      0 --:--:-- --:--:-- --:--:-- 3203k\n",
      "  % Total    % Received % Xferd  Average Speed   Time    Time     Time  Current\n",
      "                                 Dload  Upload   Total   Spent    Left  Speed\n",
      "100 1347k  100 1347k    0     0  1143k      0  0:00:01  0:00:01 --:--:-- 1148k\n",
      "  % Total    % Received % Xferd  Average Speed   Time    Time     Time  Current\n",
      "                                 Dload  Upload   Total   Spent    Left  Speed\n",
      "100 1385k  100 1385k    0     0   978k      0  0:00:01  0:00:01 --:--:--  984k\n"
     ]
    }
   ],
   "source": [
    "for d in dates:\n",
    "    !curl https://www.osce.org/files/{d.strftime(\"%Y-%m-%d\")}%20Daily%20Report_ENG.pdf -o {d.strftime(\"%Y-%m-%d\")}.pdf"
   ]
  },
  {
   "cell_type": "code",
   "execution_count": null,
   "id": "66386435-ceea-4ee5-a6ef-94e2ec9a6c7c",
   "metadata": {},
   "outputs": [],
   "source": []
  }
 ],
 "metadata": {
  "kernelspec": {
   "display_name": "Python 3 (ipykernel)",
   "language": "python",
   "name": "python3"
  },
  "language_info": {
   "codemirror_mode": {
    "name": "ipython",
    "version": 3
   },
   "file_extension": ".py",
   "mimetype": "text/x-python",
   "name": "python",
   "nbconvert_exporter": "python",
   "pygments_lexer": "ipython3",
   "version": "3.9.9"
  }
 },
 "nbformat": 4,
 "nbformat_minor": 5
}
