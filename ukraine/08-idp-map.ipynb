{
 "cells": [
  {
   "cell_type": "code",
   "execution_count": 1,
   "id": "e5caa7cb-fa36-46ba-a751-5b9d600f1b1d",
   "metadata": {},
   "outputs": [],
   "source": [
    "%load_ext lab_black"
   ]
  },
  {
   "cell_type": "code",
   "execution_count": 2,
   "id": "054efcf6-91d1-414e-a62e-cded9a1a6d0f",
   "metadata": {},
   "outputs": [],
   "source": [
    "import pandas as pd"
   ]
  },
  {
   "cell_type": "code",
   "execution_count": 3,
   "id": "3c689218-08e6-4922-84b9-53b002ca7c81",
   "metadata": {},
   "outputs": [],
   "source": [
    "import urllib.request, json"
   ]
  },
  {
   "cell_type": "code",
   "execution_count": 4,
   "id": "cb7c5ea0-d04d-485f-b865-5319b5bee343",
   "metadata": {},
   "outputs": [],
   "source": [
    "pd.options.display.max_columns = 1000\n",
    "pd.options.display.max_rows = 1000"
   ]
  },
  {
   "cell_type": "code",
   "execution_count": 5,
   "id": "0314429c-f226-49fb-8289-f375d5a7c1b7",
   "metadata": {},
   "outputs": [],
   "source": [
    "current_locations = pd.read_excel(\n",
    "    \"https://docs.google.com/spreadsheets/d/e/2PACX-1vRBhkh7ViRJzyQI3vg2IymuTZ94VDQuPlmZgFDlSB2Ub0LMT-2j2xBmxUnMmbLZbcyapUqRfbNr3Eh6/pub?output=xlsx\",\n",
    "    sheet_name=\"Current location of IDPs\",\n",
    "    skiprows=1,\n",
    ")\n",
    "origins = pd.read_excel(\n",
    "    \"https://docs.google.com/spreadsheets/d/e/2PACX-1vRBhkh7ViRJzyQI3vg2IymuTZ94VDQuPlmZgFDlSB2Ub0LMT-2j2xBmxUnMmbLZbcyapUqRfbNr3Eh6/pub?output=xlsx\",\n",
    "    sheet_name=\"IDPs by Region of Origin\",\n",
    "    skiprows=1,\n",
    ")"
   ]
  },
  {
   "cell_type": "code",
   "execution_count": 6,
   "id": "302ca653-1d6c-44a3-8e25-1eb816316d3a",
   "metadata": {},
   "outputs": [
    {
     "data": {
      "text/html": [
       "<div>\n",
       "<style scoped>\n",
       "    .dataframe tbody tr th:only-of-type {\n",
       "        vertical-align: middle;\n",
       "    }\n",
       "\n",
       "    .dataframe tbody tr th {\n",
       "        vertical-align: top;\n",
       "    }\n",
       "\n",
       "    .dataframe thead th {\n",
       "        text-align: right;\n",
       "    }\n",
       "</style>\n",
       "<table border=\"1\" class=\"dataframe\">\n",
       "  <thead>\n",
       "    <tr style=\"text-align: right;\">\n",
       "      <th></th>\n",
       "      <th>Macro-region</th>\n",
       "      <th>% IDPs location per M-R</th>\n",
       "      <th># est. IDPs presence per macro-region</th>\n",
       "    </tr>\n",
       "  </thead>\n",
       "  <tbody>\n",
       "    <tr>\n",
       "      <th>0</th>\n",
       "      <td>Kyiv</td>\n",
       "      <td>0.10</td>\n",
       "      <td>626000</td>\n",
       "    </tr>\n",
       "    <tr>\n",
       "      <th>1</th>\n",
       "      <td>East</td>\n",
       "      <td>0.31</td>\n",
       "      <td>1923000</td>\n",
       "    </tr>\n",
       "    <tr>\n",
       "      <th>2</th>\n",
       "      <td>South</td>\n",
       "      <td>0.09</td>\n",
       "      <td>605000</td>\n",
       "    </tr>\n",
       "    <tr>\n",
       "      <th>3</th>\n",
       "      <td>Center</td>\n",
       "      <td>0.18</td>\n",
       "      <td>1102000</td>\n",
       "    </tr>\n",
       "    <tr>\n",
       "      <th>4</th>\n",
       "      <td>North</td>\n",
       "      <td>0.13</td>\n",
       "      <td>821000</td>\n",
       "    </tr>\n",
       "    <tr>\n",
       "      <th>5</th>\n",
       "      <td>West</td>\n",
       "      <td>0.19</td>\n",
       "      <td>1166000</td>\n",
       "    </tr>\n",
       "  </tbody>\n",
       "</table>\n",
       "</div>"
      ],
      "text/plain": [
       "  Macro-region  % IDPs location per M-R  # est. IDPs presence per macro-region\n",
       "0         Kyiv                     0.10                                 626000\n",
       "1         East                     0.31                                1923000\n",
       "2        South                     0.09                                 605000\n",
       "3       Center                     0.18                                1102000\n",
       "4        North                     0.13                                 821000\n",
       "5         West                     0.19                                1166000"
      ]
     },
     "execution_count": 6,
     "metadata": {},
     "output_type": "execute_result"
    }
   ],
   "source": [
    "current_locations"
   ]
  },
  {
   "cell_type": "code",
   "execution_count": 7,
   "id": "01fb8437-b7de-48fb-b26b-67400a2556ec",
   "metadata": {},
   "outputs": [
    {
     "data": {
      "text/html": [
       "<div>\n",
       "<style scoped>\n",
       "    .dataframe tbody tr th:only-of-type {\n",
       "        vertical-align: middle;\n",
       "    }\n",
       "\n",
       "    .dataframe tbody tr th {\n",
       "        vertical-align: top;\n",
       "    }\n",
       "\n",
       "    .dataframe thead th {\n",
       "        text-align: right;\n",
       "    }\n",
       "</style>\n",
       "<table border=\"1\" class=\"dataframe\">\n",
       "  <thead>\n",
       "    <tr style=\"text-align: right;\">\n",
       "      <th></th>\n",
       "      <th>Marco-region</th>\n",
       "      <th>% IDPs origin per M-R</th>\n",
       "      <th># est. Departed</th>\n",
       "    </tr>\n",
       "  </thead>\n",
       "  <tbody>\n",
       "    <tr>\n",
       "      <th>0</th>\n",
       "      <td>Kyiv</td>\n",
       "      <td>0.10</td>\n",
       "      <td>605000</td>\n",
       "    </tr>\n",
       "    <tr>\n",
       "      <th>1</th>\n",
       "      <td>East</td>\n",
       "      <td>0.63</td>\n",
       "      <td>3953000</td>\n",
       "    </tr>\n",
       "    <tr>\n",
       "      <th>2</th>\n",
       "      <td>South</td>\n",
       "      <td>0.19</td>\n",
       "      <td>1210000</td>\n",
       "    </tr>\n",
       "    <tr>\n",
       "      <th>3</th>\n",
       "      <td>West</td>\n",
       "      <td>0.01</td>\n",
       "      <td>43000</td>\n",
       "    </tr>\n",
       "    <tr>\n",
       "      <th>4</th>\n",
       "      <td>North</td>\n",
       "      <td>0.06</td>\n",
       "      <td>346000</td>\n",
       "    </tr>\n",
       "    <tr>\n",
       "      <th>5</th>\n",
       "      <td>Center</td>\n",
       "      <td>0.01</td>\n",
       "      <td>86000</td>\n",
       "    </tr>\n",
       "  </tbody>\n",
       "</table>\n",
       "</div>"
      ],
      "text/plain": [
       "  Marco-region  % IDPs origin per M-R  # est. Departed\n",
       "0         Kyiv                   0.10           605000\n",
       "1         East                   0.63          3953000\n",
       "2        South                   0.19          1210000\n",
       "3         West                   0.01            43000\n",
       "4        North                   0.06           346000\n",
       "5       Center                   0.01            86000"
      ]
     },
     "execution_count": 7,
     "metadata": {},
     "output_type": "execute_result"
    }
   ],
   "source": [
    "origins"
   ]
  },
  {
   "cell_type": "markdown",
   "id": "47833af5-b426-460f-a291-9408375c9cfc",
   "metadata": {},
   "source": [
    "### Outputs"
   ]
  },
  {
   "cell_type": "code",
   "execution_count": 8,
   "id": "73f68c15-e4d0-45f8-aad3-730540360b29",
   "metadata": {},
   "outputs": [],
   "source": [
    "current_locations.to_csv(\"data/processed/idp_current.csv\", index=False)\n",
    "\n",
    "origins.to_csv(\"data/processed/idp_origin.csv\", index=False)"
   ]
  },
  {
   "cell_type": "code",
   "execution_count": 9,
   "id": "8d3ba180-de35-46ee-974c-2a59ed59f525",
   "metadata": {},
   "outputs": [],
   "source": [
    "origins.columns = [\"macro_region\", \"idps_pct\", \"est_departed\"]"
   ]
  },
  {
   "cell_type": "code",
   "execution_count": 11,
   "id": "d20b415d-741b-488c-b95a-8fa0b7e9f958",
   "metadata": {},
   "outputs": [
    {
     "data": {
      "text/plain": [
       "6243000"
      ]
     },
     "execution_count": 11,
     "metadata": {},
     "output_type": "execute_result"
    }
   ],
   "source": [
    "origins[\"est_departed\"].sum()"
   ]
  },
  {
   "cell_type": "code",
   "execution_count": 12,
   "id": "a11169bb-c1a7-4b9a-a3a0-cba160b6c061",
   "metadata": {},
   "outputs": [],
   "source": [
    "current_locations.columns = [\"macro_region\", \"idps_pct\", \"est_displaced\"]"
   ]
  },
  {
   "cell_type": "code",
   "execution_count": 13,
   "id": "53b57304-151e-4e84-b63c-1eb7523c8d7b",
   "metadata": {},
   "outputs": [
    {
     "data": {
      "text/plain": [
       "6243000"
      ]
     },
     "execution_count": 13,
     "metadata": {},
     "output_type": "execute_result"
    }
   ],
   "source": [
    "current_locations[\"est_displaced\"].sum()"
   ]
  },
  {
   "cell_type": "code",
   "execution_count": null,
   "id": "68686dde-bdf6-4f70-9301-7efedb30b0e1",
   "metadata": {},
   "outputs": [],
   "source": []
  }
 ],
 "metadata": {
  "kernelspec": {
   "display_name": "Python 3 (ipykernel)",
   "language": "python",
   "name": "python3"
  },
  "language_info": {
   "codemirror_mode": {
    "name": "ipython",
    "version": 3
   },
   "file_extension": ".py",
   "mimetype": "text/x-python",
   "name": "python",
   "nbconvert_exporter": "python",
   "pygments_lexer": "ipython3",
   "version": "3.9.9"
  }
 },
 "nbformat": 4,
 "nbformat_minor": 5
}
