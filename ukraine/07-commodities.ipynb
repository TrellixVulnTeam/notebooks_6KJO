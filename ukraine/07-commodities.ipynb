{
 "cells": [
  {
   "cell_type": "markdown",
   "id": "74844356-cf4e-46e4-a0a1-69cc30cea392",
   "metadata": {},
   "source": [
    "# World commodity prices"
   ]
  },
  {
   "cell_type": "code",
   "execution_count": 1,
   "id": "8b4b16e7-02da-4015-bb49-99b31976bde3",
   "metadata": {},
   "outputs": [],
   "source": [
    "%load_ext lab_black"
   ]
  },
  {
   "cell_type": "code",
   "execution_count": 2,
   "id": "f99263bb-48d5-44a5-8f67-8fe1f1df79f7",
   "metadata": {},
   "outputs": [],
   "source": [
    "import pandas as pd\n",
    "from datawrapper import Datawrapper\n",
    "import json"
   ]
  },
  {
   "cell_type": "code",
   "execution_count": 3,
   "id": "97143073-7e95-40fe-acb8-9ef90dcc5ee7",
   "metadata": {},
   "outputs": [],
   "source": [
    "token = !echo $dw_api\n",
    "dw = Datawrapper(access_token=token[0])"
   ]
  },
  {
   "cell_type": "code",
   "execution_count": 4,
   "id": "17ccf2e3-b882-450b-8c19-956d71128fb6",
   "metadata": {},
   "outputs": [
    {
     "data": {
      "text/plain": [
       "['FtIwtvFtoGLaRT9a3gjX69PLu4wSuRyKddoOz6SOPw3k9wWyNICMHTkcPhOGCR5Z']"
      ]
     },
     "execution_count": 4,
     "metadata": {},
     "output_type": "execute_result"
    }
   ],
   "source": [
    "token"
   ]
  },
  {
   "cell_type": "code",
   "execution_count": 5,
   "id": "e30545ee-6853-437a-8fef-c5c83c2c00fa",
   "metadata": {},
   "outputs": [],
   "source": [
    "cutoff_date = \"2021-09-01\""
   ]
  },
  {
   "cell_type": "markdown",
   "id": "5f99b11c-b71c-4192-9185-2fe056fdf391",
   "metadata": {},
   "source": [
    "---"
   ]
  },
  {
   "cell_type": "markdown",
   "id": "65ad23ff-a210-4d42-989e-f5522c7499c8",
   "metadata": {},
   "source": [
    "### Wheat"
   ]
  },
  {
   "cell_type": "code",
   "execution_count": 6,
   "id": "a46b9b18-ce7b-4bbe-88d1-55884195fe83",
   "metadata": {},
   "outputs": [],
   "source": [
    "# https://www.wsj.com/market-data/quotes/futures/W00/advanced-chart\n",
    "# Wheat continuous contract"
   ]
  },
  {
   "cell_type": "code",
   "execution_count": 7,
   "id": "a7db0484-ba63-4124-90b3-9883029e9255",
   "metadata": {},
   "outputs": [],
   "source": [
    "import requests\n",
    "\n",
    "headers = {\n",
    "    \"Connection\": \"keep-alive\",\n",
    "    \"Pragma\": \"no-cache\",\n",
    "    \"Cache-Control\": \"no-cache\",\n",
    "    \"sec-ch-ua\": '\" Not A;Brand\";v=\"99\", \"Chromium\";v=\"99\", \"Google Chrome\";v=\"99\"',\n",
    "    \"Accept\": \"application/json, text/javascript, */*; q=0.01\",\n",
    "    \"Dylan2010.EntitlementToken\": \"57494d5ed7ad44af85bc59a51dd87c90\",\n",
    "    \"sec-ch-ua-mobile\": \"?0\",\n",
    "    \"User-Agent\": \"Mozilla/5.0 (Macintosh; Intel Mac OS X 10_15_7) AppleWebKit/537.36 (KHTML, like Gecko) Chrome/99.0.4844.74 Safari/537.36\",\n",
    "    \"sec-ch-ua-platform\": '\"macOS\"',\n",
    "    \"Origin\": \"https://www.wsj.com\",\n",
    "    \"Sec-Fetch-Site\": \"cross-site\",\n",
    "    \"Sec-Fetch-Mode\": \"cors\",\n",
    "    \"Sec-Fetch-Dest\": \"empty\",\n",
    "    \"Referer\": \"https://www.wsj.com/\",\n",
    "    \"Accept-Language\": \"en-US,en;q=0.9,es;q=0.8\",\n",
    "}\n",
    "\n",
    "params = {\n",
    "    \"json\": '{\"Step\":\"P1D\",\"TimeFrame\":\"P1Y\",\"StartDate\":1616457600000,\"EndDate\":1647993600000,\"EntitlementToken\":\"57494d5ed7ad44af85bc59a51dd87c90\",\"IncludeMockTick\":true,\"FilterNullSlots\":false,\"FilterClosedPoints\":true,\"IncludeClosedSlots\":false,\"IncludeOfficialClose\":true,\"InjectOpen\":false,\"ShowPreMarket\":false,\"ShowAfterHours\":false,\"UseExtendedTimeFrame\":true,\"WantPriorClose\":false,\"IncludeCurrentQuotes\":false,\"ResetTodaysAfterHoursPercentChange\":false,\"Series\":[{\"Key\":\"FUTURE/US/XCBT/W00\",\"Dialect\":\"Charting\",\"Kind\":\"Ticker\",\"SeriesId\":\"s1\",\"DataTypes\":[\"Last\"],\"Indicators\":[{\"Parameters\":[{\"Name\":\"Period\",\"Value\":\"200\"}],\"Kind\":\"SimpleMovingAverage\",\"SeriesId\":\"i2\"}]}]}',\n",
    "    \"ckey\": \"57494d5ed7\",\n",
    "}\n",
    "\n",
    "response = requests.get(\n",
    "    \"https://api.wsj.net/api/michelangelo/timeseries/history\",\n",
    "    headers=headers,\n",
    "    params=params,\n",
    ")"
   ]
  },
  {
   "cell_type": "markdown",
   "id": "262acbf9-c2f7-4510-919b-48c33948220c",
   "metadata": {},
   "source": [
    "#### Extract the features we need"
   ]
  },
  {
   "cell_type": "code",
   "execution_count": 8,
   "id": "77e317d0-3780-4e3d-82ae-5af0cf1d0d4f",
   "metadata": {},
   "outputs": [],
   "source": [
    "wheat_dates = pd.Series(response.json()[\"TimeInfo\"][\"Ticks\"])"
   ]
  },
  {
   "cell_type": "code",
   "execution_count": 9,
   "id": "08c63c96-93fe-4144-8c88-f0bb5e223c5e",
   "metadata": {},
   "outputs": [],
   "source": [
    "wheat_values = []\n",
    "\n",
    "for price in response.json()[\"Series\"][0][\"DataPoints\"]:\n",
    "    wheat_values.append(price[0])"
   ]
  },
  {
   "cell_type": "code",
   "execution_count": 10,
   "id": "7a8e9d3b-9ab5-4825-b3a5-d9c3fe01cb71",
   "metadata": {},
   "outputs": [],
   "source": [
    "wheat_values_series = pd.Series(wheat_values)"
   ]
  },
  {
   "cell_type": "code",
   "execution_count": 11,
   "id": "a8994b95-6e21-444f-9f43-a64c56c56481",
   "metadata": {},
   "outputs": [],
   "source": [
    "wheat_df = pd.concat([wheat_dates, wheat_values_series], axis=1)"
   ]
  },
  {
   "cell_type": "code",
   "execution_count": 12,
   "id": "877913bd-5da2-4b2a-b06e-d43c3711264d",
   "metadata": {},
   "outputs": [],
   "source": [
    "wheat_df.columns = [\"timestamp\", \"value\"]"
   ]
  },
  {
   "cell_type": "code",
   "execution_count": 13,
   "id": "8e4f9f64-73b4-44c8-bbc3-16de75c8d872",
   "metadata": {},
   "outputs": [],
   "source": [
    "wheat_df[\"date\"] = pd.to_datetime(wheat_df[\"timestamp\"], unit=\"ms\").dt.strftime(\n",
    "    \"%Y-%m-%d\"\n",
    ")"
   ]
  },
  {
   "cell_type": "code",
   "execution_count": 14,
   "id": "4029f978-8e38-481f-b86f-5c8b4266f87c",
   "metadata": {},
   "outputs": [],
   "source": [
    "wheat_df[\"dollars_per_bushel\"] = (wheat_df[\"value\"] / 100).round(2)"
   ]
  },
  {
   "cell_type": "markdown",
   "id": "820a1cdf-1216-4431-a75c-46038b328913",
   "metadata": {},
   "source": [
    "#### Export"
   ]
  },
  {
   "cell_type": "code",
   "execution_count": 15,
   "id": "93e7019f-32e8-444d-81f9-099daf16624a",
   "metadata": {},
   "outputs": [],
   "source": [
    "wheat_df[wheat_df[\"date\"] > cutoff_date].to_csv(\n",
    "    \"data/processed/tracker_wheat_prices.csv\", index=False\n",
    ")"
   ]
  },
  {
   "cell_type": "code",
   "execution_count": 16,
   "id": "e7e8acd7-7a93-4856-ba75-51691166cc10",
   "metadata": {},
   "outputs": [],
   "source": [
    "dw.add_data(chart_id=\"nHFIW\", data=wheat_df[wheat_df[\"date\"] > cutoff_date])"
   ]
  },
  {
   "cell_type": "markdown",
   "id": "78caf5af-0313-42e7-b6ed-76532a6455db",
   "metadata": {},
   "source": [
    "---"
   ]
  },
  {
   "cell_type": "markdown",
   "id": "08a64e29-23b2-4f9a-90d9-995eb06607ba",
   "metadata": {},
   "source": [
    "### Fertilizer"
   ]
  },
  {
   "cell_type": "code",
   "execution_count": 17,
   "id": "aa9fb641-bdbe-4e38-92bd-ed77b5567edd",
   "metadata": {},
   "outputs": [],
   "source": [
    "# Green Markets Weekly North America Fertilizer Price Index Notation\n",
    "# https://fertilizerpricing.com/priceindex/"
   ]
  },
  {
   "cell_type": "code",
   "execution_count": 18,
   "id": "6cb7124d-fadd-40cb-9716-7c549a8ad4da",
   "metadata": {},
   "outputs": [],
   "source": [
    "fertilizer_raw = pd.read_json(\n",
    "    \"https://fertilizerpricing.com/wp-content/themes/greenmarkets/fcharts/fchart_lib/json/data_open.php\"\n",
    ")"
   ]
  },
  {
   "cell_type": "markdown",
   "id": "9f9cfc7d-7c3d-41e8-be1f-30a888ed8557",
   "metadata": {},
   "source": [
    "#### Get historical data into a dataframe"
   ]
  },
  {
   "cell_type": "code",
   "execution_count": 19,
   "id": "4f294beb-2a4f-49fd-95f4-89af04c80310",
   "metadata": {},
   "outputs": [],
   "source": [
    "historical = []\n",
    "\n",
    "for d in fertilizer_raw[\"data\"][0]:\n",
    "    data_dict = {\"timestamp\": d[0], \"value\": d[1]}\n",
    "    historical.append(data_dict)\n",
    "\n",
    "fertilizer_df = pd.DataFrame(historical)"
   ]
  },
  {
   "cell_type": "markdown",
   "id": "6b1c7a44-eb1d-4f23-9f90-35370a3d381e",
   "metadata": {},
   "source": [
    "#### Dates"
   ]
  },
  {
   "cell_type": "code",
   "execution_count": 20,
   "id": "573c8d8b-02cb-4429-9365-beef990665a2",
   "metadata": {},
   "outputs": [],
   "source": [
    "fertilizer_df[\"date\"] = pd.to_datetime(\n",
    "    fertilizer_df[\"timestamp\"], unit=\"ms\"\n",
    ").dt.strftime(\"%Y-%m-%d\")"
   ]
  },
  {
   "cell_type": "markdown",
   "id": "b9259c61-dc27-45e2-937d-7d9f522663be",
   "metadata": {},
   "source": [
    "#### Export"
   ]
  },
  {
   "cell_type": "code",
   "execution_count": 21,
   "id": "e9dcc8f6-87d8-4350-9e4e-dee469961117",
   "metadata": {},
   "outputs": [],
   "source": [
    "fertilizer_df[fertilizer_df[\"date\"] > cutoff_date].to_csv(\n",
    "    \"data/processed/tracker_fertilizer_prices.csv\", index=False\n",
    ")"
   ]
  },
  {
   "cell_type": "code",
   "execution_count": 22,
   "id": "f5e77b11-5530-4cbd-85ec-8929046ee452",
   "metadata": {},
   "outputs": [
    {
     "data": {
      "text/plain": [
       "<Response [204]>"
      ]
     },
     "execution_count": 22,
     "metadata": {},
     "output_type": "execute_result"
    }
   ],
   "source": [
    "dw.add_data(chart_id=\"WPSUZ\", data=fertilizer_df[fertilizer_df[\"date\"] > cutoff_date])"
   ]
  },
  {
   "cell_type": "markdown",
   "id": "0d097b8f-484c-42cc-8dbc-7e30f8544f3d",
   "metadata": {},
   "source": [
    "---"
   ]
  },
  {
   "cell_type": "markdown",
   "id": "9c896ac0-9cb9-476a-a139-232ce8379487",
   "metadata": {},
   "source": [
    "### Nickel"
   ]
  },
  {
   "cell_type": "code",
   "execution_count": 23,
   "id": "c10147cc-22d5-41a0-91c1-513bc92855c3",
   "metadata": {},
   "outputs": [],
   "source": [
    "nickel_src = pd.read_csv(\"data/raw/nickel.csv\")"
   ]
  },
  {
   "cell_type": "code",
   "execution_count": 24,
   "id": "452f8a96-2260-4612-a7f7-c82943051775",
   "metadata": {},
   "outputs": [],
   "source": [
    "nickel_src.columns = nickel_src.columns.str.lower()"
   ]
  },
  {
   "cell_type": "code",
   "execution_count": 25,
   "id": "f6b1426f-8078-4c48-a7c6-a7dab7c4e7f8",
   "metadata": {},
   "outputs": [],
   "source": [
    "nickel_src[\"date\"] = pd.to_datetime(nickel_src[\"date\"])"
   ]
  },
  {
   "cell_type": "code",
   "execution_count": 26,
   "id": "0bc528b3-67a7-476e-993b-36ee4b382c9a",
   "metadata": {},
   "outputs": [],
   "source": [
    "nickel_df = nickel_src[[\"date\", \"close\"]]"
   ]
  },
  {
   "cell_type": "code",
   "execution_count": 27,
   "id": "f405e11c-3add-455e-9f7d-f51e8c610517",
   "metadata": {},
   "outputs": [],
   "source": [
    "nickel_df[nickel_df[\"date\"] > cutoff_date].to_csv(\n",
    "    \"data/processed/tracker_nickel_prices.csv\", index=False\n",
    ")"
   ]
  },
  {
   "cell_type": "code",
   "execution_count": 28,
   "id": "c083d10d-7f32-4e99-aa50-0d73c54e4c74",
   "metadata": {
    "tags": []
   },
   "outputs": [
    {
     "data": {
      "text/plain": [
       "<Response [204]>"
      ]
     },
     "execution_count": 28,
     "metadata": {},
     "output_type": "execute_result"
    }
   ],
   "source": [
    "dw.add_data(chart_id=\"1daCt\", data=nickel_df[nickel_df[\"date\"] > cutoff_date])"
   ]
  }
 ],
 "metadata": {
  "kernelspec": {
   "display_name": "Python 3 (ipykernel)",
   "language": "python",
   "name": "python3"
  },
  "language_info": {
   "codemirror_mode": {
    "name": "ipython",
    "version": 3
   },
   "file_extension": ".py",
   "mimetype": "text/x-python",
   "name": "python",
   "nbconvert_exporter": "python",
   "pygments_lexer": "ipython3",
   "version": "3.8.9"
  }
 },
 "nbformat": 4,
 "nbformat_minor": 5
}
