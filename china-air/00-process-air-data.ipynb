{
 "cells": [
  {
   "cell_type": "markdown",
   "id": "0b368230-ccf8-42b2-b230-c94095b97d7a",
   "metadata": {},
   "source": [
    "# Air quality"
   ]
  },
  {
   "cell_type": "markdown",
   "id": "245d29ef-22d6-473e-a8cb-51cd31302d65",
   "metadata": {},
   "source": [
    "#### Load Python tools"
   ]
  },
  {
   "cell_type": "code",
   "execution_count": 1,
   "id": "bcb95c52-5aa4-4b6a-8547-fc701bc5fc54",
   "metadata": {},
   "outputs": [],
   "source": [
    "%load_ext lab_black\n",
    "token = !echo $dw_api"
   ]
  },
  {
   "cell_type": "code",
   "execution_count": 2,
   "id": "9fa87bf6-3217-453f-98c9-6e1d8958ee5d",
   "metadata": {},
   "outputs": [],
   "source": [
    "import pandas as pd\n",
    "import geopandas as gpd\n",
    "import altair as alt\n",
    "from datetime import timedelta\n",
    "import numpy as np\n",
    "import glob"
   ]
  },
  {
   "cell_type": "code",
   "execution_count": 3,
   "id": "679bb56d-729d-4c46-8608-abd0f0b522d9",
   "metadata": {},
   "outputs": [],
   "source": [
    "pd.options.display.max_columns = 1000\n",
    "pd.options.display.max_rows = 1000\n",
    "pd.options.display.max_colwidth = None"
   ]
  },
  {
   "cell_type": "code",
   "execution_count": 4,
   "id": "e2610875-ca7a-4fe3-88d0-5ccefb8b7d6c",
   "metadata": {},
   "outputs": [],
   "source": [
    "from datawrapper import Datawrapper\n",
    "\n",
    "dw = Datawrapper(access_token=token[0])"
   ]
  },
  {
   "cell_type": "code",
   "execution_count": 5,
   "id": "5e00412b-0937-4c88-848d-4c08b54eb3b0",
   "metadata": {},
   "outputs": [
    {
     "data": {
      "text/plain": [
       "{'id': 393404,\n",
       " 'email': 'mstiles@mipo.news',\n",
       " 'name': None,\n",
       " 'role': 'editor',\n",
       " 'language': 'en-US',\n",
       " 'teams': [{'id': '1NhUBkSc',\n",
       "   'name': 'Grid',\n",
       "   'url': '/v3/teams/1NhUBkSc',\n",
       "   'active': True}],\n",
       " 'chartCount': 176,\n",
       " 'url': '/v3/users/393404',\n",
       " 'activeTeam': '1NhUBkSc'}"
      ]
     },
     "execution_count": 5,
     "metadata": {},
     "output_type": "execute_result"
    }
   ],
   "source": [
    "dw.account_info()"
   ]
  },
  {
   "cell_type": "markdown",
   "id": "4b116e16-fd21-4856-9975-19e3e3deb6df",
   "metadata": {},
   "source": [
    "---"
   ]
  },
  {
   "cell_type": "markdown",
   "id": "e3965fce-c131-4366-8c51-94c963f382c7",
   "metadata": {},
   "source": [
    "#### Read data"
   ]
  },
  {
   "cell_type": "code",
   "execution_count": 6,
   "id": "72e38467-f412-4247-adf4-d66b8cd79832",
   "metadata": {},
   "outputs": [],
   "source": [
    "df = pd.read_csv(\"data/raw/china-air-aqli-feb2022.csv\")"
   ]
  },
  {
   "cell_type": "code",
   "execution_count": 7,
   "id": "fc09d1f0-86ef-4385-a728-0294c2758e7d",
   "metadata": {},
   "outputs": [
    {
     "data": {
      "text/plain": [
       "50"
      ]
     },
     "execution_count": 7,
     "metadata": {},
     "output_type": "execute_result"
    }
   ],
   "source": [
    "len(df)"
   ]
  },
  {
   "cell_type": "code",
   "execution_count": 8,
   "id": "71555598-c15f-43cd-a758-6fe35131673b",
   "metadata": {},
   "outputs": [
    {
     "data": {
      "text/html": [
       "<div>\n",
       "<style scoped>\n",
       "    .dataframe tbody tr th:only-of-type {\n",
       "        vertical-align: middle;\n",
       "    }\n",
       "\n",
       "    .dataframe tbody tr th {\n",
       "        vertical-align: top;\n",
       "    }\n",
       "\n",
       "    .dataframe thead th {\n",
       "        text-align: right;\n",
       "    }\n",
       "</style>\n",
       "<table border=\"1\" class=\"dataframe\">\n",
       "  <thead>\n",
       "    <tr style=\"text-align: right;\">\n",
       "      <th></th>\n",
       "      <th>place</th>\n",
       "      <th>pop</th>\n",
       "      <th>pm_2008</th>\n",
       "      <th>pm_2013</th>\n",
       "      <th>pm_2020</th>\n",
       "      <th>pct_change_08-22</th>\n",
       "      <th>life_gain_years_08_22</th>\n",
       "    </tr>\n",
       "  </thead>\n",
       "  <tbody>\n",
       "    <tr>\n",
       "      <th>0</th>\n",
       "      <td>Chongqing</td>\n",
       "      <td>30.0</td>\n",
       "      <td>56.5</td>\n",
       "      <td>56.2</td>\n",
       "      <td>29.0</td>\n",
       "      <td>49</td>\n",
       "      <td>2.7</td>\n",
       "    </tr>\n",
       "    <tr>\n",
       "      <th>1</th>\n",
       "      <td>Shanghai</td>\n",
       "      <td>24.1</td>\n",
       "      <td>47.5</td>\n",
       "      <td>50.2</td>\n",
       "      <td>28.1</td>\n",
       "      <td>41</td>\n",
       "      <td>1.9</td>\n",
       "    </tr>\n",
       "    <tr>\n",
       "      <th>2</th>\n",
       "      <td>Beijing</td>\n",
       "      <td>20.5</td>\n",
       "      <td>75.7</td>\n",
       "      <td>85.2</td>\n",
       "      <td>37.9</td>\n",
       "      <td>50</td>\n",
       "      <td>3.7</td>\n",
       "    </tr>\n",
       "    <tr>\n",
       "      <th>3</th>\n",
       "      <td>Chengdu</td>\n",
       "      <td>13.9</td>\n",
       "      <td>66.3</td>\n",
       "      <td>70.3</td>\n",
       "      <td>35.4</td>\n",
       "      <td>47</td>\n",
       "      <td>3.0</td>\n",
       "    </tr>\n",
       "    <tr>\n",
       "      <th>4</th>\n",
       "      <td>Tianjin</td>\n",
       "      <td>13.6</td>\n",
       "      <td>72.5</td>\n",
       "      <td>77.6</td>\n",
       "      <td>47.4</td>\n",
       "      <td>35</td>\n",
       "      <td>2.5</td>\n",
       "    </tr>\n",
       "  </tbody>\n",
       "</table>\n",
       "</div>"
      ],
      "text/plain": [
       "       place   pop  pm_2008  pm_2013  pm_2020  pct_change_08-22  \\\n",
       "0  Chongqing  30.0     56.5     56.2     29.0                49   \n",
       "1   Shanghai  24.1     47.5     50.2     28.1                41   \n",
       "2    Beijing  20.5     75.7     85.2     37.9                50   \n",
       "3    Chengdu  13.9     66.3     70.3     35.4                47   \n",
       "4    Tianjin  13.6     72.5     77.6     47.4                35   \n",
       "\n",
       "   life_gain_years_08_22  \n",
       "0                    2.7  \n",
       "1                    1.9  \n",
       "2                    3.7  \n",
       "3                    3.0  \n",
       "4                    2.5  "
      ]
     },
     "execution_count": 8,
     "metadata": {},
     "output_type": "execute_result"
    }
   ],
   "source": [
    "df.head()"
   ]
  },
  {
   "cell_type": "code",
   "execution_count": 9,
   "id": "31f63fce-6c69-4c23-8d91-cfd470643035",
   "metadata": {},
   "outputs": [
    {
     "data": {
      "text/plain": [
       "81.4"
      ]
     },
     "execution_count": 9,
     "metadata": {},
     "output_type": "execute_result"
    }
   ],
   "source": [
    "df.pm_2008.max()"
   ]
  },
  {
   "cell_type": "code",
   "execution_count": 10,
   "id": "505e0754-1205-4d44-a09c-de419c6fac4a",
   "metadata": {},
   "outputs": [
    {
     "data": {
      "text/plain": [
       "30.1"
      ]
     },
     "execution_count": 10,
     "metadata": {},
     "output_type": "execute_result"
    }
   ],
   "source": [
    "df.pm_2008.min()"
   ]
  },
  {
   "cell_type": "code",
   "execution_count": 11,
   "id": "493af65f-5595-420e-bf65-edc27be1ca42",
   "metadata": {},
   "outputs": [
    {
     "data": {
      "text/plain": [
       "56.0"
      ]
     },
     "execution_count": 11,
     "metadata": {},
     "output_type": "execute_result"
    }
   ],
   "source": [
    "df.pm_2020.max()"
   ]
  },
  {
   "cell_type": "code",
   "execution_count": 12,
   "id": "b7d9ca31-e635-44ff-9daf-e2c99dd0b982",
   "metadata": {},
   "outputs": [
    {
     "data": {
      "text/plain": [
       "17.7"
      ]
     },
     "execution_count": 12,
     "metadata": {},
     "output_type": "execute_result"
    }
   ],
   "source": [
    "df.pm_2020.min()"
   ]
  },
  {
   "cell_type": "code",
   "execution_count": 13,
   "id": "bb552bef-5cb3-4680-8e27-1383eb48677c",
   "metadata": {},
   "outputs": [
    {
     "data": {
      "text/html": [
       "<div>\n",
       "<style scoped>\n",
       "    .dataframe tbody tr th:only-of-type {\n",
       "        vertical-align: middle;\n",
       "    }\n",
       "\n",
       "    .dataframe tbody tr th {\n",
       "        vertical-align: top;\n",
       "    }\n",
       "\n",
       "    .dataframe thead th {\n",
       "        text-align: right;\n",
       "    }\n",
       "</style>\n",
       "<table border=\"1\" class=\"dataframe\">\n",
       "  <thead>\n",
       "    <tr style=\"text-align: right;\">\n",
       "      <th></th>\n",
       "      <th>place</th>\n",
       "      <th>pop</th>\n",
       "      <th>pm_2008</th>\n",
       "      <th>pm_2013</th>\n",
       "      <th>pm_2020</th>\n",
       "      <th>pct_change_08-22</th>\n",
       "      <th>life_gain_years_08_22</th>\n",
       "    </tr>\n",
       "  </thead>\n",
       "  <tbody>\n",
       "    <tr>\n",
       "      <th>0</th>\n",
       "      <td>Chongqing</td>\n",
       "      <td>30.0</td>\n",
       "      <td>56.5</td>\n",
       "      <td>56.2</td>\n",
       "      <td>29.0</td>\n",
       "      <td>49</td>\n",
       "      <td>2.7</td>\n",
       "    </tr>\n",
       "    <tr>\n",
       "      <th>1</th>\n",
       "      <td>Shanghai</td>\n",
       "      <td>24.1</td>\n",
       "      <td>47.5</td>\n",
       "      <td>50.2</td>\n",
       "      <td>28.1</td>\n",
       "      <td>41</td>\n",
       "      <td>1.9</td>\n",
       "    </tr>\n",
       "    <tr>\n",
       "      <th>2</th>\n",
       "      <td>Beijing</td>\n",
       "      <td>20.5</td>\n",
       "      <td>75.7</td>\n",
       "      <td>85.2</td>\n",
       "      <td>37.9</td>\n",
       "      <td>50</td>\n",
       "      <td>3.7</td>\n",
       "    </tr>\n",
       "    <tr>\n",
       "      <th>3</th>\n",
       "      <td>Chengdu</td>\n",
       "      <td>13.9</td>\n",
       "      <td>66.3</td>\n",
       "      <td>70.3</td>\n",
       "      <td>35.4</td>\n",
       "      <td>47</td>\n",
       "      <td>3.0</td>\n",
       "    </tr>\n",
       "    <tr>\n",
       "      <th>4</th>\n",
       "      <td>Tianjin</td>\n",
       "      <td>13.6</td>\n",
       "      <td>72.5</td>\n",
       "      <td>77.6</td>\n",
       "      <td>47.4</td>\n",
       "      <td>35</td>\n",
       "      <td>2.5</td>\n",
       "    </tr>\n",
       "    <tr>\n",
       "      <th>5</th>\n",
       "      <td>Guangzhou</td>\n",
       "      <td>13.2</td>\n",
       "      <td>47.8</td>\n",
       "      <td>45.5</td>\n",
       "      <td>22.8</td>\n",
       "      <td>52</td>\n",
       "      <td>2.4</td>\n",
       "    </tr>\n",
       "    <tr>\n",
       "      <th>6</th>\n",
       "      <td>Baoding</td>\n",
       "      <td>11.6</td>\n",
       "      <td>79.3</td>\n",
       "      <td>101.2</td>\n",
       "      <td>46.2</td>\n",
       "      <td>42</td>\n",
       "      <td>3.2</td>\n",
       "    </tr>\n",
       "    <tr>\n",
       "      <th>7</th>\n",
       "      <td>Harbin</td>\n",
       "      <td>11.1</td>\n",
       "      <td>46.1</td>\n",
       "      <td>59.5</td>\n",
       "      <td>40.7</td>\n",
       "      <td>12</td>\n",
       "      <td>0.5</td>\n",
       "    </tr>\n",
       "    <tr>\n",
       "      <th>8</th>\n",
       "      <td>Suzhou</td>\n",
       "      <td>10.8</td>\n",
       "      <td>54.8</td>\n",
       "      <td>57.3</td>\n",
       "      <td>31.2</td>\n",
       "      <td>43</td>\n",
       "      <td>2.3</td>\n",
       "    </tr>\n",
       "    <tr>\n",
       "      <th>9</th>\n",
       "      <td>Nanyang</td>\n",
       "      <td>10.8</td>\n",
       "      <td>38.3</td>\n",
       "      <td>37.2</td>\n",
       "      <td>19.1</td>\n",
       "      <td>50</td>\n",
       "      <td>1.9</td>\n",
       "    </tr>\n",
       "  </tbody>\n",
       "</table>\n",
       "</div>"
      ],
      "text/plain": [
       "       place   pop  pm_2008  pm_2013  pm_2020  pct_change_08-22  \\\n",
       "0  Chongqing  30.0     56.5     56.2     29.0                49   \n",
       "1   Shanghai  24.1     47.5     50.2     28.1                41   \n",
       "2    Beijing  20.5     75.7     85.2     37.9                50   \n",
       "3    Chengdu  13.9     66.3     70.3     35.4                47   \n",
       "4    Tianjin  13.6     72.5     77.6     47.4                35   \n",
       "5  Guangzhou  13.2     47.8     45.5     22.8                52   \n",
       "6    Baoding  11.6     79.3    101.2     46.2                42   \n",
       "7     Harbin  11.1     46.1     59.5     40.7                12   \n",
       "8     Suzhou  10.8     54.8     57.3     31.2                43   \n",
       "9    Nanyang  10.8     38.3     37.2     19.1                50   \n",
       "\n",
       "   life_gain_years_08_22  \n",
       "0                    2.7  \n",
       "1                    1.9  \n",
       "2                    3.7  \n",
       "3                    3.0  \n",
       "4                    2.5  \n",
       "5                    2.4  \n",
       "6                    3.2  \n",
       "7                    0.5  \n",
       "8                    2.3  \n",
       "9                    1.9  "
      ]
     },
     "execution_count": 13,
     "metadata": {},
     "output_type": "execute_result"
    }
   ],
   "source": [
    "df.sort_values(\"pop\", ascending=False).head(10)"
   ]
  },
  {
   "cell_type": "code",
   "execution_count": 14,
   "id": "611b0c25-11af-4afb-9b71-3353596da0c4",
   "metadata": {},
   "outputs": [],
   "source": [
    "largest_places = df.sort_values(\"pop\", ascending=False).head(5)[\"place\"].to_list()\n",
    "places = df.sort_values(\"pop\", ascending=False)[\"place\"].to_list()"
   ]
  },
  {
   "cell_type": "code",
   "execution_count": 15,
   "id": "8e568475-976b-4e0e-ad70-4230b857b4a8",
   "metadata": {},
   "outputs": [
    {
     "data": {
      "text/plain": [
       "['Chongqing', 'Shanghai', 'Beijing', 'Chengdu', 'Tianjin']"
      ]
     },
     "execution_count": 15,
     "metadata": {},
     "output_type": "execute_result"
    }
   ],
   "source": [
    "largest_places"
   ]
  },
  {
   "cell_type": "code",
   "execution_count": 16,
   "id": "3e195582-55ea-4652-9b81-571d178aa942",
   "metadata": {},
   "outputs": [],
   "source": [
    "large_df = df[df[\"place\"].isin(largest_places)]"
   ]
  },
  {
   "cell_type": "code",
   "execution_count": 17,
   "id": "a6b3a19e-4219-43c5-8773-450f3cfa36da",
   "metadata": {},
   "outputs": [
    {
     "data": {
      "text/html": [
       "<div>\n",
       "<style scoped>\n",
       "    .dataframe tbody tr th:only-of-type {\n",
       "        vertical-align: middle;\n",
       "    }\n",
       "\n",
       "    .dataframe tbody tr th {\n",
       "        vertical-align: top;\n",
       "    }\n",
       "\n",
       "    .dataframe thead th {\n",
       "        text-align: right;\n",
       "    }\n",
       "</style>\n",
       "<table border=\"1\" class=\"dataframe\">\n",
       "  <thead>\n",
       "    <tr style=\"text-align: right;\">\n",
       "      <th></th>\n",
       "      <th>place</th>\n",
       "      <th>pop</th>\n",
       "      <th>pm_2008</th>\n",
       "      <th>pm_2013</th>\n",
       "      <th>pm_2020</th>\n",
       "      <th>pct_change_08-22</th>\n",
       "      <th>life_gain_years_08_22</th>\n",
       "    </tr>\n",
       "  </thead>\n",
       "  <tbody>\n",
       "    <tr>\n",
       "      <th>0</th>\n",
       "      <td>Chongqing</td>\n",
       "      <td>30.0</td>\n",
       "      <td>56.5</td>\n",
       "      <td>56.2</td>\n",
       "      <td>29.0</td>\n",
       "      <td>49</td>\n",
       "      <td>2.7</td>\n",
       "    </tr>\n",
       "    <tr>\n",
       "      <th>1</th>\n",
       "      <td>Shanghai</td>\n",
       "      <td>24.1</td>\n",
       "      <td>47.5</td>\n",
       "      <td>50.2</td>\n",
       "      <td>28.1</td>\n",
       "      <td>41</td>\n",
       "      <td>1.9</td>\n",
       "    </tr>\n",
       "    <tr>\n",
       "      <th>2</th>\n",
       "      <td>Beijing</td>\n",
       "      <td>20.5</td>\n",
       "      <td>75.7</td>\n",
       "      <td>85.2</td>\n",
       "      <td>37.9</td>\n",
       "      <td>50</td>\n",
       "      <td>3.7</td>\n",
       "    </tr>\n",
       "    <tr>\n",
       "      <th>3</th>\n",
       "      <td>Chengdu</td>\n",
       "      <td>13.9</td>\n",
       "      <td>66.3</td>\n",
       "      <td>70.3</td>\n",
       "      <td>35.4</td>\n",
       "      <td>47</td>\n",
       "      <td>3.0</td>\n",
       "    </tr>\n",
       "    <tr>\n",
       "      <th>4</th>\n",
       "      <td>Tianjin</td>\n",
       "      <td>13.6</td>\n",
       "      <td>72.5</td>\n",
       "      <td>77.6</td>\n",
       "      <td>47.4</td>\n",
       "      <td>35</td>\n",
       "      <td>2.5</td>\n",
       "    </tr>\n",
       "  </tbody>\n",
       "</table>\n",
       "</div>"
      ],
      "text/plain": [
       "       place   pop  pm_2008  pm_2013  pm_2020  pct_change_08-22  \\\n",
       "0  Chongqing  30.0     56.5     56.2     29.0                49   \n",
       "1   Shanghai  24.1     47.5     50.2     28.1                41   \n",
       "2    Beijing  20.5     75.7     85.2     37.9                50   \n",
       "3    Chengdu  13.9     66.3     70.3     35.4                47   \n",
       "4    Tianjin  13.6     72.5     77.6     47.4                35   \n",
       "\n",
       "   life_gain_years_08_22  \n",
       "0                    2.7  \n",
       "1                    1.9  \n",
       "2                    3.7  \n",
       "3                    3.0  \n",
       "4                    2.5  "
      ]
     },
     "execution_count": 17,
     "metadata": {},
     "output_type": "execute_result"
    }
   ],
   "source": [
    "large_df"
   ]
  },
  {
   "cell_type": "markdown",
   "id": "ea56885e-9703-45ed-9af5-dec2889ddf70",
   "metadata": {},
   "source": [
    "#### Pivot the dataframe so it's wide for datawrapper"
   ]
  },
  {
   "cell_type": "code",
   "execution_count": 18,
   "id": "b2c04df7-b631-47b0-9ef3-a8cc61809bc9",
   "metadata": {},
   "outputs": [],
   "source": [
    "df_pivot = large_df.pivot_table(\n",
    "    columns=\"place\", values=[\"pm_2008\", \"pm_2013\", \"pm_2020\"]\n",
    ")"
   ]
  },
  {
   "cell_type": "code",
   "execution_count": 19,
   "id": "e8c0a872-0941-4c18-91d2-f79266ec36f5",
   "metadata": {},
   "outputs": [],
   "source": [
    "df_pivot[\"Year\"] = df_pivot.index.str.replace(\"pm_\", \"\", regex=False)"
   ]
  },
  {
   "cell_type": "code",
   "execution_count": 20,
   "id": "dc53261d-0acd-4396-be9e-a96fcbd88538",
   "metadata": {},
   "outputs": [],
   "source": [
    "df_pivot.to_csv(\"data/processed/air_quality_slope.csv\", index=False)"
   ]
  },
  {
   "cell_type": "code",
   "execution_count": 21,
   "id": "4bcfbaf2-cfb8-4dc6-8748-68b7a81beb04",
   "metadata": {},
   "outputs": [],
   "source": [
    "df_pivot.index = df_pivot.index.str.replace(\"pm_\", \"\", regex=False)"
   ]
  },
  {
   "cell_type": "code",
   "execution_count": 22,
   "id": "f87246b2-b9af-4791-871d-20c6e9feb409",
   "metadata": {},
   "outputs": [
    {
     "data": {
      "text/plain": [
       "<Response [404]>"
      ]
     },
     "execution_count": 22,
     "metadata": {},
     "output_type": "execute_result"
    }
   ],
   "source": [
    "dw.add_data(chart_id=\"emXrI\", data=df_pivot)"
   ]
  },
  {
   "cell_type": "markdown",
   "id": "37b5a4ab-11ee-484b-8310-75ff269d1219",
   "metadata": {},
   "source": [
    "---"
   ]
  },
  {
   "cell_type": "markdown",
   "id": "3e87f103-a574-4bfe-8724-6b1cf35b28d9",
   "metadata": {
    "tags": []
   },
   "source": [
    "## Geography"
   ]
  },
  {
   "cell_type": "markdown",
   "id": "bc7bf127-8a84-4168-b167-782bbab15133",
   "metadata": {},
   "source": [
    "#### China prefectures"
   ]
  },
  {
   "cell_type": "code",
   "execution_count": 23,
   "id": "25722b56-317c-4dfc-b6bc-ac0eac5412b2",
   "metadata": {},
   "outputs": [],
   "source": [
    "# gdf = gpd.read_file(\"data/raw/prefectures/City0010.shp\")"
   ]
  },
  {
   "cell_type": "code",
   "execution_count": 24,
   "id": "aacb5a12-e4bd-4056-bdac-cb7b2694e670",
   "metadata": {},
   "outputs": [],
   "source": [
    "# gdf.rename(\n",
    "#     columns={\"A101004_10\": \"pop2010\", \"A101001_10\": \"households2010\"}, inplace=True\n",
    "# )"
   ]
  },
  {
   "cell_type": "code",
   "execution_count": 25,
   "id": "c2727fb8-d112-4e8c-b830-36be04207a04",
   "metadata": {},
   "outputs": [],
   "source": [
    "# gdf.columns = gdf.columns.str.lower()"
   ]
  },
  {
   "cell_type": "code",
   "execution_count": 26,
   "id": "62a12027-a9a8-4229-85d4-43303e8fccdf",
   "metadata": {},
   "outputs": [],
   "source": [
    "# gdf_slim = gdf[~gdf[\"city_en\"].str.contains(\"Counties\")][\n",
    "#     [\n",
    "#         \"objectid\",\n",
    "#         \"gbcity\",\n",
    "#         \"city_ch\",\n",
    "#         \"city_en\",\n",
    "#         \"households2010\",\n",
    "#         \"pop2010\",\n",
    "#         \"gbprov\",\n",
    "#         \"prov_ch\",\n",
    "#         \"prov_en\",\n",
    "#     ]\n",
    "# ]"
   ]
  },
  {
   "cell_type": "code",
   "execution_count": 27,
   "id": "78b87fef-c29f-435b-b493-89c44ab4316f",
   "metadata": {},
   "outputs": [],
   "source": [
    "# gdf_slim = gdf[\n",
    "#     [\n",
    "#         \"objectid\",\n",
    "#         \"gbcity\",\n",
    "#         \"city_ch\",\n",
    "#         \"city_en\",\n",
    "#         \"households2010\",\n",
    "#         \"pop2010\",\n",
    "#         \"gbprov\",\n",
    "#         \"prov_ch\",\n",
    "#         \"prov_en\",\n",
    "#         \"geometry\",\n",
    "#     ]\n",
    "# ].copy()"
   ]
  },
  {
   "cell_type": "code",
   "execution_count": 28,
   "id": "b8310d3e-4791-48d2-80ca-58f7dcedb201",
   "metadata": {},
   "outputs": [],
   "source": [
    "# gdf_slim[\"city_en\"] = gdf_slim[\"city_en\"].str.replace(\" (Districts)\", \"\", regex=False)"
   ]
  },
  {
   "cell_type": "markdown",
   "id": "39644e2a-a164-4d93-94e4-2fcab010ca20",
   "metadata": {},
   "source": [
    "---"
   ]
  },
  {
   "cell_type": "code",
   "execution_count": 29,
   "id": "e7ed25bd-d3fb-4cff-9437-f79a4ea7dc43",
   "metadata": {},
   "outputs": [],
   "source": [
    "# merge = gpd.GeoDataFrame(pd.merge(df, gdf_slim, left_on=\"place\", right_on=\"city_en\"))"
   ]
  },
  {
   "cell_type": "code",
   "execution_count": 30,
   "id": "83381da2-75c5-425f-b927-438f5c829961",
   "metadata": {},
   "outputs": [],
   "source": [
    "# len(merge)"
   ]
  },
  {
   "cell_type": "code",
   "execution_count": 31,
   "id": "6804c799-bda2-4f5d-9993-f2eee9190194",
   "metadata": {},
   "outputs": [],
   "source": [
    "# merge.to_file(\"data/processed/prefectures_merge_air_data.geojson\", driver=\"GeoJSON\")"
   ]
  },
  {
   "cell_type": "markdown",
   "id": "2228ce75-5c1f-46fe-bd27-55e6c79df149",
   "metadata": {},
   "source": [
    "---"
   ]
  },
  {
   "cell_type": "markdown",
   "id": "620add65-58d6-4c83-be51-3151ad459f6c",
   "metadata": {},
   "source": [
    "## Specific places over time"
   ]
  },
  {
   "cell_type": "code",
   "execution_count": 32,
   "id": "bbf67066-a7ff-4a75-9367-6164197f1d61",
   "metadata": {},
   "outputs": [],
   "source": [
    "beijing = pd.read_csv(\"data/raw/air/beijing-air-quality.csv\")\n",
    "yanqing = pd.read_csv(\"data/raw/air/yanqing-town, beijing-air-quality.csv\")\n",
    "zhangjiakou = pd.read_csv(\"data/raw/air/zhangjiakou-air-quality.csv\")"
   ]
  },
  {
   "cell_type": "code",
   "execution_count": 33,
   "id": "f8174aac-83c1-4225-84f4-7e35f84dac43",
   "metadata": {},
   "outputs": [],
   "source": [
    "beijing[\"city\"] = \"Beijing\"\n",
    "yanqing[\"city\"] = \"Yanqing\"\n",
    "zhangjiakou[\"city\"] = \"Zhangjiakou\""
   ]
  },
  {
   "cell_type": "code",
   "execution_count": 34,
   "id": "ce328ccd-3a75-489c-8330-e946c244c01b",
   "metadata": {},
   "outputs": [],
   "source": [
    "air_olympics_src = pd.concat([beijing, yanqing, zhangjiakou])"
   ]
  },
  {
   "cell_type": "code",
   "execution_count": 35,
   "id": "030ce5af-5f01-4f04-ae96-a8e764f5f13a",
   "metadata": {},
   "outputs": [],
   "source": [
    "air_olympics_src.columns = air_olympics_src.columns.str.strip()"
   ]
  },
  {
   "cell_type": "code",
   "execution_count": 36,
   "id": "d06b682a-f06c-4a9f-a6f3-5e65d17960e5",
   "metadata": {},
   "outputs": [],
   "source": [
    "air_olympics = air_olympics_src[[\"date\", \"pm25\", \"city\"]].copy()"
   ]
  },
  {
   "cell_type": "code",
   "execution_count": 37,
   "id": "4a8ab96f-4641-4343-a9e4-2b706ebc2607",
   "metadata": {},
   "outputs": [],
   "source": [
    "air_olympics[\"date\"] = pd.to_datetime(air_olympics[\"date\"])"
   ]
  },
  {
   "cell_type": "code",
   "execution_count": 38,
   "id": "250fec44-0ea1-41fe-a17e-f3bad59c68e4",
   "metadata": {},
   "outputs": [],
   "source": [
    "air_olympics[\"year\"] = air_olympics[\"date\"].dt.year\n",
    "air_olympics[\"month\"] = air_olympics[\"date\"].dt.month\n",
    "air_olympics[\"day\"] = air_olympics[\"date\"].dt.day\n",
    "air_olympics[\"month-year\"] = air_olympics[\"date\"].dt.strftime(\"%Y-%m\")"
   ]
  },
  {
   "cell_type": "code",
   "execution_count": 39,
   "id": "9b69538c-cd91-477f-aac8-2d4309029a31",
   "metadata": {},
   "outputs": [],
   "source": [
    "air_olympics = air_olympics.replace(r\"^\\s*$\", np.nan, regex=True)"
   ]
  },
  {
   "cell_type": "code",
   "execution_count": 40,
   "id": "d0e04f24-58b4-4d6f-80d6-25b412e5691e",
   "metadata": {},
   "outputs": [],
   "source": [
    "air_olympics[\"pm25\"] = air_olympics[\"pm25\"].astype(float)"
   ]
  },
  {
   "cell_type": "markdown",
   "id": "cb6e2598-0386-4be0-b4b4-01ce25426035",
   "metadata": {},
   "source": [
    "#### Mean PM 2.5 in February over the years"
   ]
  },
  {
   "cell_type": "code",
   "execution_count": 41,
   "id": "688af6b4-2a56-43a7-ba06-20adb4e47585",
   "metadata": {},
   "outputs": [],
   "source": [
    "mean_air = (\n",
    "    air_olympics[air_olympics[\"month\"] == 2]\n",
    "    .groupby([\"month-year\", \"city\"])\n",
    "    .agg({\"pm25\": \"mean\"})\n",
    "    .round()\n",
    "    .reset_index()\n",
    ")"
   ]
  },
  {
   "cell_type": "code",
   "execution_count": 42,
   "id": "e8db5333-7a92-470d-be7e-2a3617d1b0c0",
   "metadata": {},
   "outputs": [
    {
     "data": {
      "text/html": [
       "\n",
       "<div id=\"altair-viz-7f8dec0938ca46a2ba1b9323b3bab9df\"></div>\n",
       "<script type=\"text/javascript\">\n",
       "  var VEGA_DEBUG = (typeof VEGA_DEBUG == \"undefined\") ? {} : VEGA_DEBUG;\n",
       "  (function(spec, embedOpt){\n",
       "    let outputDiv = document.currentScript.previousElementSibling;\n",
       "    if (outputDiv.id !== \"altair-viz-7f8dec0938ca46a2ba1b9323b3bab9df\") {\n",
       "      outputDiv = document.getElementById(\"altair-viz-7f8dec0938ca46a2ba1b9323b3bab9df\");\n",
       "    }\n",
       "    const paths = {\n",
       "      \"vega\": \"https://cdn.jsdelivr.net/npm//vega@5?noext\",\n",
       "      \"vega-lib\": \"https://cdn.jsdelivr.net/npm//vega-lib?noext\",\n",
       "      \"vega-lite\": \"https://cdn.jsdelivr.net/npm//vega-lite@4.17.0?noext\",\n",
       "      \"vega-embed\": \"https://cdn.jsdelivr.net/npm//vega-embed@6?noext\",\n",
       "    };\n",
       "\n",
       "    function maybeLoadScript(lib, version) {\n",
       "      var key = `${lib.replace(\"-\", \"\")}_version`;\n",
       "      return (VEGA_DEBUG[key] == version) ?\n",
       "        Promise.resolve(paths[lib]) :\n",
       "        new Promise(function(resolve, reject) {\n",
       "          var s = document.createElement('script');\n",
       "          document.getElementsByTagName(\"head\")[0].appendChild(s);\n",
       "          s.async = true;\n",
       "          s.onload = () => {\n",
       "            VEGA_DEBUG[key] = version;\n",
       "            return resolve(paths[lib]);\n",
       "          };\n",
       "          s.onerror = () => reject(`Error loading script: ${paths[lib]}`);\n",
       "          s.src = paths[lib];\n",
       "        });\n",
       "    }\n",
       "\n",
       "    function showError(err) {\n",
       "      outputDiv.innerHTML = `<div class=\"error\" style=\"color:red;\">${err}</div>`;\n",
       "      throw err;\n",
       "    }\n",
       "\n",
       "    function displayChart(vegaEmbed) {\n",
       "      vegaEmbed(outputDiv, spec, embedOpt)\n",
       "        .catch(err => showError(`Javascript Error: ${err.message}<br>This usually means there's a typo in your chart specification. See the javascript console for the full traceback.`));\n",
       "    }\n",
       "\n",
       "    if(typeof define === \"function\" && define.amd) {\n",
       "      requirejs.config({paths});\n",
       "      require([\"vega-embed\"], displayChart, err => showError(`Error loading script: ${err.message}`));\n",
       "    } else {\n",
       "      maybeLoadScript(\"vega\", \"5\")\n",
       "        .then(() => maybeLoadScript(\"vega-lite\", \"4.17.0\"))\n",
       "        .then(() => maybeLoadScript(\"vega-embed\", \"6\"))\n",
       "        .catch(showError)\n",
       "        .then(() => displayChart(vegaEmbed));\n",
       "    }\n",
       "  })({\"config\": {\"view\": {\"continuousWidth\": 400, \"continuousHeight\": 300}}, \"data\": {\"name\": \"data-f2aeb6088a3c813f33f8c0dd57e8bda5\"}, \"mark\": \"line\", \"encoding\": {\"color\": {\"field\": \"city\", \"type\": \"nominal\"}, \"x\": {\"axis\": {\"format\": \"%Y\", \"tickCount\": 6}, \"field\": \"month-year\", \"type\": \"temporal\"}, \"y\": {\"field\": \"pm25\", \"type\": \"quantitative\"}}, \"title\": \"Average February PM 2.5 AQI\", \"width\": 650, \"$schema\": \"https://vega.github.io/schema/vega-lite/v4.17.0.json\", \"datasets\": {\"data-f2aeb6088a3c813f33f8c0dd57e8bda5\": [{\"month-year\": \"2014-02\", \"city\": \"Beijing\", \"pm25\": 227.0}, {\"month-year\": \"2014-02\", \"city\": \"Yanqing\", \"pm25\": 205.0}, {\"month-year\": \"2014-02\", \"city\": \"Zhangjiakou\", \"pm25\": 210.0}, {\"month-year\": \"2015-02\", \"city\": \"Beijing\", \"pm25\": 147.0}, {\"month-year\": \"2015-02\", \"city\": \"Yanqing\", \"pm25\": 134.0}, {\"month-year\": \"2015-02\", \"city\": \"Zhangjiakou\", \"pm25\": 117.0}, {\"month-year\": \"2016-02\", \"city\": \"Beijing\", \"pm25\": 93.0}, {\"month-year\": \"2016-02\", \"city\": \"Yanqing\", \"pm25\": 87.0}, {\"month-year\": \"2016-02\", \"city\": \"Zhangjiakou\", \"pm25\": 100.0}, {\"month-year\": \"2017-02\", \"city\": \"Beijing\", \"pm25\": 131.0}, {\"month-year\": \"2017-02\", \"city\": \"Yanqing\", \"pm25\": 119.0}, {\"month-year\": \"2017-02\", \"city\": \"Zhangjiakou\", \"pm25\": 111.0}, {\"month-year\": \"2018-02\", \"city\": \"Beijing\", \"pm25\": 100.0}, {\"month-year\": \"2018-02\", \"city\": \"Yanqing\", \"pm25\": 96.0}, {\"month-year\": \"2018-02\", \"city\": \"Zhangjiakou\", \"pm25\": 92.0}, {\"month-year\": \"2019-02\", \"city\": \"Beijing\", \"pm25\": 116.0}, {\"month-year\": \"2019-02\", \"city\": \"Yanqing\", \"pm25\": 104.0}, {\"month-year\": \"2019-02\", \"city\": \"Zhangjiakou\", \"pm25\": 102.0}, {\"month-year\": \"2020-02\", \"city\": \"Beijing\", \"pm25\": 117.0}, {\"month-year\": \"2020-02\", \"city\": \"Yanqing\", \"pm25\": 114.0}, {\"month-year\": \"2020-02\", \"city\": \"Zhangjiakou\", \"pm25\": 109.0}, {\"month-year\": \"2021-02\", \"city\": \"Beijing\", \"pm25\": 129.0}, {\"month-year\": \"2021-02\", \"city\": \"Yanqing\", \"pm25\": 106.0}, {\"month-year\": \"2021-02\", \"city\": \"Zhangjiakou\", \"pm25\": 107.0}, {\"month-year\": \"2022-02\", \"city\": \"Beijing\", \"pm25\": 67.0}, {\"month-year\": \"2022-02\", \"city\": \"Yanqing\", \"pm25\": 62.0}, {\"month-year\": \"2022-02\", \"city\": \"Zhangjiakou\", \"pm25\": 72.0}]}}, {\"mode\": \"vega-lite\"});\n",
       "</script>"
      ],
      "text/plain": [
       "alt.Chart(...)"
      ]
     },
     "execution_count": 42,
     "metadata": {},
     "output_type": "execute_result"
    }
   ],
   "source": [
    "alt.Chart(mean_air).mark_line().encode(\n",
    "    x=alt.X(\"month-year:T\", axis=alt.Axis(format=\"%Y\", tickCount=6)),\n",
    "    y=\"pm25:Q\",\n",
    "    color=\"city\",\n",
    ").properties(width=650, title=\"Average February PM 2.5 AQI\")"
   ]
  },
  {
   "cell_type": "code",
   "execution_count": 43,
   "id": "e8267d83-114b-4e6d-b57a-c838ecab9d1d",
   "metadata": {},
   "outputs": [],
   "source": [
    "aqi = pd.read_excel(\"/Users/stiles/data/aqi_scale.xlsx\")"
   ]
  },
  {
   "cell_type": "code",
   "execution_count": 44,
   "id": "2e765972-5129-4495-a7d9-42f5b4bcb605",
   "metadata": {},
   "outputs": [
    {
     "data": {
      "text/html": [
       "<div>\n",
       "<style scoped>\n",
       "    .dataframe tbody tr th:only-of-type {\n",
       "        vertical-align: middle;\n",
       "    }\n",
       "\n",
       "    .dataframe tbody tr th {\n",
       "        vertical-align: top;\n",
       "    }\n",
       "\n",
       "    .dataframe thead th {\n",
       "        text-align: right;\n",
       "    }\n",
       "</style>\n",
       "<table border=\"1\" class=\"dataframe\">\n",
       "  <thead>\n",
       "    <tr style=\"text-align: right;\">\n",
       "      <th></th>\n",
       "      <th>Color</th>\n",
       "      <th>Rating</th>\n",
       "      <th>AQI</th>\n",
       "      <th>Description</th>\n",
       "    </tr>\n",
       "  </thead>\n",
       "  <tbody>\n",
       "    <tr>\n",
       "      <th>0</th>\n",
       "      <td>Green</td>\n",
       "      <td>Good</td>\n",
       "      <td>0 to 50</td>\n",
       "      <td>Air quality is satisfactory, and air pollution poses little or no risk.</td>\n",
       "    </tr>\n",
       "    <tr>\n",
       "      <th>1</th>\n",
       "      <td>Yellow</td>\n",
       "      <td>Moderate</td>\n",
       "      <td>51 to 100</td>\n",
       "      <td>Air quality is acceptable. However, there may be a risk for some people, particularly those who are unusually sensitive to air pollution.</td>\n",
       "    </tr>\n",
       "    <tr>\n",
       "      <th>2</th>\n",
       "      <td>Orange</td>\n",
       "      <td>Unhealthy for Sensitive Groups</td>\n",
       "      <td>101 to 150</td>\n",
       "      <td>Members of sensitive groups may experience health effects. The general public is less likely to be affected.</td>\n",
       "    </tr>\n",
       "    <tr>\n",
       "      <th>3</th>\n",
       "      <td>Red</td>\n",
       "      <td>Unhealthy</td>\n",
       "      <td>151 to 200</td>\n",
       "      <td>Some members of the general public may experience health effects; members of sensitive groups may experience more serious health effects.</td>\n",
       "    </tr>\n",
       "    <tr>\n",
       "      <th>4</th>\n",
       "      <td>Purple</td>\n",
       "      <td>Very Unhealthy</td>\n",
       "      <td>201 to 300</td>\n",
       "      <td>Health alert: The risk of health effects is increased for everyone.</td>\n",
       "    </tr>\n",
       "    <tr>\n",
       "      <th>5</th>\n",
       "      <td>Maroon</td>\n",
       "      <td>Hazardous</td>\n",
       "      <td>301 and higher</td>\n",
       "      <td>Health warning of emergency conditions: everyone is more likely to be affected.</td>\n",
       "    </tr>\n",
       "  </tbody>\n",
       "</table>\n",
       "</div>"
      ],
      "text/plain": [
       "    Color                          Rating             AQI  \\\n",
       "0   Green                            Good         0 to 50   \n",
       "1  Yellow                        Moderate       51 to 100   \n",
       "2  Orange  Unhealthy for Sensitive Groups      101 to 150   \n",
       "3     Red                       Unhealthy      151 to 200   \n",
       "4  Purple                  Very Unhealthy      201 to 300   \n",
       "5  Maroon                       Hazardous  301 and higher   \n",
       "\n",
       "                                                                                                                                 Description  \n",
       "0                                                                    Air quality is satisfactory, and air pollution poses little or no risk.  \n",
       "1  Air quality is acceptable. However, there may be a risk for some people, particularly those who are unusually sensitive to air pollution.  \n",
       "2                               Members of sensitive groups may experience health effects. The general public is less likely to be affected.  \n",
       "3  Some members of the general public may experience health effects; members of sensitive groups may experience more serious health effects.  \n",
       "4                                                                        Health alert: The risk of health effects is increased for everyone.  \n",
       "5                                                            Health warning of emergency conditions: everyone is more likely to be affected.  "
      ]
     },
     "execution_count": 44,
     "metadata": {},
     "output_type": "execute_result"
    }
   ],
   "source": [
    "aqi"
   ]
  },
  {
   "cell_type": "code",
   "execution_count": 45,
   "id": "3c029628-b7b2-492e-87af-25cff8c8c39c",
   "metadata": {},
   "outputs": [
    {
     "data": {
      "text/html": [
       "<div>\n",
       "<style scoped>\n",
       "    .dataframe tbody tr th:only-of-type {\n",
       "        vertical-align: middle;\n",
       "    }\n",
       "\n",
       "    .dataframe tbody tr th {\n",
       "        vertical-align: top;\n",
       "    }\n",
       "\n",
       "    .dataframe thead th {\n",
       "        text-align: right;\n",
       "    }\n",
       "</style>\n",
       "<table border=\"1\" class=\"dataframe\">\n",
       "  <thead>\n",
       "    <tr style=\"text-align: right;\">\n",
       "      <th></th>\n",
       "      <th>date</th>\n",
       "      <th>pm25</th>\n",
       "      <th>city</th>\n",
       "      <th>year</th>\n",
       "      <th>month</th>\n",
       "      <th>day</th>\n",
       "      <th>month-year</th>\n",
       "    </tr>\n",
       "  </thead>\n",
       "  <tbody>\n",
       "    <tr>\n",
       "      <th>0</th>\n",
       "      <td>2022-02-02</td>\n",
       "      <td>29.0</td>\n",
       "      <td>Beijing</td>\n",
       "      <td>2022</td>\n",
       "      <td>2</td>\n",
       "      <td>2</td>\n",
       "      <td>2022-02</td>\n",
       "    </tr>\n",
       "    <tr>\n",
       "      <th>1</th>\n",
       "      <td>2022-02-03</td>\n",
       "      <td>50.0</td>\n",
       "      <td>Beijing</td>\n",
       "      <td>2022</td>\n",
       "      <td>2</td>\n",
       "      <td>3</td>\n",
       "      <td>2022-02</td>\n",
       "    </tr>\n",
       "    <tr>\n",
       "      <th>2</th>\n",
       "      <td>2022-02-04</td>\n",
       "      <td>29.0</td>\n",
       "      <td>Beijing</td>\n",
       "      <td>2022</td>\n",
       "      <td>2</td>\n",
       "      <td>4</td>\n",
       "      <td>2022-02</td>\n",
       "    </tr>\n",
       "    <tr>\n",
       "      <th>3</th>\n",
       "      <td>2022-02-05</td>\n",
       "      <td>38.0</td>\n",
       "      <td>Beijing</td>\n",
       "      <td>2022</td>\n",
       "      <td>2</td>\n",
       "      <td>5</td>\n",
       "      <td>2022-02</td>\n",
       "    </tr>\n",
       "    <tr>\n",
       "      <th>4</th>\n",
       "      <td>2022-02-06</td>\n",
       "      <td>30.0</td>\n",
       "      <td>Beijing</td>\n",
       "      <td>2022</td>\n",
       "      <td>2</td>\n",
       "      <td>6</td>\n",
       "      <td>2022-02</td>\n",
       "    </tr>\n",
       "  </tbody>\n",
       "</table>\n",
       "</div>"
      ],
      "text/plain": [
       "        date  pm25     city  year  month  day month-year\n",
       "0 2022-02-02  29.0  Beijing  2022      2    2    2022-02\n",
       "1 2022-02-03  50.0  Beijing  2022      2    3    2022-02\n",
       "2 2022-02-04  29.0  Beijing  2022      2    4    2022-02\n",
       "3 2022-02-05  38.0  Beijing  2022      2    5    2022-02\n",
       "4 2022-02-06  30.0  Beijing  2022      2    6    2022-02"
      ]
     },
     "execution_count": 45,
     "metadata": {},
     "output_type": "execute_result"
    }
   ],
   "source": [
    "air_olympics.head()"
   ]
  },
  {
   "cell_type": "code",
   "execution_count": 46,
   "id": "5b9780bd-7706-47cf-b72d-a102bfb77caa",
   "metadata": {},
   "outputs": [],
   "source": [
    "def set_aqi_rating(row):\n",
    "    if row.pm25 <= 50:\n",
    "        return \"Good\"\n",
    "    elif (row.pm25 > 50) and (row.pm25 <= 100):\n",
    "        return \"Moderate\"\n",
    "    elif (row.pm25 > 100) and (row.pm25 <= 150):\n",
    "        return \"Unhealthy for Sensitive Groups\"\n",
    "    elif (row.pm25 > 150) & (row.pm25 <= 200):\n",
    "        return \"Unhealthy\"\n",
    "    elif (row.pm25 > 200) & (row.pm25 <= 300):\n",
    "        return \"Very Unhealthy\"\n",
    "    elif row.pm25 > 300:\n",
    "        return \"Hazardous\""
   ]
  },
  {
   "cell_type": "code",
   "execution_count": 47,
   "id": "5d0f6fd6-e288-4eaf-a4ac-b5477d7a720e",
   "metadata": {},
   "outputs": [],
   "source": [
    "air_olympics[\"rating\"] = air_olympics.apply(set_aqi_rating, axis=1)"
   ]
  },
  {
   "cell_type": "code",
   "execution_count": 48,
   "id": "9482e62f-f22d-4bab-b000-c19d7bf2f71b",
   "metadata": {},
   "outputs": [],
   "source": [
    "air_ratings = (\n",
    "    air_olympics[[\"year\", \"city\", \"rating\"]]\n",
    "    .groupby([\"year\", \"city\", \"rating\"])\n",
    "    .size()\n",
    "    .round()\n",
    "    .reset_index(name=\"count\")\n",
    ")"
   ]
  },
  {
   "cell_type": "code",
   "execution_count": 49,
   "id": "d975726c-0506-4d86-9852-e9810395a9df",
   "metadata": {},
   "outputs": [
    {
     "data": {
      "text/html": [
       "<div>\n",
       "<style scoped>\n",
       "    .dataframe tbody tr th:only-of-type {\n",
       "        vertical-align: middle;\n",
       "    }\n",
       "\n",
       "    .dataframe tbody tr th {\n",
       "        vertical-align: top;\n",
       "    }\n",
       "\n",
       "    .dataframe thead th {\n",
       "        text-align: right;\n",
       "    }\n",
       "</style>\n",
       "<table border=\"1\" class=\"dataframe\">\n",
       "  <thead>\n",
       "    <tr style=\"text-align: right;\">\n",
       "      <th></th>\n",
       "      <th>year</th>\n",
       "      <th>city</th>\n",
       "      <th>rating</th>\n",
       "      <th>count</th>\n",
       "    </tr>\n",
       "  </thead>\n",
       "  <tbody>\n",
       "    <tr>\n",
       "      <th>0</th>\n",
       "      <td>2014</td>\n",
       "      <td>Beijing</td>\n",
       "      <td>Good</td>\n",
       "      <td>15</td>\n",
       "    </tr>\n",
       "    <tr>\n",
       "      <th>1</th>\n",
       "      <td>2014</td>\n",
       "      <td>Beijing</td>\n",
       "      <td>Hazardous</td>\n",
       "      <td>25</td>\n",
       "    </tr>\n",
       "    <tr>\n",
       "      <th>2</th>\n",
       "      <td>2014</td>\n",
       "      <td>Beijing</td>\n",
       "      <td>Moderate</td>\n",
       "      <td>73</td>\n",
       "    </tr>\n",
       "    <tr>\n",
       "      <th>3</th>\n",
       "      <td>2014</td>\n",
       "      <td>Beijing</td>\n",
       "      <td>Unhealthy</td>\n",
       "      <td>106</td>\n",
       "    </tr>\n",
       "    <tr>\n",
       "      <th>4</th>\n",
       "      <td>2014</td>\n",
       "      <td>Beijing</td>\n",
       "      <td>Unhealthy for Sensitive Groups</td>\n",
       "      <td>93</td>\n",
       "    </tr>\n",
       "  </tbody>\n",
       "</table>\n",
       "</div>"
      ],
      "text/plain": [
       "   year     city                          rating  count\n",
       "0  2014  Beijing                            Good     15\n",
       "1  2014  Beijing                       Hazardous     25\n",
       "2  2014  Beijing                        Moderate     73\n",
       "3  2014  Beijing                       Unhealthy    106\n",
       "4  2014  Beijing  Unhealthy for Sensitive Groups     93"
      ]
     },
     "execution_count": 49,
     "metadata": {},
     "output_type": "execute_result"
    }
   ],
   "source": [
    "air_ratings.head()"
   ]
  },
  {
   "cell_type": "code",
   "execution_count": 50,
   "id": "53f5828a-5807-4901-8110-1fc35c786b5b",
   "metadata": {},
   "outputs": [
    {
     "data": {
      "text/plain": [
       "364"
      ]
     },
     "execution_count": 50,
     "metadata": {},
     "output_type": "execute_result"
    }
   ],
   "source": [
    "len(air_olympics[(air_olympics[\"city\"] == \"Beijing\") & (air_olympics[\"year\"] == 2019)])"
   ]
  },
  {
   "cell_type": "code",
   "execution_count": 51,
   "id": "5bc19326-d1d1-40fb-8962-32ae116a66bc",
   "metadata": {},
   "outputs": [],
   "source": [
    "air_ratings_pivot = (\n",
    "    air_ratings.pivot_table(columns=\"rating\", index=[\"year\", \"city\"], values=\"count\")\n",
    "    .round()\n",
    "    .fillna(0)\n",
    "    .reset_index()\n",
    ")"
   ]
  },
  {
   "cell_type": "code",
   "execution_count": 52,
   "id": "b6059198-83a6-46f6-be27-18abb9864877",
   "metadata": {},
   "outputs": [],
   "source": [
    "cols_to_sum = [\n",
    "    \"Good\",\n",
    "    \"Moderate\",\n",
    "    \"Unhealthy\",\n",
    "    \"Unhealthy for Sensitive Groups\",\n",
    "    \"Very Unhealthy\",\n",
    "    \"Hazardous\",\n",
    "]"
   ]
  },
  {
   "cell_type": "code",
   "execution_count": 53,
   "id": "53c98ee2-7820-43bb-870f-1a0e7bc4b887",
   "metadata": {},
   "outputs": [],
   "source": [
    "air_ratings_pivot[\"total_days\"] = air_ratings_pivot[cols_to_sum].sum(axis=1)"
   ]
  },
  {
   "cell_type": "code",
   "execution_count": 54,
   "id": "9b775da8-6d1d-4991-82cc-680a6147abfc",
   "metadata": {},
   "outputs": [],
   "source": [
    "air_ratings_pivot.columns = air_ratings_pivot.columns.str.title()"
   ]
  },
  {
   "cell_type": "code",
   "execution_count": 55,
   "id": "26236449-7f89-4bc9-8b60-dea37d8f0816",
   "metadata": {},
   "outputs": [],
   "source": [
    "air_ratings_pivot[\n",
    "    (air_ratings_pivot[\"Year\"] == 2015)\n",
    "    | (air_ratings_pivot[\"Year\"] == 2017)\n",
    "    | (air_ratings_pivot[\"Year\"] == 2019)\n",
    "    | (air_ratings_pivot[\"Year\"] == 2021)\n",
    "][\n",
    "    [\n",
    "        \"City\",\n",
    "        \"Year\",\n",
    "        \"Good\",\n",
    "        \"Moderate\",\n",
    "        \"Unhealthy For Sensitive Groups\",\n",
    "        \"Unhealthy\",\n",
    "        \"Very Unhealthy\",\n",
    "        \"Hazardous\",\n",
    "    ]\n",
    "].to_csv(\n",
    "    \"data/processed/cities_olympics_days_air_ratings_limited_years.csv\", index=False\n",
    ")"
   ]
  },
  {
   "cell_type": "code",
   "execution_count": 56,
   "id": "8b579c90-404f-4b93-84e4-0eee1b867cb8",
   "metadata": {},
   "outputs": [],
   "source": [
    "air_ratings_pivot[\n",
    "    [\n",
    "        \"City\",\n",
    "        \"Year\",\n",
    "        \"Good\",\n",
    "        \"Moderate\",\n",
    "        \"Unhealthy For Sensitive Groups\",\n",
    "        \"Unhealthy\",\n",
    "        \"Very Unhealthy\",\n",
    "        \"Hazardous\",\n",
    "    ]\n",
    "].to_csv(\"data/processed/cities_olympics_days_air_ratings.csv\", index=False)"
   ]
  },
  {
   "cell_type": "markdown",
   "id": "8097178c-a339-4acf-84da-16de0513fa8e",
   "metadata": {},
   "source": [
    "---"
   ]
  },
  {
   "cell_type": "markdown",
   "id": "e0d4b2f4-4eeb-4d80-9bf5-3addfe71d508",
   "metadata": {},
   "source": [
    "## Update to Datawrapper"
   ]
  },
  {
   "cell_type": "code",
   "execution_count": 57,
   "id": "7ea702a4-d5b9-4748-af76-96ee43837ede",
   "metadata": {},
   "outputs": [],
   "source": [
    "# air_ratings_pivot[\n",
    "#     [\n",
    "#         \"City\",\n",
    "#         \"Year\",\n",
    "#         \"Good\",\n",
    "#         \"Moderate\",\n",
    "#         \"Unhealthy For Sensitive Groups\",\n",
    "#         \"Unhealthy\",\n",
    "#         \"Very Unhealthy\",\n",
    "#         \"Hazardous\",\n",
    "#     ]\n",
    "# ]"
   ]
  },
  {
   "cell_type": "code",
   "execution_count": 58,
   "id": "5cdea91f-cfc2-4d2b-9851-9bfdcc35ad78",
   "metadata": {},
   "outputs": [],
   "source": [
    "# dw_api='FtIwtvFtoGLaRT9a3gjX69PLu4wSuRyKddoOz6SOPw3k9wWyNICMHTkcPhOGCR5Z'"
   ]
  },
  {
   "cell_type": "code",
   "execution_count": null,
   "id": "8991d2d8-f106-4652-8ceb-7cb12e7fb1d3",
   "metadata": {},
   "outputs": [],
   "source": []
  }
 ],
 "metadata": {
  "kernelspec": {
   "display_name": "Python 3 (ipykernel)",
   "language": "python",
   "name": "python3"
  },
  "language_info": {
   "codemirror_mode": {
    "name": "ipython",
    "version": 3
   },
   "file_extension": ".py",
   "mimetype": "text/x-python",
   "name": "python",
   "nbconvert_exporter": "python",
   "pygments_lexer": "ipython3",
   "version": "3.8.9"
  }
 },
 "nbformat": 4,
 "nbformat_minor": 5
}
