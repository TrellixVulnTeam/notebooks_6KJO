{
 "cells": [
  {
   "cell_type": "markdown",
   "metadata": {},
   "source": [
    "# L.A. trash collection - change by commodity codes"
   ]
  },
  {
   "cell_type": "markdown",
   "metadata": {},
   "source": [
    "### Import Python tools and Jupyter configuration"
   ]
  },
  {
   "cell_type": "code",
   "execution_count": 1,
   "metadata": {},
   "outputs": [],
   "source": [
    "%load_ext lab_black"
   ]
  },
  {
   "cell_type": "code",
   "execution_count": 2,
   "metadata": {},
   "outputs": [],
   "source": [
    "import pandas as pd\n",
    "import geopandas as gpd\n",
    "import datetime as dt"
   ]
  },
  {
   "cell_type": "code",
   "execution_count": 3,
   "metadata": {},
   "outputs": [],
   "source": [
    "import altair as alt\n",
    "import altair_latimes as lat\n",
    "import matplotlib.pyplot as plt"
   ]
  },
  {
   "cell_type": "code",
   "execution_count": 4,
   "metadata": {},
   "outputs": [
    {
     "data": {
      "text/plain": [
       "DataTransformerRegistry.enable('default')"
      ]
     },
     "execution_count": 4,
     "metadata": {},
     "output_type": "execute_result"
    }
   ],
   "source": [
    "alt.themes.register(\"latimes\", lat.theme)\n",
    "alt.themes.enable(\"latimes\")\n",
    "alt.data_transformers.disable_max_rows()"
   ]
  },
  {
   "cell_type": "markdown",
   "metadata": {},
   "source": [
    "### Read the collection data"
   ]
  },
  {
   "cell_type": "code",
   "execution_count": 5,
   "metadata": {},
   "outputs": [],
   "source": [
    "src = pd.read_csv(\n",
    "    \"data/processed/all_data.csv\",\n",
    "    low_memory=False,\n",
    "    parse_dates=[\n",
    "        \"datetime\",\n",
    "    ],\n",
    "    dtype={\n",
    "        \"year\": \"str\",\n",
    "        \"quarter\": \"str\",\n",
    "        \"day\": \"str\",\n",
    "        \"month\": \"str\",\n",
    "        \"weekday\": \"str\",\n",
    "    },\n",
    ")"
   ]
  },
  {
   "cell_type": "markdown",
   "metadata": {},
   "source": [
    "### Exclude 2021"
   ]
  },
  {
   "cell_type": "code",
   "execution_count": 6,
   "metadata": {},
   "outputs": [],
   "source": [
    "df = src[src[\"year\"] != \"2021\"].copy()"
   ]
  },
  {
   "cell_type": "code",
   "execution_count": 7,
   "metadata": {},
   "outputs": [],
   "source": [
    "df[\"month_year\"] = pd.to_datetime(df[\"month_year\"], format=\"%Y-%m\")"
   ]
  },
  {
   "cell_type": "code",
   "execution_count": 8,
   "metadata": {},
   "outputs": [
    {
     "data": {
      "text/plain": [
       "Refuse                       492833\n",
       "Yard Trimmings               272348\n",
       "Recycling                    238728\n",
       "Regular Bulky                146132\n",
       "Commercial Refuse             42857\n",
       "CARE Teams                    30407\n",
       "Illegal Dumping/SP            26644\n",
       "White Goods                   15478\n",
       "Rec. and Parks                14784\n",
       "E-Waste                       10941\n",
       "Washington Crew                6372\n",
       "Dead Animals                   6187\n",
       "Commercial Recycling           3355\n",
       "Horse Manure                   2092\n",
       "Commercial Yard Trimmings       786\n",
       "A Bridge Home Route             703\n",
       "OHS Cleanups                    656\n",
       "Christmas Tree                  636\n",
       "Commercial Bulky Item           324\n",
       "Refuse- Grit                    185\n",
       "Name: commoditydescription, dtype: int64"
      ]
     },
     "execution_count": 8,
     "metadata": {},
     "output_type": "execute_result"
    }
   ],
   "source": [
    "df.commoditydescription.value_counts()"
   ]
  },
  {
   "cell_type": "markdown",
   "metadata": {},
   "source": [
    "### Group by commodity codes"
   ]
  },
  {
   "cell_type": "code",
   "execution_count": 9,
   "metadata": {},
   "outputs": [],
   "source": [
    "ccodes = (\n",
    "    df.groupby([\"year\", \"commoditycode\", \"commoditydescription\"])\n",
    "    .agg({\"tons\": sum})\n",
    "    .sort_values(by=[\"year\", \"tons\"], ascending=False)\n",
    "    .reset_index()\n",
    ")"
   ]
  },
  {
   "cell_type": "code",
   "execution_count": 10,
   "metadata": {},
   "outputs": [
    {
     "data": {
      "text/html": [
       "<div>\n",
       "<style scoped>\n",
       "    .dataframe tbody tr th:only-of-type {\n",
       "        vertical-align: middle;\n",
       "    }\n",
       "\n",
       "    .dataframe tbody tr th {\n",
       "        vertical-align: top;\n",
       "    }\n",
       "\n",
       "    .dataframe thead th {\n",
       "        text-align: right;\n",
       "    }\n",
       "</style>\n",
       "<table border=\"1\" class=\"dataframe\">\n",
       "  <thead>\n",
       "    <tr style=\"text-align: right;\">\n",
       "      <th></th>\n",
       "      <th>year</th>\n",
       "      <th>commoditycode</th>\n",
       "      <th>commoditydescription</th>\n",
       "      <th>tons</th>\n",
       "    </tr>\n",
       "  </thead>\n",
       "  <tbody>\n",
       "    <tr>\n",
       "      <th>0</th>\n",
       "      <td>2020</td>\n",
       "      <td>A</td>\n",
       "      <td>Refuse</td>\n",
       "      <td>889267.50</td>\n",
       "    </tr>\n",
       "    <tr>\n",
       "      <th>1</th>\n",
       "      <td>2020</td>\n",
       "      <td>Y</td>\n",
       "      <td>Yard Trimmings</td>\n",
       "      <td>472152.98</td>\n",
       "    </tr>\n",
       "    <tr>\n",
       "      <th>2</th>\n",
       "      <td>2020</td>\n",
       "      <td>R</td>\n",
       "      <td>Recycling</td>\n",
       "      <td>259601.52</td>\n",
       "    </tr>\n",
       "    <tr>\n",
       "      <th>3</th>\n",
       "      <td>2020</td>\n",
       "      <td>B</td>\n",
       "      <td>Regular Bulky</td>\n",
       "      <td>55589.83</td>\n",
       "    </tr>\n",
       "    <tr>\n",
       "      <th>4</th>\n",
       "      <td>2020</td>\n",
       "      <td>CA</td>\n",
       "      <td>Commercial Refuse</td>\n",
       "      <td>35271.34</td>\n",
       "    </tr>\n",
       "    <tr>\n",
       "      <th>5</th>\n",
       "      <td>2020</td>\n",
       "      <td>P</td>\n",
       "      <td>Rec. and Parks</td>\n",
       "      <td>24670.58</td>\n",
       "    </tr>\n",
       "    <tr>\n",
       "      <th>6</th>\n",
       "      <td>2020</td>\n",
       "      <td>I</td>\n",
       "      <td>Illegal Dumping/SP</td>\n",
       "      <td>14722.56</td>\n",
       "    </tr>\n",
       "    <tr>\n",
       "      <th>7</th>\n",
       "      <td>2020</td>\n",
       "      <td>C</td>\n",
       "      <td>CARE Teams</td>\n",
       "      <td>6354.14</td>\n",
       "    </tr>\n",
       "    <tr>\n",
       "      <th>8</th>\n",
       "      <td>2020</td>\n",
       "      <td>M</td>\n",
       "      <td>Horse Manure</td>\n",
       "      <td>3888.38</td>\n",
       "    </tr>\n",
       "    <tr>\n",
       "      <th>9</th>\n",
       "      <td>2020</td>\n",
       "      <td>H</td>\n",
       "      <td>Washington Crew</td>\n",
       "      <td>3742.41</td>\n",
       "    </tr>\n",
       "  </tbody>\n",
       "</table>\n",
       "</div>"
      ],
      "text/plain": [
       "   year commoditycode commoditydescription       tons\n",
       "0  2020             A               Refuse  889267.50\n",
       "1  2020             Y       Yard Trimmings  472152.98\n",
       "2  2020             R            Recycling  259601.52\n",
       "3  2020             B        Regular Bulky   55589.83\n",
       "4  2020            CA    Commercial Refuse   35271.34\n",
       "5  2020             P       Rec. and Parks   24670.58\n",
       "6  2020             I   Illegal Dumping/SP   14722.56\n",
       "7  2020             C           CARE Teams    6354.14\n",
       "8  2020             M         Horse Manure    3888.38\n",
       "9  2020             H      Washington Crew    3742.41"
      ]
     },
     "execution_count": 10,
     "metadata": {},
     "output_type": "execute_result"
    }
   ],
   "source": [
    "ccodes.head(10)"
   ]
  },
  {
   "cell_type": "code",
   "execution_count": 11,
   "metadata": {},
   "outputs": [],
   "source": [
    "ccodes_pivot = pd.pivot_table(\n",
    "    ccodes,\n",
    "    columns=\"year\",\n",
    "    values=\"tons\",\n",
    "    index=\"commoditydescription\",\n",
    "    aggfunc={\"tons\": sum},\n",
    ").reset_index()"
   ]
  },
  {
   "cell_type": "code",
   "execution_count": 12,
   "metadata": {},
   "outputs": [],
   "source": [
    "before = [\"2016\", \"2017\", \"2018\", \"2019\"]"
   ]
  },
  {
   "cell_type": "code",
   "execution_count": 13,
   "metadata": {},
   "outputs": [],
   "source": [
    "ccodes_pivot[\"before\"] = ccodes_pivot[before].mean(axis=1).round(2)"
   ]
  },
  {
   "cell_type": "code",
   "execution_count": 14,
   "metadata": {},
   "outputs": [],
   "source": [
    "ccodes_pivot[\"change_pct\"] = (\n",
    "    (ccodes_pivot[\"2020\"] - ccodes_pivot[\"before\"]) / ccodes_pivot[\"before\"] * 100\n",
    ").round(2)"
   ]
  },
  {
   "cell_type": "code",
   "execution_count": 15,
   "metadata": {},
   "outputs": [],
   "source": [
    "ccodes_pivot[\"diff\"] = ccodes_pivot[\"2020\"] - ccodes_pivot[\"before\"]"
   ]
  },
  {
   "cell_type": "code",
   "execution_count": 17,
   "metadata": {},
   "outputs": [],
   "source": [
    "ccodes_pivot.sort_values(\"change_pct\", ascending=False)"
   ]
  },
  {
   "cell_type": "code",
   "execution_count": 43,
   "metadata": {},
   "outputs": [],
   "source": [
    "ccodes_pivot = ccodes_pivot.drop([0, 3], axis=0)"
   ]
  },
  {
   "cell_type": "code",
   "execution_count": 44,
   "metadata": {},
   "outputs": [
    {
     "data": {
      "text/html": [
       "\n",
       "<div id=\"altair-viz-ad1308991e4b45a397e293206445ca7f\"></div>\n",
       "<script type=\"text/javascript\">\n",
       "  (function(spec, embedOpt){\n",
       "    let outputDiv = document.currentScript.previousElementSibling;\n",
       "    if (outputDiv.id !== \"altair-viz-ad1308991e4b45a397e293206445ca7f\") {\n",
       "      outputDiv = document.getElementById(\"altair-viz-ad1308991e4b45a397e293206445ca7f\");\n",
       "    }\n",
       "    const paths = {\n",
       "      \"vega\": \"https://cdn.jsdelivr.net/npm//vega@5?noext\",\n",
       "      \"vega-lib\": \"https://cdn.jsdelivr.net/npm//vega-lib?noext\",\n",
       "      \"vega-lite\": \"https://cdn.jsdelivr.net/npm//vega-lite@4.8.1?noext\",\n",
       "      \"vega-embed\": \"https://cdn.jsdelivr.net/npm//vega-embed@6?noext\",\n",
       "    };\n",
       "\n",
       "    function loadScript(lib) {\n",
       "      return new Promise(function(resolve, reject) {\n",
       "        var s = document.createElement('script');\n",
       "        s.src = paths[lib];\n",
       "        s.async = true;\n",
       "        s.onload = () => resolve(paths[lib]);\n",
       "        s.onerror = () => reject(`Error loading script: ${paths[lib]}`);\n",
       "        document.getElementsByTagName(\"head\")[0].appendChild(s);\n",
       "      });\n",
       "    }\n",
       "\n",
       "    function showError(err) {\n",
       "      outputDiv.innerHTML = `<div class=\"error\" style=\"color:red;\">${err}</div>`;\n",
       "      throw err;\n",
       "    }\n",
       "\n",
       "    function displayChart(vegaEmbed) {\n",
       "      vegaEmbed(outputDiv, spec, embedOpt)\n",
       "        .catch(err => showError(`Javascript Error: ${err.message}<br>This usually means there's a typo in your chart specification. See the javascript console for the full traceback.`));\n",
       "    }\n",
       "\n",
       "    if(typeof define === \"function\" && define.amd) {\n",
       "      requirejs.config({paths});\n",
       "      require([\"vega-embed\"], displayChart, err => showError(`Error loading script: ${err.message}`));\n",
       "    } else if (typeof vegaEmbed === \"function\") {\n",
       "      displayChart(vegaEmbed);\n",
       "    } else {\n",
       "      loadScript(\"vega\")\n",
       "        .then(() => loadScript(\"vega-lite\"))\n",
       "        .then(() => loadScript(\"vega-embed\"))\n",
       "        .catch(showError)\n",
       "        .then(() => displayChart(vegaEmbed));\n",
       "    }\n",
       "  })({\"config\": {\"view\": {\"width\": 800, \"height\": 450, \"strokeOpacity\": 0}, \"background\": \"#ffffff\", \"title\": {\"anchor\": \"start\", \"font\": \"BentonGothic-Bold, sans\", \"fontColor\": \"#000000\", \"fontSize\": 22, \"fontWeight\": \"normal\"}, \"arc\": {\"fill\": \"#82c6df\"}, \"area\": {\"fill\": \"#82c6df\"}, \"line\": {\"stroke\": \"#82c6df\", \"strokeWidth\": 3}, \"path\": {\"stroke\": \"#82c6df\"}, \"rect\": {\"fill\": \"#82c6df\"}, \"shape\": {\"stroke\": \"#82c6df\"}, \"bar\": {\"fill\": \"#82c6df\"}, \"point\": {\"stroke\": \"#82c6df\"}, \"symbol\": {\"fill\": \"#82c6df\", \"size\": 30}, \"axis\": {\"titleFont\": \"BentonGothic-Bold, sans\", \"titleFontSize\": 14, \"titleFontWeight\": \"normal\", \"labelFont\": \"BentonGothic, sans\", \"labelFontSize\": 13, \"labelFontWeight\": \"normal\"}, \"axisX\": {\"labelAngle\": 0, \"labelPadding\": 4, \"tickSize\": 3}, \"axisY\": {\"labelBaseline\": \"middle\", \"maxExtent\": 45, \"minExtent\": 45, \"tickSize\": 2, \"titleAlign\": \"left\", \"titleAngle\": 0, \"titleX\": -45, \"titleY\": -11}, \"legend\": {\"titleFont\": \"BentonGothic-Bold, sans\", \"titleFontSize\": 14, \"titleFontWeight\": \"normal\", \"symbolType\": \"square\", \"labelFont\": \"BentonGothic, sans\", \"labelFontSize\": 13}, \"range\": {\"category\": [\"#3580b1\", \"#ec8431\", \"#ab7fb4\", \"#c89d29\", \"#adc839\", \"#829eb1\"], \"diverging\": [\"#e68a4f\", \"#f4bb6a\", \"#f9e39c\", \"#dadfe2\", \"#a6b7c6\", \"#849eae\"], \"heatmap\": [\"#fbf2c7\", \"#f9e39c\", \"#f8d36e\", \"#f4bb6a\", \"#e68a4f\", \"#d15a40\", \"#ab4232\"], \"ordinal\": [\"#fbf2c7\", \"#f9e39c\", \"#f8d36e\", \"#f4bb6a\", \"#e68a4f\", \"#d15a40\", \"#ab4232\"], \"ramp\": [\"#fbf2c7\", \"#f9e39c\", \"#f8d36e\", \"#f4bb6a\", \"#e68a4f\", \"#d15a40\", \"#ab4232\"]}}, \"data\": {\"name\": \"data-e018a81ed670fc94ab02c480489f7a03\"}, \"mark\": \"bar\", \"encoding\": {\"color\": {\"condition\": {\"value\": \"steelblue\", \"test\": \"(datum.change_pct > 0)\"}, \"value\": \"orange\"}, \"x\": {\"type\": \"quantitative\", \"axis\": {\"domainOpacity\": 0, \"format\": \",.0f\", \"gridColor\": \"#dddddd\", \"offset\": 6, \"tickCount\": 4, \"tickSize\": 0}, \"field\": \"diff\", \"title\": \"Tons\"}, \"y\": {\"type\": \"ordinal\", \"axis\": {\"domainOpacity\": 0, \"gridColor\": \"#dddddd\", \"offset\": 6, \"tickCount\": 4, \"tickSize\": 0}, \"field\": \"commoditydescription\", \"sort\": \"-x\", \"title\": \" \"}}, \"height\": 500, \"title\": \"Change in trash collection, by commodity type, 2019 vs. 2020\", \"width\": 600, \"$schema\": \"https://vega.github.io/schema/vega-lite/v4.8.1.json\", \"datasets\": {\"data-e018a81ed670fc94ab02c480489f7a03\": [{\"commoditydescription\": \"CARE Teams\", \"2016\": null, \"2017\": null, \"2018\": null, \"2019\": 1149.269999999999, \"2020\": 6354.139999999963, \"before\": 1149.27, \"change_pct\": 452.88, \"diff\": 5204.869999999963}, {\"commoditydescription\": \"Christmas Tree\", \"2016\": 155.56, \"2017\": 261.12, \"2018\": 153.28999999999996, \"2019\": 156.30000000000007, \"2020\": 80.61999999999999, \"before\": 181.57, \"change_pct\": -55.6, \"diff\": -100.95}, {\"commoditydescription\": \"Commercial Recycling\", \"2016\": 2305.9399999999996, \"2017\": 3110.6100000000024, \"2018\": 2194.4500000000035, \"2019\": 1368.6900000000003, \"2020\": 265.51000000000005, \"before\": 2244.92, \"change_pct\": -88.17, \"diff\": -1979.41}, {\"commoditydescription\": \"Commercial Refuse\", \"2016\": 41315.35000000005, \"2017\": 46815.9299999999, \"2018\": 44149.93000000023, \"2019\": 45877.71999999984, \"2020\": 35271.339999999946, \"before\": 44539.73, \"change_pct\": -20.81, \"diff\": -9268.390000000058}, {\"commoditydescription\": \"Commercial Yard Trimmings\", \"2016\": 703.1099999999999, \"2017\": 1164.599999999999, \"2018\": 714.85, \"2019\": 913.2099999999997, \"2020\": 658.6400000000001, \"before\": 873.94, \"change_pct\": -24.64, \"diff\": -215.29999999999995}, {\"commoditydescription\": \"Dead Animals\", \"2016\": 250.5600000000005, \"2017\": 235.58000000000038, \"2018\": 194.87000000000003, \"2019\": 221.8300000000004, \"2020\": 193.16000000000022, \"before\": 225.71, \"change_pct\": -14.42, \"diff\": -32.549999999999784}, {\"commoditydescription\": \"E-Waste\", \"2016\": 860.8699999999984, \"2017\": 900.5600000000003, \"2018\": 761.709999999998, \"2019\": 735.8500000000005, \"2020\": 483.7300000000007, \"before\": 814.75, \"change_pct\": -40.63, \"diff\": -331.0199999999993}, {\"commoditydescription\": \"Horse Manure\", \"2016\": 3281.3199999999983, \"2017\": 3248.160000000003, \"2018\": 3199.070000000001, \"2019\": 3406.7100000000037, \"2020\": 3888.38, \"before\": 3283.82, \"change_pct\": 18.41, \"diff\": 604.56}, {\"commoditydescription\": \"Illegal Dumping/SP\", \"2016\": null, \"2017\": null, \"2018\": null, \"2019\": 2797.2499999999714, \"2020\": 14722.560000000845, \"before\": 2797.25, \"change_pct\": 426.32, \"diff\": 11925.310000000845}, {\"commoditydescription\": \"OHS Cleanups\", \"2016\": null, \"2017\": null, \"2018\": null, \"2019\": 209.3, \"2020\": 994.5699999999999, \"before\": 209.3, \"change_pct\": 375.19, \"diff\": 785.27}, {\"commoditydescription\": \"Rec. and Parks\", \"2016\": 21204.94000000006, \"2017\": 22348.489999999987, \"2018\": 24545.800000000072, \"2019\": 24287.730000000007, \"2020\": 24670.579999999984, \"before\": 23096.74, \"change_pct\": 6.81, \"diff\": 1573.839999999982}, {\"commoditydescription\": \"Recycling\", \"2016\": 217728.58999999944, \"2017\": 213869.6700000012, \"2018\": 202186.95000000132, \"2019\": 206369.2600000006, \"2020\": 259601.5199999984, \"before\": 210038.62, \"change_pct\": 23.6, \"diff\": 49562.89999999839}, {\"commoditydescription\": \"Refuse\", \"2016\": 796118.4200000078, \"2017\": 810194.0999999996, \"2018\": 814262.4799999913, \"2019\": 829133.2699999808, \"2020\": 889267.500000003, \"before\": 812427.07, \"change_pct\": 9.46, \"diff\": 76840.43000000308}, {\"commoditydescription\": \"Refuse- Grit\", \"2016\": null, \"2017\": 29.57, \"2018\": 177.16000000000005, \"2019\": 283.28000000000003, \"2020\": 296.80000000000007, \"before\": 163.34, \"change_pct\": 81.71, \"diff\": 133.46000000000006}, {\"commoditydescription\": \"Regular Bulky\", \"2016\": 57683.670000000406, \"2017\": 64379.360000000575, \"2018\": 67637.88000000059, \"2019\": 67225.18000000037, \"2020\": 55589.82999999993, \"before\": 64231.52, \"change_pct\": -13.45, \"diff\": -8641.690000000068}, {\"commoditydescription\": \"Washington Crew\", \"2016\": null, \"2017\": null, \"2018\": null, \"2019\": 1443.7299999999966, \"2020\": 3742.4099999999744, \"before\": 1443.73, \"change_pct\": 159.22, \"diff\": 2298.6799999999744}, {\"commoditydescription\": \"White Goods\", \"2016\": 1139.2399999999977, \"2017\": 1513.8600000000079, \"2018\": 1270.6600000000026, \"2019\": 2015.7100000000007, \"2020\": 3100.240000000017, \"before\": 1484.87, \"change_pct\": 108.79, \"diff\": 1615.3700000000172}, {\"commoditydescription\": \"Yard Trimmings\", \"2016\": 404703.69000000105, \"2017\": 425927.59000000125, \"2018\": 408424.5899999981, \"2019\": 427779.0800000013, \"2020\": 472152.9799999986, \"before\": 416708.74, \"change_pct\": 13.31, \"diff\": 55444.239999998594}]}}, {\"mode\": \"vega-lite\"});\n",
       "</script>"
      ],
      "text/plain": [
       "alt.Chart(...)"
      ]
     },
     "execution_count": 44,
     "metadata": {},
     "output_type": "execute_result"
    }
   ],
   "source": [
    "alt.Chart(ccodes_pivot).mark_bar().encode(\n",
    "    x=alt.X(\n",
    "        \"diff:Q\",\n",
    "        title=\"Tons\",\n",
    "        axis=alt.Axis(\n",
    "            format=\",.0f\",\n",
    "            tickCount=4,\n",
    "            gridColor=\"#dddddd\",\n",
    "            offset=6,\n",
    "            tickSize=0,\n",
    "            domainOpacity=0,\n",
    "        ),\n",
    "    ),\n",
    "    y=alt.Y(\n",
    "        \"commoditydescription:O\",\n",
    "        title=\" \",\n",
    "        sort=\"-x\",\n",
    "        axis=alt.Axis(\n",
    "            tickCount=4,\n",
    "            gridColor=\"#dddddd\",\n",
    "            offset=6,\n",
    "            tickSize=0,\n",
    "            domainOpacity=0,\n",
    "        ),\n",
    "    ),\n",
    "    color=alt.condition(\n",
    "        alt.datum.change_pct > 0,\n",
    "        alt.value(\"steelblue\"),  # The positive color\n",
    "        alt.value(\"orange\"),  # The negative color\n",
    "    ),\n",
    ").properties(\n",
    "    width=600,\n",
    "    height=500,\n",
    "    title=\"Change in trash collection, by commodity type, 2019 vs. 2020\",\n",
    ").configure_view(\n",
    "    strokeOpacity=0\n",
    ").configure_axis(\n",
    "    labelFontSize=13\n",
    ")"
   ]
  },
  {
   "cell_type": "code",
   "execution_count": 45,
   "metadata": {},
   "outputs": [
    {
     "data": {
      "text/html": [
       "\n",
       "<div id=\"altair-viz-340f2d2fe91d49569b481a0bef30d095\"></div>\n",
       "<script type=\"text/javascript\">\n",
       "  (function(spec, embedOpt){\n",
       "    let outputDiv = document.currentScript.previousElementSibling;\n",
       "    if (outputDiv.id !== \"altair-viz-340f2d2fe91d49569b481a0bef30d095\") {\n",
       "      outputDiv = document.getElementById(\"altair-viz-340f2d2fe91d49569b481a0bef30d095\");\n",
       "    }\n",
       "    const paths = {\n",
       "      \"vega\": \"https://cdn.jsdelivr.net/npm//vega@5?noext\",\n",
       "      \"vega-lib\": \"https://cdn.jsdelivr.net/npm//vega-lib?noext\",\n",
       "      \"vega-lite\": \"https://cdn.jsdelivr.net/npm//vega-lite@4.8.1?noext\",\n",
       "      \"vega-embed\": \"https://cdn.jsdelivr.net/npm//vega-embed@6?noext\",\n",
       "    };\n",
       "\n",
       "    function loadScript(lib) {\n",
       "      return new Promise(function(resolve, reject) {\n",
       "        var s = document.createElement('script');\n",
       "        s.src = paths[lib];\n",
       "        s.async = true;\n",
       "        s.onload = () => resolve(paths[lib]);\n",
       "        s.onerror = () => reject(`Error loading script: ${paths[lib]}`);\n",
       "        document.getElementsByTagName(\"head\")[0].appendChild(s);\n",
       "      });\n",
       "    }\n",
       "\n",
       "    function showError(err) {\n",
       "      outputDiv.innerHTML = `<div class=\"error\" style=\"color:red;\">${err}</div>`;\n",
       "      throw err;\n",
       "    }\n",
       "\n",
       "    function displayChart(vegaEmbed) {\n",
       "      vegaEmbed(outputDiv, spec, embedOpt)\n",
       "        .catch(err => showError(`Javascript Error: ${err.message}<br>This usually means there's a typo in your chart specification. See the javascript console for the full traceback.`));\n",
       "    }\n",
       "\n",
       "    if(typeof define === \"function\" && define.amd) {\n",
       "      requirejs.config({paths});\n",
       "      require([\"vega-embed\"], displayChart, err => showError(`Error loading script: ${err.message}`));\n",
       "    } else if (typeof vegaEmbed === \"function\") {\n",
       "      displayChart(vegaEmbed);\n",
       "    } else {\n",
       "      loadScript(\"vega\")\n",
       "        .then(() => loadScript(\"vega-lite\"))\n",
       "        .then(() => loadScript(\"vega-embed\"))\n",
       "        .catch(showError)\n",
       "        .then(() => displayChart(vegaEmbed));\n",
       "    }\n",
       "  })({\"config\": {\"view\": {\"width\": 800, \"height\": 450, \"strokeOpacity\": 0}, \"background\": \"#ffffff\", \"title\": {\"anchor\": \"start\", \"font\": \"BentonGothic-Bold, sans\", \"fontColor\": \"#000000\", \"fontSize\": 22, \"fontWeight\": \"normal\"}, \"arc\": {\"fill\": \"#82c6df\"}, \"area\": {\"fill\": \"#82c6df\"}, \"line\": {\"stroke\": \"#82c6df\", \"strokeWidth\": 3}, \"path\": {\"stroke\": \"#82c6df\"}, \"rect\": {\"fill\": \"#82c6df\"}, \"shape\": {\"stroke\": \"#82c6df\"}, \"bar\": {\"fill\": \"#82c6df\"}, \"point\": {\"stroke\": \"#82c6df\"}, \"symbol\": {\"fill\": \"#82c6df\", \"size\": 30}, \"axis\": {\"titleFont\": \"BentonGothic-Bold, sans\", \"titleFontSize\": 14, \"titleFontWeight\": \"normal\", \"labelFont\": \"BentonGothic, sans\", \"labelFontSize\": 13, \"labelFontWeight\": \"normal\"}, \"axisX\": {\"labelAngle\": 0, \"labelPadding\": 4, \"tickSize\": 3}, \"axisY\": {\"labelBaseline\": \"middle\", \"maxExtent\": 45, \"minExtent\": 45, \"tickSize\": 2, \"titleAlign\": \"left\", \"titleAngle\": 0, \"titleX\": -45, \"titleY\": -11}, \"legend\": {\"titleFont\": \"BentonGothic-Bold, sans\", \"titleFontSize\": 14, \"titleFontWeight\": \"normal\", \"symbolType\": \"square\", \"labelFont\": \"BentonGothic, sans\", \"labelFontSize\": 13}, \"range\": {\"category\": [\"#3580b1\", \"#ec8431\", \"#ab7fb4\", \"#c89d29\", \"#adc839\", \"#829eb1\"], \"diverging\": [\"#e68a4f\", \"#f4bb6a\", \"#f9e39c\", \"#dadfe2\", \"#a6b7c6\", \"#849eae\"], \"heatmap\": [\"#fbf2c7\", \"#f9e39c\", \"#f8d36e\", \"#f4bb6a\", \"#e68a4f\", \"#d15a40\", \"#ab4232\"], \"ordinal\": [\"#fbf2c7\", \"#f9e39c\", \"#f8d36e\", \"#f4bb6a\", \"#e68a4f\", \"#d15a40\", \"#ab4232\"], \"ramp\": [\"#fbf2c7\", \"#f9e39c\", \"#f8d36e\", \"#f4bb6a\", \"#e68a4f\", \"#d15a40\", \"#ab4232\"]}}, \"data\": {\"name\": \"data-e018a81ed670fc94ab02c480489f7a03\"}, \"mark\": \"bar\", \"encoding\": {\"color\": {\"condition\": {\"value\": \"steelblue\", \"test\": \"(datum.change_pct > 0)\"}, \"value\": \"orange\"}, \"x\": {\"type\": \"quantitative\", \"axis\": {\"domainOpacity\": 0, \"format\": \",.0f\", \"gridColor\": \"#dddddd\", \"offset\": 6, \"tickCount\": 4, \"tickSize\": 0}, \"field\": \"change_pct\", \"title\": \"% change in tons\"}, \"y\": {\"type\": \"ordinal\", \"axis\": {\"domainOpacity\": 0, \"gridColor\": \"#dddddd\", \"offset\": 6, \"tickCount\": 4, \"tickSize\": 0}, \"field\": \"commoditydescription\", \"sort\": \"-x\", \"title\": \" \"}}, \"height\": 500, \"title\": \"Change in trash collection, by commodity type, 2019 vs. 2020\", \"width\": 600, \"$schema\": \"https://vega.github.io/schema/vega-lite/v4.8.1.json\", \"datasets\": {\"data-e018a81ed670fc94ab02c480489f7a03\": [{\"commoditydescription\": \"CARE Teams\", \"2016\": null, \"2017\": null, \"2018\": null, \"2019\": 1149.269999999999, \"2020\": 6354.139999999963, \"before\": 1149.27, \"change_pct\": 452.88, \"diff\": 5204.869999999963}, {\"commoditydescription\": \"Christmas Tree\", \"2016\": 155.56, \"2017\": 261.12, \"2018\": 153.28999999999996, \"2019\": 156.30000000000007, \"2020\": 80.61999999999999, \"before\": 181.57, \"change_pct\": -55.6, \"diff\": -100.95}, {\"commoditydescription\": \"Commercial Recycling\", \"2016\": 2305.9399999999996, \"2017\": 3110.6100000000024, \"2018\": 2194.4500000000035, \"2019\": 1368.6900000000003, \"2020\": 265.51000000000005, \"before\": 2244.92, \"change_pct\": -88.17, \"diff\": -1979.41}, {\"commoditydescription\": \"Commercial Refuse\", \"2016\": 41315.35000000005, \"2017\": 46815.9299999999, \"2018\": 44149.93000000023, \"2019\": 45877.71999999984, \"2020\": 35271.339999999946, \"before\": 44539.73, \"change_pct\": -20.81, \"diff\": -9268.390000000058}, {\"commoditydescription\": \"Commercial Yard Trimmings\", \"2016\": 703.1099999999999, \"2017\": 1164.599999999999, \"2018\": 714.85, \"2019\": 913.2099999999997, \"2020\": 658.6400000000001, \"before\": 873.94, \"change_pct\": -24.64, \"diff\": -215.29999999999995}, {\"commoditydescription\": \"Dead Animals\", \"2016\": 250.5600000000005, \"2017\": 235.58000000000038, \"2018\": 194.87000000000003, \"2019\": 221.8300000000004, \"2020\": 193.16000000000022, \"before\": 225.71, \"change_pct\": -14.42, \"diff\": -32.549999999999784}, {\"commoditydescription\": \"E-Waste\", \"2016\": 860.8699999999984, \"2017\": 900.5600000000003, \"2018\": 761.709999999998, \"2019\": 735.8500000000005, \"2020\": 483.7300000000007, \"before\": 814.75, \"change_pct\": -40.63, \"diff\": -331.0199999999993}, {\"commoditydescription\": \"Horse Manure\", \"2016\": 3281.3199999999983, \"2017\": 3248.160000000003, \"2018\": 3199.070000000001, \"2019\": 3406.7100000000037, \"2020\": 3888.38, \"before\": 3283.82, \"change_pct\": 18.41, \"diff\": 604.56}, {\"commoditydescription\": \"Illegal Dumping/SP\", \"2016\": null, \"2017\": null, \"2018\": null, \"2019\": 2797.2499999999714, \"2020\": 14722.560000000845, \"before\": 2797.25, \"change_pct\": 426.32, \"diff\": 11925.310000000845}, {\"commoditydescription\": \"OHS Cleanups\", \"2016\": null, \"2017\": null, \"2018\": null, \"2019\": 209.3, \"2020\": 994.5699999999999, \"before\": 209.3, \"change_pct\": 375.19, \"diff\": 785.27}, {\"commoditydescription\": \"Rec. and Parks\", \"2016\": 21204.94000000006, \"2017\": 22348.489999999987, \"2018\": 24545.800000000072, \"2019\": 24287.730000000007, \"2020\": 24670.579999999984, \"before\": 23096.74, \"change_pct\": 6.81, \"diff\": 1573.839999999982}, {\"commoditydescription\": \"Recycling\", \"2016\": 217728.58999999944, \"2017\": 213869.6700000012, \"2018\": 202186.95000000132, \"2019\": 206369.2600000006, \"2020\": 259601.5199999984, \"before\": 210038.62, \"change_pct\": 23.6, \"diff\": 49562.89999999839}, {\"commoditydescription\": \"Refuse\", \"2016\": 796118.4200000078, \"2017\": 810194.0999999996, \"2018\": 814262.4799999913, \"2019\": 829133.2699999808, \"2020\": 889267.500000003, \"before\": 812427.07, \"change_pct\": 9.46, \"diff\": 76840.43000000308}, {\"commoditydescription\": \"Refuse- Grit\", \"2016\": null, \"2017\": 29.57, \"2018\": 177.16000000000005, \"2019\": 283.28000000000003, \"2020\": 296.80000000000007, \"before\": 163.34, \"change_pct\": 81.71, \"diff\": 133.46000000000006}, {\"commoditydescription\": \"Regular Bulky\", \"2016\": 57683.670000000406, \"2017\": 64379.360000000575, \"2018\": 67637.88000000059, \"2019\": 67225.18000000037, \"2020\": 55589.82999999993, \"before\": 64231.52, \"change_pct\": -13.45, \"diff\": -8641.690000000068}, {\"commoditydescription\": \"Washington Crew\", \"2016\": null, \"2017\": null, \"2018\": null, \"2019\": 1443.7299999999966, \"2020\": 3742.4099999999744, \"before\": 1443.73, \"change_pct\": 159.22, \"diff\": 2298.6799999999744}, {\"commoditydescription\": \"White Goods\", \"2016\": 1139.2399999999977, \"2017\": 1513.8600000000079, \"2018\": 1270.6600000000026, \"2019\": 2015.7100000000007, \"2020\": 3100.240000000017, \"before\": 1484.87, \"change_pct\": 108.79, \"diff\": 1615.3700000000172}, {\"commoditydescription\": \"Yard Trimmings\", \"2016\": 404703.69000000105, \"2017\": 425927.59000000125, \"2018\": 408424.5899999981, \"2019\": 427779.0800000013, \"2020\": 472152.9799999986, \"before\": 416708.74, \"change_pct\": 13.31, \"diff\": 55444.239999998594}]}}, {\"mode\": \"vega-lite\"});\n",
       "</script>"
      ],
      "text/plain": [
       "alt.Chart(...)"
      ]
     },
     "execution_count": 45,
     "metadata": {},
     "output_type": "execute_result"
    }
   ],
   "source": [
    "alt.Chart(ccodes_pivot).mark_bar().encode(\n",
    "    x=alt.X(\n",
    "        \"change_pct:Q\",\n",
    "        title=\"% change in tons\",\n",
    "        axis=alt.Axis(\n",
    "            format=\",.0f\",\n",
    "            tickCount=4,\n",
    "            gridColor=\"#dddddd\",\n",
    "            offset=6,\n",
    "            tickSize=0,\n",
    "            domainOpacity=0,\n",
    "        ),\n",
    "    ),\n",
    "    y=alt.Y(\n",
    "        \"commoditydescription:O\",\n",
    "        title=\" \",\n",
    "        sort=\"-x\",\n",
    "        axis=alt.Axis(\n",
    "            tickCount=4,\n",
    "            gridColor=\"#dddddd\",\n",
    "            offset=6,\n",
    "            tickSize=0,\n",
    "            domainOpacity=0,\n",
    "        ),\n",
    "    ),\n",
    "    color=alt.condition(\n",
    "        alt.datum.change_pct > 0,\n",
    "        alt.value(\"steelblue\"),  # The positive color\n",
    "        alt.value(\"orange\"),  # The negative color\n",
    "    ),\n",
    ").properties(\n",
    "    width=600,\n",
    "    height=500,\n",
    "    title=\"Change in trash collection, by commodity type, 2019 vs. 2020\",\n",
    ").configure_view(\n",
    "    strokeOpacity=0\n",
    ").configure_axis(\n",
    "    labelFontSize=13\n",
    ")"
   ]
  },
  {
   "cell_type": "code",
   "execution_count": null,
   "metadata": {},
   "outputs": [],
   "source": []
  }
 ],
 "metadata": {
  "kernelspec": {
   "display_name": "Python 3",
   "language": "python",
   "name": "python3"
  },
  "language_info": {
   "codemirror_mode": {
    "name": "ipython",
    "version": 3
   },
   "file_extension": ".py",
   "mimetype": "text/x-python",
   "name": "python",
   "nbconvert_exporter": "python",
   "pygments_lexer": "ipython3",
   "version": "3.8.2"
  }
 },
 "nbformat": 4,
 "nbformat_minor": 4
}
