{
 "cells": [
  {
   "cell_type": "markdown",
   "metadata": {},
   "source": [
    "# Get L.A. trash collection data"
   ]
  },
  {
   "cell_type": "markdown",
   "metadata": {},
   "source": [
    "### Import Python tools and Jupyter configuration"
   ]
  },
  {
   "cell_type": "code",
   "execution_count": 1,
   "metadata": {},
   "outputs": [],
   "source": [
    "%load_ext lab_black"
   ]
  },
  {
   "cell_type": "code",
   "execution_count": 2,
   "metadata": {},
   "outputs": [
    {
     "name": "stderr",
     "output_type": "stream",
     "text": [
      "/Users/stiles/.local/share/virtualenvs/notebooks-sxqKeO4C/lib/python3.8/site-packages/geopandas/_compat.py:111: UserWarning: The Shapely GEOS version (3.10.2-CAPI-1.16.0) is incompatible with the GEOS version PyGEOS was compiled with (3.10.1-CAPI-1.16.0). Conversions between both will be slow.\n",
      "  warnings.warn(\n"
     ]
    }
   ],
   "source": [
    "import pandas as pd\n",
    "import geopandas as gpd\n",
    "import datetime as dt"
   ]
  },
  {
   "cell_type": "code",
   "execution_count": 3,
   "metadata": {},
   "outputs": [],
   "source": [
    "import altair as alt\n",
    "import altair_latimes as lat\n",
    "import matplotlib.pyplot as plt"
   ]
  },
  {
   "cell_type": "code",
   "execution_count": 4,
   "metadata": {},
   "outputs": [
    {
     "data": {
      "text/plain": [
       "DataTransformerRegistry.enable('default')"
      ]
     },
     "execution_count": 4,
     "metadata": {},
     "output_type": "execute_result"
    }
   ],
   "source": [
    "alt.themes.register(\"latimes\", lat.theme)\n",
    "alt.themes.enable(\"latimes\")\n",
    "alt.data_transformers.disable_max_rows()"
   ]
  },
  {
   "cell_type": "code",
   "execution_count": 5,
   "metadata": {},
   "outputs": [],
   "source": [
    "# https://data.lacity.org/A-Livable-and-Sustainable-City/LASAN-Solid-Resources-Tonnages-Bulky-Item-E-Waste-/qwh3-ax8z\n",
    "url = \"https://data.lacity.org/api/views/qwh3-ax8z/rows.csv?accessType=DOWNLOAD\"\n",
    "src = pd.read_csv(url)"
   ]
  },
  {
   "cell_type": "code",
   "execution_count": 6,
   "metadata": {},
   "outputs": [],
   "source": [
    "trash = src"
   ]
  },
  {
   "cell_type": "code",
   "execution_count": 7,
   "metadata": {},
   "outputs": [],
   "source": [
    "trash.columns = (\n",
    "    trash.columns.str.strip()\n",
    "    .str.lower()\n",
    "    .str.replace(\" \", \"_\", regex=True)\n",
    "    .str.replace(\"(\", \"\", regex=True)\n",
    "    .str.replace(\")\", \"\", regex=True)\n",
    ")"
   ]
  },
  {
   "cell_type": "markdown",
   "metadata": {},
   "source": [
    "### Clean up dates"
   ]
  },
  {
   "cell_type": "code",
   "execution_count": 8,
   "metadata": {},
   "outputs": [],
   "source": [
    "trash[\"datetime\"] = pd.to_datetime(trash[\"datetime\"], format=\"%m/%d/%Y\")\n",
    "trash[\"datetime\"] = pd.to_datetime(trash[\"datetime\"].dt.strftime(\"%Y-%m-%d\"))\n",
    "trash[\"year\"] = trash[\"datetime\"].dt.year\n",
    "trash[\"quarter\"] = trash[\"datetime\"].dt.quarter\n",
    "trash[\"day\"] = trash[\"datetime\"].dt.day\n",
    "trash[\"month\"] = trash[\"datetime\"].dt.month\n",
    "trash[\"weekday\"] = trash[\"datetime\"].dt.weekday\n",
    "trash[\"monthname\"] = trash[\"datetime\"].dt.month_name()\n",
    "trash[\"month_year\"] = pd.to_datetime(trash[\"datetime\"]).dt.to_period(\"M\")"
   ]
  },
  {
   "cell_type": "code",
   "execution_count": 9,
   "metadata": {},
   "outputs": [],
   "source": [
    "trash[\"days_in_month\"] = trash[\"datetime\"].dt.days_in_month"
   ]
  },
  {
   "cell_type": "markdown",
   "metadata": {},
   "source": [
    "### AP months"
   ]
  },
  {
   "cell_type": "code",
   "execution_count": 10,
   "metadata": {},
   "outputs": [],
   "source": [
    "month_map = {\n",
    "    \"January\": \"Jan.\",\n",
    "    \"February\": \"Feb.\",\n",
    "    \"March\": \"March\",\n",
    "    \"April\": \"April\",\n",
    "    \"May\": \"May\",\n",
    "    \"June\": \"June\",\n",
    "    \"July\": \"July\",\n",
    "    \"August\": \"Aug.\",\n",
    "    \"September\": \"Sept.\",\n",
    "    \"October\": \"Oct.\",\n",
    "    \"November\": \"Nov.\",\n",
    "    \"December\": \"Dec.\",\n",
    "}"
   ]
  },
  {
   "cell_type": "markdown",
   "metadata": {},
   "source": [
    "### Keep the copy editors happy!!"
   ]
  },
  {
   "cell_type": "code",
   "execution_count": 11,
   "metadata": {},
   "outputs": [],
   "source": [
    "df[\"apmonth\"] = df[\"monthname\"].map(month_map)"
   ]
  },
  {
   "cell_type": "markdown",
   "metadata": {},
   "source": [
    "---"
   ]
  },
  {
   "cell_type": "markdown",
   "metadata": {},
   "source": [
    "### Export"
   ]
  },
  {
   "cell_type": "code",
   "execution_count": 12,
   "metadata": {},
   "outputs": [],
   "source": [
    "trash.to_csv(\"data/raw/trash.csv\", index=False)"
   ]
  }
 ],
 "metadata": {
  "kernelspec": {
   "display_name": "Python 3 (ipykernel)",
   "language": "python",
   "name": "python3"
  },
  "language_info": {
   "codemirror_mode": {
    "name": "ipython",
    "version": 3
   },
   "file_extension": ".py",
   "mimetype": "text/x-python",
   "name": "python",
   "nbconvert_exporter": "python",
   "pygments_lexer": "ipython3",
   "version": "3.8.9"
  }
 },
 "nbformat": 4,
 "nbformat_minor": 4
}
