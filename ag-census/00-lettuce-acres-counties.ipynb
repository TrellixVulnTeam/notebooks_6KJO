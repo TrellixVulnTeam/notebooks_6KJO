{
 "cells": [
  {
   "cell_type": "markdown",
   "id": "0a3ddfe6-da5b-4250-a25d-ca2ce92dc241",
   "metadata": {},
   "source": [
    "# USDA - National Agricultural Statistics Service"
   ]
  },
  {
   "cell_type": "markdown",
   "id": "cabe7733-ee27-4002-bee3-6439f2bacfc4",
   "metadata": {
    "tags": []
   },
   "source": [
    "### Import Python tools and Jupyter configuration"
   ]
  },
  {
   "cell_type": "code",
   "execution_count": 1,
   "id": "f75a88c4-b65c-4446-8504-d318c43eecd2",
   "metadata": {},
   "outputs": [],
   "source": [
    "%load_ext lab_black"
   ]
  },
  {
   "cell_type": "code",
   "execution_count": 2,
   "id": "0e63bd54-dd45-48c6-ac6c-1dfdfee1d639",
   "metadata": {},
   "outputs": [],
   "source": [
    "import pandas as pd\n",
    "import geopandas as gpd\n",
    "import altair as alt\n",
    "from datetime import timedelta\n",
    "import numpy as np"
   ]
  },
  {
   "cell_type": "code",
   "execution_count": 3,
   "id": "84b884ac-467c-4737-9337-0fff3bbb66ef",
   "metadata": {},
   "outputs": [],
   "source": [
    "pd.options.display.max_columns = 100\n",
    "pd.options.display.max_rows = 1000\n",
    "pd.options.display.max_colwidth = None"
   ]
  },
  {
   "cell_type": "code",
   "execution_count": 4,
   "id": "c12df897-4ec1-4a15-a08d-c16b5b44b0bc",
   "metadata": {},
   "outputs": [],
   "source": [
    "# https://quickstats.nass.usda.gov/"
   ]
  },
  {
   "cell_type": "markdown",
   "id": "ff8558d8-8bad-40d0-a163-ee79925e2f9a",
   "metadata": {},
   "source": [
    "### Read data from downloaded CSV"
   ]
  },
  {
   "cell_type": "code",
   "execution_count": 5,
   "id": "a5253a9e-e03e-4ff3-ab3a-9b92ef78e389",
   "metadata": {},
   "outputs": [],
   "source": [
    "src = pd.read_csv(\n",
    "    \"data/raw/lettuce_acres_harvested_total_five_census_years.csv\",\n",
    "    dtype={\"County ANSI\": str, \"State ANSI\": str, \"Year\": str},\n",
    ")"
   ]
  },
  {
   "cell_type": "code",
   "execution_count": 6,
   "id": "1f315c28-ee09-4a2c-be7f-39e7086875fd",
   "metadata": {},
   "outputs": [],
   "source": [
    "src.columns = src.columns.str.lower().str.replace(\" \", \"_\", regex=True)"
   ]
  },
  {
   "cell_type": "code",
   "execution_count": 7,
   "id": "7bf86902-5717-47d8-afee-2ca7767d0492",
   "metadata": {},
   "outputs": [],
   "source": [
    "src_slim = src[\n",
    "    (src[\"data_item\"] == \"LETTUCE - ACRES HARVESTED\") & (src[\"year\"] == \"2017\")\n",
    "][\n",
    "    [\n",
    "        \"year\",\n",
    "        \"geo_level\",\n",
    "        \"state\",\n",
    "        \"state_ansi\",\n",
    "        \"county\",\n",
    "        \"county_ansi\",\n",
    "        \"data_item\",\n",
    "        \"value\",\n",
    "    ]\n",
    "]"
   ]
  },
  {
   "cell_type": "code",
   "execution_count": 8,
   "id": "0999dfda-955e-4fd5-bf5c-41e1dd3aec40",
   "metadata": {},
   "outputs": [],
   "source": [
    "src_slim.rename(\n",
    "    columns={\"state_ansi\": \"state_fips\", \"county_ansi\": \"county_fips\"}, inplace=True\n",
    ")"
   ]
  },
  {
   "cell_type": "code",
   "execution_count": 9,
   "id": "7f793f5f-4d39-4295-8e7a-ad1dd92fdf33",
   "metadata": {},
   "outputs": [],
   "source": [
    "src_slim[\"geo_level\"] = src_slim[\"geo_level\"].str.title()\n",
    "src_slim[\"county\"] = src_slim[\"county\"].str.title()\n",
    "src_slim[\"state\"] = src_slim[\"state\"].str.title()\n",
    "src_slim[\"data_item\"] = src_slim[\"data_item\"].str.title()"
   ]
  },
  {
   "cell_type": "markdown",
   "id": "9f16bebb-b491-48d3-a08a-14248038fda9",
   "metadata": {},
   "source": [
    "### Strip out withheld values (Arizona missing?)"
   ]
  },
  {
   "cell_type": "code",
   "execution_count": 11,
   "id": "5967cda1-22ea-4149-877d-339b54901c41",
   "metadata": {},
   "outputs": [],
   "source": [
    "# D = Withheld to avoid disclosing data for individual operations.\n",
    "# Z = Less than half the rounding unit."
   ]
  },
  {
   "cell_type": "code",
   "execution_count": 12,
   "id": "ba854378-e4c4-41a7-a274-de71836f1c3d",
   "metadata": {},
   "outputs": [],
   "source": [
    "src_slim[\"value\"] = (\n",
    "    src_slim[\"value\"]\n",
    "    .str.strip(\" \")\n",
    "    .str.replace(\"(D)\", \"0\", regex=False)\n",
    "    .str.replace(\"(Z)\", \"0\", regex=False)\n",
    "    .str.replace(\",\", \"\", regex=False)\n",
    ")"
   ]
  },
  {
   "cell_type": "code",
   "execution_count": 13,
   "id": "7e7b18fe-cc57-4249-aa6c-ff6bc6ce922f",
   "metadata": {},
   "outputs": [],
   "source": [
    "src_slim[\"value\"] = src_slim[\"value\"].astype(int)"
   ]
  },
  {
   "cell_type": "code",
   "execution_count": 14,
   "id": "6967443f-d877-49b4-8060-ea1b4bd8539f",
   "metadata": {},
   "outputs": [],
   "source": [
    "src_slim[\"fips\"] = src_slim[\"state_fips\"] + src_slim[\"county_fips\"]"
   ]
  },
  {
   "cell_type": "code",
   "execution_count": 15,
   "id": "d3a76e8a-9539-49a4-af3a-e221240378d2",
   "metadata": {},
   "outputs": [],
   "source": [
    "df = src_slim.copy()"
   ]
  },
  {
   "cell_type": "markdown",
   "id": "7778630b-dacd-4457-89c8-db67a8ba18f2",
   "metadata": {},
   "source": [
    "---"
   ]
  },
  {
   "cell_type": "markdown",
   "id": "03153a81-749f-4990-bce8-d8482bd62b0a",
   "metadata": {},
   "source": [
    "### What's up with Arizona? "
   ]
  },
  {
   "cell_type": "markdown",
   "id": "da483b9b-8a51-4ee9-b680-a2e567b12cf3",
   "metadata": {},
   "source": [
    "#### All counties"
   ]
  },
  {
   "cell_type": "code",
   "execution_count": 23,
   "id": "0058d6bb-1ac4-46ca-9758-554f9d4f2481",
   "metadata": {},
   "outputs": [],
   "source": [
    "df.sort_values(\"value\", ascending=False).head()"
   ]
  },
  {
   "cell_type": "code",
   "execution_count": 24,
   "id": "2e62821d-a5e0-4eec-b385-b2645da1d48a",
   "metadata": {},
   "outputs": [
    {
     "data": {
      "text/plain": [
       "154.50122399020808"
      ]
     },
     "execution_count": 24,
     "metadata": {},
     "output_type": "execute_result"
    }
   ],
   "source": [
    "df[\"value\"].mean()"
   ]
  },
  {
   "cell_type": "markdown",
   "id": "4b6215c9-7d23-444c-b4a1-5ed63d3c6dd6",
   "metadata": {},
   "source": [
    "#### Subset just one place"
   ]
  },
  {
   "cell_type": "code",
   "execution_count": 21,
   "id": "e14e81a5-7741-44b6-ac34-3810b60650b2",
   "metadata": {},
   "outputs": [],
   "source": [
    "df[df[\"state\"] == \"California\"].sort_values(\"value\", ascending=False).head()"
   ]
  },
  {
   "cell_type": "markdown",
   "id": "c5a0b6ed-0a5a-499e-b909-2df01c56f2e9",
   "metadata": {},
   "source": [
    "### Aggregate with methods such as groupby"
   ]
  },
  {
   "cell_type": "code",
   "execution_count": 30,
   "id": "d5a32921-8067-423a-90b3-79338e6534ea",
   "metadata": {},
   "outputs": [
    {
     "data": {
      "text/plain": [
       "state\n",
       "Alabama              0.500000\n",
       "Alaska              16.200000\n",
       "Arizona              2.416667\n",
       "Arkansas             0.586207\n",
       "California        4778.117647\n",
       "Colorado            58.000000\n",
       "Connecticut         16.250000\n",
       "Delaware             3.000000\n",
       "Florida              3.175000\n",
       "Georgia              0.396825\n",
       "Hawaii              72.250000\n",
       "Idaho                4.166667\n",
       "Illinois             1.250000\n",
       "Indiana              0.538462\n",
       "Iowa                 0.529412\n",
       "Kansas               0.322581\n",
       "Kentucky             0.705128\n",
       "Louisiana            0.480000\n",
       "Maine                9.437500\n",
       "Maryland             4.600000\n",
       "Massachusetts       25.071429\n",
       "Michigan             1.986111\n",
       "Minnesota            1.716981\n",
       "Mississippi          0.909091\n",
       "Missouri             0.657534\n",
       "Montana              1.250000\n",
       "Nebraska             0.600000\n",
       "Nevada               0.833333\n",
       "New Hampshire        7.000000\n",
       "New Jersey          63.700000\n",
       "New Mexico          45.944444\n",
       "New York            19.067797\n",
       "North Carolina       2.333333\n",
       "North Dakota         0.000000\n",
       "Ohio                 1.303030\n",
       "Oklahoma             0.071429\n",
       "Oregon              14.714286\n",
       "Pennsylvania         4.879310\n",
       "Rhode Island         5.000000\n",
       "South Carolina       1.000000\n",
       "South Dakota         0.062500\n",
       "Tennessee            0.773333\n",
       "Texas                0.944444\n",
       "Utah                 0.750000\n",
       "Vermont             10.214286\n",
       "Virginia             1.500000\n",
       "Washington           6.906250\n",
       "West Virginia        0.657895\n",
       "Wisconsin            2.813559\n",
       "Wyoming              0.222222\n",
       "Name: value, dtype: float64"
      ]
     },
     "execution_count": 30,
     "metadata": {},
     "output_type": "execute_result"
    }
   ],
   "source": [
    "df.groupby([\"state\"])[\"value\"].mean()"
   ]
  },
  {
   "cell_type": "markdown",
   "id": "7306c218-00e5-422e-a7ad-84f8cf488c90",
   "metadata": {},
   "source": [
    "#### Those in Arizona"
   ]
  },
  {
   "cell_type": "code",
   "execution_count": 22,
   "id": "7a2f3dfa-db57-4ec1-8feb-9093ee0c1711",
   "metadata": {},
   "outputs": [
    {
     "data": {
      "text/html": [
       "<div>\n",
       "<style scoped>\n",
       "    .dataframe tbody tr th:only-of-type {\n",
       "        vertical-align: middle;\n",
       "    }\n",
       "\n",
       "    .dataframe tbody tr th {\n",
       "        vertical-align: top;\n",
       "    }\n",
       "\n",
       "    .dataframe thead th {\n",
       "        text-align: right;\n",
       "    }\n",
       "</style>\n",
       "<table border=\"1\" class=\"dataframe\">\n",
       "  <thead>\n",
       "    <tr style=\"text-align: right;\">\n",
       "      <th></th>\n",
       "      <th>year</th>\n",
       "      <th>geo_level</th>\n",
       "      <th>state</th>\n",
       "      <th>state_fips</th>\n",
       "      <th>county</th>\n",
       "      <th>county_fips</th>\n",
       "      <th>data_item</th>\n",
       "      <th>value</th>\n",
       "      <th>fips</th>\n",
       "    </tr>\n",
       "  </thead>\n",
       "  <tbody>\n",
       "    <tr>\n",
       "      <th>31</th>\n",
       "      <td>2017</td>\n",
       "      <td>County</td>\n",
       "      <td>Arizona</td>\n",
       "      <td>04</td>\n",
       "      <td>Navajo</td>\n",
       "      <td>017</td>\n",
       "      <td>Lettuce - Acres Harvested</td>\n",
       "      <td>15</td>\n",
       "      <td>04017</td>\n",
       "    </tr>\n",
       "    <tr>\n",
       "      <th>32</th>\n",
       "      <td>2017</td>\n",
       "      <td>County</td>\n",
       "      <td>Arizona</td>\n",
       "      <td>04</td>\n",
       "      <td>Yavapai</td>\n",
       "      <td>025</td>\n",
       "      <td>Lettuce - Acres Harvested</td>\n",
       "      <td>4</td>\n",
       "      <td>04025</td>\n",
       "    </tr>\n",
       "    <tr>\n",
       "      <th>37</th>\n",
       "      <td>2017</td>\n",
       "      <td>County</td>\n",
       "      <td>Arizona</td>\n",
       "      <td>04</td>\n",
       "      <td>Santa Cruz</td>\n",
       "      <td>023</td>\n",
       "      <td>Lettuce - Acres Harvested</td>\n",
       "      <td>4</td>\n",
       "      <td>04023</td>\n",
       "    </tr>\n",
       "    <tr>\n",
       "      <th>35</th>\n",
       "      <td>2017</td>\n",
       "      <td>County</td>\n",
       "      <td>Arizona</td>\n",
       "      <td>04</td>\n",
       "      <td>Pima</td>\n",
       "      <td>019</td>\n",
       "      <td>Lettuce - Acres Harvested</td>\n",
       "      <td>3</td>\n",
       "      <td>04019</td>\n",
       "    </tr>\n",
       "    <tr>\n",
       "      <th>28</th>\n",
       "      <td>2017</td>\n",
       "      <td>County</td>\n",
       "      <td>Arizona</td>\n",
       "      <td>04</td>\n",
       "      <td>Coconino</td>\n",
       "      <td>005</td>\n",
       "      <td>Lettuce - Acres Harvested</td>\n",
       "      <td>2</td>\n",
       "      <td>04005</td>\n",
       "    </tr>\n",
       "  </tbody>\n",
       "</table>\n",
       "</div>"
      ],
      "text/plain": [
       "    year geo_level    state state_fips      county county_fips  \\\n",
       "31  2017    County  Arizona         04      Navajo         017   \n",
       "32  2017    County  Arizona         04     Yavapai         025   \n",
       "37  2017    County  Arizona         04  Santa Cruz         023   \n",
       "35  2017    County  Arizona         04        Pima         019   \n",
       "28  2017    County  Arizona         04    Coconino         005   \n",
       "\n",
       "                    data_item  value   fips  \n",
       "31  Lettuce - Acres Harvested     15  04017  \n",
       "32  Lettuce - Acres Harvested      4  04025  \n",
       "37  Lettuce - Acres Harvested      4  04023  \n",
       "35  Lettuce - Acres Harvested      3  04019  \n",
       "28  Lettuce - Acres Harvested      2  04005  "
      ]
     },
     "execution_count": 22,
     "metadata": {},
     "output_type": "execute_result"
    }
   ],
   "source": [
    "df[df[\"state\"] == \"Arizona\"].sort_values(\"value\", ascending=False).head()"
   ]
  },
  {
   "cell_type": "markdown",
   "id": "ee3ad64a-aea8-479e-a35a-cbb38d4a6741",
   "metadata": {},
   "source": [
    "---"
   ]
  },
  {
   "cell_type": "markdown",
   "id": "6fbeee84-ddf8-4efb-a493-3bdd65d4e4b2",
   "metadata": {
    "tags": []
   },
   "source": [
    "### Export to JSON"
   ]
  },
  {
   "cell_type": "code",
   "execution_count": 34,
   "id": "f7a673ef-44c7-40d2-b21b-c3dde0d6f249",
   "metadata": {},
   "outputs": [],
   "source": [
    "df.to_json(\n",
    "    \"data/processed/lettuce_acres_harvested_counties_2017.json\",\n",
    "    orient=\"records\",\n",
    "    indent=2,\n",
    ")"
   ]
  },
  {
   "cell_type": "code",
   "execution_count": null,
   "id": "c7ebd109-8e24-492c-86b0-2f426cc2093e",
   "metadata": {},
   "outputs": [],
   "source": []
  }
 ],
 "metadata": {
  "kernelspec": {
   "display_name": "Python 3 (ipykernel)",
   "language": "python",
   "name": "python3"
  },
  "language_info": {
   "codemirror_mode": {
    "name": "ipython",
    "version": 3
   },
   "file_extension": ".py",
   "mimetype": "text/x-python",
   "name": "python",
   "nbconvert_exporter": "python",
   "pygments_lexer": "ipython3",
   "version": "3.8.9"
  }
 },
 "nbformat": 4,
 "nbformat_minor": 5
}
