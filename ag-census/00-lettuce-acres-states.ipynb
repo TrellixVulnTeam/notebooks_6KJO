{
 "cells": [
  {
   "cell_type": "markdown",
   "id": "0a3ddfe6-da5b-4250-a25d-ca2ce92dc241",
   "metadata": {},
   "source": [
    "# USDA - National Agricultural Statistics Service"
   ]
  },
  {
   "cell_type": "markdown",
   "id": "cabe7733-ee27-4002-bee3-6439f2bacfc4",
   "metadata": {},
   "source": [
    "### Import Python tools and Jupyter configuration"
   ]
  },
  {
   "cell_type": "code",
   "execution_count": 1,
   "id": "f75a88c4-b65c-4446-8504-d318c43eecd2",
   "metadata": {},
   "outputs": [],
   "source": [
    "%load_ext lab_black"
   ]
  },
  {
   "cell_type": "code",
   "execution_count": 2,
   "id": "0e63bd54-dd45-48c6-ac6c-1dfdfee1d639",
   "metadata": {},
   "outputs": [],
   "source": [
    "import pandas as pd\n",
    "import geopandas as gpd\n",
    "import altair as alt\n",
    "from datetime import timedelta\n",
    "import numpy as np"
   ]
  },
  {
   "cell_type": "code",
   "execution_count": 3,
   "id": "84b884ac-467c-4737-9337-0fff3bbb66ef",
   "metadata": {},
   "outputs": [],
   "source": [
    "pd.options.display.max_columns = 100\n",
    "pd.options.display.max_rows = 1000\n",
    "pd.options.display.max_colwidth = None"
   ]
  },
  {
   "cell_type": "code",
   "execution_count": 4,
   "id": "01fa551f-f8b0-464e-a160-5a2c8204cdf4",
   "metadata": {},
   "outputs": [],
   "source": [
    "src = pd.read_csv(\n",
    "    \"data/raw/lettuce_acres_harvested_states_2017.csv\",\n",
    "    dtype={\"County ANSI\": \"str\", \"State ANSI\": \"str\"},\n",
    ")"
   ]
  },
  {
   "cell_type": "code",
   "execution_count": 5,
   "id": "1f315c28-ee09-4a2c-be7f-39e7086875fd",
   "metadata": {},
   "outputs": [],
   "source": [
    "src.columns = src.columns.str.lower().str.replace(\" \", \"_\", regex=True)"
   ]
  },
  {
   "cell_type": "code",
   "execution_count": 6,
   "id": "7bf86902-5717-47d8-afee-2ca7767d0492",
   "metadata": {},
   "outputs": [],
   "source": [
    "src_slim = src[\n",
    "    (src[\"data_item\"] == \"LETTUCE - ACRES HARVESTED\") & (src[\"domain\"] == \"TOTAL\")\n",
    "][[\"year\", \"geo_level\", \"state\", \"state_ansi\", \"data_item\", \"value\"]]"
   ]
  },
  {
   "cell_type": "code",
   "execution_count": 7,
   "id": "0999dfda-955e-4fd5-bf5c-41e1dd3aec40",
   "metadata": {},
   "outputs": [],
   "source": [
    "src_slim.rename(columns={\"state_ansi\": \"state_fips\"}, inplace=True)"
   ]
  },
  {
   "cell_type": "code",
   "execution_count": 8,
   "id": "8b43e70a-dd07-42f6-8be9-d14e27e0f1d2",
   "metadata": {},
   "outputs": [],
   "source": [
    "src_slim[\"geo_level\"] = src_slim[\"geo_level\"].str.title()\n",
    "src_slim[\"state\"] = src_slim[\"state\"].str.title()\n",
    "src_slim[\"data_item\"] = src_slim[\"data_item\"].str.title()"
   ]
  },
  {
   "cell_type": "code",
   "execution_count": 9,
   "id": "f714b336-681e-43ec-a64a-5d4a9238189c",
   "metadata": {},
   "outputs": [
    {
     "data": {
      "text/html": [
       "<div>\n",
       "<style scoped>\n",
       "    .dataframe tbody tr th:only-of-type {\n",
       "        vertical-align: middle;\n",
       "    }\n",
       "\n",
       "    .dataframe tbody tr th {\n",
       "        vertical-align: top;\n",
       "    }\n",
       "\n",
       "    .dataframe thead th {\n",
       "        text-align: right;\n",
       "    }\n",
       "</style>\n",
       "<table border=\"1\" class=\"dataframe\">\n",
       "  <thead>\n",
       "    <tr style=\"text-align: right;\">\n",
       "      <th></th>\n",
       "      <th>year</th>\n",
       "      <th>geo_level</th>\n",
       "      <th>state</th>\n",
       "      <th>state_fips</th>\n",
       "      <th>data_item</th>\n",
       "      <th>value</th>\n",
       "    </tr>\n",
       "  </thead>\n",
       "  <tbody>\n",
       "    <tr>\n",
       "      <th>498</th>\n",
       "      <td>2017</td>\n",
       "      <td>State</td>\n",
       "      <td>Minnesota</td>\n",
       "      <td>27</td>\n",
       "      <td>Lettuce - Acres Harvested</td>\n",
       "      <td>97</td>\n",
       "    </tr>\n",
       "    <tr>\n",
       "      <th>450</th>\n",
       "      <td>2017</td>\n",
       "      <td>State</td>\n",
       "      <td>Maryland</td>\n",
       "      <td>24</td>\n",
       "      <td>Lettuce - Acres Harvested</td>\n",
       "      <td>95</td>\n",
       "    </tr>\n",
       "    <tr>\n",
       "      <th>402</th>\n",
       "      <td>2017</td>\n",
       "      <td>State</td>\n",
       "      <td>Kentucky</td>\n",
       "      <td>21</td>\n",
       "      <td>Lettuce - Acres Harvested</td>\n",
       "      <td>93</td>\n",
       "    </tr>\n",
       "    <tr>\n",
       "      <th>274</th>\n",
       "      <td>2017</td>\n",
       "      <td>State</td>\n",
       "      <td>Florida</td>\n",
       "      <td>12</td>\n",
       "      <td>Lettuce - Acres Harvested</td>\n",
       "      <td>9,309</td>\n",
       "    </tr>\n",
       "    <tr>\n",
       "      <th>786</th>\n",
       "      <td>2017</td>\n",
       "      <td>State</td>\n",
       "      <td>South Dakota</td>\n",
       "      <td>46</td>\n",
       "      <td>Lettuce - Acres Harvested</td>\n",
       "      <td>9</td>\n",
       "    </tr>\n",
       "  </tbody>\n",
       "</table>\n",
       "</div>"
      ],
      "text/plain": [
       "     year geo_level         state state_fips                  data_item  value\n",
       "498  2017     State     Minnesota         27  Lettuce - Acres Harvested     97\n",
       "450  2017     State      Maryland         24  Lettuce - Acres Harvested     95\n",
       "402  2017     State      Kentucky         21  Lettuce - Acres Harvested     93\n",
       "274  2017     State       Florida         12  Lettuce - Acres Harvested  9,309\n",
       "786  2017     State  South Dakota         46  Lettuce - Acres Harvested      9"
      ]
     },
     "execution_count": 9,
     "metadata": {},
     "output_type": "execute_result"
    }
   ],
   "source": [
    "src_slim.sort_values(\"value\", ascending=False).head()"
   ]
  },
  {
   "cell_type": "markdown",
   "id": "9f16bebb-b491-48d3-a08a-14248038fda9",
   "metadata": {},
   "source": [
    "### Strip out withheld values"
   ]
  },
  {
   "cell_type": "code",
   "execution_count": 10,
   "id": "5967cda1-22ea-4149-877d-339b54901c41",
   "metadata": {},
   "outputs": [],
   "source": [
    "# D = Withheld to avoid disclosing data for individual operations.\n",
    "# Z = Less than half the rounding unit."
   ]
  },
  {
   "cell_type": "code",
   "execution_count": 11,
   "id": "ba854378-e4c4-41a7-a274-de71836f1c3d",
   "metadata": {},
   "outputs": [],
   "source": [
    "src_slim[\"value\"] = (\n",
    "    src_slim[\"value\"]\n",
    "    .str.strip(\" \")\n",
    "    .str.replace(\"(D)\", \"0\", regex=False)\n",
    "    .str.replace(\"(Z)\", \"0\", regex=False)\n",
    "    .str.replace(\",\", \"\", regex=False)\n",
    ")"
   ]
  },
  {
   "cell_type": "code",
   "execution_count": 12,
   "id": "93dcc4ea-9238-43cb-8929-3e97cd758408",
   "metadata": {},
   "outputs": [],
   "source": [
    "src_slim[\"value\"] = src_slim[\"value\"].astype(int)"
   ]
  },
  {
   "cell_type": "code",
   "execution_count": 13,
   "id": "30c2676c-16cb-4c59-a633-e83af99dc16a",
   "metadata": {},
   "outputs": [],
   "source": [
    "ap_states = pd.read_csv(\n",
    "    \"https://raw.githubusercontent.com/stiles/notebooks/69e1e55cdff595b10cfa6e8187e1d569cebae2d1/census/raw/ap_states.csv\"\n",
    ")"
   ]
  },
  {
   "cell_type": "code",
   "execution_count": 14,
   "id": "a446c92d-a10b-43e1-bcae-f80f30feac51",
   "metadata": {},
   "outputs": [
    {
     "data": {
      "text/html": [
       "<div>\n",
       "<style scoped>\n",
       "    .dataframe tbody tr th:only-of-type {\n",
       "        vertical-align: middle;\n",
       "    }\n",
       "\n",
       "    .dataframe tbody tr th {\n",
       "        vertical-align: top;\n",
       "    }\n",
       "\n",
       "    .dataframe thead th {\n",
       "        text-align: right;\n",
       "    }\n",
       "</style>\n",
       "<table border=\"1\" class=\"dataframe\">\n",
       "  <thead>\n",
       "    <tr style=\"text-align: right;\">\n",
       "      <th></th>\n",
       "      <th>name</th>\n",
       "      <th>usps</th>\n",
       "      <th>ap</th>\n",
       "    </tr>\n",
       "  </thead>\n",
       "  <tbody>\n",
       "    <tr>\n",
       "      <th>0</th>\n",
       "      <td>Alabama</td>\n",
       "      <td>AL</td>\n",
       "      <td>Ala.</td>\n",
       "    </tr>\n",
       "    <tr>\n",
       "      <th>1</th>\n",
       "      <td>Alaska</td>\n",
       "      <td>AK</td>\n",
       "      <td>Alaska</td>\n",
       "    </tr>\n",
       "    <tr>\n",
       "      <th>2</th>\n",
       "      <td>Arizona</td>\n",
       "      <td>AZ</td>\n",
       "      <td>Ariz.</td>\n",
       "    </tr>\n",
       "    <tr>\n",
       "      <th>3</th>\n",
       "      <td>Arkansas</td>\n",
       "      <td>AR</td>\n",
       "      <td>Ark.</td>\n",
       "    </tr>\n",
       "    <tr>\n",
       "      <th>4</th>\n",
       "      <td>California</td>\n",
       "      <td>CA</td>\n",
       "      <td>Calif.</td>\n",
       "    </tr>\n",
       "  </tbody>\n",
       "</table>\n",
       "</div>"
      ],
      "text/plain": [
       "         name usps      ap\n",
       "0     Alabama   AL    Ala.\n",
       "1      Alaska   AK  Alaska\n",
       "2     Arizona   AZ   Ariz.\n",
       "3    Arkansas   AR    Ark.\n",
       "4  California   CA  Calif."
      ]
     },
     "execution_count": 14,
     "metadata": {},
     "output_type": "execute_result"
    }
   ],
   "source": [
    "ap_states.head()"
   ]
  },
  {
   "cell_type": "code",
   "execution_count": 15,
   "id": "db1bd850-e5d3-4312-a4cc-5d8dad492bbb",
   "metadata": {},
   "outputs": [],
   "source": [
    "src_slim[\"ap_state\"] = src_slim[\"state\"].map(ap_states.set_index(\"name\")[\"ap\"])"
   ]
  },
  {
   "cell_type": "code",
   "execution_count": 16,
   "id": "5e76d16d-974d-4d51-9c59-b314cd1798dd",
   "metadata": {},
   "outputs": [
    {
     "data": {
      "text/html": [
       "<div>\n",
       "<style scoped>\n",
       "    .dataframe tbody tr th:only-of-type {\n",
       "        vertical-align: middle;\n",
       "    }\n",
       "\n",
       "    .dataframe tbody tr th {\n",
       "        vertical-align: top;\n",
       "    }\n",
       "\n",
       "    .dataframe thead th {\n",
       "        text-align: right;\n",
       "    }\n",
       "</style>\n",
       "<table border=\"1\" class=\"dataframe\">\n",
       "  <thead>\n",
       "    <tr style=\"text-align: right;\">\n",
       "      <th></th>\n",
       "      <th>year</th>\n",
       "      <th>geo_level</th>\n",
       "      <th>state</th>\n",
       "      <th>state_fips</th>\n",
       "      <th>data_item</th>\n",
       "      <th>value</th>\n",
       "      <th>ap_state</th>\n",
       "    </tr>\n",
       "  </thead>\n",
       "  <tbody>\n",
       "    <tr>\n",
       "      <th>0</th>\n",
       "      <td>2017</td>\n",
       "      <td>State</td>\n",
       "      <td>Alabama</td>\n",
       "      <td>01</td>\n",
       "      <td>Lettuce - Acres Harvested</td>\n",
       "      <td>19</td>\n",
       "      <td>Ala.</td>\n",
       "    </tr>\n",
       "    <tr>\n",
       "      <th>16</th>\n",
       "      <td>2017</td>\n",
       "      <td>State</td>\n",
       "      <td>Alaska</td>\n",
       "      <td>02</td>\n",
       "      <td>Lettuce - Acres Harvested</td>\n",
       "      <td>81</td>\n",
       "      <td>Alaska</td>\n",
       "    </tr>\n",
       "    <tr>\n",
       "      <th>43</th>\n",
       "      <td>2017</td>\n",
       "      <td>State</td>\n",
       "      <td>Arizona</td>\n",
       "      <td>04</td>\n",
       "      <td>Lettuce - Acres Harvested</td>\n",
       "      <td>72411</td>\n",
       "      <td>Ariz.</td>\n",
       "    </tr>\n",
       "    <tr>\n",
       "      <th>122</th>\n",
       "      <td>2017</td>\n",
       "      <td>State</td>\n",
       "      <td>Arkansas</td>\n",
       "      <td>05</td>\n",
       "      <td>Lettuce - Acres Harvested</td>\n",
       "      <td>30</td>\n",
       "      <td>Ark.</td>\n",
       "    </tr>\n",
       "    <tr>\n",
       "      <th>149</th>\n",
       "      <td>2017</td>\n",
       "      <td>State</td>\n",
       "      <td>California</td>\n",
       "      <td>06</td>\n",
       "      <td>Lettuce - Acres Harvested</td>\n",
       "      <td>250157</td>\n",
       "      <td>Calif.</td>\n",
       "    </tr>\n",
       "  </tbody>\n",
       "</table>\n",
       "</div>"
      ],
      "text/plain": [
       "     year geo_level       state state_fips                  data_item   value  \\\n",
       "0    2017     State     Alabama         01  Lettuce - Acres Harvested      19   \n",
       "16   2017     State      Alaska         02  Lettuce - Acres Harvested      81   \n",
       "43   2017     State     Arizona         04  Lettuce - Acres Harvested   72411   \n",
       "122  2017     State    Arkansas         05  Lettuce - Acres Harvested      30   \n",
       "149  2017     State  California         06  Lettuce - Acres Harvested  250157   \n",
       "\n",
       "    ap_state  \n",
       "0       Ala.  \n",
       "16    Alaska  \n",
       "43     Ariz.  \n",
       "122     Ark.  \n",
       "149   Calif.  "
      ]
     },
     "execution_count": 16,
     "metadata": {},
     "output_type": "execute_result"
    }
   ],
   "source": [
    "src_slim.head()"
   ]
  },
  {
   "cell_type": "code",
   "execution_count": 17,
   "id": "d3a76e8a-9539-49a4-af3a-e221240378d2",
   "metadata": {},
   "outputs": [],
   "source": [
    "df = src_slim.copy()"
   ]
  },
  {
   "cell_type": "markdown",
   "id": "7778630b-dacd-4457-89c8-db67a8ba18f2",
   "metadata": {},
   "source": [
    "---"
   ]
  },
  {
   "cell_type": "code",
   "execution_count": 18,
   "id": "35ee98f4-32e9-45e2-a18a-38d129b91fc0",
   "metadata": {},
   "outputs": [
    {
     "data": {
      "text/html": [
       "<div>\n",
       "<style scoped>\n",
       "    .dataframe tbody tr th:only-of-type {\n",
       "        vertical-align: middle;\n",
       "    }\n",
       "\n",
       "    .dataframe tbody tr th {\n",
       "        vertical-align: top;\n",
       "    }\n",
       "\n",
       "    .dataframe thead th {\n",
       "        text-align: right;\n",
       "    }\n",
       "</style>\n",
       "<table border=\"1\" class=\"dataframe\">\n",
       "  <thead>\n",
       "    <tr style=\"text-align: right;\">\n",
       "      <th></th>\n",
       "      <th>year</th>\n",
       "      <th>geo_level</th>\n",
       "      <th>state</th>\n",
       "      <th>state_fips</th>\n",
       "      <th>data_item</th>\n",
       "      <th>value</th>\n",
       "      <th>ap_state</th>\n",
       "    </tr>\n",
       "  </thead>\n",
       "  <tbody>\n",
       "    <tr>\n",
       "      <th>0</th>\n",
       "      <td>2017</td>\n",
       "      <td>State</td>\n",
       "      <td>Alabama</td>\n",
       "      <td>01</td>\n",
       "      <td>Lettuce - Acres Harvested</td>\n",
       "      <td>19</td>\n",
       "      <td>Ala.</td>\n",
       "    </tr>\n",
       "    <tr>\n",
       "      <th>16</th>\n",
       "      <td>2017</td>\n",
       "      <td>State</td>\n",
       "      <td>Alaska</td>\n",
       "      <td>02</td>\n",
       "      <td>Lettuce - Acres Harvested</td>\n",
       "      <td>81</td>\n",
       "      <td>Alaska</td>\n",
       "    </tr>\n",
       "    <tr>\n",
       "      <th>43</th>\n",
       "      <td>2017</td>\n",
       "      <td>State</td>\n",
       "      <td>Arizona</td>\n",
       "      <td>04</td>\n",
       "      <td>Lettuce - Acres Harvested</td>\n",
       "      <td>72411</td>\n",
       "      <td>Ariz.</td>\n",
       "    </tr>\n",
       "    <tr>\n",
       "      <th>122</th>\n",
       "      <td>2017</td>\n",
       "      <td>State</td>\n",
       "      <td>Arkansas</td>\n",
       "      <td>05</td>\n",
       "      <td>Lettuce - Acres Harvested</td>\n",
       "      <td>30</td>\n",
       "      <td>Ark.</td>\n",
       "    </tr>\n",
       "    <tr>\n",
       "      <th>149</th>\n",
       "      <td>2017</td>\n",
       "      <td>State</td>\n",
       "      <td>California</td>\n",
       "      <td>06</td>\n",
       "      <td>Lettuce - Acres Harvested</td>\n",
       "      <td>250157</td>\n",
       "      <td>Calif.</td>\n",
       "    </tr>\n",
       "  </tbody>\n",
       "</table>\n",
       "</div>"
      ],
      "text/plain": [
       "     year geo_level       state state_fips                  data_item   value  \\\n",
       "0    2017     State     Alabama         01  Lettuce - Acres Harvested      19   \n",
       "16   2017     State      Alaska         02  Lettuce - Acres Harvested      81   \n",
       "43   2017     State     Arizona         04  Lettuce - Acres Harvested   72411   \n",
       "122  2017     State    Arkansas         05  Lettuce - Acres Harvested      30   \n",
       "149  2017     State  California         06  Lettuce - Acres Harvested  250157   \n",
       "\n",
       "    ap_state  \n",
       "0       Ala.  \n",
       "16    Alaska  \n",
       "43     Ariz.  \n",
       "122     Ark.  \n",
       "149   Calif.  "
      ]
     },
     "execution_count": 18,
     "metadata": {},
     "output_type": "execute_result"
    }
   ],
   "source": [
    "df.head()"
   ]
  },
  {
   "cell_type": "code",
   "execution_count": 19,
   "id": "640b56dc-ce5d-47de-9495-3613fafe003a",
   "metadata": {},
   "outputs": [
    {
     "data": {
      "text/html": [
       "<div>\n",
       "<style scoped>\n",
       "    .dataframe tbody tr th:only-of-type {\n",
       "        vertical-align: middle;\n",
       "    }\n",
       "\n",
       "    .dataframe tbody tr th {\n",
       "        vertical-align: top;\n",
       "    }\n",
       "\n",
       "    .dataframe thead th {\n",
       "        text-align: right;\n",
       "    }\n",
       "</style>\n",
       "<table border=\"1\" class=\"dataframe\">\n",
       "  <thead>\n",
       "    <tr style=\"text-align: right;\">\n",
       "      <th></th>\n",
       "      <th>year</th>\n",
       "      <th>geo_level</th>\n",
       "      <th>state</th>\n",
       "      <th>state_fips</th>\n",
       "      <th>data_item</th>\n",
       "      <th>value</th>\n",
       "      <th>ap_state</th>\n",
       "    </tr>\n",
       "  </thead>\n",
       "  <tbody>\n",
       "    <tr>\n",
       "      <th>866</th>\n",
       "      <td>2017</td>\n",
       "      <td>State</td>\n",
       "      <td>Virginia</td>\n",
       "      <td>51</td>\n",
       "      <td>Lettuce - Acres Harvested</td>\n",
       "      <td>102</td>\n",
       "      <td>Va.</td>\n",
       "    </tr>\n",
       "    <tr>\n",
       "      <th>882</th>\n",
       "      <td>2017</td>\n",
       "      <td>State</td>\n",
       "      <td>Washington</td>\n",
       "      <td>53</td>\n",
       "      <td>Lettuce - Acres Harvested</td>\n",
       "      <td>223</td>\n",
       "      <td>Wash.</td>\n",
       "    </tr>\n",
       "    <tr>\n",
       "      <th>898</th>\n",
       "      <td>2017</td>\n",
       "      <td>State</td>\n",
       "      <td>West Virginia</td>\n",
       "      <td>54</td>\n",
       "      <td>Lettuce - Acres Harvested</td>\n",
       "      <td>32</td>\n",
       "      <td>W.Va.</td>\n",
       "    </tr>\n",
       "    <tr>\n",
       "      <th>914</th>\n",
       "      <td>2017</td>\n",
       "      <td>State</td>\n",
       "      <td>Wisconsin</td>\n",
       "      <td>55</td>\n",
       "      <td>Lettuce - Acres Harvested</td>\n",
       "      <td>174</td>\n",
       "      <td>Wis.</td>\n",
       "    </tr>\n",
       "    <tr>\n",
       "      <th>930</th>\n",
       "      <td>2017</td>\n",
       "      <td>State</td>\n",
       "      <td>Wyoming</td>\n",
       "      <td>56</td>\n",
       "      <td>Lettuce - Acres Harvested</td>\n",
       "      <td>4</td>\n",
       "      <td>Wyo.</td>\n",
       "    </tr>\n",
       "  </tbody>\n",
       "</table>\n",
       "</div>"
      ],
      "text/plain": [
       "     year geo_level          state state_fips                  data_item  \\\n",
       "866  2017     State       Virginia         51  Lettuce - Acres Harvested   \n",
       "882  2017     State     Washington         53  Lettuce - Acres Harvested   \n",
       "898  2017     State  West Virginia         54  Lettuce - Acres Harvested   \n",
       "914  2017     State      Wisconsin         55  Lettuce - Acres Harvested   \n",
       "930  2017     State        Wyoming         56  Lettuce - Acres Harvested   \n",
       "\n",
       "     value ap_state  \n",
       "866    102      Va.  \n",
       "882    223    Wash.  \n",
       "898     32    W.Va.  \n",
       "914    174     Wis.  \n",
       "930      4     Wyo.  "
      ]
     },
     "execution_count": 19,
     "metadata": {},
     "output_type": "execute_result"
    }
   ],
   "source": [
    "df.tail()"
   ]
  },
  {
   "cell_type": "code",
   "execution_count": 20,
   "id": "afb2f4d2-6443-413b-85bb-97b394e540cb",
   "metadata": {},
   "outputs": [
    {
     "data": {
      "text/html": [
       "<div>\n",
       "<style scoped>\n",
       "    .dataframe tbody tr th:only-of-type {\n",
       "        vertical-align: middle;\n",
       "    }\n",
       "\n",
       "    .dataframe tbody tr th {\n",
       "        vertical-align: top;\n",
       "    }\n",
       "\n",
       "    .dataframe thead th {\n",
       "        text-align: right;\n",
       "    }\n",
       "</style>\n",
       "<table border=\"1\" class=\"dataframe\">\n",
       "  <thead>\n",
       "    <tr style=\"text-align: right;\">\n",
       "      <th></th>\n",
       "      <th>year</th>\n",
       "      <th>geo_level</th>\n",
       "      <th>state</th>\n",
       "      <th>state_fips</th>\n",
       "      <th>data_item</th>\n",
       "      <th>value</th>\n",
       "      <th>ap_state</th>\n",
       "    </tr>\n",
       "  </thead>\n",
       "  <tbody>\n",
       "    <tr>\n",
       "      <th>149</th>\n",
       "      <td>2017</td>\n",
       "      <td>State</td>\n",
       "      <td>California</td>\n",
       "      <td>06</td>\n",
       "      <td>Lettuce - Acres Harvested</td>\n",
       "      <td>250157</td>\n",
       "      <td>Calif.</td>\n",
       "    </tr>\n",
       "  </tbody>\n",
       "</table>\n",
       "</div>"
      ],
      "text/plain": [
       "     year geo_level       state state_fips                  data_item   value  \\\n",
       "149  2017     State  California         06  Lettuce - Acres Harvested  250157   \n",
       "\n",
       "    ap_state  \n",
       "149   Calif.  "
      ]
     },
     "execution_count": 20,
     "metadata": {},
     "output_type": "execute_result"
    }
   ],
   "source": [
    "df[df[\"state\"] == \"California\"]"
   ]
  },
  {
   "cell_type": "code",
   "execution_count": 21,
   "id": "0174744e-f4a0-4e5e-b6e6-16dcf482fa26",
   "metadata": {},
   "outputs": [
    {
     "data": {
      "text/html": [
       "<div>\n",
       "<style scoped>\n",
       "    .dataframe tbody tr th:only-of-type {\n",
       "        vertical-align: middle;\n",
       "    }\n",
       "\n",
       "    .dataframe tbody tr th {\n",
       "        vertical-align: top;\n",
       "    }\n",
       "\n",
       "    .dataframe thead th {\n",
       "        text-align: right;\n",
       "    }\n",
       "</style>\n",
       "<table border=\"1\" class=\"dataframe\">\n",
       "  <thead>\n",
       "    <tr style=\"text-align: right;\">\n",
       "      <th></th>\n",
       "      <th>year</th>\n",
       "      <th>geo_level</th>\n",
       "      <th>state</th>\n",
       "      <th>state_fips</th>\n",
       "      <th>data_item</th>\n",
       "      <th>value</th>\n",
       "      <th>ap_state</th>\n",
       "    </tr>\n",
       "  </thead>\n",
       "  <tbody>\n",
       "    <tr>\n",
       "      <th>149</th>\n",
       "      <td>2017</td>\n",
       "      <td>State</td>\n",
       "      <td>California</td>\n",
       "      <td>06</td>\n",
       "      <td>Lettuce - Acres Harvested</td>\n",
       "      <td>250157</td>\n",
       "      <td>Calif.</td>\n",
       "    </tr>\n",
       "    <tr>\n",
       "      <th>43</th>\n",
       "      <td>2017</td>\n",
       "      <td>State</td>\n",
       "      <td>Arizona</td>\n",
       "      <td>04</td>\n",
       "      <td>Lettuce - Acres Harvested</td>\n",
       "      <td>72411</td>\n",
       "      <td>Ariz.</td>\n",
       "    </tr>\n",
       "    <tr>\n",
       "      <th>274</th>\n",
       "      <td>2017</td>\n",
       "      <td>State</td>\n",
       "      <td>Florida</td>\n",
       "      <td>12</td>\n",
       "      <td>Lettuce - Acres Harvested</td>\n",
       "      <td>9309</td>\n",
       "      <td>Fla.</td>\n",
       "    </tr>\n",
       "    <tr>\n",
       "      <th>226</th>\n",
       "      <td>2017</td>\n",
       "      <td>State</td>\n",
       "      <td>Colorado</td>\n",
       "      <td>08</td>\n",
       "      <td>Lettuce - Acres Harvested</td>\n",
       "      <td>2397</td>\n",
       "      <td>Colo.</td>\n",
       "    </tr>\n",
       "    <tr>\n",
       "      <th>610</th>\n",
       "      <td>2017</td>\n",
       "      <td>State</td>\n",
       "      <td>New Jersey</td>\n",
       "      <td>34</td>\n",
       "      <td>Lettuce - Acres Harvested</td>\n",
       "      <td>1298</td>\n",
       "      <td>N.J.</td>\n",
       "    </tr>\n",
       "    <tr>\n",
       "      <th>642</th>\n",
       "      <td>2017</td>\n",
       "      <td>State</td>\n",
       "      <td>New York</td>\n",
       "      <td>36</td>\n",
       "      <td>Lettuce - Acres Harvested</td>\n",
       "      <td>1184</td>\n",
       "      <td>N.Y.</td>\n",
       "    </tr>\n",
       "    <tr>\n",
       "      <th>482</th>\n",
       "      <td>2017</td>\n",
       "      <td>State</td>\n",
       "      <td>Michigan</td>\n",
       "      <td>26</td>\n",
       "      <td>Lettuce - Acres Harvested</td>\n",
       "      <td>1027</td>\n",
       "      <td>Mich.</td>\n",
       "    </tr>\n",
       "    <tr>\n",
       "      <th>626</th>\n",
       "      <td>2017</td>\n",
       "      <td>State</td>\n",
       "      <td>New Mexico</td>\n",
       "      <td>35</td>\n",
       "      <td>Lettuce - Acres Harvested</td>\n",
       "      <td>829</td>\n",
       "      <td>N.M.</td>\n",
       "    </tr>\n",
       "    <tr>\n",
       "      <th>690</th>\n",
       "      <td>2017</td>\n",
       "      <td>State</td>\n",
       "      <td>Ohio</td>\n",
       "      <td>39</td>\n",
       "      <td>Lettuce - Acres Harvested</td>\n",
       "      <td>429</td>\n",
       "      <td>Ohio</td>\n",
       "    </tr>\n",
       "    <tr>\n",
       "      <th>722</th>\n",
       "      <td>2017</td>\n",
       "      <td>State</td>\n",
       "      <td>Oregon</td>\n",
       "      <td>41</td>\n",
       "      <td>Lettuce - Acres Harvested</td>\n",
       "      <td>412</td>\n",
       "      <td>Ore.</td>\n",
       "    </tr>\n",
       "    <tr>\n",
       "      <th>466</th>\n",
       "      <td>2017</td>\n",
       "      <td>State</td>\n",
       "      <td>Massachusetts</td>\n",
       "      <td>25</td>\n",
       "      <td>Lettuce - Acres Harvested</td>\n",
       "      <td>351</td>\n",
       "      <td>Mass.</td>\n",
       "    </tr>\n",
       "    <tr>\n",
       "      <th>738</th>\n",
       "      <td>2017</td>\n",
       "      <td>State</td>\n",
       "      <td>Pennsylvania</td>\n",
       "      <td>42</td>\n",
       "      <td>Lettuce - Acres Harvested</td>\n",
       "      <td>327</td>\n",
       "      <td>Pa.</td>\n",
       "    </tr>\n",
       "    <tr>\n",
       "      <th>658</th>\n",
       "      <td>2017</td>\n",
       "      <td>State</td>\n",
       "      <td>North Carolina</td>\n",
       "      <td>37</td>\n",
       "      <td>Lettuce - Acres Harvested</td>\n",
       "      <td>323</td>\n",
       "      <td>N.C.</td>\n",
       "    </tr>\n",
       "    <tr>\n",
       "      <th>306</th>\n",
       "      <td>2017</td>\n",
       "      <td>State</td>\n",
       "      <td>Hawaii</td>\n",
       "      <td>15</td>\n",
       "      <td>Lettuce - Acres Harvested</td>\n",
       "      <td>289</td>\n",
       "      <td>Hawaii</td>\n",
       "    </tr>\n",
       "    <tr>\n",
       "      <th>882</th>\n",
       "      <td>2017</td>\n",
       "      <td>State</td>\n",
       "      <td>Washington</td>\n",
       "      <td>53</td>\n",
       "      <td>Lettuce - Acres Harvested</td>\n",
       "      <td>223</td>\n",
       "      <td>Wash.</td>\n",
       "    </tr>\n",
       "    <tr>\n",
       "      <th>914</th>\n",
       "      <td>2017</td>\n",
       "      <td>State</td>\n",
       "      <td>Wisconsin</td>\n",
       "      <td>55</td>\n",
       "      <td>Lettuce - Acres Harvested</td>\n",
       "      <td>174</td>\n",
       "      <td>Wis.</td>\n",
       "    </tr>\n",
       "    <tr>\n",
       "      <th>434</th>\n",
       "      <td>2017</td>\n",
       "      <td>State</td>\n",
       "      <td>Maine</td>\n",
       "      <td>23</td>\n",
       "      <td>Lettuce - Acres Harvested</td>\n",
       "      <td>150</td>\n",
       "      <td>Maine</td>\n",
       "    </tr>\n",
       "    <tr>\n",
       "      <th>850</th>\n",
       "      <td>2017</td>\n",
       "      <td>State</td>\n",
       "      <td>Vermont</td>\n",
       "      <td>50</td>\n",
       "      <td>Lettuce - Acres Harvested</td>\n",
       "      <td>149</td>\n",
       "      <td>Vt.</td>\n",
       "    </tr>\n",
       "    <tr>\n",
       "      <th>818</th>\n",
       "      <td>2017</td>\n",
       "      <td>State</td>\n",
       "      <td>Texas</td>\n",
       "      <td>48</td>\n",
       "      <td>Lettuce - Acres Harvested</td>\n",
       "      <td>142</td>\n",
       "      <td>Texas</td>\n",
       "    </tr>\n",
       "    <tr>\n",
       "      <th>242</th>\n",
       "      <td>2017</td>\n",
       "      <td>State</td>\n",
       "      <td>Connecticut</td>\n",
       "      <td>09</td>\n",
       "      <td>Lettuce - Acres Harvested</td>\n",
       "      <td>130</td>\n",
       "      <td>Conn.</td>\n",
       "    </tr>\n",
       "  </tbody>\n",
       "</table>\n",
       "</div>"
      ],
      "text/plain": [
       "     year geo_level           state state_fips                  data_item  \\\n",
       "149  2017     State      California         06  Lettuce - Acres Harvested   \n",
       "43   2017     State         Arizona         04  Lettuce - Acres Harvested   \n",
       "274  2017     State         Florida         12  Lettuce - Acres Harvested   \n",
       "226  2017     State        Colorado         08  Lettuce - Acres Harvested   \n",
       "610  2017     State      New Jersey         34  Lettuce - Acres Harvested   \n",
       "642  2017     State        New York         36  Lettuce - Acres Harvested   \n",
       "482  2017     State        Michigan         26  Lettuce - Acres Harvested   \n",
       "626  2017     State      New Mexico         35  Lettuce - Acres Harvested   \n",
       "690  2017     State            Ohio         39  Lettuce - Acres Harvested   \n",
       "722  2017     State          Oregon         41  Lettuce - Acres Harvested   \n",
       "466  2017     State   Massachusetts         25  Lettuce - Acres Harvested   \n",
       "738  2017     State    Pennsylvania         42  Lettuce - Acres Harvested   \n",
       "658  2017     State  North Carolina         37  Lettuce - Acres Harvested   \n",
       "306  2017     State          Hawaii         15  Lettuce - Acres Harvested   \n",
       "882  2017     State      Washington         53  Lettuce - Acres Harvested   \n",
       "914  2017     State       Wisconsin         55  Lettuce - Acres Harvested   \n",
       "434  2017     State           Maine         23  Lettuce - Acres Harvested   \n",
       "850  2017     State         Vermont         50  Lettuce - Acres Harvested   \n",
       "818  2017     State           Texas         48  Lettuce - Acres Harvested   \n",
       "242  2017     State     Connecticut         09  Lettuce - Acres Harvested   \n",
       "\n",
       "      value ap_state  \n",
       "149  250157   Calif.  \n",
       "43    72411    Ariz.  \n",
       "274    9309     Fla.  \n",
       "226    2397    Colo.  \n",
       "610    1298     N.J.  \n",
       "642    1184     N.Y.  \n",
       "482    1027    Mich.  \n",
       "626     829     N.M.  \n",
       "690     429     Ohio  \n",
       "722     412     Ore.  \n",
       "466     351    Mass.  \n",
       "738     327      Pa.  \n",
       "658     323     N.C.  \n",
       "306     289   Hawaii  \n",
       "882     223    Wash.  \n",
       "914     174     Wis.  \n",
       "434     150    Maine  \n",
       "850     149      Vt.  \n",
       "818     142    Texas  \n",
       "242     130    Conn.  "
      ]
     },
     "execution_count": 21,
     "metadata": {},
     "output_type": "execute_result"
    }
   ],
   "source": [
    "df.sort_values(\"value\", ascending=False).head(20)"
   ]
  },
  {
   "cell_type": "markdown",
   "id": "d3b2187f-3f0a-4a71-813d-b39222f0a60b",
   "metadata": {},
   "source": [
    "---"
   ]
  },
  {
   "cell_type": "markdown",
   "id": "84312563-e937-4ee7-9756-e0d537a23919",
   "metadata": {},
   "source": [
    "### Read geography file for places"
   ]
  },
  {
   "cell_type": "code",
   "execution_count": 22,
   "id": "bf6706da-36d9-4773-b53d-94be5a43259d",
   "metadata": {},
   "outputs": [],
   "source": [
    "gdf_poly = gpd.read_file(\n",
    "    \"https://raw.githubusercontent.com/PublicaMundi/MappingAPI/master/data/geojson/us-states.json\"\n",
    ")"
   ]
  },
  {
   "cell_type": "markdown",
   "id": "f12e0479-fb41-4ebf-9595-7f319a3c08a9",
   "metadata": {},
   "source": [
    "### Convert polygons to points"
   ]
  },
  {
   "cell_type": "code",
   "execution_count": 23,
   "id": "3df712fd-0263-4132-998b-c8dcd7f39297",
   "metadata": {},
   "outputs": [],
   "source": [
    "gdf_poly = gdf_poly.to_crs(\"ESRI:102008\")"
   ]
  },
  {
   "cell_type": "code",
   "execution_count": 24,
   "id": "0c4ae7d1-3dc9-44f5-b5c1-cd3a08529738",
   "metadata": {},
   "outputs": [],
   "source": [
    "# gdf_poly[\"x\"] = gdf_poly.centroid.map(lambda p: p.x)\n",
    "# gdf_poly[\"y\"] = gdf_poly.centroid.map(lambda p: p.y)"
   ]
  },
  {
   "cell_type": "code",
   "execution_count": 25,
   "id": "7c46463c-5a70-4940-91b8-ca5fe609e5cb",
   "metadata": {},
   "outputs": [],
   "source": [
    "gdf_points = gdf_poly.copy()"
   ]
  },
  {
   "cell_type": "code",
   "execution_count": 26,
   "id": "1f142520-8ddc-47e8-9043-35ca25f0aeb7",
   "metadata": {},
   "outputs": [],
   "source": [
    "gdf_points[\"geometry\"] = gdf_points[\"geometry\"].centroid"
   ]
  },
  {
   "cell_type": "markdown",
   "id": "642725de-2096-4bf5-b88f-21d30a89c8be",
   "metadata": {},
   "source": [
    "### Clean up column names"
   ]
  },
  {
   "cell_type": "code",
   "execution_count": 27,
   "id": "04d7b5b1-5e8e-49c3-b99d-f50f74fd479c",
   "metadata": {},
   "outputs": [],
   "source": [
    "gdf_points.columns = gdf_points.columns.str.lower()"
   ]
  },
  {
   "cell_type": "code",
   "execution_count": 28,
   "id": "1f860d3d-87eb-49a8-b546-9c4a7f8195c2",
   "metadata": {},
   "outputs": [
    {
     "data": {
      "text/html": [
       "<div>\n",
       "<style scoped>\n",
       "    .dataframe tbody tr th:only-of-type {\n",
       "        vertical-align: middle;\n",
       "    }\n",
       "\n",
       "    .dataframe tbody tr th {\n",
       "        vertical-align: top;\n",
       "    }\n",
       "\n",
       "    .dataframe thead th {\n",
       "        text-align: right;\n",
       "    }\n",
       "</style>\n",
       "<table border=\"1\" class=\"dataframe\">\n",
       "  <thead>\n",
       "    <tr style=\"text-align: right;\">\n",
       "      <th></th>\n",
       "      <th>id</th>\n",
       "      <th>name</th>\n",
       "      <th>density</th>\n",
       "      <th>geometry</th>\n",
       "    </tr>\n",
       "  </thead>\n",
       "  <tbody>\n",
       "    <tr>\n",
       "      <th>0</th>\n",
       "      <td>01</td>\n",
       "      <td>Alabama</td>\n",
       "      <td>94.650</td>\n",
       "      <td>POINT (817707.727 -806908.935)</td>\n",
       "    </tr>\n",
       "    <tr>\n",
       "      <th>1</th>\n",
       "      <td>02</td>\n",
       "      <td>Alaska</td>\n",
       "      <td>1.264</td>\n",
       "      <td>POINT (-2731552.814 3579656.886)</td>\n",
       "    </tr>\n",
       "    <tr>\n",
       "      <th>2</th>\n",
       "      <td>04</td>\n",
       "      <td>Arizona</td>\n",
       "      <td>57.050</td>\n",
       "      <td>POINT (-1363318.591 -558633.562)</td>\n",
       "    </tr>\n",
       "    <tr>\n",
       "      <th>3</th>\n",
       "      <td>05</td>\n",
       "      <td>Arkansas</td>\n",
       "      <td>56.430</td>\n",
       "      <td>POINT (308210.284 -593478.999)</td>\n",
       "    </tr>\n",
       "    <tr>\n",
       "      <th>4</th>\n",
       "      <td>06</td>\n",
       "      <td>California</td>\n",
       "      <td>241.700</td>\n",
       "      <td>POINT (-1948054.320 -87693.537)</td>\n",
       "    </tr>\n",
       "  </tbody>\n",
       "</table>\n",
       "</div>"
      ],
      "text/plain": [
       "   id        name  density                          geometry\n",
       "0  01     Alabama   94.650    POINT (817707.727 -806908.935)\n",
       "1  02      Alaska    1.264  POINT (-2731552.814 3579656.886)\n",
       "2  04     Arizona   57.050  POINT (-1363318.591 -558633.562)\n",
       "3  05    Arkansas   56.430    POINT (308210.284 -593478.999)\n",
       "4  06  California  241.700   POINT (-1948054.320 -87693.537)"
      ]
     },
     "execution_count": 28,
     "metadata": {},
     "output_type": "execute_result"
    }
   ],
   "source": [
    "gdf_points.head()"
   ]
  },
  {
   "cell_type": "code",
   "execution_count": 29,
   "id": "6c4234fc-dde2-4cdb-adf9-ac27ff6ff117",
   "metadata": {},
   "outputs": [],
   "source": [
    "geodf = gdf_points[[\"id\", \"geometry\"]].copy()"
   ]
  },
  {
   "cell_type": "code",
   "execution_count": 30,
   "id": "95dea467-ff49-42e8-b160-bd40d079240d",
   "metadata": {},
   "outputs": [
    {
     "data": {
      "text/html": [
       "<div>\n",
       "<style scoped>\n",
       "    .dataframe tbody tr th:only-of-type {\n",
       "        vertical-align: middle;\n",
       "    }\n",
       "\n",
       "    .dataframe tbody tr th {\n",
       "        vertical-align: top;\n",
       "    }\n",
       "\n",
       "    .dataframe thead th {\n",
       "        text-align: right;\n",
       "    }\n",
       "</style>\n",
       "<table border=\"1\" class=\"dataframe\">\n",
       "  <thead>\n",
       "    <tr style=\"text-align: right;\">\n",
       "      <th></th>\n",
       "      <th>id</th>\n",
       "      <th>geometry</th>\n",
       "    </tr>\n",
       "  </thead>\n",
       "  <tbody>\n",
       "    <tr>\n",
       "      <th>0</th>\n",
       "      <td>01</td>\n",
       "      <td>POINT (817707.727 -806908.935)</td>\n",
       "    </tr>\n",
       "    <tr>\n",
       "      <th>1</th>\n",
       "      <td>02</td>\n",
       "      <td>POINT (-2731552.814 3579656.886)</td>\n",
       "    </tr>\n",
       "    <tr>\n",
       "      <th>2</th>\n",
       "      <td>04</td>\n",
       "      <td>POINT (-1363318.591 -558633.562)</td>\n",
       "    </tr>\n",
       "    <tr>\n",
       "      <th>3</th>\n",
       "      <td>05</td>\n",
       "      <td>POINT (308210.284 -593478.999)</td>\n",
       "    </tr>\n",
       "    <tr>\n",
       "      <th>4</th>\n",
       "      <td>06</td>\n",
       "      <td>POINT (-1948054.320 -87693.537)</td>\n",
       "    </tr>\n",
       "  </tbody>\n",
       "</table>\n",
       "</div>"
      ],
      "text/plain": [
       "   id                          geometry\n",
       "0  01    POINT (817707.727 -806908.935)\n",
       "1  02  POINT (-2731552.814 3579656.886)\n",
       "2  04  POINT (-1363318.591 -558633.562)\n",
       "3  05    POINT (308210.284 -593478.999)\n",
       "4  06   POINT (-1948054.320 -87693.537)"
      ]
     },
     "execution_count": 30,
     "metadata": {},
     "output_type": "execute_result"
    }
   ],
   "source": [
    "geodf.head()"
   ]
  },
  {
   "cell_type": "code",
   "execution_count": 31,
   "id": "4a9041e8-4384-40ab-9510-16682b880947",
   "metadata": {},
   "outputs": [],
   "source": [
    "geo_df = gpd.GeoDataFrame(df.merge(geodf, left_on=\"state_fips\", right_on=\"id\"))"
   ]
  },
  {
   "cell_type": "markdown",
   "id": "ee3ad64a-aea8-479e-a35a-cbb38d4a6741",
   "metadata": {},
   "source": [
    "---"
   ]
  },
  {
   "cell_type": "markdown",
   "id": "6fbeee84-ddf8-4efb-a493-3bdd65d4e4b2",
   "metadata": {},
   "source": [
    "### Export"
   ]
  },
  {
   "cell_type": "code",
   "execution_count": 32,
   "id": "64bbaa33-d14a-47f0-9353-7df092ce951b",
   "metadata": {},
   "outputs": [],
   "source": [
    "geo_df.to_csv(\"data/processed/lettuce_acres_harvested_states_2017.csv\", index=False)"
   ]
  },
  {
   "cell_type": "code",
   "execution_count": 33,
   "id": "e085b018-30a2-44c8-ab8b-47a64b72f213",
   "metadata": {},
   "outputs": [
    {
     "name": "stderr",
     "output_type": "stream",
     "text": [
      "Unable to revert mtime: /Library/Fonts\n"
     ]
    },
    {
     "data": {
      "text/plain": [
       "<AxesSubplot:>"
      ]
     },
     "execution_count": 33,
     "metadata": {},
     "output_type": "execute_result"
    },
    {
     "data": {
      "image/png": "[encoded data removed]",
      "text/plain": [
       "<Figure size 432x288 with 1 Axes>"
      ]
     },
     "metadata": {
      "needs_background": "light"
     },
     "output_type": "display_data"
    }
   ],
   "source": [
    "geo_df.plot()"
   ]
  },
  {
   "cell_type": "code",
   "execution_count": 34,
   "id": "d1a6f6c9-ecea-41a2-bccb-aae5f3182d4a",
   "metadata": {},
   "outputs": [],
   "source": [
    "geo_df.to_file(\n",
    "    \"data/processed/lettuce_acres_harvested_states_2017.geojson\", driver=\"GeoJSON\"\n",
    ")"
   ]
  }
 ],
 "metadata": {
  "kernelspec": {
   "display_name": "Python 3 (ipykernel)",
   "language": "python",
   "name": "python3"
  },
  "language_info": {
   "codemirror_mode": {
    "name": "ipython",
    "version": 3
   },
   "file_extension": ".py",
   "mimetype": "text/x-python",
   "name": "python",
   "nbconvert_exporter": "python",
   "pygments_lexer": "ipython3",
   "version": "3.8.9"
  }
 },
 "nbformat": 4,
 "nbformat_minor": 5
}
