{
 "cells": [
  {
   "cell_type": "markdown",
   "id": "7ec7c430-b003-4458-85dd-d37c457ead7c",
   "metadata": {},
   "source": [
    "# USDA Ag Census: Lettuce as a share of each county's harvested veggies"
   ]
  },
  {
   "cell_type": "code",
   "execution_count": 1,
   "id": "35ed9808-aae2-4c81-849d-276aeba2e894",
   "metadata": {},
   "outputs": [],
   "source": [
    "%load_ext lab_black"
   ]
  },
  {
   "cell_type": "code",
   "execution_count": 2,
   "id": "c248ee23-14cd-4530-b3a3-3c07f6479bc3",
   "metadata": {},
   "outputs": [],
   "source": [
    "import pandas as pd\n",
    "import geopandas as gpd"
   ]
  },
  {
   "cell_type": "code",
   "execution_count": 3,
   "id": "e7acc287-defe-4480-8fa4-35df79844dc2",
   "metadata": {},
   "outputs": [],
   "source": [
    "pd.options.display.max_columns = 1000\n",
    "pd.options.display.max_rows = 1000\n",
    "pd.options.display.max_colwidth = None"
   ]
  },
  {
   "cell_type": "markdown",
   "id": "ea224688-8735-415a-b70d-8b3b70a156e6",
   "metadata": {},
   "source": [
    "## Read USDA data (from [here](https://www.nass.usda.gov/Publications/AgCensus/2017/Online_Resources/Ag_Census_Web_Maps/Data_download/index.php))"
   ]
  },
  {
   "cell_type": "markdown",
   "id": "5c51c622-30e3-44f2-b817-d3c8fc59de92",
   "metadata": {},
   "source": [
    "#### Variable names lookup"
   ]
  },
  {
   "cell_type": "code",
   "execution_count": 4,
   "id": "08fdffce-69c2-4d3e-bf10-bebec1e75664",
   "metadata": {},
   "outputs": [],
   "source": [
    "variables = pd.read_excel(\n",
    "    \"data/raw/NASSAgcensusDownload2017GIS.xlsx\", sheet_name=\"Variable Lookup\"\n",
    ")"
   ]
  },
  {
   "cell_type": "code",
   "execution_count": 5,
   "id": "e927a6db-fdd1-440d-b365-2436fea9978b",
   "metadata": {},
   "outputs": [
    {
     "data": {
      "text/html": [
       "<div>\n",
       "<style scoped>\n",
       "    .dataframe tbody tr th:only-of-type {\n",
       "        vertical-align: middle;\n",
       "    }\n",
       "\n",
       "    .dataframe tbody tr th {\n",
       "        vertical-align: top;\n",
       "    }\n",
       "\n",
       "    .dataframe thead th {\n",
       "        text-align: right;\n",
       "    }\n",
       "</style>\n",
       "<table border=\"1\" class=\"dataframe\">\n",
       "  <thead>\n",
       "    <tr style=\"text-align: right;\">\n",
       "      <th></th>\n",
       "      <th>MapID</th>\n",
       "      <th>Category</th>\n",
       "      <th>Subcategory</th>\n",
       "      <th>MapTitle</th>\n",
       "    </tr>\n",
       "  </thead>\n",
       "  <tbody>\n",
       "    <tr>\n",
       "      <th>53</th>\n",
       "      <td>y17_M176</td>\n",
       "      <td>Crops and Plants</td>\n",
       "      <td>Vegetables and Melons Harvested</td>\n",
       "      <td>All Lettuce, Acres Harvested for Sale, as Percent of Vegetables, Harvested Acres for Sale: 2017</td>\n",
       "    </tr>\n",
       "  </tbody>\n",
       "</table>\n",
       "</div>"
      ],
      "text/plain": [
       "       MapID          Category                      Subcategory  \\\n",
       "53  y17_M176  Crops and Plants  Vegetables and Melons Harvested   \n",
       "\n",
       "                                                                                           MapTitle  \n",
       "53  All Lettuce, Acres Harvested for Sale, as Percent of Vegetables, Harvested Acres for Sale: 2017  "
      ]
     },
     "execution_count": 5,
     "metadata": {},
     "output_type": "execute_result"
    }
   ],
   "source": [
    "variables[variables[\"MapTitle\"].str.contains(\"Lettuce\")]"
   ]
  },
  {
   "cell_type": "markdown",
   "id": "98b3a878-1705-4999-9a56-64d34f0c2967",
   "metadata": {},
   "source": [
    "#### Counties"
   ]
  },
  {
   "cell_type": "code",
   "execution_count": 6,
   "id": "a9689b45-5335-4578-8385-e20188ef3b1e",
   "metadata": {},
   "outputs": [],
   "source": [
    "counties = pd.read_excel(\n",
    "    \"data/raw/NASSAgcensusDownload2017GIS.xlsx\", sheet_name=\"County Names\"\n",
    ")"
   ]
  },
  {
   "cell_type": "markdown",
   "id": "cdb3254d-9183-453a-821d-435f85b4d762",
   "metadata": {},
   "source": [
    "#### Crops"
   ]
  },
  {
   "cell_type": "code",
   "execution_count": 7,
   "id": "71cdebe9-181f-4115-874a-7081170fa3db",
   "metadata": {},
   "outputs": [],
   "source": [
    "crops = pd.read_excel(\n",
    "    \"data/raw/NASSAgcensusDownload2017GIS.xlsx\",\n",
    "    sheet_name=\"Crops and Plants\",\n",
    "    dtype={\"FIPS\": str, \"FIPSTEXT\": str},\n",
    ")"
   ]
  },
  {
   "cell_type": "markdown",
   "id": "0680ccb8-cd6d-4745-8f4f-862ab48863b0",
   "metadata": {},
   "source": [
    "#### Filter crops to just lettuce"
   ]
  },
  {
   "cell_type": "code",
   "execution_count": 8,
   "id": "0f2aae56-0f3d-4b40-875f-e78f8e0b6fc9",
   "metadata": {},
   "outputs": [
    {
     "data": {
      "text/plain": [
       "['y17_M176_valueText', 'y17_M176_classRange', 'y17_M176_valueNumeric']"
      ]
     },
     "execution_count": 8,
     "metadata": {},
     "output_type": "execute_result"
    }
   ],
   "source": [
    "crops_cols = [col for col in crops.columns if \"y17_M176\" in col]\n",
    "crops_cols"
   ]
  },
  {
   "cell_type": "markdown",
   "id": "4f21e609-cf26-43fe-b160-af98ca54dc3f",
   "metadata": {},
   "source": [
    "#### How much of each county's harvested veggies are lettuce"
   ]
  },
  {
   "cell_type": "code",
   "execution_count": 9,
   "id": "45ddccb0-3a4c-49dc-b402-49862c59365f",
   "metadata": {},
   "outputs": [],
   "source": [
    "crops_df = crops[\n",
    "    [\n",
    "        \"FIPSTEXT\",\n",
    "        \"y17_M176_classRange\",\n",
    "        \"y17_M176_valueNumeric\",\n",
    "    ]\n",
    "].copy()"
   ]
  },
  {
   "cell_type": "code",
   "execution_count": 10,
   "id": "f4413ca4-0a39-4207-8620-dd42bbd1430b",
   "metadata": {},
   "outputs": [
    {
     "data": {
      "text/html": [
       "<div>\n",
       "<style scoped>\n",
       "    .dataframe tbody tr th:only-of-type {\n",
       "        vertical-align: middle;\n",
       "    }\n",
       "\n",
       "    .dataframe tbody tr th {\n",
       "        vertical-align: top;\n",
       "    }\n",
       "\n",
       "    .dataframe thead th {\n",
       "        text-align: right;\n",
       "    }\n",
       "</style>\n",
       "<table border=\"1\" class=\"dataframe\">\n",
       "  <thead>\n",
       "    <tr style=\"text-align: right;\">\n",
       "      <th></th>\n",
       "      <th>FIPSTEXT</th>\n",
       "      <th>y17_M176_classRange</th>\n",
       "      <th>y17_M176_valueNumeric</th>\n",
       "    </tr>\n",
       "  </thead>\n",
       "  <tbody>\n",
       "    <tr>\n",
       "      <th>0</th>\n",
       "      <td>00000</td>\n",
       "      <td>NaN</td>\n",
       "      <td>7.86</td>\n",
       "    </tr>\n",
       "    <tr>\n",
       "      <th>1</th>\n",
       "      <td>01001</td>\n",
       "      <td>Less than 1</td>\n",
       "      <td>0.00</td>\n",
       "    </tr>\n",
       "    <tr>\n",
       "      <th>2</th>\n",
       "      <td>01003</td>\n",
       "      <td>Less than 1</td>\n",
       "      <td>NaN</td>\n",
       "    </tr>\n",
       "    <tr>\n",
       "      <th>3</th>\n",
       "      <td>01005</td>\n",
       "      <td>Less than 1</td>\n",
       "      <td>0.00</td>\n",
       "    </tr>\n",
       "    <tr>\n",
       "      <th>4</th>\n",
       "      <td>01007</td>\n",
       "      <td>Less than 1</td>\n",
       "      <td>0.00</td>\n",
       "    </tr>\n",
       "  </tbody>\n",
       "</table>\n",
       "</div>"
      ],
      "text/plain": [
       "  FIPSTEXT y17_M176_classRange  y17_M176_valueNumeric\n",
       "0    00000                 NaN                   7.86\n",
       "1    01001         Less than 1                   0.00\n",
       "2    01003         Less than 1                    NaN\n",
       "3    01005         Less than 1                   0.00\n",
       "4    01007         Less than 1                   0.00"
      ]
     },
     "execution_count": 10,
     "metadata": {},
     "output_type": "execute_result"
    }
   ],
   "source": [
    "crops_df.head()"
   ]
  },
  {
   "cell_type": "code",
   "execution_count": 11,
   "id": "33966dbc-2ad9-41b2-94b7-45d524a40d2b",
   "metadata": {},
   "outputs": [],
   "source": [
    "crops_df.rename(\n",
    "    columns={\n",
    "        \"FIPSTEXT\": \"fips\",\n",
    "        \"y17_M176_classRange\": \"pct_range\",\n",
    "        \"y17_M176_valueNumeric\": \"pct_lettuce\",\n",
    "    },\n",
    "    inplace=True,\n",
    ")"
   ]
  },
  {
   "cell_type": "code",
   "execution_count": 12,
   "id": "6f807ee6-531d-47bf-a6e2-3760b75a321f",
   "metadata": {},
   "outputs": [],
   "source": [
    "crops_df.drop(0, inplace=True)"
   ]
  },
  {
   "cell_type": "code",
   "execution_count": 13,
   "id": "27b8907c-6b23-44a7-8c02-bd008f9920db",
   "metadata": {},
   "outputs": [],
   "source": [
    "df = crops_df[crops_df[\"pct_lettuce\"] > 0.01].reset_index()"
   ]
  },
  {
   "cell_type": "markdown",
   "id": "b16980fb-9ade-4381-a1a0-1e38efd59bc1",
   "metadata": {},
   "source": [
    "---"
   ]
  },
  {
   "cell_type": "markdown",
   "id": "35055308-b87e-4d19-9182-7ba99d317bab",
   "metadata": {},
   "source": [
    "## Geography"
   ]
  },
  {
   "cell_type": "markdown",
   "id": "9127cbef-9d23-4401-9768-ecffc1e6130d",
   "metadata": {},
   "source": [
    "#### Counties"
   ]
  },
  {
   "cell_type": "code",
   "execution_count": 14,
   "id": "3050efdf-90dc-4a6d-a072-2030fe55750a",
   "metadata": {},
   "outputs": [],
   "source": [
    "gdf_src = gpd.read_file(\"data/processed/usa_counties_slim.geojson\")"
   ]
  },
  {
   "cell_type": "code",
   "execution_count": 15,
   "id": "0cd6061c-1f2f-4afc-83a1-8d357242c199",
   "metadata": {},
   "outputs": [],
   "source": [
    "gdf = gdf_src[\n",
    "    [\n",
    "        \"fips\",\n",
    "        \"name\",\n",
    "        \"state_name\",\n",
    "        \"pop2010\",\n",
    "        \"pop10_sqmi\",\n",
    "        \"sqmi\",\n",
    "        \"no_farms17\",\n",
    "        \"ave_size17\",\n",
    "        \"crop_acr17\",\n",
    "        \"ave_sale17\",\n",
    "        \"geometry\",\n",
    "    ]\n",
    "].copy()"
   ]
  },
  {
   "cell_type": "markdown",
   "id": "351f17f0-95c3-448d-9d6d-6c242deb1116",
   "metadata": {},
   "source": [
    "#### Merge with lettuce data"
   ]
  },
  {
   "cell_type": "code",
   "execution_count": 16,
   "id": "e7c8c5d6-fa1d-4bbd-9bd3-e04f57698f21",
   "metadata": {},
   "outputs": [],
   "source": [
    "lettuce_gdf = gpd.GeoDataFrame(pd.merge(df, gdf, on=\"fips\"))"
   ]
  },
  {
   "cell_type": "code",
   "execution_count": 17,
   "id": "1af329c0-b88a-4a3c-bc70-31cc5d05c92f",
   "metadata": {},
   "outputs": [
    {
     "data": {
      "text/plain": [
       "<AxesSubplot:>"
      ]
     },
     "execution_count": 17,
     "metadata": {},
     "output_type": "execute_result"
    },
    {
     "data": {
      "image/png": "[encoded data removed]",
      "text/plain": [
       "<Figure size 432x288 with 1 Axes>"
      ]
     },
     "metadata": {
      "needs_background": "light"
     },
     "output_type": "display_data"
    }
   ],
   "source": [
    "lettuce_gdf.plot()"
   ]
  },
  {
   "cell_type": "code",
   "execution_count": 18,
   "id": "495b4bde-a86f-4d92-99f1-b449981635bb",
   "metadata": {},
   "outputs": [],
   "source": [
    "lettuce_gdf.to_file(\"data/processed/lettuce_counties.geojson\", driver=\"GeoJSON\")"
   ]
  }
 ],
 "metadata": {
  "kernelspec": {
   "display_name": "Python 3 (ipykernel)",
   "language": "python",
   "name": "python3"
  },
  "language_info": {
   "codemirror_mode": {
    "name": "ipython",
    "version": 3
   },
   "file_extension": ".py",
   "mimetype": "text/x-python",
   "name": "python",
   "nbconvert_exporter": "python",
   "pygments_lexer": "ipython3",
   "version": "3.8.9"
  }
 },
 "nbformat": 4,
 "nbformat_minor": 5
}
