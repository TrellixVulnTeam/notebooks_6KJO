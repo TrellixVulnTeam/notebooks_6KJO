{
 "cells": [
  {
   "cell_type": "markdown",
   "id": "caa036a5-9416-47d3-a445-daf7b7ffc5bc",
   "metadata": {},
   "source": [
    "# Ag Census API"
   ]
  },
  {
   "cell_type": "code",
   "execution_count": 1,
   "id": "9c712f5e-fb6c-441c-ac68-15a8891a622e",
   "metadata": {},
   "outputs": [],
   "source": [
    "import pandas as pd\n",
    "\n",
    "%load_ext lab_black"
   ]
  },
  {
   "cell_type": "code",
   "execution_count": 2,
   "id": "bf94d3d4-9663-448a-ad9c-79e093d0690c",
   "metadata": {},
   "outputs": [],
   "source": [
    "pd.options.display.max_columns = 100\n",
    "pd.options.display.max_rows = 1000\n",
    "pd.options.display.max_colwidth = None"
   ]
  },
  {
   "cell_type": "code",
   "execution_count": 3,
   "id": "23bab5e1-38c6-450b-9a7c-3ca456a80d90",
   "metadata": {},
   "outputs": [],
   "source": [
    "# Docs: https://quickstats.nass.usda.gov/api"
   ]
  },
  {
   "cell_type": "code",
   "execution_count": 4,
   "id": "6fc376dd-cdb9-43e9-afae-f17f0a86fa92",
   "metadata": {},
   "outputs": [],
   "source": [
    "url = \"https://quickstats.nass.usda.gov/api/api_GET/?key=AC674188-C7A8-3905-9AB7-1FA1DAEDEEF0&commodity_desc=LETTUCE&agg_level_desc=COUNTY&year=2017&format=JSON\""
   ]
  },
  {
   "cell_type": "code",
   "execution_count": 5,
   "id": "6b6cc56e-4daa-417e-b02e-a394bdd6e4bd",
   "metadata": {},
   "outputs": [],
   "source": [
    "src = pd.read_json(url)"
   ]
  },
  {
   "cell_type": "code",
   "execution_count": 6,
   "id": "d8e86afc-31e5-4cf4-91ca-8d71959a7fd2",
   "metadata": {},
   "outputs": [],
   "source": [
    "data = []\n",
    "\n",
    "for r in src[\"data\"]:\n",
    "    data.append(r)"
   ]
  },
  {
   "cell_type": "code",
   "execution_count": 7,
   "id": "5f8226c0-d595-4937-a636-a9b9058326ac",
   "metadata": {},
   "outputs": [],
   "source": [
    "src = pd.DataFrame(data)"
   ]
  },
  {
   "cell_type": "code",
   "execution_count": 8,
   "id": "60545c10-c59e-4141-853c-92475ae8ee42",
   "metadata": {},
   "outputs": [
    {
     "data": {
      "text/plain": [
       "LETTUCE - ACRES HARVESTED                                          1673\n",
       "LETTUCE, FRESH MARKET - ACRES HARVESTED                            1634\n",
       "LETTUCE, FRESH MARKET - OPERATIONS WITH AREA HARVESTED             1634\n",
       "LETTUCE - OPERATIONS WITH AREA HARVESTED                           1634\n",
       "LETTUCE, LEAF, FRESH MARKET - OPERATIONS WITH AREA HARVESTED       1465\n",
       "LETTUCE, LEAF - OPERATIONS WITH AREA HARVESTED                     1465\n",
       "LETTUCE, LEAF, FRESH MARKET - ACRES HARVESTED                      1465\n",
       "LETTUCE, LEAF - ACRES HARVESTED                                    1465\n",
       "LETTUCE, HEAD - ACRES HARVESTED                                     970\n",
       "LETTUCE, HEAD, FRESH MARKET - OPERATIONS WITH AREA HARVESTED        970\n",
       "LETTUCE, HEAD, FRESH MARKET - ACRES HARVESTED                       970\n",
       "LETTUCE, HEAD - OPERATIONS WITH AREA HARVESTED                      970\n",
       "LETTUCE, ROMAINE, FRESH MARKET - ACRES HARVESTED                    957\n",
       "LETTUCE, ROMAINE, FRESH MARKET - OPERATIONS WITH AREA HARVESTED     957\n",
       "LETTUCE, ROMAINE - ACRES HARVESTED                                  957\n",
       "LETTUCE, ROMAINE - OPERATIONS WITH AREA HARVESTED                   957\n",
       "Name: short_desc, dtype: int64"
      ]
     },
     "execution_count": 8,
     "metadata": {},
     "output_type": "execute_result"
    }
   ],
   "source": [
    "src.short_desc.value_counts()"
   ]
  },
  {
   "cell_type": "code",
   "execution_count": 9,
   "id": "74078c74-2d06-474b-a382-175c6b129beb",
   "metadata": {},
   "outputs": [],
   "source": [
    "src.columns = src.columns.str.lower().str.replace(\" \", \"_\", regex=True)"
   ]
  },
  {
   "cell_type": "code",
   "execution_count": 10,
   "id": "24a92879-1100-48f2-9c50-5037596a7dca",
   "metadata": {},
   "outputs": [],
   "source": [
    "src.rename(\n",
    "    columns={\"state_ansi\": \"state_fips\", \"county_ansi\": \"county_fips\"}, inplace=True\n",
    ")"
   ]
  },
  {
   "cell_type": "code",
   "execution_count": 11,
   "id": "a622cffa-1716-4c46-9cb3-1e4e1dc78553",
   "metadata": {},
   "outputs": [],
   "source": [
    "src_slim = src[\n",
    "    [\n",
    "        \"year\",\n",
    "        \"agg_level_desc\",\n",
    "        \"state_name\",\n",
    "        \"state_fips\",\n",
    "        \"county_name\",\n",
    "        \"county_fips\",\n",
    "        \"short_desc\",\n",
    "        \"domain_desc\",\n",
    "        \"value\",\n",
    "    ]\n",
    "].copy()"
   ]
  },
  {
   "cell_type": "code",
   "execution_count": 12,
   "id": "5fb41af4-7bad-49ad-9665-905487196923",
   "metadata": {},
   "outputs": [],
   "source": [
    "src_slim[\"agg_level_desc\"] = src_slim[\"agg_level_desc\"].str.title()\n",
    "src_slim[\"county_name\"] = src_slim[\"county_name\"].str.title()\n",
    "src_slim[\"state_name\"] = src_slim[\"state_name\"].str.title()\n",
    "src_slim[\"short_desc\"] = src_slim[\"short_desc\"].str.title()\n",
    "src_slim[\"domain_desc\"] = src_slim[\"domain_desc\"].str.title()"
   ]
  },
  {
   "cell_type": "code",
   "execution_count": 13,
   "id": "c1f2a696-8c41-4c3c-b56e-b8a5fbfe0fad",
   "metadata": {},
   "outputs": [],
   "source": [
    "src_slim[\"value\"] = (\n",
    "    src_slim[\"value\"]\n",
    "    .str.strip(\" \")\n",
    "    .str.replace(\"(D)\", \"0\", regex=False)\n",
    "    .str.replace(\"(Z)\", \"0\", regex=False)\n",
    "    .str.replace(\",\", \"\", regex=False)\n",
    "    .astype(int)\n",
    ")"
   ]
  },
  {
   "cell_type": "markdown",
   "id": "1dcd7946-411b-48e1-87b2-030f69ea1a33",
   "metadata": {},
   "source": [
    "### What types of reports are available? "
   ]
  },
  {
   "cell_type": "code",
   "execution_count": 14,
   "id": "55b27c89-0584-4176-96d8-81e6bc5eaa58",
   "metadata": {},
   "outputs": [
    {
     "data": {
      "text/plain": [
       "Lettuce - Acres Harvested                                          1673\n",
       "Lettuce, Fresh Market - Operations With Area Harvested             1634\n",
       "Lettuce, Fresh Market - Acres Harvested                            1634\n",
       "Lettuce - Operations With Area Harvested                           1634\n",
       "Lettuce, Leaf, Fresh Market - Operations With Area Harvested       1465\n",
       "Lettuce, Leaf - Operations With Area Harvested                     1465\n",
       "Lettuce, Leaf, Fresh Market - Acres Harvested                      1465\n",
       "Lettuce, Leaf - Acres Harvested                                    1465\n",
       "Lettuce, Head - Acres Harvested                                     970\n",
       "Lettuce, Head, Fresh Market - Operations With Area Harvested        970\n",
       "Lettuce, Head, Fresh Market - Acres Harvested                       970\n",
       "Lettuce, Head - Operations With Area Harvested                      970\n",
       "Lettuce, Romaine - Operations With Area Harvested                   957\n",
       "Lettuce, Romaine, Fresh Market - Operations With Area Harvested     957\n",
       "Lettuce, Romaine, Fresh Market - Acres Harvested                    957\n",
       "Lettuce, Romaine - Acres Harvested                                  957\n",
       "Name: short_desc, dtype: int64"
      ]
     },
     "execution_count": 14,
     "metadata": {},
     "output_type": "execute_result"
    }
   ],
   "source": [
    "src_slim.short_desc.value_counts()"
   ]
  },
  {
   "cell_type": "code",
   "execution_count": 15,
   "id": "b275a99d-2d7b-48c7-8def-182af8186250",
   "metadata": {},
   "outputs": [
    {
     "data": {
      "text/plain": [
       "['Lettuce, Fresh Market - Acres Harvested',\n",
       " 'Lettuce, Leaf, Fresh Market - Acres Harvested',\n",
       " 'Lettuce, Head, Fresh Market - Acres Harvested',\n",
       " 'Lettuce, Romaine, Fresh Market - Operations With Area Harvested']"
      ]
     },
     "execution_count": 15,
     "metadata": {},
     "output_type": "execute_result"
    }
   ],
   "source": [
    "types = [\n",
    "    \"Lettuce, Fresh Market - Acres Harvested\",\n",
    "    \"Lettuce, Leaf, Fresh Market - Acres Harvested\",\n",
    "    \"Lettuce, Head, Fresh Market - Acres Harvested\",\n",
    "    \"Lettuce, Romaine, Fresh Market - Operations With Area Harvested\",\n",
    "]\n",
    "types"
   ]
  },
  {
   "cell_type": "markdown",
   "id": "a4695868-ea2a-4a86-a88b-4c6e76af4693",
   "metadata": {},
   "source": [
    "---"
   ]
  },
  {
   "cell_type": "markdown",
   "id": "a7d05429-8e6d-417c-8a0f-58f4143ffa43",
   "metadata": {},
   "source": [
    "### Lettuce, Fresh Market: Acres harvested, by county"
   ]
  },
  {
   "cell_type": "code",
   "execution_count": 16,
   "id": "c520fc82-ad4a-4c65-8b1e-a29838b70cd7",
   "metadata": {},
   "outputs": [],
   "source": [
    "acres_df = (\n",
    "    src_slim[\n",
    "        (src_slim.short_desc == \"Lettuce, Fresh Market - Acres Harvested\")\n",
    "        & (src_slim.domain_desc == \"Total\")\n",
    "    ]\n",
    "    .copy()\n",
    "    .reset_index(drop=True)\n",
    ")"
   ]
  },
  {
   "cell_type": "code",
   "execution_count": 17,
   "id": "1a2110db-12d0-4e34-ad24-559b5cc0650c",
   "metadata": {},
   "outputs": [
    {
     "data": {
      "text/plain": [
       "Total    1634\n",
       "Name: domain_desc, dtype: int64"
      ]
     },
     "execution_count": 17,
     "metadata": {},
     "output_type": "execute_result"
    }
   ],
   "source": [
    "acres_df.domain_desc.value_counts()"
   ]
  },
  {
   "cell_type": "code",
   "execution_count": 18,
   "id": "8beef95a-8df2-4866-a6b4-eca063441664",
   "metadata": {},
   "outputs": [
    {
     "data": {
      "text/html": [
       "<div>\n",
       "<style scoped>\n",
       "    .dataframe tbody tr th:only-of-type {\n",
       "        vertical-align: middle;\n",
       "    }\n",
       "\n",
       "    .dataframe tbody tr th {\n",
       "        vertical-align: top;\n",
       "    }\n",
       "\n",
       "    .dataframe thead th {\n",
       "        text-align: right;\n",
       "    }\n",
       "</style>\n",
       "<table border=\"1\" class=\"dataframe\">\n",
       "  <thead>\n",
       "    <tr style=\"text-align: right;\">\n",
       "      <th></th>\n",
       "      <th>year</th>\n",
       "      <th>agg_level_desc</th>\n",
       "      <th>state_name</th>\n",
       "      <th>state_fips</th>\n",
       "      <th>county_name</th>\n",
       "      <th>county_fips</th>\n",
       "      <th>short_desc</th>\n",
       "      <th>domain_desc</th>\n",
       "      <th>value</th>\n",
       "    </tr>\n",
       "  </thead>\n",
       "  <tbody>\n",
       "    <tr>\n",
       "      <th>79</th>\n",
       "      <td>2017</td>\n",
       "      <td>County</td>\n",
       "      <td>California</td>\n",
       "      <td>06</td>\n",
       "      <td>Monterey</td>\n",
       "      <td>053</td>\n",
       "      <td>Lettuce, Fresh Market - Acres Harvested</td>\n",
       "      <td>Total</td>\n",
       "      <td>169496</td>\n",
       "    </tr>\n",
       "    <tr>\n",
       "      <th>111</th>\n",
       "      <td>2017</td>\n",
       "      <td>County</td>\n",
       "      <td>California</td>\n",
       "      <td>06</td>\n",
       "      <td>Imperial</td>\n",
       "      <td>025</td>\n",
       "      <td>Lettuce, Fresh Market - Acres Harvested</td>\n",
       "      <td>Total</td>\n",
       "      <td>35997</td>\n",
       "    </tr>\n",
       "    <tr>\n",
       "      <th>117</th>\n",
       "      <td>2017</td>\n",
       "      <td>County</td>\n",
       "      <td>California</td>\n",
       "      <td>06</td>\n",
       "      <td>Santa Barbara</td>\n",
       "      <td>083</td>\n",
       "      <td>Lettuce, Fresh Market - Acres Harvested</td>\n",
       "      <td>Total</td>\n",
       "      <td>15745</td>\n",
       "    </tr>\n",
       "    <tr>\n",
       "      <th>94</th>\n",
       "      <td>2017</td>\n",
       "      <td>County</td>\n",
       "      <td>California</td>\n",
       "      <td>06</td>\n",
       "      <td>Fresno</td>\n",
       "      <td>019</td>\n",
       "      <td>Lettuce, Fresh Market - Acres Harvested</td>\n",
       "      <td>Total</td>\n",
       "      <td>4702</td>\n",
       "    </tr>\n",
       "    <tr>\n",
       "      <th>85</th>\n",
       "      <td>2017</td>\n",
       "      <td>County</td>\n",
       "      <td>California</td>\n",
       "      <td>06</td>\n",
       "      <td>Santa Cruz</td>\n",
       "      <td>087</td>\n",
       "      <td>Lettuce, Fresh Market - Acres Harvested</td>\n",
       "      <td>Total</td>\n",
       "      <td>4450</td>\n",
       "    </tr>\n",
       "    <tr>\n",
       "      <th>114</th>\n",
       "      <td>2017</td>\n",
       "      <td>County</td>\n",
       "      <td>California</td>\n",
       "      <td>06</td>\n",
       "      <td>Riverside</td>\n",
       "      <td>065</td>\n",
       "      <td>Lettuce, Fresh Market - Acres Harvested</td>\n",
       "      <td>Total</td>\n",
       "      <td>3189</td>\n",
       "    </tr>\n",
       "    <tr>\n",
       "      <th>82</th>\n",
       "      <td>2017</td>\n",
       "      <td>County</td>\n",
       "      <td>California</td>\n",
       "      <td>06</td>\n",
       "      <td>San Luis Obispo</td>\n",
       "      <td>079</td>\n",
       "      <td>Lettuce, Fresh Market - Acres Harvested</td>\n",
       "      <td>Total</td>\n",
       "      <td>2907</td>\n",
       "    </tr>\n",
       "    <tr>\n",
       "      <th>81</th>\n",
       "      <td>2017</td>\n",
       "      <td>County</td>\n",
       "      <td>California</td>\n",
       "      <td>06</td>\n",
       "      <td>San Benito</td>\n",
       "      <td>069</td>\n",
       "      <td>Lettuce, Fresh Market - Acres Harvested</td>\n",
       "      <td>Total</td>\n",
       "      <td>2688</td>\n",
       "    </tr>\n",
       "    <tr>\n",
       "      <th>118</th>\n",
       "      <td>2017</td>\n",
       "      <td>County</td>\n",
       "      <td>California</td>\n",
       "      <td>06</td>\n",
       "      <td>Ventura</td>\n",
       "      <td>111</td>\n",
       "      <td>Lettuce, Fresh Market - Acres Harvested</td>\n",
       "      <td>Total</td>\n",
       "      <td>2257</td>\n",
       "    </tr>\n",
       "    <tr>\n",
       "      <th>146</th>\n",
       "      <td>2017</td>\n",
       "      <td>County</td>\n",
       "      <td>Colorado</td>\n",
       "      <td>08</td>\n",
       "      <td>Saguache</td>\n",
       "      <td>109</td>\n",
       "      <td>Lettuce, Fresh Market - Acres Harvested</td>\n",
       "      <td>Total</td>\n",
       "      <td>1746</td>\n",
       "    </tr>\n",
       "  </tbody>\n",
       "</table>\n",
       "</div>"
      ],
      "text/plain": [
       "     year agg_level_desc  state_name state_fips      county_name county_fips  \\\n",
       "79   2017         County  California         06         Monterey         053   \n",
       "111  2017         County  California         06         Imperial         025   \n",
       "117  2017         County  California         06    Santa Barbara         083   \n",
       "94   2017         County  California         06           Fresno         019   \n",
       "85   2017         County  California         06       Santa Cruz         087   \n",
       "114  2017         County  California         06        Riverside         065   \n",
       "82   2017         County  California         06  San Luis Obispo         079   \n",
       "81   2017         County  California         06       San Benito         069   \n",
       "118  2017         County  California         06          Ventura         111   \n",
       "146  2017         County    Colorado         08         Saguache         109   \n",
       "\n",
       "                                  short_desc domain_desc   value  \n",
       "79   Lettuce, Fresh Market - Acres Harvested       Total  169496  \n",
       "111  Lettuce, Fresh Market - Acres Harvested       Total   35997  \n",
       "117  Lettuce, Fresh Market - Acres Harvested       Total   15745  \n",
       "94   Lettuce, Fresh Market - Acres Harvested       Total    4702  \n",
       "85   Lettuce, Fresh Market - Acres Harvested       Total    4450  \n",
       "114  Lettuce, Fresh Market - Acres Harvested       Total    3189  \n",
       "82   Lettuce, Fresh Market - Acres Harvested       Total    2907  \n",
       "81   Lettuce, Fresh Market - Acres Harvested       Total    2688  \n",
       "118  Lettuce, Fresh Market - Acres Harvested       Total    2257  \n",
       "146  Lettuce, Fresh Market - Acres Harvested       Total    1746  "
      ]
     },
     "execution_count": 18,
     "metadata": {},
     "output_type": "execute_result"
    }
   ],
   "source": [
    "acres_df.sort_values(\"value\", ascending=False).head(10)"
   ]
  }
 ],
 "metadata": {
  "kernelspec": {
   "display_name": "Python 3",
   "language": "python",
   "name": "python3"
  },
  "language_info": {
   "codemirror_mode": {
    "name": "ipython",
    "version": 3
   },
   "file_extension": ".py",
   "mimetype": "text/x-python",
   "name": "python",
   "nbconvert_exporter": "python",
   "pygments_lexer": "ipython3",
   "version": "3.8.8"
  }
 },
 "nbformat": 4,
 "nbformat_minor": 5
}
