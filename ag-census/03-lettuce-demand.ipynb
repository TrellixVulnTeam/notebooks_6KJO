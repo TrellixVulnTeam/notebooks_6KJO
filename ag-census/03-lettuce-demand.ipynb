{
 "cells": [
  {
   "cell_type": "markdown",
   "id": "0a3ddfe6-da5b-4250-a25d-ca2ce92dc241",
   "metadata": {},
   "source": [
    "# USDA - Lettuce availability per capita\n",
    "The ERS food availability data system includes three distinct but related data series on food and nutrient availability for consumption: food availability data, loss-adjusted food availability data and nutrient availability data. The data serve as proxies for actual consumption at the national level."
   ]
  },
  {
   "cell_type": "markdown",
   "id": "cabe7733-ee27-4002-bee3-6439f2bacfc4",
   "metadata": {
    "tags": []
   },
   "source": [
    "### Import Python tools and Jupyter configuration"
   ]
  },
  {
   "cell_type": "code",
   "execution_count": 2,
   "id": "f75a88c4-b65c-4446-8504-d318c43eecd2",
   "metadata": {},
   "outputs": [],
   "source": [
    "%load_ext lab_black"
   ]
  },
  {
   "cell_type": "code",
   "execution_count": 3,
   "id": "0e63bd54-dd45-48c6-ac6c-1dfdfee1d639",
   "metadata": {},
   "outputs": [],
   "source": [
    "import pandas as pd\n",
    "import geopandas as gpd\n",
    "import altair as alt\n",
    "from datetime import timedelta\n",
    "import numpy as np"
   ]
  },
  {
   "cell_type": "code",
   "execution_count": 4,
   "id": "84b884ac-467c-4737-9337-0fff3bbb66ef",
   "metadata": {},
   "outputs": [],
   "source": [
    "pd.options.display.max_columns = 100\n",
    "pd.options.display.max_rows = 1000\n",
    "pd.options.display.max_colwidth = None"
   ]
  },
  {
   "cell_type": "markdown",
   "id": "2059b611-4961-4a2b-adb9-3ec1edad9abc",
   "metadata": {},
   "source": [
    "---"
   ]
  },
  {
   "cell_type": "code",
   "execution_count": 5,
   "id": "c13784e6-c1ae-4054-8040-26f29303379c",
   "metadata": {},
   "outputs": [],
   "source": [
    "# https://www.ers.usda.gov/data-products/food-availability-per-capita-data-system"
   ]
  },
  {
   "cell_type": "markdown",
   "id": "32252e83-8ed4-4549-b507-89e3e8df3f99",
   "metadata": {},
   "source": [
    "### Read data"
   ]
  },
  {
   "cell_type": "code",
   "execution_count": 18,
   "id": "0d94c819-0382-47ca-a138-5948cae7e6f6",
   "metadata": {},
   "outputs": [],
   "source": [
    "head = pd.read_excel(\n",
    "    \"data/raw/head_lettuce_avail.xlsx\", sheet_name=\"head_lettuce_avail\"\n",
    ")"
   ]
  },
  {
   "cell_type": "code",
   "execution_count": 52,
   "id": "fc23b588-208d-4458-a522-9a760dea0756",
   "metadata": {},
   "outputs": [
    {
     "data": {
      "text/html": [
       "<div>\n",
       "<style scoped>\n",
       "    .dataframe tbody tr th:only-of-type {\n",
       "        vertical-align: middle;\n",
       "    }\n",
       "\n",
       "    .dataframe tbody tr th {\n",
       "        vertical-align: top;\n",
       "    }\n",
       "\n",
       "    .dataframe thead th {\n",
       "        text-align: right;\n",
       "    }\n",
       "</style>\n",
       "<table border=\"1\" class=\"dataframe\">\n",
       "  <thead>\n",
       "    <tr style=\"text-align: right;\">\n",
       "      <th></th>\n",
       "      <th>year</th>\n",
       "      <th>pop</th>\n",
       "      <th>production</th>\n",
       "      <th>imports</th>\n",
       "      <th>total_supply</th>\n",
       "      <th>exports</th>\n",
       "      <th>total</th>\n",
       "      <th>farm_avail</th>\n",
       "      <th>retail_avail</th>\n",
       "      <th>type</th>\n",
       "    </tr>\n",
       "  </thead>\n",
       "  <tbody>\n",
       "    <tr>\n",
       "      <th>0</th>\n",
       "      <td>1960</td>\n",
       "      <td>180.671</td>\n",
       "      <td>4011.1</td>\n",
       "      <td>3.622</td>\n",
       "      <td>4014.722</td>\n",
       "      <td>145.851</td>\n",
       "      <td>3868.871</td>\n",
       "      <td>21.413902</td>\n",
       "      <td>19.914928</td>\n",
       "      <td>head</td>\n",
       "    </tr>\n",
       "    <tr>\n",
       "      <th>1</th>\n",
       "      <td>1961</td>\n",
       "      <td>183.691</td>\n",
       "      <td>3953.4</td>\n",
       "      <td>3.303</td>\n",
       "      <td>3956.703</td>\n",
       "      <td>159.216</td>\n",
       "      <td>3797.487</td>\n",
       "      <td>20.673234</td>\n",
       "      <td>19.226107</td>\n",
       "      <td>head</td>\n",
       "    </tr>\n",
       "    <tr>\n",
       "      <th>2</th>\n",
       "      <td>1962</td>\n",
       "      <td>186.538</td>\n",
       "      <td>3904.4</td>\n",
       "      <td>1.305</td>\n",
       "      <td>3905.705</td>\n",
       "      <td>163.387</td>\n",
       "      <td>3742.318</td>\n",
       "      <td>20.061961</td>\n",
       "      <td>18.657623</td>\n",
       "      <td>head</td>\n",
       "    </tr>\n",
       "    <tr>\n",
       "      <th>3</th>\n",
       "      <td>1963</td>\n",
       "      <td>189.242</td>\n",
       "      <td>4098.5</td>\n",
       "      <td>5.460</td>\n",
       "      <td>4103.960</td>\n",
       "      <td>164.450</td>\n",
       "      <td>3939.510</td>\n",
       "      <td>20.817313</td>\n",
       "      <td>19.360101</td>\n",
       "      <td>head</td>\n",
       "    </tr>\n",
       "    <tr>\n",
       "      <th>4</th>\n",
       "      <td>1964</td>\n",
       "      <td>191.889</td>\n",
       "      <td>4087.1</td>\n",
       "      <td>4.520</td>\n",
       "      <td>4091.620</td>\n",
       "      <td>175.929</td>\n",
       "      <td>3915.691</td>\n",
       "      <td>20.406021</td>\n",
       "      <td>18.977600</td>\n",
       "      <td>head</td>\n",
       "    </tr>\n",
       "  </tbody>\n",
       "</table>\n",
       "</div>"
      ],
      "text/plain": [
       "   year      pop  production  imports  total_supply  exports     total  \\\n",
       "0  1960  180.671      4011.1    3.622      4014.722  145.851  3868.871   \n",
       "1  1961  183.691      3953.4    3.303      3956.703  159.216  3797.487   \n",
       "2  1962  186.538      3904.4    1.305      3905.705  163.387  3742.318   \n",
       "3  1963  189.242      4098.5    5.460      4103.960  164.450  3939.510   \n",
       "4  1964  191.889      4087.1    4.520      4091.620  175.929  3915.691   \n",
       "\n",
       "   farm_avail  retail_avail  type  \n",
       "0   21.413902     19.914928  head  \n",
       "1   20.673234     19.226107  head  \n",
       "2   20.061961     18.657623  head  \n",
       "3   20.817313     19.360101  head  \n",
       "4   20.406021     18.977600  head  "
      ]
     },
     "execution_count": 52,
     "metadata": {},
     "output_type": "execute_result"
    }
   ],
   "source": [
    "head.head()"
   ]
  },
  {
   "cell_type": "code",
   "execution_count": 19,
   "id": "6db958cd-4a4f-46b3-88bd-8b790cd65d93",
   "metadata": {},
   "outputs": [],
   "source": [
    "romaine = pd.read_excel(\n",
    "    \"data/raw/head_lettuce_avail.xlsx\", sheet_name=\"romaine-leaf lettuce\"\n",
    ")"
   ]
  },
  {
   "cell_type": "code",
   "execution_count": 20,
   "id": "e7b42c3d-cdd2-4642-8435-ae1492e231fc",
   "metadata": {},
   "outputs": [],
   "source": [
    "head[\"type\"] = \"head\"\n",
    "romaine[\"type\"] = \"romaine-leaf\""
   ]
  },
  {
   "cell_type": "code",
   "execution_count": 25,
   "id": "1015f4d6-5ddd-44ac-9ddf-7ec21525cb12",
   "metadata": {},
   "outputs": [],
   "source": [
    "src = pd.concat([head, romaine])"
   ]
  },
  {
   "cell_type": "code",
   "execution_count": 39,
   "id": "ab232e6e-aba4-498f-b8a7-f521c8f2d3e3",
   "metadata": {},
   "outputs": [],
   "source": [
    "df = src[src[\"year\"] > 1985].fillna(0).copy()"
   ]
  },
  {
   "cell_type": "markdown",
   "id": "98b2dc7a-a2fc-4d68-86c2-f4a3d70993bc",
   "metadata": {},
   "source": [
    "---"
   ]
  },
  {
   "cell_type": "markdown",
   "id": "e42fc0ce-6aae-4354-9200-5797c028035d",
   "metadata": {},
   "source": [
    "### Per-capita availability (proxy for consumption)"
   ]
  },
  {
   "cell_type": "code",
   "execution_count": 48,
   "id": "d6c633b7-0a4f-4495-b3a3-10eedcc9d1b4",
   "metadata": {},
   "outputs": [
    {
     "data": {
      "text/html": [
       "\n",
       "<div id=\"altair-viz-74c9cdbbd91b4aa88f86a7958e57a81e\"></div>\n",
       "<script type=\"text/javascript\">\n",
       "  var VEGA_DEBUG = (typeof VEGA_DEBUG == \"undefined\") ? {} : VEGA_DEBUG;\n",
       "  (function(spec, embedOpt){\n",
       "    let outputDiv = document.currentScript.previousElementSibling;\n",
       "    if (outputDiv.id !== \"altair-viz-74c9cdbbd91b4aa88f86a7958e57a81e\") {\n",
       "      outputDiv = document.getElementById(\"altair-viz-74c9cdbbd91b4aa88f86a7958e57a81e\");\n",
       "    }\n",
       "    const paths = {\n",
       "      \"vega\": \"https://cdn.jsdelivr.net/npm//vega@5?noext\",\n",
       "      \"vega-lib\": \"https://cdn.jsdelivr.net/npm//vega-lib?noext\",\n",
       "      \"vega-lite\": \"https://cdn.jsdelivr.net/npm//vega-lite@4.17.0?noext\",\n",
       "      \"vega-embed\": \"https://cdn.jsdelivr.net/npm//vega-embed@6?noext\",\n",
       "    };\n",
       "\n",
       "    function maybeLoadScript(lib, version) {\n",
       "      var key = `${lib.replace(\"-\", \"\")}_version`;\n",
       "      return (VEGA_DEBUG[key] == version) ?\n",
       "        Promise.resolve(paths[lib]) :\n",
       "        new Promise(function(resolve, reject) {\n",
       "          var s = document.createElement('script');\n",
       "          document.getElementsByTagName(\"head\")[0].appendChild(s);\n",
       "          s.async = true;\n",
       "          s.onload = () => {\n",
       "            VEGA_DEBUG[key] = version;\n",
       "            return resolve(paths[lib]);\n",
       "          };\n",
       "          s.onerror = () => reject(`Error loading script: ${paths[lib]}`);\n",
       "          s.src = paths[lib];\n",
       "        });\n",
       "    }\n",
       "\n",
       "    function showError(err) {\n",
       "      outputDiv.innerHTML = `<div class=\"error\" style=\"color:red;\">${err}</div>`;\n",
       "      throw err;\n",
       "    }\n",
       "\n",
       "    function displayChart(vegaEmbed) {\n",
       "      vegaEmbed(outputDiv, spec, embedOpt)\n",
       "        .catch(err => showError(`Javascript Error: ${err.message}<br>This usually means there's a typo in your chart specification. See the javascript console for the full traceback.`));\n",
       "    }\n",
       "\n",
       "    if(typeof define === \"function\" && define.amd) {\n",
       "      requirejs.config({paths});\n",
       "      require([\"vega-embed\"], displayChart, err => showError(`Error loading script: ${err.message}`));\n",
       "    } else {\n",
       "      maybeLoadScript(\"vega\", \"5\")\n",
       "        .then(() => maybeLoadScript(\"vega-lite\", \"4.17.0\"))\n",
       "        .then(() => maybeLoadScript(\"vega-embed\", \"6\"))\n",
       "        .catch(showError)\n",
       "        .then(() => displayChart(vegaEmbed));\n",
       "    }\n",
       "  })({\"config\": {\"view\": {\"continuousWidth\": 400, \"continuousHeight\": 300}}, \"data\": {\"name\": \"data-bbb7aa83ec02ef429a9794ea2e4ed5ba\"}, \"mark\": {\"type\": \"area\", \"opacity\": 0.3}, \"encoding\": {\"color\": {\"field\": \"type\", \"type\": \"nominal\"}, \"x\": {\"field\": \"year\", \"type\": \"ordinal\"}, \"y\": {\"field\": \"retail_avail\", \"stack\": null, \"type\": \"quantitative\"}}, \"height\": 400, \"title\": \"lettuce: head vs. romaine/leaf, annual pounds per capita\", \"width\": 650, \"$schema\": \"https://vega.github.io/schema/vega-lite/v4.17.0.json\", \"datasets\": {\"data-bbb7aa83ec02ef429a9794ea2e4ed5ba\": [{\"year\": 1986, \"pop\": 240.651, \"production\": 5829.0, \"imports\": 20.8, \"total_supply\": 5849.8, \"exports\": 553.6, \"total\": 5279.2, \"farm_avail\": 21.93716211443127, \"retail_avail\": 20.40156076642108, \"type\": \"head\"}, {\"year\": 1987, \"pop\": 242.804, \"production\": 6787.7, \"imports\": 18.3, \"total_supply\": 6806.0, \"exports\": 542.5, \"total\": 6242.2, \"farm_avail\": 25.708802161414145, \"retail_avail\": 23.909186010115157, \"type\": \"head\"}, {\"year\": 1988, \"pop\": 245.021, \"production\": 7050.5, \"imports\": 37.4, \"total_supply\": 7087.9, \"exports\": 431.3, \"total\": 6625.4, \"farm_avail\": 27.040131254055776, \"retail_avail\": 25.147322066271872, \"type\": \"head\"}, {\"year\": 1989, \"pop\": 247.342, \"production\": 7523.1, \"imports\": 35.6, \"total_supply\": 7558.700000000001, \"exports\": 463.6, \"total\": 7095.1, \"farm_avail\": 28.68538299197063, \"retail_avail\": 26.67740618253269, \"type\": \"head\"}, {\"year\": 1990, \"pop\": 250.132, \"production\": 7320.1, \"imports\": 17.2, \"total_supply\": 7337.3, \"exports\": 396.917756, \"total\": 6940.382244, \"farm_avail\": 27.746878624086484, \"retail_avail\": 25.80459712040043, \"type\": \"head\"}, {\"year\": 1991, \"pop\": 253.493, \"production\": 7077.8, \"imports\": 21.1, \"total_supply\": 7098.900000000001, \"exports\": 496.714453, \"total\": 6602.185547000001, \"farm_avail\": 26.04484363276304, \"retail_avail\": 24.22170457846963, \"type\": \"head\"}, {\"year\": 1992, \"pop\": 256.894, \"production\": 7081.0, \"imports\": 21.2, \"total_supply\": 7102.2, \"exports\": 476.750188, \"total\": 6625.449812, \"farm_avail\": 25.790597725131764, \"retail_avail\": 23.985255884372542, \"type\": \"head\"}, {\"year\": 1993, \"pop\": 260.255, \"production\": 6781.1, \"imports\": 32.7, \"total_supply\": 6813.8, \"exports\": 463.568769, \"total\": 6350.231231, \"farm_avail\": 24.40003546905919, \"retail_avail\": 22.692032986225048, \"type\": \"head\"}, {\"year\": 1994, \"pop\": 263.436, \"production\": 7005.8, \"imports\": 20.6, \"total_supply\": 7026.400000000001, \"exports\": 438.75608, \"total\": 6587.64392, \"farm_avail\": 25.00661990008959, \"retail_avail\": 23.25615650708332, \"type\": \"head\"}, {\"year\": 1995, \"pop\": 266.557, \"production\": 6234.9, \"imports\": 51.8, \"total_supply\": 6286.7, \"exports\": 377.903482, \"total\": 5908.796518, \"farm_avail\": 22.16710316367606, \"retail_avail\": 20.615405942218736, \"type\": \"head\"}, {\"year\": 1996, \"pop\": 269.667, \"production\": 6207.2, \"imports\": 28.3, \"total_supply\": 6235.5, \"exports\": 417.451662, \"total\": 5818.048338, \"farm_avail\": 21.57493626583898, \"retail_avail\": 20.06469072723025, \"type\": \"head\"}, {\"year\": 1997, \"pop\": 272.912, \"production\": 6879.4, \"imports\": 39.3, \"total_supply\": 6918.7, \"exports\": 395.661292, \"total\": 6523.038708, \"farm_avail\": 23.90161923257314, \"retail_avail\": 22.22850588629302, \"type\": \"head\"}, {\"year\": 1998, \"pop\": 276.115, \"production\": 6546.1, \"imports\": 22.9, \"total_supply\": 6569.0, \"exports\": 404.745765, \"total\": 6164.254235, \"farm_avail\": 22.324952411133044, \"retail_avail\": 20.762205742353732, \"type\": \"head\"}, {\"year\": 1999, \"pop\": 279.295, \"production\": 7318.1, \"imports\": 28.9, \"total_supply\": 7347.0, \"exports\": 390.023059, \"total\": 6956.976941, \"farm_avail\": 24.90906368177017, \"retail_avail\": 23.16542922404626, \"type\": \"head\"}, {\"year\": 2000, \"pop\": 282.385, \"production\": 6967.3, \"imports\": 31.86521372, \"total_supply\": 6999.16521372, \"exports\": 374.23574193999997, \"total\": 6624.92947178, \"farm_avail\": 23.460628120402998, \"retail_avail\": 21.81838415197479, \"type\": \"head\"}, {\"year\": 2001, \"pop\": 285.309019, \"production\": 6891.7, \"imports\": 45.797622860000004, \"total_supply\": 6937.49762286, \"exports\": 378.79017820999997, \"total\": 6558.70744465, \"farm_avail\": 22.988083123478127, \"retail_avail\": 21.37891730483466, \"type\": \"head\"}, {\"year\": 2002, \"pop\": 288.104818, \"production\": 6814.0, \"imports\": 106.55013558, \"total_supply\": 6920.55013558, \"exports\": 425.92878764, \"total\": 6494.621347939999, \"farm_avail\": 22.5425641716967, \"retail_avail\": 20.964584679677934, \"type\": \"head\"}, {\"year\": 2003, \"pop\": 290.819634, \"production\": 6824.8, \"imports\": 94.13687717, \"total_supply\": 6918.93687717, \"exports\": 453.57976221, \"total\": 6465.35711496, \"farm_avail\": 22.231501450001826, \"retail_avail\": 20.6752963485017, \"type\": \"head\"}, {\"year\": 2004, \"pop\": 293.463185, \"production\": 6622.8, \"imports\": 92.01880394, \"total_supply\": 6714.81880394, \"exports\": 476.37159335000007, \"total\": 6238.44721059, \"farm_avail\": 21.258023252865602, \"retail_avail\": 19.76996162516501, \"type\": \"head\"}, {\"year\": 2005, \"pop\": 296.186216, \"production\": 6525.3, \"imports\": 118.97423411000001, \"total_supply\": 6644.27423411, \"exports\": 450.11404445, \"total\": 6194.1601896600005, \"farm_avail\": 20.913060281171223, \"retail_avail\": 19.449146061489238, \"type\": \"head\"}, {\"year\": 2006, \"pop\": 298.995825, \"production\": 6249.4, \"imports\": 110.48430863, \"total_supply\": 6359.884308629999, \"exports\": 363.90404384, \"total\": 5995.98026479, \"farm_avail\": 20.053725716036332, \"retail_avail\": 18.64996491591379, \"type\": \"head\"}, {\"year\": 2007, \"pop\": 302.003917, \"production\": 5747.4, \"imports\": 155.28961660000002, \"total_supply\": 5902.6896166, \"exports\": 353.17450442, \"total\": 5549.51511218, \"farm_avail\": 18.375639519205308, \"retail_avail\": 17.08934475286094, \"type\": \"head\"}, {\"year\": 2008, \"pop\": 304.797761, \"production\": 5295.2, \"imports\": 178.91591626, \"total_supply\": 5474.11591626, \"exports\": 338.410133, \"total\": 5135.705783259999, \"farm_avail\": 16.849552196218397, \"retail_avail\": 15.67008354248311, \"type\": \"head\"}, {\"year\": 2009, \"pop\": 307.439406, \"production\": 5018.0, \"imports\": 196.105481, \"total_supply\": 5214.105481, \"exports\": 262.404455, \"total\": 4951.701026, \"farm_avail\": 16.106266566231913, \"retail_avail\": 14.97882790659568, \"type\": \"head\"}, {\"year\": 2010, \"pop\": 309.741279, \"production\": 5012.0, \"imports\": 220.34225386007998, \"total_supply\": 5232.34225386008, \"exports\": 299.20386138500004, \"total\": 4933.13839247508, \"farm_avail\": 15.926641771486581, \"retail_avail\": 14.811776847482522, \"type\": \"head\"}, {\"year\": 2011, \"pop\": 311.973914, \"production\": 4966.5, \"imports\": 257.36726163829996, \"total_supply\": 5223.8672616383, \"exports\": 296.388671876, \"total\": 4927.4785897623005, \"farm_avail\": 15.794521171928178, \"retail_avail\": 14.688904689893207, \"type\": \"head\"}, {\"year\": 2012, \"pop\": 314.167558, \"production\": 5097.6, \"imports\": 223.66229693984, \"total_supply\": 5321.262296939841, \"exports\": 310.6447831720201, \"total\": 5010.617513767821, \"farm_avail\": 15.948869914085213, \"retail_avail\": 14.832449020099249, \"type\": \"head\"}, {\"year\": 2013, \"pop\": 316.294766, \"production\": 4515.0, \"imports\": 236.42278080013998, \"total_supply\": 4751.42278080014, \"exports\": 292.66700435236, \"total\": 4458.75577644778, \"farm_avail\": 14.09683705119477, \"retail_avail\": 13.110058457611137, \"type\": \"head\"}, {\"year\": 2014, \"pop\": 318.576955, \"production\": 4591.8, \"imports\": 292.48353367134, \"total_supply\": 4884.283533671341, \"exports\": 268.32245713768003, \"total\": 4615.96107653366, \"farm_avail\": 14.489312563533229, \"retail_avail\": 13.475060684085904, \"type\": \"head\"}, {\"year\": 2015, \"pop\": 320.870703, \"production\": 4310.8, \"imports\": 302.77027956823997, \"total_supply\": 4613.57027956824, \"exports\": 260.93206824432, \"total\": 4352.63821132392, \"farm_avail\": 13.565084536009882, \"retail_avail\": 12.615528618489192, \"type\": \"head\"}, {\"year\": 2016, \"pop\": 323.161011, \"production\": 5384.1, \"imports\": 295.46294532414004, \"total_supply\": 5679.56294532414, \"exports\": 269.22081333224, \"total\": 5410.3421319919, \"farm_avail\": 16.741939614713917, \"retail_avail\": 15.570003841683944, \"type\": \"head\"}, {\"year\": 2017, \"pop\": 325.20603, \"production\": 4939.55, \"imports\": 266.76588298206, \"total_supply\": 5206.31588298206, \"exports\": 259.86883072458005, \"total\": 4946.44705225748, \"farm_avail\": 15.210194756405594, \"retail_avail\": 14.145481123457204, \"type\": \"head\"}, {\"year\": 2018, \"pop\": 326.923976, \"production\": 4056.1, \"imports\": 211.62810309233998, \"total_supply\": 4267.72810309234, \"exports\": 258.28262868078, \"total\": 4009.4454744115596, \"farm_avail\": 12.264152429161573, \"retail_avail\": 11.405661759120264, \"type\": \"head\"}, {\"year\": 2019, \"pop\": 328.475998, \"production\": 4144.55, \"imports\": 260.25869352076006, \"total_supply\": 4404.80869352076, \"exports\": 243.50447659648, \"total\": 4161.30421692428, \"farm_avail\": 12.668518376567288, \"retail_avail\": 11.781722090207579, \"type\": \"head\"}, {\"year\": 1986, \"pop\": 240.651, \"production\": 571.2, \"imports\": 0.0, \"total_supply\": 571.2, \"exports\": 0.0, \"total\": 571.2, \"farm_avail\": 2.3735617138511786, \"retail_avail\": 2.2074123938815964, \"type\": \"romaine-leaf\"}, {\"year\": 1987, \"pop\": 242.804, \"production\": 613.0, \"imports\": 0.0, \"total_supply\": 613.0, \"exports\": 0.0, \"total\": 613.0, \"farm_avail\": 2.524670104281643, \"retail_avail\": 2.347943196981928, \"type\": \"romaine-leaf\"}, {\"year\": 1988, \"pop\": 245.021, \"production\": 784.2, \"imports\": 0.0, \"total_supply\": 784.2, \"exports\": 0.0, \"total\": 784.2, \"farm_avail\": 3.2005419943596674, \"retail_avail\": 2.976504054754491, \"type\": \"romaine-leaf\"}, {\"year\": 1989, \"pop\": 247.342, \"production\": 915.8, \"imports\": 23.5, \"total_supply\": 939.3, \"exports\": 57.9, \"total\": 881.4, \"farm_avail\": 3.563486993717201, \"retail_avail\": 3.3140429041569974, \"type\": \"romaine-leaf\"}, {\"year\": 1990, \"pop\": 250.132, \"production\": 1061.6, \"imports\": 12.1, \"total_supply\": 1073.6999999999998, \"exports\": 130.636513, \"total\": 943.0634869999998, \"farm_avail\": 3.7702632490045245, \"retail_avail\": 3.506344821574208, \"type\": \"romaine-leaf\"}, {\"year\": 1991, \"pop\": 253.493, \"production\": 1157.5, \"imports\": 8.3, \"total_supply\": 1165.8, \"exports\": 152.661061, \"total\": 1013.1389389999999, \"farm_avail\": 3.9967136725668952, \"retail_avail\": 3.7169437154872127, \"type\": \"romaine-leaf\"}, {\"year\": 1992, \"pop\": 256.894, \"production\": 1388.7, \"imports\": 5.9, \"total_supply\": 1394.6000000000001, \"exports\": 195.004351, \"total\": 1199.595649, \"farm_avail\": 4.669613338575444, \"retail_avail\": 4.342740404875164, \"type\": \"romaine-leaf\"}, {\"year\": 1993, \"pop\": 260.255, \"production\": 1535.5, \"imports\": 6.8, \"total_supply\": 1542.3, \"exports\": 230.170787, \"total\": 1312.129213, \"farm_avail\": 5.041706069047665, \"retail_avail\": 4.6887866442143284, \"type\": \"romaine-leaf\"}, {\"year\": 1994, \"pop\": 263.436, \"production\": 1710.0, \"imports\": 8.9, \"total_supply\": 1718.9, \"exports\": 223.051249, \"total\": 1495.848751, \"farm_avail\": 5.67822450614191, \"retail_avail\": 5.280748790711977, \"type\": \"romaine-leaf\"}, {\"year\": 1995, \"pop\": 266.557, \"production\": 1787.4, \"imports\": 11.7, \"total_supply\": 1799.1000000000001, \"exports\": 227.86768, \"total\": 1571.23232, \"farm_avail\": 5.89454533176769, \"retail_avail\": 5.481927158543952, \"type\": \"romaine-leaf\"}, {\"year\": 1996, \"pop\": 269.667, \"production\": 1775.6, \"imports\": 16.569809, \"total_supply\": 1792.169809, \"exports\": 223.352479, \"total\": 1568.81733, \"farm_avail\": 5.817609607404689, \"retail_avail\": 5.4103769348863615, \"type\": \"romaine-leaf\"}, {\"year\": 1997, \"pop\": 272.912, \"production\": 2024.5, \"imports\": 28.605449, \"total_supply\": 2053.105449, \"exports\": 253.32073, \"total\": 1799.7847190000002, \"farm_avail\": 6.594743796535148, \"retail_avail\": 6.133111730777689, \"type\": \"romaine-leaf\"}, {\"year\": 1998, \"pop\": 276.115, \"production\": 2076.7, \"imports\": 31.980773, \"total_supply\": 2108.680773, \"exports\": 282.30402, \"total\": 1826.376753, \"farm_avail\": 6.614551013164804, \"retail_avail\": 6.151532442243268, \"type\": \"romaine-leaf\"}, {\"year\": 1999, \"pop\": 279.295, \"production\": 2393.1000000000004, \"imports\": 28.406854000000003, \"total_supply\": 2421.506854, \"exports\": 301.217497, \"total\": 2120.289357, \"farm_avail\": 7.591576494387654, \"retail_avail\": 7.060166139780518, \"type\": \"romaine-leaf\"}, {\"year\": 2000, \"pop\": 282.385, \"production\": 2702.4, \"imports\": 32.76400202, \"total_supply\": 2735.16400202, \"exports\": 367.36467554, \"total\": 2367.79932648, \"farm_avail\": 8.385003900632118, \"retail_avail\": 7.79805362758787, \"type\": \"romaine-leaf\"}, {\"year\": 2001, \"pop\": 285.309019, \"production\": 2646.1000000000004, \"imports\": 34.58741236, \"total_supply\": 2680.6874123600005, \"exports\": 390.44416109, \"total\": 2290.2432512700007, \"farm_avail\": 8.02723748200193, \"retail_avail\": 7.465330858261795, \"type\": \"romaine-leaf\"}, {\"year\": 2002, \"pop\": 288.104818, \"production\": 3197.4, \"imports\": 33.656626200000005, \"total_supply\": 3231.0566262, \"exports\": 466.99524528, \"total\": 2764.0613809200004, \"farm_avail\": 9.59394362131077, \"retail_avail\": 8.922367567819016, \"type\": \"romaine-leaf\"}, {\"year\": 2003, \"pop\": 290.819634, \"production\": 3547.3, \"imports\": 33.13972879, \"total_supply\": 3580.43972879, \"exports\": 433.60927587000003, \"total\": 3146.83045292, \"farm_avail\": 10.82055709113505, \"retail_avail\": 10.063118094755598, \"type\": \"romaine-leaf\"}, {\"year\": 2004, \"pop\": 293.463185, \"production\": 3971.2999999999997, \"imports\": 35.16552104, \"total_supply\": 4006.4655210399997, \"exports\": 489.79849856000004, \"total\": 3516.6670224799996, \"farm_avail\": 11.98333284115348, \"retail_avail\": 11.144499542272737, \"type\": \"romaine-leaf\"}, {\"year\": 2005, \"pop\": 296.186216, \"production\": 3297.3, \"imports\": 51.913009460000005, \"total_supply\": 3349.21300946, \"exports\": 486.31022093, \"total\": 2862.90278853, \"farm_avail\": 9.6658879916613, \"retail_avail\": 8.98927583224501, \"type\": \"romaine-leaf\"}, {\"year\": 2006, \"pop\": 298.995825, \"production\": 3981.7, \"imports\": 61.29701859000001, \"total_supply\": 4042.9970185899997, \"exports\": 460.96694338000003, \"total\": 3582.0300752099997, \"farm_avail\": 11.980200978425032, \"retail_avail\": 11.14158690993528, \"type\": \"romaine-leaf\"}, {\"year\": 2007, \"pop\": 302.003917, \"production\": 3864.9, \"imports\": 74.40335, \"total_supply\": 3939.30335, \"exports\": 453.42177693, \"total\": 3485.8815730700003, \"farm_avail\": 11.54250450688691, \"retail_avail\": 10.734529191404826, \"type\": \"romaine-leaf\"}, {\"year\": 2008, \"pop\": 304.797761, \"production\": 3555.5, \"imports\": 82.5595, \"total_supply\": 3638.0595, \"exports\": 466.104347, \"total\": 3171.955153, \"farm_avail\": 10.406753457089865, \"retail_avail\": 9.678280715093575, \"type\": \"romaine-leaf\"}, {\"year\": 2009, \"pop\": 307.439406, \"production\": 3420.0, \"imports\": 95.611802, \"total_supply\": 3515.611802, \"exports\": 442.517189, \"total\": 3073.0946129999998, \"farm_avail\": 9.995773323215436, \"retail_avail\": 9.296069190590357, \"type\": \"romaine-leaf\"}, {\"year\": 2010, \"pop\": 309.741279, \"production\": 4039.3, \"imports\": 103.33605756386002, \"total_supply\": 4142.63605756386, \"exports\": 422.33686862158, \"total\": 3720.29918894228, \"farm_avail\": 12.010989303567381, \"retail_avail\": 11.170220052317665, \"type\": \"romaine-leaf\"}, {\"year\": 2011, \"pop\": 311.973914, \"production\": 4008.1, \"imports\": 115.4304529697, \"total_supply\": 4123.5304529697, \"exports\": 463.68018023403994, \"total\": 3659.8502727356595, \"farm_avail\": 11.73127017515849, \"retail_avail\": 10.910081262897396, \"type\": \"romaine-leaf\"}, {\"year\": 2012, \"pop\": 314.167558, \"production\": 4108.1, \"imports\": 120.83057486103999, \"total_supply\": 4228.93057486104, \"exports\": 480.79136702409994, \"total\": 3748.1392078369404, \"farm_avail\": 11.930382728559582, \"retail_avail\": 11.095255937560411, \"type\": \"romaine-leaf\"}, {\"year\": 2013, \"pop\": 316.294766, \"production\": 3927.0, \"imports\": 169.69892914722004, \"total_supply\": 4096.69892914722, \"exports\": 482.78007095054005, \"total\": 3613.91885819668, \"farm_avail\": 11.425794058813734, \"retail_avail\": 10.625988474696774, \"type\": \"romaine-leaf\"}, {\"year\": 2014, \"pop\": 318.576955, \"production\": 3766.3, \"imports\": 153.90591331522003, \"total_supply\": 3920.20591331522, \"exports\": 479.7278627453401, \"total\": 3440.47805056988, \"farm_avail\": 10.799519540168497, \"retail_avail\": 10.043553172356702, \"type\": \"romaine-leaf\"}, {\"year\": 2015, \"pop\": 320.870703, \"production\": 4056.8, \"imports\": 191.46744843974002, \"total_supply\": 4248.26744843974, \"exports\": 431.86735710602, \"total\": 3816.4000913337204, \"farm_avail\": 11.893887648987763, \"retail_avail\": 11.06131551355862, \"type\": \"romaine-leaf\"}, {\"year\": 2016, \"pop\": 323.161011, \"production\": 4938.0, \"imports\": 185.79201360280004, \"total_supply\": 5123.7920136028, \"exports\": 427.05005076250006, \"total\": 4696.7419628402995, \"farm_avail\": 14.533751916131676, \"retail_avail\": 13.516389282002459, \"type\": \"romaine-leaf\"}, {\"year\": 2017, \"pop\": 325.20603, \"production\": 4998.3, \"imports\": 330.39441729030005, \"total_supply\": 5328.6944172903, \"exports\": 424.08478615624006, \"total\": 4904.609631134061, \"farm_avail\": 15.081545785402751, \"retail_avail\": 14.02583758042456, \"type\": \"romaine-leaf\"}, {\"year\": 2018, \"pop\": 326.923976, \"production\": 3975.74, \"imports\": 404.8961308246801, \"total_supply\": 4380.63613082468, \"exports\": 415.50160745346005, \"total\": 3965.1345233712195, \"farm_avail\": 12.128613422256983, \"retail_avail\": 11.279610482698995, \"type\": \"romaine-leaf\"}, {\"year\": 2019, \"pop\": 328.475998, \"production\": 3967.83, \"imports\": 529.11011615814, \"total_supply\": 4496.94011615814, \"exports\": 438.8279663534801, \"total\": 4058.11214980466, \"farm_avail\": 12.354364320417286, \"retail_avail\": 11.489558817988076, \"type\": \"romaine-leaf\"}]}}, {\"mode\": \"vega-lite\"});\n",
       "</script>"
      ],
      "text/plain": [
       "alt.Chart(...)"
      ]
     },
     "execution_count": 48,
     "metadata": {},
     "output_type": "execute_result"
    }
   ],
   "source": [
    "alt.Chart(df).mark_area(opacity=0.3).encode(\n",
    "    x=\"year:O\", y=alt.Y(\"retail_avail:Q\", stack=None), color=\"type:N\"\n",
    ").properties(\n",
    "    width=650,\n",
    "    height=400,\n",
    "    title=\"lettuce: head vs. romaine/leaf, annual pounds per capita\",\n",
    ")"
   ]
  },
  {
   "cell_type": "markdown",
   "id": "ca718344-2da4-4993-aecd-0e366dd44f01",
   "metadata": {},
   "source": [
    "---"
   ]
  },
  {
   "cell_type": "markdown",
   "id": "11e5389c-8a6b-4936-88e1-f85788ac6b3c",
   "metadata": {},
   "source": [
    "### Annual exports, by type"
   ]
  },
  {
   "cell_type": "code",
   "execution_count": 50,
   "id": "2ee601d8-cb3e-4d70-9b77-4eb7ef2abde4",
   "metadata": {},
   "outputs": [
    {
     "data": {
      "text/html": [
       "\n",
       "<div id=\"altair-viz-d2fd49f3954144e9b18cc78237641763\"></div>\n",
       "<script type=\"text/javascript\">\n",
       "  var VEGA_DEBUG = (typeof VEGA_DEBUG == \"undefined\") ? {} : VEGA_DEBUG;\n",
       "  (function(spec, embedOpt){\n",
       "    let outputDiv = document.currentScript.previousElementSibling;\n",
       "    if (outputDiv.id !== \"altair-viz-d2fd49f3954144e9b18cc78237641763\") {\n",
       "      outputDiv = document.getElementById(\"altair-viz-d2fd49f3954144e9b18cc78237641763\");\n",
       "    }\n",
       "    const paths = {\n",
       "      \"vega\": \"https://cdn.jsdelivr.net/npm//vega@5?noext\",\n",
       "      \"vega-lib\": \"https://cdn.jsdelivr.net/npm//vega-lib?noext\",\n",
       "      \"vega-lite\": \"https://cdn.jsdelivr.net/npm//vega-lite@4.17.0?noext\",\n",
       "      \"vega-embed\": \"https://cdn.jsdelivr.net/npm//vega-embed@6?noext\",\n",
       "    };\n",
       "\n",
       "    function maybeLoadScript(lib, version) {\n",
       "      var key = `${lib.replace(\"-\", \"\")}_version`;\n",
       "      return (VEGA_DEBUG[key] == version) ?\n",
       "        Promise.resolve(paths[lib]) :\n",
       "        new Promise(function(resolve, reject) {\n",
       "          var s = document.createElement('script');\n",
       "          document.getElementsByTagName(\"head\")[0].appendChild(s);\n",
       "          s.async = true;\n",
       "          s.onload = () => {\n",
       "            VEGA_DEBUG[key] = version;\n",
       "            return resolve(paths[lib]);\n",
       "          };\n",
       "          s.onerror = () => reject(`Error loading script: ${paths[lib]}`);\n",
       "          s.src = paths[lib];\n",
       "        });\n",
       "    }\n",
       "\n",
       "    function showError(err) {\n",
       "      outputDiv.innerHTML = `<div class=\"error\" style=\"color:red;\">${err}</div>`;\n",
       "      throw err;\n",
       "    }\n",
       "\n",
       "    function displayChart(vegaEmbed) {\n",
       "      vegaEmbed(outputDiv, spec, embedOpt)\n",
       "        .catch(err => showError(`Javascript Error: ${err.message}<br>This usually means there's a typo in your chart specification. See the javascript console for the full traceback.`));\n",
       "    }\n",
       "\n",
       "    if(typeof define === \"function\" && define.amd) {\n",
       "      requirejs.config({paths});\n",
       "      require([\"vega-embed\"], displayChart, err => showError(`Error loading script: ${err.message}`));\n",
       "    } else {\n",
       "      maybeLoadScript(\"vega\", \"5\")\n",
       "        .then(() => maybeLoadScript(\"vega-lite\", \"4.17.0\"))\n",
       "        .then(() => maybeLoadScript(\"vega-embed\", \"6\"))\n",
       "        .catch(showError)\n",
       "        .then(() => displayChart(vegaEmbed));\n",
       "    }\n",
       "  })({\"config\": {\"view\": {\"continuousWidth\": 400, \"continuousHeight\": 300}}, \"data\": {\"name\": \"data-bbb7aa83ec02ef429a9794ea2e4ed5ba\"}, \"mark\": {\"type\": \"area\", \"opacity\": 0.3}, \"encoding\": {\"color\": {\"field\": \"type\", \"type\": \"nominal\"}, \"x\": {\"field\": \"year\", \"type\": \"ordinal\"}, \"y\": {\"field\": \"exports\", \"stack\": null, \"type\": \"quantitative\"}}, \"height\": 400, \"title\": \"lettuce: head vs. romaine/leaf, annual exports in millions of pounds\", \"width\": 650, \"$schema\": \"https://vega.github.io/schema/vega-lite/v4.17.0.json\", \"datasets\": {\"data-bbb7aa83ec02ef429a9794ea2e4ed5ba\": [{\"year\": 1986, \"pop\": 240.651, \"production\": 5829.0, \"imports\": 20.8, \"total_supply\": 5849.8, \"exports\": 553.6, \"total\": 5279.2, \"farm_avail\": 21.93716211443127, \"retail_avail\": 20.40156076642108, \"type\": \"head\"}, {\"year\": 1987, \"pop\": 242.804, \"production\": 6787.7, \"imports\": 18.3, \"total_supply\": 6806.0, \"exports\": 542.5, \"total\": 6242.2, \"farm_avail\": 25.708802161414145, \"retail_avail\": 23.909186010115157, \"type\": \"head\"}, {\"year\": 1988, \"pop\": 245.021, \"production\": 7050.5, \"imports\": 37.4, \"total_supply\": 7087.9, \"exports\": 431.3, \"total\": 6625.4, \"farm_avail\": 27.040131254055776, \"retail_avail\": 25.147322066271872, \"type\": \"head\"}, {\"year\": 1989, \"pop\": 247.342, \"production\": 7523.1, \"imports\": 35.6, \"total_supply\": 7558.700000000001, \"exports\": 463.6, \"total\": 7095.1, \"farm_avail\": 28.68538299197063, \"retail_avail\": 26.67740618253269, \"type\": \"head\"}, {\"year\": 1990, \"pop\": 250.132, \"production\": 7320.1, \"imports\": 17.2, \"total_supply\": 7337.3, \"exports\": 396.917756, \"total\": 6940.382244, \"farm_avail\": 27.746878624086484, \"retail_avail\": 25.80459712040043, \"type\": \"head\"}, {\"year\": 1991, \"pop\": 253.493, \"production\": 7077.8, \"imports\": 21.1, \"total_supply\": 7098.900000000001, \"exports\": 496.714453, \"total\": 6602.185547000001, \"farm_avail\": 26.04484363276304, \"retail_avail\": 24.22170457846963, \"type\": \"head\"}, {\"year\": 1992, \"pop\": 256.894, \"production\": 7081.0, \"imports\": 21.2, \"total_supply\": 7102.2, \"exports\": 476.750188, \"total\": 6625.449812, \"farm_avail\": 25.790597725131764, \"retail_avail\": 23.985255884372542, \"type\": \"head\"}, {\"year\": 1993, \"pop\": 260.255, \"production\": 6781.1, \"imports\": 32.7, \"total_supply\": 6813.8, \"exports\": 463.568769, \"total\": 6350.231231, \"farm_avail\": 24.40003546905919, \"retail_avail\": 22.692032986225048, \"type\": \"head\"}, {\"year\": 1994, \"pop\": 263.436, \"production\": 7005.8, \"imports\": 20.6, \"total_supply\": 7026.400000000001, \"exports\": 438.75608, \"total\": 6587.64392, \"farm_avail\": 25.00661990008959, \"retail_avail\": 23.25615650708332, \"type\": \"head\"}, {\"year\": 1995, \"pop\": 266.557, \"production\": 6234.9, \"imports\": 51.8, \"total_supply\": 6286.7, \"exports\": 377.903482, \"total\": 5908.796518, \"farm_avail\": 22.16710316367606, \"retail_avail\": 20.615405942218736, \"type\": \"head\"}, {\"year\": 1996, \"pop\": 269.667, \"production\": 6207.2, \"imports\": 28.3, \"total_supply\": 6235.5, \"exports\": 417.451662, \"total\": 5818.048338, \"farm_avail\": 21.57493626583898, \"retail_avail\": 20.06469072723025, \"type\": \"head\"}, {\"year\": 1997, \"pop\": 272.912, \"production\": 6879.4, \"imports\": 39.3, \"total_supply\": 6918.7, \"exports\": 395.661292, \"total\": 6523.038708, \"farm_avail\": 23.90161923257314, \"retail_avail\": 22.22850588629302, \"type\": \"head\"}, {\"year\": 1998, \"pop\": 276.115, \"production\": 6546.1, \"imports\": 22.9, \"total_supply\": 6569.0, \"exports\": 404.745765, \"total\": 6164.254235, \"farm_avail\": 22.324952411133044, \"retail_avail\": 20.762205742353732, \"type\": \"head\"}, {\"year\": 1999, \"pop\": 279.295, \"production\": 7318.1, \"imports\": 28.9, \"total_supply\": 7347.0, \"exports\": 390.023059, \"total\": 6956.976941, \"farm_avail\": 24.90906368177017, \"retail_avail\": 23.16542922404626, \"type\": \"head\"}, {\"year\": 2000, \"pop\": 282.385, \"production\": 6967.3, \"imports\": 31.86521372, \"total_supply\": 6999.16521372, \"exports\": 374.23574193999997, \"total\": 6624.92947178, \"farm_avail\": 23.460628120402998, \"retail_avail\": 21.81838415197479, \"type\": \"head\"}, {\"year\": 2001, \"pop\": 285.309019, \"production\": 6891.7, \"imports\": 45.797622860000004, \"total_supply\": 6937.49762286, \"exports\": 378.79017820999997, \"total\": 6558.70744465, \"farm_avail\": 22.988083123478127, \"retail_avail\": 21.37891730483466, \"type\": \"head\"}, {\"year\": 2002, \"pop\": 288.104818, \"production\": 6814.0, \"imports\": 106.55013558, \"total_supply\": 6920.55013558, \"exports\": 425.92878764, \"total\": 6494.621347939999, \"farm_avail\": 22.5425641716967, \"retail_avail\": 20.964584679677934, \"type\": \"head\"}, {\"year\": 2003, \"pop\": 290.819634, \"production\": 6824.8, \"imports\": 94.13687717, \"total_supply\": 6918.93687717, \"exports\": 453.57976221, \"total\": 6465.35711496, \"farm_avail\": 22.231501450001826, \"retail_avail\": 20.6752963485017, \"type\": \"head\"}, {\"year\": 2004, \"pop\": 293.463185, \"production\": 6622.8, \"imports\": 92.01880394, \"total_supply\": 6714.81880394, \"exports\": 476.37159335000007, \"total\": 6238.44721059, \"farm_avail\": 21.258023252865602, \"retail_avail\": 19.76996162516501, \"type\": \"head\"}, {\"year\": 2005, \"pop\": 296.186216, \"production\": 6525.3, \"imports\": 118.97423411000001, \"total_supply\": 6644.27423411, \"exports\": 450.11404445, \"total\": 6194.1601896600005, \"farm_avail\": 20.913060281171223, \"retail_avail\": 19.449146061489238, \"type\": \"head\"}, {\"year\": 2006, \"pop\": 298.995825, \"production\": 6249.4, \"imports\": 110.48430863, \"total_supply\": 6359.884308629999, \"exports\": 363.90404384, \"total\": 5995.98026479, \"farm_avail\": 20.053725716036332, \"retail_avail\": 18.64996491591379, \"type\": \"head\"}, {\"year\": 2007, \"pop\": 302.003917, \"production\": 5747.4, \"imports\": 155.28961660000002, \"total_supply\": 5902.6896166, \"exports\": 353.17450442, \"total\": 5549.51511218, \"farm_avail\": 18.375639519205308, \"retail_avail\": 17.08934475286094, \"type\": \"head\"}, {\"year\": 2008, \"pop\": 304.797761, \"production\": 5295.2, \"imports\": 178.91591626, \"total_supply\": 5474.11591626, \"exports\": 338.410133, \"total\": 5135.705783259999, \"farm_avail\": 16.849552196218397, \"retail_avail\": 15.67008354248311, \"type\": \"head\"}, {\"year\": 2009, \"pop\": 307.439406, \"production\": 5018.0, \"imports\": 196.105481, \"total_supply\": 5214.105481, \"exports\": 262.404455, \"total\": 4951.701026, \"farm_avail\": 16.106266566231913, \"retail_avail\": 14.97882790659568, \"type\": \"head\"}, {\"year\": 2010, \"pop\": 309.741279, \"production\": 5012.0, \"imports\": 220.34225386007998, \"total_supply\": 5232.34225386008, \"exports\": 299.20386138500004, \"total\": 4933.13839247508, \"farm_avail\": 15.926641771486581, \"retail_avail\": 14.811776847482522, \"type\": \"head\"}, {\"year\": 2011, \"pop\": 311.973914, \"production\": 4966.5, \"imports\": 257.36726163829996, \"total_supply\": 5223.8672616383, \"exports\": 296.388671876, \"total\": 4927.4785897623005, \"farm_avail\": 15.794521171928178, \"retail_avail\": 14.688904689893207, \"type\": \"head\"}, {\"year\": 2012, \"pop\": 314.167558, \"production\": 5097.6, \"imports\": 223.66229693984, \"total_supply\": 5321.262296939841, \"exports\": 310.6447831720201, \"total\": 5010.617513767821, \"farm_avail\": 15.948869914085213, \"retail_avail\": 14.832449020099249, \"type\": \"head\"}, {\"year\": 2013, \"pop\": 316.294766, \"production\": 4515.0, \"imports\": 236.42278080013998, \"total_supply\": 4751.42278080014, \"exports\": 292.66700435236, \"total\": 4458.75577644778, \"farm_avail\": 14.09683705119477, \"retail_avail\": 13.110058457611137, \"type\": \"head\"}, {\"year\": 2014, \"pop\": 318.576955, \"production\": 4591.8, \"imports\": 292.48353367134, \"total_supply\": 4884.283533671341, \"exports\": 268.32245713768003, \"total\": 4615.96107653366, \"farm_avail\": 14.489312563533229, \"retail_avail\": 13.475060684085904, \"type\": \"head\"}, {\"year\": 2015, \"pop\": 320.870703, \"production\": 4310.8, \"imports\": 302.77027956823997, \"total_supply\": 4613.57027956824, \"exports\": 260.93206824432, \"total\": 4352.63821132392, \"farm_avail\": 13.565084536009882, \"retail_avail\": 12.615528618489192, \"type\": \"head\"}, {\"year\": 2016, \"pop\": 323.161011, \"production\": 5384.1, \"imports\": 295.46294532414004, \"total_supply\": 5679.56294532414, \"exports\": 269.22081333224, \"total\": 5410.3421319919, \"farm_avail\": 16.741939614713917, \"retail_avail\": 15.570003841683944, \"type\": \"head\"}, {\"year\": 2017, \"pop\": 325.20603, \"production\": 4939.55, \"imports\": 266.76588298206, \"total_supply\": 5206.31588298206, \"exports\": 259.86883072458005, \"total\": 4946.44705225748, \"farm_avail\": 15.210194756405594, \"retail_avail\": 14.145481123457204, \"type\": \"head\"}, {\"year\": 2018, \"pop\": 326.923976, \"production\": 4056.1, \"imports\": 211.62810309233998, \"total_supply\": 4267.72810309234, \"exports\": 258.28262868078, \"total\": 4009.4454744115596, \"farm_avail\": 12.264152429161573, \"retail_avail\": 11.405661759120264, \"type\": \"head\"}, {\"year\": 2019, \"pop\": 328.475998, \"production\": 4144.55, \"imports\": 260.25869352076006, \"total_supply\": 4404.80869352076, \"exports\": 243.50447659648, \"total\": 4161.30421692428, \"farm_avail\": 12.668518376567288, \"retail_avail\": 11.781722090207579, \"type\": \"head\"}, {\"year\": 1986, \"pop\": 240.651, \"production\": 571.2, \"imports\": 0.0, \"total_supply\": 571.2, \"exports\": 0.0, \"total\": 571.2, \"farm_avail\": 2.3735617138511786, \"retail_avail\": 2.2074123938815964, \"type\": \"romaine-leaf\"}, {\"year\": 1987, \"pop\": 242.804, \"production\": 613.0, \"imports\": 0.0, \"total_supply\": 613.0, \"exports\": 0.0, \"total\": 613.0, \"farm_avail\": 2.524670104281643, \"retail_avail\": 2.347943196981928, \"type\": \"romaine-leaf\"}, {\"year\": 1988, \"pop\": 245.021, \"production\": 784.2, \"imports\": 0.0, \"total_supply\": 784.2, \"exports\": 0.0, \"total\": 784.2, \"farm_avail\": 3.2005419943596674, \"retail_avail\": 2.976504054754491, \"type\": \"romaine-leaf\"}, {\"year\": 1989, \"pop\": 247.342, \"production\": 915.8, \"imports\": 23.5, \"total_supply\": 939.3, \"exports\": 57.9, \"total\": 881.4, \"farm_avail\": 3.563486993717201, \"retail_avail\": 3.3140429041569974, \"type\": \"romaine-leaf\"}, {\"year\": 1990, \"pop\": 250.132, \"production\": 1061.6, \"imports\": 12.1, \"total_supply\": 1073.6999999999998, \"exports\": 130.636513, \"total\": 943.0634869999998, \"farm_avail\": 3.7702632490045245, \"retail_avail\": 3.506344821574208, \"type\": \"romaine-leaf\"}, {\"year\": 1991, \"pop\": 253.493, \"production\": 1157.5, \"imports\": 8.3, \"total_supply\": 1165.8, \"exports\": 152.661061, \"total\": 1013.1389389999999, \"farm_avail\": 3.9967136725668952, \"retail_avail\": 3.7169437154872127, \"type\": \"romaine-leaf\"}, {\"year\": 1992, \"pop\": 256.894, \"production\": 1388.7, \"imports\": 5.9, \"total_supply\": 1394.6000000000001, \"exports\": 195.004351, \"total\": 1199.595649, \"farm_avail\": 4.669613338575444, \"retail_avail\": 4.342740404875164, \"type\": \"romaine-leaf\"}, {\"year\": 1993, \"pop\": 260.255, \"production\": 1535.5, \"imports\": 6.8, \"total_supply\": 1542.3, \"exports\": 230.170787, \"total\": 1312.129213, \"farm_avail\": 5.041706069047665, \"retail_avail\": 4.6887866442143284, \"type\": \"romaine-leaf\"}, {\"year\": 1994, \"pop\": 263.436, \"production\": 1710.0, \"imports\": 8.9, \"total_supply\": 1718.9, \"exports\": 223.051249, \"total\": 1495.848751, \"farm_avail\": 5.67822450614191, \"retail_avail\": 5.280748790711977, \"type\": \"romaine-leaf\"}, {\"year\": 1995, \"pop\": 266.557, \"production\": 1787.4, \"imports\": 11.7, \"total_supply\": 1799.1000000000001, \"exports\": 227.86768, \"total\": 1571.23232, \"farm_avail\": 5.89454533176769, \"retail_avail\": 5.481927158543952, \"type\": \"romaine-leaf\"}, {\"year\": 1996, \"pop\": 269.667, \"production\": 1775.6, \"imports\": 16.569809, \"total_supply\": 1792.169809, \"exports\": 223.352479, \"total\": 1568.81733, \"farm_avail\": 5.817609607404689, \"retail_avail\": 5.4103769348863615, \"type\": \"romaine-leaf\"}, {\"year\": 1997, \"pop\": 272.912, \"production\": 2024.5, \"imports\": 28.605449, \"total_supply\": 2053.105449, \"exports\": 253.32073, \"total\": 1799.7847190000002, \"farm_avail\": 6.594743796535148, \"retail_avail\": 6.133111730777689, \"type\": \"romaine-leaf\"}, {\"year\": 1998, \"pop\": 276.115, \"production\": 2076.7, \"imports\": 31.980773, \"total_supply\": 2108.680773, \"exports\": 282.30402, \"total\": 1826.376753, \"farm_avail\": 6.614551013164804, \"retail_avail\": 6.151532442243268, \"type\": \"romaine-leaf\"}, {\"year\": 1999, \"pop\": 279.295, \"production\": 2393.1000000000004, \"imports\": 28.406854000000003, \"total_supply\": 2421.506854, \"exports\": 301.217497, \"total\": 2120.289357, \"farm_avail\": 7.591576494387654, \"retail_avail\": 7.060166139780518, \"type\": \"romaine-leaf\"}, {\"year\": 2000, \"pop\": 282.385, \"production\": 2702.4, \"imports\": 32.76400202, \"total_supply\": 2735.16400202, \"exports\": 367.36467554, \"total\": 2367.79932648, \"farm_avail\": 8.385003900632118, \"retail_avail\": 7.79805362758787, \"type\": \"romaine-leaf\"}, {\"year\": 2001, \"pop\": 285.309019, \"production\": 2646.1000000000004, \"imports\": 34.58741236, \"total_supply\": 2680.6874123600005, \"exports\": 390.44416109, \"total\": 2290.2432512700007, \"farm_avail\": 8.02723748200193, \"retail_avail\": 7.465330858261795, \"type\": \"romaine-leaf\"}, {\"year\": 2002, \"pop\": 288.104818, \"production\": 3197.4, \"imports\": 33.656626200000005, \"total_supply\": 3231.0566262, \"exports\": 466.99524528, \"total\": 2764.0613809200004, \"farm_avail\": 9.59394362131077, \"retail_avail\": 8.922367567819016, \"type\": \"romaine-leaf\"}, {\"year\": 2003, \"pop\": 290.819634, \"production\": 3547.3, \"imports\": 33.13972879, \"total_supply\": 3580.43972879, \"exports\": 433.60927587000003, \"total\": 3146.83045292, \"farm_avail\": 10.82055709113505, \"retail_avail\": 10.063118094755598, \"type\": \"romaine-leaf\"}, {\"year\": 2004, \"pop\": 293.463185, \"production\": 3971.2999999999997, \"imports\": 35.16552104, \"total_supply\": 4006.4655210399997, \"exports\": 489.79849856000004, \"total\": 3516.6670224799996, \"farm_avail\": 11.98333284115348, \"retail_avail\": 11.144499542272737, \"type\": \"romaine-leaf\"}, {\"year\": 2005, \"pop\": 296.186216, \"production\": 3297.3, \"imports\": 51.913009460000005, \"total_supply\": 3349.21300946, \"exports\": 486.31022093, \"total\": 2862.90278853, \"farm_avail\": 9.6658879916613, \"retail_avail\": 8.98927583224501, \"type\": \"romaine-leaf\"}, {\"year\": 2006, \"pop\": 298.995825, \"production\": 3981.7, \"imports\": 61.29701859000001, \"total_supply\": 4042.9970185899997, \"exports\": 460.96694338000003, \"total\": 3582.0300752099997, \"farm_avail\": 11.980200978425032, \"retail_avail\": 11.14158690993528, \"type\": \"romaine-leaf\"}, {\"year\": 2007, \"pop\": 302.003917, \"production\": 3864.9, \"imports\": 74.40335, \"total_supply\": 3939.30335, \"exports\": 453.42177693, \"total\": 3485.8815730700003, \"farm_avail\": 11.54250450688691, \"retail_avail\": 10.734529191404826, \"type\": \"romaine-leaf\"}, {\"year\": 2008, \"pop\": 304.797761, \"production\": 3555.5, \"imports\": 82.5595, \"total_supply\": 3638.0595, \"exports\": 466.104347, \"total\": 3171.955153, \"farm_avail\": 10.406753457089865, \"retail_avail\": 9.678280715093575, \"type\": \"romaine-leaf\"}, {\"year\": 2009, \"pop\": 307.439406, \"production\": 3420.0, \"imports\": 95.611802, \"total_supply\": 3515.611802, \"exports\": 442.517189, \"total\": 3073.0946129999998, \"farm_avail\": 9.995773323215436, \"retail_avail\": 9.296069190590357, \"type\": \"romaine-leaf\"}, {\"year\": 2010, \"pop\": 309.741279, \"production\": 4039.3, \"imports\": 103.33605756386002, \"total_supply\": 4142.63605756386, \"exports\": 422.33686862158, \"total\": 3720.29918894228, \"farm_avail\": 12.010989303567381, \"retail_avail\": 11.170220052317665, \"type\": \"romaine-leaf\"}, {\"year\": 2011, \"pop\": 311.973914, \"production\": 4008.1, \"imports\": 115.4304529697, \"total_supply\": 4123.5304529697, \"exports\": 463.68018023403994, \"total\": 3659.8502727356595, \"farm_avail\": 11.73127017515849, \"retail_avail\": 10.910081262897396, \"type\": \"romaine-leaf\"}, {\"year\": 2012, \"pop\": 314.167558, \"production\": 4108.1, \"imports\": 120.83057486103999, \"total_supply\": 4228.93057486104, \"exports\": 480.79136702409994, \"total\": 3748.1392078369404, \"farm_avail\": 11.930382728559582, \"retail_avail\": 11.095255937560411, \"type\": \"romaine-leaf\"}, {\"year\": 2013, \"pop\": 316.294766, \"production\": 3927.0, \"imports\": 169.69892914722004, \"total_supply\": 4096.69892914722, \"exports\": 482.78007095054005, \"total\": 3613.91885819668, \"farm_avail\": 11.425794058813734, \"retail_avail\": 10.625988474696774, \"type\": \"romaine-leaf\"}, {\"year\": 2014, \"pop\": 318.576955, \"production\": 3766.3, \"imports\": 153.90591331522003, \"total_supply\": 3920.20591331522, \"exports\": 479.7278627453401, \"total\": 3440.47805056988, \"farm_avail\": 10.799519540168497, \"retail_avail\": 10.043553172356702, \"type\": \"romaine-leaf\"}, {\"year\": 2015, \"pop\": 320.870703, \"production\": 4056.8, \"imports\": 191.46744843974002, \"total_supply\": 4248.26744843974, \"exports\": 431.86735710602, \"total\": 3816.4000913337204, \"farm_avail\": 11.893887648987763, \"retail_avail\": 11.06131551355862, \"type\": \"romaine-leaf\"}, {\"year\": 2016, \"pop\": 323.161011, \"production\": 4938.0, \"imports\": 185.79201360280004, \"total_supply\": 5123.7920136028, \"exports\": 427.05005076250006, \"total\": 4696.7419628402995, \"farm_avail\": 14.533751916131676, \"retail_avail\": 13.516389282002459, \"type\": \"romaine-leaf\"}, {\"year\": 2017, \"pop\": 325.20603, \"production\": 4998.3, \"imports\": 330.39441729030005, \"total_supply\": 5328.6944172903, \"exports\": 424.08478615624006, \"total\": 4904.609631134061, \"farm_avail\": 15.081545785402751, \"retail_avail\": 14.02583758042456, \"type\": \"romaine-leaf\"}, {\"year\": 2018, \"pop\": 326.923976, \"production\": 3975.74, \"imports\": 404.8961308246801, \"total_supply\": 4380.63613082468, \"exports\": 415.50160745346005, \"total\": 3965.1345233712195, \"farm_avail\": 12.128613422256983, \"retail_avail\": 11.279610482698995, \"type\": \"romaine-leaf\"}, {\"year\": 2019, \"pop\": 328.475998, \"production\": 3967.83, \"imports\": 529.11011615814, \"total_supply\": 4496.94011615814, \"exports\": 438.8279663534801, \"total\": 4058.11214980466, \"farm_avail\": 12.354364320417286, \"retail_avail\": 11.489558817988076, \"type\": \"romaine-leaf\"}]}}, {\"mode\": \"vega-lite\"});\n",
       "</script>"
      ],
      "text/plain": [
       "alt.Chart(...)"
      ]
     },
     "execution_count": 50,
     "metadata": {},
     "output_type": "execute_result"
    }
   ],
   "source": [
    "alt.Chart(df).mark_area(opacity=0.3).encode(\n",
    "    x=\"year:O\", y=alt.Y(\"exports:Q\", stack=None), color=\"type:N\"\n",
    ").properties(\n",
    "    width=650,\n",
    "    height=400,\n",
    "    title=\"lettuce: head vs. romaine/leaf, annual exports in millions of pounds\",\n",
    ")"
   ]
  },
  {
   "cell_type": "markdown",
   "id": "8bf9e651-8e95-49b7-a7a6-dc99505ab218",
   "metadata": {},
   "source": [
    "---"
   ]
  },
  {
   "cell_type": "markdown",
   "id": "a45cecee-9766-4acf-8209-cac0a5f80d25",
   "metadata": {},
   "source": [
    "### Annual imports, by type"
   ]
  },
  {
   "cell_type": "code",
   "execution_count": 51,
   "id": "1960b3ce-a4df-4500-a1f6-ec12d9448ff8",
   "metadata": {},
   "outputs": [
    {
     "data": {
      "text/html": [
       "\n",
       "<div id=\"altair-viz-d7e35f690a114aacb3e4b9aea3837485\"></div>\n",
       "<script type=\"text/javascript\">\n",
       "  var VEGA_DEBUG = (typeof VEGA_DEBUG == \"undefined\") ? {} : VEGA_DEBUG;\n",
       "  (function(spec, embedOpt){\n",
       "    let outputDiv = document.currentScript.previousElementSibling;\n",
       "    if (outputDiv.id !== \"altair-viz-d7e35f690a114aacb3e4b9aea3837485\") {\n",
       "      outputDiv = document.getElementById(\"altair-viz-d7e35f690a114aacb3e4b9aea3837485\");\n",
       "    }\n",
       "    const paths = {\n",
       "      \"vega\": \"https://cdn.jsdelivr.net/npm//vega@5?noext\",\n",
       "      \"vega-lib\": \"https://cdn.jsdelivr.net/npm//vega-lib?noext\",\n",
       "      \"vega-lite\": \"https://cdn.jsdelivr.net/npm//vega-lite@4.17.0?noext\",\n",
       "      \"vega-embed\": \"https://cdn.jsdelivr.net/npm//vega-embed@6?noext\",\n",
       "    };\n",
       "\n",
       "    function maybeLoadScript(lib, version) {\n",
       "      var key = `${lib.replace(\"-\", \"\")}_version`;\n",
       "      return (VEGA_DEBUG[key] == version) ?\n",
       "        Promise.resolve(paths[lib]) :\n",
       "        new Promise(function(resolve, reject) {\n",
       "          var s = document.createElement('script');\n",
       "          document.getElementsByTagName(\"head\")[0].appendChild(s);\n",
       "          s.async = true;\n",
       "          s.onload = () => {\n",
       "            VEGA_DEBUG[key] = version;\n",
       "            return resolve(paths[lib]);\n",
       "          };\n",
       "          s.onerror = () => reject(`Error loading script: ${paths[lib]}`);\n",
       "          s.src = paths[lib];\n",
       "        });\n",
       "    }\n",
       "\n",
       "    function showError(err) {\n",
       "      outputDiv.innerHTML = `<div class=\"error\" style=\"color:red;\">${err}</div>`;\n",
       "      throw err;\n",
       "    }\n",
       "\n",
       "    function displayChart(vegaEmbed) {\n",
       "      vegaEmbed(outputDiv, spec, embedOpt)\n",
       "        .catch(err => showError(`Javascript Error: ${err.message}<br>This usually means there's a typo in your chart specification. See the javascript console for the full traceback.`));\n",
       "    }\n",
       "\n",
       "    if(typeof define === \"function\" && define.amd) {\n",
       "      requirejs.config({paths});\n",
       "      require([\"vega-embed\"], displayChart, err => showError(`Error loading script: ${err.message}`));\n",
       "    } else {\n",
       "      maybeLoadScript(\"vega\", \"5\")\n",
       "        .then(() => maybeLoadScript(\"vega-lite\", \"4.17.0\"))\n",
       "        .then(() => maybeLoadScript(\"vega-embed\", \"6\"))\n",
       "        .catch(showError)\n",
       "        .then(() => displayChart(vegaEmbed));\n",
       "    }\n",
       "  })({\"config\": {\"view\": {\"continuousWidth\": 400, \"continuousHeight\": 300}}, \"data\": {\"name\": \"data-bbb7aa83ec02ef429a9794ea2e4ed5ba\"}, \"mark\": {\"type\": \"area\", \"opacity\": 0.3}, \"encoding\": {\"color\": {\"field\": \"type\", \"type\": \"nominal\"}, \"x\": {\"field\": \"year\", \"type\": \"ordinal\"}, \"y\": {\"field\": \"imports\", \"stack\": null, \"type\": \"quantitative\"}}, \"height\": 400, \"title\": \"lettuce: head vs. romaine/leaf, annual imports in millions of pounds\", \"width\": 650, \"$schema\": \"https://vega.github.io/schema/vega-lite/v4.17.0.json\", \"datasets\": {\"data-bbb7aa83ec02ef429a9794ea2e4ed5ba\": [{\"year\": 1986, \"pop\": 240.651, \"production\": 5829.0, \"imports\": 20.8, \"total_supply\": 5849.8, \"exports\": 553.6, \"total\": 5279.2, \"farm_avail\": 21.93716211443127, \"retail_avail\": 20.40156076642108, \"type\": \"head\"}, {\"year\": 1987, \"pop\": 242.804, \"production\": 6787.7, \"imports\": 18.3, \"total_supply\": 6806.0, \"exports\": 542.5, \"total\": 6242.2, \"farm_avail\": 25.708802161414145, \"retail_avail\": 23.909186010115157, \"type\": \"head\"}, {\"year\": 1988, \"pop\": 245.021, \"production\": 7050.5, \"imports\": 37.4, \"total_supply\": 7087.9, \"exports\": 431.3, \"total\": 6625.4, \"farm_avail\": 27.040131254055776, \"retail_avail\": 25.147322066271872, \"type\": \"head\"}, {\"year\": 1989, \"pop\": 247.342, \"production\": 7523.1, \"imports\": 35.6, \"total_supply\": 7558.700000000001, \"exports\": 463.6, \"total\": 7095.1, \"farm_avail\": 28.68538299197063, \"retail_avail\": 26.67740618253269, \"type\": \"head\"}, {\"year\": 1990, \"pop\": 250.132, \"production\": 7320.1, \"imports\": 17.2, \"total_supply\": 7337.3, \"exports\": 396.917756, \"total\": 6940.382244, \"farm_avail\": 27.746878624086484, \"retail_avail\": 25.80459712040043, \"type\": \"head\"}, {\"year\": 1991, \"pop\": 253.493, \"production\": 7077.8, \"imports\": 21.1, \"total_supply\": 7098.900000000001, \"exports\": 496.714453, \"total\": 6602.185547000001, \"farm_avail\": 26.04484363276304, \"retail_avail\": 24.22170457846963, \"type\": \"head\"}, {\"year\": 1992, \"pop\": 256.894, \"production\": 7081.0, \"imports\": 21.2, \"total_supply\": 7102.2, \"exports\": 476.750188, \"total\": 6625.449812, \"farm_avail\": 25.790597725131764, \"retail_avail\": 23.985255884372542, \"type\": \"head\"}, {\"year\": 1993, \"pop\": 260.255, \"production\": 6781.1, \"imports\": 32.7, \"total_supply\": 6813.8, \"exports\": 463.568769, \"total\": 6350.231231, \"farm_avail\": 24.40003546905919, \"retail_avail\": 22.692032986225048, \"type\": \"head\"}, {\"year\": 1994, \"pop\": 263.436, \"production\": 7005.8, \"imports\": 20.6, \"total_supply\": 7026.400000000001, \"exports\": 438.75608, \"total\": 6587.64392, \"farm_avail\": 25.00661990008959, \"retail_avail\": 23.25615650708332, \"type\": \"head\"}, {\"year\": 1995, \"pop\": 266.557, \"production\": 6234.9, \"imports\": 51.8, \"total_supply\": 6286.7, \"exports\": 377.903482, \"total\": 5908.796518, \"farm_avail\": 22.16710316367606, \"retail_avail\": 20.615405942218736, \"type\": \"head\"}, {\"year\": 1996, \"pop\": 269.667, \"production\": 6207.2, \"imports\": 28.3, \"total_supply\": 6235.5, \"exports\": 417.451662, \"total\": 5818.048338, \"farm_avail\": 21.57493626583898, \"retail_avail\": 20.06469072723025, \"type\": \"head\"}, {\"year\": 1997, \"pop\": 272.912, \"production\": 6879.4, \"imports\": 39.3, \"total_supply\": 6918.7, \"exports\": 395.661292, \"total\": 6523.038708, \"farm_avail\": 23.90161923257314, \"retail_avail\": 22.22850588629302, \"type\": \"head\"}, {\"year\": 1998, \"pop\": 276.115, \"production\": 6546.1, \"imports\": 22.9, \"total_supply\": 6569.0, \"exports\": 404.745765, \"total\": 6164.254235, \"farm_avail\": 22.324952411133044, \"retail_avail\": 20.762205742353732, \"type\": \"head\"}, {\"year\": 1999, \"pop\": 279.295, \"production\": 7318.1, \"imports\": 28.9, \"total_supply\": 7347.0, \"exports\": 390.023059, \"total\": 6956.976941, \"farm_avail\": 24.90906368177017, \"retail_avail\": 23.16542922404626, \"type\": \"head\"}, {\"year\": 2000, \"pop\": 282.385, \"production\": 6967.3, \"imports\": 31.86521372, \"total_supply\": 6999.16521372, \"exports\": 374.23574193999997, \"total\": 6624.92947178, \"farm_avail\": 23.460628120402998, \"retail_avail\": 21.81838415197479, \"type\": \"head\"}, {\"year\": 2001, \"pop\": 285.309019, \"production\": 6891.7, \"imports\": 45.797622860000004, \"total_supply\": 6937.49762286, \"exports\": 378.79017820999997, \"total\": 6558.70744465, \"farm_avail\": 22.988083123478127, \"retail_avail\": 21.37891730483466, \"type\": \"head\"}, {\"year\": 2002, \"pop\": 288.104818, \"production\": 6814.0, \"imports\": 106.55013558, \"total_supply\": 6920.55013558, \"exports\": 425.92878764, \"total\": 6494.621347939999, \"farm_avail\": 22.5425641716967, \"retail_avail\": 20.964584679677934, \"type\": \"head\"}, {\"year\": 2003, \"pop\": 290.819634, \"production\": 6824.8, \"imports\": 94.13687717, \"total_supply\": 6918.93687717, \"exports\": 453.57976221, \"total\": 6465.35711496, \"farm_avail\": 22.231501450001826, \"retail_avail\": 20.6752963485017, \"type\": \"head\"}, {\"year\": 2004, \"pop\": 293.463185, \"production\": 6622.8, \"imports\": 92.01880394, \"total_supply\": 6714.81880394, \"exports\": 476.37159335000007, \"total\": 6238.44721059, \"farm_avail\": 21.258023252865602, \"retail_avail\": 19.76996162516501, \"type\": \"head\"}, {\"year\": 2005, \"pop\": 296.186216, \"production\": 6525.3, \"imports\": 118.97423411000001, \"total_supply\": 6644.27423411, \"exports\": 450.11404445, \"total\": 6194.1601896600005, \"farm_avail\": 20.913060281171223, \"retail_avail\": 19.449146061489238, \"type\": \"head\"}, {\"year\": 2006, \"pop\": 298.995825, \"production\": 6249.4, \"imports\": 110.48430863, \"total_supply\": 6359.884308629999, \"exports\": 363.90404384, \"total\": 5995.98026479, \"farm_avail\": 20.053725716036332, \"retail_avail\": 18.64996491591379, \"type\": \"head\"}, {\"year\": 2007, \"pop\": 302.003917, \"production\": 5747.4, \"imports\": 155.28961660000002, \"total_supply\": 5902.6896166, \"exports\": 353.17450442, \"total\": 5549.51511218, \"farm_avail\": 18.375639519205308, \"retail_avail\": 17.08934475286094, \"type\": \"head\"}, {\"year\": 2008, \"pop\": 304.797761, \"production\": 5295.2, \"imports\": 178.91591626, \"total_supply\": 5474.11591626, \"exports\": 338.410133, \"total\": 5135.705783259999, \"farm_avail\": 16.849552196218397, \"retail_avail\": 15.67008354248311, \"type\": \"head\"}, {\"year\": 2009, \"pop\": 307.439406, \"production\": 5018.0, \"imports\": 196.105481, \"total_supply\": 5214.105481, \"exports\": 262.404455, \"total\": 4951.701026, \"farm_avail\": 16.106266566231913, \"retail_avail\": 14.97882790659568, \"type\": \"head\"}, {\"year\": 2010, \"pop\": 309.741279, \"production\": 5012.0, \"imports\": 220.34225386007998, \"total_supply\": 5232.34225386008, \"exports\": 299.20386138500004, \"total\": 4933.13839247508, \"farm_avail\": 15.926641771486581, \"retail_avail\": 14.811776847482522, \"type\": \"head\"}, {\"year\": 2011, \"pop\": 311.973914, \"production\": 4966.5, \"imports\": 257.36726163829996, \"total_supply\": 5223.8672616383, \"exports\": 296.388671876, \"total\": 4927.4785897623005, \"farm_avail\": 15.794521171928178, \"retail_avail\": 14.688904689893207, \"type\": \"head\"}, {\"year\": 2012, \"pop\": 314.167558, \"production\": 5097.6, \"imports\": 223.66229693984, \"total_supply\": 5321.262296939841, \"exports\": 310.6447831720201, \"total\": 5010.617513767821, \"farm_avail\": 15.948869914085213, \"retail_avail\": 14.832449020099249, \"type\": \"head\"}, {\"year\": 2013, \"pop\": 316.294766, \"production\": 4515.0, \"imports\": 236.42278080013998, \"total_supply\": 4751.42278080014, \"exports\": 292.66700435236, \"total\": 4458.75577644778, \"farm_avail\": 14.09683705119477, \"retail_avail\": 13.110058457611137, \"type\": \"head\"}, {\"year\": 2014, \"pop\": 318.576955, \"production\": 4591.8, \"imports\": 292.48353367134, \"total_supply\": 4884.283533671341, \"exports\": 268.32245713768003, \"total\": 4615.96107653366, \"farm_avail\": 14.489312563533229, \"retail_avail\": 13.475060684085904, \"type\": \"head\"}, {\"year\": 2015, \"pop\": 320.870703, \"production\": 4310.8, \"imports\": 302.77027956823997, \"total_supply\": 4613.57027956824, \"exports\": 260.93206824432, \"total\": 4352.63821132392, \"farm_avail\": 13.565084536009882, \"retail_avail\": 12.615528618489192, \"type\": \"head\"}, {\"year\": 2016, \"pop\": 323.161011, \"production\": 5384.1, \"imports\": 295.46294532414004, \"total_supply\": 5679.56294532414, \"exports\": 269.22081333224, \"total\": 5410.3421319919, \"farm_avail\": 16.741939614713917, \"retail_avail\": 15.570003841683944, \"type\": \"head\"}, {\"year\": 2017, \"pop\": 325.20603, \"production\": 4939.55, \"imports\": 266.76588298206, \"total_supply\": 5206.31588298206, \"exports\": 259.86883072458005, \"total\": 4946.44705225748, \"farm_avail\": 15.210194756405594, \"retail_avail\": 14.145481123457204, \"type\": \"head\"}, {\"year\": 2018, \"pop\": 326.923976, \"production\": 4056.1, \"imports\": 211.62810309233998, \"total_supply\": 4267.72810309234, \"exports\": 258.28262868078, \"total\": 4009.4454744115596, \"farm_avail\": 12.264152429161573, \"retail_avail\": 11.405661759120264, \"type\": \"head\"}, {\"year\": 2019, \"pop\": 328.475998, \"production\": 4144.55, \"imports\": 260.25869352076006, \"total_supply\": 4404.80869352076, \"exports\": 243.50447659648, \"total\": 4161.30421692428, \"farm_avail\": 12.668518376567288, \"retail_avail\": 11.781722090207579, \"type\": \"head\"}, {\"year\": 1986, \"pop\": 240.651, \"production\": 571.2, \"imports\": 0.0, \"total_supply\": 571.2, \"exports\": 0.0, \"total\": 571.2, \"farm_avail\": 2.3735617138511786, \"retail_avail\": 2.2074123938815964, \"type\": \"romaine-leaf\"}, {\"year\": 1987, \"pop\": 242.804, \"production\": 613.0, \"imports\": 0.0, \"total_supply\": 613.0, \"exports\": 0.0, \"total\": 613.0, \"farm_avail\": 2.524670104281643, \"retail_avail\": 2.347943196981928, \"type\": \"romaine-leaf\"}, {\"year\": 1988, \"pop\": 245.021, \"production\": 784.2, \"imports\": 0.0, \"total_supply\": 784.2, \"exports\": 0.0, \"total\": 784.2, \"farm_avail\": 3.2005419943596674, \"retail_avail\": 2.976504054754491, \"type\": \"romaine-leaf\"}, {\"year\": 1989, \"pop\": 247.342, \"production\": 915.8, \"imports\": 23.5, \"total_supply\": 939.3, \"exports\": 57.9, \"total\": 881.4, \"farm_avail\": 3.563486993717201, \"retail_avail\": 3.3140429041569974, \"type\": \"romaine-leaf\"}, {\"year\": 1990, \"pop\": 250.132, \"production\": 1061.6, \"imports\": 12.1, \"total_supply\": 1073.6999999999998, \"exports\": 130.636513, \"total\": 943.0634869999998, \"farm_avail\": 3.7702632490045245, \"retail_avail\": 3.506344821574208, \"type\": \"romaine-leaf\"}, {\"year\": 1991, \"pop\": 253.493, \"production\": 1157.5, \"imports\": 8.3, \"total_supply\": 1165.8, \"exports\": 152.661061, \"total\": 1013.1389389999999, \"farm_avail\": 3.9967136725668952, \"retail_avail\": 3.7169437154872127, \"type\": \"romaine-leaf\"}, {\"year\": 1992, \"pop\": 256.894, \"production\": 1388.7, \"imports\": 5.9, \"total_supply\": 1394.6000000000001, \"exports\": 195.004351, \"total\": 1199.595649, \"farm_avail\": 4.669613338575444, \"retail_avail\": 4.342740404875164, \"type\": \"romaine-leaf\"}, {\"year\": 1993, \"pop\": 260.255, \"production\": 1535.5, \"imports\": 6.8, \"total_supply\": 1542.3, \"exports\": 230.170787, \"total\": 1312.129213, \"farm_avail\": 5.041706069047665, \"retail_avail\": 4.6887866442143284, \"type\": \"romaine-leaf\"}, {\"year\": 1994, \"pop\": 263.436, \"production\": 1710.0, \"imports\": 8.9, \"total_supply\": 1718.9, \"exports\": 223.051249, \"total\": 1495.848751, \"farm_avail\": 5.67822450614191, \"retail_avail\": 5.280748790711977, \"type\": \"romaine-leaf\"}, {\"year\": 1995, \"pop\": 266.557, \"production\": 1787.4, \"imports\": 11.7, \"total_supply\": 1799.1000000000001, \"exports\": 227.86768, \"total\": 1571.23232, \"farm_avail\": 5.89454533176769, \"retail_avail\": 5.481927158543952, \"type\": \"romaine-leaf\"}, {\"year\": 1996, \"pop\": 269.667, \"production\": 1775.6, \"imports\": 16.569809, \"total_supply\": 1792.169809, \"exports\": 223.352479, \"total\": 1568.81733, \"farm_avail\": 5.817609607404689, \"retail_avail\": 5.4103769348863615, \"type\": \"romaine-leaf\"}, {\"year\": 1997, \"pop\": 272.912, \"production\": 2024.5, \"imports\": 28.605449, \"total_supply\": 2053.105449, \"exports\": 253.32073, \"total\": 1799.7847190000002, \"farm_avail\": 6.594743796535148, \"retail_avail\": 6.133111730777689, \"type\": \"romaine-leaf\"}, {\"year\": 1998, \"pop\": 276.115, \"production\": 2076.7, \"imports\": 31.980773, \"total_supply\": 2108.680773, \"exports\": 282.30402, \"total\": 1826.376753, \"farm_avail\": 6.614551013164804, \"retail_avail\": 6.151532442243268, \"type\": \"romaine-leaf\"}, {\"year\": 1999, \"pop\": 279.295, \"production\": 2393.1000000000004, \"imports\": 28.406854000000003, \"total_supply\": 2421.506854, \"exports\": 301.217497, \"total\": 2120.289357, \"farm_avail\": 7.591576494387654, \"retail_avail\": 7.060166139780518, \"type\": \"romaine-leaf\"}, {\"year\": 2000, \"pop\": 282.385, \"production\": 2702.4, \"imports\": 32.76400202, \"total_supply\": 2735.16400202, \"exports\": 367.36467554, \"total\": 2367.79932648, \"farm_avail\": 8.385003900632118, \"retail_avail\": 7.79805362758787, \"type\": \"romaine-leaf\"}, {\"year\": 2001, \"pop\": 285.309019, \"production\": 2646.1000000000004, \"imports\": 34.58741236, \"total_supply\": 2680.6874123600005, \"exports\": 390.44416109, \"total\": 2290.2432512700007, \"farm_avail\": 8.02723748200193, \"retail_avail\": 7.465330858261795, \"type\": \"romaine-leaf\"}, {\"year\": 2002, \"pop\": 288.104818, \"production\": 3197.4, \"imports\": 33.656626200000005, \"total_supply\": 3231.0566262, \"exports\": 466.99524528, \"total\": 2764.0613809200004, \"farm_avail\": 9.59394362131077, \"retail_avail\": 8.922367567819016, \"type\": \"romaine-leaf\"}, {\"year\": 2003, \"pop\": 290.819634, \"production\": 3547.3, \"imports\": 33.13972879, \"total_supply\": 3580.43972879, \"exports\": 433.60927587000003, \"total\": 3146.83045292, \"farm_avail\": 10.82055709113505, \"retail_avail\": 10.063118094755598, \"type\": \"romaine-leaf\"}, {\"year\": 2004, \"pop\": 293.463185, \"production\": 3971.2999999999997, \"imports\": 35.16552104, \"total_supply\": 4006.4655210399997, \"exports\": 489.79849856000004, \"total\": 3516.6670224799996, \"farm_avail\": 11.98333284115348, \"retail_avail\": 11.144499542272737, \"type\": \"romaine-leaf\"}, {\"year\": 2005, \"pop\": 296.186216, \"production\": 3297.3, \"imports\": 51.913009460000005, \"total_supply\": 3349.21300946, \"exports\": 486.31022093, \"total\": 2862.90278853, \"farm_avail\": 9.6658879916613, \"retail_avail\": 8.98927583224501, \"type\": \"romaine-leaf\"}, {\"year\": 2006, \"pop\": 298.995825, \"production\": 3981.7, \"imports\": 61.29701859000001, \"total_supply\": 4042.9970185899997, \"exports\": 460.96694338000003, \"total\": 3582.0300752099997, \"farm_avail\": 11.980200978425032, \"retail_avail\": 11.14158690993528, \"type\": \"romaine-leaf\"}, {\"year\": 2007, \"pop\": 302.003917, \"production\": 3864.9, \"imports\": 74.40335, \"total_supply\": 3939.30335, \"exports\": 453.42177693, \"total\": 3485.8815730700003, \"farm_avail\": 11.54250450688691, \"retail_avail\": 10.734529191404826, \"type\": \"romaine-leaf\"}, {\"year\": 2008, \"pop\": 304.797761, \"production\": 3555.5, \"imports\": 82.5595, \"total_supply\": 3638.0595, \"exports\": 466.104347, \"total\": 3171.955153, \"farm_avail\": 10.406753457089865, \"retail_avail\": 9.678280715093575, \"type\": \"romaine-leaf\"}, {\"year\": 2009, \"pop\": 307.439406, \"production\": 3420.0, \"imports\": 95.611802, \"total_supply\": 3515.611802, \"exports\": 442.517189, \"total\": 3073.0946129999998, \"farm_avail\": 9.995773323215436, \"retail_avail\": 9.296069190590357, \"type\": \"romaine-leaf\"}, {\"year\": 2010, \"pop\": 309.741279, \"production\": 4039.3, \"imports\": 103.33605756386002, \"total_supply\": 4142.63605756386, \"exports\": 422.33686862158, \"total\": 3720.29918894228, \"farm_avail\": 12.010989303567381, \"retail_avail\": 11.170220052317665, \"type\": \"romaine-leaf\"}, {\"year\": 2011, \"pop\": 311.973914, \"production\": 4008.1, \"imports\": 115.4304529697, \"total_supply\": 4123.5304529697, \"exports\": 463.68018023403994, \"total\": 3659.8502727356595, \"farm_avail\": 11.73127017515849, \"retail_avail\": 10.910081262897396, \"type\": \"romaine-leaf\"}, {\"year\": 2012, \"pop\": 314.167558, \"production\": 4108.1, \"imports\": 120.83057486103999, \"total_supply\": 4228.93057486104, \"exports\": 480.79136702409994, \"total\": 3748.1392078369404, \"farm_avail\": 11.930382728559582, \"retail_avail\": 11.095255937560411, \"type\": \"romaine-leaf\"}, {\"year\": 2013, \"pop\": 316.294766, \"production\": 3927.0, \"imports\": 169.69892914722004, \"total_supply\": 4096.69892914722, \"exports\": 482.78007095054005, \"total\": 3613.91885819668, \"farm_avail\": 11.425794058813734, \"retail_avail\": 10.625988474696774, \"type\": \"romaine-leaf\"}, {\"year\": 2014, \"pop\": 318.576955, \"production\": 3766.3, \"imports\": 153.90591331522003, \"total_supply\": 3920.20591331522, \"exports\": 479.7278627453401, \"total\": 3440.47805056988, \"farm_avail\": 10.799519540168497, \"retail_avail\": 10.043553172356702, \"type\": \"romaine-leaf\"}, {\"year\": 2015, \"pop\": 320.870703, \"production\": 4056.8, \"imports\": 191.46744843974002, \"total_supply\": 4248.26744843974, \"exports\": 431.86735710602, \"total\": 3816.4000913337204, \"farm_avail\": 11.893887648987763, \"retail_avail\": 11.06131551355862, \"type\": \"romaine-leaf\"}, {\"year\": 2016, \"pop\": 323.161011, \"production\": 4938.0, \"imports\": 185.79201360280004, \"total_supply\": 5123.7920136028, \"exports\": 427.05005076250006, \"total\": 4696.7419628402995, \"farm_avail\": 14.533751916131676, \"retail_avail\": 13.516389282002459, \"type\": \"romaine-leaf\"}, {\"year\": 2017, \"pop\": 325.20603, \"production\": 4998.3, \"imports\": 330.39441729030005, \"total_supply\": 5328.6944172903, \"exports\": 424.08478615624006, \"total\": 4904.609631134061, \"farm_avail\": 15.081545785402751, \"retail_avail\": 14.02583758042456, \"type\": \"romaine-leaf\"}, {\"year\": 2018, \"pop\": 326.923976, \"production\": 3975.74, \"imports\": 404.8961308246801, \"total_supply\": 4380.63613082468, \"exports\": 415.50160745346005, \"total\": 3965.1345233712195, \"farm_avail\": 12.128613422256983, \"retail_avail\": 11.279610482698995, \"type\": \"romaine-leaf\"}, {\"year\": 2019, \"pop\": 328.475998, \"production\": 3967.83, \"imports\": 529.11011615814, \"total_supply\": 4496.94011615814, \"exports\": 438.8279663534801, \"total\": 4058.11214980466, \"farm_avail\": 12.354364320417286, \"retail_avail\": 11.489558817988076, \"type\": \"romaine-leaf\"}]}}, {\"mode\": \"vega-lite\"});\n",
       "</script>"
      ],
      "text/plain": [
       "alt.Chart(...)"
      ]
     },
     "execution_count": 51,
     "metadata": {},
     "output_type": "execute_result"
    }
   ],
   "source": [
    "alt.Chart(df).mark_area(opacity=0.3).encode(\n",
    "    x=\"year:O\", y=alt.Y(\"imports:Q\", stack=None), color=\"type:N\"\n",
    ").properties(\n",
    "    width=650,\n",
    "    height=400,\n",
    "    title=\"lettuce: head vs. romaine/leaf, annual imports in millions of pounds\",\n",
    ")"
   ]
  },
  {
   "cell_type": "code",
   "execution_count": null,
   "id": "622767a6-9d16-49ff-8a5a-64681f814cf5",
   "metadata": {},
   "outputs": [],
   "source": []
  }
 ],
 "metadata": {
  "kernelspec": {
   "display_name": "Python 3 (ipykernel)",
   "language": "python",
   "name": "python3"
  },
  "language_info": {
   "codemirror_mode": {
    "name": "ipython",
    "version": 3
   },
   "file_extension": ".py",
   "mimetype": "text/x-python",
   "name": "python",
   "nbconvert_exporter": "python",
   "pygments_lexer": "ipython3",
   "version": "3.8.9"
  }
 },
 "nbformat": 4,
 "nbformat_minor": 5
}
