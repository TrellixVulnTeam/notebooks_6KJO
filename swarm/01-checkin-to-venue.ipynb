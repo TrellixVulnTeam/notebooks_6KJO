{
 "cells": [
  {
   "cell_type": "markdown",
   "id": "8e0b3021-e4c1-4275-927b-a9f36af914a8",
   "metadata": {
    "tags": []
   },
   "source": [
    "# Check in on Swarm"
   ]
  },
  {
   "cell_type": "markdown",
   "id": "d802b68e-518d-4209-9db2-ab2f1dd29ccd",
   "metadata": {},
   "source": [
    "### Import Python tools and Jupyter configuration"
   ]
  },
  {
   "cell_type": "code",
   "execution_count": 1,
   "id": "552c4863-3be8-4a73-9f52-991fb3d8eca1",
   "metadata": {},
   "outputs": [],
   "source": [
    "%load_ext lab_black"
   ]
  },
  {
   "cell_type": "code",
   "execution_count": 2,
   "id": "036a3d28-6aa0-46d3-a92c-564fc8ac09fe",
   "metadata": {},
   "outputs": [
    {
     "name": "stderr",
     "output_type": "stream",
     "text": [
      "/Users/mhustiles/.local/share/virtualenvs/notebooks-xu8v5Vvv/lib/python3.8/site-packages/geopandas/_compat.py:106: UserWarning: The Shapely GEOS version (3.8.0-CAPI-1.13.1 ) is incompatible with the GEOS version PyGEOS was compiled with (3.9.1-CAPI-1.14.2). Conversions between both will be slow.\n",
      "  warnings.warn(\n"
     ]
    }
   ],
   "source": [
    "import pandas as pd\n",
    "import geopandas as gpd\n",
    "import matplotlib.pyplot as plt\n",
    "import requests\n",
    "import json\n",
    "import sqlite3\n",
    "from datetime import datetime"
   ]
  },
  {
   "cell_type": "code",
   "execution_count": 3,
   "id": "1448a152-fb08-4f4c-8189-647028a5e642",
   "metadata": {},
   "outputs": [
    {
     "data": {
      "text/plain": [
       "ThemeRegistry.enable('latimes')"
      ]
     },
     "execution_count": 3,
     "metadata": {},
     "output_type": "execute_result"
    }
   ],
   "source": [
    "import altair as alt\n",
    "import altair_latimes as lat\n",
    "import keys\n",
    "\n",
    "alt.themes.register(\"latimes\", lat.theme)\n",
    "alt.themes.enable(\"latimes\")"
   ]
  },
  {
   "cell_type": "code",
   "execution_count": 4,
   "id": "59987629-b280-4658-b1aa-a638d96d219c",
   "metadata": {},
   "outputs": [
    {
     "data": {
      "text/plain": [
       "DataTransformerRegistry.enable('default')"
      ]
     },
     "execution_count": 4,
     "metadata": {},
     "output_type": "execute_result"
    }
   ],
   "source": [
    "pd.options.display.max_columns = 100\n",
    "pd.options.display.max_rows = 1000\n",
    "pd.options.display.max_colwidth = None\n",
    "alt.data_transformers.disable_max_rows()"
   ]
  },
  {
   "cell_type": "markdown",
   "id": "6e85a009-18ed-466b-8a43-6164eb485856",
   "metadata": {},
   "source": [
    "---"
   ]
  },
  {
   "cell_type": "markdown",
   "id": "7a9415c4-1e20-4a75-bbe8-2b0c7d470735",
   "metadata": {},
   "source": [
    "### Check in to the Los Angeles Times from home"
   ]
  },
  {
   "cell_type": "code",
   "execution_count": 5,
   "id": "98ea5692-e846-4137-999c-8b64eabf2c4d",
   "metadata": {},
   "outputs": [],
   "source": [
    "today = datetime.today().strftime(\"%Y%m%d\")"
   ]
  },
  {
   "cell_type": "code",
   "execution_count": 6,
   "id": "bea09704-e500-401a-b884-a66087457c67",
   "metadata": {},
   "outputs": [],
   "source": [
    "import requests\n",
    "import json\n",
    "\n",
    "# Get oauth token from keys.py\n",
    "oauth_token = keys.TOKEN\n",
    "\n",
    "# Venue ID (LA Times)\n",
    "# venueId = \"5b4bd8aacad1b60036b3c14f\"\n",
    "\n",
    "# Venue ID (Del Rey)\n",
    "venueId = \"4d27f64f467d6ea88416c295\"\n",
    "\n",
    "# Location lat,lon (LA Times location)\n",
    "ll = \"33.9304868616,-118.3823731281\"\n",
    "\n",
    "# Today's date for version\n",
    "v = today\n",
    "\n",
    "url = \"https://api.foursquare.com/v2/checkins/add?oauth_token={}&venueId={}&ll={}&v={}\""
   ]
  },
  {
   "cell_type": "code",
   "execution_count": 7,
   "id": "7ecf055d-f60b-48a1-ab8f-020d01414602",
   "metadata": {},
   "outputs": [],
   "source": [
    "r = requests.post(url.format(oauth_token, venueId, ll, v))"
   ]
  },
  {
   "cell_type": "code",
   "execution_count": 8,
   "id": "213f490a-b160-494a-a0fe-6bd8b2e8f89d",
   "metadata": {},
   "outputs": [
    {
     "data": {
      "text/plain": [
       "{'meta': {'code': 200, 'requestId': '6147ea0a55b5a316e2f933ff'},\n",
       " 'notifications': [{'type': 'notificationTray', 'item': {'unreadCount': 0}}],\n",
       " 'response': {'checkin': {'id': '6147ea0a88bbf712e7a8e1bf',\n",
       "   'createdAt': 1632102922,\n",
       "   'type': 'checkin',\n",
       "   'timeZoneOffset': -420,\n",
       "   'editableUntil': 1632189322000,\n",
       "   'user': {'id': '365881',\n",
       "    'firstName': 'Matt',\n",
       "    'lastName': 'Stiles',\n",
       "    'gender': 'male',\n",
       "    'countryCode': 'US',\n",
       "    'relationship': 'self',\n",
       "    'photo': {'prefix': 'https://fastly.4sqi.net/img/user/',\n",
       "     'suffix': '/365881_mGnkDRLm_kYdemvRTWBHEehXbnmp8EHQTn4rsOSg2OQP26q7s6pHJZCvyoscj2tcbeMVkFGE5.jpg'},\n",
       "    'coinBalance': 33793},\n",
       "   'venue': {'id': '4d27f64f467d6ea88416c295',\n",
       "    'name': 'Del Rey',\n",
       "    'contact': {'twitter': 'delreyneighbor'},\n",
       "    'location': {'lat': 33.989247846789695,\n",
       "     'lng': -118.41593089497835,\n",
       "     'labeledLatLngs': [{'label': 'display',\n",
       "       'lat': 33.989247846789695,\n",
       "       'lng': -118.41593089497835}],\n",
       "     'distance': 7237,\n",
       "     'postalCode': '90066',\n",
       "     'cc': 'US',\n",
       "     'city': 'Los Angeles',\n",
       "     'state': 'CA',\n",
       "     'country': 'United States',\n",
       "     'formattedAddress': ['Los Angeles, CA 90066']},\n",
       "    'categories': [{'id': '4f2a25ac4b909258e854f55f',\n",
       "      'name': 'Neighborhood',\n",
       "      'pluralName': 'Neighborhoods',\n",
       "      'shortName': 'Neighborhood',\n",
       "      'icon': {'prefix': 'https://ss3.4sqi.net/img/categories_v2/parks_outdoors/neighborhood_',\n",
       "       'suffix': '.png'},\n",
       "      'primary': True}],\n",
       "    'verified': False,\n",
       "    'stats': {'tipCount': 1, 'usersCount': 188, 'checkinsCount': 6648},\n",
       "    'url': 'http://www.delreync.org',\n",
       "    'venueRatingBlacklisted': True,\n",
       "    'beenHere': {'lastCheckinExpiredAt': 0},\n",
       "    'reasons': {'count': 1,\n",
       "     'items': [{'summary': \"You're here!\",\n",
       "       'type': 'general',\n",
       "       'reasonName': 'hereNowReason',\n",
       "       'target': {'type': 'navigation',\n",
       "        'object': {'id': '6147ea0b88bbf712e7a8e221',\n",
       "         'type': 'checkinDetail',\n",
       "         'target': {'type': 'path',\n",
       "          'url': '/checkins/6147ea0a88bbf712e7a8e1bf'},\n",
       "         'ignorable': False}}}]}},\n",
       "   'source': {'name': 'ThinkUp',\n",
       "    'url': 'https://mattystiles.temboolive.com/callback/'},\n",
       "   'distance': 0,\n",
       "   'photos': {'count': 0, 'items': []},\n",
       "   'posts': {'count': 0, 'textCount': 0},\n",
       "   'checkinShortUrl': 'https://www.swarmapp.com/stiles/checkin/6147ea0a88bbf712e7a8e1bf?s=jhwuRN6SP53PUoLuZH6RBuSH20c',\n",
       "   'likes': {'count': 0, 'groups': []},\n",
       "   'like': False,\n",
       "   'comments': {'count': 0, 'items': []},\n",
       "   'isMayor': False,\n",
       "   'score': {'total': 10,\n",
       "    'scores': [{'icon': 'https://ss1.4sqi.net/img/points/coin_icon_milestone.png',\n",
       "      'target': {'type': 'path',\n",
       "       'object': {'url': '/users/self/historysearch?categoryId=4f2a25ac4b909258e854f55f&displayText=Neighborhoods'}},\n",
       "      'message': \"Wow! That's 50 check-ins at Neighborhoods!\",\n",
       "      'points': 10}]}},\n",
       "  'notifications': [{'type': 'message',\n",
       "    'item': {'message': \"You've been here 3 times!\",\n",
       "     'entities': [{'indices': [17, 18], 'type': 'count', 'value': 3}]},\n",
       "    'alert': False},\n",
       "   {'type': 'insights',\n",
       "    'item': {'insights': {'count': 1,\n",
       "      'items': [{'type': 'pointsReward',\n",
       "        'image': 'https://ss1.4sqi.net/img/points/coin_icon_milestone_120.png',\n",
       "        'title': \"Wow! That's 50 check-ins at Neighborhoods!\",\n",
       "        'points': {'image': {'prefix': 'https://ss1.4sqi.net/img/points/coin_icon_milestone_',\n",
       "          'sizes': [80, 120],\n",
       "          'name': '.png',\n",
       "          'key': 'milestone'},\n",
       "         'target': {'type': 'path',\n",
       "          'object': {'url': '/users/self/historysearch?categoryId=4f2a25ac4b909258e854f55f&displayText=Neighborhoods'}},\n",
       "         'message': \"Wow! That's 50 check-ins at Neighborhoods!\",\n",
       "         'points': 10}}]}},\n",
       "    'alert': True}],\n",
       "  'notificationsOrder': ['special', 'score', 'leaderboard', 'replies']}}"
      ]
     },
     "execution_count": 8,
     "metadata": {},
     "output_type": "execute_result"
    }
   ],
   "source": [
    "r.json()"
   ]
  }
 ],
 "metadata": {
  "kernelspec": {
   "display_name": "Python 3 (ipykernel)",
   "language": "python",
   "name": "python3"
  },
  "language_info": {
   "codemirror_mode": {
    "name": "ipython",
    "version": 3
   },
   "file_extension": ".py",
   "mimetype": "text/x-python",
   "name": "python",
   "nbconvert_exporter": "python",
   "pygments_lexer": "ipython3",
   "version": "3.8.11"
  }
 },
 "nbformat": 4,
 "nbformat_minor": 5
}
