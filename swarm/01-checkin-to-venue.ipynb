{
 "cells": [
  {
   "cell_type": "markdown",
   "id": "8e0b3021-e4c1-4275-927b-a9f36af914a8",
   "metadata": {},
   "source": [
    "# Check in on Swarm"
   ]
  },
  {
   "cell_type": "markdown",
   "id": "d802b68e-518d-4209-9db2-ab2f1dd29ccd",
   "metadata": {},
   "source": [
    "### Import Python tools and Jupyter configuration"
   ]
  },
  {
   "cell_type": "code",
   "execution_count": 111,
   "id": "552c4863-3be8-4a73-9f52-991fb3d8eca1",
   "metadata": {},
   "outputs": [
    {
     "name": "stdout",
     "output_type": "stream",
     "text": [
      "The lab_black extension is already loaded. To reload it, use:\n",
      "  %reload_ext lab_black\n"
     ]
    }
   ],
   "source": [
    "%load_ext lab_black"
   ]
  },
  {
   "cell_type": "code",
   "execution_count": 112,
   "id": "036a3d28-6aa0-46d3-a92c-564fc8ac09fe",
   "metadata": {},
   "outputs": [],
   "source": [
    "import pandas as pd\n",
    "import geopandas as gpd\n",
    "import matplotlib.pyplot as plt\n",
    "import altair as alt\n",
    "import requests\n",
    "import json\n",
    "import sqlite3\n",
    "from datetime import datetime"
   ]
  },
  {
   "cell_type": "code",
   "execution_count": 113,
   "id": "1448a152-fb08-4f4c-8189-647028a5e642",
   "metadata": {},
   "outputs": [
    {
     "data": {
      "text/plain": [
       "ThemeRegistry.enable('latimes')"
      ]
     },
     "execution_count": 113,
     "metadata": {},
     "output_type": "execute_result"
    }
   ],
   "source": [
    "import altair as alt\n",
    "import altair_latimes as lat\n",
    "\n",
    "alt.themes.register(\"latimes\", lat.theme)\n",
    "alt.themes.enable(\"latimes\")"
   ]
  },
  {
   "cell_type": "code",
   "execution_count": 114,
   "id": "59987629-b280-4658-b1aa-a638d96d219c",
   "metadata": {},
   "outputs": [
    {
     "data": {
      "text/plain": [
       "DataTransformerRegistry.enable('default')"
      ]
     },
     "execution_count": 114,
     "metadata": {},
     "output_type": "execute_result"
    }
   ],
   "source": [
    "pd.options.display.max_columns = 100\n",
    "pd.options.display.max_rows = 1000\n",
    "pd.options.display.max_colwidth = None\n",
    "alt.data_transformers.disable_max_rows()"
   ]
  },
  {
   "cell_type": "markdown",
   "id": "6e85a009-18ed-466b-8a43-6164eb485856",
   "metadata": {},
   "source": [
    "---"
   ]
  },
  {
   "cell_type": "markdown",
   "id": "7a9415c4-1e20-4a75-bbe8-2b0c7d470735",
   "metadata": {},
   "source": [
    "### Check in to the Los Angeles Times from home"
   ]
  },
  {
   "cell_type": "code",
   "execution_count": 115,
   "id": "98ea5692-e846-4137-999c-8b64eabf2c4d",
   "metadata": {},
   "outputs": [],
   "source": [
    "today = datetime.today().strftime(\"%Y%m%d\")"
   ]
  },
  {
   "cell_type": "code",
   "execution_count": 135,
   "id": "bea09704-e500-401a-b884-a66087457c67",
   "metadata": {},
   "outputs": [],
   "source": [
    "import requests\n",
    "import json\n",
    "\n",
    "oauth_token = \"UXTT2DWG0ZF01W4X4FZXAL2LYLQ5CLBKW5ZTEB3QJTKZAONN\"\n",
    "\n",
    "# Venue ID\n",
    "venueId = \"5437cf8c498ea44ee25c35ab\"\n",
    "\n",
    "# Location lat,lon\n",
    "ll = \"33.9304868616,-118.3823731281\"\n",
    "\n",
    "# Today's date for version\n",
    "v = today\n",
    "\n",
    "url = \"https://api.foursquare.com/v2/checkins/add?oauth_token={}&venueId={}&ll={}&v={}\""
   ]
  },
  {
   "cell_type": "code",
   "execution_count": 136,
   "id": "7ecf055d-f60b-48a1-ab8f-020d01414602",
   "metadata": {},
   "outputs": [],
   "source": [
    "r = requests.post(url.format(oauth_token, venueId, ll, v))"
   ]
  },
  {
   "cell_type": "code",
   "execution_count": 137,
   "id": "213f490a-b160-494a-a0fe-6bd8b2e8f89d",
   "metadata": {},
   "outputs": [
    {
     "data": {
      "text/plain": [
       "{'meta': {'code': 200, 'requestId': '6101e89d6ab04659db220485'},\n",
       " 'notifications': [{'type': 'notificationTray', 'item': {'unreadCount': 9}}],\n",
       " 'response': {'checkin': {'id': '6101e89d8a0dee69da1011ad',\n",
       "   'createdAt': 1627515037,\n",
       "   'type': 'checkin',\n",
       "   'timeZoneOffset': -420,\n",
       "   'editableUntil': 1627601437000,\n",
       "   'user': {'id': '365881',\n",
       "    'firstName': 'Matt',\n",
       "    'lastName': 'Stiles',\n",
       "    'gender': 'male',\n",
       "    'countryCode': 'US',\n",
       "    'relationship': 'self',\n",
       "    'photo': {'prefix': 'https://fastly.4sqi.net/img/user/',\n",
       "     'suffix': '/365881_mGnkDRLm_kYdemvRTWBHEehXbnmp8EHQTn4rsOSg2OQP26q7s6pHJZCvyoscj2tcbeMVkFGE5.jpg'},\n",
       "    'coinBalance': 31918},\n",
       "   'venue': {'id': '5437cf8c498ea44ee25c35ab',\n",
       "    'name': 'Hollywood Sign',\n",
       "    'contact': {},\n",
       "    'location': {'lat': 34.102690382999306,\n",
       "     'lng': -118.33901787044675,\n",
       "     'labeledLatLngs': [{'label': 'display',\n",
       "       'lat': 34.102690382999306,\n",
       "       'lng': -118.33901787044675}],\n",
       "     'distance': 19582,\n",
       "     'cc': 'US',\n",
       "     'city': 'Los Angeles',\n",
       "     'state': 'CA',\n",
       "     'country': 'United States',\n",
       "     'formattedAddress': ['Los Angeles, CA']},\n",
       "    'categories': [{'id': '4deefb944765f83613cdba6e',\n",
       "      'name': 'Historic Site',\n",
       "      'pluralName': 'Historic Sites',\n",
       "      'shortName': 'Historic Site',\n",
       "      'icon': {'prefix': 'https://ss3.4sqi.net/img/categories_v2/arts_entertainment/historicsite_',\n",
       "       'suffix': '.png'},\n",
       "      'primary': True}],\n",
       "    'verified': False,\n",
       "    'stats': {'tipCount': 4, 'usersCount': 258, 'checkinsCount': 275},\n",
       "    'beenHere': {'lastCheckinExpiredAt': 0},\n",
       "    'reasons': {'count': 1,\n",
       "     'items': [{'summary': \"You're here!\",\n",
       "       'type': 'general',\n",
       "       'reasonName': 'hereNowReason',\n",
       "       'target': {'type': 'navigation',\n",
       "        'object': {'id': '6101e89d8a0dee69da10124b',\n",
       "         'type': 'checkinDetail',\n",
       "         'target': {'type': 'path',\n",
       "          'url': '/checkins/6101e89d8a0dee69da1011ad'},\n",
       "         'ignorable': False}}}]}},\n",
       "   'source': {'name': 'ThinkUp',\n",
       "    'url': 'https://mattystiles.temboolive.com/callback/'},\n",
       "   'distance': 0,\n",
       "   'photos': {'count': 0, 'items': []},\n",
       "   'posts': {'count': 0, 'textCount': 0},\n",
       "   'checkinShortUrl': 'https://www.swarmapp.com/user/365881/checkin/6101e89d8a0dee69da1011ad?s=saiMImzuVgo3km9oX4Ne5V1keLQ',\n",
       "   'likes': {'count': 0, 'groups': []},\n",
       "   'like': False,\n",
       "   'comments': {'count': 0, 'items': []},\n",
       "   'isMayor': False,\n",
       "   'score': {'total': 12,\n",
       "    'scores': [{'icon': 'https://ss1.4sqi.net/img/points/coin_icon_magnify.png',\n",
       "      'message': 'Your first check-in at Hollywood Sign!',\n",
       "      'points': 5},\n",
       "     {'icon': 'https://ss1.4sqi.net/img/points/coin_icon_clock.png',\n",
       "      'target': {'type': 'path',\n",
       "       'object': {'url': '/users/self/historysearch?categoryId=4deefb944765f83613cdba6e&displayText=Historic+Sites'}},\n",
       "      'message': 'First Historic Site check-in in 2 years!',\n",
       "      'points': 5},\n",
       "     {'icon': 'https://ss1.4sqi.net/img/points/coin_icon_magnify.png',\n",
       "      'message': 'First of your friends to check in here.',\n",
       "      'points': 2}]}},\n",
       "  'notifications': [{'type': 'message',\n",
       "    'item': {'message': \"It's your first check-in here!\", 'entities': []},\n",
       "    'alert': False},\n",
       "   {'type': 'insights',\n",
       "    'item': {'insights': {'count': 3,\n",
       "      'items': [{'type': 'pointsReward',\n",
       "        'image': 'https://ss1.4sqi.net/img/points/coin_icon_magnify_120.png',\n",
       "        'title': 'Your first check-in at Hollywood Sign!',\n",
       "        'points': {'image': {'prefix': 'https://ss1.4sqi.net/img/points/coin_icon_magnify_',\n",
       "          'sizes': [80, 120],\n",
       "          'name': '.png',\n",
       "          'key': 'magnify'},\n",
       "         'message': 'Your first check-in at Hollywood Sign!',\n",
       "         'points': 5}},\n",
       "       {'type': 'pointsReward',\n",
       "        'image': 'https://ss1.4sqi.net/img/points/coin_icon_clock_120.png',\n",
       "        'title': 'First Historic Site check-in in 2 years!',\n",
       "        'points': {'image': {'prefix': 'https://ss1.4sqi.net/img/points/coin_icon_clock_',\n",
       "          'sizes': [80, 120],\n",
       "          'name': '.png',\n",
       "          'key': 'clock'},\n",
       "         'target': {'type': 'path',\n",
       "          'object': {'url': '/users/self/historysearch?categoryId=4deefb944765f83613cdba6e&displayText=Historic+Sites'}},\n",
       "         'message': 'First Historic Site check-in in 2 years!',\n",
       "         'points': 5}},\n",
       "       {'type': 'pointsReward',\n",
       "        'image': 'https://ss1.4sqi.net/img/points/coin_icon_magnify_120.png',\n",
       "        'title': 'First of your friends to check in here.',\n",
       "        'points': {'image': {'prefix': 'https://ss1.4sqi.net/img/points/coin_icon_magnify_',\n",
       "          'sizes': [80, 120],\n",
       "          'name': '.png',\n",
       "          'key': 'magnify'},\n",
       "         'message': 'First of your friends to check in here.',\n",
       "         'points': 2}}]}},\n",
       "    'alert': True}],\n",
       "  'notificationsOrder': ['special', 'score', 'leaderboard', 'replies']}}"
      ]
     },
     "execution_count": 137,
     "metadata": {},
     "output_type": "execute_result"
    }
   ],
   "source": [
    "r.json()"
   ]
  },
  {
   "cell_type": "code",
   "execution_count": null,
   "id": "48fdcb94-88fd-48f1-9c6b-51d0da64134a",
   "metadata": {},
   "outputs": [],
   "source": []
  }
 ],
 "metadata": {
  "kernelspec": {
   "display_name": "Python 3",
   "language": "python",
   "name": "python3"
  },
  "language_info": {
   "codemirror_mode": {
    "name": "ipython",
    "version": 3
   },
   "file_extension": ".py",
   "mimetype": "text/x-python",
   "name": "python",
   "nbconvert_exporter": "python",
   "pygments_lexer": "ipython3",
   "version": "3.8.11"
  }
 },
 "nbformat": 4,
 "nbformat_minor": 5
}
