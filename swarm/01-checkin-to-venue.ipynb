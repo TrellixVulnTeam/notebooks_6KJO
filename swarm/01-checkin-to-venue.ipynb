{
 "cells": [
  {
   "cell_type": "markdown",
   "id": "8e0b3021-e4c1-4275-927b-a9f36af914a8",
   "metadata": {
    "tags": []
   },
   "source": [
    "# Check in on Swarm"
   ]
  },
  {
   "cell_type": "markdown",
   "id": "d802b68e-518d-4209-9db2-ab2f1dd29ccd",
   "metadata": {},
   "source": [
    "### Import Python tools and Jupyter configuration"
   ]
  },
  {
   "cell_type": "code",
   "execution_count": 1,
   "id": "552c4863-3be8-4a73-9f52-991fb3d8eca1",
   "metadata": {},
   "outputs": [],
   "source": [
    "%load_ext lab_black"
   ]
  },
  {
   "cell_type": "code",
   "execution_count": 2,
   "id": "036a3d28-6aa0-46d3-a92c-564fc8ac09fe",
   "metadata": {},
   "outputs": [],
   "source": [
    "import pandas as pd\n",
    "import geopandas as gpd\n",
    "import matplotlib.pyplot as plt\n",
    "import requests\n",
    "import json\n",
    "import sqlite3\n",
    "from datetime import datetime\n",
    "import keys"
   ]
  },
  {
   "cell_type": "code",
   "execution_count": 3,
   "id": "59987629-b280-4658-b1aa-a638d96d219c",
   "metadata": {},
   "outputs": [],
   "source": [
    "pd.options.display.max_columns = 100\n",
    "pd.options.display.max_rows = 1000\n",
    "pd.options.display.max_colwidth = None"
   ]
  },
  {
   "cell_type": "markdown",
   "id": "6e85a009-18ed-466b-8a43-6164eb485856",
   "metadata": {},
   "source": [
    "---"
   ]
  },
  {
   "cell_type": "markdown",
   "id": "7a9415c4-1e20-4a75-bbe8-2b0c7d470735",
   "metadata": {},
   "source": [
    "### Check in to the Los Angeles Times from home"
   ]
  },
  {
   "cell_type": "code",
   "execution_count": 4,
   "id": "d357b917-3dff-4a25-9910-be1387706121",
   "metadata": {},
   "outputs": [],
   "source": [
    "today = datetime.today().strftime(\"%Y%m%d\")"
   ]
  },
  {
   "cell_type": "code",
   "execution_count": 5,
   "id": "bea09704-e500-401a-b884-a66087457c67",
   "metadata": {},
   "outputs": [],
   "source": [
    "import requests\n",
    "import json\n",
    "\n",
    "# Get oauth token from keys.py\n",
    "oauth_token = keys.foursquare_token\n",
    "\n",
    "# Venue ID (LA Times)\n",
    "venueId = \"5b4bd8aacad1b60036b3c14f\"\n",
    "\n",
    "# Venue ID (Del Rey)\n",
    "# venueId = \"4d27f64f467d6ea88416c295\"\n",
    "\n",
    "# Location lat,lon (LA Times location)\n",
    "ll = \"33.9304868616,-118.3823731281\"\n",
    "\n",
    "# Today's date for version\n",
    "v = today\n",
    "\n",
    "url = \"https://api.foursquare.com/v2/checkins/add?oauth_token={}&venueId={}&ll={}&v={}\""
   ]
  },
  {
   "cell_type": "code",
   "execution_count": 6,
   "id": "9354803b-e450-41b0-a367-4a17db4e3fd4",
   "metadata": {},
   "outputs": [],
   "source": [
    "r = requests.post(url.format(oauth_token, venueId, ll, v))"
   ]
  },
  {
   "cell_type": "code",
   "execution_count": 7,
   "id": "83caa184-91e6-4037-a2dc-ff0423138d71",
   "metadata": {},
   "outputs": [
    {
     "data": {
      "text/plain": [
       "'https://api.foursquare.com/v2/checkins/add?oauth_token=KO2MRLFFJBJC3QT41B0X4YPYUA1J3DY2VFCHTN4TYGWCELC1&venueId=5b4bd8aacad1b60036b3c14f&ll=33.9304868616,-118.3823731281&v=20220919'"
      ]
     },
     "execution_count": 7,
     "metadata": {},
     "output_type": "execute_result"
    }
   ],
   "source": [
    "url.format(oauth_token, venueId, ll, v)"
   ]
  },
  {
   "cell_type": "code",
   "execution_count": 8,
   "id": "213f490a-b160-494a-a0fe-6bd8b2e8f89d",
   "metadata": {},
   "outputs": [
    {
     "data": {
      "text/plain": [
       "{'meta': {'code': 200, 'requestId': '6328944be69f370229a3e22f'},\n",
       " 'notifications': [{'type': 'notificationTray', 'item': {'unreadCount': 3}}],\n",
       " 'response': {'checkin': {'id': '6328944b40878d247e91555c',\n",
       "   'createdAt': 1663603787,\n",
       "   'type': 'checkin',\n",
       "   'timeZoneOffset': -420,\n",
       "   'editableUntil': 1663690187000,\n",
       "   'user': {'id': '365881',\n",
       "    'firstName': 'Matt',\n",
       "    'lastName': 'Stiles',\n",
       "    'gender': 'male',\n",
       "    'address': '',\n",
       "    'city': '',\n",
       "    'state': '',\n",
       "    'countryCode': 'US',\n",
       "    'relationship': 'self',\n",
       "    'photo': {'prefix': 'https://fastly.4sqi.net/img/user/',\n",
       "     'suffix': '/365881_mGnkDRLm_kYdemvRTWBHEehXbnmp8EHQTn4rsOSg2OQP26q7s6pHJZCvyoscj2tcbeMVkFGE5.jpg'},\n",
       "    'coinBalance': 38222},\n",
       "   'venue': {'id': '5b4bd8aacad1b60036b3c14f',\n",
       "    'name': 'Los Angeles Times',\n",
       "    'location': {'address': '2300 E Imperial Hwy',\n",
       "     'crossStreet': 'Douglas Street',\n",
       "     'lat': 33.93048686155164,\n",
       "     'lng': -118.38237312806986,\n",
       "     'labeledLatLngs': [{'label': 'display',\n",
       "       'lat': 33.93048686155164,\n",
       "       'lng': -118.38237312806986},\n",
       "      {'label': 'entrance', 'lat': 33.930568, 'lng': -118.382405}],\n",
       "     'distance': 0,\n",
       "     'postalCode': '90245',\n",
       "     'cc': 'US',\n",
       "     'city': 'El Segundo',\n",
       "     'state': 'CA',\n",
       "     'country': 'United States',\n",
       "     'formattedAddress': ['2300 E Imperial Hwy (Douglas Street)',\n",
       "      'El Segundo, CA 90245']},\n",
       "    'categories': [{'id': '4bf58dd8d48988d124941735',\n",
       "      'name': 'Office',\n",
       "      'pluralName': 'Offices',\n",
       "      'shortName': 'Office',\n",
       "      'icon': {'prefix': 'https://ss3.4sqi.net/img/categories_v2/building/default_',\n",
       "       'suffix': '.png'},\n",
       "      'primary': True}],\n",
       "    'reasons': {'count': 1,\n",
       "     'items': [{'summary': \"You're here!\",\n",
       "       'type': 'general',\n",
       "       'reasonName': 'hereNowReason',\n",
       "       'target': {'type': 'navigation',\n",
       "        'object': {'id': '6328944c40878d247e91595d',\n",
       "         'type': 'checkinDetail',\n",
       "         'target': {'type': 'path',\n",
       "          'url': '/checkins/6328944b40878d247e91555c'},\n",
       "         'ignorable': False}}}]}},\n",
       "   'source': {'name': 'Swarm', 'url': 'https://mattstiles.me'},\n",
       "   'distance': 0,\n",
       "   'photos': {'count': 0, 'items': []},\n",
       "   'posts': {'count': 0, 'textCount': 0},\n",
       "   'checkinShortUrl': 'https://www.swarmapp.com/stiles/checkin/6328944b40878d247e91555c?s=uE49H0YYzoM8dY8llOI6eSHZDiA',\n",
       "   'likes': {'count': 0, 'groups': []},\n",
       "   'like': False,\n",
       "   'comments': {'count': 0, 'items': []},\n",
       "   'isMayor': True,\n",
       "   'score': {'total': 10,\n",
       "    'scores': [{'icon': 'https://ss1.4sqi.net/img/points/coin_icon_crown.png',\n",
       "      'message': \"Still got the crown! Just don't get Joffrey'd.\",\n",
       "      'points': 3},\n",
       "     {'icon': 'https://ss1.4sqi.net/img/points/coin_icon_default.png',\n",
       "      'message': 'Shotgun Spratling (friends with Robert) created this place 4 years ago.',\n",
       "      'points': 3},\n",
       "     {'icon': 'https://ss1.4sqi.net/img/points/coin_icon_clock.png',\n",
       "      'target': {'type': 'path',\n",
       "       'object': {'url': '/users/self/historysearch?venueIds=5b4bd8aacad1b60036b3c14f&displayText=Los+Angeles+Times'}},\n",
       "      'message': \"You haven't checked in to Los Angeles Times since December '21.\",\n",
       "      'points': 2},\n",
       "     {'icon': 'https://ss1.4sqi.net/img/points/coin_icon_magnify.png',\n",
       "      'target': {'type': 'path',\n",
       "       'object': {'url': '/users/self/historysearch?geoId=72057594043273796&displayText=El+Segundo'}},\n",
       "      'message': \"Your last check-in in El Segundo was in December '21 at Los Angeles Times.\",\n",
       "      'points': 2}]}},\n",
       "  'notifications': [{'type': 'message',\n",
       "    'item': {'message': \"You've been here 114 times!\",\n",
       "     'entities': [{'indices': [17, 20], 'type': 'count', 'value': 114}]},\n",
       "    'alert': False},\n",
       "   {'type': 'insights',\n",
       "    'item': {'insights': {'count': 4,\n",
       "      'items': [{'type': 'pointsReward',\n",
       "        'image': 'https://ss1.4sqi.net/img/points/coin_icon_crown_120.png',\n",
       "        'title': \"Still got the crown! Just don't get Joffrey'd.\",\n",
       "        'points': {'image': {'prefix': 'https://ss1.4sqi.net/img/points/coin_icon_crown_',\n",
       "          'sizes': [80, 120],\n",
       "          'name': '.png',\n",
       "          'key': 'crown'},\n",
       "         'message': \"Still got the crown! Just don't get Joffrey'd.\",\n",
       "         'points': 3}},\n",
       "       {'type': 'pointsReward',\n",
       "        'image': 'https://ss1.4sqi.net/img/points/coin_icon_default_120.png',\n",
       "        'title': 'Shotgun Spratling (friends with Robert) created this place 4 years ago.',\n",
       "        'points': {'image': {'prefix': 'https://ss1.4sqi.net/img/points/coin_icon_default_',\n",
       "          'sizes': [80, 120],\n",
       "          'name': '.png',\n",
       "          'key': 'default'},\n",
       "         'message': 'Shotgun Spratling (friends with Robert) created this place 4 years ago.',\n",
       "         'points': 3}},\n",
       "       {'type': 'pointsReward',\n",
       "        'image': 'https://ss1.4sqi.net/img/points/coin_icon_clock_120.png',\n",
       "        'title': \"You haven't checked in to Los Angeles Times since December '21.\",\n",
       "        'points': {'image': {'prefix': 'https://ss1.4sqi.net/img/points/coin_icon_clock_',\n",
       "          'sizes': [80, 120],\n",
       "          'name': '.png',\n",
       "          'key': 'clock'},\n",
       "         'target': {'type': 'path',\n",
       "          'object': {'url': '/users/self/historysearch?venueIds=5b4bd8aacad1b60036b3c14f&displayText=Los+Angeles+Times'}},\n",
       "         'message': \"You haven't checked in to Los Angeles Times since December '21.\",\n",
       "         'points': 2}},\n",
       "       {'type': 'pointsReward',\n",
       "        'image': 'https://ss1.4sqi.net/img/points/coin_icon_magnify_120.png',\n",
       "        'title': \"Your last check-in in El Segundo was in December '21 at Los Angeles Times.\",\n",
       "        'points': {'image': {'prefix': 'https://ss1.4sqi.net/img/points/coin_icon_magnify_',\n",
       "          'sizes': [80, 120],\n",
       "          'name': '.png',\n",
       "          'key': 'magnify'},\n",
       "         'target': {'type': 'path',\n",
       "          'object': {'url': '/users/self/historysearch?geoId=72057594043273796&displayText=El+Segundo'}},\n",
       "         'message': \"Your last check-in in El Segundo was in December '21 at Los Angeles Times.\",\n",
       "         'points': 2}}]}},\n",
       "    'alert': True}],\n",
       "  'notificationsOrder': ['special', 'score', 'leaderboard', 'replies']}}"
      ]
     },
     "execution_count": 8,
     "metadata": {},
     "output_type": "execute_result"
    }
   ],
   "source": [
    "r.json()"
   ]
  },
  {
   "cell_type": "code",
   "execution_count": null,
   "id": "2d5de00d-14c8-4793-8755-18a51dc7e280",
   "metadata": {},
   "outputs": [],
   "source": []
  }
 ],
 "metadata": {
  "kernelspec": {
   "display_name": "Python 3 (ipykernel)",
   "language": "python",
   "name": "python3"
  },
  "language_info": {
   "codemirror_mode": {
    "name": "ipython",
    "version": 3
   },
   "file_extension": ".py",
   "mimetype": "text/x-python",
   "name": "python",
   "nbconvert_exporter": "python",
   "pygments_lexer": "ipython3",
   "version": "3.8.9"
  }
 },
 "nbformat": 4,
 "nbformat_minor": 5
}
