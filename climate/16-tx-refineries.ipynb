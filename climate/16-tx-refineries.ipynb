{
 "cells": [
  {
   "cell_type": "code",
   "execution_count": 1,
   "id": "b02529ca-2e47-47b1-bb65-04871a248c65",
   "metadata": {},
   "outputs": [],
   "source": [
    "%load_ext lab_black"
   ]
  },
  {
   "cell_type": "code",
   "execution_count": 2,
   "id": "b4af9b26-37b0-446d-86b4-d3dda5ae120f",
   "metadata": {},
   "outputs": [
    {
     "name": "stdout",
     "output_type": "stream",
     "text": [
      "Requirement already satisfied: fiona in /Users/alexleedsmatthews/.local/share/virtualenvs/notebooks-HSWNtBAS/lib/python3.8/site-packages (1.8.21)\n",
      "Requirement already satisfied: munch in /Users/alexleedsmatthews/.local/share/virtualenvs/notebooks-HSWNtBAS/lib/python3.8/site-packages (from fiona) (2.5.0)\n",
      "Requirement already satisfied: six>=1.7 in /Users/alexleedsmatthews/.local/share/virtualenvs/notebooks-HSWNtBAS/lib/python3.8/site-packages (from fiona) (1.16.0)\n",
      "Requirement already satisfied: cligj>=0.5 in /Users/alexleedsmatthews/.local/share/virtualenvs/notebooks-HSWNtBAS/lib/python3.8/site-packages (from fiona) (0.7.2)\n",
      "Requirement already satisfied: click-plugins>=1.0 in /Users/alexleedsmatthews/.local/share/virtualenvs/notebooks-HSWNtBAS/lib/python3.8/site-packages (from fiona) (1.1.1)\n",
      "Requirement already satisfied: attrs>=17 in /Users/alexleedsmatthews/.local/share/virtualenvs/notebooks-HSWNtBAS/lib/python3.8/site-packages (from fiona) (21.4.0)\n",
      "Requirement already satisfied: setuptools in /Users/alexleedsmatthews/.local/share/virtualenvs/notebooks-HSWNtBAS/lib/python3.8/site-packages (from fiona) (62.3.2)\n",
      "Requirement already satisfied: click>=4.0 in /Users/alexleedsmatthews/.local/share/virtualenvs/notebooks-HSWNtBAS/lib/python3.8/site-packages (from fiona) (8.1.3)\n",
      "Requirement already satisfied: certifi in /Users/alexleedsmatthews/.local/share/virtualenvs/notebooks-HSWNtBAS/lib/python3.8/site-packages (from fiona) (2022.5.18.1)\n",
      "Note: you may need to restart the kernel to use updated packages.\n"
     ]
    }
   ],
   "source": [
    "%pip install fiona"
   ]
  },
  {
   "cell_type": "code",
   "execution_count": 3,
   "id": "a9200de2-b867-49b5-b8d5-d359aa0bfdc3",
   "metadata": {},
   "outputs": [],
   "source": [
    "import requests\n",
    "import urllib.request\n",
    "import numpy as np"
   ]
  },
  {
   "cell_type": "code",
   "execution_count": 4,
   "id": "6a8ab29c-2621-4dc5-a7f1-ebb4a81e6b69",
   "metadata": {},
   "outputs": [],
   "source": [
    "import pandas as pd\n",
    "import gspread\n",
    "from oauth2client.service_account import ServiceAccountCredentials"
   ]
  },
  {
   "cell_type": "code",
   "execution_count": 5,
   "id": "a7f68809-2078-4d1e-8221-309466042d33",
   "metadata": {},
   "outputs": [],
   "source": [
    "from datawrapper import Datawrapper\n",
    "\n",
    "dw = Datawrapper(\n",
    "    access_token=\"FtIwtvFtoGLaRT9a3gjX69PLu4wSuRyKddoOz6SOPw3k9wWyNICMHTkcPhOGCR5Z\"\n",
    ")"
   ]
  },
  {
   "cell_type": "code",
   "execution_count": 6,
   "id": "e390c062-4331-459d-85a4-3a32f3cf3b24",
   "metadata": {},
   "outputs": [],
   "source": [
    "# scope = ['https://spreadsheets.google.com/feeds']\n",
    "# credentials = ServiceAccountCredentials.from_json_keyfile_name('jupyter-integration-349314-25735d35924b.json', scope)\n",
    "# gc = gspread.authorize(credentials)"
   ]
  },
  {
   "cell_type": "code",
   "execution_count": 7,
   "id": "ae52ea96-324a-494d-b3dd-729d4c5ccaba",
   "metadata": {},
   "outputs": [],
   "source": [
    "# spreadsheet_key = \"1sCb1YbQ3-1oiL-cnK0yCkwFcQpvpf0efIngAUeC1ixo\"\n",
    "# book = gc.open_by_key(spreadsheet_key)"
   ]
  },
  {
   "cell_type": "code",
   "execution_count": 8,
   "id": "f8cb6350-fa9d-4f10-a58c-fd3b95c0580e",
   "metadata": {},
   "outputs": [],
   "source": [
    "pd.options.display.max_columns = 1000\n",
    "pd.options.display.max_rows = 1000"
   ]
  },
  {
   "cell_type": "code",
   "execution_count": 9,
   "id": "f19fa2f9-40cf-4cfb-95c4-d20b2ebbbec6",
   "metadata": {},
   "outputs": [
    {
     "name": "stderr",
     "output_type": "stream",
     "text": [
      "/Users/alexleedsmatthews/.local/share/virtualenvs/notebooks-HSWNtBAS/lib/python3.8/site-packages/geopandas/_compat.py:111: UserWarning: The Shapely GEOS version (3.10.2-CAPI-1.16.0) is incompatible with the GEOS version PyGEOS was compiled with (3.10.1-CAPI-1.16.0). Conversions between both will be slow.\n",
      "  warnings.warn(\n"
     ]
    }
   ],
   "source": [
    "import geopandas as gpd"
   ]
  },
  {
   "cell_type": "code",
   "execution_count": 11,
   "id": "3eb1afdf-45b0-4929-bb5f-58af8bf2e508",
   "metadata": {},
   "outputs": [],
   "source": [
    "tx_refineries = pd.read_csv(\"data/raw/refineries_bycounty.csv\")"
   ]
  },
  {
   "cell_type": "code",
   "execution_count": 12,
   "id": "d3ec6464-b2cb-4507-a13b-9f1f3713f8a6",
   "metadata": {},
   "outputs": [
    {
     "data": {
      "text/plain": [
       "Index(['FID', 'Company', 'Name', 'Terminal_S', 'City', 'State', 'Country',\n",
       "       'Zip', 'Longitude', 'Latitude', 'Cty_Parish', 'Storage', 'SendOut',\n",
       "       'Markets', 'Availabili', 'Type', 'Imp_Exp', 'Status', 'FERC_MARAD',\n",
       "       'Address', 'FID_2', 'NAME_2', 'STATE_NAME', 'STATE_FIPS', 'CNTY_FIPS',\n",
       "       'FIPS', 'POPULATION', 'POP_SQMI', 'POP2010', 'POP10_SQMI', 'WHITE',\n",
       "       'BLACK', 'AMERI_ES', 'ASIAN', 'HAWN_PI', 'HISPANIC', 'OTHER',\n",
       "       'MULT_RACE', 'MALES', 'FEMALES', 'AGE_UNDER5', 'AGE_5_9', 'AGE_10_14',\n",
       "       'AGE_15_19', 'AGE_20_24', 'AGE_25_34', 'AGE_35_44', 'AGE_45_54',\n",
       "       'AGE_55_64', 'AGE_65_74', 'AGE_75_84', 'AGE_85_UP', 'MED_AGE',\n",
       "       'MED_AGE_M', 'MED_AGE_F', 'HOUSEHOLDS', 'AVE_HH_SZ', 'HSEHLD_1_M',\n",
       "       'HSEHLD_1_F', 'MARHH_CHD', 'MARHH_NO_C', 'MHH_CHILD', 'FHH_CHILD',\n",
       "       'FAMILIES', 'AVE_FAM_SZ', 'HSE_UNITS', 'VACANT', 'OWNER_OCC',\n",
       "       'RENTER_OCC', 'NO_FARMS12', 'AVE_SIZE12', 'CROP_ACR12', 'AVE_SALE12',\n",
       "       'SQMI', 'NO_FARMS17', 'AVE_SIZE17', 'CROP_ACR17', 'AVE_SALE17',\n",
       "       'Shape_Leng', 'SHAPE_Length', 'SHAPE_Area'],\n",
       "      dtype='object')"
      ]
     },
     "execution_count": 12,
     "metadata": {},
     "output_type": "execute_result"
    }
   ],
   "source": [
    "tx_refineries.columns"
   ]
  },
  {
   "cell_type": "code",
   "execution_count": 14,
   "id": "bed56d12-77d2-4e99-8965-3fc41d106e9d",
   "metadata": {},
   "outputs": [],
   "source": [
    "tx_counties_refineres = tx_refineries.groupby([\"FIPS\", \"NAME_2\"]).size().reset_index()"
   ]
  },
  {
   "cell_type": "code",
   "execution_count": 21,
   "id": "d8afa111-5dce-4e4f-8d5e-9206dcfba0d7",
   "metadata": {},
   "outputs": [],
   "source": [
    "us_refineries = pd.read_csv(\n",
    "    \"data/raw/national_refineries_bycounty.csv\", dtype={\"FIPS\": str}\n",
    ")"
   ]
  },
  {
   "cell_type": "code",
   "execution_count": 22,
   "id": "446a9d10-db11-4506-b04d-4efa80741926",
   "metadata": {},
   "outputs": [
    {
     "data": {
      "text/plain": [
       "Index(['FID', 'Company', 'Name', 'Terminal_S', 'City', 'State', 'Country',\n",
       "       'Zip', 'Longitude', 'Latitude', 'Cty_Parish', 'Storage', 'SendOut',\n",
       "       'Markets', 'Availabili', 'Type', 'Imp_Exp', 'Status', 'FERC_MARAD',\n",
       "       'Address', 'FID_2', 'NAME_2', 'STATE_NAME', 'STATE_FIPS', 'CNTY_FIPS',\n",
       "       'FIPS', 'POPULATION', 'POP_SQMI', 'POP2010', 'POP10_SQMI', 'WHITE',\n",
       "       'BLACK', 'AMERI_ES', 'ASIAN', 'HAWN_PI', 'HISPANIC', 'OTHER',\n",
       "       'MULT_RACE', 'MALES', 'FEMALES', 'AGE_UNDER5', 'AGE_5_9', 'AGE_10_14',\n",
       "       'AGE_15_19', 'AGE_20_24', 'AGE_25_34', 'AGE_35_44', 'AGE_45_54',\n",
       "       'AGE_55_64', 'AGE_65_74', 'AGE_75_84', 'AGE_85_UP', 'MED_AGE',\n",
       "       'MED_AGE_M', 'MED_AGE_F', 'HOUSEHOLDS', 'AVE_HH_SZ', 'HSEHLD_1_M',\n",
       "       'HSEHLD_1_F', 'MARHH_CHD', 'MARHH_NO_C', 'MHH_CHILD', 'FHH_CHILD',\n",
       "       'FAMILIES', 'AVE_FAM_SZ', 'HSE_UNITS', 'VACANT', 'OWNER_OCC',\n",
       "       'RENTER_OCC', 'NO_FARMS12', 'AVE_SIZE12', 'CROP_ACR12', 'AVE_SALE12',\n",
       "       'SQMI', 'NO_FARMS17', 'AVE_SIZE17', 'CROP_ACR17', 'AVE_SALE17',\n",
       "       'Shape_Leng', 'SHAPE_Length', 'SHAPE_Area'],\n",
       "      dtype='object')"
      ]
     },
     "execution_count": 22,
     "metadata": {},
     "output_type": "execute_result"
    }
   ],
   "source": [
    "us_refineries.columns"
   ]
  },
  {
   "cell_type": "code",
   "execution_count": 23,
   "id": "d92a53f1-7ab9-4dda-9d88-ea56936dc1af",
   "metadata": {},
   "outputs": [],
   "source": [
    "us_county_refineries = us_refineries.groupby([\"FIPS\", \"NAME_2\"]).size().reset_index()"
   ]
  },
  {
   "cell_type": "code",
   "execution_count": 15,
   "id": "4d33bf89-8212-420e-9d06-4b98bccb2f14",
   "metadata": {},
   "outputs": [
    {
     "data": {
      "text/plain": [
       "<Response [204]>"
      ]
     },
     "execution_count": 16,
     "metadata": {},
     "output_type": "execute_result"
    }
   ],
   "source": [
    "dw.add_data(chart_id=\"YdbFt\", data=tx_counties_refineres)\n",
    "\n",
    "dw.add_data(chart_id=\"LWG7o\", data=tx_counties_refineres)"
   ]
  },
  {
   "cell_type": "code",
   "execution_count": 24,
   "id": "219ce45b-6022-45fd-8190-8fa5b2c21fe7",
   "metadata": {},
   "outputs": [
    {
     "data": {
      "text/plain": [
       "<Response [204]>"
      ]
     },
     "execution_count": 24,
     "metadata": {},
     "output_type": "execute_result"
    }
   ],
   "source": [
    "dw.add_data(chart_id=\"1jsNt\", data=us_county_refineries)"
   ]
  },
  {
   "cell_type": "code",
   "execution_count": null,
   "id": "aff6dfa3-4da3-446a-8422-0c2104225cad",
   "metadata": {},
   "outputs": [],
   "source": []
  }
 ],
 "metadata": {
  "kernelspec": {
   "display_name": "Python 3 (ipykernel)",
   "language": "python",
   "name": "python3"
  },
  "language_info": {
   "codemirror_mode": {
    "name": "ipython",
    "version": 3
   },
   "file_extension": ".py",
   "mimetype": "text/x-python",
   "name": "python",
   "nbconvert_exporter": "python",
   "pygments_lexer": "ipython3",
   "version": "3.8.9"
  }
 },
 "nbformat": 4,
 "nbformat_minor": 5
}
