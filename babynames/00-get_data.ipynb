{
 "cells": [
  {
   "cell_type": "markdown",
   "id": "5eb3ca81-111e-4dfa-beff-50b4d2e11e34",
   "metadata": {
    "tags": []
   },
   "source": [
    "# SSA Popular Baby Names"
   ]
  },
  {
   "cell_type": "markdown",
   "id": "d986b26f-cc17-45fa-a2d5-cb80f4a26664",
   "metadata": {},
   "source": [
    "### Import Python tools and Jupyter configuration"
   ]
  },
  {
   "cell_type": "code",
   "execution_count": 1,
   "id": "0d26d94a-8df3-4802-9763-1cf574e0c19d",
   "metadata": {},
   "outputs": [],
   "source": [
    "%load_ext lab_black"
   ]
  },
  {
   "cell_type": "code",
   "execution_count": 2,
   "id": "63a252e8-382f-425f-a697-78f60cb7608d",
   "metadata": {},
   "outputs": [],
   "source": [
    "import pandas as pd\n",
    "import altair as alt\n",
    "import altair_latimes as lat\n",
    "import datetime as dt\n",
    "import glob\n",
    "import os"
   ]
  },
  {
   "cell_type": "code",
   "execution_count": 3,
   "id": "35e248b2-bc45-4e32-83d1-4dfa7e3c2ce9",
   "metadata": {},
   "outputs": [],
   "source": [
    "pd.options.display.max_columns = 100\n",
    "pd.options.display.max_rows = 1000\n",
    "alt.data_transformers.disable_max_rows()\n",
    "pd.options.display.max_colwidth = None"
   ]
  },
  {
   "cell_type": "code",
   "execution_count": 4,
   "id": "19fbb9f6-5a1b-4f61-b323-c1c5332e5e87",
   "metadata": {},
   "outputs": [],
   "source": [
    "today = dt.datetime.today().strftime(\"%Y-%m-%d\")"
   ]
  },
  {
   "cell_type": "markdown",
   "id": "3df124fa-62f6-439f-980b-926085644ee8",
   "metadata": {},
   "source": [
    "---"
   ]
  },
  {
   "cell_type": "markdown",
   "id": "543523c6-0591-4bea-a7bf-927dcb709ab8",
   "metadata": {},
   "source": [
    "### Download latest batch of names data from SSA"
   ]
  },
  {
   "cell_type": "code",
   "execution_count": 5,
   "id": "86329d5d-e611-47f4-bce8-0d5e4273c0f4",
   "metadata": {},
   "outputs": [],
   "source": [
    "!curl -s 'https://www.ssa.gov/oact/babynames/names.zip' --output data/raw/names.zip"
   ]
  },
  {
   "cell_type": "code",
   "execution_count": 6,
   "id": "110293a6-81a3-4251-ac0d-89d8aad8c5aa",
   "metadata": {},
   "outputs": [],
   "source": [
    "!unzip -o -q 'data/raw/names.zip' -d 'data/raw/years'"
   ]
  },
  {
   "cell_type": "code",
   "execution_count": 7,
   "id": "6a1d157f-129e-4b9e-bd35-c316366a17f8",
   "metadata": {},
   "outputs": [],
   "source": [
    "!cat data/raw/years/*.txt > 'data/raw/all.txt'"
   ]
  },
  {
   "cell_type": "markdown",
   "id": "e32e9e72-b52e-4e29-94da-60ba326ca838",
   "metadata": {},
   "source": [
    "---"
   ]
  },
  {
   "cell_type": "code",
   "execution_count": 8,
   "id": "c8031771-4b8e-4002-a9a1-506f0cbc2e92",
   "metadata": {},
   "outputs": [],
   "source": [
    "path = \"data/raw/years\"\n",
    "all_files = glob.glob(os.path.join(path, \"*.txt\"))\n",
    "\n",
    "df_from_each_file = (\n",
    "    pd.read_csv(\n",
    "        f,\n",
    "        encoding=\"ISO-8859-1\",\n",
    "        header=None,\n",
    "        sep=\",\",\n",
    "        low_memory=False,\n",
    "        names=[\"name\", \"sex\", \"count\"],\n",
    "    ).assign(year=f)\n",
    "    for f in all_files\n",
    ")\n",
    "names = pd.concat(df_from_each_file, ignore_index=True)"
   ]
  },
  {
   "cell_type": "code",
   "execution_count": 9,
   "id": "cfed893d-2378-48ee-ba06-22c9669eea60",
   "metadata": {},
   "outputs": [],
   "source": [
    "names[\"year\"] = (\n",
    "    names[\"year\"]\n",
    "    .str.replace(\"data/raw/years/yob\", \"\", regex=True)\n",
    "    .str.replace(\".txt\", \"\", regex=True)\n",
    ")"
   ]
  },
  {
   "cell_type": "markdown",
   "id": "5c251c7a-b3f9-46b2-92d0-7fbbf0081bb1",
   "metadata": {},
   "source": [
    "---"
   ]
  },
  {
   "cell_type": "markdown",
   "id": "2e69aee5-df33-4072-a96d-862c74481360",
   "metadata": {},
   "source": [
    "### Get birth totals for normalization"
   ]
  },
  {
   "cell_type": "code",
   "execution_count": 10,
   "id": "ee35d731-399e-4664-b50c-264b84da6169",
   "metadata": {},
   "outputs": [],
   "source": [
    "url = \"https://www.ssa.gov/oact/babynames/numberUSbirths.html\""
   ]
  },
  {
   "cell_type": "code",
   "execution_count": 11,
   "id": "81aaa0b2-9ea3-42d5-89c8-cc73a8910bf9",
   "metadata": {},
   "outputs": [],
   "source": [
    "births = pd.read_html(url)[0]"
   ]
  },
  {
   "cell_type": "code",
   "execution_count": 12,
   "id": "51693661-899c-46a5-bb35-f4ece52dab66",
   "metadata": {},
   "outputs": [],
   "source": [
    "births.rename(\n",
    "    columns={\n",
    "        \"Year of birth\": \"year\",\n",
    "        \"Male\": \"male\",\n",
    "        \"Female\": \"female\",\n",
    "        \"Total\": \"total\",\n",
    "    },\n",
    "    inplace=True,\n",
    ")"
   ]
  },
  {
   "cell_type": "code",
   "execution_count": 13,
   "id": "f6c686f3-1eeb-4fd3-9b42-6c7298d528c6",
   "metadata": {},
   "outputs": [],
   "source": [
    "births.year = births.year.astype(str)"
   ]
  },
  {
   "cell_type": "markdown",
   "id": "c9bb9256-dd76-4fd1-944e-452372aca9f7",
   "metadata": {},
   "source": [
    "--- "
   ]
  },
  {
   "cell_type": "markdown",
   "id": "ff6260f5-3826-46f4-bbf1-6d2113c18a23",
   "metadata": {},
   "source": [
    "### Merge the dataframes together"
   ]
  },
  {
   "cell_type": "code",
   "execution_count": 14,
   "id": "a004dfea-2daa-46e2-a784-ee1f135103ce",
   "metadata": {},
   "outputs": [],
   "source": [
    "df = pd.merge(names, births, on=\"year\")"
   ]
  },
  {
   "cell_type": "code",
   "execution_count": 15,
   "id": "a4615916-3941-472d-bafe-24ba82e35ad5",
   "metadata": {},
   "outputs": [
    {
     "data": {
      "text/html": [
       "<div>\n",
       "<style scoped>\n",
       "    .dataframe tbody tr th:only-of-type {\n",
       "        vertical-align: middle;\n",
       "    }\n",
       "\n",
       "    .dataframe tbody tr th {\n",
       "        vertical-align: top;\n",
       "    }\n",
       "\n",
       "    .dataframe thead th {\n",
       "        text-align: right;\n",
       "    }\n",
       "</style>\n",
       "<table border=\"1\" class=\"dataframe\">\n",
       "  <thead>\n",
       "    <tr style=\"text-align: right;\">\n",
       "      <th></th>\n",
       "      <th>name</th>\n",
       "      <th>sex</th>\n",
       "      <th>count</th>\n",
       "      <th>year</th>\n",
       "      <th>male</th>\n",
       "      <th>female</th>\n",
       "      <th>total</th>\n",
       "    </tr>\n",
       "  </thead>\n",
       "  <tbody>\n",
       "    <tr>\n",
       "      <th>0</th>\n",
       "      <td>Emily</td>\n",
       "      <td>F</td>\n",
       "      <td>25957</td>\n",
       "      <td>2000</td>\n",
       "      <td>2087895</td>\n",
       "      <td>1995340</td>\n",
       "      <td>4083235</td>\n",
       "    </tr>\n",
       "    <tr>\n",
       "      <th>1</th>\n",
       "      <td>Hannah</td>\n",
       "      <td>F</td>\n",
       "      <td>23084</td>\n",
       "      <td>2000</td>\n",
       "      <td>2087895</td>\n",
       "      <td>1995340</td>\n",
       "      <td>4083235</td>\n",
       "    </tr>\n",
       "    <tr>\n",
       "      <th>2</th>\n",
       "      <td>Madison</td>\n",
       "      <td>F</td>\n",
       "      <td>19968</td>\n",
       "      <td>2000</td>\n",
       "      <td>2087895</td>\n",
       "      <td>1995340</td>\n",
       "      <td>4083235</td>\n",
       "    </tr>\n",
       "    <tr>\n",
       "      <th>3</th>\n",
       "      <td>Ashley</td>\n",
       "      <td>F</td>\n",
       "      <td>17997</td>\n",
       "      <td>2000</td>\n",
       "      <td>2087895</td>\n",
       "      <td>1995340</td>\n",
       "      <td>4083235</td>\n",
       "    </tr>\n",
       "    <tr>\n",
       "      <th>4</th>\n",
       "      <td>Sarah</td>\n",
       "      <td>F</td>\n",
       "      <td>17706</td>\n",
       "      <td>2000</td>\n",
       "      <td>2087895</td>\n",
       "      <td>1995340</td>\n",
       "      <td>4083235</td>\n",
       "    </tr>\n",
       "  </tbody>\n",
       "</table>\n",
       "</div>"
      ],
      "text/plain": [
       "      name sex  count  year     male   female    total\n",
       "0    Emily   F  25957  2000  2087895  1995340  4083235\n",
       "1   Hannah   F  23084  2000  2087895  1995340  4083235\n",
       "2  Madison   F  19968  2000  2087895  1995340  4083235\n",
       "3   Ashley   F  17997  2000  2087895  1995340  4083235\n",
       "4    Sarah   F  17706  2000  2087895  1995340  4083235"
      ]
     },
     "execution_count": 15,
     "metadata": {},
     "output_type": "execute_result"
    }
   ],
   "source": [
    "df.head()"
   ]
  },
  {
   "cell_type": "markdown",
   "id": "d249f90c-a45c-495e-92ef-760436f5ed81",
   "metadata": {},
   "source": [
    "### Calculate rate"
   ]
  },
  {
   "cell_type": "code",
   "execution_count": 16,
   "id": "2d37aac1-8af4-4a5e-b88d-8543858938d7",
   "metadata": {},
   "outputs": [],
   "source": [
    "df[\"prop\"] = df[\"count\"] * 1.0 / df[\"total\"]\n",
    "df[\"fprop\"] = df[df[\"sex\"] == \"F\"][\"count\"] / df[df[\"sex\"] == \"F\"][\"female\"]\n",
    "df[\"mprop\"] = df[df[\"sex\"] == \"M\"][\"count\"] / df[df[\"sex\"] == \"M\"][\"male\"]"
   ]
  },
  {
   "cell_type": "code",
   "execution_count": 17,
   "id": "31c6e026-cf56-4271-8ab8-a4b6f5c0c3d1",
   "metadata": {},
   "outputs": [
    {
     "data": {
      "text/html": [
       "<div>\n",
       "<style scoped>\n",
       "    .dataframe tbody tr th:only-of-type {\n",
       "        vertical-align: middle;\n",
       "    }\n",
       "\n",
       "    .dataframe tbody tr th {\n",
       "        vertical-align: top;\n",
       "    }\n",
       "\n",
       "    .dataframe thead th {\n",
       "        text-align: right;\n",
       "    }\n",
       "</style>\n",
       "<table border=\"1\" class=\"dataframe\">\n",
       "  <thead>\n",
       "    <tr style=\"text-align: right;\">\n",
       "      <th></th>\n",
       "      <th>name</th>\n",
       "      <th>sex</th>\n",
       "      <th>count</th>\n",
       "      <th>year</th>\n",
       "      <th>male</th>\n",
       "      <th>female</th>\n",
       "      <th>total</th>\n",
       "      <th>prop</th>\n",
       "      <th>fprop</th>\n",
       "      <th>mprop</th>\n",
       "    </tr>\n",
       "  </thead>\n",
       "  <tbody>\n",
       "    <tr>\n",
       "      <th>0</th>\n",
       "      <td>Emily</td>\n",
       "      <td>F</td>\n",
       "      <td>25957</td>\n",
       "      <td>2000</td>\n",
       "      <td>2087895</td>\n",
       "      <td>1995340</td>\n",
       "      <td>4083235</td>\n",
       "      <td>0.006357</td>\n",
       "      <td>0.013009</td>\n",
       "      <td>NaN</td>\n",
       "    </tr>\n",
       "    <tr>\n",
       "      <th>1</th>\n",
       "      <td>Hannah</td>\n",
       "      <td>F</td>\n",
       "      <td>23084</td>\n",
       "      <td>2000</td>\n",
       "      <td>2087895</td>\n",
       "      <td>1995340</td>\n",
       "      <td>4083235</td>\n",
       "      <td>0.005653</td>\n",
       "      <td>0.011569</td>\n",
       "      <td>NaN</td>\n",
       "    </tr>\n",
       "    <tr>\n",
       "      <th>2</th>\n",
       "      <td>Madison</td>\n",
       "      <td>F</td>\n",
       "      <td>19968</td>\n",
       "      <td>2000</td>\n",
       "      <td>2087895</td>\n",
       "      <td>1995340</td>\n",
       "      <td>4083235</td>\n",
       "      <td>0.004890</td>\n",
       "      <td>0.010007</td>\n",
       "      <td>NaN</td>\n",
       "    </tr>\n",
       "    <tr>\n",
       "      <th>3</th>\n",
       "      <td>Ashley</td>\n",
       "      <td>F</td>\n",
       "      <td>17997</td>\n",
       "      <td>2000</td>\n",
       "      <td>2087895</td>\n",
       "      <td>1995340</td>\n",
       "      <td>4083235</td>\n",
       "      <td>0.004408</td>\n",
       "      <td>0.009020</td>\n",
       "      <td>NaN</td>\n",
       "    </tr>\n",
       "    <tr>\n",
       "      <th>4</th>\n",
       "      <td>Sarah</td>\n",
       "      <td>F</td>\n",
       "      <td>17706</td>\n",
       "      <td>2000</td>\n",
       "      <td>2087895</td>\n",
       "      <td>1995340</td>\n",
       "      <td>4083235</td>\n",
       "      <td>0.004336</td>\n",
       "      <td>0.008874</td>\n",
       "      <td>NaN</td>\n",
       "    </tr>\n",
       "  </tbody>\n",
       "</table>\n",
       "</div>"
      ],
      "text/plain": [
       "      name sex  count  year     male   female    total      prop     fprop  \\\n",
       "0    Emily   F  25957  2000  2087895  1995340  4083235  0.006357  0.013009   \n",
       "1   Hannah   F  23084  2000  2087895  1995340  4083235  0.005653  0.011569   \n",
       "2  Madison   F  19968  2000  2087895  1995340  4083235  0.004890  0.010007   \n",
       "3   Ashley   F  17997  2000  2087895  1995340  4083235  0.004408  0.009020   \n",
       "4    Sarah   F  17706  2000  2087895  1995340  4083235  0.004336  0.008874   \n",
       "\n",
       "   mprop  \n",
       "0    NaN  \n",
       "1    NaN  \n",
       "2    NaN  \n",
       "3    NaN  \n",
       "4    NaN  "
      ]
     },
     "execution_count": 17,
     "metadata": {},
     "output_type": "execute_result"
    }
   ],
   "source": [
    "df.head()"
   ]
  },
  {
   "cell_type": "markdown",
   "id": "4972d6d9-fa88-42cb-991c-66c0db40e8aa",
   "metadata": {},
   "source": [
    "---"
   ]
  },
  {
   "cell_type": "markdown",
   "id": "ac97643c-ee00-45b7-a0f8-84a907daf94e",
   "metadata": {},
   "source": [
    "### Export"
   ]
  },
  {
   "cell_type": "code",
   "execution_count": 18,
   "id": "df6a98ae-3270-47e1-8728-7c85160670ef",
   "metadata": {},
   "outputs": [],
   "source": [
    "df.to_csv(\"data/processed/names_births.csv\", index=False)"
   ]
  },
  {
   "cell_type": "code",
   "execution_count": null,
   "id": "62a0ed52-d498-4875-a351-a2cd4219129f",
   "metadata": {},
   "outputs": [],
   "source": []
  }
 ],
 "metadata": {
  "kernelspec": {
   "display_name": "Python 3 (ipykernel)",
   "language": "python",
   "name": "python3"
  },
  "language_info": {
   "codemirror_mode": {
    "name": "ipython",
    "version": 3
   },
   "file_extension": ".py",
   "mimetype": "text/x-python",
   "name": "python",
   "nbconvert_exporter": "python",
   "pygments_lexer": "ipython3",
   "version": "3.8.11"
  }
 },
 "nbformat": 4,
 "nbformat_minor": 5
}
