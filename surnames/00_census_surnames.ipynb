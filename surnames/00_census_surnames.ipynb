{
 "cells": [
  {
   "cell_type": "markdown",
   "metadata": {},
   "source": [
    "# Surname frequency and demographics from U.S. Census Bureau"
   ]
  },
  {
   "cell_type": "code",
   "execution_count": 1,
   "metadata": {},
   "outputs": [],
   "source": [
    "%load_ext lab_black"
   ]
  },
  {
   "cell_type": "code",
   "execution_count": 2,
   "metadata": {},
   "outputs": [],
   "source": [
    "import pandas as pd\n",
    "import geopandas as gpd\n",
    "import altair as alt\n",
    "import altair_latimes as lat\n",
    "import glob\n",
    "import os\n",
    "import numpy as np"
   ]
  },
  {
   "cell_type": "code",
   "execution_count": 3,
   "metadata": {},
   "outputs": [
    {
     "data": {
      "text/plain": [
       "DataTransformerRegistry.enable('default')"
      ]
     },
     "execution_count": 3,
     "metadata": {},
     "output_type": "execute_result"
    }
   ],
   "source": [
    "alt.themes.register(\"latimes\", lat.theme)\n",
    "alt.themes.enable(\"latimes\")\n",
    "pd.options.display.max_columns = 50\n",
    "pd.options.display.max_rows = 1000\n",
    "alt.data_transformers.disable_max_rows()"
   ]
  },
  {
   "cell_type": "markdown",
   "metadata": {},
   "source": [
    "### Grab data from Census surnames API"
   ]
  },
  {
   "cell_type": "code",
   "execution_count": 4,
   "metadata": {},
   "outputs": [],
   "source": [
    "# Docs: https://www.census.gov/data/developers/data-sets/surnames.html"
   ]
  },
  {
   "cell_type": "code",
   "execution_count": 5,
   "metadata": {},
   "outputs": [],
   "source": [
    "years = [\"2000\", \"2010\"]"
   ]
  },
  {
   "cell_type": "markdown",
   "metadata": {},
   "source": [
    "### Construct urls, read data, create concatenated dataframe"
   ]
  },
  {
   "cell_type": "code",
   "execution_count": 6,
   "metadata": {},
   "outputs": [],
   "source": [
    "frames = []\n",
    "\n",
    "for y in years:\n",
    "    frames.append(\n",
    "        pd.read_json(\n",
    "            \"https://api.census.gov/data/\"\n",
    "            + y\n",
    "            + \"/surname?get=NAME,COUNT,RANK,PCTAPI,PCTBLACK,PCTAIAN,PCTWHITE,PCT2PRACE,PCTHISPANIC&PROP100K=1:100000\"\n",
    "        ).assign(year=y)\n",
    "    )\n",
    "    src = pd.concat(frames)"
   ]
  },
  {
   "cell_type": "markdown",
   "metadata": {},
   "source": [
    "### How many in each year?"
   ]
  },
  {
   "cell_type": "code",
   "execution_count": 7,
   "metadata": {},
   "outputs": [
    {
     "data": {
      "text/plain": [
       "2000    10887\n",
       "2010    10852\n",
       "Name: year, dtype: int64"
      ]
     },
     "execution_count": 7,
     "metadata": {},
     "output_type": "execute_result"
    }
   ],
   "source": [
    "src.year.value_counts()"
   ]
  },
  {
   "cell_type": "markdown",
   "metadata": {},
   "source": [
    "### Clean up the dataframe"
   ]
  },
  {
   "cell_type": "code",
   "execution_count": 8,
   "metadata": {},
   "outputs": [],
   "source": [
    "src.columns = [\n",
    "    \"name\",\n",
    "    \"count\",\n",
    "    \"rank\",\n",
    "    \"pctapi\",\n",
    "    \"pctblack\",\n",
    "    \"pctaian\",\n",
    "    \"pctwhite\",\n",
    "    \"pcttworace\",\n",
    "    \"pcthispanic\",\n",
    "    \"prop100k\",\n",
    "    \"year\",\n",
    "]"
   ]
  },
  {
   "cell_type": "code",
   "execution_count": 9,
   "metadata": {},
   "outputs": [],
   "source": [
    "src.drop([0], axis=0, inplace=True)"
   ]
  },
  {
   "cell_type": "code",
   "execution_count": 10,
   "metadata": {},
   "outputs": [],
   "source": [
    "src = src[src[\"name\"] != \"ALL OTHER NAMES\"]"
   ]
  },
  {
   "cell_type": "code",
   "execution_count": 11,
   "metadata": {},
   "outputs": [],
   "source": [
    "src = src.replace(\"(S)\", \"\").fillna(\"\")"
   ]
  },
  {
   "cell_type": "code",
   "execution_count": 12,
   "metadata": {},
   "outputs": [],
   "source": [
    "src[\"count\"] = src[\"count\"].astype(int)\n",
    "src[\"prop100k\"] = src[\"prop100k\"].astype(float)\n",
    "src[\"name\"] = src[\"name\"].str.title()"
   ]
  },
  {
   "cell_type": "markdown",
   "metadata": {},
   "source": [
    "### Make a copy for analysis"
   ]
  },
  {
   "cell_type": "code",
   "execution_count": 13,
   "metadata": {},
   "outputs": [],
   "source": [
    "df = src.sort_values(\"count\", ascending=False).copy()"
   ]
  },
  {
   "cell_type": "markdown",
   "metadata": {},
   "source": [
    "---"
   ]
  },
  {
   "cell_type": "markdown",
   "metadata": {},
   "source": [
    "### Group by name and year"
   ]
  },
  {
   "cell_type": "code",
   "execution_count": 14,
   "metadata": {},
   "outputs": [],
   "source": [
    "name_year = df.groupby([\"name\", \"year\"])[\"prop100k\"].sum().reset_index()"
   ]
  },
  {
   "cell_type": "code",
   "execution_count": 25,
   "metadata": {},
   "outputs": [
    {
     "data": {
      "text/html": [
       "<div>\n",
       "<style scoped>\n",
       "    .dataframe tbody tr th:only-of-type {\n",
       "        vertical-align: middle;\n",
       "    }\n",
       "\n",
       "    .dataframe tbody tr th {\n",
       "        vertical-align: top;\n",
       "    }\n",
       "\n",
       "    .dataframe thead th {\n",
       "        text-align: right;\n",
       "    }\n",
       "</style>\n",
       "<table border=\"1\" class=\"dataframe\">\n",
       "  <thead>\n",
       "    <tr style=\"text-align: right;\">\n",
       "      <th></th>\n",
       "      <th>name</th>\n",
       "      <th>year</th>\n",
       "      <th>prop100k</th>\n",
       "    </tr>\n",
       "  </thead>\n",
       "  <tbody>\n",
       "  </tbody>\n",
       "</table>\n",
       "</div>"
      ],
      "text/plain": [
       "Empty DataFrame\n",
       "Columns: [name, year, prop100k]\n",
       "Index: []"
      ]
     },
     "execution_count": 25,
     "metadata": {},
     "output_type": "execute_result"
    }
   ],
   "source": [
    "name_year[name_year[\"name\"] == \"Impicciche\"]"
   ]
  },
  {
   "cell_type": "code",
   "execution_count": 16,
   "metadata": {},
   "outputs": [],
   "source": [
    "df_pivot = pd.pivot_table(\n",
    "    name_year, values=\"prop100k\", index=\"name\", columns=\"year\", aggfunc=np.sum\n",
    ").reset_index()"
   ]
  },
  {
   "cell_type": "code",
   "execution_count": 17,
   "metadata": {},
   "outputs": [],
   "source": [
    "df_pivot[\"change\"] = (\n",
    "    ((df_pivot[\"2010\"] - df_pivot[\"2000\"]) / df_pivot[\"2000\"]) * 100\n",
    ").round(2)"
   ]
  },
  {
   "cell_type": "code",
   "execution_count": 18,
   "metadata": {},
   "outputs": [
    {
     "data": {
      "text/html": [
       "<div>\n",
       "<style scoped>\n",
       "    .dataframe tbody tr th:only-of-type {\n",
       "        vertical-align: middle;\n",
       "    }\n",
       "\n",
       "    .dataframe tbody tr th {\n",
       "        vertical-align: top;\n",
       "    }\n",
       "\n",
       "    .dataframe thead th {\n",
       "        text-align: right;\n",
       "    }\n",
       "</style>\n",
       "<table border=\"1\" class=\"dataframe\">\n",
       "  <thead>\n",
       "    <tr style=\"text-align: right;\">\n",
       "      <th>year</th>\n",
       "      <th>name</th>\n",
       "      <th>2000</th>\n",
       "      <th>2010</th>\n",
       "      <th>change</th>\n",
       "    </tr>\n",
       "  </thead>\n",
       "  <tbody>\n",
       "    <tr>\n",
       "      <th>4264</th>\n",
       "      <td>Hail</td>\n",
       "      <td>1.06</td>\n",
       "      <td>29.24</td>\n",
       "      <td>2658.49</td>\n",
       "    </tr>\n",
       "    <tr>\n",
       "      <th>8024</th>\n",
       "      <td>Person</td>\n",
       "      <td>7.09</td>\n",
       "      <td>22.85</td>\n",
       "      <td>222.28</td>\n",
       "    </tr>\n",
       "    <tr>\n",
       "      <th>7517</th>\n",
       "      <td>Nilson</td>\n",
       "      <td>1.28</td>\n",
       "      <td>3.39</td>\n",
       "      <td>164.84</td>\n",
       "    </tr>\n",
       "    <tr>\n",
       "      <th>11267</th>\n",
       "      <td>Zheng</td>\n",
       "      <td>3.96</td>\n",
       "      <td>8.56</td>\n",
       "      <td>116.16</td>\n",
       "    </tr>\n",
       "    <tr>\n",
       "      <th>719</th>\n",
       "      <td>Begum</td>\n",
       "      <td>1.99</td>\n",
       "      <td>4.15</td>\n",
       "      <td>108.54</td>\n",
       "    </tr>\n",
       "    <tr>\n",
       "      <th>5010</th>\n",
       "      <td>Hussein</td>\n",
       "      <td>1.17</td>\n",
       "      <td>2.43</td>\n",
       "      <td>107.69</td>\n",
       "    </tr>\n",
       "    <tr>\n",
       "      <th>5198</th>\n",
       "      <td>Jiang</td>\n",
       "      <td>3.18</td>\n",
       "      <td>6.58</td>\n",
       "      <td>106.92</td>\n",
       "    </tr>\n",
       "    <tr>\n",
       "      <th>3725</th>\n",
       "      <td>Gao</td>\n",
       "      <td>2.00</td>\n",
       "      <td>4.13</td>\n",
       "      <td>106.50</td>\n",
       "    </tr>\n",
       "    <tr>\n",
       "      <th>7133</th>\n",
       "      <td>Mohamed</td>\n",
       "      <td>4.63</td>\n",
       "      <td>9.48</td>\n",
       "      <td>104.75</td>\n",
       "    </tr>\n",
       "    <tr>\n",
       "      <th>5316</th>\n",
       "      <td>Kaur</td>\n",
       "      <td>8.09</td>\n",
       "      <td>16.53</td>\n",
       "      <td>104.33</td>\n",
       "    </tr>\n",
       "  </tbody>\n",
       "</table>\n",
       "</div>"
      ],
      "text/plain": [
       "year      name  2000   2010   change\n",
       "4264      Hail  1.06  29.24  2658.49\n",
       "8024    Person  7.09  22.85   222.28\n",
       "7517    Nilson  1.28   3.39   164.84\n",
       "11267    Zheng  3.96   8.56   116.16\n",
       "719      Begum  1.99   4.15   108.54\n",
       "5010   Hussein  1.17   2.43   107.69\n",
       "5198     Jiang  3.18   6.58   106.92\n",
       "3725       Gao  2.00   4.13   106.50\n",
       "7133   Mohamed  4.63   9.48   104.75\n",
       "5316      Kaur  8.09  16.53   104.33"
      ]
     },
     "execution_count": 18,
     "metadata": {},
     "output_type": "execute_result"
    }
   ],
   "source": [
    "df_pivot.sort_values(\"change\", ascending=False).head(10)"
   ]
  },
  {
   "cell_type": "markdown",
   "metadata": {},
   "source": [
    "---"
   ]
  },
  {
   "cell_type": "markdown",
   "metadata": {},
   "source": [
    "### Popular Korean surnames"
   ]
  },
  {
   "cell_type": "code",
   "execution_count": 19,
   "metadata": {},
   "outputs": [],
   "source": [
    "korean_surnames = list(\n",
    "    map(\n",
    "        lambda x: x.title(),\n",
    "        [\n",
    "            \"Kim\",\n",
    "            \"Lee\",\n",
    "            \"Park\",\n",
    "            \"Choi\",\n",
    "            \"Chung\",\n",
    "            \"Cho\",\n",
    "            \"Kang\",\n",
    "            \"Chang\",\n",
    "            \"Shin\",\n",
    "            \"Yoon\",\n",
    "            \"Han\",\n",
    "            \"Oh\",\n",
    "            \"Hong\",\n",
    "            \"Song\",\n",
    "            \"Kwon\",\n",
    "            \"Yoo\",\n",
    "            \"Ahn\",\n",
    "            \"Hwang\",\n",
    "            \"Rhee\",\n",
    "            \"Lim\",\n",
    "            \"Suh\",\n",
    "            \"Yang\",\n",
    "            \"Moon\",\n",
    "            \"Chun\",\n",
    "            \"Ko\",\n",
    "            \"Pak\",\n",
    "            \"Choe\",\n",
    "            \"Yi\",\n",
    "            \"Jung\",\n",
    "            \"Min\",\n",
    "            \"Yu\",\n",
    "            \"Yun\",\n",
    "            \"Hahn\",\n",
    "            \"Nam\",\n",
    "            \"Cha\",\n",
    "            \"Paik\",\n",
    "            \"Ha\",\n",
    "            \"Son\",\n",
    "            \"Bae\",\n",
    "            \"Koh\",\n",
    "            \"Kwak\",\n",
    "            \"Shim\",\n",
    "            \"Yim\",\n",
    "            \"Jang\",\n",
    "            \"Ryu\",\n",
    "            \"Huh\",\n",
    "            \"Im\",\n",
    "            \"Sohn\",\n",
    "            \"Sung\",\n",
    "            \"Jun\",\n",
    "        ],\n",
    "    )\n",
    ")"
   ]
  },
  {
   "cell_type": "code",
   "execution_count": 20,
   "metadata": {},
   "outputs": [],
   "source": [
    "koreans = name_year[name_year[\"name\"].isin(korean_surnames)]"
   ]
  },
  {
   "cell_type": "code",
   "execution_count": 21,
   "metadata": {},
   "outputs": [
    {
     "data": {
      "text/html": [
       "<div>\n",
       "<style scoped>\n",
       "    .dataframe tbody tr th:only-of-type {\n",
       "        vertical-align: middle;\n",
       "    }\n",
       "\n",
       "    .dataframe tbody tr th {\n",
       "        vertical-align: top;\n",
       "    }\n",
       "\n",
       "    .dataframe thead th {\n",
       "        text-align: right;\n",
       "    }\n",
       "</style>\n",
       "<table border=\"1\" class=\"dataframe\">\n",
       "  <thead>\n",
       "    <tr style=\"text-align: right;\">\n",
       "      <th></th>\n",
       "      <th>name</th>\n",
       "      <th>year</th>\n",
       "      <th>prop100k</th>\n",
       "    </tr>\n",
       "  </thead>\n",
       "  <tbody>\n",
       "    <tr>\n",
       "      <th>156</th>\n",
       "      <td>Ahn</td>\n",
       "      <td>2000</td>\n",
       "      <td>3.01</td>\n",
       "    </tr>\n",
       "    <tr>\n",
       "      <th>157</th>\n",
       "      <td>Ahn</td>\n",
       "      <td>2010</td>\n",
       "      <td>3.58</td>\n",
       "    </tr>\n",
       "    <tr>\n",
       "      <th>840</th>\n",
       "      <td>Bae</td>\n",
       "      <td>2000</td>\n",
       "      <td>1.50</td>\n",
       "    </tr>\n",
       "    <tr>\n",
       "      <th>841</th>\n",
       "      <td>Bae</td>\n",
       "      <td>2010</td>\n",
       "      <td>2.10</td>\n",
       "    </tr>\n",
       "    <tr>\n",
       "      <th>3506</th>\n",
       "      <td>Cha</td>\n",
       "      <td>2000</td>\n",
       "      <td>2.85</td>\n",
       "    </tr>\n",
       "    <tr>\n",
       "      <th>3507</th>\n",
       "      <td>Cha</td>\n",
       "      <td>2010</td>\n",
       "      <td>3.30</td>\n",
       "    </tr>\n",
       "    <tr>\n",
       "      <th>3565</th>\n",
       "      <td>Chang</td>\n",
       "      <td>2000</td>\n",
       "      <td>25.86</td>\n",
       "    </tr>\n",
       "    <tr>\n",
       "      <th>3566</th>\n",
       "      <td>Chang</td>\n",
       "      <td>2010</td>\n",
       "      <td>27.78</td>\n",
       "    </tr>\n",
       "    <tr>\n",
       "      <th>3724</th>\n",
       "      <td>Cho</td>\n",
       "      <td>2000</td>\n",
       "      <td>9.38</td>\n",
       "    </tr>\n",
       "    <tr>\n",
       "      <th>3725</th>\n",
       "      <td>Cho</td>\n",
       "      <td>2010</td>\n",
       "      <td>11.35</td>\n",
       "    </tr>\n",
       "  </tbody>\n",
       "</table>\n",
       "</div>"
      ],
      "text/plain": [
       "       name  year  prop100k\n",
       "156     Ahn  2000      3.01\n",
       "157     Ahn  2010      3.58\n",
       "840     Bae  2000      1.50\n",
       "841     Bae  2010      2.10\n",
       "3506    Cha  2000      2.85\n",
       "3507    Cha  2010      3.30\n",
       "3565  Chang  2000     25.86\n",
       "3566  Chang  2010     27.78\n",
       "3724    Cho  2000      9.38\n",
       "3725    Cho  2010     11.35"
      ]
     },
     "execution_count": 21,
     "metadata": {},
     "output_type": "execute_result"
    }
   ],
   "source": [
    "koreans.head(10)"
   ]
  },
  {
   "cell_type": "markdown",
   "metadata": {},
   "source": [
    "---"
   ]
  },
  {
   "cell_type": "markdown",
   "metadata": {},
   "source": [
    "## Exports "
   ]
  },
  {
   "cell_type": "code",
   "execution_count": 22,
   "metadata": {},
   "outputs": [],
   "source": [
    "df.to_csv(\"data/raw/raw_census_surnames_2000_2010.csv\", index=False)"
   ]
  },
  {
   "cell_type": "code",
   "execution_count": 23,
   "metadata": {},
   "outputs": [],
   "source": [
    "koreans.to_csv(\"data/processed/top_korean_surnames.csv\", index=False)"
   ]
  },
  {
   "cell_type": "code",
   "execution_count": 24,
   "metadata": {},
   "outputs": [],
   "source": [
    "df_pivot.to_csv(\"data/processed/surnames_change_2000_to_2010.csv\", index=False)"
   ]
  }
 ],
 "metadata": {
  "kernelspec": {
   "display_name": "Python 3 (ipykernel)",
   "language": "python",
   "name": "python3"
  },
  "language_info": {
   "codemirror_mode": {
    "name": "ipython",
    "version": 3
   },
   "file_extension": ".py",
   "mimetype": "text/x-python",
   "name": "python",
   "nbconvert_exporter": "python",
   "pygments_lexer": "ipython3",
   "version": "3.8.11"
  }
 },
 "nbformat": 4,
 "nbformat_minor": 4
}
