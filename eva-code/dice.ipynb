{
 "cells": [
  {
   "cell_type": "markdown",
   "id": "38d5c973-a9ef-462f-af72-abcef9f735e0",
   "metadata": {},
   "source": [
    "# Rolling the dice"
   ]
  },
  {
   "cell_type": "code",
   "execution_count": 97,
   "id": "47ca297a-0551-43cb-850c-da73cc6dd35c",
   "metadata": {},
   "outputs": [],
   "source": [
    "import random\n",
    "import pandas as pd"
   ]
  },
  {
   "cell_type": "code",
   "execution_count": 98,
   "id": "972d9825-89f8-447e-8fea-275de315e6a0",
   "metadata": {},
   "outputs": [],
   "source": [
    "roll_dice = random.randint(1, 6)\n",
    "roll_dice_two = random.randint(1, 6)"
   ]
  },
  {
   "cell_type": "code",
   "execution_count": 99,
   "id": "0862d7b6-cf12-48be-b0ea-815e0b05c8de",
   "metadata": {},
   "outputs": [],
   "source": [
    "def is_doubles(value1, value2):\n",
    "    if value1 == value2:\n",
    "        return f\"{value1} & {value2}. YAY! DOUBLES!\"\n",
    "    else:\n",
    "        return f\"{value1} & {value2}\""
   ]
  },
  {
   "cell_type": "code",
   "execution_count": 100,
   "id": "4f9d94d1-50b9-4620-bf5f-e875c502ea24",
   "metadata": {},
   "outputs": [],
   "source": [
    "rolls_data = []"
   ]
  },
  {
   "cell_type": "code",
   "execution_count": 101,
   "id": "c0466840-7fca-4558-a45f-02d4417ab759",
   "metadata": {},
   "outputs": [],
   "source": [
    "rolls_data.extend(str(roll_dice))\n",
    "rolls_data.extend(str(roll_dice_two))"
   ]
  },
  {
   "cell_type": "code",
   "execution_count": 102,
   "id": "a9b68c9b-0979-4479-b852-2747a2a757a6",
   "metadata": {},
   "outputs": [
    {
     "data": {
      "text/plain": [
       "['6', '5']"
      ]
     },
     "execution_count": 102,
     "metadata": {},
     "output_type": "execute_result"
    }
   ],
   "source": [
    "rolls_data"
   ]
  },
  {
   "cell_type": "code",
   "execution_count": 35,
   "id": "31017d1d-1737-4672-8c6c-eac05e87f480",
   "metadata": {},
   "outputs": [],
   "source": []
  },
  {
   "cell_type": "code",
   "execution_count": null,
   "id": "e5ff1095-7fa5-4252-96d0-df0e80009a72",
   "metadata": {},
   "outputs": [],
   "source": []
  }
 ],
 "metadata": {
  "kernelspec": {
   "display_name": "Python 3",
   "language": "python",
   "name": "python3"
  },
  "language_info": {
   "codemirror_mode": {
    "name": "ipython",
    "version": 3
   },
   "file_extension": ".py",
   "mimetype": "text/x-python",
   "name": "python",
   "nbconvert_exporter": "python",
   "pygments_lexer": "ipython3",
   "version": "3.8.8"
  }
 },
 "nbformat": 4,
 "nbformat_minor": 5
}
