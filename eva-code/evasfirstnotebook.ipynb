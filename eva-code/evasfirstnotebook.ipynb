{
 "cells": [
  {
   "cell_type": "markdown",
   "id": "0cdddb3f-e265-42b9-9999-a15071d83ed7",
   "metadata": {},
   "source": [
    "# Eva code!"
   ]
  },
  {
   "cell_type": "code",
   "execution_count": 1,
   "id": "57ca1c4b-cbbb-41e4-adbe-79116240f19a",
   "metadata": {},
   "outputs": [],
   "source": [
    "import pandas as pd\n",
    "import numpy as np\n",
    "import turtle"
   ]
  },
  {
   "cell_type": "code",
   "execution_count": 2,
   "id": "376b214a-01ba-436e-a8ca-126cf194e171",
   "metadata": {},
   "outputs": [],
   "source": [
    "s = turtle.getscreen()"
   ]
  },
  {
   "cell_type": "code",
   "execution_count": 3,
   "id": "86eeb578-f391-449a-9fff-c05a5bb79790",
   "metadata": {},
   "outputs": [],
   "source": [
    "t = turtle.Turtle()"
   ]
  },
  {
   "cell_type": "code",
   "execution_count": 4,
   "id": "726a001b-65e4-4bd1-bf82-d7c7c0cc4a01",
   "metadata": {},
   "outputs": [],
   "source": [
    "t.right(90)\n",
    "t.forward(100)\n",
    "t.left(90)\n",
    "t.backward(100)"
   ]
  },
  {
   "cell_type": "code",
   "execution_count": 5,
   "id": "a251da9c-60d7-4eee-86b5-107b887b30da",
   "metadata": {},
   "outputs": [
    {
     "name": "stdout",
     "output_type": "stream",
     "text": [
      "Eva is the best\n"
     ]
    }
   ],
   "source": [
    "print(\"Eva is the best\")\n",
    "\n"
   ]
  },
  {
   "cell_type": "code",
   "execution_count": 6,
   "id": "80f6413b-a1c3-458a-8e98-85629a107ad7",
   "metadata": {},
   "outputs": [
    {
     "name": "stdout",
     "output_type": "stream",
     "text": [
      "She lives in the west\n"
     ]
    }
   ],
   "source": [
    "print(\"She lives in the west\")"
   ]
  },
  {
   "cell_type": "code",
   "execution_count": 7,
   "id": "7081f76f-b972-4c4f-9bb6-9dad47050e00",
   "metadata": {},
   "outputs": [
    {
     "name": "stdout",
     "output_type": "stream",
     "text": [
      "And if she takes a test\n"
     ]
    }
   ],
   "source": [
    "print(\"And if she takes a test\")"
   ]
  },
  {
   "cell_type": "code",
   "execution_count": 8,
   "id": "73c44f72-4eef-4686-a320-201db1d34290",
   "metadata": {},
   "outputs": [
    {
     "name": "stdout",
     "output_type": "stream",
     "text": [
      "She aces it like the rest\n"
     ]
    }
   ],
   "source": [
    "print(\"She aces it like the rest\")"
   ]
  },
  {
   "cell_type": "code",
   "execution_count": null,
   "id": "8793686c-2544-4221-96ff-f51e2d7fad00",
   "metadata": {},
   "outputs": [],
   "source": []
  }
 ],
 "metadata": {
  "kernelspec": {
   "display_name": "Python 3",
   "language": "python",
   "name": "python3"
  },
  "language_info": {
   "codemirror_mode": {
    "name": "ipython",
    "version": 3
   },
   "file_extension": ".py",
   "mimetype": "text/x-python",
   "name": "python",
   "nbconvert_exporter": "python",
   "pygments_lexer": "ipython3",
   "version": "3.8.8"
  }
 },
 "nbformat": 4,
 "nbformat_minor": 5
}
