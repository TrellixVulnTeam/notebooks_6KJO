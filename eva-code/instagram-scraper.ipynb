{
 "cells": [
  {
   "cell_type": "markdown",
   "id": "a6378799-5813-4f38-b3f6-c88a17b8a8be",
   "metadata": {},
   "source": [
    "# Get Eva's Instagram details"
   ]
  },
  {
   "cell_type": "code",
   "execution_count": 1,
   "id": "09924240-e51a-4883-a9cb-fd935c9077e4",
   "metadata": {},
   "outputs": [],
   "source": [
    "import json\n",
    "import pandas as pd"
   ]
  },
  {
   "cell_type": "code",
   "execution_count": 2,
   "id": "d04c2df6-37ca-41d6-92b8-8817e708f0f1",
   "metadata": {},
   "outputs": [],
   "source": [
    "# Run this with real username, password to scrape Insta objects\n",
    "# !instagram-scraper evahustiles -u USERNAME -p PASSWORD --media-metadata"
   ]
  },
  {
   "cell_type": "code",
   "execution_count": 3,
   "id": "0cd751ec-56f1-4052-9f0c-73adf40d28ef",
   "metadata": {},
   "outputs": [],
   "source": [
    "with open('evahustiles/evahustiles.json') as f:\n",
    "  data = json.load(f)"
   ]
  },
  {
   "cell_type": "code",
   "execution_count": 4,
   "id": "08e120ab-1034-4031-a92e-49ef6a845564",
   "metadata": {},
   "outputs": [],
   "source": [
    "insta_data = data['GraphImages']"
   ]
  },
  {
   "cell_type": "code",
   "execution_count": 5,
   "id": "e57ca60a-c892-4362-a4ca-49091776c6ab",
   "metadata": {},
   "outputs": [],
   "source": [
    "def simple_dict(inst_dict):\n",
    "  to_return = {}\n",
    "  to_return['datetime'] = inst_dict['taken_at_timestamp']\n",
    "  to_return['likes'] = inst_dict['edge_media_preview_like']['count']\n",
    "  to_return['id'] = inst_dict['id']\n",
    "  return to_return"
   ]
  },
  {
   "cell_type": "code",
   "execution_count": 6,
   "id": "25e488f3-e433-45e8-924f-183840007c81",
   "metadata": {},
   "outputs": [],
   "source": [
    "data = [simple_dict(v) for v in insta_data]"
   ]
  },
  {
   "cell_type": "code",
   "execution_count": 7,
   "id": "be9b00a3-c686-4ab4-97e3-d1a75b0790d9",
   "metadata": {},
   "outputs": [],
   "source": [
    "src = pd.DataFrame(data)"
   ]
  },
  {
   "cell_type": "code",
   "execution_count": 8,
   "id": "4f524239-141b-48a2-8619-7c413c46ec6a",
   "metadata": {},
   "outputs": [
    {
     "data": {
      "text/html": [
       "<div>\n",
       "<style scoped>\n",
       "    .dataframe tbody tr th:only-of-type {\n",
       "        vertical-align: middle;\n",
       "    }\n",
       "\n",
       "    .dataframe tbody tr th {\n",
       "        vertical-align: top;\n",
       "    }\n",
       "\n",
       "    .dataframe thead th {\n",
       "        text-align: right;\n",
       "    }\n",
       "</style>\n",
       "<table border=\"1\" class=\"dataframe\">\n",
       "  <thead>\n",
       "    <tr style=\"text-align: right;\">\n",
       "      <th></th>\n",
       "      <th>datetime</th>\n",
       "      <th>likes</th>\n",
       "      <th>id</th>\n",
       "    </tr>\n",
       "  </thead>\n",
       "  <tbody>\n",
       "    <tr>\n",
       "      <th>0</th>\n",
       "      <td>1639965815</td>\n",
       "      <td>7</td>\n",
       "      <td>2732552546491095839</td>\n",
       "    </tr>\n",
       "    <tr>\n",
       "      <th>1</th>\n",
       "      <td>1639332235</td>\n",
       "      <td>14</td>\n",
       "      <td>2727238920394593041</td>\n",
       "    </tr>\n",
       "    <tr>\n",
       "      <th>2</th>\n",
       "      <td>1638728978</td>\n",
       "      <td>18</td>\n",
       "      <td>2722178432111568080</td>\n",
       "    </tr>\n",
       "    <tr>\n",
       "      <th>3</th>\n",
       "      <td>1638646923</td>\n",
       "      <td>23</td>\n",
       "      <td>2721490102072084593</td>\n",
       "    </tr>\n",
       "    <tr>\n",
       "      <th>4</th>\n",
       "      <td>1637897085</td>\n",
       "      <td>17</td>\n",
       "      <td>2715200003060964019</td>\n",
       "    </tr>\n",
       "  </tbody>\n",
       "</table>\n",
       "</div>"
      ],
      "text/plain": [
       "     datetime  likes                   id\n",
       "0  1639965815      7  2732552546491095839\n",
       "1  1639332235     14  2727238920394593041\n",
       "2  1638728978     18  2722178432111568080\n",
       "3  1638646923     23  2721490102072084593\n",
       "4  1637897085     17  2715200003060964019"
      ]
     },
     "execution_count": 8,
     "metadata": {},
     "output_type": "execute_result"
    }
   ],
   "source": [
    "src.head()"
   ]
  },
  {
   "cell_type": "markdown",
   "id": "0555a0fa-c2bf-42b8-b94c-65d04ee45b32",
   "metadata": {},
   "source": [
    "### Process dates"
   ]
  },
  {
   "cell_type": "code",
   "execution_count": 9,
   "id": "9f7c2be6-5080-459a-9ad0-a7f5cab7c02c",
   "metadata": {},
   "outputs": [],
   "source": [
    "src[\"datetime\"] = pd.to_datetime(src[\"datetime\"], unit='s')"
   ]
  },
  {
   "cell_type": "code",
   "execution_count": 10,
   "id": "4a780930-6f9a-48f1-8120-c697260a27aa",
   "metadata": {},
   "outputs": [],
   "source": [
    "src['date'] = src['datetime'].dt.tz_localize(\"GMT\").dt.tz_convert('America/Los_Angeles').dt.date\n",
    "src['time'] = src['datetime'].dt.tz_localize(\"GMT\").dt.tz_convert('America/Los_Angeles').dt.time"
   ]
  },
  {
   "cell_type": "code",
   "execution_count": 11,
   "id": "6fde9eca-9f87-4ab0-9be9-bdb1e547ad7c",
   "metadata": {},
   "outputs": [],
   "source": [
    "src[\"weekday\"] = pd.to_datetime(src[\"datetime\"]).dt.day_name()\n",
    "src[\"year\"] = pd.to_datetime(src[\"datetime\"]).dt.year\n",
    "src[\"month\"] = pd.to_datetime(src[\"datetime\"]).dt.month_name()\n",
    "src[\"weekend\"] = pd.to_datetime(src[\"datetime\"]).dt.day_name().isin([\"Saturday\", \"Sunday\"])"
   ]
  },
  {
   "cell_type": "code",
   "execution_count": 12,
   "id": "b950214b-609a-48e4-8747-f95257d7ba9c",
   "metadata": {},
   "outputs": [
    {
     "data": {
      "text/html": [
       "<div>\n",
       "<style scoped>\n",
       "    .dataframe tbody tr th:only-of-type {\n",
       "        vertical-align: middle;\n",
       "    }\n",
       "\n",
       "    .dataframe tbody tr th {\n",
       "        vertical-align: top;\n",
       "    }\n",
       "\n",
       "    .dataframe thead th {\n",
       "        text-align: right;\n",
       "    }\n",
       "</style>\n",
       "<table border=\"1\" class=\"dataframe\">\n",
       "  <thead>\n",
       "    <tr style=\"text-align: right;\">\n",
       "      <th></th>\n",
       "      <th>datetime</th>\n",
       "      <th>likes</th>\n",
       "      <th>id</th>\n",
       "      <th>date</th>\n",
       "      <th>time</th>\n",
       "      <th>weekday</th>\n",
       "      <th>year</th>\n",
       "      <th>month</th>\n",
       "      <th>weekend</th>\n",
       "    </tr>\n",
       "  </thead>\n",
       "  <tbody>\n",
       "    <tr>\n",
       "      <th>0</th>\n",
       "      <td>2021-12-20 02:03:35</td>\n",
       "      <td>7</td>\n",
       "      <td>2732552546491095839</td>\n",
       "      <td>2021-12-19</td>\n",
       "      <td>18:03:35</td>\n",
       "      <td>Monday</td>\n",
       "      <td>2021</td>\n",
       "      <td>December</td>\n",
       "      <td>False</td>\n",
       "    </tr>\n",
       "    <tr>\n",
       "      <th>1</th>\n",
       "      <td>2021-12-12 18:03:55</td>\n",
       "      <td>14</td>\n",
       "      <td>2727238920394593041</td>\n",
       "      <td>2021-12-12</td>\n",
       "      <td>10:03:55</td>\n",
       "      <td>Sunday</td>\n",
       "      <td>2021</td>\n",
       "      <td>December</td>\n",
       "      <td>True</td>\n",
       "    </tr>\n",
       "    <tr>\n",
       "      <th>2</th>\n",
       "      <td>2021-12-05 18:29:38</td>\n",
       "      <td>18</td>\n",
       "      <td>2722178432111568080</td>\n",
       "      <td>2021-12-05</td>\n",
       "      <td>10:29:38</td>\n",
       "      <td>Sunday</td>\n",
       "      <td>2021</td>\n",
       "      <td>December</td>\n",
       "      <td>True</td>\n",
       "    </tr>\n",
       "    <tr>\n",
       "      <th>3</th>\n",
       "      <td>2021-12-04 19:42:03</td>\n",
       "      <td>23</td>\n",
       "      <td>2721490102072084593</td>\n",
       "      <td>2021-12-04</td>\n",
       "      <td>11:42:03</td>\n",
       "      <td>Saturday</td>\n",
       "      <td>2021</td>\n",
       "      <td>December</td>\n",
       "      <td>True</td>\n",
       "    </tr>\n",
       "    <tr>\n",
       "      <th>4</th>\n",
       "      <td>2021-11-26 03:24:45</td>\n",
       "      <td>17</td>\n",
       "      <td>2715200003060964019</td>\n",
       "      <td>2021-11-25</td>\n",
       "      <td>19:24:45</td>\n",
       "      <td>Friday</td>\n",
       "      <td>2021</td>\n",
       "      <td>November</td>\n",
       "      <td>False</td>\n",
       "    </tr>\n",
       "  </tbody>\n",
       "</table>\n",
       "</div>"
      ],
      "text/plain": [
       "             datetime  likes                   id        date      time  \\\n",
       "0 2021-12-20 02:03:35      7  2732552546491095839  2021-12-19  18:03:35   \n",
       "1 2021-12-12 18:03:55     14  2727238920394593041  2021-12-12  10:03:55   \n",
       "2 2021-12-05 18:29:38     18  2722178432111568080  2021-12-05  10:29:38   \n",
       "3 2021-12-04 19:42:03     23  2721490102072084593  2021-12-04  11:42:03   \n",
       "4 2021-11-26 03:24:45     17  2715200003060964019  2021-11-25  19:24:45   \n",
       "\n",
       "    weekday  year     month  weekend  \n",
       "0    Monday  2021  December    False  \n",
       "1    Sunday  2021  December     True  \n",
       "2    Sunday  2021  December     True  \n",
       "3  Saturday  2021  December     True  \n",
       "4    Friday  2021  November    False  "
      ]
     },
     "execution_count": 12,
     "metadata": {},
     "output_type": "execute_result"
    }
   ],
   "source": [
    "src.head()"
   ]
  },
  {
   "cell_type": "code",
   "execution_count": 13,
   "id": "d4f69224-2395-4fc9-b2dd-6a97809cd0c3",
   "metadata": {},
   "outputs": [],
   "source": [
    "df = src.copy()"
   ]
  },
  {
   "cell_type": "code",
   "execution_count": 14,
   "id": "effe4566-8a60-4e00-a86f-c4daf048928c",
   "metadata": {},
   "outputs": [
    {
     "data": {
      "text/plain": [
       "weekend\n",
       "False    0.64\n",
       "True     0.36\n",
       "dtype: float64"
      ]
     },
     "execution_count": 14,
     "metadata": {},
     "output_type": "execute_result"
    }
   ],
   "source": [
    "df.value_counts('weekend', normalize=True)"
   ]
  },
  {
   "cell_type": "code",
   "execution_count": 15,
   "id": "b33daf0f-8e20-4cbb-88d9-ea9001e5124e",
   "metadata": {},
   "outputs": [
    {
     "data": {
      "text/plain": [
       "weekday\n",
       "Monday       0.22\n",
       "Sunday       0.20\n",
       "Friday       0.16\n",
       "Saturday     0.16\n",
       "Thursday     0.12\n",
       "Tuesday      0.08\n",
       "Wednesday    0.06\n",
       "dtype: float64"
      ]
     },
     "execution_count": 15,
     "metadata": {},
     "output_type": "execute_result"
    }
   ],
   "source": [
    "df.value_counts('weekday', normalize=True)"
   ]
  },
  {
   "cell_type": "code",
   "execution_count": 16,
   "id": "4b3d0917-262a-46c9-a6c5-e5f206110d52",
   "metadata": {},
   "outputs": [],
   "source": [
    "df.to_csv('data/instagram_metadata.csv', index=False)"
   ]
  }
 ],
 "metadata": {
  "kernelspec": {
   "display_name": "Python 3",
   "language": "python",
   "name": "python3"
  },
  "language_info": {
   "codemirror_mode": {
    "name": "ipython",
    "version": 3
   },
   "file_extension": ".py",
   "mimetype": "text/x-python",
   "name": "python",
   "nbconvert_exporter": "python",
   "pygments_lexer": "ipython3",
   "version": "3.8.8"
  }
 },
 "nbformat": 4,
 "nbformat_minor": 5
}
