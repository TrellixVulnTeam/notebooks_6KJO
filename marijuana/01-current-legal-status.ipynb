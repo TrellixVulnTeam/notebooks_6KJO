{
 "cells": [
  {
   "cell_type": "code",
   "execution_count": 1,
   "id": "dadaf094-c6f1-4a0c-8c73-02c8cce1ccfb",
   "metadata": {},
   "outputs": [],
   "source": [
    "%load_ext lab_black"
   ]
  },
  {
   "cell_type": "code",
   "execution_count": 2,
   "id": "164b647d-b145-449d-8fce-9b7eca574854",
   "metadata": {},
   "outputs": [],
   "source": [
    "import pandas as pd\n",
    "import requests\n",
    "import pageviewapi\n",
    "import datetime as dt\n",
    "from bs4 import BeautifulSoup\n",
    "import altair as alt"
   ]
  },
  {
   "cell_type": "code",
   "execution_count": 3,
   "id": "75b7db7c-7b7c-4901-9682-cf953849222e",
   "metadata": {},
   "outputs": [],
   "source": [
    "pd.options.display.max_columns = 100\n",
    "pd.options.display.max_rows = 1000\n",
    "pd.options.display.max_colwidth = None"
   ]
  },
  {
   "cell_type": "code",
   "execution_count": 4,
   "id": "ba30b1b0-0fd7-4fd4-960d-ae401c250793",
   "metadata": {},
   "outputs": [],
   "source": [
    "from datawrapper import Datawrapper\n",
    "\n",
    "dw = Datawrapper(\n",
    "    access_token=\"FtIwtvFtoGLaRT9a3gjX69PLu4wSuRyKddoOz6SOPw3k9wWyNICMHTkcPhOGCR5Z\"\n",
    ")"
   ]
  },
  {
   "cell_type": "code",
   "execution_count": 5,
   "id": "feb1a38b-31b7-45e3-850b-69eb8d614fd3",
   "metadata": {},
   "outputs": [],
   "source": [
    "import numpy as np"
   ]
  },
  {
   "cell_type": "markdown",
   "id": "f3270ea7-4487-44f8-be1b-a7e66eb0035b",
   "metadata": {},
   "source": [
    "---"
   ]
  },
  {
   "cell_type": "markdown",
   "id": "91d4b41f-fb68-4ca7-af28-869838951cf0",
   "metadata": {},
   "source": [
    "### data from the national council of state legislatures"
   ]
  },
  {
   "cell_type": "code",
   "execution_count": 6,
   "id": "9c3c597b-867a-4efb-9986-bc40dbb1eda0",
   "metadata": {},
   "outputs": [],
   "source": [
    "# url = \"https://www.ncsl.org/research/civil-and-criminal-justice/clearing-criminal-records-for-cannabis-offenses.aspx\""
   ]
  },
  {
   "cell_type": "code",
   "execution_count": 7,
   "id": "9153a04a-5935-472a-80ec-64060a02d621",
   "metadata": {},
   "outputs": [],
   "source": [
    "from urllib.request import urlopen\n",
    "from bs4 import BeautifulSoup\n",
    "\n",
    "\n",
    "html = urlopen(\n",
    "    \"https://www.ncsl.org/research/civil-and-criminal-justice/clearing-criminal-records-for-cannabis-offenses.aspx\"\n",
    ")"
   ]
  },
  {
   "cell_type": "code",
   "execution_count": 8,
   "id": "5066c732-1712-4c05-b793-e550d65e2823",
   "metadata": {},
   "outputs": [],
   "source": [
    "soup = BeautifulSoup(html, \"html.parser\")"
   ]
  },
  {
   "cell_type": "code",
   "execution_count": 9,
   "id": "fc1e7847-ec43-4be0-bf7b-c1fd31c8126d",
   "metadata": {},
   "outputs": [],
   "source": [
    "states = soup.find_all(\"div\", class_=\"notshowing\")"
   ]
  },
  {
   "cell_type": "code",
   "execution_count": 10,
   "id": "03d627ea-d024-4e56-9547-5415d2bef5e8",
   "metadata": {},
   "outputs": [],
   "source": [
    "names = []\n",
    "record_clearing = []\n",
    "cannabis_specific = []\n",
    "citation = []\n",
    "proposed_law = []\n",
    "recreational_use = []\n",
    "medical_use = []\n",
    "\n",
    "for state in states[0:51]:\n",
    "    names.append(state.find(\"h4\").text)\n",
    "    data = state.find_all(\"p\")\n",
    "    record_clearing.append(data[0].text)\n",
    "    if \"Specific\" in data[1].text:\n",
    "        cannabis_specific.append(data[1].text)\n",
    "        citation.append(data[2].text)\n",
    "    else:\n",
    "        cannabis_specific.append(\"NaN\")\n",
    "        citation.append(data[1].text)\n",
    "    if \"Proposed\" in data[2].text:\n",
    "        proposed_law.append(data[2].text)\n",
    "    else:\n",
    "        if \"Proposed\" in data[3].text:\n",
    "            proposed_law.append(data[3].text)\n",
    "        else:\n",
    "            proposed_law.append(\"NaN\")\n",
    "    if \"Recreational\" in data[2].text:\n",
    "        recreational_use.append(data[2].text)\n",
    "    else:\n",
    "        if \"Recreational\" in data[3].text:\n",
    "            recreational_use.append(data[3].text)\n",
    "        else:\n",
    "            if len(data) > 4:\n",
    "                if \"Recreational\" in data[4].text:\n",
    "                    recreational_use.append(data[4].text)\n",
    "    if \"Medical\" in data[3].text:\n",
    "        medical_use.append(data[3].text)\n",
    "    else:\n",
    "        if len(data) > 4:\n",
    "            if \"Medical\" in data[4].text:\n",
    "                medical_use.append(data[4].text)\n",
    "            else:\n",
    "                if len(data) > 5:\n",
    "                    if \"Medical\" in data[5].text:\n",
    "                        medical_use.append(data[5].text)\n",
    "\n",
    "\n",
    "#    for item in data:\n",
    "#        if \"Specific\" in data[1].text:\n",
    "#            cannabis_specific.append(data[1].text)\n",
    "#            citation.append(data[2].text)\n",
    "#        else:\n",
    "#            cannabis_specific.append(\"NaN\")\n",
    "#            citation.append(data[1])"
   ]
  },
  {
   "cell_type": "code",
   "execution_count": 11,
   "id": "6e133625-583b-44e5-9a86-d23a559b1857",
   "metadata": {},
   "outputs": [
    {
     "data": {
      "text/plain": [
       "51"
      ]
     },
     "execution_count": 11,
     "metadata": {},
     "output_type": "execute_result"
    }
   ],
   "source": [
    "len(medical_use)"
   ]
  },
  {
   "cell_type": "code",
   "execution_count": 12,
   "id": "36e2ec79-8778-4c31-9777-092da525a006",
   "metadata": {},
   "outputs": [],
   "source": [
    "df = pd.DataFrame(\n",
    "    {\n",
    "        \"state\": names,\n",
    "        \"record_clearing\": record_clearing,\n",
    "        \"cannabis_specific\": cannabis_specific,\n",
    "        \"citation\": citation,\n",
    "        \"proposed_law\": proposed_law,\n",
    "        \"recreational_use\": recreational_use,\n",
    "        \"medical_use\": medical_use,\n",
    "    }\n",
    ")"
   ]
  },
  {
   "cell_type": "code",
   "execution_count": 13,
   "id": "acebc617-61b1-48ba-9bdd-720606934478",
   "metadata": {},
   "outputs": [],
   "source": [
    "df[\"record_clearing\"] = df[\"record_clearing\"].str.replace(\n",
    "    \"Cannabis Record Clearing: \", \"\"\n",
    ")\n",
    "\n",
    "df[\"citation\"] = df[\"citation\"].str.replace(\"Citation: \", \"\")\n",
    "\n",
    "df[\"cannabis_specific\"] = df[\"cannabis_specific\"].str.replace(\"Cannabis Specific: \", \"\")\n",
    "\n",
    "df[\"proposed_law\"] = df[\"proposed_law\"].str.replace(\"Proposed Legislation: \", \"\")\n",
    "\n",
    "df[\"proposed_law\"] = df[\"proposed_law\"].str.replace(\"Proposed Ballot Initiative: \", \"\")\n",
    "\n",
    "df[\"recreational_use\"] = df[\"recreational_use\"].str.replace(\"Recreational Use: \", \"\")\n",
    "\n",
    "df[\"medical_use\"] = df[\"medical_use\"].str.replace(\"Medical Use: \", \"\")"
   ]
  },
  {
   "cell_type": "code",
   "execution_count": 15,
   "id": "5aa735a0-bcc9-406a-b578-8a9dbdb3548d",
   "metadata": {},
   "outputs": [
    {
     "data": {
      "text/plain": [
       "medical_use\n",
       "Yes               32\n",
       "No                13\n",
       "Decriminalized     4\n",
       "Y                  2\n",
       "dtype: int64"
      ]
     },
     "execution_count": 15,
     "metadata": {},
     "output_type": "execute_result"
    }
   ],
   "source": [
    "df.value_counts(\"medical_use\")"
   ]
  },
  {
   "cell_type": "code",
   "execution_count": 16,
   "id": "ccf82a1f-aa88-4273-aec8-232a093abc59",
   "metadata": {},
   "outputs": [
    {
     "data": {
      "text/plain": [
       "recreational_use\n",
       "No                21\n",
       "Decriminalized    16\n",
       "Yes               11\n",
       "N                  1\n",
       "Y                  1\n",
       "Yes; No Sales      1\n",
       "dtype: int64"
      ]
     },
     "execution_count": 16,
     "metadata": {},
     "output_type": "execute_result"
    }
   ],
   "source": [
    "df.value_counts(\"recreational_use\")"
   ]
  },
  {
   "cell_type": "markdown",
   "id": "6df07b59-817d-4b32-a93f-8463ef131833",
   "metadata": {},
   "source": [
    "### get the more recent tables"
   ]
  },
  {
   "cell_type": "code",
   "execution_count": null,
   "id": "e87163f2-ee93-4d79-9292-3caccceba4f1",
   "metadata": {},
   "outputs": [],
   "source": [
    "html = urlopen(\n",
    "    \"https://www.ncsl.org/research/health/state-medical-marijuana-laws.aspx\"\n",
    ")"
   ]
  }
 ],
 "metadata": {
  "kernelspec": {
   "display_name": "Python 3 (ipykernel)",
   "language": "python",
   "name": "python3"
  },
  "language_info": {
   "codemirror_mode": {
    "name": "ipython",
    "version": 3
   },
   "file_extension": ".py",
   "mimetype": "text/x-python",
   "name": "python",
   "nbconvert_exporter": "python",
   "pygments_lexer": "ipython3",
   "version": "3.9.13"
  }
 },
 "nbformat": 4,
 "nbformat_minor": 5
}
