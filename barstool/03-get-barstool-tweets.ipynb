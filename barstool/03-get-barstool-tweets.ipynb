{
 "cells": [
  {
   "cell_type": "markdown",
   "id": "848fcd0d-fadd-4592-b726-5ce08836d1fb",
   "metadata": {},
   "source": [
    "# Barstool bloggers on Twitter"
   ]
  },
  {
   "cell_type": "code",
   "execution_count": 1,
   "id": "3297404b-0b76-4df2-af15-55f87cfbfe89",
   "metadata": {},
   "outputs": [],
   "source": [
    "import pandas as pd\n",
    "import glob\n",
    "import json"
   ]
  },
  {
   "cell_type": "code",
   "execution_count": 2,
   "id": "92496b15-bdc0-435f-a72f-195cd4de8bb8",
   "metadata": {},
   "outputs": [],
   "source": [
    "pd.options.display.max_columns = 100\n",
    "pd.options.display.max_rows = 1000\n",
    "pd.options.display.max_colwidth = None"
   ]
  },
  {
   "cell_type": "markdown",
   "id": "9fa4c917-8d6f-4abe-b903-1f5fcd6eea54",
   "metadata": {},
   "source": [
    "#### Read blogger list into dataframe"
   ]
  },
  {
   "cell_type": "code",
   "execution_count": 3,
   "id": "91b3af1e-472a-4767-8d95-0fc4c5f2f90c",
   "metadata": {},
   "outputs": [],
   "source": [
    "df = pd.read_csv('data/processed/barstool_bloggers.csv')"
   ]
  },
  {
   "cell_type": "code",
   "execution_count": 4,
   "id": "e217e70e-45f7-4919-8772-45c3067fee29",
   "metadata": {},
   "outputs": [],
   "source": [
    "twitter_handles = df.twitter.to_list()"
   ]
  },
  {
   "cell_type": "code",
   "execution_count": 5,
   "id": "1fe7d6b5-3a5a-445d-9929-4edecafe259b",
   "metadata": {},
   "outputs": [
    {
     "data": {
      "text/plain": [
       "['stoolpresidente']"
      ]
     },
     "execution_count": 5,
     "metadata": {},
     "output_type": "execute_result"
    }
   ],
   "source": [
    "twitter_handles[0:1]"
   ]
  },
  {
   "cell_type": "markdown",
   "id": "37dfd693-a044-40aa-bd68-22d7da442e7c",
   "metadata": {},
   "source": [
    "---"
   ]
  },
  {
   "cell_type": "markdown",
   "id": "493344ec-b0db-4cd0-b91c-7778581d1efd",
   "metadata": {},
   "source": [
    "#### Last update: June 27"
   ]
  },
  {
   "cell_type": "code",
   "execution_count": 6,
   "id": "762a4494-7f29-4cce-a63a-297995ed3e78",
   "metadata": {},
   "outputs": [
    {
     "name": "stdout",
     "output_type": "stream",
     "text": [
      "Set --limit of 10 reached:   0%| | Processed 4 days/13 years [00:01<33:46, 100 t\n",
      "Set --limit of 10 reached:   0%| | Processed 2 days/12 years [00:02<1:05:15, 100\n",
      "Set --limit of 10 reached:   0%| | Processed 3 days/12 years [00:01<40:46, 100 t\n",
      "Set --limit of 10 reached:  16%|▏| Processed 1 year, 10 months/11 years [00:01<0\n",
      "Set --limit of 10 reached:   0%| | Processed 6 days/11 years [00:02<22:09, 100 t\n",
      "Set --limit of 10 reached:   0%| | Processed 6 days/11 years [00:01<20:43, 100 t\n",
      "Set --limit of 10 reached:   1%| | Processed a month/11 years [00:02<03:24, 100 \n",
      "Set --limit of 10 reached:   0%| | Processed 4 days/10 years [00:02<27:09, 100 t\n",
      "Set --limit of 10 reached:   5%| | Processed 7 months/11 years [00:01<00:32, 100\n",
      "Set --limit of 10 reached:   0%| | Processed 5 days/9 years [00:02<25:59, 100 tw\n",
      "Set --limit of 10 reached:   0%| | Processed 6 days/8 years [00:02<19:37, 100 tw\n",
      "Set --limit of 10 reached:   2%| | Processed a month/10 years [00:02<02:24, 100 \n",
      "Set --limit of 10 reached:   0%| | Processed 2 days/11 years [00:01<56:58, 100 t\n",
      "Set --limit of 10 reached:   0%| | Processed 11 days/8 years [00:02<08:43, 100 t\n",
      "Set --limit of 10 reached:   0%| | Processed a day/8 years [00:02<1:04:21, 100 t\n",
      "Set --limit of 10 reached:   2%| | Processed 2 months/10 years [00:02<01:26, 100\n",
      "Set --limit of 10 reached:   0%| | Processed 2 days/13 years [00:02<1:15:04, 100\n",
      "Set --limit of 10 reached:   0%| | Processed 2 days/12 years [00:02<1:02:26, 100\n",
      "Set --limit of 10 reached:   4%| | Processed 4 months/10 years [00:02<01:05, 99 \n",
      "Set --limit of 10 reached:   0%| | Processed 15 days/10 years [00:02<08:48, 100 \n",
      "Set --limit of 10 reached:   2%| | Processed 2 months/13 years [00:02<01:51, 100\n",
      "Set --limit of 10 reached:   0%| | Processed a day/10 years [00:02<1:51:34, 100 \n",
      "Set --limit of 10 reached:   1%| | Processed 10 days/5 years [00:02<06:06, 100 t\n",
      "Set --limit of 10 reached:   0%| | Processed 16 days/13 years [00:02<11:09, 100 \n",
      "Set --limit of 10 reached:   0%| | Processed 4 days/11 years [00:02<33:23, 100 t\n",
      "Set --limit of 10 reached:   0%| | Processed 7 days/10 years [00:01<18:21, 100 t\n",
      "Set --limit of 10 reached:   0%| | Processed 5 days/12 years [00:01<25:36, 100 t\n",
      "Set --limit of 10 reached:   0%| | Processed 3 days/13 years [00:02<54:59, 100 t\n",
      "Set --limit of 10 reached:   0%| | Processed 19 days/12 years [00:02<08:04, 100 \n",
      "Set --limit of 10 reached:   1%| | Processed 4 days/2 years [00:01<05:32, 100 tw\n",
      "Set --limit of 10 reached:   2%| | Processed 2 months/10 years [00:02<02:03, 98 \n",
      "Set --limit of 10 reached:   0%| | Processed 5 days/3 years [00:02<07:30, 100 tw\n",
      "Set --limit of 10 reached:   0%| | Processed 4 days/12 years [00:02<34:44, 100 t\n",
      "Usage: twarc2 timeline [OPTIONS] USER_ID [OUTFILE]\n",
      "Try 'twarc2 timeline --help' for help.\n",
      "\n",
      "Error: Got unexpected extra argument (.jsonl)\n",
      "Set --limit of 10 reached:   0%| | Processed 11 days/13 years [00:02<14:32, 100 \n",
      "Set --limit of 10 reached:   4%| | Processed 2 months/3 years [00:02<00:44, 100 \n",
      "Set --limit of 10 reached:   0%| | Processed 4 days/9 years [00:01<23:44, 100 tw\n",
      "Set --limit of 10 reached:   0%| | Processed 17 days/14 years [00:01<09:34, 100 \n",
      "Set --limit of 10 reached:   1%| | Processed 13 days/6 years [00:01<05:55, 100 t\n",
      "Set --limit of 10 reached:   0%| | Processed 3 days/11 years [00:02<40:35, 100 t\n",
      "Set --limit of 10 reached:   0%| | Processed 8 days/13 years [00:01<17:46, 100 t\n",
      "Set --limit of 10 reached:   0%| | Processed 3 days/11 years [00:01<43:44, 100 t\n",
      "Traceback (most recent call last):\n",
      "  File \"/Users/stiles/.pyenv/versions/3.9.9/bin/twarc2\", line 8, in <module>\n",
      "    sys.exit(twarc2())\n",
      "  File \"/Users/stiles/.pyenv/versions/3.9.9/lib/python3.9/site-packages/click/core.py\", line 1128, in __call__\n",
      "    return self.main(*args, **kwargs)\n",
      "  File \"/Users/stiles/.pyenv/versions/3.9.9/lib/python3.9/site-packages/click/core.py\", line 1053, in main\n",
      "    rv = self.invoke(ctx)\n",
      "  File \"/Users/stiles/.pyenv/versions/3.9.9/lib/python3.9/site-packages/click/core.py\", line 1659, in invoke\n",
      "    return _process_result(sub_ctx.command.invoke(sub_ctx))\n",
      "  File \"/Users/stiles/.pyenv/versions/3.9.9/lib/python3.9/site-packages/click/core.py\", line 1395, in invoke\n",
      "    return ctx.invoke(self.callback, **ctx.params)\n",
      "  File \"/Users/stiles/.pyenv/versions/3.9.9/lib/python3.9/site-packages/click/core.py\", line 754, in invoke\n",
      "    return __callback(*args, **kwargs)\n",
      "  File \"/Users/stiles/.pyenv/versions/3.9.9/lib/python3.9/site-packages/click/decorators.py\", line 38, in new_func\n",
      "    return f(get_current_context().obj, *args, **kwargs)\n",
      "  File \"/Users/stiles/.pyenv/versions/3.9.9/lib/python3.9/site-packages/twarc/decorators2.py\", line 180, in __call__\n",
      "    return self.f(*args, **kwargs)\n",
      "  File \"/Users/stiles/.pyenv/versions/3.9.9/lib/python3.9/site-packages/twarc/command2.py\", line 1246, in timeline\n",
      "    user[\"created_at\"], \"%Y-%m-%dT%H:%M:%S.%fZ\"\n",
      "KeyError: 'created_at'\n",
      "Set --limit of 10 reached:   0%| | Processed 5 days/6 years [00:02<15:14, 100 tw\n",
      "Set --limit of 10 reached:   1%| | Processed 24 days/11 years [00:02<06:28, 99 t\n",
      "Set --limit of 10 reached:   0%| | Processed 5 days/9 years [00:01<22:58, 100 tw\n",
      "Traceback (most recent call last):\n",
      "  File \"/Users/stiles/.pyenv/versions/3.9.9/bin/twarc2\", line 8, in <module>\n",
      "    sys.exit(twarc2())\n",
      "  File \"/Users/stiles/.pyenv/versions/3.9.9/lib/python3.9/site-packages/click/core.py\", line 1128, in __call__\n",
      "    return self.main(*args, **kwargs)\n",
      "  File \"/Users/stiles/.pyenv/versions/3.9.9/lib/python3.9/site-packages/click/core.py\", line 1053, in main\n",
      "    rv = self.invoke(ctx)\n",
      "  File \"/Users/stiles/.pyenv/versions/3.9.9/lib/python3.9/site-packages/click/core.py\", line 1659, in invoke\n",
      "    return _process_result(sub_ctx.command.invoke(sub_ctx))\n",
      "  File \"/Users/stiles/.pyenv/versions/3.9.9/lib/python3.9/site-packages/click/core.py\", line 1395, in invoke\n",
      "    return ctx.invoke(self.callback, **ctx.params)\n",
      "  File \"/Users/stiles/.pyenv/versions/3.9.9/lib/python3.9/site-packages/click/core.py\", line 754, in invoke\n",
      "    return __callback(*args, **kwargs)\n",
      "  File \"/Users/stiles/.pyenv/versions/3.9.9/lib/python3.9/site-packages/click/decorators.py\", line 38, in new_func\n",
      "    return f(get_current_context().obj, *args, **kwargs)\n",
      "  File \"/Users/stiles/.pyenv/versions/3.9.9/lib/python3.9/site-packages/twarc/decorators2.py\", line 180, in __call__\n",
      "    return self.f(*args, **kwargs)\n",
      "  File \"/Users/stiles/.pyenv/versions/3.9.9/lib/python3.9/site-packages/twarc/command2.py\", line 1246, in timeline\n",
      "    user[\"created_at\"], \"%Y-%m-%dT%H:%M:%S.%fZ\"\n",
      "KeyError: 'created_at'\n",
      "Set --limit of 10 reached:   1%| | Processed 9 days/5 years [00:02<06:50, 100 tw\n",
      "\u001b[33m⚡ \u001b[0m\u001b[31mThe `usernames` query parameter value [@barstoolbanks] does not match ^[A-Za-z0-9_]{1,15}$\u001b[0m\n",
      "100%|███████████████| Processed 2 months/2 months [00:01<00:00, 0 tweets total ]\n",
      "Set --limit of 10 reached:   1%| | Processed 20 days/8 years [00:02<06:42, 100 t\n",
      "Set --limit of 10 reached:   0%| | Processed 11 days/13 years [00:01<13:18, 100 \n",
      "Set --limit of 10 reached:   0%| | Processed 16 days/9 years [00:01<07:12, 100 t\n",
      "Set --limit of 10 reached:  22%|▏| Processed 2 years/10 years [00:02<00:07, 100 \n",
      "Set --limit of 10 reached:   1%| | Processed 26 days/4 years [00:02<02:19, 100 t\n",
      "Set --limit of 10 reached:   0%| | Processed 3 days/11 years [00:01<39:12, 100 t\n",
      "Set --limit of 10 reached:   1%| | Processed 26 days/13 years [00:01<05:49, 100 \n",
      "Set --limit of 10 reached:   0%| | Processed 7 days/4 years [00:02<07:25, 100 tw\n",
      "Set --limit of 10 reached:   0%| | Processed 18 days/11 years [00:02<09:21, 100 \n",
      "Set --limit of 10 reached:   0%| | Processed 5 days/12 years [00:02<28:38, 100 t\n",
      "Set --limit of 10 reached:   0%| | Processed 6 days/11 years [00:01<21:38, 100 t\n",
      "Set --limit of 10 reached:   1%| | Processed a month/11 years [00:02<03:11, 100 \n",
      "Set --limit of 10 reached:   3%| | Processed 4 months/12 years [00:02<01:07, 99 \n",
      "Set --limit of 10 reached:   0%| | Processed 5 days/12 years [00:01<26:45, 100 t\n",
      "100%|█| Processed 1 year, 11 days/1 year, 11 days [00:01<00:00, 2 tweets total ]\n",
      "\u001b[33m⚡ \u001b[0m\u001b[31mThe `usernames` query parameter value [@NoNamePat] does not match ^[A-Za-z0-9_]{1,15}$\u001b[0m\n",
      "Set --limit of 10 reached:   1%| | Processed 15 days/6 years [00:02<04:53, 100 t\n",
      "Traceback (most recent call last):\n",
      "  File \"/Users/stiles/.pyenv/versions/3.9.9/bin/twarc2\", line 8, in <module>\n",
      "    sys.exit(twarc2())\n",
      "  File \"/Users/stiles/.pyenv/versions/3.9.9/lib/python3.9/site-packages/click/core.py\", line 1128, in __call__\n",
      "    return self.main(*args, **kwargs)\n",
      "  File \"/Users/stiles/.pyenv/versions/3.9.9/lib/python3.9/site-packages/click/core.py\", line 1053, in main\n",
      "    rv = self.invoke(ctx)\n",
      "  File \"/Users/stiles/.pyenv/versions/3.9.9/lib/python3.9/site-packages/click/core.py\", line 1659, in invoke\n",
      "    return _process_result(sub_ctx.command.invoke(sub_ctx))\n",
      "  File \"/Users/stiles/.pyenv/versions/3.9.9/lib/python3.9/site-packages/click/core.py\", line 1395, in invoke\n",
      "    return ctx.invoke(self.callback, **ctx.params)\n",
      "  File \"/Users/stiles/.pyenv/versions/3.9.9/lib/python3.9/site-packages/click/core.py\", line 754, in invoke\n",
      "    return __callback(*args, **kwargs)\n",
      "  File \"/Users/stiles/.pyenv/versions/3.9.9/lib/python3.9/site-packages/click/decorators.py\", line 38, in new_func\n",
      "    return f(get_current_context().obj, *args, **kwargs)\n",
      "  File \"/Users/stiles/.pyenv/versions/3.9.9/lib/python3.9/site-packages/twarc/decorators2.py\", line 180, in __call__\n",
      "    return self.f(*args, **kwargs)\n",
      "  File \"/Users/stiles/.pyenv/versions/3.9.9/lib/python3.9/site-packages/twarc/command2.py\", line 1246, in timeline\n",
      "    user[\"created_at\"], \"%Y-%m-%dT%H:%M:%S.%fZ\"\n",
      "KeyError: 'created_at'\n",
      "Set --limit of 10 reached:   0%| | Processed 16 days/10 years [00:02<07:44, 100 \n",
      "Set --limit of 10 reached:   9%| | Processed 9 months/9 years [00:01<00:20, 100 \n",
      "Set --limit of 10 reached:  26%|▎| Processed 1 year, 2 months/4 years [00:01<00:\n",
      "Set --limit of 10 reached:   3%| | Processed 4 months/11 years [00:01<00:57, 100\n",
      "Set --limit of 10 reached:  36%|▎| Processed 1 year, 10 months/5 years [00:01<00\n",
      "Set --limit of 10 reached:   0%| | Processed 17 days/14 years [00:01<09:35, 100 \n",
      "Set --limit of 10 reached:   0%| | Processed 4 days/11 years [00:02<33:42, 100 t\n",
      "Set --limit of 10 reached:   0%| | Processed 9 days/11 years [00:02<15:01, 100 t\n",
      "Set --limit of 10 reached:   3%| | Processed 2 months/7 years [00:02<01:05, 100 \n",
      "Set --limit of 10 reached:   1%| | Processed a month/8 years [00:01<02:30, 100 t\n",
      "Set --limit of 10 reached:   0%| | Processed 5 days/13 years [00:02<30:47, 100 t\n",
      "Set --limit of 10 reached:   8%| | Processed 2 months/2 years [00:01<00:23, 97 t\n",
      "Set --limit of 10 reached:   3%| | Processed 4 months/12 years [00:02<01:02, 97 \n",
      "Set --limit of 10 reached:   3%| | Processed 2 months/8 years [00:02<01:05, 96 t\n",
      "Set --limit of 10 reached:   0%| | Processed 17 days/14 years [00:01<09:08, 100 \n",
      "Set --limit of 10 reached:   1%| | Processed 6 days/2 years [00:02<04:16, 100 tw\n",
      "Set --limit of 10 reached:   0%| | Processed 19 days/12 years [00:01<07:25, 99 t\n",
      "Set --limit of 10 reached:   9%| | Processed 1 year, 2 months/13 years [00:01<00\n",
      "Set --limit of 10 reached:   0%| | Processed 6 days/10 years [00:02<18:59, 100 t\n",
      "Set --limit of 10 reached:   2%| | Processed 21 days/2 years [00:02<01:34, 100 t\n",
      "Set --limit of 10 reached:   0%| | Processed a day/10 years [00:01<1:21:59, 100 \n",
      "Set --limit of 10 reached:  14%|▏| Processed 3 months/1 year, 11 months [00:02<0\n",
      "Set --limit of 10 reached:   0%| | Processed 6 days/13 years [00:02<23:56, 100 t\n",
      "Set --limit of 10 reached:   0%| | Processed 19 days/13 years [00:01<08:08, 100 \n",
      "Set --limit of 10 reached:   0%| | Processed 4 days/2 years [00:01<06:53, 100 tw\n",
      "Set --limit of 10 reached:   0%| | Processed 20 days/13 years [00:02<08:05, 100 \n",
      "Set --limit of 10 reached:   1%| | Processed a month/13 years [00:02<04:29, 100 \n",
      "Set --limit of 10 reached:   0%| | Processed 17 days/10 years [00:02<07:24, 100 \n",
      "Set --limit of 10 reached:   2%| | Processed 22 days/4 years [00:02<02:07, 99 tw\n",
      "Set --limit of 10 reached:   0%| | Processed 7 days/11 years [00:02<21:15, 100 t\n",
      "Traceback (most recent call last):\n",
      "  File \"/Users/stiles/.pyenv/versions/3.9.9/bin/twarc2\", line 8, in <module>\n",
      "    sys.exit(twarc2())\n",
      "  File \"/Users/stiles/.pyenv/versions/3.9.9/lib/python3.9/site-packages/click/core.py\", line 1128, in __call__\n",
      "    return self.main(*args, **kwargs)\n",
      "  File \"/Users/stiles/.pyenv/versions/3.9.9/lib/python3.9/site-packages/click/core.py\", line 1053, in main\n",
      "    rv = self.invoke(ctx)\n",
      "  File \"/Users/stiles/.pyenv/versions/3.9.9/lib/python3.9/site-packages/click/core.py\", line 1659, in invoke\n",
      "    return _process_result(sub_ctx.command.invoke(sub_ctx))\n",
      "  File \"/Users/stiles/.pyenv/versions/3.9.9/lib/python3.9/site-packages/click/core.py\", line 1395, in invoke\n",
      "    return ctx.invoke(self.callback, **ctx.params)\n",
      "  File \"/Users/stiles/.pyenv/versions/3.9.9/lib/python3.9/site-packages/click/core.py\", line 754, in invoke\n",
      "    return __callback(*args, **kwargs)\n",
      "  File \"/Users/stiles/.pyenv/versions/3.9.9/lib/python3.9/site-packages/click/decorators.py\", line 38, in new_func\n",
      "    return f(get_current_context().obj, *args, **kwargs)\n",
      "  File \"/Users/stiles/.pyenv/versions/3.9.9/lib/python3.9/site-packages/twarc/decorators2.py\", line 180, in __call__\n",
      "    return self.f(*args, **kwargs)\n",
      "  File \"/Users/stiles/.pyenv/versions/3.9.9/lib/python3.9/site-packages/twarc/command2.py\", line 1246, in timeline\n",
      "    user[\"created_at\"], \"%Y-%m-%dT%H:%M:%S.%fZ\"\n",
      "KeyError: 'created_at'\n",
      "Set --limit of 10 reached:   2%| | Processed a month/6 years [00:02<02:06, 100 t\n",
      "Set --limit of 10 reached:   4%| | Processed 10 days/9 months [00:02<00:59, 100 \n",
      "Set --limit of 10 reached:   0%| | Processed 3 days/6 years [00:02<19:46, 100 tw\n",
      "Set --limit of 10 reached:   0%| | Processed 7 days/13 years [00:02<22:42, 100 t\n",
      "Set --limit of 10 reached:   0%| | Processed 5 days/9 years [00:02<22:07, 100 tw\n",
      "Set --limit of 10 reached:   1%| | Processed 23 days/9 years [00:02<04:55, 100 t\n",
      "Set --limit of 10 reached:   1%| | Processed 3 days/10 months [00:02<02:48, 100 \n",
      "Set --limit of 10 reached:   0%| | Processed 9 days/11 years [00:02<14:17, 100 t\n",
      "Set --limit of 10 reached:   0%| | Processed 3 days/12 years [00:02<51:28, 100 t\n",
      "Set --limit of 10 reached:  55%|▌| Processed 5 months/9 months [00:02<00:01, 100\n",
      "Set --limit of 10 reached:   6%| | Processed a month/1 year, 11 months [00:01<00\n",
      "Set --limit of 10 reached:   0%| | Processed 8 days/12 years [00:01<17:12, 100 t\n",
      "Set --limit of 10 reached:   9%| | Processed 30 days/10 months [00:01<00:19, 99 \n",
      "Set --limit of 10 reached:   3%| | Processed 9 days/9 months [00:01<00:58, 100 t\n",
      "Set --limit of 10 reached:  42%|▍| Processed 4 years/11 years [00:02<00:02, 100 \n",
      "Set --limit of 10 reached:   6%| | Processed 6 months/9 years [00:01<00:31, 97 t\n"
     ]
    }
   ],
   "source": [
    "for handle in twitter_handles:\n",
    "    !twarc2 timeline --use-search --no-context-annotations --limit 10 {handle} data/raw/barstool_tweets/{handle}.jsonl"
   ]
  },
  {
   "cell_type": "markdown",
   "id": "842da794-68e7-4ea3-99c7-a1d8a63dd61f",
   "metadata": {},
   "source": [
    "----"
   ]
  },
  {
   "cell_type": "markdown",
   "id": "e756ec85-8efd-44d2-a8ec-ce9fe40aec4b",
   "metadata": {},
   "source": [
    "#### Get the path to each member's tweet file"
   ]
  },
  {
   "cell_type": "code",
   "execution_count": 7,
   "id": "0733dbba-4af1-4f1e-a330-e0a023d12e1c",
   "metadata": {},
   "outputs": [],
   "source": [
    "file_path = \"data/raw/barstool_tweets/\"\n",
    "json_files = glob.glob(file_path + \"*.jsonl\")"
   ]
  },
  {
   "cell_type": "code",
   "execution_count": 8,
   "id": "8b698a7a-9cf5-456d-884e-1bb93451327d",
   "metadata": {},
   "outputs": [
    {
     "data": {
      "text/plain": [
       "105"
      ]
     },
     "execution_count": 8,
     "metadata": {},
     "output_type": "execute_result"
    }
   ],
   "source": [
    "len(json_files)"
   ]
  },
  {
   "cell_type": "code",
   "execution_count": 9,
   "id": "2d2f520c-87cc-465a-940a-b76ca65f51aa",
   "metadata": {},
   "outputs": [],
   "source": [
    "# json_files"
   ]
  },
  {
   "cell_type": "markdown",
   "id": "333d2788-91fa-4294-9749-ee5ea773faa2",
   "metadata": {},
   "source": [
    "#### Read all the json files, loop and snag values that interest us "
   ]
  },
  {
   "cell_type": "code",
   "execution_count": 10,
   "id": "cb23b829-f412-4db3-ab91-ee9f3b53b7cf",
   "metadata": {},
   "outputs": [
    {
     "name": "stdout",
     "output_type": "stream",
     "text": [
      "CPU times: user 4.27 s, sys: 176 ms, total: 4.45 s\n",
      "Wall time: 4.38 s\n"
     ]
    }
   ],
   "source": [
    "%%time\n",
    "\n",
    "jsons = []\n",
    "data_list = []\n",
    "\n",
    "for f in json_files:\n",
    "    with open(f) as file:\n",
    "        for line in file:\n",
    "            jsons.append(json.loads(line))\n",
    "        \n",
    "for j in jsons:\n",
    "    for d in j['data']:\n",
    "        datadict = {\n",
    "            \"author_id\":d['author_id'],\n",
    "            \"conversation_id\": d['conversation_id'],\n",
    "            \"tweet_id\": d['id'],\n",
    "            \"tweet_text\": d['text'],\n",
    "            \"source\": d['source'],\n",
    "            \"created_date_uct\": d['created_at'],\n",
    "            \"retweets\": pd.json_normalize(d['public_metrics'])['retweet_count'][0],\n",
    "            \"likes\": pd.json_normalize(d['public_metrics'])['like_count'][0],\n",
    "            \"quotes\": pd.json_normalize(d['public_metrics'])['quote_count'][0],\n",
    "        }\n",
    "        data_list.append(datadict)"
   ]
  },
  {
   "cell_type": "markdown",
   "id": "ec9ba8f8-5b5d-461f-87c5-4f333b8c3e9a",
   "metadata": {},
   "source": [
    "#### Convert the list of dicts to a pandas dataframe"
   ]
  },
  {
   "cell_type": "code",
   "execution_count": 11,
   "id": "adabf329-f97e-4dbf-9c06-da593bc99901",
   "metadata": {},
   "outputs": [],
   "source": [
    "src = pd.DataFrame(data_list)"
   ]
  },
  {
   "cell_type": "markdown",
   "id": "a99ce785-052a-4204-b63b-8562a25d9687",
   "metadata": {},
   "source": [
    "#### How many Twitter users did we capture? "
   ]
  },
  {
   "cell_type": "code",
   "execution_count": 12,
   "id": "abf9eb17-1a16-45dc-9628-7b7ca88bcbde",
   "metadata": {},
   "outputs": [
    {
     "data": {
      "text/plain": [
       "105"
      ]
     },
     "execution_count": 12,
     "metadata": {},
     "output_type": "execute_result"
    }
   ],
   "source": [
    "len(src.author_id.unique())"
   ]
  },
  {
   "cell_type": "markdown",
   "id": "18338e42-188d-4318-a904-3b7247dd4b5b",
   "metadata": {},
   "source": [
    "#### Drop dupes because the requests might overlap"
   ]
  },
  {
   "cell_type": "code",
   "execution_count": 13,
   "id": "60a5b6df-b59e-41af-b2e8-84e9166c92e1",
   "metadata": {},
   "outputs": [],
   "source": [
    "src = src.drop_duplicates(subset='tweet_id')"
   ]
  },
  {
   "cell_type": "markdown",
   "id": "06ea9c2d-8b79-49cf-a20b-bdde31ba6723",
   "metadata": {},
   "source": [
    "#### How many tweets? "
   ]
  },
  {
   "cell_type": "code",
   "execution_count": 14,
   "id": "3c6697d3-0751-4faa-acb6-ac8d54fb5650",
   "metadata": {},
   "outputs": [
    {
     "data": {
      "text/plain": [
       "10379"
      ]
     },
     "execution_count": 14,
     "metadata": {},
     "output_type": "execute_result"
    }
   ],
   "source": [
    "len(src)"
   ]
  },
  {
   "cell_type": "code",
   "execution_count": 15,
   "id": "072f58d8-37ad-4e90-820f-e6bd99953b0e",
   "metadata": {},
   "outputs": [],
   "source": [
    "src.to_csv('data/processed/barstool_blogger_tweets_1000.csv', index=False)"
   ]
  },
  {
   "cell_type": "code",
   "execution_count": 16,
   "id": "cc056953-d56c-4dc2-87da-1df61ecb1a62",
   "metadata": {},
   "outputs": [
    {
     "data": {
      "text/html": [
       "<div>\n",
       "<style scoped>\n",
       "    .dataframe tbody tr th:only-of-type {\n",
       "        vertical-align: middle;\n",
       "    }\n",
       "\n",
       "    .dataframe tbody tr th {\n",
       "        vertical-align: top;\n",
       "    }\n",
       "\n",
       "    .dataframe thead th {\n",
       "        text-align: right;\n",
       "    }\n",
       "</style>\n",
       "<table border=\"1\" class=\"dataframe\">\n",
       "  <thead>\n",
       "    <tr style=\"text-align: right;\">\n",
       "      <th></th>\n",
       "      <th>author_id</th>\n",
       "      <th>conversation_id</th>\n",
       "      <th>tweet_id</th>\n",
       "      <th>tweet_text</th>\n",
       "      <th>source</th>\n",
       "      <th>created_date_uct</th>\n",
       "      <th>retweets</th>\n",
       "      <th>likes</th>\n",
       "      <th>quotes</th>\n",
       "    </tr>\n",
       "  </thead>\n",
       "  <tbody>\n",
       "    <tr>\n",
       "      <th>0</th>\n",
       "      <td>34703080</td>\n",
       "      <td>1478611086442000384</td>\n",
       "      <td>1478683395035181057</td>\n",
       "      <td>@maxstarks78 @CFBHOF @Bengals @NDFootball Truly a legend RIP 🪦</td>\n",
       "      <td>Twitter for iPhone</td>\n",
       "      <td>2022-01-05T11:02:48.000Z</td>\n",
       "      <td>0</td>\n",
       "      <td>4</td>\n",
       "      <td>0</td>\n",
       "    </tr>\n",
       "    <tr>\n",
       "      <th>1</th>\n",
       "      <td>34703080</td>\n",
       "      <td>1471794263641964544</td>\n",
       "      <td>1471794263641964544</td>\n",
       "      <td>RT @LRiddickESPN: If you know @DeionSanders, if you have been teammates with him, or competed against him, then you know what he is doing n…</td>\n",
       "      <td>Twitter for iPhone</td>\n",
       "      <td>2021-12-17T10:47:51.000Z</td>\n",
       "      <td>318</td>\n",
       "      <td>0</td>\n",
       "      <td>0</td>\n",
       "    </tr>\n",
       "    <tr>\n",
       "      <th>2</th>\n",
       "      <td>34703080</td>\n",
       "      <td>1456448587076886534</td>\n",
       "      <td>1456734885452910600</td>\n",
       "      <td>@JoiDukesTV He won’t…</td>\n",
       "      <td>Twitter for iPhone</td>\n",
       "      <td>2021-11-05T21:27:16.000Z</td>\n",
       "      <td>0</td>\n",
       "      <td>2</td>\n",
       "      <td>0</td>\n",
       "    </tr>\n",
       "    <tr>\n",
       "      <th>3</th>\n",
       "      <td>34703080</td>\n",
       "      <td>1438552332179066881</td>\n",
       "      <td>1438552332179066881</td>\n",
       "      <td>Only in Florida would a Chicken 🍗 🐓 be bold enough to prance around Popeye’s https://t.co/uFPJVIHKrb</td>\n",
       "      <td>Instagram</td>\n",
       "      <td>2021-09-16T17:16:17.000Z</td>\n",
       "      <td>0</td>\n",
       "      <td>2</td>\n",
       "      <td>0</td>\n",
       "    </tr>\n",
       "    <tr>\n",
       "      <th>4</th>\n",
       "      <td>34703080</td>\n",
       "      <td>1437072435174588417</td>\n",
       "      <td>1437177352732225539</td>\n",
       "      <td>@stoolpresidente @DeionSanders AND THE FALCONS…</td>\n",
       "      <td>Twitter for iPhone</td>\n",
       "      <td>2021-09-12T22:12:37.000Z</td>\n",
       "      <td>0</td>\n",
       "      <td>18</td>\n",
       "      <td>0</td>\n",
       "    </tr>\n",
       "  </tbody>\n",
       "</table>\n",
       "</div>"
      ],
      "text/plain": [
       "  author_id      conversation_id             tweet_id  \\\n",
       "0  34703080  1478611086442000384  1478683395035181057   \n",
       "1  34703080  1471794263641964544  1471794263641964544   \n",
       "2  34703080  1456448587076886534  1456734885452910600   \n",
       "3  34703080  1438552332179066881  1438552332179066881   \n",
       "4  34703080  1437072435174588417  1437177352732225539   \n",
       "\n",
       "                                                                                                                                     tweet_text  \\\n",
       "0                                                                                @maxstarks78 @CFBHOF @Bengals @NDFootball Truly a legend RIP 🪦   \n",
       "1  RT @LRiddickESPN: If you know @DeionSanders, if you have been teammates with him, or competed against him, then you know what he is doing n…   \n",
       "2                                                                                                                         @JoiDukesTV He won’t…   \n",
       "3                                          Only in Florida would a Chicken 🍗 🐓 be bold enough to prance around Popeye’s https://t.co/uFPJVIHKrb   \n",
       "4                                                                                               @stoolpresidente @DeionSanders AND THE FALCONS…   \n",
       "\n",
       "               source          created_date_uct  retweets  likes  quotes  \n",
       "0  Twitter for iPhone  2022-01-05T11:02:48.000Z         0      4       0  \n",
       "1  Twitter for iPhone  2021-12-17T10:47:51.000Z       318      0       0  \n",
       "2  Twitter for iPhone  2021-11-05T21:27:16.000Z         0      2       0  \n",
       "3           Instagram  2021-09-16T17:16:17.000Z         0      2       0  \n",
       "4  Twitter for iPhone  2021-09-12T22:12:37.000Z         0     18       0  "
      ]
     },
     "execution_count": 16,
     "metadata": {},
     "output_type": "execute_result"
    }
   ],
   "source": [
    "src.head()"
   ]
  },
  {
   "cell_type": "code",
   "execution_count": null,
   "id": "3837d7f9-5ec0-469f-bf78-ad2ef380e83a",
   "metadata": {},
   "outputs": [],
   "source": []
  }
 ],
 "metadata": {
  "kernelspec": {
   "display_name": "Python 3 (ipykernel)",
   "language": "python",
   "name": "python3"
  },
  "language_info": {
   "codemirror_mode": {
    "name": "ipython",
    "version": 3
   },
   "file_extension": ".py",
   "mimetype": "text/x-python",
   "name": "python",
   "nbconvert_exporter": "python",
   "pygments_lexer": "ipython3",
   "version": "3.8.9"
  }
 },
 "nbformat": 4,
 "nbformat_minor": 5
}
