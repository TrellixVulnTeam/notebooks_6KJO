{
 "cells": [
  {
   "cell_type": "markdown",
   "id": "057cea32-a81b-4e52-8cf6-52b0024e4dc9",
   "metadata": {},
   "source": [
    "# Scraping Barstool Sports' blogger list"
   ]
  },
  {
   "cell_type": "markdown",
   "id": "d13d5019-7320-42ee-b379-2e6d57eec982",
   "metadata": {},
   "source": [
    "#### Python tools and notebook settings"
   ]
  },
  {
   "cell_type": "code",
   "execution_count": 8,
   "id": "a942b267-11f5-41d8-a29a-75d8bb51a882",
   "metadata": {},
   "outputs": [
    {
     "name": "stdout",
     "output_type": "stream",
     "text": [
      "The lab_black extension is already loaded. To reload it, use:\n",
      "  %reload_ext lab_black\n"
     ]
    }
   ],
   "source": [
    "%load_ext lab_black"
   ]
  },
  {
   "cell_type": "code",
   "execution_count": 144,
   "id": "590f7a1e-239d-4e09-9a09-db25ba3282f5",
   "metadata": {},
   "outputs": [],
   "source": [
    "import pandas as pd\n",
    "import requests\n",
    "from bs4 import BeautifulSoup\n",
    "import altair as alt\n",
    "import numpy as np\n",
    "import datetime as dt\n",
    "import re\n",
    "import time\n",
    "import random\n",
    "from tqdm import tqdm\n",
    "import urllib.request, json"
   ]
  },
  {
   "cell_type": "code",
   "execution_count": 10,
   "id": "7f0f85d3-05d0-45f6-9384-f775030cb38b",
   "metadata": {},
   "outputs": [],
   "source": [
    "pd.options.display.max_columns = 100\n",
    "pd.options.display.max_rows = 1000\n",
    "pd.options.display.max_colwidth = None"
   ]
  },
  {
   "cell_type": "code",
   "execution_count": 11,
   "id": "c3442397-27f2-46f7-936c-3a2d11747f18",
   "metadata": {},
   "outputs": [],
   "source": [
    "month_year_updated = dt.date.today().strftime(\"%m_%Y\")"
   ]
  },
  {
   "cell_type": "markdown",
   "id": "36bbedd9-2db5-4f3e-b22a-f613e0928528",
   "metadata": {},
   "source": [
    "---"
   ]
  },
  {
   "cell_type": "code",
   "execution_count": 12,
   "id": "6019366e-990a-44ac-b574-e29b93b884ef",
   "metadata": {},
   "outputs": [],
   "source": [
    "headers = {\n",
    "    \"sec-ch-ua\": '\" Not A;Brand\";v=\"99\", \"Chromium\";v=\"101\", \"Google Chrome\";v=\"101\"',\n",
    "    \"Referer\": \"https://www.gunviolencearchive.org/\",\n",
    "    \"sec-ch-ua-mobile\": \"?0\",\n",
    "    \"User-Agent\": \"Mozilla/5.0 (Macintosh; Intel Mac OS X 10_15_7) AppleWebKit/537.36 (KHTML, like Gecko) Chrome/101.0.0.0 Safari/537.36\",\n",
    "    \"sec-ch-ua-platform\": '\"macOS\"',\n",
    "}"
   ]
  },
  {
   "cell_type": "code",
   "execution_count": 13,
   "id": "ec96a537-9af5-4a1f-b0e7-4f8823c9cd07",
   "metadata": {},
   "outputs": [],
   "source": [
    "url = \"https://www.barstoolsports.com/bloggers\""
   ]
  },
  {
   "cell_type": "code",
   "execution_count": 14,
   "id": "ccc008e8-addf-4715-95ff-3b54dd8e6b32",
   "metadata": {},
   "outputs": [],
   "source": [
    "response = requests.get(url, headers=headers)\n",
    "soup = BeautifulSoup(response.text)"
   ]
  },
  {
   "cell_type": "code",
   "execution_count": 32,
   "id": "11e45cf1-9499-4f5c-b277-0bce326c3b85",
   "metadata": {},
   "outputs": [],
   "source": [
    "cards = soup.find_all(\"div\", class_=\"jsx-1114159826 tile\")"
   ]
  },
  {
   "cell_type": "code",
   "execution_count": 66,
   "id": "3f4f87b4-d7f3-4841-a41d-77a58525989e",
   "metadata": {},
   "outputs": [],
   "source": [
    "data = []\n",
    "\n",
    "for card in cards:\n",
    "    dicts = {\n",
    "        \"author_url\": \"https://www.barstoolsports.com\" + card.find(\"a\")[\"href\"],\n",
    "        \"author_name\": card.find(\"div\", class_=\"authorName\").text,\n",
    "        \"author_image\": card.find(\"img\", class_=\"jsx-1114159826\")[\"src\"],\n",
    "    }\n",
    "    data.append(dicts)"
   ]
  },
  {
   "cell_type": "code",
   "execution_count": 67,
   "id": "397ee0b5-43f2-4b57-802d-da33fd587025",
   "metadata": {},
   "outputs": [],
   "source": [
    "blogger_df = pd.DataFrame(data)\n",
    "blogger_df.head()"
   ]
  },
  {
   "cell_type": "markdown",
   "id": "8b47a609-c012-4ffb-9cd2-afc0d9d06328",
   "metadata": {},
   "source": [
    "---"
   ]
  },
  {
   "cell_type": "markdown",
   "id": "8040468d-4654-4072-88f6-cd0c74c713e0",
   "metadata": {},
   "source": [
    "## Oh wait, there's an exposed API"
   ]
  },
  {
   "cell_type": "markdown",
   "id": "182fc5a5-2a1c-48b2-9d5b-29ad127d451c",
   "metadata": {},
   "source": [
    "#### Get a better list of authors"
   ]
  },
  {
   "cell_type": "code",
   "execution_count": 132,
   "id": "e9e15bf0-3ad9-4d43-8294-4085ac579e8a",
   "metadata": {},
   "outputs": [],
   "source": [
    "authors = \"https://union.barstoolsports.com/v2/authors\""
   ]
  },
  {
   "cell_type": "code",
   "execution_count": 133,
   "id": "4ac46a79-6980-4fd1-8b68-8579a7d39e0b",
   "metadata": {},
   "outputs": [],
   "source": [
    "authors_df = pd.read_json(authors).drop(\n",
    "    [\n",
    "        \"avatar\",\n",
    "        \"id\",\n",
    "        \"is_active\",\n",
    "        \"merch_url\",\n",
    "        \"slug\",\n",
    "        \"twitter_handle\",\n",
    "        \"short_name\",\n",
    "        \"headshot\",\n",
    "    ],\n",
    "    axis=1,\n",
    ")"
   ]
  },
  {
   "cell_type": "code",
   "execution_count": 135,
   "id": "8da05795-a94b-491f-94a1-dbc30a12c2d2",
   "metadata": {},
   "outputs": [
    {
     "data": {
      "text/html": [
       "<div>\n",
       "<style scoped>\n",
       "    .dataframe tbody tr th:only-of-type {\n",
       "        vertical-align: middle;\n",
       "    }\n",
       "\n",
       "    .dataframe tbody tr th {\n",
       "        vertical-align: top;\n",
       "    }\n",
       "\n",
       "    .dataframe thead th {\n",
       "        text-align: right;\n",
       "    }\n",
       "</style>\n",
       "<table border=\"1\" class=\"dataframe\">\n",
       "  <thead>\n",
       "    <tr style=\"text-align: right;\">\n",
       "      <th></th>\n",
       "      <th>name</th>\n",
       "      <th>author_url</th>\n",
       "      <th>bio</th>\n",
       "      <th>twitter</th>\n",
       "      <th>instagram</th>\n",
       "      <th>tiktok</th>\n",
       "      <th>sort</th>\n",
       "      <th>is_suggested</th>\n",
       "    </tr>\n",
       "  </thead>\n",
       "  <tbody>\n",
       "    <tr>\n",
       "      <th>0</th>\n",
       "      <td>El Presidente</td>\n",
       "      <td>/bio/54/el-presidente</td>\n",
       "      <td>Founder/Chief of Content. Host of The Rundown, Pizza Reviews, The Dave Portnoy Show, BFFs. Founder of DDTG Global. 2x bee sting survivor, US Open champ. I invented the Internet. Brick by brick.</td>\n",
       "      <td>stoolpresidente</td>\n",
       "      <td>stoolpresidente</td>\n",
       "      <td>stoolpresidente</td>\n",
       "      <td>68</td>\n",
       "      <td>True</td>\n",
       "    </tr>\n",
       "    <tr>\n",
       "      <th>1</th>\n",
       "      <td>Big Cat</td>\n",
       "      <td>/bio/45/big-cat</td>\n",
       "      <td>Host of Pardon My Take, Yak, and The Rundown. Football guy’s guy. I only bet overs. Hold record for most stingrays pet at the Shedd Aquarium.</td>\n",
       "      <td>BarstoolBigCat</td>\n",
       "      <td>barstoolbigcat</td>\n",
       "      <td>None</td>\n",
       "      <td>67</td>\n",
       "      <td>True</td>\n",
       "    </tr>\n",
       "    <tr>\n",
       "      <th>2</th>\n",
       "      <td>KFC</td>\n",
       "      <td>/bio/44/kfc</td>\n",
       "      <td>Host of KFC Radio, We Gotta Believe, One Minute Man. Hater of the Year and OG blogger since 2009. Tortured Mets, Jets and Knicks fan.</td>\n",
       "      <td>KFCBarstool</td>\n",
       "      <td>kfcbarstool</td>\n",
       "      <td>kfcbarstool</td>\n",
       "      <td>66</td>\n",
       "      <td>True</td>\n",
       "    </tr>\n",
       "    <tr>\n",
       "      <th>3</th>\n",
       "      <td>Kmarko</td>\n",
       "      <td>/bio/47/kmarko</td>\n",
       "      <td>Journalism school dropout. Launched Barstool NY in '09 and Barstool U in '11. Spelling Bee champ. Barstool Idol host.  Invented the email newsletter. Will never fix a typo on Barstool Sports.</td>\n",
       "      <td>Kmarkobarstool</td>\n",
       "      <td>kmarkobarstool</td>\n",
       "      <td>None</td>\n",
       "      <td>65</td>\n",
       "      <td>True</td>\n",
       "    </tr>\n",
       "    <tr>\n",
       "      <th>4</th>\n",
       "      <td>Feitelberg</td>\n",
       "      <td>/bio/40/feitelberg</td>\n",
       "      <td>I blog and tell my life exploits on KFC Radio. Been to jail for Tom Brady. Mistaken for everyone from ISIS leaders to fish. Creator of the SAFTB movement.</td>\n",
       "      <td>FeitsBarstool</td>\n",
       "      <td>feitelberg</td>\n",
       "      <td>None</td>\n",
       "      <td>64</td>\n",
       "      <td>True</td>\n",
       "    </tr>\n",
       "    <tr>\n",
       "      <th>5</th>\n",
       "      <td>Nate</td>\n",
       "      <td>/bio/46/nate</td>\n",
       "      <td>Very good blogger. All world poker player. Head of Barstool DMV. Tambo for O.A.R. Stanley Cup champion.</td>\n",
       "      <td>BarstoolNate</td>\n",
       "      <td>barstoolnate</td>\n",
       "      <td>None</td>\n",
       "      <td>63</td>\n",
       "      <td>True</td>\n",
       "    </tr>\n",
       "    <tr>\n",
       "      <th>6</th>\n",
       "      <td>Smitty</td>\n",
       "      <td>/bio/11404/smitty</td>\n",
       "      <td>Blogger and host of Gametime. Head of Barstool Philly. RnR2 champ. Super Bowl 52 champ. Former pasta pusher, and mush at standup/poker/life.</td>\n",
       "      <td>SmittyBarstool</td>\n",
       "      <td>smittybarstool</td>\n",
       "      <td>smittybarstool1v1</td>\n",
       "      <td>62</td>\n",
       "      <td>False</td>\n",
       "    </tr>\n",
       "    <tr>\n",
       "      <th>7</th>\n",
       "      <td>Chaps</td>\n",
       "      <td>/bio/57564/chaps</td>\n",
       "      <td>Host of Zero Blog Thirty and co-host of The Podfathers. Marine and Purple Heart recipient. Never seen a gourd I didn't like. I’ve had diarrhea since Easter 2007.</td>\n",
       "      <td>UncleChaps</td>\n",
       "      <td>unclechaps</td>\n",
       "      <td>None</td>\n",
       "      <td>61</td>\n",
       "      <td>True</td>\n",
       "    </tr>\n",
       "    <tr>\n",
       "      <th>8</th>\n",
       "      <td>Liz Gonzales</td>\n",
       "      <td>/bio/63356/liz-gonzales</td>\n",
       "      <td>Yankee, Packer, and Longhorn fan. Texan. Our resident Mexican. Bring back Blockbuster.</td>\n",
       "      <td>thelizgonzales</td>\n",
       "      <td>thelizgonzales</td>\n",
       "      <td>None</td>\n",
       "      <td>60</td>\n",
       "      <td>True</td>\n",
       "    </tr>\n",
       "    <tr>\n",
       "      <th>9</th>\n",
       "      <td>Kayce Smith</td>\n",
       "      <td>/bio/63376/kayce-smith</td>\n",
       "      <td>Host of the Barstool College Football Show with Pres, Big Cat and Brandon Walker. Host of the Pro Football Football Show. Host of Unnecessary Roughness. Sports blogger. Cancer survivor. Aggie. Clear eyes, full heart, can't lose.</td>\n",
       "      <td>KayceSmith</td>\n",
       "      <td>kayce_smith</td>\n",
       "      <td>None</td>\n",
       "      <td>59</td>\n",
       "      <td>True</td>\n",
       "    </tr>\n",
       "  </tbody>\n",
       "</table>\n",
       "</div>"
      ],
      "text/plain": [
       "            name               author_url  \\\n",
       "0  El Presidente    /bio/54/el-presidente   \n",
       "1        Big Cat          /bio/45/big-cat   \n",
       "2            KFC              /bio/44/kfc   \n",
       "3         Kmarko           /bio/47/kmarko   \n",
       "4     Feitelberg       /bio/40/feitelberg   \n",
       "5           Nate             /bio/46/nate   \n",
       "6         Smitty        /bio/11404/smitty   \n",
       "7          Chaps         /bio/57564/chaps   \n",
       "8   Liz Gonzales  /bio/63356/liz-gonzales   \n",
       "9    Kayce Smith   /bio/63376/kayce-smith   \n",
       "\n",
       "                                                                                                                                                                                                                                    bio  \\\n",
       "0                                    Founder/Chief of Content. Host of The Rundown, Pizza Reviews, The Dave Portnoy Show, BFFs. Founder of DDTG Global. 2x bee sting survivor, US Open champ. I invented the Internet. Brick by brick.    \n",
       "1                                                                                        Host of Pardon My Take, Yak, and The Rundown. Football guy’s guy. I only bet overs. Hold record for most stingrays pet at the Shedd Aquarium.    \n",
       "2                                                                                                Host of KFC Radio, We Gotta Believe, One Minute Man. Hater of the Year and OG blogger since 2009. Tortured Mets, Jets and Knicks fan.    \n",
       "3                                       Journalism school dropout. Launched Barstool NY in '09 and Barstool U in '11. Spelling Bee champ. Barstool Idol host.  Invented the email newsletter. Will never fix a typo on Barstool Sports.   \n",
       "4                                                                            I blog and tell my life exploits on KFC Radio. Been to jail for Tom Brady. Mistaken for everyone from ISIS leaders to fish. Creator of the SAFTB movement.   \n",
       "5                                                                                                                               Very good blogger. All world poker player. Head of Barstool DMV. Tambo for O.A.R. Stanley Cup champion.   \n",
       "6                                                                                          Blogger and host of Gametime. Head of Barstool Philly. RnR2 champ. Super Bowl 52 champ. Former pasta pusher, and mush at standup/poker/life.   \n",
       "7                                                                    Host of Zero Blog Thirty and co-host of The Podfathers. Marine and Purple Heart recipient. Never seen a gourd I didn't like. I’ve had diarrhea since Easter 2007.    \n",
       "8                                                                                                                                                Yankee, Packer, and Longhorn fan. Texan. Our resident Mexican. Bring back Blockbuster.   \n",
       "9  Host of the Barstool College Football Show with Pres, Big Cat and Brandon Walker. Host of the Pro Football Football Show. Host of Unnecessary Roughness. Sports blogger. Cancer survivor. Aggie. Clear eyes, full heart, can't lose.   \n",
       "\n",
       "           twitter        instagram             tiktok  sort  is_suggested  \n",
       "0  stoolpresidente  stoolpresidente    stoolpresidente    68          True  \n",
       "1   BarstoolBigCat   barstoolbigcat               None    67          True  \n",
       "2      KFCBarstool      kfcbarstool        kfcbarstool    66          True  \n",
       "3   Kmarkobarstool   kmarkobarstool               None    65          True  \n",
       "4    FeitsBarstool       feitelberg               None    64          True  \n",
       "5     BarstoolNate     barstoolnate               None    63          True  \n",
       "6   SmittyBarstool   smittybarstool  smittybarstool1v1    62         False  \n",
       "7       UncleChaps       unclechaps               None    61          True  \n",
       "8   thelizgonzales   thelizgonzales               None    60          True  \n",
       "9       KayceSmith      kayce_smith               None    59          True  "
      ]
     },
     "execution_count": 135,
     "metadata": {},
     "output_type": "execute_result"
    }
   ],
   "source": [
    "authors_df.head(10)"
   ]
  },
  {
   "cell_type": "markdown",
   "id": "cf3c64cd-d157-4466-9bfa-584513b0a46b",
   "metadata": {},
   "source": [
    "---"
   ]
  },
  {
   "cell_type": "markdown",
   "id": "07047923-1048-4ba6-8c9d-8189f5cb4a20",
   "metadata": {},
   "source": [
    "## Export"
   ]
  },
  {
   "cell_type": "code",
   "execution_count": 148,
   "id": "61f5a49c-3d2d-475c-9b86-33e3360b31ee",
   "metadata": {},
   "outputs": [],
   "source": [
    "authors_df.to_csv(\"data/processed/barstool_bloggers.csv\", index=False)"
   ]
  },
  {
   "cell_type": "code",
   "execution_count": null,
   "id": "30ca4f83-df64-4036-b756-243305f8bc23",
   "metadata": {},
   "outputs": [],
   "source": []
  }
 ],
 "metadata": {
  "kernelspec": {
   "display_name": "Python 3 (ipykernel)",
   "language": "python",
   "name": "python3"
  },
  "language_info": {
   "codemirror_mode": {
    "name": "ipython",
    "version": 3
   },
   "file_extension": ".py",
   "mimetype": "text/x-python",
   "name": "python",
   "nbconvert_exporter": "python",
   "pygments_lexer": "ipython3",
   "version": "3.8.9"
  }
 },
 "nbformat": 4,
 "nbformat_minor": 5
}
