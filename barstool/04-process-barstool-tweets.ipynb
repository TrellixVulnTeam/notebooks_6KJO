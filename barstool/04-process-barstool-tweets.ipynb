{
 "cells": [
  {
   "cell_type": "markdown",
   "id": "848fcd0d-fadd-4592-b726-5ce08836d1fb",
   "metadata": {},
   "source": [
    "# Members of Congress on Twitter"
   ]
  },
  {
   "cell_type": "code",
   "execution_count": 2,
   "id": "3297404b-0b76-4df2-af15-55f87cfbfe89",
   "metadata": {},
   "outputs": [],
   "source": [
    "import pandas as pd\n",
    "import glob\n",
    "import json"
   ]
  },
  {
   "cell_type": "code",
   "execution_count": 3,
   "id": "92496b15-bdc0-435f-a72f-195cd4de8bb8",
   "metadata": {},
   "outputs": [],
   "source": [
    "pd.options.display.max_columns = 100\n",
    "pd.options.display.max_rows = 1000\n",
    "pd.options.display.max_colwidth = None"
   ]
  },
  {
   "cell_type": "markdown",
   "id": "9fa4c917-8d6f-4abe-b903-1f5fcd6eea54",
   "metadata": {},
   "source": [
    "#### Get congressional account details from GovTrack"
   ]
  },
  {
   "cell_type": "code",
   "execution_count": 4,
   "id": "65715f3a-cf29-46cd-8134-1309f5572b34",
   "metadata": {},
   "outputs": [],
   "source": [
    "gov_track_social = pd.read_json('https://theunitedstates.io/congress-legislators/legislators-social-media.json')"
   ]
  },
  {
   "cell_type": "code",
   "execution_count": 5,
   "id": "a8405cde-f3f8-4bfe-8ef6-cd4c5dda480a",
   "metadata": {},
   "outputs": [],
   "source": [
    "gov_track_social[['twitter', 'facebook', 'youtube_id', 'twitter_id', 'youtube',\n",
    "       'instagram', 'instagram_id']] = pd.json_normalize(gov_track_social['social'])"
   ]
  },
  {
   "cell_type": "code",
   "execution_count": 6,
   "id": "58692a48-8d52-4869-9b49-d30507e43066",
   "metadata": {
    "tags": []
   },
   "outputs": [],
   "source": [
    "gov_track_df = pd.read_csv('https://theunitedstates.io/congress-legislators/legislators-current.csv')"
   ]
  },
  {
   "cell_type": "code",
   "execution_count": 7,
   "id": "9933a45e-d229-45d4-b1f3-42e663f7fc64",
   "metadata": {
    "tags": []
   },
   "outputs": [
    {
     "data": {
      "text/plain": [
       "536"
      ]
     },
     "execution_count": 7,
     "metadata": {},
     "output_type": "execute_result"
    }
   ],
   "source": [
    "len(gov_track_df)"
   ]
  },
  {
   "cell_type": "code",
   "execution_count": 8,
   "id": "5105debf-f20f-4526-badf-c276ff318aa3",
   "metadata": {
    "tags": []
   },
   "outputs": [
    {
     "data": {
      "text/plain": [
       "M    386\n",
       "F    150\n",
       "Name: gender, dtype: int64"
      ]
     },
     "execution_count": 8,
     "metadata": {},
     "output_type": "execute_result"
    }
   ],
   "source": [
    "gov_track_df.gender.value_counts()"
   ]
  },
  {
   "cell_type": "code",
   "execution_count": 9,
   "id": "de3a2095-c475-44c6-85f4-c92a71fa588e",
   "metadata": {
    "tags": []
   },
   "outputs": [
    {
     "data": {
      "text/plain": [
       "M    0.720149\n",
       "F    0.279851\n",
       "Name: gender, dtype: float64"
      ]
     },
     "execution_count": 9,
     "metadata": {},
     "output_type": "execute_result"
    }
   ],
   "source": [
    "gov_track_df.gender.value_counts(normalize=True)"
   ]
  },
  {
   "cell_type": "code",
   "execution_count": 10,
   "id": "7bc48a2b-ed28-4412-9687-c6822d65ce07",
   "metadata": {},
   "outputs": [],
   "source": [
    "twitter_list = []\n",
    "\n",
    "for handles in gov_track_social['social']:\n",
    "    twitter_list.append(handles)"
   ]
  },
  {
   "cell_type": "code",
   "execution_count": 11,
   "id": "959b8002-bf64-499d-85e3-3e7f964a0d01",
   "metadata": {},
   "outputs": [],
   "source": [
    "social_df = pd.DataFrame(twitter_list)"
   ]
  },
  {
   "cell_type": "code",
   "execution_count": 12,
   "id": "062f509f-8b50-493c-a94b-a627410b6257",
   "metadata": {},
   "outputs": [],
   "source": [
    "social_df['twitter_id'].to_csv('/Users/stiles/twarc2/data/reference/congress_twitter.txt', index=False, header=False)"
   ]
  },
  {
   "cell_type": "code",
   "execution_count": 13,
   "id": "b39dbaed-368c-4643-a65e-188a5557c22e",
   "metadata": {},
   "outputs": [],
   "source": [
    "twitter_user_lookup = social_df[['twitter', 'twitter_id']]"
   ]
  },
  {
   "cell_type": "markdown",
   "id": "37dfd693-a044-40aa-bd68-22d7da442e7c",
   "metadata": {},
   "source": [
    "---"
   ]
  },
  {
   "cell_type": "markdown",
   "id": "493344ec-b0db-4cd0-b91c-7778581d1efd",
   "metadata": {},
   "source": [
    "#### Last update: June 27"
   ]
  },
  {
   "cell_type": "code",
   "execution_count": 14,
   "id": "d9421049-7831-4907-ac9d-034f70f82336",
   "metadata": {},
   "outputs": [],
   "source": [
    "# !twarc2 timelines --start-time '2020-01-01' --no-context-annotations data/reference/congress_twitter.txt data/raw/members_congress.jsonl"
   ]
  },
  {
   "cell_type": "markdown",
   "id": "842da794-68e7-4ea3-99c7-a1d8a63dd61f",
   "metadata": {},
   "source": [
    "----"
   ]
  },
  {
   "cell_type": "markdown",
   "id": "e756ec85-8efd-44d2-a8ec-ce9fe40aec4b",
   "metadata": {},
   "source": [
    "#### Get the path to each member's tweet file"
   ]
  },
  {
   "cell_type": "code",
   "execution_count": 14,
   "id": "0733dbba-4af1-4f1e-a330-e0a023d12e1c",
   "metadata": {},
   "outputs": [],
   "source": [
    "file_path = \"/Users/stiles/twarc2/data/raw/\"\n",
    "json_files = glob.glob(file_path + \"*.jsonl\")"
   ]
  },
  {
   "cell_type": "code",
   "execution_count": 15,
   "id": "8b698a7a-9cf5-456d-884e-1bb93451327d",
   "metadata": {},
   "outputs": [
    {
     "data": {
      "text/plain": [
       "1"
      ]
     },
     "execution_count": 15,
     "metadata": {},
     "output_type": "execute_result"
    }
   ],
   "source": [
    "len(json_files)"
   ]
  },
  {
   "cell_type": "code",
   "execution_count": 16,
   "id": "2d2f520c-87cc-465a-940a-b76ca65f51aa",
   "metadata": {},
   "outputs": [
    {
     "data": {
      "text/plain": [
       "['/Users/stiles/twarc2/data/raw/members_congress.jsonl']"
      ]
     },
     "execution_count": 16,
     "metadata": {},
     "output_type": "execute_result"
    }
   ],
   "source": [
    "json_files"
   ]
  },
  {
   "cell_type": "markdown",
   "id": "333d2788-91fa-4294-9749-ee5ea773faa2",
   "metadata": {},
   "source": [
    "#### Read all the json files, loop and snag values that interest us "
   ]
  },
  {
   "cell_type": "code",
   "execution_count": null,
   "id": "592a3ded-8ff4-4ae0-9bd0-c3a9acdc3c57",
   "metadata": {},
   "outputs": [],
   "source": [
    "%%time\n",
    "\n",
    "jsons = []\n",
    "data_list = []\n",
    "\n",
    "for f in json_files:\n",
    "    with open(f) as file:\n",
    "        for line in file:\n",
    "            jsons.append(json.loads(line))\n",
    "        \n",
    "for j in jsons:\n",
    "    for d in j['data']:\n",
    "        datadict = {\n",
    "            \"author_id\":d['author_id'],\n",
    "            \"conversation_id\": d['conversation_id'],\n",
    "            \"tweet_id\": d['id'],\n",
    "            \"tweet_text\": d['text'],\n",
    "            \"source\": d['source'],\n",
    "            \"created_date_uct\": d['created_at'],\n",
    "            \"retweets\": pd.json_normalize(d['public_metrics'])['retweet_count'][0],\n",
    "            \"likes\": pd.json_normalize(d['public_metrics'])['like_count'][0],\n",
    "            \"quotes\": pd.json_normalize(d['public_metrics'])['quote_count'][0],\n",
    "        }\n",
    "        data_list.append(datadict)"
   ]
  },
  {
   "cell_type": "markdown",
   "id": "ec9ba8f8-5b5d-461f-87c5-4f333b8c3e9a",
   "metadata": {},
   "source": [
    "#### Convert the list of dicts to a pandas dataframe"
   ]
  },
  {
   "cell_type": "code",
   "execution_count": 19,
   "id": "adabf329-f97e-4dbf-9c06-da593bc99901",
   "metadata": {},
   "outputs": [],
   "source": [
    "src = pd.DataFrame(data_list)"
   ]
  },
  {
   "cell_type": "markdown",
   "id": "a99ce785-052a-4204-b63b-8562a25d9687",
   "metadata": {},
   "source": [
    "#### How many Twitter users did we capture? "
   ]
  },
  {
   "cell_type": "code",
   "execution_count": 20,
   "id": "abf9eb17-1a16-45dc-9628-7b7ca88bcbde",
   "metadata": {},
   "outputs": [
    {
     "data": {
      "text/plain": [
       "524"
      ]
     },
     "execution_count": 20,
     "metadata": {},
     "output_type": "execute_result"
    }
   ],
   "source": [
    "len(src.author_id.unique())"
   ]
  },
  {
   "cell_type": "markdown",
   "id": "18338e42-188d-4318-a904-3b7247dd4b5b",
   "metadata": {},
   "source": [
    "#### Drop dupes because the requests might overlap"
   ]
  },
  {
   "cell_type": "code",
   "execution_count": 21,
   "id": "60a5b6df-b59e-41af-b2e8-84e9166c92e1",
   "metadata": {},
   "outputs": [],
   "source": [
    "src = src.drop_duplicates(subset='tweet_id')"
   ]
  },
  {
   "cell_type": "markdown",
   "id": "af4ffbbd-632d-4fa2-878e-ca39e4ad9214",
   "metadata": {},
   "source": [
    "#### Merge tweets with user info"
   ]
  },
  {
   "cell_type": "code",
   "execution_count": 22,
   "id": "efb9c15c-214a-4479-bef4-ad788359a34c",
   "metadata": {},
   "outputs": [],
   "source": [
    "df = pd.merge(src, twitter_user_lookup, left_on='author_id', right_on='twitter_id')"
   ]
  },
  {
   "cell_type": "markdown",
   "id": "3e3c1f75-97c7-4036-8ab6-4d119baf9727",
   "metadata": {},
   "source": [
    "#### Merge df with member bio info"
   ]
  },
  {
   "cell_type": "code",
   "execution_count": 23,
   "id": "41477acf-5bde-4eec-8388-261fa008843c",
   "metadata": {},
   "outputs": [],
   "source": [
    "df_bio = pd.merge(df, gov_track_df[['type', 'party', \"twitter\", \"gender\"]], on='twitter')"
   ]
  },
  {
   "cell_type": "markdown",
   "id": "06ea9c2d-8b79-49cf-a20b-bdde31ba6723",
   "metadata": {},
   "source": [
    "#### How many tweets? "
   ]
  },
  {
   "cell_type": "code",
   "execution_count": 24,
   "id": "3c6697d3-0751-4faa-acb6-ac8d54fb5650",
   "metadata": {},
   "outputs": [
    {
     "data": {
      "text/plain": [
       "75901"
      ]
     },
     "execution_count": 24,
     "metadata": {},
     "output_type": "execute_result"
    }
   ],
   "source": [
    "len(df_bio)"
   ]
  },
  {
   "cell_type": "code",
   "execution_count": 25,
   "id": "072f58d8-37ad-4e90-820f-e6bd99953b0e",
   "metadata": {},
   "outputs": [],
   "source": [
    "df_bio.to_csv('/Users/stiles/twarc2/data/processed/congress_tweets.csv', index=False)"
   ]
  }
 ],
 "metadata": {
  "kernelspec": {
   "display_name": "Python 3 (ipykernel)",
   "language": "python",
   "name": "python3"
  },
  "language_info": {
   "codemirror_mode": {
    "name": "ipython",
    "version": 3
   },
   "file_extension": ".py",
   "mimetype": "text/x-python",
   "name": "python",
   "nbconvert_exporter": "python",
   "pygments_lexer": "ipython3",
   "version": "3.8.9"
  }
 },
 "nbformat": 4,
 "nbformat_minor": 5
}
