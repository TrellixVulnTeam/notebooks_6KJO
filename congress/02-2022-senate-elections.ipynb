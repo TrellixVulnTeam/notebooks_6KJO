{
 "cells": [
  {
   "cell_type": "markdown",
   "id": "134937ca-bb13-472f-8ddd-4c1475f62c9d",
   "metadata": {},
   "source": [
    "# 2022 Senate elections"
   ]
  },
  {
   "cell_type": "code",
   "execution_count": 2,
   "id": "b5470706-6941-4b6c-829b-9c3ac85a0b35",
   "metadata": {},
   "outputs": [],
   "source": [
    "import pandas as pd"
   ]
  },
  {
   "cell_type": "code",
   "execution_count": 1,
   "id": "ea809d61-c33f-44aa-9b60-c0f36cf6be5e",
   "metadata": {},
   "outputs": [],
   "source": [
    "url = 'https://en.wikipedia.org/wiki/2022_United_States_Senate_elections'"
   ]
  },
  {
   "cell_type": "code",
   "execution_count": 22,
   "id": "790f0efd-b0a6-41ec-83e4-05a873c0985c",
   "metadata": {},
   "outputs": [],
   "source": [
    "page = pd.read_html(url, header=0)"
   ]
  },
  {
   "cell_type": "code",
   "execution_count": 62,
   "id": "2f45b420-06fa-48a3-a8de-7c891f331411",
   "metadata": {},
   "outputs": [],
   "source": [
    "src = pd.DataFrame(page[9])"
   ]
  },
  {
   "cell_type": "code",
   "execution_count": 63,
   "id": "f9540fc5-2ddf-44ab-baed-59330ecffbb2",
   "metadata": {},
   "outputs": [],
   "source": [
    "src = src[['Constituency', 'Incumbent', 'Incumbent.1', '2022 election ratings']]"
   ]
  },
  {
   "cell_type": "code",
   "execution_count": 64,
   "id": "7cc85c2d-ce7c-4376-a288-ad98a14d3965",
   "metadata": {},
   "outputs": [],
   "source": [
    "src.rename(columns={'Constituency':'state', 'Incumbent':'incumbent', 'Incumbent.1':'last_election', '2022 election ratings':'cook_rating'}, inplace=True)"
   ]
  },
  {
   "cell_type": "code",
   "execution_count": 65,
   "id": "a79e75b6-ff29-4d12-b1fc-0414c8da6f81",
   "metadata": {},
   "outputs": [],
   "source": [
    "src[[ 'trash', 'party', 'trashy']] = src['last_election'].str.split(' ', expand=True)"
   ]
  },
  {
   "cell_type": "code",
   "execution_count": 66,
   "id": "73dbfeaa-6f96-40bd-81a5-fa374da5322a",
   "metadata": {},
   "outputs": [],
   "source": [
    "src.drop([0, 35], inplace=True)"
   ]
  },
  {
   "cell_type": "code",
   "execution_count": 67,
   "id": "7964c959-1c4c-46e2-b6df-8574e9da8f5c",
   "metadata": {},
   "outputs": [],
   "source": [
    "src.drop(['trash', \"trashy\"], axis=1, inplace=True)"
   ]
  },
  {
   "cell_type": "code",
   "execution_count": 68,
   "id": "1d28cb8a-e05e-423d-b4b4-af1647b48c1d",
   "metadata": {},
   "outputs": [
    {
     "data": {
      "text/html": [
       "<div>\n",
       "<style scoped>\n",
       "    .dataframe tbody tr th:only-of-type {\n",
       "        vertical-align: middle;\n",
       "    }\n",
       "\n",
       "    .dataframe tbody tr th {\n",
       "        vertical-align: top;\n",
       "    }\n",
       "\n",
       "    .dataframe thead th {\n",
       "        text-align: right;\n",
       "    }\n",
       "</style>\n",
       "<table border=\"1\" class=\"dataframe\">\n",
       "  <thead>\n",
       "    <tr style=\"text-align: right;\">\n",
       "      <th></th>\n",
       "      <th>state</th>\n",
       "      <th>incumbent</th>\n",
       "      <th>last_election</th>\n",
       "      <th>cook_rating</th>\n",
       "      <th>party</th>\n",
       "    </tr>\n",
       "  </thead>\n",
       "  <tbody>\n",
       "    <tr>\n",
       "      <th>1</th>\n",
       "      <td>Alabama</td>\n",
       "      <td>Richard Shelby(retiring)</td>\n",
       "      <td>64.0% R</td>\n",
       "      <td>Solid R</td>\n",
       "      <td>R</td>\n",
       "    </tr>\n",
       "    <tr>\n",
       "      <th>2</th>\n",
       "      <td>Alaska</td>\n",
       "      <td>Lisa Murkowski</td>\n",
       "      <td>44.4% R</td>\n",
       "      <td>Solid R</td>\n",
       "      <td>R</td>\n",
       "    </tr>\n",
       "    <tr>\n",
       "      <th>3</th>\n",
       "      <td>Arizona</td>\n",
       "      <td>Mark Kelly</td>\n",
       "      <td>51.2% D(2020 special)[d]</td>\n",
       "      <td>Tossup</td>\n",
       "      <td>D(2020</td>\n",
       "    </tr>\n",
       "    <tr>\n",
       "      <th>4</th>\n",
       "      <td>Arkansas</td>\n",
       "      <td>John Boozman</td>\n",
       "      <td>59.8% R</td>\n",
       "      <td>Solid R</td>\n",
       "      <td>R</td>\n",
       "    </tr>\n",
       "    <tr>\n",
       "      <th>5</th>\n",
       "      <td>California</td>\n",
       "      <td>Alex Padilla</td>\n",
       "      <td>Appointed(2021)[e]</td>\n",
       "      <td>Solid D</td>\n",
       "      <td>None</td>\n",
       "    </tr>\n",
       "  </tbody>\n",
       "</table>\n",
       "</div>"
      ],
      "text/plain": [
       "        state                 incumbent             last_election cook_rating  \\\n",
       "1     Alabama  Richard Shelby(retiring)                   64.0% R     Solid R   \n",
       "2      Alaska            Lisa Murkowski                   44.4% R     Solid R   \n",
       "3     Arizona                Mark Kelly  51.2% D(2020 special)[d]      Tossup   \n",
       "4    Arkansas              John Boozman                   59.8% R     Solid R   \n",
       "5  California              Alex Padilla        Appointed(2021)[e]     Solid D   \n",
       "\n",
       "    party  \n",
       "1       R  \n",
       "2       R  \n",
       "3  D(2020  \n",
       "4       R  \n",
       "5    None  "
      ]
     },
     "execution_count": 68,
     "metadata": {},
     "output_type": "execute_result"
    }
   ],
   "source": [
    "src.head()"
   ]
  },
  {
   "cell_type": "code",
   "execution_count": 73,
   "id": "ce2f2533-eecb-44bf-97e2-c39e0d75d559",
   "metadata": {},
   "outputs": [],
   "source": [
    "src.loc[src['party'] == 'D(2020', 'party'] = 'D'\n",
    "src.loc[src['incumbent'] == 'Alex Padilla', 'party'] = 'D'"
   ]
  },
  {
   "cell_type": "code",
   "execution_count": 78,
   "id": "ad1c1f91-e69c-4830-9453-c6288b41e539",
   "metadata": {},
   "outputs": [],
   "source": [
    "src['last_election'] = src['last_election'].str.replace('(2020 special)[f]', \"\", regex=False).str.replace('(2020 special)[d]', \"\", regex=False).str.replace('Appointed(2021)[e]', \"\", regex=False)\n",
    "src['incumbent'] = src['incumbent'].str.replace('(retiring)', \"\", regex=False)"
   ]
  },
  {
   "cell_type": "code",
   "execution_count": 79,
   "id": "2153f420-7dde-42e0-ac46-3fd11b1eb50e",
   "metadata": {},
   "outputs": [],
   "source": [
    "src.head(100)"
   ]
  },
  {
   "cell_type": "code",
   "execution_count": 80,
   "id": "b6281b86-fe85-4f5b-ab61-fdcd9defe0ae",
   "metadata": {},
   "outputs": [],
   "source": [
    "df = src.copy()"
   ]
  },
  {
   "cell_type": "code",
   "execution_count": 83,
   "id": "f1a873d3-3663-4715-ab68-d042d112f1ea",
   "metadata": {},
   "outputs": [],
   "source": [
    "df[['last_election_winner_margin', 'last_election_winner_party']] = df['last_election'].str.split(' ', expand=True)"
   ]
  },
  {
   "cell_type": "code",
   "execution_count": 88,
   "id": "ba817baf-4001-4da6-8ca8-f2f46fe8e296",
   "metadata": {},
   "outputs": [],
   "source": [
    "df.loc[df['incumbent'] == 'Alex Padilla', 'last_election_winner_party'] = ''"
   ]
  },
  {
   "cell_type": "code",
   "execution_count": 91,
   "id": "143bd8c7-2c18-4684-bcc2-f1fe4121d65a",
   "metadata": {},
   "outputs": [],
   "source": [
    "df.drop(['last_election'], axis=1, inplace=True)"
   ]
  },
  {
   "cell_type": "code",
   "execution_count": 93,
   "id": "a6e5f885-7968-436b-9ca2-26c9469232e6",
   "metadata": {},
   "outputs": [],
   "source": [
    "df.rename(columns={'party':\"incumbent_party\"}, inplace=True)"
   ]
  },
  {
   "cell_type": "code",
   "execution_count": 97,
   "id": "08ab2f17-de75-4f6c-8e74-7a3aae2052b4",
   "metadata": {},
   "outputs": [],
   "source": [
    "df['last_election_winner_margin'] = df['last_election_winner_margin'].str.replace('%', \"\", regex=False)"
   ]
  },
  {
   "cell_type": "code",
   "execution_count": 98,
   "id": "1a5d69ed-1800-4c8e-b6e1-a46a7731be22",
   "metadata": {},
   "outputs": [],
   "source": [
    "df.to_csv('data/processed/2022_senate_elections.csv', index=False)"
   ]
  }
 ],
 "metadata": {
  "kernelspec": {
   "display_name": "Python 3",
   "language": "python",
   "name": "python3"
  },
  "language_info": {
   "codemirror_mode": {
    "name": "ipython",
    "version": 3
   },
   "file_extension": ".py",
   "mimetype": "text/x-python",
   "name": "python",
   "nbconvert_exporter": "python",
   "pygments_lexer": "ipython3",
   "version": "3.8.8"
  }
 },
 "nbformat": 4,
 "nbformat_minor": 5
}
