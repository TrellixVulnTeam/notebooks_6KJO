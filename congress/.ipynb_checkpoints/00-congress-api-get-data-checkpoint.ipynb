{
 "cells": [
  {
   "cell_type": "markdown",
   "metadata": {},
   "source": [
    "# Current members of the U.S. Congress"
   ]
  },
  {
   "cell_type": "code",
   "execution_count": 1,
   "metadata": {},
   "outputs": [],
   "source": [
    "%load_ext lab_black"
   ]
  },
  {
   "cell_type": "code",
   "execution_count": 2,
   "metadata": {},
   "outputs": [],
   "source": [
    "import pandas as pd\n",
    "import requests\n",
    "import matplotlib.pyplot as plt\n",
    "import numpy as np\n",
    "import json\n",
    "import os\n",
    "import seaborn as sns\n",
    "import altair as alt"
   ]
  },
  {
   "cell_type": "code",
   "execution_count": 3,
   "metadata": {},
   "outputs": [],
   "source": [
    "key = \"sg5Q11oWW9pqLtmn8gVS0nOS179RousHDpeTgZkA\""
   ]
  },
  {
   "cell_type": "code",
   "execution_count": 4,
   "metadata": {},
   "outputs": [],
   "source": [
    "formaturl = (\n",
    "    lambda x: \"https://api.propublica.org/congress/v1/\"\n",
    "    + f\"{x[0]}/\"\n",
    "    + f\"{x[1]}\"\n",
    "    + \"/members.json\"\n",
    ")"
   ]
  },
  {
   "cell_type": "code",
   "execution_count": 5,
   "metadata": {},
   "outputs": [],
   "source": [
    "metadata = []\n",
    "for s in range(117, 118):\n",
    "    for c in [\"house\", \"senate\"]:\n",
    "        metadata.append(dict(chamber=c, session=s, url=formaturl((s, c))))"
   ]
  },
  {
   "cell_type": "code",
   "execution_count": 6,
   "metadata": {},
   "outputs": [],
   "source": [
    "jsons = []\n",
    "for m in metadata:\n",
    "    r = requests.get(m[\"url\"], headers={\"X-API-KEY\": key})\n",
    "    d = r.json()\n",
    "    m[\"datadict\"] = d\n",
    "    jsons.append(m)"
   ]
  },
  {
   "cell_type": "code",
   "execution_count": 7,
   "metadata": {},
   "outputs": [],
   "source": [
    "def processdict(d):\n",
    "    data = pd.json_normalize(d[\"datadict\"][\"results\"], record_path=[\"members\"])\n",
    "    data[\"chamber\"] = d[\"chamber\"]\n",
    "    data[\"session\"] = d[\"session\"]\n",
    "    return data"
   ]
  },
  {
   "cell_type": "code",
   "execution_count": 8,
   "metadata": {},
   "outputs": [],
   "source": [
    "ap_states = {\n",
    "    \"AL\": \"Ala.\",\n",
    "    \"AK\": \"Alaska\",\n",
    "    \"AZ\": \"Ariz.\",\n",
    "    \"AR\": \"Ark.\",\n",
    "    \"CA\": \"Calif.\",\n",
    "    \"CO\": \"Colo.\",\n",
    "    \"CT\": \"Conn.\",\n",
    "    \"DE\": \"Del.\",\n",
    "    \"FL\": \"Fla.\",\n",
    "    \"GA\": \"Ga.\",\n",
    "    \"HI\": \"Hawaii\",\n",
    "    \"IA\": \"Iowa\",\n",
    "    \"ID\": \"Idaho\",\n",
    "    \"IL\": \"Ill.\",\n",
    "    \"IN\": \"Ind.\",\n",
    "    \"KS\": \"Kan.\",\n",
    "    \"KY\": \"Ky.\",\n",
    "    \"LA\": \"La.\",\n",
    "    \"MD\": \"Md.\",\n",
    "    \"MA\": \"Mass.\",\n",
    "    \"ME\": \"Maine\",\n",
    "    \"MI\": \"Mich.\",\n",
    "    \"MN\": \"Minn.\",\n",
    "    \"MS\": \"Miss.\",\n",
    "    \"MO\": \"Mo.\",\n",
    "    \"MT\": \"Mont.\",\n",
    "    \"NE\": \"Neb.\",\n",
    "    \"NV\": \"Nev.\",\n",
    "    \"NH\": \"N.H.\",\n",
    "    \"NJ\": \"N.J.\",\n",
    "    \"NM\": \"N.M.\",\n",
    "    \"NY\": \"N.Y.\",\n",
    "    \"NC\": \"N.C.\",\n",
    "    \"ND\": \"N.D.\",\n",
    "    \"OH\": \"Ohio\",\n",
    "    \"OK\": \"Okla.\",\n",
    "    \"OR\": \"Ore.\",\n",
    "    \"PA\": \"Pa.\",\n",
    "    \"RI\": \"R.I.\",\n",
    "    \"SC\": \"S.C.\",\n",
    "    \"SD\": \"S.D.\",\n",
    "    \"TX\": \"Texas\",\n",
    "    \"TN\": \"Tenn.\",\n",
    "    \"VT\": \"Vt.\",\n",
    "    \"VA\": \"Va.\",\n",
    "    \"WA\": \"Wash.\",\n",
    "    \"WV\": \"W.Va.\",\n",
    "    \"WI\": \"Wis.\",\n",
    "    \"WY\": \"Wyo\",\n",
    "}"
   ]
  },
  {
   "cell_type": "code",
   "execution_count": 9,
   "metadata": {},
   "outputs": [],
   "source": [
    "src = pd.concat([processdict(j) for j in jsons], sort=False)"
   ]
  },
  {
   "cell_type": "code",
   "execution_count": 10,
   "metadata": {},
   "outputs": [],
   "source": [
    "src[\"apstate\"] = src[\"state\"].map(ap_states)"
   ]
  },
  {
   "cell_type": "code",
   "execution_count": 11,
   "metadata": {},
   "outputs": [],
   "source": [
    "src[\"full_name\"] = src[\"first_name\"] + \" \" + src[\"last_name\"]"
   ]
  },
  {
   "cell_type": "code",
   "execution_count": 12,
   "metadata": {},
   "outputs": [],
   "source": [
    "df = src[\n",
    "    [\n",
    "        \"id\",\n",
    "        \"seniority\",\n",
    "        \"full_name\",\n",
    "        \"apstate\",\n",
    "        \"first_name\",\n",
    "        \"last_name\",\n",
    "        \"chamber\",\n",
    "        \"session\",\n",
    "        \"state\",\n",
    "        \"party\",\n",
    "        \"dw_nominate\",\n",
    "        \"votes_with_party_pct\",\n",
    "    ]\n",
    "]"
   ]
  },
  {
   "cell_type": "code",
   "execution_count": 13,
   "metadata": {},
   "outputs": [
    {
     "data": {
      "text/plain": [
       "548"
      ]
     },
     "execution_count": 13,
     "metadata": {},
     "output_type": "execute_result"
    }
   ],
   "source": [
    "len(df)"
   ]
  },
  {
   "cell_type": "code",
   "execution_count": 14,
   "metadata": {},
   "outputs": [
    {
     "data": {
      "text/html": [
       "<div>\n",
       "<style scoped>\n",
       "    .dataframe tbody tr th:only-of-type {\n",
       "        vertical-align: middle;\n",
       "    }\n",
       "\n",
       "    .dataframe tbody tr th {\n",
       "        vertical-align: top;\n",
       "    }\n",
       "\n",
       "    .dataframe thead th {\n",
       "        text-align: right;\n",
       "    }\n",
       "</style>\n",
       "<table border=\"1\" class=\"dataframe\">\n",
       "  <thead>\n",
       "    <tr style=\"text-align: right;\">\n",
       "      <th></th>\n",
       "      <th>id</th>\n",
       "      <th>seniority</th>\n",
       "      <th>full_name</th>\n",
       "      <th>apstate</th>\n",
       "      <th>first_name</th>\n",
       "      <th>last_name</th>\n",
       "      <th>chamber</th>\n",
       "      <th>session</th>\n",
       "      <th>state</th>\n",
       "      <th>party</th>\n",
       "      <th>dw_nominate</th>\n",
       "      <th>votes_with_party_pct</th>\n",
       "    </tr>\n",
       "  </thead>\n",
       "  <tbody>\n",
       "    <tr>\n",
       "      <th>0</th>\n",
       "      <td>A000370</td>\n",
       "      <td>10</td>\n",
       "      <td>Alma Adams</td>\n",
       "      <td>N.C.</td>\n",
       "      <td>Alma</td>\n",
       "      <td>Adams</td>\n",
       "      <td>house</td>\n",
       "      <td>117</td>\n",
       "      <td>NC</td>\n",
       "      <td>D</td>\n",
       "      <td>-0.465</td>\n",
       "      <td>98.74</td>\n",
       "    </tr>\n",
       "    <tr>\n",
       "      <th>1</th>\n",
       "      <td>A000055</td>\n",
       "      <td>26</td>\n",
       "      <td>Robert Aderholt</td>\n",
       "      <td>Ala.</td>\n",
       "      <td>Robert</td>\n",
       "      <td>Aderholt</td>\n",
       "      <td>house</td>\n",
       "      <td>117</td>\n",
       "      <td>AL</td>\n",
       "      <td>R</td>\n",
       "      <td>0.376</td>\n",
       "      <td>96.90</td>\n",
       "    </tr>\n",
       "    <tr>\n",
       "      <th>2</th>\n",
       "      <td>A000371</td>\n",
       "      <td>8</td>\n",
       "      <td>Pete Aguilar</td>\n",
       "      <td>Calif.</td>\n",
       "      <td>Pete</td>\n",
       "      <td>Aguilar</td>\n",
       "      <td>house</td>\n",
       "      <td>117</td>\n",
       "      <td>CA</td>\n",
       "      <td>D</td>\n",
       "      <td>-0.294</td>\n",
       "      <td>98.49</td>\n",
       "    </tr>\n",
       "    <tr>\n",
       "      <th>3</th>\n",
       "      <td>A000372</td>\n",
       "      <td>8</td>\n",
       "      <td>Rick Allen</td>\n",
       "      <td>Ga.</td>\n",
       "      <td>Rick</td>\n",
       "      <td>Allen</td>\n",
       "      <td>house</td>\n",
       "      <td>117</td>\n",
       "      <td>GA</td>\n",
       "      <td>R</td>\n",
       "      <td>0.695</td>\n",
       "      <td>93.28</td>\n",
       "    </tr>\n",
       "    <tr>\n",
       "      <th>4</th>\n",
       "      <td>A000376</td>\n",
       "      <td>4</td>\n",
       "      <td>Colin Allred</td>\n",
       "      <td>Texas</td>\n",
       "      <td>Colin</td>\n",
       "      <td>Allred</td>\n",
       "      <td>house</td>\n",
       "      <td>117</td>\n",
       "      <td>TX</td>\n",
       "      <td>D</td>\n",
       "      <td>NaN</td>\n",
       "      <td>97.49</td>\n",
       "    </tr>\n",
       "  </tbody>\n",
       "</table>\n",
       "</div>"
      ],
      "text/plain": [
       "        id seniority        full_name apstate first_name last_name chamber  \\\n",
       "0  A000370        10       Alma Adams    N.C.       Alma     Adams   house   \n",
       "1  A000055        26  Robert Aderholt    Ala.     Robert  Aderholt   house   \n",
       "2  A000371         8     Pete Aguilar  Calif.       Pete   Aguilar   house   \n",
       "3  A000372         8       Rick Allen     Ga.       Rick     Allen   house   \n",
       "4  A000376         4     Colin Allred   Texas      Colin    Allred   house   \n",
       "\n",
       "   session state party  dw_nominate  votes_with_party_pct  \n",
       "0      117    NC     D       -0.465                 98.74  \n",
       "1      117    AL     R        0.376                 96.90  \n",
       "2      117    CA     D       -0.294                 98.49  \n",
       "3      117    GA     R        0.695                 93.28  \n",
       "4      117    TX     D          NaN                 97.49  "
      ]
     },
     "execution_count": 14,
     "metadata": {},
     "output_type": "execute_result"
    }
   ],
   "source": [
    "df.head()"
   ]
  },
  {
   "cell_type": "markdown",
   "metadata": {},
   "source": [
    "---"
   ]
  },
  {
   "cell_type": "markdown",
   "metadata": {},
   "source": [
    "### Export"
   ]
  },
  {
   "cell_type": "code",
   "execution_count": 15,
   "metadata": {},
   "outputs": [],
   "source": [
    "df.to_csv(\"output/members_of_congress_117.csv\")"
   ]
  }
 ],
 "metadata": {
  "kernelspec": {
   "display_name": "Python 3",
   "language": "python",
   "name": "python3"
  },
  "language_info": {
   "codemirror_mode": {
    "name": "ipython",
    "version": 3
   },
   "file_extension": ".py",
   "mimetype": "text/x-python",
   "name": "python",
   "nbconvert_exporter": "python",
   "pygments_lexer": "ipython3",
   "version": "3.8.8"
  }
 },
 "nbformat": 4,
 "nbformat_minor": 4
}
