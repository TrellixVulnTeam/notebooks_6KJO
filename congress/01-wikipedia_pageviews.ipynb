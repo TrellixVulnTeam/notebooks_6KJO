{
 "cells": [
  {
   "cell_type": "markdown",
   "id": "3c4025f4-d5cb-4548-bb4a-056cb2b06294",
   "metadata": {},
   "source": [
    "# Wikipedia pageviews API: Members of the U.S. House"
   ]
  },
  {
   "cell_type": "markdown",
   "id": "0835f65a-e4d4-4a4c-9a9a-388ecdc88b92",
   "metadata": {},
   "source": [
    "### Import Python tools and Jupyter configuration"
   ]
  },
  {
   "cell_type": "code",
   "execution_count": 1,
   "id": "92a430bc-7c09-4efb-a3ec-2893eb1cdf75",
   "metadata": {},
   "outputs": [],
   "source": [
    "%load_ext lab_black"
   ]
  },
  {
   "cell_type": "code",
   "execution_count": 2,
   "id": "7e8af962-ec10-4227-b13e-f4c547a0ddc6",
   "metadata": {},
   "outputs": [],
   "source": [
    "import pandas as pd\n",
    "import requests\n",
    "import pageviewapi\n",
    "import datetime as dt\n",
    "from bs4 import BeautifulSoup\n",
    "import altair as alt"
   ]
  },
  {
   "cell_type": "code",
   "execution_count": 3,
   "id": "39dccd05-a116-4af2-a078-1dc2f29cc8bb",
   "metadata": {},
   "outputs": [],
   "source": [
    "pd.options.display.max_columns = 100\n",
    "pd.options.display.max_rows = 1000\n",
    "pd.options.display.max_colwidth = None"
   ]
  },
  {
   "cell_type": "code",
   "execution_count": 4,
   "id": "ecd41860-7a15-4753-81b7-0e1e7244aadb",
   "metadata": {},
   "outputs": [],
   "source": [
    "begin = \"20210101\"\n",
    "today = dt.datetime.today().strftime(\"%Y%m%d\")"
   ]
  },
  {
   "cell_type": "markdown",
   "id": "3a74e483-93b7-47e7-9d62-3e7b846cbc3f",
   "metadata": {},
   "source": [
    "---"
   ]
  },
  {
   "cell_type": "markdown",
   "id": "b85a1cc4-c530-451c-8f49-34f623ed9554",
   "metadata": {},
   "source": [
    "### First, get a list of all members and their wiki article links"
   ]
  },
  {
   "cell_type": "code",
   "execution_count": 5,
   "id": "80ab9218-01a6-4801-997b-c244dbd82597",
   "metadata": {},
   "outputs": [],
   "source": [
    "from urllib.request import urlopen\n",
    "from bs4 import BeautifulSoup\n",
    "\n",
    "data_list = []\n",
    "\n",
    "html = urlopen(\n",
    "    \"https://en.wikipedia.org/wiki/List_of_current_members_of_the_United_States_House_of_Representatives\"\n",
    ")\n",
    "soup = BeautifulSoup(html, \"html.parser\")\n",
    "table = soup.find_all(\"table\", {\"class\": \"wikitable sortable\"})[2]\n",
    "\n",
    "for row in table.find_all(\"tr\")[1:]:\n",
    "    col = row.find_all(\"td\")\n",
    "    link = row.find_all(\"a\")\n",
    "\n",
    "    if (len(col) < 3) | (len(link) < 2):\n",
    "        data_list.append(\n",
    "            dict(district=col[0].text, name=col[1], party=\"Vacant\", slug=\"none\")\n",
    "        )\n",
    "    else:\n",
    "        data_list.append(\n",
    "            dict(\n",
    "                district=col[0].text.strip(\"\\n\"),\n",
    "                name=col[1],\n",
    "                party=col[3].text.strip(\"\\n\"),\n",
    "                slug=link[2][\"href\"].strip(\"/wiki/\"),\n",
    "            )\n",
    "        )"
   ]
  },
  {
   "cell_type": "code",
   "execution_count": 6,
   "id": "3653b365-a5a1-4a07-b413-7973407cdfb2",
   "metadata": {},
   "outputs": [],
   "source": [
    "src = pd.DataFrame(data_list)"
   ]
  },
  {
   "cell_type": "markdown",
   "id": "e4dd7980-148d-41c9-b4b3-4322c596d5a9",
   "metadata": {},
   "source": [
    "### Pull daily data for this year"
   ]
  },
  {
   "cell_type": "code",
   "execution_count": 7,
   "id": "6361596e-4c0d-441b-89cd-0bbd365fb46b",
   "metadata": {},
   "outputs": [],
   "source": [
    "term_dict = []\n",
    "\n",
    "for a in src[\"slug\"]:\n",
    "    try:\n",
    "        term_dict.append(\n",
    "            pageviewapi.per_article(\n",
    "                \"en.wikipedia\",\n",
    "                a,\n",
    "                begin,\n",
    "                today,\n",
    "                access=\"all-access\",\n",
    "                agent=\"all-agents\",\n",
    "                granularity=\"daily\",\n",
    "            )\n",
    "        )\n",
    "    except pageviewapi.client.ZeroOrDataNotLoadedException as e:\n",
    "        views = 0"
   ]
  },
  {
   "cell_type": "markdown",
   "id": "64c281a1-71bc-46a0-8b0d-b5b7c3b7c56b",
   "metadata": {},
   "source": [
    "### Create a dataframe and stack each member's data into it"
   ]
  },
  {
   "cell_type": "code",
   "execution_count": 8,
   "id": "ed091a8f-ba87-44a4-be92-266204bdb07a",
   "metadata": {},
   "outputs": [],
   "source": [
    "src_df = pd.DataFrame()\n",
    "\n",
    "for t in term_dict:\n",
    "    src_df = src_df.append(t[\"items\"])"
   ]
  },
  {
   "cell_type": "markdown",
   "id": "99a8857d-b778-4068-8689-227fa758c292",
   "metadata": {},
   "source": [
    "### Who's had the most views? "
   ]
  },
  {
   "cell_type": "code",
   "execution_count": 9,
   "id": "8e5b591d-e58a-4536-842c-c771a1898a03",
   "metadata": {},
   "outputs": [
    {
     "data": {
      "text/html": [
       "<div>\n",
       "<style scoped>\n",
       "    .dataframe tbody tr th:only-of-type {\n",
       "        vertical-align: middle;\n",
       "    }\n",
       "\n",
       "    .dataframe tbody tr th {\n",
       "        vertical-align: top;\n",
       "    }\n",
       "\n",
       "    .dataframe thead th {\n",
       "        text-align: right;\n",
       "    }\n",
       "</style>\n",
       "<table border=\"1\" class=\"dataframe\">\n",
       "  <thead>\n",
       "    <tr style=\"text-align: right;\">\n",
       "      <th></th>\n",
       "      <th>project</th>\n",
       "      <th>article</th>\n",
       "      <th>granularity</th>\n",
       "      <th>timestamp</th>\n",
       "      <th>access</th>\n",
       "      <th>agent</th>\n",
       "      <th>views</th>\n",
       "    </tr>\n",
       "  </thead>\n",
       "  <tbody>\n",
       "    <tr>\n",
       "      <th>89</th>\n",
       "      <td>en.wikipedia</td>\n",
       "      <td>Matt_Gaetz</td>\n",
       "      <td>daily</td>\n",
       "      <td>2021033100</td>\n",
       "      <td>all-access</td>\n",
       "      <td>all-agents</td>\n",
       "      <td>540592</td>\n",
       "    </tr>\n",
       "    <tr>\n",
       "      <th>12</th>\n",
       "      <td>en.wikipedia</td>\n",
       "      <td>Liz_Cheney</td>\n",
       "      <td>daily</td>\n",
       "      <td>2021011300</td>\n",
       "      <td>all-access</td>\n",
       "      <td>all-agents</td>\n",
       "      <td>366312</td>\n",
       "    </tr>\n",
       "    <tr>\n",
       "      <th>131</th>\n",
       "      <td>en.wikipedia</td>\n",
       "      <td>Liz_Cheney</td>\n",
       "      <td>daily</td>\n",
       "      <td>2021051200</td>\n",
       "      <td>all-access</td>\n",
       "      <td>all-agents</td>\n",
       "      <td>365664</td>\n",
       "    </tr>\n",
       "    <tr>\n",
       "      <th>35</th>\n",
       "      <td>en.wikipedia</td>\n",
       "      <td>Marjorie_Taylor_Greene</td>\n",
       "      <td>daily</td>\n",
       "      <td>2021020500</td>\n",
       "      <td>all-access</td>\n",
       "      <td>all-agents</td>\n",
       "      <td>359265</td>\n",
       "    </tr>\n",
       "    <tr>\n",
       "      <th>91</th>\n",
       "      <td>en.wikipedia</td>\n",
       "      <td>Matt_Gaetz</td>\n",
       "      <td>daily</td>\n",
       "      <td>2021040200</td>\n",
       "      <td>all-access</td>\n",
       "      <td>all-agents</td>\n",
       "      <td>308809</td>\n",
       "    </tr>\n",
       "  </tbody>\n",
       "</table>\n",
       "</div>"
      ],
      "text/plain": [
       "          project                 article granularity   timestamp      access  \\\n",
       "89   en.wikipedia              Matt_Gaetz       daily  2021033100  all-access   \n",
       "12   en.wikipedia              Liz_Cheney       daily  2021011300  all-access   \n",
       "131  en.wikipedia              Liz_Cheney       daily  2021051200  all-access   \n",
       "35   en.wikipedia  Marjorie_Taylor_Greene       daily  2021020500  all-access   \n",
       "91   en.wikipedia              Matt_Gaetz       daily  2021040200  all-access   \n",
       "\n",
       "          agent   views  \n",
       "89   all-agents  540592  \n",
       "12   all-agents  366312  \n",
       "131  all-agents  365664  \n",
       "35   all-agents  359265  \n",
       "91   all-agents  308809  "
      ]
     },
     "execution_count": 9,
     "metadata": {},
     "output_type": "execute_result"
    }
   ],
   "source": [
    "src_df.sort_values(\"views\", ascending=False).head()"
   ]
  },
  {
   "cell_type": "markdown",
   "id": "203b54ca-8938-41ef-b2bf-1a5801e8c4a3",
   "metadata": {},
   "source": [
    "### Find one member's figures?"
   ]
  },
  {
   "cell_type": "code",
   "execution_count": 10,
   "id": "35188e6a-ef50-4220-b0df-949f38ebf503",
   "metadata": {},
   "outputs": [
    {
     "data": {
      "text/html": [
       "<div>\n",
       "<style scoped>\n",
       "    .dataframe tbody tr th:only-of-type {\n",
       "        vertical-align: middle;\n",
       "    }\n",
       "\n",
       "    .dataframe tbody tr th {\n",
       "        vertical-align: top;\n",
       "    }\n",
       "\n",
       "    .dataframe thead th {\n",
       "        text-align: right;\n",
       "    }\n",
       "</style>\n",
       "<table border=\"1\" class=\"dataframe\">\n",
       "  <thead>\n",
       "    <tr style=\"text-align: right;\">\n",
       "      <th></th>\n",
       "      <th>project</th>\n",
       "      <th>article</th>\n",
       "      <th>granularity</th>\n",
       "      <th>timestamp</th>\n",
       "      <th>access</th>\n",
       "      <th>agent</th>\n",
       "      <th>views</th>\n",
       "    </tr>\n",
       "  </thead>\n",
       "  <tbody>\n",
       "    <tr>\n",
       "      <th>0</th>\n",
       "      <td>en.wikipedia</td>\n",
       "      <td>Liz_Cheney</td>\n",
       "      <td>daily</td>\n",
       "      <td>2021010100</td>\n",
       "      <td>all-access</td>\n",
       "      <td>all-agents</td>\n",
       "      <td>1646</td>\n",
       "    </tr>\n",
       "    <tr>\n",
       "      <th>1</th>\n",
       "      <td>en.wikipedia</td>\n",
       "      <td>Liz_Cheney</td>\n",
       "      <td>daily</td>\n",
       "      <td>2021010200</td>\n",
       "      <td>all-access</td>\n",
       "      <td>all-agents</td>\n",
       "      <td>2044</td>\n",
       "    </tr>\n",
       "    <tr>\n",
       "      <th>2</th>\n",
       "      <td>en.wikipedia</td>\n",
       "      <td>Liz_Cheney</td>\n",
       "      <td>daily</td>\n",
       "      <td>2021010300</td>\n",
       "      <td>all-access</td>\n",
       "      <td>all-agents</td>\n",
       "      <td>5193</td>\n",
       "    </tr>\n",
       "    <tr>\n",
       "      <th>3</th>\n",
       "      <td>en.wikipedia</td>\n",
       "      <td>Liz_Cheney</td>\n",
       "      <td>daily</td>\n",
       "      <td>2021010400</td>\n",
       "      <td>all-access</td>\n",
       "      <td>all-agents</td>\n",
       "      <td>14474</td>\n",
       "    </tr>\n",
       "    <tr>\n",
       "      <th>4</th>\n",
       "      <td>en.wikipedia</td>\n",
       "      <td>Liz_Cheney</td>\n",
       "      <td>daily</td>\n",
       "      <td>2021010500</td>\n",
       "      <td>all-access</td>\n",
       "      <td>all-agents</td>\n",
       "      <td>10838</td>\n",
       "    </tr>\n",
       "  </tbody>\n",
       "</table>\n",
       "</div>"
      ],
      "text/plain": [
       "        project     article granularity   timestamp      access       agent  \\\n",
       "0  en.wikipedia  Liz_Cheney       daily  2021010100  all-access  all-agents   \n",
       "1  en.wikipedia  Liz_Cheney       daily  2021010200  all-access  all-agents   \n",
       "2  en.wikipedia  Liz_Cheney       daily  2021010300  all-access  all-agents   \n",
       "3  en.wikipedia  Liz_Cheney       daily  2021010400  all-access  all-agents   \n",
       "4  en.wikipedia  Liz_Cheney       daily  2021010500  all-access  all-agents   \n",
       "\n",
       "   views  \n",
       "0   1646  \n",
       "1   2044  \n",
       "2   5193  \n",
       "3  14474  \n",
       "4  10838  "
      ]
     },
     "execution_count": 10,
     "metadata": {},
     "output_type": "execute_result"
    }
   ],
   "source": [
    "src_df[src_df[\"article\"] == \"Liz_Cheney\"].head()"
   ]
  },
  {
   "cell_type": "markdown",
   "id": "89565149-abbd-4131-af27-1db82580e3db",
   "metadata": {},
   "source": [
    "### Clean up date and member names"
   ]
  },
  {
   "cell_type": "code",
   "execution_count": 11,
   "id": "4e96f707-5f02-4ca1-b6a4-2df3d16ba278",
   "metadata": {},
   "outputs": [],
   "source": [
    "src_df[\"date\"] = pd.to_datetime(src_df[\"timestamp\"].str.strip(\"00\"), format=\"%Y%m%d\")\n",
    "src_df[\"member\"] = src_df[\"article\"].str.replace(\"_\", \" \", regex=False)"
   ]
  },
  {
   "cell_type": "code",
   "execution_count": 12,
   "id": "acb000d3-8470-4a7d-898e-91ff9455ef6a",
   "metadata": {},
   "outputs": [],
   "source": [
    "merged = src_df.merge(src[[\"slug\", \"party\"]], left_on=\"article\", right_on=\"slug\")"
   ]
  },
  {
   "cell_type": "markdown",
   "id": "8cfb5888-2b4b-48cd-b559-4accfe4779bf",
   "metadata": {},
   "source": [
    "### Lose the fields we don't need"
   ]
  },
  {
   "cell_type": "code",
   "execution_count": 13,
   "id": "c7d59be3-271f-4637-8f7a-4ce75d08c4c7",
   "metadata": {},
   "outputs": [],
   "source": [
    "merged[[\"member\", \"trash\"]] = merged[\"member\"].str.split(pat=\"(\", expand=True)"
   ]
  },
  {
   "cell_type": "code",
   "execution_count": 14,
   "id": "d70fde2c-1ab3-432b-a387-4a7eae8366ed",
   "metadata": {},
   "outputs": [],
   "source": [
    "df = merged[[\"date\", \"member\", \"views\", \"party\"]].copy()"
   ]
  },
  {
   "cell_type": "code",
   "execution_count": 15,
   "id": "08537c81-4f20-4cdc-85ea-f94c4a08cb38",
   "metadata": {},
   "outputs": [],
   "source": [
    "df[\"member\"] = (\n",
    "    df[\"member\"]\n",
    "    .str.replace(\"'s\", \"\", regex=False)\n",
    "    .str.replace(\" congressional district\", \"\", regex=False)\n",
    ")"
   ]
  },
  {
   "cell_type": "markdown",
   "id": "c3098e74-1837-46c7-bb6c-b58506212ad1",
   "metadata": {},
   "source": [
    "### MTG"
   ]
  },
  {
   "cell_type": "code",
   "execution_count": 47,
   "id": "728e3cb3-a97e-4902-bb62-01fac205cb07",
   "metadata": {},
   "outputs": [],
   "source": [
    "mtg = df[df[\"member\"] == \"Marjorie Taylor Greene\"].reset_index(drop=True)\n",
    "gaetz = df[df[\"member\"] == \"Matt Gaetz\"].reset_index(drop=True)"
   ]
  },
  {
   "cell_type": "code",
   "execution_count": 54,
   "id": "2fbb0678-d6ba-42a1-8577-b5e0a4c1398d",
   "metadata": {},
   "outputs": [
    {
     "data": {
      "text/html": [
       "<div>\n",
       "<style scoped>\n",
       "    .dataframe tbody tr th:only-of-type {\n",
       "        vertical-align: middle;\n",
       "    }\n",
       "\n",
       "    .dataframe tbody tr th {\n",
       "        vertical-align: top;\n",
       "    }\n",
       "\n",
       "    .dataframe thead th {\n",
       "        text-align: right;\n",
       "    }\n",
       "</style>\n",
       "<table border=\"1\" class=\"dataframe\">\n",
       "  <thead>\n",
       "    <tr style=\"text-align: right;\">\n",
       "      <th></th>\n",
       "      <th>date</th>\n",
       "      <th>member</th>\n",
       "      <th>views</th>\n",
       "      <th>party</th>\n",
       "    </tr>\n",
       "  </thead>\n",
       "  <tbody>\n",
       "    <tr>\n",
       "      <th>0</th>\n",
       "      <td>2021-01-01</td>\n",
       "      <td>Marjorie Taylor Greene</td>\n",
       "      <td>1629</td>\n",
       "      <td>Republican</td>\n",
       "    </tr>\n",
       "    <tr>\n",
       "      <th>1</th>\n",
       "      <td>2021-01-02</td>\n",
       "      <td>Marjorie Taylor Greene</td>\n",
       "      <td>1785</td>\n",
       "      <td>Republican</td>\n",
       "    </tr>\n",
       "    <tr>\n",
       "      <th>2</th>\n",
       "      <td>2021-01-03</td>\n",
       "      <td>Marjorie Taylor Greene</td>\n",
       "      <td>9230</td>\n",
       "      <td>Republican</td>\n",
       "    </tr>\n",
       "    <tr>\n",
       "      <th>3</th>\n",
       "      <td>2021-01-04</td>\n",
       "      <td>Marjorie Taylor Greene</td>\n",
       "      <td>13623</td>\n",
       "      <td>Republican</td>\n",
       "    </tr>\n",
       "    <tr>\n",
       "      <th>4</th>\n",
       "      <td>2021-01-05</td>\n",
       "      <td>Marjorie Taylor Greene</td>\n",
       "      <td>18968</td>\n",
       "      <td>Republican</td>\n",
       "    </tr>\n",
       "  </tbody>\n",
       "</table>\n",
       "</div>"
      ],
      "text/plain": [
       "        date                  member  views       party\n",
       "0 2021-01-01  Marjorie Taylor Greene   1629  Republican\n",
       "1 2021-01-02  Marjorie Taylor Greene   1785  Republican\n",
       "2 2021-01-03  Marjorie Taylor Greene   9230  Republican\n",
       "3 2021-01-04  Marjorie Taylor Greene  13623  Republican\n",
       "4 2021-01-05  Marjorie Taylor Greene  18968  Republican"
      ]
     },
     "execution_count": 54,
     "metadata": {},
     "output_type": "execute_result"
    }
   ],
   "source": [
    "mtg.head()"
   ]
  },
  {
   "cell_type": "code",
   "execution_count": 48,
   "id": "a2e6afe4-3c4b-41f6-bf06-dfc64809a39d",
   "metadata": {},
   "outputs": [
    {
     "data": {
      "text/html": [
       "<div>\n",
       "<style scoped>\n",
       "    .dataframe tbody tr th:only-of-type {\n",
       "        vertical-align: middle;\n",
       "    }\n",
       "\n",
       "    .dataframe tbody tr th {\n",
       "        vertical-align: top;\n",
       "    }\n",
       "\n",
       "    .dataframe thead th {\n",
       "        text-align: right;\n",
       "    }\n",
       "</style>\n",
       "<table border=\"1\" class=\"dataframe\">\n",
       "  <thead>\n",
       "    <tr style=\"text-align: right;\">\n",
       "      <th></th>\n",
       "      <th>date</th>\n",
       "      <th>member</th>\n",
       "      <th>views</th>\n",
       "      <th>party</th>\n",
       "    </tr>\n",
       "  </thead>\n",
       "  <tbody>\n",
       "    <tr>\n",
       "      <th>0</th>\n",
       "      <td>2021-01-01</td>\n",
       "      <td>Matt Gaetz</td>\n",
       "      <td>5003</td>\n",
       "      <td>Republican</td>\n",
       "    </tr>\n",
       "    <tr>\n",
       "      <th>1</th>\n",
       "      <td>2021-01-02</td>\n",
       "      <td>Matt Gaetz</td>\n",
       "      <td>3510</td>\n",
       "      <td>Republican</td>\n",
       "    </tr>\n",
       "    <tr>\n",
       "      <th>2</th>\n",
       "      <td>2021-01-03</td>\n",
       "      <td>Matt Gaetz</td>\n",
       "      <td>2288</td>\n",
       "      <td>Republican</td>\n",
       "    </tr>\n",
       "    <tr>\n",
       "      <th>3</th>\n",
       "      <td>2021-01-04</td>\n",
       "      <td>Matt Gaetz</td>\n",
       "      <td>3027</td>\n",
       "      <td>Republican</td>\n",
       "    </tr>\n",
       "    <tr>\n",
       "      <th>4</th>\n",
       "      <td>2021-01-05</td>\n",
       "      <td>Matt Gaetz</td>\n",
       "      <td>3693</td>\n",
       "      <td>Republican</td>\n",
       "    </tr>\n",
       "  </tbody>\n",
       "</table>\n",
       "</div>"
      ],
      "text/plain": [
       "        date      member  views       party\n",
       "0 2021-01-01  Matt Gaetz   5003  Republican\n",
       "1 2021-01-02  Matt Gaetz   3510  Republican\n",
       "2 2021-01-03  Matt Gaetz   2288  Republican\n",
       "3 2021-01-04  Matt Gaetz   3027  Republican\n",
       "4 2021-01-05  Matt Gaetz   3693  Republican"
      ]
     },
     "execution_count": 48,
     "metadata": {},
     "output_type": "execute_result"
    }
   ],
   "source": [
    "gaetz.head()"
   ]
  },
  {
   "cell_type": "markdown",
   "id": "389d1633-ee32-40ed-9138-ddd448facf0e",
   "metadata": {
    "tags": []
   },
   "source": [
    "---"
   ]
  },
  {
   "cell_type": "markdown",
   "id": "e509d7d3-109f-46b7-ab96-cff02d858321",
   "metadata": {
    "tags": []
   },
   "source": [
    "### Aggregate by member"
   ]
  },
  {
   "cell_type": "code",
   "execution_count": 16,
   "id": "a24fc2f9-670e-4c23-a4c1-39281edd2124",
   "metadata": {
    "tags": []
   },
   "outputs": [],
   "source": [
    "df.head()"
   ]
  },
  {
   "cell_type": "code",
   "execution_count": 17,
   "id": "f6f9e091-69bd-40e5-90e4-b08c6e228d4c",
   "metadata": {
    "tags": []
   },
   "outputs": [],
   "source": [
    "members_grp = df.groupby([\"member\", \"party\"]).agg({\"views\": sum}).reset_index()"
   ]
  },
  {
   "cell_type": "code",
   "execution_count": 18,
   "id": "e236c91d-ca3c-4a75-bfe2-10fcaa857eef",
   "metadata": {
    "tags": []
   },
   "outputs": [
    {
     "data": {
      "text/html": [
       "<div>\n",
       "<style scoped>\n",
       "    .dataframe tbody tr th:only-of-type {\n",
       "        vertical-align: middle;\n",
       "    }\n",
       "\n",
       "    .dataframe tbody tr th {\n",
       "        vertical-align: top;\n",
       "    }\n",
       "\n",
       "    .dataframe thead th {\n",
       "        text-align: right;\n",
       "    }\n",
       "</style>\n",
       "<table border=\"1\" class=\"dataframe\">\n",
       "  <thead>\n",
       "    <tr style=\"text-align: right;\">\n",
       "      <th></th>\n",
       "      <th>member</th>\n",
       "      <th>party</th>\n",
       "      <th>views</th>\n",
       "    </tr>\n",
       "  </thead>\n",
       "  <tbody>\n",
       "    <tr>\n",
       "      <th>264</th>\n",
       "      <td>Marjorie Taylor Greene</td>\n",
       "      <td>Republican</td>\n",
       "      <td>4875798</td>\n",
       "    </tr>\n",
       "    <tr>\n",
       "      <th>273</th>\n",
       "      <td>Matt Gaetz</td>\n",
       "      <td>Republican</td>\n",
       "      <td>4010896</td>\n",
       "    </tr>\n",
       "    <tr>\n",
       "      <th>11</th>\n",
       "      <td>Alexandria Ocasio-Cortez</td>\n",
       "      <td>Democratic</td>\n",
       "      <td>3918370</td>\n",
       "    </tr>\n",
       "    <tr>\n",
       "      <th>246</th>\n",
       "      <td>Liz Cheney</td>\n",
       "      <td>Republican</td>\n",
       "      <td>3658324</td>\n",
       "    </tr>\n",
       "    <tr>\n",
       "      <th>241</th>\n",
       "      <td>Lauren Boebert</td>\n",
       "      <td>Republican</td>\n",
       "      <td>2840268</td>\n",
       "    </tr>\n",
       "  </tbody>\n",
       "</table>\n",
       "</div>"
      ],
      "text/plain": [
       "                       member       party    views\n",
       "264    Marjorie Taylor Greene  Republican  4875798\n",
       "273                Matt Gaetz  Republican  4010896\n",
       "11   Alexandria Ocasio-Cortez  Democratic  3918370\n",
       "246                Liz Cheney  Republican  3658324\n",
       "241            Lauren Boebert  Republican  2840268"
      ]
     },
     "execution_count": 18,
     "metadata": {},
     "output_type": "execute_result"
    }
   ],
   "source": [
    "members_grp.sort_values(\"views\", ascending=False).head()"
   ]
  },
  {
   "cell_type": "code",
   "execution_count": 19,
   "id": "61e00755-3256-4728-ae96-8253259120f6",
   "metadata": {
    "tags": []
   },
   "outputs": [],
   "source": [
    "most_discussed = (\n",
    "    members_grp.sort_values(\"views\", ascending=False)[\"member\"].head(10).to_list()\n",
    ")"
   ]
  },
  {
   "cell_type": "code",
   "execution_count": 20,
   "id": "f3ba81d1-5ef5-4ed9-ad96-ac55badd952a",
   "metadata": {
    "tags": []
   },
   "outputs": [
    {
     "data": {
      "text/plain": [
       "['Marjorie Taylor Greene',\n",
       " 'Matt Gaetz',\n",
       " 'Alexandria Ocasio-Cortez',\n",
       " 'Liz Cheney',\n",
       " 'Lauren Boebert',\n",
       " 'Madison Cawthorn',\n",
       " 'Jamie Raskin',\n",
       " 'Adam Kinzinger',\n",
       " 'Ilhan Omar',\n",
       " 'Kevin McCarthy ']"
      ]
     },
     "execution_count": 20,
     "metadata": {},
     "output_type": "execute_result"
    }
   ],
   "source": [
    "most_discussed"
   ]
  },
  {
   "cell_type": "markdown",
   "id": "061f2e01-08c3-48b5-9a84-66b40bf68861",
   "metadata": {
    "tags": []
   },
   "source": [
    "---"
   ]
  },
  {
   "cell_type": "markdown",
   "id": "5c8c240f-3004-4a95-980c-2b0f5e8d7009",
   "metadata": {},
   "source": [
    "### Aggregate by party"
   ]
  },
  {
   "cell_type": "code",
   "execution_count": 32,
   "id": "f5881318-aeac-43f2-87dd-6d391ed86fd4",
   "metadata": {},
   "outputs": [],
   "source": [
    "party_grp = df.groupby([\"date\", \"party\"]).agg({\"views\": sum}).reset_index()"
   ]
  },
  {
   "cell_type": "code",
   "execution_count": 38,
   "id": "fa7a054f-e7c0-483a-996f-61f4655158ce",
   "metadata": {},
   "outputs": [],
   "source": [
    "party_grp_pivot = party_grp.pivot_table(\n",
    "    columns=\"party\", index=\"date\", values=\"views\"\n",
    ").reset_index()"
   ]
  },
  {
   "cell_type": "code",
   "execution_count": 40,
   "id": "978634b3-6485-43f8-bd15-b622e758853f",
   "metadata": {},
   "outputs": [],
   "source": [
    "party_grp_pivot.columns = party_grp_pivot.columns.str.lower()"
   ]
  },
  {
   "cell_type": "code",
   "execution_count": 42,
   "id": "3571ccde-c144-4228-98ae-b5499be76b6d",
   "metadata": {},
   "outputs": [],
   "source": [
    "party_grp_pivot.drop(\"vacant\", axis=1, inplace=True)"
   ]
  },
  {
   "cell_type": "markdown",
   "id": "e1f63252-fc87-44c4-b581-47ae466822a5",
   "metadata": {},
   "source": [
    "---"
   ]
  },
  {
   "cell_type": "markdown",
   "id": "d28bb726-d005-4fcd-9bc9-a252b2bbf379",
   "metadata": {},
   "source": [
    "### Exports"
   ]
  },
  {
   "cell_type": "code",
   "execution_count": 22,
   "id": "01e88db6-6e11-4169-b4b2-54b7cbf4085f",
   "metadata": {},
   "outputs": [],
   "source": [
    "# daily to json\n",
    "df.to_json(\"output/members_pageviews_daily.json\", indent=2, orient=\"records\")"
   ]
  },
  {
   "cell_type": "code",
   "execution_count": 23,
   "id": "9853d133-c4e7-452e-974f-31181462d066",
   "metadata": {},
   "outputs": [],
   "source": [
    "# daily to csv\n",
    "df.to_csv(\"output/members_pageviews_daily.csv\", index=False)"
   ]
  },
  {
   "cell_type": "code",
   "execution_count": 24,
   "id": "d95e101d-3e45-4e8f-91bf-50ee0685bb96",
   "metadata": {},
   "outputs": [],
   "source": [
    "# all of 2021 to csv\n",
    "members_grp.to_csv(\"output/members_pageviews_totals.csv\", index=False)"
   ]
  },
  {
   "cell_type": "code",
   "execution_count": 25,
   "id": "bb2163a0-8ef2-4f83-a92a-480f369065d4",
   "metadata": {},
   "outputs": [],
   "source": [
    "# all of 2021 to json\n",
    "members_grp.to_json(\"output/members_pageviews_totals.json\", indent=2, orient=\"records\")"
   ]
  },
  {
   "cell_type": "code",
   "execution_count": 26,
   "id": "c08cbd2c-928d-4335-99e7-493a5e4acb66",
   "metadata": {},
   "outputs": [],
   "source": [
    "# all of 2021 to csv > 500,000 views\n",
    "members_grp[members_grp[\"views\"] > 500000].to_csv(\n",
    "    \"output/members_pageviews_totals_500k.csv\", index=False\n",
    ")"
   ]
  },
  {
   "cell_type": "code",
   "execution_count": 44,
   "id": "86110509-e09a-434d-b52e-bf59441ef2a7",
   "metadata": {},
   "outputs": [],
   "source": [
    "party_grp_pivot.to_csv(\"output/party_pageviews_by_day.csv\", index=False)"
   ]
  },
  {
   "cell_type": "code",
   "execution_count": 43,
   "id": "bd32dcd0-1e51-4c37-b1b0-038c46422a91",
   "metadata": {},
   "outputs": [],
   "source": [
    "mtg.to_csv(\"output/mtg_pageviews_by_day.csv\", index=False)"
   ]
  }
 ],
 "metadata": {
  "kernelspec": {
   "display_name": "Python 3",
   "language": "python",
   "name": "python3"
  },
  "language_info": {
   "codemirror_mode": {
    "name": "ipython",
    "version": 3
   },
   "file_extension": ".py",
   "mimetype": "text/x-python",
   "name": "python",
   "nbconvert_exporter": "python",
   "pygments_lexer": "ipython3",
   "version": "3.8.8"
  }
 },
 "nbformat": 4,
 "nbformat_minor": 5
}
