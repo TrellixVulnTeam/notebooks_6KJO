{
 "cells": [
  {
   "cell_type": "markdown",
   "metadata": {},
   "source": [
    "# Current members of the U.S. Congress"
   ]
  },
  {
   "cell_type": "code",
   "execution_count": 1,
   "metadata": {},
   "outputs": [],
   "source": [
    "%load_ext lab_black"
   ]
  },
  {
   "cell_type": "code",
   "execution_count": 2,
   "metadata": {},
   "outputs": [],
   "source": [
    "import pandas as pd\n",
    "import requests\n",
    "import matplotlib.pyplot as plt\n",
    "import numpy as np\n",
    "import json\n",
    "import os\n",
    "import seaborn as sns\n",
    "import altair as alt"
   ]
  },
  {
   "cell_type": "code",
   "execution_count": 3,
   "metadata": {},
   "outputs": [],
   "source": [
    "key = \"sg5Q11oWW9pqLtmn8gVS0nOS179RousHDpeTgZkA\""
   ]
  },
  {
   "cell_type": "code",
   "execution_count": 4,
   "metadata": {},
   "outputs": [],
   "source": [
    "formaturl = (\n",
    "    lambda x: \"https://api.propublica.org/congress/v1/\"\n",
    "    + f\"{x[0]}/\"\n",
    "    + f\"{x[1]}\"\n",
    "    + \"/members.json\"\n",
    ")"
   ]
  },
  {
   "cell_type": "code",
   "execution_count": 5,
   "metadata": {},
   "outputs": [],
   "source": [
    "metadata = []\n",
    "for s in range(117, 118):\n",
    "    for c in [\"house\", \"senate\"]:\n",
    "        metadata.append(dict(chamber=c, session=s, url=formaturl((s, c))))"
   ]
  },
  {
   "cell_type": "code",
   "execution_count": 6,
   "metadata": {},
   "outputs": [],
   "source": [
    "jsons = []\n",
    "for m in metadata:\n",
    "    r = requests.get(m[\"url\"], headers={\"X-API-KEY\": key})\n",
    "    d = r.json()\n",
    "    m[\"datadict\"] = d\n",
    "    jsons.append(m)"
   ]
  },
  {
   "cell_type": "code",
   "execution_count": 7,
   "metadata": {},
   "outputs": [],
   "source": [
    "def processdict(d):\n",
    "    data = pd.json_normalize(d[\"datadict\"][\"results\"], record_path=[\"members\"])\n",
    "    data[\"chamber\"] = d[\"chamber\"]\n",
    "    data[\"session\"] = d[\"session\"]\n",
    "    return data"
   ]
  },
  {
   "cell_type": "code",
   "execution_count": 8,
   "metadata": {},
   "outputs": [],
   "source": [
    "ap_states = {\n",
    "    \"AL\": \"Ala.\",\n",
    "    \"AK\": \"Alaska\",\n",
    "    \"AZ\": \"Ariz.\",\n",
    "    \"AR\": \"Ark.\",\n",
    "    \"CA\": \"Calif.\",\n",
    "    \"CO\": \"Colo.\",\n",
    "    \"CT\": \"Conn.\",\n",
    "    \"DE\": \"Del.\",\n",
    "    \"FL\": \"Fla.\",\n",
    "    \"GA\": \"Ga.\",\n",
    "    \"HI\": \"Hawaii\",\n",
    "    \"IA\": \"Iowa\",\n",
    "    \"ID\": \"Idaho\",\n",
    "    \"IL\": \"Ill.\",\n",
    "    \"IN\": \"Ind.\",\n",
    "    \"KS\": \"Kan.\",\n",
    "    \"KY\": \"Ky.\",\n",
    "    \"LA\": \"La.\",\n",
    "    \"MD\": \"Md.\",\n",
    "    \"MA\": \"Mass.\",\n",
    "    \"ME\": \"Maine\",\n",
    "    \"MI\": \"Mich.\",\n",
    "    \"MN\": \"Minn.\",\n",
    "    \"MS\": \"Miss.\",\n",
    "    \"MO\": \"Mo.\",\n",
    "    \"MT\": \"Mont.\",\n",
    "    \"NE\": \"Neb.\",\n",
    "    \"NV\": \"Nev.\",\n",
    "    \"NH\": \"N.H.\",\n",
    "    \"NJ\": \"N.J.\",\n",
    "    \"NM\": \"N.M.\",\n",
    "    \"NY\": \"N.Y.\",\n",
    "    \"NC\": \"N.C.\",\n",
    "    \"ND\": \"N.D.\",\n",
    "    \"OH\": \"Ohio\",\n",
    "    \"OK\": \"Okla.\",\n",
    "    \"OR\": \"Ore.\",\n",
    "    \"PA\": \"Pa.\",\n",
    "    \"RI\": \"R.I.\",\n",
    "    \"SC\": \"S.C.\",\n",
    "    \"SD\": \"S.D.\",\n",
    "    \"TX\": \"Texas\",\n",
    "    \"TN\": \"Tenn.\",\n",
    "    \"VT\": \"Vt.\",\n",
    "    \"VA\": \"Va.\",\n",
    "    \"WA\": \"Wash.\",\n",
    "    \"WV\": \"W.Va.\",\n",
    "    \"WI\": \"Wis.\",\n",
    "    \"WY\": \"Wyo\",\n",
    "}"
   ]
  },
  {
   "cell_type": "code",
   "execution_count": 9,
   "metadata": {},
   "outputs": [],
   "source": [
    "src = pd.concat([processdict(j) for j in jsons], sort=False)"
   ]
  },
  {
   "cell_type": "code",
   "execution_count": 10,
   "metadata": {},
   "outputs": [],
   "source": [
    "src[\"apstate\"] = src[\"state\"].map(ap_states)"
   ]
  },
  {
   "cell_type": "code",
   "execution_count": 11,
   "metadata": {},
   "outputs": [],
   "source": [
    "src[\"full_name\"] = src[\"first_name\"] + \" \" + src[\"last_name\"]"
   ]
  },
  {
   "cell_type": "code",
   "execution_count": 19,
   "metadata": {},
   "outputs": [
    {
     "data": {
      "text/plain": [
       "id                                                                   A000370\n",
       "title                                                         Representative\n",
       "short_title                                                             Rep.\n",
       "api_uri                    https://api.propublica.org/congress/v1/members...\n",
       "first_name                                                              Alma\n",
       "middle_name                                                             None\n",
       "last_name                                                              Adams\n",
       "suffix                                                                  None\n",
       "date_of_birth                                                     1946-05-27\n",
       "gender                                                                     F\n",
       "party                                                                      D\n",
       "leadership_role                                                         None\n",
       "twitter_account                                                     RepAdams\n",
       "facebook_account                                          CongresswomanAdams\n",
       "youtube_account                                                         None\n",
       "govtrack_id                                                           412607\n",
       "cspan_id                                                               76386\n",
       "votesmart_id                                                            5935\n",
       "icpsr_id                                                               21545\n",
       "crp_id                                                             N00035451\n",
       "google_entity_id                                                   /m/02b45d\n",
       "fec_candidate_id                                                   H4NC12100\n",
       "url                                                  https://adams.house.gov\n",
       "rss_url                                      https://adams.house.gov/rss.xml\n",
       "contact_form                                                            None\n",
       "in_office                                                               True\n",
       "cook_pvi                                                                None\n",
       "dw_nominate                                                           -0.465\n",
       "ideal_point                                                             None\n",
       "seniority                                                                 10\n",
       "next_election                                                           2022\n",
       "total_votes                                                            449.0\n",
       "missed_votes                                                             3.0\n",
       "total_present                                                            0.0\n",
       "last_updated                                       2022-01-03 15:48:23 -0500\n",
       "ocd_id                                ocd-division/country:us/state:nc/cd:12\n",
       "office                                    2436 Rayburn House Office Building\n",
       "phone                                                           202-225-1510\n",
       "fax                                                                     None\n",
       "state                                                                     NC\n",
       "district                                                                  12\n",
       "at_large                                                               False\n",
       "geoid                                                                   3712\n",
       "missed_votes_pct                                                        0.67\n",
       "votes_with_party_pct                                                   98.65\n",
       "votes_against_party_pct                                                  0.9\n",
       "chamber                                                                house\n",
       "session                                                                  117\n",
       "senate_class                                                             NaN\n",
       "state_rank                                                               NaN\n",
       "lis_id                                                                   NaN\n",
       "apstate                                                                 N.C.\n",
       "full_name                                                         Alma Adams\n",
       "Name: 0, dtype: object"
      ]
     },
     "execution_count": 19,
     "metadata": {},
     "output_type": "execute_result"
    }
   ],
   "source": [
    "src.iloc[0]"
   ]
  },
  {
   "cell_type": "code",
   "execution_count": 13,
   "metadata": {},
   "outputs": [],
   "source": [
    "df = src[\n",
    "    [\n",
    "        \"id\",\n",
    "        \"seniority\",\n",
    "        \"full_name\",\n",
    "        \"apstate\",\n",
    "        \"first_name\",\n",
    "        \"last_name\",\n",
    "        \"chamber\",\n",
    "        \"session\",\n",
    "        \"state\",\n",
    "        \"party\",\n",
    "        \"dw_nominate\",\n",
    "        \"votes_with_party_pct\",\n",
    "    ]\n",
    "]"
   ]
  },
  {
   "cell_type": "code",
   "execution_count": 14,
   "metadata": {},
   "outputs": [
    {
     "data": {
      "text/plain": [
       "548"
      ]
     },
     "execution_count": 14,
     "metadata": {},
     "output_type": "execute_result"
    }
   ],
   "source": [
    "len(df)"
   ]
  },
  {
   "cell_type": "code",
   "execution_count": 20,
   "metadata": {},
   "outputs": [
    {
     "data": {
      "text/html": [
       "<div>\n",
       "<style scoped>\n",
       "    .dataframe tbody tr th:only-of-type {\n",
       "        vertical-align: middle;\n",
       "    }\n",
       "\n",
       "    .dataframe tbody tr th {\n",
       "        vertical-align: top;\n",
       "    }\n",
       "\n",
       "    .dataframe thead th {\n",
       "        text-align: right;\n",
       "    }\n",
       "</style>\n",
       "<table border=\"1\" class=\"dataframe\">\n",
       "  <thead>\n",
       "    <tr style=\"text-align: right;\">\n",
       "      <th></th>\n",
       "      <th>id</th>\n",
       "      <th>seniority</th>\n",
       "      <th>full_name</th>\n",
       "      <th>apstate</th>\n",
       "      <th>first_name</th>\n",
       "      <th>last_name</th>\n",
       "      <th>chamber</th>\n",
       "      <th>session</th>\n",
       "      <th>state</th>\n",
       "      <th>party</th>\n",
       "      <th>dw_nominate</th>\n",
       "      <th>votes_with_party_pct</th>\n",
       "    </tr>\n",
       "  </thead>\n",
       "  <tbody>\n",
       "    <tr>\n",
       "      <th>0</th>\n",
       "      <td>A000370</td>\n",
       "      <td>10</td>\n",
       "      <td>Alma Adams</td>\n",
       "      <td>N.C.</td>\n",
       "      <td>Alma</td>\n",
       "      <td>Adams</td>\n",
       "      <td>house</td>\n",
       "      <td>117</td>\n",
       "      <td>NC</td>\n",
       "      <td>D</td>\n",
       "      <td>-0.465</td>\n",
       "      <td>98.65</td>\n",
       "    </tr>\n",
       "    <tr>\n",
       "      <th>1</th>\n",
       "      <td>A000055</td>\n",
       "      <td>26</td>\n",
       "      <td>Robert Aderholt</td>\n",
       "      <td>Ala.</td>\n",
       "      <td>Robert</td>\n",
       "      <td>Aderholt</td>\n",
       "      <td>house</td>\n",
       "      <td>117</td>\n",
       "      <td>AL</td>\n",
       "      <td>R</td>\n",
       "      <td>0.376</td>\n",
       "      <td>97.02</td>\n",
       "    </tr>\n",
       "    <tr>\n",
       "      <th>2</th>\n",
       "      <td>A000371</td>\n",
       "      <td>8</td>\n",
       "      <td>Pete Aguilar</td>\n",
       "      <td>Calif.</td>\n",
       "      <td>Pete</td>\n",
       "      <td>Aguilar</td>\n",
       "      <td>house</td>\n",
       "      <td>117</td>\n",
       "      <td>CA</td>\n",
       "      <td>D</td>\n",
       "      <td>-0.294</td>\n",
       "      <td>98.43</td>\n",
       "    </tr>\n",
       "    <tr>\n",
       "      <th>3</th>\n",
       "      <td>A000372</td>\n",
       "      <td>8</td>\n",
       "      <td>Rick Allen</td>\n",
       "      <td>Ga.</td>\n",
       "      <td>Rick</td>\n",
       "      <td>Allen</td>\n",
       "      <td>house</td>\n",
       "      <td>117</td>\n",
       "      <td>GA</td>\n",
       "      <td>R</td>\n",
       "      <td>0.696</td>\n",
       "      <td>93.12</td>\n",
       "    </tr>\n",
       "    <tr>\n",
       "      <th>4</th>\n",
       "      <td>A000376</td>\n",
       "      <td>4</td>\n",
       "      <td>Colin Allred</td>\n",
       "      <td>Texas</td>\n",
       "      <td>Colin</td>\n",
       "      <td>Allred</td>\n",
       "      <td>house</td>\n",
       "      <td>117</td>\n",
       "      <td>TX</td>\n",
       "      <td>D</td>\n",
       "      <td>NaN</td>\n",
       "      <td>97.54</td>\n",
       "    </tr>\n",
       "    <tr>\n",
       "      <th>5</th>\n",
       "      <td>A000369</td>\n",
       "      <td>12</td>\n",
       "      <td>Mark Amodei</td>\n",
       "      <td>Nev.</td>\n",
       "      <td>Mark</td>\n",
       "      <td>Amodei</td>\n",
       "      <td>house</td>\n",
       "      <td>117</td>\n",
       "      <td>NV</td>\n",
       "      <td>R</td>\n",
       "      <td>0.380</td>\n",
       "      <td>95.43</td>\n",
       "    </tr>\n",
       "    <tr>\n",
       "      <th>6</th>\n",
       "      <td>A000377</td>\n",
       "      <td>4</td>\n",
       "      <td>Kelly Armstrong</td>\n",
       "      <td>N.D.</td>\n",
       "      <td>Kelly</td>\n",
       "      <td>Armstrong</td>\n",
       "      <td>house</td>\n",
       "      <td>117</td>\n",
       "      <td>ND</td>\n",
       "      <td>R</td>\n",
       "      <td>NaN</td>\n",
       "      <td>95.19</td>\n",
       "    </tr>\n",
       "    <tr>\n",
       "      <th>7</th>\n",
       "      <td>A000375</td>\n",
       "      <td>6</td>\n",
       "      <td>Jodey Arrington</td>\n",
       "      <td>Texas</td>\n",
       "      <td>Jodey</td>\n",
       "      <td>Arrington</td>\n",
       "      <td>house</td>\n",
       "      <td>117</td>\n",
       "      <td>TX</td>\n",
       "      <td>R</td>\n",
       "      <td>0.648</td>\n",
       "      <td>89.31</td>\n",
       "    </tr>\n",
       "    <tr>\n",
       "      <th>8</th>\n",
       "      <td>A000148</td>\n",
       "      <td>2</td>\n",
       "      <td>Jake Auchincloss</td>\n",
       "      <td>Mass.</td>\n",
       "      <td>Jake</td>\n",
       "      <td>Auchincloss</td>\n",
       "      <td>house</td>\n",
       "      <td>117</td>\n",
       "      <td>MA</td>\n",
       "      <td>D</td>\n",
       "      <td>NaN</td>\n",
       "      <td>98.65</td>\n",
       "    </tr>\n",
       "    <tr>\n",
       "      <th>9</th>\n",
       "      <td>A000378</td>\n",
       "      <td>4</td>\n",
       "      <td>Cynthia Axne</td>\n",
       "      <td>Iowa</td>\n",
       "      <td>Cynthia</td>\n",
       "      <td>Axne</td>\n",
       "      <td>house</td>\n",
       "      <td>117</td>\n",
       "      <td>IA</td>\n",
       "      <td>D</td>\n",
       "      <td>NaN</td>\n",
       "      <td>96.87</td>\n",
       "    </tr>\n",
       "  </tbody>\n",
       "</table>\n",
       "</div>"
      ],
      "text/plain": [
       "        id seniority         full_name apstate first_name    last_name  \\\n",
       "0  A000370        10        Alma Adams    N.C.       Alma        Adams   \n",
       "1  A000055        26   Robert Aderholt    Ala.     Robert     Aderholt   \n",
       "2  A000371         8      Pete Aguilar  Calif.       Pete      Aguilar   \n",
       "3  A000372         8        Rick Allen     Ga.       Rick        Allen   \n",
       "4  A000376         4      Colin Allred   Texas      Colin       Allred   \n",
       "5  A000369        12       Mark Amodei    Nev.       Mark       Amodei   \n",
       "6  A000377         4   Kelly Armstrong    N.D.      Kelly    Armstrong   \n",
       "7  A000375         6   Jodey Arrington   Texas      Jodey    Arrington   \n",
       "8  A000148         2  Jake Auchincloss   Mass.       Jake  Auchincloss   \n",
       "9  A000378         4      Cynthia Axne    Iowa    Cynthia         Axne   \n",
       "\n",
       "  chamber  session state party  dw_nominate  votes_with_party_pct  \n",
       "0   house      117    NC     D       -0.465                 98.65  \n",
       "1   house      117    AL     R        0.376                 97.02  \n",
       "2   house      117    CA     D       -0.294                 98.43  \n",
       "3   house      117    GA     R        0.696                 93.12  \n",
       "4   house      117    TX     D          NaN                 97.54  \n",
       "5   house      117    NV     R        0.380                 95.43  \n",
       "6   house      117    ND     R          NaN                 95.19  \n",
       "7   house      117    TX     R        0.648                 89.31  \n",
       "8   house      117    MA     D          NaN                 98.65  \n",
       "9   house      117    IA     D          NaN                 96.87  "
      ]
     },
     "execution_count": 20,
     "metadata": {},
     "output_type": "execute_result"
    }
   ],
   "source": [
    "df.head(10)"
   ]
  },
  {
   "cell_type": "markdown",
   "metadata": {},
   "source": [
    "---"
   ]
  },
  {
   "cell_type": "markdown",
   "metadata": {},
   "source": [
    "### Export"
   ]
  },
  {
   "cell_type": "code",
   "execution_count": 16,
   "metadata": {},
   "outputs": [],
   "source": [
    "df.to_csv(\"output/members_of_congress_117.csv\")"
   ]
  }
 ],
 "metadata": {
  "kernelspec": {
   "display_name": "Python 3",
   "language": "python",
   "name": "python3"
  },
  "language_info": {
   "codemirror_mode": {
    "name": "ipython",
    "version": 3
   },
   "file_extension": ".py",
   "mimetype": "text/x-python",
   "name": "python",
   "nbconvert_exporter": "python",
   "pygments_lexer": "ipython3",
   "version": "3.8.8"
  }
 },
 "nbformat": 4,
 "nbformat_minor": 4
}
