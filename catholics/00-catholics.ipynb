{
 "cells": [
  {
   "cell_type": "code",
   "execution_count": 1,
   "id": "ddeae499-2066-422e-abb7-7e46e454c206",
   "metadata": {},
   "outputs": [],
   "source": [
    "%load_ext lab_black"
   ]
  },
  {
   "cell_type": "code",
   "execution_count": 2,
   "id": "47235615-5bc1-4a27-ab89-d4518546539b",
   "metadata": {},
   "outputs": [],
   "source": [
    "import requests\n",
    "import urllib.request\n",
    "import numpy as np"
   ]
  },
  {
   "cell_type": "code",
   "execution_count": 3,
   "id": "36264fb6-6e50-4a62-a457-6c7be314e9c1",
   "metadata": {},
   "outputs": [],
   "source": [
    "import pandas as pd\n",
    "import gspread\n",
    "from oauth2client.service_account import ServiceAccountCredentials"
   ]
  },
  {
   "cell_type": "code",
   "execution_count": 4,
   "id": "fd6a702d-411d-4f24-88ce-c6f790ce419c",
   "metadata": {},
   "outputs": [],
   "source": [
    "from datawrapper import Datawrapper\n",
    "\n",
    "dw = Datawrapper(\n",
    "    access_token=\"FtIwtvFtoGLaRT9a3gjX69PLu4wSuRyKddoOz6SOPw3k9wWyNICMHTkcPhOGCR5Z\"\n",
    ")"
   ]
  },
  {
   "cell_type": "code",
   "execution_count": 5,
   "id": "76a0716b-1f17-4aea-8e1d-2db2a042ce21",
   "metadata": {},
   "outputs": [],
   "source": [
    "# scope = ['https://spreadsheets.google.com/feeds']\n",
    "# credentials = ServiceAccountCredentials.from_json_keyfile_name('jupyter-integration-349314-25735d35924b.json', scope)\n",
    "# gc = gspread.authorize(credentials)"
   ]
  },
  {
   "cell_type": "code",
   "execution_count": 6,
   "id": "4845909c-e910-4551-ae8f-8275f4dd6a58",
   "metadata": {},
   "outputs": [],
   "source": [
    "# spreadsheet_key = \"1sCb1YbQ3-1oiL-cnK0yCkwFcQpvpf0efIngAUeC1ixo\"\n",
    "# book = gc.open_by_key(spreadsheet_key)"
   ]
  },
  {
   "cell_type": "code",
   "execution_count": 7,
   "id": "85e73ce6-98bb-4740-ad54-2692d2ae401b",
   "metadata": {},
   "outputs": [],
   "source": [
    "pd.options.display.max_columns = 1000\n",
    "pd.options.display.max_rows = 1000"
   ]
  },
  {
   "cell_type": "code",
   "execution_count": 8,
   "id": "99515c07-c9f1-4c54-bf94-7ceb424740fe",
   "metadata": {},
   "outputs": [],
   "source": [
    "import geopandas as gpd"
   ]
  },
  {
   "cell_type": "code",
   "execution_count": 10,
   "id": "ad4f1e63-1b30-4891-97a2-322c270bb4a7",
   "metadata": {},
   "outputs": [],
   "source": [
    "import bs4"
   ]
  },
  {
   "cell_type": "code",
   "execution_count": 11,
   "id": "b6010146-e112-4372-8c8f-ca4fc8102e18",
   "metadata": {},
   "outputs": [],
   "source": [
    "url = \"http://www.catholic-hierarchy.org/country/sc1.html\""
   ]
  },
  {
   "cell_type": "code",
   "execution_count": 12,
   "id": "04998b11-0435-4182-b908-17810c448b33",
   "metadata": {},
   "outputs": [
    {
     "data": {
      "text/plain": [
       "<Response [406]>"
      ]
     },
     "execution_count": 12,
     "metadata": {},
     "output_type": "execute_result"
    }
   ],
   "source": [
    "requests.get(url)"
   ]
  },
  {
   "cell_type": "code",
   "execution_count": null,
   "id": "1be8110a-c1a9-42b1-a610-dfd5bd3b79cf",
   "metadata": {},
   "outputs": [],
   "source": []
  }
 ],
 "metadata": {
  "kernelspec": {
   "display_name": "Python 3 (ipykernel)",
   "language": "python",
   "name": "python3"
  },
  "language_info": {
   "codemirror_mode": {
    "name": "ipython",
    "version": 3
   },
   "file_extension": ".py",
   "mimetype": "text/x-python",
   "name": "python",
   "nbconvert_exporter": "python",
   "pygments_lexer": "ipython3",
   "version": "3.8.9"
  }
 },
 "nbformat": 4,
 "nbformat_minor": 5
}
