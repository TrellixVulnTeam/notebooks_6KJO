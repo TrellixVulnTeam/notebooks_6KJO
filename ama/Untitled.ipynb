{
 "cells": [
  {
   "cell_type": "markdown",
   "id": "5416b317-e81d-4e88-ae17-dd1f96e38185",
   "metadata": {},
   "source": [
    "# Scraping AMA"
   ]
  },
  {
   "cell_type": "code",
   "execution_count": 1,
   "id": "d8acc766-1d86-4862-8d9c-a1d459d437b3",
   "metadata": {},
   "outputs": [],
   "source": [
    "import requests\n",
    "import json\n",
    "import pandas as pd\n",
    "from bs4 import BeautifulSoup"
   ]
  },
  {
   "cell_type": "code",
   "execution_count": 3,
   "id": "c5479090-ed9d-45e3-9ac4-54f40a39654c",
   "metadata": {},
   "outputs": [],
   "source": [
    "import requests\n",
    "from bs4 import BeautifulSoup\n",
    " \n",
    "base_url = 'https://freida.ama-assn.org/search/list?spec=42931&page=1'\n",
    "r = requests.get(base_url)\n",
    "soup = BeautifulSoup(r.text)"
   ]
  },
  {
   "cell_type": "code",
   "execution_count": 6,
   "id": "29fd3b28-f0b8-440e-9d07-e74b150a75be",
   "metadata": {},
   "outputs": [],
   "source": [
    "cards = soup.find_all(\"div\", class_=\"search-result-card\")"
   ]
  },
  {
   "cell_type": "code",
   "execution_count": 34,
   "id": "aa617bf1-13bb-4a0b-8404-51dbd12f4264",
   "metadata": {},
   "outputs": [
    {
     "name": "stdout",
     "output_type": "stream",
     "text": [
      "University of Alabama Medical Center Program\n",
      "USA Health Program\n",
      "University of Arkansas for Medical Sciences (UAMS) College of Medicine Program\n",
      "University of Arizona College of Medicine-Phoenix Program\n",
      "Creighton University School of Medicine (Phoenix) Program\n",
      "University of Arizona College of Medicine-Tucson Program\n",
      "Kern Medical Center Program\n",
      "Arrowhead Regional Medical Center Program\n",
      "University of California (San Francisco)/Fresno Program\n",
      "University of California (San Diego) Medical Center Program\n",
      "Loma Linda University Health Education Consortium Program\n",
      "UCLA David Geffen School of Medicine/UCLA Medical Center Program\n",
      "University of Southern California/LAC+USC Medical Center Program\n",
      "Kaiser Permanente Southern California (Los Angeles) Program\n",
      "Adventist Health White Memorial Program\n",
      "Cedars-Sinai Medical Center Program\n",
      "UHS Southern California Medical Education Consortium Program\n",
      "Kaiser Permanente Northern California (Oakland) Program\n",
      "University of California (Irvine) Program\n",
      "Stanford Health Care-Sponsored Stanford University Program\n",
      "HCA Healthcare Riverside Program\n",
      "University of California Davis Health Program\n",
      "Naval Medical Center (San Diego) Program\n",
      "Kaiser Permanente Northern California (San Francisco) Program\n",
      "University of California (San Francisco) Program\n"
     ]
    }
   ],
   "source": [
    "for card in cards:\n",
    "    headlines = card.find_all(\"h4\")\n",
    "    for headline in headlines: \n",
    "        print(headline.text)"
   ]
  },
  {
   "cell_type": "code",
   "execution_count": 32,
   "id": "14f723ef-313e-4bc6-926f-ed8037b78365",
   "metadata": {},
   "outputs": [
    {
     "data": {
      "text/plain": [
       "[<h4 _ngcontent-sc157=\"\">University of California (San Francisco) Program</h4>]"
      ]
     },
     "execution_count": 32,
     "metadata": {},
     "output_type": "execute_result"
    }
   ],
   "source": [
    "headlines"
   ]
  },
  {
   "cell_type": "code",
   "execution_count": null,
   "id": "3afcff6e-1013-4356-a839-767adc79a773",
   "metadata": {},
   "outputs": [],
   "source": []
  }
 ],
 "metadata": {
  "kernelspec": {
   "display_name": "Python 3 (ipykernel)",
   "language": "python",
   "name": "python3"
  },
  "language_info": {
   "codemirror_mode": {
    "name": "ipython",
    "version": 3
   },
   "file_extension": ".py",
   "mimetype": "text/x-python",
   "name": "python",
   "nbconvert_exporter": "python",
   "pygments_lexer": "ipython3",
   "version": "3.8.9"
  }
 },
 "nbformat": 4,
 "nbformat_minor": 5
}
