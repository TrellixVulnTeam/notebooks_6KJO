{
 "cells": [
  {
   "cell_type": "markdown",
   "id": "7fb0c6cb-0b16-4831-bc66-0526d10580cc",
   "metadata": {},
   "source": [
    "# State of the Union analytics"
   ]
  },
  {
   "cell_type": "code",
   "execution_count": 1,
   "id": "13c43020-1d0c-4fff-8758-875a17beb0e4",
   "metadata": {},
   "outputs": [],
   "source": [
    "%load_ext lab_black"
   ]
  },
  {
   "cell_type": "code",
   "execution_count": 2,
   "id": "986c976f-483a-46b9-8420-b6543e081809",
   "metadata": {},
   "outputs": [],
   "source": [
    "import pandas as pd\n",
    "import glob\n",
    "import altair as alt\n",
    "import numpy as np"
   ]
  },
  {
   "cell_type": "code",
   "execution_count": 3,
   "id": "f739adf3-df87-42fb-8274-47fe368a57a9",
   "metadata": {},
   "outputs": [],
   "source": [
    "pd.options.display.max_columns = 1000\n",
    "pd.options.display.max_rows = 1500"
   ]
  },
  {
   "cell_type": "markdown",
   "id": "4e008bc7-3438-4dd6-8f2d-96ac59dbb03c",
   "metadata": {},
   "source": [
    "----"
   ]
  },
  {
   "cell_type": "markdown",
   "id": "5536d439-810b-410a-ae7e-7adf0934a643",
   "metadata": {},
   "source": [
    "## List of presidents"
   ]
  },
  {
   "cell_type": "code",
   "execution_count": 4,
   "id": "51b920d2-27ff-469d-9266-b782965c872d",
   "metadata": {},
   "outputs": [],
   "source": [
    "pres_src = pd.read_html(\n",
    "    \"https://history.house.gov/Institution/Presidents-Coinciding/Presidents-Coinciding/\"\n",
    ")[0]"
   ]
  },
  {
   "cell_type": "markdown",
   "id": "9a70712f-3bde-4417-9dae-9832db348c76",
   "metadata": {},
   "source": [
    "#### Slim down the number of columns and clean up strings"
   ]
  },
  {
   "cell_type": "code",
   "execution_count": 5,
   "id": "06d39085-da2d-44f3-95d0-67d4c4572901",
   "metadata": {},
   "outputs": [],
   "source": [
    "pres_df = pres_src[~pres_src[\"No.\"].isnull()][[\"No.\", \"President\"]]"
   ]
  },
  {
   "cell_type": "code",
   "execution_count": 6,
   "id": "a3d34410-53fc-4851-93af-6b777cd8b6a5",
   "metadata": {},
   "outputs": [],
   "source": [
    "pres_df.columns = pres_df.columns.str.lower().str.replace(\".\", \"\", regex=False)\n",
    "pres_df[\"president\"] = pres_df[\"president\"].str.strip()\n",
    "pres_df[\"president\"] = (\n",
    "    pres_df[\"president\"]\n",
    "    .str.replace(\"\\d+\", \"\", regex=True)\n",
    "    .str.replace(\"Van Buren\", \"van Buren\", regex=False)\n",
    "    .str.replace(\"James K. Polk\", \"James Polk\", regex=False)\n",
    "    .str.replace(\"Richard M. Nixon\", \"Richard Nixon\", regex=False)\n",
    "    .str.replace(\"George Bush\", \"George H.W. Bush\", regex=False)\n",
    "    .str.replace(\"Barack H. Obama\", \"Barack Obama\", regex=False)\n",
    "    .str.replace(\"Joseph R. Biden, Jr.\", \"Joseph R. Biden\", regex=False)\n",
    "    .str.replace(\"Herbert C. Hoover\", \"Herbert Hoover\", regex=False)\n",
    "    .str.replace(\"Warren G. Harding\", \"Warren Harding\", regex=False)\n",
    "    .str.replace(\"James Earl Carter\", \"Jimmy Carter\", regex=False)\n",
    ")\n",
    "pres_df[\"no\"] = pres_df[\"no\"].astype(str).str.replace(\".0\", \"\", regex=False).astype(int)"
   ]
  },
  {
   "cell_type": "markdown",
   "id": "b5bce92e-387c-4faa-98cb-9cc946cce3ad",
   "metadata": {},
   "source": [
    "#### What's left?"
   ]
  },
  {
   "cell_type": "code",
   "execution_count": 7,
   "id": "314122d5-add2-433e-bb65-397c14e813ec",
   "metadata": {},
   "outputs": [
    {
     "data": {
      "text/html": [
       "<div>\n",
       "<style scoped>\n",
       "    .dataframe tbody tr th:only-of-type {\n",
       "        vertical-align: middle;\n",
       "    }\n",
       "\n",
       "    .dataframe tbody tr th {\n",
       "        vertical-align: top;\n",
       "    }\n",
       "\n",
       "    .dataframe thead th {\n",
       "        text-align: right;\n",
       "    }\n",
       "</style>\n",
       "<table border=\"1\" class=\"dataframe\">\n",
       "  <thead>\n",
       "    <tr style=\"text-align: right;\">\n",
       "      <th></th>\n",
       "      <th>no</th>\n",
       "      <th>president</th>\n",
       "    </tr>\n",
       "  </thead>\n",
       "  <tbody>\n",
       "    <tr>\n",
       "      <th>0</th>\n",
       "      <td>1</td>\n",
       "      <td>George Washington</td>\n",
       "    </tr>\n",
       "    <tr>\n",
       "      <th>1</th>\n",
       "      <td>2</td>\n",
       "      <td>John Adams</td>\n",
       "    </tr>\n",
       "    <tr>\n",
       "      <th>2</th>\n",
       "      <td>3</td>\n",
       "      <td>Thomas Jefferson</td>\n",
       "    </tr>\n",
       "    <tr>\n",
       "      <th>4</th>\n",
       "      <td>4</td>\n",
       "      <td>James Madison</td>\n",
       "    </tr>\n",
       "    <tr>\n",
       "      <th>6</th>\n",
       "      <td>5</td>\n",
       "      <td>James Monroe</td>\n",
       "    </tr>\n",
       "  </tbody>\n",
       "</table>\n",
       "</div>"
      ],
      "text/plain": [
       "   no          president\n",
       "0   1  George Washington\n",
       "1   2         John Adams\n",
       "2   3   Thomas Jefferson\n",
       "4   4      James Madison\n",
       "6   5       James Monroe"
      ]
     },
     "execution_count": 7,
     "metadata": {},
     "output_type": "execute_result"
    }
   ],
   "source": [
    "pres_df.head()"
   ]
  },
  {
   "cell_type": "markdown",
   "id": "54e1f53d-3cff-45fe-9033-857aa46042f4",
   "metadata": {},
   "source": [
    "---"
   ]
  },
  {
   "cell_type": "markdown",
   "id": "f71c6162-3ef9-427a-b5c4-fbd4b9220819",
   "metadata": {},
   "source": [
    "## SOTU analytics"
   ]
  },
  {
   "cell_type": "code",
   "execution_count": 8,
   "id": "3df161e0-b93a-4f9a-b97d-844bd8daf7f7",
   "metadata": {},
   "outputs": [],
   "source": [
    "#### http://stateoftheunion.onetwothree.net/data/documentsData.json"
   ]
  },
  {
   "cell_type": "markdown",
   "id": "c01356ad-372c-4509-9895-d30a63bca12b",
   "metadata": {},
   "source": [
    "#### Read data"
   ]
  },
  {
   "cell_type": "code",
   "execution_count": 9,
   "id": "38c6f42f-d9e9-409d-ad65-f4185ca7148f",
   "metadata": {},
   "outputs": [],
   "source": [
    "src = pd.read_json(\"data/raw/documentsData.json\").T.reset_index()"
   ]
  },
  {
   "cell_type": "markdown",
   "id": "0c31aef4-1c39-4329-b828-cfafa033e076",
   "metadata": {},
   "source": [
    "#### Dates"
   ]
  },
  {
   "cell_type": "code",
   "execution_count": 10,
   "id": "5280a9ff-d485-49a5-a96e-87d22a3c4c9c",
   "metadata": {},
   "outputs": [],
   "source": [
    "src[\"date\"] = pd.to_datetime(src[\"index\"]).copy()\n",
    "src[\"year\"] = src[\"date\"].dt.year"
   ]
  },
  {
   "cell_type": "markdown",
   "id": "688419a3-d16c-4016-8321-e2c088660ec2",
   "metadata": {},
   "source": [
    "#### Prepare president column for join"
   ]
  },
  {
   "cell_type": "code",
   "execution_count": 11,
   "id": "3a9d33b7-9b8e-49d2-9c47-4859421450e8",
   "metadata": {},
   "outputs": [],
   "source": [
    "src[\"author\"] = src[\"author\"].str.strip()\n",
    "src.rename(columns={\"author\": \"president\"}, inplace=True)"
   ]
  },
  {
   "cell_type": "markdown",
   "id": "727a1374-ef46-486e-96c6-e63c03d77c45",
   "metadata": {},
   "source": [
    "#### Top words"
   ]
  },
  {
   "cell_type": "code",
   "execution_count": 12,
   "id": "0e447f35-fa1c-46cb-a22e-6df0ce730eeb",
   "metadata": {},
   "outputs": [],
   "source": [
    "words = []\n",
    "\n",
    "for r in range(0, 234):\n",
    "    words.append(\n",
    "        pd.json_normalize(src[\"wordList\"][r])\n",
    "        .sort_values(\"freq\", ascending=False)\n",
    "        .reset_index(drop=True)\n",
    "        .iloc[0, 0]\n",
    "    )"
   ]
  },
  {
   "cell_type": "markdown",
   "id": "3c126539-a18d-45bc-b0f6-471f27719bf4",
   "metadata": {},
   "source": [
    "#### Slim down the columns we need"
   ]
  },
  {
   "cell_type": "code",
   "execution_count": 13,
   "id": "45bb52bf-2ea9-4c67-a053-b91ba8d0bed2",
   "metadata": {},
   "outputs": [],
   "source": [
    "df = src[\n",
    "    [\n",
    "        \"date\",\n",
    "        \"year\",\n",
    "        \"president\",\n",
    "        \"maxFreq\",\n",
    "        \"numberOfSentences\",\n",
    "        \"numberOfWords\",\n",
    "        \"numberOfSyllables\",\n",
    "        \"fleschKincaid\",\n",
    "        \"wordList\",\n",
    "    ]\n",
    "]"
   ]
  },
  {
   "cell_type": "markdown",
   "id": "ff27886b-5f62-4545-a875-9f41a910fec7",
   "metadata": {},
   "source": [
    "#### Merge the presidents list and the analytics"
   ]
  },
  {
   "cell_type": "code",
   "execution_count": 14,
   "id": "6ff469d5-1a9b-4702-8115-d173bda44a5c",
   "metadata": {},
   "outputs": [],
   "source": [
    "merge = pd.merge(df, pres_df, on=\"president\", how=\"inner\").drop_duplicates(\n",
    "    subset=[\"date\", \"president\"]\n",
    ")"
   ]
  },
  {
   "cell_type": "code",
   "execution_count": 15,
   "id": "0c8cbaa7-47b3-45f3-a2a4-9512fa0f6c0c",
   "metadata": {},
   "outputs": [
    {
     "data": {
      "text/html": [
       "<div>\n",
       "<style scoped>\n",
       "    .dataframe tbody tr th:only-of-type {\n",
       "        vertical-align: middle;\n",
       "    }\n",
       "\n",
       "    .dataframe tbody tr th {\n",
       "        vertical-align: top;\n",
       "    }\n",
       "\n",
       "    .dataframe thead th {\n",
       "        text-align: right;\n",
       "    }\n",
       "</style>\n",
       "<table border=\"1\" class=\"dataframe\">\n",
       "  <thead>\n",
       "    <tr style=\"text-align: right;\">\n",
       "      <th></th>\n",
       "      <th>date</th>\n",
       "      <th>year</th>\n",
       "      <th>president</th>\n",
       "      <th>maxFreq</th>\n",
       "      <th>numberOfSentences</th>\n",
       "      <th>numberOfWords</th>\n",
       "      <th>numberOfSyllables</th>\n",
       "      <th>fleschKincaid</th>\n",
       "      <th>wordList</th>\n",
       "      <th>no</th>\n",
       "    </tr>\n",
       "  </thead>\n",
       "  <tbody>\n",
       "    <tr>\n",
       "      <th>0</th>\n",
       "      <td>1790-01-08</td>\n",
       "      <td>1790</td>\n",
       "      <td>George Washington</td>\n",
       "      <td>3</td>\n",
       "      <td>24</td>\n",
       "      <td>1085</td>\n",
       "      <td>1869</td>\n",
       "      <td>22.367702</td>\n",
       "      <td>[{'word': 'aggressors', 'position': 0.36129034...</td>\n",
       "      <td>1</td>\n",
       "    </tr>\n",
       "    <tr>\n",
       "      <th>1</th>\n",
       "      <td>1790-12-08</td>\n",
       "      <td>1790</td>\n",
       "      <td>George Washington</td>\n",
       "      <td>3</td>\n",
       "      <td>40</td>\n",
       "      <td>1403</td>\n",
       "      <td>2288</td>\n",
       "      <td>17.332584</td>\n",
       "      <td>[{'word': '3,000,000', 'position': 0.13114753,...</td>\n",
       "      <td>1</td>\n",
       "    </tr>\n",
       "    <tr>\n",
       "      <th>2</th>\n",
       "      <td>1791-10-25</td>\n",
       "      <td>1791</td>\n",
       "      <td>George Washington</td>\n",
       "      <td>7</td>\n",
       "      <td>60</td>\n",
       "      <td>2304</td>\n",
       "      <td>3937</td>\n",
       "      <td>19.549458</td>\n",
       "      <td>[{'word': '2,500,000', 'position': 0.59071183,...</td>\n",
       "      <td>1</td>\n",
       "    </tr>\n",
       "    <tr>\n",
       "      <th>3</th>\n",
       "      <td>1792-11-06</td>\n",
       "      <td>1792</td>\n",
       "      <td>George Washington</td>\n",
       "      <td>8</td>\n",
       "      <td>61</td>\n",
       "      <td>2099</td>\n",
       "      <td>3492</td>\n",
       "      <td>17.460896</td>\n",
       "      <td>[{'word': '4.5%', 'position': 0.8027632, 'freq...</td>\n",
       "      <td>1</td>\n",
       "    </tr>\n",
       "    <tr>\n",
       "      <th>4</th>\n",
       "      <td>1793-12-03</td>\n",
       "      <td>1793</td>\n",
       "      <td>George Washington</td>\n",
       "      <td>24</td>\n",
       "      <td>56</td>\n",
       "      <td>1965</td>\n",
       "      <td>3233</td>\n",
       "      <td>17.509274</td>\n",
       "      <td>[{'word': '3%', 'position': 0.8122136999999999...</td>\n",
       "      <td>1</td>\n",
       "    </tr>\n",
       "  </tbody>\n",
       "</table>\n",
       "</div>"
      ],
      "text/plain": [
       "        date  year          president maxFreq numberOfSentences numberOfWords  \\\n",
       "0 1790-01-08  1790  George Washington       3                24          1085   \n",
       "1 1790-12-08  1790  George Washington       3                40          1403   \n",
       "2 1791-10-25  1791  George Washington       7                60          2304   \n",
       "3 1792-11-06  1792  George Washington       8                61          2099   \n",
       "4 1793-12-03  1793  George Washington      24                56          1965   \n",
       "\n",
       "  numberOfSyllables fleschKincaid  \\\n",
       "0              1869     22.367702   \n",
       "1              2288     17.332584   \n",
       "2              3937     19.549458   \n",
       "3              3492     17.460896   \n",
       "4              3233     17.509274   \n",
       "\n",
       "                                            wordList  no  \n",
       "0  [{'word': 'aggressors', 'position': 0.36129034...   1  \n",
       "1  [{'word': '3,000,000', 'position': 0.13114753,...   1  \n",
       "2  [{'word': '2,500,000', 'position': 0.59071183,...   1  \n",
       "3  [{'word': '4.5%', 'position': 0.8027632, 'freq...   1  \n",
       "4  [{'word': '3%', 'position': 0.8122136999999999...   1  "
      ]
     },
     "execution_count": 15,
     "metadata": {},
     "output_type": "execute_result"
    }
   ],
   "source": [
    "merge.head()"
   ]
  },
  {
   "cell_type": "markdown",
   "id": "56f58edf-b762-4921-b1a1-8b5544cbb314",
   "metadata": {},
   "source": [
    "#### Top words used by all presidents"
   ]
  },
  {
   "cell_type": "code",
   "execution_count": 16,
   "id": "22e695ec-5337-4970-8332-11fbdffe3fbb",
   "metadata": {},
   "outputs": [],
   "source": [
    "words = []\n",
    "\n",
    "for r, p, d in zip(merge.index, merge.president, merge.date):\n",
    "    words.append(pd.json_normalize(merge[\"wordList\"][r]).assign(name=p, date=d))"
   ]
  },
  {
   "cell_type": "code",
   "execution_count": 17,
   "id": "f10b95c4-8a71-40d1-87b7-bd2cd5f639eb",
   "metadata": {},
   "outputs": [],
   "source": [
    "words_df = pd.concat(words)"
   ]
  },
  {
   "cell_type": "code",
   "execution_count": 18,
   "id": "57eaca24-f3ac-4948-9a8a-9f54a640a0cf",
   "metadata": {},
   "outputs": [],
   "source": [
    "top_words = words_df.loc[words_df.groupby(\"date\")[\"freq\"].idxmax()]"
   ]
  },
  {
   "cell_type": "code",
   "execution_count": 19,
   "id": "c48f90d3-5eb0-4477-a509-5f6c5a9e316a",
   "metadata": {},
   "outputs": [
    {
     "data": {
      "text/plain": [
       "55225"
      ]
     },
     "execution_count": 19,
     "metadata": {},
     "output_type": "execute_result"
    }
   ],
   "source": [
    "len(top_words)"
   ]
  },
  {
   "cell_type": "code",
   "execution_count": 20,
   "id": "44f4dd20-ae1d-4409-8a2c-1307916188f8",
   "metadata": {},
   "outputs": [],
   "source": [
    "top_words_freq = top_words.groupby([\"date\", \"name\"])[\"freq\"].max().reset_index()"
   ]
  },
  {
   "cell_type": "code",
   "execution_count": 21,
   "id": "c46cda86-0857-4279-84ea-8d4eb8b31e3d",
   "metadata": {},
   "outputs": [],
   "source": [
    "top_words_years = (\n",
    "    pd.merge(top_words, top_words_freq, on=[\"name\", \"date\", \"freq\"])\n",
    "    .drop_duplicates(subset=[\"name\", \"date\", \"freq\"])\n",
    "    .sort_values(\"date\")\n",
    ")"
   ]
  },
  {
   "cell_type": "code",
   "execution_count": 22,
   "id": "253c75b7-f631-4610-bb5e-0e8c23b4e6be",
   "metadata": {},
   "outputs": [],
   "source": [
    "final = pd.merge(merge, top_words_years, on=[\"date\"])"
   ]
  },
  {
   "cell_type": "code",
   "execution_count": 23,
   "id": "27dde9d3-48c3-42df-bd6f-98087bcedd29",
   "metadata": {},
   "outputs": [
    {
     "data": {
      "text/plain": [
       "Index(['date', 'year', 'president', 'maxFreq', 'numberOfSentences',\n",
       "       'numberOfWords', 'numberOfSyllables', 'fleschKincaid', 'wordList', 'no',\n",
       "       'word', 'position', 'freq', 'corpFreqAsPercent', 'freqAsPercent',\n",
       "       'freqAsPercentDiff', 'LLS', 'L1LLS', 'S', 'alpha', 'df', 'tfIDF',\n",
       "       'name'],\n",
       "      dtype='object')"
      ]
     },
     "execution_count": 23,
     "metadata": {},
     "output_type": "execute_result"
    }
   ],
   "source": [
    "final.columns"
   ]
  },
  {
   "cell_type": "code",
   "execution_count": 24,
   "id": "8afff59e-7d09-439c-867a-1da0a22bc7f0",
   "metadata": {},
   "outputs": [],
   "source": [
    "final_df = final[\n",
    "    [\n",
    "        \"date\",\n",
    "        \"year\",\n",
    "        \"president\",\n",
    "        \"no\",\n",
    "        \"maxFreq\",\n",
    "        \"numberOfSentences\",\n",
    "        \"numberOfWords\",\n",
    "        \"numberOfSyllables\",\n",
    "        \"fleschKincaid\",\n",
    "        \"word\",\n",
    "    ]\n",
    "].copy()"
   ]
  },
  {
   "cell_type": "code",
   "execution_count": 25,
   "id": "ef39f189-6d59-46cb-a187-6dc3f3f98e87",
   "metadata": {},
   "outputs": [],
   "source": [
    "final_df[\"word\"] = final_df[\"word\"].str.lower()"
   ]
  },
  {
   "cell_type": "markdown",
   "id": "a4ea680d-2f5f-4cfc-abdb-c071a72d053b",
   "metadata": {},
   "source": [
    "---"
   ]
  },
  {
   "cell_type": "markdown",
   "id": "56939fcc-9eab-4479-8cb8-9dfc9d0d0f44",
   "metadata": {},
   "source": [
    "## Aggregate"
   ]
  },
  {
   "cell_type": "markdown",
   "id": "4f278909-cd4f-4099-8899-dc830820a146",
   "metadata": {},
   "source": [
    "#### Words, sentences and syllables — by president"
   ]
  },
  {
   "cell_type": "code",
   "execution_count": 26,
   "id": "5f589f43-d427-4239-88fa-832109fdf24c",
   "metadata": {},
   "outputs": [],
   "source": [
    "by_pres = (\n",
    "    final_df.groupby([\"no\", \"president\"])\n",
    "    .agg(\n",
    "        {\n",
    "            \"numberOfSentences\": \"mean\",\n",
    "            \"numberOfWords\": \"mean\",\n",
    "            \"numberOfSyllables\": \"mean\",\n",
    "            \"fleschKincaid\": \"mean\",\n",
    "        }\n",
    "    )\n",
    "    .round()\n",
    "    .reset_index()\n",
    "    .sort_values(\"no\")\n",
    ")"
   ]
  },
  {
   "cell_type": "code",
   "execution_count": 27,
   "id": "84ca5fda-c8c2-4fa3-a2e0-4cd1ef42fdf2",
   "metadata": {},
   "outputs": [
    {
     "data": {
      "text/html": [
       "<div>\n",
       "<style scoped>\n",
       "    .dataframe tbody tr th:only-of-type {\n",
       "        vertical-align: middle;\n",
       "    }\n",
       "\n",
       "    .dataframe tbody tr th {\n",
       "        vertical-align: top;\n",
       "    }\n",
       "\n",
       "    .dataframe thead th {\n",
       "        text-align: right;\n",
       "    }\n",
       "</style>\n",
       "<table border=\"1\" class=\"dataframe\">\n",
       "  <thead>\n",
       "    <tr style=\"text-align: right;\">\n",
       "      <th></th>\n",
       "      <th>no</th>\n",
       "      <th>president</th>\n",
       "      <th>numberOfSentences</th>\n",
       "      <th>numberOfWords</th>\n",
       "      <th>numberOfSyllables</th>\n",
       "      <th>fleschKincaid</th>\n",
       "    </tr>\n",
       "  </thead>\n",
       "  <tbody>\n",
       "    <tr>\n",
       "      <th>0</th>\n",
       "      <td>1</td>\n",
       "      <td>George Washington</td>\n",
       "      <td>57.0</td>\n",
       "      <td>2078.0</td>\n",
       "      <td>3486.0</td>\n",
       "      <td>19.0</td>\n",
       "    </tr>\n",
       "    <tr>\n",
       "      <th>1</th>\n",
       "      <td>2</td>\n",
       "      <td>John Adams</td>\n",
       "      <td>48.0</td>\n",
       "      <td>1789.0</td>\n",
       "      <td>2998.0</td>\n",
       "      <td>19.0</td>\n",
       "    </tr>\n",
       "    <tr>\n",
       "      <th>2</th>\n",
       "      <td>3</td>\n",
       "      <td>Thomas Jefferson</td>\n",
       "      <td>67.0</td>\n",
       "      <td>2582.0</td>\n",
       "      <td>4200.0</td>\n",
       "      <td>19.0</td>\n",
       "    </tr>\n",
       "    <tr>\n",
       "      <th>3</th>\n",
       "      <td>4</td>\n",
       "      <td>James Madison</td>\n",
       "      <td>60.0</td>\n",
       "      <td>2706.0</td>\n",
       "      <td>4567.0</td>\n",
       "      <td>22.0</td>\n",
       "    </tr>\n",
       "    <tr>\n",
       "      <th>4</th>\n",
       "      <td>5</td>\n",
       "      <td>James Monroe</td>\n",
       "      <td>146.0</td>\n",
       "      <td>5279.0</td>\n",
       "      <td>8560.0</td>\n",
       "      <td>18.0</td>\n",
       "    </tr>\n",
       "  </tbody>\n",
       "</table>\n",
       "</div>"
      ],
      "text/plain": [
       "   no          president  numberOfSentences  numberOfWords  numberOfSyllables  \\\n",
       "0   1  George Washington               57.0         2078.0             3486.0   \n",
       "1   2         John Adams               48.0         1789.0             2998.0   \n",
       "2   3   Thomas Jefferson               67.0         2582.0             4200.0   \n",
       "3   4      James Madison               60.0         2706.0             4567.0   \n",
       "4   5       James Monroe              146.0         5279.0             8560.0   \n",
       "\n",
       "   fleschKincaid  \n",
       "0           19.0  \n",
       "1           19.0  \n",
       "2           19.0  \n",
       "3           22.0  \n",
       "4           18.0  "
      ]
     },
     "execution_count": 27,
     "metadata": {},
     "output_type": "execute_result"
    }
   ],
   "source": [
    "by_pres.head()"
   ]
  },
  {
   "cell_type": "code",
   "execution_count": 28,
   "id": "e2043977-4f5f-45d3-b75f-e3c2156c5614",
   "metadata": {},
   "outputs": [
    {
     "data": {
      "text/html": [
       "<div>\n",
       "<style scoped>\n",
       "    .dataframe tbody tr th:only-of-type {\n",
       "        vertical-align: middle;\n",
       "    }\n",
       "\n",
       "    .dataframe tbody tr th {\n",
       "        vertical-align: top;\n",
       "    }\n",
       "\n",
       "    .dataframe thead th {\n",
       "        text-align: right;\n",
       "    }\n",
       "</style>\n",
       "<table border=\"1\" class=\"dataframe\">\n",
       "  <thead>\n",
       "    <tr style=\"text-align: right;\">\n",
       "      <th></th>\n",
       "      <th>no</th>\n",
       "      <th>president</th>\n",
       "      <th>numberOfSentences</th>\n",
       "      <th>numberOfWords</th>\n",
       "      <th>numberOfSyllables</th>\n",
       "      <th>fleschKincaid</th>\n",
       "    </tr>\n",
       "  </thead>\n",
       "  <tbody>\n",
       "    <tr>\n",
       "      <th>38</th>\n",
       "      <td>42</td>\n",
       "      <td>William J. Clinton</td>\n",
       "      <td>376.0</td>\n",
       "      <td>7362.0</td>\n",
       "      <td>11047.0</td>\n",
       "      <td>10.0</td>\n",
       "    </tr>\n",
       "    <tr>\n",
       "      <th>39</th>\n",
       "      <td>43</td>\n",
       "      <td>George W. Bush</td>\n",
       "      <td>262.0</td>\n",
       "      <td>4824.0</td>\n",
       "      <td>7563.0</td>\n",
       "      <td>10.0</td>\n",
       "    </tr>\n",
       "    <tr>\n",
       "      <th>40</th>\n",
       "      <td>44</td>\n",
       "      <td>Barack Obama</td>\n",
       "      <td>360.0</td>\n",
       "      <td>6518.0</td>\n",
       "      <td>9811.0</td>\n",
       "      <td>9.0</td>\n",
       "    </tr>\n",
       "    <tr>\n",
       "      <th>41</th>\n",
       "      <td>45</td>\n",
       "      <td>Donald J. Trump</td>\n",
       "      <td>312.0</td>\n",
       "      <td>5306.0</td>\n",
       "      <td>8335.0</td>\n",
       "      <td>10.0</td>\n",
       "    </tr>\n",
       "    <tr>\n",
       "      <th>42</th>\n",
       "      <td>46</td>\n",
       "      <td>Joseph R. Biden</td>\n",
       "      <td>460.0</td>\n",
       "      <td>6036.0</td>\n",
       "      <td>9095.0</td>\n",
       "      <td>7.0</td>\n",
       "    </tr>\n",
       "  </tbody>\n",
       "</table>\n",
       "</div>"
      ],
      "text/plain": [
       "    no           president  numberOfSentences  numberOfWords  \\\n",
       "38  42  William J. Clinton              376.0         7362.0   \n",
       "39  43      George W. Bush              262.0         4824.0   \n",
       "40  44        Barack Obama              360.0         6518.0   \n",
       "41  45     Donald J. Trump              312.0         5306.0   \n",
       "42  46     Joseph R. Biden              460.0         6036.0   \n",
       "\n",
       "    numberOfSyllables  fleschKincaid  \n",
       "38            11047.0           10.0  \n",
       "39             7563.0           10.0  \n",
       "40             9811.0            9.0  \n",
       "41             8335.0           10.0  \n",
       "42             9095.0            7.0  "
      ]
     },
     "execution_count": 28,
     "metadata": {},
     "output_type": "execute_result"
    }
   ],
   "source": [
    "by_pres.tail()"
   ]
  },
  {
   "cell_type": "markdown",
   "id": "1ab7fed2-f680-49dc-b45a-396d295e27ff",
   "metadata": {},
   "source": [
    "---"
   ]
  },
  {
   "cell_type": "markdown",
   "id": "fa78d207-f9ca-4a52-8855-71af22b75465",
   "metadata": {},
   "source": [
    "## Chart sketches"
   ]
  },
  {
   "cell_type": "code",
   "execution_count": 46,
   "id": "00db4398-fe77-4913-8431-fed227694cb6",
   "metadata": {},
   "outputs": [
    {
     "data": {
      "image/png": "[encoded data removed]",
      "text/plain": [
       "<Figure size 432x288 with 1 Axes>"
      ]
     },
     "metadata": {},
     "output_type": "display_data"
    }
   ],
   "source": [
    "import seaborn as sns\n",
    "\n",
    "sns.set_theme(style=\"whitegrid\")\n",
    "tips = sns.load_dataset(\"tips\")\n",
    "ax = sns.swarmplot(x=tips[\"total_bill\"], size=8)"
   ]
  },
  {
   "cell_type": "code",
   "execution_count": 29,
   "id": "b4349d0b-9d87-40b1-a8d5-2148fec106e2",
   "metadata": {},
   "outputs": [],
   "source": []
  },
  {
   "cell_type": "code",
   "execution_count": 29,
   "id": "6bd097ff-11fb-4308-a76e-1729187d2476",
   "metadata": {},
   "outputs": [],
   "source": []
  },
  {
   "cell_type": "code",
   "execution_count": 29,
   "id": "1b70bd50-1112-47cc-8e7a-f8bc13edd062",
   "metadata": {},
   "outputs": [],
   "source": []
  },
  {
   "cell_type": "code",
   "execution_count": 29,
   "id": "6555dc2c-96eb-4a49-8ad2-1904db6996e9",
   "metadata": {},
   "outputs": [
    {
     "data": {
      "text/html": [
       "\n",
       "<div id=\"altair-viz-b8f35eb330334492ba1d6cf9213f0d12\"></div>\n",
       "<script type=\"text/javascript\">\n",
       "  var VEGA_DEBUG = (typeof VEGA_DEBUG == \"undefined\") ? {} : VEGA_DEBUG;\n",
       "  (function(spec, embedOpt){\n",
       "    let outputDiv = document.currentScript.previousElementSibling;\n",
       "    if (outputDiv.id !== \"altair-viz-b8f35eb330334492ba1d6cf9213f0d12\") {\n",
       "      outputDiv = document.getElementById(\"altair-viz-b8f35eb330334492ba1d6cf9213f0d12\");\n",
       "    }\n",
       "    const paths = {\n",
       "      \"vega\": \"https://cdn.jsdelivr.net/npm//vega@5?noext\",\n",
       "      \"vega-lib\": \"https://cdn.jsdelivr.net/npm//vega-lib?noext\",\n",
       "      \"vega-lite\": \"https://cdn.jsdelivr.net/npm//vega-lite@4.17.0?noext\",\n",
       "      \"vega-embed\": \"https://cdn.jsdelivr.net/npm//vega-embed@6?noext\",\n",
       "    };\n",
       "\n",
       "    function maybeLoadScript(lib, version) {\n",
       "      var key = `${lib.replace(\"-\", \"\")}_version`;\n",
       "      return (VEGA_DEBUG[key] == version) ?\n",
       "        Promise.resolve(paths[lib]) :\n",
       "        new Promise(function(resolve, reject) {\n",
       "          var s = document.createElement('script');\n",
       "          document.getElementsByTagName(\"head\")[0].appendChild(s);\n",
       "          s.async = true;\n",
       "          s.onload = () => {\n",
       "            VEGA_DEBUG[key] = version;\n",
       "            return resolve(paths[lib]);\n",
       "          };\n",
       "          s.onerror = () => reject(`Error loading script: ${paths[lib]}`);\n",
       "          s.src = paths[lib];\n",
       "        });\n",
       "    }\n",
       "\n",
       "    function showError(err) {\n",
       "      outputDiv.innerHTML = `<div class=\"error\" style=\"color:red;\">${err}</div>`;\n",
       "      throw err;\n",
       "    }\n",
       "\n",
       "    function displayChart(vegaEmbed) {\n",
       "      vegaEmbed(outputDiv, spec, embedOpt)\n",
       "        .catch(err => showError(`Javascript Error: ${err.message}<br>This usually means there's a typo in your chart specification. See the javascript console for the full traceback.`));\n",
       "    }\n",
       "\n",
       "    if(typeof define === \"function\" && define.amd) {\n",
       "      requirejs.config({paths});\n",
       "      require([\"vega-embed\"], displayChart, err => showError(`Error loading script: ${err.message}`));\n",
       "    } else {\n",
       "      maybeLoadScript(\"vega\", \"5\")\n",
       "        .then(() => maybeLoadScript(\"vega-lite\", \"4.17.0\"))\n",
       "        .then(() => maybeLoadScript(\"vega-embed\", \"6\"))\n",
       "        .catch(showError)\n",
       "        .then(() => displayChart(vegaEmbed));\n",
       "    }\n",
       "  })({\"config\": {\"view\": {\"continuousWidth\": 400, \"continuousHeight\": 300}}, \"data\": {\"name\": \"data-e1b62b05e55a888d1cb8074b1a54b5f8\"}, \"mark\": \"bar\", \"encoding\": {\"x\": {\"field\": \"fleschKincaid\", \"type\": \"quantitative\"}, \"y\": {\"field\": \"president\", \"sort\": {\"field\": \"no\", \"order\": \"ascending\"}, \"type\": \"nominal\"}}, \"$schema\": \"https://vega.github.io/schema/vega-lite/v4.17.0.json\", \"datasets\": {\"data-e1b62b05e55a888d1cb8074b1a54b5f8\": [{\"no\": 1, \"president\": \"George Washington\", \"numberOfSentences\": 57.0, \"numberOfWords\": 2078.0, \"numberOfSyllables\": 3486.0, \"fleschKincaid\": 19.0}, {\"no\": 2, \"president\": \"John Adams\", \"numberOfSentences\": 48.0, \"numberOfWords\": 1789.0, \"numberOfSyllables\": 2998.0, \"fleschKincaid\": 19.0}, {\"no\": 3, \"president\": \"Thomas Jefferson\", \"numberOfSentences\": 67.0, \"numberOfWords\": 2582.0, \"numberOfSyllables\": 4200.0, \"fleschKincaid\": 19.0}, {\"no\": 4, \"president\": \"James Madison\", \"numberOfSentences\": 60.0, \"numberOfWords\": 2706.0, \"numberOfSyllables\": 4567.0, \"fleschKincaid\": 22.0}, {\"no\": 5, \"president\": \"James Monroe\", \"numberOfSentences\": 146.0, \"numberOfWords\": 5279.0, \"numberOfSyllables\": 8560.0, \"fleschKincaid\": 18.0}, {\"no\": 6, \"president\": \"John Quincy Adams\", \"numberOfSentences\": 187.0, \"numberOfWords\": 7735.0, \"numberOfSyllables\": 12751.0, \"fleschKincaid\": 20.0}, {\"no\": 7, \"president\": \"Andrew Jackson\", \"numberOfSentences\": 262.0, \"numberOfWords\": 10643.0, \"numberOfSyllables\": 17505.0, \"fleschKincaid\": 20.0}, {\"no\": 8, \"president\": \"Martin van Buren\", \"numberOfSentences\": 269.0, \"numberOfWords\": 11331.0, \"numberOfSyllables\": 18892.0, \"fleschKincaid\": 21.0}, {\"no\": 10, \"president\": \"John Tyler\", \"numberOfSentences\": 218.0, \"numberOfWords\": 8488.0, \"numberOfSyllables\": 13932.0, \"fleschKincaid\": 19.0}, {\"no\": 11, \"president\": \"James Polk\", \"numberOfSentences\": 494.0, \"numberOfWords\": 17980.0, \"numberOfSyllables\": 29448.0, \"fleschKincaid\": 18.0}, {\"no\": 12, \"president\": \"Zachary Taylor\", \"numberOfSentences\": 213.0, \"numberOfWords\": 7610.0, \"numberOfSyllables\": 12836.0, \"fleschKincaid\": 18.0}, {\"no\": 13, \"president\": \"Millard Fillmore\", \"numberOfSentences\": 291.0, \"numberOfWords\": 10473.0, \"numberOfSyllables\": 17249.0, \"fleschKincaid\": 18.0}, {\"no\": 14, \"president\": \"Franklin Pierce\", \"numberOfSentences\": 258.0, \"numberOfWords\": 10436.0, \"numberOfSyllables\": 17638.0, \"fleschKincaid\": 20.0}, {\"no\": 15, \"president\": \"James Buchanan\", \"numberOfSentences\": 456.0, \"numberOfWords\": 14056.0, \"numberOfSyllables\": 23162.0, \"fleschKincaid\": 16.0}, {\"no\": 16, \"president\": \"Abraham Lincoln\", \"numberOfSentences\": 235.0, \"numberOfWords\": 6831.0, \"numberOfSyllables\": 11114.0, \"fleschKincaid\": 15.0}, {\"no\": 17, \"president\": \"Andrew Johnson\", \"numberOfSentences\": 288.0, \"numberOfWords\": 9511.0, \"numberOfSyllables\": 15765.0, \"fleschKincaid\": 17.0}, {\"no\": 18, \"president\": \"Ulysses S. Grant\", \"numberOfSentences\": 246.0, \"numberOfWords\": 8131.0, \"numberOfSyllables\": 13377.0, \"fleschKincaid\": 17.0}, {\"no\": 19, \"president\": \"Rutherford B. Hayes\", \"numberOfSentences\": 240.0, \"numberOfWords\": 8521.0, \"numberOfSyllables\": 14424.0, \"fleschKincaid\": 18.0}, {\"no\": 21, \"president\": \"Chester A. Arthur\", \"numberOfSentences\": 153.0, \"numberOfWords\": 4844.0, \"numberOfSyllables\": 8236.0, \"fleschKincaid\": 17.0}, {\"no\": 22, \"president\": \"Grover Cleveland\", \"numberOfSentences\": 373.0, \"numberOfWords\": 13375.0, \"numberOfSyllables\": 22454.0, \"fleschKincaid\": 18.0}, {\"no\": 23, \"president\": \"Benjamin Harrison\", \"numberOfSentences\": 426.0, \"numberOfWords\": 13567.0, \"numberOfSyllables\": 22036.0, \"fleschKincaid\": 16.0}, {\"no\": 25, \"president\": \"William McKinley\", \"numberOfSentences\": 518.0, \"numberOfWords\": 16599.0, \"numberOfSyllables\": 28050.0, \"fleschKincaid\": 17.0}, {\"no\": 26, \"president\": \"Theodore Roosevelt\", \"numberOfSentences\": 639.0, \"numberOfWords\": 19646.0, \"numberOfSyllables\": 31858.0, \"fleschKincaid\": 15.0}, {\"no\": 27, \"president\": \"William H. Taft\", \"numberOfSentences\": 508.0, \"numberOfWords\": 17296.0, \"numberOfSyllables\": 29258.0, \"fleschKincaid\": 18.0}, {\"no\": 28, \"president\": \"Woodrow Wilson\", \"numberOfSentences\": 136.0, \"numberOfWords\": 4341.0, \"numberOfSyllables\": 6808.0, \"fleschKincaid\": 16.0}, {\"no\": 29, \"president\": \"Warren Harding\", \"numberOfSentences\": 216.0, \"numberOfWords\": 5674.0, \"numberOfSyllables\": 9678.0, \"fleschKincaid\": 15.0}, {\"no\": 30, \"president\": \"Calvin Coolidge\", \"numberOfSentences\": 398.0, \"numberOfWords\": 8588.0, \"numberOfSyllables\": 14474.0, \"fleschKincaid\": 13.0}, {\"no\": 31, \"president\": \"Herbert Hoover\", \"numberOfSentences\": 246.0, \"numberOfWords\": 6337.0, \"numberOfSyllables\": 11032.0, \"fleschKincaid\": 15.0}, {\"no\": 32, \"president\": \"Franklin D. Roosevelt\", \"numberOfSentences\": 167.0, \"numberOfWords\": 3951.0, \"numberOfSyllables\": 6278.0, \"fleschKincaid\": 13.0}, {\"no\": 33, \"president\": \"Harry S. Truman\", \"numberOfSentences\": 403.0, \"numberOfWords\": 8308.0, \"numberOfSyllables\": 13590.0, \"fleschKincaid\": 11.0}, {\"no\": 34, \"president\": \"Dwight D. Eisenhower\", \"numberOfSentences\": 286.0, \"numberOfWords\": 6032.0, \"numberOfSyllables\": 10442.0, \"fleschKincaid\": 13.0}, {\"no\": 35, \"president\": \"John F. Kennedy\", \"numberOfSentences\": 241.0, \"numberOfWords\": 5740.0, \"numberOfSyllables\": 9191.0, \"fleschKincaid\": 13.0}, {\"no\": 36, \"president\": \"Lyndon B. Johnson\", \"numberOfSentences\": 243.0, \"numberOfWords\": 4853.0, \"numberOfSyllables\": 7388.0, \"fleschKincaid\": 10.0}, {\"no\": 37, \"president\": \"Richard Nixon\", \"numberOfSentences\": 167.0, \"numberOfWords\": 3964.0, \"numberOfSyllables\": 6039.0, \"fleschKincaid\": 12.0}, {\"no\": 38, \"president\": \"Gerald R. Ford\", \"numberOfSentences\": 239.0, \"numberOfWords\": 4579.0, \"numberOfSyllables\": 7444.0, \"fleschKincaid\": 11.0}, {\"no\": 39, \"president\": \"Jimmy Carter\", \"numberOfSentences\": 484.0, \"numberOfWords\": 11216.0, \"numberOfSyllables\": 19534.0, \"fleschKincaid\": 12.0}, {\"no\": 40, \"president\": \"Ronald Reagan\", \"numberOfSentences\": 241.0, \"numberOfWords\": 4618.0, \"numberOfSyllables\": 7201.0, \"fleschKincaid\": 10.0}, {\"no\": 41, \"president\": \"George H.W. Bush\", \"numberOfSentences\": 264.0, \"numberOfWords\": 4270.0, \"numberOfSyllables\": 6431.0, \"fleschKincaid\": 9.0}, {\"no\": 42, \"president\": \"William J. Clinton\", \"numberOfSentences\": 376.0, \"numberOfWords\": 7362.0, \"numberOfSyllables\": 11047.0, \"fleschKincaid\": 10.0}, {\"no\": 43, \"president\": \"George W. Bush\", \"numberOfSentences\": 262.0, \"numberOfWords\": 4824.0, \"numberOfSyllables\": 7563.0, \"fleschKincaid\": 10.0}, {\"no\": 44, \"president\": \"Barack Obama\", \"numberOfSentences\": 360.0, \"numberOfWords\": 6518.0, \"numberOfSyllables\": 9811.0, \"fleschKincaid\": 9.0}, {\"no\": 45, \"president\": \"Donald J. Trump\", \"numberOfSentences\": 312.0, \"numberOfWords\": 5306.0, \"numberOfSyllables\": 8335.0, \"fleschKincaid\": 10.0}, {\"no\": 46, \"president\": \"Joseph R. Biden\", \"numberOfSentences\": 460.0, \"numberOfWords\": 6036.0, \"numberOfSyllables\": 9095.0, \"fleschKincaid\": 7.0}]}}, {\"mode\": \"vega-lite\"});\n",
       "</script>"
      ],
      "text/plain": [
       "alt.Chart(...)"
      ]
     },
     "execution_count": 29,
     "metadata": {},
     "output_type": "execute_result"
    }
   ],
   "source": [
    "alt.Chart(by_pres).mark_bar().encode(\n",
    "    y=alt.Y(\"president\", sort=alt.EncodingSortField(field=\"no\", order=\"ascending\")),\n",
    "    x=\"fleschKincaid\",\n",
    ")"
   ]
  },
  {
   "cell_type": "markdown",
   "id": "2a42726c-3f7c-42f4-98d2-dd26bc514e6f",
   "metadata": {},
   "source": [
    "#### Syllables, by year"
   ]
  },
  {
   "cell_type": "code",
   "execution_count": 30,
   "id": "f18ab504-cd36-4c6a-b433-2f06f46412f1",
   "metadata": {},
   "outputs": [
    {
     "data": {
      "text/html": [
       "\n",
       "<div id=\"altair-viz-a67c0bdc2ae94e8a983504ca91583d52\"></div>\n",
       "<script type=\"text/javascript\">\n",
       "  var VEGA_DEBUG = (typeof VEGA_DEBUG == \"undefined\") ? {} : VEGA_DEBUG;\n",
       "  (function(spec, embedOpt){\n",
       "    let outputDiv = document.currentScript.previousElementSibling;\n",
       "    if (outputDiv.id !== \"altair-viz-a67c0bdc2ae94e8a983504ca91583d52\") {\n",
       "      outputDiv = document.getElementById(\"altair-viz-a67c0bdc2ae94e8a983504ca91583d52\");\n",
       "    }\n",
       "    const paths = {\n",
       "      \"vega\": \"https://cdn.jsdelivr.net/npm//vega@5?noext\",\n",
       "      \"vega-lib\": \"https://cdn.jsdelivr.net/npm//vega-lib?noext\",\n",
       "      \"vega-lite\": \"https://cdn.jsdelivr.net/npm//vega-lite@4.17.0?noext\",\n",
       "      \"vega-embed\": \"https://cdn.jsdelivr.net/npm//vega-embed@6?noext\",\n",
       "    };\n",
       "\n",
       "    function maybeLoadScript(lib, version) {\n",
       "      var key = `${lib.replace(\"-\", \"\")}_version`;\n",
       "      return (VEGA_DEBUG[key] == version) ?\n",
       "        Promise.resolve(paths[lib]) :\n",
       "        new Promise(function(resolve, reject) {\n",
       "          var s = document.createElement('script');\n",
       "          document.getElementsByTagName(\"head\")[0].appendChild(s);\n",
       "          s.async = true;\n",
       "          s.onload = () => {\n",
       "            VEGA_DEBUG[key] = version;\n",
       "            return resolve(paths[lib]);\n",
       "          };\n",
       "          s.onerror = () => reject(`Error loading script: ${paths[lib]}`);\n",
       "          s.src = paths[lib];\n",
       "        });\n",
       "    }\n",
       "\n",
       "    function showError(err) {\n",
       "      outputDiv.innerHTML = `<div class=\"error\" style=\"color:red;\">${err}</div>`;\n",
       "      throw err;\n",
       "    }\n",
       "\n",
       "    function displayChart(vegaEmbed) {\n",
       "      vegaEmbed(outputDiv, spec, embedOpt)\n",
       "        .catch(err => showError(`Javascript Error: ${err.message}<br>This usually means there's a typo in your chart specification. See the javascript console for the full traceback.`));\n",
       "    }\n",
       "\n",
       "    if(typeof define === \"function\" && define.amd) {\n",
       "      requirejs.config({paths});\n",
       "      require([\"vega-embed\"], displayChart, err => showError(`Error loading script: ${err.message}`));\n",
       "    } else {\n",
       "      maybeLoadScript(\"vega\", \"5\")\n",
       "        .then(() => maybeLoadScript(\"vega-lite\", \"4.17.0\"))\n",
       "        .then(() => maybeLoadScript(\"vega-embed\", \"6\"))\n",
       "        .catch(showError)\n",
       "        .then(() => displayChart(vegaEmbed));\n",
       "    }\n",
       "  })({\"config\": {\"view\": {\"continuousWidth\": 400, \"continuousHeight\": 300}}, \"data\": {\"name\": \"data-cf12ab2467459485d038409357d18685\"}, \"mark\": \"area\", \"encoding\": {\"x\": {\"field\": \"date\", \"type\": \"temporal\"}, \"y\": {\"field\": \"numberOfSyllables\", \"type\": \"quantitative\"}}, \"width\": 600, \"$schema\": \"https://vega.github.io/schema/vega-lite/v4.17.0.json\", \"datasets\": {\"data-cf12ab2467459485d038409357d18685\": [{\"date\": \"1790-01-08T00:00:00\", \"year\": 1790, \"president\": \"George Washington\", \"no\": 1, \"maxFreq\": 3, \"numberOfSentences\": 24, \"numberOfWords\": 1085, \"numberOfSyllables\": 1869, \"fleschKincaid\": 22.367702, \"word\": \"render\"}, {\"date\": \"1790-12-08T00:00:00\", \"year\": 1790, \"president\": \"George Washington\", \"no\": 1, \"maxFreq\": 3, \"numberOfSentences\": 40, \"numberOfWords\": 1403, \"numberOfSyllables\": 2288, \"fleschKincaid\": 17.332584, \"word\": \"militia\"}, {\"date\": \"1791-10-25T00:00:00\", \"year\": 1791, \"president\": \"George Washington\", \"no\": 1, \"maxFreq\": 7, \"numberOfSentences\": 60, \"numberOfWords\": 2304, \"numberOfSyllables\": 3937, \"fleschKincaid\": 19.549458, \"word\": \"provision\"}, {\"date\": \"1792-11-06T00:00:00\", \"year\": 1792, \"president\": \"George Washington\", \"no\": 1, \"maxFreq\": 8, \"numberOfSentences\": 61, \"numberOfWords\": 2099, \"numberOfSyllables\": 3492, \"fleschKincaid\": 17.460895999999998, \"word\": \"among\"}, {\"date\": \"1793-12-03T00:00:00\", \"year\": 1793, \"president\": \"George Washington\", \"no\": 1, \"maxFreq\": 24, \"numberOfSentences\": 56, \"numberOfWords\": 1965, \"numberOfSyllables\": 3233, \"fleschKincaid\": 17.509274, \"word\": \"states\"}, {\"date\": \"1794-11-19T00:00:00\", \"year\": 1794, \"president\": \"George Washington\", \"no\": 1, \"maxFreq\": 12, \"numberOfSentences\": 79, \"numberOfWords\": 2916, \"numberOfSyllables\": 4872, \"fleschKincaid\": 18.520668, \"word\": \"laws\"}, {\"date\": \"1795-12-08T00:00:00\", \"year\": 1795, \"president\": \"George Washington\", \"no\": 1, \"maxFreq\": 9, \"numberOfSentences\": 53, \"numberOfWords\": 1987, \"numberOfSyllables\": 3405, \"fleschKincaid\": 19.252254, \"word\": \"indians\"}, {\"date\": \"1796-12-07T00:00:00\", \"year\": 1796, \"president\": \"George Washington\", \"no\": 1, \"maxFreq\": 5, \"numberOfSentences\": 80, \"numberOfWords\": 2868, \"numberOfSyllables\": 4796, \"fleschKincaid\": 18.123997, \"word\": \"appointed\"}, {\"date\": \"1797-11-22T00:00:00\", \"year\": 1797, \"president\": \"John Adams\", \"no\": 2, \"maxFreq\": 18, \"numberOfSentences\": 59, \"numberOfWords\": 2060, \"numberOfSyllables\": 3419, \"fleschKincaid\": 17.611511, \"word\": \"united\"}, {\"date\": \"1798-12-08T00:00:00\", \"year\": 1798, \"president\": \"John Adams\", \"no\": 2, \"maxFreq\": 10, \"numberOfSentences\": 58, \"numberOfWords\": 2218, \"numberOfSyllables\": 3684, \"fleschKincaid\": 18.923416, \"word\": \"france\"}, {\"date\": \"1799-12-03T00:00:00\", \"year\": 1799, \"president\": \"John Adams\", \"no\": 2, \"maxFreq\": 7, \"numberOfSentences\": 36, \"numberOfWords\": 1505, \"numberOfSyllables\": 2580, \"fleschKincaid\": 20.942738, \"word\": \"gentlemen\"}, {\"date\": \"1800-11-11T00:00:00\", \"year\": 1800, \"president\": \"John Adams\", \"no\": 2, \"maxFreq\": 8, \"numberOfSentences\": 40, \"numberOfWords\": 1372, \"numberOfSyllables\": 2308, \"fleschKincaid\": 17.637142, \"word\": \"gentlemen\"}, {\"date\": \"1801-12-08T00:00:00\", \"year\": 1801, \"president\": \"Thomas Jefferson\", \"no\": 3, \"maxFreq\": 9, \"numberOfSentences\": 90, \"numberOfWords\": 3225, \"numberOfSyllables\": 5314, \"fleschKincaid\": 17.828472, \"word\": \"laid\"}, {\"date\": \"1802-12-15T00:00:00\", \"year\": 1802, \"president\": \"Thomas Jefferson\", \"no\": 3, \"maxFreq\": 9, \"numberOfSentences\": 62, \"numberOfWords\": 2198, \"numberOfSyllables\": 3504, \"fleschKincaid\": 17.047413, \"word\": \"vessels\"}, {\"date\": \"1803-10-17T00:00:00\", \"year\": 1803, \"president\": \"Thomas Jefferson\", \"no\": 3, \"maxFreq\": 9, \"numberOfSentences\": 48, \"numberOfWords\": 2268, \"numberOfSyllables\": 3791, \"fleschKincaid\": 22.561398, \"word\": \"millions\"}, {\"date\": \"1804-11-08T00:00:00\", \"year\": 1804, \"president\": \"Thomas Jefferson\", \"no\": 3, \"maxFreq\": 8, \"numberOfSentences\": 49, \"numberOfWords\": 2098, \"numberOfSyllables\": 3405, \"fleschKincaid\": 20.259464, \"word\": \"whether\"}, {\"date\": \"1805-12-03T00:00:00\", \"year\": 1805, \"president\": \"Thomas Jefferson\", \"no\": 3, \"maxFreq\": 10, \"numberOfSentences\": 78, \"numberOfWords\": 2932, \"numberOfSyllables\": 4606, \"fleschKincaid\": 17.607105, \"word\": \"millions\"}, {\"date\": \"1806-12-02T00:00:00\", \"year\": 1806, \"president\": \"Thomas Jefferson\", \"no\": 3, \"maxFreq\": 12, \"numberOfSentences\": 77, \"numberOfWords\": 2863, \"numberOfSyllables\": 4643, \"fleschKincaid\": 18.047268, \"word\": \"necessary\"}, {\"date\": \"1807-10-27T00:00:00\", \"year\": 1807, \"president\": \"Thomas Jefferson\", \"no\": 3, \"maxFreq\": 14, \"numberOfSentences\": 62, \"numberOfWords\": 2389, \"numberOfSyllables\": 3885, \"fleschKincaid\": 18.626781, \"word\": \"shall\"}, {\"date\": \"1808-11-08T00:00:00\", \"year\": 1808, \"president\": \"Thomas Jefferson\", \"no\": 3, \"maxFreq\": 7, \"numberOfSentences\": 72, \"numberOfWords\": 2682, \"numberOfSyllables\": 4452, \"fleschKincaid\": 18.524971, \"word\": \"millions\"}, {\"date\": \"1809-11-29T00:00:00\", \"year\": 1809, \"president\": \"James Madison\", \"no\": 4, \"maxFreq\": 7, \"numberOfSentences\": 40, \"numberOfWords\": 1830, \"numberOfSyllables\": 3090, \"fleschKincaid\": 22.17709, \"word\": \"minister\"}, {\"date\": \"1810-12-05T00:00:00\", \"year\": 1810, \"president\": \"James Madison\", \"no\": 4, \"maxFreq\": 5, \"numberOfSentences\": 61, \"numberOfWords\": 2442, \"numberOfSyllables\": 4178, \"fleschKincaid\": 20.211319, \"word\": \"neutral\"}, {\"date\": \"1811-11-05T00:00:00\", \"year\": 1811, \"president\": \"James Madison\", \"no\": 4, \"maxFreq\": 9, \"numberOfSentences\": 46, \"numberOfWords\": 2273, \"numberOfSyllables\": 3845, \"fleschKincaid\": 23.64193, \"word\": \"british\"}, {\"date\": \"1812-11-04T00:00:00\", \"year\": 1812, \"president\": \"James Madison\", \"no\": 4, \"maxFreq\": 20, \"numberOfSentences\": 87, \"numberOfWords\": 3239, \"numberOfSyllables\": 5420, \"fleschKincaid\": 18.675255, \"word\": \"war\"}, {\"date\": \"1813-12-07T00:00:00\", \"year\": 1813, \"president\": \"James Madison\", \"no\": 4, \"maxFreq\": 28, \"numberOfSentences\": 69, \"numberOfWords\": 3254, \"numberOfSyllables\": 5396, \"fleschKincaid\": 22.369724, \"word\": \"war\"}, {\"date\": \"1814-09-20T00:00:00\", \"year\": 1814, \"president\": \"James Madison\", \"no\": 4, \"maxFreq\": 13, \"numberOfSentences\": 50, \"numberOfWords\": 2110, \"numberOfSyllables\": 3476, \"fleschKincaid\": 20.30724, \"word\": \"enemy\"}, {\"date\": \"1815-12-05T00:00:00\", \"year\": 1815, \"president\": \"James Madison\", \"no\": 4, \"maxFreq\": 19, \"numberOfSentences\": 59, \"numberOfWords\": 3142, \"numberOfSyllables\": 5463, \"fleschKincaid\": 25.695827, \"word\": \"public\"}, {\"date\": \"1816-12-03T00:00:00\", \"year\": 1816, \"president\": \"James Madison\", \"no\": 4, \"maxFreq\": 10, \"numberOfSentences\": 72, \"numberOfWords\": 3361, \"numberOfSyllables\": 5671, \"fleschKincaid\": 22.525501, \"word\": \"ports\"}, {\"date\": \"1817-12-12T00:00:00\", \"year\": 1817, \"president\": \"James Monroe\", \"no\": 5, \"maxFreq\": 22, \"numberOfSentences\": 123, \"numberOfWords\": 4413, \"numberOfSyllables\": 7149, \"fleschKincaid\": 17.51828, \"word\": \"public\"}, {\"date\": \"1818-11-16T00:00:00\", \"year\": 1818, \"president\": \"James Monroe\", \"no\": 5, \"maxFreq\": 26, \"numberOfSentences\": 118, \"numberOfWords\": 4374, \"numberOfSyllables\": 7261, \"fleschKincaid\": 18.454872, \"word\": \"spain\"}, {\"date\": \"1819-12-07T00:00:00\", \"year\": 1819, \"president\": \"James Monroe\", \"no\": 5, \"maxFreq\": 31, \"numberOfSentences\": 132, \"numberOfWords\": 4706, \"numberOfSyllables\": 7604, \"fleschKincaid\": 17.380642, \"word\": \"united\"}, {\"date\": \"1820-11-14T00:00:00\", \"year\": 1820, \"president\": \"James Monroe\", \"no\": 5, \"maxFreq\": 22, \"numberOfSentences\": 85, \"numberOfWords\": 3437, \"numberOfSyllables\": 5558, \"fleschKincaid\": 19.261639, \"word\": \"great\"}, {\"date\": \"1821-12-03T00:00:00\", \"year\": 1821, \"president\": \"James Monroe\", \"no\": 5, \"maxFreq\": 23, \"numberOfSentences\": 158, \"numberOfWords\": 5811, \"numberOfSyllables\": 9351, \"fleschKincaid\": 17.742043, \"word\": \"vessels\"}, {\"date\": \"1822-12-03T00:00:00\", \"year\": 1822, \"president\": \"James Monroe\", \"no\": 5, \"maxFreq\": 26, \"numberOfSentences\": 118, \"numberOfWords\": 4719, \"numberOfSyllables\": 7650, \"fleschKincaid\": 19.135746, \"word\": \"great\"}, {\"date\": \"1823-12-02T00:00:00\", \"year\": 1823, \"president\": \"James Monroe\", \"no\": 5, \"maxFreq\": 13, \"numberOfSentences\": 187, \"numberOfWords\": 6361, \"numberOfSyllables\": 10401, \"fleschKincaid\": 16.970676, \"word\": \"post\"}, {\"date\": \"1824-12-07T00:00:00\", \"year\": 1824, \"president\": \"James Monroe\", \"no\": 5, \"maxFreq\": 32, \"numberOfSentences\": 249, \"numberOfWords\": 8408, \"numberOfSyllables\": 13503, \"fleschKincaid\": 16.52961, \"word\": \"every\"}, {\"date\": \"1825-12-06T00:00:00\", \"year\": 1825, \"president\": \"John Quincy Adams\", \"no\": 6, \"maxFreq\": 22, \"numberOfSentences\": 213, \"numberOfWords\": 8986, \"numberOfSyllables\": 14809, \"fleschKincaid\": 20.309734, \"word\": \"improvement\"}, {\"date\": \"1826-12-05T00:00:00\", \"year\": 1826, \"president\": \"John Quincy Adams\", \"no\": 6, \"maxFreq\": 46, \"numberOfSentences\": 172, \"numberOfWords\": 7699, \"numberOfSyllables\": 12640, \"fleschKincaid\": 21.23994, \"word\": \"united\"}, {\"date\": \"1827-12-04T00:00:00\", \"year\": 1827, \"president\": \"John Quincy Adams\", \"no\": 6, \"maxFreq\": 34, \"numberOfSentences\": 168, \"numberOfWords\": 6966, \"numberOfSyllables\": 11518, \"fleschKincaid\": 20.091896, \"word\": \"between\"}, {\"date\": \"1828-12-02T00:00:00\", \"year\": 1828, \"president\": \"John Quincy Adams\", \"no\": 6, \"maxFreq\": 17, \"numberOfSentences\": 195, \"numberOfWords\": 7290, \"numberOfSyllables\": 12036, \"fleschKincaid\": 18.472141, \"word\": \"union\"}, {\"date\": \"1829-12-08T00:00:00\", \"year\": 1829, \"president\": \"Andrew Jackson\", \"no\": 7, \"maxFreq\": 17, \"numberOfSentences\": 302, \"numberOfWords\": 10522, \"numberOfSyllables\": 17394, \"fleschKincaid\": 17.504684, \"word\": \"therefore\"}, {\"date\": \"1830-12-06T00:00:00\", \"year\": 1830, \"president\": \"Andrew Jackson\", \"no\": 7, \"maxFreq\": 49, \"numberOfSentences\": 394, \"numberOfWords\": 15088, \"numberOfSyllables\": 25039, \"fleschKincaid\": 18.927284, \"word\": \"general\"}, {\"date\": \"1831-12-06T00:00:00\", \"year\": 1831, \"president\": \"Andrew Jackson\", \"no\": 7, \"maxFreq\": 23, \"numberOfSentences\": 168, \"numberOfWords\": 7187, \"numberOfSyllables\": 11801, \"fleschKincaid\": 20.469616, \"word\": \"state\"}, {\"date\": \"1832-12-04T00:00:00\", \"year\": 1832, \"president\": \"Andrew Jackson\", \"no\": 7, \"maxFreq\": 31, \"numberOfSentences\": 200, \"numberOfWords\": 7869, \"numberOfSyllables\": 12907, \"fleschKincaid\": 19.10931, \"word\": \"public\"}, {\"date\": \"1833-12-03T00:00:00\", \"year\": 1833, \"president\": \"Andrew Jackson\", \"no\": 7, \"maxFreq\": 54, \"numberOfSentences\": 182, \"numberOfWords\": 7898, \"numberOfSyllables\": 12896, \"fleschKincaid\": 20.601543, \"word\": \"states\"}, {\"date\": \"1834-12-01T00:00:00\", \"year\": 1834, \"president\": \"Andrew Jackson\", \"no\": 7, \"maxFreq\": 31, \"numberOfSentences\": 318, \"numberOfWords\": 13434, \"numberOfSyllables\": 22084, \"fleschKincaid\": 20.283543, \"word\": \"france\"}, {\"date\": \"1835-12-07T00:00:00\", \"year\": 1835, \"president\": \"Andrew Jackson\", \"no\": 7, \"maxFreq\": 29, \"numberOfSentences\": 240, \"numberOfWords\": 10805, \"numberOfSyllables\": 17759, \"fleschKincaid\": 21.3625, \"word\": \"subject\"}, {\"date\": \"1836-12-05T00:00:00\", \"year\": 1836, \"president\": \"Andrew Jackson\", \"no\": 7, \"maxFreq\": 39, \"numberOfSentences\": 294, \"numberOfWords\": 12343, \"numberOfSyllables\": 20162, \"fleschKincaid\": 20.058392, \"word\": \"bank\"}, {\"date\": \"1837-12-05T00:00:00\", \"year\": 1837, \"president\": \"Martin van Buren\", \"no\": 8, \"maxFreq\": 56, \"numberOfSentences\": 283, \"numberOfWords\": 11439, \"numberOfSyllables\": 18994, \"fleschKincaid\": 19.767422, \"word\": \"public\"}, {\"date\": \"1838-12-03T00:00:00\", \"year\": 1838, \"president\": \"Martin van Buren\", \"no\": 8, \"maxFreq\": 74, \"numberOfSentences\": 267, \"numberOfWords\": 11476, \"numberOfSyllables\": 19343, \"fleschKincaid\": 21.061802, \"word\": \"states\"}, {\"date\": \"1839-12-02T00:00:00\", \"year\": 1839, \"president\": \"Martin van Buren\", \"no\": 8, \"maxFreq\": 71, \"numberOfSentences\": 343, \"numberOfWords\": 13420, \"numberOfSyllables\": 21965, \"fleschKincaid\": 18.98238, \"word\": \"public\"}, {\"date\": \"1840-12-05T00:00:00\", \"year\": 1840, \"president\": \"Martin van Buren\", \"no\": 8, \"maxFreq\": 67, \"numberOfSentences\": 184, \"numberOfWords\": 8989, \"numberOfSyllables\": 15268, \"fleschKincaid\": 23.505314, \"word\": \"government\"}, {\"date\": \"1841-12-07T00:00:00\", \"year\": 1841, \"president\": \"John Tyler\", \"no\": 10, \"maxFreq\": 57, \"numberOfSentences\": 202, \"numberOfWords\": 8227, \"numberOfSyllables\": 13470, \"fleschKincaid\": 19.613853, \"word\": \"government\"}, {\"date\": \"1842-12-06T00:00:00\", \"year\": 1842, \"president\": \"John Tyler\", \"no\": 10, \"maxFreq\": 19, \"numberOfSentences\": 207, \"numberOfWords\": 8393, \"numberOfSyllables\": 13684, \"fleschKincaid\": 19.461693, \"word\": \"treasury\"}, {\"date\": \"1843-12-06T00:00:00\", \"year\": 1843, \"president\": \"John Tyler\", \"no\": 10, \"maxFreq\": 57, \"numberOfSentences\": 194, \"numberOfWords\": 8023, \"numberOfSyllables\": 13180, \"fleschKincaid\": 19.923481, \"word\": \"government\"}, {\"date\": \"1844-12-03T00:00:00\", \"year\": 1844, \"president\": \"John Tyler\", \"no\": 10, \"maxFreq\": 59, \"numberOfSentences\": 271, \"numberOfWords\": 9307, \"numberOfSyllables\": 15393, \"fleschKincaid\": 17.32005, \"word\": \"states\"}, {\"date\": \"1845-12-02T00:00:00\", \"year\": 1845, \"president\": \"James Polk\", \"no\": 11, \"maxFreq\": 41, \"numberOfSentences\": 451, \"numberOfWords\": 16092, \"numberOfSyllables\": 26258, \"fleschKincaid\": 17.58004, \"word\": \"mexico\"}, {\"date\": \"1846-12-08T00:00:00\", \"year\": 1846, \"president\": \"James Polk\", \"no\": 11, \"maxFreq\": 158, \"numberOfSentences\": 480, \"numberOfWords\": 18191, \"numberOfSyllables\": 29851, \"fleschKincaid\": 18.553707, \"word\": \"mexico\"}, {\"date\": \"1847-12-07T00:00:00\", \"year\": 1847, \"president\": \"James Polk\", \"no\": 11, \"maxFreq\": 107, \"numberOfSentences\": 440, \"numberOfWords\": 16375, \"numberOfSyllables\": 26640, \"fleschKincaid\": 18.121273, \"word\": \"mexico\"}, {\"date\": \"1848-12-05T00:00:00\", \"year\": 1848, \"president\": \"James Polk\", \"no\": 11, \"maxFreq\": 75, \"numberOfSentences\": 606, \"numberOfWords\": 21264, \"numberOfSyllables\": 35044, \"fleschKincaid\": 17.541668, \"word\": \"public\"}, {\"date\": \"1849-12-04T00:00:00\", \"year\": 1849, \"president\": \"Zachary Taylor\", \"no\": 12, \"maxFreq\": 18, \"numberOfSentences\": 213, \"numberOfWords\": 7610, \"numberOfSyllables\": 12836, \"fleschKincaid\": 18.247192, \"word\": \"treaty\"}, {\"date\": \"1850-12-02T00:00:00\", \"year\": 1850, \"president\": \"Millard Fillmore\", \"no\": 13, \"maxFreq\": 22, \"numberOfSentences\": 235, \"numberOfWords\": 8311, \"numberOfSyllables\": 13739, \"fleschKincaid\": 17.709427, \"word\": \"duty\"}, {\"date\": \"1851-12-02T00:00:00\", \"year\": 1851, \"president\": \"Millard Fillmore\", \"no\": 13, \"maxFreq\": 44, \"numberOfSentences\": 354, \"numberOfWords\": 13191, \"numberOfSyllables\": 21687, \"fleschKincaid\": 18.342548, \"word\": \"last\"}, {\"date\": \"1852-12-06T00:00:00\", \"year\": 1852, \"president\": \"Millard Fillmore\", \"no\": 13, \"maxFreq\": 26, \"numberOfSentences\": 284, \"numberOfWords\": 9916, \"numberOfSyllables\": 16320, \"fleschKincaid\": 17.447777, \"word\": \"subject\"}, {\"date\": \"1853-12-05T00:00:00\", \"year\": 1853, \"president\": \"Franklin Pierce\", \"no\": 14, \"maxFreq\": 63, \"numberOfSentences\": 233, \"numberOfWords\": 9574, \"numberOfSyllables\": 15990, \"fleschKincaid\": 20.142902, \"word\": \"states\"}, {\"date\": \"1854-12-04T00:00:00\", \"year\": 1854, \"president\": \"Franklin Pierce\", \"no\": 14, \"maxFreq\": 17, \"numberOfSentences\": 268, \"numberOfWords\": 10116, \"numberOfSyllables\": 17101, \"fleschKincaid\": 19.07883, \"word\": \"property\"}, {\"date\": \"1855-12-31T00:00:00\", \"year\": 1855, \"president\": \"Franklin Pierce\", \"no\": 14, \"maxFreq\": 135, \"numberOfSentences\": 274, \"numberOfWords\": 11592, \"numberOfSyllables\": 19607, \"fleschKincaid\": 20.868378, \"word\": \"states\"}, {\"date\": \"1856-12-02T00:00:00\", \"year\": 1856, \"president\": \"Franklin Pierce\", \"no\": 14, \"maxFreq\": 111, \"numberOfSentences\": 255, \"numberOfWords\": 10462, \"numberOfSyllables\": 17855, \"fleschKincaid\": 20.549206, \"word\": \"states\"}, {\"date\": \"1857-12-08T00:00:00\", \"year\": 1857, \"president\": \"James Buchanan\", \"no\": 15, \"maxFreq\": 45, \"numberOfSentences\": 406, \"numberOfWords\": 13625, \"numberOfSyllables\": 22403, \"fleschKincaid\": 16.900284, \"word\": \"constitution\"}, {\"date\": \"1858-12-06T00:00:00\", \"year\": 1858, \"president\": \"James Buchanan\", \"no\": 15, \"maxFreq\": 40, \"numberOfSentences\": 527, \"numberOfWords\": 16304, \"numberOfSyllables\": 27017, \"fleschKincaid\": 16.029099, \"word\": \"shall\"}, {\"date\": \"1859-12-19T00:00:00\", \"year\": 1859, \"president\": \"James Buchanan\", \"no\": 15, \"maxFreq\": 41, \"numberOfSentences\": 407, \"numberOfWords\": 12287, \"numberOfSyllables\": 20057, \"fleschKincaid\": 15.445816, \"word\": \"power\"}, {\"date\": \"1860-12-03T00:00:00\", \"year\": 1860, \"president\": \"James Buchanan\", \"no\": 15, \"maxFreq\": 102, \"numberOfSentences\": 486, \"numberOfWords\": 14010, \"numberOfSyllables\": 23170, \"fleschKincaid\": 15.167652, \"word\": \"states\"}, {\"date\": \"1861-12-03T00:00:00\", \"year\": 1861, \"president\": \"Abraham Lincoln\", \"no\": 16, \"maxFreq\": 20, \"numberOfSentences\": 215, \"numberOfWords\": 6969, \"numberOfSyllables\": 11325, \"fleschKincaid\": 16.227074, \"word\": \"union\"}, {\"date\": \"1862-12-01T00:00:00\", \"year\": 1862, \"president\": \"Abraham Lincoln\", \"no\": 16, \"maxFreq\": 17, \"numberOfSentences\": 321, \"numberOfWords\": 8357, \"numberOfSyllables\": 13336, \"fleschKincaid\": 13.393663, \"word\": \"emancipation\"}, {\"date\": \"1863-12-08T00:00:00\", \"year\": 1863, \"president\": \"Abraham Lincoln\", \"no\": 16, \"maxFreq\": 19, \"numberOfSentences\": 196, \"numberOfWords\": 6085, \"numberOfSyllables\": 10177, \"fleschKincaid\": 16.253094, \"word\": \"service\"}, {\"date\": \"1864-12-06T00:00:00\", \"year\": 1864, \"president\": \"Abraham Lincoln\", \"no\": 16, \"maxFreq\": 7, \"numberOfSentences\": 207, \"numberOfWords\": 5912, \"numberOfSyllables\": 9620, \"fleschKincaid\": 14.749496, \"word\": \"election\"}, {\"date\": \"1865-12-04T00:00:00\", \"year\": 1865, \"president\": \"Andrew Johnson\", \"no\": 17, \"maxFreq\": 98, \"numberOfSentences\": 276, \"numberOfWords\": 9220, \"numberOfSyllables\": 14988, \"fleschKincaid\": 16.6203, \"word\": \"states\"}, {\"date\": \"1866-12-03T00:00:00\", \"year\": 1866, \"president\": \"Andrew Johnson\", \"no\": 17, \"maxFreq\": 75, \"numberOfSentences\": 203, \"numberOfWords\": 7102, \"numberOfSyllables\": 12117, \"fleschKincaid\": 18.18668, \"word\": \"states\"}, {\"date\": \"1867-12-03T00:00:00\", \"year\": 1867, \"president\": \"Andrew Johnson\", \"no\": 17, \"maxFreq\": 46, \"numberOfSentences\": 383, \"numberOfWords\": 11956, \"numberOfSyllables\": 19504, \"fleschKincaid\": 15.834032, \"word\": \"constitution\"}, {\"date\": \"1868-12-09T00:00:00\", \"year\": 1868, \"president\": \"Andrew Johnson\", \"no\": 17, \"maxFreq\": 29, \"numberOfSentences\": 292, \"numberOfWords\": 9765, \"numberOfSyllables\": 16451, \"fleschKincaid\": 17.331638, \"word\": \"per\"}, {\"date\": \"1869-12-06T00:00:00\", \"year\": 1869, \"president\": \"Ulysses S. Grant\", \"no\": 18, \"maxFreq\": 17, \"numberOfSentences\": 249, \"numberOfWords\": 7688, \"numberOfSyllables\": 12551, \"fleschKincaid\": 15.715467, \"word\": \"interest\"}, {\"date\": \"1870-12-05T00:00:00\", \"year\": 1870, \"president\": \"Ulysses S. Grant\", \"no\": 18, \"maxFreq\": 76, \"numberOfSentences\": 278, \"numberOfWords\": 8731, \"numberOfSyllables\": 14243, \"fleschKincaid\": 15.908028, \"word\": \"states\"}, {\"date\": \"1871-12-04T00:00:00\", \"year\": 1871, \"president\": \"Ulysses S. Grant\", \"no\": 18, \"maxFreq\": 19, \"numberOfSentences\": 213, \"numberOfWords\": 6460, \"numberOfSyllables\": 10810, \"fleschKincaid\": 15.98399, \"word\": \"recommend\"}, {\"date\": \"1872-12-02T00:00:00\", \"year\": 1872, \"president\": \"Ulysses S. Grant\", \"no\": 18, \"maxFreq\": 28, \"numberOfSentences\": 115, \"numberOfWords\": 3979, \"numberOfSyllables\": 6608, \"fleschKincaid\": 17.50048, \"word\": \"united\"}, {\"date\": \"1873-12-01T00:00:00\", \"year\": 1873, \"president\": \"Ulysses S. Grant\", \"no\": 18, \"maxFreq\": 60, \"numberOfSentences\": 293, \"numberOfWords\": 10008, \"numberOfSyllables\": 16480, \"fleschKincaid\": 17.162083, \"word\": \"congress\"}, {\"date\": \"1874-12-07T00:00:00\", \"year\": 1874, \"president\": \"Ulysses S. Grant\", \"no\": 18, \"maxFreq\": 49, \"numberOfSentences\": 274, \"numberOfWords\": 9205, \"numberOfSyllables\": 15137, \"fleschKincaid\": 16.91631, \"word\": \"congress\"}, {\"date\": \"1875-12-07T00:00:00\", \"year\": 1875, \"president\": \"Ulysses S. Grant\", \"no\": 18, \"maxFreq\": 76, \"numberOfSentences\": 349, \"numberOfWords\": 12188, \"numberOfSyllables\": 20014, \"fleschKincaid\": 17.406693, \"word\": \"states\"}, {\"date\": \"1876-12-05T00:00:00\", \"year\": 1876, \"president\": \"Ulysses S. Grant\", \"no\": 18, \"maxFreq\": 50, \"numberOfSentences\": 194, \"numberOfWords\": 6788, \"numberOfSyllables\": 11173, \"fleschKincaid\": 17.478695, \"word\": \"states\"}, {\"date\": \"1877-12-03T00:00:00\", \"year\": 1877, \"president\": \"Rutherford B. Hayes\", \"no\": 19, \"maxFreq\": 35, \"numberOfSentences\": 218, \"numberOfWords\": 7981, \"numberOfSyllables\": 13354, \"fleschKincaid\": 18.431976, \"word\": \"public\"}, {\"date\": \"1878-12-02T00:00:00\", \"year\": 1878, \"president\": \"Rutherford B. Hayes\", \"no\": 19, \"maxFreq\": 39, \"numberOfSentences\": 232, \"numberOfWords\": 7834, \"numberOfSyllables\": 13234, \"fleschKincaid\": 17.513, \"word\": \"year\"}, {\"date\": \"1879-12-01T00:00:00\", \"year\": 1879, \"president\": \"Rutherford B. Hayes\", \"no\": 19, \"maxFreq\": 63, \"numberOfSentences\": 315, \"numberOfWords\": 11583, \"numberOfSyllables\": 19623, \"fleschKincaid\": 18.741478, \"word\": \"congress\"}, {\"date\": \"1880-12-06T00:00:00\", \"year\": 1880, \"president\": \"Rutherford B. Hayes\", \"no\": 19, \"maxFreq\": 51, \"numberOfSentences\": 194, \"numberOfWords\": 6687, \"numberOfSyllables\": 11485, \"fleschKincaid\": 18.119572, \"word\": \"government\"}, {\"date\": \"1881-12-06T00:00:00\", \"year\": 1881, \"president\": \"Chester A. Arthur\", \"no\": 21, \"maxFreq\": 12, \"numberOfSentences\": 119, \"numberOfWords\": 3782, \"numberOfSyllables\": 6550, \"fleschKincaid\": 17.241066, \"word\": \"relations\"}, {\"date\": \"1882-12-04T00:00:00\", \"year\": 1882, \"president\": \"Chester A. Arthur\", \"no\": 21, \"maxFreq\": 7, \"numberOfSentences\": 93, \"numberOfWords\": 3021, \"numberOfSyllables\": 5123, \"fleschKincaid\": 17.089104, \"word\": \"chile\"}, {\"date\": \"1883-12-04T00:00:00\", \"year\": 1883, \"president\": \"Chester A. Arthur\", \"no\": 21, \"maxFreq\": 22, \"numberOfSentences\": 108, \"numberOfWords\": 3687, \"numberOfSyllables\": 6268, \"fleschKincaid\": 17.784485, \"word\": \"treaty\"}, {\"date\": \"1884-12-01T00:00:00\", \"year\": 1884, \"president\": \"Chester A. Arthur\", \"no\": 21, \"maxFreq\": 20, \"numberOfSentences\": 291, \"numberOfWords\": 8888, \"numberOfSyllables\": 15004, \"fleschKincaid\": 16.241554, \"word\": \"secretary\"}, {\"date\": \"1885-12-08T00:00:00\", \"year\": 1885, \"president\": \"Grover Cleveland\", \"no\": 22, \"maxFreq\": 40, \"numberOfSentences\": 566, \"numberOfWords\": 19710, \"numberOfSyllables\": 33242, \"fleschKincaid\": 17.892445, \"word\": \"silver\"}, {\"date\": \"1886-12-06T00:00:00\", \"year\": 1886, \"president\": \"Grover Cleveland\", \"no\": 22, \"maxFreq\": 63, \"numberOfSentences\": 418, \"numberOfWords\": 15087, \"numberOfSyllables\": 25380, \"fleschKincaid\": 18.336853, \"word\": \"year\"}, {\"date\": \"1887-12-06T00:00:00\", \"year\": 1887, \"president\": \"Grover Cleveland\", \"no\": 22, \"maxFreq\": 30, \"numberOfSentences\": 123, \"numberOfWords\": 5280, \"numberOfSyllables\": 8600, \"fleschKincaid\": 20.371159, \"word\": \"tariff\"}, {\"date\": \"1888-12-03T00:00:00\", \"year\": 1888, \"president\": \"Grover Cleveland\", \"no\": 22, \"maxFreq\": 18, \"numberOfSentences\": 239, \"numberOfWords\": 8981, \"numberOfSyllables\": 15095, \"fleschKincaid\": 18.898277, \"word\": \"1888\"}, {\"date\": \"1893-12-03T00:00:00\", \"year\": 1893, \"president\": \"Grover Cleveland\", \"no\": 22, \"maxFreq\": 89, \"numberOfSentences\": 378, \"numberOfWords\": 12197, \"numberOfSyllables\": 20782, \"fleschKincaid\": 17.099773, \"word\": \"year\"}, {\"date\": \"1894-12-02T00:00:00\", \"year\": 1894, \"president\": \"Grover Cleveland\", \"no\": 22, \"maxFreq\": 104, \"numberOfSentences\": 472, \"numberOfWords\": 15771, \"numberOfSyllables\": 26462, \"fleschKincaid\": 17.240223, \"word\": \"year\"}, {\"date\": \"1895-12-07T00:00:00\", \"year\": 1895, \"president\": \"Grover Cleveland\", \"no\": 22, \"maxFreq\": 107, \"numberOfSentences\": 366, \"numberOfWords\": 14602, \"numberOfSyllables\": 24558, \"fleschKincaid\": 19.815037, \"word\": \"gold\"}, {\"date\": \"1896-12-04T00:00:00\", \"year\": 1896, \"president\": \"Grover Cleveland\", \"no\": 22, \"maxFreq\": 77, \"numberOfSentences\": 425, \"numberOfWords\": 15373, \"numberOfSyllables\": 25515, \"fleschKincaid\": 18.10178, \"word\": \"year\"}, {\"date\": \"1889-12-03T00:00:00\", \"year\": 1889, \"president\": \"Benjamin Harrison\", \"no\": 23, \"maxFreq\": 38, \"numberOfSentences\": 440, \"numberOfWords\": 12969, \"numberOfSyllables\": 21381, \"fleschKincaid\": 15.359009, \"word\": \"law\"}, {\"date\": \"1890-12-01T00:00:00\", \"year\": 1890, \"president\": \"Benjamin Harrison\", \"no\": 23, \"maxFreq\": 39, \"numberOfSentences\": 369, \"numberOfWords\": 11482, \"numberOfSyllables\": 19006, \"fleschKincaid\": 16.077827, \"word\": \"law\"}, {\"date\": \"1891-12-09T00:00:00\", \"year\": 1891, \"president\": \"Benjamin Harrison\", \"no\": 23, \"maxFreq\": 42, \"numberOfSentences\": 466, \"numberOfWords\": 16245, \"numberOfSyllables\": 26292, \"fleschKincaid\": 17.103512, \"word\": \"during\"}, {\"date\": \"1892-12-06T00:00:00\", \"year\": 1892, \"president\": \"Benjamin Harrison\", \"no\": 23, \"maxFreq\": 47, \"numberOfSentences\": 430, \"numberOfWords\": 13572, \"numberOfSyllables\": 21466, \"fleschKincaid\": 15.382824, \"word\": \"during\"}, {\"date\": \"1897-12-06T00:00:00\", \"year\": 1897, \"president\": \"William McKinley\", \"no\": 25, \"maxFreq\": 108, \"numberOfSentences\": 380, \"numberOfWords\": 12087, \"numberOfSyllables\": 19995, \"fleschKincaid\": 16.335306, \"word\": \"government\"}, {\"date\": \"1898-12-05T00:00:00\", \"year\": 1898, \"president\": \"William McKinley\", \"no\": 25, \"maxFreq\": 100, \"numberOfSentences\": 629, \"numberOfWords\": 20153, \"numberOfSyllables\": 34009, \"fleschKincaid\": 16.818478, \"word\": \"united\"}, {\"date\": \"1899-12-05T00:00:00\", \"year\": 1899, \"president\": \"William McKinley\", \"no\": 25, \"maxFreq\": 96, \"numberOfSentences\": 452, \"numberOfWords\": 15086, \"numberOfSyllables\": 25803, \"fleschKincaid\": 17.60933, \"word\": \"states\"}, {\"date\": \"1900-12-03T00:00:00\", \"year\": 1900, \"president\": \"William McKinley\", \"no\": 25, \"maxFreq\": 53, \"numberOfSentences\": 609, \"numberOfWords\": 19070, \"numberOfSyllables\": 32392, \"fleschKincaid\": 16.665607, \"word\": \"islands\"}, {\"date\": \"1901-12-03T00:00:00\", \"year\": 1901, \"president\": \"Theodore Roosevelt\", \"no\": 26, \"maxFreq\": 50, \"numberOfSentences\": 681, \"numberOfWords\": 19609, \"numberOfSyllables\": 31814, \"fleschKincaid\": 14.784359, \"word\": \"men\"}, {\"date\": \"1902-12-02T00:00:00\", \"year\": 1902, \"president\": \"Theodore Roosevelt\", \"no\": 26, \"maxFreq\": 23, \"numberOfSentences\": 336, \"numberOfWords\": 9765, \"numberOfSyllables\": 15743, \"fleschKincaid\": 14.768173, \"word\": \"good\"}, {\"date\": \"1903-12-07T00:00:00\", \"year\": 1903, \"president\": \"Theodore Roosevelt\", \"no\": 26, \"maxFreq\": 46, \"numberOfSentences\": 574, \"numberOfWords\": 14932, \"numberOfSyllables\": 24680, \"fleschKincaid\": 14.0587845, \"word\": \"treaty\"}, {\"date\": \"1904-12-06T00:00:00\", \"year\": 1904, \"president\": \"Theodore Roosevelt\", \"no\": 26, \"maxFreq\": 50, \"numberOfSentences\": 531, \"numberOfWords\": 17409, \"numberOfSyllables\": 28461, \"fleschKincaid\": 16.48743, \"word\": \"work\"}, {\"date\": \"1905-12-05T00:00:00\", \"year\": 1905, \"president\": \"Theodore Roosevelt\", \"no\": 26, \"maxFreq\": 71, \"numberOfSentences\": 801, \"numberOfWords\": 25068, \"numberOfSyllables\": 40625, \"fleschKincaid\": 15.738379, \"word\": \"law\"}, {\"date\": \"1906-12-03T00:00:00\", \"year\": 1906, \"president\": \"Theodore Roosevelt\", \"no\": 26, \"maxFreq\": 64, \"numberOfSentences\": 672, \"numberOfWords\": 23601, \"numberOfSyllables\": 37743, \"fleschKincaid\": 16.977710000000002, \"word\": \"law\"}, {\"date\": \"1907-12-03T00:00:00\", \"year\": 1907, \"president\": \"Theodore Roosevelt\", \"no\": 26, \"maxFreq\": 79, \"numberOfSentences\": 886, \"numberOfWords\": 27385, \"numberOfSyllables\": 44302, \"fleschKincaid\": 15.553759, \"word\": \"law\"}, {\"date\": \"1908-12-08T00:00:00\", \"year\": 1908, \"president\": \"Theodore Roosevelt\", \"no\": 26, \"maxFreq\": 51, \"numberOfSentences\": 634, \"numberOfWords\": 19400, \"numberOfSyllables\": 31497, \"fleschKincaid\": 15.501724, \"word\": \"men\"}, {\"date\": \"1909-12-07T00:00:00\", \"year\": 1909, \"president\": \"William H. Taft\", \"no\": 27, \"maxFreq\": 48, \"numberOfSentences\": 385, \"numberOfWords\": 13879, \"numberOfSyllables\": 23720, \"fleschKincaid\": 18.63612, \"word\": \"department\"}, {\"date\": \"1910-12-06T00:00:00\", \"year\": 1910, \"president\": \"William H. Taft\", \"no\": 27, \"maxFreq\": 45, \"numberOfSentences\": 180, \"numberOfWords\": 6561, \"numberOfSyllables\": 11340, \"fleschKincaid\": 19.020565, \"word\": \"united\"}, {\"date\": \"1911-12-05T00:00:00\", \"year\": 1911, \"president\": \"William H. Taft\", \"no\": 27, \"maxFreq\": 49, \"numberOfSentences\": 718, \"numberOfWords\": 23639, \"numberOfSyllables\": 39456, \"fleschKincaid\": 16.945576, \"word\": \"statute\"}, {\"date\": \"1912-12-03T00:00:00\", \"year\": 1912, \"president\": \"William H. Taft\", \"no\": 27, \"maxFreq\": 95, \"numberOfSentences\": 750, \"numberOfWords\": 25107, \"numberOfSyllables\": 42518, \"fleschKincaid\": 17.448608, \"word\": \"american\"}, {\"date\": \"1913-12-02T00:00:00\", \"year\": 1913, \"president\": \"Woodrow Wilson\", \"no\": 28, \"maxFreq\": 8, \"numberOfSentences\": 109, \"numberOfWords\": 3552, \"numberOfSyllables\": 5598, \"fleschKincaid\": 15.71595, \"word\": \"credit\"}, {\"date\": \"1914-12-08T00:00:00\", \"year\": 1914, \"president\": \"Woodrow Wilson\", \"no\": 28, \"maxFreq\": 26, \"numberOfSentences\": 172, \"numberOfWords\": 4539, \"numberOfSyllables\": 6763, \"fleschKincaid\": 12.283632, \"word\": \"great\"}, {\"date\": \"1915-12-07T00:00:00\", \"year\": 1915, \"president\": \"Woodrow Wilson\", \"no\": 28, \"maxFreq\": 21, \"numberOfSentences\": 224, \"numberOfWords\": 7679, \"numberOfSyllables\": 12063, \"fleschKincaid\": 16.316399, \"word\": \"hundred\"}, {\"date\": \"1916-12-05T00:00:00\", \"year\": 1916, \"president\": \"Woodrow Wilson\", \"no\": 28, \"maxFreq\": 12, \"numberOfSentences\": 53, \"numberOfWords\": 2117, \"numberOfSyllables\": 3547, \"fleschKincaid\": 19.75864, \"word\": \"necessary\"}, {\"date\": \"1917-12-04T00:00:00\", \"year\": 1917, \"president\": \"Woodrow Wilson\", \"no\": 28, \"maxFreq\": 31, \"numberOfSentences\": 137, \"numberOfWords\": 3915, \"numberOfSyllables\": 5890, \"fleschKincaid\": 13.307636, \"word\": \"war\"}, {\"date\": \"1918-12-02T00:00:00\", \"year\": 1918, \"president\": \"Woodrow Wilson\", \"no\": 28, \"maxFreq\": 27, \"numberOfSentences\": 163, \"numberOfWords\": 5473, \"numberOfSyllables\": 8386, \"fleschKincaid\": 15.585449, \"word\": \"men\"}, {\"date\": \"1919-12-02T00:00:00\", \"year\": 1919, \"president\": \"Woodrow Wilson\", \"no\": 28, \"maxFreq\": 18, \"numberOfSentences\": 162, \"numberOfWords\": 4756, \"numberOfSyllables\": 7842, \"fleschKincaid\": 15.316231, \"word\": \"labor\"}, {\"date\": \"1920-12-07T00:00:00\", \"year\": 1920, \"president\": \"Woodrow Wilson\", \"no\": 28, \"maxFreq\": 16, \"numberOfSentences\": 72, \"numberOfWords\": 2699, \"numberOfSyllables\": 4375, \"fleschKincaid\": 18.157036, \"word\": \"faith\"}, {\"date\": \"1921-12-06T00:00:00\", \"year\": 1921, \"president\": \"Warren Harding\", \"no\": 29, \"maxFreq\": 16, \"numberOfSentences\": 209, \"numberOfWords\": 5601, \"numberOfSyllables\": 9545, \"fleschKincaid\": 14.970715, \"word\": \"conditions\"}, {\"date\": \"1922-12-08T00:00:00\", \"year\": 1922, \"president\": \"Warren Harding\", \"no\": 29, \"maxFreq\": 17, \"numberOfSentences\": 224, \"numberOfWords\": 5748, \"numberOfSyllables\": 9810, \"fleschKincaid\": 14.556509, \"word\": \"transportation\"}, {\"date\": \"1923-12-06T00:00:00\", \"year\": 1923, \"president\": \"Calvin Coolidge\", \"no\": 30, \"maxFreq\": 18, \"numberOfSentences\": 363, \"numberOfWords\": 6692, \"numberOfSyllables\": 11284, \"fleschKincaid\": 11.496822, \"word\": \"service\"}, {\"date\": \"1924-12-03T00:00:00\", \"year\": 1924, \"president\": \"Calvin Coolidge\", \"no\": 30, \"maxFreq\": 34, \"numberOfSentences\": 278, \"numberOfWords\": 6954, \"numberOfSyllables\": 11764, \"fleschKincaid\": 14.127533, \"word\": \"country\"}, {\"date\": \"1925-12-08T00:00:00\", \"year\": 1925, \"president\": \"Calvin Coolidge\", \"no\": 30, \"maxFreq\": 32, \"numberOfSentences\": 480, \"numberOfWords\": 10811, \"numberOfSyllables\": 18182, \"fleschKincaid\": 13.039244, \"word\": \"court\"}, {\"date\": \"1926-12-07T00:00:00\", \"year\": 1926, \"president\": \"Calvin Coolidge\", \"no\": 30, \"maxFreq\": 26, \"numberOfSentences\": 442, \"numberOfWords\": 10294, \"numberOfSyllables\": 17213, \"fleschKincaid\": 13.224184, \"word\": \"federal\"}, {\"date\": \"1927-12-06T00:00:00\", \"year\": 1927, \"president\": \"Calvin Coolidge\", \"no\": 30, \"maxFreq\": 21, \"numberOfSentences\": 451, \"numberOfWords\": 8745, \"numberOfSyllables\": 14719, \"fleschKincaid\": 11.833168, \"word\": \"agriculture\"}, {\"date\": \"1928-12-04T00:00:00\", \"year\": 1928, \"president\": \"Calvin Coolidge\", \"no\": 30, \"maxFreq\": 16, \"numberOfSentences\": 375, \"numberOfWords\": 8034, \"numberOfSyllables\": 13683, \"fleschKincaid\": 12.862373, \"word\": \"private\"}, {\"date\": \"1929-12-03T00:00:00\", \"year\": 1929, \"president\": \"Herbert Hoover\", \"no\": 31, \"maxFreq\": 34, \"numberOfSentences\": 409, \"numberOfWords\": 10960, \"numberOfSyllables\": 18931, \"fleschKincaid\": 15.242771, \"word\": \"federal\"}, {\"date\": \"1930-12-02T00:00:00\", \"year\": 1930, \"president\": \"Herbert Hoover\", \"no\": 31, \"maxFreq\": 19, \"numberOfSentences\": 162, \"numberOfWords\": 4515, \"numberOfSyllables\": 7962, \"fleschKincaid\": 16.088215, \"word\": \"construction\"}, {\"date\": \"1931-12-08T00:00:00\", \"year\": 1931, \"president\": \"Herbert Hoover\", \"no\": 31, \"maxFreq\": 32, \"numberOfSentences\": 253, \"numberOfWords\": 5667, \"numberOfSyllables\": 10113, \"fleschKincaid\": 14.203289, \"word\": \"banks\"}, {\"date\": \"1932-12-06T00:00:00\", \"year\": 1932, \"president\": \"Herbert Hoover\", \"no\": 31, \"maxFreq\": 23, \"numberOfSentences\": 162, \"numberOfWords\": 4206, \"numberOfSyllables\": 7123, \"fleschKincaid\": 14.519245, \"word\": \"economic\"}, {\"date\": \"1934-01-03T00:00:00\", \"year\": 1934, \"president\": \"Franklin D. Roosevelt\", \"no\": 32, \"maxFreq\": 12, \"numberOfSentences\": 75, \"numberOfWords\": 2226, \"numberOfSyllables\": 3670, \"fleschKincaid\": 15.439827, \"word\": \"national\"}, {\"date\": \"1935-01-04T00:00:00\", \"year\": 1935, \"president\": \"Franklin D. Roosevelt\", \"no\": 32, \"maxFreq\": 19, \"numberOfSentences\": 146, \"numberOfWords\": 3525, \"numberOfSyllables\": 5790, \"fleschKincaid\": 13.208223, \"word\": \"work\"}, {\"date\": \"1936-01-03T00:00:00\", \"year\": 1936, \"president\": \"Franklin D. Roosevelt\", \"no\": 32, \"maxFreq\": 23, \"numberOfSentences\": 167, \"numberOfWords\": 3820, \"numberOfSyllables\": 5955, \"fleschKincaid\": 11.725983, \"word\": \"world\"}, {\"date\": \"1937-01-06T00:00:00\", \"year\": 1937, \"president\": \"Franklin D. Roosevelt\", \"no\": 32, \"maxFreq\": 16, \"numberOfSentences\": 106, \"numberOfWords\": 2733, \"numberOfSyllables\": 4603, \"fleschKincaid\": 14.339287, \"word\": \"democracy\"}, {\"date\": \"1938-01-03T00:00:00\", \"year\": 1938, \"president\": \"Franklin D. Roosevelt\", \"no\": 32, \"maxFreq\": 23, \"numberOfSentences\": 175, \"numberOfWords\": 4701, \"numberOfSyllables\": 7651, \"fleschKincaid\": 14.09132, \"word\": \"business\"}, {\"date\": \"1939-01-04T00:00:00\", \"year\": 1939, \"president\": \"Franklin D. Roosevelt\", \"no\": 32, \"maxFreq\": 15, \"numberOfSentences\": 170, \"numberOfWords\": 3768, \"numberOfSyllables\": 6106, \"fleschKincaid\": 12.175995, \"word\": \"nation\"}, {\"date\": \"1940-01-03T00:00:00\", \"year\": 1940, \"president\": \"Franklin D. Roosevelt\", \"no\": 32, \"maxFreq\": 29, \"numberOfSentences\": 123, \"numberOfWords\": 3202, \"numberOfSyllables\": 5050, \"fleschKincaid\": 13.172924, \"word\": \"world\"}, {\"date\": \"1941-01-06T00:00:00\", \"year\": 1941, \"president\": \"Franklin D. Roosevelt\", \"no\": 32, \"maxFreq\": 20, \"numberOfSentences\": 150, \"numberOfWords\": 3318, \"numberOfSyllables\": 5207, \"fleschKincaid\": 11.554764, \"word\": \"world\"}, {\"date\": \"1942-01-06T00:00:00\", \"year\": 1942, \"president\": \"Franklin D. Roosevelt\", \"no\": 32, \"maxFreq\": 31, \"numberOfSentences\": 172, \"numberOfWords\": 3509, \"numberOfSyllables\": 5221, \"fleschKincaid\": 9.923536, \"word\": \"war\"}, {\"date\": \"1943-01-07T00:00:00\", \"year\": 1943, \"president\": \"Franklin D. Roosevelt\", \"no\": 32, \"maxFreq\": 45, \"numberOfSentences\": 203, \"numberOfWords\": 4588, \"numberOfSyllables\": 6941, \"fleschKincaid\": 11.076126, \"word\": \"war\"}, {\"date\": \"1944-01-11T00:00:00\", \"year\": 1944, \"president\": \"Franklin D. Roosevelt\", \"no\": 32, \"maxFreq\": 48, \"numberOfSentences\": 175, \"numberOfWords\": 3810, \"numberOfSyllables\": 5928, \"fleschKincaid\": 11.26054, \"word\": \"war\"}, {\"date\": \"1945-01-06T00:00:00\", \"year\": 1945, \"president\": \"Franklin D. Roosevelt\", \"no\": 32, \"maxFreq\": 75, \"numberOfSentences\": 338, \"numberOfWords\": 8214, \"numberOfSyllables\": 13214, \"fleschKincaid\": 12.87055, \"word\": \"war\"}, {\"date\": \"1946-01-21T00:00:00\", \"year\": 1946, \"president\": \"Harry S. Truman\", \"no\": 33, \"maxFreq\": 206, \"numberOfSentences\": 1258, \"numberOfWords\": 27731, \"numberOfSyllables\": 47482, \"fleschKincaid\": 13.21143, \"word\": \"dollars\"}, {\"date\": \"1947-01-06T00:00:00\", \"year\": 1947, \"president\": \"Harry S. Truman\", \"no\": 33, \"maxFreq\": 29, \"numberOfSentences\": 294, \"numberOfWords\": 6051, \"numberOfSyllables\": 10244, \"fleschKincaid\": 12.4135685, \"word\": \"national\"}, {\"date\": \"1948-01-07T00:00:00\", \"year\": 1948, \"president\": \"Harry S. Truman\", \"no\": 33, \"maxFreq\": 31, \"numberOfSentences\": 276, \"numberOfWords\": 5099, \"numberOfSyllables\": 8189, \"fleschKincaid\": 10.565922, \"word\": \"world\"}, {\"date\": \"1949-01-05T00:00:00\", \"year\": 1949, \"president\": \"Harry S. Truman\", \"no\": 33, \"maxFreq\": 12, \"numberOfSentences\": 187, \"numberOfWords\": 3403, \"numberOfSyllables\": 5628, \"fleschKincaid\": 11.022417, \"word\": \"prosperity\"}, {\"date\": \"1950-01-04T00:00:00\", \"year\": 1950, \"president\": \"Harry S. Truman\", \"no\": 33, \"maxFreq\": 27, \"numberOfSentences\": 236, \"numberOfWords\": 5129, \"numberOfSyllables\": 8236, \"fleschKincaid\": 11.833988, \"word\": \"world\"}, {\"date\": \"1951-01-08T00:00:00\", \"year\": 1951, \"president\": \"Harry S. Truman\", \"no\": 33, \"maxFreq\": 32, \"numberOfSentences\": 245, \"numberOfWords\": 4008, \"numberOfSyllables\": 6009, \"fleschKincaid\": 8.481249, \"word\": \"world\"}, {\"date\": \"1952-01-09T00:00:00\", \"year\": 1952, \"president\": \"Harry S. Truman\", \"no\": 33, \"maxFreq\": 34, \"numberOfSentences\": 297, \"numberOfWords\": 5366, \"numberOfSyllables\": 7867, \"fleschKincaid\": 8.756039, \"word\": \"world\"}, {\"date\": \"1953-01-07T00:00:00\", \"year\": 1953, \"president\": \"Harry S. Truman\", \"no\": 33, \"maxFreq\": 93, \"numberOfSentences\": 431, \"numberOfWords\": 9679, \"numberOfSyllables\": 15061, \"fleschKincaid\": 11.52964, \"word\": \"world\"}, {\"date\": \"1953-02-02T00:00:00\", \"year\": 1953, \"president\": \"Dwight D. Eisenhower\", \"no\": 34, \"maxFreq\": 21, \"numberOfSentences\": 356, \"numberOfWords\": 6973, \"numberOfSyllables\": 12064, \"fleschKincaid\": 12.464161, \"word\": \"federal\"}, {\"date\": \"1954-01-07T00:00:00\", \"year\": 1954, \"president\": \"Dwight D. Eisenhower\", \"no\": 34, \"maxFreq\": 26, \"numberOfSentences\": 288, \"numberOfWords\": 5991, \"numberOfSyllables\": 10361, \"fleschKincaid\": 12.930056, \"word\": \"shall\"}, {\"date\": \"1955-01-06T00:00:00\", \"year\": 1955, \"president\": \"Dwight D. Eisenhower\", \"no\": 34, \"maxFreq\": 39, \"numberOfSentences\": 337, \"numberOfWords\": 7254, \"numberOfSyllables\": 12832, \"fleschKincaid\": 13.678507, \"word\": \"federal\"}, {\"date\": \"1956-01-05T00:00:00\", \"year\": 1956, \"president\": \"Dwight D. Eisenhower\", \"no\": 34, \"maxFreq\": 43, \"numberOfSentences\": 377, \"numberOfWords\": 8272, \"numberOfSyllables\": 14402, \"fleschKincaid\": 13.511681, \"word\": \"program\"}, {\"date\": \"1957-01-10T00:00:00\", \"year\": 1957, \"president\": \"Dwight D. Eisenhower\", \"no\": 34, \"maxFreq\": 20, \"numberOfSentences\": 187, \"numberOfWords\": 4143, \"numberOfSyllables\": 7145, \"fleschKincaid\": 13.400711, \"word\": \"world\"}, {\"date\": \"1958-01-09T00:00:00\", \"year\": 1958, \"president\": \"Dwight D. Eisenhower\", \"no\": 34, \"maxFreq\": 29, \"numberOfSentences\": 249, \"numberOfWords\": 4919, \"numberOfSyllables\": 8248, \"fleschKincaid\": 11.900269, \"word\": \"world\"}, {\"date\": \"1959-01-09T00:00:00\", \"year\": 1959, \"president\": \"Dwight D. Eisenhower\", \"no\": 34, \"maxFreq\": 23, \"numberOfSentences\": 264, \"numberOfWords\": 4889, \"numberOfSyllables\": 8231, \"fleschKincaid\": 11.498577, \"word\": \"world\"}, {\"date\": \"1960-01-07T00:00:00\", \"year\": 1960, \"president\": \"Dwight D. Eisenhower\", \"no\": 34, \"maxFreq\": 31, \"numberOfSentences\": 254, \"numberOfWords\": 5646, \"numberOfSyllables\": 9616, \"fleschKincaid\": 13.176258, \"word\": \"world\"}, {\"date\": \"1961-01-12T00:00:00\", \"year\": 1961, \"president\": \"Dwight D. Eisenhower\", \"no\": 34, \"maxFreq\": 37, \"numberOfSentences\": 264, \"numberOfWords\": 6202, \"numberOfSyllables\": 11077, \"fleschKincaid\": 14.647278, \"word\": \"new\"}, {\"date\": \"1961-01-30T00:00:00\", \"year\": 1961, \"president\": \"John F. Kennedy\", \"no\": 35, \"maxFreq\": 25, \"numberOfSentences\": 213, \"numberOfWords\": 5264, \"numberOfSyllables\": 8557, \"fleschKincaid\": 13.230036, \"word\": \"world\"}, {\"date\": \"1962-01-11T00:00:00\", \"year\": 1962, \"president\": \"John F. Kennedy\", \"no\": 35, \"maxFreq\": 43, \"numberOfSentences\": 277, \"numberOfWords\": 6575, \"numberOfSyllables\": 10604, \"fleschKincaid\": 12.697973, \"word\": \"new\"}, {\"date\": \"1963-01-14T00:00:00\", \"year\": 1963, \"president\": \"John F. Kennedy\", \"no\": 35, \"maxFreq\": 24, \"numberOfSentences\": 233, \"numberOfWords\": 5382, \"numberOfSyllables\": 8413, \"fleschKincaid\": 11.863945, \"word\": \"world\"}, {\"date\": \"1964-01-08T00:00:00\", \"year\": 1964, \"president\": \"Lyndon B. Johnson\", \"no\": 36, \"maxFreq\": 18, \"numberOfSentences\": 142, \"numberOfWords\": 3199, \"numberOfSyllables\": 4957, \"fleschKincaid\": 11.480637, \"word\": \"every\"}, {\"date\": \"1965-01-04T00:00:00\", \"year\": 1965, \"president\": \"Lyndon B. Johnson\", \"no\": 36, \"maxFreq\": 23, \"numberOfSentences\": 256, \"numberOfWords\": 4423, \"numberOfSyllables\": 6731, \"fleschKincaid\": 9.105614, \"word\": \"new\"}, {\"date\": \"1966-01-12T00:00:00\", \"year\": 1966, \"president\": \"Lyndon B. Johnson\", \"no\": 36, \"maxFreq\": 32, \"numberOfSentences\": 244, \"numberOfWords\": 5309, \"numberOfSyllables\": 7979, \"fleschKincaid\": 10.630146, \"word\": \"vietnam\"}, {\"date\": \"1967-01-10T00:00:00\", \"year\": 1967, \"president\": \"Lyndon B. Johnson\", \"no\": 36, \"maxFreq\": 21, \"numberOfSentences\": 356, \"numberOfWords\": 7170, \"numberOfSyllables\": 10960, \"fleschKincaid\": 10.302153, \"word\": \"vietnam\"}, {\"date\": \"1968-01-17T00:00:00\", \"year\": 1968, \"president\": \"Lyndon B. Johnson\", \"no\": 36, \"maxFreq\": 35, \"numberOfSentences\": 258, \"numberOfWords\": 4895, \"numberOfSyllables\": 7531, \"fleschKincaid\": 9.9638195, \"word\": \"year\"}, {\"date\": \"1969-01-14T00:00:00\", \"year\": 1969, \"president\": \"Lyndon B. Johnson\", \"no\": 36, \"maxFreq\": 31, \"numberOfSentences\": 200, \"numberOfWords\": 4122, \"numberOfSyllables\": 6167, \"fleschKincaid\": 10.102097, \"word\": \"congress\"}, {\"date\": \"1970-01-22T00:00:00\", \"year\": 1970, \"president\": \"Richard Nixon\", \"no\": 37, \"maxFreq\": 33, \"numberOfSentences\": 199, \"numberOfWords\": 4470, \"numberOfSyllables\": 6751, \"fleschKincaid\": 10.991734, \"word\": \"new\"}, {\"date\": \"1971-01-22T00:00:00\", \"year\": 1971, \"president\": \"Richard Nixon\", \"no\": 37, \"maxFreq\": 50, \"numberOfSentences\": 196, \"numberOfWords\": 4522, \"numberOfSyllables\": 6832, \"fleschKincaid\": 11.235721999999999, \"word\": \"government\"}, {\"date\": \"1972-01-20T00:00:00\", \"year\": 1972, \"president\": \"Richard Nixon\", \"no\": 37, \"maxFreq\": 25, \"numberOfSentences\": 174, \"numberOfWords\": 3990, \"numberOfSyllables\": 6163, \"fleschKincaid\": 11.579521, \"word\": \"new\"}, {\"date\": \"1973-02-02T00:00:00\", \"year\": 1973, \"president\": \"Richard Nixon\", \"no\": 37, \"maxFreq\": 7, \"numberOfSentences\": 60, \"numberOfWords\": 1670, \"numberOfSyllables\": 2635, \"fleschKincaid\": 13.883562, \"word\": \"resources\"}, {\"date\": \"1974-01-30T00:00:00\", \"year\": 1974, \"president\": \"Richard Nixon\", \"no\": 37, \"maxFreq\": 40, \"numberOfSentences\": 207, \"numberOfWords\": 5170, \"numberOfSyllables\": 7815, \"fleschKincaid\": 11.987524, \"word\": \"years\"}, {\"date\": \"1975-01-15T00:00:00\", \"year\": 1975, \"president\": \"Gerald R. Ford\", \"no\": 38, \"maxFreq\": 25, \"numberOfSentences\": 226, \"numberOfWords\": 4105, \"numberOfSyllables\": 6700, \"fleschKincaid\": 10.753288, \"word\": \"world\"}, {\"date\": \"1976-01-19T00:00:00\", \"year\": 1976, \"president\": \"Gerald R. Ford\", \"no\": 38, \"maxFreq\": 34, \"numberOfSentences\": 277, \"numberOfWords\": 4968, \"numberOfSyllables\": 8016, \"fleschKincaid\": 10.444271, \"word\": \"federal\"}, {\"date\": \"1977-01-12T00:00:00\", \"year\": 1977, \"president\": \"Gerald R. Ford\", \"no\": 38, \"maxFreq\": 21, \"numberOfSentences\": 214, \"numberOfWords\": 4663, \"numberOfSyllables\": 7617, \"fleschKincaid\": 12.183266, \"word\": \"president\"}, {\"date\": \"1978-01-19T00:00:00\", \"year\": 1978, \"president\": \"Jimmy Carter\", \"no\": 39, \"maxFreq\": 23, \"numberOfSentences\": 251, \"numberOfWords\": 4573, \"numberOfSyllables\": 7116, \"fleschKincaid\": 9.877323, \"word\": \"world\"}, {\"date\": \"1979-01-25T00:00:00\", \"year\": 1979, \"president\": \"Jimmy Carter\", \"no\": 39, \"maxFreq\": 27, \"numberOfSentences\": 161, \"numberOfWords\": 3256, \"numberOfSyllables\": 5186, \"fleschKincaid\": 11.091677, \"word\": \"world\"}, {\"date\": \"1980-01-21T00:00:00\", \"year\": 1980, \"president\": \"Jimmy Carter\", \"no\": 39, \"maxFreq\": 31, \"numberOfSentences\": 164, \"numberOfWords\": 3422, \"numberOfSyllables\": 5425, \"fleschKincaid\": 11.254581, \"word\": \"soviet\"}, {\"date\": \"1981-01-16T00:00:00\", \"year\": 1981, \"president\": \"Jimmy Carter\", \"no\": 39, \"maxFreq\": 128, \"numberOfSentences\": 1359, \"numberOfWords\": 33613, \"numberOfSyllables\": 60409, \"fleschKincaid\": 15.262976, \"word\": \"administration\"}, {\"date\": \"1982-01-26T00:00:00\", \"year\": 1982, \"president\": \"Ronald Reagan\", \"no\": 40, \"maxFreq\": 27, \"numberOfSentences\": 258, \"numberOfWords\": 5212, \"numberOfSyllables\": 8210, \"fleschKincaid\": 10.876095, \"word\": \"programs\"}, {\"date\": \"1983-01-25T00:00:00\", \"year\": 1983, \"president\": \"Ronald Reagan\", \"no\": 40, \"maxFreq\": 18, \"numberOfSentences\": 267, \"numberOfWords\": 5609, \"numberOfSyllables\": 8911, \"fleschKincaid\": 11.349543, \"word\": \"economic\"}, {\"date\": \"1984-01-25T00:00:00\", \"year\": 1984, \"president\": \"Ronald Reagan\", \"no\": 40, \"maxFreq\": 24, \"numberOfSentences\": 298, \"numberOfWords\": 4985, \"numberOfSyllables\": 7809, \"fleschKincaid\": 9.418686, \"word\": \"peace\"}, {\"date\": \"1985-02-06T00:00:00\", \"year\": 1985, \"president\": \"Ronald Reagan\", \"no\": 40, \"maxFreq\": 24, \"numberOfSentences\": 230, \"numberOfWords\": 4266, \"numberOfSyllables\": 6676, \"fleschKincaid\": 10.10985, \"word\": \"years\"}, {\"date\": \"1986-02-04T00:00:00\", \"year\": 1986, \"president\": \"Ronald Reagan\", \"no\": 40, \"maxFreq\": 22, \"numberOfSentences\": 185, \"numberOfWords\": 3523, \"numberOfSyllables\": 5389, \"fleschKincaid\": 9.886879, \"word\": \"america\"}, {\"date\": \"1987-01-27T00:00:00\", \"year\": 1987, \"president\": \"Ronald Reagan\", \"no\": 40, \"maxFreq\": 19, \"numberOfSentences\": 214, \"numberOfWords\": 3833, \"numberOfSyllables\": 5829, \"fleschKincaid\": 9.340118, \"word\": \"america\"}, {\"date\": \"1988-01-25T00:00:00\", \"year\": 1988, \"president\": \"Ronald Reagan\", \"no\": 40, \"maxFreq\": 23, \"numberOfSentences\": 234, \"numberOfWords\": 4898, \"numberOfSyllables\": 7583, \"fleschKincaid\": 10.841892, \"word\": \"america\"}, {\"date\": \"1989-02-09T00:00:00\", \"year\": 1989, \"president\": \"George H.W. Bush\", \"no\": 41, \"maxFreq\": 24, \"numberOfSentences\": 293, \"numberOfWords\": 4797, \"numberOfSyllables\": 7296, \"fleschKincaid\": 8.742302, \"word\": \"america\"}, {\"date\": \"1990-01-31T00:00:00\", \"year\": 1990, \"president\": \"George H.W. Bush\", \"no\": 41, \"maxFreq\": 25, \"numberOfSentences\": 230, \"numberOfWords\": 3776, \"numberOfSyllables\": 5644, \"fleschKincaid\": 8.450283, \"word\": \"every\"}, {\"date\": \"1991-01-29T00:00:00\", \"year\": 1991, \"president\": \"George H.W. Bush\", \"no\": 41, \"maxFreq\": 28, \"numberOfSentences\": 233, \"numberOfWords\": 3790, \"numberOfSyllables\": 5951, \"fleschKincaid\": 9.281956, \"word\": \"world\"}, {\"date\": \"1992-01-28T00:00:00\", \"year\": 1992, \"president\": \"George H.W. Bush\", \"no\": 41, \"maxFreq\": 23, \"numberOfSentences\": 301, \"numberOfWords\": 4717, \"numberOfSyllables\": 6834, \"fleschKincaid\": 7.6175957, \"word\": \"plan\"}, {\"date\": \"1993-02-17T00:00:00\", \"year\": 1993, \"president\": \"William J. Clinton\", \"no\": 42, \"maxFreq\": 44, \"numberOfSentences\": 294, \"numberOfWords\": 6988, \"numberOfSyllables\": 10302, \"fleschKincaid\": 11.075848, \"word\": \"people\"}, {\"date\": \"1994-01-25T00:00:00\", \"year\": 1994, \"president\": \"William J. Clinton\", \"no\": 42, \"maxFreq\": 62, \"numberOfSentences\": 374, \"numberOfWords\": 7421, \"numberOfSyllables\": 10903, \"fleschKincaid\": 9.485142, \"word\": \"people\"}, {\"date\": \"1995-01-24T00:00:00\", \"year\": 1995, \"president\": \"William J. Clinton\", \"no\": 42, \"maxFreq\": 72, \"numberOfSentences\": 452, \"numberOfWords\": 9177, \"numberOfSyllables\": 13315, \"fleschKincaid\": 9.448944, \"word\": \"people\"}, {\"date\": \"1996-01-23T00:00:00\", \"year\": 1996, \"president\": \"William J. Clinton\", \"no\": 42, \"maxFreq\": 43, \"numberOfSentences\": 359, \"numberOfWords\": 6307, \"numberOfSyllables\": 9533, \"fleschKincaid\": 9.097258, \"word\": \"people\"}, {\"date\": \"1997-02-04T00:00:00\", \"year\": 1997, \"president\": \"William J. Clinton\", \"no\": 42, \"maxFreq\": 43, \"numberOfSentences\": 355, \"numberOfWords\": 6772, \"numberOfSyllables\": 10180, \"fleschKincaid\": 9.587996, \"word\": \"america\"}, {\"date\": \"1998-01-27T00:00:00\", \"year\": 1998, \"president\": \"William J. Clinton\", \"no\": 42, \"maxFreq\": 45, \"numberOfSentences\": 368, \"numberOfWords\": 7310, \"numberOfSyllables\": 11066, \"fleschKincaid\": 10.020046, \"word\": \"new\"}, {\"date\": \"1999-01-19T00:00:00\", \"year\": 1999, \"president\": \"William J. Clinton\", \"no\": 42, \"maxFreq\": 42, \"numberOfSentences\": 397, \"numberOfWords\": 7488, \"numberOfSyllables\": 11487, \"fleschKincaid\": 9.867813, \"word\": \"now\"}, {\"date\": \"2000-01-27T00:00:00\", \"year\": 2000, \"president\": \"William J. Clinton\", \"no\": 42, \"maxFreq\": 51, \"numberOfSentences\": 413, \"numberOfWords\": 7436, \"numberOfSyllables\": 11593, \"fleschKincaid\": 9.828527, \"word\": \"new\"}, {\"date\": \"2001-02-27T00:00:00\", \"year\": 2001, \"president\": \"George W. Bush\", \"no\": 43, \"maxFreq\": 26, \"numberOfSentences\": 272, \"numberOfWords\": 4367, \"numberOfSyllables\": 6685, \"fleschKincaid\": 8.734938, \"word\": \"budget\"}, {\"date\": \"2001-09-20T00:00:00\", \"year\": 2001, \"president\": \"George W. Bush\", \"no\": 43, \"maxFreq\": 16, \"numberOfSentences\": 191, \"numberOfWords\": 2966, \"numberOfSyllables\": 4666, \"fleschKincaid\": 9.029549, \"word\": \"america\"}, {\"date\": \"2002-01-29T00:00:00\", \"year\": 2002, \"president\": \"George W. Bush\", \"no\": 43, \"maxFreq\": 33, \"numberOfSentences\": 216, \"numberOfWords\": 3829, \"numberOfSyllables\": 6032, \"fleschKincaid\": 9.912556, \"word\": \"america\"}, {\"date\": \"2003-01-28T00:00:00\", \"year\": 2003, \"president\": \"George W. Bush\", \"no\": 43, \"maxFreq\": 27, \"numberOfSentences\": 296, \"numberOfWords\": 5364, \"numberOfSyllables\": 8505, \"fleschKincaid\": 10.187164, \"word\": \"weapons\"}, {\"date\": \"2004-01-20T00:00:00\", \"year\": 2004, \"president\": \"George W. Bush\", \"no\": 43, \"maxFreq\": 31, \"numberOfSentences\": 276, \"numberOfWords\": 5169, \"numberOfSyllables\": 8058, \"fleschKincaid\": 10.109148, \"word\": \"america\"}, {\"date\": \"2005-02-02T00:00:00\", \"year\": 2005, \"president\": \"George W. Bush\", \"no\": 43, \"maxFreq\": 29, \"numberOfSentences\": 240, \"numberOfWords\": 5053, \"numberOfSyllables\": 8065, \"fleschKincaid\": 11.4548855, \"word\": \"security\"}, {\"date\": \"2006-01-31T00:00:00\", \"year\": 2006, \"president\": \"George W. Bush\", \"no\": 43, \"maxFreq\": 38, \"numberOfSentences\": 277, \"numberOfWords\": 5321, \"numberOfSyllables\": 8522, \"fleschKincaid\": 10.800289, \"word\": \"america\"}, {\"date\": \"2007-01-23T00:00:00\", \"year\": 2007, \"president\": \"George W. Bush\", \"no\": 43, \"maxFreq\": 24, \"numberOfSentences\": 288, \"numberOfWords\": 5595, \"numberOfSyllables\": 8498, \"fleschKincaid\": 9.909065, \"word\": \"america\"}, {\"date\": \"2008-01-28T00:00:00\", \"year\": 2008, \"president\": \"George W. Bush\", \"no\": 43, \"maxFreq\": 30, \"numberOfSentences\": 306, \"numberOfWords\": 5749, \"numberOfSyllables\": 9033, \"fleschKincaid\": 10.277668, \"word\": \"america\"}, {\"date\": \"2009-02-24T00:00:00\", \"year\": 2009, \"president\": \"Barack Obama\", \"no\": 44, \"maxFreq\": 23, \"numberOfSentences\": 283, \"numberOfWords\": 5900, \"numberOfSyllables\": 8883, \"fleschKincaid\": 10.306744, \"word\": \"because\"}, {\"date\": \"2010-01-27T00:00:00\", \"year\": 2010, \"president\": \"Barack Obama\", \"no\": 44, \"maxFreq\": 28, \"numberOfSentences\": 409, \"numberOfWords\": 7068, \"numberOfSyllables\": 10665, \"fleschKincaid\": 8.954834, \"word\": \"americans\"}, {\"date\": \"2011-01-25T00:00:00\", \"year\": 2011, \"president\": \"Barack Obama\", \"no\": 44, \"maxFreq\": 25, \"numberOfSentences\": 417, \"numberOfWords\": 6886, \"numberOfSyllables\": 10112, \"fleschKincaid\": 8.1782875, \"word\": \"jobs\"}, {\"date\": \"2012-01-24T00:00:00\", \"year\": 2012, \"president\": \"Barack Obama\", \"no\": 44, \"maxFreq\": 33, \"numberOfSentences\": 420, \"numberOfWords\": 6945, \"numberOfSyllables\": 10496, \"fleschKincaid\": 8.692305, \"word\": \"jobs\"}, {\"date\": \"2013-02-12T00:00:00\", \"year\": 2013, \"president\": \"Barack Obama\", \"no\": 44, \"maxFreq\": 31, \"numberOfSentences\": 331, \"numberOfWords\": 6416, \"numberOfSyllables\": 9809, \"fleschKincaid\": 10.009882, \"word\": \"jobs\"}, {\"date\": \"2014-01-28T00:00:00\", \"year\": 2014, \"president\": \"Barack Obama\", \"no\": 44, \"maxFreq\": 31, \"numberOfSentences\": 346, \"numberOfWords\": 6773, \"numberOfSyllables\": 10379, \"fleschKincaid\": 10.126722000000001, \"word\": \"help\"}, {\"date\": \"2015-01-20T00:00:00\", \"year\": 2015, \"president\": \"Barack Obama\", \"no\": 44, \"maxFreq\": 35, \"numberOfSentences\": 374, \"numberOfWords\": 6719, \"numberOfSyllables\": 10018, \"fleschKincaid\": 9.010191, \"word\": \"america\"}, {\"date\": \"2016-01-12T00:00:00\", \"year\": 2016, \"president\": \"Barack Obama\", \"no\": 44, \"maxFreq\": 30, \"numberOfSentences\": 304, \"numberOfWords\": 5439, \"numberOfSyllables\": 8125, \"fleschKincaid\": 9.014984, \"word\": \"that's\"}, {\"date\": \"2017-02-28T00:00:00\", \"year\": 2017, \"president\": \"Donald J. Trump\", \"no\": 45, \"maxFreq\": 32, \"numberOfSentences\": 301, \"numberOfWords\": 5012, \"numberOfSyllables\": 7692, \"fleschKincaid\": 9.013611, \"word\": \"american\"}, {\"date\": \"2018-01-30T00:00:00\", \"year\": 2018, \"president\": \"Donald J. Trump\", \"no\": 45, \"maxFreq\": 29, \"numberOfSentences\": 319, \"numberOfWords\": 5139, \"numberOfSyllables\": 7992, \"fleschKincaid\": 9.043753, \"word\": \"american\"}, {\"date\": \"2019-02-05T00:00:00\", \"year\": 2019, \"president\": \"Donald J. Trump\", \"no\": 45, \"maxFreq\": 19, \"numberOfSentences\": 295, \"numberOfWords\": 5190, \"numberOfSyllables\": 8181, \"fleschKincaid\": 9.871701999999999, \"word\": \"tonight\"}, {\"date\": \"2020-02-04T00:00:00\", \"year\": 2020, \"president\": \"Donald J. Trump\", \"no\": 45, \"maxFreq\": 34, \"numberOfSentences\": 335, \"numberOfWords\": 5885, \"numberOfSyllables\": 9474, \"fleschKincaid\": 10.257488, \"word\": \"american\"}, {\"date\": \"2021-04-28T00:00:00\", \"year\": 2021, \"president\": \"Joseph R. Biden\", \"no\": 46, \"maxFreq\": 46, \"numberOfSentences\": 460, \"numberOfWords\": 6036, \"numberOfSyllables\": 9095, \"fleschKincaid\": 7.3076324, \"word\": \"american\"}]}}, {\"mode\": \"vega-lite\"});\n",
       "</script>"
      ],
      "text/plain": [
       "alt.Chart(...)"
      ]
     },
     "execution_count": 30,
     "metadata": {},
     "output_type": "execute_result"
    }
   ],
   "source": [
    "alt.Chart(final_df).mark_area().encode(x=\"date\", y=\"numberOfSyllables\").properties(\n",
    "    width=600\n",
    ")"
   ]
  },
  {
   "cell_type": "code",
   "execution_count": 31,
   "id": "c7e7de29-6ad5-48d3-85d8-e82b15dcb183",
   "metadata": {},
   "outputs": [
    {
     "data": {
      "text/html": [
       "\n",
       "<div id=\"altair-viz-0751cfe7a3984e83858788758b148aac\"></div>\n",
       "<script type=\"text/javascript\">\n",
       "  var VEGA_DEBUG = (typeof VEGA_DEBUG == \"undefined\") ? {} : VEGA_DEBUG;\n",
       "  (function(spec, embedOpt){\n",
       "    let outputDiv = document.currentScript.previousElementSibling;\n",
       "    if (outputDiv.id !== \"altair-viz-0751cfe7a3984e83858788758b148aac\") {\n",
       "      outputDiv = document.getElementById(\"altair-viz-0751cfe7a3984e83858788758b148aac\");\n",
       "    }\n",
       "    const paths = {\n",
       "      \"vega\": \"https://cdn.jsdelivr.net/npm//vega@5?noext\",\n",
       "      \"vega-lib\": \"https://cdn.jsdelivr.net/npm//vega-lib?noext\",\n",
       "      \"vega-lite\": \"https://cdn.jsdelivr.net/npm//vega-lite@4.17.0?noext\",\n",
       "      \"vega-embed\": \"https://cdn.jsdelivr.net/npm//vega-embed@6?noext\",\n",
       "    };\n",
       "\n",
       "    function maybeLoadScript(lib, version) {\n",
       "      var key = `${lib.replace(\"-\", \"\")}_version`;\n",
       "      return (VEGA_DEBUG[key] == version) ?\n",
       "        Promise.resolve(paths[lib]) :\n",
       "        new Promise(function(resolve, reject) {\n",
       "          var s = document.createElement('script');\n",
       "          document.getElementsByTagName(\"head\")[0].appendChild(s);\n",
       "          s.async = true;\n",
       "          s.onload = () => {\n",
       "            VEGA_DEBUG[key] = version;\n",
       "            return resolve(paths[lib]);\n",
       "          };\n",
       "          s.onerror = () => reject(`Error loading script: ${paths[lib]}`);\n",
       "          s.src = paths[lib];\n",
       "        });\n",
       "    }\n",
       "\n",
       "    function showError(err) {\n",
       "      outputDiv.innerHTML = `<div class=\"error\" style=\"color:red;\">${err}</div>`;\n",
       "      throw err;\n",
       "    }\n",
       "\n",
       "    function displayChart(vegaEmbed) {\n",
       "      vegaEmbed(outputDiv, spec, embedOpt)\n",
       "        .catch(err => showError(`Javascript Error: ${err.message}<br>This usually means there's a typo in your chart specification. See the javascript console for the full traceback.`));\n",
       "    }\n",
       "\n",
       "    if(typeof define === \"function\" && define.amd) {\n",
       "      requirejs.config({paths});\n",
       "      require([\"vega-embed\"], displayChart, err => showError(`Error loading script: ${err.message}`));\n",
       "    } else {\n",
       "      maybeLoadScript(\"vega\", \"5\")\n",
       "        .then(() => maybeLoadScript(\"vega-lite\", \"4.17.0\"))\n",
       "        .then(() => maybeLoadScript(\"vega-embed\", \"6\"))\n",
       "        .catch(showError)\n",
       "        .then(() => displayChart(vegaEmbed));\n",
       "    }\n",
       "  })({\"config\": {\"view\": {\"continuousWidth\": 400, \"continuousHeight\": 300}}, \"data\": {\"name\": \"data-cf12ab2467459485d038409357d18685\"}, \"mark\": \"line\", \"encoding\": {\"x\": {\"field\": \"year\", \"type\": \"ordinal\"}, \"y\": {\"field\": \"fleschKincaid\", \"type\": \"quantitative\"}}, \"width\": 650, \"$schema\": \"https://vega.github.io/schema/vega-lite/v4.17.0.json\", \"datasets\": {\"data-cf12ab2467459485d038409357d18685\": [{\"date\": \"1790-01-08T00:00:00\", \"year\": 1790, \"president\": \"George Washington\", \"no\": 1, \"maxFreq\": 3, \"numberOfSentences\": 24, \"numberOfWords\": 1085, \"numberOfSyllables\": 1869, \"fleschKincaid\": 22.367702, \"word\": \"render\"}, {\"date\": \"1790-12-08T00:00:00\", \"year\": 1790, \"president\": \"George Washington\", \"no\": 1, \"maxFreq\": 3, \"numberOfSentences\": 40, \"numberOfWords\": 1403, \"numberOfSyllables\": 2288, \"fleschKincaid\": 17.332584, \"word\": \"militia\"}, {\"date\": \"1791-10-25T00:00:00\", \"year\": 1791, \"president\": \"George Washington\", \"no\": 1, \"maxFreq\": 7, \"numberOfSentences\": 60, \"numberOfWords\": 2304, \"numberOfSyllables\": 3937, \"fleschKincaid\": 19.549458, \"word\": \"provision\"}, {\"date\": \"1792-11-06T00:00:00\", \"year\": 1792, \"president\": \"George Washington\", \"no\": 1, \"maxFreq\": 8, \"numberOfSentences\": 61, \"numberOfWords\": 2099, \"numberOfSyllables\": 3492, \"fleschKincaid\": 17.460895999999998, \"word\": \"among\"}, {\"date\": \"1793-12-03T00:00:00\", \"year\": 1793, \"president\": \"George Washington\", \"no\": 1, \"maxFreq\": 24, \"numberOfSentences\": 56, \"numberOfWords\": 1965, \"numberOfSyllables\": 3233, \"fleschKincaid\": 17.509274, \"word\": \"states\"}, {\"date\": \"1794-11-19T00:00:00\", \"year\": 1794, \"president\": \"George Washington\", \"no\": 1, \"maxFreq\": 12, \"numberOfSentences\": 79, \"numberOfWords\": 2916, \"numberOfSyllables\": 4872, \"fleschKincaid\": 18.520668, \"word\": \"laws\"}, {\"date\": \"1795-12-08T00:00:00\", \"year\": 1795, \"president\": \"George Washington\", \"no\": 1, \"maxFreq\": 9, \"numberOfSentences\": 53, \"numberOfWords\": 1987, \"numberOfSyllables\": 3405, \"fleschKincaid\": 19.252254, \"word\": \"indians\"}, {\"date\": \"1796-12-07T00:00:00\", \"year\": 1796, \"president\": \"George Washington\", \"no\": 1, \"maxFreq\": 5, \"numberOfSentences\": 80, \"numberOfWords\": 2868, \"numberOfSyllables\": 4796, \"fleschKincaid\": 18.123997, \"word\": \"appointed\"}, {\"date\": \"1797-11-22T00:00:00\", \"year\": 1797, \"president\": \"John Adams\", \"no\": 2, \"maxFreq\": 18, \"numberOfSentences\": 59, \"numberOfWords\": 2060, \"numberOfSyllables\": 3419, \"fleschKincaid\": 17.611511, \"word\": \"united\"}, {\"date\": \"1798-12-08T00:00:00\", \"year\": 1798, \"president\": \"John Adams\", \"no\": 2, \"maxFreq\": 10, \"numberOfSentences\": 58, \"numberOfWords\": 2218, \"numberOfSyllables\": 3684, \"fleschKincaid\": 18.923416, \"word\": \"france\"}, {\"date\": \"1799-12-03T00:00:00\", \"year\": 1799, \"president\": \"John Adams\", \"no\": 2, \"maxFreq\": 7, \"numberOfSentences\": 36, \"numberOfWords\": 1505, \"numberOfSyllables\": 2580, \"fleschKincaid\": 20.942738, \"word\": \"gentlemen\"}, {\"date\": \"1800-11-11T00:00:00\", \"year\": 1800, \"president\": \"John Adams\", \"no\": 2, \"maxFreq\": 8, \"numberOfSentences\": 40, \"numberOfWords\": 1372, \"numberOfSyllables\": 2308, \"fleschKincaid\": 17.637142, \"word\": \"gentlemen\"}, {\"date\": \"1801-12-08T00:00:00\", \"year\": 1801, \"president\": \"Thomas Jefferson\", \"no\": 3, \"maxFreq\": 9, \"numberOfSentences\": 90, \"numberOfWords\": 3225, \"numberOfSyllables\": 5314, \"fleschKincaid\": 17.828472, \"word\": \"laid\"}, {\"date\": \"1802-12-15T00:00:00\", \"year\": 1802, \"president\": \"Thomas Jefferson\", \"no\": 3, \"maxFreq\": 9, \"numberOfSentences\": 62, \"numberOfWords\": 2198, \"numberOfSyllables\": 3504, \"fleschKincaid\": 17.047413, \"word\": \"vessels\"}, {\"date\": \"1803-10-17T00:00:00\", \"year\": 1803, \"president\": \"Thomas Jefferson\", \"no\": 3, \"maxFreq\": 9, \"numberOfSentences\": 48, \"numberOfWords\": 2268, \"numberOfSyllables\": 3791, \"fleschKincaid\": 22.561398, \"word\": \"millions\"}, {\"date\": \"1804-11-08T00:00:00\", \"year\": 1804, \"president\": \"Thomas Jefferson\", \"no\": 3, \"maxFreq\": 8, \"numberOfSentences\": 49, \"numberOfWords\": 2098, \"numberOfSyllables\": 3405, \"fleschKincaid\": 20.259464, \"word\": \"whether\"}, {\"date\": \"1805-12-03T00:00:00\", \"year\": 1805, \"president\": \"Thomas Jefferson\", \"no\": 3, \"maxFreq\": 10, \"numberOfSentences\": 78, \"numberOfWords\": 2932, \"numberOfSyllables\": 4606, \"fleschKincaid\": 17.607105, \"word\": \"millions\"}, {\"date\": \"1806-12-02T00:00:00\", \"year\": 1806, \"president\": \"Thomas Jefferson\", \"no\": 3, \"maxFreq\": 12, \"numberOfSentences\": 77, \"numberOfWords\": 2863, \"numberOfSyllables\": 4643, \"fleschKincaid\": 18.047268, \"word\": \"necessary\"}, {\"date\": \"1807-10-27T00:00:00\", \"year\": 1807, \"president\": \"Thomas Jefferson\", \"no\": 3, \"maxFreq\": 14, \"numberOfSentences\": 62, \"numberOfWords\": 2389, \"numberOfSyllables\": 3885, \"fleschKincaid\": 18.626781, \"word\": \"shall\"}, {\"date\": \"1808-11-08T00:00:00\", \"year\": 1808, \"president\": \"Thomas Jefferson\", \"no\": 3, \"maxFreq\": 7, \"numberOfSentences\": 72, \"numberOfWords\": 2682, \"numberOfSyllables\": 4452, \"fleschKincaid\": 18.524971, \"word\": \"millions\"}, {\"date\": \"1809-11-29T00:00:00\", \"year\": 1809, \"president\": \"James Madison\", \"no\": 4, \"maxFreq\": 7, \"numberOfSentences\": 40, \"numberOfWords\": 1830, \"numberOfSyllables\": 3090, \"fleschKincaid\": 22.17709, \"word\": \"minister\"}, {\"date\": \"1810-12-05T00:00:00\", \"year\": 1810, \"president\": \"James Madison\", \"no\": 4, \"maxFreq\": 5, \"numberOfSentences\": 61, \"numberOfWords\": 2442, \"numberOfSyllables\": 4178, \"fleschKincaid\": 20.211319, \"word\": \"neutral\"}, {\"date\": \"1811-11-05T00:00:00\", \"year\": 1811, \"president\": \"James Madison\", \"no\": 4, \"maxFreq\": 9, \"numberOfSentences\": 46, \"numberOfWords\": 2273, \"numberOfSyllables\": 3845, \"fleschKincaid\": 23.64193, \"word\": \"british\"}, {\"date\": \"1812-11-04T00:00:00\", \"year\": 1812, \"president\": \"James Madison\", \"no\": 4, \"maxFreq\": 20, \"numberOfSentences\": 87, \"numberOfWords\": 3239, \"numberOfSyllables\": 5420, \"fleschKincaid\": 18.675255, \"word\": \"war\"}, {\"date\": \"1813-12-07T00:00:00\", \"year\": 1813, \"president\": \"James Madison\", \"no\": 4, \"maxFreq\": 28, \"numberOfSentences\": 69, \"numberOfWords\": 3254, \"numberOfSyllables\": 5396, \"fleschKincaid\": 22.369724, \"word\": \"war\"}, {\"date\": \"1814-09-20T00:00:00\", \"year\": 1814, \"president\": \"James Madison\", \"no\": 4, \"maxFreq\": 13, \"numberOfSentences\": 50, \"numberOfWords\": 2110, \"numberOfSyllables\": 3476, \"fleschKincaid\": 20.30724, \"word\": \"enemy\"}, {\"date\": \"1815-12-05T00:00:00\", \"year\": 1815, \"president\": \"James Madison\", \"no\": 4, \"maxFreq\": 19, \"numberOfSentences\": 59, \"numberOfWords\": 3142, \"numberOfSyllables\": 5463, \"fleschKincaid\": 25.695827, \"word\": \"public\"}, {\"date\": \"1816-12-03T00:00:00\", \"year\": 1816, \"president\": \"James Madison\", \"no\": 4, \"maxFreq\": 10, \"numberOfSentences\": 72, \"numberOfWords\": 3361, \"numberOfSyllables\": 5671, \"fleschKincaid\": 22.525501, \"word\": \"ports\"}, {\"date\": \"1817-12-12T00:00:00\", \"year\": 1817, \"president\": \"James Monroe\", \"no\": 5, \"maxFreq\": 22, \"numberOfSentences\": 123, \"numberOfWords\": 4413, \"numberOfSyllables\": 7149, \"fleschKincaid\": 17.51828, \"word\": \"public\"}, {\"date\": \"1818-11-16T00:00:00\", \"year\": 1818, \"president\": \"James Monroe\", \"no\": 5, \"maxFreq\": 26, \"numberOfSentences\": 118, \"numberOfWords\": 4374, \"numberOfSyllables\": 7261, \"fleschKincaid\": 18.454872, \"word\": \"spain\"}, {\"date\": \"1819-12-07T00:00:00\", \"year\": 1819, \"president\": \"James Monroe\", \"no\": 5, \"maxFreq\": 31, \"numberOfSentences\": 132, \"numberOfWords\": 4706, \"numberOfSyllables\": 7604, \"fleschKincaid\": 17.380642, \"word\": \"united\"}, {\"date\": \"1820-11-14T00:00:00\", \"year\": 1820, \"president\": \"James Monroe\", \"no\": 5, \"maxFreq\": 22, \"numberOfSentences\": 85, \"numberOfWords\": 3437, \"numberOfSyllables\": 5558, \"fleschKincaid\": 19.261639, \"word\": \"great\"}, {\"date\": \"1821-12-03T00:00:00\", \"year\": 1821, \"president\": \"James Monroe\", \"no\": 5, \"maxFreq\": 23, \"numberOfSentences\": 158, \"numberOfWords\": 5811, \"numberOfSyllables\": 9351, \"fleschKincaid\": 17.742043, \"word\": \"vessels\"}, {\"date\": \"1822-12-03T00:00:00\", \"year\": 1822, \"president\": \"James Monroe\", \"no\": 5, \"maxFreq\": 26, \"numberOfSentences\": 118, \"numberOfWords\": 4719, \"numberOfSyllables\": 7650, \"fleschKincaid\": 19.135746, \"word\": \"great\"}, {\"date\": \"1823-12-02T00:00:00\", \"year\": 1823, \"president\": \"James Monroe\", \"no\": 5, \"maxFreq\": 13, \"numberOfSentences\": 187, \"numberOfWords\": 6361, \"numberOfSyllables\": 10401, \"fleschKincaid\": 16.970676, \"word\": \"post\"}, {\"date\": \"1824-12-07T00:00:00\", \"year\": 1824, \"president\": \"James Monroe\", \"no\": 5, \"maxFreq\": 32, \"numberOfSentences\": 249, \"numberOfWords\": 8408, \"numberOfSyllables\": 13503, \"fleschKincaid\": 16.52961, \"word\": \"every\"}, {\"date\": \"1825-12-06T00:00:00\", \"year\": 1825, \"president\": \"John Quincy Adams\", \"no\": 6, \"maxFreq\": 22, \"numberOfSentences\": 213, \"numberOfWords\": 8986, \"numberOfSyllables\": 14809, \"fleschKincaid\": 20.309734, \"word\": \"improvement\"}, {\"date\": \"1826-12-05T00:00:00\", \"year\": 1826, \"president\": \"John Quincy Adams\", \"no\": 6, \"maxFreq\": 46, \"numberOfSentences\": 172, \"numberOfWords\": 7699, \"numberOfSyllables\": 12640, \"fleschKincaid\": 21.23994, \"word\": \"united\"}, {\"date\": \"1827-12-04T00:00:00\", \"year\": 1827, \"president\": \"John Quincy Adams\", \"no\": 6, \"maxFreq\": 34, \"numberOfSentences\": 168, \"numberOfWords\": 6966, \"numberOfSyllables\": 11518, \"fleschKincaid\": 20.091896, \"word\": \"between\"}, {\"date\": \"1828-12-02T00:00:00\", \"year\": 1828, \"president\": \"John Quincy Adams\", \"no\": 6, \"maxFreq\": 17, \"numberOfSentences\": 195, \"numberOfWords\": 7290, \"numberOfSyllables\": 12036, \"fleschKincaid\": 18.472141, \"word\": \"union\"}, {\"date\": \"1829-12-08T00:00:00\", \"year\": 1829, \"president\": \"Andrew Jackson\", \"no\": 7, \"maxFreq\": 17, \"numberOfSentences\": 302, \"numberOfWords\": 10522, \"numberOfSyllables\": 17394, \"fleschKincaid\": 17.504684, \"word\": \"therefore\"}, {\"date\": \"1830-12-06T00:00:00\", \"year\": 1830, \"president\": \"Andrew Jackson\", \"no\": 7, \"maxFreq\": 49, \"numberOfSentences\": 394, \"numberOfWords\": 15088, \"numberOfSyllables\": 25039, \"fleschKincaid\": 18.927284, \"word\": \"general\"}, {\"date\": \"1831-12-06T00:00:00\", \"year\": 1831, \"president\": \"Andrew Jackson\", \"no\": 7, \"maxFreq\": 23, \"numberOfSentences\": 168, \"numberOfWords\": 7187, \"numberOfSyllables\": 11801, \"fleschKincaid\": 20.469616, \"word\": \"state\"}, {\"date\": \"1832-12-04T00:00:00\", \"year\": 1832, \"president\": \"Andrew Jackson\", \"no\": 7, \"maxFreq\": 31, \"numberOfSentences\": 200, \"numberOfWords\": 7869, \"numberOfSyllables\": 12907, \"fleschKincaid\": 19.10931, \"word\": \"public\"}, {\"date\": \"1833-12-03T00:00:00\", \"year\": 1833, \"president\": \"Andrew Jackson\", \"no\": 7, \"maxFreq\": 54, \"numberOfSentences\": 182, \"numberOfWords\": 7898, \"numberOfSyllables\": 12896, \"fleschKincaid\": 20.601543, \"word\": \"states\"}, {\"date\": \"1834-12-01T00:00:00\", \"year\": 1834, \"president\": \"Andrew Jackson\", \"no\": 7, \"maxFreq\": 31, \"numberOfSentences\": 318, \"numberOfWords\": 13434, \"numberOfSyllables\": 22084, \"fleschKincaid\": 20.283543, \"word\": \"france\"}, {\"date\": \"1835-12-07T00:00:00\", \"year\": 1835, \"president\": \"Andrew Jackson\", \"no\": 7, \"maxFreq\": 29, \"numberOfSentences\": 240, \"numberOfWords\": 10805, \"numberOfSyllables\": 17759, \"fleschKincaid\": 21.3625, \"word\": \"subject\"}, {\"date\": \"1836-12-05T00:00:00\", \"year\": 1836, \"president\": \"Andrew Jackson\", \"no\": 7, \"maxFreq\": 39, \"numberOfSentences\": 294, \"numberOfWords\": 12343, \"numberOfSyllables\": 20162, \"fleschKincaid\": 20.058392, \"word\": \"bank\"}, {\"date\": \"1837-12-05T00:00:00\", \"year\": 1837, \"president\": \"Martin van Buren\", \"no\": 8, \"maxFreq\": 56, \"numberOfSentences\": 283, \"numberOfWords\": 11439, \"numberOfSyllables\": 18994, \"fleschKincaid\": 19.767422, \"word\": \"public\"}, {\"date\": \"1838-12-03T00:00:00\", \"year\": 1838, \"president\": \"Martin van Buren\", \"no\": 8, \"maxFreq\": 74, \"numberOfSentences\": 267, \"numberOfWords\": 11476, \"numberOfSyllables\": 19343, \"fleschKincaid\": 21.061802, \"word\": \"states\"}, {\"date\": \"1839-12-02T00:00:00\", \"year\": 1839, \"president\": \"Martin van Buren\", \"no\": 8, \"maxFreq\": 71, \"numberOfSentences\": 343, \"numberOfWords\": 13420, \"numberOfSyllables\": 21965, \"fleschKincaid\": 18.98238, \"word\": \"public\"}, {\"date\": \"1840-12-05T00:00:00\", \"year\": 1840, \"president\": \"Martin van Buren\", \"no\": 8, \"maxFreq\": 67, \"numberOfSentences\": 184, \"numberOfWords\": 8989, \"numberOfSyllables\": 15268, \"fleschKincaid\": 23.505314, \"word\": \"government\"}, {\"date\": \"1841-12-07T00:00:00\", \"year\": 1841, \"president\": \"John Tyler\", \"no\": 10, \"maxFreq\": 57, \"numberOfSentences\": 202, \"numberOfWords\": 8227, \"numberOfSyllables\": 13470, \"fleschKincaid\": 19.613853, \"word\": \"government\"}, {\"date\": \"1842-12-06T00:00:00\", \"year\": 1842, \"president\": \"John Tyler\", \"no\": 10, \"maxFreq\": 19, \"numberOfSentences\": 207, \"numberOfWords\": 8393, \"numberOfSyllables\": 13684, \"fleschKincaid\": 19.461693, \"word\": \"treasury\"}, {\"date\": \"1843-12-06T00:00:00\", \"year\": 1843, \"president\": \"John Tyler\", \"no\": 10, \"maxFreq\": 57, \"numberOfSentences\": 194, \"numberOfWords\": 8023, \"numberOfSyllables\": 13180, \"fleschKincaid\": 19.923481, \"word\": \"government\"}, {\"date\": \"1844-12-03T00:00:00\", \"year\": 1844, \"president\": \"John Tyler\", \"no\": 10, \"maxFreq\": 59, \"numberOfSentences\": 271, \"numberOfWords\": 9307, \"numberOfSyllables\": 15393, \"fleschKincaid\": 17.32005, \"word\": \"states\"}, {\"date\": \"1845-12-02T00:00:00\", \"year\": 1845, \"president\": \"James Polk\", \"no\": 11, \"maxFreq\": 41, \"numberOfSentences\": 451, \"numberOfWords\": 16092, \"numberOfSyllables\": 26258, \"fleschKincaid\": 17.58004, \"word\": \"mexico\"}, {\"date\": \"1846-12-08T00:00:00\", \"year\": 1846, \"president\": \"James Polk\", \"no\": 11, \"maxFreq\": 158, \"numberOfSentences\": 480, \"numberOfWords\": 18191, \"numberOfSyllables\": 29851, \"fleschKincaid\": 18.553707, \"word\": \"mexico\"}, {\"date\": \"1847-12-07T00:00:00\", \"year\": 1847, \"president\": \"James Polk\", \"no\": 11, \"maxFreq\": 107, \"numberOfSentences\": 440, \"numberOfWords\": 16375, \"numberOfSyllables\": 26640, \"fleschKincaid\": 18.121273, \"word\": \"mexico\"}, {\"date\": \"1848-12-05T00:00:00\", \"year\": 1848, \"president\": \"James Polk\", \"no\": 11, \"maxFreq\": 75, \"numberOfSentences\": 606, \"numberOfWords\": 21264, \"numberOfSyllables\": 35044, \"fleschKincaid\": 17.541668, \"word\": \"public\"}, {\"date\": \"1849-12-04T00:00:00\", \"year\": 1849, \"president\": \"Zachary Taylor\", \"no\": 12, \"maxFreq\": 18, \"numberOfSentences\": 213, \"numberOfWords\": 7610, \"numberOfSyllables\": 12836, \"fleschKincaid\": 18.247192, \"word\": \"treaty\"}, {\"date\": \"1850-12-02T00:00:00\", \"year\": 1850, \"president\": \"Millard Fillmore\", \"no\": 13, \"maxFreq\": 22, \"numberOfSentences\": 235, \"numberOfWords\": 8311, \"numberOfSyllables\": 13739, \"fleschKincaid\": 17.709427, \"word\": \"duty\"}, {\"date\": \"1851-12-02T00:00:00\", \"year\": 1851, \"president\": \"Millard Fillmore\", \"no\": 13, \"maxFreq\": 44, \"numberOfSentences\": 354, \"numberOfWords\": 13191, \"numberOfSyllables\": 21687, \"fleschKincaid\": 18.342548, \"word\": \"last\"}, {\"date\": \"1852-12-06T00:00:00\", \"year\": 1852, \"president\": \"Millard Fillmore\", \"no\": 13, \"maxFreq\": 26, \"numberOfSentences\": 284, \"numberOfWords\": 9916, \"numberOfSyllables\": 16320, \"fleschKincaid\": 17.447777, \"word\": \"subject\"}, {\"date\": \"1853-12-05T00:00:00\", \"year\": 1853, \"president\": \"Franklin Pierce\", \"no\": 14, \"maxFreq\": 63, \"numberOfSentences\": 233, \"numberOfWords\": 9574, \"numberOfSyllables\": 15990, \"fleschKincaid\": 20.142902, \"word\": \"states\"}, {\"date\": \"1854-12-04T00:00:00\", \"year\": 1854, \"president\": \"Franklin Pierce\", \"no\": 14, \"maxFreq\": 17, \"numberOfSentences\": 268, \"numberOfWords\": 10116, \"numberOfSyllables\": 17101, \"fleschKincaid\": 19.07883, \"word\": \"property\"}, {\"date\": \"1855-12-31T00:00:00\", \"year\": 1855, \"president\": \"Franklin Pierce\", \"no\": 14, \"maxFreq\": 135, \"numberOfSentences\": 274, \"numberOfWords\": 11592, \"numberOfSyllables\": 19607, \"fleschKincaid\": 20.868378, \"word\": \"states\"}, {\"date\": \"1856-12-02T00:00:00\", \"year\": 1856, \"president\": \"Franklin Pierce\", \"no\": 14, \"maxFreq\": 111, \"numberOfSentences\": 255, \"numberOfWords\": 10462, \"numberOfSyllables\": 17855, \"fleschKincaid\": 20.549206, \"word\": \"states\"}, {\"date\": \"1857-12-08T00:00:00\", \"year\": 1857, \"president\": \"James Buchanan\", \"no\": 15, \"maxFreq\": 45, \"numberOfSentences\": 406, \"numberOfWords\": 13625, \"numberOfSyllables\": 22403, \"fleschKincaid\": 16.900284, \"word\": \"constitution\"}, {\"date\": \"1858-12-06T00:00:00\", \"year\": 1858, \"president\": \"James Buchanan\", \"no\": 15, \"maxFreq\": 40, \"numberOfSentences\": 527, \"numberOfWords\": 16304, \"numberOfSyllables\": 27017, \"fleschKincaid\": 16.029099, \"word\": \"shall\"}, {\"date\": \"1859-12-19T00:00:00\", \"year\": 1859, \"president\": \"James Buchanan\", \"no\": 15, \"maxFreq\": 41, \"numberOfSentences\": 407, \"numberOfWords\": 12287, \"numberOfSyllables\": 20057, \"fleschKincaid\": 15.445816, \"word\": \"power\"}, {\"date\": \"1860-12-03T00:00:00\", \"year\": 1860, \"president\": \"James Buchanan\", \"no\": 15, \"maxFreq\": 102, \"numberOfSentences\": 486, \"numberOfWords\": 14010, \"numberOfSyllables\": 23170, \"fleschKincaid\": 15.167652, \"word\": \"states\"}, {\"date\": \"1861-12-03T00:00:00\", \"year\": 1861, \"president\": \"Abraham Lincoln\", \"no\": 16, \"maxFreq\": 20, \"numberOfSentences\": 215, \"numberOfWords\": 6969, \"numberOfSyllables\": 11325, \"fleschKincaid\": 16.227074, \"word\": \"union\"}, {\"date\": \"1862-12-01T00:00:00\", \"year\": 1862, \"president\": \"Abraham Lincoln\", \"no\": 16, \"maxFreq\": 17, \"numberOfSentences\": 321, \"numberOfWords\": 8357, \"numberOfSyllables\": 13336, \"fleschKincaid\": 13.393663, \"word\": \"emancipation\"}, {\"date\": \"1863-12-08T00:00:00\", \"year\": 1863, \"president\": \"Abraham Lincoln\", \"no\": 16, \"maxFreq\": 19, \"numberOfSentences\": 196, \"numberOfWords\": 6085, \"numberOfSyllables\": 10177, \"fleschKincaid\": 16.253094, \"word\": \"service\"}, {\"date\": \"1864-12-06T00:00:00\", \"year\": 1864, \"president\": \"Abraham Lincoln\", \"no\": 16, \"maxFreq\": 7, \"numberOfSentences\": 207, \"numberOfWords\": 5912, \"numberOfSyllables\": 9620, \"fleschKincaid\": 14.749496, \"word\": \"election\"}, {\"date\": \"1865-12-04T00:00:00\", \"year\": 1865, \"president\": \"Andrew Johnson\", \"no\": 17, \"maxFreq\": 98, \"numberOfSentences\": 276, \"numberOfWords\": 9220, \"numberOfSyllables\": 14988, \"fleschKincaid\": 16.6203, \"word\": \"states\"}, {\"date\": \"1866-12-03T00:00:00\", \"year\": 1866, \"president\": \"Andrew Johnson\", \"no\": 17, \"maxFreq\": 75, \"numberOfSentences\": 203, \"numberOfWords\": 7102, \"numberOfSyllables\": 12117, \"fleschKincaid\": 18.18668, \"word\": \"states\"}, {\"date\": \"1867-12-03T00:00:00\", \"year\": 1867, \"president\": \"Andrew Johnson\", \"no\": 17, \"maxFreq\": 46, \"numberOfSentences\": 383, \"numberOfWords\": 11956, \"numberOfSyllables\": 19504, \"fleschKincaid\": 15.834032, \"word\": \"constitution\"}, {\"date\": \"1868-12-09T00:00:00\", \"year\": 1868, \"president\": \"Andrew Johnson\", \"no\": 17, \"maxFreq\": 29, \"numberOfSentences\": 292, \"numberOfWords\": 9765, \"numberOfSyllables\": 16451, \"fleschKincaid\": 17.331638, \"word\": \"per\"}, {\"date\": \"1869-12-06T00:00:00\", \"year\": 1869, \"president\": \"Ulysses S. Grant\", \"no\": 18, \"maxFreq\": 17, \"numberOfSentences\": 249, \"numberOfWords\": 7688, \"numberOfSyllables\": 12551, \"fleschKincaid\": 15.715467, \"word\": \"interest\"}, {\"date\": \"1870-12-05T00:00:00\", \"year\": 1870, \"president\": \"Ulysses S. Grant\", \"no\": 18, \"maxFreq\": 76, \"numberOfSentences\": 278, \"numberOfWords\": 8731, \"numberOfSyllables\": 14243, \"fleschKincaid\": 15.908028, \"word\": \"states\"}, {\"date\": \"1871-12-04T00:00:00\", \"year\": 1871, \"president\": \"Ulysses S. Grant\", \"no\": 18, \"maxFreq\": 19, \"numberOfSentences\": 213, \"numberOfWords\": 6460, \"numberOfSyllables\": 10810, \"fleschKincaid\": 15.98399, \"word\": \"recommend\"}, {\"date\": \"1872-12-02T00:00:00\", \"year\": 1872, \"president\": \"Ulysses S. Grant\", \"no\": 18, \"maxFreq\": 28, \"numberOfSentences\": 115, \"numberOfWords\": 3979, \"numberOfSyllables\": 6608, \"fleschKincaid\": 17.50048, \"word\": \"united\"}, {\"date\": \"1873-12-01T00:00:00\", \"year\": 1873, \"president\": \"Ulysses S. Grant\", \"no\": 18, \"maxFreq\": 60, \"numberOfSentences\": 293, \"numberOfWords\": 10008, \"numberOfSyllables\": 16480, \"fleschKincaid\": 17.162083, \"word\": \"congress\"}, {\"date\": \"1874-12-07T00:00:00\", \"year\": 1874, \"president\": \"Ulysses S. Grant\", \"no\": 18, \"maxFreq\": 49, \"numberOfSentences\": 274, \"numberOfWords\": 9205, \"numberOfSyllables\": 15137, \"fleschKincaid\": 16.91631, \"word\": \"congress\"}, {\"date\": \"1875-12-07T00:00:00\", \"year\": 1875, \"president\": \"Ulysses S. Grant\", \"no\": 18, \"maxFreq\": 76, \"numberOfSentences\": 349, \"numberOfWords\": 12188, \"numberOfSyllables\": 20014, \"fleschKincaid\": 17.406693, \"word\": \"states\"}, {\"date\": \"1876-12-05T00:00:00\", \"year\": 1876, \"president\": \"Ulysses S. Grant\", \"no\": 18, \"maxFreq\": 50, \"numberOfSentences\": 194, \"numberOfWords\": 6788, \"numberOfSyllables\": 11173, \"fleschKincaid\": 17.478695, \"word\": \"states\"}, {\"date\": \"1877-12-03T00:00:00\", \"year\": 1877, \"president\": \"Rutherford B. Hayes\", \"no\": 19, \"maxFreq\": 35, \"numberOfSentences\": 218, \"numberOfWords\": 7981, \"numberOfSyllables\": 13354, \"fleschKincaid\": 18.431976, \"word\": \"public\"}, {\"date\": \"1878-12-02T00:00:00\", \"year\": 1878, \"president\": \"Rutherford B. Hayes\", \"no\": 19, \"maxFreq\": 39, \"numberOfSentences\": 232, \"numberOfWords\": 7834, \"numberOfSyllables\": 13234, \"fleschKincaid\": 17.513, \"word\": \"year\"}, {\"date\": \"1879-12-01T00:00:00\", \"year\": 1879, \"president\": \"Rutherford B. Hayes\", \"no\": 19, \"maxFreq\": 63, \"numberOfSentences\": 315, \"numberOfWords\": 11583, \"numberOfSyllables\": 19623, \"fleschKincaid\": 18.741478, \"word\": \"congress\"}, {\"date\": \"1880-12-06T00:00:00\", \"year\": 1880, \"president\": \"Rutherford B. Hayes\", \"no\": 19, \"maxFreq\": 51, \"numberOfSentences\": 194, \"numberOfWords\": 6687, \"numberOfSyllables\": 11485, \"fleschKincaid\": 18.119572, \"word\": \"government\"}, {\"date\": \"1881-12-06T00:00:00\", \"year\": 1881, \"president\": \"Chester A. Arthur\", \"no\": 21, \"maxFreq\": 12, \"numberOfSentences\": 119, \"numberOfWords\": 3782, \"numberOfSyllables\": 6550, \"fleschKincaid\": 17.241066, \"word\": \"relations\"}, {\"date\": \"1882-12-04T00:00:00\", \"year\": 1882, \"president\": \"Chester A. Arthur\", \"no\": 21, \"maxFreq\": 7, \"numberOfSentences\": 93, \"numberOfWords\": 3021, \"numberOfSyllables\": 5123, \"fleschKincaid\": 17.089104, \"word\": \"chile\"}, {\"date\": \"1883-12-04T00:00:00\", \"year\": 1883, \"president\": \"Chester A. Arthur\", \"no\": 21, \"maxFreq\": 22, \"numberOfSentences\": 108, \"numberOfWords\": 3687, \"numberOfSyllables\": 6268, \"fleschKincaid\": 17.784485, \"word\": \"treaty\"}, {\"date\": \"1884-12-01T00:00:00\", \"year\": 1884, \"president\": \"Chester A. Arthur\", \"no\": 21, \"maxFreq\": 20, \"numberOfSentences\": 291, \"numberOfWords\": 8888, \"numberOfSyllables\": 15004, \"fleschKincaid\": 16.241554, \"word\": \"secretary\"}, {\"date\": \"1885-12-08T00:00:00\", \"year\": 1885, \"president\": \"Grover Cleveland\", \"no\": 22, \"maxFreq\": 40, \"numberOfSentences\": 566, \"numberOfWords\": 19710, \"numberOfSyllables\": 33242, \"fleschKincaid\": 17.892445, \"word\": \"silver\"}, {\"date\": \"1886-12-06T00:00:00\", \"year\": 1886, \"president\": \"Grover Cleveland\", \"no\": 22, \"maxFreq\": 63, \"numberOfSentences\": 418, \"numberOfWords\": 15087, \"numberOfSyllables\": 25380, \"fleschKincaid\": 18.336853, \"word\": \"year\"}, {\"date\": \"1887-12-06T00:00:00\", \"year\": 1887, \"president\": \"Grover Cleveland\", \"no\": 22, \"maxFreq\": 30, \"numberOfSentences\": 123, \"numberOfWords\": 5280, \"numberOfSyllables\": 8600, \"fleschKincaid\": 20.371159, \"word\": \"tariff\"}, {\"date\": \"1888-12-03T00:00:00\", \"year\": 1888, \"president\": \"Grover Cleveland\", \"no\": 22, \"maxFreq\": 18, \"numberOfSentences\": 239, \"numberOfWords\": 8981, \"numberOfSyllables\": 15095, \"fleschKincaid\": 18.898277, \"word\": \"1888\"}, {\"date\": \"1893-12-03T00:00:00\", \"year\": 1893, \"president\": \"Grover Cleveland\", \"no\": 22, \"maxFreq\": 89, \"numberOfSentences\": 378, \"numberOfWords\": 12197, \"numberOfSyllables\": 20782, \"fleschKincaid\": 17.099773, \"word\": \"year\"}, {\"date\": \"1894-12-02T00:00:00\", \"year\": 1894, \"president\": \"Grover Cleveland\", \"no\": 22, \"maxFreq\": 104, \"numberOfSentences\": 472, \"numberOfWords\": 15771, \"numberOfSyllables\": 26462, \"fleschKincaid\": 17.240223, \"word\": \"year\"}, {\"date\": \"1895-12-07T00:00:00\", \"year\": 1895, \"president\": \"Grover Cleveland\", \"no\": 22, \"maxFreq\": 107, \"numberOfSentences\": 366, \"numberOfWords\": 14602, \"numberOfSyllables\": 24558, \"fleschKincaid\": 19.815037, \"word\": \"gold\"}, {\"date\": \"1896-12-04T00:00:00\", \"year\": 1896, \"president\": \"Grover Cleveland\", \"no\": 22, \"maxFreq\": 77, \"numberOfSentences\": 425, \"numberOfWords\": 15373, \"numberOfSyllables\": 25515, \"fleschKincaid\": 18.10178, \"word\": \"year\"}, {\"date\": \"1889-12-03T00:00:00\", \"year\": 1889, \"president\": \"Benjamin Harrison\", \"no\": 23, \"maxFreq\": 38, \"numberOfSentences\": 440, \"numberOfWords\": 12969, \"numberOfSyllables\": 21381, \"fleschKincaid\": 15.359009, \"word\": \"law\"}, {\"date\": \"1890-12-01T00:00:00\", \"year\": 1890, \"president\": \"Benjamin Harrison\", \"no\": 23, \"maxFreq\": 39, \"numberOfSentences\": 369, \"numberOfWords\": 11482, \"numberOfSyllables\": 19006, \"fleschKincaid\": 16.077827, \"word\": \"law\"}, {\"date\": \"1891-12-09T00:00:00\", \"year\": 1891, \"president\": \"Benjamin Harrison\", \"no\": 23, \"maxFreq\": 42, \"numberOfSentences\": 466, \"numberOfWords\": 16245, \"numberOfSyllables\": 26292, \"fleschKincaid\": 17.103512, \"word\": \"during\"}, {\"date\": \"1892-12-06T00:00:00\", \"year\": 1892, \"president\": \"Benjamin Harrison\", \"no\": 23, \"maxFreq\": 47, \"numberOfSentences\": 430, \"numberOfWords\": 13572, \"numberOfSyllables\": 21466, \"fleschKincaid\": 15.382824, \"word\": \"during\"}, {\"date\": \"1897-12-06T00:00:00\", \"year\": 1897, \"president\": \"William McKinley\", \"no\": 25, \"maxFreq\": 108, \"numberOfSentences\": 380, \"numberOfWords\": 12087, \"numberOfSyllables\": 19995, \"fleschKincaid\": 16.335306, \"word\": \"government\"}, {\"date\": \"1898-12-05T00:00:00\", \"year\": 1898, \"president\": \"William McKinley\", \"no\": 25, \"maxFreq\": 100, \"numberOfSentences\": 629, \"numberOfWords\": 20153, \"numberOfSyllables\": 34009, \"fleschKincaid\": 16.818478, \"word\": \"united\"}, {\"date\": \"1899-12-05T00:00:00\", \"year\": 1899, \"president\": \"William McKinley\", \"no\": 25, \"maxFreq\": 96, \"numberOfSentences\": 452, \"numberOfWords\": 15086, \"numberOfSyllables\": 25803, \"fleschKincaid\": 17.60933, \"word\": \"states\"}, {\"date\": \"1900-12-03T00:00:00\", \"year\": 1900, \"president\": \"William McKinley\", \"no\": 25, \"maxFreq\": 53, \"numberOfSentences\": 609, \"numberOfWords\": 19070, \"numberOfSyllables\": 32392, \"fleschKincaid\": 16.665607, \"word\": \"islands\"}, {\"date\": \"1901-12-03T00:00:00\", \"year\": 1901, \"president\": \"Theodore Roosevelt\", \"no\": 26, \"maxFreq\": 50, \"numberOfSentences\": 681, \"numberOfWords\": 19609, \"numberOfSyllables\": 31814, \"fleschKincaid\": 14.784359, \"word\": \"men\"}, {\"date\": \"1902-12-02T00:00:00\", \"year\": 1902, \"president\": \"Theodore Roosevelt\", \"no\": 26, \"maxFreq\": 23, \"numberOfSentences\": 336, \"numberOfWords\": 9765, \"numberOfSyllables\": 15743, \"fleschKincaid\": 14.768173, \"word\": \"good\"}, {\"date\": \"1903-12-07T00:00:00\", \"year\": 1903, \"president\": \"Theodore Roosevelt\", \"no\": 26, \"maxFreq\": 46, \"numberOfSentences\": 574, \"numberOfWords\": 14932, \"numberOfSyllables\": 24680, \"fleschKincaid\": 14.0587845, \"word\": \"treaty\"}, {\"date\": \"1904-12-06T00:00:00\", \"year\": 1904, \"president\": \"Theodore Roosevelt\", \"no\": 26, \"maxFreq\": 50, \"numberOfSentences\": 531, \"numberOfWords\": 17409, \"numberOfSyllables\": 28461, \"fleschKincaid\": 16.48743, \"word\": \"work\"}, {\"date\": \"1905-12-05T00:00:00\", \"year\": 1905, \"president\": \"Theodore Roosevelt\", \"no\": 26, \"maxFreq\": 71, \"numberOfSentences\": 801, \"numberOfWords\": 25068, \"numberOfSyllables\": 40625, \"fleschKincaid\": 15.738379, \"word\": \"law\"}, {\"date\": \"1906-12-03T00:00:00\", \"year\": 1906, \"president\": \"Theodore Roosevelt\", \"no\": 26, \"maxFreq\": 64, \"numberOfSentences\": 672, \"numberOfWords\": 23601, \"numberOfSyllables\": 37743, \"fleschKincaid\": 16.977710000000002, \"word\": \"law\"}, {\"date\": \"1907-12-03T00:00:00\", \"year\": 1907, \"president\": \"Theodore Roosevelt\", \"no\": 26, \"maxFreq\": 79, \"numberOfSentences\": 886, \"numberOfWords\": 27385, \"numberOfSyllables\": 44302, \"fleschKincaid\": 15.553759, \"word\": \"law\"}, {\"date\": \"1908-12-08T00:00:00\", \"year\": 1908, \"president\": \"Theodore Roosevelt\", \"no\": 26, \"maxFreq\": 51, \"numberOfSentences\": 634, \"numberOfWords\": 19400, \"numberOfSyllables\": 31497, \"fleschKincaid\": 15.501724, \"word\": \"men\"}, {\"date\": \"1909-12-07T00:00:00\", \"year\": 1909, \"president\": \"William H. Taft\", \"no\": 27, \"maxFreq\": 48, \"numberOfSentences\": 385, \"numberOfWords\": 13879, \"numberOfSyllables\": 23720, \"fleschKincaid\": 18.63612, \"word\": \"department\"}, {\"date\": \"1910-12-06T00:00:00\", \"year\": 1910, \"president\": \"William H. Taft\", \"no\": 27, \"maxFreq\": 45, \"numberOfSentences\": 180, \"numberOfWords\": 6561, \"numberOfSyllables\": 11340, \"fleschKincaid\": 19.020565, \"word\": \"united\"}, {\"date\": \"1911-12-05T00:00:00\", \"year\": 1911, \"president\": \"William H. Taft\", \"no\": 27, \"maxFreq\": 49, \"numberOfSentences\": 718, \"numberOfWords\": 23639, \"numberOfSyllables\": 39456, \"fleschKincaid\": 16.945576, \"word\": \"statute\"}, {\"date\": \"1912-12-03T00:00:00\", \"year\": 1912, \"president\": \"William H. Taft\", \"no\": 27, \"maxFreq\": 95, \"numberOfSentences\": 750, \"numberOfWords\": 25107, \"numberOfSyllables\": 42518, \"fleschKincaid\": 17.448608, \"word\": \"american\"}, {\"date\": \"1913-12-02T00:00:00\", \"year\": 1913, \"president\": \"Woodrow Wilson\", \"no\": 28, \"maxFreq\": 8, \"numberOfSentences\": 109, \"numberOfWords\": 3552, \"numberOfSyllables\": 5598, \"fleschKincaid\": 15.71595, \"word\": \"credit\"}, {\"date\": \"1914-12-08T00:00:00\", \"year\": 1914, \"president\": \"Woodrow Wilson\", \"no\": 28, \"maxFreq\": 26, \"numberOfSentences\": 172, \"numberOfWords\": 4539, \"numberOfSyllables\": 6763, \"fleschKincaid\": 12.283632, \"word\": \"great\"}, {\"date\": \"1915-12-07T00:00:00\", \"year\": 1915, \"president\": \"Woodrow Wilson\", \"no\": 28, \"maxFreq\": 21, \"numberOfSentences\": 224, \"numberOfWords\": 7679, \"numberOfSyllables\": 12063, \"fleschKincaid\": 16.316399, \"word\": \"hundred\"}, {\"date\": \"1916-12-05T00:00:00\", \"year\": 1916, \"president\": \"Woodrow Wilson\", \"no\": 28, \"maxFreq\": 12, \"numberOfSentences\": 53, \"numberOfWords\": 2117, \"numberOfSyllables\": 3547, \"fleschKincaid\": 19.75864, \"word\": \"necessary\"}, {\"date\": \"1917-12-04T00:00:00\", \"year\": 1917, \"president\": \"Woodrow Wilson\", \"no\": 28, \"maxFreq\": 31, \"numberOfSentences\": 137, \"numberOfWords\": 3915, \"numberOfSyllables\": 5890, \"fleschKincaid\": 13.307636, \"word\": \"war\"}, {\"date\": \"1918-12-02T00:00:00\", \"year\": 1918, \"president\": \"Woodrow Wilson\", \"no\": 28, \"maxFreq\": 27, \"numberOfSentences\": 163, \"numberOfWords\": 5473, \"numberOfSyllables\": 8386, \"fleschKincaid\": 15.585449, \"word\": \"men\"}, {\"date\": \"1919-12-02T00:00:00\", \"year\": 1919, \"president\": \"Woodrow Wilson\", \"no\": 28, \"maxFreq\": 18, \"numberOfSentences\": 162, \"numberOfWords\": 4756, \"numberOfSyllables\": 7842, \"fleschKincaid\": 15.316231, \"word\": \"labor\"}, {\"date\": \"1920-12-07T00:00:00\", \"year\": 1920, \"president\": \"Woodrow Wilson\", \"no\": 28, \"maxFreq\": 16, \"numberOfSentences\": 72, \"numberOfWords\": 2699, \"numberOfSyllables\": 4375, \"fleschKincaid\": 18.157036, \"word\": \"faith\"}, {\"date\": \"1921-12-06T00:00:00\", \"year\": 1921, \"president\": \"Warren Harding\", \"no\": 29, \"maxFreq\": 16, \"numberOfSentences\": 209, \"numberOfWords\": 5601, \"numberOfSyllables\": 9545, \"fleschKincaid\": 14.970715, \"word\": \"conditions\"}, {\"date\": \"1922-12-08T00:00:00\", \"year\": 1922, \"president\": \"Warren Harding\", \"no\": 29, \"maxFreq\": 17, \"numberOfSentences\": 224, \"numberOfWords\": 5748, \"numberOfSyllables\": 9810, \"fleschKincaid\": 14.556509, \"word\": \"transportation\"}, {\"date\": \"1923-12-06T00:00:00\", \"year\": 1923, \"president\": \"Calvin Coolidge\", \"no\": 30, \"maxFreq\": 18, \"numberOfSentences\": 363, \"numberOfWords\": 6692, \"numberOfSyllables\": 11284, \"fleschKincaid\": 11.496822, \"word\": \"service\"}, {\"date\": \"1924-12-03T00:00:00\", \"year\": 1924, \"president\": \"Calvin Coolidge\", \"no\": 30, \"maxFreq\": 34, \"numberOfSentences\": 278, \"numberOfWords\": 6954, \"numberOfSyllables\": 11764, \"fleschKincaid\": 14.127533, \"word\": \"country\"}, {\"date\": \"1925-12-08T00:00:00\", \"year\": 1925, \"president\": \"Calvin Coolidge\", \"no\": 30, \"maxFreq\": 32, \"numberOfSentences\": 480, \"numberOfWords\": 10811, \"numberOfSyllables\": 18182, \"fleschKincaid\": 13.039244, \"word\": \"court\"}, {\"date\": \"1926-12-07T00:00:00\", \"year\": 1926, \"president\": \"Calvin Coolidge\", \"no\": 30, \"maxFreq\": 26, \"numberOfSentences\": 442, \"numberOfWords\": 10294, \"numberOfSyllables\": 17213, \"fleschKincaid\": 13.224184, \"word\": \"federal\"}, {\"date\": \"1927-12-06T00:00:00\", \"year\": 1927, \"president\": \"Calvin Coolidge\", \"no\": 30, \"maxFreq\": 21, \"numberOfSentences\": 451, \"numberOfWords\": 8745, \"numberOfSyllables\": 14719, \"fleschKincaid\": 11.833168, \"word\": \"agriculture\"}, {\"date\": \"1928-12-04T00:00:00\", \"year\": 1928, \"president\": \"Calvin Coolidge\", \"no\": 30, \"maxFreq\": 16, \"numberOfSentences\": 375, \"numberOfWords\": 8034, \"numberOfSyllables\": 13683, \"fleschKincaid\": 12.862373, \"word\": \"private\"}, {\"date\": \"1929-12-03T00:00:00\", \"year\": 1929, \"president\": \"Herbert Hoover\", \"no\": 31, \"maxFreq\": 34, \"numberOfSentences\": 409, \"numberOfWords\": 10960, \"numberOfSyllables\": 18931, \"fleschKincaid\": 15.242771, \"word\": \"federal\"}, {\"date\": \"1930-12-02T00:00:00\", \"year\": 1930, \"president\": \"Herbert Hoover\", \"no\": 31, \"maxFreq\": 19, \"numberOfSentences\": 162, \"numberOfWords\": 4515, \"numberOfSyllables\": 7962, \"fleschKincaid\": 16.088215, \"word\": \"construction\"}, {\"date\": \"1931-12-08T00:00:00\", \"year\": 1931, \"president\": \"Herbert Hoover\", \"no\": 31, \"maxFreq\": 32, \"numberOfSentences\": 253, \"numberOfWords\": 5667, \"numberOfSyllables\": 10113, \"fleschKincaid\": 14.203289, \"word\": \"banks\"}, {\"date\": \"1932-12-06T00:00:00\", \"year\": 1932, \"president\": \"Herbert Hoover\", \"no\": 31, \"maxFreq\": 23, \"numberOfSentences\": 162, \"numberOfWords\": 4206, \"numberOfSyllables\": 7123, \"fleschKincaid\": 14.519245, \"word\": \"economic\"}, {\"date\": \"1934-01-03T00:00:00\", \"year\": 1934, \"president\": \"Franklin D. Roosevelt\", \"no\": 32, \"maxFreq\": 12, \"numberOfSentences\": 75, \"numberOfWords\": 2226, \"numberOfSyllables\": 3670, \"fleschKincaid\": 15.439827, \"word\": \"national\"}, {\"date\": \"1935-01-04T00:00:00\", \"year\": 1935, \"president\": \"Franklin D. Roosevelt\", \"no\": 32, \"maxFreq\": 19, \"numberOfSentences\": 146, \"numberOfWords\": 3525, \"numberOfSyllables\": 5790, \"fleschKincaid\": 13.208223, \"word\": \"work\"}, {\"date\": \"1936-01-03T00:00:00\", \"year\": 1936, \"president\": \"Franklin D. Roosevelt\", \"no\": 32, \"maxFreq\": 23, \"numberOfSentences\": 167, \"numberOfWords\": 3820, \"numberOfSyllables\": 5955, \"fleschKincaid\": 11.725983, \"word\": \"world\"}, {\"date\": \"1937-01-06T00:00:00\", \"year\": 1937, \"president\": \"Franklin D. Roosevelt\", \"no\": 32, \"maxFreq\": 16, \"numberOfSentences\": 106, \"numberOfWords\": 2733, \"numberOfSyllables\": 4603, \"fleschKincaid\": 14.339287, \"word\": \"democracy\"}, {\"date\": \"1938-01-03T00:00:00\", \"year\": 1938, \"president\": \"Franklin D. Roosevelt\", \"no\": 32, \"maxFreq\": 23, \"numberOfSentences\": 175, \"numberOfWords\": 4701, \"numberOfSyllables\": 7651, \"fleschKincaid\": 14.09132, \"word\": \"business\"}, {\"date\": \"1939-01-04T00:00:00\", \"year\": 1939, \"president\": \"Franklin D. Roosevelt\", \"no\": 32, \"maxFreq\": 15, \"numberOfSentences\": 170, \"numberOfWords\": 3768, \"numberOfSyllables\": 6106, \"fleschKincaid\": 12.175995, \"word\": \"nation\"}, {\"date\": \"1940-01-03T00:00:00\", \"year\": 1940, \"president\": \"Franklin D. Roosevelt\", \"no\": 32, \"maxFreq\": 29, \"numberOfSentences\": 123, \"numberOfWords\": 3202, \"numberOfSyllables\": 5050, \"fleschKincaid\": 13.172924, \"word\": \"world\"}, {\"date\": \"1941-01-06T00:00:00\", \"year\": 1941, \"president\": \"Franklin D. Roosevelt\", \"no\": 32, \"maxFreq\": 20, \"numberOfSentences\": 150, \"numberOfWords\": 3318, \"numberOfSyllables\": 5207, \"fleschKincaid\": 11.554764, \"word\": \"world\"}, {\"date\": \"1942-01-06T00:00:00\", \"year\": 1942, \"president\": \"Franklin D. Roosevelt\", \"no\": 32, \"maxFreq\": 31, \"numberOfSentences\": 172, \"numberOfWords\": 3509, \"numberOfSyllables\": 5221, \"fleschKincaid\": 9.923536, \"word\": \"war\"}, {\"date\": \"1943-01-07T00:00:00\", \"year\": 1943, \"president\": \"Franklin D. Roosevelt\", \"no\": 32, \"maxFreq\": 45, \"numberOfSentences\": 203, \"numberOfWords\": 4588, \"numberOfSyllables\": 6941, \"fleschKincaid\": 11.076126, \"word\": \"war\"}, {\"date\": \"1944-01-11T00:00:00\", \"year\": 1944, \"president\": \"Franklin D. Roosevelt\", \"no\": 32, \"maxFreq\": 48, \"numberOfSentences\": 175, \"numberOfWords\": 3810, \"numberOfSyllables\": 5928, \"fleschKincaid\": 11.26054, \"word\": \"war\"}, {\"date\": \"1945-01-06T00:00:00\", \"year\": 1945, \"president\": \"Franklin D. Roosevelt\", \"no\": 32, \"maxFreq\": 75, \"numberOfSentences\": 338, \"numberOfWords\": 8214, \"numberOfSyllables\": 13214, \"fleschKincaid\": 12.87055, \"word\": \"war\"}, {\"date\": \"1946-01-21T00:00:00\", \"year\": 1946, \"president\": \"Harry S. Truman\", \"no\": 33, \"maxFreq\": 206, \"numberOfSentences\": 1258, \"numberOfWords\": 27731, \"numberOfSyllables\": 47482, \"fleschKincaid\": 13.21143, \"word\": \"dollars\"}, {\"date\": \"1947-01-06T00:00:00\", \"year\": 1947, \"president\": \"Harry S. Truman\", \"no\": 33, \"maxFreq\": 29, \"numberOfSentences\": 294, \"numberOfWords\": 6051, \"numberOfSyllables\": 10244, \"fleschKincaid\": 12.4135685, \"word\": \"national\"}, {\"date\": \"1948-01-07T00:00:00\", \"year\": 1948, \"president\": \"Harry S. Truman\", \"no\": 33, \"maxFreq\": 31, \"numberOfSentences\": 276, \"numberOfWords\": 5099, \"numberOfSyllables\": 8189, \"fleschKincaid\": 10.565922, \"word\": \"world\"}, {\"date\": \"1949-01-05T00:00:00\", \"year\": 1949, \"president\": \"Harry S. Truman\", \"no\": 33, \"maxFreq\": 12, \"numberOfSentences\": 187, \"numberOfWords\": 3403, \"numberOfSyllables\": 5628, \"fleschKincaid\": 11.022417, \"word\": \"prosperity\"}, {\"date\": \"1950-01-04T00:00:00\", \"year\": 1950, \"president\": \"Harry S. Truman\", \"no\": 33, \"maxFreq\": 27, \"numberOfSentences\": 236, \"numberOfWords\": 5129, \"numberOfSyllables\": 8236, \"fleschKincaid\": 11.833988, \"word\": \"world\"}, {\"date\": \"1951-01-08T00:00:00\", \"year\": 1951, \"president\": \"Harry S. Truman\", \"no\": 33, \"maxFreq\": 32, \"numberOfSentences\": 245, \"numberOfWords\": 4008, \"numberOfSyllables\": 6009, \"fleschKincaid\": 8.481249, \"word\": \"world\"}, {\"date\": \"1952-01-09T00:00:00\", \"year\": 1952, \"president\": \"Harry S. Truman\", \"no\": 33, \"maxFreq\": 34, \"numberOfSentences\": 297, \"numberOfWords\": 5366, \"numberOfSyllables\": 7867, \"fleschKincaid\": 8.756039, \"word\": \"world\"}, {\"date\": \"1953-01-07T00:00:00\", \"year\": 1953, \"president\": \"Harry S. Truman\", \"no\": 33, \"maxFreq\": 93, \"numberOfSentences\": 431, \"numberOfWords\": 9679, \"numberOfSyllables\": 15061, \"fleschKincaid\": 11.52964, \"word\": \"world\"}, {\"date\": \"1953-02-02T00:00:00\", \"year\": 1953, \"president\": \"Dwight D. Eisenhower\", \"no\": 34, \"maxFreq\": 21, \"numberOfSentences\": 356, \"numberOfWords\": 6973, \"numberOfSyllables\": 12064, \"fleschKincaid\": 12.464161, \"word\": \"federal\"}, {\"date\": \"1954-01-07T00:00:00\", \"year\": 1954, \"president\": \"Dwight D. Eisenhower\", \"no\": 34, \"maxFreq\": 26, \"numberOfSentences\": 288, \"numberOfWords\": 5991, \"numberOfSyllables\": 10361, \"fleschKincaid\": 12.930056, \"word\": \"shall\"}, {\"date\": \"1955-01-06T00:00:00\", \"year\": 1955, \"president\": \"Dwight D. Eisenhower\", \"no\": 34, \"maxFreq\": 39, \"numberOfSentences\": 337, \"numberOfWords\": 7254, \"numberOfSyllables\": 12832, \"fleschKincaid\": 13.678507, \"word\": \"federal\"}, {\"date\": \"1956-01-05T00:00:00\", \"year\": 1956, \"president\": \"Dwight D. Eisenhower\", \"no\": 34, \"maxFreq\": 43, \"numberOfSentences\": 377, \"numberOfWords\": 8272, \"numberOfSyllables\": 14402, \"fleschKincaid\": 13.511681, \"word\": \"program\"}, {\"date\": \"1957-01-10T00:00:00\", \"year\": 1957, \"president\": \"Dwight D. Eisenhower\", \"no\": 34, \"maxFreq\": 20, \"numberOfSentences\": 187, \"numberOfWords\": 4143, \"numberOfSyllables\": 7145, \"fleschKincaid\": 13.400711, \"word\": \"world\"}, {\"date\": \"1958-01-09T00:00:00\", \"year\": 1958, \"president\": \"Dwight D. Eisenhower\", \"no\": 34, \"maxFreq\": 29, \"numberOfSentences\": 249, \"numberOfWords\": 4919, \"numberOfSyllables\": 8248, \"fleschKincaid\": 11.900269, \"word\": \"world\"}, {\"date\": \"1959-01-09T00:00:00\", \"year\": 1959, \"president\": \"Dwight D. Eisenhower\", \"no\": 34, \"maxFreq\": 23, \"numberOfSentences\": 264, \"numberOfWords\": 4889, \"numberOfSyllables\": 8231, \"fleschKincaid\": 11.498577, \"word\": \"world\"}, {\"date\": \"1960-01-07T00:00:00\", \"year\": 1960, \"president\": \"Dwight D. Eisenhower\", \"no\": 34, \"maxFreq\": 31, \"numberOfSentences\": 254, \"numberOfWords\": 5646, \"numberOfSyllables\": 9616, \"fleschKincaid\": 13.176258, \"word\": \"world\"}, {\"date\": \"1961-01-12T00:00:00\", \"year\": 1961, \"president\": \"Dwight D. Eisenhower\", \"no\": 34, \"maxFreq\": 37, \"numberOfSentences\": 264, \"numberOfWords\": 6202, \"numberOfSyllables\": 11077, \"fleschKincaid\": 14.647278, \"word\": \"new\"}, {\"date\": \"1961-01-30T00:00:00\", \"year\": 1961, \"president\": \"John F. Kennedy\", \"no\": 35, \"maxFreq\": 25, \"numberOfSentences\": 213, \"numberOfWords\": 5264, \"numberOfSyllables\": 8557, \"fleschKincaid\": 13.230036, \"word\": \"world\"}, {\"date\": \"1962-01-11T00:00:00\", \"year\": 1962, \"president\": \"John F. Kennedy\", \"no\": 35, \"maxFreq\": 43, \"numberOfSentences\": 277, \"numberOfWords\": 6575, \"numberOfSyllables\": 10604, \"fleschKincaid\": 12.697973, \"word\": \"new\"}, {\"date\": \"1963-01-14T00:00:00\", \"year\": 1963, \"president\": \"John F. Kennedy\", \"no\": 35, \"maxFreq\": 24, \"numberOfSentences\": 233, \"numberOfWords\": 5382, \"numberOfSyllables\": 8413, \"fleschKincaid\": 11.863945, \"word\": \"world\"}, {\"date\": \"1964-01-08T00:00:00\", \"year\": 1964, \"president\": \"Lyndon B. Johnson\", \"no\": 36, \"maxFreq\": 18, \"numberOfSentences\": 142, \"numberOfWords\": 3199, \"numberOfSyllables\": 4957, \"fleschKincaid\": 11.480637, \"word\": \"every\"}, {\"date\": \"1965-01-04T00:00:00\", \"year\": 1965, \"president\": \"Lyndon B. Johnson\", \"no\": 36, \"maxFreq\": 23, \"numberOfSentences\": 256, \"numberOfWords\": 4423, \"numberOfSyllables\": 6731, \"fleschKincaid\": 9.105614, \"word\": \"new\"}, {\"date\": \"1966-01-12T00:00:00\", \"year\": 1966, \"president\": \"Lyndon B. Johnson\", \"no\": 36, \"maxFreq\": 32, \"numberOfSentences\": 244, \"numberOfWords\": 5309, \"numberOfSyllables\": 7979, \"fleschKincaid\": 10.630146, \"word\": \"vietnam\"}, {\"date\": \"1967-01-10T00:00:00\", \"year\": 1967, \"president\": \"Lyndon B. Johnson\", \"no\": 36, \"maxFreq\": 21, \"numberOfSentences\": 356, \"numberOfWords\": 7170, \"numberOfSyllables\": 10960, \"fleschKincaid\": 10.302153, \"word\": \"vietnam\"}, {\"date\": \"1968-01-17T00:00:00\", \"year\": 1968, \"president\": \"Lyndon B. Johnson\", \"no\": 36, \"maxFreq\": 35, \"numberOfSentences\": 258, \"numberOfWords\": 4895, \"numberOfSyllables\": 7531, \"fleschKincaid\": 9.9638195, \"word\": \"year\"}, {\"date\": \"1969-01-14T00:00:00\", \"year\": 1969, \"president\": \"Lyndon B. Johnson\", \"no\": 36, \"maxFreq\": 31, \"numberOfSentences\": 200, \"numberOfWords\": 4122, \"numberOfSyllables\": 6167, \"fleschKincaid\": 10.102097, \"word\": \"congress\"}, {\"date\": \"1970-01-22T00:00:00\", \"year\": 1970, \"president\": \"Richard Nixon\", \"no\": 37, \"maxFreq\": 33, \"numberOfSentences\": 199, \"numberOfWords\": 4470, \"numberOfSyllables\": 6751, \"fleschKincaid\": 10.991734, \"word\": \"new\"}, {\"date\": \"1971-01-22T00:00:00\", \"year\": 1971, \"president\": \"Richard Nixon\", \"no\": 37, \"maxFreq\": 50, \"numberOfSentences\": 196, \"numberOfWords\": 4522, \"numberOfSyllables\": 6832, \"fleschKincaid\": 11.235721999999999, \"word\": \"government\"}, {\"date\": \"1972-01-20T00:00:00\", \"year\": 1972, \"president\": \"Richard Nixon\", \"no\": 37, \"maxFreq\": 25, \"numberOfSentences\": 174, \"numberOfWords\": 3990, \"numberOfSyllables\": 6163, \"fleschKincaid\": 11.579521, \"word\": \"new\"}, {\"date\": \"1973-02-02T00:00:00\", \"year\": 1973, \"president\": \"Richard Nixon\", \"no\": 37, \"maxFreq\": 7, \"numberOfSentences\": 60, \"numberOfWords\": 1670, \"numberOfSyllables\": 2635, \"fleschKincaid\": 13.883562, \"word\": \"resources\"}, {\"date\": \"1974-01-30T00:00:00\", \"year\": 1974, \"president\": \"Richard Nixon\", \"no\": 37, \"maxFreq\": 40, \"numberOfSentences\": 207, \"numberOfWords\": 5170, \"numberOfSyllables\": 7815, \"fleschKincaid\": 11.987524, \"word\": \"years\"}, {\"date\": \"1975-01-15T00:00:00\", \"year\": 1975, \"president\": \"Gerald R. Ford\", \"no\": 38, \"maxFreq\": 25, \"numberOfSentences\": 226, \"numberOfWords\": 4105, \"numberOfSyllables\": 6700, \"fleschKincaid\": 10.753288, \"word\": \"world\"}, {\"date\": \"1976-01-19T00:00:00\", \"year\": 1976, \"president\": \"Gerald R. Ford\", \"no\": 38, \"maxFreq\": 34, \"numberOfSentences\": 277, \"numberOfWords\": 4968, \"numberOfSyllables\": 8016, \"fleschKincaid\": 10.444271, \"word\": \"federal\"}, {\"date\": \"1977-01-12T00:00:00\", \"year\": 1977, \"president\": \"Gerald R. Ford\", \"no\": 38, \"maxFreq\": 21, \"numberOfSentences\": 214, \"numberOfWords\": 4663, \"numberOfSyllables\": 7617, \"fleschKincaid\": 12.183266, \"word\": \"president\"}, {\"date\": \"1978-01-19T00:00:00\", \"year\": 1978, \"president\": \"Jimmy Carter\", \"no\": 39, \"maxFreq\": 23, \"numberOfSentences\": 251, \"numberOfWords\": 4573, \"numberOfSyllables\": 7116, \"fleschKincaid\": 9.877323, \"word\": \"world\"}, {\"date\": \"1979-01-25T00:00:00\", \"year\": 1979, \"president\": \"Jimmy Carter\", \"no\": 39, \"maxFreq\": 27, \"numberOfSentences\": 161, \"numberOfWords\": 3256, \"numberOfSyllables\": 5186, \"fleschKincaid\": 11.091677, \"word\": \"world\"}, {\"date\": \"1980-01-21T00:00:00\", \"year\": 1980, \"president\": \"Jimmy Carter\", \"no\": 39, \"maxFreq\": 31, \"numberOfSentences\": 164, \"numberOfWords\": 3422, \"numberOfSyllables\": 5425, \"fleschKincaid\": 11.254581, \"word\": \"soviet\"}, {\"date\": \"1981-01-16T00:00:00\", \"year\": 1981, \"president\": \"Jimmy Carter\", \"no\": 39, \"maxFreq\": 128, \"numberOfSentences\": 1359, \"numberOfWords\": 33613, \"numberOfSyllables\": 60409, \"fleschKincaid\": 15.262976, \"word\": \"administration\"}, {\"date\": \"1982-01-26T00:00:00\", \"year\": 1982, \"president\": \"Ronald Reagan\", \"no\": 40, \"maxFreq\": 27, \"numberOfSentences\": 258, \"numberOfWords\": 5212, \"numberOfSyllables\": 8210, \"fleschKincaid\": 10.876095, \"word\": \"programs\"}, {\"date\": \"1983-01-25T00:00:00\", \"year\": 1983, \"president\": \"Ronald Reagan\", \"no\": 40, \"maxFreq\": 18, \"numberOfSentences\": 267, \"numberOfWords\": 5609, \"numberOfSyllables\": 8911, \"fleschKincaid\": 11.349543, \"word\": \"economic\"}, {\"date\": \"1984-01-25T00:00:00\", \"year\": 1984, \"president\": \"Ronald Reagan\", \"no\": 40, \"maxFreq\": 24, \"numberOfSentences\": 298, \"numberOfWords\": 4985, \"numberOfSyllables\": 7809, \"fleschKincaid\": 9.418686, \"word\": \"peace\"}, {\"date\": \"1985-02-06T00:00:00\", \"year\": 1985, \"president\": \"Ronald Reagan\", \"no\": 40, \"maxFreq\": 24, \"numberOfSentences\": 230, \"numberOfWords\": 4266, \"numberOfSyllables\": 6676, \"fleschKincaid\": 10.10985, \"word\": \"years\"}, {\"date\": \"1986-02-04T00:00:00\", \"year\": 1986, \"president\": \"Ronald Reagan\", \"no\": 40, \"maxFreq\": 22, \"numberOfSentences\": 185, \"numberOfWords\": 3523, \"numberOfSyllables\": 5389, \"fleschKincaid\": 9.886879, \"word\": \"america\"}, {\"date\": \"1987-01-27T00:00:00\", \"year\": 1987, \"president\": \"Ronald Reagan\", \"no\": 40, \"maxFreq\": 19, \"numberOfSentences\": 214, \"numberOfWords\": 3833, \"numberOfSyllables\": 5829, \"fleschKincaid\": 9.340118, \"word\": \"america\"}, {\"date\": \"1988-01-25T00:00:00\", \"year\": 1988, \"president\": \"Ronald Reagan\", \"no\": 40, \"maxFreq\": 23, \"numberOfSentences\": 234, \"numberOfWords\": 4898, \"numberOfSyllables\": 7583, \"fleschKincaid\": 10.841892, \"word\": \"america\"}, {\"date\": \"1989-02-09T00:00:00\", \"year\": 1989, \"president\": \"George H.W. Bush\", \"no\": 41, \"maxFreq\": 24, \"numberOfSentences\": 293, \"numberOfWords\": 4797, \"numberOfSyllables\": 7296, \"fleschKincaid\": 8.742302, \"word\": \"america\"}, {\"date\": \"1990-01-31T00:00:00\", \"year\": 1990, \"president\": \"George H.W. Bush\", \"no\": 41, \"maxFreq\": 25, \"numberOfSentences\": 230, \"numberOfWords\": 3776, \"numberOfSyllables\": 5644, \"fleschKincaid\": 8.450283, \"word\": \"every\"}, {\"date\": \"1991-01-29T00:00:00\", \"year\": 1991, \"president\": \"George H.W. Bush\", \"no\": 41, \"maxFreq\": 28, \"numberOfSentences\": 233, \"numberOfWords\": 3790, \"numberOfSyllables\": 5951, \"fleschKincaid\": 9.281956, \"word\": \"world\"}, {\"date\": \"1992-01-28T00:00:00\", \"year\": 1992, \"president\": \"George H.W. Bush\", \"no\": 41, \"maxFreq\": 23, \"numberOfSentences\": 301, \"numberOfWords\": 4717, \"numberOfSyllables\": 6834, \"fleschKincaid\": 7.6175957, \"word\": \"plan\"}, {\"date\": \"1993-02-17T00:00:00\", \"year\": 1993, \"president\": \"William J. Clinton\", \"no\": 42, \"maxFreq\": 44, \"numberOfSentences\": 294, \"numberOfWords\": 6988, \"numberOfSyllables\": 10302, \"fleschKincaid\": 11.075848, \"word\": \"people\"}, {\"date\": \"1994-01-25T00:00:00\", \"year\": 1994, \"president\": \"William J. Clinton\", \"no\": 42, \"maxFreq\": 62, \"numberOfSentences\": 374, \"numberOfWords\": 7421, \"numberOfSyllables\": 10903, \"fleschKincaid\": 9.485142, \"word\": \"people\"}, {\"date\": \"1995-01-24T00:00:00\", \"year\": 1995, \"president\": \"William J. Clinton\", \"no\": 42, \"maxFreq\": 72, \"numberOfSentences\": 452, \"numberOfWords\": 9177, \"numberOfSyllables\": 13315, \"fleschKincaid\": 9.448944, \"word\": \"people\"}, {\"date\": \"1996-01-23T00:00:00\", \"year\": 1996, \"president\": \"William J. Clinton\", \"no\": 42, \"maxFreq\": 43, \"numberOfSentences\": 359, \"numberOfWords\": 6307, \"numberOfSyllables\": 9533, \"fleschKincaid\": 9.097258, \"word\": \"people\"}, {\"date\": \"1997-02-04T00:00:00\", \"year\": 1997, \"president\": \"William J. Clinton\", \"no\": 42, \"maxFreq\": 43, \"numberOfSentences\": 355, \"numberOfWords\": 6772, \"numberOfSyllables\": 10180, \"fleschKincaid\": 9.587996, \"word\": \"america\"}, {\"date\": \"1998-01-27T00:00:00\", \"year\": 1998, \"president\": \"William J. Clinton\", \"no\": 42, \"maxFreq\": 45, \"numberOfSentences\": 368, \"numberOfWords\": 7310, \"numberOfSyllables\": 11066, \"fleschKincaid\": 10.020046, \"word\": \"new\"}, {\"date\": \"1999-01-19T00:00:00\", \"year\": 1999, \"president\": \"William J. Clinton\", \"no\": 42, \"maxFreq\": 42, \"numberOfSentences\": 397, \"numberOfWords\": 7488, \"numberOfSyllables\": 11487, \"fleschKincaid\": 9.867813, \"word\": \"now\"}, {\"date\": \"2000-01-27T00:00:00\", \"year\": 2000, \"president\": \"William J. Clinton\", \"no\": 42, \"maxFreq\": 51, \"numberOfSentences\": 413, \"numberOfWords\": 7436, \"numberOfSyllables\": 11593, \"fleschKincaid\": 9.828527, \"word\": \"new\"}, {\"date\": \"2001-02-27T00:00:00\", \"year\": 2001, \"president\": \"George W. Bush\", \"no\": 43, \"maxFreq\": 26, \"numberOfSentences\": 272, \"numberOfWords\": 4367, \"numberOfSyllables\": 6685, \"fleschKincaid\": 8.734938, \"word\": \"budget\"}, {\"date\": \"2001-09-20T00:00:00\", \"year\": 2001, \"president\": \"George W. Bush\", \"no\": 43, \"maxFreq\": 16, \"numberOfSentences\": 191, \"numberOfWords\": 2966, \"numberOfSyllables\": 4666, \"fleschKincaid\": 9.029549, \"word\": \"america\"}, {\"date\": \"2002-01-29T00:00:00\", \"year\": 2002, \"president\": \"George W. Bush\", \"no\": 43, \"maxFreq\": 33, \"numberOfSentences\": 216, \"numberOfWords\": 3829, \"numberOfSyllables\": 6032, \"fleschKincaid\": 9.912556, \"word\": \"america\"}, {\"date\": \"2003-01-28T00:00:00\", \"year\": 2003, \"president\": \"George W. Bush\", \"no\": 43, \"maxFreq\": 27, \"numberOfSentences\": 296, \"numberOfWords\": 5364, \"numberOfSyllables\": 8505, \"fleschKincaid\": 10.187164, \"word\": \"weapons\"}, {\"date\": \"2004-01-20T00:00:00\", \"year\": 2004, \"president\": \"George W. Bush\", \"no\": 43, \"maxFreq\": 31, \"numberOfSentences\": 276, \"numberOfWords\": 5169, \"numberOfSyllables\": 8058, \"fleschKincaid\": 10.109148, \"word\": \"america\"}, {\"date\": \"2005-02-02T00:00:00\", \"year\": 2005, \"president\": \"George W. Bush\", \"no\": 43, \"maxFreq\": 29, \"numberOfSentences\": 240, \"numberOfWords\": 5053, \"numberOfSyllables\": 8065, \"fleschKincaid\": 11.4548855, \"word\": \"security\"}, {\"date\": \"2006-01-31T00:00:00\", \"year\": 2006, \"president\": \"George W. Bush\", \"no\": 43, \"maxFreq\": 38, \"numberOfSentences\": 277, \"numberOfWords\": 5321, \"numberOfSyllables\": 8522, \"fleschKincaid\": 10.800289, \"word\": \"america\"}, {\"date\": \"2007-01-23T00:00:00\", \"year\": 2007, \"president\": \"George W. Bush\", \"no\": 43, \"maxFreq\": 24, \"numberOfSentences\": 288, \"numberOfWords\": 5595, \"numberOfSyllables\": 8498, \"fleschKincaid\": 9.909065, \"word\": \"america\"}, {\"date\": \"2008-01-28T00:00:00\", \"year\": 2008, \"president\": \"George W. Bush\", \"no\": 43, \"maxFreq\": 30, \"numberOfSentences\": 306, \"numberOfWords\": 5749, \"numberOfSyllables\": 9033, \"fleschKincaid\": 10.277668, \"word\": \"america\"}, {\"date\": \"2009-02-24T00:00:00\", \"year\": 2009, \"president\": \"Barack Obama\", \"no\": 44, \"maxFreq\": 23, \"numberOfSentences\": 283, \"numberOfWords\": 5900, \"numberOfSyllables\": 8883, \"fleschKincaid\": 10.306744, \"word\": \"because\"}, {\"date\": \"2010-01-27T00:00:00\", \"year\": 2010, \"president\": \"Barack Obama\", \"no\": 44, \"maxFreq\": 28, \"numberOfSentences\": 409, \"numberOfWords\": 7068, \"numberOfSyllables\": 10665, \"fleschKincaid\": 8.954834, \"word\": \"americans\"}, {\"date\": \"2011-01-25T00:00:00\", \"year\": 2011, \"president\": \"Barack Obama\", \"no\": 44, \"maxFreq\": 25, \"numberOfSentences\": 417, \"numberOfWords\": 6886, \"numberOfSyllables\": 10112, \"fleschKincaid\": 8.1782875, \"word\": \"jobs\"}, {\"date\": \"2012-01-24T00:00:00\", \"year\": 2012, \"president\": \"Barack Obama\", \"no\": 44, \"maxFreq\": 33, \"numberOfSentences\": 420, \"numberOfWords\": 6945, \"numberOfSyllables\": 10496, \"fleschKincaid\": 8.692305, \"word\": \"jobs\"}, {\"date\": \"2013-02-12T00:00:00\", \"year\": 2013, \"president\": \"Barack Obama\", \"no\": 44, \"maxFreq\": 31, \"numberOfSentences\": 331, \"numberOfWords\": 6416, \"numberOfSyllables\": 9809, \"fleschKincaid\": 10.009882, \"word\": \"jobs\"}, {\"date\": \"2014-01-28T00:00:00\", \"year\": 2014, \"president\": \"Barack Obama\", \"no\": 44, \"maxFreq\": 31, \"numberOfSentences\": 346, \"numberOfWords\": 6773, \"numberOfSyllables\": 10379, \"fleschKincaid\": 10.126722000000001, \"word\": \"help\"}, {\"date\": \"2015-01-20T00:00:00\", \"year\": 2015, \"president\": \"Barack Obama\", \"no\": 44, \"maxFreq\": 35, \"numberOfSentences\": 374, \"numberOfWords\": 6719, \"numberOfSyllables\": 10018, \"fleschKincaid\": 9.010191, \"word\": \"america\"}, {\"date\": \"2016-01-12T00:00:00\", \"year\": 2016, \"president\": \"Barack Obama\", \"no\": 44, \"maxFreq\": 30, \"numberOfSentences\": 304, \"numberOfWords\": 5439, \"numberOfSyllables\": 8125, \"fleschKincaid\": 9.014984, \"word\": \"that's\"}, {\"date\": \"2017-02-28T00:00:00\", \"year\": 2017, \"president\": \"Donald J. Trump\", \"no\": 45, \"maxFreq\": 32, \"numberOfSentences\": 301, \"numberOfWords\": 5012, \"numberOfSyllables\": 7692, \"fleschKincaid\": 9.013611, \"word\": \"american\"}, {\"date\": \"2018-01-30T00:00:00\", \"year\": 2018, \"president\": \"Donald J. Trump\", \"no\": 45, \"maxFreq\": 29, \"numberOfSentences\": 319, \"numberOfWords\": 5139, \"numberOfSyllables\": 7992, \"fleschKincaid\": 9.043753, \"word\": \"american\"}, {\"date\": \"2019-02-05T00:00:00\", \"year\": 2019, \"president\": \"Donald J. Trump\", \"no\": 45, \"maxFreq\": 19, \"numberOfSentences\": 295, \"numberOfWords\": 5190, \"numberOfSyllables\": 8181, \"fleschKincaid\": 9.871701999999999, \"word\": \"tonight\"}, {\"date\": \"2020-02-04T00:00:00\", \"year\": 2020, \"president\": \"Donald J. Trump\", \"no\": 45, \"maxFreq\": 34, \"numberOfSentences\": 335, \"numberOfWords\": 5885, \"numberOfSyllables\": 9474, \"fleschKincaid\": 10.257488, \"word\": \"american\"}, {\"date\": \"2021-04-28T00:00:00\", \"year\": 2021, \"president\": \"Joseph R. Biden\", \"no\": 46, \"maxFreq\": 46, \"numberOfSentences\": 460, \"numberOfWords\": 6036, \"numberOfSyllables\": 9095, \"fleschKincaid\": 7.3076324, \"word\": \"american\"}]}}, {\"mode\": \"vega-lite\"});\n",
       "</script>"
      ],
      "text/plain": [
       "alt.Chart(...)"
      ]
     },
     "execution_count": 31,
     "metadata": {},
     "output_type": "execute_result"
    }
   ],
   "source": [
    "alt.Chart(final_df).mark_line().encode(\n",
    "    x=\"year:O\",\n",
    "    y=\"fleschKincaid\",\n",
    ").properties(width=650)"
   ]
  },
  {
   "cell_type": "code",
   "execution_count": 32,
   "id": "7475dba0-fb4c-4fdc-9bca-3b6bccd4c03f",
   "metadata": {},
   "outputs": [],
   "source": [
    "words_counts = pd.read_csv(\"data/raw/words_counts.txt\", sep=\"\t\")"
   ]
  },
  {
   "cell_type": "code",
   "execution_count": 33,
   "id": "d2e4dc54-ed77-4bc8-8c08-a4d3041c03c9",
   "metadata": {},
   "outputs": [],
   "source": [
    "selected_words = [\n",
    "    \"America\",\n",
    "    \"government\",\n",
    "    \"states\",\n",
    "    \"strong\",\n",
    "    \"terrorism\",\n",
    "    \"people\",\n",
    "    \"war\",\n",
    "    \"jobs\",\n",
    "    \"slavery\",\n",
    "    \"space\",\n",
    "    \"wages\",\n",
    "    \"fight\",\n",
    "    \"peace\",\n",
    "    \"bipartisan\",\n",
    "    \"together\",\n",
    "    \"division\",\n",
    "    \"united\",\n",
    "    \"citizens\",\n",
    "    \"military\",\n",
    "    \"constitution\",\n",
    "]"
   ]
  },
  {
   "cell_type": "code",
   "execution_count": 34,
   "id": "f038927e-9347-4be0-98e2-83f653dd3b22",
   "metadata": {},
   "outputs": [],
   "source": [
    "selected_words_df = words_counts[words_counts[\"word\"].isin(selected_words)]"
   ]
  },
  {
   "cell_type": "code",
   "execution_count": 35,
   "id": "40797609-a3af-490c-9ac4-cde99fa3cabd",
   "metadata": {},
   "outputs": [],
   "source": [
    "selected_words_export = (\n",
    "    selected_words_df[[\"word\", \"corpus\"]]\n",
    "    .sort_values(\"corpus\", ascending=False)\n",
    "    .reset_index(drop=True)\n",
    ")"
   ]
  },
  {
   "cell_type": "code",
   "execution_count": 36,
   "id": "a0f7948b-9dd3-4110-90ba-210a776a2eb5",
   "metadata": {},
   "outputs": [],
   "source": [
    "selected_words_export[\"word\"] = selected_words_export[\"word\"].str.title()"
   ]
  },
  {
   "cell_type": "markdown",
   "id": "8f8ca6c8-aa5d-49ff-b481-77fad6f70639",
   "metadata": {},
   "source": [
    "#### Exports"
   ]
  },
  {
   "cell_type": "code",
   "execution_count": 37,
   "id": "8e3d8fce-ca1e-4f62-8812-53fe427126f3",
   "metadata": {},
   "outputs": [],
   "source": [
    "selected_words_export.to_csv(\"data/processed/selected_words_counts.csv\", index=False)"
   ]
  },
  {
   "cell_type": "code",
   "execution_count": 38,
   "id": "3d5755d6-7d66-47ea-864a-3b5f04c79c81",
   "metadata": {},
   "outputs": [],
   "source": [
    "final_df.to_csv(\"data/processed/sotu_analytics.csv\", index=False)"
   ]
  },
  {
   "cell_type": "code",
   "execution_count": 39,
   "id": "a2935f82-2dac-43fc-a152-37b151cc4196",
   "metadata": {},
   "outputs": [],
   "source": [
    "final_df[[\"date\", \"president\", \"word\"]].to_csv(\n",
    "    \"data/processed/sotu_analytics_top_word_each_year.csv\", index=False\n",
    ")"
   ]
  }
 ],
 "metadata": {
  "kernelspec": {
   "display_name": "Python 3 (ipykernel)",
   "language": "python",
   "name": "python3"
  },
  "language_info": {
   "codemirror_mode": {
    "name": "ipython",
    "version": 3
   },
   "file_extension": ".py",
   "mimetype": "text/x-python",
   "name": "python",
   "nbconvert_exporter": "python",
   "pygments_lexer": "ipython3",
   "version": "3.8.9"
  }
 },
 "nbformat": 4,
 "nbformat_minor": 5
}
