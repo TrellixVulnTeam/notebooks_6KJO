{
 "cells": [
  {
   "cell_type": "markdown",
   "id": "3df22936-9f1e-4cba-bd57-35b5e62cdbc8",
   "metadata": {},
   "source": [
    "# Filter polling place data to specific states and reliable jurisdictions"
   ]
  },
  {
   "cell_type": "code",
   "execution_count": 1,
   "id": "a4b3573c-e40a-4f1c-abe8-f6343c606e46",
   "metadata": {},
   "outputs": [],
   "source": [
    "%load_ext lab_black"
   ]
  },
  {
   "cell_type": "code",
   "execution_count": 2,
   "id": "b62b64ce-47bd-432e-80ca-adf5bfa50598",
   "metadata": {},
   "outputs": [],
   "source": [
    "import pandas as pd\n",
    "import numpy as np"
   ]
  },
  {
   "cell_type": "code",
   "execution_count": 3,
   "id": "c93e586f-9aec-40ee-9523-b3d88f634845",
   "metadata": {},
   "outputs": [],
   "source": [
    "pd.options.display.max_columns = 1000\n",
    "pd.options.display.max_rows = 1000\n",
    "pd.options.display.max_colwidth = None"
   ]
  },
  {
   "cell_type": "markdown",
   "id": "fd1733e4-e755-45b6-b9d9-33639d9ce146",
   "metadata": {},
   "source": [
    "---"
   ]
  },
  {
   "cell_type": "markdown",
   "id": "dd3e2c9c-baf0-4673-b583-0dc82c1c545a",
   "metadata": {},
   "source": [
    "### States who filed Amicus briefs"
   ]
  },
  {
   "cell_type": "code",
   "execution_count": 4,
   "id": "659101e7-23b6-4631-981f-603fa05ba515",
   "metadata": {},
   "outputs": [],
   "source": [
    "states = {\n",
    "    \"AK\": \"Alaska\",\n",
    "    \"AZ\": \"Arizona\",\n",
    "    \"AL\": \"Alabama\",\n",
    "    \"GA\": \"Georgia\",\n",
    "    \"SC\": \"South Carolina\",\n",
    "    \"SD\": \"South Dakota\",\n",
    "    \"TX\": \"Texas\",\n",
    "}"
   ]
  },
  {
   "cell_type": "code",
   "execution_count": 5,
   "id": "0cb5b0fb-0ceb-46d7-83f4-befc78d51adf",
   "metadata": {},
   "outputs": [],
   "source": [
    "state_filter = [\n",
    "    \"Alaska\",\n",
    "    \"Arizona\",\n",
    "    \"Alabama\",\n",
    "    \"Georgia\",\n",
    "    \"South Carolina\",\n",
    "    \"South Dakota\",\n",
    "    \"Texas\",\n",
    "]"
   ]
  },
  {
   "cell_type": "code",
   "execution_count": 6,
   "id": "192138d9-0edd-4ae2-ae72-5d16bc537805",
   "metadata": {},
   "outputs": [],
   "source": [
    "src = pd.read_csv(\n",
    "    \"output/polling_places_analysis_clean.csv\", dtype={\"fips\": str, \"year\": str}\n",
    ")"
   ]
  },
  {
   "cell_type": "code",
   "execution_count": 7,
   "id": "e580b4d4-4069-497f-af80-79c354845a6e",
   "metadata": {},
   "outputs": [],
   "source": [
    "src[\"state_name\"] = src[\"state\"].map(states)"
   ]
  },
  {
   "cell_type": "code",
   "execution_count": 8,
   "id": "374da665-395c-4ab2-aa79-0600ffd189f3",
   "metadata": {},
   "outputs": [
    {
     "data": {
      "text/plain": [
       "fips                     object\n",
       "place                    object\n",
       "state                    object\n",
       "total_reg_voters        float64\n",
       "mail_ballots_sent       float64\n",
       "poll_place_elect_day    float64\n",
       "poll_place_early        float64\n",
       "total_votes_cast        float64\n",
       "year                     object\n",
       "place_type               object\n",
       "place_clean              object\n",
       "state_name               object\n",
       "dtype: object"
      ]
     },
     "execution_count": 8,
     "metadata": {},
     "output_type": "execute_result"
    }
   ],
   "source": [
    "src.dtypes"
   ]
  },
  {
   "cell_type": "markdown",
   "id": "92c981a4-d94a-464f-b052-ac1079ee328f",
   "metadata": {},
   "source": [
    "---"
   ]
  },
  {
   "cell_type": "code",
   "execution_count": 9,
   "id": "b687c260-1755-4eeb-9956-1befb925efbb",
   "metadata": {},
   "outputs": [],
   "source": [
    "df_states = src[src[\"state_name\"].isin(state_filter)]"
   ]
  },
  {
   "cell_type": "markdown",
   "id": "abc9d04e-e982-44f3-b3b6-0f5f9f233afe",
   "metadata": {},
   "source": [
    "### How jurisdictions in our states don't have polling place data? "
   ]
  },
  {
   "cell_type": "code",
   "execution_count": 10,
   "id": "7fc33d6b-2521-4824-b7f2-166e5455c76b",
   "metadata": {},
   "outputs": [
    {
     "data": {
      "text/plain": [
       "180"
      ]
     },
     "execution_count": 10,
     "metadata": {},
     "output_type": "execute_result"
    }
   ],
   "source": [
    "len(\n",
    "    df_states[\n",
    "        (df_states[\"poll_place_elect_day\"].isnull()) & (df_states[\"year\"] == \"2012\")\n",
    "    ]\n",
    ")"
   ]
  },
  {
   "cell_type": "code",
   "execution_count": 11,
   "id": "5e97a78f-b76b-4b47-a650-79b21cab7b2e",
   "metadata": {},
   "outputs": [
    {
     "data": {
      "text/plain": [
       "37"
      ]
     },
     "execution_count": 11,
     "metadata": {},
     "output_type": "execute_result"
    }
   ],
   "source": [
    "len(\n",
    "    df_states[\n",
    "        (df_states[\"poll_place_elect_day\"].isnull()) & (df_states[\"year\"] == \"2016\")\n",
    "    ]\n",
    ")"
   ]
  },
  {
   "cell_type": "code",
   "execution_count": 12,
   "id": "bd208dd6-af9c-44c2-ad49-c791e7827ea5",
   "metadata": {},
   "outputs": [
    {
     "data": {
      "text/plain": [
       "0"
      ]
     },
     "execution_count": 12,
     "metadata": {},
     "output_type": "execute_result"
    }
   ],
   "source": [
    "len(\n",
    "    df_states[\n",
    "        (df_states[\"poll_place_elect_day\"].isnull()) & (df_states[\"year\"] == \"2020\")\n",
    "    ]\n",
    ")"
   ]
  },
  {
   "cell_type": "code",
   "execution_count": 13,
   "id": "2ca7ca77-0dbb-478b-a0cb-2640b27223e1",
   "metadata": {},
   "outputs": [],
   "source": [
    "df = df_states[~df_states[\"poll_place_elect_day\"].isnull()]"
   ]
  },
  {
   "cell_type": "code",
   "execution_count": 14,
   "id": "c37ca10f-f0ef-45b6-94ac-d88769eaf210",
   "metadata": {},
   "outputs": [
    {
     "data": {
      "text/plain": [
       "2020    608\n",
       "2016    571\n",
       "2012    428\n",
       "Name: year, dtype: int64"
      ]
     },
     "execution_count": 14,
     "metadata": {},
     "output_type": "execute_result"
    }
   ],
   "source": [
    "df.year.value_counts()"
   ]
  },
  {
   "cell_type": "markdown",
   "id": "cb1f4b9b-6b11-4f51-aa2c-9ee8a84daf6c",
   "metadata": {},
   "source": [
    "---"
   ]
  },
  {
   "cell_type": "code",
   "execution_count": 15,
   "id": "5f42bc4f-5893-480e-8476-d926bde018ba",
   "metadata": {},
   "outputs": [],
   "source": [
    "df_pivot = df.pivot_table(\n",
    "    index=[\"fips\", \"place_clean\", \"state_name\"],\n",
    "    values=[\"poll_place_elect_day\", \"total_reg_voters\"],\n",
    "    columns=\"year\",\n",
    ").reset_index()"
   ]
  },
  {
   "cell_type": "code",
   "execution_count": 16,
   "id": "92caad86-b352-41c0-af65-219730c3fb73",
   "metadata": {},
   "outputs": [],
   "source": [
    "df_pivot.columns = [\"_\".join(col).strip() for col in df_pivot.columns.values]"
   ]
  },
  {
   "cell_type": "markdown",
   "id": "a969609a-c63f-43c3-9cf6-3c398e98292e",
   "metadata": {},
   "source": [
    "### Polling place raw change from 2016-2020"
   ]
  },
  {
   "cell_type": "code",
   "execution_count": 17,
   "id": "ce74e790-5b1b-4458-a9ea-71219caf954e",
   "metadata": {},
   "outputs": [],
   "source": [
    "df_pivot[\"poll_place_change_16_20\"] = (\n",
    "    df_pivot[\"poll_place_elect_day_2020\"] - df_pivot[\"poll_place_elect_day_2016\"]\n",
    ")"
   ]
  },
  {
   "cell_type": "markdown",
   "id": "80538b6b-81a2-4082-8251-526cee0933bd",
   "metadata": {},
   "source": [
    "### Polling place PCT change from 2016-2020"
   ]
  },
  {
   "cell_type": "code",
   "execution_count": 18,
   "id": "1f4e3820-9d13-428d-a93d-e6c37e008104",
   "metadata": {},
   "outputs": [],
   "source": [
    "df_pivot[\"poll_place_pct_change_16_20\"] = round(\n",
    "    df_pivot[\"poll_place_change_16_20\"] / df_pivot[\"poll_place_elect_day_2016\"] * 100, 2\n",
    ")"
   ]
  },
  {
   "cell_type": "markdown",
   "id": "2a1a5495-3206-4759-a2b4-63c9a5afaf38",
   "metadata": {},
   "source": [
    "### Polling place rate 2016"
   ]
  },
  {
   "cell_type": "code",
   "execution_count": 19,
   "id": "c885466b-cc74-435f-9c4e-decf1343182e",
   "metadata": {},
   "outputs": [],
   "source": [
    "df_pivot[\"poll_place_1k_2016\"] = round(\n",
    "    (df_pivot[\"poll_place_elect_day_2016\"] / df_pivot[\"total_reg_voters_2016\"]) * 1000,\n",
    "    2,\n",
    ")"
   ]
  },
  {
   "cell_type": "markdown",
   "id": "9a2d1589-40ae-48c6-83f8-378f7c24ba45",
   "metadata": {},
   "source": [
    "### Polling place rate 2020"
   ]
  },
  {
   "cell_type": "code",
   "execution_count": 20,
   "id": "d0d8a418-9f0c-43e8-9dff-17ce06d53a57",
   "metadata": {},
   "outputs": [],
   "source": [
    "df_pivot[\"poll_place_1k_2020\"] = round(\n",
    "    (df_pivot[\"poll_place_elect_day_2020\"] / df_pivot[\"total_reg_voters_2020\"]) * 1000,\n",
    "    2,\n",
    ")"
   ]
  },
  {
   "cell_type": "markdown",
   "id": "6c807038-0a80-4548-8e5a-50550e3413bf",
   "metadata": {},
   "source": [
    "### Polling place rate change 2016-2020"
   ]
  },
  {
   "cell_type": "code",
   "execution_count": 21,
   "id": "7e753c89-182c-4a1b-bcdd-df0e38b8c7cb",
   "metadata": {},
   "outputs": [],
   "source": [
    "df_pivot[\"poll_place_rate_change_2016_2020\"] = round(\n",
    "    (df_pivot[\"poll_place_1k_2020\"] - df_pivot[\"poll_place_1k_2016\"])\n",
    "    / df_pivot[\"poll_place_1k_2016\"]\n",
    "    * 100,\n",
    "    2,\n",
    ")"
   ]
  },
  {
   "cell_type": "code",
   "execution_count": 22,
   "id": "4099d3c2-471b-4029-b2e9-cdb6fcfe1b5e",
   "metadata": {},
   "outputs": [
    {
     "data": {
      "text/plain": [
       "-2136.0"
      ]
     },
     "execution_count": 22,
     "metadata": {},
     "output_type": "execute_result"
    }
   ],
   "source": [
    "df_pivot.poll_place_change_16_20.sum()"
   ]
  },
  {
   "cell_type": "code",
   "execution_count": 23,
   "id": "5673213d-975a-4617-aa1b-6341372b3360",
   "metadata": {},
   "outputs": [
    {
     "data": {
      "text/plain": [
       "16381.0"
      ]
     },
     "execution_count": 23,
     "metadata": {},
     "output_type": "execute_result"
    }
   ],
   "source": [
    "df_pivot[\"poll_place_elect_day_2016\"].sum()"
   ]
  },
  {
   "cell_type": "code",
   "execution_count": 24,
   "id": "dcb28555-6132-4494-a15c-ddb9cb5ff66a",
   "metadata": {},
   "outputs": [
    {
     "data": {
      "text/plain": [
       "14643.0"
      ]
     },
     "execution_count": 24,
     "metadata": {},
     "output_type": "execute_result"
    }
   ],
   "source": [
    "df_pivot[\"poll_place_elect_day_2020\"].sum()"
   ]
  },
  {
   "cell_type": "code",
   "execution_count": null,
   "id": "d3eeae3a-ee7d-4912-870f-2d8a279f2984",
   "metadata": {},
   "outputs": [],
   "source": []
  },
  {
   "cell_type": "code",
   "execution_count": 25,
   "id": "834d3229-1e36-4ecf-9ecc-44ee91474131",
   "metadata": {},
   "outputs": [],
   "source": [
    "df_pivot.drop([\"total_reg_voters_2012\", \"total_reg_voters_2012\"], axis=1, inplace=True)"
   ]
  },
  {
   "cell_type": "code",
   "execution_count": null,
   "id": "eb0f5886-9738-4638-9831-682919caaf90",
   "metadata": {},
   "outputs": [],
   "source": []
  },
  {
   "cell_type": "code",
   "execution_count": 26,
   "id": "b43ca8ce-4785-4f69-ac28-4462849b3307",
   "metadata": {},
   "outputs": [],
   "source": [
    "df_pivot.rename(\n",
    "    columns={\"fips_\": \"fips\", \"place_clean_\": \"place\", \"state_name_\": \"state\",},\n",
    "    inplace=True,\n",
    ")"
   ]
  },
  {
   "cell_type": "code",
   "execution_count": 27,
   "id": "78da923f-8f50-40c4-a127-5e2f4c56e9a6",
   "metadata": {},
   "outputs": [],
   "source": [
    "df = df_pivot.sort_values(\"poll_place_rate_change_2016_2020\", ascending=False).copy()"
   ]
  },
  {
   "cell_type": "code",
   "execution_count": 28,
   "id": "e986cc12-0ea5-472a-8fe5-2f1c5e6ed953",
   "metadata": {},
   "outputs": [],
   "source": [
    "df.to_csv(\"output/polling_places_pivot.csv\", index=False)"
   ]
  }
 ],
 "metadata": {
  "kernelspec": {
   "display_name": "Python 3",
   "language": "python",
   "name": "python3"
  },
  "language_info": {
   "codemirror_mode": {
    "name": "ipython",
    "version": 3
   },
   "file_extension": ".py",
   "mimetype": "text/x-python",
   "name": "python",
   "nbconvert_exporter": "python",
   "pygments_lexer": "ipython3",
   "version": "3.8.8"
  }
 },
 "nbformat": 4,
 "nbformat_minor": 5
}
