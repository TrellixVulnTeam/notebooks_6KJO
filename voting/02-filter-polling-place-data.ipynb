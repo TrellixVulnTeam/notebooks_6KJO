{
 "cells": [
  {
   "cell_type": "markdown",
   "id": "3df22936-9f1e-4cba-bd57-35b5e62cdbc8",
   "metadata": {},
   "source": [
    "# Filter polling place data to specific states and reliable jurisdictions"
   ]
  },
  {
   "cell_type": "code",
   "execution_count": 1,
   "id": "a4b3573c-e40a-4f1c-abe8-f6343c606e46",
   "metadata": {},
   "outputs": [],
   "source": [
    "%load_ext lab_black"
   ]
  },
  {
   "cell_type": "code",
   "execution_count": 2,
   "id": "b62b64ce-47bd-432e-80ca-adf5bfa50598",
   "metadata": {},
   "outputs": [],
   "source": [
    "import pandas as pd\n",
    "import numpy as np"
   ]
  },
  {
   "cell_type": "code",
   "execution_count": 3,
   "id": "c93e586f-9aec-40ee-9523-b3d88f634845",
   "metadata": {},
   "outputs": [],
   "source": [
    "pd.options.display.max_columns = 1000\n",
    "pd.options.display.max_rows = 1000\n",
    "pd.options.display.max_colwidth = None"
   ]
  },
  {
   "cell_type": "markdown",
   "id": "fd1733e4-e755-45b6-b9d9-33639d9ce146",
   "metadata": {},
   "source": [
    "---"
   ]
  },
  {
   "cell_type": "markdown",
   "id": "dd3e2c9c-baf0-4673-b583-0dc82c1c545a",
   "metadata": {},
   "source": [
    "### States who filed Amicus briefs"
   ]
  },
  {
   "cell_type": "code",
   "execution_count": 4,
   "id": "659101e7-23b6-4631-981f-603fa05ba515",
   "metadata": {},
   "outputs": [],
   "source": [
    "states = {\n",
    "    \"AK\": \"Alaska\",\n",
    "    \"AZ\": \"Arizona\",\n",
    "    \"AL\": \"Alabama\",\n",
    "    \"GA\": \"Georgia\",\n",
    "    \"SC\": \"South Carolina\",\n",
    "    \"SD\": \"South Dakota\",\n",
    "    \"TX\": \"Texas\",\n",
    "}"
   ]
  },
  {
   "cell_type": "code",
   "execution_count": 5,
   "id": "0cb5b0fb-0ceb-46d7-83f4-befc78d51adf",
   "metadata": {},
   "outputs": [],
   "source": [
    "state_filter = [\n",
    "    \"Alaska\",\n",
    "    \"Arizona\",\n",
    "    \"Alabama\",\n",
    "    \"Georgia\",\n",
    "    \"South Carolina\",\n",
    "    \"South Dakota\",\n",
    "    \"Texas\",\n",
    "]"
   ]
  },
  {
   "cell_type": "code",
   "execution_count": 6,
   "id": "192138d9-0edd-4ae2-ae72-5d16bc537805",
   "metadata": {},
   "outputs": [],
   "source": [
    "src = pd.read_csv(\n",
    "    \"output/polling_places_analysis_clean.csv\", dtype={\"fips\": str, \"year\": str}\n",
    ")"
   ]
  },
  {
   "cell_type": "code",
   "execution_count": 7,
   "id": "e580b4d4-4069-497f-af80-79c354845a6e",
   "metadata": {},
   "outputs": [],
   "source": [
    "src[\"state_name\"] = src[\"state\"].map(states)"
   ]
  },
  {
   "cell_type": "code",
   "execution_count": 8,
   "id": "374da665-395c-4ab2-aa79-0600ffd189f3",
   "metadata": {},
   "outputs": [
    {
     "data": {
      "text/plain": [
       "fips                     object\n",
       "place                    object\n",
       "state                    object\n",
       "total_reg_voters        float64\n",
       "mail_ballots_sent       float64\n",
       "poll_place_elect_day    float64\n",
       "poll_place_early        float64\n",
       "total_votes_cast        float64\n",
       "year                     object\n",
       "place_type               object\n",
       "place_clean              object\n",
       "state_name               object\n",
       "dtype: object"
      ]
     },
     "execution_count": 8,
     "metadata": {},
     "output_type": "execute_result"
    }
   ],
   "source": [
    "src.dtypes"
   ]
  },
  {
   "cell_type": "markdown",
   "id": "92c981a4-d94a-464f-b052-ac1079ee328f",
   "metadata": {},
   "source": [
    "---"
   ]
  },
  {
   "cell_type": "code",
   "execution_count": 9,
   "id": "b687c260-1755-4eeb-9956-1befb925efbb",
   "metadata": {},
   "outputs": [],
   "source": [
    "df_states = src[src[\"state_name\"].isin(state_filter)]"
   ]
  },
  {
   "cell_type": "markdown",
   "id": "abc9d04e-e982-44f3-b3b6-0f5f9f233afe",
   "metadata": {},
   "source": [
    "### How jurisdictions in our states don't have polling place data? "
   ]
  },
  {
   "cell_type": "code",
   "execution_count": 10,
   "id": "7fc33d6b-2521-4824-b7f2-166e5455c76b",
   "metadata": {},
   "outputs": [
    {
     "data": {
      "text/plain": [
       "180"
      ]
     },
     "execution_count": 10,
     "metadata": {},
     "output_type": "execute_result"
    }
   ],
   "source": [
    "len(\n",
    "    df_states[\n",
    "        (df_states[\"poll_place_elect_day\"].isnull()) & (df_states[\"year\"] == \"2012\")\n",
    "    ]\n",
    ")"
   ]
  },
  {
   "cell_type": "code",
   "execution_count": 11,
   "id": "5e97a78f-b76b-4b47-a650-79b21cab7b2e",
   "metadata": {},
   "outputs": [
    {
     "data": {
      "text/plain": [
       "37"
      ]
     },
     "execution_count": 11,
     "metadata": {},
     "output_type": "execute_result"
    }
   ],
   "source": [
    "len(\n",
    "    df_states[\n",
    "        (df_states[\"poll_place_elect_day\"].isnull()) & (df_states[\"year\"] == \"2016\")\n",
    "    ]\n",
    ")"
   ]
  },
  {
   "cell_type": "code",
   "execution_count": 12,
   "id": "bd208dd6-af9c-44c2-ad49-c791e7827ea5",
   "metadata": {},
   "outputs": [
    {
     "data": {
      "text/plain": [
       "0"
      ]
     },
     "execution_count": 12,
     "metadata": {},
     "output_type": "execute_result"
    }
   ],
   "source": [
    "len(\n",
    "    df_states[\n",
    "        (df_states[\"poll_place_elect_day\"].isnull()) & (df_states[\"year\"] == \"2020\")\n",
    "    ]\n",
    ")"
   ]
  },
  {
   "cell_type": "code",
   "execution_count": 13,
   "id": "2ca7ca77-0dbb-478b-a0cb-2640b27223e1",
   "metadata": {},
   "outputs": [],
   "source": [
    "df = df_states[~df_states[\"poll_place_elect_day\"].isnull()]"
   ]
  },
  {
   "cell_type": "code",
   "execution_count": 14,
   "id": "c37ca10f-f0ef-45b6-94ac-d88769eaf210",
   "metadata": {},
   "outputs": [
    {
     "data": {
      "text/plain": [
       "2020    608\n",
       "2016    571\n",
       "2012    428\n",
       "Name: year, dtype: int64"
      ]
     },
     "execution_count": 14,
     "metadata": {},
     "output_type": "execute_result"
    }
   ],
   "source": [
    "df.year.value_counts()"
   ]
  },
  {
   "cell_type": "markdown",
   "id": "cb1f4b9b-6b11-4f51-aa2c-9ee8a84daf6c",
   "metadata": {},
   "source": [
    "---"
   ]
  },
  {
   "cell_type": "code",
   "execution_count": 15,
   "id": "77168a96-d871-4397-80cb-a608bbac0729",
   "metadata": {},
   "outputs": [],
   "source": [
    "df_pivot = df.pivot_table(\n",
    "    index=[\"fips\", \"place_clean\", \"state_name\", \"place_type\"],\n",
    "    values=\"poll_place_elect_day\",\n",
    "    columns=\"year\",\n",
    ").reset_index()"
   ]
  },
  {
   "cell_type": "code",
   "execution_count": 16,
   "id": "24742ba8-fbfd-441d-b1d3-a1c3ab14e3e3",
   "metadata": {},
   "outputs": [],
   "source": [
    "df_pivot[\"change_16_20\"] = df_pivot[\"2020\"] - df_pivot[\"2016\"]"
   ]
  },
  {
   "cell_type": "code",
   "execution_count": 23,
   "id": "e1f8e0b0-00e1-47e3-8830-8b46d31b380a",
   "metadata": {},
   "outputs": [],
   "source": [
    "df_pivot[\"pct_change_16_20\"] = round(\n",
    "    df_pivot[\"change_16_20\"] / df_pivot[\"2016\"] * 100, 2\n",
    ")"
   ]
  },
  {
   "cell_type": "code",
   "execution_count": 24,
   "id": "4099d3c2-471b-4029-b2e9-cdb6fcfe1b5e",
   "metadata": {},
   "outputs": [
    {
     "data": {
      "text/plain": [
       "-2115.0"
      ]
     },
     "execution_count": 24,
     "metadata": {},
     "output_type": "execute_result"
    }
   ],
   "source": [
    "df_pivot.change_16_20.sum()"
   ]
  },
  {
   "cell_type": "code",
   "execution_count": 25,
   "id": "5673213d-975a-4617-aa1b-6341372b3360",
   "metadata": {},
   "outputs": [
    {
     "data": {
      "text/plain": [
       "16381.0"
      ]
     },
     "execution_count": 25,
     "metadata": {},
     "output_type": "execute_result"
    }
   ],
   "source": [
    "df_pivot[\"2016\"].sum()"
   ]
  },
  {
   "cell_type": "code",
   "execution_count": 26,
   "id": "dcb28555-6132-4494-a15c-ddb9cb5ff66a",
   "metadata": {},
   "outputs": [
    {
     "data": {
      "text/plain": [
       "14643.0"
      ]
     },
     "execution_count": 26,
     "metadata": {},
     "output_type": "execute_result"
    }
   ],
   "source": [
    "df_pivot[\"2020\"].sum()"
   ]
  },
  {
   "cell_type": "code",
   "execution_count": 27,
   "id": "64e1fc05-de14-49c1-8a42-44712744e07c",
   "metadata": {},
   "outputs": [
    {
     "data": {
      "text/html": [
       "<div>\n",
       "<style scoped>\n",
       "    .dataframe tbody tr th:only-of-type {\n",
       "        vertical-align: middle;\n",
       "    }\n",
       "\n",
       "    .dataframe tbody tr th {\n",
       "        vertical-align: top;\n",
       "    }\n",
       "\n",
       "    .dataframe thead th {\n",
       "        text-align: right;\n",
       "    }\n",
       "</style>\n",
       "<table border=\"1\" class=\"dataframe\">\n",
       "  <thead>\n",
       "    <tr style=\"text-align: right;\">\n",
       "      <th>year</th>\n",
       "      <th>fips</th>\n",
       "      <th>place_clean</th>\n",
       "      <th>state_name</th>\n",
       "      <th>place_type</th>\n",
       "      <th>2012</th>\n",
       "      <th>2016</th>\n",
       "      <th>2020</th>\n",
       "      <th>change_16_20</th>\n",
       "      <th>pct_change_16_20</th>\n",
       "    </tr>\n",
       "  </thead>\n",
       "  <tbody>\n",
       "    <tr>\n",
       "      <th>0</th>\n",
       "      <td>0100100000</td>\n",
       "      <td>Autauga</td>\n",
       "      <td>Alabama</td>\n",
       "      <td>County</td>\n",
       "      <td>17.0</td>\n",
       "      <td>17.0</td>\n",
       "      <td>18.0</td>\n",
       "      <td>1.0</td>\n",
       "      <td>5.88</td>\n",
       "    </tr>\n",
       "    <tr>\n",
       "      <th>1</th>\n",
       "      <td>0100300000</td>\n",
       "      <td>Baldwin</td>\n",
       "      <td>Alabama</td>\n",
       "      <td>County</td>\n",
       "      <td>46.0</td>\n",
       "      <td>87.0</td>\n",
       "      <td>50.0</td>\n",
       "      <td>-37.0</td>\n",
       "      <td>-42.53</td>\n",
       "    </tr>\n",
       "    <tr>\n",
       "      <th>2</th>\n",
       "      <td>0100500000</td>\n",
       "      <td>Barbour</td>\n",
       "      <td>Alabama</td>\n",
       "      <td>County</td>\n",
       "      <td>17.0</td>\n",
       "      <td>21.0</td>\n",
       "      <td>16.0</td>\n",
       "      <td>-5.0</td>\n",
       "      <td>-23.81</td>\n",
       "    </tr>\n",
       "    <tr>\n",
       "      <th>3</th>\n",
       "      <td>0100700000</td>\n",
       "      <td>Bibb</td>\n",
       "      <td>Alabama</td>\n",
       "      <td>County</td>\n",
       "      <td>8.0</td>\n",
       "      <td>16.0</td>\n",
       "      <td>8.0</td>\n",
       "      <td>-8.0</td>\n",
       "      <td>-50.00</td>\n",
       "    </tr>\n",
       "    <tr>\n",
       "      <th>4</th>\n",
       "      <td>0100900000</td>\n",
       "      <td>Blount</td>\n",
       "      <td>Alabama</td>\n",
       "      <td>County</td>\n",
       "      <td>24.0</td>\n",
       "      <td>28.0</td>\n",
       "      <td>24.0</td>\n",
       "      <td>-4.0</td>\n",
       "      <td>-14.29</td>\n",
       "    </tr>\n",
       "  </tbody>\n",
       "</table>\n",
       "</div>"
      ],
      "text/plain": [
       "year        fips place_clean state_name place_type  2012  2016  2020  \\\n",
       "0     0100100000     Autauga    Alabama     County  17.0  17.0  18.0   \n",
       "1     0100300000     Baldwin    Alabama     County  46.0  87.0  50.0   \n",
       "2     0100500000     Barbour    Alabama     County  17.0  21.0  16.0   \n",
       "3     0100700000        Bibb    Alabama     County   8.0  16.0   8.0   \n",
       "4     0100900000      Blount    Alabama     County  24.0  28.0  24.0   \n",
       "\n",
       "year  change_16_20  pct_change_16_20  \n",
       "0              1.0              5.88  \n",
       "1            -37.0            -42.53  \n",
       "2             -5.0            -23.81  \n",
       "3             -8.0            -50.00  \n",
       "4             -4.0            -14.29  "
      ]
     },
     "execution_count": 27,
     "metadata": {},
     "output_type": "execute_result"
    }
   ],
   "source": [
    "df_pivot.head()"
   ]
  },
  {
   "cell_type": "code",
   "execution_count": 28,
   "id": "e8934965-1649-4917-9b60-9269e9319339",
   "metadata": {},
   "outputs": [],
   "source": [
    "df_pivot.to_csv(\"output/polling_places_pivot.csv\", index=False)"
   ]
  }
 ],
 "metadata": {
  "kernelspec": {
   "display_name": "Python 3",
   "language": "python",
   "name": "python3"
  },
  "language_info": {
   "codemirror_mode": {
    "name": "ipython",
    "version": 3
   },
   "file_extension": ".py",
   "mimetype": "text/x-python",
   "name": "python",
   "nbconvert_exporter": "python",
   "pygments_lexer": "ipython3",
   "version": "3.8.8"
  }
 },
 "nbformat": 4,
 "nbformat_minor": 5
}
