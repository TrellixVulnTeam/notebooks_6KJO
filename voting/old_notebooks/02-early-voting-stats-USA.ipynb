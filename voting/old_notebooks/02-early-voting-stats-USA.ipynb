{
 "cells": [
  {
   "cell_type": "markdown",
   "metadata": {},
   "source": [
    "# Early voting statistics in battleground states"
   ]
  },
  {
   "cell_type": "code",
   "execution_count": 1,
   "metadata": {},
   "outputs": [],
   "source": [
    "import tabula \n",
    "import json\n",
    "import os\n",
    "import glob\n",
    "import numpy as np\n",
    "import pandas as pd\n",
    "import geopandas as gpd\n",
    "from pandas.io.json import json_normalize\n",
    "import bs4 as BeautifulSoup\n",
    "from altair_saver import save\n",
    "from altair import datum\n",
    "import altair as alt\n",
    "import altair_latimes as lat\n",
    "import re\n",
    "import urllib\n",
    "from bs4 import BeautifulSoup\n",
    "alt.themes.register(\"latimes\", lat.theme)\n",
    "alt.themes.enable(\"latimes\")\n",
    "pd.options.display.max_columns = 50\n",
    "pd.options.display.max_rows = 34000\n",
    "pd.set_option('display.max_colwidth', None)"
   ]
  },
  {
   "cell_type": "markdown",
   "metadata": {},
   "source": [
    "### North Carolina"
   ]
  },
  {
   "cell_type": "code",
   "execution_count": 2,
   "metadata": {},
   "outputs": [],
   "source": [
    "url = 'https://electproject.github.io/Early-Vote-2020G/NC.html'\n",
    "from selenium import webdriver\n",
    "options = webdriver.ChromeOptions()\n",
    "options.add_argument('headless')\n",
    "driver = webdriver.Chrome('/Users/mhustiles/Desktop/chromedriver', options=options)\n",
    "driver.get(\"https://electproject.github.io/Early-Vote-2020G/NC.html\")\n",
    "html_table = driver.page_source\n",
    "soup = BeautifulSoup(html_table)\n",
    "json_data = soup.find_all(\"script\", type='application/json')[6].string"
   ]
  },
  {
   "cell_type": "code",
   "execution_count": 3,
   "metadata": {},
   "outputs": [],
   "source": [
    "nc_counties = pd.DataFrame(json.loads(json_data)['x']['data']).transpose()"
   ]
  },
  {
   "cell_type": "code",
   "execution_count": 4,
   "metadata": {},
   "outputs": [],
   "source": [
    "nc_counties = nc_counties.rename(columns={0:'county', 1:'mail_returned', 2:'mail_rejected', 3:'rejected_pct'}).fillna('0')"
   ]
  },
  {
   "cell_type": "code",
   "execution_count": 5,
   "metadata": {},
   "outputs": [],
   "source": [
    "nc_counties['rejected_pct'] = nc_counties['rejected_pct']*100"
   ]
  },
  {
   "cell_type": "code",
   "execution_count": 6,
   "metadata": {},
   "outputs": [],
   "source": [
    "nc_counties['state'] = 'North Carolina'\n",
    "nc_counties['fips'] = '37'"
   ]
  },
  {
   "cell_type": "code",
   "execution_count": 7,
   "metadata": {},
   "outputs": [],
   "source": [
    "nc_counties[['mail_returned', 'mail_rejected', 'rejected_pct']] = nc_counties[['mail_returned', 'mail_rejected', 'rejected_pct']].astype(float)"
   ]
  },
  {
   "cell_type": "code",
   "execution_count": 8,
   "metadata": {},
   "outputs": [],
   "source": [
    "nc_counties.sort_values('rejected_pct', \\\n",
    "                        ascending=False).to_csv('output/rejected/nc_counties.csv', index=False)"
   ]
  },
  {
   "cell_type": "code",
   "execution_count": 9,
   "metadata": {},
   "outputs": [],
   "source": [
    "df_nc = pd.read_html(url)"
   ]
  },
  {
   "cell_type": "markdown",
   "metadata": {},
   "source": [
    "#### Summary tables for mail ballots, by race and party"
   ]
  },
  {
   "cell_type": "code",
   "execution_count": 10,
   "metadata": {},
   "outputs": [
    {
     "data": {
      "text/html": [
       "<div>\n",
       "<style scoped>\n",
       "    .dataframe tbody tr th:only-of-type {\n",
       "        vertical-align: middle;\n",
       "    }\n",
       "\n",
       "    .dataframe tbody tr th {\n",
       "        vertical-align: top;\n",
       "    }\n",
       "\n",
       "    .dataframe thead th {\n",
       "        text-align: right;\n",
       "    }\n",
       "</style>\n",
       "<table border=\"1\" class=\"dataframe\">\n",
       "  <thead>\n",
       "    <tr style=\"text-align: right;\">\n",
       "      <th></th>\n",
       "      <th>Gender</th>\n",
       "      <th>Returned Ballots</th>\n",
       "      <th>electorate_share</th>\n",
       "      <th>Requested Ballots</th>\n",
       "      <th>Return Rate</th>\n",
       "    </tr>\n",
       "  </thead>\n",
       "  <tbody>\n",
       "    <tr>\n",
       "      <th>0</th>\n",
       "      <td>Female</td>\n",
       "      <td>515441</td>\n",
       "      <td>52.7</td>\n",
       "      <td>776253</td>\n",
       "      <td>66.4</td>\n",
       "    </tr>\n",
       "    <tr>\n",
       "      <th>1</th>\n",
       "      <td>Male</td>\n",
       "      <td>383866</td>\n",
       "      <td>39.3</td>\n",
       "      <td>560977</td>\n",
       "      <td>68.4</td>\n",
       "    </tr>\n",
       "    <tr>\n",
       "      <th>2</th>\n",
       "      <td>Unknown</td>\n",
       "      <td>77879</td>\n",
       "      <td>8.0</td>\n",
       "      <td>118784</td>\n",
       "      <td>65.6</td>\n",
       "    </tr>\n",
       "    <tr>\n",
       "      <th>3</th>\n",
       "      <td>TOTAL</td>\n",
       "      <td>977186</td>\n",
       "      <td>100.0</td>\n",
       "      <td>1456014</td>\n",
       "      <td>67.1</td>\n",
       "    </tr>\n",
       "  </tbody>\n",
       "</table>\n",
       "</div>"
      ],
      "text/plain": [
       "    Gender  Returned Ballots  electorate_share  Requested Ballots  Return Rate\n",
       "0   Female            515441              52.7             776253         66.4\n",
       "1     Male            383866              39.3             560977         68.4\n",
       "2  Unknown             77879               8.0             118784         65.6\n",
       "3    TOTAL            977186             100.0            1456014         67.1"
      ]
     },
     "execution_count": 10,
     "metadata": {},
     "output_type": "execute_result"
    }
   ],
   "source": [
    "nc_rejected_party = df_nc[11]\n",
    "nc_rejected_party.rename(columns={ 'Party':'party','Rejected Ballots':'rejected','Freq. Distribution':'electorate_share','All Returned Ballots':'ballots', 'Rejection Rate':'reject_rate' })"
   ]
  },
  {
   "cell_type": "code",
   "execution_count": 11,
   "metadata": {},
   "outputs": [
    {
     "data": {
      "text/html": [
       "<div>\n",
       "<style scoped>\n",
       "    .dataframe tbody tr th:only-of-type {\n",
       "        vertical-align: middle;\n",
       "    }\n",
       "\n",
       "    .dataframe tbody tr th {\n",
       "        vertical-align: top;\n",
       "    }\n",
       "\n",
       "    .dataframe thead th {\n",
       "        text-align: right;\n",
       "    }\n",
       "</style>\n",
       "<table border=\"1\" class=\"dataframe\">\n",
       "  <thead>\n",
       "    <tr style=\"text-align: right;\">\n",
       "      <th></th>\n",
       "      <th>Party</th>\n",
       "      <th>rejected</th>\n",
       "      <th>electorate_share</th>\n",
       "      <th>ballots</th>\n",
       "      <th>reject_rate</th>\n",
       "    </tr>\n",
       "  </thead>\n",
       "  <tbody>\n",
       "    <tr>\n",
       "      <th>0</th>\n",
       "      <td>Democrats</td>\n",
       "      <td>4125</td>\n",
       "      <td>51.9</td>\n",
       "      <td>442375</td>\n",
       "      <td>0.9</td>\n",
       "    </tr>\n",
       "    <tr>\n",
       "      <th>1</th>\n",
       "      <td>Republicans</td>\n",
       "      <td>1390</td>\n",
       "      <td>17.5</td>\n",
       "      <td>202559</td>\n",
       "      <td>0.7</td>\n",
       "    </tr>\n",
       "    <tr>\n",
       "      <th>2</th>\n",
       "      <td>Minor</td>\n",
       "      <td>40</td>\n",
       "      <td>0.5</td>\n",
       "      <td>5326</td>\n",
       "      <td>0.8</td>\n",
       "    </tr>\n",
       "    <tr>\n",
       "      <th>3</th>\n",
       "      <td>No Party Affiliation</td>\n",
       "      <td>2400</td>\n",
       "      <td>30.2</td>\n",
       "      <td>334881</td>\n",
       "      <td>0.7</td>\n",
       "    </tr>\n",
       "    <tr>\n",
       "      <th>4</th>\n",
       "      <td>TOTAL</td>\n",
       "      <td>7955</td>\n",
       "      <td>100.0</td>\n",
       "      <td>985141</td>\n",
       "      <td>0.8</td>\n",
       "    </tr>\n",
       "  </tbody>\n",
       "</table>\n",
       "</div>"
      ],
      "text/plain": [
       "                  Party  rejected  electorate_share  ballots  reject_rate\n",
       "0             Democrats      4125              51.9   442375          0.9\n",
       "1           Republicans      1390              17.5   202559          0.7\n",
       "2                 Minor        40               0.5     5326          0.8\n",
       "3  No Party Affiliation      2400              30.2   334881          0.7\n",
       "4                 TOTAL      7955             100.0   985141          0.8"
      ]
     },
     "execution_count": 11,
     "metadata": {},
     "output_type": "execute_result"
    }
   ],
   "source": [
    "nc_rejected_race = df_nc[12]\n",
    "nc_rejected_race.rename(columns={ 'Race/Ethnicity':'race/ethnicity','Rejected Ballots':'rejected','Freq. Distribution':'electorate_share','All Returned Ballots':'ballots', 'Rejection Rate':'reject_rate' })"
   ]
  },
  {
   "cell_type": "markdown",
   "metadata": {},
   "source": [
    "---"
   ]
  },
  {
   "cell_type": "markdown",
   "metadata": {},
   "source": [
    "## Pennsylvania"
   ]
  },
  {
   "cell_type": "markdown",
   "metadata": {},
   "source": [
    "#### Read data"
   ]
  },
  {
   "cell_type": "code",
   "execution_count": 12,
   "metadata": {},
   "outputs": [],
   "source": [
    "df_pa = pd.read_html('https://electproject.github.io/Early-Vote-2020G/PA.html')"
   ]
  },
  {
   "cell_type": "markdown",
   "metadata": {},
   "source": [
    "#### Summary table for all mail ballots"
   ]
  },
  {
   "cell_type": "code",
   "execution_count": 13,
   "metadata": {},
   "outputs": [
    {
     "data": {
      "text/html": [
       "<div>\n",
       "<style scoped>\n",
       "    .dataframe tbody tr th:only-of-type {\n",
       "        vertical-align: middle;\n",
       "    }\n",
       "\n",
       "    .dataframe tbody tr th {\n",
       "        vertical-align: top;\n",
       "    }\n",
       "\n",
       "    .dataframe thead th {\n",
       "        text-align: right;\n",
       "    }\n",
       "</style>\n",
       "<table border=\"1\" class=\"dataframe\">\n",
       "  <thead>\n",
       "    <tr style=\"text-align: right;\">\n",
       "      <th></th>\n",
       "      <th>Party</th>\n",
       "      <th>Returned Ballots</th>\n",
       "      <th>Freq. Distribution</th>\n",
       "      <th>Requested Ballots</th>\n",
       "      <th>Return Rate</th>\n",
       "    </tr>\n",
       "  </thead>\n",
       "  <tbody>\n",
       "    <tr>\n",
       "      <th>0</th>\n",
       "      <td>Democrats</td>\n",
       "      <td>1694719</td>\n",
       "      <td>64.8</td>\n",
       "      <td>1945499</td>\n",
       "      <td>87.1</td>\n",
       "    </tr>\n",
       "    <tr>\n",
       "      <th>1</th>\n",
       "      <td>Republicans</td>\n",
       "      <td>620282</td>\n",
       "      <td>23.7</td>\n",
       "      <td>787752</td>\n",
       "      <td>78.7</td>\n",
       "    </tr>\n",
       "    <tr>\n",
       "      <th>2</th>\n",
       "      <td>Minor</td>\n",
       "      <td>19873</td>\n",
       "      <td>0.8</td>\n",
       "      <td>25496</td>\n",
       "      <td>77.9</td>\n",
       "    </tr>\n",
       "    <tr>\n",
       "      <th>3</th>\n",
       "      <td>No Party Affiliation</td>\n",
       "      <td>280171</td>\n",
       "      <td>10.7</td>\n",
       "      <td>337321</td>\n",
       "      <td>83.1</td>\n",
       "    </tr>\n",
       "    <tr>\n",
       "      <th>4</th>\n",
       "      <td>TOTAL</td>\n",
       "      <td>2615045</td>\n",
       "      <td>100.0</td>\n",
       "      <td>3096068</td>\n",
       "      <td>84.5</td>\n",
       "    </tr>\n",
       "  </tbody>\n",
       "</table>\n",
       "</div>"
      ],
      "text/plain": [
       "                  Party  Returned Ballots  Freq. Distribution  \\\n",
       "0             Democrats           1694719                64.8   \n",
       "1           Republicans            620282                23.7   \n",
       "2                 Minor             19873                 0.8   \n",
       "3  No Party Affiliation            280171                10.7   \n",
       "4                 TOTAL           2615045               100.0   \n",
       "\n",
       "   Requested Ballots  Return Rate  \n",
       "0            1945499         87.1  \n",
       "1             787752         78.7  \n",
       "2              25496         77.9  \n",
       "3             337321         83.1  \n",
       "4            3096068         84.5  "
      ]
     },
     "execution_count": 13,
     "metadata": {},
     "output_type": "execute_result"
    }
   ],
   "source": [
    "df_pa[0]"
   ]
  },
  {
   "cell_type": "markdown",
   "metadata": {},
   "source": [
    "#### Get detailed data for counties"
   ]
  },
  {
   "cell_type": "code",
   "execution_count": 14,
   "metadata": {},
   "outputs": [],
   "source": [
    "url = 'https://electproject.github.io/Early-Vote-2020G/PA.html'\n",
    "from selenium import webdriver\n",
    "options = webdriver.ChromeOptions()\n",
    "options.add_argument('headless')\n",
    "driver = webdriver.Chrome('/Users/mhustiles/Desktop/chromedriver', options=options)\n",
    "driver.get(\"https://electproject.github.io/Early-Vote-2020G/PA.html\")\n",
    "html_table = driver.page_source\n",
    "soup = BeautifulSoup(html_table)\n",
    "json_data = soup.find_all(\"script\", type='application/json')[3].string"
   ]
  },
  {
   "cell_type": "code",
   "execution_count": 15,
   "metadata": {},
   "outputs": [],
   "source": [
    "pa_counties = pd.DataFrame(json.loads(json_data)['x']['data']).transpose()"
   ]
  },
  {
   "cell_type": "code",
   "execution_count": 16,
   "metadata": {},
   "outputs": [],
   "source": [
    "pa_counties = pa_counties.rename(columns={0:'county', 1:'mail_returned', 2:'mail_rejected', 3:'rejected_pct'}).fillna('0')"
   ]
  },
  {
   "cell_type": "code",
   "execution_count": 17,
   "metadata": {},
   "outputs": [],
   "source": [
    "pa_counties['rejected_pct'] = pa_counties['rejected_pct']*100"
   ]
  },
  {
   "cell_type": "code",
   "execution_count": 18,
   "metadata": {},
   "outputs": [],
   "source": [
    "pa_counties['state'] = 'Pennsylvania'\n",
    "pa_counties['fips'] = '42'"
   ]
  },
  {
   "cell_type": "code",
   "execution_count": 19,
   "metadata": {},
   "outputs": [],
   "source": [
    "pa_counties[['mail_returned', 'mail_rejected', 'rejected_pct']] = pa_counties[['mail_returned', 'mail_rejected', 'rejected_pct']].astype(float)"
   ]
  },
  {
   "cell_type": "code",
   "execution_count": 20,
   "metadata": {},
   "outputs": [],
   "source": [
    "pa_counties.sort_values('rejected_pct', ascending=False).to_csv('output/rejected/pa_counties.csv', index=False)"
   ]
  },
  {
   "cell_type": "markdown",
   "metadata": {},
   "source": [
    "---"
   ]
  },
  {
   "cell_type": "markdown",
   "metadata": {},
   "source": [
    "### Iowa"
   ]
  },
  {
   "cell_type": "code",
   "execution_count": 21,
   "metadata": {},
   "outputs": [],
   "source": [
    "ia_url = 'https://electproject.github.io/Early-Vote-2020G/IA.html'\n",
    "from selenium import webdriver\n",
    "options = webdriver.ChromeOptions()\n",
    "options.add_argument('headless')\n",
    "driver = webdriver.Chrome('/Users/mhustiles/Desktop/chromedriver', options=options)\n",
    "driver.get(ia_url)\n",
    "html_table = driver.page_source\n",
    "soup = BeautifulSoup(html_table)\n",
    "json_data = soup.find_all(\"script\", type='application/json')[3].string"
   ]
  },
  {
   "cell_type": "markdown",
   "metadata": {},
   "source": [
    "#### Summary table for all mail ballots"
   ]
  },
  {
   "cell_type": "code",
   "execution_count": 22,
   "metadata": {},
   "outputs": [],
   "source": [
    "df_ia = pd.read_html(ia_url)"
   ]
  },
  {
   "cell_type": "code",
   "execution_count": 23,
   "metadata": {},
   "outputs": [
    {
     "data": {
      "text/html": [
       "<div>\n",
       "<style scoped>\n",
       "    .dataframe tbody tr th:only-of-type {\n",
       "        vertical-align: middle;\n",
       "    }\n",
       "\n",
       "    .dataframe tbody tr th {\n",
       "        vertical-align: top;\n",
       "    }\n",
       "\n",
       "    .dataframe thead th {\n",
       "        text-align: right;\n",
       "    }\n",
       "</style>\n",
       "<table border=\"1\" class=\"dataframe\">\n",
       "  <thead>\n",
       "    <tr style=\"text-align: right;\">\n",
       "      <th></th>\n",
       "      <th>Party</th>\n",
       "      <th>Returned Ballots</th>\n",
       "      <th>Freq. Distribution</th>\n",
       "      <th>Requested Ballots</th>\n",
       "      <th>Return Rate</th>\n",
       "    </tr>\n",
       "  </thead>\n",
       "  <tbody>\n",
       "    <tr>\n",
       "      <th>0</th>\n",
       "      <td>Democrats</td>\n",
       "      <td>449290</td>\n",
       "      <td>45.1</td>\n",
       "      <td>462222</td>\n",
       "      <td>97.2</td>\n",
       "    </tr>\n",
       "    <tr>\n",
       "      <th>1</th>\n",
       "      <td>Republicans</td>\n",
       "      <td>331802</td>\n",
       "      <td>33.3</td>\n",
       "      <td>341866</td>\n",
       "      <td>97.1</td>\n",
       "    </tr>\n",
       "    <tr>\n",
       "      <th>2</th>\n",
       "      <td>Minor</td>\n",
       "      <td>4889</td>\n",
       "      <td>0.5</td>\n",
       "      <td>5186</td>\n",
       "      <td>94.3</td>\n",
       "    </tr>\n",
       "    <tr>\n",
       "      <th>3</th>\n",
       "      <td>No Party Affiliation</td>\n",
       "      <td>211000</td>\n",
       "      <td>21.2</td>\n",
       "      <td>221085</td>\n",
       "      <td>95.4</td>\n",
       "    </tr>\n",
       "    <tr>\n",
       "      <th>4</th>\n",
       "      <td>TOTAL</td>\n",
       "      <td>996981</td>\n",
       "      <td>100.0</td>\n",
       "      <td>1030359</td>\n",
       "      <td>96.8</td>\n",
       "    </tr>\n",
       "  </tbody>\n",
       "</table>\n",
       "</div>"
      ],
      "text/plain": [
       "                  Party  Returned Ballots  Freq. Distribution  \\\n",
       "0             Democrats            449290                45.1   \n",
       "1           Republicans            331802                33.3   \n",
       "2                 Minor              4889                 0.5   \n",
       "3  No Party Affiliation            211000                21.2   \n",
       "4                 TOTAL            996981               100.0   \n",
       "\n",
       "   Requested Ballots  Return Rate  \n",
       "0             462222         97.2  \n",
       "1             341866         97.1  \n",
       "2               5186         94.3  \n",
       "3             221085         95.4  \n",
       "4            1030359         96.8  "
      ]
     },
     "execution_count": 23,
     "metadata": {},
     "output_type": "execute_result"
    }
   ],
   "source": [
    "df_ia[0]"
   ]
  },
  {
   "cell_type": "markdown",
   "metadata": {},
   "source": [
    "#### Get counties"
   ]
  },
  {
   "cell_type": "code",
   "execution_count": 24,
   "metadata": {},
   "outputs": [],
   "source": [
    "ia_counties = pd.DataFrame(json.loads(json_data)['x']['data']).transpose()"
   ]
  },
  {
   "cell_type": "code",
   "execution_count": 25,
   "metadata": {},
   "outputs": [],
   "source": [
    "ia_counties = ia_counties.rename(columns={0:'county', 1:'mail_returned', 2:'mail_rejected', 3:'rejected_pct'}).fillna('0')"
   ]
  },
  {
   "cell_type": "code",
   "execution_count": 26,
   "metadata": {},
   "outputs": [],
   "source": [
    "ia_counties['rejected_pct'] = ia_counties['rejected_pct']*100"
   ]
  },
  {
   "cell_type": "code",
   "execution_count": 27,
   "metadata": {},
   "outputs": [],
   "source": [
    "ia_counties['state'] = 'Iowa'\n",
    "ia_counties['fips'] = '19'"
   ]
  },
  {
   "cell_type": "code",
   "execution_count": 28,
   "metadata": {},
   "outputs": [],
   "source": [
    "ia_counties[['mail_returned', 'mail_rejected', 'rejected_pct']] = ia_counties[['mail_returned', 'mail_rejected', 'rejected_pct']].astype(float)"
   ]
  },
  {
   "cell_type": "code",
   "execution_count": 29,
   "metadata": {},
   "outputs": [],
   "source": [
    "ia_counties.sort_values('rejected_pct', ascending=False).to_csv('output/rejected/ia_counties.csv', index=False)"
   ]
  },
  {
   "cell_type": "code",
   "execution_count": 30,
   "metadata": {},
   "outputs": [
    {
     "data": {
      "text/html": [
       "<div>\n",
       "<style scoped>\n",
       "    .dataframe tbody tr th:only-of-type {\n",
       "        vertical-align: middle;\n",
       "    }\n",
       "\n",
       "    .dataframe tbody tr th {\n",
       "        vertical-align: top;\n",
       "    }\n",
       "\n",
       "    .dataframe thead th {\n",
       "        text-align: right;\n",
       "    }\n",
       "</style>\n",
       "<table border=\"1\" class=\"dataframe\">\n",
       "  <thead>\n",
       "    <tr style=\"text-align: right;\">\n",
       "      <th></th>\n",
       "      <th>county</th>\n",
       "      <th>mail_returned</th>\n",
       "      <th>mail_rejected</th>\n",
       "      <th>rejected_pct</th>\n",
       "      <th>state</th>\n",
       "      <th>fips</th>\n",
       "    </tr>\n",
       "  </thead>\n",
       "  <tbody>\n",
       "    <tr>\n",
       "      <th>37</th>\n",
       "      <td>Grundy County</td>\n",
       "      <td>3408.0</td>\n",
       "      <td>49.0</td>\n",
       "      <td>1.437793</td>\n",
       "      <td>Iowa</td>\n",
       "      <td>19</td>\n",
       "    </tr>\n",
       "    <tr>\n",
       "      <th>41</th>\n",
       "      <td>Hardin County</td>\n",
       "      <td>5019.0</td>\n",
       "      <td>65.0</td>\n",
       "      <td>1.295079</td>\n",
       "      <td>Iowa</td>\n",
       "      <td>19</td>\n",
       "    </tr>\n",
       "    <tr>\n",
       "      <th>89</th>\n",
       "      <td>Wapello County</td>\n",
       "      <td>8696.0</td>\n",
       "      <td>97.0</td>\n",
       "      <td>1.115455</td>\n",
       "      <td>Iowa</td>\n",
       "      <td>19</td>\n",
       "    </tr>\n",
       "    <tr>\n",
       "      <th>40</th>\n",
       "      <td>Hancock County</td>\n",
       "      <td>2979.0</td>\n",
       "      <td>29.0</td>\n",
       "      <td>0.973481</td>\n",
       "      <td>Iowa</td>\n",
       "      <td>19</td>\n",
       "    </tr>\n",
       "    <tr>\n",
       "      <th>9</th>\n",
       "      <td>Buchanan County</td>\n",
       "      <td>5700.0</td>\n",
       "      <td>48.0</td>\n",
       "      <td>0.842105</td>\n",
       "      <td>Iowa</td>\n",
       "      <td>19</td>\n",
       "    </tr>\n",
       "  </tbody>\n",
       "</table>\n",
       "</div>"
      ],
      "text/plain": [
       "             county  mail_returned  mail_rejected  rejected_pct state fips\n",
       "37    Grundy County         3408.0           49.0      1.437793  Iowa   19\n",
       "41    Hardin County         5019.0           65.0      1.295079  Iowa   19\n",
       "89   Wapello County         8696.0           97.0      1.115455  Iowa   19\n",
       "40   Hancock County         2979.0           29.0      0.973481  Iowa   19\n",
       "9   Buchanan County         5700.0           48.0      0.842105  Iowa   19"
      ]
     },
     "execution_count": 30,
     "metadata": {},
     "output_type": "execute_result"
    }
   ],
   "source": [
    "ia_counties.sort_values('rejected_pct', ascending=False).head()"
   ]
  },
  {
   "cell_type": "markdown",
   "metadata": {},
   "source": [
    "---"
   ]
  },
  {
   "cell_type": "markdown",
   "metadata": {},
   "source": [
    "### Michigan"
   ]
  },
  {
   "cell_type": "code",
   "execution_count": 31,
   "metadata": {},
   "outputs": [],
   "source": [
    "url = 'https://electproject.github.io/Early-Vote-2020G/MI.html'\n",
    "from selenium import webdriver\n",
    "options = webdriver.ChromeOptions()\n",
    "options.add_argument('headless')\n",
    "driver = webdriver.Chrome('/Users/mhustiles/Desktop/chromedriver', options=options)\n",
    "driver.get(\"https://electproject.github.io/Early-Vote-2020G/MI.html\")\n",
    "html_table = driver.page_source\n",
    "soup = BeautifulSoup(html_table)\n",
    "json_data = soup.find_all(\"script\", type='application/json')[3].string"
   ]
  },
  {
   "cell_type": "code",
   "execution_count": 32,
   "metadata": {},
   "outputs": [],
   "source": [
    "mi_counties = pd.DataFrame(json.loads(json_data)['x']['data']).transpose()"
   ]
  },
  {
   "cell_type": "code",
   "execution_count": 33,
   "metadata": {},
   "outputs": [],
   "source": [
    "mi_counties = mi_counties.rename(columns={0:'county', 1:'mail_rejected', 2:'mail_returned', 3:'rejected_pct'}).fillna('0')"
   ]
  },
  {
   "cell_type": "code",
   "execution_count": 34,
   "metadata": {},
   "outputs": [],
   "source": [
    "mi_counties['rejected_pct'] = mi_counties['rejected_pct']*100"
   ]
  },
  {
   "cell_type": "code",
   "execution_count": 35,
   "metadata": {},
   "outputs": [],
   "source": [
    "mi_counties['state'] = 'Michigan'\n",
    "mi_counties['fips'] = '26'"
   ]
  },
  {
   "cell_type": "code",
   "execution_count": 36,
   "metadata": {},
   "outputs": [],
   "source": [
    "mi_counties[['mail_returned', 'mail_rejected', 'rejected_pct']] = mi_counties[['mail_returned', 'mail_rejected', 'rejected_pct']].astype(float)"
   ]
  },
  {
   "cell_type": "code",
   "execution_count": 37,
   "metadata": {},
   "outputs": [],
   "source": [
    "mi_counties.sort_values('rejected_pct', ascending=False).to_csv('output/rejected/mi_counties.csv', index=False)"
   ]
  },
  {
   "cell_type": "code",
   "execution_count": 38,
   "metadata": {},
   "outputs": [
    {
     "data": {
      "text/html": [
       "<div>\n",
       "<style scoped>\n",
       "    .dataframe tbody tr th:only-of-type {\n",
       "        vertical-align: middle;\n",
       "    }\n",
       "\n",
       "    .dataframe tbody tr th {\n",
       "        vertical-align: top;\n",
       "    }\n",
       "\n",
       "    .dataframe thead th {\n",
       "        text-align: right;\n",
       "    }\n",
       "</style>\n",
       "<table border=\"1\" class=\"dataframe\">\n",
       "  <thead>\n",
       "    <tr style=\"text-align: right;\">\n",
       "      <th></th>\n",
       "      <th>county</th>\n",
       "      <th>mail_rejected</th>\n",
       "      <th>mail_returned</th>\n",
       "      <th>rejected_pct</th>\n",
       "      <th>state</th>\n",
       "      <th>fips</th>\n",
       "    </tr>\n",
       "  </thead>\n",
       "  <tbody>\n",
       "    <tr>\n",
       "      <th>47</th>\n",
       "      <td>Luce</td>\n",
       "      <td>3.0</td>\n",
       "      <td>974.0</td>\n",
       "      <td>0.308008</td>\n",
       "      <td>Michigan</td>\n",
       "      <td>26</td>\n",
       "    </tr>\n",
       "    <tr>\n",
       "      <th>1</th>\n",
       "      <td>Alger</td>\n",
       "      <td>4.0</td>\n",
       "      <td>1938.0</td>\n",
       "      <td>0.206398</td>\n",
       "      <td>Michigan</td>\n",
       "      <td>26</td>\n",
       "    </tr>\n",
       "    <tr>\n",
       "      <th>34</th>\n",
       "      <td>Iosco</td>\n",
       "      <td>14.0</td>\n",
       "      <td>7086.0</td>\n",
       "      <td>0.197573</td>\n",
       "      <td>Michigan</td>\n",
       "      <td>26</td>\n",
       "    </tr>\n",
       "    <tr>\n",
       "      <th>59</th>\n",
       "      <td>Montmorency</td>\n",
       "      <td>4.0</td>\n",
       "      <td>2222.0</td>\n",
       "      <td>0.180018</td>\n",
       "      <td>Michigan</td>\n",
       "      <td>26</td>\n",
       "    </tr>\n",
       "    <tr>\n",
       "      <th>73</th>\n",
       "      <td>Sanilac</td>\n",
       "      <td>13.0</td>\n",
       "      <td>7505.0</td>\n",
       "      <td>0.173218</td>\n",
       "      <td>Michigan</td>\n",
       "      <td>26</td>\n",
       "    </tr>\n",
       "  </tbody>\n",
       "</table>\n",
       "</div>"
      ],
      "text/plain": [
       "         county  mail_rejected  mail_returned  rejected_pct     state fips\n",
       "47         Luce            3.0          974.0      0.308008  Michigan   26\n",
       "1         Alger            4.0         1938.0      0.206398  Michigan   26\n",
       "34        Iosco           14.0         7086.0      0.197573  Michigan   26\n",
       "59  Montmorency            4.0         2222.0      0.180018  Michigan   26\n",
       "73      Sanilac           13.0         7505.0      0.173218  Michigan   26"
      ]
     },
     "execution_count": 38,
     "metadata": {},
     "output_type": "execute_result"
    }
   ],
   "source": [
    "mi_counties.sort_values('rejected_pct', ascending=False).head()"
   ]
  },
  {
   "cell_type": "markdown",
   "metadata": {},
   "source": [
    "#### Michigan manual"
   ]
  },
  {
   "cell_type": "code",
   "execution_count": 39,
   "metadata": {},
   "outputs": [],
   "source": [
    "mi_manual = 1856"
   ]
  },
  {
   "cell_type": "markdown",
   "metadata": {},
   "source": [
    "---"
   ]
  },
  {
   "cell_type": "markdown",
   "metadata": {},
   "source": [
    "### Georgia"
   ]
  },
  {
   "cell_type": "code",
   "execution_count": 40,
   "metadata": {},
   "outputs": [],
   "source": [
    "url = 'https://electproject.github.io/Early-Vote-2020G/GA.html'\n",
    "from selenium import webdriver\n",
    "options = webdriver.ChromeOptions()\n",
    "options.add_argument('headless')\n",
    "driver = webdriver.Chrome('/Users/mhustiles/Desktop/chromedriver', options=options)\n",
    "driver.get(\"https://electproject.github.io/Early-Vote-2020G/GA.html\")\n",
    "html_table = driver.page_source\n",
    "soup = BeautifulSoup(html_table)\n",
    "json_data = soup.find_all(\"script\", type='application/json')[5].string"
   ]
  },
  {
   "cell_type": "code",
   "execution_count": 41,
   "metadata": {},
   "outputs": [],
   "source": [
    "ga_tables = pd.read_html('https://electproject.github.io/Early-Vote-2020G/GA.html')"
   ]
  },
  {
   "cell_type": "code",
   "execution_count": 42,
   "metadata": {},
   "outputs": [],
   "source": [
    "ga_rejection_race = ga_tables[10]"
   ]
  },
  {
   "cell_type": "code",
   "execution_count": 43,
   "metadata": {},
   "outputs": [
    {
     "data": {
      "text/html": [
       "<div>\n",
       "<style scoped>\n",
       "    .dataframe tbody tr th:only-of-type {\n",
       "        vertical-align: middle;\n",
       "    }\n",
       "\n",
       "    .dataframe tbody tr th {\n",
       "        vertical-align: top;\n",
       "    }\n",
       "\n",
       "    .dataframe thead th {\n",
       "        text-align: right;\n",
       "    }\n",
       "</style>\n",
       "<table border=\"1\" class=\"dataframe\">\n",
       "  <thead>\n",
       "    <tr style=\"text-align: right;\">\n",
       "      <th></th>\n",
       "      <th>Race/Ethnicity</th>\n",
       "      <th>Rejected Ballots</th>\n",
       "      <th>Freq. Distribution</th>\n",
       "      <th>Returned Ballots (All)</th>\n",
       "      <th>Rejection Rate</th>\n",
       "    </tr>\n",
       "  </thead>\n",
       "  <tbody>\n",
       "    <tr>\n",
       "      <th>0</th>\n",
       "      <td>Non-Hispanic White</td>\n",
       "      <td>649</td>\n",
       "      <td>33.1</td>\n",
       "      <td>699219</td>\n",
       "      <td>0.1</td>\n",
       "    </tr>\n",
       "    <tr>\n",
       "      <th>1</th>\n",
       "      <td>Non-Hispanic Black</td>\n",
       "      <td>908</td>\n",
       "      <td>46.3</td>\n",
       "      <td>400572</td>\n",
       "      <td>0.2</td>\n",
       "    </tr>\n",
       "    <tr>\n",
       "      <th>2</th>\n",
       "      <td>Hispanic</td>\n",
       "      <td>71</td>\n",
       "      <td>3.6</td>\n",
       "      <td>34747</td>\n",
       "      <td>0.2</td>\n",
       "    </tr>\n",
       "    <tr>\n",
       "      <th>3</th>\n",
       "      <td>Non-Hispanic Asian American</td>\n",
       "      <td>90</td>\n",
       "      <td>4.6</td>\n",
       "      <td>49375</td>\n",
       "      <td>0.2</td>\n",
       "    </tr>\n",
       "    <tr>\n",
       "      <th>4</th>\n",
       "      <td>Non-Hispanic Native American</td>\n",
       "      <td>3</td>\n",
       "      <td>0.2</td>\n",
       "      <td>1940</td>\n",
       "      <td>0.2</td>\n",
       "    </tr>\n",
       "    <tr>\n",
       "      <th>5</th>\n",
       "      <td>Other/Multiple/Unknown</td>\n",
       "      <td>239</td>\n",
       "      <td>12.2</td>\n",
       "      <td>134499</td>\n",
       "      <td>0.2</td>\n",
       "    </tr>\n",
       "    <tr>\n",
       "      <th>6</th>\n",
       "      <td>TOTAL</td>\n",
       "      <td>1960</td>\n",
       "      <td>100.0</td>\n",
       "      <td>1320352</td>\n",
       "      <td>0.1</td>\n",
       "    </tr>\n",
       "  </tbody>\n",
       "</table>\n",
       "</div>"
      ],
      "text/plain": [
       "                 Race/Ethnicity  Rejected Ballots  Freq. Distribution  \\\n",
       "0            Non-Hispanic White               649                33.1   \n",
       "1            Non-Hispanic Black               908                46.3   \n",
       "2                      Hispanic                71                 3.6   \n",
       "3   Non-Hispanic Asian American                90                 4.6   \n",
       "4  Non-Hispanic Native American                 3                 0.2   \n",
       "5        Other/Multiple/Unknown               239                12.2   \n",
       "6                         TOTAL              1960               100.0   \n",
       "\n",
       "   Returned Ballots (All)  Rejection Rate  \n",
       "0                  699219             0.1  \n",
       "1                  400572             0.2  \n",
       "2                   34747             0.2  \n",
       "3                   49375             0.2  \n",
       "4                    1940             0.2  \n",
       "5                  134499             0.2  \n",
       "6                 1320352             0.1  "
      ]
     },
     "execution_count": 43,
     "metadata": {},
     "output_type": "execute_result"
    }
   ],
   "source": [
    "ga_rejection_race"
   ]
  },
  {
   "cell_type": "code",
   "execution_count": 44,
   "metadata": {},
   "outputs": [],
   "source": [
    "ga_rejection_race['clean_rate'] = (ga_rejection_race['Rejected Ballots'] / ga_rejection_race['Returned Ballots (All)'])*100"
   ]
  },
  {
   "cell_type": "code",
   "execution_count": 45,
   "metadata": {},
   "outputs": [],
   "source": [
    "ga_counties = pd.DataFrame(json.loads(json_data)['x']['data']).transpose()"
   ]
  },
  {
   "cell_type": "code",
   "execution_count": 46,
   "metadata": {},
   "outputs": [],
   "source": [
    "ga_counties = ga_counties.rename(columns={0:'county', 1:'mail_rejected', 2:'mail_returned', 3:'rejected_pct'}).fillna('0')"
   ]
  },
  {
   "cell_type": "code",
   "execution_count": 47,
   "metadata": {},
   "outputs": [],
   "source": [
    "ga_counties['rejected_pct'] = ga_counties['rejected_pct']*100"
   ]
  },
  {
   "cell_type": "code",
   "execution_count": 48,
   "metadata": {},
   "outputs": [],
   "source": [
    "ga_counties['state'] = 'Georgia'\n",
    "ga_counties['fips'] = '13'"
   ]
  },
  {
   "cell_type": "code",
   "execution_count": 49,
   "metadata": {},
   "outputs": [],
   "source": [
    "ga_counties[['mail_returned', 'mail_rejected', 'rejected_pct']] = ga_counties[['mail_returned', 'mail_rejected', 'rejected_pct']].astype(float)"
   ]
  },
  {
   "cell_type": "code",
   "execution_count": 50,
   "metadata": {},
   "outputs": [],
   "source": [
    "ga_counties = ga_counties[[ 'county', 'mail_returned', 'mail_rejected', 'rejected_pct', 'state', 'fips']]"
   ]
  },
  {
   "cell_type": "code",
   "execution_count": 51,
   "metadata": {},
   "outputs": [],
   "source": [
    "ga_counties.sort_values('rejected_pct', ascending=False).to_csv('output/rejected/ga_counties.csv', index=False)"
   ]
  },
  {
   "cell_type": "code",
   "execution_count": 52,
   "metadata": {},
   "outputs": [
    {
     "data": {
      "text/html": [
       "<div>\n",
       "<style scoped>\n",
       "    .dataframe tbody tr th:only-of-type {\n",
       "        vertical-align: middle;\n",
       "    }\n",
       "\n",
       "    .dataframe tbody tr th {\n",
       "        vertical-align: top;\n",
       "    }\n",
       "\n",
       "    .dataframe thead th {\n",
       "        text-align: right;\n",
       "    }\n",
       "</style>\n",
       "<table border=\"1\" class=\"dataframe\">\n",
       "  <thead>\n",
       "    <tr style=\"text-align: right;\">\n",
       "      <th></th>\n",
       "      <th>county</th>\n",
       "      <th>mail_returned</th>\n",
       "      <th>mail_rejected</th>\n",
       "      <th>rejected_pct</th>\n",
       "      <th>state</th>\n",
       "      <th>fips</th>\n",
       "    </tr>\n",
       "  </thead>\n",
       "  <tbody>\n",
       "    <tr>\n",
       "      <th>29</th>\n",
       "      <td>CLAY</td>\n",
       "      <td>414.0</td>\n",
       "      <td>9.0</td>\n",
       "      <td>2.173913</td>\n",
       "      <td>Georgia</td>\n",
       "      <td>13</td>\n",
       "    </tr>\n",
       "    <tr>\n",
       "      <th>132</th>\n",
       "      <td>TAYLOR</td>\n",
       "      <td>796.0</td>\n",
       "      <td>14.0</td>\n",
       "      <td>1.758794</td>\n",
       "      <td>Georgia</td>\n",
       "      <td>13</td>\n",
       "    </tr>\n",
       "    <tr>\n",
       "      <th>23</th>\n",
       "      <td>CHARLTON</td>\n",
       "      <td>703.0</td>\n",
       "      <td>8.0</td>\n",
       "      <td>1.137980</td>\n",
       "      <td>Georgia</td>\n",
       "      <td>13</td>\n",
       "    </tr>\n",
       "    <tr>\n",
       "      <th>127</th>\n",
       "      <td>STEWART</td>\n",
       "      <td>489.0</td>\n",
       "      <td>5.0</td>\n",
       "      <td>1.022495</td>\n",
       "      <td>Georgia</td>\n",
       "      <td>13</td>\n",
       "    </tr>\n",
       "    <tr>\n",
       "      <th>87</th>\n",
       "      <td>LEE</td>\n",
       "      <td>2518.0</td>\n",
       "      <td>25.0</td>\n",
       "      <td>0.992851</td>\n",
       "      <td>Georgia</td>\n",
       "      <td>13</td>\n",
       "    </tr>\n",
       "  </tbody>\n",
       "</table>\n",
       "</div>"
      ],
      "text/plain": [
       "       county  mail_returned  mail_rejected  rejected_pct    state fips\n",
       "29       CLAY          414.0            9.0      2.173913  Georgia   13\n",
       "132    TAYLOR          796.0           14.0      1.758794  Georgia   13\n",
       "23   CHARLTON          703.0            8.0      1.137980  Georgia   13\n",
       "127   STEWART          489.0            5.0      1.022495  Georgia   13\n",
       "87        LEE         2518.0           25.0      0.992851  Georgia   13"
      ]
     },
     "execution_count": 52,
     "metadata": {},
     "output_type": "execute_result"
    }
   ],
   "source": [
    "ga_counties.sort_values('rejected_pct', ascending=False).head()"
   ]
  },
  {
   "cell_type": "markdown",
   "metadata": {},
   "source": [
    "---"
   ]
  },
  {
   "cell_type": "markdown",
   "metadata": {},
   "source": [
    "### Nevada"
   ]
  },
  {
   "cell_type": "code",
   "execution_count": 53,
   "metadata": {},
   "outputs": [],
   "source": [
    "### Download https://www.nvsos.gov/sos/home/showdocument?id=9060"
   ]
  },
  {
   "cell_type": "code",
   "execution_count": 54,
   "metadata": {},
   "outputs": [],
   "source": [
    "# !curl -o nevada.pdf 'https://www.nvsos.gov/sos/home/showdocument?id=9060'"
   ]
  },
  {
   "cell_type": "code",
   "execution_count": 55,
   "metadata": {},
   "outputs": [],
   "source": [
    "nv_need_cure = pd.read_csv('input/tabula-2020GeneralElectionSignatu.csv', header=None, names=[ 'county', 'mail_rejected', 'rejected_pct', 'dem', 'rep', 'other' ])"
   ]
  },
  {
   "cell_type": "code",
   "execution_count": 56,
   "metadata": {},
   "outputs": [],
   "source": [
    "nv_need_cure['mail_rejected'] =  nv_need_cure['mail_rejected'].str.replace(' ,', '').str.replace(' ', '').replace('-', '0')\n",
    "nv_need_cure['rejected_pct'] =  nv_need_cure['rejected_pct'].str.replace('%', '')"
   ]
  },
  {
   "cell_type": "code",
   "execution_count": 57,
   "metadata": {},
   "outputs": [],
   "source": [
    "nv_need_cure[['dem', 'rep', 'other']] =  nv_need_cure[['dem', 'rep', 'other']].replace('-', '0')"
   ]
  },
  {
   "cell_type": "code",
   "execution_count": 58,
   "metadata": {},
   "outputs": [],
   "source": [
    "nv_need_cure['state'] = 'Nevada'\n",
    "nv_need_cure['fips'] = '32'"
   ]
  },
  {
   "cell_type": "code",
   "execution_count": 59,
   "metadata": {},
   "outputs": [],
   "source": [
    "nv_mail_totals = pd.read_csv('input/tabula-2020GeneralElectionMailBal.csv', header=None)"
   ]
  },
  {
   "cell_type": "code",
   "execution_count": 60,
   "metadata": {},
   "outputs": [],
   "source": [
    "nv_mail_totals = nv_mail_totals[[0,11]].rename(columns={0:'county', 11:'mail_returned'})"
   ]
  },
  {
   "cell_type": "code",
   "execution_count": 61,
   "metadata": {},
   "outputs": [],
   "source": [
    "nv_mail_totals['mail_returned'] = nv_mail_totals['mail_returned'].str.replace(' ', '').str.replace('%', '').str.replace(',', '')\n",
    "nv_mail_totals['county'] = nv_mail_totals['county'].str.replace('*', '', regex=None)"
   ]
  },
  {
   "cell_type": "code",
   "execution_count": 62,
   "metadata": {},
   "outputs": [],
   "source": [
    "nv_counties_parties = pd.merge(nv_mail_totals, nv_need_cure, on='county')"
   ]
  },
  {
   "cell_type": "code",
   "execution_count": 63,
   "metadata": {},
   "outputs": [],
   "source": [
    "nv_counties = nv_counties_parties.drop(['dem', 'rep', 'other'], axis=1)"
   ]
  },
  {
   "cell_type": "code",
   "execution_count": 64,
   "metadata": {},
   "outputs": [],
   "source": [
    "nv_counties[['mail_returned', 'mail_rejected', 'rejected_pct']] = nv_counties[['mail_returned', 'mail_rejected', 'rejected_pct']].astype(float)"
   ]
  },
  {
   "cell_type": "code",
   "execution_count": 65,
   "metadata": {},
   "outputs": [
    {
     "data": {
      "text/html": [
       "<div>\n",
       "<style scoped>\n",
       "    .dataframe tbody tr th:only-of-type {\n",
       "        vertical-align: middle;\n",
       "    }\n",
       "\n",
       "    .dataframe tbody tr th {\n",
       "        vertical-align: top;\n",
       "    }\n",
       "\n",
       "    .dataframe thead th {\n",
       "        text-align: right;\n",
       "    }\n",
       "</style>\n",
       "<table border=\"1\" class=\"dataframe\">\n",
       "  <thead>\n",
       "    <tr style=\"text-align: right;\">\n",
       "      <th></th>\n",
       "      <th>county</th>\n",
       "      <th>mail_returned</th>\n",
       "      <th>mail_rejected</th>\n",
       "      <th>rejected_pct</th>\n",
       "      <th>state</th>\n",
       "      <th>fips</th>\n",
       "    </tr>\n",
       "  </thead>\n",
       "  <tbody>\n",
       "    <tr>\n",
       "      <th>7</th>\n",
       "      <td>Humboldt</td>\n",
       "      <td>1821.0</td>\n",
       "      <td>37.0</td>\n",
       "      <td>2.03</td>\n",
       "      <td>Nevada</td>\n",
       "      <td>32</td>\n",
       "    </tr>\n",
       "    <tr>\n",
       "      <th>1</th>\n",
       "      <td>Churchill</td>\n",
       "      <td>3606.0</td>\n",
       "      <td>68.0</td>\n",
       "      <td>1.89</td>\n",
       "      <td>Nevada</td>\n",
       "      <td>32</td>\n",
       "    </tr>\n",
       "    <tr>\n",
       "      <th>15</th>\n",
       "      <td>Washoe</td>\n",
       "      <td>102473.0</td>\n",
       "      <td>1137.0</td>\n",
       "      <td>1.11</td>\n",
       "      <td>Nevada</td>\n",
       "      <td>32</td>\n",
       "    </tr>\n",
       "    <tr>\n",
       "      <th>6</th>\n",
       "      <td>Eureka</td>\n",
       "      <td>291.0</td>\n",
       "      <td>3.0</td>\n",
       "      <td>1.03</td>\n",
       "      <td>Nevada</td>\n",
       "      <td>32</td>\n",
       "    </tr>\n",
       "    <tr>\n",
       "      <th>3</th>\n",
       "      <td>Douglas</td>\n",
       "      <td>16200.0</td>\n",
       "      <td>165.0</td>\n",
       "      <td>1.02</td>\n",
       "      <td>Nevada</td>\n",
       "      <td>32</td>\n",
       "    </tr>\n",
       "  </tbody>\n",
       "</table>\n",
       "</div>"
      ],
      "text/plain": [
       "       county  mail_returned  mail_rejected  rejected_pct   state fips\n",
       "7    Humboldt         1821.0           37.0          2.03  Nevada   32\n",
       "1   Churchill         3606.0           68.0          1.89  Nevada   32\n",
       "15     Washoe       102473.0         1137.0          1.11  Nevada   32\n",
       "6      Eureka          291.0            3.0          1.03  Nevada   32\n",
       "3     Douglas        16200.0          165.0          1.02  Nevada   32"
      ]
     },
     "execution_count": 65,
     "metadata": {},
     "output_type": "execute_result"
    }
   ],
   "source": [
    "nv_counties.sort_values('rejected_pct', ascending=False).head()"
   ]
  },
  {
   "cell_type": "markdown",
   "metadata": {},
   "source": [
    "---"
   ]
  },
  {
   "cell_type": "markdown",
   "metadata": {},
   "source": [
    "## Florida"
   ]
  },
  {
   "cell_type": "markdown",
   "metadata": {},
   "source": [
    "#### Broward County"
   ]
  },
  {
   "cell_type": "code",
   "execution_count": 66,
   "metadata": {},
   "outputs": [],
   "source": [
    "url = 'https://www.browardsoe.org/'"
   ]
  },
  {
   "cell_type": "code",
   "execution_count": 67,
   "metadata": {},
   "outputs": [],
   "source": [
    "# flraw = pd.read_html(url)"
   ]
  },
  {
   "cell_type": "code",
   "execution_count": 68,
   "metadata": {},
   "outputs": [],
   "source": [
    "# fl_broward = pd.DataFrame(flraw[1]).drop([0, 5], axis=0)"
   ]
  },
  {
   "cell_type": "code",
   "execution_count": 69,
   "metadata": {},
   "outputs": [],
   "source": [
    "# fl_broward = fl_broward.rename(columns={0:'cause', 1: 'count'})"
   ]
  },
  {
   "cell_type": "code",
   "execution_count": 70,
   "metadata": {},
   "outputs": [],
   "source": [
    "# fl_broward['count'] = fl_broward['count'].astype(int)"
   ]
  },
  {
   "cell_type": "markdown",
   "metadata": {},
   "source": [
    "#### How many rejected in Broward County? "
   ]
  },
  {
   "cell_type": "code",
   "execution_count": 71,
   "metadata": {},
   "outputs": [],
   "source": [
    "# fl_broward['count'].sum()"
   ]
  },
  {
   "cell_type": "markdown",
   "metadata": {},
   "source": [
    "#### How many rejected in Miami-Dade? "
   ]
  },
  {
   "cell_type": "code",
   "execution_count": 72,
   "metadata": {},
   "outputs": [],
   "source": [
    "fl_miami = 2583"
   ]
  },
  {
   "cell_type": "code",
   "execution_count": 73,
   "metadata": {},
   "outputs": [],
   "source": [
    "fl_tampa = 463"
   ]
  },
  {
   "cell_type": "code",
   "execution_count": 74,
   "metadata": {},
   "outputs": [],
   "source": [
    "florida_sum = fl_miami + fl_tampa"
   ]
  },
  {
   "cell_type": "markdown",
   "metadata": {},
   "source": [
    "#### How many total from our two counties in Florida? "
   ]
  },
  {
   "cell_type": "code",
   "execution_count": 75,
   "metadata": {},
   "outputs": [
    {
     "data": {
      "text/plain": [
       "3046"
      ]
     },
     "execution_count": 75,
     "metadata": {},
     "output_type": "execute_result"
    }
   ],
   "source": [
    "florida_sum"
   ]
  },
  {
   "cell_type": "code",
   "execution_count": 76,
   "metadata": {},
   "outputs": [],
   "source": [
    "fl_tables = pd.read_html('https://electproject.github.io/Early-Vote-2020G/FL.html')"
   ]
  },
  {
   "cell_type": "code",
   "execution_count": 77,
   "metadata": {},
   "outputs": [],
   "source": [
    "fl_mail = fl_tables[2]"
   ]
  },
  {
   "cell_type": "code",
   "execution_count": 78,
   "metadata": {},
   "outputs": [],
   "source": [
    "fl_mail_sum = fl_mail.iloc[4,1]"
   ]
  },
  {
   "cell_type": "code",
   "execution_count": 79,
   "metadata": {},
   "outputs": [],
   "source": [
    "florida_state = pd.DataFrame(columns = ['state', 'mail_returned', 'mail_rejected', 'rejected_pct'])"
   ]
  },
  {
   "cell_type": "code",
   "execution_count": 80,
   "metadata": {},
   "outputs": [],
   "source": [
    "florida_state = florida_state.append({'state' : 'Florida*', 'mail_rejected' : florida_sum, }, ignore_index = True).fillna('')"
   ]
  },
  {
   "cell_type": "code",
   "execution_count": 81,
   "metadata": {},
   "outputs": [],
   "source": [
    "florida_state['mail_returned'] = fl_mail_sum"
   ]
  },
  {
   "cell_type": "code",
   "execution_count": 82,
   "metadata": {},
   "outputs": [],
   "source": [
    "florida_state['rejected_pct'] = round((florida_state['mail_rejected'] / florida_state['mail_returned'] )*100, 2)"
   ]
  },
  {
   "cell_type": "code",
   "execution_count": 83,
   "metadata": {},
   "outputs": [
    {
     "data": {
      "text/html": [
       "<div>\n",
       "<style scoped>\n",
       "    .dataframe tbody tr th:only-of-type {\n",
       "        vertical-align: middle;\n",
       "    }\n",
       "\n",
       "    .dataframe tbody tr th {\n",
       "        vertical-align: top;\n",
       "    }\n",
       "\n",
       "    .dataframe thead th {\n",
       "        text-align: right;\n",
       "    }\n",
       "</style>\n",
       "<table border=\"1\" class=\"dataframe\">\n",
       "  <thead>\n",
       "    <tr style=\"text-align: right;\">\n",
       "      <th></th>\n",
       "      <th>state</th>\n",
       "      <th>mail_returned</th>\n",
       "      <th>mail_rejected</th>\n",
       "      <th>rejected_pct</th>\n",
       "    </tr>\n",
       "  </thead>\n",
       "  <tbody>\n",
       "    <tr>\n",
       "      <th>0</th>\n",
       "      <td>Florida*</td>\n",
       "      <td>4737540</td>\n",
       "      <td>3046</td>\n",
       "      <td>0.06</td>\n",
       "    </tr>\n",
       "  </tbody>\n",
       "</table>\n",
       "</div>"
      ],
      "text/plain": [
       "      state  mail_returned  mail_rejected  rejected_pct\n",
       "0  Florida*        4737540           3046          0.06"
      ]
     },
     "execution_count": 83,
     "metadata": {},
     "output_type": "execute_result"
    }
   ],
   "source": [
    "florida_state.head()"
   ]
  },
  {
   "cell_type": "markdown",
   "metadata": {},
   "source": [
    "---"
   ]
  },
  {
   "cell_type": "markdown",
   "metadata": {},
   "source": [
    "## Aggregates"
   ]
  },
  {
   "cell_type": "code",
   "execution_count": 84,
   "metadata": {},
   "outputs": [],
   "source": [
    "counties = pd.concat([ga_counties, mi_counties, ia_counties, pa_counties, nc_counties, nv_counties])"
   ]
  },
  {
   "cell_type": "code",
   "execution_count": 85,
   "metadata": {},
   "outputs": [],
   "source": [
    "counties.sort_values('rejected_pct', ascending=False).to_csv('output/rejected/all_counties.csv', index=False)"
   ]
  },
  {
   "cell_type": "markdown",
   "metadata": {},
   "source": [
    "#### Manual labor *sigh* needed for future join"
   ]
  },
  {
   "cell_type": "code",
   "execution_count": 86,
   "metadata": {},
   "outputs": [],
   "source": [
    "counties['county'] = counties['county'].str.upper()"
   ]
  },
  {
   "cell_type": "code",
   "execution_count": 87,
   "metadata": {},
   "outputs": [],
   "source": [
    "counties['county'] = counties['county'].str.replace(' COUNTY', '')"
   ]
  },
  {
   "cell_type": "code",
   "execution_count": 88,
   "metadata": {},
   "outputs": [],
   "source": [
    "states = counties.groupby('state').agg({'mail_returned':'sum', 'mail_rejected': 'sum', }).reset_index()"
   ]
  },
  {
   "cell_type": "code",
   "execution_count": 89,
   "metadata": {},
   "outputs": [],
   "source": [
    "states.loc[((states['state'] == 'Michigan') & (states['mail_rejected'] < mi_manual)), 'mail_rejected'] = mi_manual"
   ]
  },
  {
   "cell_type": "code",
   "execution_count": 90,
   "metadata": {},
   "outputs": [],
   "source": [
    "states = states.append(florida_state, ignore_index=True)"
   ]
  },
  {
   "cell_type": "code",
   "execution_count": 91,
   "metadata": {},
   "outputs": [],
   "source": [
    "states['rejected_pct'] = round((states['mail_rejected'] / states['mail_returned'] )*100, 2)"
   ]
  },
  {
   "cell_type": "markdown",
   "metadata": {},
   "source": [
    "#### How many returned nationwide?"
   ]
  },
  {
   "cell_type": "code",
   "execution_count": 92,
   "metadata": {},
   "outputs": [
    {
     "data": {
      "text/plain": [
       "22229.0"
      ]
     },
     "execution_count": 92,
     "metadata": {},
     "output_type": "execute_result"
    }
   ],
   "source": [
    "states.mail_rejected.sum()"
   ]
  },
  {
   "cell_type": "code",
   "execution_count": 93,
   "metadata": {},
   "outputs": [],
   "source": [
    "states.to_csv('output/states_mail_rejected.csv', index=False)"
   ]
  },
  {
   "cell_type": "code",
   "execution_count": 94,
   "metadata": {},
   "outputs": [
    {
     "data": {
      "text/html": [
       "<style  type=\"text/css\" >\n",
       "</style><table id=\"T_1cf9f45e_2507_11eb_9f6d_acde48001122\" ><thead>    <tr>        <th class=\"blank level0\" ></th>        <th class=\"col_heading level0 col0\" >state</th>        <th class=\"col_heading level0 col1\" >mail_returned</th>        <th class=\"col_heading level0 col2\" >mail_rejected</th>        <th class=\"col_heading level0 col3\" >rejected_pct</th>    </tr></thead><tbody>\n",
       "                <tr>\n",
       "                        <th id=\"T_1cf9f45e_2507_11eb_9f6d_acde48001122level0_row0\" class=\"row_heading level0 row0\" >0</th>\n",
       "                        <td id=\"T_1cf9f45e_2507_11eb_9f6d_acde48001122row0_col0\" class=\"data row0 col0\" >Georgia</td>\n",
       "                        <td id=\"T_1cf9f45e_2507_11eb_9f6d_acde48001122row0_col1\" class=\"data row0 col1\" >1,322,843</td>\n",
       "                        <td id=\"T_1cf9f45e_2507_11eb_9f6d_acde48001122row0_col2\" class=\"data row0 col2\" >2,689</td>\n",
       "                        <td id=\"T_1cf9f45e_2507_11eb_9f6d_acde48001122row0_col3\" class=\"data row0 col3\" >0.20%</td>\n",
       "            </tr>\n",
       "            <tr>\n",
       "                        <th id=\"T_1cf9f45e_2507_11eb_9f6d_acde48001122level0_row1\" class=\"row_heading level0 row1\" >1</th>\n",
       "                        <td id=\"T_1cf9f45e_2507_11eb_9f6d_acde48001122row1_col0\" class=\"data row1 col0\" >Iowa</td>\n",
       "                        <td id=\"T_1cf9f45e_2507_11eb_9f6d_acde48001122row1_col1\" class=\"data row1 col1\" >757,879</td>\n",
       "                        <td id=\"T_1cf9f45e_2507_11eb_9f6d_acde48001122row1_col2\" class=\"data row1 col2\" >1,468</td>\n",
       "                        <td id=\"T_1cf9f45e_2507_11eb_9f6d_acde48001122row1_col3\" class=\"data row1 col3\" >0.19%</td>\n",
       "            </tr>\n",
       "            <tr>\n",
       "                        <th id=\"T_1cf9f45e_2507_11eb_9f6d_acde48001122level0_row2\" class=\"row_heading level0 row2\" >2</th>\n",
       "                        <td id=\"T_1cf9f45e_2507_11eb_9f6d_acde48001122row2_col0\" class=\"data row2 col0\" >Michigan</td>\n",
       "                        <td id=\"T_1cf9f45e_2507_11eb_9f6d_acde48001122row2_col1\" class=\"data row2 col1\" >2,569,678</td>\n",
       "                        <td id=\"T_1cf9f45e_2507_11eb_9f6d_acde48001122row2_col2\" class=\"data row2 col2\" >1,856</td>\n",
       "                        <td id=\"T_1cf9f45e_2507_11eb_9f6d_acde48001122row2_col3\" class=\"data row2 col3\" >0.07%</td>\n",
       "            </tr>\n",
       "            <tr>\n",
       "                        <th id=\"T_1cf9f45e_2507_11eb_9f6d_acde48001122level0_row3\" class=\"row_heading level0 row3\" >3</th>\n",
       "                        <td id=\"T_1cf9f45e_2507_11eb_9f6d_acde48001122row3_col0\" class=\"data row3 col0\" >Nevada</td>\n",
       "                        <td id=\"T_1cf9f45e_2507_11eb_9f6d_acde48001122row3_col1\" class=\"data row3 col1\" >537,120</td>\n",
       "                        <td id=\"T_1cf9f45e_2507_11eb_9f6d_acde48001122row3_col2\" class=\"data row3 col2\" >4,206</td>\n",
       "                        <td id=\"T_1cf9f45e_2507_11eb_9f6d_acde48001122row3_col3\" class=\"data row3 col3\" >0.78%</td>\n",
       "            </tr>\n",
       "            <tr>\n",
       "                        <th id=\"T_1cf9f45e_2507_11eb_9f6d_acde48001122level0_row4\" class=\"row_heading level0 row4\" >4</th>\n",
       "                        <td id=\"T_1cf9f45e_2507_11eb_9f6d_acde48001122row4_col0\" class=\"data row4 col0\" >North Carolina</td>\n",
       "                        <td id=\"T_1cf9f45e_2507_11eb_9f6d_acde48001122row4_col1\" class=\"data row4 col1\" >969,691</td>\n",
       "                        <td id=\"T_1cf9f45e_2507_11eb_9f6d_acde48001122row4_col2\" class=\"data row4 col2\" >7,955</td>\n",
       "                        <td id=\"T_1cf9f45e_2507_11eb_9f6d_acde48001122row4_col3\" class=\"data row4 col3\" >0.82%</td>\n",
       "            </tr>\n",
       "            <tr>\n",
       "                        <th id=\"T_1cf9f45e_2507_11eb_9f6d_acde48001122level0_row5\" class=\"row_heading level0 row5\" >5</th>\n",
       "                        <td id=\"T_1cf9f45e_2507_11eb_9f6d_acde48001122row5_col0\" class=\"data row5 col0\" >Pennsylvania</td>\n",
       "                        <td id=\"T_1cf9f45e_2507_11eb_9f6d_acde48001122row5_col1\" class=\"data row5 col1\" >1,691,139</td>\n",
       "                        <td id=\"T_1cf9f45e_2507_11eb_9f6d_acde48001122row5_col2\" class=\"data row5 col2\" >1,009</td>\n",
       "                        <td id=\"T_1cf9f45e_2507_11eb_9f6d_acde48001122row5_col3\" class=\"data row5 col3\" >0.06%</td>\n",
       "            </tr>\n",
       "            <tr>\n",
       "                        <th id=\"T_1cf9f45e_2507_11eb_9f6d_acde48001122level0_row6\" class=\"row_heading level0 row6\" >6</th>\n",
       "                        <td id=\"T_1cf9f45e_2507_11eb_9f6d_acde48001122row6_col0\" class=\"data row6 col0\" >Florida*</td>\n",
       "                        <td id=\"T_1cf9f45e_2507_11eb_9f6d_acde48001122row6_col1\" class=\"data row6 col1\" >4,737,540</td>\n",
       "                        <td id=\"T_1cf9f45e_2507_11eb_9f6d_acde48001122row6_col2\" class=\"data row6 col2\" >3,046</td>\n",
       "                        <td id=\"T_1cf9f45e_2507_11eb_9f6d_acde48001122row6_col3\" class=\"data row6 col3\" >0.06%</td>\n",
       "            </tr>\n",
       "    </tbody></table>"
      ],
      "text/plain": [
       "<pandas.io.formats.style.Styler at 0x159c90f50>"
      ]
     },
     "execution_count": 94,
     "metadata": {},
     "output_type": "execute_result"
    }
   ],
   "source": [
    "states.style.format({'mail_returned': \"{:,.0f}\", 'mail_rejected': \"{:,.0f}\", 'rejected_pct': '{:.2f}%'})"
   ]
  },
  {
   "cell_type": "code",
   "execution_count": 95,
   "metadata": {},
   "outputs": [
    {
     "data": {
      "text/html": [
       "<div>\n",
       "<style scoped>\n",
       "    .dataframe tbody tr th:only-of-type {\n",
       "        vertical-align: middle;\n",
       "    }\n",
       "\n",
       "    .dataframe tbody tr th {\n",
       "        vertical-align: top;\n",
       "    }\n",
       "\n",
       "    .dataframe thead th {\n",
       "        text-align: right;\n",
       "    }\n",
       "</style>\n",
       "<table border=\"1\" class=\"dataframe\">\n",
       "  <thead>\n",
       "    <tr style=\"text-align: right;\">\n",
       "      <th></th>\n",
       "      <th>state</th>\n",
       "      <th>mail_returned</th>\n",
       "      <th>mail_rejected</th>\n",
       "      <th>rejected_pct</th>\n",
       "    </tr>\n",
       "  </thead>\n",
       "  <tbody>\n",
       "    <tr>\n",
       "      <th>0</th>\n",
       "      <td>Georgia</td>\n",
       "      <td>1322843.0</td>\n",
       "      <td>2689.0</td>\n",
       "      <td>0.20</td>\n",
       "    </tr>\n",
       "    <tr>\n",
       "      <th>1</th>\n",
       "      <td>Iowa</td>\n",
       "      <td>757879.0</td>\n",
       "      <td>1468.0</td>\n",
       "      <td>0.19</td>\n",
       "    </tr>\n",
       "    <tr>\n",
       "      <th>2</th>\n",
       "      <td>Michigan</td>\n",
       "      <td>2569678.0</td>\n",
       "      <td>1856.0</td>\n",
       "      <td>0.07</td>\n",
       "    </tr>\n",
       "    <tr>\n",
       "      <th>3</th>\n",
       "      <td>Nevada</td>\n",
       "      <td>537120.0</td>\n",
       "      <td>4206.0</td>\n",
       "      <td>0.78</td>\n",
       "    </tr>\n",
       "    <tr>\n",
       "      <th>4</th>\n",
       "      <td>North Carolina</td>\n",
       "      <td>969691.0</td>\n",
       "      <td>7955.0</td>\n",
       "      <td>0.82</td>\n",
       "    </tr>\n",
       "    <tr>\n",
       "      <th>5</th>\n",
       "      <td>Pennsylvania</td>\n",
       "      <td>1691139.0</td>\n",
       "      <td>1009.0</td>\n",
       "      <td>0.06</td>\n",
       "    </tr>\n",
       "    <tr>\n",
       "      <th>6</th>\n",
       "      <td>Florida*</td>\n",
       "      <td>4737540.0</td>\n",
       "      <td>3046.0</td>\n",
       "      <td>0.06</td>\n",
       "    </tr>\n",
       "  </tbody>\n",
       "</table>\n",
       "</div>"
      ],
      "text/plain": [
       "            state  mail_returned  mail_rejected  rejected_pct\n",
       "0         Georgia      1322843.0         2689.0          0.20\n",
       "1            Iowa       757879.0         1468.0          0.19\n",
       "2        Michigan      2569678.0         1856.0          0.07\n",
       "3          Nevada       537120.0         4206.0          0.78\n",
       "4  North Carolina       969691.0         7955.0          0.82\n",
       "5    Pennsylvania      1691139.0         1009.0          0.06\n",
       "6        Florida*      4737540.0         3046.0          0.06"
      ]
     },
     "execution_count": 95,
     "metadata": {},
     "output_type": "execute_result"
    }
   ],
   "source": [
    "states.head(10)"
   ]
  },
  {
   "cell_type": "markdown",
   "metadata": {},
   "source": [
    "#### Add FIPS codes"
   ]
  },
  {
   "cell_type": "code",
   "execution_count": 96,
   "metadata": {},
   "outputs": [],
   "source": [
    "fips_counties = pd.read_csv('/Users/mhustiles/data/data/fips_counties.csv', dtype={'geoid':str}).drop(['Unnamed: 0'], axis=1)"
   ]
  },
  {
   "cell_type": "code",
   "execution_count": 97,
   "metadata": {},
   "outputs": [],
   "source": [
    "fips_counties['county'] = fips_counties['county'].str.upper()"
   ]
  },
  {
   "cell_type": "markdown",
   "metadata": {},
   "source": [
    "#### Merge after the manual labor under the hood"
   ]
  },
  {
   "cell_type": "code",
   "execution_count": 98,
   "metadata": {},
   "outputs": [],
   "source": [
    "fips_merge = pd.merge(counties, fips_counties, left_on=['county','state'], right_on = ['county','state'])"
   ]
  },
  {
   "cell_type": "code",
   "execution_count": 99,
   "metadata": {},
   "outputs": [
    {
     "data": {
      "text/html": [
       "<div>\n",
       "<style scoped>\n",
       "    .dataframe tbody tr th:only-of-type {\n",
       "        vertical-align: middle;\n",
       "    }\n",
       "\n",
       "    .dataframe tbody tr th {\n",
       "        vertical-align: top;\n",
       "    }\n",
       "\n",
       "    .dataframe thead th {\n",
       "        text-align: right;\n",
       "    }\n",
       "</style>\n",
       "<table border=\"1\" class=\"dataframe\">\n",
       "  <thead>\n",
       "    <tr style=\"text-align: right;\">\n",
       "      <th></th>\n",
       "      <th>county</th>\n",
       "      <th>mail_returned</th>\n",
       "      <th>mail_rejected</th>\n",
       "      <th>rejected_pct</th>\n",
       "      <th>state</th>\n",
       "      <th>fips</th>\n",
       "      <th>geoid</th>\n",
       "      <th>population</th>\n",
       "      <th>postal</th>\n",
       "      <th>state_ap</th>\n",
       "    </tr>\n",
       "  </thead>\n",
       "  <tbody>\n",
       "    <tr>\n",
       "      <th>0</th>\n",
       "      <td>APPLING</td>\n",
       "      <td>1533.0</td>\n",
       "      <td>0.0</td>\n",
       "      <td>0.000000</td>\n",
       "      <td>Georgia</td>\n",
       "      <td>13</td>\n",
       "      <td>13001</td>\n",
       "      <td>18027</td>\n",
       "      <td>GA</td>\n",
       "      <td>Ga.</td>\n",
       "    </tr>\n",
       "    <tr>\n",
       "      <th>1</th>\n",
       "      <td>ATKINSON</td>\n",
       "      <td>297.0</td>\n",
       "      <td>0.0</td>\n",
       "      <td>0.000000</td>\n",
       "      <td>Georgia</td>\n",
       "      <td>13</td>\n",
       "      <td>13003</td>\n",
       "      <td>8294</td>\n",
       "      <td>GA</td>\n",
       "      <td>Ga.</td>\n",
       "    </tr>\n",
       "    <tr>\n",
       "      <th>2</th>\n",
       "      <td>BACON</td>\n",
       "      <td>693.0</td>\n",
       "      <td>2.0</td>\n",
       "      <td>0.288600</td>\n",
       "      <td>Georgia</td>\n",
       "      <td>13</td>\n",
       "      <td>13005</td>\n",
       "      <td>10439</td>\n",
       "      <td>GA</td>\n",
       "      <td>Ga.</td>\n",
       "    </tr>\n",
       "    <tr>\n",
       "      <th>3</th>\n",
       "      <td>BAKER</td>\n",
       "      <td>376.0</td>\n",
       "      <td>1.0</td>\n",
       "      <td>0.265957</td>\n",
       "      <td>Georgia</td>\n",
       "      <td>13</td>\n",
       "      <td>13007</td>\n",
       "      <td>4004</td>\n",
       "      <td>GA</td>\n",
       "      <td>Ga.</td>\n",
       "    </tr>\n",
       "    <tr>\n",
       "      <th>4</th>\n",
       "      <td>BALDWIN</td>\n",
       "      <td>4345.0</td>\n",
       "      <td>8.0</td>\n",
       "      <td>0.184120</td>\n",
       "      <td>Georgia</td>\n",
       "      <td>13</td>\n",
       "      <td>13009</td>\n",
       "      <td>47638</td>\n",
       "      <td>GA</td>\n",
       "      <td>Ga.</td>\n",
       "    </tr>\n",
       "  </tbody>\n",
       "</table>\n",
       "</div>"
      ],
      "text/plain": [
       "     county  mail_returned  mail_rejected  rejected_pct    state fips  geoid  \\\n",
       "0   APPLING         1533.0            0.0      0.000000  Georgia   13  13001   \n",
       "1  ATKINSON          297.0            0.0      0.000000  Georgia   13  13003   \n",
       "2     BACON          693.0            2.0      0.288600  Georgia   13  13005   \n",
       "3     BAKER          376.0            1.0      0.265957  Georgia   13  13007   \n",
       "4   BALDWIN         4345.0            8.0      0.184120  Georgia   13  13009   \n",
       "\n",
       "   population postal state_ap  \n",
       "0       18027     GA      Ga.  \n",
       "1        8294     GA      Ga.  \n",
       "2       10439     GA      Ga.  \n",
       "3        4004     GA      Ga.  \n",
       "4       47638     GA      Ga.  "
      ]
     },
     "execution_count": 99,
     "metadata": {},
     "output_type": "execute_result"
    }
   ],
   "source": [
    "fips_merge.head()"
   ]
  },
  {
   "cell_type": "code",
   "execution_count": 100,
   "metadata": {},
   "outputs": [],
   "source": [
    "fips_merge.sort_values('rejected_pct', ascending=False).to_csv('output/rejected/fips_merge_all_counties.csv', index=False)"
   ]
  },
  {
   "cell_type": "markdown",
   "metadata": {},
   "source": [
    "---"
   ]
  },
  {
   "cell_type": "markdown",
   "metadata": {},
   "source": [
    "## Geography"
   ]
  },
  {
   "cell_type": "code",
   "execution_count": 101,
   "metadata": {},
   "outputs": [],
   "source": [
    "our_fips = list(counties.fips.unique())"
   ]
  },
  {
   "cell_type": "code",
   "execution_count": 102,
   "metadata": {},
   "outputs": [],
   "source": [
    "counties_geo = gpd.read_file('/Users/mhustiles/data/data/GIS/counties_lower48_small.json')"
   ]
  },
  {
   "cell_type": "code",
   "execution_count": 103,
   "metadata": {},
   "outputs": [],
   "source": [
    "our_counties_geo = counties_geo[counties_geo['statefp'].isin(our_fips)]"
   ]
  },
  {
   "cell_type": "code",
   "execution_count": 104,
   "metadata": {},
   "outputs": [
    {
     "data": {
      "text/plain": [
       "county            object\n",
       "mail_returned    float64\n",
       "mail_rejected    float64\n",
       "rejected_pct     float64\n",
       "state             object\n",
       "fips              object\n",
       "geoid             object\n",
       "population         int64\n",
       "postal            object\n",
       "state_ap          object\n",
       "dtype: object"
      ]
     },
     "execution_count": 104,
     "metadata": {},
     "output_type": "execute_result"
    }
   ],
   "source": [
    "fips_merge.dtypes"
   ]
  },
  {
   "cell_type": "markdown",
   "metadata": {},
   "source": [
    "#### Merge geo with out voting counties"
   ]
  },
  {
   "cell_type": "code",
   "execution_count": 105,
   "metadata": {},
   "outputs": [],
   "source": [
    "lat_counties_geo = our_counties_geo.merge(fips_merge, on='geoid')"
   ]
  },
  {
   "cell_type": "code",
   "execution_count": 106,
   "metadata": {},
   "outputs": [],
   "source": [
    "lat_counties_geo['above_2018_rate'] = lat_counties_geo['rejected_pct'] > 1.42"
   ]
  },
  {
   "cell_type": "markdown",
   "metadata": {},
   "source": [
    "### Plot our counties"
   ]
  },
  {
   "cell_type": "code",
   "execution_count": 107,
   "metadata": {},
   "outputs": [],
   "source": [
    "lat_counties_geo.to_file('output/gis/lat_counties_geo.geojson', driver='GeoJSON')"
   ]
  },
  {
   "cell_type": "code",
   "execution_count": 108,
   "metadata": {},
   "outputs": [
    {
     "data": {
      "image/png": "[encoded data removed]",
      "text/plain": [
       "<Figure size 432x288 with 1 Axes>"
      ]
     },
     "metadata": {
      "needs_background": "light"
     },
     "output_type": "display_data"
    },
    {
     "data": {
      "image/png": "[encoded data removed]",
      "text/plain": [
       "<Figure size 432x288 with 1 Axes>"
      ]
     },
     "metadata": {
      "needs_background": "light"
     },
     "output_type": "display_data"
    },
    {
     "data": {
      "image/png": "[encoded data removed]",
      "text/plain": [
       "<Figure size 432x288 with 1 Axes>"
      ]
     },
     "metadata": {
      "needs_background": "light"
     },
     "output_type": "display_data"
    },
    {
     "data": {
      "image/png": "[encoded data removed]",
      "text/plain": [
       "<Figure size 432x288 with 1 Axes>"
      ]
     },
     "metadata": {
      "needs_background": "light"
     },
     "output_type": "display_data"
    },
    {
     "data": {
      "image/png": "[encoded data removed]",
      "text/plain": [
       "<Figure size 432x288 with 1 Axes>"
      ]
     },
     "metadata": {
      "needs_background": "light"
     },
     "output_type": "display_data"
    },
    {
     "data": {
      "image/png": "[encoded data removed]",
      "text/plain": [
       "<Figure size 432x288 with 1 Axes>"
      ]
     },
     "metadata": {
      "needs_background": "light"
     },
     "output_type": "display_data"
    }
   ],
   "source": [
    "for f in lat_counties_geo.statefp.unique():\n",
    "    lat_counties_geo[lat_counties_geo['statefp'] == f].plot()"
   ]
  },
  {
   "cell_type": "code",
   "execution_count": 109,
   "metadata": {},
   "outputs": [],
   "source": [
    "for f in lat_counties_geo.statefp.unique():\n",
    "    lat_counties_geo[lat_counties_geo['statefp'] == f].to_file('output/gis/' + f + '.geojson', driver='GeoJSON')"
   ]
  },
  {
   "cell_type": "code",
   "execution_count": null,
   "metadata": {},
   "outputs": [],
   "source": []
  },
  {
   "cell_type": "markdown",
   "metadata": {},
   "source": [
    "---"
   ]
  },
  {
   "cell_type": "code",
   "execution_count": null,
   "metadata": {},
   "outputs": [],
   "source": []
  },
  {
   "cell_type": "code",
   "execution_count": null,
   "metadata": {},
   "outputs": [],
   "source": []
  },
  {
   "cell_type": "code",
   "execution_count": 110,
   "metadata": {},
   "outputs": [],
   "source": [
    "ga_statewide = pd.read_csv('/Users/mhustiles/Desktop/STATEWIDE.csv', low_memory=False, encoding='Latin-1')"
   ]
  },
  {
   "cell_type": "code",
   "execution_count": 111,
   "metadata": {},
   "outputs": [
    {
     "data": {
      "text/html": [
       "<div>\n",
       "<style scoped>\n",
       "    .dataframe tbody tr th:only-of-type {\n",
       "        vertical-align: middle;\n",
       "    }\n",
       "\n",
       "    .dataframe tbody tr th {\n",
       "        vertical-align: top;\n",
       "    }\n",
       "\n",
       "    .dataframe thead th {\n",
       "        text-align: right;\n",
       "    }\n",
       "</style>\n",
       "<table border=\"1\" class=\"dataframe\">\n",
       "  <thead>\n",
       "    <tr style=\"text-align: right;\">\n",
       "      <th></th>\n",
       "      <th>County</th>\n",
       "      <th>Voter Registration #</th>\n",
       "      <th>Last Name</th>\n",
       "      <th>First Name</th>\n",
       "      <th>Middle Name</th>\n",
       "      <th>Suffix</th>\n",
       "      <th>Street #</th>\n",
       "      <th>Street Name</th>\n",
       "      <th>Apt/Unit</th>\n",
       "      <th>City</th>\n",
       "      <th>State</th>\n",
       "      <th>Zip Code</th>\n",
       "      <th>Mailing Street #</th>\n",
       "      <th>Mailing Street Name</th>\n",
       "      <th>Mailing Apt/Unit</th>\n",
       "      <th>Mailing City</th>\n",
       "      <th>Mailing State</th>\n",
       "      <th>Mailing Zip Code</th>\n",
       "      <th>Application Status</th>\n",
       "      <th>Ballot Status</th>\n",
       "      <th>Status Reason</th>\n",
       "      <th>Application Date</th>\n",
       "      <th>Ballot Issued Date</th>\n",
       "      <th>Ballot Return Date</th>\n",
       "      <th>Ballot Style</th>\n",
       "      <th>Ballot Assisted</th>\n",
       "      <th>Challenged/Provisional</th>\n",
       "      <th>ID Required</th>\n",
       "      <th>Municipal Precinct</th>\n",
       "      <th>County Precinct</th>\n",
       "      <th>CNG</th>\n",
       "      <th>SEN</th>\n",
       "      <th>HOUSE</th>\n",
       "      <th>JUD</th>\n",
       "      <th>Combo #</th>\n",
       "      <th>Vote Center ID</th>\n",
       "      <th>Ballot ID</th>\n",
       "      <th>Post #</th>\n",
       "      <th>Party</th>\n",
       "    </tr>\n",
       "  </thead>\n",
       "  <tbody>\n",
       "    <tr>\n",
       "      <th>0</th>\n",
       "      <td>APPLING</td>\n",
       "      <td>11467832</td>\n",
       "      <td>ABENDAN-DUBBERLY</td>\n",
       "      <td>JOSEFINA</td>\n",
       "      <td>CATHRYN</td>\n",
       "      <td>NaN</td>\n",
       "      <td>910</td>\n",
       "      <td>CLYDE MCCALL RD</td>\n",
       "      <td>NaN</td>\n",
       "      <td>BAXLEY</td>\n",
       "      <td>GA</td>\n",
       "      <td>31513</td>\n",
       "      <td>910</td>\n",
       "      <td>CLYDE MCCALL RD</td>\n",
       "      <td>NaN</td>\n",
       "      <td>BAXLEY</td>\n",
       "      <td>GA</td>\n",
       "      <td>31513-5741</td>\n",
       "      <td>A</td>\n",
       "      <td>A</td>\n",
       "      <td>NaN</td>\n",
       "      <td>10/14/2020</td>\n",
       "      <td>10/14/2020</td>\n",
       "      <td>10/14/2020</td>\n",
       "      <td>IN PERSON</td>\n",
       "      <td>NO</td>\n",
       "      <td>NO</td>\n",
       "      <td>NO</td>\n",
       "      <td>NaN</td>\n",
       "      <td>4B</td>\n",
       "      <td>12</td>\n",
       "      <td>19</td>\n",
       "      <td>178</td>\n",
       "      <td>BRUN</td>\n",
       "      <td>116</td>\n",
       "      <td>1021.0</td>\n",
       "      <td>972.0</td>\n",
       "      <td>3008.0</td>\n",
       "      <td>NaN</td>\n",
       "    </tr>\n",
       "    <tr>\n",
       "      <th>1</th>\n",
       "      <td>APPLING</td>\n",
       "      <td>6713908</td>\n",
       "      <td>ABRAMSON</td>\n",
       "      <td>ALFRED</td>\n",
       "      <td>FORBES</td>\n",
       "      <td>JR</td>\n",
       "      <td>285</td>\n",
       "      <td>CYPRESS DR</td>\n",
       "      <td>NaN</td>\n",
       "      <td>BAXLEY</td>\n",
       "      <td>GA</td>\n",
       "      <td>31513</td>\n",
       "      <td>285</td>\n",
       "      <td>CYPRESS DR</td>\n",
       "      <td>NaN</td>\n",
       "      <td>BAXLEY</td>\n",
       "      <td>GA</td>\n",
       "      <td>31513</td>\n",
       "      <td>A</td>\n",
       "      <td>A</td>\n",
       "      <td>NaN</td>\n",
       "      <td>04/06/2020</td>\n",
       "      <td>09/18/2020</td>\n",
       "      <td>09/25/2020</td>\n",
       "      <td>MAILED</td>\n",
       "      <td>NO</td>\n",
       "      <td>NO</td>\n",
       "      <td>NO</td>\n",
       "      <td>NaN</td>\n",
       "      <td>4D</td>\n",
       "      <td>12</td>\n",
       "      <td>19</td>\n",
       "      <td>178</td>\n",
       "      <td>BRUN</td>\n",
       "      <td>116</td>\n",
       "      <td>NaN</td>\n",
       "      <td>5.0</td>\n",
       "      <td>502.0</td>\n",
       "      <td>NaN</td>\n",
       "    </tr>\n",
       "    <tr>\n",
       "      <th>2</th>\n",
       "      <td>APPLING</td>\n",
       "      <td>6713917</td>\n",
       "      <td>ABRAMSON</td>\n",
       "      <td>ELEANOR</td>\n",
       "      <td>J</td>\n",
       "      <td>NaN</td>\n",
       "      <td>285</td>\n",
       "      <td>CYPRESS DR</td>\n",
       "      <td>NaN</td>\n",
       "      <td>BAXLEY</td>\n",
       "      <td>GA</td>\n",
       "      <td>31513-4491</td>\n",
       "      <td>285</td>\n",
       "      <td>CYPRESS DR</td>\n",
       "      <td>NaN</td>\n",
       "      <td>BAXLEY</td>\n",
       "      <td>GA</td>\n",
       "      <td>31513-4491</td>\n",
       "      <td>A</td>\n",
       "      <td>A</td>\n",
       "      <td>NaN</td>\n",
       "      <td>04/06/2020</td>\n",
       "      <td>09/18/2020</td>\n",
       "      <td>09/25/2020</td>\n",
       "      <td>MAILED</td>\n",
       "      <td>NO</td>\n",
       "      <td>NO</td>\n",
       "      <td>NO</td>\n",
       "      <td>NaN</td>\n",
       "      <td>4D</td>\n",
       "      <td>12</td>\n",
       "      <td>19</td>\n",
       "      <td>178</td>\n",
       "      <td>BRUN</td>\n",
       "      <td>116</td>\n",
       "      <td>NaN</td>\n",
       "      <td>4.0</td>\n",
       "      <td>499.0</td>\n",
       "      <td>NaN</td>\n",
       "    </tr>\n",
       "    <tr>\n",
       "      <th>3</th>\n",
       "      <td>APPLING</td>\n",
       "      <td>3540246</td>\n",
       "      <td>ACKER</td>\n",
       "      <td>STACY</td>\n",
       "      <td>LEIGH</td>\n",
       "      <td>NaN</td>\n",
       "      <td>3219</td>\n",
       "      <td>PINEY BLUFF RD</td>\n",
       "      <td>NaN</td>\n",
       "      <td>BAXLEY</td>\n",
       "      <td>GA</td>\n",
       "      <td>31513</td>\n",
       "      <td>3219</td>\n",
       "      <td>PINEY BLUFF RD</td>\n",
       "      <td>NaN</td>\n",
       "      <td>BAXLEY</td>\n",
       "      <td>GA</td>\n",
       "      <td>31513</td>\n",
       "      <td>A</td>\n",
       "      <td>A</td>\n",
       "      <td>NaN</td>\n",
       "      <td>10/27/2020</td>\n",
       "      <td>10/27/2020</td>\n",
       "      <td>10/27/2020</td>\n",
       "      <td>IN PERSON</td>\n",
       "      <td>NO</td>\n",
       "      <td>NO</td>\n",
       "      <td>NO</td>\n",
       "      <td>NaN</td>\n",
       "      <td>1B</td>\n",
       "      <td>12</td>\n",
       "      <td>19</td>\n",
       "      <td>156</td>\n",
       "      <td>BRUN</td>\n",
       "      <td>102</td>\n",
       "      <td>1021.0</td>\n",
       "      <td>3739.0</td>\n",
       "      <td>5918.0</td>\n",
       "      <td>NaN</td>\n",
       "    </tr>\n",
       "    <tr>\n",
       "      <th>4</th>\n",
       "      <td>APPLING</td>\n",
       "      <td>4506218</td>\n",
       "      <td>ADAIR</td>\n",
       "      <td>SHANNA</td>\n",
       "      <td>ELIZABETH</td>\n",
       "      <td>NaN</td>\n",
       "      <td>3861</td>\n",
       "      <td>KVILLE HWY</td>\n",
       "      <td>NaN</td>\n",
       "      <td>ODUM</td>\n",
       "      <td>GA</td>\n",
       "      <td>31555</td>\n",
       "      <td>3861</td>\n",
       "      <td>KVILLE HWY</td>\n",
       "      <td>NaN</td>\n",
       "      <td>ODUM</td>\n",
       "      <td>GA</td>\n",
       "      <td>31555</td>\n",
       "      <td>A</td>\n",
       "      <td>A</td>\n",
       "      <td>NaN</td>\n",
       "      <td>10/30/2020</td>\n",
       "      <td>10/30/2020</td>\n",
       "      <td>10/30/2020</td>\n",
       "      <td>IN PERSON</td>\n",
       "      <td>NO</td>\n",
       "      <td>NO</td>\n",
       "      <td>NO</td>\n",
       "      <td>NaN</td>\n",
       "      <td>4B</td>\n",
       "      <td>12</td>\n",
       "      <td>19</td>\n",
       "      <td>178</td>\n",
       "      <td>BRUN</td>\n",
       "      <td>116</td>\n",
       "      <td>1021.0</td>\n",
       "      <td>4606.0</td>\n",
       "      <td>6806.0</td>\n",
       "      <td>NaN</td>\n",
       "    </tr>\n",
       "  </tbody>\n",
       "</table>\n",
       "</div>"
      ],
      "text/plain": [
       "    County  Voter Registration #         Last Name First Name Middle Name  \\\n",
       "0  APPLING              11467832  ABENDAN-DUBBERLY   JOSEFINA     CATHRYN   \n",
       "1  APPLING               6713908          ABRAMSON     ALFRED      FORBES   \n",
       "2  APPLING               6713917          ABRAMSON    ELEANOR           J   \n",
       "3  APPLING               3540246             ACKER      STACY       LEIGH   \n",
       "4  APPLING               4506218             ADAIR     SHANNA   ELIZABETH   \n",
       "\n",
       "  Suffix Street #      Street Name Apt/Unit    City State    Zip Code  \\\n",
       "0    NaN      910  CLYDE MCCALL RD      NaN  BAXLEY    GA       31513   \n",
       "1     JR      285       CYPRESS DR      NaN  BAXLEY    GA       31513   \n",
       "2    NaN      285       CYPRESS DR      NaN  BAXLEY    GA  31513-4491   \n",
       "3    NaN     3219   PINEY BLUFF RD      NaN  BAXLEY    GA       31513   \n",
       "4    NaN     3861       KVILLE HWY      NaN    ODUM    GA       31555   \n",
       "\n",
       "  Mailing Street # Mailing Street Name Mailing Apt/Unit Mailing City  \\\n",
       "0              910     CLYDE MCCALL RD              NaN       BAXLEY   \n",
       "1              285          CYPRESS DR              NaN       BAXLEY   \n",
       "2              285          CYPRESS DR              NaN       BAXLEY   \n",
       "3             3219      PINEY BLUFF RD              NaN       BAXLEY   \n",
       "4             3861          KVILLE HWY              NaN         ODUM   \n",
       "\n",
       "  Mailing State Mailing Zip Code Application Status Ballot Status  \\\n",
       "0            GA       31513-5741                  A             A   \n",
       "1            GA            31513                  A             A   \n",
       "2            GA       31513-4491                  A             A   \n",
       "3            GA            31513                  A             A   \n",
       "4            GA            31555                  A             A   \n",
       "\n",
       "  Status Reason Application Date Ballot Issued Date Ballot Return Date  \\\n",
       "0           NaN       10/14/2020         10/14/2020         10/14/2020   \n",
       "1           NaN       04/06/2020         09/18/2020         09/25/2020   \n",
       "2           NaN       04/06/2020         09/18/2020         09/25/2020   \n",
       "3           NaN       10/27/2020         10/27/2020         10/27/2020   \n",
       "4           NaN       10/30/2020         10/30/2020         10/30/2020   \n",
       "\n",
       "  Ballot Style Ballot Assisted Challenged/Provisional ID Required  \\\n",
       "0    IN PERSON              NO                     NO          NO   \n",
       "1       MAILED              NO                     NO          NO   \n",
       "2       MAILED              NO                     NO          NO   \n",
       "3    IN PERSON              NO                     NO          NO   \n",
       "4    IN PERSON              NO                     NO          NO   \n",
       "\n",
       "  Municipal Precinct County Precinct  CNG  SEN  HOUSE   JUD  Combo #  \\\n",
       "0                NaN              4B   12   19    178  BRUN      116   \n",
       "1                NaN              4D   12   19    178  BRUN      116   \n",
       "2                NaN              4D   12   19    178  BRUN      116   \n",
       "3                NaN              1B   12   19    156  BRUN      102   \n",
       "4                NaN              4B   12   19    178  BRUN      116   \n",
       "\n",
       "   Vote Center ID  Ballot ID  Post #  Party  \n",
       "0          1021.0      972.0  3008.0    NaN  \n",
       "1             NaN        5.0   502.0    NaN  \n",
       "2             NaN        4.0   499.0    NaN  \n",
       "3          1021.0     3739.0  5918.0    NaN  \n",
       "4          1021.0     4606.0  6806.0    NaN  "
      ]
     },
     "execution_count": 111,
     "metadata": {},
     "output_type": "execute_result"
    }
   ],
   "source": [
    "ga_statewide.head()"
   ]
  },
  {
   "cell_type": "code",
   "execution_count": 112,
   "metadata": {},
   "outputs": [],
   "source": [
    "ga_status_c = ga_statewide[ga_statewide['Ballot Status'] == 'C']"
   ]
  },
  {
   "cell_type": "code",
   "execution_count": 113,
   "metadata": {},
   "outputs": [],
   "source": [
    "rejected = ga_statewide[ga_statewide['Ballot Status'] == 'R']"
   ]
  },
  {
   "cell_type": "code",
   "execution_count": 114,
   "metadata": {},
   "outputs": [
    {
     "data": {
      "text/plain": [
       "3168"
      ]
     },
     "execution_count": 114,
     "metadata": {},
     "output_type": "execute_result"
    }
   ],
   "source": [
    "len(rejected)"
   ]
  },
  {
   "cell_type": "code",
   "execution_count": 115,
   "metadata": {},
   "outputs": [
    {
     "data": {
      "text/plain": [
       "Ballot Received after Deadline    1761\n",
       "Missing Signature                  947\n",
       "Invalid Signature                  423\n",
       "MIDR - ID not Provided              22\n",
       "Ineligible Elector                  15\n",
       "Name: Status Reason, dtype: int64"
      ]
     },
     "execution_count": 115,
     "metadata": {},
     "output_type": "execute_result"
    }
   ],
   "source": [
    "rejected['Status Reason'].value_counts()"
   ]
  },
  {
   "cell_type": "code",
   "execution_count": 116,
   "metadata": {},
   "outputs": [],
   "source": [
    "rejected.to_csv('output/ga_rejected.csv', index=False)"
   ]
  },
  {
   "cell_type": "code",
   "execution_count": null,
   "metadata": {},
   "outputs": [],
   "source": []
  }
 ],
 "metadata": {
  "kernelspec": {
   "display_name": "Python 3",
   "language": "python",
   "name": "python3"
  },
  "language_info": {
   "codemirror_mode": {
    "name": "ipython",
    "version": 3
   },
   "file_extension": ".py",
   "mimetype": "text/x-python",
   "name": "python",
   "nbconvert_exporter": "python",
   "pygments_lexer": "ipython3",
   "version": "3.7.4"
  }
 },
 "nbformat": 4,
 "nbformat_minor": 4
}
