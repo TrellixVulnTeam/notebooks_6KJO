{
 "cells": [
  {
   "cell_type": "markdown",
   "metadata": {},
   "source": [
    "# Outstanding ballots in CA"
   ]
  },
  {
   "cell_type": "code",
   "execution_count": 1,
   "metadata": {},
   "outputs": [],
   "source": [
    "import pandas as pd\n",
    "import geopandas as gpd\n",
    "from altair_saver import save\n",
    "import altair as alt\n",
    "import altair_latimes as lat\n",
    "alt.themes.register(\"latimes\", lat.theme)\n",
    "alt.themes.enable(\"latimes\")\n",
    "pd.options.display.max_columns = 50\n",
    "pd.options.display.max_rows = 34000\n",
    "pd.set_option('display.max_colwidth', None)"
   ]
  },
  {
   "cell_type": "markdown",
   "metadata": {},
   "source": [
    "### What day is it? "
   ]
  },
  {
   "cell_type": "code",
   "execution_count": 2,
   "metadata": {},
   "outputs": [],
   "source": [
    "now = pd.Timestamp('today')"
   ]
  },
  {
   "cell_type": "markdown",
   "metadata": {},
   "source": [
    "### Define our metro area"
   ]
  },
  {
   "cell_type": "code",
   "execution_count": 3,
   "metadata": {},
   "outputs": [],
   "source": [
    "socal = [ 'Riverside','Los Angeles','Ventura','San Bernardino','Orange' ]"
   ]
  },
  {
   "cell_type": "markdown",
   "metadata": {},
   "source": [
    "---"
   ]
  },
  {
   "cell_type": "code",
   "execution_count": 4,
   "metadata": {},
   "outputs": [],
   "source": [
    "### VBM vs. vote centers in LA County"
   ]
  },
  {
   "cell_type": "code",
   "execution_count": 5,
   "metadata": {},
   "outputs": [],
   "source": [
    "la_url = 'https://results.lavote.net/text-results/4193'"
   ]
  },
  {
   "cell_type": "code",
   "execution_count": 6,
   "metadata": {},
   "outputs": [],
   "source": [
    "la_tables = pd.read_html(la_url)"
   ]
  },
  {
   "cell_type": "code",
   "execution_count": 7,
   "metadata": {},
   "outputs": [],
   "source": [
    "la_vote = la_tables[1]"
   ]
  },
  {
   "cell_type": "code",
   "execution_count": 8,
   "metadata": {},
   "outputs": [],
   "source": [
    "la_vote = la_vote.rename(columns={ 'Statistic':'statistic', 'Count':'count', 'Percent':'pct' })"
   ]
  },
  {
   "cell_type": "code",
   "execution_count": 9,
   "metadata": {},
   "outputs": [],
   "source": [
    "la_vote['pct'] = la_vote['pct'].str.replace('%','').astype(float)"
   ]
  },
  {
   "cell_type": "code",
   "execution_count": 10,
   "metadata": {},
   "outputs": [],
   "source": [
    "la_vote['count'] = la_vote['count'].astype(int)"
   ]
  },
  {
   "cell_type": "code",
   "execution_count": 11,
   "metadata": {},
   "outputs": [],
   "source": [
    "la_vote['statistic'] = la_vote['statistic'].str.replace(' Ballots','')"
   ]
  },
  {
   "cell_type": "code",
   "execution_count": 12,
   "metadata": {},
   "outputs": [],
   "source": [
    "la_vote.to_csv('output/la_county_ballot_breakdown.csv', index=False)"
   ]
  },
  {
   "cell_type": "markdown",
   "metadata": {},
   "source": [
    "---"
   ]
  },
  {
   "cell_type": "markdown",
   "metadata": {},
   "source": [
    "### Get latest results from Secretary of State"
   ]
  },
  {
   "cell_type": "code",
   "execution_count": 13,
   "metadata": {},
   "outputs": [],
   "source": [
    "url = 'https://electionresults.sos.ca.gov/returns/status'"
   ]
  },
  {
   "cell_type": "code",
   "execution_count": 14,
   "metadata": {},
   "outputs": [],
   "source": [
    "tables = pd.read_html(url, parse_dates=True)"
   ]
  },
  {
   "cell_type": "markdown",
   "metadata": {},
   "source": [
    "### Clean up results"
   ]
  },
  {
   "cell_type": "code",
   "execution_count": 15,
   "metadata": {},
   "outputs": [],
   "source": [
    "results_src = tables[0].drop([58,59], axis=0)"
   ]
  },
  {
   "cell_type": "code",
   "execution_count": 16,
   "metadata": {},
   "outputs": [],
   "source": [
    "results = results_src.rename(columns={'County Name':'county', 'TotalPrecincts':'total_pcts','PrecinctsPartiallyReporting *':'precincts_partially','% PartiallyReporting **':'reporting_pct',\\\n",
    "                            'RegisteredVoters':'voters', 'Ballots Cast':'ballots_cast','% Turnout ***':'turnout_pct','FirstReportDate-Time':'first_report','Last Report Date-Time':'last_report','ReportType****':'report_type'})"
   ]
  },
  {
   "cell_type": "code",
   "execution_count": 17,
   "metadata": {},
   "outputs": [],
   "source": [
    "results.reporting_pct = results.reporting_pct.str.replace('%', '', regex=False)"
   ]
  },
  {
   "cell_type": "code",
   "execution_count": 18,
   "metadata": {},
   "outputs": [],
   "source": [
    "results.turnout_pct = results.turnout_pct.str.replace('%', '', regex=False)"
   ]
  },
  {
   "cell_type": "code",
   "execution_count": 19,
   "metadata": {},
   "outputs": [],
   "source": [
    "results[['total_pcts', 'precincts_partially', 'voters', 'ballots_cast', 'turnout_pct']] = \\\n",
    "results[['total_pcts', 'precincts_partially', 'voters', 'ballots_cast', 'turnout_pct']].astype(int)"
   ]
  },
  {
   "cell_type": "markdown",
   "metadata": {},
   "source": [
    "### Results in our counties"
   ]
  },
  {
   "cell_type": "code",
   "execution_count": 20,
   "metadata": {},
   "outputs": [],
   "source": [
    "socal_results = results[results['county'].isin(socal)]"
   ]
  },
  {
   "cell_type": "code",
   "execution_count": 21,
   "metadata": {},
   "outputs": [
    {
     "data": {
      "text/html": [
       "<div>\n",
       "<style scoped>\n",
       "    .dataframe tbody tr th:only-of-type {\n",
       "        vertical-align: middle;\n",
       "    }\n",
       "\n",
       "    .dataframe tbody tr th {\n",
       "        vertical-align: top;\n",
       "    }\n",
       "\n",
       "    .dataframe thead th {\n",
       "        text-align: right;\n",
       "    }\n",
       "</style>\n",
       "<table border=\"1\" class=\"dataframe\">\n",
       "  <thead>\n",
       "    <tr style=\"text-align: right;\">\n",
       "      <th></th>\n",
       "      <th>county</th>\n",
       "      <th>total_pcts</th>\n",
       "      <th>precincts_partially</th>\n",
       "      <th>reporting_pct</th>\n",
       "      <th>voters</th>\n",
       "      <th>ballots_cast</th>\n",
       "      <th>turnout_pct</th>\n",
       "      <th>first_report</th>\n",
       "      <th>last_report</th>\n",
       "      <th>report_type</th>\n",
       "    </tr>\n",
       "  </thead>\n",
       "  <tbody>\n",
       "    <tr>\n",
       "      <th>18</th>\n",
       "      <td>Los Angeles</td>\n",
       "      <td>3383</td>\n",
       "      <td>3383</td>\n",
       "      <td>100.0</td>\n",
       "      <td>5813333</td>\n",
       "      <td>4211649</td>\n",
       "      <td>72</td>\n",
       "      <td>Nov 38:21 p.m.</td>\n",
       "      <td>Nov 104:02 p.m.</td>\n",
       "      <td>U</td>\n",
       "    </tr>\n",
       "    <tr>\n",
       "      <th>29</th>\n",
       "      <td>Orange</td>\n",
       "      <td>1795</td>\n",
       "      <td>1795</td>\n",
       "      <td>100.0</td>\n",
       "      <td>1772700</td>\n",
       "      <td>1527434</td>\n",
       "      <td>86</td>\n",
       "      <td>Nov 38:33 p.m.</td>\n",
       "      <td>Nov 115:09 p.m.</td>\n",
       "      <td>U</td>\n",
       "    </tr>\n",
       "    <tr>\n",
       "      <th>32</th>\n",
       "      <td>Riverside</td>\n",
       "      <td>864</td>\n",
       "      <td>864</td>\n",
       "      <td>100.0</td>\n",
       "      <td>1241552</td>\n",
       "      <td>730679</td>\n",
       "      <td>58</td>\n",
       "      <td>Nov 38:47 p.m.</td>\n",
       "      <td>Nov 116:11 p.m.</td>\n",
       "      <td>U</td>\n",
       "    </tr>\n",
       "    <tr>\n",
       "      <th>35</th>\n",
       "      <td>San Bernardino</td>\n",
       "      <td>2327</td>\n",
       "      <td>2327</td>\n",
       "      <td>100.0</td>\n",
       "      <td>1102687</td>\n",
       "      <td>684692</td>\n",
       "      <td>62</td>\n",
       "      <td>Nov 310:07 p.m.</td>\n",
       "      <td>Nov 104:06 p.m.</td>\n",
       "      <td>U</td>\n",
       "    </tr>\n",
       "    <tr>\n",
       "      <th>55</th>\n",
       "      <td>Ventura</td>\n",
       "      <td>695</td>\n",
       "      <td>695</td>\n",
       "      <td>100.0</td>\n",
       "      <td>500442</td>\n",
       "      <td>424161</td>\n",
       "      <td>84</td>\n",
       "      <td>Nov 38:31 p.m.</td>\n",
       "      <td>Nov 104:09 p.m.</td>\n",
       "      <td>U</td>\n",
       "    </tr>\n",
       "  </tbody>\n",
       "</table>\n",
       "</div>"
      ],
      "text/plain": [
       "            county  total_pcts  precincts_partially reporting_pct   voters  \\\n",
       "18     Los Angeles        3383                 3383         100.0  5813333   \n",
       "29          Orange        1795                 1795         100.0  1772700   \n",
       "32       Riverside         864                  864         100.0  1241552   \n",
       "35  San Bernardino        2327                 2327         100.0  1102687   \n",
       "55         Ventura         695                  695         100.0   500442   \n",
       "\n",
       "    ballots_cast  turnout_pct     first_report      last_report report_type  \n",
       "18       4211649           72   Nov 38:21 p.m.  Nov 104:02 p.m.           U  \n",
       "29       1527434           86   Nov 38:33 p.m.  Nov 115:09 p.m.           U  \n",
       "32        730679           58   Nov 38:47 p.m.  Nov 116:11 p.m.           U  \n",
       "35        684692           62  Nov 310:07 p.m.  Nov 104:06 p.m.           U  \n",
       "55        424161           84   Nov 38:31 p.m.  Nov 104:09 p.m.           U  "
      ]
     },
     "execution_count": 21,
     "metadata": {},
     "output_type": "execute_result"
    }
   ],
   "source": [
    "socal_results.head()"
   ]
  },
  {
   "cell_type": "markdown",
   "metadata": {},
   "source": [
    "### Turnout (so far) in SoCal"
   ]
  },
  {
   "cell_type": "code",
   "execution_count": 22,
   "metadata": {},
   "outputs": [
    {
     "data": {
      "text/plain": [
       "72.66"
      ]
     },
     "execution_count": 22,
     "metadata": {},
     "output_type": "execute_result"
    }
   ],
   "source": [
    "round(socal_results.ballots_cast.sum() / socal_results.voters.sum()*100,2)"
   ]
  },
  {
   "cell_type": "markdown",
   "metadata": {},
   "source": [
    "---"
   ]
  },
  {
   "cell_type": "markdown",
   "metadata": {},
   "source": [
    "### Download latest outstanding ballots report from Secretary of State"
   ]
  },
  {
   "cell_type": "code",
   "execution_count": 23,
   "metadata": {},
   "outputs": [
    {
     "name": "stdout",
     "output_type": "stream",
     "text": [
      "--2020-11-12 08:49:13--  https://elections.cdn.sos.ca.gov/statewide-elections/2020-general/unprocessed-ballots-report.pdf\n",
      "Resolving elections.cdn.sos.ca.gov (elections.cdn.sos.ca.gov)... 204.147.113.115\n",
      "Connecting to elections.cdn.sos.ca.gov (elections.cdn.sos.ca.gov)|204.147.113.115|:443... connected.\n",
      "HTTP request sent, awaiting response... 200 OK\n",
      "Length: 117519 (115K) [application/pdf]\n",
      "Saving to: ‘input/unprocessed-ballots-report.pdf’\n",
      "\n",
      "input/unprocessed-b 100%[===================>] 114.76K  --.-KB/s    in 0.09s   \n",
      "\n",
      "2020-11-12 08:49:13 (1.22 MB/s) - ‘input/unprocessed-ballots-report.pdf’ saved [117519/117519]\n",
      "\n"
     ]
    }
   ],
   "source": [
    "!wget 'https://elections.cdn.sos.ca.gov/statewide-elections/2020-general/unprocessed-ballots-report.pdf' -F -O input/unprocessed-ballots-report.pdf"
   ]
  },
  {
   "cell_type": "markdown",
   "metadata": {},
   "source": [
    "### Export text from PDF and read into dataframe"
   ]
  },
  {
   "cell_type": "code",
   "execution_count": 24,
   "metadata": {},
   "outputs": [],
   "source": [
    "!PDFtoText -layout 'input/unprocessed-ballots-report.pdf'"
   ]
  },
  {
   "cell_type": "code",
   "execution_count": 25,
   "metadata": {},
   "outputs": [],
   "source": [
    "src = pd.read_fwf('input/unprocessed-ballots-report.txt', skiprows=6, skipfooter=7, infer_nrows=60, header=None).dropna(axis=1)"
   ]
  },
  {
   "cell_type": "markdown",
   "metadata": {},
   "source": [
    "### When was this updated? "
   ]
  },
  {
   "cell_type": "code",
   "execution_count": 26,
   "metadata": {},
   "outputs": [],
   "source": [
    "updated_date = pd.read_fwf('input/unprocessed-ballots-report.txt', skiprows=69, skipfooter=1, header=None, infer_nrows=3)"
   ]
  },
  {
   "cell_type": "code",
   "execution_count": 27,
   "metadata": {},
   "outputs": [],
   "source": [
    "updated = updated_date.drop([0,1,4], axis=1).rename(columns={2:'date', 3:'time'})"
   ]
  },
  {
   "cell_type": "code",
   "execution_count": 28,
   "metadata": {},
   "outputs": [
    {
     "data": {
      "text/html": [
       "<div>\n",
       "<style scoped>\n",
       "    .dataframe tbody tr th:only-of-type {\n",
       "        vertical-align: middle;\n",
       "    }\n",
       "\n",
       "    .dataframe tbody tr th {\n",
       "        vertical-align: top;\n",
       "    }\n",
       "\n",
       "    .dataframe thead th {\n",
       "        text-align: right;\n",
       "    }\n",
       "</style>\n",
       "<table border=\"1\" class=\"dataframe\">\n",
       "  <thead>\n",
       "    <tr style=\"text-align: right;\">\n",
       "      <th></th>\n",
       "      <th>date</th>\n",
       "      <th>time</th>\n",
       "    </tr>\n",
       "  </thead>\n",
       "  <tbody>\n",
       "    <tr>\n",
       "      <th>0</th>\n",
       "      <td>11/10/20</td>\n",
       "      <td>6:00</td>\n",
       "    </tr>\n",
       "  </tbody>\n",
       "</table>\n",
       "</div>"
      ],
      "text/plain": [
       "       date  time\n",
       "0  11/10/20  6:00"
      ]
     },
     "execution_count": 28,
     "metadata": {},
     "output_type": "execute_result"
    }
   ],
   "source": [
    "updated"
   ]
  },
  {
   "cell_type": "markdown",
   "metadata": {},
   "source": [
    "---"
   ]
  },
  {
   "cell_type": "markdown",
   "metadata": {},
   "source": [
    "### Clean up headers, parse columns"
   ]
  },
  {
   "cell_type": "code",
   "execution_count": 29,
   "metadata": {},
   "outputs": [],
   "source": [
    "outstanding = src.rename(columns={0:'county', 1:'mail_out',4:'provisional_out',7:'cond_prov_out',8:'other_out',11:'total_out', 13:'updated'})"
   ]
  },
  {
   "cell_type": "code",
   "execution_count": 30,
   "metadata": {},
   "outputs": [],
   "source": [
    "outstanding.county = outstanding.county.str.replace('**', '', regex=False)"
   ]
  },
  {
   "cell_type": "code",
   "execution_count": 31,
   "metadata": {},
   "outputs": [],
   "source": [
    "str_cols = ['mail_out','provisional_out','cond_prov_out','other_out','total_out']\n",
    "outstanding[str_cols] = outstanding[str_cols].replace(',', '', regex=True)"
   ]
  },
  {
   "cell_type": "code",
   "execution_count": 32,
   "metadata": {},
   "outputs": [],
   "source": [
    "outstanding[str_cols] = outstanding[str_cols].astype(int)"
   ]
  },
  {
   "cell_type": "code",
   "execution_count": 33,
   "metadata": {},
   "outputs": [],
   "source": [
    "outstanding.updated = pd.to_datetime(outstanding.updated)"
   ]
  },
  {
   "cell_type": "markdown",
   "metadata": {},
   "source": [
    "### Outstanding in SoCal"
   ]
  },
  {
   "cell_type": "code",
   "execution_count": 34,
   "metadata": {},
   "outputs": [
    {
     "data": {
      "text/html": [
       "<div>\n",
       "<style scoped>\n",
       "    .dataframe tbody tr th:only-of-type {\n",
       "        vertical-align: middle;\n",
       "    }\n",
       "\n",
       "    .dataframe tbody tr th {\n",
       "        vertical-align: top;\n",
       "    }\n",
       "\n",
       "    .dataframe thead th {\n",
       "        text-align: right;\n",
       "    }\n",
       "</style>\n",
       "<table border=\"1\" class=\"dataframe\">\n",
       "  <thead>\n",
       "    <tr style=\"text-align: right;\">\n",
       "      <th></th>\n",
       "      <th>county</th>\n",
       "      <th>mail_out</th>\n",
       "      <th>provisional_out</th>\n",
       "      <th>cond_prov_out</th>\n",
       "      <th>other_out</th>\n",
       "      <th>total_out</th>\n",
       "      <th>updated</th>\n",
       "    </tr>\n",
       "  </thead>\n",
       "  <tbody>\n",
       "    <tr>\n",
       "      <th>18</th>\n",
       "      <td>Los Angeles</td>\n",
       "      <td>69485</td>\n",
       "      <td>1550</td>\n",
       "      <td>65680</td>\n",
       "      <td>6000</td>\n",
       "      <td>142715</td>\n",
       "      <td>2020-11-10 16:02:00</td>\n",
       "    </tr>\n",
       "    <tr>\n",
       "      <th>29</th>\n",
       "      <td>Orange</td>\n",
       "      <td>4731</td>\n",
       "      <td>0</td>\n",
       "      <td>21140</td>\n",
       "      <td>1826</td>\n",
       "      <td>27697</td>\n",
       "      <td>2020-11-09 17:30:00</td>\n",
       "    </tr>\n",
       "    <tr>\n",
       "      <th>32</th>\n",
       "      <td>Riverside</td>\n",
       "      <td>215000</td>\n",
       "      <td>0</td>\n",
       "      <td>25000</td>\n",
       "      <td>0</td>\n",
       "      <td>240000</td>\n",
       "      <td>2020-11-09 17:44:00</td>\n",
       "    </tr>\n",
       "    <tr>\n",
       "      <th>35</th>\n",
       "      <td>San Bernardino</td>\n",
       "      <td>156000</td>\n",
       "      <td>19000</td>\n",
       "      <td>0</td>\n",
       "      <td>1300</td>\n",
       "      <td>176300</td>\n",
       "      <td>2020-11-10 16:06:00</td>\n",
       "    </tr>\n",
       "    <tr>\n",
       "      <th>55</th>\n",
       "      <td>Ventura</td>\n",
       "      <td>300</td>\n",
       "      <td>350</td>\n",
       "      <td>1000</td>\n",
       "      <td>3773</td>\n",
       "      <td>5423</td>\n",
       "      <td>2020-11-10 16:09:00</td>\n",
       "    </tr>\n",
       "  </tbody>\n",
       "</table>\n",
       "</div>"
      ],
      "text/plain": [
       "            county  mail_out  provisional_out  cond_prov_out  other_out  \\\n",
       "18     Los Angeles     69485             1550          65680       6000   \n",
       "29          Orange      4731                0          21140       1826   \n",
       "32       Riverside    215000                0          25000          0   \n",
       "35  San Bernardino    156000            19000              0       1300   \n",
       "55         Ventura       300              350           1000       3773   \n",
       "\n",
       "    total_out             updated  \n",
       "18     142715 2020-11-10 16:02:00  \n",
       "29      27697 2020-11-09 17:30:00  \n",
       "32     240000 2020-11-09 17:44:00  \n",
       "35     176300 2020-11-10 16:06:00  \n",
       "55       5423 2020-11-10 16:09:00  "
      ]
     },
     "execution_count": 34,
     "metadata": {},
     "output_type": "execute_result"
    }
   ],
   "source": [
    "outstanding[outstanding['county'].isin(socal)]"
   ]
  },
  {
   "cell_type": "markdown",
   "metadata": {},
   "source": [
    "### Export to csv"
   ]
  },
  {
   "cell_type": "code",
   "execution_count": 35,
   "metadata": {},
   "outputs": [],
   "source": [
    "outstanding.to_csv('output/outstanding/' + f'counties_outstanding_ballots_{now:%m%d%Y_%H:%M}.csv', index=False)\n",
    "results.to_csv('output/results/' + f'results_{now:%m%d%Y_%H:%M}.csv', index=False)"
   ]
  },
  {
   "cell_type": "markdown",
   "metadata": {},
   "source": [
    "### Merge outstanding ballots with current results"
   ]
  },
  {
   "cell_type": "code",
   "execution_count": 36,
   "metadata": {},
   "outputs": [],
   "source": [
    "ballots = results.merge(outstanding, on='county')"
   ]
  },
  {
   "cell_type": "code",
   "execution_count": 37,
   "metadata": {},
   "outputs": [
    {
     "data": {
      "text/plain": [
       "58"
      ]
     },
     "execution_count": 37,
     "metadata": {},
     "output_type": "execute_result"
    }
   ],
   "source": [
    "len(ballots)"
   ]
  },
  {
   "cell_type": "code",
   "execution_count": 38,
   "metadata": {},
   "outputs": [
    {
     "data": {
      "text/html": [
       "<div>\n",
       "<style scoped>\n",
       "    .dataframe tbody tr th:only-of-type {\n",
       "        vertical-align: middle;\n",
       "    }\n",
       "\n",
       "    .dataframe tbody tr th {\n",
       "        vertical-align: top;\n",
       "    }\n",
       "\n",
       "    .dataframe thead th {\n",
       "        text-align: right;\n",
       "    }\n",
       "</style>\n",
       "<table border=\"1\" class=\"dataframe\">\n",
       "  <thead>\n",
       "    <tr style=\"text-align: right;\">\n",
       "      <th></th>\n",
       "      <th>county</th>\n",
       "      <th>total_pcts</th>\n",
       "      <th>precincts_partially</th>\n",
       "      <th>reporting_pct</th>\n",
       "      <th>voters</th>\n",
       "      <th>ballots_cast</th>\n",
       "      <th>turnout_pct</th>\n",
       "      <th>first_report</th>\n",
       "      <th>last_report</th>\n",
       "      <th>report_type</th>\n",
       "      <th>mail_out</th>\n",
       "      <th>provisional_out</th>\n",
       "      <th>cond_prov_out</th>\n",
       "      <th>other_out</th>\n",
       "      <th>total_out</th>\n",
       "      <th>updated</th>\n",
       "    </tr>\n",
       "  </thead>\n",
       "  <tbody>\n",
       "    <tr>\n",
       "      <th>0</th>\n",
       "      <td>Alameda</td>\n",
       "      <td>521</td>\n",
       "      <td>521</td>\n",
       "      <td>100.0</td>\n",
       "      <td>966809</td>\n",
       "      <td>765025</td>\n",
       "      <td>79</td>\n",
       "      <td>Nov 38:21 p.m.</td>\n",
       "      <td>Nov 104:56 p.m.</td>\n",
       "      <td>U</td>\n",
       "      <td>9353</td>\n",
       "      <td>0</td>\n",
       "      <td>100</td>\n",
       "      <td>0</td>\n",
       "      <td>9453</td>\n",
       "      <td>2020-11-10 16:56:00</td>\n",
       "    </tr>\n",
       "    <tr>\n",
       "      <th>1</th>\n",
       "      <td>Alpine</td>\n",
       "      <td>5</td>\n",
       "      <td>5</td>\n",
       "      <td>100.0</td>\n",
       "      <td>869</td>\n",
       "      <td>739</td>\n",
       "      <td>85</td>\n",
       "      <td>Nov 39:14 p.m.</td>\n",
       "      <td>Nov 311:11 p.m.</td>\n",
       "      <td>SF</td>\n",
       "      <td>8</td>\n",
       "      <td>0</td>\n",
       "      <td>0</td>\n",
       "      <td>2</td>\n",
       "      <td>10</td>\n",
       "      <td>2020-11-03 23:11:00</td>\n",
       "    </tr>\n",
       "    <tr>\n",
       "      <th>2</th>\n",
       "      <td>Amador</td>\n",
       "      <td>30</td>\n",
       "      <td>30</td>\n",
       "      <td>100.0</td>\n",
       "      <td>25605</td>\n",
       "      <td>22601</td>\n",
       "      <td>88</td>\n",
       "      <td>Nov 38:17 p.m.</td>\n",
       "      <td>Nov 101:29 p.m.</td>\n",
       "      <td>U</td>\n",
       "      <td>0</td>\n",
       "      <td>0</td>\n",
       "      <td>0</td>\n",
       "      <td>79</td>\n",
       "      <td>79</td>\n",
       "      <td>2020-11-10 13:29:00</td>\n",
       "    </tr>\n",
       "    <tr>\n",
       "      <th>3</th>\n",
       "      <td>Butte</td>\n",
       "      <td>157</td>\n",
       "      <td>157</td>\n",
       "      <td>100.0</td>\n",
       "      <td>124793</td>\n",
       "      <td>101342</td>\n",
       "      <td>81</td>\n",
       "      <td>Nov 38:42 p.m.</td>\n",
       "      <td>Nov 94:49 p.m.</td>\n",
       "      <td>U</td>\n",
       "      <td>40</td>\n",
       "      <td>400</td>\n",
       "      <td>1640</td>\n",
       "      <td>0</td>\n",
       "      <td>2080</td>\n",
       "      <td>2020-11-09 16:49:00</td>\n",
       "    </tr>\n",
       "    <tr>\n",
       "      <th>4</th>\n",
       "      <td>Calaveras</td>\n",
       "      <td>29</td>\n",
       "      <td>29</td>\n",
       "      <td>100.0</td>\n",
       "      <td>31364</td>\n",
       "      <td>27070</td>\n",
       "      <td>86</td>\n",
       "      <td>Nov 39:17 p.m.</td>\n",
       "      <td>Nov 93:04 p.m.</td>\n",
       "      <td>U</td>\n",
       "      <td>59</td>\n",
       "      <td>23</td>\n",
       "      <td>32</td>\n",
       "      <td>375</td>\n",
       "      <td>489</td>\n",
       "      <td>2020-11-09 15:04:00</td>\n",
       "    </tr>\n",
       "  </tbody>\n",
       "</table>\n",
       "</div>"
      ],
      "text/plain": [
       "      county  total_pcts  precincts_partially reporting_pct  voters  \\\n",
       "0    Alameda         521                  521         100.0  966809   \n",
       "1     Alpine           5                    5         100.0     869   \n",
       "2     Amador          30                   30         100.0   25605   \n",
       "3      Butte         157                  157         100.0  124793   \n",
       "4  Calaveras          29                   29         100.0   31364   \n",
       "\n",
       "   ballots_cast  turnout_pct    first_report      last_report report_type  \\\n",
       "0        765025           79  Nov 38:21 p.m.  Nov 104:56 p.m.           U   \n",
       "1           739           85  Nov 39:14 p.m.  Nov 311:11 p.m.          SF   \n",
       "2         22601           88  Nov 38:17 p.m.  Nov 101:29 p.m.           U   \n",
       "3        101342           81  Nov 38:42 p.m.   Nov 94:49 p.m.           U   \n",
       "4         27070           86  Nov 39:17 p.m.   Nov 93:04 p.m.           U   \n",
       "\n",
       "   mail_out  provisional_out  cond_prov_out  other_out  total_out  \\\n",
       "0      9353                0            100          0       9453   \n",
       "1         8                0              0          2         10   \n",
       "2         0                0              0         79         79   \n",
       "3        40              400           1640          0       2080   \n",
       "4        59               23             32        375        489   \n",
       "\n",
       "              updated  \n",
       "0 2020-11-10 16:56:00  \n",
       "1 2020-11-03 23:11:00  \n",
       "2 2020-11-10 13:29:00  \n",
       "3 2020-11-09 16:49:00  \n",
       "4 2020-11-09 15:04:00  "
      ]
     },
     "execution_count": 38,
     "metadata": {},
     "output_type": "execute_result"
    }
   ],
   "source": [
    "ballots.head()"
   ]
  },
  {
   "cell_type": "markdown",
   "metadata": {},
   "source": [
    "### Votes left to count as a percentage of all registered voters"
   ]
  },
  {
   "cell_type": "code",
   "execution_count": 39,
   "metadata": {},
   "outputs": [],
   "source": [
    "ballots['out_rate'] = round((ballots.mail_out / ballots.voters)*100,2)"
   ]
  },
  {
   "cell_type": "code",
   "execution_count": 40,
   "metadata": {},
   "outputs": [],
   "source": [
    "ballots_slim = ballots[[ 'county', 'voters', 'ballots_cast', 'turnout_pct', 'mail_out', 'total_out', 'out_rate' ]]"
   ]
  },
  {
   "cell_type": "code",
   "execution_count": 41,
   "metadata": {},
   "outputs": [
    {
     "data": {
      "text/html": [
       "<div>\n",
       "<style scoped>\n",
       "    .dataframe tbody tr th:only-of-type {\n",
       "        vertical-align: middle;\n",
       "    }\n",
       "\n",
       "    .dataframe tbody tr th {\n",
       "        vertical-align: top;\n",
       "    }\n",
       "\n",
       "    .dataframe thead th {\n",
       "        text-align: right;\n",
       "    }\n",
       "</style>\n",
       "<table border=\"1\" class=\"dataframe\">\n",
       "  <thead>\n",
       "    <tr style=\"text-align: right;\">\n",
       "      <th></th>\n",
       "      <th>county</th>\n",
       "      <th>voters</th>\n",
       "      <th>ballots_cast</th>\n",
       "      <th>turnout_pct</th>\n",
       "      <th>mail_out</th>\n",
       "      <th>total_out</th>\n",
       "      <th>out_rate</th>\n",
       "    </tr>\n",
       "  </thead>\n",
       "  <tbody>\n",
       "    <tr>\n",
       "      <th>0</th>\n",
       "      <td>Alameda</td>\n",
       "      <td>966809</td>\n",
       "      <td>765025</td>\n",
       "      <td>79</td>\n",
       "      <td>9353</td>\n",
       "      <td>9453</td>\n",
       "      <td>0.97</td>\n",
       "    </tr>\n",
       "    <tr>\n",
       "      <th>1</th>\n",
       "      <td>Alpine</td>\n",
       "      <td>869</td>\n",
       "      <td>739</td>\n",
       "      <td>85</td>\n",
       "      <td>8</td>\n",
       "      <td>10</td>\n",
       "      <td>0.92</td>\n",
       "    </tr>\n",
       "    <tr>\n",
       "      <th>2</th>\n",
       "      <td>Amador</td>\n",
       "      <td>25605</td>\n",
       "      <td>22601</td>\n",
       "      <td>88</td>\n",
       "      <td>0</td>\n",
       "      <td>79</td>\n",
       "      <td>0.00</td>\n",
       "    </tr>\n",
       "    <tr>\n",
       "      <th>3</th>\n",
       "      <td>Butte</td>\n",
       "      <td>124793</td>\n",
       "      <td>101342</td>\n",
       "      <td>81</td>\n",
       "      <td>40</td>\n",
       "      <td>2080</td>\n",
       "      <td>0.03</td>\n",
       "    </tr>\n",
       "    <tr>\n",
       "      <th>4</th>\n",
       "      <td>Calaveras</td>\n",
       "      <td>31364</td>\n",
       "      <td>27070</td>\n",
       "      <td>86</td>\n",
       "      <td>59</td>\n",
       "      <td>489</td>\n",
       "      <td>0.19</td>\n",
       "    </tr>\n",
       "  </tbody>\n",
       "</table>\n",
       "</div>"
      ],
      "text/plain": [
       "      county  voters  ballots_cast  turnout_pct  mail_out  total_out  out_rate\n",
       "0    Alameda  966809        765025           79      9353       9453      0.97\n",
       "1     Alpine     869           739           85         8         10      0.92\n",
       "2     Amador   25605         22601           88         0         79      0.00\n",
       "3      Butte  124793        101342           81        40       2080      0.03\n",
       "4  Calaveras   31364         27070           86        59        489      0.19"
      ]
     },
     "execution_count": 41,
     "metadata": {},
     "output_type": "execute_result"
    }
   ],
   "source": [
    "ballots_slim.head()"
   ]
  },
  {
   "cell_type": "code",
   "execution_count": 42,
   "metadata": {},
   "outputs": [
    {
     "data": {
      "text/html": [
       "<div>\n",
       "<style scoped>\n",
       "    .dataframe tbody tr th:only-of-type {\n",
       "        vertical-align: middle;\n",
       "    }\n",
       "\n",
       "    .dataframe tbody tr th {\n",
       "        vertical-align: top;\n",
       "    }\n",
       "\n",
       "    .dataframe thead th {\n",
       "        text-align: right;\n",
       "    }\n",
       "</style>\n",
       "<table border=\"1\" class=\"dataframe\">\n",
       "  <thead>\n",
       "    <tr style=\"text-align: right;\">\n",
       "      <th></th>\n",
       "      <th>county</th>\n",
       "      <th>voters</th>\n",
       "      <th>ballots_cast</th>\n",
       "      <th>turnout_pct</th>\n",
       "      <th>mail_out</th>\n",
       "      <th>total_out</th>\n",
       "      <th>out_rate</th>\n",
       "    </tr>\n",
       "  </thead>\n",
       "  <tbody>\n",
       "    <tr>\n",
       "      <th>18</th>\n",
       "      <td>Los Angeles</td>\n",
       "      <td>5813333</td>\n",
       "      <td>4211649</td>\n",
       "      <td>72</td>\n",
       "      <td>69485</td>\n",
       "      <td>142715</td>\n",
       "      <td>1.20</td>\n",
       "    </tr>\n",
       "    <tr>\n",
       "      <th>29</th>\n",
       "      <td>Orange</td>\n",
       "      <td>1772700</td>\n",
       "      <td>1527434</td>\n",
       "      <td>86</td>\n",
       "      <td>4731</td>\n",
       "      <td>27697</td>\n",
       "      <td>0.27</td>\n",
       "    </tr>\n",
       "    <tr>\n",
       "      <th>32</th>\n",
       "      <td>Riverside</td>\n",
       "      <td>1241552</td>\n",
       "      <td>730679</td>\n",
       "      <td>58</td>\n",
       "      <td>215000</td>\n",
       "      <td>240000</td>\n",
       "      <td>17.32</td>\n",
       "    </tr>\n",
       "    <tr>\n",
       "      <th>35</th>\n",
       "      <td>San Bernardino</td>\n",
       "      <td>1102687</td>\n",
       "      <td>684692</td>\n",
       "      <td>62</td>\n",
       "      <td>156000</td>\n",
       "      <td>176300</td>\n",
       "      <td>14.15</td>\n",
       "    </tr>\n",
       "    <tr>\n",
       "      <th>55</th>\n",
       "      <td>Ventura</td>\n",
       "      <td>500442</td>\n",
       "      <td>424161</td>\n",
       "      <td>84</td>\n",
       "      <td>300</td>\n",
       "      <td>5423</td>\n",
       "      <td>0.06</td>\n",
       "    </tr>\n",
       "  </tbody>\n",
       "</table>\n",
       "</div>"
      ],
      "text/plain": [
       "            county   voters  ballots_cast  turnout_pct  mail_out  total_out  \\\n",
       "18     Los Angeles  5813333       4211649           72     69485     142715   \n",
       "29          Orange  1772700       1527434           86      4731      27697   \n",
       "32       Riverside  1241552        730679           58    215000     240000   \n",
       "35  San Bernardino  1102687        684692           62    156000     176300   \n",
       "55         Ventura   500442        424161           84       300       5423   \n",
       "\n",
       "    out_rate  \n",
       "18      1.20  \n",
       "29      0.27  \n",
       "32     17.32  \n",
       "35     14.15  \n",
       "55      0.06  "
      ]
     },
     "execution_count": 42,
     "metadata": {},
     "output_type": "execute_result"
    }
   ],
   "source": [
    "ballots_slim[ballots_slim['county'].isin(socal)]"
   ]
  },
  {
   "cell_type": "code",
   "execution_count": 43,
   "metadata": {},
   "outputs": [
    {
     "data": {
      "text/plain": [
       "1126592"
      ]
     },
     "execution_count": 43,
     "metadata": {},
     "output_type": "execute_result"
    }
   ],
   "source": [
    "ballots_slim.mail_out.sum()"
   ]
  },
  {
   "cell_type": "code",
   "execution_count": 44,
   "metadata": {},
   "outputs": [
    {
     "data": {
      "text/plain": [
       "1484033"
      ]
     },
     "execution_count": 44,
     "metadata": {},
     "output_type": "execute_result"
    }
   ],
   "source": [
    "ballots_slim.total_out.sum()"
   ]
  },
  {
   "cell_type": "markdown",
   "metadata": {},
   "source": [
    "---"
   ]
  },
  {
   "cell_type": "markdown",
   "metadata": {},
   "source": [
    "## Geography"
   ]
  },
  {
   "cell_type": "code",
   "execution_count": 45,
   "metadata": {},
   "outputs": [],
   "source": [
    "counties_geo = gpd.read_file('http://s3-us-west-2.amazonaws.com/boundaries.latimes.com/archive/1.0/boundary-set/counties-2012.geojson')"
   ]
  },
  {
   "cell_type": "markdown",
   "metadata": {},
   "source": [
    "### Merge outstanding ballots and current results to geodataframe"
   ]
  },
  {
   "cell_type": "code",
   "execution_count": 46,
   "metadata": {},
   "outputs": [],
   "source": [
    "ballots_geo = counties_geo.merge(ballots_slim, left_on='name', right_on='county')"
   ]
  },
  {
   "cell_type": "code",
   "execution_count": 47,
   "metadata": {},
   "outputs": [
    {
     "data": {
      "text/plain": [
       "<AxesSubplot:>"
      ]
     },
     "execution_count": 47,
     "metadata": {},
     "output_type": "execute_result"
    },
    {
     "data": {
      "image/png": "[encoded data removed]",
      "text/plain": [
       "<Figure size 432x288 with 1 Axes>"
      ]
     },
     "metadata": {
      "needs_background": "light"
     },
     "output_type": "display_data"
    }
   ],
   "source": [
    "ballots_geo.plot()"
   ]
  },
  {
   "cell_type": "markdown",
   "metadata": {},
   "source": [
    "### Export"
   ]
  },
  {
   "cell_type": "code",
   "execution_count": 48,
   "metadata": {},
   "outputs": [],
   "source": [
    "ballots_geo.to_file('output/ballots_geo.geojson', driver='GeoJSON')"
   ]
  }
 ],
 "metadata": {
  "kernelspec": {
   "display_name": "Python 3",
   "language": "python",
   "name": "python3"
  },
  "language_info": {
   "codemirror_mode": {
    "name": "ipython",
    "version": 3
   },
   "file_extension": ".py",
   "mimetype": "text/x-python",
   "name": "python",
   "nbconvert_exporter": "python",
   "pygments_lexer": "ipython3",
   "version": "3.7.4"
  }
 },
 "nbformat": 4,
 "nbformat_minor": 4
}
