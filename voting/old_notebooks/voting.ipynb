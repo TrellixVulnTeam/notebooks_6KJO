{
 "cells": [
  {
   "cell_type": "markdown",
   "metadata": {},
   "source": [
    "# Voting machine errors during March 2020 primary"
   ]
  },
  {
   "cell_type": "markdown",
   "metadata": {},
   "source": [
    "### Load python tools"
   ]
  },
  {
   "cell_type": "code",
   "execution_count": 266,
   "metadata": {},
   "outputs": [],
   "source": [
    "import us\n",
    "import json\n",
    "import os\n",
    "import glob\n",
    "import numpy as np\n",
    "import pandas as pd\n",
    "import geopandas as gpd\n",
    "from pandas.io.json import json_normalize\n",
    "from altair_saver import save\n",
    "from altair import datum\n",
    "import altair as alt\n",
    "import altair_latimes as lat\n",
    "import nltk\n",
    "from nltk import sent_tokenize, word_tokenize\n",
    "from nltk.stem.snowball import SnowballStemmer\n",
    "from nltk.stem.wordnet import WordNetLemmatizer\n",
    "from nltk.corpus import stopwords\n",
    "import re          \n",
    "alt.themes.register(\"latimes\", lat.theme)\n",
    "alt.themes.enable(\"latimes\")\n",
    "pd.options.display.max_columns = 50\n",
    "pd.options.display.max_rows = 34000\n",
    "pd.set_option('display.max_colwidth', -1)"
   ]
  },
  {
   "cell_type": "markdown",
   "metadata": {},
   "source": [
    "### Read tickets data"
   ]
  },
  {
   "cell_type": "code",
   "execution_count": 267,
   "metadata": {},
   "outputs": [],
   "source": [
    "df = pd.read_excel('input/All Tickets for the March Primary Voting Period V2.xlsx').fillna('').dropna(how='all', axis='columns')"
   ]
  },
  {
   "cell_type": "markdown",
   "metadata": {},
   "source": [
    "### Clean up the dataframe"
   ]
  },
  {
   "cell_type": "code",
   "execution_count": 268,
   "metadata": {},
   "outputs": [],
   "source": [
    "df.columns = df.columns.str.strip().str.lower().str.replace(' ','_')\\\n",
    "    .str.replace('(', '').str.replace(')', '').str.replace('/','_')"
   ]
  },
  {
   "cell_type": "code",
   "execution_count": 269,
   "metadata": {},
   "outputs": [],
   "source": [
    "df[['incident_id','priority','vcid','primary_config_asset_tag','comments','incident_childid','location', 'bam_threshold', 'bmd_threshold', 'epollbook_threshold']] \\\n",
    "= df[['incident_id','priority','vcid','primary_config_asset_tag','comments','incident_childid','location', 'bam_threshold', 'bmd_threshold', 'epollbook_threshold']].fillna('').astype(str)"
   ]
  },
  {
   "cell_type": "code",
   "execution_count": 270,
   "metadata": {},
   "outputs": [],
   "source": [
    "for s in df[['vcid', 'primary_config_asset_tag', 'bam_threshold', 'bmd_threshold', 'epollbook_threshold']]:\n",
    "    df[f\"{s}\"] = df[f\"{s}\"].str.replace('.0', '', regex=False)"
   ]
  },
  {
   "cell_type": "code",
   "execution_count": 271,
   "metadata": {},
   "outputs": [],
   "source": [
    "df['created_date'] = pd.to_datetime(df['created_date_time']).dt.date\n",
    "df['created_time'] = pd.to_datetime(df['created_date_time']).dt.time"
   ]
  },
  {
   "cell_type": "code",
   "execution_count": 272,
   "metadata": {},
   "outputs": [],
   "source": [
    "drop = ['category_description',\n",
    "       'category_description_de-de', 'category_description_en-us',\n",
    "       'category_description_es-es', 'category_description_fr-fr',\n",
    "       'category_description_pt-br', 'incident_category',\n",
    "       'incident_category_de-de', 'incident_category_en-us',\n",
    "       'incident_category_es-es', 'incident_category_fr-fr',\n",
    "       'incident_category_pt-br']"
   ]
  },
  {
   "cell_type": "code",
   "execution_count": 273,
   "metadata": {},
   "outputs": [],
   "source": [
    "df = df.drop(columns=drop)"
   ]
  },
  {
   "cell_type": "markdown",
   "metadata": {},
   "source": [
    "### Dates/Times"
   ]
  },
  {
   "cell_type": "code",
   "execution_count": 274,
   "metadata": {},
   "outputs": [],
   "source": [
    "df_clean = pd.DataFrame(df[df['bmd_related_y_n'] == 'Y'])"
   ]
  },
  {
   "cell_type": "code",
   "execution_count": 275,
   "metadata": {},
   "outputs": [],
   "source": [
    "df_clean.description = df_clean.description.str.wrap(50)"
   ]
  },
  {
   "cell_type": "code",
   "execution_count": 276,
   "metadata": {},
   "outputs": [
    {
     "data": {
      "text/plain": [
       "incident_id                      105529                                                                                                                                                                                                                                                                                                \n",
       "priority                         4                                                                                                                                                                                                                                                                                                     \n",
       "status                           Resolved                                                                                                                                                                                                                                                                                              \n",
       "vcid                             4743                                                                                                                                                                                                                                                                                                  \n",
       "site_name                        Pico Park Community Center                                                                                                                                                                                                                                                                            \n",
       "category                         Error Code                                                                                                                                                                                                                                                                                            \n",
       "bmd_related_y_n                  Y                                                                                                                                                                                                                                                                                                     \n",
       "total_bmds                                                                                                                                                                                                                                                                                                                             \n",
       "bad_bmds                         1                                                                                                                                                                                                                                                                                                     \n",
       "gear_problem_y_n                                                                                                                                                                                                                                                                                                                       \n",
       "subcategory                      715                                                                                                                                                                                                                                                                                                   \n",
       "description                      Stacey Tinajero (e655832)   Phone 5624105247  \\nSize : Extra Large    Issues: Error 701   1 BMD  \\nTS. 1.If Ballot Box was not attached: a. Power off\\nBMD b. Turn Power back on c. If error persists\\npower off and remove BMD from service. 2. If\\nBallot Box was attached: a.          &nbspPower o\n",
       "created_date_time                2/22/2020 8:32 AM                                                                                                                                                                                                                                                                                     \n",
       "created_by                       Diego Corral (c197909)                                                                                                                                                                                                                                                                                \n",
       "assigned_to                                                                                                                                                                                                                                                                                                                            \n",
       "assigned_team                    Smartmatic Support (Level 2)                                                                                                                                                                                                                                                                          \n",
       "primary_config_asset_tag         124808                                                                                                                                                                                                                                                                                                \n",
       "primary_config_lac_asset_type    BMD                                                                                                                                                                                                                                                                                                   \n",
       "call_source                      Phone                                                                                                                                                                                                                                                                                                 \n",
       "comments                                                                                                                                                                                                                                                                                                                               \n",
       "incident_childid                                                                                                                                                                                                                                                                                                                       \n",
       "incident_type                    Incident                                                                                                                                                                                                                                                                                              \n",
       "last_modified_date_time          3/3/2020 8:31 AM                                                                                                                                                                                                                                                                                      \n",
       "primary_config_serial_number     CNGBMDAA01008917                                                                                                                                                                                                                                                                                      \n",
       "primary_config_type              Config - System                                                                                                                                                                                                                                                                                       \n",
       "last_modified_by                 Cherwell Services                                                                                                                                                                                                                                                                                     \n",
       "location                                                                                                                                                                                                                                                                                                                               \n",
       "bam_threshold                    25                                                                                                                                                                                                                                                                                                    \n",
       "bmd_threshold                    25                                                                                                                                                                                                                                                                                                    \n",
       "epollbook_threshold              25                                                                                                                                                                                                                                                                                                    \n",
       "status2                          Active                                                                                                                                                                                                                                                                                                \n",
       "service                                                                                                                                                                                                                                                                                                                                \n",
       "service_status                                                                                                                                                                                                                                                                                                                         \n",
       "specifics_name                                                                                                                                                                                                                                                                                                                         \n",
       "visible_in_portal                                                                                                                                                                                                                                                                                                                      \n",
       "config_item_type                                                                                                                                                                                                                                                                                                                       \n",
       "default_team                     Tech Support Call Center (0)                                                                                                                                                                                                                                                                          \n",
       "closed_by                                                                                                                                                                                                                                                                                                                              \n",
       "created_date                     2020-02-22                                                                                                                                                                                                                                                                                            \n",
       "created_time                     08:32:00                                                                                                                                                                                                                                                                                              \n",
       "Name: 32, dtype: object"
      ]
     },
     "execution_count": 276,
     "metadata": {},
     "output_type": "execute_result"
    }
   ],
   "source": [
    "df_clean.iloc[0]"
   ]
  },
  {
   "cell_type": "code",
   "execution_count": null,
   "metadata": {},
   "outputs": [],
   "source": []
  },
  {
   "cell_type": "code",
   "execution_count": null,
   "metadata": {},
   "outputs": [],
   "source": []
  },
  {
   "cell_type": "code",
   "execution_count": null,
   "metadata": {},
   "outputs": [],
   "source": []
  },
  {
   "cell_type": "code",
   "execution_count": null,
   "metadata": {},
   "outputs": [],
   "source": []
  },
  {
   "cell_type": "code",
   "execution_count": null,
   "metadata": {},
   "outputs": [],
   "source": []
  }
 ],
 "metadata": {
  "kernelspec": {
   "display_name": "Python 3",
   "language": "python",
   "name": "python3"
  },
  "language_info": {
   "codemirror_mode": {
    "name": "ipython",
    "version": 3
   },
   "file_extension": ".py",
   "mimetype": "text/x-python",
   "name": "python",
   "nbconvert_exporter": "python",
   "pygments_lexer": "ipython3",
   "version": "3.8.8"
  }
 },
 "nbformat": 4,
 "nbformat_minor": 4
}
