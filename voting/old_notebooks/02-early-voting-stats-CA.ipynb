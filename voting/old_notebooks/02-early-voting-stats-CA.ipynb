{
 "cells": [
  {
   "cell_type": "markdown",
   "metadata": {},
   "source": [
    "### Early voting statistics"
   ]
  },
  {
   "cell_type": "code",
   "execution_count": 1,
   "metadata": {},
   "outputs": [],
   "source": [
    "import json\n",
    "import os\n",
    "import glob\n",
    "import numpy as np\n",
    "import pandas as pd\n",
    "import geopandas as gpd\n",
    "from pandas.io.json import json_normalize\n",
    "from altair_saver import save\n",
    "from altair import datum\n",
    "import altair as alt\n",
    "import altair_latimes as lat\n",
    "import re\n",
    "alt.themes.register(\"latimes\", lat.theme)\n",
    "alt.themes.enable(\"latimes\")\n",
    "pd.options.display.max_columns = 50\n",
    "pd.options.display.max_rows = 34000\n",
    "pd.set_option('display.max_colwidth', None)"
   ]
  },
  {
   "cell_type": "code",
   "execution_count": 2,
   "metadata": {},
   "outputs": [],
   "source": [
    "df = pd.read_html('http://electproject.github.io/Early-Vote-2020G/CA.html', attrs = {'class': 'table'})"
   ]
  },
  {
   "cell_type": "code",
   "execution_count": 3,
   "metadata": {},
   "outputs": [],
   "source": [
    "df = df[0]"
   ]
  },
  {
   "cell_type": "code",
   "execution_count": 4,
   "metadata": {},
   "outputs": [],
   "source": [
    "df = df.rename(columns={ 'Party':'party','Returned Ballots':'returned','Freq. Distribution':'electorate_share','Requested Ballots':'ballots', 'Return Rate':'return_rate' })"
   ]
  },
  {
   "cell_type": "code",
   "execution_count": 5,
   "metadata": {},
   "outputs": [
    {
     "data": {
      "text/html": [
       "<div>\n",
       "<style scoped>\n",
       "    .dataframe tbody tr th:only-of-type {\n",
       "        vertical-align: middle;\n",
       "    }\n",
       "\n",
       "    .dataframe tbody tr th {\n",
       "        vertical-align: top;\n",
       "    }\n",
       "\n",
       "    .dataframe thead th {\n",
       "        text-align: right;\n",
       "    }\n",
       "</style>\n",
       "<table border=\"1\" class=\"dataframe\">\n",
       "  <thead>\n",
       "    <tr style=\"text-align: right;\">\n",
       "      <th></th>\n",
       "      <th>party</th>\n",
       "      <th>ballots</th>\n",
       "      <th>returned</th>\n",
       "      <th>return_rate</th>\n",
       "      <th>electorate_share</th>\n",
       "    </tr>\n",
       "  </thead>\n",
       "  <tbody>\n",
       "    <tr>\n",
       "      <th>0</th>\n",
       "      <td>Democrats</td>\n",
       "      <td>10167333</td>\n",
       "      <td>5818369</td>\n",
       "      <td>57.2</td>\n",
       "      <td>51.8</td>\n",
       "    </tr>\n",
       "    <tr>\n",
       "      <th>1</th>\n",
       "      <td>Republicans</td>\n",
       "      <td>5341515</td>\n",
       "      <td>2668672</td>\n",
       "      <td>50.0</td>\n",
       "      <td>23.8</td>\n",
       "    </tr>\n",
       "    <tr>\n",
       "      <th>2</th>\n",
       "      <td>No Party Affiliation/Minor</td>\n",
       "      <td>6524840</td>\n",
       "      <td>2748994</td>\n",
       "      <td>42.1</td>\n",
       "      <td>24.5</td>\n",
       "    </tr>\n",
       "    <tr>\n",
       "      <th>3</th>\n",
       "      <td>TOTAL</td>\n",
       "      <td>22033688</td>\n",
       "      <td>11236035</td>\n",
       "      <td>51.0</td>\n",
       "      <td>100.0</td>\n",
       "    </tr>\n",
       "  </tbody>\n",
       "</table>\n",
       "</div>"
      ],
      "text/plain": [
       "                        party   ballots  returned  return_rate  \\\n",
       "0                   Democrats  10167333   5818369         57.2   \n",
       "1                 Republicans   5341515   2668672         50.0   \n",
       "2  No Party Affiliation/Minor   6524840   2748994         42.1   \n",
       "3                       TOTAL  22033688  11236035         51.0   \n",
       "\n",
       "   electorate_share  \n",
       "0              51.8  \n",
       "1              23.8  \n",
       "2              24.5  \n",
       "3             100.0  "
      ]
     },
     "execution_count": 5,
     "metadata": {},
     "output_type": "execute_result"
    }
   ],
   "source": [
    "df[['party', 'ballots', 'returned', 'return_rate', 'electorate_share']]"
   ]
  },
  {
   "cell_type": "code",
   "execution_count": 6,
   "metadata": {},
   "outputs": [],
   "source": [
    "mail_ballots_returned20 = df.iloc[(3,1)]"
   ]
  },
  {
   "cell_type": "markdown",
   "metadata": {},
   "source": [
    "--- "
   ]
  },
  {
   "cell_type": "markdown",
   "metadata": {},
   "source": [
    "### How did California vote in the 2016 election?"
   ]
  },
  {
   "cell_type": "code",
   "execution_count": 7,
   "metadata": {},
   "outputs": [],
   "source": [
    "# !wget -O 'input/03-voter-participation-stats-by-county.pdf' 'https://elections.cdn.sos.ca.gov/sov/2016-general/sov/03-voter-participation-stats-by-county.pdf'"
   ]
  },
  {
   "cell_type": "code",
   "execution_count": 8,
   "metadata": {},
   "outputs": [],
   "source": [
    "# !PDFtoTEXT -layout 'input/03-voter-participation-stats-by-county.pdf' 'input/03-voter-participation-stats-by-county.txt'"
   ]
  },
  {
   "cell_type": "code",
   "execution_count": 9,
   "metadata": {},
   "outputs": [],
   "source": [
    "state16 = pd.read_fwf(\n",
    "    \"input/03-voter-participation-stats-by-county.txt\",\n",
    "    sep=\" \",\n",
    "    header=None,\n",
    "    skiprows=6,\n",
    "    skipfooter=8,\n",
    "    colspecs=\"infer\",\n",
    "    names=[\n",
    "        \"county\",\n",
    "        \"precincts\",\n",
    "        \"eligible\",\n",
    "        \"reg_voters\",\n",
    "        \"precinct_voters\",\n",
    "        \"mail_voters\",\n",
    "        \"total_voters\",\n",
    "        \"pct_mail\",\n",
    "        \"reg_turnout_pct\",\n",
    "        \"eligible_turnout_pct\",\n",
    "    ],\n",
    ")"
   ]
  },
  {
   "cell_type": "code",
   "execution_count": 10,
   "metadata": {},
   "outputs": [],
   "source": [
    "int_columns = ['precincts', 'eligible', 'reg_voters', 'precinct_voters',\n",
    "       'mail_voters', 'total_voters']"
   ]
  },
  {
   "cell_type": "code",
   "execution_count": 11,
   "metadata": {},
   "outputs": [],
   "source": [
    "state16[int_columns] = state16[int_columns].replace(',', '', regex=True).replace('%', '', regex=True).astype(int)"
   ]
  },
  {
   "cell_type": "code",
   "execution_count": 12,
   "metadata": {},
   "outputs": [
    {
     "data": {
      "text/html": [
       "<div>\n",
       "<style scoped>\n",
       "    .dataframe tbody tr th:only-of-type {\n",
       "        vertical-align: middle;\n",
       "    }\n",
       "\n",
       "    .dataframe tbody tr th {\n",
       "        vertical-align: top;\n",
       "    }\n",
       "\n",
       "    .dataframe thead th {\n",
       "        text-align: right;\n",
       "    }\n",
       "</style>\n",
       "<table border=\"1\" class=\"dataframe\">\n",
       "  <thead>\n",
       "    <tr style=\"text-align: right;\">\n",
       "      <th></th>\n",
       "      <th>county</th>\n",
       "      <th>precincts</th>\n",
       "      <th>eligible</th>\n",
       "      <th>reg_voters</th>\n",
       "      <th>precinct_voters</th>\n",
       "      <th>mail_voters</th>\n",
       "      <th>total_voters</th>\n",
       "      <th>pct_mail</th>\n",
       "      <th>reg_turnout_pct</th>\n",
       "      <th>eligible_turnout_pct</th>\n",
       "    </tr>\n",
       "  </thead>\n",
       "  <tbody>\n",
       "    <tr>\n",
       "      <th>53</th>\n",
       "      <td>Tulare</td>\n",
       "      <td>252</td>\n",
       "      <td>260926</td>\n",
       "      <td>154000</td>\n",
       "      <td>41001</td>\n",
       "      <td>75105</td>\n",
       "      <td>116106</td>\n",
       "      <td>64.69%</td>\n",
       "      <td>75.39%</td>\n",
       "      <td>44.50%</td>\n",
       "    </tr>\n",
       "    <tr>\n",
       "      <th>54</th>\n",
       "      <td>Tuolumne</td>\n",
       "      <td>73</td>\n",
       "      <td>41222</td>\n",
       "      <td>31402</td>\n",
       "      <td>5885</td>\n",
       "      <td>20519</td>\n",
       "      <td>26404</td>\n",
       "      <td>77.71%</td>\n",
       "      <td>84.08%</td>\n",
       "      <td>64.05%</td>\n",
       "    </tr>\n",
       "    <tr>\n",
       "      <th>55</th>\n",
       "      <td>Ventura</td>\n",
       "      <td>684</td>\n",
       "      <td>550625</td>\n",
       "      <td>442951</td>\n",
       "      <td>144589</td>\n",
       "      <td>218696</td>\n",
       "      <td>363285</td>\n",
       "      <td>60.20%</td>\n",
       "      <td>82.01%</td>\n",
       "      <td>65.98%</td>\n",
       "    </tr>\n",
       "    <tr>\n",
       "      <th>56</th>\n",
       "      <td>Yolo</td>\n",
       "      <td>133</td>\n",
       "      <td>147156</td>\n",
       "      <td>111222</td>\n",
       "      <td>35791</td>\n",
       "      <td>48894</td>\n",
       "      <td>84685</td>\n",
       "      <td>57.74%</td>\n",
       "      <td>76.14%</td>\n",
       "      <td>57.55%</td>\n",
       "    </tr>\n",
       "    <tr>\n",
       "      <th>57</th>\n",
       "      <td>Yuba</td>\n",
       "      <td>45</td>\n",
       "      <td>48269</td>\n",
       "      <td>33694</td>\n",
       "      <td>8350</td>\n",
       "      <td>15208</td>\n",
       "      <td>23558</td>\n",
       "      <td>64.56%</td>\n",
       "      <td>69.92%</td>\n",
       "      <td>48.81%</td>\n",
       "    </tr>\n",
       "  </tbody>\n",
       "</table>\n",
       "</div>"
      ],
      "text/plain": [
       "      county  precincts  eligible  reg_voters  precinct_voters  mail_voters  \\\n",
       "53    Tulare        252    260926      154000            41001        75105   \n",
       "54  Tuolumne         73     41222       31402             5885        20519   \n",
       "55   Ventura        684    550625      442951           144589       218696   \n",
       "56      Yolo        133    147156      111222            35791        48894   \n",
       "57      Yuba         45     48269       33694             8350        15208   \n",
       "\n",
       "    total_voters pct_mail reg_turnout_pct eligible_turnout_pct  \n",
       "53        116106   64.69%          75.39%               44.50%  \n",
       "54         26404   77.71%          84.08%               64.05%  \n",
       "55        363285   60.20%          82.01%               65.98%  \n",
       "56         84685   57.74%          76.14%               57.55%  \n",
       "57         23558   64.56%          69.92%               48.81%  "
      ]
     },
     "execution_count": 12,
     "metadata": {},
     "output_type": "execute_result"
    }
   ],
   "source": [
    "state16.tail()"
   ]
  },
  {
   "cell_type": "markdown",
   "metadata": {},
   "source": [
    "--- "
   ]
  },
  {
   "cell_type": "markdown",
   "metadata": {},
   "source": [
    "### Aggregate statewide figures for 2016 general"
   ]
  },
  {
   "cell_type": "code",
   "execution_count": 13,
   "metadata": {},
   "outputs": [
    {
     "data": {
      "text/plain": [
       "75.27"
      ]
     },
     "execution_count": 13,
     "metadata": {},
     "output_type": "execute_result"
    }
   ],
   "source": [
    "# turnout\n",
    "state_turnout16 = round(state16['total_voters'].sum() / state16['reg_voters'].sum()*100, 2)\n",
    "round(state16['total_voters'].sum() / state16['reg_voters'].sum()*100, 2)"
   ]
  },
  {
   "cell_type": "code",
   "execution_count": 14,
   "metadata": {},
   "outputs": [
    {
     "data": {
      "text/plain": [
       "57.79"
      ]
     },
     "execution_count": 14,
     "metadata": {},
     "output_type": "execute_result"
    }
   ],
   "source": [
    "# vbm\n",
    "state_vbm16 = round(state16['mail_voters'].sum() / state16['total_voters'].sum()*100, 2)\n",
    "round(state16['mail_voters'].sum() / state16['total_voters'].sum()*100, 2)"
   ]
  },
  {
   "cell_type": "code",
   "execution_count": 15,
   "metadata": {},
   "outputs": [
    {
     "data": {
      "text/plain": [
       "14610509"
      ]
     },
     "execution_count": 15,
     "metadata": {},
     "output_type": "execute_result"
    }
   ],
   "source": [
    "state_voters16 = state16.total_voters.sum()\n",
    "state16.total_voters.sum()"
   ]
  },
  {
   "cell_type": "code",
   "execution_count": 16,
   "metadata": {},
   "outputs": [
    {
     "data": {
      "text/plain": [
       "8443594"
      ]
     },
     "execution_count": 16,
     "metadata": {},
     "output_type": "execute_result"
    }
   ],
   "source": [
    "state_vvbm_total16 = state16.mail_voters.sum()\n",
    "state16.mail_voters.sum()"
   ]
  },
  {
   "cell_type": "markdown",
   "metadata": {},
   "source": [
    "---"
   ]
  },
  {
   "cell_type": "markdown",
   "metadata": {},
   "source": [
    "## How does 2020 VBM turnout compare to 2016?"
   ]
  },
  {
   "cell_type": "markdown",
   "metadata": {},
   "source": [
    "### What's the pct of mail ballots in 2020 (so far) vs. the mail total for all of 2016?"
   ]
  },
  {
   "cell_type": "code",
   "execution_count": 21,
   "metadata": {},
   "outputs": [
    {
     "data": {
      "text/plain": [
       "133.07"
      ]
     },
     "execution_count": 21,
     "metadata": {},
     "output_type": "execute_result"
    }
   ],
   "source": [
    "round((mail_ballots_returned20 / state_vvbm_total16)*100,2)"
   ]
  },
  {
   "cell_type": "code",
   "execution_count": 22,
   "metadata": {},
   "outputs": [
    {
     "data": {
      "text/plain": [
       "8443594"
      ]
     },
     "execution_count": 22,
     "metadata": {},
     "output_type": "execute_result"
    }
   ],
   "source": [
    "state_vvbm_total16"
   ]
  },
  {
   "cell_type": "code",
   "execution_count": 23,
   "metadata": {},
   "outputs": [
    {
     "data": {
      "text/plain": [
       "11236035"
      ]
     },
     "execution_count": 23,
     "metadata": {},
     "output_type": "execute_result"
    }
   ],
   "source": [
    "mail_ballots_returned20"
   ]
  },
  {
   "cell_type": "markdown",
   "metadata": {},
   "source": [
    "### What's the pct of mail ballots in 2020 (so far) vs. the total for all of 2016?"
   ]
  },
  {
   "cell_type": "code",
   "execution_count": 18,
   "metadata": {},
   "outputs": [
    {
     "data": {
      "text/plain": [
       "76.9"
      ]
     },
     "execution_count": 18,
     "metadata": {},
     "output_type": "execute_result"
    }
   ],
   "source": [
    "round((mail_ballots_returned20 / state_voters16)*100,2)"
   ]
  }
 ],
 "metadata": {
  "kernelspec": {
   "display_name": "Python 3",
   "language": "python",
   "name": "python3"
  },
  "language_info": {
   "codemirror_mode": {
    "name": "ipython",
    "version": 3
   },
   "file_extension": ".py",
   "mimetype": "text/x-python",
   "name": "python",
   "nbconvert_exporter": "python",
   "pygments_lexer": "ipython3",
   "version": "3.7.4"
  }
 },
 "nbformat": 4,
 "nbformat_minor": 4
}
