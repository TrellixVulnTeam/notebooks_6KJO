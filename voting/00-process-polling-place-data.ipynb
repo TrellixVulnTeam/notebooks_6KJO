{
 "cells": [
  {
   "cell_type": "markdown",
   "id": "ff0a166a-c560-4497-a780-487cfdf6dd5b",
   "metadata": {},
   "source": [
    "# Polling closures from U.S. Election Assistance Commission [survey](https://www.eac.gov/research-and-data/datasets-codebooks-and-surveys)"
   ]
  },
  {
   "cell_type": "code",
   "execution_count": 1,
   "id": "b54329f6-aac1-4aa4-ab5c-dc2e59955ae3",
   "metadata": {},
   "outputs": [],
   "source": [
    "%load_ext lab_black"
   ]
  },
  {
   "cell_type": "code",
   "execution_count": 2,
   "id": "5fa4dca8-0a3d-4b3c-b02f-911e92677a4e",
   "metadata": {},
   "outputs": [],
   "source": [
    "import pandas as pd\n",
    "import numpy as np"
   ]
  },
  {
   "cell_type": "code",
   "execution_count": 3,
   "id": "ffffe245-0cb7-46ba-ab47-706026ca4c55",
   "metadata": {},
   "outputs": [],
   "source": [
    "pd.options.display.max_columns = 1000\n",
    "pd.options.display.max_rows = 1000\n",
    "pd.options.display.max_colwidth = None"
   ]
  },
  {
   "cell_type": "markdown",
   "id": "047a3942-d78c-4428-83f3-b657d995c880",
   "metadata": {},
   "source": [
    "### 2020 survey"
   ]
  },
  {
   "cell_type": "code",
   "execution_count": 4,
   "id": "0b098696-38b4-49f6-b892-19a011fc876e",
   "metadata": {},
   "outputs": [],
   "source": [
    "url_2020 = \"https://www.eac.gov/sites/default/files/EAVS%202020/2020_EAVS_for_Public_Release_nolabel_V2.csv\""
   ]
  },
  {
   "cell_type": "code",
   "execution_count": 5,
   "id": "7ccd1167-60cc-4ee1-8c55-da81a2917455",
   "metadata": {},
   "outputs": [],
   "source": [
    "src_2020 = pd.read_csv(url_2020, dtype={\"FIPSCode\": str})"
   ]
  },
  {
   "cell_type": "code",
   "execution_count": 6,
   "id": "95c51c18-2a78-4aac-9de4-89bde57884ba",
   "metadata": {},
   "outputs": [],
   "source": [
    "places2020 = src_2020[\n",
    "    [\"FIPSCode\", \"Jurisdiction_Name\", \"State_Abbr\", \"A1a\", \"C1a\", \"D3a\", \"D4a\", \"F1a\",]\n",
    "].copy()"
   ]
  },
  {
   "cell_type": "code",
   "execution_count": 7,
   "id": "dcd69dc3-7df4-4955-9ff1-3373ffc1574c",
   "metadata": {},
   "outputs": [],
   "source": [
    "places2020.rename(\n",
    "    columns={\n",
    "        \"FIPSCode\": \"fips\",\n",
    "        \"State_Abbr\": \"state\",\n",
    "        \"Jurisdiction_Name\": \"place\",\n",
    "        \"A1a\": \"total_reg_voters\",\n",
    "        \"C1a\": \"mail_ballots_sent\",\n",
    "        \"F1a\": \"total_votes_cast\",\n",
    "        \"D3a\": \"poll_place_elect_day\",\n",
    "        \"D4a\": \"poll_place_early\",\n",
    "    },\n",
    "    inplace=True,\n",
    ")"
   ]
  },
  {
   "cell_type": "code",
   "execution_count": 8,
   "id": "2d2fa3ef-464a-441c-b571-a75d4b70016d",
   "metadata": {},
   "outputs": [],
   "source": [
    "places2020[\"year\"] = \"2020\""
   ]
  },
  {
   "cell_type": "code",
   "execution_count": 9,
   "id": "da2b9482-031e-4270-85ec-8ff7cebb2ae7",
   "metadata": {},
   "outputs": [],
   "source": [
    "places2020[\n",
    "    [\n",
    "        \"total_reg_voters\",\n",
    "        \"mail_ballots_sent\",\n",
    "        \"total_votes_cast\",\n",
    "        \"poll_place_elect_day\",\n",
    "        \"poll_place_early\",\n",
    "    ]\n",
    "] = places2020[\n",
    "    [\n",
    "        \"total_reg_voters\",\n",
    "        \"mail_ballots_sent\",\n",
    "        \"total_votes_cast\",\n",
    "        \"poll_place_elect_day\",\n",
    "        \"poll_place_early\",\n",
    "    ]\n",
    "].astype(\n",
    "    float\n",
    ")"
   ]
  },
  {
   "cell_type": "code",
   "execution_count": 10,
   "id": "1a2c4e6c-f5ce-4651-a599-3c99a5338baf",
   "metadata": {},
   "outputs": [
    {
     "data": {
      "text/html": [
       "<div>\n",
       "<style scoped>\n",
       "    .dataframe tbody tr th:only-of-type {\n",
       "        vertical-align: middle;\n",
       "    }\n",
       "\n",
       "    .dataframe tbody tr th {\n",
       "        vertical-align: top;\n",
       "    }\n",
       "\n",
       "    .dataframe thead th {\n",
       "        text-align: right;\n",
       "    }\n",
       "</style>\n",
       "<table border=\"1\" class=\"dataframe\">\n",
       "  <thead>\n",
       "    <tr style=\"text-align: right;\">\n",
       "      <th></th>\n",
       "      <th>fips</th>\n",
       "      <th>place</th>\n",
       "      <th>state</th>\n",
       "      <th>total_reg_voters</th>\n",
       "      <th>mail_ballots_sent</th>\n",
       "      <th>poll_place_elect_day</th>\n",
       "      <th>poll_place_early</th>\n",
       "      <th>total_votes_cast</th>\n",
       "      <th>year</th>\n",
       "    </tr>\n",
       "  </thead>\n",
       "  <tbody>\n",
       "    <tr>\n",
       "      <th>0</th>\n",
       "      <td>0100100000</td>\n",
       "      <td>AUTAUGA COUNTY</td>\n",
       "      <td>AL</td>\n",
       "      <td>43695.0</td>\n",
       "      <td>1329.0</td>\n",
       "      <td>18.0</td>\n",
       "      <td>1.0</td>\n",
       "      <td>27813.0</td>\n",
       "      <td>2020</td>\n",
       "    </tr>\n",
       "    <tr>\n",
       "      <th>1</th>\n",
       "      <td>0100300000</td>\n",
       "      <td>BALDWIN COUNTY</td>\n",
       "      <td>AL</td>\n",
       "      <td>176668.0</td>\n",
       "      <td>11147.0</td>\n",
       "      <td>50.0</td>\n",
       "      <td>1.0</td>\n",
       "      <td>110214.0</td>\n",
       "      <td>2020</td>\n",
       "    </tr>\n",
       "    <tr>\n",
       "      <th>2</th>\n",
       "      <td>0100500000</td>\n",
       "      <td>BARBOUR COUNTY</td>\n",
       "      <td>AL</td>\n",
       "      <td>17850.0</td>\n",
       "      <td>726.0</td>\n",
       "      <td>16.0</td>\n",
       "      <td>1.0</td>\n",
       "      <td>10560.0</td>\n",
       "      <td>2020</td>\n",
       "    </tr>\n",
       "    <tr>\n",
       "      <th>3</th>\n",
       "      <td>0100700000</td>\n",
       "      <td>BIBB COUNTY</td>\n",
       "      <td>AL</td>\n",
       "      <td>15014.0</td>\n",
       "      <td>332.0</td>\n",
       "      <td>8.0</td>\n",
       "      <td>1.0</td>\n",
       "      <td>9630.0</td>\n",
       "      <td>2020</td>\n",
       "    </tr>\n",
       "    <tr>\n",
       "      <th>4</th>\n",
       "      <td>0100900000</td>\n",
       "      <td>BLOUNT COUNTY</td>\n",
       "      <td>AL</td>\n",
       "      <td>41927.0</td>\n",
       "      <td>1032.0</td>\n",
       "      <td>24.0</td>\n",
       "      <td>1.0</td>\n",
       "      <td>27665.0</td>\n",
       "      <td>2020</td>\n",
       "    </tr>\n",
       "  </tbody>\n",
       "</table>\n",
       "</div>"
      ],
      "text/plain": [
       "         fips           place state  total_reg_voters  mail_ballots_sent  \\\n",
       "0  0100100000  AUTAUGA COUNTY    AL           43695.0             1329.0   \n",
       "1  0100300000  BALDWIN COUNTY    AL          176668.0            11147.0   \n",
       "2  0100500000  BARBOUR COUNTY    AL           17850.0              726.0   \n",
       "3  0100700000     BIBB COUNTY    AL           15014.0              332.0   \n",
       "4  0100900000   BLOUNT COUNTY    AL           41927.0             1032.0   \n",
       "\n",
       "   poll_place_elect_day  poll_place_early  total_votes_cast  year  \n",
       "0                  18.0               1.0           27813.0  2020  \n",
       "1                  50.0               1.0          110214.0  2020  \n",
       "2                  16.0               1.0           10560.0  2020  \n",
       "3                   8.0               1.0            9630.0  2020  \n",
       "4                  24.0               1.0           27665.0  2020  "
      ]
     },
     "execution_count": 10,
     "metadata": {},
     "output_type": "execute_result"
    }
   ],
   "source": [
    "places2020.head()"
   ]
  },
  {
   "cell_type": "markdown",
   "id": "a59f643e-106b-4f00-9c35-cf1c73c112de",
   "metadata": {},
   "source": [
    "---"
   ]
  },
  {
   "cell_type": "markdown",
   "id": "d95c169e-bcac-45ef-bb41-4da6477da3ea",
   "metadata": {},
   "source": [
    "### 2016"
   ]
  },
  {
   "cell_type": "markdown",
   "id": "93031a82-2ed6-4974-b437-c93e0b2ccbf3",
   "metadata": {},
   "source": [
    "#### Registered voters"
   ]
  },
  {
   "cell_type": "code",
   "execution_count": 11,
   "id": "a7239fdf-671e-4ba4-b514-9974a8675f88",
   "metadata": {},
   "outputs": [],
   "source": [
    "src_2016a = pd.read_excel(\n",
    "    \"input/EAVS 2016 Final Data for Public Release v.4.xls\", dtype={\"FIPSCode\": str}\n",
    ")"
   ]
  },
  {
   "cell_type": "code",
   "execution_count": 12,
   "id": "327d028b-dc34-4dee-823a-7f4e0e6ebd2f",
   "metadata": {},
   "outputs": [],
   "source": [
    "src_2016a = src_2016a[[\"FIPSCode\", \"JurisdictionName\", \"State\", \"A1a\"]].copy()"
   ]
  },
  {
   "cell_type": "code",
   "execution_count": 13,
   "id": "005cfa70-30eb-426f-89f9-df95ea7747df",
   "metadata": {},
   "outputs": [],
   "source": [
    "src_2016a.rename(\n",
    "    columns={\n",
    "        \"FIPSCode\": \"fips\",\n",
    "        \"JurisdictionName\": \"place\",\n",
    "        \"State\": \"state\",\n",
    "        \"A1a\": \"total_reg_voters\",\n",
    "    },\n",
    "    inplace=True,\n",
    ")"
   ]
  },
  {
   "cell_type": "code",
   "execution_count": 14,
   "id": "2b524208-7c90-48d5-8230-4b7463c81b09",
   "metadata": {},
   "outputs": [
    {
     "data": {
      "text/html": [
       "<div>\n",
       "<style scoped>\n",
       "    .dataframe tbody tr th:only-of-type {\n",
       "        vertical-align: middle;\n",
       "    }\n",
       "\n",
       "    .dataframe tbody tr th {\n",
       "        vertical-align: top;\n",
       "    }\n",
       "\n",
       "    .dataframe thead th {\n",
       "        text-align: right;\n",
       "    }\n",
       "</style>\n",
       "<table border=\"1\" class=\"dataframe\">\n",
       "  <thead>\n",
       "    <tr style=\"text-align: right;\">\n",
       "      <th></th>\n",
       "      <th>fips</th>\n",
       "      <th>place</th>\n",
       "      <th>state</th>\n",
       "      <th>total_reg_voters</th>\n",
       "    </tr>\n",
       "  </thead>\n",
       "  <tbody>\n",
       "    <tr>\n",
       "      <th>0</th>\n",
       "      <td>0200000000</td>\n",
       "      <td>ALASKA</td>\n",
       "      <td>AK</td>\n",
       "      <td>587303</td>\n",
       "    </tr>\n",
       "    <tr>\n",
       "      <th>1</th>\n",
       "      <td>0100100000</td>\n",
       "      <td>AUTAUGA COUNTY</td>\n",
       "      <td>AL</td>\n",
       "      <td>38187</td>\n",
       "    </tr>\n",
       "    <tr>\n",
       "      <th>2</th>\n",
       "      <td>0100300000</td>\n",
       "      <td>BALDWIN COUNTY</td>\n",
       "      <td>AL</td>\n",
       "      <td>146824</td>\n",
       "    </tr>\n",
       "    <tr>\n",
       "      <th>3</th>\n",
       "      <td>0100500000</td>\n",
       "      <td>BARBOUR COUNTY</td>\n",
       "      <td>AL</td>\n",
       "      <td>17102</td>\n",
       "    </tr>\n",
       "    <tr>\n",
       "      <th>4</th>\n",
       "      <td>0100700000</td>\n",
       "      <td>BIBB COUNTY</td>\n",
       "      <td>AL</td>\n",
       "      <td>13510</td>\n",
       "    </tr>\n",
       "  </tbody>\n",
       "</table>\n",
       "</div>"
      ],
      "text/plain": [
       "         fips           place state total_reg_voters\n",
       "0  0200000000          ALASKA    AK           587303\n",
       "1  0100100000  AUTAUGA COUNTY    AL            38187\n",
       "2  0100300000  BALDWIN COUNTY    AL           146824\n",
       "3  0100500000  BARBOUR COUNTY    AL            17102\n",
       "4  0100700000     BIBB COUNTY    AL            13510"
      ]
     },
     "execution_count": 14,
     "metadata": {},
     "output_type": "execute_result"
    }
   ],
   "source": [
    "src_2016a.head()"
   ]
  },
  {
   "cell_type": "markdown",
   "id": "65507c9f-98bf-46d3-bc35-9d659419a3b9",
   "metadata": {},
   "source": [
    "#### Mail ballots sent"
   ]
  },
  {
   "cell_type": "code",
   "execution_count": 15,
   "id": "eba73871-334d-4dfe-9656-54e8ea3b1fdc",
   "metadata": {},
   "outputs": [],
   "source": [
    "src_2016c = pd.read_excel(\n",
    "    \"input/EAVS 2016 Final Data for Public Release v.4.xls\",\n",
    "    sheet_name=\"SECTION C\",\n",
    "    dtype={\"FIPSCode\": str},\n",
    ")"
   ]
  },
  {
   "cell_type": "code",
   "execution_count": 16,
   "id": "69513fed-71d3-4586-a507-c72545adf348",
   "metadata": {},
   "outputs": [],
   "source": [
    "src_2016c = src_2016c[[\"FIPSCode\", \"JurisdictionName\", \"State\", \"C1a\"]].copy()"
   ]
  },
  {
   "cell_type": "code",
   "execution_count": 17,
   "id": "cb5718d8-68de-4a78-a27a-dbb9227b1d6d",
   "metadata": {},
   "outputs": [],
   "source": [
    "src_2016c.rename(\n",
    "    columns={\n",
    "        \"FIPSCode\": \"fips\",\n",
    "        \"JurisdictionName\": \"place\",\n",
    "        \"State\": \"state\",\n",
    "        \"C1a\": \"mail_ballots_sent\",\n",
    "    },\n",
    "    inplace=True,\n",
    ")"
   ]
  },
  {
   "cell_type": "code",
   "execution_count": 18,
   "id": "8db951ca-0c81-437b-9299-51181b5ad1f1",
   "metadata": {},
   "outputs": [
    {
     "data": {
      "text/html": [
       "<div>\n",
       "<style scoped>\n",
       "    .dataframe tbody tr th:only-of-type {\n",
       "        vertical-align: middle;\n",
       "    }\n",
       "\n",
       "    .dataframe tbody tr th {\n",
       "        vertical-align: top;\n",
       "    }\n",
       "\n",
       "    .dataframe thead th {\n",
       "        text-align: right;\n",
       "    }\n",
       "</style>\n",
       "<table border=\"1\" class=\"dataframe\">\n",
       "  <thead>\n",
       "    <tr style=\"text-align: right;\">\n",
       "      <th></th>\n",
       "      <th>fips</th>\n",
       "      <th>place</th>\n",
       "      <th>state</th>\n",
       "      <th>mail_ballots_sent</th>\n",
       "    </tr>\n",
       "  </thead>\n",
       "  <tbody>\n",
       "    <tr>\n",
       "      <th>0</th>\n",
       "      <td>0200000000</td>\n",
       "      <td>ALASKA</td>\n",
       "      <td>AK</td>\n",
       "      <td>31817</td>\n",
       "    </tr>\n",
       "    <tr>\n",
       "      <th>1</th>\n",
       "      <td>0100100000</td>\n",
       "      <td>AUTAUGA COUNTY</td>\n",
       "      <td>AL</td>\n",
       "      <td>1290</td>\n",
       "    </tr>\n",
       "    <tr>\n",
       "      <th>2</th>\n",
       "      <td>0100300000</td>\n",
       "      <td>BALDWIN COUNTY</td>\n",
       "      <td>AL</td>\n",
       "      <td>5317</td>\n",
       "    </tr>\n",
       "    <tr>\n",
       "      <th>3</th>\n",
       "      <td>0100500000</td>\n",
       "      <td>BARBOUR COUNTY</td>\n",
       "      <td>AL</td>\n",
       "      <td>652</td>\n",
       "    </tr>\n",
       "    <tr>\n",
       "      <th>4</th>\n",
       "      <td>0100700000</td>\n",
       "      <td>BIBB COUNTY</td>\n",
       "      <td>AL</td>\n",
       "      <td>244</td>\n",
       "    </tr>\n",
       "  </tbody>\n",
       "</table>\n",
       "</div>"
      ],
      "text/plain": [
       "         fips           place state mail_ballots_sent\n",
       "0  0200000000          ALASKA    AK             31817\n",
       "1  0100100000  AUTAUGA COUNTY    AL              1290\n",
       "2  0100300000  BALDWIN COUNTY    AL              5317\n",
       "3  0100500000  BARBOUR COUNTY    AL               652\n",
       "4  0100700000     BIBB COUNTY    AL               244"
      ]
     },
     "execution_count": 18,
     "metadata": {},
     "output_type": "execute_result"
    }
   ],
   "source": [
    "src_2016c.head()"
   ]
  },
  {
   "cell_type": "markdown",
   "id": "5b45dc16-dd8c-4a21-96a7-6fd55286eaf3",
   "metadata": {},
   "source": [
    "#### Votes cast"
   ]
  },
  {
   "cell_type": "code",
   "execution_count": 19,
   "id": "528e904f-d7ce-4afb-9c27-e1eb7ac09a05",
   "metadata": {},
   "outputs": [],
   "source": [
    "src_2016f = pd.read_excel(\n",
    "    \"input/EAVS 2016 Final Data for Public Release v.4.xls\",\n",
    "    sheet_name=\"SECTION F\",\n",
    "    dtype={\"FIPSCode\": str},\n",
    ")"
   ]
  },
  {
   "cell_type": "code",
   "execution_count": 20,
   "id": "83ead422-c8ba-4878-b599-0c88b984e34f",
   "metadata": {},
   "outputs": [],
   "source": [
    "src_2016f = src_2016f[[\"FIPSCode\", \"JurisdictionName\", \"State\", \"F1a\"]].copy()"
   ]
  },
  {
   "cell_type": "code",
   "execution_count": 21,
   "id": "a1745eb5-7f46-4f88-aa4f-fb9af131c07e",
   "metadata": {},
   "outputs": [],
   "source": [
    "src_2016f.rename(\n",
    "    columns={\n",
    "        \"FIPSCode\": \"fips\",\n",
    "        \"JurisdictionName\": \"place\",\n",
    "        \"State\": \"state\",\n",
    "        \"F1a\": \"total_votes_cast\",\n",
    "    },\n",
    "    inplace=True,\n",
    ")"
   ]
  },
  {
   "cell_type": "code",
   "execution_count": 22,
   "id": "4c0ef9f8-7764-4cff-8bb5-7838a38a8ac8",
   "metadata": {},
   "outputs": [
    {
     "data": {
      "text/html": [
       "<div>\n",
       "<style scoped>\n",
       "    .dataframe tbody tr th:only-of-type {\n",
       "        vertical-align: middle;\n",
       "    }\n",
       "\n",
       "    .dataframe tbody tr th {\n",
       "        vertical-align: top;\n",
       "    }\n",
       "\n",
       "    .dataframe thead th {\n",
       "        text-align: right;\n",
       "    }\n",
       "</style>\n",
       "<table border=\"1\" class=\"dataframe\">\n",
       "  <thead>\n",
       "    <tr style=\"text-align: right;\">\n",
       "      <th></th>\n",
       "      <th>fips</th>\n",
       "      <th>place</th>\n",
       "      <th>state</th>\n",
       "      <th>total_votes_cast</th>\n",
       "    </tr>\n",
       "  </thead>\n",
       "  <tbody>\n",
       "    <tr>\n",
       "      <th>0</th>\n",
       "      <td>0200000000</td>\n",
       "      <td>ALASKA</td>\n",
       "      <td>AK</td>\n",
       "      <td>323288</td>\n",
       "    </tr>\n",
       "    <tr>\n",
       "      <th>1</th>\n",
       "      <td>0100100000</td>\n",
       "      <td>AUTAUGA COUNTY</td>\n",
       "      <td>AL</td>\n",
       "      <td>25146</td>\n",
       "    </tr>\n",
       "    <tr>\n",
       "      <th>2</th>\n",
       "      <td>0100300000</td>\n",
       "      <td>BALDWIN COUNTY</td>\n",
       "      <td>AL</td>\n",
       "      <td>96229</td>\n",
       "    </tr>\n",
       "    <tr>\n",
       "      <th>3</th>\n",
       "      <td>0100500000</td>\n",
       "      <td>BARBOUR COUNTY</td>\n",
       "      <td>AL</td>\n",
       "      <td>10544</td>\n",
       "    </tr>\n",
       "    <tr>\n",
       "      <th>4</th>\n",
       "      <td>0100700000</td>\n",
       "      <td>BIBB COUNTY</td>\n",
       "      <td>AL</td>\n",
       "      <td>8853</td>\n",
       "    </tr>\n",
       "  </tbody>\n",
       "</table>\n",
       "</div>"
      ],
      "text/plain": [
       "         fips           place state total_votes_cast\n",
       "0  0200000000          ALASKA    AK           323288\n",
       "1  0100100000  AUTAUGA COUNTY    AL            25146\n",
       "2  0100300000  BALDWIN COUNTY    AL            96229\n",
       "3  0100500000  BARBOUR COUNTY    AL            10544\n",
       "4  0100700000     BIBB COUNTY    AL             8853"
      ]
     },
     "execution_count": 22,
     "metadata": {},
     "output_type": "execute_result"
    }
   ],
   "source": [
    "src_2016f.head()"
   ]
  },
  {
   "cell_type": "markdown",
   "id": "13c2bc1f-76c0-4b78-ba2e-323631cb23d4",
   "metadata": {},
   "source": [
    "#### Polling places"
   ]
  },
  {
   "cell_type": "code",
   "execution_count": 23,
   "id": "d3d67420-551c-487c-8246-c5499e205328",
   "metadata": {},
   "outputs": [],
   "source": [
    "src_2016d = pd.read_excel(\n",
    "    \"input/EAVS 2016 Final Data for Public Release v.4.xls\",\n",
    "    sheet_name=\"SECTION D\",\n",
    "    dtype={\"FIPSCode\": str},\n",
    ")"
   ]
  },
  {
   "cell_type": "code",
   "execution_count": 24,
   "id": "66d151b7-607c-4bd6-9b89-5de21160dce1",
   "metadata": {},
   "outputs": [],
   "source": [
    "src_2016d = src_2016d[\n",
    "    [\"FIPSCode\", \"JurisdictionName\", \"State\", \"D2a\", \"D2e\", \"D2f\"]\n",
    "].copy()"
   ]
  },
  {
   "cell_type": "code",
   "execution_count": 25,
   "id": "af497a31-1ef5-4f1f-baba-d08ef931e82a",
   "metadata": {},
   "outputs": [],
   "source": [
    "src_2016d.rename(\n",
    "    columns={\n",
    "        \"FIPSCode\": \"fips\",\n",
    "        \"JurisdictionName\": \"place\",\n",
    "        \"State\": \"state\",\n",
    "        \"D2a\": \"poll_place_elect_day\",\n",
    "        \"D2e\": \"poll_place_early_not_election_office\",\n",
    "        \"D2f\": \"poll_place_early_election_office\",\n",
    "    },\n",
    "    inplace=True,\n",
    ")"
   ]
  },
  {
   "cell_type": "code",
   "execution_count": 26,
   "id": "a49b9b6d-6490-4a20-b24c-da04c96555d0",
   "metadata": {},
   "outputs": [],
   "source": [
    "missing_values = [\n",
    "    \"-999999.0\",\n",
    "    \"-99.0\",\n",
    "    \"-888888.0\",\n",
    "    \"-88.0\",\n",
    "    \"-999999: Data Not Available\",\n",
    "    \"-888888: Not Applicable\",\n",
    "    \"\",\n",
    "    \"\",\n",
    "    # Minnesota does not have provisional ballots.\n",
    "]\n",
    "src_2016d = src_2016d.replace(missing_values, np.NaN)"
   ]
  },
  {
   "cell_type": "code",
   "execution_count": 27,
   "id": "049806db-f923-4400-9927-0ee1bf0dffcf",
   "metadata": {},
   "outputs": [],
   "source": [
    "src_2016d[\"poll_place_early\"] = src_2016d[\n",
    "    \"poll_place_early_not_election_office\"\n",
    "].astype(float) + src_2016d[\"poll_place_early_election_office\"].astype(float)"
   ]
  },
  {
   "cell_type": "code",
   "execution_count": 28,
   "id": "945d654e-7c93-4ce1-a810-93358dd7eccb",
   "metadata": {},
   "outputs": [],
   "source": [
    "src_2016d.drop(\n",
    "    {\"poll_place_early_not_election_office\", \"poll_place_early_election_office\"},\n",
    "    axis=1,\n",
    "    inplace=True,\n",
    ")"
   ]
  },
  {
   "cell_type": "code",
   "execution_count": 29,
   "id": "ff72829c-8ae6-419d-af46-e853a38c42f2",
   "metadata": {},
   "outputs": [
    {
     "data": {
      "text/html": [
       "<div>\n",
       "<style scoped>\n",
       "    .dataframe tbody tr th:only-of-type {\n",
       "        vertical-align: middle;\n",
       "    }\n",
       "\n",
       "    .dataframe tbody tr th {\n",
       "        vertical-align: top;\n",
       "    }\n",
       "\n",
       "    .dataframe thead th {\n",
       "        text-align: right;\n",
       "    }\n",
       "</style>\n",
       "<table border=\"1\" class=\"dataframe\">\n",
       "  <thead>\n",
       "    <tr style=\"text-align: right;\">\n",
       "      <th></th>\n",
       "      <th>fips</th>\n",
       "      <th>place</th>\n",
       "      <th>state</th>\n",
       "      <th>poll_place_elect_day</th>\n",
       "      <th>poll_place_early</th>\n",
       "    </tr>\n",
       "  </thead>\n",
       "  <tbody>\n",
       "    <tr>\n",
       "      <th>0</th>\n",
       "      <td>0200000000</td>\n",
       "      <td>ALASKA</td>\n",
       "      <td>AK</td>\n",
       "      <td>624</td>\n",
       "      <td>183.0</td>\n",
       "    </tr>\n",
       "    <tr>\n",
       "      <th>1</th>\n",
       "      <td>0100100000</td>\n",
       "      <td>AUTAUGA COUNTY</td>\n",
       "      <td>AL</td>\n",
       "      <td>17</td>\n",
       "      <td>NaN</td>\n",
       "    </tr>\n",
       "    <tr>\n",
       "      <th>2</th>\n",
       "      <td>0100300000</td>\n",
       "      <td>BALDWIN COUNTY</td>\n",
       "      <td>AL</td>\n",
       "      <td>87</td>\n",
       "      <td>NaN</td>\n",
       "    </tr>\n",
       "    <tr>\n",
       "      <th>3</th>\n",
       "      <td>0100500000</td>\n",
       "      <td>BARBOUR COUNTY</td>\n",
       "      <td>AL</td>\n",
       "      <td>21</td>\n",
       "      <td>NaN</td>\n",
       "    </tr>\n",
       "    <tr>\n",
       "      <th>4</th>\n",
       "      <td>0100700000</td>\n",
       "      <td>BIBB COUNTY</td>\n",
       "      <td>AL</td>\n",
       "      <td>16</td>\n",
       "      <td>NaN</td>\n",
       "    </tr>\n",
       "  </tbody>\n",
       "</table>\n",
       "</div>"
      ],
      "text/plain": [
       "         fips           place state poll_place_elect_day  poll_place_early\n",
       "0  0200000000          ALASKA    AK                  624             183.0\n",
       "1  0100100000  AUTAUGA COUNTY    AL                   17               NaN\n",
       "2  0100300000  BALDWIN COUNTY    AL                   87               NaN\n",
       "3  0100500000  BARBOUR COUNTY    AL                   21               NaN\n",
       "4  0100700000     BIBB COUNTY    AL                   16               NaN"
      ]
     },
     "execution_count": 29,
     "metadata": {},
     "output_type": "execute_result"
    }
   ],
   "source": [
    "src_2016d.head()"
   ]
  },
  {
   "cell_type": "markdown",
   "id": "6d59fe14-bd94-4ba9-abe9-2211e9c13b2c",
   "metadata": {},
   "source": [
    "### Merge 'em "
   ]
  },
  {
   "cell_type": "code",
   "execution_count": 30,
   "id": "285ef7da-da8d-4724-848e-7c75a413c2c9",
   "metadata": {},
   "outputs": [],
   "source": [
    "from functools import reduce"
   ]
  },
  {
   "cell_type": "code",
   "execution_count": 31,
   "id": "f02966b5-3bf4-4ab4-83e7-99b5cd190502",
   "metadata": {},
   "outputs": [],
   "source": [
    "src_2016_all = reduce(\n",
    "    lambda x, y: pd.merge(x, y, on=[\"state\", \"fips\"], how=\"inner\"),\n",
    "    [src_2016a, src_2016c, src_2016f, src_2016d],\n",
    ")"
   ]
  },
  {
   "cell_type": "code",
   "execution_count": 32,
   "id": "6b302c7b-b45d-40b0-8e20-0177f64a23a2",
   "metadata": {},
   "outputs": [
    {
     "data": {
      "text/html": [
       "<div>\n",
       "<style scoped>\n",
       "    .dataframe tbody tr th:only-of-type {\n",
       "        vertical-align: middle;\n",
       "    }\n",
       "\n",
       "    .dataframe tbody tr th {\n",
       "        vertical-align: top;\n",
       "    }\n",
       "\n",
       "    .dataframe thead th {\n",
       "        text-align: right;\n",
       "    }\n",
       "</style>\n",
       "<table border=\"1\" class=\"dataframe\">\n",
       "  <thead>\n",
       "    <tr style=\"text-align: right;\">\n",
       "      <th></th>\n",
       "      <th>fips</th>\n",
       "      <th>place_x</th>\n",
       "      <th>state</th>\n",
       "      <th>total_reg_voters</th>\n",
       "      <th>place_y</th>\n",
       "      <th>mail_ballots_sent</th>\n",
       "      <th>place_x</th>\n",
       "      <th>total_votes_cast</th>\n",
       "      <th>place_y</th>\n",
       "      <th>poll_place_elect_day</th>\n",
       "      <th>poll_place_early</th>\n",
       "    </tr>\n",
       "  </thead>\n",
       "  <tbody>\n",
       "    <tr>\n",
       "      <th>0</th>\n",
       "      <td>0200000000</td>\n",
       "      <td>ALASKA</td>\n",
       "      <td>AK</td>\n",
       "      <td>587303</td>\n",
       "      <td>ALASKA</td>\n",
       "      <td>31817</td>\n",
       "      <td>ALASKA</td>\n",
       "      <td>323288</td>\n",
       "      <td>ALASKA</td>\n",
       "      <td>624</td>\n",
       "      <td>183.0</td>\n",
       "    </tr>\n",
       "    <tr>\n",
       "      <th>1</th>\n",
       "      <td>0100100000</td>\n",
       "      <td>AUTAUGA COUNTY</td>\n",
       "      <td>AL</td>\n",
       "      <td>38187</td>\n",
       "      <td>AUTAUGA COUNTY</td>\n",
       "      <td>1290</td>\n",
       "      <td>AUTAUGA COUNTY</td>\n",
       "      <td>25146</td>\n",
       "      <td>AUTAUGA COUNTY</td>\n",
       "      <td>17</td>\n",
       "      <td>NaN</td>\n",
       "    </tr>\n",
       "    <tr>\n",
       "      <th>2</th>\n",
       "      <td>0100300000</td>\n",
       "      <td>BALDWIN COUNTY</td>\n",
       "      <td>AL</td>\n",
       "      <td>146824</td>\n",
       "      <td>BALDWIN COUNTY</td>\n",
       "      <td>5317</td>\n",
       "      <td>BALDWIN COUNTY</td>\n",
       "      <td>96229</td>\n",
       "      <td>BALDWIN COUNTY</td>\n",
       "      <td>87</td>\n",
       "      <td>NaN</td>\n",
       "    </tr>\n",
       "    <tr>\n",
       "      <th>3</th>\n",
       "      <td>0100500000</td>\n",
       "      <td>BARBOUR COUNTY</td>\n",
       "      <td>AL</td>\n",
       "      <td>17102</td>\n",
       "      <td>BARBOUR COUNTY</td>\n",
       "      <td>652</td>\n",
       "      <td>BARBOUR COUNTY</td>\n",
       "      <td>10544</td>\n",
       "      <td>BARBOUR COUNTY</td>\n",
       "      <td>21</td>\n",
       "      <td>NaN</td>\n",
       "    </tr>\n",
       "    <tr>\n",
       "      <th>4</th>\n",
       "      <td>0100700000</td>\n",
       "      <td>BIBB COUNTY</td>\n",
       "      <td>AL</td>\n",
       "      <td>13510</td>\n",
       "      <td>BIBB COUNTY</td>\n",
       "      <td>244</td>\n",
       "      <td>BIBB COUNTY</td>\n",
       "      <td>8853</td>\n",
       "      <td>BIBB COUNTY</td>\n",
       "      <td>16</td>\n",
       "      <td>NaN</td>\n",
       "    </tr>\n",
       "  </tbody>\n",
       "</table>\n",
       "</div>"
      ],
      "text/plain": [
       "         fips         place_x state total_reg_voters         place_y  \\\n",
       "0  0200000000          ALASKA    AK           587303          ALASKA   \n",
       "1  0100100000  AUTAUGA COUNTY    AL            38187  AUTAUGA COUNTY   \n",
       "2  0100300000  BALDWIN COUNTY    AL           146824  BALDWIN COUNTY   \n",
       "3  0100500000  BARBOUR COUNTY    AL            17102  BARBOUR COUNTY   \n",
       "4  0100700000     BIBB COUNTY    AL            13510     BIBB COUNTY   \n",
       "\n",
       "  mail_ballots_sent         place_x total_votes_cast         place_y  \\\n",
       "0             31817          ALASKA           323288          ALASKA   \n",
       "1              1290  AUTAUGA COUNTY            25146  AUTAUGA COUNTY   \n",
       "2              5317  BALDWIN COUNTY            96229  BALDWIN COUNTY   \n",
       "3               652  BARBOUR COUNTY            10544  BARBOUR COUNTY   \n",
       "4               244     BIBB COUNTY             8853     BIBB COUNTY   \n",
       "\n",
       "  poll_place_elect_day  poll_place_early  \n",
       "0                  624             183.0  \n",
       "1                   17               NaN  \n",
       "2                   87               NaN  \n",
       "3                   21               NaN  \n",
       "4                   16               NaN  "
      ]
     },
     "execution_count": 32,
     "metadata": {},
     "output_type": "execute_result"
    }
   ],
   "source": [
    "src_2016_all.head()"
   ]
  },
  {
   "cell_type": "code",
   "execution_count": 33,
   "id": "7294630a-465a-4c06-8ed3-b1d20fa32c77",
   "metadata": {},
   "outputs": [],
   "source": [
    "src_2016_all.rename(\n",
    "    columns={\"place_x\": \"place\", \"place_y\": \"place\"}, inplace=True,\n",
    ")"
   ]
  },
  {
   "cell_type": "code",
   "execution_count": 34,
   "id": "1308dde5-7076-4553-8919-5f103be368ad",
   "metadata": {},
   "outputs": [],
   "source": [
    "src_2016_all = src_2016_all.loc[:, ~src_2016_all.columns.duplicated()]"
   ]
  },
  {
   "cell_type": "code",
   "execution_count": 35,
   "id": "46692a2c-2a97-4f53-bd2c-bd2e60f79e30",
   "metadata": {},
   "outputs": [
    {
     "data": {
      "text/html": [
       "<div>\n",
       "<style scoped>\n",
       "    .dataframe tbody tr th:only-of-type {\n",
       "        vertical-align: middle;\n",
       "    }\n",
       "\n",
       "    .dataframe tbody tr th {\n",
       "        vertical-align: top;\n",
       "    }\n",
       "\n",
       "    .dataframe thead th {\n",
       "        text-align: right;\n",
       "    }\n",
       "</style>\n",
       "<table border=\"1\" class=\"dataframe\">\n",
       "  <thead>\n",
       "    <tr style=\"text-align: right;\">\n",
       "      <th></th>\n",
       "      <th>fips</th>\n",
       "      <th>place</th>\n",
       "      <th>state</th>\n",
       "      <th>total_reg_voters</th>\n",
       "      <th>mail_ballots_sent</th>\n",
       "      <th>total_votes_cast</th>\n",
       "      <th>poll_place_elect_day</th>\n",
       "      <th>poll_place_early</th>\n",
       "    </tr>\n",
       "  </thead>\n",
       "  <tbody>\n",
       "    <tr>\n",
       "      <th>0</th>\n",
       "      <td>0200000000</td>\n",
       "      <td>ALASKA</td>\n",
       "      <td>AK</td>\n",
       "      <td>587303</td>\n",
       "      <td>31817</td>\n",
       "      <td>323288</td>\n",
       "      <td>624</td>\n",
       "      <td>183.0</td>\n",
       "    </tr>\n",
       "    <tr>\n",
       "      <th>1</th>\n",
       "      <td>0100100000</td>\n",
       "      <td>AUTAUGA COUNTY</td>\n",
       "      <td>AL</td>\n",
       "      <td>38187</td>\n",
       "      <td>1290</td>\n",
       "      <td>25146</td>\n",
       "      <td>17</td>\n",
       "      <td>NaN</td>\n",
       "    </tr>\n",
       "    <tr>\n",
       "      <th>2</th>\n",
       "      <td>0100300000</td>\n",
       "      <td>BALDWIN COUNTY</td>\n",
       "      <td>AL</td>\n",
       "      <td>146824</td>\n",
       "      <td>5317</td>\n",
       "      <td>96229</td>\n",
       "      <td>87</td>\n",
       "      <td>NaN</td>\n",
       "    </tr>\n",
       "    <tr>\n",
       "      <th>3</th>\n",
       "      <td>0100500000</td>\n",
       "      <td>BARBOUR COUNTY</td>\n",
       "      <td>AL</td>\n",
       "      <td>17102</td>\n",
       "      <td>652</td>\n",
       "      <td>10544</td>\n",
       "      <td>21</td>\n",
       "      <td>NaN</td>\n",
       "    </tr>\n",
       "    <tr>\n",
       "      <th>4</th>\n",
       "      <td>0100700000</td>\n",
       "      <td>BIBB COUNTY</td>\n",
       "      <td>AL</td>\n",
       "      <td>13510</td>\n",
       "      <td>244</td>\n",
       "      <td>8853</td>\n",
       "      <td>16</td>\n",
       "      <td>NaN</td>\n",
       "    </tr>\n",
       "  </tbody>\n",
       "</table>\n",
       "</div>"
      ],
      "text/plain": [
       "         fips           place state total_reg_voters mail_ballots_sent  \\\n",
       "0  0200000000          ALASKA    AK           587303             31817   \n",
       "1  0100100000  AUTAUGA COUNTY    AL            38187              1290   \n",
       "2  0100300000  BALDWIN COUNTY    AL           146824              5317   \n",
       "3  0100500000  BARBOUR COUNTY    AL            17102               652   \n",
       "4  0100700000     BIBB COUNTY    AL            13510               244   \n",
       "\n",
       "  total_votes_cast poll_place_elect_day  poll_place_early  \n",
       "0           323288                  624             183.0  \n",
       "1            25146                   17               NaN  \n",
       "2            96229                   87               NaN  \n",
       "3            10544                   21               NaN  \n",
       "4             8853                   16               NaN  "
      ]
     },
     "execution_count": 35,
     "metadata": {},
     "output_type": "execute_result"
    }
   ],
   "source": [
    "src_2016_all.head()"
   ]
  },
  {
   "cell_type": "code",
   "execution_count": 36,
   "id": "02cbf9ec-8ecf-44ee-87ca-bc443f12da97",
   "metadata": {},
   "outputs": [],
   "source": [
    "places2016 = src_2016_all.copy()"
   ]
  },
  {
   "cell_type": "code",
   "execution_count": 37,
   "id": "fbe61907-37ca-4906-9e94-5084a889d6fd",
   "metadata": {},
   "outputs": [
    {
     "data": {
      "text/html": [
       "<div>\n",
       "<style scoped>\n",
       "    .dataframe tbody tr th:only-of-type {\n",
       "        vertical-align: middle;\n",
       "    }\n",
       "\n",
       "    .dataframe tbody tr th {\n",
       "        vertical-align: top;\n",
       "    }\n",
       "\n",
       "    .dataframe thead th {\n",
       "        text-align: right;\n",
       "    }\n",
       "</style>\n",
       "<table border=\"1\" class=\"dataframe\">\n",
       "  <thead>\n",
       "    <tr style=\"text-align: right;\">\n",
       "      <th></th>\n",
       "      <th>fips</th>\n",
       "      <th>place</th>\n",
       "      <th>state</th>\n",
       "      <th>total_reg_voters</th>\n",
       "      <th>mail_ballots_sent</th>\n",
       "      <th>total_votes_cast</th>\n",
       "      <th>poll_place_elect_day</th>\n",
       "      <th>poll_place_early</th>\n",
       "    </tr>\n",
       "  </thead>\n",
       "  <tbody>\n",
       "    <tr>\n",
       "      <th>0</th>\n",
       "      <td>0200000000</td>\n",
       "      <td>ALASKA</td>\n",
       "      <td>AK</td>\n",
       "      <td>587303</td>\n",
       "      <td>31817</td>\n",
       "      <td>323288</td>\n",
       "      <td>624</td>\n",
       "      <td>183.0</td>\n",
       "    </tr>\n",
       "    <tr>\n",
       "      <th>1</th>\n",
       "      <td>0100100000</td>\n",
       "      <td>AUTAUGA COUNTY</td>\n",
       "      <td>AL</td>\n",
       "      <td>38187</td>\n",
       "      <td>1290</td>\n",
       "      <td>25146</td>\n",
       "      <td>17</td>\n",
       "      <td>NaN</td>\n",
       "    </tr>\n",
       "    <tr>\n",
       "      <th>2</th>\n",
       "      <td>0100300000</td>\n",
       "      <td>BALDWIN COUNTY</td>\n",
       "      <td>AL</td>\n",
       "      <td>146824</td>\n",
       "      <td>5317</td>\n",
       "      <td>96229</td>\n",
       "      <td>87</td>\n",
       "      <td>NaN</td>\n",
       "    </tr>\n",
       "    <tr>\n",
       "      <th>3</th>\n",
       "      <td>0100500000</td>\n",
       "      <td>BARBOUR COUNTY</td>\n",
       "      <td>AL</td>\n",
       "      <td>17102</td>\n",
       "      <td>652</td>\n",
       "      <td>10544</td>\n",
       "      <td>21</td>\n",
       "      <td>NaN</td>\n",
       "    </tr>\n",
       "    <tr>\n",
       "      <th>4</th>\n",
       "      <td>0100700000</td>\n",
       "      <td>BIBB COUNTY</td>\n",
       "      <td>AL</td>\n",
       "      <td>13510</td>\n",
       "      <td>244</td>\n",
       "      <td>8853</td>\n",
       "      <td>16</td>\n",
       "      <td>NaN</td>\n",
       "    </tr>\n",
       "  </tbody>\n",
       "</table>\n",
       "</div>"
      ],
      "text/plain": [
       "         fips           place state total_reg_voters mail_ballots_sent  \\\n",
       "0  0200000000          ALASKA    AK           587303             31817   \n",
       "1  0100100000  AUTAUGA COUNTY    AL            38187              1290   \n",
       "2  0100300000  BALDWIN COUNTY    AL           146824              5317   \n",
       "3  0100500000  BARBOUR COUNTY    AL            17102               652   \n",
       "4  0100700000     BIBB COUNTY    AL            13510               244   \n",
       "\n",
       "  total_votes_cast poll_place_elect_day  poll_place_early  \n",
       "0           323288                  624             183.0  \n",
       "1            25146                   17               NaN  \n",
       "2            96229                   87               NaN  \n",
       "3            10544                   21               NaN  \n",
       "4             8853                   16               NaN  "
      ]
     },
     "execution_count": 37,
     "metadata": {},
     "output_type": "execute_result"
    }
   ],
   "source": [
    "places2016.head()"
   ]
  },
  {
   "cell_type": "code",
   "execution_count": 38,
   "id": "ecf1ec1c-ff48-4652-858f-112cfca54c8c",
   "metadata": {},
   "outputs": [],
   "source": [
    "places2016[\"year\"] = \"2016\""
   ]
  },
  {
   "cell_type": "markdown",
   "id": "76352242-4771-4fe0-9461-8dbc8b8982e4",
   "metadata": {},
   "source": [
    "---"
   ]
  },
  {
   "cell_type": "markdown",
   "id": "a31da3bf-6442-4c83-8b7c-15d3e8f9f379",
   "metadata": {},
   "source": [
    "### 2012"
   ]
  },
  {
   "cell_type": "markdown",
   "id": "c498c96b-fc9f-40c5-b605-59c211868d72",
   "metadata": {},
   "source": [
    "#### Total voters"
   ]
  },
  {
   "cell_type": "code",
   "execution_count": 39,
   "id": "b780eae5-ecab-41d5-a36e-b46d3fac1dbb",
   "metadata": {},
   "outputs": [],
   "source": [
    "src_2012a = pd.read_excel(\"input/2012EAVS_NVRAData.xlsx\", dtype={\"FIPSCode\": str})"
   ]
  },
  {
   "cell_type": "code",
   "execution_count": 40,
   "id": "7aa1c3be-0773-42b4-9933-fee61fadb78d",
   "metadata": {},
   "outputs": [],
   "source": [
    "src_2012a = src_2012a[[\"State\", \"Jurisdiction\", \"FIPSCode\", \"QA1a\"]].copy()"
   ]
  },
  {
   "cell_type": "code",
   "execution_count": 41,
   "id": "a1434699-9190-4d67-aa31-3487e9632af0",
   "metadata": {},
   "outputs": [],
   "source": [
    "src_2012a.rename(columns={\"QA1a\": \"total_reg_voters\"}, inplace=True)"
   ]
  },
  {
   "cell_type": "markdown",
   "id": "ba8343a6-977a-44c1-9fcc-f46f16d4233b",
   "metadata": {},
   "source": [
    "#### Absentee ballots"
   ]
  },
  {
   "cell_type": "code",
   "execution_count": 42,
   "id": "796462fe-baa4-47a7-bdf0-a6b15871583c",
   "metadata": {},
   "outputs": [],
   "source": [
    "src_2012b = pd.read_excel(\"input/2012EAVS_UOCAVAData.xls\", dtype={\"FIPSCode\": str})"
   ]
  },
  {
   "cell_type": "code",
   "execution_count": 43,
   "id": "b1822ced-aef0-4ac7-b1c2-1e21455e44f4",
   "metadata": {},
   "outputs": [],
   "source": [
    "src_2012b = src_2012b[[\"State\", \"Jurisdiction\", \"FIPSCode\", \"QB1a\"]]"
   ]
  },
  {
   "cell_type": "code",
   "execution_count": 44,
   "id": "83b6586b-455b-4f21-a93a-3b785ea445b6",
   "metadata": {},
   "outputs": [],
   "source": [
    "src_2012b.rename(columns={\"QB1a\": \"mail_ballots_sent\"}, inplace=True)"
   ]
  },
  {
   "cell_type": "code",
   "execution_count": 45,
   "id": "50992271-da6e-465d-9864-287f094a3cd9",
   "metadata": {},
   "outputs": [
    {
     "data": {
      "text/html": [
       "<div>\n",
       "<style scoped>\n",
       "    .dataframe tbody tr th:only-of-type {\n",
       "        vertical-align: middle;\n",
       "    }\n",
       "\n",
       "    .dataframe tbody tr th {\n",
       "        vertical-align: top;\n",
       "    }\n",
       "\n",
       "    .dataframe thead th {\n",
       "        text-align: right;\n",
       "    }\n",
       "</style>\n",
       "<table border=\"1\" class=\"dataframe\">\n",
       "  <thead>\n",
       "    <tr style=\"text-align: right;\">\n",
       "      <th></th>\n",
       "      <th>State</th>\n",
       "      <th>Jurisdiction</th>\n",
       "      <th>FIPSCode</th>\n",
       "      <th>mail_ballots_sent</th>\n",
       "    </tr>\n",
       "  </thead>\n",
       "  <tbody>\n",
       "    <tr>\n",
       "      <th>0</th>\n",
       "      <td>AK</td>\n",
       "      <td>ALASKA</td>\n",
       "      <td>0200000000</td>\n",
       "      <td>11935.0</td>\n",
       "    </tr>\n",
       "    <tr>\n",
       "      <th>1</th>\n",
       "      <td>AL</td>\n",
       "      <td>AUTAUGA COUNTY</td>\n",
       "      <td>0100100000</td>\n",
       "      <td>75.0</td>\n",
       "    </tr>\n",
       "    <tr>\n",
       "      <th>2</th>\n",
       "      <td>AL</td>\n",
       "      <td>BALDWIN COUNTY</td>\n",
       "      <td>0100300000</td>\n",
       "      <td>253.0</td>\n",
       "    </tr>\n",
       "    <tr>\n",
       "      <th>3</th>\n",
       "      <td>AL</td>\n",
       "      <td>BARBOUR COUNTY</td>\n",
       "      <td>0100500000</td>\n",
       "      <td>25.0</td>\n",
       "    </tr>\n",
       "    <tr>\n",
       "      <th>4</th>\n",
       "      <td>AL</td>\n",
       "      <td>BIBB COUNTY</td>\n",
       "      <td>0100700000</td>\n",
       "      <td>3.0</td>\n",
       "    </tr>\n",
       "  </tbody>\n",
       "</table>\n",
       "</div>"
      ],
      "text/plain": [
       "  State    Jurisdiction    FIPSCode  mail_ballots_sent\n",
       "0    AK          ALASKA  0200000000            11935.0\n",
       "1    AL  AUTAUGA COUNTY  0100100000               75.0\n",
       "2    AL  BALDWIN COUNTY  0100300000              253.0\n",
       "3    AL  BARBOUR COUNTY  0100500000               25.0\n",
       "4    AL     BIBB COUNTY  0100700000                3.0"
      ]
     },
     "execution_count": 45,
     "metadata": {},
     "output_type": "execute_result"
    }
   ],
   "source": [
    "src_2012b.head()"
   ]
  },
  {
   "cell_type": "markdown",
   "id": "772bf2b0-22f0-4db8-8d66-092444a7eb26",
   "metadata": {},
   "source": [
    "#### Polling places"
   ]
  },
  {
   "cell_type": "code",
   "execution_count": 46,
   "id": "12e5151b-948c-436d-9b08-bc0e3198c7d7",
   "metadata": {},
   "outputs": [],
   "source": [
    "src_2012d = pd.read_excel(\n",
    "    \"input/Excel Files-Part 1/Section D.xls\",\n",
    "    dtype={\"FIPSCode\": str, \"QD2a\": str, \"QD2e\": str, \"QD2f\": str},\n",
    ")"
   ]
  },
  {
   "cell_type": "code",
   "execution_count": 47,
   "id": "4d33dda1-ea77-4071-bc8a-6e3ce4fa4dcb",
   "metadata": {},
   "outputs": [],
   "source": [
    "src_2012d = src_2012d[[\"State\", \"Jurisdiction\", \"FIPSCode\", \"QD2a\", \"QD2e\", \"QD2f\"]]"
   ]
  },
  {
   "cell_type": "code",
   "execution_count": 48,
   "id": "9e9e0bb7-4174-418a-aac9-eca7d352e277",
   "metadata": {},
   "outputs": [],
   "source": [
    "src_2012d.rename(\n",
    "    columns={\n",
    "        \"QD2a\": \"poll_place_elect_day\",\n",
    "        \"QD2e\": \"poll_place_early_not_election_office\",\n",
    "        \"QD2f\": \"poll_place_early_election_office\",\n",
    "    },\n",
    "    inplace=True,\n",
    ")"
   ]
  },
  {
   "cell_type": "code",
   "execution_count": 49,
   "id": "1f324be0-d856-4d3c-8072-ec82c461f409",
   "metadata": {},
   "outputs": [],
   "source": [
    "missing_values = [\n",
    "    \"-999999.0\",\n",
    "    \"-999999\",\n",
    "    \"-99.0\",\n",
    "    \"-888888.0\",\n",
    "    \"-88.0\",\n",
    "    \"-999999: Data Not Available\",\n",
    "    \"-888888: Not Applicable\",\n",
    "]\n",
    "src_2012d.replace(missing_values, np.NaN, inplace=True)"
   ]
  },
  {
   "cell_type": "code",
   "execution_count": 50,
   "id": "979b35e7-ada0-4634-a1d3-7d9232da296c",
   "metadata": {},
   "outputs": [],
   "source": [
    "src_2012d[\"poll_place_early\"] = src_2012d[\n",
    "    \"poll_place_early_not_election_office\"\n",
    "].astype(float) + src_2012d[\"poll_place_early_election_office\"].astype(float)"
   ]
  },
  {
   "cell_type": "code",
   "execution_count": 51,
   "id": "a43a4144-55dc-4b72-a95b-74a7fdc5f419",
   "metadata": {},
   "outputs": [
    {
     "data": {
      "text/html": [
       "<div>\n",
       "<style scoped>\n",
       "    .dataframe tbody tr th:only-of-type {\n",
       "        vertical-align: middle;\n",
       "    }\n",
       "\n",
       "    .dataframe tbody tr th {\n",
       "        vertical-align: top;\n",
       "    }\n",
       "\n",
       "    .dataframe thead th {\n",
       "        text-align: right;\n",
       "    }\n",
       "</style>\n",
       "<table border=\"1\" class=\"dataframe\">\n",
       "  <thead>\n",
       "    <tr style=\"text-align: right;\">\n",
       "      <th></th>\n",
       "      <th>State</th>\n",
       "      <th>Jurisdiction</th>\n",
       "      <th>FIPSCode</th>\n",
       "      <th>poll_place_elect_day</th>\n",
       "      <th>poll_place_early_not_election_office</th>\n",
       "      <th>poll_place_early_election_office</th>\n",
       "      <th>poll_place_early</th>\n",
       "    </tr>\n",
       "  </thead>\n",
       "  <tbody>\n",
       "    <tr>\n",
       "      <th>0</th>\n",
       "      <td>AK</td>\n",
       "      <td>ALASKA</td>\n",
       "      <td>0200000000</td>\n",
       "      <td>533</td>\n",
       "      <td>75</td>\n",
       "      <td>5</td>\n",
       "      <td>80.0</td>\n",
       "    </tr>\n",
       "    <tr>\n",
       "      <th>1</th>\n",
       "      <td>AL</td>\n",
       "      <td>AUTAUGA COUNTY</td>\n",
       "      <td>0100100000</td>\n",
       "      <td>17</td>\n",
       "      <td>NaN</td>\n",
       "      <td>NaN</td>\n",
       "      <td>NaN</td>\n",
       "    </tr>\n",
       "    <tr>\n",
       "      <th>2</th>\n",
       "      <td>AL</td>\n",
       "      <td>BALDWIN COUNTY</td>\n",
       "      <td>0100300000</td>\n",
       "      <td>46</td>\n",
       "      <td>NaN</td>\n",
       "      <td>NaN</td>\n",
       "      <td>NaN</td>\n",
       "    </tr>\n",
       "    <tr>\n",
       "      <th>3</th>\n",
       "      <td>AL</td>\n",
       "      <td>BARBOUR COUNTY</td>\n",
       "      <td>0100500000</td>\n",
       "      <td>17</td>\n",
       "      <td>NaN</td>\n",
       "      <td>NaN</td>\n",
       "      <td>NaN</td>\n",
       "    </tr>\n",
       "    <tr>\n",
       "      <th>4</th>\n",
       "      <td>AL</td>\n",
       "      <td>BIBB COUNTY</td>\n",
       "      <td>0100700000</td>\n",
       "      <td>8</td>\n",
       "      <td>NaN</td>\n",
       "      <td>NaN</td>\n",
       "      <td>NaN</td>\n",
       "    </tr>\n",
       "  </tbody>\n",
       "</table>\n",
       "</div>"
      ],
      "text/plain": [
       "  State    Jurisdiction    FIPSCode poll_place_elect_day  \\\n",
       "0    AK          ALASKA  0200000000                  533   \n",
       "1    AL  AUTAUGA COUNTY  0100100000                   17   \n",
       "2    AL  BALDWIN COUNTY  0100300000                   46   \n",
       "3    AL  BARBOUR COUNTY  0100500000                   17   \n",
       "4    AL     BIBB COUNTY  0100700000                    8   \n",
       "\n",
       "  poll_place_early_not_election_office poll_place_early_election_office  \\\n",
       "0                                   75                                5   \n",
       "1                                  NaN                              NaN   \n",
       "2                                  NaN                              NaN   \n",
       "3                                  NaN                              NaN   \n",
       "4                                  NaN                              NaN   \n",
       "\n",
       "   poll_place_early  \n",
       "0              80.0  \n",
       "1               NaN  \n",
       "2               NaN  \n",
       "3               NaN  \n",
       "4               NaN  "
      ]
     },
     "execution_count": 51,
     "metadata": {},
     "output_type": "execute_result"
    }
   ],
   "source": [
    "src_2012d.head()"
   ]
  },
  {
   "cell_type": "code",
   "execution_count": 52,
   "id": "3a3bf13b-8b4e-42cf-a722-4623e3ac4fa5",
   "metadata": {},
   "outputs": [],
   "source": [
    "src_2012d.drop(\n",
    "    {\"poll_place_early_not_election_office\", \"poll_place_early_election_office\"},\n",
    "    axis=1,\n",
    "    inplace=True,\n",
    ")"
   ]
  },
  {
   "cell_type": "code",
   "execution_count": 53,
   "id": "7cb7dd2c-7286-4412-aaaf-3bd0d843e4d3",
   "metadata": {},
   "outputs": [
    {
     "data": {
      "text/html": [
       "<div>\n",
       "<style scoped>\n",
       "    .dataframe tbody tr th:only-of-type {\n",
       "        vertical-align: middle;\n",
       "    }\n",
       "\n",
       "    .dataframe tbody tr th {\n",
       "        vertical-align: top;\n",
       "    }\n",
       "\n",
       "    .dataframe thead th {\n",
       "        text-align: right;\n",
       "    }\n",
       "</style>\n",
       "<table border=\"1\" class=\"dataframe\">\n",
       "  <thead>\n",
       "    <tr style=\"text-align: right;\">\n",
       "      <th></th>\n",
       "      <th>State</th>\n",
       "      <th>Jurisdiction</th>\n",
       "      <th>FIPSCode</th>\n",
       "      <th>poll_place_elect_day</th>\n",
       "      <th>poll_place_early</th>\n",
       "    </tr>\n",
       "  </thead>\n",
       "  <tbody>\n",
       "    <tr>\n",
       "      <th>0</th>\n",
       "      <td>AK</td>\n",
       "      <td>ALASKA</td>\n",
       "      <td>0200000000</td>\n",
       "      <td>533</td>\n",
       "      <td>80.0</td>\n",
       "    </tr>\n",
       "    <tr>\n",
       "      <th>1</th>\n",
       "      <td>AL</td>\n",
       "      <td>AUTAUGA COUNTY</td>\n",
       "      <td>0100100000</td>\n",
       "      <td>17</td>\n",
       "      <td>NaN</td>\n",
       "    </tr>\n",
       "    <tr>\n",
       "      <th>2</th>\n",
       "      <td>AL</td>\n",
       "      <td>BALDWIN COUNTY</td>\n",
       "      <td>0100300000</td>\n",
       "      <td>46</td>\n",
       "      <td>NaN</td>\n",
       "    </tr>\n",
       "    <tr>\n",
       "      <th>3</th>\n",
       "      <td>AL</td>\n",
       "      <td>BARBOUR COUNTY</td>\n",
       "      <td>0100500000</td>\n",
       "      <td>17</td>\n",
       "      <td>NaN</td>\n",
       "    </tr>\n",
       "    <tr>\n",
       "      <th>4</th>\n",
       "      <td>AL</td>\n",
       "      <td>BIBB COUNTY</td>\n",
       "      <td>0100700000</td>\n",
       "      <td>8</td>\n",
       "      <td>NaN</td>\n",
       "    </tr>\n",
       "  </tbody>\n",
       "</table>\n",
       "</div>"
      ],
      "text/plain": [
       "  State    Jurisdiction    FIPSCode poll_place_elect_day  poll_place_early\n",
       "0    AK          ALASKA  0200000000                  533              80.0\n",
       "1    AL  AUTAUGA COUNTY  0100100000                   17               NaN\n",
       "2    AL  BALDWIN COUNTY  0100300000                   46               NaN\n",
       "3    AL  BARBOUR COUNTY  0100500000                   17               NaN\n",
       "4    AL     BIBB COUNTY  0100700000                    8               NaN"
      ]
     },
     "execution_count": 53,
     "metadata": {},
     "output_type": "execute_result"
    }
   ],
   "source": [
    "src_2012d.head()"
   ]
  },
  {
   "cell_type": "markdown",
   "id": "1752016c-6aa2-410e-b47e-1a846f5a95ff",
   "metadata": {},
   "source": [
    "#### Votes cast"
   ]
  },
  {
   "cell_type": "code",
   "execution_count": 54,
   "id": "da16beb0-08b6-4125-b101-94161327f9b6",
   "metadata": {},
   "outputs": [],
   "source": [
    "src_2012f = pd.read_excel(\"input/Section F.xls\", dtype={\"FIPSCode\": str})"
   ]
  },
  {
   "cell_type": "code",
   "execution_count": 55,
   "id": "aea2996a-a496-402e-9b68-a2c4db4e80b9",
   "metadata": {},
   "outputs": [],
   "source": [
    "src_2012f = src_2012f[[\"State\", \"Jurisdiction\", \"FIPSCode\", \"QF1a\"]]"
   ]
  },
  {
   "cell_type": "code",
   "execution_count": 56,
   "id": "43473b78-87aa-44ba-a0b4-325be9311c14",
   "metadata": {},
   "outputs": [],
   "source": [
    "src_2012f.rename(columns={\"QF1a\": \"total_votes_cast\"}, inplace=True)"
   ]
  },
  {
   "cell_type": "code",
   "execution_count": 57,
   "id": "1bf73525-5717-4af4-bdf4-f6657d66f9e8",
   "metadata": {},
   "outputs": [
    {
     "data": {
      "text/html": [
       "<div>\n",
       "<style scoped>\n",
       "    .dataframe tbody tr th:only-of-type {\n",
       "        vertical-align: middle;\n",
       "    }\n",
       "\n",
       "    .dataframe tbody tr th {\n",
       "        vertical-align: top;\n",
       "    }\n",
       "\n",
       "    .dataframe thead th {\n",
       "        text-align: right;\n",
       "    }\n",
       "</style>\n",
       "<table border=\"1\" class=\"dataframe\">\n",
       "  <thead>\n",
       "    <tr style=\"text-align: right;\">\n",
       "      <th></th>\n",
       "      <th>State</th>\n",
       "      <th>Jurisdiction</th>\n",
       "      <th>FIPSCode</th>\n",
       "      <th>total_votes_cast</th>\n",
       "    </tr>\n",
       "  </thead>\n",
       "  <tbody>\n",
       "    <tr>\n",
       "      <th>0</th>\n",
       "      <td>AK</td>\n",
       "      <td>ALASKA</td>\n",
       "      <td>0200000000</td>\n",
       "      <td>302465.0</td>\n",
       "    </tr>\n",
       "    <tr>\n",
       "      <th>1</th>\n",
       "      <td>AL</td>\n",
       "      <td>AUTAUGA COUNTY</td>\n",
       "      <td>0100100000</td>\n",
       "      <td>24065.0</td>\n",
       "    </tr>\n",
       "    <tr>\n",
       "      <th>2</th>\n",
       "      <td>AL</td>\n",
       "      <td>BALDWIN COUNTY</td>\n",
       "      <td>0100300000</td>\n",
       "      <td>85873.0</td>\n",
       "    </tr>\n",
       "    <tr>\n",
       "      <th>3</th>\n",
       "      <td>AL</td>\n",
       "      <td>BARBOUR COUNTY</td>\n",
       "      <td>0100500000</td>\n",
       "      <td>11534.0</td>\n",
       "    </tr>\n",
       "    <tr>\n",
       "      <th>4</th>\n",
       "      <td>AL</td>\n",
       "      <td>BIBB COUNTY</td>\n",
       "      <td>0100700000</td>\n",
       "      <td>8454.0</td>\n",
       "    </tr>\n",
       "  </tbody>\n",
       "</table>\n",
       "</div>"
      ],
      "text/plain": [
       "  State    Jurisdiction    FIPSCode  total_votes_cast\n",
       "0    AK          ALASKA  0200000000          302465.0\n",
       "1    AL  AUTAUGA COUNTY  0100100000           24065.0\n",
       "2    AL  BALDWIN COUNTY  0100300000           85873.0\n",
       "3    AL  BARBOUR COUNTY  0100500000           11534.0\n",
       "4    AL     BIBB COUNTY  0100700000            8454.0"
      ]
     },
     "execution_count": 57,
     "metadata": {},
     "output_type": "execute_result"
    }
   ],
   "source": [
    "src_2012f.head()"
   ]
  },
  {
   "cell_type": "markdown",
   "id": "7a96f05e-d619-468d-83c5-29cb2cc51365",
   "metadata": {},
   "source": [
    "### Merge 'em "
   ]
  },
  {
   "cell_type": "code",
   "execution_count": 58,
   "id": "4611e9cb-e443-465b-95fc-67e279b0c0da",
   "metadata": {},
   "outputs": [],
   "source": [
    "from functools import reduce"
   ]
  },
  {
   "cell_type": "code",
   "execution_count": 59,
   "id": "404333db-c9a8-4abd-9ac1-8f477083b873",
   "metadata": {},
   "outputs": [],
   "source": [
    "src_2012_all = reduce(\n",
    "    lambda x, y: pd.merge(x, y, on=[\"State\", \"FIPSCode\"], how=\"inner\"),\n",
    "    [src_2012a, src_2012b, src_2012f, src_2012d],\n",
    ")"
   ]
  },
  {
   "cell_type": "code",
   "execution_count": 60,
   "id": "8d9ebee3-e362-40f6-8566-e85672d29b8e",
   "metadata": {},
   "outputs": [],
   "source": [
    "src_2012_all.rename(\n",
    "    columns={\"Jurisdiction_x\": \"Jurisdiction\", \"Jurisdiction_y\": \"Jurisdiction\"},\n",
    "    inplace=True,\n",
    ")"
   ]
  },
  {
   "cell_type": "code",
   "execution_count": 61,
   "id": "8499f284-a392-4d89-b63d-051b349f83a1",
   "metadata": {},
   "outputs": [],
   "source": [
    "src_2012_all = src_2012_all.loc[:, ~src_2012_all.columns.duplicated()]"
   ]
  },
  {
   "cell_type": "code",
   "execution_count": 62,
   "id": "1ded8075-5bdc-4298-a03b-38e498599205",
   "metadata": {},
   "outputs": [
    {
     "data": {
      "text/html": [
       "<div>\n",
       "<style scoped>\n",
       "    .dataframe tbody tr th:only-of-type {\n",
       "        vertical-align: middle;\n",
       "    }\n",
       "\n",
       "    .dataframe tbody tr th {\n",
       "        vertical-align: top;\n",
       "    }\n",
       "\n",
       "    .dataframe thead th {\n",
       "        text-align: right;\n",
       "    }\n",
       "</style>\n",
       "<table border=\"1\" class=\"dataframe\">\n",
       "  <thead>\n",
       "    <tr style=\"text-align: right;\">\n",
       "      <th></th>\n",
       "      <th>State</th>\n",
       "      <th>Jurisdiction</th>\n",
       "      <th>FIPSCode</th>\n",
       "      <th>total_reg_voters</th>\n",
       "      <th>mail_ballots_sent</th>\n",
       "      <th>total_votes_cast</th>\n",
       "      <th>poll_place_elect_day</th>\n",
       "      <th>poll_place_early</th>\n",
       "    </tr>\n",
       "  </thead>\n",
       "  <tbody>\n",
       "    <tr>\n",
       "      <th>0</th>\n",
       "      <td>AK</td>\n",
       "      <td>ALASKA</td>\n",
       "      <td>0200000000</td>\n",
       "      <td>579304.0</td>\n",
       "      <td>11935.0</td>\n",
       "      <td>302465.0</td>\n",
       "      <td>533</td>\n",
       "      <td>80.0</td>\n",
       "    </tr>\n",
       "    <tr>\n",
       "      <th>1</th>\n",
       "      <td>AL</td>\n",
       "      <td>AUTAUGA COUNTY</td>\n",
       "      <td>0100100000</td>\n",
       "      <td>37170.0</td>\n",
       "      <td>75.0</td>\n",
       "      <td>24065.0</td>\n",
       "      <td>17</td>\n",
       "      <td>NaN</td>\n",
       "    </tr>\n",
       "    <tr>\n",
       "      <th>2</th>\n",
       "      <td>AL</td>\n",
       "      <td>BALDWIN COUNTY</td>\n",
       "      <td>0100300000</td>\n",
       "      <td>126703.0</td>\n",
       "      <td>253.0</td>\n",
       "      <td>85873.0</td>\n",
       "      <td>46</td>\n",
       "      <td>NaN</td>\n",
       "    </tr>\n",
       "    <tr>\n",
       "      <th>3</th>\n",
       "      <td>AL</td>\n",
       "      <td>BARBOUR COUNTY</td>\n",
       "      <td>0100500000</td>\n",
       "      <td>17318.0</td>\n",
       "      <td>25.0</td>\n",
       "      <td>11534.0</td>\n",
       "      <td>17</td>\n",
       "      <td>NaN</td>\n",
       "    </tr>\n",
       "    <tr>\n",
       "      <th>4</th>\n",
       "      <td>AL</td>\n",
       "      <td>BIBB COUNTY</td>\n",
       "      <td>0100700000</td>\n",
       "      <td>12819.0</td>\n",
       "      <td>3.0</td>\n",
       "      <td>8454.0</td>\n",
       "      <td>8</td>\n",
       "      <td>NaN</td>\n",
       "    </tr>\n",
       "  </tbody>\n",
       "</table>\n",
       "</div>"
      ],
      "text/plain": [
       "  State    Jurisdiction    FIPSCode  total_reg_voters  mail_ballots_sent  \\\n",
       "0    AK          ALASKA  0200000000          579304.0            11935.0   \n",
       "1    AL  AUTAUGA COUNTY  0100100000           37170.0               75.0   \n",
       "2    AL  BALDWIN COUNTY  0100300000          126703.0              253.0   \n",
       "3    AL  BARBOUR COUNTY  0100500000           17318.0               25.0   \n",
       "4    AL     BIBB COUNTY  0100700000           12819.0                3.0   \n",
       "\n",
       "   total_votes_cast poll_place_elect_day  poll_place_early  \n",
       "0          302465.0                  533              80.0  \n",
       "1           24065.0                   17               NaN  \n",
       "2           85873.0                   46               NaN  \n",
       "3           11534.0                   17               NaN  \n",
       "4            8454.0                    8               NaN  "
      ]
     },
     "execution_count": 62,
     "metadata": {},
     "output_type": "execute_result"
    }
   ],
   "source": [
    "src_2012_all.head()"
   ]
  },
  {
   "cell_type": "code",
   "execution_count": 63,
   "id": "4ac0feca-c674-4b81-93de-34286764ebbe",
   "metadata": {},
   "outputs": [],
   "source": [
    "places2012 = src_2012_all.copy()"
   ]
  },
  {
   "cell_type": "code",
   "execution_count": 64,
   "id": "7a35de85-67fe-4ec3-b792-93671c12a865",
   "metadata": {},
   "outputs": [],
   "source": [
    "places2012.rename(\n",
    "    columns={\"FIPSCode\": \"fips\", \"State\": \"state\", \"Jurisdiction\": \"place\",},\n",
    "    inplace=True,\n",
    ")"
   ]
  },
  {
   "cell_type": "code",
   "execution_count": 65,
   "id": "d7aa6aed-f63d-4471-817d-8ab011d7f0c7",
   "metadata": {},
   "outputs": [],
   "source": [
    "places2012[\"year\"] = \"2012\""
   ]
  },
  {
   "cell_type": "code",
   "execution_count": 66,
   "id": "4eb28d51-39ae-4460-bc5f-6721ebb7df83",
   "metadata": {},
   "outputs": [
    {
     "data": {
      "text/html": [
       "<div>\n",
       "<style scoped>\n",
       "    .dataframe tbody tr th:only-of-type {\n",
       "        vertical-align: middle;\n",
       "    }\n",
       "\n",
       "    .dataframe tbody tr th {\n",
       "        vertical-align: top;\n",
       "    }\n",
       "\n",
       "    .dataframe thead th {\n",
       "        text-align: right;\n",
       "    }\n",
       "</style>\n",
       "<table border=\"1\" class=\"dataframe\">\n",
       "  <thead>\n",
       "    <tr style=\"text-align: right;\">\n",
       "      <th></th>\n",
       "      <th>state</th>\n",
       "      <th>place</th>\n",
       "      <th>fips</th>\n",
       "      <th>total_reg_voters</th>\n",
       "      <th>mail_ballots_sent</th>\n",
       "      <th>total_votes_cast</th>\n",
       "      <th>poll_place_elect_day</th>\n",
       "      <th>poll_place_early</th>\n",
       "      <th>year</th>\n",
       "    </tr>\n",
       "  </thead>\n",
       "  <tbody>\n",
       "    <tr>\n",
       "      <th>0</th>\n",
       "      <td>AK</td>\n",
       "      <td>ALASKA</td>\n",
       "      <td>0200000000</td>\n",
       "      <td>579304.0</td>\n",
       "      <td>11935.0</td>\n",
       "      <td>302465.0</td>\n",
       "      <td>533</td>\n",
       "      <td>80.0</td>\n",
       "      <td>2012</td>\n",
       "    </tr>\n",
       "    <tr>\n",
       "      <th>1</th>\n",
       "      <td>AL</td>\n",
       "      <td>AUTAUGA COUNTY</td>\n",
       "      <td>0100100000</td>\n",
       "      <td>37170.0</td>\n",
       "      <td>75.0</td>\n",
       "      <td>24065.0</td>\n",
       "      <td>17</td>\n",
       "      <td>NaN</td>\n",
       "      <td>2012</td>\n",
       "    </tr>\n",
       "    <tr>\n",
       "      <th>2</th>\n",
       "      <td>AL</td>\n",
       "      <td>BALDWIN COUNTY</td>\n",
       "      <td>0100300000</td>\n",
       "      <td>126703.0</td>\n",
       "      <td>253.0</td>\n",
       "      <td>85873.0</td>\n",
       "      <td>46</td>\n",
       "      <td>NaN</td>\n",
       "      <td>2012</td>\n",
       "    </tr>\n",
       "    <tr>\n",
       "      <th>3</th>\n",
       "      <td>AL</td>\n",
       "      <td>BARBOUR COUNTY</td>\n",
       "      <td>0100500000</td>\n",
       "      <td>17318.0</td>\n",
       "      <td>25.0</td>\n",
       "      <td>11534.0</td>\n",
       "      <td>17</td>\n",
       "      <td>NaN</td>\n",
       "      <td>2012</td>\n",
       "    </tr>\n",
       "    <tr>\n",
       "      <th>4</th>\n",
       "      <td>AL</td>\n",
       "      <td>BIBB COUNTY</td>\n",
       "      <td>0100700000</td>\n",
       "      <td>12819.0</td>\n",
       "      <td>3.0</td>\n",
       "      <td>8454.0</td>\n",
       "      <td>8</td>\n",
       "      <td>NaN</td>\n",
       "      <td>2012</td>\n",
       "    </tr>\n",
       "  </tbody>\n",
       "</table>\n",
       "</div>"
      ],
      "text/plain": [
       "  state           place        fips  total_reg_voters  mail_ballots_sent  \\\n",
       "0    AK          ALASKA  0200000000          579304.0            11935.0   \n",
       "1    AL  AUTAUGA COUNTY  0100100000           37170.0               75.0   \n",
       "2    AL  BALDWIN COUNTY  0100300000          126703.0              253.0   \n",
       "3    AL  BARBOUR COUNTY  0100500000           17318.0               25.0   \n",
       "4    AL     BIBB COUNTY  0100700000           12819.0                3.0   \n",
       "\n",
       "   total_votes_cast poll_place_elect_day  poll_place_early  year  \n",
       "0          302465.0                  533              80.0  2012  \n",
       "1           24065.0                   17               NaN  2012  \n",
       "2           85873.0                   46               NaN  2012  \n",
       "3           11534.0                   17               NaN  2012  \n",
       "4            8454.0                    8               NaN  2012  "
      ]
     },
     "execution_count": 66,
     "metadata": {},
     "output_type": "execute_result"
    }
   ],
   "source": [
    "places2012.head()"
   ]
  },
  {
   "cell_type": "markdown",
   "id": "a38c415b-4179-488e-ba91-df4468106bd1",
   "metadata": {},
   "source": [
    "---"
   ]
  },
  {
   "cell_type": "markdown",
   "id": "506fc0ac-4d82-40c6-907f-62ea7785a57d",
   "metadata": {},
   "source": [
    "### Concatenate the dataframes"
   ]
  },
  {
   "cell_type": "code",
   "execution_count": 67,
   "id": "f7b78d72-6cc1-4fc5-a222-ad64d80162e5",
   "metadata": {},
   "outputs": [],
   "source": [
    "src = pd.concat([places2020, places2016, places2012]).reset_index(drop=True)"
   ]
  },
  {
   "cell_type": "code",
   "execution_count": 68,
   "id": "cc4e41d2-2760-4170-bcdf-72dae5bec93a",
   "metadata": {},
   "outputs": [],
   "source": [
    "src[\"fips\"] = src[\"fips\"].str.zfill(10)"
   ]
  },
  {
   "cell_type": "markdown",
   "id": "af4a8e19-e49c-40ad-8b8a-15f43c6bf89f",
   "metadata": {},
   "source": [
    "---"
   ]
  },
  {
   "cell_type": "code",
   "execution_count": 69,
   "id": "d95b00e5-4a59-4f8e-889b-41b81b32073d",
   "metadata": {},
   "outputs": [],
   "source": [
    "src.to_csv(\"output/polling_places_analysis.csv\", index=False)"
   ]
  },
  {
   "cell_type": "code",
   "execution_count": 70,
   "id": "653a6feb-f5ee-4d3e-b481-34995ca37ad8",
   "metadata": {},
   "outputs": [
    {
     "data": {
      "text/html": [
       "<div>\n",
       "<style scoped>\n",
       "    .dataframe tbody tr th:only-of-type {\n",
       "        vertical-align: middle;\n",
       "    }\n",
       "\n",
       "    .dataframe tbody tr th {\n",
       "        vertical-align: top;\n",
       "    }\n",
       "\n",
       "    .dataframe thead th {\n",
       "        text-align: right;\n",
       "    }\n",
       "</style>\n",
       "<table border=\"1\" class=\"dataframe\">\n",
       "  <thead>\n",
       "    <tr style=\"text-align: right;\">\n",
       "      <th></th>\n",
       "      <th>fips</th>\n",
       "      <th>place</th>\n",
       "      <th>state</th>\n",
       "      <th>total_reg_voters</th>\n",
       "      <th>mail_ballots_sent</th>\n",
       "      <th>poll_place_elect_day</th>\n",
       "      <th>poll_place_early</th>\n",
       "      <th>total_votes_cast</th>\n",
       "      <th>year</th>\n",
       "    </tr>\n",
       "  </thead>\n",
       "  <tbody>\n",
       "    <tr>\n",
       "      <th>0</th>\n",
       "      <td>0100100000</td>\n",
       "      <td>AUTAUGA COUNTY</td>\n",
       "      <td>AL</td>\n",
       "      <td>43695.0</td>\n",
       "      <td>1329.0</td>\n",
       "      <td>18.0</td>\n",
       "      <td>1.0</td>\n",
       "      <td>27813.0</td>\n",
       "      <td>2020</td>\n",
       "    </tr>\n",
       "    <tr>\n",
       "      <th>1</th>\n",
       "      <td>0100300000</td>\n",
       "      <td>BALDWIN COUNTY</td>\n",
       "      <td>AL</td>\n",
       "      <td>176668.0</td>\n",
       "      <td>11147.0</td>\n",
       "      <td>50.0</td>\n",
       "      <td>1.0</td>\n",
       "      <td>110214.0</td>\n",
       "      <td>2020</td>\n",
       "    </tr>\n",
       "    <tr>\n",
       "      <th>2</th>\n",
       "      <td>0100500000</td>\n",
       "      <td>BARBOUR COUNTY</td>\n",
       "      <td>AL</td>\n",
       "      <td>17850.0</td>\n",
       "      <td>726.0</td>\n",
       "      <td>16.0</td>\n",
       "      <td>1.0</td>\n",
       "      <td>10560.0</td>\n",
       "      <td>2020</td>\n",
       "    </tr>\n",
       "    <tr>\n",
       "      <th>3</th>\n",
       "      <td>0100700000</td>\n",
       "      <td>BIBB COUNTY</td>\n",
       "      <td>AL</td>\n",
       "      <td>15014.0</td>\n",
       "      <td>332.0</td>\n",
       "      <td>8.0</td>\n",
       "      <td>1.0</td>\n",
       "      <td>9630.0</td>\n",
       "      <td>2020</td>\n",
       "    </tr>\n",
       "    <tr>\n",
       "      <th>4</th>\n",
       "      <td>0100900000</td>\n",
       "      <td>BLOUNT COUNTY</td>\n",
       "      <td>AL</td>\n",
       "      <td>41927.0</td>\n",
       "      <td>1032.0</td>\n",
       "      <td>24.0</td>\n",
       "      <td>1.0</td>\n",
       "      <td>27665.0</td>\n",
       "      <td>2020</td>\n",
       "    </tr>\n",
       "  </tbody>\n",
       "</table>\n",
       "</div>"
      ],
      "text/plain": [
       "         fips           place state total_reg_voters mail_ballots_sent  \\\n",
       "0  0100100000  AUTAUGA COUNTY    AL          43695.0            1329.0   \n",
       "1  0100300000  BALDWIN COUNTY    AL         176668.0           11147.0   \n",
       "2  0100500000  BARBOUR COUNTY    AL          17850.0             726.0   \n",
       "3  0100700000     BIBB COUNTY    AL          15014.0             332.0   \n",
       "4  0100900000   BLOUNT COUNTY    AL          41927.0            1032.0   \n",
       "\n",
       "  poll_place_elect_day  poll_place_early total_votes_cast  year  \n",
       "0                 18.0               1.0          27813.0  2020  \n",
       "1                 50.0               1.0         110214.0  2020  \n",
       "2                 16.0               1.0          10560.0  2020  \n",
       "3                  8.0               1.0           9630.0  2020  \n",
       "4                 24.0               1.0          27665.0  2020  "
      ]
     },
     "execution_count": 70,
     "metadata": {},
     "output_type": "execute_result"
    }
   ],
   "source": [
    "src.head()"
   ]
  }
 ],
 "metadata": {
  "kernelspec": {
   "display_name": "Python 3",
   "language": "python",
   "name": "python3"
  },
  "language_info": {
   "codemirror_mode": {
    "name": "ipython",
    "version": 3
   },
   "file_extension": ".py",
   "mimetype": "text/x-python",
   "name": "python",
   "nbconvert_exporter": "python",
   "pygments_lexer": "ipython3",
   "version": "3.8.8"
  }
 },
 "nbformat": 4,
 "nbformat_minor": 5
}
