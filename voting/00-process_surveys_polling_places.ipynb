{
 "cells": [
  {
   "cell_type": "markdown",
   "id": "ff0a166a-c560-4497-a780-487cfdf6dd5b",
   "metadata": {},
   "source": [
    "# Polling closures from U.S. Election Assistance Commission [survey](https://www.eac.gov/research-and-data/datasets-codebooks-and-surveys)"
   ]
  },
  {
   "cell_type": "code",
   "execution_count": 1,
   "id": "b54329f6-aac1-4aa4-ab5c-dc2e59955ae3",
   "metadata": {},
   "outputs": [],
   "source": [
    "%load_ext lab_black"
   ]
  },
  {
   "cell_type": "code",
   "execution_count": 2,
   "id": "5fa4dca8-0a3d-4b3c-b02f-911e92677a4e",
   "metadata": {},
   "outputs": [],
   "source": [
    "import pandas as pd"
   ]
  },
  {
   "cell_type": "code",
   "execution_count": 3,
   "id": "ffffe245-0cb7-46ba-ab47-706026ca4c55",
   "metadata": {},
   "outputs": [],
   "source": [
    "pd.options.display.max_columns = 1000\n",
    "pd.options.display.max_rows = 1000\n",
    "pd.options.display.max_colwidth = None"
   ]
  },
  {
   "cell_type": "markdown",
   "id": "047a3942-d78c-4428-83f3-b657d995c880",
   "metadata": {},
   "source": [
    "### 2020 survey"
   ]
  },
  {
   "cell_type": "code",
   "execution_count": 4,
   "id": "0b098696-38b4-49f6-b892-19a011fc876e",
   "metadata": {},
   "outputs": [],
   "source": [
    "url_2020 = \"https://www.eac.gov/sites/default/files/EAVS%202020/2020_EAVS_for_Public_Release_nolabel_V2.csv\""
   ]
  },
  {
   "cell_type": "code",
   "execution_count": 5,
   "id": "7ccd1167-60cc-4ee1-8c55-da81a2917455",
   "metadata": {},
   "outputs": [],
   "source": [
    "src_2020 = pd.read_csv(url_2020, dtype={\"FIPSCode\": str})"
   ]
  },
  {
   "cell_type": "code",
   "execution_count": 6,
   "id": "95c51c18-2a78-4aac-9de4-89bde57884ba",
   "metadata": {},
   "outputs": [],
   "source": [
    "places2020 = src_2020[\n",
    "    [\"FIPSCode\", \"Jurisdiction_Name\", \"State_Abbr\", \"A1a\", \"C1a\", \"D1a\", \"D3a\", \"D4a\"]\n",
    "].copy()"
   ]
  },
  {
   "cell_type": "code",
   "execution_count": 7,
   "id": "dcd69dc3-7df4-4955-9ff1-3373ffc1574c",
   "metadata": {},
   "outputs": [],
   "source": [
    "places2020.rename(\n",
    "    columns={\n",
    "        \"FIPSCode\": \"fips\",\n",
    "        \"State_Abbr\": \"state\",\n",
    "        \"Jurisdiction_Name\": \"place\",\n",
    "        \"A1a\": \"total_reg_voters\",\n",
    "        \"C1a\": \"mail_ballots_sent\",\n",
    "        \"D1a\": \"total_votes_cast\",\n",
    "        \"D3a\": \"poll_place_elect_day\",\n",
    "        \"D4a\": \"poll_place_early\",\n",
    "    },\n",
    "    inplace=True,\n",
    ")"
   ]
  },
  {
   "cell_type": "code",
   "execution_count": 8,
   "id": "db30e2de-1a69-435c-bbcd-743df5c8c3a3",
   "metadata": {},
   "outputs": [],
   "source": [
    "places2020[\"year\"] = \"2020\""
   ]
  },
  {
   "cell_type": "code",
   "execution_count": 9,
   "id": "da2b9482-031e-4270-85ec-8ff7cebb2ae7",
   "metadata": {},
   "outputs": [],
   "source": [
    "places2020[\n",
    "    [\n",
    "        \"total_reg_voters\",\n",
    "        \"mail_ballots_sent\",\n",
    "        \"total_votes_cast\",\n",
    "        \"poll_place_elect_day\",\n",
    "        \"poll_place_early\",\n",
    "    ]\n",
    "] = places2020[\n",
    "    [\n",
    "        \"total_reg_voters\",\n",
    "        \"mail_ballots_sent\",\n",
    "        \"total_votes_cast\",\n",
    "        \"poll_place_elect_day\",\n",
    "        \"poll_place_early\",\n",
    "    ]\n",
    "].astype(\n",
    "    float\n",
    ")"
   ]
  },
  {
   "cell_type": "code",
   "execution_count": 10,
   "id": "c9258222-088a-4e37-a1ec-612cba6ac32a",
   "metadata": {},
   "outputs": [
    {
     "data": {
      "text/html": [
       "<div>\n",
       "<style scoped>\n",
       "    .dataframe tbody tr th:only-of-type {\n",
       "        vertical-align: middle;\n",
       "    }\n",
       "\n",
       "    .dataframe tbody tr th {\n",
       "        vertical-align: top;\n",
       "    }\n",
       "\n",
       "    .dataframe thead th {\n",
       "        text-align: right;\n",
       "    }\n",
       "</style>\n",
       "<table border=\"1\" class=\"dataframe\">\n",
       "  <thead>\n",
       "    <tr style=\"text-align: right;\">\n",
       "      <th></th>\n",
       "      <th>fips</th>\n",
       "      <th>place</th>\n",
       "      <th>state</th>\n",
       "      <th>total_reg_voters</th>\n",
       "      <th>mail_ballots_sent</th>\n",
       "      <th>total_votes_cast</th>\n",
       "      <th>poll_place_elect_day</th>\n",
       "      <th>poll_place_early</th>\n",
       "      <th>year</th>\n",
       "    </tr>\n",
       "  </thead>\n",
       "  <tbody>\n",
       "    <tr>\n",
       "      <th>0</th>\n",
       "      <td>0100100000</td>\n",
       "      <td>AUTAUGA COUNTY</td>\n",
       "      <td>AL</td>\n",
       "      <td>43695.0</td>\n",
       "      <td>1329.0</td>\n",
       "      <td>24217.0</td>\n",
       "      <td>18.0</td>\n",
       "      <td>1.0</td>\n",
       "      <td>2020</td>\n",
       "    </tr>\n",
       "    <tr>\n",
       "      <th>1</th>\n",
       "      <td>0100300000</td>\n",
       "      <td>BALDWIN COUNTY</td>\n",
       "      <td>AL</td>\n",
       "      <td>176668.0</td>\n",
       "      <td>11147.0</td>\n",
       "      <td>96609.0</td>\n",
       "      <td>50.0</td>\n",
       "      <td>1.0</td>\n",
       "      <td>2020</td>\n",
       "    </tr>\n",
       "    <tr>\n",
       "      <th>2</th>\n",
       "      <td>0100500000</td>\n",
       "      <td>BARBOUR COUNTY</td>\n",
       "      <td>AL</td>\n",
       "      <td>17850.0</td>\n",
       "      <td>726.0</td>\n",
       "      <td>9234.0</td>\n",
       "      <td>16.0</td>\n",
       "      <td>1.0</td>\n",
       "      <td>2020</td>\n",
       "    </tr>\n",
       "    <tr>\n",
       "      <th>3</th>\n",
       "      <td>0100700000</td>\n",
       "      <td>BIBB COUNTY</td>\n",
       "      <td>AL</td>\n",
       "      <td>15014.0</td>\n",
       "      <td>332.0</td>\n",
       "      <td>9031.0</td>\n",
       "      <td>8.0</td>\n",
       "      <td>1.0</td>\n",
       "      <td>2020</td>\n",
       "    </tr>\n",
       "    <tr>\n",
       "      <th>4</th>\n",
       "      <td>0100900000</td>\n",
       "      <td>BLOUNT COUNTY</td>\n",
       "      <td>AL</td>\n",
       "      <td>41927.0</td>\n",
       "      <td>1032.0</td>\n",
       "      <td>25823.0</td>\n",
       "      <td>24.0</td>\n",
       "      <td>1.0</td>\n",
       "      <td>2020</td>\n",
       "    </tr>\n",
       "  </tbody>\n",
       "</table>\n",
       "</div>"
      ],
      "text/plain": [
       "         fips           place state  total_reg_voters  mail_ballots_sent  \\\n",
       "0  0100100000  AUTAUGA COUNTY    AL           43695.0             1329.0   \n",
       "1  0100300000  BALDWIN COUNTY    AL          176668.0            11147.0   \n",
       "2  0100500000  BARBOUR COUNTY    AL           17850.0              726.0   \n",
       "3  0100700000     BIBB COUNTY    AL           15014.0              332.0   \n",
       "4  0100900000   BLOUNT COUNTY    AL           41927.0             1032.0   \n",
       "\n",
       "   total_votes_cast  poll_place_elect_day  poll_place_early  year  \n",
       "0           24217.0                  18.0               1.0  2020  \n",
       "1           96609.0                  50.0               1.0  2020  \n",
       "2            9234.0                  16.0               1.0  2020  \n",
       "3            9031.0                   8.0               1.0  2020  \n",
       "4           25823.0                  24.0               1.0  2020  "
      ]
     },
     "execution_count": 10,
     "metadata": {},
     "output_type": "execute_result"
    }
   ],
   "source": [
    "places2020.head()"
   ]
  },
  {
   "cell_type": "markdown",
   "id": "a59f643e-106b-4f00-9c35-cf1c73c112de",
   "metadata": {},
   "source": [
    "---"
   ]
  },
  {
   "cell_type": "markdown",
   "id": "d95c169e-bcac-45ef-bb41-4da6477da3ea",
   "metadata": {},
   "source": [
    "### 2016"
   ]
  },
  {
   "cell_type": "code",
   "execution_count": 11,
   "id": "b43a9bb0-2ace-4eec-ba45-17e1f3689ca3",
   "metadata": {},
   "outputs": [],
   "source": [
    "src_2016 = pd.read_csv(\n",
    "    \"input/EAVS 2016 Final Data for Public Release v.3.csv\",\n",
    "    dtype={\"FIPSCode\": str},\n",
    "    low_memory=False,\n",
    ")"
   ]
  },
  {
   "cell_type": "code",
   "execution_count": 12,
   "id": "c272cbe7-8d24-49f4-a171-00938e4bf07a",
   "metadata": {},
   "outputs": [],
   "source": [
    "places2016 = src_2016[\n",
    "    [\"FIPSCode\", \"JurisdictionName\", \"State\", \"A1a\", \"C1a\", \"F1a\", \"D2a\", \"D2e\",]\n",
    "].copy()"
   ]
  },
  {
   "cell_type": "code",
   "execution_count": 13,
   "id": "84062463-5fa4-493b-8a7c-e73c5ae30e82",
   "metadata": {},
   "outputs": [],
   "source": [
    "places2016.rename(\n",
    "    columns={\n",
    "        \"FIPSCode\": \"fips\",\n",
    "        \"State\": \"state\",\n",
    "        \"JurisdictionName\": \"place\",\n",
    "        \"A1a\": \"total_reg_voters\",\n",
    "        \"C1a\": \"mail_ballots_sent\",\n",
    "        \"F1a\": \"total_votes_cast\",\n",
    "        \"D2a\": \"poll_place_elect_day\",\n",
    "        \"D2e\": \"poll_place_early\",\n",
    "    },\n",
    "    inplace=True,\n",
    ")"
   ]
  },
  {
   "cell_type": "code",
   "execution_count": 14,
   "id": "a5cb24c6-d31b-4484-86bb-c627bb0a6fdd",
   "metadata": {},
   "outputs": [],
   "source": [
    "places2016[\"year\"] = \"2016\""
   ]
  },
  {
   "cell_type": "markdown",
   "id": "76352242-4771-4fe0-9461-8dbc8b8982e4",
   "metadata": {},
   "source": [
    "---"
   ]
  },
  {
   "cell_type": "markdown",
   "id": "a31da3bf-6442-4c83-8b7c-15d3e8f9f379",
   "metadata": {},
   "source": [
    "### 2012"
   ]
  },
  {
   "cell_type": "markdown",
   "id": "c498c96b-fc9f-40c5-b605-59c211868d72",
   "metadata": {},
   "source": [
    "#### Total voters"
   ]
  },
  {
   "cell_type": "code",
   "execution_count": 15,
   "id": "b780eae5-ecab-41d5-a36e-b46d3fac1dbb",
   "metadata": {},
   "outputs": [],
   "source": [
    "src_2012a = pd.read_excel(\"input/2012EAVS_NVRAData.xlsx\", dtype={\"FIPSCode\": str})"
   ]
  },
  {
   "cell_type": "code",
   "execution_count": 16,
   "id": "7aa1c3be-0773-42b4-9933-fee61fadb78d",
   "metadata": {},
   "outputs": [],
   "source": [
    "src_2012a = src_2012a[[\"State\", \"Jurisdiction\", \"FIPSCode\", \"QA1a\"]].copy()"
   ]
  },
  {
   "cell_type": "code",
   "execution_count": 17,
   "id": "a1434699-9190-4d67-aa31-3487e9632af0",
   "metadata": {},
   "outputs": [],
   "source": [
    "src_2012a.rename(columns={\"QA1a\": \"total_reg_voters\"}, inplace=True)"
   ]
  },
  {
   "cell_type": "code",
   "execution_count": 18,
   "id": "3bc2881e-a4bd-40f8-84e7-a5e4bb4b618f",
   "metadata": {},
   "outputs": [
    {
     "data": {
      "text/html": [
       "<div>\n",
       "<style scoped>\n",
       "    .dataframe tbody tr th:only-of-type {\n",
       "        vertical-align: middle;\n",
       "    }\n",
       "\n",
       "    .dataframe tbody tr th {\n",
       "        vertical-align: top;\n",
       "    }\n",
       "\n",
       "    .dataframe thead th {\n",
       "        text-align: right;\n",
       "    }\n",
       "</style>\n",
       "<table border=\"1\" class=\"dataframe\">\n",
       "  <thead>\n",
       "    <tr style=\"text-align: right;\">\n",
       "      <th></th>\n",
       "      <th>State</th>\n",
       "      <th>Jurisdiction</th>\n",
       "      <th>FIPSCode</th>\n",
       "      <th>total_reg_voters</th>\n",
       "    </tr>\n",
       "  </thead>\n",
       "  <tbody>\n",
       "    <tr>\n",
       "      <th>0</th>\n",
       "      <td>AK</td>\n",
       "      <td>ALASKA</td>\n",
       "      <td>0200000000</td>\n",
       "      <td>579304.0</td>\n",
       "    </tr>\n",
       "    <tr>\n",
       "      <th>1</th>\n",
       "      <td>AL</td>\n",
       "      <td>AUTAUGA COUNTY</td>\n",
       "      <td>0100100000</td>\n",
       "      <td>37170.0</td>\n",
       "    </tr>\n",
       "    <tr>\n",
       "      <th>2</th>\n",
       "      <td>AL</td>\n",
       "      <td>BALDWIN COUNTY</td>\n",
       "      <td>0100300000</td>\n",
       "      <td>126703.0</td>\n",
       "    </tr>\n",
       "    <tr>\n",
       "      <th>3</th>\n",
       "      <td>AL</td>\n",
       "      <td>BARBOUR COUNTY</td>\n",
       "      <td>0100500000</td>\n",
       "      <td>17318.0</td>\n",
       "    </tr>\n",
       "    <tr>\n",
       "      <th>4</th>\n",
       "      <td>AL</td>\n",
       "      <td>BIBB COUNTY</td>\n",
       "      <td>0100700000</td>\n",
       "      <td>12819.0</td>\n",
       "    </tr>\n",
       "  </tbody>\n",
       "</table>\n",
       "</div>"
      ],
      "text/plain": [
       "  State    Jurisdiction    FIPSCode  total_reg_voters\n",
       "0    AK          ALASKA  0200000000          579304.0\n",
       "1    AL  AUTAUGA COUNTY  0100100000           37170.0\n",
       "2    AL  BALDWIN COUNTY  0100300000          126703.0\n",
       "3    AL  BARBOUR COUNTY  0100500000           17318.0\n",
       "4    AL     BIBB COUNTY  0100700000           12819.0"
      ]
     },
     "execution_count": 18,
     "metadata": {},
     "output_type": "execute_result"
    }
   ],
   "source": [
    "src_2012a.head()"
   ]
  },
  {
   "cell_type": "markdown",
   "id": "ba8343a6-977a-44c1-9fcc-f46f16d4233b",
   "metadata": {},
   "source": [
    "#### Absentee ballots"
   ]
  },
  {
   "cell_type": "code",
   "execution_count": 19,
   "id": "796462fe-baa4-47a7-bdf0-a6b15871583c",
   "metadata": {},
   "outputs": [],
   "source": [
    "src_2012b = pd.read_excel(\"input/2012EAVS_UOCAVAData.xls\", dtype={\"FIPSCode\": str})"
   ]
  },
  {
   "cell_type": "code",
   "execution_count": 20,
   "id": "b1822ced-aef0-4ac7-b1c2-1e21455e44f4",
   "metadata": {},
   "outputs": [],
   "source": [
    "src_2012b = src_2012b[[\"State\", \"Jurisdiction\", \"FIPSCode\", \"QB1a\"]]"
   ]
  },
  {
   "cell_type": "code",
   "execution_count": 21,
   "id": "83b6586b-455b-4f21-a93a-3b785ea445b6",
   "metadata": {},
   "outputs": [],
   "source": [
    "src_2012b.rename(columns={\"QB1a\": \"mail_ballots_sent\"}, inplace=True)"
   ]
  },
  {
   "cell_type": "code",
   "execution_count": 22,
   "id": "50992271-da6e-465d-9864-287f094a3cd9",
   "metadata": {},
   "outputs": [
    {
     "data": {
      "text/html": [
       "<div>\n",
       "<style scoped>\n",
       "    .dataframe tbody tr th:only-of-type {\n",
       "        vertical-align: middle;\n",
       "    }\n",
       "\n",
       "    .dataframe tbody tr th {\n",
       "        vertical-align: top;\n",
       "    }\n",
       "\n",
       "    .dataframe thead th {\n",
       "        text-align: right;\n",
       "    }\n",
       "</style>\n",
       "<table border=\"1\" class=\"dataframe\">\n",
       "  <thead>\n",
       "    <tr style=\"text-align: right;\">\n",
       "      <th></th>\n",
       "      <th>State</th>\n",
       "      <th>Jurisdiction</th>\n",
       "      <th>FIPSCode</th>\n",
       "      <th>mail_ballots_sent</th>\n",
       "    </tr>\n",
       "  </thead>\n",
       "  <tbody>\n",
       "    <tr>\n",
       "      <th>0</th>\n",
       "      <td>AK</td>\n",
       "      <td>ALASKA</td>\n",
       "      <td>0200000000</td>\n",
       "      <td>11935.0</td>\n",
       "    </tr>\n",
       "    <tr>\n",
       "      <th>1</th>\n",
       "      <td>AL</td>\n",
       "      <td>AUTAUGA COUNTY</td>\n",
       "      <td>0100100000</td>\n",
       "      <td>75.0</td>\n",
       "    </tr>\n",
       "    <tr>\n",
       "      <th>2</th>\n",
       "      <td>AL</td>\n",
       "      <td>BALDWIN COUNTY</td>\n",
       "      <td>0100300000</td>\n",
       "      <td>253.0</td>\n",
       "    </tr>\n",
       "    <tr>\n",
       "      <th>3</th>\n",
       "      <td>AL</td>\n",
       "      <td>BARBOUR COUNTY</td>\n",
       "      <td>0100500000</td>\n",
       "      <td>25.0</td>\n",
       "    </tr>\n",
       "    <tr>\n",
       "      <th>4</th>\n",
       "      <td>AL</td>\n",
       "      <td>BIBB COUNTY</td>\n",
       "      <td>0100700000</td>\n",
       "      <td>3.0</td>\n",
       "    </tr>\n",
       "  </tbody>\n",
       "</table>\n",
       "</div>"
      ],
      "text/plain": [
       "  State    Jurisdiction    FIPSCode  mail_ballots_sent\n",
       "0    AK          ALASKA  0200000000            11935.0\n",
       "1    AL  AUTAUGA COUNTY  0100100000               75.0\n",
       "2    AL  BALDWIN COUNTY  0100300000              253.0\n",
       "3    AL  BARBOUR COUNTY  0100500000               25.0\n",
       "4    AL     BIBB COUNTY  0100700000                3.0"
      ]
     },
     "execution_count": 22,
     "metadata": {},
     "output_type": "execute_result"
    }
   ],
   "source": [
    "src_2012b.head()"
   ]
  },
  {
   "cell_type": "markdown",
   "id": "772bf2b0-22f0-4db8-8d66-092444a7eb26",
   "metadata": {},
   "source": [
    "#### Polling places"
   ]
  },
  {
   "cell_type": "code",
   "execution_count": 23,
   "id": "a4da4c37-2cfe-4942-8daa-8512d8694e53",
   "metadata": {},
   "outputs": [],
   "source": [
    "src_2012d = pd.read_excel(\n",
    "    \"input/Excel Files-Part 1/Section D.xls\", dtype={\"FIPSCode\": str}\n",
    ")"
   ]
  },
  {
   "cell_type": "code",
   "execution_count": 24,
   "id": "4d33dda1-ea77-4071-bc8a-6e3ce4fa4dcb",
   "metadata": {},
   "outputs": [],
   "source": [
    "src_2012d = src_2012d[[\"State\", \"Jurisdiction\", \"FIPSCode\", \"QD2a\", \"QD2e\"]]"
   ]
  },
  {
   "cell_type": "code",
   "execution_count": 25,
   "id": "9e9e0bb7-4174-418a-aac9-eca7d352e277",
   "metadata": {},
   "outputs": [],
   "source": [
    "src_2012d.rename(\n",
    "    columns={\"QD2a\": \"poll_place_elect_day\", \"QD2e\": \"poll_place_early\"}, inplace=True\n",
    ")"
   ]
  },
  {
   "cell_type": "code",
   "execution_count": 26,
   "id": "7cb7dd2c-7286-4412-aaaf-3bd0d843e4d3",
   "metadata": {},
   "outputs": [
    {
     "data": {
      "text/html": [
       "<div>\n",
       "<style scoped>\n",
       "    .dataframe tbody tr th:only-of-type {\n",
       "        vertical-align: middle;\n",
       "    }\n",
       "\n",
       "    .dataframe tbody tr th {\n",
       "        vertical-align: top;\n",
       "    }\n",
       "\n",
       "    .dataframe thead th {\n",
       "        text-align: right;\n",
       "    }\n",
       "</style>\n",
       "<table border=\"1\" class=\"dataframe\">\n",
       "  <thead>\n",
       "    <tr style=\"text-align: right;\">\n",
       "      <th></th>\n",
       "      <th>State</th>\n",
       "      <th>Jurisdiction</th>\n",
       "      <th>FIPSCode</th>\n",
       "      <th>poll_place_elect_day</th>\n",
       "      <th>poll_place_early</th>\n",
       "    </tr>\n",
       "  </thead>\n",
       "  <tbody>\n",
       "    <tr>\n",
       "      <th>0</th>\n",
       "      <td>AK</td>\n",
       "      <td>ALASKA</td>\n",
       "      <td>0200000000</td>\n",
       "      <td>533.0</td>\n",
       "      <td>75.0</td>\n",
       "    </tr>\n",
       "    <tr>\n",
       "      <th>1</th>\n",
       "      <td>AL</td>\n",
       "      <td>AUTAUGA COUNTY</td>\n",
       "      <td>0100100000</td>\n",
       "      <td>17.0</td>\n",
       "      <td>-999999.0</td>\n",
       "    </tr>\n",
       "    <tr>\n",
       "      <th>2</th>\n",
       "      <td>AL</td>\n",
       "      <td>BALDWIN COUNTY</td>\n",
       "      <td>0100300000</td>\n",
       "      <td>46.0</td>\n",
       "      <td>-999999.0</td>\n",
       "    </tr>\n",
       "    <tr>\n",
       "      <th>3</th>\n",
       "      <td>AL</td>\n",
       "      <td>BARBOUR COUNTY</td>\n",
       "      <td>0100500000</td>\n",
       "      <td>17.0</td>\n",
       "      <td>-999999.0</td>\n",
       "    </tr>\n",
       "    <tr>\n",
       "      <th>4</th>\n",
       "      <td>AL</td>\n",
       "      <td>BIBB COUNTY</td>\n",
       "      <td>0100700000</td>\n",
       "      <td>8.0</td>\n",
       "      <td>-999999.0</td>\n",
       "    </tr>\n",
       "  </tbody>\n",
       "</table>\n",
       "</div>"
      ],
      "text/plain": [
       "  State    Jurisdiction    FIPSCode  poll_place_elect_day  poll_place_early\n",
       "0    AK          ALASKA  0200000000                 533.0              75.0\n",
       "1    AL  AUTAUGA COUNTY  0100100000                  17.0         -999999.0\n",
       "2    AL  BALDWIN COUNTY  0100300000                  46.0         -999999.0\n",
       "3    AL  BARBOUR COUNTY  0100500000                  17.0         -999999.0\n",
       "4    AL     BIBB COUNTY  0100700000                   8.0         -999999.0"
      ]
     },
     "execution_count": 26,
     "metadata": {},
     "output_type": "execute_result"
    }
   ],
   "source": [
    "src_2012d.head()"
   ]
  },
  {
   "cell_type": "markdown",
   "id": "1752016c-6aa2-410e-b47e-1a846f5a95ff",
   "metadata": {},
   "source": [
    "#### Votes cast"
   ]
  },
  {
   "cell_type": "code",
   "execution_count": 27,
   "id": "da16beb0-08b6-4125-b101-94161327f9b6",
   "metadata": {},
   "outputs": [],
   "source": [
    "src_2012f = pd.read_excel(\"input/Section F.xls\", dtype={\"FIPSCode\": str})"
   ]
  },
  {
   "cell_type": "code",
   "execution_count": 28,
   "id": "aea2996a-a496-402e-9b68-a2c4db4e80b9",
   "metadata": {},
   "outputs": [],
   "source": [
    "src_2012f = src_2012f[[\"State\", \"Jurisdiction\", \"FIPSCode\", \"QF1a\"]]"
   ]
  },
  {
   "cell_type": "code",
   "execution_count": 29,
   "id": "43473b78-87aa-44ba-a0b4-325be9311c14",
   "metadata": {},
   "outputs": [],
   "source": [
    "src_2012f.rename(columns={\"QF1a\": \"total_votes_cast\"}, inplace=True)"
   ]
  },
  {
   "cell_type": "code",
   "execution_count": 30,
   "id": "1bf73525-5717-4af4-bdf4-f6657d66f9e8",
   "metadata": {},
   "outputs": [
    {
     "data": {
      "text/html": [
       "<div>\n",
       "<style scoped>\n",
       "    .dataframe tbody tr th:only-of-type {\n",
       "        vertical-align: middle;\n",
       "    }\n",
       "\n",
       "    .dataframe tbody tr th {\n",
       "        vertical-align: top;\n",
       "    }\n",
       "\n",
       "    .dataframe thead th {\n",
       "        text-align: right;\n",
       "    }\n",
       "</style>\n",
       "<table border=\"1\" class=\"dataframe\">\n",
       "  <thead>\n",
       "    <tr style=\"text-align: right;\">\n",
       "      <th></th>\n",
       "      <th>State</th>\n",
       "      <th>Jurisdiction</th>\n",
       "      <th>FIPSCode</th>\n",
       "      <th>total_votes_cast</th>\n",
       "    </tr>\n",
       "  </thead>\n",
       "  <tbody>\n",
       "    <tr>\n",
       "      <th>0</th>\n",
       "      <td>AK</td>\n",
       "      <td>ALASKA</td>\n",
       "      <td>0200000000</td>\n",
       "      <td>302465.0</td>\n",
       "    </tr>\n",
       "    <tr>\n",
       "      <th>1</th>\n",
       "      <td>AL</td>\n",
       "      <td>AUTAUGA COUNTY</td>\n",
       "      <td>0100100000</td>\n",
       "      <td>24065.0</td>\n",
       "    </tr>\n",
       "    <tr>\n",
       "      <th>2</th>\n",
       "      <td>AL</td>\n",
       "      <td>BALDWIN COUNTY</td>\n",
       "      <td>0100300000</td>\n",
       "      <td>85873.0</td>\n",
       "    </tr>\n",
       "    <tr>\n",
       "      <th>3</th>\n",
       "      <td>AL</td>\n",
       "      <td>BARBOUR COUNTY</td>\n",
       "      <td>0100500000</td>\n",
       "      <td>11534.0</td>\n",
       "    </tr>\n",
       "    <tr>\n",
       "      <th>4</th>\n",
       "      <td>AL</td>\n",
       "      <td>BIBB COUNTY</td>\n",
       "      <td>0100700000</td>\n",
       "      <td>8454.0</td>\n",
       "    </tr>\n",
       "  </tbody>\n",
       "</table>\n",
       "</div>"
      ],
      "text/plain": [
       "  State    Jurisdiction    FIPSCode  total_votes_cast\n",
       "0    AK          ALASKA  0200000000          302465.0\n",
       "1    AL  AUTAUGA COUNTY  0100100000           24065.0\n",
       "2    AL  BALDWIN COUNTY  0100300000           85873.0\n",
       "3    AL  BARBOUR COUNTY  0100500000           11534.0\n",
       "4    AL     BIBB COUNTY  0100700000            8454.0"
      ]
     },
     "execution_count": 30,
     "metadata": {},
     "output_type": "execute_result"
    }
   ],
   "source": [
    "src_2012f.head()"
   ]
  },
  {
   "cell_type": "markdown",
   "id": "7a96f05e-d619-468d-83c5-29cb2cc51365",
   "metadata": {},
   "source": [
    "### Merge 'em "
   ]
  },
  {
   "cell_type": "code",
   "execution_count": 31,
   "id": "6fa63a24-493c-4142-a9cc-a2c64d52656b",
   "metadata": {},
   "outputs": [],
   "source": [
    "from functools import reduce"
   ]
  },
  {
   "cell_type": "code",
   "execution_count": 32,
   "id": "9968ab2b-98e6-43a7-b6b9-ee72524d0ac4",
   "metadata": {},
   "outputs": [],
   "source": [
    "src_2012_all = reduce(\n",
    "    lambda x, y: pd.merge(x, y, on=[\"State\", \"FIPSCode\"], how=\"inner\"),\n",
    "    [src_2012a, src_2012b, src_2012f, src_2012d],\n",
    ")"
   ]
  },
  {
   "cell_type": "code",
   "execution_count": 33,
   "id": "8d9ebee3-e362-40f6-8566-e85672d29b8e",
   "metadata": {},
   "outputs": [],
   "source": [
    "src_2012_all.rename(\n",
    "    columns={\"Jurisdiction_x\": \"Jurisdiction\", \"Jurisdiction_y\": \"Jurisdiction\"},\n",
    "    inplace=True,\n",
    ")"
   ]
  },
  {
   "cell_type": "code",
   "execution_count": 34,
   "id": "8499f284-a392-4d89-b63d-051b349f83a1",
   "metadata": {},
   "outputs": [],
   "source": [
    "src_2012_all = src_2012_all.loc[:, ~src_2012_all.columns.duplicated()]"
   ]
  },
  {
   "cell_type": "code",
   "execution_count": 35,
   "id": "1ded8075-5bdc-4298-a03b-38e498599205",
   "metadata": {},
   "outputs": [
    {
     "data": {
      "text/html": [
       "<div>\n",
       "<style scoped>\n",
       "    .dataframe tbody tr th:only-of-type {\n",
       "        vertical-align: middle;\n",
       "    }\n",
       "\n",
       "    .dataframe tbody tr th {\n",
       "        vertical-align: top;\n",
       "    }\n",
       "\n",
       "    .dataframe thead th {\n",
       "        text-align: right;\n",
       "    }\n",
       "</style>\n",
       "<table border=\"1\" class=\"dataframe\">\n",
       "  <thead>\n",
       "    <tr style=\"text-align: right;\">\n",
       "      <th></th>\n",
       "      <th>State</th>\n",
       "      <th>Jurisdiction</th>\n",
       "      <th>FIPSCode</th>\n",
       "      <th>total_reg_voters</th>\n",
       "      <th>mail_ballots_sent</th>\n",
       "      <th>total_votes_cast</th>\n",
       "      <th>poll_place_elect_day</th>\n",
       "      <th>poll_place_early</th>\n",
       "    </tr>\n",
       "  </thead>\n",
       "  <tbody>\n",
       "    <tr>\n",
       "      <th>0</th>\n",
       "      <td>AK</td>\n",
       "      <td>ALASKA</td>\n",
       "      <td>0200000000</td>\n",
       "      <td>579304.0</td>\n",
       "      <td>11935.0</td>\n",
       "      <td>302465.0</td>\n",
       "      <td>533.0</td>\n",
       "      <td>75.0</td>\n",
       "    </tr>\n",
       "    <tr>\n",
       "      <th>1</th>\n",
       "      <td>AL</td>\n",
       "      <td>AUTAUGA COUNTY</td>\n",
       "      <td>0100100000</td>\n",
       "      <td>37170.0</td>\n",
       "      <td>75.0</td>\n",
       "      <td>24065.0</td>\n",
       "      <td>17.0</td>\n",
       "      <td>-999999.0</td>\n",
       "    </tr>\n",
       "    <tr>\n",
       "      <th>2</th>\n",
       "      <td>AL</td>\n",
       "      <td>BALDWIN COUNTY</td>\n",
       "      <td>0100300000</td>\n",
       "      <td>126703.0</td>\n",
       "      <td>253.0</td>\n",
       "      <td>85873.0</td>\n",
       "      <td>46.0</td>\n",
       "      <td>-999999.0</td>\n",
       "    </tr>\n",
       "    <tr>\n",
       "      <th>3</th>\n",
       "      <td>AL</td>\n",
       "      <td>BARBOUR COUNTY</td>\n",
       "      <td>0100500000</td>\n",
       "      <td>17318.0</td>\n",
       "      <td>25.0</td>\n",
       "      <td>11534.0</td>\n",
       "      <td>17.0</td>\n",
       "      <td>-999999.0</td>\n",
       "    </tr>\n",
       "    <tr>\n",
       "      <th>4</th>\n",
       "      <td>AL</td>\n",
       "      <td>BIBB COUNTY</td>\n",
       "      <td>0100700000</td>\n",
       "      <td>12819.0</td>\n",
       "      <td>3.0</td>\n",
       "      <td>8454.0</td>\n",
       "      <td>8.0</td>\n",
       "      <td>-999999.0</td>\n",
       "    </tr>\n",
       "  </tbody>\n",
       "</table>\n",
       "</div>"
      ],
      "text/plain": [
       "  State    Jurisdiction    FIPSCode  total_reg_voters  mail_ballots_sent  \\\n",
       "0    AK          ALASKA  0200000000          579304.0            11935.0   \n",
       "1    AL  AUTAUGA COUNTY  0100100000           37170.0               75.0   \n",
       "2    AL  BALDWIN COUNTY  0100300000          126703.0              253.0   \n",
       "3    AL  BARBOUR COUNTY  0100500000           17318.0               25.0   \n",
       "4    AL     BIBB COUNTY  0100700000           12819.0                3.0   \n",
       "\n",
       "   total_votes_cast  poll_place_elect_day  poll_place_early  \n",
       "0          302465.0                 533.0              75.0  \n",
       "1           24065.0                  17.0         -999999.0  \n",
       "2           85873.0                  46.0         -999999.0  \n",
       "3           11534.0                  17.0         -999999.0  \n",
       "4            8454.0                   8.0         -999999.0  "
      ]
     },
     "execution_count": 35,
     "metadata": {},
     "output_type": "execute_result"
    }
   ],
   "source": [
    "src_2012_all.head()"
   ]
  },
  {
   "cell_type": "code",
   "execution_count": 36,
   "id": "4ac0feca-c674-4b81-93de-34286764ebbe",
   "metadata": {},
   "outputs": [],
   "source": [
    "places2012 = src_2012_all.copy()"
   ]
  },
  {
   "cell_type": "code",
   "execution_count": 37,
   "id": "7a35de85-67fe-4ec3-b792-93671c12a865",
   "metadata": {},
   "outputs": [],
   "source": [
    "places2012.rename(\n",
    "    columns={\"FIPSCode\": \"fips\", \"State\": \"state\", \"Jurisdiction\": \"place\",},\n",
    "    inplace=True,\n",
    ")"
   ]
  },
  {
   "cell_type": "code",
   "execution_count": 38,
   "id": "d7aa6aed-f63d-4471-817d-8ab011d7f0c7",
   "metadata": {},
   "outputs": [],
   "source": [
    "places2012[\"year\"] = \"2012\""
   ]
  },
  {
   "cell_type": "code",
   "execution_count": 39,
   "id": "4eb28d51-39ae-4460-bc5f-6721ebb7df83",
   "metadata": {},
   "outputs": [
    {
     "data": {
      "text/html": [
       "<div>\n",
       "<style scoped>\n",
       "    .dataframe tbody tr th:only-of-type {\n",
       "        vertical-align: middle;\n",
       "    }\n",
       "\n",
       "    .dataframe tbody tr th {\n",
       "        vertical-align: top;\n",
       "    }\n",
       "\n",
       "    .dataframe thead th {\n",
       "        text-align: right;\n",
       "    }\n",
       "</style>\n",
       "<table border=\"1\" class=\"dataframe\">\n",
       "  <thead>\n",
       "    <tr style=\"text-align: right;\">\n",
       "      <th></th>\n",
       "      <th>state</th>\n",
       "      <th>place</th>\n",
       "      <th>fips</th>\n",
       "      <th>total_reg_voters</th>\n",
       "      <th>mail_ballots_sent</th>\n",
       "      <th>total_votes_cast</th>\n",
       "      <th>poll_place_elect_day</th>\n",
       "      <th>poll_place_early</th>\n",
       "      <th>year</th>\n",
       "    </tr>\n",
       "  </thead>\n",
       "  <tbody>\n",
       "    <tr>\n",
       "      <th>0</th>\n",
       "      <td>AK</td>\n",
       "      <td>ALASKA</td>\n",
       "      <td>0200000000</td>\n",
       "      <td>579304.0</td>\n",
       "      <td>11935.0</td>\n",
       "      <td>302465.0</td>\n",
       "      <td>533.0</td>\n",
       "      <td>75.0</td>\n",
       "      <td>2012</td>\n",
       "    </tr>\n",
       "    <tr>\n",
       "      <th>1</th>\n",
       "      <td>AL</td>\n",
       "      <td>AUTAUGA COUNTY</td>\n",
       "      <td>0100100000</td>\n",
       "      <td>37170.0</td>\n",
       "      <td>75.0</td>\n",
       "      <td>24065.0</td>\n",
       "      <td>17.0</td>\n",
       "      <td>-999999.0</td>\n",
       "      <td>2012</td>\n",
       "    </tr>\n",
       "    <tr>\n",
       "      <th>2</th>\n",
       "      <td>AL</td>\n",
       "      <td>BALDWIN COUNTY</td>\n",
       "      <td>0100300000</td>\n",
       "      <td>126703.0</td>\n",
       "      <td>253.0</td>\n",
       "      <td>85873.0</td>\n",
       "      <td>46.0</td>\n",
       "      <td>-999999.0</td>\n",
       "      <td>2012</td>\n",
       "    </tr>\n",
       "    <tr>\n",
       "      <th>3</th>\n",
       "      <td>AL</td>\n",
       "      <td>BARBOUR COUNTY</td>\n",
       "      <td>0100500000</td>\n",
       "      <td>17318.0</td>\n",
       "      <td>25.0</td>\n",
       "      <td>11534.0</td>\n",
       "      <td>17.0</td>\n",
       "      <td>-999999.0</td>\n",
       "      <td>2012</td>\n",
       "    </tr>\n",
       "    <tr>\n",
       "      <th>4</th>\n",
       "      <td>AL</td>\n",
       "      <td>BIBB COUNTY</td>\n",
       "      <td>0100700000</td>\n",
       "      <td>12819.0</td>\n",
       "      <td>3.0</td>\n",
       "      <td>8454.0</td>\n",
       "      <td>8.0</td>\n",
       "      <td>-999999.0</td>\n",
       "      <td>2012</td>\n",
       "    </tr>\n",
       "  </tbody>\n",
       "</table>\n",
       "</div>"
      ],
      "text/plain": [
       "  state           place        fips  total_reg_voters  mail_ballots_sent  \\\n",
       "0    AK          ALASKA  0200000000          579304.0            11935.0   \n",
       "1    AL  AUTAUGA COUNTY  0100100000           37170.0               75.0   \n",
       "2    AL  BALDWIN COUNTY  0100300000          126703.0              253.0   \n",
       "3    AL  BARBOUR COUNTY  0100500000           17318.0               25.0   \n",
       "4    AL     BIBB COUNTY  0100700000           12819.0                3.0   \n",
       "\n",
       "   total_votes_cast  poll_place_elect_day  poll_place_early  year  \n",
       "0          302465.0                 533.0              75.0  2012  \n",
       "1           24065.0                  17.0         -999999.0  2012  \n",
       "2           85873.0                  46.0         -999999.0  2012  \n",
       "3           11534.0                  17.0         -999999.0  2012  \n",
       "4            8454.0                   8.0         -999999.0  2012  "
      ]
     },
     "execution_count": 39,
     "metadata": {},
     "output_type": "execute_result"
    }
   ],
   "source": [
    "places2012.head()"
   ]
  },
  {
   "cell_type": "markdown",
   "id": "a38c415b-4179-488e-ba91-df4468106bd1",
   "metadata": {},
   "source": [
    "---"
   ]
  },
  {
   "cell_type": "markdown",
   "id": "506fc0ac-4d82-40c6-907f-62ea7785a57d",
   "metadata": {},
   "source": [
    "### Concatenate the dataframes"
   ]
  },
  {
   "cell_type": "code",
   "execution_count": 40,
   "id": "f7b78d72-6cc1-4fc5-a222-ad64d80162e5",
   "metadata": {},
   "outputs": [],
   "source": [
    "src = pd.concat([places2020, places2016, places2012]).reset_index(drop=True)"
   ]
  },
  {
   "cell_type": "code",
   "execution_count": 41,
   "id": "cc4e41d2-2760-4170-bcdf-72dae5bec93a",
   "metadata": {},
   "outputs": [],
   "source": [
    "src[\"fips\"] = src[\"fips\"].str.zfill(10)"
   ]
  },
  {
   "cell_type": "markdown",
   "id": "af4a8e19-e49c-40ad-8b8a-15f43c6bf89f",
   "metadata": {},
   "source": [
    "---"
   ]
  },
  {
   "cell_type": "code",
   "execution_count": 42,
   "id": "d95b00e5-4a59-4f8e-889b-41b81b32073d",
   "metadata": {},
   "outputs": [],
   "source": [
    "src.to_csv(\"polling_places_analysis.csv\", index=False)"
   ]
  }
 ],
 "metadata": {
  "kernelspec": {
   "display_name": "Python 3",
   "language": "python",
   "name": "python3"
  },
  "language_info": {
   "codemirror_mode": {
    "name": "ipython",
    "version": 3
   },
   "file_extension": ".py",
   "mimetype": "text/x-python",
   "name": "python",
   "nbconvert_exporter": "python",
   "pygments_lexer": "ipython3",
   "version": "3.8.8"
  }
 },
 "nbformat": 4,
 "nbformat_minor": 5
}
