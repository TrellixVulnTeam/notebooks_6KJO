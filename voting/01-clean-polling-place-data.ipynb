{
 "cells": [
  {
   "cell_type": "markdown",
   "id": "19b33415-e9b8-4816-9ec4-29697b8f1396",
   "metadata": {},
   "source": [
    "# Clean polling place data for analysis"
   ]
  },
  {
   "cell_type": "code",
   "execution_count": 1,
   "id": "4aae05de-2910-462d-8728-71c410da405f",
   "metadata": {},
   "outputs": [],
   "source": [
    "%load_ext lab_black"
   ]
  },
  {
   "cell_type": "code",
   "execution_count": 2,
   "id": "98e0b8ec-5bab-469e-8501-27bf47235661",
   "metadata": {},
   "outputs": [],
   "source": [
    "import pandas as pd\n",
    "import numpy as np"
   ]
  },
  {
   "cell_type": "code",
   "execution_count": 3,
   "id": "07c187a1-844d-4b50-973c-ce334d892072",
   "metadata": {},
   "outputs": [],
   "source": [
    "pd.options.display.max_columns = 1000\n",
    "pd.options.display.max_rows = 1000\n",
    "pd.options.display.max_colwidth = None"
   ]
  },
  {
   "cell_type": "markdown",
   "id": "c0ab0c82-fc0f-4adf-96b1-0994f728ae34",
   "metadata": {},
   "source": [
    "---"
   ]
  },
  {
   "cell_type": "code",
   "execution_count": 4,
   "id": "0604b6d7-cbd3-40eb-a4c6-fd17631d5e02",
   "metadata": {},
   "outputs": [],
   "source": [
    "src = pd.read_csv(\n",
    "    \"output/polling_places_analysis.csv\", dtype={\"year\": str, \"fips\": str}\n",
    ")"
   ]
  },
  {
   "cell_type": "code",
   "execution_count": 5,
   "id": "d37c8cb7-8913-4d8d-a9bd-daa27bd54f52",
   "metadata": {},
   "outputs": [
    {
     "data": {
      "text/html": [
       "<div>\n",
       "<style scoped>\n",
       "    .dataframe tbody tr th:only-of-type {\n",
       "        vertical-align: middle;\n",
       "    }\n",
       "\n",
       "    .dataframe tbody tr th {\n",
       "        vertical-align: top;\n",
       "    }\n",
       "\n",
       "    .dataframe thead th {\n",
       "        text-align: right;\n",
       "    }\n",
       "</style>\n",
       "<table border=\"1\" class=\"dataframe\">\n",
       "  <thead>\n",
       "    <tr style=\"text-align: right;\">\n",
       "      <th></th>\n",
       "      <th>fips</th>\n",
       "      <th>place</th>\n",
       "      <th>state</th>\n",
       "      <th>total_reg_voters</th>\n",
       "      <th>mail_ballots_sent</th>\n",
       "      <th>poll_place_elect_day</th>\n",
       "      <th>poll_place_early</th>\n",
       "      <th>total_votes_cast</th>\n",
       "      <th>year</th>\n",
       "    </tr>\n",
       "  </thead>\n",
       "  <tbody>\n",
       "    <tr>\n",
       "      <th>0</th>\n",
       "      <td>0100100000</td>\n",
       "      <td>AUTAUGA COUNTY</td>\n",
       "      <td>AL</td>\n",
       "      <td>43695.0</td>\n",
       "      <td>1329.0</td>\n",
       "      <td>18.0</td>\n",
       "      <td>1.0</td>\n",
       "      <td>27813.0</td>\n",
       "      <td>2020</td>\n",
       "    </tr>\n",
       "    <tr>\n",
       "      <th>1</th>\n",
       "      <td>0100300000</td>\n",
       "      <td>BALDWIN COUNTY</td>\n",
       "      <td>AL</td>\n",
       "      <td>176668.0</td>\n",
       "      <td>11147.0</td>\n",
       "      <td>50.0</td>\n",
       "      <td>1.0</td>\n",
       "      <td>110214.0</td>\n",
       "      <td>2020</td>\n",
       "    </tr>\n",
       "    <tr>\n",
       "      <th>2</th>\n",
       "      <td>0100500000</td>\n",
       "      <td>BARBOUR COUNTY</td>\n",
       "      <td>AL</td>\n",
       "      <td>17850.0</td>\n",
       "      <td>726.0</td>\n",
       "      <td>16.0</td>\n",
       "      <td>1.0</td>\n",
       "      <td>10560.0</td>\n",
       "      <td>2020</td>\n",
       "    </tr>\n",
       "    <tr>\n",
       "      <th>3</th>\n",
       "      <td>0100700000</td>\n",
       "      <td>BIBB COUNTY</td>\n",
       "      <td>AL</td>\n",
       "      <td>15014.0</td>\n",
       "      <td>332.0</td>\n",
       "      <td>8.0</td>\n",
       "      <td>1.0</td>\n",
       "      <td>9630.0</td>\n",
       "      <td>2020</td>\n",
       "    </tr>\n",
       "    <tr>\n",
       "      <th>4</th>\n",
       "      <td>0100900000</td>\n",
       "      <td>BLOUNT COUNTY</td>\n",
       "      <td>AL</td>\n",
       "      <td>41927.0</td>\n",
       "      <td>1032.0</td>\n",
       "      <td>24.0</td>\n",
       "      <td>1.0</td>\n",
       "      <td>27665.0</td>\n",
       "      <td>2020</td>\n",
       "    </tr>\n",
       "  </tbody>\n",
       "</table>\n",
       "</div>"
      ],
      "text/plain": [
       "         fips           place state total_reg_voters mail_ballots_sent  \\\n",
       "0  0100100000  AUTAUGA COUNTY    AL          43695.0            1329.0   \n",
       "1  0100300000  BALDWIN COUNTY    AL         176668.0           11147.0   \n",
       "2  0100500000  BARBOUR COUNTY    AL          17850.0             726.0   \n",
       "3  0100700000     BIBB COUNTY    AL          15014.0             332.0   \n",
       "4  0100900000   BLOUNT COUNTY    AL          41927.0            1032.0   \n",
       "\n",
       "   poll_place_elect_day  poll_place_early total_votes_cast  year  \n",
       "0                  18.0               1.0          27813.0  2020  \n",
       "1                  50.0               1.0         110214.0  2020  \n",
       "2                  16.0               1.0          10560.0  2020  \n",
       "3                   8.0               1.0           9630.0  2020  \n",
       "4                  24.0               1.0          27665.0  2020  "
      ]
     },
     "execution_count": 5,
     "metadata": {},
     "output_type": "execute_result"
    }
   ],
   "source": [
    "src.head()"
   ]
  },
  {
   "cell_type": "markdown",
   "id": "c51d92d1-b20b-4028-8d41-284b42444785",
   "metadata": {},
   "source": [
    "---"
   ]
  },
  {
   "cell_type": "markdown",
   "id": "79027225-b093-41cd-8194-316ee159b60f",
   "metadata": {},
   "source": [
    "### Clean up and categorize place types"
   ]
  },
  {
   "cell_type": "code",
   "execution_count": 6,
   "id": "f7b12a47-f47c-4dad-bc87-4706455438f1",
   "metadata": {},
   "outputs": [],
   "source": [
    "src[\"place_type\"] = \"Other\""
   ]
  },
  {
   "cell_type": "code",
   "execution_count": 7,
   "id": "b4c3ad1f-5a4f-44e5-92d1-45dfd5ddd1fb",
   "metadata": {},
   "outputs": [],
   "source": [
    "src.loc[src[\"place\"].str.contains(\"COUNTY\", case=False), \"place_type\"] = \"County\"\n",
    "src.loc[src[\"place\"].str.contains(\"PARISH\", case=False), \"place_type\"] = \"County\"\n",
    "src.loc[src[\"place\"].str.contains(\"CITY\", case=False), \"place_type\"] = \"City\"\n",
    "src.loc[src[\"place\"].str.contains(\"TOWN\", case=False), \"place_type\"] = \"Town\"\n",
    "src.loc[src[\"place\"].str.contains(\"VILLAGE\", case=False), \"place_type\"] = \"Village\""
   ]
  },
  {
   "cell_type": "code",
   "execution_count": 8,
   "id": "fe5ada60-0fbd-4024-a8d5-5cb532108a71",
   "metadata": {},
   "outputs": [
    {
     "data": {
      "text/plain": [
       "County     8536\n",
       "Town       5470\n",
       "Other      3398\n",
       "City       2284\n",
       "Village    1393\n",
       "Name: place_type, dtype: int64"
      ]
     },
     "execution_count": 8,
     "metadata": {},
     "output_type": "execute_result"
    }
   ],
   "source": [
    "src.place_type.value_counts()"
   ]
  },
  {
   "cell_type": "code",
   "execution_count": 9,
   "id": "1c5552de-cbfb-4a78-bc79-a5b8f3f421c1",
   "metadata": {},
   "outputs": [],
   "source": [
    "src[\"place_clean\"] = src[\"place\"].str.title().str.replace(\" County\", \"\", regex=False)"
   ]
  },
  {
   "cell_type": "code",
   "execution_count": 10,
   "id": "82b85e8a-f411-4442-bbe1-9925872ffde8",
   "metadata": {},
   "outputs": [
    {
     "data": {
      "text/plain": [
       "count     21063\n",
       "unique    13917\n",
       "top         0.0\n",
       "freq        103\n",
       "Name: total_reg_voters, dtype: object"
      ]
     },
     "execution_count": 10,
     "metadata": {},
     "output_type": "execute_result"
    }
   ],
   "source": [
    "src.total_reg_voters.describe()"
   ]
  },
  {
   "cell_type": "markdown",
   "id": "f2dce75b-d2ab-4c6f-b83c-04d1fa25e563",
   "metadata": {},
   "source": [
    "---"
   ]
  },
  {
   "cell_type": "code",
   "execution_count": 11,
   "id": "a363f649-03a4-4095-ac75-67fe693aa503",
   "metadata": {},
   "outputs": [],
   "source": [
    "missing_values = [\n",
    "    \"-999999.0\",\n",
    "    \"-99.0\",\n",
    "    \"-888888.0\",\n",
    "    \"-88.0\",\n",
    "    \"-999999: Data Not Available\",\n",
    "    \"-888888: Not Applicable\",\n",
    "    \"\",\n",
    "]\n",
    "src = src.replace(missing_values, np.NaN)"
   ]
  },
  {
   "cell_type": "code",
   "execution_count": 17,
   "id": "cf31d0dd-d5db-46dd-82ac-1dd621d4b081",
   "metadata": {},
   "outputs": [
    {
     "data": {
      "text/html": [
       "<div>\n",
       "<style scoped>\n",
       "    .dataframe tbody tr th:only-of-type {\n",
       "        vertical-align: middle;\n",
       "    }\n",
       "\n",
       "    .dataframe tbody tr th {\n",
       "        vertical-align: top;\n",
       "    }\n",
       "\n",
       "    .dataframe thead th {\n",
       "        text-align: right;\n",
       "    }\n",
       "</style>\n",
       "<table border=\"1\" class=\"dataframe\">\n",
       "  <thead>\n",
       "    <tr style=\"text-align: right;\">\n",
       "      <th></th>\n",
       "      <th>fips</th>\n",
       "      <th>place</th>\n",
       "      <th>state</th>\n",
       "      <th>total_reg_voters</th>\n",
       "      <th>mail_ballots_sent</th>\n",
       "      <th>poll_place_elect_day</th>\n",
       "      <th>poll_place_early</th>\n",
       "      <th>total_votes_cast</th>\n",
       "      <th>year</th>\n",
       "      <th>place_type</th>\n",
       "      <th>place_clean</th>\n",
       "    </tr>\n",
       "  </thead>\n",
       "  <tbody>\n",
       "    <tr>\n",
       "      <th>177</th>\n",
       "      <td>0603700000</td>\n",
       "      <td>LOS ANGELES COUNTY</td>\n",
       "      <td>CA</td>\n",
       "      <td>7122542.0</td>\n",
       "      <td>6067822.0</td>\n",
       "      <td>811.0</td>\n",
       "      <td>811.0</td>\n",
       "      <td>4263059.0</td>\n",
       "      <td>2020</td>\n",
       "      <td>County</td>\n",
       "      <td>Los Angeles</td>\n",
       "    </tr>\n",
       "    <tr>\n",
       "      <th>6636</th>\n",
       "      <td>0603700000</td>\n",
       "      <td>LOS ANGELES COUNTY</td>\n",
       "      <td>CA</td>\n",
       "      <td>6754224.0</td>\n",
       "      <td>2412019.0</td>\n",
       "      <td>4535.0</td>\n",
       "      <td>6.0</td>\n",
       "      <td>3551506.0</td>\n",
       "      <td>2016</td>\n",
       "      <td>County</td>\n",
       "      <td>Los Angeles</td>\n",
       "    </tr>\n",
       "    <tr>\n",
       "      <th>13104</th>\n",
       "      <td>0603700000</td>\n",
       "      <td>LOS ANGELES COUNTY</td>\n",
       "      <td>CA</td>\n",
       "      <td>4758437.0</td>\n",
       "      <td>31159.0</td>\n",
       "      <td>4623.0</td>\n",
       "      <td>1.0</td>\n",
       "      <td>3136412.0</td>\n",
       "      <td>2012</td>\n",
       "      <td>County</td>\n",
       "      <td>Los Angeles</td>\n",
       "    </tr>\n",
       "    <tr>\n",
       "      <th>76</th>\n",
       "      <td>0401300000</td>\n",
       "      <td>MARICOPA COUNTY</td>\n",
       "      <td>AZ</td>\n",
       "      <td>2863040.0</td>\n",
       "      <td>2258790.0</td>\n",
       "      <td>175.0</td>\n",
       "      <td>91.0</td>\n",
       "      <td>2089563.0</td>\n",
       "      <td>2020</td>\n",
       "      <td>County</td>\n",
       "      <td>Maricopa</td>\n",
       "    </tr>\n",
       "    <tr>\n",
       "      <th>16513</th>\n",
       "      <td>7200000000</td>\n",
       "      <td>PUERTO RICO</td>\n",
       "      <td>PR</td>\n",
       "      <td>2402941.0</td>\n",
       "      <td>1711.0</td>\n",
       "      <td>7865.0</td>\n",
       "      <td>110.0</td>\n",
       "      <td>1878969.0</td>\n",
       "      <td>2012</td>\n",
       "      <td>Other</td>\n",
       "      <td>Puerto Rico</td>\n",
       "    </tr>\n",
       "  </tbody>\n",
       "</table>\n",
       "</div>"
      ],
      "text/plain": [
       "             fips               place state  total_reg_voters  \\\n",
       "177    0603700000  LOS ANGELES COUNTY    CA         7122542.0   \n",
       "6636   0603700000  LOS ANGELES COUNTY    CA         6754224.0   \n",
       "13104  0603700000  LOS ANGELES COUNTY    CA         4758437.0   \n",
       "76     0401300000     MARICOPA COUNTY    AZ         2863040.0   \n",
       "16513  7200000000         PUERTO RICO    PR         2402941.0   \n",
       "\n",
       "       mail_ballots_sent  poll_place_elect_day  poll_place_early  \\\n",
       "177            6067822.0                 811.0             811.0   \n",
       "6636           2412019.0                4535.0               6.0   \n",
       "13104            31159.0                4623.0               1.0   \n",
       "76             2258790.0                 175.0              91.0   \n",
       "16513             1711.0                7865.0             110.0   \n",
       "\n",
       "       total_votes_cast  year place_type  place_clean  \n",
       "177           4263059.0  2020     County  Los Angeles  \n",
       "6636          3551506.0  2016     County  Los Angeles  \n",
       "13104         3136412.0  2012     County  Los Angeles  \n",
       "76            2089563.0  2020     County     Maricopa  \n",
       "16513         1878969.0  2012      Other  Puerto Rico  "
      ]
     },
     "execution_count": 17,
     "metadata": {},
     "output_type": "execute_result"
    }
   ],
   "source": [
    "src.sort_values(\"total_votes_cast\", ascending=False).head()"
   ]
  },
  {
   "cell_type": "code",
   "execution_count": 13,
   "id": "cac70ed0-f1ff-4bc8-b85f-7f2b7ac852f2",
   "metadata": {},
   "outputs": [],
   "source": [
    "src[\n",
    "    [\n",
    "        \"total_reg_voters\",\n",
    "        \"mail_ballots_sent\",\n",
    "        \"total_votes_cast\",\n",
    "        \"poll_place_elect_day\",\n",
    "        \"poll_place_early\",\n",
    "    ]\n",
    "] = src[\n",
    "    [\n",
    "        \"total_reg_voters\",\n",
    "        \"mail_ballots_sent\",\n",
    "        \"total_votes_cast\",\n",
    "        \"poll_place_elect_day\",\n",
    "        \"poll_place_early\",\n",
    "    ]\n",
    "].astype(\n",
    "    float\n",
    ")"
   ]
  },
  {
   "cell_type": "code",
   "execution_count": 14,
   "id": "73aaa27f-ab13-4c2b-9811-8f4274af9ae6",
   "metadata": {},
   "outputs": [],
   "source": [
    "src[src[\"total_reg_voters\"] > 100].isnull().sum()"
   ]
  }
 ],
 "metadata": {
  "kernelspec": {
   "display_name": "Python 3",
   "language": "python",
   "name": "python3"
  },
  "language_info": {
   "codemirror_mode": {
    "name": "ipython",
    "version": 3
   },
   "file_extension": ".py",
   "mimetype": "text/x-python",
   "name": "python",
   "nbconvert_exporter": "python",
   "pygments_lexer": "ipython3",
   "version": "3.8.8"
  }
 },
 "nbformat": 4,
 "nbformat_minor": 5
}
