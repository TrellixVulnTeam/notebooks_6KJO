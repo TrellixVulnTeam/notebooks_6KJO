{
 "cells": [
  {
   "cell_type": "markdown",
   "id": "14b8aa3c-363a-4e8b-99ca-aa9e9929194e",
   "metadata": {},
   "source": [
    "# Datawrapper API"
   ]
  },
  {
   "cell_type": "markdown",
   "id": "94b001da-ea54-4472-8728-76a3416e4dac",
   "metadata": {},
   "source": [
    "#### Load Python tools"
   ]
  },
  {
   "cell_type": "code",
   "execution_count": 1,
   "id": "c681de52-0d4d-41da-9fc2-705d82b3bc42",
   "metadata": {},
   "outputs": [],
   "source": [
    "%load_ext lab_black"
   ]
  },
  {
   "cell_type": "code",
   "execution_count": 2,
   "id": "9da4a31f-0790-4fe3-bcf1-78925285d00d",
   "metadata": {},
   "outputs": [],
   "source": [
    "import pandas as pd\n",
    "from datawrapper import Datawrapper\n",
    "from datetime import date"
   ]
  },
  {
   "cell_type": "code",
   "execution_count": 3,
   "id": "dcb5ca34-7fe2-497d-a216-f815c10916d5",
   "metadata": {},
   "outputs": [],
   "source": [
    "pd.options.display.max_columns = 1000\n",
    "pd.options.display.max_rows = 1000\n",
    "pd.options.display.max_colwidth = None"
   ]
  },
  {
   "cell_type": "markdown",
   "id": "5fa38e15-4c4b-4100-b9fe-b0179a3ac1e7",
   "metadata": {},
   "source": [
    "#### Use the Datawrapper API library to update the data in [this sample chart](https://app.datawrapper.de/chart/emXrI/publish)"
   ]
  },
  {
   "cell_type": "code",
   "execution_count": 4,
   "id": "7d66d98d-056a-4eb6-b4f1-c0e754f4892e",
   "metadata": {},
   "outputs": [],
   "source": [
    "token = !echo $dw_api\n",
    "dw = Datawrapper(access_token=token[0])"
   ]
  },
  {
   "cell_type": "code",
   "execution_count": 5,
   "id": "0ba5bb9e-dd06-4f3c-9f4a-076ca8dfdcfc",
   "metadata": {},
   "outputs": [
    {
     "data": {
      "text/plain": [
       "{'id': 393404,\n",
       " 'email': 'mstiles@mipo.news',\n",
       " 'name': None,\n",
       " 'role': 'editor',\n",
       " 'language': 'en-US',\n",
       " 'teams': [{'id': '1NhUBkSc',\n",
       "   'name': 'Grid',\n",
       "   'url': '/v3/teams/1NhUBkSc',\n",
       "   'active': True}],\n",
       " 'chartCount': 99,\n",
       " 'url': '/v3/users/393404',\n",
       " 'activeTeam': '1NhUBkSc'}"
      ]
     },
     "execution_count": 5,
     "metadata": {},
     "output_type": "execute_result"
    }
   ],
   "source": [
    "dw.account_info()"
   ]
  },
  {
   "cell_type": "markdown",
   "id": "11fac7e4-6ebd-4a39-b126-1384e2652fe2",
   "metadata": {},
   "source": [
    "---"
   ]
  },
  {
   "cell_type": "markdown",
   "id": "1bf92ab8-8927-45ab-8a4f-83162aa87729",
   "metadata": {},
   "source": [
    "#### Sample dataset"
   ]
  },
  {
   "cell_type": "code",
   "execution_count": 6,
   "id": "58b2c2d6-6737-4387-8ee4-b4cb68189755",
   "metadata": {},
   "outputs": [],
   "source": [
    "df = pd.read_csv(\"data/raw/air_quality_slope.csv\")"
   ]
  },
  {
   "cell_type": "markdown",
   "id": "87ca77f2-620d-4309-b77d-3afbe168b02b",
   "metadata": {},
   "source": [
    "#### Give it an update date"
   ]
  },
  {
   "cell_type": "code",
   "execution_count": 7,
   "id": "f37dc2fe-e503-42fc-8987-a70caca25526",
   "metadata": {},
   "outputs": [],
   "source": [
    "df[\"Updated\"] = str(date.today())"
   ]
  },
  {
   "cell_type": "code",
   "execution_count": 8,
   "id": "284729ee-efe3-4c4c-bfd4-ee1b2bd37970",
   "metadata": {},
   "outputs": [
    {
     "data": {
      "text/html": [
       "<div>\n",
       "<style scoped>\n",
       "    .dataframe tbody tr th:only-of-type {\n",
       "        vertical-align: middle;\n",
       "    }\n",
       "\n",
       "    .dataframe tbody tr th {\n",
       "        vertical-align: top;\n",
       "    }\n",
       "\n",
       "    .dataframe thead th {\n",
       "        text-align: right;\n",
       "    }\n",
       "</style>\n",
       "<table border=\"1\" class=\"dataframe\">\n",
       "  <thead>\n",
       "    <tr style=\"text-align: right;\">\n",
       "      <th></th>\n",
       "      <th>Beijing</th>\n",
       "      <th>Chengdu</th>\n",
       "      <th>Chongqing</th>\n",
       "      <th>Shanghai</th>\n",
       "      <th>Tianjin</th>\n",
       "      <th>Year</th>\n",
       "      <th>Updated</th>\n",
       "    </tr>\n",
       "  </thead>\n",
       "  <tbody>\n",
       "    <tr>\n",
       "      <th>0</th>\n",
       "      <td>75.7</td>\n",
       "      <td>66.3</td>\n",
       "      <td>56.5</td>\n",
       "      <td>47.5</td>\n",
       "      <td>72.5</td>\n",
       "      <td>2008</td>\n",
       "      <td>2022-02-21</td>\n",
       "    </tr>\n",
       "    <tr>\n",
       "      <th>1</th>\n",
       "      <td>85.2</td>\n",
       "      <td>70.3</td>\n",
       "      <td>56.2</td>\n",
       "      <td>50.2</td>\n",
       "      <td>77.6</td>\n",
       "      <td>2013</td>\n",
       "      <td>2022-02-21</td>\n",
       "    </tr>\n",
       "    <tr>\n",
       "      <th>2</th>\n",
       "      <td>37.9</td>\n",
       "      <td>35.4</td>\n",
       "      <td>29.0</td>\n",
       "      <td>28.1</td>\n",
       "      <td>47.4</td>\n",
       "      <td>2020</td>\n",
       "      <td>2022-02-21</td>\n",
       "    </tr>\n",
       "  </tbody>\n",
       "</table>\n",
       "</div>"
      ],
      "text/plain": [
       "   Beijing  Chengdu  Chongqing  Shanghai  Tianjin  Year     Updated\n",
       "0     75.7     66.3       56.5      47.5     72.5  2008  2022-02-21\n",
       "1     85.2     70.3       56.2      50.2     77.6  2013  2022-02-21\n",
       "2     37.9     35.4       29.0      28.1     47.4  2020  2022-02-21"
      ]
     },
     "execution_count": 8,
     "metadata": {},
     "output_type": "execute_result"
    }
   ],
   "source": [
    "df"
   ]
  },
  {
   "cell_type": "markdown",
   "id": "2f2dd86c-9af2-4b72-b600-1aa1e9827068",
   "metadata": {},
   "source": [
    "#### Send an updated data set (a 200 response is what we need)"
   ]
  },
  {
   "cell_type": "code",
   "execution_count": 9,
   "id": "ecbea623-a7d3-46b5-b60f-25c6ec283fe8",
   "metadata": {},
   "outputs": [
    {
     "data": {
      "text/plain": [
       "<Response [204]>"
      ]
     },
     "execution_count": 9,
     "metadata": {},
     "output_type": "execute_result"
    }
   ],
   "source": [
    "dw.add_data(chart_id=\"emXrI\", data=df)"
   ]
  }
 ],
 "metadata": {
  "kernelspec": {
   "display_name": "Python 3 (ipykernel)",
   "language": "python",
   "name": "python3"
  },
  "language_info": {
   "codemirror_mode": {
    "name": "ipython",
    "version": 3
   },
   "file_extension": ".py",
   "mimetype": "text/x-python",
   "name": "python",
   "nbconvert_exporter": "python",
   "pygments_lexer": "ipython3",
   "version": "3.9.13"
  }
 },
 "nbformat": 4,
 "nbformat_minor": 5
}
