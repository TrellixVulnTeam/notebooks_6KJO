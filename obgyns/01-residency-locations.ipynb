{
 "cells": [
  {
   "cell_type": "code",
   "execution_count": 1,
   "id": "8cc14ba7-e55d-44d0-a6e2-2464aac12130",
   "metadata": {},
   "outputs": [],
   "source": [
    "%load_ext lab_black"
   ]
  },
  {
   "cell_type": "code",
   "execution_count": 2,
   "id": "8de93d5b-a42d-4753-8cf9-436418e49751",
   "metadata": {},
   "outputs": [],
   "source": [
    "import pandas as pd\n",
    "import requests\n",
    "import bs4\n",
    "from bs4 import BeautifulSoup"
   ]
  },
  {
   "cell_type": "code",
   "execution_count": 3,
   "id": "2a8285bd-837e-4d66-a43d-9cbe697f4f82",
   "metadata": {},
   "outputs": [],
   "source": [
    "pd.options.display.max_columns = 1000\n",
    "pd.options.display.max_rows = 1000\n",
    "pd.set_option(\"display.max_columns\", None)"
   ]
  },
  {
   "cell_type": "code",
   "execution_count": 4,
   "id": "6613050c-565b-4264-8346-c52575055433",
   "metadata": {},
   "outputs": [],
   "source": [
    "from datawrapper import Datawrapper\n",
    "\n",
    "dw = Datawrapper(\n",
    "    access_token=\"FtIwtvFtoGLaRT9a3gjX69PLu4wSuRyKddoOz6SOPw3k9wWyNICMHTkcPhOGCR5Z\"\n",
    ")"
   ]
  },
  {
   "cell_type": "markdown",
   "id": "6834da16-955c-4057-8120-261da331a28b",
   "metadata": {},
   "source": [
    "#### First loop thru each page and get a list of URLs"
   ]
  },
  {
   "cell_type": "code",
   "execution_count": 5,
   "id": "0a4eac5e-1b04-4eeb-a0ec-3651d372d9f8",
   "metadata": {},
   "outputs": [],
   "source": [
    "base_url = \"https://freida.ama-assn.org/search/list?spec=42931&page=\""
   ]
  },
  {
   "cell_type": "code",
   "execution_count": 6,
   "id": "3260f26e-fa0d-4e81-b92f-b0ef824258b3",
   "metadata": {},
   "outputs": [],
   "source": [
    "urls = []\n",
    "for r in range(1, 13):\n",
    "    urls.append(base_url + str(r))"
   ]
  },
  {
   "cell_type": "code",
   "execution_count": 7,
   "id": "6ee2318f-70d2-4c41-9e69-24f8ee25e951",
   "metadata": {},
   "outputs": [
    {
     "data": {
      "text/plain": [
       "['https://freida.ama-assn.org/search/list?spec=42931&page=1',\n",
       " 'https://freida.ama-assn.org/search/list?spec=42931&page=2',\n",
       " 'https://freida.ama-assn.org/search/list?spec=42931&page=3',\n",
       " 'https://freida.ama-assn.org/search/list?spec=42931&page=4',\n",
       " 'https://freida.ama-assn.org/search/list?spec=42931&page=5',\n",
       " 'https://freida.ama-assn.org/search/list?spec=42931&page=6',\n",
       " 'https://freida.ama-assn.org/search/list?spec=42931&page=7',\n",
       " 'https://freida.ama-assn.org/search/list?spec=42931&page=8',\n",
       " 'https://freida.ama-assn.org/search/list?spec=42931&page=9',\n",
       " 'https://freida.ama-assn.org/search/list?spec=42931&page=10',\n",
       " 'https://freida.ama-assn.org/search/list?spec=42931&page=11',\n",
       " 'https://freida.ama-assn.org/search/list?spec=42931&page=12']"
      ]
     },
     "execution_count": 7,
     "metadata": {},
     "output_type": "execute_result"
    }
   ],
   "source": [
    "urls"
   ]
  },
  {
   "cell_type": "markdown",
   "id": "3fe9cdc6-ee5f-4615-92e3-8661a418e953",
   "metadata": {},
   "source": [
    "#### Grab the markup from the pages and put each in a list"
   ]
  },
  {
   "cell_type": "code",
   "execution_count": 8,
   "id": "7f8f2fe5-1d4a-4304-879d-435d13d00ba9",
   "metadata": {},
   "outputs": [],
   "source": [
    "pages = []\n",
    "\n",
    "for url in urls:\n",
    "    page = requests.get(url)\n",
    "    pages.append(bs4.BeautifulSoup(page.text))"
   ]
  },
  {
   "cell_type": "markdown",
   "id": "61204273-77bd-4b31-81b0-1973dd18a5fb",
   "metadata": {},
   "source": [
    "#### Create a list of facility cards from each page"
   ]
  },
  {
   "cell_type": "code",
   "execution_count": 9,
   "id": "f5c0f368-d9b8-4b33-8c8f-5f1f1cbf0b5e",
   "metadata": {},
   "outputs": [],
   "source": [
    "soups = []\n",
    "\n",
    "for p in pages:\n",
    "    soups.append(p.find_all(\"div\", class_=\"search-result-card__main ng-star-inserted\"))"
   ]
  },
  {
   "cell_type": "markdown",
   "id": "96dc7a7f-6fd9-45ac-ba7e-417172563a3d",
   "metadata": {},
   "source": [
    "#### Loop over the cards from each page and their elements, then extract features"
   ]
  },
  {
   "cell_type": "code",
   "execution_count": 10,
   "id": "9c28ede0-8354-4a65-8aa3-83615cd25ec3",
   "metadata": {},
   "outputs": [],
   "source": [
    "elements = []\n",
    "\n",
    "for soup in soups:\n",
    "    for s in soup:\n",
    "        dict_data = {\n",
    "            \"id\": s.find(\"a\", class_=\"search-result-card__title\")[\"href\"],\n",
    "            \"headline\": s.find(\"h4\").text,\n",
    "            \"footer\": s.find(\"div\", class_=None).text,\n",
    "        }\n",
    "        elements.append(dict_data)"
   ]
  },
  {
   "cell_type": "markdown",
   "id": "e815fafb-c44f-4ea1-aa36-2babe1d45da0",
   "metadata": {},
   "source": [
    "#### Turn the list of dicts into a dataframe"
   ]
  },
  {
   "cell_type": "code",
   "execution_count": 11,
   "id": "9adf1956-774f-4823-82db-9b22a253c50f",
   "metadata": {},
   "outputs": [],
   "source": [
    "df = pd.DataFrame(elements)"
   ]
  },
  {
   "cell_type": "markdown",
   "id": "8e361939-cd01-4434-8fcf-b5ac4e394b2f",
   "metadata": {},
   "source": [
    "#### How many places? "
   ]
  },
  {
   "cell_type": "code",
   "execution_count": 12,
   "id": "b924c9d0-8fb0-48fe-8ee4-6839e753b232",
   "metadata": {},
   "outputs": [
    {
     "data": {
      "text/plain": [
       "298"
      ]
     },
     "execution_count": 12,
     "metadata": {},
     "output_type": "execute_result"
    }
   ],
   "source": [
    "len(df)"
   ]
  },
  {
   "cell_type": "markdown",
   "id": "549ab17c-e181-426d-bda6-f0b6f346f7a5",
   "metadata": {},
   "source": [
    "#### Cities and states"
   ]
  },
  {
   "cell_type": "code",
   "execution_count": 13,
   "id": "92456065-0f80-4fb7-9643-913069d195aa",
   "metadata": {},
   "outputs": [],
   "source": [
    "df[[\"city\", \"state\"]] = df[\"footer\"].str.split(\", \", expand=True)"
   ]
  },
  {
   "cell_type": "code",
   "execution_count": 14,
   "id": "0d0f339c-27cb-4ad6-9bc2-aeb2a5ad9c68",
   "metadata": {},
   "outputs": [],
   "source": [
    "df.drop(\"footer\", axis=1, inplace=True)"
   ]
  },
  {
   "cell_type": "markdown",
   "id": "8efef058-7776-43de-8d2a-0f62617a7ec5",
   "metadata": {},
   "source": [
    "---"
   ]
  },
  {
   "cell_type": "code",
   "execution_count": 15,
   "id": "8f00fba7-12a6-4787-a6d3-808858b9c9f8",
   "metadata": {},
   "outputs": [
    {
     "data": {
      "text/html": [
       "<div>\n",
       "<style scoped>\n",
       "    .dataframe tbody tr th:only-of-type {\n",
       "        vertical-align: middle;\n",
       "    }\n",
       "\n",
       "    .dataframe tbody tr th {\n",
       "        vertical-align: top;\n",
       "    }\n",
       "\n",
       "    .dataframe thead th {\n",
       "        text-align: right;\n",
       "    }\n",
       "</style>\n",
       "<table border=\"1\" class=\"dataframe\">\n",
       "  <thead>\n",
       "    <tr style=\"text-align: right;\">\n",
       "      <th></th>\n",
       "      <th>id</th>\n",
       "      <th>headline</th>\n",
       "      <th>city</th>\n",
       "      <th>state</th>\n",
       "    </tr>\n",
       "  </thead>\n",
       "  <tbody>\n",
       "    <tr>\n",
       "      <th>0</th>\n",
       "      <td>/program/2200111018</td>\n",
       "      <td>University of Alabama Medical Center Program</td>\n",
       "      <td>Birmingham</td>\n",
       "      <td>AL</td>\n",
       "    </tr>\n",
       "    <tr>\n",
       "      <th>1</th>\n",
       "      <td>/program/2200121020</td>\n",
       "      <td>USA Health Program</td>\n",
       "      <td>Mobile</td>\n",
       "      <td>AL</td>\n",
       "    </tr>\n",
       "    <tr>\n",
       "      <th>2</th>\n",
       "      <td>/program/2200411026</td>\n",
       "      <td>University of Arkansas for Medical Sciences (U...</td>\n",
       "      <td>Little Rock</td>\n",
       "      <td>AR</td>\n",
       "    </tr>\n",
       "    <tr>\n",
       "      <th>3</th>\n",
       "      <td>/program/2200321024</td>\n",
       "      <td>University of Arizona College of Medicine-Phoe...</td>\n",
       "      <td>Phoenix</td>\n",
       "      <td>AZ</td>\n",
       "    </tr>\n",
       "    <tr>\n",
       "      <th>4</th>\n",
       "      <td>/program/2200321328</td>\n",
       "      <td>Creighton University School of Medicine (Phoen...</td>\n",
       "      <td>Phoenix</td>\n",
       "      <td>AZ</td>\n",
       "    </tr>\n",
       "  </tbody>\n",
       "</table>\n",
       "</div>"
      ],
      "text/plain": [
       "                    id                                           headline  \\\n",
       "0  /program/2200111018       University of Alabama Medical Center Program   \n",
       "1  /program/2200121020                                 USA Health Program   \n",
       "2  /program/2200411026  University of Arkansas for Medical Sciences (U...   \n",
       "3  /program/2200321024  University of Arizona College of Medicine-Phoe...   \n",
       "4  /program/2200321328  Creighton University School of Medicine (Phoen...   \n",
       "\n",
       "          city state  \n",
       "0   Birmingham    AL  \n",
       "1       Mobile    AL  \n",
       "2  Little Rock    AR  \n",
       "3      Phoenix    AZ  \n",
       "4      Phoenix    AZ  "
      ]
     },
     "execution_count": 15,
     "metadata": {},
     "output_type": "execute_result"
    }
   ],
   "source": [
    "df.head()"
   ]
  },
  {
   "cell_type": "code",
   "execution_count": 16,
   "id": "9764f7c8-0e31-4a11-8320-9fdb368188d7",
   "metadata": {},
   "outputs": [
    {
     "data": {
      "text/html": [
       "<div>\n",
       "<style scoped>\n",
       "    .dataframe tbody tr th:only-of-type {\n",
       "        vertical-align: middle;\n",
       "    }\n",
       "\n",
       "    .dataframe tbody tr th {\n",
       "        vertical-align: top;\n",
       "    }\n",
       "\n",
       "    .dataframe thead th {\n",
       "        text-align: right;\n",
       "    }\n",
       "</style>\n",
       "<table border=\"1\" class=\"dataframe\">\n",
       "  <thead>\n",
       "    <tr style=\"text-align: right;\">\n",
       "      <th></th>\n",
       "      <th>id</th>\n",
       "      <th>headline</th>\n",
       "      <th>city</th>\n",
       "      <th>state</th>\n",
       "    </tr>\n",
       "  </thead>\n",
       "  <tbody>\n",
       "    <tr>\n",
       "      <th>293</th>\n",
       "      <td>/program/2205631307</td>\n",
       "      <td>Medical College of Wisconsin Affiliated Hospit...</td>\n",
       "      <td>Milwaukee</td>\n",
       "      <td>WI</td>\n",
       "    </tr>\n",
       "    <tr>\n",
       "      <th>294</th>\n",
       "      <td>/program/2205612308</td>\n",
       "      <td>Aurora Health Care Program</td>\n",
       "      <td>Milwaukee</td>\n",
       "      <td>WI</td>\n",
       "    </tr>\n",
       "    <tr>\n",
       "      <th>295</th>\n",
       "      <td>/program/2205511303</td>\n",
       "      <td>Charleston Area Medical Center/West Virginia U...</td>\n",
       "      <td>Charleston</td>\n",
       "      <td>WV</td>\n",
       "    </tr>\n",
       "    <tr>\n",
       "      <th>296</th>\n",
       "      <td>/program/2205521344</td>\n",
       "      <td>Marshall University School of Medicine Program</td>\n",
       "      <td>Huntington</td>\n",
       "      <td>WV</td>\n",
       "    </tr>\n",
       "    <tr>\n",
       "      <th>297</th>\n",
       "      <td>/program/2205511304</td>\n",
       "      <td>West Virginia University Program</td>\n",
       "      <td>Morgantown</td>\n",
       "      <td>WV</td>\n",
       "    </tr>\n",
       "  </tbody>\n",
       "</table>\n",
       "</div>"
      ],
      "text/plain": [
       "                      id                                           headline  \\\n",
       "293  /program/2205631307  Medical College of Wisconsin Affiliated Hospit...   \n",
       "294  /program/2205612308                         Aurora Health Care Program   \n",
       "295  /program/2205511303  Charleston Area Medical Center/West Virginia U...   \n",
       "296  /program/2205521344     Marshall University School of Medicine Program   \n",
       "297  /program/2205511304                   West Virginia University Program   \n",
       "\n",
       "           city state  \n",
       "293   Milwaukee    WI  \n",
       "294   Milwaukee    WI  \n",
       "295  Charleston    WV  \n",
       "296  Huntington    WV  \n",
       "297  Morgantown    WV  "
      ]
     },
     "execution_count": 16,
     "metadata": {},
     "output_type": "execute_result"
    }
   ],
   "source": [
    "df.tail()"
   ]
  },
  {
   "cell_type": "markdown",
   "id": "5c457fb6-cd5b-4c79-b4b0-3e1a8b5ac8d3",
   "metadata": {},
   "source": [
    "---"
   ]
  },
  {
   "cell_type": "markdown",
   "id": "2cb69ee0-8701-4ff0-94f2-a3510dcf19e3",
   "metadata": {},
   "source": [
    "## Export"
   ]
  },
  {
   "cell_type": "code",
   "execution_count": 17,
   "id": "3ce9f767-9a97-44bd-b516-4ecce09ebbd1",
   "metadata": {},
   "outputs": [],
   "source": [
    "df.to_csv(\"data/processed/facilities_list_scraped.csv\", index=False)"
   ]
  }
 ],
 "metadata": {
  "kernelspec": {
   "display_name": "Python 3 (ipykernel)",
   "language": "python",
   "name": "python3"
  },
  "language_info": {
   "codemirror_mode": {
    "name": "ipython",
    "version": 3
   },
   "file_extension": ".py",
   "mimetype": "text/x-python",
   "name": "python",
   "nbconvert_exporter": "python",
   "pygments_lexer": "ipython3",
   "version": "3.8.9"
  }
 },
 "nbformat": 4,
 "nbformat_minor": 5
}
