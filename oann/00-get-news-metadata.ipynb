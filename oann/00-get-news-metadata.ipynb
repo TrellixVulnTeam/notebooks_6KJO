{
 "cells": [
  {
   "cell_type": "markdown",
   "id": "17025af4-02ae-4d19-8571-28d5ffddf34f",
   "metadata": {},
   "source": [
    "# Scraping OANN's news feed"
   ]
  },
  {
   "cell_type": "markdown",
   "id": "2f91de99-d388-4f99-8183-0f1a5863de12",
   "metadata": {
    "tags": []
   },
   "source": [
    "#### Load Python tools"
   ]
  },
  {
   "cell_type": "code",
   "execution_count": 1,
   "id": "489bae22-f1ed-429c-9ff5-352bd3503a57",
   "metadata": {},
   "outputs": [],
   "source": [
    "%load_ext lab_black"
   ]
  },
  {
   "cell_type": "code",
   "execution_count": 2,
   "id": "2dee4673-567f-4b26-a421-67933e1902ff",
   "metadata": {},
   "outputs": [],
   "source": [
    "import pandas as pd\n",
    "import requests\n",
    "from bs4 import BeautifulSoup"
   ]
  },
  {
   "cell_type": "code",
   "execution_count": 3,
   "id": "2c9d74f1-2f8e-4eb9-a116-cd0f2a0afcbd",
   "metadata": {},
   "outputs": [],
   "source": [
    "today = pd.to_datetime(\"today\").strftime(\"%Y-%m-%d\")"
   ]
  },
  {
   "cell_type": "markdown",
   "id": "5088b195-7810-4d16-8e3b-3ab4655c1e7c",
   "metadata": {},
   "source": [
    "---"
   ]
  },
  {
   "cell_type": "code",
   "execution_count": 4,
   "id": "f72dcaa3-46ec-4e3e-85cd-2dcd1138bb54",
   "metadata": {},
   "outputs": [],
   "source": [
    "my_headers = {\n",
    "    \"User-Agent\": \"Mozilla/5.0 (Macintosh; Intel Mac OSX 10_14_3) AppleWebKit/537.36 (KHTML, like Gecko)Chrome/71.0.3578.98 Safari/537.36\",\n",
    "    \"Accept\": \"text/html,application/xhtml+xml,application/xml;q=0.9,image/webp,image/apng,*/*;q=0.8\",\n",
    "}"
   ]
  },
  {
   "cell_type": "code",
   "execution_count": 5,
   "id": "e4e1db48-200e-4699-8844-882f6d4bb8bd",
   "metadata": {},
   "outputs": [],
   "source": [
    "session = requests.Session()"
   ]
  },
  {
   "cell_type": "code",
   "execution_count": 6,
   "id": "5ec68fc2-bfe5-4967-bad5-435ce3e95542",
   "metadata": {},
   "outputs": [],
   "source": [
    "url = \"https://www.oann.com/category/newsroom/page/\"\n",
    "response = session.get(url, headers=my_headers)"
   ]
  },
  {
   "cell_type": "code",
   "execution_count": 7,
   "id": "314b7c61-e3fb-4ddb-b8a7-d579d3d06e63",
   "metadata": {},
   "outputs": [],
   "source": [
    "html_soup = BeautifulSoup(response.text, \"html.parser\")"
   ]
  },
  {
   "cell_type": "markdown",
   "id": "ae44c574-61f2-447a-98ad-4e7a353132a4",
   "metadata": {},
   "source": [
    "#### Get first page of stories"
   ]
  },
  {
   "cell_type": "code",
   "execution_count": 8,
   "id": "49b8825a-a75a-48e2-883e-7532d3991d2a",
   "metadata": {},
   "outputs": [],
   "source": [
    "metadata_homepage = []\n",
    "\n",
    "response = session.get(\"https://www.oann.com/category/newsroom/\", headers=my_headers)\n",
    "html_soup = BeautifulSoup(response.text, \"html.parser\")\n",
    "h3s = html_soup.findAll(\"h3\", class_=\"content-grid-title\")\n",
    "h3s_lead = html_soup.find(\"h3\", class_=\"content-lead-title\")\n",
    "for h3 in h3s:\n",
    "    story_url = h3.find(\"a\")[\"href\"]\n",
    "    story_headline = h3.text\n",
    "    data_dict = {\"url\": story_url, \"headline\": story_headline}\n",
    "    metadata_homepage.append(data_dict)"
   ]
  },
  {
   "cell_type": "code",
   "execution_count": 9,
   "id": "fa8060ef-0687-49f1-a288-ee086bbfc972",
   "metadata": {},
   "outputs": [],
   "source": [
    "urls = []\n",
    "\n",
    "for page in range(1, 3):\n",
    "    urls.append(url + str(page))"
   ]
  },
  {
   "cell_type": "code",
   "execution_count": 10,
   "id": "ff16f70a-8b52-4a93-ac51-3bd4bde97050",
   "metadata": {},
   "outputs": [],
   "source": [
    "grids = []\n",
    "metadata = []\n",
    "\n",
    "for u in urls:\n",
    "    response = session.get(u, headers=my_headers)\n",
    "    html_soup = BeautifulSoup(response.text, \"html.parser\")\n",
    "    h3s = html_soup.findAll(\"h3\", class_=\"content-list-title\")\n",
    "    for h3 in h3s:\n",
    "        story_url = h3.find(\"a\")[\"href\"]\n",
    "        story_headline = h3.text\n",
    "        data_dict = {\"url\": story_url, \"headline\": story_headline}\n",
    "        metadata.append(data_dict)"
   ]
  },
  {
   "cell_type": "code",
   "execution_count": 11,
   "id": "cfc35ebf-ce8e-4b8e-982e-39390c2cbb92",
   "metadata": {},
   "outputs": [],
   "source": [
    "story_meta_feed_df = pd.DataFrame(metadata)\n",
    "story_meta_home_df = pd.DataFrame(metadata_homepage)"
   ]
  },
  {
   "cell_type": "code",
   "execution_count": 12,
   "id": "c0e3e3f8-2e69-4fae-bd1d-1cc1e1687b6a",
   "metadata": {},
   "outputs": [],
   "source": [
    "story_meta_df = pd.concat([story_meta_feed_df, story_meta_home_df])"
   ]
  },
  {
   "cell_type": "code",
   "execution_count": 13,
   "id": "8129b46c-f924-4f56-86ec-020cba21ddf6",
   "metadata": {},
   "outputs": [],
   "source": [
    "story_data = []\n",
    "\n",
    "for row, index in story_meta_df.iterrows():\n",
    "    story_response = session.get(index[\"url\"], headers=my_headers)\n",
    "    story_soup = BeautifulSoup(story_response.text, \"html.parser\")\n",
    "    story_content = story_soup.findAll(\"div\", attrs={\"id\": \"main-content\"})\n",
    "    for cont in story_content:\n",
    "        try:\n",
    "            story_url = index[\"url\"]\n",
    "            story_headline = cont.find(\"h1\", class_=\"entry-title\").text\n",
    "            story_date = cont.find(\"h5\").text\n",
    "            story_copy = cont.text\n",
    "            image_caption = cont.find(\"img\").text\n",
    "            image_url = cont.find(\"img\")[\"src\"]\n",
    "            story_dict = {\n",
    "                \"story_headline\": story_headline,\n",
    "                \"story_date\": story_date,\n",
    "                \"story_copy\": story_copy,\n",
    "                \"image_caption\": image_caption,\n",
    "                \"image_url\": image_url,\n",
    "                \"story_url\": story_url,\n",
    "            }\n",
    "        except:\n",
    "            continue\n",
    "        story_data.append(story_dict)"
   ]
  },
  {
   "cell_type": "code",
   "execution_count": 14,
   "id": "9a53987c-3710-4259-be85-615fbb7dc0f6",
   "metadata": {},
   "outputs": [],
   "source": [
    "story_df = pd.DataFrame(story_data)"
   ]
  },
  {
   "cell_type": "code",
   "execution_count": 15,
   "id": "15e6fbe8-2978-49a2-9478-e6eef2bef1cd",
   "metadata": {},
   "outputs": [],
   "source": [
    "story_df[[\"updated_time\", \"updated_date\"]] = (\n",
    "    story_df[\"story_date\"]\n",
    "    .str.replace(\"OAN Newsroom\\n\", \"\")\n",
    "    .str.replace(\"UPDATED \", \"\")\n",
    "    .str.split(\" –\", expand=True)\n",
    ")"
   ]
  },
  {
   "cell_type": "code",
   "execution_count": 16,
   "id": "02bd8af3-1385-4371-b0fd-46cd6ddf0226",
   "metadata": {},
   "outputs": [],
   "source": [
    "story_df[\"updated_date\"] = pd.to_datetime(story_df[\"updated_date\"])"
   ]
  },
  {
   "cell_type": "code",
   "execution_count": 17,
   "id": "64b51cd2-29f6-41ee-9343-4ebc7345ed2d",
   "metadata": {},
   "outputs": [],
   "source": [
    "story_df[\"story_copy\"] = story_df[\"story_copy\"].str.replace(\"\\n\", \"\")"
   ]
  },
  {
   "cell_type": "code",
   "execution_count": 18,
   "id": "d845f1c7-4c6b-4e4b-83e8-9b658aded512",
   "metadata": {},
   "outputs": [],
   "source": [
    "story_df[\"story_date\"] = story_df[\"story_date\"].str.replace(\"\\n\", \"\", regex=False)"
   ]
  },
  {
   "cell_type": "code",
   "execution_count": 19,
   "id": "151f0809-95b3-42b4-a9b7-95ab06a1280d",
   "metadata": {},
   "outputs": [],
   "source": [
    "story_df[\"story_copy\"] = (\n",
    "    story_df[\"story_copy\"]\n",
    "    .str.replace(f'{story_df[\"story_headline\"][0]}', \"\", regex=False)\n",
    "    .str.replace(f'{story_df[\"image_caption\"][0]}', \"\", regex=False)\n",
    "    .str.replace(f'{story_df[\"story_date\"][0]}', \"\", regex=False)\n",
    ")"
   ]
  },
  {
   "cell_type": "code",
   "execution_count": 20,
   "id": "83e6deb7-109e-4721-87ea-a94d3925c1c2",
   "metadata": {},
   "outputs": [],
   "source": [
    "story_df[[\"story_copy\", \"more_news\"]] = story_df[\"story_copy\"].str.split(\n",
    "    \"MORE NEWS:\", expand=True\n",
    ")"
   ]
  },
  {
   "cell_type": "code",
   "execution_count": 21,
   "id": "3e64048b-7199-4954-80b0-f79010b038d8",
   "metadata": {},
   "outputs": [],
   "source": [
    "story_df.drop(\"story_date\", axis=1, inplace=True)"
   ]
  },
  {
   "cell_type": "code",
   "execution_count": 22,
   "id": "6171e44b-0205-43c7-bfa6-b6d0ed1d2745",
   "metadata": {},
   "outputs": [],
   "source": [
    "df = story_df[\n",
    "    [\n",
    "        \"updated_date\",\n",
    "        \"updated_time\",\n",
    "        \"story_headline\",\n",
    "        \"story_copy\",\n",
    "        \"image_caption\",\n",
    "        \"image_url\",\n",
    "        \"more_news\",\n",
    "        \"story_url\",\n",
    "    ]\n",
    "].copy()"
   ]
  },
  {
   "cell_type": "markdown",
   "id": "4eeb298b-0ffd-49e3-8005-ef2acad77ea3",
   "metadata": {},
   "source": [
    "---"
   ]
  },
  {
   "cell_type": "markdown",
   "id": "224d384f-7c42-41c2-be10-5145b526d0d5",
   "metadata": {},
   "source": [
    "## Export "
   ]
  },
  {
   "cell_type": "code",
   "execution_count": 23,
   "id": "724e6fa0-7da3-49ff-b7ac-18a32d17a533",
   "metadata": {},
   "outputs": [],
   "source": [
    "df.to_csv(f\"data/processed/oann_top_news_{today}.csv\", index=False)\n",
    "# df.to_csv(f\"data/processed/oann_top_news_archive.csv\", index=False)"
   ]
  },
  {
   "cell_type": "code",
   "execution_count": null,
   "id": "55439752-d7f0-40b5-9f16-662d68e8f10a",
   "metadata": {},
   "outputs": [],
   "source": []
  }
 ],
 "metadata": {
  "kernelspec": {
   "display_name": "Python 3 (ipykernel)",
   "language": "python",
   "name": "python3"
  },
  "language_info": {
   "codemirror_mode": {
    "name": "ipython",
    "version": 3
   },
   "file_extension": ".py",
   "mimetype": "text/x-python",
   "name": "python",
   "nbconvert_exporter": "python",
   "pygments_lexer": "ipython3",
   "version": "3.8.9"
  }
 },
 "nbformat": 4,
 "nbformat_minor": 5
}
