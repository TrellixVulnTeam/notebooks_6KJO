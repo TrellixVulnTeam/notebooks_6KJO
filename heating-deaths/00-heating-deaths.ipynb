{
 "cells": [
  {
   "cell_type": "markdown",
   "id": "73316263-3ea9-42fd-a32f-4d7a24426f20",
   "metadata": {},
   "source": [
    "### setup"
   ]
  },
  {
   "cell_type": "code",
   "execution_count": 1,
   "id": "117ef6d2-e55a-477c-b295-baf5e5782489",
   "metadata": {},
   "outputs": [],
   "source": [
    "%load_ext lab_black"
   ]
  },
  {
   "cell_type": "code",
   "execution_count": 2,
   "id": "b51143bf-354e-49c5-9427-c26bc779e65c",
   "metadata": {},
   "outputs": [],
   "source": [
    "import pandas as pd\n",
    "import requests\n",
    "import pageviewapi\n",
    "import datetime as dt\n",
    "from bs4 import BeautifulSoup\n",
    "import altair as alt"
   ]
  },
  {
   "cell_type": "code",
   "execution_count": 3,
   "id": "79d3299f-e4c8-4280-8514-00cad696326e",
   "metadata": {},
   "outputs": [],
   "source": [
    "pd.options.display.max_columns = 100\n",
    "pd.options.display.max_rows = 1000\n",
    "pd.options.display.max_colwidth = None"
   ]
  },
  {
   "cell_type": "code",
   "execution_count": 4,
   "id": "d9ff64c2-ef2d-42ce-ba3e-c6cf1a99008e",
   "metadata": {},
   "outputs": [],
   "source": [
    "from datawrapper import Datawrapper\n",
    "\n",
    "dw = Datawrapper(\n",
    "    access_token=\"FtIwtvFtoGLaRT9a3gjX69PLu4wSuRyKddoOz6SOPw3k9wWyNICMHTkcPhOGCR5Z\"\n",
    ")"
   ]
  },
  {
   "cell_type": "code",
   "execution_count": 5,
   "id": "c801e13e-6341-4014-9308-0da2802c760d",
   "metadata": {},
   "outputs": [],
   "source": [
    "diseases = [\n",
    "    \"Emphysema\",\n",
    "    \"Other chronic lower respiratory diseases\",\n",
    "    \"Heart attack\",\n",
    "    \"Pneumonia\",\n",
    "    \"Ischemic heart disease\",\n",
    "    \"Stroke\",\n",
    "]\n",
    "mrate_increase = [0.14, 0.11, 0.10, 0.10, 0.08, 0.08]\n",
    "\n",
    "mean_mortality = [29.8, 114.2, 107.3]\n",
    "\n",
    "mean_mortality = [29.8, 114.2, 107.3, 104.9, 158.0, 114.4]\n",
    "\n",
    "start = [0, 0, 0, 0, 0, 0]\n",
    "\n",
    "\n",
    "df = pd.DataFrame(\n",
    "    {\n",
    "        \"disease\": diseases,\n",
    "        \"increase_in_mortality\": mrate_increase,\n",
    "        \"mean_mortality\": mean_mortality,\n",
    "        \"start\": start,\n",
    "    }\n",
    ")"
   ]
  },
  {
   "cell_type": "code",
   "execution_count": 6,
   "id": "46c2ba3d-55bc-4711-abb1-115569493284",
   "metadata": {},
   "outputs": [],
   "source": [
    "# High heating costs can present households with difficult tradeoffs: set their homes to uncomfortably low temperatures, or reduce their spending in other areas, such as food and medical care. Either type of response can potentially increase health risks."
   ]
  },
  {
   "cell_type": "code",
   "execution_count": 7,
   "id": "de51b7ab-6ccb-4e16-85ec-3aafb2c69aef",
   "metadata": {},
   "outputs": [],
   "source": [
    "df[\"end\"] = df[\"mean_mortality\"] * (1 + (df[\"increase_in_mortality\"] / 100))"
   ]
  },
  {
   "cell_type": "code",
   "execution_count": 8,
   "id": "c65096c1-72a5-4381-a987-f08f1d7b932a",
   "metadata": {},
   "outputs": [
    {
     "data": {
      "text/plain": [
       "<Response [204]>"
      ]
     },
     "execution_count": 8,
     "metadata": {},
     "output_type": "execute_result"
    }
   ],
   "source": [
    "dw.add_data(chart_id=\"cVFZD\", data=df)"
   ]
  },
  {
   "cell_type": "code",
   "execution_count": 9,
   "id": "c12b8943-3331-4bae-acf7-f5c099793445",
   "metadata": {},
   "outputs": [
    {
     "data": {
      "text/html": [
       "<div>\n",
       "<style scoped>\n",
       "    .dataframe tbody tr th:only-of-type {\n",
       "        vertical-align: middle;\n",
       "    }\n",
       "\n",
       "    .dataframe tbody tr th {\n",
       "        vertical-align: top;\n",
       "    }\n",
       "\n",
       "    .dataframe thead th {\n",
       "        text-align: right;\n",
       "    }\n",
       "</style>\n",
       "<table border=\"1\" class=\"dataframe\">\n",
       "  <thead>\n",
       "    <tr style=\"text-align: right;\">\n",
       "      <th></th>\n",
       "      <th>disease</th>\n",
       "      <th>increase_in_mortality</th>\n",
       "      <th>mean_mortality</th>\n",
       "      <th>start</th>\n",
       "      <th>end</th>\n",
       "    </tr>\n",
       "  </thead>\n",
       "  <tbody>\n",
       "    <tr>\n",
       "      <th>0</th>\n",
       "      <td>Emphysema</td>\n",
       "      <td>0.14</td>\n",
       "      <td>29.8</td>\n",
       "      <td>0</td>\n",
       "      <td>29.84172</td>\n",
       "    </tr>\n",
       "    <tr>\n",
       "      <th>1</th>\n",
       "      <td>Other chronic lower respiratory diseases</td>\n",
       "      <td>0.11</td>\n",
       "      <td>114.2</td>\n",
       "      <td>0</td>\n",
       "      <td>114.32562</td>\n",
       "    </tr>\n",
       "    <tr>\n",
       "      <th>2</th>\n",
       "      <td>Heart attack</td>\n",
       "      <td>0.10</td>\n",
       "      <td>107.3</td>\n",
       "      <td>0</td>\n",
       "      <td>107.40730</td>\n",
       "    </tr>\n",
       "    <tr>\n",
       "      <th>3</th>\n",
       "      <td>Pneumonia</td>\n",
       "      <td>0.10</td>\n",
       "      <td>104.9</td>\n",
       "      <td>0</td>\n",
       "      <td>105.00490</td>\n",
       "    </tr>\n",
       "    <tr>\n",
       "      <th>4</th>\n",
       "      <td>Ischemic heart disease</td>\n",
       "      <td>0.08</td>\n",
       "      <td>158.0</td>\n",
       "      <td>0</td>\n",
       "      <td>158.12640</td>\n",
       "    </tr>\n",
       "    <tr>\n",
       "      <th>5</th>\n",
       "      <td>Stroke</td>\n",
       "      <td>0.08</td>\n",
       "      <td>114.4</td>\n",
       "      <td>0</td>\n",
       "      <td>114.49152</td>\n",
       "    </tr>\n",
       "  </tbody>\n",
       "</table>\n",
       "</div>"
      ],
      "text/plain": [
       "                                    disease  increase_in_mortality  \\\n",
       "0                                 Emphysema                   0.14   \n",
       "1  Other chronic lower respiratory diseases                   0.11   \n",
       "2                              Heart attack                   0.10   \n",
       "3                                 Pneumonia                   0.10   \n",
       "4                    Ischemic heart disease                   0.08   \n",
       "5                                    Stroke                   0.08   \n",
       "\n",
       "   mean_mortality  start        end  \n",
       "0            29.8      0   29.84172  \n",
       "1           114.2      0  114.32562  \n",
       "2           107.3      0  107.40730  \n",
       "3           104.9      0  105.00490  \n",
       "4           158.0      0  158.12640  \n",
       "5           114.4      0  114.49152  "
      ]
     },
     "execution_count": 9,
     "metadata": {},
     "output_type": "execute_result"
    }
   ],
   "source": [
    "df"
   ]
  },
  {
   "cell_type": "code",
   "execution_count": null,
   "id": "b4369f4f-96b3-4975-8930-175b515f5f3c",
   "metadata": {},
   "outputs": [],
   "source": []
  }
 ],
 "metadata": {
  "kernelspec": {
   "display_name": "Python 3 (ipykernel)",
   "language": "python",
   "name": "python3"
  },
  "language_info": {
   "codemirror_mode": {
    "name": "ipython",
    "version": 3
   },
   "file_extension": ".py",
   "mimetype": "text/x-python",
   "name": "python",
   "nbconvert_exporter": "python",
   "pygments_lexer": "ipython3",
   "version": "3.9.13"
  }
 },
 "nbformat": 4,
 "nbformat_minor": 5
}
