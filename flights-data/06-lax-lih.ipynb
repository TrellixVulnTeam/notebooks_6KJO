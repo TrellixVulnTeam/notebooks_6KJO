{
 "cells": [
  {
   "cell_type": "markdown",
   "id": "e910863f-5068-46db-8879-b34c76f88946",
   "metadata": {},
   "source": [
    "# SWA145 flights: LAX to LIH (LA TO KAUAI)"
   ]
  },
  {
   "cell_type": "markdown",
   "id": "cff5d9bf-66d7-4964-9232-7f24f00cc18b",
   "metadata": {
    "tags": []
   },
   "source": [
    "### Import Python tools and Jupyter configuration"
   ]
  },
  {
   "cell_type": "code",
   "execution_count": 1,
   "id": "b3ba3dbc-7333-44a8-b959-e0375f52de48",
   "metadata": {},
   "outputs": [],
   "source": [
    "%load_ext lab_black"
   ]
  },
  {
   "cell_type": "code",
   "execution_count": 2,
   "id": "319f1e8e-0fae-41b1-8891-51929953afe3",
   "metadata": {},
   "outputs": [
    {
     "name": "stderr",
     "output_type": "stream",
     "text": [
      "/Users/mhustiles/.local/share/virtualenvs/notebooks-xu8v5Vvv/lib/python3.8/site-packages/geopandas/_compat.py:106: UserWarning: The Shapely GEOS version (3.8.0-CAPI-1.13.1 ) is incompatible with the GEOS version PyGEOS was compiled with (3.9.1-CAPI-1.14.2). Conversions between both will be slow.\n",
      "  warnings.warn(\n"
     ]
    }
   ],
   "source": [
    "import pandas as pd\n",
    "import geopandas as gpd\n",
    "import altair as alt\n",
    "import altair_latimes as lat\n",
    "import datetime as dt\n",
    "import requests\n",
    "import glob\n",
    "from shapely.geometry import Point, LineString, MultiLineString"
   ]
  },
  {
   "cell_type": "code",
   "execution_count": 3,
   "id": "1d03f6d3-e721-4565-b824-1afef4aa1df1",
   "metadata": {},
   "outputs": [
    {
     "data": {
      "text/plain": [
       "DataTransformerRegistry.enable('default')"
      ]
     },
     "execution_count": 3,
     "metadata": {},
     "output_type": "execute_result"
    }
   ],
   "source": [
    "pd.options.display.max_columns = 100\n",
    "pd.options.display.max_rows = 100\n",
    "pd.options.display.max_colwidth = None\n",
    "alt.data_transformers.disable_max_rows()"
   ]
  },
  {
   "cell_type": "markdown",
   "id": "37592b34-c5a1-4613-83ad-ebe4b4b71cab",
   "metadata": {},
   "source": [
    "---"
   ]
  },
  {
   "cell_type": "markdown",
   "id": "4041a61d-b3c6-48f0-94fe-b9afbcbf95a5",
   "metadata": {},
   "source": [
    "### Grab all the csv files downloaded from FlightRadar24"
   ]
  },
  {
   "cell_type": "code",
   "execution_count": 4,
   "id": "776ba52c-4d5f-4176-8ea0-a00eeb7527d8",
   "metadata": {},
   "outputs": [],
   "source": [
    "### https://www.flightradar24.com/data/flights/wn145\n",
    "\n",
    "path = \"data/raw/lax-lih/\"\n",
    "all_files = glob.glob(path + \"*.csv\")\n",
    "\n",
    "li = []\n",
    "\n",
    "for filename in all_files:\n",
    "    df = pd.read_csv(filename, index_col=None, header=0)\n",
    "    li.append(df)\n",
    "\n",
    "src = pd.concat(li, axis=0, ignore_index=True)"
   ]
  },
  {
   "cell_type": "code",
   "execution_count": 5,
   "id": "6d7ffd84-376f-4d56-a61e-87b3447a74c5",
   "metadata": {},
   "outputs": [
    {
     "data": {
      "text/html": [
       "<div>\n",
       "<style scoped>\n",
       "    .dataframe tbody tr th:only-of-type {\n",
       "        vertical-align: middle;\n",
       "    }\n",
       "\n",
       "    .dataframe tbody tr th {\n",
       "        vertical-align: top;\n",
       "    }\n",
       "\n",
       "    .dataframe thead th {\n",
       "        text-align: right;\n",
       "    }\n",
       "</style>\n",
       "<table border=\"1\" class=\"dataframe\">\n",
       "  <thead>\n",
       "    <tr style=\"text-align: right;\">\n",
       "      <th></th>\n",
       "      <th>Timestamp</th>\n",
       "      <th>UTC</th>\n",
       "      <th>Callsign</th>\n",
       "      <th>Position</th>\n",
       "      <th>Altitude</th>\n",
       "      <th>Speed</th>\n",
       "      <th>Direction</th>\n",
       "    </tr>\n",
       "  </thead>\n",
       "  <tbody>\n",
       "    <tr>\n",
       "      <th>13569</th>\n",
       "      <td>1628802807</td>\n",
       "      <td>2021-08-12T21:13:27Z</td>\n",
       "      <td>SWA145</td>\n",
       "      <td>21.977369,-159.347885</td>\n",
       "      <td>0</td>\n",
       "      <td>13</td>\n",
       "      <td>225</td>\n",
       "    </tr>\n",
       "    <tr>\n",
       "      <th>13568</th>\n",
       "      <td>1628802802</td>\n",
       "      <td>2021-08-12T21:13:22Z</td>\n",
       "      <td>SWA145</td>\n",
       "      <td>21.977577,-159.347672</td>\n",
       "      <td>0</td>\n",
       "      <td>12</td>\n",
       "      <td>225</td>\n",
       "    </tr>\n",
       "    <tr>\n",
       "      <th>13567</th>\n",
       "      <td>1628802797</td>\n",
       "      <td>2021-08-12T21:13:17Z</td>\n",
       "      <td>SWA145</td>\n",
       "      <td>21.977783,-159.347458</td>\n",
       "      <td>0</td>\n",
       "      <td>11</td>\n",
       "      <td>227</td>\n",
       "    </tr>\n",
       "    <tr>\n",
       "      <th>13566</th>\n",
       "      <td>1628802792</td>\n",
       "      <td>2021-08-12T21:13:12Z</td>\n",
       "      <td>SWA145</td>\n",
       "      <td>21.977921,-159.347244</td>\n",
       "      <td>0</td>\n",
       "      <td>9</td>\n",
       "      <td>253</td>\n",
       "    </tr>\n",
       "    <tr>\n",
       "      <th>13565</th>\n",
       "      <td>1628802787</td>\n",
       "      <td>2021-08-12T21:13:07Z</td>\n",
       "      <td>SWA145</td>\n",
       "      <td>21.977966,-159.347015</td>\n",
       "      <td>0</td>\n",
       "      <td>10</td>\n",
       "      <td>286</td>\n",
       "    </tr>\n",
       "  </tbody>\n",
       "</table>\n",
       "</div>"
      ],
      "text/plain": [
       "        Timestamp                   UTC Callsign               Position  \\\n",
       "13569  1628802807  2021-08-12T21:13:27Z   SWA145  21.977369,-159.347885   \n",
       "13568  1628802802  2021-08-12T21:13:22Z   SWA145  21.977577,-159.347672   \n",
       "13567  1628802797  2021-08-12T21:13:17Z   SWA145  21.977783,-159.347458   \n",
       "13566  1628802792  2021-08-12T21:13:12Z   SWA145  21.977921,-159.347244   \n",
       "13565  1628802787  2021-08-12T21:13:07Z   SWA145  21.977966,-159.347015   \n",
       "\n",
       "       Altitude  Speed  Direction  \n",
       "13569         0     13        225  \n",
       "13568         0     12        225  \n",
       "13567         0     11        227  \n",
       "13566         0      9        253  \n",
       "13565         0     10        286  "
      ]
     },
     "execution_count": 5,
     "metadata": {},
     "output_type": "execute_result"
    }
   ],
   "source": [
    "src.sort_values(\"UTC\", ascending=False).head()"
   ]
  },
  {
   "cell_type": "markdown",
   "id": "443a9db4-6564-4811-914f-4ce9b8098bc9",
   "metadata": {},
   "source": [
    "### Clean up column names"
   ]
  },
  {
   "cell_type": "code",
   "execution_count": 6,
   "id": "5cbd42b0-a9e3-43a6-87de-c944c21e4462",
   "metadata": {},
   "outputs": [],
   "source": [
    "src.columns = src.columns.str.lower()"
   ]
  },
  {
   "cell_type": "markdown",
   "id": "f7310347-d387-42d2-acf5-5f939871ec9e",
   "metadata": {},
   "source": [
    "### Convert UTC dates to Pacific time"
   ]
  },
  {
   "cell_type": "code",
   "execution_count": 7,
   "id": "95f21a62-b034-4f8b-9690-338f38365a1b",
   "metadata": {},
   "outputs": [],
   "source": [
    "src[\"datetime_utc\"] = pd.to_datetime(src.utc).dt.tz_convert(\"US/Pacific\")"
   ]
  },
  {
   "cell_type": "code",
   "execution_count": 8,
   "id": "128f4a29-e105-44ad-bfa8-77ea0f7681be",
   "metadata": {},
   "outputs": [],
   "source": [
    "src[\"date_pacfic\"] = src[\"datetime_utc\"].dt.date.astype(str)"
   ]
  },
  {
   "cell_type": "code",
   "execution_count": 9,
   "id": "61ed9043-603b-49fe-9557-91fdac425017",
   "metadata": {},
   "outputs": [],
   "source": [
    "src[\"time_pacfic\"] = src[\"datetime_utc\"].dt.time.astype(str)"
   ]
  },
  {
   "cell_type": "markdown",
   "id": "3426ad3e-85e5-43b2-a392-ef8a1ef492e9",
   "metadata": {},
   "source": [
    "### Make a unique ID for each flight"
   ]
  },
  {
   "cell_type": "code",
   "execution_count": 10,
   "id": "d876dd1a-bbed-4b2f-bc46-ee1bc49cf14e",
   "metadata": {},
   "outputs": [],
   "source": [
    "src[\"id\"] = (\n",
    "    src[\"callsign\"]\n",
    "    + \"_\"\n",
    "    + src[\"date_pacfic\"].astype(str).str.replace(\"-\", \"\", regex=False)\n",
    ")"
   ]
  },
  {
   "cell_type": "markdown",
   "id": "fb99829f-a2ad-41d4-92b0-1d713b73862c",
   "metadata": {},
   "source": [
    "---"
   ]
  },
  {
   "cell_type": "markdown",
   "id": "46bc6509-831b-4c86-a3eb-b61318df9ee4",
   "metadata": {},
   "source": [
    "### Summary stats on our dataframe"
   ]
  },
  {
   "cell_type": "code",
   "execution_count": 11,
   "id": "f7baa4be-abe5-485c-a136-8a92eb280a81",
   "metadata": {},
   "outputs": [],
   "source": [
    "df = src.copy()"
   ]
  },
  {
   "cell_type": "markdown",
   "id": "e96ccfb3-ee3c-428f-a79e-0489639e6f14",
   "metadata": {},
   "source": [
    "### Group by flight and mean speed"
   ]
  },
  {
   "cell_type": "code",
   "execution_count": 12,
   "id": "323f54e1-cf68-45c7-8ed5-75e02f4e867c",
   "metadata": {},
   "outputs": [],
   "source": [
    "mean_speed_flight = (\n",
    "    df[df[\"speed\"] > 150].groupby([\"id\"]).agg({\"speed\": \"mean\"}).reset_index()\n",
    ")"
   ]
  },
  {
   "cell_type": "markdown",
   "id": "d9d81b09-efce-443f-adb4-52884a21d289",
   "metadata": {},
   "source": [
    "### 'Slowest' flights? "
   ]
  },
  {
   "cell_type": "code",
   "execution_count": 13,
   "id": "933407d8-66f1-4f3f-beaf-6c42d6802b89",
   "metadata": {},
   "outputs": [
    {
     "data": {
      "text/html": [
       "<div>\n",
       "<style scoped>\n",
       "    .dataframe tbody tr th:only-of-type {\n",
       "        vertical-align: middle;\n",
       "    }\n",
       "\n",
       "    .dataframe tbody tr th {\n",
       "        vertical-align: top;\n",
       "    }\n",
       "\n",
       "    .dataframe thead th {\n",
       "        text-align: right;\n",
       "    }\n",
       "</style>\n",
       "<table border=\"1\" class=\"dataframe\">\n",
       "  <thead>\n",
       "    <tr style=\"text-align: right;\">\n",
       "      <th></th>\n",
       "      <th>id</th>\n",
       "      <th>speed</th>\n",
       "    </tr>\n",
       "  </thead>\n",
       "  <tbody>\n",
       "    <tr>\n",
       "      <th>21</th>\n",
       "      <td>SWA145_20210721</td>\n",
       "      <td>289.767857</td>\n",
       "    </tr>\n",
       "    <tr>\n",
       "      <th>38</th>\n",
       "      <td>SWA145_20210808</td>\n",
       "      <td>314.137809</td>\n",
       "    </tr>\n",
       "    <tr>\n",
       "      <th>40</th>\n",
       "      <td>SWA145_20210810</td>\n",
       "      <td>315.344371</td>\n",
       "    </tr>\n",
       "    <tr>\n",
       "      <th>37</th>\n",
       "      <td>SWA145_20210807</td>\n",
       "      <td>318.715847</td>\n",
       "    </tr>\n",
       "    <tr>\n",
       "      <th>30</th>\n",
       "      <td>SWA145_20210731</td>\n",
       "      <td>320.636015</td>\n",
       "    </tr>\n",
       "  </tbody>\n",
       "</table>\n",
       "</div>"
      ],
      "text/plain": [
       "                 id       speed\n",
       "21  SWA145_20210721  289.767857\n",
       "38  SWA145_20210808  314.137809\n",
       "40  SWA145_20210810  315.344371\n",
       "37  SWA145_20210807  318.715847\n",
       "30  SWA145_20210731  320.636015"
      ]
     },
     "execution_count": 13,
     "metadata": {},
     "output_type": "execute_result"
    }
   ],
   "source": [
    "mean_speed_flight.sort_values(\"speed\", ascending=\"false\").head()"
   ]
  },
  {
   "cell_type": "markdown",
   "id": "31696214-732b-408f-ae5e-df9f58fcc6c0",
   "metadata": {},
   "source": [
    "### 'Fastest' flights? "
   ]
  },
  {
   "cell_type": "code",
   "execution_count": 14,
   "id": "6156799e-d320-42a7-90bc-ec32645925ac",
   "metadata": {},
   "outputs": [
    {
     "data": {
      "text/html": [
       "<div>\n",
       "<style scoped>\n",
       "    .dataframe tbody tr th:only-of-type {\n",
       "        vertical-align: middle;\n",
       "    }\n",
       "\n",
       "    .dataframe tbody tr th {\n",
       "        vertical-align: top;\n",
       "    }\n",
       "\n",
       "    .dataframe thead th {\n",
       "        text-align: right;\n",
       "    }\n",
       "</style>\n",
       "<table border=\"1\" class=\"dataframe\">\n",
       "  <thead>\n",
       "    <tr style=\"text-align: right;\">\n",
       "      <th></th>\n",
       "      <th>id</th>\n",
       "      <th>speed</th>\n",
       "    </tr>\n",
       "  </thead>\n",
       "  <tbody>\n",
       "    <tr>\n",
       "      <th>17</th>\n",
       "      <td>SWA145_20210715</td>\n",
       "      <td>354.560311</td>\n",
       "    </tr>\n",
       "    <tr>\n",
       "      <th>11</th>\n",
       "      <td>SWA145_20210708</td>\n",
       "      <td>356.572917</td>\n",
       "    </tr>\n",
       "    <tr>\n",
       "      <th>34</th>\n",
       "      <td>SWA145_20210804</td>\n",
       "      <td>359.919355</td>\n",
       "    </tr>\n",
       "    <tr>\n",
       "      <th>10</th>\n",
       "      <td>SWA145_20210707</td>\n",
       "      <td>362.586873</td>\n",
       "    </tr>\n",
       "    <tr>\n",
       "      <th>42</th>\n",
       "      <td>SWA145_20210812</td>\n",
       "      <td>374.477690</td>\n",
       "    </tr>\n",
       "  </tbody>\n",
       "</table>\n",
       "</div>"
      ],
      "text/plain": [
       "                 id       speed\n",
       "17  SWA145_20210715  354.560311\n",
       "11  SWA145_20210708  356.572917\n",
       "34  SWA145_20210804  359.919355\n",
       "10  SWA145_20210707  362.586873\n",
       "42  SWA145_20210812  374.477690"
      ]
     },
     "execution_count": 14,
     "metadata": {},
     "output_type": "execute_result"
    }
   ],
   "source": [
    "mean_speed_flight.sort_values(\"speed\", ascending=\"false\").tail()"
   ]
  },
  {
   "cell_type": "markdown",
   "id": "253ac513-8e82-43fb-9a34-542979002a04",
   "metadata": {},
   "source": [
    "### Group by flight and mean altitude"
   ]
  },
  {
   "cell_type": "code",
   "execution_count": 15,
   "id": "90107e3a-c769-4e14-962e-f2dc6e5da48d",
   "metadata": {},
   "outputs": [],
   "source": [
    "mean_altitude_flight = (\n",
    "    df[df[\"altitude\"] > 0].groupby([\"id\"]).agg({\"altitude\": \"mean\"}).reset_index()\n",
    ")"
   ]
  },
  {
   "cell_type": "markdown",
   "id": "7f85e4d3-5520-444f-9035-64fb82e2f9d0",
   "metadata": {
    "tags": []
   },
   "source": [
    "### 'Highest' flights?"
   ]
  },
  {
   "cell_type": "code",
   "execution_count": 16,
   "id": "74435101-a97d-4513-80aa-2b9eca2d15d2",
   "metadata": {},
   "outputs": [
    {
     "data": {
      "text/html": [
       "<div>\n",
       "<style scoped>\n",
       "    .dataframe tbody tr th:only-of-type {\n",
       "        vertical-align: middle;\n",
       "    }\n",
       "\n",
       "    .dataframe tbody tr th {\n",
       "        vertical-align: top;\n",
       "    }\n",
       "\n",
       "    .dataframe thead th {\n",
       "        text-align: right;\n",
       "    }\n",
       "</style>\n",
       "<table border=\"1\" class=\"dataframe\">\n",
       "  <thead>\n",
       "    <tr style=\"text-align: right;\">\n",
       "      <th></th>\n",
       "      <th>id</th>\n",
       "      <th>altitude</th>\n",
       "    </tr>\n",
       "  </thead>\n",
       "  <tbody>\n",
       "    <tr>\n",
       "      <th>26</th>\n",
       "      <td>SWA145_20210727</td>\n",
       "      <td>17607.947020</td>\n",
       "    </tr>\n",
       "    <tr>\n",
       "      <th>34</th>\n",
       "      <td>SWA145_20210804</td>\n",
       "      <td>17925.307692</td>\n",
       "    </tr>\n",
       "    <tr>\n",
       "      <th>2</th>\n",
       "      <td>SWA145_20210629</td>\n",
       "      <td>18308.392226</td>\n",
       "    </tr>\n",
       "    <tr>\n",
       "      <th>10</th>\n",
       "      <td>SWA145_20210707</td>\n",
       "      <td>18452.537594</td>\n",
       "    </tr>\n",
       "    <tr>\n",
       "      <th>42</th>\n",
       "      <td>SWA145_20210812</td>\n",
       "      <td>19740.982587</td>\n",
       "    </tr>\n",
       "  </tbody>\n",
       "</table>\n",
       "</div>"
      ],
      "text/plain": [
       "                 id      altitude\n",
       "26  SWA145_20210727  17607.947020\n",
       "34  SWA145_20210804  17925.307692\n",
       "2   SWA145_20210629  18308.392226\n",
       "10  SWA145_20210707  18452.537594\n",
       "42  SWA145_20210812  19740.982587"
      ]
     },
     "execution_count": 16,
     "metadata": {},
     "output_type": "execute_result"
    }
   ],
   "source": [
    "mean_altitude_flight.sort_values(\"altitude\", ascending=\"false\").tail()"
   ]
  },
  {
   "cell_type": "markdown",
   "id": "4c8f9040-f356-4c8d-aa1f-90f0994db8bc",
   "metadata": {},
   "source": [
    "### 'Lowest' flights?"
   ]
  },
  {
   "cell_type": "code",
   "execution_count": 17,
   "id": "0f54b47e-852f-4727-92ab-457de933206c",
   "metadata": {},
   "outputs": [
    {
     "data": {
      "text/html": [
       "<div>\n",
       "<style scoped>\n",
       "    .dataframe tbody tr th:only-of-type {\n",
       "        vertical-align: middle;\n",
       "    }\n",
       "\n",
       "    .dataframe tbody tr th {\n",
       "        vertical-align: top;\n",
       "    }\n",
       "\n",
       "    .dataframe thead th {\n",
       "        text-align: right;\n",
       "    }\n",
       "</style>\n",
       "<table border=\"1\" class=\"dataframe\">\n",
       "  <thead>\n",
       "    <tr style=\"text-align: right;\">\n",
       "      <th></th>\n",
       "      <th>id</th>\n",
       "      <th>altitude</th>\n",
       "    </tr>\n",
       "  </thead>\n",
       "  <tbody>\n",
       "    <tr>\n",
       "      <th>21</th>\n",
       "      <td>SWA145_20210721</td>\n",
       "      <td>9710.021097</td>\n",
       "    </tr>\n",
       "    <tr>\n",
       "      <th>37</th>\n",
       "      <td>SWA145_20210807</td>\n",
       "      <td>13558.444149</td>\n",
       "    </tr>\n",
       "    <tr>\n",
       "      <th>1</th>\n",
       "      <td>SWA145_20210628</td>\n",
       "      <td>14407.343234</td>\n",
       "    </tr>\n",
       "    <tr>\n",
       "      <th>40</th>\n",
       "      <td>SWA145_20210810</td>\n",
       "      <td>14558.359375</td>\n",
       "    </tr>\n",
       "    <tr>\n",
       "      <th>36</th>\n",
       "      <td>SWA145_20210806</td>\n",
       "      <td>14583.527697</td>\n",
       "    </tr>\n",
       "  </tbody>\n",
       "</table>\n",
       "</div>"
      ],
      "text/plain": [
       "                 id      altitude\n",
       "21  SWA145_20210721   9710.021097\n",
       "37  SWA145_20210807  13558.444149\n",
       "1   SWA145_20210628  14407.343234\n",
       "40  SWA145_20210810  14558.359375\n",
       "36  SWA145_20210806  14583.527697"
      ]
     },
     "execution_count": 17,
     "metadata": {},
     "output_type": "execute_result"
    }
   ],
   "source": [
    "mean_altitude_flight.sort_values(\"altitude\", ascending=\"false\").head()"
   ]
  },
  {
   "cell_type": "markdown",
   "id": "cf0e083d-18dc-4ac4-9580-760871b0a93e",
   "metadata": {},
   "source": [
    "### Split the lat/lon and make a geodataframe"
   ]
  },
  {
   "cell_type": "code",
   "execution_count": 18,
   "id": "f054cabe-25b5-4f71-9061-d2292d8e73cf",
   "metadata": {},
   "outputs": [],
   "source": [
    "df[[\"latitude\", \"longitude\"]] = df[\"position\"].str.split(\",\", expand=True)"
   ]
  },
  {
   "cell_type": "markdown",
   "id": "76f5ac08-c627-4746-84d3-69a9e8e25c2c",
   "metadata": {
    "tags": []
   },
   "source": [
    "### Drop what we don't need"
   ]
  },
  {
   "cell_type": "code",
   "execution_count": 19,
   "id": "38d602c3-6cd4-4a61-ab6a-8c445fda2cb9",
   "metadata": {},
   "outputs": [],
   "source": [
    "df.drop(\n",
    "    [\"utc\", \"position\", \"timestamp\", \"datetime_utc\", \"callsign\"],\n",
    "    axis=1,\n",
    "    inplace=True,\n",
    ")"
   ]
  },
  {
   "cell_type": "code",
   "execution_count": 20,
   "id": "118e488f-4e6b-4557-b489-d950f40ae618",
   "metadata": {},
   "outputs": [],
   "source": [
    "gdf = gpd.GeoDataFrame(df, geometry=gpd.points_from_xy(df.longitude, df.latitude))"
   ]
  },
  {
   "cell_type": "markdown",
   "id": "a9618e36-4630-4711-82d4-9a0df6a7cc51",
   "metadata": {},
   "source": [
    "### Simple plot"
   ]
  },
  {
   "cell_type": "code",
   "execution_count": 21,
   "id": "e0e84339-5ff7-41b6-bdc1-bdad2eaa0475",
   "metadata": {},
   "outputs": [
    {
     "data": {
      "text/plain": [
       "<AxesSubplot:>"
      ]
     },
     "execution_count": 21,
     "metadata": {},
     "output_type": "execute_result"
    },
    {
     "data": {
      "image/png": "[encoded data removed]",
      "text/plain": [
       "<Figure size 432x288 with 1 Axes>"
      ]
     },
     "metadata": {
      "needs_background": "light"
     },
     "output_type": "display_data"
    }
   ],
   "source": [
    "gdf.plot()"
   ]
  },
  {
   "cell_type": "code",
   "execution_count": 22,
   "id": "cba891e5-91aa-46f6-b9ca-dbf6158fec22",
   "metadata": {},
   "outputs": [
    {
     "data": {
      "text/html": [
       "<div>\n",
       "<style scoped>\n",
       "    .dataframe tbody tr th:only-of-type {\n",
       "        vertical-align: middle;\n",
       "    }\n",
       "\n",
       "    .dataframe tbody tr th {\n",
       "        vertical-align: top;\n",
       "    }\n",
       "\n",
       "    .dataframe thead th {\n",
       "        text-align: right;\n",
       "    }\n",
       "</style>\n",
       "<table border=\"1\" class=\"dataframe\">\n",
       "  <thead>\n",
       "    <tr style=\"text-align: right;\">\n",
       "      <th></th>\n",
       "      <th>altitude</th>\n",
       "      <th>speed</th>\n",
       "      <th>direction</th>\n",
       "      <th>date_pacfic</th>\n",
       "      <th>time_pacfic</th>\n",
       "      <th>id</th>\n",
       "      <th>latitude</th>\n",
       "      <th>longitude</th>\n",
       "      <th>geometry</th>\n",
       "    </tr>\n",
       "  </thead>\n",
       "  <tbody>\n",
       "    <tr>\n",
       "      <th>0</th>\n",
       "      <td>0</td>\n",
       "      <td>0</td>\n",
       "      <td>272</td>\n",
       "      <td>2021-08-05</td>\n",
       "      <td>08:16:54</td>\n",
       "      <td>SWA145_20210805</td>\n",
       "      <td>33.946655</td>\n",
       "      <td>-118.400902</td>\n",
       "      <td>POINT (-118.40090 33.94665)</td>\n",
       "    </tr>\n",
       "    <tr>\n",
       "      <th>1</th>\n",
       "      <td>0</td>\n",
       "      <td>3</td>\n",
       "      <td>244</td>\n",
       "      <td>2021-08-05</td>\n",
       "      <td>08:32:55</td>\n",
       "      <td>SWA145_20210805</td>\n",
       "      <td>33.946579</td>\n",
       "      <td>-118.400642</td>\n",
       "      <td>POINT (-118.40064 33.94658)</td>\n",
       "    </tr>\n",
       "    <tr>\n",
       "      <th>2</th>\n",
       "      <td>0</td>\n",
       "      <td>2</td>\n",
       "      <td>196</td>\n",
       "      <td>2021-08-05</td>\n",
       "      <td>08:33:11</td>\n",
       "      <td>SWA145_20210805</td>\n",
       "      <td>33.946655</td>\n",
       "      <td>-118.400429</td>\n",
       "      <td>POINT (-118.40043 33.94665)</td>\n",
       "    </tr>\n",
       "    <tr>\n",
       "      <th>3</th>\n",
       "      <td>0</td>\n",
       "      <td>3</td>\n",
       "      <td>174</td>\n",
       "      <td>2021-08-05</td>\n",
       "      <td>08:33:28</td>\n",
       "      <td>SWA145_20210805</td>\n",
       "      <td>33.946857</td>\n",
       "      <td>-118.400375</td>\n",
       "      <td>POINT (-118.40037 33.94686)</td>\n",
       "    </tr>\n",
       "    <tr>\n",
       "      <th>4</th>\n",
       "      <td>0</td>\n",
       "      <td>2</td>\n",
       "      <td>281</td>\n",
       "      <td>2021-08-05</td>\n",
       "      <td>08:33:56</td>\n",
       "      <td>SWA145_20210805</td>\n",
       "      <td>33.947124</td>\n",
       "      <td>-118.400444</td>\n",
       "      <td>POINT (-118.40044 33.94712)</td>\n",
       "    </tr>\n",
       "  </tbody>\n",
       "</table>\n",
       "</div>"
      ],
      "text/plain": [
       "   altitude  speed  direction date_pacfic time_pacfic               id  \\\n",
       "0         0      0        272  2021-08-05    08:16:54  SWA145_20210805   \n",
       "1         0      3        244  2021-08-05    08:32:55  SWA145_20210805   \n",
       "2         0      2        196  2021-08-05    08:33:11  SWA145_20210805   \n",
       "3         0      3        174  2021-08-05    08:33:28  SWA145_20210805   \n",
       "4         0      2        281  2021-08-05    08:33:56  SWA145_20210805   \n",
       "\n",
       "    latitude    longitude                     geometry  \n",
       "0  33.946655  -118.400902  POINT (-118.40090 33.94665)  \n",
       "1  33.946579  -118.400642  POINT (-118.40064 33.94658)  \n",
       "2  33.946655  -118.400429  POINT (-118.40043 33.94665)  \n",
       "3  33.946857  -118.400375  POINT (-118.40037 33.94686)  \n",
       "4  33.947124  -118.400444  POINT (-118.40044 33.94712)  "
      ]
     },
     "execution_count": 22,
     "metadata": {},
     "output_type": "execute_result"
    }
   ],
   "source": [
    "gdf.head()"
   ]
  },
  {
   "cell_type": "markdown",
   "id": "8c4ee860-3a32-4ac3-8695-73a83bfa6b22",
   "metadata": {},
   "source": [
    "### We need lines to plot the flights"
   ]
  },
  {
   "cell_type": "code",
   "execution_count": 23,
   "id": "84610271-4d7e-4bcf-abd8-2288678b7ea2",
   "metadata": {},
   "outputs": [],
   "source": [
    "gdf_lines = gpd.GeoDataFrame(\n",
    "    gdf.groupby([\"id\", \"date_pacfic\"])[\"geometry\"]\n",
    "    .apply(lambda x: LineString(x.tolist()))\n",
    "    .reset_index()\n",
    ")"
   ]
  },
  {
   "cell_type": "code",
   "execution_count": 24,
   "id": "18e5bdb5-3bcc-4649-8ab2-ed649753282b",
   "metadata": {},
   "outputs": [
    {
     "data": {
      "text/plain": [
       "<AxesSubplot:>"
      ]
     },
     "execution_count": 24,
     "metadata": {},
     "output_type": "execute_result"
    },
    {
     "data": {
      "image/png": "[encoded data removed]",
      "text/plain": [
       "<Figure size 432x288 with 1 Axes>"
      ]
     },
     "metadata": {
      "needs_background": "light"
     },
     "output_type": "display_data"
    }
   ],
   "source": [
    "gdf_lines.plot()"
   ]
  },
  {
   "cell_type": "markdown",
   "id": "7fd14c98-a497-46e7-8485-306f075204dc",
   "metadata": {},
   "source": [
    "---"
   ]
  },
  {
   "cell_type": "markdown",
   "id": "c4d60caa-1ead-48bf-ab37-b850b3c94db7",
   "metadata": {},
   "source": [
    "### Get schedule from FlightRadar24 page"
   ]
  },
  {
   "cell_type": "code",
   "execution_count": 25,
   "id": "f69f00f0-14e9-4ac0-a238-d3a4ba14bbf6",
   "metadata": {},
   "outputs": [],
   "source": [
    "sched = pd.read_csv(\"data/raw/recent_flights_lax_lih.csv\", parse_dates=[\"date\"])"
   ]
  },
  {
   "cell_type": "code",
   "execution_count": 26,
   "id": "1a56d853-4c70-4d95-b049-23f2066a78e5",
   "metadata": {},
   "outputs": [],
   "source": [
    "sched[\"begin\"] = sched[\"begin\"].str.replace(\"(LAX)\", \"\", regex=False)\n",
    "sched[\"end\"] = sched[\"end\"].str.replace(\"(LIH)\", \"\", regex=False)"
   ]
  },
  {
   "cell_type": "code",
   "execution_count": 27,
   "id": "40de48e2-a9d2-42a2-8a48-615da6cd6bee",
   "metadata": {},
   "outputs": [],
   "source": [
    "sched[[\"aircraft\", \"callsign\"]] = sched[\"plane\"].str.split(\"(\", expand=True)"
   ]
  },
  {
   "cell_type": "code",
   "execution_count": 28,
   "id": "4c8353c8-9cd4-455d-b854-c716ba5f5cf1",
   "metadata": {},
   "outputs": [],
   "source": [
    "sched[\"callsign\"] = sched[\"callsign\"].str.replace(\")\", \"\", regex=False)"
   ]
  },
  {
   "cell_type": "code",
   "execution_count": 29,
   "id": "b9a486d4-d46f-458e-a622-a2455fd77a0c",
   "metadata": {},
   "outputs": [],
   "source": [
    "sched[\"land_actual\"] = sched[\"land_actual\"].str.replace(\"Landed \", \"\", regex=False)"
   ]
  },
  {
   "cell_type": "code",
   "execution_count": 30,
   "id": "16dd7bde-7212-42a9-81e0-6519789354a8",
   "metadata": {},
   "outputs": [],
   "source": [
    "sched.drop([\"Unnamed: 8\", \"Unnamed: 10\", \"plane\"], axis=1, inplace=True)"
   ]
  },
  {
   "cell_type": "code",
   "execution_count": 31,
   "id": "61e71b36-ceb0-40b4-b401-f105e48e0030",
   "metadata": {},
   "outputs": [],
   "source": [
    "sched[\"flight_time\"] = pd.to_datetime(sched[\"flight_time\"], format=\"%H:%M\").dt.time"
   ]
  },
  {
   "cell_type": "code",
   "execution_count": 32,
   "id": "e7183026-cd4c-48a2-9a98-7db23f948e66",
   "metadata": {},
   "outputs": [
    {
     "data": {
      "text/html": [
       "<div>\n",
       "<style scoped>\n",
       "    .dataframe tbody tr th:only-of-type {\n",
       "        vertical-align: middle;\n",
       "    }\n",
       "\n",
       "    .dataframe tbody tr th {\n",
       "        vertical-align: top;\n",
       "    }\n",
       "\n",
       "    .dataframe thead th {\n",
       "        text-align: right;\n",
       "    }\n",
       "</style>\n",
       "<table border=\"1\" class=\"dataframe\">\n",
       "  <thead>\n",
       "    <tr style=\"text-align: right;\">\n",
       "      <th></th>\n",
       "      <th>date</th>\n",
       "      <th>begin</th>\n",
       "      <th>end</th>\n",
       "      <th>flight_time</th>\n",
       "      <th>leave_sched</th>\n",
       "      <th>leave_actual</th>\n",
       "      <th>land_sched</th>\n",
       "      <th>land_actual</th>\n",
       "      <th>aircraft</th>\n",
       "      <th>callsign</th>\n",
       "    </tr>\n",
       "  </thead>\n",
       "  <tbody>\n",
       "    <tr>\n",
       "      <th>0</th>\n",
       "      <td>2021-08-06</td>\n",
       "      <td>Los Angeles</td>\n",
       "      <td>Lihue</td>\n",
       "      <td>05:29:00</td>\n",
       "      <td>8:30 AM</td>\n",
       "      <td>9:18 AM</td>\n",
       "      <td>11:20 AM</td>\n",
       "      <td>11:48 AM</td>\n",
       "      <td>B38M</td>\n",
       "      <td>N8718Q</td>\n",
       "    </tr>\n",
       "    <tr>\n",
       "      <th>1</th>\n",
       "      <td>2021-08-05</td>\n",
       "      <td>Los Angeles</td>\n",
       "      <td>Lihue</td>\n",
       "      <td>05:23:00</td>\n",
       "      <td>8:30 AM</td>\n",
       "      <td>8:40 AM</td>\n",
       "      <td>11:20 AM</td>\n",
       "      <td>11:02 AM</td>\n",
       "      <td>B738</td>\n",
       "      <td>N8309C</td>\n",
       "    </tr>\n",
       "    <tr>\n",
       "      <th>2</th>\n",
       "      <td>2021-08-04</td>\n",
       "      <td>Los Angeles</td>\n",
       "      <td>Lihue</td>\n",
       "      <td>05:31:00</td>\n",
       "      <td>8:30 AM</td>\n",
       "      <td>8:40 AM</td>\n",
       "      <td>11:20 AM</td>\n",
       "      <td>11:11 AM</td>\n",
       "      <td>B738</td>\n",
       "      <td>N8309C</td>\n",
       "    </tr>\n",
       "    <tr>\n",
       "      <th>3</th>\n",
       "      <td>2021-08-03</td>\n",
       "      <td>Los Angeles</td>\n",
       "      <td>Lihue</td>\n",
       "      <td>05:24:00</td>\n",
       "      <td>8:30 AM</td>\n",
       "      <td>8:40 AM</td>\n",
       "      <td>11:20 AM</td>\n",
       "      <td>11:04 AM</td>\n",
       "      <td>B38M</td>\n",
       "      <td>N8713M</td>\n",
       "    </tr>\n",
       "    <tr>\n",
       "      <th>4</th>\n",
       "      <td>2021-08-02</td>\n",
       "      <td>Los Angeles</td>\n",
       "      <td>Lihue</td>\n",
       "      <td>05:25:00</td>\n",
       "      <td>8:30 AM</td>\n",
       "      <td>9:04 AM</td>\n",
       "      <td>11:20 AM</td>\n",
       "      <td>11:29 AM</td>\n",
       "      <td>B38M</td>\n",
       "      <td>N8713M</td>\n",
       "    </tr>\n",
       "  </tbody>\n",
       "</table>\n",
       "</div>"
      ],
      "text/plain": [
       "        date         begin     end flight_time leave_sched leave_actual  \\\n",
       "0 2021-08-06  Los Angeles   Lihue     05:29:00     8:30 AM      9:18 AM   \n",
       "1 2021-08-05  Los Angeles   Lihue     05:23:00     8:30 AM      8:40 AM   \n",
       "2 2021-08-04  Los Angeles   Lihue     05:31:00     8:30 AM      8:40 AM   \n",
       "3 2021-08-03  Los Angeles   Lihue     05:24:00     8:30 AM      8:40 AM   \n",
       "4 2021-08-02  Los Angeles   Lihue     05:25:00     8:30 AM      9:04 AM   \n",
       "\n",
       "  land_sched land_actual aircraft callsign  \n",
       "0   11:20 AM    11:48 AM    B38M    N8718Q  \n",
       "1   11:20 AM    11:02 AM    B738    N8309C  \n",
       "2   11:20 AM    11:11 AM    B738    N8309C  \n",
       "3   11:20 AM    11:04 AM    B38M    N8713M  \n",
       "4   11:20 AM    11:29 AM    B38M    N8713M  "
      ]
     },
     "execution_count": 32,
     "metadata": {},
     "output_type": "execute_result"
    }
   ],
   "source": [
    "sched.head()"
   ]
  },
  {
   "cell_type": "markdown",
   "id": "c3525116-a702-43ac-a1b7-8dedfc02b1b3",
   "metadata": {},
   "source": [
    "---"
   ]
  },
  {
   "cell_type": "markdown",
   "id": "b94c0b63-86bc-4f4c-9282-f24879aa34c4",
   "metadata": {},
   "source": [
    "### Exports"
   ]
  },
  {
   "cell_type": "code",
   "execution_count": 33,
   "id": "77218fdb-6e50-4b3a-b97c-059462b6fa9d",
   "metadata": {},
   "outputs": [],
   "source": [
    "gdf.to_file(\"data/processed/lax_lih_flights_points.geojson\", driver=\"GeoJSON\")"
   ]
  },
  {
   "cell_type": "code",
   "execution_count": 34,
   "id": "9cfc1222-e353-44fd-8def-33eb4f40a1ea",
   "metadata": {},
   "outputs": [],
   "source": [
    "gdf_lines.to_file(\"data/processed/lax_lih_flights_lines.geojson\", driver=\"GeoJSON\")"
   ]
  },
  {
   "cell_type": "code",
   "execution_count": 35,
   "id": "1d585eee-a16c-4c5a-b664-6db9983695b6",
   "metadata": {},
   "outputs": [],
   "source": [
    "import fiona\n",
    "\n",
    "fiona.supported_drivers[\"KML\"] = \"rw\""
   ]
  },
  {
   "cell_type": "code",
   "execution_count": 36,
   "id": "55d4df44-251d-426f-97d3-109b0482bba4",
   "metadata": {},
   "outputs": [],
   "source": [
    "gdf.to_file(\"data/processed/lax_lih_flights_points.kml\", driver=\"KML\")\n",
    "gdf_lines.to_file(\"data/processed/lax_lih_flights_lines.kml\", driver=\"KML\")"
   ]
  },
  {
   "cell_type": "markdown",
   "id": "a788f75a-fafe-4a6e-99cc-bedc650f6270",
   "metadata": {},
   "source": [
    "### Our flight"
   ]
  },
  {
   "cell_type": "code",
   "execution_count": 37,
   "id": "858aa4b6-dd44-445d-8496-13c84c004a43",
   "metadata": {},
   "outputs": [],
   "source": [
    "gdf[gdf[\"date_pacfic\"] == \"2021-08-10\"].to_file(\n",
    "    \"data/processed/lax_lih_flights_points_aug10.kml\", driver=\"KML\"\n",
    ")"
   ]
  },
  {
   "cell_type": "code",
   "execution_count": 38,
   "id": "e76d6052-96da-46ec-aba2-e73b7d7b815e",
   "metadata": {},
   "outputs": [],
   "source": [
    "gdf_lines[gdf_lines[\"date_pacfic\"] == \"2021-08-10\"].to_file(\n",
    "    \"data/processed/lax_lih_flights_lines_aug10.kml\", driver=\"KML\"\n",
    ")"
   ]
  }
 ],
 "metadata": {
  "kernelspec": {
   "display_name": "Python 3 (ipykernel)",
   "language": "python",
   "name": "python3"
  },
  "language_info": {
   "codemirror_mode": {
    "name": "ipython",
    "version": 3
   },
   "file_extension": ".py",
   "mimetype": "text/x-python",
   "name": "python",
   "nbconvert_exporter": "python",
   "pygments_lexer": "ipython3",
   "version": "3.8.11"
  }
 },
 "nbformat": 4,
 "nbformat_minor": 5
}
