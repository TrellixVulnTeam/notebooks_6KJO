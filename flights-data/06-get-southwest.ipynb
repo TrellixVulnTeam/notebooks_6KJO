{
 "cells": [
  {
   "cell_type": "markdown",
   "id": "e910863f-5068-46db-8879-b34c76f88946",
   "metadata": {},
   "source": [
    "# SWA145 flights: LAX to LIH (LA TO KAUAI)"
   ]
  },
  {
   "cell_type": "markdown",
   "id": "cff5d9bf-66d7-4964-9232-7f24f00cc18b",
   "metadata": {
    "tags": []
   },
   "source": [
    "### Import Python tools and Jupyter configuration"
   ]
  },
  {
   "cell_type": "code",
   "execution_count": 1,
   "id": "b3ba3dbc-7333-44a8-b959-e0375f52de48",
   "metadata": {},
   "outputs": [],
   "source": [
    "%load_ext lab_black"
   ]
  },
  {
   "cell_type": "code",
   "execution_count": 2,
   "id": "319f1e8e-0fae-41b1-8891-51929953afe3",
   "metadata": {},
   "outputs": [
    {
     "name": "stderr",
     "output_type": "stream",
     "text": [
      "/Users/mhustiles/.local/share/virtualenvs/notebooks-xu8v5Vvv/lib/python3.8/site-packages/geopandas/_compat.py:106: UserWarning: The Shapely GEOS version (3.8.0-CAPI-1.13.1 ) is incompatible with the GEOS version PyGEOS was compiled with (3.9.1-CAPI-1.14.2). Conversions between both will be slow.\n",
      "  warnings.warn(\n"
     ]
    }
   ],
   "source": [
    "import pandas as pd\n",
    "import geopandas as gpd\n",
    "import altair as alt\n",
    "import altair_latimes as lat\n",
    "import datetime as dt\n",
    "import requests\n",
    "from datetime import datetime\n",
    "import glob\n",
    "from shapely.geometry import Point, LineString, MultiLineString"
   ]
  },
  {
   "cell_type": "code",
   "execution_count": 3,
   "id": "b7d02fc0-3b46-4974-8051-6e085a2e0853",
   "metadata": {},
   "outputs": [
    {
     "data": {
      "text/plain": [
       "DataTransformerRegistry.enable('default')"
      ]
     },
     "execution_count": 3,
     "metadata": {},
     "output_type": "execute_result"
    }
   ],
   "source": [
    "pd.options.display.max_columns = 100\n",
    "pd.options.display.max_rows = 100\n",
    "pd.options.display.max_colwidth = None\n",
    "alt.data_transformers.disable_max_rows()"
   ]
  },
  {
   "cell_type": "code",
   "execution_count": 4,
   "id": "6c5491da-7f05-4dbc-be42-f21bf072c429",
   "metadata": {},
   "outputs": [],
   "source": [
    "today = datetime.today().strftime(\"%Y-%m-%d_%H-%M-%S\")"
   ]
  },
  {
   "cell_type": "code",
   "execution_count": 5,
   "id": "f4a07893-324c-4917-a6e5-5eafdbf18868",
   "metadata": {},
   "outputs": [
    {
     "data": {
      "text/plain": [
       "'2021-08-10_13-57-58'"
      ]
     },
     "execution_count": 5,
     "metadata": {},
     "output_type": "execute_result"
    }
   ],
   "source": [
    "today"
   ]
  },
  {
   "cell_type": "markdown",
   "id": "37592b34-c5a1-4613-83ad-ebe4b4b71cab",
   "metadata": {},
   "source": [
    "---"
   ]
  },
  {
   "cell_type": "markdown",
   "id": "4041a61d-b3c6-48f0-94fe-b9afbcbf95a5",
   "metadata": {},
   "source": [
    "### Get your current location"
   ]
  },
  {
   "cell_type": "code",
   "execution_count": 6,
   "id": "57eba902-d73a-4a16-a915-b8d357866b40",
   "metadata": {},
   "outputs": [],
   "source": [
    "df = pd.read_json(\"https://getconnected.southwestwifi.com/current.json\")"
   ]
  },
  {
   "cell_type": "code",
   "execution_count": 7,
   "id": "bb6dbc7d-78ba-4b44-afd3-18861de1c714",
   "metadata": {},
   "outputs": [
    {
     "data": {
      "text/plain": [
       "sat_commlink_portal     conn_ok\n",
       "pcent_flt_complete           98\n",
       "altVal                    10564\n",
       "lon                    -158.643\n",
       "satcomm_status              NaN\n",
       "dtzone                      HST\n",
       "within_us                  True\n",
       "etad                   11:10 AM\n",
       "lat                      21.889\n",
       "gspdVal                     378\n",
       "ttgc                     0h 13m\n",
       "dist_remain                  45\n",
       "actime24                  10:57\n",
       "Name: status, dtype: object"
      ]
     },
     "execution_count": 7,
     "metadata": {},
     "output_type": "execute_result"
    }
   ],
   "source": [
    "df.iloc[0]"
   ]
  },
  {
   "cell_type": "markdown",
   "id": "ad6ccf6d-bcbe-4ac3-900f-0100623cb55b",
   "metadata": {},
   "source": [
    "### Get geodataframe"
   ]
  },
  {
   "cell_type": "code",
   "execution_count": 8,
   "id": "ecd57506-c1fa-40e2-bd36-4dc927e4ce2f",
   "metadata": {},
   "outputs": [],
   "source": [
    "gdf = gpd.GeoDataFrame(df, geometry=gpd.points_from_xy(df.lon, df.lat))"
   ]
  },
  {
   "cell_type": "code",
   "execution_count": 9,
   "id": "129f5215-da6d-4f99-a8dc-b6f70f8f165e",
   "metadata": {},
   "outputs": [
    {
     "data": {
      "text/plain": [
       "<AxesSubplot:>"
      ]
     },
     "execution_count": 9,
     "metadata": {},
     "output_type": "execute_result"
    },
    {
     "data": {
      "image/png": "[encoded data removed]",
      "text/plain": [
       "<Figure size 432x288 with 1 Axes>"
      ]
     },
     "metadata": {
      "needs_background": "light"
     },
     "output_type": "display_data"
    }
   ],
   "source": [
    "gdf.plot()"
   ]
  },
  {
   "cell_type": "code",
   "execution_count": 10,
   "id": "fcf4d23c-14e9-45dd-8e9e-9f588acede8c",
   "metadata": {},
   "outputs": [],
   "source": [
    "gdf.to_file(\"data/processed/sw_location\" + today + \".geojson\", driver=\"GeoJSON\")"
   ]
  }
 ],
 "metadata": {
  "kernelspec": {
   "display_name": "Python 3 (ipykernel)",
   "language": "python",
   "name": "python3"
  },
  "language_info": {
   "codemirror_mode": {
    "name": "ipython",
    "version": 3
   },
   "file_extension": ".py",
   "mimetype": "text/x-python",
   "name": "python",
   "nbconvert_exporter": "python",
   "pygments_lexer": "ipython3",
   "version": "3.8.11"
  }
 },
 "nbformat": 4,
 "nbformat_minor": 5
}
