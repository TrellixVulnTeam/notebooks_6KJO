{
 "cells": [
  {
   "cell_type": "markdown",
   "id": "23e1a104-fa65-4bd9-9047-f86bd469241c",
   "metadata": {},
   "source": [
    "# California ZIP Codes - Race and income"
   ]
  },
  {
   "cell_type": "markdown",
   "id": "c908d820-f87f-4451-8701-93fe1d6a3cba",
   "metadata": {},
   "source": [
    "### Import Python tools and Jupyter configuration"
   ]
  },
  {
   "cell_type": "code",
   "execution_count": 1,
   "id": "9423296a-49fe-4002-9ebc-f03a4059a6da",
   "metadata": {},
   "outputs": [],
   "source": [
    "%load_ext lab_black"
   ]
  },
  {
   "cell_type": "code",
   "execution_count": 2,
   "id": "3652dbc5-0259-40d8-8c9a-523b42898252",
   "metadata": {},
   "outputs": [
    {
     "name": "stderr",
     "output_type": "stream",
     "text": [
      "/Users/mhustiles/.local/share/virtualenvs/notebooks-xu8v5Vvv/lib/python3.8/site-packages/geopandas/_compat.py:106: UserWarning: The Shapely GEOS version (3.8.0-CAPI-1.13.1 ) is incompatible with the GEOS version PyGEOS was compiled with (3.9.1-CAPI-1.14.2). Conversions between both will be slow.\n",
      "  warnings.warn(\n"
     ]
    }
   ],
   "source": [
    "import pandas as pd\n",
    "import geopandas as gpd\n",
    "import altair as alt\n",
    "import altair_latimes as lat"
   ]
  },
  {
   "cell_type": "code",
   "execution_count": 3,
   "id": "5e528955-40f6-4bc9-b80c-0b85d1974c9b",
   "metadata": {},
   "outputs": [],
   "source": [
    "pd.options.display.max_columns = 100\n",
    "pd.options.display.max_rows = 1000\n",
    "alt.data_transformers.disable_max_rows()\n",
    "pd.options.display.max_colwidth = None"
   ]
  },
  {
   "cell_type": "markdown",
   "id": "e4623f22-4c61-442f-b7a4-354b76be9f41",
   "metadata": {},
   "source": [
    "### Import race data"
   ]
  },
  {
   "cell_type": "code",
   "execution_count": 4,
   "id": "0cee83d0-0e34-480e-9792-0130a954ef36",
   "metadata": {},
   "outputs": [],
   "source": [
    "race_df = pd.read_csv(\n",
    "    \"data/ca-zip-codes-race.csv\",\n",
    "    dtype={\"zip\": \"str\"},\n",
    ")"
   ]
  },
  {
   "cell_type": "code",
   "execution_count": 5,
   "id": "189c4474-775c-406b-a76f-bdb9fd100001",
   "metadata": {},
   "outputs": [
    {
     "data": {
      "text/html": [
       "<div>\n",
       "<style scoped>\n",
       "    .dataframe tbody tr th:only-of-type {\n",
       "        vertical-align: middle;\n",
       "    }\n",
       "\n",
       "    .dataframe tbody tr th {\n",
       "        vertical-align: top;\n",
       "    }\n",
       "\n",
       "    .dataframe thead th {\n",
       "        text-align: right;\n",
       "    }\n",
       "</style>\n",
       "<table border=\"1\" class=\"dataframe\">\n",
       "  <thead>\n",
       "    <tr style=\"text-align: right;\">\n",
       "      <th></th>\n",
       "      <th>objectid</th>\n",
       "      <th>zip</th>\n",
       "      <th>po_name</th>\n",
       "      <th>pop2012</th>\n",
       "      <th>white</th>\n",
       "      <th>black</th>\n",
       "      <th>ameri_es</th>\n",
       "      <th>asian</th>\n",
       "      <th>hawn_pi</th>\n",
       "      <th>hispanic</th>\n",
       "      <th>other</th>\n",
       "      <th>mult_race</th>\n",
       "      <th>med_age</th>\n",
       "      <th>ave_hh_sz</th>\n",
       "      <th>marhh_chd</th>\n",
       "      <th>families</th>\n",
       "      <th>ave_fam_sz</th>\n",
       "      <th>hse_units</th>\n",
       "      <th>sqmi</th>\n",
       "    </tr>\n",
       "  </thead>\n",
       "  <tbody>\n",
       "    <tr>\n",
       "      <th>0</th>\n",
       "      <td>4800</td>\n",
       "      <td>94002</td>\n",
       "      <td>Belmont</td>\n",
       "      <td>26832</td>\n",
       "      <td>19634</td>\n",
       "      <td>477</td>\n",
       "      <td>84</td>\n",
       "      <td>5762</td>\n",
       "      <td>221</td>\n",
       "      <td>3517</td>\n",
       "      <td>1170</td>\n",
       "      <td>1744</td>\n",
       "      <td>41.0</td>\n",
       "      <td>2.42</td>\n",
       "      <td>2925</td>\n",
       "      <td>7671</td>\n",
       "      <td>2.98</td>\n",
       "      <td>12304</td>\n",
       "      <td>5.9</td>\n",
       "    </tr>\n",
       "    <tr>\n",
       "      <th>1</th>\n",
       "      <td>4801</td>\n",
       "      <td>94010</td>\n",
       "      <td>Burlingame</td>\n",
       "      <td>41102</td>\n",
       "      <td>31610</td>\n",
       "      <td>482</td>\n",
       "      <td>93</td>\n",
       "      <td>10244</td>\n",
       "      <td>188</td>\n",
       "      <td>5133</td>\n",
       "      <td>1865</td>\n",
       "      <td>2166</td>\n",
       "      <td>42.6</td>\n",
       "      <td>2.43</td>\n",
       "      <td>4798</td>\n",
       "      <td>12179</td>\n",
       "      <td>3.06</td>\n",
       "      <td>20020</td>\n",
       "      <td>13.0</td>\n",
       "    </tr>\n",
       "    <tr>\n",
       "      <th>2</th>\n",
       "      <td>4900</td>\n",
       "      <td>93442</td>\n",
       "      <td>Morro Bay</td>\n",
       "      <td>10873</td>\n",
       "      <td>9395</td>\n",
       "      <td>47</td>\n",
       "      <td>104</td>\n",
       "      <td>281</td>\n",
       "      <td>10</td>\n",
       "      <td>1602</td>\n",
       "      <td>645</td>\n",
       "      <td>322</td>\n",
       "      <td>48.9</td>\n",
       "      <td>2.09</td>\n",
       "      <td>593</td>\n",
       "      <td>2749</td>\n",
       "      <td>2.70</td>\n",
       "      <td>6609</td>\n",
       "      <td>43.2</td>\n",
       "    </tr>\n",
       "    <tr>\n",
       "      <th>3</th>\n",
       "      <td>4901</td>\n",
       "      <td>93445</td>\n",
       "      <td>Oceano</td>\n",
       "      <td>7633</td>\n",
       "      <td>4683</td>\n",
       "      <td>60</td>\n",
       "      <td>114</td>\n",
       "      <td>155</td>\n",
       "      <td>7</td>\n",
       "      <td>3389</td>\n",
       "      <td>1477</td>\n",
       "      <td>283</td>\n",
       "      <td>34.7</td>\n",
       "      <td>2.86</td>\n",
       "      <td>541</td>\n",
       "      <td>1582</td>\n",
       "      <td>3.42</td>\n",
       "      <td>2871</td>\n",
       "      <td>2.0</td>\n",
       "    </tr>\n",
       "    <tr>\n",
       "      <th>4</th>\n",
       "      <td>4802</td>\n",
       "      <td>94015</td>\n",
       "      <td>Daly City</td>\n",
       "      <td>61575</td>\n",
       "      <td>14279</td>\n",
       "      <td>2138</td>\n",
       "      <td>168</td>\n",
       "      <td>35940</td>\n",
       "      <td>482</td>\n",
       "      <td>9775</td>\n",
       "      <td>4520</td>\n",
       "      <td>2939</td>\n",
       "      <td>39.0</td>\n",
       "      <td>3.10</td>\n",
       "      <td>4637</td>\n",
       "      <td>13991</td>\n",
       "      <td>3.54</td>\n",
       "      <td>20103</td>\n",
       "      <td>5.7</td>\n",
       "    </tr>\n",
       "  </tbody>\n",
       "</table>\n",
       "</div>"
      ],
      "text/plain": [
       "   objectid    zip     po_name  pop2012  white  black  ameri_es  asian  \\\n",
       "0      4800  94002     Belmont    26832  19634    477        84   5762   \n",
       "1      4801  94010  Burlingame    41102  31610    482        93  10244   \n",
       "2      4900  93442   Morro Bay    10873   9395     47       104    281   \n",
       "3      4901  93445      Oceano     7633   4683     60       114    155   \n",
       "4      4802  94015   Daly City    61575  14279   2138       168  35940   \n",
       "\n",
       "   hawn_pi  hispanic  other  mult_race  med_age  ave_hh_sz  marhh_chd  \\\n",
       "0      221      3517   1170       1744     41.0       2.42       2925   \n",
       "1      188      5133   1865       2166     42.6       2.43       4798   \n",
       "2       10      1602    645        322     48.9       2.09        593   \n",
       "3        7      3389   1477        283     34.7       2.86        541   \n",
       "4      482      9775   4520       2939     39.0       3.10       4637   \n",
       "\n",
       "   families  ave_fam_sz  hse_units  sqmi  \n",
       "0      7671        2.98      12304   5.9  \n",
       "1     12179        3.06      20020  13.0  \n",
       "2      2749        2.70       6609  43.2  \n",
       "3      1582        3.42       2871   2.0  \n",
       "4     13991        3.54      20103   5.7  "
      ]
     },
     "execution_count": 5,
     "metadata": {},
     "output_type": "execute_result"
    }
   ],
   "source": [
    "race_df.head()"
   ]
  },
  {
   "cell_type": "markdown",
   "id": "818dcd82-4012-40ac-818d-4e57701cacdb",
   "metadata": {},
   "source": [
    "### Import income data"
   ]
  },
  {
   "cell_type": "code",
   "execution_count": 6,
   "id": "fe4da6aa-851d-4560-a374-e67a1a5c68f4",
   "metadata": {},
   "outputs": [],
   "source": [
    "income_df = pd.read_csv(\n",
    "    \"data/ca_zips_income.csv\",\n",
    "    dtype={\"zip\": \"str\"},\n",
    ")"
   ]
  },
  {
   "cell_type": "code",
   "execution_count": 7,
   "id": "ad455e1f-f162-4654-9cf7-8c08d132200c",
   "metadata": {},
   "outputs": [
    {
     "data": {
      "text/html": [
       "<div>\n",
       "<style scoped>\n",
       "    .dataframe tbody tr th:only-of-type {\n",
       "        vertical-align: middle;\n",
       "    }\n",
       "\n",
       "    .dataframe tbody tr th {\n",
       "        vertical-align: top;\n",
       "    }\n",
       "\n",
       "    .dataframe thead th {\n",
       "        text-align: right;\n",
       "    }\n",
       "</style>\n",
       "<table border=\"1\" class=\"dataframe\">\n",
       "  <thead>\n",
       "    <tr style=\"text-align: right;\">\n",
       "      <th></th>\n",
       "      <th>zip</th>\n",
       "      <th>name</th>\n",
       "      <th>avg_house_income</th>\n",
       "      <th>avg_net_worth</th>\n",
       "      <th>population</th>\n",
       "    </tr>\n",
       "  </thead>\n",
       "  <tbody>\n",
       "    <tr>\n",
       "      <th>0</th>\n",
       "      <td>90001</td>\n",
       "      <td>Los Angeles</td>\n",
       "      <td>46931</td>\n",
       "      <td>82915</td>\n",
       "      <td>59907</td>\n",
       "    </tr>\n",
       "    <tr>\n",
       "      <th>1</th>\n",
       "      <td>90002</td>\n",
       "      <td>Los Angeles</td>\n",
       "      <td>46332</td>\n",
       "      <td>96786</td>\n",
       "      <td>53573</td>\n",
       "    </tr>\n",
       "    <tr>\n",
       "      <th>2</th>\n",
       "      <td>90003</td>\n",
       "      <td>Los Angeles</td>\n",
       "      <td>43020</td>\n",
       "      <td>66091</td>\n",
       "      <td>71967</td>\n",
       "    </tr>\n",
       "    <tr>\n",
       "      <th>3</th>\n",
       "      <td>90004</td>\n",
       "      <td>Los Angeles</td>\n",
       "      <td>65893</td>\n",
       "      <td>232653</td>\n",
       "      <td>63987</td>\n",
       "    </tr>\n",
       "    <tr>\n",
       "      <th>4</th>\n",
       "      <td>90005</td>\n",
       "      <td>Los Angeles</td>\n",
       "      <td>53191</td>\n",
       "      <td>105569</td>\n",
       "      <td>41844</td>\n",
       "    </tr>\n",
       "  </tbody>\n",
       "</table>\n",
       "</div>"
      ],
      "text/plain": [
       "     zip         name  avg_house_income  avg_net_worth  population\n",
       "0  90001  Los Angeles             46931          82915       59907\n",
       "1  90002  Los Angeles             46332          96786       53573\n",
       "2  90003  Los Angeles             43020          66091       71967\n",
       "3  90004  Los Angeles             65893         232653       63987\n",
       "4  90005  Los Angeles             53191         105569       41844"
      ]
     },
     "execution_count": 7,
     "metadata": {},
     "output_type": "execute_result"
    }
   ],
   "source": [
    "income_df.head()"
   ]
  },
  {
   "cell_type": "markdown",
   "id": "d34cea90-0f56-4a0a-b2b7-d79c9be2f3e0",
   "metadata": {},
   "source": [
    "---"
   ]
  },
  {
   "cell_type": "markdown",
   "id": "bb8e5842-5d46-48d9-8b15-bd5ff8aa704e",
   "metadata": {},
   "source": [
    "### Merge them"
   ]
  },
  {
   "cell_type": "code",
   "execution_count": 8,
   "id": "0815141e-b391-4851-ba29-55f7421f0e39",
   "metadata": {},
   "outputs": [],
   "source": [
    "zips = pd.merge(income_df, race_df, on=\"zip\")"
   ]
  },
  {
   "cell_type": "code",
   "execution_count": 9,
   "id": "32bc90dc-5e65-4fcd-bb87-8c8422457de6",
   "metadata": {},
   "outputs": [],
   "source": [
    "zips = zips[\n",
    "    (zips[\"med_age\"] > 0) & (zips[\"population\"] > 0) & (zips[\"avg_house_income\"] > 0)\n",
    "]"
   ]
  },
  {
   "cell_type": "code",
   "execution_count": 10,
   "id": "f7911374-1f35-4ae0-9193-b2e936b6cf07",
   "metadata": {},
   "outputs": [],
   "source": [
    "race_cols = [\n",
    "    \"white\",\n",
    "    \"black\",\n",
    "    \"ameri_es\",\n",
    "    \"asian\",\n",
    "    \"hawn_pi\",\n",
    "    \"hispanic\",\n",
    "    \"other\",\n",
    "    \"mult_race\",\n",
    "]"
   ]
  },
  {
   "cell_type": "code",
   "execution_count": 11,
   "id": "0ff9f492-f285-4aee-a511-540ffeda4fb9",
   "metadata": {},
   "outputs": [],
   "source": [
    "for r in race_cols:\n",
    "    zips[f\"{r}_pct\"] = round(zips[f\"{r}\"] / zips[\"population\"] * 100, 2)"
   ]
  },
  {
   "cell_type": "code",
   "execution_count": 12,
   "id": "204d8cfe-5250-4a34-865c-276d15a8178b",
   "metadata": {},
   "outputs": [],
   "source": [
    "zips = zips.dropna().drop(\n",
    "    [\n",
    "        \"po_name\",\n",
    "        \"pop2012\",\n",
    "        \"sqmi\",\n",
    "        \"marhh_chd\",\n",
    "        \"hse_units\",\n",
    "        \"families\",\n",
    "        \"white\",\n",
    "        \"black\",\n",
    "        \"ameri_es\",\n",
    "        \"asian\",\n",
    "        \"hawn_pi\",\n",
    "        \"hispanic\",\n",
    "        \"other\",\n",
    "        \"mult_race\",\n",
    "        \"objectid\",\n",
    "    ],\n",
    "    axis=1,\n",
    ")"
   ]
  },
  {
   "cell_type": "code",
   "execution_count": 13,
   "id": "6663aef2-a8df-49d5-b885-f133cd3d23e1",
   "metadata": {},
   "outputs": [],
   "source": [
    "zips.to_csv(\"data/ca-zip_demographics.csv\", index=False)"
   ]
  },
  {
   "cell_type": "markdown",
   "id": "890bbc2d-6f0e-4a7e-899d-e988f6bd2877",
   "metadata": {},
   "source": [
    "---"
   ]
  },
  {
   "cell_type": "markdown",
   "id": "8e0ace0a-7441-42f6-8795-b7bccd32bc90",
   "metadata": {},
   "source": [
    "### Geography"
   ]
  },
  {
   "cell_type": "code",
   "execution_count": 14,
   "id": "bbd6eb76-dde8-400e-a0c7-d855917f707d",
   "metadata": {},
   "outputs": [],
   "source": [
    "gdf = gpd.read_file(\"data/zips.json\")"
   ]
  },
  {
   "cell_type": "code",
   "execution_count": 15,
   "id": "9211056a-4350-4927-8e6b-3eef3c6548df",
   "metadata": {},
   "outputs": [
    {
     "data": {
      "text/plain": [
       "Index(['zip', 'geometry'], dtype='object')"
      ]
     },
     "execution_count": 15,
     "metadata": {},
     "output_type": "execute_result"
    }
   ],
   "source": [
    "gdf.columns"
   ]
  },
  {
   "cell_type": "code",
   "execution_count": 16,
   "id": "cffa8049-29b8-4939-a0a6-7c4883311bf5",
   "metadata": {},
   "outputs": [
    {
     "data": {
      "text/plain": [
       "<AxesSubplot:>"
      ]
     },
     "execution_count": 16,
     "metadata": {},
     "output_type": "execute_result"
    },
    {
     "data": {
      "image/png": "[encoded data removed]",
      "text/plain": [
       "<Figure size 432x288 with 1 Axes>"
      ]
     },
     "metadata": {
      "needs_background": "light"
     },
     "output_type": "display_data"
    }
   ],
   "source": [
    "gdf.plot()"
   ]
  },
  {
   "cell_type": "markdown",
   "id": "f9a81008-8734-41fb-8427-9efa282bac5a",
   "metadata": {},
   "source": [
    "---"
   ]
  },
  {
   "cell_type": "markdown",
   "id": "aa281842-e191-412c-86cd-cee62010505b",
   "metadata": {},
   "source": [
    "### Merge"
   ]
  },
  {
   "cell_type": "code",
   "execution_count": 17,
   "id": "6cafa7cb-941c-4c34-ace0-d3cc5331f076",
   "metadata": {},
   "outputs": [],
   "source": [
    "merged_gdf = gdf.merge(zips, on=\"zip\")"
   ]
  },
  {
   "cell_type": "code",
   "execution_count": 18,
   "id": "068c3013-4f37-4fdb-8b11-062f18c03b11",
   "metadata": {},
   "outputs": [
    {
     "data": {
      "text/plain": [
       "1616"
      ]
     },
     "execution_count": 18,
     "metadata": {},
     "output_type": "execute_result"
    }
   ],
   "source": [
    "len(merged_gdf)"
   ]
  },
  {
   "cell_type": "code",
   "execution_count": 19,
   "id": "7a031f80-dfe7-4146-b259-e08df447d48b",
   "metadata": {},
   "outputs": [
    {
     "data": {
      "text/plain": [
       "<AxesSubplot:>"
      ]
     },
     "execution_count": 19,
     "metadata": {},
     "output_type": "execute_result"
    },
    {
     "data": {
      "image/png": "[encoded data removed]",
      "text/plain": [
       "<Figure size 432x288 with 1 Axes>"
      ]
     },
     "metadata": {
      "needs_background": "light"
     },
     "output_type": "display_data"
    }
   ],
   "source": [
    "merged_gdf.plot()"
   ]
  },
  {
   "cell_type": "code",
   "execution_count": 20,
   "id": "48dd2ac6-540b-4c78-b346-90cab077b7c5",
   "metadata": {},
   "outputs": [],
   "source": [
    "merged_gdf.to_file(\n",
    "    \"data/ca_zips_demos_geo.geojson\",\n",
    "    driver=\"GeoJSON\",\n",
    ")"
   ]
  }
 ],
 "metadata": {
  "kernelspec": {
   "display_name": "Python 3 (ipykernel)",
   "language": "python",
   "name": "python3"
  },
  "language_info": {
   "codemirror_mode": {
    "name": "ipython",
    "version": 3
   },
   "file_extension": ".py",
   "mimetype": "text/x-python",
   "name": "python",
   "nbconvert_exporter": "python",
   "pygments_lexer": "ipython3",
   "version": "3.8.11"
  }
 },
 "nbformat": 4,
 "nbformat_minor": 5
}
