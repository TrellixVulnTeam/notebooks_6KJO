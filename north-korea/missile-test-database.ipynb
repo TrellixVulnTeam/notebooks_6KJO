{
 "cells": [
  {
   "cell_type": "markdown",
   "metadata": {},
   "source": [
    "# The CNS North Korea Missile Test Database"
   ]
  },
  {
   "cell_type": "code",
   "execution_count": 1,
   "metadata": {},
   "outputs": [],
   "source": [
    "%load_ext lab_black"
   ]
  },
  {
   "cell_type": "code",
   "execution_count": 2,
   "metadata": {},
   "outputs": [],
   "source": [
    "import pandas as pd\n",
    "import geopandas as gpd\n",
    "import altair as alt\n",
    "import altair_grid as altgrid\n",
    "import numpy as np\n",
    "import us\n",
    "import requests"
   ]
  },
  {
   "cell_type": "code",
   "execution_count": 3,
   "metadata": {},
   "outputs": [
    {
     "data": {
      "text/plain": [
       "ThemeRegistry.enable('grid')"
      ]
     },
     "execution_count": 3,
     "metadata": {},
     "output_type": "execute_result"
    }
   ],
   "source": [
    "alt.themes.register(\"grid\", altgrid.theme)\n",
    "alt.themes.enable(\"grid\")"
   ]
  },
  {
   "cell_type": "code",
   "execution_count": 4,
   "metadata": {},
   "outputs": [
    {
     "data": {
      "text/plain": [
       "DataTransformerRegistry.enable('default')"
      ]
     },
     "execution_count": 4,
     "metadata": {},
     "output_type": "execute_result"
    }
   ],
   "source": [
    "pd.options.display.max_columns = 50\n",
    "pd.options.display.max_rows = 1000\n",
    "alt.data_transformers.disable_max_rows()"
   ]
  },
  {
   "cell_type": "markdown",
   "metadata": {},
   "source": [
    "### Download latest version of the database from [here](https://beyondparallel.csis.org/database-north-korean-provocations/)"
   ]
  },
  {
   "cell_type": "code",
   "execution_count": 5,
   "metadata": {},
   "outputs": [],
   "source": [
    "url = \"https://www.nti.org/wp-content/uploads/2022/06/north_korea_missile_test_database_2022_06_24-5.xlsx\""
   ]
  },
  {
   "cell_type": "code",
   "execution_count": 6,
   "metadata": {},
   "outputs": [],
   "source": [
    "resp = requests.get(url)\n",
    "output = open(\"data/raw/north_korea_missile_test_database.xls\", \"wb\")\n",
    "output.write(resp.content)\n",
    "output.close()"
   ]
  },
  {
   "cell_type": "markdown",
   "metadata": {},
   "source": [
    "#### Read data"
   ]
  },
  {
   "cell_type": "code",
   "execution_count": 28,
   "metadata": {},
   "outputs": [],
   "source": [
    "src = pd.read_excel(\n",
    "    \"data/raw/north_korea_missile_test_database.xls\", skiprows=1, parse_dates=[\"Date\"]\n",
    ")"
   ]
  },
  {
   "cell_type": "code",
   "execution_count": 30,
   "metadata": {},
   "outputs": [],
   "source": [
    "src.columns = (\n",
    "    src.columns.str.lower()\n",
    "    .str.replace(\" \", \"_\", regex=False)\n",
    "    .str.replace(\"/\", \"_\", regex=False)\n",
    ")"
   ]
  },
  {
   "cell_type": "code",
   "execution_count": 31,
   "metadata": {},
   "outputs": [],
   "source": [
    "src[\"year\"] = src[\"date\"].dt.year\n",
    "src[\"month\"] = src[\"date\"].dt.month\n",
    "src[\"day\"] = src[\"date\"].dt.day\n",
    "src[\"day\"] = src[\"date\"].dt.day_name()"
   ]
  },
  {
   "cell_type": "code",
   "execution_count": 32,
   "metadata": {},
   "outputs": [
    {
     "data": {
      "text/html": [
       "<div>\n",
       "<style scoped>\n",
       "    .dataframe tbody tr th:only-of-type {\n",
       "        vertical-align: middle;\n",
       "    }\n",
       "\n",
       "    .dataframe tbody tr th {\n",
       "        vertical-align: top;\n",
       "    }\n",
       "\n",
       "    .dataframe thead th {\n",
       "        text-align: right;\n",
       "    }\n",
       "</style>\n",
       "<table border=\"1\" class=\"dataframe\">\n",
       "  <thead>\n",
       "    <tr style=\"text-align: right;\">\n",
       "      <th></th>\n",
       "      <th>f1</th>\n",
       "      <th>date</th>\n",
       "      <th>date_entered_updated</th>\n",
       "      <th>launch_time_(utc)</th>\n",
       "      <th>missile_name</th>\n",
       "      <th>missile_type</th>\n",
       "      <th>launch_agency_authority</th>\n",
       "      <th>facility_name</th>\n",
       "      <th>facility_location</th>\n",
       "      <th>other_name</th>\n",
       "      <th>facility_latitude</th>\n",
       "      <th>facility_longitude</th>\n",
       "      <th>landing_location</th>\n",
       "      <th>apogee</th>\n",
       "      <th>distance_travelled</th>\n",
       "      <th>confirmation_status</th>\n",
       "      <th>test_outcome</th>\n",
       "      <th>additional_information</th>\n",
       "      <th>source(s)</th>\n",
       "      <th>year</th>\n",
       "      <th>month</th>\n",
       "      <th>day</th>\n",
       "    </tr>\n",
       "  </thead>\n",
       "  <tbody>\n",
       "    <tr>\n",
       "      <th>0</th>\n",
       "      <td>1</td>\n",
       "      <td>1984-04-09</td>\n",
       "      <td>2016-12-23</td>\n",
       "      <td>NaN</td>\n",
       "      <td>Scud-B</td>\n",
       "      <td>SRBM</td>\n",
       "      <td>NaN</td>\n",
       "      <td>Tonghae Satellite Launching Ground</td>\n",
       "      <td>Hwadae County, North Hamgyong Province</td>\n",
       "      <td>Musudan-ri</td>\n",
       "      <td>40.849997</td>\n",
       "      <td>129.666664</td>\n",
       "      <td>Unknown</td>\n",
       "      <td>Unknown</td>\n",
       "      <td>Unknown</td>\n",
       "      <td>Confirmed</td>\n",
       "      <td>Success</td>\n",
       "      <td>First known test by North Korea of a missile w...</td>\n",
       "      <td>http://www.nti.org/media/pdfs/north_korea_miss...</td>\n",
       "      <td>1984</td>\n",
       "      <td>4</td>\n",
       "      <td>Monday</td>\n",
       "    </tr>\n",
       "    <tr>\n",
       "      <th>1</th>\n",
       "      <td>2</td>\n",
       "      <td>1984-04-09</td>\n",
       "      <td>2016-12-23</td>\n",
       "      <td>NaN</td>\n",
       "      <td>Scud-B</td>\n",
       "      <td>SRBM</td>\n",
       "      <td>NaN</td>\n",
       "      <td>Tonghae Satellite Launching Ground</td>\n",
       "      <td>Hwadae County, North Hamgyong Province</td>\n",
       "      <td>Musudan-ri</td>\n",
       "      <td>40.849997</td>\n",
       "      <td>129.666664</td>\n",
       "      <td>Unknown</td>\n",
       "      <td>Unknown</td>\n",
       "      <td>Unknown</td>\n",
       "      <td>Confirmed</td>\n",
       "      <td>Success</td>\n",
       "      <td>NaN</td>\n",
       "      <td>http://www.nti.org/media/pdfs/north_korea_miss...</td>\n",
       "      <td>1984</td>\n",
       "      <td>4</td>\n",
       "      <td>Monday</td>\n",
       "    </tr>\n",
       "    <tr>\n",
       "      <th>2</th>\n",
       "      <td>3</td>\n",
       "      <td>1984-04-09</td>\n",
       "      <td>2016-12-23</td>\n",
       "      <td>NaN</td>\n",
       "      <td>Scud-B</td>\n",
       "      <td>SRBM</td>\n",
       "      <td>NaN</td>\n",
       "      <td>Tonghae Satellite Launching Ground</td>\n",
       "      <td>Hwadae County, North Hamgyong Province</td>\n",
       "      <td>Musudan-ri</td>\n",
       "      <td>40.849997</td>\n",
       "      <td>129.666664</td>\n",
       "      <td>Unknown</td>\n",
       "      <td>200 km</td>\n",
       "      <td>Unknown</td>\n",
       "      <td>Confirmed</td>\n",
       "      <td>Success</td>\n",
       "      <td>NaN</td>\n",
       "      <td>http://www.astronautix.com/g/gitdaeryung.html;...</td>\n",
       "      <td>1984</td>\n",
       "      <td>4</td>\n",
       "      <td>Monday</td>\n",
       "    </tr>\n",
       "    <tr>\n",
       "      <th>3</th>\n",
       "      <td>4</td>\n",
       "      <td>1984-09-01</td>\n",
       "      <td>2016-12-23</td>\n",
       "      <td>NaN</td>\n",
       "      <td>Scud-B</td>\n",
       "      <td>SRBM</td>\n",
       "      <td>NaN</td>\n",
       "      <td>Tonghae Satellite Launching Ground</td>\n",
       "      <td>Hwadae County, North Hamgyong Province</td>\n",
       "      <td>Musudan-ri</td>\n",
       "      <td>40.849997</td>\n",
       "      <td>129.666664</td>\n",
       "      <td>Unknown</td>\n",
       "      <td>Unknown</td>\n",
       "      <td>Unknown</td>\n",
       "      <td>Confirmed</td>\n",
       "      <td>Failure</td>\n",
       "      <td>NaN</td>\n",
       "      <td>Joseph S. Bermudez, \"A History of Ballistic Mi...</td>\n",
       "      <td>1984</td>\n",
       "      <td>9</td>\n",
       "      <td>Saturday</td>\n",
       "    </tr>\n",
       "    <tr>\n",
       "      <th>4</th>\n",
       "      <td>5</td>\n",
       "      <td>1984-09-01</td>\n",
       "      <td>2016-12-23</td>\n",
       "      <td>NaN</td>\n",
       "      <td>Scud-B</td>\n",
       "      <td>SRBM</td>\n",
       "      <td>NaN</td>\n",
       "      <td>Tonghae Satellite Launching Ground</td>\n",
       "      <td>Hwadae County, North Hamgyong Province</td>\n",
       "      <td>Musudan-ri</td>\n",
       "      <td>40.849997</td>\n",
       "      <td>129.666664</td>\n",
       "      <td>Unknown</td>\n",
       "      <td>200 km</td>\n",
       "      <td>Unknown</td>\n",
       "      <td>Confirmed</td>\n",
       "      <td>Failure</td>\n",
       "      <td>NaN</td>\n",
       "      <td>http://www.astronautix.com/g/gitdaeryung.html;...</td>\n",
       "      <td>1984</td>\n",
       "      <td>9</td>\n",
       "      <td>Saturday</td>\n",
       "    </tr>\n",
       "  </tbody>\n",
       "</table>\n",
       "</div>"
      ],
      "text/plain": [
       "   f1       date date_entered_updated launch_time_(utc) missile_name  \\\n",
       "0   1 1984-04-09           2016-12-23               NaN       Scud-B   \n",
       "1   2 1984-04-09           2016-12-23               NaN       Scud-B   \n",
       "2   3 1984-04-09           2016-12-23               NaN       Scud-B   \n",
       "3   4 1984-09-01           2016-12-23               NaN       Scud-B   \n",
       "4   5 1984-09-01           2016-12-23               NaN       Scud-B   \n",
       "\n",
       "  missile_type launch_agency_authority                       facility_name  \\\n",
       "0         SRBM                     NaN  Tonghae Satellite Launching Ground   \n",
       "1         SRBM                     NaN  Tonghae Satellite Launching Ground   \n",
       "2         SRBM                     NaN  Tonghae Satellite Launching Ground   \n",
       "3         SRBM                     NaN  Tonghae Satellite Launching Ground   \n",
       "4         SRBM                     NaN  Tonghae Satellite Launching Ground   \n",
       "\n",
       "                        facility_location  other_name facility_latitude  \\\n",
       "0  Hwadae County, North Hamgyong Province  Musudan-ri         40.849997   \n",
       "1  Hwadae County, North Hamgyong Province  Musudan-ri         40.849997   \n",
       "2  Hwadae County, North Hamgyong Province  Musudan-ri         40.849997   \n",
       "3  Hwadae County, North Hamgyong Province  Musudan-ri         40.849997   \n",
       "4  Hwadae County, North Hamgyong Province  Musudan-ri         40.849997   \n",
       "\n",
       "  facility_longitude landing_location   apogee distance_travelled  \\\n",
       "0         129.666664          Unknown  Unknown            Unknown   \n",
       "1         129.666664          Unknown  Unknown            Unknown   \n",
       "2         129.666664          Unknown   200 km            Unknown   \n",
       "3         129.666664          Unknown  Unknown            Unknown   \n",
       "4         129.666664          Unknown   200 km            Unknown   \n",
       "\n",
       "  confirmation_status test_outcome  \\\n",
       "0           Confirmed      Success   \n",
       "1           Confirmed      Success   \n",
       "2           Confirmed      Success   \n",
       "3           Confirmed      Failure   \n",
       "4           Confirmed      Failure   \n",
       "\n",
       "                              additional_information  \\\n",
       "0  First known test by North Korea of a missile w...   \n",
       "1                                                NaN   \n",
       "2                                                NaN   \n",
       "3                                                NaN   \n",
       "4                                                NaN   \n",
       "\n",
       "                                           source(s)  year  month       day  \n",
       "0  http://www.nti.org/media/pdfs/north_korea_miss...  1984      4    Monday  \n",
       "1  http://www.nti.org/media/pdfs/north_korea_miss...  1984      4    Monday  \n",
       "2  http://www.astronautix.com/g/gitdaeryung.html;...  1984      4    Monday  \n",
       "3  Joseph S. Bermudez, \"A History of Ballistic Mi...  1984      9  Saturday  \n",
       "4  http://www.astronautix.com/g/gitdaeryung.html;...  1984      9  Saturday  "
      ]
     },
     "execution_count": 32,
     "metadata": {},
     "output_type": "execute_result"
    }
   ],
   "source": [
    "src.head()"
   ]
  }
 ],
 "metadata": {
  "kernelspec": {
   "display_name": "Python 3 (ipykernel)",
   "language": "python",
   "name": "python3"
  },
  "language_info": {
   "codemirror_mode": {
    "name": "ipython",
    "version": 3
   },
   "file_extension": ".py",
   "mimetype": "text/x-python",
   "name": "python",
   "nbconvert_exporter": "python",
   "pygments_lexer": "ipython3",
   "version": "3.8.9"
  }
 },
 "nbformat": 4,
 "nbformat_minor": 4
}
