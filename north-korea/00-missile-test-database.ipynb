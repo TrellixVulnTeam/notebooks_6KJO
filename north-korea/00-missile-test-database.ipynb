{
 "cells": [
  {
   "cell_type": "markdown",
   "metadata": {},
   "source": [
    "# The CNS North Korea Missile Test Database"
   ]
  },
  {
   "cell_type": "code",
   "execution_count": 1,
   "metadata": {},
   "outputs": [],
   "source": [
    "%load_ext lab_black"
   ]
  },
  {
   "cell_type": "code",
   "execution_count": 2,
   "metadata": {},
   "outputs": [],
   "source": [
    "import pandas as pd\n",
    "import geopandas as gpd\n",
    "import altair as alt\n",
    "import altair_grid as altgrid\n",
    "import numpy as np\n",
    "import us\n",
    "import urllib.request, json\n",
    "import glob\n",
    "import os\n",
    "import requests\n",
    "from bs4 import BeautifulSoup\n",
    "import os\n",
    "import time\n",
    "import matplotlib.pyplot as plt\n",
    "import squarify\n",
    "from matplotlib.pyplot import figure"
   ]
  },
  {
   "cell_type": "code",
   "execution_count": 3,
   "metadata": {},
   "outputs": [
    {
     "data": {
      "text/plain": [
       "<Figure size 640x480 with 0 Axes>"
      ]
     },
     "execution_count": 3,
     "metadata": {},
     "output_type": "execute_result"
    },
    {
     "data": {
      "text/plain": [
       "<Figure size 640x480 with 0 Axes>"
      ]
     },
     "metadata": {},
     "output_type": "display_data"
    }
   ],
   "source": [
    "alt.themes.register(\"grid\", altgrid.theme)\n",
    "alt.themes.enable(\"grid\")\n",
    "figure(figsize=(8, 6), dpi=80)"
   ]
  },
  {
   "cell_type": "code",
   "execution_count": 4,
   "metadata": {},
   "outputs": [
    {
     "data": {
      "text/plain": [
       "DataTransformerRegistry.enable('default')"
      ]
     },
     "execution_count": 4,
     "metadata": {},
     "output_type": "execute_result"
    }
   ],
   "source": [
    "pd.options.display.max_columns = 50\n",
    "pd.options.display.max_rows = 1000\n",
    "alt.data_transformers.disable_max_rows()"
   ]
  },
  {
   "cell_type": "markdown",
   "metadata": {},
   "source": [
    "---"
   ]
  },
  {
   "cell_type": "markdown",
   "metadata": {},
   "source": [
    "## Read data"
   ]
  },
  {
   "cell_type": "markdown",
   "metadata": {},
   "source": [
    "#### Get [list](https://missilethreat.csis.org/country/dprk/) of North Korean missiles from CSIS"
   ]
  },
  {
   "cell_type": "code",
   "execution_count": 5,
   "metadata": {},
   "outputs": [],
   "source": [
    "my_headers = {\n",
    "    \"User-Agent\": \"Mozilla/5.0 (Macintosh; Intel Mac OSX 10_14_3) AppleWebKit/537.36 (KHTML, like Gecko)Chrome/71.0.3578.98 Safari/537.36\",\n",
    "    \"Accept\": \"text/html,application/xhtml+xml,application/xml;q=0.9,image/webp,image/apng,*/*;q=0.8\",\n",
    "}"
   ]
  },
  {
   "cell_type": "code",
   "execution_count": 6,
   "metadata": {},
   "outputs": [],
   "source": [
    "missiles_url = \"https://missilethreat.csis.org/country/dprk\"\n",
    "page = requests.get(missiles_url, headers=my_headers).content"
   ]
  },
  {
   "cell_type": "code",
   "execution_count": 7,
   "metadata": {},
   "outputs": [],
   "source": [
    "missile_df = pd.read_html(page)[0].rename(\n",
    "    columns={\n",
    "        \"Missile Name\": \"name\",\n",
    "        \"Class\": \"class\",\n",
    "        \"Range\": \"range\",\n",
    "        \"Status\": \"status\",\n",
    "    }\n",
    ")"
   ]
  },
  {
   "cell_type": "code",
   "execution_count": 8,
   "metadata": {},
   "outputs": [],
   "source": [
    "missile_df[\"max_range_km\"] = (\n",
    "    missile_df[\"range\"]\n",
    "    .str.split(\" - \")\n",
    "    .str[-1]\n",
    "    .str.replace(\" km\", \"\")\n",
    "    .str.replace(\",\", \"\", regex=False)\n",
    "    .str.replace(\"+\", \"\", regex=False)\n",
    ")"
   ]
  },
  {
   "cell_type": "code",
   "execution_count": 9,
   "metadata": {},
   "outputs": [
    {
     "data": {
      "text/html": [
       "<div>\n",
       "<style scoped>\n",
       "    .dataframe tbody tr th:only-of-type {\n",
       "        vertical-align: middle;\n",
       "    }\n",
       "\n",
       "    .dataframe tbody tr th {\n",
       "        vertical-align: top;\n",
       "    }\n",
       "\n",
       "    .dataframe thead th {\n",
       "        text-align: right;\n",
       "    }\n",
       "</style>\n",
       "<table border=\"1\" class=\"dataframe\">\n",
       "  <thead>\n",
       "    <tr style=\"text-align: right;\">\n",
       "      <th></th>\n",
       "      <th>name</th>\n",
       "      <th>class</th>\n",
       "      <th>range</th>\n",
       "      <th>status</th>\n",
       "      <th>max_range_km</th>\n",
       "    </tr>\n",
       "  </thead>\n",
       "  <tbody>\n",
       "    <tr>\n",
       "      <th>0</th>\n",
       "      <td>BM-25 Musudan</td>\n",
       "      <td>IRBM</td>\n",
       "      <td>2,500 - 4,000 km</td>\n",
       "      <td>In Development</td>\n",
       "      <td>4000</td>\n",
       "    </tr>\n",
       "    <tr>\n",
       "      <th>1</th>\n",
       "      <td>Hwasong-12</td>\n",
       "      <td>IRBM</td>\n",
       "      <td>4,500 km</td>\n",
       "      <td>In Development</td>\n",
       "      <td>4500</td>\n",
       "    </tr>\n",
       "    <tr>\n",
       "      <th>2</th>\n",
       "      <td>Hwasong-13</td>\n",
       "      <td>ICBM</td>\n",
       "      <td>5,500 - 11,500 km</td>\n",
       "      <td>Never Deployed</td>\n",
       "      <td>11500</td>\n",
       "    </tr>\n",
       "    <tr>\n",
       "      <th>3</th>\n",
       "      <td>Hwasong-14</td>\n",
       "      <td>ICBM</td>\n",
       "      <td>10,400 km</td>\n",
       "      <td>Operational</td>\n",
       "      <td>10400</td>\n",
       "    </tr>\n",
       "    <tr>\n",
       "      <th>4</th>\n",
       "      <td>Hwasong-15</td>\n",
       "      <td>ICBM</td>\n",
       "      <td>8,500 - 13,000 km</td>\n",
       "      <td>In Development</td>\n",
       "      <td>13000</td>\n",
       "    </tr>\n",
       "    <tr>\n",
       "      <th>5</th>\n",
       "      <td>Hwasong-5</td>\n",
       "      <td>SRBM</td>\n",
       "      <td>300 km</td>\n",
       "      <td>Operational</td>\n",
       "      <td>300</td>\n",
       "    </tr>\n",
       "    <tr>\n",
       "      <th>6</th>\n",
       "      <td>Hwasong-6</td>\n",
       "      <td>SRBM</td>\n",
       "      <td>500 km</td>\n",
       "      <td>Operational</td>\n",
       "      <td>500</td>\n",
       "    </tr>\n",
       "    <tr>\n",
       "      <th>7</th>\n",
       "      <td>Hwasong 7 (Nodong 1)</td>\n",
       "      <td>MRBM</td>\n",
       "      <td>1,200 - 1,500 km</td>\n",
       "      <td>Operational</td>\n",
       "      <td>1500</td>\n",
       "    </tr>\n",
       "    <tr>\n",
       "      <th>8</th>\n",
       "      <td>Hwasong-9</td>\n",
       "      <td>MRBM</td>\n",
       "      <td>800 - 1,000 km</td>\n",
       "      <td>Operational</td>\n",
       "      <td>1000</td>\n",
       "    </tr>\n",
       "    <tr>\n",
       "      <th>9</th>\n",
       "      <td>KN-01</td>\n",
       "      <td>ASCM</td>\n",
       "      <td>110 - 160 km</td>\n",
       "      <td>Operational</td>\n",
       "      <td>160</td>\n",
       "    </tr>\n",
       "    <tr>\n",
       "      <th>10</th>\n",
       "      <td>KN-02 (Toksa)</td>\n",
       "      <td>SRBM</td>\n",
       "      <td>120 - 170 km</td>\n",
       "      <td>Operational</td>\n",
       "      <td>170</td>\n",
       "    </tr>\n",
       "    <tr>\n",
       "      <th>11</th>\n",
       "      <td>KN-06 (Pon’gae-5)</td>\n",
       "      <td>SAM</td>\n",
       "      <td>150 km</td>\n",
       "      <td>Operational</td>\n",
       "      <td>150</td>\n",
       "    </tr>\n",
       "    <tr>\n",
       "      <th>12</th>\n",
       "      <td>KN-09 (KN-SS-9)</td>\n",
       "      <td>MLRS</td>\n",
       "      <td>200 km</td>\n",
       "      <td>In Development</td>\n",
       "      <td>200</td>\n",
       "    </tr>\n",
       "    <tr>\n",
       "      <th>13</th>\n",
       "      <td>KN-18 (Scud MaRV)</td>\n",
       "      <td>SRBM</td>\n",
       "      <td>450+ km</td>\n",
       "      <td>In Development</td>\n",
       "      <td>450</td>\n",
       "    </tr>\n",
       "    <tr>\n",
       "      <th>14</th>\n",
       "      <td>KN-23</td>\n",
       "      <td>SRBM</td>\n",
       "      <td>450 km</td>\n",
       "      <td>Unknown</td>\n",
       "      <td>450</td>\n",
       "    </tr>\n",
       "    <tr>\n",
       "      <th>15</th>\n",
       "      <td>KN-24</td>\n",
       "      <td>SRBM</td>\n",
       "      <td>410 km</td>\n",
       "      <td>In Development</td>\n",
       "      <td>410</td>\n",
       "    </tr>\n",
       "    <tr>\n",
       "      <th>16</th>\n",
       "      <td>KN-25</td>\n",
       "      <td>SRBM</td>\n",
       "      <td>380 km</td>\n",
       "      <td>Operational</td>\n",
       "      <td>380</td>\n",
       "    </tr>\n",
       "    <tr>\n",
       "      <th>17</th>\n",
       "      <td>Koksan M1978</td>\n",
       "      <td>Artillery</td>\n",
       "      <td>40 - 60 km</td>\n",
       "      <td>Operational</td>\n",
       "      <td>60</td>\n",
       "    </tr>\n",
       "    <tr>\n",
       "      <th>18</th>\n",
       "      <td>Kumsong-3 (KN-19)</td>\n",
       "      <td>ASCM</td>\n",
       "      <td>130 - 250 km</td>\n",
       "      <td>Likely operational</td>\n",
       "      <td>250</td>\n",
       "    </tr>\n",
       "    <tr>\n",
       "      <th>19</th>\n",
       "      <td>M1985/M1991</td>\n",
       "      <td>MLRS</td>\n",
       "      <td>40 - 60 km</td>\n",
       "      <td>Operational</td>\n",
       "      <td>60</td>\n",
       "    </tr>\n",
       "    <tr>\n",
       "      <th>20</th>\n",
       "      <td>Pukguksong-1 (KN-11)</td>\n",
       "      <td>SLBM</td>\n",
       "      <td>1,200 km</td>\n",
       "      <td>In Development</td>\n",
       "      <td>1200</td>\n",
       "    </tr>\n",
       "    <tr>\n",
       "      <th>21</th>\n",
       "      <td>Pukguksong-2 (KN-15)</td>\n",
       "      <td>MRBM</td>\n",
       "      <td>1,200 - 2,000 km</td>\n",
       "      <td>Operational</td>\n",
       "      <td>2000</td>\n",
       "    </tr>\n",
       "    <tr>\n",
       "      <th>22</th>\n",
       "      <td>Pukguksong-3 (KN-26)</td>\n",
       "      <td>SLBM</td>\n",
       "      <td>1,900 km</td>\n",
       "      <td>Operational</td>\n",
       "      <td>1900</td>\n",
       "    </tr>\n",
       "    <tr>\n",
       "      <th>23</th>\n",
       "      <td>Taepodong-1</td>\n",
       "      <td>IRBM</td>\n",
       "      <td>2,000 - 5,000 km</td>\n",
       "      <td>Obsolete</td>\n",
       "      <td>5000</td>\n",
       "    </tr>\n",
       "    <tr>\n",
       "      <th>24</th>\n",
       "      <td>Taepodong-2 (Unha-3)</td>\n",
       "      <td>SLV</td>\n",
       "      <td>4,000 - 10,000 km</td>\n",
       "      <td>Operational</td>\n",
       "      <td>10000</td>\n",
       "    </tr>\n",
       "  </tbody>\n",
       "</table>\n",
       "</div>"
      ],
      "text/plain": [
       "                    name      class              range              status  \\\n",
       "0          BM-25 Musudan       IRBM   2,500 - 4,000 km      In Development   \n",
       "1             Hwasong-12       IRBM           4,500 km      In Development   \n",
       "2             Hwasong-13       ICBM  5,500 - 11,500 km      Never Deployed   \n",
       "3             Hwasong-14       ICBM          10,400 km         Operational   \n",
       "4             Hwasong-15       ICBM  8,500 - 13,000 km      In Development   \n",
       "5              Hwasong-5       SRBM             300 km         Operational   \n",
       "6              Hwasong-6       SRBM             500 km         Operational   \n",
       "7   Hwasong 7 (Nodong 1)       MRBM   1,200 - 1,500 km         Operational   \n",
       "8              Hwasong-9       MRBM     800 - 1,000 km         Operational   \n",
       "9                  KN-01       ASCM       110 - 160 km         Operational   \n",
       "10         KN-02 (Toksa)       SRBM       120 - 170 km         Operational   \n",
       "11     KN-06 (Pon’gae-5)        SAM             150 km         Operational   \n",
       "12       KN-09 (KN-SS-9)       MLRS             200 km      In Development   \n",
       "13     KN-18 (Scud MaRV)       SRBM            450+ km      In Development   \n",
       "14                 KN-23       SRBM             450 km             Unknown   \n",
       "15                 KN-24       SRBM             410 km      In Development   \n",
       "16                 KN-25       SRBM             380 km         Operational   \n",
       "17          Koksan M1978  Artillery         40 - 60 km         Operational   \n",
       "18     Kumsong-3 (KN-19)       ASCM       130 - 250 km  Likely operational   \n",
       "19           M1985/M1991       MLRS         40 - 60 km         Operational   \n",
       "20  Pukguksong-1 (KN-11)       SLBM           1,200 km      In Development   \n",
       "21  Pukguksong-2 (KN-15)       MRBM   1,200 - 2,000 km         Operational   \n",
       "22  Pukguksong-3 (KN-26)       SLBM           1,900 km         Operational   \n",
       "23           Taepodong-1       IRBM   2,000 - 5,000 km            Obsolete   \n",
       "24  Taepodong-2 (Unha-3)        SLV  4,000 - 10,000 km         Operational   \n",
       "\n",
       "   max_range_km  \n",
       "0          4000  \n",
       "1          4500  \n",
       "2         11500  \n",
       "3         10400  \n",
       "4         13000  \n",
       "5           300  \n",
       "6           500  \n",
       "7          1500  \n",
       "8          1000  \n",
       "9           160  \n",
       "10          170  \n",
       "11          150  \n",
       "12          200  \n",
       "13          450  \n",
       "14          450  \n",
       "15          410  \n",
       "16          380  \n",
       "17           60  \n",
       "18          250  \n",
       "19           60  \n",
       "20         1200  \n",
       "21         2000  \n",
       "22         1900  \n",
       "23         5000  \n",
       "24        10000  "
      ]
     },
     "execution_count": 9,
     "metadata": {},
     "output_type": "execute_result"
    }
   ],
   "source": [
    "missile_df"
   ]
  },
  {
   "cell_type": "markdown",
   "metadata": {},
   "source": [
    "---"
   ]
  },
  {
   "cell_type": "markdown",
   "metadata": {},
   "source": [
    "## Launches"
   ]
  },
  {
   "cell_type": "markdown",
   "metadata": {},
   "source": [
    "#### Download latest version of the Nuclear Threat Initiative database [here](https://beyondparallel.csis.org/database-north-korean-provocations/)"
   ]
  },
  {
   "cell_type": "code",
   "execution_count": 10,
   "metadata": {},
   "outputs": [],
   "source": [
    "url = \"https://www.nti.org/wp-content/uploads/2021/10/north_korea_missile_test_database_current-for-website.xlsx\""
   ]
  },
  {
   "cell_type": "code",
   "execution_count": 11,
   "metadata": {},
   "outputs": [],
   "source": [
    "resp = requests.get(url)\n",
    "output = open(\"data/raw/north_korea_missile_test_database.xls\", \"wb\")\n",
    "output.write(resp.content)\n",
    "output.close()"
   ]
  },
  {
   "cell_type": "markdown",
   "metadata": {},
   "source": [
    "#### Read data"
   ]
  },
  {
   "cell_type": "code",
   "execution_count": 12,
   "metadata": {},
   "outputs": [],
   "source": [
    "src = pd.read_excel(\n",
    "    \"data/raw/north_korea_missile_test_database.xls\", skiprows=1, parse_dates=[\"Date\"]\n",
    ").sort_values(\"Date\", ascending=False)[\n",
    "    [\n",
    "        \"Date\",\n",
    "        \"Date Entered/Updated\",\n",
    "        \"Launch Time (UTC)\",\n",
    "        \"Missile Name\",\n",
    "        \"Missile Type\",\n",
    "        \"Facility Name\",\n",
    "        \"Facility Location\",\n",
    "        \"Facility Latitude\",\n",
    "        \"Facility Longitude\",\n",
    "        \"Landing Location\",\n",
    "        \"Apogee\",\n",
    "        \"Distance Travelled\",\n",
    "        \"Confirmation Status\",\n",
    "        \"Test Outcome\",\n",
    "        \"Additional Information\",\n",
    "        \"Source(s)\",\n",
    "    ]\n",
    "]"
   ]
  },
  {
   "cell_type": "code",
   "execution_count": 13,
   "metadata": {},
   "outputs": [],
   "source": [
    "src.columns = (\n",
    "    src.columns.str.lower()\n",
    "    .str.replace(\" \", \"_\", regex=False)\n",
    "    .str.replace(\"/\", \"_\", regex=False)\n",
    ")"
   ]
  },
  {
   "cell_type": "markdown",
   "metadata": {},
   "source": [
    "#### Dates"
   ]
  },
  {
   "cell_type": "code",
   "execution_count": 14,
   "metadata": {},
   "outputs": [],
   "source": [
    "src[\"year\"] = src[\"date\"].dt.year.astype(str)\n",
    "src[\"month\"] = src[\"date\"].dt.month\n",
    "src[\"day\"] = src[\"date\"].dt.day\n",
    "src[\"day\"] = src[\"date\"].dt.day_name()"
   ]
  },
  {
   "cell_type": "code",
   "execution_count": 15,
   "metadata": {},
   "outputs": [],
   "source": [
    "type_lookup = {\n",
    "    \"SRBM\": \"Short-range\",\n",
    "    \"MRBM\": \"Medium-range\",\n",
    "    \"SLV\": \"Satellite launch vehicle\",\n",
    "    \"SLBM\": \"Submarine-launched\",\n",
    "    \"Unknown\": \"Unknown\",\n",
    "    \"IRBM\": \"Intermediate-range\",\n",
    "    \"ICBM\": \"Intercontinental\",\n",
    "    \"HGV\": \"Hypersonic glide vehicle\",\n",
    "}"
   ]
  },
  {
   "cell_type": "code",
   "execution_count": 16,
   "metadata": {},
   "outputs": [],
   "source": [
    "src[\"missle_type_desc\"] = src[\"missile_type\"].map(type_lookup)"
   ]
  },
  {
   "cell_type": "code",
   "execution_count": 17,
   "metadata": {},
   "outputs": [],
   "source": [
    "df = src[\n",
    "    (src[\"missile_name\"] != \"Unknown\") & (src[\"missile_type\"].str.contains(\"BM\"))\n",
    "].copy()"
   ]
  },
  {
   "cell_type": "code",
   "execution_count": 18,
   "metadata": {},
   "outputs": [],
   "source": [
    "df[\"facility_location\"] = (\n",
    "    df[\"facility_location\"].str.replace(\", (North Korea)\", \"\", regex=False).str.title()\n",
    ")"
   ]
  },
  {
   "cell_type": "code",
   "execution_count": 19,
   "metadata": {},
   "outputs": [],
   "source": [
    "df = df[(df[\"facility_latitude\"] != \"Unknown\") & (df[\"test_outcome\"] != \"Failure\")]"
   ]
  },
  {
   "cell_type": "code",
   "execution_count": 20,
   "metadata": {},
   "outputs": [
    {
     "data": {
      "text/html": [
       "<div>\n",
       "<style scoped>\n",
       "    .dataframe tbody tr th:only-of-type {\n",
       "        vertical-align: middle;\n",
       "    }\n",
       "\n",
       "    .dataframe tbody tr th {\n",
       "        vertical-align: top;\n",
       "    }\n",
       "\n",
       "    .dataframe thead th {\n",
       "        text-align: right;\n",
       "    }\n",
       "</style>\n",
       "<table border=\"1\" class=\"dataframe\">\n",
       "  <thead>\n",
       "    <tr style=\"text-align: right;\">\n",
       "      <th></th>\n",
       "      <th>date</th>\n",
       "      <th>date_entered_updated</th>\n",
       "      <th>launch_time_(utc)</th>\n",
       "      <th>missile_name</th>\n",
       "      <th>missile_type</th>\n",
       "      <th>facility_name</th>\n",
       "      <th>facility_location</th>\n",
       "      <th>facility_latitude</th>\n",
       "      <th>facility_longitude</th>\n",
       "      <th>landing_location</th>\n",
       "      <th>apogee</th>\n",
       "      <th>distance_travelled</th>\n",
       "      <th>confirmation_status</th>\n",
       "      <th>test_outcome</th>\n",
       "      <th>additional_information</th>\n",
       "      <th>source(s)</th>\n",
       "      <th>year</th>\n",
       "      <th>month</th>\n",
       "      <th>day</th>\n",
       "      <th>missle_type_desc</th>\n",
       "    </tr>\n",
       "  </thead>\n",
       "  <tbody>\n",
       "    <tr>\n",
       "      <th>202</th>\n",
       "      <td>2022-10-08</td>\n",
       "      <td>2022-10-10</td>\n",
       "      <td>16:53:00</td>\n",
       "      <td>KN-25</td>\n",
       "      <td>SRBM</td>\n",
       "      <td>Munchon</td>\n",
       "      <td>Munchon, Kangwong Province</td>\n",
       "      <td>39.2815</td>\n",
       "      <td>127.377</td>\n",
       "      <td>Sea of Japan or East Sea</td>\n",
       "      <td>90 km</td>\n",
       "      <td>350 km</td>\n",
       "      <td>Confirmed</td>\n",
       "      <td>Success</td>\n",
       "      <td>2 of 2 tests</td>\n",
       "      <td>https://en.yna.co.kr/view/AEN20221009000354325...</td>\n",
       "      <td>2022</td>\n",
       "      <td>10</td>\n",
       "      <td>Saturday</td>\n",
       "      <td>Short-range</td>\n",
       "    </tr>\n",
       "    <tr>\n",
       "      <th>201</th>\n",
       "      <td>2022-10-08</td>\n",
       "      <td>2022-10-10</td>\n",
       "      <td>16:47:00</td>\n",
       "      <td>KN-25</td>\n",
       "      <td>SRBM</td>\n",
       "      <td>Munchon</td>\n",
       "      <td>Munchon, Kangwong Province</td>\n",
       "      <td>39.2815</td>\n",
       "      <td>127.377</td>\n",
       "      <td>Sea of Japan or East Sea</td>\n",
       "      <td>90 km</td>\n",
       "      <td>350 km</td>\n",
       "      <td>Confirmed</td>\n",
       "      <td>Success</td>\n",
       "      <td>On October 9 (local time), North Korea launche...</td>\n",
       "      <td>https://en.yna.co.kr/view/AEN20221009000354325...</td>\n",
       "      <td>2022</td>\n",
       "      <td>10</td>\n",
       "      <td>Saturday</td>\n",
       "      <td>Short-range</td>\n",
       "    </tr>\n",
       "    <tr>\n",
       "      <th>200</th>\n",
       "      <td>2022-10-05</td>\n",
       "      <td>2022-10-06</td>\n",
       "      <td>21:15:00</td>\n",
       "      <td>KN-23</td>\n",
       "      <td>SRBM</td>\n",
       "      <td>Samsok</td>\n",
       "      <td>Samsok District, Pyongyang</td>\n",
       "      <td>39.1268</td>\n",
       "      <td>125.9579</td>\n",
       "      <td>Sea of Japan or East Sea</td>\n",
       "      <td>50 km</td>\n",
       "      <td>800 km</td>\n",
       "      <td>Confirmed</td>\n",
       "      <td>Success</td>\n",
       "      <td>2 of 2 tests</td>\n",
       "      <td>https://en.yna.co.kr/view/AEN20221006000853325...</td>\n",
       "      <td>2022</td>\n",
       "      <td>10</td>\n",
       "      <td>Wednesday</td>\n",
       "      <td>Short-range</td>\n",
       "    </tr>\n",
       "    <tr>\n",
       "      <th>199</th>\n",
       "      <td>2022-10-05</td>\n",
       "      <td>2022-10-06</td>\n",
       "      <td>21:00:00</td>\n",
       "      <td>KN-25</td>\n",
       "      <td>SRBM</td>\n",
       "      <td>Samsok</td>\n",
       "      <td>Samsok District, Pyongyang</td>\n",
       "      <td>39.1268</td>\n",
       "      <td>125.9579</td>\n",
       "      <td>Sea of Japan or East Sea</td>\n",
       "      <td>100 km</td>\n",
       "      <td>350 km</td>\n",
       "      <td>Confirmed</td>\n",
       "      <td>Success</td>\n",
       "      <td>Less than 24 hours after the IRBM launch, Nort...</td>\n",
       "      <td>https://en.yna.co.kr/view/AEN20221006000853325...</td>\n",
       "      <td>2022</td>\n",
       "      <td>10</td>\n",
       "      <td>Wednesday</td>\n",
       "      <td>Short-range</td>\n",
       "    </tr>\n",
       "    <tr>\n",
       "      <th>198</th>\n",
       "      <td>2022-10-03</td>\n",
       "      <td>2022-10-06</td>\n",
       "      <td>22:22:00</td>\n",
       "      <td>New IRBM (2022)</td>\n",
       "      <td>IRBM</td>\n",
       "      <td>Mupyong-ni Arms Plant</td>\n",
       "      <td>Mup'Yong-Ni, Chagang Province</td>\n",
       "      <td>40.611208</td>\n",
       "      <td>126.425743</td>\n",
       "      <td>Pacific Ocean</td>\n",
       "      <td>970 km</td>\n",
       "      <td>4500 km</td>\n",
       "      <td>Confirmed</td>\n",
       "      <td>Success</td>\n",
       "      <td>At 7:22 AM local time on 4 October 2022, North...</td>\n",
       "      <td>https://en.yna.co.kr/view/AEN20221004001354325...</td>\n",
       "      <td>2022</td>\n",
       "      <td>10</td>\n",
       "      <td>Monday</td>\n",
       "      <td>Intermediate-range</td>\n",
       "    </tr>\n",
       "  </tbody>\n",
       "</table>\n",
       "</div>"
      ],
      "text/plain": [
       "          date date_entered_updated launch_time_(utc)     missile_name  \\\n",
       "202 2022-10-08           2022-10-10          16:53:00            KN-25   \n",
       "201 2022-10-08           2022-10-10          16:47:00            KN-25   \n",
       "200 2022-10-05           2022-10-06          21:15:00            KN-23   \n",
       "199 2022-10-05           2022-10-06          21:00:00            KN-25   \n",
       "198 2022-10-03           2022-10-06          22:22:00  New IRBM (2022)   \n",
       "\n",
       "    missile_type          facility_name              facility_location  \\\n",
       "202         SRBM                Munchon     Munchon, Kangwong Province   \n",
       "201         SRBM                Munchon     Munchon, Kangwong Province   \n",
       "200         SRBM                 Samsok     Samsok District, Pyongyang   \n",
       "199         SRBM                 Samsok     Samsok District, Pyongyang   \n",
       "198         IRBM  Mupyong-ni Arms Plant  Mup'Yong-Ni, Chagang Province   \n",
       "\n",
       "    facility_latitude facility_longitude          landing_location  apogee  \\\n",
       "202           39.2815            127.377  Sea of Japan or East Sea   90 km   \n",
       "201           39.2815            127.377  Sea of Japan or East Sea   90 km   \n",
       "200           39.1268           125.9579  Sea of Japan or East Sea   50 km   \n",
       "199           39.1268           125.9579  Sea of Japan or East Sea  100 km   \n",
       "198         40.611208         126.425743             Pacific Ocean  970 km   \n",
       "\n",
       "    distance_travelled confirmation_status test_outcome  \\\n",
       "202             350 km           Confirmed      Success   \n",
       "201             350 km           Confirmed      Success   \n",
       "200             800 km           Confirmed      Success   \n",
       "199             350 km           Confirmed      Success   \n",
       "198            4500 km           Confirmed      Success   \n",
       "\n",
       "                                additional_information  \\\n",
       "202                                       2 of 2 tests   \n",
       "201  On October 9 (local time), North Korea launche...   \n",
       "200                                       2 of 2 tests   \n",
       "199  Less than 24 hours after the IRBM launch, Nort...   \n",
       "198  At 7:22 AM local time on 4 October 2022, North...   \n",
       "\n",
       "                                             source(s)  year  month  \\\n",
       "202  https://en.yna.co.kr/view/AEN20221009000354325...  2022     10   \n",
       "201  https://en.yna.co.kr/view/AEN20221009000354325...  2022     10   \n",
       "200  https://en.yna.co.kr/view/AEN20221006000853325...  2022     10   \n",
       "199  https://en.yna.co.kr/view/AEN20221006000853325...  2022     10   \n",
       "198  https://en.yna.co.kr/view/AEN20221004001354325...  2022     10   \n",
       "\n",
       "           day    missle_type_desc  \n",
       "202   Saturday         Short-range  \n",
       "201   Saturday         Short-range  \n",
       "200  Wednesday         Short-range  \n",
       "199  Wednesday         Short-range  \n",
       "198     Monday  Intermediate-range  "
      ]
     },
     "execution_count": 20,
     "metadata": {},
     "output_type": "execute_result"
    }
   ],
   "source": [
    "df.head()"
   ]
  },
  {
   "cell_type": "code",
   "execution_count": 21,
   "metadata": {},
   "outputs": [],
   "source": [
    "df[\"decade\"] = df[\"year\"].str[:3] + \"0s\""
   ]
  },
  {
   "cell_type": "markdown",
   "metadata": {},
   "source": [
    "#### Create a geodataframe"
   ]
  },
  {
   "cell_type": "code",
   "execution_count": 22,
   "metadata": {},
   "outputs": [],
   "source": [
    "gdf = gpd.GeoDataFrame(\n",
    "    df, geometry=gpd.points_from_xy(df.facility_longitude, df.facility_latitude)\n",
    ")"
   ]
  },
  {
   "cell_type": "code",
   "execution_count": 23,
   "metadata": {},
   "outputs": [],
   "source": [
    "launches_grouped = (\n",
    "    gdf.groupby(\n",
    "        [\n",
    "            # \"decade\",\n",
    "            \"facility_longitude\",\n",
    "            \"facility_latitude\",\n",
    "            \"facility_name\",\n",
    "            \"facility_location\",\n",
    "        ]\n",
    "    )\n",
    "    .size()\n",
    "    .reset_index(name=\"count\")\n",
    "    .rename(\n",
    "        columns={\"facility_longitude\": \"longitude\", \"facility_latitude\": \"latitude\"}\n",
    "    )\n",
    "    .sort_values(\"count\", ascending=False)\n",
    ")"
   ]
  },
  {
   "cell_type": "code",
   "execution_count": 24,
   "metadata": {},
   "outputs": [],
   "source": [
    "launches_counts_gdf = gpd.GeoDataFrame(\n",
    "    launches_grouped,\n",
    "    geometry=gpd.points_from_xy(launches_grouped.longitude, launches_grouped.latitude),\n",
    ")"
   ]
  },
  {
   "cell_type": "code",
   "execution_count": 25,
   "metadata": {},
   "outputs": [
    {
     "data": {
      "text/plain": [
       "<AxesSubplot:>"
      ]
     },
     "execution_count": 25,
     "metadata": {},
     "output_type": "execute_result"
    },
    {
     "data": {
      "image/png": "[encoded data removed]",
      "text/plain": [
       "<Figure size 432x288 with 1 Axes>"
      ]
     },
     "metadata": {
      "needs_background": "light"
     },
     "output_type": "display_data"
    }
   ],
   "source": [
    "launches_counts_gdf.plot()"
   ]
  },
  {
   "cell_type": "markdown",
   "metadata": {},
   "source": [
    "---"
   ]
  },
  {
   "cell_type": "markdown",
   "metadata": {},
   "source": [
    "## Aggregate"
   ]
  },
  {
   "cell_type": "markdown",
   "metadata": {},
   "source": [
    "#### Missiles by year"
   ]
  },
  {
   "cell_type": "code",
   "execution_count": 26,
   "metadata": {},
   "outputs": [],
   "source": [
    "missile_total = df.groupby([\"year\"])[\"date\"].count().reset_index(name=\"count\")"
   ]
  },
  {
   "cell_type": "code",
   "execution_count": 27,
   "metadata": {},
   "outputs": [
    {
     "data": {
      "text/html": [
       "<div>\n",
       "<style scoped>\n",
       "    .dataframe tbody tr th:only-of-type {\n",
       "        vertical-align: middle;\n",
       "    }\n",
       "\n",
       "    .dataframe tbody tr th {\n",
       "        vertical-align: top;\n",
       "    }\n",
       "\n",
       "    .dataframe thead th {\n",
       "        text-align: right;\n",
       "    }\n",
       "</style>\n",
       "<table border=\"1\" class=\"dataframe\">\n",
       "  <thead>\n",
       "    <tr style=\"text-align: right;\">\n",
       "      <th></th>\n",
       "      <th>year</th>\n",
       "      <th>count</th>\n",
       "    </tr>\n",
       "  </thead>\n",
       "  <tbody>\n",
       "    <tr>\n",
       "      <th>0</th>\n",
       "      <td>1984</td>\n",
       "      <td>3</td>\n",
       "    </tr>\n",
       "    <tr>\n",
       "      <th>1</th>\n",
       "      <td>1990</td>\n",
       "      <td>1</td>\n",
       "    </tr>\n",
       "    <tr>\n",
       "      <th>2</th>\n",
       "      <td>1991</td>\n",
       "      <td>1</td>\n",
       "    </tr>\n",
       "    <tr>\n",
       "      <th>3</th>\n",
       "      <td>1993</td>\n",
       "      <td>4</td>\n",
       "    </tr>\n",
       "    <tr>\n",
       "      <th>4</th>\n",
       "      <td>2006</td>\n",
       "      <td>6</td>\n",
       "    </tr>\n",
       "  </tbody>\n",
       "</table>\n",
       "</div>"
      ],
      "text/plain": [
       "   year  count\n",
       "0  1984      3\n",
       "1  1990      1\n",
       "2  1991      1\n",
       "3  1993      4\n",
       "4  2006      6"
      ]
     },
     "execution_count": 27,
     "metadata": {},
     "output_type": "execute_result"
    }
   ],
   "source": [
    "missile_total.head()"
   ]
  },
  {
   "cell_type": "markdown",
   "metadata": {},
   "source": [
    "#### Fill in missing years "
   ]
  },
  {
   "cell_type": "code",
   "execution_count": 28,
   "metadata": {},
   "outputs": [],
   "source": [
    "dummy = pd.read_csv(\n",
    "    \"https://docs.google.com/spreadsheets/d/e/2PACX-1vT1tUkO4UkOeOl5_O_j5yEHplUJF1NLC1u55kCWg_1HsbTputy80dZJubTzCdHCKPmTgMS8V9KS6cmM/pub?gid=687150892&single=true&output=csv\",\n",
    "    dtype={\"year\": str},\n",
    ")"
   ]
  },
  {
   "cell_type": "code",
   "execution_count": 29,
   "metadata": {},
   "outputs": [],
   "source": [
    "missile_total_all = pd.merge(missile_total, dummy, on=[\"year\"], how=\"right\").fillna(0)"
   ]
  },
  {
   "cell_type": "code",
   "execution_count": 30,
   "metadata": {},
   "outputs": [
    {
     "data": {
      "text/html": [
       "\n",
       "<div id=\"altair-viz-1db34d72765c42a59239f06dbc7567e6\"></div>\n",
       "<script type=\"text/javascript\">\n",
       "  var VEGA_DEBUG = (typeof VEGA_DEBUG == \"undefined\") ? {} : VEGA_DEBUG;\n",
       "  (function(spec, embedOpt){\n",
       "    let outputDiv = document.currentScript.previousElementSibling;\n",
       "    if (outputDiv.id !== \"altair-viz-1db34d72765c42a59239f06dbc7567e6\") {\n",
       "      outputDiv = document.getElementById(\"altair-viz-1db34d72765c42a59239f06dbc7567e6\");\n",
       "    }\n",
       "    const paths = {\n",
       "      \"vega\": \"https://cdn.jsdelivr.net/npm//vega@5?noext\",\n",
       "      \"vega-lib\": \"https://cdn.jsdelivr.net/npm//vega-lib?noext\",\n",
       "      \"vega-lite\": \"https://cdn.jsdelivr.net/npm//vega-lite@4.17.0?noext\",\n",
       "      \"vega-embed\": \"https://cdn.jsdelivr.net/npm//vega-embed@6?noext\",\n",
       "    };\n",
       "\n",
       "    function maybeLoadScript(lib, version) {\n",
       "      var key = `${lib.replace(\"-\", \"\")}_version`;\n",
       "      return (VEGA_DEBUG[key] == version) ?\n",
       "        Promise.resolve(paths[lib]) :\n",
       "        new Promise(function(resolve, reject) {\n",
       "          var s = document.createElement('script');\n",
       "          document.getElementsByTagName(\"head\")[0].appendChild(s);\n",
       "          s.async = true;\n",
       "          s.onload = () => {\n",
       "            VEGA_DEBUG[key] = version;\n",
       "            return resolve(paths[lib]);\n",
       "          };\n",
       "          s.onerror = () => reject(`Error loading script: ${paths[lib]}`);\n",
       "          s.src = paths[lib];\n",
       "        });\n",
       "    }\n",
       "\n",
       "    function showError(err) {\n",
       "      outputDiv.innerHTML = `<div class=\"error\" style=\"color:red;\">${err}</div>`;\n",
       "      throw err;\n",
       "    }\n",
       "\n",
       "    function displayChart(vegaEmbed) {\n",
       "      vegaEmbed(outputDiv, spec, embedOpt)\n",
       "        .catch(err => showError(`Javascript Error: ${err.message}<br>This usually means there's a typo in your chart specification. See the javascript console for the full traceback.`));\n",
       "    }\n",
       "\n",
       "    if(typeof define === \"function\" && define.amd) {\n",
       "      requirejs.config({paths});\n",
       "      require([\"vega-embed\"], displayChart, err => showError(`Error loading script: ${err.message}`));\n",
       "    } else {\n",
       "      maybeLoadScript(\"vega\", \"5\")\n",
       "        .then(() => maybeLoadScript(\"vega-lite\", \"4.17.0\"))\n",
       "        .then(() => maybeLoadScript(\"vega-embed\", \"6\"))\n",
       "        .catch(showError)\n",
       "        .then(() => displayChart(vegaEmbed));\n",
       "    }\n",
       "  })({\"config\": {\"view\": {\"width\": 800, \"height\": 450, \"strokeOpacity\": 0}, \"background\": \"#ffffff\", \"title\": {\"anchor\": \"start\", \"font\": \"Summit Sans\", \"fontColor\": \"palette[\\\"black\\\"]\", \"fontSize\": 18, \"fontWeight\": \"normal\"}, \"arc\": {\"fill\": \"#00d4d8\"}, \"area\": {\"fill\": \"#00d4d8\"}, \"line\": {\"stroke\": \"#00d4d8\", \"strokeWidth\": 3}, \"path\": {\"stroke\": \"#00d4d8\"}, \"rect\": {\"fill\": \"#00d4d8\"}, \"shape\": {\"stroke\": \"#00d4d8\"}, \"bar\": {\"fill\": \"#00d4d8\"}, \"point\": {\"stroke\": \"#00d4d8\"}, \"symbol\": {\"fill\": \"#00d4d8\", \"size\": 30}, \"axis\": {\"titleFont\": \"Roboto\", \"titleFontSize\": 15, \"titleFontWeight\": \"normal\", \"labelFont\": \"Roboto, sans\", \"labelFontSize\": 13, \"labelFontWeight\": \"normal\"}, \"axisX\": {\"labelAngle\": 0, \"labelPadding\": 6, \"tickSize\": 3, \"grid\": false}, \"axisY\": {\"labelBaseline\": \"middle\", \"maxExtent\": 45, \"minExtent\": 45, \"titleAlign\": \"left\", \"titleAngle\": 0, \"titleX\": -45, \"titleY\": -11, \"domainOpacity\": 0, \"gridWidth\": 0.6, \"gridColor\": \"#dddddd\", \"offset\": 6, \"tickSize\": 0, \"titleColor\": \"#767676\"}, \"legend\": {\"titleFont\": \"Roboto\", \"titleFontSize\": 15, \"titleFontWeight\": \"normal\", \"symbolType\": \"square\", \"labelFont\": \"Roboto, sans\", \"labelFontSize\": 13}, \"range\": {\"category\": [\"#005f66\", \"#e37e2d\", \"#d64a3b\", \"#76b0ef\", \"#c1bc40\"], \"diverging\": [\"#e68a4f\", \"#f4bb6a\", \"#f9e39c\", \"#dadfe2\", \"#a6b7c6\", \"#849eae\"], \"heatmap\": [\"#7ff6f6\", \"#00eeef\", \"#00d4d8\", \"#00abb2\", \"#00848b\", \"#fbf2c7\", \"#00363d\"], \"ordinal\": [\"#7ff6f6\", \"#00eeef\", \"#00d4d8\", \"#00abb2\", \"#00848b\", \"#fbf2c7\", \"#00363d\"], \"ramp\": [\"#7ff6f6\", \"#00eeef\", \"#00d4d8\", \"#00abb2\", \"#00848b\", \"#fbf2c7\", \"#00363d\"]}}, \"data\": {\"name\": \"data-f20c8e1f307956b553bd71babd65d5cb\"}, \"mark\": \"bar\", \"encoding\": {\"x\": {\"axis\": {\"values\": [\"1960\", \"1970\", \"1980\", \"1990\", \"2000\", \"2010\", \"2022\"]}, \"field\": \"year\", \"title\": \"\", \"type\": \"nominal\"}, \"y\": {\"axis\": {\"tickCount\": 6}, \"field\": \"count\", \"title\": \"\", \"type\": \"quantitative\"}}, \"height\": 300, \"title\": \"North Korea successful ballistic missile launches, by year\", \"width\": 650, \"$schema\": \"https://vega.github.io/schema/vega-lite/v4.17.0.json\", \"datasets\": {\"data-f20c8e1f307956b553bd71babd65d5cb\": [{\"year\": \"1960\", \"count\": 0.0}, {\"year\": \"1961\", \"count\": 0.0}, {\"year\": \"1962\", \"count\": 0.0}, {\"year\": \"1963\", \"count\": 0.0}, {\"year\": \"1964\", \"count\": 0.0}, {\"year\": \"1965\", \"count\": 0.0}, {\"year\": \"1966\", \"count\": 0.0}, {\"year\": \"1967\", \"count\": 0.0}, {\"year\": \"1968\", \"count\": 0.0}, {\"year\": \"1969\", \"count\": 0.0}, {\"year\": \"1970\", \"count\": 0.0}, {\"year\": \"1971\", \"count\": 0.0}, {\"year\": \"1972\", \"count\": 0.0}, {\"year\": \"1973\", \"count\": 0.0}, {\"year\": \"1974\", \"count\": 0.0}, {\"year\": \"1975\", \"count\": 0.0}, {\"year\": \"1976\", \"count\": 0.0}, {\"year\": \"1977\", \"count\": 0.0}, {\"year\": \"1978\", \"count\": 0.0}, {\"year\": \"1979\", \"count\": 0.0}, {\"year\": \"1980\", \"count\": 0.0}, {\"year\": \"1981\", \"count\": 0.0}, {\"year\": \"1982\", \"count\": 0.0}, {\"year\": \"1983\", \"count\": 0.0}, {\"year\": \"1984\", \"count\": 3.0}, {\"year\": \"1985\", \"count\": 0.0}, {\"year\": \"1986\", \"count\": 0.0}, {\"year\": \"1987\", \"count\": 0.0}, {\"year\": \"1988\", \"count\": 0.0}, {\"year\": \"1989\", \"count\": 0.0}, {\"year\": \"1990\", \"count\": 1.0}, {\"year\": \"1991\", \"count\": 1.0}, {\"year\": \"1992\", \"count\": 0.0}, {\"year\": \"1993\", \"count\": 4.0}, {\"year\": \"1994\", \"count\": 0.0}, {\"year\": \"1995\", \"count\": 0.0}, {\"year\": \"1996\", \"count\": 0.0}, {\"year\": \"1997\", \"count\": 0.0}, {\"year\": \"1998\", \"count\": 0.0}, {\"year\": \"1999\", \"count\": 0.0}, {\"year\": \"2000\", \"count\": 0.0}, {\"year\": \"2001\", \"count\": 0.0}, {\"year\": \"2002\", \"count\": 0.0}, {\"year\": \"2003\", \"count\": 0.0}, {\"year\": \"2004\", \"count\": 0.0}, {\"year\": \"2005\", \"count\": 0.0}, {\"year\": \"2006\", \"count\": 6.0}, {\"year\": \"2007\", \"count\": 0.0}, {\"year\": \"2008\", \"count\": 0.0}, {\"year\": \"2009\", \"count\": 7.0}, {\"year\": \"2010\", \"count\": 0.0}, {\"year\": \"2011\", \"count\": 0.0}, {\"year\": \"2012\", \"count\": 0.0}, {\"year\": \"2013\", \"count\": 6.0}, {\"year\": \"2014\", \"count\": 18.0}, {\"year\": \"2015\", \"count\": 13.0}, {\"year\": \"2016\", \"count\": 13.0}, {\"year\": \"2017\", \"count\": 15.0}, {\"year\": \"2018\", \"count\": 0.0}, {\"year\": \"2019\", \"count\": 21.0}, {\"year\": \"2020\", \"count\": 9.0}, {\"year\": \"2021\", \"count\": 5.0}, {\"year\": \"2022\", \"count\": 24.0}]}}, {\"mode\": \"vega-lite\"});\n",
       "</script>"
      ],
      "text/plain": [
       "alt.Chart(...)"
      ]
     },
     "execution_count": 30,
     "metadata": {},
     "output_type": "execute_result"
    }
   ],
   "source": [
    "bars = (\n",
    "    alt.Chart(missile_total_all)\n",
    "    .mark_bar()\n",
    "    .encode(\n",
    "        x=alt.X(\n",
    "            \"year:N\",\n",
    "            axis=alt.Axis(\n",
    "                values=[\"1960\", \"1970\", \"1980\", \"1990\", \"2000\", \"2010\", \"2022\"],\n",
    "            ),\n",
    "            title=\"\",\n",
    "        ),\n",
    "        y=alt.Y(\"count:Q\", axis=alt.Axis(tickCount=6), title=\"\"),\n",
    "    )\n",
    ")\n",
    "\n",
    "# text = bars.mark_text(\n",
    "#     align=\"left\",\n",
    "#     baseline=\"middle\",\n",
    "#     dx=-6,\n",
    "#     dy=-8,\n",
    "# ).encode(text=\"count:Q\")\n",
    "\n",
    "(bars).properties(\n",
    "    height=300,\n",
    "    width=650,\n",
    "    title=\"North Korea successful ballistic missile launches, by year\",\n",
    ")"
   ]
  },
  {
   "cell_type": "markdown",
   "metadata": {},
   "source": [
    "#### Missile types, by year"
   ]
  },
  {
   "cell_type": "code",
   "execution_count": 43,
   "metadata": {},
   "outputs": [],
   "source": [
    "missile_types_src = (\n",
    "    df.groupby([\"year\", \"missile_type\", \"missle_type_desc\"])[\"date\"]\n",
    "    .count()\n",
    "    .reset_index(name=\"count\")\n",
    ")"
   ]
  },
  {
   "cell_type": "code",
   "execution_count": 46,
   "metadata": {},
   "outputs": [],
   "source": [
    "missile_types_src.head()"
   ]
  },
  {
   "cell_type": "code",
   "execution_count": 57,
   "metadata": {},
   "outputs": [],
   "source": [
    "dummy2 = pd.read_csv(\n",
    "    \"https://docs.google.com/spreadsheets/d/e/2PACX-1vT1tUkO4UkOeOl5_O_j5yEHplUJF1NLC1u55kCWg_1HsbTputy80dZJubTzCdHCKPmTgMS8V9KS6cmM/pub?gid=2045819622&single=true&output=csv\",\n",
    "    dtype={\"year\": str},\n",
    ")"
   ]
  },
  {
   "cell_type": "code",
   "execution_count": 59,
   "metadata": {},
   "outputs": [],
   "source": [
    "missile_total_all = pd.merge(\n",
    "    missile_types_src,\n",
    "    dummy2,\n",
    "    on=[\"year\", \"missle_type_desc\", \"missile_type\"],\n",
    "    how=\"right\",\n",
    ").fillna(0)"
   ]
  },
  {
   "cell_type": "code",
   "execution_count": 61,
   "metadata": {},
   "outputs": [
    {
     "data": {
      "text/html": [
       "<div>\n",
       "<style scoped>\n",
       "    .dataframe tbody tr th:only-of-type {\n",
       "        vertical-align: middle;\n",
       "    }\n",
       "\n",
       "    .dataframe tbody tr th {\n",
       "        vertical-align: top;\n",
       "    }\n",
       "\n",
       "    .dataframe thead th {\n",
       "        text-align: right;\n",
       "    }\n",
       "</style>\n",
       "<table border=\"1\" class=\"dataframe\">\n",
       "  <thead>\n",
       "    <tr style=\"text-align: right;\">\n",
       "      <th></th>\n",
       "      <th>year</th>\n",
       "      <th>missile_type</th>\n",
       "      <th>missle_type_desc</th>\n",
       "      <th>count</th>\n",
       "    </tr>\n",
       "  </thead>\n",
       "  <tbody>\n",
       "    <tr>\n",
       "      <th>0</th>\n",
       "      <td>1960</td>\n",
       "      <td>IRBM</td>\n",
       "      <td>Intermediate-range</td>\n",
       "      <td>0.0</td>\n",
       "    </tr>\n",
       "    <tr>\n",
       "      <th>1</th>\n",
       "      <td>1961</td>\n",
       "      <td>IRBM</td>\n",
       "      <td>Intermediate-range</td>\n",
       "      <td>0.0</td>\n",
       "    </tr>\n",
       "    <tr>\n",
       "      <th>2</th>\n",
       "      <td>1962</td>\n",
       "      <td>IRBM</td>\n",
       "      <td>Intermediate-range</td>\n",
       "      <td>0.0</td>\n",
       "    </tr>\n",
       "    <tr>\n",
       "      <th>3</th>\n",
       "      <td>1963</td>\n",
       "      <td>IRBM</td>\n",
       "      <td>Intermediate-range</td>\n",
       "      <td>0.0</td>\n",
       "    </tr>\n",
       "    <tr>\n",
       "      <th>4</th>\n",
       "      <td>1964</td>\n",
       "      <td>IRBM</td>\n",
       "      <td>Intermediate-range</td>\n",
       "      <td>0.0</td>\n",
       "    </tr>\n",
       "  </tbody>\n",
       "</table>\n",
       "</div>"
      ],
      "text/plain": [
       "   year missile_type    missle_type_desc  count\n",
       "0  1960         IRBM  Intermediate-range    0.0\n",
       "1  1961         IRBM  Intermediate-range    0.0\n",
       "2  1962         IRBM  Intermediate-range    0.0\n",
       "3  1963         IRBM  Intermediate-range    0.0\n",
       "4  1964         IRBM  Intermediate-range    0.0"
      ]
     },
     "execution_count": 61,
     "metadata": {},
     "output_type": "execute_result"
    }
   ],
   "source": [
    "missile_total_all.head()"
   ]
  },
  {
   "cell_type": "code",
   "execution_count": 33,
   "metadata": {},
   "outputs": [],
   "source": [
    "missile_treemap = (\n",
    "    df.groupby([\"year\", \"missile_type\", \"missle_type_desc\"])[\"date\"]\n",
    "    .count()\n",
    "    .reset_index(name=\"count\")\n",
    ").sort_values(\"missle_type_desc\")"
   ]
  },
  {
   "cell_type": "code",
   "execution_count": 34,
   "metadata": {},
   "outputs": [],
   "source": [
    "thisyear = missile_treemap[missile_treemap[\"year\"] == \"2022\"]"
   ]
  },
  {
   "cell_type": "code",
   "execution_count": 35,
   "metadata": {},
   "outputs": [],
   "source": [
    "otheryears = (\n",
    "    missile_treemap[missile_treemap[\"year\"] != \"2022\"]\n",
    "    .groupby([\"missle_type_desc\"])[\"count\"]\n",
    "    .sum()\n",
    "    .reset_index()\n",
    "    .sort_values(\"missle_type_desc\")\n",
    ")"
   ]
  },
  {
   "cell_type": "code",
   "execution_count": 36,
   "metadata": {},
   "outputs": [
    {
     "data": {
      "text/html": [
       "<div>\n",
       "<style scoped>\n",
       "    .dataframe tbody tr th:only-of-type {\n",
       "        vertical-align: middle;\n",
       "    }\n",
       "\n",
       "    .dataframe tbody tr th {\n",
       "        vertical-align: top;\n",
       "    }\n",
       "\n",
       "    .dataframe thead th {\n",
       "        text-align: right;\n",
       "    }\n",
       "</style>\n",
       "<table border=\"1\" class=\"dataframe\">\n",
       "  <thead>\n",
       "    <tr style=\"text-align: right;\">\n",
       "      <th></th>\n",
       "      <th>missle_type_desc</th>\n",
       "      <th>count</th>\n",
       "    </tr>\n",
       "  </thead>\n",
       "  <tbody>\n",
       "    <tr>\n",
       "      <th>0</th>\n",
       "      <td>Intercontinental</td>\n",
       "      <td>3</td>\n",
       "    </tr>\n",
       "    <tr>\n",
       "      <th>1</th>\n",
       "      <td>Intermediate-range</td>\n",
       "      <td>4</td>\n",
       "    </tr>\n",
       "    <tr>\n",
       "      <th>2</th>\n",
       "      <td>Medium-range</td>\n",
       "      <td>21</td>\n",
       "    </tr>\n",
       "    <tr>\n",
       "      <th>3</th>\n",
       "      <td>Short-range</td>\n",
       "      <td>89</td>\n",
       "    </tr>\n",
       "    <tr>\n",
       "      <th>4</th>\n",
       "      <td>Submarine-launched</td>\n",
       "      <td>5</td>\n",
       "    </tr>\n",
       "  </tbody>\n",
       "</table>\n",
       "</div>"
      ],
      "text/plain": [
       "     missle_type_desc  count\n",
       "0    Intercontinental      3\n",
       "1  Intermediate-range      4\n",
       "2        Medium-range     21\n",
       "3         Short-range     89\n",
       "4  Submarine-launched      5"
      ]
     },
     "execution_count": 36,
     "metadata": {},
     "output_type": "execute_result"
    }
   ],
   "source": [
    "otheryears"
   ]
  },
  {
   "cell_type": "code",
   "execution_count": 37,
   "metadata": {},
   "outputs": [
    {
     "data": {
      "text/html": [
       "<div>\n",
       "<style scoped>\n",
       "    .dataframe tbody tr th:only-of-type {\n",
       "        vertical-align: middle;\n",
       "    }\n",
       "\n",
       "    .dataframe tbody tr th {\n",
       "        vertical-align: top;\n",
       "    }\n",
       "\n",
       "    .dataframe thead th {\n",
       "        text-align: right;\n",
       "    }\n",
       "</style>\n",
       "<table border=\"1\" class=\"dataframe\">\n",
       "  <thead>\n",
       "    <tr style=\"text-align: right;\">\n",
       "      <th></th>\n",
       "      <th>year</th>\n",
       "      <th>missile_type</th>\n",
       "      <th>missle_type_desc</th>\n",
       "      <th>count</th>\n",
       "    </tr>\n",
       "  </thead>\n",
       "  <tbody>\n",
       "    <tr>\n",
       "      <th>27</th>\n",
       "      <td>2022</td>\n",
       "      <td>ICBM</td>\n",
       "      <td>Intercontinental</td>\n",
       "      <td>1</td>\n",
       "    </tr>\n",
       "    <tr>\n",
       "      <th>28</th>\n",
       "      <td>2022</td>\n",
       "      <td>IRBM</td>\n",
       "      <td>Intermediate-range</td>\n",
       "      <td>2</td>\n",
       "    </tr>\n",
       "    <tr>\n",
       "      <th>29</th>\n",
       "      <td>2022</td>\n",
       "      <td>MRBM</td>\n",
       "      <td>Medium-range</td>\n",
       "      <td>2</td>\n",
       "    </tr>\n",
       "    <tr>\n",
       "      <th>31</th>\n",
       "      <td>2022</td>\n",
       "      <td>SRBM</td>\n",
       "      <td>Short-range</td>\n",
       "      <td>18</td>\n",
       "    </tr>\n",
       "    <tr>\n",
       "      <th>30</th>\n",
       "      <td>2022</td>\n",
       "      <td>SLBM</td>\n",
       "      <td>Submarine-launched</td>\n",
       "      <td>1</td>\n",
       "    </tr>\n",
       "  </tbody>\n",
       "</table>\n",
       "</div>"
      ],
      "text/plain": [
       "    year missile_type    missle_type_desc  count\n",
       "27  2022         ICBM    Intercontinental      1\n",
       "28  2022         IRBM  Intermediate-range      2\n",
       "29  2022         MRBM        Medium-range      2\n",
       "31  2022         SRBM         Short-range     18\n",
       "30  2022         SLBM  Submarine-launched      1"
      ]
     },
     "execution_count": 37,
     "metadata": {},
     "output_type": "execute_result"
    }
   ],
   "source": [
    "thisyear"
   ]
  },
  {
   "cell_type": "code",
   "execution_count": 38,
   "metadata": {},
   "outputs": [
    {
     "data": {
      "image/png": "[encoded data removed]",
      "text/plain": [
       "<Figure size 1000x500 with 1 Axes>"
      ]
     },
     "metadata": {
      "needs_background": "light"
     },
     "output_type": "display_data"
    }
   ],
   "source": [
    "figure(figsize=(10, 5), dpi=100)\n",
    "\n",
    "squarify.plot(\n",
    "    sizes=otheryears[\"count\"],\n",
    "    label=otheryears[\"missle_type_desc\"],\n",
    "    color=[\n",
    "        \"#005f66\",\n",
    "        \"#e37e2d\",\n",
    "        \"#d64a3b\",\n",
    "        \"#c1bc40\",\n",
    "        \"#76b0ef\",\n",
    "    ],\n",
    "    alpha=0.8,\n",
    "    text_kwargs={\"fontsize\": 13, \"color\": \"#ffffff\", \"fontfamily\": \"Roboto\"},\n",
    ")\n",
    "plt.axis(\"off\")\n",
    "plt.show()"
   ]
  },
  {
   "cell_type": "code",
   "execution_count": 39,
   "metadata": {},
   "outputs": [
    {
     "data": {
      "text/plain": [
       "SRBM    15\n",
       "MRBM     7\n",
       "SLBM     5\n",
       "IRBM     3\n",
       "ICBM     2\n",
       "Name: missile_type, dtype: int64"
      ]
     },
     "execution_count": 39,
     "metadata": {},
     "output_type": "execute_result"
    }
   ],
   "source": [
    "missile_types[\"missile_type\"].value_counts()"
   ]
  },
  {
   "cell_type": "markdown",
   "metadata": {},
   "source": [
    "---"
   ]
  },
  {
   "cell_type": "code",
   "execution_count": 81,
   "metadata": {},
   "outputs": [
    {
     "data": {
      "text/html": [
       "\n",
       "<div id=\"altair-viz-fe5fa8ff3563464f933888e37d2d7a80\"></div>\n",
       "<script type=\"text/javascript\">\n",
       "  var VEGA_DEBUG = (typeof VEGA_DEBUG == \"undefined\") ? {} : VEGA_DEBUG;\n",
       "  (function(spec, embedOpt){\n",
       "    let outputDiv = document.currentScript.previousElementSibling;\n",
       "    if (outputDiv.id !== \"altair-viz-fe5fa8ff3563464f933888e37d2d7a80\") {\n",
       "      outputDiv = document.getElementById(\"altair-viz-fe5fa8ff3563464f933888e37d2d7a80\");\n",
       "    }\n",
       "    const paths = {\n",
       "      \"vega\": \"https://cdn.jsdelivr.net/npm//vega@5?noext\",\n",
       "      \"vega-lib\": \"https://cdn.jsdelivr.net/npm//vega-lib?noext\",\n",
       "      \"vega-lite\": \"https://cdn.jsdelivr.net/npm//vega-lite@4.17.0?noext\",\n",
       "      \"vega-embed\": \"https://cdn.jsdelivr.net/npm//vega-embed@6?noext\",\n",
       "    };\n",
       "\n",
       "    function maybeLoadScript(lib, version) {\n",
       "      var key = `${lib.replace(\"-\", \"\")}_version`;\n",
       "      return (VEGA_DEBUG[key] == version) ?\n",
       "        Promise.resolve(paths[lib]) :\n",
       "        new Promise(function(resolve, reject) {\n",
       "          var s = document.createElement('script');\n",
       "          document.getElementsByTagName(\"head\")[0].appendChild(s);\n",
       "          s.async = true;\n",
       "          s.onload = () => {\n",
       "            VEGA_DEBUG[key] = version;\n",
       "            return resolve(paths[lib]);\n",
       "          };\n",
       "          s.onerror = () => reject(`Error loading script: ${paths[lib]}`);\n",
       "          s.src = paths[lib];\n",
       "        });\n",
       "    }\n",
       "\n",
       "    function showError(err) {\n",
       "      outputDiv.innerHTML = `<div class=\"error\" style=\"color:red;\">${err}</div>`;\n",
       "      throw err;\n",
       "    }\n",
       "\n",
       "    function displayChart(vegaEmbed) {\n",
       "      vegaEmbed(outputDiv, spec, embedOpt)\n",
       "        .catch(err => showError(`Javascript Error: ${err.message}<br>This usually means there's a typo in your chart specification. See the javascript console for the full traceback.`));\n",
       "    }\n",
       "\n",
       "    if(typeof define === \"function\" && define.amd) {\n",
       "      requirejs.config({paths});\n",
       "      require([\"vega-embed\"], displayChart, err => showError(`Error loading script: ${err.message}`));\n",
       "    } else {\n",
       "      maybeLoadScript(\"vega\", \"5\")\n",
       "        .then(() => maybeLoadScript(\"vega-lite\", \"4.17.0\"))\n",
       "        .then(() => maybeLoadScript(\"vega-embed\", \"6\"))\n",
       "        .catch(showError)\n",
       "        .then(() => displayChart(vegaEmbed));\n",
       "    }\n",
       "  })({\"config\": {\"view\": {\"width\": 800, \"height\": 450, \"strokeOpacity\": 0}, \"background\": \"#ffffff\", \"title\": {\"anchor\": \"start\", \"font\": \"Summit Sans\", \"fontColor\": \"palette[\\\"black\\\"]\", \"fontSize\": 18, \"fontWeight\": \"normal\"}, \"arc\": {\"fill\": \"#00d4d8\"}, \"area\": {\"fill\": \"#00d4d8\"}, \"line\": {\"stroke\": \"#00d4d8\", \"strokeWidth\": 3}, \"path\": {\"stroke\": \"#00d4d8\"}, \"rect\": {\"fill\": \"#00d4d8\"}, \"shape\": {\"stroke\": \"#00d4d8\"}, \"bar\": {\"fill\": \"#00d4d8\"}, \"point\": {\"stroke\": \"#00d4d8\"}, \"symbol\": {\"fill\": \"#00d4d8\", \"size\": 30}, \"axis\": {\"titleFont\": \"Roboto\", \"titleFontSize\": 15, \"titleFontWeight\": \"normal\", \"labelFont\": \"Roboto, sans\", \"labelFontSize\": 13, \"labelFontWeight\": \"normal\"}, \"axisX\": {\"labelAngle\": 0, \"labelPadding\": 6, \"tickSize\": 3, \"grid\": false}, \"axisY\": {\"labelBaseline\": \"middle\", \"maxExtent\": 45, \"minExtent\": 45, \"titleAlign\": \"left\", \"titleAngle\": 0, \"titleX\": -45, \"titleY\": -11, \"domainOpacity\": 0, \"gridWidth\": 0.6, \"gridColor\": \"#dddddd\", \"offset\": 6, \"tickSize\": 0, \"titleColor\": \"#767676\"}, \"legend\": {\"titleFont\": \"Roboto\", \"titleFontSize\": 15, \"titleFontWeight\": \"normal\", \"symbolType\": \"circle\", \"labelFont\": \"Roboto, sans\", \"labelFontSize\": 13}, \"range\": {\"category\": [\"#005f66\", \"#e37e2d\", \"#d64a3b\", \"#76b0ef\", \"#c1bc40\"], \"diverging\": [\"#e68a4f\", \"#f4bb6a\", \"#f9e39c\", \"#dadfe2\", \"#a6b7c6\", \"#849eae\"], \"heatmap\": [\"#7ff6f6\", \"#00eeef\", \"#00d4d8\", \"#00abb2\", \"#00848b\", \"#fbf2c7\", \"#00363d\"], \"ordinal\": [\"#7ff6f6\", \"#00eeef\", \"#00d4d8\", \"#00abb2\", \"#00848b\", \"#fbf2c7\", \"#00363d\"], \"ramp\": [\"#7ff6f6\", \"#00eeef\", \"#00d4d8\", \"#00abb2\", \"#00848b\", \"#fbf2c7\", \"#00363d\"]}}, \"data\": {\"name\": \"data-6de678abed4226d6c397ea9890263a88\"}, \"mark\": {\"type\": \"circle\", \"opacity\": 0.6, \"stroke\": \"#1a1a1a\", \"strokeWidth\": 0}, \"encoding\": {\"color\": {\"field\": \"missile_type\", \"legend\": null, \"type\": \"nominal\"}, \"size\": {\"field\": \"count\", \"scale\": {\"range\": [0, 2000]}, \"title\": \"Missle count\", \"type\": \"quantitative\"}, \"x\": {\"axis\": {\"values\": [\"1960\", \"1970\", \"1980\", \"1990\", \"2000\", \"2010\", \"2022\"]}, \"field\": \"year\", \"title\": \" \", \"type\": \"ordinal\"}, \"y\": {\"field\": \"missle_type_desc\", \"title\": \" \", \"type\": \"nominal\"}}, \"height\": 200, \"title\": \"North Korea ballistic missile launches, by type, count and year\", \"width\": 650, \"$schema\": \"https://vega.github.io/schema/vega-lite/v4.17.0.json\", \"datasets\": {\"data-6de678abed4226d6c397ea9890263a88\": [{\"year\": \"1980\", \"missile_type\": \"IRBM\", \"missle_type_desc\": \"Intermediate-range\", \"count\": 0.0}, {\"year\": \"1981\", \"missile_type\": \"IRBM\", \"missle_type_desc\": \"Intermediate-range\", \"count\": 0.0}, {\"year\": \"1982\", \"missile_type\": \"IRBM\", \"missle_type_desc\": \"Intermediate-range\", \"count\": 0.0}, {\"year\": \"1983\", \"missile_type\": \"IRBM\", \"missle_type_desc\": \"Intermediate-range\", \"count\": 0.0}, {\"year\": \"1984\", \"missile_type\": \"IRBM\", \"missle_type_desc\": \"Intermediate-range\", \"count\": 0.0}, {\"year\": \"1985\", \"missile_type\": \"IRBM\", \"missle_type_desc\": \"Intermediate-range\", \"count\": 0.0}, {\"year\": \"1986\", \"missile_type\": \"IRBM\", \"missle_type_desc\": \"Intermediate-range\", \"count\": 0.0}, {\"year\": \"1987\", \"missile_type\": \"IRBM\", \"missle_type_desc\": \"Intermediate-range\", \"count\": 0.0}, {\"year\": \"1988\", \"missile_type\": \"IRBM\", \"missle_type_desc\": \"Intermediate-range\", \"count\": 0.0}, {\"year\": \"1989\", \"missile_type\": \"IRBM\", \"missle_type_desc\": \"Intermediate-range\", \"count\": 0.0}, {\"year\": \"1990\", \"missile_type\": \"IRBM\", \"missle_type_desc\": \"Intermediate-range\", \"count\": 0.0}, {\"year\": \"1991\", \"missile_type\": \"IRBM\", \"missle_type_desc\": \"Intermediate-range\", \"count\": 0.0}, {\"year\": \"1992\", \"missile_type\": \"IRBM\", \"missle_type_desc\": \"Intermediate-range\", \"count\": 0.0}, {\"year\": \"1993\", \"missile_type\": \"IRBM\", \"missle_type_desc\": \"Intermediate-range\", \"count\": 0.0}, {\"year\": \"1994\", \"missile_type\": \"IRBM\", \"missle_type_desc\": \"Intermediate-range\", \"count\": 0.0}, {\"year\": \"1995\", \"missile_type\": \"IRBM\", \"missle_type_desc\": \"Intermediate-range\", \"count\": 0.0}, {\"year\": \"1996\", \"missile_type\": \"IRBM\", \"missle_type_desc\": \"Intermediate-range\", \"count\": 0.0}, {\"year\": \"1997\", \"missile_type\": \"IRBM\", \"missle_type_desc\": \"Intermediate-range\", \"count\": 0.0}, {\"year\": \"1998\", \"missile_type\": \"IRBM\", \"missle_type_desc\": \"Intermediate-range\", \"count\": 0.0}, {\"year\": \"1999\", \"missile_type\": \"IRBM\", \"missle_type_desc\": \"Intermediate-range\", \"count\": 0.0}, {\"year\": \"2000\", \"missile_type\": \"IRBM\", \"missle_type_desc\": \"Intermediate-range\", \"count\": 0.0}, {\"year\": \"2001\", \"missile_type\": \"IRBM\", \"missle_type_desc\": \"Intermediate-range\", \"count\": 0.0}, {\"year\": \"2002\", \"missile_type\": \"IRBM\", \"missle_type_desc\": \"Intermediate-range\", \"count\": 0.0}, {\"year\": \"2003\", \"missile_type\": \"IRBM\", \"missle_type_desc\": \"Intermediate-range\", \"count\": 0.0}, {\"year\": \"2004\", \"missile_type\": \"IRBM\", \"missle_type_desc\": \"Intermediate-range\", \"count\": 0.0}, {\"year\": \"2005\", \"missile_type\": \"IRBM\", \"missle_type_desc\": \"Intermediate-range\", \"count\": 0.0}, {\"year\": \"2006\", \"missile_type\": \"IRBM\", \"missle_type_desc\": \"Intermediate-range\", \"count\": 0.0}, {\"year\": \"2007\", \"missile_type\": \"IRBM\", \"missle_type_desc\": \"Intermediate-range\", \"count\": 0.0}, {\"year\": \"2008\", \"missile_type\": \"IRBM\", \"missle_type_desc\": \"Intermediate-range\", \"count\": 0.0}, {\"year\": \"2009\", \"missile_type\": \"IRBM\", \"missle_type_desc\": \"Intermediate-range\", \"count\": 0.0}, {\"year\": \"2010\", \"missile_type\": \"IRBM\", \"missle_type_desc\": \"Intermediate-range\", \"count\": 0.0}, {\"year\": \"2011\", \"missile_type\": \"IRBM\", \"missle_type_desc\": \"Intermediate-range\", \"count\": 0.0}, {\"year\": \"2012\", \"missile_type\": \"IRBM\", \"missle_type_desc\": \"Intermediate-range\", \"count\": 0.0}, {\"year\": \"2013\", \"missile_type\": \"IRBM\", \"missle_type_desc\": \"Intermediate-range\", \"count\": 0.0}, {\"year\": \"2014\", \"missile_type\": \"IRBM\", \"missle_type_desc\": \"Intermediate-range\", \"count\": 0.0}, {\"year\": \"2015\", \"missile_type\": \"IRBM\", \"missle_type_desc\": \"Intermediate-range\", \"count\": 0.0}, {\"year\": \"2016\", \"missile_type\": \"IRBM\", \"missle_type_desc\": \"Intermediate-range\", \"count\": 1.0}, {\"year\": \"2017\", \"missile_type\": \"IRBM\", \"missle_type_desc\": \"Intermediate-range\", \"count\": 3.0}, {\"year\": \"2018\", \"missile_type\": \"IRBM\", \"missle_type_desc\": \"Intermediate-range\", \"count\": 0.0}, {\"year\": \"2019\", \"missile_type\": \"IRBM\", \"missle_type_desc\": \"Intermediate-range\", \"count\": 0.0}, {\"year\": \"2020\", \"missile_type\": \"IRBM\", \"missle_type_desc\": \"Intermediate-range\", \"count\": 0.0}, {\"year\": \"2021\", \"missile_type\": \"IRBM\", \"missle_type_desc\": \"Intermediate-range\", \"count\": 0.0}, {\"year\": \"2022\", \"missile_type\": \"IRBM\", \"missle_type_desc\": \"Intermediate-range\", \"count\": 2.0}, {\"year\": \"1980\", \"missile_type\": \"MRBM\", \"missle_type_desc\": \"Medium-range\", \"count\": 0.0}, {\"year\": \"1981\", \"missile_type\": \"MRBM\", \"missle_type_desc\": \"Medium-range\", \"count\": 0.0}, {\"year\": \"1982\", \"missile_type\": \"MRBM\", \"missle_type_desc\": \"Medium-range\", \"count\": 0.0}, {\"year\": \"1983\", \"missile_type\": \"MRBM\", \"missle_type_desc\": \"Medium-range\", \"count\": 0.0}, {\"year\": \"1984\", \"missile_type\": \"MRBM\", \"missle_type_desc\": \"Medium-range\", \"count\": 0.0}, {\"year\": \"1985\", \"missile_type\": \"MRBM\", \"missle_type_desc\": \"Medium-range\", \"count\": 0.0}, {\"year\": \"1986\", \"missile_type\": \"MRBM\", \"missle_type_desc\": \"Medium-range\", \"count\": 0.0}, {\"year\": \"1987\", \"missile_type\": \"MRBM\", \"missle_type_desc\": \"Medium-range\", \"count\": 0.0}, {\"year\": \"1988\", \"missile_type\": \"MRBM\", \"missle_type_desc\": \"Medium-range\", \"count\": 0.0}, {\"year\": \"1989\", \"missile_type\": \"MRBM\", \"missle_type_desc\": \"Medium-range\", \"count\": 0.0}, {\"year\": \"1990\", \"missile_type\": \"MRBM\", \"missle_type_desc\": \"Medium-range\", \"count\": 0.0}, {\"year\": \"1991\", \"missile_type\": \"MRBM\", \"missle_type_desc\": \"Medium-range\", \"count\": 0.0}, {\"year\": \"1992\", \"missile_type\": \"MRBM\", \"missle_type_desc\": \"Medium-range\", \"count\": 0.0}, {\"year\": \"1993\", \"missile_type\": \"MRBM\", \"missle_type_desc\": \"Medium-range\", \"count\": 1.0}, {\"year\": \"1994\", \"missile_type\": \"MRBM\", \"missle_type_desc\": \"Medium-range\", \"count\": 0.0}, {\"year\": \"1995\", \"missile_type\": \"MRBM\", \"missle_type_desc\": \"Medium-range\", \"count\": 0.0}, {\"year\": \"1996\", \"missile_type\": \"MRBM\", \"missle_type_desc\": \"Medium-range\", \"count\": 0.0}, {\"year\": \"1997\", \"missile_type\": \"MRBM\", \"missle_type_desc\": \"Medium-range\", \"count\": 0.0}, {\"year\": \"1998\", \"missile_type\": \"MRBM\", \"missle_type_desc\": \"Medium-range\", \"count\": 0.0}, {\"year\": \"1999\", \"missile_type\": \"MRBM\", \"missle_type_desc\": \"Medium-range\", \"count\": 0.0}, {\"year\": \"2000\", \"missile_type\": \"MRBM\", \"missle_type_desc\": \"Medium-range\", \"count\": 0.0}, {\"year\": \"2001\", \"missile_type\": \"MRBM\", \"missle_type_desc\": \"Medium-range\", \"count\": 0.0}, {\"year\": \"2002\", \"missile_type\": \"MRBM\", \"missle_type_desc\": \"Medium-range\", \"count\": 0.0}, {\"year\": \"2003\", \"missile_type\": \"MRBM\", \"missle_type_desc\": \"Medium-range\", \"count\": 0.0}, {\"year\": \"2004\", \"missile_type\": \"MRBM\", \"missle_type_desc\": \"Medium-range\", \"count\": 0.0}, {\"year\": \"2005\", \"missile_type\": \"MRBM\", \"missle_type_desc\": \"Medium-range\", \"count\": 0.0}, {\"year\": \"2006\", \"missile_type\": \"MRBM\", \"missle_type_desc\": \"Medium-range\", \"count\": 4.0}, {\"year\": \"2007\", \"missile_type\": \"MRBM\", \"missle_type_desc\": \"Medium-range\", \"count\": 0.0}, {\"year\": \"2008\", \"missile_type\": \"MRBM\", \"missle_type_desc\": \"Medium-range\", \"count\": 0.0}, {\"year\": \"2009\", \"missile_type\": \"MRBM\", \"missle_type_desc\": \"Medium-range\", \"count\": 2.0}, {\"year\": \"2010\", \"missile_type\": \"MRBM\", \"missle_type_desc\": \"Medium-range\", \"count\": 0.0}, {\"year\": \"2011\", \"missile_type\": \"MRBM\", \"missle_type_desc\": \"Medium-range\", \"count\": 0.0}, {\"year\": \"2012\", \"missile_type\": \"MRBM\", \"missle_type_desc\": \"Medium-range\", \"count\": 0.0}, {\"year\": \"2013\", \"missile_type\": \"MRBM\", \"missle_type_desc\": \"Medium-range\", \"count\": 0.0}, {\"year\": \"2014\", \"missile_type\": \"MRBM\", \"missle_type_desc\": \"Medium-range\", \"count\": 2.0}, {\"year\": \"2015\", \"missile_type\": \"MRBM\", \"missle_type_desc\": \"Medium-range\", \"count\": 0.0}, {\"year\": \"2016\", \"missile_type\": \"MRBM\", \"missle_type_desc\": \"Medium-range\", \"count\": 6.0}, {\"year\": \"2017\", \"missile_type\": \"MRBM\", \"missle_type_desc\": \"Medium-range\", \"count\": 6.0}, {\"year\": \"2018\", \"missile_type\": \"MRBM\", \"missle_type_desc\": \"Medium-range\", \"count\": 0.0}, {\"year\": \"2019\", \"missile_type\": \"MRBM\", \"missle_type_desc\": \"Medium-range\", \"count\": 0.0}, {\"year\": \"2020\", \"missile_type\": \"MRBM\", \"missle_type_desc\": \"Medium-range\", \"count\": 0.0}, {\"year\": \"2021\", \"missile_type\": \"MRBM\", \"missle_type_desc\": \"Medium-range\", \"count\": 0.0}, {\"year\": \"2022\", \"missile_type\": \"MRBM\", \"missle_type_desc\": \"Medium-range\", \"count\": 2.0}, {\"year\": \"1980\", \"missile_type\": \"SRBM\", \"missle_type_desc\": \"Short-range\", \"count\": 0.0}, {\"year\": \"1981\", \"missile_type\": \"SRBM\", \"missle_type_desc\": \"Short-range\", \"count\": 0.0}, {\"year\": \"1982\", \"missile_type\": \"SRBM\", \"missle_type_desc\": \"Short-range\", \"count\": 0.0}, {\"year\": \"1983\", \"missile_type\": \"SRBM\", \"missle_type_desc\": \"Short-range\", \"count\": 0.0}, {\"year\": \"1984\", \"missile_type\": \"SRBM\", \"missle_type_desc\": \"Short-range\", \"count\": 3.0}, {\"year\": \"1985\", \"missile_type\": \"SRBM\", \"missle_type_desc\": \"Short-range\", \"count\": 0.0}, {\"year\": \"1986\", \"missile_type\": \"SRBM\", \"missle_type_desc\": \"Short-range\", \"count\": 0.0}, {\"year\": \"1987\", \"missile_type\": \"SRBM\", \"missle_type_desc\": \"Short-range\", \"count\": 0.0}, {\"year\": \"1988\", \"missile_type\": \"SRBM\", \"missle_type_desc\": \"Short-range\", \"count\": 0.0}, {\"year\": \"1989\", \"missile_type\": \"SRBM\", \"missle_type_desc\": \"Short-range\", \"count\": 0.0}, {\"year\": \"1990\", \"missile_type\": \"SRBM\", \"missle_type_desc\": \"Short-range\", \"count\": 1.0}, {\"year\": \"1991\", \"missile_type\": \"SRBM\", \"missle_type_desc\": \"Short-range\", \"count\": 1.0}, {\"year\": \"1992\", \"missile_type\": \"SRBM\", \"missle_type_desc\": \"Short-range\", \"count\": 0.0}, {\"year\": \"1993\", \"missile_type\": \"SRBM\", \"missle_type_desc\": \"Short-range\", \"count\": 3.0}, {\"year\": \"1994\", \"missile_type\": \"SRBM\", \"missle_type_desc\": \"Short-range\", \"count\": 0.0}, {\"year\": \"1995\", \"missile_type\": \"SRBM\", \"missle_type_desc\": \"Short-range\", \"count\": 0.0}, {\"year\": \"1996\", \"missile_type\": \"SRBM\", \"missle_type_desc\": \"Short-range\", \"count\": 0.0}, {\"year\": \"1997\", \"missile_type\": \"SRBM\", \"missle_type_desc\": \"Short-range\", \"count\": 0.0}, {\"year\": \"1998\", \"missile_type\": \"SRBM\", \"missle_type_desc\": \"Short-range\", \"count\": 0.0}, {\"year\": \"1999\", \"missile_type\": \"SRBM\", \"missle_type_desc\": \"Short-range\", \"count\": 0.0}, {\"year\": \"2000\", \"missile_type\": \"SRBM\", \"missle_type_desc\": \"Short-range\", \"count\": 0.0}, {\"year\": \"2001\", \"missile_type\": \"SRBM\", \"missle_type_desc\": \"Short-range\", \"count\": 0.0}, {\"year\": \"2002\", \"missile_type\": \"SRBM\", \"missle_type_desc\": \"Short-range\", \"count\": 0.0}, {\"year\": \"2003\", \"missile_type\": \"SRBM\", \"missle_type_desc\": \"Short-range\", \"count\": 0.0}, {\"year\": \"2004\", \"missile_type\": \"SRBM\", \"missle_type_desc\": \"Short-range\", \"count\": 0.0}, {\"year\": \"2005\", \"missile_type\": \"SRBM\", \"missle_type_desc\": \"Short-range\", \"count\": 0.0}, {\"year\": \"2006\", \"missile_type\": \"SRBM\", \"missle_type_desc\": \"Short-range\", \"count\": 2.0}, {\"year\": \"2007\", \"missile_type\": \"SRBM\", \"missle_type_desc\": \"Short-range\", \"count\": 0.0}, {\"year\": \"2008\", \"missile_type\": \"SRBM\", \"missle_type_desc\": \"Short-range\", \"count\": 0.0}, {\"year\": \"2009\", \"missile_type\": \"SRBM\", \"missle_type_desc\": \"Short-range\", \"count\": 5.0}, {\"year\": \"2010\", \"missile_type\": \"SRBM\", \"missle_type_desc\": \"Short-range\", \"count\": 0.0}, {\"year\": \"2011\", \"missile_type\": \"SRBM\", \"missle_type_desc\": \"Short-range\", \"count\": 0.0}, {\"year\": \"2012\", \"missile_type\": \"SRBM\", \"missle_type_desc\": \"Short-range\", \"count\": 0.0}, {\"year\": \"2013\", \"missile_type\": \"SRBM\", \"missle_type_desc\": \"Short-range\", \"count\": 6.0}, {\"year\": \"2014\", \"missile_type\": \"SRBM\", \"missle_type_desc\": \"Short-range\", \"count\": 16.0}, {\"year\": \"2015\", \"missile_type\": \"SRBM\", \"missle_type_desc\": \"Short-range\", \"count\": 12.0}, {\"year\": \"2016\", \"missile_type\": \"SRBM\", \"missle_type_desc\": \"Short-range\", \"count\": 4.0}, {\"year\": \"2017\", \"missile_type\": \"SRBM\", \"missle_type_desc\": \"Short-range\", \"count\": 3.0}, {\"year\": \"2018\", \"missile_type\": \"SRBM\", \"missle_type_desc\": \"Short-range\", \"count\": 0.0}, {\"year\": \"2019\", \"missile_type\": \"SRBM\", \"missle_type_desc\": \"Short-range\", \"count\": 20.0}, {\"year\": \"2020\", \"missile_type\": \"SRBM\", \"missle_type_desc\": \"Short-range\", \"count\": 9.0}, {\"year\": \"2021\", \"missile_type\": \"SRBM\", \"missle_type_desc\": \"Short-range\", \"count\": 4.0}, {\"year\": \"2022\", \"missile_type\": \"SRBM\", \"missle_type_desc\": \"Short-range\", \"count\": 18.0}, {\"year\": \"1980\", \"missile_type\": \"SLBM\", \"missle_type_desc\": \"Submarine-launched\", \"count\": 0.0}, {\"year\": \"1981\", \"missile_type\": \"SLBM\", \"missle_type_desc\": \"Submarine-launched\", \"count\": 0.0}, {\"year\": \"1982\", \"missile_type\": \"SLBM\", \"missle_type_desc\": \"Submarine-launched\", \"count\": 0.0}, {\"year\": \"1983\", \"missile_type\": \"SLBM\", \"missle_type_desc\": \"Submarine-launched\", \"count\": 0.0}, {\"year\": \"1984\", \"missile_type\": \"SLBM\", \"missle_type_desc\": \"Submarine-launched\", \"count\": 0.0}, {\"year\": \"1985\", \"missile_type\": \"SLBM\", \"missle_type_desc\": \"Submarine-launched\", \"count\": 0.0}, {\"year\": \"1986\", \"missile_type\": \"SLBM\", \"missle_type_desc\": \"Submarine-launched\", \"count\": 0.0}, {\"year\": \"1987\", \"missile_type\": \"SLBM\", \"missle_type_desc\": \"Submarine-launched\", \"count\": 0.0}, {\"year\": \"1988\", \"missile_type\": \"SLBM\", \"missle_type_desc\": \"Submarine-launched\", \"count\": 0.0}, {\"year\": \"1989\", \"missile_type\": \"SLBM\", \"missle_type_desc\": \"Submarine-launched\", \"count\": 0.0}, {\"year\": \"1990\", \"missile_type\": \"SLBM\", \"missle_type_desc\": \"Submarine-launched\", \"count\": 0.0}, {\"year\": \"1991\", \"missile_type\": \"SLBM\", \"missle_type_desc\": \"Submarine-launched\", \"count\": 0.0}, {\"year\": \"1992\", \"missile_type\": \"SLBM\", \"missle_type_desc\": \"Submarine-launched\", \"count\": 0.0}, {\"year\": \"1993\", \"missile_type\": \"SLBM\", \"missle_type_desc\": \"Submarine-launched\", \"count\": 0.0}, {\"year\": \"1994\", \"missile_type\": \"SLBM\", \"missle_type_desc\": \"Submarine-launched\", \"count\": 0.0}, {\"year\": \"1995\", \"missile_type\": \"SLBM\", \"missle_type_desc\": \"Submarine-launched\", \"count\": 0.0}, {\"year\": \"1996\", \"missile_type\": \"SLBM\", \"missle_type_desc\": \"Submarine-launched\", \"count\": 0.0}, {\"year\": \"1997\", \"missile_type\": \"SLBM\", \"missle_type_desc\": \"Submarine-launched\", \"count\": 0.0}, {\"year\": \"1998\", \"missile_type\": \"SLBM\", \"missle_type_desc\": \"Submarine-launched\", \"count\": 0.0}, {\"year\": \"1999\", \"missile_type\": \"SLBM\", \"missle_type_desc\": \"Submarine-launched\", \"count\": 0.0}, {\"year\": \"2000\", \"missile_type\": \"SLBM\", \"missle_type_desc\": \"Submarine-launched\", \"count\": 0.0}, {\"year\": \"2001\", \"missile_type\": \"SLBM\", \"missle_type_desc\": \"Submarine-launched\", \"count\": 0.0}, {\"year\": \"2002\", \"missile_type\": \"SLBM\", \"missle_type_desc\": \"Submarine-launched\", \"count\": 0.0}, {\"year\": \"2003\", \"missile_type\": \"SLBM\", \"missle_type_desc\": \"Submarine-launched\", \"count\": 0.0}, {\"year\": \"2004\", \"missile_type\": \"SLBM\", \"missle_type_desc\": \"Submarine-launched\", \"count\": 0.0}, {\"year\": \"2005\", \"missile_type\": \"SLBM\", \"missle_type_desc\": \"Submarine-launched\", \"count\": 0.0}, {\"year\": \"2006\", \"missile_type\": \"SLBM\", \"missle_type_desc\": \"Submarine-launched\", \"count\": 0.0}, {\"year\": \"2007\", \"missile_type\": \"SLBM\", \"missle_type_desc\": \"Submarine-launched\", \"count\": 0.0}, {\"year\": \"2008\", \"missile_type\": \"SLBM\", \"missle_type_desc\": \"Submarine-launched\", \"count\": 0.0}, {\"year\": \"2009\", \"missile_type\": \"SLBM\", \"missle_type_desc\": \"Submarine-launched\", \"count\": 0.0}, {\"year\": \"2010\", \"missile_type\": \"SLBM\", \"missle_type_desc\": \"Submarine-launched\", \"count\": 0.0}, {\"year\": \"2011\", \"missile_type\": \"SLBM\", \"missle_type_desc\": \"Submarine-launched\", \"count\": 0.0}, {\"year\": \"2012\", \"missile_type\": \"SLBM\", \"missle_type_desc\": \"Submarine-launched\", \"count\": 0.0}, {\"year\": \"2013\", \"missile_type\": \"SLBM\", \"missle_type_desc\": \"Submarine-launched\", \"count\": 0.0}, {\"year\": \"2014\", \"missile_type\": \"SLBM\", \"missle_type_desc\": \"Submarine-launched\", \"count\": 0.0}, {\"year\": \"2015\", \"missile_type\": \"SLBM\", \"missle_type_desc\": \"Submarine-launched\", \"count\": 1.0}, {\"year\": \"2016\", \"missile_type\": \"SLBM\", \"missle_type_desc\": \"Submarine-launched\", \"count\": 2.0}, {\"year\": \"2017\", \"missile_type\": \"SLBM\", \"missle_type_desc\": \"Submarine-launched\", \"count\": 0.0}, {\"year\": \"2018\", \"missile_type\": \"SLBM\", \"missle_type_desc\": \"Submarine-launched\", \"count\": 0.0}, {\"year\": \"2019\", \"missile_type\": \"SLBM\", \"missle_type_desc\": \"Submarine-launched\", \"count\": 1.0}, {\"year\": \"2020\", \"missile_type\": \"SLBM\", \"missle_type_desc\": \"Submarine-launched\", \"count\": 0.0}, {\"year\": \"2021\", \"missile_type\": \"SLBM\", \"missle_type_desc\": \"Submarine-launched\", \"count\": 1.0}, {\"year\": \"2022\", \"missile_type\": \"SLBM\", \"missle_type_desc\": \"Submarine-launched\", \"count\": 1.0}, {\"year\": \"1980\", \"missile_type\": \"ICBM\", \"missle_type_desc\": \"Intercontinental\", \"count\": 0.0}, {\"year\": \"1981\", \"missile_type\": \"ICBM\", \"missle_type_desc\": \"Intercontinental\", \"count\": 0.0}, {\"year\": \"1982\", \"missile_type\": \"ICBM\", \"missle_type_desc\": \"Intercontinental\", \"count\": 0.0}, {\"year\": \"1983\", \"missile_type\": \"ICBM\", \"missle_type_desc\": \"Intercontinental\", \"count\": 0.0}, {\"year\": \"1984\", \"missile_type\": \"ICBM\", \"missle_type_desc\": \"Intercontinental\", \"count\": 0.0}, {\"year\": \"1985\", \"missile_type\": \"ICBM\", \"missle_type_desc\": \"Intercontinental\", \"count\": 0.0}, {\"year\": \"1986\", \"missile_type\": \"ICBM\", \"missle_type_desc\": \"Intercontinental\", \"count\": 0.0}, {\"year\": \"1987\", \"missile_type\": \"ICBM\", \"missle_type_desc\": \"Intercontinental\", \"count\": 0.0}, {\"year\": \"1988\", \"missile_type\": \"ICBM\", \"missle_type_desc\": \"Intercontinental\", \"count\": 0.0}, {\"year\": \"1989\", \"missile_type\": \"ICBM\", \"missle_type_desc\": \"Intercontinental\", \"count\": 0.0}, {\"year\": \"1990\", \"missile_type\": \"ICBM\", \"missle_type_desc\": \"Intercontinental\", \"count\": 0.0}, {\"year\": \"1991\", \"missile_type\": \"ICBM\", \"missle_type_desc\": \"Intercontinental\", \"count\": 0.0}, {\"year\": \"1992\", \"missile_type\": \"ICBM\", \"missle_type_desc\": \"Intercontinental\", \"count\": 0.0}, {\"year\": \"1993\", \"missile_type\": \"ICBM\", \"missle_type_desc\": \"Intercontinental\", \"count\": 0.0}, {\"year\": \"1994\", \"missile_type\": \"ICBM\", \"missle_type_desc\": \"Intercontinental\", \"count\": 0.0}, {\"year\": \"1995\", \"missile_type\": \"ICBM\", \"missle_type_desc\": \"Intercontinental\", \"count\": 0.0}, {\"year\": \"1996\", \"missile_type\": \"ICBM\", \"missle_type_desc\": \"Intercontinental\", \"count\": 0.0}, {\"year\": \"1997\", \"missile_type\": \"ICBM\", \"missle_type_desc\": \"Intercontinental\", \"count\": 0.0}, {\"year\": \"1998\", \"missile_type\": \"ICBM\", \"missle_type_desc\": \"Intercontinental\", \"count\": 0.0}, {\"year\": \"1999\", \"missile_type\": \"ICBM\", \"missle_type_desc\": \"Intercontinental\", \"count\": 0.0}, {\"year\": \"2000\", \"missile_type\": \"ICBM\", \"missle_type_desc\": \"Intercontinental\", \"count\": 0.0}, {\"year\": \"2001\", \"missile_type\": \"ICBM\", \"missle_type_desc\": \"Intercontinental\", \"count\": 0.0}, {\"year\": \"2002\", \"missile_type\": \"ICBM\", \"missle_type_desc\": \"Intercontinental\", \"count\": 0.0}, {\"year\": \"2003\", \"missile_type\": \"ICBM\", \"missle_type_desc\": \"Intercontinental\", \"count\": 0.0}, {\"year\": \"2004\", \"missile_type\": \"ICBM\", \"missle_type_desc\": \"Intercontinental\", \"count\": 0.0}, {\"year\": \"2005\", \"missile_type\": \"ICBM\", \"missle_type_desc\": \"Intercontinental\", \"count\": 0.0}, {\"year\": \"2006\", \"missile_type\": \"ICBM\", \"missle_type_desc\": \"Intercontinental\", \"count\": 0.0}, {\"year\": \"2007\", \"missile_type\": \"ICBM\", \"missle_type_desc\": \"Intercontinental\", \"count\": 0.0}, {\"year\": \"2008\", \"missile_type\": \"ICBM\", \"missle_type_desc\": \"Intercontinental\", \"count\": 0.0}, {\"year\": \"2009\", \"missile_type\": \"ICBM\", \"missle_type_desc\": \"Intercontinental\", \"count\": 0.0}, {\"year\": \"2010\", \"missile_type\": \"ICBM\", \"missle_type_desc\": \"Intercontinental\", \"count\": 0.0}, {\"year\": \"2011\", \"missile_type\": \"ICBM\", \"missle_type_desc\": \"Intercontinental\", \"count\": 0.0}, {\"year\": \"2012\", \"missile_type\": \"ICBM\", \"missle_type_desc\": \"Intercontinental\", \"count\": 0.0}, {\"year\": \"2013\", \"missile_type\": \"ICBM\", \"missle_type_desc\": \"Intercontinental\", \"count\": 0.0}, {\"year\": \"2014\", \"missile_type\": \"ICBM\", \"missle_type_desc\": \"Intercontinental\", \"count\": 0.0}, {\"year\": \"2015\", \"missile_type\": \"ICBM\", \"missle_type_desc\": \"Intercontinental\", \"count\": 0.0}, {\"year\": \"2016\", \"missile_type\": \"ICBM\", \"missle_type_desc\": \"Intercontinental\", \"count\": 0.0}, {\"year\": \"2017\", \"missile_type\": \"ICBM\", \"missle_type_desc\": \"Intercontinental\", \"count\": 3.0}, {\"year\": \"2018\", \"missile_type\": \"ICBM\", \"missle_type_desc\": \"Intercontinental\", \"count\": 0.0}, {\"year\": \"2019\", \"missile_type\": \"ICBM\", \"missle_type_desc\": \"Intercontinental\", \"count\": 0.0}, {\"year\": \"2020\", \"missile_type\": \"ICBM\", \"missle_type_desc\": \"Intercontinental\", \"count\": 0.0}, {\"year\": \"2021\", \"missile_type\": \"ICBM\", \"missle_type_desc\": \"Intercontinental\", \"count\": 0.0}, {\"year\": \"2022\", \"missile_type\": \"ICBM\", \"missle_type_desc\": \"Intercontinental\", \"count\": 1.0}]}}, {\"mode\": \"vega-lite\"});\n",
       "</script>"
      ],
      "text/plain": [
       "alt.Chart(...)"
      ]
     },
     "execution_count": 81,
     "metadata": {},
     "output_type": "execute_result"
    }
   ],
   "source": [
    "circles = (\n",
    "    alt.Chart(missile_total_all[missile_total_all[\"year\"] > \"1979\"])\n",
    "    .mark_circle(opacity=0.6, stroke=\"#1a1a1a\", strokeWidth=0)\n",
    "    .encode(\n",
    "        alt.X(\n",
    "            \"year:O\",\n",
    "            axis=alt.Axis(\n",
    "                values=[\"1960\", \"1970\", \"1980\", \"1990\", \"2000\", \"2010\", \"2022\"],\n",
    "            ),\n",
    "            title=\" \",\n",
    "        ),\n",
    "        alt.Y(\"missle_type_desc:N\", title=\" \"),\n",
    "        alt.Size(\n",
    "            \"count:Q\",\n",
    "            title=\"Missle count\",\n",
    "            scale=alt.Scale(range=[0, 2000]),\n",
    "            # legend=None,\n",
    "        ),\n",
    "        alt.Color(\"missile_type:N\", legend=None),\n",
    "    )\n",
    ")\n",
    "\n",
    "text = (\n",
    "    alt.Chart(missile_total_all)\n",
    "    .mark_text(dx=0, dy=0, color=\"white\")\n",
    "    .encode(\n",
    "        x=alt.X(\"year:O\", stack=\"zero\"),\n",
    "        y=alt.Y(\"missle_type_desc:O\"),\n",
    "        text=alt.Text(\"count:Q\"),\n",
    "    )\n",
    ")\n",
    "\n",
    "(circles).configure_legend(symbolType=\"circle\").properties(\n",
    "    width=650,\n",
    "    height=200,\n",
    "    title=\"North Korea ballistic missile launches, by type, count and year\",\n",
    ")"
   ]
  },
  {
   "cell_type": "markdown",
   "metadata": {},
   "source": [
    "---"
   ]
  },
  {
   "cell_type": "markdown",
   "metadata": {},
   "source": [
    "## Exports"
   ]
  },
  {
   "cell_type": "code",
   "execution_count": 41,
   "metadata": {},
   "outputs": [],
   "source": [
    "launches_grouped.to_csv(\"data/processed/launches_grouped_location.csv\", index=False)"
   ]
  },
  {
   "cell_type": "code",
   "execution_count": 42,
   "metadata": {},
   "outputs": [
    {
     "name": "stderr",
     "output_type": "stream",
     "text": [
      "/Users/stiles/.pyenv/versions/3.9.9/lib/python3.9/site-packages/geopandas/io/file.py:362: FutureWarning: pandas.Int64Index is deprecated and will be removed from pandas in a future version. Use pandas.Index with the appropriate dtype instead.\n",
      "  pd.Int64Index,\n"
     ]
    }
   ],
   "source": [
    "launches_counts_gdf.to_file(\n",
    "    \"data/processed/launches_counts_gdf.geojson\", driver=\"GeoJSON\"\n",
    ")"
   ]
  },
  {
   "cell_type": "code",
   "execution_count": null,
   "metadata": {},
   "outputs": [],
   "source": []
  },
  {
   "cell_type": "code",
   "execution_count": null,
   "metadata": {},
   "outputs": [],
   "source": []
  },
  {
   "cell_type": "code",
   "execution_count": null,
   "metadata": {},
   "outputs": [],
   "source": []
  },
  {
   "cell_type": "code",
   "execution_count": null,
   "metadata": {},
   "outputs": [],
   "source": []
  },
  {
   "cell_type": "code",
   "execution_count": null,
   "metadata": {},
   "outputs": [],
   "source": []
  },
  {
   "cell_type": "code",
   "execution_count": null,
   "metadata": {},
   "outputs": [],
   "source": []
  },
  {
   "cell_type": "code",
   "execution_count": null,
   "metadata": {},
   "outputs": [],
   "source": []
  },
  {
   "cell_type": "code",
   "execution_count": 165,
   "metadata": {},
   "outputs": [],
   "source": [
    "scaramucci = 11"
   ]
  },
  {
   "cell_type": "code",
   "execution_count": 166,
   "metadata": {},
   "outputs": [],
   "source": [
    "df = pd.read_html(\n",
    "    \"https://en.wikipedia.org/wiki/List_of_prime_ministers_of_the_United_Kingdom_by_length_of_tenure\"\n",
    ")[0]"
   ]
  },
  {
   "cell_type": "code",
   "execution_count": 167,
   "metadata": {},
   "outputs": [],
   "source": [
    "df[[\"years\", \"days\"]] = df[\"Tenure length\"].str.split(\", \", expand=True)"
   ]
  },
  {
   "cell_type": "code",
   "execution_count": 168,
   "metadata": {},
   "outputs": [],
   "source": [
    "df[\"years\"] = (\n",
    "    df[\"years\"]\n",
    "    .str.replace(\"years\", \"\")\n",
    "    .str.replace(\"days\", \"\")\n",
    "    .str.replace(\"year\", \"\")\n",
    "    .str.replace(\"days\", \"\", regex=False)\n",
    "    .str.replace(\"(outgoing)\", \"\", regex=False)\n",
    ").astype(int)"
   ]
  },
  {
   "cell_type": "code",
   "execution_count": 169,
   "metadata": {},
   "outputs": [],
   "source": [
    "df[\"days\"] = df[\"days\"].str.replace(\"days\", \"\").fillna(0).astype(int)"
   ]
  },
  {
   "cell_type": "code",
   "execution_count": 170,
   "metadata": {},
   "outputs": [],
   "source": [
    "df.loc[df[\"years\"] > 20, \"days\"] = df[\"years\"]\n",
    "df.loc[df[\"years\"] > 20, \"years\"] = 0"
   ]
  },
  {
   "cell_type": "code",
   "execution_count": 172,
   "metadata": {},
   "outputs": [
    {
     "data": {
      "text/html": [
       "<div>\n",
       "<style scoped>\n",
       "    .dataframe tbody tr th:only-of-type {\n",
       "        vertical-align: middle;\n",
       "    }\n",
       "\n",
       "    .dataframe tbody tr th {\n",
       "        vertical-align: top;\n",
       "    }\n",
       "\n",
       "    .dataframe thead th {\n",
       "        text-align: right;\n",
       "    }\n",
       "</style>\n",
       "<table border=\"1\" class=\"dataframe\">\n",
       "  <thead>\n",
       "    <tr style=\"text-align: right;\">\n",
       "      <th></th>\n",
       "      <th>Rank</th>\n",
       "      <th>Prime Minister</th>\n",
       "      <th>Tenure length</th>\n",
       "      <th>Termsα</th>\n",
       "      <th>Party</th>\n",
       "      <th>Start</th>\n",
       "      <th>Reasonfor exit</th>\n",
       "      <th>Ref.</th>\n",
       "      <th>years</th>\n",
       "      <th>days</th>\n",
       "    </tr>\n",
       "  </thead>\n",
       "  <tbody>\n",
       "    <tr>\n",
       "      <th>51</th>\n",
       "      <td>52</td>\n",
       "      <td>The Duke of Devonshire</td>\n",
       "      <td>225 days</td>\n",
       "      <td>1</td>\n",
       "      <td>Whig</td>\n",
       "      <td>1756</td>\n",
       "      <td>Replaced</td>\n",
       "      <td>[1]</td>\n",
       "      <td>0</td>\n",
       "      <td>225</td>\n",
       "    </tr>\n",
       "    <tr>\n",
       "      <th>52</th>\n",
       "      <td>53</td>\n",
       "      <td>Bonar Law</td>\n",
       "      <td>211 days</td>\n",
       "      <td>1</td>\n",
       "      <td>Conservative (Scot. Unionist)</td>\n",
       "      <td>1922</td>\n",
       "      <td>Illness</td>\n",
       "      <td>[1]</td>\n",
       "      <td>0</td>\n",
       "      <td>211</td>\n",
       "    </tr>\n",
       "    <tr>\n",
       "      <th>53</th>\n",
       "      <td>54</td>\n",
       "      <td>The Viscount Goderich</td>\n",
       "      <td>144 days</td>\n",
       "      <td>1</td>\n",
       "      <td>Tory (Canningite)</td>\n",
       "      <td>1827</td>\n",
       "      <td>Replaced</td>\n",
       "      <td>[1]</td>\n",
       "      <td>0</td>\n",
       "      <td>144</td>\n",
       "    </tr>\n",
       "    <tr>\n",
       "      <th>54</th>\n",
       "      <td>55</td>\n",
       "      <td>George Canning</td>\n",
       "      <td>119 days</td>\n",
       "      <td>1</td>\n",
       "      <td>Tory (Canningite)</td>\n",
       "      <td>1827</td>\n",
       "      <td>Died</td>\n",
       "      <td>[1]</td>\n",
       "      <td>0</td>\n",
       "      <td>119</td>\n",
       "    </tr>\n",
       "    <tr>\n",
       "      <th>55</th>\n",
       "      <td>56</td>\n",
       "      <td>Liz Truss</td>\n",
       "      <td>44 days(outgoing)</td>\n",
       "      <td>1</td>\n",
       "      <td>Conservative</td>\n",
       "      <td>2022</td>\n",
       "      <td>Resigned</td>\n",
       "      <td>[1][6]</td>\n",
       "      <td>0</td>\n",
       "      <td>44</td>\n",
       "    </tr>\n",
       "  </tbody>\n",
       "</table>\n",
       "</div>"
      ],
      "text/plain": [
       "    Rank          Prime Minister      Tenure length  Termsα  \\\n",
       "51    52  The Duke of Devonshire           225 days       1   \n",
       "52    53               Bonar Law           211 days       1   \n",
       "53    54   The Viscount Goderich           144 days       1   \n",
       "54    55          George Canning           119 days       1   \n",
       "55    56               Liz Truss  44 days(outgoing)       1   \n",
       "\n",
       "                            Party  Start Reasonfor exit    Ref.  years  days  \n",
       "51                           Whig   1756       Replaced     [1]      0   225  \n",
       "52  Conservative (Scot. Unionist)   1922        Illness     [1]      0   211  \n",
       "53              Tory (Canningite)   1827       Replaced     [1]      0   144  \n",
       "54              Tory (Canningite)   1827           Died     [1]      0   119  \n",
       "55                   Conservative   2022       Resigned  [1][6]      0    44  "
      ]
     },
     "execution_count": 172,
     "metadata": {},
     "output_type": "execute_result"
    }
   ],
   "source": [
    "df.tail()"
   ]
  },
  {
   "cell_type": "code",
   "execution_count": 173,
   "metadata": {},
   "outputs": [],
   "source": [
    "df[\"total_days\"] = (df[\"years\"] * 365.25) + df[\"days\"]"
   ]
  },
  {
   "cell_type": "code",
   "execution_count": 177,
   "metadata": {},
   "outputs": [],
   "source": [
    "df[\"scaramuccis\"] = (df[\"total_days\"] / scaramucci).round(2)"
   ]
  },
  {
   "cell_type": "code",
   "execution_count": 180,
   "metadata": {},
   "outputs": [],
   "source": [
    "df.columns = df.columns.str.lower().str.replace(\" \", \"_\", regex=False)"
   ]
  },
  {
   "cell_type": "code",
   "execution_count": 187,
   "metadata": {},
   "outputs": [],
   "source": [
    "df = df[\n",
    "    [\n",
    "        \"rank\",\n",
    "        \"prime_minister\",\n",
    "        \"party\",\n",
    "        \"start\",\n",
    "        \"reasonfor_exit\",\n",
    "        \"years\",\n",
    "        \"days\",\n",
    "        \"total_days\",\n",
    "        \"scaramuccis\",\n",
    "    ]\n",
    "]"
   ]
  },
  {
   "cell_type": "code",
   "execution_count": 188,
   "metadata": {},
   "outputs": [
    {
     "data": {
      "text/html": [
       "<div>\n",
       "<style scoped>\n",
       "    .dataframe tbody tr th:only-of-type {\n",
       "        vertical-align: middle;\n",
       "    }\n",
       "\n",
       "    .dataframe tbody tr th {\n",
       "        vertical-align: top;\n",
       "    }\n",
       "\n",
       "    .dataframe thead th {\n",
       "        text-align: right;\n",
       "    }\n",
       "</style>\n",
       "<table border=\"1\" class=\"dataframe\">\n",
       "  <thead>\n",
       "    <tr style=\"text-align: right;\">\n",
       "      <th></th>\n",
       "      <th>rank</th>\n",
       "      <th>prime_minister</th>\n",
       "      <th>party</th>\n",
       "      <th>start</th>\n",
       "      <th>reasonfor_exit</th>\n",
       "      <th>years</th>\n",
       "      <th>days</th>\n",
       "      <th>total_days</th>\n",
       "      <th>scaramuccis</th>\n",
       "    </tr>\n",
       "  </thead>\n",
       "  <tbody>\n",
       "    <tr>\n",
       "      <th>0</th>\n",
       "      <td>1</td>\n",
       "      <td>Sir Robert Walpole</td>\n",
       "      <td>Whig</td>\n",
       "      <td>1721</td>\n",
       "      <td>Resigned</td>\n",
       "      <td>20</td>\n",
       "      <td>314</td>\n",
       "      <td>7619.00</td>\n",
       "      <td>692.64</td>\n",
       "    </tr>\n",
       "    <tr>\n",
       "      <th>1</th>\n",
       "      <td>2</td>\n",
       "      <td>William Pitt the Younger</td>\n",
       "      <td>Tory (Pittite)</td>\n",
       "      <td>1783</td>\n",
       "      <td>Died</td>\n",
       "      <td>18</td>\n",
       "      <td>343</td>\n",
       "      <td>6917.50</td>\n",
       "      <td>628.86</td>\n",
       "    </tr>\n",
       "    <tr>\n",
       "      <th>2</th>\n",
       "      <td>3</td>\n",
       "      <td>The Earl of Liverpool</td>\n",
       "      <td>Tory (Pittite)</td>\n",
       "      <td>1812</td>\n",
       "      <td>Illness</td>\n",
       "      <td>14</td>\n",
       "      <td>305</td>\n",
       "      <td>5418.50</td>\n",
       "      <td>492.59</td>\n",
       "    </tr>\n",
       "    <tr>\n",
       "      <th>3</th>\n",
       "      <td>4</td>\n",
       "      <td>The Marquess of Salisbury</td>\n",
       "      <td>Conservative</td>\n",
       "      <td>1885</td>\n",
       "      <td>Illness</td>\n",
       "      <td>13</td>\n",
       "      <td>252</td>\n",
       "      <td>5000.25</td>\n",
       "      <td>454.57</td>\n",
       "    </tr>\n",
       "    <tr>\n",
       "      <th>4</th>\n",
       "      <td>5</td>\n",
       "      <td>William Ewart Gladstone</td>\n",
       "      <td>Liberal</td>\n",
       "      <td>1868</td>\n",
       "      <td>Resigned</td>\n",
       "      <td>12</td>\n",
       "      <td>126</td>\n",
       "      <td>4509.00</td>\n",
       "      <td>409.91</td>\n",
       "    </tr>\n",
       "  </tbody>\n",
       "</table>\n",
       "</div>"
      ],
      "text/plain": [
       "   rank             prime_minister           party  start reasonfor_exit  \\\n",
       "0     1         Sir Robert Walpole            Whig   1721       Resigned   \n",
       "1     2   William Pitt the Younger  Tory (Pittite)   1783           Died   \n",
       "2     3      The Earl of Liverpool  Tory (Pittite)   1812        Illness   \n",
       "3     4  The Marquess of Salisbury    Conservative   1885        Illness   \n",
       "4     5    William Ewart Gladstone         Liberal   1868       Resigned   \n",
       "\n",
       "   years  days  total_days  scaramuccis  \n",
       "0     20   314     7619.00       692.64  \n",
       "1     18   343     6917.50       628.86  \n",
       "2     14   305     5418.50       492.59  \n",
       "3     13   252     5000.25       454.57  \n",
       "4     12   126     4509.00       409.91  "
      ]
     },
     "execution_count": 188,
     "metadata": {},
     "output_type": "execute_result"
    }
   ],
   "source": [
    "df.head()"
   ]
  },
  {
   "cell_type": "code",
   "execution_count": 189,
   "metadata": {
    "tags": []
   },
   "outputs": [
    {
     "data": {
      "text/html": [
       "<div>\n",
       "<style scoped>\n",
       "    .dataframe tbody tr th:only-of-type {\n",
       "        vertical-align: middle;\n",
       "    }\n",
       "\n",
       "    .dataframe tbody tr th {\n",
       "        vertical-align: top;\n",
       "    }\n",
       "\n",
       "    .dataframe thead th {\n",
       "        text-align: right;\n",
       "    }\n",
       "</style>\n",
       "<table border=\"1\" class=\"dataframe\">\n",
       "  <thead>\n",
       "    <tr style=\"text-align: right;\">\n",
       "      <th></th>\n",
       "      <th>rank</th>\n",
       "      <th>prime_minister</th>\n",
       "      <th>party</th>\n",
       "      <th>start</th>\n",
       "      <th>reasonfor_exit</th>\n",
       "      <th>years</th>\n",
       "      <th>days</th>\n",
       "      <th>total_days</th>\n",
       "      <th>scaramuccis</th>\n",
       "    </tr>\n",
       "  </thead>\n",
       "  <tbody>\n",
       "    <tr>\n",
       "      <th>51</th>\n",
       "      <td>52</td>\n",
       "      <td>The Duke of Devonshire</td>\n",
       "      <td>Whig</td>\n",
       "      <td>1756</td>\n",
       "      <td>Replaced</td>\n",
       "      <td>0</td>\n",
       "      <td>225</td>\n",
       "      <td>225.0</td>\n",
       "      <td>20.45</td>\n",
       "    </tr>\n",
       "    <tr>\n",
       "      <th>52</th>\n",
       "      <td>53</td>\n",
       "      <td>Bonar Law</td>\n",
       "      <td>Conservative (Scot. Unionist)</td>\n",
       "      <td>1922</td>\n",
       "      <td>Illness</td>\n",
       "      <td>0</td>\n",
       "      <td>211</td>\n",
       "      <td>211.0</td>\n",
       "      <td>19.18</td>\n",
       "    </tr>\n",
       "    <tr>\n",
       "      <th>53</th>\n",
       "      <td>54</td>\n",
       "      <td>The Viscount Goderich</td>\n",
       "      <td>Tory (Canningite)</td>\n",
       "      <td>1827</td>\n",
       "      <td>Replaced</td>\n",
       "      <td>0</td>\n",
       "      <td>144</td>\n",
       "      <td>144.0</td>\n",
       "      <td>13.09</td>\n",
       "    </tr>\n",
       "    <tr>\n",
       "      <th>54</th>\n",
       "      <td>55</td>\n",
       "      <td>George Canning</td>\n",
       "      <td>Tory (Canningite)</td>\n",
       "      <td>1827</td>\n",
       "      <td>Died</td>\n",
       "      <td>0</td>\n",
       "      <td>119</td>\n",
       "      <td>119.0</td>\n",
       "      <td>10.82</td>\n",
       "    </tr>\n",
       "    <tr>\n",
       "      <th>55</th>\n",
       "      <td>56</td>\n",
       "      <td>Liz Truss</td>\n",
       "      <td>Conservative</td>\n",
       "      <td>2022</td>\n",
       "      <td>Resigned</td>\n",
       "      <td>0</td>\n",
       "      <td>44</td>\n",
       "      <td>44.0</td>\n",
       "      <td>4.00</td>\n",
       "    </tr>\n",
       "  </tbody>\n",
       "</table>\n",
       "</div>"
      ],
      "text/plain": [
       "    rank          prime_minister                          party  start  \\\n",
       "51    52  The Duke of Devonshire                           Whig   1756   \n",
       "52    53               Bonar Law  Conservative (Scot. Unionist)   1922   \n",
       "53    54   The Viscount Goderich              Tory (Canningite)   1827   \n",
       "54    55          George Canning              Tory (Canningite)   1827   \n",
       "55    56               Liz Truss                   Conservative   2022   \n",
       "\n",
       "   reasonfor_exit  years  days  total_days  scaramuccis  \n",
       "51       Replaced      0   225       225.0        20.45  \n",
       "52        Illness      0   211       211.0        19.18  \n",
       "53       Replaced      0   144       144.0        13.09  \n",
       "54           Died      0   119       119.0        10.82  \n",
       "55       Resigned      0    44        44.0         4.00  "
      ]
     },
     "execution_count": 189,
     "metadata": {},
     "output_type": "execute_result"
    }
   ],
   "source": [
    "df.tail()"
   ]
  },
  {
   "cell_type": "code",
   "execution_count": null,
   "metadata": {},
   "outputs": [],
   "source": []
  }
 ],
 "metadata": {
  "kernelspec": {
   "display_name": "Python 3 (ipykernel)",
   "language": "python",
   "name": "python3"
  },
  "language_info": {
   "codemirror_mode": {
    "name": "ipython",
    "version": 3
   },
   "file_extension": ".py",
   "mimetype": "text/x-python",
   "name": "python",
   "nbconvert_exporter": "python",
   "pygments_lexer": "ipython3",
   "version": "3.9.9"
  }
 },
 "nbformat": 4,
 "nbformat_minor": 4
}
