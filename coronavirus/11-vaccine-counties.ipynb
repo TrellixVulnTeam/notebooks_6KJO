{
 "cells": [
  {
   "cell_type": "markdown",
   "metadata": {},
   "source": [
    "# Coronavirus vaccine administration by county"
   ]
  },
  {
   "cell_type": "markdown",
   "metadata": {},
   "source": [
    "### Load Python tools"
   ]
  },
  {
   "cell_type": "code",
   "execution_count": 1,
   "metadata": {},
   "outputs": [],
   "source": [
    "%load_ext lab_black"
   ]
  },
  {
   "cell_type": "code",
   "execution_count": 2,
   "metadata": {},
   "outputs": [],
   "source": [
    "import pandas as pd\n",
    "import geopandas as gpd\n",
    "import altair as alt"
   ]
  },
  {
   "cell_type": "code",
   "execution_count": 3,
   "metadata": {},
   "outputs": [
    {
     "data": {
      "text/plain": [
       "DataTransformerRegistry.enable('default')"
      ]
     },
     "execution_count": 3,
     "metadata": {},
     "output_type": "execute_result"
    }
   ],
   "source": [
    "pd.options.display.max_columns = 50\n",
    "pd.options.display.max_rows = 1000\n",
    "alt.data_transformers.disable_max_rows()"
   ]
  },
  {
   "cell_type": "markdown",
   "metadata": {},
   "source": [
    "### Get the county-level data from CDC"
   ]
  },
  {
   "cell_type": "code",
   "execution_count": 4,
   "metadata": {},
   "outputs": [],
   "source": [
    "# Pulled from here: https://covid.cdc.gov/covid-data-tracker/#county-view"
   ]
  },
  {
   "cell_type": "code",
   "execution_count": 5,
   "metadata": {},
   "outputs": [],
   "source": [
    "url = \"https://covid.cdc.gov/covid-data-tracker/COVIDData/getAjaxData?id=vaccination_county_condensed_data\""
   ]
  },
  {
   "cell_type": "code",
   "execution_count": 6,
   "metadata": {},
   "outputs": [],
   "source": [
    "df_nested = pd.read_json(url)"
   ]
  },
  {
   "cell_type": "markdown",
   "metadata": {},
   "source": [
    "### Extract the nested data"
   ]
  },
  {
   "cell_type": "code",
   "execution_count": 7,
   "metadata": {},
   "outputs": [],
   "source": [
    "df = pd.json_normalize(df_nested[\"vaccination_county_condensed_data\"])"
   ]
  },
  {
   "cell_type": "code",
   "execution_count": 17,
   "metadata": {},
   "outputs": [
    {
     "data": {
      "text/plain": [
       "3279"
      ]
     },
     "execution_count": 17,
     "metadata": {},
     "output_type": "execute_result"
    }
   ],
   "source": [
    "len(df)"
   ]
  },
  {
   "cell_type": "markdown",
   "metadata": {},
   "source": [
    "### Clean up headers, dates and extra spaces around strings"
   ]
  },
  {
   "cell_type": "code",
   "execution_count": 9,
   "metadata": {},
   "outputs": [],
   "source": [
    "df.columns = df.columns.str.lower()"
   ]
  },
  {
   "cell_type": "code",
   "execution_count": 10,
   "metadata": {},
   "outputs": [],
   "source": [
    "df_obj = df.select_dtypes([\"object\"])\n",
    "df[df_obj.columns] = df_obj.apply(lambda x: x.str.strip())"
   ]
  },
  {
   "cell_type": "code",
   "execution_count": 11,
   "metadata": {},
   "outputs": [],
   "source": [
    "df[\"date\"] = pd.to_datetime(df[\"date\"])\n",
    "df[\"month\"] = df[\"date\"].dt.month\n",
    "df[\"month\"] = df[\"month\"].astype(str)"
   ]
  },
  {
   "cell_type": "code",
   "execution_count": 12,
   "metadata": {},
   "outputs": [
    {
     "data": {
      "text/plain": [
       "date                                       datetime64[ns]\n",
       "fips                                               object\n",
       "statename                                          object\n",
       "stateabbr                                          object\n",
       "county                                             object\n",
       "series_complete_5plus                             float64\n",
       "series_complete_5pluspop_pct                      float64\n",
       "series_complete_18plus                            float64\n",
       "series_complete_18pluspop_pct                     float64\n",
       "series_complete_65plus                            float64\n",
       "series_complete_65pluspop_pct                     float64\n",
       "series_complete_yes                               float64\n",
       "series_complete_pop_pct                           float64\n",
       "completeness_pct                                  float64\n",
       "census2019_12pluspop                              float64\n",
       "series_complete_12plus                            float64\n",
       "series_complete_12pluspop_pct                     float64\n",
       "administered_dose1_recip                          float64\n",
       "administered_dose1_recip_5plus                    float64\n",
       "administered_dose1_recip_12plus                   float64\n",
       "administered_dose1_recip_18plus                   float64\n",
       "administered_dose1_recip_65plus                   float64\n",
       "administered_dose1_pop_pct                        float64\n",
       "administered_dose1_recip_5pluspop_pct             float64\n",
       "administered_dose1_recip_12pluspop_pct            float64\n",
       "administered_dose1_recip_18pluspop_pct            float64\n",
       "administered_dose1_recip_65pluspop_pct            float64\n",
       "series_complete_pop_pct_svi                        object\n",
       "series_complete_5pluspop_pct_svi                   object\n",
       "series_complete_12pluspop_pct_svi                  object\n",
       "series_complete_18pluspop_pct_svi                  object\n",
       "series_complete_65pluspop_pct_svi                  object\n",
       "svi_ctgy                                           object\n",
       "series_complete_pop_pct_ur_equity                 float64\n",
       "series_complete_5pluspop_pct_ur_equity            float64\n",
       "series_complete_12pluspop_pct_ur_equity           float64\n",
       "series_complete_18pluspop_pct_ur_equity           float64\n",
       "series_complete_65pluspop_pct_ur_equity           float64\n",
       "metro_status                                       object\n",
       "booster_doses                                     float64\n",
       "booster_doses_18plus                              float64\n",
       "booster_doses_50plus                              float64\n",
       "booster_doses_65plus                              float64\n",
       "booster_doses_vax_pct                             float64\n",
       "booster_doses_18plus_vax_pct                      float64\n",
       "booster_doses_50plus_vax_pct                      float64\n",
       "booster_doses_65plus_vax_pct                      float64\n",
       "month                                              object\n",
       "dtype: object"
      ]
     },
     "execution_count": 12,
     "metadata": {},
     "output_type": "execute_result"
    }
   ],
   "source": [
    "df.dtypes"
   ]
  },
  {
   "cell_type": "markdown",
   "metadata": {},
   "source": [
    "### Filter the data frame to just a specific state"
   ]
  },
  {
   "cell_type": "code",
   "execution_count": 13,
   "metadata": {},
   "outputs": [],
   "source": [
    "ca = df[df[\"stateabbr\"] == \"CA\"]"
   ]
  },
  {
   "cell_type": "code",
   "execution_count": 14,
   "metadata": {},
   "outputs": [
    {
     "data": {
      "text/html": [
       "<div>\n",
       "<style scoped>\n",
       "    .dataframe tbody tr th:only-of-type {\n",
       "        vertical-align: middle;\n",
       "    }\n",
       "\n",
       "    .dataframe tbody tr th {\n",
       "        vertical-align: top;\n",
       "    }\n",
       "\n",
       "    .dataframe thead th {\n",
       "        text-align: right;\n",
       "    }\n",
       "</style>\n",
       "<table border=\"1\" class=\"dataframe\">\n",
       "  <thead>\n",
       "    <tr style=\"text-align: right;\">\n",
       "      <th></th>\n",
       "      <th>date</th>\n",
       "      <th>fips</th>\n",
       "      <th>county</th>\n",
       "      <th>statename</th>\n",
       "      <th>series_complete_pop_pct</th>\n",
       "    </tr>\n",
       "  </thead>\n",
       "  <tbody>\n",
       "    <tr>\n",
       "      <th>208</th>\n",
       "      <td>2022-01-27</td>\n",
       "      <td>06041</td>\n",
       "      <td>Marin County</td>\n",
       "      <td>California</td>\n",
       "      <td>86.9</td>\n",
       "    </tr>\n",
       "    <tr>\n",
       "      <th>230</th>\n",
       "      <td>2022-01-27</td>\n",
       "      <td>06085</td>\n",
       "      <td>Santa Clara County</td>\n",
       "      <td>California</td>\n",
       "      <td>83.9</td>\n",
       "    </tr>\n",
       "    <tr>\n",
       "      <th>200</th>\n",
       "      <td>2022-01-27</td>\n",
       "      <td>06025</td>\n",
       "      <td>Imperial County</td>\n",
       "      <td>California</td>\n",
       "      <td>82.6</td>\n",
       "    </tr>\n",
       "    <tr>\n",
       "      <th>225</th>\n",
       "      <td>2022-01-27</td>\n",
       "      <td>06075</td>\n",
       "      <td>San Francisco County</td>\n",
       "      <td>California</td>\n",
       "      <td>81.8</td>\n",
       "    </tr>\n",
       "    <tr>\n",
       "      <th>228</th>\n",
       "      <td>2022-01-27</td>\n",
       "      <td>06081</td>\n",
       "      <td>San Mateo County</td>\n",
       "      <td>California</td>\n",
       "      <td>81.4</td>\n",
       "    </tr>\n",
       "    <tr>\n",
       "      <th>188</th>\n",
       "      <td>2022-01-27</td>\n",
       "      <td>06001</td>\n",
       "      <td>Alameda County</td>\n",
       "      <td>California</td>\n",
       "      <td>79.5</td>\n",
       "    </tr>\n",
       "    <tr>\n",
       "      <th>194</th>\n",
       "      <td>2022-01-27</td>\n",
       "      <td>06013</td>\n",
       "      <td>Contra Costa County</td>\n",
       "      <td>California</td>\n",
       "      <td>79.3</td>\n",
       "    </tr>\n",
       "    <tr>\n",
       "      <th>231</th>\n",
       "      <td>2022-01-27</td>\n",
       "      <td>06087</td>\n",
       "      <td>Santa Cruz County</td>\n",
       "      <td>California</td>\n",
       "      <td>76.2</td>\n",
       "    </tr>\n",
       "    <tr>\n",
       "      <th>236</th>\n",
       "      <td>2022-01-27</td>\n",
       "      <td>06097</td>\n",
       "      <td>Sonoma County</td>\n",
       "      <td>California</td>\n",
       "      <td>75.7</td>\n",
       "    </tr>\n",
       "    <tr>\n",
       "      <th>215</th>\n",
       "      <td>2022-01-27</td>\n",
       "      <td>06055</td>\n",
       "      <td>Napa County</td>\n",
       "      <td>California</td>\n",
       "      <td>74.7</td>\n",
       "    </tr>\n",
       "  </tbody>\n",
       "</table>\n",
       "</div>"
      ],
      "text/plain": [
       "          date   fips                county   statename  \\\n",
       "208 2022-01-27  06041          Marin County  California   \n",
       "230 2022-01-27  06085    Santa Clara County  California   \n",
       "200 2022-01-27  06025       Imperial County  California   \n",
       "225 2022-01-27  06075  San Francisco County  California   \n",
       "228 2022-01-27  06081      San Mateo County  California   \n",
       "188 2022-01-27  06001        Alameda County  California   \n",
       "194 2022-01-27  06013   Contra Costa County  California   \n",
       "231 2022-01-27  06087     Santa Cruz County  California   \n",
       "236 2022-01-27  06097         Sonoma County  California   \n",
       "215 2022-01-27  06055           Napa County  California   \n",
       "\n",
       "     series_complete_pop_pct  \n",
       "208                     86.9  \n",
       "230                     83.9  \n",
       "200                     82.6  \n",
       "225                     81.8  \n",
       "228                     81.4  \n",
       "188                     79.5  \n",
       "194                     79.3  \n",
       "231                     76.2  \n",
       "236                     75.7  \n",
       "215                     74.7  "
      ]
     },
     "execution_count": 14,
     "metadata": {},
     "output_type": "execute_result"
    }
   ],
   "source": [
    "ca[[\"date\", \"fips\", \"county\", \"statename\", \"series_complete_pop_pct\"]].sort_values(\n",
    "    \"series_complete_pop_pct\", ascending=False\n",
    ").head(10)"
   ]
  },
  {
   "cell_type": "markdown",
   "metadata": {},
   "source": [
    "### Which counties in the U.S. have the highest vaccination rates?"
   ]
  },
  {
   "cell_type": "code",
   "execution_count": 15,
   "metadata": {},
   "outputs": [
    {
     "data": {
      "text/html": [
       "<div>\n",
       "<style scoped>\n",
       "    .dataframe tbody tr th:only-of-type {\n",
       "        vertical-align: middle;\n",
       "    }\n",
       "\n",
       "    .dataframe tbody tr th {\n",
       "        vertical-align: top;\n",
       "    }\n",
       "\n",
       "    .dataframe thead th {\n",
       "        text-align: right;\n",
       "    }\n",
       "</style>\n",
       "<table border=\"1\" class=\"dataframe\">\n",
       "  <thead>\n",
       "    <tr style=\"text-align: right;\">\n",
       "      <th></th>\n",
       "      <th>date</th>\n",
       "      <th>fips</th>\n",
       "      <th>county</th>\n",
       "      <th>statename</th>\n",
       "      <th>series_complete_pop_pct</th>\n",
       "    </tr>\n",
       "  </thead>\n",
       "  <tbody>\n",
       "    <tr>\n",
       "      <th>2720</th>\n",
       "      <td>2022-01-27</td>\n",
       "      <td>48235</td>\n",
       "      <td>Irion County</td>\n",
       "      <td>Texas</td>\n",
       "      <td>95.0</td>\n",
       "    </tr>\n",
       "    <tr>\n",
       "      <th>2337</th>\n",
       "      <td>2022-01-27</td>\n",
       "      <td>72049</td>\n",
       "      <td>Culebra Muni</td>\n",
       "      <td>Puerto Rico</td>\n",
       "      <td>95.0</td>\n",
       "    </tr>\n",
       "    <tr>\n",
       "      <th>71</th>\n",
       "      <td>2022-01-27</td>\n",
       "      <td>02060</td>\n",
       "      <td>Bristol Bay Borough</td>\n",
       "      <td>Alaska</td>\n",
       "      <td>95.0</td>\n",
       "    </tr>\n",
       "    <tr>\n",
       "      <th>414</th>\n",
       "      <td>2022-01-27</td>\n",
       "      <td>13053</td>\n",
       "      <td>Chattahoochee County</td>\n",
       "      <td>Georgia</td>\n",
       "      <td>95.0</td>\n",
       "    </tr>\n",
       "    <tr>\n",
       "      <th>110</th>\n",
       "      <td>2022-01-27</td>\n",
       "      <td>04023</td>\n",
       "      <td>Santa Cruz County</td>\n",
       "      <td>Arizona</td>\n",
       "      <td>95.0</td>\n",
       "    </tr>\n",
       "    <tr>\n",
       "      <th>2791</th>\n",
       "      <td>2022-01-27</td>\n",
       "      <td>48377</td>\n",
       "      <td>Presidio County</td>\n",
       "      <td>Texas</td>\n",
       "      <td>95.0</td>\n",
       "    </tr>\n",
       "    <tr>\n",
       "      <th>2319</th>\n",
       "      <td>2022-01-27</td>\n",
       "      <td>72013</td>\n",
       "      <td>Arecibo Muni</td>\n",
       "      <td>Puerto Rico</td>\n",
       "      <td>95.0</td>\n",
       "    </tr>\n",
       "    <tr>\n",
       "      <th>98</th>\n",
       "      <td>2022-01-27</td>\n",
       "      <td>04001</td>\n",
       "      <td>Apache County</td>\n",
       "      <td>Arizona</td>\n",
       "      <td>92.2</td>\n",
       "    </tr>\n",
       "    <tr>\n",
       "      <th>2354</th>\n",
       "      <td>2022-01-27</td>\n",
       "      <td>72081</td>\n",
       "      <td>Lares Muni</td>\n",
       "      <td>Puerto Rico</td>\n",
       "      <td>90.1</td>\n",
       "    </tr>\n",
       "    <tr>\n",
       "      <th>302</th>\n",
       "      <td>2022-01-27</td>\n",
       "      <td>08111</td>\n",
       "      <td>San Juan County</td>\n",
       "      <td>Colorado</td>\n",
       "      <td>90.1</td>\n",
       "    </tr>\n",
       "  </tbody>\n",
       "</table>\n",
       "</div>"
      ],
      "text/plain": [
       "           date   fips                county    statename  \\\n",
       "2720 2022-01-27  48235          Irion County        Texas   \n",
       "2337 2022-01-27  72049          Culebra Muni  Puerto Rico   \n",
       "71   2022-01-27  02060   Bristol Bay Borough       Alaska   \n",
       "414  2022-01-27  13053  Chattahoochee County      Georgia   \n",
       "110  2022-01-27  04023     Santa Cruz County      Arizona   \n",
       "2791 2022-01-27  48377       Presidio County        Texas   \n",
       "2319 2022-01-27  72013          Arecibo Muni  Puerto Rico   \n",
       "98   2022-01-27  04001         Apache County      Arizona   \n",
       "2354 2022-01-27  72081            Lares Muni  Puerto Rico   \n",
       "302  2022-01-27  08111       San Juan County     Colorado   \n",
       "\n",
       "      series_complete_pop_pct  \n",
       "2720                     95.0  \n",
       "2337                     95.0  \n",
       "71                       95.0  \n",
       "414                      95.0  \n",
       "110                      95.0  \n",
       "2791                     95.0  \n",
       "2319                     95.0  \n",
       "98                       92.2  \n",
       "2354                     90.1  \n",
       "302                      90.1  "
      ]
     },
     "execution_count": 15,
     "metadata": {},
     "output_type": "execute_result"
    }
   ],
   "source": [
    "df[[\"date\", \"fips\", \"county\", \"statename\", \"series_complete_pop_pct\"]].sort_values(\n",
    "    \"series_complete_pop_pct\", ascending=False\n",
    ").head(10)"
   ]
  },
  {
   "cell_type": "markdown",
   "metadata": {},
   "source": [
    "---"
   ]
  },
  {
   "cell_type": "markdown",
   "metadata": {},
   "source": [
    "### Export to csv"
   ]
  },
  {
   "cell_type": "code",
   "execution_count": 16,
   "metadata": {},
   "outputs": [],
   "source": [
    "df.to_csv(\"output/vaccinations_by_county.csv\", index=False)"
   ]
  }
 ],
 "metadata": {
  "kernelspec": {
   "display_name": "Python 3 (ipykernel)",
   "language": "python",
   "name": "python3"
  },
  "language_info": {
   "codemirror_mode": {
    "name": "ipython",
    "version": 3
   },
   "file_extension": ".py",
   "mimetype": "text/x-python",
   "name": "python",
   "nbconvert_exporter": "python",
   "pygments_lexer": "ipython3",
   "version": "3.8.9"
  }
 },
 "nbformat": 4,
 "nbformat_minor": 4
}
