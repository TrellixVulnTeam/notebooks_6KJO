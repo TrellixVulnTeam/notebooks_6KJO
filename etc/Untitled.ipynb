{
 "cells": [
  {
   "cell_type": "code",
   "execution_count": 8,
   "id": "2def66e3-6c15-45f2-9fa8-ab14f667d3c4",
   "metadata": {},
   "outputs": [],
   "source": []
  },
  {
   "cell_type": "code",
   "execution_count": 8,
   "id": "98c574f4-d335-4f37-a1fa-d1e9c2147081",
   "metadata": {},
   "outputs": [],
   "source": []
  },
  {
   "cell_type": "code",
   "execution_count": 8,
   "id": "0213600f-c59f-45e1-8b7a-c490df31d133",
   "metadata": {},
   "outputs": [],
   "source": []
  },
  {
   "cell_type": "code",
   "execution_count": 8,
   "id": "df2da97e-d0f6-4020-b722-70fa0af79551",
   "metadata": {},
   "outputs": [
    {
     "name": "stdout",
     "output_type": "stream",
     "text": [
      "zsh:1: parse error near `&'\n"
     ]
    }
   ],
   "source": [
    "https://quickstats.nass.usda.gov/api/api_GET/?key=AC674188-C7A8-3905-9AB7-1FA1DAEDEEF0&commodity_desc=LETTUCE&agg_level_desc=COUNTY&year=2017&format=JSON"
   ]
  },
  {
   "cell_type": "code",
   "execution_count": null,
   "id": "46eb46e8-babb-4691-8cc4-73bca379b5c4",
   "metadata": {},
   "outputs": [],
   "source": []
  }
 ],
 "metadata": {
  "kernelspec": {
   "display_name": "Python 3",
   "language": "python",
   "name": "python3"
  },
  "language_info": {
   "codemirror_mode": {
    "name": "ipython",
    "version": 3
   },
   "file_extension": ".py",
   "mimetype": "text/x-python",
   "name": "python",
   "nbconvert_exporter": "python",
   "pygments_lexer": "ipython3",
   "version": "3.8.8"
  }
 },
 "nbformat": 4,
 "nbformat_minor": 5
}
