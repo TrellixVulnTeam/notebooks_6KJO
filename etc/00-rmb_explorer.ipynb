{
 "cells": [
  {
   "cell_type": "markdown",
   "id": "5f28906c-a63e-4b22-a826-89f258152d93",
   "metadata": {},
   "source": [
    "# Scrape RMB Explorer tables"
   ]
  },
  {
   "cell_type": "code",
   "execution_count": 21,
   "id": "e05f6d00-a626-4dc9-a9fd-11763f68067a",
   "metadata": {},
   "outputs": [],
   "source": [
    "import pandas as pd\n",
    "import datetime"
   ]
  },
  {
   "cell_type": "code",
   "execution_count": 23,
   "id": "5c302d55-e7a9-4e4c-a772-f1010a430850",
   "metadata": {},
   "outputs": [
    {
     "ename": "AttributeError",
     "evalue": "module 'datetime' has no attribute 'today'",
     "output_type": "error",
     "traceback": [
      "\u001b[0;31m---------------------------------------------------------------------------\u001b[0m",
      "\u001b[0;31mAttributeError\u001b[0m                            Traceback (most recent call last)",
      "\u001b[0;32m<ipython-input-23-6a4662163ae3>\u001b[0m in \u001b[0;36m<module>\u001b[0;34m\u001b[0m\n\u001b[0;32m----> 1\u001b[0;31m \u001b[0mtoday\u001b[0m \u001b[0;34m=\u001b[0m \u001b[0mdatetime\u001b[0m\u001b[0;34m.\u001b[0m\u001b[0mtoday\u001b[0m\u001b[0;34m(\u001b[0m\u001b[0;34m)\u001b[0m\u001b[0;34m.\u001b[0m\u001b[0mstrftime\u001b[0m\u001b[0;34m(\u001b[0m\u001b[0;34m\"%Y%m%d\"\u001b[0m\u001b[0;34m)\u001b[0m\u001b[0;34m\u001b[0m\u001b[0;34m\u001b[0m\u001b[0m\n\u001b[0m",
      "\u001b[0;31mAttributeError\u001b[0m: module 'datetime' has no attribute 'today'"
     ]
    }
   ],
   "source": [
    "today = datetime.today().strftime(\"%Y%m%d\")"
   ]
  },
  {
   "cell_type": "code",
   "execution_count": 20,
   "id": "d57e6457-d56a-4bec-afb2-23674a4411f3",
   "metadata": {},
   "outputs": [
    {
     "data": {
      "text/plain": [
       "Timestamp('2021-12-23 11:24:00.583413')"
      ]
     },
     "execution_count": 20,
     "metadata": {},
     "output_type": "execute_result"
    }
   ],
   "source": [
    "today"
   ]
  },
  {
   "cell_type": "markdown",
   "id": "155b0542-af0b-479d-a143-792b898c5a18",
   "metadata": {},
   "source": [
    "### Base URL"
   ]
  },
  {
   "cell_type": "code",
   "execution_count": 2,
   "id": "269f8146-6e01-4d2c-85ce-ea6440858d54",
   "metadata": {},
   "outputs": [],
   "source": [
    "url = 'https://portal.legalcallsonly.org/List/RoboMitigate?ord=0&off='"
   ]
  },
  {
   "cell_type": "markdown",
   "id": "cddf9a79-7328-4ce9-8a8d-433ba7367350",
   "metadata": {},
   "source": [
    "### Make a list of all the urls based on pagination system"
   ]
  },
  {
   "cell_type": "code",
   "execution_count": 3,
   "id": "42171eb5-a5d9-443f-937d-41f6b9ade3a8",
   "metadata": {},
   "outputs": [],
   "source": [
    "urls = []\n",
    "for r in range(0,6900, 50):\n",
    "    urls.append(url + str(r))"
   ]
  },
  {
   "cell_type": "markdown",
   "id": "2289ae5a-c78e-4558-8225-f69b35ba1b47",
   "metadata": {},
   "source": [
    "### Scrape the pages into a list of tables"
   ]
  },
  {
   "cell_type": "code",
   "execution_count": 4,
   "id": "af9fe509-1a1b-4da6-8df2-29b1dad1f69d",
   "metadata": {},
   "outputs": [],
   "source": [
    "tables = []\n",
    "for u in urls: \n",
    "    tables.append(pd.read_html(u)[0])"
   ]
  },
  {
   "cell_type": "markdown",
   "id": "e48ae798-3447-4c9b-b488-5d1215fd2218",
   "metadata": {},
   "source": [
    "### Concatenate into one dataframe"
   ]
  },
  {
   "cell_type": "code",
   "execution_count": 5,
   "id": "2babd4d1-ba85-440a-8ac2-94056132e67f",
   "metadata": {},
   "outputs": [],
   "source": [
    "df = pd.concat(tables).reset_index(drop=True)"
   ]
  },
  {
   "cell_type": "code",
   "execution_count": 6,
   "id": "2884df73-bdfb-4e7b-a2b2-ee92d292f8a3",
   "metadata": {},
   "outputs": [
    {
     "data": {
      "text/html": [
       "<div>\n",
       "<style scoped>\n",
       "    .dataframe tbody tr th:only-of-type {\n",
       "        vertical-align: middle;\n",
       "    }\n",
       "\n",
       "    .dataframe tbody tr th {\n",
       "        vertical-align: top;\n",
       "    }\n",
       "\n",
       "    .dataframe thead th {\n",
       "        text-align: right;\n",
       "    }\n",
       "</style>\n",
       "<table border=\"1\" class=\"dataframe\">\n",
       "  <thead>\n",
       "    <tr style=\"text-align: right;\">\n",
       "      <th></th>\n",
       "      <th>Name</th>\n",
       "      <th>Location</th>\n",
       "      <th>Stir/Shaken</th>\n",
       "      <th>PDF</th>\n",
       "      <th>Score</th>\n",
       "      <th>Created On</th>\n",
       "      <th>Updated On</th>\n",
       "      <th>Unnamed: 7</th>\n",
       "    </tr>\n",
       "  </thead>\n",
       "  <tbody>\n",
       "    <tr>\n",
       "      <th>0</th>\n",
       "      <td>BLANKDBA: Tech Man Inc</td>\n",
       "      <td>Lutz FL</td>\n",
       "      <td>No S/S</td>\n",
       "      <td>RMP</td>\n",
       "      <td>LR</td>\n",
       "      <td>2021-09-22</td>\n",
       "      <td>NaN</td>\n",
       "      <td>(1)</td>\n",
       "    </tr>\n",
       "    <tr>\n",
       "      <th>1</th>\n",
       "      <td>BLANKDBA: pats mobile service</td>\n",
       "      <td>Sunland CA</td>\n",
       "      <td>IntermedProvider</td>\n",
       "      <td>NaN</td>\n",
       "      <td>NaN</td>\n",
       "      <td>2021-09-13</td>\n",
       "      <td>NaN</td>\n",
       "      <td>NaN</td>\n",
       "    </tr>\n",
       "    <tr>\n",
       "      <th>2</th>\n",
       "      <td>BLANKDBA: copycall</td>\n",
       "      <td>santa monica CA</td>\n",
       "      <td>IntermedProvider</td>\n",
       "      <td>NaN</td>\n",
       "      <td>NaN</td>\n",
       "      <td>2021-09-21</td>\n",
       "      <td>NaN</td>\n",
       "      <td>(1)</td>\n",
       "    </tr>\n",
       "    <tr>\n",
       "      <th>3</th>\n",
       "      <td>BLANKDBA: VoiceWARE</td>\n",
       "      <td>Murphy TX</td>\n",
       "      <td>No S/S</td>\n",
       "      <td>RMP</td>\n",
       "      <td>4</td>\n",
       "      <td>2021-10-04</td>\n",
       "      <td>NaN</td>\n",
       "      <td>(1)</td>\n",
       "    </tr>\n",
       "    <tr>\n",
       "      <th>4</th>\n",
       "      <td>BLANK</td>\n",
       "      <td>West Palm Beach FL</td>\n",
       "      <td>Partial S/S</td>\n",
       "      <td>RMP</td>\n",
       "      <td>LR</td>\n",
       "      <td>2021-09-24</td>\n",
       "      <td>NaN</td>\n",
       "      <td>(1)</td>\n",
       "    </tr>\n",
       "  </tbody>\n",
       "</table>\n",
       "</div>"
      ],
      "text/plain": [
       "                            Name            Location       Stir/Shaken  PDF  \\\n",
       "0         BLANKDBA: Tech Man Inc             Lutz FL            No S/S  RMP   \n",
       "1  BLANKDBA: pats mobile service          Sunland CA  IntermedProvider  NaN   \n",
       "2             BLANKDBA: copycall     santa monica CA  IntermedProvider  NaN   \n",
       "3            BLANKDBA: VoiceWARE           Murphy TX            No S/S  RMP   \n",
       "4                          BLANK  West Palm Beach FL       Partial S/S  RMP   \n",
       "\n",
       "  Score  Created On Updated On Unnamed: 7  \n",
       "0    LR  2021-09-22        NaN        (1)  \n",
       "1   NaN  2021-09-13        NaN        NaN  \n",
       "2   NaN  2021-09-21        NaN        (1)  \n",
       "3     4  2021-10-04        NaN        (1)  \n",
       "4    LR  2021-09-24        NaN        (1)  "
      ]
     },
     "execution_count": 6,
     "metadata": {},
     "output_type": "execute_result"
    }
   ],
   "source": [
    "# https://portal.legalcallsonly.org/List/RoboMitigate?ord=0&off=0\n",
    "df.head()"
   ]
  },
  {
   "cell_type": "code",
   "execution_count": 7,
   "id": "65eee1b4-8e4c-4c63-9a72-12900536cb98",
   "metadata": {},
   "outputs": [
    {
     "data": {
      "text/html": [
       "<div>\n",
       "<style scoped>\n",
       "    .dataframe tbody tr th:only-of-type {\n",
       "        vertical-align: middle;\n",
       "    }\n",
       "\n",
       "    .dataframe tbody tr th {\n",
       "        vertical-align: top;\n",
       "    }\n",
       "\n",
       "    .dataframe thead th {\n",
       "        text-align: right;\n",
       "    }\n",
       "</style>\n",
       "<table border=\"1\" class=\"dataframe\">\n",
       "  <thead>\n",
       "    <tr style=\"text-align: right;\">\n",
       "      <th></th>\n",
       "      <th>Name</th>\n",
       "      <th>Location</th>\n",
       "      <th>Stir/Shaken</th>\n",
       "      <th>PDF</th>\n",
       "      <th>Score</th>\n",
       "      <th>Created On</th>\n",
       "      <th>Updated On</th>\n",
       "      <th>Unnamed: 7</th>\n",
       "    </tr>\n",
       "  </thead>\n",
       "  <tbody>\n",
       "    <tr>\n",
       "      <th>6888</th>\n",
       "      <td>Zumbrota Telephone Company</td>\n",
       "      <td>Zumbrota MN</td>\n",
       "      <td>No S/S</td>\n",
       "      <td>RMP</td>\n",
       "      <td>LR</td>\n",
       "      <td>2021-06-23</td>\n",
       "      <td>NaN</td>\n",
       "      <td>(5)</td>\n",
       "    </tr>\n",
       "    <tr>\n",
       "      <th>6889</th>\n",
       "      <td>ZXEER LLC</td>\n",
       "      <td>San Francisco CA</td>\n",
       "      <td>IntermedProvider</td>\n",
       "      <td>NaN</td>\n",
       "      <td>NaN</td>\n",
       "      <td>2021-11-22</td>\n",
       "      <td>NaN</td>\n",
       "      <td>NaN</td>\n",
       "    </tr>\n",
       "    <tr>\n",
       "      <th>6890</th>\n",
       "      <td>Zyfexx, Inc.</td>\n",
       "      <td>Portsmouth OH</td>\n",
       "      <td>Complete S/S</td>\n",
       "      <td>NaN</td>\n",
       "      <td>NaN</td>\n",
       "      <td>2021-09-27</td>\n",
       "      <td>NaN</td>\n",
       "      <td>(1)</td>\n",
       "    </tr>\n",
       "    <tr>\n",
       "      <th>6891</th>\n",
       "      <td>zyis digital</td>\n",
       "      <td>plantation FL</td>\n",
       "      <td>Complete S/S</td>\n",
       "      <td>NaN</td>\n",
       "      <td>NaN</td>\n",
       "      <td>2021-09-30</td>\n",
       "      <td>NaN</td>\n",
       "      <td>(1)</td>\n",
       "    </tr>\n",
       "    <tr>\n",
       "      <th>6892</th>\n",
       "      <td>Zymos Computer Systems Inc, DBA ZiD Internet</td>\n",
       "      <td>CanadaFOREIGN</td>\n",
       "      <td>No S/S</td>\n",
       "      <td>RMP</td>\n",
       "      <td>LR</td>\n",
       "      <td>2021-09-27</td>\n",
       "      <td>NaN</td>\n",
       "      <td>NaN</td>\n",
       "    </tr>\n",
       "  </tbody>\n",
       "</table>\n",
       "</div>"
      ],
      "text/plain": [
       "                                              Name          Location  \\\n",
       "6888                    Zumbrota Telephone Company       Zumbrota MN   \n",
       "6889                                     ZXEER LLC  San Francisco CA   \n",
       "6890                                  Zyfexx, Inc.     Portsmouth OH   \n",
       "6891                                  zyis digital     plantation FL   \n",
       "6892  Zymos Computer Systems Inc, DBA ZiD Internet     CanadaFOREIGN   \n",
       "\n",
       "           Stir/Shaken  PDF Score  Created On Updated On Unnamed: 7  \n",
       "6888            No S/S  RMP    LR  2021-06-23        NaN        (5)  \n",
       "6889  IntermedProvider  NaN   NaN  2021-11-22        NaN        NaN  \n",
       "6890      Complete S/S  NaN   NaN  2021-09-27        NaN        (1)  \n",
       "6891      Complete S/S  NaN   NaN  2021-09-30        NaN        (1)  \n",
       "6892            No S/S  RMP    LR  2021-09-27        NaN        NaN  "
      ]
     },
     "execution_count": 7,
     "metadata": {},
     "output_type": "execute_result"
    }
   ],
   "source": [
    "# https://portal.legalcallsonly.org/List/RoboMitigate?ord=0&off=6850\n",
    "df.tail()"
   ]
  },
  {
   "cell_type": "markdown",
   "id": "61dc9cd9-fb56-4eeb-88ec-5a8f07b5cb90",
   "metadata": {},
   "source": [
    "### Export table"
   ]
  },
  {
   "cell_type": "code",
   "execution_count": null,
   "id": "83184e71-05e8-42ba-b3bf-246ce6ee141c",
   "metadata": {},
   "outputs": [],
   "source": [
    "df.to_csv(f'rmb_explorer_table{today}.csv', index=False)"
   ]
  }
 ],
 "metadata": {
  "kernelspec": {
   "display_name": "Python 3",
   "language": "python",
   "name": "python3"
  },
  "language_info": {
   "codemirror_mode": {
    "name": "ipython",
    "version": 3
   },
   "file_extension": ".py",
   "mimetype": "text/x-python",
   "name": "python",
   "nbconvert_exporter": "python",
   "pygments_lexer": "ipython3",
   "version": "3.8.8"
  }
 },
 "nbformat": 4,
 "nbformat_minor": 5
}
