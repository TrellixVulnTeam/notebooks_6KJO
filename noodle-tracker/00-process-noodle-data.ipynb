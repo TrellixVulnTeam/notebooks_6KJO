{
 "cells": [
  {
   "cell_type": "markdown",
   "id": "75d03ecb-426a-472a-ad17-123b78086916",
   "metadata": {},
   "source": [
    "# How likely is a Bones Day vs. a No Bones Day?"
   ]
  },
  {
   "cell_type": "code",
   "execution_count": 1,
   "id": "c777d9e4-bc57-45a6-9636-ed6aa79d74fc",
   "metadata": {},
   "outputs": [],
   "source": [
    "%load_ext lab_black"
   ]
  },
  {
   "cell_type": "markdown",
   "id": "fc28bb35-7e41-4a01-b1bf-1c47240a5397",
   "metadata": {},
   "source": [
    "### Load Python tools"
   ]
  },
  {
   "cell_type": "code",
   "execution_count": 2,
   "id": "c4781557-b34b-422f-9985-021771358b26",
   "metadata": {},
   "outputs": [],
   "source": [
    "import pandas as pd\n",
    "import altair as alt\n",
    "import datetime as dt"
   ]
  },
  {
   "cell_type": "code",
   "execution_count": 3,
   "id": "2a0e08ee-7d21-4f91-b6a5-8cc0ae11d185",
   "metadata": {},
   "outputs": [],
   "source": [
    "today = dt.datetime.today()"
   ]
  },
  {
   "cell_type": "markdown",
   "id": "63cafa9e-d6c2-4af7-9999-b2905a45c616",
   "metadata": {},
   "source": [
    "### Read data collected from [TikTok](https://www.tiktok.com/@jongraz) about Noodle"
   ]
  },
  {
   "cell_type": "code",
   "execution_count": 4,
   "id": "95ae02c7-4a70-4843-b49d-0e4914465d98",
   "metadata": {},
   "outputs": [],
   "source": [
    "src = pd.read_csv(\n",
    "    \"https://docs.google.com/spreadsheets/d/e/2PACX-1vQz8eEafXnIeKsNvGL8M56Ia6vu89JDCjfJ22ORl65So4kRYtmTbwmqLjE223fe4mjcZqkrs-KT6j8z/pub?\\\n",
    "gid=0&single=true&output=csv\"\n",
    ")"
   ]
  },
  {
   "cell_type": "markdown",
   "id": "e336649c-926c-43b8-8d3f-468717c51359",
   "metadata": {},
   "source": [
    "### Process dates"
   ]
  },
  {
   "cell_type": "code",
   "execution_count": 5,
   "id": "8ce9f981-e4a7-4e88-87f1-5b86c15a471e",
   "metadata": {},
   "outputs": [],
   "source": [
    "src[\"date\"] = pd.to_datetime(src[\"date\"])"
   ]
  },
  {
   "cell_type": "code",
   "execution_count": 6,
   "id": "24a49d88-08df-4763-9500-1232861c623f",
   "metadata": {},
   "outputs": [],
   "source": [
    "df_date = pd.DataFrame()\n",
    "index = pd.date_range(start=\"2021-09-01\", end=today, freq=\"D\")\n",
    "df_date[\"date\"] = index"
   ]
  },
  {
   "cell_type": "markdown",
   "id": "78b0d6be-b8f7-4057-bd83-29e6a9143f8d",
   "metadata": {},
   "source": [
    "### Merge the dates to backfill"
   ]
  },
  {
   "cell_type": "code",
   "execution_count": 7,
   "id": "5717f1f7-91d2-485f-ba5e-e665d40b8096",
   "metadata": {},
   "outputs": [],
   "source": [
    "df = pd.merge(src, df_date, on=\"date\", how=\"outer\")"
   ]
  },
  {
   "cell_type": "code",
   "execution_count": 8,
   "id": "3748c822-88fc-4d56-8625-1748e64fc9b0",
   "metadata": {},
   "outputs": [],
   "source": [
    "df[\"weekday\"] = df[\"date\"].dt.day_name()\n",
    "df[\"month\"] = df[\"date\"].dt.month_name()\n",
    "df[\"weekend\"] = df[\"date\"].dt.day_name().isin([\"Saturday\", \"Sunday\"])"
   ]
  },
  {
   "cell_type": "code",
   "execution_count": 9,
   "id": "e9b58ffc-b79c-4999-b220-3a855418a153",
   "metadata": {},
   "outputs": [],
   "source": [
    "df.drop([\"url\"], axis=1, inplace=True)"
   ]
  },
  {
   "cell_type": "code",
   "execution_count": 10,
   "id": "78d31969-876a-46ef-bba5-03cc26f6d49f",
   "metadata": {},
   "outputs": [],
   "source": [
    "df.bones_nobones = df.bones_nobones.fillna(\"No video\")"
   ]
  },
  {
   "cell_type": "markdown",
   "id": "e9907c13-584a-41fd-8686-9f3d1bb44bbc",
   "metadata": {},
   "source": [
    "### What's our dataframe look like? "
   ]
  },
  {
   "cell_type": "code",
   "execution_count": 11,
   "id": "6fb77081-4b5d-4d19-bec3-989caf2002e4",
   "metadata": {},
   "outputs": [
    {
     "data": {
      "text/html": [
       "<div>\n",
       "<style scoped>\n",
       "    .dataframe tbody tr th:only-of-type {\n",
       "        vertical-align: middle;\n",
       "    }\n",
       "\n",
       "    .dataframe tbody tr th {\n",
       "        vertical-align: top;\n",
       "    }\n",
       "\n",
       "    .dataframe thead th {\n",
       "        text-align: right;\n",
       "    }\n",
       "</style>\n",
       "<table border=\"1\" class=\"dataframe\">\n",
       "  <thead>\n",
       "    <tr style=\"text-align: right;\">\n",
       "      <th></th>\n",
       "      <th>date</th>\n",
       "      <th>bones_nobones</th>\n",
       "      <th>weekday</th>\n",
       "      <th>month</th>\n",
       "      <th>weekend</th>\n",
       "    </tr>\n",
       "  </thead>\n",
       "  <tbody>\n",
       "    <tr>\n",
       "      <th>0</th>\n",
       "      <td>2021-11-18</td>\n",
       "      <td>Bones!</td>\n",
       "      <td>Thursday</td>\n",
       "      <td>November</td>\n",
       "      <td>False</td>\n",
       "    </tr>\n",
       "    <tr>\n",
       "      <th>1</th>\n",
       "      <td>2021-11-16</td>\n",
       "      <td>Bones!</td>\n",
       "      <td>Tuesday</td>\n",
       "      <td>November</td>\n",
       "      <td>False</td>\n",
       "    </tr>\n",
       "    <tr>\n",
       "      <th>2</th>\n",
       "      <td>2021-11-15</td>\n",
       "      <td>Bones!</td>\n",
       "      <td>Monday</td>\n",
       "      <td>November</td>\n",
       "      <td>False</td>\n",
       "    </tr>\n",
       "    <tr>\n",
       "      <th>3</th>\n",
       "      <td>2021-11-12</td>\n",
       "      <td>No bones</td>\n",
       "      <td>Friday</td>\n",
       "      <td>November</td>\n",
       "      <td>False</td>\n",
       "    </tr>\n",
       "    <tr>\n",
       "      <th>4</th>\n",
       "      <td>2021-11-11</td>\n",
       "      <td>No bones</td>\n",
       "      <td>Thursday</td>\n",
       "      <td>November</td>\n",
       "      <td>False</td>\n",
       "    </tr>\n",
       "  </tbody>\n",
       "</table>\n",
       "</div>"
      ],
      "text/plain": [
       "        date bones_nobones   weekday     month  weekend\n",
       "0 2021-11-18        Bones!  Thursday  November    False\n",
       "1 2021-11-16        Bones!   Tuesday  November    False\n",
       "2 2021-11-15        Bones!    Monday  November    False\n",
       "3 2021-11-12      No bones    Friday  November    False\n",
       "4 2021-11-11      No bones  Thursday  November    False"
      ]
     },
     "execution_count": 11,
     "metadata": {},
     "output_type": "execute_result"
    }
   ],
   "source": [
    "df.head()"
   ]
  },
  {
   "cell_type": "markdown",
   "id": "e140bc04-2622-4429-92ac-0887db978784",
   "metadata": {},
   "source": [
    "### Percentage of days with Bones (only days with a video)"
   ]
  },
  {
   "cell_type": "code",
   "execution_count": 12,
   "id": "8f0f192f-2f34-43ef-a746-571dee98440e",
   "metadata": {},
   "outputs": [
    {
     "data": {
      "text/plain": [
       "bones_nobones\n",
       "Bones!      50.0\n",
       "No bones    50.0\n",
       "dtype: float64"
      ]
     },
     "execution_count": 12,
     "metadata": {},
     "output_type": "execute_result"
    }
   ],
   "source": [
    "(\n",
    "    df[df[\"bones_nobones\"] != \"No video\"].value_counts(\"bones_nobones\", normalize=True)\n",
    "    * 100\n",
    ").round(0)"
   ]
  },
  {
   "cell_type": "markdown",
   "id": "51d96042-cc07-456b-ba49-2ffedff95344",
   "metadata": {},
   "source": [
    "### Group by day type"
   ]
  },
  {
   "cell_type": "code",
   "execution_count": 13,
   "id": "aeb84d9d-f214-41b9-83eb-e3794311f48b",
   "metadata": {
    "tags": []
   },
   "outputs": [],
   "source": [
    "days = (\n",
    "    df.groupby([\"bones_nobones\"])\n",
    "    .agg({\"date\": \"count\"})\n",
    "    .reset_index()\n",
    "    .rename(columns={\"date\": \"count\"})\n",
    ")"
   ]
  },
  {
   "cell_type": "markdown",
   "id": "cf87ac18-718e-474f-823a-82ccb0d3c125",
   "metadata": {
    "tags": []
   },
   "source": [
    "### Simple bar chart explaining the count of day types"
   ]
  },
  {
   "cell_type": "code",
   "execution_count": 14,
   "id": "635053b9-68a0-4e4a-8007-9e82c0b0790c",
   "metadata": {
    "tags": []
   },
   "outputs": [
    {
     "data": {
      "text/html": [
       "\n",
       "<div id=\"altair-viz-998b073f345b40be82f58893b71fe815\"></div>\n",
       "<script type=\"text/javascript\">\n",
       "  (function(spec, embedOpt){\n",
       "    let outputDiv = document.currentScript.previousElementSibling;\n",
       "    if (outputDiv.id !== \"altair-viz-998b073f345b40be82f58893b71fe815\") {\n",
       "      outputDiv = document.getElementById(\"altair-viz-998b073f345b40be82f58893b71fe815\");\n",
       "    }\n",
       "    const paths = {\n",
       "      \"vega\": \"https://cdn.jsdelivr.net/npm//vega@5?noext\",\n",
       "      \"vega-lib\": \"https://cdn.jsdelivr.net/npm//vega-lib?noext\",\n",
       "      \"vega-lite\": \"https://cdn.jsdelivr.net/npm//vega-lite@4.8.1?noext\",\n",
       "      \"vega-embed\": \"https://cdn.jsdelivr.net/npm//vega-embed@6?noext\",\n",
       "    };\n",
       "\n",
       "    function loadScript(lib) {\n",
       "      return new Promise(function(resolve, reject) {\n",
       "        var s = document.createElement('script');\n",
       "        s.src = paths[lib];\n",
       "        s.async = true;\n",
       "        s.onload = () => resolve(paths[lib]);\n",
       "        s.onerror = () => reject(`Error loading script: ${paths[lib]}`);\n",
       "        document.getElementsByTagName(\"head\")[0].appendChild(s);\n",
       "      });\n",
       "    }\n",
       "\n",
       "    function showError(err) {\n",
       "      outputDiv.innerHTML = `<div class=\"error\" style=\"color:red;\">${err}</div>`;\n",
       "      throw err;\n",
       "    }\n",
       "\n",
       "    function displayChart(vegaEmbed) {\n",
       "      vegaEmbed(outputDiv, spec, embedOpt)\n",
       "        .catch(err => showError(`Javascript Error: ${err.message}<br>This usually means there's a typo in your chart specification. See the javascript console for the full traceback.`));\n",
       "    }\n",
       "\n",
       "    if(typeof define === \"function\" && define.amd) {\n",
       "      requirejs.config({paths});\n",
       "      require([\"vega-embed\"], displayChart, err => showError(`Error loading script: ${err.message}`));\n",
       "    } else if (typeof vegaEmbed === \"function\") {\n",
       "      displayChart(vegaEmbed);\n",
       "    } else {\n",
       "      loadScript(\"vega\")\n",
       "        .then(() => loadScript(\"vega-lite\"))\n",
       "        .then(() => loadScript(\"vega-embed\"))\n",
       "        .catch(showError)\n",
       "        .then(() => displayChart(vegaEmbed));\n",
       "    }\n",
       "  })({\"config\": {\"view\": {\"continuousWidth\": 400, \"continuousHeight\": 300}}, \"data\": {\"name\": \"data-1bc9c8ff65f8d77a6823a1209ee0bd4a\"}, \"mark\": \"bar\", \"encoding\": {\"color\": {\"type\": \"nominal\", \"field\": \"bones_nobones\", \"legend\": null, \"scale\": {\"domain\": [\"Bones!\", \"No bones\", \"No video\"], \"range\": [\"#5ab4ac\", \"#d8b365\", \"#e6e6e6\"]}, \"title\": \"\"}, \"x\": {\"type\": \"quantitative\", \"axis\": {\"grid\": false, \"tickColor\": \"#ffffff\", \"tickCount\": 6}, \"field\": \"count\", \"title\": \"Days\"}, \"y\": {\"type\": \"nominal\", \"axis\": {\"tickColor\": \"#ffffff\", \"tickCount\": 0}, \"field\": \"bones_nobones\", \"title\": \"\"}}, \"height\": 70, \"title\": \" \", \"width\": 500, \"$schema\": \"https://vega.github.io/schema/vega-lite/v4.8.1.json\", \"datasets\": {\"data-1bc9c8ff65f8d77a6823a1209ee0bd4a\": [{\"bones_nobones\": \"Bones!\", \"count\": 20}, {\"bones_nobones\": \"No bones\", \"count\": 20}]}}, {\"mode\": \"vega-lite\"});\n",
       "</script>"
      ],
      "text/plain": [
       "alt.Chart(...)"
      ]
     },
     "execution_count": 14,
     "metadata": {},
     "output_type": "execute_result"
    }
   ],
   "source": [
    "alt.Chart(days[days[\"bones_nobones\"] != \"No video\"], title=\" \").mark_bar().encode(\n",
    "    y=alt.Y(\"bones_nobones\", title=\"\", axis=alt.Axis(tickCount=0, tickColor=\"#ffffff\")),\n",
    "    x=alt.X(\n",
    "        \"count\",\n",
    "        title=\"Days\",\n",
    "        axis=alt.Axis(grid=False, tickCount=6, tickColor=\"#ffffff\"),\n",
    "    ),\n",
    "    color=alt.Color(\n",
    "        \"bones_nobones\",\n",
    "        title=\"\",\n",
    "        legend=None,\n",
    "        scale=alt.Scale(\n",
    "            domain=[\"Bones!\", \"No bones\", \"No video\"],\n",
    "            range=[\"#5ab4ac\", \"#d8b365\", \"#e6e6e6\"],\n",
    "        ),\n",
    "    ),\n",
    ").properties(width=500, height=70)"
   ]
  },
  {
   "cell_type": "markdown",
   "id": "7727853a-96ed-4b0b-9ec7-bc19bd06313f",
   "metadata": {},
   "source": [
    "### Plot Noodle's days on a calendar"
   ]
  },
  {
   "cell_type": "code",
   "execution_count": 15,
   "id": "717e0ef7-b4df-4810-9a38-e8b034c548a1",
   "metadata": {
    "tags": []
   },
   "outputs": [
    {
     "data": {
      "text/html": [
       "\n",
       "<div id=\"altair-viz-f0340edb94b54844ae08ca059c7bdd0f\"></div>\n",
       "<script type=\"text/javascript\">\n",
       "  (function(spec, embedOpt){\n",
       "    let outputDiv = document.currentScript.previousElementSibling;\n",
       "    if (outputDiv.id !== \"altair-viz-f0340edb94b54844ae08ca059c7bdd0f\") {\n",
       "      outputDiv = document.getElementById(\"altair-viz-f0340edb94b54844ae08ca059c7bdd0f\");\n",
       "    }\n",
       "    const paths = {\n",
       "      \"vega\": \"https://cdn.jsdelivr.net/npm//vega@5?noext\",\n",
       "      \"vega-lib\": \"https://cdn.jsdelivr.net/npm//vega-lib?noext\",\n",
       "      \"vega-lite\": \"https://cdn.jsdelivr.net/npm//vega-lite@4.8.1?noext\",\n",
       "      \"vega-embed\": \"https://cdn.jsdelivr.net/npm//vega-embed@6?noext\",\n",
       "    };\n",
       "\n",
       "    function loadScript(lib) {\n",
       "      return new Promise(function(resolve, reject) {\n",
       "        var s = document.createElement('script');\n",
       "        s.src = paths[lib];\n",
       "        s.async = true;\n",
       "        s.onload = () => resolve(paths[lib]);\n",
       "        s.onerror = () => reject(`Error loading script: ${paths[lib]}`);\n",
       "        document.getElementsByTagName(\"head\")[0].appendChild(s);\n",
       "      });\n",
       "    }\n",
       "\n",
       "    function showError(err) {\n",
       "      outputDiv.innerHTML = `<div class=\"error\" style=\"color:red;\">${err}</div>`;\n",
       "      throw err;\n",
       "    }\n",
       "\n",
       "    function displayChart(vegaEmbed) {\n",
       "      vegaEmbed(outputDiv, spec, embedOpt)\n",
       "        .catch(err => showError(`Javascript Error: ${err.message}<br>This usually means there's a typo in your chart specification. See the javascript console for the full traceback.`));\n",
       "    }\n",
       "\n",
       "    if(typeof define === \"function\" && define.amd) {\n",
       "      requirejs.config({paths});\n",
       "      require([\"vega-embed\"], displayChart, err => showError(`Error loading script: ${err.message}`));\n",
       "    } else if (typeof vegaEmbed === \"function\") {\n",
       "      displayChart(vegaEmbed);\n",
       "    } else {\n",
       "      loadScript(\"vega\")\n",
       "        .then(() => loadScript(\"vega-lite\"))\n",
       "        .then(() => loadScript(\"vega-embed\"))\n",
       "        .catch(showError)\n",
       "        .then(() => displayChart(vegaEmbed));\n",
       "    }\n",
       "  })({\"config\": {\"view\": {\"continuousWidth\": 400, \"continuousHeight\": 300, \"strokeOpacity\": 0}, \"legend\": {\"orient\": \"top\", \"padding\": 10}}, \"data\": {\"name\": \"data-7d1f9a562ba9b182249cf1aaf5662a28\"}, \"mark\": \"rect\", \"encoding\": {\"color\": {\"type\": \"nominal\", \"field\": \"bones_nobones\", \"scale\": {\"domain\": [\"Bones!\", \"No bones\", \"No video\"], \"range\": [\"#5ab4ac\", \"#d8b365\", \"#e6e6e6\"]}, \"title\": \"\"}, \"tooltip\": [{\"type\": \"temporal\", \"field\": \"date\", \"timeUnit\": \"monthdate\", \"title\": \"Date\"}, {\"type\": \"nominal\", \"field\": \"bones_nobones\", \"title\": \"Tweets\"}], \"x\": {\"type\": \"ordinal\", \"field\": \"date\", \"timeUnit\": \"date\", \"title\": \" \"}, \"y\": {\"type\": \"ordinal\", \"field\": \"date\", \"timeUnit\": \"month\", \"title\": \"\"}}, \"height\": 70, \"title\": \"Bones days since Sept. 1\", \"width\": 500, \"$schema\": \"https://vega.github.io/schema/vega-lite/v4.8.1.json\", \"datasets\": {\"data-7d1f9a562ba9b182249cf1aaf5662a28\": [{\"date\": \"2021-11-18T00:00:00\", \"bones_nobones\": \"Bones!\", \"weekday\": \"Thursday\", \"month\": \"November\", \"weekend\": false}, {\"date\": \"2021-11-16T00:00:00\", \"bones_nobones\": \"Bones!\", \"weekday\": \"Tuesday\", \"month\": \"November\", \"weekend\": false}, {\"date\": \"2021-11-15T00:00:00\", \"bones_nobones\": \"Bones!\", \"weekday\": \"Monday\", \"month\": \"November\", \"weekend\": false}, {\"date\": \"2021-11-12T00:00:00\", \"bones_nobones\": \"No bones\", \"weekday\": \"Friday\", \"month\": \"November\", \"weekend\": false}, {\"date\": \"2021-11-11T00:00:00\", \"bones_nobones\": \"No bones\", \"weekday\": \"Thursday\", \"month\": \"November\", \"weekend\": false}, {\"date\": \"2021-11-09T00:00:00\", \"bones_nobones\": \"Bones!\", \"weekday\": \"Tuesday\", \"month\": \"November\", \"weekend\": false}, {\"date\": \"2021-11-08T00:00:00\", \"bones_nobones\": \"Bones!\", \"weekday\": \"Monday\", \"month\": \"November\", \"weekend\": false}, {\"date\": \"2021-11-07T00:00:00\", \"bones_nobones\": \"No bones\", \"weekday\": \"Sunday\", \"month\": \"November\", \"weekend\": true}, {\"date\": \"2021-11-05T00:00:00\", \"bones_nobones\": \"Bones!\", \"weekday\": \"Friday\", \"month\": \"November\", \"weekend\": false}, {\"date\": \"2021-11-04T00:00:00\", \"bones_nobones\": \"Bones!\", \"weekday\": \"Thursday\", \"month\": \"November\", \"weekend\": false}, {\"date\": \"2021-11-03T00:00:00\", \"bones_nobones\": \"Bones!\", \"weekday\": \"Wednesday\", \"month\": \"November\", \"weekend\": false}, {\"date\": \"2021-11-02T00:00:00\", \"bones_nobones\": \"No bones\", \"weekday\": \"Tuesday\", \"month\": \"November\", \"weekend\": false}, {\"date\": \"2021-11-01T00:00:00\", \"bones_nobones\": \"No bones\", \"weekday\": \"Monday\", \"month\": \"November\", \"weekend\": false}, {\"date\": \"2021-10-31T00:00:00\", \"bones_nobones\": \"Bones!\", \"weekday\": \"Sunday\", \"month\": \"October\", \"weekend\": true}, {\"date\": \"2021-10-28T00:00:00\", \"bones_nobones\": \"Bones!\", \"weekday\": \"Thursday\", \"month\": \"October\", \"weekend\": false}, {\"date\": \"2021-10-26T00:00:00\", \"bones_nobones\": \"No bones\", \"weekday\": \"Tuesday\", \"month\": \"October\", \"weekend\": false}, {\"date\": \"2021-10-25T00:00:00\", \"bones_nobones\": \"Bones!\", \"weekday\": \"Monday\", \"month\": \"October\", \"weekend\": false}, {\"date\": \"2021-10-23T00:00:00\", \"bones_nobones\": \"Bones!\", \"weekday\": \"Saturday\", \"month\": \"October\", \"weekend\": true}, {\"date\": \"2021-10-22T00:00:00\", \"bones_nobones\": \"No bones\", \"weekday\": \"Friday\", \"month\": \"October\", \"weekend\": false}, {\"date\": \"2021-10-21T00:00:00\", \"bones_nobones\": \"No bones\", \"weekday\": \"Thursday\", \"month\": \"October\", \"weekend\": false}, {\"date\": \"2021-10-20T00:00:00\", \"bones_nobones\": \"Bones!\", \"weekday\": \"Wednesday\", \"month\": \"October\", \"weekend\": false}, {\"date\": \"2021-10-19T00:00:00\", \"bones_nobones\": \"No bones\", \"weekday\": \"Tuesday\", \"month\": \"October\", \"weekend\": false}, {\"date\": \"2021-10-18T00:00:00\", \"bones_nobones\": \"Bones!\", \"weekday\": \"Monday\", \"month\": \"October\", \"weekend\": false}, {\"date\": \"2021-10-17T00:00:00\", \"bones_nobones\": \"No bones\", \"weekday\": \"Sunday\", \"month\": \"October\", \"weekend\": true}, {\"date\": \"2021-10-16T00:00:00\", \"bones_nobones\": \"Bones!\", \"weekday\": \"Saturday\", \"month\": \"October\", \"weekend\": true}, {\"date\": \"2021-10-15T00:00:00\", \"bones_nobones\": \"Bones!\", \"weekday\": \"Friday\", \"month\": \"October\", \"weekend\": false}, {\"date\": \"2021-10-14T00:00:00\", \"bones_nobones\": \"No bones\", \"weekday\": \"Thursday\", \"month\": \"October\", \"weekend\": false}, {\"date\": \"2021-10-13T00:00:00\", \"bones_nobones\": \"No bones\", \"weekday\": \"Wednesday\", \"month\": \"October\", \"weekend\": false}, {\"date\": \"2021-10-11T00:00:00\", \"bones_nobones\": \"Bones!\", \"weekday\": \"Monday\", \"month\": \"October\", \"weekend\": false}, {\"date\": \"2021-10-09T00:00:00\", \"bones_nobones\": \"No bones\", \"weekday\": \"Saturday\", \"month\": \"October\", \"weekend\": true}, {\"date\": \"2021-10-07T00:00:00\", \"bones_nobones\": \"Bones!\", \"weekday\": \"Thursday\", \"month\": \"October\", \"weekend\": false}, {\"date\": \"2021-10-04T00:00:00\", \"bones_nobones\": \"No bones\", \"weekday\": \"Monday\", \"month\": \"October\", \"weekend\": false}, {\"date\": \"2021-10-01T00:00:00\", \"bones_nobones\": \"Bones!\", \"weekday\": \"Friday\", \"month\": \"October\", \"weekend\": false}, {\"date\": \"2021-09-29T00:00:00\", \"bones_nobones\": \"No bones\", \"weekday\": \"Wednesday\", \"month\": \"September\", \"weekend\": false}, {\"date\": \"2021-09-22T00:00:00\", \"bones_nobones\": \"No bones\", \"weekday\": \"Wednesday\", \"month\": \"September\", \"weekend\": false}, {\"date\": \"2021-09-14T00:00:00\", \"bones_nobones\": \"Bones!\", \"weekday\": \"Tuesday\", \"month\": \"September\", \"weekend\": false}, {\"date\": \"2021-09-05T00:00:00\", \"bones_nobones\": \"No bones\", \"weekday\": \"Sunday\", \"month\": \"September\", \"weekend\": true}, {\"date\": \"2021-09-01T00:00:00\", \"bones_nobones\": \"No video\", \"weekday\": \"Wednesday\", \"month\": \"September\", \"weekend\": false}, {\"date\": \"2021-09-02T00:00:00\", \"bones_nobones\": \"No video\", \"weekday\": \"Thursday\", \"month\": \"September\", \"weekend\": false}, {\"date\": \"2021-09-03T00:00:00\", \"bones_nobones\": \"No video\", \"weekday\": \"Friday\", \"month\": \"September\", \"weekend\": false}, {\"date\": \"2021-09-04T00:00:00\", \"bones_nobones\": \"No video\", \"weekday\": \"Saturday\", \"month\": \"September\", \"weekend\": true}, {\"date\": \"2021-09-06T00:00:00\", \"bones_nobones\": \"No video\", \"weekday\": \"Monday\", \"month\": \"September\", \"weekend\": false}, {\"date\": \"2021-09-07T00:00:00\", \"bones_nobones\": \"No video\", \"weekday\": \"Tuesday\", \"month\": \"September\", \"weekend\": false}, {\"date\": \"2021-09-08T00:00:00\", \"bones_nobones\": \"No video\", \"weekday\": \"Wednesday\", \"month\": \"September\", \"weekend\": false}, {\"date\": \"2021-09-09T00:00:00\", \"bones_nobones\": \"No video\", \"weekday\": \"Thursday\", \"month\": \"September\", \"weekend\": false}, {\"date\": \"2021-09-10T00:00:00\", \"bones_nobones\": \"No video\", \"weekday\": \"Friday\", \"month\": \"September\", \"weekend\": false}, {\"date\": \"2021-09-11T00:00:00\", \"bones_nobones\": \"No video\", \"weekday\": \"Saturday\", \"month\": \"September\", \"weekend\": true}, {\"date\": \"2021-09-12T00:00:00\", \"bones_nobones\": \"No video\", \"weekday\": \"Sunday\", \"month\": \"September\", \"weekend\": true}, {\"date\": \"2021-09-13T00:00:00\", \"bones_nobones\": \"No video\", \"weekday\": \"Monday\", \"month\": \"September\", \"weekend\": false}, {\"date\": \"2021-09-15T00:00:00\", \"bones_nobones\": \"No video\", \"weekday\": \"Wednesday\", \"month\": \"September\", \"weekend\": false}, {\"date\": \"2021-09-16T00:00:00\", \"bones_nobones\": \"No video\", \"weekday\": \"Thursday\", \"month\": \"September\", \"weekend\": false}, {\"date\": \"2021-09-17T00:00:00\", \"bones_nobones\": \"No video\", \"weekday\": \"Friday\", \"month\": \"September\", \"weekend\": false}, {\"date\": \"2021-09-18T00:00:00\", \"bones_nobones\": \"No video\", \"weekday\": \"Saturday\", \"month\": \"September\", \"weekend\": true}, {\"date\": \"2021-09-19T00:00:00\", \"bones_nobones\": \"No video\", \"weekday\": \"Sunday\", \"month\": \"September\", \"weekend\": true}, {\"date\": \"2021-09-20T00:00:00\", \"bones_nobones\": \"No video\", \"weekday\": \"Monday\", \"month\": \"September\", \"weekend\": false}, {\"date\": \"2021-09-21T00:00:00\", \"bones_nobones\": \"No video\", \"weekday\": \"Tuesday\", \"month\": \"September\", \"weekend\": false}, {\"date\": \"2021-09-23T00:00:00\", \"bones_nobones\": \"No video\", \"weekday\": \"Thursday\", \"month\": \"September\", \"weekend\": false}, {\"date\": \"2021-09-24T00:00:00\", \"bones_nobones\": \"No video\", \"weekday\": \"Friday\", \"month\": \"September\", \"weekend\": false}, {\"date\": \"2021-09-25T00:00:00\", \"bones_nobones\": \"No video\", \"weekday\": \"Saturday\", \"month\": \"September\", \"weekend\": true}, {\"date\": \"2021-09-26T00:00:00\", \"bones_nobones\": \"No video\", \"weekday\": \"Sunday\", \"month\": \"September\", \"weekend\": true}, {\"date\": \"2021-09-27T00:00:00\", \"bones_nobones\": \"No video\", \"weekday\": \"Monday\", \"month\": \"September\", \"weekend\": false}, {\"date\": \"2021-09-28T00:00:00\", \"bones_nobones\": \"No video\", \"weekday\": \"Tuesday\", \"month\": \"September\", \"weekend\": false}, {\"date\": \"2021-09-30T00:00:00\", \"bones_nobones\": \"No video\", \"weekday\": \"Thursday\", \"month\": \"September\", \"weekend\": false}, {\"date\": \"2021-10-02T00:00:00\", \"bones_nobones\": \"No video\", \"weekday\": \"Saturday\", \"month\": \"October\", \"weekend\": true}, {\"date\": \"2021-10-03T00:00:00\", \"bones_nobones\": \"No video\", \"weekday\": \"Sunday\", \"month\": \"October\", \"weekend\": true}, {\"date\": \"2021-10-05T00:00:00\", \"bones_nobones\": \"No video\", \"weekday\": \"Tuesday\", \"month\": \"October\", \"weekend\": false}, {\"date\": \"2021-10-06T00:00:00\", \"bones_nobones\": \"No video\", \"weekday\": \"Wednesday\", \"month\": \"October\", \"weekend\": false}, {\"date\": \"2021-10-08T00:00:00\", \"bones_nobones\": \"No video\", \"weekday\": \"Friday\", \"month\": \"October\", \"weekend\": false}, {\"date\": \"2021-10-10T00:00:00\", \"bones_nobones\": \"No video\", \"weekday\": \"Sunday\", \"month\": \"October\", \"weekend\": true}, {\"date\": \"2021-10-12T00:00:00\", \"bones_nobones\": \"No video\", \"weekday\": \"Tuesday\", \"month\": \"October\", \"weekend\": false}, {\"date\": \"2021-10-24T00:00:00\", \"bones_nobones\": \"No video\", \"weekday\": \"Sunday\", \"month\": \"October\", \"weekend\": true}, {\"date\": \"2021-10-27T00:00:00\", \"bones_nobones\": \"No video\", \"weekday\": \"Wednesday\", \"month\": \"October\", \"weekend\": false}, {\"date\": \"2021-10-29T00:00:00\", \"bones_nobones\": \"No video\", \"weekday\": \"Friday\", \"month\": \"October\", \"weekend\": false}, {\"date\": \"2021-10-30T00:00:00\", \"bones_nobones\": \"No video\", \"weekday\": \"Saturday\", \"month\": \"October\", \"weekend\": true}, {\"date\": \"2021-11-06T00:00:00\", \"bones_nobones\": \"No video\", \"weekday\": \"Saturday\", \"month\": \"November\", \"weekend\": true}, {\"date\": \"2021-11-10T00:00:00\", \"bones_nobones\": \"No video\", \"weekday\": \"Wednesday\", \"month\": \"November\", \"weekend\": false}, {\"date\": \"2021-11-13T00:00:00\", \"bones_nobones\": \"No video\", \"weekday\": \"Saturday\", \"month\": \"November\", \"weekend\": true}, {\"date\": \"2021-11-14T00:00:00\", \"bones_nobones\": \"No video\", \"weekday\": \"Sunday\", \"month\": \"November\", \"weekend\": true}, {\"date\": \"2021-11-17T00:00:00\", \"bones_nobones\": \"No video\", \"weekday\": \"Wednesday\", \"month\": \"November\", \"weekend\": false}, {\"date\": \"2021-11-19T00:00:00\", \"bones_nobones\": \"No video\", \"weekday\": \"Friday\", \"month\": \"November\", \"weekend\": false}]}}, {\"mode\": \"vega-lite\"});\n",
       "</script>"
      ],
      "text/plain": [
       "alt.Chart(...)"
      ]
     },
     "execution_count": 15,
     "metadata": {},
     "output_type": "execute_result"
    }
   ],
   "source": [
    "heatmap = (\n",
    "    alt.Chart(df[df[\"date\"] > \"2021-08-31\"], title=\" \")\n",
    "    .mark_rect()\n",
    "    .encode(\n",
    "        x=alt.X(\"date(date):O\", title=\" \"),\n",
    "        y=alt.Y(\"month(date):O\", title=\"\"),\n",
    "        color=alt.Color(\n",
    "            \"bones_nobones\",\n",
    "            title=\"\",\n",
    "            scale=alt.Scale(\n",
    "                domain=[\"Bones!\", \"No bones\", \"No video\"],\n",
    "                range=[\"#5ab4ac\", \"#d8b365\", \"#e6e6e6\"],\n",
    "            ),\n",
    "        ),\n",
    "        tooltip=[\n",
    "            alt.Tooltip(\"monthdate(date):T\", title=\"Date\"),\n",
    "            alt.Tooltip(\"bones_nobones\", title=\"Tweets\"),\n",
    "        ],\n",
    "    )\n",
    "    .properties(width=500, height=70, title=\"Bones days since Sept. 1\")\n",
    ")\n",
    "\n",
    "heatmap.configure_legend(orient=\"top\", padding=10).configure_view(strokeOpacity=0)"
   ]
  },
  {
   "cell_type": "markdown",
   "id": "960403aa-1962-40a6-82f6-9712a3f5e109",
   "metadata": {},
   "source": [
    "### Prep for datawrapper "
   ]
  },
  {
   "cell_type": "code",
   "execution_count": 48,
   "id": "a8e7fbcc-e48a-4abd-9074-18748375efc6",
   "metadata": {},
   "outputs": [
    {
     "data": {
      "text/html": [
       "<div>\n",
       "<style scoped>\n",
       "    .dataframe tbody tr th:only-of-type {\n",
       "        vertical-align: middle;\n",
       "    }\n",
       "\n",
       "    .dataframe tbody tr th {\n",
       "        vertical-align: top;\n",
       "    }\n",
       "\n",
       "    .dataframe thead th {\n",
       "        text-align: right;\n",
       "    }\n",
       "</style>\n",
       "<table border=\"1\" class=\"dataframe\">\n",
       "  <thead>\n",
       "    <tr style=\"text-align: right;\">\n",
       "      <th></th>\n",
       "      <th>date</th>\n",
       "      <th>bones_nobones</th>\n",
       "      <th>weekday</th>\n",
       "      <th>month</th>\n",
       "      <th>weekend</th>\n",
       "    </tr>\n",
       "  </thead>\n",
       "  <tbody>\n",
       "    <tr>\n",
       "      <th>0</th>\n",
       "      <td>2021-11-18</td>\n",
       "      <td>Bones!</td>\n",
       "      <td>Thursday</td>\n",
       "      <td>November</td>\n",
       "      <td>False</td>\n",
       "    </tr>\n",
       "    <tr>\n",
       "      <th>1</th>\n",
       "      <td>2021-11-16</td>\n",
       "      <td>Bones!</td>\n",
       "      <td>Tuesday</td>\n",
       "      <td>November</td>\n",
       "      <td>False</td>\n",
       "    </tr>\n",
       "    <tr>\n",
       "      <th>2</th>\n",
       "      <td>2021-11-15</td>\n",
       "      <td>Bones!</td>\n",
       "      <td>Monday</td>\n",
       "      <td>November</td>\n",
       "      <td>False</td>\n",
       "    </tr>\n",
       "    <tr>\n",
       "      <th>3</th>\n",
       "      <td>2021-11-12</td>\n",
       "      <td>No bones</td>\n",
       "      <td>Friday</td>\n",
       "      <td>November</td>\n",
       "      <td>False</td>\n",
       "    </tr>\n",
       "    <tr>\n",
       "      <th>4</th>\n",
       "      <td>2021-11-11</td>\n",
       "      <td>No bones</td>\n",
       "      <td>Thursday</td>\n",
       "      <td>November</td>\n",
       "      <td>False</td>\n",
       "    </tr>\n",
       "  </tbody>\n",
       "</table>\n",
       "</div>"
      ],
      "text/plain": [
       "        date bones_nobones   weekday     month  weekend\n",
       "0 2021-11-18        Bones!  Thursday  November    False\n",
       "1 2021-11-16        Bones!   Tuesday  November    False\n",
       "2 2021-11-15        Bones!    Monday  November    False\n",
       "3 2021-11-12      No bones    Friday  November    False\n",
       "4 2021-11-11      No bones  Thursday  November    False"
      ]
     },
     "execution_count": 48,
     "metadata": {},
     "output_type": "execute_result"
    }
   ],
   "source": [
    "df.head()"
   ]
  },
  {
   "cell_type": "code",
   "execution_count": 49,
   "id": "63d30ac3-0c48-40d0-b6cd-85a85ed2963b",
   "metadata": {},
   "outputs": [],
   "source": [
    "grouped_all = (\n",
    "    df.groupby(\"bones_nobones\")\n",
    "    .agg({\"date\": \"size\"})\n",
    "    .reset_index()\n",
    "    .rename(columns={\"date\": \"count\"})\n",
    ")"
   ]
  },
  {
   "cell_type": "code",
   "execution_count": 45,
   "id": "06c159e2-e6ea-421a-9e8e-c29358ff3292",
   "metadata": {},
   "outputs": [],
   "source": [
    "grouped_weekends = (\n",
    "    df.groupby([\"bones_nobones\", \"weekend\"])\n",
    "    .agg({\"date\": \"size\"})\n",
    "    .reset_index()\n",
    "    .rename(columns={\"date\": \"count\"})\n",
    ")"
   ]
  },
  {
   "cell_type": "code",
   "execution_count": 46,
   "id": "587526d8-82fd-46f6-be62-74463fecee71",
   "metadata": {},
   "outputs": [
    {
     "data": {
      "text/html": [
       "<div>\n",
       "<style scoped>\n",
       "    .dataframe tbody tr th:only-of-type {\n",
       "        vertical-align: middle;\n",
       "    }\n",
       "\n",
       "    .dataframe tbody tr th {\n",
       "        vertical-align: top;\n",
       "    }\n",
       "\n",
       "    .dataframe thead th {\n",
       "        text-align: right;\n",
       "    }\n",
       "</style>\n",
       "<table border=\"1\" class=\"dataframe\">\n",
       "  <thead>\n",
       "    <tr style=\"text-align: right;\">\n",
       "      <th></th>\n",
       "      <th>bones_nobones</th>\n",
       "      <th>weekend</th>\n",
       "      <th>count</th>\n",
       "    </tr>\n",
       "  </thead>\n",
       "  <tbody>\n",
       "    <tr>\n",
       "      <th>0</th>\n",
       "      <td>Bones!</td>\n",
       "      <td>False</td>\n",
       "      <td>17</td>\n",
       "    </tr>\n",
       "    <tr>\n",
       "      <th>1</th>\n",
       "      <td>Bones!</td>\n",
       "      <td>True</td>\n",
       "      <td>3</td>\n",
       "    </tr>\n",
       "    <tr>\n",
       "      <th>2</th>\n",
       "      <td>No bones</td>\n",
       "      <td>False</td>\n",
       "      <td>15</td>\n",
       "    </tr>\n",
       "    <tr>\n",
       "      <th>3</th>\n",
       "      <td>No bones</td>\n",
       "      <td>True</td>\n",
       "      <td>5</td>\n",
       "    </tr>\n",
       "    <tr>\n",
       "      <th>4</th>\n",
       "      <td>No video</td>\n",
       "      <td>False</td>\n",
       "      <td>28</td>\n",
       "    </tr>\n",
       "    <tr>\n",
       "      <th>5</th>\n",
       "      <td>No video</td>\n",
       "      <td>True</td>\n",
       "      <td>15</td>\n",
       "    </tr>\n",
       "  </tbody>\n",
       "</table>\n",
       "</div>"
      ],
      "text/plain": [
       "  bones_nobones  weekend  count\n",
       "0        Bones!    False     17\n",
       "1        Bones!     True      3\n",
       "2      No bones    False     15\n",
       "3      No bones     True      5\n",
       "4      No video    False     28\n",
       "5      No video     True     15"
      ]
     },
     "execution_count": 46,
     "metadata": {},
     "output_type": "execute_result"
    }
   ],
   "source": [
    "grouped_weekends"
   ]
  },
  {
   "cell_type": "code",
   "execution_count": 50,
   "id": "3197a3d9-5772-4821-8627-805c71981084",
   "metadata": {},
   "outputs": [],
   "source": [
    "grouped_all.drop(2, axis=0, inplace=True)\n",
    "grouped_weekends.drop([4, 5], axis=0, inplace=True)"
   ]
  },
  {
   "cell_type": "code",
   "execution_count": 58,
   "id": "9b9f413d-b5c4-4112-a88f-d854a9a0c06a",
   "metadata": {},
   "outputs": [
    {
     "ename": "KeyError",
     "evalue": "'weekend'",
     "output_type": "error",
     "traceback": [
      "\u001b[0;31m---------------------------------------------------------------------------\u001b[0m",
      "\u001b[0;31mKeyError\u001b[0m                                  Traceback (most recent call last)",
      "\u001b[0;32m<ipython-input-58-4fd54d787307>\u001b[0m in \u001b[0;36m<module>\u001b[0;34m\u001b[0m\n\u001b[1;32m      1\u001b[0m \u001b[0mpivot_all\u001b[0m \u001b[0;34m=\u001b[0m \u001b[0mpd\u001b[0m\u001b[0;34m.\u001b[0m\u001b[0mpivot_table\u001b[0m\u001b[0;34m(\u001b[0m\u001b[0mgrouped\u001b[0m\u001b[0;34m,\u001b[0m \u001b[0mvalues\u001b[0m\u001b[0;34m=\u001b[0m\u001b[0;34m\"count\"\u001b[0m\u001b[0;34m,\u001b[0m \u001b[0mcolumns\u001b[0m\u001b[0;34m=\u001b[0m\u001b[0;34m\"bones_nobones\"\u001b[0m\u001b[0;34m)\u001b[0m\u001b[0;34m\u001b[0m\u001b[0;34m\u001b[0m\u001b[0m\n\u001b[0;32m----> 2\u001b[0;31m pivot_weekend = pd.pivot_table(\n\u001b[0m\u001b[1;32m      3\u001b[0m     \u001b[0mgrouped\u001b[0m\u001b[0;34m,\u001b[0m \u001b[0mvalues\u001b[0m\u001b[0;34m=\u001b[0m\u001b[0;34m\"count\"\u001b[0m\u001b[0;34m,\u001b[0m \u001b[0mcolumns\u001b[0m\u001b[0;34m=\u001b[0m\u001b[0;34m[\u001b[0m\u001b[0;34m\"weekend\"\u001b[0m\u001b[0;34m]\u001b[0m\u001b[0;34m\u001b[0m\u001b[0;34m\u001b[0m\u001b[0m\n\u001b[1;32m      4\u001b[0m )\n",
      "\u001b[0;32m/opt/anaconda3/lib/python3.8/site-packages/pandas/core/reshape/pivot.py\u001b[0m in \u001b[0;36mpivot_table\u001b[0;34m(data, values, index, columns, aggfunc, fill_value, margins, dropna, margins_name, observed)\u001b[0m\n\u001b[1;32m    110\u001b[0m         \u001b[0mvalues\u001b[0m \u001b[0;34m=\u001b[0m \u001b[0mlist\u001b[0m\u001b[0;34m(\u001b[0m\u001b[0mvalues\u001b[0m\u001b[0;34m)\u001b[0m\u001b[0;34m\u001b[0m\u001b[0;34m\u001b[0m\u001b[0m\n\u001b[1;32m    111\u001b[0m \u001b[0;34m\u001b[0m\u001b[0m\n\u001b[0;32m--> 112\u001b[0;31m     \u001b[0mgrouped\u001b[0m \u001b[0;34m=\u001b[0m \u001b[0mdata\u001b[0m\u001b[0;34m.\u001b[0m\u001b[0mgroupby\u001b[0m\u001b[0;34m(\u001b[0m\u001b[0mkeys\u001b[0m\u001b[0;34m,\u001b[0m \u001b[0mobserved\u001b[0m\u001b[0;34m=\u001b[0m\u001b[0mobserved\u001b[0m\u001b[0;34m)\u001b[0m\u001b[0;34m\u001b[0m\u001b[0;34m\u001b[0m\u001b[0m\n\u001b[0m\u001b[1;32m    113\u001b[0m     \u001b[0magged\u001b[0m \u001b[0;34m=\u001b[0m \u001b[0mgrouped\u001b[0m\u001b[0;34m.\u001b[0m\u001b[0magg\u001b[0m\u001b[0;34m(\u001b[0m\u001b[0maggfunc\u001b[0m\u001b[0;34m)\u001b[0m\u001b[0;34m\u001b[0m\u001b[0;34m\u001b[0m\u001b[0m\n\u001b[1;32m    114\u001b[0m     \u001b[0;32mif\u001b[0m \u001b[0mdropna\u001b[0m \u001b[0;32mand\u001b[0m \u001b[0misinstance\u001b[0m\u001b[0;34m(\u001b[0m\u001b[0magged\u001b[0m\u001b[0;34m,\u001b[0m \u001b[0mABCDataFrame\u001b[0m\u001b[0;34m)\u001b[0m \u001b[0;32mand\u001b[0m \u001b[0mlen\u001b[0m\u001b[0;34m(\u001b[0m\u001b[0magged\u001b[0m\u001b[0;34m.\u001b[0m\u001b[0mcolumns\u001b[0m\u001b[0;34m)\u001b[0m\u001b[0;34m:\u001b[0m\u001b[0;34m\u001b[0m\u001b[0;34m\u001b[0m\u001b[0m\n",
      "\u001b[0;32m/opt/anaconda3/lib/python3.8/site-packages/pandas/core/frame.py\u001b[0m in \u001b[0;36mgroupby\u001b[0;34m(self, by, axis, level, as_index, sort, group_keys, squeeze, observed, dropna)\u001b[0m\n\u001b[1;32m   6715\u001b[0m         \u001b[0maxis\u001b[0m \u001b[0;34m=\u001b[0m \u001b[0mself\u001b[0m\u001b[0;34m.\u001b[0m\u001b[0m_get_axis_number\u001b[0m\u001b[0;34m(\u001b[0m\u001b[0maxis\u001b[0m\u001b[0;34m)\u001b[0m\u001b[0;34m\u001b[0m\u001b[0;34m\u001b[0m\u001b[0m\n\u001b[1;32m   6716\u001b[0m \u001b[0;34m\u001b[0m\u001b[0m\n\u001b[0;32m-> 6717\u001b[0;31m         return DataFrameGroupBy(\n\u001b[0m\u001b[1;32m   6718\u001b[0m             \u001b[0mobj\u001b[0m\u001b[0;34m=\u001b[0m\u001b[0mself\u001b[0m\u001b[0;34m,\u001b[0m\u001b[0;34m\u001b[0m\u001b[0;34m\u001b[0m\u001b[0m\n\u001b[1;32m   6719\u001b[0m             \u001b[0mkeys\u001b[0m\u001b[0;34m=\u001b[0m\u001b[0mby\u001b[0m\u001b[0;34m,\u001b[0m\u001b[0;34m\u001b[0m\u001b[0;34m\u001b[0m\u001b[0m\n",
      "\u001b[0;32m/opt/anaconda3/lib/python3.8/site-packages/pandas/core/groupby/groupby.py\u001b[0m in \u001b[0;36m__init__\u001b[0;34m(self, obj, keys, axis, level, grouper, exclusions, selection, as_index, sort, group_keys, squeeze, observed, mutated, dropna)\u001b[0m\n\u001b[1;32m    558\u001b[0m             \u001b[0;32mfrom\u001b[0m \u001b[0mpandas\u001b[0m\u001b[0;34m.\u001b[0m\u001b[0mcore\u001b[0m\u001b[0;34m.\u001b[0m\u001b[0mgroupby\u001b[0m\u001b[0;34m.\u001b[0m\u001b[0mgrouper\u001b[0m \u001b[0;32mimport\u001b[0m \u001b[0mget_grouper\u001b[0m\u001b[0;34m\u001b[0m\u001b[0;34m\u001b[0m\u001b[0m\n\u001b[1;32m    559\u001b[0m \u001b[0;34m\u001b[0m\u001b[0m\n\u001b[0;32m--> 560\u001b[0;31m             grouper, exclusions, obj = get_grouper(\n\u001b[0m\u001b[1;32m    561\u001b[0m                 \u001b[0mobj\u001b[0m\u001b[0;34m,\u001b[0m\u001b[0;34m\u001b[0m\u001b[0;34m\u001b[0m\u001b[0m\n\u001b[1;32m    562\u001b[0m                 \u001b[0mkeys\u001b[0m\u001b[0;34m,\u001b[0m\u001b[0;34m\u001b[0m\u001b[0;34m\u001b[0m\u001b[0m\n",
      "\u001b[0;32m/opt/anaconda3/lib/python3.8/site-packages/pandas/core/groupby/grouper.py\u001b[0m in \u001b[0;36mget_grouper\u001b[0;34m(obj, key, axis, level, sort, observed, mutated, validate, dropna)\u001b[0m\n\u001b[1;32m    809\u001b[0m                 \u001b[0min_axis\u001b[0m\u001b[0;34m,\u001b[0m \u001b[0mname\u001b[0m\u001b[0;34m,\u001b[0m \u001b[0mlevel\u001b[0m\u001b[0;34m,\u001b[0m \u001b[0mgpr\u001b[0m \u001b[0;34m=\u001b[0m \u001b[0;32mFalse\u001b[0m\u001b[0;34m,\u001b[0m \u001b[0;32mNone\u001b[0m\u001b[0;34m,\u001b[0m \u001b[0mgpr\u001b[0m\u001b[0;34m,\u001b[0m \u001b[0;32mNone\u001b[0m\u001b[0;34m\u001b[0m\u001b[0;34m\u001b[0m\u001b[0m\n\u001b[1;32m    810\u001b[0m             \u001b[0;32melse\u001b[0m\u001b[0;34m:\u001b[0m\u001b[0;34m\u001b[0m\u001b[0;34m\u001b[0m\u001b[0m\n\u001b[0;32m--> 811\u001b[0;31m                 \u001b[0;32mraise\u001b[0m \u001b[0mKeyError\u001b[0m\u001b[0;34m(\u001b[0m\u001b[0mgpr\u001b[0m\u001b[0;34m)\u001b[0m\u001b[0;34m\u001b[0m\u001b[0;34m\u001b[0m\u001b[0m\n\u001b[0m\u001b[1;32m    812\u001b[0m         \u001b[0;32melif\u001b[0m \u001b[0misinstance\u001b[0m\u001b[0;34m(\u001b[0m\u001b[0mgpr\u001b[0m\u001b[0;34m,\u001b[0m \u001b[0mGrouper\u001b[0m\u001b[0;34m)\u001b[0m \u001b[0;32mand\u001b[0m \u001b[0mgpr\u001b[0m\u001b[0;34m.\u001b[0m\u001b[0mkey\u001b[0m \u001b[0;32mis\u001b[0m \u001b[0;32mnot\u001b[0m \u001b[0;32mNone\u001b[0m\u001b[0;34m:\u001b[0m\u001b[0;34m\u001b[0m\u001b[0;34m\u001b[0m\u001b[0m\n\u001b[1;32m    813\u001b[0m             \u001b[0;31m# Add key to exclusions\u001b[0m\u001b[0;34m\u001b[0m\u001b[0;34m\u001b[0m\u001b[0;34m\u001b[0m\u001b[0m\n",
      "\u001b[0;31mKeyError\u001b[0m: 'weekend'"
     ]
    }
   ],
   "source": [
    "pivot_all = pd.pivot_table(grouped, values=\"count\", columns=\"bones_nobones\")\n",
    "pivot_weekend = pd.pivot_table(\n",
    "    grouped, values=\"count\", columns=[\"weekend\"]\n",
    ")"
   ]
  },
  {
   "cell_type": "code",
   "execution_count": 56,
   "id": "5a09542f-0d0c-43de-bf1e-d83432bb3ff0",
   "metadata": {},
   "outputs": [
    {
     "data": {
      "text/html": [
       "<div>\n",
       "<style scoped>\n",
       "    .dataframe tbody tr th:only-of-type {\n",
       "        vertical-align: middle;\n",
       "    }\n",
       "\n",
       "    .dataframe tbody tr th {\n",
       "        vertical-align: top;\n",
       "    }\n",
       "\n",
       "    .dataframe thead th {\n",
       "        text-align: right;\n",
       "    }\n",
       "</style>\n",
       "<table border=\"1\" class=\"dataframe\">\n",
       "  <thead>\n",
       "    <tr style=\"text-align: right;\">\n",
       "      <th>bones_nobones</th>\n",
       "      <th>Bones!</th>\n",
       "      <th>No bones</th>\n",
       "    </tr>\n",
       "  </thead>\n",
       "  <tbody>\n",
       "    <tr>\n",
       "      <th>count</th>\n",
       "      <td>20</td>\n",
       "      <td>20</td>\n",
       "    </tr>\n",
       "  </tbody>\n",
       "</table>\n",
       "</div>"
      ],
      "text/plain": [
       "bones_nobones  Bones!  No bones\n",
       "count              20        20"
      ]
     },
     "execution_count": 56,
     "metadata": {},
     "output_type": "execute_result"
    }
   ],
   "source": [
    "pivot_all"
   ]
  },
  {
   "cell_type": "code",
   "execution_count": 57,
   "id": "ab6744ee-37b9-432a-94a8-99cd66a46647",
   "metadata": {},
   "outputs": [
    {
     "data": {
      "text/html": [
       "<div>\n",
       "<style scoped>\n",
       "    .dataframe tbody tr th:only-of-type {\n",
       "        vertical-align: middle;\n",
       "    }\n",
       "\n",
       "    .dataframe tbody tr th {\n",
       "        vertical-align: top;\n",
       "    }\n",
       "\n",
       "    .dataframe thead th {\n",
       "        text-align: right;\n",
       "    }\n",
       "</style>\n",
       "<table border=\"1\" class=\"dataframe\">\n",
       "  <thead>\n",
       "    <tr style=\"text-align: right;\">\n",
       "      <th></th>\n",
       "      <th>bones_nobones</th>\n",
       "      <th>weekend</th>\n",
       "    </tr>\n",
       "  </thead>\n",
       "  <tbody>\n",
       "    <tr>\n",
       "      <th>count</th>\n",
       "      <td>20</td>\n",
       "      <td>20</td>\n",
       "    </tr>\n",
       "  </tbody>\n",
       "</table>\n",
       "</div>"
      ],
      "text/plain": [
       "       bones_nobones  weekend\n",
       "count             20       20"
      ]
     },
     "execution_count": 57,
     "metadata": {},
     "output_type": "execute_result"
    }
   ],
   "source": [
    "pivot_weekend"
   ]
  },
  {
   "cell_type": "markdown",
   "id": "82456302-a53c-40b3-8cd2-b7bdf6f7869c",
   "metadata": {},
   "source": [
    "### Export"
   ]
  },
  {
   "cell_type": "code",
   "execution_count": 42,
   "id": "e615ff1f-8e0c-496e-ad59-50cd529f550d",
   "metadata": {},
   "outputs": [],
   "source": [
    "pivot.to_csv(\"data/processed/bones_stacked_bar.csv\")\n",
    "df.to_csv(\"data/processed/bones_nobones.csv\", index=False)"
   ]
  },
  {
   "cell_type": "code",
   "execution_count": null,
   "id": "a56f11be-3f76-4c6f-9d38-53e1ffc59f56",
   "metadata": {},
   "outputs": [],
   "source": []
  }
 ],
 "metadata": {
  "kernelspec": {
   "display_name": "Python 3",
   "language": "python",
   "name": "python3"
  },
  "language_info": {
   "codemirror_mode": {
    "name": "ipython",
    "version": 3
   },
   "file_extension": ".py",
   "mimetype": "text/x-python",
   "name": "python",
   "nbconvert_exporter": "python",
   "pygments_lexer": "ipython3",
   "version": "3.8.8"
  }
 },
 "nbformat": 4,
 "nbformat_minor": 5
}
