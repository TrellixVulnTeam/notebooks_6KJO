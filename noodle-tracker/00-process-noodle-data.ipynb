{
 "cells": [
  {
   "cell_type": "markdown",
   "id": "75d03ecb-426a-472a-ad17-123b78086916",
   "metadata": {},
   "source": [
    "# How likely is a Bones Day vs. a No Bones Day? Basically a coin flip"
   ]
  },
  {
   "cell_type": "code",
   "execution_count": 1,
   "id": "c777d9e4-bc57-45a6-9636-ed6aa79d74fc",
   "metadata": {},
   "outputs": [],
   "source": [
    "%load_ext lab_black"
   ]
  },
  {
   "cell_type": "markdown",
   "id": "fc28bb35-7e41-4a01-b1bf-1c47240a5397",
   "metadata": {},
   "source": [
    "### Load Python tools"
   ]
  },
  {
   "cell_type": "code",
   "execution_count": 2,
   "id": "880df426-7eb7-456b-be88-9cef5f50e58f",
   "metadata": {},
   "outputs": [],
   "source": [
    "import pandas as pd\n",
    "import altair as alt"
   ]
  },
  {
   "cell_type": "markdown",
   "id": "63cafa9e-d6c2-4af7-9999-b2905a45c616",
   "metadata": {},
   "source": [
    "### Read data collected from [TikTok](https://www.tiktok.com/@jongraz) about Noodle"
   ]
  },
  {
   "cell_type": "code",
   "execution_count": 3,
   "id": "95ae02c7-4a70-4843-b49d-0e4914465d98",
   "metadata": {},
   "outputs": [],
   "source": [
    "df = pd.read_csv(\n",
    "    \"https://docs.google.com/spreadsheets/d/e/2PACX-1vQz8eEafXnIeKsNvGL8M56Ia6vu89JDCjfJ22ORl65So4kRYtmTbwmqLjE223fe4mjcZqkrs-KT6j8z/pub?\\\n",
    "gid=0&single=true&output=csv\"\n",
    ")"
   ]
  },
  {
   "cell_type": "markdown",
   "id": "e336649c-926c-43b8-8d3f-468717c51359",
   "metadata": {},
   "source": [
    "### Process dates"
   ]
  },
  {
   "cell_type": "code",
   "execution_count": 4,
   "id": "8ce9f981-e4a7-4e88-87f1-5b86c15a471e",
   "metadata": {},
   "outputs": [],
   "source": [
    "df[\"date\"] = pd.to_datetime(df[\"date\"])\n",
    "df[\"weekday\"] = df[\"date\"].dt.day_name()\n",
    "df[\"month\"] = df[\"date\"].dt.month_name()\n",
    "df[\"weekend\"] = df[\"date\"].dt.day_name().isin([\"Saturday\", \"Sunday\"])"
   ]
  },
  {
   "cell_type": "code",
   "execution_count": 5,
   "id": "59d2b17b-f818-4317-81a1-76009833a531",
   "metadata": {},
   "outputs": [],
   "source": [
    "df.drop([\"url\"], axis=1, inplace=True)"
   ]
  },
  {
   "cell_type": "markdown",
   "id": "e9907c13-584a-41fd-8686-9f3d1bb44bbc",
   "metadata": {},
   "source": [
    "### What's our dataframe look like? "
   ]
  },
  {
   "cell_type": "code",
   "execution_count": 6,
   "id": "6fb77081-4b5d-4d19-bec3-989caf2002e4",
   "metadata": {},
   "outputs": [
    {
     "data": {
      "text/html": [
       "<div>\n",
       "<style scoped>\n",
       "    .dataframe tbody tr th:only-of-type {\n",
       "        vertical-align: middle;\n",
       "    }\n",
       "\n",
       "    .dataframe tbody tr th {\n",
       "        vertical-align: top;\n",
       "    }\n",
       "\n",
       "    .dataframe thead th {\n",
       "        text-align: right;\n",
       "    }\n",
       "</style>\n",
       "<table border=\"1\" class=\"dataframe\">\n",
       "  <thead>\n",
       "    <tr style=\"text-align: right;\">\n",
       "      <th></th>\n",
       "      <th>date</th>\n",
       "      <th>bones_nobones</th>\n",
       "      <th>weekday</th>\n",
       "      <th>month</th>\n",
       "      <th>weekend</th>\n",
       "    </tr>\n",
       "  </thead>\n",
       "  <tbody>\n",
       "    <tr>\n",
       "      <th>0</th>\n",
       "      <td>2021-03-11</td>\n",
       "      <td>No bones</td>\n",
       "      <td>Thursday</td>\n",
       "      <td>March</td>\n",
       "      <td>False</td>\n",
       "    </tr>\n",
       "    <tr>\n",
       "      <th>1</th>\n",
       "      <td>2021-08-13</td>\n",
       "      <td>No bones</td>\n",
       "      <td>Friday</td>\n",
       "      <td>August</td>\n",
       "      <td>False</td>\n",
       "    </tr>\n",
       "    <tr>\n",
       "      <th>2</th>\n",
       "      <td>2021-08-21</td>\n",
       "      <td>No bones</td>\n",
       "      <td>Saturday</td>\n",
       "      <td>August</td>\n",
       "      <td>True</td>\n",
       "    </tr>\n",
       "  </tbody>\n",
       "</table>\n",
       "</div>"
      ],
      "text/plain": [
       "        date bones_nobones   weekday   month  weekend\n",
       "0 2021-03-11      No bones  Thursday   March    False\n",
       "1 2021-08-13      No bones    Friday  August    False\n",
       "2 2021-08-21      No bones  Saturday  August     True"
      ]
     },
     "execution_count": 6,
     "metadata": {},
     "output_type": "execute_result"
    }
   ],
   "source": [
    "df.head(3)"
   ]
  },
  {
   "cell_type": "code",
   "execution_count": 7,
   "id": "78c1b71d-9362-41b4-bc75-957a6a7cd30b",
   "metadata": {},
   "outputs": [
    {
     "data": {
      "text/html": [
       "<div>\n",
       "<style scoped>\n",
       "    .dataframe tbody tr th:only-of-type {\n",
       "        vertical-align: middle;\n",
       "    }\n",
       "\n",
       "    .dataframe tbody tr th {\n",
       "        vertical-align: top;\n",
       "    }\n",
       "\n",
       "    .dataframe thead th {\n",
       "        text-align: right;\n",
       "    }\n",
       "</style>\n",
       "<table border=\"1\" class=\"dataframe\">\n",
       "  <thead>\n",
       "    <tr style=\"text-align: right;\">\n",
       "      <th></th>\n",
       "      <th>date</th>\n",
       "      <th>bones_nobones</th>\n",
       "      <th>weekday</th>\n",
       "      <th>month</th>\n",
       "      <th>weekend</th>\n",
       "    </tr>\n",
       "  </thead>\n",
       "  <tbody>\n",
       "    <tr>\n",
       "      <th>30</th>\n",
       "      <td>2021-11-04</td>\n",
       "      <td>Bones!</td>\n",
       "      <td>Thursday</td>\n",
       "      <td>November</td>\n",
       "      <td>False</td>\n",
       "    </tr>\n",
       "    <tr>\n",
       "      <th>31</th>\n",
       "      <td>2021-11-05</td>\n",
       "      <td>Bones!</td>\n",
       "      <td>Friday</td>\n",
       "      <td>November</td>\n",
       "      <td>False</td>\n",
       "    </tr>\n",
       "    <tr>\n",
       "      <th>32</th>\n",
       "      <td>2021-11-07</td>\n",
       "      <td>No bones</td>\n",
       "      <td>Sunday</td>\n",
       "      <td>November</td>\n",
       "      <td>True</td>\n",
       "    </tr>\n",
       "  </tbody>\n",
       "</table>\n",
       "</div>"
      ],
      "text/plain": [
       "         date bones_nobones   weekday     month  weekend\n",
       "30 2021-11-04        Bones!  Thursday  November    False\n",
       "31 2021-11-05        Bones!    Friday  November    False\n",
       "32 2021-11-07      No bones    Sunday  November     True"
      ]
     },
     "execution_count": 7,
     "metadata": {},
     "output_type": "execute_result"
    }
   ],
   "source": [
    "df.tail(3)"
   ]
  },
  {
   "cell_type": "markdown",
   "id": "e140bc04-2622-4429-92ac-0887db978784",
   "metadata": {},
   "source": [
    "### Share of days with Bones!"
   ]
  },
  {
   "cell_type": "code",
   "execution_count": 8,
   "id": "8f0f192f-2f34-43ef-a746-571dee98440e",
   "metadata": {},
   "outputs": [
    {
     "data": {
      "text/plain": [
       "bones_nobones\n",
       "No bones    55.0\n",
       "Bones!      45.0\n",
       "dtype: float64"
      ]
     },
     "execution_count": 8,
     "metadata": {},
     "output_type": "execute_result"
    }
   ],
   "source": [
    "(df.value_counts(\"bones_nobones\", normalize=True) * 100).round(0)"
   ]
  },
  {
   "cell_type": "markdown",
   "id": "51d96042-cc07-456b-ba49-2ffedff95344",
   "metadata": {},
   "source": [
    "### Group by day type"
   ]
  },
  {
   "cell_type": "code",
   "execution_count": 9,
   "id": "aeb84d9d-f214-41b9-83eb-e3794311f48b",
   "metadata": {
    "tags": []
   },
   "outputs": [],
   "source": [
    "days = (\n",
    "    df.groupby([\"bones_nobones\"])\n",
    "    .agg({\"date\": \"count\"})\n",
    "    .reset_index()\n",
    "    .rename(columns={\"date\": \"count\"})\n",
    ")"
   ]
  },
  {
   "cell_type": "markdown",
   "id": "cf87ac18-718e-474f-823a-82ccb0d3c125",
   "metadata": {
    "tags": []
   },
   "source": [
    "### Simple bar chart explaining the count of day types"
   ]
  },
  {
   "cell_type": "code",
   "execution_count": 10,
   "id": "635053b9-68a0-4e4a-8007-9e82c0b0790c",
   "metadata": {
    "tags": []
   },
   "outputs": [
    {
     "data": {
      "text/html": [
       "\n",
       "<div id=\"altair-viz-fa3bed3d5dad4ee4a679cd6e5cc7c22b\"></div>\n",
       "<script type=\"text/javascript\">\n",
       "  (function(spec, embedOpt){\n",
       "    let outputDiv = document.currentScript.previousElementSibling;\n",
       "    if (outputDiv.id !== \"altair-viz-fa3bed3d5dad4ee4a679cd6e5cc7c22b\") {\n",
       "      outputDiv = document.getElementById(\"altair-viz-fa3bed3d5dad4ee4a679cd6e5cc7c22b\");\n",
       "    }\n",
       "    const paths = {\n",
       "      \"vega\": \"https://cdn.jsdelivr.net/npm//vega@5?noext\",\n",
       "      \"vega-lib\": \"https://cdn.jsdelivr.net/npm//vega-lib?noext\",\n",
       "      \"vega-lite\": \"https://cdn.jsdelivr.net/npm//vega-lite@4.8.1?noext\",\n",
       "      \"vega-embed\": \"https://cdn.jsdelivr.net/npm//vega-embed@6?noext\",\n",
       "    };\n",
       "\n",
       "    function loadScript(lib) {\n",
       "      return new Promise(function(resolve, reject) {\n",
       "        var s = document.createElement('script');\n",
       "        s.src = paths[lib];\n",
       "        s.async = true;\n",
       "        s.onload = () => resolve(paths[lib]);\n",
       "        s.onerror = () => reject(`Error loading script: ${paths[lib]}`);\n",
       "        document.getElementsByTagName(\"head\")[0].appendChild(s);\n",
       "      });\n",
       "    }\n",
       "\n",
       "    function showError(err) {\n",
       "      outputDiv.innerHTML = `<div class=\"error\" style=\"color:red;\">${err}</div>`;\n",
       "      throw err;\n",
       "    }\n",
       "\n",
       "    function displayChart(vegaEmbed) {\n",
       "      vegaEmbed(outputDiv, spec, embedOpt)\n",
       "        .catch(err => showError(`Javascript Error: ${err.message}<br>This usually means there's a typo in your chart specification. See the javascript console for the full traceback.`));\n",
       "    }\n",
       "\n",
       "    if(typeof define === \"function\" && define.amd) {\n",
       "      requirejs.config({paths});\n",
       "      require([\"vega-embed\"], displayChart, err => showError(`Error loading script: ${err.message}`));\n",
       "    } else if (typeof vegaEmbed === \"function\") {\n",
       "      displayChart(vegaEmbed);\n",
       "    } else {\n",
       "      loadScript(\"vega\")\n",
       "        .then(() => loadScript(\"vega-lite\"))\n",
       "        .then(() => loadScript(\"vega-embed\"))\n",
       "        .catch(showError)\n",
       "        .then(() => displayChart(vegaEmbed));\n",
       "    }\n",
       "  })({\"config\": {\"view\": {\"continuousWidth\": 400, \"continuousHeight\": 300}}, \"data\": {\"name\": \"data-71437ff959daf0407b6a19cdaca27c6e\"}, \"mark\": \"bar\", \"encoding\": {\"color\": {\"type\": \"nominal\", \"field\": \"bones_nobones\", \"legend\": null, \"scale\": {\"domain\": [\"Bones!\", \"No bones\"], \"range\": [\"#5ab4ac\", \"#d8b365\"]}, \"title\": \"\"}, \"x\": {\"type\": \"quantitative\", \"axis\": {\"grid\": false, \"tickColor\": \"#ffffff\", \"tickCount\": 6}, \"field\": \"count\", \"title\": \"Days\"}, \"y\": {\"type\": \"nominal\", \"axis\": {\"tickColor\": \"#ffffff\", \"tickCount\": 0}, \"field\": \"bones_nobones\", \"title\": \"\"}}, \"height\": 70, \"title\": \" \", \"width\": 500, \"$schema\": \"https://vega.github.io/schema/vega-lite/v4.8.1.json\", \"datasets\": {\"data-71437ff959daf0407b6a19cdaca27c6e\": [{\"bones_nobones\": \"Bones!\", \"count\": 15}, {\"bones_nobones\": \"No bones\", \"count\": 18}]}}, {\"mode\": \"vega-lite\"});\n",
       "</script>"
      ],
      "text/plain": [
       "alt.Chart(...)"
      ]
     },
     "execution_count": 10,
     "metadata": {},
     "output_type": "execute_result"
    }
   ],
   "source": [
    "alt.Chart(days, title=\" \").mark_bar().encode(\n",
    "    y=alt.Y(\"bones_nobones\", title=\"\", axis=alt.Axis(tickCount=0, tickColor=\"#ffffff\")),\n",
    "    x=alt.X(\n",
    "        \"count\",\n",
    "        title=\"Days\",\n",
    "        axis=alt.Axis(grid=False, tickCount=6, tickColor=\"#ffffff\"),\n",
    "    ),\n",
    "    color=alt.Color(\n",
    "        \"bones_nobones\",\n",
    "        title=\"\",\n",
    "        legend=None,\n",
    "        scale=alt.Scale(domain=[\"Bones!\", \"No bones\"], range=[\"#5ab4ac\", \"#d8b365\"]),\n",
    "    ),\n",
    ").properties(width=500, height=70)"
   ]
  },
  {
   "cell_type": "markdown",
   "id": "7727853a-96ed-4b0b-9ec7-bc19bd06313f",
   "metadata": {},
   "source": [
    "### Plot Noodle's days on a calendar"
   ]
  },
  {
   "cell_type": "code",
   "execution_count": 11,
   "id": "717e0ef7-b4df-4810-9a38-e8b034c548a1",
   "metadata": {
    "tags": []
   },
   "outputs": [
    {
     "data": {
      "text/html": [
       "\n",
       "<div id=\"altair-viz-9d71eced605a4d79bb1a087f8a9b2ebc\"></div>\n",
       "<script type=\"text/javascript\">\n",
       "  (function(spec, embedOpt){\n",
       "    let outputDiv = document.currentScript.previousElementSibling;\n",
       "    if (outputDiv.id !== \"altair-viz-9d71eced605a4d79bb1a087f8a9b2ebc\") {\n",
       "      outputDiv = document.getElementById(\"altair-viz-9d71eced605a4d79bb1a087f8a9b2ebc\");\n",
       "    }\n",
       "    const paths = {\n",
       "      \"vega\": \"https://cdn.jsdelivr.net/npm//vega@5?noext\",\n",
       "      \"vega-lib\": \"https://cdn.jsdelivr.net/npm//vega-lib?noext\",\n",
       "      \"vega-lite\": \"https://cdn.jsdelivr.net/npm//vega-lite@4.8.1?noext\",\n",
       "      \"vega-embed\": \"https://cdn.jsdelivr.net/npm//vega-embed@6?noext\",\n",
       "    };\n",
       "\n",
       "    function loadScript(lib) {\n",
       "      return new Promise(function(resolve, reject) {\n",
       "        var s = document.createElement('script');\n",
       "        s.src = paths[lib];\n",
       "        s.async = true;\n",
       "        s.onload = () => resolve(paths[lib]);\n",
       "        s.onerror = () => reject(`Error loading script: ${paths[lib]}`);\n",
       "        document.getElementsByTagName(\"head\")[0].appendChild(s);\n",
       "      });\n",
       "    }\n",
       "\n",
       "    function showError(err) {\n",
       "      outputDiv.innerHTML = `<div class=\"error\" style=\"color:red;\">${err}</div>`;\n",
       "      throw err;\n",
       "    }\n",
       "\n",
       "    function displayChart(vegaEmbed) {\n",
       "      vegaEmbed(outputDiv, spec, embedOpt)\n",
       "        .catch(err => showError(`Javascript Error: ${err.message}<br>This usually means there's a typo in your chart specification. See the javascript console for the full traceback.`));\n",
       "    }\n",
       "\n",
       "    if(typeof define === \"function\" && define.amd) {\n",
       "      requirejs.config({paths});\n",
       "      require([\"vega-embed\"], displayChart, err => showError(`Error loading script: ${err.message}`));\n",
       "    } else if (typeof vegaEmbed === \"function\") {\n",
       "      displayChart(vegaEmbed);\n",
       "    } else {\n",
       "      loadScript(\"vega\")\n",
       "        .then(() => loadScript(\"vega-lite\"))\n",
       "        .then(() => loadScript(\"vega-embed\"))\n",
       "        .catch(showError)\n",
       "        .then(() => displayChart(vegaEmbed));\n",
       "    }\n",
       "  })({\"config\": {\"view\": {\"continuousWidth\": 400, \"continuousHeight\": 300, \"strokeOpacity\": 0}, \"legend\": {\"orient\": \"top\", \"padding\": 10}}, \"data\": {\"name\": \"data-392c663bcdaf87983f4986d02d54954c\"}, \"mark\": \"rect\", \"encoding\": {\"color\": {\"type\": \"nominal\", \"field\": \"bones_nobones\", \"scale\": {\"domain\": [\"Bones!\", \"No bones\"], \"range\": [\"#5ab4ac\", \"#d8b365\"]}, \"title\": \"\"}, \"tooltip\": [{\"type\": \"temporal\", \"field\": \"date\", \"timeUnit\": \"monthdate\", \"title\": \"Date\"}, {\"type\": \"nominal\", \"field\": \"bones_nobones\", \"title\": \"Tweets\"}], \"x\": {\"type\": \"ordinal\", \"field\": \"date\", \"timeUnit\": \"date\", \"title\": \" \"}, \"y\": {\"type\": \"ordinal\", \"field\": \"date\", \"timeUnit\": \"month\", \"title\": \"\"}}, \"height\": 100, \"title\": \" \", \"width\": 500, \"$schema\": \"https://vega.github.io/schema/vega-lite/v4.8.1.json\", \"datasets\": {\"data-392c663bcdaf87983f4986d02d54954c\": [{\"date\": \"2021-03-11T00:00:00\", \"bones_nobones\": \"No bones\", \"weekday\": \"Thursday\", \"month\": \"March\", \"weekend\": false}, {\"date\": \"2021-08-13T00:00:00\", \"bones_nobones\": \"No bones\", \"weekday\": \"Friday\", \"month\": \"August\", \"weekend\": false}, {\"date\": \"2021-08-21T00:00:00\", \"bones_nobones\": \"No bones\", \"weekday\": \"Saturday\", \"month\": \"August\", \"weekend\": true}, {\"date\": \"2021-09-05T00:00:00\", \"bones_nobones\": \"No bones\", \"weekday\": \"Sunday\", \"month\": \"September\", \"weekend\": true}, {\"date\": \"2021-09-14T00:00:00\", \"bones_nobones\": \"Bones!\", \"weekday\": \"Tuesday\", \"month\": \"September\", \"weekend\": false}, {\"date\": \"2021-09-22T00:00:00\", \"bones_nobones\": \"No bones\", \"weekday\": \"Wednesday\", \"month\": \"September\", \"weekend\": false}, {\"date\": \"2021-09-29T00:00:00\", \"bones_nobones\": \"No bones\", \"weekday\": \"Wednesday\", \"month\": \"September\", \"weekend\": false}, {\"date\": \"2021-10-01T00:00:00\", \"bones_nobones\": \"Bones!\", \"weekday\": \"Friday\", \"month\": \"October\", \"weekend\": false}, {\"date\": \"2021-10-04T00:00:00\", \"bones_nobones\": \"No bones\", \"weekday\": \"Monday\", \"month\": \"October\", \"weekend\": false}, {\"date\": \"2021-10-07T00:00:00\", \"bones_nobones\": \"Bones!\", \"weekday\": \"Thursday\", \"month\": \"October\", \"weekend\": false}, {\"date\": \"2021-10-09T00:00:00\", \"bones_nobones\": \"No bones\", \"weekday\": \"Saturday\", \"month\": \"October\", \"weekend\": true}, {\"date\": \"2021-10-11T00:00:00\", \"bones_nobones\": \"Bones!\", \"weekday\": \"Monday\", \"month\": \"October\", \"weekend\": false}, {\"date\": \"2021-10-13T00:00:00\", \"bones_nobones\": \"No bones\", \"weekday\": \"Wednesday\", \"month\": \"October\", \"weekend\": false}, {\"date\": \"2021-10-14T00:00:00\", \"bones_nobones\": \"No bones\", \"weekday\": \"Thursday\", \"month\": \"October\", \"weekend\": false}, {\"date\": \"2021-10-15T00:00:00\", \"bones_nobones\": \"Bones!\", \"weekday\": \"Friday\", \"month\": \"October\", \"weekend\": false}, {\"date\": \"2021-10-16T00:00:00\", \"bones_nobones\": \"Bones!\", \"weekday\": \"Saturday\", \"month\": \"October\", \"weekend\": true}, {\"date\": \"2021-10-17T00:00:00\", \"bones_nobones\": \"No bones\", \"weekday\": \"Sunday\", \"month\": \"October\", \"weekend\": true}, {\"date\": \"2021-10-18T00:00:00\", \"bones_nobones\": \"Bones!\", \"weekday\": \"Monday\", \"month\": \"October\", \"weekend\": false}, {\"date\": \"2021-10-19T00:00:00\", \"bones_nobones\": \"No bones\", \"weekday\": \"Tuesday\", \"month\": \"October\", \"weekend\": false}, {\"date\": \"2021-10-20T00:00:00\", \"bones_nobones\": \"Bones!\", \"weekday\": \"Wednesday\", \"month\": \"October\", \"weekend\": false}, {\"date\": \"2021-10-21T00:00:00\", \"bones_nobones\": \"No bones\", \"weekday\": \"Thursday\", \"month\": \"October\", \"weekend\": false}, {\"date\": \"2021-10-22T00:00:00\", \"bones_nobones\": \"No bones\", \"weekday\": \"Friday\", \"month\": \"October\", \"weekend\": false}, {\"date\": \"2021-10-23T00:00:00\", \"bones_nobones\": \"Bones!\", \"weekday\": \"Saturday\", \"month\": \"October\", \"weekend\": true}, {\"date\": \"2021-10-25T00:00:00\", \"bones_nobones\": \"Bones!\", \"weekday\": \"Monday\", \"month\": \"October\", \"weekend\": false}, {\"date\": \"2021-10-26T00:00:00\", \"bones_nobones\": \"No bones\", \"weekday\": \"Tuesday\", \"month\": \"October\", \"weekend\": false}, {\"date\": \"2021-10-28T00:00:00\", \"bones_nobones\": \"Bones!\", \"weekday\": \"Thursday\", \"month\": \"October\", \"weekend\": false}, {\"date\": \"2021-10-31T00:00:00\", \"bones_nobones\": \"Bones!\", \"weekday\": \"Sunday\", \"month\": \"October\", \"weekend\": true}, {\"date\": \"2021-11-01T00:00:00\", \"bones_nobones\": \"No bones\", \"weekday\": \"Monday\", \"month\": \"November\", \"weekend\": false}, {\"date\": \"2021-11-02T00:00:00\", \"bones_nobones\": \"No bones\", \"weekday\": \"Tuesday\", \"month\": \"November\", \"weekend\": false}, {\"date\": \"2021-11-03T00:00:00\", \"bones_nobones\": \"Bones!\", \"weekday\": \"Wednesday\", \"month\": \"November\", \"weekend\": false}, {\"date\": \"2021-11-04T00:00:00\", \"bones_nobones\": \"Bones!\", \"weekday\": \"Thursday\", \"month\": \"November\", \"weekend\": false}, {\"date\": \"2021-11-05T00:00:00\", \"bones_nobones\": \"Bones!\", \"weekday\": \"Friday\", \"month\": \"November\", \"weekend\": false}, {\"date\": \"2021-11-07T00:00:00\", \"bones_nobones\": \"No bones\", \"weekday\": \"Sunday\", \"month\": \"November\", \"weekend\": true}]}}, {\"mode\": \"vega-lite\"});\n",
       "</script>"
      ],
      "text/plain": [
       "alt.Chart(...)"
      ]
     },
     "execution_count": 11,
     "metadata": {},
     "output_type": "execute_result"
    }
   ],
   "source": [
    "heatmap = (\n",
    "    alt.Chart(df, title=\" \")\n",
    "    .mark_rect()\n",
    "    .encode(\n",
    "        x=alt.X(\"date(date):O\", title=\" \"),\n",
    "        y=alt.Y(\"month(date):O\", title=\"\"),\n",
    "        color=alt.Color(\n",
    "            \"bones_nobones\",\n",
    "            title=\"\",\n",
    "            scale=alt.Scale(\n",
    "                domain=[\"Bones!\", \"No bones\"], range=[\"#5ab4ac\", \"#d8b365\"]\n",
    "            ),\n",
    "        ),\n",
    "        tooltip=[\n",
    "            alt.Tooltip(\"monthdate(date):T\", title=\"Date\"),\n",
    "            alt.Tooltip(\"bones_nobones\", title=\"Tweets\"),\n",
    "        ],\n",
    "    )\n",
    "    .properties(width=500, height=100)\n",
    ")\n",
    "\n",
    "heatmap.configure_legend(orient=\"top\", padding=10).configure_view(strokeOpacity=0)"
   ]
  },
  {
   "cell_type": "code",
   "execution_count": null,
   "id": "7a2397b1-c203-402b-899b-bcc0bd9f6b5d",
   "metadata": {},
   "outputs": [],
   "source": []
  }
 ],
 "metadata": {
  "kernelspec": {
   "display_name": "Python 3",
   "language": "python",
   "name": "python3"
  },
  "language_info": {
   "codemirror_mode": {
    "name": "ipython",
    "version": 3
   },
   "file_extension": ".py",
   "mimetype": "text/x-python",
   "name": "python",
   "nbconvert_exporter": "python",
   "pygments_lexer": "ipython3",
   "version": "3.8.8"
  }
 },
 "nbformat": 4,
 "nbformat_minor": 5
}
