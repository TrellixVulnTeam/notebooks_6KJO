{
 "cells": [
  {
   "cell_type": "markdown",
   "metadata": {},
   "source": [
    "# Bobcat fire"
   ]
  },
  {
   "cell_type": "code",
   "execution_count": 1,
   "metadata": {},
   "outputs": [
    {
     "data": {
      "text/plain": [
       "ThemeRegistry.enable('latimes')"
      ]
     },
     "execution_count": 1,
     "metadata": {},
     "output_type": "execute_result"
    }
   ],
   "source": [
    "import pandas as pd\n",
    "import geopandas as gpd\n",
    "import numpy as np\n",
    "import matplotlib\n",
    "import matplotlib.pyplot as plt\n",
    "import numpy as np\n",
    "import json\n",
    "import jenkspy\n",
    "import altair_latimes as lat\n",
    "import altair as alt\n",
    "alt.themes.register('latimes', lat.theme)\n",
    "alt.themes.enable('latimes')"
   ]
  },
  {
   "cell_type": "code",
   "execution_count": 2,
   "metadata": {},
   "outputs": [],
   "source": [
    "df = gpd.read_file('input/Bobcat_Progression_20200929/bobcat_progression.geojson')"
   ]
  },
  {
   "cell_type": "code",
   "execution_count": 3,
   "metadata": {},
   "outputs": [
    {
     "data": {
      "text/plain": [
       "prog_date                                            2020-09-06\n",
       "Shape_Leng                                              24543.6\n",
       "Shape_Area                                          1.31759e+07\n",
       "growth_ac                                                  3256\n",
       "total_ac                                                   3256\n",
       "legend_tex                                           2020-09-06\n",
       "geometry      (POLYGON Z ((-117.9681636007343 34.24211847702...\n",
       "Name: 0, dtype: object"
      ]
     },
     "execution_count": 3,
     "metadata": {},
     "output_type": "execute_result"
    }
   ],
   "source": [
    "df.iloc[0]"
   ]
  },
  {
   "cell_type": "code",
   "execution_count": 4,
   "metadata": {},
   "outputs": [
    {
     "data": {
      "text/plain": [
       "24"
      ]
     },
     "execution_count": 4,
     "metadata": {},
     "output_type": "execute_result"
    }
   ],
   "source": [
    "len(df)"
   ]
  },
  {
   "cell_type": "markdown",
   "metadata": {},
   "source": [
    "### Create a day column"
   ]
  },
  {
   "cell_type": "code",
   "execution_count": 5,
   "metadata": {},
   "outputs": [],
   "source": [
    "df['day'] = pd.Series(range(1,25)).astype(int)"
   ]
  },
  {
   "cell_type": "markdown",
   "metadata": {},
   "source": [
    "### Clean up the dates for display"
   ]
  },
  {
   "cell_type": "code",
   "execution_count": 6,
   "metadata": {},
   "outputs": [],
   "source": [
    "df['prog_date'] = pd.to_datetime(df['prog_date'])"
   ]
  },
  {
   "cell_type": "code",
   "execution_count": 7,
   "metadata": {},
   "outputs": [],
   "source": [
    "df['display_date'] = df['prog_date'].dt.strftime('%b. %-d ')"
   ]
  },
  {
   "cell_type": "code",
   "execution_count": 55,
   "metadata": {},
   "outputs": [],
   "source": [
    "for d in df['display_date']:\n",
    "    df[df['display_date'] == d].to_file('output/bobcat_day_' + d + '.geojson', driver='GeoJSON')"
   ]
  },
  {
   "cell_type": "code",
   "execution_count": 10,
   "metadata": {},
   "outputs": [],
   "source": [
    "df = df.set_crs(\"EPSG:4326\", allow_override=True)"
   ]
  },
  {
   "cell_type": "markdown",
   "metadata": {},
   "source": [
    "### Output to Mapbox"
   ]
  },
  {
   "cell_type": "code",
   "execution_count": 11,
   "metadata": {},
   "outputs": [],
   "source": [
    "df.to_file('output/bobcat_progression.geojson', driver='GeoJSON')"
   ]
  },
  {
   "cell_type": "code",
   "execution_count": 12,
   "metadata": {},
   "outputs": [
    {
     "name": "stdout",
     "output_type": "stream",
     "text": [
      "For layer 0, using name \"bobcat_progression\"\n",
      "output/bobcat_progression.geojson:0: ignoring dimensions beyond two\n",
      "In JSON object [-117.968163600734314,34.242118477026743,0.0]\n",
      "In JSON object {\"type\":\"Feature\",\"properties\":{\"prog_date\":\"2020/09/06 00:00:00\",\"Shape_Leng\":24543.640182300001,\"Shape_Area\":13175913.533600001,\"growth_ac\":3256.0,\"total_ac\":3256,\"legend_tex\":\"2020-09-06\",\"day\":1,\"display_date\":\"Sep. 6 \"},\"geometry\":{\"type\":\"MultiPolygon\",\"coordinates\":[[[[-117.968163600734314,34.242118477026743,0.0],[-117.96820308545378,34.242286086511491,0.0],[-117.96820313566576,34.242286298941814,0.0],[-117.968203032069141,34.2422863556721,0.0],[-117.96831095810596,34.242744413009035,0...\n",
      "24 features, 357749 bytes of geometry, 704 bytes of separate metadata, 2203 bytes of string pool\n",
      "  99.9%  15/5644/13047  \n"
     ]
    }
   ],
   "source": [
    "!tippecanoe --force -z15 -Z6 -o output/bobcat_progression.mbtiles --drop-densest-as-needed output/bobcat_progression.geojson"
   ]
  },
  {
   "cell_type": "code",
   "execution_count": null,
   "metadata": {},
   "outputs": [],
   "source": []
  }
 ],
 "metadata": {
  "kernelspec": {
   "display_name": "Python 3",
   "language": "python",
   "name": "python3"
  },
  "language_info": {
   "codemirror_mode": {
    "name": "ipython",
    "version": 3
   },
   "file_extension": ".py",
   "mimetype": "text/x-python",
   "name": "python",
   "nbconvert_exporter": "python",
   "pygments_lexer": "ipython3",
   "version": "3.7.4"
  }
 },
 "nbformat": 4,
 "nbformat_minor": 4
}
