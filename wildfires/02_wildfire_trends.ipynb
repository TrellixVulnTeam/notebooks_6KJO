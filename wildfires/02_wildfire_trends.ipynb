{
 "cells": [
  {
   "cell_type": "markdown",
   "metadata": {},
   "source": [
    "# Wildfire trends in California"
   ]
  },
  {
   "cell_type": "code",
   "execution_count": 1,
   "metadata": {},
   "outputs": [],
   "source": [
    "import pandas as pd\n",
    "import geopandas as gpd\n",
    "import matplotlib.pyplot as plt\n",
    "%matplotlib inline\n",
    "import numpy as np\n",
    "import json\n",
    "import jenkspy\n",
    "import altair_latimes as lat\n",
    "import altair as alt\n",
    "alt.themes.register('latimes', lat.theme)\n",
    "alt.themes.enable('latimes')\n",
    "pd.options.display.float_format = '{:,.0f}'.format"
   ]
  },
  {
   "cell_type": "code",
   "execution_count": 2,
   "metadata": {},
   "outputs": [],
   "source": [
    "# processed @ wildfires/00_cleaning.ipynb\n",
    "wildfires = gpd.read_file('/Users/mhustiles/data/data/GIS/wildfires/FRAP/output/wildfires.geojson')"
   ]
  },
  {
   "cell_type": "code",
   "execution_count": 3,
   "metadata": {},
   "outputs": [],
   "source": [
    "wildfires['alarm_date'] = wildfires['alarm_date'].str.replace('T00:00:00', '')\n",
    "wildfires['year_'] = wildfires['year_'].astype(int)"
   ]
  },
  {
   "cell_type": "code",
   "execution_count": 4,
   "metadata": {},
   "outputs": [
    {
     "data": {
      "text/plain": [
       "Index(['objectid', 'year_', 'state', 'agency', 'unit_id', 'fire_name',\n",
       "       'inc_num', 'alarm_date', 'cont_date', 'cause', 'comments', 'report_ac',\n",
       "       'gis_acres', 'c_method', 'objective', 'fire_num', 'sqmiles',\n",
       "       'alarm_year', 'alarm_quarter', 'alarm_day', 'alarm_month',\n",
       "       'alarm_monthname', 'cause_description', 'agency_description',\n",
       "       'unit_description', 'fire', 'geometry'],\n",
       "      dtype='object')"
      ]
     },
     "execution_count": 4,
     "metadata": {},
     "output_type": "execute_result"
    }
   ],
   "source": [
    "wildfires.columns"
   ]
  },
  {
   "cell_type": "code",
   "execution_count": 25,
   "metadata": {},
   "outputs": [
    {
     "data": {
      "text/plain": [
       "2017    607\n",
       "2008    431\n",
       "2018    411\n",
       "2012    350\n",
       "2016    347\n",
       "2007    346\n",
       "2003    340\n",
       "2011    317\n",
       "2006    315\n",
       "2015    311\n",
       "2005    306\n",
       "2013    298\n",
       "1996    285\n",
       "2004    274\n",
       "1980    263\n",
       "1999    259\n",
       "2009    254\n",
       "1987    251\n",
       "2002    243\n",
       "1981    239\n",
       "2014    238\n",
       "1988    219\n",
       "2010    209\n",
       "2001    204\n",
       "1984    198\n",
       "1994    194\n",
       "1985    184\n",
       "1995    178\n",
       "2000    176\n",
       "1997    166\n",
       "1989    152\n",
       "1986    151\n",
       "1992    150\n",
       "1983    148\n",
       "1993    144\n",
       "1998    143\n",
       "1990    136\n",
       "1982    132\n",
       "1991     74\n",
       "Name: year_, dtype: int64"
      ]
     },
     "execution_count": 25,
     "metadata": {},
     "output_type": "execute_result"
    }
   ],
   "source": [
    "wildfires.year_.value_counts()"
   ]
  },
  {
   "cell_type": "markdown",
   "metadata": {},
   "source": [
    "---"
   ]
  },
  {
   "cell_type": "code",
   "execution_count": 6,
   "metadata": {},
   "outputs": [],
   "source": [
    "result_decade = []\n",
    "\n",
    "for value in wildfires['year_']: \n",
    "    if value > 1979 and value < 1990: \n",
    "        result_decade.append('1980s')\n",
    "    elif value > 1989 and value < 2000: \n",
    "        result_decade.append('1990s')\n",
    "    elif value > 1999 and value < 2010: \n",
    "        result_decade.append('2000s')\n",
    "    else: \n",
    "        result_decade.append('2010s')\n",
    "    \n",
    "wildfires['decade'] = result_decade"
   ]
  },
  {
   "cell_type": "code",
   "execution_count": 7,
   "metadata": {},
   "outputs": [],
   "source": [
    "result = []\n",
    "\n",
    "for value in wildfires['year_']: \n",
    "    if value > 1979 and value < 1985: \n",
    "        result.append('1980-84')\n",
    "    elif value > 1984 and value < 1990: \n",
    "        result.append('1985-89')\n",
    "    elif value > 1989 and value < 1995: \n",
    "        result.append('1990-94')\n",
    "    elif value > 1994 and value < 2000: \n",
    "        result.append('1995-99')\n",
    "    elif value > 1999 and value < 2005: \n",
    "        result.append('2000-04')\n",
    "    elif value > 2004 and value < 2010: \n",
    "        result.append('2005-09') \n",
    "    elif value > 2009 and value < 2015: \n",
    "        result.append('2010-14')\n",
    "    else: \n",
    "        result.append('2015-18')\n",
    "    \n",
    "wildfires['half_decade'] = result"
   ]
  },
  {
   "cell_type": "code",
   "execution_count": 8,
   "metadata": {},
   "outputs": [],
   "source": [
    "large_fires_decades = wildfires[wildfires['gis_acres'] > 5000].groupby(['decade'])\\\n",
    "    .agg({'gis_acres': [(\"sum\", \"sum\"), (\"count\", \"count\")]}).reset_index().round()\n",
    "large_fires_decades.columns = [\"_\".join(x) for x in large_fires_decades.columns.ravel()]"
   ]
  },
  {
   "cell_type": "code",
   "execution_count": 9,
   "metadata": {},
   "outputs": [],
   "source": [
    "large_fires_years = wildfires[wildfires['gis_acres'] > 5000].groupby(['year_'])\\\n",
    "    .agg({'gis_acres': [(\"sum\", \"sum\"), (\"count\", \"count\")]}).reset_index().round()\n",
    "large_fires_years.columns = [\"_\".join(x) for x in large_fires_years.columns.ravel()]"
   ]
  },
  {
   "cell_type": "code",
   "execution_count": 10,
   "metadata": {},
   "outputs": [
    {
     "data": {
      "text/html": [
       "<div>\n",
       "<style scoped>\n",
       "    .dataframe tbody tr th:only-of-type {\n",
       "        vertical-align: middle;\n",
       "    }\n",
       "\n",
       "    .dataframe tbody tr th {\n",
       "        vertical-align: top;\n",
       "    }\n",
       "\n",
       "    .dataframe thead th {\n",
       "        text-align: right;\n",
       "    }\n",
       "</style>\n",
       "<table border=\"1\" class=\"dataframe\">\n",
       "  <thead>\n",
       "    <tr style=\"text-align: right;\">\n",
       "      <th></th>\n",
       "      <th>year__</th>\n",
       "      <th>gis_acres_sum</th>\n",
       "      <th>gis_acres_count</th>\n",
       "    </tr>\n",
       "  </thead>\n",
       "  <tbody>\n",
       "    <tr>\n",
       "      <th>0</th>\n",
       "      <td>1980</td>\n",
       "      <td>213,602</td>\n",
       "      <td>15</td>\n",
       "    </tr>\n",
       "    <tr>\n",
       "      <th>1</th>\n",
       "      <td>1981</td>\n",
       "      <td>175,614</td>\n",
       "      <td>14</td>\n",
       "    </tr>\n",
       "    <tr>\n",
       "      <th>2</th>\n",
       "      <td>1982</td>\n",
       "      <td>77,260</td>\n",
       "      <td>4</td>\n",
       "    </tr>\n",
       "    <tr>\n",
       "      <th>3</th>\n",
       "      <td>1983</td>\n",
       "      <td>9,310</td>\n",
       "      <td>1</td>\n",
       "    </tr>\n",
       "    <tr>\n",
       "      <th>4</th>\n",
       "      <td>1984</td>\n",
       "      <td>105,505</td>\n",
       "      <td>10</td>\n",
       "    </tr>\n",
       "    <tr>\n",
       "      <th>5</th>\n",
       "      <td>1985</td>\n",
       "      <td>444,280</td>\n",
       "      <td>15</td>\n",
       "    </tr>\n",
       "    <tr>\n",
       "      <th>6</th>\n",
       "      <td>1986</td>\n",
       "      <td>39,247</td>\n",
       "      <td>4</td>\n",
       "    </tr>\n",
       "    <tr>\n",
       "      <th>7</th>\n",
       "      <td>1987</td>\n",
       "      <td>696,432</td>\n",
       "      <td>36</td>\n",
       "    </tr>\n",
       "    <tr>\n",
       "      <th>8</th>\n",
       "      <td>1988</td>\n",
       "      <td>172,770</td>\n",
       "      <td>15</td>\n",
       "    </tr>\n",
       "    <tr>\n",
       "      <th>9</th>\n",
       "      <td>1989</td>\n",
       "      <td>66,973</td>\n",
       "      <td>6</td>\n",
       "    </tr>\n",
       "  </tbody>\n",
       "</table>\n",
       "</div>"
      ],
      "text/plain": [
       "   year__  gis_acres_sum  gis_acres_count\n",
       "0    1980        213,602               15\n",
       "1    1981        175,614               14\n",
       "2    1982         77,260                4\n",
       "3    1983          9,310                1\n",
       "4    1984        105,505               10\n",
       "5    1985        444,280               15\n",
       "6    1986         39,247                4\n",
       "7    1987        696,432               36\n",
       "8    1988        172,770               15\n",
       "9    1989         66,973                6"
      ]
     },
     "execution_count": 10,
     "metadata": {},
     "output_type": "execute_result"
    }
   ],
   "source": [
    "large_fires_years.head(10)"
   ]
  },
  {
   "cell_type": "code",
   "execution_count": 11,
   "metadata": {},
   "outputs": [
    {
     "data": {
      "text/html": [
       "<div>\n",
       "<style scoped>\n",
       "    .dataframe tbody tr th:only-of-type {\n",
       "        vertical-align: middle;\n",
       "    }\n",
       "\n",
       "    .dataframe tbody tr th {\n",
       "        vertical-align: top;\n",
       "    }\n",
       "\n",
       "    .dataframe thead th {\n",
       "        text-align: right;\n",
       "    }\n",
       "</style>\n",
       "<table border=\"1\" class=\"dataframe\">\n",
       "  <thead>\n",
       "    <tr style=\"text-align: right;\">\n",
       "      <th></th>\n",
       "      <th>decade_</th>\n",
       "      <th>gis_acres_sum</th>\n",
       "      <th>gis_acres_count</th>\n",
       "    </tr>\n",
       "  </thead>\n",
       "  <tbody>\n",
       "    <tr>\n",
       "      <th>0</th>\n",
       "      <td>1980s</td>\n",
       "      <td>2,000,994</td>\n",
       "      <td>120</td>\n",
       "    </tr>\n",
       "    <tr>\n",
       "      <th>1</th>\n",
       "      <td>1990s</td>\n",
       "      <td>2,342,828</td>\n",
       "      <td>116</td>\n",
       "    </tr>\n",
       "    <tr>\n",
       "      <th>2</th>\n",
       "      <td>2000s</td>\n",
       "      <td>5,502,221</td>\n",
       "      <td>190</td>\n",
       "    </tr>\n",
       "    <tr>\n",
       "      <th>3</th>\n",
       "      <td>2010s</td>\n",
       "      <td>5,912,600</td>\n",
       "      <td>167</td>\n",
       "    </tr>\n",
       "  </tbody>\n",
       "</table>\n",
       "</div>"
      ],
      "text/plain": [
       "  decade_  gis_acres_sum  gis_acres_count\n",
       "0   1980s      2,000,994              120\n",
       "1   1990s      2,342,828              116\n",
       "2   2000s      5,502,221              190\n",
       "3   2010s      5,912,600              167"
      ]
     },
     "execution_count": 11,
     "metadata": {},
     "output_type": "execute_result"
    }
   ],
   "source": [
    "large_fires_decades.head(10)"
   ]
  },
  {
   "cell_type": "code",
   "execution_count": 12,
   "metadata": {},
   "outputs": [
    {
     "data": {
      "text/html": [
       "\n",
       "<div id=\"altair-viz-f99d127210ef4d1584da99a431229c86\"></div>\n",
       "<script type=\"text/javascript\">\n",
       "  (function(spec, embedOpt){\n",
       "    let outputDiv = document.currentScript.previousElementSibling;\n",
       "    if (outputDiv.id !== \"altair-viz-f99d127210ef4d1584da99a431229c86\") {\n",
       "      outputDiv = document.getElementById(\"altair-viz-f99d127210ef4d1584da99a431229c86\");\n",
       "    }\n",
       "    const paths = {\n",
       "      \"vega\": \"https://cdn.jsdelivr.net/npm//vega@5?noext\",\n",
       "      \"vega-lib\": \"https://cdn.jsdelivr.net/npm//vega-lib?noext\",\n",
       "      \"vega-lite\": \"https://cdn.jsdelivr.net/npm//vega-lite@4.8.1?noext\",\n",
       "      \"vega-embed\": \"https://cdn.jsdelivr.net/npm//vega-embed@6?noext\",\n",
       "    };\n",
       "\n",
       "    function loadScript(lib) {\n",
       "      return new Promise(function(resolve, reject) {\n",
       "        var s = document.createElement('script');\n",
       "        s.src = paths[lib];\n",
       "        s.async = true;\n",
       "        s.onload = () => resolve(paths[lib]);\n",
       "        s.onerror = () => reject(`Error loading script: ${paths[lib]}`);\n",
       "        document.getElementsByTagName(\"head\")[0].appendChild(s);\n",
       "      });\n",
       "    }\n",
       "\n",
       "    function showError(err) {\n",
       "      outputDiv.innerHTML = `<div class=\"error\" style=\"color:red;\">${err}</div>`;\n",
       "      throw err;\n",
       "    }\n",
       "\n",
       "    function displayChart(vegaEmbed) {\n",
       "      vegaEmbed(outputDiv, spec, embedOpt)\n",
       "        .catch(err => showError(`Javascript Error: ${err.message}<br>This usually means there's a typo in your chart specification. See the javascript console for the full traceback.`));\n",
       "    }\n",
       "\n",
       "    if(typeof define === \"function\" && define.amd) {\n",
       "      requirejs.config({paths});\n",
       "      require([\"vega-embed\"], displayChart, err => showError(`Error loading script: ${err.message}`));\n",
       "    } else if (typeof vegaEmbed === \"function\") {\n",
       "      displayChart(vegaEmbed);\n",
       "    } else {\n",
       "      loadScript(\"vega\")\n",
       "        .then(() => loadScript(\"vega-lite\"))\n",
       "        .then(() => loadScript(\"vega-embed\"))\n",
       "        .catch(showError)\n",
       "        .then(() => displayChart(vegaEmbed));\n",
       "    }\n",
       "  })({\"config\": {\"view\": {\"width\": 800, \"height\": 450}, \"background\": \"#ffffff\", \"title\": {\"anchor\": \"start\", \"font\": \"Benton Gothic Bold, sans\", \"fontColor\": \"#000000\", \"fontSize\": 22, \"fontWeight\": \"normal\"}, \"arc\": {\"fill\": \"#82c6df\"}, \"area\": {\"fill\": \"#82c6df\"}, \"line\": {\"stroke\": \"#82c6df\", \"strokeWidth\": 3}, \"path\": {\"stroke\": \"#82c6df\"}, \"rect\": {\"fill\": \"#82c6df\"}, \"shape\": {\"stroke\": \"#82c6df\"}, \"bar\": {\"fill\": \"#82c6df\"}, \"point\": {\"stroke\": \"#82c6df\"}, \"symbol\": {\"fill\": \"#82c6df\", \"size\": 30}, \"axis\": {\"titleFont\": \"Benton Gothic Bold, sans\", \"titleFontSize\": 13, \"titleFontWeight\": \"normal\", \"labelFont\": \"Benton Gothic, sans\", \"labelFontSize\": 11.5, \"labelFontWeight\": \"normal\"}, \"axisX\": {\"labelAngle\": 0, \"labelPadding\": 4, \"tickSize\": 3}, \"axisY\": {\"labelBaseline\": \"middle\", \"maxExtent\": 45, \"minExtent\": 45, \"tickSize\": 2, \"titleAlign\": \"left\", \"titleAngle\": 0, \"titleX\": -45, \"titleY\": -11}, \"legend\": {\"titleFont\": \"Benton Gothic Bold, sans\", \"titleFontSize\": 13, \"titleFontWeight\": \"normal\", \"symbolType\": \"square\", \"labelFont\": \"Benton Gothic, sans\", \"labelFontSize\": 11.5}, \"range\": {\"category\": [\"#3580b1\", \"#ec8431\", \"#ab7fb4\", \"#c89d29\", \"#adc839\", \"#829eb1\"], \"diverging\": [\"#e68a4f\", \"#f4bb6a\", \"#f9e39c\", \"#dadfe2\", \"#a6b7c6\", \"#849eae\"], \"heatmap\": [\"#fbf2c7\", \"#f9e39c\", \"#f8d36e\", \"#f4bb6a\", \"#e68a4f\", \"#d15a40\", \"#ab4232\"], \"ordinal\": [\"#fbf2c7\", \"#f9e39c\", \"#f8d36e\", \"#f4bb6a\", \"#e68a4f\", \"#d15a40\", \"#ab4232\"], \"ramp\": [\"#fbf2c7\", \"#f9e39c\", \"#f8d36e\", \"#f4bb6a\", \"#e68a4f\", \"#d15a40\", \"#ab4232\"]}}, \"hconcat\": [{\"mark\": \"bar\", \"encoding\": {\"x\": {\"type\": \"ordinal\", \"field\": \"decade_\"}, \"y\": {\"type\": \"quantitative\", \"aggregate\": \"sum\", \"field\": \"gis_acres_sum\"}}, \"height\": 300, \"width\": 250}, {\"mark\": \"bar\", \"encoding\": {\"x\": {\"type\": \"ordinal\", \"field\": \"decade_\"}, \"y\": {\"type\": \"quantitative\", \"aggregate\": \"sum\", \"field\": \"gis_acres_count\"}}, \"height\": 300, \"width\": 250}], \"data\": {\"name\": \"data-1e00793ca27223b20977385abf3e5dc7\"}, \"$schema\": \"https://vega.github.io/schema/vega-lite/v4.8.1.json\", \"datasets\": {\"data-1e00793ca27223b20977385abf3e5dc7\": [{\"decade_\": \"1980s\", \"gis_acres_sum\": 2000994.0, \"gis_acres_count\": 120}, {\"decade_\": \"1990s\", \"gis_acres_sum\": 2342828.0, \"gis_acres_count\": 116}, {\"decade_\": \"2000s\", \"gis_acres_sum\": 5502221.0, \"gis_acres_count\": 190}, {\"decade_\": \"2010s\", \"gis_acres_sum\": 5912600.0, \"gis_acres_count\": 167}]}}, {\"mode\": \"vega-lite\"});\n",
       "</script>"
      ],
      "text/plain": [
       "alt.HConcatChart(...)"
      ]
     },
     "execution_count": 12,
     "metadata": {},
     "output_type": "execute_result"
    }
   ],
   "source": [
    "acres = alt.Chart(large_fires_decades).mark_bar().encode(\n",
    "    x='decade_:O',\n",
    "    y='sum(gis_acres_sum):Q'\n",
    ").properties(height=300, width=250)\n",
    "\n",
    "count = alt.Chart(large_fires_decades).mark_bar().encode(\n",
    "    x='decade_:O',\n",
    "    y='sum(gis_acres_count):Q'\n",
    ").properties(height=300, width=250)\n",
    "\n",
    "acres|count"
   ]
  },
  {
   "cell_type": "code",
   "execution_count": 13,
   "metadata": {},
   "outputs": [
    {
     "data": {
      "text/html": [
       "\n",
       "<div id=\"altair-viz-03102dcaae5b40988d6800080d466026\"></div>\n",
       "<script type=\"text/javascript\">\n",
       "  (function(spec, embedOpt){\n",
       "    let outputDiv = document.currentScript.previousElementSibling;\n",
       "    if (outputDiv.id !== \"altair-viz-03102dcaae5b40988d6800080d466026\") {\n",
       "      outputDiv = document.getElementById(\"altair-viz-03102dcaae5b40988d6800080d466026\");\n",
       "    }\n",
       "    const paths = {\n",
       "      \"vega\": \"https://cdn.jsdelivr.net/npm//vega@5?noext\",\n",
       "      \"vega-lib\": \"https://cdn.jsdelivr.net/npm//vega-lib?noext\",\n",
       "      \"vega-lite\": \"https://cdn.jsdelivr.net/npm//vega-lite@4.8.1?noext\",\n",
       "      \"vega-embed\": \"https://cdn.jsdelivr.net/npm//vega-embed@6?noext\",\n",
       "    };\n",
       "\n",
       "    function loadScript(lib) {\n",
       "      return new Promise(function(resolve, reject) {\n",
       "        var s = document.createElement('script');\n",
       "        s.src = paths[lib];\n",
       "        s.async = true;\n",
       "        s.onload = () => resolve(paths[lib]);\n",
       "        s.onerror = () => reject(`Error loading script: ${paths[lib]}`);\n",
       "        document.getElementsByTagName(\"head\")[0].appendChild(s);\n",
       "      });\n",
       "    }\n",
       "\n",
       "    function showError(err) {\n",
       "      outputDiv.innerHTML = `<div class=\"error\" style=\"color:red;\">${err}</div>`;\n",
       "      throw err;\n",
       "    }\n",
       "\n",
       "    function displayChart(vegaEmbed) {\n",
       "      vegaEmbed(outputDiv, spec, embedOpt)\n",
       "        .catch(err => showError(`Javascript Error: ${err.message}<br>This usually means there's a typo in your chart specification. See the javascript console for the full traceback.`));\n",
       "    }\n",
       "\n",
       "    if(typeof define === \"function\" && define.amd) {\n",
       "      requirejs.config({paths});\n",
       "      require([\"vega-embed\"], displayChart, err => showError(`Error loading script: ${err.message}`));\n",
       "    } else if (typeof vegaEmbed === \"function\") {\n",
       "      displayChart(vegaEmbed);\n",
       "    } else {\n",
       "      loadScript(\"vega\")\n",
       "        .then(() => loadScript(\"vega-lite\"))\n",
       "        .then(() => loadScript(\"vega-embed\"))\n",
       "        .catch(showError)\n",
       "        .then(() => displayChart(vegaEmbed));\n",
       "    }\n",
       "  })({\"config\": {\"view\": {\"width\": 800, \"height\": 450}, \"background\": \"#ffffff\", \"title\": {\"anchor\": \"start\", \"font\": \"Benton Gothic Bold, sans\", \"fontColor\": \"#000000\", \"fontSize\": 22, \"fontWeight\": \"normal\"}, \"arc\": {\"fill\": \"#82c6df\"}, \"area\": {\"fill\": \"#82c6df\"}, \"line\": {\"stroke\": \"#82c6df\", \"strokeWidth\": 3}, \"path\": {\"stroke\": \"#82c6df\"}, \"rect\": {\"fill\": \"#82c6df\"}, \"shape\": {\"stroke\": \"#82c6df\"}, \"bar\": {\"fill\": \"#82c6df\"}, \"point\": {\"stroke\": \"#82c6df\"}, \"symbol\": {\"fill\": \"#82c6df\", \"size\": 30}, \"axis\": {\"titleFont\": \"Benton Gothic Bold, sans\", \"titleFontSize\": 13, \"titleFontWeight\": \"normal\", \"labelFont\": \"Benton Gothic, sans\", \"labelFontSize\": 11.5, \"labelFontWeight\": \"normal\"}, \"axisX\": {\"labelAngle\": 0, \"labelPadding\": 4, \"tickSize\": 3}, \"axisY\": {\"labelBaseline\": \"middle\", \"maxExtent\": 45, \"minExtent\": 45, \"tickSize\": 2, \"titleAlign\": \"left\", \"titleAngle\": 0, \"titleX\": -45, \"titleY\": -11}, \"legend\": {\"titleFont\": \"Benton Gothic Bold, sans\", \"titleFontSize\": 13, \"titleFontWeight\": \"normal\", \"symbolType\": \"square\", \"labelFont\": \"Benton Gothic, sans\", \"labelFontSize\": 11.5}, \"range\": {\"category\": [\"#3580b1\", \"#ec8431\", \"#ab7fb4\", \"#c89d29\", \"#adc839\", \"#829eb1\"], \"diverging\": [\"#e68a4f\", \"#f4bb6a\", \"#f9e39c\", \"#dadfe2\", \"#a6b7c6\", \"#849eae\"], \"heatmap\": [\"#fbf2c7\", \"#f9e39c\", \"#f8d36e\", \"#f4bb6a\", \"#e68a4f\", \"#d15a40\", \"#ab4232\"], \"ordinal\": [\"#fbf2c7\", \"#f9e39c\", \"#f8d36e\", \"#f4bb6a\", \"#e68a4f\", \"#d15a40\", \"#ab4232\"], \"ramp\": [\"#fbf2c7\", \"#f9e39c\", \"#f8d36e\", \"#f4bb6a\", \"#e68a4f\", \"#d15a40\", \"#ab4232\"]}}, \"data\": {\"name\": \"data-5038c59af7fae3bb93c7eda78b5f945c\"}, \"mark\": \"bar\", \"encoding\": {\"x\": {\"type\": \"ordinal\", \"field\": \"year__\"}, \"y\": {\"type\": \"quantitative\", \"aggregate\": \"sum\", \"field\": \"gis_acres_sum\"}}, \"height\": 400, \"width\": 600, \"$schema\": \"https://vega.github.io/schema/vega-lite/v4.8.1.json\", \"datasets\": {\"data-5038c59af7fae3bb93c7eda78b5f945c\": [{\"year__\": 1980, \"gis_acres_sum\": 213602.0, \"gis_acres_count\": 15}, {\"year__\": 1981, \"gis_acres_sum\": 175614.0, \"gis_acres_count\": 14}, {\"year__\": 1982, \"gis_acres_sum\": 77260.0, \"gis_acres_count\": 4}, {\"year__\": 1983, \"gis_acres_sum\": 9310.0, \"gis_acres_count\": 1}, {\"year__\": 1984, \"gis_acres_sum\": 105505.0, \"gis_acres_count\": 10}, {\"year__\": 1985, \"gis_acres_sum\": 444280.0, \"gis_acres_count\": 15}, {\"year__\": 1986, \"gis_acres_sum\": 39247.0, \"gis_acres_count\": 4}, {\"year__\": 1987, \"gis_acres_sum\": 696432.0, \"gis_acres_count\": 36}, {\"year__\": 1988, \"gis_acres_sum\": 172770.0, \"gis_acres_count\": 15}, {\"year__\": 1989, \"gis_acres_sum\": 66973.0, \"gis_acres_count\": 6}, {\"year__\": 1990, \"gis_acres_sum\": 242448.0, \"gis_acres_count\": 7}, {\"year__\": 1991, \"gis_acres_sum\": 5771.0, \"gis_acres_count\": 1}, {\"year__\": 1992, \"gis_acres_sum\": 143237.0, \"gis_acres_count\": 9}, {\"year__\": 1993, \"gis_acres_sum\": 258257.0, \"gis_acres_count\": 15}, {\"year__\": 1994, \"gis_acres_sum\": 271224.0, \"gis_acres_count\": 13}, {\"year__\": 1995, \"gis_acres_sum\": 98318.0, \"gis_acres_count\": 11}, {\"year__\": 1996, \"gis_acres_sum\": 473768.0, \"gis_acres_count\": 20}, {\"year__\": 1997, \"gis_acres_sum\": 136009.0, \"gis_acres_count\": 9}, {\"year__\": 1998, \"gis_acres_sum\": 79819.0, \"gis_acres_count\": 7}, {\"year__\": 1999, \"gis_acres_sum\": 633977.0, \"gis_acres_count\": 24}, {\"year__\": 2000, \"gis_acres_sum\": 183771.0, \"gis_acres_count\": 8}, {\"year__\": 2001, \"gis_acres_sum\": 158886.0, \"gis_acres_count\": 12}, {\"year__\": 2002, \"gis_acres_sum\": 871650.0, \"gis_acres_count\": 13}, {\"year__\": 2003, \"gis_acres_sum\": 843063.0, \"gis_acres_count\": 24}, {\"year__\": 2004, \"gis_acres_sum\": 179045.0, \"gis_acres_count\": 14}, {\"year__\": 2005, \"gis_acres_sum\": 157315.0, \"gis_acres_count\": 9}, {\"year__\": 2006, \"gis_acres_sum\": 604032.0, \"gis_acres_count\": 22}, {\"year__\": 2007, \"gis_acres_sum\": 938877.0, \"gis_acres_count\": 21}, {\"year__\": 2008, \"gis_acres_sum\": 1205799.0, \"gis_acres_count\": 53}, {\"year__\": 2009, \"gis_acres_sum\": 359784.0, \"gis_acres_count\": 14}, {\"year__\": 2010, \"gis_acres_sum\": 56794.0, \"gis_acres_count\": 5}, {\"year__\": 2011, \"gis_acres_sum\": 122421.0, \"gis_acres_count\": 9}, {\"year__\": 2012, \"gis_acres_sum\": 765413.0, \"gis_acres_count\": 17}, {\"year__\": 2013, \"gis_acres_sum\": 511593.0, \"gis_acres_count\": 16}, {\"year__\": 2014, \"gis_acres_sum\": 510258.0, \"gis_acres_count\": 17}, {\"year__\": 2015, \"gis_acres_sum\": 715474.0, \"gis_acres_count\": 28}, {\"year__\": 2016, \"gis_acres_sum\": 445498.0, \"gis_acres_count\": 15}, {\"year__\": 2017, \"gis_acres_sum\": 1295117.0, \"gis_acres_count\": 39}, {\"year__\": 2018, \"gis_acres_sum\": 1490033.0, \"gis_acres_count\": 21}]}}, {\"mode\": \"vega-lite\"});\n",
       "</script>"
      ],
      "text/plain": [
       "alt.Chart(...)"
      ]
     },
     "execution_count": 13,
     "metadata": {},
     "output_type": "execute_result"
    }
   ],
   "source": [
    "acres_years = alt.Chart(large_fires_years).mark_bar().encode(\n",
    "    x='year__:O',\n",
    "    y='sum(gis_acres_sum):Q'\n",
    ").properties(height=400, width=600)\n",
    "\n",
    "acres_years"
   ]
  },
  {
   "cell_type": "markdown",
   "metadata": {},
   "source": [
    "### Export for years summary table"
   ]
  },
  {
   "cell_type": "code",
   "execution_count": 14,
   "metadata": {},
   "outputs": [],
   "source": [
    "large_fires_years.to_csv('output/large_fires_years.csv')"
   ]
  },
  {
   "cell_type": "markdown",
   "metadata": {},
   "source": [
    "### Add CA counties"
   ]
  },
  {
   "cell_type": "code",
   "execution_count": 15,
   "metadata": {},
   "outputs": [],
   "source": [
    "counties = gpd.read_file('http://s3-us-west-2.amazonaws.com/boundaries.\\\n",
    "latimes.com/archive/1.0/boundary-set/counties-2012.geojson')"
   ]
  },
  {
   "cell_type": "code",
   "execution_count": 16,
   "metadata": {},
   "outputs": [],
   "source": [
    "## corresponds to census 'consolidated statistical area' \n",
    "la_csa = counties[(counties['name'] == 'Los Angeles') \\\n",
    "                   | (counties['name'] == 'Orange') \\\n",
    "                   | (counties['name'] == 'Ventura') \\\n",
    "                   | (counties['name'] == 'San Bernardino')\\\n",
    "                   | (counties['name'] == 'Riverside')]"
   ]
  },
  {
   "cell_type": "code",
   "execution_count": 17,
   "metadata": {},
   "outputs": [],
   "source": [
    "## corresponds to census 'consolidated statistical area' \n",
    "la_county = counties[(counties['name'] == 'Los Angeles')]"
   ]
  },
  {
   "cell_type": "code",
   "execution_count": 18,
   "metadata": {},
   "outputs": [],
   "source": [
    "la_area_fires = gpd.sjoin(wildfires, la_csa, op='within')\n",
    "la_county_fires = gpd.sjoin(wildfires, la_county, op='intersects')"
   ]
  },
  {
   "cell_type": "code",
   "execution_count": 19,
   "metadata": {},
   "outputs": [
    {
     "data": {
      "text/plain": [
       "999"
      ]
     },
     "execution_count": 19,
     "metadata": {},
     "output_type": "execute_result"
    }
   ],
   "source": [
    "len(la_county_fires)"
   ]
  },
  {
   "cell_type": "code",
   "execution_count": 20,
   "metadata": {},
   "outputs": [
    {
     "data": {
      "text/plain": [
       "2147"
      ]
     },
     "execution_count": 20,
     "metadata": {},
     "output_type": "execute_result"
    }
   ],
   "source": [
    "len(la_area_fires)"
   ]
  },
  {
   "cell_type": "code",
   "execution_count": 21,
   "metadata": {},
   "outputs": [
    {
     "data": {
      "text/plain": [
       "9643"
      ]
     },
     "execution_count": 21,
     "metadata": {},
     "output_type": "execute_result"
    }
   ],
   "source": [
    "len(wildfires)"
   ]
  },
  {
   "cell_type": "code",
   "execution_count": 22,
   "metadata": {},
   "outputs": [],
   "source": [
    "la_area_fires_lg = la_area_fires[la_area_fires['gis_acres'] > 1000 ]\n",
    "la_county_fires_lg = la_county_fires[la_county_fires['gis_acres'] > 1000 ]"
   ]
  },
  {
   "cell_type": "code",
   "execution_count": 23,
   "metadata": {},
   "outputs": [
    {
     "data": {
      "text/plain": [
       "<AxesSubplot:>"
      ]
     },
     "execution_count": 23,
     "metadata": {},
     "output_type": "execute_result"
    },
    {
     "data": {
      "image/png": "[encoded data removed]",
      "text/plain": [
       "<Figure size 432x288 with 1 Axes>"
      ]
     },
     "metadata": {
      "needs_background": "light"
     },
     "output_type": "display_data"
    }
   ],
   "source": [
    "la_area_fires_lg.plot()"
   ]
  },
  {
   "cell_type": "code",
   "execution_count": 24,
   "metadata": {},
   "outputs": [],
   "source": [
    "la_area_fires_lg.to_file('/Users/mhustiles/data/data/GIS/\\\n",
    "wildfires/FRAP/output/la_county_fires_lg.geojson', driver='GeoJSON')"
   ]
  },
  {
   "cell_type": "code",
   "execution_count": null,
   "metadata": {},
   "outputs": [],
   "source": []
  }
 ],
 "metadata": {
  "kernelspec": {
   "display_name": "Python 3",
   "language": "python",
   "name": "python3"
  },
  "language_info": {
   "codemirror_mode": {
    "name": "ipython",
    "version": 3
   },
   "file_extension": ".py",
   "mimetype": "text/x-python",
   "name": "python",
   "nbconvert_exporter": "python",
   "pygments_lexer": "ipython3",
   "version": "3.7.4"
  }
 },
 "nbformat": 4,
 "nbformat_minor": 4
}
