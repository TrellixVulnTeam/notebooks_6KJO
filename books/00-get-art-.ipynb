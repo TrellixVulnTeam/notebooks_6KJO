{
 "cells": [
  {
   "cell_type": "markdown",
   "id": "b8e1a114-a9be-4222-a40c-4b78122dd6c0",
   "metadata": {},
   "source": [
    "# Get Art Garfunkel's books"
   ]
  },
  {
   "cell_type": "code",
   "execution_count": 1,
   "id": "6db7e229-bc90-4dfd-89e9-4b50aae05685",
   "metadata": {},
   "outputs": [],
   "source": [
    "%load_ext lab_black"
   ]
  },
  {
   "cell_type": "code",
   "execution_count": 2,
   "id": "8c804815-ae40-4637-b872-1349ba562771",
   "metadata": {},
   "outputs": [],
   "source": [
    "import pandas as pd\n",
    "import numpy as np"
   ]
  },
  {
   "cell_type": "code",
   "execution_count": 3,
   "id": "1cc9533e-ec12-43f7-b9a7-b7ae608ce9c0",
   "metadata": {},
   "outputs": [],
   "source": [
    "pd.options.display.max_columns = 1000\n",
    "pd.options.display.max_rows = 1500"
   ]
  },
  {
   "cell_type": "code",
   "execution_count": 4,
   "id": "edd8ea6c-9ad0-4c0f-9c89-f023a1eee453",
   "metadata": {},
   "outputs": [],
   "source": [
    "key = \"47936_335a396409a8f4b3e61fbec5c5d2bc36\""
   ]
  },
  {
   "cell_type": "code",
   "execution_count": 5,
   "id": "c653d5d8-2060-450d-8c04-bc518289a52c",
   "metadata": {},
   "outputs": [],
   "source": [
    "dfs = []\n",
    "for i in [x for x in range(1, 13) if x != 5]:\n",
    "    dfs.append(\n",
    "        pd.read_html(\n",
    "            f\"https://www.artgarfunkel.com/library/list{i}.html\", skiprows=(1)\n",
    "        )[0]\n",
    "    )\n",
    "    df = pd.concat(dfs)"
   ]
  },
  {
   "cell_type": "code",
   "execution_count": 6,
   "id": "cb8cf212-1fbd-479f-b673-0b6441723bc4",
   "metadata": {},
   "outputs": [],
   "source": [
    "df.columns = [\"id\", \"date\", \"author\", \"title\", \"published\", \"pages\"]"
   ]
  },
  {
   "cell_type": "code",
   "execution_count": 7,
   "id": "263da53d-dd9d-4a8e-852c-88d5c2a11e0f",
   "metadata": {},
   "outputs": [],
   "source": [
    "df[\"is_fave\"] = df[\"title\"].str.contains(\"*\", regex=False)"
   ]
  },
  {
   "cell_type": "code",
   "execution_count": 8,
   "id": "9154beb0-a103-439e-a7ac-05dbce0650f1",
   "metadata": {},
   "outputs": [],
   "source": [
    "df[\"title\"] = df[\"title\"].str.replace(\" *\", \"\", regex=False)"
   ]
  },
  {
   "cell_type": "code",
   "execution_count": 9,
   "id": "6cfeb257-6a4b-45a7-9d53-401747ae3ac3",
   "metadata": {},
   "outputs": [],
   "source": [
    "df[\"pages\"] = df[\"pages\"].str.replace(\" pp.\", \"\", regex=False).fillna(np.nan)"
   ]
  },
  {
   "cell_type": "code",
   "execution_count": 10,
   "id": "451b52a4-3046-4561-b3bf-06e6ec6ea76e",
   "metadata": {},
   "outputs": [],
   "source": [
    "df[\"date\"] = df[\"date\"].str.replace(\".\", \" \", regex=False)"
   ]
  },
  {
   "cell_type": "code",
   "execution_count": 11,
   "id": "b45294a5-f093-42da-9cb3-efd6396b801b",
   "metadata": {},
   "outputs": [],
   "source": [
    "df[\"id\"] = df[\"id\"].astype(str).str.replace(\".0\", \"\", regex=False)"
   ]
  },
  {
   "cell_type": "code",
   "execution_count": 12,
   "id": "d999cb7a-e238-404a-8fc4-4bce4fd72456",
   "metadata": {},
   "outputs": [
    {
     "data": {
      "text/html": [
       "<div>\n",
       "<style scoped>\n",
       "    .dataframe tbody tr th:only-of-type {\n",
       "        vertical-align: middle;\n",
       "    }\n",
       "\n",
       "    .dataframe tbody tr th {\n",
       "        vertical-align: top;\n",
       "    }\n",
       "\n",
       "    .dataframe thead th {\n",
       "        text-align: right;\n",
       "    }\n",
       "</style>\n",
       "<table border=\"1\" class=\"dataframe\">\n",
       "  <thead>\n",
       "    <tr style=\"text-align: right;\">\n",
       "      <th></th>\n",
       "      <th>id</th>\n",
       "      <th>date</th>\n",
       "      <th>author</th>\n",
       "      <th>title</th>\n",
       "      <th>published</th>\n",
       "      <th>pages</th>\n",
       "      <th>is_fave</th>\n",
       "    </tr>\n",
       "  </thead>\n",
       "  <tbody>\n",
       "    <tr>\n",
       "      <th>0</th>\n",
       "      <td>1</td>\n",
       "      <td>Jun 1968</td>\n",
       "      <td>Jean-Jacques Rousseau</td>\n",
       "      <td>The Confessions</td>\n",
       "      <td>1781</td>\n",
       "      <td>606</td>\n",
       "      <td>True</td>\n",
       "    </tr>\n",
       "    <tr>\n",
       "      <th>1</th>\n",
       "      <td>2</td>\n",
       "      <td>Jun 1968</td>\n",
       "      <td>Erich Fromm</td>\n",
       "      <td>The Art of Loving</td>\n",
       "      <td>1956</td>\n",
       "      <td>146</td>\n",
       "      <td>True</td>\n",
       "    </tr>\n",
       "    <tr>\n",
       "      <th>2</th>\n",
       "      <td>3</td>\n",
       "      <td>Jun 1968</td>\n",
       "      <td>Mark Twain</td>\n",
       "      <td>The Adventures of Huckleberry Finn</td>\n",
       "      <td>NaN</td>\n",
       "      <td>288</td>\n",
       "      <td>False</td>\n",
       "    </tr>\n",
       "    <tr>\n",
       "      <th>3</th>\n",
       "      <td>4</td>\n",
       "      <td>Jul 1968</td>\n",
       "      <td>James Thurber</td>\n",
       "      <td>My Life and Hard Times</td>\n",
       "      <td>1933</td>\n",
       "      <td>115</td>\n",
       "      <td>False</td>\n",
       "    </tr>\n",
       "    <tr>\n",
       "      <th>4</th>\n",
       "      <td>5</td>\n",
       "      <td>Jul 1968</td>\n",
       "      <td>William Shakespeare</td>\n",
       "      <td>Romeo and Juliet</td>\n",
       "      <td>1596</td>\n",
       "      <td>146</td>\n",
       "      <td>False</td>\n",
       "    </tr>\n",
       "  </tbody>\n",
       "</table>\n",
       "</div>"
      ],
      "text/plain": [
       "  id      date                 author                               title  \\\n",
       "0  1  Jun 1968  Jean-Jacques Rousseau                     The Confessions   \n",
       "1  2  Jun 1968            Erich Fromm                   The Art of Loving   \n",
       "2  3  Jun 1968             Mark Twain  The Adventures of Huckleberry Finn   \n",
       "3  4  Jul 1968          James Thurber              My Life and Hard Times   \n",
       "4  5  Jul 1968    William Shakespeare                    Romeo and Juliet   \n",
       "\n",
       "  published pages is_fave  \n",
       "0      1781   606    True  \n",
       "1      1956   146    True  \n",
       "2       NaN   288   False  \n",
       "3      1933   115   False  \n",
       "4      1596   146   False  "
      ]
     },
     "execution_count": 12,
     "metadata": {},
     "output_type": "execute_result"
    }
   ],
   "source": [
    "df.head()"
   ]
  },
  {
   "cell_type": "code",
   "execution_count": 13,
   "id": "0e18811f-0f11-4028-8783-7c911c362284",
   "metadata": {},
   "outputs": [],
   "source": [
    "authors = list(df.author.unique())"
   ]
  },
  {
   "cell_type": "code",
   "execution_count": 14,
   "id": "ca302e9d-721b-4b44-9968-05335029aca9",
   "metadata": {},
   "outputs": [],
   "source": [
    "import requests as req\n",
    "import time\n",
    "\n",
    "h = {\"Authorization\": key}"
   ]
  },
  {
   "cell_type": "code",
   "execution_count": 17,
   "id": "f489eb33-a736-483f-a14a-1c31dd5cde6d",
   "metadata": {},
   "outputs": [],
   "source": [
    "author_list = []\n",
    "\n",
    "for a in authors:\n",
    "    resp = req.get(f\"https://api2.isbndb.com/author/{a}\", headers=h)\n",
    "    author_list.append(resp.json())"
   ]
  },
  {
   "cell_type": "code",
   "execution_count": 80,
   "id": "514b69a9-c353-4580-a33a-0f71c9addf54",
   "metadata": {},
   "outputs": [],
   "source": [
    "from collections import defaultdict"
   ]
  },
  {
   "cell_type": "code",
   "execution_count": 97,
   "id": "4fd2d3d0-5896-446a-a8c3-c04fdd6407ec",
   "metadata": {},
   "outputs": [
    {
     "data": {
      "text/plain": [
       "{'message': 'Forbidden'}"
      ]
     },
     "execution_count": 97,
     "metadata": {},
     "output_type": "execute_result"
    }
   ],
   "source": [
    "resp.json()"
   ]
  },
  {
   "cell_type": "code",
   "execution_count": null,
   "id": "647cf0fd-469a-4fb3-a7a2-a0ee3d291208",
   "metadata": {},
   "outputs": [],
   "source": []
  },
  {
   "cell_type": "code",
   "execution_count": null,
   "id": "7a734d67-66e4-419c-ac62-249a7e89be06",
   "metadata": {},
   "outputs": [],
   "source": []
  }
 ],
 "metadata": {
  "kernelspec": {
   "display_name": "Python 3 (ipykernel)",
   "language": "python",
   "name": "python3"
  },
  "language_info": {
   "codemirror_mode": {
    "name": "ipython",
    "version": 3
   },
   "file_extension": ".py",
   "mimetype": "text/x-python",
   "name": "python",
   "nbconvert_exporter": "python",
   "pygments_lexer": "ipython3",
   "version": "3.8.9"
  }
 },
 "nbformat": 4,
 "nbformat_minor": 5
}
