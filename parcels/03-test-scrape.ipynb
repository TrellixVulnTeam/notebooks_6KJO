{
 "cells": [
  {
   "cell_type": "code",
   "execution_count": 5,
   "id": "420895d3-697e-4004-ad99-a59d5e5d1075",
   "metadata": {},
   "outputs": [],
   "source": [
    "import pandas as pd\n",
    "import requests\n",
    "from bs4 import BeautifulSoup"
   ]
  },
  {
   "cell_type": "code",
   "execution_count": 3,
   "id": "571c74f2-93dc-4bfa-aa3d-16123d092176",
   "metadata": {},
   "outputs": [],
   "source": []
  },
  {
   "cell_type": "code",
   "execution_count": null,
   "id": "73926280-855d-47c9-af25-9f2fb383eaee",
   "metadata": {},
   "outputs": [],
   "source": []
  },
  {
   "cell_type": "code",
   "execution_count": null,
   "id": "d79bc267-955e-42e2-8a54-cf5677984464",
   "metadata": {},
   "outputs": [],
   "source": []
  },
  {
   "cell_type": "code",
   "execution_count": null,
   "id": "b5835e8a-0146-4d11-a30b-c3ef544c53ba",
   "metadata": {},
   "outputs": [],
   "source": []
  },
  {
   "cell_type": "code",
   "execution_count": 69,
   "id": "b1c4bde4-d8e5-45ec-bb39-e297107aae50",
   "metadata": {},
   "outputs": [],
   "source": [
    "url = 'https://www.propertyshark.com/mason//Property-Report/?propkey=17156802'"
   ]
  },
  {
   "cell_type": "code",
   "execution_count": 70,
   "id": "e02d39e0-eed2-4392-ab0a-601a093a6f2a",
   "metadata": {},
   "outputs": [],
   "source": [
    "headers = {\n",
    "    \"Access-Control-Allow-Origin\": \"*\",\n",
    "    \"Access-Control-Allow-Methods\": \"GET\",\n",
    "    \"Access-Control-Allow-Headers\": \"Content-Type\",\n",
    "    \"Access-Control-Max-Age\": \"3600\",\n",
    "    \"User-Agent\": \"Mozilla/5.0 (X11; Ubuntu; Linux x86_64; rv:52.0) Gecko/20100101 Firefox/52.0\",\n",
    "}"
   ]
  },
  {
   "cell_type": "code",
   "execution_count": 71,
   "id": "833f9769-d040-44fd-b310-31d08f6ceebe",
   "metadata": {},
   "outputs": [],
   "source": [
    "req = requests.get(url, headers)\n",
    "soup = BeautifulSoup(req.content, \"html.parser\")"
   ]
  },
  {
   "cell_type": "code",
   "execution_count": null,
   "id": "c5d418a1-3d87-4bc9-bbef-6f4e5c79af11",
   "metadata": {},
   "outputs": [],
   "source": []
  },
  {
   "cell_type": "code",
   "execution_count": 72,
   "id": "b0a4873f-defb-40d5-a36b-53c9b22e9b46",
   "metadata": {},
   "outputs": [],
   "source": [
    "tables = soup.find_all(\"table\", {\"class\": \"data\"})"
   ]
  },
  {
   "cell_type": "code",
   "execution_count": 81,
   "id": "1c66a911-862c-4152-8fa1-3d3da4d447ec",
   "metadata": {},
   "outputs": [],
   "source": [
    "data = []\n",
    "\n",
    "for t in tables:\n",
    "    data.append(t)"
   ]
  },
  {
   "cell_type": "code",
   "execution_count": 87,
   "id": "2644e4da-332c-4b34-aac2-313d4c3e34c4",
   "metadata": {},
   "outputs": [
    {
     "data": {
      "text/plain": [
       "[                                                   0  \\\n",
       " 0      Alternate address(es)  8634 Holloway Plaza Dr   \n",
       " 1                              Alternate address(es)   \n",
       " 2                                County  Los Angeles   \n",
       " 3                                             County   \n",
       " 4                              Parcel ID  4339008009   \n",
       " 5                                          Parcel ID   \n",
       " 6  Legal description  RANCHO LA BREA LOT ON S LIN...   \n",
       " 7                                  Legal description   \n",
       " 8                       Municipality  West Hollywood   \n",
       " 9                                       Municipality   \n",
       " \n",
       "                                                    1  \n",
       " 0                                                NaN  \n",
       " 1                             8634 Holloway Plaza Dr  \n",
       " 2                                                NaN  \n",
       " 3                                        Los Angeles  \n",
       " 4                                                NaN  \n",
       " 5                                         4339008009  \n",
       " 6                                                NaN  \n",
       " 7  RANCHO LA BREA LOT ON S LINE OF HOLLOWAY DR PE...  \n",
       " 8                                                NaN  \n",
       " 9                                     West Hollywood  ]"
      ]
     },
     "execution_count": 87,
     "metadata": {},
     "output_type": "execute_result"
    }
   ],
   "source": [
    "pd.read_html(data[0].prettify(),skiprows=2, flavor='bs4')"
   ]
  },
  {
   "cell_type": "code",
   "execution_count": null,
   "id": "9e4111a8-7b74-409e-9902-3a9deb8b77c2",
   "metadata": {},
   "outputs": [],
   "source": []
  }
 ],
 "metadata": {
  "kernelspec": {
   "display_name": "Python 3 (ipykernel)",
   "language": "python",
   "name": "python3"
  },
  "language_info": {
   "codemirror_mode": {
    "name": "ipython",
    "version": 3
   },
   "file_extension": ".py",
   "mimetype": "text/x-python",
   "name": "python",
   "nbconvert_exporter": "python",
   "pygments_lexer": "ipython3",
   "version": "3.8.11"
  }
 },
 "nbformat": 4,
 "nbformat_minor": 5
}
