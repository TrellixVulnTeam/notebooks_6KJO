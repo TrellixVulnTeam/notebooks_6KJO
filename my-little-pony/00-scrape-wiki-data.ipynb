{
 "cells": [
  {
   "cell_type": "markdown",
   "id": "de411135-1761-46a4-b2b8-c168b4535634",
   "metadata": {
    "tags": []
   },
   "source": [
    "# Scrape My Little Pony characters"
   ]
  },
  {
   "cell_type": "markdown",
   "id": "2f633ea9-36fa-462d-8b1d-055bf3fc0854",
   "metadata": {},
   "source": [
    "#### Python tools"
   ]
  },
  {
   "cell_type": "code",
   "execution_count": 1,
   "id": "23d9d8b2-ea03-4d83-bf60-2945c09199d7",
   "metadata": {},
   "outputs": [],
   "source": [
    "%load_ext lab_black"
   ]
  },
  {
   "cell_type": "code",
   "execution_count": 2,
   "id": "ff2a0dc3-daab-4945-99c5-567b30747819",
   "metadata": {},
   "outputs": [],
   "source": [
    "import pandas as pd\n",
    "import re\n",
    "import colorsys\n",
    "import requests\n",
    "from bs4 import BeautifulSoup\n",
    "import time\n",
    "import collections as co\n",
    "import colormath\n",
    "from colormath.color_objects import LabColor, HSLColor\n",
    "from colormath.color_conversions import convert_color"
   ]
  },
  {
   "cell_type": "code",
   "execution_count": 3,
   "id": "6e528132-c27e-45c2-8909-46be4fea4a50",
   "metadata": {},
   "outputs": [],
   "source": [
    "pd.options.display.max_columns = 100\n",
    "pd.options.display.max_rows = 3000\n",
    "pd.options.display.max_colwidth = None"
   ]
  },
  {
   "cell_type": "markdown",
   "id": "c2af90f5-4baa-466c-81ac-cf3f0b20e6d2",
   "metadata": {},
   "source": [
    "---"
   ]
  },
  {
   "cell_type": "markdown",
   "id": "fd0eb984-75a3-43cd-9e8f-2eb0e64552bf",
   "metadata": {},
   "source": [
    "## Get data"
   ]
  },
  {
   "cell_type": "markdown",
   "id": "a7013df0-f41d-4110-87ed-c015d8d81b8f",
   "metadata": {},
   "source": [
    "#### Define the URL we'll scrape"
   ]
  },
  {
   "cell_type": "code",
   "execution_count": 4,
   "id": "9cd3defe-bd20-4051-9e79-2eede4591b2a",
   "metadata": {},
   "outputs": [],
   "source": [
    "url = \"https://mlp.fandom.com/wiki/List_of_ponies/full\""
   ]
  },
  {
   "cell_type": "markdown",
   "id": "88ac70f1-d61a-4368-9cda-3a811faf90b9",
   "metadata": {},
   "source": [
    "---"
   ]
  },
  {
   "cell_type": "code",
   "execution_count": 5,
   "id": "dbc5a0bf-0a47-4113-927e-9fc7f5c58379",
   "metadata": {},
   "outputs": [],
   "source": [
    "with open(\n",
    "    \"data/raw/List of ponies_full _ My Little Pony Friendship is Magic Wiki _ Fandom.html\",\n",
    "    \"r\",\n",
    ") as fin:\n",
    "    soup = BeautifulSoup(fin.read(), \"lxml\")"
   ]
  },
  {
   "cell_type": "code",
   "execution_count": 6,
   "id": "4a944fd9-6920-4b22-8372-fc8057a39357",
   "metadata": {},
   "outputs": [],
   "source": [
    "table = soup.find(\"table\", attrs={\"class\": \"wikitable\"})\n",
    "# table_body = table.find(\"tbody\")"
   ]
  },
  {
   "cell_type": "code",
   "execution_count": 7,
   "id": "10c9709c-4678-4944-bf30-27422afb6904",
   "metadata": {},
   "outputs": [],
   "source": [
    "rows = []\n",
    "\n",
    "for tr in table.find_all(\"tr\"):\n",
    "    rows.append([td.text for td in tr.find_all([\"th\", \"td\"])])"
   ]
  },
  {
   "cell_type": "code",
   "execution_count": 8,
   "id": "d30e8862-50b8-49da-958f-9af887048d9f",
   "metadata": {},
   "outputs": [],
   "source": [
    "src = pd.DataFrame(rows)"
   ]
  },
  {
   "cell_type": "code",
   "execution_count": 9,
   "id": "35e3233a-7b69-49c8-93e8-5cd1c4e2b8cd",
   "metadata": {},
   "outputs": [],
   "source": [
    "src.columns = [\n",
    "    \"name\",\n",
    "    \"kind\",\n",
    "    \"group\",\n",
    "    \"coat_color\",\n",
    "    \"mane_color\",\n",
    "    \"eye_color\",\n",
    "    \"first_appearance\",\n",
    "    \"bio\",\n",
    "    \"drop\",\n",
    "]"
   ]
  },
  {
   "cell_type": "code",
   "execution_count": 10,
   "id": "3c28a084-5c6b-4235-9982-1c628d11ebe8",
   "metadata": {},
   "outputs": [],
   "source": [
    "df = src.drop(0).drop([\"drop\", \"bio\"], axis=1).copy()\n",
    "df = df.drop_duplicates(subset=\"name\")"
   ]
  },
  {
   "cell_type": "code",
   "execution_count": 11,
   "id": "25eb43f6-3413-4120-8c92-f3cc13798ed5",
   "metadata": {},
   "outputs": [],
   "source": [
    "df[\"kind\"] = df[\"kind\"].str.lower()\n",
    "df[\"group\"] = df[\"group\"].str.lower()"
   ]
  },
  {
   "cell_type": "markdown",
   "id": "1a4615bc-b59d-429c-8f4b-acd9da6b64ff",
   "metadata": {
    "tags": []
   },
   "source": [
    "#### Parse appearance order"
   ]
  },
  {
   "cell_type": "code",
   "execution_count": 12,
   "id": "5ebe9e5a-c13a-483f-b9f8-a12d6e3ce608",
   "metadata": {},
   "outputs": [],
   "source": [
    "df[\"first_season\"] = df[\"first_appearance\"].str[:1] == \"1\""
   ]
  },
  {
   "cell_type": "markdown",
   "id": "33045456-7617-41b8-b661-58793de386a4",
   "metadata": {},
   "source": [
    "#### Clean up colors"
   ]
  },
  {
   "cell_type": "code",
   "execution_count": 13,
   "id": "81942ca5-4a7e-4e52-ad38-a7e93a662287",
   "metadata": {},
   "outputs": [],
   "source": [
    "df[\"coat_color\"] = df[\"coat_color\"].str.replace(\"¤\", \"\")\n",
    "df[\"mane_color\"] = df[\"mane_color\"].str.replace(\"¤\", \"\")\n",
    "df[\"eye_color\"] = df[\"eye_color\"].str.replace(\"¤\", \"\")"
   ]
  },
  {
   "cell_type": "code",
   "execution_count": 14,
   "id": "a82c7304-9dfe-4ced-8f9b-dc013acf1dd7",
   "metadata": {},
   "outputs": [],
   "source": [
    "df = df[(df[\"kind\"] != \"\") | (df[\"group\"] != \"\")]"
   ]
  },
  {
   "cell_type": "markdown",
   "id": "61c9dcce-ec0e-46d4-aa35-fc0f9d7447a1",
   "metadata": {},
   "source": [
    "#### How many ponies?"
   ]
  },
  {
   "cell_type": "code",
   "execution_count": 15,
   "id": "86c3114b-103f-4d62-b40f-8c5fc0faac94",
   "metadata": {},
   "outputs": [
    {
     "data": {
      "text/plain": [
       "2146"
      ]
     },
     "execution_count": 15,
     "metadata": {},
     "output_type": "execute_result"
    }
   ],
   "source": [
    "len(df)"
   ]
  },
  {
   "cell_type": "code",
   "execution_count": 16,
   "id": "6ca389ff-75cf-41d0-845f-b33f864fc784",
   "metadata": {},
   "outputs": [
    {
     "data": {
      "text/html": [
       "<div>\n",
       "<style scoped>\n",
       "    .dataframe tbody tr th:only-of-type {\n",
       "        vertical-align: middle;\n",
       "    }\n",
       "\n",
       "    .dataframe tbody tr th {\n",
       "        vertical-align: top;\n",
       "    }\n",
       "\n",
       "    .dataframe thead th {\n",
       "        text-align: right;\n",
       "    }\n",
       "</style>\n",
       "<table border=\"1\" class=\"dataframe\">\n",
       "  <thead>\n",
       "    <tr style=\"text-align: right;\">\n",
       "      <th></th>\n",
       "      <th>name</th>\n",
       "      <th>kind</th>\n",
       "      <th>group</th>\n",
       "      <th>coat_color</th>\n",
       "      <th>mane_color</th>\n",
       "      <th>eye_color</th>\n",
       "      <th>first_appearance</th>\n",
       "      <th>first_season</th>\n",
       "    </tr>\n",
       "  </thead>\n",
       "  <tbody>\n",
       "    <tr>\n",
       "      <th>1</th>\n",
       "      <td>Applejack</td>\n",
       "      <td>earth</td>\n",
       "      <td>mare</td>\n",
       "      <td>hsl(036, 100%, 71%)</td>\n",
       "      <td>hsl(058, 90%, 84%)</td>\n",
       "      <td>hsl(113, 50%, 57%)</td>\n",
       "      <td>1010730</td>\n",
       "      <td>True</td>\n",
       "    </tr>\n",
       "    <tr>\n",
       "      <th>2</th>\n",
       "      <td>Pinkie Pie</td>\n",
       "      <td>earth</td>\n",
       "      <td>mare</td>\n",
       "      <td>hsl(335, 88%, 84%)</td>\n",
       "      <td>hsl(336, 92%, 62%)</td>\n",
       "      <td>hsl(198, 94%, 72%)</td>\n",
       "      <td>1010659</td>\n",
       "      <td>True</td>\n",
       "    </tr>\n",
       "    <tr>\n",
       "      <th>5</th>\n",
       "      <td>Fluttershy</td>\n",
       "      <td>pegasus</td>\n",
       "      <td>mare</td>\n",
       "      <td>hsl(055, 94%, 82%)</td>\n",
       "      <td>hsl(331, 92%, 85%)</td>\n",
       "      <td>hsl(177, 76%, 43%)</td>\n",
       "      <td>1011351</td>\n",
       "      <td>True</td>\n",
       "    </tr>\n",
       "    <tr>\n",
       "      <th>7</th>\n",
       "      <td>Rainbow Dash</td>\n",
       "      <td>pegasus</td>\n",
       "      <td>mare</td>\n",
       "      <td>hsl(195, 100%, 81%)</td>\n",
       "      <td>hsl(359, 99%, 67%)</td>\n",
       "      <td>hsl(326, 74%, 43%)</td>\n",
       "      <td>1010939</td>\n",
       "      <td>True</td>\n",
       "    </tr>\n",
       "    <tr>\n",
       "      <th>10</th>\n",
       "      <td>Rarity</td>\n",
       "      <td>unicorn</td>\n",
       "      <td>mare</td>\n",
       "      <td>hsl(240, 8%, 95%)</td>\n",
       "      <td>hsl(258, 35%, 48%)</td>\n",
       "      <td>hsl(210, 45%, 54%)</td>\n",
       "      <td>1011202</td>\n",
       "      <td>True</td>\n",
       "    </tr>\n",
       "    <tr>\n",
       "      <th>11</th>\n",
       "      <td>Twilight Sparkle</td>\n",
       "      <td>alicorn</td>\n",
       "      <td>mare</td>\n",
       "      <td>hsl(283, 65%, 81%)</td>\n",
       "      <td>hsl(226, 38%, 38%)</td>\n",
       "      <td>hsl(272, 36%, 42%)</td>\n",
       "      <td>1010131</td>\n",
       "      <td>True</td>\n",
       "    </tr>\n",
       "    <tr>\n",
       "      <th>12</th>\n",
       "      <td>Apple Bloom</td>\n",
       "      <td>earth</td>\n",
       "      <td>filly</td>\n",
       "      <td>hsl(063, 94%, 81%)</td>\n",
       "      <td>hsl(343, 95%, 61%)</td>\n",
       "      <td>hsl(040, 88%, 66%)</td>\n",
       "      <td>1010839</td>\n",
       "      <td>True</td>\n",
       "    </tr>\n",
       "    <tr>\n",
       "      <th>13</th>\n",
       "      <td>Scootaloo</td>\n",
       "      <td>pegasus</td>\n",
       "      <td>filly</td>\n",
       "      <td>hsl(035, 100%, 70%)</td>\n",
       "      <td>hsl(326, 57%, 63%)</td>\n",
       "      <td>hsl(276, 34%, 53%)</td>\n",
       "      <td>1012023</td>\n",
       "      <td>True</td>\n",
       "    </tr>\n",
       "    <tr>\n",
       "      <th>14</th>\n",
       "      <td>Sweetie Belle</td>\n",
       "      <td>unicorn</td>\n",
       "      <td>filly</td>\n",
       "      <td>hsl(320, 9%, 94%)</td>\n",
       "      <td>hsl(282, 29%, 66%)</td>\n",
       "      <td>hsl(104, 40%, 69%)</td>\n",
       "      <td>1012023</td>\n",
       "      <td>True</td>\n",
       "    </tr>\n",
       "    <tr>\n",
       "      <th>15</th>\n",
       "      <td>Aloe</td>\n",
       "      <td>earth</td>\n",
       "      <td>mare</td>\n",
       "      <td>hsl(329, 95%, 85%)</td>\n",
       "      <td>hsl(197, 97%, 74%)</td>\n",
       "      <td>hsl(211, 55%, 43%)</td>\n",
       "      <td>1200033</td>\n",
       "      <td>True</td>\n",
       "    </tr>\n",
       "  </tbody>\n",
       "</table>\n",
       "</div>"
      ],
      "text/plain": [
       "                name     kind  group           coat_color          mane_color  \\\n",
       "1          Applejack    earth   mare  hsl(036, 100%, 71%)  hsl(058, 90%, 84%)   \n",
       "2         Pinkie Pie    earth   mare   hsl(335, 88%, 84%)  hsl(336, 92%, 62%)   \n",
       "5         Fluttershy  pegasus   mare   hsl(055, 94%, 82%)  hsl(331, 92%, 85%)   \n",
       "7       Rainbow Dash  pegasus   mare  hsl(195, 100%, 81%)  hsl(359, 99%, 67%)   \n",
       "10            Rarity  unicorn   mare    hsl(240, 8%, 95%)  hsl(258, 35%, 48%)   \n",
       "11  Twilight Sparkle  alicorn   mare   hsl(283, 65%, 81%)  hsl(226, 38%, 38%)   \n",
       "12       Apple Bloom    earth  filly   hsl(063, 94%, 81%)  hsl(343, 95%, 61%)   \n",
       "13         Scootaloo  pegasus  filly  hsl(035, 100%, 70%)  hsl(326, 57%, 63%)   \n",
       "14     Sweetie Belle  unicorn  filly    hsl(320, 9%, 94%)  hsl(282, 29%, 66%)   \n",
       "15              Aloe    earth   mare   hsl(329, 95%, 85%)  hsl(197, 97%, 74%)   \n",
       "\n",
       "             eye_color first_appearance  first_season  \n",
       "1   hsl(113, 50%, 57%)          1010730          True  \n",
       "2   hsl(198, 94%, 72%)          1010659          True  \n",
       "5   hsl(177, 76%, 43%)          1011351          True  \n",
       "7   hsl(326, 74%, 43%)          1010939          True  \n",
       "10  hsl(210, 45%, 54%)          1011202          True  \n",
       "11  hsl(272, 36%, 42%)          1010131          True  \n",
       "12  hsl(040, 88%, 66%)          1010839          True  \n",
       "13  hsl(276, 34%, 53%)          1012023          True  \n",
       "14  hsl(104, 40%, 69%)          1012023          True  \n",
       "15  hsl(211, 55%, 43%)          1200033          True  "
      ]
     },
     "execution_count": 16,
     "metadata": {},
     "output_type": "execute_result"
    }
   ],
   "source": [
    "df[df[\"first_season\"] == True].head(10)"
   ]
  },
  {
   "cell_type": "code",
   "execution_count": 17,
   "id": "96d2beb7-99d1-446f-a759-1c1bd33ea755",
   "metadata": {},
   "outputs": [],
   "source": [
    "kinds = (\n",
    "    df.groupby(\"kind\")\n",
    "    .agg({\"name\": \"count\"})\n",
    "    .reset_index()\n",
    "    .sort_values(\"name\", ascending=False)\n",
    "    .rename(columns={\"name\": \"count\"})\n",
    ")"
   ]
  },
  {
   "cell_type": "code",
   "execution_count": 18,
   "id": "44f54970-8ca7-4218-94e5-c51ee38d6656",
   "metadata": {},
   "outputs": [
    {
     "data": {
      "text/html": [
       "<div>\n",
       "<style scoped>\n",
       "    .dataframe tbody tr th:only-of-type {\n",
       "        vertical-align: middle;\n",
       "    }\n",
       "\n",
       "    .dataframe tbody tr th {\n",
       "        vertical-align: top;\n",
       "    }\n",
       "\n",
       "    .dataframe thead th {\n",
       "        text-align: right;\n",
       "    }\n",
       "</style>\n",
       "<table border=\"1\" class=\"dataframe\">\n",
       "  <thead>\n",
       "    <tr style=\"text-align: right;\">\n",
       "      <th></th>\n",
       "      <th>kind</th>\n",
       "      <th>count</th>\n",
       "    </tr>\n",
       "  </thead>\n",
       "  <tbody>\n",
       "    <tr>\n",
       "      <th>2</th>\n",
       "      <td>earth</td>\n",
       "      <td>1275</td>\n",
       "    </tr>\n",
       "    <tr>\n",
       "      <th>5</th>\n",
       "      <td>unicorn</td>\n",
       "      <td>454</td>\n",
       "    </tr>\n",
       "    <tr>\n",
       "      <th>4</th>\n",
       "      <td>pegasus</td>\n",
       "      <td>381</td>\n",
       "    </tr>\n",
       "    <tr>\n",
       "      <th>3</th>\n",
       "      <td>kirin</td>\n",
       "      <td>17</td>\n",
       "    </tr>\n",
       "    <tr>\n",
       "      <th>0</th>\n",
       "      <td></td>\n",
       "      <td>11</td>\n",
       "    </tr>\n",
       "    <tr>\n",
       "      <th>1</th>\n",
       "      <td>alicorn</td>\n",
       "      <td>8</td>\n",
       "    </tr>\n",
       "  </tbody>\n",
       "</table>\n",
       "</div>"
      ],
      "text/plain": [
       "      kind  count\n",
       "2    earth   1275\n",
       "5  unicorn    454\n",
       "4  pegasus    381\n",
       "3    kirin     17\n",
       "0              11\n",
       "1  alicorn      8"
      ]
     },
     "execution_count": 18,
     "metadata": {},
     "output_type": "execute_result"
    }
   ],
   "source": [
    "kinds"
   ]
  },
  {
   "cell_type": "markdown",
   "id": "18e7a690-be0d-469d-aaf9-3c8aa23ace9e",
   "metadata": {},
   "source": [
    "#### Colors"
   ]
  },
  {
   "cell_type": "code",
   "execution_count": 19,
   "id": "67b322e0-daf6-423f-ac3b-7db7cf26211c",
   "metadata": {},
   "outputs": [],
   "source": [
    "df = df.reset_index(drop=True)"
   ]
  },
  {
   "cell_type": "code",
   "execution_count": 52,
   "id": "eb91de0f-dbac-4a4d-bea5-7c815eb90fbf",
   "metadata": {},
   "outputs": [],
   "source": [
    "coat_json = str(df[\"coat_color\"].to_dict())\n",
    "\n",
    "coat_regex = r\"hsl\\(\\s*(\\d+),\\s*(\\d+)%,\\s*(\\d+)%\\s*\\)\"\n",
    "coat_lines = re.findall(coat_regex, coat_json)\n",
    "coat_rgbs = [\n",
    "    colorsys.hls_to_rgb(\n",
    "        int(coat_line[0]) / 360, int(coat_line[2]) / 100, int(coat_line[1]) / 100\n",
    "    )\n",
    "    for coat_line in coat_lines\n",
    "]\n",
    "coat_hexs = [\n",
    "    \"#%02x%02x%02x\"\n",
    "    % (round(coat_rgb[0] * 255), round(coat_rgb[1] * 255), round(coat_rgb[2] * 255))\n",
    "    for coat_rgb in coat_rgbs\n",
    "]\n",
    "\n",
    "df[\"coat_hex\"] = pd.Series(coat_hexs)"
   ]
  },
  {
   "cell_type": "code",
   "execution_count": 53,
   "id": "4df8c211-7821-45b2-bed1-d19e8ca67040",
   "metadata": {},
   "outputs": [],
   "source": [
    "mane_json = str(df[\"mane_color\"].to_dict())\n",
    "\n",
    "mane_regex = r\"hsl\\(\\s*(\\d+),\\s*(\\d+)%,\\s*(\\d+)%\\s*\\)\"\n",
    "mane_lines = re.findall(mane_regex, mane_json)\n",
    "mane_rgbs = [\n",
    "    colorsys.hls_to_rgb(\n",
    "        int(mane_line[0]) / 360, int(mane_line[2]) / 100, int(mane_line[1]) / 100\n",
    "    )\n",
    "    for mane_line in mane_lines\n",
    "]\n",
    "mane_hexs = [\n",
    "    \"#%02x%02x%02x\"\n",
    "    % (round(mane_rgb[0] * 255), round(mane_rgb[1] * 255), round(mane_rgb[2] * 255))\n",
    "    for mane_rgb in mane_rgbs\n",
    "]\n",
    "\n",
    "df[\"mane_hex\"] = pd.Series(mane_hexs)"
   ]
  },
  {
   "cell_type": "code",
   "execution_count": 54,
   "id": "8ca17947-574f-4139-8216-cdbc545d4b9f",
   "metadata": {},
   "outputs": [],
   "source": [
    "eye_json = str(df[\"eye_color\"].to_dict())\n",
    "\n",
    "eye_regex = r\"hsl\\(\\s*(\\d+),\\s*(\\d+)%,\\s*(\\d+)%\\s*\\)\"\n",
    "eye_lines = re.findall(eye_regex, eye_json)\n",
    "eye_rgbs = [\n",
    "    colorsys.hls_to_rgb(\n",
    "        int(eye_line[0]) / 360, int(eye_line[2]) / 100, int(eye_line[1]) / 100\n",
    "    )\n",
    "    for eye_line in eye_lines\n",
    "]\n",
    "eye_hexs = [\n",
    "    \"#%02x%02x%02x\"\n",
    "    % (round(eye_rgb[0] * 255), round(eye_rgb[1] * 255), round(eye_rgb[2] * 255))\n",
    "    for eye_rgb in eye_rgbs\n",
    "]\n",
    "\n",
    "df[\"eye_hex\"] = pd.Series(eye_hexs)"
   ]
  },
  {
   "cell_type": "code",
   "execution_count": 55,
   "id": "c0b376cb-dbb7-4943-95f7-93a6360227a5",
   "metadata": {},
   "outputs": [],
   "source": [
    "import webcolors"
   ]
  },
  {
   "cell_type": "code",
   "execution_count": 56,
   "id": "086a173f-f5f2-446f-bf28-38ae398f7116",
   "metadata": {},
   "outputs": [
    {
     "data": {
      "text/html": [
       "<div>\n",
       "<style scoped>\n",
       "    .dataframe tbody tr th:only-of-type {\n",
       "        vertical-align: middle;\n",
       "    }\n",
       "\n",
       "    .dataframe tbody tr th {\n",
       "        vertical-align: top;\n",
       "    }\n",
       "\n",
       "    .dataframe thead th {\n",
       "        text-align: right;\n",
       "    }\n",
       "</style>\n",
       "<table border=\"1\" class=\"dataframe\">\n",
       "  <thead>\n",
       "    <tr style=\"text-align: right;\">\n",
       "      <th></th>\n",
       "      <th>name</th>\n",
       "      <th>kind</th>\n",
       "      <th>group</th>\n",
       "      <th>coat_color</th>\n",
       "      <th>mane_color</th>\n",
       "      <th>eye_color</th>\n",
       "      <th>first_appearance</th>\n",
       "      <th>first_season</th>\n",
       "      <th>coat_hex</th>\n",
       "      <th>mane_hex</th>\n",
       "      <th>eye_hex</th>\n",
       "    </tr>\n",
       "  </thead>\n",
       "  <tbody>\n",
       "    <tr>\n",
       "      <th>0</th>\n",
       "      <td>Applejack</td>\n",
       "      <td>earth</td>\n",
       "      <td>mare</td>\n",
       "      <td>hsl(036, 100%, 71%)</td>\n",
       "      <td>hsl(058, 90%, 84%)</td>\n",
       "      <td>hsl(113, 50%, 57%)</td>\n",
       "      <td>1010730</td>\n",
       "      <td>True</td>\n",
       "      <td>#ffc46b</td>\n",
       "      <td>#fbf8b1</td>\n",
       "      <td>#67c85b</td>\n",
       "    </tr>\n",
       "    <tr>\n",
       "      <th>1</th>\n",
       "      <td>Pinkie Pie</td>\n",
       "      <td>earth</td>\n",
       "      <td>mare</td>\n",
       "      <td>hsl(335, 88%, 84%)</td>\n",
       "      <td>hsl(336, 92%, 62%)</td>\n",
       "      <td>hsl(198, 94%, 72%)</td>\n",
       "      <td>1010659</td>\n",
       "      <td>True</td>\n",
       "      <td>#fab2d0</td>\n",
       "      <td>#f7458c</td>\n",
       "      <td>#74d2fb</td>\n",
       "    </tr>\n",
       "    <tr>\n",
       "      <th>2</th>\n",
       "      <td>Sunny Starscout</td>\n",
       "      <td>earth</td>\n",
       "      <td>mare</td>\n",
       "      <td>hsl(25, 86%, 66%)</td>\n",
       "      <td>hsl(328, 75%, 44%)</td>\n",
       "      <td>hsl(159, 95%, 37%)</td>\n",
       "      <td>ANG0127</td>\n",
       "      <td>False</td>\n",
       "      <td>#f39c5e</td>\n",
       "      <td>#c41c76</td>\n",
       "      <td>#05b879</td>\n",
       "    </tr>\n",
       "    <tr>\n",
       "      <th>3</th>\n",
       "      <td>Hitch Trailblazer</td>\n",
       "      <td>earth</td>\n",
       "      <td>stallion</td>\n",
       "      <td>hsl(38, 69%, 68%)</td>\n",
       "      <td>hsl(191, 53%, 46%)</td>\n",
       "      <td>hsl(38, 97%, 39%)</td>\n",
       "      <td>ANG0130</td>\n",
       "      <td>False</td>\n",
       "      <td>#e6bc75</td>\n",
       "      <td>#379db3</td>\n",
       "      <td>#c47d03</td>\n",
       "    </tr>\n",
       "    <tr>\n",
       "      <th>4</th>\n",
       "      <td>Fluttershy</td>\n",
       "      <td>pegasus</td>\n",
       "      <td>mare</td>\n",
       "      <td>hsl(055, 94%, 82%)</td>\n",
       "      <td>hsl(331, 92%, 85%)</td>\n",
       "      <td>hsl(177, 76%, 43%)</td>\n",
       "      <td>1011351</td>\n",
       "      <td>True</td>\n",
       "      <td>#fcf5a6</td>\n",
       "      <td>#fcb6d8</td>\n",
       "      <td>#1ac1b9</td>\n",
       "    </tr>\n",
       "  </tbody>\n",
       "</table>\n",
       "</div>"
      ],
      "text/plain": [
       "                name     kind     group           coat_color  \\\n",
       "0          Applejack    earth      mare  hsl(036, 100%, 71%)   \n",
       "1         Pinkie Pie    earth      mare   hsl(335, 88%, 84%)   \n",
       "2    Sunny Starscout    earth      mare    hsl(25, 86%, 66%)   \n",
       "3  Hitch Trailblazer    earth  stallion    hsl(38, 69%, 68%)   \n",
       "4         Fluttershy  pegasus      mare   hsl(055, 94%, 82%)   \n",
       "\n",
       "           mane_color           eye_color first_appearance  first_season  \\\n",
       "0  hsl(058, 90%, 84%)  hsl(113, 50%, 57%)          1010730          True   \n",
       "1  hsl(336, 92%, 62%)  hsl(198, 94%, 72%)          1010659          True   \n",
       "2  hsl(328, 75%, 44%)  hsl(159, 95%, 37%)          ANG0127         False   \n",
       "3  hsl(191, 53%, 46%)   hsl(38, 97%, 39%)          ANG0130         False   \n",
       "4  hsl(331, 92%, 85%)  hsl(177, 76%, 43%)          1011351          True   \n",
       "\n",
       "  coat_hex mane_hex  eye_hex  \n",
       "0  #ffc46b  #fbf8b1  #67c85b  \n",
       "1  #fab2d0  #f7458c  #74d2fb  \n",
       "2  #f39c5e  #c41c76  #05b879  \n",
       "3  #e6bc75  #379db3  #c47d03  \n",
       "4  #fcf5a6  #fcb6d8  #1ac1b9  "
      ]
     },
     "execution_count": 56,
     "metadata": {},
     "output_type": "execute_result"
    }
   ],
   "source": [
    "df.head()"
   ]
  },
  {
   "cell_type": "code",
   "execution_count": null,
   "id": "2ccdd708-d121-4e9f-8995-b25da87ea6d8",
   "metadata": {},
   "outputs": [],
   "source": []
  },
  {
   "cell_type": "code",
   "execution_count": null,
   "id": "4f70b298-3189-49cd-bffb-081cd285a0db",
   "metadata": {},
   "outputs": [],
   "source": []
  },
  {
   "cell_type": "code",
   "execution_count": null,
   "id": "197f5c91-db0b-4331-868a-ba47402277a9",
   "metadata": {},
   "outputs": [],
   "source": []
  },
  {
   "cell_type": "code",
   "execution_count": null,
   "id": "69e69c90-861b-4ea2-b5ab-14acb08368ee",
   "metadata": {},
   "outputs": [],
   "source": []
  },
  {
   "cell_type": "code",
   "execution_count": null,
   "id": "27432335-6ec2-4f55-a7be-ed586cc6c797",
   "metadata": {},
   "outputs": [],
   "source": []
  },
  {
   "cell_type": "markdown",
   "id": "ad0392c8-b0e0-49ba-8017-c0a839270343",
   "metadata": {},
   "source": [
    "#### Get from the list of ponies"
   ]
  },
  {
   "cell_type": "code",
   "execution_count": 24,
   "id": "a90dbfab-9db4-41f4-a88d-0f102f0173a6",
   "metadata": {},
   "outputs": [],
   "source": [
    "codes = pd.read_html(\"https://mlp.fandom.com/wiki/List_of_ponies/Earth_ponies\")[0]"
   ]
  },
  {
   "cell_type": "code",
   "execution_count": 25,
   "id": "377b849c-de0d-4bcc-b746-6525e7fe920e",
   "metadata": {},
   "outputs": [
    {
     "data": {
      "text/html": [
       "<div>\n",
       "<style scoped>\n",
       "    .dataframe tbody tr th:only-of-type {\n",
       "        vertical-align: middle;\n",
       "    }\n",
       "\n",
       "    .dataframe tbody tr th {\n",
       "        vertical-align: top;\n",
       "    }\n",
       "\n",
       "    .dataframe thead th {\n",
       "        text-align: right;\n",
       "    }\n",
       "</style>\n",
       "<table border=\"1\" class=\"dataframe\">\n",
       "  <thead>\n",
       "    <tr style=\"text-align: right;\">\n",
       "      <th></th>\n",
       "      <th>Legend</th>\n",
       "      <th>Legend.1</th>\n",
       "    </tr>\n",
       "  </thead>\n",
       "  <tbody>\n",
       "    <tr>\n",
       "      <th>0</th>\n",
       "      <td>K</td>\n",
       "      <td>kind: Earth, Pegasus, unicorn, Alicorn</td>\n",
       "    </tr>\n",
       "    <tr>\n",
       "      <th>1</th>\n",
       "      <td>G</td>\n",
       "      <td>group: colt, filly, mare, stallion</td>\n",
       "    </tr>\n",
       "    <tr>\n",
       "      <th>2</th>\n",
       "      <td>C</td>\n",
       "      <td>coat color</td>\n",
       "    </tr>\n",
       "    <tr>\n",
       "      <th>3</th>\n",
       "      <td>M</td>\n",
       "      <td>mane color</td>\n",
       "    </tr>\n",
       "    <tr>\n",
       "      <th>4</th>\n",
       "      <td>E</td>\n",
       "      <td>eye color</td>\n",
       "    </tr>\n",
       "    <tr>\n",
       "      <th>5</th>\n",
       "      <td>F</td>\n",
       "      <td>first appearance or mention outside the opening sequence: season, episode, minute, second</td>\n",
       "    </tr>\n",
       "  </tbody>\n",
       "</table>\n",
       "</div>"
      ],
      "text/plain": [
       "  Legend  \\\n",
       "0      K   \n",
       "1      G   \n",
       "2      C   \n",
       "3      M   \n",
       "4      E   \n",
       "5      F   \n",
       "\n",
       "                                                                                    Legend.1  \n",
       "0                                                     kind: Earth, Pegasus, unicorn, Alicorn  \n",
       "1                                                         group: colt, filly, mare, stallion  \n",
       "2                                                                                 coat color  \n",
       "3                                                                                 mane color  \n",
       "4                                                                                  eye color  \n",
       "5  first appearance or mention outside the opening sequence: season, episode, minute, second  "
      ]
     },
     "execution_count": 25,
     "metadata": {},
     "output_type": "execute_result"
    }
   ],
   "source": [
    "codes"
   ]
  },
  {
   "cell_type": "markdown",
   "id": "64d38c12-224a-4e36-bfab-061965235591",
   "metadata": {},
   "source": [
    "---"
   ]
  },
  {
   "cell_type": "markdown",
   "id": "f9d7a01e-4aad-4d72-a580-72c77da34f18",
   "metadata": {},
   "source": [
    "## Export"
   ]
  },
  {
   "cell_type": "code",
   "execution_count": 26,
   "id": "111a53d9-387f-40dc-b1d0-e7a9c8e019f6",
   "metadata": {},
   "outputs": [],
   "source": [
    "df.to_csv(\"data/processed/ponies_full.csv\", index=False)"
   ]
  },
  {
   "cell_type": "code",
   "execution_count": 27,
   "id": "1b1542ac-9f67-4866-abe4-1f5632aeacc2",
   "metadata": {},
   "outputs": [],
   "source": [
    "kinds.to_csv(\"data/processed/kinds.csv\", index=False)"
   ]
  }
 ],
 "metadata": {
  "kernelspec": {
   "display_name": "Python 3 (ipykernel)",
   "language": "python",
   "name": "python3"
  },
  "language_info": {
   "codemirror_mode": {
    "name": "ipython",
    "version": 3
   },
   "file_extension": ".py",
   "mimetype": "text/x-python",
   "name": "python",
   "nbconvert_exporter": "python",
   "pygments_lexer": "ipython3",
   "version": "3.8.9"
  }
 },
 "nbformat": 4,
 "nbformat_minor": 5
}
